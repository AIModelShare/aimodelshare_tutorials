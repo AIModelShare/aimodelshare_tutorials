{
  "nbformat": 4,
  "nbformat_minor": 0,
  "metadata": {
    "colab": {
      "provenance": [],
      "collapsed_sections": []
    },
    "kernelspec": {
      "name": "python3",
      "display_name": "Python 3"
    },
    "language_info": {
      "name": "python"
    }
  },
  "cells": [
    {
      "cell_type": "markdown",
      "source": [
        "<p align=\"center\"><img width=\"50%\" src=\"https://aimodelsharecontent.s3.amazonaws.com/aimodshare_banner.jpg\" /></p>\n",
        "\n",
        "\n",
        "---\n"
      ],
      "metadata": {
        "id": "m_DMeZsXxpEZ"
      }
    },
    {
      "cell_type": "markdown",
      "metadata": {
        "id": "JXxGTgJz152A"
      },
      "source": [
        "<p align=\"center\"><h1 align=\"center\">Iris Classification Model Submission Guide - Predictions Only (No Model Metadata Extraction)\n",
        "\n",
        "---\n",
        "Let's share our models to a centralized leaderboard, so that we can collaborate and learn from the model experimentation process...\n",
        "\n",
        "**Instructions:**\n",
        "1.   Get data in and set up X_train / X_test / y_train\n",
        "2.   Preprocess data\n",
        "3. Fit model on preprocessed data\n",
        "4. Generate predictions from X_test data and submit to competition\n",
        "5. Repeat submission process to improve place on leaderboard\n",
        "\n"
      ]
    },
    {
      "cell_type": "markdown",
      "source": [
        "# Objective: Predict the species of Iris ('Iris-setosa', 'Iris-versicolor', or  'Iris-virginica') based on it's characteristics (length and width of sepals and petals). \n",
        "\n",
        "---"
      ],
      "metadata": {
        "id": "e8adHnal5OOC"
      }
    },
    {
      "cell_type": "markdown",
      "metadata": {
        "id": "5gSrVJwp3E9H"
      },
      "source": [
        "## 1. Get data in and set up X_train, X_test, y_train objects"
      ]
    },
    {
      "cell_type": "code",
      "metadata": {
        "id": "PLTIaMB3ChSW"
      },
      "source": [
        "#install aimodelshare library\n",
        "! pip install aimodelshare --upgrade"
      ],
      "execution_count": null,
      "outputs": []
    },
    {
      "cell_type": "code",
      "metadata": {
        "colab": {
          "base_uri": "https://localhost:8080/"
        },
        "id": "d3PiJXBhC5y-",
        "outputId": "26746f9e-7493-446e-dff2-50727e0f1ac9"
      },
      "source": [
        "# Get competition data\n",
        "from aimodelshare import download_data\n",
        "download_data('public.ecr.aws/y2e2a1d6/iris_competition_data-repository:latest') "
      ],
      "execution_count": 2,
      "outputs": [
        {
          "output_type": "stream",
          "name": "stdout",
          "text": [
            "Downloading [>                                                ]\n",
            "\n",
            "Data downloaded successfully.\n"
          ]
        }
      ]
    },
    {
      "cell_type": "code",
      "metadata": {
        "colab": {
          "base_uri": "https://localhost:8080/",
          "height": 169
        },
        "id": "jT0qFCZFNzHq",
        "outputId": "475ef3a8-2150-4fae-b5bd-4463fcd22cb3"
      },
      "source": [
        "# Separate data into X_train, y_train, and X_test\n",
        "import pandas as pd\n",
        "y_train = pd.read_csv(\"iris_competition_data/y_train.csv\")\n",
        "y_train_labels = y_train.idxmax(axis=1)\n",
        "\n",
        "X_train = pd.read_csv(\"iris_competition_data/X_train.csv\")\n",
        "X_test=pd.read_csv(\"iris_competition_data/X_test.csv\")\n",
        "\n",
        "X_train.head()"
      ],
      "execution_count": 3,
      "outputs": [
        {
          "output_type": "execute_result",
          "data": {
            "text/plain": [
              "   SepalLengthCm  SepalWidthCm  PetalLengthCm  PetalWidthCm\n",
              "0            6.3           2.7            4.9           1.8\n",
              "1            4.8           3.4            1.9           0.2\n",
              "2            5.0           3.0            1.6           0.2\n",
              "3            5.1           3.3            1.7           0.5\n",
              "4            5.6           2.7            4.2           1.3"
            ],
            "text/html": [
              "\n",
              "  <div id=\"df-29a05cd9-e213-42ef-8919-d163f853e6ec\">\n",
              "    <div class=\"colab-df-container\">\n",
              "      <div>\n",
              "<style scoped>\n",
              "    .dataframe tbody tr th:only-of-type {\n",
              "        vertical-align: middle;\n",
              "    }\n",
              "\n",
              "    .dataframe tbody tr th {\n",
              "        vertical-align: top;\n",
              "    }\n",
              "\n",
              "    .dataframe thead th {\n",
              "        text-align: right;\n",
              "    }\n",
              "</style>\n",
              "<table border=\"1\" class=\"dataframe\">\n",
              "  <thead>\n",
              "    <tr style=\"text-align: right;\">\n",
              "      <th></th>\n",
              "      <th>SepalLengthCm</th>\n",
              "      <th>SepalWidthCm</th>\n",
              "      <th>PetalLengthCm</th>\n",
              "      <th>PetalWidthCm</th>\n",
              "    </tr>\n",
              "  </thead>\n",
              "  <tbody>\n",
              "    <tr>\n",
              "      <th>0</th>\n",
              "      <td>6.3</td>\n",
              "      <td>2.7</td>\n",
              "      <td>4.9</td>\n",
              "      <td>1.8</td>\n",
              "    </tr>\n",
              "    <tr>\n",
              "      <th>1</th>\n",
              "      <td>4.8</td>\n",
              "      <td>3.4</td>\n",
              "      <td>1.9</td>\n",
              "      <td>0.2</td>\n",
              "    </tr>\n",
              "    <tr>\n",
              "      <th>2</th>\n",
              "      <td>5.0</td>\n",
              "      <td>3.0</td>\n",
              "      <td>1.6</td>\n",
              "      <td>0.2</td>\n",
              "    </tr>\n",
              "    <tr>\n",
              "      <th>3</th>\n",
              "      <td>5.1</td>\n",
              "      <td>3.3</td>\n",
              "      <td>1.7</td>\n",
              "      <td>0.5</td>\n",
              "    </tr>\n",
              "    <tr>\n",
              "      <th>4</th>\n",
              "      <td>5.6</td>\n",
              "      <td>2.7</td>\n",
              "      <td>4.2</td>\n",
              "      <td>1.3</td>\n",
              "    </tr>\n",
              "  </tbody>\n",
              "</table>\n",
              "</div>\n",
              "      <button class=\"colab-df-convert\" onclick=\"convertToInteractive('df-29a05cd9-e213-42ef-8919-d163f853e6ec')\"\n",
              "              title=\"Convert this dataframe to an interactive table.\"\n",
              "              style=\"display:none;\">\n",
              "        \n",
              "  <svg xmlns=\"http://www.w3.org/2000/svg\" height=\"24px\"viewBox=\"0 0 24 24\"\n",
              "       width=\"24px\">\n",
              "    <path d=\"M0 0h24v24H0V0z\" fill=\"none\"/>\n",
              "    <path d=\"M18.56 5.44l.94 2.06.94-2.06 2.06-.94-2.06-.94-.94-2.06-.94 2.06-2.06.94zm-11 1L8.5 8.5l.94-2.06 2.06-.94-2.06-.94L8.5 2.5l-.94 2.06-2.06.94zm10 10l.94 2.06.94-2.06 2.06-.94-2.06-.94-.94-2.06-.94 2.06-2.06.94z\"/><path d=\"M17.41 7.96l-1.37-1.37c-.4-.4-.92-.59-1.43-.59-.52 0-1.04.2-1.43.59L10.3 9.45l-7.72 7.72c-.78.78-.78 2.05 0 2.83L4 21.41c.39.39.9.59 1.41.59.51 0 1.02-.2 1.41-.59l7.78-7.78 2.81-2.81c.8-.78.8-2.07 0-2.86zM5.41 20L4 18.59l7.72-7.72 1.47 1.35L5.41 20z\"/>\n",
              "  </svg>\n",
              "      </button>\n",
              "      \n",
              "  <style>\n",
              "    .colab-df-container {\n",
              "      display:flex;\n",
              "      flex-wrap:wrap;\n",
              "      gap: 12px;\n",
              "    }\n",
              "\n",
              "    .colab-df-convert {\n",
              "      background-color: #E8F0FE;\n",
              "      border: none;\n",
              "      border-radius: 50%;\n",
              "      cursor: pointer;\n",
              "      display: none;\n",
              "      fill: #1967D2;\n",
              "      height: 32px;\n",
              "      padding: 0 0 0 0;\n",
              "      width: 32px;\n",
              "    }\n",
              "\n",
              "    .colab-df-convert:hover {\n",
              "      background-color: #E2EBFA;\n",
              "      box-shadow: 0px 1px 2px rgba(60, 64, 67, 0.3), 0px 1px 3px 1px rgba(60, 64, 67, 0.15);\n",
              "      fill: #174EA6;\n",
              "    }\n",
              "\n",
              "    [theme=dark] .colab-df-convert {\n",
              "      background-color: #3B4455;\n",
              "      fill: #D2E3FC;\n",
              "    }\n",
              "\n",
              "    [theme=dark] .colab-df-convert:hover {\n",
              "      background-color: #434B5C;\n",
              "      box-shadow: 0px 1px 3px 1px rgba(0, 0, 0, 0.15);\n",
              "      filter: drop-shadow(0px 1px 2px rgba(0, 0, 0, 0.3));\n",
              "      fill: #FFFFFF;\n",
              "    }\n",
              "  </style>\n",
              "\n",
              "      <script>\n",
              "        const buttonEl =\n",
              "          document.querySelector('#df-29a05cd9-e213-42ef-8919-d163f853e6ec button.colab-df-convert');\n",
              "        buttonEl.style.display =\n",
              "          google.colab.kernel.accessAllowed ? 'block' : 'none';\n",
              "\n",
              "        async function convertToInteractive(key) {\n",
              "          const element = document.querySelector('#df-29a05cd9-e213-42ef-8919-d163f853e6ec');\n",
              "          const dataTable =\n",
              "            await google.colab.kernel.invokeFunction('convertToInteractive',\n",
              "                                                     [key], {});\n",
              "          if (!dataTable) return;\n",
              "\n",
              "          const docLinkHtml = 'Like what you see? Visit the ' +\n",
              "            '<a target=\"_blank\" href=https://colab.research.google.com/notebooks/data_table.ipynb>data table notebook</a>'\n",
              "            + ' to learn more about interactive tables.';\n",
              "          element.innerHTML = '';\n",
              "          dataTable['output_type'] = 'display_data';\n",
              "          await google.colab.output.renderOutput(dataTable, element);\n",
              "          const docLink = document.createElement('div');\n",
              "          docLink.innerHTML = docLinkHtml;\n",
              "          element.appendChild(docLink);\n",
              "        }\n",
              "      </script>\n",
              "    </div>\n",
              "  </div>\n",
              "  "
            ]
          },
          "metadata": {},
          "execution_count": 3
        }
      ]
    },
    {
      "cell_type": "code",
      "source": [
        "print(X_train.shape)\n",
        "print(X_test.shape)\n",
        "print(y_train.shape)"
      ],
      "metadata": {
        "colab": {
          "base_uri": "https://localhost:8080/"
        },
        "id": "Uq_XUtjYxamD",
        "outputId": "c6fdd019-c7e1-4903-f32b-2412869f975c"
      },
      "execution_count": 4,
      "outputs": [
        {
          "output_type": "stream",
          "name": "stdout",
          "text": [
            "(90, 4)\n",
            "(60, 4)\n",
            "(90, 3)\n"
          ]
        }
      ]
    },
    {
      "cell_type": "markdown",
      "metadata": {
        "id": "gEzPoXPj3V7u"
      },
      "source": [
        "##2.   Preprocess data\n"
      ]
    },
    {
      "cell_type": "code",
      "source": [
        "# Write and execute code to preprocess data here"
      ],
      "metadata": {
        "id": "Rud6IJSDzAog"
      },
      "execution_count": null,
      "outputs": []
    },
    {
      "cell_type": "markdown",
      "metadata": {
        "id": "X52kECL43b-O"
      },
      "source": [
        "##3. Fit model on preprocessed data\n"
      ]
    },
    {
      "cell_type": "code",
      "metadata": {
        "id": "NCbBf8j9ClYl"
      },
      "source": [
        "# Write and execute code to fit model on preprocessed data here."
      ],
      "execution_count": null,
      "outputs": []
    },
    {
      "cell_type": "code",
      "metadata": {
        "id": "RtgkM02MDpkO",
        "colab": {
          "base_uri": "https://localhost:8080/"
        },
        "outputId": "f357f36f-bce5-4368-c59a-6ebf57ea4dfe"
      },
      "source": [
        "#Set credentials using modelshare.org username/password\n",
        "\n",
        "from aimodelshare.aws import set_credentials\n",
        "    \n",
        "apiurl=\"https://hrn3jmp2sk.execute-api.us-east-1.amazonaws.com/prod/m\"\n",
        "#This is the unique rest api that powers this Iris Classification Playground\n",
        "\n",
        "set_credentials(apiurl=apiurl)"
      ],
      "execution_count": 5,
      "outputs": [
        {
          "output_type": "stream",
          "name": "stdout",
          "text": [
            "AI Modelshare Username:··········\n",
            "AI Modelshare Password:··········\n",
            "AI Model Share login credentials set successfully.\n"
          ]
        }
      ]
    },
    {
      "cell_type": "code",
      "metadata": {
        "id": "fKNGSww8EGgi"
      },
      "source": [
        "#Instantiate Competition\n",
        "import aimodelshare as ai\n",
        "mycompetition= ai.Competition(apiurl)"
      ],
      "execution_count": 6,
      "outputs": []
    },
    {
      "cell_type": "markdown",
      "source": [
        "## **4. Submit Model predictions to leaderboard (without extracting model architecture information):**\n",
        "- model metadata extraction allows you use compare_models() and instantiate_model() functions."
      ],
      "metadata": {
        "id": "W66Pr1_K2sQV"
      }
    },
    {
      "cell_type": "code",
      "source": [
        "#Generate a list of predictions using X_test data\n",
        "\n",
        "# This example uses randomly chosen values from y_train to generate a list of predictions\n",
        "predicted_values = list(y_train_labels.sample(n=len(X_test.index)))"
      ],
      "metadata": {
        "id": "IS09g9DF0HGP"
      },
      "execution_count": 7,
      "outputs": []
    },
    {
      "cell_type": "code",
      "metadata": {
        "id": "_Ql4wksyEUnP",
        "colab": {
          "base_uri": "https://localhost:8080/"
        },
        "outputId": "989f83ec-60ad-46a1-e593-8e7e615a0ec1"
      },
      "source": [
        "#Submit Model predictions to leaderboard (without extracting model architecture information): \n",
        "\n",
        "# Submit to Competition Leaderboard\n",
        "mycompetition.submit_model(model_filepath = None,\n",
        "                                 preprocessor_filepath=None,\n",
        "                                 prediction_submission=predicted_values)"
      ],
      "execution_count": 8,
      "outputs": [
        {
          "output_type": "stream",
          "name": "stdout",
          "text": [
            "Insert search tags to help users find your model (optional): \n",
            "Provide any useful notes about your model (optional): \n",
            "\n",
            "Your model has been submitted as model version 8\n",
            "\n",
            "To submit code used to create this model or to view current leaderboard navigate to Model Playground: \n",
            "\n",
            " https://www.modelshare.org/detail/model:1733\n"
          ]
        }
      ]
    },
    {
      "cell_type": "code",
      "metadata": {
        "colab": {
          "base_uri": "https://localhost:8080/",
          "height": 264
        },
        "id": "GN1zvAmNEq17",
        "outputId": "055c12a7-95cd-49d2-ce26-e4b51eb265d1"
      },
      "source": [
        "# Get leaderboard to explore current best model architectures\n",
        "\n",
        "# Get raw data in pandas data frame\n",
        "data = mycompetition.get_leaderboard()\n",
        "\n",
        "# Stylize leaderboard data\n",
        "mycompetition.stylize_leaderboard(data)"
      ],
      "execution_count": 9,
      "outputs": [
        {
          "output_type": "execute_result",
          "data": {
            "text/plain": [
              "<pandas.io.formats.style.Styler at 0x7fe9b368c690>"
            ],
            "text/html": [
              "<style type=\"text/css\">\n",
              "#T_494c3_row0_col0 {\n",
              "  text-align: center;\n",
              "  width: 10em;\n",
              "  height: 80%;\n",
              "  background: linear-gradient(90deg,#f5f8d6 90.0%, transparent 90.0%);\n",
              "  color: #251e1b;\n",
              "  font-size: 12px;\n",
              "}\n",
              "#T_494c3_row0_col1 {\n",
              "  text-align: center;\n",
              "  width: 10em;\n",
              "  height: 80%;\n",
              "  background: linear-gradient(90deg,#c778c8 89.5%, transparent 89.5%);\n",
              "  color: #251e1b;\n",
              "  font-size: 12px;\n",
              "}\n",
              "#T_494c3_row0_col2 {\n",
              "  text-align: center;\n",
              "  width: 10em;\n",
              "  height: 80%;\n",
              "  background: linear-gradient(90deg,#ff4971 89.6%, transparent 89.6%);\n",
              "  color: #251e1b;\n",
              "  font-size: 12px;\n",
              "}\n",
              "#T_494c3_row0_col3 {\n",
              "  text-align: center;\n",
              "  width: 10em;\n",
              "  height: 80%;\n",
              "  background: linear-gradient(90deg,#aadbaa 89.6%, transparent 89.6%);\n",
              "  color: #251e1b;\n",
              "  font-size: 12px;\n",
              "}\n",
              "#T_494c3_row0_col4, #T_494c3_row0_col5, #T_494c3_row0_col6, #T_494c3_row0_col7, #T_494c3_row0_col8, #T_494c3_row0_col9, #T_494c3_row0_col10, #T_494c3_row0_col11, #T_494c3_row0_col12, #T_494c3_row0_col13, #T_494c3_row0_col14, #T_494c3_row0_col15, #T_494c3_row0_col16, #T_494c3_row0_col17, #T_494c3_row1_col4, #T_494c3_row1_col5, #T_494c3_row1_col6, #T_494c3_row1_col7, #T_494c3_row1_col8, #T_494c3_row1_col9, #T_494c3_row1_col10, #T_494c3_row1_col11, #T_494c3_row1_col12, #T_494c3_row1_col13, #T_494c3_row1_col14, #T_494c3_row1_col15, #T_494c3_row1_col16, #T_494c3_row1_col17, #T_494c3_row2_col4, #T_494c3_row2_col5, #T_494c3_row2_col6, #T_494c3_row2_col7, #T_494c3_row2_col8, #T_494c3_row2_col9, #T_494c3_row2_col10, #T_494c3_row2_col11, #T_494c3_row2_col12, #T_494c3_row2_col13, #T_494c3_row2_col14, #T_494c3_row2_col15, #T_494c3_row2_col16, #T_494c3_row2_col17, #T_494c3_row3_col4, #T_494c3_row3_col5, #T_494c3_row3_col6, #T_494c3_row3_col7, #T_494c3_row3_col8, #T_494c3_row3_col9, #T_494c3_row3_col10, #T_494c3_row3_col11, #T_494c3_row3_col12, #T_494c3_row3_col13, #T_494c3_row3_col14, #T_494c3_row3_col15, #T_494c3_row3_col16, #T_494c3_row3_col17, #T_494c3_row4_col4, #T_494c3_row4_col5, #T_494c3_row4_col6, #T_494c3_row4_col7, #T_494c3_row4_col8, #T_494c3_row4_col9, #T_494c3_row4_col10, #T_494c3_row4_col11, #T_494c3_row4_col12, #T_494c3_row4_col13, #T_494c3_row4_col14, #T_494c3_row4_col15, #T_494c3_row4_col16, #T_494c3_row4_col17, #T_494c3_row5_col4, #T_494c3_row5_col5, #T_494c3_row5_col6, #T_494c3_row5_col7, #T_494c3_row5_col8, #T_494c3_row5_col9, #T_494c3_row5_col10, #T_494c3_row5_col11, #T_494c3_row5_col12, #T_494c3_row5_col13, #T_494c3_row5_col14, #T_494c3_row5_col15, #T_494c3_row5_col16, #T_494c3_row5_col17, #T_494c3_row6_col4, #T_494c3_row6_col5, #T_494c3_row6_col6, #T_494c3_row6_col7, #T_494c3_row6_col8, #T_494c3_row6_col9, #T_494c3_row6_col10, #T_494c3_row6_col11, #T_494c3_row6_col12, #T_494c3_row6_col13, #T_494c3_row6_col14, #T_494c3_row6_col15, #T_494c3_row6_col16, #T_494c3_row6_col17, #T_494c3_row7_col4, #T_494c3_row7_col5, #T_494c3_row7_col6, #T_494c3_row7_col7, #T_494c3_row7_col8, #T_494c3_row7_col9, #T_494c3_row7_col10, #T_494c3_row7_col11, #T_494c3_row7_col12, #T_494c3_row7_col13, #T_494c3_row7_col14, #T_494c3_row7_col15, #T_494c3_row7_col16, #T_494c3_row7_col17 {\n",
              "  text-align: center;\n",
              "}\n",
              "#T_494c3_row1_col0 {\n",
              "  text-align: center;\n",
              "  width: 10em;\n",
              "  height: 80%;\n",
              "  background: linear-gradient(90deg,#f5f8d6 86.7%, transparent 86.7%);\n",
              "  color: #251e1b;\n",
              "  font-size: 12px;\n",
              "}\n",
              "#T_494c3_row1_col1 {\n",
              "  text-align: center;\n",
              "  width: 10em;\n",
              "  height: 80%;\n",
              "  background: linear-gradient(90deg,#c778c8 85.6%, transparent 85.6%);\n",
              "  color: #251e1b;\n",
              "  font-size: 12px;\n",
              "}\n",
              "#T_494c3_row1_col2 {\n",
              "  text-align: center;\n",
              "  width: 10em;\n",
              "  height: 80%;\n",
              "  background: linear-gradient(90deg,#ff4971 89.7%, transparent 89.7%);\n",
              "  color: #251e1b;\n",
              "  font-size: 12px;\n",
              "}\n",
              "#T_494c3_row1_col3 {\n",
              "  text-align: center;\n",
              "  width: 10em;\n",
              "  height: 80%;\n",
              "  background: linear-gradient(90deg,#aadbaa 86.7%, transparent 86.7%);\n",
              "  color: #251e1b;\n",
              "  font-size: 12px;\n",
              "}\n",
              "#T_494c3_row2_col0 {\n",
              "  text-align: center;\n",
              "  width: 10em;\n",
              "  height: 80%;\n",
              "  background: linear-gradient(90deg,#f5f8d6 73.3%, transparent 73.3%);\n",
              "  color: #251e1b;\n",
              "  font-size: 12px;\n",
              "}\n",
              "#T_494c3_row2_col1 {\n",
              "  text-align: center;\n",
              "  width: 10em;\n",
              "  height: 80%;\n",
              "  background: linear-gradient(90deg,#c778c8 67.5%, transparent 67.5%);\n",
              "  color: #251e1b;\n",
              "  font-size: 12px;\n",
              "}\n",
              "#T_494c3_row2_col2 {\n",
              "  text-align: center;\n",
              "  width: 10em;\n",
              "  height: 80%;\n",
              "  background: linear-gradient(90deg,#ff4971 84.3%, transparent 84.3%);\n",
              "  color: #251e1b;\n",
              "  font-size: 12px;\n",
              "}\n",
              "#T_494c3_row2_col3 {\n",
              "  text-align: center;\n",
              "  width: 10em;\n",
              "  height: 80%;\n",
              "  background: linear-gradient(90deg,#aadbaa 73.3%, transparent 73.3%);\n",
              "  color: #251e1b;\n",
              "  font-size: 12px;\n",
              "}\n",
              "#T_494c3_row3_col0, #T_494c3_row4_col0, #T_494c3_row5_col0 {\n",
              "  text-align: center;\n",
              "  width: 10em;\n",
              "  height: 80%;\n",
              "  background: linear-gradient(90deg,#f5f8d6 70.0%, transparent 70.0%);\n",
              "  color: #251e1b;\n",
              "  font-size: 12px;\n",
              "}\n",
              "#T_494c3_row3_col1, #T_494c3_row4_col1 {\n",
              "  text-align: center;\n",
              "  width: 10em;\n",
              "  height: 80%;\n",
              "  background: linear-gradient(90deg,#c778c8 61.6%, transparent 61.6%);\n",
              "  color: #251e1b;\n",
              "  font-size: 12px;\n",
              "}\n",
              "#T_494c3_row3_col2, #T_494c3_row4_col2 {\n",
              "  text-align: center;\n",
              "  width: 10em;\n",
              "  height: 80%;\n",
              "  background: linear-gradient(90deg,#ff4971 83.3%, transparent 83.3%);\n",
              "  color: #251e1b;\n",
              "  font-size: 12px;\n",
              "}\n",
              "#T_494c3_row3_col3, #T_494c3_row4_col3, #T_494c3_row5_col3 {\n",
              "  text-align: center;\n",
              "  width: 10em;\n",
              "  height: 80%;\n",
              "  background: linear-gradient(90deg,#aadbaa 70.0%, transparent 70.0%);\n",
              "  color: #251e1b;\n",
              "  font-size: 12px;\n",
              "}\n",
              "#T_494c3_row5_col1 {\n",
              "  text-align: center;\n",
              "  width: 10em;\n",
              "  height: 80%;\n",
              "  background: linear-gradient(90deg,#c778c8 60.6%, transparent 60.6%);\n",
              "  color: #251e1b;\n",
              "  font-size: 12px;\n",
              "}\n",
              "#T_494c3_row5_col2 {\n",
              "  text-align: center;\n",
              "  width: 10em;\n",
              "  height: 80%;\n",
              "  background: linear-gradient(90deg,#ff4971 80.3%, transparent 80.3%);\n",
              "  color: #251e1b;\n",
              "  font-size: 12px;\n",
              "}\n",
              "#T_494c3_row6_col0 {\n",
              "  text-align: center;\n",
              "  width: 10em;\n",
              "  height: 80%;\n",
              "  background: linear-gradient(90deg,#f5f8d6 66.7%, transparent 66.7%);\n",
              "  color: #251e1b;\n",
              "  font-size: 12px;\n",
              "}\n",
              "#T_494c3_row6_col1 {\n",
              "  text-align: center;\n",
              "  width: 10em;\n",
              "  height: 80%;\n",
              "  background: linear-gradient(90deg,#c778c8 57.9%, transparent 57.9%);\n",
              "  color: #251e1b;\n",
              "  font-size: 12px;\n",
              "}\n",
              "#T_494c3_row6_col2 {\n",
              "  text-align: center;\n",
              "  width: 10em;\n",
              "  height: 80%;\n",
              "  background: linear-gradient(90deg,#ff4971 78.2%, transparent 78.2%);\n",
              "  color: #251e1b;\n",
              "  font-size: 12px;\n",
              "}\n",
              "#T_494c3_row6_col3 {\n",
              "  text-align: center;\n",
              "  width: 10em;\n",
              "  height: 80%;\n",
              "  background: linear-gradient(90deg,#aadbaa 66.3%, transparent 66.3%);\n",
              "  color: #251e1b;\n",
              "  font-size: 12px;\n",
              "}\n",
              "#T_494c3_row7_col0 {\n",
              "  text-align: center;\n",
              "  width: 10em;\n",
              "  height: 80%;\n",
              "  background: linear-gradient(90deg,#f5f8d6 33.3%, transparent 33.3%);\n",
              "  color: #251e1b;\n",
              "  font-size: 12px;\n",
              "}\n",
              "#T_494c3_row7_col1 {\n",
              "  text-align: center;\n",
              "  width: 10em;\n",
              "  height: 80%;\n",
              "  background: linear-gradient(90deg,#c778c8 33.2%, transparent 33.2%);\n",
              "  color: #251e1b;\n",
              "  font-size: 12px;\n",
              "}\n",
              "#T_494c3_row7_col2 {\n",
              "  text-align: center;\n",
              "  width: 10em;\n",
              "  height: 80%;\n",
              "  background: linear-gradient(90deg,#ff4971 33.7%, transparent 33.7%);\n",
              "  color: #251e1b;\n",
              "  font-size: 12px;\n",
              "}\n",
              "#T_494c3_row7_col3 {\n",
              "  text-align: center;\n",
              "  width: 10em;\n",
              "  height: 80%;\n",
              "  background: linear-gradient(90deg,#aadbaa 33.2%, transparent 33.2%);\n",
              "  color: #251e1b;\n",
              "  font-size: 12px;\n",
              "}\n",
              "</style>\n",
              "<table id=\"T_494c3_\" class=\"dataframe\">\n",
              "  <thead>\n",
              "    <tr>\n",
              "      <th class=\"blank level0\" >&nbsp;</th>\n",
              "      <th class=\"col_heading level0 col0\" >accuracy</th>\n",
              "      <th class=\"col_heading level0 col1\" >f1_score</th>\n",
              "      <th class=\"col_heading level0 col2\" >precision</th>\n",
              "      <th class=\"col_heading level0 col3\" >recall</th>\n",
              "      <th class=\"col_heading level0 col4\" >ml_framework</th>\n",
              "      <th class=\"col_heading level0 col5\" >deep_learning</th>\n",
              "      <th class=\"col_heading level0 col6\" >model_type</th>\n",
              "      <th class=\"col_heading level0 col7\" >depth</th>\n",
              "      <th class=\"col_heading level0 col8\" >num_params</th>\n",
              "      <th class=\"col_heading level0 col9\" >dense_layers</th>\n",
              "      <th class=\"col_heading level0 col10\" >dropout_layers</th>\n",
              "      <th class=\"col_heading level0 col11\" >relu_act</th>\n",
              "      <th class=\"col_heading level0 col12\" >softmax_act</th>\n",
              "      <th class=\"col_heading level0 col13\" >loss</th>\n",
              "      <th class=\"col_heading level0 col14\" >optimizer</th>\n",
              "      <th class=\"col_heading level0 col15\" >memory_size</th>\n",
              "      <th class=\"col_heading level0 col16\" >username</th>\n",
              "      <th class=\"col_heading level0 col17\" >version</th>\n",
              "    </tr>\n",
              "  </thead>\n",
              "  <tbody>\n",
              "    <tr>\n",
              "      <th id=\"T_494c3_level0_row0\" class=\"row_heading level0 row0\" >0</th>\n",
              "      <td id=\"T_494c3_row0_col0\" class=\"data row0 col0\" >90.00%</td>\n",
              "      <td id=\"T_494c3_row0_col1\" class=\"data row0 col1\" >89.47%</td>\n",
              "      <td id=\"T_494c3_row0_col2\" class=\"data row0 col2\" >89.63%</td>\n",
              "      <td id=\"T_494c3_row0_col3\" class=\"data row0 col3\" >89.63%</td>\n",
              "      <td id=\"T_494c3_row0_col4\" class=\"data row0 col4\" >sklearn</td>\n",
              "      <td id=\"T_494c3_row0_col5\" class=\"data row0 col5\" >nan</td>\n",
              "      <td id=\"T_494c3_row0_col6\" class=\"data row0 col6\" >RandomForestClassifier</td>\n",
              "      <td id=\"T_494c3_row0_col7\" class=\"data row0 col7\" >nan</td>\n",
              "      <td id=\"T_494c3_row0_col8\" class=\"data row0 col8\" >nan</td>\n",
              "      <td id=\"T_494c3_row0_col9\" class=\"data row0 col9\" >nan</td>\n",
              "      <td id=\"T_494c3_row0_col10\" class=\"data row0 col10\" >nan</td>\n",
              "      <td id=\"T_494c3_row0_col11\" class=\"data row0 col11\" >nan</td>\n",
              "      <td id=\"T_494c3_row0_col12\" class=\"data row0 col12\" >nan</td>\n",
              "      <td id=\"T_494c3_row0_col13\" class=\"data row0 col13\" >nan</td>\n",
              "      <td id=\"T_494c3_row0_col14\" class=\"data row0 col14\" >nan</td>\n",
              "      <td id=\"T_494c3_row0_col15\" class=\"data row0 col15\" >nan</td>\n",
              "      <td id=\"T_494c3_row0_col16\" class=\"data row0 col16\" >ML_Risk_Mgmnt</td>\n",
              "      <td id=\"T_494c3_row0_col17\" class=\"data row0 col17\" >1</td>\n",
              "    </tr>\n",
              "    <tr>\n",
              "      <th id=\"T_494c3_level0_row1\" class=\"row_heading level0 row1\" >1</th>\n",
              "      <td id=\"T_494c3_row1_col0\" class=\"data row1 col0\" >86.67%</td>\n",
              "      <td id=\"T_494c3_row1_col1\" class=\"data row1 col1\" >85.61%</td>\n",
              "      <td id=\"T_494c3_row1_col2\" class=\"data row1 col2\" >89.74%</td>\n",
              "      <td id=\"T_494c3_row1_col3\" class=\"data row1 col3\" >86.67%</td>\n",
              "      <td id=\"T_494c3_row1_col4\" class=\"data row1 col4\" >sklearn</td>\n",
              "      <td id=\"T_494c3_row1_col5\" class=\"data row1 col5\" >nan</td>\n",
              "      <td id=\"T_494c3_row1_col6\" class=\"data row1 col6\" >SVC</td>\n",
              "      <td id=\"T_494c3_row1_col7\" class=\"data row1 col7\" >nan</td>\n",
              "      <td id=\"T_494c3_row1_col8\" class=\"data row1 col8\" >12.000000</td>\n",
              "      <td id=\"T_494c3_row1_col9\" class=\"data row1 col9\" >nan</td>\n",
              "      <td id=\"T_494c3_row1_col10\" class=\"data row1 col10\" >nan</td>\n",
              "      <td id=\"T_494c3_row1_col11\" class=\"data row1 col11\" >nan</td>\n",
              "      <td id=\"T_494c3_row1_col12\" class=\"data row1 col12\" >nan</td>\n",
              "      <td id=\"T_494c3_row1_col13\" class=\"data row1 col13\" >nan</td>\n",
              "      <td id=\"T_494c3_row1_col14\" class=\"data row1 col14\" >nan</td>\n",
              "      <td id=\"T_494c3_row1_col15\" class=\"data row1 col15\" >nan</td>\n",
              "      <td id=\"T_494c3_row1_col16\" class=\"data row1 col16\" >ML_Risk_Mgmnt</td>\n",
              "      <td id=\"T_494c3_row1_col17\" class=\"data row1 col17\" >2</td>\n",
              "    </tr>\n",
              "    <tr>\n",
              "      <th id=\"T_494c3_level0_row2\" class=\"row_heading level0 row2\" >2</th>\n",
              "      <td id=\"T_494c3_row2_col0\" class=\"data row2 col0\" >73.33%</td>\n",
              "      <td id=\"T_494c3_row2_col1\" class=\"data row2 col1\" >67.52%</td>\n",
              "      <td id=\"T_494c3_row2_col2\" class=\"data row2 col2\" >84.31%</td>\n",
              "      <td id=\"T_494c3_row2_col3\" class=\"data row2 col3\" >73.33%</td>\n",
              "      <td id=\"T_494c3_row2_col4\" class=\"data row2 col4\" >keras</td>\n",
              "      <td id=\"T_494c3_row2_col5\" class=\"data row2 col5\" >True</td>\n",
              "      <td id=\"T_494c3_row2_col6\" class=\"data row2 col6\" >Sequential</td>\n",
              "      <td id=\"T_494c3_row2_col7\" class=\"data row2 col7\" >4.000000</td>\n",
              "      <td id=\"T_494c3_row2_col8\" class=\"data row2 col8\" >19715.000000</td>\n",
              "      <td id=\"T_494c3_row2_col9\" class=\"data row2 col9\" >4.000000</td>\n",
              "      <td id=\"T_494c3_row2_col10\" class=\"data row2 col10\" >nan</td>\n",
              "      <td id=\"T_494c3_row2_col11\" class=\"data row2 col11\" >3.000000</td>\n",
              "      <td id=\"T_494c3_row2_col12\" class=\"data row2 col12\" >1.000000</td>\n",
              "      <td id=\"T_494c3_row2_col13\" class=\"data row2 col13\" >str</td>\n",
              "      <td id=\"T_494c3_row2_col14\" class=\"data row2 col14\" >RMSprop</td>\n",
              "      <td id=\"T_494c3_row2_col15\" class=\"data row2 col15\" >79912.000000</td>\n",
              "      <td id=\"T_494c3_row2_col16\" class=\"data row2 col16\" >ML_Risk_Mgmnt</td>\n",
              "      <td id=\"T_494c3_row2_col17\" class=\"data row2 col17\" >7</td>\n",
              "    </tr>\n",
              "    <tr>\n",
              "      <th id=\"T_494c3_level0_row3\" class=\"row_heading level0 row3\" >3</th>\n",
              "      <td id=\"T_494c3_row3_col0\" class=\"data row3 col0\" >70.00%</td>\n",
              "      <td id=\"T_494c3_row3_col1\" class=\"data row3 col1\" >61.62%</td>\n",
              "      <td id=\"T_494c3_row3_col2\" class=\"data row3 col2\" >83.33%</td>\n",
              "      <td id=\"T_494c3_row3_col3\" class=\"data row3 col3\" >70.00%</td>\n",
              "      <td id=\"T_494c3_row3_col4\" class=\"data row3 col4\" >sklearn</td>\n",
              "      <td id=\"T_494c3_row3_col5\" class=\"data row3 col5\" >nan</td>\n",
              "      <td id=\"T_494c3_row3_col6\" class=\"data row3 col6\" >RandomForestClassifier</td>\n",
              "      <td id=\"T_494c3_row3_col7\" class=\"data row3 col7\" >nan</td>\n",
              "      <td id=\"T_494c3_row3_col8\" class=\"data row3 col8\" >nan</td>\n",
              "      <td id=\"T_494c3_row3_col9\" class=\"data row3 col9\" >nan</td>\n",
              "      <td id=\"T_494c3_row3_col10\" class=\"data row3 col10\" >nan</td>\n",
              "      <td id=\"T_494c3_row3_col11\" class=\"data row3 col11\" >nan</td>\n",
              "      <td id=\"T_494c3_row3_col12\" class=\"data row3 col12\" >nan</td>\n",
              "      <td id=\"T_494c3_row3_col13\" class=\"data row3 col13\" >nan</td>\n",
              "      <td id=\"T_494c3_row3_col14\" class=\"data row3 col14\" >nan</td>\n",
              "      <td id=\"T_494c3_row3_col15\" class=\"data row3 col15\" >nan</td>\n",
              "      <td id=\"T_494c3_row3_col16\" class=\"data row3 col16\" >ML_Risk_Mgmnt</td>\n",
              "      <td id=\"T_494c3_row3_col17\" class=\"data row3 col17\" >3</td>\n",
              "    </tr>\n",
              "    <tr>\n",
              "      <th id=\"T_494c3_level0_row4\" class=\"row_heading level0 row4\" >4</th>\n",
              "      <td id=\"T_494c3_row4_col0\" class=\"data row4 col0\" >70.00%</td>\n",
              "      <td id=\"T_494c3_row4_col1\" class=\"data row4 col1\" >61.62%</td>\n",
              "      <td id=\"T_494c3_row4_col2\" class=\"data row4 col2\" >83.33%</td>\n",
              "      <td id=\"T_494c3_row4_col3\" class=\"data row4 col3\" >70.00%</td>\n",
              "      <td id=\"T_494c3_row4_col4\" class=\"data row4 col4\" >sklearn</td>\n",
              "      <td id=\"T_494c3_row4_col5\" class=\"data row4 col5\" >nan</td>\n",
              "      <td id=\"T_494c3_row4_col6\" class=\"data row4 col6\" >SVC</td>\n",
              "      <td id=\"T_494c3_row4_col7\" class=\"data row4 col7\" >nan</td>\n",
              "      <td id=\"T_494c3_row4_col8\" class=\"data row4 col8\" >12.000000</td>\n",
              "      <td id=\"T_494c3_row4_col9\" class=\"data row4 col9\" >nan</td>\n",
              "      <td id=\"T_494c3_row4_col10\" class=\"data row4 col10\" >nan</td>\n",
              "      <td id=\"T_494c3_row4_col11\" class=\"data row4 col11\" >nan</td>\n",
              "      <td id=\"T_494c3_row4_col12\" class=\"data row4 col12\" >nan</td>\n",
              "      <td id=\"T_494c3_row4_col13\" class=\"data row4 col13\" >nan</td>\n",
              "      <td id=\"T_494c3_row4_col14\" class=\"data row4 col14\" >nan</td>\n",
              "      <td id=\"T_494c3_row4_col15\" class=\"data row4 col15\" >nan</td>\n",
              "      <td id=\"T_494c3_row4_col16\" class=\"data row4 col16\" >ML_Risk_Mgmnt</td>\n",
              "      <td id=\"T_494c3_row4_col17\" class=\"data row4 col17\" >4</td>\n",
              "    </tr>\n",
              "    <tr>\n",
              "      <th id=\"T_494c3_level0_row5\" class=\"row_heading level0 row5\" >5</th>\n",
              "      <td id=\"T_494c3_row5_col0\" class=\"data row5 col0\" >70.00%</td>\n",
              "      <td id=\"T_494c3_row5_col1\" class=\"data row5 col1\" >60.62%</td>\n",
              "      <td id=\"T_494c3_row5_col2\" class=\"data row5 col2\" >80.29%</td>\n",
              "      <td id=\"T_494c3_row5_col3\" class=\"data row5 col3\" >70.00%</td>\n",
              "      <td id=\"T_494c3_row5_col4\" class=\"data row5 col4\" >keras</td>\n",
              "      <td id=\"T_494c3_row5_col5\" class=\"data row5 col5\" >True</td>\n",
              "      <td id=\"T_494c3_row5_col6\" class=\"data row5 col6\" >Sequential</td>\n",
              "      <td id=\"T_494c3_row5_col7\" class=\"data row5 col7\" >4.000000</td>\n",
              "      <td id=\"T_494c3_row5_col8\" class=\"data row5 col8\" >995.000000</td>\n",
              "      <td id=\"T_494c3_row5_col9\" class=\"data row5 col9\" >4.000000</td>\n",
              "      <td id=\"T_494c3_row5_col10\" class=\"data row5 col10\" >nan</td>\n",
              "      <td id=\"T_494c3_row5_col11\" class=\"data row5 col11\" >3.000000</td>\n",
              "      <td id=\"T_494c3_row5_col12\" class=\"data row5 col12\" >1.000000</td>\n",
              "      <td id=\"T_494c3_row5_col13\" class=\"data row5 col13\" >str</td>\n",
              "      <td id=\"T_494c3_row5_col14\" class=\"data row5 col14\" >SGD</td>\n",
              "      <td id=\"T_494c3_row5_col15\" class=\"data row5 col15\" >5032.000000</td>\n",
              "      <td id=\"T_494c3_row5_col16\" class=\"data row5 col16\" >ML_Risk_Mgmnt</td>\n",
              "      <td id=\"T_494c3_row5_col17\" class=\"data row5 col17\" >5</td>\n",
              "    </tr>\n",
              "    <tr>\n",
              "      <th id=\"T_494c3_level0_row6\" class=\"row_heading level0 row6\" >6</th>\n",
              "      <td id=\"T_494c3_row6_col0\" class=\"data row6 col0\" >66.67%</td>\n",
              "      <td id=\"T_494c3_row6_col1\" class=\"data row6 col1\" >57.95%</td>\n",
              "      <td id=\"T_494c3_row6_col2\" class=\"data row6 col2\" >78.21%</td>\n",
              "      <td id=\"T_494c3_row6_col3\" class=\"data row6 col3\" >66.30%</td>\n",
              "      <td id=\"T_494c3_row6_col4\" class=\"data row6 col4\" >keras</td>\n",
              "      <td id=\"T_494c3_row6_col5\" class=\"data row6 col5\" >True</td>\n",
              "      <td id=\"T_494c3_row6_col6\" class=\"data row6 col6\" >Sequential</td>\n",
              "      <td id=\"T_494c3_row6_col7\" class=\"data row6 col7\" >7.000000</td>\n",
              "      <td id=\"T_494c3_row6_col8\" class=\"data row6 col8\" >17411.000000</td>\n",
              "      <td id=\"T_494c3_row6_col9\" class=\"data row6 col9\" >5.000000</td>\n",
              "      <td id=\"T_494c3_row6_col10\" class=\"data row6 col10\" >2.000000</td>\n",
              "      <td id=\"T_494c3_row6_col11\" class=\"data row6 col11\" >4.000000</td>\n",
              "      <td id=\"T_494c3_row6_col12\" class=\"data row6 col12\" >1.000000</td>\n",
              "      <td id=\"T_494c3_row6_col13\" class=\"data row6 col13\" >str</td>\n",
              "      <td id=\"T_494c3_row6_col14\" class=\"data row6 col14\" >SGD</td>\n",
              "      <td id=\"T_494c3_row6_col15\" class=\"data row6 col15\" >70984.000000</td>\n",
              "      <td id=\"T_494c3_row6_col16\" class=\"data row6 col16\" >ML_Risk_Mgmnt</td>\n",
              "      <td id=\"T_494c3_row6_col17\" class=\"data row6 col17\" >6</td>\n",
              "    </tr>\n",
              "    <tr>\n",
              "      <th id=\"T_494c3_level0_row7\" class=\"row_heading level0 row7\" >7</th>\n",
              "      <td id=\"T_494c3_row7_col0\" class=\"data row7 col0\" >33.33%</td>\n",
              "      <td id=\"T_494c3_row7_col1\" class=\"data row7 col1\" >33.23%</td>\n",
              "      <td id=\"T_494c3_row7_col2\" class=\"data row7 col2\" >33.71%</td>\n",
              "      <td id=\"T_494c3_row7_col3\" class=\"data row7 col3\" >33.23%</td>\n",
              "      <td id=\"T_494c3_row7_col4\" class=\"data row7 col4\" >unknown</td>\n",
              "      <td id=\"T_494c3_row7_col5\" class=\"data row7 col5\" >nan</td>\n",
              "      <td id=\"T_494c3_row7_col6\" class=\"data row7 col6\" >unknown</td>\n",
              "      <td id=\"T_494c3_row7_col7\" class=\"data row7 col7\" >nan</td>\n",
              "      <td id=\"T_494c3_row7_col8\" class=\"data row7 col8\" >nan</td>\n",
              "      <td id=\"T_494c3_row7_col9\" class=\"data row7 col9\" >nan</td>\n",
              "      <td id=\"T_494c3_row7_col10\" class=\"data row7 col10\" >nan</td>\n",
              "      <td id=\"T_494c3_row7_col11\" class=\"data row7 col11\" >nan</td>\n",
              "      <td id=\"T_494c3_row7_col12\" class=\"data row7 col12\" >nan</td>\n",
              "      <td id=\"T_494c3_row7_col13\" class=\"data row7 col13\" >nan</td>\n",
              "      <td id=\"T_494c3_row7_col14\" class=\"data row7 col14\" >nan</td>\n",
              "      <td id=\"T_494c3_row7_col15\" class=\"data row7 col15\" >nan</td>\n",
              "      <td id=\"T_494c3_row7_col16\" class=\"data row7 col16\" >ML_Risk_Mgmnt</td>\n",
              "      <td id=\"T_494c3_row7_col17\" class=\"data row7 col17\" >8</td>\n",
              "    </tr>\n",
              "  </tbody>\n",
              "</table>\n"
            ]
          },
          "metadata": {},
          "execution_count": 9
        }
      ]
    },
    {
      "cell_type": "markdown",
      "source": [
        "You can also compare two or more models for any models submitted to the leaderboard using example code for model metadata extraction (see code tab for this competition at www.modelshare.org for submission examples.)\n",
        "```\n",
        "data=mycompetition.compare_models([1,2], verbose=1)\n",
        "mycompetition.stylize_compare(data)\n",
        "```\n",
        "\n"
      ],
      "metadata": {
        "id": "OK9F-jPs38K5"
      }
    },
    {
      "cell_type": "markdown",
      "metadata": {
        "id": "bwNKs0wP4r5s"
      },
      "source": [
        "#####  (Optional Extension) Submit Model With Custom Metadata: \n",
        "Can use to add team names or any other missing data you may wish to share on the leaderboard\n"
      ]
    },
    {
      "cell_type": "code",
      "metadata": {
        "id": "FgSs5PAtPCZH"
      },
      "source": [
        "# Custom metadata can be added by passing a dict to the custom_metadata argument of the submit_model() method\n",
        "# This option can be used to fill in missing data points or add new columns to the leaderboard\n",
        "\n",
        "custom_meta = {'team': 'team one',\n",
        "               'model_type': 'your_model_type',\n",
        "               'new_column': 'new metadata'}\n",
        "\n",
        "mycompetition.submit_model(model_filepath = None,\n",
        "                                 preprocessor_filepath=None,\n",
        "                                 prediction_submission=predicted_values,\n",
        "                                 custom_metadata = custom_meta)"
      ],
      "execution_count": null,
      "outputs": []
    }
  ]
}