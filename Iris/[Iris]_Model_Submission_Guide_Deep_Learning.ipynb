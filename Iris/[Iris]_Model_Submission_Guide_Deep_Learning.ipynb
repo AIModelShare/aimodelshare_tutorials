{
  "nbformat": 4,
  "nbformat_minor": 0,
  "metadata": {
    "colab": {
      "provenance": [],
      "collapsed_sections": []
    },
    "kernelspec": {
      "name": "python3",
      "display_name": "Python 3"
    },
    "language_info": {
      "name": "python"
    }
  },
  "cells": [
    {
      "cell_type": "markdown",
      "source": [
        "<p align=\"center\"><img width=\"50%\" src=\"https://aimodelsharecontent.s3.amazonaws.com/aimodshare_banner.jpg\" /></p>\n",
        "\n",
        "\n",
        "---"
      ],
      "metadata": {
        "id": "ekczNcQxUpzT"
      }
    },
    {
      "cell_type": "markdown",
      "metadata": {
        "id": "JXxGTgJz152A"
      },
      "source": [
        "## Model Submission Guide: Iris Classification Competition\n",
        "Let's share our models to a centralized leaderboard, so that we can collaborate and learn from the model experimentation process...\n",
        "\n",
        "**Instructions:**\n",
        "1.   Get data in and set up X_train / X_test / y_train\n",
        "2.   Preprocess data using Sklearn Column Transformer/ Write and Save Preprocessor function\n",
        "3. Fit model on preprocessed data and save preprocessor function and model \n",
        "4. Generate predictions from X_test data and submit model to competition\n",
        "5. Repeat submission process to improve place on leaderboard\n",
        "\n"
      ]
    },
    {
      "cell_type": "markdown",
      "metadata": {
        "id": "5gSrVJwp3E9H"
      },
      "source": [
        "## 1. Get data in and set up X_train, X_test, y_train objects"
      ]
    },
    {
      "cell_type": "code",
      "metadata": {
        "id": "PLTIaMB3ChSW"
      },
      "source": [
        "#install aimodelshare library\n",
        "! pip install aimodelshare --upgrade"
      ],
      "execution_count": null,
      "outputs": []
    },
    {
      "cell_type": "code",
      "metadata": {
        "colab": {
          "base_uri": "https://localhost:8080/"
        },
        "id": "d3PiJXBhC5y-",
        "outputId": "4f343661-da31-4061-d76d-99a35b9a3a27"
      },
      "source": [
        "# Get competition data\n",
        "from aimodelshare import download_data\n",
        "download_data('public.ecr.aws/y2e2a1d6/iris_competition_data-repository:latest') "
      ],
      "execution_count": 2,
      "outputs": [
        {
          "output_type": "stream",
          "name": "stdout",
          "text": [
            "Downloading [>                                                ]\n",
            "\n",
            "Data downloaded successfully.\n"
          ]
        }
      ]
    },
    {
      "cell_type": "code",
      "metadata": {
        "colab": {
          "base_uri": "https://localhost:8080/",
          "height": 169
        },
        "id": "jT0qFCZFNzHq",
        "outputId": "cc627d0c-1882-4b30-d38f-c6e0d5c2cd8a"
      },
      "source": [
        "# Separate data into X_train, y_train, and X_test\n",
        "import pandas as pd\n",
        "y_train = pd.read_csv(\"iris_competition_data/y_train.csv\")\n",
        "y_train_labels = y_train.idxmax(axis=1)\n",
        "\n",
        "X_train = pd.read_csv(\"iris_competition_data/X_train.csv\")\n",
        "X_test=pd.read_csv(\"iris_competition_data/X_test.csv\")\n",
        "\n",
        "X_train.head()"
      ],
      "execution_count": 3,
      "outputs": [
        {
          "output_type": "execute_result",
          "data": {
            "text/plain": [
              "   SepalLengthCm  SepalWidthCm  PetalLengthCm  PetalWidthCm\n",
              "0            6.3           2.7            4.9           1.8\n",
              "1            4.8           3.4            1.9           0.2\n",
              "2            5.0           3.0            1.6           0.2\n",
              "3            5.1           3.3            1.7           0.5\n",
              "4            5.6           2.7            4.2           1.3"
            ],
            "text/html": [
              "\n",
              "  <div id=\"df-6dabc988-50bb-4884-8cd8-e21d258a08e7\">\n",
              "    <div class=\"colab-df-container\">\n",
              "      <div>\n",
              "<style scoped>\n",
              "    .dataframe tbody tr th:only-of-type {\n",
              "        vertical-align: middle;\n",
              "    }\n",
              "\n",
              "    .dataframe tbody tr th {\n",
              "        vertical-align: top;\n",
              "    }\n",
              "\n",
              "    .dataframe thead th {\n",
              "        text-align: right;\n",
              "    }\n",
              "</style>\n",
              "<table border=\"1\" class=\"dataframe\">\n",
              "  <thead>\n",
              "    <tr style=\"text-align: right;\">\n",
              "      <th></th>\n",
              "      <th>SepalLengthCm</th>\n",
              "      <th>SepalWidthCm</th>\n",
              "      <th>PetalLengthCm</th>\n",
              "      <th>PetalWidthCm</th>\n",
              "    </tr>\n",
              "  </thead>\n",
              "  <tbody>\n",
              "    <tr>\n",
              "      <th>0</th>\n",
              "      <td>6.3</td>\n",
              "      <td>2.7</td>\n",
              "      <td>4.9</td>\n",
              "      <td>1.8</td>\n",
              "    </tr>\n",
              "    <tr>\n",
              "      <th>1</th>\n",
              "      <td>4.8</td>\n",
              "      <td>3.4</td>\n",
              "      <td>1.9</td>\n",
              "      <td>0.2</td>\n",
              "    </tr>\n",
              "    <tr>\n",
              "      <th>2</th>\n",
              "      <td>5.0</td>\n",
              "      <td>3.0</td>\n",
              "      <td>1.6</td>\n",
              "      <td>0.2</td>\n",
              "    </tr>\n",
              "    <tr>\n",
              "      <th>3</th>\n",
              "      <td>5.1</td>\n",
              "      <td>3.3</td>\n",
              "      <td>1.7</td>\n",
              "      <td>0.5</td>\n",
              "    </tr>\n",
              "    <tr>\n",
              "      <th>4</th>\n",
              "      <td>5.6</td>\n",
              "      <td>2.7</td>\n",
              "      <td>4.2</td>\n",
              "      <td>1.3</td>\n",
              "    </tr>\n",
              "  </tbody>\n",
              "</table>\n",
              "</div>\n",
              "      <button class=\"colab-df-convert\" onclick=\"convertToInteractive('df-6dabc988-50bb-4884-8cd8-e21d258a08e7')\"\n",
              "              title=\"Convert this dataframe to an interactive table.\"\n",
              "              style=\"display:none;\">\n",
              "        \n",
              "  <svg xmlns=\"http://www.w3.org/2000/svg\" height=\"24px\"viewBox=\"0 0 24 24\"\n",
              "       width=\"24px\">\n",
              "    <path d=\"M0 0h24v24H0V0z\" fill=\"none\"/>\n",
              "    <path d=\"M18.56 5.44l.94 2.06.94-2.06 2.06-.94-2.06-.94-.94-2.06-.94 2.06-2.06.94zm-11 1L8.5 8.5l.94-2.06 2.06-.94-2.06-.94L8.5 2.5l-.94 2.06-2.06.94zm10 10l.94 2.06.94-2.06 2.06-.94-2.06-.94-.94-2.06-.94 2.06-2.06.94z\"/><path d=\"M17.41 7.96l-1.37-1.37c-.4-.4-.92-.59-1.43-.59-.52 0-1.04.2-1.43.59L10.3 9.45l-7.72 7.72c-.78.78-.78 2.05 0 2.83L4 21.41c.39.39.9.59 1.41.59.51 0 1.02-.2 1.41-.59l7.78-7.78 2.81-2.81c.8-.78.8-2.07 0-2.86zM5.41 20L4 18.59l7.72-7.72 1.47 1.35L5.41 20z\"/>\n",
              "  </svg>\n",
              "      </button>\n",
              "      \n",
              "  <style>\n",
              "    .colab-df-container {\n",
              "      display:flex;\n",
              "      flex-wrap:wrap;\n",
              "      gap: 12px;\n",
              "    }\n",
              "\n",
              "    .colab-df-convert {\n",
              "      background-color: #E8F0FE;\n",
              "      border: none;\n",
              "      border-radius: 50%;\n",
              "      cursor: pointer;\n",
              "      display: none;\n",
              "      fill: #1967D2;\n",
              "      height: 32px;\n",
              "      padding: 0 0 0 0;\n",
              "      width: 32px;\n",
              "    }\n",
              "\n",
              "    .colab-df-convert:hover {\n",
              "      background-color: #E2EBFA;\n",
              "      box-shadow: 0px 1px 2px rgba(60, 64, 67, 0.3), 0px 1px 3px 1px rgba(60, 64, 67, 0.15);\n",
              "      fill: #174EA6;\n",
              "    }\n",
              "\n",
              "    [theme=dark] .colab-df-convert {\n",
              "      background-color: #3B4455;\n",
              "      fill: #D2E3FC;\n",
              "    }\n",
              "\n",
              "    [theme=dark] .colab-df-convert:hover {\n",
              "      background-color: #434B5C;\n",
              "      box-shadow: 0px 1px 3px 1px rgba(0, 0, 0, 0.15);\n",
              "      filter: drop-shadow(0px 1px 2px rgba(0, 0, 0, 0.3));\n",
              "      fill: #FFFFFF;\n",
              "    }\n",
              "  </style>\n",
              "\n",
              "      <script>\n",
              "        const buttonEl =\n",
              "          document.querySelector('#df-6dabc988-50bb-4884-8cd8-e21d258a08e7 button.colab-df-convert');\n",
              "        buttonEl.style.display =\n",
              "          google.colab.kernel.accessAllowed ? 'block' : 'none';\n",
              "\n",
              "        async function convertToInteractive(key) {\n",
              "          const element = document.querySelector('#df-6dabc988-50bb-4884-8cd8-e21d258a08e7');\n",
              "          const dataTable =\n",
              "            await google.colab.kernel.invokeFunction('convertToInteractive',\n",
              "                                                     [key], {});\n",
              "          if (!dataTable) return;\n",
              "\n",
              "          const docLinkHtml = 'Like what you see? Visit the ' +\n",
              "            '<a target=\"_blank\" href=https://colab.research.google.com/notebooks/data_table.ipynb>data table notebook</a>'\n",
              "            + ' to learn more about interactive tables.';\n",
              "          element.innerHTML = '';\n",
              "          dataTable['output_type'] = 'display_data';\n",
              "          await google.colab.output.renderOutput(dataTable, element);\n",
              "          const docLink = document.createElement('div');\n",
              "          docLink.innerHTML = docLinkHtml;\n",
              "          element.appendChild(docLink);\n",
              "        }\n",
              "      </script>\n",
              "    </div>\n",
              "  </div>\n",
              "  "
            ]
          },
          "metadata": {},
          "execution_count": 3
        }
      ]
    },
    {
      "cell_type": "markdown",
      "metadata": {
        "id": "gEzPoXPj3V7u"
      },
      "source": [
        "##2.   Preprocess data using Sklearn / Write and Save Preprocessor function\n"
      ]
    },
    {
      "cell_type": "code",
      "metadata": {
        "id": "16QV9Y9TC3B3",
        "colab": {
          "base_uri": "https://localhost:8080/"
        },
        "outputId": "9c5fb2d9-5d2a-49d5-ee5e-6e2babc83406"
      },
      "source": [
        "# Simple Preprocessor with sklearn \n",
        "\n",
        "from sklearn.preprocessing import StandardScaler\n",
        "\n",
        "scaler = StandardScaler()\n",
        "scaler.fit(X_train)"
      ],
      "execution_count": 4,
      "outputs": [
        {
          "output_type": "execute_result",
          "data": {
            "text/plain": [
              "StandardScaler()"
            ]
          },
          "metadata": {},
          "execution_count": 4
        }
      ]
    },
    {
      "cell_type": "code",
      "source": [
        "# Here is where we actually write the preprocessor function:\n",
        "def preprocessor(data):\n",
        "    preprocessed_data=scaler.transform(data)\n",
        "    return preprocessed_data"
      ],
      "metadata": {
        "id": "S_PaNOG0SUIk"
      },
      "execution_count": 5,
      "outputs": []
    },
    {
      "cell_type": "code",
      "source": [
        "# check shape of X data after preprocessing it using our new function\n",
        "preprocessor(X_train).shape"
      ],
      "metadata": {
        "colab": {
          "base_uri": "https://localhost:8080/"
        },
        "id": "a1IPy9xvSWBp",
        "outputId": "96bba3ab-334d-4503-e2bb-578a4853109a"
      },
      "execution_count": 6,
      "outputs": [
        {
          "output_type": "execute_result",
          "data": {
            "text/plain": [
              "(90, 4)"
            ]
          },
          "metadata": {},
          "execution_count": 6
        }
      ]
    },
    {
      "cell_type": "markdown",
      "metadata": {
        "id": "X52kECL43b-O"
      },
      "source": [
        "##3. Fit model on preprocessed data and save preprocessor function and model \n"
      ]
    },
    {
      "cell_type": "code",
      "metadata": {
        "id": "NCbBf8j9ClYl"
      },
      "source": [
        "import keras\n",
        "from keras.models import Sequential\n",
        "from keras.layers import Dense, Activation\n",
        "\n",
        "model = Sequential()\n",
        "model.add(Dense(16, input_dim=4, activation='relu'))\n",
        "model.add(Dense(16, activation='relu'))\n",
        "model.add(Dense(32, activation='relu'))\n",
        "\n",
        "model.add(Dense(3, activation='softmax')) \n",
        "                                            \n",
        "# Compile model\n",
        "model.compile(loss='categorical_crossentropy', optimizer='sgd', metrics=['accuracy'])\n",
        "\n",
        "# Fitting the NN to the Training set\n",
        "model.fit(preprocessor(X_train), y_train, \n",
        "               epochs = 15, validation_split=0.25) "
      ],
      "execution_count": null,
      "outputs": []
    },
    {
      "cell_type": "markdown",
      "metadata": {
        "id": "zmJAnmO-5AcU"
      },
      "source": [
        "#### Save preprocessor function to local \"preprocessor.zip\" file"
      ]
    },
    {
      "cell_type": "code",
      "metadata": {
        "colab": {
          "base_uri": "https://localhost:8080/"
        },
        "id": "4VGacc0LDaMA",
        "outputId": "9fb15393-6b83-4b87-fc5b-ef933fb1629a"
      },
      "source": [
        "import aimodelshare as ai\n",
        "ai.export_preprocessor(preprocessor,\"\") "
      ],
      "execution_count": 8,
      "outputs": [
        {
          "output_type": "stream",
          "name": "stdout",
          "text": [
            "Your preprocessor is now saved to 'preprocessor.zip'\n"
          ]
        }
      ]
    },
    {
      "cell_type": "markdown",
      "metadata": {
        "id": "oOWBa8Cv5LdL"
      },
      "source": [
        "#### Save model to local \".onnx\" file"
      ]
    },
    {
      "cell_type": "code",
      "metadata": {
        "id": "pEhvnRiQDlY5"
      },
      "source": [
        "# Save keras model to local ONNX file\n",
        "from aimodelshare.aimsonnx import model_to_onnx\n",
        "\n",
        "onnx_model = model_to_onnx(model, framework='keras',\n",
        "                          transfer_learning=False,\n",
        "                          deep_learning=True)\n",
        "\n",
        "with open(\"model.onnx\", \"wb\") as f:\n",
        "    f.write(onnx_model.SerializeToString())"
      ],
      "execution_count": 9,
      "outputs": []
    },
    {
      "cell_type": "markdown",
      "metadata": {
        "id": "gHWkAzvX3m8O"
      },
      "source": [
        "## 4. Generate predictions from X_test data and submit model to competition\n"
      ]
    },
    {
      "cell_type": "code",
      "metadata": {
        "colab": {
          "base_uri": "https://localhost:8080/"
        },
        "id": "RtgkM02MDpkO",
        "outputId": "91680066-ed8d-46ef-d86d-f09896d753f9"
      },
      "source": [
        "#Set credentials using modelshare.org username/password\n",
        "\n",
        "from aimodelshare.aws import set_credentials\n",
        "\n",
        "#This is the unique rest api that powers this Iris Classification Playground -- make sure to update the apiurl for new competition deployments\n",
        "apiurl=\"https://xz8j6abeg2.execute-api.us-east-1.amazonaws.com/prod/m\"\n",
        "\n",
        "set_credentials(apiurl=apiurl)"
      ],
      "execution_count": 10,
      "outputs": [
        {
          "output_type": "stream",
          "name": "stdout",
          "text": [
            "AI Modelshare Username:··········\n",
            "AI Modelshare Password:··········\n",
            "AI Model Share login credentials set successfully.\n"
          ]
        }
      ]
    },
    {
      "cell_type": "code",
      "metadata": {
        "id": "fKNGSww8EGgi"
      },
      "source": [
        "#Instantiate Competition\n",
        "import aimodelshare as ai\n",
        "mycompetition= ai.Competition(apiurl)"
      ],
      "execution_count": 11,
      "outputs": []
    },
    {
      "cell_type": "code",
      "metadata": {
        "id": "_Ql4wksyEUnP",
        "colab": {
          "base_uri": "https://localhost:8080/"
        },
        "outputId": "87e6b661-eb94-475f-9585-cfb3b3a48486"
      },
      "source": [
        "#Submit Model 1: \n",
        "\n",
        "#-- Generate predicted y values (Model 1)\n",
        "#Note: Keras predict returns the predicted column index location for classification models\n",
        "prediction_column_index=model.predict(preprocessor(X_test)).argmax(axis=1)\n",
        "\n",
        "# extract correct prediction labels \n",
        "prediction_labels = [y_train.columns[i] for i in prediction_column_index]\n",
        "\n",
        "# Submit Model 1 to Competition Leaderboard\n",
        "mycompetition.submit_model(model_filepath = \"model.onnx\",\n",
        "                                 preprocessor_filepath=\"preprocessor.zip\",\n",
        "                                 prediction_submission=prediction_labels)"
      ],
      "execution_count": 12,
      "outputs": [
        {
          "output_type": "stream",
          "name": "stdout",
          "text": [
            "Insert search tags to help users find your model (optional): \n",
            "Provide any useful notes about your model (optional): \n",
            "\n",
            "Your model has been submitted as model version 5\n",
            "\n",
            "To submit code used to create this model or to view current leaderboard navigate to Model Playground: \n",
            "\n",
            " https://www.modelshare.org/detail/model:1724\n"
          ]
        }
      ]
    },
    {
      "cell_type": "code",
      "metadata": {
        "colab": {
          "base_uri": "https://localhost:8080/",
          "height": 189
        },
        "id": "GN1zvAmNEq17",
        "outputId": "692107a7-a114-4ec1-8ea7-fe8ef786720a"
      },
      "source": [
        "# Get leaderboard to explore current best model architectures\n",
        "\n",
        "# Get raw data in pandas data frame\n",
        "data = mycompetition.get_leaderboard()\n",
        "\n",
        "# Stylize leaderboard data\n",
        "mycompetition.stylize_leaderboard(data)"
      ],
      "execution_count": 13,
      "outputs": [
        {
          "output_type": "execute_result",
          "data": {
            "text/plain": [
              "<pandas.io.formats.style.Styler at 0x7fcc52fb6bd0>"
            ],
            "text/html": [
              "<style type=\"text/css\">\n",
              "#T_a19eb_row0_col0, #T_a19eb_row1_col0, #T_a19eb_row2_col0, #T_a19eb_row3_col0 {\n",
              "  text-align: center;\n",
              "  width: 10em;\n",
              "  height: 80%;\n",
              "  background: linear-gradient(90deg,#f5f8d6 96.7%, transparent 96.7%);\n",
              "  color: #251e1b;\n",
              "  font-size: 12px;\n",
              "}\n",
              "#T_a19eb_row0_col1, #T_a19eb_row1_col1, #T_a19eb_row2_col1, #T_a19eb_row3_col1 {\n",
              "  text-align: center;\n",
              "  width: 10em;\n",
              "  height: 80%;\n",
              "  background: linear-gradient(90deg,#c778c8 96.5%, transparent 96.5%);\n",
              "  color: #251e1b;\n",
              "  font-size: 12px;\n",
              "}\n",
              "#T_a19eb_row0_col2, #T_a19eb_row1_col2, #T_a19eb_row2_col2, #T_a19eb_row3_col2 {\n",
              "  text-align: center;\n",
              "  width: 10em;\n",
              "  height: 80%;\n",
              "  background: linear-gradient(90deg,#ff4971 97.0%, transparent 97.0%);\n",
              "  color: #251e1b;\n",
              "  font-size: 12px;\n",
              "}\n",
              "#T_a19eb_row0_col3, #T_a19eb_row1_col3, #T_a19eb_row2_col3, #T_a19eb_row3_col3 {\n",
              "  text-align: center;\n",
              "  width: 10em;\n",
              "  height: 80%;\n",
              "  background: linear-gradient(90deg,#aadbaa 96.3%, transparent 96.3%);\n",
              "  color: #251e1b;\n",
              "  font-size: 12px;\n",
              "}\n",
              "#T_a19eb_row0_col4, #T_a19eb_row0_col5, #T_a19eb_row0_col6, #T_a19eb_row0_col7, #T_a19eb_row0_col8, #T_a19eb_row0_col9, #T_a19eb_row0_col10, #T_a19eb_row0_col11, #T_a19eb_row0_col12, #T_a19eb_row0_col13, #T_a19eb_row0_col14, #T_a19eb_row0_col15, #T_a19eb_row0_col16, #T_a19eb_row0_col17, #T_a19eb_row1_col4, #T_a19eb_row1_col5, #T_a19eb_row1_col6, #T_a19eb_row1_col7, #T_a19eb_row1_col8, #T_a19eb_row1_col9, #T_a19eb_row1_col10, #T_a19eb_row1_col11, #T_a19eb_row1_col12, #T_a19eb_row1_col13, #T_a19eb_row1_col14, #T_a19eb_row1_col15, #T_a19eb_row1_col16, #T_a19eb_row1_col17, #T_a19eb_row2_col4, #T_a19eb_row2_col5, #T_a19eb_row2_col6, #T_a19eb_row2_col7, #T_a19eb_row2_col8, #T_a19eb_row2_col9, #T_a19eb_row2_col10, #T_a19eb_row2_col11, #T_a19eb_row2_col12, #T_a19eb_row2_col13, #T_a19eb_row2_col14, #T_a19eb_row2_col15, #T_a19eb_row2_col16, #T_a19eb_row2_col17, #T_a19eb_row3_col4, #T_a19eb_row3_col5, #T_a19eb_row3_col6, #T_a19eb_row3_col7, #T_a19eb_row3_col8, #T_a19eb_row3_col9, #T_a19eb_row3_col10, #T_a19eb_row3_col11, #T_a19eb_row3_col12, #T_a19eb_row3_col13, #T_a19eb_row3_col14, #T_a19eb_row3_col15, #T_a19eb_row3_col16, #T_a19eb_row3_col17, #T_a19eb_row4_col4, #T_a19eb_row4_col5, #T_a19eb_row4_col6, #T_a19eb_row4_col7, #T_a19eb_row4_col8, #T_a19eb_row4_col9, #T_a19eb_row4_col10, #T_a19eb_row4_col11, #T_a19eb_row4_col12, #T_a19eb_row4_col13, #T_a19eb_row4_col14, #T_a19eb_row4_col15, #T_a19eb_row4_col16, #T_a19eb_row4_col17 {\n",
              "  text-align: center;\n",
              "}\n",
              "#T_a19eb_row4_col0 {\n",
              "  text-align: center;\n",
              "  width: 10em;\n",
              "  height: 80%;\n",
              "  background: linear-gradient(90deg,#f5f8d6 53.3%, transparent 53.3%);\n",
              "  color: #251e1b;\n",
              "  font-size: 12px;\n",
              "}\n",
              "#T_a19eb_row4_col1 {\n",
              "  text-align: center;\n",
              "  width: 10em;\n",
              "  height: 80%;\n",
              "  background: linear-gradient(90deg,#c778c8 44.7%, transparent 44.7%);\n",
              "  color: #251e1b;\n",
              "  font-size: 12px;\n",
              "}\n",
              "#T_a19eb_row4_col2 {\n",
              "  text-align: center;\n",
              "  width: 10em;\n",
              "  height: 80%;\n",
              "  background: linear-gradient(90deg,#ff4971 46.4%, transparent 46.4%);\n",
              "  color: #251e1b;\n",
              "  font-size: 12px;\n",
              "}\n",
              "#T_a19eb_row4_col3 {\n",
              "  text-align: center;\n",
              "  width: 10em;\n",
              "  height: 80%;\n",
              "  background: linear-gradient(90deg,#aadbaa 54.5%, transparent 54.5%);\n",
              "  color: #251e1b;\n",
              "  font-size: 12px;\n",
              "}\n",
              "</style>\n",
              "<table id=\"T_a19eb_\" class=\"dataframe\">\n",
              "  <thead>\n",
              "    <tr>\n",
              "      <th class=\"blank level0\" >&nbsp;</th>\n",
              "      <th class=\"col_heading level0 col0\" >accuracy</th>\n",
              "      <th class=\"col_heading level0 col1\" >f1_score</th>\n",
              "      <th class=\"col_heading level0 col2\" >precision</th>\n",
              "      <th class=\"col_heading level0 col3\" >recall</th>\n",
              "      <th class=\"col_heading level0 col4\" >ml_framework</th>\n",
              "      <th class=\"col_heading level0 col5\" >transfer_learning</th>\n",
              "      <th class=\"col_heading level0 col6\" >deep_learning</th>\n",
              "      <th class=\"col_heading level0 col7\" >model_type</th>\n",
              "      <th class=\"col_heading level0 col8\" >depth</th>\n",
              "      <th class=\"col_heading level0 col9\" >num_params</th>\n",
              "      <th class=\"col_heading level0 col10\" >dense_layers</th>\n",
              "      <th class=\"col_heading level0 col11\" >relu_act</th>\n",
              "      <th class=\"col_heading level0 col12\" >softmax_act</th>\n",
              "      <th class=\"col_heading level0 col13\" >loss</th>\n",
              "      <th class=\"col_heading level0 col14\" >optimizer</th>\n",
              "      <th class=\"col_heading level0 col15\" >memory_size</th>\n",
              "      <th class=\"col_heading level0 col16\" >username</th>\n",
              "      <th class=\"col_heading level0 col17\" >version</th>\n",
              "    </tr>\n",
              "  </thead>\n",
              "  <tbody>\n",
              "    <tr>\n",
              "      <th id=\"T_a19eb_level0_row0\" class=\"row_heading level0 row0\" >0</th>\n",
              "      <td id=\"T_a19eb_row0_col0\" class=\"data row0 col0\" >96.67%</td>\n",
              "      <td id=\"T_a19eb_row0_col1\" class=\"data row0 col1\" >96.45%</td>\n",
              "      <td id=\"T_a19eb_row0_col2\" class=\"data row0 col2\" >96.97%</td>\n",
              "      <td id=\"T_a19eb_row0_col3\" class=\"data row0 col3\" >96.30%</td>\n",
              "      <td id=\"T_a19eb_row0_col4\" class=\"data row0 col4\" >sklearn</td>\n",
              "      <td id=\"T_a19eb_row0_col5\" class=\"data row0 col5\" >False</td>\n",
              "      <td id=\"T_a19eb_row0_col6\" class=\"data row0 col6\" >False</td>\n",
              "      <td id=\"T_a19eb_row0_col7\" class=\"data row0 col7\" >RandomForestClassifier</td>\n",
              "      <td id=\"T_a19eb_row0_col8\" class=\"data row0 col8\" >nan</td>\n",
              "      <td id=\"T_a19eb_row0_col9\" class=\"data row0 col9\" >nan</td>\n",
              "      <td id=\"T_a19eb_row0_col10\" class=\"data row0 col10\" >nan</td>\n",
              "      <td id=\"T_a19eb_row0_col11\" class=\"data row0 col11\" >nan</td>\n",
              "      <td id=\"T_a19eb_row0_col12\" class=\"data row0 col12\" >nan</td>\n",
              "      <td id=\"T_a19eb_row0_col13\" class=\"data row0 col13\" >nan</td>\n",
              "      <td id=\"T_a19eb_row0_col14\" class=\"data row0 col14\" >nan</td>\n",
              "      <td id=\"T_a19eb_row0_col15\" class=\"data row0 col15\" >nan</td>\n",
              "      <td id=\"T_a19eb_row0_col16\" class=\"data row0 col16\" >ML_Risk_Mgmnt</td>\n",
              "      <td id=\"T_a19eb_row0_col17\" class=\"data row0 col17\" >1</td>\n",
              "    </tr>\n",
              "    <tr>\n",
              "      <th id=\"T_a19eb_level0_row1\" class=\"row_heading level0 row1\" >1</th>\n",
              "      <td id=\"T_a19eb_row1_col0\" class=\"data row1 col0\" >96.67%</td>\n",
              "      <td id=\"T_a19eb_row1_col1\" class=\"data row1 col1\" >96.45%</td>\n",
              "      <td id=\"T_a19eb_row1_col2\" class=\"data row1 col2\" >96.97%</td>\n",
              "      <td id=\"T_a19eb_row1_col3\" class=\"data row1 col3\" >96.30%</td>\n",
              "      <td id=\"T_a19eb_row1_col4\" class=\"data row1 col4\" >sklearn</td>\n",
              "      <td id=\"T_a19eb_row1_col5\" class=\"data row1 col5\" >False</td>\n",
              "      <td id=\"T_a19eb_row1_col6\" class=\"data row1 col6\" >False</td>\n",
              "      <td id=\"T_a19eb_row1_col7\" class=\"data row1 col7\" >SVC</td>\n",
              "      <td id=\"T_a19eb_row1_col8\" class=\"data row1 col8\" >nan</td>\n",
              "      <td id=\"T_a19eb_row1_col9\" class=\"data row1 col9\" >12.000000</td>\n",
              "      <td id=\"T_a19eb_row1_col10\" class=\"data row1 col10\" >nan</td>\n",
              "      <td id=\"T_a19eb_row1_col11\" class=\"data row1 col11\" >nan</td>\n",
              "      <td id=\"T_a19eb_row1_col12\" class=\"data row1 col12\" >nan</td>\n",
              "      <td id=\"T_a19eb_row1_col13\" class=\"data row1 col13\" >nan</td>\n",
              "      <td id=\"T_a19eb_row1_col14\" class=\"data row1 col14\" >nan</td>\n",
              "      <td id=\"T_a19eb_row1_col15\" class=\"data row1 col15\" >nan</td>\n",
              "      <td id=\"T_a19eb_row1_col16\" class=\"data row1 col16\" >ML_Risk_Mgmnt</td>\n",
              "      <td id=\"T_a19eb_row1_col17\" class=\"data row1 col17\" >2</td>\n",
              "    </tr>\n",
              "    <tr>\n",
              "      <th id=\"T_a19eb_level0_row2\" class=\"row_heading level0 row2\" >2</th>\n",
              "      <td id=\"T_a19eb_row2_col0\" class=\"data row2 col0\" >96.67%</td>\n",
              "      <td id=\"T_a19eb_row2_col1\" class=\"data row2 col1\" >96.45%</td>\n",
              "      <td id=\"T_a19eb_row2_col2\" class=\"data row2 col2\" >96.97%</td>\n",
              "      <td id=\"T_a19eb_row2_col3\" class=\"data row2 col3\" >96.30%</td>\n",
              "      <td id=\"T_a19eb_row2_col4\" class=\"data row2 col4\" >sklearn</td>\n",
              "      <td id=\"T_a19eb_row2_col5\" class=\"data row2 col5\" >False</td>\n",
              "      <td id=\"T_a19eb_row2_col6\" class=\"data row2 col6\" >False</td>\n",
              "      <td id=\"T_a19eb_row2_col7\" class=\"data row2 col7\" >RandomForestClassifier</td>\n",
              "      <td id=\"T_a19eb_row2_col8\" class=\"data row2 col8\" >nan</td>\n",
              "      <td id=\"T_a19eb_row2_col9\" class=\"data row2 col9\" >nan</td>\n",
              "      <td id=\"T_a19eb_row2_col10\" class=\"data row2 col10\" >nan</td>\n",
              "      <td id=\"T_a19eb_row2_col11\" class=\"data row2 col11\" >nan</td>\n",
              "      <td id=\"T_a19eb_row2_col12\" class=\"data row2 col12\" >nan</td>\n",
              "      <td id=\"T_a19eb_row2_col13\" class=\"data row2 col13\" >nan</td>\n",
              "      <td id=\"T_a19eb_row2_col14\" class=\"data row2 col14\" >nan</td>\n",
              "      <td id=\"T_a19eb_row2_col15\" class=\"data row2 col15\" >nan</td>\n",
              "      <td id=\"T_a19eb_row2_col16\" class=\"data row2 col16\" >ML_Risk_Mgmnt</td>\n",
              "      <td id=\"T_a19eb_row2_col17\" class=\"data row2 col17\" >3</td>\n",
              "    </tr>\n",
              "    <tr>\n",
              "      <th id=\"T_a19eb_level0_row3\" class=\"row_heading level0 row3\" >3</th>\n",
              "      <td id=\"T_a19eb_row3_col0\" class=\"data row3 col0\" >96.67%</td>\n",
              "      <td id=\"T_a19eb_row3_col1\" class=\"data row3 col1\" >96.45%</td>\n",
              "      <td id=\"T_a19eb_row3_col2\" class=\"data row3 col2\" >96.97%</td>\n",
              "      <td id=\"T_a19eb_row3_col3\" class=\"data row3 col3\" >96.30%</td>\n",
              "      <td id=\"T_a19eb_row3_col4\" class=\"data row3 col4\" >sklearn</td>\n",
              "      <td id=\"T_a19eb_row3_col5\" class=\"data row3 col5\" >False</td>\n",
              "      <td id=\"T_a19eb_row3_col6\" class=\"data row3 col6\" >False</td>\n",
              "      <td id=\"T_a19eb_row3_col7\" class=\"data row3 col7\" >SVC</td>\n",
              "      <td id=\"T_a19eb_row3_col8\" class=\"data row3 col8\" >nan</td>\n",
              "      <td id=\"T_a19eb_row3_col9\" class=\"data row3 col9\" >12.000000</td>\n",
              "      <td id=\"T_a19eb_row3_col10\" class=\"data row3 col10\" >nan</td>\n",
              "      <td id=\"T_a19eb_row3_col11\" class=\"data row3 col11\" >nan</td>\n",
              "      <td id=\"T_a19eb_row3_col12\" class=\"data row3 col12\" >nan</td>\n",
              "      <td id=\"T_a19eb_row3_col13\" class=\"data row3 col13\" >nan</td>\n",
              "      <td id=\"T_a19eb_row3_col14\" class=\"data row3 col14\" >nan</td>\n",
              "      <td id=\"T_a19eb_row3_col15\" class=\"data row3 col15\" >nan</td>\n",
              "      <td id=\"T_a19eb_row3_col16\" class=\"data row3 col16\" >ML_Risk_Mgmnt</td>\n",
              "      <td id=\"T_a19eb_row3_col17\" class=\"data row3 col17\" >4</td>\n",
              "    </tr>\n",
              "    <tr>\n",
              "      <th id=\"T_a19eb_level0_row4\" class=\"row_heading level0 row4\" >4</th>\n",
              "      <td id=\"T_a19eb_row4_col0\" class=\"data row4 col0\" >53.33%</td>\n",
              "      <td id=\"T_a19eb_row4_col1\" class=\"data row4 col1\" >44.68%</td>\n",
              "      <td id=\"T_a19eb_row4_col2\" class=\"data row4 col2\" >46.38%</td>\n",
              "      <td id=\"T_a19eb_row4_col3\" class=\"data row4 col3\" >54.55%</td>\n",
              "      <td id=\"T_a19eb_row4_col4\" class=\"data row4 col4\" >keras</td>\n",
              "      <td id=\"T_a19eb_row4_col5\" class=\"data row4 col5\" >False</td>\n",
              "      <td id=\"T_a19eb_row4_col6\" class=\"data row4 col6\" >True</td>\n",
              "      <td id=\"T_a19eb_row4_col7\" class=\"data row4 col7\" >Sequential</td>\n",
              "      <td id=\"T_a19eb_row4_col8\" class=\"data row4 col8\" >4.000000</td>\n",
              "      <td id=\"T_a19eb_row4_col9\" class=\"data row4 col9\" >995.000000</td>\n",
              "      <td id=\"T_a19eb_row4_col10\" class=\"data row4 col10\" >4.000000</td>\n",
              "      <td id=\"T_a19eb_row4_col11\" class=\"data row4 col11\" >3.000000</td>\n",
              "      <td id=\"T_a19eb_row4_col12\" class=\"data row4 col12\" >1.000000</td>\n",
              "      <td id=\"T_a19eb_row4_col13\" class=\"data row4 col13\" >str</td>\n",
              "      <td id=\"T_a19eb_row4_col14\" class=\"data row4 col14\" >SGD</td>\n",
              "      <td id=\"T_a19eb_row4_col15\" class=\"data row4 col15\" >5032.000000</td>\n",
              "      <td id=\"T_a19eb_row4_col16\" class=\"data row4 col16\" >ML_Risk_Mgmnt</td>\n",
              "      <td id=\"T_a19eb_row4_col17\" class=\"data row4 col17\" >5</td>\n",
              "    </tr>\n",
              "  </tbody>\n",
              "</table>\n"
            ]
          },
          "metadata": {},
          "execution_count": 13
        }
      ]
    },
    {
      "cell_type": "markdown",
      "metadata": {
        "id": "bwNKs0wP4r5s"
      },
      "source": [
        "## 5. Repeat submission process to improve place on leaderboard\n"
      ]
    },
    {
      "cell_type": "code",
      "metadata": {
        "id": "FgSs5PAtPCZH"
      },
      "source": [
        "# Train and submit model 2 using same preprocessor (note that you could save a new preprocessor, but we will use the same one for this example).\n",
        "import keras\n",
        "from keras.models import Sequential\n",
        "from keras.layers import Dense, Dropout, Activation\n",
        "\n",
        "model_2 = Sequential()\n",
        "model_2.add(Dense(128, input_dim=4, activation='relu'))\n",
        "model_2.add(Dropout(.3))\n",
        "model_2.add(Dense(64, activation='relu'))\n",
        "model_2.add(Dense(64, activation='relu'))\n",
        "model_2.add(Dropout(.3))\n",
        "model_2.add(Dense(64, activation='relu'))\n",
        "\n",
        "model_2.add(Dense(3, activation='softmax')) \n",
        "                                            \n",
        "# Compile model\n",
        "model_2.compile(loss='categorical_crossentropy', optimizer='sgd', metrics=['accuracy'])\n",
        "\n",
        "# Fitting the NN to the Training set\n",
        "model_2.fit(preprocessor(X_train), y_train, \n",
        "               epochs = 10, validation_split=0.25) "
      ],
      "execution_count": null,
      "outputs": []
    },
    {
      "cell_type": "code",
      "metadata": {
        "id": "aIdmSpYVPYAw"
      },
      "source": [
        "# Save keras model to local ONNX file\n",
        "from aimodelshare.aimsonnx import model_to_onnx\n",
        "\n",
        "onnx_model = model_to_onnx(model_2, framework='keras',\n",
        "                          transfer_learning=False,\n",
        "                          deep_learning=True)\n",
        "\n",
        "with open(\"model2.onnx\", \"wb\") as f:\n",
        "    f.write(onnx_model.SerializeToString())"
      ],
      "execution_count": 15,
      "outputs": []
    },
    {
      "cell_type": "code",
      "metadata": {
        "colab": {
          "base_uri": "https://localhost:8080/"
        },
        "id": "nszPPrfwPlUk",
        "outputId": "afd3178e-c5b1-4079-b333-af49553b41b1"
      },
      "source": [
        "#Submit Model 2: \n",
        "\n",
        "#-- Generate predicted y values (Model 2)\n",
        "#Note: Keras predict returns the predicted column index location for classification models\n",
        "prediction_column_index=model_2.predict(preprocessor(X_test)).argmax(axis=1)\n",
        "\n",
        "# extract correct prediction labels \n",
        "prediction_labels = [y_train.columns[i] for i in prediction_column_index]\n",
        "\n",
        "# Submit Model 2 to Competition Leaderboard\n",
        "mycompetition.submit_model(model_filepath = \"model2.onnx\",\n",
        "                                 prediction_submission=prediction_labels,\n",
        "                                 preprocessor_filepath=\"preprocessor.zip\")"
      ],
      "execution_count": 16,
      "outputs": [
        {
          "output_type": "stream",
          "name": "stdout",
          "text": [
            "Insert search tags to help users find your model (optional): \n",
            "Provide any useful notes about your model (optional): \n",
            "\n",
            "Your model has been submitted as model version 6\n",
            "\n",
            "To submit code used to create this model or to view current leaderboard navigate to Model Playground: \n",
            "\n",
            " https://www.modelshare.org/detail/model:1724\n"
          ]
        }
      ]
    },
    {
      "cell_type": "code",
      "metadata": {
        "colab": {
          "base_uri": "https://localhost:8080/",
          "height": 180
        },
        "id": "qLl7yLpVEx26",
        "outputId": "c15fdb11-b4f0-4014-d0c5-c824da48d7c4"
      },
      "source": [
        "# Compare two or more models\n",
        "data=mycompetition.compare_models([5,6], verbose=1)\n",
        "mycompetition.stylize_compare(data)"
      ],
      "execution_count": 17,
      "outputs": [
        {
          "output_type": "display_data",
          "data": {
            "text/plain": [
              "<IPython.core.display.HTML object>"
            ],
            "text/html": [
              "<style type=\"text/css\">\n",
              "#T_90657_ caption {\n",
              "  color: black;\n",
              "  font-size: 18px;\n",
              "}\n",
              "#T_90657_row0_col0, #T_90657_row0_col3, #T_90657_row1_col0, #T_90657_row2_col0, #T_90657_row2_col3, #T_90657_row3_col0, #T_90657_row3_col3, #T_90657_row5_col3, #T_90657_row6_col3 {\n",
              "  background: #fff2ae;\n",
              "  color: black;\n",
              "  color: black;\n",
              "}\n",
              "#T_90657_row0_col1, #T_90657_row0_col2, #T_90657_row0_col4, #T_90657_row0_col5, #T_90657_row1_col1, #T_90657_row1_col2, #T_90657_row1_col4, #T_90657_row1_col5, #T_90657_row2_col1, #T_90657_row2_col2, #T_90657_row2_col4, #T_90657_row2_col5, #T_90657_row3_col1, #T_90657_row3_col2, #T_90657_row3_col4, #T_90657_row3_col5, #T_90657_row4_col0, #T_90657_row4_col1, #T_90657_row4_col2, #T_90657_row4_col4, #T_90657_row4_col5, #T_90657_row5_col0, #T_90657_row5_col1, #T_90657_row5_col2, #T_90657_row5_col4, #T_90657_row5_col5, #T_90657_row6_col0, #T_90657_row6_col1, #T_90657_row6_col2, #T_90657_row6_col4, #T_90657_row6_col5 {\n",
              "  background: white;\n",
              "  color: black;\n",
              "  color: black;\n",
              "}\n",
              "#T_90657_row1_col3, #T_90657_row4_col3 {\n",
              "  background: #cbd5e8;\n",
              "  color: black;\n",
              "  color: black;\n",
              "}\n",
              "</style>\n",
              "<table id=\"T_90657_\">\n",
              "  <caption>Model type: Neural Network</caption>\n",
              "  <thead>\n",
              "    <tr>\n",
              "      <th class=\"blank level0\" >&nbsp;</th>\n",
              "      <th class=\"col_heading level0 col0\" >Model_5_Layer</th>\n",
              "      <th class=\"col_heading level0 col1\" >Model_5_Shape</th>\n",
              "      <th class=\"col_heading level0 col2\" >Model_5_Params</th>\n",
              "      <th class=\"col_heading level0 col3\" >Model_6_Layer</th>\n",
              "      <th class=\"col_heading level0 col4\" >Model_6_Shape</th>\n",
              "      <th class=\"col_heading level0 col5\" >Model_6_Params</th>\n",
              "    </tr>\n",
              "  </thead>\n",
              "  <tbody>\n",
              "    <tr>\n",
              "      <th id=\"T_90657_level0_row0\" class=\"row_heading level0 row0\" >0</th>\n",
              "      <td id=\"T_90657_row0_col0\" class=\"data row0 col0\" >Dense</td>\n",
              "      <td id=\"T_90657_row0_col1\" class=\"data row0 col1\" >[None, 16]</td>\n",
              "      <td id=\"T_90657_row0_col2\" class=\"data row0 col2\" >80.000000</td>\n",
              "      <td id=\"T_90657_row0_col3\" class=\"data row0 col3\" >Dense</td>\n",
              "      <td id=\"T_90657_row0_col4\" class=\"data row0 col4\" >[None, 128]</td>\n",
              "      <td id=\"T_90657_row0_col5\" class=\"data row0 col5\" >640</td>\n",
              "    </tr>\n",
              "    <tr>\n",
              "      <th id=\"T_90657_level0_row1\" class=\"row_heading level0 row1\" >1</th>\n",
              "      <td id=\"T_90657_row1_col0\" class=\"data row1 col0\" >Dense</td>\n",
              "      <td id=\"T_90657_row1_col1\" class=\"data row1 col1\" >[None, 16]</td>\n",
              "      <td id=\"T_90657_row1_col2\" class=\"data row1 col2\" >272.000000</td>\n",
              "      <td id=\"T_90657_row1_col3\" class=\"data row1 col3\" >Dropout</td>\n",
              "      <td id=\"T_90657_row1_col4\" class=\"data row1 col4\" >[None, 128]</td>\n",
              "      <td id=\"T_90657_row1_col5\" class=\"data row1 col5\" >0</td>\n",
              "    </tr>\n",
              "    <tr>\n",
              "      <th id=\"T_90657_level0_row2\" class=\"row_heading level0 row2\" >2</th>\n",
              "      <td id=\"T_90657_row2_col0\" class=\"data row2 col0\" >Dense</td>\n",
              "      <td id=\"T_90657_row2_col1\" class=\"data row2 col1\" >[None, 32]</td>\n",
              "      <td id=\"T_90657_row2_col2\" class=\"data row2 col2\" >544.000000</td>\n",
              "      <td id=\"T_90657_row2_col3\" class=\"data row2 col3\" >Dense</td>\n",
              "      <td id=\"T_90657_row2_col4\" class=\"data row2 col4\" >[None, 64]</td>\n",
              "      <td id=\"T_90657_row2_col5\" class=\"data row2 col5\" >8256</td>\n",
              "    </tr>\n",
              "    <tr>\n",
              "      <th id=\"T_90657_level0_row3\" class=\"row_heading level0 row3\" >3</th>\n",
              "      <td id=\"T_90657_row3_col0\" class=\"data row3 col0\" >Dense</td>\n",
              "      <td id=\"T_90657_row3_col1\" class=\"data row3 col1\" >[None, 3]</td>\n",
              "      <td id=\"T_90657_row3_col2\" class=\"data row3 col2\" >99.000000</td>\n",
              "      <td id=\"T_90657_row3_col3\" class=\"data row3 col3\" >Dense</td>\n",
              "      <td id=\"T_90657_row3_col4\" class=\"data row3 col4\" >[None, 64]</td>\n",
              "      <td id=\"T_90657_row3_col5\" class=\"data row3 col5\" >4160</td>\n",
              "    </tr>\n",
              "    <tr>\n",
              "      <th id=\"T_90657_level0_row4\" class=\"row_heading level0 row4\" >4</th>\n",
              "      <td id=\"T_90657_row4_col0\" class=\"data row4 col0\" >None</td>\n",
              "      <td id=\"T_90657_row4_col1\" class=\"data row4 col1\" >None</td>\n",
              "      <td id=\"T_90657_row4_col2\" class=\"data row4 col2\" >nan</td>\n",
              "      <td id=\"T_90657_row4_col3\" class=\"data row4 col3\" >Dropout</td>\n",
              "      <td id=\"T_90657_row4_col4\" class=\"data row4 col4\" >[None, 64]</td>\n",
              "      <td id=\"T_90657_row4_col5\" class=\"data row4 col5\" >0</td>\n",
              "    </tr>\n",
              "    <tr>\n",
              "      <th id=\"T_90657_level0_row5\" class=\"row_heading level0 row5\" >5</th>\n",
              "      <td id=\"T_90657_row5_col0\" class=\"data row5 col0\" >None</td>\n",
              "      <td id=\"T_90657_row5_col1\" class=\"data row5 col1\" >None</td>\n",
              "      <td id=\"T_90657_row5_col2\" class=\"data row5 col2\" >nan</td>\n",
              "      <td id=\"T_90657_row5_col3\" class=\"data row5 col3\" >Dense</td>\n",
              "      <td id=\"T_90657_row5_col4\" class=\"data row5 col4\" >[None, 64]</td>\n",
              "      <td id=\"T_90657_row5_col5\" class=\"data row5 col5\" >4160</td>\n",
              "    </tr>\n",
              "    <tr>\n",
              "      <th id=\"T_90657_level0_row6\" class=\"row_heading level0 row6\" >6</th>\n",
              "      <td id=\"T_90657_row6_col0\" class=\"data row6 col0\" >None</td>\n",
              "      <td id=\"T_90657_row6_col1\" class=\"data row6 col1\" >None</td>\n",
              "      <td id=\"T_90657_row6_col2\" class=\"data row6 col2\" >nan</td>\n",
              "      <td id=\"T_90657_row6_col3\" class=\"data row6 col3\" >Dense</td>\n",
              "      <td id=\"T_90657_row6_col4\" class=\"data row6 col4\" >[None, 3]</td>\n",
              "      <td id=\"T_90657_row6_col5\" class=\"data row6 col5\" >195</td>\n",
              "    </tr>\n",
              "  </tbody>\n",
              "</table>\n"
            ]
          },
          "metadata": {}
        }
      ]
    },
    {
      "cell_type": "markdown",
      "source": [
        "## Optional: Tune model within range of hyperparameters with Keras Tuner\n",
        "\n",
        "*Simple example shown below. Consult [documentation](https://keras.io/guides/keras_tuner/getting_started/) to see full functionality.*"
      ],
      "metadata": {
        "id": "_ZbHiSrQdhyf"
      }
    },
    {
      "cell_type": "code",
      "source": [
        "! pip install keras_tuner"
      ],
      "metadata": {
        "id": "EHdEIS4jdoLd"
      },
      "execution_count": null,
      "outputs": []
    },
    {
      "cell_type": "code",
      "source": [
        "#Separate validation data \n",
        "from sklearn.model_selection import train_test_split\n",
        "x_train_split, x_val, y_train_split, y_val = train_test_split(\n",
        "     X_train, y_train, test_size=0.2, random_state=42)"
      ],
      "metadata": {
        "id": "Ou4GME-jdskD"
      },
      "execution_count": 19,
      "outputs": []
    },
    {
      "cell_type": "code",
      "source": [
        "import keras\n",
        "from keras.models import Sequential\n",
        "from keras.layers import Dense, Activation, Dropout, BatchNormalization\n",
        "from keras.regularizers import l1, l2, l1_l2\n",
        "import keras_tuner as kt\n",
        "\n",
        "\n",
        "#Define model structure & parameter search space with function\n",
        "def build_model(hp):\n",
        "    model = keras.Sequential()\n",
        "    model.add(Dense(64, input_dim=4, activation='relu', kernel_regularizer=l2(0.01), bias_regularizer=l2(0.01)))\n",
        "    model.add(Dense(64, activation='relu', kernel_regularizer=l2(0.01), bias_regularizer=l2(0.01)))\n",
        "    model.add(Dense(units=hp.Int(\"units\", min_value=32, max_value=512, step=32), #range 32-512 inclusive, minimum step between tested values is 32\n",
        "                    activation='relu', kernel_regularizer=l2(0.01), bias_regularizer=l2(0.01)))\n",
        "    model.add(Dense(3, activation='softmax')) \n",
        "    model.compile(\n",
        "        optimizer=\"rmsprop\", loss=\"binary_crossentropy\", metrics=[\"accuracy\"],\n",
        "    )\n",
        "    return model\n",
        "\n",
        "#initialize the tuner (which will search through parameters)\n",
        "tuner = kt.RandomSearch(\n",
        "    hypermodel=build_model, \n",
        "    objective=\"val_accuracy\", # objective to optimize\n",
        "    max_trials=3, #max number of trials to run during search\n",
        "    executions_per_trial=3, #higher number reduces variance of results; guages model performance more accurately \n",
        "    overwrite=True,\n",
        "    directory=\"tuning_model\",\n",
        "    project_name=\"tuning_units\",\n",
        ")\n",
        "\n",
        "tuner.search(preprocessor(x_train_split), y_train_split, epochs=1, validation_data=(preprocessor(x_val), y_val))"
      ],
      "metadata": {
        "colab": {
          "base_uri": "https://localhost:8080/"
        },
        "id": "4jcPr9rpdy5f",
        "outputId": "4bbfe080-28b9-4057-b374-668f9c6a34e8"
      },
      "execution_count": 20,
      "outputs": [
        {
          "output_type": "stream",
          "name": "stdout",
          "text": [
            "Trial 3 Complete [00h 00m 06s]\n",
            "val_accuracy: 0.5740740696589152\n",
            "\n",
            "Best val_accuracy So Far: 0.8333333333333334\n",
            "Total elapsed time: 00h 00m 22s\n"
          ]
        }
      ]
    },
    {
      "cell_type": "code",
      "source": [
        "# Build model with best hyperparameters\n",
        "\n",
        "# Get the top 2 hyperparameters.\n",
        "best_hps = tuner.get_best_hyperparameters(5)\n",
        "# Build the model with the best hp.\n",
        "tuned_model = build_model(best_hps[0])\n",
        "# Fit with the entire dataset.\n",
        "tuned_model.fit(x=preprocessor(X_train), y=y_train, epochs=5)"
      ],
      "metadata": {
        "id": "MUXMMMDafF_d",
        "colab": {
          "base_uri": "https://localhost:8080/"
        },
        "outputId": "dce43609-e362-4c0b-a4bc-fe9c74f57eb5"
      },
      "execution_count": 21,
      "outputs": [
        {
          "output_type": "stream",
          "name": "stdout",
          "text": [
            "Epoch 1/5\n",
            "3/3 [==============================] - 1s 8ms/step - loss: 2.4084 - accuracy: 0.4889\n",
            "Epoch 2/5\n",
            "3/3 [==============================] - 0s 9ms/step - loss: 2.1415 - accuracy: 0.6778\n",
            "Epoch 3/5\n",
            "3/3 [==============================] - 0s 4ms/step - loss: 1.9636 - accuracy: 0.7111\n",
            "Epoch 4/5\n",
            "3/3 [==============================] - 0s 5ms/step - loss: 1.8140 - accuracy: 0.7778\n",
            "Epoch 5/5\n",
            "3/3 [==============================] - 0s 4ms/step - loss: 1.6856 - accuracy: 0.7333\n"
          ]
        },
        {
          "output_type": "execute_result",
          "data": {
            "text/plain": [
              "<keras.callbacks.History at 0x7fccd3964e50>"
            ]
          },
          "metadata": {},
          "execution_count": 21
        }
      ]
    },
    {
      "cell_type": "code",
      "metadata": {
        "id": "HvLuIvOjHLH2"
      },
      "source": [
        "# Save keras model to local ONNX file\n",
        "from aimodelshare.aimsonnx import model_to_onnx\n",
        "\n",
        "onnx_model = model_to_onnx(tuned_model, framework='keras',\n",
        "                          transfer_learning=False,\n",
        "                          deep_learning=True)\n",
        "\n",
        "with open(\"tuned_model.onnx\", \"wb\") as f:\n",
        "    f.write(onnx_model.SerializeToString())"
      ],
      "execution_count": 22,
      "outputs": []
    },
    {
      "cell_type": "code",
      "metadata": {
        "colab": {
          "base_uri": "https://localhost:8080/"
        },
        "id": "sMidHABfHVN7",
        "outputId": "a13c78bc-53a0-416c-fe04-cdb4ec94c607"
      },
      "source": [
        "#Submit Model 3: \n",
        "\n",
        "#-- Generate predicted y values (Model 3)\n",
        "prediction_column_index=tuned_model.predict(preprocessor(X_test)).argmax(axis=1)\n",
        "\n",
        "# extract correct prediction labels \n",
        "prediction_labels = [y_train.columns[i] for i in prediction_column_index]\n",
        "\n",
        "# Submit to Competition Leaderboard\n",
        "mycompetition.submit_model(model_filepath = \"tuned_model.onnx\",\n",
        "                                 preprocessor_filepath=\"preprocessor.zip\",\n",
        "                                 prediction_submission=prediction_labels)"
      ],
      "execution_count": 23,
      "outputs": [
        {
          "output_type": "stream",
          "name": "stdout",
          "text": [
            "Insert search tags to help users find your model (optional): \n",
            "Provide any useful notes about your model (optional): \n",
            "\n",
            "Your model has been submitted as model version 7\n",
            "\n",
            "To submit code used to create this model or to view current leaderboard navigate to Model Playground: \n",
            "\n",
            " https://www.modelshare.org/detail/model:1724\n"
          ]
        }
      ]
    },
    {
      "cell_type": "code",
      "metadata": {
        "colab": {
          "base_uri": "https://localhost:8080/",
          "height": 239
        },
        "id": "hn-Tp-zpJVGT",
        "outputId": "dcde9ae7-cf70-4002-83c6-bb00599ac844"
      },
      "source": [
        "# Get leaderboard\n",
        "\n",
        "data = mycompetition.get_leaderboard()\n",
        "mycompetition.stylize_leaderboard(data)"
      ],
      "execution_count": 24,
      "outputs": [
        {
          "output_type": "execute_result",
          "data": {
            "text/plain": [
              "<pandas.io.formats.style.Styler at 0x7fccd297e450>"
            ],
            "text/html": [
              "<style type=\"text/css\">\n",
              "#T_018c9_row0_col0, #T_018c9_row1_col0, #T_018c9_row2_col0, #T_018c9_row3_col0 {\n",
              "  text-align: center;\n",
              "  width: 10em;\n",
              "  height: 80%;\n",
              "  background: linear-gradient(90deg,#f5f8d6 96.7%, transparent 96.7%);\n",
              "  color: #251e1b;\n",
              "  font-size: 12px;\n",
              "}\n",
              "#T_018c9_row0_col1, #T_018c9_row1_col1, #T_018c9_row2_col1, #T_018c9_row3_col1 {\n",
              "  text-align: center;\n",
              "  width: 10em;\n",
              "  height: 80%;\n",
              "  background: linear-gradient(90deg,#c778c8 96.5%, transparent 96.5%);\n",
              "  color: #251e1b;\n",
              "  font-size: 12px;\n",
              "}\n",
              "#T_018c9_row0_col2, #T_018c9_row1_col2, #T_018c9_row2_col2, #T_018c9_row3_col2 {\n",
              "  text-align: center;\n",
              "  width: 10em;\n",
              "  height: 80%;\n",
              "  background: linear-gradient(90deg,#ff4971 97.0%, transparent 97.0%);\n",
              "  color: #251e1b;\n",
              "  font-size: 12px;\n",
              "}\n",
              "#T_018c9_row0_col3, #T_018c9_row1_col3, #T_018c9_row2_col3, #T_018c9_row3_col3 {\n",
              "  text-align: center;\n",
              "  width: 10em;\n",
              "  height: 80%;\n",
              "  background: linear-gradient(90deg,#aadbaa 96.3%, transparent 96.3%);\n",
              "  color: #251e1b;\n",
              "  font-size: 12px;\n",
              "}\n",
              "#T_018c9_row0_col4, #T_018c9_row0_col5, #T_018c9_row0_col6, #T_018c9_row0_col7, #T_018c9_row0_col8, #T_018c9_row0_col9, #T_018c9_row0_col10, #T_018c9_row0_col11, #T_018c9_row0_col12, #T_018c9_row0_col13, #T_018c9_row0_col14, #T_018c9_row0_col15, #T_018c9_row0_col16, #T_018c9_row0_col17, #T_018c9_row0_col18, #T_018c9_row1_col4, #T_018c9_row1_col5, #T_018c9_row1_col6, #T_018c9_row1_col7, #T_018c9_row1_col8, #T_018c9_row1_col9, #T_018c9_row1_col10, #T_018c9_row1_col11, #T_018c9_row1_col12, #T_018c9_row1_col13, #T_018c9_row1_col14, #T_018c9_row1_col15, #T_018c9_row1_col16, #T_018c9_row1_col17, #T_018c9_row1_col18, #T_018c9_row2_col4, #T_018c9_row2_col5, #T_018c9_row2_col6, #T_018c9_row2_col7, #T_018c9_row2_col8, #T_018c9_row2_col9, #T_018c9_row2_col10, #T_018c9_row2_col11, #T_018c9_row2_col12, #T_018c9_row2_col13, #T_018c9_row2_col14, #T_018c9_row2_col15, #T_018c9_row2_col16, #T_018c9_row2_col17, #T_018c9_row2_col18, #T_018c9_row3_col4, #T_018c9_row3_col5, #T_018c9_row3_col6, #T_018c9_row3_col7, #T_018c9_row3_col8, #T_018c9_row3_col9, #T_018c9_row3_col10, #T_018c9_row3_col11, #T_018c9_row3_col12, #T_018c9_row3_col13, #T_018c9_row3_col14, #T_018c9_row3_col15, #T_018c9_row3_col16, #T_018c9_row3_col17, #T_018c9_row3_col18, #T_018c9_row4_col4, #T_018c9_row4_col5, #T_018c9_row4_col6, #T_018c9_row4_col7, #T_018c9_row4_col8, #T_018c9_row4_col9, #T_018c9_row4_col10, #T_018c9_row4_col11, #T_018c9_row4_col12, #T_018c9_row4_col13, #T_018c9_row4_col14, #T_018c9_row4_col15, #T_018c9_row4_col16, #T_018c9_row4_col17, #T_018c9_row4_col18, #T_018c9_row5_col4, #T_018c9_row5_col5, #T_018c9_row5_col6, #T_018c9_row5_col7, #T_018c9_row5_col8, #T_018c9_row5_col9, #T_018c9_row5_col10, #T_018c9_row5_col11, #T_018c9_row5_col12, #T_018c9_row5_col13, #T_018c9_row5_col14, #T_018c9_row5_col15, #T_018c9_row5_col16, #T_018c9_row5_col17, #T_018c9_row5_col18, #T_018c9_row6_col4, #T_018c9_row6_col5, #T_018c9_row6_col6, #T_018c9_row6_col7, #T_018c9_row6_col8, #T_018c9_row6_col9, #T_018c9_row6_col10, #T_018c9_row6_col11, #T_018c9_row6_col12, #T_018c9_row6_col13, #T_018c9_row6_col14, #T_018c9_row6_col15, #T_018c9_row6_col16, #T_018c9_row6_col17, #T_018c9_row6_col18 {\n",
              "  text-align: center;\n",
              "}\n",
              "#T_018c9_row4_col0 {\n",
              "  text-align: center;\n",
              "  width: 10em;\n",
              "  height: 80%;\n",
              "  background: linear-gradient(90deg,#f5f8d6 73.3%, transparent 73.3%);\n",
              "  color: #251e1b;\n",
              "  font-size: 12px;\n",
              "}\n",
              "#T_018c9_row4_col1 {\n",
              "  text-align: center;\n",
              "  width: 10em;\n",
              "  height: 80%;\n",
              "  background: linear-gradient(90deg,#c778c8 67.5%, transparent 67.5%);\n",
              "  color: #251e1b;\n",
              "  font-size: 12px;\n",
              "}\n",
              "#T_018c9_row4_col2 {\n",
              "  text-align: center;\n",
              "  width: 10em;\n",
              "  height: 80%;\n",
              "  background: linear-gradient(90deg,#ff4971 84.3%, transparent 84.3%);\n",
              "  color: #251e1b;\n",
              "  font-size: 12px;\n",
              "}\n",
              "#T_018c9_row4_col3 {\n",
              "  text-align: center;\n",
              "  width: 10em;\n",
              "  height: 80%;\n",
              "  background: linear-gradient(90deg,#aadbaa 73.3%, transparent 73.3%);\n",
              "  color: #251e1b;\n",
              "  font-size: 12px;\n",
              "}\n",
              "#T_018c9_row5_col0 {\n",
              "  text-align: center;\n",
              "  width: 10em;\n",
              "  height: 80%;\n",
              "  background: linear-gradient(90deg,#f5f8d6 53.3%, transparent 53.3%);\n",
              "  color: #251e1b;\n",
              "  font-size: 12px;\n",
              "}\n",
              "#T_018c9_row5_col1 {\n",
              "  text-align: center;\n",
              "  width: 10em;\n",
              "  height: 80%;\n",
              "  background: linear-gradient(90deg,#c778c8 44.7%, transparent 44.7%);\n",
              "  color: #251e1b;\n",
              "  font-size: 12px;\n",
              "}\n",
              "#T_018c9_row5_col2 {\n",
              "  text-align: center;\n",
              "  width: 10em;\n",
              "  height: 80%;\n",
              "  background: linear-gradient(90deg,#ff4971 46.4%, transparent 46.4%);\n",
              "  color: #251e1b;\n",
              "  font-size: 12px;\n",
              "}\n",
              "#T_018c9_row5_col3 {\n",
              "  text-align: center;\n",
              "  width: 10em;\n",
              "  height: 80%;\n",
              "  background: linear-gradient(90deg,#aadbaa 54.5%, transparent 54.5%);\n",
              "  color: #251e1b;\n",
              "  font-size: 12px;\n",
              "}\n",
              "#T_018c9_row6_col0 {\n",
              "  text-align: center;\n",
              "  width: 10em;\n",
              "  height: 80%;\n",
              "  background: linear-gradient(90deg,#f5f8d6 43.3%, transparent 43.3%);\n",
              "  color: #251e1b;\n",
              "  font-size: 12px;\n",
              "}\n",
              "#T_018c9_row6_col1 {\n",
              "  text-align: center;\n",
              "  width: 10em;\n",
              "  height: 80%;\n",
              "  background: linear-gradient(90deg,#c778c8 38.1%, transparent 38.1%);\n",
              "  color: #251e1b;\n",
              "  font-size: 12px;\n",
              "}\n",
              "#T_018c9_row6_col2 {\n",
              "  text-align: center;\n",
              "  width: 10em;\n",
              "  height: 80%;\n",
              "  background: linear-gradient(90deg,#ff4971 78.2%, transparent 78.2%);\n",
              "  color: #251e1b;\n",
              "  font-size: 12px;\n",
              "}\n",
              "#T_018c9_row6_col3 {\n",
              "  text-align: center;\n",
              "  width: 10em;\n",
              "  height: 80%;\n",
              "  background: linear-gradient(90deg,#aadbaa 46.4%, transparent 46.4%);\n",
              "  color: #251e1b;\n",
              "  font-size: 12px;\n",
              "}\n",
              "</style>\n",
              "<table id=\"T_018c9_\" class=\"dataframe\">\n",
              "  <thead>\n",
              "    <tr>\n",
              "      <th class=\"blank level0\" >&nbsp;</th>\n",
              "      <th class=\"col_heading level0 col0\" >accuracy</th>\n",
              "      <th class=\"col_heading level0 col1\" >f1_score</th>\n",
              "      <th class=\"col_heading level0 col2\" >precision</th>\n",
              "      <th class=\"col_heading level0 col3\" >recall</th>\n",
              "      <th class=\"col_heading level0 col4\" >ml_framework</th>\n",
              "      <th class=\"col_heading level0 col5\" >transfer_learning</th>\n",
              "      <th class=\"col_heading level0 col6\" >deep_learning</th>\n",
              "      <th class=\"col_heading level0 col7\" >model_type</th>\n",
              "      <th class=\"col_heading level0 col8\" >depth</th>\n",
              "      <th class=\"col_heading level0 col9\" >num_params</th>\n",
              "      <th class=\"col_heading level0 col10\" >dropout_layers</th>\n",
              "      <th class=\"col_heading level0 col11\" >dense_layers</th>\n",
              "      <th class=\"col_heading level0 col12\" >relu_act</th>\n",
              "      <th class=\"col_heading level0 col13\" >softmax_act</th>\n",
              "      <th class=\"col_heading level0 col14\" >loss</th>\n",
              "      <th class=\"col_heading level0 col15\" >optimizer</th>\n",
              "      <th class=\"col_heading level0 col16\" >memory_size</th>\n",
              "      <th class=\"col_heading level0 col17\" >username</th>\n",
              "      <th class=\"col_heading level0 col18\" >version</th>\n",
              "    </tr>\n",
              "  </thead>\n",
              "  <tbody>\n",
              "    <tr>\n",
              "      <th id=\"T_018c9_level0_row0\" class=\"row_heading level0 row0\" >0</th>\n",
              "      <td id=\"T_018c9_row0_col0\" class=\"data row0 col0\" >96.67%</td>\n",
              "      <td id=\"T_018c9_row0_col1\" class=\"data row0 col1\" >96.45%</td>\n",
              "      <td id=\"T_018c9_row0_col2\" class=\"data row0 col2\" >96.97%</td>\n",
              "      <td id=\"T_018c9_row0_col3\" class=\"data row0 col3\" >96.30%</td>\n",
              "      <td id=\"T_018c9_row0_col4\" class=\"data row0 col4\" >sklearn</td>\n",
              "      <td id=\"T_018c9_row0_col5\" class=\"data row0 col5\" >False</td>\n",
              "      <td id=\"T_018c9_row0_col6\" class=\"data row0 col6\" >False</td>\n",
              "      <td id=\"T_018c9_row0_col7\" class=\"data row0 col7\" >RandomForestClassifier</td>\n",
              "      <td id=\"T_018c9_row0_col8\" class=\"data row0 col8\" >nan</td>\n",
              "      <td id=\"T_018c9_row0_col9\" class=\"data row0 col9\" >nan</td>\n",
              "      <td id=\"T_018c9_row0_col10\" class=\"data row0 col10\" >nan</td>\n",
              "      <td id=\"T_018c9_row0_col11\" class=\"data row0 col11\" >nan</td>\n",
              "      <td id=\"T_018c9_row0_col12\" class=\"data row0 col12\" >nan</td>\n",
              "      <td id=\"T_018c9_row0_col13\" class=\"data row0 col13\" >nan</td>\n",
              "      <td id=\"T_018c9_row0_col14\" class=\"data row0 col14\" >nan</td>\n",
              "      <td id=\"T_018c9_row0_col15\" class=\"data row0 col15\" >nan</td>\n",
              "      <td id=\"T_018c9_row0_col16\" class=\"data row0 col16\" >nan</td>\n",
              "      <td id=\"T_018c9_row0_col17\" class=\"data row0 col17\" >ML_Risk_Mgmnt</td>\n",
              "      <td id=\"T_018c9_row0_col18\" class=\"data row0 col18\" >1</td>\n",
              "    </tr>\n",
              "    <tr>\n",
              "      <th id=\"T_018c9_level0_row1\" class=\"row_heading level0 row1\" >1</th>\n",
              "      <td id=\"T_018c9_row1_col0\" class=\"data row1 col0\" >96.67%</td>\n",
              "      <td id=\"T_018c9_row1_col1\" class=\"data row1 col1\" >96.45%</td>\n",
              "      <td id=\"T_018c9_row1_col2\" class=\"data row1 col2\" >96.97%</td>\n",
              "      <td id=\"T_018c9_row1_col3\" class=\"data row1 col3\" >96.30%</td>\n",
              "      <td id=\"T_018c9_row1_col4\" class=\"data row1 col4\" >sklearn</td>\n",
              "      <td id=\"T_018c9_row1_col5\" class=\"data row1 col5\" >False</td>\n",
              "      <td id=\"T_018c9_row1_col6\" class=\"data row1 col6\" >False</td>\n",
              "      <td id=\"T_018c9_row1_col7\" class=\"data row1 col7\" >SVC</td>\n",
              "      <td id=\"T_018c9_row1_col8\" class=\"data row1 col8\" >nan</td>\n",
              "      <td id=\"T_018c9_row1_col9\" class=\"data row1 col9\" >12.000000</td>\n",
              "      <td id=\"T_018c9_row1_col10\" class=\"data row1 col10\" >nan</td>\n",
              "      <td id=\"T_018c9_row1_col11\" class=\"data row1 col11\" >nan</td>\n",
              "      <td id=\"T_018c9_row1_col12\" class=\"data row1 col12\" >nan</td>\n",
              "      <td id=\"T_018c9_row1_col13\" class=\"data row1 col13\" >nan</td>\n",
              "      <td id=\"T_018c9_row1_col14\" class=\"data row1 col14\" >nan</td>\n",
              "      <td id=\"T_018c9_row1_col15\" class=\"data row1 col15\" >nan</td>\n",
              "      <td id=\"T_018c9_row1_col16\" class=\"data row1 col16\" >nan</td>\n",
              "      <td id=\"T_018c9_row1_col17\" class=\"data row1 col17\" >ML_Risk_Mgmnt</td>\n",
              "      <td id=\"T_018c9_row1_col18\" class=\"data row1 col18\" >2</td>\n",
              "    </tr>\n",
              "    <tr>\n",
              "      <th id=\"T_018c9_level0_row2\" class=\"row_heading level0 row2\" >2</th>\n",
              "      <td id=\"T_018c9_row2_col0\" class=\"data row2 col0\" >96.67%</td>\n",
              "      <td id=\"T_018c9_row2_col1\" class=\"data row2 col1\" >96.45%</td>\n",
              "      <td id=\"T_018c9_row2_col2\" class=\"data row2 col2\" >96.97%</td>\n",
              "      <td id=\"T_018c9_row2_col3\" class=\"data row2 col3\" >96.30%</td>\n",
              "      <td id=\"T_018c9_row2_col4\" class=\"data row2 col4\" >sklearn</td>\n",
              "      <td id=\"T_018c9_row2_col5\" class=\"data row2 col5\" >False</td>\n",
              "      <td id=\"T_018c9_row2_col6\" class=\"data row2 col6\" >False</td>\n",
              "      <td id=\"T_018c9_row2_col7\" class=\"data row2 col7\" >RandomForestClassifier</td>\n",
              "      <td id=\"T_018c9_row2_col8\" class=\"data row2 col8\" >nan</td>\n",
              "      <td id=\"T_018c9_row2_col9\" class=\"data row2 col9\" >nan</td>\n",
              "      <td id=\"T_018c9_row2_col10\" class=\"data row2 col10\" >nan</td>\n",
              "      <td id=\"T_018c9_row2_col11\" class=\"data row2 col11\" >nan</td>\n",
              "      <td id=\"T_018c9_row2_col12\" class=\"data row2 col12\" >nan</td>\n",
              "      <td id=\"T_018c9_row2_col13\" class=\"data row2 col13\" >nan</td>\n",
              "      <td id=\"T_018c9_row2_col14\" class=\"data row2 col14\" >nan</td>\n",
              "      <td id=\"T_018c9_row2_col15\" class=\"data row2 col15\" >nan</td>\n",
              "      <td id=\"T_018c9_row2_col16\" class=\"data row2 col16\" >nan</td>\n",
              "      <td id=\"T_018c9_row2_col17\" class=\"data row2 col17\" >ML_Risk_Mgmnt</td>\n",
              "      <td id=\"T_018c9_row2_col18\" class=\"data row2 col18\" >3</td>\n",
              "    </tr>\n",
              "    <tr>\n",
              "      <th id=\"T_018c9_level0_row3\" class=\"row_heading level0 row3\" >3</th>\n",
              "      <td id=\"T_018c9_row3_col0\" class=\"data row3 col0\" >96.67%</td>\n",
              "      <td id=\"T_018c9_row3_col1\" class=\"data row3 col1\" >96.45%</td>\n",
              "      <td id=\"T_018c9_row3_col2\" class=\"data row3 col2\" >96.97%</td>\n",
              "      <td id=\"T_018c9_row3_col3\" class=\"data row3 col3\" >96.30%</td>\n",
              "      <td id=\"T_018c9_row3_col4\" class=\"data row3 col4\" >sklearn</td>\n",
              "      <td id=\"T_018c9_row3_col5\" class=\"data row3 col5\" >False</td>\n",
              "      <td id=\"T_018c9_row3_col6\" class=\"data row3 col6\" >False</td>\n",
              "      <td id=\"T_018c9_row3_col7\" class=\"data row3 col7\" >SVC</td>\n",
              "      <td id=\"T_018c9_row3_col8\" class=\"data row3 col8\" >nan</td>\n",
              "      <td id=\"T_018c9_row3_col9\" class=\"data row3 col9\" >12.000000</td>\n",
              "      <td id=\"T_018c9_row3_col10\" class=\"data row3 col10\" >nan</td>\n",
              "      <td id=\"T_018c9_row3_col11\" class=\"data row3 col11\" >nan</td>\n",
              "      <td id=\"T_018c9_row3_col12\" class=\"data row3 col12\" >nan</td>\n",
              "      <td id=\"T_018c9_row3_col13\" class=\"data row3 col13\" >nan</td>\n",
              "      <td id=\"T_018c9_row3_col14\" class=\"data row3 col14\" >nan</td>\n",
              "      <td id=\"T_018c9_row3_col15\" class=\"data row3 col15\" >nan</td>\n",
              "      <td id=\"T_018c9_row3_col16\" class=\"data row3 col16\" >nan</td>\n",
              "      <td id=\"T_018c9_row3_col17\" class=\"data row3 col17\" >ML_Risk_Mgmnt</td>\n",
              "      <td id=\"T_018c9_row3_col18\" class=\"data row3 col18\" >4</td>\n",
              "    </tr>\n",
              "    <tr>\n",
              "      <th id=\"T_018c9_level0_row4\" class=\"row_heading level0 row4\" >4</th>\n",
              "      <td id=\"T_018c9_row4_col0\" class=\"data row4 col0\" >73.33%</td>\n",
              "      <td id=\"T_018c9_row4_col1\" class=\"data row4 col1\" >67.52%</td>\n",
              "      <td id=\"T_018c9_row4_col2\" class=\"data row4 col2\" >84.31%</td>\n",
              "      <td id=\"T_018c9_row4_col3\" class=\"data row4 col3\" >73.33%</td>\n",
              "      <td id=\"T_018c9_row4_col4\" class=\"data row4 col4\" >keras</td>\n",
              "      <td id=\"T_018c9_row4_col5\" class=\"data row4 col5\" >False</td>\n",
              "      <td id=\"T_018c9_row4_col6\" class=\"data row4 col6\" >True</td>\n",
              "      <td id=\"T_018c9_row4_col7\" class=\"data row4 col7\" >Sequential</td>\n",
              "      <td id=\"T_018c9_row4_col8\" class=\"data row4 col8\" >4.000000</td>\n",
              "      <td id=\"T_018c9_row4_col9\" class=\"data row4 col9\" >34947.000000</td>\n",
              "      <td id=\"T_018c9_row4_col10\" class=\"data row4 col10\" >nan</td>\n",
              "      <td id=\"T_018c9_row4_col11\" class=\"data row4 col11\" >4.000000</td>\n",
              "      <td id=\"T_018c9_row4_col12\" class=\"data row4 col12\" >3.000000</td>\n",
              "      <td id=\"T_018c9_row4_col13\" class=\"data row4 col13\" >1.000000</td>\n",
              "      <td id=\"T_018c9_row4_col14\" class=\"data row4 col14\" >str</td>\n",
              "      <td id=\"T_018c9_row4_col15\" class=\"data row4 col15\" >RMSprop</td>\n",
              "      <td id=\"T_018c9_row4_col16\" class=\"data row4 col16\" >140840.000000</td>\n",
              "      <td id=\"T_018c9_row4_col17\" class=\"data row4 col17\" >ML_Risk_Mgmnt</td>\n",
              "      <td id=\"T_018c9_row4_col18\" class=\"data row4 col18\" >7</td>\n",
              "    </tr>\n",
              "    <tr>\n",
              "      <th id=\"T_018c9_level0_row5\" class=\"row_heading level0 row5\" >5</th>\n",
              "      <td id=\"T_018c9_row5_col0\" class=\"data row5 col0\" >53.33%</td>\n",
              "      <td id=\"T_018c9_row5_col1\" class=\"data row5 col1\" >44.68%</td>\n",
              "      <td id=\"T_018c9_row5_col2\" class=\"data row5 col2\" >46.38%</td>\n",
              "      <td id=\"T_018c9_row5_col3\" class=\"data row5 col3\" >54.55%</td>\n",
              "      <td id=\"T_018c9_row5_col4\" class=\"data row5 col4\" >keras</td>\n",
              "      <td id=\"T_018c9_row5_col5\" class=\"data row5 col5\" >False</td>\n",
              "      <td id=\"T_018c9_row5_col6\" class=\"data row5 col6\" >True</td>\n",
              "      <td id=\"T_018c9_row5_col7\" class=\"data row5 col7\" >Sequential</td>\n",
              "      <td id=\"T_018c9_row5_col8\" class=\"data row5 col8\" >4.000000</td>\n",
              "      <td id=\"T_018c9_row5_col9\" class=\"data row5 col9\" >995.000000</td>\n",
              "      <td id=\"T_018c9_row5_col10\" class=\"data row5 col10\" >nan</td>\n",
              "      <td id=\"T_018c9_row5_col11\" class=\"data row5 col11\" >4.000000</td>\n",
              "      <td id=\"T_018c9_row5_col12\" class=\"data row5 col12\" >3.000000</td>\n",
              "      <td id=\"T_018c9_row5_col13\" class=\"data row5 col13\" >1.000000</td>\n",
              "      <td id=\"T_018c9_row5_col14\" class=\"data row5 col14\" >str</td>\n",
              "      <td id=\"T_018c9_row5_col15\" class=\"data row5 col15\" >SGD</td>\n",
              "      <td id=\"T_018c9_row5_col16\" class=\"data row5 col16\" >5032.000000</td>\n",
              "      <td id=\"T_018c9_row5_col17\" class=\"data row5 col17\" >ML_Risk_Mgmnt</td>\n",
              "      <td id=\"T_018c9_row5_col18\" class=\"data row5 col18\" >5</td>\n",
              "    </tr>\n",
              "    <tr>\n",
              "      <th id=\"T_018c9_level0_row6\" class=\"row_heading level0 row6\" >6</th>\n",
              "      <td id=\"T_018c9_row6_col0\" class=\"data row6 col0\" >43.33%</td>\n",
              "      <td id=\"T_018c9_row6_col1\" class=\"data row6 col1\" >38.08%</td>\n",
              "      <td id=\"T_018c9_row6_col2\" class=\"data row6 col2\" >78.21%</td>\n",
              "      <td id=\"T_018c9_row6_col3\" class=\"data row6 col3\" >46.36%</td>\n",
              "      <td id=\"T_018c9_row6_col4\" class=\"data row6 col4\" >keras</td>\n",
              "      <td id=\"T_018c9_row6_col5\" class=\"data row6 col5\" >False</td>\n",
              "      <td id=\"T_018c9_row6_col6\" class=\"data row6 col6\" >True</td>\n",
              "      <td id=\"T_018c9_row6_col7\" class=\"data row6 col7\" >Sequential</td>\n",
              "      <td id=\"T_018c9_row6_col8\" class=\"data row6 col8\" >7.000000</td>\n",
              "      <td id=\"T_018c9_row6_col9\" class=\"data row6 col9\" >17411.000000</td>\n",
              "      <td id=\"T_018c9_row6_col10\" class=\"data row6 col10\" >2.000000</td>\n",
              "      <td id=\"T_018c9_row6_col11\" class=\"data row6 col11\" >5.000000</td>\n",
              "      <td id=\"T_018c9_row6_col12\" class=\"data row6 col12\" >4.000000</td>\n",
              "      <td id=\"T_018c9_row6_col13\" class=\"data row6 col13\" >1.000000</td>\n",
              "      <td id=\"T_018c9_row6_col14\" class=\"data row6 col14\" >str</td>\n",
              "      <td id=\"T_018c9_row6_col15\" class=\"data row6 col15\" >SGD</td>\n",
              "      <td id=\"T_018c9_row6_col16\" class=\"data row6 col16\" >70984.000000</td>\n",
              "      <td id=\"T_018c9_row6_col17\" class=\"data row6 col17\" >ML_Risk_Mgmnt</td>\n",
              "      <td id=\"T_018c9_row6_col18\" class=\"data row6 col18\" >6</td>\n",
              "    </tr>\n",
              "  </tbody>\n",
              "</table>\n"
            ]
          },
          "metadata": {},
          "execution_count": 24
        }
      ]
    },
    {
      "cell_type": "code",
      "metadata": {
        "id": "MKvPKyb7hT0h",
        "colab": {
          "base_uri": "https://localhost:8080/",
          "height": 180
        },
        "outputId": "7e60162d-affd-4b27-c9f7-ae0c700c43b9"
      },
      "source": [
        "# Compare two or more models\n",
        "data=mycompetition.compare_models([5, 6, 7], verbose=1)\n",
        "mycompetition.stylize_compare(data)"
      ],
      "execution_count": 25,
      "outputs": [
        {
          "output_type": "display_data",
          "data": {
            "text/plain": [
              "<IPython.core.display.HTML object>"
            ],
            "text/html": [
              "<style type=\"text/css\">\n",
              "#T_5c147_ caption {\n",
              "  color: black;\n",
              "  font-size: 18px;\n",
              "}\n",
              "#T_5c147_row0_col0, #T_5c147_row0_col3, #T_5c147_row0_col6, #T_5c147_row1_col0, #T_5c147_row1_col6, #T_5c147_row2_col0, #T_5c147_row2_col3, #T_5c147_row2_col6, #T_5c147_row3_col0, #T_5c147_row3_col3, #T_5c147_row3_col6, #T_5c147_row5_col3, #T_5c147_row6_col3 {\n",
              "  background: #fff2ae;\n",
              "  color: black;\n",
              "  color: black;\n",
              "}\n",
              "#T_5c147_row0_col1, #T_5c147_row0_col2, #T_5c147_row0_col4, #T_5c147_row0_col5, #T_5c147_row0_col7, #T_5c147_row0_col8, #T_5c147_row1_col1, #T_5c147_row1_col2, #T_5c147_row1_col4, #T_5c147_row1_col5, #T_5c147_row1_col7, #T_5c147_row1_col8, #T_5c147_row2_col1, #T_5c147_row2_col2, #T_5c147_row2_col4, #T_5c147_row2_col5, #T_5c147_row2_col7, #T_5c147_row2_col8, #T_5c147_row3_col1, #T_5c147_row3_col2, #T_5c147_row3_col4, #T_5c147_row3_col5, #T_5c147_row3_col7, #T_5c147_row3_col8, #T_5c147_row4_col0, #T_5c147_row4_col1, #T_5c147_row4_col2, #T_5c147_row4_col4, #T_5c147_row4_col5, #T_5c147_row4_col6, #T_5c147_row4_col7, #T_5c147_row4_col8, #T_5c147_row5_col0, #T_5c147_row5_col1, #T_5c147_row5_col2, #T_5c147_row5_col4, #T_5c147_row5_col5, #T_5c147_row5_col6, #T_5c147_row5_col7, #T_5c147_row5_col8, #T_5c147_row6_col0, #T_5c147_row6_col1, #T_5c147_row6_col2, #T_5c147_row6_col4, #T_5c147_row6_col5, #T_5c147_row6_col6, #T_5c147_row6_col7, #T_5c147_row6_col8 {\n",
              "  background: white;\n",
              "  color: black;\n",
              "  color: black;\n",
              "}\n",
              "#T_5c147_row1_col3, #T_5c147_row4_col3 {\n",
              "  background: #cbd5e8;\n",
              "  color: black;\n",
              "  color: black;\n",
              "}\n",
              "</style>\n",
              "<table id=\"T_5c147_\">\n",
              "  <caption>Model type: Neural Network</caption>\n",
              "  <thead>\n",
              "    <tr>\n",
              "      <th class=\"blank level0\" >&nbsp;</th>\n",
              "      <th class=\"col_heading level0 col0\" >Model_5_Layer</th>\n",
              "      <th class=\"col_heading level0 col1\" >Model_5_Shape</th>\n",
              "      <th class=\"col_heading level0 col2\" >Model_5_Params</th>\n",
              "      <th class=\"col_heading level0 col3\" >Model_6_Layer</th>\n",
              "      <th class=\"col_heading level0 col4\" >Model_6_Shape</th>\n",
              "      <th class=\"col_heading level0 col5\" >Model_6_Params</th>\n",
              "      <th class=\"col_heading level0 col6\" >Model_7_Layer</th>\n",
              "      <th class=\"col_heading level0 col7\" >Model_7_Shape</th>\n",
              "      <th class=\"col_heading level0 col8\" >Model_7_Params</th>\n",
              "    </tr>\n",
              "  </thead>\n",
              "  <tbody>\n",
              "    <tr>\n",
              "      <th id=\"T_5c147_level0_row0\" class=\"row_heading level0 row0\" >0</th>\n",
              "      <td id=\"T_5c147_row0_col0\" class=\"data row0 col0\" >Dense</td>\n",
              "      <td id=\"T_5c147_row0_col1\" class=\"data row0 col1\" >[None, 16]</td>\n",
              "      <td id=\"T_5c147_row0_col2\" class=\"data row0 col2\" >80.000000</td>\n",
              "      <td id=\"T_5c147_row0_col3\" class=\"data row0 col3\" >Dense</td>\n",
              "      <td id=\"T_5c147_row0_col4\" class=\"data row0 col4\" >[None, 128]</td>\n",
              "      <td id=\"T_5c147_row0_col5\" class=\"data row0 col5\" >640</td>\n",
              "      <td id=\"T_5c147_row0_col6\" class=\"data row0 col6\" >Dense</td>\n",
              "      <td id=\"T_5c147_row0_col7\" class=\"data row0 col7\" >[None, 64]</td>\n",
              "      <td id=\"T_5c147_row0_col8\" class=\"data row0 col8\" >320.000000</td>\n",
              "    </tr>\n",
              "    <tr>\n",
              "      <th id=\"T_5c147_level0_row1\" class=\"row_heading level0 row1\" >1</th>\n",
              "      <td id=\"T_5c147_row1_col0\" class=\"data row1 col0\" >Dense</td>\n",
              "      <td id=\"T_5c147_row1_col1\" class=\"data row1 col1\" >[None, 16]</td>\n",
              "      <td id=\"T_5c147_row1_col2\" class=\"data row1 col2\" >272.000000</td>\n",
              "      <td id=\"T_5c147_row1_col3\" class=\"data row1 col3\" >Dropout</td>\n",
              "      <td id=\"T_5c147_row1_col4\" class=\"data row1 col4\" >[None, 128]</td>\n",
              "      <td id=\"T_5c147_row1_col5\" class=\"data row1 col5\" >0</td>\n",
              "      <td id=\"T_5c147_row1_col6\" class=\"data row1 col6\" >Dense</td>\n",
              "      <td id=\"T_5c147_row1_col7\" class=\"data row1 col7\" >[None, 64]</td>\n",
              "      <td id=\"T_5c147_row1_col8\" class=\"data row1 col8\" >4160.000000</td>\n",
              "    </tr>\n",
              "    <tr>\n",
              "      <th id=\"T_5c147_level0_row2\" class=\"row_heading level0 row2\" >2</th>\n",
              "      <td id=\"T_5c147_row2_col0\" class=\"data row2 col0\" >Dense</td>\n",
              "      <td id=\"T_5c147_row2_col1\" class=\"data row2 col1\" >[None, 32]</td>\n",
              "      <td id=\"T_5c147_row2_col2\" class=\"data row2 col2\" >544.000000</td>\n",
              "      <td id=\"T_5c147_row2_col3\" class=\"data row2 col3\" >Dense</td>\n",
              "      <td id=\"T_5c147_row2_col4\" class=\"data row2 col4\" >[None, 64]</td>\n",
              "      <td id=\"T_5c147_row2_col5\" class=\"data row2 col5\" >8256</td>\n",
              "      <td id=\"T_5c147_row2_col6\" class=\"data row2 col6\" >Dense</td>\n",
              "      <td id=\"T_5c147_row2_col7\" class=\"data row2 col7\" >[None, 448]</td>\n",
              "      <td id=\"T_5c147_row2_col8\" class=\"data row2 col8\" >29120.000000</td>\n",
              "    </tr>\n",
              "    <tr>\n",
              "      <th id=\"T_5c147_level0_row3\" class=\"row_heading level0 row3\" >3</th>\n",
              "      <td id=\"T_5c147_row3_col0\" class=\"data row3 col0\" >Dense</td>\n",
              "      <td id=\"T_5c147_row3_col1\" class=\"data row3 col1\" >[None, 3]</td>\n",
              "      <td id=\"T_5c147_row3_col2\" class=\"data row3 col2\" >99.000000</td>\n",
              "      <td id=\"T_5c147_row3_col3\" class=\"data row3 col3\" >Dense</td>\n",
              "      <td id=\"T_5c147_row3_col4\" class=\"data row3 col4\" >[None, 64]</td>\n",
              "      <td id=\"T_5c147_row3_col5\" class=\"data row3 col5\" >4160</td>\n",
              "      <td id=\"T_5c147_row3_col6\" class=\"data row3 col6\" >Dense</td>\n",
              "      <td id=\"T_5c147_row3_col7\" class=\"data row3 col7\" >[None, 3]</td>\n",
              "      <td id=\"T_5c147_row3_col8\" class=\"data row3 col8\" >1347.000000</td>\n",
              "    </tr>\n",
              "    <tr>\n",
              "      <th id=\"T_5c147_level0_row4\" class=\"row_heading level0 row4\" >4</th>\n",
              "      <td id=\"T_5c147_row4_col0\" class=\"data row4 col0\" >None</td>\n",
              "      <td id=\"T_5c147_row4_col1\" class=\"data row4 col1\" >None</td>\n",
              "      <td id=\"T_5c147_row4_col2\" class=\"data row4 col2\" >nan</td>\n",
              "      <td id=\"T_5c147_row4_col3\" class=\"data row4 col3\" >Dropout</td>\n",
              "      <td id=\"T_5c147_row4_col4\" class=\"data row4 col4\" >[None, 64]</td>\n",
              "      <td id=\"T_5c147_row4_col5\" class=\"data row4 col5\" >0</td>\n",
              "      <td id=\"T_5c147_row4_col6\" class=\"data row4 col6\" >None</td>\n",
              "      <td id=\"T_5c147_row4_col7\" class=\"data row4 col7\" >None</td>\n",
              "      <td id=\"T_5c147_row4_col8\" class=\"data row4 col8\" >nan</td>\n",
              "    </tr>\n",
              "    <tr>\n",
              "      <th id=\"T_5c147_level0_row5\" class=\"row_heading level0 row5\" >5</th>\n",
              "      <td id=\"T_5c147_row5_col0\" class=\"data row5 col0\" >None</td>\n",
              "      <td id=\"T_5c147_row5_col1\" class=\"data row5 col1\" >None</td>\n",
              "      <td id=\"T_5c147_row5_col2\" class=\"data row5 col2\" >nan</td>\n",
              "      <td id=\"T_5c147_row5_col3\" class=\"data row5 col3\" >Dense</td>\n",
              "      <td id=\"T_5c147_row5_col4\" class=\"data row5 col4\" >[None, 64]</td>\n",
              "      <td id=\"T_5c147_row5_col5\" class=\"data row5 col5\" >4160</td>\n",
              "      <td id=\"T_5c147_row5_col6\" class=\"data row5 col6\" >None</td>\n",
              "      <td id=\"T_5c147_row5_col7\" class=\"data row5 col7\" >None</td>\n",
              "      <td id=\"T_5c147_row5_col8\" class=\"data row5 col8\" >nan</td>\n",
              "    </tr>\n",
              "    <tr>\n",
              "      <th id=\"T_5c147_level0_row6\" class=\"row_heading level0 row6\" >6</th>\n",
              "      <td id=\"T_5c147_row6_col0\" class=\"data row6 col0\" >None</td>\n",
              "      <td id=\"T_5c147_row6_col1\" class=\"data row6 col1\" >None</td>\n",
              "      <td id=\"T_5c147_row6_col2\" class=\"data row6 col2\" >nan</td>\n",
              "      <td id=\"T_5c147_row6_col3\" class=\"data row6 col3\" >Dense</td>\n",
              "      <td id=\"T_5c147_row6_col4\" class=\"data row6 col4\" >[None, 3]</td>\n",
              "      <td id=\"T_5c147_row6_col5\" class=\"data row6 col5\" >195</td>\n",
              "      <td id=\"T_5c147_row6_col6\" class=\"data row6 col6\" >None</td>\n",
              "      <td id=\"T_5c147_row6_col7\" class=\"data row6 col7\" >None</td>\n",
              "      <td id=\"T_5c147_row6_col8\" class=\"data row6 col8\" >nan</td>\n",
              "    </tr>\n",
              "  </tbody>\n",
              "</table>\n"
            ]
          },
          "metadata": {}
        }
      ]
    }
  ]
}