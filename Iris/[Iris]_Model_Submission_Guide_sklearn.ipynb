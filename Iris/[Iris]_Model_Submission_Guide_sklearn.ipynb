{
  "nbformat": 4,
  "nbformat_minor": 0,
  "metadata": {
    "colab": {
      "provenance": [],
      "collapsed_sections": []
    },
    "kernelspec": {
      "name": "python3",
      "display_name": "Python 3"
    },
    "language_info": {
      "name": "python"
    }
  },
  "cells": [
    {
      "cell_type": "markdown",
      "source": [
        "<p align=\"center\"><img width=\"50%\" src=\"https://aimodelsharecontent.s3.amazonaws.com/aimodshare_banner.jpg\" /></p>\n",
        "\n",
        "\n",
        "---"
      ],
      "metadata": {
        "id": "ekczNcQxUpzT"
      }
    },
    {
      "cell_type": "markdown",
      "metadata": {
        "id": "JXxGTgJz152A"
      },
      "source": [
        "## Model Submission Guide: Iris Classification Competition\n",
        "Let's share our models to a centralized leaderboard, so that we can collaborate and learn from the model experimentation process...\n",
        "\n",
        "**Instructions:**\n",
        "1.   Get data in and set up X_train / X_test / y_train\n",
        "2.   Preprocess data using Sklearn Column Transformer/ Write and Save Preprocessor function\n",
        "3. Fit model on preprocessed data and save preprocessor function and model \n",
        "4. Generate predictions from X_test data and submit model to competition\n",
        "5. Repeat submission process to improve place on leaderboard\n",
        "\n"
      ]
    },
    {
      "cell_type": "markdown",
      "metadata": {
        "id": "5gSrVJwp3E9H"
      },
      "source": [
        "## 1. Get data in and set up X_train, X_test, y_train objects"
      ]
    },
    {
      "cell_type": "code",
      "metadata": {
        "id": "PLTIaMB3ChSW"
      },
      "source": [
        "#install aimodelshare library\n",
        "! pip install aimodelshare --upgrade"
      ],
      "execution_count": null,
      "outputs": []
    },
    {
      "cell_type": "code",
      "metadata": {
        "colab": {
          "base_uri": "https://localhost:8080/"
        },
        "id": "d3PiJXBhC5y-",
        "outputId": "f0d2b298-f81a-435a-a4ae-5055f7f1fd79"
      },
      "source": [
        "# Get competition data\n",
        "from aimodelshare import download_data\n",
        "download_data('public.ecr.aws/y2e2a1d6/iris_competition_data-repository:latest') "
      ],
      "execution_count": 2,
      "outputs": [
        {
          "output_type": "stream",
          "name": "stdout",
          "text": [
            "Downloading [>                                                ]\n",
            "\n",
            "Data downloaded successfully.\n"
          ]
        }
      ]
    },
    {
      "cell_type": "code",
      "metadata": {
        "colab": {
          "base_uri": "https://localhost:8080/",
          "height": 169
        },
        "id": "jT0qFCZFNzHq",
        "outputId": "eab266b9-67fd-48a2-b067-422da67fac70"
      },
      "source": [
        "# Separate data into X_train, y_train, and X_test\n",
        "import pandas as pd\n",
        "y_train = pd.read_csv(\"iris_competition_data/y_train.csv\")\n",
        "y_train_labels = y_train.idxmax(axis=1)\n",
        "\n",
        "X_train = pd.read_csv(\"iris_competition_data/X_train.csv\")\n",
        "X_test=pd.read_csv(\"iris_competition_data/X_test.csv\")\n",
        "\n",
        "X_train.head()"
      ],
      "execution_count": 3,
      "outputs": [
        {
          "output_type": "execute_result",
          "data": {
            "text/plain": [
              "   SepalLengthCm  SepalWidthCm  PetalLengthCm  PetalWidthCm\n",
              "0            6.3           2.7            4.9           1.8\n",
              "1            4.8           3.4            1.9           0.2\n",
              "2            5.0           3.0            1.6           0.2\n",
              "3            5.1           3.3            1.7           0.5\n",
              "4            5.6           2.7            4.2           1.3"
            ],
            "text/html": [
              "\n",
              "  <div id=\"df-7e24621a-1bad-4e89-a9b6-4ee365215c00\">\n",
              "    <div class=\"colab-df-container\">\n",
              "      <div>\n",
              "<style scoped>\n",
              "    .dataframe tbody tr th:only-of-type {\n",
              "        vertical-align: middle;\n",
              "    }\n",
              "\n",
              "    .dataframe tbody tr th {\n",
              "        vertical-align: top;\n",
              "    }\n",
              "\n",
              "    .dataframe thead th {\n",
              "        text-align: right;\n",
              "    }\n",
              "</style>\n",
              "<table border=\"1\" class=\"dataframe\">\n",
              "  <thead>\n",
              "    <tr style=\"text-align: right;\">\n",
              "      <th></th>\n",
              "      <th>SepalLengthCm</th>\n",
              "      <th>SepalWidthCm</th>\n",
              "      <th>PetalLengthCm</th>\n",
              "      <th>PetalWidthCm</th>\n",
              "    </tr>\n",
              "  </thead>\n",
              "  <tbody>\n",
              "    <tr>\n",
              "      <th>0</th>\n",
              "      <td>6.3</td>\n",
              "      <td>2.7</td>\n",
              "      <td>4.9</td>\n",
              "      <td>1.8</td>\n",
              "    </tr>\n",
              "    <tr>\n",
              "      <th>1</th>\n",
              "      <td>4.8</td>\n",
              "      <td>3.4</td>\n",
              "      <td>1.9</td>\n",
              "      <td>0.2</td>\n",
              "    </tr>\n",
              "    <tr>\n",
              "      <th>2</th>\n",
              "      <td>5.0</td>\n",
              "      <td>3.0</td>\n",
              "      <td>1.6</td>\n",
              "      <td>0.2</td>\n",
              "    </tr>\n",
              "    <tr>\n",
              "      <th>3</th>\n",
              "      <td>5.1</td>\n",
              "      <td>3.3</td>\n",
              "      <td>1.7</td>\n",
              "      <td>0.5</td>\n",
              "    </tr>\n",
              "    <tr>\n",
              "      <th>4</th>\n",
              "      <td>5.6</td>\n",
              "      <td>2.7</td>\n",
              "      <td>4.2</td>\n",
              "      <td>1.3</td>\n",
              "    </tr>\n",
              "  </tbody>\n",
              "</table>\n",
              "</div>\n",
              "      <button class=\"colab-df-convert\" onclick=\"convertToInteractive('df-7e24621a-1bad-4e89-a9b6-4ee365215c00')\"\n",
              "              title=\"Convert this dataframe to an interactive table.\"\n",
              "              style=\"display:none;\">\n",
              "        \n",
              "  <svg xmlns=\"http://www.w3.org/2000/svg\" height=\"24px\"viewBox=\"0 0 24 24\"\n",
              "       width=\"24px\">\n",
              "    <path d=\"M0 0h24v24H0V0z\" fill=\"none\"/>\n",
              "    <path d=\"M18.56 5.44l.94 2.06.94-2.06 2.06-.94-2.06-.94-.94-2.06-.94 2.06-2.06.94zm-11 1L8.5 8.5l.94-2.06 2.06-.94-2.06-.94L8.5 2.5l-.94 2.06-2.06.94zm10 10l.94 2.06.94-2.06 2.06-.94-2.06-.94-.94-2.06-.94 2.06-2.06.94z\"/><path d=\"M17.41 7.96l-1.37-1.37c-.4-.4-.92-.59-1.43-.59-.52 0-1.04.2-1.43.59L10.3 9.45l-7.72 7.72c-.78.78-.78 2.05 0 2.83L4 21.41c.39.39.9.59 1.41.59.51 0 1.02-.2 1.41-.59l7.78-7.78 2.81-2.81c.8-.78.8-2.07 0-2.86zM5.41 20L4 18.59l7.72-7.72 1.47 1.35L5.41 20z\"/>\n",
              "  </svg>\n",
              "      </button>\n",
              "      \n",
              "  <style>\n",
              "    .colab-df-container {\n",
              "      display:flex;\n",
              "      flex-wrap:wrap;\n",
              "      gap: 12px;\n",
              "    }\n",
              "\n",
              "    .colab-df-convert {\n",
              "      background-color: #E8F0FE;\n",
              "      border: none;\n",
              "      border-radius: 50%;\n",
              "      cursor: pointer;\n",
              "      display: none;\n",
              "      fill: #1967D2;\n",
              "      height: 32px;\n",
              "      padding: 0 0 0 0;\n",
              "      width: 32px;\n",
              "    }\n",
              "\n",
              "    .colab-df-convert:hover {\n",
              "      background-color: #E2EBFA;\n",
              "      box-shadow: 0px 1px 2px rgba(60, 64, 67, 0.3), 0px 1px 3px 1px rgba(60, 64, 67, 0.15);\n",
              "      fill: #174EA6;\n",
              "    }\n",
              "\n",
              "    [theme=dark] .colab-df-convert {\n",
              "      background-color: #3B4455;\n",
              "      fill: #D2E3FC;\n",
              "    }\n",
              "\n",
              "    [theme=dark] .colab-df-convert:hover {\n",
              "      background-color: #434B5C;\n",
              "      box-shadow: 0px 1px 3px 1px rgba(0, 0, 0, 0.15);\n",
              "      filter: drop-shadow(0px 1px 2px rgba(0, 0, 0, 0.3));\n",
              "      fill: #FFFFFF;\n",
              "    }\n",
              "  </style>\n",
              "\n",
              "      <script>\n",
              "        const buttonEl =\n",
              "          document.querySelector('#df-7e24621a-1bad-4e89-a9b6-4ee365215c00 button.colab-df-convert');\n",
              "        buttonEl.style.display =\n",
              "          google.colab.kernel.accessAllowed ? 'block' : 'none';\n",
              "\n",
              "        async function convertToInteractive(key) {\n",
              "          const element = document.querySelector('#df-7e24621a-1bad-4e89-a9b6-4ee365215c00');\n",
              "          const dataTable =\n",
              "            await google.colab.kernel.invokeFunction('convertToInteractive',\n",
              "                                                     [key], {});\n",
              "          if (!dataTable) return;\n",
              "\n",
              "          const docLinkHtml = 'Like what you see? Visit the ' +\n",
              "            '<a target=\"_blank\" href=https://colab.research.google.com/notebooks/data_table.ipynb>data table notebook</a>'\n",
              "            + ' to learn more about interactive tables.';\n",
              "          element.innerHTML = '';\n",
              "          dataTable['output_type'] = 'display_data';\n",
              "          await google.colab.output.renderOutput(dataTable, element);\n",
              "          const docLink = document.createElement('div');\n",
              "          docLink.innerHTML = docLinkHtml;\n",
              "          element.appendChild(docLink);\n",
              "        }\n",
              "      </script>\n",
              "    </div>\n",
              "  </div>\n",
              "  "
            ]
          },
          "metadata": {},
          "execution_count": 3
        }
      ]
    },
    {
      "cell_type": "markdown",
      "metadata": {
        "id": "gEzPoXPj3V7u"
      },
      "source": [
        "##2.   Preprocess data using Sklearn / Write and Save Preprocessor function\n"
      ]
    },
    {
      "cell_type": "code",
      "metadata": {
        "id": "16QV9Y9TC3B3",
        "colab": {
          "base_uri": "https://localhost:8080/"
        },
        "outputId": "41972ec3-3afc-4aba-9aee-28258c12a485"
      },
      "source": [
        "# Simple Preprocessor with sklearn \n",
        "\n",
        "from sklearn.preprocessing import StandardScaler\n",
        "\n",
        "scaler = StandardScaler()\n",
        "scaler.fit(X_train)"
      ],
      "execution_count": 4,
      "outputs": [
        {
          "output_type": "execute_result",
          "data": {
            "text/plain": [
              "StandardScaler()"
            ]
          },
          "metadata": {},
          "execution_count": 4
        }
      ]
    },
    {
      "cell_type": "code",
      "source": [
        "# Here is where we actually write the preprocessor function:\n",
        "\n",
        "def preprocessor(data):\n",
        "    preprocessed_data=scaler.transform(data)\n",
        "    return preprocessed_data"
      ],
      "metadata": {
        "id": "S_PaNOG0SUIk"
      },
      "execution_count": 5,
      "outputs": []
    },
    {
      "cell_type": "code",
      "source": [
        "# check shape of X data after preprocessing it using our new function\n",
        "preprocessor(X_train).shape"
      ],
      "metadata": {
        "colab": {
          "base_uri": "https://localhost:8080/"
        },
        "id": "a1IPy9xvSWBp",
        "outputId": "1ceb1dbc-7dac-40b7-837b-d14cb671e823"
      },
      "execution_count": 6,
      "outputs": [
        {
          "output_type": "execute_result",
          "data": {
            "text/plain": [
              "(90, 4)"
            ]
          },
          "metadata": {},
          "execution_count": 6
        }
      ]
    },
    {
      "cell_type": "markdown",
      "metadata": {
        "id": "X52kECL43b-O"
      },
      "source": [
        "##3. Fit model on preprocessed data and save preprocessor function and model \n"
      ]
    },
    {
      "cell_type": "code",
      "metadata": {
        "colab": {
          "base_uri": "https://localhost:8080/"
        },
        "id": "NCbBf8j9ClYl",
        "outputId": "38141410-5f2f-42a4-d73a-8281a646c58c"
      },
      "source": [
        "from sklearn.ensemble import RandomForestClassifier\n",
        "\n",
        "model = RandomForestClassifier(n_estimators=2, max_depth=1)\n",
        "model.fit(preprocessor(X_train), y_train_labels) # Fitting to the training set.\n",
        "model.score(preprocessor(X_train), y_train_labels) # Fit score, 0-1 scale."
      ],
      "execution_count": 7,
      "outputs": [
        {
          "output_type": "execute_result",
          "data": {
            "text/plain": [
              "0.9444444444444444"
            ]
          },
          "metadata": {},
          "execution_count": 7
        }
      ]
    },
    {
      "cell_type": "markdown",
      "metadata": {
        "id": "zmJAnmO-5AcU"
      },
      "source": [
        "#### Save preprocessor function to local \"preprocessor.zip\" file"
      ]
    },
    {
      "cell_type": "code",
      "metadata": {
        "colab": {
          "base_uri": "https://localhost:8080/"
        },
        "id": "4VGacc0LDaMA",
        "outputId": "9408022e-ec04-4b6d-b338-b69bbc23943d"
      },
      "source": [
        "import aimodelshare as ai\n",
        "ai.export_preprocessor(preprocessor,\"\") "
      ],
      "execution_count": 8,
      "outputs": [
        {
          "output_type": "stream",
          "name": "stdout",
          "text": [
            "Your preprocessor is now saved to 'preprocessor.zip'\n"
          ]
        }
      ]
    },
    {
      "cell_type": "markdown",
      "metadata": {
        "id": "oOWBa8Cv5LdL"
      },
      "source": [
        "#### Save model to local \".onnx\" file"
      ]
    },
    {
      "cell_type": "code",
      "metadata": {
        "id": "pEhvnRiQDlY5"
      },
      "source": [
        "# Save sklearn model to local ONNX file\n",
        "from aimodelshare.aimsonnx import model_to_onnx\n",
        "\n",
        "# Check how many preprocessed input features there are\n",
        "from skl2onnx.common.data_types import FloatTensorType\n",
        "feature_count=preprocessor(X_test).shape[1] #Get count of preprocessed features\n",
        "initial_type = [('float_input', FloatTensorType([None, feature_count]))]  # Insert correct number of features in preprocessed data\n",
        "\n",
        "onnx_model = model_to_onnx(model, framework='sklearn',\n",
        "                          initial_types=initial_type,\n",
        "                          transfer_learning=False,deep_learning=False)\n",
        "\n",
        "with open(\"model.onnx\", \"wb\") as f:\n",
        "    f.write(onnx_model.SerializeToString())"
      ],
      "execution_count": 9,
      "outputs": []
    },
    {
      "cell_type": "markdown",
      "metadata": {
        "id": "gHWkAzvX3m8O"
      },
      "source": [
        "## 4. Generate predictions from X_test data and submit model to competition\n"
      ]
    },
    {
      "cell_type": "code",
      "metadata": {
        "colab": {
          "base_uri": "https://localhost:8080/"
        },
        "id": "RtgkM02MDpkO",
        "outputId": "652c945f-43af-4ffd-ea94-e0e432640493"
      },
      "source": [
        "#Set credentials using modelshare.org username/password\n",
        "\n",
        "from aimodelshare.aws import set_credentials\n",
        "\n",
        "#This is the unique rest api that powers this Iris Classification Playground -- make sure to update the apiurl for new competition deployments\n",
        "apiurl=\"https://hrn3jmp2sk.execute-api.us-east-1.amazonaws.com/prod/m\"\n",
        "\n",
        "set_credentials(apiurl=apiurl)"
      ],
      "execution_count": 10,
      "outputs": [
        {
          "output_type": "stream",
          "name": "stdout",
          "text": [
            "AI Modelshare Username:··········\n",
            "AI Modelshare Password:··········\n",
            "AI Model Share login credentials set successfully.\n"
          ]
        }
      ]
    },
    {
      "cell_type": "code",
      "metadata": {
        "id": "fKNGSww8EGgi"
      },
      "source": [
        "#Instantiate Competition\n",
        "import aimodelshare as ai\n",
        "mycompetition= ai.Competition(apiurl)"
      ],
      "execution_count": 11,
      "outputs": []
    },
    {
      "cell_type": "code",
      "source": [
        "from aimodelshare import ModelPlayground\n",
        "\n",
        "myplayground = ModelPlayground(playground_url=\"https://hrn3jmp2sk.execute-api.us-east-1.amazonaws.com/prod/m\")\n",
        "\n",
        "mycompetition= ai.Competition(myplayground.playground_url)"
      ],
      "metadata": {
        "id": "1NlKbOnMxMtq"
      },
      "execution_count": 12,
      "outputs": []
    },
    {
      "cell_type": "code",
      "metadata": {
        "id": "_Ql4wksyEUnP",
        "colab": {
          "base_uri": "https://localhost:8080/"
        },
        "outputId": "f0c925eb-cb0f-47f1-ea97-a1671563421e"
      },
      "source": [
        "#Submit Model 1: \n",
        "\n",
        "#-- Generate predicted values (a list of predicted labels 'Iris-setosa', 'Iris-versicolor', or 'Iris-virginica') (Model 1)\n",
        "prediction_labels = model.predict(preprocessor(X_test))\n",
        "\n",
        "# Submit Model 1 to Competition Leaderboard\n",
        "mycompetition.submit_model(model_filepath = \"model.onnx\",\n",
        "                                 preprocessor_filepath=\"preprocessor.zip\",\n",
        "                                 prediction_submission=prediction_labels)"
      ],
      "execution_count": 13,
      "outputs": [
        {
          "output_type": "stream",
          "name": "stdout",
          "text": [
            "Insert search tags to help users find your model (optional): \n",
            "Provide any useful notes about your model (optional): \n",
            "\n",
            "Your model has been submitted as model version 1\n",
            "\n",
            "To submit code used to create this model or to view current leaderboard navigate to Model Playground: \n",
            "\n",
            " https://www.modelshare.org/detail/model:1733\n"
          ]
        }
      ]
    },
    {
      "cell_type": "code",
      "metadata": {
        "colab": {
          "base_uri": "https://localhost:8080/",
          "height": 88
        },
        "id": "GN1zvAmNEq17",
        "outputId": "a3ed5139-9e9f-4a36-c70f-89aeddb597fd"
      },
      "source": [
        "# Get leaderboard to explore current best model architectures\n",
        "\n",
        "# Get raw data in pandas data frame\n",
        "data = mycompetition.get_leaderboard()\n",
        "\n",
        "# Stylize leaderboard data\n",
        "mycompetition.stylize_leaderboard(data)"
      ],
      "execution_count": 14,
      "outputs": [
        {
          "output_type": "execute_result",
          "data": {
            "text/plain": [
              "<pandas.io.formats.style.Styler at 0x7fa2eb0ffe90>"
            ],
            "text/html": [
              "<style type=\"text/css\">\n",
              "#T_ed086_row0_col0 {\n",
              "  text-align: center;\n",
              "  width: 10em;\n",
              "  height: 80%;\n",
              "  background: linear-gradient(90deg,#f5f8d6 90.0%, transparent 90.0%);\n",
              "  color: #251e1b;\n",
              "  font-size: 12px;\n",
              "}\n",
              "#T_ed086_row0_col1 {\n",
              "  text-align: center;\n",
              "  width: 10em;\n",
              "  height: 80%;\n",
              "  background: linear-gradient(90deg,#c778c8 89.5%, transparent 89.5%);\n",
              "  color: #251e1b;\n",
              "  font-size: 12px;\n",
              "}\n",
              "#T_ed086_row0_col2 {\n",
              "  text-align: center;\n",
              "  width: 10em;\n",
              "  height: 80%;\n",
              "  background: linear-gradient(90deg,#ff4971 89.6%, transparent 89.6%);\n",
              "  color: #251e1b;\n",
              "  font-size: 12px;\n",
              "}\n",
              "#T_ed086_row0_col3 {\n",
              "  text-align: center;\n",
              "  width: 10em;\n",
              "  height: 80%;\n",
              "  background: linear-gradient(90deg,#aadbaa 89.6%, transparent 89.6%);\n",
              "  color: #251e1b;\n",
              "  font-size: 12px;\n",
              "}\n",
              "#T_ed086_row0_col4, #T_ed086_row0_col5, #T_ed086_row0_col6, #T_ed086_row0_col7, #T_ed086_row0_col8, #T_ed086_row0_col9 {\n",
              "  text-align: center;\n",
              "}\n",
              "</style>\n",
              "<table id=\"T_ed086_\" class=\"dataframe\">\n",
              "  <thead>\n",
              "    <tr>\n",
              "      <th class=\"blank level0\" >&nbsp;</th>\n",
              "      <th class=\"col_heading level0 col0\" >accuracy</th>\n",
              "      <th class=\"col_heading level0 col1\" >f1_score</th>\n",
              "      <th class=\"col_heading level0 col2\" >precision</th>\n",
              "      <th class=\"col_heading level0 col3\" >recall</th>\n",
              "      <th class=\"col_heading level0 col4\" >ml_framework</th>\n",
              "      <th class=\"col_heading level0 col5\" >transfer_learning</th>\n",
              "      <th class=\"col_heading level0 col6\" >deep_learning</th>\n",
              "      <th class=\"col_heading level0 col7\" >model_type</th>\n",
              "      <th class=\"col_heading level0 col8\" >username</th>\n",
              "      <th class=\"col_heading level0 col9\" >version</th>\n",
              "    </tr>\n",
              "  </thead>\n",
              "  <tbody>\n",
              "    <tr>\n",
              "      <th id=\"T_ed086_level0_row0\" class=\"row_heading level0 row0\" >0</th>\n",
              "      <td id=\"T_ed086_row0_col0\" class=\"data row0 col0\" >90.00%</td>\n",
              "      <td id=\"T_ed086_row0_col1\" class=\"data row0 col1\" >89.47%</td>\n",
              "      <td id=\"T_ed086_row0_col2\" class=\"data row0 col2\" >89.63%</td>\n",
              "      <td id=\"T_ed086_row0_col3\" class=\"data row0 col3\" >89.63%</td>\n",
              "      <td id=\"T_ed086_row0_col4\" class=\"data row0 col4\" >sklearn</td>\n",
              "      <td id=\"T_ed086_row0_col5\" class=\"data row0 col5\" >False</td>\n",
              "      <td id=\"T_ed086_row0_col6\" class=\"data row0 col6\" >False</td>\n",
              "      <td id=\"T_ed086_row0_col7\" class=\"data row0 col7\" >RandomForestClassifier</td>\n",
              "      <td id=\"T_ed086_row0_col8\" class=\"data row0 col8\" >ML_Risk_Mgmnt</td>\n",
              "      <td id=\"T_ed086_row0_col9\" class=\"data row0 col9\" >1</td>\n",
              "    </tr>\n",
              "  </tbody>\n",
              "</table>\n"
            ]
          },
          "metadata": {},
          "execution_count": 14
        }
      ]
    },
    {
      "cell_type": "markdown",
      "metadata": {
        "id": "bwNKs0wP4r5s"
      },
      "source": [
        "## 5. Repeat submission process to improve place on leaderboard\n"
      ]
    },
    {
      "cell_type": "code",
      "metadata": {
        "colab": {
          "base_uri": "https://localhost:8080/"
        },
        "id": "FgSs5PAtPCZH",
        "outputId": "738d8707-300e-4c1d-d2a1-4404c6aa0801"
      },
      "source": [
        "# Train and submit model 2 using same preprocessor (note that you could save a new preprocessor, but we will use the same one for this example).\n",
        "from sklearn.svm import SVC # \"Support vector classifier\"\n",
        "model2 = SVC(kernel='linear', C=.01) \n",
        "model2.fit(preprocessor(X_train), y_train_labels)\n",
        "model2.score(preprocessor(X_train), y_train_labels)"
      ],
      "execution_count": 15,
      "outputs": [
        {
          "output_type": "execute_result",
          "data": {
            "text/plain": [
              "0.8888888888888888"
            ]
          },
          "metadata": {},
          "execution_count": 15
        }
      ]
    },
    {
      "cell_type": "code",
      "metadata": {
        "id": "aIdmSpYVPYAw"
      },
      "source": [
        "# Save sklearn model to local ONNX file\n",
        "from aimodelshare.aimsonnx import model_to_onnx\n",
        "\n",
        "# Check how many preprocessed input features there are\n",
        "from skl2onnx.common.data_types import FloatTensorType\n",
        "feature_count=preprocessor(X_test).shape[1] #Get count of preprocessed features\n",
        "initial_type = [('float_input', FloatTensorType([None, feature_count]))]  # Insert correct number of features in preprocessed data\n",
        "\n",
        "onnx_model = model_to_onnx(model2, framework='sklearn',\n",
        "                          initial_types=initial_type,\n",
        "                          transfer_learning=False,deep_learning=False)\n",
        "\n",
        "with open(\"model2.onnx\", \"wb\") as f:\n",
        "    f.write(onnx_model.SerializeToString())"
      ],
      "execution_count": 16,
      "outputs": []
    },
    {
      "cell_type": "code",
      "metadata": {
        "colab": {
          "base_uri": "https://localhost:8080/"
        },
        "id": "nszPPrfwPlUk",
        "outputId": "408306be-e4f1-41b5-f2fd-312fd6aa0640"
      },
      "source": [
        "#Submit Model 2: \n",
        "\n",
        "#-- Generate predicted values (Model 2)\n",
        "prediction_labels = model2.predict(preprocessor(X_test))\n",
        "\n",
        "# Submit Model 2 to Competition Leaderboard\n",
        "mycompetition.submit_model(model_filepath = \"model2.onnx\",\n",
        "                                 preprocessor_filepath=\"preprocessor.zip\",\n",
        "                                 prediction_submission=prediction_labels)"
      ],
      "execution_count": 17,
      "outputs": [
        {
          "output_type": "stream",
          "name": "stdout",
          "text": [
            "Insert search tags to help users find your model (optional): \n",
            "Provide any useful notes about your model (optional): \n",
            "\n",
            "Your model has been submitted as model version 2\n",
            "\n",
            "To submit code used to create this model or to view current leaderboard navigate to Model Playground: \n",
            "\n",
            " https://www.modelshare.org/detail/model:1733\n"
          ]
        }
      ]
    },
    {
      "cell_type": "code",
      "metadata": {
        "colab": {
          "base_uri": "https://localhost:8080/"
        },
        "id": "6Go4SF37Ex_Z",
        "outputId": "61fb9a18-9b55-451d-da46-6d93a0e9ffd4"
      },
      "source": [
        "# Build a third model using GridSearchCV\n",
        "\n",
        "from sklearn.ensemble import RandomForestClassifier\n",
        "from sklearn.model_selection import GridSearchCV\n",
        "import numpy as np\n",
        "\n",
        "param_grid = {'n_estimators': [3, 5, 8],'max_depth':[1]}\n",
        "\n",
        "gridmodel = GridSearchCV(RandomForestClassifier(), param_grid=param_grid, cv=10)\n",
        "\n",
        "#use meta model methods to fit score and predict model:\n",
        "gridmodel.fit(preprocessor(X_train), y_train_labels)\n",
        "\n",
        "#extract best score and parameter by calling objects \"best_score_\" and \"best_params_\"\n",
        "print(\"best mean cross-validation score: {:.3f}\".format(gridmodel.best_score_))\n",
        "print(\"best parameters: {}\".format(gridmodel.best_params_))\n"
      ],
      "execution_count": 18,
      "outputs": [
        {
          "output_type": "stream",
          "name": "stdout",
          "text": [
            "best mean cross-validation score: 0.811\n",
            "best parameters: {'max_depth': 1, 'n_estimators': 8}\n"
          ]
        }
      ]
    },
    {
      "cell_type": "code",
      "metadata": {
        "id": "HvLuIvOjHLH2"
      },
      "source": [
        "# Save sklearn model to local ONNX file\n",
        "from aimodelshare.aimsonnx import model_to_onnx\n",
        "\n",
        "feature_count=preprocessor(X_test).shape[1] #Get count of preprocessed features\n",
        "initial_type = [('float_input', FloatTensorType([None, feature_count]))]  # Insert correct number of preprocessed features\n",
        "\n",
        "onnx_model = model_to_onnx(gridmodel, framework='sklearn',\n",
        "                          initial_types=initial_type,\n",
        "                          transfer_learning=False,\n",
        "                          deep_learning=False)\n",
        "\n",
        "with open(\"gridmodel.onnx\", \"wb\") as f:\n",
        "    f.write(onnx_model.SerializeToString())"
      ],
      "execution_count": 19,
      "outputs": []
    },
    {
      "cell_type": "code",
      "metadata": {
        "colab": {
          "base_uri": "https://localhost:8080/"
        },
        "id": "sMidHABfHVN7",
        "outputId": "b6e40324-0ebb-405e-9f0a-acc879d7054e"
      },
      "source": [
        "#Submit Model 3: \n",
        "\n",
        "#-- Generate predicted values\n",
        "prediction_labels = gridmodel.predict(preprocessor(X_test))\n",
        "\n",
        "# Submit to Competition Leaderboard\n",
        "mycompetition.submit_model(model_filepath = \"gridmodel.onnx\",\n",
        "                                 preprocessor_filepath=\"preprocessor.zip\",\n",
        "                                 prediction_submission=prediction_labels)"
      ],
      "execution_count": 20,
      "outputs": [
        {
          "output_type": "stream",
          "name": "stdout",
          "text": [
            "Insert search tags to help users find your model (optional): \n",
            "Provide any useful notes about your model (optional): \n",
            "\n",
            "Your model has been submitted as model version 3\n",
            "\n",
            "To submit code used to create this model or to view current leaderboard navigate to Model Playground: \n",
            "\n",
            " https://www.modelshare.org/detail/model:1733\n"
          ]
        }
      ]
    },
    {
      "cell_type": "code",
      "metadata": {
        "colab": {
          "base_uri": "https://localhost:8080/",
          "height": 138
        },
        "id": "hn-Tp-zpJVGT",
        "outputId": "f6bf0809-d11c-4cf0-bc7a-6ddaebc038fe"
      },
      "source": [
        "# Get leaderboard\n",
        "\n",
        "data = mycompetition.get_leaderboard()\n",
        "mycompetition.stylize_leaderboard(data)"
      ],
      "execution_count": 21,
      "outputs": [
        {
          "output_type": "execute_result",
          "data": {
            "text/plain": [
              "<pandas.io.formats.style.Styler at 0x7fa2eb0151d0>"
            ],
            "text/html": [
              "<style type=\"text/css\">\n",
              "#T_c3597_row0_col0 {\n",
              "  text-align: center;\n",
              "  width: 10em;\n",
              "  height: 80%;\n",
              "  background: linear-gradient(90deg,#f5f8d6 90.0%, transparent 90.0%);\n",
              "  color: #251e1b;\n",
              "  font-size: 12px;\n",
              "}\n",
              "#T_c3597_row0_col1 {\n",
              "  text-align: center;\n",
              "  width: 10em;\n",
              "  height: 80%;\n",
              "  background: linear-gradient(90deg,#c778c8 89.5%, transparent 89.5%);\n",
              "  color: #251e1b;\n",
              "  font-size: 12px;\n",
              "}\n",
              "#T_c3597_row0_col2 {\n",
              "  text-align: center;\n",
              "  width: 10em;\n",
              "  height: 80%;\n",
              "  background: linear-gradient(90deg,#ff4971 89.6%, transparent 89.6%);\n",
              "  color: #251e1b;\n",
              "  font-size: 12px;\n",
              "}\n",
              "#T_c3597_row0_col3 {\n",
              "  text-align: center;\n",
              "  width: 10em;\n",
              "  height: 80%;\n",
              "  background: linear-gradient(90deg,#aadbaa 89.6%, transparent 89.6%);\n",
              "  color: #251e1b;\n",
              "  font-size: 12px;\n",
              "}\n",
              "#T_c3597_row0_col4, #T_c3597_row0_col5, #T_c3597_row0_col6, #T_c3597_row0_col7, #T_c3597_row0_col8, #T_c3597_row0_col9, #T_c3597_row0_col10, #T_c3597_row1_col4, #T_c3597_row1_col5, #T_c3597_row1_col6, #T_c3597_row1_col7, #T_c3597_row1_col8, #T_c3597_row1_col9, #T_c3597_row1_col10, #T_c3597_row2_col4, #T_c3597_row2_col5, #T_c3597_row2_col6, #T_c3597_row2_col7, #T_c3597_row2_col8, #T_c3597_row2_col9, #T_c3597_row2_col10 {\n",
              "  text-align: center;\n",
              "}\n",
              "#T_c3597_row1_col0 {\n",
              "  text-align: center;\n",
              "  width: 10em;\n",
              "  height: 80%;\n",
              "  background: linear-gradient(90deg,#f5f8d6 86.7%, transparent 86.7%);\n",
              "  color: #251e1b;\n",
              "  font-size: 12px;\n",
              "}\n",
              "#T_c3597_row1_col1 {\n",
              "  text-align: center;\n",
              "  width: 10em;\n",
              "  height: 80%;\n",
              "  background: linear-gradient(90deg,#c778c8 85.6%, transparent 85.6%);\n",
              "  color: #251e1b;\n",
              "  font-size: 12px;\n",
              "}\n",
              "#T_c3597_row1_col2 {\n",
              "  text-align: center;\n",
              "  width: 10em;\n",
              "  height: 80%;\n",
              "  background: linear-gradient(90deg,#ff4971 89.7%, transparent 89.7%);\n",
              "  color: #251e1b;\n",
              "  font-size: 12px;\n",
              "}\n",
              "#T_c3597_row1_col3 {\n",
              "  text-align: center;\n",
              "  width: 10em;\n",
              "  height: 80%;\n",
              "  background: linear-gradient(90deg,#aadbaa 86.7%, transparent 86.7%);\n",
              "  color: #251e1b;\n",
              "  font-size: 12px;\n",
              "}\n",
              "#T_c3597_row2_col0 {\n",
              "  text-align: center;\n",
              "  width: 10em;\n",
              "  height: 80%;\n",
              "  background: linear-gradient(90deg,#f5f8d6 70.0%, transparent 70.0%);\n",
              "  color: #251e1b;\n",
              "  font-size: 12px;\n",
              "}\n",
              "#T_c3597_row2_col1 {\n",
              "  text-align: center;\n",
              "  width: 10em;\n",
              "  height: 80%;\n",
              "  background: linear-gradient(90deg,#c778c8 61.6%, transparent 61.6%);\n",
              "  color: #251e1b;\n",
              "  font-size: 12px;\n",
              "}\n",
              "#T_c3597_row2_col2 {\n",
              "  text-align: center;\n",
              "  width: 10em;\n",
              "  height: 80%;\n",
              "  background: linear-gradient(90deg,#ff4971 83.3%, transparent 83.3%);\n",
              "  color: #251e1b;\n",
              "  font-size: 12px;\n",
              "}\n",
              "#T_c3597_row2_col3 {\n",
              "  text-align: center;\n",
              "  width: 10em;\n",
              "  height: 80%;\n",
              "  background: linear-gradient(90deg,#aadbaa 70.0%, transparent 70.0%);\n",
              "  color: #251e1b;\n",
              "  font-size: 12px;\n",
              "}\n",
              "</style>\n",
              "<table id=\"T_c3597_\" class=\"dataframe\">\n",
              "  <thead>\n",
              "    <tr>\n",
              "      <th class=\"blank level0\" >&nbsp;</th>\n",
              "      <th class=\"col_heading level0 col0\" >accuracy</th>\n",
              "      <th class=\"col_heading level0 col1\" >f1_score</th>\n",
              "      <th class=\"col_heading level0 col2\" >precision</th>\n",
              "      <th class=\"col_heading level0 col3\" >recall</th>\n",
              "      <th class=\"col_heading level0 col4\" >ml_framework</th>\n",
              "      <th class=\"col_heading level0 col5\" >transfer_learning</th>\n",
              "      <th class=\"col_heading level0 col6\" >deep_learning</th>\n",
              "      <th class=\"col_heading level0 col7\" >model_type</th>\n",
              "      <th class=\"col_heading level0 col8\" >num_params</th>\n",
              "      <th class=\"col_heading level0 col9\" >username</th>\n",
              "      <th class=\"col_heading level0 col10\" >version</th>\n",
              "    </tr>\n",
              "  </thead>\n",
              "  <tbody>\n",
              "    <tr>\n",
              "      <th id=\"T_c3597_level0_row0\" class=\"row_heading level0 row0\" >0</th>\n",
              "      <td id=\"T_c3597_row0_col0\" class=\"data row0 col0\" >90.00%</td>\n",
              "      <td id=\"T_c3597_row0_col1\" class=\"data row0 col1\" >89.47%</td>\n",
              "      <td id=\"T_c3597_row0_col2\" class=\"data row0 col2\" >89.63%</td>\n",
              "      <td id=\"T_c3597_row0_col3\" class=\"data row0 col3\" >89.63%</td>\n",
              "      <td id=\"T_c3597_row0_col4\" class=\"data row0 col4\" >sklearn</td>\n",
              "      <td id=\"T_c3597_row0_col5\" class=\"data row0 col5\" >False</td>\n",
              "      <td id=\"T_c3597_row0_col6\" class=\"data row0 col6\" >False</td>\n",
              "      <td id=\"T_c3597_row0_col7\" class=\"data row0 col7\" >RandomForestClassifier</td>\n",
              "      <td id=\"T_c3597_row0_col8\" class=\"data row0 col8\" >nan</td>\n",
              "      <td id=\"T_c3597_row0_col9\" class=\"data row0 col9\" >ML_Risk_Mgmnt</td>\n",
              "      <td id=\"T_c3597_row0_col10\" class=\"data row0 col10\" >1</td>\n",
              "    </tr>\n",
              "    <tr>\n",
              "      <th id=\"T_c3597_level0_row1\" class=\"row_heading level0 row1\" >1</th>\n",
              "      <td id=\"T_c3597_row1_col0\" class=\"data row1 col0\" >86.67%</td>\n",
              "      <td id=\"T_c3597_row1_col1\" class=\"data row1 col1\" >85.61%</td>\n",
              "      <td id=\"T_c3597_row1_col2\" class=\"data row1 col2\" >89.74%</td>\n",
              "      <td id=\"T_c3597_row1_col3\" class=\"data row1 col3\" >86.67%</td>\n",
              "      <td id=\"T_c3597_row1_col4\" class=\"data row1 col4\" >sklearn</td>\n",
              "      <td id=\"T_c3597_row1_col5\" class=\"data row1 col5\" >False</td>\n",
              "      <td id=\"T_c3597_row1_col6\" class=\"data row1 col6\" >False</td>\n",
              "      <td id=\"T_c3597_row1_col7\" class=\"data row1 col7\" >SVC</td>\n",
              "      <td id=\"T_c3597_row1_col8\" class=\"data row1 col8\" >12.000000</td>\n",
              "      <td id=\"T_c3597_row1_col9\" class=\"data row1 col9\" >ML_Risk_Mgmnt</td>\n",
              "      <td id=\"T_c3597_row1_col10\" class=\"data row1 col10\" >2</td>\n",
              "    </tr>\n",
              "    <tr>\n",
              "      <th id=\"T_c3597_level0_row2\" class=\"row_heading level0 row2\" >2</th>\n",
              "      <td id=\"T_c3597_row2_col0\" class=\"data row2 col0\" >70.00%</td>\n",
              "      <td id=\"T_c3597_row2_col1\" class=\"data row2 col1\" >61.62%</td>\n",
              "      <td id=\"T_c3597_row2_col2\" class=\"data row2 col2\" >83.33%</td>\n",
              "      <td id=\"T_c3597_row2_col3\" class=\"data row2 col3\" >70.00%</td>\n",
              "      <td id=\"T_c3597_row2_col4\" class=\"data row2 col4\" >sklearn</td>\n",
              "      <td id=\"T_c3597_row2_col5\" class=\"data row2 col5\" >False</td>\n",
              "      <td id=\"T_c3597_row2_col6\" class=\"data row2 col6\" >False</td>\n",
              "      <td id=\"T_c3597_row2_col7\" class=\"data row2 col7\" >RandomForestClassifier</td>\n",
              "      <td id=\"T_c3597_row2_col8\" class=\"data row2 col8\" >nan</td>\n",
              "      <td id=\"T_c3597_row2_col9\" class=\"data row2 col9\" >ML_Risk_Mgmnt</td>\n",
              "      <td id=\"T_c3597_row2_col10\" class=\"data row2 col10\" >3</td>\n",
              "    </tr>\n",
              "  </tbody>\n",
              "</table>\n"
            ]
          },
          "metadata": {},
          "execution_count": 21
        }
      ]
    },
    {
      "cell_type": "code",
      "metadata": {
        "id": "MKvPKyb7hT0h",
        "colab": {
          "base_uri": "https://localhost:8080/",
          "height": 438
        },
        "outputId": "5019b6ea-2111-4516-dbca-96462c716556"
      },
      "source": [
        "# Compare two or more models\n",
        "data=mycompetition.compare_models([1,3], verbose=1)\n",
        "mycompetition.stylize_compare(data)"
      ],
      "execution_count": 22,
      "outputs": [
        {
          "output_type": "display_data",
          "data": {
            "text/plain": [
              "<IPython.core.display.HTML object>"
            ],
            "text/html": [
              "<style type=\"text/css\">\n",
              "#T_5fae0_ caption {\n",
              "  color: black;\n",
              "  font-size: 18px;\n",
              "}\n",
              "#T_5fae0_row4_col2, #T_5fae0_row4_col3, #T_5fae0_row13_col2, #T_5fae0_row13_col3 {\n",
              "  background: tomato;\n",
              "}\n",
              "</style>\n",
              "<table id=\"T_5fae0_\">\n",
              "  <caption>Model type: RandomForestClassifier</caption>\n",
              "  <thead>\n",
              "    <tr>\n",
              "      <th class=\"blank level0\" >&nbsp;</th>\n",
              "      <th class=\"col_heading level0 col0\" >param_name</th>\n",
              "      <th class=\"col_heading level0 col1\" >default_value</th>\n",
              "      <th class=\"col_heading level0 col2\" >model_version_1</th>\n",
              "      <th class=\"col_heading level0 col3\" >model_version_3</th>\n",
              "    </tr>\n",
              "  </thead>\n",
              "  <tbody>\n",
              "    <tr>\n",
              "      <th id=\"T_5fae0_level0_row0\" class=\"row_heading level0 row0\" >0</th>\n",
              "      <td id=\"T_5fae0_row0_col0\" class=\"data row0 col0\" >bootstrap</td>\n",
              "      <td id=\"T_5fae0_row0_col1\" class=\"data row0 col1\" >True</td>\n",
              "      <td id=\"T_5fae0_row0_col2\" class=\"data row0 col2\" >True</td>\n",
              "      <td id=\"T_5fae0_row0_col3\" class=\"data row0 col3\" >True</td>\n",
              "    </tr>\n",
              "    <tr>\n",
              "      <th id=\"T_5fae0_level0_row1\" class=\"row_heading level0 row1\" >1</th>\n",
              "      <td id=\"T_5fae0_row1_col0\" class=\"data row1 col0\" >ccp_alpha</td>\n",
              "      <td id=\"T_5fae0_row1_col1\" class=\"data row1 col1\" >0.000000</td>\n",
              "      <td id=\"T_5fae0_row1_col2\" class=\"data row1 col2\" >0.000000</td>\n",
              "      <td id=\"T_5fae0_row1_col3\" class=\"data row1 col3\" >0.000000</td>\n",
              "    </tr>\n",
              "    <tr>\n",
              "      <th id=\"T_5fae0_level0_row2\" class=\"row_heading level0 row2\" >2</th>\n",
              "      <td id=\"T_5fae0_row2_col0\" class=\"data row2 col0\" >class_weight</td>\n",
              "      <td id=\"T_5fae0_row2_col1\" class=\"data row2 col1\" >None</td>\n",
              "      <td id=\"T_5fae0_row2_col2\" class=\"data row2 col2\" >None</td>\n",
              "      <td id=\"T_5fae0_row2_col3\" class=\"data row2 col3\" >None</td>\n",
              "    </tr>\n",
              "    <tr>\n",
              "      <th id=\"T_5fae0_level0_row3\" class=\"row_heading level0 row3\" >3</th>\n",
              "      <td id=\"T_5fae0_row3_col0\" class=\"data row3 col0\" >criterion</td>\n",
              "      <td id=\"T_5fae0_row3_col1\" class=\"data row3 col1\" >gini</td>\n",
              "      <td id=\"T_5fae0_row3_col2\" class=\"data row3 col2\" >gini</td>\n",
              "      <td id=\"T_5fae0_row3_col3\" class=\"data row3 col3\" >gini</td>\n",
              "    </tr>\n",
              "    <tr>\n",
              "      <th id=\"T_5fae0_level0_row4\" class=\"row_heading level0 row4\" >4</th>\n",
              "      <td id=\"T_5fae0_row4_col0\" class=\"data row4 col0\" >max_depth</td>\n",
              "      <td id=\"T_5fae0_row4_col1\" class=\"data row4 col1\" >None</td>\n",
              "      <td id=\"T_5fae0_row4_col2\" class=\"data row4 col2\" >1</td>\n",
              "      <td id=\"T_5fae0_row4_col3\" class=\"data row4 col3\" >1</td>\n",
              "    </tr>\n",
              "    <tr>\n",
              "      <th id=\"T_5fae0_level0_row5\" class=\"row_heading level0 row5\" >5</th>\n",
              "      <td id=\"T_5fae0_row5_col0\" class=\"data row5 col0\" >max_features</td>\n",
              "      <td id=\"T_5fae0_row5_col1\" class=\"data row5 col1\" >auto</td>\n",
              "      <td id=\"T_5fae0_row5_col2\" class=\"data row5 col2\" >auto</td>\n",
              "      <td id=\"T_5fae0_row5_col3\" class=\"data row5 col3\" >auto</td>\n",
              "    </tr>\n",
              "    <tr>\n",
              "      <th id=\"T_5fae0_level0_row6\" class=\"row_heading level0 row6\" >6</th>\n",
              "      <td id=\"T_5fae0_row6_col0\" class=\"data row6 col0\" >max_leaf_nodes</td>\n",
              "      <td id=\"T_5fae0_row6_col1\" class=\"data row6 col1\" >None</td>\n",
              "      <td id=\"T_5fae0_row6_col2\" class=\"data row6 col2\" >None</td>\n",
              "      <td id=\"T_5fae0_row6_col3\" class=\"data row6 col3\" >None</td>\n",
              "    </tr>\n",
              "    <tr>\n",
              "      <th id=\"T_5fae0_level0_row7\" class=\"row_heading level0 row7\" >7</th>\n",
              "      <td id=\"T_5fae0_row7_col0\" class=\"data row7 col0\" >max_samples</td>\n",
              "      <td id=\"T_5fae0_row7_col1\" class=\"data row7 col1\" >None</td>\n",
              "      <td id=\"T_5fae0_row7_col2\" class=\"data row7 col2\" >None</td>\n",
              "      <td id=\"T_5fae0_row7_col3\" class=\"data row7 col3\" >None</td>\n",
              "    </tr>\n",
              "    <tr>\n",
              "      <th id=\"T_5fae0_level0_row8\" class=\"row_heading level0 row8\" >8</th>\n",
              "      <td id=\"T_5fae0_row8_col0\" class=\"data row8 col0\" >min_impurity_decrease</td>\n",
              "      <td id=\"T_5fae0_row8_col1\" class=\"data row8 col1\" >0.000000</td>\n",
              "      <td id=\"T_5fae0_row8_col2\" class=\"data row8 col2\" >0.000000</td>\n",
              "      <td id=\"T_5fae0_row8_col3\" class=\"data row8 col3\" >0.000000</td>\n",
              "    </tr>\n",
              "    <tr>\n",
              "      <th id=\"T_5fae0_level0_row9\" class=\"row_heading level0 row9\" >9</th>\n",
              "      <td id=\"T_5fae0_row9_col0\" class=\"data row9 col0\" >min_impurity_split</td>\n",
              "      <td id=\"T_5fae0_row9_col1\" class=\"data row9 col1\" >None</td>\n",
              "      <td id=\"T_5fae0_row9_col2\" class=\"data row9 col2\" >None</td>\n",
              "      <td id=\"T_5fae0_row9_col3\" class=\"data row9 col3\" >None</td>\n",
              "    </tr>\n",
              "    <tr>\n",
              "      <th id=\"T_5fae0_level0_row10\" class=\"row_heading level0 row10\" >10</th>\n",
              "      <td id=\"T_5fae0_row10_col0\" class=\"data row10 col0\" >min_samples_leaf</td>\n",
              "      <td id=\"T_5fae0_row10_col1\" class=\"data row10 col1\" >1</td>\n",
              "      <td id=\"T_5fae0_row10_col2\" class=\"data row10 col2\" >1</td>\n",
              "      <td id=\"T_5fae0_row10_col3\" class=\"data row10 col3\" >1</td>\n",
              "    </tr>\n",
              "    <tr>\n",
              "      <th id=\"T_5fae0_level0_row11\" class=\"row_heading level0 row11\" >11</th>\n",
              "      <td id=\"T_5fae0_row11_col0\" class=\"data row11 col0\" >min_samples_split</td>\n",
              "      <td id=\"T_5fae0_row11_col1\" class=\"data row11 col1\" >2</td>\n",
              "      <td id=\"T_5fae0_row11_col2\" class=\"data row11 col2\" >2</td>\n",
              "      <td id=\"T_5fae0_row11_col3\" class=\"data row11 col3\" >2</td>\n",
              "    </tr>\n",
              "    <tr>\n",
              "      <th id=\"T_5fae0_level0_row12\" class=\"row_heading level0 row12\" >12</th>\n",
              "      <td id=\"T_5fae0_row12_col0\" class=\"data row12 col0\" >min_weight_fraction_leaf</td>\n",
              "      <td id=\"T_5fae0_row12_col1\" class=\"data row12 col1\" >0.000000</td>\n",
              "      <td id=\"T_5fae0_row12_col2\" class=\"data row12 col2\" >0.000000</td>\n",
              "      <td id=\"T_5fae0_row12_col3\" class=\"data row12 col3\" >0.000000</td>\n",
              "    </tr>\n",
              "    <tr>\n",
              "      <th id=\"T_5fae0_level0_row13\" class=\"row_heading level0 row13\" >13</th>\n",
              "      <td id=\"T_5fae0_row13_col0\" class=\"data row13 col0\" >n_estimators</td>\n",
              "      <td id=\"T_5fae0_row13_col1\" class=\"data row13 col1\" >100</td>\n",
              "      <td id=\"T_5fae0_row13_col2\" class=\"data row13 col2\" >2</td>\n",
              "      <td id=\"T_5fae0_row13_col3\" class=\"data row13 col3\" >8</td>\n",
              "    </tr>\n",
              "    <tr>\n",
              "      <th id=\"T_5fae0_level0_row14\" class=\"row_heading level0 row14\" >14</th>\n",
              "      <td id=\"T_5fae0_row14_col0\" class=\"data row14 col0\" >n_jobs</td>\n",
              "      <td id=\"T_5fae0_row14_col1\" class=\"data row14 col1\" >None</td>\n",
              "      <td id=\"T_5fae0_row14_col2\" class=\"data row14 col2\" >None</td>\n",
              "      <td id=\"T_5fae0_row14_col3\" class=\"data row14 col3\" >None</td>\n",
              "    </tr>\n",
              "    <tr>\n",
              "      <th id=\"T_5fae0_level0_row15\" class=\"row_heading level0 row15\" >15</th>\n",
              "      <td id=\"T_5fae0_row15_col0\" class=\"data row15 col0\" >oob_score</td>\n",
              "      <td id=\"T_5fae0_row15_col1\" class=\"data row15 col1\" >False</td>\n",
              "      <td id=\"T_5fae0_row15_col2\" class=\"data row15 col2\" >False</td>\n",
              "      <td id=\"T_5fae0_row15_col3\" class=\"data row15 col3\" >False</td>\n",
              "    </tr>\n",
              "    <tr>\n",
              "      <th id=\"T_5fae0_level0_row16\" class=\"row_heading level0 row16\" >16</th>\n",
              "      <td id=\"T_5fae0_row16_col0\" class=\"data row16 col0\" >random_state</td>\n",
              "      <td id=\"T_5fae0_row16_col1\" class=\"data row16 col1\" >None</td>\n",
              "      <td id=\"T_5fae0_row16_col2\" class=\"data row16 col2\" >None</td>\n",
              "      <td id=\"T_5fae0_row16_col3\" class=\"data row16 col3\" >None</td>\n",
              "    </tr>\n",
              "    <tr>\n",
              "      <th id=\"T_5fae0_level0_row17\" class=\"row_heading level0 row17\" >17</th>\n",
              "      <td id=\"T_5fae0_row17_col0\" class=\"data row17 col0\" >verbose</td>\n",
              "      <td id=\"T_5fae0_row17_col1\" class=\"data row17 col1\" >0</td>\n",
              "      <td id=\"T_5fae0_row17_col2\" class=\"data row17 col2\" >0</td>\n",
              "      <td id=\"T_5fae0_row17_col3\" class=\"data row17 col3\" >0</td>\n",
              "    </tr>\n",
              "    <tr>\n",
              "      <th id=\"T_5fae0_level0_row18\" class=\"row_heading level0 row18\" >18</th>\n",
              "      <td id=\"T_5fae0_row18_col0\" class=\"data row18 col0\" >warm_start</td>\n",
              "      <td id=\"T_5fae0_row18_col1\" class=\"data row18 col1\" >False</td>\n",
              "      <td id=\"T_5fae0_row18_col2\" class=\"data row18 col2\" >False</td>\n",
              "      <td id=\"T_5fae0_row18_col3\" class=\"data row18 col3\" >False</td>\n",
              "    </tr>\n",
              "  </tbody>\n",
              "</table>\n"
            ]
          },
          "metadata": {}
        },
        {
          "output_type": "stream",
          "name": "stdout",
          "text": [
            "\n",
            "\n",
            "\n"
          ]
        }
      ]
    },
    {
      "cell_type": "code",
      "metadata": {
        "id": "tukB40NshcaB",
        "colab": {
          "base_uri": "https://localhost:8080/"
        },
        "outputId": "c2d6c3dc-98e9-4a61-b28c-c5a5fd851a03"
      },
      "source": [
        "# Here are several classic ML architectures you can consider choosing from to experiment with next:\n",
        "from sklearn.neighbors import KNeighborsClassifier\n",
        "from sklearn.svm import SVC\n",
        "from sklearn.ensemble import RandomForestClassifier\n",
        "from sklearn.tree import DecisionTreeRegressor\n",
        "from sklearn.ensemble import BaggingClassifier\n",
        "from sklearn.ensemble import GradientBoostingClassifier\n",
        "\n",
        "#Example code to fit model:\n",
        "model = SVC(kernel='linear', C=.005).fit(preprocessor(X_train), y_train_labels)\n",
        "model.score(preprocessor(X_train), y_train_labels)\n",
        "\n",
        "# Save sklearn model to local ONNX file\n",
        "from aimodelshare.aimsonnx import model_to_onnx\n",
        "\n",
        "feature_count=preprocessor(X_test).shape[1] #Get count of preprocessed features\n",
        "initial_type = [('float_input', FloatTensorType([None, feature_count]))]  # Insert correct number of preprocessed features\n",
        "\n",
        "onnx_model = model_to_onnx(model, framework='sklearn',\n",
        "                          initial_types=initial_type,\n",
        "                          transfer_learning=False,\n",
        "                          deep_learning=False)\n",
        "\n",
        "with open(\"model.onnx\", \"wb\") as f:\n",
        "    f.write(onnx_model.SerializeToString())\n",
        "\n",
        "#-- Generate predicted values (a list of predicted labels)\n",
        "prediction_labels = model.predict(preprocessor(X_test))\n",
        "\n",
        "# Submit model to Competition Leaderboard\n",
        "mycompetition.submit_model(model_filepath = \"model.onnx\",\n",
        "                                 preprocessor_filepath=\"preprocessor.zip\",\n",
        "                                 prediction_submission=prediction_labels)\n"
      ],
      "execution_count": 24,
      "outputs": [
        {
          "output_type": "stream",
          "name": "stdout",
          "text": [
            "Insert search tags to help users find your model (optional): \n",
            "Provide any useful notes about your model (optional): \n",
            "\n",
            "Your model has been submitted as model version 4\n",
            "\n",
            "To submit code used to create this model or to view current leaderboard navigate to Model Playground: \n",
            "\n",
            " https://www.modelshare.org/detail/model:1733\n"
          ]
        }
      ]
    }
  ]
}