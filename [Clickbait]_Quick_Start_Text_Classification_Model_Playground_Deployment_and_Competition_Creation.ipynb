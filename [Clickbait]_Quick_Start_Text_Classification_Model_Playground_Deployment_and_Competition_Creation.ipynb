{
  "nbformat": 4,
  "nbformat_minor": 0,
  "metadata": {
    "accelerator": "GPU",
    "colab": {
      "name": "[Clickbait] Quick Start: Text Classification Model Playground Deployment and Competition Creation.ipynb",
      "provenance": [],
      "collapsed_sections": []
    },
    "kernelspec": {
      "display_name": "Python 3",
      "language": "python",
      "name": "python3"
    },
    "language_info": {
      "codemirror_mode": {
        "name": "ipython",
        "version": 3
      },
      "file_extension": ".py",
      "mimetype": "text/x-python",
      "name": "python",
      "nbconvert_exporter": "python",
      "pygments_lexer": "ipython3",
      "version": "3.7.5"
    }
  },
  "cells": [
    {
      "cell_type": "markdown",
      "metadata": {
        "id": "0BviI4QIdWiq"
      },
      "source": [
        "<p align=\"center\"><img width=\"50%\" src=\"https://aimodelsharecontent.s3.amazonaws.com/aimodshare_banner.jpg\" /></p>\n",
        "\n",
        "\n",
        "---\n",
        "\n",
        "\n"
      ]
    },
    {
      "cell_type": "markdown",
      "metadata": {
        "id": "gYNp684Tk3tb"
      },
      "source": [
        "<p align=\"center\"><h1 align=\"center\">Quick Start: Clickbait Detection Text Classification Tutorial</h1> \n",
        "\n",
        "##### <p align=\"center\">*Dataset Adapted From: Abhijnan Chakraborty, Bhargavi Paranjape, Sourya Kakarla, and Niloy Ganguly. \"Stop Clickbait: Detecting and Preventing Clickbaits in Online News Media”. In Proceedings of the 2016 IEEE/ACM International Conference on Advances in Social Networks Analysis and Mining (ASONAM), San Fransisco, US, August 2016.* \n",
        "---\n",
        "\n",
        "<h3 align=\"center\">(Deploy model to an AI Model Share Model Playground REST API<br> and Web Dashboard in five easy steps...)</h3></p>\n",
        "<p align=\"center\"><img width=\"100%\" src=\"https://aimodelsharecontent.s3.amazonaws.com/aimstutorialsteps.gif\" /></p>\n",
        "\n",
        "\n",
        "---\n",
        "\n"
      ]
    },
    {
      "cell_type": "markdown",
      "metadata": {
        "id": "0PhJ-XlGazpD"
      },
      "source": [
        "## **Credential Configuration**\n",
        "\n",
        "In order to deploy an AI Model Share Model Playground, you will need a credentials text file. \n",
        "\n",
        "Generating your credentials file requires two sets of information: \n",
        "1. Your AI Model Share username and password (create them [HERE](https://www.modelshare.org/login)). \n",
        "2. Your AWS (Amazon Web Services) access keys (follow the tutorial [HERE](https://docs.aws.amazon.com/general/latest/gr/aws-sec-cred-types.html)). \n",
        "\n",
        "You only need to generate your credentials file once. After running the configure function below, save the outputted file for all your future Model Playground deployments and competition submissions. \n",
        "\n",
        "*Note: Handle your credentials file with the same level of security you handle your passwords. Do not share your file with anyone, send via email, or upload to Github.*\n"
      ]
    },
    {
      "cell_type": "code",
      "metadata": {
        "id": "puVzQBHyhS2Z"
      },
      "source": [
        "#install aimodelshare library\n",
        "! pip install aimodelshare --upgrade\n"
      ],
      "execution_count": null,
      "outputs": []
    },
    {
      "cell_type": "code",
      "metadata": {
        "id": "4Q7MCqBLcS20"
      },
      "source": [
        "# Generate credentials file\n",
        "import aimodelshare as ai \n",
        "from aimodelshare.aws import configure_credentials \n",
        "\n",
        "configure_credentials()"
      ],
      "execution_count": null,
      "outputs": []
    },
    {
      "cell_type": "markdown",
      "metadata": {
        "id": "VliTV_HH-uz4"
      },
      "source": [
        "## **Set up Environment**\n",
        "\n",
        "Use your credentials file to set your credentials for all aimodelshare functions. "
      ]
    },
    {
      "cell_type": "code",
      "metadata": {
        "colab": {
          "base_uri": "https://localhost:8080/"
        },
        "id": "2u1QKNfEyN9A",
        "outputId": "6bb35ff7-9146-497e-d960-80bcc0ff8239"
      },
      "source": [
        "# Set credentials \n",
        "import aimodelshare as ai\n",
        "from aimodelshare.aws import set_credentials\n",
        "\n",
        "set_credentials(credential_file=\"credentials.txt\", type=\"deploy_model\")"
      ],
      "execution_count": 2,
      "outputs": [
        {
          "output_type": "stream",
          "name": "stdout",
          "text": [
            "AI Model Share login credentials set successfully.\n",
            "AWS credentials set successfully.\n"
          ]
        }
      ]
    },
    {
      "cell_type": "code",
      "metadata": {
        "colab": {
          "base_uri": "https://localhost:8080/"
        },
        "id": "PwQcTsyyURIk",
        "outputId": "4f5ac980-5ea6-45da-e01f-9d5fde5250fa"
      },
      "source": [
        "# Get materials for tutorial: Predicting whether or not a headline is clickbait\n",
        "\n",
        "import aimodelshare as ai\n",
        "X_train, X_test, y_train_labels, y_test_labels, example_data, lstm_model, lstm_model2 = ai.import_quickstart_data(\"clickbait\")"
      ],
      "execution_count": 3,
      "outputs": [
        {
          "output_type": "stream",
          "name": "stdout",
          "text": [
            "Downloading [==============================================>  ]\n",
            "\n",
            "Data downloaded successfully.\n",
            "\n",
            "Preparing downloaded files for use...\n",
            "\n",
            "Success! Your Quick Start materials have been downloaded. \n",
            "You are now ready to run the tutorial.\n"
          ]
        }
      ]
    },
    {
      "cell_type": "markdown",
      "metadata": {
        "id": "bIleM1F6nWSF"
      },
      "source": [
        "## **(1) Preprocessor Function & Setup**"
      ]
    },
    {
      "cell_type": "markdown",
      "metadata": {
        "id": "WrEgo5zRxbed"
      },
      "source": [
        "### **Write a Preprocessor Function**\n",
        "\n",
        "\n",
        "> ###   Preprocessor functions are used to preprocess data into the precise data your model requires to generate predictions.  \n",
        "\n",
        "*  *Preprocessor functions should always be named \"preprocessor\".*\n",
        "*  *You can use any Python library in a preprocessor function, but all libraries should be imported inside your preprocessor function.*  \n",
        "*  *For tabular prediction models users should minimally include function inputs for an unpreprocessed pandas dataframe.*  \n",
        "*  *Any categorical features should be preprocessed to one hot encoded numeric values.* \n"
      ]
    },
    {
      "cell_type": "code",
      "metadata": {
        "id": "B5Jz-1cmYN5Z"
      },
      "source": [
        "# This preprocessor function makes use of the tf.keras tokenizer\n",
        "\n",
        "from tensorflow.keras.preprocessing.text import Tokenizer\n",
        "from tensorflow.keras.preprocessing.sequence import pad_sequences\n",
        "import numpy as np\n",
        "\n",
        "# Build vocabulary from training text data\n",
        "tokenizer = Tokenizer(num_words=10000)\n",
        "tokenizer.fit_on_texts(X_train)\n",
        "\n",
        "# preprocessor tokenizes words and makes sure all documents have the same length\n",
        "def preprocessor(data, maxlen=40, max_words=10000):\n",
        "\n",
        "    sequences = tokenizer.texts_to_sequences(data)\n",
        "\n",
        "    word_index = tokenizer.word_index\n",
        "    X = pad_sequences(sequences, maxlen=maxlen)\n",
        "\n",
        "    return X"
      ],
      "execution_count": 4,
      "outputs": []
    },
    {
      "cell_type": "code",
      "metadata": {
        "id": "xp_TTwew8jYU"
      },
      "source": [
        "# One-hot encode your Y data\n",
        "import pandas as pd \n",
        "\n",
        "y_train = pd.get_dummies(y_train_labels)\n",
        "y_test = pd.get_dummies(y_test_labels)"
      ],
      "execution_count": 5,
      "outputs": []
    },
    {
      "cell_type": "code",
      "metadata": {
        "colab": {
          "base_uri": "https://localhost:8080/"
        },
        "id": "bhmr_bjoq6G4",
        "outputId": "bf93a85e-478b-4824-bb79-022804a24c8c"
      },
      "source": [
        "# Check shape of data preproprecessed using your new preprocessor() function\n",
        "print(preprocessor(X_train, maxlen=40, max_words=10000).shape)\n",
        "print(preprocessor(X_test, maxlen=40, max_words=10000).shape)"
      ],
      "execution_count": 6,
      "outputs": [
        {
          "output_type": "stream",
          "name": "stdout",
          "text": [
            "(24979, 40)\n",
            "(6245, 40)\n"
          ]
        }
      ]
    },
    {
      "cell_type": "markdown",
      "metadata": {
        "id": "xJlhd6jvns0b"
      },
      "source": [
        "## **(2) Build Model Using your Preferred ML Library**"
      ]
    },
    {
      "cell_type": "markdown",
      "metadata": {
        "id": "fP7ZIVKe3luZ"
      },
      "source": [
        "### **We already loaded a Keras Sequential Model with LSTM layers in the quickstart function above**"
      ]
    },
    {
      "cell_type": "code",
      "metadata": {
        "colab": {
          "base_uri": "https://localhost:8080/"
        },
        "id": "fbb3QzBwPXFI",
        "outputId": "0807eb2a-b765-4a29-beea-36b83cd142ab"
      },
      "source": [
        "# Here is a pre-trained LSTM model, but you could train your own model after preprocessing data with your preprocessor function.\n",
        "\n",
        "lstm_model.summary()"
      ],
      "execution_count": 7,
      "outputs": [
        {
          "output_type": "stream",
          "name": "stdout",
          "text": [
            "Model: \"sequential_2\"\n",
            "_________________________________________________________________\n",
            "Layer (type)                 Output Shape              Param #   \n",
            "=================================================================\n",
            "embedding_2 (Embedding)      (None, 40, 16)            160000    \n",
            "_________________________________________________________________\n",
            "lstm_4 (LSTM)                (None, 40, 32)            6272      \n",
            "_________________________________________________________________\n",
            "lstm_5 (LSTM)                (None, 40, 32)            8320      \n",
            "_________________________________________________________________\n",
            "flatten_2 (Flatten)          (None, 1280)              0         \n",
            "_________________________________________________________________\n",
            "dense_2 (Dense)              (None, 2)                 2562      \n",
            "=================================================================\n",
            "Total params: 177,154\n",
            "Trainable params: 177,154\n",
            "Non-trainable params: 0\n",
            "_________________________________________________________________\n"
          ]
        }
      ]
    },
    {
      "cell_type": "markdown",
      "metadata": {
        "id": "FZGlu5PMWbNO"
      },
      "source": [
        "## **(3) Save Preprocessor**\n",
        "### Saves preprocessor function to \"preprocessor.zip\" file"
      ]
    },
    {
      "cell_type": "code",
      "metadata": {
        "colab": {
          "base_uri": "https://localhost:8080/"
        },
        "id": "Wh_vkwblXx7r",
        "outputId": "0d773d82-7049-403f-f802-f57a6a4867d2"
      },
      "source": [
        "import aimodelshare as ai\n",
        "ai.export_preprocessor(preprocessor,\"\") # Second argument is the directory you want to use to save your function"
      ],
      "execution_count": 6,
      "outputs": [
        {
          "output_type": "stream",
          "name": "stdout",
          "text": [
            "Your preprocessor is now saved to 'preprocessor.zip'\n"
          ]
        }
      ]
    },
    {
      "cell_type": "code",
      "metadata": {
        "colab": {
          "base_uri": "https://localhost:8080/"
        },
        "id": "b58rg4pMMn4n",
        "outputId": "5de188cc-0b0d-4905-f3be-6b96b89ceb6a"
      },
      "source": [
        "#  Now let's import and test the preprocessor function to see if it is working...\n",
        "\n",
        "import aimodelshare as ai\n",
        "prep=ai.import_preprocessor(\"preprocessor.zip\")\n",
        "\n",
        "prep(X_test, maxlen=40, max_words=10000).shape"
      ],
      "execution_count": 13,
      "outputs": [
        {
          "output_type": "execute_result",
          "data": {
            "text/plain": [
              "(6245, 40)"
            ]
          },
          "metadata": {},
          "execution_count": 13
        }
      ]
    },
    {
      "cell_type": "markdown",
      "metadata": {
        "id": "CdQOeF2J3PCv"
      },
      "source": [
        "## **(4) Save keras model to Onnx File Format**\n"
      ]
    },
    {
      "cell_type": "code",
      "metadata": {
        "id": "r8fgi8f6qkbk"
      },
      "source": [
        "# Save keras model to local ONNX file\n",
        "from aimodelshare.aimsonnx import model_to_onnx\n",
        "\n",
        "onnx_model = model_to_onnx(lstm_model, framework='keras',\n",
        "                          transfer_learning=False,\n",
        "                          deep_learning=True)\n",
        "\n",
        "with open(\"model.onnx\", \"wb\") as f:\n",
        "    f.write(onnx_model.SerializeToString())"
      ],
      "execution_count": 7,
      "outputs": []
    },
    {
      "cell_type": "markdown",
      "metadata": {
        "id": "1swt74XQUIFh"
      },
      "source": [
        "## **(5) Create your Model Playground**"
      ]
    },
    {
      "cell_type": "code",
      "metadata": {
        "id": "Y-YKEcvDNmD3"
      },
      "source": [
        "#Set up arguments for Model Playground deployment\n",
        "import pandas as pd \n",
        "\n",
        "model_filepath=\"model.onnx\"\n",
        "preprocessor_filepath=\"preprocessor.zip\""
      ],
      "execution_count": 8,
      "outputs": []
    },
    {
      "cell_type": "code",
      "metadata": {
        "id": "T8C6IlYTFN5t"
      },
      "source": [
        "from aimodelshare import ModelPlayground\n",
        "\n",
        "#Instantiate ModelPlayground() Class\n",
        "\n",
        "myplayground=ModelPlayground(model_type=\"text\", classification=\"TRUE\", private=\"FALSE\")\n",
        "\n",
        "# Create Model Playground (generates live rest api and web-app for your model/preprocessor)\n",
        "\n",
        "myplayground.deploy(model_filepath, preprocessor_filepath, y_train, example_data) "
      ],
      "execution_count": null,
      "outputs": []
    },
    {
      "cell_type": "markdown",
      "metadata": {
        "id": "Eb9dfUFHhLr-"
      },
      "source": [
        "## **Use your new Model Playground!**\n",
        "\n",
        "Follow the link in the output above to:\n",
        "- Generate predictions with your interactive web dashboard\n",
        "- Access example code in Python, R, and Curl\n",
        "\n",
        "Or, follow the rest of the tutorial to create a competition for your Model Playground and: \n",
        "- Access verified model performance metrics \n",
        "- Upload multiple models to a leaderboard \n",
        "- Easily compare model performance & structure "
      ]
    },
    {
      "cell_type": "markdown",
      "metadata": {
        "id": "9YpyLkQNfqSI"
      },
      "source": [
        "## **Part 2: Create a Competition**\n",
        "\n",
        "-------\n",
        "\n",
        "After deploying your Model Playground, you can now create a competition. \n",
        "\n",
        "Creating a competition allows you to:\n",
        "1. Verify the model performance metrics on aimodelshare.org\n",
        "2. Submit models to a leaderboard\n",
        "3. Grant access to other users to submit models to the leaderboard\n",
        "4. Easily compare model performance and structure "
      ]
    },
    {
      "cell_type": "code",
      "metadata": {
        "id": "ulWKEy5dTBav"
      },
      "source": [
        "# Create list of authorized participants for competition\n",
        "# Note that participants should use the same email address when creating modelshare.org account\n",
        "\n",
        "emaillist=[\"emailaddress1@email.com\", \"emailaddress2@email.com\", \"emailaddress3@email.com\"]"
      ],
      "execution_count": 17,
      "outputs": []
    },
    {
      "cell_type": "code",
      "metadata": {
        "id": "o2nKrLAMgc9o"
      },
      "source": [
        "# Create Competition\n",
        "myplayground.create_competition(data_directory='clickbait_competition_data', \n",
        "                                y_test = y_test_labels, \n",
        "                                email_list=emaillist)"
      ],
      "execution_count": null,
      "outputs": []
    },
    {
      "cell_type": "code",
      "metadata": {
        "id": "SAJJWhdAfyo5"
      },
      "source": [
        "#Instantiate Competition\n",
        "#--Note: If you start a new session, the first argument should be the Model Playground url in quotes. \n",
        "#--e.g.- mycompetition= ai.Competition(\"https://2121212.execute-api.us-east-1.amazonaws.com/prod/m)\n",
        "#See Model Playground \"Compete\" tab for example model submission code.\n",
        "\n",
        "mycompetition= ai.Competition(myplayground.playground_url)"
      ],
      "execution_count": 19,
      "outputs": []
    },
    {
      "cell_type": "code",
      "metadata": {
        "id": "wFeXqwnaTQKS"
      },
      "source": [
        "# Add, remove, or completely update authorized participants for competition later\n",
        "emaillist=[\"emailaddress4@email.com\"]\n",
        "\n",
        "mycompetition.update_access_list(email_list=emaillist,update_type=\"Add\")"
      ],
      "execution_count": null,
      "outputs": []
    },
    {
      "cell_type": "markdown",
      "metadata": {
        "id": "mqyzWZPwgoEH"
      },
      "source": [
        "Submit Models"
      ]
    },
    {
      "cell_type": "code",
      "metadata": {
        "colab": {
          "base_uri": "https://localhost:8080/"
        },
        "id": "UHyC9NLjTwXx",
        "outputId": "362fb5ad-3c12-488f-8090-308dfec80cdd"
      },
      "source": [
        "#Authorized users can submit new models after setting credentials using modelshare.org username/password\n",
        "\n",
        "apiurl=myplayground.playground_url # example url from deployed playground: apiurl= \"https://123456.execute-api.us-east-1.amazonaws.com/prod/m\n",
        "\n",
        "ai.set_credentials(apiurl=apiurl)\n"
      ],
      "execution_count": 21,
      "outputs": [
        {
          "output_type": "stream",
          "name": "stdout",
          "text": [
            "AI Modelshare Username:··········\n",
            "AI Modelshare Password:··········\n",
            "AI Model Share login credentials set successfully.\n"
          ]
        }
      ]
    },
    {
      "cell_type": "code",
      "metadata": {
        "id": "3Wyhcws7SfXS",
        "colab": {
          "base_uri": "https://localhost:8080/"
        },
        "outputId": "5ee1ccde-4ad9-4173-bf15-e0ba67618e38"
      },
      "source": [
        "#Submit Model 1: \n",
        "\n",
        "#-- Generate predicted values for Model 1\n",
        "prediction_column_index = lstm_model.predict(preprocessor(X_test)).argmax(axis=1)\n",
        "prediction_labels = [y_test.columns[i] for i in prediction_column_index]\n",
        "\n",
        "# Submit Model 1 to Competition Leaderboard\n",
        "mycompetition.submit_model(model_filepath = \"model.onnx\",\n",
        "                                 preprocessor_filepath=\"preprocessor.zip\",\n",
        "                                 prediction_submission=prediction_labels)"
      ],
      "execution_count": 22,
      "outputs": [
        {
          "output_type": "stream",
          "name": "stdout",
          "text": [
            "Insert search tags to help users find your model (optional): \n",
            "Provide any useful notes about your model (optional): \n",
            "\n",
            "Your model has been submitted as model version 1\n",
            "\n",
            "To submit code used to create this model or to view current leaderboard navigate to Model Playground: \n",
            "\n",
            " https://www.modelshare.org/detail/model:688\n"
          ]
        }
      ]
    },
    {
      "cell_type": "markdown",
      "metadata": {
        "id": "A4rXw-l6UQ3S"
      },
      "source": [
        "### **Model 2: Bidirectional LSTM**"
      ]
    },
    {
      "cell_type": "code",
      "metadata": {
        "colab": {
          "base_uri": "https://localhost:8080/"
        },
        "id": "ZLMMrBb2UU68",
        "outputId": "d114ec24-3f12-4c39-bc44-99ae5b15c77d"
      },
      "source": [
        "# Here is a pre-trained LSTM model, but you could train your own model after preprocessing data with your preprocessor function.\n",
        "\n",
        "lstm_model2.summary()"
      ],
      "execution_count": 23,
      "outputs": [
        {
          "output_type": "stream",
          "name": "stdout",
          "text": [
            "Model: \"sequential_11\"\n",
            "_________________________________________________________________\n",
            "Layer (type)                 Output Shape              Param #   \n",
            "=================================================================\n",
            "embedding_11 (Embedding)     (None, 40, 16)            160000    \n",
            "_________________________________________________________________\n",
            "lstm_28 (LSTM)               (None, 40, 32)            6272      \n",
            "_________________________________________________________________\n",
            "lstm_29 (LSTM)               (None, 40, 32)            8320      \n",
            "_________________________________________________________________\n",
            "bidirectional_6 (Bidirection (None, 64)                16640     \n",
            "_________________________________________________________________\n",
            "dense_11 (Dense)             (None, 2)                 130       \n",
            "=================================================================\n",
            "Total params: 191,362\n",
            "Trainable params: 191,362\n",
            "Non-trainable params: 0\n",
            "_________________________________________________________________\n"
          ]
        }
      ]
    },
    {
      "cell_type": "code",
      "metadata": {
        "id": "jraPDdsNX46e"
      },
      "source": [
        "# Save Model 2 to .onnx file (This model has abt. 200k parameters, so it takes abt. a minute to save)\n",
        "\n",
        "onnx_model = model_to_onnx(lstm_model2, framework='keras',\n",
        "                          transfer_learning=False,\n",
        "                          deep_learning=True)\n",
        "\n",
        "# Save model to local .onnx file\n",
        "with open(\"model_2.onnx\", \"wb\") as f:\n",
        "    f.write(onnx_model.SerializeToString()) "
      ],
      "execution_count": 9,
      "outputs": []
    },
    {
      "cell_type": "code",
      "metadata": {
        "id": "1mrjyWyJw38d"
      },
      "source": [
        "# Submit Model 2\n",
        "\n",
        "#-- Generate predicted y values (Model 2)\n",
        "prediction_column_index = lstm_model2.predict(preprocessor(X_test)).argmax(axis=1)\n",
        "prediction_labels = [y_test.columns[i] for i in prediction_column_index]\n",
        "\n",
        "# Submit Model 2 to Competition Leaderboard\n",
        "mycompetition.submit_model(model_filepath = \"model_2.onnx\",\n",
        "                                 prediction_submission=prediction_labels,\n",
        "                                 preprocessor_filepath=\"preprocessor.zip\")"
      ],
      "execution_count": null,
      "outputs": []
    },
    {
      "cell_type": "markdown",
      "metadata": {
        "id": "iLYlCkWchWC_"
      },
      "source": [
        "Get Leaderboard"
      ]
    },
    {
      "cell_type": "code",
      "metadata": {
        "colab": {
          "base_uri": "https://localhost:8080/",
          "height": 173
        },
        "id": "J0-B1h0chYDL",
        "outputId": "974865db-7eb4-4c64-e275-29ba12642836"
      },
      "source": [
        "data = mycompetition.get_leaderboard()\n",
        "mycompetition.stylize_leaderboard(data)"
      ],
      "execution_count": 26,
      "outputs": [
        {
          "output_type": "execute_result",
          "data": {
            "text/html": [
              "<style  type=\"text/css\" >\n",
              "#T_8b354266_3104_11ec_9f9e_0242ac1c0002row0_col0{\n",
              "            text-align:  center;\n",
              "            width:  10em;\n",
              "             height:  80%;\n",
              "            background:  linear-gradient(90deg,#f5f8d6 78.6%, transparent 78.6%);\n",
              "            color:  #251e1b;\n",
              "            font-size:  12px;\n",
              "        }#T_8b354266_3104_11ec_9f9e_0242ac1c0002row0_col1{\n",
              "            text-align:  center;\n",
              "            width:  10em;\n",
              "             height:  80%;\n",
              "            background:  linear-gradient(90deg,#c778c8 78.6%, transparent 78.6%);\n",
              "            color:  #251e1b;\n",
              "            font-size:  12px;\n",
              "        }#T_8b354266_3104_11ec_9f9e_0242ac1c0002row0_col2{\n",
              "            text-align:  center;\n",
              "            width:  10em;\n",
              "             height:  80%;\n",
              "            background:  linear-gradient(90deg,#ff4971 78.7%, transparent 78.7%);\n",
              "            color:  #251e1b;\n",
              "            font-size:  12px;\n",
              "        }#T_8b354266_3104_11ec_9f9e_0242ac1c0002row0_col3,#T_8b354266_3104_11ec_9f9e_0242ac1c0002row1_col3{\n",
              "            text-align:  center;\n",
              "            width:  10em;\n",
              "             height:  80%;\n",
              "            background:  linear-gradient(90deg,#aadbaa 78.7%, transparent 78.7%);\n",
              "            color:  #251e1b;\n",
              "            font-size:  12px;\n",
              "        }#T_8b354266_3104_11ec_9f9e_0242ac1c0002row0_col4,#T_8b354266_3104_11ec_9f9e_0242ac1c0002row0_col5,#T_8b354266_3104_11ec_9f9e_0242ac1c0002row0_col6,#T_8b354266_3104_11ec_9f9e_0242ac1c0002row0_col7,#T_8b354266_3104_11ec_9f9e_0242ac1c0002row0_col8,#T_8b354266_3104_11ec_9f9e_0242ac1c0002row0_col9,#T_8b354266_3104_11ec_9f9e_0242ac1c0002row0_col10,#T_8b354266_3104_11ec_9f9e_0242ac1c0002row0_col11,#T_8b354266_3104_11ec_9f9e_0242ac1c0002row0_col12,#T_8b354266_3104_11ec_9f9e_0242ac1c0002row0_col13,#T_8b354266_3104_11ec_9f9e_0242ac1c0002row0_col14,#T_8b354266_3104_11ec_9f9e_0242ac1c0002row0_col15,#T_8b354266_3104_11ec_9f9e_0242ac1c0002row0_col16,#T_8b354266_3104_11ec_9f9e_0242ac1c0002row0_col17,#T_8b354266_3104_11ec_9f9e_0242ac1c0002row0_col18,#T_8b354266_3104_11ec_9f9e_0242ac1c0002row0_col19,#T_8b354266_3104_11ec_9f9e_0242ac1c0002row0_col20,#T_8b354266_3104_11ec_9f9e_0242ac1c0002row0_col21,#T_8b354266_3104_11ec_9f9e_0242ac1c0002row0_col22,#T_8b354266_3104_11ec_9f9e_0242ac1c0002row1_col4,#T_8b354266_3104_11ec_9f9e_0242ac1c0002row1_col5,#T_8b354266_3104_11ec_9f9e_0242ac1c0002row1_col6,#T_8b354266_3104_11ec_9f9e_0242ac1c0002row1_col7,#T_8b354266_3104_11ec_9f9e_0242ac1c0002row1_col8,#T_8b354266_3104_11ec_9f9e_0242ac1c0002row1_col9,#T_8b354266_3104_11ec_9f9e_0242ac1c0002row1_col10,#T_8b354266_3104_11ec_9f9e_0242ac1c0002row1_col11,#T_8b354266_3104_11ec_9f9e_0242ac1c0002row1_col12,#T_8b354266_3104_11ec_9f9e_0242ac1c0002row1_col13,#T_8b354266_3104_11ec_9f9e_0242ac1c0002row1_col14,#T_8b354266_3104_11ec_9f9e_0242ac1c0002row1_col15,#T_8b354266_3104_11ec_9f9e_0242ac1c0002row1_col16,#T_8b354266_3104_11ec_9f9e_0242ac1c0002row1_col17,#T_8b354266_3104_11ec_9f9e_0242ac1c0002row1_col18,#T_8b354266_3104_11ec_9f9e_0242ac1c0002row1_col19,#T_8b354266_3104_11ec_9f9e_0242ac1c0002row1_col20,#T_8b354266_3104_11ec_9f9e_0242ac1c0002row1_col21,#T_8b354266_3104_11ec_9f9e_0242ac1c0002row1_col22{\n",
              "            text-align:  center;\n",
              "        }#T_8b354266_3104_11ec_9f9e_0242ac1c0002row1_col0{\n",
              "            text-align:  center;\n",
              "            width:  10em;\n",
              "             height:  80%;\n",
              "            background:  linear-gradient(90deg,#f5f8d6 78.5%, transparent 78.5%);\n",
              "            color:  #251e1b;\n",
              "            font-size:  12px;\n",
              "        }#T_8b354266_3104_11ec_9f9e_0242ac1c0002row1_col1{\n",
              "            text-align:  center;\n",
              "            width:  10em;\n",
              "             height:  80%;\n",
              "            background:  linear-gradient(90deg,#c778c8 78.4%, transparent 78.4%);\n",
              "            color:  #251e1b;\n",
              "            font-size:  12px;\n",
              "        }#T_8b354266_3104_11ec_9f9e_0242ac1c0002row1_col2{\n",
              "            text-align:  center;\n",
              "            width:  10em;\n",
              "             height:  80%;\n",
              "            background:  linear-gradient(90deg,#ff4971 79.4%, transparent 79.4%);\n",
              "            color:  #251e1b;\n",
              "            font-size:  12px;\n",
              "        }</style><table id=\"T_8b354266_3104_11ec_9f9e_0242ac1c0002\" ><thead>    <tr>        <th class=\"blank level0\" ></th>        <th class=\"col_heading level0 col0\" >accuracy</th>        <th class=\"col_heading level0 col1\" >f1_score</th>        <th class=\"col_heading level0 col2\" >precision</th>        <th class=\"col_heading level0 col3\" >recall</th>        <th class=\"col_heading level0 col4\" >ml_framework</th>        <th class=\"col_heading level0 col5\" >transfer_learning</th>        <th class=\"col_heading level0 col6\" >deep_learning</th>        <th class=\"col_heading level0 col7\" >model_type</th>        <th class=\"col_heading level0 col8\" >depth</th>        <th class=\"col_heading level0 col9\" >num_params</th>        <th class=\"col_heading level0 col10\" >bidirectional_layers</th>        <th class=\"col_heading level0 col11\" >dense_layers</th>        <th class=\"col_heading level0 col12\" >embedding_layers</th>        <th class=\"col_heading level0 col13\" >flatten_layers</th>        <th class=\"col_heading level0 col14\" >lstm_layers</th>        <th class=\"col_heading level0 col15\" >softmax_act</th>        <th class=\"col_heading level0 col16\" >tanh_act</th>        <th class=\"col_heading level0 col17\" >loss</th>        <th class=\"col_heading level0 col18\" >optimizer</th>        <th class=\"col_heading level0 col19\" >model_config</th>        <th class=\"col_heading level0 col20\" >memory_size</th>        <th class=\"col_heading level0 col21\" >username</th>        <th class=\"col_heading level0 col22\" >version</th>    </tr></thead><tbody>\n",
              "                <tr>\n",
              "                        <th id=\"T_8b354266_3104_11ec_9f9e_0242ac1c0002level0_row0\" class=\"row_heading level0 row0\" >0</th>\n",
              "                        <td id=\"T_8b354266_3104_11ec_9f9e_0242ac1c0002row0_col0\" class=\"data row0 col0\" >78.57%</td>\n",
              "                        <td id=\"T_8b354266_3104_11ec_9f9e_0242ac1c0002row0_col1\" class=\"data row0 col1\" >78.57%</td>\n",
              "                        <td id=\"T_8b354266_3104_11ec_9f9e_0242ac1c0002row0_col2\" class=\"data row0 col2\" >78.66%</td>\n",
              "                        <td id=\"T_8b354266_3104_11ec_9f9e_0242ac1c0002row0_col3\" class=\"data row0 col3\" >78.66%</td>\n",
              "                        <td id=\"T_8b354266_3104_11ec_9f9e_0242ac1c0002row0_col4\" class=\"data row0 col4\" >keras</td>\n",
              "                        <td id=\"T_8b354266_3104_11ec_9f9e_0242ac1c0002row0_col5\" class=\"data row0 col5\" >False</td>\n",
              "                        <td id=\"T_8b354266_3104_11ec_9f9e_0242ac1c0002row0_col6\" class=\"data row0 col6\" >True</td>\n",
              "                        <td id=\"T_8b354266_3104_11ec_9f9e_0242ac1c0002row0_col7\" class=\"data row0 col7\" >Sequential</td>\n",
              "                        <td id=\"T_8b354266_3104_11ec_9f9e_0242ac1c0002row0_col8\" class=\"data row0 col8\" >5</td>\n",
              "                        <td id=\"T_8b354266_3104_11ec_9f9e_0242ac1c0002row0_col9\" class=\"data row0 col9\" >177154</td>\n",
              "                        <td id=\"T_8b354266_3104_11ec_9f9e_0242ac1c0002row0_col10\" class=\"data row0 col10\" >nan</td>\n",
              "                        <td id=\"T_8b354266_3104_11ec_9f9e_0242ac1c0002row0_col11\" class=\"data row0 col11\" >1</td>\n",
              "                        <td id=\"T_8b354266_3104_11ec_9f9e_0242ac1c0002row0_col12\" class=\"data row0 col12\" >1</td>\n",
              "                        <td id=\"T_8b354266_3104_11ec_9f9e_0242ac1c0002row0_col13\" class=\"data row0 col13\" >1.000000</td>\n",
              "                        <td id=\"T_8b354266_3104_11ec_9f9e_0242ac1c0002row0_col14\" class=\"data row0 col14\" >2</td>\n",
              "                        <td id=\"T_8b354266_3104_11ec_9f9e_0242ac1c0002row0_col15\" class=\"data row0 col15\" >1</td>\n",
              "                        <td id=\"T_8b354266_3104_11ec_9f9e_0242ac1c0002row0_col16\" class=\"data row0 col16\" >2</td>\n",
              "                        <td id=\"T_8b354266_3104_11ec_9f9e_0242ac1c0002row0_col17\" class=\"data row0 col17\" >function</td>\n",
              "                        <td id=\"T_8b354266_3104_11ec_9f9e_0242ac1c0002row0_col18\" class=\"data row0 col18\" >RMSprop</td>\n",
              "                        <td id=\"T_8b354266_3104_11ec_9f9e_0242ac1c0002row0_col19\" class=\"data row0 col19\" >{'name': 'sequential_2', 'laye...</td>\n",
              "                        <td id=\"T_8b354266_3104_11ec_9f9e_0242ac1c0002row0_col20\" class=\"data row0 col20\" >2748600</td>\n",
              "                        <td id=\"T_8b354266_3104_11ec_9f9e_0242ac1c0002row0_col21\" class=\"data row0 col21\" >mikedparrott</td>\n",
              "                        <td id=\"T_8b354266_3104_11ec_9f9e_0242ac1c0002row0_col22\" class=\"data row0 col22\" >1</td>\n",
              "            </tr>\n",
              "            <tr>\n",
              "                        <th id=\"T_8b354266_3104_11ec_9f9e_0242ac1c0002level0_row1\" class=\"row_heading level0 row1\" >1</th>\n",
              "                        <td id=\"T_8b354266_3104_11ec_9f9e_0242ac1c0002row1_col0\" class=\"data row1 col0\" >78.46%</td>\n",
              "                        <td id=\"T_8b354266_3104_11ec_9f9e_0242ac1c0002row1_col1\" class=\"data row1 col1\" >78.38%</td>\n",
              "                        <td id=\"T_8b354266_3104_11ec_9f9e_0242ac1c0002row1_col2\" class=\"data row1 col2\" >79.41%</td>\n",
              "                        <td id=\"T_8b354266_3104_11ec_9f9e_0242ac1c0002row1_col3\" class=\"data row1 col3\" >78.74%</td>\n",
              "                        <td id=\"T_8b354266_3104_11ec_9f9e_0242ac1c0002row1_col4\" class=\"data row1 col4\" >keras</td>\n",
              "                        <td id=\"T_8b354266_3104_11ec_9f9e_0242ac1c0002row1_col5\" class=\"data row1 col5\" >False</td>\n",
              "                        <td id=\"T_8b354266_3104_11ec_9f9e_0242ac1c0002row1_col6\" class=\"data row1 col6\" >True</td>\n",
              "                        <td id=\"T_8b354266_3104_11ec_9f9e_0242ac1c0002row1_col7\" class=\"data row1 col7\" >Sequential</td>\n",
              "                        <td id=\"T_8b354266_3104_11ec_9f9e_0242ac1c0002row1_col8\" class=\"data row1 col8\" >5</td>\n",
              "                        <td id=\"T_8b354266_3104_11ec_9f9e_0242ac1c0002row1_col9\" class=\"data row1 col9\" >191362</td>\n",
              "                        <td id=\"T_8b354266_3104_11ec_9f9e_0242ac1c0002row1_col10\" class=\"data row1 col10\" >1.000000</td>\n",
              "                        <td id=\"T_8b354266_3104_11ec_9f9e_0242ac1c0002row1_col11\" class=\"data row1 col11\" >1</td>\n",
              "                        <td id=\"T_8b354266_3104_11ec_9f9e_0242ac1c0002row1_col12\" class=\"data row1 col12\" >1</td>\n",
              "                        <td id=\"T_8b354266_3104_11ec_9f9e_0242ac1c0002row1_col13\" class=\"data row1 col13\" >nan</td>\n",
              "                        <td id=\"T_8b354266_3104_11ec_9f9e_0242ac1c0002row1_col14\" class=\"data row1 col14\" >2</td>\n",
              "                        <td id=\"T_8b354266_3104_11ec_9f9e_0242ac1c0002row1_col15\" class=\"data row1 col15\" >1</td>\n",
              "                        <td id=\"T_8b354266_3104_11ec_9f9e_0242ac1c0002row1_col16\" class=\"data row1 col16\" >2</td>\n",
              "                        <td id=\"T_8b354266_3104_11ec_9f9e_0242ac1c0002row1_col17\" class=\"data row1 col17\" >function</td>\n",
              "                        <td id=\"T_8b354266_3104_11ec_9f9e_0242ac1c0002row1_col18\" class=\"data row1 col18\" >RMSprop</td>\n",
              "                        <td id=\"T_8b354266_3104_11ec_9f9e_0242ac1c0002row1_col19\" class=\"data row1 col19\" >{'name': 'sequential_11', 'lay...</td>\n",
              "                        <td id=\"T_8b354266_3104_11ec_9f9e_0242ac1c0002row1_col20\" class=\"data row1 col20\" >3353816</td>\n",
              "                        <td id=\"T_8b354266_3104_11ec_9f9e_0242ac1c0002row1_col21\" class=\"data row1 col21\" >mikedparrott</td>\n",
              "                        <td id=\"T_8b354266_3104_11ec_9f9e_0242ac1c0002row1_col22\" class=\"data row1 col22\" >2</td>\n",
              "            </tr>\n",
              "    </tbody></table>"
            ],
            "text/plain": [
              "<pandas.io.formats.style.Styler at 0x7fd8b335ee90>"
            ]
          },
          "metadata": {},
          "execution_count": 26
        }
      ]
    },
    {
      "cell_type": "markdown",
      "metadata": {
        "id": "g_bklL3shOER"
      },
      "source": [
        "Compare Models"
      ]
    },
    {
      "cell_type": "code",
      "metadata": {
        "id": "quo_V3A3hNS3",
        "colab": {
          "base_uri": "https://localhost:8080/",
          "height": 206
        },
        "outputId": "7e6ed0fe-6715-4b74-bb08-841a900f5698"
      },
      "source": [
        "# Compare two or more models (Experimental, Git-like Diffs for Model Architectures)\n",
        "mycompetition.compare_models([1,2])"
      ],
      "execution_count": 27,
      "outputs": [
        {
          "output_type": "execute_result",
          "data": {
            "text/html": [
              "<div>\n",
              "<style scoped>\n",
              "    .dataframe tbody tr th:only-of-type {\n",
              "        vertical-align: middle;\n",
              "    }\n",
              "\n",
              "    .dataframe tbody tr th {\n",
              "        vertical-align: top;\n",
              "    }\n",
              "\n",
              "    .dataframe thead th {\n",
              "        text-align: right;\n",
              "    }\n",
              "</style>\n",
              "<table border=\"1\" class=\"dataframe\">\n",
              "  <thead>\n",
              "    <tr style=\"text-align: right;\">\n",
              "      <th></th>\n",
              "      <th>Model_1_Layer</th>\n",
              "      <th>Model_1_Shape</th>\n",
              "      <th>Model_1_Params</th>\n",
              "      <th>Model_2_Layer</th>\n",
              "      <th>Model_2_Shape</th>\n",
              "      <th>Model_2_Params</th>\n",
              "    </tr>\n",
              "  </thead>\n",
              "  <tbody>\n",
              "    <tr>\n",
              "      <th>0</th>\n",
              "      <td>Embedding</td>\n",
              "      <td>[None, 40, 16]</td>\n",
              "      <td>160000</td>\n",
              "      <td>Embedding</td>\n",
              "      <td>[None, 40, 16]</td>\n",
              "      <td>160000</td>\n",
              "    </tr>\n",
              "    <tr>\n",
              "      <th>1</th>\n",
              "      <td>LSTM</td>\n",
              "      <td>[None, 40, 32]</td>\n",
              "      <td>6272</td>\n",
              "      <td>LSTM</td>\n",
              "      <td>[None, 40, 32]</td>\n",
              "      <td>6272</td>\n",
              "    </tr>\n",
              "    <tr>\n",
              "      <th>2</th>\n",
              "      <td>LSTM</td>\n",
              "      <td>[None, 40, 32]</td>\n",
              "      <td>8320</td>\n",
              "      <td>LSTM</td>\n",
              "      <td>[None, 40, 32]</td>\n",
              "      <td>8320</td>\n",
              "    </tr>\n",
              "    <tr>\n",
              "      <th>3</th>\n",
              "      <td>Flatten</td>\n",
              "      <td>[None, 1280]</td>\n",
              "      <td>0</td>\n",
              "      <td>Bidirectional</td>\n",
              "      <td>[None, 64]</td>\n",
              "      <td>16640</td>\n",
              "    </tr>\n",
              "    <tr>\n",
              "      <th>4</th>\n",
              "      <td>Dense</td>\n",
              "      <td>[None, 2]</td>\n",
              "      <td>2562</td>\n",
              "      <td>Dense</td>\n",
              "      <td>[None, 2]</td>\n",
              "      <td>130</td>\n",
              "    </tr>\n",
              "  </tbody>\n",
              "</table>\n",
              "</div>"
            ],
            "text/plain": [
              "  Model_1_Layer   Model_1_Shape  ...   Model_2_Shape Model_2_Params\n",
              "0     Embedding  [None, 40, 16]  ...  [None, 40, 16]         160000\n",
              "1          LSTM  [None, 40, 32]  ...  [None, 40, 32]           6272\n",
              "2          LSTM  [None, 40, 32]  ...  [None, 40, 32]           8320\n",
              "3       Flatten    [None, 1280]  ...      [None, 64]          16640\n",
              "4         Dense       [None, 2]  ...       [None, 2]            130\n",
              "\n",
              "[5 rows x 6 columns]"
            ]
          },
          "metadata": {},
          "execution_count": 27
        }
      ]
    },
    {
      "cell_type": "markdown",
      "metadata": {
        "id": "FKm9ugiBhQFn"
      },
      "source": [
        "#### Check structure of y test data \n",
        "(This helps users understand how to submit predicted values to leaderboard)"
      ]
    },
    {
      "cell_type": "code",
      "metadata": {
        "colab": {
          "base_uri": "https://localhost:8080/"
        },
        "id": "dqY82D22hPZx",
        "outputId": "e32c01ce-23e4-49cf-fdcc-7e83f41e91ec"
      },
      "source": [
        "mycompetition.inspect_y_test()"
      ],
      "execution_count": 28,
      "outputs": [
        {
          "output_type": "execute_result",
          "data": {
            "text/plain": [
              "{'class_balance': {'clickbait': 3022, 'not clickbait': 3223},\n",
              " 'class_labels': ['not clickbait', 'clickbait'],\n",
              " 'label_dtypes': {\"<class 'str'>\": 6245},\n",
              " 'y_length': 6245,\n",
              " 'ytest_example': ['not clickbait',\n",
              "  'not clickbait',\n",
              "  'not clickbait',\n",
              "  'not clickbait',\n",
              "  'clickbait']}"
            ]
          },
          "metadata": {},
          "execution_count": 28
        }
      ]
    },
    {
      "cell_type": "markdown",
      "metadata": {
        "id": "iA-nYjr7WCIp"
      },
      "source": [
        "## **Part 3: Maintaining your Model Playground**\n",
        "\n",
        "-------"
      ]
    },
    {
      "cell_type": "markdown",
      "metadata": {
        "id": "0UIWnHIXWM0F"
      },
      "source": [
        "Update Runtime model\n",
        "\n",
        "*Use this function to 1) update the prediction API behind your Model Playground with a new model, chosen from the leaderboard and 2) verify the model performance metrics in your Model Playground*"
      ]
    },
    {
      "cell_type": "code",
      "metadata": {
        "colab": {
          "base_uri": "https://localhost:8080/"
        },
        "id": "wAchpcGLWLxE",
        "outputId": "3b84299b-3135-4ee8-856d-871d47c2479a"
      },
      "source": [
        "myplayground.update_runtime_model(model_version=2)"
      ],
      "execution_count": 29,
      "outputs": [
        {
          "output_type": "stream",
          "name": "stdout",
          "text": [
            "Runtime model & preprocessor for api: https://pxgotoelzi.execute-api.us-east-1.amazonaws.com/prod/m updated to model version 2.\n",
            "\n",
            "Model metrics are now updated and verified for this model playground.\n"
          ]
        }
      ]
    },
    {
      "cell_type": "markdown",
      "metadata": {
        "id": "xhJRaiN-WaO1"
      },
      "source": [
        "Delete Deployment \n",
        "\n",
        "*Use this function to delete the entire Model Playground, including the REST API, web dashboard, competition, and all submitted models*"
      ]
    },
    {
      "cell_type": "code",
      "metadata": {
        "colab": {
          "base_uri": "https://localhost:8080/",
          "height": 109
        },
        "id": "mCkf-exLWyDK",
        "outputId": "b1323495-af79-4674-f00b-99f2aa7729ab"
      },
      "source": [
        "myplayground.delete_deployment()"
      ],
      "execution_count": null,
      "outputs": [
        {
          "name": "stdout",
          "output_type": "stream",
          "text": [
            "Running this function will permanently delete all resources tied to this deployment, \n",
            " including the eval lambda and all models submitted to the model competition.\n",
            "\n",
            "To confirm, type 'permanently delete':permanently delete\n"
          ]
        },
        {
          "output_type": "execute_result",
          "data": {
            "application/vnd.google.colaboratory.intrinsic+json": {
              "type": "string"
            },
            "text/plain": [
              "'API deleted successfully.'"
            ]
          },
          "metadata": {},
          "execution_count": 15
        }
      ]
    }
  ]
}