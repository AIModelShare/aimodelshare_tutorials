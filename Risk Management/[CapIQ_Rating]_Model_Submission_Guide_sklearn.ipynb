{
  "nbformat": 4,
  "nbformat_minor": 0,
  "metadata": {
    "colab": {
      "provenance": [],
      "collapsed_sections": []
    },
    "kernelspec": {
      "name": "python3",
      "display_name": "Python 3"
    },
    "language_info": {
      "name": "python"
    }
  },
  "cells": [
    {
      "cell_type": "markdown",
      "source": [
        "<p align=\"center\"><img width=\"50%\" src=\"https://aimodelsharecontent.s3.amazonaws.com/aimodshare_banner.jpg\" /></p>\n",
        "\n",
        "\n",
        "---"
      ],
      "metadata": {
        "id": "ekczNcQxUpzT"
      }
    },
    {
      "cell_type": "markdown",
      "metadata": {
        "id": "JXxGTgJz152A"
      },
      "source": [
        "## Model Submission Guide: CapIQ-Rating Classification Competition\n",
        "Let's share our models to a centralized leaderboard, so that we can collaborate and learn from the model experimentation process...\n",
        "\n",
        "**Instructions:**\n",
        "1.   Get data in and set up X_train / X_test / y_train\n",
        "2.   Preprocess data using Sklearn Column Transformer/ Write and Save Preprocessor function\n",
        "3. Fit model on preprocessed data and save preprocessor function and model \n",
        "4. Generate predictions from X_test data and submit model to competition\n",
        "5. Repeat submission process to improve place on leaderboard\n",
        "\n"
      ]
    },
    {
      "cell_type": "markdown",
      "metadata": {
        "id": "5gSrVJwp3E9H"
      },
      "source": [
        "## 1. Get data in and set up X_train, X_test, y_train objects"
      ]
    },
    {
      "cell_type": "code",
      "metadata": {
        "id": "PLTIaMB3ChSW"
      },
      "source": [
        "#install aimodelshare library\n",
        "! pip install aimodelshare --upgrade"
      ],
      "execution_count": null,
      "outputs": []
    },
    {
      "cell_type": "code",
      "metadata": {
        "colab": {
          "base_uri": "https://localhost:8080/"
        },
        "id": "d3PiJXBhC5y-",
        "outputId": "3ebd9a9c-4f66-4def-82c0-280c8e1bd2da"
      },
      "source": [
        "# Get competition data\n",
        "from aimodelshare import download_data\n",
        "download_data('public.ecr.aws/y2e2a1d6/capiq_rating_competition_data-repository:latest') "
      ],
      "execution_count": 2,
      "outputs": [
        {
          "output_type": "stream",
          "name": "stdout",
          "text": [
            "Downloading [======>                                          ]\n",
            "\n",
            "Data downloaded successfully.\n"
          ]
        }
      ]
    },
    {
      "cell_type": "code",
      "metadata": {
        "colab": {
          "base_uri": "https://localhost:8080/",
          "height": 467
        },
        "id": "jT0qFCZFNzHq",
        "outputId": "5a1490a6-330b-4b59-810b-b84246663ef7"
      },
      "source": [
        "# Separate data into X_train, y_train, and X_test\n",
        "import pandas as pd\n",
        "y_train_labels = pd.read_csv(\"capiq_rating_competition_data/y_train.csv\", squeeze=True)\n",
        "y_train = pd.get_dummies(y_train_labels)\n",
        "\n",
        "X_train = pd.read_csv(\"capiq_rating_competition_data/X_train.csv\")\n",
        "X_test=pd.read_csv(\"capiq_rating_competition_data/X_test.csv\")\n",
        "\n",
        "X_train.head()"
      ],
      "execution_count": 3,
      "outputs": [
        {
          "output_type": "execute_result",
          "data": {
            "text/plain": [
              "                             Name     Symbol                        Exchange  \\\n",
              "0           3M Company (NYSE:MMM)   NYSE:MMM  New York Stock Exchange (NYSE)   \n",
              "1            AAR Corp. (NYSE:AIR)   NYSE:AIR  New York Stock Exchange (NYSE)   \n",
              "2  Abbott Laboratories (NYSE:ABT)   NYSE:ABT  New York Stock Exchange (NYSE)   \n",
              "3         AbbVie Inc. (NYSE:ABBV)  NYSE:ABBV  New York Stock Exchange (NYSE)   \n",
              "4      Adecoagro S.A. (NYSE:AGRO)  NYSE:AGRO  New York Stock Exchange (NYSE)   \n",
              "\n",
              "           Industry  MarketCap  EnterpriseValue   Revenue  GrossProfit  \\\n",
              "0       Industrials   99704.48        109611.58  31841.90     15447.60   \n",
              "1       Industrials    1131.61          1412.65   1816.20       272.93   \n",
              "2       Health Care  112198.80        121025.92  27682.23     15806.85   \n",
              "3       Health Care  135936.95        166341.05  31122.80     23163.60   \n",
              "4  Consumer Staples    1021.64          1760.08    817.16       260.81   \n",
              "\n",
              "     EBITDA       EBIT  ...  CurrentAssets  ShortTermDebt  LTD_Cap_Leases  \\\n",
              "0   8734.60   7966.300  ...       13272.00       353.7000         1117.30   \n",
              "1    129.26    103.655  ...        1014.52         0.0600           37.37   \n",
              "2   6757.35   5505.365  ...       20018.30      1243.9000          608.10   \n",
              "3  13948.20  12604.850  ...       22157.20       678.8000         3891.50   \n",
              "4    255.28    193.000  ...         623.58         7.6627          178.79   \n",
              "\n",
              "   Leases_LongTerm  LongTermDebt  Liabilities  Liabilities_N_Equity  \\\n",
              "0         253.1000      11248.20    31269.350              37798.60   \n",
              "1          13.0800        328.11     1303.615               1760.14   \n",
              "2         261.3000      15047.10    46540.700              60436.20   \n",
              "3         186.2000      37593.70    70162.000              71921.50   \n",
              "4          53.7321        595.08     1513.135               1949.59   \n",
              "\n",
              "   Debt_Current  Debt_NonCurrent  Debt_Net  \n",
              "0      1471.000         11501.30   9166.30  \n",
              "1        37.430           341.19    276.71  \n",
              "2      1852.000         15308.40   8373.90  \n",
              "3      4570.300         37779.90  30633.70  \n",
              "4       186.449           648.81    606.12  \n",
              "\n",
              "[5 rows x 28 columns]"
            ],
            "text/html": [
              "\n",
              "  <div id=\"df-473fa55e-058a-4e8c-ad3a-df9aa887da9c\">\n",
              "    <div class=\"colab-df-container\">\n",
              "      <div>\n",
              "<style scoped>\n",
              "    .dataframe tbody tr th:only-of-type {\n",
              "        vertical-align: middle;\n",
              "    }\n",
              "\n",
              "    .dataframe tbody tr th {\n",
              "        vertical-align: top;\n",
              "    }\n",
              "\n",
              "    .dataframe thead th {\n",
              "        text-align: right;\n",
              "    }\n",
              "</style>\n",
              "<table border=\"1\" class=\"dataframe\">\n",
              "  <thead>\n",
              "    <tr style=\"text-align: right;\">\n",
              "      <th></th>\n",
              "      <th>Name</th>\n",
              "      <th>Symbol</th>\n",
              "      <th>Exchange</th>\n",
              "      <th>Industry</th>\n",
              "      <th>MarketCap</th>\n",
              "      <th>EnterpriseValue</th>\n",
              "      <th>Revenue</th>\n",
              "      <th>GrossProfit</th>\n",
              "      <th>EBITDA</th>\n",
              "      <th>EBIT</th>\n",
              "      <th>...</th>\n",
              "      <th>CurrentAssets</th>\n",
              "      <th>ShortTermDebt</th>\n",
              "      <th>LTD_Cap_Leases</th>\n",
              "      <th>Leases_LongTerm</th>\n",
              "      <th>LongTermDebt</th>\n",
              "      <th>Liabilities</th>\n",
              "      <th>Liabilities_N_Equity</th>\n",
              "      <th>Debt_Current</th>\n",
              "      <th>Debt_NonCurrent</th>\n",
              "      <th>Debt_Net</th>\n",
              "    </tr>\n",
              "  </thead>\n",
              "  <tbody>\n",
              "    <tr>\n",
              "      <th>0</th>\n",
              "      <td>3M Company (NYSE:MMM)</td>\n",
              "      <td>NYSE:MMM</td>\n",
              "      <td>New York Stock Exchange (NYSE)</td>\n",
              "      <td>Industrials</td>\n",
              "      <td>99704.48</td>\n",
              "      <td>109611.58</td>\n",
              "      <td>31841.90</td>\n",
              "      <td>15447.60</td>\n",
              "      <td>8734.60</td>\n",
              "      <td>7966.300</td>\n",
              "      <td>...</td>\n",
              "      <td>13272.00</td>\n",
              "      <td>353.7000</td>\n",
              "      <td>1117.30</td>\n",
              "      <td>253.1000</td>\n",
              "      <td>11248.20</td>\n",
              "      <td>31269.350</td>\n",
              "      <td>37798.60</td>\n",
              "      <td>1471.000</td>\n",
              "      <td>11501.30</td>\n",
              "      <td>9166.30</td>\n",
              "    </tr>\n",
              "    <tr>\n",
              "      <th>1</th>\n",
              "      <td>AAR Corp. (NYSE:AIR)</td>\n",
              "      <td>NYSE:AIR</td>\n",
              "      <td>New York Stock Exchange (NYSE)</td>\n",
              "      <td>Industrials</td>\n",
              "      <td>1131.61</td>\n",
              "      <td>1412.65</td>\n",
              "      <td>1816.20</td>\n",
              "      <td>272.93</td>\n",
              "      <td>129.26</td>\n",
              "      <td>103.655</td>\n",
              "      <td>...</td>\n",
              "      <td>1014.52</td>\n",
              "      <td>0.0600</td>\n",
              "      <td>37.37</td>\n",
              "      <td>13.0800</td>\n",
              "      <td>328.11</td>\n",
              "      <td>1303.615</td>\n",
              "      <td>1760.14</td>\n",
              "      <td>37.430</td>\n",
              "      <td>341.19</td>\n",
              "      <td>276.71</td>\n",
              "    </tr>\n",
              "    <tr>\n",
              "      <th>2</th>\n",
              "      <td>Abbott Laboratories (NYSE:ABT)</td>\n",
              "      <td>NYSE:ABT</td>\n",
              "      <td>New York Stock Exchange (NYSE)</td>\n",
              "      <td>Health Care</td>\n",
              "      <td>112198.80</td>\n",
              "      <td>121025.92</td>\n",
              "      <td>27682.23</td>\n",
              "      <td>15806.85</td>\n",
              "      <td>6757.35</td>\n",
              "      <td>5505.365</td>\n",
              "      <td>...</td>\n",
              "      <td>20018.30</td>\n",
              "      <td>1243.9000</td>\n",
              "      <td>608.10</td>\n",
              "      <td>261.3000</td>\n",
              "      <td>15047.10</td>\n",
              "      <td>46540.700</td>\n",
              "      <td>60436.20</td>\n",
              "      <td>1852.000</td>\n",
              "      <td>15308.40</td>\n",
              "      <td>8373.90</td>\n",
              "    </tr>\n",
              "    <tr>\n",
              "      <th>3</th>\n",
              "      <td>AbbVie Inc. (NYSE:ABBV)</td>\n",
              "      <td>NYSE:ABBV</td>\n",
              "      <td>New York Stock Exchange (NYSE)</td>\n",
              "      <td>Health Care</td>\n",
              "      <td>135936.95</td>\n",
              "      <td>166341.05</td>\n",
              "      <td>31122.80</td>\n",
              "      <td>23163.60</td>\n",
              "      <td>13948.20</td>\n",
              "      <td>12604.850</td>\n",
              "      <td>...</td>\n",
              "      <td>22157.20</td>\n",
              "      <td>678.8000</td>\n",
              "      <td>3891.50</td>\n",
              "      <td>186.2000</td>\n",
              "      <td>37593.70</td>\n",
              "      <td>70162.000</td>\n",
              "      <td>71921.50</td>\n",
              "      <td>4570.300</td>\n",
              "      <td>37779.90</td>\n",
              "      <td>30633.70</td>\n",
              "    </tr>\n",
              "    <tr>\n",
              "      <th>4</th>\n",
              "      <td>Adecoagro S.A. (NYSE:AGRO)</td>\n",
              "      <td>NYSE:AGRO</td>\n",
              "      <td>New York Stock Exchange (NYSE)</td>\n",
              "      <td>Consumer Staples</td>\n",
              "      <td>1021.64</td>\n",
              "      <td>1760.08</td>\n",
              "      <td>817.16</td>\n",
              "      <td>260.81</td>\n",
              "      <td>255.28</td>\n",
              "      <td>193.000</td>\n",
              "      <td>...</td>\n",
              "      <td>623.58</td>\n",
              "      <td>7.6627</td>\n",
              "      <td>178.79</td>\n",
              "      <td>53.7321</td>\n",
              "      <td>595.08</td>\n",
              "      <td>1513.135</td>\n",
              "      <td>1949.59</td>\n",
              "      <td>186.449</td>\n",
              "      <td>648.81</td>\n",
              "      <td>606.12</td>\n",
              "    </tr>\n",
              "  </tbody>\n",
              "</table>\n",
              "<p>5 rows × 28 columns</p>\n",
              "</div>\n",
              "      <button class=\"colab-df-convert\" onclick=\"convertToInteractive('df-473fa55e-058a-4e8c-ad3a-df9aa887da9c')\"\n",
              "              title=\"Convert this dataframe to an interactive table.\"\n",
              "              style=\"display:none;\">\n",
              "        \n",
              "  <svg xmlns=\"http://www.w3.org/2000/svg\" height=\"24px\"viewBox=\"0 0 24 24\"\n",
              "       width=\"24px\">\n",
              "    <path d=\"M0 0h24v24H0V0z\" fill=\"none\"/>\n",
              "    <path d=\"M18.56 5.44l.94 2.06.94-2.06 2.06-.94-2.06-.94-.94-2.06-.94 2.06-2.06.94zm-11 1L8.5 8.5l.94-2.06 2.06-.94-2.06-.94L8.5 2.5l-.94 2.06-2.06.94zm10 10l.94 2.06.94-2.06 2.06-.94-2.06-.94-.94-2.06-.94 2.06-2.06.94z\"/><path d=\"M17.41 7.96l-1.37-1.37c-.4-.4-.92-.59-1.43-.59-.52 0-1.04.2-1.43.59L10.3 9.45l-7.72 7.72c-.78.78-.78 2.05 0 2.83L4 21.41c.39.39.9.59 1.41.59.51 0 1.02-.2 1.41-.59l7.78-7.78 2.81-2.81c.8-.78.8-2.07 0-2.86zM5.41 20L4 18.59l7.72-7.72 1.47 1.35L5.41 20z\"/>\n",
              "  </svg>\n",
              "      </button>\n",
              "      \n",
              "  <style>\n",
              "    .colab-df-container {\n",
              "      display:flex;\n",
              "      flex-wrap:wrap;\n",
              "      gap: 12px;\n",
              "    }\n",
              "\n",
              "    .colab-df-convert {\n",
              "      background-color: #E8F0FE;\n",
              "      border: none;\n",
              "      border-radius: 50%;\n",
              "      cursor: pointer;\n",
              "      display: none;\n",
              "      fill: #1967D2;\n",
              "      height: 32px;\n",
              "      padding: 0 0 0 0;\n",
              "      width: 32px;\n",
              "    }\n",
              "\n",
              "    .colab-df-convert:hover {\n",
              "      background-color: #E2EBFA;\n",
              "      box-shadow: 0px 1px 2px rgba(60, 64, 67, 0.3), 0px 1px 3px 1px rgba(60, 64, 67, 0.15);\n",
              "      fill: #174EA6;\n",
              "    }\n",
              "\n",
              "    [theme=dark] .colab-df-convert {\n",
              "      background-color: #3B4455;\n",
              "      fill: #D2E3FC;\n",
              "    }\n",
              "\n",
              "    [theme=dark] .colab-df-convert:hover {\n",
              "      background-color: #434B5C;\n",
              "      box-shadow: 0px 1px 3px 1px rgba(0, 0, 0, 0.15);\n",
              "      filter: drop-shadow(0px 1px 2px rgba(0, 0, 0, 0.3));\n",
              "      fill: #FFFFFF;\n",
              "    }\n",
              "  </style>\n",
              "\n",
              "      <script>\n",
              "        const buttonEl =\n",
              "          document.querySelector('#df-473fa55e-058a-4e8c-ad3a-df9aa887da9c button.colab-df-convert');\n",
              "        buttonEl.style.display =\n",
              "          google.colab.kernel.accessAllowed ? 'block' : 'none';\n",
              "\n",
              "        async function convertToInteractive(key) {\n",
              "          const element = document.querySelector('#df-473fa55e-058a-4e8c-ad3a-df9aa887da9c');\n",
              "          const dataTable =\n",
              "            await google.colab.kernel.invokeFunction('convertToInteractive',\n",
              "                                                     [key], {});\n",
              "          if (!dataTable) return;\n",
              "\n",
              "          const docLinkHtml = 'Like what you see? Visit the ' +\n",
              "            '<a target=\"_blank\" href=https://colab.research.google.com/notebooks/data_table.ipynb>data table notebook</a>'\n",
              "            + ' to learn more about interactive tables.';\n",
              "          element.innerHTML = '';\n",
              "          dataTable['output_type'] = 'display_data';\n",
              "          await google.colab.output.renderOutput(dataTable, element);\n",
              "          const docLink = document.createElement('div');\n",
              "          docLink.innerHTML = docLinkHtml;\n",
              "          element.appendChild(docLink);\n",
              "        }\n",
              "      </script>\n",
              "    </div>\n",
              "  </div>\n",
              "  "
            ]
          },
          "metadata": {},
          "execution_count": 3
        }
      ]
    },
    {
      "cell_type": "markdown",
      "metadata": {
        "id": "gEzPoXPj3V7u"
      },
      "source": [
        "##2.   Preprocess data using Sklearn / Write and Save Preprocessor function\n"
      ]
    },
    {
      "cell_type": "code",
      "metadata": {
        "id": "16QV9Y9TC3B3"
      },
      "source": [
        "# Simple Preprocessor with sklearn \n",
        "from sklearn.preprocessing import StandardScaler, OneHotEncoder\n",
        "from sklearn.compose import ColumnTransformer\n",
        "from sklearn.pipeline import Pipeline\n",
        "from sklearn.impute import SimpleImputer\n",
        "\n",
        "numeric_features = ['MarketCap', 'EnterpriseValue', 'Revenue', 'GrossProfit', 'EBITDA', \n",
        "                    'EBIT', 'NetIncome', 'Cash', 'PPnE', 'Assets', 'Debt', 'Equity', \n",
        "                    'Receivables', 'Inventory', 'CurrentAssets', 'ShortTermDebt', \n",
        "                    'LTD_Cap_Leases', 'Leases_LongTerm', 'LongTermDebt', 'Liabilities', \n",
        "                    'Liabilities_N_Equity', 'Debt_Current', 'Debt_NonCurrent', 'Debt_Net']\n",
        "numeric_transformer = Pipeline(steps=[\n",
        "    ('imputer', SimpleImputer(strategy='median')), \n",
        "    ('scaler', StandardScaler())])\n",
        "\n",
        "categorical_features = ['Industry']\n",
        "## Replacing missing values with Modal value and then one-hot encoding.\n",
        "categorical_transformer = Pipeline(steps=[\n",
        "    ('imputer', SimpleImputer(strategy='most_frequent')),\n",
        "    ('onehot', OneHotEncoder(handle_unknown='ignore'))])\n",
        "\n",
        "# Final preprocessor object set up with ColumnTransformer...\n",
        "\n",
        "preprocess = ColumnTransformer(\n",
        "    transformers=[\n",
        "        ('num', numeric_transformer, numeric_features),\n",
        "        ('cat', categorical_transformer, categorical_features)])\n",
        "\n",
        "# fit preprocessor to your data\n",
        "preprocess = preprocess.fit(X_train)"
      ],
      "execution_count": 4,
      "outputs": []
    },
    {
      "cell_type": "code",
      "source": [
        "# Here is where we actually write the preprocessor function:\n",
        "def preprocessor(data):\n",
        "    preprocessed_data=preprocess.transform(data)\n",
        "    return preprocessed_data"
      ],
      "metadata": {
        "id": "S_PaNOG0SUIk"
      },
      "execution_count": 5,
      "outputs": []
    },
    {
      "cell_type": "code",
      "source": [
        "# check shape of X data after preprocessing it using our new function\n",
        "preprocessor(X_train).shape"
      ],
      "metadata": {
        "colab": {
          "base_uri": "https://localhost:8080/"
        },
        "id": "a1IPy9xvSWBp",
        "outputId": "48ad1fad-5d10-42f3-aa0d-bd5e4fddaa6f"
      },
      "execution_count": 6,
      "outputs": [
        {
          "output_type": "execute_result",
          "data": {
            "text/plain": [
              "(406, 34)"
            ]
          },
          "metadata": {},
          "execution_count": 6
        }
      ]
    },
    {
      "cell_type": "markdown",
      "metadata": {
        "id": "X52kECL43b-O"
      },
      "source": [
        "##3. Fit model on preprocessed data and save preprocessor function and model \n"
      ]
    },
    {
      "cell_type": "code",
      "metadata": {
        "colab": {
          "base_uri": "https://localhost:8080/"
        },
        "id": "NCbBf8j9ClYl",
        "outputId": "b346e651-0e11-4eb9-db19-cc75896d5391"
      },
      "source": [
        "from sklearn.ensemble import RandomForestClassifier\n",
        "\n",
        "model = RandomForestClassifier(n_estimators=200, max_depth=3)\n",
        "model.fit(preprocessor(X_train), y_train_labels) # Fitting to the training set.\n",
        "model.score(preprocessor(X_train), y_train_labels) # Fit score, 0-1 scale."
      ],
      "execution_count": 7,
      "outputs": [
        {
          "output_type": "execute_result",
          "data": {
            "text/plain": [
              "0.4729064039408867"
            ]
          },
          "metadata": {},
          "execution_count": 7
        }
      ]
    },
    {
      "cell_type": "markdown",
      "metadata": {
        "id": "zmJAnmO-5AcU"
      },
      "source": [
        "#### Save preprocessor function to local \"preprocessor.zip\" file"
      ]
    },
    {
      "cell_type": "code",
      "metadata": {
        "colab": {
          "base_uri": "https://localhost:8080/"
        },
        "id": "4VGacc0LDaMA",
        "outputId": "faf6ffa8-181a-4631-aa1e-a97cc11e484a"
      },
      "source": [
        "import aimodelshare as ai\n",
        "ai.export_preprocessor(preprocessor,\"\") "
      ],
      "execution_count": 8,
      "outputs": [
        {
          "output_type": "stream",
          "name": "stdout",
          "text": [
            "Your preprocessor is now saved to 'preprocessor.zip'\n"
          ]
        }
      ]
    },
    {
      "cell_type": "markdown",
      "metadata": {
        "id": "oOWBa8Cv5LdL"
      },
      "source": [
        "#### Save model to local \".onnx\" file"
      ]
    },
    {
      "cell_type": "code",
      "metadata": {
        "id": "pEhvnRiQDlY5"
      },
      "source": [
        "# Save sklearn model to local ONNX file\n",
        "from aimodelshare.aimsonnx import model_to_onnx\n",
        "\n",
        "# Check how many preprocessed input features there are\n",
        "from skl2onnx.common.data_types import FloatTensorType\n",
        "feature_count=preprocessor(X_test).shape[1] #Gets count of preprocessed features\n",
        "initial_type = [('float_input', FloatTensorType([None, feature_count]))]  # Inserts correct number of features in preprocessed data\n",
        "\n",
        "onnx_model = model_to_onnx(model, framework='sklearn',\n",
        "                          initial_types=initial_type,\n",
        "                          transfer_learning=False,deep_learning=False)\n",
        "\n",
        "with open(\"model.onnx\", \"wb\") as f:\n",
        "    f.write(onnx_model.SerializeToString())"
      ],
      "execution_count": 9,
      "outputs": []
    },
    {
      "cell_type": "markdown",
      "metadata": {
        "id": "gHWkAzvX3m8O"
      },
      "source": [
        "## 4. Generate predictions from X_test data and submit model to competition\n"
      ]
    },
    {
      "cell_type": "code",
      "metadata": {
        "colab": {
          "base_uri": "https://localhost:8080/"
        },
        "id": "RtgkM02MDpkO",
        "outputId": "2fe29d52-c4e7-40eb-e958-5ce63078e837"
      },
      "source": [
        "#Set credentials using modelshare.org username/password\n",
        "\n",
        "from aimodelshare.aws import set_credentials\n",
        "\n",
        "#This is the unique rest api that powers this specific Classification Playground -- make sure to update the apiurl for new competition deployments\n",
        "apiurl='https://3hf4nd1e6b.execute-api.us-east-1.amazonaws.com/prod/m'\n",
        "\n",
        "set_credentials(apiurl=apiurl)"
      ],
      "execution_count": 10,
      "outputs": [
        {
          "output_type": "stream",
          "name": "stdout",
          "text": [
            "AI Modelshare Username:··········\n",
            "AI Modelshare Password:··········\n",
            "AI Model Share login credentials set successfully.\n"
          ]
        }
      ]
    },
    {
      "cell_type": "code",
      "source": [
        "#Instantiate Competition\n",
        "from aimodelshare import ModelPlayground\n",
        "\n",
        "myplayground = ModelPlayground(playground_url='https://3hf4nd1e6b.execute-api.us-east-1.amazonaws.com/prod/m')\n",
        "mycompetition= ai.Competition(myplayground.playground_url)"
      ],
      "metadata": {
        "id": "1NlKbOnMxMtq"
      },
      "execution_count": 11,
      "outputs": []
    },
    {
      "cell_type": "code",
      "metadata": {
        "id": "_Ql4wksyEUnP",
        "colab": {
          "base_uri": "https://localhost:8080/"
        },
        "outputId": "c2d74fc5-22bd-452a-fd0f-0421194d4e17"
      },
      "source": [
        "#Submit Model 1: \n",
        "\n",
        "#-- Generate predicted values (a list of predicted rating labels) (Model 1)\n",
        "prediction_labels = model.predict(preprocessor(X_test))\n",
        "\n",
        "# Submit Model 1 to Competition Leaderboard\n",
        "mycompetition.submit_model(model_filepath = \"model.onnx\",\n",
        "                                 preprocessor_filepath=\"preprocessor.zip\",\n",
        "                                 prediction_submission=prediction_labels)"
      ],
      "execution_count": 12,
      "outputs": [
        {
          "output_type": "stream",
          "name": "stdout",
          "text": [
            "Insert search tags to help users find your model (optional): \n",
            "Provide any useful notes about your model (optional): \n",
            "\n",
            "Your model has been submitted as model version 1\n",
            "\n",
            "To submit code used to create this model or to view current leaderboard navigate to Model Playground: \n",
            "\n",
            " https://www.modelshare.org/detail/model:1756\n"
          ]
        }
      ]
    },
    {
      "cell_type": "code",
      "metadata": {
        "id": "GN1zvAmNEq17",
        "colab": {
          "base_uri": "https://localhost:8080/",
          "height": 88
        },
        "outputId": "83bd017d-a1ce-427a-e57b-8ec92fcf0fae"
      },
      "source": [
        "# Get leaderboard to explore current best model architectures\n",
        "\n",
        "# Get raw data in pandas data frame\n",
        "data = mycompetition.get_leaderboard()\n",
        "\n",
        "# Stylize leaderboard data\n",
        "mycompetition.stylize_leaderboard(data)"
      ],
      "execution_count": 15,
      "outputs": [
        {
          "output_type": "execute_result",
          "data": {
            "text/plain": [
              "<pandas.io.formats.style.Styler at 0x7f845283fbd0>"
            ],
            "text/html": [
              "<style type=\"text/css\">\n",
              "#T_83479_row0_col0 {\n",
              "  text-align: center;\n",
              "  width: 10em;\n",
              "  height: 80%;\n",
              "  background: linear-gradient(90deg,#f5f8d6 24.0%, transparent 24.0%);\n",
              "  color: #251e1b;\n",
              "  font-size: 12px;\n",
              "}\n",
              "#T_83479_row0_col1 {\n",
              "  text-align: center;\n",
              "  width: 10em;\n",
              "  height: 80%;\n",
              "  background: linear-gradient(90deg,#c778c8 18.3%, transparent 18.3%);\n",
              "  color: #251e1b;\n",
              "  font-size: 12px;\n",
              "}\n",
              "#T_83479_row0_col2 {\n",
              "  text-align: center;\n",
              "  width: 10em;\n",
              "  height: 80%;\n",
              "  background: linear-gradient(90deg,#ff4971 19.6%, transparent 19.6%);\n",
              "  color: #251e1b;\n",
              "  font-size: 12px;\n",
              "}\n",
              "#T_83479_row0_col3 {\n",
              "  text-align: center;\n",
              "  width: 10em;\n",
              "  height: 80%;\n",
              "  background: linear-gradient(90deg,#aadbaa 24.0%, transparent 24.0%);\n",
              "  color: #251e1b;\n",
              "  font-size: 12px;\n",
              "}\n",
              "#T_83479_row0_col4, #T_83479_row0_col5, #T_83479_row0_col6, #T_83479_row0_col7, #T_83479_row0_col8, #T_83479_row0_col9 {\n",
              "  text-align: center;\n",
              "}\n",
              "</style>\n",
              "<table id=\"T_83479_\" class=\"dataframe\">\n",
              "  <thead>\n",
              "    <tr>\n",
              "      <th class=\"blank level0\" >&nbsp;</th>\n",
              "      <th class=\"col_heading level0 col0\" >accuracy</th>\n",
              "      <th class=\"col_heading level0 col1\" >f1_score</th>\n",
              "      <th class=\"col_heading level0 col2\" >precision</th>\n",
              "      <th class=\"col_heading level0 col3\" >recall</th>\n",
              "      <th class=\"col_heading level0 col4\" >ml_framework</th>\n",
              "      <th class=\"col_heading level0 col5\" >transfer_learning</th>\n",
              "      <th class=\"col_heading level0 col6\" >deep_learning</th>\n",
              "      <th class=\"col_heading level0 col7\" >model_type</th>\n",
              "      <th class=\"col_heading level0 col8\" >username</th>\n",
              "      <th class=\"col_heading level0 col9\" >version</th>\n",
              "    </tr>\n",
              "  </thead>\n",
              "  <tbody>\n",
              "    <tr>\n",
              "      <th id=\"T_83479_level0_row0\" class=\"row_heading level0 row0\" >0</th>\n",
              "      <td id=\"T_83479_row0_col0\" class=\"data row0 col0\" >24.00%</td>\n",
              "      <td id=\"T_83479_row0_col1\" class=\"data row0 col1\" >18.33%</td>\n",
              "      <td id=\"T_83479_row0_col2\" class=\"data row0 col2\" >19.64%</td>\n",
              "      <td id=\"T_83479_row0_col3\" class=\"data row0 col3\" >23.97%</td>\n",
              "      <td id=\"T_83479_row0_col4\" class=\"data row0 col4\" >sklearn</td>\n",
              "      <td id=\"T_83479_row0_col5\" class=\"data row0 col5\" >False</td>\n",
              "      <td id=\"T_83479_row0_col6\" class=\"data row0 col6\" >False</td>\n",
              "      <td id=\"T_83479_row0_col7\" class=\"data row0 col7\" >RandomForestClassifier</td>\n",
              "      <td id=\"T_83479_row0_col8\" class=\"data row0 col8\" >ML_Risk_Mgmnt</td>\n",
              "      <td id=\"T_83479_row0_col9\" class=\"data row0 col9\" >1</td>\n",
              "    </tr>\n",
              "  </tbody>\n",
              "</table>\n"
            ]
          },
          "metadata": {},
          "execution_count": 15
        }
      ]
    },
    {
      "cell_type": "markdown",
      "metadata": {
        "id": "bwNKs0wP4r5s"
      },
      "source": [
        "## 5. Repeat submission process to improve place on leaderboard\n"
      ]
    },
    {
      "cell_type": "code",
      "metadata": {
        "colab": {
          "base_uri": "https://localhost:8080/"
        },
        "id": "FgSs5PAtPCZH",
        "outputId": "aa31d235-f772-4d6a-f357-fe2734540628"
      },
      "source": [
        "# Train and submit model 2 using same preprocessor (note that you could save a new preprocessor, but we will use the same one for this example).\n",
        "from sklearn.svm import SVC # \"Support vector classifier\"\n",
        "model2 = SVC(kernel='linear', C=100) \n",
        "model2.fit(preprocessor(X_train), y_train_labels)\n",
        "model2.score(preprocessor(X_train), y_train_labels)"
      ],
      "execution_count": 16,
      "outputs": [
        {
          "output_type": "execute_result",
          "data": {
            "text/plain": [
              "0.6650246305418719"
            ]
          },
          "metadata": {},
          "execution_count": 16
        }
      ]
    },
    {
      "cell_type": "code",
      "metadata": {
        "id": "aIdmSpYVPYAw"
      },
      "source": [
        "# Save sklearn model to local ONNX file\n",
        "from aimodelshare.aimsonnx import model_to_onnx\n",
        "\n",
        "# Check how many preprocessed input features there are\n",
        "from skl2onnx.common.data_types import FloatTensorType\n",
        "feature_count=preprocessor(X_test).shape[1] #Gets count of preprocessed features\n",
        "initial_type = [('float_input', FloatTensorType([None, feature_count]))]  # Inserts correct number of features in preprocessed data\n",
        "\n",
        "onnx_model = model_to_onnx(model2, framework='sklearn',\n",
        "                          initial_types=initial_type,\n",
        "                          transfer_learning=False,deep_learning=False)\n",
        "\n",
        "with open(\"model2.onnx\", \"wb\") as f:\n",
        "    f.write(onnx_model.SerializeToString())"
      ],
      "execution_count": 17,
      "outputs": []
    },
    {
      "cell_type": "code",
      "metadata": {
        "colab": {
          "base_uri": "https://localhost:8080/"
        },
        "id": "nszPPrfwPlUk",
        "outputId": "e4a6d3be-1421-4af0-f50f-8c0e2ac6f5f5"
      },
      "source": [
        "#Submit Model 2: \n",
        "\n",
        "#-- Generate predicted values (Model 2)\n",
        "prediction_labels = model2.predict(preprocessor(X_test))\n",
        "\n",
        "# Submit Model 2 to Competition Leaderboard\n",
        "mycompetition.submit_model(model_filepath = \"model2.onnx\",\n",
        "                                 preprocessor_filepath=\"preprocessor.zip\",\n",
        "                                 prediction_submission=prediction_labels)"
      ],
      "execution_count": 18,
      "outputs": [
        {
          "output_type": "stream",
          "name": "stdout",
          "text": [
            "Insert search tags to help users find your model (optional): \n",
            "Provide any useful notes about your model (optional): \n",
            "\n",
            "Your model has been submitted as model version 2\n",
            "\n",
            "To submit code used to create this model or to view current leaderboard navigate to Model Playground: \n",
            "\n",
            " https://www.modelshare.org/detail/model:1756\n"
          ]
        }
      ]
    },
    {
      "cell_type": "code",
      "metadata": {
        "id": "6Go4SF37Ex_Z"
      },
      "source": [
        "# Build a third model using GridSearchCV\n",
        "\n",
        "from sklearn.ensemble import RandomForestClassifier\n",
        "from sklearn.model_selection import GridSearchCV\n",
        "import numpy as np\n",
        "\n",
        "param_grid = {'n_estimators': [150, 300, 500],'max_depth':[1, 3, 5]}\n",
        "\n",
        "gridmodel = GridSearchCV(RandomForestClassifier(), param_grid=param_grid, cv=5)\n",
        "\n",
        "#use meta model methods to fit score and predict model:\n",
        "gridmodel.fit(preprocessor(X_train), y_train_labels)\n",
        "\n",
        "#extract best score and parameter by calling objects \"best_score_\" and \"best_params_\"\n",
        "print(\"best mean cross-validation score: {:.3f}\".format(gridmodel.best_score_))\n",
        "print(\"best parameters: {}\".format(gridmodel.best_params_))\n"
      ],
      "execution_count": null,
      "outputs": []
    },
    {
      "cell_type": "code",
      "metadata": {
        "id": "HvLuIvOjHLH2"
      },
      "source": [
        "# Save sklearn model to local ONNX file\n",
        "from aimodelshare.aimsonnx import model_to_onnx\n",
        "\n",
        "feature_count=preprocessor(X_test).shape[1] #Gets count of preprocessed features\n",
        "initial_type = [('float_input', FloatTensorType([None, feature_count]))]  # Inserts correct number of preprocessed features\n",
        "\n",
        "onnx_model = model_to_onnx(gridmodel, framework='sklearn',\n",
        "                          initial_types=initial_type,\n",
        "                          transfer_learning=False,\n",
        "                          deep_learning=False)\n",
        "\n",
        "with open(\"gridmodel.onnx\", \"wb\") as f:\n",
        "    f.write(onnx_model.SerializeToString())"
      ],
      "execution_count": 21,
      "outputs": []
    },
    {
      "cell_type": "code",
      "metadata": {
        "id": "sMidHABfHVN7",
        "colab": {
          "base_uri": "https://localhost:8080/"
        },
        "outputId": "3a3338e7-2cbe-4df8-d593-3b5fdd8b868d"
      },
      "source": [
        "#Submit Model 3: \n",
        "\n",
        "#-- Generate predicted values\n",
        "prediction_labels = gridmodel.predict(preprocessor(X_test))\n",
        "\n",
        "# Submit to Competition Leaderboard\n",
        "mycompetition.submit_model(model_filepath = \"gridmodel.onnx\",\n",
        "                                 preprocessor_filepath=\"preprocessor.zip\",\n",
        "                                 prediction_submission=prediction_labels)"
      ],
      "execution_count": 22,
      "outputs": [
        {
          "output_type": "stream",
          "name": "stdout",
          "text": [
            "Insert search tags to help users find your model (optional): \n",
            "Provide any useful notes about your model (optional): \n",
            "\n",
            "Your model has been submitted as model version 3\n",
            "\n",
            "To submit code used to create this model or to view current leaderboard navigate to Model Playground: \n",
            "\n",
            " https://www.modelshare.org/detail/model:1756\n"
          ]
        }
      ]
    },
    {
      "cell_type": "code",
      "metadata": {
        "id": "hn-Tp-zpJVGT",
        "colab": {
          "base_uri": "https://localhost:8080/",
          "height": 138
        },
        "outputId": "6fc6acd5-ce39-4bfc-b924-5073f2ad528b"
      },
      "source": [
        "# Get leaderboard\n",
        "\n",
        "data = mycompetition.get_leaderboard()\n",
        "mycompetition.stylize_leaderboard(data)"
      ],
      "execution_count": 23,
      "outputs": [
        {
          "output_type": "execute_result",
          "data": {
            "text/plain": [
              "<pandas.io.formats.style.Styler at 0x7f8453027990>"
            ],
            "text/html": [
              "<style type=\"text/css\">\n",
              "#T_8e942_row0_col0 {\n",
              "  text-align: center;\n",
              "  width: 10em;\n",
              "  height: 80%;\n",
              "  background: linear-gradient(90deg,#f5f8d6 32.0%, transparent 32.0%);\n",
              "  color: #251e1b;\n",
              "  font-size: 12px;\n",
              "}\n",
              "#T_8e942_row0_col1 {\n",
              "  text-align: center;\n",
              "  width: 10em;\n",
              "  height: 80%;\n",
              "  background: linear-gradient(90deg,#c778c8 23.2%, transparent 23.2%);\n",
              "  color: #251e1b;\n",
              "  font-size: 12px;\n",
              "}\n",
              "#T_8e942_row0_col2 {\n",
              "  text-align: center;\n",
              "  width: 10em;\n",
              "  height: 80%;\n",
              "  background: linear-gradient(90deg,#ff4971 28.6%, transparent 28.6%);\n",
              "  color: #251e1b;\n",
              "  font-size: 12px;\n",
              "}\n",
              "#T_8e942_row0_col3 {\n",
              "  text-align: center;\n",
              "  width: 10em;\n",
              "  height: 80%;\n",
              "  background: linear-gradient(90deg,#aadbaa 25.5%, transparent 25.5%);\n",
              "  color: #251e1b;\n",
              "  font-size: 12px;\n",
              "}\n",
              "#T_8e942_row0_col4, #T_8e942_row0_col5, #T_8e942_row0_col6, #T_8e942_row0_col7, #T_8e942_row0_col8, #T_8e942_row0_col9, #T_8e942_row0_col10, #T_8e942_row1_col4, #T_8e942_row1_col5, #T_8e942_row1_col6, #T_8e942_row1_col7, #T_8e942_row1_col8, #T_8e942_row1_col9, #T_8e942_row1_col10, #T_8e942_row2_col4, #T_8e942_row2_col5, #T_8e942_row2_col6, #T_8e942_row2_col7, #T_8e942_row2_col8, #T_8e942_row2_col9, #T_8e942_row2_col10 {\n",
              "  text-align: center;\n",
              "}\n",
              "#T_8e942_row1_col0 {\n",
              "  text-align: center;\n",
              "  width: 10em;\n",
              "  height: 80%;\n",
              "  background: linear-gradient(90deg,#f5f8d6 24.0%, transparent 24.0%);\n",
              "  color: #251e1b;\n",
              "  font-size: 12px;\n",
              "}\n",
              "#T_8e942_row1_col1 {\n",
              "  text-align: center;\n",
              "  width: 10em;\n",
              "  height: 80%;\n",
              "  background: linear-gradient(90deg,#c778c8 18.3%, transparent 18.3%);\n",
              "  color: #251e1b;\n",
              "  font-size: 12px;\n",
              "}\n",
              "#T_8e942_row1_col2 {\n",
              "  text-align: center;\n",
              "  width: 10em;\n",
              "  height: 80%;\n",
              "  background: linear-gradient(90deg,#ff4971 19.6%, transparent 19.6%);\n",
              "  color: #251e1b;\n",
              "  font-size: 12px;\n",
              "}\n",
              "#T_8e942_row1_col3 {\n",
              "  text-align: center;\n",
              "  width: 10em;\n",
              "  height: 80%;\n",
              "  background: linear-gradient(90deg,#aadbaa 24.0%, transparent 24.0%);\n",
              "  color: #251e1b;\n",
              "  font-size: 12px;\n",
              "}\n",
              "#T_8e942_row2_col0 {\n",
              "  text-align: center;\n",
              "  width: 10em;\n",
              "  height: 80%;\n",
              "  background: linear-gradient(90deg,#f5f8d6 18.0%, transparent 18.0%);\n",
              "  color: #251e1b;\n",
              "  font-size: 12px;\n",
              "}\n",
              "#T_8e942_row2_col1 {\n",
              "  text-align: center;\n",
              "  width: 10em;\n",
              "  height: 80%;\n",
              "  background: linear-gradient(90deg,#c778c8 13.6%, transparent 13.6%);\n",
              "  color: #251e1b;\n",
              "  font-size: 12px;\n",
              "}\n",
              "#T_8e942_row2_col2 {\n",
              "  text-align: center;\n",
              "  width: 10em;\n",
              "  height: 80%;\n",
              "  background: linear-gradient(90deg,#ff4971 13.5%, transparent 13.5%);\n",
              "  color: #251e1b;\n",
              "  font-size: 12px;\n",
              "}\n",
              "#T_8e942_row2_col3 {\n",
              "  text-align: center;\n",
              "  width: 10em;\n",
              "  height: 80%;\n",
              "  background: linear-gradient(90deg,#aadbaa 15.8%, transparent 15.8%);\n",
              "  color: #251e1b;\n",
              "  font-size: 12px;\n",
              "}\n",
              "</style>\n",
              "<table id=\"T_8e942_\" class=\"dataframe\">\n",
              "  <thead>\n",
              "    <tr>\n",
              "      <th class=\"blank level0\" >&nbsp;</th>\n",
              "      <th class=\"col_heading level0 col0\" >accuracy</th>\n",
              "      <th class=\"col_heading level0 col1\" >f1_score</th>\n",
              "      <th class=\"col_heading level0 col2\" >precision</th>\n",
              "      <th class=\"col_heading level0 col3\" >recall</th>\n",
              "      <th class=\"col_heading level0 col4\" >ml_framework</th>\n",
              "      <th class=\"col_heading level0 col5\" >transfer_learning</th>\n",
              "      <th class=\"col_heading level0 col6\" >deep_learning</th>\n",
              "      <th class=\"col_heading level0 col7\" >model_type</th>\n",
              "      <th class=\"col_heading level0 col8\" >num_params</th>\n",
              "      <th class=\"col_heading level0 col9\" >username</th>\n",
              "      <th class=\"col_heading level0 col10\" >version</th>\n",
              "    </tr>\n",
              "  </thead>\n",
              "  <tbody>\n",
              "    <tr>\n",
              "      <th id=\"T_8e942_level0_row0\" class=\"row_heading level0 row0\" >0</th>\n",
              "      <td id=\"T_8e942_row0_col0\" class=\"data row0 col0\" >32.00%</td>\n",
              "      <td id=\"T_8e942_row0_col1\" class=\"data row0 col1\" >23.20%</td>\n",
              "      <td id=\"T_8e942_row0_col2\" class=\"data row0 col2\" >28.63%</td>\n",
              "      <td id=\"T_8e942_row0_col3\" class=\"data row0 col3\" >25.46%</td>\n",
              "      <td id=\"T_8e942_row0_col4\" class=\"data row0 col4\" >sklearn</td>\n",
              "      <td id=\"T_8e942_row0_col5\" class=\"data row0 col5\" >False</td>\n",
              "      <td id=\"T_8e942_row0_col6\" class=\"data row0 col6\" >False</td>\n",
              "      <td id=\"T_8e942_row0_col7\" class=\"data row0 col7\" >SVC</td>\n",
              "      <td id=\"T_8e942_row0_col8\" class=\"data row0 col8\" >4080.000000</td>\n",
              "      <td id=\"T_8e942_row0_col9\" class=\"data row0 col9\" >ML_Risk_Mgmnt</td>\n",
              "      <td id=\"T_8e942_row0_col10\" class=\"data row0 col10\" >2</td>\n",
              "    </tr>\n",
              "    <tr>\n",
              "      <th id=\"T_8e942_level0_row1\" class=\"row_heading level0 row1\" >1</th>\n",
              "      <td id=\"T_8e942_row1_col0\" class=\"data row1 col0\" >24.00%</td>\n",
              "      <td id=\"T_8e942_row1_col1\" class=\"data row1 col1\" >18.33%</td>\n",
              "      <td id=\"T_8e942_row1_col2\" class=\"data row1 col2\" >19.64%</td>\n",
              "      <td id=\"T_8e942_row1_col3\" class=\"data row1 col3\" >23.97%</td>\n",
              "      <td id=\"T_8e942_row1_col4\" class=\"data row1 col4\" >sklearn</td>\n",
              "      <td id=\"T_8e942_row1_col5\" class=\"data row1 col5\" >False</td>\n",
              "      <td id=\"T_8e942_row1_col6\" class=\"data row1 col6\" >False</td>\n",
              "      <td id=\"T_8e942_row1_col7\" class=\"data row1 col7\" >RandomForestClassifier</td>\n",
              "      <td id=\"T_8e942_row1_col8\" class=\"data row1 col8\" >nan</td>\n",
              "      <td id=\"T_8e942_row1_col9\" class=\"data row1 col9\" >ML_Risk_Mgmnt</td>\n",
              "      <td id=\"T_8e942_row1_col10\" class=\"data row1 col10\" >1</td>\n",
              "    </tr>\n",
              "    <tr>\n",
              "      <th id=\"T_8e942_level0_row2\" class=\"row_heading level0 row2\" >2</th>\n",
              "      <td id=\"T_8e942_row2_col0\" class=\"data row2 col0\" >18.00%</td>\n",
              "      <td id=\"T_8e942_row2_col1\" class=\"data row2 col1\" >13.63%</td>\n",
              "      <td id=\"T_8e942_row2_col2\" class=\"data row2 col2\" >13.48%</td>\n",
              "      <td id=\"T_8e942_row2_col3\" class=\"data row2 col3\" >15.83%</td>\n",
              "      <td id=\"T_8e942_row2_col4\" class=\"data row2 col4\" >sklearn</td>\n",
              "      <td id=\"T_8e942_row2_col5\" class=\"data row2 col5\" >False</td>\n",
              "      <td id=\"T_8e942_row2_col6\" class=\"data row2 col6\" >False</td>\n",
              "      <td id=\"T_8e942_row2_col7\" class=\"data row2 col7\" >RandomForestClassifier</td>\n",
              "      <td id=\"T_8e942_row2_col8\" class=\"data row2 col8\" >nan</td>\n",
              "      <td id=\"T_8e942_row2_col9\" class=\"data row2 col9\" >ML_Risk_Mgmnt</td>\n",
              "      <td id=\"T_8e942_row2_col10\" class=\"data row2 col10\" >3</td>\n",
              "    </tr>\n",
              "  </tbody>\n",
              "</table>\n"
            ]
          },
          "metadata": {},
          "execution_count": 23
        }
      ]
    },
    {
      "cell_type": "code",
      "metadata": {
        "id": "MKvPKyb7hT0h",
        "colab": {
          "base_uri": "https://localhost:8080/",
          "height": 438
        },
        "outputId": "8c792de1-cf09-470e-e003-aa64bdfe826a"
      },
      "source": [
        "# Compare two or more models\n",
        "data=mycompetition.compare_models([1,3], verbose=1)\n",
        "mycompetition.stylize_compare(data)"
      ],
      "execution_count": 24,
      "outputs": [
        {
          "output_type": "display_data",
          "data": {
            "text/plain": [
              "<IPython.core.display.HTML object>"
            ],
            "text/html": [
              "<style type=\"text/css\">\n",
              "#T_86113_ caption {\n",
              "  color: black;\n",
              "  font-size: 18px;\n",
              "}\n",
              "#T_86113_row4_col2, #T_86113_row4_col3, #T_86113_row13_col2, #T_86113_row13_col3 {\n",
              "  background: tomato;\n",
              "}\n",
              "</style>\n",
              "<table id=\"T_86113_\">\n",
              "  <caption>Model type: RandomForestClassifier</caption>\n",
              "  <thead>\n",
              "    <tr>\n",
              "      <th class=\"blank level0\" >&nbsp;</th>\n",
              "      <th class=\"col_heading level0 col0\" >param_name</th>\n",
              "      <th class=\"col_heading level0 col1\" >default_value</th>\n",
              "      <th class=\"col_heading level0 col2\" >model_version_1</th>\n",
              "      <th class=\"col_heading level0 col3\" >model_version_3</th>\n",
              "    </tr>\n",
              "  </thead>\n",
              "  <tbody>\n",
              "    <tr>\n",
              "      <th id=\"T_86113_level0_row0\" class=\"row_heading level0 row0\" >0</th>\n",
              "      <td id=\"T_86113_row0_col0\" class=\"data row0 col0\" >bootstrap</td>\n",
              "      <td id=\"T_86113_row0_col1\" class=\"data row0 col1\" >True</td>\n",
              "      <td id=\"T_86113_row0_col2\" class=\"data row0 col2\" >True</td>\n",
              "      <td id=\"T_86113_row0_col3\" class=\"data row0 col3\" >True</td>\n",
              "    </tr>\n",
              "    <tr>\n",
              "      <th id=\"T_86113_level0_row1\" class=\"row_heading level0 row1\" >1</th>\n",
              "      <td id=\"T_86113_row1_col0\" class=\"data row1 col0\" >ccp_alpha</td>\n",
              "      <td id=\"T_86113_row1_col1\" class=\"data row1 col1\" >0.000000</td>\n",
              "      <td id=\"T_86113_row1_col2\" class=\"data row1 col2\" >0.000000</td>\n",
              "      <td id=\"T_86113_row1_col3\" class=\"data row1 col3\" >0.000000</td>\n",
              "    </tr>\n",
              "    <tr>\n",
              "      <th id=\"T_86113_level0_row2\" class=\"row_heading level0 row2\" >2</th>\n",
              "      <td id=\"T_86113_row2_col0\" class=\"data row2 col0\" >class_weight</td>\n",
              "      <td id=\"T_86113_row2_col1\" class=\"data row2 col1\" >None</td>\n",
              "      <td id=\"T_86113_row2_col2\" class=\"data row2 col2\" >None</td>\n",
              "      <td id=\"T_86113_row2_col3\" class=\"data row2 col3\" >None</td>\n",
              "    </tr>\n",
              "    <tr>\n",
              "      <th id=\"T_86113_level0_row3\" class=\"row_heading level0 row3\" >3</th>\n",
              "      <td id=\"T_86113_row3_col0\" class=\"data row3 col0\" >criterion</td>\n",
              "      <td id=\"T_86113_row3_col1\" class=\"data row3 col1\" >gini</td>\n",
              "      <td id=\"T_86113_row3_col2\" class=\"data row3 col2\" >gini</td>\n",
              "      <td id=\"T_86113_row3_col3\" class=\"data row3 col3\" >gini</td>\n",
              "    </tr>\n",
              "    <tr>\n",
              "      <th id=\"T_86113_level0_row4\" class=\"row_heading level0 row4\" >4</th>\n",
              "      <td id=\"T_86113_row4_col0\" class=\"data row4 col0\" >max_depth</td>\n",
              "      <td id=\"T_86113_row4_col1\" class=\"data row4 col1\" >None</td>\n",
              "      <td id=\"T_86113_row4_col2\" class=\"data row4 col2\" >3</td>\n",
              "      <td id=\"T_86113_row4_col3\" class=\"data row4 col3\" >5</td>\n",
              "    </tr>\n",
              "    <tr>\n",
              "      <th id=\"T_86113_level0_row5\" class=\"row_heading level0 row5\" >5</th>\n",
              "      <td id=\"T_86113_row5_col0\" class=\"data row5 col0\" >max_features</td>\n",
              "      <td id=\"T_86113_row5_col1\" class=\"data row5 col1\" >auto</td>\n",
              "      <td id=\"T_86113_row5_col2\" class=\"data row5 col2\" >auto</td>\n",
              "      <td id=\"T_86113_row5_col3\" class=\"data row5 col3\" >auto</td>\n",
              "    </tr>\n",
              "    <tr>\n",
              "      <th id=\"T_86113_level0_row6\" class=\"row_heading level0 row6\" >6</th>\n",
              "      <td id=\"T_86113_row6_col0\" class=\"data row6 col0\" >max_leaf_nodes</td>\n",
              "      <td id=\"T_86113_row6_col1\" class=\"data row6 col1\" >None</td>\n",
              "      <td id=\"T_86113_row6_col2\" class=\"data row6 col2\" >None</td>\n",
              "      <td id=\"T_86113_row6_col3\" class=\"data row6 col3\" >None</td>\n",
              "    </tr>\n",
              "    <tr>\n",
              "      <th id=\"T_86113_level0_row7\" class=\"row_heading level0 row7\" >7</th>\n",
              "      <td id=\"T_86113_row7_col0\" class=\"data row7 col0\" >max_samples</td>\n",
              "      <td id=\"T_86113_row7_col1\" class=\"data row7 col1\" >None</td>\n",
              "      <td id=\"T_86113_row7_col2\" class=\"data row7 col2\" >None</td>\n",
              "      <td id=\"T_86113_row7_col3\" class=\"data row7 col3\" >None</td>\n",
              "    </tr>\n",
              "    <tr>\n",
              "      <th id=\"T_86113_level0_row8\" class=\"row_heading level0 row8\" >8</th>\n",
              "      <td id=\"T_86113_row8_col0\" class=\"data row8 col0\" >min_impurity_decrease</td>\n",
              "      <td id=\"T_86113_row8_col1\" class=\"data row8 col1\" >0.000000</td>\n",
              "      <td id=\"T_86113_row8_col2\" class=\"data row8 col2\" >0.000000</td>\n",
              "      <td id=\"T_86113_row8_col3\" class=\"data row8 col3\" >0.000000</td>\n",
              "    </tr>\n",
              "    <tr>\n",
              "      <th id=\"T_86113_level0_row9\" class=\"row_heading level0 row9\" >9</th>\n",
              "      <td id=\"T_86113_row9_col0\" class=\"data row9 col0\" >min_impurity_split</td>\n",
              "      <td id=\"T_86113_row9_col1\" class=\"data row9 col1\" >None</td>\n",
              "      <td id=\"T_86113_row9_col2\" class=\"data row9 col2\" >None</td>\n",
              "      <td id=\"T_86113_row9_col3\" class=\"data row9 col3\" >None</td>\n",
              "    </tr>\n",
              "    <tr>\n",
              "      <th id=\"T_86113_level0_row10\" class=\"row_heading level0 row10\" >10</th>\n",
              "      <td id=\"T_86113_row10_col0\" class=\"data row10 col0\" >min_samples_leaf</td>\n",
              "      <td id=\"T_86113_row10_col1\" class=\"data row10 col1\" >1</td>\n",
              "      <td id=\"T_86113_row10_col2\" class=\"data row10 col2\" >1</td>\n",
              "      <td id=\"T_86113_row10_col3\" class=\"data row10 col3\" >1</td>\n",
              "    </tr>\n",
              "    <tr>\n",
              "      <th id=\"T_86113_level0_row11\" class=\"row_heading level0 row11\" >11</th>\n",
              "      <td id=\"T_86113_row11_col0\" class=\"data row11 col0\" >min_samples_split</td>\n",
              "      <td id=\"T_86113_row11_col1\" class=\"data row11 col1\" >2</td>\n",
              "      <td id=\"T_86113_row11_col2\" class=\"data row11 col2\" >2</td>\n",
              "      <td id=\"T_86113_row11_col3\" class=\"data row11 col3\" >2</td>\n",
              "    </tr>\n",
              "    <tr>\n",
              "      <th id=\"T_86113_level0_row12\" class=\"row_heading level0 row12\" >12</th>\n",
              "      <td id=\"T_86113_row12_col0\" class=\"data row12 col0\" >min_weight_fraction_leaf</td>\n",
              "      <td id=\"T_86113_row12_col1\" class=\"data row12 col1\" >0.000000</td>\n",
              "      <td id=\"T_86113_row12_col2\" class=\"data row12 col2\" >0.000000</td>\n",
              "      <td id=\"T_86113_row12_col3\" class=\"data row12 col3\" >0.000000</td>\n",
              "    </tr>\n",
              "    <tr>\n",
              "      <th id=\"T_86113_level0_row13\" class=\"row_heading level0 row13\" >13</th>\n",
              "      <td id=\"T_86113_row13_col0\" class=\"data row13 col0\" >n_estimators</td>\n",
              "      <td id=\"T_86113_row13_col1\" class=\"data row13 col1\" >100</td>\n",
              "      <td id=\"T_86113_row13_col2\" class=\"data row13 col2\" >200</td>\n",
              "      <td id=\"T_86113_row13_col3\" class=\"data row13 col3\" >300</td>\n",
              "    </tr>\n",
              "    <tr>\n",
              "      <th id=\"T_86113_level0_row14\" class=\"row_heading level0 row14\" >14</th>\n",
              "      <td id=\"T_86113_row14_col0\" class=\"data row14 col0\" >n_jobs</td>\n",
              "      <td id=\"T_86113_row14_col1\" class=\"data row14 col1\" >None</td>\n",
              "      <td id=\"T_86113_row14_col2\" class=\"data row14 col2\" >None</td>\n",
              "      <td id=\"T_86113_row14_col3\" class=\"data row14 col3\" >None</td>\n",
              "    </tr>\n",
              "    <tr>\n",
              "      <th id=\"T_86113_level0_row15\" class=\"row_heading level0 row15\" >15</th>\n",
              "      <td id=\"T_86113_row15_col0\" class=\"data row15 col0\" >oob_score</td>\n",
              "      <td id=\"T_86113_row15_col1\" class=\"data row15 col1\" >False</td>\n",
              "      <td id=\"T_86113_row15_col2\" class=\"data row15 col2\" >False</td>\n",
              "      <td id=\"T_86113_row15_col3\" class=\"data row15 col3\" >False</td>\n",
              "    </tr>\n",
              "    <tr>\n",
              "      <th id=\"T_86113_level0_row16\" class=\"row_heading level0 row16\" >16</th>\n",
              "      <td id=\"T_86113_row16_col0\" class=\"data row16 col0\" >random_state</td>\n",
              "      <td id=\"T_86113_row16_col1\" class=\"data row16 col1\" >None</td>\n",
              "      <td id=\"T_86113_row16_col2\" class=\"data row16 col2\" >None</td>\n",
              "      <td id=\"T_86113_row16_col3\" class=\"data row16 col3\" >None</td>\n",
              "    </tr>\n",
              "    <tr>\n",
              "      <th id=\"T_86113_level0_row17\" class=\"row_heading level0 row17\" >17</th>\n",
              "      <td id=\"T_86113_row17_col0\" class=\"data row17 col0\" >verbose</td>\n",
              "      <td id=\"T_86113_row17_col1\" class=\"data row17 col1\" >0</td>\n",
              "      <td id=\"T_86113_row17_col2\" class=\"data row17 col2\" >0</td>\n",
              "      <td id=\"T_86113_row17_col3\" class=\"data row17 col3\" >0</td>\n",
              "    </tr>\n",
              "    <tr>\n",
              "      <th id=\"T_86113_level0_row18\" class=\"row_heading level0 row18\" >18</th>\n",
              "      <td id=\"T_86113_row18_col0\" class=\"data row18 col0\" >warm_start</td>\n",
              "      <td id=\"T_86113_row18_col1\" class=\"data row18 col1\" >False</td>\n",
              "      <td id=\"T_86113_row18_col2\" class=\"data row18 col2\" >False</td>\n",
              "      <td id=\"T_86113_row18_col3\" class=\"data row18 col3\" >False</td>\n",
              "    </tr>\n",
              "  </tbody>\n",
              "</table>\n"
            ]
          },
          "metadata": {}
        },
        {
          "output_type": "stream",
          "name": "stdout",
          "text": [
            "\n",
            "\n",
            "\n"
          ]
        }
      ]
    },
    {
      "cell_type": "code",
      "metadata": {
        "id": "tukB40NshcaB",
        "colab": {
          "base_uri": "https://localhost:8080/"
        },
        "outputId": "a16266fd-5ccd-4c82-9ddf-1a2f68d64282"
      },
      "source": [
        "# Here are several classic ML architectures you can consider choosing from to experiment with next:\n",
        "from sklearn.neighbors import KNeighborsClassifier\n",
        "from sklearn.svm import SVC\n",
        "from sklearn.ensemble import RandomForestClassifier\n",
        "from sklearn.tree import DecisionTreeRegressor\n",
        "from sklearn.ensemble import BaggingClassifier\n",
        "from sklearn.ensemble import GradientBoostingClassifier\n",
        "\n",
        "#Example code to fit model:\n",
        "model = SVC(kernel='linear', C=1000).fit(preprocessor(X_train), y_train_labels)\n",
        "model.score(preprocessor(X_train), y_train_labels)\n",
        "\n",
        "# Save sklearn model to local ONNX file\n",
        "from aimodelshare.aimsonnx import model_to_onnx\n",
        "\n",
        "feature_count=preprocessor(X_test).shape[1] #Get count of preprocessed features\n",
        "initial_type = [('float_input', FloatTensorType([None, feature_count]))]  # Insert correct number of preprocessed features\n",
        "\n",
        "onnx_model = model_to_onnx(model, framework='sklearn',\n",
        "                          initial_types=initial_type,\n",
        "                          transfer_learning=False,\n",
        "                          deep_learning=False)\n",
        "\n",
        "with open(\"model.onnx\", \"wb\") as f:\n",
        "    f.write(onnx_model.SerializeToString())\n",
        "\n",
        "#-- Generate predicted values (a list of predicted labels)\n",
        "prediction_labels = model.predict(preprocessor(X_test))\n",
        "\n",
        "# Submit model to Competition Leaderboard\n",
        "mycompetition.submit_model(model_filepath = \"model.onnx\",\n",
        "                                 preprocessor_filepath=\"preprocessor.zip\",\n",
        "                                 prediction_submission=prediction_labels)\n"
      ],
      "execution_count": 26,
      "outputs": [
        {
          "output_type": "stream",
          "name": "stdout",
          "text": [
            "Insert search tags to help users find your model (optional): \n",
            "Provide any useful notes about your model (optional): \n",
            "\n",
            "Your model has been submitted as model version 4\n",
            "\n",
            "To submit code used to create this model or to view current leaderboard navigate to Model Playground: \n",
            "\n",
            " https://www.modelshare.org/detail/model:1756\n"
          ]
        }
      ]
    }
  ]
}