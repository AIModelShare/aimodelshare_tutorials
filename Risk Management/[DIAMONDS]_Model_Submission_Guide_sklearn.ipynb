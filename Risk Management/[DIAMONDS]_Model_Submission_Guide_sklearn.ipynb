{
  "nbformat": 4,
  "nbformat_minor": 0,
  "metadata": {
    "colab": {
      "provenance": [],
      "collapsed_sections": []
    },
    "kernelspec": {
      "name": "python3",
      "display_name": "Python 3"
    },
    "language_info": {
      "name": "python"
    }
  },
  "cells": [
    {
      "cell_type": "markdown",
      "source": [
        "<p align=\"center\"><img width=\"50%\" src=\"https://aimodelsharecontent.s3.amazonaws.com/aimodshare_banner.jpg\" /></p>\n",
        "\n",
        "\n",
        "---\n"
      ],
      "metadata": {
        "id": "m_DMeZsXxpEZ"
      }
    },
    {
      "cell_type": "markdown",
      "metadata": {
        "id": "JXxGTgJz152A"
      },
      "source": [
        "<p align=\"center\"><h1 align=\"center\">Diamond Price Prediction Competition </h1>\n",
        "\n",
        "---\n",
        "\n",
        "Let's share our models to a centralized leaderboard, so that we can collaborate and learn from the model experimentation process...\n",
        "\n",
        "**Instructions:**\n",
        "1.   Get data in and set up X_train / X_test / y_train\n",
        "2.   Preprocess data  with Sklearn Column Transformer/ Write and Save Preprocessor function\n",
        "3. Fit model on preprocessed data and save preprocessor function and model \n",
        "4. Generate predictions from X_test data and submit model to competition\n",
        "5. Repeat submission process to improve place on leaderboard\n",
        "\n"
      ]
    },
    {
      "cell_type": "markdown",
      "metadata": {
        "id": "5gSrVJwp3E9H"
      },
      "source": [
        "## 1. Get data in and set up X_train, X_test, y_train objects"
      ]
    },
    {
      "cell_type": "code",
      "metadata": {
        "id": "PLTIaMB3ChSW"
      },
      "source": [
        "#install aimodelshare library\n",
        "! pip install aimodelshare --upgrade"
      ],
      "execution_count": null,
      "outputs": []
    },
    {
      "cell_type": "code",
      "metadata": {
        "colab": {
          "base_uri": "https://localhost:8080/"
        },
        "id": "d3PiJXBhC5y-",
        "outputId": "1378a510-0ce6-4115-dd0e-96d60b8c5ada"
      },
      "source": [
        "# Get competition data\n",
        "from aimodelshare import download_data\n",
        "download_data('public.ecr.aws/y2e2a1d6/diamonds_competition_data-repository:latest') "
      ],
      "execution_count": 4,
      "outputs": [
        {
          "output_type": "stream",
          "name": "stdout",
          "text": [
            "Downloading [=======================================>         ]\n",
            "\n",
            "Data downloaded successfully.\n"
          ]
        }
      ]
    },
    {
      "cell_type": "code",
      "metadata": {
        "colab": {
          "base_uri": "https://localhost:8080/",
          "height": 169
        },
        "id": "jT0qFCZFNzHq",
        "outputId": "c8029cbe-854b-4fe6-8688-66659a4f1c3b"
      },
      "source": [
        "# Separate data into X_train, y_train, and X_test\n",
        "import pandas as pd\n",
        "\n",
        "X_train = pd.read_csv(\"diamonds_competition_data/X_train.csv\")\n",
        "y_train = pd.read_csv(\"diamonds_competition_data/y_train.csv\", squeeze = True)\n",
        "\n",
        "X_test=pd.read_csv(\"diamonds_competition_data/X_test.csv\")\n",
        "\n",
        "X_train.head()"
      ],
      "execution_count": 5,
      "outputs": [
        {
          "output_type": "execute_result",
          "data": {
            "text/plain": [
              "   carat      cut color clarity  depth  table     x     y     z\n",
              "0   0.90     Good     E     SI2   64.1   57.0  6.07  6.09  3.90\n",
              "1   1.54  Premium     G     VS2   61.1   59.0  7.44  7.40  4.53\n",
              "2   0.52    Ideal     D     SI1   62.4   56.0  5.17  5.12  3.21\n",
              "3   0.85    Ideal     E     SI1   63.0   56.0  6.00  6.04  3.79\n",
              "4   0.35    Ideal     D     VS2   60.9   57.0  4.55  4.51  2.76"
            ],
            "text/html": [
              "\n",
              "  <div id=\"df-49cc676d-1632-4035-a4ba-6a417e6853ce\">\n",
              "    <div class=\"colab-df-container\">\n",
              "      <div>\n",
              "<style scoped>\n",
              "    .dataframe tbody tr th:only-of-type {\n",
              "        vertical-align: middle;\n",
              "    }\n",
              "\n",
              "    .dataframe tbody tr th {\n",
              "        vertical-align: top;\n",
              "    }\n",
              "\n",
              "    .dataframe thead th {\n",
              "        text-align: right;\n",
              "    }\n",
              "</style>\n",
              "<table border=\"1\" class=\"dataframe\">\n",
              "  <thead>\n",
              "    <tr style=\"text-align: right;\">\n",
              "      <th></th>\n",
              "      <th>carat</th>\n",
              "      <th>cut</th>\n",
              "      <th>color</th>\n",
              "      <th>clarity</th>\n",
              "      <th>depth</th>\n",
              "      <th>table</th>\n",
              "      <th>x</th>\n",
              "      <th>y</th>\n",
              "      <th>z</th>\n",
              "    </tr>\n",
              "  </thead>\n",
              "  <tbody>\n",
              "    <tr>\n",
              "      <th>0</th>\n",
              "      <td>0.90</td>\n",
              "      <td>Good</td>\n",
              "      <td>E</td>\n",
              "      <td>SI2</td>\n",
              "      <td>64.1</td>\n",
              "      <td>57.0</td>\n",
              "      <td>6.07</td>\n",
              "      <td>6.09</td>\n",
              "      <td>3.90</td>\n",
              "    </tr>\n",
              "    <tr>\n",
              "      <th>1</th>\n",
              "      <td>1.54</td>\n",
              "      <td>Premium</td>\n",
              "      <td>G</td>\n",
              "      <td>VS2</td>\n",
              "      <td>61.1</td>\n",
              "      <td>59.0</td>\n",
              "      <td>7.44</td>\n",
              "      <td>7.40</td>\n",
              "      <td>4.53</td>\n",
              "    </tr>\n",
              "    <tr>\n",
              "      <th>2</th>\n",
              "      <td>0.52</td>\n",
              "      <td>Ideal</td>\n",
              "      <td>D</td>\n",
              "      <td>SI1</td>\n",
              "      <td>62.4</td>\n",
              "      <td>56.0</td>\n",
              "      <td>5.17</td>\n",
              "      <td>5.12</td>\n",
              "      <td>3.21</td>\n",
              "    </tr>\n",
              "    <tr>\n",
              "      <th>3</th>\n",
              "      <td>0.85</td>\n",
              "      <td>Ideal</td>\n",
              "      <td>E</td>\n",
              "      <td>SI1</td>\n",
              "      <td>63.0</td>\n",
              "      <td>56.0</td>\n",
              "      <td>6.00</td>\n",
              "      <td>6.04</td>\n",
              "      <td>3.79</td>\n",
              "    </tr>\n",
              "    <tr>\n",
              "      <th>4</th>\n",
              "      <td>0.35</td>\n",
              "      <td>Ideal</td>\n",
              "      <td>D</td>\n",
              "      <td>VS2</td>\n",
              "      <td>60.9</td>\n",
              "      <td>57.0</td>\n",
              "      <td>4.55</td>\n",
              "      <td>4.51</td>\n",
              "      <td>2.76</td>\n",
              "    </tr>\n",
              "  </tbody>\n",
              "</table>\n",
              "</div>\n",
              "      <button class=\"colab-df-convert\" onclick=\"convertToInteractive('df-49cc676d-1632-4035-a4ba-6a417e6853ce')\"\n",
              "              title=\"Convert this dataframe to an interactive table.\"\n",
              "              style=\"display:none;\">\n",
              "        \n",
              "  <svg xmlns=\"http://www.w3.org/2000/svg\" height=\"24px\"viewBox=\"0 0 24 24\"\n",
              "       width=\"24px\">\n",
              "    <path d=\"M0 0h24v24H0V0z\" fill=\"none\"/>\n",
              "    <path d=\"M18.56 5.44l.94 2.06.94-2.06 2.06-.94-2.06-.94-.94-2.06-.94 2.06-2.06.94zm-11 1L8.5 8.5l.94-2.06 2.06-.94-2.06-.94L8.5 2.5l-.94 2.06-2.06.94zm10 10l.94 2.06.94-2.06 2.06-.94-2.06-.94-.94-2.06-.94 2.06-2.06.94z\"/><path d=\"M17.41 7.96l-1.37-1.37c-.4-.4-.92-.59-1.43-.59-.52 0-1.04.2-1.43.59L10.3 9.45l-7.72 7.72c-.78.78-.78 2.05 0 2.83L4 21.41c.39.39.9.59 1.41.59.51 0 1.02-.2 1.41-.59l7.78-7.78 2.81-2.81c.8-.78.8-2.07 0-2.86zM5.41 20L4 18.59l7.72-7.72 1.47 1.35L5.41 20z\"/>\n",
              "  </svg>\n",
              "      </button>\n",
              "      \n",
              "  <style>\n",
              "    .colab-df-container {\n",
              "      display:flex;\n",
              "      flex-wrap:wrap;\n",
              "      gap: 12px;\n",
              "    }\n",
              "\n",
              "    .colab-df-convert {\n",
              "      background-color: #E8F0FE;\n",
              "      border: none;\n",
              "      border-radius: 50%;\n",
              "      cursor: pointer;\n",
              "      display: none;\n",
              "      fill: #1967D2;\n",
              "      height: 32px;\n",
              "      padding: 0 0 0 0;\n",
              "      width: 32px;\n",
              "    }\n",
              "\n",
              "    .colab-df-convert:hover {\n",
              "      background-color: #E2EBFA;\n",
              "      box-shadow: 0px 1px 2px rgba(60, 64, 67, 0.3), 0px 1px 3px 1px rgba(60, 64, 67, 0.15);\n",
              "      fill: #174EA6;\n",
              "    }\n",
              "\n",
              "    [theme=dark] .colab-df-convert {\n",
              "      background-color: #3B4455;\n",
              "      fill: #D2E3FC;\n",
              "    }\n",
              "\n",
              "    [theme=dark] .colab-df-convert:hover {\n",
              "      background-color: #434B5C;\n",
              "      box-shadow: 0px 1px 3px 1px rgba(0, 0, 0, 0.15);\n",
              "      filter: drop-shadow(0px 1px 2px rgba(0, 0, 0, 0.3));\n",
              "      fill: #FFFFFF;\n",
              "    }\n",
              "  </style>\n",
              "\n",
              "      <script>\n",
              "        const buttonEl =\n",
              "          document.querySelector('#df-49cc676d-1632-4035-a4ba-6a417e6853ce button.colab-df-convert');\n",
              "        buttonEl.style.display =\n",
              "          google.colab.kernel.accessAllowed ? 'block' : 'none';\n",
              "\n",
              "        async function convertToInteractive(key) {\n",
              "          const element = document.querySelector('#df-49cc676d-1632-4035-a4ba-6a417e6853ce');\n",
              "          const dataTable =\n",
              "            await google.colab.kernel.invokeFunction('convertToInteractive',\n",
              "                                                     [key], {});\n",
              "          if (!dataTable) return;\n",
              "\n",
              "          const docLinkHtml = 'Like what you see? Visit the ' +\n",
              "            '<a target=\"_blank\" href=https://colab.research.google.com/notebooks/data_table.ipynb>data table notebook</a>'\n",
              "            + ' to learn more about interactive tables.';\n",
              "          element.innerHTML = '';\n",
              "          dataTable['output_type'] = 'display_data';\n",
              "          await google.colab.output.renderOutput(dataTable, element);\n",
              "          const docLink = document.createElement('div');\n",
              "          docLink.innerHTML = docLinkHtml;\n",
              "          element.appendChild(docLink);\n",
              "        }\n",
              "      </script>\n",
              "    </div>\n",
              "  </div>\n",
              "  "
            ]
          },
          "metadata": {},
          "execution_count": 5
        }
      ]
    },
    {
      "cell_type": "markdown",
      "metadata": {
        "id": "gEzPoXPj3V7u"
      },
      "source": [
        "##2.   Preprocess data using Sklearn Column Transformer / Write and Save Preprocessor function\n"
      ]
    },
    {
      "cell_type": "code",
      "metadata": {
        "id": "A2BQMOPGCqra"
      },
      "source": [
        "# Simple Preprocessor with sklearn \n",
        "from sklearn.preprocessing import StandardScaler, OneHotEncoder\n",
        "from sklearn.compose import ColumnTransformer\n",
        "from sklearn.pipeline import Pipeline\n",
        "from sklearn.impute import SimpleImputer\n",
        "\n",
        "numeric_features = ['carat', 'depth', 'table', 'x', 'y', 'z']\n",
        "numeric_transformer = Pipeline(steps=[\n",
        "    ('imputer', SimpleImputer(strategy='median')), \n",
        "    ('scaler', StandardScaler())])\n",
        "\n",
        "categorical_features = ['cut', 'color', 'clarity']\n",
        "\n",
        "# Replacing missing values with Modal value and then one-hot encoding.\n",
        "categorical_transformer = Pipeline(steps=[\n",
        "    ('imputer', SimpleImputer(strategy='most_frequent')),\n",
        "    ('onehot', OneHotEncoder(handle_unknown='ignore'))])\n",
        "\n",
        "# Final preprocessor object set up with ColumnTransformer...\n",
        "\n",
        "preprocess = ColumnTransformer(\n",
        "    transformers=[\n",
        "        ('num', numeric_transformer, numeric_features),\n",
        "        ('cat', categorical_transformer, categorical_features)])\n",
        "\n",
        "# fit preprocessor to your data\n",
        "preprocess = preprocess.fit(X_train)"
      ],
      "execution_count": 6,
      "outputs": []
    },
    {
      "cell_type": "code",
      "metadata": {
        "id": "16QV9Y9TC3B3"
      },
      "source": [
        "# Write function to transform data with preprocessor \n",
        "# In this case we use sklearn's Column transformer in our preprocessor function\n",
        "\n",
        "def preprocessor(data):\n",
        "    preprocessed_data=preprocess.transform(data)\n",
        "    return preprocessed_data"
      ],
      "execution_count": 7,
      "outputs": []
    },
    {
      "cell_type": "code",
      "source": [
        "# check shape of X data \n",
        "preprocessor(X_train).shape"
      ],
      "metadata": {
        "colab": {
          "base_uri": "https://localhost:8080/"
        },
        "id": "3FKeaMZK88Xt",
        "outputId": "171ae88f-684f-4e32-9feb-f3a0aa0c2e60"
      },
      "execution_count": 8,
      "outputs": [
        {
          "output_type": "execute_result",
          "data": {
            "text/plain": [
              "(43152, 26)"
            ]
          },
          "metadata": {},
          "execution_count": 8
        }
      ]
    },
    {
      "cell_type": "markdown",
      "metadata": {
        "id": "X52kECL43b-O"
      },
      "source": [
        "##3. Fit model on preprocessed data and save preprocessor function and model \n"
      ]
    },
    {
      "cell_type": "code",
      "metadata": {
        "colab": {
          "base_uri": "https://localhost:8080/"
        },
        "id": "NCbBf8j9ClYl",
        "outputId": "187ac416-abfb-40a7-88d7-5f236a4f6aa8"
      },
      "source": [
        "from sklearn.ensemble import RandomForestRegressor\n",
        "from sklearn.metrics import r2_score\n",
        "\n",
        "model = RandomForestRegressor(n_estimators = 500, max_depth = 3, random_state=0)\n",
        "model.fit(preprocessor(X_train), y_train) # Fitting to the training set.\n",
        "model_predictions = model.predict(preprocessor(X_train))\n",
        "r2_score(model_predictions, y_train)"
      ],
      "execution_count": 9,
      "outputs": [
        {
          "output_type": "execute_result",
          "data": {
            "text/plain": [
              "0.8570772067210946"
            ]
          },
          "metadata": {},
          "execution_count": 9
        }
      ]
    },
    {
      "cell_type": "markdown",
      "metadata": {
        "id": "zmJAnmO-5AcU"
      },
      "source": [
        "#### Save preprocessor function to local \"preprocessor.zip\" file"
      ]
    },
    {
      "cell_type": "code",
      "metadata": {
        "colab": {
          "base_uri": "https://localhost:8080/"
        },
        "id": "4VGacc0LDaMA",
        "outputId": "0d862212-82e7-4aa7-c7e4-83baeacaaffa"
      },
      "source": [
        "import aimodelshare as ai\n",
        "ai.export_preprocessor(preprocessor,\"\") "
      ],
      "execution_count": 10,
      "outputs": [
        {
          "output_type": "stream",
          "name": "stdout",
          "text": [
            "Your preprocessor is now saved to 'preprocessor.zip'\n"
          ]
        }
      ]
    },
    {
      "cell_type": "markdown",
      "metadata": {
        "id": "oOWBa8Cv5LdL"
      },
      "source": [
        "#### Save model to local \".onnx\" file"
      ]
    },
    {
      "cell_type": "code",
      "metadata": {
        "id": "pEhvnRiQDlY5"
      },
      "source": [
        "# Save sklearn model to local ONNX file\n",
        "from aimodelshare.aimsonnx import model_to_onnx\n",
        "\n",
        "# Check how many preprocessed input features there are\n",
        "from skl2onnx.common.data_types import FloatTensorType\n",
        "\n",
        "feature_count=preprocessor(X_test).shape[1]\n",
        "initial_type = [('float_input', FloatTensorType([None, feature_count]))]  # Insert correct number of features in preprocessed data\n",
        "\n",
        "onnx_model = model_to_onnx(model, framework='sklearn',\n",
        "                          initial_types=initial_type,\n",
        "                          transfer_learning=False,\n",
        "                          deep_learning=False)\n",
        "\n",
        "\n",
        "with open(\"model.onnx\", \"wb\") as f:\n",
        "    f.write(onnx_model.SerializeToString())"
      ],
      "execution_count": 11,
      "outputs": []
    },
    {
      "cell_type": "markdown",
      "metadata": {
        "id": "gHWkAzvX3m8O"
      },
      "source": [
        "## 4. Generate predictions from X_test data and submit model to competition\n"
      ]
    },
    {
      "cell_type": "code",
      "metadata": {
        "colab": {
          "base_uri": "https://localhost:8080/"
        },
        "id": "RtgkM02MDpkO",
        "outputId": "60d32d76-3684-49ae-fb9d-d7086884a91c"
      },
      "source": [
        "#Set credentials using modelshare.org username/password\n",
        "\n",
        "from aimodelshare.aws import set_credentials\n",
        "    \n",
        "apiurl=\"https://csyks5i22a.execute-api.us-east-1.amazonaws.com/prod/m\" #This is the unique rest api that powers this Diamond Price Prediction Playground\n",
        "\n",
        "set_credentials(apiurl=apiurl)"
      ],
      "execution_count": 12,
      "outputs": [
        {
          "output_type": "stream",
          "name": "stdout",
          "text": [
            "AI Modelshare Username:··········\n",
            "AI Modelshare Password:··········\n",
            "AI Model Share login credentials set successfully.\n"
          ]
        }
      ]
    },
    {
      "cell_type": "code",
      "metadata": {
        "id": "fKNGSww8EGgi"
      },
      "source": [
        "#Instantiate Competition\n",
        "import aimodelshare as ai\n",
        "mycompetition= ai.Competition(apiurl)"
      ],
      "execution_count": 13,
      "outputs": []
    },
    {
      "cell_type": "code",
      "metadata": {
        "id": "_Ql4wksyEUnP",
        "colab": {
          "base_uri": "https://localhost:8080/"
        },
        "outputId": "38ed6031-8134-4e7a-ad4c-fd5abc47dd62"
      },
      "source": [
        "#Submit Model 1: \n",
        "\n",
        "#-- Generate predicted values (a list of predicted diamond prices) (Model 1)\n",
        "predicted_values = model.predict(preprocessor(X_test))\n",
        "\n",
        "# Submit Model 1 to Competition Leaderboard\n",
        "mycompetition.submit_model(model_filepath = \"model.onnx\",\n",
        "                                 preprocessor_filepath=\"preprocessor.zip\",\n",
        "                                 prediction_submission=predicted_values)"
      ],
      "execution_count": 14,
      "outputs": [
        {
          "output_type": "stream",
          "name": "stdout",
          "text": [
            "Insert search tags to help users find your model (optional): \n",
            "Provide any useful notes about your model (optional): \n",
            "\n",
            "Your model has been submitted as model version 1\n",
            "\n",
            "To submit code used to create this model or to view current leaderboard navigate to Model Playground: \n",
            "\n",
            " https://www.modelshare.org/detail/model:1747\n"
          ]
        }
      ]
    },
    {
      "cell_type": "code",
      "metadata": {
        "colab": {
          "base_uri": "https://localhost:8080/",
          "height": 68
        },
        "id": "GN1zvAmNEq17",
        "outputId": "ea8f4d5e-dfb5-4016-85cc-7936a60e909a"
      },
      "source": [
        "# Get leaderboard to explore current best model architectures\n",
        "\n",
        "# Get raw data in pandas data frame\n",
        "data = mycompetition.get_leaderboard()\n",
        "\n",
        "# Stylize leaderboard data\n",
        "mycompetition.stylize_leaderboard(data)"
      ],
      "execution_count": 15,
      "outputs": [
        {
          "output_type": "execute_result",
          "data": {
            "text/plain": [
              "<pandas.io.formats.style.Styler at 0x7ff4a7e0cf90>"
            ],
            "text/html": [
              "<style type=\"text/css\">\n",
              "#T_6c301_row0_col0 {\n",
              "  text-align: center;\n",
              "  width: 10em;\n",
              "  height: 80%;\n",
              "  background: linear-gradient(90deg,#f5f8d6 100.0%, transparent 100.0%);\n",
              "  color: #251e1b;\n",
              "  font-size: 12px;\n",
              "}\n",
              "#T_6c301_row0_col1 {\n",
              "  text-align: center;\n",
              "  width: 10em;\n",
              "  height: 80%;\n",
              "  background: linear-gradient(90deg,#c778c8 100.0%, transparent 100.0%);\n",
              "  color: #251e1b;\n",
              "  font-size: 12px;\n",
              "}\n",
              "#T_6c301_row0_col2 {\n",
              "  text-align: center;\n",
              "  width: 10em;\n",
              "  height: 80%;\n",
              "  background: linear-gradient(90deg,#ff4971 100.0%, transparent 100.0%);\n",
              "  color: #251e1b;\n",
              "  font-size: 12px;\n",
              "}\n",
              "#T_6c301_row0_col3 {\n",
              "  text-align: center;\n",
              "  width: 10em;\n",
              "  height: 80%;\n",
              "  background: linear-gradient(90deg,#aadbaa 100.0%, transparent 100.0%);\n",
              "  color: #251e1b;\n",
              "  font-size: 12px;\n",
              "}\n",
              "#T_6c301_row0_col4, #T_6c301_row0_col5, #T_6c301_row0_col6, #T_6c301_row0_col7, #T_6c301_row0_col8, #T_6c301_row0_col9 {\n",
              "  text-align: center;\n",
              "}\n",
              "</style>\n",
              "<table id=\"T_6c301_\" class=\"dataframe\">\n",
              "  <thead>\n",
              "    <tr>\n",
              "      <th class=\"blank level0\" >&nbsp;</th>\n",
              "      <th class=\"col_heading level0 col0\" >mse</th>\n",
              "      <th class=\"col_heading level0 col1\" >rmse</th>\n",
              "      <th class=\"col_heading level0 col2\" >mae</th>\n",
              "      <th class=\"col_heading level0 col3\" >r2</th>\n",
              "      <th class=\"col_heading level0 col4\" >ml_framework</th>\n",
              "      <th class=\"col_heading level0 col5\" >transfer_learning</th>\n",
              "      <th class=\"col_heading level0 col6\" >deep_learning</th>\n",
              "      <th class=\"col_heading level0 col7\" >model_type</th>\n",
              "      <th class=\"col_heading level0 col8\" >username</th>\n",
              "      <th class=\"col_heading level0 col9\" >version</th>\n",
              "    </tr>\n",
              "  </thead>\n",
              "  <tbody>\n",
              "    <tr>\n",
              "      <th id=\"T_6c301_level0_row0\" class=\"row_heading level0 row0\" >0</th>\n",
              "      <td id=\"T_6c301_row0_col0\" class=\"data row0 col0\" >1895117.90</td>\n",
              "      <td id=\"T_6c301_row0_col1\" class=\"data row0 col1\" >1376.63</td>\n",
              "      <td id=\"T_6c301_row0_col2\" class=\"data row0 col2\" >777.73</td>\n",
              "      <td id=\"T_6c301_row0_col3\" class=\"data row0 col3\" >0.88</td>\n",
              "      <td id=\"T_6c301_row0_col4\" class=\"data row0 col4\" >sklearn</td>\n",
              "      <td id=\"T_6c301_row0_col5\" class=\"data row0 col5\" >False</td>\n",
              "      <td id=\"T_6c301_row0_col6\" class=\"data row0 col6\" >False</td>\n",
              "      <td id=\"T_6c301_row0_col7\" class=\"data row0 col7\" >RandomForestRegressor</td>\n",
              "      <td id=\"T_6c301_row0_col8\" class=\"data row0 col8\" >ML_Risk_Mgmnt</td>\n",
              "      <td id=\"T_6c301_row0_col9\" class=\"data row0 col9\" >1</td>\n",
              "    </tr>\n",
              "  </tbody>\n",
              "</table>\n"
            ]
          },
          "metadata": {},
          "execution_count": 15
        }
      ]
    },
    {
      "cell_type": "markdown",
      "metadata": {
        "id": "bwNKs0wP4r5s"
      },
      "source": [
        "## 5. Repeat submission process to improve place on leaderboard\n"
      ]
    },
    {
      "cell_type": "code",
      "metadata": {
        "colab": {
          "base_uri": "https://localhost:8080/"
        },
        "id": "FgSs5PAtPCZH",
        "outputId": "b78da63b-bc79-4d50-bafb-e26361a6db6b"
      },
      "source": [
        "# Create model 2 \n",
        "from sklearn.ensemble import RandomForestRegressor\n",
        "from sklearn.metrics import r2_score\n",
        "\n",
        "model_2 = RandomForestRegressor(n_estimators = 300, max_depth = 2, random_state=0)\n",
        "model_2.fit(preprocessor(X_train), y_train) # Fitting to the training set.\n",
        "model_predictions = model_2.predict(preprocessor(X_train))\n",
        "r2_score(model_predictions, y_train) "
      ],
      "execution_count": 16,
      "outputs": [
        {
          "output_type": "execute_result",
          "data": {
            "text/plain": [
              "0.7944122317100049"
            ]
          },
          "metadata": {},
          "execution_count": 16
        }
      ]
    },
    {
      "cell_type": "code",
      "metadata": {
        "id": "aIdmSpYVPYAw"
      },
      "source": [
        "# Save Model 2 to .onnx file\n",
        "\n",
        "# Check how many preprocessed input features there are\n",
        "from skl2onnx.common.data_types import FloatTensorType\n",
        "\n",
        "feature_count=preprocessor(X_test).shape[1]\n",
        "initial_type = [('float_input', FloatTensorType([None, feature_count]))]  # Insert correct number of features in preprocessed data\n",
        "\n",
        "onnx_model = model_to_onnx(model_2, framework='sklearn',\n",
        "                          initial_types=initial_type,\n",
        "                          transfer_learning=False,\n",
        "                          deep_learning=False)\n",
        "\n",
        "# Save model to local .onnx file\n",
        "with open(\"model_2.onnx\", \"wb\") as f:\n",
        "    f.write(onnx_model.SerializeToString()) "
      ],
      "execution_count": 17,
      "outputs": []
    },
    {
      "cell_type": "code",
      "metadata": {
        "colab": {
          "base_uri": "https://localhost:8080/"
        },
        "id": "nszPPrfwPlUk",
        "outputId": "dac2a2ff-a000-45a9-b93f-e289c188868b"
      },
      "source": [
        "# Submit Model 2\n",
        "\n",
        "#-- Generate predicted y values (Model 2)\n",
        "prediction_labels = model_2.predict(preprocessor(X_test))\n",
        "\n",
        "# Submit Model 2 to Competition Leaderboard\n",
        "mycompetition.submit_model(model_filepath = \"model_2.onnx\",\n",
        "                                 prediction_submission=prediction_labels,\n",
        "                                 preprocessor_filepath=\"preprocessor.zip\")"
      ],
      "execution_count": 18,
      "outputs": [
        {
          "output_type": "stream",
          "name": "stdout",
          "text": [
            "Insert search tags to help users find your model (optional): \n",
            "Provide any useful notes about your model (optional): \n",
            "\n",
            "Your model has been submitted as model version 2\n",
            "\n",
            "To submit code used to create this model or to view current leaderboard navigate to Model Playground: \n",
            "\n",
            " https://www.modelshare.org/detail/model:1747\n"
          ]
        }
      ]
    },
    {
      "cell_type": "code",
      "metadata": {
        "colab": {
          "base_uri": "https://localhost:8080/",
          "height": 421
        },
        "id": "qLl7yLpVEx26",
        "outputId": "88c7fedf-48ee-471d-94d0-1ce66818ec96"
      },
      "source": [
        "# Compare two or more models\n",
        "data=mycompetition.compare_models([1,2], verbose=1)\n",
        "mycompetition.stylize_compare(data)"
      ],
      "execution_count": 19,
      "outputs": [
        {
          "output_type": "display_data",
          "data": {
            "text/plain": [
              "<IPython.core.display.HTML object>"
            ],
            "text/html": [
              "<style type=\"text/css\">\n",
              "#T_7e16a_ caption {\n",
              "  color: black;\n",
              "  font-size: 18px;\n",
              "}\n",
              "#T_7e16a_row3_col2, #T_7e16a_row3_col3, #T_7e16a_row12_col2, #T_7e16a_row12_col3, #T_7e16a_row15_col2, #T_7e16a_row15_col3 {\n",
              "  background: tomato;\n",
              "}\n",
              "</style>\n",
              "<table id=\"T_7e16a_\">\n",
              "  <caption>Model type: RandomForestRegressor</caption>\n",
              "  <thead>\n",
              "    <tr>\n",
              "      <th class=\"blank level0\" >&nbsp;</th>\n",
              "      <th class=\"col_heading level0 col0\" >param_name</th>\n",
              "      <th class=\"col_heading level0 col1\" >default_value</th>\n",
              "      <th class=\"col_heading level0 col2\" >model_version_1</th>\n",
              "      <th class=\"col_heading level0 col3\" >model_version_2</th>\n",
              "    </tr>\n",
              "  </thead>\n",
              "  <tbody>\n",
              "    <tr>\n",
              "      <th id=\"T_7e16a_level0_row0\" class=\"row_heading level0 row0\" >0</th>\n",
              "      <td id=\"T_7e16a_row0_col0\" class=\"data row0 col0\" >bootstrap</td>\n",
              "      <td id=\"T_7e16a_row0_col1\" class=\"data row0 col1\" >True</td>\n",
              "      <td id=\"T_7e16a_row0_col2\" class=\"data row0 col2\" >True</td>\n",
              "      <td id=\"T_7e16a_row0_col3\" class=\"data row0 col3\" >True</td>\n",
              "    </tr>\n",
              "    <tr>\n",
              "      <th id=\"T_7e16a_level0_row1\" class=\"row_heading level0 row1\" >1</th>\n",
              "      <td id=\"T_7e16a_row1_col0\" class=\"data row1 col0\" >ccp_alpha</td>\n",
              "      <td id=\"T_7e16a_row1_col1\" class=\"data row1 col1\" >0.000000</td>\n",
              "      <td id=\"T_7e16a_row1_col2\" class=\"data row1 col2\" >0.000000</td>\n",
              "      <td id=\"T_7e16a_row1_col3\" class=\"data row1 col3\" >0.000000</td>\n",
              "    </tr>\n",
              "    <tr>\n",
              "      <th id=\"T_7e16a_level0_row2\" class=\"row_heading level0 row2\" >2</th>\n",
              "      <td id=\"T_7e16a_row2_col0\" class=\"data row2 col0\" >criterion</td>\n",
              "      <td id=\"T_7e16a_row2_col1\" class=\"data row2 col1\" >mse</td>\n",
              "      <td id=\"T_7e16a_row2_col2\" class=\"data row2 col2\" >mse</td>\n",
              "      <td id=\"T_7e16a_row2_col3\" class=\"data row2 col3\" >mse</td>\n",
              "    </tr>\n",
              "    <tr>\n",
              "      <th id=\"T_7e16a_level0_row3\" class=\"row_heading level0 row3\" >3</th>\n",
              "      <td id=\"T_7e16a_row3_col0\" class=\"data row3 col0\" >max_depth</td>\n",
              "      <td id=\"T_7e16a_row3_col1\" class=\"data row3 col1\" >None</td>\n",
              "      <td id=\"T_7e16a_row3_col2\" class=\"data row3 col2\" >3</td>\n",
              "      <td id=\"T_7e16a_row3_col3\" class=\"data row3 col3\" >2</td>\n",
              "    </tr>\n",
              "    <tr>\n",
              "      <th id=\"T_7e16a_level0_row4\" class=\"row_heading level0 row4\" >4</th>\n",
              "      <td id=\"T_7e16a_row4_col0\" class=\"data row4 col0\" >max_features</td>\n",
              "      <td id=\"T_7e16a_row4_col1\" class=\"data row4 col1\" >auto</td>\n",
              "      <td id=\"T_7e16a_row4_col2\" class=\"data row4 col2\" >auto</td>\n",
              "      <td id=\"T_7e16a_row4_col3\" class=\"data row4 col3\" >auto</td>\n",
              "    </tr>\n",
              "    <tr>\n",
              "      <th id=\"T_7e16a_level0_row5\" class=\"row_heading level0 row5\" >5</th>\n",
              "      <td id=\"T_7e16a_row5_col0\" class=\"data row5 col0\" >max_leaf_nodes</td>\n",
              "      <td id=\"T_7e16a_row5_col1\" class=\"data row5 col1\" >None</td>\n",
              "      <td id=\"T_7e16a_row5_col2\" class=\"data row5 col2\" >None</td>\n",
              "      <td id=\"T_7e16a_row5_col3\" class=\"data row5 col3\" >None</td>\n",
              "    </tr>\n",
              "    <tr>\n",
              "      <th id=\"T_7e16a_level0_row6\" class=\"row_heading level0 row6\" >6</th>\n",
              "      <td id=\"T_7e16a_row6_col0\" class=\"data row6 col0\" >max_samples</td>\n",
              "      <td id=\"T_7e16a_row6_col1\" class=\"data row6 col1\" >None</td>\n",
              "      <td id=\"T_7e16a_row6_col2\" class=\"data row6 col2\" >None</td>\n",
              "      <td id=\"T_7e16a_row6_col3\" class=\"data row6 col3\" >None</td>\n",
              "    </tr>\n",
              "    <tr>\n",
              "      <th id=\"T_7e16a_level0_row7\" class=\"row_heading level0 row7\" >7</th>\n",
              "      <td id=\"T_7e16a_row7_col0\" class=\"data row7 col0\" >min_impurity_decrease</td>\n",
              "      <td id=\"T_7e16a_row7_col1\" class=\"data row7 col1\" >0.000000</td>\n",
              "      <td id=\"T_7e16a_row7_col2\" class=\"data row7 col2\" >0.000000</td>\n",
              "      <td id=\"T_7e16a_row7_col3\" class=\"data row7 col3\" >0.000000</td>\n",
              "    </tr>\n",
              "    <tr>\n",
              "      <th id=\"T_7e16a_level0_row8\" class=\"row_heading level0 row8\" >8</th>\n",
              "      <td id=\"T_7e16a_row8_col0\" class=\"data row8 col0\" >min_impurity_split</td>\n",
              "      <td id=\"T_7e16a_row8_col1\" class=\"data row8 col1\" >None</td>\n",
              "      <td id=\"T_7e16a_row8_col2\" class=\"data row8 col2\" >None</td>\n",
              "      <td id=\"T_7e16a_row8_col3\" class=\"data row8 col3\" >None</td>\n",
              "    </tr>\n",
              "    <tr>\n",
              "      <th id=\"T_7e16a_level0_row9\" class=\"row_heading level0 row9\" >9</th>\n",
              "      <td id=\"T_7e16a_row9_col0\" class=\"data row9 col0\" >min_samples_leaf</td>\n",
              "      <td id=\"T_7e16a_row9_col1\" class=\"data row9 col1\" >1</td>\n",
              "      <td id=\"T_7e16a_row9_col2\" class=\"data row9 col2\" >1</td>\n",
              "      <td id=\"T_7e16a_row9_col3\" class=\"data row9 col3\" >1</td>\n",
              "    </tr>\n",
              "    <tr>\n",
              "      <th id=\"T_7e16a_level0_row10\" class=\"row_heading level0 row10\" >10</th>\n",
              "      <td id=\"T_7e16a_row10_col0\" class=\"data row10 col0\" >min_samples_split</td>\n",
              "      <td id=\"T_7e16a_row10_col1\" class=\"data row10 col1\" >2</td>\n",
              "      <td id=\"T_7e16a_row10_col2\" class=\"data row10 col2\" >2</td>\n",
              "      <td id=\"T_7e16a_row10_col3\" class=\"data row10 col3\" >2</td>\n",
              "    </tr>\n",
              "    <tr>\n",
              "      <th id=\"T_7e16a_level0_row11\" class=\"row_heading level0 row11\" >11</th>\n",
              "      <td id=\"T_7e16a_row11_col0\" class=\"data row11 col0\" >min_weight_fraction_leaf</td>\n",
              "      <td id=\"T_7e16a_row11_col1\" class=\"data row11 col1\" >0.000000</td>\n",
              "      <td id=\"T_7e16a_row11_col2\" class=\"data row11 col2\" >0.000000</td>\n",
              "      <td id=\"T_7e16a_row11_col3\" class=\"data row11 col3\" >0.000000</td>\n",
              "    </tr>\n",
              "    <tr>\n",
              "      <th id=\"T_7e16a_level0_row12\" class=\"row_heading level0 row12\" >12</th>\n",
              "      <td id=\"T_7e16a_row12_col0\" class=\"data row12 col0\" >n_estimators</td>\n",
              "      <td id=\"T_7e16a_row12_col1\" class=\"data row12 col1\" >100</td>\n",
              "      <td id=\"T_7e16a_row12_col2\" class=\"data row12 col2\" >500</td>\n",
              "      <td id=\"T_7e16a_row12_col3\" class=\"data row12 col3\" >300</td>\n",
              "    </tr>\n",
              "    <tr>\n",
              "      <th id=\"T_7e16a_level0_row13\" class=\"row_heading level0 row13\" >13</th>\n",
              "      <td id=\"T_7e16a_row13_col0\" class=\"data row13 col0\" >n_jobs</td>\n",
              "      <td id=\"T_7e16a_row13_col1\" class=\"data row13 col1\" >None</td>\n",
              "      <td id=\"T_7e16a_row13_col2\" class=\"data row13 col2\" >None</td>\n",
              "      <td id=\"T_7e16a_row13_col3\" class=\"data row13 col3\" >None</td>\n",
              "    </tr>\n",
              "    <tr>\n",
              "      <th id=\"T_7e16a_level0_row14\" class=\"row_heading level0 row14\" >14</th>\n",
              "      <td id=\"T_7e16a_row14_col0\" class=\"data row14 col0\" >oob_score</td>\n",
              "      <td id=\"T_7e16a_row14_col1\" class=\"data row14 col1\" >False</td>\n",
              "      <td id=\"T_7e16a_row14_col2\" class=\"data row14 col2\" >False</td>\n",
              "      <td id=\"T_7e16a_row14_col3\" class=\"data row14 col3\" >False</td>\n",
              "    </tr>\n",
              "    <tr>\n",
              "      <th id=\"T_7e16a_level0_row15\" class=\"row_heading level0 row15\" >15</th>\n",
              "      <td id=\"T_7e16a_row15_col0\" class=\"data row15 col0\" >random_state</td>\n",
              "      <td id=\"T_7e16a_row15_col1\" class=\"data row15 col1\" >None</td>\n",
              "      <td id=\"T_7e16a_row15_col2\" class=\"data row15 col2\" >0</td>\n",
              "      <td id=\"T_7e16a_row15_col3\" class=\"data row15 col3\" >0</td>\n",
              "    </tr>\n",
              "    <tr>\n",
              "      <th id=\"T_7e16a_level0_row16\" class=\"row_heading level0 row16\" >16</th>\n",
              "      <td id=\"T_7e16a_row16_col0\" class=\"data row16 col0\" >verbose</td>\n",
              "      <td id=\"T_7e16a_row16_col1\" class=\"data row16 col1\" >0</td>\n",
              "      <td id=\"T_7e16a_row16_col2\" class=\"data row16 col2\" >0</td>\n",
              "      <td id=\"T_7e16a_row16_col3\" class=\"data row16 col3\" >0</td>\n",
              "    </tr>\n",
              "    <tr>\n",
              "      <th id=\"T_7e16a_level0_row17\" class=\"row_heading level0 row17\" >17</th>\n",
              "      <td id=\"T_7e16a_row17_col0\" class=\"data row17 col0\" >warm_start</td>\n",
              "      <td id=\"T_7e16a_row17_col1\" class=\"data row17 col1\" >False</td>\n",
              "      <td id=\"T_7e16a_row17_col2\" class=\"data row17 col2\" >False</td>\n",
              "      <td id=\"T_7e16a_row17_col3\" class=\"data row17 col3\" >False</td>\n",
              "    </tr>\n",
              "  </tbody>\n",
              "</table>\n"
            ]
          },
          "metadata": {}
        },
        {
          "output_type": "stream",
          "name": "stdout",
          "text": [
            "\n",
            "\n",
            "\n"
          ]
        }
      ]
    },
    {
      "cell_type": "code",
      "metadata": {
        "colab": {
          "base_uri": "https://localhost:8080/"
        },
        "id": "6Go4SF37Ex_Z",
        "outputId": "d4aa79b1-0484-4e91-d563-b8af605d1d10"
      },
      "source": [
        "# Submit a third model using GridSearchCV\n",
        "\n",
        "from sklearn.model_selection import GridSearchCV\n",
        "import numpy as np\n",
        "\n",
        "param_grid = {'n_estimators': np.arange(10, 50, 100),'max_depth':[1, 3]} #np.arange creates sequence of numbers for each k value\n",
        "\n",
        "gridmodel = GridSearchCV(RandomForestRegressor(), param_grid=param_grid, cv=10)\n",
        "\n",
        "#use meta model methods to fit score and predict model:\n",
        "gridmodel.fit(preprocessor(X_train), y_train)\n",
        "\n",
        "#extract best score and parameter by calling objects \"best_score_\" and \"best_params_\"\n",
        "print(\"best mean cross-validation score: {:.3f}\".format(gridmodel.best_score_))\n",
        "print(\"best parameters: {}\".format(gridmodel.best_params_))\n"
      ],
      "execution_count": 22,
      "outputs": [
        {
          "output_type": "stream",
          "name": "stdout",
          "text": [
            "best mean cross-validation score: 0.875\n",
            "best parameters: {'max_depth': 3, 'n_estimators': 10}\n"
          ]
        }
      ]
    },
    {
      "cell_type": "code",
      "metadata": {
        "id": "HvLuIvOjHLH2"
      },
      "source": [
        "# Save sklearn model to local ONNX file\n",
        "from aimodelshare.aimsonnx import model_to_onnx\n",
        "\n",
        "feature_count=preprocessor(X_test).shape[1] #Get count of preprocessed features\n",
        "initial_type = [('float_input', FloatTensorType([None, feature_count]))]  # Insert correct number of preprocessed features\n",
        "\n",
        "onnx_model = model_to_onnx(gridmodel, framework='sklearn',\n",
        "                          initial_types=initial_type,\n",
        "                          transfer_learning=False,\n",
        "                          deep_learning=False)\n",
        "\n",
        "with open(\"gridmodel.onnx\", \"wb\") as f:\n",
        "    f.write(onnx_model.SerializeToString())"
      ],
      "execution_count": 23,
      "outputs": []
    },
    {
      "cell_type": "code",
      "metadata": {
        "colab": {
          "base_uri": "https://localhost:8080/"
        },
        "id": "sMidHABfHVN7",
        "outputId": "99c7eadd-cd88-4284-ba91-897a2ca13463"
      },
      "source": [
        "#Submit Model 3: \n",
        "\n",
        "#-- Generate predicted values\n",
        "prediction_labels = gridmodel.predict(preprocessor(X_test))\n",
        "\n",
        "# Submit Model 3 to Competition Leaderboard\n",
        "mycompetition.submit_model(model_filepath = \"gridmodel.onnx\",\n",
        "                                 preprocessor_filepath=\"preprocessor.zip\",\n",
        "                                 prediction_submission=prediction_labels)"
      ],
      "execution_count": 24,
      "outputs": [
        {
          "output_type": "stream",
          "name": "stdout",
          "text": [
            "Insert search tags to help users find your model (optional): \n",
            "Provide any useful notes about your model (optional): \n",
            "\n",
            "Your model has been submitted as model version 3\n",
            "\n",
            "To submit code used to create this model or to view current leaderboard navigate to Model Playground: \n",
            "\n",
            " https://www.modelshare.org/detail/model:1747\n"
          ]
        }
      ]
    },
    {
      "cell_type": "code",
      "metadata": {
        "colab": {
          "base_uri": "https://localhost:8080/",
          "height": 118
        },
        "id": "hn-Tp-zpJVGT",
        "outputId": "ee102c32-391f-4b49-ea43-1143961e8e10"
      },
      "source": [
        "# Get leaderboard\n",
        "\n",
        "data = mycompetition.get_leaderboard()\n",
        "mycompetition.stylize_leaderboard(data)"
      ],
      "execution_count": 25,
      "outputs": [
        {
          "output_type": "execute_result",
          "data": {
            "text/plain": [
              "<pandas.io.formats.style.Styler at 0x7ff4a7b8cdd0>"
            ],
            "text/html": [
              "<style type=\"text/css\">\n",
              "#T_65554_row0_col0 {\n",
              "  text-align: center;\n",
              "  width: 10em;\n",
              "  height: 80%;\n",
              "  background: linear-gradient(90deg,#f5f8d6 72.1%, transparent 72.1%);\n",
              "  color: #251e1b;\n",
              "  font-size: 12px;\n",
              "}\n",
              "#T_65554_row0_col1 {\n",
              "  text-align: center;\n",
              "  width: 10em;\n",
              "  height: 80%;\n",
              "  background: linear-gradient(90deg,#c778c8 84.9%, transparent 84.9%);\n",
              "  color: #251e1b;\n",
              "  font-size: 12px;\n",
              "}\n",
              "#T_65554_row0_col2 {\n",
              "  text-align: center;\n",
              "  width: 10em;\n",
              "  height: 80%;\n",
              "  background: linear-gradient(90deg,#ff4971 76.9%, transparent 76.9%);\n",
              "  color: #251e1b;\n",
              "  font-size: 12px;\n",
              "}\n",
              "#T_65554_row0_col3 {\n",
              "  text-align: center;\n",
              "  width: 10em;\n",
              "  height: 80%;\n",
              "  background: linear-gradient(90deg,#aadbaa 100.0%, transparent 100.0%);\n",
              "  color: #251e1b;\n",
              "  font-size: 12px;\n",
              "}\n",
              "#T_65554_row0_col4, #T_65554_row0_col5, #T_65554_row0_col6, #T_65554_row0_col7, #T_65554_row0_col8, #T_65554_row0_col9, #T_65554_row1_col4, #T_65554_row1_col5, #T_65554_row1_col6, #T_65554_row1_col7, #T_65554_row1_col8, #T_65554_row1_col9, #T_65554_row2_col4, #T_65554_row2_col5, #T_65554_row2_col6, #T_65554_row2_col7, #T_65554_row2_col8, #T_65554_row2_col9 {\n",
              "  text-align: center;\n",
              "}\n",
              "#T_65554_row1_col0 {\n",
              "  text-align: center;\n",
              "  width: 10em;\n",
              "  height: 80%;\n",
              "  background: linear-gradient(90deg,#f5f8d6 73.2%, transparent 73.2%);\n",
              "  color: #251e1b;\n",
              "  font-size: 12px;\n",
              "}\n",
              "#T_65554_row1_col1 {\n",
              "  text-align: center;\n",
              "  width: 10em;\n",
              "  height: 80%;\n",
              "  background: linear-gradient(90deg,#c778c8 85.6%, transparent 85.6%);\n",
              "  color: #251e1b;\n",
              "  font-size: 12px;\n",
              "}\n",
              "#T_65554_row1_col2 {\n",
              "  text-align: center;\n",
              "  width: 10em;\n",
              "  height: 80%;\n",
              "  background: linear-gradient(90deg,#ff4971 77.3%, transparent 77.3%);\n",
              "  color: #251e1b;\n",
              "  font-size: 12px;\n",
              "}\n",
              "#T_65554_row1_col3 {\n",
              "  text-align: center;\n",
              "  width: 10em;\n",
              "  height: 80%;\n",
              "  background: linear-gradient(90deg,#aadbaa 99.8%, transparent 99.8%);\n",
              "  color: #251e1b;\n",
              "  font-size: 12px;\n",
              "}\n",
              "#T_65554_row2_col0 {\n",
              "  text-align: center;\n",
              "  width: 10em;\n",
              "  height: 80%;\n",
              "  background: linear-gradient(90deg,#f5f8d6 100.0%, transparent 100.0%);\n",
              "  color: #251e1b;\n",
              "  font-size: 12px;\n",
              "}\n",
              "#T_65554_row2_col1 {\n",
              "  text-align: center;\n",
              "  width: 10em;\n",
              "  height: 80%;\n",
              "  background: linear-gradient(90deg,#c778c8 100.0%, transparent 100.0%);\n",
              "  color: #251e1b;\n",
              "  font-size: 12px;\n",
              "}\n",
              "#T_65554_row2_col2 {\n",
              "  text-align: center;\n",
              "  width: 10em;\n",
              "  height: 80%;\n",
              "  background: linear-gradient(90deg,#ff4971 100.0%, transparent 100.0%);\n",
              "  color: #251e1b;\n",
              "  font-size: 12px;\n",
              "}\n",
              "#T_65554_row2_col3 {\n",
              "  text-align: center;\n",
              "  width: 10em;\n",
              "  height: 80%;\n",
              "  background: linear-gradient(90deg,#aadbaa 94.8%, transparent 94.8%);\n",
              "  color: #251e1b;\n",
              "  font-size: 12px;\n",
              "}\n",
              "</style>\n",
              "<table id=\"T_65554_\" class=\"dataframe\">\n",
              "  <thead>\n",
              "    <tr>\n",
              "      <th class=\"blank level0\" >&nbsp;</th>\n",
              "      <th class=\"col_heading level0 col0\" >mse</th>\n",
              "      <th class=\"col_heading level0 col1\" >rmse</th>\n",
              "      <th class=\"col_heading level0 col2\" >mae</th>\n",
              "      <th class=\"col_heading level0 col3\" >r2</th>\n",
              "      <th class=\"col_heading level0 col4\" >ml_framework</th>\n",
              "      <th class=\"col_heading level0 col5\" >transfer_learning</th>\n",
              "      <th class=\"col_heading level0 col6\" >deep_learning</th>\n",
              "      <th class=\"col_heading level0 col7\" >model_type</th>\n",
              "      <th class=\"col_heading level0 col8\" >username</th>\n",
              "      <th class=\"col_heading level0 col9\" >version</th>\n",
              "    </tr>\n",
              "  </thead>\n",
              "  <tbody>\n",
              "    <tr>\n",
              "      <th id=\"T_65554_level0_row0\" class=\"row_heading level0 row0\" >0</th>\n",
              "      <td id=\"T_65554_row0_col0\" class=\"data row0 col0\" >1865445.56</td>\n",
              "      <td id=\"T_65554_row0_col1\" class=\"data row0 col1\" >1365.81</td>\n",
              "      <td id=\"T_65554_row0_col2\" class=\"data row0 col2\" >773.38</td>\n",
              "      <td id=\"T_65554_row0_col3\" class=\"data row0 col3\" >0.88</td>\n",
              "      <td id=\"T_65554_row0_col4\" class=\"data row0 col4\" >sklearn</td>\n",
              "      <td id=\"T_65554_row0_col5\" class=\"data row0 col5\" >False</td>\n",
              "      <td id=\"T_65554_row0_col6\" class=\"data row0 col6\" >False</td>\n",
              "      <td id=\"T_65554_row0_col7\" class=\"data row0 col7\" >RandomForestRegressor</td>\n",
              "      <td id=\"T_65554_row0_col8\" class=\"data row0 col8\" >ML_Risk_Mgmnt</td>\n",
              "      <td id=\"T_65554_row0_col9\" class=\"data row0 col9\" >3</td>\n",
              "    </tr>\n",
              "    <tr>\n",
              "      <th id=\"T_65554_level0_row1\" class=\"row_heading level0 row1\" >1</th>\n",
              "      <td id=\"T_65554_row1_col0\" class=\"data row1 col0\" >1895117.90</td>\n",
              "      <td id=\"T_65554_row1_col1\" class=\"data row1 col1\" >1376.63</td>\n",
              "      <td id=\"T_65554_row1_col2\" class=\"data row1 col2\" >777.73</td>\n",
              "      <td id=\"T_65554_row1_col3\" class=\"data row1 col3\" >0.88</td>\n",
              "      <td id=\"T_65554_row1_col4\" class=\"data row1 col4\" >sklearn</td>\n",
              "      <td id=\"T_65554_row1_col5\" class=\"data row1 col5\" >False</td>\n",
              "      <td id=\"T_65554_row1_col6\" class=\"data row1 col6\" >False</td>\n",
              "      <td id=\"T_65554_row1_col7\" class=\"data row1 col7\" >RandomForestRegressor</td>\n",
              "      <td id=\"T_65554_row1_col8\" class=\"data row1 col8\" >ML_Risk_Mgmnt</td>\n",
              "      <td id=\"T_65554_row1_col9\" class=\"data row1 col9\" >1</td>\n",
              "    </tr>\n",
              "    <tr>\n",
              "      <th id=\"T_65554_level0_row2\" class=\"row_heading level0 row2\" >2</th>\n",
              "      <td id=\"T_65554_row2_col0\" class=\"data row2 col0\" >2588887.91</td>\n",
              "      <td id=\"T_65554_row2_col1\" class=\"data row2 col1\" >1609.00</td>\n",
              "      <td id=\"T_65554_row2_col2\" class=\"data row2 col2\" >1006.14</td>\n",
              "      <td id=\"T_65554_row2_col3\" class=\"data row2 col3\" >0.84</td>\n",
              "      <td id=\"T_65554_row2_col4\" class=\"data row2 col4\" >sklearn</td>\n",
              "      <td id=\"T_65554_row2_col5\" class=\"data row2 col5\" >False</td>\n",
              "      <td id=\"T_65554_row2_col6\" class=\"data row2 col6\" >False</td>\n",
              "      <td id=\"T_65554_row2_col7\" class=\"data row2 col7\" >RandomForestRegressor</td>\n",
              "      <td id=\"T_65554_row2_col8\" class=\"data row2 col8\" >ML_Risk_Mgmnt</td>\n",
              "      <td id=\"T_65554_row2_col9\" class=\"data row2 col9\" >2</td>\n",
              "    </tr>\n",
              "  </tbody>\n",
              "</table>\n"
            ]
          },
          "metadata": {},
          "execution_count": 25
        }
      ]
    },
    {
      "cell_type": "code",
      "metadata": {
        "id": "MKvPKyb7hT0h",
        "colab": {
          "base_uri": "https://localhost:8080/",
          "height": 421
        },
        "outputId": "95c3d5b9-c209-472a-834d-a15f294f2313"
      },
      "source": [
        "# Compare two or more models\n",
        "data=mycompetition.compare_models([1, 2, 3], verbose=1)\n",
        "mycompetition.stylize_compare(data)"
      ],
      "execution_count": 27,
      "outputs": [
        {
          "output_type": "display_data",
          "data": {
            "text/plain": [
              "<IPython.core.display.HTML object>"
            ],
            "text/html": [
              "<style type=\"text/css\">\n",
              "#T_041c1_ caption {\n",
              "  color: black;\n",
              "  font-size: 18px;\n",
              "}\n",
              "#T_041c1_row3_col2, #T_041c1_row3_col3, #T_041c1_row3_col4, #T_041c1_row12_col2, #T_041c1_row12_col3, #T_041c1_row12_col4, #T_041c1_row15_col2, #T_041c1_row15_col3 {\n",
              "  background: tomato;\n",
              "}\n",
              "</style>\n",
              "<table id=\"T_041c1_\">\n",
              "  <caption>Model type: RandomForestRegressor</caption>\n",
              "  <thead>\n",
              "    <tr>\n",
              "      <th class=\"blank level0\" >&nbsp;</th>\n",
              "      <th class=\"col_heading level0 col0\" >param_name</th>\n",
              "      <th class=\"col_heading level0 col1\" >default_value</th>\n",
              "      <th class=\"col_heading level0 col2\" >model_version_1</th>\n",
              "      <th class=\"col_heading level0 col3\" >model_version_2</th>\n",
              "      <th class=\"col_heading level0 col4\" >model_version_3</th>\n",
              "    </tr>\n",
              "  </thead>\n",
              "  <tbody>\n",
              "    <tr>\n",
              "      <th id=\"T_041c1_level0_row0\" class=\"row_heading level0 row0\" >0</th>\n",
              "      <td id=\"T_041c1_row0_col0\" class=\"data row0 col0\" >bootstrap</td>\n",
              "      <td id=\"T_041c1_row0_col1\" class=\"data row0 col1\" >True</td>\n",
              "      <td id=\"T_041c1_row0_col2\" class=\"data row0 col2\" >True</td>\n",
              "      <td id=\"T_041c1_row0_col3\" class=\"data row0 col3\" >True</td>\n",
              "      <td id=\"T_041c1_row0_col4\" class=\"data row0 col4\" >True</td>\n",
              "    </tr>\n",
              "    <tr>\n",
              "      <th id=\"T_041c1_level0_row1\" class=\"row_heading level0 row1\" >1</th>\n",
              "      <td id=\"T_041c1_row1_col0\" class=\"data row1 col0\" >ccp_alpha</td>\n",
              "      <td id=\"T_041c1_row1_col1\" class=\"data row1 col1\" >0.000000</td>\n",
              "      <td id=\"T_041c1_row1_col2\" class=\"data row1 col2\" >0.000000</td>\n",
              "      <td id=\"T_041c1_row1_col3\" class=\"data row1 col3\" >0.000000</td>\n",
              "      <td id=\"T_041c1_row1_col4\" class=\"data row1 col4\" >0.000000</td>\n",
              "    </tr>\n",
              "    <tr>\n",
              "      <th id=\"T_041c1_level0_row2\" class=\"row_heading level0 row2\" >2</th>\n",
              "      <td id=\"T_041c1_row2_col0\" class=\"data row2 col0\" >criterion</td>\n",
              "      <td id=\"T_041c1_row2_col1\" class=\"data row2 col1\" >mse</td>\n",
              "      <td id=\"T_041c1_row2_col2\" class=\"data row2 col2\" >mse</td>\n",
              "      <td id=\"T_041c1_row2_col3\" class=\"data row2 col3\" >mse</td>\n",
              "      <td id=\"T_041c1_row2_col4\" class=\"data row2 col4\" >mse</td>\n",
              "    </tr>\n",
              "    <tr>\n",
              "      <th id=\"T_041c1_level0_row3\" class=\"row_heading level0 row3\" >3</th>\n",
              "      <td id=\"T_041c1_row3_col0\" class=\"data row3 col0\" >max_depth</td>\n",
              "      <td id=\"T_041c1_row3_col1\" class=\"data row3 col1\" >None</td>\n",
              "      <td id=\"T_041c1_row3_col2\" class=\"data row3 col2\" >3</td>\n",
              "      <td id=\"T_041c1_row3_col3\" class=\"data row3 col3\" >2</td>\n",
              "      <td id=\"T_041c1_row3_col4\" class=\"data row3 col4\" >3</td>\n",
              "    </tr>\n",
              "    <tr>\n",
              "      <th id=\"T_041c1_level0_row4\" class=\"row_heading level0 row4\" >4</th>\n",
              "      <td id=\"T_041c1_row4_col0\" class=\"data row4 col0\" >max_features</td>\n",
              "      <td id=\"T_041c1_row4_col1\" class=\"data row4 col1\" >auto</td>\n",
              "      <td id=\"T_041c1_row4_col2\" class=\"data row4 col2\" >auto</td>\n",
              "      <td id=\"T_041c1_row4_col3\" class=\"data row4 col3\" >auto</td>\n",
              "      <td id=\"T_041c1_row4_col4\" class=\"data row4 col4\" >auto</td>\n",
              "    </tr>\n",
              "    <tr>\n",
              "      <th id=\"T_041c1_level0_row5\" class=\"row_heading level0 row5\" >5</th>\n",
              "      <td id=\"T_041c1_row5_col0\" class=\"data row5 col0\" >max_leaf_nodes</td>\n",
              "      <td id=\"T_041c1_row5_col1\" class=\"data row5 col1\" >None</td>\n",
              "      <td id=\"T_041c1_row5_col2\" class=\"data row5 col2\" >None</td>\n",
              "      <td id=\"T_041c1_row5_col3\" class=\"data row5 col3\" >None</td>\n",
              "      <td id=\"T_041c1_row5_col4\" class=\"data row5 col4\" >None</td>\n",
              "    </tr>\n",
              "    <tr>\n",
              "      <th id=\"T_041c1_level0_row6\" class=\"row_heading level0 row6\" >6</th>\n",
              "      <td id=\"T_041c1_row6_col0\" class=\"data row6 col0\" >max_samples</td>\n",
              "      <td id=\"T_041c1_row6_col1\" class=\"data row6 col1\" >None</td>\n",
              "      <td id=\"T_041c1_row6_col2\" class=\"data row6 col2\" >None</td>\n",
              "      <td id=\"T_041c1_row6_col3\" class=\"data row6 col3\" >None</td>\n",
              "      <td id=\"T_041c1_row6_col4\" class=\"data row6 col4\" >None</td>\n",
              "    </tr>\n",
              "    <tr>\n",
              "      <th id=\"T_041c1_level0_row7\" class=\"row_heading level0 row7\" >7</th>\n",
              "      <td id=\"T_041c1_row7_col0\" class=\"data row7 col0\" >min_impurity_decrease</td>\n",
              "      <td id=\"T_041c1_row7_col1\" class=\"data row7 col1\" >0.000000</td>\n",
              "      <td id=\"T_041c1_row7_col2\" class=\"data row7 col2\" >0.000000</td>\n",
              "      <td id=\"T_041c1_row7_col3\" class=\"data row7 col3\" >0.000000</td>\n",
              "      <td id=\"T_041c1_row7_col4\" class=\"data row7 col4\" >0.000000</td>\n",
              "    </tr>\n",
              "    <tr>\n",
              "      <th id=\"T_041c1_level0_row8\" class=\"row_heading level0 row8\" >8</th>\n",
              "      <td id=\"T_041c1_row8_col0\" class=\"data row8 col0\" >min_impurity_split</td>\n",
              "      <td id=\"T_041c1_row8_col1\" class=\"data row8 col1\" >None</td>\n",
              "      <td id=\"T_041c1_row8_col2\" class=\"data row8 col2\" >None</td>\n",
              "      <td id=\"T_041c1_row8_col3\" class=\"data row8 col3\" >None</td>\n",
              "      <td id=\"T_041c1_row8_col4\" class=\"data row8 col4\" >None</td>\n",
              "    </tr>\n",
              "    <tr>\n",
              "      <th id=\"T_041c1_level0_row9\" class=\"row_heading level0 row9\" >9</th>\n",
              "      <td id=\"T_041c1_row9_col0\" class=\"data row9 col0\" >min_samples_leaf</td>\n",
              "      <td id=\"T_041c1_row9_col1\" class=\"data row9 col1\" >1</td>\n",
              "      <td id=\"T_041c1_row9_col2\" class=\"data row9 col2\" >1</td>\n",
              "      <td id=\"T_041c1_row9_col3\" class=\"data row9 col3\" >1</td>\n",
              "      <td id=\"T_041c1_row9_col4\" class=\"data row9 col4\" >1</td>\n",
              "    </tr>\n",
              "    <tr>\n",
              "      <th id=\"T_041c1_level0_row10\" class=\"row_heading level0 row10\" >10</th>\n",
              "      <td id=\"T_041c1_row10_col0\" class=\"data row10 col0\" >min_samples_split</td>\n",
              "      <td id=\"T_041c1_row10_col1\" class=\"data row10 col1\" >2</td>\n",
              "      <td id=\"T_041c1_row10_col2\" class=\"data row10 col2\" >2</td>\n",
              "      <td id=\"T_041c1_row10_col3\" class=\"data row10 col3\" >2</td>\n",
              "      <td id=\"T_041c1_row10_col4\" class=\"data row10 col4\" >2</td>\n",
              "    </tr>\n",
              "    <tr>\n",
              "      <th id=\"T_041c1_level0_row11\" class=\"row_heading level0 row11\" >11</th>\n",
              "      <td id=\"T_041c1_row11_col0\" class=\"data row11 col0\" >min_weight_fraction_leaf</td>\n",
              "      <td id=\"T_041c1_row11_col1\" class=\"data row11 col1\" >0.000000</td>\n",
              "      <td id=\"T_041c1_row11_col2\" class=\"data row11 col2\" >0.000000</td>\n",
              "      <td id=\"T_041c1_row11_col3\" class=\"data row11 col3\" >0.000000</td>\n",
              "      <td id=\"T_041c1_row11_col4\" class=\"data row11 col4\" >0.000000</td>\n",
              "    </tr>\n",
              "    <tr>\n",
              "      <th id=\"T_041c1_level0_row12\" class=\"row_heading level0 row12\" >12</th>\n",
              "      <td id=\"T_041c1_row12_col0\" class=\"data row12 col0\" >n_estimators</td>\n",
              "      <td id=\"T_041c1_row12_col1\" class=\"data row12 col1\" >100</td>\n",
              "      <td id=\"T_041c1_row12_col2\" class=\"data row12 col2\" >500</td>\n",
              "      <td id=\"T_041c1_row12_col3\" class=\"data row12 col3\" >300</td>\n",
              "      <td id=\"T_041c1_row12_col4\" class=\"data row12 col4\" >10</td>\n",
              "    </tr>\n",
              "    <tr>\n",
              "      <th id=\"T_041c1_level0_row13\" class=\"row_heading level0 row13\" >13</th>\n",
              "      <td id=\"T_041c1_row13_col0\" class=\"data row13 col0\" >n_jobs</td>\n",
              "      <td id=\"T_041c1_row13_col1\" class=\"data row13 col1\" >None</td>\n",
              "      <td id=\"T_041c1_row13_col2\" class=\"data row13 col2\" >None</td>\n",
              "      <td id=\"T_041c1_row13_col3\" class=\"data row13 col3\" >None</td>\n",
              "      <td id=\"T_041c1_row13_col4\" class=\"data row13 col4\" >None</td>\n",
              "    </tr>\n",
              "    <tr>\n",
              "      <th id=\"T_041c1_level0_row14\" class=\"row_heading level0 row14\" >14</th>\n",
              "      <td id=\"T_041c1_row14_col0\" class=\"data row14 col0\" >oob_score</td>\n",
              "      <td id=\"T_041c1_row14_col1\" class=\"data row14 col1\" >False</td>\n",
              "      <td id=\"T_041c1_row14_col2\" class=\"data row14 col2\" >False</td>\n",
              "      <td id=\"T_041c1_row14_col3\" class=\"data row14 col3\" >False</td>\n",
              "      <td id=\"T_041c1_row14_col4\" class=\"data row14 col4\" >False</td>\n",
              "    </tr>\n",
              "    <tr>\n",
              "      <th id=\"T_041c1_level0_row15\" class=\"row_heading level0 row15\" >15</th>\n",
              "      <td id=\"T_041c1_row15_col0\" class=\"data row15 col0\" >random_state</td>\n",
              "      <td id=\"T_041c1_row15_col1\" class=\"data row15 col1\" >None</td>\n",
              "      <td id=\"T_041c1_row15_col2\" class=\"data row15 col2\" >0</td>\n",
              "      <td id=\"T_041c1_row15_col3\" class=\"data row15 col3\" >0</td>\n",
              "      <td id=\"T_041c1_row15_col4\" class=\"data row15 col4\" >None</td>\n",
              "    </tr>\n",
              "    <tr>\n",
              "      <th id=\"T_041c1_level0_row16\" class=\"row_heading level0 row16\" >16</th>\n",
              "      <td id=\"T_041c1_row16_col0\" class=\"data row16 col0\" >verbose</td>\n",
              "      <td id=\"T_041c1_row16_col1\" class=\"data row16 col1\" >0</td>\n",
              "      <td id=\"T_041c1_row16_col2\" class=\"data row16 col2\" >0</td>\n",
              "      <td id=\"T_041c1_row16_col3\" class=\"data row16 col3\" >0</td>\n",
              "      <td id=\"T_041c1_row16_col4\" class=\"data row16 col4\" >0</td>\n",
              "    </tr>\n",
              "    <tr>\n",
              "      <th id=\"T_041c1_level0_row17\" class=\"row_heading level0 row17\" >17</th>\n",
              "      <td id=\"T_041c1_row17_col0\" class=\"data row17 col0\" >warm_start</td>\n",
              "      <td id=\"T_041c1_row17_col1\" class=\"data row17 col1\" >False</td>\n",
              "      <td id=\"T_041c1_row17_col2\" class=\"data row17 col2\" >False</td>\n",
              "      <td id=\"T_041c1_row17_col3\" class=\"data row17 col3\" >False</td>\n",
              "      <td id=\"T_041c1_row17_col4\" class=\"data row17 col4\" >False</td>\n",
              "    </tr>\n",
              "  </tbody>\n",
              "</table>\n"
            ]
          },
          "metadata": {}
        },
        {
          "output_type": "stream",
          "name": "stdout",
          "text": [
            "\n",
            "\n",
            "\n"
          ]
        }
      ]
    },
    {
      "cell_type": "code",
      "metadata": {
        "id": "tukB40NshcaB",
        "colab": {
          "base_uri": "https://localhost:8080/"
        },
        "outputId": "54976b6a-604c-4e25-d6dd-e4b6dd3c7110"
      },
      "source": [
        "# Here are several classic ML architectures you can choose from to experiment with next:\n",
        "from sklearn.neighbors import KNeighborsRegressor\n",
        "from sklearn.ensemble import RandomForestRegressor\n",
        "from sklearn.tree import DecisionTreeRegressor\n",
        "from sklearn.ensemble import BaggingRegressor\n",
        "from sklearn.ensemble import GradientBoostingRegressor\n",
        "\n",
        "\n",
        "#Example code to fit model:\n",
        "model = GradientBoostingRegressor(n_estimators=50, learning_rate=.1,\n",
        "    max_depth=1, random_state=0).fit(preprocessor(X_train), y_train)\n",
        "model.score(preprocessor(X_train), y_train)\n",
        "\n",
        "# Save sklearn model to local ONNX file\n",
        "from aimodelshare.aimsonnx import model_to_onnx\n",
        "\n",
        "feature_count=preprocessor(X_test).shape[1] #Get count of preprocessed features\n",
        "initial_type = [('float_input', FloatTensorType([None, feature_count]))]  # Insert correct number of preprocessed features\n",
        "\n",
        "onnx_model = model_to_onnx(model, framework='sklearn',\n",
        "                          initial_types=initial_type,\n",
        "                          transfer_learning=False,\n",
        "                          deep_learning=False)\n",
        "\n",
        "with open(\"model.onnx\", \"wb\") as f:\n",
        "    f.write(onnx_model.SerializeToString())\n",
        "\n",
        "#-- Generate predicted values (a list of predicted labels \"real\" or \"fake\")\n",
        "prediction_labels = model.predict(preprocessor(X_test))\n",
        "\n",
        "# Submit model to Competition Leaderboard\n",
        "mycompetition.submit_model(model_filepath = \"model.onnx\",\n",
        "                                 preprocessor_filepath=\"preprocessor.zip\",\n",
        "                                 prediction_submission=prediction_labels)\n"
      ],
      "execution_count": 31,
      "outputs": [
        {
          "output_type": "stream",
          "name": "stdout",
          "text": [
            "Insert search tags to help users find your model (optional): \n",
            "Provide any useful notes about your model (optional): \n",
            "\n",
            "Your model has been submitted as model version 4\n",
            "\n",
            "To submit code used to create this model or to view current leaderboard navigate to Model Playground: \n",
            "\n",
            " https://www.modelshare.org/detail/model:1747\n"
          ]
        }
      ]
    }
  ]
}