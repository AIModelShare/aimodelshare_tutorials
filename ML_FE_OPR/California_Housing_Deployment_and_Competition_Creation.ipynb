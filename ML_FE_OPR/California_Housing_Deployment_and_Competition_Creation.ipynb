{
  "cells": [
    {
      "cell_type": "markdown",
      "source": [
        "<p align=\"center\"><img width=\"50%\" src=\"https://aimodelsharecontent.s3.amazonaws.com/aimodshare_banner.jpg\" /></p>\n",
        "\n",
        "\n",
        "---"
      ],
      "metadata": {
        "id": "uteMYTACieuv"
      }
    },
    {
      "cell_type": "markdown",
      "source": [
        "# **California Housing Model Playground Deployment & Competition Creation**"
      ],
      "metadata": {
        "id": "ZqIU-PmEii5k"
      }
    },
    {
      "cell_type": "markdown",
      "source": [
        "# Objective: Predict median house value for California districts, expressed in hundreds of thousands of dollars\n",
        "\n",
        "---\n",
        "\n",
        "**Data**: 1990 Census attributes by Block Group. \n",
        "(A block group is the smallest geographical unit for which the U.S. Census Bureau publishes sample data. A block group typically has a population of 600 to 3,000 people.) \n",
        "\n",
        "**Features**\n",
        "* **MedInc** median income in block group\n",
        "* **HouseAge** median house age in block group\n",
        "* **AveRooms** average number of rooms per household\n",
        "* **AveBedrms** average number of bedrooms per household\n",
        "* **Population** block group population\n",
        "* **AveOccup** average number of household members\n",
        "* **Latitude** block group latitude\n",
        "* **Longitude** block group longitude\n",
        "\n",
        "**Target**\n",
        "*   Median house value for California districts, expressed in hundreds of thousands of dollars ($100,000)\n",
        "\n",
        "*Source: Sklearn [California Housing Dataset](https://scikit-learn.org/stable/datasets/real_world.html#california-housing-dataset)*"
      ],
      "metadata": {
        "id": "GnLNEolgjxpY"
      }
    },
    {
      "cell_type": "markdown",
      "source": [
        "## **Credential Configuration**\n",
        "\n",
        "In order to deploy an AI Model Share Model Playground, you will need a credentials text file. \n",
        "\n",
        "Generating your credentials file requires two sets of information: \n",
        "1. Your AI Model Share username and password (create them [HERE](https://www.modelshare.org/login)). \n",
        "2. Your AWS (Amazon Web Services) access keys (follow the tutorial [HERE](https://docs.aws.amazon.com/general/latest/gr/aws-sec-cred-types.html)). \n",
        "\n",
        "You only need to generate your credentials file once. After running the configure function below, save the outputted file for all your future Model Playground deployments and competition submissions. \n",
        "\n",
        "*Note: Handle your credentials file with the same level of security you handle your passwords. Do not share your file with anyone, send via email, or upload to Github.*"
      ],
      "metadata": {
        "id": "26S_D8NSzSxE"
      }
    },
    {
      "cell_type": "code",
      "execution_count": null,
      "metadata": {
        "id": "Kqzd-WiC6E_q"
      },
      "outputs": [],
      "source": [
        "# install aimodelshare library\n",
        "! pip install aimodelshare --upgrade"
      ]
    },
    {
      "cell_type": "code",
      "source": [
        "# Generate credentials file (skip this step if you have a file already)\n",
        "import aimodelshare as ai \n",
        "from aimodelshare.aws import configure_credentials \n",
        "\n",
        "configure_credentials()"
      ],
      "metadata": {
        "colab": {
          "base_uri": "https://localhost:8080/"
        },
        "id": "g1Tu7FPzzYqL",
        "outputId": "a677450f-52f1-42dc-94b5-6a6b94afc4a5"
      },
      "execution_count": null,
      "outputs": [
        {
          "output_type": "stream",
          "name": "stdout",
          "text": [
            "AI Modelshare Username:··········\n",
            "AI Modelshare Password:··········\n",
            "AWS_ACCESS_KEY_ID:··········\n",
            "AWS_SECRET_ACCESS_KEY:··········\n",
            "AWS_REGION:··········\n",
            "Configuration successful. New credentials file saved as 'credentials.txt'\n"
          ]
        }
      ]
    },
    {
      "cell_type": "markdown",
      "metadata": {
        "id": "R3p3JoZz9dae"
      },
      "source": [
        "# **Part 1: Prep Data, Preprocessor, & Model**"
      ]
    },
    {
      "cell_type": "code",
      "source": [
        "from aimodelshare.aws import set_credentials\n",
        "set_credentials(credential_file = \"credentials.txt\", type=\"deploy_model\")"
      ],
      "metadata": {
        "colab": {
          "base_uri": "https://localhost:8080/"
        },
        "id": "q14rEBmV0d2s",
        "outputId": "6a5e69e1-0c08-4638-9cf8-3ce06940cbf3"
      },
      "execution_count": 2,
      "outputs": [
        {
          "output_type": "stream",
          "name": "stdout",
          "text": [
            "AI Model Share login credentials set successfully.\n",
            "AWS credentials set successfully.\n"
          ]
        }
      ]
    },
    {
      "cell_type": "code",
      "source": [
        "# Get deployment data\n",
        "import sklearn\n",
        "from sklearn import datasets\n",
        "\n",
        "dataset = sklearn.datasets.fetch_california_housing(as_frame=True)\n",
        "X = dataset.data \n",
        "y = dataset.target"
      ],
      "metadata": {
        "id": "nVh2fT7009a6"
      },
      "execution_count": 3,
      "outputs": []
    },
    {
      "cell_type": "code",
      "source": [
        "print(X.shape) \n",
        "print(y.shape)"
      ],
      "metadata": {
        "colab": {
          "base_uri": "https://localhost:8080/"
        },
        "id": "1AtkIggnkRyr",
        "outputId": "b7c64569-d033-4314-d694-52549807a63d"
      },
      "execution_count": 4,
      "outputs": [
        {
          "output_type": "stream",
          "name": "stdout",
          "text": [
            "(20640, 8)\n",
            "(20640,)\n"
          ]
        }
      ]
    },
    {
      "cell_type": "code",
      "execution_count": 5,
      "metadata": {
        "colab": {
          "base_uri": "https://localhost:8080/"
        },
        "id": "qixdomAD4QXU",
        "outputId": "5b0a9f77-a27d-4cf5-b5ef-a76860bc1eb8"
      },
      "outputs": [
        {
          "output_type": "stream",
          "name": "stdout",
          "text": [
            "(16512, 8)\n",
            "(16512,)\n",
            "['MedInc', 'HouseAge', 'AveRooms', 'AveBedrms', 'Population', 'AveOccup', 'Latitude', 'Longitude']\n"
          ]
        }
      ],
      "source": [
        "# Set up training and test data\n",
        "from sklearn.model_selection import train_test_split\n",
        "\n",
        "X_train, X_test, y_train, y_test = train_test_split(X, y, test_size=.20, random_state=42)\n",
        "\n",
        "print(X_train.shape)\n",
        "print(y_train.shape)\n",
        "print(X_train.columns.tolist())"
      ]
    },
    {
      "cell_type": "markdown",
      "metadata": {
        "id": "GR74tkYY6cQn"
      },
      "source": [
        "### **Define Preprocessor** <br>\n",
        "Preprocess data using sklearn's Column Transformer"
      ]
    },
    {
      "cell_type": "code",
      "execution_count": 6,
      "metadata": {
        "id": "TwuyVhYy6kL2"
      },
      "outputs": [],
      "source": [
        "from sklearn.preprocessing import StandardScaler\n",
        "from sklearn.compose import ColumnTransformer, make_column_transformer\n",
        "from sklearn.pipeline import Pipeline\n",
        "from sklearn.impute import SimpleImputer\n",
        "from sklearn.preprocessing import StandardScaler\n",
        "\n",
        "# Create the preprocessing pipeline for both numeric data.\n",
        "numeric_features=X.columns.tolist()\n",
        "\n",
        "numeric_transformer = Pipeline(steps=[\n",
        "    ('imputer', SimpleImputer(strategy='median')),\n",
        "    ('scaler', StandardScaler())])\n",
        "\n",
        "# final preprocessor object set up with ColumnTransformer\n",
        "preprocessor = ColumnTransformer(\n",
        "    transformers=[('num', numeric_transformer, numeric_features)])\n",
        "\n",
        "#Fit your preprocessor object\n",
        "preprocess=preprocessor.fit(X_train) "
      ]
    },
    {
      "cell_type": "code",
      "source": [
        "# Write function to transform data with preprocessor\n",
        "\n",
        "def preprocessor(data):\n",
        "    preprocessed_data=preprocess.transform(data)\n",
        "    return preprocessed_data"
      ],
      "metadata": {
        "id": "xx7WoPd9lUCG"
      },
      "execution_count": 7,
      "outputs": []
    },
    {
      "cell_type": "code",
      "source": [
        "# Check shape for keras input:\n",
        "preprocessor(X_train).shape "
      ],
      "metadata": {
        "colab": {
          "base_uri": "https://localhost:8080/"
        },
        "id": "wtZt6CzzlWPL",
        "outputId": "935d4324-42c0-4f7f-e725-b8c987a774e3"
      },
      "execution_count": 8,
      "outputs": [
        {
          "output_type": "execute_result",
          "data": {
            "text/plain": [
              "(16512, 8)"
            ]
          },
          "metadata": {},
          "execution_count": 8
        }
      ]
    },
    {
      "cell_type": "code",
      "execution_count": 9,
      "metadata": {
        "colab": {
          "base_uri": "https://localhost:8080/",
          "height": 169
        },
        "id": "vu93VZt573hn",
        "outputId": "9a89f0ba-da11-4fa9-c41d-52229a06ac85"
      },
      "outputs": [
        {
          "output_type": "execute_result",
          "data": {
            "text/html": [
              "\n",
              "  <div id=\"df-31a26dc4-a786-46c9-8fa2-1df9005c11f1\">\n",
              "    <div class=\"colab-df-container\">\n",
              "      <div>\n",
              "<style scoped>\n",
              "    .dataframe tbody tr th:only-of-type {\n",
              "        vertical-align: middle;\n",
              "    }\n",
              "\n",
              "    .dataframe tbody tr th {\n",
              "        vertical-align: top;\n",
              "    }\n",
              "\n",
              "    .dataframe thead th {\n",
              "        text-align: right;\n",
              "    }\n",
              "</style>\n",
              "<table border=\"1\" class=\"dataframe\">\n",
              "  <thead>\n",
              "    <tr style=\"text-align: right;\">\n",
              "      <th></th>\n",
              "      <th>MedInc</th>\n",
              "      <th>HouseAge</th>\n",
              "      <th>AveRooms</th>\n",
              "      <th>AveBedrms</th>\n",
              "      <th>Population</th>\n",
              "      <th>AveOccup</th>\n",
              "      <th>Latitude</th>\n",
              "      <th>Longitude</th>\n",
              "    </tr>\n",
              "  </thead>\n",
              "  <tbody>\n",
              "    <tr>\n",
              "      <th>4420</th>\n",
              "      <td>2.4038</td>\n",
              "      <td>46.0</td>\n",
              "      <td>3.612654</td>\n",
              "      <td>1.084877</td>\n",
              "      <td>2371.0</td>\n",
              "      <td>3.658951</td>\n",
              "      <td>34.07</td>\n",
              "      <td>-118.26</td>\n",
              "    </tr>\n",
              "    <tr>\n",
              "      <th>1413</th>\n",
              "      <td>4.4750</td>\n",
              "      <td>43.0</td>\n",
              "      <td>5.635659</td>\n",
              "      <td>0.906977</td>\n",
              "      <td>683.0</td>\n",
              "      <td>2.647287</td>\n",
              "      <td>37.94</td>\n",
              "      <td>-122.07</td>\n",
              "    </tr>\n",
              "    <tr>\n",
              "      <th>1130</th>\n",
              "      <td>3.0000</td>\n",
              "      <td>31.0</td>\n",
              "      <td>5.277228</td>\n",
              "      <td>1.049505</td>\n",
              "      <td>794.0</td>\n",
              "      <td>2.620462</td>\n",
              "      <td>39.76</td>\n",
              "      <td>-121.65</td>\n",
              "    </tr>\n",
              "    <tr>\n",
              "      <th>15026</th>\n",
              "      <td>2.6678</td>\n",
              "      <td>34.0</td>\n",
              "      <td>5.076220</td>\n",
              "      <td>1.102134</td>\n",
              "      <td>1592.0</td>\n",
              "      <td>2.426829</td>\n",
              "      <td>32.77</td>\n",
              "      <td>-117.01</td>\n",
              "    </tr>\n",
              "    <tr>\n",
              "      <th>4707</th>\n",
              "      <td>3.2411</td>\n",
              "      <td>52.0</td>\n",
              "      <td>5.148820</td>\n",
              "      <td>1.092559</td>\n",
              "      <td>1164.0</td>\n",
              "      <td>2.112523</td>\n",
              "      <td>34.06</td>\n",
              "      <td>-118.35</td>\n",
              "    </tr>\n",
              "  </tbody>\n",
              "</table>\n",
              "</div>\n",
              "      <button class=\"colab-df-convert\" onclick=\"convertToInteractive('df-31a26dc4-a786-46c9-8fa2-1df9005c11f1')\"\n",
              "              title=\"Convert this dataframe to an interactive table.\"\n",
              "              style=\"display:none;\">\n",
              "        \n",
              "  <svg xmlns=\"http://www.w3.org/2000/svg\" height=\"24px\"viewBox=\"0 0 24 24\"\n",
              "       width=\"24px\">\n",
              "    <path d=\"M0 0h24v24H0V0z\" fill=\"none\"/>\n",
              "    <path d=\"M18.56 5.44l.94 2.06.94-2.06 2.06-.94-2.06-.94-.94-2.06-.94 2.06-2.06.94zm-11 1L8.5 8.5l.94-2.06 2.06-.94-2.06-.94L8.5 2.5l-.94 2.06-2.06.94zm10 10l.94 2.06.94-2.06 2.06-.94-2.06-.94-.94-2.06-.94 2.06-2.06.94z\"/><path d=\"M17.41 7.96l-1.37-1.37c-.4-.4-.92-.59-1.43-.59-.52 0-1.04.2-1.43.59L10.3 9.45l-7.72 7.72c-.78.78-.78 2.05 0 2.83L4 21.41c.39.39.9.59 1.41.59.51 0 1.02-.2 1.41-.59l7.78-7.78 2.81-2.81c.8-.78.8-2.07 0-2.86zM5.41 20L4 18.59l7.72-7.72 1.47 1.35L5.41 20z\"/>\n",
              "  </svg>\n",
              "      </button>\n",
              "      \n",
              "  <style>\n",
              "    .colab-df-container {\n",
              "      display:flex;\n",
              "      flex-wrap:wrap;\n",
              "      gap: 12px;\n",
              "    }\n",
              "\n",
              "    .colab-df-convert {\n",
              "      background-color: #E8F0FE;\n",
              "      border: none;\n",
              "      border-radius: 50%;\n",
              "      cursor: pointer;\n",
              "      display: none;\n",
              "      fill: #1967D2;\n",
              "      height: 32px;\n",
              "      padding: 0 0 0 0;\n",
              "      width: 32px;\n",
              "    }\n",
              "\n",
              "    .colab-df-convert:hover {\n",
              "      background-color: #E2EBFA;\n",
              "      box-shadow: 0px 1px 2px rgba(60, 64, 67, 0.3), 0px 1px 3px 1px rgba(60, 64, 67, 0.15);\n",
              "      fill: #174EA6;\n",
              "    }\n",
              "\n",
              "    [theme=dark] .colab-df-convert {\n",
              "      background-color: #3B4455;\n",
              "      fill: #D2E3FC;\n",
              "    }\n",
              "\n",
              "    [theme=dark] .colab-df-convert:hover {\n",
              "      background-color: #434B5C;\n",
              "      box-shadow: 0px 1px 3px 1px rgba(0, 0, 0, 0.15);\n",
              "      filter: drop-shadow(0px 1px 2px rgba(0, 0, 0, 0.3));\n",
              "      fill: #FFFFFF;\n",
              "    }\n",
              "  </style>\n",
              "\n",
              "      <script>\n",
              "        const buttonEl =\n",
              "          document.querySelector('#df-31a26dc4-a786-46c9-8fa2-1df9005c11f1 button.colab-df-convert');\n",
              "        buttonEl.style.display =\n",
              "          google.colab.kernel.accessAllowed ? 'block' : 'none';\n",
              "\n",
              "        async function convertToInteractive(key) {\n",
              "          const element = document.querySelector('#df-31a26dc4-a786-46c9-8fa2-1df9005c11f1');\n",
              "          const dataTable =\n",
              "            await google.colab.kernel.invokeFunction('convertToInteractive',\n",
              "                                                     [key], {});\n",
              "          if (!dataTable) return;\n",
              "\n",
              "          const docLinkHtml = 'Like what you see? Visit the ' +\n",
              "            '<a target=\"_blank\" href=https://colab.research.google.com/notebooks/data_table.ipynb>data table notebook</a>'\n",
              "            + ' to learn more about interactive tables.';\n",
              "          element.innerHTML = '';\n",
              "          dataTable['output_type'] = 'display_data';\n",
              "          await google.colab.output.renderOutput(dataTable, element);\n",
              "          const docLink = document.createElement('div');\n",
              "          docLink.innerHTML = docLinkHtml;\n",
              "          element.appendChild(docLink);\n",
              "        }\n",
              "      </script>\n",
              "    </div>\n",
              "  </div>\n",
              "  "
            ],
            "text/plain": [
              "       MedInc  HouseAge  AveRooms  ...  AveOccup  Latitude  Longitude\n",
              "4420   2.4038      46.0  3.612654  ...  3.658951     34.07    -118.26\n",
              "1413   4.4750      43.0  5.635659  ...  2.647287     37.94    -122.07\n",
              "1130   3.0000      31.0  5.277228  ...  2.620462     39.76    -121.65\n",
              "15026  2.6678      34.0  5.076220  ...  2.426829     32.77    -117.01\n",
              "4707   3.2411      52.0  5.148820  ...  2.112523     34.06    -118.35\n",
              "\n",
              "[5 rows x 8 columns]"
            ]
          },
          "metadata": {},
          "execution_count": 9
        }
      ],
      "source": [
        "#Save Example Data \n",
        "example_data = X_train[50:55]\n",
        "example_data"
      ]
    },
    {
      "cell_type": "markdown",
      "metadata": {
        "id": "WHYKrh1z9sUU"
      },
      "source": [
        "### **Train Placeholder Model** <br>\n",
        "Linear Regression"
      ]
    },
    {
      "cell_type": "code",
      "execution_count": 10,
      "metadata": {
        "id": "_l9c6xpL9zuh",
        "colab": {
          "base_uri": "https://localhost:8080/"
        },
        "outputId": "d1af55db-71e4-48a6-a36a-c8f442a9c44f"
      },
      "outputs": [
        {
          "output_type": "stream",
          "name": "stdout",
          "text": [
            "Training set score: 0.61\n",
            "Test set score: 0.58\n"
          ]
        },
        {
          "output_type": "execute_result",
          "data": {
            "text/plain": [
              "0.6112619726475526"
            ]
          },
          "metadata": {},
          "execution_count": 10
        }
      ],
      "source": [
        "from sklearn.linear_model import LinearRegression\n",
        "from sklearn.metrics import r2_score\n",
        "import numpy as np \n",
        "\n",
        "lr = LinearRegression().fit(preprocessor(X_train), y_train)\n",
        "\n",
        "# Let’s look at the training set and test set performance using r squared:\n",
        "print(\"Training set score: {:.2f}\".format(lr.score(preprocessor(X_train), y_train)))\n",
        "print(\"Test set score: {:.2f}\".format(lr.score(preprocessor(X_test), y_test)))\n",
        "\n",
        "#cross validation\n",
        "from sklearn.model_selection import cross_val_score\n",
        "np.mean(cross_val_score(LinearRegression(), X_train, y_train, cv=10))"
      ]
    },
    {
      "cell_type": "markdown",
      "metadata": {
        "id": "gSErcape9sZJ"
      },
      "source": [
        "**Save Preprocessor & Model to local files**"
      ]
    },
    {
      "cell_type": "code",
      "execution_count": 11,
      "metadata": {
        "colab": {
          "base_uri": "https://localhost:8080/"
        },
        "id": "9zwUoiZs-C-5",
        "outputId": "3076831a-b52f-4f8d-85b3-764e9fca4a25"
      },
      "outputs": [
        {
          "output_type": "stream",
          "name": "stdout",
          "text": [
            "Your preprocessor is now saved to 'preprocessor.zip'\n"
          ]
        }
      ],
      "source": [
        "#export preprocessor\n",
        "import aimodelshare as ai\n",
        "ai.export_preprocessor(preprocessor,\"\")"
      ]
    },
    {
      "cell_type": "code",
      "execution_count": 12,
      "metadata": {
        "colab": {
          "base_uri": "https://localhost:8080/"
        },
        "id": "xwAi0yjXp65J",
        "outputId": "45f0215b-6a54-4758-eb46-1aa1a28099cf"
      },
      "outputs": [
        {
          "output_type": "execute_result",
          "data": {
            "text/plain": [
              "(5, 8)"
            ]
          },
          "metadata": {},
          "execution_count": 12
        }
      ],
      "source": [
        "# Test Preprocessor\n",
        "prep = ai.import_preprocessor(\"preprocessor.zip\")\n",
        "prep(example_data).shape"
      ]
    },
    {
      "cell_type": "code",
      "execution_count": 13,
      "metadata": {
        "id": "JPRdPOBc-Gti"
      },
      "outputs": [],
      "source": [
        "# Save sklearn model to ONNX file \n",
        "from aimodelshare.aimsonnx import model_to_onnx\n",
        "\n",
        "# Check how many preprocessed input features there are\n",
        "from skl2onnx.common.data_types import FloatTensorType\n",
        "\n",
        "feature_count=preprocessor(X_test).shape[1]\n",
        "initial_type = [('float_input', FloatTensorType([None, feature_count]))]  # Insert correct number of features in preprocessed data\n",
        "\n",
        "onnx_model = model_to_onnx(lr, framework='sklearn',\n",
        "                          initial_types=initial_type,\n",
        "                          transfer_learning=False,\n",
        "                          deep_learning=False)\n",
        "\n",
        "with open(\"model.onnx\", \"wb\") as f:\n",
        "    f.write(onnx_model.SerializeToString())"
      ]
    },
    {
      "cell_type": "markdown",
      "metadata": {
        "id": "AekJ1-Pm9XRD"
      },
      "source": [
        "# **Part 2: Deploy Model**"
      ]
    },
    {
      "cell_type": "code",
      "execution_count": 14,
      "metadata": {
        "id": "VgwHGLuN-PJK"
      },
      "outputs": [],
      "source": [
        "#Set up arguments for Model Playground deployment\n",
        "import pandas as pd \n",
        "\n",
        "model_filepath=\"model.onnx\"\n",
        "preprocessor_filepath=\"preprocessor.zip\"\n",
        "exampledata = example_data"
      ]
    },
    {
      "cell_type": "code",
      "execution_count": 15,
      "metadata": {
        "colab": {
          "base_uri": "https://localhost:8080/"
        },
        "id": "CTlI02hX-iXR",
        "outputId": "5df47e11-f1a5-4846-da55-b00342995231"
      },
      "outputs": [
        {
          "output_type": "stream",
          "name": "stdout",
          "text": [
            "We need some information about your model before we can build your REST API and interactive Model Playground.\n",
            "   \n",
            "Model Name (for AI Model Share Website):CA Housing Prediction\n",
            "Model Description (Explain what your model does and \n",
            " why end-users would find your model useful):Use data from the 1990 U.S. Census to predict the median house value for California districts, expressed in hundreds of thousands of dollars ($100,000).\n",
            "Model Key Words (Search categories that describe your model, separated with commas):ca housing, regression, tabular, supervised learning\n",
            "   \n",
            "Creating your prediction API. (This process may take several minutes.)\n",
            "\n",
            "[=====================================] Progress: 100% - Complete!                                            \n",
            "\n",
            "Success! Your Model Playground was created in 88 seconds. \n",
            " Playground Url: \"https://hcvbryu1a3.execute-api.us-east-1.amazonaws.com/prod/m\"\n",
            "\n",
            "You can now use your Model Playground.\n",
            "\n",
            "Follow this link to explore your Model Playground's functionality\n",
            "You can make predictions with the Dashboard and access example code from the Programmatic tab.\n",
            "https://www.modelshare.org/detail/model:1397\n"
          ]
        }
      ],
      "source": [
        "#Deploy API\n",
        "from aimodelshare import ModelPlayground\n",
        "\n",
        "#Instantiate ModelPlayground() Class\n",
        "myplayground=ModelPlayground(model_type=\"tabular\", classification=False, private=False)\n",
        "\n",
        "# Create Model Playground (generates live rest api and web-app for your model/preprocessor)\n",
        "myplayground.deploy(model_filepath, preprocessor_filepath, y_train, exampledata) "
      ]
    },
    {
      "cell_type": "code",
      "execution_count": null,
      "metadata": {
        "colab": {
          "base_uri": "https://localhost:8080/",
          "height": 109
        },
        "id": "VzsXNwTH2cOS",
        "outputId": "8b201f12-b698-4ead-8639-dd7547e462ba"
      },
      "outputs": [
        {
          "name": "stdout",
          "output_type": "stream",
          "text": [
            "Running this function will permanently delete all resources tied to this deployment, \n",
            " including the eval lambda and all models submitted to the model competition.\n",
            "\n",
            "To confirm, type 'permanently delete':permanently delete\n"
          ]
        },
        {
          "data": {
            "application/vnd.google.colaboratory.intrinsic+json": {
              "type": "string"
            },
            "text/plain": [
              "'API deleted successfully.'"
            ]
          },
          "execution_count": 24,
          "metadata": {},
          "output_type": "execute_result"
        }
      ],
      "source": [
        "#Delete Deployment if testing: \n",
        "\n",
        "#myplayground.delete_deployment()"
      ]
    },
    {
      "cell_type": "markdown",
      "metadata": {
        "id": "ajpqc3xo2xzd"
      },
      "source": [
        "# **Part 3: Create a Competition**"
      ]
    },
    {
      "cell_type": "code",
      "execution_count": 16,
      "metadata": {
        "id": "QSW1qCCqBbFe"
      },
      "outputs": [],
      "source": [
        "# Create data directory with X_train, y_train_labels, and X_test objects: \n",
        "import os\n",
        "import shutil \n",
        "\n",
        "X_train.to_csv(\"X_train.csv\", index=False)\n",
        "X_test.to_csv(\"X_test.csv\", index=False)\n",
        "y_train.to_csv(\"y_train.csv\", index=False)\n",
        "\n",
        "os.mkdir(\"ca_housing_competition_data\")\n",
        "file_list = [\"X_train.csv\", \"X_test.csv\", \"y_train.csv\"]\n",
        "\n",
        "for file in file_list: \n",
        "  shutil.move(file, \"ca_housing_competition_data\")"
      ]
    },
    {
      "cell_type": "code",
      "execution_count": 17,
      "metadata": {
        "colab": {
          "base_uri": "https://localhost:8080/"
        },
        "id": "KI2VOEzW2w-W",
        "outputId": "980e1cfd-d873-44dd-999d-60a46ebfa982"
      },
      "outputs": [
        {
          "output_type": "stream",
          "name": "stdout",
          "text": [
            "\n",
            "--INPUT COMPETITION DETAILS--\n",
            "\n",
            "Enter competition name:CA Housing Prediction Competition\n",
            "Enter competition description:Use data from the 1990 U.S. Census to predict the median house value for California districts, expressed in hundreds of thousands of dollars ($100,000).\n",
            "\n",
            "--INPUT DATA DETAILS--\n",
            "\n",
            "Note: (optional) Save an optional LICENSE.txt file in your competition data directory to make users aware of any restrictions on data sharing/usage.\n",
            "\n",
            "Enter data description (i.e.- filenames denoting training and test data, file types, and any subfolders where files are stored):Competition data folder contains labeled X_train, X_test, and y_train files.\n",
            "Enter optional data license descriptive name (e.g.- 'MIT, Apache 2.0, CC0, Other, etc.'):\n",
            "Uploading your data. Please wait for a confirmation message.\n",
            "\n",
            " Success! Model competition created. \n",
            "\n",
            "You may now update your prediction API runtime model and verify evaluation metrics with the update_runtime_model() function.\n",
            "\n",
            "To upload new models and/or preprocessors to this API, team members should use \n",
            "the following credentials:\n",
            "\n",
            "apiurl='https://hcvbryu1a3.execute-api.us-east-1.amazonaws.com/prod/m'\n",
            "from aimodelshare.aws import set_credentials\n",
            "set_credentials(apiurl=apiurl)\n",
            "\n",
            "They can then submit models to your competition by using the following code: \n",
            "\n",
            "competition= ai.Competition(apiurl)\n",
            "download_data('public.ecr.aws/y2e2a1d6/ca_housing_competition_data-repository:latest') \n",
            "# Use this data to preprocess data and train model. Write and save preprocessor fxn, save model to onnx file, generate predicted y values\n",
            " using X test data, then submit a model below.\n",
            "\n",
            "competition.submit_model(model_filepath, preprocessor_filepath, prediction_submission_list)\n"
          ]
        }
      ],
      "source": [
        "# Create Competition\n",
        "myplayground.create_competition(data_directory='ca_housing_competition_data', \n",
        "                                y_test = y_test,  \n",
        "                                public=True)"
      ]
    },
    {
      "cell_type": "code",
      "execution_count": 18,
      "metadata": {
        "id": "JahnggTR2-Me"
      },
      "outputs": [],
      "source": [
        "#Instantiate Competition\n",
        "#--Note: If you start a new session, the first argument should be the Model Playground url in quotes. \n",
        "#--e.g.- mycompetition= ai.Competition(\"https://2121212.execute-api.us-east-1.amazonaws.com/prod/m)\n",
        "#See Model Playground \"Compete\" tab for example model submission code.\n",
        "\n",
        "mycompetition= ai.Competition(myplayground.playground_url)"
      ]
    },
    {
      "cell_type": "code",
      "execution_count": 19,
      "metadata": {
        "id": "-8FzA3P53AZF",
        "colab": {
          "base_uri": "https://localhost:8080/"
        },
        "outputId": "e7bcc4e6-e5d4-456f-d863-12fa89eae15b"
      },
      "outputs": [
        {
          "output_type": "stream",
          "name": "stdout",
          "text": [
            "AI Modelshare Username:··········\n",
            "AI Modelshare Password:··········\n",
            "AI Model Share login credentials set successfully.\n"
          ]
        }
      ],
      "source": [
        "#Authorized users can submit new models after setting credentials using modelshare.org username/password\n",
        "from aimodelshare.aws import set_credentials \n",
        "\n",
        "apiurl=myplayground.playground_url # example url from deployed playground: apiurl= \"https://123456.execute-api.us-east-1.amazonaws.com/prod/m\n",
        "\n",
        "set_credentials(apiurl=apiurl)"
      ]
    },
    {
      "cell_type": "code",
      "execution_count": 20,
      "metadata": {
        "id": "Gam1PpwT3D8F",
        "colab": {
          "base_uri": "https://localhost:8080/"
        },
        "outputId": "ae298e41-df97-4de0-ed51-729e46c00faf"
      },
      "outputs": [
        {
          "output_type": "stream",
          "name": "stdout",
          "text": [
            "Insert search tags to help users find your model (optional): \n",
            "Provide any useful notes about your model (optional): \n",
            "\n",
            "Your model has been submitted as model version 1\n",
            "\n",
            "To submit code used to create this model or to view current leaderboard navigate to Model Playground: \n",
            "\n",
            " https://www.modelshare.org/detail/model:1397\n"
          ]
        }
      ],
      "source": [
        "# Optional: Submit Model 1: \n",
        "\n",
        "#-- Generate predicted values (a list of predicted house values, in hundreds of thousands) (Model 1)\n",
        "predicted_values = lr.predict(preprocessor(X_test))\n",
        "\n",
        "# Submit Model 1 to Competition Leaderboard\n",
        "mycompetition.submit_model(model_filepath = \"model.onnx\",\n",
        "                                 preprocessor_filepath=\"preprocessor.zip\",\n",
        "                                 prediction_submission=predicted_values)"
      ]
    },
    {
      "cell_type": "markdown",
      "source": [
        "Update Runtime model\n",
        "\n",
        "*Use this function to 1) update the prediction API behind your Model Playground with a new model, chosen from the leaderboard and 2) verify the modelperformance metrics in your Model Playground*"
      ],
      "metadata": {
        "id": "uEGw9MWIpQhs"
      }
    },
    {
      "cell_type": "code",
      "execution_count": 21,
      "metadata": {
        "colab": {
          "base_uri": "https://localhost:8080/"
        },
        "id": "M7Yv3q6dcJbV",
        "outputId": "7a210e82-b479-4592-d63e-5deee4d7e616"
      },
      "outputs": [
        {
          "output_type": "stream",
          "name": "stdout",
          "text": [
            "Runtime model & preprocessor for api: https://hcvbryu1a3.execute-api.us-east-1.amazonaws.com/prod/m updated to model version 1.\n",
            "\n",
            "Model metrics are now updated and verified for this model playground.\n"
          ]
        }
      ],
      "source": [
        "import aimodelshare as ai\n",
        "myplayground=ai.ModelPlayground(playground_url=\"https://hcvbryu1a3.execute-api.us-east-1.amazonaws.com/prod/m\")\n",
        "myplayground.update_runtime_model(model_version=1)"
      ]
    }
  ],
  "metadata": {
    "colab": {
      "name": "California_Housing_Deployment_and_Competition_Creation.ipynb",
      "provenance": [],
      "collapsed_sections": []
    },
    "kernelspec": {
      "display_name": "Python 3",
      "name": "python3"
    },
    "language_info": {
      "name": "python"
    }
  },
  "nbformat": 4,
  "nbformat_minor": 0
}