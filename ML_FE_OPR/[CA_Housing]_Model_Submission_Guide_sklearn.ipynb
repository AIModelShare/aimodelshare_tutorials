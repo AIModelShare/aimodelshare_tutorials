{
  "nbformat": 4,
  "nbformat_minor": 0,
  "metadata": {
    "colab": {
      "name": "[CA Housing] Model Submission Guide - sklearn.ipynb",
      "provenance": [],
      "collapsed_sections": []
    },
    "kernelspec": {
      "name": "python3",
      "display_name": "Python 3"
    },
    "language_info": {
      "name": "python"
    }
  },
  "cells": [
    {
      "cell_type": "markdown",
      "source": [
        "<p align=\"center\"><img width=\"50%\" src=\"https://aimodelsharecontent.s3.amazonaws.com/aimodshare_banner.jpg\" /></p>\n",
        "\n",
        "\n",
        "---\n"
      ],
      "metadata": {
        "id": "m_DMeZsXxpEZ"
      }
    },
    {
      "cell_type": "markdown",
      "metadata": {
        "id": "JXxGTgJz152A"
      },
      "source": [
        "<p align=\"center\"><h1 align=\"center\">California Housing Model Submission Guide\n",
        "\n",
        "##### <p align=\"center\">*Source: Sklearn [California Housing Dataset](https://scikit-learn.org/stable/datasets/real_world.html#california-housing-dataset)* \n",
        "\n",
        "---\n",
        "Let's share our models to a centralized leaderboard, so that we can collaborate and learn from the model experimentation process...\n",
        "\n",
        "**Instructions:**\n",
        "1.   Get data in and set up X_train / X_test / y_train\n",
        "2.   Preprocess data  with Sklearn Column Transformer/ Write and Save Preprocessor function\n",
        "3. Fit model on preprocessed data and save preprocessor function and model \n",
        "4. Generate predictions from X_test data and submit model to competition\n",
        "5. Repeat submission process to improve place on leaderboard\n",
        "\n"
      ]
    },
    {
      "cell_type": "markdown",
      "source": [
        "**Objective:** Predict median house value for California districts, expressed in hundreds of thousands of dollars\n",
        "\n",
        "**Data**: 1990 Census attributes by Block Group. \n",
        "(A block group is the smallest geographical unit for which the U.S. Census Bureau publishes sample data. A block group typically has a population of 600 to 3,000 people.) \n",
        "\n",
        "**Features**\n",
        "* **MedInc** median income in block group\n",
        "* **HouseAge** median house age in block group\n",
        "* **AveRooms** average number of rooms per household\n",
        "* **AveBedrms** average number of bedrooms per household\n",
        "* **Population** block group population\n",
        "* **AveOccup** average number of household members\n",
        "* **Latitude** block group latitude\n",
        "* **Longitude** block group longitude\n",
        "\n",
        "**Target**\n",
        "*   Median house value for California districts, expressed in hundreds of thousands of dollars ($100,000)"
      ],
      "metadata": {
        "id": "HhTeBxIWvgmw"
      }
    },
    {
      "cell_type": "markdown",
      "metadata": {
        "id": "5gSrVJwp3E9H"
      },
      "source": [
        "## 1. Get data in and set up X_train, X_test, y_train objects"
      ]
    },
    {
      "cell_type": "code",
      "metadata": {
        "id": "PLTIaMB3ChSW"
      },
      "source": [
        "#install aimodelshare library\n",
        "! pip install aimodelshare --upgrade"
      ],
      "execution_count": null,
      "outputs": []
    },
    {
      "cell_type": "code",
      "metadata": {
        "colab": {
          "base_uri": "https://localhost:8080/"
        },
        "id": "d3PiJXBhC5y-",
        "outputId": "8ae16123-a1f0-4b38-9624-f966a8be8cb2"
      },
      "source": [
        "# Get competition data\n",
        "from aimodelshare import download_data\n",
        "download_data('public.ecr.aws/y2e2a1d6/ca_housing_competition_data-repository:latest') "
      ],
      "execution_count": 31,
      "outputs": [
        {
          "output_type": "stream",
          "name": "stdout",
          "text": [
            "Downloading [==========================================>      ]\n",
            "\n",
            "Data downloaded successfully.\n"
          ]
        }
      ]
    },
    {
      "cell_type": "code",
      "metadata": {
        "colab": {
          "base_uri": "https://localhost:8080/",
          "height": 169
        },
        "id": "jT0qFCZFNzHq",
        "outputId": "287c0ea8-0b22-4578-bf18-b25b756e7a89"
      },
      "source": [
        "# Load data into X_train, y_train, and X_test objects\n",
        "import pandas as pd\n",
        "\n",
        "X_train = pd.read_csv(\"ca_housing_competition_data/X_train.csv\")\n",
        "y_train = pd.read_csv(\"ca_housing_competition_data/y_train.csv\", squeeze=True)\n",
        "\n",
        "X_test=pd.read_csv(\"ca_housing_competition_data/X_test.csv\")\n",
        "\n",
        "X_train.head()"
      ],
      "execution_count": 32,
      "outputs": [
        {
          "output_type": "execute_result",
          "data": {
            "text/html": [
              "\n",
              "  <div id=\"df-e12d4bde-8ebb-47eb-a406-57266e63873b\">\n",
              "    <div class=\"colab-df-container\">\n",
              "      <div>\n",
              "<style scoped>\n",
              "    .dataframe tbody tr th:only-of-type {\n",
              "        vertical-align: middle;\n",
              "    }\n",
              "\n",
              "    .dataframe tbody tr th {\n",
              "        vertical-align: top;\n",
              "    }\n",
              "\n",
              "    .dataframe thead th {\n",
              "        text-align: right;\n",
              "    }\n",
              "</style>\n",
              "<table border=\"1\" class=\"dataframe\">\n",
              "  <thead>\n",
              "    <tr style=\"text-align: right;\">\n",
              "      <th></th>\n",
              "      <th>MedInc</th>\n",
              "      <th>HouseAge</th>\n",
              "      <th>AveRooms</th>\n",
              "      <th>AveBedrms</th>\n",
              "      <th>Population</th>\n",
              "      <th>AveOccup</th>\n",
              "      <th>Latitude</th>\n",
              "      <th>Longitude</th>\n",
              "    </tr>\n",
              "  </thead>\n",
              "  <tbody>\n",
              "    <tr>\n",
              "      <th>0</th>\n",
              "      <td>3.2596</td>\n",
              "      <td>33.0</td>\n",
              "      <td>5.017657</td>\n",
              "      <td>1.006421</td>\n",
              "      <td>2300.0</td>\n",
              "      <td>3.691814</td>\n",
              "      <td>32.71</td>\n",
              "      <td>-117.03</td>\n",
              "    </tr>\n",
              "    <tr>\n",
              "      <th>1</th>\n",
              "      <td>3.8125</td>\n",
              "      <td>49.0</td>\n",
              "      <td>4.473545</td>\n",
              "      <td>1.041005</td>\n",
              "      <td>1314.0</td>\n",
              "      <td>1.738095</td>\n",
              "      <td>33.77</td>\n",
              "      <td>-118.16</td>\n",
              "    </tr>\n",
              "    <tr>\n",
              "      <th>2</th>\n",
              "      <td>4.1563</td>\n",
              "      <td>4.0</td>\n",
              "      <td>5.645833</td>\n",
              "      <td>0.985119</td>\n",
              "      <td>915.0</td>\n",
              "      <td>2.723214</td>\n",
              "      <td>34.66</td>\n",
              "      <td>-120.48</td>\n",
              "    </tr>\n",
              "    <tr>\n",
              "      <th>3</th>\n",
              "      <td>1.9425</td>\n",
              "      <td>36.0</td>\n",
              "      <td>4.002817</td>\n",
              "      <td>1.033803</td>\n",
              "      <td>1418.0</td>\n",
              "      <td>3.994366</td>\n",
              "      <td>32.69</td>\n",
              "      <td>-117.11</td>\n",
              "    </tr>\n",
              "    <tr>\n",
              "      <th>4</th>\n",
              "      <td>3.5542</td>\n",
              "      <td>43.0</td>\n",
              "      <td>6.268421</td>\n",
              "      <td>1.134211</td>\n",
              "      <td>874.0</td>\n",
              "      <td>2.300000</td>\n",
              "      <td>36.78</td>\n",
              "      <td>-119.80</td>\n",
              "    </tr>\n",
              "  </tbody>\n",
              "</table>\n",
              "</div>\n",
              "      <button class=\"colab-df-convert\" onclick=\"convertToInteractive('df-e12d4bde-8ebb-47eb-a406-57266e63873b')\"\n",
              "              title=\"Convert this dataframe to an interactive table.\"\n",
              "              style=\"display:none;\">\n",
              "        \n",
              "  <svg xmlns=\"http://www.w3.org/2000/svg\" height=\"24px\"viewBox=\"0 0 24 24\"\n",
              "       width=\"24px\">\n",
              "    <path d=\"M0 0h24v24H0V0z\" fill=\"none\"/>\n",
              "    <path d=\"M18.56 5.44l.94 2.06.94-2.06 2.06-.94-2.06-.94-.94-2.06-.94 2.06-2.06.94zm-11 1L8.5 8.5l.94-2.06 2.06-.94-2.06-.94L8.5 2.5l-.94 2.06-2.06.94zm10 10l.94 2.06.94-2.06 2.06-.94-2.06-.94-.94-2.06-.94 2.06-2.06.94z\"/><path d=\"M17.41 7.96l-1.37-1.37c-.4-.4-.92-.59-1.43-.59-.52 0-1.04.2-1.43.59L10.3 9.45l-7.72 7.72c-.78.78-.78 2.05 0 2.83L4 21.41c.39.39.9.59 1.41.59.51 0 1.02-.2 1.41-.59l7.78-7.78 2.81-2.81c.8-.78.8-2.07 0-2.86zM5.41 20L4 18.59l7.72-7.72 1.47 1.35L5.41 20z\"/>\n",
              "  </svg>\n",
              "      </button>\n",
              "      \n",
              "  <style>\n",
              "    .colab-df-container {\n",
              "      display:flex;\n",
              "      flex-wrap:wrap;\n",
              "      gap: 12px;\n",
              "    }\n",
              "\n",
              "    .colab-df-convert {\n",
              "      background-color: #E8F0FE;\n",
              "      border: none;\n",
              "      border-radius: 50%;\n",
              "      cursor: pointer;\n",
              "      display: none;\n",
              "      fill: #1967D2;\n",
              "      height: 32px;\n",
              "      padding: 0 0 0 0;\n",
              "      width: 32px;\n",
              "    }\n",
              "\n",
              "    .colab-df-convert:hover {\n",
              "      background-color: #E2EBFA;\n",
              "      box-shadow: 0px 1px 2px rgba(60, 64, 67, 0.3), 0px 1px 3px 1px rgba(60, 64, 67, 0.15);\n",
              "      fill: #174EA6;\n",
              "    }\n",
              "\n",
              "    [theme=dark] .colab-df-convert {\n",
              "      background-color: #3B4455;\n",
              "      fill: #D2E3FC;\n",
              "    }\n",
              "\n",
              "    [theme=dark] .colab-df-convert:hover {\n",
              "      background-color: #434B5C;\n",
              "      box-shadow: 0px 1px 3px 1px rgba(0, 0, 0, 0.15);\n",
              "      filter: drop-shadow(0px 1px 2px rgba(0, 0, 0, 0.3));\n",
              "      fill: #FFFFFF;\n",
              "    }\n",
              "  </style>\n",
              "\n",
              "      <script>\n",
              "        const buttonEl =\n",
              "          document.querySelector('#df-e12d4bde-8ebb-47eb-a406-57266e63873b button.colab-df-convert');\n",
              "        buttonEl.style.display =\n",
              "          google.colab.kernel.accessAllowed ? 'block' : 'none';\n",
              "\n",
              "        async function convertToInteractive(key) {\n",
              "          const element = document.querySelector('#df-e12d4bde-8ebb-47eb-a406-57266e63873b');\n",
              "          const dataTable =\n",
              "            await google.colab.kernel.invokeFunction('convertToInteractive',\n",
              "                                                     [key], {});\n",
              "          if (!dataTable) return;\n",
              "\n",
              "          const docLinkHtml = 'Like what you see? Visit the ' +\n",
              "            '<a target=\"_blank\" href=https://colab.research.google.com/notebooks/data_table.ipynb>data table notebook</a>'\n",
              "            + ' to learn more about interactive tables.';\n",
              "          element.innerHTML = '';\n",
              "          dataTable['output_type'] = 'display_data';\n",
              "          await google.colab.output.renderOutput(dataTable, element);\n",
              "          const docLink = document.createElement('div');\n",
              "          docLink.innerHTML = docLinkHtml;\n",
              "          element.appendChild(docLink);\n",
              "        }\n",
              "      </script>\n",
              "    </div>\n",
              "  </div>\n",
              "  "
            ],
            "text/plain": [
              "   MedInc  HouseAge  AveRooms  ...  AveOccup  Latitude  Longitude\n",
              "0  3.2596      33.0  5.017657  ...  3.691814     32.71    -117.03\n",
              "1  3.8125      49.0  4.473545  ...  1.738095     33.77    -118.16\n",
              "2  4.1563       4.0  5.645833  ...  2.723214     34.66    -120.48\n",
              "3  1.9425      36.0  4.002817  ...  3.994366     32.69    -117.11\n",
              "4  3.5542      43.0  6.268421  ...  2.300000     36.78    -119.80\n",
              "\n",
              "[5 rows x 8 columns]"
            ]
          },
          "metadata": {},
          "execution_count": 32
        }
      ]
    },
    {
      "cell_type": "code",
      "source": [
        "print(X_train.shape)\n",
        "print(X_test.shape)\n",
        "print(y_train.shape)"
      ],
      "metadata": {
        "colab": {
          "base_uri": "https://localhost:8080/"
        },
        "id": "Uq_XUtjYxamD",
        "outputId": "7a3b0b60-9540-40c0-dc35-ec93571552f4"
      },
      "execution_count": 33,
      "outputs": [
        {
          "output_type": "stream",
          "name": "stdout",
          "text": [
            "(16512, 8)\n",
            "(4128, 8)\n",
            "(16512,)\n"
          ]
        }
      ]
    },
    {
      "cell_type": "markdown",
      "metadata": {
        "id": "gEzPoXPj3V7u"
      },
      "source": [
        "##2.   Preprocess data using Sklearn Column Transformer / Write and Save Preprocessor function\n"
      ]
    },
    {
      "cell_type": "code",
      "metadata": {
        "id": "A2BQMOPGCqra"
      },
      "source": [
        "# In this case we use Sklearn's Column transformer in our preprocessor function\n",
        "\n",
        "from sklearn.preprocessing import StandardScaler\n",
        "from sklearn.compose import ColumnTransformer, make_column_transformer\n",
        "from sklearn.pipeline import Pipeline\n",
        "from sklearn.impute import SimpleImputer\n",
        "from sklearn.preprocessing import StandardScaler\n",
        "\n",
        "# Create the preprocessing pipeline for both numeric data.\n",
        "numeric_features=X_train.columns.tolist()\n",
        "\n",
        "numeric_transformer = Pipeline(steps=[\n",
        "    ('imputer', SimpleImputer(strategy='median')),\n",
        "    ('scaler', StandardScaler())])\n",
        "\n",
        "# final preprocessor object set up with ColumnTransformer\n",
        "preprocessor = ColumnTransformer(\n",
        "    transformers=[('num', numeric_transformer, numeric_features)])\n",
        "\n",
        "#Fit your preprocessor object\n",
        "preprocess=preprocessor.fit(X_train) "
      ],
      "execution_count": 6,
      "outputs": []
    },
    {
      "cell_type": "code",
      "metadata": {
        "id": "16QV9Y9TC3B3"
      },
      "source": [
        "# Write function to transform data with preprocessor\n",
        "\n",
        "def preprocessor(data):\n",
        "    preprocessed_data=preprocess.transform(data)\n",
        "    return preprocessed_data"
      ],
      "execution_count": 7,
      "outputs": []
    },
    {
      "cell_type": "code",
      "source": [
        "# check shape of X data \n",
        "preprocessor(X_train).shape"
      ],
      "metadata": {
        "colab": {
          "base_uri": "https://localhost:8080/"
        },
        "id": "3FKeaMZK88Xt",
        "outputId": "f88efb29-a37c-4b8b-e5f8-c56c1eb057cd"
      },
      "execution_count": 8,
      "outputs": [
        {
          "output_type": "execute_result",
          "data": {
            "text/plain": [
              "(16512, 8)"
            ]
          },
          "metadata": {},
          "execution_count": 8
        }
      ]
    },
    {
      "cell_type": "markdown",
      "metadata": {
        "id": "X52kECL43b-O"
      },
      "source": [
        "##3. Fit model on preprocessed data and save preprocessor function and model \n"
      ]
    },
    {
      "cell_type": "code",
      "metadata": {
        "colab": {
          "base_uri": "https://localhost:8080/"
        },
        "id": "NCbBf8j9ClYl",
        "outputId": "de7b40a3-573b-4583-cac5-fa71c641a196"
      },
      "source": [
        "from sklearn.ensemble import RandomForestRegressor\n",
        "from sklearn.metrics import r2_score\n",
        "\n",
        "model = RandomForestRegressor(n_estimators = 500, max_depth = 3, random_state=0)\n",
        "model.fit(preprocessor(X_train), y_train) # Fitting to the training set.\n",
        "model_predictions = model.predict(preprocessor(X_train))\n",
        "r2_score(model_predictions, y_train)"
      ],
      "execution_count": 13,
      "outputs": [
        {
          "output_type": "execute_result",
          "data": {
            "text/plain": [
              "0.14724751823359472"
            ]
          },
          "metadata": {},
          "execution_count": 13
        }
      ]
    },
    {
      "cell_type": "markdown",
      "metadata": {
        "id": "zmJAnmO-5AcU"
      },
      "source": [
        "#### Save preprocessor function to local \"preprocessor.zip\" file"
      ]
    },
    {
      "cell_type": "code",
      "metadata": {
        "colab": {
          "base_uri": "https://localhost:8080/"
        },
        "id": "4VGacc0LDaMA",
        "outputId": "871a8eac-6d26-4042-fc16-e87cf1c00bab"
      },
      "source": [
        "import aimodelshare as ai\n",
        "ai.export_preprocessor(preprocessor,\"\") "
      ],
      "execution_count": 14,
      "outputs": [
        {
          "output_type": "stream",
          "name": "stdout",
          "text": [
            "Your preprocessor is now saved to 'preprocessor.zip'\n"
          ]
        }
      ]
    },
    {
      "cell_type": "markdown",
      "metadata": {
        "id": "oOWBa8Cv5LdL"
      },
      "source": [
        "#### Save model to local \".onnx\" file"
      ]
    },
    {
      "cell_type": "code",
      "metadata": {
        "id": "pEhvnRiQDlY5"
      },
      "source": [
        "# Save sklearn model to local ONNX file\n",
        "from aimodelshare.aimsonnx import model_to_onnx\n",
        "\n",
        "# Check how many preprocessed input features there are\n",
        "from skl2onnx.common.data_types import FloatTensorType\n",
        "\n",
        "feature_count=preprocessor(X_test).shape[1]\n",
        "initial_type = [('float_input', FloatTensorType([None, feature_count]))]  # Insert correct number of features in preprocessed data\n",
        "\n",
        "onnx_model = model_to_onnx(model, framework='sklearn',\n",
        "                          initial_types=initial_type,\n",
        "                          transfer_learning=False,\n",
        "                          deep_learning=False)\n",
        "\n",
        "\n",
        "with open(\"model.onnx\", \"wb\") as f:\n",
        "    f.write(onnx_model.SerializeToString())"
      ],
      "execution_count": 15,
      "outputs": []
    },
    {
      "cell_type": "markdown",
      "metadata": {
        "id": "gHWkAzvX3m8O"
      },
      "source": [
        "## 4. Generate predictions from X_test data and submit model to competition\n"
      ]
    },
    {
      "cell_type": "code",
      "metadata": {
        "colab": {
          "base_uri": "https://localhost:8080/"
        },
        "id": "RtgkM02MDpkO",
        "outputId": "96b87b9c-4b98-4d2d-b125-3be6872b0148"
      },
      "source": [
        "#Set credentials using modelshare.org username/password\n",
        "\n",
        "from aimodelshare.aws import set_credentials\n",
        "    \n",
        "apiurl=\"https://hcvbryu1a3.execute-api.us-east-1.amazonaws.com/prod/m\" \n",
        "#This is the unique rest api that powers this CA Housing Prediction Playground\n",
        "\n",
        "set_credentials(apiurl=apiurl)"
      ],
      "execution_count": 16,
      "outputs": [
        {
          "output_type": "stream",
          "name": "stdout",
          "text": [
            "AI Modelshare Username:··········\n",
            "AI Modelshare Password:··········\n",
            "AI Model Share login credentials set successfully.\n"
          ]
        }
      ]
    },
    {
      "cell_type": "code",
      "metadata": {
        "id": "fKNGSww8EGgi"
      },
      "source": [
        "#Instantiate Competition\n",
        "import aimodelshare as ai\n",
        "mycompetition= ai.Competition(apiurl)"
      ],
      "execution_count": 17,
      "outputs": []
    },
    {
      "cell_type": "code",
      "metadata": {
        "id": "_Ql4wksyEUnP",
        "colab": {
          "base_uri": "https://localhost:8080/"
        },
        "outputId": "3e2bc4bd-4d71-4146-ba34-93e0f20ac032"
      },
      "source": [
        "#Submit Model 1: \n",
        "\n",
        "#-- Generate predicted values (a list of predicted car prices) (Model 1)\n",
        "predicted_values = model.predict(preprocessor(X_test))\n",
        "\n",
        "# Submit Model 1 to Competition Leaderboard\n",
        "mycompetition.submit_model(model_filepath = \"model.onnx\",\n",
        "                                 preprocessor_filepath=\"preprocessor.zip\",\n",
        "                                 prediction_submission=predicted_values)"
      ],
      "execution_count": 18,
      "outputs": [
        {
          "output_type": "stream",
          "name": "stdout",
          "text": [
            "Insert search tags to help users find your model (optional): \n",
            "Provide any useful notes about your model (optional): \n",
            "\n",
            "Your model has been submitted as model version 2\n",
            "\n",
            "To submit code used to create this model or to view current leaderboard navigate to Model Playground: \n",
            "\n",
            " https://www.modelshare.org/detail/model:1394\n"
          ]
        }
      ]
    },
    {
      "cell_type": "code",
      "metadata": {
        "colab": {
          "base_uri": "https://localhost:8080/",
          "height": 155
        },
        "id": "GN1zvAmNEq17",
        "outputId": "9fc7a027-0753-4d3d-a0ed-c0d14a332bf0"
      },
      "source": [
        "# Get leaderboard to explore current best model architectures\n",
        "\n",
        "# Get raw data in pandas data frame\n",
        "data = mycompetition.get_leaderboard()\n",
        "\n",
        "# Stylize leaderboard data\n",
        "mycompetition.stylize_leaderboard(data)"
      ],
      "execution_count": 19,
      "outputs": [
        {
          "output_type": "execute_result",
          "data": {
            "text/html": [
              "<style type=\"text/css\">\n",
              "#T_015aa_row0_col0 {\n",
              "  text-align: center;\n",
              "  width: 10em;\n",
              "  height: 80%;\n",
              "  background: linear-gradient(90deg,#f5f8d6 92.5%, transparent 92.5%);\n",
              "  color: #251e1b;\n",
              "  font-size: 12px;\n",
              "}\n",
              "#T_015aa_row0_col1 {\n",
              "  text-align: center;\n",
              "  width: 10em;\n",
              "  height: 80%;\n",
              "  background: linear-gradient(90deg,#c778c8 96.2%, transparent 96.2%);\n",
              "  color: #251e1b;\n",
              "  font-size: 12px;\n",
              "}\n",
              "#T_015aa_row0_col2 {\n",
              "  text-align: center;\n",
              "  width: 10em;\n",
              "  height: 80%;\n",
              "  background: linear-gradient(90deg,#ff4971 91.9%, transparent 91.9%);\n",
              "  color: #251e1b;\n",
              "  font-size: 12px;\n",
              "}\n",
              "#T_015aa_row0_col3 {\n",
              "  text-align: center;\n",
              "  width: 10em;\n",
              "  height: 80%;\n",
              "  background: linear-gradient(90deg,#aadbaa 100.0%, transparent 100.0%);\n",
              "  color: #251e1b;\n",
              "  font-size: 12px;\n",
              "}\n",
              "#T_015aa_row0_col4, #T_015aa_row0_col5, #T_015aa_row0_col6, #T_015aa_row0_col7, #T_015aa_row0_col8, #T_015aa_row0_col9, #T_015aa_row0_col10, #T_015aa_row0_col11, #T_015aa_row1_col4, #T_015aa_row1_col5, #T_015aa_row1_col6, #T_015aa_row1_col7, #T_015aa_row1_col8, #T_015aa_row1_col9, #T_015aa_row1_col10, #T_015aa_row1_col11 {\n",
              "  text-align: center;\n",
              "}\n",
              "#T_015aa_row1_col0 {\n",
              "  text-align: center;\n",
              "  width: 10em;\n",
              "  height: 80%;\n",
              "  background: linear-gradient(90deg,#f5f8d6 100.0%, transparent 100.0%);\n",
              "  color: #251e1b;\n",
              "  font-size: 12px;\n",
              "}\n",
              "#T_015aa_row1_col1 {\n",
              "  text-align: center;\n",
              "  width: 10em;\n",
              "  height: 80%;\n",
              "  background: linear-gradient(90deg,#c778c8 100.0%, transparent 100.0%);\n",
              "  color: #251e1b;\n",
              "  font-size: 12px;\n",
              "}\n",
              "#T_015aa_row1_col2 {\n",
              "  text-align: center;\n",
              "  width: 10em;\n",
              "  height: 80%;\n",
              "  background: linear-gradient(90deg,#ff4971 100.0%, transparent 100.0%);\n",
              "  color: #251e1b;\n",
              "  font-size: 12px;\n",
              "}\n",
              "#T_015aa_row1_col3 {\n",
              "  text-align: center;\n",
              "  width: 10em;\n",
              "  height: 80%;\n",
              "  background: linear-gradient(90deg,#aadbaa 94.1%, transparent 94.1%);\n",
              "  color: #251e1b;\n",
              "  font-size: 12px;\n",
              "}\n",
              "</style>\n",
              "<table id=\"T_015aa_\" class=\"dataframe\">\n",
              "  <thead>\n",
              "    <tr>\n",
              "      <th class=\"blank level0\" >&nbsp;</th>\n",
              "      <th class=\"col_heading level0 col0\" >mse</th>\n",
              "      <th class=\"col_heading level0 col1\" >rmse</th>\n",
              "      <th class=\"col_heading level0 col2\" >mae</th>\n",
              "      <th class=\"col_heading level0 col3\" >r2</th>\n",
              "      <th class=\"col_heading level0 col4\" >ml_framework</th>\n",
              "      <th class=\"col_heading level0 col5\" >transfer_learning</th>\n",
              "      <th class=\"col_heading level0 col6\" >deep_learning</th>\n",
              "      <th class=\"col_heading level0 col7\" >model_type</th>\n",
              "      <th class=\"col_heading level0 col8\" >num_params</th>\n",
              "      <th class=\"col_heading level0 col9\" >model_config</th>\n",
              "      <th class=\"col_heading level0 col10\" >username</th>\n",
              "      <th class=\"col_heading level0 col11\" >version</th>\n",
              "    </tr>\n",
              "  </thead>\n",
              "  <tbody>\n",
              "    <tr>\n",
              "      <th id=\"T_015aa_level0_row0\" class=\"row_heading level0 row0\" >0</th>\n",
              "      <td id=\"T_015aa_row0_col0\" class=\"data row0 col0\" >0.56</td>\n",
              "      <td id=\"T_015aa_row0_col1\" class=\"data row0 col1\" >0.75</td>\n",
              "      <td id=\"T_015aa_row0_col2\" class=\"data row0 col2\" >0.53</td>\n",
              "      <td id=\"T_015aa_row0_col3\" class=\"data row0 col3\" >0.58</td>\n",
              "      <td id=\"T_015aa_row0_col4\" class=\"data row0 col4\" >sklearn</td>\n",
              "      <td id=\"T_015aa_row0_col5\" class=\"data row0 col5\" >False</td>\n",
              "      <td id=\"T_015aa_row0_col6\" class=\"data row0 col6\" >False</td>\n",
              "      <td id=\"T_015aa_row0_col7\" class=\"data row0 col7\" >LinearRegression</td>\n",
              "      <td id=\"T_015aa_row0_col8\" class=\"data row0 col8\" >8.000000</td>\n",
              "      <td id=\"T_015aa_row0_col9\" class=\"data row0 col9\" >{'copy_X': True, 'fit_intercep...</td>\n",
              "      <td id=\"T_015aa_row0_col10\" class=\"data row0 col10\" >gstreett</td>\n",
              "      <td id=\"T_015aa_row0_col11\" class=\"data row0 col11\" >1</td>\n",
              "    </tr>\n",
              "    <tr>\n",
              "      <th id=\"T_015aa_level0_row1\" class=\"row_heading level0 row1\" >1</th>\n",
              "      <td id=\"T_015aa_row1_col0\" class=\"data row1 col0\" >0.60</td>\n",
              "      <td id=\"T_015aa_row1_col1\" class=\"data row1 col1\" >0.78</td>\n",
              "      <td id=\"T_015aa_row1_col2\" class=\"data row1 col2\" >0.58</td>\n",
              "      <td id=\"T_015aa_row1_col3\" class=\"data row1 col3\" >0.54</td>\n",
              "      <td id=\"T_015aa_row1_col4\" class=\"data row1 col4\" >sklearn</td>\n",
              "      <td id=\"T_015aa_row1_col5\" class=\"data row1 col5\" >False</td>\n",
              "      <td id=\"T_015aa_row1_col6\" class=\"data row1 col6\" >False</td>\n",
              "      <td id=\"T_015aa_row1_col7\" class=\"data row1 col7\" >RandomForestRegressor</td>\n",
              "      <td id=\"T_015aa_row1_col8\" class=\"data row1 col8\" >nan</td>\n",
              "      <td id=\"T_015aa_row1_col9\" class=\"data row1 col9\" >{'bootstrap': True, 'ccp_alpha...</td>\n",
              "      <td id=\"T_015aa_row1_col10\" class=\"data row1 col10\" >gstreett</td>\n",
              "      <td id=\"T_015aa_row1_col11\" class=\"data row1 col11\" >2</td>\n",
              "    </tr>\n",
              "  </tbody>\n",
              "</table>\n"
            ],
            "text/plain": [
              "<pandas.io.formats.style.Styler at 0x7fbfae90f290>"
            ]
          },
          "metadata": {},
          "execution_count": 19
        }
      ]
    },
    {
      "cell_type": "markdown",
      "metadata": {
        "id": "bwNKs0wP4r5s"
      },
      "source": [
        "## 5. Repeat submission process to improve place on leaderboard\n"
      ]
    },
    {
      "cell_type": "code",
      "metadata": {
        "colab": {
          "base_uri": "https://localhost:8080/"
        },
        "id": "FgSs5PAtPCZH",
        "outputId": "2604c835-1b8e-4e27-e739-a41f4f8bb559"
      },
      "source": [
        "# Create model 2 \n",
        "from sklearn.ensemble import RandomForestRegressor\n",
        "from sklearn.metrics import r2_score\n",
        "\n",
        "model_2 = RandomForestRegressor(n_estimators = 1000, max_depth = 2, random_state=0)\n",
        "model_2.fit(preprocessor(X_train), y_train) # Fitting to the training set.\n",
        "model_predictions = model_2.predict(preprocessor(X_train))\n",
        "r2_score(model_predictions, y_train) "
      ],
      "execution_count": 20,
      "outputs": [
        {
          "output_type": "execute_result",
          "data": {
            "text/plain": [
              "-0.21960584796351568"
            ]
          },
          "metadata": {},
          "execution_count": 20
        }
      ]
    },
    {
      "cell_type": "code",
      "metadata": {
        "id": "aIdmSpYVPYAw"
      },
      "source": [
        "# Save Model 2 to .onnx file\n",
        "\n",
        "# Check how many preprocessed input features there are\n",
        "from skl2onnx.common.data_types import FloatTensorType\n",
        "\n",
        "feature_count=preprocessor(X_test).shape[1]\n",
        "initial_type = [('float_input', FloatTensorType([None, feature_count]))]  # Insert correct number of features in preprocessed data\n",
        "\n",
        "onnx_model = model_to_onnx(model_2, framework='sklearn',\n",
        "                          initial_types=initial_type,\n",
        "                          transfer_learning=False,\n",
        "                          deep_learning=False)\n",
        "\n",
        "# Save model to local .onnx file\n",
        "with open(\"model_2.onnx\", \"wb\") as f:\n",
        "    f.write(onnx_model.SerializeToString()) "
      ],
      "execution_count": 21,
      "outputs": []
    },
    {
      "cell_type": "code",
      "metadata": {
        "colab": {
          "base_uri": "https://localhost:8080/"
        },
        "id": "nszPPrfwPlUk",
        "outputId": "4df45565-72d7-4565-a387-80feac13bd1d"
      },
      "source": [
        "# Submit Model 2\n",
        "\n",
        "#-- Generate predicted y values (Model 2)\n",
        "prediction_labels = model_2.predict(preprocessor(X_test))\n",
        "\n",
        "# Submit Model 2 to Competition Leaderboard\n",
        "mycompetition.submit_model(model_filepath = \"model_2.onnx\",\n",
        "                                 prediction_submission=prediction_labels,\n",
        "                                 preprocessor_filepath=\"preprocessor.zip\")"
      ],
      "execution_count": 22,
      "outputs": [
        {
          "output_type": "stream",
          "name": "stdout",
          "text": [
            "Insert search tags to help users find your model (optional): \n",
            "Provide any useful notes about your model (optional): \n",
            "\n",
            "Your model has been submitted as model version 3\n",
            "\n",
            "To submit code used to create this model or to view current leaderboard navigate to Model Playground: \n",
            "\n",
            " https://www.modelshare.org/detail/model:1394\n"
          ]
        }
      ]
    },
    {
      "cell_type": "code",
      "metadata": {
        "colab": {
          "base_uri": "https://localhost:8080/",
          "height": 421
        },
        "id": "qLl7yLpVEx26",
        "outputId": "a906ecc2-d449-4eb0-bc84-9c253208d962"
      },
      "source": [
        "# Compare two or more models\n",
        "data=mycompetition.compare_models([2,3], verbose=1)\n",
        "mycompetition.stylize_compare(data)"
      ],
      "execution_count": 24,
      "outputs": [
        {
          "output_type": "display_data",
          "data": {
            "text/html": [
              "<style type=\"text/css\">\n",
              "#T_91464_ caption {\n",
              "  color: black;\n",
              "  font-size: 18px;\n",
              "}\n",
              "#T_91464_row3_col2, #T_91464_row3_col3, #T_91464_row12_col2, #T_91464_row12_col3, #T_91464_row15_col2, #T_91464_row15_col3 {\n",
              "  background: tomato;\n",
              "}\n",
              "</style>\n",
              "<table id=\"T_91464_\">\n",
              "  <caption>Model type: RandomForestRegressor</caption>\n",
              "  <thead>\n",
              "    <tr>\n",
              "      <th class=\"blank level0\" >&nbsp;</th>\n",
              "      <th class=\"col_heading level0 col0\" >param_name</th>\n",
              "      <th class=\"col_heading level0 col1\" >default_value</th>\n",
              "      <th class=\"col_heading level0 col2\" >model_version_2</th>\n",
              "      <th class=\"col_heading level0 col3\" >model_version_3</th>\n",
              "    </tr>\n",
              "  </thead>\n",
              "  <tbody>\n",
              "    <tr>\n",
              "      <th id=\"T_91464_level0_row0\" class=\"row_heading level0 row0\" >0</th>\n",
              "      <td id=\"T_91464_row0_col0\" class=\"data row0 col0\" >bootstrap</td>\n",
              "      <td id=\"T_91464_row0_col1\" class=\"data row0 col1\" >True</td>\n",
              "      <td id=\"T_91464_row0_col2\" class=\"data row0 col2\" >True</td>\n",
              "      <td id=\"T_91464_row0_col3\" class=\"data row0 col3\" >True</td>\n",
              "    </tr>\n",
              "    <tr>\n",
              "      <th id=\"T_91464_level0_row1\" class=\"row_heading level0 row1\" >1</th>\n",
              "      <td id=\"T_91464_row1_col0\" class=\"data row1 col0\" >ccp_alpha</td>\n",
              "      <td id=\"T_91464_row1_col1\" class=\"data row1 col1\" >0.000000</td>\n",
              "      <td id=\"T_91464_row1_col2\" class=\"data row1 col2\" >0.000000</td>\n",
              "      <td id=\"T_91464_row1_col3\" class=\"data row1 col3\" >0.000000</td>\n",
              "    </tr>\n",
              "    <tr>\n",
              "      <th id=\"T_91464_level0_row2\" class=\"row_heading level0 row2\" >2</th>\n",
              "      <td id=\"T_91464_row2_col0\" class=\"data row2 col0\" >criterion</td>\n",
              "      <td id=\"T_91464_row2_col1\" class=\"data row2 col1\" >mse</td>\n",
              "      <td id=\"T_91464_row2_col2\" class=\"data row2 col2\" >mse</td>\n",
              "      <td id=\"T_91464_row2_col3\" class=\"data row2 col3\" >mse</td>\n",
              "    </tr>\n",
              "    <tr>\n",
              "      <th id=\"T_91464_level0_row3\" class=\"row_heading level0 row3\" >3</th>\n",
              "      <td id=\"T_91464_row3_col0\" class=\"data row3 col0\" >max_depth</td>\n",
              "      <td id=\"T_91464_row3_col1\" class=\"data row3 col1\" >None</td>\n",
              "      <td id=\"T_91464_row3_col2\" class=\"data row3 col2\" >3</td>\n",
              "      <td id=\"T_91464_row3_col3\" class=\"data row3 col3\" >2</td>\n",
              "    </tr>\n",
              "    <tr>\n",
              "      <th id=\"T_91464_level0_row4\" class=\"row_heading level0 row4\" >4</th>\n",
              "      <td id=\"T_91464_row4_col0\" class=\"data row4 col0\" >max_features</td>\n",
              "      <td id=\"T_91464_row4_col1\" class=\"data row4 col1\" >auto</td>\n",
              "      <td id=\"T_91464_row4_col2\" class=\"data row4 col2\" >auto</td>\n",
              "      <td id=\"T_91464_row4_col3\" class=\"data row4 col3\" >auto</td>\n",
              "    </tr>\n",
              "    <tr>\n",
              "      <th id=\"T_91464_level0_row5\" class=\"row_heading level0 row5\" >5</th>\n",
              "      <td id=\"T_91464_row5_col0\" class=\"data row5 col0\" >max_leaf_nodes</td>\n",
              "      <td id=\"T_91464_row5_col1\" class=\"data row5 col1\" >None</td>\n",
              "      <td id=\"T_91464_row5_col2\" class=\"data row5 col2\" >None</td>\n",
              "      <td id=\"T_91464_row5_col3\" class=\"data row5 col3\" >None</td>\n",
              "    </tr>\n",
              "    <tr>\n",
              "      <th id=\"T_91464_level0_row6\" class=\"row_heading level0 row6\" >6</th>\n",
              "      <td id=\"T_91464_row6_col0\" class=\"data row6 col0\" >max_samples</td>\n",
              "      <td id=\"T_91464_row6_col1\" class=\"data row6 col1\" >None</td>\n",
              "      <td id=\"T_91464_row6_col2\" class=\"data row6 col2\" >None</td>\n",
              "      <td id=\"T_91464_row6_col3\" class=\"data row6 col3\" >None</td>\n",
              "    </tr>\n",
              "    <tr>\n",
              "      <th id=\"T_91464_level0_row7\" class=\"row_heading level0 row7\" >7</th>\n",
              "      <td id=\"T_91464_row7_col0\" class=\"data row7 col0\" >min_impurity_decrease</td>\n",
              "      <td id=\"T_91464_row7_col1\" class=\"data row7 col1\" >0.000000</td>\n",
              "      <td id=\"T_91464_row7_col2\" class=\"data row7 col2\" >0.000000</td>\n",
              "      <td id=\"T_91464_row7_col3\" class=\"data row7 col3\" >0.000000</td>\n",
              "    </tr>\n",
              "    <tr>\n",
              "      <th id=\"T_91464_level0_row8\" class=\"row_heading level0 row8\" >8</th>\n",
              "      <td id=\"T_91464_row8_col0\" class=\"data row8 col0\" >min_impurity_split</td>\n",
              "      <td id=\"T_91464_row8_col1\" class=\"data row8 col1\" >None</td>\n",
              "      <td id=\"T_91464_row8_col2\" class=\"data row8 col2\" >None</td>\n",
              "      <td id=\"T_91464_row8_col3\" class=\"data row8 col3\" >None</td>\n",
              "    </tr>\n",
              "    <tr>\n",
              "      <th id=\"T_91464_level0_row9\" class=\"row_heading level0 row9\" >9</th>\n",
              "      <td id=\"T_91464_row9_col0\" class=\"data row9 col0\" >min_samples_leaf</td>\n",
              "      <td id=\"T_91464_row9_col1\" class=\"data row9 col1\" >1</td>\n",
              "      <td id=\"T_91464_row9_col2\" class=\"data row9 col2\" >1</td>\n",
              "      <td id=\"T_91464_row9_col3\" class=\"data row9 col3\" >1</td>\n",
              "    </tr>\n",
              "    <tr>\n",
              "      <th id=\"T_91464_level0_row10\" class=\"row_heading level0 row10\" >10</th>\n",
              "      <td id=\"T_91464_row10_col0\" class=\"data row10 col0\" >min_samples_split</td>\n",
              "      <td id=\"T_91464_row10_col1\" class=\"data row10 col1\" >2</td>\n",
              "      <td id=\"T_91464_row10_col2\" class=\"data row10 col2\" >2</td>\n",
              "      <td id=\"T_91464_row10_col3\" class=\"data row10 col3\" >2</td>\n",
              "    </tr>\n",
              "    <tr>\n",
              "      <th id=\"T_91464_level0_row11\" class=\"row_heading level0 row11\" >11</th>\n",
              "      <td id=\"T_91464_row11_col0\" class=\"data row11 col0\" >min_weight_fraction_leaf</td>\n",
              "      <td id=\"T_91464_row11_col1\" class=\"data row11 col1\" >0.000000</td>\n",
              "      <td id=\"T_91464_row11_col2\" class=\"data row11 col2\" >0.000000</td>\n",
              "      <td id=\"T_91464_row11_col3\" class=\"data row11 col3\" >0.000000</td>\n",
              "    </tr>\n",
              "    <tr>\n",
              "      <th id=\"T_91464_level0_row12\" class=\"row_heading level0 row12\" >12</th>\n",
              "      <td id=\"T_91464_row12_col0\" class=\"data row12 col0\" >n_estimators</td>\n",
              "      <td id=\"T_91464_row12_col1\" class=\"data row12 col1\" >100</td>\n",
              "      <td id=\"T_91464_row12_col2\" class=\"data row12 col2\" >500</td>\n",
              "      <td id=\"T_91464_row12_col3\" class=\"data row12 col3\" >1000</td>\n",
              "    </tr>\n",
              "    <tr>\n",
              "      <th id=\"T_91464_level0_row13\" class=\"row_heading level0 row13\" >13</th>\n",
              "      <td id=\"T_91464_row13_col0\" class=\"data row13 col0\" >n_jobs</td>\n",
              "      <td id=\"T_91464_row13_col1\" class=\"data row13 col1\" >None</td>\n",
              "      <td id=\"T_91464_row13_col2\" class=\"data row13 col2\" >None</td>\n",
              "      <td id=\"T_91464_row13_col3\" class=\"data row13 col3\" >None</td>\n",
              "    </tr>\n",
              "    <tr>\n",
              "      <th id=\"T_91464_level0_row14\" class=\"row_heading level0 row14\" >14</th>\n",
              "      <td id=\"T_91464_row14_col0\" class=\"data row14 col0\" >oob_score</td>\n",
              "      <td id=\"T_91464_row14_col1\" class=\"data row14 col1\" >False</td>\n",
              "      <td id=\"T_91464_row14_col2\" class=\"data row14 col2\" >False</td>\n",
              "      <td id=\"T_91464_row14_col3\" class=\"data row14 col3\" >False</td>\n",
              "    </tr>\n",
              "    <tr>\n",
              "      <th id=\"T_91464_level0_row15\" class=\"row_heading level0 row15\" >15</th>\n",
              "      <td id=\"T_91464_row15_col0\" class=\"data row15 col0\" >random_state</td>\n",
              "      <td id=\"T_91464_row15_col1\" class=\"data row15 col1\" >None</td>\n",
              "      <td id=\"T_91464_row15_col2\" class=\"data row15 col2\" >0</td>\n",
              "      <td id=\"T_91464_row15_col3\" class=\"data row15 col3\" >0</td>\n",
              "    </tr>\n",
              "    <tr>\n",
              "      <th id=\"T_91464_level0_row16\" class=\"row_heading level0 row16\" >16</th>\n",
              "      <td id=\"T_91464_row16_col0\" class=\"data row16 col0\" >verbose</td>\n",
              "      <td id=\"T_91464_row16_col1\" class=\"data row16 col1\" >0</td>\n",
              "      <td id=\"T_91464_row16_col2\" class=\"data row16 col2\" >0</td>\n",
              "      <td id=\"T_91464_row16_col3\" class=\"data row16 col3\" >0</td>\n",
              "    </tr>\n",
              "    <tr>\n",
              "      <th id=\"T_91464_level0_row17\" class=\"row_heading level0 row17\" >17</th>\n",
              "      <td id=\"T_91464_row17_col0\" class=\"data row17 col0\" >warm_start</td>\n",
              "      <td id=\"T_91464_row17_col1\" class=\"data row17 col1\" >False</td>\n",
              "      <td id=\"T_91464_row17_col2\" class=\"data row17 col2\" >False</td>\n",
              "      <td id=\"T_91464_row17_col3\" class=\"data row17 col3\" >False</td>\n",
              "    </tr>\n",
              "  </tbody>\n",
              "</table>\n"
            ],
            "text/plain": [
              "<IPython.core.display.HTML object>"
            ]
          },
          "metadata": {}
        },
        {
          "output_type": "stream",
          "name": "stdout",
          "text": [
            "\n",
            "\n",
            "\n"
          ]
        }
      ]
    },
    {
      "cell_type": "code",
      "metadata": {
        "colab": {
          "base_uri": "https://localhost:8080/"
        },
        "id": "6Go4SF37Ex_Z",
        "outputId": "52a7f9f5-9a54-4e48-c4d3-79d69d9cb457"
      },
      "source": [
        "# Submit a third model using GridSearchCV\n",
        "\n",
        "from sklearn.model_selection import GridSearchCV\n",
        "import numpy as np\n",
        "\n",
        "param_grid = {'n_estimators': np.arange(100, 300, 500),'max_depth':[1, 3, 5]} #np.arange creates sequence of numbers for each k value\n",
        "\n",
        "gridmodel = GridSearchCV(RandomForestRegressor(), param_grid=param_grid, cv=10)\n",
        "\n",
        "#use meta model methods to fit score and predict model:\n",
        "gridmodel.fit(preprocessor(X_train), y_train)\n",
        "\n",
        "#extract best score and parameter by calling objects \"best_score_\" and \"best_params_\"\n",
        "print(\"best mean cross-validation score: {:.3f}\".format(gridmodel.best_score_))\n",
        "print(\"best parameters: {}\".format(gridmodel.best_params_))\n"
      ],
      "execution_count": 25,
      "outputs": [
        {
          "output_type": "stream",
          "name": "stdout",
          "text": [
            "best mean cross-validation score: 0.667\n",
            "best parameters: {'max_depth': 5, 'n_estimators': 100}\n"
          ]
        }
      ]
    },
    {
      "cell_type": "code",
      "metadata": {
        "id": "HvLuIvOjHLH2"
      },
      "source": [
        "# Save sklearn model to local ONNX file\n",
        "from aimodelshare.aimsonnx import model_to_onnx\n",
        "\n",
        "feature_count=preprocessor(X_test).shape[1] #Get count of preprocessed features\n",
        "initial_type = [('float_input', FloatTensorType([None, feature_count]))]  # Insert correct number of preprocessed features\n",
        "\n",
        "onnx_model = model_to_onnx(gridmodel, framework='sklearn',\n",
        "                          initial_types=initial_type,\n",
        "                          transfer_learning=False,\n",
        "                          deep_learning=False)\n",
        "\n",
        "with open(\"gridmodel.onnx\", \"wb\") as f:\n",
        "    f.write(onnx_model.SerializeToString())"
      ],
      "execution_count": 26,
      "outputs": []
    },
    {
      "cell_type": "code",
      "metadata": {
        "colab": {
          "base_uri": "https://localhost:8080/"
        },
        "id": "sMidHABfHVN7",
        "outputId": "179e341d-61f2-4d4e-a680-8223069965ee"
      },
      "source": [
        "#Submit Model 3: \n",
        "\n",
        "#-- Generate predicted values\n",
        "prediction_labels = gridmodel.predict(preprocessor(X_test))\n",
        "\n",
        "# Submit Model 3 to Competition Leaderboard\n",
        "mycompetition.submit_model(model_filepath = \"gridmodel.onnx\",\n",
        "                                 preprocessor_filepath=\"preprocessor.zip\",\n",
        "                                 prediction_submission=prediction_labels)"
      ],
      "execution_count": 27,
      "outputs": [
        {
          "output_type": "stream",
          "name": "stdout",
          "text": [
            "Insert search tags to help users find your model (optional): \n",
            "Provide any useful notes about your model (optional): \n",
            "\n",
            "Your model has been submitted as model version 4\n",
            "\n",
            "To submit code used to create this model or to view current leaderboard navigate to Model Playground: \n",
            "\n",
            " https://www.modelshare.org/detail/model:1394\n"
          ]
        }
      ]
    },
    {
      "cell_type": "code",
      "metadata": {
        "colab": {
          "base_uri": "https://localhost:8080/",
          "height": 261
        },
        "id": "hn-Tp-zpJVGT",
        "outputId": "128a0e1e-b995-42aa-a050-00a7c938a38c"
      },
      "source": [
        "# Get leaderboard\n",
        "\n",
        "data = mycompetition.get_leaderboard()\n",
        "mycompetition.stylize_leaderboard(data)"
      ],
      "execution_count": 28,
      "outputs": [
        {
          "output_type": "execute_result",
          "data": {
            "text/html": [
              "<style type=\"text/css\">\n",
              "#T_a5bcc_row0_col0 {\n",
              "  text-align: center;\n",
              "  width: 10em;\n",
              "  height: 80%;\n",
              "  background: linear-gradient(90deg,#f5f8d6 62.9%, transparent 62.9%);\n",
              "  color: #251e1b;\n",
              "  font-size: 12px;\n",
              "}\n",
              "#T_a5bcc_row0_col1 {\n",
              "  text-align: center;\n",
              "  width: 10em;\n",
              "  height: 80%;\n",
              "  background: linear-gradient(90deg,#c778c8 79.3%, transparent 79.3%);\n",
              "  color: #251e1b;\n",
              "  font-size: 12px;\n",
              "}\n",
              "#T_a5bcc_row0_col2 {\n",
              "  text-align: center;\n",
              "  width: 10em;\n",
              "  height: 80%;\n",
              "  background: linear-gradient(90deg,#ff4971 75.5%, transparent 75.5%);\n",
              "  color: #251e1b;\n",
              "  font-size: 12px;\n",
              "}\n",
              "#T_a5bcc_row0_col3 {\n",
              "  text-align: center;\n",
              "  width: 10em;\n",
              "  height: 80%;\n",
              "  background: linear-gradient(90deg,#aadbaa 100.0%, transparent 100.0%);\n",
              "  color: #251e1b;\n",
              "  font-size: 12px;\n",
              "}\n",
              "#T_a5bcc_row0_col4, #T_a5bcc_row0_col5, #T_a5bcc_row0_col6, #T_a5bcc_row0_col7, #T_a5bcc_row0_col8, #T_a5bcc_row0_col9, #T_a5bcc_row0_col10, #T_a5bcc_row0_col11, #T_a5bcc_row1_col4, #T_a5bcc_row1_col5, #T_a5bcc_row1_col6, #T_a5bcc_row1_col7, #T_a5bcc_row1_col8, #T_a5bcc_row1_col9, #T_a5bcc_row1_col10, #T_a5bcc_row1_col11, #T_a5bcc_row2_col4, #T_a5bcc_row2_col5, #T_a5bcc_row2_col6, #T_a5bcc_row2_col7, #T_a5bcc_row2_col8, #T_a5bcc_row2_col9, #T_a5bcc_row2_col10, #T_a5bcc_row2_col11, #T_a5bcc_row3_col4, #T_a5bcc_row3_col5, #T_a5bcc_row3_col6, #T_a5bcc_row3_col7, #T_a5bcc_row3_col8, #T_a5bcc_row3_col9, #T_a5bcc_row3_col10, #T_a5bcc_row3_col11 {\n",
              "  text-align: center;\n",
              "}\n",
              "#T_a5bcc_row1_col0 {\n",
              "  text-align: center;\n",
              "  width: 10em;\n",
              "  height: 80%;\n",
              "  background: linear-gradient(90deg,#f5f8d6 75.7%, transparent 75.7%);\n",
              "  color: #251e1b;\n",
              "  font-size: 12px;\n",
              "}\n",
              "#T_a5bcc_row1_col1 {\n",
              "  text-align: center;\n",
              "  width: 10em;\n",
              "  height: 80%;\n",
              "  background: linear-gradient(90deg,#c778c8 87.0%, transparent 87.0%);\n",
              "  color: #251e1b;\n",
              "  font-size: 12px;\n",
              "}\n",
              "#T_a5bcc_row1_col2 {\n",
              "  text-align: center;\n",
              "  width: 10em;\n",
              "  height: 80%;\n",
              "  background: linear-gradient(90deg,#ff4971 82.2%, transparent 82.2%);\n",
              "  color: #251e1b;\n",
              "  font-size: 12px;\n",
              "}\n",
              "#T_a5bcc_row1_col3 {\n",
              "  text-align: center;\n",
              "  width: 10em;\n",
              "  height: 80%;\n",
              "  background: linear-gradient(90deg,#aadbaa 88.9%, transparent 88.9%);\n",
              "  color: #251e1b;\n",
              "  font-size: 12px;\n",
              "}\n",
              "#T_a5bcc_row2_col0 {\n",
              "  text-align: center;\n",
              "  width: 10em;\n",
              "  height: 80%;\n",
              "  background: linear-gradient(90deg,#f5f8d6 81.9%, transparent 81.9%);\n",
              "  color: #251e1b;\n",
              "  font-size: 12px;\n",
              "}\n",
              "#T_a5bcc_row2_col1 {\n",
              "  text-align: center;\n",
              "  width: 10em;\n",
              "  height: 80%;\n",
              "  background: linear-gradient(90deg,#c778c8 90.5%, transparent 90.5%);\n",
              "  color: #251e1b;\n",
              "  font-size: 12px;\n",
              "}\n",
              "#T_a5bcc_row2_col2 {\n",
              "  text-align: center;\n",
              "  width: 10em;\n",
              "  height: 80%;\n",
              "  background: linear-gradient(90deg,#ff4971 89.4%, transparent 89.4%);\n",
              "  color: #251e1b;\n",
              "  font-size: 12px;\n",
              "}\n",
              "#T_a5bcc_row2_col3 {\n",
              "  text-align: center;\n",
              "  width: 10em;\n",
              "  height: 80%;\n",
              "  background: linear-gradient(90deg,#aadbaa 83.6%, transparent 83.6%);\n",
              "  color: #251e1b;\n",
              "  font-size: 12px;\n",
              "}\n",
              "#T_a5bcc_row3_col0 {\n",
              "  text-align: center;\n",
              "  width: 10em;\n",
              "  height: 80%;\n",
              "  background: linear-gradient(90deg,#f5f8d6 100.0%, transparent 100.0%);\n",
              "  color: #251e1b;\n",
              "  font-size: 12px;\n",
              "}\n",
              "#T_a5bcc_row3_col1 {\n",
              "  text-align: center;\n",
              "  width: 10em;\n",
              "  height: 80%;\n",
              "  background: linear-gradient(90deg,#c778c8 100.0%, transparent 100.0%);\n",
              "  color: #251e1b;\n",
              "  font-size: 12px;\n",
              "}\n",
              "#T_a5bcc_row3_col2 {\n",
              "  text-align: center;\n",
              "  width: 10em;\n",
              "  height: 80%;\n",
              "  background: linear-gradient(90deg,#ff4971 100.0%, transparent 100.0%);\n",
              "  color: #251e1b;\n",
              "  font-size: 12px;\n",
              "}\n",
              "#T_a5bcc_row3_col3 {\n",
              "  text-align: center;\n",
              "  width: 10em;\n",
              "  height: 80%;\n",
              "  background: linear-gradient(90deg,#aadbaa 67.9%, transparent 67.9%);\n",
              "  color: #251e1b;\n",
              "  font-size: 12px;\n",
              "}\n",
              "</style>\n",
              "<table id=\"T_a5bcc_\" class=\"dataframe\">\n",
              "  <thead>\n",
              "    <tr>\n",
              "      <th class=\"blank level0\" >&nbsp;</th>\n",
              "      <th class=\"col_heading level0 col0\" >mse</th>\n",
              "      <th class=\"col_heading level0 col1\" >rmse</th>\n",
              "      <th class=\"col_heading level0 col2\" >mae</th>\n",
              "      <th class=\"col_heading level0 col3\" >r2</th>\n",
              "      <th class=\"col_heading level0 col4\" >ml_framework</th>\n",
              "      <th class=\"col_heading level0 col5\" >transfer_learning</th>\n",
              "      <th class=\"col_heading level0 col6\" >deep_learning</th>\n",
              "      <th class=\"col_heading level0 col7\" >model_type</th>\n",
              "      <th class=\"col_heading level0 col8\" >num_params</th>\n",
              "      <th class=\"col_heading level0 col9\" >model_config</th>\n",
              "      <th class=\"col_heading level0 col10\" >username</th>\n",
              "      <th class=\"col_heading level0 col11\" >version</th>\n",
              "    </tr>\n",
              "  </thead>\n",
              "  <tbody>\n",
              "    <tr>\n",
              "      <th id=\"T_a5bcc_level0_row0\" class=\"row_heading level0 row0\" >0</th>\n",
              "      <td id=\"T_a5bcc_row0_col0\" class=\"data row0 col0\" >0.46</td>\n",
              "      <td id=\"T_a5bcc_row0_col1\" class=\"data row0 col1\" >0.68</td>\n",
              "      <td id=\"T_a5bcc_row0_col2\" class=\"data row0 col2\" >0.49</td>\n",
              "      <td id=\"T_a5bcc_row0_col3\" class=\"data row0 col3\" >0.65</td>\n",
              "      <td id=\"T_a5bcc_row0_col4\" class=\"data row0 col4\" >sklearn</td>\n",
              "      <td id=\"T_a5bcc_row0_col5\" class=\"data row0 col5\" >False</td>\n",
              "      <td id=\"T_a5bcc_row0_col6\" class=\"data row0 col6\" >False</td>\n",
              "      <td id=\"T_a5bcc_row0_col7\" class=\"data row0 col7\" >RandomForestRegressor</td>\n",
              "      <td id=\"T_a5bcc_row0_col8\" class=\"data row0 col8\" >nan</td>\n",
              "      <td id=\"T_a5bcc_row0_col9\" class=\"data row0 col9\" >{'bootstrap': True, 'ccp_alpha...</td>\n",
              "      <td id=\"T_a5bcc_row0_col10\" class=\"data row0 col10\" >gstreett</td>\n",
              "      <td id=\"T_a5bcc_row0_col11\" class=\"data row0 col11\" >4</td>\n",
              "    </tr>\n",
              "    <tr>\n",
              "      <th id=\"T_a5bcc_level0_row1\" class=\"row_heading level0 row1\" >1</th>\n",
              "      <td id=\"T_a5bcc_row1_col0\" class=\"data row1 col0\" >0.56</td>\n",
              "      <td id=\"T_a5bcc_row1_col1\" class=\"data row1 col1\" >0.75</td>\n",
              "      <td id=\"T_a5bcc_row1_col2\" class=\"data row1 col2\" >0.53</td>\n",
              "      <td id=\"T_a5bcc_row1_col3\" class=\"data row1 col3\" >0.58</td>\n",
              "      <td id=\"T_a5bcc_row1_col4\" class=\"data row1 col4\" >sklearn</td>\n",
              "      <td id=\"T_a5bcc_row1_col5\" class=\"data row1 col5\" >False</td>\n",
              "      <td id=\"T_a5bcc_row1_col6\" class=\"data row1 col6\" >False</td>\n",
              "      <td id=\"T_a5bcc_row1_col7\" class=\"data row1 col7\" >LinearRegression</td>\n",
              "      <td id=\"T_a5bcc_row1_col8\" class=\"data row1 col8\" >8.000000</td>\n",
              "      <td id=\"T_a5bcc_row1_col9\" class=\"data row1 col9\" >{'copy_X': True, 'fit_intercep...</td>\n",
              "      <td id=\"T_a5bcc_row1_col10\" class=\"data row1 col10\" >gstreett</td>\n",
              "      <td id=\"T_a5bcc_row1_col11\" class=\"data row1 col11\" >1</td>\n",
              "    </tr>\n",
              "    <tr>\n",
              "      <th id=\"T_a5bcc_level0_row2\" class=\"row_heading level0 row2\" >2</th>\n",
              "      <td id=\"T_a5bcc_row2_col0\" class=\"data row2 col0\" >0.60</td>\n",
              "      <td id=\"T_a5bcc_row2_col1\" class=\"data row2 col1\" >0.78</td>\n",
              "      <td id=\"T_a5bcc_row2_col2\" class=\"data row2 col2\" >0.58</td>\n",
              "      <td id=\"T_a5bcc_row2_col3\" class=\"data row2 col3\" >0.54</td>\n",
              "      <td id=\"T_a5bcc_row2_col4\" class=\"data row2 col4\" >sklearn</td>\n",
              "      <td id=\"T_a5bcc_row2_col5\" class=\"data row2 col5\" >False</td>\n",
              "      <td id=\"T_a5bcc_row2_col6\" class=\"data row2 col6\" >False</td>\n",
              "      <td id=\"T_a5bcc_row2_col7\" class=\"data row2 col7\" >RandomForestRegressor</td>\n",
              "      <td id=\"T_a5bcc_row2_col8\" class=\"data row2 col8\" >nan</td>\n",
              "      <td id=\"T_a5bcc_row2_col9\" class=\"data row2 col9\" >{'bootstrap': True, 'ccp_alpha...</td>\n",
              "      <td id=\"T_a5bcc_row2_col10\" class=\"data row2 col10\" >gstreett</td>\n",
              "      <td id=\"T_a5bcc_row2_col11\" class=\"data row2 col11\" >2</td>\n",
              "    </tr>\n",
              "    <tr>\n",
              "      <th id=\"T_a5bcc_level0_row3\" class=\"row_heading level0 row3\" >3</th>\n",
              "      <td id=\"T_a5bcc_row3_col0\" class=\"data row3 col0\" >0.73</td>\n",
              "      <td id=\"T_a5bcc_row3_col1\" class=\"data row3 col1\" >0.86</td>\n",
              "      <td id=\"T_a5bcc_row3_col2\" class=\"data row3 col2\" >0.65</td>\n",
              "      <td id=\"T_a5bcc_row3_col3\" class=\"data row3 col3\" >0.44</td>\n",
              "      <td id=\"T_a5bcc_row3_col4\" class=\"data row3 col4\" >sklearn</td>\n",
              "      <td id=\"T_a5bcc_row3_col5\" class=\"data row3 col5\" >False</td>\n",
              "      <td id=\"T_a5bcc_row3_col6\" class=\"data row3 col6\" >False</td>\n",
              "      <td id=\"T_a5bcc_row3_col7\" class=\"data row3 col7\" >RandomForestRegressor</td>\n",
              "      <td id=\"T_a5bcc_row3_col8\" class=\"data row3 col8\" >nan</td>\n",
              "      <td id=\"T_a5bcc_row3_col9\" class=\"data row3 col9\" >{'bootstrap': True, 'ccp_alpha...</td>\n",
              "      <td id=\"T_a5bcc_row3_col10\" class=\"data row3 col10\" >gstreett</td>\n",
              "      <td id=\"T_a5bcc_row3_col11\" class=\"data row3 col11\" >3</td>\n",
              "    </tr>\n",
              "  </tbody>\n",
              "</table>\n"
            ],
            "text/plain": [
              "<pandas.io.formats.style.Styler at 0x7fbfaf21b6d0>"
            ]
          },
          "metadata": {},
          "execution_count": 28
        }
      ]
    },
    {
      "cell_type": "code",
      "metadata": {
        "id": "MKvPKyb7hT0h",
        "colab": {
          "base_uri": "https://localhost:8080/",
          "height": 421
        },
        "outputId": "cbfd84a0-a69a-448f-88c1-52af5d41dcc6"
      },
      "source": [
        "# Compare two or more models\n",
        "data=mycompetition.compare_models([2, 3, 4], verbose=1)\n",
        "mycompetition.stylize_compare(data)"
      ],
      "execution_count": 29,
      "outputs": [
        {
          "output_type": "display_data",
          "data": {
            "text/html": [
              "<style type=\"text/css\">\n",
              "#T_780ba_ caption {\n",
              "  color: black;\n",
              "  font-size: 18px;\n",
              "}\n",
              "#T_780ba_row3_col2, #T_780ba_row3_col3, #T_780ba_row3_col4, #T_780ba_row12_col2, #T_780ba_row12_col3, #T_780ba_row15_col2, #T_780ba_row15_col3 {\n",
              "  background: tomato;\n",
              "}\n",
              "</style>\n",
              "<table id=\"T_780ba_\">\n",
              "  <caption>Model type: RandomForestRegressor</caption>\n",
              "  <thead>\n",
              "    <tr>\n",
              "      <th class=\"blank level0\" >&nbsp;</th>\n",
              "      <th class=\"col_heading level0 col0\" >param_name</th>\n",
              "      <th class=\"col_heading level0 col1\" >default_value</th>\n",
              "      <th class=\"col_heading level0 col2\" >model_version_2</th>\n",
              "      <th class=\"col_heading level0 col3\" >model_version_3</th>\n",
              "      <th class=\"col_heading level0 col4\" >model_version_4</th>\n",
              "    </tr>\n",
              "  </thead>\n",
              "  <tbody>\n",
              "    <tr>\n",
              "      <th id=\"T_780ba_level0_row0\" class=\"row_heading level0 row0\" >0</th>\n",
              "      <td id=\"T_780ba_row0_col0\" class=\"data row0 col0\" >bootstrap</td>\n",
              "      <td id=\"T_780ba_row0_col1\" class=\"data row0 col1\" >True</td>\n",
              "      <td id=\"T_780ba_row0_col2\" class=\"data row0 col2\" >True</td>\n",
              "      <td id=\"T_780ba_row0_col3\" class=\"data row0 col3\" >True</td>\n",
              "      <td id=\"T_780ba_row0_col4\" class=\"data row0 col4\" >True</td>\n",
              "    </tr>\n",
              "    <tr>\n",
              "      <th id=\"T_780ba_level0_row1\" class=\"row_heading level0 row1\" >1</th>\n",
              "      <td id=\"T_780ba_row1_col0\" class=\"data row1 col0\" >ccp_alpha</td>\n",
              "      <td id=\"T_780ba_row1_col1\" class=\"data row1 col1\" >0.000000</td>\n",
              "      <td id=\"T_780ba_row1_col2\" class=\"data row1 col2\" >0.000000</td>\n",
              "      <td id=\"T_780ba_row1_col3\" class=\"data row1 col3\" >0.000000</td>\n",
              "      <td id=\"T_780ba_row1_col4\" class=\"data row1 col4\" >0.000000</td>\n",
              "    </tr>\n",
              "    <tr>\n",
              "      <th id=\"T_780ba_level0_row2\" class=\"row_heading level0 row2\" >2</th>\n",
              "      <td id=\"T_780ba_row2_col0\" class=\"data row2 col0\" >criterion</td>\n",
              "      <td id=\"T_780ba_row2_col1\" class=\"data row2 col1\" >mse</td>\n",
              "      <td id=\"T_780ba_row2_col2\" class=\"data row2 col2\" >mse</td>\n",
              "      <td id=\"T_780ba_row2_col3\" class=\"data row2 col3\" >mse</td>\n",
              "      <td id=\"T_780ba_row2_col4\" class=\"data row2 col4\" >mse</td>\n",
              "    </tr>\n",
              "    <tr>\n",
              "      <th id=\"T_780ba_level0_row3\" class=\"row_heading level0 row3\" >3</th>\n",
              "      <td id=\"T_780ba_row3_col0\" class=\"data row3 col0\" >max_depth</td>\n",
              "      <td id=\"T_780ba_row3_col1\" class=\"data row3 col1\" >None</td>\n",
              "      <td id=\"T_780ba_row3_col2\" class=\"data row3 col2\" >3</td>\n",
              "      <td id=\"T_780ba_row3_col3\" class=\"data row3 col3\" >2</td>\n",
              "      <td id=\"T_780ba_row3_col4\" class=\"data row3 col4\" >5</td>\n",
              "    </tr>\n",
              "    <tr>\n",
              "      <th id=\"T_780ba_level0_row4\" class=\"row_heading level0 row4\" >4</th>\n",
              "      <td id=\"T_780ba_row4_col0\" class=\"data row4 col0\" >max_features</td>\n",
              "      <td id=\"T_780ba_row4_col1\" class=\"data row4 col1\" >auto</td>\n",
              "      <td id=\"T_780ba_row4_col2\" class=\"data row4 col2\" >auto</td>\n",
              "      <td id=\"T_780ba_row4_col3\" class=\"data row4 col3\" >auto</td>\n",
              "      <td id=\"T_780ba_row4_col4\" class=\"data row4 col4\" >auto</td>\n",
              "    </tr>\n",
              "    <tr>\n",
              "      <th id=\"T_780ba_level0_row5\" class=\"row_heading level0 row5\" >5</th>\n",
              "      <td id=\"T_780ba_row5_col0\" class=\"data row5 col0\" >max_leaf_nodes</td>\n",
              "      <td id=\"T_780ba_row5_col1\" class=\"data row5 col1\" >None</td>\n",
              "      <td id=\"T_780ba_row5_col2\" class=\"data row5 col2\" >None</td>\n",
              "      <td id=\"T_780ba_row5_col3\" class=\"data row5 col3\" >None</td>\n",
              "      <td id=\"T_780ba_row5_col4\" class=\"data row5 col4\" >None</td>\n",
              "    </tr>\n",
              "    <tr>\n",
              "      <th id=\"T_780ba_level0_row6\" class=\"row_heading level0 row6\" >6</th>\n",
              "      <td id=\"T_780ba_row6_col0\" class=\"data row6 col0\" >max_samples</td>\n",
              "      <td id=\"T_780ba_row6_col1\" class=\"data row6 col1\" >None</td>\n",
              "      <td id=\"T_780ba_row6_col2\" class=\"data row6 col2\" >None</td>\n",
              "      <td id=\"T_780ba_row6_col3\" class=\"data row6 col3\" >None</td>\n",
              "      <td id=\"T_780ba_row6_col4\" class=\"data row6 col4\" >None</td>\n",
              "    </tr>\n",
              "    <tr>\n",
              "      <th id=\"T_780ba_level0_row7\" class=\"row_heading level0 row7\" >7</th>\n",
              "      <td id=\"T_780ba_row7_col0\" class=\"data row7 col0\" >min_impurity_decrease</td>\n",
              "      <td id=\"T_780ba_row7_col1\" class=\"data row7 col1\" >0.000000</td>\n",
              "      <td id=\"T_780ba_row7_col2\" class=\"data row7 col2\" >0.000000</td>\n",
              "      <td id=\"T_780ba_row7_col3\" class=\"data row7 col3\" >0.000000</td>\n",
              "      <td id=\"T_780ba_row7_col4\" class=\"data row7 col4\" >0.000000</td>\n",
              "    </tr>\n",
              "    <tr>\n",
              "      <th id=\"T_780ba_level0_row8\" class=\"row_heading level0 row8\" >8</th>\n",
              "      <td id=\"T_780ba_row8_col0\" class=\"data row8 col0\" >min_impurity_split</td>\n",
              "      <td id=\"T_780ba_row8_col1\" class=\"data row8 col1\" >None</td>\n",
              "      <td id=\"T_780ba_row8_col2\" class=\"data row8 col2\" >None</td>\n",
              "      <td id=\"T_780ba_row8_col3\" class=\"data row8 col3\" >None</td>\n",
              "      <td id=\"T_780ba_row8_col4\" class=\"data row8 col4\" >None</td>\n",
              "    </tr>\n",
              "    <tr>\n",
              "      <th id=\"T_780ba_level0_row9\" class=\"row_heading level0 row9\" >9</th>\n",
              "      <td id=\"T_780ba_row9_col0\" class=\"data row9 col0\" >min_samples_leaf</td>\n",
              "      <td id=\"T_780ba_row9_col1\" class=\"data row9 col1\" >1</td>\n",
              "      <td id=\"T_780ba_row9_col2\" class=\"data row9 col2\" >1</td>\n",
              "      <td id=\"T_780ba_row9_col3\" class=\"data row9 col3\" >1</td>\n",
              "      <td id=\"T_780ba_row9_col4\" class=\"data row9 col4\" >1</td>\n",
              "    </tr>\n",
              "    <tr>\n",
              "      <th id=\"T_780ba_level0_row10\" class=\"row_heading level0 row10\" >10</th>\n",
              "      <td id=\"T_780ba_row10_col0\" class=\"data row10 col0\" >min_samples_split</td>\n",
              "      <td id=\"T_780ba_row10_col1\" class=\"data row10 col1\" >2</td>\n",
              "      <td id=\"T_780ba_row10_col2\" class=\"data row10 col2\" >2</td>\n",
              "      <td id=\"T_780ba_row10_col3\" class=\"data row10 col3\" >2</td>\n",
              "      <td id=\"T_780ba_row10_col4\" class=\"data row10 col4\" >2</td>\n",
              "    </tr>\n",
              "    <tr>\n",
              "      <th id=\"T_780ba_level0_row11\" class=\"row_heading level0 row11\" >11</th>\n",
              "      <td id=\"T_780ba_row11_col0\" class=\"data row11 col0\" >min_weight_fraction_leaf</td>\n",
              "      <td id=\"T_780ba_row11_col1\" class=\"data row11 col1\" >0.000000</td>\n",
              "      <td id=\"T_780ba_row11_col2\" class=\"data row11 col2\" >0.000000</td>\n",
              "      <td id=\"T_780ba_row11_col3\" class=\"data row11 col3\" >0.000000</td>\n",
              "      <td id=\"T_780ba_row11_col4\" class=\"data row11 col4\" >0.000000</td>\n",
              "    </tr>\n",
              "    <tr>\n",
              "      <th id=\"T_780ba_level0_row12\" class=\"row_heading level0 row12\" >12</th>\n",
              "      <td id=\"T_780ba_row12_col0\" class=\"data row12 col0\" >n_estimators</td>\n",
              "      <td id=\"T_780ba_row12_col1\" class=\"data row12 col1\" >100</td>\n",
              "      <td id=\"T_780ba_row12_col2\" class=\"data row12 col2\" >500</td>\n",
              "      <td id=\"T_780ba_row12_col3\" class=\"data row12 col3\" >1000</td>\n",
              "      <td id=\"T_780ba_row12_col4\" class=\"data row12 col4\" >100</td>\n",
              "    </tr>\n",
              "    <tr>\n",
              "      <th id=\"T_780ba_level0_row13\" class=\"row_heading level0 row13\" >13</th>\n",
              "      <td id=\"T_780ba_row13_col0\" class=\"data row13 col0\" >n_jobs</td>\n",
              "      <td id=\"T_780ba_row13_col1\" class=\"data row13 col1\" >None</td>\n",
              "      <td id=\"T_780ba_row13_col2\" class=\"data row13 col2\" >None</td>\n",
              "      <td id=\"T_780ba_row13_col3\" class=\"data row13 col3\" >None</td>\n",
              "      <td id=\"T_780ba_row13_col4\" class=\"data row13 col4\" >None</td>\n",
              "    </tr>\n",
              "    <tr>\n",
              "      <th id=\"T_780ba_level0_row14\" class=\"row_heading level0 row14\" >14</th>\n",
              "      <td id=\"T_780ba_row14_col0\" class=\"data row14 col0\" >oob_score</td>\n",
              "      <td id=\"T_780ba_row14_col1\" class=\"data row14 col1\" >False</td>\n",
              "      <td id=\"T_780ba_row14_col2\" class=\"data row14 col2\" >False</td>\n",
              "      <td id=\"T_780ba_row14_col3\" class=\"data row14 col3\" >False</td>\n",
              "      <td id=\"T_780ba_row14_col4\" class=\"data row14 col4\" >False</td>\n",
              "    </tr>\n",
              "    <tr>\n",
              "      <th id=\"T_780ba_level0_row15\" class=\"row_heading level0 row15\" >15</th>\n",
              "      <td id=\"T_780ba_row15_col0\" class=\"data row15 col0\" >random_state</td>\n",
              "      <td id=\"T_780ba_row15_col1\" class=\"data row15 col1\" >None</td>\n",
              "      <td id=\"T_780ba_row15_col2\" class=\"data row15 col2\" >0</td>\n",
              "      <td id=\"T_780ba_row15_col3\" class=\"data row15 col3\" >0</td>\n",
              "      <td id=\"T_780ba_row15_col4\" class=\"data row15 col4\" >None</td>\n",
              "    </tr>\n",
              "    <tr>\n",
              "      <th id=\"T_780ba_level0_row16\" class=\"row_heading level0 row16\" >16</th>\n",
              "      <td id=\"T_780ba_row16_col0\" class=\"data row16 col0\" >verbose</td>\n",
              "      <td id=\"T_780ba_row16_col1\" class=\"data row16 col1\" >0</td>\n",
              "      <td id=\"T_780ba_row16_col2\" class=\"data row16 col2\" >0</td>\n",
              "      <td id=\"T_780ba_row16_col3\" class=\"data row16 col3\" >0</td>\n",
              "      <td id=\"T_780ba_row16_col4\" class=\"data row16 col4\" >0</td>\n",
              "    </tr>\n",
              "    <tr>\n",
              "      <th id=\"T_780ba_level0_row17\" class=\"row_heading level0 row17\" >17</th>\n",
              "      <td id=\"T_780ba_row17_col0\" class=\"data row17 col0\" >warm_start</td>\n",
              "      <td id=\"T_780ba_row17_col1\" class=\"data row17 col1\" >False</td>\n",
              "      <td id=\"T_780ba_row17_col2\" class=\"data row17 col2\" >False</td>\n",
              "      <td id=\"T_780ba_row17_col3\" class=\"data row17 col3\" >False</td>\n",
              "      <td id=\"T_780ba_row17_col4\" class=\"data row17 col4\" >False</td>\n",
              "    </tr>\n",
              "  </tbody>\n",
              "</table>\n"
            ],
            "text/plain": [
              "<IPython.core.display.HTML object>"
            ]
          },
          "metadata": {}
        },
        {
          "output_type": "stream",
          "name": "stdout",
          "text": [
            "\n",
            "\n",
            "\n"
          ]
        }
      ]
    },
    {
      "cell_type": "code",
      "metadata": {
        "id": "tukB40NshcaB",
        "colab": {
          "base_uri": "https://localhost:8080/"
        },
        "outputId": "dd5ce547-4700-4e55-dfcb-7b0dcc55b02f"
      },
      "source": [
        "# Here are several classic ML architectures you can choose from to experiment with next:\n",
        "from sklearn.neighbors import KNeighborsRegressor\n",
        "from sklearn.ensemble import RandomForestRegressor\n",
        "from sklearn.tree import DecisionTreeRegressor\n",
        "from sklearn.ensemble import BaggingRegressor\n",
        "from sklearn.ensemble import GradientBoostingRegressor\n",
        "\n",
        "\n",
        "#Example code to fit model:\n",
        "model = GradientBoostingRegressor(n_estimators=50, learning_rate=1.0,\n",
        "    max_depth=1, random_state=0).fit(preprocessor(X_train), y_train)\n",
        "model.score(preprocessor(X_train), y_train)\n",
        "\n",
        "# Save sklearn model to local ONNX file\n",
        "from aimodelshare.aimsonnx import model_to_onnx\n",
        "\n",
        "feature_count=preprocessor(X_test).shape[1] #Get count of preprocessed features\n",
        "initial_type = [('float_input', FloatTensorType([None, feature_count]))]  # Insert correct number of preprocessed features\n",
        "\n",
        "onnx_model = model_to_onnx(model, framework='sklearn',\n",
        "                          initial_types=initial_type,\n",
        "                          transfer_learning=False,\n",
        "                          deep_learning=False)\n",
        "\n",
        "with open(\"model.onnx\", \"wb\") as f:\n",
        "    f.write(onnx_model.SerializeToString())\n",
        "\n",
        "#-- Generate predicted values (a list of predicted labels \"real\" or \"fake\")\n",
        "prediction_labels = model.predict(preprocessor(X_test))\n",
        "\n",
        "# Submit model to Competition Leaderboard\n",
        "mycompetition.submit_model(model_filepath = \"model.onnx\",\n",
        "                                 preprocessor_filepath=\"preprocessor.zip\",\n",
        "                                 prediction_submission=prediction_labels)\n"
      ],
      "execution_count": 30,
      "outputs": [
        {
          "output_type": "stream",
          "name": "stdout",
          "text": [
            "Insert search tags to help users find your model (optional): \n",
            "Provide any useful notes about your model (optional): \n",
            "\n",
            "Your model has been submitted as model version 5\n",
            "\n",
            "To submit code used to create this model or to view current leaderboard navigate to Model Playground: \n",
            "\n",
            " https://www.modelshare.org/detail/model:1394\n"
          ]
        }
      ]
    }
  ]
}