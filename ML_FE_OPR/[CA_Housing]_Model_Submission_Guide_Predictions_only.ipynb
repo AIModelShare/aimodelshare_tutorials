{
  "nbformat": 4,
  "nbformat_minor": 0,
  "metadata": {
    "colab": {
      "name": "[CA Housing] Model Submission Guide - Predictions only (no model metadata extraction).ipynb",
      "provenance": [],
      "collapsed_sections": []
    },
    "kernelspec": {
      "name": "python3",
      "display_name": "Python 3"
    },
    "language_info": {
      "name": "python"
    }
  },
  "cells": [
    {
      "cell_type": "markdown",
      "source": [
        "<p align=\"center\"><img width=\"50%\" src=\"https://aimodelsharecontent.s3.amazonaws.com/aimodshare_banner.jpg\" /></p>\n",
        "\n",
        "\n",
        "---\n"
      ],
      "metadata": {
        "id": "m_DMeZsXxpEZ"
      }
    },
    {
      "cell_type": "markdown",
      "metadata": {
        "id": "JXxGTgJz152A"
      },
      "source": [
        "<p align=\"center\"><h1 align=\"center\">California Housing Model Submission Guide\n",
        "\n",
        "##### <p align=\"center\">*Source: Sklearn [California Housing Dataset](https://scikit-learn.org/stable/datasets/real_world.html#california-housing-dataset)* \n",
        "\n",
        "---\n",
        "Let's share our models to a centralized leaderboard, so that we can collaborate and learn from the model experimentation process...\n",
        "\n",
        "**Instructions:**\n",
        "1.   Get data in and set up X_train / X_test / y_train\n",
        "2.   Preprocess data\n",
        "3. Fit model on preprocessed data\n",
        "4. Generate predictions from X_test data and submit to competition\n",
        "5. Repeat submission process to improve place on leaderboard\n",
        "\n"
      ]
    },
    {
      "cell_type": "markdown",
      "source": [
        "**Objective:** Predict median house value for California districts, expressed in hundreds of thousands of dollars\n",
        "\n",
        "**Data**: 1990 Census attributes by Block Group. \n",
        "(A block group is the smallest geographical unit for which the U.S. Census Bureau publishes sample data. A block group typically has a population of 600 to 3,000 people.) \n",
        "\n",
        "**Features**\n",
        "* **MedInc** median income in block group\n",
        "* **HouseAge** median house age in block group\n",
        "* **AveRooms** average number of rooms per household\n",
        "* **AveBedrms** average number of bedrooms per household\n",
        "* **Population** block group population\n",
        "* **AveOccup** average number of household members\n",
        "* **Latitude** block group latitude\n",
        "* **Longitude** block group longitude\n",
        "\n",
        "**Target**\n",
        "*   Median house value for California districts, expressed in hundreds of thousands of dollars ($100,000)"
      ],
      "metadata": {
        "id": "HhTeBxIWvgmw"
      }
    },
    {
      "cell_type": "markdown",
      "metadata": {
        "id": "5gSrVJwp3E9H"
      },
      "source": [
        "## 1. Get data in and set up X_train, X_test, y_train objects"
      ]
    },
    {
      "cell_type": "code",
      "metadata": {
        "id": "PLTIaMB3ChSW"
      },
      "source": [
        "#install aimodelshare library\n",
        "! pip install aimodelshare --upgrade"
      ],
      "execution_count": null,
      "outputs": []
    },
    {
      "cell_type": "code",
      "metadata": {
        "colab": {
          "base_uri": "https://localhost:8080/"
        },
        "id": "d3PiJXBhC5y-",
        "outputId": "d22569de-b1de-42c5-ef0b-8e0545041116"
      },
      "source": [
        "# Get competition data\n",
        "from aimodelshare import download_data\n",
        "download_data('public.ecr.aws/y2e2a1d6/ca_housing_competition_data-repository:latest') "
      ],
      "execution_count": 4,
      "outputs": [
        {
          "output_type": "stream",
          "name": "stdout",
          "text": [
            "Downloading [==========================================>      ]\n",
            "\n",
            "Data downloaded successfully.\n"
          ]
        }
      ]
    },
    {
      "cell_type": "code",
      "metadata": {
        "colab": {
          "base_uri": "https://localhost:8080/",
          "height": 206
        },
        "id": "jT0qFCZFNzHq",
        "outputId": "cc3d18e4-f115-44a5-d583-2747000fee1a"
      },
      "source": [
        "# Load data into X_train, y_train, and X_test objects\n",
        "import pandas as pd\n",
        "\n",
        "X_train = pd.read_csv(\"ca_housing_competition_data/X_train.csv\")\n",
        "y_train = pd.read_csv(\"ca_housing_competition_data/y_train.csv\", squeeze=True)\n",
        "\n",
        "X_test=pd.read_csv(\"ca_housing_competition_data/X_test.csv\")\n",
        "\n",
        "X_train.head()"
      ],
      "execution_count": 5,
      "outputs": [
        {
          "output_type": "execute_result",
          "data": {
            "text/html": [
              "\n",
              "  <div id=\"df-e6610a9e-1cba-46ed-a30b-5487e4e5903f\">\n",
              "    <div class=\"colab-df-container\">\n",
              "      <div>\n",
              "<style scoped>\n",
              "    .dataframe tbody tr th:only-of-type {\n",
              "        vertical-align: middle;\n",
              "    }\n",
              "\n",
              "    .dataframe tbody tr th {\n",
              "        vertical-align: top;\n",
              "    }\n",
              "\n",
              "    .dataframe thead th {\n",
              "        text-align: right;\n",
              "    }\n",
              "</style>\n",
              "<table border=\"1\" class=\"dataframe\">\n",
              "  <thead>\n",
              "    <tr style=\"text-align: right;\">\n",
              "      <th></th>\n",
              "      <th>MedInc</th>\n",
              "      <th>HouseAge</th>\n",
              "      <th>AveRooms</th>\n",
              "      <th>AveBedrms</th>\n",
              "      <th>Population</th>\n",
              "      <th>AveOccup</th>\n",
              "      <th>Latitude</th>\n",
              "      <th>Longitude</th>\n",
              "    </tr>\n",
              "  </thead>\n",
              "  <tbody>\n",
              "    <tr>\n",
              "      <th>0</th>\n",
              "      <td>3.2596</td>\n",
              "      <td>33.0</td>\n",
              "      <td>5.017657</td>\n",
              "      <td>1.006421</td>\n",
              "      <td>2300.0</td>\n",
              "      <td>3.691814</td>\n",
              "      <td>32.71</td>\n",
              "      <td>-117.03</td>\n",
              "    </tr>\n",
              "    <tr>\n",
              "      <th>1</th>\n",
              "      <td>3.8125</td>\n",
              "      <td>49.0</td>\n",
              "      <td>4.473545</td>\n",
              "      <td>1.041005</td>\n",
              "      <td>1314.0</td>\n",
              "      <td>1.738095</td>\n",
              "      <td>33.77</td>\n",
              "      <td>-118.16</td>\n",
              "    </tr>\n",
              "    <tr>\n",
              "      <th>2</th>\n",
              "      <td>4.1563</td>\n",
              "      <td>4.0</td>\n",
              "      <td>5.645833</td>\n",
              "      <td>0.985119</td>\n",
              "      <td>915.0</td>\n",
              "      <td>2.723214</td>\n",
              "      <td>34.66</td>\n",
              "      <td>-120.48</td>\n",
              "    </tr>\n",
              "    <tr>\n",
              "      <th>3</th>\n",
              "      <td>1.9425</td>\n",
              "      <td>36.0</td>\n",
              "      <td>4.002817</td>\n",
              "      <td>1.033803</td>\n",
              "      <td>1418.0</td>\n",
              "      <td>3.994366</td>\n",
              "      <td>32.69</td>\n",
              "      <td>-117.11</td>\n",
              "    </tr>\n",
              "    <tr>\n",
              "      <th>4</th>\n",
              "      <td>3.5542</td>\n",
              "      <td>43.0</td>\n",
              "      <td>6.268421</td>\n",
              "      <td>1.134211</td>\n",
              "      <td>874.0</td>\n",
              "      <td>2.300000</td>\n",
              "      <td>36.78</td>\n",
              "      <td>-119.80</td>\n",
              "    </tr>\n",
              "  </tbody>\n",
              "</table>\n",
              "</div>\n",
              "      <button class=\"colab-df-convert\" onclick=\"convertToInteractive('df-e6610a9e-1cba-46ed-a30b-5487e4e5903f')\"\n",
              "              title=\"Convert this dataframe to an interactive table.\"\n",
              "              style=\"display:none;\">\n",
              "        \n",
              "  <svg xmlns=\"http://www.w3.org/2000/svg\" height=\"24px\"viewBox=\"0 0 24 24\"\n",
              "       width=\"24px\">\n",
              "    <path d=\"M0 0h24v24H0V0z\" fill=\"none\"/>\n",
              "    <path d=\"M18.56 5.44l.94 2.06.94-2.06 2.06-.94-2.06-.94-.94-2.06-.94 2.06-2.06.94zm-11 1L8.5 8.5l.94-2.06 2.06-.94-2.06-.94L8.5 2.5l-.94 2.06-2.06.94zm10 10l.94 2.06.94-2.06 2.06-.94-2.06-.94-.94-2.06-.94 2.06-2.06.94z\"/><path d=\"M17.41 7.96l-1.37-1.37c-.4-.4-.92-.59-1.43-.59-.52 0-1.04.2-1.43.59L10.3 9.45l-7.72 7.72c-.78.78-.78 2.05 0 2.83L4 21.41c.39.39.9.59 1.41.59.51 0 1.02-.2 1.41-.59l7.78-7.78 2.81-2.81c.8-.78.8-2.07 0-2.86zM5.41 20L4 18.59l7.72-7.72 1.47 1.35L5.41 20z\"/>\n",
              "  </svg>\n",
              "      </button>\n",
              "      \n",
              "  <style>\n",
              "    .colab-df-container {\n",
              "      display:flex;\n",
              "      flex-wrap:wrap;\n",
              "      gap: 12px;\n",
              "    }\n",
              "\n",
              "    .colab-df-convert {\n",
              "      background-color: #E8F0FE;\n",
              "      border: none;\n",
              "      border-radius: 50%;\n",
              "      cursor: pointer;\n",
              "      display: none;\n",
              "      fill: #1967D2;\n",
              "      height: 32px;\n",
              "      padding: 0 0 0 0;\n",
              "      width: 32px;\n",
              "    }\n",
              "\n",
              "    .colab-df-convert:hover {\n",
              "      background-color: #E2EBFA;\n",
              "      box-shadow: 0px 1px 2px rgba(60, 64, 67, 0.3), 0px 1px 3px 1px rgba(60, 64, 67, 0.15);\n",
              "      fill: #174EA6;\n",
              "    }\n",
              "\n",
              "    [theme=dark] .colab-df-convert {\n",
              "      background-color: #3B4455;\n",
              "      fill: #D2E3FC;\n",
              "    }\n",
              "\n",
              "    [theme=dark] .colab-df-convert:hover {\n",
              "      background-color: #434B5C;\n",
              "      box-shadow: 0px 1px 3px 1px rgba(0, 0, 0, 0.15);\n",
              "      filter: drop-shadow(0px 1px 2px rgba(0, 0, 0, 0.3));\n",
              "      fill: #FFFFFF;\n",
              "    }\n",
              "  </style>\n",
              "\n",
              "      <script>\n",
              "        const buttonEl =\n",
              "          document.querySelector('#df-e6610a9e-1cba-46ed-a30b-5487e4e5903f button.colab-df-convert');\n",
              "        buttonEl.style.display =\n",
              "          google.colab.kernel.accessAllowed ? 'block' : 'none';\n",
              "\n",
              "        async function convertToInteractive(key) {\n",
              "          const element = document.querySelector('#df-e6610a9e-1cba-46ed-a30b-5487e4e5903f');\n",
              "          const dataTable =\n",
              "            await google.colab.kernel.invokeFunction('convertToInteractive',\n",
              "                                                     [key], {});\n",
              "          if (!dataTable) return;\n",
              "\n",
              "          const docLinkHtml = 'Like what you see? Visit the ' +\n",
              "            '<a target=\"_blank\" href=https://colab.research.google.com/notebooks/data_table.ipynb>data table notebook</a>'\n",
              "            + ' to learn more about interactive tables.';\n",
              "          element.innerHTML = '';\n",
              "          dataTable['output_type'] = 'display_data';\n",
              "          await google.colab.output.renderOutput(dataTable, element);\n",
              "          const docLink = document.createElement('div');\n",
              "          docLink.innerHTML = docLinkHtml;\n",
              "          element.appendChild(docLink);\n",
              "        }\n",
              "      </script>\n",
              "    </div>\n",
              "  </div>\n",
              "  "
            ],
            "text/plain": [
              "   MedInc  HouseAge  AveRooms  ...  AveOccup  Latitude  Longitude\n",
              "0  3.2596      33.0  5.017657  ...  3.691814     32.71    -117.03\n",
              "1  3.8125      49.0  4.473545  ...  1.738095     33.77    -118.16\n",
              "2  4.1563       4.0  5.645833  ...  2.723214     34.66    -120.48\n",
              "3  1.9425      36.0  4.002817  ...  3.994366     32.69    -117.11\n",
              "4  3.5542      43.0  6.268421  ...  2.300000     36.78    -119.80\n",
              "\n",
              "[5 rows x 8 columns]"
            ]
          },
          "metadata": {},
          "execution_count": 5
        }
      ]
    },
    {
      "cell_type": "code",
      "source": [
        "print(X_train.shape)\n",
        "print(X_test.shape)\n",
        "print(y_train.shape)"
      ],
      "metadata": {
        "colab": {
          "base_uri": "https://localhost:8080/"
        },
        "id": "Uq_XUtjYxamD",
        "outputId": "7a3b0b60-9540-40c0-dc35-ec93571552f4"
      },
      "execution_count": null,
      "outputs": [
        {
          "output_type": "stream",
          "name": "stdout",
          "text": [
            "(16512, 8)\n",
            "(4128, 8)\n",
            "(16512,)\n"
          ]
        }
      ]
    },
    {
      "cell_type": "markdown",
      "metadata": {
        "id": "gEzPoXPj3V7u"
      },
      "source": [
        "##2.   Preprocess data\n"
      ]
    },
    {
      "cell_type": "code",
      "source": [
        "# Write and execute code to preprocess data here"
      ],
      "metadata": {
        "id": "Rud6IJSDzAog"
      },
      "execution_count": null,
      "outputs": []
    },
    {
      "cell_type": "markdown",
      "metadata": {
        "id": "X52kECL43b-O"
      },
      "source": [
        "##3. Fit model on preprocessed data\n"
      ]
    },
    {
      "cell_type": "code",
      "metadata": {
        "id": "NCbBf8j9ClYl"
      },
      "source": [
        "# Write and execute code to fit model on preprocessed data here."
      ],
      "execution_count": 2,
      "outputs": []
    },
    {
      "cell_type": "code",
      "metadata": {
        "id": "RtgkM02MDpkO"
      },
      "source": [
        "#Set credentials using modelshare.org username/password\n",
        "\n",
        "from aimodelshare.aws import set_credentials\n",
        "    \n",
        "apiurl=\"https://hcvbryu1a3.execute-api.us-east-1.amazonaws.com/prod/m\" \n",
        "#This is the unique rest api that powers this CA Housing Prediction Playground\n",
        "\n",
        "set_credentials(apiurl=apiurl)"
      ],
      "execution_count": null,
      "outputs": []
    },
    {
      "cell_type": "code",
      "metadata": {
        "id": "fKNGSww8EGgi"
      },
      "source": [
        "#Instantiate Competition\n",
        "import aimodelshare as ai\n",
        "mycompetition= ai.Competition(apiurl)"
      ],
      "execution_count": 7,
      "outputs": []
    },
    {
      "cell_type": "markdown",
      "source": [
        "#### **1. Submit Model predictions to leaderboard (without extracting model architecture information):**\n",
        "- model metadata extraction allows you use compare_models() and instantiate_model() functions."
      ],
      "metadata": {
        "id": "W66Pr1_K2sQV"
      }
    },
    {
      "cell_type": "code",
      "source": [
        "#Generate a list of predictions using X_test data\n",
        "\n",
        "# This example is randomly chosen values from y_train to generate a list of predictions\n",
        "\n",
        "predicted_values = list(y_train.sample(n=len(X_test.index)))"
      ],
      "metadata": {
        "id": "IS09g9DF0HGP"
      },
      "execution_count": 25,
      "outputs": []
    },
    {
      "cell_type": "code",
      "metadata": {
        "id": "_Ql4wksyEUnP"
      },
      "source": [
        "#Submit Model predictions to leaderboard (without extracting model architecture information): \n",
        "\n",
        "# Submit Model 1 to Competition Leaderboard\n",
        "mycompetition.submit_model(model_filepath = None,\n",
        "                                 preprocessor_filepath=None,\n",
        "                                 prediction_submission=predicted_values)"
      ],
      "execution_count": null,
      "outputs": []
    },
    {
      "cell_type": "code",
      "metadata": {
        "colab": {
          "base_uri": "https://localhost:8080/",
          "height": 118
        },
        "id": "GN1zvAmNEq17",
        "outputId": "dd994906-fcd3-4e87-b59b-0b19a0f73e4f"
      },
      "source": [
        "# Get leaderboard to explore current best model architectures\n",
        "\n",
        "# Get raw data in pandas data frame\n",
        "data = mycompetition.get_leaderboard()\n",
        "\n",
        "# Stylize leaderboard data\n",
        "mycompetition.stylize_leaderboard(data)"
      ],
      "execution_count": 26,
      "outputs": [
        {
          "output_type": "execute_result",
          "data": {
            "text/html": [
              "<style type=\"text/css\">\n",
              "#T_f8b4a_row0_col0 {\n",
              "  text-align: center;\n",
              "  width: 10em;\n",
              "  height: 80%;\n",
              "  background: linear-gradient(90deg,#f5f8d6 100.0%, transparent 100.0%);\n",
              "  color: #251e1b;\n",
              "  font-size: 12px;\n",
              "}\n",
              "#T_f8b4a_row0_col1 {\n",
              "  text-align: center;\n",
              "  width: 10em;\n",
              "  height: 80%;\n",
              "  background: linear-gradient(90deg,#c778c8 100.0%, transparent 100.0%);\n",
              "  color: #251e1b;\n",
              "  font-size: 12px;\n",
              "}\n",
              "#T_f8b4a_row0_col2 {\n",
              "  text-align: center;\n",
              "  width: 10em;\n",
              "  height: 80%;\n",
              "  background: linear-gradient(90deg,#ff4971 100.0%, transparent 100.0%);\n",
              "  color: #251e1b;\n",
              "  font-size: 12px;\n",
              "}\n",
              "#T_f8b4a_row0_col3 {\n",
              "  text-align: center;\n",
              "  width: 10em;\n",
              "  height: 80%;\n",
              "  background: linear-gradient(90deg,#aadbaa 100.0%, transparent 100.0%);\n",
              "  color: #251e1b;\n",
              "  font-size: 12px;\n",
              "}\n",
              "#T_f8b4a_row0_col4, #T_f8b4a_row0_col5, #T_f8b4a_row0_col6, #T_f8b4a_row0_col7, #T_f8b4a_row0_col8, #T_f8b4a_row0_col9, #T_f8b4a_row0_col10, #T_f8b4a_row0_col11 {\n",
              "  text-align: center;\n",
              "}\n",
              "</style>\n",
              "<table id=\"T_f8b4a_\" class=\"dataframe\">\n",
              "  <thead>\n",
              "    <tr>\n",
              "      <th class=\"blank level0\" >&nbsp;</th>\n",
              "      <th class=\"col_heading level0 col0\" >mse</th>\n",
              "      <th class=\"col_heading level0 col1\" >rmse</th>\n",
              "      <th class=\"col_heading level0 col2\" >mae</th>\n",
              "      <th class=\"col_heading level0 col3\" >r2</th>\n",
              "      <th class=\"col_heading level0 col4\" >ml_framework</th>\n",
              "      <th class=\"col_heading level0 col5\" >transfer_learning</th>\n",
              "      <th class=\"col_heading level0 col6\" >deep_learning</th>\n",
              "      <th class=\"col_heading level0 col7\" >model_type</th>\n",
              "      <th class=\"col_heading level0 col8\" >num_params</th>\n",
              "      <th class=\"col_heading level0 col9\" >model_config</th>\n",
              "      <th class=\"col_heading level0 col10\" >username</th>\n",
              "      <th class=\"col_heading level0 col11\" >version</th>\n",
              "    </tr>\n",
              "  </thead>\n",
              "  <tbody>\n",
              "    <tr>\n",
              "      <th id=\"T_f8b4a_level0_row0\" class=\"row_heading level0 row0\" >0</th>\n",
              "      <td id=\"T_f8b4a_row0_col0\" class=\"data row0 col0\" >0.56</td>\n",
              "      <td id=\"T_f8b4a_row0_col1\" class=\"data row0 col1\" >0.75</td>\n",
              "      <td id=\"T_f8b4a_row0_col2\" class=\"data row0 col2\" >0.53</td>\n",
              "      <td id=\"T_f8b4a_row0_col3\" class=\"data row0 col3\" >0.58</td>\n",
              "      <td id=\"T_f8b4a_row0_col4\" class=\"data row0 col4\" >sklearn</td>\n",
              "      <td id=\"T_f8b4a_row0_col5\" class=\"data row0 col5\" >False</td>\n",
              "      <td id=\"T_f8b4a_row0_col6\" class=\"data row0 col6\" >False</td>\n",
              "      <td id=\"T_f8b4a_row0_col7\" class=\"data row0 col7\" >LinearRegression</td>\n",
              "      <td id=\"T_f8b4a_row0_col8\" class=\"data row0 col8\" >8</td>\n",
              "      <td id=\"T_f8b4a_row0_col9\" class=\"data row0 col9\" >{'copy_X': True, 'fit_intercep...</td>\n",
              "      <td id=\"T_f8b4a_row0_col10\" class=\"data row0 col10\" >ML_FE_OPR</td>\n",
              "      <td id=\"T_f8b4a_row0_col11\" class=\"data row0 col11\" >1</td>\n",
              "    </tr>\n",
              "  </tbody>\n",
              "</table>\n"
            ],
            "text/plain": [
              "<pandas.io.formats.style.Styler at 0x7f1d4a378410>"
            ]
          },
          "metadata": {},
          "execution_count": 26
        }
      ]
    },
    {
      "cell_type": "markdown",
      "source": [
        "You can also compare two or more models for any models submitted to the leaderboard using example code for model metadata extraction (see code tab for this competition at www.modelshare.org for submission examples.)\n",
        "\n",
        "```\n",
        "data=mycompetition.compare_models([1,2], verbose=1)\n",
        "mycompetition.stylize_compare(data)\n",
        "```\n",
        "\n"
      ],
      "metadata": {
        "id": "OK9F-jPs38K5"
      }
    },
    {
      "cell_type": "markdown",
      "metadata": {
        "id": "bwNKs0wP4r5s"
      },
      "source": [
        "#####  (Optional Extension) Submit Model With Custom Metadata: \n",
        "Can use to add team names or any other missing data you may wish to share on the leaderboard\n"
      ]
    },
    {
      "cell_type": "code",
      "metadata": {
        "id": "FgSs5PAtPCZH"
      },
      "source": [
        "# Custom metadata can be added by passing a dict to the custom_metadata argument of the submit_model() method\n",
        "# This option can be used to fill in missing data points or add new columns to the leaderboard\n",
        "\n",
        "custom_meta = {'team': 'team one',\n",
        "               'model_type': 'your_model_type',\n",
        "               'new_column': 'new metadata'}\n",
        "\n",
        "mycompetition.submit_model(model_filepath = None,\n",
        "                                 preprocessor_filepath=None,\n",
        "                                 prediction_submission=predicted_values,\n",
        "                                 custom_metadata = custom_meta)"
      ],
      "execution_count": null,
      "outputs": []
    }
  ]
}
