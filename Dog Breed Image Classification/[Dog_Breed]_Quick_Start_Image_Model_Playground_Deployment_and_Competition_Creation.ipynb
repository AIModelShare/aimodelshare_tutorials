{
  "nbformat": 4,
  "nbformat_minor": 0,
  "metadata": {
    "accelerator": "GPU",
    "colab": {
      "name": "[Dog Breed] Quick Start: Image Model Playground Deployment and Competition Creation.ipynb",
      "provenance": [],
      "collapsed_sections": []
    },
    "kernelspec": {
      "display_name": "Python 3",
      "language": "python",
      "name": "python3"
    },
    "language_info": {
      "codemirror_mode": {
        "name": "ipython",
        "version": 3
      },
      "file_extension": ".py",
      "mimetype": "text/x-python",
      "name": "python",
      "nbconvert_exporter": "python",
      "pygments_lexer": "ipython3",
      "version": "3.7.5"
    }
  },
  "cells": [
    {
      "cell_type": "markdown",
      "metadata": {
        "id": "0BviI4QIdWiq"
      },
      "source": [
        "<p align=\"center\"><img width=\"50%\" src=\"https://aimodelsharecontent.s3.amazonaws.com/aimodshare_banner.jpg\" /></p>\n",
        "\n",
        "\n",
        "---\n",
        "\n",
        "\n"
      ]
    },
    {
      "cell_type": "markdown",
      "metadata": {
        "id": "gYNp684Tk3tb"
      },
      "source": [
        "<p align=\"center\"><h1 align=\"center\">Quick Start: Dog Breed Image Classification Tutorial</h1> \n",
        "\n",
        "---\n",
        "\n",
        "<h3 align=\"center\">(Deploy model to an AI Model Share Model Playground REST API<br> and Web Dashboard in five easy steps...)</h3></p>\n",
        "<p align=\"center\"><img width=\"100%\" src=\"https://aimodelsharecontent.s3.amazonaws.com/aimstutorialsteps.gif\" /></p>\n",
        "\n",
        "\n",
        "---\n",
        "\n"
      ]
    },
    {
      "cell_type": "markdown",
      "metadata": {
        "id": "0PhJ-XlGazpD"
      },
      "source": [
        "## **Credential Configuration**\n",
        "\n",
        "In order to deploy an AI Model Share Model Playground, you will need a credentials text file. \n",
        "\n",
        "Generating your credentials file requires two sets of information: \n",
        "1. Your AI Model Share username and password (create them [HERE](https://www.modelshare.org/login)). \n",
        "2. Your AWS (Amazon Web Services) access keys (follow the tutorial [HERE](https://docs.aws.amazon.com/general/latest/gr/aws-sec-cred-types.html)). \n",
        "\n",
        "You only need to generate your credentials file once. After running the configure function below, save the outputted file for all your future Model Playground deployments and competition submissions. \n",
        "\n",
        "*Note: Handle your credentials file with the same level of security you handle your passwords. Do not share your file with anyone, send via email, or upload to Github.*\n"
      ]
    },
    {
      "cell_type": "code",
      "metadata": {
        "id": "puVzQBHyhS2Z"
      },
      "source": [
        "#install aimodelshare library\n",
        "! pip install aimodelshare"
      ],
      "execution_count": null,
      "outputs": []
    },
    {
      "cell_type": "code",
      "metadata": {
        "id": "4Q7MCqBLcS20"
      },
      "source": [
        "# Generate credentials file\n",
        "import aimodelshare as ai \n",
        "from aimodelshare.aws import configure_credentials \n",
        "\n",
        "configure_credentials()"
      ],
      "execution_count": null,
      "outputs": []
    },
    {
      "cell_type": "markdown",
      "metadata": {
        "id": "VliTV_HH-uz4"
      },
      "source": [
        "## **Set up Environment**\n",
        "\n",
        "Use your credentials file to set your credentials for all aimodelshare functions. "
      ]
    },
    {
      "cell_type": "code",
      "metadata": {
        "colab": {
          "base_uri": "https://localhost:8080/"
        },
        "id": "2u1QKNfEyN9A",
        "outputId": "d807f322-01ff-4f48-a3ec-abf98bcd21ea"
      },
      "source": [
        "# Set credentials \n",
        "import aimodelshare as ai\n",
        "from aimodelshare.aws import set_credentials\n",
        "\n",
        "set_credentials(credential_file=\"credentials.txt\", type=\"deploy_model\")"
      ],
      "execution_count": 2,
      "outputs": [
        {
          "output_type": "stream",
          "name": "stdout",
          "text": [
            "AI Model Share login credentials set successfully.\n",
            "AWS credentials set successfully.\n"
          ]
        }
      ]
    },
    {
      "cell_type": "code",
      "metadata": {
        "colab": {
          "base_uri": "https://localhost:8080/"
        },
        "id": "PwQcTsyyURIk",
        "outputId": "bce74a5a-8690-417b-a4a2-9deb138464e3"
      },
      "source": [
        "# Get materials for tutorial\n",
        "import aimodelshare as ai\n",
        "keras_model, y_train = ai.import_quickstart_data(\"dogs\")"
      ],
      "execution_count": 3,
      "outputs": [
        {
          "output_type": "stream",
          "name": "stdout",
          "text": [
            "Downloading [================================================>]\n",
            "\n",
            "Data downloaded successfully.\n",
            "\n",
            "Preparing downloaded files for use...\n",
            "\n",
            "Success! Your Quick Start materials have been downloaded. \n",
            "You are now ready to run the tutorial.\n"
          ]
        }
      ]
    },
    {
      "cell_type": "markdown",
      "metadata": {
        "id": "bIleM1F6nWSF"
      },
      "source": [
        "## **(1) Preprocessor Function & Setup**"
      ]
    },
    {
      "cell_type": "markdown",
      "metadata": {
        "id": "WrEgo5zRxbed"
      },
      "source": [
        "### **Write a Preprocessor Function**\n",
        "\n",
        "\n",
        "> ###   Preprocessor functions are used to preprocess data into the precise data your model requires to generate predictions.  \n",
        "\n",
        "*  *Preprocessor functions should always be named \"preprocessor\".*\n",
        "*  *You can use any Python library in a preprocessor function, but all libraries should be imported inside your preprocessor function.*  \n",
        "*  *For image prediction models users should minimally include function inputs for an image filepath and values to reshape the image height and width.*  \n",
        "\n"
      ]
    },
    {
      "cell_type": "code",
      "metadata": {
        "id": "B5Jz-1cmYN5Z"
      },
      "source": [
        "# Here is a pre-designed preprocessor, but you could also build your own to prepare the data differently\n",
        "\n",
        "def preprocessor(image_filepath, shape=(192, 192)):\n",
        "        \"\"\"\n",
        "        This function preprocesses reads in images, resizes them to a fixed shape and\n",
        "        min/max transforms them before converting feature values to float32 numeric values\n",
        "        required by onnx files.\n",
        "        \n",
        "        params:\n",
        "            image_filepath\n",
        "                full filepath of a particular image\n",
        "                      \n",
        "        returns:\n",
        "            X\n",
        "                numpy array of preprocessed image data\n",
        "                  \n",
        "        \"\"\"\n",
        "           \n",
        "        import cv2\n",
        "        import numpy as np\n",
        "\n",
        "        \"Resize a color image and min/max transform the image\"\n",
        "        img = cv2.imread(image_filepath) # Read in image from filepath.\n",
        "        img = cv2.cvtColor(img, cv2.COLOR_BGR2RGB) # cv2 reads in images in order of blue green and red, we reverse the order for ML.\n",
        "        img = cv2.resize(img, shape) # Change height and width of image.\n",
        "        img = img / 255.0 # Min-max transform.\n",
        "\n",
        "\n",
        "        # Resize all the images...\n",
        "        X = np.array(img)\n",
        "        X = np.expand_dims(X, axis=0) # Expand dims to add \"1\" to object shape [1, h, w, channels] for keras model.\n",
        "        X = np.array(X, dtype=np.float32) # Final shape for onnx runtime.\n",
        "        return X"
      ],
      "execution_count": 4,
      "outputs": []
    },
    {
      "cell_type": "markdown",
      "metadata": {
        "id": "xJlhd6jvns0b"
      },
      "source": [
        "## **(2) Train Model Using tf.keras (or Your Preferred ML Library)**"
      ]
    },
    {
      "cell_type": "markdown",
      "metadata": {
        "id": "fP7ZIVKe3luZ"
      },
      "source": [
        "### Keras **Convolutional Neural Network**"
      ]
    },
    {
      "cell_type": "code",
      "metadata": {
        "colab": {
          "base_uri": "https://localhost:8080/"
        },
        "id": "Tnrmg_aO230E",
        "outputId": "9fa0391c-6abb-4e24-9986-6c8d53985b53"
      },
      "source": [
        "#Here is a pre-trained keras_model, but you could also train your own model after preprocessing data with your preprocessor function.\n",
        "keras_model.summary()"
      ],
      "execution_count": 5,
      "outputs": [
        {
          "output_type": "stream",
          "name": "stdout",
          "text": [
            "Model: \"sequential_1\"\n",
            "_________________________________________________________________\n",
            " Layer (type)                Output Shape              Param #   \n",
            "=================================================================\n",
            " conv2d_4_0.7168185046863526  (None, 192, 192, 32)     416       \n",
            "  (Conv2D)                                                       \n",
            "                                                                 \n",
            " conv2d_5_0.1455305032647366  (None, 192, 192, 32)     4128      \n",
            "  (Conv2D)                                                       \n",
            "                                                                 \n",
            " max_pooling2d_2_0.785519178  (None, 96, 96, 32)       0         \n",
            " 763776 (MaxPooling2D)                                           \n",
            "                                                                 \n",
            " conv2d_6_0.960894355647267   (None, 96, 96, 16)       2064      \n",
            " (Conv2D)                                                        \n",
            "                                                                 \n",
            " conv2d_7_0.2021070681947868  (None, 96, 96, 16)       1040      \n",
            " 5 (Conv2D)                                                      \n",
            "                                                                 \n",
            " max_pooling2d_3_0.469764187  (None, 48, 48, 16)       0         \n",
            " 831733 (MaxPooling2D)                                           \n",
            "                                                                 \n",
            " dropout_2_0.914129558195937  (None, 48, 48, 16)       0         \n",
            "  (Dropout)                                                      \n",
            "                                                                 \n",
            " flatten_1_0.844479464096686  (None, 36864)            0         \n",
            " 6 (Flatten)                                                     \n",
            "                                                                 \n",
            " dense_2_0.43298727776195545  (None, 50)               1843250   \n",
            "  (Dense)                                                        \n",
            "                                                                 \n",
            " dropout_3_0.187529022835098  (None, 50)               0         \n",
            " 76 (Dropout)                                                    \n",
            "                                                                 \n",
            " dense_3_0.7302858206580396   (None, 6)                306       \n",
            " (Dense)                                                         \n",
            "                                                                 \n",
            "=================================================================\n",
            "Total params: 1,851,204\n",
            "Trainable params: 1,851,204\n",
            "Non-trainable params: 0\n",
            "_________________________________________________________________\n"
          ]
        }
      ]
    },
    {
      "cell_type": "markdown",
      "metadata": {
        "id": "FZGlu5PMWbNO"
      },
      "source": [
        "## **(3) Save Preprocessor**\n",
        "### Saves preprocessor function to \"preprocessor.zip\" file"
      ]
    },
    {
      "cell_type": "code",
      "metadata": {
        "colab": {
          "base_uri": "https://localhost:8080/"
        },
        "id": "Wh_vkwblXx7r",
        "outputId": "4b028b7b-0da0-4dcd-a3a4-8aa1a87aea2b"
      },
      "source": [
        "import aimodelshare as ai\n",
        "ai.export_preprocessor(preprocessor,\"\") "
      ],
      "execution_count": 6,
      "outputs": [
        {
          "output_type": "stream",
          "name": "stdout",
          "text": [
            "Your preprocessor is now saved to 'preprocessor.zip'\n"
          ]
        }
      ]
    },
    {
      "cell_type": "code",
      "metadata": {
        "colab": {
          "base_uri": "https://localhost:8080/"
        },
        "id": "b58rg4pMMn4n",
        "outputId": "cf286395-7e26-4765-e266-3d976fea8c5f"
      },
      "source": [
        "#  Now let's import and test the preprocessor function to see if it is working...\n",
        "\n",
        "import aimodelshare as ai\n",
        "prep=ai.import_preprocessor(\"preprocessor.zip\")\n",
        "\n",
        "prep(\"dog_breed_quickstart_materials/example_data/n02088238_10051.jpg\").shape"
      ],
      "execution_count": 7,
      "outputs": [
        {
          "output_type": "execute_result",
          "data": {
            "text/plain": [
              "(1, 192, 192, 3)"
            ]
          },
          "metadata": {},
          "execution_count": 7
        }
      ]
    },
    {
      "cell_type": "markdown",
      "metadata": {
        "id": "CdQOeF2J3PCv"
      },
      "source": [
        "## **(4) Save Keras Model to ONNX File Format**\n"
      ]
    },
    {
      "cell_type": "code",
      "metadata": {
        "id": "r8fgi8f6qkbk"
      },
      "source": [
        "# Save tf.keras model (or any tensorflow model) to local ONNX file\n",
        "from aimodelshare.aimsonnx import model_to_onnx\n",
        "\n",
        "onnx_model = model_to_onnx(keras_model, framework='keras',\n",
        "                          transfer_learning=False,\n",
        "                          deep_learning=True)\n",
        "\n",
        "with open(\"model.onnx\", \"wb\") as f:\n",
        "    f.write(onnx_model.SerializeToString())"
      ],
      "execution_count": 8,
      "outputs": []
    },
    {
      "cell_type": "markdown",
      "metadata": {
        "id": "1swt74XQUIFh"
      },
      "source": [
        "## **(5) Create your Model Playground**"
      ]
    },
    {
      "cell_type": "code",
      "metadata": {
        "id": "Y-YKEcvDNmD3"
      },
      "source": [
        "#Set up arguments for Model Playground deployment\n",
        "import pandas as pd \n",
        "\n",
        "model_filepath=\"model.onnx\"\n",
        "preprocessor_filepath=\"preprocessor.zip\"\n",
        "exampledata_filepath = \"dog_breed_quickstart_materials/example_data\" "
      ],
      "execution_count": 9,
      "outputs": []
    },
    {
      "cell_type": "code",
      "metadata": {
        "colab": {
          "base_uri": "https://localhost:8080/"
        },
        "id": "T8C6IlYTFN5t",
        "outputId": "9c1509f2-bf62-4465-ef7b-b42f725b9d91"
      },
      "source": [
        "from aimodelshare import ModelPlayground\n",
        "\n",
        "#Instantiate ModelPlayground() Class\n",
        "\n",
        "myplayground=ModelPlayground(model_type=\"image\", classification=True, private=False)\n",
        "\n",
        "# Create Model Playground (generates live rest api and web-app for your model/preprocessor)\n",
        "\n",
        "myplayground.deploy(model_filepath, preprocessor_filepath, y_train, exampledata_filepath) "
      ],
      "execution_count": 10,
      "outputs": [
        {
          "output_type": "stream",
          "name": "stdout",
          "text": [
            "We need some information about your model before we can build your REST API and interactive Model Playground.\n",
            "   \n",
            "Model Name (for AI Model Share Website):Dog Breed Classification\n",
            "Model Description (Explain what your model does and \n",
            " why end-users would find your model useful):Look at pictures of dogs and determine which of 6 different breeds they belong to.\n",
            "Model Key Words (Search categories that describe your model, separated with commas):dogs, imge, classification\n",
            "   \n",
            "Creating your prediction API. (This process may take several minutes.)\n",
            "\n",
            "[=====================================] Progress: 100% - Complete!                                            \n",
            "\n",
            "Success! Your Model Playground was created in 110 seconds. \n",
            " Playground Url: \"https://o537m24bc5.execute-api.us-east-1.amazonaws.com/prod/m\"\n",
            "\n",
            "You can now use your Model Playground.\n",
            "\n",
            "Follow this link to explore your Model Playground's functionality\n",
            "You can make predictions with the Dashboard and access example code from the Programmatic tab.\n",
            "https://www.modelshare.org/detail/model:1313\n"
          ]
        }
      ]
    },
    {
      "cell_type": "markdown",
      "metadata": {
        "id": "Eb9dfUFHhLr-"
      },
      "source": [
        "## **Use your new Model Playground!**\n",
        "\n",
        "Follow the link in the output above to:\n",
        "- Generate predictions with your interactive web dashboard\n",
        "- Access example code in Python, R, and Curl\n",
        "\n",
        "Or, follow the rest of the tutorial to create a competition for your Model Playground and: \n",
        "- Access verified model performance metrics \n",
        "- Upload multiple models to a leaderboard \n",
        "- Easily compare model performance & structure "
      ]
    },
    {
      "cell_type": "markdown",
      "metadata": {
        "id": "9YpyLkQNfqSI"
      },
      "source": [
        "## **Part 2: Create a Competition**\n",
        "\n",
        "-------\n",
        "\n",
        "After deploying your Model Playground, you can now create a competition. \n",
        "\n",
        "Creating a competition allows you to:\n",
        "1. Verify the model performance metrics on aimodelshare.org\n",
        "2. Submit models to a leaderboard\n",
        "3. Grant access to other users to submit models to the leaderboard\n",
        "4. Easily compare model performance and structure "
      ]
    },
    {
      "cell_type": "code",
      "metadata": {
        "colab": {
          "base_uri": "https://localhost:8080/"
        },
        "id": "pmklVtx1dFXB",
        "outputId": "80e1b447-5328-46a7-ed79-2194d12deb2f"
      },
      "source": [
        "#Download competition dog breed image data and a list of y_test labels to use to evaluate model prediction submissions\n",
        "import aimodelshare as ai\n",
        "keras_model_2, y_test_labels = ai.import_quickstart_data(\"dogs\", \"competition\")"
      ],
      "execution_count": 11,
      "outputs": [
        {
          "output_type": "stream",
          "name": "stdout",
          "text": [
            "Downloading [================================================>]\n",
            "\n",
            "Data downloaded successfully.\n",
            "\n",
            "Preparing downloaded files for use...\n",
            "\n",
            "Success! Your Quick Start materials have been downloaded. \n",
            "You are now ready to run the tutorial.\n"
          ]
        }
      ]
    },
    {
      "cell_type": "code",
      "metadata": {
        "id": "Zr_aNRhhDJAM"
      },
      "source": [
        "# Create list of authorized participants for competition\n",
        "# Note that participants should use the same email address when creating modelshare.org account\n",
        "\n",
        "emaillist=[\"emailaddress1@email.com\", \"emailaddress2@email.com\", \"emailaddress3@email.com\"]"
      ],
      "execution_count": null,
      "outputs": []
    },
    {
      "cell_type": "code",
      "metadata": {
        "colab": {
          "base_uri": "https://localhost:8080/"
        },
        "id": "o2nKrLAMgc9o",
        "outputId": "15bffc1f-72fe-4e4b-a08c-6a40da856f9b"
      },
      "source": [
        "# Create Competition\n",
        "# Note -- Make competition public (allow any AI Model Share user to submit models) \n",
        "# .... by excluding the email_list argument and including the 'public=True' argument \n",
        "\n",
        "myplayground.create_competition(data_directory='dog_competition_data', \n",
        "                                y_test = y_test_labels, \n",
        "                                email_list=emaillist)\n",
        "                              #  public=True)"
      ],
      "execution_count": 12,
      "outputs": [
        {
          "output_type": "stream",
          "name": "stdout",
          "text": [
            "\n",
            "--INPUT COMPETITION DETAILS--\n",
            "\n",
            "Enter competition name:Dog Breed Classification Competition\n",
            "Enter competition description:Determne which breed dogs are by their pictures\n",
            "\n",
            "--INPUT DATA DETAILS--\n",
            "\n",
            "Note: (optional) Save an optional LICENSE.txt file in your competition data directory to make users aware of any restrictions on data sharing/usage.\n",
            "\n",
            "Enter data description (i.e.- filenames denoting training and test data, file types, and any subfolders where files are stored):Competition data folder contains labeled training and test images.\n",
            "Enter optional data license descriptive name (e.g.- 'MIT, Apache 2.0, CC0, Other, etc.'):\n",
            "Uploading your data. Please wait for a confirmation message.\n",
            "\n",
            " Success! Model competition created. \n",
            "\n",
            "You may now update your prediction API runtime model and verify evaluation metrics with the update_runtime_model() function.\n",
            "\n",
            "To upload new models and/or preprocessors to this API, team members should use \n",
            "the following credentials:\n",
            "\n",
            "apiurl='https://o537m24bc5.execute-api.us-east-1.amazonaws.com/prod/m'\n",
            "from aimodelshare.aws import set_credentials\n",
            "set_credentials(apiurl=apiurl)\n",
            "\n",
            "They can then submit models to your competition by using the following code: \n",
            "\n",
            "competition= ai.Competition(apiurl)\n",
            "download_data('public.ecr.aws/y2e2a1d6/dog_competition_data-repository:latest') \n",
            "# Use this data to preprocess data and train model. Write and save preprocessor fxn, save model to onnx file, generate predicted y values\n",
            " using X test data, then submit a model below.\n",
            "\n",
            "competition.submit_model(model_filepath, preprocessor_filepath, prediction_submission_list)\n"
          ]
        }
      ]
    },
    {
      "cell_type": "code",
      "metadata": {
        "id": "SAJJWhdAfyo5"
      },
      "source": [
        "#Instantiate Competition\n",
        "#--Note: If you start a new session, the first argument should be the Model Playground url in quotes. \n",
        "#--e.g.- mycompetition= ai.Competition(\"https://2121212.execute-api.us-east-1.amazonaws.com/prod/m)\n",
        "#See Model Playground \"Compete\" tab for example model submission code.\n",
        "\n",
        "mycompetition= ai.Competition(myplayground.playground_url)"
      ],
      "execution_count": 13,
      "outputs": []
    },
    {
      "cell_type": "code",
      "metadata": {
        "id": "q6Rfl0VwDPz2"
      },
      "source": [
        "# Add, remove, or completely update authorized participants for competition later\n",
        "emaillist=[\"emailaddress4@gmail.com\"]\n",
        "\n",
        "mycompetition.update_access_list(email_list=emaillist,update_type=\"Add\")"
      ],
      "execution_count": null,
      "outputs": []
    },
    {
      "cell_type": "markdown",
      "metadata": {
        "id": "mqyzWZPwgoEH"
      },
      "source": [
        "Submit Models"
      ]
    },
    {
      "cell_type": "code",
      "metadata": {
        "id": "BTR-QETYdwbZ"
      },
      "source": [
        "# Preprocess X_test image data to generate predictions from models \n",
        "import numpy as np\n",
        "\n",
        "file_names = [('dog_competition_data/test_images/' + str(i) + '.jpg') for i in range(1, 212)]\n",
        "\n",
        "preprocessed_image_data = [preprocessor(x) for x in file_names]\n",
        "\n",
        "#Create single X_test array from preprocessed images\n",
        "X_test = np.vstack(preprocessed_image_data) "
      ],
      "execution_count": 14,
      "outputs": []
    },
    {
      "cell_type": "code",
      "metadata": {
        "colab": {
          "base_uri": "https://localhost:8080/"
        },
        "id": "sJgu9K92DS8O",
        "outputId": "6fb8dd73-ed80-41d4-a2e1-79cffcaabb08"
      },
      "source": [
        "#Authorized users can submit new models after setting credentials using modelshare.org username/password\n",
        "from aimodelshare.aws import set_credentials \n",
        "\n",
        "apiurl=myplayground.playground_url # example url from deployed playground: apiurl= \"https://123456.execute-api.us-east-1.amazonaws.com/prod/m\n",
        "\n",
        "set_credentials(apiurl=apiurl)"
      ],
      "execution_count": 15,
      "outputs": [
        {
          "output_type": "stream",
          "name": "stdout",
          "text": [
            "AI Modelshare Username:··········\n",
            "AI Modelshare Password:··········\n",
            "AI Model Share login credentials set successfully.\n"
          ]
        }
      ]
    },
    {
      "cell_type": "code",
      "metadata": {
        "colab": {
          "base_uri": "https://localhost:8080/"
        },
        "id": "pJC2jl2PgfTf",
        "outputId": "7824f0bb-7f51-42aa-e988-6facaff31602"
      },
      "source": [
        "#Submit Model 1: \n",
        "\n",
        "#-- Generate predicted y values (Model 1)\n",
        "#Note: Keras predict returns the predicted column index location for classification models\n",
        "prediction_column_index=keras_model.predict(X_test).argmax(axis=1)\n",
        "\n",
        "# extract correct prediction labels \n",
        "prediction_labels = [y_train.columns[i] for i in prediction_column_index]\n",
        "\n",
        "# Submit Model 1 to Competition Leaderboard\n",
        "mycompetition.submit_model(model_filepath = \"model.onnx\",\n",
        "                                 preprocessor_filepath=\"preprocessor.zip\",\n",
        "                                 prediction_submission=prediction_labels)"
      ],
      "execution_count": 16,
      "outputs": [
        {
          "output_type": "stream",
          "name": "stdout",
          "text": [
            "Insert search tags to help users find your model (optional): \n",
            "Provide any useful notes about your model (optional): \n",
            "\n",
            "Your model has been submitted as model version 1\n",
            "\n",
            "To submit code used to create this model or to view current leaderboard navigate to Model Playground: \n",
            "\n",
            " https://www.modelshare.org/detail/model:1313\n"
          ]
        }
      ]
    },
    {
      "cell_type": "code",
      "metadata": {
        "colab": {
          "base_uri": "https://localhost:8080/"
        },
        "id": "hpzXNVPTop-O",
        "outputId": "c84fe5d8-6c69-4198-fe84-5f407791b105"
      },
      "source": [
        "# Have a look at architecture for model two\n",
        "keras_model_2.summary()"
      ],
      "execution_count": 17,
      "outputs": [
        {
          "output_type": "stream",
          "name": "stdout",
          "text": [
            "Model: \"sequential_4\"\n",
            "_________________________________________________________________\n",
            " Layer (type)                Output Shape              Param #   \n",
            "=================================================================\n",
            " dense_12_0.1181823195816128  (None, 192, 192, 64)     256       \n",
            " 5 (Dense)                                                       \n",
            "                                                                 \n",
            " dense_13_0.0153209466906722  (None, 192, 192, 64)     4160      \n",
            " 99 (Dense)                                                      \n",
            "                                                                 \n",
            " dense_14_0.9904214824527724  (None, 192, 192, 64)     4160      \n",
            "  (Dense)                                                        \n",
            "                                                                 \n",
            " flatten_4_0.735417567871761  (None, 2359296)          0         \n",
            " 2 (Flatten)                                                     \n",
            "                                                                 \n",
            " dense_15_0.5301926878114869  (None, 6)                14155782  \n",
            "  (Dense)                                                        \n",
            "                                                                 \n",
            "=================================================================\n",
            "Total params: 14,164,358\n",
            "Trainable params: 14,164,358\n",
            "Non-trainable params: 0\n",
            "_________________________________________________________________\n"
          ]
        }
      ]
    },
    {
      "cell_type": "code",
      "metadata": {
        "id": "jraPDdsNX46e"
      },
      "source": [
        "# Save Model 2 to .onnx file\n",
        "\n",
        "# Save tf.keras model to ONNX file\n",
        "onnx_cnn2 = model_to_onnx(keras_model_2, framework='keras',\n",
        "                          transfer_learning=False,\n",
        "                          deep_learning=True)\n",
        "\n",
        "# Save model to local .onnx file\n",
        "with open(\"model_2.onnx\", \"wb\") as f:\n",
        "    f.write(onnx_cnn2.SerializeToString()) "
      ],
      "execution_count": 18,
      "outputs": []
    },
    {
      "cell_type": "code",
      "metadata": {
        "colab": {
          "base_uri": "https://localhost:8080/"
        },
        "id": "Cme7T_gaYWlD",
        "outputId": "f7d83040-82cd-432d-cb50-cdf169d5e196"
      },
      "source": [
        "# Submit Model 2\n",
        "\n",
        "#-- Generate predicted y values (Model 2)\n",
        "prediction_column_index=keras_model_2.predict(X_test).argmax(axis=1)\n",
        "\n",
        "# extract correct prediction labels \n",
        "prediction_labels = [y_train.columns[i] for i in prediction_column_index]\n",
        "\n",
        "# Submit Model 2 to Competition Leaderboard\n",
        "mycompetition.submit_model(model_filepath = \"model_2.onnx\",\n",
        "                                 prediction_submission=prediction_labels,\n",
        "                                 preprocessor_filepath=\"preprocessor.zip\")"
      ],
      "execution_count": 19,
      "outputs": [
        {
          "output_type": "stream",
          "name": "stdout",
          "text": [
            "Insert search tags to help users find your model (optional): \n",
            "Provide any useful notes about your model (optional): \n",
            "\n",
            "Your model has been submitted as model version 2\n",
            "\n",
            "To submit code used to create this model or to view current leaderboard navigate to Model Playground: \n",
            "\n",
            " https://www.modelshare.org/detail/model:1313\n"
          ]
        }
      ]
    },
    {
      "cell_type": "markdown",
      "metadata": {
        "id": "iLYlCkWchWC_"
      },
      "source": [
        "Get Leaderboard"
      ]
    },
    {
      "cell_type": "code",
      "metadata": {
        "colab": {
          "base_uri": "https://localhost:8080/",
          "height": 169
        },
        "id": "J0-B1h0chYDL",
        "outputId": "cbb55d93-328c-493a-ffa7-1f1665734ed9"
      },
      "source": [
        "data = mycompetition.get_leaderboard()\n",
        "mycompetition.stylize_leaderboard(data)"
      ],
      "execution_count": 20,
      "outputs": [
        {
          "output_type": "execute_result",
          "data": {
            "text/html": [
              "<style  type=\"text/css\" >\n",
              "#T_a02df6a8_7fac_11ec_90f3_0242ac1c0002row0_col0{\n",
              "            text-align:  center;\n",
              "            width:  10em;\n",
              "             height:  80%;\n",
              "            background:  linear-gradient(90deg,#f5f8d6 29.4%, transparent 29.4%);\n",
              "            color:  #251e1b;\n",
              "            font-size:  12px;\n",
              "        }#T_a02df6a8_7fac_11ec_90f3_0242ac1c0002row0_col1{\n",
              "            text-align:  center;\n",
              "            width:  10em;\n",
              "             height:  80%;\n",
              "            background:  linear-gradient(90deg,#c778c8 22.7%, transparent 22.7%);\n",
              "            color:  #251e1b;\n",
              "            font-size:  12px;\n",
              "        }#T_a02df6a8_7fac_11ec_90f3_0242ac1c0002row0_col2{\n",
              "            text-align:  center;\n",
              "            width:  10em;\n",
              "             height:  80%;\n",
              "            background:  linear-gradient(90deg,#ff4971 20.2%, transparent 20.2%);\n",
              "            color:  #251e1b;\n",
              "            font-size:  12px;\n",
              "        }#T_a02df6a8_7fac_11ec_90f3_0242ac1c0002row0_col3{\n",
              "            text-align:  center;\n",
              "            width:  10em;\n",
              "             height:  80%;\n",
              "            background:  linear-gradient(90deg,#aadbaa 30.5%, transparent 30.5%);\n",
              "            color:  #251e1b;\n",
              "            font-size:  12px;\n",
              "        }#T_a02df6a8_7fac_11ec_90f3_0242ac1c0002row0_col4,#T_a02df6a8_7fac_11ec_90f3_0242ac1c0002row0_col5,#T_a02df6a8_7fac_11ec_90f3_0242ac1c0002row0_col6,#T_a02df6a8_7fac_11ec_90f3_0242ac1c0002row0_col7,#T_a02df6a8_7fac_11ec_90f3_0242ac1c0002row0_col8,#T_a02df6a8_7fac_11ec_90f3_0242ac1c0002row0_col9,#T_a02df6a8_7fac_11ec_90f3_0242ac1c0002row0_col10,#T_a02df6a8_7fac_11ec_90f3_0242ac1c0002row0_col11,#T_a02df6a8_7fac_11ec_90f3_0242ac1c0002row0_col12,#T_a02df6a8_7fac_11ec_90f3_0242ac1c0002row0_col13,#T_a02df6a8_7fac_11ec_90f3_0242ac1c0002row0_col14,#T_a02df6a8_7fac_11ec_90f3_0242ac1c0002row0_col15,#T_a02df6a8_7fac_11ec_90f3_0242ac1c0002row0_col16,#T_a02df6a8_7fac_11ec_90f3_0242ac1c0002row0_col17,#T_a02df6a8_7fac_11ec_90f3_0242ac1c0002row0_col18,#T_a02df6a8_7fac_11ec_90f3_0242ac1c0002row0_col19,#T_a02df6a8_7fac_11ec_90f3_0242ac1c0002row0_col20,#T_a02df6a8_7fac_11ec_90f3_0242ac1c0002row0_col21,#T_a02df6a8_7fac_11ec_90f3_0242ac1c0002row1_col4,#T_a02df6a8_7fac_11ec_90f3_0242ac1c0002row1_col5,#T_a02df6a8_7fac_11ec_90f3_0242ac1c0002row1_col6,#T_a02df6a8_7fac_11ec_90f3_0242ac1c0002row1_col7,#T_a02df6a8_7fac_11ec_90f3_0242ac1c0002row1_col8,#T_a02df6a8_7fac_11ec_90f3_0242ac1c0002row1_col9,#T_a02df6a8_7fac_11ec_90f3_0242ac1c0002row1_col10,#T_a02df6a8_7fac_11ec_90f3_0242ac1c0002row1_col11,#T_a02df6a8_7fac_11ec_90f3_0242ac1c0002row1_col12,#T_a02df6a8_7fac_11ec_90f3_0242ac1c0002row1_col13,#T_a02df6a8_7fac_11ec_90f3_0242ac1c0002row1_col14,#T_a02df6a8_7fac_11ec_90f3_0242ac1c0002row1_col15,#T_a02df6a8_7fac_11ec_90f3_0242ac1c0002row1_col16,#T_a02df6a8_7fac_11ec_90f3_0242ac1c0002row1_col17,#T_a02df6a8_7fac_11ec_90f3_0242ac1c0002row1_col18,#T_a02df6a8_7fac_11ec_90f3_0242ac1c0002row1_col19,#T_a02df6a8_7fac_11ec_90f3_0242ac1c0002row1_col20,#T_a02df6a8_7fac_11ec_90f3_0242ac1c0002row1_col21{\n",
              "            text-align:  center;\n",
              "        }#T_a02df6a8_7fac_11ec_90f3_0242ac1c0002row1_col0{\n",
              "            text-align:  center;\n",
              "            width:  10em;\n",
              "             height:  80%;\n",
              "            background:  linear-gradient(90deg,#f5f8d6 25.6%, transparent 25.6%);\n",
              "            color:  #251e1b;\n",
              "            font-size:  12px;\n",
              "        }#T_a02df6a8_7fac_11ec_90f3_0242ac1c0002row1_col1{\n",
              "            text-align:  center;\n",
              "            width:  10em;\n",
              "             height:  80%;\n",
              "            background:  linear-gradient(90deg,#c778c8 21.3%, transparent 21.3%);\n",
              "            color:  #251e1b;\n",
              "            font-size:  12px;\n",
              "        }#T_a02df6a8_7fac_11ec_90f3_0242ac1c0002row1_col2{\n",
              "            text-align:  center;\n",
              "            width:  10em;\n",
              "             height:  80%;\n",
              "            background:  linear-gradient(90deg,#ff4971 26.6%, transparent 26.6%);\n",
              "            color:  #251e1b;\n",
              "            font-size:  12px;\n",
              "        }#T_a02df6a8_7fac_11ec_90f3_0242ac1c0002row1_col3{\n",
              "            text-align:  center;\n",
              "            width:  10em;\n",
              "             height:  80%;\n",
              "            background:  linear-gradient(90deg,#aadbaa 24.5%, transparent 24.5%);\n",
              "            color:  #251e1b;\n",
              "            font-size:  12px;\n",
              "        }</style><table id=\"T_a02df6a8_7fac_11ec_90f3_0242ac1c0002\" class=\"dataframe\"><thead>    <tr>        <th class=\"blank level0\" ></th>        <th class=\"col_heading level0 col0\" >accuracy</th>        <th class=\"col_heading level0 col1\" >f1_score</th>        <th class=\"col_heading level0 col2\" >precision</th>        <th class=\"col_heading level0 col3\" >recall</th>        <th class=\"col_heading level0 col4\" >ml_framework</th>        <th class=\"col_heading level0 col5\" >transfer_learning</th>        <th class=\"col_heading level0 col6\" >deep_learning</th>        <th class=\"col_heading level0 col7\" >model_type</th>        <th class=\"col_heading level0 col8\" >depth</th>        <th class=\"col_heading level0 col9\" >num_params</th>        <th class=\"col_heading level0 col10\" >maxpooling2d_layers</th>        <th class=\"col_heading level0 col11\" >dropout_layers</th>        <th class=\"col_heading level0 col12\" >flatten_layers</th>        <th class=\"col_heading level0 col13\" >dense_layers</th>        <th class=\"col_heading level0 col14\" >relu_act</th>        <th class=\"col_heading level0 col15\" >softmax_act</th>        <th class=\"col_heading level0 col16\" >loss</th>        <th class=\"col_heading level0 col17\" >optimizer</th>        <th class=\"col_heading level0 col18\" >model_config</th>        <th class=\"col_heading level0 col19\" >memory_size</th>        <th class=\"col_heading level0 col20\" >username</th>        <th class=\"col_heading level0 col21\" >version</th>    </tr></thead><tbody>\n",
              "                <tr>\n",
              "                        <th id=\"T_a02df6a8_7fac_11ec_90f3_0242ac1c0002level0_row0\" class=\"row_heading level0 row0\" >0</th>\n",
              "                        <td id=\"T_a02df6a8_7fac_11ec_90f3_0242ac1c0002row0_col0\" class=\"data row0 col0\" >29.38%</td>\n",
              "                        <td id=\"T_a02df6a8_7fac_11ec_90f3_0242ac1c0002row0_col1\" class=\"data row0 col1\" >22.72%</td>\n",
              "                        <td id=\"T_a02df6a8_7fac_11ec_90f3_0242ac1c0002row0_col2\" class=\"data row0 col2\" >20.17%</td>\n",
              "                        <td id=\"T_a02df6a8_7fac_11ec_90f3_0242ac1c0002row0_col3\" class=\"data row0 col3\" >30.47%</td>\n",
              "                        <td id=\"T_a02df6a8_7fac_11ec_90f3_0242ac1c0002row0_col4\" class=\"data row0 col4\" >keras</td>\n",
              "                        <td id=\"T_a02df6a8_7fac_11ec_90f3_0242ac1c0002row0_col5\" class=\"data row0 col5\" >False</td>\n",
              "                        <td id=\"T_a02df6a8_7fac_11ec_90f3_0242ac1c0002row0_col6\" class=\"data row0 col6\" >True</td>\n",
              "                        <td id=\"T_a02df6a8_7fac_11ec_90f3_0242ac1c0002row0_col7\" class=\"data row0 col7\" >Sequential</td>\n",
              "                        <td id=\"T_a02df6a8_7fac_11ec_90f3_0242ac1c0002row0_col8\" class=\"data row0 col8\" >5</td>\n",
              "                        <td id=\"T_a02df6a8_7fac_11ec_90f3_0242ac1c0002row0_col9\" class=\"data row0 col9\" >14164358</td>\n",
              "                        <td id=\"T_a02df6a8_7fac_11ec_90f3_0242ac1c0002row0_col10\" class=\"data row0 col10\" >nan</td>\n",
              "                        <td id=\"T_a02df6a8_7fac_11ec_90f3_0242ac1c0002row0_col11\" class=\"data row0 col11\" >nan</td>\n",
              "                        <td id=\"T_a02df6a8_7fac_11ec_90f3_0242ac1c0002row0_col12\" class=\"data row0 col12\" >1</td>\n",
              "                        <td id=\"T_a02df6a8_7fac_11ec_90f3_0242ac1c0002row0_col13\" class=\"data row0 col13\" >4</td>\n",
              "                        <td id=\"T_a02df6a8_7fac_11ec_90f3_0242ac1c0002row0_col14\" class=\"data row0 col14\" >3</td>\n",
              "                        <td id=\"T_a02df6a8_7fac_11ec_90f3_0242ac1c0002row0_col15\" class=\"data row0 col15\" >1</td>\n",
              "                        <td id=\"T_a02df6a8_7fac_11ec_90f3_0242ac1c0002row0_col16\" class=\"data row0 col16\" >function</td>\n",
              "                        <td id=\"T_a02df6a8_7fac_11ec_90f3_0242ac1c0002row0_col17\" class=\"data row0 col17\" >RMSprop</td>\n",
              "                        <td id=\"T_a02df6a8_7fac_11ec_90f3_0242ac1c0002row0_col18\" class=\"data row0 col18\" >{'name': 'sequential_4', 'laye...</td>\n",
              "                        <td id=\"T_a02df6a8_7fac_11ec_90f3_0242ac1c0002row0_col19\" class=\"data row0 col19\" >206888</td>\n",
              "                        <td id=\"T_a02df6a8_7fac_11ec_90f3_0242ac1c0002row0_col20\" class=\"data row0 col20\" >AIModelShare</td>\n",
              "                        <td id=\"T_a02df6a8_7fac_11ec_90f3_0242ac1c0002row0_col21\" class=\"data row0 col21\" >2</td>\n",
              "            </tr>\n",
              "            <tr>\n",
              "                        <th id=\"T_a02df6a8_7fac_11ec_90f3_0242ac1c0002level0_row1\" class=\"row_heading level0 row1\" >1</th>\n",
              "                        <td id=\"T_a02df6a8_7fac_11ec_90f3_0242ac1c0002row1_col0\" class=\"data row1 col0\" >25.59%</td>\n",
              "                        <td id=\"T_a02df6a8_7fac_11ec_90f3_0242ac1c0002row1_col1\" class=\"data row1 col1\" >21.25%</td>\n",
              "                        <td id=\"T_a02df6a8_7fac_11ec_90f3_0242ac1c0002row1_col2\" class=\"data row1 col2\" >26.64%</td>\n",
              "                        <td id=\"T_a02df6a8_7fac_11ec_90f3_0242ac1c0002row1_col3\" class=\"data row1 col3\" >24.48%</td>\n",
              "                        <td id=\"T_a02df6a8_7fac_11ec_90f3_0242ac1c0002row1_col4\" class=\"data row1 col4\" >keras</td>\n",
              "                        <td id=\"T_a02df6a8_7fac_11ec_90f3_0242ac1c0002row1_col5\" class=\"data row1 col5\" >False</td>\n",
              "                        <td id=\"T_a02df6a8_7fac_11ec_90f3_0242ac1c0002row1_col6\" class=\"data row1 col6\" >True</td>\n",
              "                        <td id=\"T_a02df6a8_7fac_11ec_90f3_0242ac1c0002row1_col7\" class=\"data row1 col7\" >Sequential</td>\n",
              "                        <td id=\"T_a02df6a8_7fac_11ec_90f3_0242ac1c0002row1_col8\" class=\"data row1 col8\" >11</td>\n",
              "                        <td id=\"T_a02df6a8_7fac_11ec_90f3_0242ac1c0002row1_col9\" class=\"data row1 col9\" >1851204</td>\n",
              "                        <td id=\"T_a02df6a8_7fac_11ec_90f3_0242ac1c0002row1_col10\" class=\"data row1 col10\" >2.000000</td>\n",
              "                        <td id=\"T_a02df6a8_7fac_11ec_90f3_0242ac1c0002row1_col11\" class=\"data row1 col11\" >2.000000</td>\n",
              "                        <td id=\"T_a02df6a8_7fac_11ec_90f3_0242ac1c0002row1_col12\" class=\"data row1 col12\" >1</td>\n",
              "                        <td id=\"T_a02df6a8_7fac_11ec_90f3_0242ac1c0002row1_col13\" class=\"data row1 col13\" >2</td>\n",
              "                        <td id=\"T_a02df6a8_7fac_11ec_90f3_0242ac1c0002row1_col14\" class=\"data row1 col14\" >5</td>\n",
              "                        <td id=\"T_a02df6a8_7fac_11ec_90f3_0242ac1c0002row1_col15\" class=\"data row1 col15\" >1</td>\n",
              "                        <td id=\"T_a02df6a8_7fac_11ec_90f3_0242ac1c0002row1_col16\" class=\"data row1 col16\" >function</td>\n",
              "                        <td id=\"T_a02df6a8_7fac_11ec_90f3_0242ac1c0002row1_col17\" class=\"data row1 col17\" >RMSprop</td>\n",
              "                        <td id=\"T_a02df6a8_7fac_11ec_90f3_0242ac1c0002row1_col18\" class=\"data row1 col18\" >{'name': 'sequential_1', 'laye...</td>\n",
              "                        <td id=\"T_a02df6a8_7fac_11ec_90f3_0242ac1c0002row1_col19\" class=\"data row1 col19\" >302920</td>\n",
              "                        <td id=\"T_a02df6a8_7fac_11ec_90f3_0242ac1c0002row1_col20\" class=\"data row1 col20\" >AIModelShare</td>\n",
              "                        <td id=\"T_a02df6a8_7fac_11ec_90f3_0242ac1c0002row1_col21\" class=\"data row1 col21\" >1</td>\n",
              "            </tr>\n",
              "    </tbody></table>"
            ],
            "text/plain": [
              "<pandas.io.formats.style.Styler at 0x7ff8e15471d0>"
            ]
          },
          "metadata": {},
          "execution_count": 20
        }
      ]
    },
    {
      "cell_type": "markdown",
      "metadata": {
        "id": "g_bklL3shOER"
      },
      "source": [
        "Compare Models"
      ]
    },
    {
      "cell_type": "code",
      "metadata": {
        "colab": {
          "base_uri": "https://localhost:8080/",
          "height": 251
        },
        "id": "quo_V3A3hNS3",
        "outputId": "baf1115d-689b-4ab6-fc5a-adcca4501e87"
      },
      "source": [
        "# Compare two or more models \n",
        "data=mycompetition.compare_models([1,2], verbose=1)\n",
        "mycompetition.stylize_compare(data)"
      ],
      "execution_count": 21,
      "outputs": [
        {
          "output_type": "display_data",
          "data": {
            "text/html": [
              "<style  type=\"text/css\" >\n",
              "    #T_a26af0ec_7fac_11ec_90f3_0242ac1c0002 caption {\n",
              "          color: black;\n",
              "          font-size: 18px;\n",
              "    }#T_a26af0ec_7fac_11ec_90f3_0242ac1c0002row0_col0,#T_a26af0ec_7fac_11ec_90f3_0242ac1c0002row1_col0,#T_a26af0ec_7fac_11ec_90f3_0242ac1c0002row3_col0,#T_a26af0ec_7fac_11ec_90f3_0242ac1c0002row4_col0{\n",
              "            background:  #fdcdac;\n",
              "            color:  black;\n",
              "            color:  black;\n",
              "        }#T_a26af0ec_7fac_11ec_90f3_0242ac1c0002row0_col1,#T_a26af0ec_7fac_11ec_90f3_0242ac1c0002row0_col2,#T_a26af0ec_7fac_11ec_90f3_0242ac1c0002row0_col4,#T_a26af0ec_7fac_11ec_90f3_0242ac1c0002row0_col5,#T_a26af0ec_7fac_11ec_90f3_0242ac1c0002row1_col1,#T_a26af0ec_7fac_11ec_90f3_0242ac1c0002row1_col2,#T_a26af0ec_7fac_11ec_90f3_0242ac1c0002row1_col4,#T_a26af0ec_7fac_11ec_90f3_0242ac1c0002row1_col5,#T_a26af0ec_7fac_11ec_90f3_0242ac1c0002row2_col1,#T_a26af0ec_7fac_11ec_90f3_0242ac1c0002row2_col2,#T_a26af0ec_7fac_11ec_90f3_0242ac1c0002row2_col4,#T_a26af0ec_7fac_11ec_90f3_0242ac1c0002row2_col5,#T_a26af0ec_7fac_11ec_90f3_0242ac1c0002row3_col1,#T_a26af0ec_7fac_11ec_90f3_0242ac1c0002row3_col2,#T_a26af0ec_7fac_11ec_90f3_0242ac1c0002row3_col4,#T_a26af0ec_7fac_11ec_90f3_0242ac1c0002row3_col5,#T_a26af0ec_7fac_11ec_90f3_0242ac1c0002row4_col1,#T_a26af0ec_7fac_11ec_90f3_0242ac1c0002row4_col2,#T_a26af0ec_7fac_11ec_90f3_0242ac1c0002row4_col4,#T_a26af0ec_7fac_11ec_90f3_0242ac1c0002row4_col5,#T_a26af0ec_7fac_11ec_90f3_0242ac1c0002row5_col1,#T_a26af0ec_7fac_11ec_90f3_0242ac1c0002row5_col2,#T_a26af0ec_7fac_11ec_90f3_0242ac1c0002row5_col3,#T_a26af0ec_7fac_11ec_90f3_0242ac1c0002row5_col4,#T_a26af0ec_7fac_11ec_90f3_0242ac1c0002row5_col5,#T_a26af0ec_7fac_11ec_90f3_0242ac1c0002row6_col1,#T_a26af0ec_7fac_11ec_90f3_0242ac1c0002row6_col2,#T_a26af0ec_7fac_11ec_90f3_0242ac1c0002row6_col3,#T_a26af0ec_7fac_11ec_90f3_0242ac1c0002row6_col4,#T_a26af0ec_7fac_11ec_90f3_0242ac1c0002row6_col5,#T_a26af0ec_7fac_11ec_90f3_0242ac1c0002row7_col1,#T_a26af0ec_7fac_11ec_90f3_0242ac1c0002row7_col2,#T_a26af0ec_7fac_11ec_90f3_0242ac1c0002row7_col3,#T_a26af0ec_7fac_11ec_90f3_0242ac1c0002row7_col4,#T_a26af0ec_7fac_11ec_90f3_0242ac1c0002row7_col5,#T_a26af0ec_7fac_11ec_90f3_0242ac1c0002row8_col1,#T_a26af0ec_7fac_11ec_90f3_0242ac1c0002row8_col2,#T_a26af0ec_7fac_11ec_90f3_0242ac1c0002row8_col3,#T_a26af0ec_7fac_11ec_90f3_0242ac1c0002row8_col4,#T_a26af0ec_7fac_11ec_90f3_0242ac1c0002row8_col5,#T_a26af0ec_7fac_11ec_90f3_0242ac1c0002row9_col1,#T_a26af0ec_7fac_11ec_90f3_0242ac1c0002row9_col2,#T_a26af0ec_7fac_11ec_90f3_0242ac1c0002row9_col3,#T_a26af0ec_7fac_11ec_90f3_0242ac1c0002row9_col4,#T_a26af0ec_7fac_11ec_90f3_0242ac1c0002row9_col5,#T_a26af0ec_7fac_11ec_90f3_0242ac1c0002row10_col1,#T_a26af0ec_7fac_11ec_90f3_0242ac1c0002row10_col2,#T_a26af0ec_7fac_11ec_90f3_0242ac1c0002row10_col3,#T_a26af0ec_7fac_11ec_90f3_0242ac1c0002row10_col4,#T_a26af0ec_7fac_11ec_90f3_0242ac1c0002row10_col5{\n",
              "            background:  white;\n",
              "            color:  black;\n",
              "            color:  black;\n",
              "        }#T_a26af0ec_7fac_11ec_90f3_0242ac1c0002row0_col3,#T_a26af0ec_7fac_11ec_90f3_0242ac1c0002row1_col3,#T_a26af0ec_7fac_11ec_90f3_0242ac1c0002row2_col3,#T_a26af0ec_7fac_11ec_90f3_0242ac1c0002row4_col3,#T_a26af0ec_7fac_11ec_90f3_0242ac1c0002row8_col0,#T_a26af0ec_7fac_11ec_90f3_0242ac1c0002row10_col0{\n",
              "            background:  #fff2ae;\n",
              "            color:  black;\n",
              "            color:  black;\n",
              "        }#T_a26af0ec_7fac_11ec_90f3_0242ac1c0002row2_col0,#T_a26af0ec_7fac_11ec_90f3_0242ac1c0002row5_col0{\n",
              "            background:  #f1e2cc;\n",
              "            color:  black;\n",
              "            color:  black;\n",
              "        }#T_a26af0ec_7fac_11ec_90f3_0242ac1c0002row3_col3,#T_a26af0ec_7fac_11ec_90f3_0242ac1c0002row7_col0{\n",
              "            background:  #e6f5c9;\n",
              "            color:  black;\n",
              "            color:  black;\n",
              "        }#T_a26af0ec_7fac_11ec_90f3_0242ac1c0002row6_col0,#T_a26af0ec_7fac_11ec_90f3_0242ac1c0002row9_col0{\n",
              "            background:  #cbd5e8;\n",
              "            color:  black;\n",
              "            color:  black;\n",
              "        }</style><table id=\"T_a26af0ec_7fac_11ec_90f3_0242ac1c0002\" ><caption>Model type: Neural Network</caption><thead>    <tr>        <th class=\"blank level0\" ></th>        <th class=\"col_heading level0 col0\" >Model_1_Layer</th>        <th class=\"col_heading level0 col1\" >Model_1_Shape</th>        <th class=\"col_heading level0 col2\" >Model_1_Params</th>        <th class=\"col_heading level0 col3\" >Model_2_Layer</th>        <th class=\"col_heading level0 col4\" >Model_2_Shape</th>        <th class=\"col_heading level0 col5\" >Model_2_Params</th>    </tr></thead><tbody>\n",
              "                <tr>\n",
              "                        <th id=\"T_a26af0ec_7fac_11ec_90f3_0242ac1c0002level0_row0\" class=\"row_heading level0 row0\" >0</th>\n",
              "                        <td id=\"T_a26af0ec_7fac_11ec_90f3_0242ac1c0002row0_col0\" class=\"data row0 col0\" >Conv2D</td>\n",
              "                        <td id=\"T_a26af0ec_7fac_11ec_90f3_0242ac1c0002row0_col1\" class=\"data row0 col1\" >[None, 192, 192, 32]</td>\n",
              "                        <td id=\"T_a26af0ec_7fac_11ec_90f3_0242ac1c0002row0_col2\" class=\"data row0 col2\" >416</td>\n",
              "                        <td id=\"T_a26af0ec_7fac_11ec_90f3_0242ac1c0002row0_col3\" class=\"data row0 col3\" >Dense</td>\n",
              "                        <td id=\"T_a26af0ec_7fac_11ec_90f3_0242ac1c0002row0_col4\" class=\"data row0 col4\" >[None, 192, 192, 64]</td>\n",
              "                        <td id=\"T_a26af0ec_7fac_11ec_90f3_0242ac1c0002row0_col5\" class=\"data row0 col5\" >256.000000</td>\n",
              "            </tr>\n",
              "            <tr>\n",
              "                        <th id=\"T_a26af0ec_7fac_11ec_90f3_0242ac1c0002level0_row1\" class=\"row_heading level0 row1\" >1</th>\n",
              "                        <td id=\"T_a26af0ec_7fac_11ec_90f3_0242ac1c0002row1_col0\" class=\"data row1 col0\" >Conv2D</td>\n",
              "                        <td id=\"T_a26af0ec_7fac_11ec_90f3_0242ac1c0002row1_col1\" class=\"data row1 col1\" >[None, 192, 192, 32]</td>\n",
              "                        <td id=\"T_a26af0ec_7fac_11ec_90f3_0242ac1c0002row1_col2\" class=\"data row1 col2\" >4128</td>\n",
              "                        <td id=\"T_a26af0ec_7fac_11ec_90f3_0242ac1c0002row1_col3\" class=\"data row1 col3\" >Dense</td>\n",
              "                        <td id=\"T_a26af0ec_7fac_11ec_90f3_0242ac1c0002row1_col4\" class=\"data row1 col4\" >[None, 192, 192, 64]</td>\n",
              "                        <td id=\"T_a26af0ec_7fac_11ec_90f3_0242ac1c0002row1_col5\" class=\"data row1 col5\" >4160.000000</td>\n",
              "            </tr>\n",
              "            <tr>\n",
              "                        <th id=\"T_a26af0ec_7fac_11ec_90f3_0242ac1c0002level0_row2\" class=\"row_heading level0 row2\" >2</th>\n",
              "                        <td id=\"T_a26af0ec_7fac_11ec_90f3_0242ac1c0002row2_col0\" class=\"data row2 col0\" >MaxPooling2D</td>\n",
              "                        <td id=\"T_a26af0ec_7fac_11ec_90f3_0242ac1c0002row2_col1\" class=\"data row2 col1\" >[None, 96, 96, 32]</td>\n",
              "                        <td id=\"T_a26af0ec_7fac_11ec_90f3_0242ac1c0002row2_col2\" class=\"data row2 col2\" >0</td>\n",
              "                        <td id=\"T_a26af0ec_7fac_11ec_90f3_0242ac1c0002row2_col3\" class=\"data row2 col3\" >Dense</td>\n",
              "                        <td id=\"T_a26af0ec_7fac_11ec_90f3_0242ac1c0002row2_col4\" class=\"data row2 col4\" >[None, 192, 192, 64]</td>\n",
              "                        <td id=\"T_a26af0ec_7fac_11ec_90f3_0242ac1c0002row2_col5\" class=\"data row2 col5\" >4160.000000</td>\n",
              "            </tr>\n",
              "            <tr>\n",
              "                        <th id=\"T_a26af0ec_7fac_11ec_90f3_0242ac1c0002level0_row3\" class=\"row_heading level0 row3\" >3</th>\n",
              "                        <td id=\"T_a26af0ec_7fac_11ec_90f3_0242ac1c0002row3_col0\" class=\"data row3 col0\" >Conv2D</td>\n",
              "                        <td id=\"T_a26af0ec_7fac_11ec_90f3_0242ac1c0002row3_col1\" class=\"data row3 col1\" >[None, 96, 96, 16]</td>\n",
              "                        <td id=\"T_a26af0ec_7fac_11ec_90f3_0242ac1c0002row3_col2\" class=\"data row3 col2\" >2064</td>\n",
              "                        <td id=\"T_a26af0ec_7fac_11ec_90f3_0242ac1c0002row3_col3\" class=\"data row3 col3\" >Flatten</td>\n",
              "                        <td id=\"T_a26af0ec_7fac_11ec_90f3_0242ac1c0002row3_col4\" class=\"data row3 col4\" >[None, 2359296]</td>\n",
              "                        <td id=\"T_a26af0ec_7fac_11ec_90f3_0242ac1c0002row3_col5\" class=\"data row3 col5\" >0.000000</td>\n",
              "            </tr>\n",
              "            <tr>\n",
              "                        <th id=\"T_a26af0ec_7fac_11ec_90f3_0242ac1c0002level0_row4\" class=\"row_heading level0 row4\" >4</th>\n",
              "                        <td id=\"T_a26af0ec_7fac_11ec_90f3_0242ac1c0002row4_col0\" class=\"data row4 col0\" >Conv2D</td>\n",
              "                        <td id=\"T_a26af0ec_7fac_11ec_90f3_0242ac1c0002row4_col1\" class=\"data row4 col1\" >[None, 96, 96, 16]</td>\n",
              "                        <td id=\"T_a26af0ec_7fac_11ec_90f3_0242ac1c0002row4_col2\" class=\"data row4 col2\" >1040</td>\n",
              "                        <td id=\"T_a26af0ec_7fac_11ec_90f3_0242ac1c0002row4_col3\" class=\"data row4 col3\" >Dense</td>\n",
              "                        <td id=\"T_a26af0ec_7fac_11ec_90f3_0242ac1c0002row4_col4\" class=\"data row4 col4\" >[None, 6]</td>\n",
              "                        <td id=\"T_a26af0ec_7fac_11ec_90f3_0242ac1c0002row4_col5\" class=\"data row4 col5\" >14155782.000000</td>\n",
              "            </tr>\n",
              "            <tr>\n",
              "                        <th id=\"T_a26af0ec_7fac_11ec_90f3_0242ac1c0002level0_row5\" class=\"row_heading level0 row5\" >5</th>\n",
              "                        <td id=\"T_a26af0ec_7fac_11ec_90f3_0242ac1c0002row5_col0\" class=\"data row5 col0\" >MaxPooling2D</td>\n",
              "                        <td id=\"T_a26af0ec_7fac_11ec_90f3_0242ac1c0002row5_col1\" class=\"data row5 col1\" >[None, 48, 48, 16]</td>\n",
              "                        <td id=\"T_a26af0ec_7fac_11ec_90f3_0242ac1c0002row5_col2\" class=\"data row5 col2\" >0</td>\n",
              "                        <td id=\"T_a26af0ec_7fac_11ec_90f3_0242ac1c0002row5_col3\" class=\"data row5 col3\" >None</td>\n",
              "                        <td id=\"T_a26af0ec_7fac_11ec_90f3_0242ac1c0002row5_col4\" class=\"data row5 col4\" >None</td>\n",
              "                        <td id=\"T_a26af0ec_7fac_11ec_90f3_0242ac1c0002row5_col5\" class=\"data row5 col5\" >nan</td>\n",
              "            </tr>\n",
              "            <tr>\n",
              "                        <th id=\"T_a26af0ec_7fac_11ec_90f3_0242ac1c0002level0_row6\" class=\"row_heading level0 row6\" >6</th>\n",
              "                        <td id=\"T_a26af0ec_7fac_11ec_90f3_0242ac1c0002row6_col0\" class=\"data row6 col0\" >Dropout</td>\n",
              "                        <td id=\"T_a26af0ec_7fac_11ec_90f3_0242ac1c0002row6_col1\" class=\"data row6 col1\" >[None, 48, 48, 16]</td>\n",
              "                        <td id=\"T_a26af0ec_7fac_11ec_90f3_0242ac1c0002row6_col2\" class=\"data row6 col2\" >0</td>\n",
              "                        <td id=\"T_a26af0ec_7fac_11ec_90f3_0242ac1c0002row6_col3\" class=\"data row6 col3\" >None</td>\n",
              "                        <td id=\"T_a26af0ec_7fac_11ec_90f3_0242ac1c0002row6_col4\" class=\"data row6 col4\" >None</td>\n",
              "                        <td id=\"T_a26af0ec_7fac_11ec_90f3_0242ac1c0002row6_col5\" class=\"data row6 col5\" >nan</td>\n",
              "            </tr>\n",
              "            <tr>\n",
              "                        <th id=\"T_a26af0ec_7fac_11ec_90f3_0242ac1c0002level0_row7\" class=\"row_heading level0 row7\" >7</th>\n",
              "                        <td id=\"T_a26af0ec_7fac_11ec_90f3_0242ac1c0002row7_col0\" class=\"data row7 col0\" >Flatten</td>\n",
              "                        <td id=\"T_a26af0ec_7fac_11ec_90f3_0242ac1c0002row7_col1\" class=\"data row7 col1\" >[None, 36864]</td>\n",
              "                        <td id=\"T_a26af0ec_7fac_11ec_90f3_0242ac1c0002row7_col2\" class=\"data row7 col2\" >0</td>\n",
              "                        <td id=\"T_a26af0ec_7fac_11ec_90f3_0242ac1c0002row7_col3\" class=\"data row7 col3\" >None</td>\n",
              "                        <td id=\"T_a26af0ec_7fac_11ec_90f3_0242ac1c0002row7_col4\" class=\"data row7 col4\" >None</td>\n",
              "                        <td id=\"T_a26af0ec_7fac_11ec_90f3_0242ac1c0002row7_col5\" class=\"data row7 col5\" >nan</td>\n",
              "            </tr>\n",
              "            <tr>\n",
              "                        <th id=\"T_a26af0ec_7fac_11ec_90f3_0242ac1c0002level0_row8\" class=\"row_heading level0 row8\" >8</th>\n",
              "                        <td id=\"T_a26af0ec_7fac_11ec_90f3_0242ac1c0002row8_col0\" class=\"data row8 col0\" >Dense</td>\n",
              "                        <td id=\"T_a26af0ec_7fac_11ec_90f3_0242ac1c0002row8_col1\" class=\"data row8 col1\" >[None, 50]</td>\n",
              "                        <td id=\"T_a26af0ec_7fac_11ec_90f3_0242ac1c0002row8_col2\" class=\"data row8 col2\" >1843250</td>\n",
              "                        <td id=\"T_a26af0ec_7fac_11ec_90f3_0242ac1c0002row8_col3\" class=\"data row8 col3\" >None</td>\n",
              "                        <td id=\"T_a26af0ec_7fac_11ec_90f3_0242ac1c0002row8_col4\" class=\"data row8 col4\" >None</td>\n",
              "                        <td id=\"T_a26af0ec_7fac_11ec_90f3_0242ac1c0002row8_col5\" class=\"data row8 col5\" >nan</td>\n",
              "            </tr>\n",
              "            <tr>\n",
              "                        <th id=\"T_a26af0ec_7fac_11ec_90f3_0242ac1c0002level0_row9\" class=\"row_heading level0 row9\" >9</th>\n",
              "                        <td id=\"T_a26af0ec_7fac_11ec_90f3_0242ac1c0002row9_col0\" class=\"data row9 col0\" >Dropout</td>\n",
              "                        <td id=\"T_a26af0ec_7fac_11ec_90f3_0242ac1c0002row9_col1\" class=\"data row9 col1\" >[None, 50]</td>\n",
              "                        <td id=\"T_a26af0ec_7fac_11ec_90f3_0242ac1c0002row9_col2\" class=\"data row9 col2\" >0</td>\n",
              "                        <td id=\"T_a26af0ec_7fac_11ec_90f3_0242ac1c0002row9_col3\" class=\"data row9 col3\" >None</td>\n",
              "                        <td id=\"T_a26af0ec_7fac_11ec_90f3_0242ac1c0002row9_col4\" class=\"data row9 col4\" >None</td>\n",
              "                        <td id=\"T_a26af0ec_7fac_11ec_90f3_0242ac1c0002row9_col5\" class=\"data row9 col5\" >nan</td>\n",
              "            </tr>\n",
              "            <tr>\n",
              "                        <th id=\"T_a26af0ec_7fac_11ec_90f3_0242ac1c0002level0_row10\" class=\"row_heading level0 row10\" >10</th>\n",
              "                        <td id=\"T_a26af0ec_7fac_11ec_90f3_0242ac1c0002row10_col0\" class=\"data row10 col0\" >Dense</td>\n",
              "                        <td id=\"T_a26af0ec_7fac_11ec_90f3_0242ac1c0002row10_col1\" class=\"data row10 col1\" >[None, 6]</td>\n",
              "                        <td id=\"T_a26af0ec_7fac_11ec_90f3_0242ac1c0002row10_col2\" class=\"data row10 col2\" >306</td>\n",
              "                        <td id=\"T_a26af0ec_7fac_11ec_90f3_0242ac1c0002row10_col3\" class=\"data row10 col3\" >None</td>\n",
              "                        <td id=\"T_a26af0ec_7fac_11ec_90f3_0242ac1c0002row10_col4\" class=\"data row10 col4\" >None</td>\n",
              "                        <td id=\"T_a26af0ec_7fac_11ec_90f3_0242ac1c0002row10_col5\" class=\"data row10 col5\" >nan</td>\n",
              "            </tr>\n",
              "    </tbody></table>"
            ],
            "text/plain": [
              "<IPython.core.display.HTML object>"
            ]
          },
          "metadata": {}
        }
      ]
    },
    {
      "cell_type": "markdown",
      "metadata": {
        "id": "FKm9ugiBhQFn"
      },
      "source": [
        "#### Check structure of y test data \n",
        "(This helps users understand how to submit predicted values to leaderboard)"
      ]
    },
    {
      "cell_type": "code",
      "metadata": {
        "colab": {
          "base_uri": "https://localhost:8080/"
        },
        "id": "dqY82D22hPZx",
        "outputId": "ca52429c-71e7-4859-ba25-bf39549547ab"
      },
      "source": [
        "mycompetition.inspect_y_test()"
      ],
      "execution_count": 22,
      "outputs": [
        {
          "output_type": "execute_result",
          "data": {
            "text/plain": [
              "{'class_balance': {'Basset Hound': 35,\n",
              "  'Cairn': 39,\n",
              "  'Golden Retriever': 30,\n",
              "  'Lhasa': 37,\n",
              "  'Miniature Poodle': 31,\n",
              "  'Siberian Husky': 39},\n",
              " 'class_labels': ['Lhasa',\n",
              "  'Miniature Poodle',\n",
              "  'Golden Retriever',\n",
              "  'Siberian Husky',\n",
              "  'Cairn',\n",
              "  'Basset Hound'],\n",
              " 'label_dtypes': {\"<class 'str'>\": 211},\n",
              " 'y_length': 211,\n",
              " 'ytest_example': ['Basset Hound',\n",
              "  'Cairn',\n",
              "  'Lhasa',\n",
              "  'Basset Hound',\n",
              "  'Siberian Husky']}"
            ]
          },
          "metadata": {},
          "execution_count": 22
        }
      ]
    },
    {
      "cell_type": "markdown",
      "metadata": {
        "id": "iA-nYjr7WCIp"
      },
      "source": [
        "## **Part 3: Maintaining your Model Playground**\n",
        "\n",
        "-------"
      ]
    },
    {
      "cell_type": "markdown",
      "metadata": {
        "id": "0UIWnHIXWM0F"
      },
      "source": [
        "Update Runtime model\n",
        "\n",
        "*Use this function to 1) update the prediction API behind your Model Playground with a new model, chosen from the leaderboard and 2) verify the model performance metrics in your Model Playground*"
      ]
    },
    {
      "cell_type": "code",
      "metadata": {
        "colab": {
          "base_uri": "https://localhost:8080/"
        },
        "id": "wAchpcGLWLxE",
        "outputId": "6d11542c-9451-4e05-9bf5-4967fafbdaeb"
      },
      "source": [
        "myplayground.update_runtime_model(model_version=2)"
      ],
      "execution_count": 23,
      "outputs": [
        {
          "output_type": "stream",
          "name": "stdout",
          "text": [
            "Runtime model & preprocessor for api: https://o537m24bc5.execute-api.us-east-1.amazonaws.com/prod/m updated to model version 2.\n",
            "\n",
            "Model metrics are now updated and verified for this model playground.\n"
          ]
        }
      ]
    },
    {
      "cell_type": "markdown",
      "metadata": {
        "id": "xhJRaiN-WaO1"
      },
      "source": [
        "Delete Deployment \n",
        "\n",
        "*Use this function to delete the entire Model Playground, including the REST API, web dashboard, competition, and all submitted models*"
      ]
    },
    {
      "cell_type": "code",
      "metadata": {
        "colab": {
          "base_uri": "https://localhost:8080/",
          "height": 109
        },
        "id": "mCkf-exLWyDK",
        "outputId": "f3b7bf57-c879-462e-f68d-0d296d993182"
      },
      "source": [
        "myplayground.delete_deployment()"
      ],
      "execution_count": null,
      "outputs": [
        {
          "name": "stdout",
          "output_type": "stream",
          "text": [
            "Running this function will permanently delete all resources tied to this deployment, \n",
            " including the eval lambda and all models submitted to the model competition.\n",
            "\n",
            "To confirm, type 'permanently delete':permanently delete\n"
          ]
        },
        {
          "output_type": "execute_result",
          "data": {
            "application/vnd.google.colaboratory.intrinsic+json": {
              "type": "string"
            },
            "text/plain": [
              "'API deleted successfully.'"
            ]
          },
          "metadata": {},
          "execution_count": 25
        }
      ]
    }
  ]
}