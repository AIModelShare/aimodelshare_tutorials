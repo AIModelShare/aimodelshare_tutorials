{
  "nbformat": 4,
  "nbformat_minor": 0,
  "metadata": {
    "colab": {
      "name": "[Dog Breed] Model Submission Guide.ipynb",
      "provenance": [],
      "collapsed_sections": []
    },
    "kernelspec": {
      "name": "python3",
      "display_name": "Python 3"
    },
    "language_info": {
      "name": "python"
    }
  },
  "cells": [
    {
      "cell_type": "markdown",
      "source": [
        "<p align=\"center\"><img width=\"50%\" src=\"https://aimodelsharecontent.s3.amazonaws.com/aimodshare_banner.jpg\" /></p>\n",
        "\n",
        "\n",
        "---\n",
        "**Source:**<br>\n",
        "Dataset adapted from: Aditya Khosla, Nityananda Jayadevaprakash, Bangpeng Yao and Li Fei-Fei. Novel dataset for Fine-Grained Image Categorization. First Workshop on Fine-Grained Visual Categorization (FGVC), IEEE Conference on Computer Vision and Pattern Recognition (CVPR), 2011.<br>\n",
        "Retrieved from http://vision.stanford.edu/aditya86/ImageNetDogs/\n"
      ],
      "metadata": {
        "id": "g8Hr8qrnroxM"
      }
    },
    {
      "cell_type": "markdown",
      "metadata": {
        "id": "JXxGTgJz152A"
      },
      "source": [
        "# Dog Breed Classification Competition Model Submission Guide\n",
        "\n",
        "---\n",
        "\n",
        "Let's share our models to a centralized leaderboard, so that we can collaborate and learn from the model experimentation process...\n",
        "\n",
        "**Instructions:**\n",
        "1.   Get data in and set up X_train / X_test / y_train\n",
        "2.   Preprocess data / Write and Save Preprocessor function\n",
        "3. Fit model on preprocessed data and save preprocessor function and model \n",
        "4. Generate predictions from X_test data and submit model to competition\n",
        "5. Repeat submission process to improve place on leaderboard\n",
        "\n"
      ]
    },
    {
      "cell_type": "markdown",
      "metadata": {
        "id": "5gSrVJwp3E9H"
      },
      "source": [
        "## 1. Get data in and set up X_train, X_test, y_train objects"
      ]
    },
    {
      "cell_type": "code",
      "metadata": {
        "id": "PLTIaMB3ChSW"
      },
      "source": [
        "#install aimodelshare library\n",
        "! pip install aimodelshare --upgrade"
      ],
      "execution_count": null,
      "outputs": []
    },
    {
      "cell_type": "code",
      "metadata": {
        "colab": {
          "base_uri": "https://localhost:8080/"
        },
        "id": "d3PiJXBhC5y-",
        "outputId": "7cad31c3-2387-47dd-b690-8120e2b017fd"
      },
      "source": [
        "# Get competition data\n",
        "from aimodelshare import download_data\n",
        "download_data('public.ecr.aws/y2e2a1d6/dog_competition_data-repository:latest') "
      ],
      "execution_count": 2,
      "outputs": [
        {
          "output_type": "stream",
          "name": "stdout",
          "text": [
            "Downloading [================================================>]\n",
            "\n",
            "Data downloaded successfully.\n"
          ]
        }
      ]
    },
    {
      "cell_type": "code",
      "metadata": {
        "colab": {
          "base_uri": "https://localhost:8080/"
        },
        "id": "jT0qFCZFNzHq",
        "outputId": "3f4debfe-0b98-48b3-fb61-9ec6b9c820fb"
      },
      "source": [
        "# Create training data objects \n",
        "\n",
        "# Extracting all filepaths iteratively...\n",
        "import os \n",
        "\n",
        "base_path = 'dog_competition_data/train_images'\n",
        "categories = ['Basset Hound', 'Cairn', 'Lhasa', 'Miniature Poodle', \n",
        "              'Golden Retriever', 'Siberian Husky']\n",
        "\n",
        "# Load file paths to fnames list object...\n",
        "fnames = []\n",
        "for category in categories:\n",
        "    dog_folder = os.path.join(base_path, category)\n",
        "    file_names = os.listdir(dog_folder)\n",
        "    full_path = [os.path.join(dog_folder, file_name) for file_name in file_names]\n",
        "    fnames.append(full_path)\n",
        "\n",
        "print('number of images for each category:', [len(f) for f in fnames])\n",
        "print(fnames[0][0]) # Example of file name\n",
        "\n",
        "# Create y data made up of correctly ordered labels from file folders...\n",
        "from itertools import repeat\n",
        "\n",
        "basset = list(repeat(\"Basset Hound\", 140)) #i.e.: 140 filenames in Basset Hound folder\n",
        "cairn = list(repeat(\"Cairn\", 158))\n",
        "lhasa = list(repeat(\"Lhasa\", 149))\n",
        "poodle = list(repeat(\"Miniature Poodle\", 124))\n",
        "golden = list(repeat(\"Golden Retriever\", 120))\n",
        "husky = list(repeat(\"Siberian Husky\", 153))\n",
        "\n",
        "# Combine into single list of y labels...\n",
        "y_labels = basset + cairn + lhasa + poodle + golden + husky\n",
        "\n",
        "# Need to one-hot encode for Keras. Let's use Pandas...\n",
        "import pandas as pd\n",
        "y_train = pd.get_dummies(y_labels)"
      ],
      "execution_count": 3,
      "outputs": [
        {
          "output_type": "stream",
          "name": "stdout",
          "text": [
            "number of images for each category: [140, 158, 149, 124, 120, 153]\n",
            "dog_competition_data/train_images/Basset Hound/n02088238_11200.jpg\n"
          ]
        }
      ]
    },
    {
      "cell_type": "markdown",
      "metadata": {
        "id": "gEzPoXPj3V7u"
      },
      "source": [
        "##2.   Preprocess data / Write and Save Preprocessor function\n"
      ]
    },
    {
      "cell_type": "code",
      "source": [
        "def preprocessor(data, shape=(192, 192)):\n",
        "        \"\"\"\n",
        "        This function preprocesses reads in images, resizes them to a fixed shape and\n",
        "        min/max transforms them before converting feature values to float32 numeric values\n",
        "        required by onnx files.\n",
        "        \n",
        "        params:\n",
        "            data\n",
        "                list of unprocessed images\n",
        "                      \n",
        "        returns:\n",
        "            X\n",
        "                numpy array of preprocessed image data\n",
        "                  \n",
        "        \"\"\"\n",
        "           \n",
        "        import cv2\n",
        "        import numpy as np\n",
        "\n",
        "        \"Resize a color image and min/max transform the image\"\n",
        "        img = cv2.imread(data) # Read in image from filepath.\n",
        "        img = cv2.cvtColor(img, cv2.COLOR_BGR2RGB) # cv2 reads in images in order of blue green and red, we reverse the order for ML.\n",
        "        img = cv2.resize(img, shape) # Change height and width of image.\n",
        "        img = img / 255.0 # Min-max transform.\n",
        "\n",
        "\n",
        "        # Resize all the images...\n",
        "        X = np.array(img)\n",
        "        X = np.expand_dims(X, axis=0) # Expand dims to add \"1\" to object shape [1, h, w, channels].\n",
        "        X = np.array(X, dtype=np.float32) # Final shape for onnx runtime.\n",
        "        return X"
      ],
      "metadata": {
        "id": "zJMxj9wgvtLk"
      },
      "execution_count": 4,
      "outputs": []
    },
    {
      "cell_type": "code",
      "source": [
        "# Use preprocessor to create X_train object \n",
        "\n",
        "# Import image, load to array of shape height, width, channels, then min/max transform...\n",
        "# Read in all images from filenames...\n",
        "import numpy as np \n",
        "\n",
        "preprocessed_image_data = [preprocessor(x) for x in fnames[0] + fnames[1] + fnames[2] + \n",
        "                           fnames[3] + fnames[4] + fnames[5]]\n",
        "\n",
        "# Object needs to be an array rather than a list for Keras. (vstack converts above list to array object.)\n",
        "X_train = np.vstack(preprocessed_image_data)\n",
        "# Assigning to X_train to highlight that this represents feature input data for our model."
      ],
      "metadata": {
        "id": "jIZKUGOFvwhn"
      },
      "execution_count": 5,
      "outputs": []
    },
    {
      "cell_type": "code",
      "source": [
        "# Create X_test from numbered files\n",
        "\n",
        "# Preprocess X_test image data to generate predictions from models \n",
        "import numpy as np\n",
        "\n",
        "file_names = [('dog_competition_data/test_images/' + str(i) + '.jpg') for i in range(1, 212)]\n",
        "\n",
        "preprocessed_image_data = [preprocessor(x) for x in file_names]\n",
        "\n",
        "#Create single X_test array from preprocessed images\n",
        "X_test = np.vstack(preprocessed_image_data) "
      ],
      "metadata": {
        "id": "O9Y8_QIHwqw9"
      },
      "execution_count": 6,
      "outputs": []
    },
    {
      "cell_type": "markdown",
      "metadata": {
        "id": "X52kECL43b-O"
      },
      "source": [
        "##3. Fit model on preprocessed data and save preprocessor function and model \n"
      ]
    },
    {
      "cell_type": "code",
      "metadata": {
        "colab": {
          "base_uri": "https://localhost:8080/"
        },
        "id": "NCbBf8j9ClYl",
        "outputId": "96d9bb46-c007-4afd-8a0c-20d019a01c7b"
      },
      "source": [
        "# Let's build a convnet model...\n",
        "import tensorflow as tf \n",
        "from tensorflow.keras.models import Sequential\n",
        "from tensorflow.keras.layers import Dense, Activation, Dropout, Flatten\n",
        "from tensorflow.keras.layers import Conv2D, MaxPooling2D\n",
        "from tensorflow.keras import regularizers\n",
        "\n",
        "with tf.device('/device:GPU:0'): # \"/GPU:0\": Short-hand notation for the first GPU of your machine that is visible to TensorFlow.\n",
        "                                 \n",
        "        cnn1 = Sequential()\n",
        "        cnn1.add(Conv2D(filters=16, kernel_size=3, padding='same', activation='relu', input_shape=[192, 192, 3]))\n",
        "        cnn1.add(Conv2D(filters=16, kernel_size=3, padding='same', activation='relu', kernel_regularizer=regularizers.l2(l=0.01)))\n",
        "        cnn1.add(MaxPooling2D(pool_size=2)) \n",
        "        cnn1.add(Conv2D(filters=16, kernel_size=3, padding='same', activation='relu', kernel_regularizer=regularizers.l2(l=0.01)))\n",
        "        cnn1.add(Conv2D(filters=16, kernel_size=3, padding='same', activation='relu'))\n",
        "        cnn1.add(MaxPooling2D(pool_size=2))\n",
        "        cnn1.add(Dropout(0.3))\n",
        "        cnn1.add(Flatten())\n",
        "        cnn1.add(Dense(50, activation='relu'))\n",
        "        cnn1.add(Dropout(0.2))\n",
        "        cnn1.add(Dense(6, activation='softmax'))\n",
        "\n",
        "        # Compile model...\n",
        "        cnn1.compile(loss='categorical_crossentropy', optimizer='rmsprop', metrics=['accuracy'])\n",
        "\n",
        "        # Fitting the NN to the Training set...\n",
        "        hist = cnn1.fit(X_train, y_train, epochs=3, verbose=1, validation_split=0.2)"
      ],
      "execution_count": 7,
      "outputs": [
        {
          "output_type": "stream",
          "name": "stdout",
          "text": [
            "Epoch 1/3\n",
            "22/22 [==============================] - 54s 2s/step - loss: 2.1143 - accuracy: 0.2059 - val_loss: 3.2304 - val_accuracy: 0.0000e+00\n",
            "Epoch 2/3\n",
            "22/22 [==============================] - 42s 2s/step - loss: 1.8930 - accuracy: 0.2548 - val_loss: 3.8129 - val_accuracy: 0.0000e+00\n",
            "Epoch 3/3\n",
            "22/22 [==============================] - 43s 2s/step - loss: 1.7580 - accuracy: 0.2948 - val_loss: 4.0398 - val_accuracy: 0.0237\n"
          ]
        }
      ]
    },
    {
      "cell_type": "markdown",
      "metadata": {
        "id": "zmJAnmO-5AcU"
      },
      "source": [
        "#### Save preprocessor function to local \"preprocessor.zip\" file"
      ]
    },
    {
      "cell_type": "code",
      "metadata": {
        "colab": {
          "base_uri": "https://localhost:8080/"
        },
        "id": "4VGacc0LDaMA",
        "outputId": "54723612-7d6e-4933-a54b-14228041759e"
      },
      "source": [
        "import aimodelshare as ai\n",
        "ai.export_preprocessor(preprocessor,\"\") "
      ],
      "execution_count": 8,
      "outputs": [
        {
          "output_type": "stream",
          "name": "stdout",
          "text": [
            "Your preprocessor is now saved to 'preprocessor.zip'\n"
          ]
        }
      ]
    },
    {
      "cell_type": "markdown",
      "metadata": {
        "id": "oOWBa8Cv5LdL"
      },
      "source": [
        "#### Save model to local \".onnx\" file"
      ]
    },
    {
      "cell_type": "code",
      "metadata": {
        "id": "pEhvnRiQDlY5"
      },
      "source": [
        "# Save keras model to local ONNX file\n",
        "from aimodelshare.aimsonnx import model_to_onnx\n",
        "\n",
        "onnx_model = model_to_onnx(cnn1, framework='keras',\n",
        "                          transfer_learning=False,\n",
        "                          deep_learning=True)\n",
        "\n",
        "with open(\"model.onnx\", \"wb\") as f:\n",
        "    f.write(onnx_model.SerializeToString())"
      ],
      "execution_count": 9,
      "outputs": []
    },
    {
      "cell_type": "markdown",
      "metadata": {
        "id": "gHWkAzvX3m8O"
      },
      "source": [
        "## 4. Generate predictions from X_test data and submit model to competition\n"
      ]
    },
    {
      "cell_type": "code",
      "metadata": {
        "colab": {
          "base_uri": "https://localhost:8080/"
        },
        "id": "RtgkM02MDpkO",
        "outputId": "3bc73a24-712d-4d64-adc9-a0f9c029ee40"
      },
      "source": [
        "#Set credentials using modelshare.org username/password\n",
        "\n",
        "from aimodelshare.aws import set_credentials\n",
        "    \n",
        "apiurl=\"https://o537m24bc5.execute-api.us-east-1.amazonaws.com/prod/m\"#This is the unique rest api that powers this Dog Breed Classification Model Playground\n",
        "\n",
        "set_credentials(apiurl=apiurl)"
      ],
      "execution_count": 10,
      "outputs": [
        {
          "output_type": "stream",
          "name": "stdout",
          "text": [
            "AI Modelshare Username:··········\n",
            "AI Modelshare Password:··········\n",
            "AI Model Share login credentials set successfully.\n"
          ]
        }
      ]
    },
    {
      "cell_type": "code",
      "metadata": {
        "id": "fKNGSww8EGgi"
      },
      "source": [
        "#Instantiate Competition\n",
        "\n",
        "mycompetition= ai.Competition(apiurl)"
      ],
      "execution_count": 11,
      "outputs": []
    },
    {
      "cell_type": "code",
      "metadata": {
        "id": "_Ql4wksyEUnP",
        "colab": {
          "base_uri": "https://localhost:8080/"
        },
        "outputId": "1672075c-732b-404d-ebdd-feaae0f1b44c"
      },
      "source": [
        "#Submit Model 1: \n",
        "\n",
        "#-- Generate predicted y values (Model 1)\n",
        "#Note: Keras predict returns the predicted column index location for classification models\n",
        "prediction_column_index=cnn1.predict(X_test).argmax(axis=1)\n",
        "\n",
        "# extract correct prediction labels \n",
        "prediction_labels = [y_train.columns[i] for i in prediction_column_index]\n",
        "\n",
        "# Submit Model 1 to Competition Leaderboard\n",
        "mycompetition.submit_model(model_filepath = \"model.onnx\",\n",
        "                                 preprocessor_filepath=\"preprocessor.zip\",\n",
        "                                 prediction_submission=prediction_labels)"
      ],
      "execution_count": 12,
      "outputs": [
        {
          "output_type": "stream",
          "name": "stdout",
          "text": [
            "Insert search tags to help users find your model (optional): \n",
            "Provide any useful notes about your model (optional): \n",
            "\n",
            "Your model has been submitted as model version 3\n",
            "\n",
            "To submit code used to create this model or to view current leaderboard navigate to Model Playground: \n",
            "\n",
            " https://www.modelshare.org/detail/model:1313\n"
          ]
        }
      ]
    },
    {
      "cell_type": "code",
      "metadata": {
        "colab": {
          "base_uri": "https://localhost:8080/",
          "height": 222
        },
        "id": "GN1zvAmNEq17",
        "outputId": "f4a0bdf9-c91e-4b69-a5d6-9107b8054d75"
      },
      "source": [
        "# Get leaderboard to explore current best model architectures\n",
        "\n",
        "# Get raw data in pandas data frame\n",
        "data = mycompetition.get_leaderboard()\n",
        "\n",
        "# Stylize leaderboard data\n",
        "mycompetition.stylize_leaderboard(data)"
      ],
      "execution_count": 13,
      "outputs": [
        {
          "output_type": "execute_result",
          "data": {
            "text/html": [
              "<style  type=\"text/css\" >\n",
              "#T_9d591e02_7fad_11ec_9a02_0242ac1c0002row0_col0{\n",
              "            text-align:  center;\n",
              "            width:  10em;\n",
              "             height:  80%;\n",
              "            background:  linear-gradient(90deg,#f5f8d6 29.4%, transparent 29.4%);\n",
              "            color:  #251e1b;\n",
              "            font-size:  12px;\n",
              "        }#T_9d591e02_7fad_11ec_9a02_0242ac1c0002row0_col1{\n",
              "            text-align:  center;\n",
              "            width:  10em;\n",
              "             height:  80%;\n",
              "            background:  linear-gradient(90deg,#c778c8 22.7%, transparent 22.7%);\n",
              "            color:  #251e1b;\n",
              "            font-size:  12px;\n",
              "        }#T_9d591e02_7fad_11ec_9a02_0242ac1c0002row0_col2{\n",
              "            text-align:  center;\n",
              "            width:  10em;\n",
              "             height:  80%;\n",
              "            background:  linear-gradient(90deg,#ff4971 20.2%, transparent 20.2%);\n",
              "            color:  #251e1b;\n",
              "            font-size:  12px;\n",
              "        }#T_9d591e02_7fad_11ec_9a02_0242ac1c0002row0_col3{\n",
              "            text-align:  center;\n",
              "            width:  10em;\n",
              "             height:  80%;\n",
              "            background:  linear-gradient(90deg,#aadbaa 30.5%, transparent 30.5%);\n",
              "            color:  #251e1b;\n",
              "            font-size:  12px;\n",
              "        }#T_9d591e02_7fad_11ec_9a02_0242ac1c0002row0_col4,#T_9d591e02_7fad_11ec_9a02_0242ac1c0002row0_col5,#T_9d591e02_7fad_11ec_9a02_0242ac1c0002row0_col6,#T_9d591e02_7fad_11ec_9a02_0242ac1c0002row0_col7,#T_9d591e02_7fad_11ec_9a02_0242ac1c0002row0_col8,#T_9d591e02_7fad_11ec_9a02_0242ac1c0002row0_col9,#T_9d591e02_7fad_11ec_9a02_0242ac1c0002row0_col10,#T_9d591e02_7fad_11ec_9a02_0242ac1c0002row0_col11,#T_9d591e02_7fad_11ec_9a02_0242ac1c0002row0_col12,#T_9d591e02_7fad_11ec_9a02_0242ac1c0002row0_col13,#T_9d591e02_7fad_11ec_9a02_0242ac1c0002row0_col14,#T_9d591e02_7fad_11ec_9a02_0242ac1c0002row0_col15,#T_9d591e02_7fad_11ec_9a02_0242ac1c0002row0_col16,#T_9d591e02_7fad_11ec_9a02_0242ac1c0002row0_col17,#T_9d591e02_7fad_11ec_9a02_0242ac1c0002row0_col18,#T_9d591e02_7fad_11ec_9a02_0242ac1c0002row0_col19,#T_9d591e02_7fad_11ec_9a02_0242ac1c0002row0_col20,#T_9d591e02_7fad_11ec_9a02_0242ac1c0002row0_col21,#T_9d591e02_7fad_11ec_9a02_0242ac1c0002row0_col22,#T_9d591e02_7fad_11ec_9a02_0242ac1c0002row1_col4,#T_9d591e02_7fad_11ec_9a02_0242ac1c0002row1_col5,#T_9d591e02_7fad_11ec_9a02_0242ac1c0002row1_col6,#T_9d591e02_7fad_11ec_9a02_0242ac1c0002row1_col7,#T_9d591e02_7fad_11ec_9a02_0242ac1c0002row1_col8,#T_9d591e02_7fad_11ec_9a02_0242ac1c0002row1_col9,#T_9d591e02_7fad_11ec_9a02_0242ac1c0002row1_col10,#T_9d591e02_7fad_11ec_9a02_0242ac1c0002row1_col11,#T_9d591e02_7fad_11ec_9a02_0242ac1c0002row1_col12,#T_9d591e02_7fad_11ec_9a02_0242ac1c0002row1_col13,#T_9d591e02_7fad_11ec_9a02_0242ac1c0002row1_col14,#T_9d591e02_7fad_11ec_9a02_0242ac1c0002row1_col15,#T_9d591e02_7fad_11ec_9a02_0242ac1c0002row1_col16,#T_9d591e02_7fad_11ec_9a02_0242ac1c0002row1_col17,#T_9d591e02_7fad_11ec_9a02_0242ac1c0002row1_col18,#T_9d591e02_7fad_11ec_9a02_0242ac1c0002row1_col19,#T_9d591e02_7fad_11ec_9a02_0242ac1c0002row1_col20,#T_9d591e02_7fad_11ec_9a02_0242ac1c0002row1_col21,#T_9d591e02_7fad_11ec_9a02_0242ac1c0002row1_col22,#T_9d591e02_7fad_11ec_9a02_0242ac1c0002row2_col4,#T_9d591e02_7fad_11ec_9a02_0242ac1c0002row2_col5,#T_9d591e02_7fad_11ec_9a02_0242ac1c0002row2_col6,#T_9d591e02_7fad_11ec_9a02_0242ac1c0002row2_col7,#T_9d591e02_7fad_11ec_9a02_0242ac1c0002row2_col8,#T_9d591e02_7fad_11ec_9a02_0242ac1c0002row2_col9,#T_9d591e02_7fad_11ec_9a02_0242ac1c0002row2_col10,#T_9d591e02_7fad_11ec_9a02_0242ac1c0002row2_col11,#T_9d591e02_7fad_11ec_9a02_0242ac1c0002row2_col12,#T_9d591e02_7fad_11ec_9a02_0242ac1c0002row2_col13,#T_9d591e02_7fad_11ec_9a02_0242ac1c0002row2_col14,#T_9d591e02_7fad_11ec_9a02_0242ac1c0002row2_col15,#T_9d591e02_7fad_11ec_9a02_0242ac1c0002row2_col16,#T_9d591e02_7fad_11ec_9a02_0242ac1c0002row2_col17,#T_9d591e02_7fad_11ec_9a02_0242ac1c0002row2_col18,#T_9d591e02_7fad_11ec_9a02_0242ac1c0002row2_col19,#T_9d591e02_7fad_11ec_9a02_0242ac1c0002row2_col20,#T_9d591e02_7fad_11ec_9a02_0242ac1c0002row2_col21,#T_9d591e02_7fad_11ec_9a02_0242ac1c0002row2_col22{\n",
              "            text-align:  center;\n",
              "        }#T_9d591e02_7fad_11ec_9a02_0242ac1c0002row1_col0{\n",
              "            text-align:  center;\n",
              "            width:  10em;\n",
              "             height:  80%;\n",
              "            background:  linear-gradient(90deg,#f5f8d6 25.6%, transparent 25.6%);\n",
              "            color:  #251e1b;\n",
              "            font-size:  12px;\n",
              "        }#T_9d591e02_7fad_11ec_9a02_0242ac1c0002row1_col1{\n",
              "            text-align:  center;\n",
              "            width:  10em;\n",
              "             height:  80%;\n",
              "            background:  linear-gradient(90deg,#c778c8 21.3%, transparent 21.3%);\n",
              "            color:  #251e1b;\n",
              "            font-size:  12px;\n",
              "        }#T_9d591e02_7fad_11ec_9a02_0242ac1c0002row1_col2{\n",
              "            text-align:  center;\n",
              "            width:  10em;\n",
              "             height:  80%;\n",
              "            background:  linear-gradient(90deg,#ff4971 26.6%, transparent 26.6%);\n",
              "            color:  #251e1b;\n",
              "            font-size:  12px;\n",
              "        }#T_9d591e02_7fad_11ec_9a02_0242ac1c0002row1_col3{\n",
              "            text-align:  center;\n",
              "            width:  10em;\n",
              "             height:  80%;\n",
              "            background:  linear-gradient(90deg,#aadbaa 24.5%, transparent 24.5%);\n",
              "            color:  #251e1b;\n",
              "            font-size:  12px;\n",
              "        }#T_9d591e02_7fad_11ec_9a02_0242ac1c0002row2_col0{\n",
              "            text-align:  center;\n",
              "            width:  10em;\n",
              "             height:  80%;\n",
              "            background:  linear-gradient(90deg,#f5f8d6 19.0%, transparent 19.0%);\n",
              "            color:  #251e1b;\n",
              "            font-size:  12px;\n",
              "        }#T_9d591e02_7fad_11ec_9a02_0242ac1c0002row2_col1{\n",
              "            text-align:  center;\n",
              "            width:  10em;\n",
              "             height:  80%;\n",
              "            background:  linear-gradient(90deg,#c778c8 12.5%, transparent 12.5%);\n",
              "            color:  #251e1b;\n",
              "            font-size:  12px;\n",
              "        }#T_9d591e02_7fad_11ec_9a02_0242ac1c0002row2_col2{\n",
              "            text-align:  center;\n",
              "            width:  10em;\n",
              "             height:  80%;\n",
              "            background:  linear-gradient(90deg,#ff4971 47.0%, transparent 47.0%);\n",
              "            color:  #251e1b;\n",
              "            font-size:  12px;\n",
              "        }#T_9d591e02_7fad_11ec_9a02_0242ac1c0002row2_col3{\n",
              "            text-align:  center;\n",
              "            width:  10em;\n",
              "             height:  80%;\n",
              "            background:  linear-gradient(90deg,#aadbaa 18.5%, transparent 18.5%);\n",
              "            color:  #251e1b;\n",
              "            font-size:  12px;\n",
              "        }</style><table id=\"T_9d591e02_7fad_11ec_9a02_0242ac1c0002\" class=\"dataframe\"><thead>    <tr>        <th class=\"blank level0\" ></th>        <th class=\"col_heading level0 col0\" >accuracy</th>        <th class=\"col_heading level0 col1\" >f1_score</th>        <th class=\"col_heading level0 col2\" >precision</th>        <th class=\"col_heading level0 col3\" >recall</th>        <th class=\"col_heading level0 col4\" >ml_framework</th>        <th class=\"col_heading level0 col5\" >transfer_learning</th>        <th class=\"col_heading level0 col6\" >deep_learning</th>        <th class=\"col_heading level0 col7\" >model_type</th>        <th class=\"col_heading level0 col8\" >depth</th>        <th class=\"col_heading level0 col9\" >num_params</th>        <th class=\"col_heading level0 col10\" >conv2d_layers</th>        <th class=\"col_heading level0 col11\" >maxpooling2d_layers</th>        <th class=\"col_heading level0 col12\" >dropout_layers</th>        <th class=\"col_heading level0 col13\" >flatten_layers</th>        <th class=\"col_heading level0 col14\" >dense_layers</th>        <th class=\"col_heading level0 col15\" >relu_act</th>        <th class=\"col_heading level0 col16\" >softmax_act</th>        <th class=\"col_heading level0 col17\" >loss</th>        <th class=\"col_heading level0 col18\" >optimizer</th>        <th class=\"col_heading level0 col19\" >model_config</th>        <th class=\"col_heading level0 col20\" >memory_size</th>        <th class=\"col_heading level0 col21\" >username</th>        <th class=\"col_heading level0 col22\" >version</th>    </tr></thead><tbody>\n",
              "                <tr>\n",
              "                        <th id=\"T_9d591e02_7fad_11ec_9a02_0242ac1c0002level0_row0\" class=\"row_heading level0 row0\" >0</th>\n",
              "                        <td id=\"T_9d591e02_7fad_11ec_9a02_0242ac1c0002row0_col0\" class=\"data row0 col0\" >29.38%</td>\n",
              "                        <td id=\"T_9d591e02_7fad_11ec_9a02_0242ac1c0002row0_col1\" class=\"data row0 col1\" >22.72%</td>\n",
              "                        <td id=\"T_9d591e02_7fad_11ec_9a02_0242ac1c0002row0_col2\" class=\"data row0 col2\" >20.17%</td>\n",
              "                        <td id=\"T_9d591e02_7fad_11ec_9a02_0242ac1c0002row0_col3\" class=\"data row0 col3\" >30.47%</td>\n",
              "                        <td id=\"T_9d591e02_7fad_11ec_9a02_0242ac1c0002row0_col4\" class=\"data row0 col4\" >keras</td>\n",
              "                        <td id=\"T_9d591e02_7fad_11ec_9a02_0242ac1c0002row0_col5\" class=\"data row0 col5\" >False</td>\n",
              "                        <td id=\"T_9d591e02_7fad_11ec_9a02_0242ac1c0002row0_col6\" class=\"data row0 col6\" >True</td>\n",
              "                        <td id=\"T_9d591e02_7fad_11ec_9a02_0242ac1c0002row0_col7\" class=\"data row0 col7\" >Sequential</td>\n",
              "                        <td id=\"T_9d591e02_7fad_11ec_9a02_0242ac1c0002row0_col8\" class=\"data row0 col8\" >5</td>\n",
              "                        <td id=\"T_9d591e02_7fad_11ec_9a02_0242ac1c0002row0_col9\" class=\"data row0 col9\" >14164358</td>\n",
              "                        <td id=\"T_9d591e02_7fad_11ec_9a02_0242ac1c0002row0_col10\" class=\"data row0 col10\" >nan</td>\n",
              "                        <td id=\"T_9d591e02_7fad_11ec_9a02_0242ac1c0002row0_col11\" class=\"data row0 col11\" >nan</td>\n",
              "                        <td id=\"T_9d591e02_7fad_11ec_9a02_0242ac1c0002row0_col12\" class=\"data row0 col12\" >nan</td>\n",
              "                        <td id=\"T_9d591e02_7fad_11ec_9a02_0242ac1c0002row0_col13\" class=\"data row0 col13\" >1</td>\n",
              "                        <td id=\"T_9d591e02_7fad_11ec_9a02_0242ac1c0002row0_col14\" class=\"data row0 col14\" >4</td>\n",
              "                        <td id=\"T_9d591e02_7fad_11ec_9a02_0242ac1c0002row0_col15\" class=\"data row0 col15\" >3</td>\n",
              "                        <td id=\"T_9d591e02_7fad_11ec_9a02_0242ac1c0002row0_col16\" class=\"data row0 col16\" >1</td>\n",
              "                        <td id=\"T_9d591e02_7fad_11ec_9a02_0242ac1c0002row0_col17\" class=\"data row0 col17\" >function</td>\n",
              "                        <td id=\"T_9d591e02_7fad_11ec_9a02_0242ac1c0002row0_col18\" class=\"data row0 col18\" >RMSprop</td>\n",
              "                        <td id=\"T_9d591e02_7fad_11ec_9a02_0242ac1c0002row0_col19\" class=\"data row0 col19\" >{'name': 'sequential_4', 'laye...</td>\n",
              "                        <td id=\"T_9d591e02_7fad_11ec_9a02_0242ac1c0002row0_col20\" class=\"data row0 col20\" >206888</td>\n",
              "                        <td id=\"T_9d591e02_7fad_11ec_9a02_0242ac1c0002row0_col21\" class=\"data row0 col21\" >AIModelShare</td>\n",
              "                        <td id=\"T_9d591e02_7fad_11ec_9a02_0242ac1c0002row0_col22\" class=\"data row0 col22\" >2</td>\n",
              "            </tr>\n",
              "            <tr>\n",
              "                        <th id=\"T_9d591e02_7fad_11ec_9a02_0242ac1c0002level0_row1\" class=\"row_heading level0 row1\" >1</th>\n",
              "                        <td id=\"T_9d591e02_7fad_11ec_9a02_0242ac1c0002row1_col0\" class=\"data row1 col0\" >25.59%</td>\n",
              "                        <td id=\"T_9d591e02_7fad_11ec_9a02_0242ac1c0002row1_col1\" class=\"data row1 col1\" >21.25%</td>\n",
              "                        <td id=\"T_9d591e02_7fad_11ec_9a02_0242ac1c0002row1_col2\" class=\"data row1 col2\" >26.64%</td>\n",
              "                        <td id=\"T_9d591e02_7fad_11ec_9a02_0242ac1c0002row1_col3\" class=\"data row1 col3\" >24.48%</td>\n",
              "                        <td id=\"T_9d591e02_7fad_11ec_9a02_0242ac1c0002row1_col4\" class=\"data row1 col4\" >keras</td>\n",
              "                        <td id=\"T_9d591e02_7fad_11ec_9a02_0242ac1c0002row1_col5\" class=\"data row1 col5\" >False</td>\n",
              "                        <td id=\"T_9d591e02_7fad_11ec_9a02_0242ac1c0002row1_col6\" class=\"data row1 col6\" >True</td>\n",
              "                        <td id=\"T_9d591e02_7fad_11ec_9a02_0242ac1c0002row1_col7\" class=\"data row1 col7\" >Sequential</td>\n",
              "                        <td id=\"T_9d591e02_7fad_11ec_9a02_0242ac1c0002row1_col8\" class=\"data row1 col8\" >11</td>\n",
              "                        <td id=\"T_9d591e02_7fad_11ec_9a02_0242ac1c0002row1_col9\" class=\"data row1 col9\" >1851204</td>\n",
              "                        <td id=\"T_9d591e02_7fad_11ec_9a02_0242ac1c0002row1_col10\" class=\"data row1 col10\" >nan</td>\n",
              "                        <td id=\"T_9d591e02_7fad_11ec_9a02_0242ac1c0002row1_col11\" class=\"data row1 col11\" >2.000000</td>\n",
              "                        <td id=\"T_9d591e02_7fad_11ec_9a02_0242ac1c0002row1_col12\" class=\"data row1 col12\" >2.000000</td>\n",
              "                        <td id=\"T_9d591e02_7fad_11ec_9a02_0242ac1c0002row1_col13\" class=\"data row1 col13\" >1</td>\n",
              "                        <td id=\"T_9d591e02_7fad_11ec_9a02_0242ac1c0002row1_col14\" class=\"data row1 col14\" >2</td>\n",
              "                        <td id=\"T_9d591e02_7fad_11ec_9a02_0242ac1c0002row1_col15\" class=\"data row1 col15\" >5</td>\n",
              "                        <td id=\"T_9d591e02_7fad_11ec_9a02_0242ac1c0002row1_col16\" class=\"data row1 col16\" >1</td>\n",
              "                        <td id=\"T_9d591e02_7fad_11ec_9a02_0242ac1c0002row1_col17\" class=\"data row1 col17\" >function</td>\n",
              "                        <td id=\"T_9d591e02_7fad_11ec_9a02_0242ac1c0002row1_col18\" class=\"data row1 col18\" >RMSprop</td>\n",
              "                        <td id=\"T_9d591e02_7fad_11ec_9a02_0242ac1c0002row1_col19\" class=\"data row1 col19\" >{'name': 'sequential_1', 'laye...</td>\n",
              "                        <td id=\"T_9d591e02_7fad_11ec_9a02_0242ac1c0002row1_col20\" class=\"data row1 col20\" >302920</td>\n",
              "                        <td id=\"T_9d591e02_7fad_11ec_9a02_0242ac1c0002row1_col21\" class=\"data row1 col21\" >AIModelShare</td>\n",
              "                        <td id=\"T_9d591e02_7fad_11ec_9a02_0242ac1c0002row1_col22\" class=\"data row1 col22\" >1</td>\n",
              "            </tr>\n",
              "            <tr>\n",
              "                        <th id=\"T_9d591e02_7fad_11ec_9a02_0242ac1c0002level0_row2\" class=\"row_heading level0 row2\" >2</th>\n",
              "                        <td id=\"T_9d591e02_7fad_11ec_9a02_0242ac1c0002row2_col0\" class=\"data row2 col0\" >18.96%</td>\n",
              "                        <td id=\"T_9d591e02_7fad_11ec_9a02_0242ac1c0002row2_col1\" class=\"data row2 col1\" >12.51%</td>\n",
              "                        <td id=\"T_9d591e02_7fad_11ec_9a02_0242ac1c0002row2_col2\" class=\"data row2 col2\" >47.03%</td>\n",
              "                        <td id=\"T_9d591e02_7fad_11ec_9a02_0242ac1c0002row2_col3\" class=\"data row2 col3\" >18.50%</td>\n",
              "                        <td id=\"T_9d591e02_7fad_11ec_9a02_0242ac1c0002row2_col4\" class=\"data row2 col4\" >keras</td>\n",
              "                        <td id=\"T_9d591e02_7fad_11ec_9a02_0242ac1c0002row2_col5\" class=\"data row2 col5\" >False</td>\n",
              "                        <td id=\"T_9d591e02_7fad_11ec_9a02_0242ac1c0002row2_col6\" class=\"data row2 col6\" >True</td>\n",
              "                        <td id=\"T_9d591e02_7fad_11ec_9a02_0242ac1c0002row2_col7\" class=\"data row2 col7\" >Sequential</td>\n",
              "                        <td id=\"T_9d591e02_7fad_11ec_9a02_0242ac1c0002row2_col8\" class=\"data row2 col8\" >11</td>\n",
              "                        <td id=\"T_9d591e02_7fad_11ec_9a02_0242ac1c0002row2_col9\" class=\"data row2 col9\" >1850964</td>\n",
              "                        <td id=\"T_9d591e02_7fad_11ec_9a02_0242ac1c0002row2_col10\" class=\"data row2 col10\" >4.000000</td>\n",
              "                        <td id=\"T_9d591e02_7fad_11ec_9a02_0242ac1c0002row2_col11\" class=\"data row2 col11\" >2.000000</td>\n",
              "                        <td id=\"T_9d591e02_7fad_11ec_9a02_0242ac1c0002row2_col12\" class=\"data row2 col12\" >2.000000</td>\n",
              "                        <td id=\"T_9d591e02_7fad_11ec_9a02_0242ac1c0002row2_col13\" class=\"data row2 col13\" >1</td>\n",
              "                        <td id=\"T_9d591e02_7fad_11ec_9a02_0242ac1c0002row2_col14\" class=\"data row2 col14\" >2</td>\n",
              "                        <td id=\"T_9d591e02_7fad_11ec_9a02_0242ac1c0002row2_col15\" class=\"data row2 col15\" >5</td>\n",
              "                        <td id=\"T_9d591e02_7fad_11ec_9a02_0242ac1c0002row2_col16\" class=\"data row2 col16\" >1</td>\n",
              "                        <td id=\"T_9d591e02_7fad_11ec_9a02_0242ac1c0002row2_col17\" class=\"data row2 col17\" >str</td>\n",
              "                        <td id=\"T_9d591e02_7fad_11ec_9a02_0242ac1c0002row2_col18\" class=\"data row2 col18\" >RMSprop</td>\n",
              "                        <td id=\"T_9d591e02_7fad_11ec_9a02_0242ac1c0002row2_col19\" class=\"data row2 col19\" >{'name': 'sequential', 'layers...</td>\n",
              "                        <td id=\"T_9d591e02_7fad_11ec_9a02_0242ac1c0002row2_col20\" class=\"data row2 col20\" >2730456</td>\n",
              "                        <td id=\"T_9d591e02_7fad_11ec_9a02_0242ac1c0002row2_col21\" class=\"data row2 col21\" >AIModelShare</td>\n",
              "                        <td id=\"T_9d591e02_7fad_11ec_9a02_0242ac1c0002row2_col22\" class=\"data row2 col22\" >3</td>\n",
              "            </tr>\n",
              "    </tbody></table>"
            ],
            "text/plain": [
              "<pandas.io.formats.style.Styler at 0x7f2cf2b128d0>"
            ]
          },
          "metadata": {},
          "execution_count": 13
        }
      ]
    },
    {
      "cell_type": "markdown",
      "metadata": {
        "id": "bwNKs0wP4r5s"
      },
      "source": [
        "## 5. Repeat submission process to improve place on leaderboard\n"
      ]
    },
    {
      "cell_type": "code",
      "metadata": {
        "colab": {
          "base_uri": "https://localhost:8080/"
        },
        "id": "FgSs5PAtPCZH",
        "outputId": "47b14be0-72d7-42a1-aebb-82f5abf5077d"
      },
      "source": [
        "# Train and submit model 2 using same preprocessor (note that you could save a new preprocessor, but we will use the same one for this example).\n",
        "\n",
        "with tf.device('/device:GPU:0'): # \"/GPU:0\": Short-hand notation for the first GPU of your machine that is visible to TensorFlow.\n",
        "      cnn2 = Sequential()\n",
        "      cnn2.add(Dense(128,  input_shape=(192, 192, 3), activation='relu'))\n",
        "      cnn2.add(Dense(64, activation='relu'))\n",
        "      cnn2.add(Dense(64, activation='relu'))\n",
        "      cnn2.add(Flatten())\n",
        "      cnn2.add(Dense(6, activation='softmax')) \n",
        "                                                  \n",
        "      # Compile model\n",
        "      cnn2.compile(loss='categorical_crossentropy', optimizer='rmsprop', metrics=['accuracy'])\n",
        "\n",
        "      # Fitting the NN to the Training set\n",
        "      cnn2.fit(X_train, y_train, \n",
        "                    epochs = 3, verbose=1, validation_split=.2)"
      ],
      "execution_count": 14,
      "outputs": [
        {
          "output_type": "stream",
          "name": "stdout",
          "text": [
            "Epoch 1/3\n",
            "22/22 [==============================] - 88s 4s/step - loss: 25.3183 - accuracy: 0.2430 - val_loss: 12.0798 - val_accuracy: 0.0059\n",
            "Epoch 2/3\n",
            "22/22 [==============================] - 83s 4s/step - loss: 1.5209 - accuracy: 0.3748 - val_loss: 13.3431 - val_accuracy: 0.0947\n",
            "Epoch 3/3\n",
            "22/22 [==============================] - 83s 4s/step - loss: 1.7190 - accuracy: 0.3881 - val_loss: 9.3149 - val_accuracy: 0.0355\n"
          ]
        }
      ]
    },
    {
      "cell_type": "code",
      "metadata": {
        "id": "aIdmSpYVPYAw"
      },
      "source": [
        "# Save keras model to local ONNX file\n",
        "from aimodelshare.aimsonnx import model_to_onnx\n",
        "\n",
        "onnx_model = model_to_onnx(cnn2, framework='keras',\n",
        "                          transfer_learning=False,\n",
        "                          deep_learning=True)\n",
        "\n",
        "with open(\"model2.onnx\", \"wb\") as f:\n",
        "    f.write(onnx_model.SerializeToString())"
      ],
      "execution_count": 15,
      "outputs": []
    },
    {
      "cell_type": "code",
      "metadata": {
        "colab": {
          "base_uri": "https://localhost:8080/"
        },
        "id": "nszPPrfwPlUk",
        "outputId": "ae76df57-71f6-4b99-c425-1775fbd2a75a"
      },
      "source": [
        "#Submit Model 2: \n",
        "\n",
        "#-- Generate predicted y values (Model 2)\n",
        "prediction_column_index=cnn2.predict(X_test).argmax(axis=1)\n",
        "\n",
        "# extract correct prediction labels \n",
        "prediction_labels = [y_train.columns[i] for i in prediction_column_index]\n",
        "\n",
        "# Submit Model 2 to Competition Leaderboard\n",
        "mycompetition.submit_model(model_filepath = \"model2.onnx\",\n",
        "                                 preprocessor_filepath=\"preprocessor.zip\",\n",
        "                                 prediction_submission=prediction_labels)"
      ],
      "execution_count": 16,
      "outputs": [
        {
          "output_type": "stream",
          "name": "stdout",
          "text": [
            "Insert search tags to help users find your model (optional): \n",
            "Provide any useful notes about your model (optional): \n",
            "\n",
            "Your model has been submitted as model version 4\n",
            "\n",
            "To submit code used to create this model or to view current leaderboard navigate to Model Playground: \n",
            "\n",
            " https://www.modelshare.org/detail/model:1313\n"
          ]
        }
      ]
    },
    {
      "cell_type": "code",
      "metadata": {
        "colab": {
          "base_uri": "https://localhost:8080/",
          "height": 251
        },
        "id": "qLl7yLpVEx26",
        "outputId": "27677f47-d800-4f1b-94c3-afb8eaf5307b"
      },
      "source": [
        "# Compare two or more models\n",
        "data=mycompetition.compare_models([3,4], verbose=1)\n",
        "mycompetition.stylize_compare(data)"
      ],
      "execution_count": 17,
      "outputs": [
        {
          "output_type": "display_data",
          "data": {
            "text/html": [
              "<style  type=\"text/css\" >\n",
              "    #T_7653dd96_7fae_11ec_9a02_0242ac1c0002 caption {\n",
              "          color: black;\n",
              "          font-size: 18px;\n",
              "    }#T_7653dd96_7fae_11ec_9a02_0242ac1c0002row0_col0,#T_7653dd96_7fae_11ec_9a02_0242ac1c0002row1_col0,#T_7653dd96_7fae_11ec_9a02_0242ac1c0002row3_col0,#T_7653dd96_7fae_11ec_9a02_0242ac1c0002row4_col0{\n",
              "            background:  #fdcdac;\n",
              "            color:  black;\n",
              "            color:  black;\n",
              "        }#T_7653dd96_7fae_11ec_9a02_0242ac1c0002row0_col1,#T_7653dd96_7fae_11ec_9a02_0242ac1c0002row0_col2,#T_7653dd96_7fae_11ec_9a02_0242ac1c0002row0_col4,#T_7653dd96_7fae_11ec_9a02_0242ac1c0002row0_col5,#T_7653dd96_7fae_11ec_9a02_0242ac1c0002row1_col1,#T_7653dd96_7fae_11ec_9a02_0242ac1c0002row1_col2,#T_7653dd96_7fae_11ec_9a02_0242ac1c0002row1_col4,#T_7653dd96_7fae_11ec_9a02_0242ac1c0002row1_col5,#T_7653dd96_7fae_11ec_9a02_0242ac1c0002row2_col1,#T_7653dd96_7fae_11ec_9a02_0242ac1c0002row2_col2,#T_7653dd96_7fae_11ec_9a02_0242ac1c0002row2_col4,#T_7653dd96_7fae_11ec_9a02_0242ac1c0002row2_col5,#T_7653dd96_7fae_11ec_9a02_0242ac1c0002row3_col1,#T_7653dd96_7fae_11ec_9a02_0242ac1c0002row3_col2,#T_7653dd96_7fae_11ec_9a02_0242ac1c0002row3_col4,#T_7653dd96_7fae_11ec_9a02_0242ac1c0002row3_col5,#T_7653dd96_7fae_11ec_9a02_0242ac1c0002row4_col1,#T_7653dd96_7fae_11ec_9a02_0242ac1c0002row4_col2,#T_7653dd96_7fae_11ec_9a02_0242ac1c0002row4_col4,#T_7653dd96_7fae_11ec_9a02_0242ac1c0002row4_col5,#T_7653dd96_7fae_11ec_9a02_0242ac1c0002row5_col1,#T_7653dd96_7fae_11ec_9a02_0242ac1c0002row5_col2,#T_7653dd96_7fae_11ec_9a02_0242ac1c0002row5_col3,#T_7653dd96_7fae_11ec_9a02_0242ac1c0002row5_col4,#T_7653dd96_7fae_11ec_9a02_0242ac1c0002row5_col5,#T_7653dd96_7fae_11ec_9a02_0242ac1c0002row6_col1,#T_7653dd96_7fae_11ec_9a02_0242ac1c0002row6_col2,#T_7653dd96_7fae_11ec_9a02_0242ac1c0002row6_col3,#T_7653dd96_7fae_11ec_9a02_0242ac1c0002row6_col4,#T_7653dd96_7fae_11ec_9a02_0242ac1c0002row6_col5,#T_7653dd96_7fae_11ec_9a02_0242ac1c0002row7_col1,#T_7653dd96_7fae_11ec_9a02_0242ac1c0002row7_col2,#T_7653dd96_7fae_11ec_9a02_0242ac1c0002row7_col3,#T_7653dd96_7fae_11ec_9a02_0242ac1c0002row7_col4,#T_7653dd96_7fae_11ec_9a02_0242ac1c0002row7_col5,#T_7653dd96_7fae_11ec_9a02_0242ac1c0002row8_col1,#T_7653dd96_7fae_11ec_9a02_0242ac1c0002row8_col2,#T_7653dd96_7fae_11ec_9a02_0242ac1c0002row8_col3,#T_7653dd96_7fae_11ec_9a02_0242ac1c0002row8_col4,#T_7653dd96_7fae_11ec_9a02_0242ac1c0002row8_col5,#T_7653dd96_7fae_11ec_9a02_0242ac1c0002row9_col1,#T_7653dd96_7fae_11ec_9a02_0242ac1c0002row9_col2,#T_7653dd96_7fae_11ec_9a02_0242ac1c0002row9_col3,#T_7653dd96_7fae_11ec_9a02_0242ac1c0002row9_col4,#T_7653dd96_7fae_11ec_9a02_0242ac1c0002row9_col5,#T_7653dd96_7fae_11ec_9a02_0242ac1c0002row10_col1,#T_7653dd96_7fae_11ec_9a02_0242ac1c0002row10_col2,#T_7653dd96_7fae_11ec_9a02_0242ac1c0002row10_col3,#T_7653dd96_7fae_11ec_9a02_0242ac1c0002row10_col4,#T_7653dd96_7fae_11ec_9a02_0242ac1c0002row10_col5{\n",
              "            background:  white;\n",
              "            color:  black;\n",
              "            color:  black;\n",
              "        }#T_7653dd96_7fae_11ec_9a02_0242ac1c0002row0_col3,#T_7653dd96_7fae_11ec_9a02_0242ac1c0002row1_col3,#T_7653dd96_7fae_11ec_9a02_0242ac1c0002row2_col3,#T_7653dd96_7fae_11ec_9a02_0242ac1c0002row4_col3,#T_7653dd96_7fae_11ec_9a02_0242ac1c0002row8_col0,#T_7653dd96_7fae_11ec_9a02_0242ac1c0002row10_col0{\n",
              "            background:  #fff2ae;\n",
              "            color:  black;\n",
              "            color:  black;\n",
              "        }#T_7653dd96_7fae_11ec_9a02_0242ac1c0002row2_col0,#T_7653dd96_7fae_11ec_9a02_0242ac1c0002row5_col0{\n",
              "            background:  #f1e2cc;\n",
              "            color:  black;\n",
              "            color:  black;\n",
              "        }#T_7653dd96_7fae_11ec_9a02_0242ac1c0002row3_col3,#T_7653dd96_7fae_11ec_9a02_0242ac1c0002row7_col0{\n",
              "            background:  #e6f5c9;\n",
              "            color:  black;\n",
              "            color:  black;\n",
              "        }#T_7653dd96_7fae_11ec_9a02_0242ac1c0002row6_col0,#T_7653dd96_7fae_11ec_9a02_0242ac1c0002row9_col0{\n",
              "            background:  #cbd5e8;\n",
              "            color:  black;\n",
              "            color:  black;\n",
              "        }</style><table id=\"T_7653dd96_7fae_11ec_9a02_0242ac1c0002\" ><caption>Model type: Neural Network</caption><thead>    <tr>        <th class=\"blank level0\" ></th>        <th class=\"col_heading level0 col0\" >Model_3_Layer</th>        <th class=\"col_heading level0 col1\" >Model_3_Shape</th>        <th class=\"col_heading level0 col2\" >Model_3_Params</th>        <th class=\"col_heading level0 col3\" >Model_4_Layer</th>        <th class=\"col_heading level0 col4\" >Model_4_Shape</th>        <th class=\"col_heading level0 col5\" >Model_4_Params</th>    </tr></thead><tbody>\n",
              "                <tr>\n",
              "                        <th id=\"T_7653dd96_7fae_11ec_9a02_0242ac1c0002level0_row0\" class=\"row_heading level0 row0\" >0</th>\n",
              "                        <td id=\"T_7653dd96_7fae_11ec_9a02_0242ac1c0002row0_col0\" class=\"data row0 col0\" >Conv2D</td>\n",
              "                        <td id=\"T_7653dd96_7fae_11ec_9a02_0242ac1c0002row0_col1\" class=\"data row0 col1\" >[None, 192, 192, 16]</td>\n",
              "                        <td id=\"T_7653dd96_7fae_11ec_9a02_0242ac1c0002row0_col2\" class=\"data row0 col2\" >448</td>\n",
              "                        <td id=\"T_7653dd96_7fae_11ec_9a02_0242ac1c0002row0_col3\" class=\"data row0 col3\" >Dense</td>\n",
              "                        <td id=\"T_7653dd96_7fae_11ec_9a02_0242ac1c0002row0_col4\" class=\"data row0 col4\" >[None, 192, 192, 128]</td>\n",
              "                        <td id=\"T_7653dd96_7fae_11ec_9a02_0242ac1c0002row0_col5\" class=\"data row0 col5\" >512.000000</td>\n",
              "            </tr>\n",
              "            <tr>\n",
              "                        <th id=\"T_7653dd96_7fae_11ec_9a02_0242ac1c0002level0_row1\" class=\"row_heading level0 row1\" >1</th>\n",
              "                        <td id=\"T_7653dd96_7fae_11ec_9a02_0242ac1c0002row1_col0\" class=\"data row1 col0\" >Conv2D</td>\n",
              "                        <td id=\"T_7653dd96_7fae_11ec_9a02_0242ac1c0002row1_col1\" class=\"data row1 col1\" >[None, 192, 192, 16]</td>\n",
              "                        <td id=\"T_7653dd96_7fae_11ec_9a02_0242ac1c0002row1_col2\" class=\"data row1 col2\" >2320</td>\n",
              "                        <td id=\"T_7653dd96_7fae_11ec_9a02_0242ac1c0002row1_col3\" class=\"data row1 col3\" >Dense</td>\n",
              "                        <td id=\"T_7653dd96_7fae_11ec_9a02_0242ac1c0002row1_col4\" class=\"data row1 col4\" >[None, 192, 192, 64]</td>\n",
              "                        <td id=\"T_7653dd96_7fae_11ec_9a02_0242ac1c0002row1_col5\" class=\"data row1 col5\" >8256.000000</td>\n",
              "            </tr>\n",
              "            <tr>\n",
              "                        <th id=\"T_7653dd96_7fae_11ec_9a02_0242ac1c0002level0_row2\" class=\"row_heading level0 row2\" >2</th>\n",
              "                        <td id=\"T_7653dd96_7fae_11ec_9a02_0242ac1c0002row2_col0\" class=\"data row2 col0\" >MaxPooling2D</td>\n",
              "                        <td id=\"T_7653dd96_7fae_11ec_9a02_0242ac1c0002row2_col1\" class=\"data row2 col1\" >[None, 96, 96, 16]</td>\n",
              "                        <td id=\"T_7653dd96_7fae_11ec_9a02_0242ac1c0002row2_col2\" class=\"data row2 col2\" >0</td>\n",
              "                        <td id=\"T_7653dd96_7fae_11ec_9a02_0242ac1c0002row2_col3\" class=\"data row2 col3\" >Dense</td>\n",
              "                        <td id=\"T_7653dd96_7fae_11ec_9a02_0242ac1c0002row2_col4\" class=\"data row2 col4\" >[None, 192, 192, 64]</td>\n",
              "                        <td id=\"T_7653dd96_7fae_11ec_9a02_0242ac1c0002row2_col5\" class=\"data row2 col5\" >4160.000000</td>\n",
              "            </tr>\n",
              "            <tr>\n",
              "                        <th id=\"T_7653dd96_7fae_11ec_9a02_0242ac1c0002level0_row3\" class=\"row_heading level0 row3\" >3</th>\n",
              "                        <td id=\"T_7653dd96_7fae_11ec_9a02_0242ac1c0002row3_col0\" class=\"data row3 col0\" >Conv2D</td>\n",
              "                        <td id=\"T_7653dd96_7fae_11ec_9a02_0242ac1c0002row3_col1\" class=\"data row3 col1\" >[None, 96, 96, 16]</td>\n",
              "                        <td id=\"T_7653dd96_7fae_11ec_9a02_0242ac1c0002row3_col2\" class=\"data row3 col2\" >2320</td>\n",
              "                        <td id=\"T_7653dd96_7fae_11ec_9a02_0242ac1c0002row3_col3\" class=\"data row3 col3\" >Flatten</td>\n",
              "                        <td id=\"T_7653dd96_7fae_11ec_9a02_0242ac1c0002row3_col4\" class=\"data row3 col4\" >[None, 2359296]</td>\n",
              "                        <td id=\"T_7653dd96_7fae_11ec_9a02_0242ac1c0002row3_col5\" class=\"data row3 col5\" >0.000000</td>\n",
              "            </tr>\n",
              "            <tr>\n",
              "                        <th id=\"T_7653dd96_7fae_11ec_9a02_0242ac1c0002level0_row4\" class=\"row_heading level0 row4\" >4</th>\n",
              "                        <td id=\"T_7653dd96_7fae_11ec_9a02_0242ac1c0002row4_col0\" class=\"data row4 col0\" >Conv2D</td>\n",
              "                        <td id=\"T_7653dd96_7fae_11ec_9a02_0242ac1c0002row4_col1\" class=\"data row4 col1\" >[None, 96, 96, 16]</td>\n",
              "                        <td id=\"T_7653dd96_7fae_11ec_9a02_0242ac1c0002row4_col2\" class=\"data row4 col2\" >2320</td>\n",
              "                        <td id=\"T_7653dd96_7fae_11ec_9a02_0242ac1c0002row4_col3\" class=\"data row4 col3\" >Dense</td>\n",
              "                        <td id=\"T_7653dd96_7fae_11ec_9a02_0242ac1c0002row4_col4\" class=\"data row4 col4\" >[None, 6]</td>\n",
              "                        <td id=\"T_7653dd96_7fae_11ec_9a02_0242ac1c0002row4_col5\" class=\"data row4 col5\" >14155782.000000</td>\n",
              "            </tr>\n",
              "            <tr>\n",
              "                        <th id=\"T_7653dd96_7fae_11ec_9a02_0242ac1c0002level0_row5\" class=\"row_heading level0 row5\" >5</th>\n",
              "                        <td id=\"T_7653dd96_7fae_11ec_9a02_0242ac1c0002row5_col0\" class=\"data row5 col0\" >MaxPooling2D</td>\n",
              "                        <td id=\"T_7653dd96_7fae_11ec_9a02_0242ac1c0002row5_col1\" class=\"data row5 col1\" >[None, 48, 48, 16]</td>\n",
              "                        <td id=\"T_7653dd96_7fae_11ec_9a02_0242ac1c0002row5_col2\" class=\"data row5 col2\" >0</td>\n",
              "                        <td id=\"T_7653dd96_7fae_11ec_9a02_0242ac1c0002row5_col3\" class=\"data row5 col3\" >None</td>\n",
              "                        <td id=\"T_7653dd96_7fae_11ec_9a02_0242ac1c0002row5_col4\" class=\"data row5 col4\" >None</td>\n",
              "                        <td id=\"T_7653dd96_7fae_11ec_9a02_0242ac1c0002row5_col5\" class=\"data row5 col5\" >nan</td>\n",
              "            </tr>\n",
              "            <tr>\n",
              "                        <th id=\"T_7653dd96_7fae_11ec_9a02_0242ac1c0002level0_row6\" class=\"row_heading level0 row6\" >6</th>\n",
              "                        <td id=\"T_7653dd96_7fae_11ec_9a02_0242ac1c0002row6_col0\" class=\"data row6 col0\" >Dropout</td>\n",
              "                        <td id=\"T_7653dd96_7fae_11ec_9a02_0242ac1c0002row6_col1\" class=\"data row6 col1\" >[None, 48, 48, 16]</td>\n",
              "                        <td id=\"T_7653dd96_7fae_11ec_9a02_0242ac1c0002row6_col2\" class=\"data row6 col2\" >0</td>\n",
              "                        <td id=\"T_7653dd96_7fae_11ec_9a02_0242ac1c0002row6_col3\" class=\"data row6 col3\" >None</td>\n",
              "                        <td id=\"T_7653dd96_7fae_11ec_9a02_0242ac1c0002row6_col4\" class=\"data row6 col4\" >None</td>\n",
              "                        <td id=\"T_7653dd96_7fae_11ec_9a02_0242ac1c0002row6_col5\" class=\"data row6 col5\" >nan</td>\n",
              "            </tr>\n",
              "            <tr>\n",
              "                        <th id=\"T_7653dd96_7fae_11ec_9a02_0242ac1c0002level0_row7\" class=\"row_heading level0 row7\" >7</th>\n",
              "                        <td id=\"T_7653dd96_7fae_11ec_9a02_0242ac1c0002row7_col0\" class=\"data row7 col0\" >Flatten</td>\n",
              "                        <td id=\"T_7653dd96_7fae_11ec_9a02_0242ac1c0002row7_col1\" class=\"data row7 col1\" >[None, 36864]</td>\n",
              "                        <td id=\"T_7653dd96_7fae_11ec_9a02_0242ac1c0002row7_col2\" class=\"data row7 col2\" >0</td>\n",
              "                        <td id=\"T_7653dd96_7fae_11ec_9a02_0242ac1c0002row7_col3\" class=\"data row7 col3\" >None</td>\n",
              "                        <td id=\"T_7653dd96_7fae_11ec_9a02_0242ac1c0002row7_col4\" class=\"data row7 col4\" >None</td>\n",
              "                        <td id=\"T_7653dd96_7fae_11ec_9a02_0242ac1c0002row7_col5\" class=\"data row7 col5\" >nan</td>\n",
              "            </tr>\n",
              "            <tr>\n",
              "                        <th id=\"T_7653dd96_7fae_11ec_9a02_0242ac1c0002level0_row8\" class=\"row_heading level0 row8\" >8</th>\n",
              "                        <td id=\"T_7653dd96_7fae_11ec_9a02_0242ac1c0002row8_col0\" class=\"data row8 col0\" >Dense</td>\n",
              "                        <td id=\"T_7653dd96_7fae_11ec_9a02_0242ac1c0002row8_col1\" class=\"data row8 col1\" >[None, 50]</td>\n",
              "                        <td id=\"T_7653dd96_7fae_11ec_9a02_0242ac1c0002row8_col2\" class=\"data row8 col2\" >1843250</td>\n",
              "                        <td id=\"T_7653dd96_7fae_11ec_9a02_0242ac1c0002row8_col3\" class=\"data row8 col3\" >None</td>\n",
              "                        <td id=\"T_7653dd96_7fae_11ec_9a02_0242ac1c0002row8_col4\" class=\"data row8 col4\" >None</td>\n",
              "                        <td id=\"T_7653dd96_7fae_11ec_9a02_0242ac1c0002row8_col5\" class=\"data row8 col5\" >nan</td>\n",
              "            </tr>\n",
              "            <tr>\n",
              "                        <th id=\"T_7653dd96_7fae_11ec_9a02_0242ac1c0002level0_row9\" class=\"row_heading level0 row9\" >9</th>\n",
              "                        <td id=\"T_7653dd96_7fae_11ec_9a02_0242ac1c0002row9_col0\" class=\"data row9 col0\" >Dropout</td>\n",
              "                        <td id=\"T_7653dd96_7fae_11ec_9a02_0242ac1c0002row9_col1\" class=\"data row9 col1\" >[None, 50]</td>\n",
              "                        <td id=\"T_7653dd96_7fae_11ec_9a02_0242ac1c0002row9_col2\" class=\"data row9 col2\" >0</td>\n",
              "                        <td id=\"T_7653dd96_7fae_11ec_9a02_0242ac1c0002row9_col3\" class=\"data row9 col3\" >None</td>\n",
              "                        <td id=\"T_7653dd96_7fae_11ec_9a02_0242ac1c0002row9_col4\" class=\"data row9 col4\" >None</td>\n",
              "                        <td id=\"T_7653dd96_7fae_11ec_9a02_0242ac1c0002row9_col5\" class=\"data row9 col5\" >nan</td>\n",
              "            </tr>\n",
              "            <tr>\n",
              "                        <th id=\"T_7653dd96_7fae_11ec_9a02_0242ac1c0002level0_row10\" class=\"row_heading level0 row10\" >10</th>\n",
              "                        <td id=\"T_7653dd96_7fae_11ec_9a02_0242ac1c0002row10_col0\" class=\"data row10 col0\" >Dense</td>\n",
              "                        <td id=\"T_7653dd96_7fae_11ec_9a02_0242ac1c0002row10_col1\" class=\"data row10 col1\" >[None, 6]</td>\n",
              "                        <td id=\"T_7653dd96_7fae_11ec_9a02_0242ac1c0002row10_col2\" class=\"data row10 col2\" >306</td>\n",
              "                        <td id=\"T_7653dd96_7fae_11ec_9a02_0242ac1c0002row10_col3\" class=\"data row10 col3\" >None</td>\n",
              "                        <td id=\"T_7653dd96_7fae_11ec_9a02_0242ac1c0002row10_col4\" class=\"data row10 col4\" >None</td>\n",
              "                        <td id=\"T_7653dd96_7fae_11ec_9a02_0242ac1c0002row10_col5\" class=\"data row10 col5\" >nan</td>\n",
              "            </tr>\n",
              "    </tbody></table>"
            ],
            "text/plain": [
              "<IPython.core.display.HTML object>"
            ]
          },
          "metadata": {}
        }
      ]
    },
    {
      "cell_type": "markdown",
      "metadata": {
        "id": "Pl67bOO-lz9k"
      },
      "source": [
        "## Optional: Tune model within range of hyperparameters with Keras Tuner\n",
        "\n",
        "*Simple example shown below. Consult [documentation](https://keras.io/guides/keras_tuner/getting_started/) to see full functionality.*"
      ]
    },
    {
      "cell_type": "code",
      "metadata": {
        "id": "MOGXwppct0KI"
      },
      "source": [
        "! pip install keras_tuner"
      ],
      "execution_count": null,
      "outputs": []
    },
    {
      "cell_type": "code",
      "metadata": {
        "id": "O7o_zA3fv-ra"
      },
      "source": [
        "#Separate validation data \n",
        "from sklearn.model_selection import train_test_split\n",
        "x_train_split, x_val, y_train_split, y_val = train_test_split(\n",
        "     X_train, y_train, test_size=0.2, random_state=42)"
      ],
      "execution_count": 19,
      "outputs": []
    },
    {
      "cell_type": "code",
      "metadata": {
        "colab": {
          "base_uri": "https://localhost:8080/"
        },
        "id": "olzZ7aposfwH",
        "outputId": "d6b46d50-7b5f-4203-b8de-1b14e0a69bf4"
      },
      "source": [
        "import keras_tuner as kt\n",
        "import tensorflow as tf \n",
        "from tensorflow.keras.models import Sequential\n",
        "from tensorflow.keras.layers import Dense, Activation, Dropout, Flatten\n",
        "from tensorflow.keras.layers import Conv2D, MaxPooling2D\n",
        "from tensorflow.keras import regularizers\n",
        "\n",
        "#Define model structure & parameter search space with function\n",
        "def build_model(hp):\n",
        "    with tf.device('/device:GPU:0'): # \"/GPU:0\": Short-hand notation for the first GPU of your machine that is visible to TensorFlow.\n",
        "                                 \n",
        "        model = Sequential()\n",
        "        model.add(Conv2D(filters=16, kernel_size=3, padding='same', activation='relu', input_shape=[192, 192, 3]))\n",
        "        model.add(Conv2D(filters=16, kernel_size=3, padding='same', activation='relu', kernel_regularizer=regularizers.l2(l=0.01)))\n",
        "        model.add(MaxPooling2D(pool_size=2)) \n",
        "        model.add(Conv2D(filters=16, kernel_size=3, padding='same', activation='relu', kernel_regularizer=regularizers.l2(l=0.01)))\n",
        "        model.add(Conv2D(filters=hp.Int(\"filters\", min_value=8, max_value=32, step=8), #range 8-32 inclusive, minimum step between tested values is 8\n",
        "                         kernel_size=3, padding='same', activation='relu'))\n",
        "        model.add(MaxPooling2D(pool_size=2))\n",
        "        model.add(Dropout(0.3))\n",
        "        model.add(Flatten())\n",
        "        model.add(Dense(50, activation='relu'))\n",
        "        model.add(Dropout(0.2))\n",
        "        model.add(Dense(6, activation='softmax'))\n",
        "\n",
        "        # Compile model...\n",
        "        model.compile(loss='categorical_crossentropy', optimizer='rmsprop', metrics=['accuracy'])\n",
        "\n",
        "        return model \n",
        "\n",
        "#initialize the tuner (which will search through parameters)\n",
        "tuner = kt.RandomSearch(\n",
        "    hypermodel=build_model, \n",
        "    objective=\"val_accuracy\", # objective to optimize\n",
        "    max_trials=2, #max number of trials to run during search\n",
        "    executions_per_trial=1, #higher number reduces variance of results; guages model performance more accurately \n",
        "    overwrite=True,\n",
        "    directory=\"tuning_model\",\n",
        "    project_name=\"tuning_units\",\n",
        ")\n",
        "\n",
        "tuner.search(x_train_split, y_train_split, epochs=1, validation_data=(x_val, y_val))\n"
      ],
      "execution_count": 20,
      "outputs": [
        {
          "output_type": "stream",
          "name": "stdout",
          "text": [
            "Trial 2 Complete [00h 01m 23s]\n",
            "val_accuracy: 0.15976330637931824\n",
            "\n",
            "Best val_accuracy So Far: 0.20710058510303497\n",
            "Total elapsed time: 00h 02m 29s\n"
          ]
        }
      ]
    },
    {
      "cell_type": "code",
      "metadata": {
        "colab": {
          "base_uri": "https://localhost:8080/"
        },
        "id": "0YaEbvJ2yND1",
        "outputId": "b9420ad6-85d8-4c15-9697-82958bbb08fd"
      },
      "source": [
        "# Build model with best hyperparameters\n",
        "\n",
        "# Get the top 2 hyperparameters.\n",
        "best_hps = tuner.get_best_hyperparameters(5)\n",
        "# Build the model with the best hp.\n",
        "tuned_model = build_model(best_hps[0])\n",
        "# Fit with the entire dataset.\n",
        "tuned_model.fit(x=X_train, y=y_train, epochs=1)\n"
      ],
      "execution_count": 21,
      "outputs": [
        {
          "output_type": "stream",
          "name": "stdout",
          "text": [
            "27/27 [==============================] - 56s 2s/step - loss: 2.9431 - accuracy: 0.1919\n"
          ]
        },
        {
          "output_type": "execute_result",
          "data": {
            "text/plain": [
              "<keras.callbacks.History at 0x7f2e8e1dce10>"
            ]
          },
          "metadata": {},
          "execution_count": 21
        }
      ]
    },
    {
      "cell_type": "code",
      "metadata": {
        "id": "HvLuIvOjHLH2"
      },
      "source": [
        "# Save keras model to local ONNX file\n",
        "from aimodelshare.aimsonnx import model_to_onnx\n",
        "\n",
        "onnx_model = model_to_onnx(tuned_model, framework='keras',\n",
        "                          transfer_learning=False,\n",
        "                          deep_learning=True)\n",
        "\n",
        "with open(\"tuned_model.onnx\", \"wb\") as f:\n",
        "    f.write(onnx_model.SerializeToString())"
      ],
      "execution_count": 22,
      "outputs": []
    },
    {
      "cell_type": "code",
      "metadata": {
        "colab": {
          "base_uri": "https://localhost:8080/"
        },
        "id": "sMidHABfHVN7",
        "outputId": "2ed91551-e04d-4be9-9562-e72e9602c61d"
      },
      "source": [
        "#Submit Model 3: \n",
        "\n",
        "#-- Generate predicted y values (Model 3)\n",
        "prediction_column_index=tuned_model.predict(X_test).argmax(axis=1)\n",
        "\n",
        "# extract correct prediction labels \n",
        "prediction_labels = [y_train.columns[i] for i in prediction_column_index]\n",
        "\n",
        "# Submit Model 3 to Competition Leaderboard\n",
        "mycompetition.submit_model(model_filepath = \"tuned_model.onnx\",\n",
        "                                 preprocessor_filepath=\"preprocessor.zip\",\n",
        "                                 prediction_submission=prediction_labels)"
      ],
      "execution_count": 23,
      "outputs": [
        {
          "output_type": "stream",
          "name": "stdout",
          "text": [
            "Insert search tags to help users find your model (optional): \n",
            "Provide any useful notes about your model (optional): \n",
            "\n",
            "Your model has been submitted as model version 5\n",
            "\n",
            "To submit code used to create this model or to view current leaderboard navigate to Model Playground: \n",
            "\n",
            " https://www.modelshare.org/detail/model:1313\n"
          ]
        }
      ]
    },
    {
      "cell_type": "code",
      "metadata": {
        "colab": {
          "base_uri": "https://localhost:8080/",
          "height": 327
        },
        "id": "hn-Tp-zpJVGT",
        "outputId": "9db0b861-69a7-490d-e56d-e8a0b83e9d09"
      },
      "source": [
        "# Get leaderboard\n",
        "\n",
        "data = mycompetition.get_leaderboard()\n",
        "mycompetition.stylize_leaderboard(data)"
      ],
      "execution_count": 24,
      "outputs": [
        {
          "output_type": "execute_result",
          "data": {
            "text/html": [
              "<style  type=\"text/css\" >\n",
              "#T_1f235b2c_7faf_11ec_9a02_0242ac1c0002row0_col0{\n",
              "            text-align:  center;\n",
              "            width:  10em;\n",
              "             height:  80%;\n",
              "            background:  linear-gradient(90deg,#f5f8d6 29.4%, transparent 29.4%);\n",
              "            color:  #251e1b;\n",
              "            font-size:  12px;\n",
              "        }#T_1f235b2c_7faf_11ec_9a02_0242ac1c0002row0_col1{\n",
              "            text-align:  center;\n",
              "            width:  10em;\n",
              "             height:  80%;\n",
              "            background:  linear-gradient(90deg,#c778c8 22.7%, transparent 22.7%);\n",
              "            color:  #251e1b;\n",
              "            font-size:  12px;\n",
              "        }#T_1f235b2c_7faf_11ec_9a02_0242ac1c0002row0_col2{\n",
              "            text-align:  center;\n",
              "            width:  10em;\n",
              "             height:  80%;\n",
              "            background:  linear-gradient(90deg,#ff4971 20.2%, transparent 20.2%);\n",
              "            color:  #251e1b;\n",
              "            font-size:  12px;\n",
              "        }#T_1f235b2c_7faf_11ec_9a02_0242ac1c0002row0_col3{\n",
              "            text-align:  center;\n",
              "            width:  10em;\n",
              "             height:  80%;\n",
              "            background:  linear-gradient(90deg,#aadbaa 30.5%, transparent 30.5%);\n",
              "            color:  #251e1b;\n",
              "            font-size:  12px;\n",
              "        }#T_1f235b2c_7faf_11ec_9a02_0242ac1c0002row0_col4,#T_1f235b2c_7faf_11ec_9a02_0242ac1c0002row0_col5,#T_1f235b2c_7faf_11ec_9a02_0242ac1c0002row0_col6,#T_1f235b2c_7faf_11ec_9a02_0242ac1c0002row0_col7,#T_1f235b2c_7faf_11ec_9a02_0242ac1c0002row0_col8,#T_1f235b2c_7faf_11ec_9a02_0242ac1c0002row0_col9,#T_1f235b2c_7faf_11ec_9a02_0242ac1c0002row0_col10,#T_1f235b2c_7faf_11ec_9a02_0242ac1c0002row0_col11,#T_1f235b2c_7faf_11ec_9a02_0242ac1c0002row0_col12,#T_1f235b2c_7faf_11ec_9a02_0242ac1c0002row0_col13,#T_1f235b2c_7faf_11ec_9a02_0242ac1c0002row0_col14,#T_1f235b2c_7faf_11ec_9a02_0242ac1c0002row0_col15,#T_1f235b2c_7faf_11ec_9a02_0242ac1c0002row0_col16,#T_1f235b2c_7faf_11ec_9a02_0242ac1c0002row0_col17,#T_1f235b2c_7faf_11ec_9a02_0242ac1c0002row0_col18,#T_1f235b2c_7faf_11ec_9a02_0242ac1c0002row0_col19,#T_1f235b2c_7faf_11ec_9a02_0242ac1c0002row0_col20,#T_1f235b2c_7faf_11ec_9a02_0242ac1c0002row0_col21,#T_1f235b2c_7faf_11ec_9a02_0242ac1c0002row0_col22,#T_1f235b2c_7faf_11ec_9a02_0242ac1c0002row1_col4,#T_1f235b2c_7faf_11ec_9a02_0242ac1c0002row1_col5,#T_1f235b2c_7faf_11ec_9a02_0242ac1c0002row1_col6,#T_1f235b2c_7faf_11ec_9a02_0242ac1c0002row1_col7,#T_1f235b2c_7faf_11ec_9a02_0242ac1c0002row1_col8,#T_1f235b2c_7faf_11ec_9a02_0242ac1c0002row1_col9,#T_1f235b2c_7faf_11ec_9a02_0242ac1c0002row1_col10,#T_1f235b2c_7faf_11ec_9a02_0242ac1c0002row1_col11,#T_1f235b2c_7faf_11ec_9a02_0242ac1c0002row1_col12,#T_1f235b2c_7faf_11ec_9a02_0242ac1c0002row1_col13,#T_1f235b2c_7faf_11ec_9a02_0242ac1c0002row1_col14,#T_1f235b2c_7faf_11ec_9a02_0242ac1c0002row1_col15,#T_1f235b2c_7faf_11ec_9a02_0242ac1c0002row1_col16,#T_1f235b2c_7faf_11ec_9a02_0242ac1c0002row1_col17,#T_1f235b2c_7faf_11ec_9a02_0242ac1c0002row1_col18,#T_1f235b2c_7faf_11ec_9a02_0242ac1c0002row1_col19,#T_1f235b2c_7faf_11ec_9a02_0242ac1c0002row1_col20,#T_1f235b2c_7faf_11ec_9a02_0242ac1c0002row1_col21,#T_1f235b2c_7faf_11ec_9a02_0242ac1c0002row1_col22,#T_1f235b2c_7faf_11ec_9a02_0242ac1c0002row2_col4,#T_1f235b2c_7faf_11ec_9a02_0242ac1c0002row2_col5,#T_1f235b2c_7faf_11ec_9a02_0242ac1c0002row2_col6,#T_1f235b2c_7faf_11ec_9a02_0242ac1c0002row2_col7,#T_1f235b2c_7faf_11ec_9a02_0242ac1c0002row2_col8,#T_1f235b2c_7faf_11ec_9a02_0242ac1c0002row2_col9,#T_1f235b2c_7faf_11ec_9a02_0242ac1c0002row2_col10,#T_1f235b2c_7faf_11ec_9a02_0242ac1c0002row2_col11,#T_1f235b2c_7faf_11ec_9a02_0242ac1c0002row2_col12,#T_1f235b2c_7faf_11ec_9a02_0242ac1c0002row2_col13,#T_1f235b2c_7faf_11ec_9a02_0242ac1c0002row2_col14,#T_1f235b2c_7faf_11ec_9a02_0242ac1c0002row2_col15,#T_1f235b2c_7faf_11ec_9a02_0242ac1c0002row2_col16,#T_1f235b2c_7faf_11ec_9a02_0242ac1c0002row2_col17,#T_1f235b2c_7faf_11ec_9a02_0242ac1c0002row2_col18,#T_1f235b2c_7faf_11ec_9a02_0242ac1c0002row2_col19,#T_1f235b2c_7faf_11ec_9a02_0242ac1c0002row2_col20,#T_1f235b2c_7faf_11ec_9a02_0242ac1c0002row2_col21,#T_1f235b2c_7faf_11ec_9a02_0242ac1c0002row2_col22,#T_1f235b2c_7faf_11ec_9a02_0242ac1c0002row3_col4,#T_1f235b2c_7faf_11ec_9a02_0242ac1c0002row3_col5,#T_1f235b2c_7faf_11ec_9a02_0242ac1c0002row3_col6,#T_1f235b2c_7faf_11ec_9a02_0242ac1c0002row3_col7,#T_1f235b2c_7faf_11ec_9a02_0242ac1c0002row3_col8,#T_1f235b2c_7faf_11ec_9a02_0242ac1c0002row3_col9,#T_1f235b2c_7faf_11ec_9a02_0242ac1c0002row3_col10,#T_1f235b2c_7faf_11ec_9a02_0242ac1c0002row3_col11,#T_1f235b2c_7faf_11ec_9a02_0242ac1c0002row3_col12,#T_1f235b2c_7faf_11ec_9a02_0242ac1c0002row3_col13,#T_1f235b2c_7faf_11ec_9a02_0242ac1c0002row3_col14,#T_1f235b2c_7faf_11ec_9a02_0242ac1c0002row3_col15,#T_1f235b2c_7faf_11ec_9a02_0242ac1c0002row3_col16,#T_1f235b2c_7faf_11ec_9a02_0242ac1c0002row3_col17,#T_1f235b2c_7faf_11ec_9a02_0242ac1c0002row3_col18,#T_1f235b2c_7faf_11ec_9a02_0242ac1c0002row3_col19,#T_1f235b2c_7faf_11ec_9a02_0242ac1c0002row3_col20,#T_1f235b2c_7faf_11ec_9a02_0242ac1c0002row3_col21,#T_1f235b2c_7faf_11ec_9a02_0242ac1c0002row3_col22,#T_1f235b2c_7faf_11ec_9a02_0242ac1c0002row4_col4,#T_1f235b2c_7faf_11ec_9a02_0242ac1c0002row4_col5,#T_1f235b2c_7faf_11ec_9a02_0242ac1c0002row4_col6,#T_1f235b2c_7faf_11ec_9a02_0242ac1c0002row4_col7,#T_1f235b2c_7faf_11ec_9a02_0242ac1c0002row4_col8,#T_1f235b2c_7faf_11ec_9a02_0242ac1c0002row4_col9,#T_1f235b2c_7faf_11ec_9a02_0242ac1c0002row4_col10,#T_1f235b2c_7faf_11ec_9a02_0242ac1c0002row4_col11,#T_1f235b2c_7faf_11ec_9a02_0242ac1c0002row4_col12,#T_1f235b2c_7faf_11ec_9a02_0242ac1c0002row4_col13,#T_1f235b2c_7faf_11ec_9a02_0242ac1c0002row4_col14,#T_1f235b2c_7faf_11ec_9a02_0242ac1c0002row4_col15,#T_1f235b2c_7faf_11ec_9a02_0242ac1c0002row4_col16,#T_1f235b2c_7faf_11ec_9a02_0242ac1c0002row4_col17,#T_1f235b2c_7faf_11ec_9a02_0242ac1c0002row4_col18,#T_1f235b2c_7faf_11ec_9a02_0242ac1c0002row4_col19,#T_1f235b2c_7faf_11ec_9a02_0242ac1c0002row4_col20,#T_1f235b2c_7faf_11ec_9a02_0242ac1c0002row4_col21,#T_1f235b2c_7faf_11ec_9a02_0242ac1c0002row4_col22{\n",
              "            text-align:  center;\n",
              "        }#T_1f235b2c_7faf_11ec_9a02_0242ac1c0002row1_col0{\n",
              "            text-align:  center;\n",
              "            width:  10em;\n",
              "             height:  80%;\n",
              "            background:  linear-gradient(90deg,#f5f8d6 25.6%, transparent 25.6%);\n",
              "            color:  #251e1b;\n",
              "            font-size:  12px;\n",
              "        }#T_1f235b2c_7faf_11ec_9a02_0242ac1c0002row1_col1,#T_1f235b2c_7faf_11ec_9a02_0242ac1c0002row2_col1{\n",
              "            text-align:  center;\n",
              "            width:  10em;\n",
              "             height:  80%;\n",
              "            background:  linear-gradient(90deg,#c778c8 21.3%, transparent 21.3%);\n",
              "            color:  #251e1b;\n",
              "            font-size:  12px;\n",
              "        }#T_1f235b2c_7faf_11ec_9a02_0242ac1c0002row1_col2{\n",
              "            text-align:  center;\n",
              "            width:  10em;\n",
              "             height:  80%;\n",
              "            background:  linear-gradient(90deg,#ff4971 26.6%, transparent 26.6%);\n",
              "            color:  #251e1b;\n",
              "            font-size:  12px;\n",
              "        }#T_1f235b2c_7faf_11ec_9a02_0242ac1c0002row1_col3{\n",
              "            text-align:  center;\n",
              "            width:  10em;\n",
              "             height:  80%;\n",
              "            background:  linear-gradient(90deg,#aadbaa 24.5%, transparent 24.5%);\n",
              "            color:  #251e1b;\n",
              "            font-size:  12px;\n",
              "        }#T_1f235b2c_7faf_11ec_9a02_0242ac1c0002row2_col0{\n",
              "            text-align:  center;\n",
              "            width:  10em;\n",
              "             height:  80%;\n",
              "            background:  linear-gradient(90deg,#f5f8d6 23.7%, transparent 23.7%);\n",
              "            color:  #251e1b;\n",
              "            font-size:  12px;\n",
              "        }#T_1f235b2c_7faf_11ec_9a02_0242ac1c0002row2_col2{\n",
              "            text-align:  center;\n",
              "            width:  10em;\n",
              "             height:  80%;\n",
              "            background:  linear-gradient(90deg,#ff4971 19.7%, transparent 19.7%);\n",
              "            color:  #251e1b;\n",
              "            font-size:  12px;\n",
              "        }#T_1f235b2c_7faf_11ec_9a02_0242ac1c0002row2_col3{\n",
              "            text-align:  center;\n",
              "            width:  10em;\n",
              "             height:  80%;\n",
              "            background:  linear-gradient(90deg,#aadbaa 24.6%, transparent 24.6%);\n",
              "            color:  #251e1b;\n",
              "            font-size:  12px;\n",
              "        }#T_1f235b2c_7faf_11ec_9a02_0242ac1c0002row3_col0{\n",
              "            text-align:  center;\n",
              "            width:  10em;\n",
              "             height:  80%;\n",
              "            background:  linear-gradient(90deg,#f5f8d6 19.0%, transparent 19.0%);\n",
              "            color:  #251e1b;\n",
              "            font-size:  12px;\n",
              "        }#T_1f235b2c_7faf_11ec_9a02_0242ac1c0002row3_col1{\n",
              "            text-align:  center;\n",
              "            width:  10em;\n",
              "             height:  80%;\n",
              "            background:  linear-gradient(90deg,#c778c8 12.5%, transparent 12.5%);\n",
              "            color:  #251e1b;\n",
              "            font-size:  12px;\n",
              "        }#T_1f235b2c_7faf_11ec_9a02_0242ac1c0002row3_col2{\n",
              "            text-align:  center;\n",
              "            width:  10em;\n",
              "             height:  80%;\n",
              "            background:  linear-gradient(90deg,#ff4971 47.0%, transparent 47.0%);\n",
              "            color:  #251e1b;\n",
              "            font-size:  12px;\n",
              "        }#T_1f235b2c_7faf_11ec_9a02_0242ac1c0002row3_col3{\n",
              "            text-align:  center;\n",
              "            width:  10em;\n",
              "             height:  80%;\n",
              "            background:  linear-gradient(90deg,#aadbaa 18.5%, transparent 18.5%);\n",
              "            color:  #251e1b;\n",
              "            font-size:  12px;\n",
              "        }#T_1f235b2c_7faf_11ec_9a02_0242ac1c0002row4_col0{\n",
              "            text-align:  center;\n",
              "            width:  10em;\n",
              "             height:  80%;\n",
              "            background:  linear-gradient(90deg,#f5f8d6 18.0%, transparent 18.0%);\n",
              "            color:  #251e1b;\n",
              "            font-size:  12px;\n",
              "        }#T_1f235b2c_7faf_11ec_9a02_0242ac1c0002row4_col1{\n",
              "            text-align:  center;\n",
              "            width:  10em;\n",
              "             height:  80%;\n",
              "            background:  linear-gradient(90deg,#c778c8 9.5%, transparent 9.5%);\n",
              "            color:  #251e1b;\n",
              "            font-size:  12px;\n",
              "        }#T_1f235b2c_7faf_11ec_9a02_0242ac1c0002row4_col2{\n",
              "            text-align:  center;\n",
              "            width:  10em;\n",
              "             height:  80%;\n",
              "            background:  linear-gradient(90deg,#ff4971 17.0%, transparent 17.0%);\n",
              "            color:  #251e1b;\n",
              "            font-size:  12px;\n",
              "        }#T_1f235b2c_7faf_11ec_9a02_0242ac1c0002row4_col3{\n",
              "            text-align:  center;\n",
              "            width:  10em;\n",
              "             height:  80%;\n",
              "            background:  linear-gradient(90deg,#aadbaa 16.5%, transparent 16.5%);\n",
              "            color:  #251e1b;\n",
              "            font-size:  12px;\n",
              "        }</style><table id=\"T_1f235b2c_7faf_11ec_9a02_0242ac1c0002\" class=\"dataframe\"><thead>    <tr>        <th class=\"blank level0\" ></th>        <th class=\"col_heading level0 col0\" >accuracy</th>        <th class=\"col_heading level0 col1\" >f1_score</th>        <th class=\"col_heading level0 col2\" >precision</th>        <th class=\"col_heading level0 col3\" >recall</th>        <th class=\"col_heading level0 col4\" >ml_framework</th>        <th class=\"col_heading level0 col5\" >transfer_learning</th>        <th class=\"col_heading level0 col6\" >deep_learning</th>        <th class=\"col_heading level0 col7\" >model_type</th>        <th class=\"col_heading level0 col8\" >depth</th>        <th class=\"col_heading level0 col9\" >num_params</th>        <th class=\"col_heading level0 col10\" >conv2d_layers</th>        <th class=\"col_heading level0 col11\" >maxpooling2d_layers</th>        <th class=\"col_heading level0 col12\" >dropout_layers</th>        <th class=\"col_heading level0 col13\" >flatten_layers</th>        <th class=\"col_heading level0 col14\" >dense_layers</th>        <th class=\"col_heading level0 col15\" >relu_act</th>        <th class=\"col_heading level0 col16\" >softmax_act</th>        <th class=\"col_heading level0 col17\" >loss</th>        <th class=\"col_heading level0 col18\" >optimizer</th>        <th class=\"col_heading level0 col19\" >model_config</th>        <th class=\"col_heading level0 col20\" >memory_size</th>        <th class=\"col_heading level0 col21\" >username</th>        <th class=\"col_heading level0 col22\" >version</th>    </tr></thead><tbody>\n",
              "                <tr>\n",
              "                        <th id=\"T_1f235b2c_7faf_11ec_9a02_0242ac1c0002level0_row0\" class=\"row_heading level0 row0\" >0</th>\n",
              "                        <td id=\"T_1f235b2c_7faf_11ec_9a02_0242ac1c0002row0_col0\" class=\"data row0 col0\" >29.38%</td>\n",
              "                        <td id=\"T_1f235b2c_7faf_11ec_9a02_0242ac1c0002row0_col1\" class=\"data row0 col1\" >22.72%</td>\n",
              "                        <td id=\"T_1f235b2c_7faf_11ec_9a02_0242ac1c0002row0_col2\" class=\"data row0 col2\" >20.17%</td>\n",
              "                        <td id=\"T_1f235b2c_7faf_11ec_9a02_0242ac1c0002row0_col3\" class=\"data row0 col3\" >30.47%</td>\n",
              "                        <td id=\"T_1f235b2c_7faf_11ec_9a02_0242ac1c0002row0_col4\" class=\"data row0 col4\" >keras</td>\n",
              "                        <td id=\"T_1f235b2c_7faf_11ec_9a02_0242ac1c0002row0_col5\" class=\"data row0 col5\" >False</td>\n",
              "                        <td id=\"T_1f235b2c_7faf_11ec_9a02_0242ac1c0002row0_col6\" class=\"data row0 col6\" >True</td>\n",
              "                        <td id=\"T_1f235b2c_7faf_11ec_9a02_0242ac1c0002row0_col7\" class=\"data row0 col7\" >Sequential</td>\n",
              "                        <td id=\"T_1f235b2c_7faf_11ec_9a02_0242ac1c0002row0_col8\" class=\"data row0 col8\" >5</td>\n",
              "                        <td id=\"T_1f235b2c_7faf_11ec_9a02_0242ac1c0002row0_col9\" class=\"data row0 col9\" >14164358</td>\n",
              "                        <td id=\"T_1f235b2c_7faf_11ec_9a02_0242ac1c0002row0_col10\" class=\"data row0 col10\" >nan</td>\n",
              "                        <td id=\"T_1f235b2c_7faf_11ec_9a02_0242ac1c0002row0_col11\" class=\"data row0 col11\" >nan</td>\n",
              "                        <td id=\"T_1f235b2c_7faf_11ec_9a02_0242ac1c0002row0_col12\" class=\"data row0 col12\" >nan</td>\n",
              "                        <td id=\"T_1f235b2c_7faf_11ec_9a02_0242ac1c0002row0_col13\" class=\"data row0 col13\" >1</td>\n",
              "                        <td id=\"T_1f235b2c_7faf_11ec_9a02_0242ac1c0002row0_col14\" class=\"data row0 col14\" >4</td>\n",
              "                        <td id=\"T_1f235b2c_7faf_11ec_9a02_0242ac1c0002row0_col15\" class=\"data row0 col15\" >3</td>\n",
              "                        <td id=\"T_1f235b2c_7faf_11ec_9a02_0242ac1c0002row0_col16\" class=\"data row0 col16\" >1</td>\n",
              "                        <td id=\"T_1f235b2c_7faf_11ec_9a02_0242ac1c0002row0_col17\" class=\"data row0 col17\" >function</td>\n",
              "                        <td id=\"T_1f235b2c_7faf_11ec_9a02_0242ac1c0002row0_col18\" class=\"data row0 col18\" >RMSprop</td>\n",
              "                        <td id=\"T_1f235b2c_7faf_11ec_9a02_0242ac1c0002row0_col19\" class=\"data row0 col19\" >{'name': 'sequential_4', 'laye...</td>\n",
              "                        <td id=\"T_1f235b2c_7faf_11ec_9a02_0242ac1c0002row0_col20\" class=\"data row0 col20\" >206888</td>\n",
              "                        <td id=\"T_1f235b2c_7faf_11ec_9a02_0242ac1c0002row0_col21\" class=\"data row0 col21\" >AIModelShare</td>\n",
              "                        <td id=\"T_1f235b2c_7faf_11ec_9a02_0242ac1c0002row0_col22\" class=\"data row0 col22\" >2</td>\n",
              "            </tr>\n",
              "            <tr>\n",
              "                        <th id=\"T_1f235b2c_7faf_11ec_9a02_0242ac1c0002level0_row1\" class=\"row_heading level0 row1\" >1</th>\n",
              "                        <td id=\"T_1f235b2c_7faf_11ec_9a02_0242ac1c0002row1_col0\" class=\"data row1 col0\" >25.59%</td>\n",
              "                        <td id=\"T_1f235b2c_7faf_11ec_9a02_0242ac1c0002row1_col1\" class=\"data row1 col1\" >21.25%</td>\n",
              "                        <td id=\"T_1f235b2c_7faf_11ec_9a02_0242ac1c0002row1_col2\" class=\"data row1 col2\" >26.64%</td>\n",
              "                        <td id=\"T_1f235b2c_7faf_11ec_9a02_0242ac1c0002row1_col3\" class=\"data row1 col3\" >24.48%</td>\n",
              "                        <td id=\"T_1f235b2c_7faf_11ec_9a02_0242ac1c0002row1_col4\" class=\"data row1 col4\" >keras</td>\n",
              "                        <td id=\"T_1f235b2c_7faf_11ec_9a02_0242ac1c0002row1_col5\" class=\"data row1 col5\" >False</td>\n",
              "                        <td id=\"T_1f235b2c_7faf_11ec_9a02_0242ac1c0002row1_col6\" class=\"data row1 col6\" >True</td>\n",
              "                        <td id=\"T_1f235b2c_7faf_11ec_9a02_0242ac1c0002row1_col7\" class=\"data row1 col7\" >Sequential</td>\n",
              "                        <td id=\"T_1f235b2c_7faf_11ec_9a02_0242ac1c0002row1_col8\" class=\"data row1 col8\" >11</td>\n",
              "                        <td id=\"T_1f235b2c_7faf_11ec_9a02_0242ac1c0002row1_col9\" class=\"data row1 col9\" >1851204</td>\n",
              "                        <td id=\"T_1f235b2c_7faf_11ec_9a02_0242ac1c0002row1_col10\" class=\"data row1 col10\" >nan</td>\n",
              "                        <td id=\"T_1f235b2c_7faf_11ec_9a02_0242ac1c0002row1_col11\" class=\"data row1 col11\" >2.000000</td>\n",
              "                        <td id=\"T_1f235b2c_7faf_11ec_9a02_0242ac1c0002row1_col12\" class=\"data row1 col12\" >2.000000</td>\n",
              "                        <td id=\"T_1f235b2c_7faf_11ec_9a02_0242ac1c0002row1_col13\" class=\"data row1 col13\" >1</td>\n",
              "                        <td id=\"T_1f235b2c_7faf_11ec_9a02_0242ac1c0002row1_col14\" class=\"data row1 col14\" >2</td>\n",
              "                        <td id=\"T_1f235b2c_7faf_11ec_9a02_0242ac1c0002row1_col15\" class=\"data row1 col15\" >5</td>\n",
              "                        <td id=\"T_1f235b2c_7faf_11ec_9a02_0242ac1c0002row1_col16\" class=\"data row1 col16\" >1</td>\n",
              "                        <td id=\"T_1f235b2c_7faf_11ec_9a02_0242ac1c0002row1_col17\" class=\"data row1 col17\" >function</td>\n",
              "                        <td id=\"T_1f235b2c_7faf_11ec_9a02_0242ac1c0002row1_col18\" class=\"data row1 col18\" >RMSprop</td>\n",
              "                        <td id=\"T_1f235b2c_7faf_11ec_9a02_0242ac1c0002row1_col19\" class=\"data row1 col19\" >{'name': 'sequential_1', 'laye...</td>\n",
              "                        <td id=\"T_1f235b2c_7faf_11ec_9a02_0242ac1c0002row1_col20\" class=\"data row1 col20\" >302920</td>\n",
              "                        <td id=\"T_1f235b2c_7faf_11ec_9a02_0242ac1c0002row1_col21\" class=\"data row1 col21\" >AIModelShare</td>\n",
              "                        <td id=\"T_1f235b2c_7faf_11ec_9a02_0242ac1c0002row1_col22\" class=\"data row1 col22\" >1</td>\n",
              "            </tr>\n",
              "            <tr>\n",
              "                        <th id=\"T_1f235b2c_7faf_11ec_9a02_0242ac1c0002level0_row2\" class=\"row_heading level0 row2\" >2</th>\n",
              "                        <td id=\"T_1f235b2c_7faf_11ec_9a02_0242ac1c0002row2_col0\" class=\"data row2 col0\" >23.70%</td>\n",
              "                        <td id=\"T_1f235b2c_7faf_11ec_9a02_0242ac1c0002row2_col1\" class=\"data row2 col1\" >21.28%</td>\n",
              "                        <td id=\"T_1f235b2c_7faf_11ec_9a02_0242ac1c0002row2_col2\" class=\"data row2 col2\" >19.68%</td>\n",
              "                        <td id=\"T_1f235b2c_7faf_11ec_9a02_0242ac1c0002row2_col3\" class=\"data row2 col3\" >24.57%</td>\n",
              "                        <td id=\"T_1f235b2c_7faf_11ec_9a02_0242ac1c0002row2_col4\" class=\"data row2 col4\" >keras</td>\n",
              "                        <td id=\"T_1f235b2c_7faf_11ec_9a02_0242ac1c0002row2_col5\" class=\"data row2 col5\" >False</td>\n",
              "                        <td id=\"T_1f235b2c_7faf_11ec_9a02_0242ac1c0002row2_col6\" class=\"data row2 col6\" >True</td>\n",
              "                        <td id=\"T_1f235b2c_7faf_11ec_9a02_0242ac1c0002row2_col7\" class=\"data row2 col7\" >Sequential</td>\n",
              "                        <td id=\"T_1f235b2c_7faf_11ec_9a02_0242ac1c0002row2_col8\" class=\"data row2 col8\" >5</td>\n",
              "                        <td id=\"T_1f235b2c_7faf_11ec_9a02_0242ac1c0002row2_col9\" class=\"data row2 col9\" >14168710</td>\n",
              "                        <td id=\"T_1f235b2c_7faf_11ec_9a02_0242ac1c0002row2_col10\" class=\"data row2 col10\" >nan</td>\n",
              "                        <td id=\"T_1f235b2c_7faf_11ec_9a02_0242ac1c0002row2_col11\" class=\"data row2 col11\" >nan</td>\n",
              "                        <td id=\"T_1f235b2c_7faf_11ec_9a02_0242ac1c0002row2_col12\" class=\"data row2 col12\" >nan</td>\n",
              "                        <td id=\"T_1f235b2c_7faf_11ec_9a02_0242ac1c0002row2_col13\" class=\"data row2 col13\" >1</td>\n",
              "                        <td id=\"T_1f235b2c_7faf_11ec_9a02_0242ac1c0002row2_col14\" class=\"data row2 col14\" >4</td>\n",
              "                        <td id=\"T_1f235b2c_7faf_11ec_9a02_0242ac1c0002row2_col15\" class=\"data row2 col15\" >3</td>\n",
              "                        <td id=\"T_1f235b2c_7faf_11ec_9a02_0242ac1c0002row2_col16\" class=\"data row2 col16\" >1</td>\n",
              "                        <td id=\"T_1f235b2c_7faf_11ec_9a02_0242ac1c0002row2_col17\" class=\"data row2 col17\" >str</td>\n",
              "                        <td id=\"T_1f235b2c_7faf_11ec_9a02_0242ac1c0002row2_col18\" class=\"data row2 col18\" >RMSprop</td>\n",
              "                        <td id=\"T_1f235b2c_7faf_11ec_9a02_0242ac1c0002row2_col19\" class=\"data row2 col19\" >{'name': 'sequential_1', 'laye...</td>\n",
              "                        <td id=\"T_1f235b2c_7faf_11ec_9a02_0242ac1c0002row2_col20\" class=\"data row2 col20\" >2339576</td>\n",
              "                        <td id=\"T_1f235b2c_7faf_11ec_9a02_0242ac1c0002row2_col21\" class=\"data row2 col21\" >AIModelShare</td>\n",
              "                        <td id=\"T_1f235b2c_7faf_11ec_9a02_0242ac1c0002row2_col22\" class=\"data row2 col22\" >4</td>\n",
              "            </tr>\n",
              "            <tr>\n",
              "                        <th id=\"T_1f235b2c_7faf_11ec_9a02_0242ac1c0002level0_row3\" class=\"row_heading level0 row3\" >3</th>\n",
              "                        <td id=\"T_1f235b2c_7faf_11ec_9a02_0242ac1c0002row3_col0\" class=\"data row3 col0\" >18.96%</td>\n",
              "                        <td id=\"T_1f235b2c_7faf_11ec_9a02_0242ac1c0002row3_col1\" class=\"data row3 col1\" >12.51%</td>\n",
              "                        <td id=\"T_1f235b2c_7faf_11ec_9a02_0242ac1c0002row3_col2\" class=\"data row3 col2\" >47.03%</td>\n",
              "                        <td id=\"T_1f235b2c_7faf_11ec_9a02_0242ac1c0002row3_col3\" class=\"data row3 col3\" >18.50%</td>\n",
              "                        <td id=\"T_1f235b2c_7faf_11ec_9a02_0242ac1c0002row3_col4\" class=\"data row3 col4\" >keras</td>\n",
              "                        <td id=\"T_1f235b2c_7faf_11ec_9a02_0242ac1c0002row3_col5\" class=\"data row3 col5\" >False</td>\n",
              "                        <td id=\"T_1f235b2c_7faf_11ec_9a02_0242ac1c0002row3_col6\" class=\"data row3 col6\" >True</td>\n",
              "                        <td id=\"T_1f235b2c_7faf_11ec_9a02_0242ac1c0002row3_col7\" class=\"data row3 col7\" >Sequential</td>\n",
              "                        <td id=\"T_1f235b2c_7faf_11ec_9a02_0242ac1c0002row3_col8\" class=\"data row3 col8\" >11</td>\n",
              "                        <td id=\"T_1f235b2c_7faf_11ec_9a02_0242ac1c0002row3_col9\" class=\"data row3 col9\" >1850964</td>\n",
              "                        <td id=\"T_1f235b2c_7faf_11ec_9a02_0242ac1c0002row3_col10\" class=\"data row3 col10\" >4.000000</td>\n",
              "                        <td id=\"T_1f235b2c_7faf_11ec_9a02_0242ac1c0002row3_col11\" class=\"data row3 col11\" >2.000000</td>\n",
              "                        <td id=\"T_1f235b2c_7faf_11ec_9a02_0242ac1c0002row3_col12\" class=\"data row3 col12\" >2.000000</td>\n",
              "                        <td id=\"T_1f235b2c_7faf_11ec_9a02_0242ac1c0002row3_col13\" class=\"data row3 col13\" >1</td>\n",
              "                        <td id=\"T_1f235b2c_7faf_11ec_9a02_0242ac1c0002row3_col14\" class=\"data row3 col14\" >2</td>\n",
              "                        <td id=\"T_1f235b2c_7faf_11ec_9a02_0242ac1c0002row3_col15\" class=\"data row3 col15\" >5</td>\n",
              "                        <td id=\"T_1f235b2c_7faf_11ec_9a02_0242ac1c0002row3_col16\" class=\"data row3 col16\" >1</td>\n",
              "                        <td id=\"T_1f235b2c_7faf_11ec_9a02_0242ac1c0002row3_col17\" class=\"data row3 col17\" >str</td>\n",
              "                        <td id=\"T_1f235b2c_7faf_11ec_9a02_0242ac1c0002row3_col18\" class=\"data row3 col18\" >RMSprop</td>\n",
              "                        <td id=\"T_1f235b2c_7faf_11ec_9a02_0242ac1c0002row3_col19\" class=\"data row3 col19\" >{'name': 'sequential', 'layers...</td>\n",
              "                        <td id=\"T_1f235b2c_7faf_11ec_9a02_0242ac1c0002row3_col20\" class=\"data row3 col20\" >2730456</td>\n",
              "                        <td id=\"T_1f235b2c_7faf_11ec_9a02_0242ac1c0002row3_col21\" class=\"data row3 col21\" >AIModelShare</td>\n",
              "                        <td id=\"T_1f235b2c_7faf_11ec_9a02_0242ac1c0002row3_col22\" class=\"data row3 col22\" >3</td>\n",
              "            </tr>\n",
              "            <tr>\n",
              "                        <th id=\"T_1f235b2c_7faf_11ec_9a02_0242ac1c0002level0_row4\" class=\"row_heading level0 row4\" >4</th>\n",
              "                        <td id=\"T_1f235b2c_7faf_11ec_9a02_0242ac1c0002row4_col0\" class=\"data row4 col0\" >18.01%</td>\n",
              "                        <td id=\"T_1f235b2c_7faf_11ec_9a02_0242ac1c0002row4_col1\" class=\"data row4 col1\" >9.47%</td>\n",
              "                        <td id=\"T_1f235b2c_7faf_11ec_9a02_0242ac1c0002row4_col2\" class=\"data row4 col2\" >16.96%</td>\n",
              "                        <td id=\"T_1f235b2c_7faf_11ec_9a02_0242ac1c0002row4_col3\" class=\"data row4 col3\" >16.50%</td>\n",
              "                        <td id=\"T_1f235b2c_7faf_11ec_9a02_0242ac1c0002row4_col4\" class=\"data row4 col4\" >keras</td>\n",
              "                        <td id=\"T_1f235b2c_7faf_11ec_9a02_0242ac1c0002row4_col5\" class=\"data row4 col5\" >False</td>\n",
              "                        <td id=\"T_1f235b2c_7faf_11ec_9a02_0242ac1c0002row4_col6\" class=\"data row4 col6\" >True</td>\n",
              "                        <td id=\"T_1f235b2c_7faf_11ec_9a02_0242ac1c0002row4_col7\" class=\"data row4 col7\" >Sequential</td>\n",
              "                        <td id=\"T_1f235b2c_7faf_11ec_9a02_0242ac1c0002row4_col8\" class=\"data row4 col8\" >11</td>\n",
              "                        <td id=\"T_1f235b2c_7faf_11ec_9a02_0242ac1c0002row4_col9\" class=\"data row4 col9\" >1850964</td>\n",
              "                        <td id=\"T_1f235b2c_7faf_11ec_9a02_0242ac1c0002row4_col10\" class=\"data row4 col10\" >4.000000</td>\n",
              "                        <td id=\"T_1f235b2c_7faf_11ec_9a02_0242ac1c0002row4_col11\" class=\"data row4 col11\" >2.000000</td>\n",
              "                        <td id=\"T_1f235b2c_7faf_11ec_9a02_0242ac1c0002row4_col12\" class=\"data row4 col12\" >2.000000</td>\n",
              "                        <td id=\"T_1f235b2c_7faf_11ec_9a02_0242ac1c0002row4_col13\" class=\"data row4 col13\" >1</td>\n",
              "                        <td id=\"T_1f235b2c_7faf_11ec_9a02_0242ac1c0002row4_col14\" class=\"data row4 col14\" >2</td>\n",
              "                        <td id=\"T_1f235b2c_7faf_11ec_9a02_0242ac1c0002row4_col15\" class=\"data row4 col15\" >5</td>\n",
              "                        <td id=\"T_1f235b2c_7faf_11ec_9a02_0242ac1c0002row4_col16\" class=\"data row4 col16\" >1</td>\n",
              "                        <td id=\"T_1f235b2c_7faf_11ec_9a02_0242ac1c0002row4_col17\" class=\"data row4 col17\" >str</td>\n",
              "                        <td id=\"T_1f235b2c_7faf_11ec_9a02_0242ac1c0002row4_col18\" class=\"data row4 col18\" >RMSprop</td>\n",
              "                        <td id=\"T_1f235b2c_7faf_11ec_9a02_0242ac1c0002row4_col19\" class=\"data row4 col19\" >{'name': 'sequential_1', 'laye...</td>\n",
              "                        <td id=\"T_1f235b2c_7faf_11ec_9a02_0242ac1c0002row4_col20\" class=\"data row4 col20\" >2400352</td>\n",
              "                        <td id=\"T_1f235b2c_7faf_11ec_9a02_0242ac1c0002row4_col21\" class=\"data row4 col21\" >AIModelShare</td>\n",
              "                        <td id=\"T_1f235b2c_7faf_11ec_9a02_0242ac1c0002row4_col22\" class=\"data row4 col22\" >5</td>\n",
              "            </tr>\n",
              "    </tbody></table>"
            ],
            "text/plain": [
              "<pandas.io.formats.style.Styler at 0x7f2e05806350>"
            ]
          },
          "metadata": {},
          "execution_count": 24
        }
      ]
    },
    {
      "cell_type": "code",
      "metadata": {
        "id": "MKvPKyb7hT0h",
        "colab": {
          "base_uri": "https://localhost:8080/",
          "height": 251
        },
        "outputId": "a0edf0cf-cf0c-48f8-8051-abcd92f76654"
      },
      "source": [
        "# Compare two or more models\n",
        "data=mycompetition.compare_models([4, 5], verbose=1)\n",
        "mycompetition.stylize_compare(data)"
      ],
      "execution_count": 25,
      "outputs": [
        {
          "output_type": "display_data",
          "data": {
            "text/html": [
              "<style  type=\"text/css\" >\n",
              "    #T_2126b054_7faf_11ec_9a02_0242ac1c0002 caption {\n",
              "          color: black;\n",
              "          font-size: 18px;\n",
              "    }#T_2126b054_7faf_11ec_9a02_0242ac1c0002row0_col0,#T_2126b054_7faf_11ec_9a02_0242ac1c0002row1_col0,#T_2126b054_7faf_11ec_9a02_0242ac1c0002row2_col0,#T_2126b054_7faf_11ec_9a02_0242ac1c0002row4_col0,#T_2126b054_7faf_11ec_9a02_0242ac1c0002row8_col3,#T_2126b054_7faf_11ec_9a02_0242ac1c0002row10_col3{\n",
              "            background:  #fff2ae;\n",
              "            color:  black;\n",
              "            color:  black;\n",
              "        }#T_2126b054_7faf_11ec_9a02_0242ac1c0002row0_col1,#T_2126b054_7faf_11ec_9a02_0242ac1c0002row0_col2,#T_2126b054_7faf_11ec_9a02_0242ac1c0002row0_col4,#T_2126b054_7faf_11ec_9a02_0242ac1c0002row0_col5,#T_2126b054_7faf_11ec_9a02_0242ac1c0002row1_col1,#T_2126b054_7faf_11ec_9a02_0242ac1c0002row1_col2,#T_2126b054_7faf_11ec_9a02_0242ac1c0002row1_col4,#T_2126b054_7faf_11ec_9a02_0242ac1c0002row1_col5,#T_2126b054_7faf_11ec_9a02_0242ac1c0002row2_col1,#T_2126b054_7faf_11ec_9a02_0242ac1c0002row2_col2,#T_2126b054_7faf_11ec_9a02_0242ac1c0002row2_col4,#T_2126b054_7faf_11ec_9a02_0242ac1c0002row2_col5,#T_2126b054_7faf_11ec_9a02_0242ac1c0002row3_col1,#T_2126b054_7faf_11ec_9a02_0242ac1c0002row3_col2,#T_2126b054_7faf_11ec_9a02_0242ac1c0002row3_col4,#T_2126b054_7faf_11ec_9a02_0242ac1c0002row3_col5,#T_2126b054_7faf_11ec_9a02_0242ac1c0002row4_col1,#T_2126b054_7faf_11ec_9a02_0242ac1c0002row4_col2,#T_2126b054_7faf_11ec_9a02_0242ac1c0002row4_col4,#T_2126b054_7faf_11ec_9a02_0242ac1c0002row4_col5,#T_2126b054_7faf_11ec_9a02_0242ac1c0002row5_col0,#T_2126b054_7faf_11ec_9a02_0242ac1c0002row5_col1,#T_2126b054_7faf_11ec_9a02_0242ac1c0002row5_col2,#T_2126b054_7faf_11ec_9a02_0242ac1c0002row5_col4,#T_2126b054_7faf_11ec_9a02_0242ac1c0002row5_col5,#T_2126b054_7faf_11ec_9a02_0242ac1c0002row6_col0,#T_2126b054_7faf_11ec_9a02_0242ac1c0002row6_col1,#T_2126b054_7faf_11ec_9a02_0242ac1c0002row6_col2,#T_2126b054_7faf_11ec_9a02_0242ac1c0002row6_col4,#T_2126b054_7faf_11ec_9a02_0242ac1c0002row6_col5,#T_2126b054_7faf_11ec_9a02_0242ac1c0002row7_col0,#T_2126b054_7faf_11ec_9a02_0242ac1c0002row7_col1,#T_2126b054_7faf_11ec_9a02_0242ac1c0002row7_col2,#T_2126b054_7faf_11ec_9a02_0242ac1c0002row7_col4,#T_2126b054_7faf_11ec_9a02_0242ac1c0002row7_col5,#T_2126b054_7faf_11ec_9a02_0242ac1c0002row8_col0,#T_2126b054_7faf_11ec_9a02_0242ac1c0002row8_col1,#T_2126b054_7faf_11ec_9a02_0242ac1c0002row8_col2,#T_2126b054_7faf_11ec_9a02_0242ac1c0002row8_col4,#T_2126b054_7faf_11ec_9a02_0242ac1c0002row8_col5,#T_2126b054_7faf_11ec_9a02_0242ac1c0002row9_col0,#T_2126b054_7faf_11ec_9a02_0242ac1c0002row9_col1,#T_2126b054_7faf_11ec_9a02_0242ac1c0002row9_col2,#T_2126b054_7faf_11ec_9a02_0242ac1c0002row9_col4,#T_2126b054_7faf_11ec_9a02_0242ac1c0002row9_col5,#T_2126b054_7faf_11ec_9a02_0242ac1c0002row10_col0,#T_2126b054_7faf_11ec_9a02_0242ac1c0002row10_col1,#T_2126b054_7faf_11ec_9a02_0242ac1c0002row10_col2,#T_2126b054_7faf_11ec_9a02_0242ac1c0002row10_col4,#T_2126b054_7faf_11ec_9a02_0242ac1c0002row10_col5{\n",
              "            background:  white;\n",
              "            color:  black;\n",
              "            color:  black;\n",
              "        }#T_2126b054_7faf_11ec_9a02_0242ac1c0002row0_col3,#T_2126b054_7faf_11ec_9a02_0242ac1c0002row1_col3,#T_2126b054_7faf_11ec_9a02_0242ac1c0002row3_col3,#T_2126b054_7faf_11ec_9a02_0242ac1c0002row4_col3{\n",
              "            background:  #fdcdac;\n",
              "            color:  black;\n",
              "            color:  black;\n",
              "        }#T_2126b054_7faf_11ec_9a02_0242ac1c0002row2_col3,#T_2126b054_7faf_11ec_9a02_0242ac1c0002row5_col3{\n",
              "            background:  #f1e2cc;\n",
              "            color:  black;\n",
              "            color:  black;\n",
              "        }#T_2126b054_7faf_11ec_9a02_0242ac1c0002row3_col0,#T_2126b054_7faf_11ec_9a02_0242ac1c0002row7_col3{\n",
              "            background:  #e6f5c9;\n",
              "            color:  black;\n",
              "            color:  black;\n",
              "        }#T_2126b054_7faf_11ec_9a02_0242ac1c0002row6_col3,#T_2126b054_7faf_11ec_9a02_0242ac1c0002row9_col3{\n",
              "            background:  #cbd5e8;\n",
              "            color:  black;\n",
              "            color:  black;\n",
              "        }</style><table id=\"T_2126b054_7faf_11ec_9a02_0242ac1c0002\" ><caption>Model type: Neural Network</caption><thead>    <tr>        <th class=\"blank level0\" ></th>        <th class=\"col_heading level0 col0\" >Model_4_Layer</th>        <th class=\"col_heading level0 col1\" >Model_4_Shape</th>        <th class=\"col_heading level0 col2\" >Model_4_Params</th>        <th class=\"col_heading level0 col3\" >Model_5_Layer</th>        <th class=\"col_heading level0 col4\" >Model_5_Shape</th>        <th class=\"col_heading level0 col5\" >Model_5_Params</th>    </tr></thead><tbody>\n",
              "                <tr>\n",
              "                        <th id=\"T_2126b054_7faf_11ec_9a02_0242ac1c0002level0_row0\" class=\"row_heading level0 row0\" >0</th>\n",
              "                        <td id=\"T_2126b054_7faf_11ec_9a02_0242ac1c0002row0_col0\" class=\"data row0 col0\" >Dense</td>\n",
              "                        <td id=\"T_2126b054_7faf_11ec_9a02_0242ac1c0002row0_col1\" class=\"data row0 col1\" >[None, 192, 192, 128]</td>\n",
              "                        <td id=\"T_2126b054_7faf_11ec_9a02_0242ac1c0002row0_col2\" class=\"data row0 col2\" >512.000000</td>\n",
              "                        <td id=\"T_2126b054_7faf_11ec_9a02_0242ac1c0002row0_col3\" class=\"data row0 col3\" >Conv2D</td>\n",
              "                        <td id=\"T_2126b054_7faf_11ec_9a02_0242ac1c0002row0_col4\" class=\"data row0 col4\" >[None, 192, 192, 16]</td>\n",
              "                        <td id=\"T_2126b054_7faf_11ec_9a02_0242ac1c0002row0_col5\" class=\"data row0 col5\" >448</td>\n",
              "            </tr>\n",
              "            <tr>\n",
              "                        <th id=\"T_2126b054_7faf_11ec_9a02_0242ac1c0002level0_row1\" class=\"row_heading level0 row1\" >1</th>\n",
              "                        <td id=\"T_2126b054_7faf_11ec_9a02_0242ac1c0002row1_col0\" class=\"data row1 col0\" >Dense</td>\n",
              "                        <td id=\"T_2126b054_7faf_11ec_9a02_0242ac1c0002row1_col1\" class=\"data row1 col1\" >[None, 192, 192, 64]</td>\n",
              "                        <td id=\"T_2126b054_7faf_11ec_9a02_0242ac1c0002row1_col2\" class=\"data row1 col2\" >8256.000000</td>\n",
              "                        <td id=\"T_2126b054_7faf_11ec_9a02_0242ac1c0002row1_col3\" class=\"data row1 col3\" >Conv2D</td>\n",
              "                        <td id=\"T_2126b054_7faf_11ec_9a02_0242ac1c0002row1_col4\" class=\"data row1 col4\" >[None, 192, 192, 16]</td>\n",
              "                        <td id=\"T_2126b054_7faf_11ec_9a02_0242ac1c0002row1_col5\" class=\"data row1 col5\" >2320</td>\n",
              "            </tr>\n",
              "            <tr>\n",
              "                        <th id=\"T_2126b054_7faf_11ec_9a02_0242ac1c0002level0_row2\" class=\"row_heading level0 row2\" >2</th>\n",
              "                        <td id=\"T_2126b054_7faf_11ec_9a02_0242ac1c0002row2_col0\" class=\"data row2 col0\" >Dense</td>\n",
              "                        <td id=\"T_2126b054_7faf_11ec_9a02_0242ac1c0002row2_col1\" class=\"data row2 col1\" >[None, 192, 192, 64]</td>\n",
              "                        <td id=\"T_2126b054_7faf_11ec_9a02_0242ac1c0002row2_col2\" class=\"data row2 col2\" >4160.000000</td>\n",
              "                        <td id=\"T_2126b054_7faf_11ec_9a02_0242ac1c0002row2_col3\" class=\"data row2 col3\" >MaxPooling2D</td>\n",
              "                        <td id=\"T_2126b054_7faf_11ec_9a02_0242ac1c0002row2_col4\" class=\"data row2 col4\" >[None, 96, 96, 16]</td>\n",
              "                        <td id=\"T_2126b054_7faf_11ec_9a02_0242ac1c0002row2_col5\" class=\"data row2 col5\" >0</td>\n",
              "            </tr>\n",
              "            <tr>\n",
              "                        <th id=\"T_2126b054_7faf_11ec_9a02_0242ac1c0002level0_row3\" class=\"row_heading level0 row3\" >3</th>\n",
              "                        <td id=\"T_2126b054_7faf_11ec_9a02_0242ac1c0002row3_col0\" class=\"data row3 col0\" >Flatten</td>\n",
              "                        <td id=\"T_2126b054_7faf_11ec_9a02_0242ac1c0002row3_col1\" class=\"data row3 col1\" >[None, 2359296]</td>\n",
              "                        <td id=\"T_2126b054_7faf_11ec_9a02_0242ac1c0002row3_col2\" class=\"data row3 col2\" >0.000000</td>\n",
              "                        <td id=\"T_2126b054_7faf_11ec_9a02_0242ac1c0002row3_col3\" class=\"data row3 col3\" >Conv2D</td>\n",
              "                        <td id=\"T_2126b054_7faf_11ec_9a02_0242ac1c0002row3_col4\" class=\"data row3 col4\" >[None, 96, 96, 16]</td>\n",
              "                        <td id=\"T_2126b054_7faf_11ec_9a02_0242ac1c0002row3_col5\" class=\"data row3 col5\" >2320</td>\n",
              "            </tr>\n",
              "            <tr>\n",
              "                        <th id=\"T_2126b054_7faf_11ec_9a02_0242ac1c0002level0_row4\" class=\"row_heading level0 row4\" >4</th>\n",
              "                        <td id=\"T_2126b054_7faf_11ec_9a02_0242ac1c0002row4_col0\" class=\"data row4 col0\" >Dense</td>\n",
              "                        <td id=\"T_2126b054_7faf_11ec_9a02_0242ac1c0002row4_col1\" class=\"data row4 col1\" >[None, 6]</td>\n",
              "                        <td id=\"T_2126b054_7faf_11ec_9a02_0242ac1c0002row4_col2\" class=\"data row4 col2\" >14155782.000000</td>\n",
              "                        <td id=\"T_2126b054_7faf_11ec_9a02_0242ac1c0002row4_col3\" class=\"data row4 col3\" >Conv2D</td>\n",
              "                        <td id=\"T_2126b054_7faf_11ec_9a02_0242ac1c0002row4_col4\" class=\"data row4 col4\" >[None, 96, 96, 16]</td>\n",
              "                        <td id=\"T_2126b054_7faf_11ec_9a02_0242ac1c0002row4_col5\" class=\"data row4 col5\" >2320</td>\n",
              "            </tr>\n",
              "            <tr>\n",
              "                        <th id=\"T_2126b054_7faf_11ec_9a02_0242ac1c0002level0_row5\" class=\"row_heading level0 row5\" >5</th>\n",
              "                        <td id=\"T_2126b054_7faf_11ec_9a02_0242ac1c0002row5_col0\" class=\"data row5 col0\" >None</td>\n",
              "                        <td id=\"T_2126b054_7faf_11ec_9a02_0242ac1c0002row5_col1\" class=\"data row5 col1\" >None</td>\n",
              "                        <td id=\"T_2126b054_7faf_11ec_9a02_0242ac1c0002row5_col2\" class=\"data row5 col2\" >nan</td>\n",
              "                        <td id=\"T_2126b054_7faf_11ec_9a02_0242ac1c0002row5_col3\" class=\"data row5 col3\" >MaxPooling2D</td>\n",
              "                        <td id=\"T_2126b054_7faf_11ec_9a02_0242ac1c0002row5_col4\" class=\"data row5 col4\" >[None, 48, 48, 16]</td>\n",
              "                        <td id=\"T_2126b054_7faf_11ec_9a02_0242ac1c0002row5_col5\" class=\"data row5 col5\" >0</td>\n",
              "            </tr>\n",
              "            <tr>\n",
              "                        <th id=\"T_2126b054_7faf_11ec_9a02_0242ac1c0002level0_row6\" class=\"row_heading level0 row6\" >6</th>\n",
              "                        <td id=\"T_2126b054_7faf_11ec_9a02_0242ac1c0002row6_col0\" class=\"data row6 col0\" >None</td>\n",
              "                        <td id=\"T_2126b054_7faf_11ec_9a02_0242ac1c0002row6_col1\" class=\"data row6 col1\" >None</td>\n",
              "                        <td id=\"T_2126b054_7faf_11ec_9a02_0242ac1c0002row6_col2\" class=\"data row6 col2\" >nan</td>\n",
              "                        <td id=\"T_2126b054_7faf_11ec_9a02_0242ac1c0002row6_col3\" class=\"data row6 col3\" >Dropout</td>\n",
              "                        <td id=\"T_2126b054_7faf_11ec_9a02_0242ac1c0002row6_col4\" class=\"data row6 col4\" >[None, 48, 48, 16]</td>\n",
              "                        <td id=\"T_2126b054_7faf_11ec_9a02_0242ac1c0002row6_col5\" class=\"data row6 col5\" >0</td>\n",
              "            </tr>\n",
              "            <tr>\n",
              "                        <th id=\"T_2126b054_7faf_11ec_9a02_0242ac1c0002level0_row7\" class=\"row_heading level0 row7\" >7</th>\n",
              "                        <td id=\"T_2126b054_7faf_11ec_9a02_0242ac1c0002row7_col0\" class=\"data row7 col0\" >None</td>\n",
              "                        <td id=\"T_2126b054_7faf_11ec_9a02_0242ac1c0002row7_col1\" class=\"data row7 col1\" >None</td>\n",
              "                        <td id=\"T_2126b054_7faf_11ec_9a02_0242ac1c0002row7_col2\" class=\"data row7 col2\" >nan</td>\n",
              "                        <td id=\"T_2126b054_7faf_11ec_9a02_0242ac1c0002row7_col3\" class=\"data row7 col3\" >Flatten</td>\n",
              "                        <td id=\"T_2126b054_7faf_11ec_9a02_0242ac1c0002row7_col4\" class=\"data row7 col4\" >[None, 36864]</td>\n",
              "                        <td id=\"T_2126b054_7faf_11ec_9a02_0242ac1c0002row7_col5\" class=\"data row7 col5\" >0</td>\n",
              "            </tr>\n",
              "            <tr>\n",
              "                        <th id=\"T_2126b054_7faf_11ec_9a02_0242ac1c0002level0_row8\" class=\"row_heading level0 row8\" >8</th>\n",
              "                        <td id=\"T_2126b054_7faf_11ec_9a02_0242ac1c0002row8_col0\" class=\"data row8 col0\" >None</td>\n",
              "                        <td id=\"T_2126b054_7faf_11ec_9a02_0242ac1c0002row8_col1\" class=\"data row8 col1\" >None</td>\n",
              "                        <td id=\"T_2126b054_7faf_11ec_9a02_0242ac1c0002row8_col2\" class=\"data row8 col2\" >nan</td>\n",
              "                        <td id=\"T_2126b054_7faf_11ec_9a02_0242ac1c0002row8_col3\" class=\"data row8 col3\" >Dense</td>\n",
              "                        <td id=\"T_2126b054_7faf_11ec_9a02_0242ac1c0002row8_col4\" class=\"data row8 col4\" >[None, 50]</td>\n",
              "                        <td id=\"T_2126b054_7faf_11ec_9a02_0242ac1c0002row8_col5\" class=\"data row8 col5\" >1843250</td>\n",
              "            </tr>\n",
              "            <tr>\n",
              "                        <th id=\"T_2126b054_7faf_11ec_9a02_0242ac1c0002level0_row9\" class=\"row_heading level0 row9\" >9</th>\n",
              "                        <td id=\"T_2126b054_7faf_11ec_9a02_0242ac1c0002row9_col0\" class=\"data row9 col0\" >None</td>\n",
              "                        <td id=\"T_2126b054_7faf_11ec_9a02_0242ac1c0002row9_col1\" class=\"data row9 col1\" >None</td>\n",
              "                        <td id=\"T_2126b054_7faf_11ec_9a02_0242ac1c0002row9_col2\" class=\"data row9 col2\" >nan</td>\n",
              "                        <td id=\"T_2126b054_7faf_11ec_9a02_0242ac1c0002row9_col3\" class=\"data row9 col3\" >Dropout</td>\n",
              "                        <td id=\"T_2126b054_7faf_11ec_9a02_0242ac1c0002row9_col4\" class=\"data row9 col4\" >[None, 50]</td>\n",
              "                        <td id=\"T_2126b054_7faf_11ec_9a02_0242ac1c0002row9_col5\" class=\"data row9 col5\" >0</td>\n",
              "            </tr>\n",
              "            <tr>\n",
              "                        <th id=\"T_2126b054_7faf_11ec_9a02_0242ac1c0002level0_row10\" class=\"row_heading level0 row10\" >10</th>\n",
              "                        <td id=\"T_2126b054_7faf_11ec_9a02_0242ac1c0002row10_col0\" class=\"data row10 col0\" >None</td>\n",
              "                        <td id=\"T_2126b054_7faf_11ec_9a02_0242ac1c0002row10_col1\" class=\"data row10 col1\" >None</td>\n",
              "                        <td id=\"T_2126b054_7faf_11ec_9a02_0242ac1c0002row10_col2\" class=\"data row10 col2\" >nan</td>\n",
              "                        <td id=\"T_2126b054_7faf_11ec_9a02_0242ac1c0002row10_col3\" class=\"data row10 col3\" >Dense</td>\n",
              "                        <td id=\"T_2126b054_7faf_11ec_9a02_0242ac1c0002row10_col4\" class=\"data row10 col4\" >[None, 6]</td>\n",
              "                        <td id=\"T_2126b054_7faf_11ec_9a02_0242ac1c0002row10_col5\" class=\"data row10 col5\" >306</td>\n",
              "            </tr>\n",
              "    </tbody></table>"
            ],
            "text/plain": [
              "<IPython.core.display.HTML object>"
            ]
          },
          "metadata": {}
        }
      ]
    }
  ]
}