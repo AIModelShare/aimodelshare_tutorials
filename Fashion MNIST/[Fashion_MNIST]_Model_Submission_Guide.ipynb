{
  "nbformat": 4,
  "nbformat_minor": 0,
  "metadata": {
    "colab": {
      "name": "[Fashion - MNIST] Model Submission Guide.ipynb",
      "provenance": [],
      "collapsed_sections": []
    },
    "kernelspec": {
      "name": "python3",
      "display_name": "Python 3"
    },
    "language_info": {
      "name": "python"
    }
  },
  "cells": [
    {
      "cell_type": "markdown",
      "source": [
        "<p align=\"center\"><img width=\"50%\" src=\"https://aimodelsharecontent.s3.amazonaws.com/aimodshare_banner.jpg\" /></p>\n",
        "\n",
        "\n",
        "---\n",
        "**Source:**<br>\n",
        "*Dataset adapted from: Fashion-MNIST: a Novel Image Dataset for Benchmarking Machine Learning Algorithms. Han Xiao, Kashif Rasul, Roland Vollgraf. arXiv:1708.07747*\n"
      ],
      "metadata": {
        "id": "g8Hr8qrnroxM"
      }
    },
    {
      "cell_type": "markdown",
      "metadata": {
        "id": "JXxGTgJz152A"
      },
      "source": [
        "# Fashion - MNIST Image Classification Competition Model Submission Guide\n",
        "\n",
        "---\n",
        "\n",
        "Let's share our models to a centralized leaderboard, so that we can collaborate and learn from the model experimentation process...\n",
        "\n",
        "**Instructions:**\n",
        "1.   Get data in and set up X_train / X_test / y_train\n",
        "2.   Preprocess data / Write and Save Preprocessor function\n",
        "3. Fit model on preprocessed data and save preprocessor function and model \n",
        "4. Generate predictions from X_test data and submit model to competition\n",
        "5. Repeat submission process to improve place on leaderboard\n",
        "\n"
      ]
    },
    {
      "cell_type": "markdown",
      "metadata": {
        "id": "5gSrVJwp3E9H"
      },
      "source": [
        "## 1. Get data in and set up X_train, X_test, y_train objects"
      ]
    },
    {
      "cell_type": "code",
      "metadata": {
        "id": "PLTIaMB3ChSW"
      },
      "source": [
        "#install aimodelshare library\n",
        "! pip install aimodelshare --upgrade"
      ],
      "execution_count": null,
      "outputs": []
    },
    {
      "cell_type": "code",
      "metadata": {
        "colab": {
          "base_uri": "https://localhost:8080/"
        },
        "id": "d3PiJXBhC5y-",
        "outputId": "fd576c39-d406-4aa1-fc9a-6e548186551d"
      },
      "source": [
        "# Get competition data\n",
        "from aimodelshare import download_data\n",
        "download_data('public.ecr.aws/y2e2a1d6/fashion_mnist_competition_data-repository:latest') "
      ],
      "execution_count": 2,
      "outputs": [
        {
          "output_type": "stream",
          "name": "stdout",
          "text": [
            "Downloading [================================================>]\n",
            "\n",
            "Data downloaded successfully.\n"
          ]
        }
      ]
    },
    {
      "cell_type": "markdown",
      "metadata": {
        "id": "gEzPoXPj3V7u"
      },
      "source": [
        "##2.   Preprocess data / Write and Save Preprocessor function\n"
      ]
    },
    {
      "cell_type": "code",
      "source": [
        "# Here is a pre-designed preprocessor, but you could also build your own to prepare the data differently\n",
        "\n",
        "def preprocessor(image_filepath, shape=(28, 28)):\n",
        "        \"\"\"\n",
        "        This function reads in images, resizes them to a fixed shape and\n",
        "        min/max transforms them before converting feature values to float32 numeric values\n",
        "        required by onnx files.\n",
        "        \n",
        "        params:\n",
        "            image_filepath\n",
        "                full filepath of a particular image\n",
        "                      \n",
        "        returns:\n",
        "            X\n",
        "                numpy array of preprocessed image data\n",
        "        \"\"\"\n",
        "           \n",
        "        import cv2\n",
        "        import numpy as np\n",
        "\n",
        "        \"Resize a color image and min/max transform the image\"\n",
        "        img = cv2.imread(image_filepath) # Read in image from filepath.\n",
        "        img = cv2.cvtColor(img, cv2.COLOR_BGR2RGB) # cv2 reads in images in order of blue green and red, we reverse the order for ML.\n",
        "        img = cv2.resize(img, shape) # Change height and width of image.\n",
        "        img = img / 255.0 # Min-max transform.\n",
        "\n",
        "        # Resize all the images...\n",
        "        X = np.array(img)\n",
        "        X = np.expand_dims(X, axis=0) # Expand dims to add \"1\" to object shape [1, h, w, channels] for keras model.\n",
        "        X = np.array(X, dtype=np.float32) # Final shape for onnx runtime.\n",
        "        return X"
      ],
      "metadata": {
        "id": "zJMxj9wgvtLk"
      },
      "execution_count": 3,
      "outputs": []
    },
    {
      "cell_type": "code",
      "source": [
        "#  Create training data objects\n",
        "\n",
        "# Preprocess X_train image data to generate predictions from models \n",
        "import numpy as np\n",
        "\n",
        "file_names = [('fashion_mnist_competition_data/training_data/train_' + str(i) + '.jpeg') for i in range(60000)]\n",
        "preprocessed_image_data = [preprocessor(x) for x in file_names]\n",
        "\n",
        "#Create single X_test array from preprocessed images\n",
        "X_train = np.vstack(preprocessed_image_data) \n",
        "\n",
        "# Load y_train labels \n",
        "import pickle\n",
        "with open(\"fashion_mnist_competition_data/y_train_labels.pkl\", \"rb\") as fp:  \n",
        "    y_train_labels = pickle.load(fp)\n",
        "\n",
        "# One-hot encode y_train labels (y_train.columns used to generate prediction labels below)\n",
        "import pandas as pd\n",
        "y_train = pd.get_dummies(y_train_labels)"
      ],
      "metadata": {
        "id": "6s3jyXB_9ozG"
      },
      "execution_count": 4,
      "outputs": []
    },
    {
      "cell_type": "code",
      "metadata": {
        "id": "jT0qFCZFNzHq"
      },
      "source": [
        "# Create test data objects\n",
        "\n",
        "# Preprocess X_test image data to generate predictions from models \n",
        "import numpy as np\n",
        "\n",
        "file_names = [('fashion_mnist_competition_data/test_data/test_' + str(i) + '.jpeg') for i in range(10000)]\n",
        "preprocessed_image_data = [preprocessor(x) for x in file_names]\n",
        "\n",
        "#Create single X_test array from preprocessed images\n",
        "X_test = np.vstack(preprocessed_image_data) "
      ],
      "execution_count": 5,
      "outputs": []
    },
    {
      "cell_type": "code",
      "source": [
        "# Check shape \n",
        "\n",
        "print(X_train.shape)\n",
        "print(X_test.shape)\n",
        "print(y_train.shape)"
      ],
      "metadata": {
        "id": "O9Y8_QIHwqw9",
        "colab": {
          "base_uri": "https://localhost:8080/"
        },
        "outputId": "4950fa09-6e9e-4599-dbb4-26e0fe918eae"
      },
      "execution_count": 6,
      "outputs": [
        {
          "output_type": "stream",
          "name": "stdout",
          "text": [
            "(60000, 28, 28, 3)\n",
            "(10000, 28, 28, 3)\n",
            "(60000, 10)\n"
          ]
        }
      ]
    },
    {
      "cell_type": "markdown",
      "metadata": {
        "id": "X52kECL43b-O"
      },
      "source": [
        "##3. Fit model on preprocessed data and save preprocessor function and model \n"
      ]
    },
    {
      "cell_type": "code",
      "metadata": {
        "colab": {
          "base_uri": "https://localhost:8080/"
        },
        "id": "NCbBf8j9ClYl",
        "outputId": "370773b9-66bd-4e21-b744-819bb8c89ed5"
      },
      "source": [
        "# Let's build a convnet model...\n",
        "import tensorflow as tf \n",
        "from tensorflow.keras.models import Sequential\n",
        "from tensorflow.keras.layers import Dense, Activation, Dropout, Flatten\n",
        "from tensorflow.keras.layers import Conv2D, MaxPooling2D\n",
        "from tensorflow.keras import regularizers\n",
        "\n",
        "with tf.device('/device:GPU:0'): # \"/GPU:0\": Short-hand notation for the first GPU of your machine that is visible to TensorFlow.\n",
        "                                 \n",
        "        cnn1 = Sequential()\n",
        "        cnn1.add(Conv2D(filters=16, kernel_size=3, padding='same', activation='relu', input_shape=[28, 28, 3]))\n",
        "        cnn1.add(Conv2D(filters=16, kernel_size=3, padding='same', activation='relu', kernel_regularizer=regularizers.l2(l=0.01)))\n",
        "        cnn1.add(MaxPooling2D(pool_size=2)) \n",
        "        cnn1.add(Conv2D(filters=16, kernel_size=3, padding='same', activation='relu', kernel_regularizer=regularizers.l2(l=0.01)))\n",
        "        cnn1.add(Conv2D(filters=16, kernel_size=3, padding='same', activation='relu'))\n",
        "        cnn1.add(MaxPooling2D(pool_size=2))\n",
        "        cnn1.add(Dropout(0.3))\n",
        "        cnn1.add(Flatten())\n",
        "        cnn1.add(Dense(50, activation='relu'))\n",
        "        cnn1.add(Dropout(0.2))\n",
        "        cnn1.add(Dense(10, activation='softmax'))\n",
        "\n",
        "        # Compile model...\n",
        "        cnn1.compile(loss='categorical_crossentropy', optimizer='rmsprop', metrics=['accuracy'])\n",
        "\n",
        "        # Fitting the NN to the Training set...\n",
        "        hist = cnn1.fit(X_train, y_train, epochs=1, verbose=1, validation_split=0.2)"
      ],
      "execution_count": 7,
      "outputs": [
        {
          "output_type": "stream",
          "name": "stdout",
          "text": [
            "1500/1500 [==============================] - 102s 66ms/step - loss: 0.6677 - accuracy: 0.7915 - val_loss: 0.4382 - val_accuracy: 0.8594\n"
          ]
        }
      ]
    },
    {
      "cell_type": "markdown",
      "metadata": {
        "id": "zmJAnmO-5AcU"
      },
      "source": [
        "#### Save preprocessor function to local \"preprocessor.zip\" file"
      ]
    },
    {
      "cell_type": "code",
      "metadata": {
        "colab": {
          "base_uri": "https://localhost:8080/"
        },
        "id": "4VGacc0LDaMA",
        "outputId": "22a45bff-8678-4df2-ebdb-331ce8330e0c"
      },
      "source": [
        "import aimodelshare as ai\n",
        "ai.export_preprocessor(preprocessor,\"\") "
      ],
      "execution_count": 8,
      "outputs": [
        {
          "output_type": "stream",
          "name": "stdout",
          "text": [
            "Your preprocessor is now saved to 'preprocessor.zip'\n"
          ]
        }
      ]
    },
    {
      "cell_type": "markdown",
      "metadata": {
        "id": "oOWBa8Cv5LdL"
      },
      "source": [
        "#### Save model to local \".onnx\" file"
      ]
    },
    {
      "cell_type": "code",
      "metadata": {
        "id": "pEhvnRiQDlY5"
      },
      "source": [
        "# Save keras model to local ONNX file\n",
        "from aimodelshare.aimsonnx import model_to_onnx\n",
        "\n",
        "onnx_model = model_to_onnx(cnn1, framework='keras',\n",
        "                          transfer_learning=False,\n",
        "                          deep_learning=True)\n",
        "\n",
        "with open(\"model.onnx\", \"wb\") as f:\n",
        "    f.write(onnx_model.SerializeToString())"
      ],
      "execution_count": 9,
      "outputs": []
    },
    {
      "cell_type": "markdown",
      "metadata": {
        "id": "gHWkAzvX3m8O"
      },
      "source": [
        "## 4. Generate predictions from X_test data and submit model to competition\n"
      ]
    },
    {
      "cell_type": "code",
      "metadata": {
        "colab": {
          "base_uri": "https://localhost:8080/"
        },
        "id": "RtgkM02MDpkO",
        "outputId": "fc87ace7-d9d6-4026-c18e-4b4c713c3cca"
      },
      "source": [
        "#Set credentials using modelshare.org username/password\n",
        "\n",
        "from aimodelshare.aws import set_credentials\n",
        "    \n",
        "apiurl=\"https://vaw5a558u9.execute-api.us-east-1.amazonaws.com/prod/m\" #This is the unique rest api that powers this Fashion-MNIST Classification Model Playground\n",
        "\n",
        "set_credentials(apiurl=apiurl)"
      ],
      "execution_count": 10,
      "outputs": [
        {
          "output_type": "stream",
          "name": "stdout",
          "text": [
            "AI Modelshare Username:··········\n",
            "AI Modelshare Password:··········\n",
            "AI Model Share login credentials set successfully.\n"
          ]
        }
      ]
    },
    {
      "cell_type": "code",
      "metadata": {
        "id": "fKNGSww8EGgi"
      },
      "source": [
        "#Instantiate Competition\n",
        "\n",
        "mycompetition= ai.Competition(apiurl)"
      ],
      "execution_count": 11,
      "outputs": []
    },
    {
      "cell_type": "code",
      "metadata": {
        "id": "_Ql4wksyEUnP",
        "colab": {
          "base_uri": "https://localhost:8080/"
        },
        "outputId": "19da31a0-ac45-4e9b-f570-6280a74b5f08"
      },
      "source": [
        "#Submit Model 1: \n",
        "\n",
        "#-- Generate predicted y values (Model 1)\n",
        "#Note: Keras predict returns the predicted column index location for classification models\n",
        "prediction_column_index=cnn1.predict(X_test).argmax(axis=1)\n",
        "\n",
        "# extract correct prediction labels \n",
        "prediction_labels = [y_train.columns[i] for i in prediction_column_index]\n",
        "\n",
        "# Submit Model 1 to Competition Leaderboard\n",
        "mycompetition.submit_model(model_filepath = \"model.onnx\",\n",
        "                                 preprocessor_filepath=\"preprocessor.zip\",\n",
        "                                 prediction_submission=prediction_labels)"
      ],
      "execution_count": 12,
      "outputs": [
        {
          "output_type": "stream",
          "name": "stdout",
          "text": [
            "Insert search tags to help users find your model (optional): \n",
            "Provide any useful notes about your model (optional): \n",
            "\n",
            "Your model has been submitted as model version 3\n",
            "\n",
            "To submit code used to create this model or to view current leaderboard navigate to Model Playground: \n",
            "\n",
            " https://www.modelshare.org/detail/model:1662\n"
          ]
        }
      ]
    },
    {
      "cell_type": "code",
      "metadata": {
        "colab": {
          "base_uri": "https://localhost:8080/",
          "height": 138
        },
        "id": "GN1zvAmNEq17",
        "outputId": "f3b12ded-9785-4cb4-ca16-56b5dccba357"
      },
      "source": [
        "# Get leaderboard to explore current best model architectures\n",
        "\n",
        "# Get raw data in pandas data frame\n",
        "data = mycompetition.get_leaderboard()\n",
        "\n",
        "# Stylize leaderboard data\n",
        "mycompetition.stylize_leaderboard(data)"
      ],
      "execution_count": 13,
      "outputs": [
        {
          "output_type": "execute_result",
          "data": {
            "text/plain": [
              "<pandas.io.formats.style.Styler at 0x7f5d850d1610>"
            ],
            "text/html": [
              "<style type=\"text/css\">\n",
              "#T_fc1d2_row0_col0 {\n",
              "  text-align: center;\n",
              "  width: 10em;\n",
              "  height: 80%;\n",
              "  background: linear-gradient(90deg,#f5f8d6 84.8%, transparent 84.8%);\n",
              "  color: #251e1b;\n",
              "  font-size: 12px;\n",
              "}\n",
              "#T_fc1d2_row0_col1 {\n",
              "  text-align: center;\n",
              "  width: 10em;\n",
              "  height: 80%;\n",
              "  background: linear-gradient(90deg,#c778c8 84.7%, transparent 84.7%);\n",
              "  color: #251e1b;\n",
              "  font-size: 12px;\n",
              "}\n",
              "#T_fc1d2_row0_col2 {\n",
              "  text-align: center;\n",
              "  width: 10em;\n",
              "  height: 80%;\n",
              "  background: linear-gradient(90deg,#ff4971 84.9%, transparent 84.9%);\n",
              "  color: #251e1b;\n",
              "  font-size: 12px;\n",
              "}\n",
              "#T_fc1d2_row0_col3 {\n",
              "  text-align: center;\n",
              "  width: 10em;\n",
              "  height: 80%;\n",
              "  background: linear-gradient(90deg,#aadbaa 84.8%, transparent 84.8%);\n",
              "  color: #251e1b;\n",
              "  font-size: 12px;\n",
              "}\n",
              "#T_fc1d2_row0_col4, #T_fc1d2_row0_col5, #T_fc1d2_row0_col6, #T_fc1d2_row0_col7, #T_fc1d2_row0_col8, #T_fc1d2_row0_col9, #T_fc1d2_row0_col10, #T_fc1d2_row0_col11, #T_fc1d2_row0_col12, #T_fc1d2_row0_col13, #T_fc1d2_row0_col14, #T_fc1d2_row0_col15, #T_fc1d2_row0_col16, #T_fc1d2_row0_col17, #T_fc1d2_row0_col18, #T_fc1d2_row0_col19, #T_fc1d2_row0_col20, #T_fc1d2_row0_col21, #T_fc1d2_row1_col4, #T_fc1d2_row1_col5, #T_fc1d2_row1_col6, #T_fc1d2_row1_col7, #T_fc1d2_row1_col8, #T_fc1d2_row1_col9, #T_fc1d2_row1_col10, #T_fc1d2_row1_col11, #T_fc1d2_row1_col12, #T_fc1d2_row1_col13, #T_fc1d2_row1_col14, #T_fc1d2_row1_col15, #T_fc1d2_row1_col16, #T_fc1d2_row1_col17, #T_fc1d2_row1_col18, #T_fc1d2_row1_col19, #T_fc1d2_row1_col20, #T_fc1d2_row1_col21, #T_fc1d2_row2_col4, #T_fc1d2_row2_col5, #T_fc1d2_row2_col6, #T_fc1d2_row2_col7, #T_fc1d2_row2_col8, #T_fc1d2_row2_col9, #T_fc1d2_row2_col10, #T_fc1d2_row2_col11, #T_fc1d2_row2_col12, #T_fc1d2_row2_col13, #T_fc1d2_row2_col14, #T_fc1d2_row2_col15, #T_fc1d2_row2_col16, #T_fc1d2_row2_col17, #T_fc1d2_row2_col18, #T_fc1d2_row2_col19, #T_fc1d2_row2_col20, #T_fc1d2_row2_col21 {\n",
              "  text-align: center;\n",
              "}\n",
              "#T_fc1d2_row1_col0 {\n",
              "  text-align: center;\n",
              "  width: 10em;\n",
              "  height: 80%;\n",
              "  background: linear-gradient(90deg,#f5f8d6 84.6%, transparent 84.6%);\n",
              "  color: #251e1b;\n",
              "  font-size: 12px;\n",
              "}\n",
              "#T_fc1d2_row1_col1 {\n",
              "  text-align: center;\n",
              "  width: 10em;\n",
              "  height: 80%;\n",
              "  background: linear-gradient(90deg,#c778c8 84.5%, transparent 84.5%);\n",
              "  color: #251e1b;\n",
              "  font-size: 12px;\n",
              "}\n",
              "#T_fc1d2_row1_col2 {\n",
              "  text-align: center;\n",
              "  width: 10em;\n",
              "  height: 80%;\n",
              "  background: linear-gradient(90deg,#ff4971 85.6%, transparent 85.6%);\n",
              "  color: #251e1b;\n",
              "  font-size: 12px;\n",
              "}\n",
              "#T_fc1d2_row1_col3 {\n",
              "  text-align: center;\n",
              "  width: 10em;\n",
              "  height: 80%;\n",
              "  background: linear-gradient(90deg,#aadbaa 84.6%, transparent 84.6%);\n",
              "  color: #251e1b;\n",
              "  font-size: 12px;\n",
              "}\n",
              "#T_fc1d2_row2_col0 {\n",
              "  text-align: center;\n",
              "  width: 10em;\n",
              "  height: 80%;\n",
              "  background: linear-gradient(90deg,#f5f8d6 81.8%, transparent 81.8%);\n",
              "  color: #251e1b;\n",
              "  font-size: 12px;\n",
              "}\n",
              "#T_fc1d2_row2_col1 {\n",
              "  text-align: center;\n",
              "  width: 10em;\n",
              "  height: 80%;\n",
              "  background: linear-gradient(90deg,#c778c8 81.9%, transparent 81.9%);\n",
              "  color: #251e1b;\n",
              "  font-size: 12px;\n",
              "}\n",
              "#T_fc1d2_row2_col2 {\n",
              "  text-align: center;\n",
              "  width: 10em;\n",
              "  height: 80%;\n",
              "  background: linear-gradient(90deg,#ff4971 84.3%, transparent 84.3%);\n",
              "  color: #251e1b;\n",
              "  font-size: 12px;\n",
              "}\n",
              "#T_fc1d2_row2_col3 {\n",
              "  text-align: center;\n",
              "  width: 10em;\n",
              "  height: 80%;\n",
              "  background: linear-gradient(90deg,#aadbaa 81.8%, transparent 81.8%);\n",
              "  color: #251e1b;\n",
              "  font-size: 12px;\n",
              "}\n",
              "</style>\n",
              "<table id=\"T_fc1d2_\" class=\"dataframe\">\n",
              "  <thead>\n",
              "    <tr>\n",
              "      <th class=\"blank level0\" >&nbsp;</th>\n",
              "      <th class=\"col_heading level0 col0\" >accuracy</th>\n",
              "      <th class=\"col_heading level0 col1\" >f1_score</th>\n",
              "      <th class=\"col_heading level0 col2\" >precision</th>\n",
              "      <th class=\"col_heading level0 col3\" >recall</th>\n",
              "      <th class=\"col_heading level0 col4\" >ml_framework</th>\n",
              "      <th class=\"col_heading level0 col5\" >transfer_learning</th>\n",
              "      <th class=\"col_heading level0 col6\" >deep_learning</th>\n",
              "      <th class=\"col_heading level0 col7\" >model_type</th>\n",
              "      <th class=\"col_heading level0 col8\" >depth</th>\n",
              "      <th class=\"col_heading level0 col9\" >num_params</th>\n",
              "      <th class=\"col_heading level0 col10\" >dropout_layers</th>\n",
              "      <th class=\"col_heading level0 col11\" >dense_layers</th>\n",
              "      <th class=\"col_heading level0 col12\" >flatten_layers</th>\n",
              "      <th class=\"col_heading level0 col13\" >conv2d_layers</th>\n",
              "      <th class=\"col_heading level0 col14\" >maxpooling2d_layers</th>\n",
              "      <th class=\"col_heading level0 col15\" >relu_act</th>\n",
              "      <th class=\"col_heading level0 col16\" >softmax_act</th>\n",
              "      <th class=\"col_heading level0 col17\" >loss</th>\n",
              "      <th class=\"col_heading level0 col18\" >optimizer</th>\n",
              "      <th class=\"col_heading level0 col19\" >memory_size</th>\n",
              "      <th class=\"col_heading level0 col20\" >username</th>\n",
              "      <th class=\"col_heading level0 col21\" >version</th>\n",
              "    </tr>\n",
              "  </thead>\n",
              "  <tbody>\n",
              "    <tr>\n",
              "      <th id=\"T_fc1d2_level0_row0\" class=\"row_heading level0 row0\" >0</th>\n",
              "      <td id=\"T_fc1d2_row0_col0\" class=\"data row0 col0\" >84.84%</td>\n",
              "      <td id=\"T_fc1d2_row0_col1\" class=\"data row0 col1\" >84.66%</td>\n",
              "      <td id=\"T_fc1d2_row0_col2\" class=\"data row0 col2\" >84.95%</td>\n",
              "      <td id=\"T_fc1d2_row0_col3\" class=\"data row0 col3\" >84.84%</td>\n",
              "      <td id=\"T_fc1d2_row0_col4\" class=\"data row0 col4\" >keras</td>\n",
              "      <td id=\"T_fc1d2_row0_col5\" class=\"data row0 col5\" >False</td>\n",
              "      <td id=\"T_fc1d2_row0_col6\" class=\"data row0 col6\" >True</td>\n",
              "      <td id=\"T_fc1d2_row0_col7\" class=\"data row0 col7\" >Sequential</td>\n",
              "      <td id=\"T_fc1d2_row0_col8\" class=\"data row0 col8\" >11</td>\n",
              "      <td id=\"T_fc1d2_row0_col9\" class=\"data row0 col9\" >47168</td>\n",
              "      <td id=\"T_fc1d2_row0_col10\" class=\"data row0 col10\" >2.000000</td>\n",
              "      <td id=\"T_fc1d2_row0_col11\" class=\"data row0 col11\" >2</td>\n",
              "      <td id=\"T_fc1d2_row0_col12\" class=\"data row0 col12\" >1</td>\n",
              "      <td id=\"T_fc1d2_row0_col13\" class=\"data row0 col13\" >4.000000</td>\n",
              "      <td id=\"T_fc1d2_row0_col14\" class=\"data row0 col14\" >2.000000</td>\n",
              "      <td id=\"T_fc1d2_row0_col15\" class=\"data row0 col15\" >5</td>\n",
              "      <td id=\"T_fc1d2_row0_col16\" class=\"data row0 col16\" >1.000000</td>\n",
              "      <td id=\"T_fc1d2_row0_col17\" class=\"data row0 col17\" >str</td>\n",
              "      <td id=\"T_fc1d2_row0_col18\" class=\"data row0 col18\" >RMSprop</td>\n",
              "      <td id=\"T_fc1d2_row0_col19\" class=\"data row0 col19\" >2697256</td>\n",
              "      <td id=\"T_fc1d2_row0_col20\" class=\"data row0 col20\" >AIModelShare</td>\n",
              "      <td id=\"T_fc1d2_row0_col21\" class=\"data row0 col21\" >3</td>\n",
              "    </tr>\n",
              "    <tr>\n",
              "      <th id=\"T_fc1d2_level0_row1\" class=\"row_heading level0 row1\" >1</th>\n",
              "      <td id=\"T_fc1d2_row1_col0\" class=\"data row1 col0\" >84.56%</td>\n",
              "      <td id=\"T_fc1d2_row1_col1\" class=\"data row1 col1\" >84.48%</td>\n",
              "      <td id=\"T_fc1d2_row1_col2\" class=\"data row1 col2\" >85.61%</td>\n",
              "      <td id=\"T_fc1d2_row1_col3\" class=\"data row1 col3\" >84.56%</td>\n",
              "      <td id=\"T_fc1d2_row1_col4\" class=\"data row1 col4\" >keras</td>\n",
              "      <td id=\"T_fc1d2_row1_col5\" class=\"data row1 col5\" >False</td>\n",
              "      <td id=\"T_fc1d2_row1_col6\" class=\"data row1 col6\" >True</td>\n",
              "      <td id=\"T_fc1d2_row1_col7\" class=\"data row1 col7\" >Sequential</td>\n",
              "      <td id=\"T_fc1d2_row1_col8\" class=\"data row1 col8\" >3</td>\n",
              "      <td id=\"T_fc1d2_row1_col9\" class=\"data row1 col9\" >302474</td>\n",
              "      <td id=\"T_fc1d2_row1_col10\" class=\"data row1 col10\" >nan</td>\n",
              "      <td id=\"T_fc1d2_row1_col11\" class=\"data row1 col11\" >2</td>\n",
              "      <td id=\"T_fc1d2_row1_col12\" class=\"data row1 col12\" >1</td>\n",
              "      <td id=\"T_fc1d2_row1_col13\" class=\"data row1 col13\" >nan</td>\n",
              "      <td id=\"T_fc1d2_row1_col14\" class=\"data row1 col14\" >nan</td>\n",
              "      <td id=\"T_fc1d2_row1_col15\" class=\"data row1 col15\" >1</td>\n",
              "      <td id=\"T_fc1d2_row1_col16\" class=\"data row1 col16\" >nan</td>\n",
              "      <td id=\"T_fc1d2_row1_col17\" class=\"data row1 col17\" >CategoricalCrossentropy</td>\n",
              "      <td id=\"T_fc1d2_row1_col18\" class=\"data row1 col18\" >Adam</td>\n",
              "      <td id=\"T_fc1d2_row1_col19\" class=\"data row1 col19\" >165512</td>\n",
              "      <td id=\"T_fc1d2_row1_col20\" class=\"data row1 col20\" >AIModelShare</td>\n",
              "      <td id=\"T_fc1d2_row1_col21\" class=\"data row1 col21\" >1</td>\n",
              "    </tr>\n",
              "    <tr>\n",
              "      <th id=\"T_fc1d2_level0_row2\" class=\"row_heading level0 row2\" >2</th>\n",
              "      <td id=\"T_fc1d2_row2_col0\" class=\"data row2 col0\" >81.84%</td>\n",
              "      <td id=\"T_fc1d2_row2_col1\" class=\"data row2 col1\" >81.88%</td>\n",
              "      <td id=\"T_fc1d2_row2_col2\" class=\"data row2 col2\" >84.27%</td>\n",
              "      <td id=\"T_fc1d2_row2_col3\" class=\"data row2 col3\" >81.84%</td>\n",
              "      <td id=\"T_fc1d2_row2_col4\" class=\"data row2 col4\" >keras</td>\n",
              "      <td id=\"T_fc1d2_row2_col5\" class=\"data row2 col5\" >False</td>\n",
              "      <td id=\"T_fc1d2_row2_col6\" class=\"data row2 col6\" >True</td>\n",
              "      <td id=\"T_fc1d2_row2_col7\" class=\"data row2 col7\" >Sequential</td>\n",
              "      <td id=\"T_fc1d2_row2_col8\" class=\"data row2 col8\" >4</td>\n",
              "      <td id=\"T_fc1d2_row2_col9\" class=\"data row2 col9\" >506186</td>\n",
              "      <td id=\"T_fc1d2_row2_col10\" class=\"data row2 col10\" >nan</td>\n",
              "      <td id=\"T_fc1d2_row2_col11\" class=\"data row2 col11\" >3</td>\n",
              "      <td id=\"T_fc1d2_row2_col12\" class=\"data row2 col12\" >1</td>\n",
              "      <td id=\"T_fc1d2_row2_col13\" class=\"data row2 col13\" >nan</td>\n",
              "      <td id=\"T_fc1d2_row2_col14\" class=\"data row2 col14\" >nan</td>\n",
              "      <td id=\"T_fc1d2_row2_col15\" class=\"data row2 col15\" >2</td>\n",
              "      <td id=\"T_fc1d2_row2_col16\" class=\"data row2 col16\" >1.000000</td>\n",
              "      <td id=\"T_fc1d2_row2_col17\" class=\"data row2 col17\" >function</td>\n",
              "      <td id=\"T_fc1d2_row2_col18\" class=\"data row2 col18\" >RMSprop</td>\n",
              "      <td id=\"T_fc1d2_row2_col19\" class=\"data row2 col19\" >179352</td>\n",
              "      <td id=\"T_fc1d2_row2_col20\" class=\"data row2 col20\" >AIModelShare</td>\n",
              "      <td id=\"T_fc1d2_row2_col21\" class=\"data row2 col21\" >2</td>\n",
              "    </tr>\n",
              "  </tbody>\n",
              "</table>\n"
            ]
          },
          "metadata": {},
          "execution_count": 13
        }
      ]
    },
    {
      "cell_type": "markdown",
      "metadata": {
        "id": "bwNKs0wP4r5s"
      },
      "source": [
        "## 5. Repeat submission process to improve place on leaderboard\n"
      ]
    },
    {
      "cell_type": "code",
      "metadata": {
        "colab": {
          "base_uri": "https://localhost:8080/"
        },
        "id": "FgSs5PAtPCZH",
        "outputId": "7d750b05-9612-4176-ceca-0269fc7bef29"
      },
      "source": [
        "# Train and submit model 2 using same preprocessor (note that you could save a new preprocessor, but we will use the same one for this example).\n",
        "\n",
        "with tf.device('/device:GPU:0'): # \"/GPU:0\": Short-hand notation for the first GPU of your machine that is visible to TensorFlow.\n",
        "      densemodel = Sequential()\n",
        "      densemodel.add(Dense(128,  input_shape=(28, 28, 3), activation='relu'))\n",
        "      densemodel.add(Dense(64, activation='relu'))\n",
        "      densemodel.add(Dense(64, activation='relu'))\n",
        "      densemodel.add(Flatten())\n",
        "      densemodel.add(Dense(10, activation='softmax')) \n",
        "                                                  \n",
        "      # Compile model\n",
        "      densemodel.compile(loss='categorical_crossentropy', optimizer='rmsprop', metrics=['accuracy'])\n",
        "\n",
        "      # Fitting the NN to the Training set\n",
        "      densemodel.fit(X_train, y_train, \n",
        "                    epochs = 1, verbose=1, validation_split=.2)"
      ],
      "execution_count": 14,
      "outputs": [
        {
          "output_type": "stream",
          "name": "stdout",
          "text": [
            "1500/1500 [==============================] - 134s 89ms/step - loss: 0.4940 - accuracy: 0.8212 - val_loss: 0.3979 - val_accuracy: 0.8602\n"
          ]
        }
      ]
    },
    {
      "cell_type": "code",
      "metadata": {
        "id": "aIdmSpYVPYAw"
      },
      "source": [
        "# Save keras model to local ONNX file\n",
        "from aimodelshare.aimsonnx import model_to_onnx\n",
        "\n",
        "onnx_model = model_to_onnx(densemodel, framework='keras',\n",
        "                          transfer_learning=False,\n",
        "                          deep_learning=True)\n",
        "\n",
        "with open(\"model2.onnx\", \"wb\") as f:\n",
        "    f.write(onnx_model.SerializeToString())"
      ],
      "execution_count": 15,
      "outputs": []
    },
    {
      "cell_type": "code",
      "metadata": {
        "colab": {
          "base_uri": "https://localhost:8080/"
        },
        "id": "nszPPrfwPlUk",
        "outputId": "f2013a31-8b50-4d63-d109-f8bfa055f3bd"
      },
      "source": [
        "#Submit Model 2: \n",
        "\n",
        "#-- Generate predicted y values (Model 2)\n",
        "prediction_column_index=densemodel.predict(X_test).argmax(axis=1)\n",
        "\n",
        "# extract correct prediction labels \n",
        "prediction_labels = [y_train.columns[i] for i in prediction_column_index]\n",
        "\n",
        "# Submit Model 2 to Competition Leaderboard\n",
        "mycompetition.submit_model(model_filepath = \"model2.onnx\",\n",
        "                                 preprocessor_filepath=\"preprocessor.zip\",\n",
        "                                 prediction_submission=prediction_labels)"
      ],
      "execution_count": 16,
      "outputs": [
        {
          "output_type": "stream",
          "name": "stdout",
          "text": [
            "Insert search tags to help users find your model (optional): \n",
            "Provide any useful notes about your model (optional): \n",
            "\n",
            "Your model has been submitted as model version 4\n",
            "\n",
            "To submit code used to create this model or to view current leaderboard navigate to Model Playground: \n",
            "\n",
            " https://www.modelshare.org/detail/model:1662\n"
          ]
        }
      ]
    },
    {
      "cell_type": "code",
      "metadata": {
        "colab": {
          "base_uri": "https://localhost:8080/",
          "height": 251
        },
        "id": "qLl7yLpVEx26",
        "outputId": "17fd70b2-df82-4086-bddc-10ea788a54e6"
      },
      "source": [
        "# Compare two or more models \n",
        "data=mycompetition.compare_models([3,4], verbose=1)\n",
        "mycompetition.stylize_compare(data)"
      ],
      "execution_count": 17,
      "outputs": [
        {
          "output_type": "display_data",
          "data": {
            "text/plain": [
              "<IPython.core.display.HTML object>"
            ],
            "text/html": [
              "<style type=\"text/css\">\n",
              "#T_ad432_ caption {\n",
              "  color: black;\n",
              "  font-size: 18px;\n",
              "}\n",
              "#T_ad432_row0_col0, #T_ad432_row1_col0, #T_ad432_row3_col0, #T_ad432_row4_col0 {\n",
              "  background: #fdcdac;\n",
              "  color: black;\n",
              "  color: black;\n",
              "}\n",
              "#T_ad432_row0_col1, #T_ad432_row0_col2, #T_ad432_row0_col4, #T_ad432_row0_col5, #T_ad432_row1_col1, #T_ad432_row1_col2, #T_ad432_row1_col4, #T_ad432_row1_col5, #T_ad432_row2_col1, #T_ad432_row2_col2, #T_ad432_row2_col4, #T_ad432_row2_col5, #T_ad432_row3_col1, #T_ad432_row3_col2, #T_ad432_row3_col4, #T_ad432_row3_col5, #T_ad432_row4_col1, #T_ad432_row4_col2, #T_ad432_row4_col4, #T_ad432_row4_col5, #T_ad432_row5_col1, #T_ad432_row5_col2, #T_ad432_row5_col3, #T_ad432_row5_col4, #T_ad432_row5_col5, #T_ad432_row6_col1, #T_ad432_row6_col2, #T_ad432_row6_col3, #T_ad432_row6_col4, #T_ad432_row6_col5, #T_ad432_row7_col1, #T_ad432_row7_col2, #T_ad432_row7_col3, #T_ad432_row7_col4, #T_ad432_row7_col5, #T_ad432_row8_col1, #T_ad432_row8_col2, #T_ad432_row8_col3, #T_ad432_row8_col4, #T_ad432_row8_col5, #T_ad432_row9_col1, #T_ad432_row9_col2, #T_ad432_row9_col3, #T_ad432_row9_col4, #T_ad432_row9_col5, #T_ad432_row10_col1, #T_ad432_row10_col2, #T_ad432_row10_col3, #T_ad432_row10_col4, #T_ad432_row10_col5 {\n",
              "  background: white;\n",
              "  color: black;\n",
              "  color: black;\n",
              "}\n",
              "#T_ad432_row0_col3, #T_ad432_row1_col3, #T_ad432_row2_col3, #T_ad432_row4_col3, #T_ad432_row8_col0, #T_ad432_row10_col0 {\n",
              "  background: #fff2ae;\n",
              "  color: black;\n",
              "  color: black;\n",
              "}\n",
              "#T_ad432_row2_col0, #T_ad432_row5_col0 {\n",
              "  background: #f1e2cc;\n",
              "  color: black;\n",
              "  color: black;\n",
              "}\n",
              "#T_ad432_row3_col3, #T_ad432_row7_col0 {\n",
              "  background: #e6f5c9;\n",
              "  color: black;\n",
              "  color: black;\n",
              "}\n",
              "#T_ad432_row6_col0, #T_ad432_row9_col0 {\n",
              "  background: #cbd5e8;\n",
              "  color: black;\n",
              "  color: black;\n",
              "}\n",
              "</style>\n",
              "<table id=\"T_ad432_\">\n",
              "  <caption>Model type: Neural Network</caption>\n",
              "  <thead>\n",
              "    <tr>\n",
              "      <th class=\"blank level0\" >&nbsp;</th>\n",
              "      <th class=\"col_heading level0 col0\" >Model_3_Layer</th>\n",
              "      <th class=\"col_heading level0 col1\" >Model_3_Shape</th>\n",
              "      <th class=\"col_heading level0 col2\" >Model_3_Params</th>\n",
              "      <th class=\"col_heading level0 col3\" >Model_4_Layer</th>\n",
              "      <th class=\"col_heading level0 col4\" >Model_4_Shape</th>\n",
              "      <th class=\"col_heading level0 col5\" >Model_4_Params</th>\n",
              "    </tr>\n",
              "  </thead>\n",
              "  <tbody>\n",
              "    <tr>\n",
              "      <th id=\"T_ad432_level0_row0\" class=\"row_heading level0 row0\" >0</th>\n",
              "      <td id=\"T_ad432_row0_col0\" class=\"data row0 col0\" >Conv2D</td>\n",
              "      <td id=\"T_ad432_row0_col1\" class=\"data row0 col1\" >[None, 28, 28, 16]</td>\n",
              "      <td id=\"T_ad432_row0_col2\" class=\"data row0 col2\" >448</td>\n",
              "      <td id=\"T_ad432_row0_col3\" class=\"data row0 col3\" >Dense</td>\n",
              "      <td id=\"T_ad432_row0_col4\" class=\"data row0 col4\" >[None, 28, 28, 128]</td>\n",
              "      <td id=\"T_ad432_row0_col5\" class=\"data row0 col5\" >512.000000</td>\n",
              "    </tr>\n",
              "    <tr>\n",
              "      <th id=\"T_ad432_level0_row1\" class=\"row_heading level0 row1\" >1</th>\n",
              "      <td id=\"T_ad432_row1_col0\" class=\"data row1 col0\" >Conv2D</td>\n",
              "      <td id=\"T_ad432_row1_col1\" class=\"data row1 col1\" >[None, 28, 28, 16]</td>\n",
              "      <td id=\"T_ad432_row1_col2\" class=\"data row1 col2\" >2320</td>\n",
              "      <td id=\"T_ad432_row1_col3\" class=\"data row1 col3\" >Dense</td>\n",
              "      <td id=\"T_ad432_row1_col4\" class=\"data row1 col4\" >[None, 28, 28, 64]</td>\n",
              "      <td id=\"T_ad432_row1_col5\" class=\"data row1 col5\" >8256.000000</td>\n",
              "    </tr>\n",
              "    <tr>\n",
              "      <th id=\"T_ad432_level0_row2\" class=\"row_heading level0 row2\" >2</th>\n",
              "      <td id=\"T_ad432_row2_col0\" class=\"data row2 col0\" >MaxPooling2D</td>\n",
              "      <td id=\"T_ad432_row2_col1\" class=\"data row2 col1\" >[None, 14, 14, 16]</td>\n",
              "      <td id=\"T_ad432_row2_col2\" class=\"data row2 col2\" >0</td>\n",
              "      <td id=\"T_ad432_row2_col3\" class=\"data row2 col3\" >Dense</td>\n",
              "      <td id=\"T_ad432_row2_col4\" class=\"data row2 col4\" >[None, 28, 28, 64]</td>\n",
              "      <td id=\"T_ad432_row2_col5\" class=\"data row2 col5\" >4160.000000</td>\n",
              "    </tr>\n",
              "    <tr>\n",
              "      <th id=\"T_ad432_level0_row3\" class=\"row_heading level0 row3\" >3</th>\n",
              "      <td id=\"T_ad432_row3_col0\" class=\"data row3 col0\" >Conv2D</td>\n",
              "      <td id=\"T_ad432_row3_col1\" class=\"data row3 col1\" >[None, 14, 14, 16]</td>\n",
              "      <td id=\"T_ad432_row3_col2\" class=\"data row3 col2\" >2320</td>\n",
              "      <td id=\"T_ad432_row3_col3\" class=\"data row3 col3\" >Flatten</td>\n",
              "      <td id=\"T_ad432_row3_col4\" class=\"data row3 col4\" >[None, 50176]</td>\n",
              "      <td id=\"T_ad432_row3_col5\" class=\"data row3 col5\" >0.000000</td>\n",
              "    </tr>\n",
              "    <tr>\n",
              "      <th id=\"T_ad432_level0_row4\" class=\"row_heading level0 row4\" >4</th>\n",
              "      <td id=\"T_ad432_row4_col0\" class=\"data row4 col0\" >Conv2D</td>\n",
              "      <td id=\"T_ad432_row4_col1\" class=\"data row4 col1\" >[None, 14, 14, 16]</td>\n",
              "      <td id=\"T_ad432_row4_col2\" class=\"data row4 col2\" >2320</td>\n",
              "      <td id=\"T_ad432_row4_col3\" class=\"data row4 col3\" >Dense</td>\n",
              "      <td id=\"T_ad432_row4_col4\" class=\"data row4 col4\" >[None, 10]</td>\n",
              "      <td id=\"T_ad432_row4_col5\" class=\"data row4 col5\" >501770.000000</td>\n",
              "    </tr>\n",
              "    <tr>\n",
              "      <th id=\"T_ad432_level0_row5\" class=\"row_heading level0 row5\" >5</th>\n",
              "      <td id=\"T_ad432_row5_col0\" class=\"data row5 col0\" >MaxPooling2D</td>\n",
              "      <td id=\"T_ad432_row5_col1\" class=\"data row5 col1\" >[None, 7, 7, 16]</td>\n",
              "      <td id=\"T_ad432_row5_col2\" class=\"data row5 col2\" >0</td>\n",
              "      <td id=\"T_ad432_row5_col3\" class=\"data row5 col3\" >None</td>\n",
              "      <td id=\"T_ad432_row5_col4\" class=\"data row5 col4\" >None</td>\n",
              "      <td id=\"T_ad432_row5_col5\" class=\"data row5 col5\" >nan</td>\n",
              "    </tr>\n",
              "    <tr>\n",
              "      <th id=\"T_ad432_level0_row6\" class=\"row_heading level0 row6\" >6</th>\n",
              "      <td id=\"T_ad432_row6_col0\" class=\"data row6 col0\" >Dropout</td>\n",
              "      <td id=\"T_ad432_row6_col1\" class=\"data row6 col1\" >[None, 7, 7, 16]</td>\n",
              "      <td id=\"T_ad432_row6_col2\" class=\"data row6 col2\" >0</td>\n",
              "      <td id=\"T_ad432_row6_col3\" class=\"data row6 col3\" >None</td>\n",
              "      <td id=\"T_ad432_row6_col4\" class=\"data row6 col4\" >None</td>\n",
              "      <td id=\"T_ad432_row6_col5\" class=\"data row6 col5\" >nan</td>\n",
              "    </tr>\n",
              "    <tr>\n",
              "      <th id=\"T_ad432_level0_row7\" class=\"row_heading level0 row7\" >7</th>\n",
              "      <td id=\"T_ad432_row7_col0\" class=\"data row7 col0\" >Flatten</td>\n",
              "      <td id=\"T_ad432_row7_col1\" class=\"data row7 col1\" >[None, 784]</td>\n",
              "      <td id=\"T_ad432_row7_col2\" class=\"data row7 col2\" >0</td>\n",
              "      <td id=\"T_ad432_row7_col3\" class=\"data row7 col3\" >None</td>\n",
              "      <td id=\"T_ad432_row7_col4\" class=\"data row7 col4\" >None</td>\n",
              "      <td id=\"T_ad432_row7_col5\" class=\"data row7 col5\" >nan</td>\n",
              "    </tr>\n",
              "    <tr>\n",
              "      <th id=\"T_ad432_level0_row8\" class=\"row_heading level0 row8\" >8</th>\n",
              "      <td id=\"T_ad432_row8_col0\" class=\"data row8 col0\" >Dense</td>\n",
              "      <td id=\"T_ad432_row8_col1\" class=\"data row8 col1\" >[None, 50]</td>\n",
              "      <td id=\"T_ad432_row8_col2\" class=\"data row8 col2\" >39250</td>\n",
              "      <td id=\"T_ad432_row8_col3\" class=\"data row8 col3\" >None</td>\n",
              "      <td id=\"T_ad432_row8_col4\" class=\"data row8 col4\" >None</td>\n",
              "      <td id=\"T_ad432_row8_col5\" class=\"data row8 col5\" >nan</td>\n",
              "    </tr>\n",
              "    <tr>\n",
              "      <th id=\"T_ad432_level0_row9\" class=\"row_heading level0 row9\" >9</th>\n",
              "      <td id=\"T_ad432_row9_col0\" class=\"data row9 col0\" >Dropout</td>\n",
              "      <td id=\"T_ad432_row9_col1\" class=\"data row9 col1\" >[None, 50]</td>\n",
              "      <td id=\"T_ad432_row9_col2\" class=\"data row9 col2\" >0</td>\n",
              "      <td id=\"T_ad432_row9_col3\" class=\"data row9 col3\" >None</td>\n",
              "      <td id=\"T_ad432_row9_col4\" class=\"data row9 col4\" >None</td>\n",
              "      <td id=\"T_ad432_row9_col5\" class=\"data row9 col5\" >nan</td>\n",
              "    </tr>\n",
              "    <tr>\n",
              "      <th id=\"T_ad432_level0_row10\" class=\"row_heading level0 row10\" >10</th>\n",
              "      <td id=\"T_ad432_row10_col0\" class=\"data row10 col0\" >Dense</td>\n",
              "      <td id=\"T_ad432_row10_col1\" class=\"data row10 col1\" >[None, 10]</td>\n",
              "      <td id=\"T_ad432_row10_col2\" class=\"data row10 col2\" >510</td>\n",
              "      <td id=\"T_ad432_row10_col3\" class=\"data row10 col3\" >None</td>\n",
              "      <td id=\"T_ad432_row10_col4\" class=\"data row10 col4\" >None</td>\n",
              "      <td id=\"T_ad432_row10_col5\" class=\"data row10 col5\" >nan</td>\n",
              "    </tr>\n",
              "  </tbody>\n",
              "</table>\n"
            ]
          },
          "metadata": {}
        }
      ]
    },
    {
      "cell_type": "markdown",
      "metadata": {
        "id": "Pl67bOO-lz9k"
      },
      "source": [
        "## Optional: Tune model within range of hyperparameters with Keras Tuner\n",
        "\n",
        "*Simple example shown below. Consult [documentation](https://keras.io/guides/keras_tuner/getting_started/) to see full functionality.*"
      ]
    },
    {
      "cell_type": "code",
      "metadata": {
        "id": "MOGXwppct0KI"
      },
      "source": [
        "! pip install keras_tuner"
      ],
      "execution_count": null,
      "outputs": []
    },
    {
      "cell_type": "code",
      "metadata": {
        "id": "O7o_zA3fv-ra"
      },
      "source": [
        "#Separate validation data \n",
        "from sklearn.model_selection import train_test_split\n",
        "x_train_split, x_val, y_train_split, y_val = train_test_split(\n",
        "     X_train, y_train, test_size=0.2, random_state=42)"
      ],
      "execution_count": 19,
      "outputs": []
    },
    {
      "cell_type": "code",
      "metadata": {
        "colab": {
          "base_uri": "https://localhost:8080/"
        },
        "id": "olzZ7aposfwH",
        "outputId": "86550391-b11c-4719-9f57-dab4c3866a3f"
      },
      "source": [
        "import keras_tuner as kt\n",
        "import tensorflow as tf \n",
        "from tensorflow.keras.models import Sequential\n",
        "from tensorflow.keras.layers import Dense, Activation, Dropout, Flatten\n",
        "from tensorflow.keras.layers import Conv2D, MaxPooling2D\n",
        "from tensorflow.keras import regularizers\n",
        "\n",
        "#Define model structure & parameter search space with function\n",
        "def build_model(hp):\n",
        "    with tf.device('/device:GPU:0'): # \"/GPU:0\": Short-hand notation for the first GPU of your machine that is visible to TensorFlow.\n",
        "                                 \n",
        "        model = Sequential()\n",
        "        model.add(Conv2D(filters=16, kernel_size=3, padding='same', activation='relu', input_shape=[28, 28, 3]))\n",
        "        model.add(Conv2D(filters=16, kernel_size=3, padding='same', activation='relu', kernel_regularizer=regularizers.l2(l=0.01)))\n",
        "        model.add(MaxPooling2D(pool_size=2)) \n",
        "        model.add(Conv2D(filters=16, kernel_size=3, padding='same', activation='relu', kernel_regularizer=regularizers.l2(l=0.01)))\n",
        "        model.add(Conv2D(filters=hp.Int(\"filters\", min_value=8, max_value=32, step=8), #range 8-32 inclusive, minimum step between tested values is 8\n",
        "                         kernel_size=3, padding='same', activation='relu'))\n",
        "        model.add(MaxPooling2D(pool_size=2))\n",
        "        model.add(Dropout(0.3))\n",
        "        model.add(Flatten())\n",
        "        model.add(Dense(50, activation='relu'))\n",
        "        model.add(Dropout(0.2))\n",
        "        model.add(Dense(10, activation='softmax'))\n",
        "\n",
        "        # Compile model...\n",
        "        model.compile(loss='categorical_crossentropy', optimizer='rmsprop', metrics=['accuracy'])\n",
        "\n",
        "        return model \n",
        "\n",
        "#initialize the tuner (which will search through parameters)\n",
        "tuner = kt.RandomSearch(\n",
        "    hypermodel=build_model, \n",
        "    objective=\"val_accuracy\", # objective to optimize\n",
        "    max_trials=2, #max number of trials to run during search\n",
        "    executions_per_trial=1, #higher number reduces variance of results; guages model performance more accurately \n",
        "    overwrite=True,\n",
        "    directory=\"tuning_model\",\n",
        "    project_name=\"tuning_units\",\n",
        ")\n",
        "\n",
        "tuner.search(x_train_split, y_train_split, epochs=1, validation_data=(x_val, y_val))\n"
      ],
      "execution_count": 20,
      "outputs": [
        {
          "output_type": "stream",
          "name": "stdout",
          "text": [
            "Trial 2 Complete [00h 02m 23s]\n",
            "val_accuracy: 0.8683333396911621\n",
            "\n",
            "Best val_accuracy So Far: 0.8683333396911621\n",
            "Total elapsed time: 00h 04m 47s\n"
          ]
        }
      ]
    },
    {
      "cell_type": "code",
      "metadata": {
        "colab": {
          "base_uri": "https://localhost:8080/"
        },
        "id": "0YaEbvJ2yND1",
        "outputId": "c9a33be4-fcea-4b5c-f618-1955cd0f59db"
      },
      "source": [
        "# Build model with best hyperparameters\n",
        "\n",
        "# Get the top 2 hyperparameters.\n",
        "best_hps = tuner.get_best_hyperparameters(5)\n",
        "# Build the model with the best hp.\n",
        "tuned_model = build_model(best_hps[0])\n",
        "# Fit with the entire dataset.\n",
        "tuned_model.fit(x=X_train, y=y_train, epochs=1)\n"
      ],
      "execution_count": 21,
      "outputs": [
        {
          "output_type": "stream",
          "name": "stdout",
          "text": [
            "1875/1875 [==============================] - 124s 66ms/step - loss: 0.6359 - accuracy: 0.7983\n"
          ]
        },
        {
          "output_type": "execute_result",
          "data": {
            "text/plain": [
              "<keras.callbacks.History at 0x7f5e15dbdd90>"
            ]
          },
          "metadata": {},
          "execution_count": 21
        }
      ]
    },
    {
      "cell_type": "code",
      "metadata": {
        "id": "HvLuIvOjHLH2"
      },
      "source": [
        "# Save keras model to local ONNX file\n",
        "from aimodelshare.aimsonnx import model_to_onnx\n",
        "\n",
        "onnx_model = model_to_onnx(tuned_model, framework='keras',\n",
        "                          transfer_learning=False,\n",
        "                          deep_learning=True)\n",
        "\n",
        "with open(\"tuned_model.onnx\", \"wb\") as f:\n",
        "    f.write(onnx_model.SerializeToString())"
      ],
      "execution_count": 22,
      "outputs": []
    },
    {
      "cell_type": "code",
      "metadata": {
        "colab": {
          "base_uri": "https://localhost:8080/"
        },
        "id": "sMidHABfHVN7",
        "outputId": "4f92a491-5d96-4eee-aa8d-6e849129b6b8"
      },
      "source": [
        "#Submit Model 3: \n",
        "\n",
        "#-- Generate predicted y values (Model 3)\n",
        "prediction_column_index=tuned_model.predict(X_test).argmax(axis=1)\n",
        "\n",
        "# extract correct prediction labels \n",
        "prediction_labels = [y_train.columns[i] for i in prediction_column_index]\n",
        "\n",
        "# Submit Model 3 to Competition Leaderboard\n",
        "mycompetition.submit_model(model_filepath = \"tuned_model.onnx\",\n",
        "                                 preprocessor_filepath=\"preprocessor.zip\",\n",
        "                                 prediction_submission=prediction_labels)"
      ],
      "execution_count": 23,
      "outputs": [
        {
          "output_type": "stream",
          "name": "stdout",
          "text": [
            "Insert search tags to help users find your model (optional): \n",
            "Provide any useful notes about your model (optional): \n",
            "\n",
            "Your model has been submitted as model version 5\n",
            "\n",
            "To submit code used to create this model or to view current leaderboard navigate to Model Playground: \n",
            "\n",
            " https://www.modelshare.org/detail/model:1662\n"
          ]
        }
      ]
    },
    {
      "cell_type": "code",
      "metadata": {
        "colab": {
          "base_uri": "https://localhost:8080/",
          "height": 189
        },
        "id": "hn-Tp-zpJVGT",
        "outputId": "826498f7-df50-4049-aa03-4746c2850542"
      },
      "source": [
        "# Get leaderboard\n",
        "\n",
        "data = mycompetition.get_leaderboard()\n",
        "mycompetition.stylize_leaderboard(data)"
      ],
      "execution_count": 24,
      "outputs": [
        {
          "output_type": "execute_result",
          "data": {
            "text/plain": [
              "<pandas.io.formats.style.Styler at 0x7f5d83670a50>"
            ],
            "text/html": [
              "<style type=\"text/css\">\n",
              "#T_15ede_row0_col0 {\n",
              "  text-align: center;\n",
              "  width: 10em;\n",
              "  height: 80%;\n",
              "  background: linear-gradient(90deg,#f5f8d6 86.6%, transparent 86.6%);\n",
              "  color: #251e1b;\n",
              "  font-size: 12px;\n",
              "}\n",
              "#T_15ede_row0_col1 {\n",
              "  text-align: center;\n",
              "  width: 10em;\n",
              "  height: 80%;\n",
              "  background: linear-gradient(90deg,#c778c8 86.6%, transparent 86.6%);\n",
              "  color: #251e1b;\n",
              "  font-size: 12px;\n",
              "}\n",
              "#T_15ede_row0_col2 {\n",
              "  text-align: center;\n",
              "  width: 10em;\n",
              "  height: 80%;\n",
              "  background: linear-gradient(90deg,#ff4971 86.6%, transparent 86.6%);\n",
              "  color: #251e1b;\n",
              "  font-size: 12px;\n",
              "}\n",
              "#T_15ede_row0_col3 {\n",
              "  text-align: center;\n",
              "  width: 10em;\n",
              "  height: 80%;\n",
              "  background: linear-gradient(90deg,#aadbaa 86.6%, transparent 86.6%);\n",
              "  color: #251e1b;\n",
              "  font-size: 12px;\n",
              "}\n",
              "#T_15ede_row0_col4, #T_15ede_row0_col5, #T_15ede_row0_col6, #T_15ede_row0_col7, #T_15ede_row0_col8, #T_15ede_row0_col9, #T_15ede_row0_col10, #T_15ede_row0_col11, #T_15ede_row0_col12, #T_15ede_row0_col13, #T_15ede_row0_col14, #T_15ede_row0_col15, #T_15ede_row0_col16, #T_15ede_row0_col17, #T_15ede_row0_col18, #T_15ede_row0_col19, #T_15ede_row0_col20, #T_15ede_row0_col21, #T_15ede_row1_col4, #T_15ede_row1_col5, #T_15ede_row1_col6, #T_15ede_row1_col7, #T_15ede_row1_col8, #T_15ede_row1_col9, #T_15ede_row1_col10, #T_15ede_row1_col11, #T_15ede_row1_col12, #T_15ede_row1_col13, #T_15ede_row1_col14, #T_15ede_row1_col15, #T_15ede_row1_col16, #T_15ede_row1_col17, #T_15ede_row1_col18, #T_15ede_row1_col19, #T_15ede_row1_col20, #T_15ede_row1_col21, #T_15ede_row2_col4, #T_15ede_row2_col5, #T_15ede_row2_col6, #T_15ede_row2_col7, #T_15ede_row2_col8, #T_15ede_row2_col9, #T_15ede_row2_col10, #T_15ede_row2_col11, #T_15ede_row2_col12, #T_15ede_row2_col13, #T_15ede_row2_col14, #T_15ede_row2_col15, #T_15ede_row2_col16, #T_15ede_row2_col17, #T_15ede_row2_col18, #T_15ede_row2_col19, #T_15ede_row2_col20, #T_15ede_row2_col21, #T_15ede_row3_col4, #T_15ede_row3_col5, #T_15ede_row3_col6, #T_15ede_row3_col7, #T_15ede_row3_col8, #T_15ede_row3_col9, #T_15ede_row3_col10, #T_15ede_row3_col11, #T_15ede_row3_col12, #T_15ede_row3_col13, #T_15ede_row3_col14, #T_15ede_row3_col15, #T_15ede_row3_col16, #T_15ede_row3_col17, #T_15ede_row3_col18, #T_15ede_row3_col19, #T_15ede_row3_col20, #T_15ede_row3_col21, #T_15ede_row4_col4, #T_15ede_row4_col5, #T_15ede_row4_col6, #T_15ede_row4_col7, #T_15ede_row4_col8, #T_15ede_row4_col9, #T_15ede_row4_col10, #T_15ede_row4_col11, #T_15ede_row4_col12, #T_15ede_row4_col13, #T_15ede_row4_col14, #T_15ede_row4_col15, #T_15ede_row4_col16, #T_15ede_row4_col17, #T_15ede_row4_col18, #T_15ede_row4_col19, #T_15ede_row4_col20, #T_15ede_row4_col21 {\n",
              "  text-align: center;\n",
              "}\n",
              "#T_15ede_row1_col0 {\n",
              "  text-align: center;\n",
              "  width: 10em;\n",
              "  height: 80%;\n",
              "  background: linear-gradient(90deg,#f5f8d6 85.1%, transparent 85.1%);\n",
              "  color: #251e1b;\n",
              "  font-size: 12px;\n",
              "}\n",
              "#T_15ede_row1_col1 {\n",
              "  text-align: center;\n",
              "  width: 10em;\n",
              "  height: 80%;\n",
              "  background: linear-gradient(90deg,#c778c8 84.8%, transparent 84.8%);\n",
              "  color: #251e1b;\n",
              "  font-size: 12px;\n",
              "}\n",
              "#T_15ede_row1_col2 {\n",
              "  text-align: center;\n",
              "  width: 10em;\n",
              "  height: 80%;\n",
              "  background: linear-gradient(90deg,#ff4971 85.3%, transparent 85.3%);\n",
              "  color: #251e1b;\n",
              "  font-size: 12px;\n",
              "}\n",
              "#T_15ede_row1_col3 {\n",
              "  text-align: center;\n",
              "  width: 10em;\n",
              "  height: 80%;\n",
              "  background: linear-gradient(90deg,#aadbaa 85.1%, transparent 85.1%);\n",
              "  color: #251e1b;\n",
              "  font-size: 12px;\n",
              "}\n",
              "#T_15ede_row2_col0 {\n",
              "  text-align: center;\n",
              "  width: 10em;\n",
              "  height: 80%;\n",
              "  background: linear-gradient(90deg,#f5f8d6 84.8%, transparent 84.8%);\n",
              "  color: #251e1b;\n",
              "  font-size: 12px;\n",
              "}\n",
              "#T_15ede_row2_col1 {\n",
              "  text-align: center;\n",
              "  width: 10em;\n",
              "  height: 80%;\n",
              "  background: linear-gradient(90deg,#c778c8 84.7%, transparent 84.7%);\n",
              "  color: #251e1b;\n",
              "  font-size: 12px;\n",
              "}\n",
              "#T_15ede_row2_col2 {\n",
              "  text-align: center;\n",
              "  width: 10em;\n",
              "  height: 80%;\n",
              "  background: linear-gradient(90deg,#ff4971 84.9%, transparent 84.9%);\n",
              "  color: #251e1b;\n",
              "  font-size: 12px;\n",
              "}\n",
              "#T_15ede_row2_col3 {\n",
              "  text-align: center;\n",
              "  width: 10em;\n",
              "  height: 80%;\n",
              "  background: linear-gradient(90deg,#aadbaa 84.8%, transparent 84.8%);\n",
              "  color: #251e1b;\n",
              "  font-size: 12px;\n",
              "}\n",
              "#T_15ede_row3_col0 {\n",
              "  text-align: center;\n",
              "  width: 10em;\n",
              "  height: 80%;\n",
              "  background: linear-gradient(90deg,#f5f8d6 84.6%, transparent 84.6%);\n",
              "  color: #251e1b;\n",
              "  font-size: 12px;\n",
              "}\n",
              "#T_15ede_row3_col1 {\n",
              "  text-align: center;\n",
              "  width: 10em;\n",
              "  height: 80%;\n",
              "  background: linear-gradient(90deg,#c778c8 84.5%, transparent 84.5%);\n",
              "  color: #251e1b;\n",
              "  font-size: 12px;\n",
              "}\n",
              "#T_15ede_row3_col2 {\n",
              "  text-align: center;\n",
              "  width: 10em;\n",
              "  height: 80%;\n",
              "  background: linear-gradient(90deg,#ff4971 85.6%, transparent 85.6%);\n",
              "  color: #251e1b;\n",
              "  font-size: 12px;\n",
              "}\n",
              "#T_15ede_row3_col3 {\n",
              "  text-align: center;\n",
              "  width: 10em;\n",
              "  height: 80%;\n",
              "  background: linear-gradient(90deg,#aadbaa 84.6%, transparent 84.6%);\n",
              "  color: #251e1b;\n",
              "  font-size: 12px;\n",
              "}\n",
              "#T_15ede_row4_col0 {\n",
              "  text-align: center;\n",
              "  width: 10em;\n",
              "  height: 80%;\n",
              "  background: linear-gradient(90deg,#f5f8d6 81.8%, transparent 81.8%);\n",
              "  color: #251e1b;\n",
              "  font-size: 12px;\n",
              "}\n",
              "#T_15ede_row4_col1 {\n",
              "  text-align: center;\n",
              "  width: 10em;\n",
              "  height: 80%;\n",
              "  background: linear-gradient(90deg,#c778c8 81.9%, transparent 81.9%);\n",
              "  color: #251e1b;\n",
              "  font-size: 12px;\n",
              "}\n",
              "#T_15ede_row4_col2 {\n",
              "  text-align: center;\n",
              "  width: 10em;\n",
              "  height: 80%;\n",
              "  background: linear-gradient(90deg,#ff4971 84.3%, transparent 84.3%);\n",
              "  color: #251e1b;\n",
              "  font-size: 12px;\n",
              "}\n",
              "#T_15ede_row4_col3 {\n",
              "  text-align: center;\n",
              "  width: 10em;\n",
              "  height: 80%;\n",
              "  background: linear-gradient(90deg,#aadbaa 81.8%, transparent 81.8%);\n",
              "  color: #251e1b;\n",
              "  font-size: 12px;\n",
              "}\n",
              "</style>\n",
              "<table id=\"T_15ede_\" class=\"dataframe\">\n",
              "  <thead>\n",
              "    <tr>\n",
              "      <th class=\"blank level0\" >&nbsp;</th>\n",
              "      <th class=\"col_heading level0 col0\" >accuracy</th>\n",
              "      <th class=\"col_heading level0 col1\" >f1_score</th>\n",
              "      <th class=\"col_heading level0 col2\" >precision</th>\n",
              "      <th class=\"col_heading level0 col3\" >recall</th>\n",
              "      <th class=\"col_heading level0 col4\" >ml_framework</th>\n",
              "      <th class=\"col_heading level0 col5\" >transfer_learning</th>\n",
              "      <th class=\"col_heading level0 col6\" >deep_learning</th>\n",
              "      <th class=\"col_heading level0 col7\" >model_type</th>\n",
              "      <th class=\"col_heading level0 col8\" >depth</th>\n",
              "      <th class=\"col_heading level0 col9\" >num_params</th>\n",
              "      <th class=\"col_heading level0 col10\" >dropout_layers</th>\n",
              "      <th class=\"col_heading level0 col11\" >dense_layers</th>\n",
              "      <th class=\"col_heading level0 col12\" >flatten_layers</th>\n",
              "      <th class=\"col_heading level0 col13\" >conv2d_layers</th>\n",
              "      <th class=\"col_heading level0 col14\" >maxpooling2d_layers</th>\n",
              "      <th class=\"col_heading level0 col15\" >relu_act</th>\n",
              "      <th class=\"col_heading level0 col16\" >softmax_act</th>\n",
              "      <th class=\"col_heading level0 col17\" >loss</th>\n",
              "      <th class=\"col_heading level0 col18\" >optimizer</th>\n",
              "      <th class=\"col_heading level0 col19\" >memory_size</th>\n",
              "      <th class=\"col_heading level0 col20\" >username</th>\n",
              "      <th class=\"col_heading level0 col21\" >version</th>\n",
              "    </tr>\n",
              "  </thead>\n",
              "  <tbody>\n",
              "    <tr>\n",
              "      <th id=\"T_15ede_level0_row0\" class=\"row_heading level0 row0\" >0</th>\n",
              "      <td id=\"T_15ede_row0_col0\" class=\"data row0 col0\" >86.64%</td>\n",
              "      <td id=\"T_15ede_row0_col1\" class=\"data row0 col1\" >86.55%</td>\n",
              "      <td id=\"T_15ede_row0_col2\" class=\"data row0 col2\" >86.61%</td>\n",
              "      <td id=\"T_15ede_row0_col3\" class=\"data row0 col3\" >86.64%</td>\n",
              "      <td id=\"T_15ede_row0_col4\" class=\"data row0 col4\" >keras</td>\n",
              "      <td id=\"T_15ede_row0_col5\" class=\"data row0 col5\" >False</td>\n",
              "      <td id=\"T_15ede_row0_col6\" class=\"data row0 col6\" >True</td>\n",
              "      <td id=\"T_15ede_row0_col7\" class=\"data row0 col7\" >Sequential</td>\n",
              "      <td id=\"T_15ede_row0_col8\" class=\"data row0 col8\" >11</td>\n",
              "      <td id=\"T_15ede_row0_col9\" class=\"data row0 col9\" >47168</td>\n",
              "      <td id=\"T_15ede_row0_col10\" class=\"data row0 col10\" >2.000000</td>\n",
              "      <td id=\"T_15ede_row0_col11\" class=\"data row0 col11\" >2</td>\n",
              "      <td id=\"T_15ede_row0_col12\" class=\"data row0 col12\" >1</td>\n",
              "      <td id=\"T_15ede_row0_col13\" class=\"data row0 col13\" >4.000000</td>\n",
              "      <td id=\"T_15ede_row0_col14\" class=\"data row0 col14\" >2.000000</td>\n",
              "      <td id=\"T_15ede_row0_col15\" class=\"data row0 col15\" >5</td>\n",
              "      <td id=\"T_15ede_row0_col16\" class=\"data row0 col16\" >1.000000</td>\n",
              "      <td id=\"T_15ede_row0_col17\" class=\"data row0 col17\" >str</td>\n",
              "      <td id=\"T_15ede_row0_col18\" class=\"data row0 col18\" >RMSprop</td>\n",
              "      <td id=\"T_15ede_row0_col19\" class=\"data row0 col19\" >2366416</td>\n",
              "      <td id=\"T_15ede_row0_col20\" class=\"data row0 col20\" >AIModelShare</td>\n",
              "      <td id=\"T_15ede_row0_col21\" class=\"data row0 col21\" >5</td>\n",
              "    </tr>\n",
              "    <tr>\n",
              "      <th id=\"T_15ede_level0_row1\" class=\"row_heading level0 row1\" >1</th>\n",
              "      <td id=\"T_15ede_row1_col0\" class=\"data row1 col0\" >85.08%</td>\n",
              "      <td id=\"T_15ede_row1_col1\" class=\"data row1 col1\" >84.84%</td>\n",
              "      <td id=\"T_15ede_row1_col2\" class=\"data row1 col2\" >85.27%</td>\n",
              "      <td id=\"T_15ede_row1_col3\" class=\"data row1 col3\" >85.08%</td>\n",
              "      <td id=\"T_15ede_row1_col4\" class=\"data row1 col4\" >keras</td>\n",
              "      <td id=\"T_15ede_row1_col5\" class=\"data row1 col5\" >False</td>\n",
              "      <td id=\"T_15ede_row1_col6\" class=\"data row1 col6\" >True</td>\n",
              "      <td id=\"T_15ede_row1_col7\" class=\"data row1 col7\" >Sequential</td>\n",
              "      <td id=\"T_15ede_row1_col8\" class=\"data row1 col8\" >5</td>\n",
              "      <td id=\"T_15ede_row1_col9\" class=\"data row1 col9\" >514698</td>\n",
              "      <td id=\"T_15ede_row1_col10\" class=\"data row1 col10\" >nan</td>\n",
              "      <td id=\"T_15ede_row1_col11\" class=\"data row1 col11\" >4</td>\n",
              "      <td id=\"T_15ede_row1_col12\" class=\"data row1 col12\" >1</td>\n",
              "      <td id=\"T_15ede_row1_col13\" class=\"data row1 col13\" >nan</td>\n",
              "      <td id=\"T_15ede_row1_col14\" class=\"data row1 col14\" >nan</td>\n",
              "      <td id=\"T_15ede_row1_col15\" class=\"data row1 col15\" >3</td>\n",
              "      <td id=\"T_15ede_row1_col16\" class=\"data row1 col16\" >1.000000</td>\n",
              "      <td id=\"T_15ede_row1_col17\" class=\"data row1 col17\" >str</td>\n",
              "      <td id=\"T_15ede_row1_col18\" class=\"data row1 col18\" >RMSprop</td>\n",
              "      <td id=\"T_15ede_row1_col19\" class=\"data row1 col19\" >2045824</td>\n",
              "      <td id=\"T_15ede_row1_col20\" class=\"data row1 col20\" >AIModelShare</td>\n",
              "      <td id=\"T_15ede_row1_col21\" class=\"data row1 col21\" >4</td>\n",
              "    </tr>\n",
              "    <tr>\n",
              "      <th id=\"T_15ede_level0_row2\" class=\"row_heading level0 row2\" >2</th>\n",
              "      <td id=\"T_15ede_row2_col0\" class=\"data row2 col0\" >84.84%</td>\n",
              "      <td id=\"T_15ede_row2_col1\" class=\"data row2 col1\" >84.66%</td>\n",
              "      <td id=\"T_15ede_row2_col2\" class=\"data row2 col2\" >84.95%</td>\n",
              "      <td id=\"T_15ede_row2_col3\" class=\"data row2 col3\" >84.84%</td>\n",
              "      <td id=\"T_15ede_row2_col4\" class=\"data row2 col4\" >keras</td>\n",
              "      <td id=\"T_15ede_row2_col5\" class=\"data row2 col5\" >False</td>\n",
              "      <td id=\"T_15ede_row2_col6\" class=\"data row2 col6\" >True</td>\n",
              "      <td id=\"T_15ede_row2_col7\" class=\"data row2 col7\" >Sequential</td>\n",
              "      <td id=\"T_15ede_row2_col8\" class=\"data row2 col8\" >11</td>\n",
              "      <td id=\"T_15ede_row2_col9\" class=\"data row2 col9\" >47168</td>\n",
              "      <td id=\"T_15ede_row2_col10\" class=\"data row2 col10\" >2.000000</td>\n",
              "      <td id=\"T_15ede_row2_col11\" class=\"data row2 col11\" >2</td>\n",
              "      <td id=\"T_15ede_row2_col12\" class=\"data row2 col12\" >1</td>\n",
              "      <td id=\"T_15ede_row2_col13\" class=\"data row2 col13\" >4.000000</td>\n",
              "      <td id=\"T_15ede_row2_col14\" class=\"data row2 col14\" >2.000000</td>\n",
              "      <td id=\"T_15ede_row2_col15\" class=\"data row2 col15\" >5</td>\n",
              "      <td id=\"T_15ede_row2_col16\" class=\"data row2 col16\" >1.000000</td>\n",
              "      <td id=\"T_15ede_row2_col17\" class=\"data row2 col17\" >str</td>\n",
              "      <td id=\"T_15ede_row2_col18\" class=\"data row2 col18\" >RMSprop</td>\n",
              "      <td id=\"T_15ede_row2_col19\" class=\"data row2 col19\" >2697256</td>\n",
              "      <td id=\"T_15ede_row2_col20\" class=\"data row2 col20\" >AIModelShare</td>\n",
              "      <td id=\"T_15ede_row2_col21\" class=\"data row2 col21\" >3</td>\n",
              "    </tr>\n",
              "    <tr>\n",
              "      <th id=\"T_15ede_level0_row3\" class=\"row_heading level0 row3\" >3</th>\n",
              "      <td id=\"T_15ede_row3_col0\" class=\"data row3 col0\" >84.56%</td>\n",
              "      <td id=\"T_15ede_row3_col1\" class=\"data row3 col1\" >84.48%</td>\n",
              "      <td id=\"T_15ede_row3_col2\" class=\"data row3 col2\" >85.61%</td>\n",
              "      <td id=\"T_15ede_row3_col3\" class=\"data row3 col3\" >84.56%</td>\n",
              "      <td id=\"T_15ede_row3_col4\" class=\"data row3 col4\" >keras</td>\n",
              "      <td id=\"T_15ede_row3_col5\" class=\"data row3 col5\" >False</td>\n",
              "      <td id=\"T_15ede_row3_col6\" class=\"data row3 col6\" >True</td>\n",
              "      <td id=\"T_15ede_row3_col7\" class=\"data row3 col7\" >Sequential</td>\n",
              "      <td id=\"T_15ede_row3_col8\" class=\"data row3 col8\" >3</td>\n",
              "      <td id=\"T_15ede_row3_col9\" class=\"data row3 col9\" >302474</td>\n",
              "      <td id=\"T_15ede_row3_col10\" class=\"data row3 col10\" >nan</td>\n",
              "      <td id=\"T_15ede_row3_col11\" class=\"data row3 col11\" >2</td>\n",
              "      <td id=\"T_15ede_row3_col12\" class=\"data row3 col12\" >1</td>\n",
              "      <td id=\"T_15ede_row3_col13\" class=\"data row3 col13\" >nan</td>\n",
              "      <td id=\"T_15ede_row3_col14\" class=\"data row3 col14\" >nan</td>\n",
              "      <td id=\"T_15ede_row3_col15\" class=\"data row3 col15\" >1</td>\n",
              "      <td id=\"T_15ede_row3_col16\" class=\"data row3 col16\" >nan</td>\n",
              "      <td id=\"T_15ede_row3_col17\" class=\"data row3 col17\" >CategoricalCrossentropy</td>\n",
              "      <td id=\"T_15ede_row3_col18\" class=\"data row3 col18\" >Adam</td>\n",
              "      <td id=\"T_15ede_row3_col19\" class=\"data row3 col19\" >165512</td>\n",
              "      <td id=\"T_15ede_row3_col20\" class=\"data row3 col20\" >AIModelShare</td>\n",
              "      <td id=\"T_15ede_row3_col21\" class=\"data row3 col21\" >1</td>\n",
              "    </tr>\n",
              "    <tr>\n",
              "      <th id=\"T_15ede_level0_row4\" class=\"row_heading level0 row4\" >4</th>\n",
              "      <td id=\"T_15ede_row4_col0\" class=\"data row4 col0\" >81.84%</td>\n",
              "      <td id=\"T_15ede_row4_col1\" class=\"data row4 col1\" >81.88%</td>\n",
              "      <td id=\"T_15ede_row4_col2\" class=\"data row4 col2\" >84.27%</td>\n",
              "      <td id=\"T_15ede_row4_col3\" class=\"data row4 col3\" >81.84%</td>\n",
              "      <td id=\"T_15ede_row4_col4\" class=\"data row4 col4\" >keras</td>\n",
              "      <td id=\"T_15ede_row4_col5\" class=\"data row4 col5\" >False</td>\n",
              "      <td id=\"T_15ede_row4_col6\" class=\"data row4 col6\" >True</td>\n",
              "      <td id=\"T_15ede_row4_col7\" class=\"data row4 col7\" >Sequential</td>\n",
              "      <td id=\"T_15ede_row4_col8\" class=\"data row4 col8\" >4</td>\n",
              "      <td id=\"T_15ede_row4_col9\" class=\"data row4 col9\" >506186</td>\n",
              "      <td id=\"T_15ede_row4_col10\" class=\"data row4 col10\" >nan</td>\n",
              "      <td id=\"T_15ede_row4_col11\" class=\"data row4 col11\" >3</td>\n",
              "      <td id=\"T_15ede_row4_col12\" class=\"data row4 col12\" >1</td>\n",
              "      <td id=\"T_15ede_row4_col13\" class=\"data row4 col13\" >nan</td>\n",
              "      <td id=\"T_15ede_row4_col14\" class=\"data row4 col14\" >nan</td>\n",
              "      <td id=\"T_15ede_row4_col15\" class=\"data row4 col15\" >2</td>\n",
              "      <td id=\"T_15ede_row4_col16\" class=\"data row4 col16\" >1.000000</td>\n",
              "      <td id=\"T_15ede_row4_col17\" class=\"data row4 col17\" >function</td>\n",
              "      <td id=\"T_15ede_row4_col18\" class=\"data row4 col18\" >RMSprop</td>\n",
              "      <td id=\"T_15ede_row4_col19\" class=\"data row4 col19\" >179352</td>\n",
              "      <td id=\"T_15ede_row4_col20\" class=\"data row4 col20\" >AIModelShare</td>\n",
              "      <td id=\"T_15ede_row4_col21\" class=\"data row4 col21\" >2</td>\n",
              "    </tr>\n",
              "  </tbody>\n",
              "</table>\n"
            ]
          },
          "metadata": {},
          "execution_count": 24
        }
      ]
    },
    {
      "cell_type": "code",
      "metadata": {
        "id": "MKvPKyb7hT0h",
        "colab": {
          "base_uri": "https://localhost:8080/",
          "height": 251
        },
        "outputId": "4a1675fd-9add-486c-c502-4237037fab52"
      },
      "source": [
        "# Compare two or more models \n",
        "data=mycompetition.compare_models([4, 5], verbose=1)\n",
        "mycompetition.stylize_compare(data)"
      ],
      "execution_count": 25,
      "outputs": [
        {
          "output_type": "display_data",
          "data": {
            "text/plain": [
              "<IPython.core.display.HTML object>"
            ],
            "text/html": [
              "<style type=\"text/css\">\n",
              "#T_c429e_ caption {\n",
              "  color: black;\n",
              "  font-size: 18px;\n",
              "}\n",
              "#T_c429e_row0_col0, #T_c429e_row1_col0, #T_c429e_row2_col0, #T_c429e_row4_col0, #T_c429e_row8_col3, #T_c429e_row10_col3 {\n",
              "  background: #fff2ae;\n",
              "  color: black;\n",
              "  color: black;\n",
              "}\n",
              "#T_c429e_row0_col1, #T_c429e_row0_col2, #T_c429e_row0_col4, #T_c429e_row0_col5, #T_c429e_row1_col1, #T_c429e_row1_col2, #T_c429e_row1_col4, #T_c429e_row1_col5, #T_c429e_row2_col1, #T_c429e_row2_col2, #T_c429e_row2_col4, #T_c429e_row2_col5, #T_c429e_row3_col1, #T_c429e_row3_col2, #T_c429e_row3_col4, #T_c429e_row3_col5, #T_c429e_row4_col1, #T_c429e_row4_col2, #T_c429e_row4_col4, #T_c429e_row4_col5, #T_c429e_row5_col0, #T_c429e_row5_col1, #T_c429e_row5_col2, #T_c429e_row5_col4, #T_c429e_row5_col5, #T_c429e_row6_col0, #T_c429e_row6_col1, #T_c429e_row6_col2, #T_c429e_row6_col4, #T_c429e_row6_col5, #T_c429e_row7_col0, #T_c429e_row7_col1, #T_c429e_row7_col2, #T_c429e_row7_col4, #T_c429e_row7_col5, #T_c429e_row8_col0, #T_c429e_row8_col1, #T_c429e_row8_col2, #T_c429e_row8_col4, #T_c429e_row8_col5, #T_c429e_row9_col0, #T_c429e_row9_col1, #T_c429e_row9_col2, #T_c429e_row9_col4, #T_c429e_row9_col5, #T_c429e_row10_col0, #T_c429e_row10_col1, #T_c429e_row10_col2, #T_c429e_row10_col4, #T_c429e_row10_col5 {\n",
              "  background: white;\n",
              "  color: black;\n",
              "  color: black;\n",
              "}\n",
              "#T_c429e_row0_col3, #T_c429e_row1_col3, #T_c429e_row3_col3, #T_c429e_row4_col3 {\n",
              "  background: #fdcdac;\n",
              "  color: black;\n",
              "  color: black;\n",
              "}\n",
              "#T_c429e_row2_col3, #T_c429e_row5_col3 {\n",
              "  background: #f1e2cc;\n",
              "  color: black;\n",
              "  color: black;\n",
              "}\n",
              "#T_c429e_row3_col0, #T_c429e_row7_col3 {\n",
              "  background: #e6f5c9;\n",
              "  color: black;\n",
              "  color: black;\n",
              "}\n",
              "#T_c429e_row6_col3, #T_c429e_row9_col3 {\n",
              "  background: #cbd5e8;\n",
              "  color: black;\n",
              "  color: black;\n",
              "}\n",
              "</style>\n",
              "<table id=\"T_c429e_\">\n",
              "  <caption>Model type: Neural Network</caption>\n",
              "  <thead>\n",
              "    <tr>\n",
              "      <th class=\"blank level0\" >&nbsp;</th>\n",
              "      <th class=\"col_heading level0 col0\" >Model_4_Layer</th>\n",
              "      <th class=\"col_heading level0 col1\" >Model_4_Shape</th>\n",
              "      <th class=\"col_heading level0 col2\" >Model_4_Params</th>\n",
              "      <th class=\"col_heading level0 col3\" >Model_5_Layer</th>\n",
              "      <th class=\"col_heading level0 col4\" >Model_5_Shape</th>\n",
              "      <th class=\"col_heading level0 col5\" >Model_5_Params</th>\n",
              "    </tr>\n",
              "  </thead>\n",
              "  <tbody>\n",
              "    <tr>\n",
              "      <th id=\"T_c429e_level0_row0\" class=\"row_heading level0 row0\" >0</th>\n",
              "      <td id=\"T_c429e_row0_col0\" class=\"data row0 col0\" >Dense</td>\n",
              "      <td id=\"T_c429e_row0_col1\" class=\"data row0 col1\" >[None, 28, 28, 128]</td>\n",
              "      <td id=\"T_c429e_row0_col2\" class=\"data row0 col2\" >512.000000</td>\n",
              "      <td id=\"T_c429e_row0_col3\" class=\"data row0 col3\" >Conv2D</td>\n",
              "      <td id=\"T_c429e_row0_col4\" class=\"data row0 col4\" >[None, 28, 28, 16]</td>\n",
              "      <td id=\"T_c429e_row0_col5\" class=\"data row0 col5\" >448</td>\n",
              "    </tr>\n",
              "    <tr>\n",
              "      <th id=\"T_c429e_level0_row1\" class=\"row_heading level0 row1\" >1</th>\n",
              "      <td id=\"T_c429e_row1_col0\" class=\"data row1 col0\" >Dense</td>\n",
              "      <td id=\"T_c429e_row1_col1\" class=\"data row1 col1\" >[None, 28, 28, 64]</td>\n",
              "      <td id=\"T_c429e_row1_col2\" class=\"data row1 col2\" >8256.000000</td>\n",
              "      <td id=\"T_c429e_row1_col3\" class=\"data row1 col3\" >Conv2D</td>\n",
              "      <td id=\"T_c429e_row1_col4\" class=\"data row1 col4\" >[None, 28, 28, 16]</td>\n",
              "      <td id=\"T_c429e_row1_col5\" class=\"data row1 col5\" >2320</td>\n",
              "    </tr>\n",
              "    <tr>\n",
              "      <th id=\"T_c429e_level0_row2\" class=\"row_heading level0 row2\" >2</th>\n",
              "      <td id=\"T_c429e_row2_col0\" class=\"data row2 col0\" >Dense</td>\n",
              "      <td id=\"T_c429e_row2_col1\" class=\"data row2 col1\" >[None, 28, 28, 64]</td>\n",
              "      <td id=\"T_c429e_row2_col2\" class=\"data row2 col2\" >4160.000000</td>\n",
              "      <td id=\"T_c429e_row2_col3\" class=\"data row2 col3\" >MaxPooling2D</td>\n",
              "      <td id=\"T_c429e_row2_col4\" class=\"data row2 col4\" >[None, 14, 14, 16]</td>\n",
              "      <td id=\"T_c429e_row2_col5\" class=\"data row2 col5\" >0</td>\n",
              "    </tr>\n",
              "    <tr>\n",
              "      <th id=\"T_c429e_level0_row3\" class=\"row_heading level0 row3\" >3</th>\n",
              "      <td id=\"T_c429e_row3_col0\" class=\"data row3 col0\" >Flatten</td>\n",
              "      <td id=\"T_c429e_row3_col1\" class=\"data row3 col1\" >[None, 50176]</td>\n",
              "      <td id=\"T_c429e_row3_col2\" class=\"data row3 col2\" >0.000000</td>\n",
              "      <td id=\"T_c429e_row3_col3\" class=\"data row3 col3\" >Conv2D</td>\n",
              "      <td id=\"T_c429e_row3_col4\" class=\"data row3 col4\" >[None, 14, 14, 16]</td>\n",
              "      <td id=\"T_c429e_row3_col5\" class=\"data row3 col5\" >2320</td>\n",
              "    </tr>\n",
              "    <tr>\n",
              "      <th id=\"T_c429e_level0_row4\" class=\"row_heading level0 row4\" >4</th>\n",
              "      <td id=\"T_c429e_row4_col0\" class=\"data row4 col0\" >Dense</td>\n",
              "      <td id=\"T_c429e_row4_col1\" class=\"data row4 col1\" >[None, 10]</td>\n",
              "      <td id=\"T_c429e_row4_col2\" class=\"data row4 col2\" >501770.000000</td>\n",
              "      <td id=\"T_c429e_row4_col3\" class=\"data row4 col3\" >Conv2D</td>\n",
              "      <td id=\"T_c429e_row4_col4\" class=\"data row4 col4\" >[None, 14, 14, 16]</td>\n",
              "      <td id=\"T_c429e_row4_col5\" class=\"data row4 col5\" >2320</td>\n",
              "    </tr>\n",
              "    <tr>\n",
              "      <th id=\"T_c429e_level0_row5\" class=\"row_heading level0 row5\" >5</th>\n",
              "      <td id=\"T_c429e_row5_col0\" class=\"data row5 col0\" >None</td>\n",
              "      <td id=\"T_c429e_row5_col1\" class=\"data row5 col1\" >None</td>\n",
              "      <td id=\"T_c429e_row5_col2\" class=\"data row5 col2\" >nan</td>\n",
              "      <td id=\"T_c429e_row5_col3\" class=\"data row5 col3\" >MaxPooling2D</td>\n",
              "      <td id=\"T_c429e_row5_col4\" class=\"data row5 col4\" >[None, 7, 7, 16]</td>\n",
              "      <td id=\"T_c429e_row5_col5\" class=\"data row5 col5\" >0</td>\n",
              "    </tr>\n",
              "    <tr>\n",
              "      <th id=\"T_c429e_level0_row6\" class=\"row_heading level0 row6\" >6</th>\n",
              "      <td id=\"T_c429e_row6_col0\" class=\"data row6 col0\" >None</td>\n",
              "      <td id=\"T_c429e_row6_col1\" class=\"data row6 col1\" >None</td>\n",
              "      <td id=\"T_c429e_row6_col2\" class=\"data row6 col2\" >nan</td>\n",
              "      <td id=\"T_c429e_row6_col3\" class=\"data row6 col3\" >Dropout</td>\n",
              "      <td id=\"T_c429e_row6_col4\" class=\"data row6 col4\" >[None, 7, 7, 16]</td>\n",
              "      <td id=\"T_c429e_row6_col5\" class=\"data row6 col5\" >0</td>\n",
              "    </tr>\n",
              "    <tr>\n",
              "      <th id=\"T_c429e_level0_row7\" class=\"row_heading level0 row7\" >7</th>\n",
              "      <td id=\"T_c429e_row7_col0\" class=\"data row7 col0\" >None</td>\n",
              "      <td id=\"T_c429e_row7_col1\" class=\"data row7 col1\" >None</td>\n",
              "      <td id=\"T_c429e_row7_col2\" class=\"data row7 col2\" >nan</td>\n",
              "      <td id=\"T_c429e_row7_col3\" class=\"data row7 col3\" >Flatten</td>\n",
              "      <td id=\"T_c429e_row7_col4\" class=\"data row7 col4\" >[None, 784]</td>\n",
              "      <td id=\"T_c429e_row7_col5\" class=\"data row7 col5\" >0</td>\n",
              "    </tr>\n",
              "    <tr>\n",
              "      <th id=\"T_c429e_level0_row8\" class=\"row_heading level0 row8\" >8</th>\n",
              "      <td id=\"T_c429e_row8_col0\" class=\"data row8 col0\" >None</td>\n",
              "      <td id=\"T_c429e_row8_col1\" class=\"data row8 col1\" >None</td>\n",
              "      <td id=\"T_c429e_row8_col2\" class=\"data row8 col2\" >nan</td>\n",
              "      <td id=\"T_c429e_row8_col3\" class=\"data row8 col3\" >Dense</td>\n",
              "      <td id=\"T_c429e_row8_col4\" class=\"data row8 col4\" >[None, 50]</td>\n",
              "      <td id=\"T_c429e_row8_col5\" class=\"data row8 col5\" >39250</td>\n",
              "    </tr>\n",
              "    <tr>\n",
              "      <th id=\"T_c429e_level0_row9\" class=\"row_heading level0 row9\" >9</th>\n",
              "      <td id=\"T_c429e_row9_col0\" class=\"data row9 col0\" >None</td>\n",
              "      <td id=\"T_c429e_row9_col1\" class=\"data row9 col1\" >None</td>\n",
              "      <td id=\"T_c429e_row9_col2\" class=\"data row9 col2\" >nan</td>\n",
              "      <td id=\"T_c429e_row9_col3\" class=\"data row9 col3\" >Dropout</td>\n",
              "      <td id=\"T_c429e_row9_col4\" class=\"data row9 col4\" >[None, 50]</td>\n",
              "      <td id=\"T_c429e_row9_col5\" class=\"data row9 col5\" >0</td>\n",
              "    </tr>\n",
              "    <tr>\n",
              "      <th id=\"T_c429e_level0_row10\" class=\"row_heading level0 row10\" >10</th>\n",
              "      <td id=\"T_c429e_row10_col0\" class=\"data row10 col0\" >None</td>\n",
              "      <td id=\"T_c429e_row10_col1\" class=\"data row10 col1\" >None</td>\n",
              "      <td id=\"T_c429e_row10_col2\" class=\"data row10 col2\" >nan</td>\n",
              "      <td id=\"T_c429e_row10_col3\" class=\"data row10 col3\" >Dense</td>\n",
              "      <td id=\"T_c429e_row10_col4\" class=\"data row10 col4\" >[None, 10]</td>\n",
              "      <td id=\"T_c429e_row10_col5\" class=\"data row10 col5\" >510</td>\n",
              "    </tr>\n",
              "  </tbody>\n",
              "</table>\n"
            ]
          },
          "metadata": {}
        }
      ]
    }
  ]
}