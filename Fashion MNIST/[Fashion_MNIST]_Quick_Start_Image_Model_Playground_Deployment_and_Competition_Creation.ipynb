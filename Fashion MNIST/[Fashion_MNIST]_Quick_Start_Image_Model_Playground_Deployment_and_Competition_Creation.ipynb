{
  "nbformat": 4,
  "nbformat_minor": 0,
  "metadata": {
    "accelerator": "GPU",
    "colab": {
      "name": "[Fashion - MNIST] Quick Start: Image Model Playground Deployment and Competition Creation.ipynb",
      "provenance": [],
      "collapsed_sections": []
    },
    "kernelspec": {
      "display_name": "Python 3",
      "language": "python",
      "name": "python3"
    },
    "language_info": {
      "codemirror_mode": {
        "name": "ipython",
        "version": 3
      },
      "file_extension": ".py",
      "mimetype": "text/x-python",
      "name": "python",
      "nbconvert_exporter": "python",
      "pygments_lexer": "ipython3",
      "version": "3.7.5"
    }
  },
  "cells": [
    {
      "cell_type": "markdown",
      "metadata": {
        "id": "0BviI4QIdWiq"
      },
      "source": [
        "<p align=\"center\"><img width=\"50%\" src=\"https://aimodelsharecontent.s3.amazonaws.com/aimodshare_banner.jpg\" /></p>\n",
        "\n",
        "\n",
        "---\n",
        "\n",
        "\n"
      ]
    },
    {
      "cell_type": "markdown",
      "metadata": {
        "id": "gYNp684Tk3tb"
      },
      "source": [
        "<p align=\"center\"><h1 align=\"center\">Quick Start: Fashion-MNIST Image Classification Tutorial</h1> \n",
        "\n",
        "---\n",
        "\n",
        "<h3 align=\"center\">(Deploy model to an AI Model Share Model Playground REST API<br> and Web Dashboard in five easy steps...)</h3></p>\n",
        "<p align=\"center\"><img width=\"100%\" src=\"https://aimodelsharecontent.s3.amazonaws.com/aimstutorialsteps.gif\" /></p>\n",
        "\n",
        "\n",
        "---\n",
        "\n"
      ]
    },
    {
      "cell_type": "markdown",
      "metadata": {
        "id": "0PhJ-XlGazpD"
      },
      "source": [
        "## **Credential Configuration**\n",
        "\n",
        "In order to deploy an AI Model Share Model Playground, you will need a credentials text file. \n",
        "\n",
        "Generating your credentials file requires two sets of information: \n",
        "1. Your AI Model Share username and password (create them [HERE](https://www.modelshare.org/login)). \n",
        "2. Your AWS (Amazon Web Services) access keys (follow the tutorial [HERE](https://docs.aws.amazon.com/general/latest/gr/aws-sec-cred-types.html)). \n",
        "\n",
        "You only need to generate your credentials file once. After running the configure function below, save the outputted file for all your future Model Playground deployments and competition submissions. \n",
        "\n",
        "*Note: Handle your credentials file with the same level of security you handle your passwords. Do not share your file with anyone, send via email, or upload to Github.*\n"
      ]
    },
    {
      "cell_type": "code",
      "metadata": {
        "id": "puVzQBHyhS2Z"
      },
      "source": [
        "#install aimodelshare library\n",
        "! pip install aimodelshare"
      ],
      "execution_count": null,
      "outputs": []
    },
    {
      "cell_type": "code",
      "metadata": {
        "id": "4Q7MCqBLcS20"
      },
      "source": [
        "# Generate credentials file\n",
        "import aimodelshare as ai \n",
        "from aimodelshare.aws import configure_credentials \n",
        "\n",
        "configure_credentials()"
      ],
      "execution_count": null,
      "outputs": []
    },
    {
      "cell_type": "markdown",
      "metadata": {
        "id": "VliTV_HH-uz4"
      },
      "source": [
        "## **Set up Environment**\n",
        "\n",
        "Use your credentials file to set your credentials for all aimodelshare functions. "
      ]
    },
    {
      "cell_type": "code",
      "metadata": {
        "colab": {
          "base_uri": "https://localhost:8080/"
        },
        "id": "2u1QKNfEyN9A",
        "outputId": "aedc6327-b455-4624-eca4-770fedadecdb"
      },
      "source": [
        "# Set credentials \n",
        "import aimodelshare as ai\n",
        "from aimodelshare.aws import set_credentials\n",
        "\n",
        "set_credentials(credential_file=\"credentials.txt\", type=\"deploy_model\")"
      ],
      "execution_count": null,
      "outputs": [
        {
          "output_type": "stream",
          "name": "stdout",
          "text": [
            "AI Model Share login credentials set successfully.\n",
            "AWS credentials set successfully.\n"
          ]
        }
      ]
    },
    {
      "cell_type": "code",
      "metadata": {
        "colab": {
          "base_uri": "https://localhost:8080/"
        },
        "id": "PwQcTsyyURIk",
        "outputId": "31742adb-1199-4e5b-a5b1-931e6dc11f9f"
      },
      "source": [
        "# Get materials for tutorial\n",
        "import aimodelshare as ai\n",
        "keras_model, y_train_labels = ai.import_quickstart_data(\"mnist\")"
      ],
      "execution_count": null,
      "outputs": [
        {
          "output_type": "stream",
          "name": "stdout",
          "text": [
            "Downloading [============================================>    ]\n",
            "\n",
            "Data downloaded successfully.\n",
            "\n",
            "Preparing downloaded files for use...\n",
            "\n",
            "Success! Your Quick Start materials have been downloaded. \n",
            "You are now ready to run the tutorial.\n"
          ]
        }
      ]
    },
    {
      "cell_type": "markdown",
      "metadata": {
        "id": "bIleM1F6nWSF"
      },
      "source": [
        "## **(1) Preprocessor Function & Setup**"
      ]
    },
    {
      "cell_type": "markdown",
      "metadata": {
        "id": "WrEgo5zRxbed"
      },
      "source": [
        "### **Write a Preprocessor Function**\n",
        "\n",
        "\n",
        "> ###   Preprocessor functions are used to preprocess data into the precise data your model requires to generate predictions.  \n",
        "\n",
        "*  *Preprocessor functions should always be named \"preprocessor\".*\n",
        "*  *You can use any Python library in a preprocessor function, but all libraries should be imported inside your preprocessor function.*  \n",
        "*  *For image prediction models users should minimally include function inputs for an image filepath and values to reshape the image height and width.*  \n",
        "\n"
      ]
    },
    {
      "cell_type": "code",
      "metadata": {
        "id": "B5Jz-1cmYN5Z"
      },
      "source": [
        "# Here is a pre-designed preprocessor, but you could also build your own to prepare the data differently\n",
        "\n",
        "def preprocessor(image_filepath, shape=(28, 28)):\n",
        "        \"\"\"\n",
        "        This function reads in images, resizes them to a fixed shape and\n",
        "        min/max transforms them before converting feature values to float32 numeric values\n",
        "        required by onnx files.\n",
        "        \n",
        "        params:\n",
        "            image_filepath\n",
        "                full filepath of a particular image\n",
        "                      \n",
        "        returns:\n",
        "            X\n",
        "                numpy array of preprocessed image data\n",
        "        \"\"\"\n",
        "           \n",
        "        import cv2\n",
        "        import numpy as np\n",
        "\n",
        "        \"Resize a color image and min/max transform the image\"\n",
        "        img = cv2.imread(image_filepath) # Read in image from filepath.\n",
        "        img = cv2.cvtColor(img, cv2.COLOR_BGR2RGB) # cv2 reads in images in order of blue green and red, we reverse the order for ML.\n",
        "        img = cv2.resize(img, shape) # Change height and width of image.\n",
        "        img = img / 255.0 # Min-max transform.\n",
        "\n",
        "        # Resize all the images...\n",
        "        X = np.array(img)\n",
        "        X = np.expand_dims(X, axis=0) # Expand dims to add \"1\" to object shape [1, h, w, channels] for keras model.\n",
        "        X = np.array(X, dtype=np.float32) # Final shape for onnx runtime.\n",
        "        return X"
      ],
      "execution_count": null,
      "outputs": []
    },
    {
      "cell_type": "markdown",
      "metadata": {
        "id": "xJlhd6jvns0b"
      },
      "source": [
        "## **(2) Train Model Using tf.keras (or Your Preferred ML Library)**"
      ]
    },
    {
      "cell_type": "markdown",
      "metadata": {
        "id": "fP7ZIVKe3luZ"
      },
      "source": [
        "### **We already loaded a Keras Model in the quickstart function above**"
      ]
    },
    {
      "cell_type": "code",
      "metadata": {
        "colab": {
          "base_uri": "https://localhost:8080/"
        },
        "id": "Tnrmg_aO230E",
        "outputId": "809c07a2-85d3-487f-d5bb-03635b9ce578"
      },
      "source": [
        "#Here is a pre-trained keras_model, but you could also train your own model after preprocessing data with your preprocessor function.\n",
        "keras_model.summary()"
      ],
      "execution_count": null,
      "outputs": [
        {
          "output_type": "stream",
          "name": "stdout",
          "text": [
            "Model: \"sequential\"\n",
            "_________________________________________________________________\n",
            " Layer (type)                Output Shape              Param #   \n",
            "=================================================================\n",
            " flatten (Flatten)           (None, 2352)              0         \n",
            "                                                                 \n",
            " dense (Dense)               (None, 128)               301184    \n",
            "                                                                 \n",
            " dense_1 (Dense)             (None, 10)                1290      \n",
            "                                                                 \n",
            "=================================================================\n",
            "Total params: 302,474\n",
            "Trainable params: 302,474\n",
            "Non-trainable params: 0\n",
            "_________________________________________________________________\n"
          ]
        }
      ]
    },
    {
      "cell_type": "markdown",
      "metadata": {
        "id": "FZGlu5PMWbNO"
      },
      "source": [
        "## **(3) Save Preprocessor**\n",
        "### Saves preprocessor function to \"preprocessor.zip\" file"
      ]
    },
    {
      "cell_type": "code",
      "metadata": {
        "colab": {
          "base_uri": "https://localhost:8080/"
        },
        "id": "Wh_vkwblXx7r",
        "outputId": "5924bebf-c640-4229-f75f-74c723a00ce1"
      },
      "source": [
        "import aimodelshare as ai\n",
        "ai.export_preprocessor(preprocessor,\"\") "
      ],
      "execution_count": null,
      "outputs": [
        {
          "output_type": "stream",
          "name": "stdout",
          "text": [
            "Your preprocessor is now saved to 'preprocessor.zip'\n"
          ]
        }
      ]
    },
    {
      "cell_type": "code",
      "metadata": {
        "colab": {
          "base_uri": "https://localhost:8080/"
        },
        "id": "b58rg4pMMn4n",
        "outputId": "ba78e8c6-43af-4a13-f35a-535b5d4e5cc2"
      },
      "source": [
        "#  Now let's import and test the preprocessor function to see if it is working...\n",
        "\n",
        "import aimodelshare as ai\n",
        "prep=ai.import_preprocessor(\"preprocessor.zip\")\n",
        "\n",
        "prep(\"fashion_mnist_quickstart_materials/example_data/train_1.jpeg\").shape"
      ],
      "execution_count": null,
      "outputs": [
        {
          "output_type": "execute_result",
          "data": {
            "text/plain": [
              "(1, 28, 28, 3)"
            ]
          },
          "metadata": {},
          "execution_count": 7
        }
      ]
    },
    {
      "cell_type": "markdown",
      "metadata": {
        "id": "CdQOeF2J3PCv"
      },
      "source": [
        "## **(4) Save Keras Model to ONNX File Format**\n"
      ]
    },
    {
      "cell_type": "code",
      "metadata": {
        "id": "r8fgi8f6qkbk"
      },
      "source": [
        "# Save tf.keras model to local ONNX file\n",
        "from aimodelshare.aimsonnx import model_to_onnx\n",
        "\n",
        "onnx_model = model_to_onnx(keras_model, framework='keras',\n",
        "                          transfer_learning=False,\n",
        "                          deep_learning=True)\n",
        "\n",
        "with open(\"model.onnx\", \"wb\") as f:\n",
        "    f.write(onnx_model.SerializeToString())"
      ],
      "execution_count": null,
      "outputs": []
    },
    {
      "cell_type": "markdown",
      "metadata": {
        "id": "1swt74XQUIFh"
      },
      "source": [
        "## **(5) Create your Model Playground**"
      ]
    },
    {
      "cell_type": "code",
      "source": [
        "# Create one hot encoded data from list of y_train category labels\n",
        "#...to allow modeltoapi() to extract correct labels for predictions in your deployed API\n",
        "import pandas as pd\n",
        "y_train = pd.get_dummies(y_train_labels)\n",
        "\n",
        "#ensure column names are correct in one hot encoded target for correct label extraction\n",
        "list(y_train.columns)"
      ],
      "metadata": {
        "colab": {
          "base_uri": "https://localhost:8080/"
        },
        "id": "CR2M1xjwvHl3",
        "outputId": "7b3ee227-5ecf-4046-e3ae-8be0f986f250"
      },
      "execution_count": null,
      "outputs": [
        {
          "output_type": "execute_result",
          "data": {
            "text/plain": [
              "['Ankle boot',\n",
              " 'Bag',\n",
              " 'Coat',\n",
              " 'Dress',\n",
              " 'Pullover',\n",
              " 'Sandal',\n",
              " 'Shirt',\n",
              " 'Sneaker',\n",
              " 'T-shirt/top',\n",
              " 'Trouser']"
            ]
          },
          "metadata": {},
          "execution_count": 9
        }
      ]
    },
    {
      "cell_type": "code",
      "metadata": {
        "id": "Y-YKEcvDNmD3"
      },
      "source": [
        "#Set up arguments for Model Playground deployment\n",
        "import pandas as pd \n",
        "\n",
        "model_filepath=\"model.onnx\"\n",
        "preprocessor_filepath=\"preprocessor.zip\"\n",
        "exampledata_filepath = \"fashion_mnist_quickstart_materials/example_data\" "
      ],
      "execution_count": null,
      "outputs": []
    },
    {
      "cell_type": "code",
      "metadata": {
        "colab": {
          "base_uri": "https://localhost:8080/"
        },
        "id": "T8C6IlYTFN5t",
        "outputId": "c480cff8-44eb-4dca-b52c-c563db33816b"
      },
      "source": [
        "from aimodelshare import ModelPlayground\n",
        "\n",
        "#Instantiate ModelPlayground() Class\n",
        "\n",
        "myplayground=ModelPlayground(model_type=\"image\", classification=True, private=False)\n",
        "\n",
        "# Create Model Playground (generates live rest api and web-app for your model/preprocessor)\n",
        "\n",
        "myplayground.deploy(model_filepath, preprocessor_filepath, y_train, exampledata_filepath) "
      ],
      "execution_count": null,
      "outputs": [
        {
          "output_type": "stream",
          "name": "stdout",
          "text": [
            "We need some information about your model before we can build your REST API and interactive Model Playground.\n",
            "   \n",
            "Model Name (for AI Model Share Website):fashion mnist\n",
            "Model Description (Explain what your model does and \n",
            " why end-users would find your model useful):test\n",
            "Model Key Words (Search categories that describe your model, separated with commas):test\n",
            "   \n",
            "Creating your prediction API. (This process may take several minutes.)\n",
            "\n",
            "[=====================================] Progress: 100% - Complete!                                            \n",
            "\n",
            "Success! Your Model Playground was created in 72 seconds. \n",
            " Playground Url: \"https://jews5enyfk.execute-api.us-east-1.amazonaws.com/prod/m\"\n",
            "\n",
            "You can now use your Model Playground.\n",
            "\n",
            "Follow this link to explore your Model Playground's functionality\n",
            "You can make predictions with the Dashboard and access example code from the Programmatic tab.\n",
            "https://www.modelshare.org/detail/model:1232\n"
          ]
        }
      ]
    },
    {
      "cell_type": "markdown",
      "metadata": {
        "id": "Eb9dfUFHhLr-"
      },
      "source": [
        "## **Use your new Model Playground!**\n",
        "\n",
        "Follow the link in the output above to:\n",
        "- Generate predictions with your interactive web dashboard\n",
        "- Access example code in Python, R, and Curl\n",
        "\n",
        "Or, follow the rest of the tutorial to create a competition for your Model Playground and: \n",
        "- Access verified model performance metrics \n",
        "- Upload multiple models to a leaderboard \n",
        "- Easily compare model performance & structure "
      ]
    },
    {
      "cell_type": "markdown",
      "metadata": {
        "id": "9YpyLkQNfqSI"
      },
      "source": [
        "## **Part 2: Create a Competition**\n",
        "\n",
        "-------\n",
        "\n",
        "After deploying your Model Playground, you can now create a competition. \n",
        "\n",
        "Creating a competition allows you to:\n",
        "1. Verify the model performance metrics on aimodelshare.org\n",
        "2. Submit models to a leaderboard\n",
        "3. Grant access to other users to submit models to the leaderboard\n",
        "4. Easily compare model performance and structure "
      ]
    },
    {
      "cell_type": "code",
      "metadata": {
        "colab": {
          "base_uri": "https://localhost:8080/"
        },
        "id": "pmklVtx1dFXB",
        "outputId": "234918a9-e8dd-43e7-b23a-faf4a3959b87"
      },
      "source": [
        "#Download competition image data and a list of y_test labels to use to evaluate model prediction submissions\n",
        "import aimodelshare as ai\n",
        "keras_model_2, y_test_labels = ai.import_quickstart_data(\"mnist\", \"competition\")"
      ],
      "execution_count": null,
      "outputs": [
        {
          "output_type": "stream",
          "name": "stdout",
          "text": [
            "Downloading [================================================>]\n",
            "\n",
            "Data downloaded successfully.\n",
            "\n",
            "Preparing downloaded files for use...\n",
            "\n",
            "Success! Your Quick Start materials have been downloaded. \n",
            "You are now ready to run the tutorial.\n"
          ]
        }
      ]
    },
    {
      "cell_type": "code",
      "metadata": {
        "id": "Zr_aNRhhDJAM"
      },
      "source": [
        "# Create list of authorized participants for competition\n",
        "# Note that participants should use the same email address when creating modelshare.org account\n",
        "\n",
        "emaillist=[\"emailaddress1@email.com\", \"emailaddress2@email.com\", \"emailaddress3@email.com\"]"
      ],
      "execution_count": null,
      "outputs": []
    },
    {
      "cell_type": "code",
      "metadata": {
        "colab": {
          "base_uri": "https://localhost:8080/"
        },
        "id": "o2nKrLAMgc9o",
        "outputId": "6bf35f84-5571-457d-eb2b-97eddc959974"
      },
      "source": [
        "# Create Competition\n",
        "# Note -- Make competition public (allow any AI Model Share user to submit models) \n",
        "# .... by excluding the email_list argument and including the 'public=True' argument \n",
        "\n",
        "myplayground.create_competition(data_directory='fashion_mnist_competition_data', \n",
        "                                y_test = y_test_labels, \n",
        "                                email_list=emaillist)\n",
        "                             #   public = True)"
      ],
      "execution_count": null,
      "outputs": [
        {
          "output_type": "stream",
          "name": "stdout",
          "text": [
            "\n",
            "--INPUT COMPETITION DETAILS--\n",
            "\n",
            "Enter competition name:mnist competition\n",
            "Enter competition description:test\n",
            "\n",
            "--INPUT DATA DETAILS--\n",
            "\n",
            "Note: (optional) Save an optional LICENSE.txt file in your competition data directory to make users aware of any restrictions on data sharing/usage.\n",
            "\n",
            "Enter data description (i.e.- filenames denoting training and test data, file types, and any subfolders where files are stored):test\n",
            "Enter optional data license descriptive name (e.g.- 'MIT, Apache 2.0, CC0, Other, etc.'):\n",
            "Uploading your data. Please wait for a confirmation message.\n",
            "\n",
            " Success! Model competition created. \n",
            "\n",
            "You may now update your prediction API runtime model and verify evaluation metrics with the update_runtime_model() function.\n",
            "\n",
            "To upload new models and/or preprocessors to this API, team members should use \n",
            "the following credentials:\n",
            "\n",
            "apiurl='https://jews5enyfk.execute-api.us-east-1.amazonaws.com/prod/m'\n",
            "from aimodelshare.aws import set_credentials\n",
            "set_credentials(apiurl=apiurl)\n",
            "\n",
            "They can then submit models to your competition by using the following code: \n",
            "\n",
            "competition= ai.Competition(apiurl)\n",
            "download_data('public.ecr.aws/y2e2a1d6/fashion_mnist_competition_data-repository:v1') \n",
            "# Use this data to preprocess data and train model. Write and save preprocessor fxn, save model to onnx file, generate predicted y values\n",
            " using X test data, then submit a model below.\n",
            "\n",
            "competition.submit_model(model_filepath, preprocessor_filepath, prediction_submission_list)\n"
          ]
        }
      ]
    },
    {
      "cell_type": "code",
      "metadata": {
        "id": "SAJJWhdAfyo5"
      },
      "source": [
        "#Instantiate Competition\n",
        "#--Note: If you start a new session, the first argument should be the Model Playground url in quotes. \n",
        "#--e.g.- mycompetition= ai.Competition(\"https://2121212.execute-api.us-east-1.amazonaws.com/prod/m)\n",
        "#See Model Playground \"Compete\" tab for example model submission code.\n",
        "\n",
        "mycompetition= ai.Competition(myplayground.playground_url)"
      ],
      "execution_count": null,
      "outputs": []
    },
    {
      "cell_type": "code",
      "metadata": {
        "id": "q6Rfl0VwDPz2"
      },
      "source": [
        "# Add, remove, or completely update authorized participants for competition later\n",
        "emaillist=[\"emailaddress4@gmail.com\"]\n",
        "\n",
        "mycompetition.update_access_list(email_list=emaillist,update_type=\"Add\")"
      ],
      "execution_count": null,
      "outputs": []
    },
    {
      "cell_type": "markdown",
      "metadata": {
        "id": "mqyzWZPwgoEH"
      },
      "source": [
        "Submit Models"
      ]
    },
    {
      "cell_type": "code",
      "metadata": {
        "id": "BTR-QETYdwbZ"
      },
      "source": [
        "# Preprocess X_test image data to generate predictions from models \n",
        "import numpy as np\n",
        "\n",
        "file_names = [('fashion_mnist_competition_data/test_data/test_' + str(i) + '.jpeg') for i in range(10000)]\n",
        "\n",
        "preprocessed_image_data = [preprocessor(x) for x in file_names]\n",
        "\n",
        "#Create single X_test array from preprocessed images\n",
        "X_test = np.vstack(preprocessed_image_data) \n",
        "\n",
        "# One-hot encode y_train labels (y_train.columns used to generate prediction labels below)\n",
        "import pandas as pd\n",
        "y_train = pd.get_dummies(y_train_labels)"
      ],
      "execution_count": null,
      "outputs": []
    },
    {
      "cell_type": "code",
      "metadata": {
        "colab": {
          "base_uri": "https://localhost:8080/"
        },
        "id": "sJgu9K92DS8O",
        "outputId": "bbae3bdb-1c93-4d8d-fb65-825c1b218569"
      },
      "source": [
        "#Authorized users can submit new models after setting credentials using modelshare.org username/password\n",
        "from aimodelshare.aws import set_credentials \n",
        "\n",
        "apiurl=myplayground.playground_url # example url from deployed playground: apiurl= \"https://123456.execute-api.us-east-1.amazonaws.com/prod/m\n",
        "\n",
        "set_credentials(apiurl=apiurl)"
      ],
      "execution_count": null,
      "outputs": [
        {
          "output_type": "stream",
          "name": "stdout",
          "text": [
            "AI Modelshare Username:··········\n",
            "AI Modelshare Password:··········\n",
            "AI Model Share login credentials set successfully.\n"
          ]
        }
      ]
    },
    {
      "cell_type": "code",
      "metadata": {
        "colab": {
          "base_uri": "https://localhost:8080/"
        },
        "id": "pJC2jl2PgfTf",
        "outputId": "e4fede19-bc03-4470-ce13-6bea2f2ad21c"
      },
      "source": [
        "#Submit Model 1: \n",
        "\n",
        "#-- Generate predicted y values (Model 1)\n",
        "#Note: Keras predict returns the predicted column index location for classification models\n",
        "prediction_column_index=keras_model.predict(X_test).argmax(axis=1)\n",
        "\n",
        "# extract correct prediction labels \n",
        "prediction_labels = [y_train.columns[i] for i in prediction_column_index]\n",
        "\n",
        "# Submit Model 1 to Competition Leaderboard\n",
        "mycompetition.submit_model(model_filepath = \"model.onnx\",\n",
        "                                 preprocessor_filepath=\"preprocessor.zip\",\n",
        "                                 prediction_submission=prediction_labels)"
      ],
      "execution_count": null,
      "outputs": [
        {
          "output_type": "stream",
          "name": "stdout",
          "text": [
            "Insert search tags to help users find your model (optional): \n",
            "Provide any useful notes about your model (optional): \n",
            "\n",
            "Your model has been submitted as model version 1\n",
            "\n",
            "To submit code used to create this model or to view current leaderboard navigate to Model Playground: \n",
            "\n",
            " https://www.modelshare.org/detail/model:1063\n"
          ]
        }
      ]
    },
    {
      "cell_type": "code",
      "metadata": {
        "colab": {
          "base_uri": "https://localhost:8080/"
        },
        "id": "hpzXNVPTop-O",
        "outputId": "af0f1de2-ac22-4609-ebe0-8dc598d78828"
      },
      "source": [
        "# Have a look at architecture for model two\n",
        "keras_model_2.summary()"
      ],
      "execution_count": null,
      "outputs": [
        {
          "output_type": "stream",
          "name": "stdout",
          "text": [
            "Model: \"sequential_9\"\n",
            "_________________________________________________________________\n",
            " Layer (type)                Output Shape              Param #   \n",
            "=================================================================\n",
            " dense_20 (Dense)            (None, 28, 28, 64)        256       \n",
            "                                                                 \n",
            " dense_21 (Dense)            (None, 28, 28, 64)        4160      \n",
            "                                                                 \n",
            " flatten_8 (Flatten)         (None, 50176)             0         \n",
            "                                                                 \n",
            " dense_22 (Dense)            (None, 10)                501770    \n",
            "                                                                 \n",
            "=================================================================\n",
            "Total params: 506,186\n",
            "Trainable params: 506,186\n",
            "Non-trainable params: 0\n",
            "_________________________________________________________________\n"
          ]
        }
      ]
    },
    {
      "cell_type": "code",
      "metadata": {
        "id": "jraPDdsNX46e"
      },
      "source": [
        "# Save Model 2 to .onnx file\n",
        "\n",
        "# Save tf.keras model to ONNX file\n",
        "onnx_cnn2 = model_to_onnx(keras_model_2, framework='keras',\n",
        "                          transfer_learning=False,\n",
        "                          deep_learning=True)\n",
        "\n",
        "# Save model to local .onnx file\n",
        "with open(\"model_2.onnx\", \"wb\") as f:\n",
        "    f.write(onnx_cnn2.SerializeToString()) "
      ],
      "execution_count": null,
      "outputs": []
    },
    {
      "cell_type": "code",
      "metadata": {
        "colab": {
          "base_uri": "https://localhost:8080/"
        },
        "id": "Cme7T_gaYWlD",
        "outputId": "56f7af11-b7c8-410b-e07f-cfc95c6d5c96"
      },
      "source": [
        "# Submit Model 2\n",
        "\n",
        "#-- Generate predicted y values (Model 2)\n",
        "prediction_column_index=keras_model_2.predict(X_test).argmax(axis=1)\n",
        "\n",
        "# extract correct prediction labels \n",
        "prediction_labels = [y_train.columns[i] for i in prediction_column_index]\n",
        "\n",
        "# Submit Model 2 to Competition Leaderboard\n",
        "mycompetition.submit_model(model_filepath = \"model_2.onnx\",\n",
        "                                 prediction_submission=prediction_labels,\n",
        "                                 preprocessor_filepath=\"preprocessor.zip\")"
      ],
      "execution_count": null,
      "outputs": [
        {
          "output_type": "stream",
          "name": "stdout",
          "text": [
            "Insert search tags to help users find your model (optional): \n",
            "Provide any useful notes about your model (optional): \n",
            "\n",
            "Your model has been submitted as model version 2\n",
            "\n",
            "To submit code used to create this model or to view current leaderboard navigate to Model Playground: \n",
            "\n",
            " https://www.modelshare.org/detail/model:1063\n"
          ]
        }
      ]
    },
    {
      "cell_type": "markdown",
      "metadata": {
        "id": "iLYlCkWchWC_"
      },
      "source": [
        "Get Leaderboard"
      ]
    },
    {
      "cell_type": "code",
      "metadata": {
        "colab": {
          "base_uri": "https://localhost:8080/",
          "height": 169
        },
        "id": "J0-B1h0chYDL",
        "outputId": "7a1cc653-8db1-4d3e-d66e-bd050f088ec5"
      },
      "source": [
        "data = mycompetition.get_leaderboard()\n",
        "mycompetition.stylize_leaderboard(data)"
      ],
      "execution_count": null,
      "outputs": [
        {
          "output_type": "execute_result",
          "data": {
            "text/html": [
              "<style  type=\"text/css\" >\n",
              "#T_0b8126ee_6f2e_11ec_8abe_0242ac1c0002row0_col0{\n",
              "            text-align:  center;\n",
              "            width:  10em;\n",
              "             height:  80%;\n",
              "            background:  linear-gradient(90deg,#f5f8d6 84.5%, transparent 84.5%);\n",
              "            color:  #251e1b;\n",
              "            font-size:  12px;\n",
              "        }#T_0b8126ee_6f2e_11ec_8abe_0242ac1c0002row0_col1{\n",
              "            text-align:  center;\n",
              "            width:  10em;\n",
              "             height:  80%;\n",
              "            background:  linear-gradient(90deg,#c778c8 84.4%, transparent 84.4%);\n",
              "            color:  #251e1b;\n",
              "            font-size:  12px;\n",
              "        }#T_0b8126ee_6f2e_11ec_8abe_0242ac1c0002row0_col2{\n",
              "            text-align:  center;\n",
              "            width:  10em;\n",
              "             height:  80%;\n",
              "            background:  linear-gradient(90deg,#ff4971 85.6%, transparent 85.6%);\n",
              "            color:  #251e1b;\n",
              "            font-size:  12px;\n",
              "        }#T_0b8126ee_6f2e_11ec_8abe_0242ac1c0002row0_col3{\n",
              "            text-align:  center;\n",
              "            width:  10em;\n",
              "             height:  80%;\n",
              "            background:  linear-gradient(90deg,#aadbaa 84.5%, transparent 84.5%);\n",
              "            color:  #251e1b;\n",
              "            font-size:  12px;\n",
              "        }#T_0b8126ee_6f2e_11ec_8abe_0242ac1c0002row0_col4,#T_0b8126ee_6f2e_11ec_8abe_0242ac1c0002row0_col5,#T_0b8126ee_6f2e_11ec_8abe_0242ac1c0002row0_col6,#T_0b8126ee_6f2e_11ec_8abe_0242ac1c0002row0_col7,#T_0b8126ee_6f2e_11ec_8abe_0242ac1c0002row0_col8,#T_0b8126ee_6f2e_11ec_8abe_0242ac1c0002row0_col9,#T_0b8126ee_6f2e_11ec_8abe_0242ac1c0002row0_col10,#T_0b8126ee_6f2e_11ec_8abe_0242ac1c0002row0_col11,#T_0b8126ee_6f2e_11ec_8abe_0242ac1c0002row0_col12,#T_0b8126ee_6f2e_11ec_8abe_0242ac1c0002row0_col13,#T_0b8126ee_6f2e_11ec_8abe_0242ac1c0002row0_col14,#T_0b8126ee_6f2e_11ec_8abe_0242ac1c0002row0_col15,#T_0b8126ee_6f2e_11ec_8abe_0242ac1c0002row0_col16,#T_0b8126ee_6f2e_11ec_8abe_0242ac1c0002row0_col17,#T_0b8126ee_6f2e_11ec_8abe_0242ac1c0002row0_col18,#T_0b8126ee_6f2e_11ec_8abe_0242ac1c0002row0_col19,#T_0b8126ee_6f2e_11ec_8abe_0242ac1c0002row1_col4,#T_0b8126ee_6f2e_11ec_8abe_0242ac1c0002row1_col5,#T_0b8126ee_6f2e_11ec_8abe_0242ac1c0002row1_col6,#T_0b8126ee_6f2e_11ec_8abe_0242ac1c0002row1_col7,#T_0b8126ee_6f2e_11ec_8abe_0242ac1c0002row1_col8,#T_0b8126ee_6f2e_11ec_8abe_0242ac1c0002row1_col9,#T_0b8126ee_6f2e_11ec_8abe_0242ac1c0002row1_col10,#T_0b8126ee_6f2e_11ec_8abe_0242ac1c0002row1_col11,#T_0b8126ee_6f2e_11ec_8abe_0242ac1c0002row1_col12,#T_0b8126ee_6f2e_11ec_8abe_0242ac1c0002row1_col13,#T_0b8126ee_6f2e_11ec_8abe_0242ac1c0002row1_col14,#T_0b8126ee_6f2e_11ec_8abe_0242ac1c0002row1_col15,#T_0b8126ee_6f2e_11ec_8abe_0242ac1c0002row1_col16,#T_0b8126ee_6f2e_11ec_8abe_0242ac1c0002row1_col17,#T_0b8126ee_6f2e_11ec_8abe_0242ac1c0002row1_col18,#T_0b8126ee_6f2e_11ec_8abe_0242ac1c0002row1_col19{\n",
              "            text-align:  center;\n",
              "        }#T_0b8126ee_6f2e_11ec_8abe_0242ac1c0002row1_col0{\n",
              "            text-align:  center;\n",
              "            width:  10em;\n",
              "             height:  80%;\n",
              "            background:  linear-gradient(90deg,#f5f8d6 82.2%, transparent 82.2%);\n",
              "            color:  #251e1b;\n",
              "            font-size:  12px;\n",
              "        }#T_0b8126ee_6f2e_11ec_8abe_0242ac1c0002row1_col1{\n",
              "            text-align:  center;\n",
              "            width:  10em;\n",
              "             height:  80%;\n",
              "            background:  linear-gradient(90deg,#c778c8 82.1%, transparent 82.1%);\n",
              "            color:  #251e1b;\n",
              "            font-size:  12px;\n",
              "        }#T_0b8126ee_6f2e_11ec_8abe_0242ac1c0002row1_col2{\n",
              "            text-align:  center;\n",
              "            width:  10em;\n",
              "             height:  80%;\n",
              "            background:  linear-gradient(90deg,#ff4971 84.4%, transparent 84.4%);\n",
              "            color:  #251e1b;\n",
              "            font-size:  12px;\n",
              "        }#T_0b8126ee_6f2e_11ec_8abe_0242ac1c0002row1_col3{\n",
              "            text-align:  center;\n",
              "            width:  10em;\n",
              "             height:  80%;\n",
              "            background:  linear-gradient(90deg,#aadbaa 82.2%, transparent 82.2%);\n",
              "            color:  #251e1b;\n",
              "            font-size:  12px;\n",
              "        }</style><table id=\"T_0b8126ee_6f2e_11ec_8abe_0242ac1c0002\" class=\"dataframe\"><thead>    <tr>        <th class=\"blank level0\" ></th>        <th class=\"col_heading level0 col0\" >accuracy</th>        <th class=\"col_heading level0 col1\" >f1_score</th>        <th class=\"col_heading level0 col2\" >precision</th>        <th class=\"col_heading level0 col3\" >recall</th>        <th class=\"col_heading level0 col4\" >ml_framework</th>        <th class=\"col_heading level0 col5\" >transfer_learning</th>        <th class=\"col_heading level0 col6\" >deep_learning</th>        <th class=\"col_heading level0 col7\" >model_type</th>        <th class=\"col_heading level0 col8\" >depth</th>        <th class=\"col_heading level0 col9\" >num_params</th>        <th class=\"col_heading level0 col10\" >flatten_layers</th>        <th class=\"col_heading level0 col11\" >dense_layers</th>        <th class=\"col_heading level0 col12\" >softmax_act</th>        <th class=\"col_heading level0 col13\" >relu_act</th>        <th class=\"col_heading level0 col14\" >loss</th>        <th class=\"col_heading level0 col15\" >optimizer</th>        <th class=\"col_heading level0 col16\" >model_config</th>        <th class=\"col_heading level0 col17\" >memory_size</th>        <th class=\"col_heading level0 col18\" >username</th>        <th class=\"col_heading level0 col19\" >version</th>    </tr></thead><tbody>\n",
              "                <tr>\n",
              "                        <th id=\"T_0b8126ee_6f2e_11ec_8abe_0242ac1c0002level0_row0\" class=\"row_heading level0 row0\" >1</th>\n",
              "                        <td id=\"T_0b8126ee_6f2e_11ec_8abe_0242ac1c0002row0_col0\" class=\"data row0 col0\" >84.49%</td>\n",
              "                        <td id=\"T_0b8126ee_6f2e_11ec_8abe_0242ac1c0002row0_col1\" class=\"data row0 col1\" >84.42%</td>\n",
              "                        <td id=\"T_0b8126ee_6f2e_11ec_8abe_0242ac1c0002row0_col2\" class=\"data row0 col2\" >85.64%</td>\n",
              "                        <td id=\"T_0b8126ee_6f2e_11ec_8abe_0242ac1c0002row0_col3\" class=\"data row0 col3\" >84.49%</td>\n",
              "                        <td id=\"T_0b8126ee_6f2e_11ec_8abe_0242ac1c0002row0_col4\" class=\"data row0 col4\" >keras</td>\n",
              "                        <td id=\"T_0b8126ee_6f2e_11ec_8abe_0242ac1c0002row0_col5\" class=\"data row0 col5\" >False</td>\n",
              "                        <td id=\"T_0b8126ee_6f2e_11ec_8abe_0242ac1c0002row0_col6\" class=\"data row0 col6\" >True</td>\n",
              "                        <td id=\"T_0b8126ee_6f2e_11ec_8abe_0242ac1c0002row0_col7\" class=\"data row0 col7\" >Sequential</td>\n",
              "                        <td id=\"T_0b8126ee_6f2e_11ec_8abe_0242ac1c0002row0_col8\" class=\"data row0 col8\" >3</td>\n",
              "                        <td id=\"T_0b8126ee_6f2e_11ec_8abe_0242ac1c0002row0_col9\" class=\"data row0 col9\" >302474</td>\n",
              "                        <td id=\"T_0b8126ee_6f2e_11ec_8abe_0242ac1c0002row0_col10\" class=\"data row0 col10\" >1</td>\n",
              "                        <td id=\"T_0b8126ee_6f2e_11ec_8abe_0242ac1c0002row0_col11\" class=\"data row0 col11\" >2</td>\n",
              "                        <td id=\"T_0b8126ee_6f2e_11ec_8abe_0242ac1c0002row0_col12\" class=\"data row0 col12\" >nan</td>\n",
              "                        <td id=\"T_0b8126ee_6f2e_11ec_8abe_0242ac1c0002row0_col13\" class=\"data row0 col13\" >1</td>\n",
              "                        <td id=\"T_0b8126ee_6f2e_11ec_8abe_0242ac1c0002row0_col14\" class=\"data row0 col14\" >CategoricalCrossentropy</td>\n",
              "                        <td id=\"T_0b8126ee_6f2e_11ec_8abe_0242ac1c0002row0_col15\" class=\"data row0 col15\" >Adam</td>\n",
              "                        <td id=\"T_0b8126ee_6f2e_11ec_8abe_0242ac1c0002row0_col16\" class=\"data row0 col16\" >{'name': 'sequential', 'layers...</td>\n",
              "                        <td id=\"T_0b8126ee_6f2e_11ec_8abe_0242ac1c0002row0_col17\" class=\"data row0 col17\" >166064</td>\n",
              "                        <td id=\"T_0b8126ee_6f2e_11ec_8abe_0242ac1c0002row0_col18\" class=\"data row0 col18\" >gstreett</td>\n",
              "                        <td id=\"T_0b8126ee_6f2e_11ec_8abe_0242ac1c0002row0_col19\" class=\"data row0 col19\" >1</td>\n",
              "            </tr>\n",
              "            <tr>\n",
              "                        <th id=\"T_0b8126ee_6f2e_11ec_8abe_0242ac1c0002level0_row1\" class=\"row_heading level0 row1\" >2</th>\n",
              "                        <td id=\"T_0b8126ee_6f2e_11ec_8abe_0242ac1c0002row1_col0\" class=\"data row1 col0\" >82.18%</td>\n",
              "                        <td id=\"T_0b8126ee_6f2e_11ec_8abe_0242ac1c0002row1_col1\" class=\"data row1 col1\" >82.13%</td>\n",
              "                        <td id=\"T_0b8126ee_6f2e_11ec_8abe_0242ac1c0002row1_col2\" class=\"data row1 col2\" >84.44%</td>\n",
              "                        <td id=\"T_0b8126ee_6f2e_11ec_8abe_0242ac1c0002row1_col3\" class=\"data row1 col3\" >82.18%</td>\n",
              "                        <td id=\"T_0b8126ee_6f2e_11ec_8abe_0242ac1c0002row1_col4\" class=\"data row1 col4\" >keras</td>\n",
              "                        <td id=\"T_0b8126ee_6f2e_11ec_8abe_0242ac1c0002row1_col5\" class=\"data row1 col5\" >False</td>\n",
              "                        <td id=\"T_0b8126ee_6f2e_11ec_8abe_0242ac1c0002row1_col6\" class=\"data row1 col6\" >True</td>\n",
              "                        <td id=\"T_0b8126ee_6f2e_11ec_8abe_0242ac1c0002row1_col7\" class=\"data row1 col7\" >Sequential</td>\n",
              "                        <td id=\"T_0b8126ee_6f2e_11ec_8abe_0242ac1c0002row1_col8\" class=\"data row1 col8\" >4</td>\n",
              "                        <td id=\"T_0b8126ee_6f2e_11ec_8abe_0242ac1c0002row1_col9\" class=\"data row1 col9\" >506186</td>\n",
              "                        <td id=\"T_0b8126ee_6f2e_11ec_8abe_0242ac1c0002row1_col10\" class=\"data row1 col10\" >1</td>\n",
              "                        <td id=\"T_0b8126ee_6f2e_11ec_8abe_0242ac1c0002row1_col11\" class=\"data row1 col11\" >3</td>\n",
              "                        <td id=\"T_0b8126ee_6f2e_11ec_8abe_0242ac1c0002row1_col12\" class=\"data row1 col12\" >1.000000</td>\n",
              "                        <td id=\"T_0b8126ee_6f2e_11ec_8abe_0242ac1c0002row1_col13\" class=\"data row1 col13\" >2</td>\n",
              "                        <td id=\"T_0b8126ee_6f2e_11ec_8abe_0242ac1c0002row1_col14\" class=\"data row1 col14\" >function</td>\n",
              "                        <td id=\"T_0b8126ee_6f2e_11ec_8abe_0242ac1c0002row1_col15\" class=\"data row1 col15\" >RMSprop</td>\n",
              "                        <td id=\"T_0b8126ee_6f2e_11ec_8abe_0242ac1c0002row1_col16\" class=\"data row1 col16\" >{'name': 'sequential_9', 'laye...</td>\n",
              "                        <td id=\"T_0b8126ee_6f2e_11ec_8abe_0242ac1c0002row1_col17\" class=\"data row1 col17\" >180376</td>\n",
              "                        <td id=\"T_0b8126ee_6f2e_11ec_8abe_0242ac1c0002row1_col18\" class=\"data row1 col18\" >gstreett</td>\n",
              "                        <td id=\"T_0b8126ee_6f2e_11ec_8abe_0242ac1c0002row1_col19\" class=\"data row1 col19\" >2</td>\n",
              "            </tr>\n",
              "    </tbody></table>"
            ],
            "text/plain": [
              "<pandas.io.formats.style.Styler at 0x7fbe19f98750>"
            ]
          },
          "metadata": {},
          "execution_count": 22
        }
      ]
    },
    {
      "cell_type": "markdown",
      "metadata": {
        "id": "g_bklL3shOER"
      },
      "source": [
        "Compare Models"
      ]
    },
    {
      "cell_type": "code",
      "metadata": {
        "colab": {
          "base_uri": "https://localhost:8080/",
          "height": 126
        },
        "id": "quo_V3A3hNS3",
        "outputId": "b7c304e3-cb90-4593-e262-9c496c610044"
      },
      "source": [
        "# Compare two or more models \n",
        "data=mycompetition.compare_models([1,2], verbose=1)\n",
        "mycompetition.stylize_compare(data)"
      ],
      "execution_count": null,
      "outputs": [
        {
          "output_type": "display_data",
          "data": {
            "text/html": [
              "<style  type=\"text/css\" >\n",
              "    #T_0cffc1ce_6f2e_11ec_8abe_0242ac1c0002 caption {\n",
              "          color: black;\n",
              "          font-size: 18px;\n",
              "    }#T_0cffc1ce_6f2e_11ec_8abe_0242ac1c0002row0_col0,#T_0cffc1ce_6f2e_11ec_8abe_0242ac1c0002row2_col3{\n",
              "            background:  #e6f5c9;\n",
              "            color:  black;\n",
              "            color:  black;\n",
              "        }#T_0cffc1ce_6f2e_11ec_8abe_0242ac1c0002row0_col1,#T_0cffc1ce_6f2e_11ec_8abe_0242ac1c0002row0_col2,#T_0cffc1ce_6f2e_11ec_8abe_0242ac1c0002row0_col4,#T_0cffc1ce_6f2e_11ec_8abe_0242ac1c0002row0_col5,#T_0cffc1ce_6f2e_11ec_8abe_0242ac1c0002row1_col1,#T_0cffc1ce_6f2e_11ec_8abe_0242ac1c0002row1_col2,#T_0cffc1ce_6f2e_11ec_8abe_0242ac1c0002row1_col4,#T_0cffc1ce_6f2e_11ec_8abe_0242ac1c0002row1_col5,#T_0cffc1ce_6f2e_11ec_8abe_0242ac1c0002row2_col1,#T_0cffc1ce_6f2e_11ec_8abe_0242ac1c0002row2_col2,#T_0cffc1ce_6f2e_11ec_8abe_0242ac1c0002row2_col4,#T_0cffc1ce_6f2e_11ec_8abe_0242ac1c0002row2_col5,#T_0cffc1ce_6f2e_11ec_8abe_0242ac1c0002row3_col0,#T_0cffc1ce_6f2e_11ec_8abe_0242ac1c0002row3_col1,#T_0cffc1ce_6f2e_11ec_8abe_0242ac1c0002row3_col2,#T_0cffc1ce_6f2e_11ec_8abe_0242ac1c0002row3_col4,#T_0cffc1ce_6f2e_11ec_8abe_0242ac1c0002row3_col5{\n",
              "            background:  white;\n",
              "            color:  black;\n",
              "            color:  black;\n",
              "        }#T_0cffc1ce_6f2e_11ec_8abe_0242ac1c0002row0_col3,#T_0cffc1ce_6f2e_11ec_8abe_0242ac1c0002row1_col0,#T_0cffc1ce_6f2e_11ec_8abe_0242ac1c0002row1_col3,#T_0cffc1ce_6f2e_11ec_8abe_0242ac1c0002row2_col0,#T_0cffc1ce_6f2e_11ec_8abe_0242ac1c0002row3_col3{\n",
              "            background:  #fff2ae;\n",
              "            color:  black;\n",
              "            color:  black;\n",
              "        }</style><table id=\"T_0cffc1ce_6f2e_11ec_8abe_0242ac1c0002\" ><caption>Model type: Neural Network</caption><thead>    <tr>        <th class=\"blank level0\" ></th>        <th class=\"col_heading level0 col0\" >Model_1_Layer</th>        <th class=\"col_heading level0 col1\" >Model_1_Shape</th>        <th class=\"col_heading level0 col2\" >Model_1_Params</th>        <th class=\"col_heading level0 col3\" >Model_2_Layer</th>        <th class=\"col_heading level0 col4\" >Model_2_Shape</th>        <th class=\"col_heading level0 col5\" >Model_2_Params</th>    </tr></thead><tbody>\n",
              "                <tr>\n",
              "                        <th id=\"T_0cffc1ce_6f2e_11ec_8abe_0242ac1c0002level0_row0\" class=\"row_heading level0 row0\" >0</th>\n",
              "                        <td id=\"T_0cffc1ce_6f2e_11ec_8abe_0242ac1c0002row0_col0\" class=\"data row0 col0\" >Flatten</td>\n",
              "                        <td id=\"T_0cffc1ce_6f2e_11ec_8abe_0242ac1c0002row0_col1\" class=\"data row0 col1\" >[None, 2352]</td>\n",
              "                        <td id=\"T_0cffc1ce_6f2e_11ec_8abe_0242ac1c0002row0_col2\" class=\"data row0 col2\" >0.000000</td>\n",
              "                        <td id=\"T_0cffc1ce_6f2e_11ec_8abe_0242ac1c0002row0_col3\" class=\"data row0 col3\" >Dense</td>\n",
              "                        <td id=\"T_0cffc1ce_6f2e_11ec_8abe_0242ac1c0002row0_col4\" class=\"data row0 col4\" >[None, 28, 28, 64]</td>\n",
              "                        <td id=\"T_0cffc1ce_6f2e_11ec_8abe_0242ac1c0002row0_col5\" class=\"data row0 col5\" >256</td>\n",
              "            </tr>\n",
              "            <tr>\n",
              "                        <th id=\"T_0cffc1ce_6f2e_11ec_8abe_0242ac1c0002level0_row1\" class=\"row_heading level0 row1\" >1</th>\n",
              "                        <td id=\"T_0cffc1ce_6f2e_11ec_8abe_0242ac1c0002row1_col0\" class=\"data row1 col0\" >Dense</td>\n",
              "                        <td id=\"T_0cffc1ce_6f2e_11ec_8abe_0242ac1c0002row1_col1\" class=\"data row1 col1\" >[None, 128]</td>\n",
              "                        <td id=\"T_0cffc1ce_6f2e_11ec_8abe_0242ac1c0002row1_col2\" class=\"data row1 col2\" >301184.000000</td>\n",
              "                        <td id=\"T_0cffc1ce_6f2e_11ec_8abe_0242ac1c0002row1_col3\" class=\"data row1 col3\" >Dense</td>\n",
              "                        <td id=\"T_0cffc1ce_6f2e_11ec_8abe_0242ac1c0002row1_col4\" class=\"data row1 col4\" >[None, 28, 28, 64]</td>\n",
              "                        <td id=\"T_0cffc1ce_6f2e_11ec_8abe_0242ac1c0002row1_col5\" class=\"data row1 col5\" >4160</td>\n",
              "            </tr>\n",
              "            <tr>\n",
              "                        <th id=\"T_0cffc1ce_6f2e_11ec_8abe_0242ac1c0002level0_row2\" class=\"row_heading level0 row2\" >2</th>\n",
              "                        <td id=\"T_0cffc1ce_6f2e_11ec_8abe_0242ac1c0002row2_col0\" class=\"data row2 col0\" >Dense</td>\n",
              "                        <td id=\"T_0cffc1ce_6f2e_11ec_8abe_0242ac1c0002row2_col1\" class=\"data row2 col1\" >[None, 10]</td>\n",
              "                        <td id=\"T_0cffc1ce_6f2e_11ec_8abe_0242ac1c0002row2_col2\" class=\"data row2 col2\" >1290.000000</td>\n",
              "                        <td id=\"T_0cffc1ce_6f2e_11ec_8abe_0242ac1c0002row2_col3\" class=\"data row2 col3\" >Flatten</td>\n",
              "                        <td id=\"T_0cffc1ce_6f2e_11ec_8abe_0242ac1c0002row2_col4\" class=\"data row2 col4\" >[None, 50176]</td>\n",
              "                        <td id=\"T_0cffc1ce_6f2e_11ec_8abe_0242ac1c0002row2_col5\" class=\"data row2 col5\" >0</td>\n",
              "            </tr>\n",
              "            <tr>\n",
              "                        <th id=\"T_0cffc1ce_6f2e_11ec_8abe_0242ac1c0002level0_row3\" class=\"row_heading level0 row3\" >3</th>\n",
              "                        <td id=\"T_0cffc1ce_6f2e_11ec_8abe_0242ac1c0002row3_col0\" class=\"data row3 col0\" >None</td>\n",
              "                        <td id=\"T_0cffc1ce_6f2e_11ec_8abe_0242ac1c0002row3_col1\" class=\"data row3 col1\" >None</td>\n",
              "                        <td id=\"T_0cffc1ce_6f2e_11ec_8abe_0242ac1c0002row3_col2\" class=\"data row3 col2\" >nan</td>\n",
              "                        <td id=\"T_0cffc1ce_6f2e_11ec_8abe_0242ac1c0002row3_col3\" class=\"data row3 col3\" >Dense</td>\n",
              "                        <td id=\"T_0cffc1ce_6f2e_11ec_8abe_0242ac1c0002row3_col4\" class=\"data row3 col4\" >[None, 10]</td>\n",
              "                        <td id=\"T_0cffc1ce_6f2e_11ec_8abe_0242ac1c0002row3_col5\" class=\"data row3 col5\" >501770</td>\n",
              "            </tr>\n",
              "    </tbody></table>"
            ],
            "text/plain": [
              "<IPython.core.display.HTML object>"
            ]
          },
          "metadata": {}
        }
      ]
    },
    {
      "cell_type": "markdown",
      "metadata": {
        "id": "FKm9ugiBhQFn"
      },
      "source": [
        "#### Check structure of y test data \n",
        "(This helps users understand how to submit predicted values to leaderboard)"
      ]
    },
    {
      "cell_type": "code",
      "metadata": {
        "colab": {
          "base_uri": "https://localhost:8080/"
        },
        "id": "dqY82D22hPZx",
        "outputId": "92fed1b1-c7ea-463b-9288-3a886d85b528"
      },
      "source": [
        "mycompetition.inspect_y_test()"
      ],
      "execution_count": null,
      "outputs": [
        {
          "output_type": "execute_result",
          "data": {
            "text/plain": [
              "{'class_balance': {'Ankle boot': 1000,\n",
              "  'Bag': 1000,\n",
              "  'Coat': 1000,\n",
              "  'Dress': 1000,\n",
              "  'Pullover': 1000,\n",
              "  'Sandal': 1000,\n",
              "  'Shirt': 1000,\n",
              "  'Sneaker': 1000,\n",
              "  'T-shirt/top': 1000,\n",
              "  'Trouser': 1000},\n",
              " 'class_labels': ['Dress',\n",
              "  'Ankle boot',\n",
              "  'Trouser',\n",
              "  'Sneaker',\n",
              "  'T-shirt/top',\n",
              "  'Bag',\n",
              "  'Pullover',\n",
              "  'Coat',\n",
              "  'Shirt',\n",
              "  'Sandal'],\n",
              " 'label_dtypes': {\"<class 'str'>\": 10000},\n",
              " 'y_length': 10000,\n",
              " 'ytest_example': ['Ankle boot', 'Pullover', 'Trouser', 'Trouser', 'Shirt']}"
            ]
          },
          "metadata": {},
          "execution_count": 24
        }
      ]
    },
    {
      "cell_type": "markdown",
      "metadata": {
        "id": "iA-nYjr7WCIp"
      },
      "source": [
        "## **Part 3: Maintaining your Model Playground**\n",
        "\n",
        "-------"
      ]
    },
    {
      "cell_type": "markdown",
      "metadata": {
        "id": "0UIWnHIXWM0F"
      },
      "source": [
        "Update Runtime model\n",
        "\n",
        "*Use this function to 1) update the prediction API behind your Model Playground with a new model, chosen from the leaderboard and 2) verify the modelperformance metrics in your Model Playground*"
      ]
    },
    {
      "cell_type": "code",
      "metadata": {
        "colab": {
          "base_uri": "https://localhost:8080/"
        },
        "id": "wAchpcGLWLxE",
        "outputId": "32b2731b-dd47-4c65-8c84-c3c531b6101c"
      },
      "source": [
        "myplayground.update_runtime_model(model_version=1)"
      ],
      "execution_count": null,
      "outputs": [
        {
          "output_type": "stream",
          "name": "stdout",
          "text": [
            "Runtime model & preprocessor for api: https://v8b17vi6oj.execute-api.us-east-1.amazonaws.com/prod/m updated to model version 1.\n",
            "\n",
            "Model metrics are now updated and verified for this model playground.\n"
          ]
        }
      ]
    },
    {
      "cell_type": "markdown",
      "metadata": {
        "id": "xhJRaiN-WaO1"
      },
      "source": [
        "Delete Deployment \n",
        "\n",
        "*Use this function to delete the entire Model Playground, including the REST API, web dashboard, competition, and all submitted models*"
      ]
    },
    {
      "cell_type": "code",
      "metadata": {
        "colab": {
          "base_uri": "https://localhost:8080/",
          "height": 109
        },
        "id": "mCkf-exLWyDK",
        "outputId": "f3b7bf57-c879-462e-f68d-0d296d993182"
      },
      "source": [
        "myplayground.delete_deployment()"
      ],
      "execution_count": null,
      "outputs": [
        {
          "name": "stdout",
          "output_type": "stream",
          "text": [
            "Running this function will permanently delete all resources tied to this deployment, \n",
            " including the eval lambda and all models submitted to the model competition.\n",
            "\n",
            "To confirm, type 'permanently delete':permanently delete\n"
          ]
        },
        {
          "output_type": "execute_result",
          "data": {
            "application/vnd.google.colaboratory.intrinsic+json": {
              "type": "string"
            },
            "text/plain": [
              "'API deleted successfully.'"
            ]
          },
          "metadata": {},
          "execution_count": 25
        }
      ]
    }
  ]
}