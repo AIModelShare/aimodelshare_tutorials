{
  "nbformat": 4,
  "nbformat_minor": 0,
  "metadata": {
    "colab": {
      "name": "Titanic Data Collaborative Model Learning.ipynb",
      "provenance": [],
      "collapsed_sections": []
    },
    "kernelspec": {
      "name": "python3",
      "display_name": "Python 3"
    },
    "language_info": {
      "name": "python"
    }
  },
  "cells": [
    {
      "cell_type": "markdown",
      "metadata": {
        "id": "JXxGTgJz152A"
      },
      "source": [
        "## Titanic Survival Prediction Competition\n",
        "Let's share our models to a centralized leaderboard, so that we can collaborate and learn from the model experimentation process...\n",
        "\n",
        "**Instructions:**\n",
        "1.   Get data in and set up X_train / X_test / y_train\n",
        "2.   Preprocess data using Sklearn Column Transformer / Write and Save Preprocessor function\n",
        "3. Fit model on preprocessed data and save preprocessor function and model \n",
        "4. Generate predictions from X_test data and submit model to competition\n",
        "5. Repeat submission process to improve place on leaderboard\n",
        "\n"
      ]
    },
    {
      "cell_type": "markdown",
      "metadata": {
        "id": "5gSrVJwp3E9H"
      },
      "source": [
        "## 1. Get data in and set up X_train, X_test, y_train objects"
      ]
    },
    {
      "cell_type": "code",
      "metadata": {
        "id": "PLTIaMB3ChSW"
      },
      "source": [
        "#install aimodelshare library\n",
        "! pip install aimodelshare --upgrade"
      ],
      "execution_count": null,
      "outputs": []
    },
    {
      "cell_type": "code",
      "metadata": {
        "colab": {
          "base_uri": "https://localhost:8080/"
        },
        "id": "d3PiJXBhC5y-",
        "outputId": "4e55bd50-2063-4846-cb4c-e45359f9ae14"
      },
      "source": [
        "# Get competition data\n",
        "from aimodelshare import download_data\n",
        "download_data(\"public.ecr.aws/x8e4b0t0/titanic_competition_data-repository:latest\")    "
      ],
      "execution_count": 2,
      "outputs": [
        {
          "output_type": "stream",
          "name": "stdout",
          "text": [
            "Downloading [=>                                               ]\n",
            "\n",
            "Data downloaded successfully.\n"
          ]
        }
      ]
    },
    {
      "cell_type": "code",
      "metadata": {
        "colab": {
          "base_uri": "https://localhost:8080/",
          "height": 206
        },
        "id": "jT0qFCZFNzHq",
        "outputId": "5e32bcd1-f200-4d85-fc69-d433009b4f0c"
      },
      "source": [
        "# Separate data into X_train, y_train, and X_test\n",
        "import pandas as pd\n",
        "full_training_data=pd.read_csv(\"titanic_competition_data/training_data.csv\")\n",
        "\n",
        "X_train=full_training_data.iloc[:,full_training_data.columns!='survived']\n",
        "X_test=pd.read_csv(\"titanic_competition_data/test_data.csv\")\n",
        "y_train=full_training_data['survived']\n",
        "\n",
        "X_train.head()"
      ],
      "execution_count": 3,
      "outputs": [
        {
          "output_type": "execute_result",
          "data": {
            "text/html": [
              "<div>\n",
              "<style scoped>\n",
              "    .dataframe tbody tr th:only-of-type {\n",
              "        vertical-align: middle;\n",
              "    }\n",
              "\n",
              "    .dataframe tbody tr th {\n",
              "        vertical-align: top;\n",
              "    }\n",
              "\n",
              "    .dataframe thead th {\n",
              "        text-align: right;\n",
              "    }\n",
              "</style>\n",
              "<table border=\"1\" class=\"dataframe\">\n",
              "  <thead>\n",
              "    <tr style=\"text-align: right;\">\n",
              "      <th></th>\n",
              "      <th>Unnamed: 0</th>\n",
              "      <th>Unnamed: 0.1</th>\n",
              "      <th>pclass</th>\n",
              "      <th>sex</th>\n",
              "      <th>age</th>\n",
              "      <th>fare</th>\n",
              "      <th>embarked</th>\n",
              "    </tr>\n",
              "  </thead>\n",
              "  <tbody>\n",
              "    <tr>\n",
              "      <th>0</th>\n",
              "      <td>1255</td>\n",
              "      <td>1255</td>\n",
              "      <td>3</td>\n",
              "      <td>male</td>\n",
              "      <td>NaN</td>\n",
              "      <td>7.2292</td>\n",
              "      <td>C</td>\n",
              "    </tr>\n",
              "    <tr>\n",
              "      <th>1</th>\n",
              "      <td>1234</td>\n",
              "      <td>1234</td>\n",
              "      <td>3</td>\n",
              "      <td>male</td>\n",
              "      <td>25.0</td>\n",
              "      <td>7.0500</td>\n",
              "      <td>S</td>\n",
              "    </tr>\n",
              "    <tr>\n",
              "      <th>2</th>\n",
              "      <td>885</td>\n",
              "      <td>885</td>\n",
              "      <td>3</td>\n",
              "      <td>male</td>\n",
              "      <td>17.0</td>\n",
              "      <td>7.0542</td>\n",
              "      <td>S</td>\n",
              "    </tr>\n",
              "    <tr>\n",
              "      <th>3</th>\n",
              "      <td>1242</td>\n",
              "      <td>1242</td>\n",
              "      <td>3</td>\n",
              "      <td>male</td>\n",
              "      <td>NaN</td>\n",
              "      <td>6.4375</td>\n",
              "      <td>C</td>\n",
              "    </tr>\n",
              "    <tr>\n",
              "      <th>4</th>\n",
              "      <td>74</td>\n",
              "      <td>74</td>\n",
              "      <td>1</td>\n",
              "      <td>male</td>\n",
              "      <td>NaN</td>\n",
              "      <td>52.0000</td>\n",
              "      <td>S</td>\n",
              "    </tr>\n",
              "  </tbody>\n",
              "</table>\n",
              "</div>"
            ],
            "text/plain": [
              "   Unnamed: 0  Unnamed: 0.1  pclass   sex   age     fare embarked\n",
              "0        1255          1255       3  male   NaN   7.2292        C\n",
              "1        1234          1234       3  male  25.0   7.0500        S\n",
              "2         885           885       3  male  17.0   7.0542        S\n",
              "3        1242          1242       3  male   NaN   6.4375        C\n",
              "4          74            74       1  male   NaN  52.0000        S"
            ]
          },
          "metadata": {},
          "execution_count": 3
        }
      ]
    },
    {
      "cell_type": "markdown",
      "metadata": {
        "id": "gEzPoXPj3V7u"
      },
      "source": [
        "##2.   Preprocess data using Sklearn Column Transformer / Write and Save Preprocessor function\n"
      ]
    },
    {
      "cell_type": "code",
      "metadata": {
        "id": "A2BQMOPGCqra"
      },
      "source": [
        "from sklearn.compose import ColumnTransformer\n",
        "from sklearn.pipeline import Pipeline\n",
        "from sklearn.impute import SimpleImputer\n",
        "from sklearn.preprocessing import StandardScaler, OneHotEncoder\n",
        "\n",
        "#Preprocess data using sklearn's Column Transformer approach\n",
        "\n",
        "# We create the preprocessing pipelines for both numeric and categorical data.\n",
        "numeric_features = ['age', 'fare']\n",
        "numeric_transformer = Pipeline(steps=[\n",
        "    ('imputer', SimpleImputer(strategy='median')), #'imputer' names the step\n",
        "    ('scaler', StandardScaler())])\n",
        "\n",
        "categorical_features = ['embarked', 'sex', 'pclass']\n",
        "\n",
        "# Replacing missing values with Modal value and then one-hot encoding.\n",
        "categorical_transformer = Pipeline(steps=[\n",
        "    ('imputer', SimpleImputer(strategy='most_frequent')),\n",
        "    ('onehot', OneHotEncoder(handle_unknown='ignore'))])\n",
        "\n",
        "# Final preprocessor object set up with ColumnTransformer...\n",
        "\n",
        "preprocess = ColumnTransformer(\n",
        "    transformers=[\n",
        "        ('num', numeric_transformer, numeric_features),\n",
        "        ('cat', categorical_transformer, categorical_features)])\n",
        "\n",
        "# fit preprocessor to your data\n",
        "preprocess = preprocess.fit(X_train)"
      ],
      "execution_count": 4,
      "outputs": []
    },
    {
      "cell_type": "code",
      "metadata": {
        "id": "16QV9Y9TC3B3"
      },
      "source": [
        "# Write function to transform data with preprocessor \n",
        "# In this case we use sklearn's Column transformer in our preprocessor function\n",
        "\n",
        "def preprocessor(data):\n",
        "    preprocessed_data=preprocess.transform(data)\n",
        "    return preprocessed_data"
      ],
      "execution_count": 5,
      "outputs": []
    },
    {
      "cell_type": "markdown",
      "metadata": {
        "id": "X52kECL43b-O"
      },
      "source": [
        "##3. Fit model on preprocessed data and save preprocessor function and model \n"
      ]
    },
    {
      "cell_type": "code",
      "metadata": {
        "colab": {
          "base_uri": "https://localhost:8080/"
        },
        "id": "NCbBf8j9ClYl",
        "outputId": "055bf137-9939-4e4c-c060-c9a43e3d6776"
      },
      "source": [
        "from sklearn.linear_model import LogisticRegression\n",
        "\n",
        "model = LogisticRegression(C=10, penalty='l1', solver = 'liblinear')\n",
        "model.fit(preprocessor(X_train), y_train) # Fitting to the training set.\n",
        "model.score(preprocessor(X_train), y_train) # Fit score, 0-1 scale."
      ],
      "execution_count": 6,
      "outputs": [
        {
          "output_type": "execute_result",
          "data": {
            "text/plain": [
              "0.7822349570200573"
            ]
          },
          "metadata": {},
          "execution_count": 6
        }
      ]
    },
    {
      "cell_type": "markdown",
      "metadata": {
        "id": "zmJAnmO-5AcU"
      },
      "source": [
        "#### Save preprocessor function to local \"preprocessor.zip\" file"
      ]
    },
    {
      "cell_type": "code",
      "metadata": {
        "colab": {
          "base_uri": "https://localhost:8080/"
        },
        "id": "4VGacc0LDaMA",
        "outputId": "f5a771fd-f58f-433d-bb3e-c8f2ad1b02ef"
      },
      "source": [
        "import aimodelshare as ai\n",
        "ai.export_preprocessor(preprocessor,\"\") "
      ],
      "execution_count": 7,
      "outputs": [
        {
          "output_type": "stream",
          "name": "stdout",
          "text": [
            "Your preprocessor is now saved to 'preprocessor.zip'\n"
          ]
        }
      ]
    },
    {
      "cell_type": "markdown",
      "metadata": {
        "id": "oOWBa8Cv5LdL"
      },
      "source": [
        "#### Save model to local \".onnx\" file"
      ]
    },
    {
      "cell_type": "code",
      "metadata": {
        "id": "pEhvnRiQDlY5"
      },
      "source": [
        "# Save sklearn model to local ONNX file\n",
        "from aimodelshare.aimsonnx import model_to_onnx\n",
        "\n",
        "# Check how many preprocessed input features are there?\n",
        "from skl2onnx.common.data_types import FloatTensorType\n",
        "\n",
        "feature_count=preprocessor(X_test).shape[1] #Get count of preprocessed features\n",
        "initial_type = [('float_input', FloatTensorType([None, feature_count]))]  # You need to insert correct number of preprocessed features\n",
        "\n",
        "onnx_model = model_to_onnx(model, framework='sklearn',\n",
        "                          initial_types=initial_type,\n",
        "                          transfer_learning=False,\n",
        "                          deep_learning=False)\n",
        "\n",
        "with open(\"model.onnx\", \"wb\") as f:\n",
        "    f.write(onnx_model.SerializeToString())"
      ],
      "execution_count": 10,
      "outputs": []
    },
    {
      "cell_type": "markdown",
      "metadata": {
        "id": "gHWkAzvX3m8O"
      },
      "source": [
        "## 4. Generate predictions from X_test data and submit model to competition\n"
      ]
    },
    {
      "cell_type": "code",
      "metadata": {
        "colab": {
          "base_uri": "https://localhost:8080/"
        },
        "id": "RtgkM02MDpkO",
        "outputId": "43f77831-a288-47cb-b3f4-e65923779a26"
      },
      "source": [
        "#Set credentials using modelshare.org username/password\n",
        "\n",
        "from aimodelshare.aws import set_credentials\n",
        "    \n",
        "apiurl=\"https://00ek0f87z4.execute-api.us-east-1.amazonaws.com/prod/m\" #This is the unique rest api that powers this Titanic Model Playground\n",
        "\n",
        "set_credentials(apiurl=apiurl)"
      ],
      "execution_count": 17,
      "outputs": [
        {
          "output_type": "stream",
          "name": "stdout",
          "text": [
            "AI Modelshare Username:··········\n",
            "AI Modelshare Password:··········\n",
            "AI Model Share login credentials set successfully.\n"
          ]
        }
      ]
    },
    {
      "cell_type": "code",
      "metadata": {
        "id": "fKNGSww8EGgi"
      },
      "source": [
        "#Instantiate Competition\n",
        "\n",
        "mycompetition= ai.Competition(apiurl)"
      ],
      "execution_count": 18,
      "outputs": []
    },
    {
      "cell_type": "code",
      "metadata": {
        "colab": {
          "base_uri": "https://localhost:8080/"
        },
        "id": "_Ql4wksyEUnP",
        "outputId": "a54b5620-253f-4f35-d082-5aafe46ba7bb"
      },
      "source": [
        "#Submit Model 1: \n",
        "\n",
        "#-- Generate predicted values (a list of predicted labels \"survived\" or \"died\") (Model 1)\n",
        "prediction_labels = model.predict(preprocessor(X_test))\n",
        "\n",
        "# Submit Model 1 to Competition Leaderboard\n",
        "mycompetition.submit_model(model_filepath = \"model.onnx\",\n",
        "                                 preprocessor_filepath=\"preprocessor.zip\",\n",
        "                                 prediction_submission=prediction_labels)"
      ],
      "execution_count": 19,
      "outputs": [
        {
          "output_type": "stream",
          "name": "stdout",
          "text": [
            "Insert search tags to help users find your model (optional): Logistic Regression, l1, c=10, titanic\n",
            "Provide any useful notes about your model (optional): Untuned Logistic Regression, l1, c=10\n",
            "\n",
            "Your model has been submitted as model version 3\n",
            "\n",
            "To submit code used to create this model or to view current leaderboard navigate to Model Playground: \n",
            "\n",
            " https://www.modelshare.org/detail/model:751\n"
          ]
        }
      ]
    },
    {
      "cell_type": "code",
      "metadata": {
        "colab": {
          "base_uri": "https://localhost:8080/",
          "height": 248
        },
        "id": "GN1zvAmNEq17",
        "outputId": "7d01a884-aeac-4081-b715-5d1a07818b35"
      },
      "source": [
        "# Get leaderboard to explore current best model architectures\n",
        "\n",
        "# Get raw data in pandas data frame\n",
        "data = mycompetition.get_leaderboard()\n",
        "\n",
        "# Stylize leaderboard data\n",
        "mycompetition.stylize_leaderboard(data)"
      ],
      "execution_count": 20,
      "outputs": [
        {
          "output_type": "execute_result",
          "data": {
            "text/html": [
              "<style  type=\"text/css\" >\n",
              "#T_eea100d2_3d80_11ec_87d0_0242ac1c0002row0_col0,#T_eea100d2_3d80_11ec_87d0_0242ac1c0002row1_col0{\n",
              "            text-align:  center;\n",
              "            width:  10em;\n",
              "             height:  80%;\n",
              "            background:  linear-gradient(90deg,#f5f8d6 79.0%, transparent 79.0%);\n",
              "            color:  #251e1b;\n",
              "            font-size:  12px;\n",
              "        }#T_eea100d2_3d80_11ec_87d0_0242ac1c0002row0_col1,#T_eea100d2_3d80_11ec_87d0_0242ac1c0002row1_col1{\n",
              "            text-align:  center;\n",
              "            width:  10em;\n",
              "             height:  80%;\n",
              "            background:  linear-gradient(90deg,#c778c8 77.3%, transparent 77.3%);\n",
              "            color:  #251e1b;\n",
              "            font-size:  12px;\n",
              "        }#T_eea100d2_3d80_11ec_87d0_0242ac1c0002row0_col2,#T_eea100d2_3d80_11ec_87d0_0242ac1c0002row1_col2{\n",
              "            text-align:  center;\n",
              "            width:  10em;\n",
              "             height:  80%;\n",
              "            background:  linear-gradient(90deg,#ff4971 77.8%, transparent 77.8%);\n",
              "            color:  #251e1b;\n",
              "            font-size:  12px;\n",
              "        }#T_eea100d2_3d80_11ec_87d0_0242ac1c0002row0_col3,#T_eea100d2_3d80_11ec_87d0_0242ac1c0002row1_col3{\n",
              "            text-align:  center;\n",
              "            width:  10em;\n",
              "             height:  80%;\n",
              "            background:  linear-gradient(90deg,#aadbaa 77.0%, transparent 77.0%);\n",
              "            color:  #251e1b;\n",
              "            font-size:  12px;\n",
              "        }#T_eea100d2_3d80_11ec_87d0_0242ac1c0002row0_col4,#T_eea100d2_3d80_11ec_87d0_0242ac1c0002row0_col5,#T_eea100d2_3d80_11ec_87d0_0242ac1c0002row0_col6,#T_eea100d2_3d80_11ec_87d0_0242ac1c0002row0_col7,#T_eea100d2_3d80_11ec_87d0_0242ac1c0002row0_col8,#T_eea100d2_3d80_11ec_87d0_0242ac1c0002row0_col9,#T_eea100d2_3d80_11ec_87d0_0242ac1c0002row0_col10,#T_eea100d2_3d80_11ec_87d0_0242ac1c0002row0_col11,#T_eea100d2_3d80_11ec_87d0_0242ac1c0002row0_col12,#T_eea100d2_3d80_11ec_87d0_0242ac1c0002row1_col4,#T_eea100d2_3d80_11ec_87d0_0242ac1c0002row1_col5,#T_eea100d2_3d80_11ec_87d0_0242ac1c0002row1_col6,#T_eea100d2_3d80_11ec_87d0_0242ac1c0002row1_col7,#T_eea100d2_3d80_11ec_87d0_0242ac1c0002row1_col8,#T_eea100d2_3d80_11ec_87d0_0242ac1c0002row1_col9,#T_eea100d2_3d80_11ec_87d0_0242ac1c0002row1_col10,#T_eea100d2_3d80_11ec_87d0_0242ac1c0002row1_col11,#T_eea100d2_3d80_11ec_87d0_0242ac1c0002row1_col12,#T_eea100d2_3d80_11ec_87d0_0242ac1c0002row2_col4,#T_eea100d2_3d80_11ec_87d0_0242ac1c0002row2_col5,#T_eea100d2_3d80_11ec_87d0_0242ac1c0002row2_col6,#T_eea100d2_3d80_11ec_87d0_0242ac1c0002row2_col7,#T_eea100d2_3d80_11ec_87d0_0242ac1c0002row2_col8,#T_eea100d2_3d80_11ec_87d0_0242ac1c0002row2_col9,#T_eea100d2_3d80_11ec_87d0_0242ac1c0002row2_col10,#T_eea100d2_3d80_11ec_87d0_0242ac1c0002row2_col11,#T_eea100d2_3d80_11ec_87d0_0242ac1c0002row2_col12{\n",
              "            text-align:  center;\n",
              "        }#T_eea100d2_3d80_11ec_87d0_0242ac1c0002row2_col0{\n",
              "            text-align:  center;\n",
              "            width:  10em;\n",
              "             height:  80%;\n",
              "            background:  linear-gradient(90deg,#f5f8d6 76.0%, transparent 76.0%);\n",
              "            color:  #251e1b;\n",
              "            font-size:  12px;\n",
              "        }#T_eea100d2_3d80_11ec_87d0_0242ac1c0002row2_col1{\n",
              "            text-align:  center;\n",
              "            width:  10em;\n",
              "             height:  80%;\n",
              "            background:  linear-gradient(90deg,#c778c8 72.3%, transparent 72.3%);\n",
              "            color:  #251e1b;\n",
              "            font-size:  12px;\n",
              "        }#T_eea100d2_3d80_11ec_87d0_0242ac1c0002row2_col2{\n",
              "            text-align:  center;\n",
              "            width:  10em;\n",
              "             height:  80%;\n",
              "            background:  linear-gradient(90deg,#ff4971 76.1%, transparent 76.1%);\n",
              "            color:  #251e1b;\n",
              "            font-size:  12px;\n",
              "        }#T_eea100d2_3d80_11ec_87d0_0242ac1c0002row2_col3{\n",
              "            text-align:  center;\n",
              "            width:  10em;\n",
              "             height:  80%;\n",
              "            background:  linear-gradient(90deg,#aadbaa 71.4%, transparent 71.4%);\n",
              "            color:  #251e1b;\n",
              "            font-size:  12px;\n",
              "        }</style><table id=\"T_eea100d2_3d80_11ec_87d0_0242ac1c0002\" class=\"dataframe\"><thead>    <tr>        <th class=\"blank level0\" ></th>        <th class=\"col_heading level0 col0\" >accuracy</th>        <th class=\"col_heading level0 col1\" >f1_score</th>        <th class=\"col_heading level0 col2\" >precision</th>        <th class=\"col_heading level0 col3\" >recall</th>        <th class=\"col_heading level0 col4\" >ml_framework</th>        <th class=\"col_heading level0 col5\" >transfer_learning</th>        <th class=\"col_heading level0 col6\" >deep_learning</th>        <th class=\"col_heading level0 col7\" >model_type</th>        <th class=\"col_heading level0 col8\" >num_params</th>        <th class=\"col_heading level0 col9\" >optimizer</th>        <th class=\"col_heading level0 col10\" >model_config</th>        <th class=\"col_heading level0 col11\" >username</th>        <th class=\"col_heading level0 col12\" >version</th>    </tr></thead><tbody>\n",
              "                <tr>\n",
              "                        <th id=\"T_eea100d2_3d80_11ec_87d0_0242ac1c0002level0_row0\" class=\"row_heading level0 row0\" >0</th>\n",
              "                        <td id=\"T_eea100d2_3d80_11ec_87d0_0242ac1c0002row0_col0\" class=\"data row0 col0\" >79.01%</td>\n",
              "                        <td id=\"T_eea100d2_3d80_11ec_87d0_0242ac1c0002row0_col1\" class=\"data row0 col1\" >77.34%</td>\n",
              "                        <td id=\"T_eea100d2_3d80_11ec_87d0_0242ac1c0002row0_col2\" class=\"data row0 col2\" >77.84%</td>\n",
              "                        <td id=\"T_eea100d2_3d80_11ec_87d0_0242ac1c0002row0_col3\" class=\"data row0 col3\" >76.98%</td>\n",
              "                        <td id=\"T_eea100d2_3d80_11ec_87d0_0242ac1c0002row0_col4\" class=\"data row0 col4\" >sklearn</td>\n",
              "                        <td id=\"T_eea100d2_3d80_11ec_87d0_0242ac1c0002row0_col5\" class=\"data row0 col5\" >False</td>\n",
              "                        <td id=\"T_eea100d2_3d80_11ec_87d0_0242ac1c0002row0_col6\" class=\"data row0 col6\" >False</td>\n",
              "                        <td id=\"T_eea100d2_3d80_11ec_87d0_0242ac1c0002row0_col7\" class=\"data row0 col7\" >LogisticRegression</td>\n",
              "                        <td id=\"T_eea100d2_3d80_11ec_87d0_0242ac1c0002row0_col8\" class=\"data row0 col8\" >10</td>\n",
              "                        <td id=\"T_eea100d2_3d80_11ec_87d0_0242ac1c0002row0_col9\" class=\"data row0 col9\" >liblinear</td>\n",
              "                        <td id=\"T_eea100d2_3d80_11ec_87d0_0242ac1c0002row0_col10\" class=\"data row0 col10\" >{'C': 10, 'class_weight': None...</td>\n",
              "                        <td id=\"T_eea100d2_3d80_11ec_87d0_0242ac1c0002row0_col11\" class=\"data row0 col11\" >mikedparrott</td>\n",
              "                        <td id=\"T_eea100d2_3d80_11ec_87d0_0242ac1c0002row0_col12\" class=\"data row0 col12\" >1</td>\n",
              "            </tr>\n",
              "            <tr>\n",
              "                        <th id=\"T_eea100d2_3d80_11ec_87d0_0242ac1c0002level0_row1\" class=\"row_heading level0 row1\" >1</th>\n",
              "                        <td id=\"T_eea100d2_3d80_11ec_87d0_0242ac1c0002row1_col0\" class=\"data row1 col0\" >79.01%</td>\n",
              "                        <td id=\"T_eea100d2_3d80_11ec_87d0_0242ac1c0002row1_col1\" class=\"data row1 col1\" >77.34%</td>\n",
              "                        <td id=\"T_eea100d2_3d80_11ec_87d0_0242ac1c0002row1_col2\" class=\"data row1 col2\" >77.84%</td>\n",
              "                        <td id=\"T_eea100d2_3d80_11ec_87d0_0242ac1c0002row1_col3\" class=\"data row1 col3\" >76.98%</td>\n",
              "                        <td id=\"T_eea100d2_3d80_11ec_87d0_0242ac1c0002row1_col4\" class=\"data row1 col4\" >sklearn</td>\n",
              "                        <td id=\"T_eea100d2_3d80_11ec_87d0_0242ac1c0002row1_col5\" class=\"data row1 col5\" >False</td>\n",
              "                        <td id=\"T_eea100d2_3d80_11ec_87d0_0242ac1c0002row1_col6\" class=\"data row1 col6\" >False</td>\n",
              "                        <td id=\"T_eea100d2_3d80_11ec_87d0_0242ac1c0002row1_col7\" class=\"data row1 col7\" >LogisticRegression</td>\n",
              "                        <td id=\"T_eea100d2_3d80_11ec_87d0_0242ac1c0002row1_col8\" class=\"data row1 col8\" >10</td>\n",
              "                        <td id=\"T_eea100d2_3d80_11ec_87d0_0242ac1c0002row1_col9\" class=\"data row1 col9\" >liblinear</td>\n",
              "                        <td id=\"T_eea100d2_3d80_11ec_87d0_0242ac1c0002row1_col10\" class=\"data row1 col10\" >{'C': 10, 'class_weight': None...</td>\n",
              "                        <td id=\"T_eea100d2_3d80_11ec_87d0_0242ac1c0002row1_col11\" class=\"data row1 col11\" >newusertest</td>\n",
              "                        <td id=\"T_eea100d2_3d80_11ec_87d0_0242ac1c0002row1_col12\" class=\"data row1 col12\" >3</td>\n",
              "            </tr>\n",
              "            <tr>\n",
              "                        <th id=\"T_eea100d2_3d80_11ec_87d0_0242ac1c0002level0_row2\" class=\"row_heading level0 row2\" >2</th>\n",
              "                        <td id=\"T_eea100d2_3d80_11ec_87d0_0242ac1c0002row2_col0\" class=\"data row2 col0\" >75.95%</td>\n",
              "                        <td id=\"T_eea100d2_3d80_11ec_87d0_0242ac1c0002row2_col1\" class=\"data row2 col1\" >72.31%</td>\n",
              "                        <td id=\"T_eea100d2_3d80_11ec_87d0_0242ac1c0002row2_col2\" class=\"data row2 col2\" >76.12%</td>\n",
              "                        <td id=\"T_eea100d2_3d80_11ec_87d0_0242ac1c0002row2_col3\" class=\"data row2 col3\" >71.35%</td>\n",
              "                        <td id=\"T_eea100d2_3d80_11ec_87d0_0242ac1c0002row2_col4\" class=\"data row2 col4\" >sklearn</td>\n",
              "                        <td id=\"T_eea100d2_3d80_11ec_87d0_0242ac1c0002row2_col5\" class=\"data row2 col5\" >False</td>\n",
              "                        <td id=\"T_eea100d2_3d80_11ec_87d0_0242ac1c0002row2_col6\" class=\"data row2 col6\" >False</td>\n",
              "                        <td id=\"T_eea100d2_3d80_11ec_87d0_0242ac1c0002row2_col7\" class=\"data row2 col7\" >LogisticRegression</td>\n",
              "                        <td id=\"T_eea100d2_3d80_11ec_87d0_0242ac1c0002row2_col8\" class=\"data row2 col8\" >10</td>\n",
              "                        <td id=\"T_eea100d2_3d80_11ec_87d0_0242ac1c0002row2_col9\" class=\"data row2 col9\" >lbfgs</td>\n",
              "                        <td id=\"T_eea100d2_3d80_11ec_87d0_0242ac1c0002row2_col10\" class=\"data row2 col10\" >{'C': 0.01, 'class_weight': No...</td>\n",
              "                        <td id=\"T_eea100d2_3d80_11ec_87d0_0242ac1c0002row2_col11\" class=\"data row2 col11\" >mikedparrott</td>\n",
              "                        <td id=\"T_eea100d2_3d80_11ec_87d0_0242ac1c0002row2_col12\" class=\"data row2 col12\" >2</td>\n",
              "            </tr>\n",
              "    </tbody></table>"
            ],
            "text/plain": [
              "<pandas.io.formats.style.Styler at 0x7f9049644810>"
            ]
          },
          "metadata": {},
          "execution_count": 20
        }
      ]
    },
    {
      "cell_type": "markdown",
      "metadata": {
        "id": "bwNKs0wP4r5s"
      },
      "source": [
        "## 5. Repeat submission process to improve place on leaderboard\n"
      ]
    },
    {
      "cell_type": "code",
      "metadata": {
        "colab": {
          "base_uri": "https://localhost:8080/"
        },
        "id": "FgSs5PAtPCZH",
        "outputId": "a81157b1-0bfd-4d61-f0e0-1af7e5c0059c"
      },
      "source": [
        "# Train and submit model 2 using same preprocessor (note that you could save a new preprocessor, but we will use the same one for this example).\n",
        "from sklearn.linear_model import LogisticRegression\n",
        "\n",
        "model = LogisticRegression(C=.01, penalty='l2', solver = 'newton-cg')\n",
        "model.fit(preprocessor(X_train), y_train) # Fitting to the training set.\n",
        "model.score(preprocessor(X_train), y_train) # Fit score, 0-1 scale."
      ],
      "execution_count": 23,
      "outputs": [
        {
          "output_type": "execute_result",
          "data": {
            "text/plain": [
              "0.7841451766953199"
            ]
          },
          "metadata": {},
          "execution_count": 23
        }
      ]
    },
    {
      "cell_type": "code",
      "metadata": {
        "id": "aIdmSpYVPYAw"
      },
      "source": [
        "# Save sklearn model to local ONNX file\n",
        "from aimodelshare.aimsonnx import model_to_onnx\n",
        "\n",
        "feature_count=preprocessor(X_test).shape[1] #Get count of preprocessed features\n",
        "initial_type = [('float_input', FloatTensorType([None, feature_count]))]  # You need to insert correct number of preprocessed features\n",
        "\n",
        "onnx_model = model_to_onnx(model, framework='sklearn',\n",
        "                          initial_types=initial_type,\n",
        "                          transfer_learning=False,\n",
        "                          deep_learning=False)\n",
        "\n",
        "with open(\"model2.onnx\", \"wb\") as f:\n",
        "    f.write(onnx_model.SerializeToString())"
      ],
      "execution_count": 28,
      "outputs": []
    },
    {
      "cell_type": "code",
      "metadata": {
        "colab": {
          "base_uri": "https://localhost:8080/"
        },
        "id": "nszPPrfwPlUk",
        "outputId": "bc389c58-2ecc-41c3-e880-81d08fd148b3"
      },
      "source": [
        "#Submit Model 2: \n",
        "\n",
        "#-- Generate predicted values (a list of predicted labels \"survived\" or \"died\") (Model 1)\n",
        "prediction_labels = model.predict(preprocessor(X_test))\n",
        "\n",
        "# Submit Model 1 to Competition Leaderboard\n",
        "mycompetition.submit_model(model_filepath = \"model2.onnx\",\n",
        "                                 preprocessor_filepath=\"preprocessor.zip\",\n",
        "                                 prediction_submission=prediction_labels)"
      ],
      "execution_count": 25,
      "outputs": [
        {
          "output_type": "stream",
          "name": "stdout",
          "text": [
            "Insert search tags to help users find your model (optional): Logistic Regression, l2, newton-cg, titanic\n",
            "Provide any useful notes about your model (optional): Logistic Regression, l2, newton-cg, untuned\n",
            "\n",
            "Your model has been submitted as model version 4\n",
            "\n",
            "To submit code used to create this model or to view current leaderboard navigate to Model Playground: \n",
            "\n",
            " https://www.modelshare.org/detail/model:751\n"
          ]
        }
      ]
    },
    {
      "cell_type": "code",
      "metadata": {
        "colab": {
          "base_uri": "https://localhost:8080/",
          "height": 439
        },
        "id": "qLl7yLpVEx26",
        "outputId": "1fecce79-336d-4040-8eab-8c4c1e5d059d"
      },
      "source": [
        "# Compare two or more models (Experimental, Git-like Diffs for Model Architectures)\n",
        "data=mycompetition.compare_models([1,2], verbose=1)\n",
        "mycompetition.stylize_compare(data)"
      ],
      "execution_count": 26,
      "outputs": [
        {
          "output_type": "display_data",
          "data": {
            "text/html": [
              "<style  type=\"text/css\" >\n",
              "    #T_4085b9e2_3d81_11ec_87d0_0242ac1c0002 caption {\n",
              "          color: black;\n",
              "          font-size: 18px;\n",
              "    }#T_4085b9e2_3d81_11ec_87d0_0242ac1c0002row0_col2,#T_4085b9e2_3d81_11ec_87d0_0242ac1c0002row0_col3,#T_4085b9e2_3d81_11ec_87d0_0242ac1c0002row9_col2,#T_4085b9e2_3d81_11ec_87d0_0242ac1c0002row11_col2{\n",
              "            background:  tomato;\n",
              "        }</style><table id=\"T_4085b9e2_3d81_11ec_87d0_0242ac1c0002\" ><caption>Model type: LogisticRegression</caption><thead>    <tr>        <th class=\"blank level0\" ></th>        <th class=\"col_heading level0 col0\" >param_name</th>        <th class=\"col_heading level0 col1\" >default_value</th>        <th class=\"col_heading level0 col2\" >model_version_1</th>        <th class=\"col_heading level0 col3\" >model_version_2</th>    </tr></thead><tbody>\n",
              "                <tr>\n",
              "                        <th id=\"T_4085b9e2_3d81_11ec_87d0_0242ac1c0002level0_row0\" class=\"row_heading level0 row0\" >0</th>\n",
              "                        <td id=\"T_4085b9e2_3d81_11ec_87d0_0242ac1c0002row0_col0\" class=\"data row0 col0\" >C</td>\n",
              "                        <td id=\"T_4085b9e2_3d81_11ec_87d0_0242ac1c0002row0_col1\" class=\"data row0 col1\" >1.000000</td>\n",
              "                        <td id=\"T_4085b9e2_3d81_11ec_87d0_0242ac1c0002row0_col2\" class=\"data row0 col2\" >10</td>\n",
              "                        <td id=\"T_4085b9e2_3d81_11ec_87d0_0242ac1c0002row0_col3\" class=\"data row0 col3\" >0.010000</td>\n",
              "            </tr>\n",
              "            <tr>\n",
              "                        <th id=\"T_4085b9e2_3d81_11ec_87d0_0242ac1c0002level0_row1\" class=\"row_heading level0 row1\" >1</th>\n",
              "                        <td id=\"T_4085b9e2_3d81_11ec_87d0_0242ac1c0002row1_col0\" class=\"data row1 col0\" >class_weight</td>\n",
              "                        <td id=\"T_4085b9e2_3d81_11ec_87d0_0242ac1c0002row1_col1\" class=\"data row1 col1\" >None</td>\n",
              "                        <td id=\"T_4085b9e2_3d81_11ec_87d0_0242ac1c0002row1_col2\" class=\"data row1 col2\" >None</td>\n",
              "                        <td id=\"T_4085b9e2_3d81_11ec_87d0_0242ac1c0002row1_col3\" class=\"data row1 col3\" >None</td>\n",
              "            </tr>\n",
              "            <tr>\n",
              "                        <th id=\"T_4085b9e2_3d81_11ec_87d0_0242ac1c0002level0_row2\" class=\"row_heading level0 row2\" >2</th>\n",
              "                        <td id=\"T_4085b9e2_3d81_11ec_87d0_0242ac1c0002row2_col0\" class=\"data row2 col0\" >dual</td>\n",
              "                        <td id=\"T_4085b9e2_3d81_11ec_87d0_0242ac1c0002row2_col1\" class=\"data row2 col1\" >False</td>\n",
              "                        <td id=\"T_4085b9e2_3d81_11ec_87d0_0242ac1c0002row2_col2\" class=\"data row2 col2\" >False</td>\n",
              "                        <td id=\"T_4085b9e2_3d81_11ec_87d0_0242ac1c0002row2_col3\" class=\"data row2 col3\" >False</td>\n",
              "            </tr>\n",
              "            <tr>\n",
              "                        <th id=\"T_4085b9e2_3d81_11ec_87d0_0242ac1c0002level0_row3\" class=\"row_heading level0 row3\" >3</th>\n",
              "                        <td id=\"T_4085b9e2_3d81_11ec_87d0_0242ac1c0002row3_col0\" class=\"data row3 col0\" >fit_intercept</td>\n",
              "                        <td id=\"T_4085b9e2_3d81_11ec_87d0_0242ac1c0002row3_col1\" class=\"data row3 col1\" >True</td>\n",
              "                        <td id=\"T_4085b9e2_3d81_11ec_87d0_0242ac1c0002row3_col2\" class=\"data row3 col2\" >True</td>\n",
              "                        <td id=\"T_4085b9e2_3d81_11ec_87d0_0242ac1c0002row3_col3\" class=\"data row3 col3\" >True</td>\n",
              "            </tr>\n",
              "            <tr>\n",
              "                        <th id=\"T_4085b9e2_3d81_11ec_87d0_0242ac1c0002level0_row4\" class=\"row_heading level0 row4\" >4</th>\n",
              "                        <td id=\"T_4085b9e2_3d81_11ec_87d0_0242ac1c0002row4_col0\" class=\"data row4 col0\" >intercept_scaling</td>\n",
              "                        <td id=\"T_4085b9e2_3d81_11ec_87d0_0242ac1c0002row4_col1\" class=\"data row4 col1\" >1</td>\n",
              "                        <td id=\"T_4085b9e2_3d81_11ec_87d0_0242ac1c0002row4_col2\" class=\"data row4 col2\" >1</td>\n",
              "                        <td id=\"T_4085b9e2_3d81_11ec_87d0_0242ac1c0002row4_col3\" class=\"data row4 col3\" >1</td>\n",
              "            </tr>\n",
              "            <tr>\n",
              "                        <th id=\"T_4085b9e2_3d81_11ec_87d0_0242ac1c0002level0_row5\" class=\"row_heading level0 row5\" >5</th>\n",
              "                        <td id=\"T_4085b9e2_3d81_11ec_87d0_0242ac1c0002row5_col0\" class=\"data row5 col0\" >l1_ratio</td>\n",
              "                        <td id=\"T_4085b9e2_3d81_11ec_87d0_0242ac1c0002row5_col1\" class=\"data row5 col1\" >None</td>\n",
              "                        <td id=\"T_4085b9e2_3d81_11ec_87d0_0242ac1c0002row5_col2\" class=\"data row5 col2\" >None</td>\n",
              "                        <td id=\"T_4085b9e2_3d81_11ec_87d0_0242ac1c0002row5_col3\" class=\"data row5 col3\" >None</td>\n",
              "            </tr>\n",
              "            <tr>\n",
              "                        <th id=\"T_4085b9e2_3d81_11ec_87d0_0242ac1c0002level0_row6\" class=\"row_heading level0 row6\" >6</th>\n",
              "                        <td id=\"T_4085b9e2_3d81_11ec_87d0_0242ac1c0002row6_col0\" class=\"data row6 col0\" >max_iter</td>\n",
              "                        <td id=\"T_4085b9e2_3d81_11ec_87d0_0242ac1c0002row6_col1\" class=\"data row6 col1\" >100</td>\n",
              "                        <td id=\"T_4085b9e2_3d81_11ec_87d0_0242ac1c0002row6_col2\" class=\"data row6 col2\" >100</td>\n",
              "                        <td id=\"T_4085b9e2_3d81_11ec_87d0_0242ac1c0002row6_col3\" class=\"data row6 col3\" >100</td>\n",
              "            </tr>\n",
              "            <tr>\n",
              "                        <th id=\"T_4085b9e2_3d81_11ec_87d0_0242ac1c0002level0_row7\" class=\"row_heading level0 row7\" >7</th>\n",
              "                        <td id=\"T_4085b9e2_3d81_11ec_87d0_0242ac1c0002row7_col0\" class=\"data row7 col0\" >multi_class</td>\n",
              "                        <td id=\"T_4085b9e2_3d81_11ec_87d0_0242ac1c0002row7_col1\" class=\"data row7 col1\" >auto</td>\n",
              "                        <td id=\"T_4085b9e2_3d81_11ec_87d0_0242ac1c0002row7_col2\" class=\"data row7 col2\" >auto</td>\n",
              "                        <td id=\"T_4085b9e2_3d81_11ec_87d0_0242ac1c0002row7_col3\" class=\"data row7 col3\" >auto</td>\n",
              "            </tr>\n",
              "            <tr>\n",
              "                        <th id=\"T_4085b9e2_3d81_11ec_87d0_0242ac1c0002level0_row8\" class=\"row_heading level0 row8\" >8</th>\n",
              "                        <td id=\"T_4085b9e2_3d81_11ec_87d0_0242ac1c0002row8_col0\" class=\"data row8 col0\" >n_jobs</td>\n",
              "                        <td id=\"T_4085b9e2_3d81_11ec_87d0_0242ac1c0002row8_col1\" class=\"data row8 col1\" >None</td>\n",
              "                        <td id=\"T_4085b9e2_3d81_11ec_87d0_0242ac1c0002row8_col2\" class=\"data row8 col2\" >None</td>\n",
              "                        <td id=\"T_4085b9e2_3d81_11ec_87d0_0242ac1c0002row8_col3\" class=\"data row8 col3\" >None</td>\n",
              "            </tr>\n",
              "            <tr>\n",
              "                        <th id=\"T_4085b9e2_3d81_11ec_87d0_0242ac1c0002level0_row9\" class=\"row_heading level0 row9\" >9</th>\n",
              "                        <td id=\"T_4085b9e2_3d81_11ec_87d0_0242ac1c0002row9_col0\" class=\"data row9 col0\" >penalty</td>\n",
              "                        <td id=\"T_4085b9e2_3d81_11ec_87d0_0242ac1c0002row9_col1\" class=\"data row9 col1\" >l2</td>\n",
              "                        <td id=\"T_4085b9e2_3d81_11ec_87d0_0242ac1c0002row9_col2\" class=\"data row9 col2\" >l1</td>\n",
              "                        <td id=\"T_4085b9e2_3d81_11ec_87d0_0242ac1c0002row9_col3\" class=\"data row9 col3\" >l2</td>\n",
              "            </tr>\n",
              "            <tr>\n",
              "                        <th id=\"T_4085b9e2_3d81_11ec_87d0_0242ac1c0002level0_row10\" class=\"row_heading level0 row10\" >10</th>\n",
              "                        <td id=\"T_4085b9e2_3d81_11ec_87d0_0242ac1c0002row10_col0\" class=\"data row10 col0\" >random_state</td>\n",
              "                        <td id=\"T_4085b9e2_3d81_11ec_87d0_0242ac1c0002row10_col1\" class=\"data row10 col1\" >None</td>\n",
              "                        <td id=\"T_4085b9e2_3d81_11ec_87d0_0242ac1c0002row10_col2\" class=\"data row10 col2\" >None</td>\n",
              "                        <td id=\"T_4085b9e2_3d81_11ec_87d0_0242ac1c0002row10_col3\" class=\"data row10 col3\" >None</td>\n",
              "            </tr>\n",
              "            <tr>\n",
              "                        <th id=\"T_4085b9e2_3d81_11ec_87d0_0242ac1c0002level0_row11\" class=\"row_heading level0 row11\" >11</th>\n",
              "                        <td id=\"T_4085b9e2_3d81_11ec_87d0_0242ac1c0002row11_col0\" class=\"data row11 col0\" >solver</td>\n",
              "                        <td id=\"T_4085b9e2_3d81_11ec_87d0_0242ac1c0002row11_col1\" class=\"data row11 col1\" >lbfgs</td>\n",
              "                        <td id=\"T_4085b9e2_3d81_11ec_87d0_0242ac1c0002row11_col2\" class=\"data row11 col2\" >liblinear</td>\n",
              "                        <td id=\"T_4085b9e2_3d81_11ec_87d0_0242ac1c0002row11_col3\" class=\"data row11 col3\" >lbfgs</td>\n",
              "            </tr>\n",
              "            <tr>\n",
              "                        <th id=\"T_4085b9e2_3d81_11ec_87d0_0242ac1c0002level0_row12\" class=\"row_heading level0 row12\" >12</th>\n",
              "                        <td id=\"T_4085b9e2_3d81_11ec_87d0_0242ac1c0002row12_col0\" class=\"data row12 col0\" >tol</td>\n",
              "                        <td id=\"T_4085b9e2_3d81_11ec_87d0_0242ac1c0002row12_col1\" class=\"data row12 col1\" >0.000100</td>\n",
              "                        <td id=\"T_4085b9e2_3d81_11ec_87d0_0242ac1c0002row12_col2\" class=\"data row12 col2\" >0.000100</td>\n",
              "                        <td id=\"T_4085b9e2_3d81_11ec_87d0_0242ac1c0002row12_col3\" class=\"data row12 col3\" >0.000100</td>\n",
              "            </tr>\n",
              "            <tr>\n",
              "                        <th id=\"T_4085b9e2_3d81_11ec_87d0_0242ac1c0002level0_row13\" class=\"row_heading level0 row13\" >13</th>\n",
              "                        <td id=\"T_4085b9e2_3d81_11ec_87d0_0242ac1c0002row13_col0\" class=\"data row13 col0\" >verbose</td>\n",
              "                        <td id=\"T_4085b9e2_3d81_11ec_87d0_0242ac1c0002row13_col1\" class=\"data row13 col1\" >0</td>\n",
              "                        <td id=\"T_4085b9e2_3d81_11ec_87d0_0242ac1c0002row13_col2\" class=\"data row13 col2\" >0</td>\n",
              "                        <td id=\"T_4085b9e2_3d81_11ec_87d0_0242ac1c0002row13_col3\" class=\"data row13 col3\" >0</td>\n",
              "            </tr>\n",
              "            <tr>\n",
              "                        <th id=\"T_4085b9e2_3d81_11ec_87d0_0242ac1c0002level0_row14\" class=\"row_heading level0 row14\" >14</th>\n",
              "                        <td id=\"T_4085b9e2_3d81_11ec_87d0_0242ac1c0002row14_col0\" class=\"data row14 col0\" >warm_start</td>\n",
              "                        <td id=\"T_4085b9e2_3d81_11ec_87d0_0242ac1c0002row14_col1\" class=\"data row14 col1\" >False</td>\n",
              "                        <td id=\"T_4085b9e2_3d81_11ec_87d0_0242ac1c0002row14_col2\" class=\"data row14 col2\" >False</td>\n",
              "                        <td id=\"T_4085b9e2_3d81_11ec_87d0_0242ac1c0002row14_col3\" class=\"data row14 col3\" >False</td>\n",
              "            </tr>\n",
              "    </tbody></table>"
            ],
            "text/plain": [
              "<IPython.core.display.HTML object>"
            ]
          },
          "metadata": {}
        },
        {
          "output_type": "stream",
          "name": "stdout",
          "text": [
            "\n",
            "\n",
            "\n"
          ]
        }
      ]
    },
    {
      "cell_type": "code",
      "metadata": {
        "colab": {
          "base_uri": "https://localhost:8080/"
        },
        "id": "6Go4SF37Ex_Z",
        "outputId": "6df2d1df-efc0-4d41-c5fd-cd36659549f8"
      },
      "source": [
        "# Submit a third model using GridSearchCV\n",
        "\n",
        "from sklearn.model_selection import GridSearchCV\n",
        "import numpy as np\n",
        "\n",
        "param_grid = {'C': np.arange(.1, 10, .1),'penalty':['l2']} #np.arange creates sequence of numbers for each k value\n",
        "\n",
        "gridmodel = GridSearchCV(LogisticRegression(solver ='newton-cg'), param_grid=param_grid, cv=10)\n",
        "\n",
        "#use meta model methods to fit score and predict model:\n",
        "gridmodel.fit(preprocessor(X_train), y_train)\n",
        "\n",
        "#extract best score and parameter by calling objects \"best_score_\" and \"best_params_\"\n",
        "print(\"best mean cross-validation score: {:.3f}\".format(gridmodel.best_score_))\n",
        "print(\"best parameters: {}\".format(gridmodel.best_params_))\n"
      ],
      "execution_count": 31,
      "outputs": [
        {
          "output_type": "stream",
          "name": "stdout",
          "text": [
            "best mean cross-validation score: 0.785\n",
            "best parameters: {'C': 0.1, 'penalty': 'l2'}\n"
          ]
        }
      ]
    },
    {
      "cell_type": "code",
      "metadata": {
        "id": "HvLuIvOjHLH2"
      },
      "source": [
        "# Save sklearn model to local ONNX file\n",
        "from aimodelshare.aimsonnx import model_to_onnx\n",
        "\n",
        "\n",
        "feature_count=preprocessor(X_test).shape[1] #Get count of preprocessed features\n",
        "initial_type = [('float_input', FloatTensorType([None, feature_count]))]  # You need to insert correct number of preprocessed features\n",
        "\n",
        "onnx_model = model_to_onnx(gridmodel, framework='sklearn',\n",
        "                          initial_types=initial_type,\n",
        "                          transfer_learning=False,\n",
        "                          deep_learning=False)\n",
        "\n",
        "with open(\"gridmodel.onnx\", \"wb\") as f:\n",
        "    f.write(onnx_model.SerializeToString())"
      ],
      "execution_count": 32,
      "outputs": []
    },
    {
      "cell_type": "code",
      "metadata": {
        "colab": {
          "base_uri": "https://localhost:8080/"
        },
        "id": "sMidHABfHVN7",
        "outputId": "57b29895-5c59-4162-d972-e0a5b3314df7"
      },
      "source": [
        "#Submit Model 3: \n",
        "\n",
        "#-- Generate predicted values (a list of predicted labels \"survived\" or \"died\")\n",
        "prediction_labels = gridmodel.predict(preprocessor(X_test))\n",
        "\n",
        "# Submit Model 1 to Competition Leaderboard\n",
        "mycompetition.submit_model(model_filepath = \"gridmodel.onnx\",\n",
        "                                 preprocessor_filepath=\"preprocessor.zip\",\n",
        "                                 prediction_submission=prediction_labels)"
      ],
      "execution_count": 33,
      "outputs": [
        {
          "output_type": "stream",
          "name": "stdout",
          "text": [
            "Insert search tags to help users find your model (optional): tuned Log regression, l2, newtwon-cg, titanic\n",
            "Provide any useful notes about your model (optional): uned Log regression, l2, newtwon-cg\n",
            "\n",
            "Your model has been submitted as model version 5\n",
            "\n",
            "To submit code used to create this model or to view current leaderboard navigate to Model Playground: \n",
            "\n",
            " https://www.modelshare.org/detail/model:751\n"
          ]
        }
      ]
    },
    {
      "cell_type": "code",
      "metadata": {
        "colab": {
          "base_uri": "https://localhost:8080/",
          "height": 380
        },
        "id": "hn-Tp-zpJVGT",
        "outputId": "66675fea-c878-45e6-d527-bae3f41c93be"
      },
      "source": [
        "# Get leaderboard\n",
        "\n",
        "data = mycompetition.get_leaderboard()\n",
        "mycompetition.stylize_leaderboard(data)"
      ],
      "execution_count": 34,
      "outputs": [
        {
          "output_type": "execute_result",
          "data": {
            "text/html": [
              "<style  type=\"text/css\" >\n",
              "#T_e85055ba_3d81_11ec_87d0_0242ac1c0002row0_col0,#T_e85055ba_3d81_11ec_87d0_0242ac1c0002row1_col0{\n",
              "            text-align:  center;\n",
              "            width:  10em;\n",
              "             height:  80%;\n",
              "            background:  linear-gradient(90deg,#f5f8d6 79.0%, transparent 79.0%);\n",
              "            color:  #251e1b;\n",
              "            font-size:  12px;\n",
              "        }#T_e85055ba_3d81_11ec_87d0_0242ac1c0002row0_col1,#T_e85055ba_3d81_11ec_87d0_0242ac1c0002row1_col1{\n",
              "            text-align:  center;\n",
              "            width:  10em;\n",
              "             height:  80%;\n",
              "            background:  linear-gradient(90deg,#c778c8 77.3%, transparent 77.3%);\n",
              "            color:  #251e1b;\n",
              "            font-size:  12px;\n",
              "        }#T_e85055ba_3d81_11ec_87d0_0242ac1c0002row0_col2,#T_e85055ba_3d81_11ec_87d0_0242ac1c0002row1_col2{\n",
              "            text-align:  center;\n",
              "            width:  10em;\n",
              "             height:  80%;\n",
              "            background:  linear-gradient(90deg,#ff4971 77.8%, transparent 77.8%);\n",
              "            color:  #251e1b;\n",
              "            font-size:  12px;\n",
              "        }#T_e85055ba_3d81_11ec_87d0_0242ac1c0002row0_col3,#T_e85055ba_3d81_11ec_87d0_0242ac1c0002row1_col3{\n",
              "            text-align:  center;\n",
              "            width:  10em;\n",
              "             height:  80%;\n",
              "            background:  linear-gradient(90deg,#aadbaa 77.0%, transparent 77.0%);\n",
              "            color:  #251e1b;\n",
              "            font-size:  12px;\n",
              "        }#T_e85055ba_3d81_11ec_87d0_0242ac1c0002row0_col4,#T_e85055ba_3d81_11ec_87d0_0242ac1c0002row0_col5,#T_e85055ba_3d81_11ec_87d0_0242ac1c0002row0_col6,#T_e85055ba_3d81_11ec_87d0_0242ac1c0002row0_col7,#T_e85055ba_3d81_11ec_87d0_0242ac1c0002row0_col8,#T_e85055ba_3d81_11ec_87d0_0242ac1c0002row0_col9,#T_e85055ba_3d81_11ec_87d0_0242ac1c0002row0_col10,#T_e85055ba_3d81_11ec_87d0_0242ac1c0002row0_col11,#T_e85055ba_3d81_11ec_87d0_0242ac1c0002row0_col12,#T_e85055ba_3d81_11ec_87d0_0242ac1c0002row1_col4,#T_e85055ba_3d81_11ec_87d0_0242ac1c0002row1_col5,#T_e85055ba_3d81_11ec_87d0_0242ac1c0002row1_col6,#T_e85055ba_3d81_11ec_87d0_0242ac1c0002row1_col7,#T_e85055ba_3d81_11ec_87d0_0242ac1c0002row1_col8,#T_e85055ba_3d81_11ec_87d0_0242ac1c0002row1_col9,#T_e85055ba_3d81_11ec_87d0_0242ac1c0002row1_col10,#T_e85055ba_3d81_11ec_87d0_0242ac1c0002row1_col11,#T_e85055ba_3d81_11ec_87d0_0242ac1c0002row1_col12,#T_e85055ba_3d81_11ec_87d0_0242ac1c0002row2_col4,#T_e85055ba_3d81_11ec_87d0_0242ac1c0002row2_col5,#T_e85055ba_3d81_11ec_87d0_0242ac1c0002row2_col6,#T_e85055ba_3d81_11ec_87d0_0242ac1c0002row2_col7,#T_e85055ba_3d81_11ec_87d0_0242ac1c0002row2_col8,#T_e85055ba_3d81_11ec_87d0_0242ac1c0002row2_col9,#T_e85055ba_3d81_11ec_87d0_0242ac1c0002row2_col10,#T_e85055ba_3d81_11ec_87d0_0242ac1c0002row2_col11,#T_e85055ba_3d81_11ec_87d0_0242ac1c0002row2_col12,#T_e85055ba_3d81_11ec_87d0_0242ac1c0002row3_col4,#T_e85055ba_3d81_11ec_87d0_0242ac1c0002row3_col5,#T_e85055ba_3d81_11ec_87d0_0242ac1c0002row3_col6,#T_e85055ba_3d81_11ec_87d0_0242ac1c0002row3_col7,#T_e85055ba_3d81_11ec_87d0_0242ac1c0002row3_col8,#T_e85055ba_3d81_11ec_87d0_0242ac1c0002row3_col9,#T_e85055ba_3d81_11ec_87d0_0242ac1c0002row3_col10,#T_e85055ba_3d81_11ec_87d0_0242ac1c0002row3_col11,#T_e85055ba_3d81_11ec_87d0_0242ac1c0002row3_col12,#T_e85055ba_3d81_11ec_87d0_0242ac1c0002row4_col4,#T_e85055ba_3d81_11ec_87d0_0242ac1c0002row4_col5,#T_e85055ba_3d81_11ec_87d0_0242ac1c0002row4_col6,#T_e85055ba_3d81_11ec_87d0_0242ac1c0002row4_col7,#T_e85055ba_3d81_11ec_87d0_0242ac1c0002row4_col8,#T_e85055ba_3d81_11ec_87d0_0242ac1c0002row4_col9,#T_e85055ba_3d81_11ec_87d0_0242ac1c0002row4_col10,#T_e85055ba_3d81_11ec_87d0_0242ac1c0002row4_col11,#T_e85055ba_3d81_11ec_87d0_0242ac1c0002row4_col12{\n",
              "            text-align:  center;\n",
              "        }#T_e85055ba_3d81_11ec_87d0_0242ac1c0002row2_col0{\n",
              "            text-align:  center;\n",
              "            width:  10em;\n",
              "             height:  80%;\n",
              "            background:  linear-gradient(90deg,#f5f8d6 78.6%, transparent 78.6%);\n",
              "            color:  #251e1b;\n",
              "            font-size:  12px;\n",
              "        }#T_e85055ba_3d81_11ec_87d0_0242ac1c0002row2_col1{\n",
              "            text-align:  center;\n",
              "            width:  10em;\n",
              "             height:  80%;\n",
              "            background:  linear-gradient(90deg,#c778c8 76.9%, transparent 76.9%);\n",
              "            color:  #251e1b;\n",
              "            font-size:  12px;\n",
              "        }#T_e85055ba_3d81_11ec_87d0_0242ac1c0002row2_col2{\n",
              "            text-align:  center;\n",
              "            width:  10em;\n",
              "             height:  80%;\n",
              "            background:  linear-gradient(90deg,#ff4971 77.5%, transparent 77.5%);\n",
              "            color:  #251e1b;\n",
              "            font-size:  12px;\n",
              "        }#T_e85055ba_3d81_11ec_87d0_0242ac1c0002row2_col3{\n",
              "            text-align:  center;\n",
              "            width:  10em;\n",
              "             height:  80%;\n",
              "            background:  linear-gradient(90deg,#aadbaa 76.5%, transparent 76.5%);\n",
              "            color:  #251e1b;\n",
              "            font-size:  12px;\n",
              "        }#T_e85055ba_3d81_11ec_87d0_0242ac1c0002row3_col0,#T_e85055ba_3d81_11ec_87d0_0242ac1c0002row4_col0{\n",
              "            text-align:  center;\n",
              "            width:  10em;\n",
              "             height:  80%;\n",
              "            background:  linear-gradient(90deg,#f5f8d6 76.0%, transparent 76.0%);\n",
              "            color:  #251e1b;\n",
              "            font-size:  12px;\n",
              "        }#T_e85055ba_3d81_11ec_87d0_0242ac1c0002row3_col1,#T_e85055ba_3d81_11ec_87d0_0242ac1c0002row4_col1{\n",
              "            text-align:  center;\n",
              "            width:  10em;\n",
              "             height:  80%;\n",
              "            background:  linear-gradient(90deg,#c778c8 72.3%, transparent 72.3%);\n",
              "            color:  #251e1b;\n",
              "            font-size:  12px;\n",
              "        }#T_e85055ba_3d81_11ec_87d0_0242ac1c0002row3_col2,#T_e85055ba_3d81_11ec_87d0_0242ac1c0002row4_col2{\n",
              "            text-align:  center;\n",
              "            width:  10em;\n",
              "             height:  80%;\n",
              "            background:  linear-gradient(90deg,#ff4971 76.1%, transparent 76.1%);\n",
              "            color:  #251e1b;\n",
              "            font-size:  12px;\n",
              "        }#T_e85055ba_3d81_11ec_87d0_0242ac1c0002row3_col3,#T_e85055ba_3d81_11ec_87d0_0242ac1c0002row4_col3{\n",
              "            text-align:  center;\n",
              "            width:  10em;\n",
              "             height:  80%;\n",
              "            background:  linear-gradient(90deg,#aadbaa 71.4%, transparent 71.4%);\n",
              "            color:  #251e1b;\n",
              "            font-size:  12px;\n",
              "        }</style><table id=\"T_e85055ba_3d81_11ec_87d0_0242ac1c0002\" class=\"dataframe\"><thead>    <tr>        <th class=\"blank level0\" ></th>        <th class=\"col_heading level0 col0\" >accuracy</th>        <th class=\"col_heading level0 col1\" >f1_score</th>        <th class=\"col_heading level0 col2\" >precision</th>        <th class=\"col_heading level0 col3\" >recall</th>        <th class=\"col_heading level0 col4\" >ml_framework</th>        <th class=\"col_heading level0 col5\" >transfer_learning</th>        <th class=\"col_heading level0 col6\" >deep_learning</th>        <th class=\"col_heading level0 col7\" >model_type</th>        <th class=\"col_heading level0 col8\" >num_params</th>        <th class=\"col_heading level0 col9\" >optimizer</th>        <th class=\"col_heading level0 col10\" >model_config</th>        <th class=\"col_heading level0 col11\" >username</th>        <th class=\"col_heading level0 col12\" >version</th>    </tr></thead><tbody>\n",
              "                <tr>\n",
              "                        <th id=\"T_e85055ba_3d81_11ec_87d0_0242ac1c0002level0_row0\" class=\"row_heading level0 row0\" >0</th>\n",
              "                        <td id=\"T_e85055ba_3d81_11ec_87d0_0242ac1c0002row0_col0\" class=\"data row0 col0\" >79.01%</td>\n",
              "                        <td id=\"T_e85055ba_3d81_11ec_87d0_0242ac1c0002row0_col1\" class=\"data row0 col1\" >77.34%</td>\n",
              "                        <td id=\"T_e85055ba_3d81_11ec_87d0_0242ac1c0002row0_col2\" class=\"data row0 col2\" >77.84%</td>\n",
              "                        <td id=\"T_e85055ba_3d81_11ec_87d0_0242ac1c0002row0_col3\" class=\"data row0 col3\" >76.98%</td>\n",
              "                        <td id=\"T_e85055ba_3d81_11ec_87d0_0242ac1c0002row0_col4\" class=\"data row0 col4\" >sklearn</td>\n",
              "                        <td id=\"T_e85055ba_3d81_11ec_87d0_0242ac1c0002row0_col5\" class=\"data row0 col5\" >False</td>\n",
              "                        <td id=\"T_e85055ba_3d81_11ec_87d0_0242ac1c0002row0_col6\" class=\"data row0 col6\" >False</td>\n",
              "                        <td id=\"T_e85055ba_3d81_11ec_87d0_0242ac1c0002row0_col7\" class=\"data row0 col7\" >LogisticRegression</td>\n",
              "                        <td id=\"T_e85055ba_3d81_11ec_87d0_0242ac1c0002row0_col8\" class=\"data row0 col8\" >10</td>\n",
              "                        <td id=\"T_e85055ba_3d81_11ec_87d0_0242ac1c0002row0_col9\" class=\"data row0 col9\" >liblinear</td>\n",
              "                        <td id=\"T_e85055ba_3d81_11ec_87d0_0242ac1c0002row0_col10\" class=\"data row0 col10\" >{'C': 10, 'class_weight': None...</td>\n",
              "                        <td id=\"T_e85055ba_3d81_11ec_87d0_0242ac1c0002row0_col11\" class=\"data row0 col11\" >mikedparrott</td>\n",
              "                        <td id=\"T_e85055ba_3d81_11ec_87d0_0242ac1c0002row0_col12\" class=\"data row0 col12\" >1</td>\n",
              "            </tr>\n",
              "            <tr>\n",
              "                        <th id=\"T_e85055ba_3d81_11ec_87d0_0242ac1c0002level0_row1\" class=\"row_heading level0 row1\" >1</th>\n",
              "                        <td id=\"T_e85055ba_3d81_11ec_87d0_0242ac1c0002row1_col0\" class=\"data row1 col0\" >79.01%</td>\n",
              "                        <td id=\"T_e85055ba_3d81_11ec_87d0_0242ac1c0002row1_col1\" class=\"data row1 col1\" >77.34%</td>\n",
              "                        <td id=\"T_e85055ba_3d81_11ec_87d0_0242ac1c0002row1_col2\" class=\"data row1 col2\" >77.84%</td>\n",
              "                        <td id=\"T_e85055ba_3d81_11ec_87d0_0242ac1c0002row1_col3\" class=\"data row1 col3\" >76.98%</td>\n",
              "                        <td id=\"T_e85055ba_3d81_11ec_87d0_0242ac1c0002row1_col4\" class=\"data row1 col4\" >sklearn</td>\n",
              "                        <td id=\"T_e85055ba_3d81_11ec_87d0_0242ac1c0002row1_col5\" class=\"data row1 col5\" >False</td>\n",
              "                        <td id=\"T_e85055ba_3d81_11ec_87d0_0242ac1c0002row1_col6\" class=\"data row1 col6\" >False</td>\n",
              "                        <td id=\"T_e85055ba_3d81_11ec_87d0_0242ac1c0002row1_col7\" class=\"data row1 col7\" >LogisticRegression</td>\n",
              "                        <td id=\"T_e85055ba_3d81_11ec_87d0_0242ac1c0002row1_col8\" class=\"data row1 col8\" >10</td>\n",
              "                        <td id=\"T_e85055ba_3d81_11ec_87d0_0242ac1c0002row1_col9\" class=\"data row1 col9\" >liblinear</td>\n",
              "                        <td id=\"T_e85055ba_3d81_11ec_87d0_0242ac1c0002row1_col10\" class=\"data row1 col10\" >{'C': 10, 'class_weight': None...</td>\n",
              "                        <td id=\"T_e85055ba_3d81_11ec_87d0_0242ac1c0002row1_col11\" class=\"data row1 col11\" >newusertest</td>\n",
              "                        <td id=\"T_e85055ba_3d81_11ec_87d0_0242ac1c0002row1_col12\" class=\"data row1 col12\" >3</td>\n",
              "            </tr>\n",
              "            <tr>\n",
              "                        <th id=\"T_e85055ba_3d81_11ec_87d0_0242ac1c0002level0_row2\" class=\"row_heading level0 row2\" >2</th>\n",
              "                        <td id=\"T_e85055ba_3d81_11ec_87d0_0242ac1c0002row2_col0\" class=\"data row2 col0\" >78.63%</td>\n",
              "                        <td id=\"T_e85055ba_3d81_11ec_87d0_0242ac1c0002row2_col1\" class=\"data row2 col1\" >76.88%</td>\n",
              "                        <td id=\"T_e85055ba_3d81_11ec_87d0_0242ac1c0002row2_col2\" class=\"data row2 col2\" >77.46%</td>\n",
              "                        <td id=\"T_e85055ba_3d81_11ec_87d0_0242ac1c0002row2_col3\" class=\"data row2 col3\" >76.48%</td>\n",
              "                        <td id=\"T_e85055ba_3d81_11ec_87d0_0242ac1c0002row2_col4\" class=\"data row2 col4\" >sklearn</td>\n",
              "                        <td id=\"T_e85055ba_3d81_11ec_87d0_0242ac1c0002row2_col5\" class=\"data row2 col5\" >False</td>\n",
              "                        <td id=\"T_e85055ba_3d81_11ec_87d0_0242ac1c0002row2_col6\" class=\"data row2 col6\" >False</td>\n",
              "                        <td id=\"T_e85055ba_3d81_11ec_87d0_0242ac1c0002row2_col7\" class=\"data row2 col7\" >LogisticRegression</td>\n",
              "                        <td id=\"T_e85055ba_3d81_11ec_87d0_0242ac1c0002row2_col8\" class=\"data row2 col8\" >10</td>\n",
              "                        <td id=\"T_e85055ba_3d81_11ec_87d0_0242ac1c0002row2_col9\" class=\"data row2 col9\" >newton-cg</td>\n",
              "                        <td id=\"T_e85055ba_3d81_11ec_87d0_0242ac1c0002row2_col10\" class=\"data row2 col10\" >{'C': 0.1, 'class_weight': Non...</td>\n",
              "                        <td id=\"T_e85055ba_3d81_11ec_87d0_0242ac1c0002row2_col11\" class=\"data row2 col11\" >newusertest</td>\n",
              "                        <td id=\"T_e85055ba_3d81_11ec_87d0_0242ac1c0002row2_col12\" class=\"data row2 col12\" >5</td>\n",
              "            </tr>\n",
              "            <tr>\n",
              "                        <th id=\"T_e85055ba_3d81_11ec_87d0_0242ac1c0002level0_row3\" class=\"row_heading level0 row3\" >3</th>\n",
              "                        <td id=\"T_e85055ba_3d81_11ec_87d0_0242ac1c0002row3_col0\" class=\"data row3 col0\" >75.95%</td>\n",
              "                        <td id=\"T_e85055ba_3d81_11ec_87d0_0242ac1c0002row3_col1\" class=\"data row3 col1\" >72.31%</td>\n",
              "                        <td id=\"T_e85055ba_3d81_11ec_87d0_0242ac1c0002row3_col2\" class=\"data row3 col2\" >76.12%</td>\n",
              "                        <td id=\"T_e85055ba_3d81_11ec_87d0_0242ac1c0002row3_col3\" class=\"data row3 col3\" >71.35%</td>\n",
              "                        <td id=\"T_e85055ba_3d81_11ec_87d0_0242ac1c0002row3_col4\" class=\"data row3 col4\" >sklearn</td>\n",
              "                        <td id=\"T_e85055ba_3d81_11ec_87d0_0242ac1c0002row3_col5\" class=\"data row3 col5\" >False</td>\n",
              "                        <td id=\"T_e85055ba_3d81_11ec_87d0_0242ac1c0002row3_col6\" class=\"data row3 col6\" >False</td>\n",
              "                        <td id=\"T_e85055ba_3d81_11ec_87d0_0242ac1c0002row3_col7\" class=\"data row3 col7\" >LogisticRegression</td>\n",
              "                        <td id=\"T_e85055ba_3d81_11ec_87d0_0242ac1c0002row3_col8\" class=\"data row3 col8\" >10</td>\n",
              "                        <td id=\"T_e85055ba_3d81_11ec_87d0_0242ac1c0002row3_col9\" class=\"data row3 col9\" >lbfgs</td>\n",
              "                        <td id=\"T_e85055ba_3d81_11ec_87d0_0242ac1c0002row3_col10\" class=\"data row3 col10\" >{'C': 0.01, 'class_weight': No...</td>\n",
              "                        <td id=\"T_e85055ba_3d81_11ec_87d0_0242ac1c0002row3_col11\" class=\"data row3 col11\" >mikedparrott</td>\n",
              "                        <td id=\"T_e85055ba_3d81_11ec_87d0_0242ac1c0002row3_col12\" class=\"data row3 col12\" >2</td>\n",
              "            </tr>\n",
              "            <tr>\n",
              "                        <th id=\"T_e85055ba_3d81_11ec_87d0_0242ac1c0002level0_row4\" class=\"row_heading level0 row4\" >4</th>\n",
              "                        <td id=\"T_e85055ba_3d81_11ec_87d0_0242ac1c0002row4_col0\" class=\"data row4 col0\" >75.95%</td>\n",
              "                        <td id=\"T_e85055ba_3d81_11ec_87d0_0242ac1c0002row4_col1\" class=\"data row4 col1\" >72.31%</td>\n",
              "                        <td id=\"T_e85055ba_3d81_11ec_87d0_0242ac1c0002row4_col2\" class=\"data row4 col2\" >76.12%</td>\n",
              "                        <td id=\"T_e85055ba_3d81_11ec_87d0_0242ac1c0002row4_col3\" class=\"data row4 col3\" >71.35%</td>\n",
              "                        <td id=\"T_e85055ba_3d81_11ec_87d0_0242ac1c0002row4_col4\" class=\"data row4 col4\" >sklearn</td>\n",
              "                        <td id=\"T_e85055ba_3d81_11ec_87d0_0242ac1c0002row4_col5\" class=\"data row4 col5\" >False</td>\n",
              "                        <td id=\"T_e85055ba_3d81_11ec_87d0_0242ac1c0002row4_col6\" class=\"data row4 col6\" >False</td>\n",
              "                        <td id=\"T_e85055ba_3d81_11ec_87d0_0242ac1c0002row4_col7\" class=\"data row4 col7\" >LogisticRegression</td>\n",
              "                        <td id=\"T_e85055ba_3d81_11ec_87d0_0242ac1c0002row4_col8\" class=\"data row4 col8\" >10</td>\n",
              "                        <td id=\"T_e85055ba_3d81_11ec_87d0_0242ac1c0002row4_col9\" class=\"data row4 col9\" >newton-cg</td>\n",
              "                        <td id=\"T_e85055ba_3d81_11ec_87d0_0242ac1c0002row4_col10\" class=\"data row4 col10\" >{'C': 0.01, 'class_weight': No...</td>\n",
              "                        <td id=\"T_e85055ba_3d81_11ec_87d0_0242ac1c0002row4_col11\" class=\"data row4 col11\" >newusertest</td>\n",
              "                        <td id=\"T_e85055ba_3d81_11ec_87d0_0242ac1c0002row4_col12\" class=\"data row4 col12\" >4</td>\n",
              "            </tr>\n",
              "    </tbody></table>"
            ],
            "text/plain": [
              "<pandas.io.formats.style.Styler at 0x7f904a563090>"
            ]
          },
          "metadata": {},
          "execution_count": 34
        }
      ]
    },
    {
      "cell_type": "code",
      "metadata": {
        "id": "MKvPKyb7hT0h",
        "outputId": "677e80eb-18c7-4a58-8200-6a24750947f1",
        "colab": {
          "base_uri": "https://localhost:8080/",
          "height": 439
        }
      },
      "source": [
        "# Compare two or more models (Experimental, Git-like Diffs for Model Architectures)\n",
        "data=mycompetition.compare_models([1,5], verbose=1)\n",
        "mycompetition.stylize_compare(data)"
      ],
      "execution_count": 35,
      "outputs": [
        {
          "output_type": "display_data",
          "data": {
            "text/html": [
              "<style  type=\"text/css\" >\n",
              "    #T_20979456_3d82_11ec_87d0_0242ac1c0002 caption {\n",
              "          color: black;\n",
              "          font-size: 18px;\n",
              "    }#T_20979456_3d82_11ec_87d0_0242ac1c0002row0_col2,#T_20979456_3d82_11ec_87d0_0242ac1c0002row0_col3,#T_20979456_3d82_11ec_87d0_0242ac1c0002row9_col2,#T_20979456_3d82_11ec_87d0_0242ac1c0002row11_col2,#T_20979456_3d82_11ec_87d0_0242ac1c0002row11_col3{\n",
              "            background:  tomato;\n",
              "        }</style><table id=\"T_20979456_3d82_11ec_87d0_0242ac1c0002\" ><caption>Model type: LogisticRegression</caption><thead>    <tr>        <th class=\"blank level0\" ></th>        <th class=\"col_heading level0 col0\" >param_name</th>        <th class=\"col_heading level0 col1\" >default_value</th>        <th class=\"col_heading level0 col2\" >model_version_1</th>        <th class=\"col_heading level0 col3\" >model_version_5</th>    </tr></thead><tbody>\n",
              "                <tr>\n",
              "                        <th id=\"T_20979456_3d82_11ec_87d0_0242ac1c0002level0_row0\" class=\"row_heading level0 row0\" >0</th>\n",
              "                        <td id=\"T_20979456_3d82_11ec_87d0_0242ac1c0002row0_col0\" class=\"data row0 col0\" >C</td>\n",
              "                        <td id=\"T_20979456_3d82_11ec_87d0_0242ac1c0002row0_col1\" class=\"data row0 col1\" >1.000000</td>\n",
              "                        <td id=\"T_20979456_3d82_11ec_87d0_0242ac1c0002row0_col2\" class=\"data row0 col2\" >10</td>\n",
              "                        <td id=\"T_20979456_3d82_11ec_87d0_0242ac1c0002row0_col3\" class=\"data row0 col3\" >0.100000</td>\n",
              "            </tr>\n",
              "            <tr>\n",
              "                        <th id=\"T_20979456_3d82_11ec_87d0_0242ac1c0002level0_row1\" class=\"row_heading level0 row1\" >1</th>\n",
              "                        <td id=\"T_20979456_3d82_11ec_87d0_0242ac1c0002row1_col0\" class=\"data row1 col0\" >class_weight</td>\n",
              "                        <td id=\"T_20979456_3d82_11ec_87d0_0242ac1c0002row1_col1\" class=\"data row1 col1\" >None</td>\n",
              "                        <td id=\"T_20979456_3d82_11ec_87d0_0242ac1c0002row1_col2\" class=\"data row1 col2\" >None</td>\n",
              "                        <td id=\"T_20979456_3d82_11ec_87d0_0242ac1c0002row1_col3\" class=\"data row1 col3\" >None</td>\n",
              "            </tr>\n",
              "            <tr>\n",
              "                        <th id=\"T_20979456_3d82_11ec_87d0_0242ac1c0002level0_row2\" class=\"row_heading level0 row2\" >2</th>\n",
              "                        <td id=\"T_20979456_3d82_11ec_87d0_0242ac1c0002row2_col0\" class=\"data row2 col0\" >dual</td>\n",
              "                        <td id=\"T_20979456_3d82_11ec_87d0_0242ac1c0002row2_col1\" class=\"data row2 col1\" >False</td>\n",
              "                        <td id=\"T_20979456_3d82_11ec_87d0_0242ac1c0002row2_col2\" class=\"data row2 col2\" >False</td>\n",
              "                        <td id=\"T_20979456_3d82_11ec_87d0_0242ac1c0002row2_col3\" class=\"data row2 col3\" >False</td>\n",
              "            </tr>\n",
              "            <tr>\n",
              "                        <th id=\"T_20979456_3d82_11ec_87d0_0242ac1c0002level0_row3\" class=\"row_heading level0 row3\" >3</th>\n",
              "                        <td id=\"T_20979456_3d82_11ec_87d0_0242ac1c0002row3_col0\" class=\"data row3 col0\" >fit_intercept</td>\n",
              "                        <td id=\"T_20979456_3d82_11ec_87d0_0242ac1c0002row3_col1\" class=\"data row3 col1\" >True</td>\n",
              "                        <td id=\"T_20979456_3d82_11ec_87d0_0242ac1c0002row3_col2\" class=\"data row3 col2\" >True</td>\n",
              "                        <td id=\"T_20979456_3d82_11ec_87d0_0242ac1c0002row3_col3\" class=\"data row3 col3\" >True</td>\n",
              "            </tr>\n",
              "            <tr>\n",
              "                        <th id=\"T_20979456_3d82_11ec_87d0_0242ac1c0002level0_row4\" class=\"row_heading level0 row4\" >4</th>\n",
              "                        <td id=\"T_20979456_3d82_11ec_87d0_0242ac1c0002row4_col0\" class=\"data row4 col0\" >intercept_scaling</td>\n",
              "                        <td id=\"T_20979456_3d82_11ec_87d0_0242ac1c0002row4_col1\" class=\"data row4 col1\" >1</td>\n",
              "                        <td id=\"T_20979456_3d82_11ec_87d0_0242ac1c0002row4_col2\" class=\"data row4 col2\" >1</td>\n",
              "                        <td id=\"T_20979456_3d82_11ec_87d0_0242ac1c0002row4_col3\" class=\"data row4 col3\" >1</td>\n",
              "            </tr>\n",
              "            <tr>\n",
              "                        <th id=\"T_20979456_3d82_11ec_87d0_0242ac1c0002level0_row5\" class=\"row_heading level0 row5\" >5</th>\n",
              "                        <td id=\"T_20979456_3d82_11ec_87d0_0242ac1c0002row5_col0\" class=\"data row5 col0\" >l1_ratio</td>\n",
              "                        <td id=\"T_20979456_3d82_11ec_87d0_0242ac1c0002row5_col1\" class=\"data row5 col1\" >None</td>\n",
              "                        <td id=\"T_20979456_3d82_11ec_87d0_0242ac1c0002row5_col2\" class=\"data row5 col2\" >None</td>\n",
              "                        <td id=\"T_20979456_3d82_11ec_87d0_0242ac1c0002row5_col3\" class=\"data row5 col3\" >None</td>\n",
              "            </tr>\n",
              "            <tr>\n",
              "                        <th id=\"T_20979456_3d82_11ec_87d0_0242ac1c0002level0_row6\" class=\"row_heading level0 row6\" >6</th>\n",
              "                        <td id=\"T_20979456_3d82_11ec_87d0_0242ac1c0002row6_col0\" class=\"data row6 col0\" >max_iter</td>\n",
              "                        <td id=\"T_20979456_3d82_11ec_87d0_0242ac1c0002row6_col1\" class=\"data row6 col1\" >100</td>\n",
              "                        <td id=\"T_20979456_3d82_11ec_87d0_0242ac1c0002row6_col2\" class=\"data row6 col2\" >100</td>\n",
              "                        <td id=\"T_20979456_3d82_11ec_87d0_0242ac1c0002row6_col3\" class=\"data row6 col3\" >100</td>\n",
              "            </tr>\n",
              "            <tr>\n",
              "                        <th id=\"T_20979456_3d82_11ec_87d0_0242ac1c0002level0_row7\" class=\"row_heading level0 row7\" >7</th>\n",
              "                        <td id=\"T_20979456_3d82_11ec_87d0_0242ac1c0002row7_col0\" class=\"data row7 col0\" >multi_class</td>\n",
              "                        <td id=\"T_20979456_3d82_11ec_87d0_0242ac1c0002row7_col1\" class=\"data row7 col1\" >auto</td>\n",
              "                        <td id=\"T_20979456_3d82_11ec_87d0_0242ac1c0002row7_col2\" class=\"data row7 col2\" >auto</td>\n",
              "                        <td id=\"T_20979456_3d82_11ec_87d0_0242ac1c0002row7_col3\" class=\"data row7 col3\" >auto</td>\n",
              "            </tr>\n",
              "            <tr>\n",
              "                        <th id=\"T_20979456_3d82_11ec_87d0_0242ac1c0002level0_row8\" class=\"row_heading level0 row8\" >8</th>\n",
              "                        <td id=\"T_20979456_3d82_11ec_87d0_0242ac1c0002row8_col0\" class=\"data row8 col0\" >n_jobs</td>\n",
              "                        <td id=\"T_20979456_3d82_11ec_87d0_0242ac1c0002row8_col1\" class=\"data row8 col1\" >None</td>\n",
              "                        <td id=\"T_20979456_3d82_11ec_87d0_0242ac1c0002row8_col2\" class=\"data row8 col2\" >None</td>\n",
              "                        <td id=\"T_20979456_3d82_11ec_87d0_0242ac1c0002row8_col3\" class=\"data row8 col3\" >None</td>\n",
              "            </tr>\n",
              "            <tr>\n",
              "                        <th id=\"T_20979456_3d82_11ec_87d0_0242ac1c0002level0_row9\" class=\"row_heading level0 row9\" >9</th>\n",
              "                        <td id=\"T_20979456_3d82_11ec_87d0_0242ac1c0002row9_col0\" class=\"data row9 col0\" >penalty</td>\n",
              "                        <td id=\"T_20979456_3d82_11ec_87d0_0242ac1c0002row9_col1\" class=\"data row9 col1\" >l2</td>\n",
              "                        <td id=\"T_20979456_3d82_11ec_87d0_0242ac1c0002row9_col2\" class=\"data row9 col2\" >l1</td>\n",
              "                        <td id=\"T_20979456_3d82_11ec_87d0_0242ac1c0002row9_col3\" class=\"data row9 col3\" >l2</td>\n",
              "            </tr>\n",
              "            <tr>\n",
              "                        <th id=\"T_20979456_3d82_11ec_87d0_0242ac1c0002level0_row10\" class=\"row_heading level0 row10\" >10</th>\n",
              "                        <td id=\"T_20979456_3d82_11ec_87d0_0242ac1c0002row10_col0\" class=\"data row10 col0\" >random_state</td>\n",
              "                        <td id=\"T_20979456_3d82_11ec_87d0_0242ac1c0002row10_col1\" class=\"data row10 col1\" >None</td>\n",
              "                        <td id=\"T_20979456_3d82_11ec_87d0_0242ac1c0002row10_col2\" class=\"data row10 col2\" >None</td>\n",
              "                        <td id=\"T_20979456_3d82_11ec_87d0_0242ac1c0002row10_col3\" class=\"data row10 col3\" >None</td>\n",
              "            </tr>\n",
              "            <tr>\n",
              "                        <th id=\"T_20979456_3d82_11ec_87d0_0242ac1c0002level0_row11\" class=\"row_heading level0 row11\" >11</th>\n",
              "                        <td id=\"T_20979456_3d82_11ec_87d0_0242ac1c0002row11_col0\" class=\"data row11 col0\" >solver</td>\n",
              "                        <td id=\"T_20979456_3d82_11ec_87d0_0242ac1c0002row11_col1\" class=\"data row11 col1\" >lbfgs</td>\n",
              "                        <td id=\"T_20979456_3d82_11ec_87d0_0242ac1c0002row11_col2\" class=\"data row11 col2\" >liblinear</td>\n",
              "                        <td id=\"T_20979456_3d82_11ec_87d0_0242ac1c0002row11_col3\" class=\"data row11 col3\" >newton-cg</td>\n",
              "            </tr>\n",
              "            <tr>\n",
              "                        <th id=\"T_20979456_3d82_11ec_87d0_0242ac1c0002level0_row12\" class=\"row_heading level0 row12\" >12</th>\n",
              "                        <td id=\"T_20979456_3d82_11ec_87d0_0242ac1c0002row12_col0\" class=\"data row12 col0\" >tol</td>\n",
              "                        <td id=\"T_20979456_3d82_11ec_87d0_0242ac1c0002row12_col1\" class=\"data row12 col1\" >0.000100</td>\n",
              "                        <td id=\"T_20979456_3d82_11ec_87d0_0242ac1c0002row12_col2\" class=\"data row12 col2\" >0.000100</td>\n",
              "                        <td id=\"T_20979456_3d82_11ec_87d0_0242ac1c0002row12_col3\" class=\"data row12 col3\" >0.000100</td>\n",
              "            </tr>\n",
              "            <tr>\n",
              "                        <th id=\"T_20979456_3d82_11ec_87d0_0242ac1c0002level0_row13\" class=\"row_heading level0 row13\" >13</th>\n",
              "                        <td id=\"T_20979456_3d82_11ec_87d0_0242ac1c0002row13_col0\" class=\"data row13 col0\" >verbose</td>\n",
              "                        <td id=\"T_20979456_3d82_11ec_87d0_0242ac1c0002row13_col1\" class=\"data row13 col1\" >0</td>\n",
              "                        <td id=\"T_20979456_3d82_11ec_87d0_0242ac1c0002row13_col2\" class=\"data row13 col2\" >0</td>\n",
              "                        <td id=\"T_20979456_3d82_11ec_87d0_0242ac1c0002row13_col3\" class=\"data row13 col3\" >0</td>\n",
              "            </tr>\n",
              "            <tr>\n",
              "                        <th id=\"T_20979456_3d82_11ec_87d0_0242ac1c0002level0_row14\" class=\"row_heading level0 row14\" >14</th>\n",
              "                        <td id=\"T_20979456_3d82_11ec_87d0_0242ac1c0002row14_col0\" class=\"data row14 col0\" >warm_start</td>\n",
              "                        <td id=\"T_20979456_3d82_11ec_87d0_0242ac1c0002row14_col1\" class=\"data row14 col1\" >False</td>\n",
              "                        <td id=\"T_20979456_3d82_11ec_87d0_0242ac1c0002row14_col2\" class=\"data row14 col2\" >False</td>\n",
              "                        <td id=\"T_20979456_3d82_11ec_87d0_0242ac1c0002row14_col3\" class=\"data row14 col3\" >False</td>\n",
              "            </tr>\n",
              "    </tbody></table>"
            ],
            "text/plain": [
              "<IPython.core.display.HTML object>"
            ]
          },
          "metadata": {}
        },
        {
          "output_type": "stream",
          "name": "stdout",
          "text": [
            "\n",
            "\n",
            "\n"
          ]
        }
      ]
    },
    {
      "cell_type": "code",
      "metadata": {
        "id": "tukB40NshcaB",
        "outputId": "8d85be70-f23c-4bdd-e51e-d780bb0d408a",
        "colab": {
          "base_uri": "https://localhost:8080/"
        }
      },
      "source": [
        "# Here are several classic ML architectures you can choose from to experiment with next:\n",
        "from sklearn.neighbors import KNeighborsClassifier\n",
        "from sklearn.svm import SVC\n",
        "from sklearn.ensemble import RandomForestClassifier\n",
        "from sklearn.tree import DecisionTreeRegressor\n",
        "from sklearn.ensemble import BaggingClassifier\n",
        "from sklearn.ensemble import GradientBoostingClassifier\n",
        "\n",
        "\n",
        "#Example code to fit model:\n",
        "model = RandomForestClassifier(n_estimators=200)\n",
        "model.fit(preprocessor(X_train), y_train) # Fitting to the training set.\n",
        "model.score(preprocessor(X_train), y_train) # Fit score, 0-1 scale.\n",
        "\n",
        "# Save sklearn model to local ONNX file\n",
        "from aimodelshare.aimsonnx import model_to_onnx\n",
        "\n",
        "\n",
        "feature_count=preprocessor(X_test).shape[1] #Get count of preprocessed features\n",
        "initial_type = [('float_input', FloatTensorType([None, feature_count]))]  # You need to insert correct number of preprocessed features\n",
        "\n",
        "onnx_model = model_to_onnx(model, framework='sklearn',\n",
        "                          initial_types=initial_type,\n",
        "                          transfer_learning=False,\n",
        "                          deep_learning=False)\n",
        "\n",
        "with open(\"model.onnx\", \"wb\") as f:\n",
        "    f.write(onnx_model.SerializeToString())\n",
        "\n",
        "#-- Generate predicted values (a list of predicted labels \"survived\" or \"died\")\n",
        "prediction_labels = model.predict(preprocessor(X_test))\n",
        "\n",
        "# Submit model to Competition Leaderboard\n",
        "mycompetition.submit_model(model_filepath = \"model.onnx\",\n",
        "                                 preprocessor_filepath=\"preprocessor.zip\",\n",
        "                                 prediction_submission=prediction_labels)\n"
      ],
      "execution_count": 37,
      "outputs": [
        {
          "output_type": "stream",
          "name": "stdout",
          "text": [
            "Insert search tags to help users find your model (optional): Random forest, untuned, titanic\n",
            "Provide any useful notes about your model (optional): Random forest, 200 trees, untuned\n",
            "\n",
            "Your model has been submitted as model version 6\n",
            "\n",
            "To submit code used to create this model or to view current leaderboard navigate to Model Playground: \n",
            "\n",
            " https://www.modelshare.org/detail/model:751\n"
          ]
        }
      ]
    }
  ]
}
