{
  "cells": [
    {
      "cell_type": "markdown",
      "metadata": {
        "id": "0BviI4QIdWiq"
      },
      "source": [
        "<p align=\"center\"><img width=\"50%\" src=\"https://www.modelshare.ai/img/ModelShareLogo_COLOR.abf79305.png\" /></p>\n",
        "\n",
        "\n",
        "---\n",
        "\n",
        "\n"
      ]
    },
    {
      "cell_type": "markdown",
      "metadata": {
        "id": "gYNp684Tk3tb"
      },
      "source": [
        "<p align=\"center\"><h1 align=\"center\">Quick Start: Used Car Sale Price Tabular Regression Tutorial</h1> \n",
        "\n"
      ]
    },
    {
      "cell_type": "markdown",
      "source": [
        "## **Create Model Playground ML Project Space: Submit, Track, and Deploy ML Model(s) in about 5 mins**\n",
        "> ### (1) Set Up Environment \n",
        "> ### (2) Create a Model Playground\n",
        "> ### (3) Submit, Track, and Deploy ML Model(s)\n",
        "> ### (4) Improve Models and Analyze Model Performance\n",
        "> ### (5) Maintain Your Model Playground"
      ],
      "metadata": {
        "id": "Z-MOk60U_ye-"
      }
    },
    {
      "cell_type": "markdown",
      "metadata": {
        "id": "ka97bz2iJm8m"
      },
      "source": [
        "## **(1) Set Up Environment**\n",
        "\n",
        "In order to deploy a Model Share AI Model Playground, you will need a credentials text file. \n",
        "\n",
        "Generating your credentials file requires two sets of information: \n",
        "1. Your Model Share AI username and password (create them [HERE](https://www.modelshare.org/login)). \n",
        "2. Your AWS (Amazon Web Services) access keys (follow the tutorial [HERE](https://docs.aws.amazon.com/general/latest/gr/aws-sec-cred-types.html)). \n",
        "\n",
        "You only need to generate your credentials file once. After running the configure function below, save the outputted file for all your future Model Playground deployments and competition submissions. \n",
        "\n",
        "*Note: Handle your credentials file with the same level of security you handle your passwords. Do not share your file with anyone, send via email, or upload to Github. Model Share AI does not store your credentials.*\n"
      ]
    },
    {
      "cell_type": "code",
      "execution_count": null,
      "metadata": {
        "id": "_QT_f8vFJm8n"
      },
      "outputs": [],
      "source": [
        "#install aimodelshare library\n",
        "! pip install aimodelshare --upgrade"
      ]
    },
    {
      "cell_type": "code",
      "execution_count": null,
      "metadata": {
        "colab": {
          "base_uri": "https://localhost:8080/"
        },
        "id": "KO7Ngo0JJm8n",
        "outputId": "ac05e6b8-16fa-4027-f49e-c4267d84a034"
      },
      "outputs": [
        {
          "output_type": "stream",
          "name": "stdout",
          "text": [
            "Modelshare.ai Username:··········\n",
            "Modelshare.ai Password:··········\n",
            "AWS_ACCESS_KEY_ID:··········\n",
            "AWS_SECRET_ACCESS_KEY:··········\n",
            "AWS_REGION:··········\n",
            "Configuration successful. New credentials file saved as 'credentials.txt'\n"
          ]
        }
      ],
      "source": [
        "# Generate credentials file\n",
        "from aimodelshare.aws import configure_credentials \n",
        "configure_credentials()"
      ]
    },
    {
      "cell_type": "code",
      "execution_count": null,
      "metadata": {
        "colab": {
          "base_uri": "https://localhost:8080/"
        },
        "outputId": "95713044-b255-45b7-9b3c-6c6378aa23c9",
        "id": "BgkksnMZJm8o"
      },
      "outputs": [
        {
          "output_type": "stream",
          "name": "stdout",
          "text": [
            "Modelshare.ai login credentials set successfully.\n",
            "AWS credentials set successfully.\n"
          ]
        }
      ],
      "source": [
        "# Set credentials \n",
        "from aimodelshare.aws import set_credentials\n",
        "set_credentials(credential_file=\"credentials.txt\", type=\"deploy_model\")"
      ]
    },
    {
      "cell_type": "code",
      "execution_count": null,
      "metadata": {
        "colab": {
          "base_uri": "https://localhost:8080/"
        },
        "id": "PwQcTsyyURIk",
        "outputId": "4f87e83d-9182-4d0d-f8a4-6470fd7092de"
      },
      "outputs": [
        {
          "output_type": "stream",
          "name": "stdout",
          "text": [
            "Downloading [===================>                             ]\n",
            "\n",
            "Data downloaded successfully.\n",
            "\n",
            "Preparing downloaded files for use...\n",
            "\n",
            "Success! Your Quick Start materials have been downloaded. \n",
            "You are now ready to run the tutorial.\n"
          ]
        }
      ],
      "source": [
        "# Get materials for tutorial: predicting sale prices of used cars (in USD)\n",
        "import aimodelshare as ai\n",
        "X_train, X_test, y_train, y_test, example_data = ai.import_quickstart_data(\"cars\")"
      ]
    },
    {
      "cell_type": "markdown",
      "metadata": {
        "id": "FCC0_ckFJy4V"
      },
      "source": [
        "## **(2) Create a Model Playground**"
      ]
    },
    {
      "cell_type": "markdown",
      "source": [
        "### **Create a Model Playground**\n",
        "\n",
        "\n",
        "> ### Each Model Playground is a unique ML project space with lots of useful functionality...\n",
        "- Use playground.submit_model() to track ML models in experiments and/or competition leaderboards\n",
        "- Save, version, and reuse ML models each time they are submitted\n",
        "- Use playground.compare_models() to compare model architectures with git like colorized model diffs\n",
        "- Use playground.deploy_model() to deploy models instantly into live REST APIs and/or web-apps.  \n",
        "\n",
        "*  *First, you need to intantiate a ModelPlayground() object locally. Please specify the data type of your learning task (e.g., image, tabular, etc), whether the model is a classification or a regression model, and whether your playground should be public or private. If you choose \"private\" only approved team members can interact your model playground*  \n",
        "*  *Second, you can to create a playground page on the modelshare.ai website. You need to submit evaluation data that submitted models can be evaluated against.*  \n",
        "\n"
      ],
      "metadata": {
        "id": "gpHMK0Jp8xr_"
      }
    },
    {
      "cell_type": "code",
      "execution_count": null,
      "metadata": {
        "id": "7qCPVnB2oR53",
        "colab": {
          "base_uri": "https://localhost:8080/"
        },
        "outputId": "ad7b8b9d-72bf-4756-814f-1832ecb98cfe"
      },
      "outputs": [
        {
          "output_type": "stream",
          "name": "stdout",
          "text": [
            "Creating your prediction API. (This process may take several minutes.)\n",
            "\n",
            "[=====================================] Progress: 100% - Complete!                                            \n",
            "\n",
            "Success! Your Model Playground was created in 55 seconds. \n",
            " Playground Url: \"https://123vlpja7f.execute-api.us-east-1.amazonaws.com/prod/m\"\n",
            "\n",
            "You can now use your Model Playground.\n",
            "\n",
            "Follow this link to explore your Model Playground's functionality\n",
            "You can make predictions with the Dashboard and access example code from the Programmatic tab.\n",
            "https://www.modelshare.ai/detail/model:3524\n",
            "\n",
            "Check out your Model Playground page for more.\n"
          ]
        }
      ],
      "source": [
        "# Instantiate Model Playground object\n",
        "from aimodelshare.playground import ModelPlayground\n",
        "myplayground=ModelPlayground(input_type=\"tabular\", \n",
        "                             task_type=\"regression\", \n",
        "                             private=False)\n",
        "\n",
        "# Create Model Playground Page on modelshare.ai website\n",
        "myplayground.create(eval_data=list(y_test))"
      ]
    },
    {
      "cell_type": "markdown",
      "source": [
        "##  **3) Submit, Track, and Deploy Model(s)**\n"
      ],
      "metadata": {
        "id": "M3Q5N6FiLkfu"
      }
    },
    {
      "cell_type": "markdown",
      "metadata": {
        "id": "t0gVxdsQMUo8"
      },
      "source": [
        "### **Write a Preprocessor Function**\n",
        "\n",
        "\n",
        "> ###   Preprocessing functions play a crucial role in preparing data for your model by converting it into the specific format that is needed to generate predictions.  \n",
        "\n",
        "*  *Preprocessor functions should always be named \"preprocessor\".*\n",
        "*  *You can use any Python library in a preprocessor function, but all libraries should be imported inside your preprocessor function.*  \n",
        "*  *For image prediction models users should minimally include function inputs for an image filepath and values to reshape the image height and width.*  \n",
        "\n"
      ]
    },
    {
      "cell_type": "code",
      "execution_count": null,
      "metadata": {
        "id": "EmNKksFBMUo8"
      },
      "outputs": [],
      "source": [
        "# In this case we use Sklearn's Column transformer in our preprocessor function\n",
        "from sklearn.compose import ColumnTransformer\n",
        "from sklearn.pipeline import Pipeline\n",
        "from sklearn.impute import SimpleImputer\n",
        "from sklearn.preprocessing import StandardScaler, OneHotEncoder\n",
        "\n",
        "#Preprocess data using sklearn's Column Transformer approach\n",
        "# We create the preprocessing pipelines for both numeric and categorical data.\n",
        "numeric_features = ['km_driven', 'mileage', 'engine', 'max_power', 'year']\n",
        "numeric_transformer = Pipeline(steps=[\n",
        "    ('imputer', SimpleImputer(strategy='median')), #'imputer' names the step\n",
        "    ('scaler', StandardScaler())])\n",
        "categorical_features = ['fuel', 'seller_type', 'transmission', 'owner', 'seats']\n",
        "\n",
        "# Replacing missing values with Modal value and then one-hot encoding.\n",
        "categorical_transformer = Pipeline(steps=[\n",
        "    ('imputer', SimpleImputer(strategy='most_frequent')),\n",
        "    ('onehot', OneHotEncoder(handle_unknown='ignore'))])\n",
        "\n",
        "# Final preprocessor object set up with ColumnTransformer...\n",
        "preprocess = ColumnTransformer(\n",
        "    transformers=[\n",
        "        ('num', numeric_transformer, numeric_features),\n",
        "        ('cat', categorical_transformer, categorical_features)])\n",
        "\n",
        "# fit preprocessor to your data\n",
        "preprocess = preprocess.fit(X_train)\n",
        "\n",
        "# Write function to transform data with preprocessor \n",
        "# In this case we use sklearn's Column transformer in our preprocessor function\n",
        "def preprocessor(data):\n",
        "    preprocessed_data=preprocess.transform(data)\n",
        "    return preprocessed_data"
      ]
    },
    {
      "cell_type": "markdown",
      "source": [
        "### **Train Your Machine Learning Model**\n",
        "\n",
        "\n",
        "> ### Model Share supports Scikit-Learn, Tensorflow,  Keras, and Pytorch models out of the box.  \n",
        "\n",
        "*  *Train your model using your favorite ML library. Here, we are training a random forest model.*  \n",
        "*  *Use your model to make predictions on the test set.*  \n",
        "\n",
        "\n"
      ],
      "metadata": {
        "id": "TdHs5-m0BFNg"
      }
    },
    {
      "cell_type": "code",
      "execution_count": null,
      "metadata": {
        "id": "Tnrmg_aO230E"
      },
      "outputs": [],
      "source": [
        "from sklearn.ensemble import RandomForestRegressor\n",
        "from sklearn.metrics import r2_score\n",
        "\n",
        "model = RandomForestRegressor(n_estimators = 500, max_depth = 3, random_state=0)\n",
        "model.fit(preprocessor(X_train), y_train) # Fitting to the training set.\n",
        "predictions = model.predict(preprocessor(X_test))"
      ]
    },
    {
      "cell_type": "markdown",
      "source": [
        "### **Submit a Model to your Model Playground**\n",
        "\n",
        "\n",
        "> ### You can submit models to your Model Playground page in order to evaluate them, extract model metadata, compare them to other models, and turn them into REST API endpoints.  \n",
        "\n",
        "*  *Pass your model to the submit model function. You can either pass a model object, an ONNX object, or a filepath to an ONNX file.*  \n",
        "*  *Pass your preprocessor to ensure that your model can process new data.*\n",
        "*  *Pass your predictions to be evaluated against your playground evaluation data.*  \n",
        "\n",
        "\n"
      ],
      "metadata": {
        "id": "-d46P25H6mX6"
      }
    },
    {
      "cell_type": "code",
      "source": [
        "# Submit Model to Experiment Leaderboard\n",
        "# (Option: set submission_type=\"competition\" to submit to competition leaderboard)\n",
        "\n",
        "myplayground.submit_model(model=model,\n",
        "                          preprocessor=preprocessor,\n",
        "                          prediction_submission=predictions)"
      ],
      "metadata": {
        "colab": {
          "base_uri": "https://localhost:8080/"
        },
        "id": "oKypMQMvFCwc",
        "outputId": "b6f85802-c1af-4c47-b47c-a811a9341663"
      },
      "execution_count": null,
      "outputs": [
        {
          "output_type": "stream",
          "name": "stdout",
          "text": [
            "\n",
            "Insert search tags to help users find your model (optional): \n",
            "Provide any useful notes about your model (optional): \n",
            "Your model has been submitted to experiment as model version 1.\n",
            "\n",
            "Visit your Model Playground Page for more.\n",
            "https://www.modelshare.ai/detail/model:3524\n"
          ]
        }
      ]
    },
    {
      "cell_type": "markdown",
      "metadata": {
        "id": "NBgleMgmhWWx"
      },
      "source": [
        "### **Deploy a Model to a Prediction REST API and Web-app**\n",
        "\n",
        "\n",
        "> ### Update the prediction API behind your Model Playground with a new model and verify the model performance metrics in your Model Playground.\n",
        "\n",
        "Use playground.deploy_model() with the following key arguments:\n",
        "* *model_version: Simply refer to the model by its leaderboard version number.*\n",
        "* *example_data: deploy_model builds a web-app for you.  It needs some example data for end users to download to try your web-app.  For image data provide the path to a folder with some example images.* \n",
        "*  *y_train: For classification problems deploy_model needs well ordered y_training data labels.  Provide a python list of y_train labels or a one hot encoded Pandas y_training data frame, so your web-app and prediction api return the correct prediction labels*"
      ]
    },
    {
      "cell_type": "code",
      "source": [
        "# Deploy model by version number\n",
        "myplayground.deploy_model(model_version=1, \n",
        "                          example_data=example_data, \n",
        "                          y_train=y_train)"
      ],
      "metadata": {
        "id": "N63Il2o_zOYV",
        "colab": {
          "base_uri": "https://localhost:8080/"
        },
        "outputId": "bb33f59e-6c13-4035-e621-ecc1e6abe2f7"
      },
      "execution_count": null,
      "outputs": [
        {
          "output_type": "stream",
          "name": "stdout",
          "text": [
            "Runtime model & preprocessor for api: https://123vlpja7f.execute-api.us-east-1.amazonaws.com/prod/m updated to model version 1.\n",
            "\n",
            "Model metrics are now updated and verified for this model playground.\n",
            "\n",
            "Visit your Model Playground Page for more.\n",
            "https://www.modelshare.ai/detail/model:3524\n"
          ]
        }
      ]
    },
    {
      "cell_type": "markdown",
      "metadata": {
        "id": "8h3Stln6ETKj"
      },
      "source": [
        "## **(4) Improve Models and Analyze Model Performance**"
      ]
    },
    {
      "cell_type": "markdown",
      "source": [
        "### **Set Submission Credentials**\n",
        "\n",
        "> ### Authorized users can submit new models after setting credentials using modelshare.ai username/password.  \n",
        "\n",
        "*  *This only needs to be done if you want to submit models in a new session.*  \n",
        "*  *skip this step if you have already set your deployment credentials.*  \n",
        "\n",
        "\n"
      ],
      "metadata": {
        "id": "6yu9YsPx2j7b"
      }
    },
    {
      "cell_type": "code",
      "execution_count": null,
      "metadata": {
        "colab": {
          "base_uri": "https://localhost:8080/"
        },
        "id": "sJgu9K92DS8O",
        "outputId": "fb853288-1536-43bf-a1c2-62549e70ce2d"
      },
      "outputs": [
        {
          "output_type": "stream",
          "name": "stdout",
          "text": [
            "Modelshare.ai Username:··········\n",
            "Modelshare.ai Password:··········\n",
            "Modelshare.ai login credentials set successfully.\n"
          ]
        }
      ],
      "source": [
        "# example url from deployed playground: apiurl= \"https://123456.execute-api.us-east-1.amazonaws.com/prod/m\n",
        "apiurl=myplayground.playground_url \n",
        "\n",
        "set_credentials(apiurl=apiurl)"
      ]
    },
    {
      "cell_type": "markdown",
      "source": [
        "### **Submit More Models to your Model Playground**\n",
        "\n",
        "\n",
        "> ### You can submit models to your Model Playground page in order to evaluate them, extract model metadata, compare them to other models, and turn them into REST API endpoints.  \n",
        "\n",
        "*  *Pass your model to the submit model function. You can either pass a model object, an ONNX object, or a filepath to an ONNX file.*  \n",
        "*  *Pass your preprocessor to ensure that your model can process new data.*\n",
        "*  *Pass your predictions to be evaluated against your playground evaluation data.*  \n"
      ],
      "metadata": {
        "id": "DZyngoORDG6U"
      }
    },
    {
      "cell_type": "code",
      "execution_count": null,
      "metadata": {
        "id": "_1zG5VcgQcAB"
      },
      "outputs": [],
      "source": [
        "# Create model 2 \n",
        "from sklearn.ensemble import RandomForestRegressor\n",
        "from sklearn.metrics import r2_score\n",
        "\n",
        "model_2 = RandomForestRegressor(n_estimators = 1000, max_depth = 10, random_state=0)\n",
        "model_2.fit(preprocessor(X_train), y_train) # Fitting to the training set.\n",
        "predictions = model_2.predict(preprocessor(X_test))"
      ]
    },
    {
      "cell_type": "code",
      "execution_count": null,
      "metadata": {
        "colab": {
          "base_uri": "https://localhost:8080/"
        },
        "id": "Flts7zQNbhpq",
        "outputId": "dffb050f-0adf-4af2-897b-3c3e9334f5a7"
      },
      "outputs": [
        {
          "output_type": "stream",
          "name": "stdout",
          "text": [
            "\n",
            "Insert search tags to help users find your model (optional): \n",
            "Provide any useful notes about your model (optional): \n",
            "Your model has been submitted to experiment as model version 2.\n",
            "\n",
            "Visit your Model Playground Page for more.\n",
            "https://www.modelshare.ai/detail/model:3524\n"
          ]
        }
      ],
      "source": [
        "# Submit Model 2 to Experiment Leaderboard\n",
        "myplayground.submit_model(model = model_2,\n",
        "                          preprocessor=preprocessor,\n",
        "                          prediction_submission=predictions)"
      ]
    },
    {
      "cell_type": "markdown",
      "source": [
        "### **Check Experiment Leaderboard**\n",
        "\n",
        "\n",
        "> ### Leaderboards allow you to compare model architectures ranked by predictive performance.  \n",
        "\n",
        "*  *Query leaderboard data for models submitted to your Model Playground page.* \n",
        "*  *You can either stylize the leaderboard or use pandas to run your own analyses to explore which model architectures perform well.*  \n",
        "\n",
        "\n"
      ],
      "metadata": {
        "id": "oJv0x49U5exC"
      }
    },
    {
      "cell_type": "code",
      "execution_count": null,
      "metadata": {
        "colab": {
          "base_uri": "https://localhost:8080/",
          "height": 112
        },
        "id": "J0-B1h0chYDL",
        "outputId": "39174146-2a9d-4313-f5e2-6361065fd569"
      },
      "outputs": [
        {
          "output_type": "execute_result",
          "data": {
            "text/plain": [
              "<pandas.io.formats.style.Styler at 0x7fc5b2ab0160>"
            ],
            "text/html": [
              "<style type=\"text/css\">\n",
              "#T_32b12_row0_col0 {\n",
              "  text-align: center;\n",
              "  width: 10em;\n",
              "  background: linear-gradient(90deg, #f5f8d6 19.4%, transparent 19.4%);\n",
              "  color: #251e1b;\n",
              "  font-size: 12px;\n",
              "}\n",
              "#T_32b12_row0_col1 {\n",
              "  text-align: center;\n",
              "  width: 10em;\n",
              "  background: linear-gradient(90deg, #c778c8 44.1%, transparent 44.1%);\n",
              "  color: #251e1b;\n",
              "  font-size: 12px;\n",
              "}\n",
              "#T_32b12_row0_col2 {\n",
              "  text-align: center;\n",
              "  width: 10em;\n",
              "  background: linear-gradient(90deg, #ff4971 41.1%, transparent 41.1%);\n",
              "  color: #251e1b;\n",
              "  font-size: 12px;\n",
              "}\n",
              "#T_32b12_row0_col3 {\n",
              "  text-align: center;\n",
              "  width: 10em;\n",
              "  background: linear-gradient(90deg, #aadbaa 100.0%, transparent 100.0%);\n",
              "  color: #251e1b;\n",
              "  font-size: 12px;\n",
              "}\n",
              "#T_32b12_row0_col4, #T_32b12_row0_col5, #T_32b12_row0_col6, #T_32b12_row0_col7, #T_32b12_row1_col4, #T_32b12_row1_col5, #T_32b12_row1_col6, #T_32b12_row1_col7 {\n",
              "  text-align: center;\n",
              "}\n",
              "#T_32b12_row1_col0 {\n",
              "  text-align: center;\n",
              "  width: 10em;\n",
              "  background: linear-gradient(90deg, #f5f8d6 100.0%, transparent 100.0%);\n",
              "  color: #251e1b;\n",
              "  font-size: 12px;\n",
              "}\n",
              "#T_32b12_row1_col1 {\n",
              "  text-align: center;\n",
              "  width: 10em;\n",
              "  background: linear-gradient(90deg, #c778c8 100.0%, transparent 100.0%);\n",
              "  color: #251e1b;\n",
              "  font-size: 12px;\n",
              "}\n",
              "#T_32b12_row1_col2 {\n",
              "  text-align: center;\n",
              "  width: 10em;\n",
              "  background: linear-gradient(90deg, #ff4971 100.0%, transparent 100.0%);\n",
              "  color: #251e1b;\n",
              "  font-size: 12px;\n",
              "}\n",
              "#T_32b12_row1_col3 {\n",
              "  text-align: center;\n",
              "  width: 10em;\n",
              "  background: linear-gradient(90deg, #aadbaa 92.2%, transparent 92.2%);\n",
              "  color: #251e1b;\n",
              "  font-size: 12px;\n",
              "}\n",
              "</style>\n",
              "<table id=\"T_32b12\" class=\"dataframe\">\n",
              "  <thead>\n",
              "    <tr>\n",
              "      <th class=\"blank level0\" >&nbsp;</th>\n",
              "      <th id=\"T_32b12_level0_col0\" class=\"col_heading level0 col0\" >mse</th>\n",
              "      <th id=\"T_32b12_level0_col1\" class=\"col_heading level0 col1\" >rmse</th>\n",
              "      <th id=\"T_32b12_level0_col2\" class=\"col_heading level0 col2\" >mae</th>\n",
              "      <th id=\"T_32b12_level0_col3\" class=\"col_heading level0 col3\" >r2</th>\n",
              "      <th id=\"T_32b12_level0_col4\" class=\"col_heading level0 col4\" >ml_framework</th>\n",
              "      <th id=\"T_32b12_level0_col5\" class=\"col_heading level0 col5\" >model_type</th>\n",
              "      <th id=\"T_32b12_level0_col6\" class=\"col_heading level0 col6\" >username</th>\n",
              "      <th id=\"T_32b12_level0_col7\" class=\"col_heading level0 col7\" >version</th>\n",
              "    </tr>\n",
              "  </thead>\n",
              "  <tbody>\n",
              "    <tr>\n",
              "      <th id=\"T_32b12_level0_row0\" class=\"row_heading level0 row0\" >0</th>\n",
              "      <td id=\"T_32b12_row0_col0\" class=\"data row0 col0\" >2546511.23</td>\n",
              "      <td id=\"T_32b12_row0_col1\" class=\"data row0 col1\" >1595.78</td>\n",
              "      <td id=\"T_32b12_row0_col2\" class=\"data row0 col2\" >994.69</td>\n",
              "      <td id=\"T_32b12_row0_col3\" class=\"data row0 col3\" >0.98</td>\n",
              "      <td id=\"T_32b12_row0_col4\" class=\"data row0 col4\" >sklearn</td>\n",
              "      <td id=\"T_32b12_row0_col5\" class=\"data row0 col5\" >RandomForestRegressor</td>\n",
              "      <td id=\"T_32b12_row0_col6\" class=\"data row0 col6\" >hp2500test</td>\n",
              "      <td id=\"T_32b12_row0_col7\" class=\"data row0 col7\" >2</td>\n",
              "    </tr>\n",
              "    <tr>\n",
              "      <th id=\"T_32b12_level0_row1\" class=\"row_heading level0 row1\" >1</th>\n",
              "      <td id=\"T_32b12_row1_col0\" class=\"data row1 col0\" >13121209.97</td>\n",
              "      <td id=\"T_32b12_row1_col1\" class=\"data row1 col1\" >3622.32</td>\n",
              "      <td id=\"T_32b12_row1_col2\" class=\"data row1 col2\" >2423.01</td>\n",
              "      <td id=\"T_32b12_row1_col3\" class=\"data row1 col3\" >0.91</td>\n",
              "      <td id=\"T_32b12_row1_col4\" class=\"data row1 col4\" >sklearn</td>\n",
              "      <td id=\"T_32b12_row1_col5\" class=\"data row1 col5\" >RandomForestRegressor</td>\n",
              "      <td id=\"T_32b12_row1_col6\" class=\"data row1 col6\" >hp2500test</td>\n",
              "      <td id=\"T_32b12_row1_col7\" class=\"data row1 col7\" >1</td>\n",
              "    </tr>\n",
              "  </tbody>\n",
              "</table>\n"
            ]
          },
          "metadata": {},
          "execution_count": 15
        }
      ],
      "source": [
        "# Check experiment leaderboard\n",
        "data = myplayground.get_leaderboard()\n",
        "myplayground.stylize_leaderboard(data)"
      ]
    },
    {
      "cell_type": "markdown",
      "source": [
        "### **Compare Two or More Models**\n",
        "\n",
        "\n",
        "> ### Model comparisons can help you to identify differences in model architecture at a glance.  \n",
        "\n",
        "*  *Simply pass the version numbers of the models you would like to compare.* \n",
        "*  *For Keras and Pytoch models you can compare architectures through color-coded layer types. For Scikit-Learn models, you can compare hyperparameter settings.*  "
      ],
      "metadata": {
        "id": "O3574Lg-5M76"
      }
    },
    {
      "cell_type": "code",
      "execution_count": null,
      "metadata": {
        "colab": {
          "base_uri": "https://localhost:8080/",
          "height": 478
        },
        "id": "quo_V3A3hNS3",
        "outputId": "ea617b9e-2730-4e6d-d1fe-169bf486d69a"
      },
      "outputs": [
        {
          "output_type": "display_data",
          "data": {
            "text/plain": [
              "<IPython.core.display.HTML object>"
            ],
            "text/html": [
              "<style type=\"text/css\">\n",
              "#T_5d305 caption {\n",
              "  color: black;\n",
              "  font-size: 18px;\n",
              "}\n",
              "#T_5d305_row3_col2, #T_5d305_row3_col3, #T_5d305_row11_col2, #T_5d305_row11_col3, #T_5d305_row14_col2, #T_5d305_row14_col3 {\n",
              "  background: tomato;\n",
              "}\n",
              "</style>\n",
              "<table id=\"T_5d305\">\n",
              "  <caption>Model type: RandomForestRegressor</caption>\n",
              "  <thead>\n",
              "    <tr>\n",
              "      <th class=\"blank level0\" >&nbsp;</th>\n",
              "      <th id=\"T_5d305_level0_col0\" class=\"col_heading level0 col0\" >param_name</th>\n",
              "      <th id=\"T_5d305_level0_col1\" class=\"col_heading level0 col1\" >default_value</th>\n",
              "      <th id=\"T_5d305_level0_col2\" class=\"col_heading level0 col2\" >model_version_1</th>\n",
              "      <th id=\"T_5d305_level0_col3\" class=\"col_heading level0 col3\" >model_version_2</th>\n",
              "    </tr>\n",
              "  </thead>\n",
              "  <tbody>\n",
              "    <tr>\n",
              "      <th id=\"T_5d305_level0_row0\" class=\"row_heading level0 row0\" >0</th>\n",
              "      <td id=\"T_5d305_row0_col0\" class=\"data row0 col0\" >bootstrap</td>\n",
              "      <td id=\"T_5d305_row0_col1\" class=\"data row0 col1\" >True</td>\n",
              "      <td id=\"T_5d305_row0_col2\" class=\"data row0 col2\" >True</td>\n",
              "      <td id=\"T_5d305_row0_col3\" class=\"data row0 col3\" >True</td>\n",
              "    </tr>\n",
              "    <tr>\n",
              "      <th id=\"T_5d305_level0_row1\" class=\"row_heading level0 row1\" >1</th>\n",
              "      <td id=\"T_5d305_row1_col0\" class=\"data row1 col0\" >ccp_alpha</td>\n",
              "      <td id=\"T_5d305_row1_col1\" class=\"data row1 col1\" >0.000000</td>\n",
              "      <td id=\"T_5d305_row1_col2\" class=\"data row1 col2\" >0.000000</td>\n",
              "      <td id=\"T_5d305_row1_col3\" class=\"data row1 col3\" >0.000000</td>\n",
              "    </tr>\n",
              "    <tr>\n",
              "      <th id=\"T_5d305_level0_row2\" class=\"row_heading level0 row2\" >2</th>\n",
              "      <td id=\"T_5d305_row2_col0\" class=\"data row2 col0\" >criterion</td>\n",
              "      <td id=\"T_5d305_row2_col1\" class=\"data row2 col1\" >squared_error</td>\n",
              "      <td id=\"T_5d305_row2_col2\" class=\"data row2 col2\" >squared_error</td>\n",
              "      <td id=\"T_5d305_row2_col3\" class=\"data row2 col3\" >squared_error</td>\n",
              "    </tr>\n",
              "    <tr>\n",
              "      <th id=\"T_5d305_level0_row3\" class=\"row_heading level0 row3\" >3</th>\n",
              "      <td id=\"T_5d305_row3_col0\" class=\"data row3 col0\" >max_depth</td>\n",
              "      <td id=\"T_5d305_row3_col1\" class=\"data row3 col1\" >None</td>\n",
              "      <td id=\"T_5d305_row3_col2\" class=\"data row3 col2\" >3</td>\n",
              "      <td id=\"T_5d305_row3_col3\" class=\"data row3 col3\" >10</td>\n",
              "    </tr>\n",
              "    <tr>\n",
              "      <th id=\"T_5d305_level0_row4\" class=\"row_heading level0 row4\" >4</th>\n",
              "      <td id=\"T_5d305_row4_col0\" class=\"data row4 col0\" >max_features</td>\n",
              "      <td id=\"T_5d305_row4_col1\" class=\"data row4 col1\" >1.000000</td>\n",
              "      <td id=\"T_5d305_row4_col2\" class=\"data row4 col2\" >1.000000</td>\n",
              "      <td id=\"T_5d305_row4_col3\" class=\"data row4 col3\" >1.000000</td>\n",
              "    </tr>\n",
              "    <tr>\n",
              "      <th id=\"T_5d305_level0_row5\" class=\"row_heading level0 row5\" >5</th>\n",
              "      <td id=\"T_5d305_row5_col0\" class=\"data row5 col0\" >max_leaf_nodes</td>\n",
              "      <td id=\"T_5d305_row5_col1\" class=\"data row5 col1\" >None</td>\n",
              "      <td id=\"T_5d305_row5_col2\" class=\"data row5 col2\" >None</td>\n",
              "      <td id=\"T_5d305_row5_col3\" class=\"data row5 col3\" >None</td>\n",
              "    </tr>\n",
              "    <tr>\n",
              "      <th id=\"T_5d305_level0_row6\" class=\"row_heading level0 row6\" >6</th>\n",
              "      <td id=\"T_5d305_row6_col0\" class=\"data row6 col0\" >max_samples</td>\n",
              "      <td id=\"T_5d305_row6_col1\" class=\"data row6 col1\" >None</td>\n",
              "      <td id=\"T_5d305_row6_col2\" class=\"data row6 col2\" >None</td>\n",
              "      <td id=\"T_5d305_row6_col3\" class=\"data row6 col3\" >None</td>\n",
              "    </tr>\n",
              "    <tr>\n",
              "      <th id=\"T_5d305_level0_row7\" class=\"row_heading level0 row7\" >7</th>\n",
              "      <td id=\"T_5d305_row7_col0\" class=\"data row7 col0\" >min_impurity_decrease</td>\n",
              "      <td id=\"T_5d305_row7_col1\" class=\"data row7 col1\" >0.000000</td>\n",
              "      <td id=\"T_5d305_row7_col2\" class=\"data row7 col2\" >0.000000</td>\n",
              "      <td id=\"T_5d305_row7_col3\" class=\"data row7 col3\" >0.000000</td>\n",
              "    </tr>\n",
              "    <tr>\n",
              "      <th id=\"T_5d305_level0_row8\" class=\"row_heading level0 row8\" >8</th>\n",
              "      <td id=\"T_5d305_row8_col0\" class=\"data row8 col0\" >min_samples_leaf</td>\n",
              "      <td id=\"T_5d305_row8_col1\" class=\"data row8 col1\" >1</td>\n",
              "      <td id=\"T_5d305_row8_col2\" class=\"data row8 col2\" >1</td>\n",
              "      <td id=\"T_5d305_row8_col3\" class=\"data row8 col3\" >1</td>\n",
              "    </tr>\n",
              "    <tr>\n",
              "      <th id=\"T_5d305_level0_row9\" class=\"row_heading level0 row9\" >9</th>\n",
              "      <td id=\"T_5d305_row9_col0\" class=\"data row9 col0\" >min_samples_split</td>\n",
              "      <td id=\"T_5d305_row9_col1\" class=\"data row9 col1\" >2</td>\n",
              "      <td id=\"T_5d305_row9_col2\" class=\"data row9 col2\" >2</td>\n",
              "      <td id=\"T_5d305_row9_col3\" class=\"data row9 col3\" >2</td>\n",
              "    </tr>\n",
              "    <tr>\n",
              "      <th id=\"T_5d305_level0_row10\" class=\"row_heading level0 row10\" >10</th>\n",
              "      <td id=\"T_5d305_row10_col0\" class=\"data row10 col0\" >min_weight_fraction_leaf</td>\n",
              "      <td id=\"T_5d305_row10_col1\" class=\"data row10 col1\" >0.000000</td>\n",
              "      <td id=\"T_5d305_row10_col2\" class=\"data row10 col2\" >0.000000</td>\n",
              "      <td id=\"T_5d305_row10_col3\" class=\"data row10 col3\" >0.000000</td>\n",
              "    </tr>\n",
              "    <tr>\n",
              "      <th id=\"T_5d305_level0_row11\" class=\"row_heading level0 row11\" >11</th>\n",
              "      <td id=\"T_5d305_row11_col0\" class=\"data row11 col0\" >n_estimators</td>\n",
              "      <td id=\"T_5d305_row11_col1\" class=\"data row11 col1\" >100</td>\n",
              "      <td id=\"T_5d305_row11_col2\" class=\"data row11 col2\" >500</td>\n",
              "      <td id=\"T_5d305_row11_col3\" class=\"data row11 col3\" >1000</td>\n",
              "    </tr>\n",
              "    <tr>\n",
              "      <th id=\"T_5d305_level0_row12\" class=\"row_heading level0 row12\" >12</th>\n",
              "      <td id=\"T_5d305_row12_col0\" class=\"data row12 col0\" >n_jobs</td>\n",
              "      <td id=\"T_5d305_row12_col1\" class=\"data row12 col1\" >None</td>\n",
              "      <td id=\"T_5d305_row12_col2\" class=\"data row12 col2\" >None</td>\n",
              "      <td id=\"T_5d305_row12_col3\" class=\"data row12 col3\" >None</td>\n",
              "    </tr>\n",
              "    <tr>\n",
              "      <th id=\"T_5d305_level0_row13\" class=\"row_heading level0 row13\" >13</th>\n",
              "      <td id=\"T_5d305_row13_col0\" class=\"data row13 col0\" >oob_score</td>\n",
              "      <td id=\"T_5d305_row13_col1\" class=\"data row13 col1\" >False</td>\n",
              "      <td id=\"T_5d305_row13_col2\" class=\"data row13 col2\" >False</td>\n",
              "      <td id=\"T_5d305_row13_col3\" class=\"data row13 col3\" >False</td>\n",
              "    </tr>\n",
              "    <tr>\n",
              "      <th id=\"T_5d305_level0_row14\" class=\"row_heading level0 row14\" >14</th>\n",
              "      <td id=\"T_5d305_row14_col0\" class=\"data row14 col0\" >random_state</td>\n",
              "      <td id=\"T_5d305_row14_col1\" class=\"data row14 col1\" >None</td>\n",
              "      <td id=\"T_5d305_row14_col2\" class=\"data row14 col2\" >0</td>\n",
              "      <td id=\"T_5d305_row14_col3\" class=\"data row14 col3\" >0</td>\n",
              "    </tr>\n",
              "    <tr>\n",
              "      <th id=\"T_5d305_level0_row15\" class=\"row_heading level0 row15\" >15</th>\n",
              "      <td id=\"T_5d305_row15_col0\" class=\"data row15 col0\" >verbose</td>\n",
              "      <td id=\"T_5d305_row15_col1\" class=\"data row15 col1\" >0</td>\n",
              "      <td id=\"T_5d305_row15_col2\" class=\"data row15 col2\" >0</td>\n",
              "      <td id=\"T_5d305_row15_col3\" class=\"data row15 col3\" >0</td>\n",
              "    </tr>\n",
              "    <tr>\n",
              "      <th id=\"T_5d305_level0_row16\" class=\"row_heading level0 row16\" >16</th>\n",
              "      <td id=\"T_5d305_row16_col0\" class=\"data row16 col0\" >warm_start</td>\n",
              "      <td id=\"T_5d305_row16_col1\" class=\"data row16 col1\" >False</td>\n",
              "      <td id=\"T_5d305_row16_col2\" class=\"data row16 col2\" >False</td>\n",
              "      <td id=\"T_5d305_row16_col3\" class=\"data row16 col3\" >False</td>\n",
              "    </tr>\n",
              "  </tbody>\n",
              "</table>\n"
            ]
          },
          "metadata": {}
        },
        {
          "output_type": "stream",
          "name": "stdout",
          "text": [
            "\n",
            "\n",
            "\n"
          ]
        }
      ],
      "source": [
        "# Compare two or more models\n",
        "data=myplayground.compare_models([1,2], verbose=1)\n",
        "myplayground.stylize_compare(data)"
      ]
    },
    {
      "cell_type": "markdown",
      "metadata": {
        "id": "FKm9ugiBhQFn"
      },
      "source": [
        "### **Check the Structure of Evaluation Data**\n",
        "\n",
        "> ### Your team needs to understand the format of the evaluation data, to ensure that their submissions can be processed.  \n",
        "\n",
        "*  *Make sure labels, data types, and dimensions of predictions correspond to submitted evaluation data.*\n",
        "*  *This is important to generate evaluation metrics for your submission.*\n"
      ]
    },
    {
      "cell_type": "code",
      "execution_count": null,
      "metadata": {
        "colab": {
          "base_uri": "https://localhost:8080/"
        },
        "id": "dqY82D22hPZx",
        "outputId": "2f482eb0-9639-4387-ff8e-185705e2154c"
      },
      "outputs": [
        {
          "output_type": "execute_result",
          "data": {
            "text/plain": [
              "{'ytest_example': [3080.0, 8190.0, 6300.0, 2240.0, 10500.0],\n",
              " 'y_length': 1626,\n",
              " 'y_mean': 9118.745836408365,\n",
              " 'y_min': 434.0,\n",
              " 'y_max': 84000.0,\n",
              " 'y_sd': 11625.31082124156}"
            ]
          },
          "metadata": {},
          "execution_count": 17
        }
      ],
      "source": [
        "# Check structure of evaluation data\n",
        "myplayground.inspect_eval_data()"
      ]
    },
    {
      "cell_type": "markdown",
      "metadata": {
        "id": "iA-nYjr7WCIp"
      },
      "source": [
        "## **(5) Maintaining Your Model Playground**"
      ]
    },
    {
      "cell_type": "markdown",
      "source": [
        "### **Update the Runtime Model (the model that is used for predictions in your REST API/Web-App**\n",
        "\n",
        "\n",
        "> ### You can update the runtime model anytime by picking one of the previously submitted models.  \n",
        "\n",
        "* *Simply refer to the model by its leaderboard version number.*\n",
        "* *You can choos a model from the Competition or Experiment leaderboard by specifying the submission_type argument.*"
      ],
      "metadata": {
        "id": "3mndcjn1Q9gk"
      }
    },
    {
      "cell_type": "code",
      "execution_count": null,
      "metadata": {
        "colab": {
          "base_uri": "https://localhost:8080/"
        },
        "id": "wAchpcGLWLxE",
        "outputId": "8bbaf593-e9ae-40f2-e64c-f97c2aaa213b"
      },
      "outputs": [
        {
          "output_type": "stream",
          "name": "stdout",
          "text": [
            "Runtime model & preprocessor for api: https://123vlpja7f.execute-api.us-east-1.amazonaws.com/prod/m updated to model version 2.\n",
            "\n",
            "Model metrics are now updated and verified for this model playground.\n",
            "\n",
            "Visit your Model Playground Page for more.\n",
            "https://www.modelshare.ai/detail/model:3524\n"
          ]
        }
      ],
      "source": [
        "# Update runtime model\n",
        "myplayground.update_runtime_model(model_version=2)"
      ]
    },
    {
      "cell_type": "markdown",
      "metadata": {
        "id": "xhJRaiN-WaO1"
      },
      "source": [
        "### **Delete Deployment**\n",
        "\n",
        "\n",
        "> ### You can delete the entire Model Playground, including the REST API, web dashboard, competition, and all submitted models.  \n",
        "\n",
        "* *This is final - there is no way to recover your Model Playground if you delete it.*\n",
        "* *We have commented the line for safety reasons.*"
      ]
    },
    {
      "cell_type": "code",
      "execution_count": null,
      "metadata": {
        "id": "mCkf-exLWyDK"
      },
      "outputs": [],
      "source": [
        "#myplayground.delete_deployment()"
      ]
    },
    {
      "cell_type": "code",
      "source": [],
      "metadata": {
        "id": "oGbQZ8JfTIvd"
      },
      "execution_count": null,
      "outputs": []
    }
  ],
  "metadata": {
    "accelerator": "GPU",
    "colab": {
      "provenance": []
    },
    "kernelspec": {
      "display_name": "Python 3",
      "language": "python",
      "name": "python3"
    },
    "language_info": {
      "codemirror_mode": {
        "name": "ipython",
        "version": 3
      },
      "file_extension": ".py",
      "mimetype": "text/x-python",
      "name": "python",
      "nbconvert_exporter": "python",
      "pygments_lexer": "ipython3",
      "version": "3.8.5"
    }
  },
  "nbformat": 4,
  "nbformat_minor": 0
}