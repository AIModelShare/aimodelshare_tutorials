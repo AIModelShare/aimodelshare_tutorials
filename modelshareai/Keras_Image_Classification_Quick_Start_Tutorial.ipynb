{
  "cells": [
    {
      "cell_type": "markdown",
      "metadata": {
        "id": "0BviI4QIdWiq"
      },
      "source": [
        "<p align=\"center\"><img width=\"50%\" src=\"https://www.modelshare.ai/img/ModelShareLogo_COLOR.abf79305.png\" /></p>\n",
        "\n",
        "\n",
        "---\n",
        "\n",
        "\n"
      ]
    },
    {
      "cell_type": "markdown",
      "metadata": {
        "id": "gYNp684Tk3tb"
      },
      "source": [
        "<p align=\"center\"><h1 align=\"center\">Quick Start: Flower Image Classification Tutorial using Keras</h1> \n"
      ]
    },
    {
      "cell_type": "markdown",
      "source": [
        "## **Create Model Playground ML Project Space: Submit, Track, and Deploy ML Model(s) in about 5 mins**\n",
        "> ### (1) Set Up Environment \n",
        "> ### (2) Create a Model Playground\n",
        "> ### (3) Submit, Track, and Deploy ML Model(s)\n",
        "> ### (4) Improve Models and Analyze Model Performance\n",
        "> ### (5) Maintain Your Model Playground"
      ],
      "metadata": {
        "id": "Z-MOk60U_ye-"
      }
    },
    {
      "cell_type": "markdown",
      "metadata": {
        "id": "0PhJ-XlGazpD"
      },
      "source": [
        "## **(1) Set Up Environment**\n",
        "\n",
        "In order to deploy a Model Share AI Model Playground, you will need a credentials text file. \n",
        "\n",
        "Generating your credentials file requires two sets of information: \n",
        "1. Your Model Share AI username and password (create them [HERE](https://www.modelshare.org/login)). \n",
        "2. Your AWS (Amazon Web Services) access keys (follow the tutorial [HERE](https://docs.aws.amazon.com/general/latest/gr/aws-sec-cred-types.html)). \n",
        "\n",
        "You only need to generate your credentials file once. After running the configure function below, save the outputted file for all your future Model Playground deployments and competition submissions. \n",
        "\n",
        "*Note: Handle your credentials file with the same level of security you handle your passwords. Do not share your file with anyone, send via email, or upload to Github. Model Share AI does not store your credentials.*\n"
      ]
    },
    {
      "cell_type": "code",
      "execution_count": null,
      "metadata": {
        "id": "puVzQBHyhS2Z"
      },
      "outputs": [],
      "source": [
        "#install aimodelshare library\n",
        "! pip install aimodelshare --upgrade"
      ]
    },
    {
      "cell_type": "code",
      "execution_count": null,
      "metadata": {
        "id": "4Q7MCqBLcS20",
        "colab": {
          "base_uri": "https://localhost:8080/"
        },
        "outputId": "36a57565-529b-4f01-c02c-0d556ebe7c27"
      },
      "outputs": [
        {
          "output_type": "stream",
          "name": "stdout",
          "text": [
            "Modelshare.ai Username:··········\n",
            "Modelshare.ai Password:··········\n",
            "AWS_ACCESS_KEY_ID:··········\n",
            "AWS_SECRET_ACCESS_KEY:··········\n",
            "AWS_REGION:··········\n",
            "Configuration successful. New credentials file saved as 'credentials.txt'\n"
          ]
        }
      ],
      "source": [
        "# Generate credentials file\n",
        "from aimodelshare.aws import configure_credentials \n",
        "configure_credentials()"
      ]
    },
    {
      "cell_type": "code",
      "execution_count": null,
      "metadata": {
        "colab": {
          "base_uri": "https://localhost:8080/"
        },
        "id": "2u1QKNfEyN9A",
        "outputId": "cef31712-2ebb-40f1-9ed2-6a911065bda5"
      },
      "outputs": [
        {
          "output_type": "stream",
          "name": "stdout",
          "text": [
            "Modelshare.ai login credentials set successfully.\n",
            "AWS credentials set successfully.\n"
          ]
        }
      ],
      "source": [
        "# Set credentials \n",
        "from aimodelshare.aws import set_credentials\n",
        "set_credentials(credential_file=\"credentials.txt\", type=\"deploy_model\")"
      ]
    },
    {
      "cell_type": "code",
      "execution_count": null,
      "metadata": {
        "id": "PwQcTsyyURIk",
        "colab": {
          "base_uri": "https://localhost:8080/"
        },
        "outputId": "a12e7985-82c6-4f32-df28-38919429d9ed"
      },
      "outputs": [
        {
          "output_type": "stream",
          "name": "stdout",
          "text": [
            "Downloading [================================================>]\n",
            "\n",
            "Data downloaded successfully.\n",
            "\n",
            "Preparing downloaded files for use...\n",
            "\n",
            "Success! Your Quick Start materials have been downloaded. \n",
            "You are now ready to run the tutorial.\n",
            "Downloading [================================================>]\n",
            "\n",
            "Data downloaded successfully.\n",
            "\n",
            "Preparing downloaded files for use...\n",
            "\n",
            "Success! Your Quick Start materials have been downloaded. \n",
            "You are now ready to run the tutorial.\n"
          ]
        }
      ],
      "source": [
        "# # Download flower image data and and pretrained Keras models\n",
        "from aimodelshare.data_sharing.download_data import import_quickstart_data\n",
        "keras_model, y_train_labels = import_quickstart_data(\"flowers\")\n",
        "keras_model_2, y_test_labels = import_quickstart_data(\"flowers\", \"competition\")"
      ]
    },
    {
      "cell_type": "markdown",
      "metadata": {
        "id": "xJlhd6jvns0b"
      },
      "source": [
        "## **(2) Create a Model Playground**"
      ]
    },
    {
      "cell_type": "markdown",
      "source": [
        "### **Create a Model Playground**\n",
        "\n",
        "\n",
        "> ### Each Model Playground is a unique ML project space with lots of useful functionality...\n",
        "- Use playground.submit_model() to track ML models in experiments and/or competition leaderboards\n",
        "- Save, version, and reuse ML models each time they are submitted\n",
        "- Use playground.compare_models() to compare model architectures with git like colorized model diffs\n",
        "- Use playground.deploy_model() to deploy models instantly into live REST APIs and/or web-apps.  \n",
        "\n",
        "*  *First, you need to intantiate a ModelPlayground() object locally. Please specify the data type of your learning task (e.g., image, tabular, etc), whether the model is a classification or a regression model, and whether your playground should be public or private. If you choose \"private\" only approved team members can interact your model playground*  \n",
        "*  *Second, you can to create a playground page on the modelshare.ai website. You need to submit evaluation data that submitted models can be evaluated against.*  \n",
        "\n"
      ],
      "metadata": {
        "id": "gpHMK0Jp8xr_"
      }
    },
    {
      "cell_type": "code",
      "execution_count": null,
      "metadata": {
        "id": "7qCPVnB2oR53",
        "colab": {
          "base_uri": "https://localhost:8080/"
        },
        "outputId": "dd460fc9-b62b-4e6a-c19a-417ba990e2bf"
      },
      "outputs": [
        {
          "output_type": "stream",
          "name": "stdout",
          "text": [
            "Creating your prediction API. (This process may take several minutes.)\n",
            "\n",
            "[=====================================] Progress: 100% - Complete!                                            \n",
            "\n",
            "Success! Your Model Playground was created in 67 seconds. \n",
            " Playground Url: \"https://moyz6xuxu9.execute-api.us-east-1.amazonaws.com/prod/m\"\n",
            "\n",
            "You can now use your Model Playground.\n",
            "\n",
            "Follow this link to explore your Model Playground's functionality\n",
            "You can make predictions with the Dashboard and access example code from the Programmatic tab.\n",
            "https://www.modelshare.ai/detail/model:3522\n",
            "\n",
            "Check out your Model Playground page for more.\n"
          ]
        }
      ],
      "source": [
        "# Instantiate Model Playground object\n",
        "from aimodelshare.playground import ModelPlayground\n",
        "myplayground=ModelPlayground(input_type=\"image\", \n",
        "                             task_type=\"classification\", \n",
        "                             private=False)\n",
        "\n",
        "# Create Model Playground Page on modelshare.ai website\n",
        "myplayground.create(eval_data=y_test_labels)"
      ]
    },
    {
      "cell_type": "markdown",
      "source": [
        "##  **3) Submit, Track, and Deploy Model(s)**\n"
      ],
      "metadata": {
        "id": "M3Q5N6FiLkfu"
      }
    },
    {
      "cell_type": "markdown",
      "metadata": {
        "id": "WrEgo5zRxbed"
      },
      "source": [
        "### **Write a Preprocessor Function**\n",
        "\n",
        "\n",
        "> ###   Preprocessing functions play a crucial role in preparing data for your model by converting it into the specific format that is needed to generate predictions.  \n",
        "\n",
        "*  *Preprocessor functions should always be named \"preprocessor\".*\n",
        "*  *You can use any Python library in a preprocessor function, but all libraries should be imported inside your preprocessor function.*  \n",
        "*  *For image prediction models users should minimally include function inputs for an image filepath and values to reshape the image height and width.*  \n",
        "\n"
      ]
    },
    {
      "cell_type": "code",
      "execution_count": null,
      "metadata": {
        "id": "B5Jz-1cmYN5Z"
      },
      "outputs": [],
      "source": [
        "# Here is a pre-designed preprocessor, but you could also build your own to prepare the data differently\n",
        "def preprocessor(image_filepath, shape=(192, 192)):\n",
        "        \"\"\"\n",
        "        This function preprocesses reads in images, resizes them to a fixed shape and\n",
        "        min/max transforms them before converting feature values to float32 numeric values\n",
        "        required by onnx files.\n",
        "        \n",
        "        params:\n",
        "            image_filepath\n",
        "                full filepath of a particular image\n",
        "                      \n",
        "        returns:\n",
        "            X\n",
        "                numpy array of preprocessed image data\n",
        "        \"\"\"\n",
        "           \n",
        "        import cv2\n",
        "        import numpy as np\n",
        "\n",
        "        \"Resize a color image and min/max transform the image\"\n",
        "        img = cv2.imread(image_filepath) # Read in image from filepath.\n",
        "        img = cv2.cvtColor(img, cv2.COLOR_BGR2RGB) # cv2 reads in images in order of blue green and red, we reverse the order for ML.\n",
        "        img = cv2.resize(img, shape) # Change height and width of image.\n",
        "        img = img / 255.0 # Min-max transform.\n",
        "\n",
        "\n",
        "        # Resize all the images...\n",
        "        X = np.array(img)\n",
        "        X = np.expand_dims(X, axis=0) # Expand dims to add \"1\" to object shape [1, h, w, channels] for keras model.\n",
        "        X = np.array(X, dtype=np.float32) # Final shape for onnx runtime.\n",
        "        return X"
      ]
    },
    {
      "cell_type": "markdown",
      "source": [
        "### **Train Your Machine Learning Model**\n",
        "\n",
        "\n",
        "> ### Model Share supports Scikit-Learn, Tensorflow,  Keras, and Pytorch models out of the box.  \n",
        "\n",
        "*  *Train your model using your favorite ML library. Here, we have already loaded a Keras model in the quickstart function above.*  \n",
        "*  *Use your model to make predictions on the test set.*  \n",
        "\n",
        "\n"
      ],
      "metadata": {
        "id": "TdHs5-m0BFNg"
      }
    },
    {
      "cell_type": "code",
      "execution_count": null,
      "metadata": {
        "id": "Tnrmg_aO230E",
        "colab": {
          "base_uri": "https://localhost:8080/"
        },
        "outputId": "71b3d36d-8465-4012-c195-f397d5ed5f57"
      },
      "outputs": [
        {
          "output_type": "stream",
          "name": "stdout",
          "text": [
            "Model: \"sequential_1\"\n",
            "_________________________________________________________________\n",
            " Layer (type)                Output Shape              Param #   \n",
            "=================================================================\n",
            " dense_2 (Dense)             (None, 192, 192, 64)      256       \n",
            "                                                                 \n",
            " dense_3 (Dense)             (None, 192, 192, 64)      4160      \n",
            "                                                                 \n",
            " dense_4 (Dense)             (None, 192, 192, 64)      4160      \n",
            "                                                                 \n",
            " flatten_1 (Flatten)         (None, 2359296)           0         \n",
            "                                                                 \n",
            " dense_5 (Dense)             (None, 5)                 11796485  \n",
            "                                                                 \n",
            "=================================================================\n",
            "Total params: 11,805,061\n",
            "Trainable params: 11,805,061\n",
            "Non-trainable params: 0\n",
            "_________________________________________________________________\n"
          ]
        }
      ],
      "source": [
        "# Check the model architecture.\n",
        "keras_model.summary()"
      ]
    },
    {
      "cell_type": "code",
      "execution_count": null,
      "metadata": {
        "id": "jeo3m9mMpJyX"
      },
      "outputs": [],
      "source": [
        "# Preprocess X_test image data to generate predictions from models \n",
        "import numpy as np\n",
        "\n",
        "# Generate filenames\n",
        "file_names = [('flower_competition_data/test_images/' + str(i) + '.jpg') for i in range(1, 735)]\n",
        "\n",
        "# Apply preprocessor to image data\n",
        "preprocessed_image_data = [preprocessor(x) for x in file_names]\n",
        "\n",
        "# Create single X_test array from preprocessed images\n",
        "X_test = np.vstack(preprocessed_image_data) \n",
        "\n",
        "# One-hot encode y_train labels (y_train.columns used to generate prediction labels below)\n",
        "import pandas as pd\n",
        "y_train = pd.get_dummies(y_train_labels)"
      ]
    },
    {
      "cell_type": "code",
      "execution_count": null,
      "metadata": {
        "id": "maVB5vo_oz4n",
        "colab": {
          "base_uri": "https://localhost:8080/"
        },
        "outputId": "3ebed69e-c381-4c24-b5ad-9a8ae478b3b8"
      },
      "outputs": [
        {
          "output_type": "stream",
          "name": "stdout",
          "text": [
            "23/23 [==============================] - 28s 1s/step\n"
          ]
        }
      ],
      "source": [
        "# Generate predicted y values\n",
        "prediction_column_index=keras_model.predict(X_test).argmax(axis=1)\n",
        "\n",
        "# Extract correct prediction labels \n",
        "prediction_labels = [y_train.columns[i] for i in prediction_column_index]"
      ]
    },
    {
      "cell_type": "markdown",
      "source": [
        "### **Submit a Model to your Model Playground**\n",
        "\n",
        "\n",
        "> ### You can submit models to your Model Playground page in order to evaluate them, extract model metadata, compare them to other models, and turn them into REST API endpoints.  \n",
        "\n",
        "*  *Pass your model to the submit model function. You can either pass a model object, an ONNX object, or a filepath to an ONNX file.*  \n",
        "*  *Pass your preprocessor to ensure that your model can process new data.*\n",
        "*  *Pass your predictions to be evaluated against your playground evaluation data.*  \n",
        "\n",
        "\n"
      ],
      "metadata": {
        "id": "-d46P25H6mX6"
      }
    },
    {
      "cell_type": "code",
      "source": [
        "# Submit Model to Experiment Leaderboard\n",
        "# (Option: set submission_type=\"competition\" to submit to competition leaderboard)\n",
        "\n",
        "myplayground.submit_model(model=keras_model,\n",
        "                          preprocessor=preprocessor,\n",
        "                          prediction_submission=prediction_labels)"
      ],
      "metadata": {
        "colab": {
          "base_uri": "https://localhost:8080/"
        },
        "id": "oKypMQMvFCwc",
        "outputId": "fcc76a48-019a-4235-efd0-2e3f310a9ffd"
      },
      "execution_count": null,
      "outputs": [
        {
          "output_type": "stream",
          "name": "stdout",
          "text": [
            "\n",
            "Insert search tags to help users find your model (optional): \n",
            "Provide any useful notes about your model (optional): \n",
            "Your model has been submitted to experiment as model version 1.\n",
            "\n",
            "Visit your Model Playground Page for more.\n",
            "https://www.modelshare.ai/detail/model:3522\n"
          ]
        }
      ]
    },
    {
      "cell_type": "markdown",
      "metadata": {
        "id": "NBgleMgmhWWx"
      },
      "source": [
        "### **Deploy a Model to a Prediction REST API and Web-app**\n",
        "\n",
        "\n",
        "> ### Update the prediction API behind your Model Playground with a new model and verify the model performance metrics in your Model Playground.\n",
        "\n",
        "Use playground.deploy_model() with the following key arguments:\n",
        "* *model_version: Simply refer to the model by its leaderboard version number.*\n",
        "* *example_data: deploy_model builds a web-app for you.  It needs some example data for end users to download to try your web-app.  For image data provide the path to a folder with some example images.* \n",
        "*  *y_train: For classification problems deploy_model needs well ordered y_training data labels.  Provide a python list of y_train labels or a one hot encoded Pandas y_training data frame, so your web-app and prediction api return the correct prediction labels*"
      ]
    },
    {
      "cell_type": "code",
      "source": [
        "# Deploy model by version number\n",
        "myplayground.deploy_model(model_version=1, \n",
        "                          example_data=\"quickstart_materials/example_data\", \n",
        "                          y_train=y_train)"
      ],
      "metadata": {
        "id": "N63Il2o_zOYV",
        "colab": {
          "base_uri": "https://localhost:8080/"
        },
        "outputId": "adaecbee-4b7f-44e9-c680-bbe414e669b8"
      },
      "execution_count": null,
      "outputs": [
        {
          "output_type": "stream",
          "name": "stdout",
          "text": [
            "Runtime model & preprocessor for api: https://moyz6xuxu9.execute-api.us-east-1.amazonaws.com/prod/m updated to model version 1.\n",
            "\n",
            "Model metrics are now updated and verified for this model playground.\n",
            "\n",
            "Visit your Model Playground Page for more.\n",
            "https://www.modelshare.ai/detail/model:3522\n"
          ]
        }
      ]
    },
    {
      "cell_type": "markdown",
      "metadata": {
        "id": "8h3Stln6ETKj"
      },
      "source": [
        "## **(4) Improve Models and Analyze Model Performance**"
      ]
    },
    {
      "cell_type": "markdown",
      "source": [
        "### **Set Submission Credentials**\n",
        "\n",
        "> ### Authorized users can submit new models after setting credentials using modelshare.ai username/password.  \n",
        "\n",
        "*  *This only needs to be done if you want to submit models in a new session.*  \n",
        "*  *skip this step if you have already set your deployment credentials.*  \n",
        "\n",
        "\n"
      ],
      "metadata": {
        "id": "6yu9YsPx2j7b"
      }
    },
    {
      "cell_type": "code",
      "execution_count": null,
      "metadata": {
        "colab": {
          "base_uri": "https://localhost:8080/"
        },
        "id": "sJgu9K92DS8O",
        "outputId": "b9ec3733-0e21-4316-d8d8-a904bbc88cd7"
      },
      "outputs": [
        {
          "output_type": "stream",
          "name": "stdout",
          "text": [
            "Modelshare.ai Username:··········\n",
            "Modelshare.ai Password:··········\n",
            "Modelshare.ai login credentials set successfully.\n"
          ]
        }
      ],
      "source": [
        "# example url from deployed playground: apiurl= \"https://123456.execute-api.us-east-1.amazonaws.com/prod/m\n",
        "apiurl=myplayground.playground_url \n",
        "\n",
        "set_credentials(apiurl=apiurl)"
      ]
    },
    {
      "cell_type": "markdown",
      "source": [
        "### **Submit More Models to your Model Playground**\n",
        "\n",
        "\n",
        "> ### You can submit models to your Model Playground page in order to evaluate them, extract model metadata, compare them to other models, and turn them into REST API endpoints.  \n",
        "\n",
        "*  *Pass your model to the submit model function. You can either pass a model object, an ONNX object, or a filepath to an ONNX file.*  \n",
        "*  *Pass your preprocessor to ensure that your model can process new data.*\n",
        "*  *Pass your predictions to be evaluated against your playground evaluation data.*  \n"
      ],
      "metadata": {
        "id": "DZyngoORDG6U"
      }
    },
    {
      "cell_type": "code",
      "execution_count": null,
      "metadata": {
        "colab": {
          "base_uri": "https://localhost:8080/"
        },
        "id": "hpzXNVPTop-O",
        "outputId": "63fdebf8-5293-4c2f-c7ed-325c3927d04b"
      },
      "outputs": [
        {
          "output_type": "stream",
          "name": "stdout",
          "text": [
            "Model: \"sequential\"\n",
            "_________________________________________________________________\n",
            " Layer (type)                Output Shape              Param #   \n",
            "=================================================================\n",
            " conv2d (Conv2D)             (None, 192, 192, 32)      416       \n",
            "                                                                 \n",
            " conv2d_1 (Conv2D)           (None, 192, 192, 32)      4128      \n",
            "                                                                 \n",
            " max_pooling2d (MaxPooling2D  (None, 96, 96, 32)       0         \n",
            " )                                                               \n",
            "                                                                 \n",
            " conv2d_2 (Conv2D)           (None, 96, 96, 16)        2064      \n",
            "                                                                 \n",
            " conv2d_3 (Conv2D)           (None, 96, 96, 16)        1040      \n",
            "                                                                 \n",
            " max_pooling2d_1 (MaxPooling  (None, 48, 48, 16)       0         \n",
            " 2D)                                                             \n",
            "                                                                 \n",
            " dropout (Dropout)           (None, 48, 48, 16)        0         \n",
            "                                                                 \n",
            " flatten (Flatten)           (None, 36864)             0         \n",
            "                                                                 \n",
            " dense (Dense)               (None, 50)                1843250   \n",
            "                                                                 \n",
            " dropout_1 (Dropout)         (None, 50)                0         \n",
            "                                                                 \n",
            " dense_1 (Dense)             (None, 5)                 255       \n",
            "                                                                 \n",
            "=================================================================\n",
            "Total params: 1,851,153\n",
            "Trainable params: 1,851,153\n",
            "Non-trainable params: 0\n",
            "_________________________________________________________________\n"
          ]
        }
      ],
      "source": [
        "# Have a look at architecture for model 2\n",
        "keras_model_2.summary()"
      ]
    },
    {
      "cell_type": "code",
      "execution_count": null,
      "metadata": {
        "colab": {
          "base_uri": "https://localhost:8080/"
        },
        "id": "Flts7zQNbhpq",
        "outputId": "038a7972-0091-4961-e6b3-39ea0357ce0b"
      },
      "outputs": [
        {
          "output_type": "stream",
          "name": "stdout",
          "text": [
            "23/23 [==============================] - 19s 851ms/step\n",
            "\n",
            "Insert search tags to help users find your model (optional): \n",
            "Provide any useful notes about your model (optional): \n",
            "Your model has been submitted to experiment as model version 2.\n",
            "\n",
            "Visit your Model Playground Page for more.\n",
            "https://www.modelshare.ai/detail/model:3522\n"
          ]
        }
      ],
      "source": [
        "# Submit Model 2\n",
        "\n",
        "# Generate predicted y values (Model 2)\n",
        "prediction_column_index=keras_model_2.predict(X_test).argmax(axis=1)\n",
        "\n",
        "# extract correct prediction labels (Model 2)\n",
        "prediction_labels = [y_train.columns[i] for i in prediction_column_index]\n",
        "\n",
        "# Submit Model 2 to Experiment Leaderboard\n",
        "myplayground.submit_model(model = keras_model_2,\n",
        "                          preprocessor=preprocessor,\n",
        "                          prediction_submission=prediction_labels)"
      ]
    },
    {
      "cell_type": "markdown",
      "source": [
        "### **Check Experiment Leaderboard**\n",
        "\n",
        "\n",
        "> ### Leaderboards allow you to compare model architectures ranked by predictive performance.  \n",
        "\n",
        "*  *Query leaderboard data for models submitted to your Model Playground page.* \n",
        "*  *You can either stylize the leaderboard or use pandas to run your own analyses to explore which model architectures perform well.*  \n",
        "\n",
        "\n"
      ],
      "metadata": {
        "id": "oJv0x49U5exC"
      }
    },
    {
      "cell_type": "code",
      "execution_count": null,
      "metadata": {
        "colab": {
          "base_uri": "https://localhost:8080/",
          "height": 132
        },
        "id": "J0-B1h0chYDL",
        "outputId": "420594c6-c70e-404d-8393-d236c26355de"
      },
      "outputs": [
        {
          "output_type": "execute_result",
          "data": {
            "text/plain": [
              "<pandas.io.formats.style.Styler at 0x7f528d8110a0>"
            ],
            "text/html": [
              "<style type=\"text/css\">\n",
              "#T_0148c_row0_col0 {\n",
              "  text-align: center;\n",
              "  width: 10em;\n",
              "  background: linear-gradient(90deg, #f5f8d6 61.6%, transparent 61.6%);\n",
              "  color: #251e1b;\n",
              "  font-size: 12px;\n",
              "}\n",
              "#T_0148c_row0_col1 {\n",
              "  text-align: center;\n",
              "  width: 10em;\n",
              "  background: linear-gradient(90deg, #c778c8 60.9%, transparent 60.9%);\n",
              "  color: #251e1b;\n",
              "  font-size: 12px;\n",
              "}\n",
              "#T_0148c_row0_col2 {\n",
              "  text-align: center;\n",
              "  width: 10em;\n",
              "  background: linear-gradient(90deg, #ff4971 61.9%, transparent 61.9%);\n",
              "  color: #251e1b;\n",
              "  font-size: 12px;\n",
              "}\n",
              "#T_0148c_row0_col3 {\n",
              "  text-align: center;\n",
              "  width: 10em;\n",
              "  background: linear-gradient(90deg, #aadbaa 61.3%, transparent 61.3%);\n",
              "  color: #251e1b;\n",
              "  font-size: 12px;\n",
              "}\n",
              "#T_0148c_row0_col4, #T_0148c_row0_col5, #T_0148c_row0_col6, #T_0148c_row0_col7, #T_0148c_row0_col8, #T_0148c_row0_col9, #T_0148c_row0_col10, #T_0148c_row0_col11, #T_0148c_row0_col12, #T_0148c_row0_col13, #T_0148c_row0_col14, #T_0148c_row0_col15, #T_0148c_row0_col16, #T_0148c_row0_col17, #T_0148c_row0_col18, #T_0148c_row0_col19, #T_0148c_row1_col4, #T_0148c_row1_col5, #T_0148c_row1_col6, #T_0148c_row1_col7, #T_0148c_row1_col8, #T_0148c_row1_col9, #T_0148c_row1_col10, #T_0148c_row1_col11, #T_0148c_row1_col12, #T_0148c_row1_col13, #T_0148c_row1_col14, #T_0148c_row1_col15, #T_0148c_row1_col16, #T_0148c_row1_col17, #T_0148c_row1_col18, #T_0148c_row1_col19 {\n",
              "  text-align: center;\n",
              "}\n",
              "#T_0148c_row1_col0 {\n",
              "  text-align: center;\n",
              "  width: 10em;\n",
              "  background: linear-gradient(90deg, #f5f8d6 46.3%, transparent 46.3%);\n",
              "  color: #251e1b;\n",
              "  font-size: 12px;\n",
              "}\n",
              "#T_0148c_row1_col1 {\n",
              "  text-align: center;\n",
              "  width: 10em;\n",
              "  background: linear-gradient(90deg, #c778c8 45.2%, transparent 45.2%);\n",
              "  color: #251e1b;\n",
              "  font-size: 12px;\n",
              "}\n",
              "#T_0148c_row1_col2 {\n",
              "  text-align: center;\n",
              "  width: 10em;\n",
              "  background: linear-gradient(90deg, #ff4971 48.0%, transparent 48.0%);\n",
              "  color: #251e1b;\n",
              "  font-size: 12px;\n",
              "}\n",
              "#T_0148c_row1_col3 {\n",
              "  text-align: center;\n",
              "  width: 10em;\n",
              "  background: linear-gradient(90deg, #aadbaa 44.7%, transparent 44.7%);\n",
              "  color: #251e1b;\n",
              "  font-size: 12px;\n",
              "}\n",
              "</style>\n",
              "<table id=\"T_0148c\" class=\"dataframe\">\n",
              "  <thead>\n",
              "    <tr>\n",
              "      <th class=\"blank level0\" >&nbsp;</th>\n",
              "      <th id=\"T_0148c_level0_col0\" class=\"col_heading level0 col0\" >accuracy</th>\n",
              "      <th id=\"T_0148c_level0_col1\" class=\"col_heading level0 col1\" >f1_score</th>\n",
              "      <th id=\"T_0148c_level0_col2\" class=\"col_heading level0 col2\" >precision</th>\n",
              "      <th id=\"T_0148c_level0_col3\" class=\"col_heading level0 col3\" >recall</th>\n",
              "      <th id=\"T_0148c_level0_col4\" class=\"col_heading level0 col4\" >ml_framework</th>\n",
              "      <th id=\"T_0148c_level0_col5\" class=\"col_heading level0 col5\" >model_type</th>\n",
              "      <th id=\"T_0148c_level0_col6\" class=\"col_heading level0 col6\" >depth</th>\n",
              "      <th id=\"T_0148c_level0_col7\" class=\"col_heading level0 col7\" >num_params</th>\n",
              "      <th id=\"T_0148c_level0_col8\" class=\"col_heading level0 col8\" >flatten_layers</th>\n",
              "      <th id=\"T_0148c_level0_col9\" class=\"col_heading level0 col9\" >dropout_layers</th>\n",
              "      <th id=\"T_0148c_level0_col10\" class=\"col_heading level0 col10\" >conv2d_layers</th>\n",
              "      <th id=\"T_0148c_level0_col11\" class=\"col_heading level0 col11\" >maxpooling2d_layers</th>\n",
              "      <th id=\"T_0148c_level0_col12\" class=\"col_heading level0 col12\" >dense_layers</th>\n",
              "      <th id=\"T_0148c_level0_col13\" class=\"col_heading level0 col13\" >softmax_act</th>\n",
              "      <th id=\"T_0148c_level0_col14\" class=\"col_heading level0 col14\" >relu_act</th>\n",
              "      <th id=\"T_0148c_level0_col15\" class=\"col_heading level0 col15\" >loss</th>\n",
              "      <th id=\"T_0148c_level0_col16\" class=\"col_heading level0 col16\" >optimizer</th>\n",
              "      <th id=\"T_0148c_level0_col17\" class=\"col_heading level0 col17\" >memory_size</th>\n",
              "      <th id=\"T_0148c_level0_col18\" class=\"col_heading level0 col18\" >username</th>\n",
              "      <th id=\"T_0148c_level0_col19\" class=\"col_heading level0 col19\" >version</th>\n",
              "    </tr>\n",
              "  </thead>\n",
              "  <tbody>\n",
              "    <tr>\n",
              "      <th id=\"T_0148c_level0_row0\" class=\"row_heading level0 row0\" >0</th>\n",
              "      <td id=\"T_0148c_row0_col0\" class=\"data row0 col0\" >61.58%</td>\n",
              "      <td id=\"T_0148c_row0_col1\" class=\"data row0 col1\" >60.94%</td>\n",
              "      <td id=\"T_0148c_row0_col2\" class=\"data row0 col2\" >61.89%</td>\n",
              "      <td id=\"T_0148c_row0_col3\" class=\"data row0 col3\" >61.32%</td>\n",
              "      <td id=\"T_0148c_row0_col4\" class=\"data row0 col4\" >keras</td>\n",
              "      <td id=\"T_0148c_row0_col5\" class=\"data row0 col5\" >Sequential</td>\n",
              "      <td id=\"T_0148c_row0_col6\" class=\"data row0 col6\" >11</td>\n",
              "      <td id=\"T_0148c_row0_col7\" class=\"data row0 col7\" >1851153</td>\n",
              "      <td id=\"T_0148c_row0_col8\" class=\"data row0 col8\" >1</td>\n",
              "      <td id=\"T_0148c_row0_col9\" class=\"data row0 col9\" >2.000000</td>\n",
              "      <td id=\"T_0148c_row0_col10\" class=\"data row0 col10\" >4.000000</td>\n",
              "      <td id=\"T_0148c_row0_col11\" class=\"data row0 col11\" >2.000000</td>\n",
              "      <td id=\"T_0148c_row0_col12\" class=\"data row0 col12\" >2</td>\n",
              "      <td id=\"T_0148c_row0_col13\" class=\"data row0 col13\" >1</td>\n",
              "      <td id=\"T_0148c_row0_col14\" class=\"data row0 col14\" >5</td>\n",
              "      <td id=\"T_0148c_row0_col15\" class=\"data row0 col15\" >function</td>\n",
              "      <td id=\"T_0148c_row0_col16\" class=\"data row0 col16\" >RMSprop</td>\n",
              "      <td id=\"T_0148c_row0_col17\" class=\"data row0 col17\" >7406384</td>\n",
              "      <td id=\"T_0148c_row0_col18\" class=\"data row0 col18\" >hp2500test</td>\n",
              "      <td id=\"T_0148c_row0_col19\" class=\"data row0 col19\" >2</td>\n",
              "    </tr>\n",
              "    <tr>\n",
              "      <th id=\"T_0148c_level0_row1\" class=\"row_heading level0 row1\" >1</th>\n",
              "      <td id=\"T_0148c_row1_col0\" class=\"data row1 col0\" >46.32%</td>\n",
              "      <td id=\"T_0148c_row1_col1\" class=\"data row1 col1\" >45.21%</td>\n",
              "      <td id=\"T_0148c_row1_col2\" class=\"data row1 col2\" >48.01%</td>\n",
              "      <td id=\"T_0148c_row1_col3\" class=\"data row1 col3\" >44.66%</td>\n",
              "      <td id=\"T_0148c_row1_col4\" class=\"data row1 col4\" >keras</td>\n",
              "      <td id=\"T_0148c_row1_col5\" class=\"data row1 col5\" >Sequential</td>\n",
              "      <td id=\"T_0148c_row1_col6\" class=\"data row1 col6\" >5</td>\n",
              "      <td id=\"T_0148c_row1_col7\" class=\"data row1 col7\" >11805061</td>\n",
              "      <td id=\"T_0148c_row1_col8\" class=\"data row1 col8\" >1</td>\n",
              "      <td id=\"T_0148c_row1_col9\" class=\"data row1 col9\" >nan</td>\n",
              "      <td id=\"T_0148c_row1_col10\" class=\"data row1 col10\" >nan</td>\n",
              "      <td id=\"T_0148c_row1_col11\" class=\"data row1 col11\" >nan</td>\n",
              "      <td id=\"T_0148c_row1_col12\" class=\"data row1 col12\" >4</td>\n",
              "      <td id=\"T_0148c_row1_col13\" class=\"data row1 col13\" >1</td>\n",
              "      <td id=\"T_0148c_row1_col14\" class=\"data row1 col14\" >3</td>\n",
              "      <td id=\"T_0148c_row1_col15\" class=\"data row1 col15\" >function</td>\n",
              "      <td id=\"T_0148c_row1_col16\" class=\"data row1 col16\" >RMSprop</td>\n",
              "      <td id=\"T_0148c_row1_col17\" class=\"data row1 col17\" >47221344</td>\n",
              "      <td id=\"T_0148c_row1_col18\" class=\"data row1 col18\" >hp2500test</td>\n",
              "      <td id=\"T_0148c_row1_col19\" class=\"data row1 col19\" >1</td>\n",
              "    </tr>\n",
              "  </tbody>\n",
              "</table>\n"
            ]
          },
          "metadata": {},
          "execution_count": 15
        }
      ],
      "source": [
        "# Check experiment leaderboard\n",
        "data = myplayground.get_leaderboard()\n",
        "myplayground.stylize_leaderboard(data)"
      ]
    },
    {
      "cell_type": "markdown",
      "source": [
        "### **Compare Two or More Models**\n",
        "\n",
        "\n",
        "> ### Model comparisons can help you to identify differences in model architecture at a glance.  \n",
        "\n",
        "*  *Simply pass the version numbers of the models you would like to compare.* \n",
        "*  *For Keras and Pytoch models you can compare architectures through color-coded layer types. For Scikit-Learn models, you can compare hyperparameter settings.*  "
      ],
      "metadata": {
        "id": "O3574Lg-5M76"
      }
    },
    {
      "cell_type": "code",
      "execution_count": null,
      "metadata": {
        "colab": {
          "base_uri": "https://localhost:8080/",
          "height": 298
        },
        "id": "quo_V3A3hNS3",
        "outputId": "708f956c-2c88-4c02-ff34-efcc9336104d"
      },
      "outputs": [
        {
          "output_type": "display_data",
          "data": {
            "text/plain": [
              "<IPython.core.display.HTML object>"
            ],
            "text/html": [
              "<style type=\"text/css\">\n",
              "#T_0694b caption {\n",
              "  color: black;\n",
              "  font-size: 18px;\n",
              "}\n",
              "#T_0694b_row0_col0, #T_0694b_row1_col0, #T_0694b_row2_col0, #T_0694b_row4_col0, #T_0694b_row8_col3, #T_0694b_row10_col3 {\n",
              "  background: #fff2ae;\n",
              "  color: black;\n",
              "  color: black;\n",
              "}\n",
              "#T_0694b_row0_col1, #T_0694b_row0_col2, #T_0694b_row0_col4, #T_0694b_row0_col5, #T_0694b_row1_col1, #T_0694b_row1_col2, #T_0694b_row1_col4, #T_0694b_row1_col5, #T_0694b_row2_col1, #T_0694b_row2_col2, #T_0694b_row2_col4, #T_0694b_row2_col5, #T_0694b_row3_col1, #T_0694b_row3_col2, #T_0694b_row3_col4, #T_0694b_row3_col5, #T_0694b_row4_col1, #T_0694b_row4_col2, #T_0694b_row4_col4, #T_0694b_row4_col5, #T_0694b_row5_col0, #T_0694b_row5_col1, #T_0694b_row5_col2, #T_0694b_row5_col4, #T_0694b_row5_col5, #T_0694b_row6_col0, #T_0694b_row6_col1, #T_0694b_row6_col2, #T_0694b_row6_col4, #T_0694b_row6_col5, #T_0694b_row7_col0, #T_0694b_row7_col1, #T_0694b_row7_col2, #T_0694b_row7_col4, #T_0694b_row7_col5, #T_0694b_row8_col0, #T_0694b_row8_col1, #T_0694b_row8_col2, #T_0694b_row8_col4, #T_0694b_row8_col5, #T_0694b_row9_col0, #T_0694b_row9_col1, #T_0694b_row9_col2, #T_0694b_row9_col4, #T_0694b_row9_col5, #T_0694b_row10_col0, #T_0694b_row10_col1, #T_0694b_row10_col2, #T_0694b_row10_col4, #T_0694b_row10_col5 {\n",
              "  background: white;\n",
              "  color: black;\n",
              "  color: black;\n",
              "}\n",
              "#T_0694b_row0_col3, #T_0694b_row1_col3, #T_0694b_row3_col3, #T_0694b_row4_col3 {\n",
              "  background: #fdcdac;\n",
              "  color: black;\n",
              "  color: black;\n",
              "}\n",
              "#T_0694b_row2_col3, #T_0694b_row5_col3 {\n",
              "  background: #e6f5c9;\n",
              "  color: black;\n",
              "  color: black;\n",
              "}\n",
              "#T_0694b_row3_col0, #T_0694b_row7_col3 {\n",
              "  background: nan;\n",
              "  color: black;\n",
              "  color: black;\n",
              "}\n",
              "#T_0694b_row6_col3, #T_0694b_row9_col3 {\n",
              "  background: #cbd5e8;\n",
              "  color: black;\n",
              "  color: black;\n",
              "}\n",
              "</style>\n",
              "<table id=\"T_0694b\">\n",
              "  <caption>Model type: Neural Network</caption>\n",
              "  <thead>\n",
              "    <tr>\n",
              "      <th class=\"blank level0\" >&nbsp;</th>\n",
              "      <th id=\"T_0694b_level0_col0\" class=\"col_heading level0 col0\" >Model_1_Layer</th>\n",
              "      <th id=\"T_0694b_level0_col1\" class=\"col_heading level0 col1\" >Model_1_Shape</th>\n",
              "      <th id=\"T_0694b_level0_col2\" class=\"col_heading level0 col2\" >Model_1_Params</th>\n",
              "      <th id=\"T_0694b_level0_col3\" class=\"col_heading level0 col3\" >Model_2_Layer</th>\n",
              "      <th id=\"T_0694b_level0_col4\" class=\"col_heading level0 col4\" >Model_2_Shape</th>\n",
              "      <th id=\"T_0694b_level0_col5\" class=\"col_heading level0 col5\" >Model_2_Params</th>\n",
              "    </tr>\n",
              "  </thead>\n",
              "  <tbody>\n",
              "    <tr>\n",
              "      <th id=\"T_0694b_level0_row0\" class=\"row_heading level0 row0\" >0</th>\n",
              "      <td id=\"T_0694b_row0_col0\" class=\"data row0 col0\" >Dense</td>\n",
              "      <td id=\"T_0694b_row0_col1\" class=\"data row0 col1\" >[None, 192, 192, 64]</td>\n",
              "      <td id=\"T_0694b_row0_col2\" class=\"data row0 col2\" >256.000000</td>\n",
              "      <td id=\"T_0694b_row0_col3\" class=\"data row0 col3\" >Conv2D</td>\n",
              "      <td id=\"T_0694b_row0_col4\" class=\"data row0 col4\" >[None, 192, 192, 32]</td>\n",
              "      <td id=\"T_0694b_row0_col5\" class=\"data row0 col5\" >416</td>\n",
              "    </tr>\n",
              "    <tr>\n",
              "      <th id=\"T_0694b_level0_row1\" class=\"row_heading level0 row1\" >1</th>\n",
              "      <td id=\"T_0694b_row1_col0\" class=\"data row1 col0\" >Dense</td>\n",
              "      <td id=\"T_0694b_row1_col1\" class=\"data row1 col1\" >[None, 192, 192, 64]</td>\n",
              "      <td id=\"T_0694b_row1_col2\" class=\"data row1 col2\" >4160.000000</td>\n",
              "      <td id=\"T_0694b_row1_col3\" class=\"data row1 col3\" >Conv2D</td>\n",
              "      <td id=\"T_0694b_row1_col4\" class=\"data row1 col4\" >[None, 192, 192, 32]</td>\n",
              "      <td id=\"T_0694b_row1_col5\" class=\"data row1 col5\" >4128</td>\n",
              "    </tr>\n",
              "    <tr>\n",
              "      <th id=\"T_0694b_level0_row2\" class=\"row_heading level0 row2\" >2</th>\n",
              "      <td id=\"T_0694b_row2_col0\" class=\"data row2 col0\" >Dense</td>\n",
              "      <td id=\"T_0694b_row2_col1\" class=\"data row2 col1\" >[None, 192, 192, 64]</td>\n",
              "      <td id=\"T_0694b_row2_col2\" class=\"data row2 col2\" >4160.000000</td>\n",
              "      <td id=\"T_0694b_row2_col3\" class=\"data row2 col3\" >MaxPooling2D</td>\n",
              "      <td id=\"T_0694b_row2_col4\" class=\"data row2 col4\" >[None, 96, 96, 32]</td>\n",
              "      <td id=\"T_0694b_row2_col5\" class=\"data row2 col5\" >0</td>\n",
              "    </tr>\n",
              "    <tr>\n",
              "      <th id=\"T_0694b_level0_row3\" class=\"row_heading level0 row3\" >3</th>\n",
              "      <td id=\"T_0694b_row3_col0\" class=\"data row3 col0\" >Flatten</td>\n",
              "      <td id=\"T_0694b_row3_col1\" class=\"data row3 col1\" >[None, 2359296]</td>\n",
              "      <td id=\"T_0694b_row3_col2\" class=\"data row3 col2\" >0.000000</td>\n",
              "      <td id=\"T_0694b_row3_col3\" class=\"data row3 col3\" >Conv2D</td>\n",
              "      <td id=\"T_0694b_row3_col4\" class=\"data row3 col4\" >[None, 96, 96, 16]</td>\n",
              "      <td id=\"T_0694b_row3_col5\" class=\"data row3 col5\" >2064</td>\n",
              "    </tr>\n",
              "    <tr>\n",
              "      <th id=\"T_0694b_level0_row4\" class=\"row_heading level0 row4\" >4</th>\n",
              "      <td id=\"T_0694b_row4_col0\" class=\"data row4 col0\" >Dense</td>\n",
              "      <td id=\"T_0694b_row4_col1\" class=\"data row4 col1\" >[None, 5]</td>\n",
              "      <td id=\"T_0694b_row4_col2\" class=\"data row4 col2\" >11796485.000000</td>\n",
              "      <td id=\"T_0694b_row4_col3\" class=\"data row4 col3\" >Conv2D</td>\n",
              "      <td id=\"T_0694b_row4_col4\" class=\"data row4 col4\" >[None, 96, 96, 16]</td>\n",
              "      <td id=\"T_0694b_row4_col5\" class=\"data row4 col5\" >1040</td>\n",
              "    </tr>\n",
              "    <tr>\n",
              "      <th id=\"T_0694b_level0_row5\" class=\"row_heading level0 row5\" >5</th>\n",
              "      <td id=\"T_0694b_row5_col0\" class=\"data row5 col0\" >None</td>\n",
              "      <td id=\"T_0694b_row5_col1\" class=\"data row5 col1\" >None</td>\n",
              "      <td id=\"T_0694b_row5_col2\" class=\"data row5 col2\" >nan</td>\n",
              "      <td id=\"T_0694b_row5_col3\" class=\"data row5 col3\" >MaxPooling2D</td>\n",
              "      <td id=\"T_0694b_row5_col4\" class=\"data row5 col4\" >[None, 48, 48, 16]</td>\n",
              "      <td id=\"T_0694b_row5_col5\" class=\"data row5 col5\" >0</td>\n",
              "    </tr>\n",
              "    <tr>\n",
              "      <th id=\"T_0694b_level0_row6\" class=\"row_heading level0 row6\" >6</th>\n",
              "      <td id=\"T_0694b_row6_col0\" class=\"data row6 col0\" >None</td>\n",
              "      <td id=\"T_0694b_row6_col1\" class=\"data row6 col1\" >None</td>\n",
              "      <td id=\"T_0694b_row6_col2\" class=\"data row6 col2\" >nan</td>\n",
              "      <td id=\"T_0694b_row6_col3\" class=\"data row6 col3\" >Dropout</td>\n",
              "      <td id=\"T_0694b_row6_col4\" class=\"data row6 col4\" >[None, 48, 48, 16]</td>\n",
              "      <td id=\"T_0694b_row6_col5\" class=\"data row6 col5\" >0</td>\n",
              "    </tr>\n",
              "    <tr>\n",
              "      <th id=\"T_0694b_level0_row7\" class=\"row_heading level0 row7\" >7</th>\n",
              "      <td id=\"T_0694b_row7_col0\" class=\"data row7 col0\" >None</td>\n",
              "      <td id=\"T_0694b_row7_col1\" class=\"data row7 col1\" >None</td>\n",
              "      <td id=\"T_0694b_row7_col2\" class=\"data row7 col2\" >nan</td>\n",
              "      <td id=\"T_0694b_row7_col3\" class=\"data row7 col3\" >Flatten</td>\n",
              "      <td id=\"T_0694b_row7_col4\" class=\"data row7 col4\" >[None, 36864]</td>\n",
              "      <td id=\"T_0694b_row7_col5\" class=\"data row7 col5\" >0</td>\n",
              "    </tr>\n",
              "    <tr>\n",
              "      <th id=\"T_0694b_level0_row8\" class=\"row_heading level0 row8\" >8</th>\n",
              "      <td id=\"T_0694b_row8_col0\" class=\"data row8 col0\" >None</td>\n",
              "      <td id=\"T_0694b_row8_col1\" class=\"data row8 col1\" >None</td>\n",
              "      <td id=\"T_0694b_row8_col2\" class=\"data row8 col2\" >nan</td>\n",
              "      <td id=\"T_0694b_row8_col3\" class=\"data row8 col3\" >Dense</td>\n",
              "      <td id=\"T_0694b_row8_col4\" class=\"data row8 col4\" >[None, 50]</td>\n",
              "      <td id=\"T_0694b_row8_col5\" class=\"data row8 col5\" >1843250</td>\n",
              "    </tr>\n",
              "    <tr>\n",
              "      <th id=\"T_0694b_level0_row9\" class=\"row_heading level0 row9\" >9</th>\n",
              "      <td id=\"T_0694b_row9_col0\" class=\"data row9 col0\" >None</td>\n",
              "      <td id=\"T_0694b_row9_col1\" class=\"data row9 col1\" >None</td>\n",
              "      <td id=\"T_0694b_row9_col2\" class=\"data row9 col2\" >nan</td>\n",
              "      <td id=\"T_0694b_row9_col3\" class=\"data row9 col3\" >Dropout</td>\n",
              "      <td id=\"T_0694b_row9_col4\" class=\"data row9 col4\" >[None, 50]</td>\n",
              "      <td id=\"T_0694b_row9_col5\" class=\"data row9 col5\" >0</td>\n",
              "    </tr>\n",
              "    <tr>\n",
              "      <th id=\"T_0694b_level0_row10\" class=\"row_heading level0 row10\" >10</th>\n",
              "      <td id=\"T_0694b_row10_col0\" class=\"data row10 col0\" >None</td>\n",
              "      <td id=\"T_0694b_row10_col1\" class=\"data row10 col1\" >None</td>\n",
              "      <td id=\"T_0694b_row10_col2\" class=\"data row10 col2\" >nan</td>\n",
              "      <td id=\"T_0694b_row10_col3\" class=\"data row10 col3\" >Dense</td>\n",
              "      <td id=\"T_0694b_row10_col4\" class=\"data row10 col4\" >[None, 5]</td>\n",
              "      <td id=\"T_0694b_row10_col5\" class=\"data row10 col5\" >255</td>\n",
              "    </tr>\n",
              "  </tbody>\n",
              "</table>\n"
            ]
          },
          "metadata": {}
        }
      ],
      "source": [
        "# Compare two or more models\n",
        "data=myplayground.compare_models([1,2], verbose=1)\n",
        "myplayground.stylize_compare(data)"
      ]
    },
    {
      "cell_type": "markdown",
      "metadata": {
        "id": "FKm9ugiBhQFn"
      },
      "source": [
        "### **Check the Structure of Evaluation Data**\n",
        "\n",
        "> ### Your team needs to understand the format of the evaluation data, to ensure that their submissions can be processed.  \n",
        "\n",
        "*  *Make sure class labels, data types, and dimensions of predictions correspond to submitted evaluation data.*\n",
        "*  *This is important to generate evaluation metrics for your submission.*\n"
      ]
    },
    {
      "cell_type": "code",
      "execution_count": null,
      "metadata": {
        "colab": {
          "base_uri": "https://localhost:8080/"
        },
        "id": "dqY82D22hPZx",
        "outputId": "1199122e-dd6c-458b-9266-de033dd2faf8"
      },
      "outputs": [
        {
          "output_type": "execute_result",
          "data": {
            "text/plain": [
              "{'ytest_example': ['daisy', 'sunflowers', 'roses', 'dandelion', 'roses'],\n",
              " 'y_length': 734,\n",
              " 'class_labels': ['dandelion', 'tulips', 'daisy', 'roses', 'sunflowers'],\n",
              " 'class_balance': {'daisy': 126,\n",
              "  'sunflowers': 140,\n",
              "  'roses': 128,\n",
              "  'dandelion': 180,\n",
              "  'tulips': 160},\n",
              " 'label_dtypes': {\"<class 'str'>\": 734}}"
            ]
          },
          "metadata": {},
          "execution_count": 17
        }
      ],
      "source": [
        "# Check structure of evaluation data\n",
        "myplayground.inspect_eval_data()"
      ]
    },
    {
      "cell_type": "markdown",
      "metadata": {
        "id": "iA-nYjr7WCIp"
      },
      "source": [
        "## **(5) Maintaining Your Model Playground**"
      ]
    },
    {
      "cell_type": "markdown",
      "source": [
        "### **Update the Runtime Model (the model that is used for predictions in your REST API/Web-App**\n",
        "\n",
        "\n",
        "> ### You can update the runtime model anytime by picking one of the previously submitted models.  \n",
        "\n",
        "* *Simply refer to the model by its leaderboard version number.*\n",
        "* *You can choos a model from the Competition or Experiment leaderboard by specifying the submission_type argument.*"
      ],
      "metadata": {
        "id": "3mndcjn1Q9gk"
      }
    },
    {
      "cell_type": "code",
      "execution_count": null,
      "metadata": {
        "colab": {
          "base_uri": "https://localhost:8080/"
        },
        "id": "wAchpcGLWLxE",
        "outputId": "fa2fee07-ec52-4c60-f5c0-0d62dc800934"
      },
      "outputs": [
        {
          "output_type": "stream",
          "name": "stdout",
          "text": [
            "Runtime model & preprocessor for api: https://moyz6xuxu9.execute-api.us-east-1.amazonaws.com/prod/m updated to model version 2.\n",
            "\n",
            "Model metrics are now updated and verified for this model playground.\n",
            "\n",
            "Visit your Model Playground Page for more.\n",
            "https://www.modelshare.ai/detail/model:3522\n"
          ]
        }
      ],
      "source": [
        "# Update runtime model\n",
        "myplayground.update_runtime_model(model_version=2)"
      ]
    },
    {
      "cell_type": "markdown",
      "metadata": {
        "id": "xhJRaiN-WaO1"
      },
      "source": [
        "### **Delete Deployment**\n",
        "\n",
        "\n",
        "> ### You can delete the entire Model Playground, including the REST API, web dashboard, competition, and all submitted models.  \n",
        "\n",
        "* *This is final - there is no way to recover your Model Playground if you delete it.*\n",
        "* *We have commented the line for safety reasons.*"
      ]
    },
    {
      "cell_type": "code",
      "execution_count": null,
      "metadata": {
        "id": "mCkf-exLWyDK"
      },
      "outputs": [],
      "source": [
        "#myplayground.delete_deployment()"
      ]
    },
    {
      "cell_type": "code",
      "source": [],
      "metadata": {
        "id": "UpQ1-Ch4TFJI"
      },
      "execution_count": null,
      "outputs": []
    }
  ],
  "metadata": {
    "colab": {
      "provenance": []
    },
    "kernelspec": {
      "display_name": "Python 3",
      "language": "python",
      "name": "python3"
    },
    "language_info": {
      "codemirror_mode": {
        "name": "ipython",
        "version": 3
      },
      "file_extension": ".py",
      "mimetype": "text/x-python",
      "name": "python",
      "nbconvert_exporter": "python",
      "pygments_lexer": "ipython3",
      "version": "3.8.5"
    },
    "gpuClass": "standard"
  },
  "nbformat": 4,
  "nbformat_minor": 0
}