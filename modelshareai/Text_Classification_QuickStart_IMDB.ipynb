{
  "cells": [
    {
      "cell_type": "markdown",
      "metadata": {
        "id": "0BviI4QIdWiq"
      },
      "source": [
        "<p align=\"center\"><img width=\"50%\" src=\"https://www.modelshare.ai/img/ModelShareLogo_COLOR.abf79305.png\" /></p>\n",
        "\n",
        "\n",
        "---\n",
        "\n",
        "\n"
      ]
    },
    {
      "cell_type": "markdown",
      "metadata": {
        "id": "gYNp684Tk3tb"
      },
      "source": [
        "<p align=\"center\"><h1 align=\"center\">Quick Start: IMDB Review Text Classification Tutorial</h1> \n",
        "\n",
        "##### <p align=\"center\">*Dataset Adapted From: Andrew L. Maas, Raymond E. Daly, Peter T. Pham, Dan Huang, Andrew Y. Ng, and Christopher Potts. (2011). Learning Word Vectors for Sentiment Analysis. The 49th Annual Meeting of the Association for Computational Linguistics (ACL 2011).* \n",
        "---"
      ]
    },
    {
      "cell_type": "markdown",
      "source": [
        "## **Create Model Playground ML Project Space: Submit, Track, and Deploy ML Model(s) in about 5 mins**\n",
        "> ### (1) Set Up Environment \n",
        "> ### (2) Create a Model Playground\n",
        "> ### (3) Submit, Track, and Deploy ML Model(s)\n",
        "> ### (4) Improve Models and Analyze Model Performance\n",
        "> ### (5) Maintain Your Model Playground"
      ],
      "metadata": {
        "id": "Z-MOk60U_ye-"
      }
    },
    {
      "cell_type": "markdown",
      "metadata": {
        "id": "0PhJ-XlGazpD"
      },
      "source": [
        "## **(1) Set Up Environment**\n",
        "\n",
        "In order to deploy a Model Share AI Model Playground, you will need a credentials text file. \n",
        "\n",
        "Generating your credentials file requires two sets of information: \n",
        "1. Your Model Share AI username and password (create them [HERE](https://www.modelshare.org/login)). \n",
        "2. Your AWS (Amazon Web Services) access keys (follow the tutorial [HERE](https://aimodelshare.readthedocs.io/en/latest/create_credentials.html)). \n",
        "\n",
        "You only need to generate your credentials file once. After running the configure function below, save the outputted file for all your future Model Playground deployments and competition submissions. \n",
        "\n",
        "*Note: Handle your credentials file with the same level of security you handle your passwords. Do not share your file with anyone, send via email, or upload to Github. Model Share AI does not store your credentials.*\n"
      ]
    },
    {
      "cell_type": "code",
      "execution_count": null,
      "metadata": {
        "id": "puVzQBHyhS2Z"
      },
      "outputs": [],
      "source": [
        "#install aimodelshare library\n",
        "! pip install aimodelshare --upgrade"
      ]
    },
    {
      "cell_type": "code",
      "execution_count": null,
      "metadata": {
        "id": "4Q7MCqBLcS20"
      },
      "outputs": [],
      "source": [
        "# Generate credentials file\n",
        "from aimodelshare.aws import configure_credentials \n",
        "configure_credentials()"
      ]
    },
    {
      "cell_type": "code",
      "execution_count": 3,
      "metadata": {
        "colab": {
          "base_uri": "https://localhost:8080/"
        },
        "id": "2u1QKNfEyN9A",
        "outputId": "2a793d1f-9897-4618-9501-02d2856cc1ce"
      },
      "outputs": [
        {
          "output_type": "stream",
          "name": "stdout",
          "text": [
            "Modelshare.ai login credentials set successfully.\n",
            "AWS credentials set successfully.\n"
          ]
        }
      ],
      "source": [
        "# Set credentials \n",
        "from aimodelshare.aws import set_credentials\n",
        "set_credentials(credential_file=\"credentials.txt\", type=\"deploy_model\")"
      ]
    },
    {
      "cell_type": "code",
      "execution_count": null,
      "metadata": {
        "id": "PwQcTsyyURIk"
      },
      "outputs": [],
      "source": [
        "# # Download IMDB Review data and and pretrained Keras models\n",
        "from aimodelshare.data_sharing.download_data import import_quickstart_data\n",
        "X_train, X_test, y_train_labels, y_test_labels, example_data, keras_model, keras_model_2 = import_quickstart_data(\"imdb\")"
      ]
    },
    {
      "cell_type": "markdown",
      "metadata": {
        "id": "xJlhd6jvns0b"
      },
      "source": [
        "## **(2) Create a Model Playground**"
      ]
    },
    {
      "cell_type": "markdown",
      "source": [
        "### **Create a Model Playground**\n",
        "\n",
        "\n",
        "> ### Each Model Playground is a unique ML project space with lots of useful functionality...\n",
        "- Use playground.submit_model() to track ML models in experiments and/or competition leaderboards\n",
        "- Save, version, and reuse ML models each time they are submitted\n",
        "- Use playground.compare_models() to compare model architectures with git like colorized model diffs\n",
        "- Use playground.deploy_model() to deploy models instantly into live REST APIs and/or web-apps.  \n",
        "\n",
        "*  *First, you need to intantiate a ModelPlayground() object locally. Please specify the data type of your learning task (e.g., image, tabular, etc), whether the model is a classification or a regression model, and whether your playground should be public or private. If you choose \"private\" only approved team members can interact your model playground*  \n",
        "*  *Second, you can create a playground page on the modelshare.ai website. You need to submit evaluation data that submitted models can be evaluated against.*  \n",
        "\n"
      ],
      "metadata": {
        "id": "gpHMK0Jp8xr_"
      }
    },
    {
      "cell_type": "code",
      "execution_count": 3,
      "metadata": {
        "id": "7qCPVnB2oR53",
        "colab": {
          "base_uri": "https://localhost:8080/"
        },
        "outputId": "190f7d01-a212-43e7-efc2-ac6eba6272d9"
      },
      "outputs": [
        {
          "output_type": "stream",
          "name": "stdout",
          "text": [
            "Creating your prediction API. (This process may take several minutes.)\n",
            "\n",
            "[=====================================] Progress: 100% - Complete!                                            \n",
            "\n",
            "Success! Your Model Playground was created in 55 seconds. \n",
            " Playground Url: \"https://s84a2ut5w8.execute-api.us-east-2.amazonaws.com/prod/m\"\n",
            "\n",
            "You can now use your Model Playground.\n",
            "\n",
            "Follow this link to explore your Model Playground's functionality\n",
            "You can make predictions with the Dashboard and access example code from the Programmatic tab.\n",
            "https://www.modelshare.ai/detail/model:3531\n",
            "\n",
            "Check out your Model Playground page for more.\n"
          ]
        }
      ],
      "source": [
        "# Instantiate Model Playground object\n",
        "from aimodelshare.playground import ModelPlayground\n",
        "myplayground=ModelPlayground(input_type=\"text\", \n",
        "                             task_type=\"classification\", \n",
        "                             private=False)\n",
        "\n",
        "# Create Model Playground Page on modelshare.ai website\n",
        "myplayground.create(eval_data=y_test_labels.tolist())"
      ]
    },
    {
      "cell_type": "markdown",
      "source": [
        "##  **3) Submit, Track, and Deploy Model(s)**\n"
      ],
      "metadata": {
        "id": "M3Q5N6FiLkfu"
      }
    },
    {
      "cell_type": "markdown",
      "metadata": {
        "id": "WrEgo5zRxbed"
      },
      "source": [
        "### **Write a Preprocessor Function**\n",
        "\n",
        "\n",
        "> ###   Preprocessing functions play a crucial role in preparing data for your model by converting it into the specific format that is needed to generate predictions.  \n",
        "\n",
        "*  *Preprocessor functions should always be named \"preprocessor\".*\n",
        "*  *You can use any Python library in a preprocessor function, but all libraries should be imported inside your preprocessor function.*  \n",
        "\n",
        "\n"
      ]
    },
    {
      "cell_type": "code",
      "execution_count": 6,
      "metadata": {
        "id": "B5Jz-1cmYN5Z"
      },
      "outputs": [],
      "source": [
        "# Here is a pre-designed preprocessor, but you could also build your own to prepare the data differently\n",
        "from tensorflow.keras.preprocessing.text import Tokenizer\n",
        "from tensorflow.keras.preprocessing.sequence import pad_sequences\n",
        "import numpy as np\n",
        "\n",
        "# Build vocabulary from training text data\n",
        "tokenizer = Tokenizer(num_words=5000)\n",
        "tokenizer.fit_on_texts(X_train)\n",
        "\n",
        "# This preprocessor tokenizes words and makes sure all documents have the same length\n",
        "def preprocessor(data, maxlen=100, max_words=5000):\n",
        "\n",
        "    sequences = tokenizer.texts_to_sequences(data)\n",
        "\n",
        "    word_index = tokenizer.word_index\n",
        "    X = pad_sequences(sequences, maxlen=maxlen)\n",
        "\n",
        "    return X"
      ]
    },
    {
      "cell_type": "markdown",
      "source": [
        "### **Train Your Machine Learning Model**\n",
        "\n",
        "\n",
        "> ### Model Share supports Scikit-Learn, Tensorflow,  Keras, and Pytorch models out of the box.  \n",
        "\n",
        "*  *Train your model using your favorite ML library. Here, we have already loaded a Keras model in the quickstart function above.*  \n",
        "*  *Use your model to make predictions on the test set.*  \n",
        "\n",
        "\n"
      ],
      "metadata": {
        "id": "TdHs5-m0BFNg"
      }
    },
    {
      "cell_type": "code",
      "execution_count": 7,
      "metadata": {
        "id": "Tnrmg_aO230E",
        "colab": {
          "base_uri": "https://localhost:8080/"
        },
        "outputId": "e3196d96-6e61-4c3d-e3bf-6bbfaba22866"
      },
      "outputs": [
        {
          "output_type": "stream",
          "name": "stdout",
          "text": [
            "Model: \"sequential_13\"\n",
            "_________________________________________________________________\n",
            " Layer (type)                Output Shape              Param #   \n",
            "=================================================================\n",
            " embedding_13 (Embedding)    (None, 100, 16)           80000     \n",
            "                                                                 \n",
            " flatten_13 (Flatten)        (None, 1600)              0         \n",
            "                                                                 \n",
            " dense_13 (Dense)            (None, 2)                 3202      \n",
            "                                                                 \n",
            "=================================================================\n",
            "Total params: 83,202\n",
            "Trainable params: 83,202\n",
            "Non-trainable params: 0\n",
            "_________________________________________________________________\n"
          ]
        }
      ],
      "source": [
        "# Check the model architecture.\n",
        "keras_model.summary()"
      ]
    },
    {
      "cell_type": "code",
      "execution_count": 8,
      "metadata": {
        "id": "jeo3m9mMpJyX",
        "colab": {
          "base_uri": "https://localhost:8080/"
        },
        "outputId": "b6f45967-f62d-489d-dea1-7a03f69a80d4"
      },
      "outputs": [
        {
          "output_type": "execute_result",
          "data": {
            "text/plain": [
              "['negative', 'positive']"
            ]
          },
          "metadata": {},
          "execution_count": 8
        }
      ],
      "source": [
        "# Create one hot encoded data from list of y_train category labels\n",
        "#...to allow modeltoapi() to extract correct labels for predictions in your deployed API\n",
        "import pandas as pd \n",
        "\n",
        "y_train = pd.get_dummies(y_train_labels)\n",
        "y_test = pd.get_dummies(y_test_labels)\n",
        "\n",
        "#ensure column names are correct in one hot encoded target for correct label extraction\n",
        "list(y_train.columns)"
      ]
    },
    {
      "cell_type": "code",
      "execution_count": 9,
      "metadata": {
        "id": "maVB5vo_oz4n",
        "colab": {
          "base_uri": "https://localhost:8080/"
        },
        "outputId": "fe10757b-b630-4226-e203-6bec47324dab"
      },
      "outputs": [
        {
          "output_type": "stream",
          "name": "stdout",
          "text": [
            "391/391 [==============================] - 1s 2ms/step\n"
          ]
        }
      ],
      "source": [
        "# Generate predicted y values\n",
        "prediction_column_index = keras_model.predict(preprocessor(X_test)).argmax(axis=1)\n",
        "\n",
        "# Extract correct prediction labels \n",
        "prediction_labels = [y_train.columns[i] for i in prediction_column_index]"
      ]
    },
    {
      "cell_type": "markdown",
      "source": [
        "### **Submit a Model to your Model Playground**\n",
        "\n",
        "\n",
        "> ### You can submit models to your Model Playground page in order to evaluate them, extract model metadata, compare them to other models, and turn them into REST API endpoints.  \n",
        "\n",
        "*  *Pass your model to the submit model function. You can either pass a model object, an ONNX object, or a filepath to an ONNX file.*  \n",
        "*  *Pass your preprocessor to ensure that your model can process new data.*\n",
        "*  *Pass your predictions to be evaluated against your playground evaluation data.*  \n",
        "\n",
        "\n"
      ],
      "metadata": {
        "id": "-d46P25H6mX6"
      }
    },
    {
      "cell_type": "code",
      "source": [
        "# Submit Model to Experiment Leaderboard\n",
        "# (Option: set submission_type=\"competition\" to submit to competition leaderboard)\n",
        "\n",
        "myplayground.submit_model(model=keras_model,\n",
        "                          preprocessor=preprocessor,\n",
        "                          prediction_submission=prediction_labels)"
      ],
      "metadata": {
        "colab": {
          "base_uri": "https://localhost:8080/"
        },
        "id": "oKypMQMvFCwc",
        "outputId": "5f31ad9d-ed53-4d7b-ec84-d9c9a549afcc"
      },
      "execution_count": 10,
      "outputs": [
        {
          "output_type": "stream",
          "name": "stdout",
          "text": [
            "\n",
            "Insert search tags to help users find your model (optional): \n",
            "Provide any useful notes about your model (optional): \n",
            "Your model has been submitted to experiment as model version 1.\n",
            "\n",
            "Visit your Model Playground Page for more.\n",
            "https://www.modelshare.ai/detail/model:3531\n"
          ]
        }
      ]
    },
    {
      "cell_type": "markdown",
      "metadata": {
        "id": "NBgleMgmhWWx"
      },
      "source": [
        "### **Deploy a Model to a Prediction REST API and Web-app**\n",
        "\n",
        "\n",
        "> ### Update the prediction API behind your Model Playground with a new model and verify the model performance metrics in your Model Playground.\n",
        "\n",
        "Use playground.deploy_model() with the following key arguments:\n",
        "* *model_version: Simply refer to the model by its leaderboard version number.*\n",
        "* *example_data: deploy_model builds a web-app for you.  It needs some example data for end users to download to try your web-app.  For text data, provide a pandas DataFrame in the same structure expected by your preprocessor function. In this case, the example data was loaded in the quickstart function above* \n",
        "*  *y_train: For classification problems deploy_model needs well ordered y_training data labels.  Provide a python list of y_train labels or a one hot encoded Pandas y_training data frame, so your web-app and prediction api return the correct prediction labels*"
      ]
    },
    {
      "cell_type": "code",
      "source": [
        "# Deploy model by version number\n",
        "myplayground.deploy_model(model_version=1, \n",
        "                          example_data=example_data, \n",
        "                          y_train=y_train)"
      ],
      "metadata": {
        "id": "N63Il2o_zOYV",
        "colab": {
          "base_uri": "https://localhost:8080/"
        },
        "outputId": "3434d4be-3a1a-4cf6-bb1b-7cb547ba6f19"
      },
      "execution_count": 11,
      "outputs": [
        {
          "output_type": "stream",
          "name": "stdout",
          "text": [
            "Runtime model & preprocessor for api: https://s84a2ut5w8.execute-api.us-east-2.amazonaws.com/prod/m updated to model version 1.\n",
            "\n",
            "Model metrics are now updated and verified for this model playground.\n",
            "\n",
            "Visit your Model Playground Page for more.\n",
            "https://www.modelshare.ai/detail/model:3531\n"
          ]
        }
      ]
    },
    {
      "cell_type": "markdown",
      "metadata": {
        "id": "8h3Stln6ETKj"
      },
      "source": [
        "## **(4) Improve Models and Analyze Model Performance**"
      ]
    },
    {
      "cell_type": "markdown",
      "source": [
        "### **Set Submission Credentials**\n",
        "\n",
        "> ### Authorized users can submit new models after setting credentials using modelshare.ai username/password.  \n",
        "\n",
        "*  *This only needs to be done if you want to submit models in a new session.*  \n",
        "*  *skip this step if you have already set your deployment credentials.*  \n",
        "\n",
        "\n"
      ],
      "metadata": {
        "id": "6yu9YsPx2j7b"
      }
    },
    {
      "cell_type": "code",
      "execution_count": null,
      "metadata": {
        "colab": {
          "base_uri": "https://localhost:8080/"
        },
        "id": "sJgu9K92DS8O",
        "outputId": "cb6b6659-d23c-4c57-b7cc-dc58c972dd9d"
      },
      "outputs": [
        {
          "output_type": "stream",
          "name": "stdout",
          "text": [
            "Modelshare.ai Username:··········\n",
            "Modelshare.ai Password:··········\n",
            "Modelshare.ai login credentials set successfully.\n"
          ]
        }
      ],
      "source": [
        "# example url from deployed playground: apiurl= \"https://123456.execute-api.us-east-1.amazonaws.com/prod/m\n",
        "apiurl=myplayground.playground_url \n",
        "\n",
        "set_credentials(apiurl=apiurl)"
      ]
    },
    {
      "cell_type": "markdown",
      "source": [
        "### **Submit More Models to your Model Playground**\n",
        "\n",
        "\n",
        "> ### You can submit models to your Model Playground page in order to evaluate them, extract model metadata, compare them to other models, and turn them into REST API endpoints.  \n",
        "\n",
        "*  *Pass your model to the submit model function. You can either pass a model object, an ONNX object, or a filepath to an ONNX file.*  \n",
        "*  *Pass your preprocessor to ensure that your model can process new data.*\n",
        "*  *Pass your predictions to be evaluated against your playground evaluation data.*  \n"
      ],
      "metadata": {
        "id": "DZyngoORDG6U"
      }
    },
    {
      "cell_type": "code",
      "execution_count": null,
      "metadata": {
        "colab": {
          "base_uri": "https://localhost:8080/"
        },
        "id": "hpzXNVPTop-O",
        "outputId": "f546a59c-a179-416d-8684-74c4f19fa314"
      },
      "outputs": [
        {
          "output_type": "stream",
          "name": "stdout",
          "text": [
            "Model: \"sequential_14\"\n",
            "_________________________________________________________________\n",
            " Layer (type)                Output Shape              Param #   \n",
            "=================================================================\n",
            " embedding_14 (Embedding)    (None, 100, 16)           80000     \n",
            "                                                                 \n",
            " lstm_6 (LSTM)               (None, 32)                6272      \n",
            "                                                                 \n",
            " flatten_14 (Flatten)        (None, 32)                0         \n",
            "                                                                 \n",
            " dense_14 (Dense)            (None, 2)                 66        \n",
            "                                                                 \n",
            "=================================================================\n",
            "Total params: 86,338\n",
            "Trainable params: 86,338\n",
            "Non-trainable params: 0\n",
            "_________________________________________________________________\n"
          ]
        }
      ],
      "source": [
        "# Have a look at architecture for model 2\n",
        "keras_model_2.summary()"
      ]
    },
    {
      "cell_type": "code",
      "execution_count": null,
      "metadata": {
        "colab": {
          "base_uri": "https://localhost:8080/"
        },
        "id": "Flts7zQNbhpq",
        "outputId": "6e2fa81c-f56e-45d7-a858-1bb7359a5f19"
      },
      "outputs": [
        {
          "output_type": "stream",
          "name": "stdout",
          "text": [
            "391/391 [==============================] - 4s 11ms/step\n",
            "\n",
            "Insert search tags to help users find your model (optional): \n",
            "Provide any useful notes about your model (optional): \n",
            "Your model has been submitted to experiment as model version 2.\n",
            "\n",
            "Visit your Model Playground Page for more.\n",
            "https://www.modelshare.ai/detail/model:3529\n"
          ]
        }
      ],
      "source": [
        "# Submit Model 2\n",
        "\n",
        "# Generate predicted y values (Model 2)\n",
        "prediction_column_index = keras_model_2.predict(preprocessor(X_test)).argmax(axis=1)\n",
        "\n",
        "# extract correct prediction labels (Model 2)\n",
        "prediction_labels = [y_train.columns[i] for i in prediction_column_index]\n",
        "\n",
        "# Submit Model 2 to Experiment Leaderboard\n",
        "myplayground.submit_model(model = keras_model_2,\n",
        "                          preprocessor=preprocessor,\n",
        "                          prediction_submission=prediction_labels)"
      ]
    },
    {
      "cell_type": "markdown",
      "source": [
        "### **Check Experiment Leaderboard**\n",
        "\n",
        "\n",
        "> ### Leaderboards allow you to compare model architectures ranked by predictive performance.  \n",
        "\n",
        "*  *Query leaderboard data for models submitted to your Model Playground page.* \n",
        "*  *You can either stylize the leaderboard or use pandas to run your own analyses to explore which model architectures perform well.*  \n",
        "\n",
        "\n"
      ],
      "metadata": {
        "id": "oJv0x49U5exC"
      }
    },
    {
      "cell_type": "code",
      "execution_count": null,
      "metadata": {
        "colab": {
          "base_uri": "https://localhost:8080/",
          "height": 132
        },
        "id": "J0-B1h0chYDL",
        "outputId": "ac536ad8-eb24-4ff5-b8da-9f8099075cbe"
      },
      "outputs": [
        {
          "output_type": "execute_result",
          "data": {
            "text/plain": [
              "<pandas.io.formats.style.Styler at 0x7efca4a4feb0>"
            ],
            "text/html": [
              "<style type=\"text/css\">\n",
              "#T_99406_row0_col0 {\n",
              "  text-align: center;\n",
              "  width: 10em;\n",
              "  background: linear-gradient(90deg, #f5f8d6 84.8%, transparent 84.8%);\n",
              "  color: #251e1b;\n",
              "  font-size: 12px;\n",
              "}\n",
              "#T_99406_row0_col1 {\n",
              "  text-align: center;\n",
              "  width: 10em;\n",
              "  background: linear-gradient(90deg, #c778c8 84.8%, transparent 84.8%);\n",
              "  color: #251e1b;\n",
              "  font-size: 12px;\n",
              "}\n",
              "#T_99406_row0_col2 {\n",
              "  text-align: center;\n",
              "  width: 10em;\n",
              "  background: linear-gradient(90deg, #ff4971 85.1%, transparent 85.1%);\n",
              "  color: #251e1b;\n",
              "  font-size: 12px;\n",
              "}\n",
              "#T_99406_row0_col3 {\n",
              "  text-align: center;\n",
              "  width: 10em;\n",
              "  background: linear-gradient(90deg, #aadbaa 84.8%, transparent 84.8%);\n",
              "  color: #251e1b;\n",
              "  font-size: 12px;\n",
              "}\n",
              "#T_99406_row0_col4, #T_99406_row0_col5, #T_99406_row0_col6, #T_99406_row0_col7, #T_99406_row0_col8, #T_99406_row0_col9, #T_99406_row0_col10, #T_99406_row0_col11, #T_99406_row0_col12, #T_99406_row0_col13, #T_99406_row0_col14, #T_99406_row0_col15, #T_99406_row0_col16, #T_99406_row0_col17, #T_99406_row0_col18, #T_99406_row1_col4, #T_99406_row1_col5, #T_99406_row1_col6, #T_99406_row1_col7, #T_99406_row1_col8, #T_99406_row1_col9, #T_99406_row1_col10, #T_99406_row1_col11, #T_99406_row1_col12, #T_99406_row1_col13, #T_99406_row1_col14, #T_99406_row1_col15, #T_99406_row1_col16, #T_99406_row1_col17, #T_99406_row1_col18 {\n",
              "  text-align: center;\n",
              "}\n",
              "#T_99406_row1_col0 {\n",
              "  text-align: center;\n",
              "  width: 10em;\n",
              "  background: linear-gradient(90deg, #f5f8d6 84.3%, transparent 84.3%);\n",
              "  color: #251e1b;\n",
              "  font-size: 12px;\n",
              "}\n",
              "#T_99406_row1_col1 {\n",
              "  text-align: center;\n",
              "  width: 10em;\n",
              "  background: linear-gradient(90deg, #c778c8 84.2%, transparent 84.2%);\n",
              "  color: #251e1b;\n",
              "  font-size: 12px;\n",
              "}\n",
              "#T_99406_row1_col2 {\n",
              "  text-align: center;\n",
              "  width: 10em;\n",
              "  background: linear-gradient(90deg, #ff4971 84.5%, transparent 84.5%);\n",
              "  color: #251e1b;\n",
              "  font-size: 12px;\n",
              "}\n",
              "#T_99406_row1_col3 {\n",
              "  text-align: center;\n",
              "  width: 10em;\n",
              "  background: linear-gradient(90deg, #aadbaa 84.3%, transparent 84.3%);\n",
              "  color: #251e1b;\n",
              "  font-size: 12px;\n",
              "}\n",
              "</style>\n",
              "<table id=\"T_99406\" class=\"dataframe\">\n",
              "  <thead>\n",
              "    <tr>\n",
              "      <th class=\"blank level0\" >&nbsp;</th>\n",
              "      <th id=\"T_99406_level0_col0\" class=\"col_heading level0 col0\" >accuracy</th>\n",
              "      <th id=\"T_99406_level0_col1\" class=\"col_heading level0 col1\" >f1_score</th>\n",
              "      <th id=\"T_99406_level0_col2\" class=\"col_heading level0 col2\" >precision</th>\n",
              "      <th id=\"T_99406_level0_col3\" class=\"col_heading level0 col3\" >recall</th>\n",
              "      <th id=\"T_99406_level0_col4\" class=\"col_heading level0 col4\" >ml_framework</th>\n",
              "      <th id=\"T_99406_level0_col5\" class=\"col_heading level0 col5\" >model_type</th>\n",
              "      <th id=\"T_99406_level0_col6\" class=\"col_heading level0 col6\" >depth</th>\n",
              "      <th id=\"T_99406_level0_col7\" class=\"col_heading level0 col7\" >num_params</th>\n",
              "      <th id=\"T_99406_level0_col8\" class=\"col_heading level0 col8\" >lstm_layers</th>\n",
              "      <th id=\"T_99406_level0_col9\" class=\"col_heading level0 col9\" >embedding_layers</th>\n",
              "      <th id=\"T_99406_level0_col10\" class=\"col_heading level0 col10\" >flatten_layers</th>\n",
              "      <th id=\"T_99406_level0_col11\" class=\"col_heading level0 col11\" >dense_layers</th>\n",
              "      <th id=\"T_99406_level0_col12\" class=\"col_heading level0 col12\" >tanh_act</th>\n",
              "      <th id=\"T_99406_level0_col13\" class=\"col_heading level0 col13\" >softmax_act</th>\n",
              "      <th id=\"T_99406_level0_col14\" class=\"col_heading level0 col14\" >loss</th>\n",
              "      <th id=\"T_99406_level0_col15\" class=\"col_heading level0 col15\" >optimizer</th>\n",
              "      <th id=\"T_99406_level0_col16\" class=\"col_heading level0 col16\" >memory_size</th>\n",
              "      <th id=\"T_99406_level0_col17\" class=\"col_heading level0 col17\" >username</th>\n",
              "      <th id=\"T_99406_level0_col18\" class=\"col_heading level0 col18\" >version</th>\n",
              "    </tr>\n",
              "  </thead>\n",
              "  <tbody>\n",
              "    <tr>\n",
              "      <th id=\"T_99406_level0_row0\" class=\"row_heading level0 row0\" >0</th>\n",
              "      <td id=\"T_99406_row0_col0\" class=\"data row0 col0\" >84.80%</td>\n",
              "      <td id=\"T_99406_row0_col1\" class=\"data row0 col1\" >84.77%</td>\n",
              "      <td id=\"T_99406_row0_col2\" class=\"data row0 col2\" >85.06%</td>\n",
              "      <td id=\"T_99406_row0_col3\" class=\"data row0 col3\" >84.80%</td>\n",
              "      <td id=\"T_99406_row0_col4\" class=\"data row0 col4\" >keras</td>\n",
              "      <td id=\"T_99406_row0_col5\" class=\"data row0 col5\" >Sequential</td>\n",
              "      <td id=\"T_99406_row0_col6\" class=\"data row0 col6\" >3</td>\n",
              "      <td id=\"T_99406_row0_col7\" class=\"data row0 col7\" >83202</td>\n",
              "      <td id=\"T_99406_row0_col8\" class=\"data row0 col8\" >nan</td>\n",
              "      <td id=\"T_99406_row0_col9\" class=\"data row0 col9\" >1</td>\n",
              "      <td id=\"T_99406_row0_col10\" class=\"data row0 col10\" >1</td>\n",
              "      <td id=\"T_99406_row0_col11\" class=\"data row0 col11\" >1</td>\n",
              "      <td id=\"T_99406_row0_col12\" class=\"data row0 col12\" >nan</td>\n",
              "      <td id=\"T_99406_row0_col13\" class=\"data row0 col13\" >1</td>\n",
              "      <td id=\"T_99406_row0_col14\" class=\"data row0 col14\" >function</td>\n",
              "      <td id=\"T_99406_row0_col15\" class=\"data row0 col15\" >RMSprop</td>\n",
              "      <td id=\"T_99406_row0_col16\" class=\"data row0 col16\" >333280</td>\n",
              "      <td id=\"T_99406_row0_col17\" class=\"data row0 col17\" >gstreett</td>\n",
              "      <td id=\"T_99406_row0_col18\" class=\"data row0 col18\" >1</td>\n",
              "    </tr>\n",
              "    <tr>\n",
              "      <th id=\"T_99406_level0_row1\" class=\"row_heading level0 row1\" >1</th>\n",
              "      <td id=\"T_99406_row1_col0\" class=\"data row1 col0\" >84.27%</td>\n",
              "      <td id=\"T_99406_row1_col1\" class=\"data row1 col1\" >84.25%</td>\n",
              "      <td id=\"T_99406_row1_col2\" class=\"data row1 col2\" >84.51%</td>\n",
              "      <td id=\"T_99406_row1_col3\" class=\"data row1 col3\" >84.27%</td>\n",
              "      <td id=\"T_99406_row1_col4\" class=\"data row1 col4\" >keras</td>\n",
              "      <td id=\"T_99406_row1_col5\" class=\"data row1 col5\" >Sequential</td>\n",
              "      <td id=\"T_99406_row1_col6\" class=\"data row1 col6\" >4</td>\n",
              "      <td id=\"T_99406_row1_col7\" class=\"data row1 col7\" >86338</td>\n",
              "      <td id=\"T_99406_row1_col8\" class=\"data row1 col8\" >1.000000</td>\n",
              "      <td id=\"T_99406_row1_col9\" class=\"data row1 col9\" >1</td>\n",
              "      <td id=\"T_99406_row1_col10\" class=\"data row1 col10\" >1</td>\n",
              "      <td id=\"T_99406_row1_col11\" class=\"data row1 col11\" >1</td>\n",
              "      <td id=\"T_99406_row1_col12\" class=\"data row1 col12\" >1.000000</td>\n",
              "      <td id=\"T_99406_row1_col13\" class=\"data row1 col13\" >1</td>\n",
              "      <td id=\"T_99406_row1_col14\" class=\"data row1 col14\" >function</td>\n",
              "      <td id=\"T_99406_row1_col15\" class=\"data row1 col15\" >RMSprop</td>\n",
              "      <td id=\"T_99406_row1_col16\" class=\"data row1 col16\" >346224</td>\n",
              "      <td id=\"T_99406_row1_col17\" class=\"data row1 col17\" >gstreett</td>\n",
              "      <td id=\"T_99406_row1_col18\" class=\"data row1 col18\" >2</td>\n",
              "    </tr>\n",
              "  </tbody>\n",
              "</table>\n"
            ]
          },
          "metadata": {},
          "execution_count": 16
        }
      ],
      "source": [
        "# Check experiment leaderboard\n",
        "data = myplayground.get_leaderboard()\n",
        "myplayground.stylize_leaderboard(data)"
      ]
    },
    {
      "cell_type": "markdown",
      "source": [
        "### **Compare Two or More Models**\n",
        "\n",
        "\n",
        "> ### Model comparisons can help you to identify differences in model architecture at a glance.  \n",
        "\n",
        "*  *Simply pass the version numbers of the models you would like to compare.* \n",
        "*  *For Keras and Pytoch models you can compare architectures through color-coded layer types. For Scikit-Learn models, you can compare hyperparameter settings.*  "
      ],
      "metadata": {
        "id": "O3574Lg-5M76"
      }
    },
    {
      "cell_type": "code",
      "execution_count": null,
      "metadata": {
        "colab": {
          "base_uri": "https://localhost:8080/",
          "height": 148
        },
        "id": "quo_V3A3hNS3",
        "outputId": "3ffc891a-ba49-4352-ee5b-9d00bf757539"
      },
      "outputs": [
        {
          "output_type": "display_data",
          "data": {
            "text/plain": [
              "<IPython.core.display.HTML object>"
            ],
            "text/html": [
              "<style type=\"text/css\">\n",
              "#T_a99da caption {\n",
              "  color: black;\n",
              "  font-size: 18px;\n",
              "}\n",
              "#T_a99da_row0_col0, #T_a99da_row0_col3 {\n",
              "  background: #b3e2cd;\n",
              "  color: black;\n",
              "  color: black;\n",
              "}\n",
              "#T_a99da_row0_col1, #T_a99da_row0_col2, #T_a99da_row0_col4, #T_a99da_row0_col5, #T_a99da_row1_col1, #T_a99da_row1_col2, #T_a99da_row1_col4, #T_a99da_row1_col5, #T_a99da_row2_col1, #T_a99da_row2_col2, #T_a99da_row2_col4, #T_a99da_row2_col5, #T_a99da_row3_col0, #T_a99da_row3_col1, #T_a99da_row3_col2, #T_a99da_row3_col4, #T_a99da_row3_col5 {\n",
              "  background: white;\n",
              "  color: black;\n",
              "  color: black;\n",
              "}\n",
              "#T_a99da_row1_col0, #T_a99da_row2_col3 {\n",
              "  background: nan;\n",
              "  color: black;\n",
              "  color: black;\n",
              "}\n",
              "#T_a99da_row1_col3 {\n",
              "  background: #f1e2cc;\n",
              "  color: black;\n",
              "  color: black;\n",
              "}\n",
              "#T_a99da_row2_col0, #T_a99da_row3_col3 {\n",
              "  background: #fff2ae;\n",
              "  color: black;\n",
              "  color: black;\n",
              "}\n",
              "</style>\n",
              "<table id=\"T_a99da\">\n",
              "  <caption>Model type: Neural Network</caption>\n",
              "  <thead>\n",
              "    <tr>\n",
              "      <th class=\"blank level0\" >&nbsp;</th>\n",
              "      <th id=\"T_a99da_level0_col0\" class=\"col_heading level0 col0\" >Model_1_Layer</th>\n",
              "      <th id=\"T_a99da_level0_col1\" class=\"col_heading level0 col1\" >Model_1_Shape</th>\n",
              "      <th id=\"T_a99da_level0_col2\" class=\"col_heading level0 col2\" >Model_1_Params</th>\n",
              "      <th id=\"T_a99da_level0_col3\" class=\"col_heading level0 col3\" >Model_2_Layer</th>\n",
              "      <th id=\"T_a99da_level0_col4\" class=\"col_heading level0 col4\" >Model_2_Shape</th>\n",
              "      <th id=\"T_a99da_level0_col5\" class=\"col_heading level0 col5\" >Model_2_Params</th>\n",
              "    </tr>\n",
              "  </thead>\n",
              "  <tbody>\n",
              "    <tr>\n",
              "      <th id=\"T_a99da_level0_row0\" class=\"row_heading level0 row0\" >0</th>\n",
              "      <td id=\"T_a99da_row0_col0\" class=\"data row0 col0\" >Embedding</td>\n",
              "      <td id=\"T_a99da_row0_col1\" class=\"data row0 col1\" >[None, 100, 16]</td>\n",
              "      <td id=\"T_a99da_row0_col2\" class=\"data row0 col2\" >80000.000000</td>\n",
              "      <td id=\"T_a99da_row0_col3\" class=\"data row0 col3\" >Embedding</td>\n",
              "      <td id=\"T_a99da_row0_col4\" class=\"data row0 col4\" >[None, 100, 16]</td>\n",
              "      <td id=\"T_a99da_row0_col5\" class=\"data row0 col5\" >80000</td>\n",
              "    </tr>\n",
              "    <tr>\n",
              "      <th id=\"T_a99da_level0_row1\" class=\"row_heading level0 row1\" >1</th>\n",
              "      <td id=\"T_a99da_row1_col0\" class=\"data row1 col0\" >Flatten</td>\n",
              "      <td id=\"T_a99da_row1_col1\" class=\"data row1 col1\" >[None, 1600]</td>\n",
              "      <td id=\"T_a99da_row1_col2\" class=\"data row1 col2\" >0.000000</td>\n",
              "      <td id=\"T_a99da_row1_col3\" class=\"data row1 col3\" >LSTM</td>\n",
              "      <td id=\"T_a99da_row1_col4\" class=\"data row1 col4\" >[None, 32]</td>\n",
              "      <td id=\"T_a99da_row1_col5\" class=\"data row1 col5\" >6272</td>\n",
              "    </tr>\n",
              "    <tr>\n",
              "      <th id=\"T_a99da_level0_row2\" class=\"row_heading level0 row2\" >2</th>\n",
              "      <td id=\"T_a99da_row2_col0\" class=\"data row2 col0\" >Dense</td>\n",
              "      <td id=\"T_a99da_row2_col1\" class=\"data row2 col1\" >[None, 2]</td>\n",
              "      <td id=\"T_a99da_row2_col2\" class=\"data row2 col2\" >3202.000000</td>\n",
              "      <td id=\"T_a99da_row2_col3\" class=\"data row2 col3\" >Flatten</td>\n",
              "      <td id=\"T_a99da_row2_col4\" class=\"data row2 col4\" >[None, 32]</td>\n",
              "      <td id=\"T_a99da_row2_col5\" class=\"data row2 col5\" >0</td>\n",
              "    </tr>\n",
              "    <tr>\n",
              "      <th id=\"T_a99da_level0_row3\" class=\"row_heading level0 row3\" >3</th>\n",
              "      <td id=\"T_a99da_row3_col0\" class=\"data row3 col0\" >None</td>\n",
              "      <td id=\"T_a99da_row3_col1\" class=\"data row3 col1\" >None</td>\n",
              "      <td id=\"T_a99da_row3_col2\" class=\"data row3 col2\" >nan</td>\n",
              "      <td id=\"T_a99da_row3_col3\" class=\"data row3 col3\" >Dense</td>\n",
              "      <td id=\"T_a99da_row3_col4\" class=\"data row3 col4\" >[None, 2]</td>\n",
              "      <td id=\"T_a99da_row3_col5\" class=\"data row3 col5\" >66</td>\n",
              "    </tr>\n",
              "  </tbody>\n",
              "</table>\n"
            ]
          },
          "metadata": {}
        }
      ],
      "source": [
        "# Compare two or more models\n",
        "data=myplayground.compare_models([1,2], verbose=1)\n",
        "myplayground.stylize_compare(data)"
      ]
    },
    {
      "cell_type": "markdown",
      "metadata": {
        "id": "FKm9ugiBhQFn"
      },
      "source": [
        "### **Check the Structure of Evaluation Data**\n",
        "\n",
        "> ### Your team needs to understand the format of the evaluation data, to ensure that their submissions can be processed.  \n",
        "\n",
        "*  *Make sure class labels, data types, and dimensions of predictions correspond to submitted evaluation data.*\n",
        "*  *This is important to generate evaluation metrics for your submission.*\n"
      ]
    },
    {
      "cell_type": "code",
      "execution_count": null,
      "metadata": {
        "colab": {
          "base_uri": "https://localhost:8080/"
        },
        "id": "dqY82D22hPZx",
        "outputId": "c2eb9b2a-b072-4394-bc03-2e1d90c462d6"
      },
      "outputs": [
        {
          "output_type": "execute_result",
          "data": {
            "text/plain": [
              "{'ytest_example': ['negative', 'negative', 'positive', 'positive', 'negative'],\n",
              " 'y_length': 12500,\n",
              " 'class_labels': ['negative', 'positive'],\n",
              " 'class_balance': {'negative': 6250, 'positive': 6250},\n",
              " 'label_dtypes': {\"<class 'str'>\": 12500}}"
            ]
          },
          "metadata": {},
          "execution_count": 18
        }
      ],
      "source": [
        "# Check structure of evaluation data\n",
        "myplayground.inspect_eval_data()"
      ]
    },
    {
      "cell_type": "markdown",
      "metadata": {
        "id": "iA-nYjr7WCIp"
      },
      "source": [
        "## **(5) Maintaining Your Model Playground**"
      ]
    },
    {
      "cell_type": "markdown",
      "source": [
        "### **Update the Runtime Model (the model that is used for predictions in your REST API/Web-App**\n",
        "\n",
        "\n",
        "> ### You can update the runtime model anytime by picking one of the previously submitted models.  \n",
        "\n",
        "* *Simply refer to the model by its leaderboard version number.*\n",
        "* *You can choos a model from the Competition or Experiment leaderboard by specifying the submission_type argument.*"
      ],
      "metadata": {
        "id": "3mndcjn1Q9gk"
      }
    },
    {
      "cell_type": "code",
      "execution_count": null,
      "metadata": {
        "colab": {
          "base_uri": "https://localhost:8080/"
        },
        "id": "wAchpcGLWLxE",
        "outputId": "008e8dc9-3f00-4a16-9370-b6fed1008226"
      },
      "outputs": [
        {
          "output_type": "stream",
          "name": "stdout",
          "text": [
            "Runtime model & preprocessor for api: https://wr3p8jrdx7.execute-api.us-east-1.amazonaws.com/prod/m updated to model version 2.\n",
            "\n",
            "Model metrics are now updated and verified for this model playground.\n",
            "\n",
            "Visit your Model Playground Page for more.\n",
            "https://www.modelshare.ai/detail/model:3529\n"
          ]
        }
      ],
      "source": [
        "# Update runtime model\n",
        "myplayground.update_runtime_model(model_version=2)"
      ]
    },
    {
      "cell_type": "markdown",
      "metadata": {
        "id": "xhJRaiN-WaO1"
      },
      "source": [
        "### **Delete Deployment**\n",
        "\n",
        "\n",
        "> ### You can delete the entire Model Playground, including the REST API, web dashboard, competition, and all submitted models.  \n",
        "\n",
        "* *This is final - there is no way to recover your Model Playground if you delete it.*\n",
        "* *We have commented the line for safety reasons.*"
      ]
    },
    {
      "cell_type": "code",
      "execution_count": null,
      "metadata": {
        "id": "mCkf-exLWyDK"
      },
      "outputs": [],
      "source": [
        "#myplayground.delete_deployment()"
      ]
    }
  ],
  "metadata": {
    "colab": {
      "provenance": []
    },
    "kernelspec": {
      "display_name": "Python 3",
      "language": "python",
      "name": "python3"
    },
    "language_info": {
      "codemirror_mode": {
        "name": "ipython",
        "version": 3
      },
      "file_extension": ".py",
      "mimetype": "text/x-python",
      "name": "python",
      "nbconvert_exporter": "python",
      "pygments_lexer": "ipython3",
      "version": "3.8.5"
    },
    "gpuClass": "standard"
  },
  "nbformat": 4,
  "nbformat_minor": 0
}