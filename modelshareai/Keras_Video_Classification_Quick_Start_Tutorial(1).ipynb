{
  "cells": [
    {
      "cell_type": "markdown",
      "metadata": {
        "id": "0BviI4QIdWiq"
      },
      "source": [
        "<p align=\"center\"><img width=\"50%\" src=\"https://www.modelshare.ai/img/ModelShareLogo_COLOR.abf79305.png\" /></p>\n",
        "\n",
        "\n",
        "---\n",
        "\n",
        "\n"
      ]
    },
    {
      "cell_type": "markdown",
      "metadata": {
        "id": "gYNp684Tk3tb"
      },
      "source": [
        "<p align=\"center\"><h1 align=\"center\">Quick Start: Sports Clips Video Classification using Keras</h1> "
      ]
    },
    {
      "cell_type": "markdown",
      "source": [
        "## **Create Model Playground ML Project Space: Submit, Track, and Deploy ML Model(s) in about 5 mins**\n",
        "> ### (1) Set Up Environment \n",
        "> ### (2) Create a Model Playground\n",
        "> ### (3) Submit, Track, and Deploy ML Model(s)\n",
        "> ### (4) Improve Models and Analyze Model Performance\n",
        "> ### (5) Maintain Your Model Playground"
      ],
      "metadata": {
        "id": "Z-MOk60U_ye-"
      }
    },
    {
      "cell_type": "markdown",
      "metadata": {
        "id": "0PhJ-XlGazpD"
      },
      "source": [
        "## **(1) Set Up Environment**\n",
        "\n",
        "In order to deploy a Model Share AI Model Playground, you will need a credentials text file. \n",
        "\n",
        "Generating your credentials file requires two sets of information: \n",
        "1. Your Model Share AI username and password (create them [HERE](https://www.modelshare.org/login)). \n",
        "2. Your AWS (Amazon Web Services) access keys (follow the tutorial [HERE](https://docs.aws.amazon.com/general/latest/gr/aws-sec-cred-types.html)). \n",
        "\n",
        "You only need to generate your credentials file once. After running the configure function below, save the outputted file for all your future Model Playground deployments and competition submissions. \n",
        "\n",
        "*Note: Handle your credentials file with the same level of security you handle your passwords. Do not share your file with anyone, send via email, or upload to Github. Model Share AI does not store your credentials.*\n"
      ]
    },
    {
      "cell_type": "code",
      "execution_count": null,
      "metadata": {
        "id": "puVzQBHyhS2Z"
      },
      "outputs": [],
      "source": [
        "#install aimodelshare library\n",
        "! pip install aimodelshare --upgrade"
      ]
    },
    {
      "cell_type": "code",
      "execution_count": null,
      "metadata": {
        "id": "4Q7MCqBLcS20"
      },
      "outputs": [],
      "source": [
        "# Generate credentials file\n",
        "from aimodelshare.aws import configure_credentials \n",
        "configure_credentials()"
      ]
    },
    {
      "cell_type": "code",
      "execution_count": null,
      "metadata": {
        "colab": {
          "base_uri": "https://localhost:8080/"
        },
        "id": "2u1QKNfEyN9A",
        "outputId": "abd9ccfa-1e78-4018-9dd1-4437b5083cac"
      },
      "outputs": [
        {
          "output_type": "stream",
          "name": "stdout",
          "text": [
            "Modelshare.ai login credentials set successfully.\n",
            "AWS credentials set successfully.\n"
          ]
        }
      ],
      "source": [
        "# Set credentials \n",
        "from aimodelshare.aws import set_credentials\n",
        "set_credentials(credential_file=\"credentials.txt\", type=\"deploy_model\")"
      ]
    },
    {
      "cell_type": "code",
      "execution_count": null,
      "metadata": {
        "id": "PwQcTsyyURIk",
        "colab": {
          "base_uri": "https://localhost:8080/"
        },
        "outputId": "62c31d5d-3e51-4b02-bf7c-824c1d0e73c9"
      },
      "outputs": [
        {
          "output_type": "stream",
          "name": "stdout",
          "text": [
            "Downloading [================================================>]\n",
            "\n",
            "Data downloaded successfully.\n",
            "\n",
            "Preparing downloaded files for use...\n",
            "\n",
            "Success! Your Quick Start materials have been downloaded. \n",
            "You are now ready to run the tutorial.\n",
            "Downloading [================================================>]\n",
            "\n",
            "Data downloaded successfully.\n",
            "\n",
            "Preparing downloaded files for use...\n",
            "\n",
            "Success! Your Quick Start materials have been downloaded. \n",
            "You are now ready to run the tutorial.\n"
          ]
        }
      ],
      "source": [
        "# # Download sports video data and and pretrained Keras models\n",
        "from aimodelshare.data_sharing.download_data import import_quickstart_data\n",
        "keras_model, y_train_labels = import_quickstart_data(\"sports\")\n",
        "keras_model_2, y_test, y_test_labels = import_quickstart_data(\"sports\", \"competition\")"
      ]
    },
    {
      "cell_type": "markdown",
      "metadata": {
        "id": "xJlhd6jvns0b"
      },
      "source": [
        "## **(2) Create a Model Playground**"
      ]
    },
    {
      "cell_type": "markdown",
      "source": [
        "### **Create a Model Playground**\n",
        "\n",
        "\n",
        "> ### Each Model Playground is a unique ML project space with lots of useful functionality...\n",
        "- Use playground.submit_model() to track ML models in experiments and/or competition leaderboards\n",
        "- Save, version, and reuse ML models each time they are submitted\n",
        "- Use playground.compare_models() to compare model architectures with git like colorized model diffs\n",
        "- Use playground.deploy_model() to deploy models instantly into live REST APIs and/or web-apps.  \n",
        "\n",
        "*  *First, you need to intantiate a ModelPlayground() object locally. Please specify the data type of your learning task (e.g., image, tabular, etc), whether the model is a classification or a regression model, and whether your playground should be public or private. If you choose \"private\" only approved team members can interact your model playground*  \n",
        "*  *Second, you can to create a playground page on the modelshare.ai website. You need to submit evaluation data that submitted models can be evaluated against.*  \n",
        "\n"
      ],
      "metadata": {
        "id": "gpHMK0Jp8xr_"
      }
    },
    {
      "cell_type": "code",
      "execution_count": null,
      "metadata": {
        "id": "7qCPVnB2oR53",
        "colab": {
          "base_uri": "https://localhost:8080/"
        },
        "outputId": "b48b701f-422f-433c-9753-f62e9dedd45c"
      },
      "outputs": [
        {
          "output_type": "stream",
          "name": "stdout",
          "text": [
            "Creating your prediction API. (This process may take several minutes.)\n",
            "\n",
            "[=====================================] Progress: 100% - Complete!                                            \n",
            "\n",
            "Success! Your Model Playground was created in 58 seconds. \n",
            " Playground Url: \"https://lvdkig42r8.execute-api.us-east-2.amazonaws.com/prod/m\"\n",
            "\n",
            "You can now use your Model Playground.\n",
            "\n",
            "Follow this link to explore your Model Playground's functionality\n",
            "You can make predictions with the Dashboard and access example code from the Programmatic tab.\n",
            "https://www.modelshare.ai/detail/model:3502\n",
            "\n",
            "Check out your Model Playground page for more.\n"
          ]
        }
      ],
      "source": [
        "# Instantiate Model Playground object\n",
        "from aimodelshare.playground import ModelPlayground\n",
        "myplayground=ModelPlayground(input_type=\"video\", \n",
        "                             task_type=\"classification\", \n",
        "                             private=False)\n",
        "\n",
        "# Create Model Playground Page on modelshare.ai website\n",
        "myplayground.create(eval_data=y_test_labels)"
      ]
    },
    {
      "cell_type": "markdown",
      "source": [
        "##  **3) Submit, Track, and Deploy Model(s)**\n"
      ],
      "metadata": {
        "id": "M3Q5N6FiLkfu"
      }
    },
    {
      "cell_type": "markdown",
      "metadata": {
        "id": "WrEgo5zRxbed"
      },
      "source": [
        "### **Write a Preprocessor Function**\n",
        "\n",
        "\n",
        "> ###   Preprocessing functions play a crucial role in preparing data for your model by converting it into the specific format that is needed to generate predictions.  \n",
        "\n",
        "*  *Preprocessor functions should always be named \"preprocessor\".*\n",
        "*  *You can use any Python library in a preprocessor function, but all libraries should be imported inside your preprocessor function.*  \n",
        "*  *For image prediction models users should minimally include function inputs for a video filepath and values to reshape the image height and width.*  \n",
        "\n"
      ]
    },
    {
      "cell_type": "code",
      "execution_count": null,
      "metadata": {
        "id": "B5Jz-1cmYN5Z"
      },
      "outputs": [],
      "source": [
        "# Here is a pre-designed preprocessor, but you could also build your own to prepare the data differently\n",
        "\n",
        "def preprocessor(video_file_path, num_frames=60, gap_frames=3, **kwargs):\n",
        "\n",
        "    \"\"\"\n",
        "      This function preprocesses the data to extract frames out of each video and resize\n",
        "      them to a fixed size of (128x128) pixels. Moreover, these images are flattened out to\n",
        "      act as features for each time step.\n",
        "      \n",
        "      params:\n",
        "          video_file_path\n",
        "              location of video file to be processed\n",
        "\n",
        "          num_frames\n",
        "              the number of frames to be extracted from each video. If there aren't\n",
        "              sufficient frames, then the list is padded with zeros\n",
        "              \n",
        "          gap_frames:\n",
        "              the number of frames after which we extract the next frame. If =1,\n",
        "              contiguous frames are extracted\n",
        "              \n",
        "      returns:\n",
        "          X\n",
        "              transformed features corresponding to data passed as input to model\n",
        "      \n",
        "    \"\"\"\n",
        "\n",
        "    import cv2\n",
        "    import numpy as np\n",
        "\n",
        "    vidcap = cv2.VideoCapture(video_file_path)\n",
        "    \n",
        "    frames = []\n",
        "\n",
        "    success, frame = vidcap.read()\n",
        "    idx = 0\n",
        "\n",
        "    while success:\n",
        "        # for each frame, do if we satisfy the gap_frames parameter\n",
        "        if idx % gap_frames == 0:\n",
        "            # convert to RGB (default cv2 is BGR)\n",
        "            # this is important because the vgg model is trained on RGB images\n",
        "            frame = cv2.cvtColor(frame, cv2.COLOR_BGR2RGB)\n",
        "            frame = cv2.resize(frame, (128, 128))\n",
        "\n",
        "            # extract features for the resized image\n",
        "            frame = frame / 255.0 # Min-max transform.\n",
        "\n",
        "            # flatten the features and append to a list of features for this video\n",
        "            frame = frame.reshape(-1)\n",
        "\n",
        "            frames.append(frame)\n",
        "\n",
        "            if len(frames) >= num_frames:\n",
        "                break\n",
        "\n",
        "        idx += 1\n",
        "        success, frame = vidcap.read()\n",
        "\n",
        "    # if number of timesteps or frames < num_frames, pad with zeroes for consistent shape\n",
        "    while len(frames) < num_frames:\n",
        "        frames.append(np.zeros(*frames[-1].shape))\n",
        "\n",
        "    X = np.array(frames)\n",
        "    X = np.expand_dims(X, axis=0)\n",
        "    X = np.array(X, dtype=np.float32)\n",
        "\n",
        "    return X"
      ]
    },
    {
      "cell_type": "markdown",
      "source": [
        "### **Train Your Machine Learning Model**\n",
        "\n",
        "\n",
        "> ### Model Share supports Scikit-Learn, Tensorflow,  Keras, and Pytorch models out of the box.  \n",
        "\n",
        "*  *Train your model using your favorite ML library. Here, we have already loaded a Keras model in the quickstart function above.*  \n",
        "*  *Use your model to make predictions on the test set.*  \n",
        "\n",
        "\n"
      ],
      "metadata": {
        "id": "TdHs5-m0BFNg"
      }
    },
    {
      "cell_type": "code",
      "execution_count": null,
      "metadata": {
        "id": "Tnrmg_aO230E",
        "colab": {
          "base_uri": "https://localhost:8080/"
        },
        "outputId": "7a3212ef-9ede-4eaa-80fc-6c3ac63b9ac0"
      },
      "outputs": [
        {
          "output_type": "stream",
          "name": "stdout",
          "text": [
            "Model: \"sequential\"\n",
            "_________________________________________________________________\n",
            " Layer (type)                Output Shape              Param #   \n",
            "=================================================================\n",
            " lstm (LSTM)                 (None, 50)                9840600   \n",
            "                                                                 \n",
            " dense (Dense)               (None, 20)                1020      \n",
            "                                                                 \n",
            " dense_1 (Dense)             (None, 3)                 63        \n",
            "                                                                 \n",
            "=================================================================\n",
            "Total params: 9,841,683\n",
            "Trainable params: 9,841,683\n",
            "Non-trainable params: 0\n",
            "_________________________________________________________________\n"
          ]
        }
      ],
      "source": [
        "# Check the model architecture.\n",
        "keras_model.summary()"
      ]
    },
    {
      "cell_type": "code",
      "execution_count": null,
      "metadata": {
        "id": "jeo3m9mMpJyX"
      },
      "outputs": [],
      "source": [
        "# Preprocess X_test video data to generate predictions from models \n",
        "# Unzip video clips\n",
        "import zipfile\n",
        "with zipfile.ZipFile('sports_clips_competition_data/clips_test.zip', 'r') as zip_ref:\n",
        "    zip_ref.extractall('X_test_clips')\n",
        "\n",
        "# Preprocess clips\n",
        "import numpy as np\n",
        "file_names = [('/content/X_test_clips/clips_test/' + str(i) + '.avi') for i in range(1, 46)]\n",
        "preprocessed_video_data = [preprocessor(x) for x in file_names]\n",
        "\n",
        "#Create single X_test array from preprocessed videos\n",
        "X_test = np.vstack(preprocessed_video_data) "
      ]
    },
    {
      "cell_type": "code",
      "execution_count": null,
      "metadata": {
        "id": "maVB5vo_oz4n",
        "colab": {
          "base_uri": "https://localhost:8080/"
        },
        "outputId": "f71d7de2-64a4-4b2e-8764-282fd6289692"
      },
      "outputs": [
        {
          "output_type": "stream",
          "name": "stdout",
          "text": [
            "2/2 [==============================] - 2s 615ms/step\n"
          ]
        }
      ],
      "source": [
        "# Generate predicted y values\n",
        "prediction_column_index=keras_model.predict(X_test).argmax(axis=1)\n",
        "\n",
        "# Extract correct prediction labels\n",
        "prediction_labels = [y_train_labels.columns[i] for i in prediction_column_index]"
      ]
    },
    {
      "cell_type": "markdown",
      "source": [
        "### **Submit a Model to your Model Playground**\n",
        "\n",
        "\n",
        "> ### You can submit models to your Model Playground page in order to evaluate them, extract model metadata, compare them to other models, and turn them into REST API endpoints.  \n",
        "\n",
        "*  *Pass your model to the submit model function. You can either pass a model object, an ONNX object, or a filepath to an ONNX file.*  \n",
        "*  *Pass your preprocessor to ensure that your model can process new data.*\n",
        "*  *Pass your predictions to be evaluated against your playground evaluation data.*  \n",
        "\n",
        "\n"
      ],
      "metadata": {
        "id": "-d46P25H6mX6"
      }
    },
    {
      "cell_type": "code",
      "source": [
        "# Submit Model to Experiment Leaderboard\n",
        "# (Option: set submission_type=\"competition\" to submit to competition leaderboard)\n",
        "\n",
        "myplayground.submit_model(model=keras_model,\n",
        "                          preprocessor=preprocessor,\n",
        "                          prediction_submission=prediction_labels)"
      ],
      "metadata": {
        "colab": {
          "base_uri": "https://localhost:8080/"
        },
        "id": "oKypMQMvFCwc",
        "outputId": "c2d74263-ce41-4f25-d742-19547c2607e8"
      },
      "execution_count": null,
      "outputs": [
        {
          "output_type": "stream",
          "name": "stdout",
          "text": [
            "\n",
            "Insert search tags to help users find your model (optional): \n",
            "Provide any useful notes about your model (optional): \n",
            "Your model has been submitted to experiment as model version 4.\n",
            "Visit your Model Playground Page for more.\n"
          ]
        }
      ]
    },
    {
      "cell_type": "markdown",
      "metadata": {
        "id": "NBgleMgmhWWx"
      },
      "source": [
        "### **Deploy a Model to a Prediction REST API and Web-app**\n",
        "\n",
        "\n",
        "> ### Update the prediction API behind your Model Playground with a new model and verify the model performance metrics in your Model Playground.\n",
        "\n",
        "Use playground.deploy_model() with the following key arguments:\n",
        "* *model_version: Simply refer to the model by its leaderboard version number.*\n",
        "* *example_data: deploy_model builds a web-app for you.  It needs some example data for end users to download to try your web-app.  For image data provide the path to a folder with some example images.* \n",
        "*  *y_train: For classification problems deploy_model needs well ordered y_training data labels.  Provide a python list of y_train labels or a one hot encoded Pandas y_training data frame, so your web-app and prediction api return the correct prediction labels*"
      ]
    },
    {
      "cell_type": "code",
      "source": [
        "# Deploy model by version number\n",
        "myplayground.deploy_model(model_version=1, \n",
        "                          example_data=\"sports_quick_start_materials/example_data\", \n",
        "                          y_train=y_train_labels)"
      ],
      "metadata": {
        "id": "N63Il2o_zOYV",
        "colab": {
          "base_uri": "https://localhost:8080/"
        },
        "outputId": "a0c73242-0dff-4114-fc8b-295c5e0a7f7f"
      },
      "execution_count": null,
      "outputs": [
        {
          "output_type": "stream",
          "name": "stdout",
          "text": [
            "Runtime model & preprocessor for api: https://lvdkig42r8.execute-api.us-east-2.amazonaws.com/prod/m updated to model version 1.\n",
            "\n",
            "Model metrics are now updated and verified for this model playground.\n"
          ]
        }
      ]
    },
    {
      "cell_type": "markdown",
      "metadata": {
        "id": "8h3Stln6ETKj"
      },
      "source": [
        "## **(4) Improve Models and Analyze Model Performance**"
      ]
    },
    {
      "cell_type": "markdown",
      "source": [
        "### **Set Submission Credentials**\n",
        "\n",
        "> ### Authorized users can submit new models after setting credentials using modelshare.ai username/password.  \n",
        "\n",
        "*  *This only needs to be done if you want to submit models in a new session.*  \n",
        "*  *skip this step if you have already set your deployment credentials.*  \n",
        "\n",
        "\n"
      ],
      "metadata": {
        "id": "6yu9YsPx2j7b"
      }
    },
    {
      "cell_type": "code",
      "execution_count": null,
      "metadata": {
        "colab": {
          "base_uri": "https://localhost:8080/"
        },
        "id": "sJgu9K92DS8O",
        "outputId": "099c0f7e-7d4a-462d-da3b-341846803d60"
      },
      "outputs": [
        {
          "output_type": "stream",
          "name": "stdout",
          "text": [
            "Modelshare.ai Username:··········\n",
            "Modelshare.ai Password:··········\n",
            "Modelshare.ai login credentials set successfully.\n"
          ]
        }
      ],
      "source": [
        "# example url from deployed playground: apiurl= \"https://123456.execute-api.us-east-1.amazonaws.com/prod/m\n",
        "apiurl=myplayground.playground_url \n",
        "\n",
        "set_credentials(apiurl=apiurl)"
      ]
    },
    {
      "cell_type": "markdown",
      "source": [
        "### **Submit More Models to your Model Playground**\n",
        "\n",
        "\n",
        "> ### You can submit models to your Model Playground page in order to evaluate them, extract model metadata, compare them to other models, and turn them into REST API endpoints.  \n",
        "\n",
        "*  *Pass your model to the submit model function. You can either pass a model object, an ONNX object, or a filepath to an ONNX file.*  \n",
        "*  *Pass your preprocessor to ensure that your model can process new data.*\n",
        "*  *Pass your predictions to be evaluated against your playground evaluation data.*  \n"
      ],
      "metadata": {
        "id": "DZyngoORDG6U"
      }
    },
    {
      "cell_type": "code",
      "execution_count": null,
      "metadata": {
        "colab": {
          "base_uri": "https://localhost:8080/"
        },
        "id": "hpzXNVPTop-O",
        "outputId": "14284028-6a10-4b6b-ad94-ede0656c8d25"
      },
      "outputs": [
        {
          "output_type": "stream",
          "name": "stdout",
          "text": [
            "Model: \"sequential_1\"\n",
            "_________________________________________________________________\n",
            " Layer (type)                Output Shape              Param #   \n",
            "=================================================================\n",
            " lstm (LSTM)                 (None, 60, 5)             983160    \n",
            "                                                                 \n",
            " lstm_1 (LSTM)               (None, 5)                 220       \n",
            "                                                                 \n",
            " dense (Dense)               (None, 3)                 18        \n",
            "                                                                 \n",
            "=================================================================\n",
            "Total params: 983,398\n",
            "Trainable params: 983,398\n",
            "Non-trainable params: 0\n",
            "_________________________________________________________________\n"
          ]
        }
      ],
      "source": [
        "# Have a look at architecture for model 2\n",
        "keras_model_2.summary()"
      ]
    },
    {
      "cell_type": "code",
      "execution_count": null,
      "metadata": {
        "colab": {
          "base_uri": "https://localhost:8080/"
        },
        "id": "Flts7zQNbhpq",
        "outputId": "f9d68a4d-69ea-41e1-e983-a4f2af6f50aa"
      },
      "outputs": [
        {
          "output_type": "stream",
          "name": "stdout",
          "text": [
            "2/2 [==============================] - 1s 199ms/step\n",
            "\n",
            "Insert search tags to help users find your model (optional): \n",
            "Provide any useful notes about your model (optional): \n",
            "Your model has been submitted to experiment as model version 3.\n",
            "Visit your Model Playground Page for more.\n"
          ]
        }
      ],
      "source": [
        "# Submit Model 2\n",
        "\n",
        "# Generate predicted y values (Model 2)\n",
        "prediction_column_index=keras_model_2.predict(X_test).argmax(axis=1)\n",
        "\n",
        "# extract correct prediction labels (Model 2)\n",
        "prediction_labels = [y_train_labels.columns[i] for i in prediction_column_index]\n",
        "\n",
        "# Submit Model 2 to Experiment Leaderboard\n",
        "myplayground.submit_model(model = keras_model_2,\n",
        "                          preprocessor=preprocessor,\n",
        "                          prediction_submission=prediction_labels)"
      ]
    },
    {
      "cell_type": "markdown",
      "source": [
        "### **Check Experiment Leaderboard**\n",
        "\n",
        "\n",
        "> ### Leaderboards allow you to compare model architectures ranked by predictive performance.  \n",
        "\n",
        "*  *Query leaderboard data for models submitted to your Model Playground page.* \n",
        "*  *You can either stylize the leaderboard or use pandas to run your own analyses to explore which model architectures perform well.*  \n",
        "\n",
        "\n"
      ],
      "metadata": {
        "id": "oJv0x49U5exC"
      }
    },
    {
      "cell_type": "code",
      "execution_count": null,
      "metadata": {
        "colab": {
          "base_uri": "https://localhost:8080/",
          "height": 163
        },
        "id": "J0-B1h0chYDL",
        "outputId": "9425a512-0899-4d65-ade1-e04e1643a634"
      },
      "outputs": [
        {
          "output_type": "execute_result",
          "data": {
            "text/plain": [
              "<pandas.io.formats.style.Styler at 0x7fc67db72130>"
            ],
            "text/html": [
              "<style type=\"text/css\">\n",
              "#T_f3ade_row0_col0, #T_f3ade_row1_col0 {\n",
              "  text-align: center;\n",
              "  width: 10em;\n",
              "  background: linear-gradient(90deg, #f5f8d6 69.6%, transparent 69.6%);\n",
              "  color: #251e1b;\n",
              "  font-size: 12px;\n",
              "}\n",
              "#T_f3ade_row0_col1, #T_f3ade_row1_col1 {\n",
              "  text-align: center;\n",
              "  width: 10em;\n",
              "  background: linear-gradient(90deg, #c778c8 55.5%, transparent 55.5%);\n",
              "  color: #251e1b;\n",
              "  font-size: 12px;\n",
              "}\n",
              "#T_f3ade_row0_col2, #T_f3ade_row1_col2 {\n",
              "  text-align: center;\n",
              "  width: 10em;\n",
              "  background: linear-gradient(90deg, #ff4971 52.9%, transparent 52.9%);\n",
              "  color: #251e1b;\n",
              "  font-size: 12px;\n",
              "}\n",
              "#T_f3ade_row0_col3, #T_f3ade_row1_col3, #T_f3ade_row2_col3 {\n",
              "  text-align: center;\n",
              "  width: 10em;\n",
              "  background: linear-gradient(90deg, #aadbaa 61.9%, transparent 61.9%);\n",
              "  color: #251e1b;\n",
              "  font-size: 12px;\n",
              "}\n",
              "#T_f3ade_row0_col4, #T_f3ade_row0_col5, #T_f3ade_row0_col6, #T_f3ade_row0_col7, #T_f3ade_row0_col8, #T_f3ade_row0_col9, #T_f3ade_row0_col10, #T_f3ade_row0_col11, #T_f3ade_row0_col12, #T_f3ade_row0_col13, #T_f3ade_row0_col14, #T_f3ade_row0_col15, #T_f3ade_row0_col16, #T_f3ade_row0_col17, #T_f3ade_row1_col4, #T_f3ade_row1_col5, #T_f3ade_row1_col6, #T_f3ade_row1_col7, #T_f3ade_row1_col8, #T_f3ade_row1_col9, #T_f3ade_row1_col10, #T_f3ade_row1_col11, #T_f3ade_row1_col12, #T_f3ade_row1_col13, #T_f3ade_row1_col14, #T_f3ade_row1_col15, #T_f3ade_row1_col16, #T_f3ade_row1_col17, #T_f3ade_row2_col4, #T_f3ade_row2_col5, #T_f3ade_row2_col6, #T_f3ade_row2_col7, #T_f3ade_row2_col8, #T_f3ade_row2_col9, #T_f3ade_row2_col10, #T_f3ade_row2_col11, #T_f3ade_row2_col12, #T_f3ade_row2_col13, #T_f3ade_row2_col14, #T_f3ade_row2_col15, #T_f3ade_row2_col16, #T_f3ade_row2_col17 {\n",
              "  text-align: center;\n",
              "}\n",
              "#T_f3ade_row2_col0 {\n",
              "  text-align: center;\n",
              "  width: 10em;\n",
              "  background: linear-gradient(90deg, #f5f8d6 52.2%, transparent 52.2%);\n",
              "  color: #251e1b;\n",
              "  font-size: 12px;\n",
              "}\n",
              "#T_f3ade_row2_col1 {\n",
              "  text-align: center;\n",
              "  width: 10em;\n",
              "  background: linear-gradient(90deg, #c778c8 48.2%, transparent 48.2%);\n",
              "  color: #251e1b;\n",
              "  font-size: 12px;\n",
              "}\n",
              "#T_f3ade_row2_col2 {\n",
              "  text-align: center;\n",
              "  width: 10em;\n",
              "  background: linear-gradient(90deg, #ff4971 45.1%, transparent 45.1%);\n",
              "  color: #251e1b;\n",
              "  font-size: 12px;\n",
              "}\n",
              "</style>\n",
              "<table id=\"T_f3ade\" class=\"dataframe\">\n",
              "  <thead>\n",
              "    <tr>\n",
              "      <th class=\"blank level0\" >&nbsp;</th>\n",
              "      <th id=\"T_f3ade_level0_col0\" class=\"col_heading level0 col0\" >accuracy</th>\n",
              "      <th id=\"T_f3ade_level0_col1\" class=\"col_heading level0 col1\" >f1_score</th>\n",
              "      <th id=\"T_f3ade_level0_col2\" class=\"col_heading level0 col2\" >precision</th>\n",
              "      <th id=\"T_f3ade_level0_col3\" class=\"col_heading level0 col3\" >recall</th>\n",
              "      <th id=\"T_f3ade_level0_col4\" class=\"col_heading level0 col4\" >ml_framework</th>\n",
              "      <th id=\"T_f3ade_level0_col5\" class=\"col_heading level0 col5\" >model_type</th>\n",
              "      <th id=\"T_f3ade_level0_col6\" class=\"col_heading level0 col6\" >depth</th>\n",
              "      <th id=\"T_f3ade_level0_col7\" class=\"col_heading level0 col7\" >num_params</th>\n",
              "      <th id=\"T_f3ade_level0_col8\" class=\"col_heading level0 col8\" >dense_layers</th>\n",
              "      <th id=\"T_f3ade_level0_col9\" class=\"col_heading level0 col9\" >lstm_layers</th>\n",
              "      <th id=\"T_f3ade_level0_col10\" class=\"col_heading level0 col10\" >relu_act</th>\n",
              "      <th id=\"T_f3ade_level0_col11\" class=\"col_heading level0 col11\" >softmax_act</th>\n",
              "      <th id=\"T_f3ade_level0_col12\" class=\"col_heading level0 col12\" >tanh_act</th>\n",
              "      <th id=\"T_f3ade_level0_col13\" class=\"col_heading level0 col13\" >loss</th>\n",
              "      <th id=\"T_f3ade_level0_col14\" class=\"col_heading level0 col14\" >optimizer</th>\n",
              "      <th id=\"T_f3ade_level0_col15\" class=\"col_heading level0 col15\" >memory_size</th>\n",
              "      <th id=\"T_f3ade_level0_col16\" class=\"col_heading level0 col16\" >username</th>\n",
              "      <th id=\"T_f3ade_level0_col17\" class=\"col_heading level0 col17\" >version</th>\n",
              "    </tr>\n",
              "  </thead>\n",
              "  <tbody>\n",
              "    <tr>\n",
              "      <th id=\"T_f3ade_level0_row0\" class=\"row_heading level0 row0\" >0</th>\n",
              "      <td id=\"T_f3ade_row0_col0\" class=\"data row0 col0\" >69.57%</td>\n",
              "      <td id=\"T_f3ade_row0_col1\" class=\"data row0 col1\" >55.46%</td>\n",
              "      <td id=\"T_f3ade_row0_col2\" class=\"data row0 col2\" >52.94%</td>\n",
              "      <td id=\"T_f3ade_row0_col3\" class=\"data row0 col3\" >61.90%</td>\n",
              "      <td id=\"T_f3ade_row0_col4\" class=\"data row0 col4\" >keras</td>\n",
              "      <td id=\"T_f3ade_row0_col5\" class=\"data row0 col5\" >Sequential</td>\n",
              "      <td id=\"T_f3ade_row0_col6\" class=\"data row0 col6\" >3</td>\n",
              "      <td id=\"T_f3ade_row0_col7\" class=\"data row0 col7\" >983398</td>\n",
              "      <td id=\"T_f3ade_row0_col8\" class=\"data row0 col8\" >1</td>\n",
              "      <td id=\"T_f3ade_row0_col9\" class=\"data row0 col9\" >2</td>\n",
              "      <td id=\"T_f3ade_row0_col10\" class=\"data row0 col10\" >nan</td>\n",
              "      <td id=\"T_f3ade_row0_col11\" class=\"data row0 col11\" >1</td>\n",
              "      <td id=\"T_f3ade_row0_col12\" class=\"data row0 col12\" >2</td>\n",
              "      <td id=\"T_f3ade_row0_col13\" class=\"data row0 col13\" >function</td>\n",
              "      <td id=\"T_f3ade_row0_col14\" class=\"data row0 col14\" >Adam</td>\n",
              "      <td id=\"T_f3ade_row0_col15\" class=\"data row0 col15\" >3934712</td>\n",
              "      <td id=\"T_f3ade_row0_col16\" class=\"data row0 col16\" >mikedparrott</td>\n",
              "      <td id=\"T_f3ade_row0_col17\" class=\"data row0 col17\" >2</td>\n",
              "    </tr>\n",
              "    <tr>\n",
              "      <th id=\"T_f3ade_level0_row1\" class=\"row_heading level0 row1\" >1</th>\n",
              "      <td id=\"T_f3ade_row1_col0\" class=\"data row1 col0\" >69.57%</td>\n",
              "      <td id=\"T_f3ade_row1_col1\" class=\"data row1 col1\" >55.46%</td>\n",
              "      <td id=\"T_f3ade_row1_col2\" class=\"data row1 col2\" >52.94%</td>\n",
              "      <td id=\"T_f3ade_row1_col3\" class=\"data row1 col3\" >61.90%</td>\n",
              "      <td id=\"T_f3ade_row1_col4\" class=\"data row1 col4\" >keras</td>\n",
              "      <td id=\"T_f3ade_row1_col5\" class=\"data row1 col5\" >Sequential</td>\n",
              "      <td id=\"T_f3ade_row1_col6\" class=\"data row1 col6\" >3</td>\n",
              "      <td id=\"T_f3ade_row1_col7\" class=\"data row1 col7\" >983398</td>\n",
              "      <td id=\"T_f3ade_row1_col8\" class=\"data row1 col8\" >1</td>\n",
              "      <td id=\"T_f3ade_row1_col9\" class=\"data row1 col9\" >2</td>\n",
              "      <td id=\"T_f3ade_row1_col10\" class=\"data row1 col10\" >nan</td>\n",
              "      <td id=\"T_f3ade_row1_col11\" class=\"data row1 col11\" >1</td>\n",
              "      <td id=\"T_f3ade_row1_col12\" class=\"data row1 col12\" >2</td>\n",
              "      <td id=\"T_f3ade_row1_col13\" class=\"data row1 col13\" >function</td>\n",
              "      <td id=\"T_f3ade_row1_col14\" class=\"data row1 col14\" >Adam</td>\n",
              "      <td id=\"T_f3ade_row1_col15\" class=\"data row1 col15\" >3934712</td>\n",
              "      <td id=\"T_f3ade_row1_col16\" class=\"data row1 col16\" >newusertest</td>\n",
              "      <td id=\"T_f3ade_row1_col17\" class=\"data row1 col17\" >3</td>\n",
              "    </tr>\n",
              "    <tr>\n",
              "      <th id=\"T_f3ade_level0_row2\" class=\"row_heading level0 row2\" >2</th>\n",
              "      <td id=\"T_f3ade_row2_col0\" class=\"data row2 col0\" >52.17%</td>\n",
              "      <td id=\"T_f3ade_row2_col1\" class=\"data row2 col1\" >48.16%</td>\n",
              "      <td id=\"T_f3ade_row2_col2\" class=\"data row2 col2\" >45.10%</td>\n",
              "      <td id=\"T_f3ade_row2_col3\" class=\"data row2 col3\" >61.90%</td>\n",
              "      <td id=\"T_f3ade_row2_col4\" class=\"data row2 col4\" >keras</td>\n",
              "      <td id=\"T_f3ade_row2_col5\" class=\"data row2 col5\" >Sequential</td>\n",
              "      <td id=\"T_f3ade_row2_col6\" class=\"data row2 col6\" >3</td>\n",
              "      <td id=\"T_f3ade_row2_col7\" class=\"data row2 col7\" >9841683</td>\n",
              "      <td id=\"T_f3ade_row2_col8\" class=\"data row2 col8\" >2</td>\n",
              "      <td id=\"T_f3ade_row2_col9\" class=\"data row2 col9\" >1</td>\n",
              "      <td id=\"T_f3ade_row2_col10\" class=\"data row2 col10\" >1.000000</td>\n",
              "      <td id=\"T_f3ade_row2_col11\" class=\"data row2 col11\" >1</td>\n",
              "      <td id=\"T_f3ade_row2_col12\" class=\"data row2 col12\" >1</td>\n",
              "      <td id=\"T_f3ade_row2_col13\" class=\"data row2 col13\" >function</td>\n",
              "      <td id=\"T_f3ade_row2_col14\" class=\"data row2 col14\" >Adam</td>\n",
              "      <td id=\"T_f3ade_row2_col15\" class=\"data row2 col15\" >39367720</td>\n",
              "      <td id=\"T_f3ade_row2_col16\" class=\"data row2 col16\" >mikedparrott</td>\n",
              "      <td id=\"T_f3ade_row2_col17\" class=\"data row2 col17\" >1</td>\n",
              "    </tr>\n",
              "  </tbody>\n",
              "</table>\n"
            ]
          },
          "metadata": {},
          "execution_count": 25
        }
      ],
      "source": [
        "# Check experiment leaderboard\n",
        "data = myplayground.get_leaderboard()\n",
        "myplayground.stylize_leaderboard(data)"
      ]
    },
    {
      "cell_type": "markdown",
      "source": [
        "### **Compare Two or More Models**\n",
        "\n",
        "\n",
        "> ### Model comparisons can help you to identify differences in model architecture at a glance.  \n",
        "\n",
        "*  *Simply pass the version numbers of the models you would like to compare.* \n",
        "*  *For Keras and Pytoch models you can compare architectures through color-coded layer types. For Scikit-Learn models, you can compare hyperparameter settings.*  "
      ],
      "metadata": {
        "id": "O3574Lg-5M76"
      }
    },
    {
      "cell_type": "code",
      "execution_count": null,
      "metadata": {
        "id": "quo_V3A3hNS3"
      },
      "outputs": [],
      "source": [
        "# Compare two or more models\n",
        "data=myplayground.compare_models([1,2], verbose=1)\n",
        "myplayground.stylize_compare(data)"
      ]
    },
    {
      "cell_type": "markdown",
      "metadata": {
        "id": "FKm9ugiBhQFn"
      },
      "source": [
        "### **Check the Structure of Evaluation Data**\n",
        "\n",
        "> ### Your team needs to understand the format of the evaluation data, to ensure that their submissions can be processed.  \n",
        "\n",
        "*  *Make sure class labels, data types, and dimensions of predictions correspond to submitted evaluation data.*\n",
        "*  *This is important to generate evaluation metrics for your submission.*\n"
      ]
    },
    {
      "cell_type": "code",
      "execution_count": null,
      "metadata": {
        "colab": {
          "base_uri": "https://localhost:8080/"
        },
        "id": "dqY82D22hPZx",
        "outputId": "e37c7ccb-0118-4269-acec-00b3a27f83e8"
      },
      "outputs": [
        {
          "output_type": "execute_result",
          "data": {
            "text/plain": [
              "{'ytest_example': ['kayaking', 'horserace', 'pullups', 'kayaking', 'kayaking'],\n",
              " 'y_length': 45,\n",
              " 'class_labels': ['kayaking', 'horserace', 'pullups'],\n",
              " 'class_balance': {'kayaking': 13, 'horserace': 19, 'pullups': 13},\n",
              " 'label_dtypes': {\"<class 'str'>\": 45}}"
            ]
          },
          "metadata": {},
          "execution_count": 27
        }
      ],
      "source": [
        "# Check structure of evaluation data\n",
        "myplayground.inspect_eval_data()"
      ]
    },
    {
      "cell_type": "markdown",
      "metadata": {
        "id": "iA-nYjr7WCIp"
      },
      "source": [
        "## **(5) Maintaining Your Model Playground**"
      ]
    },
    {
      "cell_type": "markdown",
      "source": [
        "### **Update the Runtime Model (the model that is used for predictions in your REST API/Web-App**\n",
        "\n",
        "\n",
        "> ### You can update the runtime model anytime by picking one of the previously submitted models.  \n",
        "\n",
        "* *Simply refer to the model by its leaderboard version number.*\n",
        "* *You can choos a model from the Competition or Experiment leaderboard by specifying the submission_type argument.*"
      ],
      "metadata": {
        "id": "3mndcjn1Q9gk"
      }
    },
    {
      "cell_type": "code",
      "execution_count": null,
      "metadata": {
        "colab": {
          "base_uri": "https://localhost:8080/"
        },
        "id": "wAchpcGLWLxE",
        "outputId": "01902ffb-3bd3-4507-f8db-67d7fda9385e"
      },
      "outputs": [
        {
          "output_type": "stream",
          "name": "stdout",
          "text": [
            "Runtime model & preprocessor for api: https://lvdkig42r8.execute-api.us-east-2.amazonaws.com/prod/m updated to model version 2.\n",
            "\n",
            "Model metrics are now updated and verified for this model playground.\n"
          ]
        }
      ],
      "source": [
        "# Update runtime model\n",
        "myplayground.update_runtime_model(model_version=2)"
      ]
    },
    {
      "cell_type": "markdown",
      "metadata": {
        "id": "xhJRaiN-WaO1"
      },
      "source": [
        "### **Delete Deployment**\n",
        "\n",
        "\n",
        "> ### You can delete the entire Model Playground, including the REST API, web dashboard, competition, and all submitted models.  \n",
        "\n",
        "* *This is final - there is no way to recover your Model Playground if you delete it.*\n",
        "* *We have commented the line for safety reasons.*"
      ]
    },
    {
      "cell_type": "code",
      "execution_count": null,
      "metadata": {
        "id": "mCkf-exLWyDK"
      },
      "outputs": [],
      "source": [
        "#myplayground.delete_deployment()"
      ]
    }
  ],
  "metadata": {
    "colab": {
      "provenance": []
    },
    "kernelspec": {
      "display_name": "Python 3",
      "language": "python",
      "name": "python3"
    },
    "language_info": {
      "codemirror_mode": {
        "name": "ipython",
        "version": 3
      },
      "file_extension": ".py",
      "mimetype": "text/x-python",
      "name": "python",
      "nbconvert_exporter": "python",
      "pygments_lexer": "ipython3",
      "version": "3.8.5"
    },
    "gpuClass": "standard"
  },
  "nbformat": 4,
  "nbformat_minor": 0
}