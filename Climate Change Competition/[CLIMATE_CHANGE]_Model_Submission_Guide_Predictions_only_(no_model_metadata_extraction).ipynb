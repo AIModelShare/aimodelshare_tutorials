{
  "nbformat": 4,
  "nbformat_minor": 0,
  "metadata": {
    "colab": {
      "name": "[CLIMATE CHANGE] Model Submission Guide Predictions only (no model metadata extraction).ipynb",
      "provenance": [],
      "collapsed_sections": []
    },
    "kernelspec": {
      "name": "python3",
      "display_name": "Python 3"
    },
    "language_info": {
      "name": "python"
    }
  },
  "cells": [
    {
      "cell_type": "markdown",
      "source": [
        "<p align=\"center\"><img width=\"50%\" src=\"https://aimodelsharecontent.s3.amazonaws.com/aimodshare_banner.jpg\" /></p>\n",
        "\n",
        "\n",
        "---\n"
      ],
      "metadata": {
        "id": "m_DMeZsXxpEZ"
      }
    },
    {
      "cell_type": "markdown",
      "metadata": {
        "id": "JXxGTgJz152A"
      },
      "source": [
        "# Climate Change Satellite Image Classification Competition Model Submission Guide - Predictions Only (No Model Metadata)\n",
        "\n",
        "---\n",
        "**About the Original Data:**<br>\n",
        "*Data and Description accessed from [Tensorflow](https://www.tensorflow.org/datasets/catalog/bigearthnet)* <br>\n",
        "The BigEarthNet is a new large-scale Sentinel-2 benchmark archive, consisting of 590,326 Sentinel-2 image patches. The image patch size on the ground is 1.2 x 1.2 km with variable image size depending on the channel resolution. This is a multi-label dataset with 43 imbalanced labels, which has been simplified to single labels with 3 categories for the purposes of this competition.\n",
        "\n",
        "To construct the BigEarthNet, 125 Sentinel-2 tiles acquired between June 2017 and May 2018 over the 10 countries (Austria, Belgium, Finland, Ireland, Kosovo, Lithuania, Luxembourg, Portugal, Serbia, Switzerland) of Europe were initially selected. All the tiles were atmospherically corrected by the Sentinel-2 Level 2A product generation and formatting tool (sen2cor). Then, they were divided into 590,326 non-overlapping image patches. Each image patch was annotated by the multiple land-cover classes (i.e., multi-labels) that were provided from the CORINE Land Cover database of the year 2018 (CLC 2018).\n",
        "\n",
        "Bands and pixel resolution in meters:\n",
        "\n",
        "    B01: Coastal aerosol; 60m\n",
        "    B02: Blue; 10m\n",
        "    B03: Green; 10m\n",
        "    B04: Red; 10m\n",
        "    B05: Vegetation red edge; 20m\n",
        "    B06: Vegetation red edge; 20m\n",
        "    B07: Vegetation red edge; 20m\n",
        "    B08: NIR; 10m\n",
        "    B09: Water vapor; 60m\n",
        "    B11: SWIR; 20m\n",
        "    B12: SWIR; 20m\n",
        "    B8A: Narrow NIR; 20m\n",
        "\n",
        "License: Community Data License Agreement - Permissive, Version 1.0.\"\n",
        "\n",
        "**Competition Data Specifics:**<br>\n",
        "For the purpose of this competition, the original BigEarthNet dataset has been simplified to 20,000 images (15,000 training images and 5,000 test images) with 3 categories: \"forest\", \"nonforest\", and \"snow_shadow_cloud\", which contains images of snow and clouds. <br>\n",
        "Each \"image\" is a folder with 12 satellite image layers, each of which pics up on different features. The example preprocessor uses just three layers: B02, B03, and B04, which contain the standard RGB layers used in ML models. However, you are free to use any combination of the satellite image layers. \n",
        "\n",
        "**Data Source:**<br>\n",
        "Sumbul, G, Charfuelan, M, Demir, B and Markl, V. (2019). BigEarthNet: A Large-Scale Benchmark Archive For Remote Sensing Image Understanding. *Computing Research Repository (CoRR), abs/1902.06148.* https://www.tensorflow.org/datasets/catalog/bigearthnet\n",
        "\n",
        "\n"
      ]
    },
    {
      "cell_type": "markdown",
      "source": [
        "# Overview\n",
        "---\n",
        "\n",
        "Let's share our models to a centralized leaderboard, so that we can collaborate and learn from the model experimentation process...\n",
        "\n",
        "**Instructions:**\n",
        "1.   Get data in and set up X_train / X_test / y_train\n",
        "2.   Preprocess data / Write and Save Preprocessor function\n",
        "3. Fit model on preprocessed data and save preprocessor function and model \n",
        "4. Generate predictions from X_test data and submit model to competition\n",
        "5. Repeat submission process to improve place on leaderboard\n",
        "\n"
      ],
      "metadata": {
        "id": "oJ8ZcmA7VP_1"
      }
    },
    {
      "cell_type": "markdown",
      "metadata": {
        "id": "5gSrVJwp3E9H"
      },
      "source": [
        "## 1. Get data in and set up X_train, X_test, y_train objects\n",
        "\n",
        "*Note: X data is artificial placeholder data. You will have to make adjustments to use real data* "
      ]
    },
    {
      "cell_type": "code",
      "metadata": {
        "id": "PLTIaMB3ChSW"
      },
      "source": [
        "#install aimodelshare library\n",
        "! pip install aimodelshare-nightly"
      ],
      "execution_count": null,
      "outputs": []
    },
    {
      "cell_type": "code",
      "metadata": {
        "colab": {
          "base_uri": "https://localhost:8080/"
        },
        "id": "d3PiJXBhC5y-",
        "outputId": "4a643ca9-acf4-4733-ef9d-562e96656d8b"
      },
      "source": [
        "# Get competition data - May take a couple minutes due to size of data set\n",
        "from aimodelshare import download_data\n",
        "download_data('public.ecr.aws/y2e2a1d6/climate_competition_data-repository:latest') "
      ],
      "execution_count": 2,
      "outputs": [
        {
          "output_type": "stream",
          "name": "stdout",
          "text": [
            "Downloading [================================================>]\n",
            "\n",
            "Data downloaded successfully.\n"
          ]
        }
      ]
    },
    {
      "cell_type": "code",
      "source": [
        "# Unzip Data - May take a couple minutes due to size of data set\n",
        "import zipfile\n",
        "with zipfile.ZipFile('climate_competition_data/climate_competition_data.zip', 'r') as zip_ref:\n",
        "    zip_ref.extractall('competition_data')"
      ],
      "metadata": {
        "id": "7vW6VrA2ViQL"
      },
      "execution_count": 3,
      "outputs": []
    },
    {
      "cell_type": "markdown",
      "metadata": {
        "id": "gEzPoXPj3V7u"
      },
      "source": [
        "##2.   Preprocess data\n"
      ]
    },
    {
      "cell_type": "code",
      "source": [
        "# Write and execute code to preprocess data here "
      ],
      "metadata": {
        "id": "Rud6IJSDzAog"
      },
      "execution_count": null,
      "outputs": []
    },
    {
      "cell_type": "markdown",
      "metadata": {
        "id": "X52kECL43b-O"
      },
      "source": [
        "##3. Fit model on preprocessed data\n"
      ]
    },
    {
      "cell_type": "code",
      "metadata": {
        "id": "NCbBf8j9ClYl"
      },
      "source": [
        "# Write and execute code to fit model on preprocessed data here."
      ],
      "execution_count": null,
      "outputs": []
    },
    {
      "cell_type": "code",
      "metadata": {
        "id": "RtgkM02MDpkO",
        "colab": {
          "base_uri": "https://localhost:8080/"
        },
        "outputId": "3e9724a4-6f9f-4fd2-d0a4-549f0ed88025"
      },
      "source": [
        "#Set credentials using modelshare.org username/password\n",
        "\n",
        "from aimodelshare.aws import set_credentials\n",
        "    \n",
        "apiurl=\"https://srdmat3yhf.execute-api.us-east-1.amazonaws.com/prod/m\"\n",
        "#This is the unique rest api that powers this Climate Change Image Classification Playground\n",
        "\n",
        "set_credentials(apiurl=apiurl)"
      ],
      "execution_count": 4,
      "outputs": [
        {
          "output_type": "stream",
          "name": "stdout",
          "text": [
            "AI Modelshare Username:··········\n",
            "AI Modelshare Password:··········\n",
            "AI Model Share login credentials set successfully.\n"
          ]
        }
      ]
    },
    {
      "cell_type": "code",
      "metadata": {
        "id": "fKNGSww8EGgi"
      },
      "source": [
        "#Instantiate Competition\n",
        "import aimodelshare as ai\n",
        "mycompetition= ai.Competition(apiurl)"
      ],
      "execution_count": 5,
      "outputs": []
    },
    {
      "cell_type": "markdown",
      "source": [
        "## **4. Submit Model predictions to leaderboard (without extracting model architecture information):**\n",
        "- model metadata extraction allows you use compare_models() and instantiate_model() functions."
      ],
      "metadata": {
        "id": "W66Pr1_K2sQV"
      }
    },
    {
      "cell_type": "code",
      "source": [
        "#Generate a list of predictions using X_test data\n",
        "\n",
        "# This example uses randomly chosen values to generate a list of predictions\n",
        "# Set up y data\n",
        "import random \n",
        "\n",
        "label_list = [\"forest\", \"nonforest\", \"snow_shadow_cloud\"]\n",
        "predicted_values = random.choices(label_list, k=5000)"
      ],
      "metadata": {
        "id": "IS09g9DF0HGP"
      },
      "execution_count": 6,
      "outputs": []
    },
    {
      "cell_type": "code",
      "metadata": {
        "id": "_Ql4wksyEUnP",
        "colab": {
          "base_uri": "https://localhost:8080/"
        },
        "outputId": "0385140e-63aa-4c21-a81a-4ec4cfb2528d"
      },
      "source": [
        "#Submit Model predictions to leaderboard (without extracting model architecture information): \n",
        "\n",
        "# Submit Model to Competition Leaderboard\n",
        "mycompetition.submit_model(model_filepath = None,\n",
        "                                 preprocessor_filepath=None,\n",
        "                                 prediction_submission=predicted_values)"
      ],
      "execution_count": 7,
      "outputs": [
        {
          "output_type": "stream",
          "name": "stdout",
          "text": [
            "Insert search tags to help users find your model (optional): \n",
            "Provide any useful notes about your model (optional): \n",
            "\n",
            "Your model has been submitted as model version 4\n",
            "\n",
            "To submit code used to create this model or to view current leaderboard navigate to Model Playground: \n",
            "\n",
            " https://www.modelshare.org/detail/model:1535\n"
          ]
        }
      ]
    },
    {
      "cell_type": "code",
      "metadata": {
        "colab": {
          "base_uri": "https://localhost:8080/",
          "height": 247
        },
        "id": "GN1zvAmNEq17",
        "outputId": "0c270d27-c6fc-464f-df6b-f8f25cd689c5"
      },
      "source": [
        "# Get leaderboard to explore current best model architectures\n",
        "\n",
        "# Get raw data in pandas data frame\n",
        "data = mycompetition.get_leaderboard()\n",
        "\n",
        "# Stylize leaderboard data\n",
        "mycompetition.stylize_leaderboard(data)"
      ],
      "execution_count": 8,
      "outputs": [
        {
          "output_type": "execute_result",
          "data": {
            "text/html": [
              "<style type=\"text/css\">\n",
              "#T_cb564_row0_col0 {\n",
              "  text-align: center;\n",
              "  width: 10em;\n",
              "  height: 80%;\n",
              "  background: linear-gradient(90deg,#f5f8d6 54.3%, transparent 54.3%);\n",
              "  color: #251e1b;\n",
              "  font-size: 12px;\n",
              "}\n",
              "#T_cb564_row0_col1 {\n",
              "  text-align: center;\n",
              "  width: 10em;\n",
              "  height: 80%;\n",
              "  background: linear-gradient(90deg,#c778c8 46.1%, transparent 46.1%);\n",
              "  color: #251e1b;\n",
              "  font-size: 12px;\n",
              "}\n",
              "#T_cb564_row0_col2 {\n",
              "  text-align: center;\n",
              "  width: 10em;\n",
              "  height: 80%;\n",
              "  background: linear-gradient(90deg,#ff4971 44.4%, transparent 44.4%);\n",
              "  color: #251e1b;\n",
              "  font-size: 12px;\n",
              "}\n",
              "#T_cb564_row0_col3 {\n",
              "  text-align: center;\n",
              "  width: 10em;\n",
              "  height: 80%;\n",
              "  background: linear-gradient(90deg,#aadbaa 48.1%, transparent 48.1%);\n",
              "  color: #251e1b;\n",
              "  font-size: 12px;\n",
              "}\n",
              "#T_cb564_row0_col4, #T_cb564_row0_col5, #T_cb564_row0_col6, #T_cb564_row0_col7, #T_cb564_row0_col8, #T_cb564_row0_col9, #T_cb564_row0_col10, #T_cb564_row0_col11, #T_cb564_row0_col12, #T_cb564_row0_col13, #T_cb564_row0_col14, #T_cb564_row0_col15, #T_cb564_row0_col16, #T_cb564_row0_col17, #T_cb564_row0_col18, #T_cb564_row0_col19, #T_cb564_row0_col20, #T_cb564_row0_col21, #T_cb564_row1_col4, #T_cb564_row1_col5, #T_cb564_row1_col6, #T_cb564_row1_col7, #T_cb564_row1_col8, #T_cb564_row1_col9, #T_cb564_row1_col10, #T_cb564_row1_col11, #T_cb564_row1_col12, #T_cb564_row1_col13, #T_cb564_row1_col14, #T_cb564_row1_col15, #T_cb564_row1_col16, #T_cb564_row1_col17, #T_cb564_row1_col18, #T_cb564_row1_col19, #T_cb564_row1_col20, #T_cb564_row1_col21, #T_cb564_row2_col4, #T_cb564_row2_col5, #T_cb564_row2_col6, #T_cb564_row2_col7, #T_cb564_row2_col8, #T_cb564_row2_col9, #T_cb564_row2_col10, #T_cb564_row2_col11, #T_cb564_row2_col12, #T_cb564_row2_col13, #T_cb564_row2_col14, #T_cb564_row2_col15, #T_cb564_row2_col16, #T_cb564_row2_col17, #T_cb564_row2_col18, #T_cb564_row2_col19, #T_cb564_row2_col20, #T_cb564_row2_col21, #T_cb564_row3_col4, #T_cb564_row3_col5, #T_cb564_row3_col6, #T_cb564_row3_col7, #T_cb564_row3_col8, #T_cb564_row3_col9, #T_cb564_row3_col10, #T_cb564_row3_col11, #T_cb564_row3_col12, #T_cb564_row3_col13, #T_cb564_row3_col14, #T_cb564_row3_col15, #T_cb564_row3_col16, #T_cb564_row3_col17, #T_cb564_row3_col18, #T_cb564_row3_col19, #T_cb564_row3_col20, #T_cb564_row3_col21 {\n",
              "  text-align: center;\n",
              "}\n",
              "#T_cb564_row1_col0 {\n",
              "  text-align: center;\n",
              "  width: 10em;\n",
              "  height: 80%;\n",
              "  background: linear-gradient(90deg,#f5f8d6 56.9%, transparent 56.9%);\n",
              "  color: #251e1b;\n",
              "  font-size: 12px;\n",
              "}\n",
              "#T_cb564_row1_col1 {\n",
              "  text-align: center;\n",
              "  width: 10em;\n",
              "  height: 80%;\n",
              "  background: linear-gradient(90deg,#c778c8 45.4%, transparent 45.4%);\n",
              "  color: #251e1b;\n",
              "  font-size: 12px;\n",
              "}\n",
              "#T_cb564_row1_col2 {\n",
              "  text-align: center;\n",
              "  width: 10em;\n",
              "  height: 80%;\n",
              "  background: linear-gradient(90deg,#ff4971 42.3%, transparent 42.3%);\n",
              "  color: #251e1b;\n",
              "  font-size: 12px;\n",
              "}\n",
              "#T_cb564_row1_col3 {\n",
              "  text-align: center;\n",
              "  width: 10em;\n",
              "  height: 80%;\n",
              "  background: linear-gradient(90deg,#aadbaa 49.1%, transparent 49.1%);\n",
              "  color: #251e1b;\n",
              "  font-size: 12px;\n",
              "}\n",
              "#T_cb564_row2_col0 {\n",
              "  text-align: center;\n",
              "  width: 10em;\n",
              "  height: 80%;\n",
              "  background: linear-gradient(90deg,#f5f8d6 40.1%, transparent 40.1%);\n",
              "  color: #251e1b;\n",
              "  font-size: 12px;\n",
              "}\n",
              "#T_cb564_row2_col1 {\n",
              "  text-align: center;\n",
              "  width: 10em;\n",
              "  height: 80%;\n",
              "  background: linear-gradient(90deg,#c778c8 43.4%, transparent 43.4%);\n",
              "  color: #251e1b;\n",
              "  font-size: 12px;\n",
              "}\n",
              "#T_cb564_row2_col2 {\n",
              "  text-align: center;\n",
              "  width: 10em;\n",
              "  height: 80%;\n",
              "  background: linear-gradient(90deg,#ff4971 44.8%, transparent 44.8%);\n",
              "  color: #251e1b;\n",
              "  font-size: 12px;\n",
              "}\n",
              "#T_cb564_row2_col3 {\n",
              "  text-align: center;\n",
              "  width: 10em;\n",
              "  height: 80%;\n",
              "  background: linear-gradient(90deg,#aadbaa 47.8%, transparent 47.8%);\n",
              "  color: #251e1b;\n",
              "  font-size: 12px;\n",
              "}\n",
              "#T_cb564_row3_col0 {\n",
              "  text-align: center;\n",
              "  width: 10em;\n",
              "  height: 80%;\n",
              "  background: linear-gradient(90deg,#f5f8d6 34.9%, transparent 34.9%);\n",
              "  color: #251e1b;\n",
              "  font-size: 12px;\n",
              "}\n",
              "#T_cb564_row3_col1 {\n",
              "  text-align: center;\n",
              "  width: 10em;\n",
              "  height: 80%;\n",
              "  background: linear-gradient(90deg,#c778c8 32.5%, transparent 32.5%);\n",
              "  color: #251e1b;\n",
              "  font-size: 12px;\n",
              "}\n",
              "#T_cb564_row3_col2 {\n",
              "  text-align: center;\n",
              "  width: 10em;\n",
              "  height: 80%;\n",
              "  background: linear-gradient(90deg,#ff4971 34.9%, transparent 34.9%);\n",
              "  color: #251e1b;\n",
              "  font-size: 12px;\n",
              "}\n",
              "#T_cb564_row3_col3 {\n",
              "  text-align: center;\n",
              "  width: 10em;\n",
              "  height: 80%;\n",
              "  background: linear-gradient(90deg,#aadbaa 35.2%, transparent 35.2%);\n",
              "  color: #251e1b;\n",
              "  font-size: 12px;\n",
              "}\n",
              "</style>\n",
              "<table id=\"T_cb564_\" class=\"dataframe\">\n",
              "  <thead>\n",
              "    <tr>\n",
              "      <th class=\"blank level0\" >&nbsp;</th>\n",
              "      <th class=\"col_heading level0 col0\" >accuracy</th>\n",
              "      <th class=\"col_heading level0 col1\" >f1_score</th>\n",
              "      <th class=\"col_heading level0 col2\" >precision</th>\n",
              "      <th class=\"col_heading level0 col3\" >recall</th>\n",
              "      <th class=\"col_heading level0 col4\" >ml_framework</th>\n",
              "      <th class=\"col_heading level0 col5\" >deep_learning</th>\n",
              "      <th class=\"col_heading level0 col6\" >model_type</th>\n",
              "      <th class=\"col_heading level0 col7\" >depth</th>\n",
              "      <th class=\"col_heading level0 col8\" >num_params</th>\n",
              "      <th class=\"col_heading level0 col9\" >dropout_layers</th>\n",
              "      <th class=\"col_heading level0 col10\" >dense_layers</th>\n",
              "      <th class=\"col_heading level0 col11\" >flatten_layers</th>\n",
              "      <th class=\"col_heading level0 col12\" >conv2d_layers</th>\n",
              "      <th class=\"col_heading level0 col13\" >maxpooling2d_layers</th>\n",
              "      <th class=\"col_heading level0 col14\" >softmax_act</th>\n",
              "      <th class=\"col_heading level0 col15\" >relu_act</th>\n",
              "      <th class=\"col_heading level0 col16\" >loss</th>\n",
              "      <th class=\"col_heading level0 col17\" >optimizer</th>\n",
              "      <th class=\"col_heading level0 col18\" >model_config</th>\n",
              "      <th class=\"col_heading level0 col19\" >memory_size</th>\n",
              "      <th class=\"col_heading level0 col20\" >username</th>\n",
              "      <th class=\"col_heading level0 col21\" >version</th>\n",
              "    </tr>\n",
              "  </thead>\n",
              "  <tbody>\n",
              "    <tr>\n",
              "      <th id=\"T_cb564_level0_row0\" class=\"row_heading level0 row0\" >0</th>\n",
              "      <td id=\"T_cb564_row0_col0\" class=\"data row0 col0\" >54.28%</td>\n",
              "      <td id=\"T_cb564_row0_col1\" class=\"data row0 col1\" >46.12%</td>\n",
              "      <td id=\"T_cb564_row0_col2\" class=\"data row0 col2\" >44.40%</td>\n",
              "      <td id=\"T_cb564_row0_col3\" class=\"data row0 col3\" >48.11%</td>\n",
              "      <td id=\"T_cb564_row0_col4\" class=\"data row0 col4\" >sklearn</td>\n",
              "      <td id=\"T_cb564_row0_col5\" class=\"data row0 col5\" >nan</td>\n",
              "      <td id=\"T_cb564_row0_col6\" class=\"data row0 col6\" >RandomForestClassifier</td>\n",
              "      <td id=\"T_cb564_row0_col7\" class=\"data row0 col7\" >nan</td>\n",
              "      <td id=\"T_cb564_row0_col8\" class=\"data row0 col8\" >nan</td>\n",
              "      <td id=\"T_cb564_row0_col9\" class=\"data row0 col9\" >nan</td>\n",
              "      <td id=\"T_cb564_row0_col10\" class=\"data row0 col10\" >nan</td>\n",
              "      <td id=\"T_cb564_row0_col11\" class=\"data row0 col11\" >nan</td>\n",
              "      <td id=\"T_cb564_row0_col12\" class=\"data row0 col12\" >nan</td>\n",
              "      <td id=\"T_cb564_row0_col13\" class=\"data row0 col13\" >nan</td>\n",
              "      <td id=\"T_cb564_row0_col14\" class=\"data row0 col14\" >nan</td>\n",
              "      <td id=\"T_cb564_row0_col15\" class=\"data row0 col15\" >nan</td>\n",
              "      <td id=\"T_cb564_row0_col16\" class=\"data row0 col16\" >nan</td>\n",
              "      <td id=\"T_cb564_row0_col17\" class=\"data row0 col17\" >nan</td>\n",
              "      <td id=\"T_cb564_row0_col18\" class=\"data row0 col18\" >{'bootstrap': True, 'ccp_alpha...</td>\n",
              "      <td id=\"T_cb564_row0_col19\" class=\"data row0 col19\" >nan</td>\n",
              "      <td id=\"T_cb564_row0_col20\" class=\"data row0 col20\" >AIModelShare</td>\n",
              "      <td id=\"T_cb564_row0_col21\" class=\"data row0 col21\" >2</td>\n",
              "    </tr>\n",
              "    <tr>\n",
              "      <th id=\"T_cb564_level0_row1\" class=\"row_heading level0 row1\" >1</th>\n",
              "      <td id=\"T_cb564_row1_col0\" class=\"data row1 col0\" >56.88%</td>\n",
              "      <td id=\"T_cb564_row1_col1\" class=\"data row1 col1\" >45.37%</td>\n",
              "      <td id=\"T_cb564_row1_col2\" class=\"data row1 col2\" >42.31%</td>\n",
              "      <td id=\"T_cb564_row1_col3\" class=\"data row1 col3\" >49.11%</td>\n",
              "      <td id=\"T_cb564_row1_col4\" class=\"data row1 col4\" >sklearn</td>\n",
              "      <td id=\"T_cb564_row1_col5\" class=\"data row1 col5\" >nan</td>\n",
              "      <td id=\"T_cb564_row1_col6\" class=\"data row1 col6\" >RandomForestClassifier</td>\n",
              "      <td id=\"T_cb564_row1_col7\" class=\"data row1 col7\" >nan</td>\n",
              "      <td id=\"T_cb564_row1_col8\" class=\"data row1 col8\" >nan</td>\n",
              "      <td id=\"T_cb564_row1_col9\" class=\"data row1 col9\" >nan</td>\n",
              "      <td id=\"T_cb564_row1_col10\" class=\"data row1 col10\" >nan</td>\n",
              "      <td id=\"T_cb564_row1_col11\" class=\"data row1 col11\" >nan</td>\n",
              "      <td id=\"T_cb564_row1_col12\" class=\"data row1 col12\" >nan</td>\n",
              "      <td id=\"T_cb564_row1_col13\" class=\"data row1 col13\" >nan</td>\n",
              "      <td id=\"T_cb564_row1_col14\" class=\"data row1 col14\" >nan</td>\n",
              "      <td id=\"T_cb564_row1_col15\" class=\"data row1 col15\" >nan</td>\n",
              "      <td id=\"T_cb564_row1_col16\" class=\"data row1 col16\" >nan</td>\n",
              "      <td id=\"T_cb564_row1_col17\" class=\"data row1 col17\" >nan</td>\n",
              "      <td id=\"T_cb564_row1_col18\" class=\"data row1 col18\" >{'bootstrap': True, 'ccp_alpha...</td>\n",
              "      <td id=\"T_cb564_row1_col19\" class=\"data row1 col19\" >nan</td>\n",
              "      <td id=\"T_cb564_row1_col20\" class=\"data row1 col20\" >AIModelShare</td>\n",
              "      <td id=\"T_cb564_row1_col21\" class=\"data row1 col21\" >3</td>\n",
              "    </tr>\n",
              "    <tr>\n",
              "      <th id=\"T_cb564_level0_row2\" class=\"row_heading level0 row2\" >2</th>\n",
              "      <td id=\"T_cb564_row2_col0\" class=\"data row2 col0\" >40.08%</td>\n",
              "      <td id=\"T_cb564_row2_col1\" class=\"data row2 col1\" >43.37%</td>\n",
              "      <td id=\"T_cb564_row2_col2\" class=\"data row2 col2\" >44.80%</td>\n",
              "      <td id=\"T_cb564_row2_col3\" class=\"data row2 col3\" >47.78%</td>\n",
              "      <td id=\"T_cb564_row2_col4\" class=\"data row2 col4\" >keras</td>\n",
              "      <td id=\"T_cb564_row2_col5\" class=\"data row2 col5\" >True</td>\n",
              "      <td id=\"T_cb564_row2_col6\" class=\"data row2 col6\" >Sequential</td>\n",
              "      <td id=\"T_cb564_row2_col7\" class=\"data row2 col7\" >8.000000</td>\n",
              "      <td id=\"T_cb564_row2_col8\" class=\"data row2 col8\" >1847811.000000</td>\n",
              "      <td id=\"T_cb564_row2_col9\" class=\"data row2 col9\" >2.000000</td>\n",
              "      <td id=\"T_cb564_row2_col10\" class=\"data row2 col10\" >2.000000</td>\n",
              "      <td id=\"T_cb564_row2_col11\" class=\"data row2 col11\" >1.000000</td>\n",
              "      <td id=\"T_cb564_row2_col12\" class=\"data row2 col12\" >2.000000</td>\n",
              "      <td id=\"T_cb564_row2_col13\" class=\"data row2 col13\" >1.000000</td>\n",
              "      <td id=\"T_cb564_row2_col14\" class=\"data row2 col14\" >1.000000</td>\n",
              "      <td id=\"T_cb564_row2_col15\" class=\"data row2 col15\" >3.000000</td>\n",
              "      <td id=\"T_cb564_row2_col16\" class=\"data row2 col16\" >str</td>\n",
              "      <td id=\"T_cb564_row2_col17\" class=\"data row2 col17\" >RMSprop</td>\n",
              "      <td id=\"T_cb564_row2_col18\" class=\"data row2 col18\" >{'name': 'sequential', 'layers...</td>\n",
              "      <td id=\"T_cb564_row2_col19\" class=\"data row2 col19\" >2233032.000000</td>\n",
              "      <td id=\"T_cb564_row2_col20\" class=\"data row2 col20\" >AIModelShare</td>\n",
              "      <td id=\"T_cb564_row2_col21\" class=\"data row2 col21\" >1</td>\n",
              "    </tr>\n",
              "    <tr>\n",
              "      <th id=\"T_cb564_level0_row3\" class=\"row_heading level0 row3\" >3</th>\n",
              "      <td id=\"T_cb564_row3_col0\" class=\"data row3 col0\" >34.88%</td>\n",
              "      <td id=\"T_cb564_row3_col1\" class=\"data row3 col1\" >32.55%</td>\n",
              "      <td id=\"T_cb564_row3_col2\" class=\"data row3 col2\" >34.93%</td>\n",
              "      <td id=\"T_cb564_row3_col3\" class=\"data row3 col3\" >35.20%</td>\n",
              "      <td id=\"T_cb564_row3_col4\" class=\"data row3 col4\" >unknown</td>\n",
              "      <td id=\"T_cb564_row3_col5\" class=\"data row3 col5\" >nan</td>\n",
              "      <td id=\"T_cb564_row3_col6\" class=\"data row3 col6\" >unknown</td>\n",
              "      <td id=\"T_cb564_row3_col7\" class=\"data row3 col7\" >nan</td>\n",
              "      <td id=\"T_cb564_row3_col8\" class=\"data row3 col8\" >nan</td>\n",
              "      <td id=\"T_cb564_row3_col9\" class=\"data row3 col9\" >nan</td>\n",
              "      <td id=\"T_cb564_row3_col10\" class=\"data row3 col10\" >nan</td>\n",
              "      <td id=\"T_cb564_row3_col11\" class=\"data row3 col11\" >nan</td>\n",
              "      <td id=\"T_cb564_row3_col12\" class=\"data row3 col12\" >nan</td>\n",
              "      <td id=\"T_cb564_row3_col13\" class=\"data row3 col13\" >nan</td>\n",
              "      <td id=\"T_cb564_row3_col14\" class=\"data row3 col14\" >nan</td>\n",
              "      <td id=\"T_cb564_row3_col15\" class=\"data row3 col15\" >nan</td>\n",
              "      <td id=\"T_cb564_row3_col16\" class=\"data row3 col16\" >nan</td>\n",
              "      <td id=\"T_cb564_row3_col17\" class=\"data row3 col17\" >nan</td>\n",
              "      <td id=\"T_cb564_row3_col18\" class=\"data row3 col18\" >None...</td>\n",
              "      <td id=\"T_cb564_row3_col19\" class=\"data row3 col19\" >nan</td>\n",
              "      <td id=\"T_cb564_row3_col20\" class=\"data row3 col20\" >AIModelShare</td>\n",
              "      <td id=\"T_cb564_row3_col21\" class=\"data row3 col21\" >4</td>\n",
              "    </tr>\n",
              "  </tbody>\n",
              "</table>\n"
            ],
            "text/plain": [
              "<pandas.io.formats.style.Styler at 0x7f41702e5bd0>"
            ]
          },
          "metadata": {},
          "execution_count": 8
        }
      ]
    },
    {
      "cell_type": "markdown",
      "source": [
        "You can also compare two or more models for any models submitted to the leaderboard using example code for model metadata extraction (see code tab for this competition at www.modelshare.org for submission examples.)\n",
        "```\n",
        "data=mycompetition.compare_models([1,2], verbose=1)\n",
        "mycompetition.stylize_compare(data)\n",
        "```\n",
        "\n"
      ],
      "metadata": {
        "id": "OK9F-jPs38K5"
      }
    },
    {
      "cell_type": "markdown",
      "metadata": {
        "id": "bwNKs0wP4r5s"
      },
      "source": [
        "#####  (Optional Extension) Submit Model With Custom Metadata: \n",
        "Can use to add team names or any other missing data you may wish to share on the leaderboard\n"
      ]
    },
    {
      "cell_type": "code",
      "metadata": {
        "id": "FgSs5PAtPCZH"
      },
      "source": [
        "# Custom metadata can be added by passing a dict to the custom_metadata argument of the submit_model() method\n",
        "# This option can be used to fill in missing data points or add new columns to the leaderboard\n",
        "\n",
        "custom_meta = {'team': 'team one',\n",
        "               'model_type': 'your_model_type',\n",
        "               'new_column': 'new metadata'}\n",
        "\n",
        "mycompetition.submit_model(model_filepath = None,\n",
        "                                 preprocessor_filepath=None,\n",
        "                                 prediction_submission=predicted_values,\n",
        "                                 custom_metadata = custom_meta)"
      ],
      "execution_count": null,
      "outputs": []
    }
  ]
}