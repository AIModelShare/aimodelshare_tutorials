{
 "cells": [
  {
   "cell_type": "markdown",
   "metadata": {
    "id": "g8Hr8qrnroxM"
   },
   "source": [
    "<p align=\"center\"><img width=\"50%\" src=\"https://aimodelsharecontent.s3.amazonaws.com/aimodshare_banner.jpg\" /></p>\n",
    "\n",
    "\n",
    "---\n",
    "**Data Source:**<br>\n",
    "The Tensorflow Team. (2019, January). Flowers. http://download.tensorflow.org/example_images/flower_photos.tgz \n"
   ]
  },
  {
   "cell_type": "markdown",
   "metadata": {
    "id": "JXxGTgJz152A"
   },
   "source": [
    "# Flower Classification Competition Model Submission Guide\n",
    "\n",
    "---\n",
    "\n",
    "Let's share our models to a centralized leaderboard, so that we can collaborate and learn from the model experimentation process...\n",
    "\n",
    "**Instructions:**\n",
    "1.   Get data in and set up X_train / X_test / y_train\n",
    "2.   Preprocess data / Write and Save Preprocessor function\n",
    "3. Fit model on preprocessed data and save preprocessor function and model \n",
    "4. Generate predictions from X_test data and submit model to competition\n",
    "5. Repeat submission process to improve place on leaderboard\n",
    "\n"
   ]
  },
  {
   "cell_type": "markdown",
   "metadata": {
    "id": "5gSrVJwp3E9H"
   },
   "source": [
    "## 1. Get data in and set up X_train, X_test, y_train objects"
   ]
  },
  {
   "cell_type": "code",
   "execution_count": null,
   "metadata": {
    "id": "PLTIaMB3ChSW"
   },
   "outputs": [],
   "source": [
    "#install aimodelshare library\n",
    "! pip install aimodelshare==0.0.189"
   ]
  },
  {
   "cell_type": "code",
   "execution_count": 2,
   "metadata": {
    "colab": {
     "base_uri": "https://localhost:8080/"
    },
    "id": "d3PiJXBhC5y-",
    "outputId": "6f5606e8-88d6-4cab-f8c8-0049f3e1b5eb"
   },
   "outputs": [
    {
     "name": "stdout",
     "output_type": "stream",
     "text": [
      "Downloading [================================================>]\n",
      "\n",
      "Data downloaded successfully.\n"
     ]
    }
   ],
   "source": [
    "# Get competition data\n",
    "from aimodelshare import download_data\n",
    "download_data('public.ecr.aws/y2e2a1d6/flower_competition_data-repository:latest') "
   ]
  },
  {
   "cell_type": "code",
   "execution_count": 3,
   "metadata": {
    "colab": {
     "base_uri": "https://localhost:8080/"
    },
    "id": "jT0qFCZFNzHq",
    "outputId": "44bd1012-41af-4f0b-c742-5b831ea3976e"
   },
   "outputs": [
    {
     "name": "stdout",
     "output_type": "stream",
     "text": [
      "number of images for each category: [507, 718, 513, 559, 639]\n",
      "flower_competition_data/train_images/daisy/14167534527_781ceb1b7a_n.jpg\n"
     ]
    }
   ],
   "source": [
    "# Create training data objects \n",
    "\n",
    "# Extracting all filepaths iteratively...\n",
    "import os \n",
    "\n",
    "base_path = 'flower_competition_data/train_images'\n",
    "categories = ['daisy', 'dandelion', 'roses', 'sunflowers', 'tulips']\n",
    "\n",
    "# Load file paths to fnames list object...\n",
    "fnames = []\n",
    "for category in categories:\n",
    "    flower_folder = os.path.join(base_path, category)\n",
    "    file_names = os.listdir(flower_folder)\n",
    "    full_path = [os.path.join(flower_folder, file_name) for file_name in file_names]\n",
    "    fnames.append(full_path)\n",
    "\n",
    "print('number of images for each category:', [len(f) for f in fnames])\n",
    "print(fnames[0][1]) # Examples of file names...\n",
    "\n",
    "# Create y data made up of correctly ordered labels from file folders...\n",
    "from itertools import repeat\n",
    "\n",
    "daisy = list(repeat(\"daisy\", 507)) #i.e.: 507 filenames in daisy folder\n",
    "dandelion = list(repeat(\"dandelion\", 718))\n",
    "roses = list(repeat(\"roses\", 513))\n",
    "sunflowers = list(repeat(\"sunflowers\", 559))\n",
    "tulips = list(repeat(\"tulips\", 639))\n",
    "\n",
    "# Combine into single list of y labels...\n",
    "y_labels = daisy + dandelion + roses + sunflowers + tulips \n",
    "\n",
    "# Need to one-hot encode for Keras. Let's use Pandas...\n",
    "import pandas as pd\n",
    "y_train = pd.get_dummies(y_labels)"
   ]
  },
  {
   "cell_type": "markdown",
   "metadata": {
    "id": "gEzPoXPj3V7u"
   },
   "source": [
    "##2.   Preprocess data / Write and Save Preprocessor function\n"
   ]
  },
  {
   "cell_type": "code",
   "execution_count": 4,
   "metadata": {
    "id": "zJMxj9wgvtLk"
   },
   "outputs": [],
   "source": [
    "# Here is a pre-designed preprocessor, but you could also build your own to prepare the data differently\n",
    "\n",
    "def preprocessor(image_filepath, shape=(192, 192)):\n",
    "        \"\"\"\n",
    "        This function preprocesses reads in images, resizes them to a fixed shape and\n",
    "        min/max transforms them before converting feature values to float32 numeric values\n",
    "        required by onnx files.\n",
    "        \n",
    "        params:\n",
    "            image_filepath\n",
    "                full filepath of a particular image\n",
    "                      \n",
    "        returns:\n",
    "            X\n",
    "                numpy array of preprocessed image data\n",
    "                  \n",
    "        \"\"\"\n",
    "           \n",
    "        import cv2\n",
    "        import numpy as np\n",
    "\n",
    "        \"Resize a color image and min/max transform the image\"\n",
    "        img = cv2.imread(image_filepath) # Read in image from filepath.\n",
    "        img = cv2.cvtColor(img, cv2.COLOR_BGR2RGB) # cv2 reads in images in order of blue green and red, we reverse the order for ML.\n",
    "        img = cv2.resize(img, shape) # Change height and width of image.\n",
    "        img = img / 255.0 # Min-max transform.\n",
    "\n",
    "\n",
    "        # Resize all the images...\n",
    "        X = np.array(img)\n",
    "        X = np.expand_dims(X, axis=0) # Expand dims to add \"1\" to object shape [1, h, w, channels] for keras model.\n",
    "        X = np.array(X, dtype=np.float32) # Final shape for onnx runtime.\n",
    "        return X"
   ]
  },
  {
   "cell_type": "code",
   "execution_count": 5,
   "metadata": {
    "id": "QVHE_pdzAE_1"
   },
   "outputs": [],
   "source": [
    "# Use preprocessor to create X_train object \n",
    "\n",
    "# Import image, load to array of shape height, width, channels, then min/max transform...\n",
    "# Read in all images from filenames...\n",
    "import numpy as np \n",
    "\n",
    "preprocessed_image_data = [preprocessor(x) for x in fnames[0] + fnames[1] + fnames[2] + \n",
    "                           fnames[3] + fnames[4]]\n",
    "\n",
    "# Object needs to be an array rather than a list for Keras. (vstack converts above list to array object.)\n",
    "X_train = np.vstack(preprocessed_image_data)\n",
    "# Assigning to X_train to highlight that this represents feature input data for our model."
   ]
  },
  {
   "cell_type": "code",
   "execution_count": 6,
   "metadata": {
    "id": "ldSywYT7AQ-c"
   },
   "outputs": [],
   "source": [
    "# Preprocess X_test image data to generate predictions from models \n",
    "import numpy as np\n",
    "\n",
    "file_names = [('flower_competition_data/test_images/' + str(i) + '.jpg') for i in range(1, 735)]\n",
    "\n",
    "preprocessed_image_data = [preprocessor(x) for x in file_names]\n",
    "\n",
    "#Create single X_test array from preprocessed images\n",
    "X_test = np.vstack(preprocessed_image_data) "
   ]
  },
  {
   "cell_type": "markdown",
   "metadata": {
    "id": "X52kECL43b-O"
   },
   "source": [
    "##3. Fit model on preprocessed data and save preprocessor function and model \n"
   ]
  },
  {
   "cell_type": "code",
   "execution_count": 7,
   "metadata": {
    "colab": {
     "base_uri": "https://localhost:8080/"
    },
    "id": "NCbBf8j9ClYl",
    "outputId": "adb4e53b-e06c-4018-ffcd-a741391219cb"
   },
   "outputs": [
    {
     "name": "stdout",
     "output_type": "stream",
     "text": [
      "74/74 [==============================] - 210s 3s/step - loss: 1.5079 - accuracy: 0.4476 - val_loss: 4.3794 - val_accuracy: 0.0000e+00\n"
     ]
    }
   ],
   "source": [
    "# Let's build a convnet model...\n",
    "import tensorflow as tf \n",
    "from tensorflow.keras.models import Sequential\n",
    "from tensorflow.keras.layers import Dense, Activation, Dropout, Flatten\n",
    "from tensorflow.keras.layers import Conv2D, MaxPooling2D\n",
    "from tensorflow.keras import regularizers\n",
    "\n",
    "with tf.device('/device:GPU:0'): # \"/GPU:0\": Short-hand notation for the first GPU of your machine that is visible to TensorFlow.\n",
    "                                 \n",
    "        cnn1 = Sequential()\n",
    "        cnn1.add(Conv2D(filters=16, kernel_size=3, padding='same', activation='relu', input_shape=[192, 192, 3]))\n",
    "        cnn1.add(Conv2D(filters=16, kernel_size=3, padding='same', activation='relu', kernel_regularizer=regularizers.l2(l=0.01)))\n",
    "        cnn1.add(MaxPooling2D(pool_size=2)) \n",
    "        cnn1.add(Conv2D(filters=16, kernel_size=3, padding='same', activation='relu', kernel_regularizer=regularizers.l2(l=0.01)))\n",
    "        cnn1.add(Conv2D(filters=16, kernel_size=3, padding='same', activation='relu'))\n",
    "        cnn1.add(MaxPooling2D(pool_size=2))\n",
    "        cnn1.add(Dropout(0.3))\n",
    "        cnn1.add(Flatten())\n",
    "        cnn1.add(Dense(50, activation='relu'))\n",
    "        cnn1.add(Dropout(0.2))\n",
    "        cnn1.add(Dense(5, activation='softmax'))\n",
    "\n",
    "        # Compile model...\n",
    "        cnn1.compile(loss='categorical_crossentropy', optimizer='rmsprop', metrics=['accuracy'])\n",
    "\n",
    "        # Fitting the NN to the Training set...\n",
    "        hist = cnn1.fit(X_train, y_train, epochs=1, verbose=1, validation_split=0.2)"
   ]
  },
  {
   "cell_type": "markdown",
   "metadata": {
    "id": "zmJAnmO-5AcU"
   },
   "source": [
    "#### Save preprocessor function to local \"preprocessor.zip\" file"
   ]
  },
  {
   "cell_type": "code",
   "execution_count": 8,
   "metadata": {
    "colab": {
     "base_uri": "https://localhost:8080/"
    },
    "id": "4VGacc0LDaMA",
    "outputId": "2c6ada7d-2f8e-4bb4-b087-60f43a9040bc"
   },
   "outputs": [
    {
     "name": "stdout",
     "output_type": "stream",
     "text": [
      "Your preprocessor is now saved to 'preprocessor.zip'\n"
     ]
    }
   ],
   "source": [
    "import aimodelshare as ai\n",
    "ai.export_preprocessor(preprocessor,\"\") "
   ]
  },
  {
   "cell_type": "markdown",
   "metadata": {
    "id": "oOWBa8Cv5LdL"
   },
   "source": [
    "#### Save model to local \".onnx\" file"
   ]
  },
  {
   "cell_type": "code",
   "execution_count": 9,
   "metadata": {
    "id": "pEhvnRiQDlY5"
   },
   "outputs": [],
   "source": [
    "# Save keras model to local ONNX file\n",
    "from aimodelshare.aimsonnx import model_to_onnx\n",
    "\n",
    "onnx_model = model_to_onnx(cnn1, framework='keras',\n",
    "                          transfer_learning=False,\n",
    "                          deep_learning=True)\n",
    "\n",
    "with open(\"model.onnx\", \"wb\") as f:\n",
    "    f.write(onnx_model.SerializeToString())"
   ]
  },
  {
   "cell_type": "markdown",
   "metadata": {
    "id": "gHWkAzvX3m8O"
   },
   "source": [
    "## 4. Generate predictions from X_test data and submit model to competition\n"
   ]
  },
  {
   "cell_type": "code",
   "execution_count": 11,
   "metadata": {
    "colab": {
     "base_uri": "https://localhost:8080/"
    },
    "id": "RtgkM02MDpkO",
    "outputId": "96036409-8a68-4098-80c3-feba98bbcd0a"
   },
   "outputs": [
    {
     "name": "stdout",
     "output_type": "stream",
     "text": [
      "AI Modelshare Username:··········\n",
      "AI Modelshare Password:··········\n",
      "AI Model Share login credentials set successfully.\n"
     ]
    }
   ],
   "source": [
    "#Set credentials using modelshare.org username/password\n",
    "\n",
    "from aimodelshare.aws import set_credentials\n",
    "\n",
    "# Note -- This is the unique rest api that powers this flower classification Model Plaground\n",
    "# ... Update the apiurl if submitting to a new competition\n",
    "\n",
    "apiurl=\"https://baow3dbru5.execute-api.us-east-1.amazonaws.com/prod/m\"\n",
    "set_credentials(apiurl=apiurl)"
   ]
  },
  {
   "cell_type": "code",
   "execution_count": 12,
   "metadata": {
    "id": "fKNGSww8EGgi"
   },
   "outputs": [],
   "source": [
    "#Instantiate Competition\n",
    "\n",
    "mycompetition= ai.Competition(apiurl)"
   ]
  },
  {
   "cell_type": "code",
   "execution_count": null,
   "metadata": {
    "id": "_Ql4wksyEUnP"
   },
   "outputs": [],
   "source": [
    "#Submit Model 1: \n",
    "\n",
    "#-- Generate predicted y values (Model 1)\n",
    "#Note: Keras predict returns the predicted column index location for classification models\n",
    "prediction_column_index=cnn1.predict(X_test).argmax(axis=1)\n",
    "\n",
    "# extract correct prediction labels \n",
    "prediction_labels = [y_train.columns[i] for i in prediction_column_index]\n",
    "\n",
    "# Submit Model 1 to Competition Leaderboard\n",
    "mycompetition.submit_model(model_filepath = \"model.onnx\",\n",
    "                                 preprocessor_filepath=\"preprocessor.zip\",\n",
    "                                 prediction_submission=prediction_labels)"
   ]
  },
  {
   "cell_type": "code",
   "execution_count": 14,
   "metadata": {
    "colab": {
     "base_uri": "https://localhost:8080/",
     "height": 100
    },
    "id": "GN1zvAmNEq17",
    "outputId": "ee842d9c-3c4c-4ffb-c329-914b1930d725"
   },
   "outputs": [
    {
     "data": {
      "text/html": [
       "<style type=\"text/css\">\n",
       "#T_4cad0_row0_col0 {\n",
       "  text-align: center;\n",
       "  width: 10em;\n",
       "  background: linear-gradient(90deg, #f5f8d6 42.8%, transparent 42.8%);\n",
       "  color: #251e1b;\n",
       "  font-size: 12px;\n",
       "}\n",
       "#T_4cad0_row0_col1 {\n",
       "  text-align: center;\n",
       "  width: 10em;\n",
       "  background: linear-gradient(90deg, #c778c8 39.0%, transparent 39.0%);\n",
       "  color: #251e1b;\n",
       "  font-size: 12px;\n",
       "}\n",
       "#T_4cad0_row0_col2 {\n",
       "  text-align: center;\n",
       "  width: 10em;\n",
       "  background: linear-gradient(90deg, #ff4971 37.3%, transparent 37.3%);\n",
       "  color: #251e1b;\n",
       "  font-size: 12px;\n",
       "}\n",
       "#T_4cad0_row0_col3 {\n",
       "  text-align: center;\n",
       "  width: 10em;\n",
       "  background: linear-gradient(90deg, #aadbaa 45.0%, transparent 45.0%);\n",
       "  color: #251e1b;\n",
       "  font-size: 12px;\n",
       "}\n",
       "#T_4cad0_row0_col4, #T_4cad0_row0_col5, #T_4cad0_row0_col6, #T_4cad0_row0_col7, #T_4cad0_row0_col8, #T_4cad0_row0_col9, #T_4cad0_row0_col10, #T_4cad0_row0_col11, #T_4cad0_row0_col12, #T_4cad0_row0_col13, #T_4cad0_row0_col14, #T_4cad0_row0_col15, #T_4cad0_row0_col16, #T_4cad0_row0_col17, #T_4cad0_row0_col18, #T_4cad0_row0_col19, #T_4cad0_row0_col20, #T_4cad0_row0_col21 {\n",
       "  text-align: center;\n",
       "}\n",
       "</style>\n",
       "<table id=\"T_4cad0\" class=\"dataframe\">\n",
       "  <thead>\n",
       "    <tr>\n",
       "      <th class=\"blank level0\" >&nbsp;</th>\n",
       "      <th id=\"T_4cad0_level0_col0\" class=\"col_heading level0 col0\" >accuracy</th>\n",
       "      <th id=\"T_4cad0_level0_col1\" class=\"col_heading level0 col1\" >f1_score</th>\n",
       "      <th id=\"T_4cad0_level0_col2\" class=\"col_heading level0 col2\" >precision</th>\n",
       "      <th id=\"T_4cad0_level0_col3\" class=\"col_heading level0 col3\" >recall</th>\n",
       "      <th id=\"T_4cad0_level0_col4\" class=\"col_heading level0 col4\" >ml_framework</th>\n",
       "      <th id=\"T_4cad0_level0_col5\" class=\"col_heading level0 col5\" >transfer_learning</th>\n",
       "      <th id=\"T_4cad0_level0_col6\" class=\"col_heading level0 col6\" >deep_learning</th>\n",
       "      <th id=\"T_4cad0_level0_col7\" class=\"col_heading level0 col7\" >model_type</th>\n",
       "      <th id=\"T_4cad0_level0_col8\" class=\"col_heading level0 col8\" >depth</th>\n",
       "      <th id=\"T_4cad0_level0_col9\" class=\"col_heading level0 col9\" >num_params</th>\n",
       "      <th id=\"T_4cad0_level0_col10\" class=\"col_heading level0 col10\" >dense_layers</th>\n",
       "      <th id=\"T_4cad0_level0_col11\" class=\"col_heading level0 col11\" >conv2d_layers</th>\n",
       "      <th id=\"T_4cad0_level0_col12\" class=\"col_heading level0 col12\" >flatten_layers</th>\n",
       "      <th id=\"T_4cad0_level0_col13\" class=\"col_heading level0 col13\" >maxpooling2d_layers</th>\n",
       "      <th id=\"T_4cad0_level0_col14\" class=\"col_heading level0 col14\" >dropout_layers</th>\n",
       "      <th id=\"T_4cad0_level0_col15\" class=\"col_heading level0 col15\" >relu_act</th>\n",
       "      <th id=\"T_4cad0_level0_col16\" class=\"col_heading level0 col16\" >softmax_act</th>\n",
       "      <th id=\"T_4cad0_level0_col17\" class=\"col_heading level0 col17\" >loss</th>\n",
       "      <th id=\"T_4cad0_level0_col18\" class=\"col_heading level0 col18\" >optimizer</th>\n",
       "      <th id=\"T_4cad0_level0_col19\" class=\"col_heading level0 col19\" >memory_size</th>\n",
       "      <th id=\"T_4cad0_level0_col20\" class=\"col_heading level0 col20\" >username</th>\n",
       "      <th id=\"T_4cad0_level0_col21\" class=\"col_heading level0 col21\" >version</th>\n",
       "    </tr>\n",
       "  </thead>\n",
       "  <tbody>\n",
       "    <tr>\n",
       "      <th id=\"T_4cad0_level0_row0\" class=\"row_heading level0 row0\" >0</th>\n",
       "      <td id=\"T_4cad0_row0_col0\" class=\"data row0 col0\" >42.78%</td>\n",
       "      <td id=\"T_4cad0_row0_col1\" class=\"data row0 col1\" >39.01%</td>\n",
       "      <td id=\"T_4cad0_row0_col2\" class=\"data row0 col2\" >37.25%</td>\n",
       "      <td id=\"T_4cad0_row0_col3\" class=\"data row0 col3\" >45.00%</td>\n",
       "      <td id=\"T_4cad0_row0_col4\" class=\"data row0 col4\" >keras</td>\n",
       "      <td id=\"T_4cad0_row0_col5\" class=\"data row0 col5\" >False</td>\n",
       "      <td id=\"T_4cad0_row0_col6\" class=\"data row0 col6\" >True</td>\n",
       "      <td id=\"T_4cad0_row0_col7\" class=\"data row0 col7\" >Sequential</td>\n",
       "      <td id=\"T_4cad0_row0_col8\" class=\"data row0 col8\" >11</td>\n",
       "      <td id=\"T_4cad0_row0_col9\" class=\"data row0 col9\" >1850913</td>\n",
       "      <td id=\"T_4cad0_row0_col10\" class=\"data row0 col10\" >2</td>\n",
       "      <td id=\"T_4cad0_row0_col11\" class=\"data row0 col11\" >4</td>\n",
       "      <td id=\"T_4cad0_row0_col12\" class=\"data row0 col12\" >1</td>\n",
       "      <td id=\"T_4cad0_row0_col13\" class=\"data row0 col13\" >2</td>\n",
       "      <td id=\"T_4cad0_row0_col14\" class=\"data row0 col14\" >2</td>\n",
       "      <td id=\"T_4cad0_row0_col15\" class=\"data row0 col15\" >5</td>\n",
       "      <td id=\"T_4cad0_row0_col16\" class=\"data row0 col16\" >1</td>\n",
       "      <td id=\"T_4cad0_row0_col17\" class=\"data row0 col17\" >str</td>\n",
       "      <td id=\"T_4cad0_row0_col18\" class=\"data row0 col18\" >RMSprop</td>\n",
       "      <td id=\"T_4cad0_row0_col19\" class=\"data row0 col19\" >7405424</td>\n",
       "      <td id=\"T_4cad0_row0_col20\" class=\"data row0 col20\" >IEOR_Data_Mining</td>\n",
       "      <td id=\"T_4cad0_row0_col21\" class=\"data row0 col21\" >1</td>\n",
       "    </tr>\n",
       "  </tbody>\n",
       "</table>\n"
      ],
      "text/plain": [
       "<pandas.io.formats.style.Styler at 0x7fd286383070>"
      ]
     },
     "execution_count": 14,
     "metadata": {},
     "output_type": "execute_result"
    }
   ],
   "source": [
    "# Get leaderboard to explore current best model architectures\n",
    "\n",
    "# Get raw data in pandas data frame\n",
    "data = mycompetition.get_leaderboard()\n",
    "\n",
    "# Stylize leaderboard data\n",
    "mycompetition.stylize_leaderboard(data)"
   ]
  },
  {
   "cell_type": "markdown",
   "metadata": {
    "id": "bwNKs0wP4r5s"
   },
   "source": [
    "## 5. Repeat submission process to improve place on leaderboard\n"
   ]
  },
  {
   "cell_type": "code",
   "execution_count": 15,
   "metadata": {
    "colab": {
     "base_uri": "https://localhost:8080/"
    },
    "id": "FgSs5PAtPCZH",
    "outputId": "6e762bdc-45ef-4261-affa-e7450d8ba940"
   },
   "outputs": [
    {
     "name": "stdout",
     "output_type": "stream",
     "text": [
      "74/74 [==============================] - 344s 5s/step - loss: 7.2633 - accuracy: 0.4740 - val_loss: 10.9722 - val_accuracy: 0.0000e+00\n"
     ]
    }
   ],
   "source": [
    "# Train and submit model 2 using same preprocessor (note that you could save a new preprocessor, but we will use the same one for this example).\n",
    "\n",
    "with tf.device('/device:GPU:0'): # \"/GPU:0\": Short-hand notation for the first GPU of your machine that is visible to TensorFlow.\n",
    "      cnn2 = Sequential()\n",
    "      cnn2.add(Dense(64,  input_shape=(192, 192, 3), activation='relu'))\n",
    "      cnn2.add(Dense(64, activation='relu'))\n",
    "      cnn2.add(Dense(64, activation='relu'))\n",
    "      cnn2.add(Flatten())\n",
    "      cnn2.add(Dense(5, activation='softmax')) \n",
    "                                                  \n",
    "      # Compile model\n",
    "      cnn2.compile(loss='categorical_crossentropy', optimizer='rmsprop', metrics=['accuracy'])\n",
    "\n",
    "      # Fitting the NN to the Training set\n",
    "      cnn2.fit(X_train, y_train, \n",
    "                    epochs = 1, verbose=1, validation_split=.2)"
   ]
  },
  {
   "cell_type": "code",
   "execution_count": 16,
   "metadata": {
    "id": "aIdmSpYVPYAw"
   },
   "outputs": [],
   "source": [
    "# Save keras model to local ONNX file\n",
    "from aimodelshare.aimsonnx import model_to_onnx\n",
    "\n",
    "onnx_model = model_to_onnx(cnn2, framework='keras',\n",
    "                          transfer_learning=False,\n",
    "                          deep_learning=True)\n",
    "\n",
    "with open(\"model2.onnx\", \"wb\") as f:\n",
    "    f.write(onnx_model.SerializeToString())"
   ]
  },
  {
   "cell_type": "code",
   "execution_count": null,
   "metadata": {
    "id": "nszPPrfwPlUk"
   },
   "outputs": [],
   "source": [
    "#Submit Model 2: \n",
    "\n",
    "#-- Generate predicted y values (Model 2)\n",
    "prediction_column_index=cnn2.predict(X_test).argmax(axis=1)\n",
    "\n",
    "# extract correct prediction labels \n",
    "prediction_labels = [y_train.columns[i] for i in prediction_column_index]\n",
    "\n",
    "# Submit Model 2 to Competition Leaderboard\n",
    "mycompetition.submit_model(model_filepath = \"model2.onnx\",\n",
    "                                 preprocessor_filepath=\"preprocessor.zip\",\n",
    "                                 prediction_submission=prediction_labels)"
   ]
  },
  {
   "cell_type": "code",
   "execution_count": 18,
   "metadata": {
    "colab": {
     "base_uri": "https://localhost:8080/",
     "height": 332
    },
    "id": "qLl7yLpVEx26",
    "outputId": "a818127c-84c2-43d8-adf9-90570d143912"
   },
   "outputs": [
    {
     "name": "stderr",
     "output_type": "stream",
     "text": [
      "/usr/local/lib/python3.9/dist-packages/aimodelshare/aimsonnx.py:1242: FutureWarning: this method is deprecated in favour of `Styler.to_html()`\n",
      "  display(HTML(df_styled.render()))\n"
     ]
    },
    {
     "data": {
      "text/html": [
       "<style type=\"text/css\">\n",
       "#T_88e77 caption {\n",
       "  color: black;\n",
       "  font-size: 18px;\n",
       "}\n",
       "#T_88e77_row0_col0, #T_88e77_row1_col0, #T_88e77_row3_col0, #T_88e77_row4_col0 {\n",
       "  background: #fdcdac;\n",
       "  color: black;\n",
       "  color: black;\n",
       "}\n",
       "#T_88e77_row0_col1, #T_88e77_row0_col2, #T_88e77_row0_col4, #T_88e77_row0_col5, #T_88e77_row1_col1, #T_88e77_row1_col2, #T_88e77_row1_col4, #T_88e77_row1_col5, #T_88e77_row2_col1, #T_88e77_row2_col2, #T_88e77_row2_col4, #T_88e77_row2_col5, #T_88e77_row3_col1, #T_88e77_row3_col2, #T_88e77_row3_col4, #T_88e77_row3_col5, #T_88e77_row4_col1, #T_88e77_row4_col2, #T_88e77_row4_col4, #T_88e77_row4_col5, #T_88e77_row5_col1, #T_88e77_row5_col2, #T_88e77_row5_col3, #T_88e77_row5_col4, #T_88e77_row5_col5, #T_88e77_row6_col1, #T_88e77_row6_col2, #T_88e77_row6_col3, #T_88e77_row6_col4, #T_88e77_row6_col5, #T_88e77_row7_col1, #T_88e77_row7_col2, #T_88e77_row7_col3, #T_88e77_row7_col4, #T_88e77_row7_col5, #T_88e77_row8_col1, #T_88e77_row8_col2, #T_88e77_row8_col3, #T_88e77_row8_col4, #T_88e77_row8_col5, #T_88e77_row9_col1, #T_88e77_row9_col2, #T_88e77_row9_col3, #T_88e77_row9_col4, #T_88e77_row9_col5, #T_88e77_row10_col1, #T_88e77_row10_col2, #T_88e77_row10_col3, #T_88e77_row10_col4, #T_88e77_row10_col5 {\n",
       "  background: white;\n",
       "  color: black;\n",
       "  color: black;\n",
       "}\n",
       "#T_88e77_row0_col3, #T_88e77_row1_col3, #T_88e77_row2_col3, #T_88e77_row4_col3, #T_88e77_row8_col0, #T_88e77_row10_col0 {\n",
       "  background: #fff2ae;\n",
       "  color: black;\n",
       "  color: black;\n",
       "}\n",
       "#T_88e77_row2_col0, #T_88e77_row5_col0 {\n",
       "  background: #e6f5c9;\n",
       "  color: black;\n",
       "  color: black;\n",
       "}\n",
       "#T_88e77_row3_col3, #T_88e77_row7_col0 {\n",
       "  background: nan;\n",
       "  color: black;\n",
       "  color: black;\n",
       "}\n",
       "#T_88e77_row6_col0, #T_88e77_row9_col0 {\n",
       "  background: #cbd5e8;\n",
       "  color: black;\n",
       "  color: black;\n",
       "}\n",
       "</style>\n",
       "<table id=\"T_88e77\">\n",
       "  <caption>Model type: Neural Network</caption>\n",
       "  <thead>\n",
       "    <tr>\n",
       "      <th class=\"blank level0\" >&nbsp;</th>\n",
       "      <th id=\"T_88e77_level0_col0\" class=\"col_heading level0 col0\" >Model_1_Layer</th>\n",
       "      <th id=\"T_88e77_level0_col1\" class=\"col_heading level0 col1\" >Model_1_Shape</th>\n",
       "      <th id=\"T_88e77_level0_col2\" class=\"col_heading level0 col2\" >Model_1_Params</th>\n",
       "      <th id=\"T_88e77_level0_col3\" class=\"col_heading level0 col3\" >Model_2_Layer</th>\n",
       "      <th id=\"T_88e77_level0_col4\" class=\"col_heading level0 col4\" >Model_2_Shape</th>\n",
       "      <th id=\"T_88e77_level0_col5\" class=\"col_heading level0 col5\" >Model_2_Params</th>\n",
       "    </tr>\n",
       "  </thead>\n",
       "  <tbody>\n",
       "    <tr>\n",
       "      <th id=\"T_88e77_level0_row0\" class=\"row_heading level0 row0\" >0</th>\n",
       "      <td id=\"T_88e77_row0_col0\" class=\"data row0 col0\" >Conv2D</td>\n",
       "      <td id=\"T_88e77_row0_col1\" class=\"data row0 col1\" >[None, 192, 192, 16]</td>\n",
       "      <td id=\"T_88e77_row0_col2\" class=\"data row0 col2\" >448</td>\n",
       "      <td id=\"T_88e77_row0_col3\" class=\"data row0 col3\" >Dense</td>\n",
       "      <td id=\"T_88e77_row0_col4\" class=\"data row0 col4\" >[None, 192, 192, 64]</td>\n",
       "      <td id=\"T_88e77_row0_col5\" class=\"data row0 col5\" >256.000000</td>\n",
       "    </tr>\n",
       "    <tr>\n",
       "      <th id=\"T_88e77_level0_row1\" class=\"row_heading level0 row1\" >1</th>\n",
       "      <td id=\"T_88e77_row1_col0\" class=\"data row1 col0\" >Conv2D</td>\n",
       "      <td id=\"T_88e77_row1_col1\" class=\"data row1 col1\" >[None, 192, 192, 16]</td>\n",
       "      <td id=\"T_88e77_row1_col2\" class=\"data row1 col2\" >2320</td>\n",
       "      <td id=\"T_88e77_row1_col3\" class=\"data row1 col3\" >Dense</td>\n",
       "      <td id=\"T_88e77_row1_col4\" class=\"data row1 col4\" >[None, 192, 192, 64]</td>\n",
       "      <td id=\"T_88e77_row1_col5\" class=\"data row1 col5\" >4160.000000</td>\n",
       "    </tr>\n",
       "    <tr>\n",
       "      <th id=\"T_88e77_level0_row2\" class=\"row_heading level0 row2\" >2</th>\n",
       "      <td id=\"T_88e77_row2_col0\" class=\"data row2 col0\" >MaxPooling2D</td>\n",
       "      <td id=\"T_88e77_row2_col1\" class=\"data row2 col1\" >[None, 96, 96, 16]</td>\n",
       "      <td id=\"T_88e77_row2_col2\" class=\"data row2 col2\" >0</td>\n",
       "      <td id=\"T_88e77_row2_col3\" class=\"data row2 col3\" >Dense</td>\n",
       "      <td id=\"T_88e77_row2_col4\" class=\"data row2 col4\" >[None, 192, 192, 64]</td>\n",
       "      <td id=\"T_88e77_row2_col5\" class=\"data row2 col5\" >4160.000000</td>\n",
       "    </tr>\n",
       "    <tr>\n",
       "      <th id=\"T_88e77_level0_row3\" class=\"row_heading level0 row3\" >3</th>\n",
       "      <td id=\"T_88e77_row3_col0\" class=\"data row3 col0\" >Conv2D</td>\n",
       "      <td id=\"T_88e77_row3_col1\" class=\"data row3 col1\" >[None, 96, 96, 16]</td>\n",
       "      <td id=\"T_88e77_row3_col2\" class=\"data row3 col2\" >2320</td>\n",
       "      <td id=\"T_88e77_row3_col3\" class=\"data row3 col3\" >Flatten</td>\n",
       "      <td id=\"T_88e77_row3_col4\" class=\"data row3 col4\" >[None, 2359296]</td>\n",
       "      <td id=\"T_88e77_row3_col5\" class=\"data row3 col5\" >0.000000</td>\n",
       "    </tr>\n",
       "    <tr>\n",
       "      <th id=\"T_88e77_level0_row4\" class=\"row_heading level0 row4\" >4</th>\n",
       "      <td id=\"T_88e77_row4_col0\" class=\"data row4 col0\" >Conv2D</td>\n",
       "      <td id=\"T_88e77_row4_col1\" class=\"data row4 col1\" >[None, 96, 96, 16]</td>\n",
       "      <td id=\"T_88e77_row4_col2\" class=\"data row4 col2\" >2320</td>\n",
       "      <td id=\"T_88e77_row4_col3\" class=\"data row4 col3\" >Dense</td>\n",
       "      <td id=\"T_88e77_row4_col4\" class=\"data row4 col4\" >[None, 5]</td>\n",
       "      <td id=\"T_88e77_row4_col5\" class=\"data row4 col5\" >11796485.000000</td>\n",
       "    </tr>\n",
       "    <tr>\n",
       "      <th id=\"T_88e77_level0_row5\" class=\"row_heading level0 row5\" >5</th>\n",
       "      <td id=\"T_88e77_row5_col0\" class=\"data row5 col0\" >MaxPooling2D</td>\n",
       "      <td id=\"T_88e77_row5_col1\" class=\"data row5 col1\" >[None, 48, 48, 16]</td>\n",
       "      <td id=\"T_88e77_row5_col2\" class=\"data row5 col2\" >0</td>\n",
       "      <td id=\"T_88e77_row5_col3\" class=\"data row5 col3\" >None</td>\n",
       "      <td id=\"T_88e77_row5_col4\" class=\"data row5 col4\" >None</td>\n",
       "      <td id=\"T_88e77_row5_col5\" class=\"data row5 col5\" >nan</td>\n",
       "    </tr>\n",
       "    <tr>\n",
       "      <th id=\"T_88e77_level0_row6\" class=\"row_heading level0 row6\" >6</th>\n",
       "      <td id=\"T_88e77_row6_col0\" class=\"data row6 col0\" >Dropout</td>\n",
       "      <td id=\"T_88e77_row6_col1\" class=\"data row6 col1\" >[None, 48, 48, 16]</td>\n",
       "      <td id=\"T_88e77_row6_col2\" class=\"data row6 col2\" >0</td>\n",
       "      <td id=\"T_88e77_row6_col3\" class=\"data row6 col3\" >None</td>\n",
       "      <td id=\"T_88e77_row6_col4\" class=\"data row6 col4\" >None</td>\n",
       "      <td id=\"T_88e77_row6_col5\" class=\"data row6 col5\" >nan</td>\n",
       "    </tr>\n",
       "    <tr>\n",
       "      <th id=\"T_88e77_level0_row7\" class=\"row_heading level0 row7\" >7</th>\n",
       "      <td id=\"T_88e77_row7_col0\" class=\"data row7 col0\" >Flatten</td>\n",
       "      <td id=\"T_88e77_row7_col1\" class=\"data row7 col1\" >[None, 36864]</td>\n",
       "      <td id=\"T_88e77_row7_col2\" class=\"data row7 col2\" >0</td>\n",
       "      <td id=\"T_88e77_row7_col3\" class=\"data row7 col3\" >None</td>\n",
       "      <td id=\"T_88e77_row7_col4\" class=\"data row7 col4\" >None</td>\n",
       "      <td id=\"T_88e77_row7_col5\" class=\"data row7 col5\" >nan</td>\n",
       "    </tr>\n",
       "    <tr>\n",
       "      <th id=\"T_88e77_level0_row8\" class=\"row_heading level0 row8\" >8</th>\n",
       "      <td id=\"T_88e77_row8_col0\" class=\"data row8 col0\" >Dense</td>\n",
       "      <td id=\"T_88e77_row8_col1\" class=\"data row8 col1\" >[None, 50]</td>\n",
       "      <td id=\"T_88e77_row8_col2\" class=\"data row8 col2\" >1843250</td>\n",
       "      <td id=\"T_88e77_row8_col3\" class=\"data row8 col3\" >None</td>\n",
       "      <td id=\"T_88e77_row8_col4\" class=\"data row8 col4\" >None</td>\n",
       "      <td id=\"T_88e77_row8_col5\" class=\"data row8 col5\" >nan</td>\n",
       "    </tr>\n",
       "    <tr>\n",
       "      <th id=\"T_88e77_level0_row9\" class=\"row_heading level0 row9\" >9</th>\n",
       "      <td id=\"T_88e77_row9_col0\" class=\"data row9 col0\" >Dropout</td>\n",
       "      <td id=\"T_88e77_row9_col1\" class=\"data row9 col1\" >[None, 50]</td>\n",
       "      <td id=\"T_88e77_row9_col2\" class=\"data row9 col2\" >0</td>\n",
       "      <td id=\"T_88e77_row9_col3\" class=\"data row9 col3\" >None</td>\n",
       "      <td id=\"T_88e77_row9_col4\" class=\"data row9 col4\" >None</td>\n",
       "      <td id=\"T_88e77_row9_col5\" class=\"data row9 col5\" >nan</td>\n",
       "    </tr>\n",
       "    <tr>\n",
       "      <th id=\"T_88e77_level0_row10\" class=\"row_heading level0 row10\" >10</th>\n",
       "      <td id=\"T_88e77_row10_col0\" class=\"data row10 col0\" >Dense</td>\n",
       "      <td id=\"T_88e77_row10_col1\" class=\"data row10 col1\" >[None, 5]</td>\n",
       "      <td id=\"T_88e77_row10_col2\" class=\"data row10 col2\" >255</td>\n",
       "      <td id=\"T_88e77_row10_col3\" class=\"data row10 col3\" >None</td>\n",
       "      <td id=\"T_88e77_row10_col4\" class=\"data row10 col4\" >None</td>\n",
       "      <td id=\"T_88e77_row10_col5\" class=\"data row10 col5\" >nan</td>\n",
       "    </tr>\n",
       "  </tbody>\n",
       "</table>\n"
      ],
      "text/plain": [
       "<IPython.core.display.HTML object>"
      ]
     },
     "metadata": {},
     "output_type": "display_data"
    }
   ],
   "source": [
    "# Compare two or more models\n",
    "data=mycompetition.compare_models([1,2], verbose=1)\n",
    "mycompetition.stylize_compare(data)"
   ]
  },
  {
   "cell_type": "markdown",
   "metadata": {
    "id": "Pl67bOO-lz9k"
   },
   "source": [
    "## Optional: Tune model within range of hyperparameters with Keras Tuner\n",
    "\n",
    "*Simple example shown below. Consult [documentation](https://keras.io/guides/keras_tuner/getting_started/) to see full functionality.*"
   ]
  },
  {
   "cell_type": "code",
   "execution_count": null,
   "metadata": {
    "id": "MOGXwppct0KI"
   },
   "outputs": [],
   "source": [
    "! pip install keras_tuner"
   ]
  },
  {
   "cell_type": "code",
   "execution_count": 20,
   "metadata": {
    "id": "O7o_zA3fv-ra"
   },
   "outputs": [],
   "source": [
    "#Separate validation data \n",
    "from sklearn.model_selection import train_test_split\n",
    "x_train_split, x_val, y_train_split, y_val = train_test_split(\n",
    "     X_train, y_train, test_size=0.2, random_state=42)"
   ]
  },
  {
   "cell_type": "code",
   "execution_count": 21,
   "metadata": {
    "colab": {
     "base_uri": "https://localhost:8080/"
    },
    "id": "olzZ7aposfwH",
    "outputId": "ece831df-eb33-441d-8ee5-fb33593f24e6"
   },
   "outputs": [
    {
     "name": "stdout",
     "output_type": "stream",
     "text": [
      "Trial 2 Complete [00h 04m 25s]\n",
      "val_accuracy: 0.4285714328289032\n",
      "\n",
      "Best val_accuracy So Far: 0.5323129296302795\n",
      "Total elapsed time: 00h 08m 25s\n"
     ]
    }
   ],
   "source": [
    "import keras_tuner as kt\n",
    "import tensorflow as tf \n",
    "from tensorflow.keras.models import Sequential\n",
    "from tensorflow.keras.layers import Dense, Activation, Dropout, Flatten\n",
    "from tensorflow.keras.layers import Conv2D, MaxPooling2D\n",
    "from tensorflow.keras import regularizers\n",
    "\n",
    "#Define model structure & parameter search space with function\n",
    "def build_model(hp):\n",
    "    with tf.device('/device:GPU:0'): # \"/GPU:0\": Short-hand notation for the first GPU of your machine that is visible to TensorFlow.\n",
    "                                 \n",
    "        model = Sequential()\n",
    "        model.add(Conv2D(filters=16, kernel_size=3, padding='same', activation='relu', input_shape=[192, 192, 3]))\n",
    "        model.add(Conv2D(filters=16, kernel_size=3, padding='same', activation='relu', kernel_regularizer=regularizers.l2(l=0.01)))\n",
    "        model.add(MaxPooling2D(pool_size=2)) \n",
    "        model.add(Conv2D(filters=16, kernel_size=3, padding='same', activation='relu', kernel_regularizer=regularizers.l2(l=0.01)))\n",
    "        model.add(Conv2D(filters=hp.Int(\"filters\", min_value=8, max_value=32, step=8), #range 8-32 inclusive, minimum step between tested values is 8\n",
    "                         kernel_size=3, padding='same', activation='relu'))\n",
    "        model.add(MaxPooling2D(pool_size=2))\n",
    "        model.add(Dropout(0.3))\n",
    "        model.add(Flatten())\n",
    "        model.add(Dense(50, activation='relu'))\n",
    "        model.add(Dropout(0.2))\n",
    "        model.add(Dense(5, activation='softmax'))\n",
    "\n",
    "        # Compile model...\n",
    "        model.compile(loss='categorical_crossentropy', optimizer='rmsprop', metrics=['accuracy'])\n",
    "\n",
    "        return model \n",
    "\n",
    "#initialize the tuner (which will search through parameters)\n",
    "tuner = kt.RandomSearch(\n",
    "    hypermodel=build_model, \n",
    "    objective=\"val_accuracy\", # objective to optimize\n",
    "    max_trials=2, #max number of trials to run during search\n",
    "    executions_per_trial=1, #higher number reduces variance of results; guages model performance more accurately \n",
    "    overwrite=True,\n",
    "    directory=\"tuning_model\",\n",
    "    project_name=\"tuning_units\",\n",
    ")\n",
    "\n",
    "tuner.search(x_train_split, y_train_split, epochs=1, validation_data=(x_val, y_val))\n"
   ]
  },
  {
   "cell_type": "code",
   "execution_count": null,
   "metadata": {
    "colab": {
     "base_uri": "https://localhost:8080/"
    },
    "id": "0YaEbvJ2yND1",
    "outputId": "23764b68-c66f-496c-a3b7-a340e0fdf84f"
   },
   "outputs": [
    {
     "name": "stdout",
     "output_type": "stream",
     "text": [
      "45/92 [=============>................] - ETA: 2:12 - loss: 1.8901 - accuracy: 0.3014"
     ]
    }
   ],
   "source": [
    "# Build model with best hyperparameters\n",
    "\n",
    "# Get the top 2 hyperparameters.\n",
    "best_hps = tuner.get_best_hyperparameters(5)\n",
    "# Build the model with the best hp.\n",
    "tuned_model = build_model(best_hps[0])\n",
    "# Fit with the entire dataset.\n",
    "tuned_model.fit(x=X_train, y=y_train, epochs=1)\n"
   ]
  },
  {
   "cell_type": "code",
   "execution_count": null,
   "metadata": {
    "id": "HvLuIvOjHLH2"
   },
   "outputs": [],
   "source": [
    "# Save keras model to local ONNX file\n",
    "from aimodelshare.aimsonnx import model_to_onnx\n",
    "\n",
    "onnx_model = model_to_onnx(tuned_model, framework='keras',\n",
    "                          transfer_learning=False,\n",
    "                          deep_learning=True)\n",
    "\n",
    "with open(\"tuned_model.onnx\", \"wb\") as f:\n",
    "    f.write(onnx_model.SerializeToString())"
   ]
  },
  {
   "cell_type": "code",
   "execution_count": null,
   "metadata": {
    "id": "sMidHABfHVN7"
   },
   "outputs": [],
   "source": [
    "#Submit Model 3: \n",
    "\n",
    "#-- Generate predicted y values (Model 3)\n",
    "prediction_column_index=tuned_model.predict(X_test).argmax(axis=1)\n",
    "\n",
    "# extract correct prediction labels \n",
    "prediction_labels = [y_train.columns[i] for i in prediction_column_index]\n",
    "\n",
    "# Submit Model 3 to Competition Leaderboard\n",
    "mycompetition.submit_model(model_filepath = \"tuned_model.onnx\",\n",
    "                                 preprocessor_filepath=\"preprocessor.zip\",\n",
    "                                 prediction_submission=prediction_labels)"
   ]
  },
  {
   "cell_type": "code",
   "execution_count": 26,
   "metadata": {
    "colab": {
     "base_uri": "https://localhost:8080/",
     "height": 194
    },
    "id": "hn-Tp-zpJVGT",
    "outputId": "440921cd-d691-40b1-a649-b6c211d2f937"
   },
   "outputs": [
    {
     "data": {
      "text/html": [
       "<style type=\"text/css\">\n",
       "#T_d98fb_row0_col0, #T_d98fb_row1_col0 {\n",
       "  text-align: center;\n",
       "  width: 10em;\n",
       "  background: linear-gradient(90deg, #f5f8d6 48.5%, transparent 48.5%);\n",
       "  color: #251e1b;\n",
       "  font-size: 12px;\n",
       "}\n",
       "#T_d98fb_row0_col1, #T_d98fb_row1_col1 {\n",
       "  text-align: center;\n",
       "  width: 10em;\n",
       "  background: linear-gradient(90deg, #c778c8 47.4%, transparent 47.4%);\n",
       "  color: #251e1b;\n",
       "  font-size: 12px;\n",
       "}\n",
       "#T_d98fb_row0_col2, #T_d98fb_row1_col2 {\n",
       "  text-align: center;\n",
       "  width: 10em;\n",
       "  background: linear-gradient(90deg, #ff4971 54.8%, transparent 54.8%);\n",
       "  color: #251e1b;\n",
       "  font-size: 12px;\n",
       "}\n",
       "#T_d98fb_row0_col3, #T_d98fb_row1_col3 {\n",
       "  text-align: center;\n",
       "  width: 10em;\n",
       "  background: linear-gradient(90deg, #aadbaa 49.2%, transparent 49.2%);\n",
       "  color: #251e1b;\n",
       "  font-size: 12px;\n",
       "}\n",
       "#T_d98fb_row0_col4, #T_d98fb_row0_col5, #T_d98fb_row0_col6, #T_d98fb_row0_col7, #T_d98fb_row0_col8, #T_d98fb_row0_col9, #T_d98fb_row0_col10, #T_d98fb_row0_col11, #T_d98fb_row0_col12, #T_d98fb_row0_col13, #T_d98fb_row0_col14, #T_d98fb_row0_col15, #T_d98fb_row0_col16, #T_d98fb_row0_col17, #T_d98fb_row0_col18, #T_d98fb_row0_col19, #T_d98fb_row0_col20, #T_d98fb_row0_col21, #T_d98fb_row1_col4, #T_d98fb_row1_col5, #T_d98fb_row1_col6, #T_d98fb_row1_col7, #T_d98fb_row1_col8, #T_d98fb_row1_col9, #T_d98fb_row1_col10, #T_d98fb_row1_col11, #T_d98fb_row1_col12, #T_d98fb_row1_col13, #T_d98fb_row1_col14, #T_d98fb_row1_col15, #T_d98fb_row1_col16, #T_d98fb_row1_col17, #T_d98fb_row1_col18, #T_d98fb_row1_col19, #T_d98fb_row1_col20, #T_d98fb_row1_col21, #T_d98fb_row2_col4, #T_d98fb_row2_col5, #T_d98fb_row2_col6, #T_d98fb_row2_col7, #T_d98fb_row2_col8, #T_d98fb_row2_col9, #T_d98fb_row2_col10, #T_d98fb_row2_col11, #T_d98fb_row2_col12, #T_d98fb_row2_col13, #T_d98fb_row2_col14, #T_d98fb_row2_col15, #T_d98fb_row2_col16, #T_d98fb_row2_col17, #T_d98fb_row2_col18, #T_d98fb_row2_col19, #T_d98fb_row2_col20, #T_d98fb_row2_col21, #T_d98fb_row3_col4, #T_d98fb_row3_col5, #T_d98fb_row3_col6, #T_d98fb_row3_col7, #T_d98fb_row3_col8, #T_d98fb_row3_col9, #T_d98fb_row3_col10, #T_d98fb_row3_col11, #T_d98fb_row3_col12, #T_d98fb_row3_col13, #T_d98fb_row3_col14, #T_d98fb_row3_col15, #T_d98fb_row3_col16, #T_d98fb_row3_col17, #T_d98fb_row3_col18, #T_d98fb_row3_col19, #T_d98fb_row3_col20, #T_d98fb_row3_col21 {\n",
       "  text-align: center;\n",
       "}\n",
       "#T_d98fb_row2_col0 {\n",
       "  text-align: center;\n",
       "  width: 10em;\n",
       "  background: linear-gradient(90deg, #f5f8d6 42.8%, transparent 42.8%);\n",
       "  color: #251e1b;\n",
       "  font-size: 12px;\n",
       "}\n",
       "#T_d98fb_row2_col1 {\n",
       "  text-align: center;\n",
       "  width: 10em;\n",
       "  background: linear-gradient(90deg, #c778c8 39.0%, transparent 39.0%);\n",
       "  color: #251e1b;\n",
       "  font-size: 12px;\n",
       "}\n",
       "#T_d98fb_row2_col2 {\n",
       "  text-align: center;\n",
       "  width: 10em;\n",
       "  background: linear-gradient(90deg, #ff4971 37.3%, transparent 37.3%);\n",
       "  color: #251e1b;\n",
       "  font-size: 12px;\n",
       "}\n",
       "#T_d98fb_row2_col3 {\n",
       "  text-align: center;\n",
       "  width: 10em;\n",
       "  background: linear-gradient(90deg, #aadbaa 45.0%, transparent 45.0%);\n",
       "  color: #251e1b;\n",
       "  font-size: 12px;\n",
       "}\n",
       "#T_d98fb_row3_col0 {\n",
       "  text-align: center;\n",
       "  width: 10em;\n",
       "  background: linear-gradient(90deg, #f5f8d6 34.1%, transparent 34.1%);\n",
       "  color: #251e1b;\n",
       "  font-size: 12px;\n",
       "}\n",
       "#T_d98fb_row3_col1 {\n",
       "  text-align: center;\n",
       "  width: 10em;\n",
       "  background: linear-gradient(90deg, #c778c8 26.5%, transparent 26.5%);\n",
       "  color: #251e1b;\n",
       "  font-size: 12px;\n",
       "}\n",
       "#T_d98fb_row3_col2 {\n",
       "  text-align: center;\n",
       "  width: 10em;\n",
       "  background: linear-gradient(90deg, #ff4971 32.0%, transparent 32.0%);\n",
       "  color: #251e1b;\n",
       "  font-size: 12px;\n",
       "}\n",
       "#T_d98fb_row3_col3 {\n",
       "  text-align: center;\n",
       "  width: 10em;\n",
       "  background: linear-gradient(90deg, #aadbaa 34.4%, transparent 34.4%);\n",
       "  color: #251e1b;\n",
       "  font-size: 12px;\n",
       "}\n",
       "</style>\n",
       "<table id=\"T_d98fb\" class=\"dataframe\">\n",
       "  <thead>\n",
       "    <tr>\n",
       "      <th class=\"blank level0\" >&nbsp;</th>\n",
       "      <th id=\"T_d98fb_level0_col0\" class=\"col_heading level0 col0\" >accuracy</th>\n",
       "      <th id=\"T_d98fb_level0_col1\" class=\"col_heading level0 col1\" >f1_score</th>\n",
       "      <th id=\"T_d98fb_level0_col2\" class=\"col_heading level0 col2\" >precision</th>\n",
       "      <th id=\"T_d98fb_level0_col3\" class=\"col_heading level0 col3\" >recall</th>\n",
       "      <th id=\"T_d98fb_level0_col4\" class=\"col_heading level0 col4\" >ml_framework</th>\n",
       "      <th id=\"T_d98fb_level0_col5\" class=\"col_heading level0 col5\" >transfer_learning</th>\n",
       "      <th id=\"T_d98fb_level0_col6\" class=\"col_heading level0 col6\" >deep_learning</th>\n",
       "      <th id=\"T_d98fb_level0_col7\" class=\"col_heading level0 col7\" >model_type</th>\n",
       "      <th id=\"T_d98fb_level0_col8\" class=\"col_heading level0 col8\" >depth</th>\n",
       "      <th id=\"T_d98fb_level0_col9\" class=\"col_heading level0 col9\" >num_params</th>\n",
       "      <th id=\"T_d98fb_level0_col10\" class=\"col_heading level0 col10\" >dense_layers</th>\n",
       "      <th id=\"T_d98fb_level0_col11\" class=\"col_heading level0 col11\" >conv2d_layers</th>\n",
       "      <th id=\"T_d98fb_level0_col12\" class=\"col_heading level0 col12\" >flatten_layers</th>\n",
       "      <th id=\"T_d98fb_level0_col13\" class=\"col_heading level0 col13\" >maxpooling2d_layers</th>\n",
       "      <th id=\"T_d98fb_level0_col14\" class=\"col_heading level0 col14\" >dropout_layers</th>\n",
       "      <th id=\"T_d98fb_level0_col15\" class=\"col_heading level0 col15\" >relu_act</th>\n",
       "      <th id=\"T_d98fb_level0_col16\" class=\"col_heading level0 col16\" >softmax_act</th>\n",
       "      <th id=\"T_d98fb_level0_col17\" class=\"col_heading level0 col17\" >loss</th>\n",
       "      <th id=\"T_d98fb_level0_col18\" class=\"col_heading level0 col18\" >optimizer</th>\n",
       "      <th id=\"T_d98fb_level0_col19\" class=\"col_heading level0 col19\" >memory_size</th>\n",
       "      <th id=\"T_d98fb_level0_col20\" class=\"col_heading level0 col20\" >username</th>\n",
       "      <th id=\"T_d98fb_level0_col21\" class=\"col_heading level0 col21\" >version</th>\n",
       "    </tr>\n",
       "  </thead>\n",
       "  <tbody>\n",
       "    <tr>\n",
       "      <th id=\"T_d98fb_level0_row0\" class=\"row_heading level0 row0\" >0</th>\n",
       "      <td id=\"T_d98fb_row0_col0\" class=\"data row0 col0\" >48.50%</td>\n",
       "      <td id=\"T_d98fb_row0_col1\" class=\"data row0 col1\" >47.45%</td>\n",
       "      <td id=\"T_d98fb_row0_col2\" class=\"data row0 col2\" >54.79%</td>\n",
       "      <td id=\"T_d98fb_row0_col3\" class=\"data row0 col3\" >49.19%</td>\n",
       "      <td id=\"T_d98fb_row0_col4\" class=\"data row0 col4\" >keras</td>\n",
       "      <td id=\"T_d98fb_row0_col5\" class=\"data row0 col5\" >False</td>\n",
       "      <td id=\"T_d98fb_row0_col6\" class=\"data row0 col6\" >True</td>\n",
       "      <td id=\"T_d98fb_row0_col7\" class=\"data row0 col7\" >Sequential</td>\n",
       "      <td id=\"T_d98fb_row0_col8\" class=\"data row0 col8\" >11</td>\n",
       "      <td id=\"T_d98fb_row0_col9\" class=\"data row0 col9\" >2773673</td>\n",
       "      <td id=\"T_d98fb_row0_col10\" class=\"data row0 col10\" >2</td>\n",
       "      <td id=\"T_d98fb_row0_col11\" class=\"data row0 col11\" >4.000000</td>\n",
       "      <td id=\"T_d98fb_row0_col12\" class=\"data row0 col12\" >1</td>\n",
       "      <td id=\"T_d98fb_row0_col13\" class=\"data row0 col13\" >2.000000</td>\n",
       "      <td id=\"T_d98fb_row0_col14\" class=\"data row0 col14\" >2.000000</td>\n",
       "      <td id=\"T_d98fb_row0_col15\" class=\"data row0 col15\" >5</td>\n",
       "      <td id=\"T_d98fb_row0_col16\" class=\"data row0 col16\" >1</td>\n",
       "      <td id=\"T_d98fb_row0_col17\" class=\"data row0 col17\" >str</td>\n",
       "      <td id=\"T_d98fb_row0_col18\" class=\"data row0 col18\" >RMSprop</td>\n",
       "      <td id=\"T_d98fb_row0_col19\" class=\"data row0 col19\" >11096464</td>\n",
       "      <td id=\"T_d98fb_row0_col20\" class=\"data row0 col20\" >IEOR_Data_Mining</td>\n",
       "      <td id=\"T_d98fb_row0_col21\" class=\"data row0 col21\" >3</td>\n",
       "    </tr>\n",
       "    <tr>\n",
       "      <th id=\"T_d98fb_level0_row1\" class=\"row_heading level0 row1\" >1</th>\n",
       "      <td id=\"T_d98fb_row1_col0\" class=\"data row1 col0\" >48.50%</td>\n",
       "      <td id=\"T_d98fb_row1_col1\" class=\"data row1 col1\" >47.45%</td>\n",
       "      <td id=\"T_d98fb_row1_col2\" class=\"data row1 col2\" >54.79%</td>\n",
       "      <td id=\"T_d98fb_row1_col3\" class=\"data row1 col3\" >49.19%</td>\n",
       "      <td id=\"T_d98fb_row1_col4\" class=\"data row1 col4\" >keras</td>\n",
       "      <td id=\"T_d98fb_row1_col5\" class=\"data row1 col5\" >False</td>\n",
       "      <td id=\"T_d98fb_row1_col6\" class=\"data row1 col6\" >True</td>\n",
       "      <td id=\"T_d98fb_row1_col7\" class=\"data row1 col7\" >Sequential</td>\n",
       "      <td id=\"T_d98fb_row1_col8\" class=\"data row1 col8\" >11</td>\n",
       "      <td id=\"T_d98fb_row1_col9\" class=\"data row1 col9\" >2773673</td>\n",
       "      <td id=\"T_d98fb_row1_col10\" class=\"data row1 col10\" >2</td>\n",
       "      <td id=\"T_d98fb_row1_col11\" class=\"data row1 col11\" >4.000000</td>\n",
       "      <td id=\"T_d98fb_row1_col12\" class=\"data row1 col12\" >1</td>\n",
       "      <td id=\"T_d98fb_row1_col13\" class=\"data row1 col13\" >2.000000</td>\n",
       "      <td id=\"T_d98fb_row1_col14\" class=\"data row1 col14\" >2.000000</td>\n",
       "      <td id=\"T_d98fb_row1_col15\" class=\"data row1 col15\" >5</td>\n",
       "      <td id=\"T_d98fb_row1_col16\" class=\"data row1 col16\" >1</td>\n",
       "      <td id=\"T_d98fb_row1_col17\" class=\"data row1 col17\" >str</td>\n",
       "      <td id=\"T_d98fb_row1_col18\" class=\"data row1 col18\" >RMSprop</td>\n",
       "      <td id=\"T_d98fb_row1_col19\" class=\"data row1 col19\" >11096464</td>\n",
       "      <td id=\"T_d98fb_row1_col20\" class=\"data row1 col20\" >IEOR_Data_Mining</td>\n",
       "      <td id=\"T_d98fb_row1_col21\" class=\"data row1 col21\" >4</td>\n",
       "    </tr>\n",
       "    <tr>\n",
       "      <th id=\"T_d98fb_level0_row2\" class=\"row_heading level0 row2\" >2</th>\n",
       "      <td id=\"T_d98fb_row2_col0\" class=\"data row2 col0\" >42.78%</td>\n",
       "      <td id=\"T_d98fb_row2_col1\" class=\"data row2 col1\" >39.01%</td>\n",
       "      <td id=\"T_d98fb_row2_col2\" class=\"data row2 col2\" >37.25%</td>\n",
       "      <td id=\"T_d98fb_row2_col3\" class=\"data row2 col3\" >45.00%</td>\n",
       "      <td id=\"T_d98fb_row2_col4\" class=\"data row2 col4\" >keras</td>\n",
       "      <td id=\"T_d98fb_row2_col5\" class=\"data row2 col5\" >False</td>\n",
       "      <td id=\"T_d98fb_row2_col6\" class=\"data row2 col6\" >True</td>\n",
       "      <td id=\"T_d98fb_row2_col7\" class=\"data row2 col7\" >Sequential</td>\n",
       "      <td id=\"T_d98fb_row2_col8\" class=\"data row2 col8\" >11</td>\n",
       "      <td id=\"T_d98fb_row2_col9\" class=\"data row2 col9\" >1850913</td>\n",
       "      <td id=\"T_d98fb_row2_col10\" class=\"data row2 col10\" >2</td>\n",
       "      <td id=\"T_d98fb_row2_col11\" class=\"data row2 col11\" >4.000000</td>\n",
       "      <td id=\"T_d98fb_row2_col12\" class=\"data row2 col12\" >1</td>\n",
       "      <td id=\"T_d98fb_row2_col13\" class=\"data row2 col13\" >2.000000</td>\n",
       "      <td id=\"T_d98fb_row2_col14\" class=\"data row2 col14\" >2.000000</td>\n",
       "      <td id=\"T_d98fb_row2_col15\" class=\"data row2 col15\" >5</td>\n",
       "      <td id=\"T_d98fb_row2_col16\" class=\"data row2 col16\" >1</td>\n",
       "      <td id=\"T_d98fb_row2_col17\" class=\"data row2 col17\" >str</td>\n",
       "      <td id=\"T_d98fb_row2_col18\" class=\"data row2 col18\" >RMSprop</td>\n",
       "      <td id=\"T_d98fb_row2_col19\" class=\"data row2 col19\" >7405424</td>\n",
       "      <td id=\"T_d98fb_row2_col20\" class=\"data row2 col20\" >IEOR_Data_Mining</td>\n",
       "      <td id=\"T_d98fb_row2_col21\" class=\"data row2 col21\" >1</td>\n",
       "    </tr>\n",
       "    <tr>\n",
       "      <th id=\"T_d98fb_level0_row3\" class=\"row_heading level0 row3\" >3</th>\n",
       "      <td id=\"T_d98fb_row3_col0\" class=\"data row3 col0\" >34.06%</td>\n",
       "      <td id=\"T_d98fb_row3_col1\" class=\"data row3 col1\" >26.50%</td>\n",
       "      <td id=\"T_d98fb_row3_col2\" class=\"data row3 col2\" >31.96%</td>\n",
       "      <td id=\"T_d98fb_row3_col3\" class=\"data row3 col3\" >34.42%</td>\n",
       "      <td id=\"T_d98fb_row3_col4\" class=\"data row3 col4\" >keras</td>\n",
       "      <td id=\"T_d98fb_row3_col5\" class=\"data row3 col5\" >False</td>\n",
       "      <td id=\"T_d98fb_row3_col6\" class=\"data row3 col6\" >True</td>\n",
       "      <td id=\"T_d98fb_row3_col7\" class=\"data row3 col7\" >Sequential</td>\n",
       "      <td id=\"T_d98fb_row3_col8\" class=\"data row3 col8\" >5</td>\n",
       "      <td id=\"T_d98fb_row3_col9\" class=\"data row3 col9\" >11805061</td>\n",
       "      <td id=\"T_d98fb_row3_col10\" class=\"data row3 col10\" >4</td>\n",
       "      <td id=\"T_d98fb_row3_col11\" class=\"data row3 col11\" >nan</td>\n",
       "      <td id=\"T_d98fb_row3_col12\" class=\"data row3 col12\" >1</td>\n",
       "      <td id=\"T_d98fb_row3_col13\" class=\"data row3 col13\" >nan</td>\n",
       "      <td id=\"T_d98fb_row3_col14\" class=\"data row3 col14\" >nan</td>\n",
       "      <td id=\"T_d98fb_row3_col15\" class=\"data row3 col15\" >3</td>\n",
       "      <td id=\"T_d98fb_row3_col16\" class=\"data row3 col16\" >1</td>\n",
       "      <td id=\"T_d98fb_row3_col17\" class=\"data row3 col17\" >str</td>\n",
       "      <td id=\"T_d98fb_row3_col18\" class=\"data row3 col18\" >RMSprop</td>\n",
       "      <td id=\"T_d98fb_row3_col19\" class=\"data row3 col19\" >47221344</td>\n",
       "      <td id=\"T_d98fb_row3_col20\" class=\"data row3 col20\" >IEOR_Data_Mining</td>\n",
       "      <td id=\"T_d98fb_row3_col21\" class=\"data row3 col21\" >2</td>\n",
       "    </tr>\n",
       "  </tbody>\n",
       "</table>\n"
      ],
      "text/plain": [
       "<pandas.io.formats.style.Styler at 0x7fd276b46e50>"
      ]
     },
     "execution_count": 26,
     "metadata": {},
     "output_type": "execute_result"
    }
   ],
   "source": [
    "# Get leaderboard\n",
    "\n",
    "data = mycompetition.get_leaderboard()\n",
    "mycompetition.stylize_leaderboard(data)"
   ]
  },
  {
   "cell_type": "code",
   "execution_count": 29,
   "metadata": {
    "colab": {
     "base_uri": "https://localhost:8080/",
     "height": 332
    },
    "id": "MKvPKyb7hT0h",
    "outputId": "ac3cc4d3-e099-49b9-e2ae-7ce95f286734"
   },
   "outputs": [
    {
     "name": "stderr",
     "output_type": "stream",
     "text": [
      "/usr/local/lib/python3.9/dist-packages/aimodelshare/aimsonnx.py:1242: FutureWarning: this method is deprecated in favour of `Styler.to_html()`\n",
      "  display(HTML(df_styled.render()))\n"
     ]
    },
    {
     "data": {
      "text/html": [
       "<style type=\"text/css\">\n",
       "#T_4b3b9 caption {\n",
       "  color: black;\n",
       "  font-size: 18px;\n",
       "}\n",
       "#T_4b3b9_row0_col0, #T_4b3b9_row0_col6, #T_4b3b9_row1_col0, #T_4b3b9_row1_col6, #T_4b3b9_row3_col0, #T_4b3b9_row3_col6, #T_4b3b9_row4_col0, #T_4b3b9_row4_col6 {\n",
       "  background: #fdcdac;\n",
       "  color: black;\n",
       "  color: black;\n",
       "}\n",
       "#T_4b3b9_row0_col1, #T_4b3b9_row0_col2, #T_4b3b9_row0_col4, #T_4b3b9_row0_col5, #T_4b3b9_row0_col7, #T_4b3b9_row0_col8, #T_4b3b9_row1_col1, #T_4b3b9_row1_col2, #T_4b3b9_row1_col4, #T_4b3b9_row1_col5, #T_4b3b9_row1_col7, #T_4b3b9_row1_col8, #T_4b3b9_row2_col1, #T_4b3b9_row2_col2, #T_4b3b9_row2_col4, #T_4b3b9_row2_col5, #T_4b3b9_row2_col7, #T_4b3b9_row2_col8, #T_4b3b9_row3_col1, #T_4b3b9_row3_col2, #T_4b3b9_row3_col4, #T_4b3b9_row3_col5, #T_4b3b9_row3_col7, #T_4b3b9_row3_col8, #T_4b3b9_row4_col1, #T_4b3b9_row4_col2, #T_4b3b9_row4_col4, #T_4b3b9_row4_col5, #T_4b3b9_row4_col7, #T_4b3b9_row4_col8, #T_4b3b9_row5_col1, #T_4b3b9_row5_col2, #T_4b3b9_row5_col3, #T_4b3b9_row5_col4, #T_4b3b9_row5_col5, #T_4b3b9_row5_col7, #T_4b3b9_row5_col8, #T_4b3b9_row6_col1, #T_4b3b9_row6_col2, #T_4b3b9_row6_col3, #T_4b3b9_row6_col4, #T_4b3b9_row6_col5, #T_4b3b9_row6_col7, #T_4b3b9_row6_col8, #T_4b3b9_row7_col1, #T_4b3b9_row7_col2, #T_4b3b9_row7_col3, #T_4b3b9_row7_col4, #T_4b3b9_row7_col5, #T_4b3b9_row7_col7, #T_4b3b9_row7_col8, #T_4b3b9_row8_col1, #T_4b3b9_row8_col2, #T_4b3b9_row8_col3, #T_4b3b9_row8_col4, #T_4b3b9_row8_col5, #T_4b3b9_row8_col7, #T_4b3b9_row8_col8, #T_4b3b9_row9_col1, #T_4b3b9_row9_col2, #T_4b3b9_row9_col3, #T_4b3b9_row9_col4, #T_4b3b9_row9_col5, #T_4b3b9_row9_col7, #T_4b3b9_row9_col8, #T_4b3b9_row10_col1, #T_4b3b9_row10_col2, #T_4b3b9_row10_col3, #T_4b3b9_row10_col4, #T_4b3b9_row10_col5, #T_4b3b9_row10_col7, #T_4b3b9_row10_col8 {\n",
       "  background: white;\n",
       "  color: black;\n",
       "  color: black;\n",
       "}\n",
       "#T_4b3b9_row0_col3, #T_4b3b9_row1_col3, #T_4b3b9_row2_col3, #T_4b3b9_row4_col3, #T_4b3b9_row8_col0, #T_4b3b9_row8_col6, #T_4b3b9_row10_col0, #T_4b3b9_row10_col6 {\n",
       "  background: #fff2ae;\n",
       "  color: black;\n",
       "  color: black;\n",
       "}\n",
       "#T_4b3b9_row2_col0, #T_4b3b9_row2_col6, #T_4b3b9_row5_col0, #T_4b3b9_row5_col6 {\n",
       "  background: #e6f5c9;\n",
       "  color: black;\n",
       "  color: black;\n",
       "}\n",
       "#T_4b3b9_row3_col3, #T_4b3b9_row7_col0, #T_4b3b9_row7_col6 {\n",
       "  background: nan;\n",
       "  color: black;\n",
       "  color: black;\n",
       "}\n",
       "#T_4b3b9_row6_col0, #T_4b3b9_row6_col6, #T_4b3b9_row9_col0, #T_4b3b9_row9_col6 {\n",
       "  background: #cbd5e8;\n",
       "  color: black;\n",
       "  color: black;\n",
       "}\n",
       "</style>\n",
       "<table id=\"T_4b3b9\">\n",
       "  <caption>Model type: Neural Network</caption>\n",
       "  <thead>\n",
       "    <tr>\n",
       "      <th class=\"blank level0\" >&nbsp;</th>\n",
       "      <th id=\"T_4b3b9_level0_col0\" class=\"col_heading level0 col0\" >Model_1_Layer</th>\n",
       "      <th id=\"T_4b3b9_level0_col1\" class=\"col_heading level0 col1\" >Model_1_Shape</th>\n",
       "      <th id=\"T_4b3b9_level0_col2\" class=\"col_heading level0 col2\" >Model_1_Params</th>\n",
       "      <th id=\"T_4b3b9_level0_col3\" class=\"col_heading level0 col3\" >Model_2_Layer</th>\n",
       "      <th id=\"T_4b3b9_level0_col4\" class=\"col_heading level0 col4\" >Model_2_Shape</th>\n",
       "      <th id=\"T_4b3b9_level0_col5\" class=\"col_heading level0 col5\" >Model_2_Params</th>\n",
       "      <th id=\"T_4b3b9_level0_col6\" class=\"col_heading level0 col6\" >Model_3_Layer</th>\n",
       "      <th id=\"T_4b3b9_level0_col7\" class=\"col_heading level0 col7\" >Model_3_Shape</th>\n",
       "      <th id=\"T_4b3b9_level0_col8\" class=\"col_heading level0 col8\" >Model_3_Params</th>\n",
       "    </tr>\n",
       "  </thead>\n",
       "  <tbody>\n",
       "    <tr>\n",
       "      <th id=\"T_4b3b9_level0_row0\" class=\"row_heading level0 row0\" >0</th>\n",
       "      <td id=\"T_4b3b9_row0_col0\" class=\"data row0 col0\" >Conv2D</td>\n",
       "      <td id=\"T_4b3b9_row0_col1\" class=\"data row0 col1\" >[None, 192, 192, 16]</td>\n",
       "      <td id=\"T_4b3b9_row0_col2\" class=\"data row0 col2\" >448</td>\n",
       "      <td id=\"T_4b3b9_row0_col3\" class=\"data row0 col3\" >Dense</td>\n",
       "      <td id=\"T_4b3b9_row0_col4\" class=\"data row0 col4\" >[None, 192, 192, 64]</td>\n",
       "      <td id=\"T_4b3b9_row0_col5\" class=\"data row0 col5\" >256.000000</td>\n",
       "      <td id=\"T_4b3b9_row0_col6\" class=\"data row0 col6\" >Conv2D</td>\n",
       "      <td id=\"T_4b3b9_row0_col7\" class=\"data row0 col7\" >[None, 192, 192, 16]</td>\n",
       "      <td id=\"T_4b3b9_row0_col8\" class=\"data row0 col8\" >448</td>\n",
       "    </tr>\n",
       "    <tr>\n",
       "      <th id=\"T_4b3b9_level0_row1\" class=\"row_heading level0 row1\" >1</th>\n",
       "      <td id=\"T_4b3b9_row1_col0\" class=\"data row1 col0\" >Conv2D</td>\n",
       "      <td id=\"T_4b3b9_row1_col1\" class=\"data row1 col1\" >[None, 192, 192, 16]</td>\n",
       "      <td id=\"T_4b3b9_row1_col2\" class=\"data row1 col2\" >2320</td>\n",
       "      <td id=\"T_4b3b9_row1_col3\" class=\"data row1 col3\" >Dense</td>\n",
       "      <td id=\"T_4b3b9_row1_col4\" class=\"data row1 col4\" >[None, 192, 192, 64]</td>\n",
       "      <td id=\"T_4b3b9_row1_col5\" class=\"data row1 col5\" >4160.000000</td>\n",
       "      <td id=\"T_4b3b9_row1_col6\" class=\"data row1 col6\" >Conv2D</td>\n",
       "      <td id=\"T_4b3b9_row1_col7\" class=\"data row1 col7\" >[None, 192, 192, 16]</td>\n",
       "      <td id=\"T_4b3b9_row1_col8\" class=\"data row1 col8\" >2320</td>\n",
       "    </tr>\n",
       "    <tr>\n",
       "      <th id=\"T_4b3b9_level0_row2\" class=\"row_heading level0 row2\" >2</th>\n",
       "      <td id=\"T_4b3b9_row2_col0\" class=\"data row2 col0\" >MaxPooling2D</td>\n",
       "      <td id=\"T_4b3b9_row2_col1\" class=\"data row2 col1\" >[None, 96, 96, 16]</td>\n",
       "      <td id=\"T_4b3b9_row2_col2\" class=\"data row2 col2\" >0</td>\n",
       "      <td id=\"T_4b3b9_row2_col3\" class=\"data row2 col3\" >Dense</td>\n",
       "      <td id=\"T_4b3b9_row2_col4\" class=\"data row2 col4\" >[None, 192, 192, 64]</td>\n",
       "      <td id=\"T_4b3b9_row2_col5\" class=\"data row2 col5\" >4160.000000</td>\n",
       "      <td id=\"T_4b3b9_row2_col6\" class=\"data row2 col6\" >MaxPooling2D</td>\n",
       "      <td id=\"T_4b3b9_row2_col7\" class=\"data row2 col7\" >[None, 96, 96, 16]</td>\n",
       "      <td id=\"T_4b3b9_row2_col8\" class=\"data row2 col8\" >0</td>\n",
       "    </tr>\n",
       "    <tr>\n",
       "      <th id=\"T_4b3b9_level0_row3\" class=\"row_heading level0 row3\" >3</th>\n",
       "      <td id=\"T_4b3b9_row3_col0\" class=\"data row3 col0\" >Conv2D</td>\n",
       "      <td id=\"T_4b3b9_row3_col1\" class=\"data row3 col1\" >[None, 96, 96, 16]</td>\n",
       "      <td id=\"T_4b3b9_row3_col2\" class=\"data row3 col2\" >2320</td>\n",
       "      <td id=\"T_4b3b9_row3_col3\" class=\"data row3 col3\" >Flatten</td>\n",
       "      <td id=\"T_4b3b9_row3_col4\" class=\"data row3 col4\" >[None, 2359296]</td>\n",
       "      <td id=\"T_4b3b9_row3_col5\" class=\"data row3 col5\" >0.000000</td>\n",
       "      <td id=\"T_4b3b9_row3_col6\" class=\"data row3 col6\" >Conv2D</td>\n",
       "      <td id=\"T_4b3b9_row3_col7\" class=\"data row3 col7\" >[None, 96, 96, 16]</td>\n",
       "      <td id=\"T_4b3b9_row3_col8\" class=\"data row3 col8\" >2320</td>\n",
       "    </tr>\n",
       "    <tr>\n",
       "      <th id=\"T_4b3b9_level0_row4\" class=\"row_heading level0 row4\" >4</th>\n",
       "      <td id=\"T_4b3b9_row4_col0\" class=\"data row4 col0\" >Conv2D</td>\n",
       "      <td id=\"T_4b3b9_row4_col1\" class=\"data row4 col1\" >[None, 96, 96, 16]</td>\n",
       "      <td id=\"T_4b3b9_row4_col2\" class=\"data row4 col2\" >2320</td>\n",
       "      <td id=\"T_4b3b9_row4_col3\" class=\"data row4 col3\" >Dense</td>\n",
       "      <td id=\"T_4b3b9_row4_col4\" class=\"data row4 col4\" >[None, 5]</td>\n",
       "      <td id=\"T_4b3b9_row4_col5\" class=\"data row4 col5\" >11796485.000000</td>\n",
       "      <td id=\"T_4b3b9_row4_col6\" class=\"data row4 col6\" >Conv2D</td>\n",
       "      <td id=\"T_4b3b9_row4_col7\" class=\"data row4 col7\" >[None, 96, 96, 24]</td>\n",
       "      <td id=\"T_4b3b9_row4_col8\" class=\"data row4 col8\" >3480</td>\n",
       "    </tr>\n",
       "    <tr>\n",
       "      <th id=\"T_4b3b9_level0_row5\" class=\"row_heading level0 row5\" >5</th>\n",
       "      <td id=\"T_4b3b9_row5_col0\" class=\"data row5 col0\" >MaxPooling2D</td>\n",
       "      <td id=\"T_4b3b9_row5_col1\" class=\"data row5 col1\" >[None, 48, 48, 16]</td>\n",
       "      <td id=\"T_4b3b9_row5_col2\" class=\"data row5 col2\" >0</td>\n",
       "      <td id=\"T_4b3b9_row5_col3\" class=\"data row5 col3\" >None</td>\n",
       "      <td id=\"T_4b3b9_row5_col4\" class=\"data row5 col4\" >None</td>\n",
       "      <td id=\"T_4b3b9_row5_col5\" class=\"data row5 col5\" >nan</td>\n",
       "      <td id=\"T_4b3b9_row5_col6\" class=\"data row5 col6\" >MaxPooling2D</td>\n",
       "      <td id=\"T_4b3b9_row5_col7\" class=\"data row5 col7\" >[None, 48, 48, 24]</td>\n",
       "      <td id=\"T_4b3b9_row5_col8\" class=\"data row5 col8\" >0</td>\n",
       "    </tr>\n",
       "    <tr>\n",
       "      <th id=\"T_4b3b9_level0_row6\" class=\"row_heading level0 row6\" >6</th>\n",
       "      <td id=\"T_4b3b9_row6_col0\" class=\"data row6 col0\" >Dropout</td>\n",
       "      <td id=\"T_4b3b9_row6_col1\" class=\"data row6 col1\" >[None, 48, 48, 16]</td>\n",
       "      <td id=\"T_4b3b9_row6_col2\" class=\"data row6 col2\" >0</td>\n",
       "      <td id=\"T_4b3b9_row6_col3\" class=\"data row6 col3\" >None</td>\n",
       "      <td id=\"T_4b3b9_row6_col4\" class=\"data row6 col4\" >None</td>\n",
       "      <td id=\"T_4b3b9_row6_col5\" class=\"data row6 col5\" >nan</td>\n",
       "      <td id=\"T_4b3b9_row6_col6\" class=\"data row6 col6\" >Dropout</td>\n",
       "      <td id=\"T_4b3b9_row6_col7\" class=\"data row6 col7\" >[None, 48, 48, 24]</td>\n",
       "      <td id=\"T_4b3b9_row6_col8\" class=\"data row6 col8\" >0</td>\n",
       "    </tr>\n",
       "    <tr>\n",
       "      <th id=\"T_4b3b9_level0_row7\" class=\"row_heading level0 row7\" >7</th>\n",
       "      <td id=\"T_4b3b9_row7_col0\" class=\"data row7 col0\" >Flatten</td>\n",
       "      <td id=\"T_4b3b9_row7_col1\" class=\"data row7 col1\" >[None, 36864]</td>\n",
       "      <td id=\"T_4b3b9_row7_col2\" class=\"data row7 col2\" >0</td>\n",
       "      <td id=\"T_4b3b9_row7_col3\" class=\"data row7 col3\" >None</td>\n",
       "      <td id=\"T_4b3b9_row7_col4\" class=\"data row7 col4\" >None</td>\n",
       "      <td id=\"T_4b3b9_row7_col5\" class=\"data row7 col5\" >nan</td>\n",
       "      <td id=\"T_4b3b9_row7_col6\" class=\"data row7 col6\" >Flatten</td>\n",
       "      <td id=\"T_4b3b9_row7_col7\" class=\"data row7 col7\" >[None, 55296]</td>\n",
       "      <td id=\"T_4b3b9_row7_col8\" class=\"data row7 col8\" >0</td>\n",
       "    </tr>\n",
       "    <tr>\n",
       "      <th id=\"T_4b3b9_level0_row8\" class=\"row_heading level0 row8\" >8</th>\n",
       "      <td id=\"T_4b3b9_row8_col0\" class=\"data row8 col0\" >Dense</td>\n",
       "      <td id=\"T_4b3b9_row8_col1\" class=\"data row8 col1\" >[None, 50]</td>\n",
       "      <td id=\"T_4b3b9_row8_col2\" class=\"data row8 col2\" >1843250</td>\n",
       "      <td id=\"T_4b3b9_row8_col3\" class=\"data row8 col3\" >None</td>\n",
       "      <td id=\"T_4b3b9_row8_col4\" class=\"data row8 col4\" >None</td>\n",
       "      <td id=\"T_4b3b9_row8_col5\" class=\"data row8 col5\" >nan</td>\n",
       "      <td id=\"T_4b3b9_row8_col6\" class=\"data row8 col6\" >Dense</td>\n",
       "      <td id=\"T_4b3b9_row8_col7\" class=\"data row8 col7\" >[None, 50]</td>\n",
       "      <td id=\"T_4b3b9_row8_col8\" class=\"data row8 col8\" >2764850</td>\n",
       "    </tr>\n",
       "    <tr>\n",
       "      <th id=\"T_4b3b9_level0_row9\" class=\"row_heading level0 row9\" >9</th>\n",
       "      <td id=\"T_4b3b9_row9_col0\" class=\"data row9 col0\" >Dropout</td>\n",
       "      <td id=\"T_4b3b9_row9_col1\" class=\"data row9 col1\" >[None, 50]</td>\n",
       "      <td id=\"T_4b3b9_row9_col2\" class=\"data row9 col2\" >0</td>\n",
       "      <td id=\"T_4b3b9_row9_col3\" class=\"data row9 col3\" >None</td>\n",
       "      <td id=\"T_4b3b9_row9_col4\" class=\"data row9 col4\" >None</td>\n",
       "      <td id=\"T_4b3b9_row9_col5\" class=\"data row9 col5\" >nan</td>\n",
       "      <td id=\"T_4b3b9_row9_col6\" class=\"data row9 col6\" >Dropout</td>\n",
       "      <td id=\"T_4b3b9_row9_col7\" class=\"data row9 col7\" >[None, 50]</td>\n",
       "      <td id=\"T_4b3b9_row9_col8\" class=\"data row9 col8\" >0</td>\n",
       "    </tr>\n",
       "    <tr>\n",
       "      <th id=\"T_4b3b9_level0_row10\" class=\"row_heading level0 row10\" >10</th>\n",
       "      <td id=\"T_4b3b9_row10_col0\" class=\"data row10 col0\" >Dense</td>\n",
       "      <td id=\"T_4b3b9_row10_col1\" class=\"data row10 col1\" >[None, 5]</td>\n",
       "      <td id=\"T_4b3b9_row10_col2\" class=\"data row10 col2\" >255</td>\n",
       "      <td id=\"T_4b3b9_row10_col3\" class=\"data row10 col3\" >None</td>\n",
       "      <td id=\"T_4b3b9_row10_col4\" class=\"data row10 col4\" >None</td>\n",
       "      <td id=\"T_4b3b9_row10_col5\" class=\"data row10 col5\" >nan</td>\n",
       "      <td id=\"T_4b3b9_row10_col6\" class=\"data row10 col6\" >Dense</td>\n",
       "      <td id=\"T_4b3b9_row10_col7\" class=\"data row10 col7\" >[None, 5]</td>\n",
       "      <td id=\"T_4b3b9_row10_col8\" class=\"data row10 col8\" >255</td>\n",
       "    </tr>\n",
       "  </tbody>\n",
       "</table>\n"
      ],
      "text/plain": [
       "<IPython.core.display.HTML object>"
      ]
     },
     "metadata": {},
     "output_type": "display_data"
    }
   ],
   "source": [
    "# Compare two or more models \n",
    "data=mycompetition.compare_models([1, 2, 3], verbose=1)\n",
    "mycompetition.stylize_compare(data)"
   ]
  }
 ],
 "metadata": {
  "colab": {
   "provenance": []
  },
  "kernelspec": {
   "display_name": "Python 3 (ipykernel)",
   "language": "python",
   "name": "python3"
  },
  "language_info": {
   "codemirror_mode": {
    "name": "ipython",
    "version": 3
   },
   "file_extension": ".py",
   "mimetype": "text/x-python",
   "name": "python",
   "nbconvert_exporter": "python",
   "pygments_lexer": "ipython3",
   "version": "3.10.9"
  }
 },
 "nbformat": 4,
 "nbformat_minor": 1
}
