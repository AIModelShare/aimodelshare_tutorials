{
  "nbformat": 4,
  "nbformat_minor": 0,
  "metadata": {
    "colab": {
      "name": "[CARS] Model Submission Guide - sklearn.ipynb",
      "provenance": [],
      "collapsed_sections": []
    },
    "kernelspec": {
      "name": "python3",
      "display_name": "Python 3"
    },
    "language_info": {
      "name": "python"
    }
  },
  "cells": [
    {
      "cell_type": "markdown",
      "source": [
        "<p align=\"center\"><img width=\"50%\" src=\"https://aimodelsharecontent.s3.amazonaws.com/aimodshare_banner.jpg\" /></p>\n",
        "\n",
        "\n",
        "---\n"
      ],
      "metadata": {
        "id": "m_DMeZsXxpEZ"
      }
    },
    {
      "cell_type": "markdown",
      "metadata": {
        "id": "JXxGTgJz152A"
      },
      "source": [
        "<p align=\"center\"><h1 align=\"center\">Used Car Sales Price Prediction Competition\n",
        "\n",
        "##### <p align=\"center\">*Note: Dataset adapted from N. Birla's public dataset ['Vehicle Dataset'](https://www.kaggle.com/nehalbirla/vehicle-dataset-from-cardekho)* \n",
        "---\n",
        "Let's share our models to a centralized leaderboard, so that we can collaborate and learn from the model experimentation process...\n",
        "\n",
        "**Instructions:**\n",
        "1.   Get data in and set up X_train / X_test / y_train\n",
        "2.   Preprocess data  with Sklearn Column Transformer/ Write and Save Preprocessor function\n",
        "3. Fit model on preprocessed data and save preprocessor function and model \n",
        "4. Generate predictions from X_test data and submit model to competition\n",
        "5. Repeat submission process to improve place on leaderboard\n",
        "\n"
      ]
    },
    {
      "cell_type": "markdown",
      "metadata": {
        "id": "5gSrVJwp3E9H"
      },
      "source": [
        "## 1. Get data in and set up X_train, X_test, y_train objects"
      ]
    },
    {
      "cell_type": "code",
      "metadata": {
        "id": "PLTIaMB3ChSW"
      },
      "source": [
        "#install aimodelshare library\n",
        "! pip install aimodelshare --upgrade"
      ],
      "execution_count": null,
      "outputs": []
    },
    {
      "cell_type": "code",
      "metadata": {
        "colab": {
          "base_uri": "https://localhost:8080/"
        },
        "id": "d3PiJXBhC5y-",
        "outputId": "31820065-53c6-469b-c07a-eb511f888b79"
      },
      "source": [
        "# Get competition data\n",
        "from aimodelshare import download_data\n",
        "download_data('public.ecr.aws/y2e2a1d6/used_car_competition_data-repository:latest') "
      ],
      "execution_count": 2,
      "outputs": [
        {
          "output_type": "stream",
          "name": "stdout",
          "text": [
            "Downloading [=========>                                       ]\n",
            "\n",
            "Data downloaded successfully.\n"
          ]
        }
      ]
    },
    {
      "cell_type": "code",
      "metadata": {
        "colab": {
          "base_uri": "https://localhost:8080/",
          "height": 169
        },
        "id": "jT0qFCZFNzHq",
        "outputId": "053c1dc6-4d46-442f-9249-3afce453c25b"
      },
      "source": [
        "# Separate data into X_train, y_train, and X_test\n",
        "import pandas as pd\n",
        "\n",
        "X_train = pd.read_csv(\"/content/used_car_competition_data/training_data.csv\")\n",
        "y_train = X_train['selling_price']\n",
        "X_train.drop(['selling_price'], axis=1, inplace=True)\n",
        "\n",
        "X_test=pd.read_csv(\"/content/used_car_competition_data/test_data.csv\")\n",
        "\n",
        "X_train.head()"
      ],
      "execution_count": 3,
      "outputs": [
        {
          "output_type": "execute_result",
          "data": {
            "text/html": [
              "\n",
              "  <div id=\"df-555e38a0-2954-43a1-8aef-6d57805a1b43\">\n",
              "    <div class=\"colab-df-container\">\n",
              "      <div>\n",
              "<style scoped>\n",
              "    .dataframe tbody tr th:only-of-type {\n",
              "        vertical-align: middle;\n",
              "    }\n",
              "\n",
              "    .dataframe tbody tr th {\n",
              "        vertical-align: top;\n",
              "    }\n",
              "\n",
              "    .dataframe thead th {\n",
              "        text-align: right;\n",
              "    }\n",
              "</style>\n",
              "<table border=\"1\" class=\"dataframe\">\n",
              "  <thead>\n",
              "    <tr style=\"text-align: right;\">\n",
              "      <th></th>\n",
              "      <th>year</th>\n",
              "      <th>km_driven</th>\n",
              "      <th>fuel</th>\n",
              "      <th>seller_type</th>\n",
              "      <th>transmission</th>\n",
              "      <th>owner</th>\n",
              "      <th>mileage</th>\n",
              "      <th>engine</th>\n",
              "      <th>max_power</th>\n",
              "      <th>seats</th>\n",
              "    </tr>\n",
              "  </thead>\n",
              "  <tbody>\n",
              "    <tr>\n",
              "      <th>0</th>\n",
              "      <td>2017</td>\n",
              "      <td>27000</td>\n",
              "      <td>Diesel</td>\n",
              "      <td>Individual</td>\n",
              "      <td>Manual</td>\n",
              "      <td>Second Owner</td>\n",
              "      <td>19.67</td>\n",
              "      <td>1582.0</td>\n",
              "      <td>126.2</td>\n",
              "      <td>5.0</td>\n",
              "    </tr>\n",
              "    <tr>\n",
              "      <th>1</th>\n",
              "      <td>2015</td>\n",
              "      <td>40000</td>\n",
              "      <td>Petrol</td>\n",
              "      <td>Individual</td>\n",
              "      <td>Manual</td>\n",
              "      <td>First Owner</td>\n",
              "      <td>13.24</td>\n",
              "      <td>1598.0</td>\n",
              "      <td>102.5</td>\n",
              "      <td>5.0</td>\n",
              "    </tr>\n",
              "    <tr>\n",
              "      <th>2</th>\n",
              "      <td>2019</td>\n",
              "      <td>8500</td>\n",
              "      <td>Diesel</td>\n",
              "      <td>Dealer</td>\n",
              "      <td>Automatic</td>\n",
              "      <td>First Owner</td>\n",
              "      <td>16.78</td>\n",
              "      <td>1995.0</td>\n",
              "      <td>190.0</td>\n",
              "      <td>5.0</td>\n",
              "    </tr>\n",
              "    <tr>\n",
              "      <th>3</th>\n",
              "      <td>2016</td>\n",
              "      <td>50000</td>\n",
              "      <td>Petrol</td>\n",
              "      <td>Individual</td>\n",
              "      <td>Manual</td>\n",
              "      <td>First Owner</td>\n",
              "      <td>22.74</td>\n",
              "      <td>796.0</td>\n",
              "      <td>47.3</td>\n",
              "      <td>5.0</td>\n",
              "    </tr>\n",
              "    <tr>\n",
              "      <th>4</th>\n",
              "      <td>2013</td>\n",
              "      <td>190000</td>\n",
              "      <td>Diesel</td>\n",
              "      <td>Individual</td>\n",
              "      <td>Manual</td>\n",
              "      <td>Second Owner</td>\n",
              "      <td>23.40</td>\n",
              "      <td>1248.0</td>\n",
              "      <td>74.0</td>\n",
              "      <td>5.0</td>\n",
              "    </tr>\n",
              "  </tbody>\n",
              "</table>\n",
              "</div>\n",
              "      <button class=\"colab-df-convert\" onclick=\"convertToInteractive('df-555e38a0-2954-43a1-8aef-6d57805a1b43')\"\n",
              "              title=\"Convert this dataframe to an interactive table.\"\n",
              "              style=\"display:none;\">\n",
              "        \n",
              "  <svg xmlns=\"http://www.w3.org/2000/svg\" height=\"24px\"viewBox=\"0 0 24 24\"\n",
              "       width=\"24px\">\n",
              "    <path d=\"M0 0h24v24H0V0z\" fill=\"none\"/>\n",
              "    <path d=\"M18.56 5.44l.94 2.06.94-2.06 2.06-.94-2.06-.94-.94-2.06-.94 2.06-2.06.94zm-11 1L8.5 8.5l.94-2.06 2.06-.94-2.06-.94L8.5 2.5l-.94 2.06-2.06.94zm10 10l.94 2.06.94-2.06 2.06-.94-2.06-.94-.94-2.06-.94 2.06-2.06.94z\"/><path d=\"M17.41 7.96l-1.37-1.37c-.4-.4-.92-.59-1.43-.59-.52 0-1.04.2-1.43.59L10.3 9.45l-7.72 7.72c-.78.78-.78 2.05 0 2.83L4 21.41c.39.39.9.59 1.41.59.51 0 1.02-.2 1.41-.59l7.78-7.78 2.81-2.81c.8-.78.8-2.07 0-2.86zM5.41 20L4 18.59l7.72-7.72 1.47 1.35L5.41 20z\"/>\n",
              "  </svg>\n",
              "      </button>\n",
              "      \n",
              "  <style>\n",
              "    .colab-df-container {\n",
              "      display:flex;\n",
              "      flex-wrap:wrap;\n",
              "      gap: 12px;\n",
              "    }\n",
              "\n",
              "    .colab-df-convert {\n",
              "      background-color: #E8F0FE;\n",
              "      border: none;\n",
              "      border-radius: 50%;\n",
              "      cursor: pointer;\n",
              "      display: none;\n",
              "      fill: #1967D2;\n",
              "      height: 32px;\n",
              "      padding: 0 0 0 0;\n",
              "      width: 32px;\n",
              "    }\n",
              "\n",
              "    .colab-df-convert:hover {\n",
              "      background-color: #E2EBFA;\n",
              "      box-shadow: 0px 1px 2px rgba(60, 64, 67, 0.3), 0px 1px 3px 1px rgba(60, 64, 67, 0.15);\n",
              "      fill: #174EA6;\n",
              "    }\n",
              "\n",
              "    [theme=dark] .colab-df-convert {\n",
              "      background-color: #3B4455;\n",
              "      fill: #D2E3FC;\n",
              "    }\n",
              "\n",
              "    [theme=dark] .colab-df-convert:hover {\n",
              "      background-color: #434B5C;\n",
              "      box-shadow: 0px 1px 3px 1px rgba(0, 0, 0, 0.15);\n",
              "      filter: drop-shadow(0px 1px 2px rgba(0, 0, 0, 0.3));\n",
              "      fill: #FFFFFF;\n",
              "    }\n",
              "  </style>\n",
              "\n",
              "      <script>\n",
              "        const buttonEl =\n",
              "          document.querySelector('#df-555e38a0-2954-43a1-8aef-6d57805a1b43 button.colab-df-convert');\n",
              "        buttonEl.style.display =\n",
              "          google.colab.kernel.accessAllowed ? 'block' : 'none';\n",
              "\n",
              "        async function convertToInteractive(key) {\n",
              "          const element = document.querySelector('#df-555e38a0-2954-43a1-8aef-6d57805a1b43');\n",
              "          const dataTable =\n",
              "            await google.colab.kernel.invokeFunction('convertToInteractive',\n",
              "                                                     [key], {});\n",
              "          if (!dataTable) return;\n",
              "\n",
              "          const docLinkHtml = 'Like what you see? Visit the ' +\n",
              "            '<a target=\"_blank\" href=https://colab.research.google.com/notebooks/data_table.ipynb>data table notebook</a>'\n",
              "            + ' to learn more about interactive tables.';\n",
              "          element.innerHTML = '';\n",
              "          dataTable['output_type'] = 'display_data';\n",
              "          await google.colab.output.renderOutput(dataTable, element);\n",
              "          const docLink = document.createElement('div');\n",
              "          docLink.innerHTML = docLinkHtml;\n",
              "          element.appendChild(docLink);\n",
              "        }\n",
              "      </script>\n",
              "    </div>\n",
              "  </div>\n",
              "  "
            ],
            "text/plain": [
              "   year  km_driven    fuel seller_type  ... mileage  engine  max_power  seats\n",
              "0  2017      27000  Diesel  Individual  ...   19.67  1582.0      126.2    5.0\n",
              "1  2015      40000  Petrol  Individual  ...   13.24  1598.0      102.5    5.0\n",
              "2  2019       8500  Diesel      Dealer  ...   16.78  1995.0      190.0    5.0\n",
              "3  2016      50000  Petrol  Individual  ...   22.74   796.0       47.3    5.0\n",
              "4  2013     190000  Diesel  Individual  ...   23.40  1248.0       74.0    5.0\n",
              "\n",
              "[5 rows x 10 columns]"
            ]
          },
          "metadata": {},
          "execution_count": 3
        }
      ]
    },
    {
      "cell_type": "markdown",
      "metadata": {
        "id": "gEzPoXPj3V7u"
      },
      "source": [
        "##2.   Preprocess data using Sklearn Column Transformer / Write and Save Preprocessor function\n"
      ]
    },
    {
      "cell_type": "code",
      "metadata": {
        "id": "A2BQMOPGCqra"
      },
      "source": [
        "# In this case we use Sklearn's Column transformer in our preprocessor function\n",
        "\n",
        "from sklearn.compose import ColumnTransformer\n",
        "from sklearn.pipeline import Pipeline\n",
        "from sklearn.impute import SimpleImputer\n",
        "from sklearn.preprocessing import StandardScaler, OneHotEncoder\n",
        "\n",
        "#Preprocess data using sklearn's Column Transformer approach\n",
        "\n",
        "# We create the preprocessing pipelines for both numeric and categorical data.\n",
        "numeric_features = ['km_driven', 'mileage', 'engine', 'max_power', 'year']\n",
        "numeric_transformer = Pipeline(steps=[\n",
        "    ('imputer', SimpleImputer(strategy='median')), #'imputer' names the step\n",
        "    ('scaler', StandardScaler())])\n",
        "\n",
        "categorical_features = ['fuel', 'seller_type', 'transmission', 'owner', 'seats']\n",
        "\n",
        "# Replacing missing values with Modal value and then one-hot encoding.\n",
        "categorical_transformer = Pipeline(steps=[\n",
        "    ('imputer', SimpleImputer(strategy='most_frequent')),\n",
        "    ('onehot', OneHotEncoder(handle_unknown='ignore'))])\n",
        "\n",
        "# Final preprocessor object set up with ColumnTransformer...\n",
        "\n",
        "preprocess = ColumnTransformer(\n",
        "    transformers=[\n",
        "        ('num', numeric_transformer, numeric_features),\n",
        "        ('cat', categorical_transformer, categorical_features)])\n",
        "\n",
        "# fit preprocessor to your data\n",
        "preprocess = preprocess.fit(X_train)"
      ],
      "execution_count": 4,
      "outputs": []
    },
    {
      "cell_type": "code",
      "metadata": {
        "id": "16QV9Y9TC3B3"
      },
      "source": [
        "# Write function to transform data with preprocessor \n",
        "# In this case we use sklearn's Column transformer in our preprocessor function\n",
        "\n",
        "def preprocessor(data):\n",
        "    preprocessed_data=preprocess.transform(data)\n",
        "    return preprocessed_data"
      ],
      "execution_count": 5,
      "outputs": []
    },
    {
      "cell_type": "code",
      "source": [
        "# check shape of X data \n",
        "preprocessor(X_train).shape"
      ],
      "metadata": {
        "colab": {
          "base_uri": "https://localhost:8080/"
        },
        "id": "3FKeaMZK88Xt",
        "outputId": "3525f7a9-9970-4d14-dbbe-5841758c01f5"
      },
      "execution_count": 6,
      "outputs": [
        {
          "output_type": "execute_result",
          "data": {
            "text/plain": [
              "(6502, 27)"
            ]
          },
          "metadata": {},
          "execution_count": 6
        }
      ]
    },
    {
      "cell_type": "markdown",
      "metadata": {
        "id": "X52kECL43b-O"
      },
      "source": [
        "##3. Fit model on preprocessed data and save preprocessor function and model \n"
      ]
    },
    {
      "cell_type": "code",
      "metadata": {
        "colab": {
          "base_uri": "https://localhost:8080/"
        },
        "id": "NCbBf8j9ClYl",
        "outputId": "52077315-1fdc-4870-f4ca-6fc4b32b538e"
      },
      "source": [
        "from sklearn.ensemble import RandomForestRegressor\n",
        "from sklearn.metrics import r2_score\n",
        "\n",
        "model = RandomForestRegressor(n_estimators = 500, max_depth = 3, random_state=0)\n",
        "model.fit(preprocessor(X_train), y_train) # Fitting to the training set.\n",
        "model_predictions = model.predict(preprocessor(X_train))\n",
        "r2_score(model_predictions, y_train)"
      ],
      "execution_count": 7,
      "outputs": [
        {
          "output_type": "execute_result",
          "data": {
            "text/plain": [
              "0.8535409811007544"
            ]
          },
          "metadata": {},
          "execution_count": 7
        }
      ]
    },
    {
      "cell_type": "markdown",
      "metadata": {
        "id": "zmJAnmO-5AcU"
      },
      "source": [
        "#### Save preprocessor function to local \"preprocessor.zip\" file"
      ]
    },
    {
      "cell_type": "code",
      "metadata": {
        "colab": {
          "base_uri": "https://localhost:8080/"
        },
        "id": "4VGacc0LDaMA",
        "outputId": "d6e211c9-7697-4f57-c669-6722758231c4"
      },
      "source": [
        "import aimodelshare as ai\n",
        "ai.export_preprocessor(preprocessor,\"\") "
      ],
      "execution_count": 8,
      "outputs": [
        {
          "output_type": "stream",
          "name": "stdout",
          "text": [
            "Your preprocessor is now saved to 'preprocessor.zip'\n"
          ]
        }
      ]
    },
    {
      "cell_type": "markdown",
      "metadata": {
        "id": "oOWBa8Cv5LdL"
      },
      "source": [
        "#### Save model to local \".onnx\" file"
      ]
    },
    {
      "cell_type": "code",
      "metadata": {
        "id": "pEhvnRiQDlY5"
      },
      "source": [
        "# Save sklearn model to local ONNX file\n",
        "from aimodelshare.aimsonnx import model_to_onnx\n",
        "\n",
        "# Check how many preprocessed input features there are\n",
        "from skl2onnx.common.data_types import FloatTensorType\n",
        "\n",
        "feature_count=preprocessor(X_test).shape[1]\n",
        "initial_type = [('float_input', FloatTensorType([None, feature_count]))]  # Insert correct number of features in preprocessed data\n",
        "\n",
        "onnx_model = model_to_onnx(model, framework='sklearn',\n",
        "                          initial_types=initial_type,\n",
        "                          transfer_learning=False,\n",
        "                          deep_learning=False)\n",
        "\n",
        "\n",
        "with open(\"model.onnx\", \"wb\") as f:\n",
        "    f.write(onnx_model.SerializeToString())"
      ],
      "execution_count": 9,
      "outputs": []
    },
    {
      "cell_type": "markdown",
      "metadata": {
        "id": "gHWkAzvX3m8O"
      },
      "source": [
        "## 4. Generate predictions from X_test data and submit model to competition\n"
      ]
    },
    {
      "cell_type": "code",
      "metadata": {
        "colab": {
          "base_uri": "https://localhost:8080/"
        },
        "id": "RtgkM02MDpkO",
        "outputId": "9420439d-8ba9-4a4d-ab5c-39e048aa2f50"
      },
      "source": [
        "#Set credentials using modelshare.org username/password\n",
        "\n",
        "from aimodelshare.aws import set_credentials\n",
        "    \n",
        "apiurl=\"https://9p8cpepe62.execute-api.us-east-1.amazonaws.com/prod/m\" #This is the unique rest api that powers this Used Car Sales Prediction Playground\n",
        "\n",
        "set_credentials(apiurl=apiurl)"
      ],
      "execution_count": 13,
      "outputs": [
        {
          "output_type": "stream",
          "name": "stdout",
          "text": [
            "AI Modelshare Username:··········\n",
            "AI Modelshare Password:··········\n",
            "AI Model Share login credentials set successfully.\n"
          ]
        }
      ]
    },
    {
      "cell_type": "code",
      "metadata": {
        "id": "fKNGSww8EGgi"
      },
      "source": [
        "#Instantiate Competition\n",
        "import aimodelshare as ai\n",
        "mycompetition= ai.Competition(apiurl)"
      ],
      "execution_count": 14,
      "outputs": []
    },
    {
      "cell_type": "code",
      "metadata": {
        "id": "_Ql4wksyEUnP",
        "colab": {
          "base_uri": "https://localhost:8080/"
        },
        "outputId": "05e7b812-0e7b-46ce-cc99-f2093d78697b"
      },
      "source": [
        "#Submit Model 1: \n",
        "\n",
        "#-- Generate predicted values (a list of predicted car prices) (Model 1)\n",
        "predicted_values = model.predict(preprocessor(X_test))\n",
        "\n",
        "# Submit Model 1 to Competition Leaderboard\n",
        "mycompetition.submit_model(model_filepath = \"model.onnx\",\n",
        "                                 preprocessor_filepath=\"preprocessor.zip\",\n",
        "                                 prediction_submission=predicted_values)"
      ],
      "execution_count": 15,
      "outputs": [
        {
          "output_type": "stream",
          "name": "stdout",
          "text": [
            "Insert search tags to help users find your model (optional): \n",
            "Provide any useful notes about your model (optional): \n",
            "\n",
            "Your model has been submitted as model version 3\n",
            "\n",
            "To submit code used to create this model or to view current leaderboard navigate to Model Playground: \n",
            "\n",
            " https://www.modelshare.org/detail/model:1307\n"
          ]
        }
      ]
    },
    {
      "cell_type": "code",
      "metadata": {
        "colab": {
          "base_uri": "https://localhost:8080/",
          "height": 222
        },
        "id": "GN1zvAmNEq17",
        "outputId": "3d57f89a-a047-48b3-f255-ef4119378377"
      },
      "source": [
        "# Get leaderboard to explore current best model architectures\n",
        "\n",
        "# Get raw data in pandas data frame\n",
        "data = mycompetition.get_leaderboard()\n",
        "\n",
        "# Stylize leaderboard data\n",
        "mycompetition.stylize_leaderboard(data)"
      ],
      "execution_count": 16,
      "outputs": [
        {
          "output_type": "execute_result",
          "data": {
            "text/html": [
              "<style  type=\"text/css\" >\n",
              "#T_39f8878c_7f9c_11ec_8880_0242ac1c0002row0_col0,#T_39f8878c_7f9c_11ec_8880_0242ac1c0002row1_col0{\n",
              "            text-align:  center;\n",
              "            width:  10em;\n",
              "             height:  80%;\n",
              "            background:  linear-gradient(90deg,#f5f8d6 58.6%, transparent 58.6%);\n",
              "            color:  #251e1b;\n",
              "            font-size:  12px;\n",
              "        }#T_39f8878c_7f9c_11ec_8880_0242ac1c0002row0_col1,#T_39f8878c_7f9c_11ec_8880_0242ac1c0002row1_col1{\n",
              "            text-align:  center;\n",
              "            width:  10em;\n",
              "             height:  80%;\n",
              "            background:  linear-gradient(90deg,#c778c8 76.5%, transparent 76.5%);\n",
              "            color:  #251e1b;\n",
              "            font-size:  12px;\n",
              "        }#T_39f8878c_7f9c_11ec_8880_0242ac1c0002row0_col2,#T_39f8878c_7f9c_11ec_8880_0242ac1c0002row1_col2{\n",
              "            text-align:  center;\n",
              "            width:  10em;\n",
              "             height:  80%;\n",
              "            background:  linear-gradient(90deg,#ff4971 73.8%, transparent 73.8%);\n",
              "            color:  #251e1b;\n",
              "            font-size:  12px;\n",
              "        }#T_39f8878c_7f9c_11ec_8880_0242ac1c0002row0_col3,#T_39f8878c_7f9c_11ec_8880_0242ac1c0002row1_col3{\n",
              "            text-align:  center;\n",
              "            width:  10em;\n",
              "             height:  80%;\n",
              "            background:  linear-gradient(90deg,#aadbaa 100.0%, transparent 100.0%);\n",
              "            color:  #251e1b;\n",
              "            font-size:  12px;\n",
              "        }#T_39f8878c_7f9c_11ec_8880_0242ac1c0002row0_col4,#T_39f8878c_7f9c_11ec_8880_0242ac1c0002row0_col5,#T_39f8878c_7f9c_11ec_8880_0242ac1c0002row0_col6,#T_39f8878c_7f9c_11ec_8880_0242ac1c0002row0_col7,#T_39f8878c_7f9c_11ec_8880_0242ac1c0002row0_col8,#T_39f8878c_7f9c_11ec_8880_0242ac1c0002row0_col9,#T_39f8878c_7f9c_11ec_8880_0242ac1c0002row0_col10,#T_39f8878c_7f9c_11ec_8880_0242ac1c0002row1_col4,#T_39f8878c_7f9c_11ec_8880_0242ac1c0002row1_col5,#T_39f8878c_7f9c_11ec_8880_0242ac1c0002row1_col6,#T_39f8878c_7f9c_11ec_8880_0242ac1c0002row1_col7,#T_39f8878c_7f9c_11ec_8880_0242ac1c0002row1_col8,#T_39f8878c_7f9c_11ec_8880_0242ac1c0002row1_col9,#T_39f8878c_7f9c_11ec_8880_0242ac1c0002row1_col10,#T_39f8878c_7f9c_11ec_8880_0242ac1c0002row2_col4,#T_39f8878c_7f9c_11ec_8880_0242ac1c0002row2_col5,#T_39f8878c_7f9c_11ec_8880_0242ac1c0002row2_col6,#T_39f8878c_7f9c_11ec_8880_0242ac1c0002row2_col7,#T_39f8878c_7f9c_11ec_8880_0242ac1c0002row2_col8,#T_39f8878c_7f9c_11ec_8880_0242ac1c0002row2_col9,#T_39f8878c_7f9c_11ec_8880_0242ac1c0002row2_col10{\n",
              "            text-align:  center;\n",
              "        }#T_39f8878c_7f9c_11ec_8880_0242ac1c0002row2_col0{\n",
              "            text-align:  center;\n",
              "            width:  10em;\n",
              "             height:  80%;\n",
              "            background:  linear-gradient(90deg,#f5f8d6 100.0%, transparent 100.0%);\n",
              "            color:  #251e1b;\n",
              "            font-size:  12px;\n",
              "        }#T_39f8878c_7f9c_11ec_8880_0242ac1c0002row2_col1{\n",
              "            text-align:  center;\n",
              "            width:  10em;\n",
              "             height:  80%;\n",
              "            background:  linear-gradient(90deg,#c778c8 100.0%, transparent 100.0%);\n",
              "            color:  #251e1b;\n",
              "            font-size:  12px;\n",
              "        }#T_39f8878c_7f9c_11ec_8880_0242ac1c0002row2_col2{\n",
              "            text-align:  center;\n",
              "            width:  10em;\n",
              "             height:  80%;\n",
              "            background:  linear-gradient(90deg,#ff4971 100.0%, transparent 100.0%);\n",
              "            color:  #251e1b;\n",
              "            font-size:  12px;\n",
              "        }#T_39f8878c_7f9c_11ec_8880_0242ac1c0002row2_col3{\n",
              "            text-align:  center;\n",
              "            width:  10em;\n",
              "             height:  80%;\n",
              "            background:  linear-gradient(90deg,#aadbaa 90.9%, transparent 90.9%);\n",
              "            color:  #251e1b;\n",
              "            font-size:  12px;\n",
              "        }</style><table id=\"T_39f8878c_7f9c_11ec_8880_0242ac1c0002\" class=\"dataframe\"><thead>    <tr>        <th class=\"blank level0\" ></th>        <th class=\"col_heading level0 col0\" >mse</th>        <th class=\"col_heading level0 col1\" >rmse</th>        <th class=\"col_heading level0 col2\" >mae</th>        <th class=\"col_heading level0 col3\" >r2</th>        <th class=\"col_heading level0 col4\" >ml_framework</th>        <th class=\"col_heading level0 col5\" >transfer_learning</th>        <th class=\"col_heading level0 col6\" >deep_learning</th>        <th class=\"col_heading level0 col7\" >model_type</th>        <th class=\"col_heading level0 col8\" >model_config</th>        <th class=\"col_heading level0 col9\" >username</th>        <th class=\"col_heading level0 col10\" >version</th>    </tr></thead><tbody>\n",
              "                <tr>\n",
              "                        <th id=\"T_39f8878c_7f9c_11ec_8880_0242ac1c0002level0_row0\" class=\"row_heading level0 row0\" >1</th>\n",
              "                        <td id=\"T_39f8878c_7f9c_11ec_8880_0242ac1c0002row0_col0\" class=\"data row0 col0\" >16362526.65</td>\n",
              "                        <td id=\"T_39f8878c_7f9c_11ec_8880_0242ac1c0002row0_col1\" class=\"data row0 col1\" >4045.06</td>\n",
              "                        <td id=\"T_39f8878c_7f9c_11ec_8880_0242ac1c0002row0_col2\" class=\"data row0 col2\" >2490.88</td>\n",
              "                        <td id=\"T_39f8878c_7f9c_11ec_8880_0242ac1c0002row0_col3\" class=\"data row0 col3\" >0.89</td>\n",
              "                        <td id=\"T_39f8878c_7f9c_11ec_8880_0242ac1c0002row0_col4\" class=\"data row0 col4\" >sklearn</td>\n",
              "                        <td id=\"T_39f8878c_7f9c_11ec_8880_0242ac1c0002row0_col5\" class=\"data row0 col5\" >False</td>\n",
              "                        <td id=\"T_39f8878c_7f9c_11ec_8880_0242ac1c0002row0_col6\" class=\"data row0 col6\" >False</td>\n",
              "                        <td id=\"T_39f8878c_7f9c_11ec_8880_0242ac1c0002row0_col7\" class=\"data row0 col7\" >RandomForestRegressor</td>\n",
              "                        <td id=\"T_39f8878c_7f9c_11ec_8880_0242ac1c0002row0_col8\" class=\"data row0 col8\" >{'bootstrap': True, 'ccp_alpha...</td>\n",
              "                        <td id=\"T_39f8878c_7f9c_11ec_8880_0242ac1c0002row0_col9\" class=\"data row0 col9\" >AIModelShare</td>\n",
              "                        <td id=\"T_39f8878c_7f9c_11ec_8880_0242ac1c0002row0_col10\" class=\"data row0 col10\" >1</td>\n",
              "            </tr>\n",
              "            <tr>\n",
              "                        <th id=\"T_39f8878c_7f9c_11ec_8880_0242ac1c0002level0_row1\" class=\"row_heading level0 row1\" >2</th>\n",
              "                        <td id=\"T_39f8878c_7f9c_11ec_8880_0242ac1c0002row1_col0\" class=\"data row1 col0\" >16362526.65</td>\n",
              "                        <td id=\"T_39f8878c_7f9c_11ec_8880_0242ac1c0002row1_col1\" class=\"data row1 col1\" >4045.06</td>\n",
              "                        <td id=\"T_39f8878c_7f9c_11ec_8880_0242ac1c0002row1_col2\" class=\"data row1 col2\" >2490.88</td>\n",
              "                        <td id=\"T_39f8878c_7f9c_11ec_8880_0242ac1c0002row1_col3\" class=\"data row1 col3\" >0.89</td>\n",
              "                        <td id=\"T_39f8878c_7f9c_11ec_8880_0242ac1c0002row1_col4\" class=\"data row1 col4\" >sklearn</td>\n",
              "                        <td id=\"T_39f8878c_7f9c_11ec_8880_0242ac1c0002row1_col5\" class=\"data row1 col5\" >False</td>\n",
              "                        <td id=\"T_39f8878c_7f9c_11ec_8880_0242ac1c0002row1_col6\" class=\"data row1 col6\" >False</td>\n",
              "                        <td id=\"T_39f8878c_7f9c_11ec_8880_0242ac1c0002row1_col7\" class=\"data row1 col7\" >RandomForestRegressor</td>\n",
              "                        <td id=\"T_39f8878c_7f9c_11ec_8880_0242ac1c0002row1_col8\" class=\"data row1 col8\" >{'bootstrap': True, 'ccp_alpha...</td>\n",
              "                        <td id=\"T_39f8878c_7f9c_11ec_8880_0242ac1c0002row1_col9\" class=\"data row1 col9\" >AIModelShare</td>\n",
              "                        <td id=\"T_39f8878c_7f9c_11ec_8880_0242ac1c0002row1_col10\" class=\"data row1 col10\" >3</td>\n",
              "            </tr>\n",
              "            <tr>\n",
              "                        <th id=\"T_39f8878c_7f9c_11ec_8880_0242ac1c0002level0_row2\" class=\"row_heading level0 row2\" >3</th>\n",
              "                        <td id=\"T_39f8878c_7f9c_11ec_8880_0242ac1c0002row2_col0\" class=\"data row2 col0\" >27925581.59</td>\n",
              "                        <td id=\"T_39f8878c_7f9c_11ec_8880_0242ac1c0002row2_col1\" class=\"data row2 col1\" >5284.47</td>\n",
              "                        <td id=\"T_39f8878c_7f9c_11ec_8880_0242ac1c0002row2_col2\" class=\"data row2 col2\" >3376.42</td>\n",
              "                        <td id=\"T_39f8878c_7f9c_11ec_8880_0242ac1c0002row2_col3\" class=\"data row2 col3\" >0.80</td>\n",
              "                        <td id=\"T_39f8878c_7f9c_11ec_8880_0242ac1c0002row2_col4\" class=\"data row2 col4\" >sklearn</td>\n",
              "                        <td id=\"T_39f8878c_7f9c_11ec_8880_0242ac1c0002row2_col5\" class=\"data row2 col5\" >False</td>\n",
              "                        <td id=\"T_39f8878c_7f9c_11ec_8880_0242ac1c0002row2_col6\" class=\"data row2 col6\" >False</td>\n",
              "                        <td id=\"T_39f8878c_7f9c_11ec_8880_0242ac1c0002row2_col7\" class=\"data row2 col7\" >RandomForestRegressor</td>\n",
              "                        <td id=\"T_39f8878c_7f9c_11ec_8880_0242ac1c0002row2_col8\" class=\"data row2 col8\" >{'bootstrap': True, 'ccp_alpha...</td>\n",
              "                        <td id=\"T_39f8878c_7f9c_11ec_8880_0242ac1c0002row2_col9\" class=\"data row2 col9\" >AIModelShare</td>\n",
              "                        <td id=\"T_39f8878c_7f9c_11ec_8880_0242ac1c0002row2_col10\" class=\"data row2 col10\" >2</td>\n",
              "            </tr>\n",
              "    </tbody></table>"
            ],
            "text/plain": [
              "<pandas.io.formats.style.Styler at 0x7f000fe05c10>"
            ]
          },
          "metadata": {},
          "execution_count": 16
        }
      ]
    },
    {
      "cell_type": "markdown",
      "metadata": {
        "id": "bwNKs0wP4r5s"
      },
      "source": [
        "## 5. Repeat submission process to improve place on leaderboard\n"
      ]
    },
    {
      "cell_type": "code",
      "metadata": {
        "colab": {
          "base_uri": "https://localhost:8080/"
        },
        "id": "FgSs5PAtPCZH",
        "outputId": "b191f49c-9277-4058-cee6-34e8d57939d9"
      },
      "source": [
        "# Create model 2 \n",
        "from sklearn.ensemble import RandomForestRegressor\n",
        "from sklearn.metrics import r2_score\n",
        "\n",
        "model_2 = RandomForestRegressor(n_estimators = 1000, max_depth = 2, random_state=0)\n",
        "model_2.fit(preprocessor(X_train), y_train) # Fitting to the training set.\n",
        "model_predictions = model_2.predict(preprocessor(X_train))\n",
        "r2_score(model_predictions, y_train) "
      ],
      "execution_count": 17,
      "outputs": [
        {
          "output_type": "execute_result",
          "data": {
            "text/plain": [
              "0.7205870479628043"
            ]
          },
          "metadata": {},
          "execution_count": 17
        }
      ]
    },
    {
      "cell_type": "code",
      "metadata": {
        "id": "aIdmSpYVPYAw"
      },
      "source": [
        "# Save Model 2 to .onnx file\n",
        "\n",
        "# Check how many preprocessed input features there are\n",
        "from skl2onnx.common.data_types import FloatTensorType\n",
        "\n",
        "feature_count=preprocessor(X_test).shape[1]\n",
        "initial_type = [('float_input', FloatTensorType([None, feature_count]))]  # Insert correct number of features in preprocessed data\n",
        "\n",
        "onnx_model = model_to_onnx(model_2, framework='sklearn',\n",
        "                          initial_types=initial_type,\n",
        "                          transfer_learning=False,\n",
        "                          deep_learning=False)\n",
        "\n",
        "# Save model to local .onnx file\n",
        "with open(\"model_2.onnx\", \"wb\") as f:\n",
        "    f.write(onnx_model.SerializeToString()) "
      ],
      "execution_count": 18,
      "outputs": []
    },
    {
      "cell_type": "code",
      "metadata": {
        "colab": {
          "base_uri": "https://localhost:8080/"
        },
        "id": "nszPPrfwPlUk",
        "outputId": "b80d84a8-9024-4325-d851-2cb53b718937"
      },
      "source": [
        "# Submit Model 2\n",
        "\n",
        "#-- Generate predicted y values (Model 2)\n",
        "prediction_labels = model_2.predict(preprocessor(X_test))\n",
        "\n",
        "# Submit Model 2 to Competition Leaderboard\n",
        "mycompetition.submit_model(model_filepath = \"model_2.onnx\",\n",
        "                                 prediction_submission=prediction_labels,\n",
        "                                 preprocessor_filepath=\"preprocessor.zip\")"
      ],
      "execution_count": 19,
      "outputs": [
        {
          "output_type": "stream",
          "name": "stdout",
          "text": [
            "Insert search tags to help users find your model (optional): \n",
            "Provide any useful notes about your model (optional): \n",
            "\n",
            "Your model has been submitted as model version 4\n",
            "\n",
            "To submit code used to create this model or to view current leaderboard navigate to Model Playground: \n",
            "\n",
            " https://www.modelshare.org/detail/model:1307\n"
          ]
        }
      ]
    },
    {
      "cell_type": "code",
      "metadata": {
        "colab": {
          "base_uri": "https://localhost:8080/",
          "height": 421
        },
        "id": "qLl7yLpVEx26",
        "outputId": "61388d89-d05a-4c4a-e14f-07250b6fe3c9"
      },
      "source": [
        "# Compare two or more models\n",
        "data=mycompetition.compare_models([1,2], verbose=1)\n",
        "mycompetition.stylize_compare(data)"
      ],
      "execution_count": 20,
      "outputs": [
        {
          "output_type": "display_data",
          "data": {
            "text/html": [
              "<style  type=\"text/css\" >\n",
              "    #T_470eb536_7f9c_11ec_8880_0242ac1c0002 caption {\n",
              "          color: black;\n",
              "          font-size: 18px;\n",
              "    }#T_470eb536_7f9c_11ec_8880_0242ac1c0002row3_col2,#T_470eb536_7f9c_11ec_8880_0242ac1c0002row3_col3,#T_470eb536_7f9c_11ec_8880_0242ac1c0002row12_col2,#T_470eb536_7f9c_11ec_8880_0242ac1c0002row12_col3,#T_470eb536_7f9c_11ec_8880_0242ac1c0002row15_col2,#T_470eb536_7f9c_11ec_8880_0242ac1c0002row15_col3{\n",
              "            background:  tomato;\n",
              "        }</style><table id=\"T_470eb536_7f9c_11ec_8880_0242ac1c0002\" ><caption>Model type: RandomForestRegressor</caption><thead>    <tr>        <th class=\"blank level0\" ></th>        <th class=\"col_heading level0 col0\" >param_name</th>        <th class=\"col_heading level0 col1\" >default_value</th>        <th class=\"col_heading level0 col2\" >model_version_1</th>        <th class=\"col_heading level0 col3\" >model_version_2</th>    </tr></thead><tbody>\n",
              "                <tr>\n",
              "                        <th id=\"T_470eb536_7f9c_11ec_8880_0242ac1c0002level0_row0\" class=\"row_heading level0 row0\" >0</th>\n",
              "                        <td id=\"T_470eb536_7f9c_11ec_8880_0242ac1c0002row0_col0\" class=\"data row0 col0\" >bootstrap</td>\n",
              "                        <td id=\"T_470eb536_7f9c_11ec_8880_0242ac1c0002row0_col1\" class=\"data row0 col1\" >True</td>\n",
              "                        <td id=\"T_470eb536_7f9c_11ec_8880_0242ac1c0002row0_col2\" class=\"data row0 col2\" >True</td>\n",
              "                        <td id=\"T_470eb536_7f9c_11ec_8880_0242ac1c0002row0_col3\" class=\"data row0 col3\" >True</td>\n",
              "            </tr>\n",
              "            <tr>\n",
              "                        <th id=\"T_470eb536_7f9c_11ec_8880_0242ac1c0002level0_row1\" class=\"row_heading level0 row1\" >1</th>\n",
              "                        <td id=\"T_470eb536_7f9c_11ec_8880_0242ac1c0002row1_col0\" class=\"data row1 col0\" >ccp_alpha</td>\n",
              "                        <td id=\"T_470eb536_7f9c_11ec_8880_0242ac1c0002row1_col1\" class=\"data row1 col1\" >0.000000</td>\n",
              "                        <td id=\"T_470eb536_7f9c_11ec_8880_0242ac1c0002row1_col2\" class=\"data row1 col2\" >0.000000</td>\n",
              "                        <td id=\"T_470eb536_7f9c_11ec_8880_0242ac1c0002row1_col3\" class=\"data row1 col3\" >0.000000</td>\n",
              "            </tr>\n",
              "            <tr>\n",
              "                        <th id=\"T_470eb536_7f9c_11ec_8880_0242ac1c0002level0_row2\" class=\"row_heading level0 row2\" >2</th>\n",
              "                        <td id=\"T_470eb536_7f9c_11ec_8880_0242ac1c0002row2_col0\" class=\"data row2 col0\" >criterion</td>\n",
              "                        <td id=\"T_470eb536_7f9c_11ec_8880_0242ac1c0002row2_col1\" class=\"data row2 col1\" >mse</td>\n",
              "                        <td id=\"T_470eb536_7f9c_11ec_8880_0242ac1c0002row2_col2\" class=\"data row2 col2\" >mse</td>\n",
              "                        <td id=\"T_470eb536_7f9c_11ec_8880_0242ac1c0002row2_col3\" class=\"data row2 col3\" >mse</td>\n",
              "            </tr>\n",
              "            <tr>\n",
              "                        <th id=\"T_470eb536_7f9c_11ec_8880_0242ac1c0002level0_row3\" class=\"row_heading level0 row3\" >3</th>\n",
              "                        <td id=\"T_470eb536_7f9c_11ec_8880_0242ac1c0002row3_col0\" class=\"data row3 col0\" >max_depth</td>\n",
              "                        <td id=\"T_470eb536_7f9c_11ec_8880_0242ac1c0002row3_col1\" class=\"data row3 col1\" >None</td>\n",
              "                        <td id=\"T_470eb536_7f9c_11ec_8880_0242ac1c0002row3_col2\" class=\"data row3 col2\" >3</td>\n",
              "                        <td id=\"T_470eb536_7f9c_11ec_8880_0242ac1c0002row3_col3\" class=\"data row3 col3\" >2</td>\n",
              "            </tr>\n",
              "            <tr>\n",
              "                        <th id=\"T_470eb536_7f9c_11ec_8880_0242ac1c0002level0_row4\" class=\"row_heading level0 row4\" >4</th>\n",
              "                        <td id=\"T_470eb536_7f9c_11ec_8880_0242ac1c0002row4_col0\" class=\"data row4 col0\" >max_features</td>\n",
              "                        <td id=\"T_470eb536_7f9c_11ec_8880_0242ac1c0002row4_col1\" class=\"data row4 col1\" >auto</td>\n",
              "                        <td id=\"T_470eb536_7f9c_11ec_8880_0242ac1c0002row4_col2\" class=\"data row4 col2\" >auto</td>\n",
              "                        <td id=\"T_470eb536_7f9c_11ec_8880_0242ac1c0002row4_col3\" class=\"data row4 col3\" >auto</td>\n",
              "            </tr>\n",
              "            <tr>\n",
              "                        <th id=\"T_470eb536_7f9c_11ec_8880_0242ac1c0002level0_row5\" class=\"row_heading level0 row5\" >5</th>\n",
              "                        <td id=\"T_470eb536_7f9c_11ec_8880_0242ac1c0002row5_col0\" class=\"data row5 col0\" >max_leaf_nodes</td>\n",
              "                        <td id=\"T_470eb536_7f9c_11ec_8880_0242ac1c0002row5_col1\" class=\"data row5 col1\" >None</td>\n",
              "                        <td id=\"T_470eb536_7f9c_11ec_8880_0242ac1c0002row5_col2\" class=\"data row5 col2\" >None</td>\n",
              "                        <td id=\"T_470eb536_7f9c_11ec_8880_0242ac1c0002row5_col3\" class=\"data row5 col3\" >None</td>\n",
              "            </tr>\n",
              "            <tr>\n",
              "                        <th id=\"T_470eb536_7f9c_11ec_8880_0242ac1c0002level0_row6\" class=\"row_heading level0 row6\" >6</th>\n",
              "                        <td id=\"T_470eb536_7f9c_11ec_8880_0242ac1c0002row6_col0\" class=\"data row6 col0\" >max_samples</td>\n",
              "                        <td id=\"T_470eb536_7f9c_11ec_8880_0242ac1c0002row6_col1\" class=\"data row6 col1\" >None</td>\n",
              "                        <td id=\"T_470eb536_7f9c_11ec_8880_0242ac1c0002row6_col2\" class=\"data row6 col2\" >None</td>\n",
              "                        <td id=\"T_470eb536_7f9c_11ec_8880_0242ac1c0002row6_col3\" class=\"data row6 col3\" >None</td>\n",
              "            </tr>\n",
              "            <tr>\n",
              "                        <th id=\"T_470eb536_7f9c_11ec_8880_0242ac1c0002level0_row7\" class=\"row_heading level0 row7\" >7</th>\n",
              "                        <td id=\"T_470eb536_7f9c_11ec_8880_0242ac1c0002row7_col0\" class=\"data row7 col0\" >min_impurity_decrease</td>\n",
              "                        <td id=\"T_470eb536_7f9c_11ec_8880_0242ac1c0002row7_col1\" class=\"data row7 col1\" >0.000000</td>\n",
              "                        <td id=\"T_470eb536_7f9c_11ec_8880_0242ac1c0002row7_col2\" class=\"data row7 col2\" >0.000000</td>\n",
              "                        <td id=\"T_470eb536_7f9c_11ec_8880_0242ac1c0002row7_col3\" class=\"data row7 col3\" >0.000000</td>\n",
              "            </tr>\n",
              "            <tr>\n",
              "                        <th id=\"T_470eb536_7f9c_11ec_8880_0242ac1c0002level0_row8\" class=\"row_heading level0 row8\" >8</th>\n",
              "                        <td id=\"T_470eb536_7f9c_11ec_8880_0242ac1c0002row8_col0\" class=\"data row8 col0\" >min_impurity_split</td>\n",
              "                        <td id=\"T_470eb536_7f9c_11ec_8880_0242ac1c0002row8_col1\" class=\"data row8 col1\" >None</td>\n",
              "                        <td id=\"T_470eb536_7f9c_11ec_8880_0242ac1c0002row8_col2\" class=\"data row8 col2\" >None</td>\n",
              "                        <td id=\"T_470eb536_7f9c_11ec_8880_0242ac1c0002row8_col3\" class=\"data row8 col3\" >None</td>\n",
              "            </tr>\n",
              "            <tr>\n",
              "                        <th id=\"T_470eb536_7f9c_11ec_8880_0242ac1c0002level0_row9\" class=\"row_heading level0 row9\" >9</th>\n",
              "                        <td id=\"T_470eb536_7f9c_11ec_8880_0242ac1c0002row9_col0\" class=\"data row9 col0\" >min_samples_leaf</td>\n",
              "                        <td id=\"T_470eb536_7f9c_11ec_8880_0242ac1c0002row9_col1\" class=\"data row9 col1\" >1</td>\n",
              "                        <td id=\"T_470eb536_7f9c_11ec_8880_0242ac1c0002row9_col2\" class=\"data row9 col2\" >1</td>\n",
              "                        <td id=\"T_470eb536_7f9c_11ec_8880_0242ac1c0002row9_col3\" class=\"data row9 col3\" >1</td>\n",
              "            </tr>\n",
              "            <tr>\n",
              "                        <th id=\"T_470eb536_7f9c_11ec_8880_0242ac1c0002level0_row10\" class=\"row_heading level0 row10\" >10</th>\n",
              "                        <td id=\"T_470eb536_7f9c_11ec_8880_0242ac1c0002row10_col0\" class=\"data row10 col0\" >min_samples_split</td>\n",
              "                        <td id=\"T_470eb536_7f9c_11ec_8880_0242ac1c0002row10_col1\" class=\"data row10 col1\" >2</td>\n",
              "                        <td id=\"T_470eb536_7f9c_11ec_8880_0242ac1c0002row10_col2\" class=\"data row10 col2\" >2</td>\n",
              "                        <td id=\"T_470eb536_7f9c_11ec_8880_0242ac1c0002row10_col3\" class=\"data row10 col3\" >2</td>\n",
              "            </tr>\n",
              "            <tr>\n",
              "                        <th id=\"T_470eb536_7f9c_11ec_8880_0242ac1c0002level0_row11\" class=\"row_heading level0 row11\" >11</th>\n",
              "                        <td id=\"T_470eb536_7f9c_11ec_8880_0242ac1c0002row11_col0\" class=\"data row11 col0\" >min_weight_fraction_leaf</td>\n",
              "                        <td id=\"T_470eb536_7f9c_11ec_8880_0242ac1c0002row11_col1\" class=\"data row11 col1\" >0.000000</td>\n",
              "                        <td id=\"T_470eb536_7f9c_11ec_8880_0242ac1c0002row11_col2\" class=\"data row11 col2\" >0.000000</td>\n",
              "                        <td id=\"T_470eb536_7f9c_11ec_8880_0242ac1c0002row11_col3\" class=\"data row11 col3\" >0.000000</td>\n",
              "            </tr>\n",
              "            <tr>\n",
              "                        <th id=\"T_470eb536_7f9c_11ec_8880_0242ac1c0002level0_row12\" class=\"row_heading level0 row12\" >12</th>\n",
              "                        <td id=\"T_470eb536_7f9c_11ec_8880_0242ac1c0002row12_col0\" class=\"data row12 col0\" >n_estimators</td>\n",
              "                        <td id=\"T_470eb536_7f9c_11ec_8880_0242ac1c0002row12_col1\" class=\"data row12 col1\" >100</td>\n",
              "                        <td id=\"T_470eb536_7f9c_11ec_8880_0242ac1c0002row12_col2\" class=\"data row12 col2\" >500</td>\n",
              "                        <td id=\"T_470eb536_7f9c_11ec_8880_0242ac1c0002row12_col3\" class=\"data row12 col3\" >1000</td>\n",
              "            </tr>\n",
              "            <tr>\n",
              "                        <th id=\"T_470eb536_7f9c_11ec_8880_0242ac1c0002level0_row13\" class=\"row_heading level0 row13\" >13</th>\n",
              "                        <td id=\"T_470eb536_7f9c_11ec_8880_0242ac1c0002row13_col0\" class=\"data row13 col0\" >n_jobs</td>\n",
              "                        <td id=\"T_470eb536_7f9c_11ec_8880_0242ac1c0002row13_col1\" class=\"data row13 col1\" >None</td>\n",
              "                        <td id=\"T_470eb536_7f9c_11ec_8880_0242ac1c0002row13_col2\" class=\"data row13 col2\" >None</td>\n",
              "                        <td id=\"T_470eb536_7f9c_11ec_8880_0242ac1c0002row13_col3\" class=\"data row13 col3\" >None</td>\n",
              "            </tr>\n",
              "            <tr>\n",
              "                        <th id=\"T_470eb536_7f9c_11ec_8880_0242ac1c0002level0_row14\" class=\"row_heading level0 row14\" >14</th>\n",
              "                        <td id=\"T_470eb536_7f9c_11ec_8880_0242ac1c0002row14_col0\" class=\"data row14 col0\" >oob_score</td>\n",
              "                        <td id=\"T_470eb536_7f9c_11ec_8880_0242ac1c0002row14_col1\" class=\"data row14 col1\" >False</td>\n",
              "                        <td id=\"T_470eb536_7f9c_11ec_8880_0242ac1c0002row14_col2\" class=\"data row14 col2\" >False</td>\n",
              "                        <td id=\"T_470eb536_7f9c_11ec_8880_0242ac1c0002row14_col3\" class=\"data row14 col3\" >False</td>\n",
              "            </tr>\n",
              "            <tr>\n",
              "                        <th id=\"T_470eb536_7f9c_11ec_8880_0242ac1c0002level0_row15\" class=\"row_heading level0 row15\" >15</th>\n",
              "                        <td id=\"T_470eb536_7f9c_11ec_8880_0242ac1c0002row15_col0\" class=\"data row15 col0\" >random_state</td>\n",
              "                        <td id=\"T_470eb536_7f9c_11ec_8880_0242ac1c0002row15_col1\" class=\"data row15 col1\" >None</td>\n",
              "                        <td id=\"T_470eb536_7f9c_11ec_8880_0242ac1c0002row15_col2\" class=\"data row15 col2\" >0</td>\n",
              "                        <td id=\"T_470eb536_7f9c_11ec_8880_0242ac1c0002row15_col3\" class=\"data row15 col3\" >0</td>\n",
              "            </tr>\n",
              "            <tr>\n",
              "                        <th id=\"T_470eb536_7f9c_11ec_8880_0242ac1c0002level0_row16\" class=\"row_heading level0 row16\" >16</th>\n",
              "                        <td id=\"T_470eb536_7f9c_11ec_8880_0242ac1c0002row16_col0\" class=\"data row16 col0\" >verbose</td>\n",
              "                        <td id=\"T_470eb536_7f9c_11ec_8880_0242ac1c0002row16_col1\" class=\"data row16 col1\" >0</td>\n",
              "                        <td id=\"T_470eb536_7f9c_11ec_8880_0242ac1c0002row16_col2\" class=\"data row16 col2\" >0</td>\n",
              "                        <td id=\"T_470eb536_7f9c_11ec_8880_0242ac1c0002row16_col3\" class=\"data row16 col3\" >0</td>\n",
              "            </tr>\n",
              "            <tr>\n",
              "                        <th id=\"T_470eb536_7f9c_11ec_8880_0242ac1c0002level0_row17\" class=\"row_heading level0 row17\" >17</th>\n",
              "                        <td id=\"T_470eb536_7f9c_11ec_8880_0242ac1c0002row17_col0\" class=\"data row17 col0\" >warm_start</td>\n",
              "                        <td id=\"T_470eb536_7f9c_11ec_8880_0242ac1c0002row17_col1\" class=\"data row17 col1\" >False</td>\n",
              "                        <td id=\"T_470eb536_7f9c_11ec_8880_0242ac1c0002row17_col2\" class=\"data row17 col2\" >False</td>\n",
              "                        <td id=\"T_470eb536_7f9c_11ec_8880_0242ac1c0002row17_col3\" class=\"data row17 col3\" >False</td>\n",
              "            </tr>\n",
              "    </tbody></table>"
            ],
            "text/plain": [
              "<IPython.core.display.HTML object>"
            ]
          },
          "metadata": {}
        },
        {
          "output_type": "stream",
          "name": "stdout",
          "text": [
            "\n",
            "\n",
            "\n"
          ]
        }
      ]
    },
    {
      "cell_type": "code",
      "metadata": {
        "colab": {
          "base_uri": "https://localhost:8080/"
        },
        "id": "6Go4SF37Ex_Z",
        "outputId": "af84f0e8-73aa-451d-e815-59dbcd60bc41"
      },
      "source": [
        "# Submit a third model using GridSearchCV\n",
        "\n",
        "from sklearn.model_selection import GridSearchCV\n",
        "import numpy as np\n",
        "\n",
        "param_grid = {'n_estimators': np.arange(100, 300, 500),'max_depth':[1, 3, 5]} #np.arange creates sequence of numbers for each k value\n",
        "\n",
        "gridmodel = GridSearchCV(RandomForestRegressor(), param_grid=param_grid, cv=10)\n",
        "\n",
        "#use meta model methods to fit score and predict model:\n",
        "gridmodel.fit(preprocessor(X_train), y_train)\n",
        "\n",
        "#extract best score and parameter by calling objects \"best_score_\" and \"best_params_\"\n",
        "print(\"best mean cross-validation score: {:.3f}\".format(gridmodel.best_score_))\n",
        "print(\"best parameters: {}\".format(gridmodel.best_params_))\n"
      ],
      "execution_count": 21,
      "outputs": [
        {
          "output_type": "stream",
          "name": "stdout",
          "text": [
            "best mean cross-validation score: 0.932\n",
            "best parameters: {'max_depth': 5, 'n_estimators': 100}\n"
          ]
        }
      ]
    },
    {
      "cell_type": "code",
      "metadata": {
        "id": "HvLuIvOjHLH2"
      },
      "source": [
        "# Save sklearn model to local ONNX file\n",
        "from aimodelshare.aimsonnx import model_to_onnx\n",
        "\n",
        "feature_count=preprocessor(X_test).shape[1] #Get count of preprocessed features\n",
        "initial_type = [('float_input', FloatTensorType([None, feature_count]))]  # Insert correct number of preprocessed features\n",
        "\n",
        "onnx_model = model_to_onnx(gridmodel, framework='sklearn',\n",
        "                          initial_types=initial_type,\n",
        "                          transfer_learning=False,\n",
        "                          deep_learning=False)\n",
        "\n",
        "with open(\"gridmodel.onnx\", \"wb\") as f:\n",
        "    f.write(onnx_model.SerializeToString())"
      ],
      "execution_count": 22,
      "outputs": []
    },
    {
      "cell_type": "code",
      "metadata": {
        "colab": {
          "base_uri": "https://localhost:8080/"
        },
        "id": "sMidHABfHVN7",
        "outputId": "3502b1cb-afbd-420e-b42c-acb1f518f62a"
      },
      "source": [
        "#Submit Model 3: \n",
        "\n",
        "#-- Generate predicted values\n",
        "prediction_labels = gridmodel.predict(preprocessor(X_test))\n",
        "\n",
        "# Submit Model 3 to Competition Leaderboard\n",
        "mycompetition.submit_model(model_filepath = \"gridmodel.onnx\",\n",
        "                                 preprocessor_filepath=\"preprocessor.zip\",\n",
        "                                 prediction_submission=prediction_labels)"
      ],
      "execution_count": 23,
      "outputs": [
        {
          "output_type": "stream",
          "name": "stdout",
          "text": [
            "Insert search tags to help users find your model (optional): \n",
            "Provide any useful notes about your model (optional): \n",
            "\n",
            "Your model has been submitted as model version 5\n",
            "\n",
            "To submit code used to create this model or to view current leaderboard navigate to Model Playground: \n",
            "\n",
            " https://www.modelshare.org/detail/model:1307\n"
          ]
        }
      ]
    },
    {
      "cell_type": "code",
      "metadata": {
        "colab": {
          "base_uri": "https://localhost:8080/",
          "height": 327
        },
        "id": "hn-Tp-zpJVGT",
        "outputId": "82dfb5c5-402a-45b0-c712-0f0a1cb6c496"
      },
      "source": [
        "# Get leaderboard\n",
        "\n",
        "data = mycompetition.get_leaderboard()\n",
        "mycompetition.stylize_leaderboard(data)"
      ],
      "execution_count": 24,
      "outputs": [
        {
          "output_type": "execute_result",
          "data": {
            "text/html": [
              "<style  type=\"text/css\" >\n",
              "#T_60546e0a_7f9c_11ec_8880_0242ac1c0002row0_col0{\n",
              "            text-align:  center;\n",
              "            width:  10em;\n",
              "             height:  80%;\n",
              "            background:  linear-gradient(90deg,#f5f8d6 29.1%, transparent 29.1%);\n",
              "            color:  #251e1b;\n",
              "            font-size:  12px;\n",
              "        }#T_60546e0a_7f9c_11ec_8880_0242ac1c0002row0_col1{\n",
              "            text-align:  center;\n",
              "            width:  10em;\n",
              "             height:  80%;\n",
              "            background:  linear-gradient(90deg,#c778c8 54.0%, transparent 54.0%);\n",
              "            color:  #251e1b;\n",
              "            font-size:  12px;\n",
              "        }#T_60546e0a_7f9c_11ec_8880_0242ac1c0002row0_col2{\n",
              "            text-align:  center;\n",
              "            width:  10em;\n",
              "             height:  80%;\n",
              "            background:  linear-gradient(90deg,#ff4971 52.0%, transparent 52.0%);\n",
              "            color:  #251e1b;\n",
              "            font-size:  12px;\n",
              "        }#T_60546e0a_7f9c_11ec_8880_0242ac1c0002row0_col3{\n",
              "            text-align:  center;\n",
              "            width:  10em;\n",
              "             height:  80%;\n",
              "            background:  linear-gradient(90deg,#aadbaa 100.0%, transparent 100.0%);\n",
              "            color:  #251e1b;\n",
              "            font-size:  12px;\n",
              "        }#T_60546e0a_7f9c_11ec_8880_0242ac1c0002row0_col4,#T_60546e0a_7f9c_11ec_8880_0242ac1c0002row0_col5,#T_60546e0a_7f9c_11ec_8880_0242ac1c0002row0_col6,#T_60546e0a_7f9c_11ec_8880_0242ac1c0002row0_col7,#T_60546e0a_7f9c_11ec_8880_0242ac1c0002row0_col8,#T_60546e0a_7f9c_11ec_8880_0242ac1c0002row0_col9,#T_60546e0a_7f9c_11ec_8880_0242ac1c0002row0_col10,#T_60546e0a_7f9c_11ec_8880_0242ac1c0002row1_col4,#T_60546e0a_7f9c_11ec_8880_0242ac1c0002row1_col5,#T_60546e0a_7f9c_11ec_8880_0242ac1c0002row1_col6,#T_60546e0a_7f9c_11ec_8880_0242ac1c0002row1_col7,#T_60546e0a_7f9c_11ec_8880_0242ac1c0002row1_col8,#T_60546e0a_7f9c_11ec_8880_0242ac1c0002row1_col9,#T_60546e0a_7f9c_11ec_8880_0242ac1c0002row1_col10,#T_60546e0a_7f9c_11ec_8880_0242ac1c0002row2_col4,#T_60546e0a_7f9c_11ec_8880_0242ac1c0002row2_col5,#T_60546e0a_7f9c_11ec_8880_0242ac1c0002row2_col6,#T_60546e0a_7f9c_11ec_8880_0242ac1c0002row2_col7,#T_60546e0a_7f9c_11ec_8880_0242ac1c0002row2_col8,#T_60546e0a_7f9c_11ec_8880_0242ac1c0002row2_col9,#T_60546e0a_7f9c_11ec_8880_0242ac1c0002row2_col10,#T_60546e0a_7f9c_11ec_8880_0242ac1c0002row3_col4,#T_60546e0a_7f9c_11ec_8880_0242ac1c0002row3_col5,#T_60546e0a_7f9c_11ec_8880_0242ac1c0002row3_col6,#T_60546e0a_7f9c_11ec_8880_0242ac1c0002row3_col7,#T_60546e0a_7f9c_11ec_8880_0242ac1c0002row3_col8,#T_60546e0a_7f9c_11ec_8880_0242ac1c0002row3_col9,#T_60546e0a_7f9c_11ec_8880_0242ac1c0002row3_col10,#T_60546e0a_7f9c_11ec_8880_0242ac1c0002row4_col4,#T_60546e0a_7f9c_11ec_8880_0242ac1c0002row4_col5,#T_60546e0a_7f9c_11ec_8880_0242ac1c0002row4_col6,#T_60546e0a_7f9c_11ec_8880_0242ac1c0002row4_col7,#T_60546e0a_7f9c_11ec_8880_0242ac1c0002row4_col8,#T_60546e0a_7f9c_11ec_8880_0242ac1c0002row4_col9,#T_60546e0a_7f9c_11ec_8880_0242ac1c0002row4_col10{\n",
              "            text-align:  center;\n",
              "        }#T_60546e0a_7f9c_11ec_8880_0242ac1c0002row1_col0,#T_60546e0a_7f9c_11ec_8880_0242ac1c0002row2_col0{\n",
              "            text-align:  center;\n",
              "            width:  10em;\n",
              "             height:  80%;\n",
              "            background:  linear-gradient(90deg,#f5f8d6 58.6%, transparent 58.6%);\n",
              "            color:  #251e1b;\n",
              "            font-size:  12px;\n",
              "        }#T_60546e0a_7f9c_11ec_8880_0242ac1c0002row1_col1,#T_60546e0a_7f9c_11ec_8880_0242ac1c0002row2_col1{\n",
              "            text-align:  center;\n",
              "            width:  10em;\n",
              "             height:  80%;\n",
              "            background:  linear-gradient(90deg,#c778c8 76.5%, transparent 76.5%);\n",
              "            color:  #251e1b;\n",
              "            font-size:  12px;\n",
              "        }#T_60546e0a_7f9c_11ec_8880_0242ac1c0002row1_col2,#T_60546e0a_7f9c_11ec_8880_0242ac1c0002row2_col2{\n",
              "            text-align:  center;\n",
              "            width:  10em;\n",
              "             height:  80%;\n",
              "            background:  linear-gradient(90deg,#ff4971 73.8%, transparent 73.8%);\n",
              "            color:  #251e1b;\n",
              "            font-size:  12px;\n",
              "        }#T_60546e0a_7f9c_11ec_8880_0242ac1c0002row1_col3,#T_60546e0a_7f9c_11ec_8880_0242ac1c0002row2_col3{\n",
              "            text-align:  center;\n",
              "            width:  10em;\n",
              "             height:  80%;\n",
              "            background:  linear-gradient(90deg,#aadbaa 93.9%, transparent 93.9%);\n",
              "            color:  #251e1b;\n",
              "            font-size:  12px;\n",
              "        }#T_60546e0a_7f9c_11ec_8880_0242ac1c0002row3_col0,#T_60546e0a_7f9c_11ec_8880_0242ac1c0002row4_col0{\n",
              "            text-align:  center;\n",
              "            width:  10em;\n",
              "             height:  80%;\n",
              "            background:  linear-gradient(90deg,#f5f8d6 100.0%, transparent 100.0%);\n",
              "            color:  #251e1b;\n",
              "            font-size:  12px;\n",
              "        }#T_60546e0a_7f9c_11ec_8880_0242ac1c0002row3_col1,#T_60546e0a_7f9c_11ec_8880_0242ac1c0002row4_col1{\n",
              "            text-align:  center;\n",
              "            width:  10em;\n",
              "             height:  80%;\n",
              "            background:  linear-gradient(90deg,#c778c8 100.0%, transparent 100.0%);\n",
              "            color:  #251e1b;\n",
              "            font-size:  12px;\n",
              "        }#T_60546e0a_7f9c_11ec_8880_0242ac1c0002row3_col2,#T_60546e0a_7f9c_11ec_8880_0242ac1c0002row4_col2{\n",
              "            text-align:  center;\n",
              "            width:  10em;\n",
              "             height:  80%;\n",
              "            background:  linear-gradient(90deg,#ff4971 100.0%, transparent 100.0%);\n",
              "            color:  #251e1b;\n",
              "            font-size:  12px;\n",
              "        }#T_60546e0a_7f9c_11ec_8880_0242ac1c0002row3_col3,#T_60546e0a_7f9c_11ec_8880_0242ac1c0002row4_col3{\n",
              "            text-align:  center;\n",
              "            width:  10em;\n",
              "             height:  80%;\n",
              "            background:  linear-gradient(90deg,#aadbaa 85.3%, transparent 85.3%);\n",
              "            color:  #251e1b;\n",
              "            font-size:  12px;\n",
              "        }</style><table id=\"T_60546e0a_7f9c_11ec_8880_0242ac1c0002\" class=\"dataframe\"><thead>    <tr>        <th class=\"blank level0\" ></th>        <th class=\"col_heading level0 col0\" >mse</th>        <th class=\"col_heading level0 col1\" >rmse</th>        <th class=\"col_heading level0 col2\" >mae</th>        <th class=\"col_heading level0 col3\" >r2</th>        <th class=\"col_heading level0 col4\" >ml_framework</th>        <th class=\"col_heading level0 col5\" >transfer_learning</th>        <th class=\"col_heading level0 col6\" >deep_learning</th>        <th class=\"col_heading level0 col7\" >model_type</th>        <th class=\"col_heading level0 col8\" >model_config</th>        <th class=\"col_heading level0 col9\" >username</th>        <th class=\"col_heading level0 col10\" >version</th>    </tr></thead><tbody>\n",
              "                <tr>\n",
              "                        <th id=\"T_60546e0a_7f9c_11ec_8880_0242ac1c0002level0_row0\" class=\"row_heading level0 row0\" >0</th>\n",
              "                        <td id=\"T_60546e0a_7f9c_11ec_8880_0242ac1c0002row0_col0\" class=\"data row0 col0\" >8133545.26</td>\n",
              "                        <td id=\"T_60546e0a_7f9c_11ec_8880_0242ac1c0002row0_col1\" class=\"data row0 col1\" >2851.94</td>\n",
              "                        <td id=\"T_60546e0a_7f9c_11ec_8880_0242ac1c0002row0_col2\" class=\"data row0 col2\" >1756.01</td>\n",
              "                        <td id=\"T_60546e0a_7f9c_11ec_8880_0242ac1c0002row0_col3\" class=\"data row0 col3\" >0.94</td>\n",
              "                        <td id=\"T_60546e0a_7f9c_11ec_8880_0242ac1c0002row0_col4\" class=\"data row0 col4\" >sklearn</td>\n",
              "                        <td id=\"T_60546e0a_7f9c_11ec_8880_0242ac1c0002row0_col5\" class=\"data row0 col5\" >False</td>\n",
              "                        <td id=\"T_60546e0a_7f9c_11ec_8880_0242ac1c0002row0_col6\" class=\"data row0 col6\" >False</td>\n",
              "                        <td id=\"T_60546e0a_7f9c_11ec_8880_0242ac1c0002row0_col7\" class=\"data row0 col7\" >RandomForestRegressor</td>\n",
              "                        <td id=\"T_60546e0a_7f9c_11ec_8880_0242ac1c0002row0_col8\" class=\"data row0 col8\" >{'bootstrap': True, 'ccp_alpha...</td>\n",
              "                        <td id=\"T_60546e0a_7f9c_11ec_8880_0242ac1c0002row0_col9\" class=\"data row0 col9\" >AIModelShare</td>\n",
              "                        <td id=\"T_60546e0a_7f9c_11ec_8880_0242ac1c0002row0_col10\" class=\"data row0 col10\" >5</td>\n",
              "            </tr>\n",
              "            <tr>\n",
              "                        <th id=\"T_60546e0a_7f9c_11ec_8880_0242ac1c0002level0_row1\" class=\"row_heading level0 row1\" >3</th>\n",
              "                        <td id=\"T_60546e0a_7f9c_11ec_8880_0242ac1c0002row1_col0\" class=\"data row1 col0\" >16362526.65</td>\n",
              "                        <td id=\"T_60546e0a_7f9c_11ec_8880_0242ac1c0002row1_col1\" class=\"data row1 col1\" >4045.06</td>\n",
              "                        <td id=\"T_60546e0a_7f9c_11ec_8880_0242ac1c0002row1_col2\" class=\"data row1 col2\" >2490.88</td>\n",
              "                        <td id=\"T_60546e0a_7f9c_11ec_8880_0242ac1c0002row1_col3\" class=\"data row1 col3\" >0.89</td>\n",
              "                        <td id=\"T_60546e0a_7f9c_11ec_8880_0242ac1c0002row1_col4\" class=\"data row1 col4\" >sklearn</td>\n",
              "                        <td id=\"T_60546e0a_7f9c_11ec_8880_0242ac1c0002row1_col5\" class=\"data row1 col5\" >False</td>\n",
              "                        <td id=\"T_60546e0a_7f9c_11ec_8880_0242ac1c0002row1_col6\" class=\"data row1 col6\" >False</td>\n",
              "                        <td id=\"T_60546e0a_7f9c_11ec_8880_0242ac1c0002row1_col7\" class=\"data row1 col7\" >RandomForestRegressor</td>\n",
              "                        <td id=\"T_60546e0a_7f9c_11ec_8880_0242ac1c0002row1_col8\" class=\"data row1 col8\" >{'bootstrap': True, 'ccp_alpha...</td>\n",
              "                        <td id=\"T_60546e0a_7f9c_11ec_8880_0242ac1c0002row1_col9\" class=\"data row1 col9\" >AIModelShare</td>\n",
              "                        <td id=\"T_60546e0a_7f9c_11ec_8880_0242ac1c0002row1_col10\" class=\"data row1 col10\" >1</td>\n",
              "            </tr>\n",
              "            <tr>\n",
              "                        <th id=\"T_60546e0a_7f9c_11ec_8880_0242ac1c0002level0_row2\" class=\"row_heading level0 row2\" >4</th>\n",
              "                        <td id=\"T_60546e0a_7f9c_11ec_8880_0242ac1c0002row2_col0\" class=\"data row2 col0\" >16362526.65</td>\n",
              "                        <td id=\"T_60546e0a_7f9c_11ec_8880_0242ac1c0002row2_col1\" class=\"data row2 col1\" >4045.06</td>\n",
              "                        <td id=\"T_60546e0a_7f9c_11ec_8880_0242ac1c0002row2_col2\" class=\"data row2 col2\" >2490.88</td>\n",
              "                        <td id=\"T_60546e0a_7f9c_11ec_8880_0242ac1c0002row2_col3\" class=\"data row2 col3\" >0.89</td>\n",
              "                        <td id=\"T_60546e0a_7f9c_11ec_8880_0242ac1c0002row2_col4\" class=\"data row2 col4\" >sklearn</td>\n",
              "                        <td id=\"T_60546e0a_7f9c_11ec_8880_0242ac1c0002row2_col5\" class=\"data row2 col5\" >False</td>\n",
              "                        <td id=\"T_60546e0a_7f9c_11ec_8880_0242ac1c0002row2_col6\" class=\"data row2 col6\" >False</td>\n",
              "                        <td id=\"T_60546e0a_7f9c_11ec_8880_0242ac1c0002row2_col7\" class=\"data row2 col7\" >RandomForestRegressor</td>\n",
              "                        <td id=\"T_60546e0a_7f9c_11ec_8880_0242ac1c0002row2_col8\" class=\"data row2 col8\" >{'bootstrap': True, 'ccp_alpha...</td>\n",
              "                        <td id=\"T_60546e0a_7f9c_11ec_8880_0242ac1c0002row2_col9\" class=\"data row2 col9\" >AIModelShare</td>\n",
              "                        <td id=\"T_60546e0a_7f9c_11ec_8880_0242ac1c0002row2_col10\" class=\"data row2 col10\" >3</td>\n",
              "            </tr>\n",
              "            <tr>\n",
              "                        <th id=\"T_60546e0a_7f9c_11ec_8880_0242ac1c0002level0_row3\" class=\"row_heading level0 row3\" >5</th>\n",
              "                        <td id=\"T_60546e0a_7f9c_11ec_8880_0242ac1c0002row3_col0\" class=\"data row3 col0\" >27925581.59</td>\n",
              "                        <td id=\"T_60546e0a_7f9c_11ec_8880_0242ac1c0002row3_col1\" class=\"data row3 col1\" >5284.47</td>\n",
              "                        <td id=\"T_60546e0a_7f9c_11ec_8880_0242ac1c0002row3_col2\" class=\"data row3 col2\" >3376.42</td>\n",
              "                        <td id=\"T_60546e0a_7f9c_11ec_8880_0242ac1c0002row3_col3\" class=\"data row3 col3\" >0.80</td>\n",
              "                        <td id=\"T_60546e0a_7f9c_11ec_8880_0242ac1c0002row3_col4\" class=\"data row3 col4\" >sklearn</td>\n",
              "                        <td id=\"T_60546e0a_7f9c_11ec_8880_0242ac1c0002row3_col5\" class=\"data row3 col5\" >False</td>\n",
              "                        <td id=\"T_60546e0a_7f9c_11ec_8880_0242ac1c0002row3_col6\" class=\"data row3 col6\" >False</td>\n",
              "                        <td id=\"T_60546e0a_7f9c_11ec_8880_0242ac1c0002row3_col7\" class=\"data row3 col7\" >RandomForestRegressor</td>\n",
              "                        <td id=\"T_60546e0a_7f9c_11ec_8880_0242ac1c0002row3_col8\" class=\"data row3 col8\" >{'bootstrap': True, 'ccp_alpha...</td>\n",
              "                        <td id=\"T_60546e0a_7f9c_11ec_8880_0242ac1c0002row3_col9\" class=\"data row3 col9\" >AIModelShare</td>\n",
              "                        <td id=\"T_60546e0a_7f9c_11ec_8880_0242ac1c0002row3_col10\" class=\"data row3 col10\" >2</td>\n",
              "            </tr>\n",
              "            <tr>\n",
              "                        <th id=\"T_60546e0a_7f9c_11ec_8880_0242ac1c0002level0_row4\" class=\"row_heading level0 row4\" >6</th>\n",
              "                        <td id=\"T_60546e0a_7f9c_11ec_8880_0242ac1c0002row4_col0\" class=\"data row4 col0\" >27925581.59</td>\n",
              "                        <td id=\"T_60546e0a_7f9c_11ec_8880_0242ac1c0002row4_col1\" class=\"data row4 col1\" >5284.47</td>\n",
              "                        <td id=\"T_60546e0a_7f9c_11ec_8880_0242ac1c0002row4_col2\" class=\"data row4 col2\" >3376.42</td>\n",
              "                        <td id=\"T_60546e0a_7f9c_11ec_8880_0242ac1c0002row4_col3\" class=\"data row4 col3\" >0.80</td>\n",
              "                        <td id=\"T_60546e0a_7f9c_11ec_8880_0242ac1c0002row4_col4\" class=\"data row4 col4\" >sklearn</td>\n",
              "                        <td id=\"T_60546e0a_7f9c_11ec_8880_0242ac1c0002row4_col5\" class=\"data row4 col5\" >False</td>\n",
              "                        <td id=\"T_60546e0a_7f9c_11ec_8880_0242ac1c0002row4_col6\" class=\"data row4 col6\" >False</td>\n",
              "                        <td id=\"T_60546e0a_7f9c_11ec_8880_0242ac1c0002row4_col7\" class=\"data row4 col7\" >RandomForestRegressor</td>\n",
              "                        <td id=\"T_60546e0a_7f9c_11ec_8880_0242ac1c0002row4_col8\" class=\"data row4 col8\" >{'bootstrap': True, 'ccp_alpha...</td>\n",
              "                        <td id=\"T_60546e0a_7f9c_11ec_8880_0242ac1c0002row4_col9\" class=\"data row4 col9\" >AIModelShare</td>\n",
              "                        <td id=\"T_60546e0a_7f9c_11ec_8880_0242ac1c0002row4_col10\" class=\"data row4 col10\" >4</td>\n",
              "            </tr>\n",
              "    </tbody></table>"
            ],
            "text/plain": [
              "<pandas.io.formats.style.Styler at 0x7f001065c4d0>"
            ]
          },
          "metadata": {},
          "execution_count": 24
        }
      ]
    },
    {
      "cell_type": "code",
      "metadata": {
        "id": "MKvPKyb7hT0h",
        "colab": {
          "base_uri": "https://localhost:8080/",
          "height": 421
        },
        "outputId": "a039ec07-4be4-48ec-b8ac-0e26916188b3"
      },
      "source": [
        "# Compare two or more models\n",
        "data=mycompetition.compare_models([5, 1, 3], verbose=1)\n",
        "mycompetition.stylize_compare(data)"
      ],
      "execution_count": 25,
      "outputs": [
        {
          "output_type": "display_data",
          "data": {
            "text/html": [
              "<style  type=\"text/css\" >\n",
              "    #T_633a3a78_7f9c_11ec_8880_0242ac1c0002 caption {\n",
              "          color: black;\n",
              "          font-size: 18px;\n",
              "    }#T_633a3a78_7f9c_11ec_8880_0242ac1c0002row3_col2,#T_633a3a78_7f9c_11ec_8880_0242ac1c0002row3_col3,#T_633a3a78_7f9c_11ec_8880_0242ac1c0002row3_col4,#T_633a3a78_7f9c_11ec_8880_0242ac1c0002row12_col3,#T_633a3a78_7f9c_11ec_8880_0242ac1c0002row12_col4,#T_633a3a78_7f9c_11ec_8880_0242ac1c0002row15_col3,#T_633a3a78_7f9c_11ec_8880_0242ac1c0002row15_col4{\n",
              "            background:  tomato;\n",
              "        }</style><table id=\"T_633a3a78_7f9c_11ec_8880_0242ac1c0002\" ><caption>Model type: RandomForestRegressor</caption><thead>    <tr>        <th class=\"blank level0\" ></th>        <th class=\"col_heading level0 col0\" >param_name</th>        <th class=\"col_heading level0 col1\" >default_value</th>        <th class=\"col_heading level0 col2\" >model_version_5</th>        <th class=\"col_heading level0 col3\" >model_version_1</th>        <th class=\"col_heading level0 col4\" >model_version_3</th>    </tr></thead><tbody>\n",
              "                <tr>\n",
              "                        <th id=\"T_633a3a78_7f9c_11ec_8880_0242ac1c0002level0_row0\" class=\"row_heading level0 row0\" >0</th>\n",
              "                        <td id=\"T_633a3a78_7f9c_11ec_8880_0242ac1c0002row0_col0\" class=\"data row0 col0\" >bootstrap</td>\n",
              "                        <td id=\"T_633a3a78_7f9c_11ec_8880_0242ac1c0002row0_col1\" class=\"data row0 col1\" >True</td>\n",
              "                        <td id=\"T_633a3a78_7f9c_11ec_8880_0242ac1c0002row0_col2\" class=\"data row0 col2\" >True</td>\n",
              "                        <td id=\"T_633a3a78_7f9c_11ec_8880_0242ac1c0002row0_col3\" class=\"data row0 col3\" >True</td>\n",
              "                        <td id=\"T_633a3a78_7f9c_11ec_8880_0242ac1c0002row0_col4\" class=\"data row0 col4\" >True</td>\n",
              "            </tr>\n",
              "            <tr>\n",
              "                        <th id=\"T_633a3a78_7f9c_11ec_8880_0242ac1c0002level0_row1\" class=\"row_heading level0 row1\" >1</th>\n",
              "                        <td id=\"T_633a3a78_7f9c_11ec_8880_0242ac1c0002row1_col0\" class=\"data row1 col0\" >ccp_alpha</td>\n",
              "                        <td id=\"T_633a3a78_7f9c_11ec_8880_0242ac1c0002row1_col1\" class=\"data row1 col1\" >0.000000</td>\n",
              "                        <td id=\"T_633a3a78_7f9c_11ec_8880_0242ac1c0002row1_col2\" class=\"data row1 col2\" >0.000000</td>\n",
              "                        <td id=\"T_633a3a78_7f9c_11ec_8880_0242ac1c0002row1_col3\" class=\"data row1 col3\" >0.000000</td>\n",
              "                        <td id=\"T_633a3a78_7f9c_11ec_8880_0242ac1c0002row1_col4\" class=\"data row1 col4\" >0.000000</td>\n",
              "            </tr>\n",
              "            <tr>\n",
              "                        <th id=\"T_633a3a78_7f9c_11ec_8880_0242ac1c0002level0_row2\" class=\"row_heading level0 row2\" >2</th>\n",
              "                        <td id=\"T_633a3a78_7f9c_11ec_8880_0242ac1c0002row2_col0\" class=\"data row2 col0\" >criterion</td>\n",
              "                        <td id=\"T_633a3a78_7f9c_11ec_8880_0242ac1c0002row2_col1\" class=\"data row2 col1\" >mse</td>\n",
              "                        <td id=\"T_633a3a78_7f9c_11ec_8880_0242ac1c0002row2_col2\" class=\"data row2 col2\" >mse</td>\n",
              "                        <td id=\"T_633a3a78_7f9c_11ec_8880_0242ac1c0002row2_col3\" class=\"data row2 col3\" >mse</td>\n",
              "                        <td id=\"T_633a3a78_7f9c_11ec_8880_0242ac1c0002row2_col4\" class=\"data row2 col4\" >mse</td>\n",
              "            </tr>\n",
              "            <tr>\n",
              "                        <th id=\"T_633a3a78_7f9c_11ec_8880_0242ac1c0002level0_row3\" class=\"row_heading level0 row3\" >3</th>\n",
              "                        <td id=\"T_633a3a78_7f9c_11ec_8880_0242ac1c0002row3_col0\" class=\"data row3 col0\" >max_depth</td>\n",
              "                        <td id=\"T_633a3a78_7f9c_11ec_8880_0242ac1c0002row3_col1\" class=\"data row3 col1\" >None</td>\n",
              "                        <td id=\"T_633a3a78_7f9c_11ec_8880_0242ac1c0002row3_col2\" class=\"data row3 col2\" >5</td>\n",
              "                        <td id=\"T_633a3a78_7f9c_11ec_8880_0242ac1c0002row3_col3\" class=\"data row3 col3\" >3</td>\n",
              "                        <td id=\"T_633a3a78_7f9c_11ec_8880_0242ac1c0002row3_col4\" class=\"data row3 col4\" >3</td>\n",
              "            </tr>\n",
              "            <tr>\n",
              "                        <th id=\"T_633a3a78_7f9c_11ec_8880_0242ac1c0002level0_row4\" class=\"row_heading level0 row4\" >4</th>\n",
              "                        <td id=\"T_633a3a78_7f9c_11ec_8880_0242ac1c0002row4_col0\" class=\"data row4 col0\" >max_features</td>\n",
              "                        <td id=\"T_633a3a78_7f9c_11ec_8880_0242ac1c0002row4_col1\" class=\"data row4 col1\" >auto</td>\n",
              "                        <td id=\"T_633a3a78_7f9c_11ec_8880_0242ac1c0002row4_col2\" class=\"data row4 col2\" >auto</td>\n",
              "                        <td id=\"T_633a3a78_7f9c_11ec_8880_0242ac1c0002row4_col3\" class=\"data row4 col3\" >auto</td>\n",
              "                        <td id=\"T_633a3a78_7f9c_11ec_8880_0242ac1c0002row4_col4\" class=\"data row4 col4\" >auto</td>\n",
              "            </tr>\n",
              "            <tr>\n",
              "                        <th id=\"T_633a3a78_7f9c_11ec_8880_0242ac1c0002level0_row5\" class=\"row_heading level0 row5\" >5</th>\n",
              "                        <td id=\"T_633a3a78_7f9c_11ec_8880_0242ac1c0002row5_col0\" class=\"data row5 col0\" >max_leaf_nodes</td>\n",
              "                        <td id=\"T_633a3a78_7f9c_11ec_8880_0242ac1c0002row5_col1\" class=\"data row5 col1\" >None</td>\n",
              "                        <td id=\"T_633a3a78_7f9c_11ec_8880_0242ac1c0002row5_col2\" class=\"data row5 col2\" >None</td>\n",
              "                        <td id=\"T_633a3a78_7f9c_11ec_8880_0242ac1c0002row5_col3\" class=\"data row5 col3\" >None</td>\n",
              "                        <td id=\"T_633a3a78_7f9c_11ec_8880_0242ac1c0002row5_col4\" class=\"data row5 col4\" >None</td>\n",
              "            </tr>\n",
              "            <tr>\n",
              "                        <th id=\"T_633a3a78_7f9c_11ec_8880_0242ac1c0002level0_row6\" class=\"row_heading level0 row6\" >6</th>\n",
              "                        <td id=\"T_633a3a78_7f9c_11ec_8880_0242ac1c0002row6_col0\" class=\"data row6 col0\" >max_samples</td>\n",
              "                        <td id=\"T_633a3a78_7f9c_11ec_8880_0242ac1c0002row6_col1\" class=\"data row6 col1\" >None</td>\n",
              "                        <td id=\"T_633a3a78_7f9c_11ec_8880_0242ac1c0002row6_col2\" class=\"data row6 col2\" >None</td>\n",
              "                        <td id=\"T_633a3a78_7f9c_11ec_8880_0242ac1c0002row6_col3\" class=\"data row6 col3\" >None</td>\n",
              "                        <td id=\"T_633a3a78_7f9c_11ec_8880_0242ac1c0002row6_col4\" class=\"data row6 col4\" >None</td>\n",
              "            </tr>\n",
              "            <tr>\n",
              "                        <th id=\"T_633a3a78_7f9c_11ec_8880_0242ac1c0002level0_row7\" class=\"row_heading level0 row7\" >7</th>\n",
              "                        <td id=\"T_633a3a78_7f9c_11ec_8880_0242ac1c0002row7_col0\" class=\"data row7 col0\" >min_impurity_decrease</td>\n",
              "                        <td id=\"T_633a3a78_7f9c_11ec_8880_0242ac1c0002row7_col1\" class=\"data row7 col1\" >0.000000</td>\n",
              "                        <td id=\"T_633a3a78_7f9c_11ec_8880_0242ac1c0002row7_col2\" class=\"data row7 col2\" >0.000000</td>\n",
              "                        <td id=\"T_633a3a78_7f9c_11ec_8880_0242ac1c0002row7_col3\" class=\"data row7 col3\" >0.000000</td>\n",
              "                        <td id=\"T_633a3a78_7f9c_11ec_8880_0242ac1c0002row7_col4\" class=\"data row7 col4\" >0.000000</td>\n",
              "            </tr>\n",
              "            <tr>\n",
              "                        <th id=\"T_633a3a78_7f9c_11ec_8880_0242ac1c0002level0_row8\" class=\"row_heading level0 row8\" >8</th>\n",
              "                        <td id=\"T_633a3a78_7f9c_11ec_8880_0242ac1c0002row8_col0\" class=\"data row8 col0\" >min_impurity_split</td>\n",
              "                        <td id=\"T_633a3a78_7f9c_11ec_8880_0242ac1c0002row8_col1\" class=\"data row8 col1\" >None</td>\n",
              "                        <td id=\"T_633a3a78_7f9c_11ec_8880_0242ac1c0002row8_col2\" class=\"data row8 col2\" >None</td>\n",
              "                        <td id=\"T_633a3a78_7f9c_11ec_8880_0242ac1c0002row8_col3\" class=\"data row8 col3\" >None</td>\n",
              "                        <td id=\"T_633a3a78_7f9c_11ec_8880_0242ac1c0002row8_col4\" class=\"data row8 col4\" >None</td>\n",
              "            </tr>\n",
              "            <tr>\n",
              "                        <th id=\"T_633a3a78_7f9c_11ec_8880_0242ac1c0002level0_row9\" class=\"row_heading level0 row9\" >9</th>\n",
              "                        <td id=\"T_633a3a78_7f9c_11ec_8880_0242ac1c0002row9_col0\" class=\"data row9 col0\" >min_samples_leaf</td>\n",
              "                        <td id=\"T_633a3a78_7f9c_11ec_8880_0242ac1c0002row9_col1\" class=\"data row9 col1\" >1</td>\n",
              "                        <td id=\"T_633a3a78_7f9c_11ec_8880_0242ac1c0002row9_col2\" class=\"data row9 col2\" >1</td>\n",
              "                        <td id=\"T_633a3a78_7f9c_11ec_8880_0242ac1c0002row9_col3\" class=\"data row9 col3\" >1</td>\n",
              "                        <td id=\"T_633a3a78_7f9c_11ec_8880_0242ac1c0002row9_col4\" class=\"data row9 col4\" >1</td>\n",
              "            </tr>\n",
              "            <tr>\n",
              "                        <th id=\"T_633a3a78_7f9c_11ec_8880_0242ac1c0002level0_row10\" class=\"row_heading level0 row10\" >10</th>\n",
              "                        <td id=\"T_633a3a78_7f9c_11ec_8880_0242ac1c0002row10_col0\" class=\"data row10 col0\" >min_samples_split</td>\n",
              "                        <td id=\"T_633a3a78_7f9c_11ec_8880_0242ac1c0002row10_col1\" class=\"data row10 col1\" >2</td>\n",
              "                        <td id=\"T_633a3a78_7f9c_11ec_8880_0242ac1c0002row10_col2\" class=\"data row10 col2\" >2</td>\n",
              "                        <td id=\"T_633a3a78_7f9c_11ec_8880_0242ac1c0002row10_col3\" class=\"data row10 col3\" >2</td>\n",
              "                        <td id=\"T_633a3a78_7f9c_11ec_8880_0242ac1c0002row10_col4\" class=\"data row10 col4\" >2</td>\n",
              "            </tr>\n",
              "            <tr>\n",
              "                        <th id=\"T_633a3a78_7f9c_11ec_8880_0242ac1c0002level0_row11\" class=\"row_heading level0 row11\" >11</th>\n",
              "                        <td id=\"T_633a3a78_7f9c_11ec_8880_0242ac1c0002row11_col0\" class=\"data row11 col0\" >min_weight_fraction_leaf</td>\n",
              "                        <td id=\"T_633a3a78_7f9c_11ec_8880_0242ac1c0002row11_col1\" class=\"data row11 col1\" >0.000000</td>\n",
              "                        <td id=\"T_633a3a78_7f9c_11ec_8880_0242ac1c0002row11_col2\" class=\"data row11 col2\" >0.000000</td>\n",
              "                        <td id=\"T_633a3a78_7f9c_11ec_8880_0242ac1c0002row11_col3\" class=\"data row11 col3\" >0.000000</td>\n",
              "                        <td id=\"T_633a3a78_7f9c_11ec_8880_0242ac1c0002row11_col4\" class=\"data row11 col4\" >0.000000</td>\n",
              "            </tr>\n",
              "            <tr>\n",
              "                        <th id=\"T_633a3a78_7f9c_11ec_8880_0242ac1c0002level0_row12\" class=\"row_heading level0 row12\" >12</th>\n",
              "                        <td id=\"T_633a3a78_7f9c_11ec_8880_0242ac1c0002row12_col0\" class=\"data row12 col0\" >n_estimators</td>\n",
              "                        <td id=\"T_633a3a78_7f9c_11ec_8880_0242ac1c0002row12_col1\" class=\"data row12 col1\" >100</td>\n",
              "                        <td id=\"T_633a3a78_7f9c_11ec_8880_0242ac1c0002row12_col2\" class=\"data row12 col2\" >100</td>\n",
              "                        <td id=\"T_633a3a78_7f9c_11ec_8880_0242ac1c0002row12_col3\" class=\"data row12 col3\" >500</td>\n",
              "                        <td id=\"T_633a3a78_7f9c_11ec_8880_0242ac1c0002row12_col4\" class=\"data row12 col4\" >500</td>\n",
              "            </tr>\n",
              "            <tr>\n",
              "                        <th id=\"T_633a3a78_7f9c_11ec_8880_0242ac1c0002level0_row13\" class=\"row_heading level0 row13\" >13</th>\n",
              "                        <td id=\"T_633a3a78_7f9c_11ec_8880_0242ac1c0002row13_col0\" class=\"data row13 col0\" >n_jobs</td>\n",
              "                        <td id=\"T_633a3a78_7f9c_11ec_8880_0242ac1c0002row13_col1\" class=\"data row13 col1\" >None</td>\n",
              "                        <td id=\"T_633a3a78_7f9c_11ec_8880_0242ac1c0002row13_col2\" class=\"data row13 col2\" >None</td>\n",
              "                        <td id=\"T_633a3a78_7f9c_11ec_8880_0242ac1c0002row13_col3\" class=\"data row13 col3\" >None</td>\n",
              "                        <td id=\"T_633a3a78_7f9c_11ec_8880_0242ac1c0002row13_col4\" class=\"data row13 col4\" >None</td>\n",
              "            </tr>\n",
              "            <tr>\n",
              "                        <th id=\"T_633a3a78_7f9c_11ec_8880_0242ac1c0002level0_row14\" class=\"row_heading level0 row14\" >14</th>\n",
              "                        <td id=\"T_633a3a78_7f9c_11ec_8880_0242ac1c0002row14_col0\" class=\"data row14 col0\" >oob_score</td>\n",
              "                        <td id=\"T_633a3a78_7f9c_11ec_8880_0242ac1c0002row14_col1\" class=\"data row14 col1\" >False</td>\n",
              "                        <td id=\"T_633a3a78_7f9c_11ec_8880_0242ac1c0002row14_col2\" class=\"data row14 col2\" >False</td>\n",
              "                        <td id=\"T_633a3a78_7f9c_11ec_8880_0242ac1c0002row14_col3\" class=\"data row14 col3\" >False</td>\n",
              "                        <td id=\"T_633a3a78_7f9c_11ec_8880_0242ac1c0002row14_col4\" class=\"data row14 col4\" >False</td>\n",
              "            </tr>\n",
              "            <tr>\n",
              "                        <th id=\"T_633a3a78_7f9c_11ec_8880_0242ac1c0002level0_row15\" class=\"row_heading level0 row15\" >15</th>\n",
              "                        <td id=\"T_633a3a78_7f9c_11ec_8880_0242ac1c0002row15_col0\" class=\"data row15 col0\" >random_state</td>\n",
              "                        <td id=\"T_633a3a78_7f9c_11ec_8880_0242ac1c0002row15_col1\" class=\"data row15 col1\" >None</td>\n",
              "                        <td id=\"T_633a3a78_7f9c_11ec_8880_0242ac1c0002row15_col2\" class=\"data row15 col2\" >None</td>\n",
              "                        <td id=\"T_633a3a78_7f9c_11ec_8880_0242ac1c0002row15_col3\" class=\"data row15 col3\" >0</td>\n",
              "                        <td id=\"T_633a3a78_7f9c_11ec_8880_0242ac1c0002row15_col4\" class=\"data row15 col4\" >0</td>\n",
              "            </tr>\n",
              "            <tr>\n",
              "                        <th id=\"T_633a3a78_7f9c_11ec_8880_0242ac1c0002level0_row16\" class=\"row_heading level0 row16\" >16</th>\n",
              "                        <td id=\"T_633a3a78_7f9c_11ec_8880_0242ac1c0002row16_col0\" class=\"data row16 col0\" >verbose</td>\n",
              "                        <td id=\"T_633a3a78_7f9c_11ec_8880_0242ac1c0002row16_col1\" class=\"data row16 col1\" >0</td>\n",
              "                        <td id=\"T_633a3a78_7f9c_11ec_8880_0242ac1c0002row16_col2\" class=\"data row16 col2\" >0</td>\n",
              "                        <td id=\"T_633a3a78_7f9c_11ec_8880_0242ac1c0002row16_col3\" class=\"data row16 col3\" >0</td>\n",
              "                        <td id=\"T_633a3a78_7f9c_11ec_8880_0242ac1c0002row16_col4\" class=\"data row16 col4\" >0</td>\n",
              "            </tr>\n",
              "            <tr>\n",
              "                        <th id=\"T_633a3a78_7f9c_11ec_8880_0242ac1c0002level0_row17\" class=\"row_heading level0 row17\" >17</th>\n",
              "                        <td id=\"T_633a3a78_7f9c_11ec_8880_0242ac1c0002row17_col0\" class=\"data row17 col0\" >warm_start</td>\n",
              "                        <td id=\"T_633a3a78_7f9c_11ec_8880_0242ac1c0002row17_col1\" class=\"data row17 col1\" >False</td>\n",
              "                        <td id=\"T_633a3a78_7f9c_11ec_8880_0242ac1c0002row17_col2\" class=\"data row17 col2\" >False</td>\n",
              "                        <td id=\"T_633a3a78_7f9c_11ec_8880_0242ac1c0002row17_col3\" class=\"data row17 col3\" >False</td>\n",
              "                        <td id=\"T_633a3a78_7f9c_11ec_8880_0242ac1c0002row17_col4\" class=\"data row17 col4\" >False</td>\n",
              "            </tr>\n",
              "    </tbody></table>"
            ],
            "text/plain": [
              "<IPython.core.display.HTML object>"
            ]
          },
          "metadata": {}
        },
        {
          "output_type": "stream",
          "name": "stdout",
          "text": [
            "\n",
            "\n",
            "\n"
          ]
        }
      ]
    },
    {
      "cell_type": "code",
      "metadata": {
        "id": "tukB40NshcaB",
        "colab": {
          "base_uri": "https://localhost:8080/"
        },
        "outputId": "a35f6c4a-204d-47b9-aff9-f5f69c2b6f96"
      },
      "source": [
        "# Here are several classic ML architectures you can choose from to experiment with next:\n",
        "from sklearn.neighbors import KNeighborsRegressor\n",
        "from sklearn.ensemble import RandomForestRegressor\n",
        "from sklearn.tree import DecisionTreeRegressor\n",
        "from sklearn.ensemble import BaggingRegressor\n",
        "from sklearn.ensemble import GradientBoostingRegressor\n",
        "\n",
        "\n",
        "#Example code to fit model:\n",
        "model = GradientBoostingRegressor(n_estimators=50, learning_rate=1.0,\n",
        "    max_depth=1, random_state=0).fit(preprocessor(X_train), y_train)\n",
        "model.score(preprocessor(X_train), y_train)\n",
        "\n",
        "# Save sklearn model to local ONNX file\n",
        "from aimodelshare.aimsonnx import model_to_onnx\n",
        "\n",
        "feature_count=preprocessor(X_test).shape[1] #Get count of preprocessed features\n",
        "initial_type = [('float_input', FloatTensorType([None, feature_count]))]  # Insert correct number of preprocessed features\n",
        "\n",
        "onnx_model = model_to_onnx(model, framework='sklearn',\n",
        "                          initial_types=initial_type,\n",
        "                          transfer_learning=False,\n",
        "                          deep_learning=False)\n",
        "\n",
        "with open(\"model.onnx\", \"wb\") as f:\n",
        "    f.write(onnx_model.SerializeToString())\n",
        "\n",
        "#-- Generate predicted values (a list of predicted labels \"real\" or \"fake\")\n",
        "prediction_labels = model.predict(preprocessor(X_test))\n",
        "\n",
        "# Submit model to Competition Leaderboard\n",
        "mycompetition.submit_model(model_filepath = \"model.onnx\",\n",
        "                                 preprocessor_filepath=\"preprocessor.zip\",\n",
        "                                 prediction_submission=prediction_labels)\n"
      ],
      "execution_count": 26,
      "outputs": [
        {
          "output_type": "stream",
          "name": "stdout",
          "text": [
            "Insert search tags to help users find your model (optional): \n",
            "Provide any useful notes about your model (optional): \n",
            "\n",
            "Your model has been submitted as model version 6\n",
            "\n",
            "To submit code used to create this model or to view current leaderboard navigate to Model Playground: \n",
            "\n",
            " https://www.modelshare.org/detail/model:1307\n"
          ]
        }
      ]
    }
  ]
}