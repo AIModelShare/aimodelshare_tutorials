{
  "nbformat": 4,
  "nbformat_minor": 0,
  "metadata": {
    "colab": {
      "name": "[CARS] Model Submission Guide - sklearn.ipynb",
      "provenance": [],
      "collapsed_sections": []
    },
    "kernelspec": {
      "name": "python3",
      "display_name": "Python 3"
    },
    "language_info": {
      "name": "python"
    }
  },
  "cells": [
    {
      "cell_type": "markdown",
      "source": [
        "<p align=\"center\"><img width=\"50%\" src=\"https://aimodelsharecontent.s3.amazonaws.com/aimodshare_banner.jpg\" /></p>\n",
        "\n",
        "\n",
        "---\n"
      ],
      "metadata": {
        "id": "m_DMeZsXxpEZ"
      }
    },
    {
      "cell_type": "markdown",
      "metadata": {
        "id": "JXxGTgJz152A"
      },
      "source": [
        "<p align=\"center\"><h1 align=\"center\">Used Car Sales Price Prediction Competition\n",
        "\n",
        "##### <p align=\"center\">*Note: Dataset adapted from N. Birla's public dataset ['Vehicle Dataset'](https://www.kaggle.com/nehalbirla/vehicle-dataset-from-cardekho)* \n",
        "---\n",
        "Let's share our models to a centralized leaderboard, so that we can collaborate and learn from the model experimentation process...\n",
        "\n",
        "**Instructions:**\n",
        "1.   Get data in and set up X_train / X_test / y_train\n",
        "2.   Preprocess data  with Sklearn Column Transformer/ Write and Save Preprocessor function\n",
        "3. Fit model on preprocessed data and save preprocessor function and model \n",
        "4. Generate predictions from X_test data and submit model to competition\n",
        "5. Repeat submission process to improve place on leaderboard\n",
        "\n"
      ]
    },
    {
      "cell_type": "markdown",
      "metadata": {
        "id": "5gSrVJwp3E9H"
      },
      "source": [
        "## 1. Get data in and set up X_train, X_test, y_train objects"
      ]
    },
    {
      "cell_type": "code",
      "metadata": {
        "id": "PLTIaMB3ChSW",
        "colab": {
          "base_uri": "https://localhost:8080/"
        },
        "outputId": "f57b11b0-5062-49f4-d296-1a767413134e"
      },
      "source": [
        "#install aimodelshare library\n",
        "! pip install aimodelshare --upgrade"
      ],
      "execution_count": 1,
      "outputs": [
        {
          "output_type": "stream",
          "name": "stdout",
          "text": [
            "Looking in indexes: https://pypi.org/simple, https://us-python.pkg.dev/colab-wheels/public/simple/\n",
            "Collecting aimodelshare\n",
            "  Downloading aimodelshare-0.0.99-py3-none-any.whl (377 kB)\n",
            "\u001b[K     |████████████████████████████████| 377 kB 7.5 MB/s \n",
            "\u001b[?25hCollecting botocore==1.21.2\n",
            "  Downloading botocore-1.21.2-py3-none-any.whl (7.7 MB)\n",
            "\u001b[K     |████████████████████████████████| 7.7 MB 14.7 MB/s \n",
            "\u001b[?25hCollecting shortuuid>=1.0.8\n",
            "  Downloading shortuuid-1.0.9-py3-none-any.whl (9.4 kB)\n",
            "Collecting onnx>=1.9.0\n",
            "  Downloading onnx-1.11.0-cp37-cp37m-manylinux_2_12_x86_64.manylinux2010_x86_64.whl (12.8 MB)\n",
            "\u001b[K     |████████████████████████████████| 12.8 MB 26.4 MB/s \n",
            "\u001b[?25hRequirement already satisfied: astunparse==1.6.3 in /usr/local/lib/python3.7/dist-packages (from aimodelshare) (1.6.3)\n",
            "Collecting boto3==1.18.2\n",
            "  Downloading boto3-1.18.2-py3-none-any.whl (131 kB)\n",
            "\u001b[K     |████████████████████████████████| 131 kB 44.0 MB/s \n",
            "\u001b[?25hCollecting wget==3.2\n",
            "  Downloading wget-3.2.zip (10 kB)\n",
            "Requirement already satisfied: xgboost>=0.90 in /usr/local/lib/python3.7/dist-packages (from aimodelshare) (0.90)\n",
            "Collecting tf2onnx\n",
            "  Downloading tf2onnx-1.11.1-py3-none-any.whl (440 kB)\n",
            "\u001b[K     |████████████████████████████████| 440 kB 20.1 MB/s \n",
            "\u001b[?25hCollecting onnxruntime>=1.7.0\n",
            "  Downloading onnxruntime-1.11.1-cp37-cp37m-manylinux_2_17_x86_64.manylinux2014_x86_64.whl (5.2 MB)\n",
            "\u001b[K     |████████████████████████████████| 5.2 MB 11.4 MB/s \n",
            "\u001b[?25hRequirement already satisfied: seaborn>=0.11.2 in /usr/local/lib/python3.7/dist-packages (from aimodelshare) (0.11.2)\n",
            "Collecting onnxmltools>=1.6.1\n",
            "  Downloading onnxmltools-1.11.0-py2.py3-none-any.whl (302 kB)\n",
            "\u001b[K     |████████████████████████████████| 302 kB 48.1 MB/s \n",
            "\u001b[?25hCollecting Pympler==0.9\n",
            "  Downloading Pympler-0.9.tar.gz (178 kB)\n",
            "\u001b[K     |████████████████████████████████| 178 kB 27.1 MB/s \n",
            "\u001b[?25hCollecting docker==5.0.0\n",
            "  Downloading docker-5.0.0-py2.py3-none-any.whl (146 kB)\n",
            "\u001b[K     |████████████████████████████████| 146 kB 41.7 MB/s \n",
            "\u001b[?25hRequirement already satisfied: torch>=1.8.1 in /usr/local/lib/python3.7/dist-packages (from aimodelshare) (1.11.0+cu113)\n",
            "Collecting keras2onnx>=1.7.0\n",
            "  Downloading keras2onnx-1.7.0-py3-none-any.whl (96 kB)\n",
            "\u001b[K     |████████████████████████████████| 96 kB 3.9 MB/s \n",
            "\u001b[?25hRequirement already satisfied: tensorflow>=2.5.0 in /usr/local/lib/python3.7/dist-packages (from aimodelshare) (2.8.2+zzzcolab20220527125636)\n",
            "Collecting urllib3==1.25.11\n",
            "  Downloading urllib3-1.25.11-py2.py3-none-any.whl (127 kB)\n",
            "\u001b[K     |████████████████████████████████| 127 kB 53.9 MB/s \n",
            "\u001b[?25hCollecting skl2onnx>=1.8.0\n",
            "  Downloading skl2onnx-1.11.2-py2.py3-none-any.whl (278 kB)\n",
            "\u001b[K     |████████████████████████████████| 278 kB 43.8 MB/s \n",
            "\u001b[?25hCollecting PyJWT==2.2.0\n",
            "  Downloading PyJWT-2.2.0-py3-none-any.whl (16 kB)\n",
            "Collecting scikit-learn==0.24.2\n",
            "  Downloading scikit_learn-0.24.2-cp37-cp37m-manylinux2010_x86_64.whl (22.3 MB)\n",
            "\u001b[K     |████████████████████████████████| 22.3 MB 14.5 MB/s \n",
            "\u001b[?25hCollecting onnxconverter-common>=1.7.0\n",
            "  Downloading onnxconverter_common-1.9.0-py2.py3-none-any.whl (78 kB)\n",
            "\u001b[K     |████████████████████████████████| 78 kB 3.3 MB/s \n",
            "\u001b[?25hRequirement already satisfied: six<2.0,>=1.6.1 in /usr/local/lib/python3.7/dist-packages (from astunparse==1.6.3->aimodelshare) (1.15.0)\n",
            "Requirement already satisfied: wheel<1.0,>=0.23.0 in /usr/local/lib/python3.7/dist-packages (from astunparse==1.6.3->aimodelshare) (0.37.1)\n",
            "Collecting s3transfer<0.6.0,>=0.5.0\n",
            "  Downloading s3transfer-0.5.2-py3-none-any.whl (79 kB)\n",
            "\u001b[K     |████████████████████████████████| 79 kB 7.2 MB/s \n",
            "\u001b[?25hCollecting jmespath<1.0.0,>=0.7.1\n",
            "  Downloading jmespath-0.10.0-py2.py3-none-any.whl (24 kB)\n",
            "Requirement already satisfied: python-dateutil<3.0.0,>=2.1 in /usr/local/lib/python3.7/dist-packages (from botocore==1.21.2->aimodelshare) (2.8.2)\n",
            "Collecting websocket-client>=0.32.0\n",
            "  Downloading websocket_client-1.3.2-py3-none-any.whl (54 kB)\n",
            "\u001b[K     |████████████████████████████████| 54 kB 3.1 MB/s \n",
            "\u001b[?25hRequirement already satisfied: requests!=2.18.0,>=2.14.2 in /usr/local/lib/python3.7/dist-packages (from docker==5.0.0->aimodelshare) (2.23.0)\n",
            "Requirement already satisfied: numpy>=1.13.3 in /usr/local/lib/python3.7/dist-packages (from scikit-learn==0.24.2->aimodelshare) (1.21.6)\n",
            "Requirement already satisfied: threadpoolctl>=2.0.0 in /usr/local/lib/python3.7/dist-packages (from scikit-learn==0.24.2->aimodelshare) (3.1.0)\n",
            "Requirement already satisfied: scipy>=0.19.1 in /usr/local/lib/python3.7/dist-packages (from scikit-learn==0.24.2->aimodelshare) (1.4.1)\n",
            "Requirement already satisfied: joblib>=0.11 in /usr/local/lib/python3.7/dist-packages (from scikit-learn==0.24.2->aimodelshare) (1.1.0)\n",
            "Requirement already satisfied: protobuf in /usr/local/lib/python3.7/dist-packages (from keras2onnx>=1.7.0->aimodelshare) (3.17.3)\n",
            "Collecting fire\n",
            "  Downloading fire-0.4.0.tar.gz (87 kB)\n",
            "\u001b[K     |████████████████████████████████| 87 kB 7.8 MB/s \n",
            "\u001b[?25hRequirement already satisfied: typing-extensions>=3.6.2.1 in /usr/local/lib/python3.7/dist-packages (from onnx>=1.9.0->aimodelshare) (4.2.0)\n",
            "Requirement already satisfied: flatbuffers in /usr/local/lib/python3.7/dist-packages (from onnxruntime>=1.7.0->aimodelshare) (2.0)\n",
            "Requirement already satisfied: certifi>=2017.4.17 in /usr/local/lib/python3.7/dist-packages (from requests!=2.18.0,>=2.14.2->docker==5.0.0->aimodelshare) (2022.5.18.1)\n",
            "Requirement already satisfied: chardet<4,>=3.0.2 in /usr/local/lib/python3.7/dist-packages (from requests!=2.18.0,>=2.14.2->docker==5.0.0->aimodelshare) (3.0.4)\n",
            "Requirement already satisfied: idna<3,>=2.5 in /usr/local/lib/python3.7/dist-packages (from requests!=2.18.0,>=2.14.2->docker==5.0.0->aimodelshare) (2.10)\n",
            "Requirement already satisfied: pandas>=0.23 in /usr/local/lib/python3.7/dist-packages (from seaborn>=0.11.2->aimodelshare) (1.3.5)\n",
            "Requirement already satisfied: matplotlib>=2.2 in /usr/local/lib/python3.7/dist-packages (from seaborn>=0.11.2->aimodelshare) (3.2.2)\n",
            "Requirement already satisfied: pyparsing!=2.0.4,!=2.1.2,!=2.1.6,>=2.0.1 in /usr/local/lib/python3.7/dist-packages (from matplotlib>=2.2->seaborn>=0.11.2->aimodelshare) (3.0.9)\n",
            "Requirement already satisfied: cycler>=0.10 in /usr/local/lib/python3.7/dist-packages (from matplotlib>=2.2->seaborn>=0.11.2->aimodelshare) (0.11.0)\n",
            "Requirement already satisfied: kiwisolver>=1.0.1 in /usr/local/lib/python3.7/dist-packages (from matplotlib>=2.2->seaborn>=0.11.2->aimodelshare) (1.4.2)\n",
            "Requirement already satisfied: pytz>=2017.3 in /usr/local/lib/python3.7/dist-packages (from pandas>=0.23->seaborn>=0.11.2->aimodelshare) (2022.1)\n",
            "Requirement already satisfied: tensorflow-estimator<2.9,>=2.8 in /usr/local/lib/python3.7/dist-packages (from tensorflow>=2.5.0->aimodelshare) (2.8.0)\n",
            "Requirement already satisfied: termcolor>=1.1.0 in /usr/local/lib/python3.7/dist-packages (from tensorflow>=2.5.0->aimodelshare) (1.1.0)\n",
            "Requirement already satisfied: tensorboard<2.9,>=2.8 in /usr/local/lib/python3.7/dist-packages (from tensorflow>=2.5.0->aimodelshare) (2.8.0)\n",
            "Requirement already satisfied: grpcio<2.0,>=1.24.3 in /usr/local/lib/python3.7/dist-packages (from tensorflow>=2.5.0->aimodelshare) (1.46.3)\n",
            "Requirement already satisfied: absl-py>=0.4.0 in /usr/local/lib/python3.7/dist-packages (from tensorflow>=2.5.0->aimodelshare) (1.0.0)\n",
            "Requirement already satisfied: keras<2.9,>=2.8.0rc0 in /usr/local/lib/python3.7/dist-packages (from tensorflow>=2.5.0->aimodelshare) (2.8.0)\n",
            "Requirement already satisfied: libclang>=9.0.1 in /usr/local/lib/python3.7/dist-packages (from tensorflow>=2.5.0->aimodelshare) (14.0.1)\n",
            "Requirement already satisfied: keras-preprocessing>=1.1.1 in /usr/local/lib/python3.7/dist-packages (from tensorflow>=2.5.0->aimodelshare) (1.1.2)\n",
            "Requirement already satisfied: tensorflow-io-gcs-filesystem>=0.23.1 in /usr/local/lib/python3.7/dist-packages (from tensorflow>=2.5.0->aimodelshare) (0.26.0)\n",
            "Requirement already satisfied: gast>=0.2.1 in /usr/local/lib/python3.7/dist-packages (from tensorflow>=2.5.0->aimodelshare) (0.5.3)\n",
            "Requirement already satisfied: google-pasta>=0.1.1 in /usr/local/lib/python3.7/dist-packages (from tensorflow>=2.5.0->aimodelshare) (0.2.0)\n",
            "Requirement already satisfied: wrapt>=1.11.0 in /usr/local/lib/python3.7/dist-packages (from tensorflow>=2.5.0->aimodelshare) (1.14.1)\n",
            "Requirement already satisfied: opt-einsum>=2.3.2 in /usr/local/lib/python3.7/dist-packages (from tensorflow>=2.5.0->aimodelshare) (3.3.0)\n",
            "Requirement already satisfied: setuptools in /usr/local/lib/python3.7/dist-packages (from tensorflow>=2.5.0->aimodelshare) (57.4.0)\n",
            "Requirement already satisfied: h5py>=2.9.0 in /usr/local/lib/python3.7/dist-packages (from tensorflow>=2.5.0->aimodelshare) (3.1.0)\n",
            "Requirement already satisfied: cached-property in /usr/local/lib/python3.7/dist-packages (from h5py>=2.9.0->tensorflow>=2.5.0->aimodelshare) (1.5.2)\n",
            "Requirement already satisfied: google-auth-oauthlib<0.5,>=0.4.1 in /usr/local/lib/python3.7/dist-packages (from tensorboard<2.9,>=2.8->tensorflow>=2.5.0->aimodelshare) (0.4.6)\n",
            "Requirement already satisfied: google-auth<3,>=1.6.3 in /usr/local/lib/python3.7/dist-packages (from tensorboard<2.9,>=2.8->tensorflow>=2.5.0->aimodelshare) (1.35.0)\n",
            "Requirement already satisfied: werkzeug>=0.11.15 in /usr/local/lib/python3.7/dist-packages (from tensorboard<2.9,>=2.8->tensorflow>=2.5.0->aimodelshare) (1.0.1)\n",
            "Requirement already satisfied: markdown>=2.6.8 in /usr/local/lib/python3.7/dist-packages (from tensorboard<2.9,>=2.8->tensorflow>=2.5.0->aimodelshare) (3.3.7)\n",
            "Requirement already satisfied: tensorboard-plugin-wit>=1.6.0 in /usr/local/lib/python3.7/dist-packages (from tensorboard<2.9,>=2.8->tensorflow>=2.5.0->aimodelshare) (1.8.1)\n",
            "Requirement already satisfied: tensorboard-data-server<0.7.0,>=0.6.0 in /usr/local/lib/python3.7/dist-packages (from tensorboard<2.9,>=2.8->tensorflow>=2.5.0->aimodelshare) (0.6.1)\n",
            "Requirement already satisfied: pyasn1-modules>=0.2.1 in /usr/local/lib/python3.7/dist-packages (from google-auth<3,>=1.6.3->tensorboard<2.9,>=2.8->tensorflow>=2.5.0->aimodelshare) (0.2.8)\n",
            "Requirement already satisfied: cachetools<5.0,>=2.0.0 in /usr/local/lib/python3.7/dist-packages (from google-auth<3,>=1.6.3->tensorboard<2.9,>=2.8->tensorflow>=2.5.0->aimodelshare) (4.2.4)\n",
            "Requirement already satisfied: rsa<5,>=3.1.4 in /usr/local/lib/python3.7/dist-packages (from google-auth<3,>=1.6.3->tensorboard<2.9,>=2.8->tensorflow>=2.5.0->aimodelshare) (4.8)\n",
            "Requirement already satisfied: requests-oauthlib>=0.7.0 in /usr/local/lib/python3.7/dist-packages (from google-auth-oauthlib<0.5,>=0.4.1->tensorboard<2.9,>=2.8->tensorflow>=2.5.0->aimodelshare) (1.3.1)\n",
            "Requirement already satisfied: importlib-metadata>=4.4 in /usr/local/lib/python3.7/dist-packages (from markdown>=2.6.8->tensorboard<2.9,>=2.8->tensorflow>=2.5.0->aimodelshare) (4.11.4)\n",
            "Requirement already satisfied: zipp>=0.5 in /usr/local/lib/python3.7/dist-packages (from importlib-metadata>=4.4->markdown>=2.6.8->tensorboard<2.9,>=2.8->tensorflow>=2.5.0->aimodelshare) (3.8.0)\n",
            "Requirement already satisfied: pyasn1<0.5.0,>=0.4.6 in /usr/local/lib/python3.7/dist-packages (from pyasn1-modules>=0.2.1->google-auth<3,>=1.6.3->tensorboard<2.9,>=2.8->tensorflow>=2.5.0->aimodelshare) (0.4.8)\n",
            "Requirement already satisfied: oauthlib>=3.0.0 in /usr/local/lib/python3.7/dist-packages (from requests-oauthlib>=0.7.0->google-auth-oauthlib<0.5,>=0.4.1->tensorboard<2.9,>=2.8->tensorflow>=2.5.0->aimodelshare) (3.2.0)\n",
            "Collecting flatbuffers\n",
            "  Downloading flatbuffers-1.12-py2.py3-none-any.whl (15 kB)\n",
            "Building wheels for collected packages: Pympler, wget, fire\n",
            "  Building wheel for Pympler (setup.py) ... \u001b[?25l\u001b[?25hdone\n",
            "  Created wheel for Pympler: filename=Pympler-0.9-py3-none-any.whl size=164823 sha256=83454053193119b12855f0e5601829bf010d8f4b479b1b506ebe0297f3fc9c8a\n",
            "  Stored in directory: /root/.cache/pip/wheels/1a/f3/d8/35d5614ea4ddd295ffb9372a5f2f9570d9593d1ea4be33ec6d\n",
            "  Building wheel for wget (setup.py) ... \u001b[?25l\u001b[?25hdone\n",
            "  Created wheel for wget: filename=wget-3.2-py3-none-any.whl size=9675 sha256=466b272fa7ae222a2bf1ecc22d42b1a354407c10bf90514e76277659b7d69c1a\n",
            "  Stored in directory: /root/.cache/pip/wheels/a1/b6/7c/0e63e34eb06634181c63adacca38b79ff8f35c37e3c13e3c02\n",
            "  Building wheel for fire (setup.py) ... \u001b[?25l\u001b[?25hdone\n",
            "  Created wheel for fire: filename=fire-0.4.0-py2.py3-none-any.whl size=115942 sha256=a709a897a822100a3646f1c9b9893d646b8f2fb6e9dab25b0cc5c201972ee4a6\n",
            "  Stored in directory: /root/.cache/pip/wheels/8a/67/fb/2e8a12fa16661b9d5af1f654bd199366799740a85c64981226\n",
            "Successfully built Pympler wget fire\n",
            "Installing collected packages: urllib3, onnx, jmespath, scikit-learn, onnxconverter-common, botocore, websocket-client, skl2onnx, s3transfer, flatbuffers, fire, wget, tf2onnx, shortuuid, Pympler, PyJWT, onnxruntime, onnxmltools, keras2onnx, docker, boto3, aimodelshare\n",
            "  Attempting uninstall: urllib3\n",
            "    Found existing installation: urllib3 1.24.3\n",
            "    Uninstalling urllib3-1.24.3:\n",
            "      Successfully uninstalled urllib3-1.24.3\n",
            "  Attempting uninstall: scikit-learn\n",
            "    Found existing installation: scikit-learn 1.0.2\n",
            "    Uninstalling scikit-learn-1.0.2:\n",
            "      Successfully uninstalled scikit-learn-1.0.2\n",
            "  Attempting uninstall: flatbuffers\n",
            "    Found existing installation: flatbuffers 2.0\n",
            "    Uninstalling flatbuffers-2.0:\n",
            "      Successfully uninstalled flatbuffers-2.0\n",
            "\u001b[31mERROR: pip's dependency resolver does not currently take into account all the packages that are installed. This behaviour is the source of the following dependency conflicts.\n",
            "yellowbrick 1.4 requires scikit-learn>=1.0.0, but you have scikit-learn 0.24.2 which is incompatible.\n",
            "datascience 0.10.6 requires folium==0.2.1, but you have folium 0.8.3 which is incompatible.\u001b[0m\n",
            "Successfully installed PyJWT-2.2.0 Pympler-0.9 aimodelshare-0.0.99 boto3-1.18.2 botocore-1.21.2 docker-5.0.0 fire-0.4.0 flatbuffers-1.12 jmespath-0.10.0 keras2onnx-1.7.0 onnx-1.11.0 onnxconverter-common-1.9.0 onnxmltools-1.11.0 onnxruntime-1.11.1 s3transfer-0.5.2 scikit-learn-0.24.2 shortuuid-1.0.9 skl2onnx-1.11.2 tf2onnx-1.11.1 urllib3-1.25.11 websocket-client-1.3.2 wget-3.2\n"
          ]
        }
      ]
    },
    {
      "cell_type": "code",
      "metadata": {
        "colab": {
          "base_uri": "https://localhost:8080/"
        },
        "id": "d3PiJXBhC5y-",
        "outputId": "1d01845a-f4d6-4208-cebc-49eff67eb883"
      },
      "source": [
        "# Get competition data\n",
        "from aimodelshare import download_data\n",
        "download_data('public.ecr.aws/y2e2a1d6/used_car_competition_data-repository:latest') "
      ],
      "execution_count": 2,
      "outputs": [
        {
          "output_type": "stream",
          "name": "stdout",
          "text": [
            "Downloading [=========>                                       ]\n",
            "\n",
            "Data downloaded successfully.\n"
          ]
        }
      ]
    },
    {
      "cell_type": "code",
      "metadata": {
        "colab": {
          "base_uri": "https://localhost:8080/",
          "height": 169
        },
        "id": "jT0qFCZFNzHq",
        "outputId": "ea973db6-18f8-4391-89ff-cebf187a59f7"
      },
      "source": [
        "# Separate data into X_train, y_train, and X_test\n",
        "import pandas as pd\n",
        "\n",
        "X_train = pd.read_csv(\"/content/used_car_competition_data/training_data.csv\")\n",
        "y_train = X_train['selling_price']\n",
        "X_train.drop(['selling_price'], axis=1, inplace=True)\n",
        "\n",
        "X_test=pd.read_csv(\"/content/used_car_competition_data/test_data.csv\")\n",
        "\n",
        "X_train.head()"
      ],
      "execution_count": 3,
      "outputs": [
        {
          "output_type": "execute_result",
          "data": {
            "text/plain": [
              "   year  km_driven    fuel seller_type transmission         owner  mileage  \\\n",
              "0  2011      84000  Diesel  Individual       Manual  Second Owner    20.00   \n",
              "1  2014      74537  Petrol  Individual       Manual  Second Owner    20.51   \n",
              "2  2008     110000  Petrol  Individual       Manual  Second Owner    17.70   \n",
              "3  2019       5000  Petrol  Individual    Automatic   First Owner    21.70   \n",
              "4  2017      45000  Diesel      Dealer    Automatic   First Owner    19.33   \n",
              "\n",
              "   engine  max_power  seats  \n",
              "0  1399.0      68.00    5.0  \n",
              "1   998.0      67.04    5.0  \n",
              "2  1497.0      78.00    5.0  \n",
              "3   998.0      67.00    5.0  \n",
              "4  1999.0     177.00    5.0  "
            ],
            "text/html": [
              "\n",
              "  <div id=\"df-7b9a269e-3c05-4384-800f-75e41987ab90\">\n",
              "    <div class=\"colab-df-container\">\n",
              "      <div>\n",
              "<style scoped>\n",
              "    .dataframe tbody tr th:only-of-type {\n",
              "        vertical-align: middle;\n",
              "    }\n",
              "\n",
              "    .dataframe tbody tr th {\n",
              "        vertical-align: top;\n",
              "    }\n",
              "\n",
              "    .dataframe thead th {\n",
              "        text-align: right;\n",
              "    }\n",
              "</style>\n",
              "<table border=\"1\" class=\"dataframe\">\n",
              "  <thead>\n",
              "    <tr style=\"text-align: right;\">\n",
              "      <th></th>\n",
              "      <th>year</th>\n",
              "      <th>km_driven</th>\n",
              "      <th>fuel</th>\n",
              "      <th>seller_type</th>\n",
              "      <th>transmission</th>\n",
              "      <th>owner</th>\n",
              "      <th>mileage</th>\n",
              "      <th>engine</th>\n",
              "      <th>max_power</th>\n",
              "      <th>seats</th>\n",
              "    </tr>\n",
              "  </thead>\n",
              "  <tbody>\n",
              "    <tr>\n",
              "      <th>0</th>\n",
              "      <td>2011</td>\n",
              "      <td>84000</td>\n",
              "      <td>Diesel</td>\n",
              "      <td>Individual</td>\n",
              "      <td>Manual</td>\n",
              "      <td>Second Owner</td>\n",
              "      <td>20.00</td>\n",
              "      <td>1399.0</td>\n",
              "      <td>68.00</td>\n",
              "      <td>5.0</td>\n",
              "    </tr>\n",
              "    <tr>\n",
              "      <th>1</th>\n",
              "      <td>2014</td>\n",
              "      <td>74537</td>\n",
              "      <td>Petrol</td>\n",
              "      <td>Individual</td>\n",
              "      <td>Manual</td>\n",
              "      <td>Second Owner</td>\n",
              "      <td>20.51</td>\n",
              "      <td>998.0</td>\n",
              "      <td>67.04</td>\n",
              "      <td>5.0</td>\n",
              "    </tr>\n",
              "    <tr>\n",
              "      <th>2</th>\n",
              "      <td>2008</td>\n",
              "      <td>110000</td>\n",
              "      <td>Petrol</td>\n",
              "      <td>Individual</td>\n",
              "      <td>Manual</td>\n",
              "      <td>Second Owner</td>\n",
              "      <td>17.70</td>\n",
              "      <td>1497.0</td>\n",
              "      <td>78.00</td>\n",
              "      <td>5.0</td>\n",
              "    </tr>\n",
              "    <tr>\n",
              "      <th>3</th>\n",
              "      <td>2019</td>\n",
              "      <td>5000</td>\n",
              "      <td>Petrol</td>\n",
              "      <td>Individual</td>\n",
              "      <td>Automatic</td>\n",
              "      <td>First Owner</td>\n",
              "      <td>21.70</td>\n",
              "      <td>998.0</td>\n",
              "      <td>67.00</td>\n",
              "      <td>5.0</td>\n",
              "    </tr>\n",
              "    <tr>\n",
              "      <th>4</th>\n",
              "      <td>2017</td>\n",
              "      <td>45000</td>\n",
              "      <td>Diesel</td>\n",
              "      <td>Dealer</td>\n",
              "      <td>Automatic</td>\n",
              "      <td>First Owner</td>\n",
              "      <td>19.33</td>\n",
              "      <td>1999.0</td>\n",
              "      <td>177.00</td>\n",
              "      <td>5.0</td>\n",
              "    </tr>\n",
              "  </tbody>\n",
              "</table>\n",
              "</div>\n",
              "      <button class=\"colab-df-convert\" onclick=\"convertToInteractive('df-7b9a269e-3c05-4384-800f-75e41987ab90')\"\n",
              "              title=\"Convert this dataframe to an interactive table.\"\n",
              "              style=\"display:none;\">\n",
              "        \n",
              "  <svg xmlns=\"http://www.w3.org/2000/svg\" height=\"24px\"viewBox=\"0 0 24 24\"\n",
              "       width=\"24px\">\n",
              "    <path d=\"M0 0h24v24H0V0z\" fill=\"none\"/>\n",
              "    <path d=\"M18.56 5.44l.94 2.06.94-2.06 2.06-.94-2.06-.94-.94-2.06-.94 2.06-2.06.94zm-11 1L8.5 8.5l.94-2.06 2.06-.94-2.06-.94L8.5 2.5l-.94 2.06-2.06.94zm10 10l.94 2.06.94-2.06 2.06-.94-2.06-.94-.94-2.06-.94 2.06-2.06.94z\"/><path d=\"M17.41 7.96l-1.37-1.37c-.4-.4-.92-.59-1.43-.59-.52 0-1.04.2-1.43.59L10.3 9.45l-7.72 7.72c-.78.78-.78 2.05 0 2.83L4 21.41c.39.39.9.59 1.41.59.51 0 1.02-.2 1.41-.59l7.78-7.78 2.81-2.81c.8-.78.8-2.07 0-2.86zM5.41 20L4 18.59l7.72-7.72 1.47 1.35L5.41 20z\"/>\n",
              "  </svg>\n",
              "      </button>\n",
              "      \n",
              "  <style>\n",
              "    .colab-df-container {\n",
              "      display:flex;\n",
              "      flex-wrap:wrap;\n",
              "      gap: 12px;\n",
              "    }\n",
              "\n",
              "    .colab-df-convert {\n",
              "      background-color: #E8F0FE;\n",
              "      border: none;\n",
              "      border-radius: 50%;\n",
              "      cursor: pointer;\n",
              "      display: none;\n",
              "      fill: #1967D2;\n",
              "      height: 32px;\n",
              "      padding: 0 0 0 0;\n",
              "      width: 32px;\n",
              "    }\n",
              "\n",
              "    .colab-df-convert:hover {\n",
              "      background-color: #E2EBFA;\n",
              "      box-shadow: 0px 1px 2px rgba(60, 64, 67, 0.3), 0px 1px 3px 1px rgba(60, 64, 67, 0.15);\n",
              "      fill: #174EA6;\n",
              "    }\n",
              "\n",
              "    [theme=dark] .colab-df-convert {\n",
              "      background-color: #3B4455;\n",
              "      fill: #D2E3FC;\n",
              "    }\n",
              "\n",
              "    [theme=dark] .colab-df-convert:hover {\n",
              "      background-color: #434B5C;\n",
              "      box-shadow: 0px 1px 3px 1px rgba(0, 0, 0, 0.15);\n",
              "      filter: drop-shadow(0px 1px 2px rgba(0, 0, 0, 0.3));\n",
              "      fill: #FFFFFF;\n",
              "    }\n",
              "  </style>\n",
              "\n",
              "      <script>\n",
              "        const buttonEl =\n",
              "          document.querySelector('#df-7b9a269e-3c05-4384-800f-75e41987ab90 button.colab-df-convert');\n",
              "        buttonEl.style.display =\n",
              "          google.colab.kernel.accessAllowed ? 'block' : 'none';\n",
              "\n",
              "        async function convertToInteractive(key) {\n",
              "          const element = document.querySelector('#df-7b9a269e-3c05-4384-800f-75e41987ab90');\n",
              "          const dataTable =\n",
              "            await google.colab.kernel.invokeFunction('convertToInteractive',\n",
              "                                                     [key], {});\n",
              "          if (!dataTable) return;\n",
              "\n",
              "          const docLinkHtml = 'Like what you see? Visit the ' +\n",
              "            '<a target=\"_blank\" href=https://colab.research.google.com/notebooks/data_table.ipynb>data table notebook</a>'\n",
              "            + ' to learn more about interactive tables.';\n",
              "          element.innerHTML = '';\n",
              "          dataTable['output_type'] = 'display_data';\n",
              "          await google.colab.output.renderOutput(dataTable, element);\n",
              "          const docLink = document.createElement('div');\n",
              "          docLink.innerHTML = docLinkHtml;\n",
              "          element.appendChild(docLink);\n",
              "        }\n",
              "      </script>\n",
              "    </div>\n",
              "  </div>\n",
              "  "
            ]
          },
          "metadata": {},
          "execution_count": 3
        }
      ]
    },
    {
      "cell_type": "markdown",
      "metadata": {
        "id": "gEzPoXPj3V7u"
      },
      "source": [
        "##2.   Preprocess data using Sklearn Column Transformer / Write and Save Preprocessor function\n"
      ]
    },
    {
      "cell_type": "code",
      "metadata": {
        "id": "A2BQMOPGCqra"
      },
      "source": [
        "# In this case we use Sklearn's Column transformer in our preprocessor function\n",
        "\n",
        "from sklearn.compose import ColumnTransformer\n",
        "from sklearn.pipeline import Pipeline\n",
        "from sklearn.impute import SimpleImputer\n",
        "from sklearn.preprocessing import StandardScaler, OneHotEncoder\n",
        "\n",
        "#Preprocess data using sklearn's Column Transformer approach\n",
        "\n",
        "# We create the preprocessing pipelines for both numeric and categorical data.\n",
        "numeric_features = ['km_driven', 'mileage', 'engine', 'max_power', 'year']\n",
        "numeric_transformer = Pipeline(steps=[\n",
        "    ('imputer', SimpleImputer(strategy='median')), #'imputer' names the step\n",
        "    ('scaler', StandardScaler())])\n",
        "\n",
        "categorical_features = ['fuel', 'seller_type', 'transmission', 'owner', 'seats']\n",
        "\n",
        "# Replacing missing values with Modal value and then one-hot encoding.\n",
        "categorical_transformer = Pipeline(steps=[\n",
        "    ('imputer', SimpleImputer(strategy='most_frequent')),\n",
        "    ('onehot', OneHotEncoder(handle_unknown='ignore'))])\n",
        "\n",
        "# Final preprocessor object set up with ColumnTransformer...\n",
        "\n",
        "preprocess = ColumnTransformer(\n",
        "    transformers=[\n",
        "        ('num', numeric_transformer, numeric_features),\n",
        "        ('cat', categorical_transformer, categorical_features)])\n",
        "\n",
        "# fit preprocessor to your data\n",
        "preprocess = preprocess.fit(X_train)"
      ],
      "execution_count": 4,
      "outputs": []
    },
    {
      "cell_type": "code",
      "metadata": {
        "id": "16QV9Y9TC3B3"
      },
      "source": [
        "# Write function to transform data with preprocessor \n",
        "# In this case we use sklearn's Column transformer in our preprocessor function\n",
        "\n",
        "def preprocessor(data):\n",
        "    preprocessed_data=preprocess.transform(data)\n",
        "    return preprocessed_data"
      ],
      "execution_count": 5,
      "outputs": []
    },
    {
      "cell_type": "code",
      "source": [
        "# check shape of X data \n",
        "preprocessor(X_train).shape"
      ],
      "metadata": {
        "colab": {
          "base_uri": "https://localhost:8080/"
        },
        "id": "3FKeaMZK88Xt",
        "outputId": "15e60a76-c9a7-47ec-9d67-e17d8b6a7d26"
      },
      "execution_count": 6,
      "outputs": [
        {
          "output_type": "execute_result",
          "data": {
            "text/plain": [
              "(6502, 27)"
            ]
          },
          "metadata": {},
          "execution_count": 6
        }
      ]
    },
    {
      "cell_type": "markdown",
      "metadata": {
        "id": "X52kECL43b-O"
      },
      "source": [
        "##3. Fit model on preprocessed data and save preprocessor function and model \n"
      ]
    },
    {
      "cell_type": "code",
      "metadata": {
        "colab": {
          "base_uri": "https://localhost:8080/"
        },
        "id": "NCbBf8j9ClYl",
        "outputId": "30f929aa-41ed-4fdf-92c3-65199856e4a8"
      },
      "source": [
        "from sklearn.ensemble import RandomForestRegressor\n",
        "from sklearn.metrics import r2_score\n",
        "\n",
        "model = RandomForestRegressor(n_estimators = 500, max_depth = 3, random_state=0)\n",
        "model.fit(preprocessor(X_train), y_train) # Fitting to the training set.\n",
        "model_predictions = model.predict(preprocessor(X_train))\n",
        "r2_score(model_predictions, y_train)"
      ],
      "execution_count": 7,
      "outputs": [
        {
          "output_type": "execute_result",
          "data": {
            "text/plain": [
              "0.8542251611959975"
            ]
          },
          "metadata": {},
          "execution_count": 7
        }
      ]
    },
    {
      "cell_type": "markdown",
      "metadata": {
        "id": "zmJAnmO-5AcU"
      },
      "source": [
        "#### Save preprocessor function to local \"preprocessor.zip\" file"
      ]
    },
    {
      "cell_type": "code",
      "metadata": {
        "colab": {
          "base_uri": "https://localhost:8080/"
        },
        "id": "4VGacc0LDaMA",
        "outputId": "fc49f8e6-dd5e-41b2-d31d-0823c16cc00d"
      },
      "source": [
        "import aimodelshare as ai\n",
        "ai.export_preprocessor(preprocessor,\"\") "
      ],
      "execution_count": 8,
      "outputs": [
        {
          "output_type": "stream",
          "name": "stdout",
          "text": [
            "Your preprocessor is now saved to 'preprocessor.zip'\n"
          ]
        }
      ]
    },
    {
      "cell_type": "markdown",
      "metadata": {
        "id": "oOWBa8Cv5LdL"
      },
      "source": [
        "#### Save model to local \".onnx\" file"
      ]
    },
    {
      "cell_type": "code",
      "metadata": {
        "id": "pEhvnRiQDlY5"
      },
      "source": [
        "# Save sklearn model to local ONNX file\n",
        "from aimodelshare.aimsonnx import model_to_onnx\n",
        "\n",
        "# Check how many preprocessed input features there are\n",
        "from skl2onnx.common.data_types import FloatTensorType\n",
        "\n",
        "feature_count=preprocessor(X_test).shape[1]\n",
        "initial_type = [('float_input', FloatTensorType([None, feature_count]))]  # Insert correct number of features in preprocessed data\n",
        "\n",
        "onnx_model = model_to_onnx(model, framework='sklearn',\n",
        "                          initial_types=initial_type,\n",
        "                          transfer_learning=False,\n",
        "                          deep_learning=False)\n",
        "\n",
        "\n",
        "with open(\"model.onnx\", \"wb\") as f:\n",
        "    f.write(onnx_model.SerializeToString())"
      ],
      "execution_count": 9,
      "outputs": []
    },
    {
      "cell_type": "markdown",
      "metadata": {
        "id": "gHWkAzvX3m8O"
      },
      "source": [
        "## 4. Generate predictions from X_test data and submit model to competition\n"
      ]
    },
    {
      "cell_type": "code",
      "metadata": {
        "colab": {
          "base_uri": "https://localhost:8080/"
        },
        "id": "RtgkM02MDpkO",
        "outputId": "ff9e50e6-dc0c-4edc-e233-c776f815a77d"
      },
      "source": [
        "#Set credentials using modelshare.org username/password\n",
        "\n",
        "from aimodelshare.aws import set_credentials\n",
        "    \n",
        "apiurl=\"https://tv6fawq47b.execute-api.us-east-1.amazonaws.com/prod/m\" #This is the unique rest api that powers this Used Car Sales Prediction Playground\n",
        "\n",
        "set_credentials(apiurl=apiurl)"
      ],
      "execution_count": 10,
      "outputs": [
        {
          "output_type": "stream",
          "name": "stdout",
          "text": [
            "AI Modelshare Username:··········\n",
            "AI Modelshare Password:··········\n",
            "AI Model Share login credentials set successfully.\n"
          ]
        }
      ]
    },
    {
      "cell_type": "code",
      "metadata": {
        "id": "fKNGSww8EGgi"
      },
      "source": [
        "#Instantiate Competition\n",
        "import aimodelshare as ai\n",
        "mycompetition= ai.Competition(apiurl)"
      ],
      "execution_count": 11,
      "outputs": []
    },
    {
      "cell_type": "code",
      "metadata": {
        "id": "_Ql4wksyEUnP",
        "colab": {
          "base_uri": "https://localhost:8080/"
        },
        "outputId": "e890dc7d-a505-4aa3-da66-a7236a13b430"
      },
      "source": [
        "#Submit Model 1: \n",
        "\n",
        "#-- Generate predicted values (a list of predicted car prices) (Model 1)\n",
        "predicted_values = model.predict(preprocessor(X_test))\n",
        "\n",
        "# Submit Model 1 to Competition Leaderboard\n",
        "mycompetition.submit_model(model_filepath = \"model.onnx\",\n",
        "                                 preprocessor_filepath=\"preprocessor.zip\",\n",
        "                                 prediction_submission=predicted_values)"
      ],
      "execution_count": 12,
      "outputs": [
        {
          "output_type": "stream",
          "name": "stdout",
          "text": [
            "Insert search tags to help users find your model (optional): \n",
            "Provide any useful notes about your model (optional): \n",
            "\n",
            "Your model has been submitted as model version 3\n",
            "\n",
            "To submit code used to create this model or to view current leaderboard navigate to Model Playground: \n",
            "\n",
            " https://www.modelshare.org/detail/model:1670\n"
          ]
        }
      ]
    },
    {
      "cell_type": "code",
      "metadata": {
        "colab": {
          "base_uri": "https://localhost:8080/",
          "height": 118
        },
        "id": "GN1zvAmNEq17",
        "outputId": "355befaf-c8d3-4047-b32f-b534f11edfc0"
      },
      "source": [
        "# Get leaderboard to explore current best model architectures\n",
        "\n",
        "# Get raw data in pandas data frame\n",
        "data = mycompetition.get_leaderboard()\n",
        "\n",
        "# Stylize leaderboard data\n",
        "mycompetition.stylize_leaderboard(data)"
      ],
      "execution_count": 13,
      "outputs": [
        {
          "output_type": "execute_result",
          "data": {
            "text/plain": [
              "<pandas.io.formats.style.Styler at 0x7fb9d1077890>"
            ],
            "text/html": [
              "<style type=\"text/css\">\n",
              "#T_519f9_row0_col0, #T_519f9_row1_col0 {\n",
              "  text-align: center;\n",
              "  width: 10em;\n",
              "  height: 80%;\n",
              "  background: linear-gradient(90deg,#f5f8d6 68.5%, transparent 68.5%);\n",
              "  color: #251e1b;\n",
              "  font-size: 12px;\n",
              "}\n",
              "#T_519f9_row0_col1, #T_519f9_row1_col1 {\n",
              "  text-align: center;\n",
              "  width: 10em;\n",
              "  height: 80%;\n",
              "  background: linear-gradient(90deg,#c778c8 82.7%, transparent 82.7%);\n",
              "  color: #251e1b;\n",
              "  font-size: 12px;\n",
              "}\n",
              "#T_519f9_row0_col2, #T_519f9_row1_col2 {\n",
              "  text-align: center;\n",
              "  width: 10em;\n",
              "  height: 80%;\n",
              "  background: linear-gradient(90deg,#ff4971 75.9%, transparent 75.9%);\n",
              "  color: #251e1b;\n",
              "  font-size: 12px;\n",
              "}\n",
              "#T_519f9_row0_col3, #T_519f9_row1_col3 {\n",
              "  text-align: center;\n",
              "  width: 10em;\n",
              "  height: 80%;\n",
              "  background: linear-gradient(90deg,#aadbaa 100.0%, transparent 100.0%);\n",
              "  color: #251e1b;\n",
              "  font-size: 12px;\n",
              "}\n",
              "#T_519f9_row0_col4, #T_519f9_row0_col5, #T_519f9_row0_col6, #T_519f9_row0_col7, #T_519f9_row0_col8, #T_519f9_row0_col9, #T_519f9_row1_col4, #T_519f9_row1_col5, #T_519f9_row1_col6, #T_519f9_row1_col7, #T_519f9_row1_col8, #T_519f9_row1_col9, #T_519f9_row2_col4, #T_519f9_row2_col5, #T_519f9_row2_col6, #T_519f9_row2_col7, #T_519f9_row2_col8, #T_519f9_row2_col9 {\n",
              "  text-align: center;\n",
              "}\n",
              "#T_519f9_row2_col0 {\n",
              "  text-align: center;\n",
              "  width: 10em;\n",
              "  height: 80%;\n",
              "  background: linear-gradient(90deg,#f5f8d6 100.0%, transparent 100.0%);\n",
              "  color: #251e1b;\n",
              "  font-size: 12px;\n",
              "}\n",
              "#T_519f9_row2_col1 {\n",
              "  text-align: center;\n",
              "  width: 10em;\n",
              "  height: 80%;\n",
              "  background: linear-gradient(90deg,#c778c8 100.0%, transparent 100.0%);\n",
              "  color: #251e1b;\n",
              "  font-size: 12px;\n",
              "}\n",
              "#T_519f9_row2_col2 {\n",
              "  text-align: center;\n",
              "  width: 10em;\n",
              "  height: 80%;\n",
              "  background: linear-gradient(90deg,#ff4971 100.0%, transparent 100.0%);\n",
              "  color: #251e1b;\n",
              "  font-size: 12px;\n",
              "}\n",
              "#T_519f9_row2_col3 {\n",
              "  text-align: center;\n",
              "  width: 10em;\n",
              "  height: 80%;\n",
              "  background: linear-gradient(90deg,#aadbaa 93.6%, transparent 93.6%);\n",
              "  color: #251e1b;\n",
              "  font-size: 12px;\n",
              "}\n",
              "</style>\n",
              "<table id=\"T_519f9_\" class=\"dataframe\">\n",
              "  <thead>\n",
              "    <tr>\n",
              "      <th class=\"blank level0\" >&nbsp;</th>\n",
              "      <th class=\"col_heading level0 col0\" >mse</th>\n",
              "      <th class=\"col_heading level0 col1\" >rmse</th>\n",
              "      <th class=\"col_heading level0 col2\" >mae</th>\n",
              "      <th class=\"col_heading level0 col3\" >r2</th>\n",
              "      <th class=\"col_heading level0 col4\" >ml_framework</th>\n",
              "      <th class=\"col_heading level0 col5\" >transfer_learning</th>\n",
              "      <th class=\"col_heading level0 col6\" >deep_learning</th>\n",
              "      <th class=\"col_heading level0 col7\" >model_type</th>\n",
              "      <th class=\"col_heading level0 col8\" >username</th>\n",
              "      <th class=\"col_heading level0 col9\" >version</th>\n",
              "    </tr>\n",
              "  </thead>\n",
              "  <tbody>\n",
              "    <tr>\n",
              "      <th id=\"T_519f9_level0_row0\" class=\"row_heading level0 row0\" >0</th>\n",
              "      <td id=\"T_519f9_row0_col0\" class=\"data row0 col0\" >15516590.45</td>\n",
              "      <td id=\"T_519f9_row0_col1\" class=\"data row0 col1\" >3939.11</td>\n",
              "      <td id=\"T_519f9_row0_col2\" class=\"data row0 col2\" >2493.11</td>\n",
              "      <td id=\"T_519f9_row0_col3\" class=\"data row0 col3\" >0.88</td>\n",
              "      <td id=\"T_519f9_row0_col4\" class=\"data row0 col4\" >sklearn</td>\n",
              "      <td id=\"T_519f9_row0_col5\" class=\"data row0 col5\" >False</td>\n",
              "      <td id=\"T_519f9_row0_col6\" class=\"data row0 col6\" >False</td>\n",
              "      <td id=\"T_519f9_row0_col7\" class=\"data row0 col7\" >RandomForestRegressor</td>\n",
              "      <td id=\"T_519f9_row0_col8\" class=\"data row0 col8\" >AIModelShare</td>\n",
              "      <td id=\"T_519f9_row0_col9\" class=\"data row0 col9\" >1</td>\n",
              "    </tr>\n",
              "    <tr>\n",
              "      <th id=\"T_519f9_level0_row1\" class=\"row_heading level0 row1\" >1</th>\n",
              "      <td id=\"T_519f9_row1_col0\" class=\"data row1 col0\" >15516590.45</td>\n",
              "      <td id=\"T_519f9_row1_col1\" class=\"data row1 col1\" >3939.11</td>\n",
              "      <td id=\"T_519f9_row1_col2\" class=\"data row1 col2\" >2493.11</td>\n",
              "      <td id=\"T_519f9_row1_col3\" class=\"data row1 col3\" >0.88</td>\n",
              "      <td id=\"T_519f9_row1_col4\" class=\"data row1 col4\" >sklearn</td>\n",
              "      <td id=\"T_519f9_row1_col5\" class=\"data row1 col5\" >False</td>\n",
              "      <td id=\"T_519f9_row1_col6\" class=\"data row1 col6\" >False</td>\n",
              "      <td id=\"T_519f9_row1_col7\" class=\"data row1 col7\" >RandomForestRegressor</td>\n",
              "      <td id=\"T_519f9_row1_col8\" class=\"data row1 col8\" >AIModelShare</td>\n",
              "      <td id=\"T_519f9_row1_col9\" class=\"data row1 col9\" >3</td>\n",
              "    </tr>\n",
              "    <tr>\n",
              "      <th id=\"T_519f9_level0_row2\" class=\"row_heading level0 row2\" >2</th>\n",
              "      <td id=\"T_519f9_row2_col0\" class=\"data row2 col0\" >22666752.77</td>\n",
              "      <td id=\"T_519f9_row2_col1\" class=\"data row2 col1\" >4760.96</td>\n",
              "      <td id=\"T_519f9_row2_col2\" class=\"data row2 col2\" >3282.78</td>\n",
              "      <td id=\"T_519f9_row2_col3\" class=\"data row2 col3\" >0.82</td>\n",
              "      <td id=\"T_519f9_row2_col4\" class=\"data row2 col4\" >sklearn</td>\n",
              "      <td id=\"T_519f9_row2_col5\" class=\"data row2 col5\" >False</td>\n",
              "      <td id=\"T_519f9_row2_col6\" class=\"data row2 col6\" >False</td>\n",
              "      <td id=\"T_519f9_row2_col7\" class=\"data row2 col7\" >RandomForestRegressor</td>\n",
              "      <td id=\"T_519f9_row2_col8\" class=\"data row2 col8\" >AIModelShare</td>\n",
              "      <td id=\"T_519f9_row2_col9\" class=\"data row2 col9\" >2</td>\n",
              "    </tr>\n",
              "  </tbody>\n",
              "</table>\n"
            ]
          },
          "metadata": {},
          "execution_count": 13
        }
      ]
    },
    {
      "cell_type": "markdown",
      "metadata": {
        "id": "bwNKs0wP4r5s"
      },
      "source": [
        "## 5. Repeat submission process to improve place on leaderboard\n"
      ]
    },
    {
      "cell_type": "code",
      "metadata": {
        "colab": {
          "base_uri": "https://localhost:8080/"
        },
        "id": "FgSs5PAtPCZH",
        "outputId": "f9652ae4-6f09-41b8-8e3c-9d828b915325"
      },
      "source": [
        "# Create model 2 \n",
        "from sklearn.ensemble import RandomForestRegressor\n",
        "from sklearn.metrics import r2_score\n",
        "\n",
        "model_2 = RandomForestRegressor(n_estimators = 1000, max_depth = 2, random_state=0)\n",
        "model_2.fit(preprocessor(X_train), y_train) # Fitting to the training set.\n",
        "model_predictions = model_2.predict(preprocessor(X_train))\n",
        "r2_score(model_predictions, y_train) "
      ],
      "execution_count": 14,
      "outputs": [
        {
          "output_type": "execute_result",
          "data": {
            "text/plain": [
              "0.715128519145602"
            ]
          },
          "metadata": {},
          "execution_count": 14
        }
      ]
    },
    {
      "cell_type": "code",
      "metadata": {
        "id": "aIdmSpYVPYAw"
      },
      "source": [
        "# Save Model 2 to .onnx file\n",
        "\n",
        "# Check how many preprocessed input features there are\n",
        "from skl2onnx.common.data_types import FloatTensorType\n",
        "\n",
        "feature_count=preprocessor(X_test).shape[1]\n",
        "initial_type = [('float_input', FloatTensorType([None, feature_count]))]  # Insert correct number of features in preprocessed data\n",
        "\n",
        "onnx_model = model_to_onnx(model_2, framework='sklearn',\n",
        "                          initial_types=initial_type,\n",
        "                          transfer_learning=False,\n",
        "                          deep_learning=False)\n",
        "\n",
        "# Save model to local .onnx file\n",
        "with open(\"model_2.onnx\", \"wb\") as f:\n",
        "    f.write(onnx_model.SerializeToString()) "
      ],
      "execution_count": 15,
      "outputs": []
    },
    {
      "cell_type": "code",
      "metadata": {
        "colab": {
          "base_uri": "https://localhost:8080/"
        },
        "id": "nszPPrfwPlUk",
        "outputId": "4972831e-30f3-4f9f-a55a-532ff570cd35"
      },
      "source": [
        "# Submit Model 2\n",
        "\n",
        "#-- Generate predicted y values (Model 2)\n",
        "prediction_labels = model_2.predict(preprocessor(X_test))\n",
        "\n",
        "# Submit Model 2 to Competition Leaderboard\n",
        "mycompetition.submit_model(model_filepath = \"model_2.onnx\",\n",
        "                                 prediction_submission=prediction_labels,\n",
        "                                 preprocessor_filepath=\"preprocessor.zip\")"
      ],
      "execution_count": 16,
      "outputs": [
        {
          "output_type": "stream",
          "name": "stdout",
          "text": [
            "Insert search tags to help users find your model (optional): \n",
            "Provide any useful notes about your model (optional): \n",
            "\n",
            "Your model has been submitted as model version 4\n",
            "\n",
            "To submit code used to create this model or to view current leaderboard navigate to Model Playground: \n",
            "\n",
            " https://www.modelshare.org/detail/model:1670\n"
          ]
        }
      ]
    },
    {
      "cell_type": "code",
      "metadata": {
        "colab": {
          "base_uri": "https://localhost:8080/",
          "height": 421
        },
        "id": "qLl7yLpVEx26",
        "outputId": "ab46ac49-19ab-449f-9c35-663877958faf"
      },
      "source": [
        "# Compare two or more models\n",
        "data=mycompetition.compare_models([1,2], verbose=1)\n",
        "mycompetition.stylize_compare(data)"
      ],
      "execution_count": 17,
      "outputs": [
        {
          "output_type": "display_data",
          "data": {
            "text/plain": [
              "<IPython.core.display.HTML object>"
            ],
            "text/html": [
              "<style type=\"text/css\">\n",
              "#T_e9775_ caption {\n",
              "  color: black;\n",
              "  font-size: 18px;\n",
              "}\n",
              "#T_e9775_row3_col2, #T_e9775_row3_col3, #T_e9775_row12_col2, #T_e9775_row12_col3, #T_e9775_row15_col2, #T_e9775_row15_col3 {\n",
              "  background: tomato;\n",
              "}\n",
              "</style>\n",
              "<table id=\"T_e9775_\">\n",
              "  <caption>Model type: RandomForestRegressor</caption>\n",
              "  <thead>\n",
              "    <tr>\n",
              "      <th class=\"blank level0\" >&nbsp;</th>\n",
              "      <th class=\"col_heading level0 col0\" >param_name</th>\n",
              "      <th class=\"col_heading level0 col1\" >default_value</th>\n",
              "      <th class=\"col_heading level0 col2\" >model_version_1</th>\n",
              "      <th class=\"col_heading level0 col3\" >model_version_2</th>\n",
              "    </tr>\n",
              "  </thead>\n",
              "  <tbody>\n",
              "    <tr>\n",
              "      <th id=\"T_e9775_level0_row0\" class=\"row_heading level0 row0\" >0</th>\n",
              "      <td id=\"T_e9775_row0_col0\" class=\"data row0 col0\" >bootstrap</td>\n",
              "      <td id=\"T_e9775_row0_col1\" class=\"data row0 col1\" >True</td>\n",
              "      <td id=\"T_e9775_row0_col2\" class=\"data row0 col2\" >True</td>\n",
              "      <td id=\"T_e9775_row0_col3\" class=\"data row0 col3\" >True</td>\n",
              "    </tr>\n",
              "    <tr>\n",
              "      <th id=\"T_e9775_level0_row1\" class=\"row_heading level0 row1\" >1</th>\n",
              "      <td id=\"T_e9775_row1_col0\" class=\"data row1 col0\" >ccp_alpha</td>\n",
              "      <td id=\"T_e9775_row1_col1\" class=\"data row1 col1\" >0.000000</td>\n",
              "      <td id=\"T_e9775_row1_col2\" class=\"data row1 col2\" >0.000000</td>\n",
              "      <td id=\"T_e9775_row1_col3\" class=\"data row1 col3\" >0.000000</td>\n",
              "    </tr>\n",
              "    <tr>\n",
              "      <th id=\"T_e9775_level0_row2\" class=\"row_heading level0 row2\" >2</th>\n",
              "      <td id=\"T_e9775_row2_col0\" class=\"data row2 col0\" >criterion</td>\n",
              "      <td id=\"T_e9775_row2_col1\" class=\"data row2 col1\" >mse</td>\n",
              "      <td id=\"T_e9775_row2_col2\" class=\"data row2 col2\" >mse</td>\n",
              "      <td id=\"T_e9775_row2_col3\" class=\"data row2 col3\" >mse</td>\n",
              "    </tr>\n",
              "    <tr>\n",
              "      <th id=\"T_e9775_level0_row3\" class=\"row_heading level0 row3\" >3</th>\n",
              "      <td id=\"T_e9775_row3_col0\" class=\"data row3 col0\" >max_depth</td>\n",
              "      <td id=\"T_e9775_row3_col1\" class=\"data row3 col1\" >None</td>\n",
              "      <td id=\"T_e9775_row3_col2\" class=\"data row3 col2\" >3</td>\n",
              "      <td id=\"T_e9775_row3_col3\" class=\"data row3 col3\" >2</td>\n",
              "    </tr>\n",
              "    <tr>\n",
              "      <th id=\"T_e9775_level0_row4\" class=\"row_heading level0 row4\" >4</th>\n",
              "      <td id=\"T_e9775_row4_col0\" class=\"data row4 col0\" >max_features</td>\n",
              "      <td id=\"T_e9775_row4_col1\" class=\"data row4 col1\" >auto</td>\n",
              "      <td id=\"T_e9775_row4_col2\" class=\"data row4 col2\" >auto</td>\n",
              "      <td id=\"T_e9775_row4_col3\" class=\"data row4 col3\" >auto</td>\n",
              "    </tr>\n",
              "    <tr>\n",
              "      <th id=\"T_e9775_level0_row5\" class=\"row_heading level0 row5\" >5</th>\n",
              "      <td id=\"T_e9775_row5_col0\" class=\"data row5 col0\" >max_leaf_nodes</td>\n",
              "      <td id=\"T_e9775_row5_col1\" class=\"data row5 col1\" >None</td>\n",
              "      <td id=\"T_e9775_row5_col2\" class=\"data row5 col2\" >None</td>\n",
              "      <td id=\"T_e9775_row5_col3\" class=\"data row5 col3\" >None</td>\n",
              "    </tr>\n",
              "    <tr>\n",
              "      <th id=\"T_e9775_level0_row6\" class=\"row_heading level0 row6\" >6</th>\n",
              "      <td id=\"T_e9775_row6_col0\" class=\"data row6 col0\" >max_samples</td>\n",
              "      <td id=\"T_e9775_row6_col1\" class=\"data row6 col1\" >None</td>\n",
              "      <td id=\"T_e9775_row6_col2\" class=\"data row6 col2\" >None</td>\n",
              "      <td id=\"T_e9775_row6_col3\" class=\"data row6 col3\" >None</td>\n",
              "    </tr>\n",
              "    <tr>\n",
              "      <th id=\"T_e9775_level0_row7\" class=\"row_heading level0 row7\" >7</th>\n",
              "      <td id=\"T_e9775_row7_col0\" class=\"data row7 col0\" >min_impurity_decrease</td>\n",
              "      <td id=\"T_e9775_row7_col1\" class=\"data row7 col1\" >0.000000</td>\n",
              "      <td id=\"T_e9775_row7_col2\" class=\"data row7 col2\" >0.000000</td>\n",
              "      <td id=\"T_e9775_row7_col3\" class=\"data row7 col3\" >0.000000</td>\n",
              "    </tr>\n",
              "    <tr>\n",
              "      <th id=\"T_e9775_level0_row8\" class=\"row_heading level0 row8\" >8</th>\n",
              "      <td id=\"T_e9775_row8_col0\" class=\"data row8 col0\" >min_impurity_split</td>\n",
              "      <td id=\"T_e9775_row8_col1\" class=\"data row8 col1\" >None</td>\n",
              "      <td id=\"T_e9775_row8_col2\" class=\"data row8 col2\" >None</td>\n",
              "      <td id=\"T_e9775_row8_col3\" class=\"data row8 col3\" >None</td>\n",
              "    </tr>\n",
              "    <tr>\n",
              "      <th id=\"T_e9775_level0_row9\" class=\"row_heading level0 row9\" >9</th>\n",
              "      <td id=\"T_e9775_row9_col0\" class=\"data row9 col0\" >min_samples_leaf</td>\n",
              "      <td id=\"T_e9775_row9_col1\" class=\"data row9 col1\" >1</td>\n",
              "      <td id=\"T_e9775_row9_col2\" class=\"data row9 col2\" >1</td>\n",
              "      <td id=\"T_e9775_row9_col3\" class=\"data row9 col3\" >1</td>\n",
              "    </tr>\n",
              "    <tr>\n",
              "      <th id=\"T_e9775_level0_row10\" class=\"row_heading level0 row10\" >10</th>\n",
              "      <td id=\"T_e9775_row10_col0\" class=\"data row10 col0\" >min_samples_split</td>\n",
              "      <td id=\"T_e9775_row10_col1\" class=\"data row10 col1\" >2</td>\n",
              "      <td id=\"T_e9775_row10_col2\" class=\"data row10 col2\" >2</td>\n",
              "      <td id=\"T_e9775_row10_col3\" class=\"data row10 col3\" >2</td>\n",
              "    </tr>\n",
              "    <tr>\n",
              "      <th id=\"T_e9775_level0_row11\" class=\"row_heading level0 row11\" >11</th>\n",
              "      <td id=\"T_e9775_row11_col0\" class=\"data row11 col0\" >min_weight_fraction_leaf</td>\n",
              "      <td id=\"T_e9775_row11_col1\" class=\"data row11 col1\" >0.000000</td>\n",
              "      <td id=\"T_e9775_row11_col2\" class=\"data row11 col2\" >0.000000</td>\n",
              "      <td id=\"T_e9775_row11_col3\" class=\"data row11 col3\" >0.000000</td>\n",
              "    </tr>\n",
              "    <tr>\n",
              "      <th id=\"T_e9775_level0_row12\" class=\"row_heading level0 row12\" >12</th>\n",
              "      <td id=\"T_e9775_row12_col0\" class=\"data row12 col0\" >n_estimators</td>\n",
              "      <td id=\"T_e9775_row12_col1\" class=\"data row12 col1\" >100</td>\n",
              "      <td id=\"T_e9775_row12_col2\" class=\"data row12 col2\" >500</td>\n",
              "      <td id=\"T_e9775_row12_col3\" class=\"data row12 col3\" >1000</td>\n",
              "    </tr>\n",
              "    <tr>\n",
              "      <th id=\"T_e9775_level0_row13\" class=\"row_heading level0 row13\" >13</th>\n",
              "      <td id=\"T_e9775_row13_col0\" class=\"data row13 col0\" >n_jobs</td>\n",
              "      <td id=\"T_e9775_row13_col1\" class=\"data row13 col1\" >None</td>\n",
              "      <td id=\"T_e9775_row13_col2\" class=\"data row13 col2\" >None</td>\n",
              "      <td id=\"T_e9775_row13_col3\" class=\"data row13 col3\" >None</td>\n",
              "    </tr>\n",
              "    <tr>\n",
              "      <th id=\"T_e9775_level0_row14\" class=\"row_heading level0 row14\" >14</th>\n",
              "      <td id=\"T_e9775_row14_col0\" class=\"data row14 col0\" >oob_score</td>\n",
              "      <td id=\"T_e9775_row14_col1\" class=\"data row14 col1\" >False</td>\n",
              "      <td id=\"T_e9775_row14_col2\" class=\"data row14 col2\" >False</td>\n",
              "      <td id=\"T_e9775_row14_col3\" class=\"data row14 col3\" >False</td>\n",
              "    </tr>\n",
              "    <tr>\n",
              "      <th id=\"T_e9775_level0_row15\" class=\"row_heading level0 row15\" >15</th>\n",
              "      <td id=\"T_e9775_row15_col0\" class=\"data row15 col0\" >random_state</td>\n",
              "      <td id=\"T_e9775_row15_col1\" class=\"data row15 col1\" >None</td>\n",
              "      <td id=\"T_e9775_row15_col2\" class=\"data row15 col2\" >0</td>\n",
              "      <td id=\"T_e9775_row15_col3\" class=\"data row15 col3\" >0</td>\n",
              "    </tr>\n",
              "    <tr>\n",
              "      <th id=\"T_e9775_level0_row16\" class=\"row_heading level0 row16\" >16</th>\n",
              "      <td id=\"T_e9775_row16_col0\" class=\"data row16 col0\" >verbose</td>\n",
              "      <td id=\"T_e9775_row16_col1\" class=\"data row16 col1\" >0</td>\n",
              "      <td id=\"T_e9775_row16_col2\" class=\"data row16 col2\" >0</td>\n",
              "      <td id=\"T_e9775_row16_col3\" class=\"data row16 col3\" >0</td>\n",
              "    </tr>\n",
              "    <tr>\n",
              "      <th id=\"T_e9775_level0_row17\" class=\"row_heading level0 row17\" >17</th>\n",
              "      <td id=\"T_e9775_row17_col0\" class=\"data row17 col0\" >warm_start</td>\n",
              "      <td id=\"T_e9775_row17_col1\" class=\"data row17 col1\" >False</td>\n",
              "      <td id=\"T_e9775_row17_col2\" class=\"data row17 col2\" >False</td>\n",
              "      <td id=\"T_e9775_row17_col3\" class=\"data row17 col3\" >False</td>\n",
              "    </tr>\n",
              "  </tbody>\n",
              "</table>\n"
            ]
          },
          "metadata": {}
        },
        {
          "output_type": "stream",
          "name": "stdout",
          "text": [
            "\n",
            "\n",
            "\n"
          ]
        }
      ]
    },
    {
      "cell_type": "code",
      "metadata": {
        "colab": {
          "base_uri": "https://localhost:8080/"
        },
        "id": "6Go4SF37Ex_Z",
        "outputId": "c4a39eae-a757-4c0f-c0b8-4840f9aa1d14"
      },
      "source": [
        "# Submit a third model using GridSearchCV\n",
        "\n",
        "from sklearn.model_selection import GridSearchCV\n",
        "import numpy as np\n",
        "\n",
        "param_grid = {'n_estimators': np.arange(100, 300, 500),'max_depth':[1, 3, 5]} #np.arange creates sequence of numbers for each k value\n",
        "\n",
        "gridmodel = GridSearchCV(RandomForestRegressor(), param_grid=param_grid, cv=10)\n",
        "\n",
        "#use meta model methods to fit score and predict model:\n",
        "gridmodel.fit(preprocessor(X_train), y_train)\n",
        "\n",
        "#extract best score and parameter by calling objects \"best_score_\" and \"best_params_\"\n",
        "print(\"best mean cross-validation score: {:.3f}\".format(gridmodel.best_score_))\n",
        "print(\"best parameters: {}\".format(gridmodel.best_params_))\n"
      ],
      "execution_count": 18,
      "outputs": [
        {
          "output_type": "stream",
          "name": "stdout",
          "text": [
            "best mean cross-validation score: 0.933\n",
            "best parameters: {'max_depth': 5, 'n_estimators': 100}\n"
          ]
        }
      ]
    },
    {
      "cell_type": "code",
      "metadata": {
        "id": "HvLuIvOjHLH2"
      },
      "source": [
        "# Save sklearn model to local ONNX file\n",
        "from aimodelshare.aimsonnx import model_to_onnx\n",
        "\n",
        "feature_count=preprocessor(X_test).shape[1] #Get count of preprocessed features\n",
        "initial_type = [('float_input', FloatTensorType([None, feature_count]))]  # Insert correct number of preprocessed features\n",
        "\n",
        "onnx_model = model_to_onnx(gridmodel, framework='sklearn',\n",
        "                          initial_types=initial_type,\n",
        "                          transfer_learning=False,\n",
        "                          deep_learning=False)\n",
        "\n",
        "with open(\"gridmodel.onnx\", \"wb\") as f:\n",
        "    f.write(onnx_model.SerializeToString())"
      ],
      "execution_count": 19,
      "outputs": []
    },
    {
      "cell_type": "code",
      "metadata": {
        "colab": {
          "base_uri": "https://localhost:8080/"
        },
        "id": "sMidHABfHVN7",
        "outputId": "13cb5acd-ad45-4852-c484-b2d98fb09e6d"
      },
      "source": [
        "#Submit Model 3: \n",
        "\n",
        "#-- Generate predicted values\n",
        "prediction_labels = gridmodel.predict(preprocessor(X_test))\n",
        "\n",
        "# Submit Model 3 to Competition Leaderboard\n",
        "mycompetition.submit_model(model_filepath = \"gridmodel.onnx\",\n",
        "                                 preprocessor_filepath=\"preprocessor.zip\",\n",
        "                                 prediction_submission=prediction_labels)"
      ],
      "execution_count": 20,
      "outputs": [
        {
          "output_type": "stream",
          "name": "stdout",
          "text": [
            "Insert search tags to help users find your model (optional): \n",
            "Provide any useful notes about your model (optional): \n",
            "\n",
            "Your model has been submitted as model version 5\n",
            "\n",
            "To submit code used to create this model or to view current leaderboard navigate to Model Playground: \n",
            "\n",
            " https://www.modelshare.org/detail/model:1670\n"
          ]
        }
      ]
    },
    {
      "cell_type": "code",
      "metadata": {
        "colab": {
          "base_uri": "https://localhost:8080/",
          "height": 169
        },
        "id": "hn-Tp-zpJVGT",
        "outputId": "7ad2897f-2f5e-41c9-d843-d0d73a9b9897"
      },
      "source": [
        "# Get leaderboard\n",
        "\n",
        "data = mycompetition.get_leaderboard()\n",
        "mycompetition.stylize_leaderboard(data)"
      ],
      "execution_count": 21,
      "outputs": [
        {
          "output_type": "execute_result",
          "data": {
            "text/plain": [
              "<pandas.io.formats.style.Styler at 0x7fb9d0f28c90>"
            ],
            "text/html": [
              "<style type=\"text/css\">\n",
              "#T_37e66_row0_col0 {\n",
              "  text-align: center;\n",
              "  width: 10em;\n",
              "  height: 80%;\n",
              "  background: linear-gradient(90deg,#f5f8d6 33.8%, transparent 33.8%);\n",
              "  color: #251e1b;\n",
              "  font-size: 12px;\n",
              "}\n",
              "#T_37e66_row0_col1 {\n",
              "  text-align: center;\n",
              "  width: 10em;\n",
              "  height: 80%;\n",
              "  background: linear-gradient(90deg,#c778c8 58.2%, transparent 58.2%);\n",
              "  color: #251e1b;\n",
              "  font-size: 12px;\n",
              "}\n",
              "#T_37e66_row0_col2 {\n",
              "  text-align: center;\n",
              "  width: 10em;\n",
              "  height: 80%;\n",
              "  background: linear-gradient(90deg,#ff4971 51.1%, transparent 51.1%);\n",
              "  color: #251e1b;\n",
              "  font-size: 12px;\n",
              "}\n",
              "#T_37e66_row0_col3 {\n",
              "  text-align: center;\n",
              "  width: 10em;\n",
              "  height: 80%;\n",
              "  background: linear-gradient(90deg,#aadbaa 100.0%, transparent 100.0%);\n",
              "  color: #251e1b;\n",
              "  font-size: 12px;\n",
              "}\n",
              "#T_37e66_row0_col4, #T_37e66_row0_col5, #T_37e66_row0_col6, #T_37e66_row0_col7, #T_37e66_row0_col8, #T_37e66_row0_col9, #T_37e66_row1_col4, #T_37e66_row1_col5, #T_37e66_row1_col6, #T_37e66_row1_col7, #T_37e66_row1_col8, #T_37e66_row1_col9, #T_37e66_row2_col4, #T_37e66_row2_col5, #T_37e66_row2_col6, #T_37e66_row2_col7, #T_37e66_row2_col8, #T_37e66_row2_col9, #T_37e66_row3_col4, #T_37e66_row3_col5, #T_37e66_row3_col6, #T_37e66_row3_col7, #T_37e66_row3_col8, #T_37e66_row3_col9, #T_37e66_row4_col4, #T_37e66_row4_col5, #T_37e66_row4_col6, #T_37e66_row4_col7, #T_37e66_row4_col8, #T_37e66_row4_col9 {\n",
              "  text-align: center;\n",
              "}\n",
              "#T_37e66_row1_col0, #T_37e66_row2_col0 {\n",
              "  text-align: center;\n",
              "  width: 10em;\n",
              "  height: 80%;\n",
              "  background: linear-gradient(90deg,#f5f8d6 68.5%, transparent 68.5%);\n",
              "  color: #251e1b;\n",
              "  font-size: 12px;\n",
              "}\n",
              "#T_37e66_row1_col1, #T_37e66_row2_col1 {\n",
              "  text-align: center;\n",
              "  width: 10em;\n",
              "  height: 80%;\n",
              "  background: linear-gradient(90deg,#c778c8 82.7%, transparent 82.7%);\n",
              "  color: #251e1b;\n",
              "  font-size: 12px;\n",
              "}\n",
              "#T_37e66_row1_col2, #T_37e66_row2_col2 {\n",
              "  text-align: center;\n",
              "  width: 10em;\n",
              "  height: 80%;\n",
              "  background: linear-gradient(90deg,#ff4971 75.9%, transparent 75.9%);\n",
              "  color: #251e1b;\n",
              "  font-size: 12px;\n",
              "}\n",
              "#T_37e66_row1_col3, #T_37e66_row2_col3 {\n",
              "  text-align: center;\n",
              "  width: 10em;\n",
              "  height: 80%;\n",
              "  background: linear-gradient(90deg,#aadbaa 93.4%, transparent 93.4%);\n",
              "  color: #251e1b;\n",
              "  font-size: 12px;\n",
              "}\n",
              "#T_37e66_row3_col0, #T_37e66_row4_col0 {\n",
              "  text-align: center;\n",
              "  width: 10em;\n",
              "  height: 80%;\n",
              "  background: linear-gradient(90deg,#f5f8d6 100.0%, transparent 100.0%);\n",
              "  color: #251e1b;\n",
              "  font-size: 12px;\n",
              "}\n",
              "#T_37e66_row3_col1, #T_37e66_row4_col1 {\n",
              "  text-align: center;\n",
              "  width: 10em;\n",
              "  height: 80%;\n",
              "  background: linear-gradient(90deg,#c778c8 100.0%, transparent 100.0%);\n",
              "  color: #251e1b;\n",
              "  font-size: 12px;\n",
              "}\n",
              "#T_37e66_row3_col2, #T_37e66_row4_col2 {\n",
              "  text-align: center;\n",
              "  width: 10em;\n",
              "  height: 80%;\n",
              "  background: linear-gradient(90deg,#ff4971 100.0%, transparent 100.0%);\n",
              "  color: #251e1b;\n",
              "  font-size: 12px;\n",
              "}\n",
              "#T_37e66_row3_col3, #T_37e66_row4_col3 {\n",
              "  text-align: center;\n",
              "  width: 10em;\n",
              "  height: 80%;\n",
              "  background: linear-gradient(90deg,#aadbaa 87.4%, transparent 87.4%);\n",
              "  color: #251e1b;\n",
              "  font-size: 12px;\n",
              "}\n",
              "</style>\n",
              "<table id=\"T_37e66_\" class=\"dataframe\">\n",
              "  <thead>\n",
              "    <tr>\n",
              "      <th class=\"blank level0\" >&nbsp;</th>\n",
              "      <th class=\"col_heading level0 col0\" >mse</th>\n",
              "      <th class=\"col_heading level0 col1\" >rmse</th>\n",
              "      <th class=\"col_heading level0 col2\" >mae</th>\n",
              "      <th class=\"col_heading level0 col3\" >r2</th>\n",
              "      <th class=\"col_heading level0 col4\" >ml_framework</th>\n",
              "      <th class=\"col_heading level0 col5\" >transfer_learning</th>\n",
              "      <th class=\"col_heading level0 col6\" >deep_learning</th>\n",
              "      <th class=\"col_heading level0 col7\" >model_type</th>\n",
              "      <th class=\"col_heading level0 col8\" >username</th>\n",
              "      <th class=\"col_heading level0 col9\" >version</th>\n",
              "    </tr>\n",
              "  </thead>\n",
              "  <tbody>\n",
              "    <tr>\n",
              "      <th id=\"T_37e66_level0_row0\" class=\"row_heading level0 row0\" >0</th>\n",
              "      <td id=\"T_37e66_row0_col0\" class=\"data row0 col0\" >7671996.51</td>\n",
              "      <td id=\"T_37e66_row0_col1\" class=\"data row0 col1\" >2769.84</td>\n",
              "      <td id=\"T_37e66_row0_col2\" class=\"data row0 col2\" >1677.97</td>\n",
              "      <td id=\"T_37e66_row0_col3\" class=\"data row0 col3\" >0.94</td>\n",
              "      <td id=\"T_37e66_row0_col4\" class=\"data row0 col4\" >sklearn</td>\n",
              "      <td id=\"T_37e66_row0_col5\" class=\"data row0 col5\" >False</td>\n",
              "      <td id=\"T_37e66_row0_col6\" class=\"data row0 col6\" >False</td>\n",
              "      <td id=\"T_37e66_row0_col7\" class=\"data row0 col7\" >RandomForestRegressor</td>\n",
              "      <td id=\"T_37e66_row0_col8\" class=\"data row0 col8\" >AIModelShare</td>\n",
              "      <td id=\"T_37e66_row0_col9\" class=\"data row0 col9\" >5</td>\n",
              "    </tr>\n",
              "    <tr>\n",
              "      <th id=\"T_37e66_level0_row1\" class=\"row_heading level0 row1\" >1</th>\n",
              "      <td id=\"T_37e66_row1_col0\" class=\"data row1 col0\" >15516590.45</td>\n",
              "      <td id=\"T_37e66_row1_col1\" class=\"data row1 col1\" >3939.11</td>\n",
              "      <td id=\"T_37e66_row1_col2\" class=\"data row1 col2\" >2493.11</td>\n",
              "      <td id=\"T_37e66_row1_col3\" class=\"data row1 col3\" >0.88</td>\n",
              "      <td id=\"T_37e66_row1_col4\" class=\"data row1 col4\" >sklearn</td>\n",
              "      <td id=\"T_37e66_row1_col5\" class=\"data row1 col5\" >False</td>\n",
              "      <td id=\"T_37e66_row1_col6\" class=\"data row1 col6\" >False</td>\n",
              "      <td id=\"T_37e66_row1_col7\" class=\"data row1 col7\" >RandomForestRegressor</td>\n",
              "      <td id=\"T_37e66_row1_col8\" class=\"data row1 col8\" >AIModelShare</td>\n",
              "      <td id=\"T_37e66_row1_col9\" class=\"data row1 col9\" >1</td>\n",
              "    </tr>\n",
              "    <tr>\n",
              "      <th id=\"T_37e66_level0_row2\" class=\"row_heading level0 row2\" >2</th>\n",
              "      <td id=\"T_37e66_row2_col0\" class=\"data row2 col0\" >15516590.45</td>\n",
              "      <td id=\"T_37e66_row2_col1\" class=\"data row2 col1\" >3939.11</td>\n",
              "      <td id=\"T_37e66_row2_col2\" class=\"data row2 col2\" >2493.11</td>\n",
              "      <td id=\"T_37e66_row2_col3\" class=\"data row2 col3\" >0.88</td>\n",
              "      <td id=\"T_37e66_row2_col4\" class=\"data row2 col4\" >sklearn</td>\n",
              "      <td id=\"T_37e66_row2_col5\" class=\"data row2 col5\" >False</td>\n",
              "      <td id=\"T_37e66_row2_col6\" class=\"data row2 col6\" >False</td>\n",
              "      <td id=\"T_37e66_row2_col7\" class=\"data row2 col7\" >RandomForestRegressor</td>\n",
              "      <td id=\"T_37e66_row2_col8\" class=\"data row2 col8\" >AIModelShare</td>\n",
              "      <td id=\"T_37e66_row2_col9\" class=\"data row2 col9\" >3</td>\n",
              "    </tr>\n",
              "    <tr>\n",
              "      <th id=\"T_37e66_level0_row3\" class=\"row_heading level0 row3\" >3</th>\n",
              "      <td id=\"T_37e66_row3_col0\" class=\"data row3 col0\" >22666752.77</td>\n",
              "      <td id=\"T_37e66_row3_col1\" class=\"data row3 col1\" >4760.96</td>\n",
              "      <td id=\"T_37e66_row3_col2\" class=\"data row3 col2\" >3282.78</td>\n",
              "      <td id=\"T_37e66_row3_col3\" class=\"data row3 col3\" >0.82</td>\n",
              "      <td id=\"T_37e66_row3_col4\" class=\"data row3 col4\" >sklearn</td>\n",
              "      <td id=\"T_37e66_row3_col5\" class=\"data row3 col5\" >False</td>\n",
              "      <td id=\"T_37e66_row3_col6\" class=\"data row3 col6\" >False</td>\n",
              "      <td id=\"T_37e66_row3_col7\" class=\"data row3 col7\" >RandomForestRegressor</td>\n",
              "      <td id=\"T_37e66_row3_col8\" class=\"data row3 col8\" >AIModelShare</td>\n",
              "      <td id=\"T_37e66_row3_col9\" class=\"data row3 col9\" >2</td>\n",
              "    </tr>\n",
              "    <tr>\n",
              "      <th id=\"T_37e66_level0_row4\" class=\"row_heading level0 row4\" >4</th>\n",
              "      <td id=\"T_37e66_row4_col0\" class=\"data row4 col0\" >22666752.77</td>\n",
              "      <td id=\"T_37e66_row4_col1\" class=\"data row4 col1\" >4760.96</td>\n",
              "      <td id=\"T_37e66_row4_col2\" class=\"data row4 col2\" >3282.78</td>\n",
              "      <td id=\"T_37e66_row4_col3\" class=\"data row4 col3\" >0.82</td>\n",
              "      <td id=\"T_37e66_row4_col4\" class=\"data row4 col4\" >sklearn</td>\n",
              "      <td id=\"T_37e66_row4_col5\" class=\"data row4 col5\" >False</td>\n",
              "      <td id=\"T_37e66_row4_col6\" class=\"data row4 col6\" >False</td>\n",
              "      <td id=\"T_37e66_row4_col7\" class=\"data row4 col7\" >RandomForestRegressor</td>\n",
              "      <td id=\"T_37e66_row4_col8\" class=\"data row4 col8\" >AIModelShare</td>\n",
              "      <td id=\"T_37e66_row4_col9\" class=\"data row4 col9\" >4</td>\n",
              "    </tr>\n",
              "  </tbody>\n",
              "</table>\n"
            ]
          },
          "metadata": {},
          "execution_count": 21
        }
      ]
    },
    {
      "cell_type": "code",
      "metadata": {
        "id": "MKvPKyb7hT0h",
        "colab": {
          "base_uri": "https://localhost:8080/",
          "height": 421
        },
        "outputId": "191c3edd-0797-4f17-b3b4-a33998ac0e46"
      },
      "source": [
        "# Compare two or more models\n",
        "data=mycompetition.compare_models([4, 1, 3], verbose=1)\n",
        "mycompetition.stylize_compare(data)"
      ],
      "execution_count": 23,
      "outputs": [
        {
          "output_type": "display_data",
          "data": {
            "text/plain": [
              "<IPython.core.display.HTML object>"
            ],
            "text/html": [
              "<style type=\"text/css\">\n",
              "#T_1f67a_ caption {\n",
              "  color: black;\n",
              "  font-size: 18px;\n",
              "}\n",
              "#T_1f67a_row3_col2, #T_1f67a_row3_col3, #T_1f67a_row3_col4, #T_1f67a_row12_col2, #T_1f67a_row12_col3, #T_1f67a_row12_col4, #T_1f67a_row15_col2, #T_1f67a_row15_col3, #T_1f67a_row15_col4 {\n",
              "  background: tomato;\n",
              "}\n",
              "</style>\n",
              "<table id=\"T_1f67a_\">\n",
              "  <caption>Model type: RandomForestRegressor</caption>\n",
              "  <thead>\n",
              "    <tr>\n",
              "      <th class=\"blank level0\" >&nbsp;</th>\n",
              "      <th class=\"col_heading level0 col0\" >param_name</th>\n",
              "      <th class=\"col_heading level0 col1\" >default_value</th>\n",
              "      <th class=\"col_heading level0 col2\" >model_version_4</th>\n",
              "      <th class=\"col_heading level0 col3\" >model_version_1</th>\n",
              "      <th class=\"col_heading level0 col4\" >model_version_3</th>\n",
              "    </tr>\n",
              "  </thead>\n",
              "  <tbody>\n",
              "    <tr>\n",
              "      <th id=\"T_1f67a_level0_row0\" class=\"row_heading level0 row0\" >0</th>\n",
              "      <td id=\"T_1f67a_row0_col0\" class=\"data row0 col0\" >bootstrap</td>\n",
              "      <td id=\"T_1f67a_row0_col1\" class=\"data row0 col1\" >True</td>\n",
              "      <td id=\"T_1f67a_row0_col2\" class=\"data row0 col2\" >True</td>\n",
              "      <td id=\"T_1f67a_row0_col3\" class=\"data row0 col3\" >True</td>\n",
              "      <td id=\"T_1f67a_row0_col4\" class=\"data row0 col4\" >True</td>\n",
              "    </tr>\n",
              "    <tr>\n",
              "      <th id=\"T_1f67a_level0_row1\" class=\"row_heading level0 row1\" >1</th>\n",
              "      <td id=\"T_1f67a_row1_col0\" class=\"data row1 col0\" >ccp_alpha</td>\n",
              "      <td id=\"T_1f67a_row1_col1\" class=\"data row1 col1\" >0.000000</td>\n",
              "      <td id=\"T_1f67a_row1_col2\" class=\"data row1 col2\" >0.000000</td>\n",
              "      <td id=\"T_1f67a_row1_col3\" class=\"data row1 col3\" >0.000000</td>\n",
              "      <td id=\"T_1f67a_row1_col4\" class=\"data row1 col4\" >0.000000</td>\n",
              "    </tr>\n",
              "    <tr>\n",
              "      <th id=\"T_1f67a_level0_row2\" class=\"row_heading level0 row2\" >2</th>\n",
              "      <td id=\"T_1f67a_row2_col0\" class=\"data row2 col0\" >criterion</td>\n",
              "      <td id=\"T_1f67a_row2_col1\" class=\"data row2 col1\" >mse</td>\n",
              "      <td id=\"T_1f67a_row2_col2\" class=\"data row2 col2\" >mse</td>\n",
              "      <td id=\"T_1f67a_row2_col3\" class=\"data row2 col3\" >mse</td>\n",
              "      <td id=\"T_1f67a_row2_col4\" class=\"data row2 col4\" >mse</td>\n",
              "    </tr>\n",
              "    <tr>\n",
              "      <th id=\"T_1f67a_level0_row3\" class=\"row_heading level0 row3\" >3</th>\n",
              "      <td id=\"T_1f67a_row3_col0\" class=\"data row3 col0\" >max_depth</td>\n",
              "      <td id=\"T_1f67a_row3_col1\" class=\"data row3 col1\" >None</td>\n",
              "      <td id=\"T_1f67a_row3_col2\" class=\"data row3 col2\" >2</td>\n",
              "      <td id=\"T_1f67a_row3_col3\" class=\"data row3 col3\" >3</td>\n",
              "      <td id=\"T_1f67a_row3_col4\" class=\"data row3 col4\" >3</td>\n",
              "    </tr>\n",
              "    <tr>\n",
              "      <th id=\"T_1f67a_level0_row4\" class=\"row_heading level0 row4\" >4</th>\n",
              "      <td id=\"T_1f67a_row4_col0\" class=\"data row4 col0\" >max_features</td>\n",
              "      <td id=\"T_1f67a_row4_col1\" class=\"data row4 col1\" >auto</td>\n",
              "      <td id=\"T_1f67a_row4_col2\" class=\"data row4 col2\" >auto</td>\n",
              "      <td id=\"T_1f67a_row4_col3\" class=\"data row4 col3\" >auto</td>\n",
              "      <td id=\"T_1f67a_row4_col4\" class=\"data row4 col4\" >auto</td>\n",
              "    </tr>\n",
              "    <tr>\n",
              "      <th id=\"T_1f67a_level0_row5\" class=\"row_heading level0 row5\" >5</th>\n",
              "      <td id=\"T_1f67a_row5_col0\" class=\"data row5 col0\" >max_leaf_nodes</td>\n",
              "      <td id=\"T_1f67a_row5_col1\" class=\"data row5 col1\" >None</td>\n",
              "      <td id=\"T_1f67a_row5_col2\" class=\"data row5 col2\" >None</td>\n",
              "      <td id=\"T_1f67a_row5_col3\" class=\"data row5 col3\" >None</td>\n",
              "      <td id=\"T_1f67a_row5_col4\" class=\"data row5 col4\" >None</td>\n",
              "    </tr>\n",
              "    <tr>\n",
              "      <th id=\"T_1f67a_level0_row6\" class=\"row_heading level0 row6\" >6</th>\n",
              "      <td id=\"T_1f67a_row6_col0\" class=\"data row6 col0\" >max_samples</td>\n",
              "      <td id=\"T_1f67a_row6_col1\" class=\"data row6 col1\" >None</td>\n",
              "      <td id=\"T_1f67a_row6_col2\" class=\"data row6 col2\" >None</td>\n",
              "      <td id=\"T_1f67a_row6_col3\" class=\"data row6 col3\" >None</td>\n",
              "      <td id=\"T_1f67a_row6_col4\" class=\"data row6 col4\" >None</td>\n",
              "    </tr>\n",
              "    <tr>\n",
              "      <th id=\"T_1f67a_level0_row7\" class=\"row_heading level0 row7\" >7</th>\n",
              "      <td id=\"T_1f67a_row7_col0\" class=\"data row7 col0\" >min_impurity_decrease</td>\n",
              "      <td id=\"T_1f67a_row7_col1\" class=\"data row7 col1\" >0.000000</td>\n",
              "      <td id=\"T_1f67a_row7_col2\" class=\"data row7 col2\" >0.000000</td>\n",
              "      <td id=\"T_1f67a_row7_col3\" class=\"data row7 col3\" >0.000000</td>\n",
              "      <td id=\"T_1f67a_row7_col4\" class=\"data row7 col4\" >0.000000</td>\n",
              "    </tr>\n",
              "    <tr>\n",
              "      <th id=\"T_1f67a_level0_row8\" class=\"row_heading level0 row8\" >8</th>\n",
              "      <td id=\"T_1f67a_row8_col0\" class=\"data row8 col0\" >min_impurity_split</td>\n",
              "      <td id=\"T_1f67a_row8_col1\" class=\"data row8 col1\" >None</td>\n",
              "      <td id=\"T_1f67a_row8_col2\" class=\"data row8 col2\" >None</td>\n",
              "      <td id=\"T_1f67a_row8_col3\" class=\"data row8 col3\" >None</td>\n",
              "      <td id=\"T_1f67a_row8_col4\" class=\"data row8 col4\" >None</td>\n",
              "    </tr>\n",
              "    <tr>\n",
              "      <th id=\"T_1f67a_level0_row9\" class=\"row_heading level0 row9\" >9</th>\n",
              "      <td id=\"T_1f67a_row9_col0\" class=\"data row9 col0\" >min_samples_leaf</td>\n",
              "      <td id=\"T_1f67a_row9_col1\" class=\"data row9 col1\" >1</td>\n",
              "      <td id=\"T_1f67a_row9_col2\" class=\"data row9 col2\" >1</td>\n",
              "      <td id=\"T_1f67a_row9_col3\" class=\"data row9 col3\" >1</td>\n",
              "      <td id=\"T_1f67a_row9_col4\" class=\"data row9 col4\" >1</td>\n",
              "    </tr>\n",
              "    <tr>\n",
              "      <th id=\"T_1f67a_level0_row10\" class=\"row_heading level0 row10\" >10</th>\n",
              "      <td id=\"T_1f67a_row10_col0\" class=\"data row10 col0\" >min_samples_split</td>\n",
              "      <td id=\"T_1f67a_row10_col1\" class=\"data row10 col1\" >2</td>\n",
              "      <td id=\"T_1f67a_row10_col2\" class=\"data row10 col2\" >2</td>\n",
              "      <td id=\"T_1f67a_row10_col3\" class=\"data row10 col3\" >2</td>\n",
              "      <td id=\"T_1f67a_row10_col4\" class=\"data row10 col4\" >2</td>\n",
              "    </tr>\n",
              "    <tr>\n",
              "      <th id=\"T_1f67a_level0_row11\" class=\"row_heading level0 row11\" >11</th>\n",
              "      <td id=\"T_1f67a_row11_col0\" class=\"data row11 col0\" >min_weight_fraction_leaf</td>\n",
              "      <td id=\"T_1f67a_row11_col1\" class=\"data row11 col1\" >0.000000</td>\n",
              "      <td id=\"T_1f67a_row11_col2\" class=\"data row11 col2\" >0.000000</td>\n",
              "      <td id=\"T_1f67a_row11_col3\" class=\"data row11 col3\" >0.000000</td>\n",
              "      <td id=\"T_1f67a_row11_col4\" class=\"data row11 col4\" >0.000000</td>\n",
              "    </tr>\n",
              "    <tr>\n",
              "      <th id=\"T_1f67a_level0_row12\" class=\"row_heading level0 row12\" >12</th>\n",
              "      <td id=\"T_1f67a_row12_col0\" class=\"data row12 col0\" >n_estimators</td>\n",
              "      <td id=\"T_1f67a_row12_col1\" class=\"data row12 col1\" >100</td>\n",
              "      <td id=\"T_1f67a_row12_col2\" class=\"data row12 col2\" >1000</td>\n",
              "      <td id=\"T_1f67a_row12_col3\" class=\"data row12 col3\" >500</td>\n",
              "      <td id=\"T_1f67a_row12_col4\" class=\"data row12 col4\" >500</td>\n",
              "    </tr>\n",
              "    <tr>\n",
              "      <th id=\"T_1f67a_level0_row13\" class=\"row_heading level0 row13\" >13</th>\n",
              "      <td id=\"T_1f67a_row13_col0\" class=\"data row13 col0\" >n_jobs</td>\n",
              "      <td id=\"T_1f67a_row13_col1\" class=\"data row13 col1\" >None</td>\n",
              "      <td id=\"T_1f67a_row13_col2\" class=\"data row13 col2\" >None</td>\n",
              "      <td id=\"T_1f67a_row13_col3\" class=\"data row13 col3\" >None</td>\n",
              "      <td id=\"T_1f67a_row13_col4\" class=\"data row13 col4\" >None</td>\n",
              "    </tr>\n",
              "    <tr>\n",
              "      <th id=\"T_1f67a_level0_row14\" class=\"row_heading level0 row14\" >14</th>\n",
              "      <td id=\"T_1f67a_row14_col0\" class=\"data row14 col0\" >oob_score</td>\n",
              "      <td id=\"T_1f67a_row14_col1\" class=\"data row14 col1\" >False</td>\n",
              "      <td id=\"T_1f67a_row14_col2\" class=\"data row14 col2\" >False</td>\n",
              "      <td id=\"T_1f67a_row14_col3\" class=\"data row14 col3\" >False</td>\n",
              "      <td id=\"T_1f67a_row14_col4\" class=\"data row14 col4\" >False</td>\n",
              "    </tr>\n",
              "    <tr>\n",
              "      <th id=\"T_1f67a_level0_row15\" class=\"row_heading level0 row15\" >15</th>\n",
              "      <td id=\"T_1f67a_row15_col0\" class=\"data row15 col0\" >random_state</td>\n",
              "      <td id=\"T_1f67a_row15_col1\" class=\"data row15 col1\" >None</td>\n",
              "      <td id=\"T_1f67a_row15_col2\" class=\"data row15 col2\" >0</td>\n",
              "      <td id=\"T_1f67a_row15_col3\" class=\"data row15 col3\" >0</td>\n",
              "      <td id=\"T_1f67a_row15_col4\" class=\"data row15 col4\" >0</td>\n",
              "    </tr>\n",
              "    <tr>\n",
              "      <th id=\"T_1f67a_level0_row16\" class=\"row_heading level0 row16\" >16</th>\n",
              "      <td id=\"T_1f67a_row16_col0\" class=\"data row16 col0\" >verbose</td>\n",
              "      <td id=\"T_1f67a_row16_col1\" class=\"data row16 col1\" >0</td>\n",
              "      <td id=\"T_1f67a_row16_col2\" class=\"data row16 col2\" >0</td>\n",
              "      <td id=\"T_1f67a_row16_col3\" class=\"data row16 col3\" >0</td>\n",
              "      <td id=\"T_1f67a_row16_col4\" class=\"data row16 col4\" >0</td>\n",
              "    </tr>\n",
              "    <tr>\n",
              "      <th id=\"T_1f67a_level0_row17\" class=\"row_heading level0 row17\" >17</th>\n",
              "      <td id=\"T_1f67a_row17_col0\" class=\"data row17 col0\" >warm_start</td>\n",
              "      <td id=\"T_1f67a_row17_col1\" class=\"data row17 col1\" >False</td>\n",
              "      <td id=\"T_1f67a_row17_col2\" class=\"data row17 col2\" >False</td>\n",
              "      <td id=\"T_1f67a_row17_col3\" class=\"data row17 col3\" >False</td>\n",
              "      <td id=\"T_1f67a_row17_col4\" class=\"data row17 col4\" >False</td>\n",
              "    </tr>\n",
              "  </tbody>\n",
              "</table>\n"
            ]
          },
          "metadata": {}
        },
        {
          "output_type": "stream",
          "name": "stdout",
          "text": [
            "\n",
            "\n",
            "\n"
          ]
        }
      ]
    },
    {
      "cell_type": "code",
      "metadata": {
        "id": "tukB40NshcaB",
        "colab": {
          "base_uri": "https://localhost:8080/"
        },
        "outputId": "fe7487fc-b9ec-4f1a-ce27-f5664102ad2d"
      },
      "source": [
        "# Here are several classic ML architectures you can choose from to experiment with next:\n",
        "from sklearn.neighbors import KNeighborsRegressor\n",
        "from sklearn.ensemble import RandomForestRegressor\n",
        "from sklearn.tree import DecisionTreeRegressor\n",
        "from sklearn.ensemble import BaggingRegressor\n",
        "from sklearn.ensemble import GradientBoostingRegressor\n",
        "\n",
        "\n",
        "#Example code to fit model:\n",
        "model = GradientBoostingRegressor(n_estimators=50, learning_rate=1.0,\n",
        "    max_depth=1, random_state=0).fit(preprocessor(X_train), y_train)\n",
        "model.score(preprocessor(X_train), y_train)\n",
        "\n",
        "# Save sklearn model to local ONNX file\n",
        "from aimodelshare.aimsonnx import model_to_onnx\n",
        "\n",
        "feature_count=preprocessor(X_test).shape[1] #Get count of preprocessed features\n",
        "initial_type = [('float_input', FloatTensorType([None, feature_count]))]  # Insert correct number of preprocessed features\n",
        "\n",
        "onnx_model = model_to_onnx(model, framework='sklearn',\n",
        "                          initial_types=initial_type,\n",
        "                          transfer_learning=False,\n",
        "                          deep_learning=False)\n",
        "\n",
        "with open(\"model.onnx\", \"wb\") as f:\n",
        "    f.write(onnx_model.SerializeToString())\n",
        "\n",
        "#-- Generate predicted values (a list of predicted labels \"real\" or \"fake\")\n",
        "prediction_labels = model.predict(preprocessor(X_test))\n",
        "\n",
        "# Submit model to Competition Leaderboard\n",
        "mycompetition.submit_model(model_filepath = \"model.onnx\",\n",
        "                                 preprocessor_filepath=\"preprocessor.zip\",\n",
        "                                 prediction_submission=prediction_labels)\n"
      ],
      "execution_count": 24,
      "outputs": [
        {
          "output_type": "stream",
          "name": "stdout",
          "text": [
            "Insert search tags to help users find your model (optional): \n",
            "Provide any useful notes about your model (optional): \n",
            "\n",
            "Your model has been submitted as model version 6\n",
            "\n",
            "To submit code used to create this model or to view current leaderboard navigate to Model Playground: \n",
            "\n",
            " https://www.modelshare.org/detail/model:1670\n"
          ]
        }
      ]
    }
  ]
}