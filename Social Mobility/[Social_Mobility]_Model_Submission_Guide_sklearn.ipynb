{
  "nbformat": 4,
  "nbformat_minor": 0,
  "metadata": {
    "colab": {
      "provenance": []
    },
    "kernelspec": {
      "name": "python3",
      "display_name": "Python 3"
    },
    "language_info": {
      "name": "python"
    }
  },
  "cells": [
    {
      "cell_type": "markdown",
      "source": [
        "<p align=\"center\"><img width=\"50%\" src=\"https://aimodelsharecontent.s3.amazonaws.com/aimodshare_banner.jpg\" /></p>\n",
        "\n",
        "\n",
        "---\n"
      ],
      "metadata": {
        "id": "m_DMeZsXxpEZ"
      }
    },
    {
      "cell_type": "markdown",
      "metadata": {
        "id": "JXxGTgJz152A"
      },
      "source": [
        "<p align=\"center\"><h1 align=\"center\">Social Mobility Prediction Competition\n",
        "\n",
        "----\n",
        "</h1>Let's share our models to a centralized leaderboard, so that we can collaborate and learn from the model experimentation process...\n",
        "\n",
        "**Instructions:**\n",
        "1.   Get data in and set up X_train / X_test / y_train\n",
        "2.   Preprocess data  with Sklearn Column Transformer/ Write and Save Preprocessor function\n",
        "3. Fit model on preprocessed data and save preprocessor function and model \n",
        "4. Generate predictions from X_test data and submit model to competition\n",
        "5. Repeat submission process to improve place on leaderboard\n",
        "\n"
      ]
    },
    {
      "cell_type": "markdown",
      "metadata": {
        "id": "5gSrVJwp3E9H"
      },
      "source": [
        "## 1. Get data in and set up X_train, X_test, y_train objects"
      ]
    },
    {
      "cell_type": "code",
      "metadata": {
        "id": "PLTIaMB3ChSW"
      },
      "source": [
        "#install aimodelshare library\n",
        "! pip install aimodelshare --upgrade"
      ],
      "execution_count": null,
      "outputs": []
    },
    {
      "cell_type": "code",
      "metadata": {
        "colab": {
          "base_uri": "https://localhost:8080/"
        },
        "id": "d3PiJXBhC5y-",
        "outputId": "85234efa-da60-4f02-e755-d52b24a86bd6"
      },
      "source": [
        "# Get competition data\n",
        "from aimodelshare import download_data\n",
        "download_data('public.ecr.aws/y2e2a1d6/social_mobility_competition_data-repository:latest') "
      ],
      "execution_count": 2,
      "outputs": [
        {
          "output_type": "stream",
          "name": "stdout",
          "text": [
            "Downloading [===========================================>     ]\n",
            "\n",
            "Data downloaded successfully.\n"
          ]
        }
      ]
    },
    {
      "cell_type": "code",
      "metadata": {
        "colab": {
          "base_uri": "https://localhost:8080/",
          "height": 328
        },
        "id": "jT0qFCZFNzHq",
        "outputId": "a9bcb472-ef3b-4a0f-dfea-b4501ec7db76"
      },
      "source": [
        "# Separate data into X_train, y_train, and X_test\n",
        "import pandas as pd\n",
        "\n",
        "X_train = pd.read_csv(\"/content/social_mobility_competition_data/X_train.csv\")\n",
        "y_train = pd.read_csv(\"/content/social_mobility_competition_data/y_train.csv\", squeeze=True)\n",
        "\n",
        "X_test=pd.read_csv(\"/content/social_mobility_competition_data/X_test.csv\")\n",
        "\n",
        "X_train.head()"
      ],
      "execution_count": 3,
      "outputs": [
        {
          "output_type": "execute_result",
          "data": {
            "text/plain": [
              "    geoid           place     pop  housing        P_1         P_2        P_3  \\\n",
              "0  1003.0  Baldwin County  187114   104061  82.847946   98.593450  101.77671   \n",
              "1  1005.0  Barbour County   27321    11829  76.313896   93.878720   90.70294   \n",
              "2  1007.0     Bibb County   22754     8981  73.765620  104.868470   82.12955   \n",
              "3  1013.0   Butler County   20624     9964  92.096670  121.073296  117.82320   \n",
              "4  1015.0  Calhoun County  117714    53289  76.938210   95.478250   98.32662   \n",
              "\n",
              "          P_4        P_5         P_6  ...  P_112  P_113  P_114  P_115  P_116  \\\n",
              "0   82.477325   62.60906   65.417640  ...    0.0  19.10   0.00   2.01   0.00   \n",
              "1   91.192700  101.84381  102.085240  ...    0.0  45.16   0.00   4.84   0.00   \n",
              "2   68.382010   71.17644   69.621730  ...    0.0  30.91   0.00   7.27   0.00   \n",
              "3  143.117360  131.00436  134.067840  ...    0.0  41.07   0.00   5.36   0.00   \n",
              "4   87.650314   64.08210   60.688488  ...    0.0  18.79   0.61   3.03   0.61   \n",
              "\n",
              "   P_117  P_118  P_119  P_120  P_121  \n",
              "0   3.52    0.0   0.00    0.0    0.0  \n",
              "1   1.61    0.0   3.23    0.0    0.0  \n",
              "2   1.82    0.0   0.00    0.0    0.0  \n",
              "3   1.79    0.0   0.00    0.0    0.0  \n",
              "4   2.42    0.0   0.00    0.0    0.0  \n",
              "\n",
              "[5 rows x 125 columns]"
            ],
            "text/html": [
              "\n",
              "  <div id=\"df-5ebf5d0a-4705-46ef-90e0-9a567eb29162\">\n",
              "    <div class=\"colab-df-container\">\n",
              "      <div>\n",
              "<style scoped>\n",
              "    .dataframe tbody tr th:only-of-type {\n",
              "        vertical-align: middle;\n",
              "    }\n",
              "\n",
              "    .dataframe tbody tr th {\n",
              "        vertical-align: top;\n",
              "    }\n",
              "\n",
              "    .dataframe thead th {\n",
              "        text-align: right;\n",
              "    }\n",
              "</style>\n",
              "<table border=\"1\" class=\"dataframe\">\n",
              "  <thead>\n",
              "    <tr style=\"text-align: right;\">\n",
              "      <th></th>\n",
              "      <th>geoid</th>\n",
              "      <th>place</th>\n",
              "      <th>pop</th>\n",
              "      <th>housing</th>\n",
              "      <th>P_1</th>\n",
              "      <th>P_2</th>\n",
              "      <th>P_3</th>\n",
              "      <th>P_4</th>\n",
              "      <th>P_5</th>\n",
              "      <th>P_6</th>\n",
              "      <th>...</th>\n",
              "      <th>P_112</th>\n",
              "      <th>P_113</th>\n",
              "      <th>P_114</th>\n",
              "      <th>P_115</th>\n",
              "      <th>P_116</th>\n",
              "      <th>P_117</th>\n",
              "      <th>P_118</th>\n",
              "      <th>P_119</th>\n",
              "      <th>P_120</th>\n",
              "      <th>P_121</th>\n",
              "    </tr>\n",
              "  </thead>\n",
              "  <tbody>\n",
              "    <tr>\n",
              "      <th>0</th>\n",
              "      <td>1003.0</td>\n",
              "      <td>Baldwin County</td>\n",
              "      <td>187114</td>\n",
              "      <td>104061</td>\n",
              "      <td>82.847946</td>\n",
              "      <td>98.593450</td>\n",
              "      <td>101.77671</td>\n",
              "      <td>82.477325</td>\n",
              "      <td>62.60906</td>\n",
              "      <td>65.417640</td>\n",
              "      <td>...</td>\n",
              "      <td>0.0</td>\n",
              "      <td>19.10</td>\n",
              "      <td>0.00</td>\n",
              "      <td>2.01</td>\n",
              "      <td>0.00</td>\n",
              "      <td>3.52</td>\n",
              "      <td>0.0</td>\n",
              "      <td>0.00</td>\n",
              "      <td>0.0</td>\n",
              "      <td>0.0</td>\n",
              "    </tr>\n",
              "    <tr>\n",
              "      <th>1</th>\n",
              "      <td>1005.0</td>\n",
              "      <td>Barbour County</td>\n",
              "      <td>27321</td>\n",
              "      <td>11829</td>\n",
              "      <td>76.313896</td>\n",
              "      <td>93.878720</td>\n",
              "      <td>90.70294</td>\n",
              "      <td>91.192700</td>\n",
              "      <td>101.84381</td>\n",
              "      <td>102.085240</td>\n",
              "      <td>...</td>\n",
              "      <td>0.0</td>\n",
              "      <td>45.16</td>\n",
              "      <td>0.00</td>\n",
              "      <td>4.84</td>\n",
              "      <td>0.00</td>\n",
              "      <td>1.61</td>\n",
              "      <td>0.0</td>\n",
              "      <td>3.23</td>\n",
              "      <td>0.0</td>\n",
              "      <td>0.0</td>\n",
              "    </tr>\n",
              "    <tr>\n",
              "      <th>2</th>\n",
              "      <td>1007.0</td>\n",
              "      <td>Bibb County</td>\n",
              "      <td>22754</td>\n",
              "      <td>8981</td>\n",
              "      <td>73.765620</td>\n",
              "      <td>104.868470</td>\n",
              "      <td>82.12955</td>\n",
              "      <td>68.382010</td>\n",
              "      <td>71.17644</td>\n",
              "      <td>69.621730</td>\n",
              "      <td>...</td>\n",
              "      <td>0.0</td>\n",
              "      <td>30.91</td>\n",
              "      <td>0.00</td>\n",
              "      <td>7.27</td>\n",
              "      <td>0.00</td>\n",
              "      <td>1.82</td>\n",
              "      <td>0.0</td>\n",
              "      <td>0.00</td>\n",
              "      <td>0.0</td>\n",
              "      <td>0.0</td>\n",
              "    </tr>\n",
              "    <tr>\n",
              "      <th>3</th>\n",
              "      <td>1013.0</td>\n",
              "      <td>Butler County</td>\n",
              "      <td>20624</td>\n",
              "      <td>9964</td>\n",
              "      <td>92.096670</td>\n",
              "      <td>121.073296</td>\n",
              "      <td>117.82320</td>\n",
              "      <td>143.117360</td>\n",
              "      <td>131.00436</td>\n",
              "      <td>134.067840</td>\n",
              "      <td>...</td>\n",
              "      <td>0.0</td>\n",
              "      <td>41.07</td>\n",
              "      <td>0.00</td>\n",
              "      <td>5.36</td>\n",
              "      <td>0.00</td>\n",
              "      <td>1.79</td>\n",
              "      <td>0.0</td>\n",
              "      <td>0.00</td>\n",
              "      <td>0.0</td>\n",
              "      <td>0.0</td>\n",
              "    </tr>\n",
              "    <tr>\n",
              "      <th>4</th>\n",
              "      <td>1015.0</td>\n",
              "      <td>Calhoun County</td>\n",
              "      <td>117714</td>\n",
              "      <td>53289</td>\n",
              "      <td>76.938210</td>\n",
              "      <td>95.478250</td>\n",
              "      <td>98.32662</td>\n",
              "      <td>87.650314</td>\n",
              "      <td>64.08210</td>\n",
              "      <td>60.688488</td>\n",
              "      <td>...</td>\n",
              "      <td>0.0</td>\n",
              "      <td>18.79</td>\n",
              "      <td>0.61</td>\n",
              "      <td>3.03</td>\n",
              "      <td>0.61</td>\n",
              "      <td>2.42</td>\n",
              "      <td>0.0</td>\n",
              "      <td>0.00</td>\n",
              "      <td>0.0</td>\n",
              "      <td>0.0</td>\n",
              "    </tr>\n",
              "  </tbody>\n",
              "</table>\n",
              "<p>5 rows × 125 columns</p>\n",
              "</div>\n",
              "      <button class=\"colab-df-convert\" onclick=\"convertToInteractive('df-5ebf5d0a-4705-46ef-90e0-9a567eb29162')\"\n",
              "              title=\"Convert this dataframe to an interactive table.\"\n",
              "              style=\"display:none;\">\n",
              "        \n",
              "  <svg xmlns=\"http://www.w3.org/2000/svg\" height=\"24px\"viewBox=\"0 0 24 24\"\n",
              "       width=\"24px\">\n",
              "    <path d=\"M0 0h24v24H0V0z\" fill=\"none\"/>\n",
              "    <path d=\"M18.56 5.44l.94 2.06.94-2.06 2.06-.94-2.06-.94-.94-2.06-.94 2.06-2.06.94zm-11 1L8.5 8.5l.94-2.06 2.06-.94-2.06-.94L8.5 2.5l-.94 2.06-2.06.94zm10 10l.94 2.06.94-2.06 2.06-.94-2.06-.94-.94-2.06-.94 2.06-2.06.94z\"/><path d=\"M17.41 7.96l-1.37-1.37c-.4-.4-.92-.59-1.43-.59-.52 0-1.04.2-1.43.59L10.3 9.45l-7.72 7.72c-.78.78-.78 2.05 0 2.83L4 21.41c.39.39.9.59 1.41.59.51 0 1.02-.2 1.41-.59l7.78-7.78 2.81-2.81c.8-.78.8-2.07 0-2.86zM5.41 20L4 18.59l7.72-7.72 1.47 1.35L5.41 20z\"/>\n",
              "  </svg>\n",
              "      </button>\n",
              "      \n",
              "  <style>\n",
              "    .colab-df-container {\n",
              "      display:flex;\n",
              "      flex-wrap:wrap;\n",
              "      gap: 12px;\n",
              "    }\n",
              "\n",
              "    .colab-df-convert {\n",
              "      background-color: #E8F0FE;\n",
              "      border: none;\n",
              "      border-radius: 50%;\n",
              "      cursor: pointer;\n",
              "      display: none;\n",
              "      fill: #1967D2;\n",
              "      height: 32px;\n",
              "      padding: 0 0 0 0;\n",
              "      width: 32px;\n",
              "    }\n",
              "\n",
              "    .colab-df-convert:hover {\n",
              "      background-color: #E2EBFA;\n",
              "      box-shadow: 0px 1px 2px rgba(60, 64, 67, 0.3), 0px 1px 3px 1px rgba(60, 64, 67, 0.15);\n",
              "      fill: #174EA6;\n",
              "    }\n",
              "\n",
              "    [theme=dark] .colab-df-convert {\n",
              "      background-color: #3B4455;\n",
              "      fill: #D2E3FC;\n",
              "    }\n",
              "\n",
              "    [theme=dark] .colab-df-convert:hover {\n",
              "      background-color: #434B5C;\n",
              "      box-shadow: 0px 1px 3px 1px rgba(0, 0, 0, 0.15);\n",
              "      filter: drop-shadow(0px 1px 2px rgba(0, 0, 0, 0.3));\n",
              "      fill: #FFFFFF;\n",
              "    }\n",
              "  </style>\n",
              "\n",
              "      <script>\n",
              "        const buttonEl =\n",
              "          document.querySelector('#df-5ebf5d0a-4705-46ef-90e0-9a567eb29162 button.colab-df-convert');\n",
              "        buttonEl.style.display =\n",
              "          google.colab.kernel.accessAllowed ? 'block' : 'none';\n",
              "\n",
              "        async function convertToInteractive(key) {\n",
              "          const element = document.querySelector('#df-5ebf5d0a-4705-46ef-90e0-9a567eb29162');\n",
              "          const dataTable =\n",
              "            await google.colab.kernel.invokeFunction('convertToInteractive',\n",
              "                                                     [key], {});\n",
              "          if (!dataTable) return;\n",
              "\n",
              "          const docLinkHtml = 'Like what you see? Visit the ' +\n",
              "            '<a target=\"_blank\" href=https://colab.research.google.com/notebooks/data_table.ipynb>data table notebook</a>'\n",
              "            + ' to learn more about interactive tables.';\n",
              "          element.innerHTML = '';\n",
              "          dataTable['output_type'] = 'display_data';\n",
              "          await google.colab.output.renderOutput(dataTable, element);\n",
              "          const docLink = document.createElement('div');\n",
              "          docLink.innerHTML = docLinkHtml;\n",
              "          element.appendChild(docLink);\n",
              "        }\n",
              "      </script>\n",
              "    </div>\n",
              "  </div>\n",
              "  "
            ]
          },
          "metadata": {},
          "execution_count": 3
        }
      ]
    },
    {
      "cell_type": "markdown",
      "metadata": {
        "id": "gEzPoXPj3V7u"
      },
      "source": [
        "##2.   Preprocess data using Sklearn Column Transformer / Write and Save Preprocessor function\n"
      ]
    },
    {
      "cell_type": "code",
      "metadata": {
        "id": "A2BQMOPGCqra"
      },
      "source": [
        "from sklearn.preprocessing import StandardScaler\n",
        "from sklearn.compose import ColumnTransformer, make_column_transformer\n",
        "from sklearn.pipeline import Pipeline\n",
        "from sklearn.impute import SimpleImputer\n",
        "from sklearn.preprocessing import StandardScaler\n",
        "\n",
        "# Create the preprocessing pipeline for both numeric data.\n",
        "numeric_features=X_train.columns.tolist()\n",
        "numeric_features.remove('geoid')\n",
        "numeric_features.remove('place')\n",
        "\n",
        "numeric_transformer = Pipeline(steps=[\n",
        "    ('imputer', SimpleImputer(strategy='median')),\n",
        "    ('scaler', StandardScaler())])\n",
        "\n",
        "# final preprocessor object set up with ColumnTransformer\n",
        "preprocessor = ColumnTransformer(\n",
        "    transformers=[('num', numeric_transformer, numeric_features)])\n",
        "\n",
        "#Fit your preprocessor object\n",
        "preprocess=preprocessor.fit(X_train) "
      ],
      "execution_count": 4,
      "outputs": []
    },
    {
      "cell_type": "code",
      "metadata": {
        "id": "16QV9Y9TC3B3"
      },
      "source": [
        "# Write function to transform data with preprocessor\n",
        "\n",
        "def preprocessor(data):\n",
        "    preprocessed_data=preprocess.transform(data)\n",
        "    return preprocessed_data"
      ],
      "execution_count": 5,
      "outputs": []
    },
    {
      "cell_type": "code",
      "source": [
        "# check shape of X data \n",
        "preprocessor(X_train).shape"
      ],
      "metadata": {
        "colab": {
          "base_uri": "https://localhost:8080/"
        },
        "id": "3FKeaMZK88Xt",
        "outputId": "1356249c-9580-49b0-b3c3-8426d6fe1b8f"
      },
      "execution_count": 6,
      "outputs": [
        {
          "output_type": "execute_result",
          "data": {
            "text/plain": [
              "(1259, 123)"
            ]
          },
          "metadata": {},
          "execution_count": 6
        }
      ]
    },
    {
      "cell_type": "markdown",
      "metadata": {
        "id": "X52kECL43b-O"
      },
      "source": [
        "##3. Fit model on preprocessed data and save preprocessor function and model \n"
      ]
    },
    {
      "cell_type": "code",
      "metadata": {
        "colab": {
          "base_uri": "https://localhost:8080/"
        },
        "id": "NCbBf8j9ClYl",
        "outputId": "24e27b37-fffb-4521-85b1-112e60c63298"
      },
      "source": [
        "from sklearn.ensemble import RandomForestRegressor\n",
        "from sklearn.metrics import r2_score\n",
        "\n",
        "model = RandomForestRegressor(n_estimators = 500, max_depth = 3, random_state=0)\n",
        "model.fit(preprocessor(X_train), y_train) # Fitting to the training set.\n",
        "model_predictions = model.predict(preprocessor(X_train))\n",
        "r2_score(model_predictions, y_train)"
      ],
      "execution_count": 7,
      "outputs": [
        {
          "output_type": "execute_result",
          "data": {
            "text/plain": [
              "0.509138755005468"
            ]
          },
          "metadata": {},
          "execution_count": 7
        }
      ]
    },
    {
      "cell_type": "markdown",
      "metadata": {
        "id": "zmJAnmO-5AcU"
      },
      "source": [
        "#### Save preprocessor function to local \"preprocessor.zip\" file"
      ]
    },
    {
      "cell_type": "code",
      "metadata": {
        "colab": {
          "base_uri": "https://localhost:8080/"
        },
        "id": "4VGacc0LDaMA",
        "outputId": "d1ed9672-00c1-4ed5-f8ec-fc9a193475ec"
      },
      "source": [
        "import aimodelshare as ai\n",
        "ai.export_preprocessor(preprocessor,\"\") "
      ],
      "execution_count": 8,
      "outputs": [
        {
          "output_type": "stream",
          "name": "stdout",
          "text": [
            "Your preprocessor is now saved to 'preprocessor.zip'\n"
          ]
        }
      ]
    },
    {
      "cell_type": "markdown",
      "metadata": {
        "id": "oOWBa8Cv5LdL"
      },
      "source": [
        "#### Save model to local \".onnx\" file"
      ]
    },
    {
      "cell_type": "code",
      "metadata": {
        "id": "pEhvnRiQDlY5"
      },
      "source": [
        "# Save sklearn model to local ONNX file\n",
        "from aimodelshare.aimsonnx import model_to_onnx\n",
        "\n",
        "# Check how many preprocessed input features there are\n",
        "from skl2onnx.common.data_types import FloatTensorType\n",
        "\n",
        "feature_count=preprocessor(X_test).shape[1]\n",
        "initial_type = [('float_input', FloatTensorType([None, feature_count]))]  # Insert correct number of features in preprocessed data\n",
        "\n",
        "onnx_model = model_to_onnx(model, framework='sklearn',\n",
        "                          initial_types=initial_type,\n",
        "                          transfer_learning=False,\n",
        "                          deep_learning=False)\n",
        "\n",
        "\n",
        "with open(\"model.onnx\", \"wb\") as f:\n",
        "    f.write(onnx_model.SerializeToString())"
      ],
      "execution_count": 9,
      "outputs": []
    },
    {
      "cell_type": "markdown",
      "metadata": {
        "id": "gHWkAzvX3m8O"
      },
      "source": [
        "## 4. Generate predictions from X_test data and submit model to competition\n"
      ]
    },
    {
      "cell_type": "code",
      "metadata": {
        "colab": {
          "base_uri": "https://localhost:8080/"
        },
        "id": "RtgkM02MDpkO",
        "outputId": "5a0260d1-3beb-4e75-bd6a-1e0990725f7f"
      },
      "source": [
        "#Set credentials using modelshare.org username/password\n",
        "\n",
        "from aimodelshare.aws import set_credentials\n",
        "    \n",
        "apiurl=\"https://89lu7cpgh1.execute-api.us-east-1.amazonaws.com/prod/m\"\n",
        "#This is the unique rest api that powers this Social Mobility Prediction Playground\n",
        "\n",
        "set_credentials(apiurl=apiurl)"
      ],
      "execution_count": 10,
      "outputs": [
        {
          "output_type": "stream",
          "name": "stdout",
          "text": [
            "AI Modelshare Username:··········\n",
            "AI Modelshare Password:··········\n",
            "AI Model Share login credentials set successfully.\n"
          ]
        }
      ]
    },
    {
      "cell_type": "code",
      "metadata": {
        "id": "fKNGSww8EGgi"
      },
      "source": [
        "#Instantiate Competition\n",
        "import aimodelshare as ai\n",
        "mycompetition= ai.Competition(apiurl)"
      ],
      "execution_count": 11,
      "outputs": []
    },
    {
      "cell_type": "code",
      "metadata": {
        "id": "_Ql4wksyEUnP",
        "colab": {
          "base_uri": "https://localhost:8080/"
        },
        "outputId": "5a37d6f7-6729-45da-c36f-a44aa4f768d4"
      },
      "source": [
        "#Submit Model 1: \n",
        "\n",
        "#-- Generate predicted values (Model 1)\n",
        "predicted_values = model.predict(preprocessor(X_test))\n",
        "\n",
        "# Submit Model 1 to Competition Leaderboard\n",
        "mycompetition.submit_model(model_filepath = \"model.onnx\",\n",
        "                                 preprocessor_filepath=\"preprocessor.zip\",\n",
        "                                 prediction_submission=predicted_values)"
      ],
      "execution_count": 12,
      "outputs": [
        {
          "output_type": "stream",
          "name": "stdout",
          "text": [
            "Insert search tags to help users find your model (optional): \n",
            "Provide any useful notes about your model (optional): \n",
            "\n",
            "Your model has been submitted as model version 1\n",
            "\n",
            "To submit code used to create this model or to view current leaderboard navigate to Model Playground: \n",
            "\n",
            " https://www.modelshare.org/detail/model:2821\n"
          ]
        }
      ]
    },
    {
      "cell_type": "code",
      "metadata": {
        "colab": {
          "base_uri": "https://localhost:8080/",
          "height": 68
        },
        "id": "GN1zvAmNEq17",
        "outputId": "6fa259a6-800f-4195-d5cb-2087ea9b4a1b"
      },
      "source": [
        "# Get leaderboard to explore current best model architectures\n",
        "\n",
        "# Get raw data in pandas data frame\n",
        "data = mycompetition.get_leaderboard()\n",
        "\n",
        "# Stylize leaderboard data\n",
        "mycompetition.stylize_leaderboard(data)"
      ],
      "execution_count": 13,
      "outputs": [
        {
          "output_type": "execute_result",
          "data": {
            "text/plain": [
              "<pandas.io.formats.style.Styler at 0x7fe80becfc10>"
            ],
            "text/html": [
              "<style type=\"text/css\">\n",
              "#T_bfde4_row0_col0 {\n",
              "  text-align: center;\n",
              "  width: 10em;\n",
              "  height: 80%;\n",
              "  background: linear-gradient(90deg,#f5f8d6 100.0%, transparent 100.0%);\n",
              "  color: #251e1b;\n",
              "  font-size: 12px;\n",
              "}\n",
              "#T_bfde4_row0_col1 {\n",
              "  text-align: center;\n",
              "  width: 10em;\n",
              "  height: 80%;\n",
              "  background: linear-gradient(90deg,#c778c8 100.0%, transparent 100.0%);\n",
              "  color: #251e1b;\n",
              "  font-size: 12px;\n",
              "}\n",
              "#T_bfde4_row0_col2 {\n",
              "  text-align: center;\n",
              "  width: 10em;\n",
              "  height: 80%;\n",
              "  background: linear-gradient(90deg,#ff4971 100.0%, transparent 100.0%);\n",
              "  color: #251e1b;\n",
              "  font-size: 12px;\n",
              "}\n",
              "#T_bfde4_row0_col3 {\n",
              "  text-align: center;\n",
              "  width: 10em;\n",
              "  height: 80%;\n",
              "  background: linear-gradient(90deg,#aadbaa 100.0%, transparent 100.0%);\n",
              "  color: #251e1b;\n",
              "  font-size: 12px;\n",
              "}\n",
              "#T_bfde4_row0_col4, #T_bfde4_row0_col5, #T_bfde4_row0_col6, #T_bfde4_row0_col7, #T_bfde4_row0_col8, #T_bfde4_row0_col9 {\n",
              "  text-align: center;\n",
              "}\n",
              "</style>\n",
              "<table id=\"T_bfde4_\" class=\"dataframe\">\n",
              "  <thead>\n",
              "    <tr>\n",
              "      <th class=\"blank level0\" >&nbsp;</th>\n",
              "      <th class=\"col_heading level0 col0\" >mse</th>\n",
              "      <th class=\"col_heading level0 col1\" >rmse</th>\n",
              "      <th class=\"col_heading level0 col2\" >mae</th>\n",
              "      <th class=\"col_heading level0 col3\" >r2</th>\n",
              "      <th class=\"col_heading level0 col4\" >ml_framework</th>\n",
              "      <th class=\"col_heading level0 col5\" >transfer_learning</th>\n",
              "      <th class=\"col_heading level0 col6\" >deep_learning</th>\n",
              "      <th class=\"col_heading level0 col7\" >model_type</th>\n",
              "      <th class=\"col_heading level0 col8\" >username</th>\n",
              "      <th class=\"col_heading level0 col9\" >version</th>\n",
              "    </tr>\n",
              "  </thead>\n",
              "  <tbody>\n",
              "    <tr>\n",
              "      <th id=\"T_bfde4_level0_row0\" class=\"row_heading level0 row0\" >0</th>\n",
              "      <td id=\"T_bfde4_row0_col0\" class=\"data row0 col0\" >0.00</td>\n",
              "      <td id=\"T_bfde4_row0_col1\" class=\"data row0 col1\" >0.03</td>\n",
              "      <td id=\"T_bfde4_row0_col2\" class=\"data row0 col2\" >0.02</td>\n",
              "      <td id=\"T_bfde4_row0_col3\" class=\"data row0 col3\" >0.72</td>\n",
              "      <td id=\"T_bfde4_row0_col4\" class=\"data row0 col4\" >sklearn</td>\n",
              "      <td id=\"T_bfde4_row0_col5\" class=\"data row0 col5\" >False</td>\n",
              "      <td id=\"T_bfde4_row0_col6\" class=\"data row0 col6\" >False</td>\n",
              "      <td id=\"T_bfde4_row0_col7\" class=\"data row0 col7\" >RandomForestRegressor</td>\n",
              "      <td id=\"T_bfde4_row0_col8\" class=\"data row0 col8\" >econ50_bigdata</td>\n",
              "      <td id=\"T_bfde4_row0_col9\" class=\"data row0 col9\" >1</td>\n",
              "    </tr>\n",
              "  </tbody>\n",
              "</table>\n"
            ]
          },
          "metadata": {},
          "execution_count": 13
        }
      ]
    },
    {
      "cell_type": "markdown",
      "metadata": {
        "id": "bwNKs0wP4r5s"
      },
      "source": [
        "## 5. Repeat submission process to improve place on leaderboard\n"
      ]
    },
    {
      "cell_type": "code",
      "metadata": {
        "colab": {
          "base_uri": "https://localhost:8080/"
        },
        "id": "FgSs5PAtPCZH",
        "outputId": "3efbb4ef-a90d-4c9f-8f7a-343d84f5d7a5"
      },
      "source": [
        "# Create model 2 \n",
        "from sklearn.ensemble import RandomForestRegressor\n",
        "from sklearn.metrics import r2_score\n",
        "\n",
        "model_2 = RandomForestRegressor(n_estimators = 1000, max_depth = 5, random_state=0)\n",
        "model_2.fit(preprocessor(X_train), y_train) # Fitting to the training set.\n",
        "model_predictions = model_2.predict(preprocessor(X_train))\n",
        "r2_score(model_predictions, y_train) "
      ],
      "execution_count": 14,
      "outputs": [
        {
          "output_type": "execute_result",
          "data": {
            "text/plain": [
              "0.8005939058886757"
            ]
          },
          "metadata": {},
          "execution_count": 14
        }
      ]
    },
    {
      "cell_type": "code",
      "metadata": {
        "id": "aIdmSpYVPYAw"
      },
      "source": [
        "# Save Model 2 to .onnx file\n",
        "\n",
        "# Check how many preprocessed input features there are\n",
        "from skl2onnx.common.data_types import FloatTensorType\n",
        "\n",
        "feature_count=preprocessor(X_test).shape[1]\n",
        "initial_type = [('float_input', FloatTensorType([None, feature_count]))]  # Insert correct number of features in preprocessed data\n",
        "\n",
        "onnx_model = model_to_onnx(model_2, framework='sklearn',\n",
        "                          initial_types=initial_type,\n",
        "                          transfer_learning=False,\n",
        "                          deep_learning=False)\n",
        "\n",
        "# Save model to local .onnx file\n",
        "with open(\"model_2.onnx\", \"wb\") as f:\n",
        "    f.write(onnx_model.SerializeToString()) "
      ],
      "execution_count": 15,
      "outputs": []
    },
    {
      "cell_type": "code",
      "metadata": {
        "colab": {
          "base_uri": "https://localhost:8080/"
        },
        "id": "nszPPrfwPlUk",
        "outputId": "74a66c26-a85e-472f-ee13-be2af471c054"
      },
      "source": [
        "# Submit Model 2\n",
        "\n",
        "#-- Generate predicted y values (Model 2)\n",
        "prediction_labels = model_2.predict(preprocessor(X_test))\n",
        "\n",
        "# Submit Model 2 to Competition Leaderboard\n",
        "mycompetition.submit_model(model_filepath = \"model_2.onnx\",\n",
        "                                 prediction_submission=prediction_labels,\n",
        "                                 preprocessor_filepath=\"preprocessor.zip\")"
      ],
      "execution_count": 16,
      "outputs": [
        {
          "output_type": "stream",
          "name": "stdout",
          "text": [
            "Insert search tags to help users find your model (optional): \n",
            "Provide any useful notes about your model (optional): \n",
            "\n",
            "Your model has been submitted as model version 2\n",
            "\n",
            "To submit code used to create this model or to view current leaderboard navigate to Model Playground: \n",
            "\n",
            " https://www.modelshare.org/detail/model:2821\n"
          ]
        }
      ]
    },
    {
      "cell_type": "code",
      "metadata": {
        "colab": {
          "base_uri": "https://localhost:8080/",
          "height": 421
        },
        "id": "qLl7yLpVEx26",
        "outputId": "aee754c9-a2c4-4f93-af5d-e301ee522616"
      },
      "source": [
        "# Compare two or more models\n",
        "data=mycompetition.compare_models([1,2], verbose=1)\n",
        "mycompetition.stylize_compare(data)"
      ],
      "execution_count": 17,
      "outputs": [
        {
          "output_type": "display_data",
          "data": {
            "text/plain": [
              "<IPython.core.display.HTML object>"
            ],
            "text/html": [
              "<style type=\"text/css\">\n",
              "#T_04919_ caption {\n",
              "  color: black;\n",
              "  font-size: 18px;\n",
              "}\n",
              "#T_04919_row3_col2, #T_04919_row3_col3, #T_04919_row12_col2, #T_04919_row12_col3, #T_04919_row15_col2, #T_04919_row15_col3 {\n",
              "  background: tomato;\n",
              "}\n",
              "</style>\n",
              "<table id=\"T_04919_\">\n",
              "  <caption>Model type: RandomForestRegressor</caption>\n",
              "  <thead>\n",
              "    <tr>\n",
              "      <th class=\"blank level0\" >&nbsp;</th>\n",
              "      <th class=\"col_heading level0 col0\" >param_name</th>\n",
              "      <th class=\"col_heading level0 col1\" >default_value</th>\n",
              "      <th class=\"col_heading level0 col2\" >model_version_1</th>\n",
              "      <th class=\"col_heading level0 col3\" >model_version_2</th>\n",
              "    </tr>\n",
              "  </thead>\n",
              "  <tbody>\n",
              "    <tr>\n",
              "      <th id=\"T_04919_level0_row0\" class=\"row_heading level0 row0\" >0</th>\n",
              "      <td id=\"T_04919_row0_col0\" class=\"data row0 col0\" >bootstrap</td>\n",
              "      <td id=\"T_04919_row0_col1\" class=\"data row0 col1\" >True</td>\n",
              "      <td id=\"T_04919_row0_col2\" class=\"data row0 col2\" >True</td>\n",
              "      <td id=\"T_04919_row0_col3\" class=\"data row0 col3\" >True</td>\n",
              "    </tr>\n",
              "    <tr>\n",
              "      <th id=\"T_04919_level0_row1\" class=\"row_heading level0 row1\" >1</th>\n",
              "      <td id=\"T_04919_row1_col0\" class=\"data row1 col0\" >ccp_alpha</td>\n",
              "      <td id=\"T_04919_row1_col1\" class=\"data row1 col1\" >0.000000</td>\n",
              "      <td id=\"T_04919_row1_col2\" class=\"data row1 col2\" >0.000000</td>\n",
              "      <td id=\"T_04919_row1_col3\" class=\"data row1 col3\" >0.000000</td>\n",
              "    </tr>\n",
              "    <tr>\n",
              "      <th id=\"T_04919_level0_row2\" class=\"row_heading level0 row2\" >2</th>\n",
              "      <td id=\"T_04919_row2_col0\" class=\"data row2 col0\" >criterion</td>\n",
              "      <td id=\"T_04919_row2_col1\" class=\"data row2 col1\" >mse</td>\n",
              "      <td id=\"T_04919_row2_col2\" class=\"data row2 col2\" >mse</td>\n",
              "      <td id=\"T_04919_row2_col3\" class=\"data row2 col3\" >mse</td>\n",
              "    </tr>\n",
              "    <tr>\n",
              "      <th id=\"T_04919_level0_row3\" class=\"row_heading level0 row3\" >3</th>\n",
              "      <td id=\"T_04919_row3_col0\" class=\"data row3 col0\" >max_depth</td>\n",
              "      <td id=\"T_04919_row3_col1\" class=\"data row3 col1\" >None</td>\n",
              "      <td id=\"T_04919_row3_col2\" class=\"data row3 col2\" >3</td>\n",
              "      <td id=\"T_04919_row3_col3\" class=\"data row3 col3\" >5</td>\n",
              "    </tr>\n",
              "    <tr>\n",
              "      <th id=\"T_04919_level0_row4\" class=\"row_heading level0 row4\" >4</th>\n",
              "      <td id=\"T_04919_row4_col0\" class=\"data row4 col0\" >max_features</td>\n",
              "      <td id=\"T_04919_row4_col1\" class=\"data row4 col1\" >auto</td>\n",
              "      <td id=\"T_04919_row4_col2\" class=\"data row4 col2\" >auto</td>\n",
              "      <td id=\"T_04919_row4_col3\" class=\"data row4 col3\" >auto</td>\n",
              "    </tr>\n",
              "    <tr>\n",
              "      <th id=\"T_04919_level0_row5\" class=\"row_heading level0 row5\" >5</th>\n",
              "      <td id=\"T_04919_row5_col0\" class=\"data row5 col0\" >max_leaf_nodes</td>\n",
              "      <td id=\"T_04919_row5_col1\" class=\"data row5 col1\" >None</td>\n",
              "      <td id=\"T_04919_row5_col2\" class=\"data row5 col2\" >None</td>\n",
              "      <td id=\"T_04919_row5_col3\" class=\"data row5 col3\" >None</td>\n",
              "    </tr>\n",
              "    <tr>\n",
              "      <th id=\"T_04919_level0_row6\" class=\"row_heading level0 row6\" >6</th>\n",
              "      <td id=\"T_04919_row6_col0\" class=\"data row6 col0\" >max_samples</td>\n",
              "      <td id=\"T_04919_row6_col1\" class=\"data row6 col1\" >None</td>\n",
              "      <td id=\"T_04919_row6_col2\" class=\"data row6 col2\" >None</td>\n",
              "      <td id=\"T_04919_row6_col3\" class=\"data row6 col3\" >None</td>\n",
              "    </tr>\n",
              "    <tr>\n",
              "      <th id=\"T_04919_level0_row7\" class=\"row_heading level0 row7\" >7</th>\n",
              "      <td id=\"T_04919_row7_col0\" class=\"data row7 col0\" >min_impurity_decrease</td>\n",
              "      <td id=\"T_04919_row7_col1\" class=\"data row7 col1\" >0.000000</td>\n",
              "      <td id=\"T_04919_row7_col2\" class=\"data row7 col2\" >0.000000</td>\n",
              "      <td id=\"T_04919_row7_col3\" class=\"data row7 col3\" >0.000000</td>\n",
              "    </tr>\n",
              "    <tr>\n",
              "      <th id=\"T_04919_level0_row8\" class=\"row_heading level0 row8\" >8</th>\n",
              "      <td id=\"T_04919_row8_col0\" class=\"data row8 col0\" >min_impurity_split</td>\n",
              "      <td id=\"T_04919_row8_col1\" class=\"data row8 col1\" >None</td>\n",
              "      <td id=\"T_04919_row8_col2\" class=\"data row8 col2\" >None</td>\n",
              "      <td id=\"T_04919_row8_col3\" class=\"data row8 col3\" >None</td>\n",
              "    </tr>\n",
              "    <tr>\n",
              "      <th id=\"T_04919_level0_row9\" class=\"row_heading level0 row9\" >9</th>\n",
              "      <td id=\"T_04919_row9_col0\" class=\"data row9 col0\" >min_samples_leaf</td>\n",
              "      <td id=\"T_04919_row9_col1\" class=\"data row9 col1\" >1</td>\n",
              "      <td id=\"T_04919_row9_col2\" class=\"data row9 col2\" >1</td>\n",
              "      <td id=\"T_04919_row9_col3\" class=\"data row9 col3\" >1</td>\n",
              "    </tr>\n",
              "    <tr>\n",
              "      <th id=\"T_04919_level0_row10\" class=\"row_heading level0 row10\" >10</th>\n",
              "      <td id=\"T_04919_row10_col0\" class=\"data row10 col0\" >min_samples_split</td>\n",
              "      <td id=\"T_04919_row10_col1\" class=\"data row10 col1\" >2</td>\n",
              "      <td id=\"T_04919_row10_col2\" class=\"data row10 col2\" >2</td>\n",
              "      <td id=\"T_04919_row10_col3\" class=\"data row10 col3\" >2</td>\n",
              "    </tr>\n",
              "    <tr>\n",
              "      <th id=\"T_04919_level0_row11\" class=\"row_heading level0 row11\" >11</th>\n",
              "      <td id=\"T_04919_row11_col0\" class=\"data row11 col0\" >min_weight_fraction_leaf</td>\n",
              "      <td id=\"T_04919_row11_col1\" class=\"data row11 col1\" >0.000000</td>\n",
              "      <td id=\"T_04919_row11_col2\" class=\"data row11 col2\" >0.000000</td>\n",
              "      <td id=\"T_04919_row11_col3\" class=\"data row11 col3\" >0.000000</td>\n",
              "    </tr>\n",
              "    <tr>\n",
              "      <th id=\"T_04919_level0_row12\" class=\"row_heading level0 row12\" >12</th>\n",
              "      <td id=\"T_04919_row12_col0\" class=\"data row12 col0\" >n_estimators</td>\n",
              "      <td id=\"T_04919_row12_col1\" class=\"data row12 col1\" >100</td>\n",
              "      <td id=\"T_04919_row12_col2\" class=\"data row12 col2\" >500</td>\n",
              "      <td id=\"T_04919_row12_col3\" class=\"data row12 col3\" >1000</td>\n",
              "    </tr>\n",
              "    <tr>\n",
              "      <th id=\"T_04919_level0_row13\" class=\"row_heading level0 row13\" >13</th>\n",
              "      <td id=\"T_04919_row13_col0\" class=\"data row13 col0\" >n_jobs</td>\n",
              "      <td id=\"T_04919_row13_col1\" class=\"data row13 col1\" >None</td>\n",
              "      <td id=\"T_04919_row13_col2\" class=\"data row13 col2\" >None</td>\n",
              "      <td id=\"T_04919_row13_col3\" class=\"data row13 col3\" >None</td>\n",
              "    </tr>\n",
              "    <tr>\n",
              "      <th id=\"T_04919_level0_row14\" class=\"row_heading level0 row14\" >14</th>\n",
              "      <td id=\"T_04919_row14_col0\" class=\"data row14 col0\" >oob_score</td>\n",
              "      <td id=\"T_04919_row14_col1\" class=\"data row14 col1\" >False</td>\n",
              "      <td id=\"T_04919_row14_col2\" class=\"data row14 col2\" >False</td>\n",
              "      <td id=\"T_04919_row14_col3\" class=\"data row14 col3\" >False</td>\n",
              "    </tr>\n",
              "    <tr>\n",
              "      <th id=\"T_04919_level0_row15\" class=\"row_heading level0 row15\" >15</th>\n",
              "      <td id=\"T_04919_row15_col0\" class=\"data row15 col0\" >random_state</td>\n",
              "      <td id=\"T_04919_row15_col1\" class=\"data row15 col1\" >None</td>\n",
              "      <td id=\"T_04919_row15_col2\" class=\"data row15 col2\" >0</td>\n",
              "      <td id=\"T_04919_row15_col3\" class=\"data row15 col3\" >0</td>\n",
              "    </tr>\n",
              "    <tr>\n",
              "      <th id=\"T_04919_level0_row16\" class=\"row_heading level0 row16\" >16</th>\n",
              "      <td id=\"T_04919_row16_col0\" class=\"data row16 col0\" >verbose</td>\n",
              "      <td id=\"T_04919_row16_col1\" class=\"data row16 col1\" >0</td>\n",
              "      <td id=\"T_04919_row16_col2\" class=\"data row16 col2\" >0</td>\n",
              "      <td id=\"T_04919_row16_col3\" class=\"data row16 col3\" >0</td>\n",
              "    </tr>\n",
              "    <tr>\n",
              "      <th id=\"T_04919_level0_row17\" class=\"row_heading level0 row17\" >17</th>\n",
              "      <td id=\"T_04919_row17_col0\" class=\"data row17 col0\" >warm_start</td>\n",
              "      <td id=\"T_04919_row17_col1\" class=\"data row17 col1\" >False</td>\n",
              "      <td id=\"T_04919_row17_col2\" class=\"data row17 col2\" >False</td>\n",
              "      <td id=\"T_04919_row17_col3\" class=\"data row17 col3\" >False</td>\n",
              "    </tr>\n",
              "  </tbody>\n",
              "</table>\n"
            ]
          },
          "metadata": {}
        },
        {
          "output_type": "stream",
          "name": "stdout",
          "text": [
            "\n",
            "\n",
            "\n"
          ]
        }
      ]
    },
    {
      "cell_type": "code",
      "metadata": {
        "colab": {
          "base_uri": "https://localhost:8080/"
        },
        "id": "6Go4SF37Ex_Z",
        "outputId": "26e96c6c-b72c-4c2f-a56d-172f564c3ea0"
      },
      "source": [
        "# Submit a third model using GridSearchCV\n",
        "\n",
        "from sklearn.model_selection import GridSearchCV\n",
        "import numpy as np\n",
        "\n",
        "param_grid = {'n_estimators': np.arange(100, 300, 500),'max_depth':[1, 3, 5]} #np.arange creates sequence of numbers for each k value\n",
        "\n",
        "gridmodel = GridSearchCV(RandomForestRegressor(), param_grid=param_grid, cv=10)\n",
        "\n",
        "#use meta model methods to fit score and predict model:\n",
        "gridmodel.fit(preprocessor(X_train), y_train)\n",
        "\n",
        "#extract best score and parameter by calling objects \"best_score_\" and \"best_params_\"\n",
        "print(\"best mean cross-validation score: {:.3f}\".format(gridmodel.best_score_))\n",
        "print(\"best parameters: {}\".format(gridmodel.best_params_))\n"
      ],
      "execution_count": 18,
      "outputs": [
        {
          "output_type": "stream",
          "name": "stdout",
          "text": [
            "best mean cross-validation score: 0.579\n",
            "best parameters: {'max_depth': 5, 'n_estimators': 100}\n"
          ]
        }
      ]
    },
    {
      "cell_type": "code",
      "metadata": {
        "id": "HvLuIvOjHLH2"
      },
      "source": [
        "# Save sklearn model to local ONNX file\n",
        "from aimodelshare.aimsonnx import model_to_onnx\n",
        "\n",
        "feature_count=preprocessor(X_test).shape[1] #Get count of preprocessed features\n",
        "initial_type = [('float_input', FloatTensorType([None, feature_count]))]  # Insert correct number of preprocessed features\n",
        "\n",
        "onnx_model = model_to_onnx(gridmodel, framework='sklearn',\n",
        "                          initial_types=initial_type,\n",
        "                          transfer_learning=False,\n",
        "                          deep_learning=False)\n",
        "\n",
        "with open(\"gridmodel.onnx\", \"wb\") as f:\n",
        "    f.write(onnx_model.SerializeToString())"
      ],
      "execution_count": 19,
      "outputs": []
    },
    {
      "cell_type": "code",
      "metadata": {
        "colab": {
          "base_uri": "https://localhost:8080/"
        },
        "id": "sMidHABfHVN7",
        "outputId": "a04aead7-53b3-4db2-c818-547f153a1ab9"
      },
      "source": [
        "#Submit Model 3: \n",
        "\n",
        "#-- Generate predicted values\n",
        "prediction_labels = gridmodel.predict(preprocessor(X_test))\n",
        "\n",
        "# Submit Model 3 to Competition Leaderboard\n",
        "mycompetition.submit_model(model_filepath = \"gridmodel.onnx\",\n",
        "                                 preprocessor_filepath=\"preprocessor.zip\",\n",
        "                                 prediction_submission=prediction_labels)"
      ],
      "execution_count": 20,
      "outputs": [
        {
          "output_type": "stream",
          "name": "stdout",
          "text": [
            "Insert search tags to help users find your model (optional): \n",
            "Provide any useful notes about your model (optional): \n",
            "\n",
            "Your model has been submitted as model version 3\n",
            "\n",
            "To submit code used to create this model or to view current leaderboard navigate to Model Playground: \n",
            "\n",
            " https://www.modelshare.org/detail/model:2821\n"
          ]
        }
      ]
    },
    {
      "cell_type": "code",
      "metadata": {
        "colab": {
          "base_uri": "https://localhost:8080/",
          "height": 118
        },
        "id": "hn-Tp-zpJVGT",
        "outputId": "98f79d1f-f588-45be-e2a6-40e79df0b119"
      },
      "source": [
        "# Get leaderboard\n",
        "\n",
        "data = mycompetition.get_leaderboard()\n",
        "mycompetition.stylize_leaderboard(data)"
      ],
      "execution_count": 21,
      "outputs": [
        {
          "output_type": "execute_result",
          "data": {
            "text/plain": [
              "<pandas.io.formats.style.Styler at 0x7fe80bda6af0>"
            ],
            "text/html": [
              "<style type=\"text/css\">\n",
              "#T_348ec_row0_col0 {\n",
              "  text-align: center;\n",
              "  width: 10em;\n",
              "  height: 80%;\n",
              "  background: linear-gradient(90deg,#f5f8d6 75.5%, transparent 75.5%);\n",
              "  color: #251e1b;\n",
              "  font-size: 12px;\n",
              "}\n",
              "#T_348ec_row0_col1 {\n",
              "  text-align: center;\n",
              "  width: 10em;\n",
              "  height: 80%;\n",
              "  background: linear-gradient(90deg,#c778c8 86.9%, transparent 86.9%);\n",
              "  color: #251e1b;\n",
              "  font-size: 12px;\n",
              "}\n",
              "#T_348ec_row0_col2 {\n",
              "  text-align: center;\n",
              "  width: 10em;\n",
              "  height: 80%;\n",
              "  background: linear-gradient(90deg,#ff4971 85.5%, transparent 85.5%);\n",
              "  color: #251e1b;\n",
              "  font-size: 12px;\n",
              "}\n",
              "#T_348ec_row0_col3 {\n",
              "  text-align: center;\n",
              "  width: 10em;\n",
              "  height: 80%;\n",
              "  background: linear-gradient(90deg,#aadbaa 100.0%, transparent 100.0%);\n",
              "  color: #251e1b;\n",
              "  font-size: 12px;\n",
              "}\n",
              "#T_348ec_row0_col4, #T_348ec_row0_col5, #T_348ec_row0_col6, #T_348ec_row0_col7, #T_348ec_row0_col8, #T_348ec_row0_col9, #T_348ec_row1_col4, #T_348ec_row1_col5, #T_348ec_row1_col6, #T_348ec_row1_col7, #T_348ec_row1_col8, #T_348ec_row1_col9, #T_348ec_row2_col4, #T_348ec_row2_col5, #T_348ec_row2_col6, #T_348ec_row2_col7, #T_348ec_row2_col8, #T_348ec_row2_col9 {\n",
              "  text-align: center;\n",
              "}\n",
              "#T_348ec_row1_col0 {\n",
              "  text-align: center;\n",
              "  width: 10em;\n",
              "  height: 80%;\n",
              "  background: linear-gradient(90deg,#f5f8d6 76.6%, transparent 76.6%);\n",
              "  color: #251e1b;\n",
              "  font-size: 12px;\n",
              "}\n",
              "#T_348ec_row1_col1 {\n",
              "  text-align: center;\n",
              "  width: 10em;\n",
              "  height: 80%;\n",
              "  background: linear-gradient(90deg,#c778c8 87.5%, transparent 87.5%);\n",
              "  color: #251e1b;\n",
              "  font-size: 12px;\n",
              "}\n",
              "#T_348ec_row1_col2 {\n",
              "  text-align: center;\n",
              "  width: 10em;\n",
              "  height: 80%;\n",
              "  background: linear-gradient(90deg,#ff4971 86.0%, transparent 86.0%);\n",
              "  color: #251e1b;\n",
              "  font-size: 12px;\n",
              "}\n",
              "#T_348ec_row1_col3 {\n",
              "  text-align: center;\n",
              "  width: 10em;\n",
              "  height: 80%;\n",
              "  background: linear-gradient(90deg,#aadbaa 99.6%, transparent 99.6%);\n",
              "  color: #251e1b;\n",
              "  font-size: 12px;\n",
              "}\n",
              "#T_348ec_row2_col0 {\n",
              "  text-align: center;\n",
              "  width: 10em;\n",
              "  height: 80%;\n",
              "  background: linear-gradient(90deg,#f5f8d6 100.0%, transparent 100.0%);\n",
              "  color: #251e1b;\n",
              "  font-size: 12px;\n",
              "}\n",
              "#T_348ec_row2_col1 {\n",
              "  text-align: center;\n",
              "  width: 10em;\n",
              "  height: 80%;\n",
              "  background: linear-gradient(90deg,#c778c8 100.0%, transparent 100.0%);\n",
              "  color: #251e1b;\n",
              "  font-size: 12px;\n",
              "}\n",
              "#T_348ec_row2_col2 {\n",
              "  text-align: center;\n",
              "  width: 10em;\n",
              "  height: 80%;\n",
              "  background: linear-gradient(90deg,#ff4971 100.0%, transparent 100.0%);\n",
              "  color: #251e1b;\n",
              "  font-size: 12px;\n",
              "}\n",
              "#T_348ec_row2_col3 {\n",
              "  text-align: center;\n",
              "  width: 10em;\n",
              "  height: 80%;\n",
              "  background: linear-gradient(90deg,#aadbaa 91.3%, transparent 91.3%);\n",
              "  color: #251e1b;\n",
              "  font-size: 12px;\n",
              "}\n",
              "</style>\n",
              "<table id=\"T_348ec_\" class=\"dataframe\">\n",
              "  <thead>\n",
              "    <tr>\n",
              "      <th class=\"blank level0\" >&nbsp;</th>\n",
              "      <th class=\"col_heading level0 col0\" >mse</th>\n",
              "      <th class=\"col_heading level0 col1\" >rmse</th>\n",
              "      <th class=\"col_heading level0 col2\" >mae</th>\n",
              "      <th class=\"col_heading level0 col3\" >r2</th>\n",
              "      <th class=\"col_heading level0 col4\" >ml_framework</th>\n",
              "      <th class=\"col_heading level0 col5\" >transfer_learning</th>\n",
              "      <th class=\"col_heading level0 col6\" >deep_learning</th>\n",
              "      <th class=\"col_heading level0 col7\" >model_type</th>\n",
              "      <th class=\"col_heading level0 col8\" >username</th>\n",
              "      <th class=\"col_heading level0 col9\" >version</th>\n",
              "    </tr>\n",
              "  </thead>\n",
              "  <tbody>\n",
              "    <tr>\n",
              "      <th id=\"T_348ec_level0_row0\" class=\"row_heading level0 row0\" >0</th>\n",
              "      <td id=\"T_348ec_row0_col0\" class=\"data row0 col0\" >0.00</td>\n",
              "      <td id=\"T_348ec_row0_col1\" class=\"data row0 col1\" >0.02</td>\n",
              "      <td id=\"T_348ec_row0_col2\" class=\"data row0 col2\" >0.02</td>\n",
              "      <td id=\"T_348ec_row0_col3\" class=\"data row0 col3\" >0.79</td>\n",
              "      <td id=\"T_348ec_row0_col4\" class=\"data row0 col4\" >sklearn</td>\n",
              "      <td id=\"T_348ec_row0_col5\" class=\"data row0 col5\" >False</td>\n",
              "      <td id=\"T_348ec_row0_col6\" class=\"data row0 col6\" >False</td>\n",
              "      <td id=\"T_348ec_row0_col7\" class=\"data row0 col7\" >RandomForestRegressor</td>\n",
              "      <td id=\"T_348ec_row0_col8\" class=\"data row0 col8\" >econ50_bigdata</td>\n",
              "      <td id=\"T_348ec_row0_col9\" class=\"data row0 col9\" >2</td>\n",
              "    </tr>\n",
              "    <tr>\n",
              "      <th id=\"T_348ec_level0_row1\" class=\"row_heading level0 row1\" >1</th>\n",
              "      <td id=\"T_348ec_row1_col0\" class=\"data row1 col0\" >0.00</td>\n",
              "      <td id=\"T_348ec_row1_col1\" class=\"data row1 col1\" >0.02</td>\n",
              "      <td id=\"T_348ec_row1_col2\" class=\"data row1 col2\" >0.02</td>\n",
              "      <td id=\"T_348ec_row1_col3\" class=\"data row1 col3\" >0.79</td>\n",
              "      <td id=\"T_348ec_row1_col4\" class=\"data row1 col4\" >sklearn</td>\n",
              "      <td id=\"T_348ec_row1_col5\" class=\"data row1 col5\" >False</td>\n",
              "      <td id=\"T_348ec_row1_col6\" class=\"data row1 col6\" >False</td>\n",
              "      <td id=\"T_348ec_row1_col7\" class=\"data row1 col7\" >RandomForestRegressor</td>\n",
              "      <td id=\"T_348ec_row1_col8\" class=\"data row1 col8\" >econ50_bigdata</td>\n",
              "      <td id=\"T_348ec_row1_col9\" class=\"data row1 col9\" >3</td>\n",
              "    </tr>\n",
              "    <tr>\n",
              "      <th id=\"T_348ec_level0_row2\" class=\"row_heading level0 row2\" >2</th>\n",
              "      <td id=\"T_348ec_row2_col0\" class=\"data row2 col0\" >0.00</td>\n",
              "      <td id=\"T_348ec_row2_col1\" class=\"data row2 col1\" >0.03</td>\n",
              "      <td id=\"T_348ec_row2_col2\" class=\"data row2 col2\" >0.02</td>\n",
              "      <td id=\"T_348ec_row2_col3\" class=\"data row2 col3\" >0.72</td>\n",
              "      <td id=\"T_348ec_row2_col4\" class=\"data row2 col4\" >sklearn</td>\n",
              "      <td id=\"T_348ec_row2_col5\" class=\"data row2 col5\" >False</td>\n",
              "      <td id=\"T_348ec_row2_col6\" class=\"data row2 col6\" >False</td>\n",
              "      <td id=\"T_348ec_row2_col7\" class=\"data row2 col7\" >RandomForestRegressor</td>\n",
              "      <td id=\"T_348ec_row2_col8\" class=\"data row2 col8\" >econ50_bigdata</td>\n",
              "      <td id=\"T_348ec_row2_col9\" class=\"data row2 col9\" >1</td>\n",
              "    </tr>\n",
              "  </tbody>\n",
              "</table>\n"
            ]
          },
          "metadata": {},
          "execution_count": 21
        }
      ]
    },
    {
      "cell_type": "code",
      "metadata": {
        "id": "MKvPKyb7hT0h",
        "colab": {
          "base_uri": "https://localhost:8080/",
          "height": 421
        },
        "outputId": "9360c13c-71ee-4fb3-aec3-a098296dd147"
      },
      "source": [
        "# Compare two or more models\n",
        "data=mycompetition.compare_models([1, 2, 3], verbose=1)\n",
        "mycompetition.stylize_compare(data)"
      ],
      "execution_count": 22,
      "outputs": [
        {
          "output_type": "display_data",
          "data": {
            "text/plain": [
              "<IPython.core.display.HTML object>"
            ],
            "text/html": [
              "<style type=\"text/css\">\n",
              "#T_8437c_ caption {\n",
              "  color: black;\n",
              "  font-size: 18px;\n",
              "}\n",
              "#T_8437c_row3_col2, #T_8437c_row3_col3, #T_8437c_row3_col4, #T_8437c_row12_col2, #T_8437c_row12_col3, #T_8437c_row15_col2, #T_8437c_row15_col3 {\n",
              "  background: tomato;\n",
              "}\n",
              "</style>\n",
              "<table id=\"T_8437c_\">\n",
              "  <caption>Model type: RandomForestRegressor</caption>\n",
              "  <thead>\n",
              "    <tr>\n",
              "      <th class=\"blank level0\" >&nbsp;</th>\n",
              "      <th class=\"col_heading level0 col0\" >param_name</th>\n",
              "      <th class=\"col_heading level0 col1\" >default_value</th>\n",
              "      <th class=\"col_heading level0 col2\" >model_version_1</th>\n",
              "      <th class=\"col_heading level0 col3\" >model_version_2</th>\n",
              "      <th class=\"col_heading level0 col4\" >model_version_3</th>\n",
              "    </tr>\n",
              "  </thead>\n",
              "  <tbody>\n",
              "    <tr>\n",
              "      <th id=\"T_8437c_level0_row0\" class=\"row_heading level0 row0\" >0</th>\n",
              "      <td id=\"T_8437c_row0_col0\" class=\"data row0 col0\" >bootstrap</td>\n",
              "      <td id=\"T_8437c_row0_col1\" class=\"data row0 col1\" >True</td>\n",
              "      <td id=\"T_8437c_row0_col2\" class=\"data row0 col2\" >True</td>\n",
              "      <td id=\"T_8437c_row0_col3\" class=\"data row0 col3\" >True</td>\n",
              "      <td id=\"T_8437c_row0_col4\" class=\"data row0 col4\" >True</td>\n",
              "    </tr>\n",
              "    <tr>\n",
              "      <th id=\"T_8437c_level0_row1\" class=\"row_heading level0 row1\" >1</th>\n",
              "      <td id=\"T_8437c_row1_col0\" class=\"data row1 col0\" >ccp_alpha</td>\n",
              "      <td id=\"T_8437c_row1_col1\" class=\"data row1 col1\" >0.000000</td>\n",
              "      <td id=\"T_8437c_row1_col2\" class=\"data row1 col2\" >0.000000</td>\n",
              "      <td id=\"T_8437c_row1_col3\" class=\"data row1 col3\" >0.000000</td>\n",
              "      <td id=\"T_8437c_row1_col4\" class=\"data row1 col4\" >0.000000</td>\n",
              "    </tr>\n",
              "    <tr>\n",
              "      <th id=\"T_8437c_level0_row2\" class=\"row_heading level0 row2\" >2</th>\n",
              "      <td id=\"T_8437c_row2_col0\" class=\"data row2 col0\" >criterion</td>\n",
              "      <td id=\"T_8437c_row2_col1\" class=\"data row2 col1\" >mse</td>\n",
              "      <td id=\"T_8437c_row2_col2\" class=\"data row2 col2\" >mse</td>\n",
              "      <td id=\"T_8437c_row2_col3\" class=\"data row2 col3\" >mse</td>\n",
              "      <td id=\"T_8437c_row2_col4\" class=\"data row2 col4\" >mse</td>\n",
              "    </tr>\n",
              "    <tr>\n",
              "      <th id=\"T_8437c_level0_row3\" class=\"row_heading level0 row3\" >3</th>\n",
              "      <td id=\"T_8437c_row3_col0\" class=\"data row3 col0\" >max_depth</td>\n",
              "      <td id=\"T_8437c_row3_col1\" class=\"data row3 col1\" >None</td>\n",
              "      <td id=\"T_8437c_row3_col2\" class=\"data row3 col2\" >3</td>\n",
              "      <td id=\"T_8437c_row3_col3\" class=\"data row3 col3\" >5</td>\n",
              "      <td id=\"T_8437c_row3_col4\" class=\"data row3 col4\" >5</td>\n",
              "    </tr>\n",
              "    <tr>\n",
              "      <th id=\"T_8437c_level0_row4\" class=\"row_heading level0 row4\" >4</th>\n",
              "      <td id=\"T_8437c_row4_col0\" class=\"data row4 col0\" >max_features</td>\n",
              "      <td id=\"T_8437c_row4_col1\" class=\"data row4 col1\" >auto</td>\n",
              "      <td id=\"T_8437c_row4_col2\" class=\"data row4 col2\" >auto</td>\n",
              "      <td id=\"T_8437c_row4_col3\" class=\"data row4 col3\" >auto</td>\n",
              "      <td id=\"T_8437c_row4_col4\" class=\"data row4 col4\" >auto</td>\n",
              "    </tr>\n",
              "    <tr>\n",
              "      <th id=\"T_8437c_level0_row5\" class=\"row_heading level0 row5\" >5</th>\n",
              "      <td id=\"T_8437c_row5_col0\" class=\"data row5 col0\" >max_leaf_nodes</td>\n",
              "      <td id=\"T_8437c_row5_col1\" class=\"data row5 col1\" >None</td>\n",
              "      <td id=\"T_8437c_row5_col2\" class=\"data row5 col2\" >None</td>\n",
              "      <td id=\"T_8437c_row5_col3\" class=\"data row5 col3\" >None</td>\n",
              "      <td id=\"T_8437c_row5_col4\" class=\"data row5 col4\" >None</td>\n",
              "    </tr>\n",
              "    <tr>\n",
              "      <th id=\"T_8437c_level0_row6\" class=\"row_heading level0 row6\" >6</th>\n",
              "      <td id=\"T_8437c_row6_col0\" class=\"data row6 col0\" >max_samples</td>\n",
              "      <td id=\"T_8437c_row6_col1\" class=\"data row6 col1\" >None</td>\n",
              "      <td id=\"T_8437c_row6_col2\" class=\"data row6 col2\" >None</td>\n",
              "      <td id=\"T_8437c_row6_col3\" class=\"data row6 col3\" >None</td>\n",
              "      <td id=\"T_8437c_row6_col4\" class=\"data row6 col4\" >None</td>\n",
              "    </tr>\n",
              "    <tr>\n",
              "      <th id=\"T_8437c_level0_row7\" class=\"row_heading level0 row7\" >7</th>\n",
              "      <td id=\"T_8437c_row7_col0\" class=\"data row7 col0\" >min_impurity_decrease</td>\n",
              "      <td id=\"T_8437c_row7_col1\" class=\"data row7 col1\" >0.000000</td>\n",
              "      <td id=\"T_8437c_row7_col2\" class=\"data row7 col2\" >0.000000</td>\n",
              "      <td id=\"T_8437c_row7_col3\" class=\"data row7 col3\" >0.000000</td>\n",
              "      <td id=\"T_8437c_row7_col4\" class=\"data row7 col4\" >0.000000</td>\n",
              "    </tr>\n",
              "    <tr>\n",
              "      <th id=\"T_8437c_level0_row8\" class=\"row_heading level0 row8\" >8</th>\n",
              "      <td id=\"T_8437c_row8_col0\" class=\"data row8 col0\" >min_impurity_split</td>\n",
              "      <td id=\"T_8437c_row8_col1\" class=\"data row8 col1\" >None</td>\n",
              "      <td id=\"T_8437c_row8_col2\" class=\"data row8 col2\" >None</td>\n",
              "      <td id=\"T_8437c_row8_col3\" class=\"data row8 col3\" >None</td>\n",
              "      <td id=\"T_8437c_row8_col4\" class=\"data row8 col4\" >None</td>\n",
              "    </tr>\n",
              "    <tr>\n",
              "      <th id=\"T_8437c_level0_row9\" class=\"row_heading level0 row9\" >9</th>\n",
              "      <td id=\"T_8437c_row9_col0\" class=\"data row9 col0\" >min_samples_leaf</td>\n",
              "      <td id=\"T_8437c_row9_col1\" class=\"data row9 col1\" >1</td>\n",
              "      <td id=\"T_8437c_row9_col2\" class=\"data row9 col2\" >1</td>\n",
              "      <td id=\"T_8437c_row9_col3\" class=\"data row9 col3\" >1</td>\n",
              "      <td id=\"T_8437c_row9_col4\" class=\"data row9 col4\" >1</td>\n",
              "    </tr>\n",
              "    <tr>\n",
              "      <th id=\"T_8437c_level0_row10\" class=\"row_heading level0 row10\" >10</th>\n",
              "      <td id=\"T_8437c_row10_col0\" class=\"data row10 col0\" >min_samples_split</td>\n",
              "      <td id=\"T_8437c_row10_col1\" class=\"data row10 col1\" >2</td>\n",
              "      <td id=\"T_8437c_row10_col2\" class=\"data row10 col2\" >2</td>\n",
              "      <td id=\"T_8437c_row10_col3\" class=\"data row10 col3\" >2</td>\n",
              "      <td id=\"T_8437c_row10_col4\" class=\"data row10 col4\" >2</td>\n",
              "    </tr>\n",
              "    <tr>\n",
              "      <th id=\"T_8437c_level0_row11\" class=\"row_heading level0 row11\" >11</th>\n",
              "      <td id=\"T_8437c_row11_col0\" class=\"data row11 col0\" >min_weight_fraction_leaf</td>\n",
              "      <td id=\"T_8437c_row11_col1\" class=\"data row11 col1\" >0.000000</td>\n",
              "      <td id=\"T_8437c_row11_col2\" class=\"data row11 col2\" >0.000000</td>\n",
              "      <td id=\"T_8437c_row11_col3\" class=\"data row11 col3\" >0.000000</td>\n",
              "      <td id=\"T_8437c_row11_col4\" class=\"data row11 col4\" >0.000000</td>\n",
              "    </tr>\n",
              "    <tr>\n",
              "      <th id=\"T_8437c_level0_row12\" class=\"row_heading level0 row12\" >12</th>\n",
              "      <td id=\"T_8437c_row12_col0\" class=\"data row12 col0\" >n_estimators</td>\n",
              "      <td id=\"T_8437c_row12_col1\" class=\"data row12 col1\" >100</td>\n",
              "      <td id=\"T_8437c_row12_col2\" class=\"data row12 col2\" >500</td>\n",
              "      <td id=\"T_8437c_row12_col3\" class=\"data row12 col3\" >1000</td>\n",
              "      <td id=\"T_8437c_row12_col4\" class=\"data row12 col4\" >100</td>\n",
              "    </tr>\n",
              "    <tr>\n",
              "      <th id=\"T_8437c_level0_row13\" class=\"row_heading level0 row13\" >13</th>\n",
              "      <td id=\"T_8437c_row13_col0\" class=\"data row13 col0\" >n_jobs</td>\n",
              "      <td id=\"T_8437c_row13_col1\" class=\"data row13 col1\" >None</td>\n",
              "      <td id=\"T_8437c_row13_col2\" class=\"data row13 col2\" >None</td>\n",
              "      <td id=\"T_8437c_row13_col3\" class=\"data row13 col3\" >None</td>\n",
              "      <td id=\"T_8437c_row13_col4\" class=\"data row13 col4\" >None</td>\n",
              "    </tr>\n",
              "    <tr>\n",
              "      <th id=\"T_8437c_level0_row14\" class=\"row_heading level0 row14\" >14</th>\n",
              "      <td id=\"T_8437c_row14_col0\" class=\"data row14 col0\" >oob_score</td>\n",
              "      <td id=\"T_8437c_row14_col1\" class=\"data row14 col1\" >False</td>\n",
              "      <td id=\"T_8437c_row14_col2\" class=\"data row14 col2\" >False</td>\n",
              "      <td id=\"T_8437c_row14_col3\" class=\"data row14 col3\" >False</td>\n",
              "      <td id=\"T_8437c_row14_col4\" class=\"data row14 col4\" >False</td>\n",
              "    </tr>\n",
              "    <tr>\n",
              "      <th id=\"T_8437c_level0_row15\" class=\"row_heading level0 row15\" >15</th>\n",
              "      <td id=\"T_8437c_row15_col0\" class=\"data row15 col0\" >random_state</td>\n",
              "      <td id=\"T_8437c_row15_col1\" class=\"data row15 col1\" >None</td>\n",
              "      <td id=\"T_8437c_row15_col2\" class=\"data row15 col2\" >0</td>\n",
              "      <td id=\"T_8437c_row15_col3\" class=\"data row15 col3\" >0</td>\n",
              "      <td id=\"T_8437c_row15_col4\" class=\"data row15 col4\" >None</td>\n",
              "    </tr>\n",
              "    <tr>\n",
              "      <th id=\"T_8437c_level0_row16\" class=\"row_heading level0 row16\" >16</th>\n",
              "      <td id=\"T_8437c_row16_col0\" class=\"data row16 col0\" >verbose</td>\n",
              "      <td id=\"T_8437c_row16_col1\" class=\"data row16 col1\" >0</td>\n",
              "      <td id=\"T_8437c_row16_col2\" class=\"data row16 col2\" >0</td>\n",
              "      <td id=\"T_8437c_row16_col3\" class=\"data row16 col3\" >0</td>\n",
              "      <td id=\"T_8437c_row16_col4\" class=\"data row16 col4\" >0</td>\n",
              "    </tr>\n",
              "    <tr>\n",
              "      <th id=\"T_8437c_level0_row17\" class=\"row_heading level0 row17\" >17</th>\n",
              "      <td id=\"T_8437c_row17_col0\" class=\"data row17 col0\" >warm_start</td>\n",
              "      <td id=\"T_8437c_row17_col1\" class=\"data row17 col1\" >False</td>\n",
              "      <td id=\"T_8437c_row17_col2\" class=\"data row17 col2\" >False</td>\n",
              "      <td id=\"T_8437c_row17_col3\" class=\"data row17 col3\" >False</td>\n",
              "      <td id=\"T_8437c_row17_col4\" class=\"data row17 col4\" >False</td>\n",
              "    </tr>\n",
              "  </tbody>\n",
              "</table>\n"
            ]
          },
          "metadata": {}
        },
        {
          "output_type": "stream",
          "name": "stdout",
          "text": [
            "\n",
            "\n",
            "\n"
          ]
        }
      ]
    },
    {
      "cell_type": "code",
      "metadata": {
        "id": "tukB40NshcaB",
        "colab": {
          "base_uri": "https://localhost:8080/"
        },
        "outputId": "b81daf71-bbe4-400b-df81-855330582b6d"
      },
      "source": [
        "# Here are several classic ML architectures you can choose from to experiment with next:\n",
        "from sklearn.neighbors import KNeighborsRegressor\n",
        "from sklearn.ensemble import RandomForestRegressor\n",
        "from sklearn.tree import DecisionTreeRegressor\n",
        "from sklearn.ensemble import BaggingRegressor\n",
        "from sklearn.ensemble import GradientBoostingRegressor\n",
        "\n",
        "\n",
        "#Example code to fit model:\n",
        "model = GradientBoostingRegressor(n_estimators=500, learning_rate=1.0,\n",
        "    max_depth=3, random_state=0).fit(preprocessor(X_train), y_train)\n",
        "model.score(preprocessor(X_train), y_train)\n",
        "\n",
        "# Save sklearn model to local ONNX file\n",
        "from aimodelshare.aimsonnx import model_to_onnx\n",
        "\n",
        "feature_count=preprocessor(X_test).shape[1] #Get count of preprocessed features\n",
        "initial_type = [('float_input', FloatTensorType([None, feature_count]))]  # Insert correct number of preprocessed features\n",
        "\n",
        "onnx_model = model_to_onnx(model, framework='sklearn',\n",
        "                          initial_types=initial_type,\n",
        "                          transfer_learning=False,\n",
        "                          deep_learning=False)\n",
        "\n",
        "with open(\"model.onnx\", \"wb\") as f:\n",
        "    f.write(onnx_model.SerializeToString())\n",
        "\n",
        "#-- Generate predicted values (a list of predicted labels \"real\" or \"fake\")\n",
        "prediction_labels = model.predict(preprocessor(X_test))\n",
        "\n",
        "# Submit model to Competition Leaderboard\n",
        "mycompetition.submit_model(model_filepath = \"model.onnx\",\n",
        "                                 preprocessor_filepath=\"preprocessor.zip\",\n",
        "                                 prediction_submission=prediction_labels)\n"
      ],
      "execution_count": 23,
      "outputs": [
        {
          "output_type": "stream",
          "name": "stdout",
          "text": [
            "Insert search tags to help users find your model (optional): \n",
            "Provide any useful notes about your model (optional): \n",
            "\n",
            "Your model has been submitted as model version 4\n",
            "\n",
            "To submit code used to create this model or to view current leaderboard navigate to Model Playground: \n",
            "\n",
            " https://www.modelshare.org/detail/model:2821\n"
          ]
        }
      ]
    }
  ]
}