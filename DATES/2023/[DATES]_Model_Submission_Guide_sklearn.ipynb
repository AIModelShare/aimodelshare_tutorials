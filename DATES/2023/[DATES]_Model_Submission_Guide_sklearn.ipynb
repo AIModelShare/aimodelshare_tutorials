{
 "cells": [
  {
   "cell_type": "markdown",
   "metadata": {
    "id": "ekczNcQxUpzT"
   },
   "source": [
    "<p align=\"center\"><img width=\"50%\" src=\"https://aimodelsharecontent.s3.amazonaws.com/aimodshare_banner.jpg\" /></p>\n",
    "\n",
    "\n",
    "---"
   ]
  },
  {
   "cell_type": "markdown",
   "metadata": {
    "id": "JXxGTgJz152A"
   },
   "source": [
    "## Model Submission Guide: Date Classification Competition\n",
    "Let's share our models to a centralized leaderboard, so that we can collaborate and learn from the model experimentation process...\n",
    "\n",
    "**Instructions:**\n",
    "1.   Get data in and set up X_train / X_test / y_train\n",
    "2.   Preprocess data using Sklearn Column Transformer/ Write and Save Preprocessor function\n",
    "3. Fit model on preprocessed data and save preprocessor function and model \n",
    "4. Generate predictions from X_test data and submit model to competition\n",
    "5. Repeat submission process to improve place on leaderboard\n",
    "\n"
   ]
  },
  {
   "cell_type": "markdown",
   "metadata": {
    "id": "5gSrVJwp3E9H"
   },
   "source": [
    "## 1. Get data in and set up X_train, X_test, y_train objects"
   ]
  },
  {
   "cell_type": "code",
   "execution_count": null,
   "metadata": {
    "id": "PLTIaMB3ChSW"
   },
   "outputs": [],
   "source": [
    "#install aimodelshare library\n",
    "! pip install aimodelshare==0.0.189"
   ]
  },
  {
   "cell_type": "code",
   "execution_count": 3,
   "metadata": {
    "colab": {
     "base_uri": "https://localhost:8080/"
    },
    "id": "d3PiJXBhC5y-",
    "outputId": "be11b635-167f-4ba6-85b9-21356349d549"
   },
   "outputs": [
    {
     "name": "stdout",
     "output_type": "stream",
     "text": [
      "Downloading [=============>                                   ]\n",
      "\n",
      "Data downloaded successfully.\n"
     ]
    }
   ],
   "source": [
    "# Get competition data\n",
    "from aimodelshare import download_data\n",
    "download_data('public.ecr.aws/f7g4u8b6/date_competition_data-repository:latest') "
   ]
  },
  {
   "cell_type": "code",
   "execution_count": 4,
   "metadata": {
    "colab": {
     "base_uri": "https://localhost:8080/",
     "height": 299
    },
    "id": "jT0qFCZFNzHq",
    "outputId": "bc7a97bf-840f-481a-b42b-4fa629811d35"
   },
   "outputs": [
    {
     "data": {
      "text/html": [
       "\n",
       "  <div id=\"df-95b6197b-69f3-4fd7-87d3-e2aad028067b\">\n",
       "    <div class=\"colab-df-container\">\n",
       "      <div>\n",
       "<style scoped>\n",
       "    .dataframe tbody tr th:only-of-type {\n",
       "        vertical-align: middle;\n",
       "    }\n",
       "\n",
       "    .dataframe tbody tr th {\n",
       "        vertical-align: top;\n",
       "    }\n",
       "\n",
       "    .dataframe thead th {\n",
       "        text-align: right;\n",
       "    }\n",
       "</style>\n",
       "<table border=\"1\" class=\"dataframe\">\n",
       "  <thead>\n",
       "    <tr style=\"text-align: right;\">\n",
       "      <th></th>\n",
       "      <th>PERIMETER</th>\n",
       "      <th>MAJOR_AXIS</th>\n",
       "      <th>MINOR_AXIS</th>\n",
       "      <th>ECCENTRICITY</th>\n",
       "      <th>EQDIASQ</th>\n",
       "      <th>SOLIDITY</th>\n",
       "      <th>CONVEX_AREA</th>\n",
       "      <th>EXTENT</th>\n",
       "      <th>ASPECT_RATIO</th>\n",
       "      <th>ROUNDNESS</th>\n",
       "      <th>...</th>\n",
       "      <th>SkewRB</th>\n",
       "      <th>KurtosisRR</th>\n",
       "      <th>KurtosisRG</th>\n",
       "      <th>KurtosisRB</th>\n",
       "      <th>EntropyRR</th>\n",
       "      <th>EntropyRG</th>\n",
       "      <th>EntropyRB</th>\n",
       "      <th>ALLdaub4RR</th>\n",
       "      <th>ALLdaub4RG</th>\n",
       "      <th>ALLdaub4RB</th>\n",
       "    </tr>\n",
       "  </thead>\n",
       "  <tbody>\n",
       "    <tr>\n",
       "      <th>0</th>\n",
       "      <td>2385.5110</td>\n",
       "      <td>849.6287</td>\n",
       "      <td>548.4377</td>\n",
       "      <td>0.7638</td>\n",
       "      <td>681.0944</td>\n",
       "      <td>0.9874</td>\n",
       "      <td>368969</td>\n",
       "      <td>0.7596</td>\n",
       "      <td>1.5492</td>\n",
       "      <td>0.8045</td>\n",
       "      <td>...</td>\n",
       "      <td>0.3835</td>\n",
       "      <td>2.5413</td>\n",
       "      <td>2.7010</td>\n",
       "      <td>4.7956</td>\n",
       "      <td>-4.570224e+10</td>\n",
       "      <td>-31309285376</td>\n",
       "      <td>-31791349760</td>\n",
       "      <td>54.5422</td>\n",
       "      <td>46.1706</td>\n",
       "      <td>47.5687</td>\n",
       "    </tr>\n",
       "    <tr>\n",
       "      <th>1</th>\n",
       "      <td>2360.4670</td>\n",
       "      <td>919.1130</td>\n",
       "      <td>479.2314</td>\n",
       "      <td>0.8533</td>\n",
       "      <td>661.2138</td>\n",
       "      <td>0.9657</td>\n",
       "      <td>355591</td>\n",
       "      <td>0.6926</td>\n",
       "      <td>1.9179</td>\n",
       "      <td>0.7744</td>\n",
       "      <td>...</td>\n",
       "      <td>0.8084</td>\n",
       "      <td>13.2536</td>\n",
       "      <td>10.8915</td>\n",
       "      <td>5.0327</td>\n",
       "      <td>-6.173153e+09</td>\n",
       "      <td>-10177111040</td>\n",
       "      <td>-13946608640</td>\n",
       "      <td>20.5354</td>\n",
       "      <td>27.7553</td>\n",
       "      <td>33.2095</td>\n",
       "    </tr>\n",
       "    <tr>\n",
       "      <th>2</th>\n",
       "      <td>1059.0460</td>\n",
       "      <td>378.1419</td>\n",
       "      <td>270.6614</td>\n",
       "      <td>0.6983</td>\n",
       "      <td>319.2416</td>\n",
       "      <td>0.9883</td>\n",
       "      <td>80990</td>\n",
       "      <td>0.7521</td>\n",
       "      <td>1.3971</td>\n",
       "      <td>0.8968</td>\n",
       "      <td>...</td>\n",
       "      <td>-0.1599</td>\n",
       "      <td>2.2247</td>\n",
       "      <td>2.4509</td>\n",
       "      <td>2.2165</td>\n",
       "      <td>-9.834114e+09</td>\n",
       "      <td>-9082079232</td>\n",
       "      <td>-8377428480</td>\n",
       "      <td>54.3915</td>\n",
       "      <td>53.0591</td>\n",
       "      <td>50.5000</td>\n",
       "    </tr>\n",
       "    <tr>\n",
       "      <th>3</th>\n",
       "      <td>2279.7581</td>\n",
       "      <td>770.8477</td>\n",
       "      <td>654.0494</td>\n",
       "      <td>0.5292</td>\n",
       "      <td>708.2852</td>\n",
       "      <td>0.9945</td>\n",
       "      <td>396190</td>\n",
       "      <td>0.7632</td>\n",
       "      <td>1.1786</td>\n",
       "      <td>0.9527</td>\n",
       "      <td>...</td>\n",
       "      <td>1.6654</td>\n",
       "      <td>5.7796</td>\n",
       "      <td>9.1424</td>\n",
       "      <td>7.8056</td>\n",
       "      <td>-1.841185e+10</td>\n",
       "      <td>-23242752000</td>\n",
       "      <td>-23591233536</td>\n",
       "      <td>34.5177</td>\n",
       "      <td>38.9835</td>\n",
       "      <td>38.4695</td>\n",
       "    </tr>\n",
       "    <tr>\n",
       "      <th>4</th>\n",
       "      <td>1843.9160</td>\n",
       "      <td>647.9982</td>\n",
       "      <td>479.8817</td>\n",
       "      <td>0.6720</td>\n",
       "      <td>556.0906</td>\n",
       "      <td>0.9906</td>\n",
       "      <td>245181</td>\n",
       "      <td>0.7818</td>\n",
       "      <td>1.3503</td>\n",
       "      <td>0.8977</td>\n",
       "      <td>...</td>\n",
       "      <td>-0.3694</td>\n",
       "      <td>2.4534</td>\n",
       "      <td>2.2759</td>\n",
       "      <td>2.5079</td>\n",
       "      <td>-4.665024e+10</td>\n",
       "      <td>-40748339200</td>\n",
       "      <td>-32199612416</td>\n",
       "      <td>66.5225</td>\n",
       "      <td>62.6833</td>\n",
       "      <td>56.9092</td>\n",
       "    </tr>\n",
       "  </tbody>\n",
       "</table>\n",
       "<p>5 rows × 33 columns</p>\n",
       "</div>\n",
       "      <button class=\"colab-df-convert\" onclick=\"convertToInteractive('df-95b6197b-69f3-4fd7-87d3-e2aad028067b')\"\n",
       "              title=\"Convert this dataframe to an interactive table.\"\n",
       "              style=\"display:none;\">\n",
       "        \n",
       "  <svg xmlns=\"http://www.w3.org/2000/svg\" height=\"24px\"viewBox=\"0 0 24 24\"\n",
       "       width=\"24px\">\n",
       "    <path d=\"M0 0h24v24H0V0z\" fill=\"none\"/>\n",
       "    <path d=\"M18.56 5.44l.94 2.06.94-2.06 2.06-.94-2.06-.94-.94-2.06-.94 2.06-2.06.94zm-11 1L8.5 8.5l.94-2.06 2.06-.94-2.06-.94L8.5 2.5l-.94 2.06-2.06.94zm10 10l.94 2.06.94-2.06 2.06-.94-2.06-.94-.94-2.06-.94 2.06-2.06.94z\"/><path d=\"M17.41 7.96l-1.37-1.37c-.4-.4-.92-.59-1.43-.59-.52 0-1.04.2-1.43.59L10.3 9.45l-7.72 7.72c-.78.78-.78 2.05 0 2.83L4 21.41c.39.39.9.59 1.41.59.51 0 1.02-.2 1.41-.59l7.78-7.78 2.81-2.81c.8-.78.8-2.07 0-2.86zM5.41 20L4 18.59l7.72-7.72 1.47 1.35L5.41 20z\"/>\n",
       "  </svg>\n",
       "      </button>\n",
       "      \n",
       "  <style>\n",
       "    .colab-df-container {\n",
       "      display:flex;\n",
       "      flex-wrap:wrap;\n",
       "      gap: 12px;\n",
       "    }\n",
       "\n",
       "    .colab-df-convert {\n",
       "      background-color: #E8F0FE;\n",
       "      border: none;\n",
       "      border-radius: 50%;\n",
       "      cursor: pointer;\n",
       "      display: none;\n",
       "      fill: #1967D2;\n",
       "      height: 32px;\n",
       "      padding: 0 0 0 0;\n",
       "      width: 32px;\n",
       "    }\n",
       "\n",
       "    .colab-df-convert:hover {\n",
       "      background-color: #E2EBFA;\n",
       "      box-shadow: 0px 1px 2px rgba(60, 64, 67, 0.3), 0px 1px 3px 1px rgba(60, 64, 67, 0.15);\n",
       "      fill: #174EA6;\n",
       "    }\n",
       "\n",
       "    [theme=dark] .colab-df-convert {\n",
       "      background-color: #3B4455;\n",
       "      fill: #D2E3FC;\n",
       "    }\n",
       "\n",
       "    [theme=dark] .colab-df-convert:hover {\n",
       "      background-color: #434B5C;\n",
       "      box-shadow: 0px 1px 3px 1px rgba(0, 0, 0, 0.15);\n",
       "      filter: drop-shadow(0px 1px 2px rgba(0, 0, 0, 0.3));\n",
       "      fill: #FFFFFF;\n",
       "    }\n",
       "  </style>\n",
       "\n",
       "      <script>\n",
       "        const buttonEl =\n",
       "          document.querySelector('#df-95b6197b-69f3-4fd7-87d3-e2aad028067b button.colab-df-convert');\n",
       "        buttonEl.style.display =\n",
       "          google.colab.kernel.accessAllowed ? 'block' : 'none';\n",
       "\n",
       "        async function convertToInteractive(key) {\n",
       "          const element = document.querySelector('#df-95b6197b-69f3-4fd7-87d3-e2aad028067b');\n",
       "          const dataTable =\n",
       "            await google.colab.kernel.invokeFunction('convertToInteractive',\n",
       "                                                     [key], {});\n",
       "          if (!dataTable) return;\n",
       "\n",
       "          const docLinkHtml = 'Like what you see? Visit the ' +\n",
       "            '<a target=\"_blank\" href=https://colab.research.google.com/notebooks/data_table.ipynb>data table notebook</a>'\n",
       "            + ' to learn more about interactive tables.';\n",
       "          element.innerHTML = '';\n",
       "          dataTable['output_type'] = 'display_data';\n",
       "          await google.colab.output.renderOutput(dataTable, element);\n",
       "          const docLink = document.createElement('div');\n",
       "          docLink.innerHTML = docLinkHtml;\n",
       "          element.appendChild(docLink);\n",
       "        }\n",
       "      </script>\n",
       "    </div>\n",
       "  </div>\n",
       "  "
      ],
      "text/plain": [
       "   PERIMETER  MAJOR_AXIS  MINOR_AXIS  ECCENTRICITY   EQDIASQ  SOLIDITY  \\\n",
       "0  2385.5110    849.6287    548.4377        0.7638  681.0944    0.9874   \n",
       "1  2360.4670    919.1130    479.2314        0.8533  661.2138    0.9657   \n",
       "2  1059.0460    378.1419    270.6614        0.6983  319.2416    0.9883   \n",
       "3  2279.7581    770.8477    654.0494        0.5292  708.2852    0.9945   \n",
       "4  1843.9160    647.9982    479.8817        0.6720  556.0906    0.9906   \n",
       "\n",
       "   CONVEX_AREA  EXTENT  ASPECT_RATIO  ROUNDNESS  ...  SkewRB  KurtosisRR  \\\n",
       "0       368969  0.7596        1.5492     0.8045  ...  0.3835      2.5413   \n",
       "1       355591  0.6926        1.9179     0.7744  ...  0.8084     13.2536   \n",
       "2        80990  0.7521        1.3971     0.8968  ... -0.1599      2.2247   \n",
       "3       396190  0.7632        1.1786     0.9527  ...  1.6654      5.7796   \n",
       "4       245181  0.7818        1.3503     0.8977  ... -0.3694      2.4534   \n",
       "\n",
       "   KurtosisRG  KurtosisRB     EntropyRR    EntropyRG    EntropyRB  ALLdaub4RR  \\\n",
       "0      2.7010      4.7956 -4.570224e+10 -31309285376 -31791349760     54.5422   \n",
       "1     10.8915      5.0327 -6.173153e+09 -10177111040 -13946608640     20.5354   \n",
       "2      2.4509      2.2165 -9.834114e+09  -9082079232  -8377428480     54.3915   \n",
       "3      9.1424      7.8056 -1.841185e+10 -23242752000 -23591233536     34.5177   \n",
       "4      2.2759      2.5079 -4.665024e+10 -40748339200 -32199612416     66.5225   \n",
       "\n",
       "   ALLdaub4RG  ALLdaub4RB  \n",
       "0     46.1706     47.5687  \n",
       "1     27.7553     33.2095  \n",
       "2     53.0591     50.5000  \n",
       "3     38.9835     38.4695  \n",
       "4     62.6833     56.9092  \n",
       "\n",
       "[5 rows x 33 columns]"
      ]
     },
     "execution_count": 4,
     "metadata": {},
     "output_type": "execute_result"
    }
   ],
   "source": [
    "# Separate data into X_train, y_train, and X_test\n",
    "import pandas as pd\n",
    "y_train = pd.read_csv(\"date_competition_data/y_train.csv\")\n",
    "y_train_labels = y_train.idxmax(axis=1)\n",
    "\n",
    "X_train = pd.read_csv(\"date_competition_data/X_train.csv\")\n",
    "X_test=pd.read_csv(\"date_competition_data/X_test.csv\")\n",
    "\n",
    "X_train.head()"
   ]
  },
  {
   "cell_type": "markdown",
   "metadata": {
    "id": "gEzPoXPj3V7u"
   },
   "source": [
    "##2.   Preprocess data using Sklearn Column Transformer/ Write and Save Preprocessor function\n"
   ]
  },
  {
   "cell_type": "code",
   "execution_count": null,
   "metadata": {
    "id": "16QV9Y9TC3B3"
   },
   "outputs": [],
   "source": [
    "# Simple Preprocessor with sklearn \n",
    "\n",
    "from sklearn.preprocessing import StandardScaler\n",
    "\n",
    "scaler = StandardScaler()\n",
    "scaler.fit(X_train)"
   ]
  },
  {
   "cell_type": "code",
   "execution_count": 6,
   "metadata": {
    "id": "S_PaNOG0SUIk"
   },
   "outputs": [],
   "source": [
    "# Here is where we actually write the preprocessor function:\n",
    "def preprocessor(data):\n",
    "    preprocessed_data=scaler.transform(data)\n",
    "    return preprocessed_data"
   ]
  },
  {
   "cell_type": "code",
   "execution_count": 7,
   "metadata": {
    "colab": {
     "base_uri": "https://localhost:8080/"
    },
    "id": "a1IPy9xvSWBp",
    "outputId": "336e0446-1af1-479b-dc60-a4473924c317"
   },
   "outputs": [
    {
     "data": {
      "text/plain": [
       "(718, 33)"
      ]
     },
     "execution_count": 7,
     "metadata": {},
     "output_type": "execute_result"
    }
   ],
   "source": [
    "# check shape of X data after preprocessing it using our new function\n",
    "preprocessor(X_train).shape"
   ]
  },
  {
   "cell_type": "markdown",
   "metadata": {
    "id": "X52kECL43b-O"
   },
   "source": [
    "##3. Fit model on preprocessed data and save preprocessor function and model \n"
   ]
  },
  {
   "cell_type": "code",
   "execution_count": 8,
   "metadata": {
    "colab": {
     "base_uri": "https://localhost:8080/"
    },
    "id": "NCbBf8j9ClYl",
    "outputId": "b3e1dd46-9c57-45d6-fc4d-f48c1a58ae3f"
   },
   "outputs": [
    {
     "data": {
      "text/plain": [
       "0.8523676880222841"
      ]
     },
     "execution_count": 8,
     "metadata": {},
     "output_type": "execute_result"
    }
   ],
   "source": [
    "from sklearn.ensemble import RandomForestClassifier\n",
    "\n",
    "model = RandomForestClassifier(n_estimators=100, max_depth=3)\n",
    "model.fit(preprocessor(X_train), y_train_labels) # Fitting to the training set.\n",
    "model.score(preprocessor(X_train), y_train_labels) # Fit score, 0-1 scale."
   ]
  },
  {
   "cell_type": "markdown",
   "metadata": {
    "id": "zmJAnmO-5AcU"
   },
   "source": [
    "#### Save preprocessor function to local \"preprocessor.zip\" file"
   ]
  },
  {
   "cell_type": "code",
   "execution_count": 9,
   "metadata": {
    "colab": {
     "base_uri": "https://localhost:8080/"
    },
    "id": "4VGacc0LDaMA",
    "outputId": "d448c1d2-174b-4502-fb4b-b82855e0a05d"
   },
   "outputs": [
    {
     "name": "stdout",
     "output_type": "stream",
     "text": [
      "Your preprocessor is now saved to 'preprocessor.zip'\n"
     ]
    }
   ],
   "source": [
    "import aimodelshare as ai\n",
    "ai.export_preprocessor(preprocessor,\"\") "
   ]
  },
  {
   "cell_type": "markdown",
   "metadata": {
    "id": "oOWBa8Cv5LdL"
   },
   "source": [
    "#### Save model to local \".onnx\" file"
   ]
  },
  {
   "cell_type": "code",
   "execution_count": 10,
   "metadata": {
    "id": "pEhvnRiQDlY5"
   },
   "outputs": [],
   "source": [
    "# Save sklearn model to local ONNX file\n",
    "from aimodelshare.aimsonnx import model_to_onnx\n",
    "\n",
    "# Check how many preprocessed input features are there?\n",
    "from skl2onnx.common.data_types import FloatTensorType\n",
    "\n",
    "feature_count=preprocessor(X_test).shape[1] #Get count of preprocessed features\n",
    "initial_type = [('float_input', FloatTensorType([None, feature_count]))]  #Insert correct number of preprocessed features\n",
    "\n",
    "onnx_model = model_to_onnx(model, framework='sklearn',\n",
    "                          initial_types=initial_type,\n",
    "                          transfer_learning=False,\n",
    "                          deep_learning=False)\n",
    "\n",
    "with open(\"model.onnx\", \"wb\") as f:\n",
    "    f.write(onnx_model.SerializeToString())"
   ]
  },
  {
   "cell_type": "markdown",
   "metadata": {
    "id": "gHWkAzvX3m8O"
   },
   "source": [
    "## 4. Generate predictions from X_test data and submit model to competition\n"
   ]
  },
  {
   "cell_type": "code",
   "execution_count": 11,
   "metadata": {
    "colab": {
     "base_uri": "https://localhost:8080/"
    },
    "id": "RtgkM02MDpkO",
    "outputId": "abc1e5b9-7ebf-4aa4-87b2-30d509dcc7bc"
   },
   "outputs": [
    {
     "name": "stdout",
     "output_type": "stream",
     "text": [
      "AI Modelshare Username:··········\n",
      "AI Modelshare Password:··········\n",
      "AI Model Share login credentials set successfully.\n"
     ]
    }
   ],
   "source": [
    "#Set credentials using modelshare.org username/password\n",
    "\n",
    "from aimodelshare.aws import set_credentials\n",
    "\n",
    "#This is the unique rest api that powers this Date Classification Playground -- make sure to update the apiurl for new competition deployments\n",
    "apiurl=\"https://gkurq4ko89.execute-api.us-east-1.amazonaws.com/prod/m\"\n",
    "\n",
    "set_credentials(apiurl=apiurl)"
   ]
  },
  {
   "cell_type": "code",
   "execution_count": 12,
   "metadata": {
    "id": "fKNGSww8EGgi"
   },
   "outputs": [],
   "source": [
    "#Instantiate Competition\n",
    "import aimodelshare as ai\n",
    "mycompetition= ai.Competition(apiurl)"
   ]
  },
  {
   "cell_type": "code",
   "execution_count": 18,
   "metadata": {
    "id": "_Ql4wksyEUnP"
   },
   "outputs": [],
   "source": [
    "#Submit Model 1: \n",
    "\n",
    "#-- Generate predicted values (a list of predicted labels - 'BERHI', 'DEGLET', 'DOKOL', 'IRAQI', 'ROTANA', 'SAFAVI', 'SOGAY') (Model 1)\n",
    "prediction_labels = model.predict(preprocessor(X_test))\n",
    "\n",
    "# Submit Model 1 to Competition Leaderboard\n",
    "mycompetition.submit_model(model_filepath = \"model.onnx\",\n",
    "                                 preprocessor_filepath=\"preprocessor.zip\",\n",
    "                                 prediction_submission=prediction_labels)"
   ]
  },
  {
   "cell_type": "code",
   "execution_count": 14,
   "metadata": {
    "colab": {
     "base_uri": "https://localhost:8080/",
     "height": 112
    },
    "id": "GN1zvAmNEq17",
    "outputId": "564ac1d6-52cc-4933-c343-e2edc19426be"
   },
   "outputs": [
    {
     "data": {
      "text/html": [
       "<style type=\"text/css\">\n",
       "#T_c12e3_row0_col0 {\n",
       "  text-align: center;\n",
       "  width: 10em;\n",
       "  background: linear-gradient(90deg, #f5f8d6 87.8%, transparent 87.8%);\n",
       "  color: #251e1b;\n",
       "  font-size: 12px;\n",
       "}\n",
       "#T_c12e3_row0_col1 {\n",
       "  text-align: center;\n",
       "  width: 10em;\n",
       "  background: linear-gradient(90deg, #c778c8 80.0%, transparent 80.0%);\n",
       "  color: #251e1b;\n",
       "  font-size: 12px;\n",
       "}\n",
       "#T_c12e3_row0_col2 {\n",
       "  text-align: center;\n",
       "  width: 10em;\n",
       "  background: linear-gradient(90deg, #ff4971 84.8%, transparent 84.8%);\n",
       "  color: #251e1b;\n",
       "  font-size: 12px;\n",
       "}\n",
       "#T_c12e3_row0_col3 {\n",
       "  text-align: center;\n",
       "  width: 10em;\n",
       "  background: linear-gradient(90deg, #aadbaa 81.3%, transparent 81.3%);\n",
       "  color: #251e1b;\n",
       "  font-size: 12px;\n",
       "}\n",
       "#T_c12e3_row0_col4, #T_c12e3_row0_col5, #T_c12e3_row0_col6, #T_c12e3_row0_col7, #T_c12e3_row0_col8, #T_c12e3_row0_col9, #T_c12e3_row1_col4, #T_c12e3_row1_col5, #T_c12e3_row1_col6, #T_c12e3_row1_col7, #T_c12e3_row1_col8, #T_c12e3_row1_col9 {\n",
       "  text-align: center;\n",
       "}\n",
       "#T_c12e3_row1_col0 {\n",
       "  text-align: center;\n",
       "  width: 10em;\n",
       "  background: linear-gradient(90deg, #f5f8d6 84.4%, transparent 84.4%);\n",
       "  color: #251e1b;\n",
       "  font-size: 12px;\n",
       "}\n",
       "#T_c12e3_row1_col1 {\n",
       "  text-align: center;\n",
       "  width: 10em;\n",
       "  background: linear-gradient(90deg, #c778c8 70.9%, transparent 70.9%);\n",
       "  color: #251e1b;\n",
       "  font-size: 12px;\n",
       "}\n",
       "#T_c12e3_row1_col2 {\n",
       "  text-align: center;\n",
       "  width: 10em;\n",
       "  background: linear-gradient(90deg, #ff4971 69.1%, transparent 69.1%);\n",
       "  color: #251e1b;\n",
       "  font-size: 12px;\n",
       "}\n",
       "#T_c12e3_row1_col3 {\n",
       "  text-align: center;\n",
       "  width: 10em;\n",
       "  background: linear-gradient(90deg, #aadbaa 76.0%, transparent 76.0%);\n",
       "  color: #251e1b;\n",
       "  font-size: 12px;\n",
       "}\n",
       "</style>\n",
       "<table id=\"T_c12e3\" class=\"dataframe\">\n",
       "  <thead>\n",
       "    <tr>\n",
       "      <th class=\"blank level0\" >&nbsp;</th>\n",
       "      <th id=\"T_c12e3_level0_col0\" class=\"col_heading level0 col0\" >accuracy</th>\n",
       "      <th id=\"T_c12e3_level0_col1\" class=\"col_heading level0 col1\" >f1_score</th>\n",
       "      <th id=\"T_c12e3_level0_col2\" class=\"col_heading level0 col2\" >precision</th>\n",
       "      <th id=\"T_c12e3_level0_col3\" class=\"col_heading level0 col3\" >recall</th>\n",
       "      <th id=\"T_c12e3_level0_col4\" class=\"col_heading level0 col4\" >ml_framework</th>\n",
       "      <th id=\"T_c12e3_level0_col5\" class=\"col_heading level0 col5\" >transfer_learning</th>\n",
       "      <th id=\"T_c12e3_level0_col6\" class=\"col_heading level0 col6\" >deep_learning</th>\n",
       "      <th id=\"T_c12e3_level0_col7\" class=\"col_heading level0 col7\" >model_type</th>\n",
       "      <th id=\"T_c12e3_level0_col8\" class=\"col_heading level0 col8\" >username</th>\n",
       "      <th id=\"T_c12e3_level0_col9\" class=\"col_heading level0 col9\" >version</th>\n",
       "    </tr>\n",
       "  </thead>\n",
       "  <tbody>\n",
       "    <tr>\n",
       "      <th id=\"T_c12e3_level0_row0\" class=\"row_heading level0 row0\" >0</th>\n",
       "      <td id=\"T_c12e3_row0_col0\" class=\"data row0 col0\" >87.78%</td>\n",
       "      <td id=\"T_c12e3_row0_col1\" class=\"data row0 col1\" >79.95%</td>\n",
       "      <td id=\"T_c12e3_row0_col2\" class=\"data row0 col2\" >84.77%</td>\n",
       "      <td id=\"T_c12e3_row0_col3\" class=\"data row0 col3\" >81.33%</td>\n",
       "      <td id=\"T_c12e3_row0_col4\" class=\"data row0 col4\" >sklearn</td>\n",
       "      <td id=\"T_c12e3_row0_col5\" class=\"data row0 col5\" >False</td>\n",
       "      <td id=\"T_c12e3_row0_col6\" class=\"data row0 col6\" >False</td>\n",
       "      <td id=\"T_c12e3_row0_col7\" class=\"data row0 col7\" >RandomForestClassifier</td>\n",
       "      <td id=\"T_c12e3_row0_col8\" class=\"data row0 col8\" >Ind_Eng_Op_Rsrch</td>\n",
       "      <td id=\"T_c12e3_row0_col9\" class=\"data row0 col9\" >2</td>\n",
       "    </tr>\n",
       "    <tr>\n",
       "      <th id=\"T_c12e3_level0_row1\" class=\"row_heading level0 row1\" >1</th>\n",
       "      <td id=\"T_c12e3_row1_col0\" class=\"data row1 col0\" >84.44%</td>\n",
       "      <td id=\"T_c12e3_row1_col1\" class=\"data row1 col1\" >70.92%</td>\n",
       "      <td id=\"T_c12e3_row1_col2\" class=\"data row1 col2\" >69.06%</td>\n",
       "      <td id=\"T_c12e3_row1_col3\" class=\"data row1 col3\" >76.00%</td>\n",
       "      <td id=\"T_c12e3_row1_col4\" class=\"data row1 col4\" >sklearn</td>\n",
       "      <td id=\"T_c12e3_row1_col5\" class=\"data row1 col5\" >False</td>\n",
       "      <td id=\"T_c12e3_row1_col6\" class=\"data row1 col6\" >False</td>\n",
       "      <td id=\"T_c12e3_row1_col7\" class=\"data row1 col7\" >RandomForestClassifier</td>\n",
       "      <td id=\"T_c12e3_row1_col8\" class=\"data row1 col8\" >Ind_Eng_Op_Rsrch</td>\n",
       "      <td id=\"T_c12e3_row1_col9\" class=\"data row1 col9\" >1</td>\n",
       "    </tr>\n",
       "  </tbody>\n",
       "</table>\n"
      ],
      "text/plain": [
       "<pandas.io.formats.style.Styler at 0x7ff8056d9970>"
      ]
     },
     "execution_count": 14,
     "metadata": {},
     "output_type": "execute_result"
    }
   ],
   "source": [
    "# Get leaderboard to explore current best model architectures\n",
    "\n",
    "# Get raw data in pandas data frame\n",
    "data = mycompetition.get_leaderboard()\n",
    "\n",
    "# Stylize leaderboard data\n",
    "mycompetition.stylize_leaderboard(data)"
   ]
  },
  {
   "cell_type": "markdown",
   "metadata": {
    "id": "bwNKs0wP4r5s"
   },
   "source": [
    "## 5. Repeat submission process to improve place on leaderboard\n"
   ]
  },
  {
   "cell_type": "code",
   "execution_count": 15,
   "metadata": {
    "colab": {
     "base_uri": "https://localhost:8080/"
    },
    "id": "FgSs5PAtPCZH",
    "outputId": "dd9a0e6e-506b-4f7f-e716-8734db94e08a"
   },
   "outputs": [
    {
     "data": {
      "text/plain": [
       "0.7214484679665738"
      ]
     },
     "execution_count": 15,
     "metadata": {},
     "output_type": "execute_result"
    }
   ],
   "source": [
    "# Train and submit model 2 using same preprocessor (note that you could save a new preprocessor, but we will use the same one for this example).\n",
    "from sklearn.svm import SVC # \"Support vector classifier\"\n",
    "model2 = SVC(kernel='linear', C=.001) # kernel and C are the main args to adjust for linear SVC\n",
    "model2.fit(preprocessor(X_train), y_train_labels)\n",
    "model2.score(preprocessor(X_train), y_train_labels)"
   ]
  },
  {
   "cell_type": "code",
   "execution_count": 16,
   "metadata": {
    "id": "aIdmSpYVPYAw"
   },
   "outputs": [],
   "source": [
    "# Save sklearn model to local ONNX file\n",
    "from aimodelshare.aimsonnx import model_to_onnx\n",
    "\n",
    "feature_count=preprocessor(X_test).shape[1] #Get count of preprocessed features\n",
    "initial_type = [('float_input', FloatTensorType([None, feature_count]))]  # Insert correct number of preprocessed features\n",
    "\n",
    "onnx_model = model_to_onnx(model2, framework='sklearn',\n",
    "                          initial_types=initial_type,\n",
    "                          transfer_learning=False,\n",
    "                          deep_learning=False)\n",
    "\n",
    "with open(\"model2.onnx\", \"wb\") as f:\n",
    "    f.write(onnx_model.SerializeToString())"
   ]
  },
  {
   "cell_type": "code",
   "execution_count": null,
   "metadata": {
    "id": "nszPPrfwPlUk"
   },
   "outputs": [],
   "source": [
    "#Submit Model 2: \n",
    "\n",
    "#-- Generate predicted y values (Model 2)\n",
    "prediction_labels = model2.predict(preprocessor(X_test))\n",
    "\n",
    "# Submit Model 2 to Competition Leaderboard\n",
    "mycompetition.submit_model(model_filepath = \"model2.onnx\",\n",
    "                                 prediction_submission=prediction_labels,\n",
    "                                 preprocessor_filepath=\"preprocessor.zip\")"
   ]
  },
  {
   "cell_type": "code",
   "execution_count": 19,
   "metadata": {
    "colab": {
     "base_uri": "https://localhost:8080/"
    },
    "id": "6Go4SF37Ex_Z",
    "outputId": "426ff3c1-11ce-45bc-869b-be15bf2e05ed"
   },
   "outputs": [
    {
     "name": "stdout",
     "output_type": "stream",
     "text": [
      "best mean cross-validation score: 0.875\n",
      "best parameters: {'max_depth': 5, 'n_estimators': 100}\n"
     ]
    }
   ],
   "source": [
    "# Submit a third model using GridSearchCV\n",
    "\n",
    "from sklearn.ensemble import RandomForestClassifier\n",
    "from sklearn.model_selection import GridSearchCV\n",
    "import numpy as np\n",
    "\n",
    "param_grid = {'n_estimators': np.arange(100, 300, 500),'max_depth':[1, 3, 5]} #np.arange creates sequence of numbers for each k value\n",
    "\n",
    "gridmodel = GridSearchCV(RandomForestClassifier(), param_grid=param_grid, cv=10)\n",
    "\n",
    "#use meta model methods to fit score and predict model:\n",
    "gridmodel.fit(preprocessor(X_train), y_train_labels)\n",
    "\n",
    "#extract best score and parameter by calling objects \"best_score_\" and \"best_params_\"\n",
    "print(\"best mean cross-validation score: {:.3f}\".format(gridmodel.best_score_))\n",
    "print(\"best parameters: {}\".format(gridmodel.best_params_))\n"
   ]
  },
  {
   "cell_type": "code",
   "execution_count": 20,
   "metadata": {
    "id": "HvLuIvOjHLH2"
   },
   "outputs": [],
   "source": [
    "# Save sklearn model to local ONNX file\n",
    "from aimodelshare.aimsonnx import model_to_onnx\n",
    "\n",
    "feature_count=preprocessor(X_test).shape[1] #Get count of preprocessed features\n",
    "initial_type = [('float_input', FloatTensorType([None, feature_count]))]  # Insert correct number of preprocessed features\n",
    "\n",
    "onnx_model = model_to_onnx(gridmodel, framework='sklearn',\n",
    "                          initial_types=initial_type,\n",
    "                          transfer_learning=False,\n",
    "                          deep_learning=False)\n",
    "\n",
    "with open(\"gridmodel.onnx\", \"wb\") as f:\n",
    "    f.write(onnx_model.SerializeToString())"
   ]
  },
  {
   "cell_type": "code",
   "execution_count": null,
   "metadata": {
    "id": "sMidHABfHVN7"
   },
   "outputs": [],
   "source": [
    "#Submit Model 3: \n",
    "\n",
    "#-- Generate predicted values\n",
    "prediction_labels = gridmodel.predict(preprocessor(X_test))\n",
    "\n",
    "# Submit to Competition Leaderboard\n",
    "mycompetition.submit_model(model_filepath = \"gridmodel.onnx\",\n",
    "                                 preprocessor_filepath=\"preprocessor.zip\",\n",
    "                                 prediction_submission=prediction_labels)"
   ]
  },
  {
   "cell_type": "code",
   "execution_count": 22,
   "metadata": {
    "colab": {
     "base_uri": "https://localhost:8080/",
     "height": 194
    },
    "id": "hn-Tp-zpJVGT",
    "outputId": "cee46c55-6f34-4e48-f00f-712bd49f274d"
   },
   "outputs": [
    {
     "data": {
      "text/html": [
       "<style type=\"text/css\">\n",
       "#T_2581b_row0_col0, #T_2581b_row1_col0 {\n",
       "  text-align: center;\n",
       "  width: 10em;\n",
       "  background: linear-gradient(90deg, #f5f8d6 87.8%, transparent 87.8%);\n",
       "  color: #251e1b;\n",
       "  font-size: 12px;\n",
       "}\n",
       "#T_2581b_row0_col1 {\n",
       "  text-align: center;\n",
       "  width: 10em;\n",
       "  background: linear-gradient(90deg, #c778c8 82.3%, transparent 82.3%);\n",
       "  color: #251e1b;\n",
       "  font-size: 12px;\n",
       "}\n",
       "#T_2581b_row0_col2 {\n",
       "  text-align: center;\n",
       "  width: 10em;\n",
       "  background: linear-gradient(90deg, #ff4971 84.7%, transparent 84.7%);\n",
       "  color: #251e1b;\n",
       "  font-size: 12px;\n",
       "}\n",
       "#T_2581b_row0_col3 {\n",
       "  text-align: center;\n",
       "  width: 10em;\n",
       "  background: linear-gradient(90deg, #aadbaa 83.7%, transparent 83.7%);\n",
       "  color: #251e1b;\n",
       "  font-size: 12px;\n",
       "}\n",
       "#T_2581b_row0_col4, #T_2581b_row0_col5, #T_2581b_row0_col6, #T_2581b_row0_col7, #T_2581b_row0_col8, #T_2581b_row0_col9, #T_2581b_row0_col10, #T_2581b_row1_col4, #T_2581b_row1_col5, #T_2581b_row1_col6, #T_2581b_row1_col7, #T_2581b_row1_col8, #T_2581b_row1_col9, #T_2581b_row1_col10, #T_2581b_row2_col4, #T_2581b_row2_col5, #T_2581b_row2_col6, #T_2581b_row2_col7, #T_2581b_row2_col8, #T_2581b_row2_col9, #T_2581b_row2_col10, #T_2581b_row3_col4, #T_2581b_row3_col5, #T_2581b_row3_col6, #T_2581b_row3_col7, #T_2581b_row3_col8, #T_2581b_row3_col9, #T_2581b_row3_col10 {\n",
       "  text-align: center;\n",
       "}\n",
       "#T_2581b_row1_col1 {\n",
       "  text-align: center;\n",
       "  width: 10em;\n",
       "  background: linear-gradient(90deg, #c778c8 80.0%, transparent 80.0%);\n",
       "  color: #251e1b;\n",
       "  font-size: 12px;\n",
       "}\n",
       "#T_2581b_row1_col2 {\n",
       "  text-align: center;\n",
       "  width: 10em;\n",
       "  background: linear-gradient(90deg, #ff4971 84.8%, transparent 84.8%);\n",
       "  color: #251e1b;\n",
       "  font-size: 12px;\n",
       "}\n",
       "#T_2581b_row1_col3 {\n",
       "  text-align: center;\n",
       "  width: 10em;\n",
       "  background: linear-gradient(90deg, #aadbaa 81.3%, transparent 81.3%);\n",
       "  color: #251e1b;\n",
       "  font-size: 12px;\n",
       "}\n",
       "#T_2581b_row2_col0 {\n",
       "  text-align: center;\n",
       "  width: 10em;\n",
       "  background: linear-gradient(90deg, #f5f8d6 84.4%, transparent 84.4%);\n",
       "  color: #251e1b;\n",
       "  font-size: 12px;\n",
       "}\n",
       "#T_2581b_row2_col1 {\n",
       "  text-align: center;\n",
       "  width: 10em;\n",
       "  background: linear-gradient(90deg, #c778c8 70.9%, transparent 70.9%);\n",
       "  color: #251e1b;\n",
       "  font-size: 12px;\n",
       "}\n",
       "#T_2581b_row2_col2 {\n",
       "  text-align: center;\n",
       "  width: 10em;\n",
       "  background: linear-gradient(90deg, #ff4971 69.1%, transparent 69.1%);\n",
       "  color: #251e1b;\n",
       "  font-size: 12px;\n",
       "}\n",
       "#T_2581b_row2_col3 {\n",
       "  text-align: center;\n",
       "  width: 10em;\n",
       "  background: linear-gradient(90deg, #aadbaa 76.0%, transparent 76.0%);\n",
       "  color: #251e1b;\n",
       "  font-size: 12px;\n",
       "}\n",
       "#T_2581b_row3_col0 {\n",
       "  text-align: center;\n",
       "  width: 10em;\n",
       "  background: linear-gradient(90deg, #f5f8d6 72.2%, transparent 72.2%);\n",
       "  color: #251e1b;\n",
       "  font-size: 12px;\n",
       "}\n",
       "#T_2581b_row3_col1 {\n",
       "  text-align: center;\n",
       "  width: 10em;\n",
       "  background: linear-gradient(90deg, #c778c8 50.6%, transparent 50.6%);\n",
       "  color: #251e1b;\n",
       "  font-size: 12px;\n",
       "}\n",
       "#T_2581b_row3_col2 {\n",
       "  text-align: center;\n",
       "  width: 10em;\n",
       "  background: linear-gradient(90deg, #ff4971 56.4%, transparent 56.4%);\n",
       "  color: #251e1b;\n",
       "  font-size: 12px;\n",
       "}\n",
       "#T_2581b_row3_col3 {\n",
       "  text-align: center;\n",
       "  width: 10em;\n",
       "  background: linear-gradient(90deg, #aadbaa 58.6%, transparent 58.6%);\n",
       "  color: #251e1b;\n",
       "  font-size: 12px;\n",
       "}\n",
       "</style>\n",
       "<table id=\"T_2581b\" class=\"dataframe\">\n",
       "  <thead>\n",
       "    <tr>\n",
       "      <th class=\"blank level0\" >&nbsp;</th>\n",
       "      <th id=\"T_2581b_level0_col0\" class=\"col_heading level0 col0\" >accuracy</th>\n",
       "      <th id=\"T_2581b_level0_col1\" class=\"col_heading level0 col1\" >f1_score</th>\n",
       "      <th id=\"T_2581b_level0_col2\" class=\"col_heading level0 col2\" >precision</th>\n",
       "      <th id=\"T_2581b_level0_col3\" class=\"col_heading level0 col3\" >recall</th>\n",
       "      <th id=\"T_2581b_level0_col4\" class=\"col_heading level0 col4\" >ml_framework</th>\n",
       "      <th id=\"T_2581b_level0_col5\" class=\"col_heading level0 col5\" >transfer_learning</th>\n",
       "      <th id=\"T_2581b_level0_col6\" class=\"col_heading level0 col6\" >deep_learning</th>\n",
       "      <th id=\"T_2581b_level0_col7\" class=\"col_heading level0 col7\" >model_type</th>\n",
       "      <th id=\"T_2581b_level0_col8\" class=\"col_heading level0 col8\" >num_params</th>\n",
       "      <th id=\"T_2581b_level0_col9\" class=\"col_heading level0 col9\" >username</th>\n",
       "      <th id=\"T_2581b_level0_col10\" class=\"col_heading level0 col10\" >version</th>\n",
       "    </tr>\n",
       "  </thead>\n",
       "  <tbody>\n",
       "    <tr>\n",
       "      <th id=\"T_2581b_level0_row0\" class=\"row_heading level0 row0\" >0</th>\n",
       "      <td id=\"T_2581b_row0_col0\" class=\"data row0 col0\" >87.78%</td>\n",
       "      <td id=\"T_2581b_row0_col1\" class=\"data row0 col1\" >82.26%</td>\n",
       "      <td id=\"T_2581b_row0_col2\" class=\"data row0 col2\" >84.69%</td>\n",
       "      <td id=\"T_2581b_row0_col3\" class=\"data row0 col3\" >83.73%</td>\n",
       "      <td id=\"T_2581b_row0_col4\" class=\"data row0 col4\" >sklearn</td>\n",
       "      <td id=\"T_2581b_row0_col5\" class=\"data row0 col5\" >False</td>\n",
       "      <td id=\"T_2581b_row0_col6\" class=\"data row0 col6\" >False</td>\n",
       "      <td id=\"T_2581b_row0_col7\" class=\"data row0 col7\" >RandomForestClassifier</td>\n",
       "      <td id=\"T_2581b_row0_col8\" class=\"data row0 col8\" >nan</td>\n",
       "      <td id=\"T_2581b_row0_col9\" class=\"data row0 col9\" >Ind_Eng_Op_Rsrch</td>\n",
       "      <td id=\"T_2581b_row0_col10\" class=\"data row0 col10\" >4</td>\n",
       "    </tr>\n",
       "    <tr>\n",
       "      <th id=\"T_2581b_level0_row1\" class=\"row_heading level0 row1\" >1</th>\n",
       "      <td id=\"T_2581b_row1_col0\" class=\"data row1 col0\" >87.78%</td>\n",
       "      <td id=\"T_2581b_row1_col1\" class=\"data row1 col1\" >79.95%</td>\n",
       "      <td id=\"T_2581b_row1_col2\" class=\"data row1 col2\" >84.77%</td>\n",
       "      <td id=\"T_2581b_row1_col3\" class=\"data row1 col3\" >81.33%</td>\n",
       "      <td id=\"T_2581b_row1_col4\" class=\"data row1 col4\" >sklearn</td>\n",
       "      <td id=\"T_2581b_row1_col5\" class=\"data row1 col5\" >False</td>\n",
       "      <td id=\"T_2581b_row1_col6\" class=\"data row1 col6\" >False</td>\n",
       "      <td id=\"T_2581b_row1_col7\" class=\"data row1 col7\" >RandomForestClassifier</td>\n",
       "      <td id=\"T_2581b_row1_col8\" class=\"data row1 col8\" >nan</td>\n",
       "      <td id=\"T_2581b_row1_col9\" class=\"data row1 col9\" >Ind_Eng_Op_Rsrch</td>\n",
       "      <td id=\"T_2581b_row1_col10\" class=\"data row1 col10\" >2</td>\n",
       "    </tr>\n",
       "    <tr>\n",
       "      <th id=\"T_2581b_level0_row2\" class=\"row_heading level0 row2\" >2</th>\n",
       "      <td id=\"T_2581b_row2_col0\" class=\"data row2 col0\" >84.44%</td>\n",
       "      <td id=\"T_2581b_row2_col1\" class=\"data row2 col1\" >70.92%</td>\n",
       "      <td id=\"T_2581b_row2_col2\" class=\"data row2 col2\" >69.06%</td>\n",
       "      <td id=\"T_2581b_row2_col3\" class=\"data row2 col3\" >76.00%</td>\n",
       "      <td id=\"T_2581b_row2_col4\" class=\"data row2 col4\" >sklearn</td>\n",
       "      <td id=\"T_2581b_row2_col5\" class=\"data row2 col5\" >False</td>\n",
       "      <td id=\"T_2581b_row2_col6\" class=\"data row2 col6\" >False</td>\n",
       "      <td id=\"T_2581b_row2_col7\" class=\"data row2 col7\" >RandomForestClassifier</td>\n",
       "      <td id=\"T_2581b_row2_col8\" class=\"data row2 col8\" >nan</td>\n",
       "      <td id=\"T_2581b_row2_col9\" class=\"data row2 col9\" >Ind_Eng_Op_Rsrch</td>\n",
       "      <td id=\"T_2581b_row2_col10\" class=\"data row2 col10\" >1</td>\n",
       "    </tr>\n",
       "    <tr>\n",
       "      <th id=\"T_2581b_level0_row3\" class=\"row_heading level0 row3\" >3</th>\n",
       "      <td id=\"T_2581b_row3_col0\" class=\"data row3 col0\" >72.22%</td>\n",
       "      <td id=\"T_2581b_row3_col1\" class=\"data row3 col1\" >50.56%</td>\n",
       "      <td id=\"T_2581b_row3_col2\" class=\"data row3 col2\" >56.43%</td>\n",
       "      <td id=\"T_2581b_row3_col3\" class=\"data row3 col3\" >58.57%</td>\n",
       "      <td id=\"T_2581b_row3_col4\" class=\"data row3 col4\" >sklearn</td>\n",
       "      <td id=\"T_2581b_row3_col5\" class=\"data row3 col5\" >False</td>\n",
       "      <td id=\"T_2581b_row3_col6\" class=\"data row3 col6\" >False</td>\n",
       "      <td id=\"T_2581b_row3_col7\" class=\"data row3 col7\" >SVC</td>\n",
       "      <td id=\"T_2581b_row3_col8\" class=\"data row3 col8\" >693.000000</td>\n",
       "      <td id=\"T_2581b_row3_col9\" class=\"data row3 col9\" >Ind_Eng_Op_Rsrch</td>\n",
       "      <td id=\"T_2581b_row3_col10\" class=\"data row3 col10\" >3</td>\n",
       "    </tr>\n",
       "  </tbody>\n",
       "</table>\n"
      ],
      "text/plain": [
       "<pandas.io.formats.style.Styler at 0x7ff804994700>"
      ]
     },
     "execution_count": 22,
     "metadata": {},
     "output_type": "execute_result"
    }
   ],
   "source": [
    "# Get leaderboard\n",
    "\n",
    "data = mycompetition.get_leaderboard()\n",
    "mycompetition.stylize_leaderboard(data)"
   ]
  },
  {
   "cell_type": "code",
   "execution_count": 26,
   "metadata": {
    "colab": {
     "base_uri": "https://localhost:8080/",
     "height": 499
    },
    "id": "F3mn8q8y8nqC",
    "outputId": "c475f98d-3d2d-4e3f-a46f-046902eae134"
   },
   "outputs": [
    {
     "data": {
      "text/html": [
       "<style type=\"text/css\">\n",
       "#T_80cf7 caption {\n",
       "  color: black;\n",
       "  font-size: 18px;\n",
       "}\n",
       "#T_80cf7_row4_col2, #T_80cf7_row4_col3 {\n",
       "  background: tomato;\n",
       "}\n",
       "</style>\n",
       "<table id=\"T_80cf7\">\n",
       "  <caption>Model type: RandomForestClassifier</caption>\n",
       "  <thead>\n",
       "    <tr>\n",
       "      <th class=\"blank level0\" >&nbsp;</th>\n",
       "      <th id=\"T_80cf7_level0_col0\" class=\"col_heading level0 col0\" >param_name</th>\n",
       "      <th id=\"T_80cf7_level0_col1\" class=\"col_heading level0 col1\" >default_value</th>\n",
       "      <th id=\"T_80cf7_level0_col2\" class=\"col_heading level0 col2\" >model_version_2</th>\n",
       "      <th id=\"T_80cf7_level0_col3\" class=\"col_heading level0 col3\" >model_version_4</th>\n",
       "    </tr>\n",
       "  </thead>\n",
       "  <tbody>\n",
       "    <tr>\n",
       "      <th id=\"T_80cf7_level0_row0\" class=\"row_heading level0 row0\" >0</th>\n",
       "      <td id=\"T_80cf7_row0_col0\" class=\"data row0 col0\" >bootstrap</td>\n",
       "      <td id=\"T_80cf7_row0_col1\" class=\"data row0 col1\" >True</td>\n",
       "      <td id=\"T_80cf7_row0_col2\" class=\"data row0 col2\" >True</td>\n",
       "      <td id=\"T_80cf7_row0_col3\" class=\"data row0 col3\" >True</td>\n",
       "    </tr>\n",
       "    <tr>\n",
       "      <th id=\"T_80cf7_level0_row1\" class=\"row_heading level0 row1\" >1</th>\n",
       "      <td id=\"T_80cf7_row1_col0\" class=\"data row1 col0\" >ccp_alpha</td>\n",
       "      <td id=\"T_80cf7_row1_col1\" class=\"data row1 col1\" >0.000000</td>\n",
       "      <td id=\"T_80cf7_row1_col2\" class=\"data row1 col2\" >0.000000</td>\n",
       "      <td id=\"T_80cf7_row1_col3\" class=\"data row1 col3\" >0.000000</td>\n",
       "    </tr>\n",
       "    <tr>\n",
       "      <th id=\"T_80cf7_level0_row2\" class=\"row_heading level0 row2\" >2</th>\n",
       "      <td id=\"T_80cf7_row2_col0\" class=\"data row2 col0\" >class_weight</td>\n",
       "      <td id=\"T_80cf7_row2_col1\" class=\"data row2 col1\" >None</td>\n",
       "      <td id=\"T_80cf7_row2_col2\" class=\"data row2 col2\" >None</td>\n",
       "      <td id=\"T_80cf7_row2_col3\" class=\"data row2 col3\" >None</td>\n",
       "    </tr>\n",
       "    <tr>\n",
       "      <th id=\"T_80cf7_level0_row3\" class=\"row_heading level0 row3\" >3</th>\n",
       "      <td id=\"T_80cf7_row3_col0\" class=\"data row3 col0\" >criterion</td>\n",
       "      <td id=\"T_80cf7_row3_col1\" class=\"data row3 col1\" >gini</td>\n",
       "      <td id=\"T_80cf7_row3_col2\" class=\"data row3 col2\" >gini</td>\n",
       "      <td id=\"T_80cf7_row3_col3\" class=\"data row3 col3\" >gini</td>\n",
       "    </tr>\n",
       "    <tr>\n",
       "      <th id=\"T_80cf7_level0_row4\" class=\"row_heading level0 row4\" >4</th>\n",
       "      <td id=\"T_80cf7_row4_col0\" class=\"data row4 col0\" >max_depth</td>\n",
       "      <td id=\"T_80cf7_row4_col1\" class=\"data row4 col1\" >None</td>\n",
       "      <td id=\"T_80cf7_row4_col2\" class=\"data row4 col2\" >3</td>\n",
       "      <td id=\"T_80cf7_row4_col3\" class=\"data row4 col3\" >5</td>\n",
       "    </tr>\n",
       "    <tr>\n",
       "      <th id=\"T_80cf7_level0_row5\" class=\"row_heading level0 row5\" >5</th>\n",
       "      <td id=\"T_80cf7_row5_col0\" class=\"data row5 col0\" >max_features</td>\n",
       "      <td id=\"T_80cf7_row5_col1\" class=\"data row5 col1\" >sqrt</td>\n",
       "      <td id=\"T_80cf7_row5_col2\" class=\"data row5 col2\" >sqrt</td>\n",
       "      <td id=\"T_80cf7_row5_col3\" class=\"data row5 col3\" >sqrt</td>\n",
       "    </tr>\n",
       "    <tr>\n",
       "      <th id=\"T_80cf7_level0_row6\" class=\"row_heading level0 row6\" >6</th>\n",
       "      <td id=\"T_80cf7_row6_col0\" class=\"data row6 col0\" >max_leaf_nodes</td>\n",
       "      <td id=\"T_80cf7_row6_col1\" class=\"data row6 col1\" >None</td>\n",
       "      <td id=\"T_80cf7_row6_col2\" class=\"data row6 col2\" >None</td>\n",
       "      <td id=\"T_80cf7_row6_col3\" class=\"data row6 col3\" >None</td>\n",
       "    </tr>\n",
       "    <tr>\n",
       "      <th id=\"T_80cf7_level0_row7\" class=\"row_heading level0 row7\" >7</th>\n",
       "      <td id=\"T_80cf7_row7_col0\" class=\"data row7 col0\" >max_samples</td>\n",
       "      <td id=\"T_80cf7_row7_col1\" class=\"data row7 col1\" >None</td>\n",
       "      <td id=\"T_80cf7_row7_col2\" class=\"data row7 col2\" >None</td>\n",
       "      <td id=\"T_80cf7_row7_col3\" class=\"data row7 col3\" >None</td>\n",
       "    </tr>\n",
       "    <tr>\n",
       "      <th id=\"T_80cf7_level0_row8\" class=\"row_heading level0 row8\" >8</th>\n",
       "      <td id=\"T_80cf7_row8_col0\" class=\"data row8 col0\" >min_impurity_decrease</td>\n",
       "      <td id=\"T_80cf7_row8_col1\" class=\"data row8 col1\" >0.000000</td>\n",
       "      <td id=\"T_80cf7_row8_col2\" class=\"data row8 col2\" >0.000000</td>\n",
       "      <td id=\"T_80cf7_row8_col3\" class=\"data row8 col3\" >0.000000</td>\n",
       "    </tr>\n",
       "    <tr>\n",
       "      <th id=\"T_80cf7_level0_row9\" class=\"row_heading level0 row9\" >9</th>\n",
       "      <td id=\"T_80cf7_row9_col0\" class=\"data row9 col0\" >min_samples_leaf</td>\n",
       "      <td id=\"T_80cf7_row9_col1\" class=\"data row9 col1\" >1</td>\n",
       "      <td id=\"T_80cf7_row9_col2\" class=\"data row9 col2\" >1</td>\n",
       "      <td id=\"T_80cf7_row9_col3\" class=\"data row9 col3\" >1</td>\n",
       "    </tr>\n",
       "    <tr>\n",
       "      <th id=\"T_80cf7_level0_row10\" class=\"row_heading level0 row10\" >10</th>\n",
       "      <td id=\"T_80cf7_row10_col0\" class=\"data row10 col0\" >min_samples_split</td>\n",
       "      <td id=\"T_80cf7_row10_col1\" class=\"data row10 col1\" >2</td>\n",
       "      <td id=\"T_80cf7_row10_col2\" class=\"data row10 col2\" >2</td>\n",
       "      <td id=\"T_80cf7_row10_col3\" class=\"data row10 col3\" >2</td>\n",
       "    </tr>\n",
       "    <tr>\n",
       "      <th id=\"T_80cf7_level0_row11\" class=\"row_heading level0 row11\" >11</th>\n",
       "      <td id=\"T_80cf7_row11_col0\" class=\"data row11 col0\" >min_weight_fraction_leaf</td>\n",
       "      <td id=\"T_80cf7_row11_col1\" class=\"data row11 col1\" >0.000000</td>\n",
       "      <td id=\"T_80cf7_row11_col2\" class=\"data row11 col2\" >0.000000</td>\n",
       "      <td id=\"T_80cf7_row11_col3\" class=\"data row11 col3\" >0.000000</td>\n",
       "    </tr>\n",
       "    <tr>\n",
       "      <th id=\"T_80cf7_level0_row12\" class=\"row_heading level0 row12\" >12</th>\n",
       "      <td id=\"T_80cf7_row12_col0\" class=\"data row12 col0\" >n_estimators</td>\n",
       "      <td id=\"T_80cf7_row12_col1\" class=\"data row12 col1\" >100</td>\n",
       "      <td id=\"T_80cf7_row12_col2\" class=\"data row12 col2\" >100</td>\n",
       "      <td id=\"T_80cf7_row12_col3\" class=\"data row12 col3\" >100</td>\n",
       "    </tr>\n",
       "    <tr>\n",
       "      <th id=\"T_80cf7_level0_row13\" class=\"row_heading level0 row13\" >13</th>\n",
       "      <td id=\"T_80cf7_row13_col0\" class=\"data row13 col0\" >n_jobs</td>\n",
       "      <td id=\"T_80cf7_row13_col1\" class=\"data row13 col1\" >None</td>\n",
       "      <td id=\"T_80cf7_row13_col2\" class=\"data row13 col2\" >None</td>\n",
       "      <td id=\"T_80cf7_row13_col3\" class=\"data row13 col3\" >None</td>\n",
       "    </tr>\n",
       "    <tr>\n",
       "      <th id=\"T_80cf7_level0_row14\" class=\"row_heading level0 row14\" >14</th>\n",
       "      <td id=\"T_80cf7_row14_col0\" class=\"data row14 col0\" >oob_score</td>\n",
       "      <td id=\"T_80cf7_row14_col1\" class=\"data row14 col1\" >False</td>\n",
       "      <td id=\"T_80cf7_row14_col2\" class=\"data row14 col2\" >False</td>\n",
       "      <td id=\"T_80cf7_row14_col3\" class=\"data row14 col3\" >False</td>\n",
       "    </tr>\n",
       "    <tr>\n",
       "      <th id=\"T_80cf7_level0_row15\" class=\"row_heading level0 row15\" >15</th>\n",
       "      <td id=\"T_80cf7_row15_col0\" class=\"data row15 col0\" >random_state</td>\n",
       "      <td id=\"T_80cf7_row15_col1\" class=\"data row15 col1\" >None</td>\n",
       "      <td id=\"T_80cf7_row15_col2\" class=\"data row15 col2\" >None</td>\n",
       "      <td id=\"T_80cf7_row15_col3\" class=\"data row15 col3\" >None</td>\n",
       "    </tr>\n",
       "    <tr>\n",
       "      <th id=\"T_80cf7_level0_row16\" class=\"row_heading level0 row16\" >16</th>\n",
       "      <td id=\"T_80cf7_row16_col0\" class=\"data row16 col0\" >verbose</td>\n",
       "      <td id=\"T_80cf7_row16_col1\" class=\"data row16 col1\" >0</td>\n",
       "      <td id=\"T_80cf7_row16_col2\" class=\"data row16 col2\" >0</td>\n",
       "      <td id=\"T_80cf7_row16_col3\" class=\"data row16 col3\" >0</td>\n",
       "    </tr>\n",
       "    <tr>\n",
       "      <th id=\"T_80cf7_level0_row17\" class=\"row_heading level0 row17\" >17</th>\n",
       "      <td id=\"T_80cf7_row17_col0\" class=\"data row17 col0\" >warm_start</td>\n",
       "      <td id=\"T_80cf7_row17_col1\" class=\"data row17 col1\" >False</td>\n",
       "      <td id=\"T_80cf7_row17_col2\" class=\"data row17 col2\" >False</td>\n",
       "      <td id=\"T_80cf7_row17_col3\" class=\"data row17 col3\" >False</td>\n",
       "    </tr>\n",
       "  </tbody>\n",
       "</table>\n"
      ],
      "text/plain": [
       "<IPython.core.display.HTML object>"
      ]
     },
     "metadata": {},
     "output_type": "display_data"
    },
    {
     "name": "stdout",
     "output_type": "stream",
     "text": [
      "\n",
      "\n",
      "\n"
     ]
    }
   ],
   "source": [
    "# Compare two or more models\n",
    "data=mycompetition.compare_models([2,4], verbose=1)\n",
    "mycompetition.stylize_compare(data)"
   ]
  },
  {
   "cell_type": "code",
   "execution_count": null,
   "metadata": {
    "id": "tukB40NshcaB"
   },
   "outputs": [],
   "source": [
    "# Here are several classic ML architectures you can consider choosing from to experiment with next:\n",
    "from sklearn.neighbors import KNeighborsClassifier\n",
    "from sklearn.svm import SVC\n",
    "from sklearn.ensemble import RandomForestClassifier\n",
    "from sklearn.tree import DecisionTreeRegressor\n",
    "from sklearn.ensemble import BaggingClassifier\n",
    "from sklearn.ensemble import GradientBoostingClassifier\n",
    "\n",
    "#Example code to fit model:\n",
    "model = GradientBoostingClassifier(n_estimators=50, learning_rate=.01,\n",
    "    max_depth=1, random_state=0).fit(preprocessor(X_train), y_train_labels)\n",
    "model.score(preprocessor(X_train), y_train_labels)\n",
    "\n",
    "# Save sklearn model to local ONNX file\n",
    "from aimodelshare.aimsonnx import model_to_onnx\n",
    "\n",
    "feature_count=preprocessor(X_test).shape[1] #Get count of preprocessed features\n",
    "initial_type = [('float_input', FloatTensorType([None, feature_count]))]  # Insert correct number of preprocessed features\n",
    "\n",
    "onnx_model = model_to_onnx(model, framework='sklearn',\n",
    "                          initial_types=initial_type,\n",
    "                          transfer_learning=False,\n",
    "                          deep_learning=False)\n",
    "\n",
    "with open(\"model.onnx\", \"wb\") as f:\n",
    "    f.write(onnx_model.SerializeToString())\n",
    "\n",
    "#-- Generate predicted values (a list of predicted labels \"real\" or \"fake\")\n",
    "prediction_labels = model.predict(preprocessor(X_test))\n",
    "\n",
    "# Submit model to Competition Leaderboard\n",
    "mycompetition.submit_model(model_filepath = \"model.onnx\",\n",
    "                                 preprocessor_filepath=\"preprocessor.zip\",\n",
    "                                 prediction_submission=prediction_labels)\n"
   ]
  }
 ],
 "metadata": {
  "colab": {
   "provenance": []
  },
  "kernelspec": {
   "display_name": "Python 3 (ipykernel)",
   "language": "python",
   "name": "python3"
  },
  "language_info": {
   "codemirror_mode": {
    "name": "ipython",
    "version": 3
   },
   "file_extension": ".py",
   "mimetype": "text/x-python",
   "name": "python",
   "nbconvert_exporter": "python",
   "pygments_lexer": "ipython3",
   "version": "3.10.9"
  }
 },
 "nbformat": 4,
 "nbformat_minor": 1
}
