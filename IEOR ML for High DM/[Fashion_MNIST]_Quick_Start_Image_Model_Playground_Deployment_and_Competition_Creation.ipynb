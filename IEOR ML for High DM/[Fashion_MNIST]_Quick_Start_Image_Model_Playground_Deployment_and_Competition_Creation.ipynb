{
  "nbformat": 4,
  "nbformat_minor": 0,
  "metadata": {
    "accelerator": "GPU",
    "colab": {
      "provenance": [],
      "collapsed_sections": []
    },
    "kernelspec": {
      "display_name": "Python 3",
      "language": "python",
      "name": "python3"
    },
    "language_info": {
      "codemirror_mode": {
        "name": "ipython",
        "version": 3
      },
      "file_extension": ".py",
      "mimetype": "text/x-python",
      "name": "python",
      "nbconvert_exporter": "python",
      "pygments_lexer": "ipython3",
      "version": "3.7.5"
    }
  },
  "cells": [
    {
      "cell_type": "markdown",
      "metadata": {
        "id": "0BviI4QIdWiq"
      },
      "source": [
        "<p align=\"center\"><img width=\"50%\" src=\"https://aimodelsharecontent.s3.amazonaws.com/aimodshare_banner.jpg\" /></p>\n",
        "\n",
        "\n",
        "---\n",
        "\n",
        "\n"
      ]
    },
    {
      "cell_type": "markdown",
      "metadata": {
        "id": "gYNp684Tk3tb"
      },
      "source": [
        "<p align=\"center\"><h1 align=\"center\">Quick Start: Fashion-MNIST Image Classification Tutorial</h1> \n",
        "\n",
        "---\n",
        "\n",
        "<h3 align=\"center\">(Deploy model to an AI Model Share Model Playground REST API<br> and Web Dashboard in five easy steps...)</h3></p>\n",
        "<p align=\"center\"><img width=\"100%\" src=\"https://aimodelsharecontent.s3.amazonaws.com/aimstutorialsteps.gif\" /></p>\n",
        "\n",
        "\n",
        "---\n",
        "\n"
      ]
    },
    {
      "cell_type": "markdown",
      "metadata": {
        "id": "0PhJ-XlGazpD"
      },
      "source": [
        "## **Credential Configuration**\n",
        "\n",
        "In order to deploy an AI Model Share Model Playground, you will need a credentials text file. \n",
        "\n",
        "Generating your credentials file requires two sets of information: \n",
        "1. Your AI Model Share username and password (create them [HERE](https://www.modelshare.org/login)). \n",
        "2. Your AWS (Amazon Web Services) access keys (follow the tutorial [HERE](https://docs.aws.amazon.com/general/latest/gr/aws-sec-cred-types.html)). \n",
        "\n",
        "You only need to generate your credentials file once. After running the configure function below, save the outputted file for all your future Model Playground deployments and competition submissions. \n",
        "\n",
        "*Note: Handle your credentials file with the same level of security you handle your passwords. Do not share your file with anyone, send via email, or upload to Github.*\n"
      ]
    },
    {
      "cell_type": "code",
      "metadata": {
        "id": "puVzQBHyhS2Z"
      },
      "source": [
        "#install aimodelshare library\n",
        "! pip install aimodelshare --upgrade"
      ],
      "execution_count": null,
      "outputs": []
    },
    {
      "cell_type": "code",
      "metadata": {
        "id": "4Q7MCqBLcS20"
      },
      "source": [
        "# Generate credentials file\n",
        "import aimodelshare as ai \n",
        "from aimodelshare.aws import configure_credentials \n",
        "\n",
        "configure_credentials()"
      ],
      "execution_count": null,
      "outputs": []
    },
    {
      "cell_type": "markdown",
      "metadata": {
        "id": "VliTV_HH-uz4"
      },
      "source": [
        "## **Set up Environment**\n",
        "\n",
        "Use your credentials file to set your credentials for all aimodelshare functions. "
      ]
    },
    {
      "cell_type": "code",
      "metadata": {
        "colab": {
          "base_uri": "https://localhost:8080/"
        },
        "id": "2u1QKNfEyN9A",
        "outputId": "3d614681-639e-4673-a498-2ed39b20e178"
      },
      "source": [
        "# Set credentials \n",
        "import aimodelshare as ai\n",
        "from aimodelshare.aws import set_credentials\n",
        "\n",
        "set_credentials(credential_file=\"credentials.txt\", type=\"deploy_model\")"
      ],
      "execution_count": 2,
      "outputs": [
        {
          "output_type": "stream",
          "name": "stdout",
          "text": [
            "AI Model Share login credentials set successfully.\n",
            "AWS credentials set successfully.\n"
          ]
        }
      ]
    },
    {
      "cell_type": "code",
      "metadata": {
        "colab": {
          "base_uri": "https://localhost:8080/"
        },
        "id": "PwQcTsyyURIk",
        "outputId": "805d7f87-fa1d-4af7-d029-5dae37240ae2"
      },
      "source": [
        "# Get materials for tutorial\n",
        "import aimodelshare as ai\n",
        "keras_model, y_train_labels = ai.import_quickstart_data(\"mnist\")"
      ],
      "execution_count": 3,
      "outputs": [
        {
          "output_type": "stream",
          "name": "stdout",
          "text": [
            "Downloading [============================================>    ]\n",
            "\n",
            "Data downloaded successfully.\n",
            "\n",
            "Preparing downloaded files for use...\n",
            "\n",
            "Success! Your Quick Start materials have been downloaded. \n",
            "You are now ready to run the tutorial.\n"
          ]
        }
      ]
    },
    {
      "cell_type": "markdown",
      "metadata": {
        "id": "bIleM1F6nWSF"
      },
      "source": [
        "## **(1) Preprocessor Function & Setup**"
      ]
    },
    {
      "cell_type": "markdown",
      "metadata": {
        "id": "WrEgo5zRxbed"
      },
      "source": [
        "### **Write a Preprocessor Function**\n",
        "\n",
        "\n",
        "> ###   Preprocessor functions are used to preprocess data into the precise data your model requires to generate predictions.  \n",
        "\n",
        "*  *Preprocessor functions should always be named \"preprocessor\".*\n",
        "*  *You can use any Python library in a preprocessor function, but all libraries should be imported inside your preprocessor function.*  \n",
        "*  *For image prediction models users should minimally include function inputs for an image filepath and values to reshape the image height and width.*  \n",
        "\n"
      ]
    },
    {
      "cell_type": "code",
      "metadata": {
        "id": "B5Jz-1cmYN5Z"
      },
      "source": [
        "# Here is a pre-designed preprocessor, but you could also build your own to prepare the data differently\n",
        "\n",
        "def preprocessor(image_filepath, shape=(28, 28)):\n",
        "        \"\"\"\n",
        "        This function reads in images, resizes them to a fixed shape and\n",
        "        min/max transforms them before converting feature values to float32 numeric values\n",
        "        required by onnx files.\n",
        "        \n",
        "        params:\n",
        "            image_filepath\n",
        "                full filepath of a particular image\n",
        "                      \n",
        "        returns:\n",
        "            X\n",
        "                numpy array of preprocessed image data\n",
        "        \"\"\"\n",
        "           \n",
        "        import cv2\n",
        "        import numpy as np\n",
        "\n",
        "        \"Resize a color image and min/max transform the image\"\n",
        "        img = cv2.imread(image_filepath) # Read in image from filepath.\n",
        "        img = cv2.cvtColor(img, cv2.COLOR_BGR2RGB) # cv2 reads in images in order of blue green and red, we reverse the order for ML.\n",
        "        img = cv2.resize(img, shape) # Change height and width of image.\n",
        "        img = img / 255.0 # Min-max transform.\n",
        "\n",
        "        # Resize all the images...\n",
        "        X = np.array(img)\n",
        "        X = np.expand_dims(X, axis=0) # Expand dims to add \"1\" to object shape [1, h, w, channels] for keras model.\n",
        "        X = np.array(X, dtype=np.float32) # Final shape for onnx runtime.\n",
        "        return X"
      ],
      "execution_count": 4,
      "outputs": []
    },
    {
      "cell_type": "markdown",
      "metadata": {
        "id": "xJlhd6jvns0b"
      },
      "source": [
        "## **(2) Train Model Using tf.keras (or Your Preferred ML Library)**"
      ]
    },
    {
      "cell_type": "markdown",
      "metadata": {
        "id": "fP7ZIVKe3luZ"
      },
      "source": [
        "### **We already loaded a Keras Model in the quickstart function above**"
      ]
    },
    {
      "cell_type": "code",
      "metadata": {
        "colab": {
          "base_uri": "https://localhost:8080/"
        },
        "id": "Tnrmg_aO230E",
        "outputId": "18f0ad83-9ef6-42e9-e974-cbb64306785d"
      },
      "source": [
        "#Here is a pre-trained keras_model, but you could also train your own model after preprocessing data with your preprocessor function.\n",
        "keras_model.summary()"
      ],
      "execution_count": 5,
      "outputs": [
        {
          "output_type": "stream",
          "name": "stdout",
          "text": [
            "Model: \"sequential\"\n",
            "_________________________________________________________________\n",
            " Layer (type)                Output Shape              Param #   \n",
            "=================================================================\n",
            " flatten (Flatten)           (None, 2352)              0         \n",
            "                                                                 \n",
            " dense (Dense)               (None, 128)               301184    \n",
            "                                                                 \n",
            " dense_1 (Dense)             (None, 10)                1290      \n",
            "                                                                 \n",
            "=================================================================\n",
            "Total params: 302,474\n",
            "Trainable params: 302,474\n",
            "Non-trainable params: 0\n",
            "_________________________________________________________________\n"
          ]
        }
      ]
    },
    {
      "cell_type": "markdown",
      "metadata": {
        "id": "FZGlu5PMWbNO"
      },
      "source": [
        "## **(3) Save Preprocessor**\n",
        "### Saves preprocessor function to \"preprocessor.zip\" file"
      ]
    },
    {
      "cell_type": "code",
      "metadata": {
        "colab": {
          "base_uri": "https://localhost:8080/"
        },
        "id": "Wh_vkwblXx7r",
        "outputId": "f1cf59ce-b3ee-4eb7-beb2-b4189f135f04"
      },
      "source": [
        "import aimodelshare as ai\n",
        "ai.export_preprocessor(preprocessor,\"\") "
      ],
      "execution_count": 6,
      "outputs": [
        {
          "output_type": "stream",
          "name": "stdout",
          "text": [
            "Your preprocessor is now saved to 'preprocessor.zip'\n"
          ]
        }
      ]
    },
    {
      "cell_type": "code",
      "metadata": {
        "colab": {
          "base_uri": "https://localhost:8080/"
        },
        "id": "b58rg4pMMn4n",
        "outputId": "62cba338-3c5c-4915-c186-63a24ed47df8"
      },
      "source": [
        "#  Now let's import and test the preprocessor function to see if it is working...\n",
        "\n",
        "import aimodelshare as ai\n",
        "prep=ai.import_preprocessor(\"preprocessor.zip\")\n",
        "\n",
        "prep(\"fashion_mnist_quickstart_materials/example_data/train_1.jpeg\").shape"
      ],
      "execution_count": 7,
      "outputs": [
        {
          "output_type": "execute_result",
          "data": {
            "text/plain": [
              "(1, 28, 28, 3)"
            ]
          },
          "metadata": {},
          "execution_count": 7
        }
      ]
    },
    {
      "cell_type": "markdown",
      "metadata": {
        "id": "CdQOeF2J3PCv"
      },
      "source": [
        "## **(4) Save Keras Model to ONNX File Format**\n"
      ]
    },
    {
      "cell_type": "code",
      "metadata": {
        "id": "r8fgi8f6qkbk"
      },
      "source": [
        "# Save tf.keras model to local ONNX file\n",
        "from aimodelshare.aimsonnx import model_to_onnx\n",
        "\n",
        "onnx_model = model_to_onnx(keras_model, framework='keras',\n",
        "                          transfer_learning=False,\n",
        "                          deep_learning=True)\n",
        "\n",
        "with open(\"model.onnx\", \"wb\") as f:\n",
        "    f.write(onnx_model.SerializeToString())"
      ],
      "execution_count": 8,
      "outputs": []
    },
    {
      "cell_type": "markdown",
      "metadata": {
        "id": "1swt74XQUIFh"
      },
      "source": [
        "## **(5) Create your Model Playground**"
      ]
    },
    {
      "cell_type": "code",
      "source": [
        "# Create one hot encoded data from list of y_train category labels\n",
        "#...to allow modeltoapi() to extract correct labels for predictions in your deployed API\n",
        "import pandas as pd\n",
        "y_train = pd.get_dummies(y_train_labels)\n",
        "\n",
        "#ensure column names are correct in one hot encoded target for correct label extraction\n",
        "list(y_train.columns)"
      ],
      "metadata": {
        "colab": {
          "base_uri": "https://localhost:8080/"
        },
        "id": "CR2M1xjwvHl3",
        "outputId": "813255e1-a686-4eab-ebcd-15a47be368d1"
      },
      "execution_count": 9,
      "outputs": [
        {
          "output_type": "execute_result",
          "data": {
            "text/plain": [
              "['Ankle boot',\n",
              " 'Bag',\n",
              " 'Coat',\n",
              " 'Dress',\n",
              " 'Pullover',\n",
              " 'Sandal',\n",
              " 'Shirt',\n",
              " 'Sneaker',\n",
              " 'T-shirt/top',\n",
              " 'Trouser']"
            ]
          },
          "metadata": {},
          "execution_count": 9
        }
      ]
    },
    {
      "cell_type": "code",
      "metadata": {
        "id": "Y-YKEcvDNmD3"
      },
      "source": [
        "#Set up arguments for Model Playground deployment\n",
        "import pandas as pd \n",
        "\n",
        "model_filepath=\"model.onnx\"\n",
        "preprocessor_filepath=\"preprocessor.zip\"\n",
        "exampledata_filepath = \"fashion_mnist_quickstart_materials/example_data\" "
      ],
      "execution_count": 10,
      "outputs": []
    },
    {
      "cell_type": "code",
      "metadata": {
        "colab": {
          "base_uri": "https://localhost:8080/"
        },
        "id": "T8C6IlYTFN5t",
        "outputId": "4fa7c16b-c976-44ae-96a4-6a827e77df26"
      },
      "source": [
        "from aimodelshare import ModelPlayground\n",
        "\n",
        "#Instantiate ModelPlayground() Class\n",
        "\n",
        "myplayground=ModelPlayground(model_type=\"image\", classification=True, private=False)\n",
        "\n",
        "# Create Model Playground (generates live rest api and web-app for your model/preprocessor)\n",
        "\n",
        "myplayground.deploy(model_filepath, preprocessor_filepath, y_train, exampledata_filepath) "
      ],
      "execution_count": 11,
      "outputs": [
        {
          "output_type": "stream",
          "name": "stdout",
          "text": [
            "We need some information about your model before we can build your REST API and interactive Model Playground.\n",
            "   \n",
            "Model Name (for AI Model Share Website):Fashion MNIST Image Classifier - IEOR ML and High Dimensional Data\n",
            "Model Description (Explain what your model does and \n",
            " why end-users would find your model useful):An updated version of the iconic handwritten digits MNIST dataset. Fashion-MNIST is a dataset of Zalando's article images—consisting of a training set of 60,000 examples and a test set of 10,000 examples. Each example is a 28x28 grayscale image, associated with a label from one of 10 classes.\n",
            "Model Key Words (Search categories that describe your model, separated with commas):fashion mnist, image, classification\n",
            "   \n",
            "Creating your prediction API. (This process may take several minutes.)\n",
            "\n",
            "[=====================================] Progress: 100% - Complete!                                            \n",
            "\n",
            "Success! Your Model Playground was created in 79 seconds. \n",
            " Playground Url: \"https://szt7tyey3d.execute-api.us-east-1.amazonaws.com/prod/m\"\n",
            "\n",
            "You can now use your Model Playground.\n",
            "\n",
            "Follow this link to explore your Model Playground's functionality\n",
            "You can make predictions with the Dashboard and access example code from the Programmatic tab.\n",
            "https://www.modelshare.org/detail/model:2399\n"
          ]
        }
      ]
    },
    {
      "cell_type": "code",
      "source": [
        "from aimodelshare import ModelPlayground\n",
        "\n",
        "myplayground = ModelPlayground(playground_url=\"https://szt7tyey3d.execute-api.us-east-1.amazonaws.com/prod/m\")"
      ],
      "metadata": {
        "id": "Te8I3jUki7MX"
      },
      "execution_count": 13,
      "outputs": []
    },
    {
      "cell_type": "markdown",
      "metadata": {
        "id": "Eb9dfUFHhLr-"
      },
      "source": [
        "## **Use your new Model Playground!**\n",
        "\n",
        "Follow the link in the output above to:\n",
        "- Generate predictions with your interactive web dashboard\n",
        "- Access example code in Python, R, and Curl\n",
        "\n",
        "Or, follow the rest of the tutorial to create a competition for your Model Playground and: \n",
        "- Access verified model performance metrics \n",
        "- Upload multiple models to a leaderboard \n",
        "- Easily compare model performance & structure "
      ]
    },
    {
      "cell_type": "markdown",
      "metadata": {
        "id": "9YpyLkQNfqSI"
      },
      "source": [
        "## **Part 2: Create a Competition**\n",
        "\n",
        "-------\n",
        "\n",
        "After deploying your Model Playground, you can now create a competition. \n",
        "\n",
        "Creating a competition allows you to:\n",
        "1. Verify the model performance metrics on aimodelshare.org\n",
        "2. Submit models to a leaderboard\n",
        "3. Grant access to other users to submit models to the leaderboard\n",
        "4. Easily compare model performance and structure "
      ]
    },
    {
      "cell_type": "code",
      "metadata": {
        "colab": {
          "base_uri": "https://localhost:8080/"
        },
        "id": "pmklVtx1dFXB",
        "outputId": "015f14a3-abf0-49d6-e0d5-3189b1eb7678"
      },
      "source": [
        "#Download competition image data and a list of y_test labels to use to evaluate model prediction submissions\n",
        "import aimodelshare as ai\n",
        "keras_model_2, y_test_labels = ai.import_quickstart_data(\"mnist\", \"competition\")"
      ],
      "execution_count": 14,
      "outputs": [
        {
          "output_type": "stream",
          "name": "stdout",
          "text": [
            "Downloading [================================================>]\n",
            "\n",
            "Data downloaded successfully.\n",
            "\n",
            "Preparing downloaded files for use...\n",
            "\n",
            "Success! Your Quick Start materials have been downloaded. \n",
            "You are now ready to run the tutorial.\n"
          ]
        }
      ]
    },
    {
      "cell_type": "code",
      "metadata": {
        "id": "Zr_aNRhhDJAM"
      },
      "source": [
        "# OPTIONAL - Create list of authorized participants for competition\n",
        "# Note that participants should use the same email address when creating modelshare.org account\n",
        "\n",
        "emaillist=[\"emailaddress1@email.com\", \"emailaddress2@email.com\", \"emailaddress3@email.com\"]"
      ],
      "execution_count": null,
      "outputs": []
    },
    {
      "cell_type": "code",
      "metadata": {
        "colab": {
          "base_uri": "https://localhost:8080/"
        },
        "id": "o2nKrLAMgc9o",
        "outputId": "5f5438a9-7c1c-4db5-8e1f-48ff26e5d862"
      },
      "source": [
        "# Create Competition\n",
        "# Note -- Make competition public (allow any AI Model Share user to submit models) \n",
        "# .... by excluding the email_list argument and including the 'public=True' argument \n",
        "\n",
        "myplayground.create_competition(data_directory='fashion_mnist_competition_data', \n",
        "                                y_test = y_test_labels, \n",
        "                              #  email_list=emaillist)\n",
        "                                public = True)"
      ],
      "execution_count": 15,
      "outputs": [
        {
          "output_type": "stream",
          "name": "stdout",
          "text": [
            "\n",
            "--INPUT COMPETITION DETAILS--\n",
            "\n",
            "Enter competition name:Fashion MNIST Image Competiton - IEOR ML and High Dimensional Data\n",
            "Enter competition description:This is the image classification competition for the Industrial Engineering and Operations Research Classes for Machine Learning and High Dimensional Data. \n",
            "\n",
            "--INPUT DATA DETAILS--\n",
            "\n",
            "Note: (optional) Save an optional LICENSE.txt file in your competition data directory to make users aware of any restrictions on data sharing/usage.\n",
            "\n",
            "Enter data description (i.e.- filenames denoting training and test data, file types, and any subfolders where files are stored):Data is labeled and stored in competition folder.\n",
            "Enter optional data license descriptive name (e.g.- 'MIT, Apache 2.0, CC0, Other, etc.'):\n",
            "Uploading your data. Please wait for a confirmation message.\n",
            "\n",
            " Success! Model competition created. \n",
            "\n",
            "You may now update your prediction API runtime model and verify evaluation metrics with the update_runtime_model() function.\n",
            "\n",
            "To upload new models and/or preprocessors to this API, team members should use \n",
            "the following credentials:\n",
            "\n",
            "apiurl='https://szt7tyey3d.execute-api.us-east-1.amazonaws.com/prod/m'\n",
            "from aimodelshare.aws import set_credentials\n",
            "set_credentials(apiurl=apiurl)\n",
            "\n",
            "They can then submit models to your competition by using the following code: \n",
            "\n",
            "competition= ai.Competition(apiurl)\n",
            "download_data('public.ecr.aws/y2e2a1d6/fashion_mnist_competition_data-repository:latest') \n",
            "# Use this data to preprocess data and train model. Write and save preprocessor fxn, save model to onnx file, generate predicted y values\n",
            " using X test data, then submit a model below.\n",
            "\n",
            "competition.submit_model(model_filepath, preprocessor_filepath, prediction_submission_list)\n"
          ]
        }
      ]
    },
    {
      "cell_type": "code",
      "metadata": {
        "id": "SAJJWhdAfyo5"
      },
      "source": [
        "#Instantiate Competition\n",
        "#--Note: If you start a new session, the first argument should be the Model Playground url in quotes. \n",
        "#--e.g.- mycompetition= ai.Competition(\"https://2121212.execute-api.us-east-1.amazonaws.com/prod/m)\n",
        "#See Model Playground \"Compete\" tab for example model submission code.\n",
        "\n",
        "mycompetition= ai.Competition(myplayground.playground_url)"
      ],
      "execution_count": 16,
      "outputs": []
    },
    {
      "cell_type": "code",
      "metadata": {
        "id": "q6Rfl0VwDPz2"
      },
      "source": [
        "# OPTIONAL - Add, remove, or completely update authorized participants for competition later\n",
        "emaillist=[\"emailaddress4@gmail.com\"]\n",
        "\n",
        "mycompetition.update_access_list(email_list=emaillist,update_type=\"Add\")"
      ],
      "execution_count": null,
      "outputs": []
    },
    {
      "cell_type": "markdown",
      "metadata": {
        "id": "mqyzWZPwgoEH"
      },
      "source": [
        "Submit Models"
      ]
    },
    {
      "cell_type": "code",
      "metadata": {
        "id": "BTR-QETYdwbZ"
      },
      "source": [
        "# Preprocess X_test image data to generate predictions from models \n",
        "import numpy as np\n",
        "\n",
        "file_names = [('fashion_mnist_competition_data/test_data/test_' + str(i) + '.jpeg') for i in range(10000)]\n",
        "\n",
        "preprocessed_image_data = [preprocessor(x) for x in file_names]\n",
        "\n",
        "#Create single X_test array from preprocessed images\n",
        "X_test = np.vstack(preprocessed_image_data) \n",
        "\n",
        "# One-hot encode y_train labels (y_train.columns used to generate prediction labels below)\n",
        "import pandas as pd\n",
        "y_train = pd.get_dummies(y_train_labels)"
      ],
      "execution_count": 17,
      "outputs": []
    },
    {
      "cell_type": "code",
      "metadata": {
        "id": "sJgu9K92DS8O",
        "colab": {
          "base_uri": "https://localhost:8080/"
        },
        "outputId": "88297bd1-3c94-44f1-b56b-ec5ae6ae4f3d"
      },
      "source": [
        "#Authorized users can submit new models after setting credentials using modelshare.org username/password\n",
        "from aimodelshare.aws import set_credentials\n",
        "\n",
        "apiurl=myplayground.playground_url # example url from deployed playground: apiurl= \"https://123456.execute-api.us-east-1.amazonaws.com/prod/m\n",
        "set_credentials(apiurl=apiurl)"
      ],
      "execution_count": 18,
      "outputs": [
        {
          "output_type": "stream",
          "name": "stdout",
          "text": [
            "AI Modelshare Username:··········\n",
            "AI Modelshare Password:··········\n",
            "AI Model Share login credentials set successfully.\n"
          ]
        }
      ]
    },
    {
      "cell_type": "code",
      "metadata": {
        "colab": {
          "base_uri": "https://localhost:8080/"
        },
        "id": "pJC2jl2PgfTf",
        "outputId": "cef5ba2c-8f96-4e3c-d4d8-7df3676a0995"
      },
      "source": [
        "#Submit Model 1: \n",
        "\n",
        "#-- Generate predicted y values (Model 1)\n",
        "#Note: Keras predict returns the predicted column index location for classification models\n",
        "prediction_column_index=keras_model.predict(X_test).argmax(axis=1)\n",
        "\n",
        "# extract correct prediction labels \n",
        "prediction_labels = [y_train.columns[i] for i in prediction_column_index]\n",
        "\n",
        "# Submit Model 1 to Competition Leaderboard\n",
        "mycompetition.submit_model(model_filepath = \"model.onnx\",\n",
        "                                 preprocessor_filepath=\"preprocessor.zip\",\n",
        "                                 prediction_submission=prediction_labels)"
      ],
      "execution_count": 19,
      "outputs": [
        {
          "output_type": "stream",
          "name": "stdout",
          "text": [
            "313/313 [==============================] - 3s 3ms/step\n",
            "Insert search tags to help users find your model (optional): \n",
            "Provide any useful notes about your model (optional): \n",
            "\n",
            "Your model has been submitted as model version 1\n",
            "\n",
            "\n"
          ]
        }
      ]
    },
    {
      "cell_type": "code",
      "metadata": {
        "colab": {
          "base_uri": "https://localhost:8080/"
        },
        "id": "hpzXNVPTop-O",
        "outputId": "9cec4729-0c06-4d4a-80ba-19b107caf31c"
      },
      "source": [
        "# Have a look at architecture for model two\n",
        "keras_model_2.summary()"
      ],
      "execution_count": 20,
      "outputs": [
        {
          "output_type": "stream",
          "name": "stdout",
          "text": [
            "Model: \"sequential_9\"\n",
            "_________________________________________________________________\n",
            " Layer (type)                Output Shape              Param #   \n",
            "=================================================================\n",
            " dense_20 (Dense)            (None, 28, 28, 64)        256       \n",
            "                                                                 \n",
            " dense_21 (Dense)            (None, 28, 28, 64)        4160      \n",
            "                                                                 \n",
            " flatten_8 (Flatten)         (None, 50176)             0         \n",
            "                                                                 \n",
            " dense_22 (Dense)            (None, 10)                501770    \n",
            "                                                                 \n",
            "=================================================================\n",
            "Total params: 506,186\n",
            "Trainable params: 506,186\n",
            "Non-trainable params: 0\n",
            "_________________________________________________________________\n"
          ]
        }
      ]
    },
    {
      "cell_type": "code",
      "metadata": {
        "id": "jraPDdsNX46e"
      },
      "source": [
        "# Save Model 2 to .onnx file\n",
        "\n",
        "# Save tf.keras model to ONNX file\n",
        "onnx_cnn2 = model_to_onnx(keras_model_2, framework='keras',\n",
        "                          transfer_learning=False,\n",
        "                          deep_learning=True)\n",
        "\n",
        "# Save model to local .onnx file\n",
        "with open(\"model_2.onnx\", \"wb\") as f:\n",
        "    f.write(onnx_cnn2.SerializeToString()) "
      ],
      "execution_count": 21,
      "outputs": []
    },
    {
      "cell_type": "code",
      "metadata": {
        "colab": {
          "base_uri": "https://localhost:8080/"
        },
        "id": "Cme7T_gaYWlD",
        "outputId": "769fd776-85b5-4097-a94e-8f0a05638284"
      },
      "source": [
        "# Submit Model 2\n",
        "\n",
        "#-- Generate predicted y values (Model 2)\n",
        "prediction_column_index=keras_model_2.predict(X_test).argmax(axis=1)\n",
        "\n",
        "# extract correct prediction labels \n",
        "prediction_labels = [y_train.columns[i] for i in prediction_column_index]\n",
        "\n",
        "# Submit Model 2 to Competition Leaderboard\n",
        "mycompetition.submit_model(model_filepath = \"model_2.onnx\",\n",
        "                                 prediction_submission=prediction_labels,\n",
        "                                 preprocessor_filepath=\"preprocessor.zip\")"
      ],
      "execution_count": 22,
      "outputs": [
        {
          "output_type": "stream",
          "name": "stdout",
          "text": [
            "313/313 [==============================] - 1s 3ms/step\n",
            "Insert search tags to help users find your model (optional): \n",
            "Provide any useful notes about your model (optional): \n",
            "\n",
            "Your model has been submitted as model version 2\n",
            "\n",
            "\n"
          ]
        }
      ]
    },
    {
      "cell_type": "markdown",
      "metadata": {
        "id": "iLYlCkWchWC_"
      },
      "source": [
        "Get Leaderboard"
      ]
    },
    {
      "cell_type": "code",
      "metadata": {
        "colab": {
          "base_uri": "https://localhost:8080/",
          "height": 113
        },
        "id": "J0-B1h0chYDL",
        "outputId": "638fd27e-0d81-40dd-e199-f4413317562b"
      },
      "source": [
        "data = mycompetition.get_leaderboard()\n",
        "mycompetition.stylize_leaderboard(data)"
      ],
      "execution_count": 23,
      "outputs": [
        {
          "output_type": "execute_result",
          "data": {
            "text/plain": [
              "<pandas.io.formats.style.Styler at 0x7fcd05999790>"
            ],
            "text/html": [
              "<style type=\"text/css\">\n",
              "#T_9e22a_row0_col0 {\n",
              "  text-align: center;\n",
              "  width: 10em;\n",
              "  height: 80%;\n",
              "  background: linear-gradient(90deg,#f5f8d6 84.6%, transparent 84.6%);\n",
              "  color: #251e1b;\n",
              "  font-size: 12px;\n",
              "}\n",
              "#T_9e22a_row0_col1 {\n",
              "  text-align: center;\n",
              "  width: 10em;\n",
              "  height: 80%;\n",
              "  background: linear-gradient(90deg,#c778c8 84.5%, transparent 84.5%);\n",
              "  color: #251e1b;\n",
              "  font-size: 12px;\n",
              "}\n",
              "#T_9e22a_row0_col2 {\n",
              "  text-align: center;\n",
              "  width: 10em;\n",
              "  height: 80%;\n",
              "  background: linear-gradient(90deg,#ff4971 85.6%, transparent 85.6%);\n",
              "  color: #251e1b;\n",
              "  font-size: 12px;\n",
              "}\n",
              "#T_9e22a_row0_col3 {\n",
              "  text-align: center;\n",
              "  width: 10em;\n",
              "  height: 80%;\n",
              "  background: linear-gradient(90deg,#aadbaa 84.6%, transparent 84.6%);\n",
              "  color: #251e1b;\n",
              "  font-size: 12px;\n",
              "}\n",
              "#T_9e22a_row0_col4, #T_9e22a_row0_col5, #T_9e22a_row0_col6, #T_9e22a_row0_col7, #T_9e22a_row0_col8, #T_9e22a_row0_col9, #T_9e22a_row0_col10, #T_9e22a_row0_col11, #T_9e22a_row0_col12, #T_9e22a_row0_col13, #T_9e22a_row0_col14, #T_9e22a_row0_col15, #T_9e22a_row0_col16, #T_9e22a_row0_col17, #T_9e22a_row0_col18, #T_9e22a_row1_col4, #T_9e22a_row1_col5, #T_9e22a_row1_col6, #T_9e22a_row1_col7, #T_9e22a_row1_col8, #T_9e22a_row1_col9, #T_9e22a_row1_col10, #T_9e22a_row1_col11, #T_9e22a_row1_col12, #T_9e22a_row1_col13, #T_9e22a_row1_col14, #T_9e22a_row1_col15, #T_9e22a_row1_col16, #T_9e22a_row1_col17, #T_9e22a_row1_col18 {\n",
              "  text-align: center;\n",
              "}\n",
              "#T_9e22a_row1_col0 {\n",
              "  text-align: center;\n",
              "  width: 10em;\n",
              "  height: 80%;\n",
              "  background: linear-gradient(90deg,#f5f8d6 81.8%, transparent 81.8%);\n",
              "  color: #251e1b;\n",
              "  font-size: 12px;\n",
              "}\n",
              "#T_9e22a_row1_col1 {\n",
              "  text-align: center;\n",
              "  width: 10em;\n",
              "  height: 80%;\n",
              "  background: linear-gradient(90deg,#c778c8 81.9%, transparent 81.9%);\n",
              "  color: #251e1b;\n",
              "  font-size: 12px;\n",
              "}\n",
              "#T_9e22a_row1_col2 {\n",
              "  text-align: center;\n",
              "  width: 10em;\n",
              "  height: 80%;\n",
              "  background: linear-gradient(90deg,#ff4971 84.3%, transparent 84.3%);\n",
              "  color: #251e1b;\n",
              "  font-size: 12px;\n",
              "}\n",
              "#T_9e22a_row1_col3 {\n",
              "  text-align: center;\n",
              "  width: 10em;\n",
              "  height: 80%;\n",
              "  background: linear-gradient(90deg,#aadbaa 81.8%, transparent 81.8%);\n",
              "  color: #251e1b;\n",
              "  font-size: 12px;\n",
              "}\n",
              "</style>\n",
              "<table id=\"T_9e22a_\" class=\"dataframe\">\n",
              "  <thead>\n",
              "    <tr>\n",
              "      <th class=\"blank level0\" >&nbsp;</th>\n",
              "      <th class=\"col_heading level0 col0\" >accuracy</th>\n",
              "      <th class=\"col_heading level0 col1\" >f1_score</th>\n",
              "      <th class=\"col_heading level0 col2\" >precision</th>\n",
              "      <th class=\"col_heading level0 col3\" >recall</th>\n",
              "      <th class=\"col_heading level0 col4\" >ml_framework</th>\n",
              "      <th class=\"col_heading level0 col5\" >transfer_learning</th>\n",
              "      <th class=\"col_heading level0 col6\" >deep_learning</th>\n",
              "      <th class=\"col_heading level0 col7\" >model_type</th>\n",
              "      <th class=\"col_heading level0 col8\" >depth</th>\n",
              "      <th class=\"col_heading level0 col9\" >num_params</th>\n",
              "      <th class=\"col_heading level0 col10\" >flatten_layers</th>\n",
              "      <th class=\"col_heading level0 col11\" >dense_layers</th>\n",
              "      <th class=\"col_heading level0 col12\" >relu_act</th>\n",
              "      <th class=\"col_heading level0 col13\" >softmax_act</th>\n",
              "      <th class=\"col_heading level0 col14\" >loss</th>\n",
              "      <th class=\"col_heading level0 col15\" >optimizer</th>\n",
              "      <th class=\"col_heading level0 col16\" >memory_size</th>\n",
              "      <th class=\"col_heading level0 col17\" >username</th>\n",
              "      <th class=\"col_heading level0 col18\" >version</th>\n",
              "    </tr>\n",
              "  </thead>\n",
              "  <tbody>\n",
              "    <tr>\n",
              "      <th id=\"T_9e22a_level0_row0\" class=\"row_heading level0 row0\" >0</th>\n",
              "      <td id=\"T_9e22a_row0_col0\" class=\"data row0 col0\" >84.56%</td>\n",
              "      <td id=\"T_9e22a_row0_col1\" class=\"data row0 col1\" >84.48%</td>\n",
              "      <td id=\"T_9e22a_row0_col2\" class=\"data row0 col2\" >85.61%</td>\n",
              "      <td id=\"T_9e22a_row0_col3\" class=\"data row0 col3\" >84.56%</td>\n",
              "      <td id=\"T_9e22a_row0_col4\" class=\"data row0 col4\" >keras</td>\n",
              "      <td id=\"T_9e22a_row0_col5\" class=\"data row0 col5\" >False</td>\n",
              "      <td id=\"T_9e22a_row0_col6\" class=\"data row0 col6\" >True</td>\n",
              "      <td id=\"T_9e22a_row0_col7\" class=\"data row0 col7\" >Sequential</td>\n",
              "      <td id=\"T_9e22a_row0_col8\" class=\"data row0 col8\" >3</td>\n",
              "      <td id=\"T_9e22a_row0_col9\" class=\"data row0 col9\" >302474</td>\n",
              "      <td id=\"T_9e22a_row0_col10\" class=\"data row0 col10\" >1</td>\n",
              "      <td id=\"T_9e22a_row0_col11\" class=\"data row0 col11\" >2</td>\n",
              "      <td id=\"T_9e22a_row0_col12\" class=\"data row0 col12\" >1</td>\n",
              "      <td id=\"T_9e22a_row0_col13\" class=\"data row0 col13\" >nan</td>\n",
              "      <td id=\"T_9e22a_row0_col14\" class=\"data row0 col14\" >CategoricalCrossentropy</td>\n",
              "      <td id=\"T_9e22a_row0_col15\" class=\"data row0 col15\" >Adam</td>\n",
              "      <td id=\"T_9e22a_row0_col16\" class=\"data row0 col16\" >1210464</td>\n",
              "      <td id=\"T_9e22a_row0_col17\" class=\"data row0 col17\" >IEOR_ML_High_Dim</td>\n",
              "      <td id=\"T_9e22a_row0_col18\" class=\"data row0 col18\" >1</td>\n",
              "    </tr>\n",
              "    <tr>\n",
              "      <th id=\"T_9e22a_level0_row1\" class=\"row_heading level0 row1\" >1</th>\n",
              "      <td id=\"T_9e22a_row1_col0\" class=\"data row1 col0\" >81.84%</td>\n",
              "      <td id=\"T_9e22a_row1_col1\" class=\"data row1 col1\" >81.88%</td>\n",
              "      <td id=\"T_9e22a_row1_col2\" class=\"data row1 col2\" >84.27%</td>\n",
              "      <td id=\"T_9e22a_row1_col3\" class=\"data row1 col3\" >81.84%</td>\n",
              "      <td id=\"T_9e22a_row1_col4\" class=\"data row1 col4\" >keras</td>\n",
              "      <td id=\"T_9e22a_row1_col5\" class=\"data row1 col5\" >False</td>\n",
              "      <td id=\"T_9e22a_row1_col6\" class=\"data row1 col6\" >True</td>\n",
              "      <td id=\"T_9e22a_row1_col7\" class=\"data row1 col7\" >Sequential</td>\n",
              "      <td id=\"T_9e22a_row1_col8\" class=\"data row1 col8\" >4</td>\n",
              "      <td id=\"T_9e22a_row1_col9\" class=\"data row1 col9\" >506186</td>\n",
              "      <td id=\"T_9e22a_row1_col10\" class=\"data row1 col10\" >1</td>\n",
              "      <td id=\"T_9e22a_row1_col11\" class=\"data row1 col11\" >3</td>\n",
              "      <td id=\"T_9e22a_row1_col12\" class=\"data row1 col12\" >2</td>\n",
              "      <td id=\"T_9e22a_row1_col13\" class=\"data row1 col13\" >1.000000</td>\n",
              "      <td id=\"T_9e22a_row1_col14\" class=\"data row1 col14\" >function</td>\n",
              "      <td id=\"T_9e22a_row1_col15\" class=\"data row1 col15\" >RMSprop</td>\n",
              "      <td id=\"T_9e22a_row1_col16\" class=\"data row1 col16\" >2025568</td>\n",
              "      <td id=\"T_9e22a_row1_col17\" class=\"data row1 col17\" >IEOR_ML_High_Dim</td>\n",
              "      <td id=\"T_9e22a_row1_col18\" class=\"data row1 col18\" >2</td>\n",
              "    </tr>\n",
              "  </tbody>\n",
              "</table>\n"
            ]
          },
          "metadata": {},
          "execution_count": 23
        }
      ]
    },
    {
      "cell_type": "markdown",
      "metadata": {
        "id": "g_bklL3shOER"
      },
      "source": [
        "Compare Models"
      ]
    },
    {
      "cell_type": "code",
      "metadata": {
        "colab": {
          "base_uri": "https://localhost:8080/",
          "height": 126
        },
        "id": "quo_V3A3hNS3",
        "outputId": "2334586d-41f8-45f5-f329-d883917641e6"
      },
      "source": [
        "# Compare two or more models \n",
        "data=mycompetition.compare_models([1,2], verbose=1)\n",
        "mycompetition.stylize_compare(data)"
      ],
      "execution_count": 24,
      "outputs": [
        {
          "output_type": "display_data",
          "data": {
            "text/plain": [
              "<IPython.core.display.HTML object>"
            ],
            "text/html": [
              "<style type=\"text/css\">\n",
              "#T_80a1e_ caption {\n",
              "  color: black;\n",
              "  font-size: 18px;\n",
              "}\n",
              "#T_80a1e_row0_col0, #T_80a1e_row2_col3 {\n",
              "  background: nan;\n",
              "  color: black;\n",
              "  color: black;\n",
              "}\n",
              "#T_80a1e_row0_col1, #T_80a1e_row0_col2, #T_80a1e_row0_col4, #T_80a1e_row0_col5, #T_80a1e_row1_col1, #T_80a1e_row1_col2, #T_80a1e_row1_col4, #T_80a1e_row1_col5, #T_80a1e_row2_col1, #T_80a1e_row2_col2, #T_80a1e_row2_col4, #T_80a1e_row2_col5, #T_80a1e_row3_col0, #T_80a1e_row3_col1, #T_80a1e_row3_col2, #T_80a1e_row3_col4, #T_80a1e_row3_col5 {\n",
              "  background: white;\n",
              "  color: black;\n",
              "  color: black;\n",
              "}\n",
              "#T_80a1e_row0_col3, #T_80a1e_row1_col0, #T_80a1e_row1_col3, #T_80a1e_row2_col0, #T_80a1e_row3_col3 {\n",
              "  background: #fff2ae;\n",
              "  color: black;\n",
              "  color: black;\n",
              "}\n",
              "</style>\n",
              "<table id=\"T_80a1e_\">\n",
              "  <caption>Model type: Neural Network</caption>\n",
              "  <thead>\n",
              "    <tr>\n",
              "      <th class=\"blank level0\" >&nbsp;</th>\n",
              "      <th class=\"col_heading level0 col0\" >Model_1_Layer</th>\n",
              "      <th class=\"col_heading level0 col1\" >Model_1_Shape</th>\n",
              "      <th class=\"col_heading level0 col2\" >Model_1_Params</th>\n",
              "      <th class=\"col_heading level0 col3\" >Model_2_Layer</th>\n",
              "      <th class=\"col_heading level0 col4\" >Model_2_Shape</th>\n",
              "      <th class=\"col_heading level0 col5\" >Model_2_Params</th>\n",
              "    </tr>\n",
              "  </thead>\n",
              "  <tbody>\n",
              "    <tr>\n",
              "      <th id=\"T_80a1e_level0_row0\" class=\"row_heading level0 row0\" >0</th>\n",
              "      <td id=\"T_80a1e_row0_col0\" class=\"data row0 col0\" >Flatten</td>\n",
              "      <td id=\"T_80a1e_row0_col1\" class=\"data row0 col1\" >[None, 2352]</td>\n",
              "      <td id=\"T_80a1e_row0_col2\" class=\"data row0 col2\" >0.000000</td>\n",
              "      <td id=\"T_80a1e_row0_col3\" class=\"data row0 col3\" >Dense</td>\n",
              "      <td id=\"T_80a1e_row0_col4\" class=\"data row0 col4\" >[None, 28, 28, 64]</td>\n",
              "      <td id=\"T_80a1e_row0_col5\" class=\"data row0 col5\" >256</td>\n",
              "    </tr>\n",
              "    <tr>\n",
              "      <th id=\"T_80a1e_level0_row1\" class=\"row_heading level0 row1\" >1</th>\n",
              "      <td id=\"T_80a1e_row1_col0\" class=\"data row1 col0\" >Dense</td>\n",
              "      <td id=\"T_80a1e_row1_col1\" class=\"data row1 col1\" >[None, 128]</td>\n",
              "      <td id=\"T_80a1e_row1_col2\" class=\"data row1 col2\" >301184.000000</td>\n",
              "      <td id=\"T_80a1e_row1_col3\" class=\"data row1 col3\" >Dense</td>\n",
              "      <td id=\"T_80a1e_row1_col4\" class=\"data row1 col4\" >[None, 28, 28, 64]</td>\n",
              "      <td id=\"T_80a1e_row1_col5\" class=\"data row1 col5\" >4160</td>\n",
              "    </tr>\n",
              "    <tr>\n",
              "      <th id=\"T_80a1e_level0_row2\" class=\"row_heading level0 row2\" >2</th>\n",
              "      <td id=\"T_80a1e_row2_col0\" class=\"data row2 col0\" >Dense</td>\n",
              "      <td id=\"T_80a1e_row2_col1\" class=\"data row2 col1\" >[None, 10]</td>\n",
              "      <td id=\"T_80a1e_row2_col2\" class=\"data row2 col2\" >1290.000000</td>\n",
              "      <td id=\"T_80a1e_row2_col3\" class=\"data row2 col3\" >Flatten</td>\n",
              "      <td id=\"T_80a1e_row2_col4\" class=\"data row2 col4\" >[None, 50176]</td>\n",
              "      <td id=\"T_80a1e_row2_col5\" class=\"data row2 col5\" >0</td>\n",
              "    </tr>\n",
              "    <tr>\n",
              "      <th id=\"T_80a1e_level0_row3\" class=\"row_heading level0 row3\" >3</th>\n",
              "      <td id=\"T_80a1e_row3_col0\" class=\"data row3 col0\" >None</td>\n",
              "      <td id=\"T_80a1e_row3_col1\" class=\"data row3 col1\" >None</td>\n",
              "      <td id=\"T_80a1e_row3_col2\" class=\"data row3 col2\" >nan</td>\n",
              "      <td id=\"T_80a1e_row3_col3\" class=\"data row3 col3\" >Dense</td>\n",
              "      <td id=\"T_80a1e_row3_col4\" class=\"data row3 col4\" >[None, 10]</td>\n",
              "      <td id=\"T_80a1e_row3_col5\" class=\"data row3 col5\" >501770</td>\n",
              "    </tr>\n",
              "  </tbody>\n",
              "</table>\n"
            ]
          },
          "metadata": {}
        }
      ]
    },
    {
      "cell_type": "markdown",
      "metadata": {
        "id": "FKm9ugiBhQFn"
      },
      "source": [
        "#### Check structure of y test data \n",
        "(This helps users understand how to submit predicted values to leaderboard)"
      ]
    },
    {
      "cell_type": "code",
      "metadata": {
        "colab": {
          "base_uri": "https://localhost:8080/"
        },
        "id": "dqY82D22hPZx",
        "outputId": "47a9c137-1361-47bf-f2e9-dbc5ffd9b1c2"
      },
      "source": [
        "mycompetition.inspect_y_test()"
      ],
      "execution_count": 25,
      "outputs": [
        {
          "output_type": "execute_result",
          "data": {
            "text/plain": [
              "{'ytest_example': ['Ankle boot', 'Pullover', 'Trouser', 'Trouser', 'Shirt'],\n",
              " 'y_length': 10000,\n",
              " 'class_labels': ['Sandal',\n",
              "  'Shirt',\n",
              "  'Sneaker',\n",
              "  'Dress',\n",
              "  'Pullover',\n",
              "  'Coat',\n",
              "  'Trouser',\n",
              "  'Ankle boot',\n",
              "  'Bag',\n",
              "  'T-shirt/top'],\n",
              " 'class_balance': {'Ankle boot': 1000,\n",
              "  'Pullover': 1000,\n",
              "  'Trouser': 1000,\n",
              "  'Shirt': 1000,\n",
              "  'Coat': 1000,\n",
              "  'Sandal': 1000,\n",
              "  'Sneaker': 1000,\n",
              "  'Dress': 1000,\n",
              "  'Bag': 1000,\n",
              "  'T-shirt/top': 1000},\n",
              " 'label_dtypes': {\"<class 'str'>\": 10000}}"
            ]
          },
          "metadata": {},
          "execution_count": 25
        }
      ]
    },
    {
      "cell_type": "markdown",
      "metadata": {
        "id": "iA-nYjr7WCIp"
      },
      "source": [
        "## **Part 3: Maintaining your Model Playground**\n",
        "\n",
        "-------"
      ]
    },
    {
      "cell_type": "markdown",
      "metadata": {
        "id": "0UIWnHIXWM0F"
      },
      "source": [
        "Update Runtime model\n",
        "\n",
        "*Use this function to 1) update the prediction API behind your Model Playground with a new model, chosen from the leaderboard and 2) verify the modelperformance metrics in your Model Playground*"
      ]
    },
    {
      "cell_type": "code",
      "metadata": {
        "colab": {
          "base_uri": "https://localhost:8080/"
        },
        "id": "wAchpcGLWLxE",
        "outputId": "afba0926-c7a3-47a1-b969-f534b888bd8d"
      },
      "source": [
        "myplayground.update_runtime_model(model_version=2)"
      ],
      "execution_count": 26,
      "outputs": [
        {
          "output_type": "stream",
          "name": "stdout",
          "text": [
            "['accuracy', 'f1_score', 'precision', 'recall']\n",
            "{'accuracy': 0.8184, 'f1_score': 0.818760014419726, 'precision': 0.8427125847737121, 'recall': 0.8184000000000001}\n",
            "Runtime model & preprocessor for api: https://szt7tyey3d.execute-api.us-east-1.amazonaws.com/prod/m updated to model version 2.\n",
            "\n",
            "Model metrics are now updated and verified for this model playground.\n"
          ]
        }
      ]
    },
    {
      "cell_type": "markdown",
      "metadata": {
        "id": "xhJRaiN-WaO1"
      },
      "source": [
        "Delete Deployment \n",
        "\n",
        "*Use this function to delete the entire Model Playground, including the REST API, web dashboard, competition, and all submitted models*"
      ]
    },
    {
      "cell_type": "code",
      "metadata": {
        "colab": {
          "base_uri": "https://localhost:8080/",
          "height": 109
        },
        "id": "mCkf-exLWyDK",
        "outputId": "f3b7bf57-c879-462e-f68d-0d296d993182"
      },
      "source": [
        "#myplayground.delete_deployment()"
      ],
      "execution_count": null,
      "outputs": [
        {
          "name": "stdout",
          "output_type": "stream",
          "text": [
            "Running this function will permanently delete all resources tied to this deployment, \n",
            " including the eval lambda and all models submitted to the model competition.\n",
            "\n",
            "To confirm, type 'permanently delete':permanently delete\n"
          ]
        },
        {
          "output_type": "execute_result",
          "data": {
            "application/vnd.google.colaboratory.intrinsic+json": {
              "type": "string"
            },
            "text/plain": [
              "'API deleted successfully.'"
            ]
          },
          "metadata": {},
          "execution_count": 25
        }
      ]
    }
  ]
}