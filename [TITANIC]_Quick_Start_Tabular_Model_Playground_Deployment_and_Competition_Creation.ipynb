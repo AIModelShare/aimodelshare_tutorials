{
 "cells": [
  {
   "cell_type": "markdown",
   "metadata": {
    "id": "0BviI4QIdWiq"
   },
   "source": [
    "<p align=\"center\"><img width=\"50%\" src=\"https://aimodelsharecontent.s3.amazonaws.com/aimodshare_banner.jpg\" /></p>\n",
    "\n",
    "\n",
    "---\n",
    "\n",
    "\n"
   ]
  },
  {
   "cell_type": "markdown",
   "metadata": {
    "id": "gYNp684Tk3tb"
   },
   "source": [
    "<p align=\"center\"><h1 align=\"center\">Quick Start: Titanic Tabular Classification Tutorial</h1> \n",
    "\n",
    "---\n",
    "\n",
    "<h3 align=\"center\">(Deploy model to an AI Model Share Model Playground REST API<br> and Web Dashboard in five easy steps...)</h3></p>\n",
    "<p align=\"center\"><img width=\"100%\" src=\"https://aimodelsharecontent.s3.amazonaws.com/aimstutorialsteps.gif\" /></p>\n",
    "\n",
    "\n",
    "---\n",
    "\n"
   ]
  },
  {
   "cell_type": "markdown",
   "metadata": {
    "id": "0PhJ-XlGazpD"
   },
   "source": [
    "## **Credential Configuration**\n",
    "\n",
    "In order to deploy an AI Model Share Model Playground, you will need a credentials text file. \n",
    "\n",
    "Generating your credentials file requires two sets of information: \n",
    "1. Your AI Model Share username and password (create them [HERE](https://www.modelshare.org/login)). \n",
    "2. Your AWS (Amazon Web Services) access keys (follow the tutorial [HERE](https://aimodelshare.readthedocs.io/en/latest/create_credentials.html)). \n",
    "\n",
    "You only need to generate your credentials file once. After running the configure function below, save the outputted file for all your future Model Playground deployments and competition submissions. \n",
    "\n",
    "*Note: Handle your credentials file with the same level of security you handle your passwords. Do not share your file with anyone, send via email, or upload to Github.*\n"
   ]
  },
  {
   "cell_type": "code",
   "execution_count": null,
   "metadata": {
    "id": "puVzQBHyhS2Z"
   },
   "outputs": [],
   "source": [
    "#install aimodelshare library\n",
    "! pip install aimodelshare"
   ]
  },
  {
   "cell_type": "code",
   "execution_count": 2,
   "metadata": {
    "colab": {
     "base_uri": "https://localhost:8080/"
    },
    "id": "4Q7MCqBLcS20",
    "outputId": "3b531b5d-7bf6-4508-b4a1-d92e86dd1ba6"
   },
   "outputs": [
    {
     "name": "stdout",
     "output_type": "stream",
     "text": [
      "AI Modelshare Username:··········\n",
      "AI Modelshare Password:··········\n",
      "AWS_ACCESS_KEY_ID:··········\n",
      "AWS_SECRET_ACCESS_KEY:··········\n",
      "AWS_REGION:··········\n",
      "Configuration successful. New credentials file saved as 'credentials.txt'\n"
     ]
    }
   ],
   "source": [
    "# Generate credentials file\n",
    "import aimodelshare as ai \n",
    "from aimodelshare.aws import configure_credentials \n",
    "\n",
    "configure_credentials()"
   ]
  },
  {
   "cell_type": "markdown",
   "metadata": {
    "id": "VliTV_HH-uz4"
   },
   "source": [
    "## **Set up Environment**\n",
    "\n",
    "Use your credentials file to set your credentials for all aimodelshare functions. "
   ]
  },
  {
   "cell_type": "code",
   "execution_count": 25,
   "metadata": {
    "colab": {
     "base_uri": "https://localhost:8080/"
    },
    "id": "2u1QKNfEyN9A",
    "outputId": "020b06d1-727a-406d-edab-9977c474b771"
   },
   "outputs": [
    {
     "name": "stdout",
     "output_type": "stream",
     "text": [
      "AI Model Share login credentials set successfully.\n",
      "AWS credentials set successfully.\n"
     ]
    }
   ],
   "source": [
    "# Set credentials \n",
    "from aimodelshare.aws import set_credentials\n",
    "\n",
    "set_credentials(credential_file=\"credentials.txt\", type=\"deploy_model\")"
   ]
  },
  {
   "cell_type": "code",
   "execution_count": 3,
   "metadata": {
    "colab": {
     "base_uri": "https://localhost:8080/"
    },
    "id": "PwQcTsyyURIk",
    "outputId": "c34be3c8-1ccd-4f95-93ee-162404de7572"
   },
   "outputs": [
    {
     "name": "stdout",
     "output_type": "stream",
     "text": [
      "Downloading [===>                                             ]\n",
      "\n",
      "Data downloaded successfully.\n",
      "\n",
      "Preparing downloaded files for use...\n",
      "\n",
      "Success! Your Quick Start materials have been downloaded. \n",
      "You are now ready to run the tutorial.\n"
     ]
    }
   ],
   "source": [
    "# Get materials for tutorial\n",
    "import aimodelshare as ai\n",
    "X_train, X_test, y_train_labels, y_test, example_data, y_test_labels = ai.import_quickstart_data(\"titanic\")"
   ]
  },
  {
   "cell_type": "markdown",
   "metadata": {
    "id": "bIleM1F6nWSF"
   },
   "source": [
    "## **(1) Preprocessor Function & Setup**"
   ]
  },
  {
   "cell_type": "markdown",
   "metadata": {
    "id": "WrEgo5zRxbed"
   },
   "source": [
    "### **Write a Preprocessor Function**\n",
    "\n",
    "\n",
    "> ###   Preprocessor functions are used to preprocess data into the precise data your model requires to generate predictions.  \n",
    "\n",
    "*  *Preprocessor functions should always be named \"preprocessor\".*\n",
    "*  *You can use any Python library in a preprocessor function, but all libraries should be imported inside your preprocessor function.*  \n",
    "*  *For tabular prediction models users should minimally include function inputs for an unpreprocessed pandas dataframe.*  \n",
    "*  *Any categorical features should be preprocessed to one hot encoded numeric values.* \n"
   ]
  },
  {
   "cell_type": "code",
   "execution_count": 4,
   "metadata": {
    "id": "B5Jz-1cmYN5Z"
   },
   "outputs": [],
   "source": [
    "# In this case we use Sklearn's Column transformer in our preprocessor function\n",
    "\n",
    "from sklearn.compose import ColumnTransformer\n",
    "from sklearn.pipeline import Pipeline\n",
    "from sklearn.impute import SimpleImputer\n",
    "from sklearn.preprocessing import StandardScaler, OneHotEncoder\n",
    "\n",
    "#Preprocess data using sklearn's Column Transformer approach\n",
    "\n",
    "# We create the preprocessing pipelines for both numeric and categorical data.\n",
    "numeric_features = ['age', 'fare']\n",
    "numeric_transformer = Pipeline(steps=[\n",
    "    ('imputer', SimpleImputer(strategy='median')), #'imputer' names the step\n",
    "    ('scaler', StandardScaler())])\n",
    "\n",
    "categorical_features = ['embarked', 'sex', 'pclass']\n",
    "\n",
    "# Replacing missing values with Modal value and then one-hot encoding.\n",
    "categorical_transformer = Pipeline(steps=[\n",
    "    ('imputer', SimpleImputer(strategy='most_frequent')),\n",
    "    ('onehot', OneHotEncoder(handle_unknown='ignore'))])\n",
    "\n",
    "# Final preprocessor object set up with ColumnTransformer...\n",
    "\n",
    "preprocess = ColumnTransformer(\n",
    "    transformers=[\n",
    "        ('num', numeric_transformer, numeric_features),\n",
    "        ('cat', categorical_transformer, categorical_features)])\n",
    "\n",
    "# fit preprocessor to your data\n",
    "preprocess = preprocess.fit(X_train)"
   ]
  },
  {
   "cell_type": "code",
   "execution_count": 5,
   "metadata": {
    "id": "5D_6sac6nQUx"
   },
   "outputs": [],
   "source": [
    "# Here is where we actually write the preprocessor function:\n",
    "\n",
    "# Write function to transform data with preprocessor \n",
    "# In this case we use sklearn's Column transformer in our preprocessor function\n",
    "\n",
    "def preprocessor(data):\n",
    "    preprocessed_data=preprocess.transform(data)\n",
    "    return preprocessed_data"
   ]
  },
  {
   "cell_type": "code",
   "execution_count": 6,
   "metadata": {
    "colab": {
     "base_uri": "https://localhost:8080/"
    },
    "id": "xp_TTwew8jYU",
    "outputId": "2487b92d-93f4-4cd1-a5b6-50a333c8317c"
   },
   "outputs": [
    {
     "data": {
      "text/plain": [
       "(1047, 10)"
      ]
     },
     "execution_count": 6,
     "metadata": {},
     "output_type": "execute_result"
    }
   ],
   "source": [
    "# check shape of X data after preprocessing it using our new function\n",
    "preprocessor(X_train).shape"
   ]
  },
  {
   "cell_type": "code",
   "execution_count": 7,
   "metadata": {
    "colab": {
     "base_uri": "https://localhost:8080/"
    },
    "id": "HBF1FmYrlj9N",
    "outputId": "227d7fb0-616a-4528-8e49-c4335769f477"
   },
   "outputs": [
    {
     "data": {
      "text/plain": [
       "['died', 'survived']"
      ]
     },
     "execution_count": 7,
     "metadata": {},
     "output_type": "execute_result"
    }
   ],
   "source": [
    "# Create one hot encoded data from list of y_train category labels\n",
    "#...to allow modeltoapi() to extract correct labels for predictions in your deployed API\n",
    "import pandas as pd\n",
    "y_train = pd.get_dummies(y_train_labels)\n",
    "\n",
    "#ensure column names are correct in one hot encoded target for correct label extraction\n",
    "list(y_train.columns)"
   ]
  },
  {
   "cell_type": "markdown",
   "metadata": {
    "id": "xJlhd6jvns0b"
   },
   "source": [
    "## **(2) Build Model Using sklearn (or Your Preferred ML Library)**"
   ]
  },
  {
   "cell_type": "markdown",
   "metadata": {
    "id": "fP7ZIVKe3luZ"
   },
   "source": [
    "### **Logistic Regression with L1 Regularization (Lasso)**"
   ]
  },
  {
   "cell_type": "code",
   "execution_count": 8,
   "metadata": {
    "colab": {
     "base_uri": "https://localhost:8080/"
    },
    "id": "HB7uImQbn088",
    "outputId": "de2e7af7-519b-4cd1-d1f4-87bc3a9d154e"
   },
   "outputs": [
    {
     "data": {
      "text/plain": [
       "0.7765042979942693"
      ]
     },
     "execution_count": 8,
     "metadata": {},
     "output_type": "execute_result"
    }
   ],
   "source": [
    "from sklearn.linear_model import LogisticRegression\n",
    "\n",
    "model = LogisticRegression(C=10, penalty='l1', solver = 'liblinear')\n",
    "model.fit(preprocessor(X_train), y_train_labels) # Fitting to the training set.\n",
    "model.score(preprocessor(X_train), y_train_labels) # Fit score, 0-1 scale."
   ]
  },
  {
   "cell_type": "markdown",
   "metadata": {
    "id": "FZGlu5PMWbNO"
   },
   "source": [
    "## **(3) Save Preprocessor**\n",
    "### Saves preprocessor function to \"preprocessor.zip\" file"
   ]
  },
  {
   "cell_type": "code",
   "execution_count": 9,
   "metadata": {
    "colab": {
     "base_uri": "https://localhost:8080/"
    },
    "id": "Wh_vkwblXx7r",
    "outputId": "fb891186-73c3-42f6-9014-74dc56a26d2d"
   },
   "outputs": [
    {
     "name": "stdout",
     "output_type": "stream",
     "text": [
      "Your preprocessor is now saved to 'preprocessor.zip'\n"
     ]
    }
   ],
   "source": [
    "import aimodelshare as ai\n",
    "ai.export_preprocessor(preprocessor,\"\") "
   ]
  },
  {
   "cell_type": "code",
   "execution_count": 10,
   "metadata": {
    "colab": {
     "base_uri": "https://localhost:8080/"
    },
    "id": "b58rg4pMMn4n",
    "outputId": "4e842d74-0fe6-469b-a4e5-d11740ac65c7"
   },
   "outputs": [
    {
     "data": {
      "text/plain": [
       "(4, 10)"
      ]
     },
     "execution_count": 10,
     "metadata": {},
     "output_type": "execute_result"
    }
   ],
   "source": [
    "#  Now let's import and test the preprocessor function to see if it is working...\n",
    "\n",
    "import aimodelshare as ai\n",
    "prep=ai.import_preprocessor(\"preprocessor.zip\")\n",
    "\n",
    "prep(example_data).shape"
   ]
  },
  {
   "cell_type": "markdown",
   "metadata": {
    "id": "CdQOeF2J3PCv"
   },
   "source": [
    "## **(4) Save sklearn model to Onnx File Format**\n"
   ]
  },
  {
   "cell_type": "code",
   "execution_count": 11,
   "metadata": {
    "id": "r8fgi8f6qkbk"
   },
   "outputs": [],
   "source": [
    "# Save sklearn model to local ONNX file\n",
    "from aimodelshare.aimsonnx import model_to_onnx\n",
    "\n",
    "# Check how many preprocessed input features there are\n",
    "from skl2onnx.common.data_types import FloatTensorType\n",
    "initial_type = [('float_input', FloatTensorType([None, 10]))]  # Insert correct number of features in preprocessed data\n",
    "\n",
    "onnx_model = model_to_onnx(model, framework='sklearn',\n",
    "                          initial_types=initial_type,\n",
    "                          transfer_learning=False,deep_learning=False)\n",
    "\n",
    "with open(\"model.onnx\", \"wb\") as f:\n",
    "    f.write(onnx_model.SerializeToString())"
   ]
  },
  {
   "cell_type": "markdown",
   "metadata": {
    "id": "1swt74XQUIFh"
   },
   "source": [
    "## **(5) Create your Model Playground and Deploy REST API/ Live Web-Application**"
   ]
  },
  {
   "cell_type": "code",
   "execution_count": 12,
   "metadata": {
    "id": "Y-YKEcvDNmD3"
   },
   "outputs": [],
   "source": [
    "#Set up arguments for Model Playground deployment\n",
    "import pandas as pd \n",
    "\n",
    "model_filepath=\"model.onnx\"\n",
    "preprocessor_filepath=\"preprocessor.zip\"\n",
    "exampledata = example_data"
   ]
  },
  {
   "cell_type": "code",
   "execution_count": 13,
   "metadata": {
    "colab": {
     "base_uri": "https://localhost:8080/"
    },
    "id": "T8C6IlYTFN5t",
    "outputId": "a88c8b67-c4e8-4830-ba37-184629dad798"
   },
   "outputs": [
    {
     "name": "stdout",
     "output_type": "stream",
     "text": [
      "We need some information about your model before we can build your REST API and interactive Model Playground.\n",
      "   \n",
      "Model Name (for AI Model Share Website):Titanic Survival Prediction\n",
      "Model Description (Explain what your model does and \n",
      " why end-users would find your model useful):\"The sinking of the Titanic is one of the most infamous shipwrecks in history. On April 15, 1912, during her maiden voyage, the widely considered “unsinkable” RMS Titanic sank after colliding with an iceberg. Unfortunately, there weren’t enough lifeboats for everyone onboard, resulting in the death of 1502 out of 2224 passengers and crew. While there was some element of luck involved in surviving, it seems some groups of people were more likely to survive than others.\" Use data about the passengers on board to determine whether they were likely to survive the shipwreck or not.\n",
      "Model Key Words (Search categories that describe your model, separated with commas):titanic, binary classification, supervised learning\n",
      "   \n",
      "Creating your prediction API. (This process may take several minutes.)\n",
      "\n",
      "[=====================================] Progress: 100% - Complete!                                            \n",
      "\n",
      "Success! Your Model Playground was created in 68 seconds. \n",
      " Playground Url: \"https://spx5okx1qc.execute-api.us-east-1.amazonaws.com/prod/m\"\n",
      "\n",
      "You can now use your Model Playground.\n",
      "\n",
      "Follow this link to explore your Model Playground's functionality\n",
      "You can make predictions with the Dashboard and access example code from the Programmatic tab.\n",
      "https://www.modelshare.org/detail/model:1128\n"
     ]
    }
   ],
   "source": [
    "from aimodelshare import ModelPlayground\n",
    "\n",
    "#Instantiate ModelPlayground() Class\n",
    "\n",
    "myplayground=ModelPlayground(model_type=\"tabular\", classification=True, private=False)\n",
    "\n",
    "# Create Model Playground (generates live rest api and web-app for your model/preprocessor)\n",
    "\n",
    "myplayground.deploy(model_filepath, preprocessor_filepath, y_train_labels, exampledata) "
   ]
  },
  {
   "cell_type": "markdown",
   "metadata": {
    "id": "Eb9dfUFHhLr-"
   },
   "source": [
    "## **Use your new Model Playground!**\n",
    "\n",
    "Follow the link in the output above to:\n",
    "- Generate predictions with your interactive web dashboard\n",
    "- Access example code in Python, R, and Curl\n",
    "\n",
    "Or, follow the rest of the tutorial to create a competition for your Model Playground and: \n",
    "- Access verified model performance metrics \n",
    "- Upload multiple models to a leaderboard \n",
    "- Easily compare model performance & structure "
   ]
  },
  {
   "cell_type": "markdown",
   "metadata": {
    "id": "9YpyLkQNfqSI"
   },
   "source": [
    "## **Part 2: Create a Competition**\n",
    "\n",
    "-------\n",
    "\n",
    "After deploying your Model Playground, you can now create a competition. \n",
    "\n",
    "Creating a competition allows you to:\n",
    "1. Verify the model performance metrics on aimodelshare.org\n",
    "2. Submit models to a leaderboard\n",
    "3. Grant access to other users to submit models to the leaderboard\n",
    "4. Easily compare model performance and structure "
   ]
  },
  {
   "cell_type": "code",
   "execution_count": null,
   "metadata": {
    "id": "b7Zr5m6ocqzr"
   },
   "outputs": [],
   "source": [
    "# Create list of authorized participants for competition\n",
    "# Note that participants should use the same email address when creating modelshare.org account\n",
    "\n",
    "emaillist=[\"emailaddress1@email.com\", \"emailaddress2@email.com\", \"emailaddress3@email.com\"]"
   ]
  },
  {
   "cell_type": "code",
   "execution_count": 14,
   "metadata": {
    "colab": {
     "base_uri": "https://localhost:8080/"
    },
    "id": "o2nKrLAMgc9o",
    "outputId": "bba88c84-ef24-427c-91fa-d3c88cd6731f"
   },
   "outputs": [
    {
     "name": "stdout",
     "output_type": "stream",
     "text": [
      "\n",
      "--INPUT COMPETITION DETAILS--\n",
      "\n",
      "Enter competition name:Titanic Survival Prediction Competition\n",
      "Enter competition description:\"The sinking of the Titanic is one of the most infamous shipwrecks in history. On April 15, 1912, during her maiden voyage, the widely considered “unsinkable” RMS Titanic sank after colliding with an iceberg. Unfortunately, there weren’t enough lifeboats for everyone onboard, resulting in the death of 1502 out of 2224 passengers and crew. While there was some element of luck involved in surviving, it seems some groups of people were more likely to survive than others.\" Use data about the passengers on board to determine whether they were likely to survive the shipwreck or not.\n",
      "\n",
      "--INPUT DATA DETAILS--\n",
      "\n",
      "Note: (optional) Save an optional LICENSE.txt file in your competition data directory to make users aware of any restrictions on data sharing/usage.\n",
      "\n",
      "Enter data description (i.e.- filenames denoting training and test data, file types, and any subfolders where files are stored):Competition data folder contains separate training and test data csv files. Isolate the 'survived' variable in the training data for y_train data.\n",
      "Enter optional data license descriptive name (e.g.- 'MIT, Apache 2.0, CC0, Other, etc.'):\n",
      "Uploading your data. Please wait for a confirmation message.\n",
      "\n",
      " Success! Model competition created. \n",
      "\n",
      "You may now update your prediction API runtime model and verify evaluation metrics with the update_runtime_model() function.\n",
      "\n",
      "To upload new models and/or preprocessors to this API, team members should use \n",
      "the following credentials:\n",
      "\n",
      "apiurl='https://spx5okx1qc.execute-api.us-east-1.amazonaws.com/prod/m'\n",
      "from aimodelshare.aws import set_credentials\n",
      "set_credentials(apiurl=apiurl)\n",
      "\n",
      "They can then submit models to your competition by using the following code: \n",
      "\n",
      "competition= ai.Competition(apiurl)\n",
      "download_data('public.ecr.aws/y2e2a1d6/titanic_competition_data-repository:latest') \n",
      "# Use this data to preprocess data and train model. Write and save preprocessor fxn, save model to onnx file, generate predicted y values\n",
      " using X test data, then submit a model below.\n",
      "\n",
      "competition.submit_model(model_filepath, preprocessor_filepath, prediction_submission_list)\n"
     ]
    }
   ],
   "source": [
    "# Create Competition\n",
    "# Note -- Make competition public (allow any AI Model Share user to submit models) \n",
    "# .... by excluding the email_list argument and including the 'public=True' argument \n",
    "\n",
    "myplayground.create_competition(data_directory='titanic_competition_data', \n",
    "                                y_test = y_test_labels, \n",
    "                              #  email_list=emaillist)\n",
    "                                public=True) "
   ]
  },
  {
   "cell_type": "code",
   "execution_count": 15,
   "metadata": {
    "id": "SAJJWhdAfyo5"
   },
   "outputs": [],
   "source": [
    "#Instantiate Competition\n",
    "#--Note: If you start a new session, the first argument should be the Model Playground url in quotes. \n",
    "#--e.g.- mycompetition= ai.Competition(\"https://2121212.execute-api.us-east-1.amazonaws.com/prod/m)\n",
    "#See Model Playground \"Compete\" tab for example model submission code.\n",
    "\n",
    "mycompetition= ai.Competition(myplayground.playground_url)"
   ]
  },
  {
   "cell_type": "code",
   "execution_count": null,
   "metadata": {
    "id": "lnuZaLTxcwA2"
   },
   "outputs": [],
   "source": [
    "# Add, remove, or completely update authorized participants for competition later\n",
    "emaillist=[\"emailaddress4@email.com\"]\n",
    "\n",
    "mycompetition.update_access_list(email_list=emaillist,update_type=\"Add\")"
   ]
  },
  {
   "cell_type": "markdown",
   "metadata": {
    "id": "mqyzWZPwgoEH"
   },
   "source": [
    "Submit Models"
   ]
  },
  {
   "cell_type": "code",
   "execution_count": null,
   "metadata": {
    "colab": {
     "base_uri": "https://localhost:8080/"
    },
    "id": "pPVcAXJ3czS1",
    "outputId": "b730ff2d-bcb2-4951-e3a8-58b4fa62d25e"
   },
   "outputs": [
    {
     "name": "stdout",
     "output_type": "stream",
     "text": [
      "AI Modelshare Username:··········\n",
      "AI Modelshare Password:··········\n",
      "AI Model Share login credentials set successfully.\n"
     ]
    }
   ],
   "source": [
    "#Authorized users can submit new models after setting credentials using modelshare.org username/password\n",
    "from aimodelshare.aws import set_credentials\n",
    "\n",
    "apiurl=myplayground.playground_url # example url from deployed playground: apiurl= \"https://123456.execute-api.us-east-1.amazonaws.com/prod/m\n",
    "\n",
    "set_credentials(apiurl=apiurl)"
   ]
  },
  {
   "cell_type": "code",
   "execution_count": 16,
   "metadata": {
    "colab": {
     "base_uri": "https://localhost:8080/"
    },
    "id": "pJC2jl2PgfTf",
    "outputId": "faf11e24-17f8-4649-f605-ae3175215122"
   },
   "outputs": [
    {
     "name": "stdout",
     "output_type": "stream",
     "text": [
      "Insert search tags to help users find your model (optional): \n",
      "Provide any useful notes about your model (optional): \n",
      "\n",
      "Your model has been submitted as model version 1\n",
      "\n",
      "To submit code used to create this model or to view current leaderboard navigate to Model Playground: \n",
      "\n",
      " https://www.modelshare.org/detail/model:1128\n"
     ]
    }
   ],
   "source": [
    "#Submit Model 1: \n",
    "\n",
    "#-- Generate predicted values (a list of predicted labels \"survived\" or \"died\") (Model 1)\n",
    "prediction_labels = model.predict(preprocessor(X_test))\n",
    "\n",
    "# Submit Model 1 to Competition Leaderboard\n",
    "mycompetition.submit_model(model_filepath = \"model.onnx\",\n",
    "                                 preprocessor_filepath=\"preprocessor.zip\",\n",
    "                                 prediction_submission=prediction_labels)"
   ]
  },
  {
   "cell_type": "code",
   "execution_count": 17,
   "metadata": {
    "colab": {
     "base_uri": "https://localhost:8080/"
    },
    "id": "hpzXNVPTop-O",
    "outputId": "4791f05c-1f9e-4131-ee8b-6ffb5ae282ab"
   },
   "outputs": [
    {
     "data": {
      "text/plain": [
       "0.7774594078319007"
      ]
     },
     "execution_count": 17,
     "metadata": {},
     "output_type": "execute_result"
    }
   ],
   "source": [
    "# Create model 2 (L2 Regularization - Ridge)\n",
    "from sklearn.linear_model import LogisticRegression\n",
    "\n",
    "model_2 = LogisticRegression(C=.01, penalty='l2')\n",
    "model_2.fit(preprocessor(X_train), y_train_labels) # Fitting to the training set.\n",
    "model_2.score(preprocessor(X_train), y_train_labels) # Fit score, 0-1 scale."
   ]
  },
  {
   "cell_type": "code",
   "execution_count": 18,
   "metadata": {
    "id": "jraPDdsNX46e"
   },
   "outputs": [],
   "source": [
    "# Save Model 2 to .onnx file\n",
    "\n",
    "# How many preprocessed input features there are\n",
    "from skl2onnx.common.data_types import FloatTensorType\n",
    "initial_type = [('float_input', FloatTensorType([None, 10]))]  \n",
    "\n",
    "onnx_model = model_to_onnx(model_2, framework='sklearn',\n",
    "                          initial_types=initial_type,\n",
    "                          transfer_learning=False,\n",
    "                          deep_learning=False)\n",
    "\n",
    "# Save model to local .onnx file\n",
    "with open(\"model_2.onnx\", \"wb\") as f:\n",
    "    f.write(onnx_model.SerializeToString()) "
   ]
  },
  {
   "cell_type": "code",
   "execution_count": 19,
   "metadata": {
    "colab": {
     "base_uri": "https://localhost:8080/"
    },
    "id": "Cme7T_gaYWlD",
    "outputId": "c7e2a5bf-d1c2-46f6-9242-0a6038dcb9ac"
   },
   "outputs": [
    {
     "name": "stdout",
     "output_type": "stream",
     "text": [
      "Insert search tags to help users find your model (optional): \n",
      "Provide any useful notes about your model (optional): \n",
      "\n",
      "Your model has been submitted as model version 2\n",
      "\n",
      "To submit code used to create this model or to view current leaderboard navigate to Model Playground: \n",
      "\n",
      " https://www.modelshare.org/detail/model:1128\n"
     ]
    }
   ],
   "source": [
    "# Submit Model 2\n",
    "\n",
    "#-- Generate predicted y values (Model 2)\n",
    "prediction_labels = model_2.predict(preprocessor(X_test))\n",
    "\n",
    "# Submit Model 2 to Competition Leaderboard\n",
    "mycompetition.submit_model(model_filepath = \"model_2.onnx\",\n",
    "                                 prediction_submission=prediction_labels,\n",
    "                                 preprocessor_filepath=\"preprocessor.zip\")"
   ]
  },
  {
   "cell_type": "markdown",
   "metadata": {
    "id": "iLYlCkWchWC_"
   },
   "source": [
    "Get Leaderboard"
   ]
  },
  {
   "cell_type": "code",
   "execution_count": 20,
   "metadata": {
    "colab": {
     "base_uri": "https://localhost:8080/",
     "height": 169
    },
    "id": "J0-B1h0chYDL",
    "outputId": "40c59d24-3107-43b5-9149-ea7f57bfb5cb"
   },
   "outputs": [
    {
     "data": {
      "text/html": [
       "<style  type=\"text/css\" >\n",
       "#T_66745454_7244_11ec_b598_0242ac1c0002row0_col0{\n",
       "            text-align:  center;\n",
       "            width:  10em;\n",
       "             height:  80%;\n",
       "            background:  linear-gradient(90deg,#f5f8d6 81.3%, transparent 81.3%);\n",
       "            color:  #251e1b;\n",
       "            font-size:  12px;\n",
       "        }#T_66745454_7244_11ec_b598_0242ac1c0002row0_col1{\n",
       "            text-align:  center;\n",
       "            width:  10em;\n",
       "             height:  80%;\n",
       "            background:  linear-gradient(90deg,#c778c8 79.5%, transparent 79.5%);\n",
       "            color:  #251e1b;\n",
       "            font-size:  12px;\n",
       "        }#T_66745454_7244_11ec_b598_0242ac1c0002row0_col2{\n",
       "            text-align:  center;\n",
       "            width:  10em;\n",
       "             height:  80%;\n",
       "            background:  linear-gradient(90deg,#ff4971 80.5%, transparent 80.5%);\n",
       "            color:  #251e1b;\n",
       "            font-size:  12px;\n",
       "        }#T_66745454_7244_11ec_b598_0242ac1c0002row0_col3{\n",
       "            text-align:  center;\n",
       "            width:  10em;\n",
       "             height:  80%;\n",
       "            background:  linear-gradient(90deg,#aadbaa 78.9%, transparent 78.9%);\n",
       "            color:  #251e1b;\n",
       "            font-size:  12px;\n",
       "        }#T_66745454_7244_11ec_b598_0242ac1c0002row0_col4,#T_66745454_7244_11ec_b598_0242ac1c0002row0_col5,#T_66745454_7244_11ec_b598_0242ac1c0002row0_col6,#T_66745454_7244_11ec_b598_0242ac1c0002row0_col7,#T_66745454_7244_11ec_b598_0242ac1c0002row0_col8,#T_66745454_7244_11ec_b598_0242ac1c0002row0_col9,#T_66745454_7244_11ec_b598_0242ac1c0002row0_col10,#T_66745454_7244_11ec_b598_0242ac1c0002row0_col11,#T_66745454_7244_11ec_b598_0242ac1c0002row0_col12,#T_66745454_7244_11ec_b598_0242ac1c0002row1_col4,#T_66745454_7244_11ec_b598_0242ac1c0002row1_col5,#T_66745454_7244_11ec_b598_0242ac1c0002row1_col6,#T_66745454_7244_11ec_b598_0242ac1c0002row1_col7,#T_66745454_7244_11ec_b598_0242ac1c0002row1_col8,#T_66745454_7244_11ec_b598_0242ac1c0002row1_col9,#T_66745454_7244_11ec_b598_0242ac1c0002row1_col10,#T_66745454_7244_11ec_b598_0242ac1c0002row1_col11,#T_66745454_7244_11ec_b598_0242ac1c0002row1_col12{\n",
       "            text-align:  center;\n",
       "        }#T_66745454_7244_11ec_b598_0242ac1c0002row1_col0{\n",
       "            text-align:  center;\n",
       "            width:  10em;\n",
       "             height:  80%;\n",
       "            background:  linear-gradient(90deg,#f5f8d6 76.7%, transparent 76.7%);\n",
       "            color:  #251e1b;\n",
       "            font-size:  12px;\n",
       "        }#T_66745454_7244_11ec_b598_0242ac1c0002row1_col1{\n",
       "            text-align:  center;\n",
       "            width:  10em;\n",
       "             height:  80%;\n",
       "            background:  linear-gradient(90deg,#c778c8 71.6%, transparent 71.6%);\n",
       "            color:  #251e1b;\n",
       "            font-size:  12px;\n",
       "        }#T_66745454_7244_11ec_b598_0242ac1c0002row1_col2{\n",
       "            text-align:  center;\n",
       "            width:  10em;\n",
       "             height:  80%;\n",
       "            background:  linear-gradient(90deg,#ff4971 79.8%, transparent 79.8%);\n",
       "            color:  #251e1b;\n",
       "            font-size:  12px;\n",
       "        }#T_66745454_7244_11ec_b598_0242ac1c0002row1_col3{\n",
       "            text-align:  center;\n",
       "            width:  10em;\n",
       "             height:  80%;\n",
       "            background:  linear-gradient(90deg,#aadbaa 70.5%, transparent 70.5%);\n",
       "            color:  #251e1b;\n",
       "            font-size:  12px;\n",
       "        }</style><table id=\"T_66745454_7244_11ec_b598_0242ac1c0002\" class=\"dataframe\"><thead>    <tr>        <th class=\"blank level0\" ></th>        <th class=\"col_heading level0 col0\" >accuracy</th>        <th class=\"col_heading level0 col1\" >f1_score</th>        <th class=\"col_heading level0 col2\" >precision</th>        <th class=\"col_heading level0 col3\" >recall</th>        <th class=\"col_heading level0 col4\" >ml_framework</th>        <th class=\"col_heading level0 col5\" >transfer_learning</th>        <th class=\"col_heading level0 col6\" >deep_learning</th>        <th class=\"col_heading level0 col7\" >model_type</th>        <th class=\"col_heading level0 col8\" >num_params</th>        <th class=\"col_heading level0 col9\" >optimizer</th>        <th class=\"col_heading level0 col10\" >model_config</th>        <th class=\"col_heading level0 col11\" >username</th>        <th class=\"col_heading level0 col12\" >version</th>    </tr></thead><tbody>\n",
       "                <tr>\n",
       "                        <th id=\"T_66745454_7244_11ec_b598_0242ac1c0002level0_row0\" class=\"row_heading level0 row0\" >0</th>\n",
       "                        <td id=\"T_66745454_7244_11ec_b598_0242ac1c0002row0_col0\" class=\"data row0 col0\" >81.30%</td>\n",
       "                        <td id=\"T_66745454_7244_11ec_b598_0242ac1c0002row0_col1\" class=\"data row0 col1\" >79.53%</td>\n",
       "                        <td id=\"T_66745454_7244_11ec_b598_0242ac1c0002row0_col2\" class=\"data row0 col2\" >80.51%</td>\n",
       "                        <td id=\"T_66745454_7244_11ec_b598_0242ac1c0002row0_col3\" class=\"data row0 col3\" >78.90%</td>\n",
       "                        <td id=\"T_66745454_7244_11ec_b598_0242ac1c0002row0_col4\" class=\"data row0 col4\" >sklearn</td>\n",
       "                        <td id=\"T_66745454_7244_11ec_b598_0242ac1c0002row0_col5\" class=\"data row0 col5\" >False</td>\n",
       "                        <td id=\"T_66745454_7244_11ec_b598_0242ac1c0002row0_col6\" class=\"data row0 col6\" >False</td>\n",
       "                        <td id=\"T_66745454_7244_11ec_b598_0242ac1c0002row0_col7\" class=\"data row0 col7\" >LogisticRegression</td>\n",
       "                        <td id=\"T_66745454_7244_11ec_b598_0242ac1c0002row0_col8\" class=\"data row0 col8\" >10</td>\n",
       "                        <td id=\"T_66745454_7244_11ec_b598_0242ac1c0002row0_col9\" class=\"data row0 col9\" >liblinear</td>\n",
       "                        <td id=\"T_66745454_7244_11ec_b598_0242ac1c0002row0_col10\" class=\"data row0 col10\" >{'C': 10, 'class_weight': None...</td>\n",
       "                        <td id=\"T_66745454_7244_11ec_b598_0242ac1c0002row0_col11\" class=\"data row0 col11\" >AIModelShare</td>\n",
       "                        <td id=\"T_66745454_7244_11ec_b598_0242ac1c0002row0_col12\" class=\"data row0 col12\" >1</td>\n",
       "            </tr>\n",
       "            <tr>\n",
       "                        <th id=\"T_66745454_7244_11ec_b598_0242ac1c0002level0_row1\" class=\"row_heading level0 row1\" >1</th>\n",
       "                        <td id=\"T_66745454_7244_11ec_b598_0242ac1c0002row1_col0\" class=\"data row1 col0\" >76.72%</td>\n",
       "                        <td id=\"T_66745454_7244_11ec_b598_0242ac1c0002row1_col1\" class=\"data row1 col1\" >71.62%</td>\n",
       "                        <td id=\"T_66745454_7244_11ec_b598_0242ac1c0002row1_col2\" class=\"data row1 col2\" >79.77%</td>\n",
       "                        <td id=\"T_66745454_7244_11ec_b598_0242ac1c0002row1_col3\" class=\"data row1 col3\" >70.52%</td>\n",
       "                        <td id=\"T_66745454_7244_11ec_b598_0242ac1c0002row1_col4\" class=\"data row1 col4\" >sklearn</td>\n",
       "                        <td id=\"T_66745454_7244_11ec_b598_0242ac1c0002row1_col5\" class=\"data row1 col5\" >False</td>\n",
       "                        <td id=\"T_66745454_7244_11ec_b598_0242ac1c0002row1_col6\" class=\"data row1 col6\" >False</td>\n",
       "                        <td id=\"T_66745454_7244_11ec_b598_0242ac1c0002row1_col7\" class=\"data row1 col7\" >LogisticRegression</td>\n",
       "                        <td id=\"T_66745454_7244_11ec_b598_0242ac1c0002row1_col8\" class=\"data row1 col8\" >10</td>\n",
       "                        <td id=\"T_66745454_7244_11ec_b598_0242ac1c0002row1_col9\" class=\"data row1 col9\" >lbfgs</td>\n",
       "                        <td id=\"T_66745454_7244_11ec_b598_0242ac1c0002row1_col10\" class=\"data row1 col10\" >{'C': 0.01, 'class_weight': No...</td>\n",
       "                        <td id=\"T_66745454_7244_11ec_b598_0242ac1c0002row1_col11\" class=\"data row1 col11\" >AIModelShare</td>\n",
       "                        <td id=\"T_66745454_7244_11ec_b598_0242ac1c0002row1_col12\" class=\"data row1 col12\" >2</td>\n",
       "            </tr>\n",
       "    </tbody></table>"
      ],
      "text/plain": [
       "<pandas.io.formats.style.Styler at 0x7fe68e3719d0>"
      ]
     },
     "execution_count": 20,
     "metadata": {},
     "output_type": "execute_result"
    }
   ],
   "source": [
    "data = mycompetition.get_leaderboard()\n",
    "mycompetition.stylize_leaderboard(data)"
   ]
  },
  {
   "cell_type": "markdown",
   "metadata": {
    "id": "g_bklL3shOER"
   },
   "source": [
    "Compare Models"
   ]
  },
  {
   "cell_type": "code",
   "execution_count": 21,
   "metadata": {
    "colab": {
     "base_uri": "https://localhost:8080/",
     "height": 368
    },
    "id": "quo_V3A3hNS3",
    "outputId": "53f20f10-04f1-4e72-b34b-97c1035eb754"
   },
   "outputs": [
    {
     "data": {
      "text/html": [
       "<style  type=\"text/css\" >\n",
       "    #T_68879ddc_7244_11ec_b598_0242ac1c0002 caption {\n",
       "          color: black;\n",
       "          font-size: 18px;\n",
       "    }#T_68879ddc_7244_11ec_b598_0242ac1c0002row0_col2,#T_68879ddc_7244_11ec_b598_0242ac1c0002row0_col3,#T_68879ddc_7244_11ec_b598_0242ac1c0002row9_col2,#T_68879ddc_7244_11ec_b598_0242ac1c0002row11_col2{\n",
       "            background:  tomato;\n",
       "        }</style><table id=\"T_68879ddc_7244_11ec_b598_0242ac1c0002\" ><caption>Model type: LogisticRegression</caption><thead>    <tr>        <th class=\"blank level0\" ></th>        <th class=\"col_heading level0 col0\" >param_name</th>        <th class=\"col_heading level0 col1\" >default_value</th>        <th class=\"col_heading level0 col2\" >model_version_1</th>        <th class=\"col_heading level0 col3\" >model_version_2</th>    </tr></thead><tbody>\n",
       "                <tr>\n",
       "                        <th id=\"T_68879ddc_7244_11ec_b598_0242ac1c0002level0_row0\" class=\"row_heading level0 row0\" >0</th>\n",
       "                        <td id=\"T_68879ddc_7244_11ec_b598_0242ac1c0002row0_col0\" class=\"data row0 col0\" >C</td>\n",
       "                        <td id=\"T_68879ddc_7244_11ec_b598_0242ac1c0002row0_col1\" class=\"data row0 col1\" >1.000000</td>\n",
       "                        <td id=\"T_68879ddc_7244_11ec_b598_0242ac1c0002row0_col2\" class=\"data row0 col2\" >10</td>\n",
       "                        <td id=\"T_68879ddc_7244_11ec_b598_0242ac1c0002row0_col3\" class=\"data row0 col3\" >0.010000</td>\n",
       "            </tr>\n",
       "            <tr>\n",
       "                        <th id=\"T_68879ddc_7244_11ec_b598_0242ac1c0002level0_row1\" class=\"row_heading level0 row1\" >1</th>\n",
       "                        <td id=\"T_68879ddc_7244_11ec_b598_0242ac1c0002row1_col0\" class=\"data row1 col0\" >class_weight</td>\n",
       "                        <td id=\"T_68879ddc_7244_11ec_b598_0242ac1c0002row1_col1\" class=\"data row1 col1\" >None</td>\n",
       "                        <td id=\"T_68879ddc_7244_11ec_b598_0242ac1c0002row1_col2\" class=\"data row1 col2\" >None</td>\n",
       "                        <td id=\"T_68879ddc_7244_11ec_b598_0242ac1c0002row1_col3\" class=\"data row1 col3\" >None</td>\n",
       "            </tr>\n",
       "            <tr>\n",
       "                        <th id=\"T_68879ddc_7244_11ec_b598_0242ac1c0002level0_row2\" class=\"row_heading level0 row2\" >2</th>\n",
       "                        <td id=\"T_68879ddc_7244_11ec_b598_0242ac1c0002row2_col0\" class=\"data row2 col0\" >dual</td>\n",
       "                        <td id=\"T_68879ddc_7244_11ec_b598_0242ac1c0002row2_col1\" class=\"data row2 col1\" >False</td>\n",
       "                        <td id=\"T_68879ddc_7244_11ec_b598_0242ac1c0002row2_col2\" class=\"data row2 col2\" >False</td>\n",
       "                        <td id=\"T_68879ddc_7244_11ec_b598_0242ac1c0002row2_col3\" class=\"data row2 col3\" >False</td>\n",
       "            </tr>\n",
       "            <tr>\n",
       "                        <th id=\"T_68879ddc_7244_11ec_b598_0242ac1c0002level0_row3\" class=\"row_heading level0 row3\" >3</th>\n",
       "                        <td id=\"T_68879ddc_7244_11ec_b598_0242ac1c0002row3_col0\" class=\"data row3 col0\" >fit_intercept</td>\n",
       "                        <td id=\"T_68879ddc_7244_11ec_b598_0242ac1c0002row3_col1\" class=\"data row3 col1\" >True</td>\n",
       "                        <td id=\"T_68879ddc_7244_11ec_b598_0242ac1c0002row3_col2\" class=\"data row3 col2\" >True</td>\n",
       "                        <td id=\"T_68879ddc_7244_11ec_b598_0242ac1c0002row3_col3\" class=\"data row3 col3\" >True</td>\n",
       "            </tr>\n",
       "            <tr>\n",
       "                        <th id=\"T_68879ddc_7244_11ec_b598_0242ac1c0002level0_row4\" class=\"row_heading level0 row4\" >4</th>\n",
       "                        <td id=\"T_68879ddc_7244_11ec_b598_0242ac1c0002row4_col0\" class=\"data row4 col0\" >intercept_scaling</td>\n",
       "                        <td id=\"T_68879ddc_7244_11ec_b598_0242ac1c0002row4_col1\" class=\"data row4 col1\" >1</td>\n",
       "                        <td id=\"T_68879ddc_7244_11ec_b598_0242ac1c0002row4_col2\" class=\"data row4 col2\" >1</td>\n",
       "                        <td id=\"T_68879ddc_7244_11ec_b598_0242ac1c0002row4_col3\" class=\"data row4 col3\" >1</td>\n",
       "            </tr>\n",
       "            <tr>\n",
       "                        <th id=\"T_68879ddc_7244_11ec_b598_0242ac1c0002level0_row5\" class=\"row_heading level0 row5\" >5</th>\n",
       "                        <td id=\"T_68879ddc_7244_11ec_b598_0242ac1c0002row5_col0\" class=\"data row5 col0\" >l1_ratio</td>\n",
       "                        <td id=\"T_68879ddc_7244_11ec_b598_0242ac1c0002row5_col1\" class=\"data row5 col1\" >None</td>\n",
       "                        <td id=\"T_68879ddc_7244_11ec_b598_0242ac1c0002row5_col2\" class=\"data row5 col2\" >None</td>\n",
       "                        <td id=\"T_68879ddc_7244_11ec_b598_0242ac1c0002row5_col3\" class=\"data row5 col3\" >None</td>\n",
       "            </tr>\n",
       "            <tr>\n",
       "                        <th id=\"T_68879ddc_7244_11ec_b598_0242ac1c0002level0_row6\" class=\"row_heading level0 row6\" >6</th>\n",
       "                        <td id=\"T_68879ddc_7244_11ec_b598_0242ac1c0002row6_col0\" class=\"data row6 col0\" >max_iter</td>\n",
       "                        <td id=\"T_68879ddc_7244_11ec_b598_0242ac1c0002row6_col1\" class=\"data row6 col1\" >100</td>\n",
       "                        <td id=\"T_68879ddc_7244_11ec_b598_0242ac1c0002row6_col2\" class=\"data row6 col2\" >100</td>\n",
       "                        <td id=\"T_68879ddc_7244_11ec_b598_0242ac1c0002row6_col3\" class=\"data row6 col3\" >100</td>\n",
       "            </tr>\n",
       "            <tr>\n",
       "                        <th id=\"T_68879ddc_7244_11ec_b598_0242ac1c0002level0_row7\" class=\"row_heading level0 row7\" >7</th>\n",
       "                        <td id=\"T_68879ddc_7244_11ec_b598_0242ac1c0002row7_col0\" class=\"data row7 col0\" >multi_class</td>\n",
       "                        <td id=\"T_68879ddc_7244_11ec_b598_0242ac1c0002row7_col1\" class=\"data row7 col1\" >auto</td>\n",
       "                        <td id=\"T_68879ddc_7244_11ec_b598_0242ac1c0002row7_col2\" class=\"data row7 col2\" >auto</td>\n",
       "                        <td id=\"T_68879ddc_7244_11ec_b598_0242ac1c0002row7_col3\" class=\"data row7 col3\" >auto</td>\n",
       "            </tr>\n",
       "            <tr>\n",
       "                        <th id=\"T_68879ddc_7244_11ec_b598_0242ac1c0002level0_row8\" class=\"row_heading level0 row8\" >8</th>\n",
       "                        <td id=\"T_68879ddc_7244_11ec_b598_0242ac1c0002row8_col0\" class=\"data row8 col0\" >n_jobs</td>\n",
       "                        <td id=\"T_68879ddc_7244_11ec_b598_0242ac1c0002row8_col1\" class=\"data row8 col1\" >None</td>\n",
       "                        <td id=\"T_68879ddc_7244_11ec_b598_0242ac1c0002row8_col2\" class=\"data row8 col2\" >None</td>\n",
       "                        <td id=\"T_68879ddc_7244_11ec_b598_0242ac1c0002row8_col3\" class=\"data row8 col3\" >None</td>\n",
       "            </tr>\n",
       "            <tr>\n",
       "                        <th id=\"T_68879ddc_7244_11ec_b598_0242ac1c0002level0_row9\" class=\"row_heading level0 row9\" >9</th>\n",
       "                        <td id=\"T_68879ddc_7244_11ec_b598_0242ac1c0002row9_col0\" class=\"data row9 col0\" >penalty</td>\n",
       "                        <td id=\"T_68879ddc_7244_11ec_b598_0242ac1c0002row9_col1\" class=\"data row9 col1\" >l2</td>\n",
       "                        <td id=\"T_68879ddc_7244_11ec_b598_0242ac1c0002row9_col2\" class=\"data row9 col2\" >l1</td>\n",
       "                        <td id=\"T_68879ddc_7244_11ec_b598_0242ac1c0002row9_col3\" class=\"data row9 col3\" >l2</td>\n",
       "            </tr>\n",
       "            <tr>\n",
       "                        <th id=\"T_68879ddc_7244_11ec_b598_0242ac1c0002level0_row10\" class=\"row_heading level0 row10\" >10</th>\n",
       "                        <td id=\"T_68879ddc_7244_11ec_b598_0242ac1c0002row10_col0\" class=\"data row10 col0\" >random_state</td>\n",
       "                        <td id=\"T_68879ddc_7244_11ec_b598_0242ac1c0002row10_col1\" class=\"data row10 col1\" >None</td>\n",
       "                        <td id=\"T_68879ddc_7244_11ec_b598_0242ac1c0002row10_col2\" class=\"data row10 col2\" >None</td>\n",
       "                        <td id=\"T_68879ddc_7244_11ec_b598_0242ac1c0002row10_col3\" class=\"data row10 col3\" >None</td>\n",
       "            </tr>\n",
       "            <tr>\n",
       "                        <th id=\"T_68879ddc_7244_11ec_b598_0242ac1c0002level0_row11\" class=\"row_heading level0 row11\" >11</th>\n",
       "                        <td id=\"T_68879ddc_7244_11ec_b598_0242ac1c0002row11_col0\" class=\"data row11 col0\" >solver</td>\n",
       "                        <td id=\"T_68879ddc_7244_11ec_b598_0242ac1c0002row11_col1\" class=\"data row11 col1\" >lbfgs</td>\n",
       "                        <td id=\"T_68879ddc_7244_11ec_b598_0242ac1c0002row11_col2\" class=\"data row11 col2\" >liblinear</td>\n",
       "                        <td id=\"T_68879ddc_7244_11ec_b598_0242ac1c0002row11_col3\" class=\"data row11 col3\" >lbfgs</td>\n",
       "            </tr>\n",
       "            <tr>\n",
       "                        <th id=\"T_68879ddc_7244_11ec_b598_0242ac1c0002level0_row12\" class=\"row_heading level0 row12\" >12</th>\n",
       "                        <td id=\"T_68879ddc_7244_11ec_b598_0242ac1c0002row12_col0\" class=\"data row12 col0\" >tol</td>\n",
       "                        <td id=\"T_68879ddc_7244_11ec_b598_0242ac1c0002row12_col1\" class=\"data row12 col1\" >0.000100</td>\n",
       "                        <td id=\"T_68879ddc_7244_11ec_b598_0242ac1c0002row12_col2\" class=\"data row12 col2\" >0.000100</td>\n",
       "                        <td id=\"T_68879ddc_7244_11ec_b598_0242ac1c0002row12_col3\" class=\"data row12 col3\" >0.000100</td>\n",
       "            </tr>\n",
       "            <tr>\n",
       "                        <th id=\"T_68879ddc_7244_11ec_b598_0242ac1c0002level0_row13\" class=\"row_heading level0 row13\" >13</th>\n",
       "                        <td id=\"T_68879ddc_7244_11ec_b598_0242ac1c0002row13_col0\" class=\"data row13 col0\" >verbose</td>\n",
       "                        <td id=\"T_68879ddc_7244_11ec_b598_0242ac1c0002row13_col1\" class=\"data row13 col1\" >0</td>\n",
       "                        <td id=\"T_68879ddc_7244_11ec_b598_0242ac1c0002row13_col2\" class=\"data row13 col2\" >0</td>\n",
       "                        <td id=\"T_68879ddc_7244_11ec_b598_0242ac1c0002row13_col3\" class=\"data row13 col3\" >0</td>\n",
       "            </tr>\n",
       "            <tr>\n",
       "                        <th id=\"T_68879ddc_7244_11ec_b598_0242ac1c0002level0_row14\" class=\"row_heading level0 row14\" >14</th>\n",
       "                        <td id=\"T_68879ddc_7244_11ec_b598_0242ac1c0002row14_col0\" class=\"data row14 col0\" >warm_start</td>\n",
       "                        <td id=\"T_68879ddc_7244_11ec_b598_0242ac1c0002row14_col1\" class=\"data row14 col1\" >False</td>\n",
       "                        <td id=\"T_68879ddc_7244_11ec_b598_0242ac1c0002row14_col2\" class=\"data row14 col2\" >False</td>\n",
       "                        <td id=\"T_68879ddc_7244_11ec_b598_0242ac1c0002row14_col3\" class=\"data row14 col3\" >False</td>\n",
       "            </tr>\n",
       "    </tbody></table>"
      ],
      "text/plain": [
       "<IPython.core.display.HTML object>"
      ]
     },
     "metadata": {},
     "output_type": "display_data"
    },
    {
     "name": "stdout",
     "output_type": "stream",
     "text": [
      "\n",
      "\n",
      "\n"
     ]
    }
   ],
   "source": [
    "# Compare two or more models\n",
    "data=mycompetition.compare_models([1,2], verbose=1)\n",
    "mycompetition.stylize_compare(data)"
   ]
  },
  {
   "cell_type": "markdown",
   "metadata": {
    "id": "FKm9ugiBhQFn"
   },
   "source": [
    "#### Check structure of y test data \n",
    "(This helps users understand how to submit predicted values to leaderboard)"
   ]
  },
  {
   "cell_type": "code",
   "execution_count": 22,
   "metadata": {
    "colab": {
     "base_uri": "https://localhost:8080/"
    },
    "id": "dqY82D22hPZx",
    "outputId": "b499c35c-666c-4130-c5dc-3c9d6f1d1e55"
   },
   "outputs": [
    {
     "data": {
      "text/plain": [
       "{'class_balance': {'died': 164, 'survived': 98},\n",
       " 'class_labels': ['survived', 'died'],\n",
       " 'label_dtypes': {\"<class 'str'>\": 262},\n",
       " 'y_length': 262,\n",
       " 'ytest_example': ['died', 'died', 'died', 'died', 'died']}"
      ]
     },
     "execution_count": 22,
     "metadata": {},
     "output_type": "execute_result"
    }
   ],
   "source": [
    "mycompetition.inspect_y_test()"
   ]
  },
  {
   "cell_type": "markdown",
   "metadata": {
    "id": "iA-nYjr7WCIp"
   },
   "source": [
    "## **Part 3: Maintaining your Model Playground**\n",
    "\n",
    "-------"
   ]
  },
  {
   "cell_type": "markdown",
   "metadata": {
    "id": "0UIWnHIXWM0F"
   },
   "source": [
    "Update Runtime model\n",
    "\n",
    "*Use this function to 1) update the prediction API behind your Model Playground with a new model, chosen from the leaderboard and 2) verify the modelperformance metrics in your Model Playground*"
   ]
  },
  {
   "cell_type": "code",
   "execution_count": 23,
   "metadata": {
    "colab": {
     "base_uri": "https://localhost:8080/"
    },
    "id": "wAchpcGLWLxE",
    "outputId": "ddf7b94c-176b-4f51-ddc0-8a5d0d985292"
   },
   "outputs": [
    {
     "name": "stdout",
     "output_type": "stream",
     "text": [
      "Runtime model & preprocessor for api: https://spx5okx1qc.execute-api.us-east-1.amazonaws.com/prod/m updated to model version 1.\n",
      "\n",
      "Model metrics are now updated and verified for this model playground.\n"
     ]
    }
   ],
   "source": [
    "myplayground.update_runtime_model(model_version=1)"
   ]
  },
  {
   "cell_type": "markdown",
   "metadata": {
    "id": "xhJRaiN-WaO1"
   },
   "source": [
    "Delete Deployment \n",
    "\n",
    "*Use this function to delete the entire Model Playground, including the REST API, web dashboard, competition, and all submitted models*"
   ]
  },
  {
   "cell_type": "code",
   "execution_count": null,
   "metadata": {
    "colab": {
     "base_uri": "https://localhost:8080/",
     "height": 95
    },
    "id": "mCkf-exLWyDK",
    "outputId": "562e6c5b-87f7-48b4-ec84-9ecfea5083b3"
   },
   "outputs": [
    {
     "name": "stdout",
     "output_type": "stream",
     "text": [
      "Running this function will permanently delete all resources tied to this deployment, \n",
      " including the eval lambda and all models submitted to the model competition.\n",
      "\n",
      "To confirm, type 'permanently delete':permanently delete\n"
     ]
    },
    {
     "data": {
      "application/vnd.google.colaboratory.intrinsic+json": {
       "type": "string"
      },
      "text/plain": [
       "'Deployment deleted successfully.'"
      ]
     },
     "execution_count": 27,
     "metadata": {},
     "output_type": "execute_result"
    }
   ],
   "source": [
    "myplayground.delete_deployment()"
   ]
  }
 ],
 "metadata": {
  "colab": {
   "collapsed_sections": [],
   "name": "[TITANIC] Quick Start: Tabular Model Playground Deployment and Competition Creation.ipynb",
   "provenance": []
  },
  "kernelspec": {
   "display_name": "Python 3",
   "language": "python",
   "name": "python3"
  },
  "language_info": {
   "codemirror_mode": {
    "name": "ipython",
    "version": 3
   },
   "file_extension": ".py",
   "mimetype": "text/x-python",
   "name": "python",
   "nbconvert_exporter": "python",
   "pygments_lexer": "ipython3",
   "version": "3.8.5"
  }
 },
 "nbformat": 4,
 "nbformat_minor": 1
}
