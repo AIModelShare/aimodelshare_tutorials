{
  "nbformat": 4,
  "nbformat_minor": 0,
  "metadata": {
    "colab": {
      "name": "[Flowers] Model Submission Guide.ipynb",
      "provenance": [],
      "collapsed_sections": []
    },
    "kernelspec": {
      "name": "python3",
      "display_name": "Python 3"
    },
    "language_info": {
      "name": "python"
    }
  },
  "cells": [
    {
      "cell_type": "markdown",
      "source": [
        "<p align=\"center\"><img width=\"50%\" src=\"https://aimodelsharecontent.s3.amazonaws.com/aimodshare_banner.jpg\" /></p>\n",
        "\n",
        "\n",
        "---\n",
        "**Data Source:**<br>\n",
        "The Tensorflow Team. (2019, January). Flowers. http://download.tensorflow.org/example_images/flower_photos.tgz \n"
      ],
      "metadata": {
        "id": "g8Hr8qrnroxM"
      }
    },
    {
      "cell_type": "markdown",
      "metadata": {
        "id": "JXxGTgJz152A"
      },
      "source": [
        "# Flower Classification Competition Model Submission Guide\n",
        "\n",
        "---\n",
        "\n",
        "Let's share our models to a centralized leaderboard, so that we can collaborate and learn from the model experimentation process...\n",
        "\n",
        "**Instructions:**\n",
        "1.   Get data in and set up X_train / X_test / y_train\n",
        "2.   Preprocess data / Write and Save Preprocessor function\n",
        "3. Fit model on preprocessed data and save preprocessor function and model \n",
        "4. Generate predictions from X_test data and submit model to competition\n",
        "5. Repeat submission process to improve place on leaderboard\n",
        "\n"
      ]
    },
    {
      "cell_type": "markdown",
      "metadata": {
        "id": "5gSrVJwp3E9H"
      },
      "source": [
        "## 1. Get data in and set up X_train, X_test, y_train objects"
      ]
    },
    {
      "cell_type": "code",
      "metadata": {
        "id": "PLTIaMB3ChSW"
      },
      "source": [
        "#install aimodelshare library\n",
        "! pip install aimodelshare --upgrade"
      ],
      "execution_count": null,
      "outputs": []
    },
    {
      "cell_type": "code",
      "metadata": {
        "id": "d3PiJXBhC5y-",
        "colab": {
          "base_uri": "https://localhost:8080/"
        },
        "outputId": "7b5db3bf-5fea-4b40-b63f-47fe20ab036d"
      },
      "source": [
        "# Get competition data\n",
        "from aimodelshare import download_data\n",
        "download_data('public.ecr.aws/y2e2a1d6/flower_competition_data-repository:latest') "
      ],
      "execution_count": 2,
      "outputs": [
        {
          "output_type": "stream",
          "name": "stdout",
          "text": [
            "Downloading [================================================>]\n",
            "\n",
            "Data downloaded successfully.\n"
          ]
        }
      ]
    },
    {
      "cell_type": "code",
      "metadata": {
        "id": "jT0qFCZFNzHq",
        "colab": {
          "base_uri": "https://localhost:8080/"
        },
        "outputId": "84d00cb2-94d6-4d2b-b9ac-837be208cbf0"
      },
      "source": [
        "# Create training data objects \n",
        "\n",
        "# Extracting all filepaths iteratively...\n",
        "import os \n",
        "\n",
        "base_path = 'flower_competition_data/train_images'\n",
        "categories = ['daisy', 'dandelion', 'roses', 'sunflowers', 'tulips']\n",
        "\n",
        "# Load file paths to fnames list object...\n",
        "fnames = []\n",
        "for category in categories:\n",
        "    flower_folder = os.path.join(base_path, category)\n",
        "    file_names = os.listdir(flower_folder)\n",
        "    full_path = [os.path.join(flower_folder, file_name) for file_name in file_names]\n",
        "    fnames.append(full_path)\n",
        "\n",
        "print('number of images for each category:', [len(f) for f in fnames])\n",
        "print(fnames[0:2]) # Examples of file names...\n",
        "\n",
        "# Create y data made up of correctly ordered labels from file folders...\n",
        "from itertools import repeat\n",
        "\n",
        "daisy = list(repeat(\"daisy\", 507)) #i.e.: 507 filenames in daisy folder\n",
        "dandelion = list(repeat(\"dandelion\", 718))\n",
        "roses = list(repeat(\"roses\", 513))\n",
        "sunflowers = list(repeat(\"sunflowers\", 559))\n",
        "tulips = list(repeat(\"tulips\", 639))\n",
        "\n",
        "# Combine into single list of y labels...\n",
        "y_labels = daisy + dandelion + roses + sunflowers + tulips \n",
        "\n",
        "# Need to one-hot encode for Keras. Let's use Pandas...\n",
        "import pandas as pd\n",
        "y_train = pd.get_dummies(y_labels)"
      ],
      "execution_count": 3,
      "outputs": [
        {
          "output_type": "stream",
          "name": "stdout",
          "text": [
            "number of images for each category: [507, 718, 513, 559, 639]\n",
            "[['flower_competition_data/train_images/daisy/5574421625_61b1f49b3f_m.jpg', 'flower_competition_data/train_images/daisy/7454630692_ab2d67dd18_m.jpg', 'flower_competition_data/train_images/daisy/3704306975_75b74497d8.jpg', 'flower_competition_data/train_images/daisy/5739768868_9f982684f9_n.jpg', 'flower_competition_data/train_images/daisy/498159452_b71afd65ba.jpg', 'flower_competition_data/train_images/daisy/3848258315_ed2fde4fb4.jpg', 'flower_competition_data/train_images/daisy/14674743211_f68b13f6d9.jpg', 'flower_competition_data/train_images/daisy/534547364_3f6b7279d2_n.jpg', 'flower_competition_data/train_images/daisy/7749368884_1fc58c67ff_n.jpg', 'flower_competition_data/train_images/daisy/3706420943_66f3214862_n.jpg', 'flower_competition_data/train_images/daisy/2479956481_8d1a9699be_n.jpg', 'flower_competition_data/train_images/daisy/171972704_389cf7a953.jpg', 'flower_competition_data/train_images/daisy/2521408074_e6f86daf21_n.jpg', 'flower_competition_data/train_images/daisy/21626652132_97e1318bb8_m.jpg', 'flower_competition_data/train_images/daisy/8120563761_ed5620664f_m.jpg', 'flower_competition_data/train_images/daisy/16291797949_a1b1b7c2bd_n.jpg', 'flower_competition_data/train_images/daisy/3336704121_cfeb67a7d7.jpg', 'flower_competition_data/train_images/daisy/14564545365_1f1d267bf1_n.jpg', 'flower_competition_data/train_images/daisy/14421389519_d5fd353eb4.jpg', 'flower_competition_data/train_images/daisy/16737503507_431768a927.jpg', 'flower_competition_data/train_images/daisy/14707111433_cce08ee007.jpg', 'flower_competition_data/train_images/daisy/3337643329_accc9b5426.jpg', 'flower_competition_data/train_images/daisy/162362897_1d21b70621_m.jpg', 'flower_competition_data/train_images/daisy/433037739_6a030e5912.jpg', 'flower_competition_data/train_images/daisy/14551098743_2842e7a004_n.jpg', 'flower_competition_data/train_images/daisy/437859108_173fb33c98.jpg', 'flower_competition_data/train_images/daisy/9515186037_3be48fe68f.jpg', 'flower_competition_data/train_images/daisy/2520369272_1dcdb5a892_m.jpg', 'flower_competition_data/train_images/daisy/3764116502_f394428ee0_n.jpg', 'flower_competition_data/train_images/daisy/18684594849_7dd3634f5e_n.jpg', 'flower_competition_data/train_images/daisy/5626784099_b36dd3fb11_n.jpg', 'flower_competition_data/train_images/daisy/8887005939_b19e8305ee.jpg', 'flower_competition_data/train_images/daisy/12701063955_4840594ea6_n.jpg', 'flower_competition_data/train_images/daisy/4890424315_6a59696357_n.jpg', 'flower_competition_data/train_images/daisy/2488902131_3417698611_n.jpg', 'flower_competition_data/train_images/daisy/3720632920_93cf1cc7f3_m.jpg', 'flower_competition_data/train_images/daisy/1656856503_447e5b0f03.jpg', 'flower_competition_data/train_images/daisy/4222584034_8964cbd3de.jpg', 'flower_competition_data/train_images/daisy/20685027271_0e7306e7c1_n.jpg', 'flower_competition_data/train_images/daisy/18622672908_eab6dc9140_n.jpg', 'flower_competition_data/train_images/daisy/517054463_036db655a1_m.jpg', 'flower_competition_data/train_images/daisy/4434592930_6610d51fca_m.jpg', 'flower_competition_data/train_images/daisy/2481823240_eab0d86921.jpg', 'flower_competition_data/train_images/daisy/18354545086_693ea7bc2a.jpg', 'flower_competition_data/train_images/daisy/1441939151_b271408c8d_n.jpg', 'flower_competition_data/train_images/daisy/2632216904_274aa17433.jpg', 'flower_competition_data/train_images/daisy/5885826924_38fdc6bcaa_n.jpg', 'flower_competition_data/train_images/daisy/5608389827_a42a46f760.jpg', 'flower_competition_data/train_images/daisy/8645839873_0151fb92bf_n.jpg', 'flower_competition_data/train_images/daisy/506348009_9ecff8b6ef.jpg', 'flower_competition_data/train_images/daisy/2581171297_b0a249b92b_n.jpg', 'flower_competition_data/train_images/daisy/5435522104_1d6a61b431_n.jpg', 'flower_competition_data/train_images/daisy/4276898893_609d11db8b.jpg', 'flower_competition_data/train_images/daisy/2646438199_b309cffd65_n.jpg', 'flower_competition_data/train_images/daisy/3780380240_ef9ec1b737_m.jpg', 'flower_competition_data/train_images/daisy/3356112863_75da8bca2c_m.jpg', 'flower_competition_data/train_images/daisy/1285423653_18926dc2c8_n.jpg', 'flower_competition_data/train_images/daisy/172882635_4cc7b86731_m.jpg', 'flower_competition_data/train_images/daisy/452854574_59492f119a_m.jpg', 'flower_competition_data/train_images/daisy/2087343668_ef4fb95787_n.jpg', 'flower_competition_data/train_images/daisy/11124324295_503f3a0804.jpg', 'flower_competition_data/train_images/daisy/2828733818_1c1ed0089d_n.jpg', 'flower_competition_data/train_images/daisy/1392131677_116ec04751.jpg', 'flower_competition_data/train_images/daisy/5110109540_beed4ed162_m.jpg', 'flower_competition_data/train_images/daisy/18442919723_d1251d3e14_n.jpg', 'flower_competition_data/train_images/daisy/1299501272_59d9da5510_n.jpg', 'flower_competition_data/train_images/daisy/4724713781_d169f98a35.jpg', 'flower_competition_data/train_images/daisy/9489270024_1b05f08492_m.jpg', 'flower_competition_data/train_images/daisy/3598615130_578ed30e5f.jpg', 'flower_competition_data/train_images/daisy/5561775629_a2b709b3a4_n.jpg', 'flower_competition_data/train_images/daisy/10993818044_4c19b86c82.jpg', 'flower_competition_data/train_images/daisy/13953307149_f8de6a768c_m.jpg', 'flower_competition_data/train_images/daisy/10172379554_b296050f82_n.jpg', 'flower_competition_data/train_images/daisy/3640845041_80a92c4205_n.jpg', 'flower_competition_data/train_images/daisy/301964511_fab84ea1c1.jpg', 'flower_competition_data/train_images/daisy/6136947177_47ff445eb4_n.jpg', 'flower_competition_data/train_images/daisy/5809489674_5659b3ae5d_n.jpg', 'flower_competition_data/train_images/daisy/17101762155_2577a28395.jpg', 'flower_competition_data/train_images/daisy/144099102_bf63a41e4f_n.jpg', 'flower_competition_data/train_images/daisy/14372713423_61e2daae88.jpg', 'flower_competition_data/train_images/daisy/11439894966_dca877f0cd.jpg', 'flower_competition_data/train_images/daisy/144076848_57e1d662e3_m.jpg', 'flower_competition_data/train_images/daisy/14399435971_ea5868c792.jpg', 'flower_competition_data/train_images/daisy/5110105726_53eb7a93be_m.jpg', 'flower_competition_data/train_images/daisy/6910811638_aa6f17df23.jpg', 'flower_competition_data/train_images/daisy/4613992315_143ccc2a10_m.jpg', 'flower_competition_data/train_images/daisy/15306268004_4680ba95e1.jpg', 'flower_competition_data/train_images/daisy/5714327423_50af0cffe9.jpg', 'flower_competition_data/train_images/daisy/15760153042_a2a90e9da5_m.jpg', 'flower_competition_data/train_images/daisy/2561371688_c80a4fe957_n.jpg', 'flower_competition_data/train_images/daisy/13826249325_f61cb15f86_n.jpg', 'flower_competition_data/train_images/daisy/13977181862_f8237b6b52.jpg', 'flower_competition_data/train_images/daisy/3699235066_fc09a02dfe_m.jpg', 'flower_competition_data/train_images/daisy/14591326135_930703dbed_m.jpg', 'flower_competition_data/train_images/daisy/2642408410_61545fdc83_n.jpg', 'flower_competition_data/train_images/daisy/4318007511_e9f4311936_n.jpg', 'flower_competition_data/train_images/daisy/3703643767_dee82cdef9_n.jpg', 'flower_competition_data/train_images/daisy/7377004908_5bc0cde347_n.jpg', 'flower_competition_data/train_images/daisy/8063844363_db3f4dea85.jpg', 'flower_competition_data/train_images/daisy/8696022686_1f8d62c5cb_m.jpg', 'flower_competition_data/train_images/daisy/10172636503_21bededa75_n.jpg', 'flower_competition_data/train_images/daisy/18711159980_11d3bd5042.jpg', 'flower_competition_data/train_images/daisy/16360180712_b72695928c_n.jpg', 'flower_competition_data/train_images/daisy/3504430338_77d6a7fab4_n.jpg', 'flower_competition_data/train_images/daisy/4496202781_1d8e776ff5_n.jpg', 'flower_competition_data/train_images/daisy/18195689904_46619b7e16_n.jpg', 'flower_competition_data/train_images/daisy/517054467_d82d323c33_m.jpg', 'flower_competition_data/train_images/daisy/3483303007_42e3f90da7.jpg', 'flower_competition_data/train_images/daisy/4540555191_3254dc4608_n.jpg', 'flower_competition_data/train_images/daisy/2057816617_18448093d0_n.jpg', 'flower_competition_data/train_images/daisy/17249393016_093e915012_n.jpg', 'flower_competition_data/train_images/daisy/7227973870_806d9d3e42_n.jpg', 'flower_competition_data/train_images/daisy/5700781400_65761f3fce.jpg', 'flower_competition_data/train_images/daisy/3633489595_a037a9b7a4_m.jpg', 'flower_competition_data/train_images/daisy/2551708158_1f10e81e11.jpg', 'flower_competition_data/train_images/daisy/23095658544_7226386954_n.jpg', 'flower_competition_data/train_images/daisy/4432271543_01c56ca3a9.jpg', 'flower_competition_data/train_images/daisy/14402451388_56545a374a_n.jpg', 'flower_competition_data/train_images/daisy/391364010_4b0942d400_m.jpg', 'flower_competition_data/train_images/daisy/391364011_5beaaa1ae2_m.jpg', 'flower_competition_data/train_images/daisy/2607132536_d95198e619_n.jpg', 'flower_competition_data/train_images/daisy/4563059851_45a9d21a75.jpg', 'flower_competition_data/train_images/daisy/7629784968_b953501902_n.jpg', 'flower_competition_data/train_images/daisy/7630517248_98fb8bee1f_n.jpg', 'flower_competition_data/train_images/daisy/19280272025_57de24e940_m.jpg', 'flower_competition_data/train_images/daisy/3410906335_37e8a24b1c_n.jpg', 'flower_competition_data/train_images/daisy/20948886919_cac7844f34_n.jpg', 'flower_competition_data/train_images/daisy/158869618_f1a6704236_n.jpg', 'flower_competition_data/train_images/daisy/1314069875_da8dc023c6_m.jpg', 'flower_competition_data/train_images/daisy/18582579815_4c6637e9ff_m.jpg', 'flower_competition_data/train_images/daisy/4746633946_23933c0810.jpg', 'flower_competition_data/train_images/daisy/8616684075_71923bb771_n.jpg', 'flower_competition_data/train_images/daisy/2001380507_19488ff96a_n.jpg', 'flower_competition_data/train_images/daisy/17027891179_3edc08f4f6.jpg', 'flower_competition_data/train_images/daisy/9094631844_1a6abca29e.jpg', 'flower_competition_data/train_images/daisy/5673551_01d1ea993e_n.jpg', 'flower_competition_data/train_images/daisy/6884975451_c74f445d69_m.jpg', 'flower_competition_data/train_images/daisy/5948835387_5a98d39eff_m.jpg', 'flower_competition_data/train_images/daisy/6978826370_7b9aa7c7d5.jpg', 'flower_competition_data/train_images/daisy/8489463746_a9839bf7e4.jpg', 'flower_competition_data/train_images/daisy/4694734757_5c563d38dd_n.jpg', 'flower_competition_data/train_images/daisy/7790614422_4557928ab9_n.jpg', 'flower_competition_data/train_images/daisy/4511693548_20f9bd2b9c_m.jpg', 'flower_competition_data/train_images/daisy/459931395_24bf6531fe_n.jpg', 'flower_competition_data/train_images/daisy/4565255237_9ba29c4d4e_n.jpg', 'flower_competition_data/train_images/daisy/5087720485_c0914fb623.jpg', 'flower_competition_data/train_images/daisy/8127252886_96558c23d1.jpg', 'flower_competition_data/train_images/daisy/15853110333_229c439e7f.jpg', 'flower_competition_data/train_images/daisy/7568630428_8cf0fc16ff_n.jpg', 'flower_competition_data/train_images/daisy/705422469_ffa28c566d.jpg', 'flower_competition_data/train_images/daisy/14088053307_1a13a0bf91_n.jpg', 'flower_competition_data/train_images/daisy/6089825811_80f253fbe1.jpg', 'flower_competition_data/train_images/daisy/4897587985_f9293ea1ed.jpg', 'flower_competition_data/train_images/daisy/2713919471_301fcc941f.jpg', 'flower_competition_data/train_images/daisy/3957488431_52a447c0e8_m.jpg', 'flower_competition_data/train_images/daisy/11834945233_a53b7a92ac_m.jpg', 'flower_competition_data/train_images/daisy/2578695910_5ab8ee17c1_n.jpg', 'flower_competition_data/train_images/daisy/525780443_bba812c26a_m.jpg', 'flower_competition_data/train_images/daisy/5794839_200acd910c_n.jpg', 'flower_competition_data/train_images/daisy/19653086178_28156b7ce4_m.jpg', 'flower_competition_data/train_images/daisy/4757448834_a29a9538c9_n.jpg', 'flower_competition_data/train_images/daisy/521762040_f26f2e08dd.jpg', 'flower_competition_data/train_images/daisy/5577555349_2e8490259b.jpg', 'flower_competition_data/train_images/daisy/2877860110_a842f8b14a_m.jpg', 'flower_competition_data/train_images/daisy/7630520686_e3a61ac763.jpg', 'flower_competition_data/train_images/daisy/450128527_fd35742d44.jpg', 'flower_competition_data/train_images/daisy/3999978867_c67c79597f_m.jpg', 'flower_competition_data/train_images/daisy/18679421522_3be9879e32.jpg', 'flower_competition_data/train_images/daisy/5623010186_796ca8d29a.jpg', 'flower_competition_data/train_images/daisy/4865691548_00319261b8.jpg', 'flower_competition_data/train_images/daisy/3588872598_e0f9a1d2a1_m.jpg', 'flower_competition_data/train_images/daisy/15813862117_dedcd1c56f_m.jpg', 'flower_competition_data/train_images/daisy/5110107234_12ddc0206b_m.jpg', 'flower_competition_data/train_images/daisy/3463313493_9497aa47e5_n.jpg', 'flower_competition_data/train_images/daisy/4993492878_11fd4f5d12.jpg', 'flower_competition_data/train_images/daisy/2862944799_45bc8e7302.jpg', 'flower_competition_data/train_images/daisy/3533954656_79156c8473.jpg', 'flower_competition_data/train_images/daisy/20619292635_9857a12d54.jpg', 'flower_competition_data/train_images/daisy/2513618768_ff7c004796_m.jpg', 'flower_competition_data/train_images/daisy/2641979584_2b21c3fe29_m.jpg', 'flower_competition_data/train_images/daisy/2590291468_2635d3e4e0_n.jpg', 'flower_competition_data/train_images/daisy/20703737132_179560d0fb.jpg', 'flower_competition_data/train_images/daisy/1354396826_2868631432_m.jpg', 'flower_competition_data/train_images/daisy/9593034725_0062f0d24e_n.jpg', 'flower_competition_data/train_images/daisy/5459481183_18d2d49e44_m.jpg', 'flower_competition_data/train_images/daisy/2889325612_f2fc403ff0_m.jpg', 'flower_competition_data/train_images/daisy/10712722853_5632165b04.jpg', 'flower_competition_data/train_images/daisy/2621723097_736febb4a4_n.jpg', 'flower_competition_data/train_images/daisy/172967318_c596d082cc.jpg', 'flower_competition_data/train_images/daisy/4065883015_4bb6010cb7_n.jpg', 'flower_competition_data/train_images/daisy/3084924076_4d5c5711af_m.jpg', 'flower_competition_data/train_images/daisy/10770585085_4742b9dac3_n.jpg', 'flower_competition_data/train_images/daisy/11870378973_2ec1919f12.jpg', 'flower_competition_data/train_images/daisy/495098110_3a4bb30042_n.jpg', 'flower_competition_data/train_images/daisy/8964198962_6d8593b533.jpg', 'flower_competition_data/train_images/daisy/5884807222_22f5326ba8_m.jpg', 'flower_competition_data/train_images/daisy/8085329197_41d53a21e2_n.jpg', 'flower_competition_data/train_images/daisy/14330343061_99478302d4_m.jpg', 'flower_competition_data/train_images/daisy/1396526833_fb867165be_n.jpg', 'flower_competition_data/train_images/daisy/2482982436_a2145359e0_n.jpg', 'flower_competition_data/train_images/daisy/4646886118_b5c5ceaf6d_n.jpg', 'flower_competition_data/train_images/daisy/1344985627_c3115e2d71_n.jpg', 'flower_competition_data/train_images/daisy/5135131051_102d4878ca_n.jpg', 'flower_competition_data/train_images/daisy/8694909523_3ca25d449d_n.jpg', 'flower_competition_data/train_images/daisy/14554906452_35f066ffe9_n.jpg', 'flower_competition_data/train_images/daisy/2476937534_21b285aa46_n.jpg', 'flower_competition_data/train_images/daisy/14245834619_153624f836.jpg', 'flower_competition_data/train_images/daisy/4753134939_8e87649db6.jpg', 'flower_competition_data/train_images/daisy/9346508462_f0af3163f4.jpg', 'flower_competition_data/train_images/daisy/7335886184_d06a83f640.jpg', 'flower_competition_data/train_images/daisy/9350942387_5b1d043c26_n.jpg', 'flower_competition_data/train_images/daisy/14816364517_2423021484_m.jpg', 'flower_competition_data/train_images/daisy/8709535323_a6bea3e43f.jpg', 'flower_competition_data/train_images/daisy/9180706736_092d43088c.jpg', 'flower_competition_data/train_images/daisy/6776075110_1ea7a09dd4_n.jpg', 'flower_competition_data/train_images/daisy/6207492986_0ff91f3296.jpg', 'flower_competition_data/train_images/daisy/2511306240_9047015f2d_n.jpg', 'flower_competition_data/train_images/daisy/3338077096_3a8ed0e2bc_m.jpg', 'flower_competition_data/train_images/daisy/4440480869_632ce6aff3_n.jpg', 'flower_competition_data/train_images/daisy/6208851904_9d916ebb32_n.jpg', 'flower_competition_data/train_images/daisy/8932490012_cc08e690ba_n.jpg', 'flower_competition_data/train_images/daisy/3491933306_43cfe2cfbe.jpg', 'flower_competition_data/train_images/daisy/9595857626_979c45e5bf_n.jpg', 'flower_competition_data/train_images/daisy/4792826628_aa5e5a9804_n.jpg', 'flower_competition_data/train_images/daisy/10140303196_b88d3d6cec.jpg', 'flower_competition_data/train_images/daisy/5853276960_d08f90fff6.jpg', 'flower_competition_data/train_images/daisy/5512287917_9f5d3f0f98_n.jpg', 'flower_competition_data/train_images/daisy/4278442064_a5a598524b_m.jpg', 'flower_competition_data/train_images/daisy/267148092_4bb874af58.jpg', 'flower_competition_data/train_images/daisy/5722473541_ffac1ae67e_n.jpg', 'flower_competition_data/train_images/daisy/5944315415_2be8abeb2f_m.jpg', 'flower_competition_data/train_images/daisy/5881907044_92a85a05c8_n.jpg', 'flower_competition_data/train_images/daisy/3900172983_9312fdf39c_n.jpg', 'flower_competition_data/train_images/daisy/8708143485_38d084ac8c_n.jpg', 'flower_competition_data/train_images/daisy/3637428148_a1dcccafa9_n.jpg', 'flower_competition_data/train_images/daisy/134372449_0f7166d96c_n.jpg', 'flower_competition_data/train_images/daisy/5796562389_ae43c83317_m.jpg', 'flower_competition_data/train_images/daisy/4814515275_6e25a6c18f.jpg', 'flower_competition_data/train_images/daisy/4581199679_867652c3f1_n.jpg', 'flower_competition_data/train_images/daisy/10993710036_2033222c91.jpg', 'flower_competition_data/train_images/daisy/8710109684_e2c5ef6aeb_n.jpg', 'flower_competition_data/train_images/daisy/7133935763_82b17c8e1b_n.jpg', 'flower_competition_data/train_images/daisy/1955336401_fbb206d6ef_n.jpg', 'flower_competition_data/train_images/daisy/4301689054_20519e5b68.jpg', 'flower_competition_data/train_images/daisy/5602738326_97121e007d_n.jpg', 'flower_competition_data/train_images/daisy/1392946544_115acbb2d9.jpg', 'flower_competition_data/train_images/daisy/3861452393_14d2f95157_m.jpg', 'flower_competition_data/train_images/daisy/4131565290_0585c4dd5a_n.jpg', 'flower_competition_data/train_images/daisy/9286947622_4822f4fc21.jpg', 'flower_competition_data/train_images/daisy/5434901893_4550be3f84_m.jpg', 'flower_competition_data/train_images/daisy/163978992_8128b49d3e_n.jpg', 'flower_competition_data/train_images/daisy/4858518329_7563eb0baa_m.jpg', 'flower_competition_data/train_images/daisy/3711723108_65247a3170.jpg', 'flower_competition_data/train_images/daisy/7630511450_02d3292e90.jpg', 'flower_competition_data/train_images/daisy/512177035_70afc925c8.jpg', 'flower_competition_data/train_images/daisy/21652746_cc379e0eea_m.jpg', 'flower_competition_data/train_images/daisy/5769217520_c90efc3c93_m.jpg', 'flower_competition_data/train_images/daisy/5997702776_c7bc37aa6b_n.jpg', 'flower_competition_data/train_images/daisy/4683997791_56e7d3c03c_n.jpg', 'flower_competition_data/train_images/daisy/18023717391_e2c9089e10.jpg', 'flower_competition_data/train_images/daisy/7066602021_2647457985_m.jpg', 'flower_competition_data/train_images/daisy/3386988684_bc5a66005e.jpg', 'flower_competition_data/train_images/daisy/9611923744_013b29e4da_n.jpg', 'flower_competition_data/train_images/daisy/5673728_71b8cb57eb.jpg', 'flower_competition_data/train_images/daisy/8008258043_5457dd254b_n.jpg', 'flower_competition_data/train_images/daisy/2539552964_921cf645ba_n.jpg', 'flower_competition_data/train_images/daisy/2365428551_39f83f10bf_n.jpg', 'flower_competition_data/train_images/daisy/9321854387_5f77c926cb_n.jpg', 'flower_competition_data/train_images/daisy/5684911529_88a7ae32ba_n.jpg', 'flower_competition_data/train_images/daisy/3711892138_b8c953fdc1_z.jpg', 'flower_competition_data/train_images/daisy/7633425046_8293e3d0e9_m.jpg', 'flower_competition_data/train_images/daisy/3475870145_685a19116d.jpg', 'flower_competition_data/train_images/daisy/16482676953_5296227d40_n.jpg', 'flower_competition_data/train_images/daisy/4281102584_c548a69b81_m.jpg', 'flower_competition_data/train_images/daisy/102841525_bd6628ae3c.jpg', 'flower_competition_data/train_images/daisy/835750256_3f91a147ef_n.jpg', 'flower_competition_data/train_images/daisy/16833748795_b681b2839f_n.jpg', 'flower_competition_data/train_images/daisy/3717746329_53f515c6a6_m.jpg', 'flower_competition_data/train_images/daisy/3661613900_b15ca1d35d_m.jpg', 'flower_competition_data/train_images/daisy/5883162120_dc7274af76_n.jpg', 'flower_competition_data/train_images/daisy/16121105382_b96251e506_m.jpg', 'flower_competition_data/train_images/daisy/8742143296_fed9fa007c.jpg', 'flower_competition_data/train_images/daisy/6095817094_3a5b1d793d.jpg', 'flower_competition_data/train_images/daisy/3750771898_cfd50090ba_n.jpg', 'flower_competition_data/train_images/daisy/3962240986_0661edc43a_n.jpg', 'flower_competition_data/train_images/daisy/2454280135_ac3aa75cdc_n.jpg', 'flower_competition_data/train_images/daisy/5435521200_92029bbe2b_n.jpg', 'flower_competition_data/train_images/daisy/5632774792_0fa33d17eb_n.jpg', 'flower_competition_data/train_images/daisy/3611577717_f3a7a8c416_n.jpg', 'flower_competition_data/train_images/daisy/4286053334_a75541f20b_m.jpg', 'flower_competition_data/train_images/daisy/4598422221_b37313a3e3_n.jpg', 'flower_competition_data/train_images/daisy/5973491805_556bba93cc.jpg', 'flower_competition_data/train_images/daisy/1342002397_9503c97b49.jpg', 'flower_competition_data/train_images/daisy/3552074420_2a0a7166db_m.jpg', 'flower_competition_data/train_images/daisy/5547758_eea9edfd54_n.jpg', 'flower_competition_data/train_images/daisy/22873310415_3a5674ec10_m.jpg', 'flower_competition_data/train_images/daisy/2666572212_2caca8de9f_n.jpg', 'flower_competition_data/train_images/daisy/14073784469_ffb12f3387_n.jpg', 'flower_competition_data/train_images/daisy/9158041313_7a6a102f7a_n.jpg', 'flower_competition_data/train_images/daisy/14272874304_47c0a46f5a.jpg', 'flower_competition_data/train_images/daisy/12348343085_d4c396e5b5_m.jpg', 'flower_competition_data/train_images/daisy/286875003_f7c0e1882d.jpg', 'flower_competition_data/train_images/daisy/3468498624_d082f99e98.jpg', 'flower_competition_data/train_images/daisy/18474740346_ffdaa18032.jpg', 'flower_competition_data/train_images/daisy/20182559506_40a112f762.jpg', 'flower_competition_data/train_images/daisy/14147016029_8d3cf2414e.jpg', 'flower_competition_data/train_images/daisy/14485782498_fb342ec301.jpg', 'flower_competition_data/train_images/daisy/476856232_7c35952f40_n.jpg', 'flower_competition_data/train_images/daisy/5981645737_29eceac291_m.jpg', 'flower_competition_data/train_images/daisy/10172567486_2748826a8b.jpg', 'flower_competition_data/train_images/daisy/9529916092_de70623523_n.jpg', 'flower_competition_data/train_images/daisy/3628485766_4ff937954a_n.jpg', 'flower_competition_data/train_images/daisy/2454280137_e1637536ae_n.jpg', 'flower_competition_data/train_images/daisy/14507818175_05219b051c_m.jpg', 'flower_competition_data/train_images/daisy/519880292_7a3a6c6b69.jpg', 'flower_competition_data/train_images/daisy/5434914569_e9b982fde0_n.jpg', 'flower_competition_data/train_images/daisy/7288989324_c25d9febbf.jpg', 'flower_competition_data/train_images/daisy/2567033807_8e918c53d8_n.jpg', 'flower_competition_data/train_images/daisy/5665838969_fe217988b9_m.jpg', 'flower_competition_data/train_images/daisy/14716799982_ed6d626a66.jpg', 'flower_competition_data/train_images/daisy/7199968650_72afc16d31_m.jpg', 'flower_competition_data/train_images/daisy/7358085448_b317d11cd5.jpg', 'flower_competition_data/train_images/daisy/1306119996_ab8ae14d72_n.jpg', 'flower_competition_data/train_images/daisy/4668543441_79040ca329_n.jpg', 'flower_competition_data/train_images/daisy/799952628_bf836677fa_n.jpg', 'flower_competition_data/train_images/daisy/909609509_a05ccb8127.jpg', 'flower_competition_data/train_images/daisy/17357636476_1953c07aa4_n.jpg', 'flower_competition_data/train_images/daisy/530738000_4df7e4786b.jpg', 'flower_competition_data/train_images/daisy/3310644753_5607eb96a4_m.jpg', 'flower_competition_data/train_images/daisy/5869147563_66fb88119d.jpg', 'flower_competition_data/train_images/daisy/22244161124_53e457bb66_n.jpg', 'flower_competition_data/train_images/daisy/10994032453_ac7f8d9e2e.jpg', 'flower_competition_data/train_images/daisy/10437754174_22ec990b77_m.jpg', 'flower_competition_data/train_images/daisy/1286274236_1d7ac84efb_n.jpg', 'flower_competition_data/train_images/daisy/2812442552_3eed5fb9f2_m.jpg', 'flower_competition_data/train_images/daisy/4544110929_a7de65d65f_n.jpg', 'flower_competition_data/train_images/daisy/14354051035_1037b30421_n.jpg', 'flower_competition_data/train_images/daisy/6864242336_0d12713fe5_n.jpg', 'flower_competition_data/train_images/daisy/2561352120_7961d8263f.jpg', 'flower_competition_data/train_images/daisy/5765646947_82e95a9cc9_n.jpg', 'flower_competition_data/train_images/daisy/299129811_d6ebda9970.jpg', 'flower_competition_data/train_images/daisy/3773181799_5def396456.jpg', 'flower_competition_data/train_images/daisy/10466558316_a7198b87e2.jpg', 'flower_competition_data/train_images/daisy/2556503265_63ae6b9e0e_m.jpg', 'flower_competition_data/train_images/daisy/302782756_d35cb3e468.jpg', 'flower_competition_data/train_images/daisy/2077865117_9ed85191ae_n.jpg', 'flower_competition_data/train_images/daisy/134409839_71069a95d1_m.jpg', 'flower_competition_data/train_images/daisy/2346726545_2ebce2b2a6.jpg', 'flower_competition_data/train_images/daisy/25360380_1a881a5648.jpg', 'flower_competition_data/train_images/daisy/14221836990_90374e6b34.jpg', 'flower_competition_data/train_images/daisy/20580471306_ab5a011b15_n.jpg', 'flower_competition_data/train_images/daisy/8706810197_17b6c1f1e7.jpg', 'flower_competition_data/train_images/daisy/18400014056_2e4c601ed5.jpg', 'flower_competition_data/train_images/daisy/4534460263_8e9611db3c_n.jpg', 'flower_competition_data/train_images/daisy/14167543177_cd36b54ac6_n.jpg', 'flower_competition_data/train_images/daisy/21402054779_759366efb0_n.jpg', 'flower_competition_data/train_images/daisy/10555826524_423eb8bf71_n.jpg', 'flower_competition_data/train_images/daisy/435283392_72e4c5b5d6_m.jpg', 'flower_competition_data/train_images/daisy/4861391074_c3e122dab0_m.jpg', 'flower_competition_data/train_images/daisy/154332674_453cea64f4.jpg', 'flower_competition_data/train_images/daisy/3440366251_5b9bdf27c9_m.jpg', 'flower_competition_data/train_images/daisy/14264136211_9531fbc144.jpg', 'flower_competition_data/train_images/daisy/12193032636_b50ae7db35_n.jpg', 'flower_competition_data/train_images/daisy/99306615_739eb94b9e_m.jpg', 'flower_competition_data/train_images/daisy/54377391_15648e8d18.jpg', 'flower_competition_data/train_images/daisy/16020253176_60f2a6a5ca_n.jpg', 'flower_competition_data/train_images/daisy/1374193928_a52320eafa.jpg', 'flower_competition_data/train_images/daisy/3080880039_4f1bd592e5_n.jpg', 'flower_competition_data/train_images/daisy/5679288570_b4c52e76d5.jpg', 'flower_competition_data/train_images/daisy/6323721068_3d3394af6d_n.jpg', 'flower_competition_data/train_images/daisy/16025261368_911703a536_n.jpg', 'flower_competition_data/train_images/daisy/4610018126_21f438d2dc_m.jpg', 'flower_competition_data/train_images/daisy/14907815010_bff495449f.jpg', 'flower_competition_data/train_images/daisy/19019544592_b64469bf84_n.jpg', 'flower_competition_data/train_images/daisy/8619103877_d8c82c5f34_n.jpg', 'flower_competition_data/train_images/daisy/5626895440_97a0ec04c2_n.jpg', 'flower_competition_data/train_images/daisy/10555749515_13a12a026e.jpg', 'flower_competition_data/train_images/daisy/14698531521_0c2f0c6539.jpg', 'flower_competition_data/train_images/daisy/4407065098_ef25f1ccac_n.jpg', 'flower_competition_data/train_images/daisy/525271784_013ddccd1b_m.jpg', 'flower_competition_data/train_images/daisy/433837534_1dbf798b73.jpg', 'flower_competition_data/train_images/daisy/14621687774_ec52811acd_n.jpg', 'flower_competition_data/train_images/daisy/2408024540_37f0be7cc0_n.jpg', 'flower_competition_data/train_images/daisy/4117918318_3c8935289b_m.jpg', 'flower_competition_data/train_images/daisy/9204730092_a7f2182347.jpg', 'flower_competition_data/train_images/daisy/4657354814_f368762c53_m.jpg', 'flower_competition_data/train_images/daisy/11891885265_ccefec7284_n.jpg', 'flower_competition_data/train_images/daisy/3275951182_d27921af97_n.jpg', 'flower_competition_data/train_images/daisy/10391248763_1d16681106_n.jpg', 'flower_competition_data/train_images/daisy/6596277835_9f86da54bb.jpg', 'flower_competition_data/train_images/daisy/169371301_d9b91a2a42.jpg', 'flower_competition_data/train_images/daisy/8718637649_87a0d85190_n.jpg', 'flower_competition_data/train_images/daisy/8740807508_0587f5b7b7.jpg', 'flower_competition_data/train_images/daisy/5109508979_68e3530791_m.jpg', 'flower_competition_data/train_images/daisy/7410356270_9dff4d0e2e_n.jpg', 'flower_competition_data/train_images/daisy/2351206867_084e57bd97.jpg', 'flower_competition_data/train_images/daisy/8348621545_8f02b82662_n.jpg', 'flower_competition_data/train_images/daisy/14219214466_3ca6104eae_m.jpg', 'flower_competition_data/train_images/daisy/10466290366_cc72e33532.jpg', 'flower_competition_data/train_images/daisy/15760811380_4d686c892b_n.jpg', 'flower_competition_data/train_images/daisy/3285641623_da0e47f49a.jpg', 'flower_competition_data/train_images/daisy/2480569557_f4e1f0dcb8_n.jpg', 'flower_competition_data/train_images/daisy/8882282142_9be2524d38_m.jpg', 'flower_competition_data/train_images/daisy/11642632_1e7627a2cc.jpg', 'flower_competition_data/train_images/daisy/3379332157_04724f6480.jpg', 'flower_competition_data/train_images/daisy/253426762_9793d43fcd.jpg', 'flower_competition_data/train_images/daisy/19813618946_93818db7aa_m.jpg', 'flower_competition_data/train_images/daisy/5435513198_90ce39f1aa_n.jpg', 'flower_competition_data/train_images/daisy/1031799732_e7f4008c03.jpg', 'flower_competition_data/train_images/daisy/19178753159_a471bf4b6b.jpg', 'flower_competition_data/train_images/daisy/174131220_c853df1287.jpg', 'flower_competition_data/train_images/daisy/5876455546_32049e5585.jpg', 'flower_competition_data/train_images/daisy/2838487505_6c3b48efa5_m.jpg', 'flower_competition_data/train_images/daisy/2908212142_5437fa67ff_n.jpg', 'flower_competition_data/train_images/daisy/512477177_d9004cbcf1_n.jpg', 'flower_competition_data/train_images/daisy/7538403124_f2fc48750a.jpg', 'flower_competition_data/train_images/daisy/3506866918_61dd5fc53b_n.jpg', 'flower_competition_data/train_images/daisy/14114116486_0bb6649bc1_m.jpg', 'flower_competition_data/train_images/daisy/5874818796_3efbb8769d.jpg', 'flower_competition_data/train_images/daisy/8719756744_34a5a83976_n.jpg', 'flower_competition_data/train_images/daisy/813445367_187ecf080a_n.jpg', 'flower_competition_data/train_images/daisy/2635314490_e12d3b0f36_m.jpg', 'flower_competition_data/train_images/daisy/13491959645_2cd9df44d6_n.jpg', 'flower_competition_data/train_images/daisy/8094774544_35465c1c64.jpg', 'flower_competition_data/train_images/daisy/4538877108_3c793f7987_m.jpg', 'flower_competition_data/train_images/daisy/2331133004_582772d58f_m.jpg', 'flower_competition_data/train_images/daisy/7320089276_87b544e341.jpg', 'flower_competition_data/train_images/daisy/6299498346_b9774b6500.jpg', 'flower_competition_data/train_images/daisy/8681746439_d6beeefbf9.jpg', 'flower_competition_data/train_images/daisy/14021430525_e06baf93a9.jpg', 'flower_competition_data/train_images/daisy/413815348_764ae83088.jpg', 'flower_competition_data/train_images/daisy/9345273630_af3550031d.jpg', 'flower_competition_data/train_images/daisy/20289938802_e16fa9f23d.jpg', 'flower_competition_data/train_images/daisy/19544831049_0d738d4872_m.jpg', 'flower_competition_data/train_images/daisy/799964360_7e07a227ea_n.jpg', 'flower_competition_data/train_images/daisy/5133243796_44de429de5_m.jpg', 'flower_competition_data/train_images/daisy/2612704455_efce1c2144_m.jpg', 'flower_competition_data/train_images/daisy/4820415253_15bc3b6833_n.jpg', 'flower_competition_data/train_images/daisy/3625257860_33efeef614_m.jpg', 'flower_competition_data/train_images/daisy/2536529152_33ef3ee078_n.jpg', 'flower_competition_data/train_images/daisy/11023214096_b5b39fab08.jpg', 'flower_competition_data/train_images/daisy/4333085242_bbeb3e2841_m.jpg', 'flower_competition_data/train_images/daisy/4923279674_e7f8e70794_n.jpg', 'flower_competition_data/train_images/daisy/3758221664_b19116d61f.jpg', 'flower_competition_data/train_images/daisy/12601254324_3cb62c254a_m.jpg', 'flower_competition_data/train_images/daisy/2617111535_54c2ac8462.jpg', 'flower_competition_data/train_images/daisy/16527403771_2391f137c4_n.jpg', 'flower_competition_data/train_images/daisy/8709110478_60d12efcd4_n.jpg', 'flower_competition_data/train_images/daisy/3627678863_557552c879_m.jpg', 'flower_competition_data/train_images/daisy/19975899671_ebc42b7865_n.jpg', 'flower_competition_data/train_images/daisy/9054268881_19792c5203_n.jpg', 'flower_competition_data/train_images/daisy/14167534527_781ceb1b7a_n.jpg', 'flower_competition_data/train_images/daisy/15327813273_06cdf42210.jpg', 'flower_competition_data/train_images/daisy/488202750_c420cbce61.jpg', 'flower_competition_data/train_images/daisy/19865728236_a62f8f445b_n.jpg', 'flower_competition_data/train_images/daisy/8446495985_f72d851482.jpg', 'flower_competition_data/train_images/daisy/3117644024_1cbb59a509_n.jpg', 'flower_competition_data/train_images/daisy/367020749_3c9a652d75.jpg', 'flower_competition_data/train_images/daisy/4694730335_2553e77aa5_z.jpg', 'flower_competition_data/train_images/daisy/2349640101_212c275aa7.jpg', 'flower_competition_data/train_images/daisy/2019064575_7656b9340f_m.jpg', 'flower_competition_data/train_images/daisy/7416083788_fcb4c4f27e_n.jpg', 'flower_competition_data/train_images/daisy/6480809771_b1e14c5cc2_m.jpg', 'flower_competition_data/train_images/daisy/14087947408_9779257411_n.jpg', 'flower_competition_data/train_images/daisy/16161045294_70c76ce846_n.jpg', 'flower_competition_data/train_images/daisy/5110110938_9da91455c4_m.jpg', 'flower_competition_data/train_images/daisy/676120388_28f03069c3.jpg', 'flower_competition_data/train_images/daisy/14333681205_a07c9f1752_m.jpg', 'flower_competition_data/train_images/daisy/14307766919_fac3c37a6b_m.jpg', 'flower_competition_data/train_images/daisy/4697206799_19dd2a3193_m.jpg', 'flower_competition_data/train_images/daisy/16492248512_61a57dfec1_m.jpg', 'flower_competition_data/train_images/daisy/6950173662_5e9473003e_n.jpg', 'flower_competition_data/train_images/daisy/14866200659_6462c723cb_m.jpg', 'flower_competition_data/train_images/daisy/2579018590_74359dcf1a_m.jpg', 'flower_competition_data/train_images/daisy/1265350143_6e2b276ec9.jpg', 'flower_competition_data/train_images/daisy/15029936576_8d6f96c72c_n.jpg', 'flower_competition_data/train_images/daisy/10841136265_af473efc60.jpg', 'flower_competition_data/train_images/daisy/2213954589_c7da4b1486.jpg', 'flower_competition_data/train_images/daisy/16401288243_36112bd52f_m.jpg', 'flower_competition_data/train_images/daisy/2473825306_62fd5f8785_n.jpg', 'flower_competition_data/train_images/daisy/9175280426_40ecc395b8_m.jpg', 'flower_competition_data/train_images/daisy/5434913005_409c1e8b56_n.jpg', 'flower_competition_data/train_images/daisy/3975010332_3209f9f447_m.jpg', 'flower_competition_data/train_images/daisy/3474942718_c418dae6f1.jpg', 'flower_competition_data/train_images/daisy/7924174040_444d5bbb8a.jpg', 'flower_competition_data/train_images/daisy/7191221492_610035de7c_m.jpg', 'flower_competition_data/train_images/daisy/506493250_e9ca42fe3d.jpg', 'flower_competition_data/train_images/daisy/3025866885_22fb0b61c6_n.jpg', 'flower_competition_data/train_images/daisy/506018088_4f7a15a7c5_n.jpg', 'flower_competition_data/train_images/daisy/5014137563_d03eb0ed75_n.jpg', 'flower_competition_data/train_images/daisy/43474673_7bb4465a86.jpg', 'flower_competition_data/train_images/daisy/3415180846_d7b5cced14_m.jpg', 'flower_competition_data/train_images/daisy/4666648087_b10f376f19.jpg', 'flower_competition_data/train_images/daisy/695778683_890c46ebac.jpg', 'flower_competition_data/train_images/daisy/3456403987_5bd5fa6ece_n.jpg', 'flower_competition_data/train_images/daisy/2649404904_b7a91991bb_n.jpg', 'flower_competition_data/train_images/daisy/14523675369_97c31d0b5b.jpg', 'flower_competition_data/train_images/daisy/176375506_201859bb92_m.jpg', 'flower_competition_data/train_images/daisy/9120905231_329598304e.jpg', 'flower_competition_data/train_images/daisy/4144275653_7c02d47d9b.jpg', 'flower_competition_data/train_images/daisy/754296579_30a9ae018c_n.jpg', 'flower_competition_data/train_images/daisy/2573240560_ff7ffdd449.jpg', 'flower_competition_data/train_images/daisy/12585131704_0f64b17059_m.jpg', 'flower_competition_data/train_images/daisy/3939135368_0af5c4982a_n.jpg', 'flower_competition_data/train_images/daisy/4851353993_2cbbbd1040_n.jpg', 'flower_competition_data/train_images/daisy/7702332000_3f21ef4571_n.jpg', 'flower_competition_data/train_images/daisy/2619413565_61a6cd3ac9_m.jpg'], ['flower_competition_data/train_images/dandelion/138166590_47c6cb9dd0.jpg', 'flower_competition_data/train_images/dandelion/7218569994_de7045c0c0.jpg', 'flower_competition_data/train_images/dandelion/14805304536_c321a7b061_n.jpg', 'flower_competition_data/train_images/dandelion/14128835667_b6a916222c.jpg', 'flower_competition_data/train_images/dandelion/2472641499_cbe617a93d.jpg', 'flower_competition_data/train_images/dandelion/7280227122_7ea2bef7f4_n.jpg', 'flower_competition_data/train_images/dandelion/14914603395_b271ffab56_n.jpg', 'flower_competition_data/train_images/dandelion/4589787911_851cb80157_n.jpg', 'flower_competition_data/train_images/dandelion/7162551630_3647eb9254.jpg', 'flower_competition_data/train_images/dandelion/19551343954_83bb52f310_m.jpg', 'flower_competition_data/train_images/dandelion/10043234166_e6dd915111_n.jpg', 'flower_competition_data/train_images/dandelion/8979062599_86cac547b8.jpg', 'flower_competition_data/train_images/dandelion/14070463051_86ab57ab36.jpg', 'flower_competition_data/train_images/dandelion/7843447416_847e6ba7f4_m.jpg', 'flower_competition_data/train_images/dandelion/8475758_4c861ab268_m.jpg', 'flower_competition_data/train_images/dandelion/3533167406_e9f4cf10bb_m.jpg', 'flower_competition_data/train_images/dandelion/17747738311_5014b1f77f.jpg', 'flower_competition_data/train_images/dandelion/14185089716_2a48298d17.jpg', 'flower_competition_data/train_images/dandelion/7808430998_31ba639031_n.jpg', 'flower_competition_data/train_images/dandelion/8842482175_92a14b4934_m.jpg', 'flower_competition_data/train_images/dandelion/14376454225_a1de336c5b.jpg', 'flower_competition_data/train_images/dandelion/5140791232_52f2c5b41d_n.jpg', 'flower_competition_data/train_images/dandelion/14335561523_f847f2f4f1.jpg', 'flower_competition_data/train_images/dandelion/4265711814_9a006ee5b8.jpg', 'flower_competition_data/train_images/dandelion/18995294384_77543e96b6_n.jpg', 'flower_competition_data/train_images/dandelion/6400843175_ef07053f8f_m.jpg', 'flower_competition_data/train_images/dandelion/3730618647_5725c692c3_m.jpg', 'flower_competition_data/train_images/dandelion/3149809654_6a4b31314d_n.jpg', 'flower_competition_data/train_images/dandelion/19067907051_16d530c7d2.jpg', 'flower_competition_data/train_images/dandelion/141652526_2be95f21c3_n.jpg', 'flower_competition_data/train_images/dandelion/19443726008_8c9c68efa7_m.jpg', 'flower_competition_data/train_images/dandelion/2470874500_43d8011e75.jpg', 'flower_competition_data/train_images/dandelion/10828951106_c3cd47983f.jpg', 'flower_competition_data/train_images/dandelion/3021333497_b927cd8596.jpg', 'flower_competition_data/train_images/dandelion/9818247_e2eac18894.jpg', 'flower_competition_data/train_images/dandelion/7132677385_bcbdcc6001.jpg', 'flower_competition_data/train_images/dandelion/2335702923_decb9a860b_m.jpg', 'flower_competition_data/train_images/dandelion/5886830036_2b99899c95.jpg', 'flower_competition_data/train_images/dandelion/479115838_0771a6cdff.jpg', 'flower_competition_data/train_images/dandelion/2392273474_a64cef0eaf_n.jpg', 'flower_competition_data/train_images/dandelion/7196409186_a59957ce0b_m.jpg', 'flower_competition_data/train_images/dandelion/19621170705_30bf8bf0ba.jpg', 'flower_competition_data/train_images/dandelion/13920113_f03e867ea7_m.jpg', 'flower_competition_data/train_images/dandelion/3581252194_8c976d333a_n.jpg', 'flower_competition_data/train_images/dandelion/501987288_c69c4e0c90_m.jpg', 'flower_competition_data/train_images/dandelion/5715788902_9dd2b4ef1d.jpg', 'flower_competition_data/train_images/dandelion/4573204407_babff0dce4_n.jpg', 'flower_competition_data/train_images/dandelion/7197581386_8a51f1bb12_n.jpg', 'flower_competition_data/train_images/dandelion/22785985545_95464115b0_m.jpg', 'flower_competition_data/train_images/dandelion/4489359360_09db62f825.jpg', 'flower_competition_data/train_images/dandelion/5607983792_f8b8766ff7.jpg', 'flower_competition_data/train_images/dandelion/18276105805_d31d3f7e71.jpg', 'flower_competition_data/train_images/dandelion/14053173516_a00150a919_m.jpg', 'flower_competition_data/train_images/dandelion/2698102820_f15445a3f7.jpg', 'flower_competition_data/train_images/dandelion/8691437509_9ac8441db7_n.jpg', 'flower_competition_data/train_images/dandelion/8681388520_c697dee897_n.jpg', 'flower_competition_data/train_images/dandelion/14084345111_8a4cb05a31.jpg', 'flower_competition_data/train_images/dandelion/5033866477_a77cccba49_m.jpg', 'flower_competition_data/train_images/dandelion/13331969914_890082d898_n.jpg', 'flower_competition_data/train_images/dandelion/5875763050_82f32f2eed_m.jpg', 'flower_competition_data/train_images/dandelion/16863587471_cc3a6ffb29_m.jpg', 'flower_competition_data/train_images/dandelion/9011235009_58c7b244c1_n.jpg', 'flower_competition_data/train_images/dandelion/4571681134_b605a61547_n.jpg', 'flower_competition_data/train_images/dandelion/13887031789_97437f246b.jpg', 'flower_competition_data/train_images/dandelion/3512879565_88dd8fc269_n.jpg', 'flower_competition_data/train_images/dandelion/17244252705_328e0bcda6.jpg', 'flower_competition_data/train_images/dandelion/2443192475_c64c66d9c2.jpg', 'flower_competition_data/train_images/dandelion/18803577858_fd0036e1f5_m.jpg', 'flower_competition_data/train_images/dandelion/459748276_69101b0cec_n.jpg', 'flower_competition_data/train_images/dandelion/510874382_f7e3435043.jpg', 'flower_competition_data/train_images/dandelion/9719816995_8f211abf02_n.jpg', 'flower_competition_data/train_images/dandelion/8797114213_103535743c_m.jpg', 'flower_competition_data/train_images/dandelion/14093789753_f0f1acdb57.jpg', 'flower_competition_data/train_images/dandelion/21195621914_a5bdbb203d.jpg', 'flower_competition_data/train_images/dandelion/7291185504_b740bbeba4_m.jpg', 'flower_competition_data/train_images/dandelion/2620243133_e801981efe_n.jpg', 'flower_competition_data/train_images/dandelion/2161283279_02ea3ff8d4.jpg', 'flower_competition_data/train_images/dandelion/2831102668_eb65cd40b9_n.jpg', 'flower_competition_data/train_images/dandelion/15268682367_5a4512b29f_m.jpg', 'flower_competition_data/train_images/dandelion/4716316039_044e4d2d1a.jpg', 'flower_competition_data/train_images/dandelion/20456824132_b1c8fbfa41_m.jpg', 'flower_competition_data/train_images/dandelion/4634716478_1cbcbee7ca.jpg', 'flower_competition_data/train_images/dandelion/7448453384_fb9caaa9af_n.jpg', 'flower_competition_data/train_images/dandelion/6901435398_b3192ff7f8_m.jpg', 'flower_competition_data/train_images/dandelion/3393564906_f2df184b76_n.jpg', 'flower_competition_data/train_images/dandelion/9293460423_7fbb1e3c32_n.jpg', 'flower_competition_data/train_images/dandelion/16241101274_334b54731e.jpg', 'flower_competition_data/train_images/dandelion/7179487220_56e4725195_m.jpg', 'flower_competition_data/train_images/dandelion/5909154147_9da14d1730_n.jpg', 'flower_competition_data/train_images/dandelion/4082856478_741a411ebb.jpg', 'flower_competition_data/train_images/dandelion/515143813_b3afb08bf9.jpg', 'flower_competition_data/train_images/dandelion/8980460785_b5e6842e59_n.jpg', 'flower_competition_data/train_images/dandelion/8689302980_9bd2f7b9fe_n.jpg', 'flower_competition_data/train_images/dandelion/8724252904_db9a5104df_m.jpg', 'flower_competition_data/train_images/dandelion/5607669502_ccd2a76668_n.jpg', 'flower_competition_data/train_images/dandelion/2133943140_9fc7bcc9aa.jpg', 'flower_competition_data/train_images/dandelion/16495282564_d8c34d6a2e_m.jpg', 'flower_competition_data/train_images/dandelion/4552591312_02fe1dcc04_n.jpg', 'flower_competition_data/train_images/dandelion/2521811279_1f7fc353bf_n.jpg', 'flower_competition_data/train_images/dandelion/18889216716_cd67aec890_n.jpg', 'flower_competition_data/train_images/dandelion/3451637528_b245144675_n.jpg', 'flower_competition_data/train_images/dandelion/3998927705_af499a4f29.jpg', 'flower_competition_data/train_images/dandelion/151385301_153eacf6b5_n.jpg', 'flower_competition_data/train_images/dandelion/2502610598_b9f1b55ebd_n.jpg', 'flower_competition_data/train_images/dandelion/9726260379_4e8ee66875_m.jpg', 'flower_competition_data/train_images/dandelion/5745882709_fb6fc8f02a_n.jpg', 'flower_competition_data/train_images/dandelion/1413979148_b40d63db90_m.jpg', 'flower_competition_data/train_images/dandelion/10779476016_9130714dc0.jpg', 'flower_competition_data/train_images/dandelion/19602790836_912d38aaa8.jpg', 'flower_competition_data/train_images/dandelion/8952484062_31d1d97e45.jpg', 'flower_competition_data/train_images/dandelion/5757012454_c37f305b73.jpg', 'flower_competition_data/train_images/dandelion/3513200808_390f1d63a7_m.jpg', 'flower_competition_data/train_images/dandelion/2963905796_227d37ff12.jpg', 'flower_competition_data/train_images/dandelion/19586799286_beb9d684b5.jpg', 'flower_competition_data/train_images/dandelion/4601270210_60136f2b87_n.jpg', 'flower_competition_data/train_images/dandelion/4550784336_584d7a65de_m.jpg', 'flower_competition_data/train_images/dandelion/8880158802_6e10a452c7_m.jpg', 'flower_competition_data/train_images/dandelion/14614655810_9910e6dbd6_n.jpg', 'flower_competition_data/train_images/dandelion/674407101_57676c40fb.jpg', 'flower_competition_data/train_images/dandelion/1241011700_261ae180ca.jpg', 'flower_competition_data/train_images/dandelion/4713958242_fbcfe9a61b_m.jpg', 'flower_competition_data/train_images/dandelion/2319777940_0cc5476b0d_n.jpg', 'flower_competition_data/train_images/dandelion/6888894675_524a6accab_n.jpg', 'flower_competition_data/train_images/dandelion/2637883118_cf6ce37be4_n.jpg', 'flower_competition_data/train_images/dandelion/7469617666_0e1a014917.jpg', 'flower_competition_data/train_images/dandelion/5598591979_ed9af1b3e9_n.jpg', 'flower_competition_data/train_images/dandelion/17482158576_86c5ebc2f8.jpg', 'flower_competition_data/train_images/dandelion/19617501581_606be5f716_n.jpg', 'flower_competition_data/train_images/dandelion/8642679391_0805b147cb_m.jpg', 'flower_competition_data/train_images/dandelion/4624036600_11a4744254_n.jpg', 'flower_competition_data/train_images/dandelion/7141019507_4a44c6e888_m.jpg', 'flower_competition_data/train_images/dandelion/5109496141_8dcf673d43_n.jpg', 'flower_competition_data/train_images/dandelion/10778387133_9141024b10.jpg', 'flower_competition_data/train_images/dandelion/7004645518_ff0f862eff_n.jpg', 'flower_competition_data/train_images/dandelion/1798082733_b8080b1173_m.jpg', 'flower_competition_data/train_images/dandelion/11595255065_d9550012fc.jpg', 'flower_competition_data/train_images/dandelion/8687729737_a7fbeded2c_m.jpg', 'flower_competition_data/train_images/dandelion/2512977446_ac498955ee.jpg', 'flower_competition_data/train_images/dandelion/11545123_50a340b473_m.jpg', 'flower_competition_data/train_images/dandelion/8842317179_d59cf218cb_n.jpg', 'flower_competition_data/train_images/dandelion/3472437817_7902b3d984_n.jpg', 'flower_competition_data/train_images/dandelion/8727612532_6f3d0904aa_n.jpg', 'flower_competition_data/train_images/dandelion/17619402434_15b2ec2d79.jpg', 'flower_competition_data/train_images/dandelion/4574736702_b15ecf97d0_m.jpg', 'flower_competition_data/train_images/dandelion/8717157979_05cbc10cc1.jpg', 'flower_competition_data/train_images/dandelion/8707349105_6d06b543b0.jpg', 'flower_competition_data/train_images/dandelion/2693136371_dde2570813.jpg', 'flower_competition_data/train_images/dandelion/7184780734_3baab127c2_m.jpg', 'flower_competition_data/train_images/dandelion/15002906952_cab2cb29cf.jpg', 'flower_competition_data/train_images/dandelion/5605093210_5fecb71c61.jpg', 'flower_competition_data/train_images/dandelion/4571923094_b9cefa9438_n.jpg', 'flower_competition_data/train_images/dandelion/8738317694_eca2ce3bfc_n.jpg', 'flower_competition_data/train_images/dandelion/142390525_5d81a3659d_m.jpg', 'flower_competition_data/train_images/dandelion/7368449232_c99f49b2e6_n.jpg', 'flower_competition_data/train_images/dandelion/2503034372_db7867de51_m.jpg', 'flower_competition_data/train_images/dandelion/4275776457_d04b597cfa_n.jpg', 'flower_competition_data/train_images/dandelion/13910677675_4900fa3dbf_n.jpg', 'flower_competition_data/train_images/dandelion/5607256228_2294c201b3.jpg', 'flower_competition_data/train_images/dandelion/8327657321_2cbceec396_n.jpg', 'flower_competition_data/train_images/dandelion/6953830582_8525e0423c_n.jpg', 'flower_competition_data/train_images/dandelion/19626311985_58f1a79da3.jpg', 'flower_competition_data/train_images/dandelion/4528742654_99d233223b_m.jpg', 'flower_competition_data/train_images/dandelion/5647842237_b1c5196718_n.jpg', 'flower_competition_data/train_images/dandelion/14648777167_1d92d403c9_n.jpg', 'flower_competition_data/train_images/dandelion/7116950607_49b19102ba_n.jpg', 'flower_competition_data/train_images/dandelion/8737699225_19e0c9f0fa_m.jpg', 'flower_competition_data/train_images/dandelion/7465850028_cdfaae235a_n.jpg', 'flower_competition_data/train_images/dandelion/479495978_ee22cf05be.jpg', 'flower_competition_data/train_images/dandelion/8935477500_89f22cca03_n.jpg', 'flower_competition_data/train_images/dandelion/4598938531_9749b3b56a.jpg', 'flower_competition_data/train_images/dandelion/14368895004_c486a29c1e_n.jpg', 'flower_competition_data/train_images/dandelion/3688128868_031e7b53e1_n.jpg', 'flower_competition_data/train_images/dandelion/751941983_58e1ae3957_m.jpg', 'flower_competition_data/train_images/dandelion/921252114_91e334b950.jpg', 'flower_competition_data/train_images/dandelion/5740633858_8fd54c23c9_n.jpg', 'flower_competition_data/train_images/dandelion/4562516418_8ccb8c103f.jpg', 'flower_competition_data/train_images/dandelion/8681420404_6ae114f036_n.jpg', 'flower_competition_data/train_images/dandelion/3505026222_c760df0035_n.jpg', 'flower_competition_data/train_images/dandelion/18687587599_3dd4fdf255.jpg', 'flower_competition_data/train_images/dandelion/4657801292_73bef15031.jpg', 'flower_competition_data/train_images/dandelion/6250363717_17732e992e_n.jpg', 'flower_competition_data/train_images/dandelion/3662701865_3ff283a33a_n.jpg', 'flower_competition_data/train_images/dandelion/8831808134_315aedb37b.jpg', 'flower_competition_data/train_images/dandelion/5674707921_1ffd141bab_n.jpg', 'flower_competition_data/train_images/dandelion/2753166154_0cb51a127b.jpg', 'flower_competition_data/train_images/dandelion/1667963621_c76d570af3_n.jpg', 'flower_competition_data/train_images/dandelion/18001393975_2a6acaabd8.jpg', 'flower_competition_data/train_images/dandelion/5644234724_cb0917ee33_m.jpg', 'flower_competition_data/train_images/dandelion/17029965300_8e755c2214_n.jpg', 'flower_competition_data/train_images/dandelion/142813254_20a7fd5fb6_n.jpg', 'flower_competition_data/train_images/dandelion/4610125337_50798408b8_m.jpg', 'flower_competition_data/train_images/dandelion/5643666851_dc3f42399d_m.jpg', 'flower_competition_data/train_images/dandelion/5598014250_684c28bd5c_n.jpg', 'flower_competition_data/train_images/dandelion/4635296297_9ce69e4a6e.jpg', 'flower_competition_data/train_images/dandelion/8613502159_d9ea67ba63.jpg', 'flower_competition_data/train_images/dandelion/16713229021_bea2533981_n.jpg', 'flower_competition_data/train_images/dandelion/2518321294_dde5aa7c20_m.jpg', 'flower_competition_data/train_images/dandelion/14375349004_68d893254a_n.jpg', 'flower_competition_data/train_images/dandelion/8223949_2928d3f6f6_n.jpg', 'flower_competition_data/train_images/dandelion/8759118120_9eac064e38_n.jpg', 'flower_competition_data/train_images/dandelion/8980266062_8387f6cc89.jpg', 'flower_competition_data/train_images/dandelion/7232035352_84a39e99ba_n.jpg', 'flower_competition_data/train_images/dandelion/2116997627_30fed84e53_m.jpg', 'flower_competition_data/train_images/dandelion/17047231499_bd66c23641.jpg', 'flower_competition_data/train_images/dandelion/10486992895_20b344ce2d_n.jpg', 'flower_competition_data/train_images/dandelion/7950892504_33142110c2.jpg', 'flower_competition_data/train_images/dandelion/8632704230_ccafc5f7e2.jpg', 'flower_competition_data/train_images/dandelion/7998106328_c3953f70e9_n.jpg', 'flower_competition_data/train_images/dandelion/4645161319_c308fc31ef_n.jpg', 'flower_competition_data/train_images/dandelion/5673112305_02fe19297b_n.jpg', 'flower_competition_data/train_images/dandelion/141340262_ca2e576490.jpg', 'flower_competition_data/train_images/dandelion/8791577794_7573712cb4_n.jpg', 'flower_competition_data/train_images/dandelion/17388674711_6dca8a2e8b_n.jpg', 'flower_competition_data/train_images/dandelion/14396023703_11c5dd35a9.jpg', 'flower_competition_data/train_images/dandelion/7099259755_1c66420206_n.jpg', 'flower_competition_data/train_images/dandelion/10294487385_92a0676c7d_m.jpg', 'flower_competition_data/train_images/dandelion/2470731130_089b8514f6_n.jpg', 'flower_competition_data/train_images/dandelion/3465599902_14729e2b1b_n.jpg', 'flower_competition_data/train_images/dandelion/9029297232_de50698e2f_n.jpg', 'flower_competition_data/train_images/dandelion/6983113346_21551e1b52_n.jpg', 'flower_competition_data/train_images/dandelion/9759608055_9ab623d193.jpg', 'flower_competition_data/train_images/dandelion/17220096449_0e535989f0_n.jpg', 'flower_competition_data/train_images/dandelion/5129135346_3fa8e804d8_n.jpg', 'flower_competition_data/train_images/dandelion/3539077354_c67aa7168d_m.jpg', 'flower_competition_data/train_images/dandelion/2628514700_b6d5325797_n.jpg', 'flower_competition_data/train_images/dandelion/4510350093_3700064215.jpg', 'flower_competition_data/train_images/dandelion/16691236594_4287cea9d6_n.jpg', 'flower_competition_data/train_images/dandelion/8929523512_c87897b84e.jpg', 'flower_competition_data/train_images/dandelion/17322195031_c2680809dc_m.jpg', 'flower_competition_data/train_images/dandelion/486234138_688e01aa9b_n.jpg', 'flower_competition_data/train_images/dandelion/4862011506_4faf6d127e_n.jpg', 'flower_competition_data/train_images/dandelion/2625836599_03e192266f.jpg', 'flower_competition_data/train_images/dandelion/5416388641_c66d52d2ff_m.jpg', 'flower_competition_data/train_images/dandelion/6104442744_ee2bcd32e7_n.jpg', 'flower_competition_data/train_images/dandelion/3856725141_0db85f466d_n.jpg', 'flower_competition_data/train_images/dandelion/5110103388_78dc02558e_n.jpg', 'flower_competition_data/train_images/dandelion/4258272381_65bd4b8191_m.jpg', 'flower_competition_data/train_images/dandelion/17388697431_0d84c427d1_n.jpg', 'flower_competition_data/train_images/dandelion/14740350060_a489d9fa06.jpg', 'flower_competition_data/train_images/dandelion/9595369280_dd88b61814.jpg', 'flower_competition_data/train_images/dandelion/2481428401_bed64dd043.jpg', 'flower_competition_data/train_images/dandelion/493696003_f93ffb3abd_n.jpg', 'flower_competition_data/train_images/dandelion/10437652486_aa86c14985.jpg', 'flower_competition_data/train_images/dandelion/14829055_2a2e646a8f_m.jpg', 'flower_competition_data/train_images/dandelion/5863928177_8ae1425e76_n.jpg', 'flower_competition_data/train_images/dandelion/14202166370_e989588332.jpg', 'flower_competition_data/train_images/dandelion/2670304799_a3f2eef516_m.jpg', 'flower_competition_data/train_images/dandelion/3483575184_cb8d16a083_n.jpg', 'flower_competition_data/train_images/dandelion/8647874151_aac8db2588_m.jpg', 'flower_competition_data/train_images/dandelion/3398195641_456872b48b_n.jpg', 'flower_competition_data/train_images/dandelion/5749815755_12f9214649_n.jpg', 'flower_competition_data/train_images/dandelion/18996957833_0bd71fbbd4_m.jpg', 'flower_competition_data/train_images/dandelion/2480853696_aacdbb5324.jpg', 'flower_competition_data/train_images/dandelion/8989067485_aab399460b_n.jpg', 'flower_competition_data/train_images/dandelion/5776879272_95008399c3.jpg', 'flower_competition_data/train_images/dandelion/163702807_e508544acd_n.jpg', 'flower_competition_data/train_images/dandelion/9152356642_06ae73113f.jpg', 'flower_competition_data/train_images/dandelion/2503875867_2075a9225d_m.jpg', 'flower_competition_data/train_images/dandelion/8701999625_8d83138124.jpg', 'flower_competition_data/train_images/dandelion/1443259657_2704fab26e_n.jpg', 'flower_competition_data/train_images/dandelion/2995221296_a6ddaccc39.jpg', 'flower_competition_data/train_images/dandelion/2600382379_5791b0b35a_m.jpg', 'flower_competition_data/train_images/dandelion/17147436650_c94ae24004_n.jpg', 'flower_competition_data/train_images/dandelion/7401173270_ebaf04c9b0_n.jpg', 'flower_competition_data/train_images/dandelion/3419172904_7708414ae9_n.jpg', 'flower_competition_data/train_images/dandelion/4632757134_40156d7d5b.jpg', 'flower_competition_data/train_images/dandelion/14003401241_543535b385.jpg', 'flower_competition_data/train_images/dandelion/3393060921_2328b752f4.jpg', 'flower_competition_data/train_images/dandelion/2521827947_9d237779bb_n.jpg', 'flower_competition_data/train_images/dandelion/3509307596_6cfe97867d_n.jpg', 'flower_competition_data/train_images/dandelion/19440910519_cb1162470e.jpg', 'flower_competition_data/train_images/dandelion/7015947703_11b30c20c9_n.jpg', 'flower_competition_data/train_images/dandelion/13807932364_673b7f1c1c_n.jpg', 'flower_competition_data/train_images/dandelion/19593576916_f5a083d7fe_n.jpg', 'flower_competition_data/train_images/dandelion/136011860_44ca0b2835_n.jpg', 'flower_competition_data/train_images/dandelion/4574737576_044403a997_n.jpg', 'flower_competition_data/train_images/dandelion/3357432116_b3dce6fed3_n.jpg', 'flower_competition_data/train_images/dandelion/9200211647_be34ce978b.jpg', 'flower_competition_data/train_images/dandelion/19599413676_fc9ee2640e.jpg', 'flower_competition_data/train_images/dandelion/17020815734_81e8db8008_m.jpg', 'flower_competition_data/train_images/dandelion/7132605107_f5e033d725_n.jpg', 'flower_competition_data/train_images/dandelion/6972675188_37f1f1d6f6.jpg', 'flower_competition_data/train_images/dandelion/4500964841_b1142b50fb_n.jpg', 'flower_competition_data/train_images/dandelion/2330339852_fbbdeb7306_n.jpg', 'flower_competition_data/train_images/dandelion/17367866236_61abd4d243_n.jpg', 'flower_competition_data/train_images/dandelion/10200780773_c6051a7d71_n.jpg', 'flower_competition_data/train_images/dandelion/15358221063_2c6e548e84.jpg', 'flower_competition_data/train_images/dandelion/18479635994_83f93f4120.jpg', 'flower_competition_data/train_images/dandelion/1074999133_1e4a1e042e.jpg', 'flower_competition_data/train_images/dandelion/2502613166_2c231b47cb_n.jpg', 'flower_competition_data/train_images/dandelion/2517777524_e871ec5291_m.jpg', 'flower_competition_data/train_images/dandelion/4560663938_3557a1f831.jpg', 'flower_competition_data/train_images/dandelion/5675705011_82729927ca_n.jpg', 'flower_competition_data/train_images/dandelion/17276354745_2e312a72b5_n.jpg', 'flower_competition_data/train_images/dandelion/4588529727_4a79c61577.jpg', 'flower_competition_data/train_images/dandelion/7164500544_332b75aa3b.jpg', 'flower_competition_data/train_images/dandelion/9111669902_9471c3a49c_n.jpg', 'flower_competition_data/train_images/dandelion/4514343281_26781484df.jpg', 'flower_competition_data/train_images/dandelion/2477231067_3aecef1bf8_n.jpg', 'flower_competition_data/train_images/dandelion/2622697182_ea4aff29dd_n.jpg', 'flower_competition_data/train_images/dandelion/5217892384_3edce91761_m.jpg', 'flower_competition_data/train_images/dandelion/3501368412_358e144d1f.jpg', 'flower_competition_data/train_images/dandelion/1353279846_7e6b87606d.jpg', 'flower_competition_data/train_images/dandelion/4523862714_b41b459c88.jpg', 'flower_competition_data/train_images/dandelion/151385302_f8980a257f_n.jpg', 'flower_competition_data/train_images/dandelion/5716633491_55e6f02645_n.jpg', 'flower_competition_data/train_images/dandelion/4586018734_6de9c513c2.jpg', 'flower_competition_data/train_images/dandelion/4622115595_a0de9f2013_n.jpg', 'flower_competition_data/train_images/dandelion/5629940298_634f35125c.jpg', 'flower_competition_data/train_images/dandelion/10617162044_8740d4dd9f_n.jpg', 'flower_competition_data/train_images/dandelion/14554897292_b3e30e52f2.jpg', 'flower_competition_data/train_images/dandelion/8740787470_67230d0609.jpg', 'flower_competition_data/train_images/dandelion/16987075_9a690a2183.jpg', 'flower_competition_data/train_images/dandelion/2479491210_98e41c4e7d_m.jpg', 'flower_competition_data/train_images/dandelion/3372748508_e5a4eacfcb_n.jpg', 'flower_competition_data/train_images/dandelion/158988663_6fe055fcb4.jpg', 'flower_competition_data/train_images/dandelion/17903104293_9138439e76.jpg', 'flower_competition_data/train_images/dandelion/645330051_06b192b7e1.jpg', 'flower_competition_data/train_images/dandelion/10919961_0af657c4e8.jpg', 'flower_competition_data/train_images/dandelion/6495802659_98b57e0cca_m.jpg', 'flower_competition_data/train_images/dandelion/9646730031_f3d5014416_n.jpg', 'flower_competition_data/train_images/dandelion/151861297_55b10a03a6_n.jpg', 'flower_competition_data/train_images/dandelion/4164845062_1fd9b3f3b4.jpg', 'flower_competition_data/train_images/dandelion/18282528206_7fb3166041.jpg', 'flower_competition_data/train_images/dandelion/4151883194_e45505934d_n.jpg', 'flower_competition_data/train_images/dandelion/7262863194_682209e9fb.jpg', 'flower_competition_data/train_images/dandelion/14128839257_23def53028.jpg', 'flower_competition_data/train_images/dandelion/854593001_c57939125f_n.jpg', 'flower_competition_data/train_images/dandelion/4684022752_89631bd98e_n.jpg', 'flower_competition_data/train_images/dandelion/5996421299_b9bf488c1a_n.jpg', 'flower_competition_data/train_images/dandelion/8717161615_4c1e403083.jpg', 'flower_competition_data/train_images/dandelion/17243540220_65b98eb926_n.jpg', 'flower_competition_data/train_images/dandelion/808239968_318722e4db.jpg', 'flower_competition_data/train_images/dandelion/2387025546_6aecb1b984_n.jpg', 'flower_competition_data/train_images/dandelion/8684108_a85764b22d_n.jpg', 'flower_competition_data/train_images/dandelion/253622055_d72964a7fd_n.jpg', 'flower_competition_data/train_images/dandelion/2674176237_e265ea64cc_n.jpg', 'flower_competition_data/train_images/dandelion/23414449869_ee849a80d4.jpg', 'flower_competition_data/train_images/dandelion/8969938579_4c2032dd96_n.jpg', 'flower_competition_data/train_images/dandelion/126012913_edf771c564_n.jpg', 'flower_competition_data/train_images/dandelion/13887066460_64156a9021.jpg', 'flower_competition_data/train_images/dandelion/8719388716_1a392c4c0e_n.jpg', 'flower_competition_data/train_images/dandelion/18999743619_cec3f39bee.jpg', 'flower_competition_data/train_images/dandelion/3517492544_0fd3ed6a66_m.jpg', 'flower_competition_data/train_images/dandelion/14058811536_f29cd7bd58_n.jpg', 'flower_competition_data/train_images/dandelion/15381511376_fd743b7330_n.jpg', 'flower_competition_data/train_images/dandelion/9533964635_f38e6fa3c3.jpg', 'flower_competition_data/train_images/dandelion/18996760154_58d3c48604.jpg', 'flower_competition_data/train_images/dandelion/4575406391_7a62c5f90f_n.jpg', 'flower_competition_data/train_images/dandelion/3383422012_6c9d83671f_n.jpg', 'flower_competition_data/train_images/dandelion/8805314187_1aed702082_n.jpg', 'flower_competition_data/train_images/dandelion/11296320473_1d9261ddcb.jpg', 'flower_competition_data/train_images/dandelion/13734221225_0e04edc6b6.jpg', 'flower_competition_data/train_images/dandelion/23659122395_3467d88c02_n.jpg', 'flower_competition_data/train_images/dandelion/3365850019_8158a161a8_n.jpg', 'flower_competition_data/train_images/dandelion/2462476884_58c617b26a.jpg', 'flower_competition_data/train_images/dandelion/3991962484_085ba2da94.jpg', 'flower_competition_data/train_images/dandelion/10617191174_9a01753241_n.jpg', 'flower_competition_data/train_images/dandelion/2490828907_5094017933_m.jpg', 'flower_competition_data/train_images/dandelion/2598486434_bf349854f2_m.jpg', 'flower_competition_data/train_images/dandelion/4557781241_0060cbe723_n.jpg', 'flower_competition_data/train_images/dandelion/5651310874_c8be336c2b.jpg', 'flower_competition_data/train_images/dandelion/18204150090_fb418bbddb.jpg', 'flower_competition_data/train_images/dandelion/284497233_c19801752c.jpg', 'flower_competition_data/train_images/dandelion/6983120596_8b9f084ac2_n.jpg', 'flower_competition_data/train_images/dandelion/17075803866_aeeded2637.jpg', 'flower_competition_data/train_images/dandelion/7280217714_fb9ffccf2d_n.jpg', 'flower_competition_data/train_images/dandelion/9301891790_971dcfb35d_m.jpg', 'flower_competition_data/train_images/dandelion/176284193_8fa1710431_m.jpg', 'flower_competition_data/train_images/dandelion/14313509432_6f2343d6c8_m.jpg', 'flower_competition_data/train_images/dandelion/461632542_0387557eff.jpg', 'flower_competition_data/train_images/dandelion/5726984343_ae124aed97.jpg', 'flower_competition_data/train_images/dandelion/2535727910_769c020c0d_n.jpg', 'flower_competition_data/train_images/dandelion/4632863567_5f9af7de97_n.jpg', 'flower_competition_data/train_images/dandelion/7355522_b66e5d3078_m.jpg', 'flower_competition_data/train_images/dandelion/2457473644_5242844e52_m.jpg', 'flower_competition_data/train_images/dandelion/9939430464_5f5861ebab.jpg', 'flower_competition_data/train_images/dandelion/5642429835_a0cbf1bab7_n.jpg', 'flower_competition_data/train_images/dandelion/19437578578_6ab1b3c984.jpg', 'flower_competition_data/train_images/dandelion/15821571649_06c4b9a868_n.jpg', 'flower_competition_data/train_images/dandelion/15819121091_26a5243340_n.jpg', 'flower_competition_data/train_images/dandelion/140951103_69847c0b7c.jpg', 'flower_competition_data/train_images/dandelion/98992760_53ed1d26a9.jpg', 'flower_competition_data/train_images/dandelion/4510938552_6f7bae172a_n.jpg', 'flower_competition_data/train_images/dandelion/5655177340_78fc36ce59_m.jpg', 'flower_competition_data/train_images/dandelion/1273326361_b90ea56d0d_m.jpg', 'flower_competition_data/train_images/dandelion/15123503538_8ee984abc6.jpg', 'flower_competition_data/train_images/dandelion/4336536446_e635f48f2e.jpg', 'flower_competition_data/train_images/dandelion/2469856983_fe8e36ba57.jpg', 'flower_competition_data/train_images/dandelion/16462263826_2555edeb74_n.jpg', 'flower_competition_data/train_images/dandelion/2780702427_312333ef33.jpg', 'flower_competition_data/train_images/dandelion/2476098674_e6f39536f5_n.jpg', 'flower_competition_data/train_images/dandelion/14576445793_582aa6446b_m.jpg', 'flower_competition_data/train_images/dandelion/483097906_2c35054346.jpg', 'flower_competition_data/train_images/dandelion/4155914848_3d57f50fc7.jpg', 'flower_competition_data/train_images/dandelion/4847150510_7a5db086fa.jpg', 'flower_competition_data/train_images/dandelion/13675534854_03caf51644_m.jpg', 'flower_competition_data/train_images/dandelion/4691257171_23a29aaa33_n.jpg', 'flower_competition_data/train_images/dandelion/14053397367_75cba846eb_n.jpg', 'flower_competition_data/train_images/dandelion/3584415133_a4122ab7b9.jpg', 'flower_competition_data/train_images/dandelion/9010116368_2f51f1e086_n.jpg', 'flower_competition_data/train_images/dandelion/2467980325_237b14c737_m.jpg', 'flower_competition_data/train_images/dandelion/10946896405_81d2d50941_m.jpg', 'flower_competition_data/train_images/dandelion/7308600792_27cff2f73f.jpg', 'flower_competition_data/train_images/dandelion/6060576850_984176cf4f_n.jpg', 'flower_competition_data/train_images/dandelion/5608832856_f5d49de778.jpg', 'flower_competition_data/train_images/dandelion/10477378514_9ffbcec4cf_m.jpg', 'flower_competition_data/train_images/dandelion/19526570282_1d1e71b0f3_m.jpg', 'flower_competition_data/train_images/dandelion/2303491518_f25fee9440.jpg', 'flower_competition_data/train_images/dandelion/3554435478_1a7ab743e9_n.jpg', 'flower_competition_data/train_images/dandelion/5003160931_cf8cbb846f.jpg', 'flower_competition_data/train_images/dandelion/17146644679_11aff3045c.jpg', 'flower_competition_data/train_images/dandelion/18111636378_856027a7b8_n.jpg', 'flower_competition_data/train_images/dandelion/18342918441_b1bb69a2fd_n.jpg', 'flower_competition_data/train_images/dandelion/3580443099_9a6902ebd8_n.jpg', 'flower_competition_data/train_images/dandelion/7062171343_db61c92737_n.jpg', 'flower_competition_data/train_images/dandelion/8209318399_ae72aefdb5.jpg', 'flower_competition_data/train_images/dandelion/7132482331_01769e36e9_n.jpg', 'flower_competition_data/train_images/dandelion/3530500952_9f94fb8b9c_m.jpg', 'flower_competition_data/train_images/dandelion/160456948_38c3817c6a_m.jpg', 'flower_competition_data/train_images/dandelion/20983660733_06b35b9eb8.jpg', 'flower_competition_data/train_images/dandelion/5676682203_70d797f760.jpg', 'flower_competition_data/train_images/dandelion/4844697927_c70d644f40_n.jpg', 'flower_competition_data/train_images/dandelion/7132676187_7a4265b16f_n.jpg', 'flower_competition_data/train_images/dandelion/7247192002_39b79998f0_n.jpg', 'flower_competition_data/train_images/dandelion/5744236092_de84b4e38d_n.jpg', 'flower_competition_data/train_images/dandelion/2569516382_9fd7097b9b.jpg', 'flower_competition_data/train_images/dandelion/17420983523_2e32d70359.jpg', 'flower_competition_data/train_images/dandelion/14278605962_d3cce5522f.jpg', 'flower_competition_data/train_images/dandelion/3533075436_0954145b9f_m.jpg', 'flower_competition_data/train_images/dandelion/3518608454_c3fd3c311c_m.jpg', 'flower_competition_data/train_images/dandelion/19617425002_b914c1e2ab.jpg', 'flower_competition_data/train_images/dandelion/16699732794_5bfd639cf8_n.jpg', 'flower_competition_data/train_images/dandelion/8270191872_61e47ae3b8_m.jpg', 'flower_competition_data/train_images/dandelion/5109501167_2d9bbb0f27_m.jpg', 'flower_competition_data/train_images/dandelion/6229634119_af5fec0a22.jpg', 'flower_competition_data/train_images/dandelion/4953240903_a121fba81f_m.jpg', 'flower_competition_data/train_images/dandelion/6918170172_3215766bf4_m.jpg', 'flower_competition_data/train_images/dandelion/16837594326_1056d875a4_m.jpg', 'flower_competition_data/train_images/dandelion/139124974_9e3ba69f6c.jpg', 'flower_competition_data/train_images/dandelion/14070457521_8eb41f65fa.jpg', 'flower_competition_data/train_images/dandelion/17821459748_873101edd0_m.jpg', 'flower_competition_data/train_images/dandelion/8717787983_c83bdf39fe_n.jpg', 'flower_competition_data/train_images/dandelion/11465213433_847c4fa261.jpg', 'flower_competition_data/train_images/dandelion/3451646670_3eff7094b7_n.jpg', 'flower_competition_data/train_images/dandelion/4573886520_09c984ecd8_m.jpg', 'flower_competition_data/train_images/dandelion/4638438929_2ec76083c8_m.jpg', 'flower_competition_data/train_images/dandelion/1426682852_e62169221f_m.jpg', 'flower_competition_data/train_images/dandelion/4574451859_432c856b6e_n.jpg', 'flower_competition_data/train_images/dandelion/14012247974_69ac128799.jpg', 'flower_competition_data/train_images/dandelion/14761980161_2d6dbaa4bb_m.jpg', 'flower_competition_data/train_images/dandelion/7884440256_91c033732d.jpg', 'flower_competition_data/train_images/dandelion/2635422362_a1bf641547_m.jpg', 'flower_competition_data/train_images/dandelion/7153497513_076486e26b_n.jpg', 'flower_competition_data/train_images/dandelion/425800274_27dba84fac_n.jpg', 'flower_competition_data/train_images/dandelion/18587334446_ef1021909b_n.jpg', 'flower_competition_data/train_images/dandelion/477207005_6327db8393_m.jpg', 'flower_competition_data/train_images/dandelion/4574447682_40dce530f1.jpg', 'flower_competition_data/train_images/dandelion/3491333876_e3fed43c0d.jpg', 'flower_competition_data/train_images/dandelion/8223968_6b51555d2f_n.jpg', 'flower_competition_data/train_images/dandelion/4669815582_0a994fb4fd_m.jpg', 'flower_competition_data/train_images/dandelion/3418355347_2bdcca592a.jpg', 'flower_competition_data/train_images/dandelion/8980145452_efbd6e3b04.jpg', 'flower_competition_data/train_images/dandelion/10683189_bd6e371b97.jpg', 'flower_competition_data/train_images/dandelion/17574213074_f5416afd84.jpg', 'flower_competition_data/train_images/dandelion/2444241718_3ca53ce921.jpg', 'flower_competition_data/train_images/dandelion/129019877_8eea2978ca_m.jpg', 'flower_competition_data/train_images/dandelion/18482768066_677292a64e.jpg', 'flower_competition_data/train_images/dandelion/19506262462_d0945c14a6.jpg', 'flower_competition_data/train_images/dandelion/148180650_19a4b410db.jpg', 'flower_competition_data/train_images/dandelion/14886860069_b84665a073.jpg', 'flower_competition_data/train_images/dandelion/155646858_9a8b5e8fc8.jpg', 'flower_competition_data/train_images/dandelion/3476759348_a0d34a4b59_n.jpg', 'flower_competition_data/train_images/dandelion/16650892835_9228a3ef67_m.jpg', 'flower_competition_data/train_images/dandelion/23192507093_2e6ec77bef_n.jpg', 'flower_competition_data/train_images/dandelion/501987276_744448580c_m.jpg', 'flower_competition_data/train_images/dandelion/8267315764_129f2e1d77_m.jpg', 'flower_competition_data/train_images/dandelion/5446666484_365f3be83a_n.jpg', 'flower_competition_data/train_images/dandelion/18996965033_1d92e5c99e.jpg', 'flower_competition_data/train_images/dandelion/1195255751_d58b3d3076.jpg', 'flower_competition_data/train_images/dandelion/12094442595_297494dba4_m.jpg', 'flower_competition_data/train_images/dandelion/3487229452_73e3004858.jpg', 'flower_competition_data/train_images/dandelion/8780964418_7a01a7f48a_n.jpg', 'flower_competition_data/train_images/dandelion/9188647508_3b56e62f69.jpg', 'flower_competition_data/train_images/dandelion/7165651120_2279ebf6d1.jpg', 'flower_competition_data/train_images/dandelion/8011324555_375b7b5b0a.jpg', 'flower_competition_data/train_images/dandelion/22196426956_eca94f6faa_m.jpg', 'flower_competition_data/train_images/dandelion/17851831751_35b071f4b0.jpg', 'flower_competition_data/train_images/dandelion/8915661673_9a1cdc3755_m.jpg', 'flower_competition_data/train_images/dandelion/13651218133_b6eb8e7ed2_m.jpg', 'flower_competition_data/train_images/dandelion/22274701614_901606ee34_n.jpg', 'flower_competition_data/train_images/dandelion/21523597492_39b6765cd7_m.jpg', 'flower_competition_data/train_images/dandelion/8980164828_04fbf64f79_n.jpg', 'flower_competition_data/train_images/dandelion/9517326597_5d116a0166.jpg', 'flower_competition_data/train_images/dandelion/1128626197_3f52424215_n.jpg', 'flower_competition_data/train_images/dandelion/2608937632_cfd93bc7cd.jpg', 'flower_competition_data/train_images/dandelion/8748402330_c00f9fbf7f_n.jpg', 'flower_competition_data/train_images/dandelion/3998275481_651205e02d.jpg', 'flower_competition_data/train_images/dandelion/19691175559_ef12b8b354_n.jpg', 'flower_competition_data/train_images/dandelion/6983105424_f33cc9b08d_m.jpg', 'flower_competition_data/train_images/dandelion/14171812905_8b81d50eb9_n.jpg', 'flower_competition_data/train_images/dandelion/8740218495_23858355d8_n.jpg', 'flower_competition_data/train_images/dandelion/15549402199_2890918ddb.jpg', 'flower_competition_data/train_images/dandelion/19443674130_08db1d9578_m.jpg', 'flower_competition_data/train_images/dandelion/2516714633_87f28f0314.jpg', 'flower_competition_data/train_images/dandelion/9262004825_710346cde9_n.jpg', 'flower_competition_data/train_images/dandelion/7040710179_7f86a17a3c_n.jpg', 'flower_competition_data/train_images/dandelion/8663932737_0a603ab718_n.jpg', 'flower_competition_data/train_images/dandelion/4560613196_91a04f8dcf_m.jpg', 'flower_competition_data/train_images/dandelion/22190242684_8c3300d4e6.jpg', 'flower_competition_data/train_images/dandelion/14019781123_ea0f8722d4_n.jpg', 'flower_competition_data/train_images/dandelion/3502447188_ab4a5055ac_m.jpg', 'flower_competition_data/train_images/dandelion/18232119726_cef27eaaac_n.jpg', 'flower_competition_data/train_images/dandelion/3499837275_5f24d2f8bf_n.jpg', 'flower_competition_data/train_images/dandelion/17862580326_293070978d_m.jpg', 'flower_competition_data/train_images/dandelion/14093744313_b66bc95072.jpg', 'flower_competition_data/train_images/dandelion/4574102507_70039c8b28.jpg', 'flower_competition_data/train_images/dandelion/4669006062_6b3d260037_n.jpg', 'flower_competition_data/train_images/dandelion/16716172029_2166d8717f_m.jpg', 'flower_competition_data/train_images/dandelion/2683330456_0f7bbce110_m.jpg', 'flower_competition_data/train_images/dandelion/3419166382_a5e4b8fe6d_m.jpg', 'flower_competition_data/train_images/dandelion/4858372040_52216eb0bd.jpg', 'flower_competition_data/train_images/dandelion/8194560480_bfc1fb5801.jpg', 'flower_competition_data/train_images/dandelion/2553703483_558d12668c_n.jpg', 'flower_competition_data/train_images/dandelion/13968424321_1d89b33a9f_n.jpg', 'flower_competition_data/train_images/dandelion/3954167682_128398bf79_m.jpg', 'flower_competition_data/train_images/dandelion/2076141453_c63801962a_m.jpg', 'flower_competition_data/train_images/dandelion/2502627784_4486978bcf.jpg', 'flower_competition_data/train_images/dandelion/15782158700_3b9bf7d33e_m.jpg', 'flower_competition_data/train_images/dandelion/14126515096_1134fae695.jpg', 'flower_competition_data/train_images/dandelion/4654848357_9549351e0b_n.jpg', 'flower_competition_data/train_images/dandelion/3664916269_29f07c7c7b.jpg', 'flower_competition_data/train_images/dandelion/4523239455_9c31a06aaf_n.jpg', 'flower_competition_data/train_images/dandelion/8757650550_113d7af3bd.jpg', 'flower_competition_data/train_images/dandelion/5600240736_4a90c10579_n.jpg', 'flower_competition_data/train_images/dandelion/4708723476_a1b476a373.jpg', 'flower_competition_data/train_images/dandelion/15378782362_4161b23af7_m.jpg', 'flower_competition_data/train_images/dandelion/8735646181_fa9787d4e0.jpg', 'flower_competition_data/train_images/dandelion/4558562689_c8e2ab9f10.jpg', 'flower_competition_data/train_images/dandelion/2634666217_d5ef87c9f7_m.jpg', 'flower_competition_data/train_images/dandelion/2401343175_d2a892cf25_n.jpg', 'flower_competition_data/train_images/dandelion/9965757055_ff01b5ee6f_n.jpg', 'flower_competition_data/train_images/dandelion/2494436687_775402e0aa.jpg', 'flower_competition_data/train_images/dandelion/7295618968_c08a326cc1_m.jpg', 'flower_competition_data/train_images/dandelion/3857059749_fe8ca621a9.jpg', 'flower_competition_data/train_images/dandelion/7243478942_30bf542a2d_m.jpg', 'flower_competition_data/train_images/dandelion/5623855601_ecaebdb8fe.jpg', 'flower_competition_data/train_images/dandelion/4572738670_4787a11058_n.jpg', 'flower_competition_data/train_images/dandelion/455728598_c5f3e7fc71_m.jpg', 'flower_competition_data/train_images/dandelion/14728922673_99086a3818_n.jpg', 'flower_competition_data/train_images/dandelion/19440660848_c789227129_m.jpg', 'flower_competition_data/train_images/dandelion/177851662_b2622b4238_n.jpg', 'flower_competition_data/train_images/dandelion/5623492051_8e5ce438bd.jpg', 'flower_competition_data/train_images/dandelion/6132275522_ce46b33c33_m.jpg', 'flower_competition_data/train_images/dandelion/2395009660_295c8ffd67_m.jpg', 'flower_competition_data/train_images/dandelion/19600096066_67dc941042.jpg', 'flower_competition_data/train_images/dandelion/16744522344_8d21b1530d_n.jpg', 'flower_competition_data/train_images/dandelion/1193386857_3ae53574f2_m.jpg', 'flower_competition_data/train_images/dandelion/16949657389_ac0ee80fd1_m.jpg', 'flower_competition_data/train_images/dandelion/2453532367_fc373df4de.jpg', 'flower_competition_data/train_images/dandelion/3589816063_50f8de7b64_m.jpg', 'flower_competition_data/train_images/dandelion/2634665077_597910235f_m.jpg', 'flower_competition_data/train_images/dandelion/14199664556_188b37e51e.jpg', 'flower_competition_data/train_images/dandelion/12998979765_3de89e7195_n.jpg', 'flower_competition_data/train_images/dandelion/3476980444_c276bea402_m.jpg', 'flower_competition_data/train_images/dandelion/8756906129_b05a1b26f2.jpg', 'flower_competition_data/train_images/dandelion/18089878729_907ed2c7cd_m.jpg', 'flower_competition_data/train_images/dandelion/8956863946_f96be02aae_n.jpg', 'flower_competition_data/train_images/dandelion/4606893762_c2f26c7e91_n.jpg', 'flower_competition_data/train_images/dandelion/4568317687_3f89622f76.jpg', 'flower_competition_data/train_images/dandelion/16656127943_2f70926b6c.jpg', 'flower_competition_data/train_images/dandelion/9613826015_f345354874.jpg', 'flower_competition_data/train_images/dandelion/149782934_21adaf4a21.jpg', 'flower_competition_data/train_images/dandelion/16817037661_2980d823e1_n.jpg', 'flower_competition_data/train_images/dandelion/5681951567_d3b03bfd2a_m.jpg', 'flower_competition_data/train_images/dandelion/2465442759_d4532a57a3.jpg', 'flower_competition_data/train_images/dandelion/2462379970_6bd5560f4c_m.jpg', 'flower_competition_data/train_images/dandelion/4226758402_a1b75ce3ac_n.jpg', 'flower_competition_data/train_images/dandelion/2497301920_91490c42c0.jpg', 'flower_competition_data/train_images/dandelion/2389720627_8923180b19.jpg', 'flower_competition_data/train_images/dandelion/138132145_782763b84f_m.jpg', 'flower_competition_data/train_images/dandelion/8723679596_391a724d4f_m.jpg', 'flower_competition_data/train_images/dandelion/8079778274_f2a400f749_n.jpg', 'flower_competition_data/train_images/dandelion/3461986955_29a1abc621.jpg', 'flower_competition_data/train_images/dandelion/8978962053_0727b41d26.jpg', 'flower_competition_data/train_images/dandelion/14002252932_64d5cbdac7.jpg', 'flower_competition_data/train_images/dandelion/19438516548_bbaf350664.jpg', 'flower_competition_data/train_images/dandelion/506660896_c903cca1f0.jpg', 'flower_competition_data/train_images/dandelion/8716513637_2ba0c4e6cd_n.jpg', 'flower_competition_data/train_images/dandelion/480621885_4c8b50fa11_m.jpg', 'flower_competition_data/train_images/dandelion/10777398353_5a20bb218c.jpg', 'flower_competition_data/train_images/dandelion/10443973_aeb97513fc_m.jpg', 'flower_competition_data/train_images/dandelion/13652698934_d258a6ee8c.jpg', 'flower_competition_data/train_images/dandelion/6968202872_cfcb5b77fb.jpg', 'flower_competition_data/train_images/dandelion/7808545612_546cfca610_m.jpg', 'flower_competition_data/train_images/dandelion/14455605089_8bbfb41cd7_n.jpg', 'flower_competition_data/train_images/dandelion/5762590366_5cf7a32b87_n.jpg', 'flower_competition_data/train_images/dandelion/14164392167_650946a169_n.jpg', 'flower_competition_data/train_images/dandelion/13900486390_5a25785645_n.jpg', 'flower_competition_data/train_images/dandelion/5772194932_60b833091f.jpg', 'flower_competition_data/train_images/dandelion/151979452_9832f08b69.jpg', 'flower_competition_data/train_images/dandelion/7280222348_a87725ca77.jpg', 'flower_competition_data/train_images/dandelion/19961979110_fcd8092388_m.jpg', 'flower_competition_data/train_images/dandelion/5628515159_6b437ff1e5_n.jpg', 'flower_competition_data/train_images/dandelion/6994933428_307b092ce7_m.jpg', 'flower_competition_data/train_images/dandelion/61242541_a04395e6bc.jpg', 'flower_competition_data/train_images/dandelion/19064700925_b93d474e37.jpg', 'flower_competition_data/train_images/dandelion/5110104894_a52c685516_n.jpg', 'flower_competition_data/train_images/dandelion/8981659922_7b1be892e7_m.jpg', 'flower_competition_data/train_images/dandelion/16242239484_51286673af.jpg', 'flower_competition_data/train_images/dandelion/3297108443_0393d04dfc_m.jpg', 'flower_competition_data/train_images/dandelion/146023167_f905574d97_m.jpg', 'flower_competition_data/train_images/dandelion/2478018280_1be353ca8c_m.jpg', 'flower_competition_data/train_images/dandelion/3823142577_dd5acd5ac6_n.jpg', 'flower_competition_data/train_images/dandelion/17457028309_95514c8d02_n.jpg', 'flower_competition_data/train_images/dandelion/8980273068_cf7e8b880a_n.jpg', 'flower_competition_data/train_images/dandelion/4633792226_80f89c89ec_m.jpg', 'flower_competition_data/train_images/dandelion/2330343016_23acc484ee.jpg', 'flower_competition_data/train_images/dandelion/3469112805_6cc8640236.jpg', 'flower_competition_data/train_images/dandelion/9029756865_db8891807a_n.jpg', 'flower_competition_data/train_images/dandelion/3584414925_1e6c4b61db_n.jpg', 'flower_competition_data/train_images/dandelion/7368435774_0045b9dc4e.jpg', 'flower_competition_data/train_images/dandelion/13897156242_dca5d93075_m.jpg', 'flower_competition_data/train_images/dandelion/4552571121_2677bcdec3.jpg', 'flower_competition_data/train_images/dandelion/5768217474_f6b1eef6d5_n.jpg', 'flower_competition_data/train_images/dandelion/7315832212_b0ceeb8de8_n.jpg', 'flower_competition_data/train_images/dandelion/463736819_f779800165.jpg', 'flower_competition_data/train_images/dandelion/13967344688_aa629dcdee_n.jpg', 'flower_competition_data/train_images/dandelion/16237158409_01913cf918_n.jpg', 'flower_competition_data/train_images/dandelion/15005530987_e13b328047_n.jpg', 'flower_competition_data/train_images/dandelion/3562861685_8b8d747b4d.jpg', 'flower_competition_data/train_images/dandelion/144040769_c5b805f868.jpg', 'flower_competition_data/train_images/dandelion/17080000869_a80e767f4a_m.jpg', 'flower_competition_data/train_images/dandelion/2596413098_7ef69b7e1d_m.jpg', 'flower_competition_data/train_images/dandelion/13290033_ebd7c7abba_n.jpg', 'flower_competition_data/train_images/dandelion/8966818334_483f4489be_n.jpg', 'flower_competition_data/train_images/dandelion/23891393761_155af6402c.jpg', 'flower_competition_data/train_images/dandelion/16375088191_2bf2916b53.jpg', 'flower_competition_data/train_images/dandelion/2477986396_19da36d557_m.jpg', 'flower_competition_data/train_images/dandelion/20754920332_53b995fc63_n.jpg', 'flower_competition_data/train_images/dandelion/1386449001_5d6da6bde6.jpg', 'flower_competition_data/train_images/dandelion/5605502523_05acb00ae7_n.jpg', 'flower_competition_data/train_images/dandelion/4632761610_768360d425.jpg', 'flower_competition_data/train_images/dandelion/6994938270_bf51d0fe63.jpg', 'flower_competition_data/train_images/dandelion/8220011556_28e0cab67f.jpg', 'flower_competition_data/train_images/dandelion/7243174412_d3628e4cc4_m.jpg', 'flower_competition_data/train_images/dandelion/3419176626_512811d3ff.jpg', 'flower_competition_data/train_images/dandelion/8684925862_d736e153bf_n.jpg', 'flower_competition_data/train_images/dandelion/17189437699_a9171b6ae3.jpg', 'flower_competition_data/train_images/dandelion/7249354462_21925f7d95_n.jpg', 'flower_competition_data/train_images/dandelion/148698493_5710e5f472.jpg', 'flower_competition_data/train_images/dandelion/13560152823_9da5e48c87_m.jpg', 'flower_competition_data/train_images/dandelion/19397467530_1e8131a7cf.jpg', 'flower_competition_data/train_images/dandelion/13386618495_3df1f1330d.jpg', 'flower_competition_data/train_images/dandelion/6900157914_c3387c11d8.jpg', 'flower_competition_data/train_images/dandelion/2522454811_f87af57d8b.jpg', 'flower_competition_data/train_images/dandelion/14469481104_d0e29f7ffd.jpg', 'flower_competition_data/train_images/dandelion/2019520447_48b2354a20_m.jpg', 'flower_competition_data/train_images/dandelion/3761310831_41b5eba622_n.jpg', 'flower_competition_data/train_images/dandelion/7425858848_d04dab08dd_n.jpg', 'flower_competition_data/train_images/dandelion/4676527148_d701b9202f_n.jpg', 'flower_competition_data/train_images/dandelion/6985099958_5249a4688b.jpg', 'flower_competition_data/train_images/dandelion/14076873230_d0bd53b220.jpg', 'flower_competition_data/train_images/dandelion/13946048982_4e6ec56987.jpg', 'flower_competition_data/train_images/dandelion/4134441089_c8c1e6132a.jpg', 'flower_competition_data/train_images/dandelion/15987457_49dc11bf4b.jpg', 'flower_competition_data/train_images/dandelion/4645101643_9c9d9df13e.jpg', 'flower_competition_data/train_images/dandelion/7267547016_c8903920bf.jpg', 'flower_competition_data/train_images/dandelion/80846315_d997645bea_n.jpg', 'flower_competition_data/train_images/dandelion/17047385027_8fd510e164_n.jpg', 'flower_competition_data/train_images/dandelion/17077940105_d2cd7b9ec4_n.jpg', 'flower_competition_data/train_images/dandelion/3675486971_d4c8683b54_n.jpg', 'flower_competition_data/train_images/dandelion/4893356345_24d67eff9f_m.jpg', 'flower_competition_data/train_images/dandelion/459633569_5ddf6bc116_m.jpg', 'flower_competition_data/train_images/dandelion/3005677730_2662753d3f_m.jpg', 'flower_competition_data/train_images/dandelion/5024965767_230f140d60_n.jpg', 'flower_competition_data/train_images/dandelion/2229906591_e953785d13.jpg', 'flower_competition_data/train_images/dandelion/8681169825_19a21c6bf5_m.jpg', 'flower_competition_data/train_images/dandelion/14373114081_7922bcf765_n.jpg', 'flower_competition_data/train_images/dandelion/2535769822_513be6bbe9.jpg', 'flower_competition_data/train_images/dandelion/4278757393_bca8415ed4_n.jpg', 'flower_competition_data/train_images/dandelion/14085038920_2ee4ce8a8d.jpg', 'flower_competition_data/train_images/dandelion/17466568484_9128287148.jpg', 'flower_competition_data/train_images/dandelion/458011386_ec89115a19.jpg', 'flower_competition_data/train_images/dandelion/15219268336_f2460fca88_m.jpg', 'flower_competition_data/train_images/dandelion/4632251871_9f324a7bb5.jpg', 'flower_competition_data/train_images/dandelion/4254850910_0610224342_n.jpg', 'flower_competition_data/train_images/dandelion/340190928_d77bf4d615.jpg', 'flower_competition_data/train_images/dandelion/16766166609_ccb8344c9f_m.jpg', 'flower_competition_data/train_images/dandelion/18238604119_a5689980ee_n.jpg', 'flower_competition_data/train_images/dandelion/9300335851_cdf1cef7a9.jpg', 'flower_competition_data/train_images/dandelion/2326334426_2dc74fceb1.jpg', 'flower_competition_data/train_images/dandelion/5767676943_4f9c7323f3_n.jpg', 'flower_competition_data/train_images/dandelion/8083321316_f62ea76f72_n.jpg', 'flower_competition_data/train_images/dandelion/18876985840_7531dc8e6a.jpg', 'flower_competition_data/train_images/dandelion/15644450971_6a28298454_n.jpg', 'flower_competition_data/train_images/dandelion/5829610661_8439ba4a77_n.jpg', 'flower_competition_data/train_images/dandelion/7367491658_9eb4dc2384_m.jpg', 'flower_competition_data/train_images/dandelion/3554992110_81d8c9b0bd_m.jpg', 'flower_competition_data/train_images/dandelion/578938011_34918b1468.jpg', 'flower_competition_data/train_images/dandelion/3198028825_fdfaa1d020.jpg', 'flower_competition_data/train_images/dandelion/4290112545_3528055993_m.jpg', 'flower_competition_data/train_images/dandelion/284497199_93a01f48f6.jpg', 'flower_competition_data/train_images/dandelion/8733226215_161309f8ec.jpg', 'flower_competition_data/train_images/dandelion/19613204505_da554eb56a_n.jpg', 'flower_competition_data/train_images/dandelion/4696437766_85952d0196.jpg', 'flower_competition_data/train_images/dandelion/2938040169_eb38581359.jpg', 'flower_competition_data/train_images/dandelion/4558536575_d43a611bd4_n.jpg', 'flower_competition_data/train_images/dandelion/3475811950_0fb89845f5_n.jpg', 'flower_competition_data/train_images/dandelion/4675287055_5938ed62c4.jpg', 'flower_competition_data/train_images/dandelion/4496277750_8c34256e28.jpg', 'flower_competition_data/train_images/dandelion/22679060358_561ec823ae_m.jpg', 'flower_competition_data/train_images/dandelion/18271576032_d7e2296de4_n.jpg', 'flower_competition_data/train_images/dandelion/19622465055_2a62ebd504_m.jpg', 'flower_competition_data/train_images/dandelion/9472854850_fc9e1db673.jpg', 'flower_competition_data/train_images/dandelion/7196683612_6c4cf05b24.jpg', 'flower_competition_data/train_images/dandelion/5727534342_419604c177_n.jpg', 'flower_competition_data/train_images/dandelion/11124381625_24b17662bd_n.jpg']]\n"
          ]
        }
      ]
    },
    {
      "cell_type": "markdown",
      "metadata": {
        "id": "gEzPoXPj3V7u"
      },
      "source": [
        "##2.   Preprocess data / Write and Save Preprocessor function\n"
      ]
    },
    {
      "cell_type": "code",
      "source": [
        "# Here is a pre-designed preprocessor, but you could also build your own to prepare the data differently\n",
        "\n",
        "def preprocessor(image_filepath, shape=(192, 192)):\n",
        "        \"\"\"\n",
        "        This function preprocesses reads in images, resizes them to a fixed shape and\n",
        "        min/max transforms them before converting feature values to float32 numeric values\n",
        "        required by onnx files.\n",
        "        \n",
        "        params:\n",
        "            image_filepath\n",
        "                full filepath of a particular image\n",
        "                      \n",
        "        returns:\n",
        "            X\n",
        "                numpy array of preprocessed image data\n",
        "                  \n",
        "        \"\"\"\n",
        "           \n",
        "        import cv2\n",
        "        import numpy as np\n",
        "\n",
        "        \"Resize a color image and min/max transform the image\"\n",
        "        img = cv2.imread(image_filepath) # Read in image from filepath.\n",
        "        img = cv2.cvtColor(img, cv2.COLOR_BGR2RGB) # cv2 reads in images in order of blue green and red, we reverse the order for ML.\n",
        "        img = cv2.resize(img, shape) # Change height and width of image.\n",
        "        img = img / 255.0 # Min-max transform.\n",
        "\n",
        "\n",
        "        # Resize all the images...\n",
        "        X = np.array(img)\n",
        "        X = np.expand_dims(X, axis=0) # Expand dims to add \"1\" to object shape [1, h, w, channels] for keras model.\n",
        "        X = np.array(X, dtype=np.float32) # Final shape for onnx runtime.\n",
        "        return X"
      ],
      "metadata": {
        "id": "zJMxj9wgvtLk"
      },
      "execution_count": 4,
      "outputs": []
    },
    {
      "cell_type": "code",
      "source": [
        "# Use preprocessor to create X_train object \n",
        "\n",
        "# Import image, load to array of shape height, width, channels, then min/max transform...\n",
        "# Read in all images from filenames...\n",
        "import numpy as np \n",
        "\n",
        "preprocessed_image_data = [preprocessor(x) for x in fnames[0] + fnames[1] + fnames[2] + \n",
        "                           fnames[3] + fnames[4]]\n",
        "\n",
        "# Object needs to be an array rather than a list for Keras. (vstack converts above list to array object.)\n",
        "X_train = np.vstack(preprocessed_image_data)\n",
        "# Assigning to X_train to highlight that this represents feature input data for our model."
      ],
      "metadata": {
        "id": "QVHE_pdzAE_1"
      },
      "execution_count": 5,
      "outputs": []
    },
    {
      "cell_type": "code",
      "source": [
        "# Preprocess X_test image data to generate predictions from models \n",
        "import numpy as np\n",
        "\n",
        "file_names = [('flower_competition_data/test_images/' + str(i) + '.jpg') for i in range(1, 735)]\n",
        "\n",
        "preprocessed_image_data = [preprocessor(x) for x in file_names]\n",
        "\n",
        "#Create single X_test array from preprocessed images\n",
        "X_test = np.vstack(preprocessed_image_data) "
      ],
      "metadata": {
        "id": "ldSywYT7AQ-c"
      },
      "execution_count": 6,
      "outputs": []
    },
    {
      "cell_type": "markdown",
      "metadata": {
        "id": "X52kECL43b-O"
      },
      "source": [
        "##3. Fit model on preprocessed data and save preprocessor function and model \n"
      ]
    },
    {
      "cell_type": "code",
      "metadata": {
        "colab": {
          "base_uri": "https://localhost:8080/"
        },
        "id": "NCbBf8j9ClYl",
        "outputId": "a9ff5936-5a88-47d1-ea3a-b458b1d5b96f"
      },
      "source": [
        "# Let's build a convnet model...\n",
        "import tensorflow as tf \n",
        "from tensorflow.keras.models import Sequential\n",
        "from tensorflow.keras.layers import Dense, Activation, Dropout, Flatten\n",
        "from tensorflow.keras.layers import Conv2D, MaxPooling2D\n",
        "from tensorflow.keras import regularizers\n",
        "\n",
        "with tf.device('/device:GPU:0'): # \"/GPU:0\": Short-hand notation for the first GPU of your machine that is visible to TensorFlow.\n",
        "                                 \n",
        "        cnn1 = Sequential()\n",
        "        cnn1.add(Conv2D(filters=16, kernel_size=3, padding='same', activation='relu', input_shape=[192, 192, 3]))\n",
        "        cnn1.add(Conv2D(filters=16, kernel_size=3, padding='same', activation='relu', kernel_regularizer=regularizers.l2(l=0.01)))\n",
        "        cnn1.add(MaxPooling2D(pool_size=2)) \n",
        "        cnn1.add(Conv2D(filters=16, kernel_size=3, padding='same', activation='relu', kernel_regularizer=regularizers.l2(l=0.01)))\n",
        "        cnn1.add(Conv2D(filters=16, kernel_size=3, padding='same', activation='relu'))\n",
        "        cnn1.add(MaxPooling2D(pool_size=2))\n",
        "        cnn1.add(Dropout(0.3))\n",
        "        cnn1.add(Flatten())\n",
        "        cnn1.add(Dense(50, activation='relu'))\n",
        "        cnn1.add(Dropout(0.2))\n",
        "        cnn1.add(Dense(5, activation='softmax'))\n",
        "\n",
        "        # Compile model...\n",
        "        cnn1.compile(loss='categorical_crossentropy', optimizer='rmsprop', metrics=['accuracy'])\n",
        "\n",
        "        # Fitting the NN to the Training set...\n",
        "        hist = cnn1.fit(X_train, y_train, epochs=1, verbose=1, validation_split=0.2)"
      ],
      "execution_count": 7,
      "outputs": [
        {
          "output_type": "stream",
          "name": "stdout",
          "text": [
            "74/74 [==============================] - 117s 2s/step - loss: 1.6472 - accuracy: 0.3620 - val_loss: 4.3538 - val_accuracy: 0.0000e+00\n"
          ]
        }
      ]
    },
    {
      "cell_type": "markdown",
      "metadata": {
        "id": "zmJAnmO-5AcU"
      },
      "source": [
        "#### Save preprocessor function to local \"preprocessor.zip\" file"
      ]
    },
    {
      "cell_type": "code",
      "metadata": {
        "colab": {
          "base_uri": "https://localhost:8080/"
        },
        "id": "4VGacc0LDaMA",
        "outputId": "aac1995b-f926-41cc-b7a5-99c0d0e1e5ea"
      },
      "source": [
        "import aimodelshare as ai\n",
        "ai.export_preprocessor(preprocessor,\"\") "
      ],
      "execution_count": 8,
      "outputs": [
        {
          "output_type": "stream",
          "name": "stdout",
          "text": [
            "Your preprocessor is now saved to 'preprocessor.zip'\n"
          ]
        }
      ]
    },
    {
      "cell_type": "markdown",
      "metadata": {
        "id": "oOWBa8Cv5LdL"
      },
      "source": [
        "#### Save model to local \".onnx\" file"
      ]
    },
    {
      "cell_type": "code",
      "metadata": {
        "id": "pEhvnRiQDlY5"
      },
      "source": [
        "# Save keras model to local ONNX file\n",
        "from aimodelshare.aimsonnx import model_to_onnx\n",
        "\n",
        "onnx_model = model_to_onnx(cnn1, framework='keras',\n",
        "                          transfer_learning=False,\n",
        "                          deep_learning=True)\n",
        "\n",
        "with open(\"model.onnx\", \"wb\") as f:\n",
        "    f.write(onnx_model.SerializeToString())"
      ],
      "execution_count": 9,
      "outputs": []
    },
    {
      "cell_type": "markdown",
      "metadata": {
        "id": "gHWkAzvX3m8O"
      },
      "source": [
        "## 4. Generate predictions from X_test data and submit model to competition\n"
      ]
    },
    {
      "cell_type": "code",
      "metadata": {
        "colab": {
          "base_uri": "https://localhost:8080/"
        },
        "id": "RtgkM02MDpkO",
        "outputId": "33d9ff95-9e29-408c-977e-2d543a1261cb"
      },
      "source": [
        "#Set credentials using modelshare.org username/password\n",
        "\n",
        "from aimodelshare.aws import set_credentials\n",
        "\n",
        "# Note -- This is the unique rest api that powers this flower classification Model Plaground\n",
        "# ... Update the apiurl if submitting to a new competition\n",
        "\n",
        "apiurl=\"https://5l7clbsyu5.execute-api.us-east-1.amazonaws.com/prod/m\"\n",
        "set_credentials(apiurl=apiurl)"
      ],
      "execution_count": 11,
      "outputs": [
        {
          "output_type": "stream",
          "name": "stdout",
          "text": [
            "AI Modelshare Username:··········\n",
            "AI Modelshare Password:··········\n",
            "AI Model Share login credentials set successfully.\n"
          ]
        }
      ]
    },
    {
      "cell_type": "code",
      "metadata": {
        "id": "fKNGSww8EGgi"
      },
      "source": [
        "#Instantiate Competition\n",
        "\n",
        "mycompetition= ai.Competition(apiurl)"
      ],
      "execution_count": 12,
      "outputs": []
    },
    {
      "cell_type": "code",
      "metadata": {
        "id": "_Ql4wksyEUnP",
        "colab": {
          "base_uri": "https://localhost:8080/"
        },
        "outputId": "c605e2b8-1523-41dc-e751-d1d10ca0713f"
      },
      "source": [
        "#Submit Model 1: \n",
        "\n",
        "#-- Generate predicted y values (Model 1)\n",
        "#Note: Keras predict returns the predicted column index location for classification models\n",
        "prediction_column_index=cnn1.predict(X_test).argmax(axis=1)\n",
        "\n",
        "# extract correct prediction labels \n",
        "prediction_labels = [y_train.columns[i] for i in prediction_column_index]\n",
        "\n",
        "# Submit Model 1 to Competition Leaderboard\n",
        "mycompetition.submit_model(model_filepath = \"model.onnx\",\n",
        "                                 preprocessor_filepath=\"preprocessor.zip\",\n",
        "                                 prediction_submission=prediction_labels)"
      ],
      "execution_count": 13,
      "outputs": [
        {
          "output_type": "stream",
          "name": "stdout",
          "text": [
            "Insert search tags to help users find your model (optional): \n",
            "Provide any useful notes about your model (optional): \n",
            "\n",
            "Your model has been submitted as model version 3\n",
            "\n",
            "To submit code used to create this model or to view current leaderboard navigate to Model Playground: \n",
            "\n",
            " https://www.modelshare.org/detail/model:1317\n"
          ]
        }
      ]
    },
    {
      "cell_type": "code",
      "metadata": {
        "colab": {
          "base_uri": "https://localhost:8080/",
          "height": 222
        },
        "id": "GN1zvAmNEq17",
        "outputId": "988fd337-28ef-4904-f2d6-886ce1af8ca1"
      },
      "source": [
        "# Get leaderboard to explore current best model architectures\n",
        "\n",
        "# Get raw data in pandas data frame\n",
        "data = mycompetition.get_leaderboard()\n",
        "\n",
        "# Stylize leaderboard data\n",
        "mycompetition.stylize_leaderboard(data)"
      ],
      "execution_count": 14,
      "outputs": [
        {
          "output_type": "execute_result",
          "data": {
            "text/html": [
              "<style  type=\"text/css\" >\n",
              "#T_15a7c594_7fb7_11ec_9ef0_0242ac1c0002row0_col0{\n",
              "            text-align:  center;\n",
              "            width:  10em;\n",
              "             height:  80%;\n",
              "            background:  linear-gradient(90deg,#f5f8d6 64.2%, transparent 64.2%);\n",
              "            color:  #251e1b;\n",
              "            font-size:  12px;\n",
              "        }#T_15a7c594_7fb7_11ec_9ef0_0242ac1c0002row0_col1{\n",
              "            text-align:  center;\n",
              "            width:  10em;\n",
              "             height:  80%;\n",
              "            background:  linear-gradient(90deg,#c778c8 63.7%, transparent 63.7%);\n",
              "            color:  #251e1b;\n",
              "            font-size:  12px;\n",
              "        }#T_15a7c594_7fb7_11ec_9ef0_0242ac1c0002row0_col2{\n",
              "            text-align:  center;\n",
              "            width:  10em;\n",
              "             height:  80%;\n",
              "            background:  linear-gradient(90deg,#ff4971 64.3%, transparent 64.3%);\n",
              "            color:  #251e1b;\n",
              "            font-size:  12px;\n",
              "        }#T_15a7c594_7fb7_11ec_9ef0_0242ac1c0002row0_col3{\n",
              "            text-align:  center;\n",
              "            width:  10em;\n",
              "             height:  80%;\n",
              "            background:  linear-gradient(90deg,#aadbaa 63.7%, transparent 63.7%);\n",
              "            color:  #251e1b;\n",
              "            font-size:  12px;\n",
              "        }#T_15a7c594_7fb7_11ec_9ef0_0242ac1c0002row0_col4,#T_15a7c594_7fb7_11ec_9ef0_0242ac1c0002row0_col5,#T_15a7c594_7fb7_11ec_9ef0_0242ac1c0002row0_col6,#T_15a7c594_7fb7_11ec_9ef0_0242ac1c0002row0_col7,#T_15a7c594_7fb7_11ec_9ef0_0242ac1c0002row0_col8,#T_15a7c594_7fb7_11ec_9ef0_0242ac1c0002row0_col9,#T_15a7c594_7fb7_11ec_9ef0_0242ac1c0002row0_col10,#T_15a7c594_7fb7_11ec_9ef0_0242ac1c0002row0_col11,#T_15a7c594_7fb7_11ec_9ef0_0242ac1c0002row0_col12,#T_15a7c594_7fb7_11ec_9ef0_0242ac1c0002row0_col13,#T_15a7c594_7fb7_11ec_9ef0_0242ac1c0002row0_col14,#T_15a7c594_7fb7_11ec_9ef0_0242ac1c0002row0_col15,#T_15a7c594_7fb7_11ec_9ef0_0242ac1c0002row0_col16,#T_15a7c594_7fb7_11ec_9ef0_0242ac1c0002row0_col17,#T_15a7c594_7fb7_11ec_9ef0_0242ac1c0002row0_col18,#T_15a7c594_7fb7_11ec_9ef0_0242ac1c0002row0_col19,#T_15a7c594_7fb7_11ec_9ef0_0242ac1c0002row0_col20,#T_15a7c594_7fb7_11ec_9ef0_0242ac1c0002row0_col21,#T_15a7c594_7fb7_11ec_9ef0_0242ac1c0002row1_col4,#T_15a7c594_7fb7_11ec_9ef0_0242ac1c0002row1_col5,#T_15a7c594_7fb7_11ec_9ef0_0242ac1c0002row1_col6,#T_15a7c594_7fb7_11ec_9ef0_0242ac1c0002row1_col7,#T_15a7c594_7fb7_11ec_9ef0_0242ac1c0002row1_col8,#T_15a7c594_7fb7_11ec_9ef0_0242ac1c0002row1_col9,#T_15a7c594_7fb7_11ec_9ef0_0242ac1c0002row1_col10,#T_15a7c594_7fb7_11ec_9ef0_0242ac1c0002row1_col11,#T_15a7c594_7fb7_11ec_9ef0_0242ac1c0002row1_col12,#T_15a7c594_7fb7_11ec_9ef0_0242ac1c0002row1_col13,#T_15a7c594_7fb7_11ec_9ef0_0242ac1c0002row1_col14,#T_15a7c594_7fb7_11ec_9ef0_0242ac1c0002row1_col15,#T_15a7c594_7fb7_11ec_9ef0_0242ac1c0002row1_col16,#T_15a7c594_7fb7_11ec_9ef0_0242ac1c0002row1_col17,#T_15a7c594_7fb7_11ec_9ef0_0242ac1c0002row1_col18,#T_15a7c594_7fb7_11ec_9ef0_0242ac1c0002row1_col19,#T_15a7c594_7fb7_11ec_9ef0_0242ac1c0002row1_col20,#T_15a7c594_7fb7_11ec_9ef0_0242ac1c0002row1_col21,#T_15a7c594_7fb7_11ec_9ef0_0242ac1c0002row2_col4,#T_15a7c594_7fb7_11ec_9ef0_0242ac1c0002row2_col5,#T_15a7c594_7fb7_11ec_9ef0_0242ac1c0002row2_col6,#T_15a7c594_7fb7_11ec_9ef0_0242ac1c0002row2_col7,#T_15a7c594_7fb7_11ec_9ef0_0242ac1c0002row2_col8,#T_15a7c594_7fb7_11ec_9ef0_0242ac1c0002row2_col9,#T_15a7c594_7fb7_11ec_9ef0_0242ac1c0002row2_col10,#T_15a7c594_7fb7_11ec_9ef0_0242ac1c0002row2_col11,#T_15a7c594_7fb7_11ec_9ef0_0242ac1c0002row2_col12,#T_15a7c594_7fb7_11ec_9ef0_0242ac1c0002row2_col13,#T_15a7c594_7fb7_11ec_9ef0_0242ac1c0002row2_col14,#T_15a7c594_7fb7_11ec_9ef0_0242ac1c0002row2_col15,#T_15a7c594_7fb7_11ec_9ef0_0242ac1c0002row2_col16,#T_15a7c594_7fb7_11ec_9ef0_0242ac1c0002row2_col17,#T_15a7c594_7fb7_11ec_9ef0_0242ac1c0002row2_col18,#T_15a7c594_7fb7_11ec_9ef0_0242ac1c0002row2_col19,#T_15a7c594_7fb7_11ec_9ef0_0242ac1c0002row2_col20,#T_15a7c594_7fb7_11ec_9ef0_0242ac1c0002row2_col21{\n",
              "            text-align:  center;\n",
              "        }#T_15a7c594_7fb7_11ec_9ef0_0242ac1c0002row1_col0{\n",
              "            text-align:  center;\n",
              "            width:  10em;\n",
              "             height:  80%;\n",
              "            background:  linear-gradient(90deg,#f5f8d6 48.5%, transparent 48.5%);\n",
              "            color:  #251e1b;\n",
              "            font-size:  12px;\n",
              "        }#T_15a7c594_7fb7_11ec_9ef0_0242ac1c0002row1_col1{\n",
              "            text-align:  center;\n",
              "            width:  10em;\n",
              "             height:  80%;\n",
              "            background:  linear-gradient(90deg,#c778c8 47.4%, transparent 47.4%);\n",
              "            color:  #251e1b;\n",
              "            font-size:  12px;\n",
              "        }#T_15a7c594_7fb7_11ec_9ef0_0242ac1c0002row1_col2{\n",
              "            text-align:  center;\n",
              "            width:  10em;\n",
              "             height:  80%;\n",
              "            background:  linear-gradient(90deg,#ff4971 49.6%, transparent 49.6%);\n",
              "            color:  #251e1b;\n",
              "            font-size:  12px;\n",
              "        }#T_15a7c594_7fb7_11ec_9ef0_0242ac1c0002row1_col3{\n",
              "            text-align:  center;\n",
              "            width:  10em;\n",
              "             height:  80%;\n",
              "            background:  linear-gradient(90deg,#aadbaa 47.0%, transparent 47.0%);\n",
              "            color:  #251e1b;\n",
              "            font-size:  12px;\n",
              "        }#T_15a7c594_7fb7_11ec_9ef0_0242ac1c0002row2_col0{\n",
              "            text-align:  center;\n",
              "            width:  10em;\n",
              "             height:  80%;\n",
              "            background:  linear-gradient(90deg,#f5f8d6 41.4%, transparent 41.4%);\n",
              "            color:  #251e1b;\n",
              "            font-size:  12px;\n",
              "        }#T_15a7c594_7fb7_11ec_9ef0_0242ac1c0002row2_col1{\n",
              "            text-align:  center;\n",
              "            width:  10em;\n",
              "             height:  80%;\n",
              "            background:  linear-gradient(90deg,#c778c8 34.2%, transparent 34.2%);\n",
              "            color:  #251e1b;\n",
              "            font-size:  12px;\n",
              "        }#T_15a7c594_7fb7_11ec_9ef0_0242ac1c0002row2_col2{\n",
              "            text-align:  center;\n",
              "            width:  10em;\n",
              "             height:  80%;\n",
              "            background:  linear-gradient(90deg,#ff4971 40.2%, transparent 40.2%);\n",
              "            color:  #251e1b;\n",
              "            font-size:  12px;\n",
              "        }#T_15a7c594_7fb7_11ec_9ef0_0242ac1c0002row2_col3{\n",
              "            text-align:  center;\n",
              "            width:  10em;\n",
              "             height:  80%;\n",
              "            background:  linear-gradient(90deg,#aadbaa 41.6%, transparent 41.6%);\n",
              "            color:  #251e1b;\n",
              "            font-size:  12px;\n",
              "        }</style><table id=\"T_15a7c594_7fb7_11ec_9ef0_0242ac1c0002\" class=\"dataframe\"><thead>    <tr>        <th class=\"blank level0\" ></th>        <th class=\"col_heading level0 col0\" >accuracy</th>        <th class=\"col_heading level0 col1\" >f1_score</th>        <th class=\"col_heading level0 col2\" >precision</th>        <th class=\"col_heading level0 col3\" >recall</th>        <th class=\"col_heading level0 col4\" >ml_framework</th>        <th class=\"col_heading level0 col5\" >transfer_learning</th>        <th class=\"col_heading level0 col6\" >deep_learning</th>        <th class=\"col_heading level0 col7\" >model_type</th>        <th class=\"col_heading level0 col8\" >depth</th>        <th class=\"col_heading level0 col9\" >num_params</th>        <th class=\"col_heading level0 col10\" >flatten_layers</th>        <th class=\"col_heading level0 col11\" >dense_layers</th>        <th class=\"col_heading level0 col12\" >maxpooling2d_layers</th>        <th class=\"col_heading level0 col13\" >dropout_layers</th>        <th class=\"col_heading level0 col14\" >relu_act</th>        <th class=\"col_heading level0 col15\" >softmax_act</th>        <th class=\"col_heading level0 col16\" >loss</th>        <th class=\"col_heading level0 col17\" >optimizer</th>        <th class=\"col_heading level0 col18\" >model_config</th>        <th class=\"col_heading level0 col19\" >memory_size</th>        <th class=\"col_heading level0 col20\" >username</th>        <th class=\"col_heading level0 col21\" >version</th>    </tr></thead><tbody>\n",
              "                <tr>\n",
              "                        <th id=\"T_15a7c594_7fb7_11ec_9ef0_0242ac1c0002level0_row0\" class=\"row_heading level0 row0\" >0</th>\n",
              "                        <td id=\"T_15a7c594_7fb7_11ec_9ef0_0242ac1c0002row0_col0\" class=\"data row0 col0\" >64.17%</td>\n",
              "                        <td id=\"T_15a7c594_7fb7_11ec_9ef0_0242ac1c0002row0_col1\" class=\"data row0 col1\" >63.68%</td>\n",
              "                        <td id=\"T_15a7c594_7fb7_11ec_9ef0_0242ac1c0002row0_col2\" class=\"data row0 col2\" >64.27%</td>\n",
              "                        <td id=\"T_15a7c594_7fb7_11ec_9ef0_0242ac1c0002row0_col3\" class=\"data row0 col3\" >63.72%</td>\n",
              "                        <td id=\"T_15a7c594_7fb7_11ec_9ef0_0242ac1c0002row0_col4\" class=\"data row0 col4\" >keras</td>\n",
              "                        <td id=\"T_15a7c594_7fb7_11ec_9ef0_0242ac1c0002row0_col5\" class=\"data row0 col5\" >False</td>\n",
              "                        <td id=\"T_15a7c594_7fb7_11ec_9ef0_0242ac1c0002row0_col6\" class=\"data row0 col6\" >True</td>\n",
              "                        <td id=\"T_15a7c594_7fb7_11ec_9ef0_0242ac1c0002row0_col7\" class=\"data row0 col7\" >Sequential</td>\n",
              "                        <td id=\"T_15a7c594_7fb7_11ec_9ef0_0242ac1c0002row0_col8\" class=\"data row0 col8\" >11</td>\n",
              "                        <td id=\"T_15a7c594_7fb7_11ec_9ef0_0242ac1c0002row0_col9\" class=\"data row0 col9\" >1851153</td>\n",
              "                        <td id=\"T_15a7c594_7fb7_11ec_9ef0_0242ac1c0002row0_col10\" class=\"data row0 col10\" >1</td>\n",
              "                        <td id=\"T_15a7c594_7fb7_11ec_9ef0_0242ac1c0002row0_col11\" class=\"data row0 col11\" >2</td>\n",
              "                        <td id=\"T_15a7c594_7fb7_11ec_9ef0_0242ac1c0002row0_col12\" class=\"data row0 col12\" >2.000000</td>\n",
              "                        <td id=\"T_15a7c594_7fb7_11ec_9ef0_0242ac1c0002row0_col13\" class=\"data row0 col13\" >2.000000</td>\n",
              "                        <td id=\"T_15a7c594_7fb7_11ec_9ef0_0242ac1c0002row0_col14\" class=\"data row0 col14\" >5</td>\n",
              "                        <td id=\"T_15a7c594_7fb7_11ec_9ef0_0242ac1c0002row0_col15\" class=\"data row0 col15\" >1</td>\n",
              "                        <td id=\"T_15a7c594_7fb7_11ec_9ef0_0242ac1c0002row0_col16\" class=\"data row0 col16\" >function</td>\n",
              "                        <td id=\"T_15a7c594_7fb7_11ec_9ef0_0242ac1c0002row0_col17\" class=\"data row0 col17\" >RMSprop</td>\n",
              "                        <td id=\"T_15a7c594_7fb7_11ec_9ef0_0242ac1c0002row0_col18\" class=\"data row0 col18\" >{'name': 'sequential', 'layers...</td>\n",
              "                        <td id=\"T_15a7c594_7fb7_11ec_9ef0_0242ac1c0002row0_col19\" class=\"data row0 col19\" >302360</td>\n",
              "                        <td id=\"T_15a7c594_7fb7_11ec_9ef0_0242ac1c0002row0_col20\" class=\"data row0 col20\" >AIModelShare</td>\n",
              "                        <td id=\"T_15a7c594_7fb7_11ec_9ef0_0242ac1c0002row0_col21\" class=\"data row0 col21\" >2</td>\n",
              "            </tr>\n",
              "            <tr>\n",
              "                        <th id=\"T_15a7c594_7fb7_11ec_9ef0_0242ac1c0002level0_row1\" class=\"row_heading level0 row1\" >2</th>\n",
              "                        <td id=\"T_15a7c594_7fb7_11ec_9ef0_0242ac1c0002row1_col0\" class=\"data row1 col0\" >48.50%</td>\n",
              "                        <td id=\"T_15a7c594_7fb7_11ec_9ef0_0242ac1c0002row1_col1\" class=\"data row1 col1\" >47.44%</td>\n",
              "                        <td id=\"T_15a7c594_7fb7_11ec_9ef0_0242ac1c0002row1_col2\" class=\"data row1 col2\" >49.65%</td>\n",
              "                        <td id=\"T_15a7c594_7fb7_11ec_9ef0_0242ac1c0002row1_col3\" class=\"data row1 col3\" >46.96%</td>\n",
              "                        <td id=\"T_15a7c594_7fb7_11ec_9ef0_0242ac1c0002row1_col4\" class=\"data row1 col4\" >keras</td>\n",
              "                        <td id=\"T_15a7c594_7fb7_11ec_9ef0_0242ac1c0002row1_col5\" class=\"data row1 col5\" >False</td>\n",
              "                        <td id=\"T_15a7c594_7fb7_11ec_9ef0_0242ac1c0002row1_col6\" class=\"data row1 col6\" >True</td>\n",
              "                        <td id=\"T_15a7c594_7fb7_11ec_9ef0_0242ac1c0002row1_col7\" class=\"data row1 col7\" >Sequential</td>\n",
              "                        <td id=\"T_15a7c594_7fb7_11ec_9ef0_0242ac1c0002row1_col8\" class=\"data row1 col8\" >5</td>\n",
              "                        <td id=\"T_15a7c594_7fb7_11ec_9ef0_0242ac1c0002row1_col9\" class=\"data row1 col9\" >11805061</td>\n",
              "                        <td id=\"T_15a7c594_7fb7_11ec_9ef0_0242ac1c0002row1_col10\" class=\"data row1 col10\" >1</td>\n",
              "                        <td id=\"T_15a7c594_7fb7_11ec_9ef0_0242ac1c0002row1_col11\" class=\"data row1 col11\" >4</td>\n",
              "                        <td id=\"T_15a7c594_7fb7_11ec_9ef0_0242ac1c0002row1_col12\" class=\"data row1 col12\" >nan</td>\n",
              "                        <td id=\"T_15a7c594_7fb7_11ec_9ef0_0242ac1c0002row1_col13\" class=\"data row1 col13\" >nan</td>\n",
              "                        <td id=\"T_15a7c594_7fb7_11ec_9ef0_0242ac1c0002row1_col14\" class=\"data row1 col14\" >3</td>\n",
              "                        <td id=\"T_15a7c594_7fb7_11ec_9ef0_0242ac1c0002row1_col15\" class=\"data row1 col15\" >1</td>\n",
              "                        <td id=\"T_15a7c594_7fb7_11ec_9ef0_0242ac1c0002row1_col16\" class=\"data row1 col16\" >function</td>\n",
              "                        <td id=\"T_15a7c594_7fb7_11ec_9ef0_0242ac1c0002row1_col17\" class=\"data row1 col17\" >RMSprop</td>\n",
              "                        <td id=\"T_15a7c594_7fb7_11ec_9ef0_0242ac1c0002row1_col18\" class=\"data row1 col18\" >{'name': 'sequential_1', 'laye...</td>\n",
              "                        <td id=\"T_15a7c594_7fb7_11ec_9ef0_0242ac1c0002row1_col19\" class=\"data row1 col19\" >204776</td>\n",
              "                        <td id=\"T_15a7c594_7fb7_11ec_9ef0_0242ac1c0002row1_col20\" class=\"data row1 col20\" >AIModelShare</td>\n",
              "                        <td id=\"T_15a7c594_7fb7_11ec_9ef0_0242ac1c0002row1_col21\" class=\"data row1 col21\" >1</td>\n",
              "            </tr>\n",
              "            <tr>\n",
              "                        <th id=\"T_15a7c594_7fb7_11ec_9ef0_0242ac1c0002level0_row2\" class=\"row_heading level0 row2\" >3</th>\n",
              "                        <td id=\"T_15a7c594_7fb7_11ec_9ef0_0242ac1c0002row2_col0\" class=\"data row2 col0\" >41.42%</td>\n",
              "                        <td id=\"T_15a7c594_7fb7_11ec_9ef0_0242ac1c0002row2_col1\" class=\"data row2 col1\" >34.22%</td>\n",
              "                        <td id=\"T_15a7c594_7fb7_11ec_9ef0_0242ac1c0002row2_col2\" class=\"data row2 col2\" >40.25%</td>\n",
              "                        <td id=\"T_15a7c594_7fb7_11ec_9ef0_0242ac1c0002row2_col3\" class=\"data row2 col3\" >41.62%</td>\n",
              "                        <td id=\"T_15a7c594_7fb7_11ec_9ef0_0242ac1c0002row2_col4\" class=\"data row2 col4\" >keras</td>\n",
              "                        <td id=\"T_15a7c594_7fb7_11ec_9ef0_0242ac1c0002row2_col5\" class=\"data row2 col5\" >False</td>\n",
              "                        <td id=\"T_15a7c594_7fb7_11ec_9ef0_0242ac1c0002row2_col6\" class=\"data row2 col6\" >True</td>\n",
              "                        <td id=\"T_15a7c594_7fb7_11ec_9ef0_0242ac1c0002row2_col7\" class=\"data row2 col7\" >Sequential</td>\n",
              "                        <td id=\"T_15a7c594_7fb7_11ec_9ef0_0242ac1c0002row2_col8\" class=\"data row2 col8\" >11</td>\n",
              "                        <td id=\"T_15a7c594_7fb7_11ec_9ef0_0242ac1c0002row2_col9\" class=\"data row2 col9\" >1850913</td>\n",
              "                        <td id=\"T_15a7c594_7fb7_11ec_9ef0_0242ac1c0002row2_col10\" class=\"data row2 col10\" >1</td>\n",
              "                        <td id=\"T_15a7c594_7fb7_11ec_9ef0_0242ac1c0002row2_col11\" class=\"data row2 col11\" >2</td>\n",
              "                        <td id=\"T_15a7c594_7fb7_11ec_9ef0_0242ac1c0002row2_col12\" class=\"data row2 col12\" >2.000000</td>\n",
              "                        <td id=\"T_15a7c594_7fb7_11ec_9ef0_0242ac1c0002row2_col13\" class=\"data row2 col13\" >2.000000</td>\n",
              "                        <td id=\"T_15a7c594_7fb7_11ec_9ef0_0242ac1c0002row2_col14\" class=\"data row2 col14\" >5</td>\n",
              "                        <td id=\"T_15a7c594_7fb7_11ec_9ef0_0242ac1c0002row2_col15\" class=\"data row2 col15\" >1</td>\n",
              "                        <td id=\"T_15a7c594_7fb7_11ec_9ef0_0242ac1c0002row2_col16\" class=\"data row2 col16\" >str</td>\n",
              "                        <td id=\"T_15a7c594_7fb7_11ec_9ef0_0242ac1c0002row2_col17\" class=\"data row2 col17\" >RMSprop</td>\n",
              "                        <td id=\"T_15a7c594_7fb7_11ec_9ef0_0242ac1c0002row2_col18\" class=\"data row2 col18\" >{'name': 'sequential', 'layers...</td>\n",
              "                        <td id=\"T_15a7c594_7fb7_11ec_9ef0_0242ac1c0002row2_col19\" class=\"data row2 col19\" >2730264</td>\n",
              "                        <td id=\"T_15a7c594_7fb7_11ec_9ef0_0242ac1c0002row2_col20\" class=\"data row2 col20\" >AIModelShare</td>\n",
              "                        <td id=\"T_15a7c594_7fb7_11ec_9ef0_0242ac1c0002row2_col21\" class=\"data row2 col21\" >3</td>\n",
              "            </tr>\n",
              "    </tbody></table>"
            ],
            "text/plain": [
              "<pandas.io.formats.style.Styler at 0x7f4acb854ed0>"
            ]
          },
          "metadata": {},
          "execution_count": 14
        }
      ]
    },
    {
      "cell_type": "markdown",
      "metadata": {
        "id": "bwNKs0wP4r5s"
      },
      "source": [
        "## 5. Repeat submission process to improve place on leaderboard\n"
      ]
    },
    {
      "cell_type": "code",
      "metadata": {
        "colab": {
          "base_uri": "https://localhost:8080/"
        },
        "id": "FgSs5PAtPCZH",
        "outputId": "5490a029-f1ba-44b2-f626-33b5bafc4d31"
      },
      "source": [
        "# Train and submit model 2 using same preprocessor (note that you could save a new preprocessor, but we will use the same one for this example).\n",
        "\n",
        "with tf.device('/device:GPU:0'): # \"/GPU:0\": Short-hand notation for the first GPU of your machine that is visible to TensorFlow.\n",
        "      cnn2 = Sequential()\n",
        "      cnn2.add(Dense(64,  input_shape=(192, 192, 3), activation='relu'))\n",
        "      cnn2.add(Dense(64, activation='relu'))\n",
        "      cnn2.add(Dense(64, activation='relu'))\n",
        "      cnn2.add(Flatten())\n",
        "      cnn2.add(Dense(5, activation='softmax')) \n",
        "                                                  \n",
        "      # Compile model\n",
        "      cnn2.compile(loss='categorical_crossentropy', optimizer='rmsprop', metrics=['accuracy'])\n",
        "\n",
        "      # Fitting the NN to the Training set\n",
        "      cnn2.fit(X_train, y_train, \n",
        "                    epochs = 1, verbose=1, validation_split=.2)"
      ],
      "execution_count": 15,
      "outputs": [
        {
          "output_type": "stream",
          "name": "stdout",
          "text": [
            "74/74 [==============================] - 159s 2s/step - loss: 6.6647 - accuracy: 0.4642 - val_loss: 2.5243 - val_accuracy: 0.1480\n"
          ]
        }
      ]
    },
    {
      "cell_type": "code",
      "metadata": {
        "id": "aIdmSpYVPYAw"
      },
      "source": [
        "# Save keras model to local ONNX file\n",
        "from aimodelshare.aimsonnx import model_to_onnx\n",
        "\n",
        "onnx_model = model_to_onnx(cnn2, framework='keras',\n",
        "                          transfer_learning=False,\n",
        "                          deep_learning=True)\n",
        "\n",
        "with open(\"model2.onnx\", \"wb\") as f:\n",
        "    f.write(onnx_model.SerializeToString())"
      ],
      "execution_count": 16,
      "outputs": []
    },
    {
      "cell_type": "code",
      "metadata": {
        "colab": {
          "base_uri": "https://localhost:8080/"
        },
        "id": "nszPPrfwPlUk",
        "outputId": "01e7bf12-7169-4fac-96fa-f77d13e263a9"
      },
      "source": [
        "#Submit Model 2: \n",
        "\n",
        "#-- Generate predicted y values (Model 2)\n",
        "prediction_column_index=cnn2.predict(X_test).argmax(axis=1)\n",
        "\n",
        "# extract correct prediction labels \n",
        "prediction_labels = [y_train.columns[i] for i in prediction_column_index]\n",
        "\n",
        "# Submit Model 2 to Competition Leaderboard\n",
        "mycompetition.submit_model(model_filepath = \"model2.onnx\",\n",
        "                                 preprocessor_filepath=\"preprocessor.zip\",\n",
        "                                 prediction_submission=prediction_labels)"
      ],
      "execution_count": 17,
      "outputs": [
        {
          "output_type": "stream",
          "name": "stdout",
          "text": [
            "Insert search tags to help users find your model (optional): \n",
            "Provide any useful notes about your model (optional): \n",
            "\n",
            "Your model has been submitted as model version 4\n",
            "\n",
            "To submit code used to create this model or to view current leaderboard navigate to Model Playground: \n",
            "\n",
            " https://www.modelshare.org/detail/model:1317\n"
          ]
        }
      ]
    },
    {
      "cell_type": "code",
      "metadata": {
        "colab": {
          "base_uri": "https://localhost:8080/",
          "height": 251
        },
        "id": "qLl7yLpVEx26",
        "outputId": "c22ddc68-3f7e-4305-8a79-e2a9b8d7803f"
      },
      "source": [
        "# Compare two or more models\n",
        "data=mycompetition.compare_models([3,4], verbose=1)\n",
        "mycompetition.stylize_compare(data)"
      ],
      "execution_count": 18,
      "outputs": [
        {
          "output_type": "display_data",
          "data": {
            "text/html": [
              "<style  type=\"text/css\" >\n",
              "    #T_c0630aa2_7fb7_11ec_9ef0_0242ac1c0002 caption {\n",
              "          color: black;\n",
              "          font-size: 18px;\n",
              "    }#T_c0630aa2_7fb7_11ec_9ef0_0242ac1c0002row0_col0,#T_c0630aa2_7fb7_11ec_9ef0_0242ac1c0002row1_col0,#T_c0630aa2_7fb7_11ec_9ef0_0242ac1c0002row3_col0,#T_c0630aa2_7fb7_11ec_9ef0_0242ac1c0002row4_col0{\n",
              "            background:  #fdcdac;\n",
              "            color:  black;\n",
              "            color:  black;\n",
              "        }#T_c0630aa2_7fb7_11ec_9ef0_0242ac1c0002row0_col1,#T_c0630aa2_7fb7_11ec_9ef0_0242ac1c0002row0_col2,#T_c0630aa2_7fb7_11ec_9ef0_0242ac1c0002row0_col4,#T_c0630aa2_7fb7_11ec_9ef0_0242ac1c0002row0_col5,#T_c0630aa2_7fb7_11ec_9ef0_0242ac1c0002row1_col1,#T_c0630aa2_7fb7_11ec_9ef0_0242ac1c0002row1_col2,#T_c0630aa2_7fb7_11ec_9ef0_0242ac1c0002row1_col4,#T_c0630aa2_7fb7_11ec_9ef0_0242ac1c0002row1_col5,#T_c0630aa2_7fb7_11ec_9ef0_0242ac1c0002row2_col1,#T_c0630aa2_7fb7_11ec_9ef0_0242ac1c0002row2_col2,#T_c0630aa2_7fb7_11ec_9ef0_0242ac1c0002row2_col4,#T_c0630aa2_7fb7_11ec_9ef0_0242ac1c0002row2_col5,#T_c0630aa2_7fb7_11ec_9ef0_0242ac1c0002row3_col1,#T_c0630aa2_7fb7_11ec_9ef0_0242ac1c0002row3_col2,#T_c0630aa2_7fb7_11ec_9ef0_0242ac1c0002row3_col4,#T_c0630aa2_7fb7_11ec_9ef0_0242ac1c0002row3_col5,#T_c0630aa2_7fb7_11ec_9ef0_0242ac1c0002row4_col1,#T_c0630aa2_7fb7_11ec_9ef0_0242ac1c0002row4_col2,#T_c0630aa2_7fb7_11ec_9ef0_0242ac1c0002row4_col4,#T_c0630aa2_7fb7_11ec_9ef0_0242ac1c0002row4_col5,#T_c0630aa2_7fb7_11ec_9ef0_0242ac1c0002row5_col1,#T_c0630aa2_7fb7_11ec_9ef0_0242ac1c0002row5_col2,#T_c0630aa2_7fb7_11ec_9ef0_0242ac1c0002row5_col3,#T_c0630aa2_7fb7_11ec_9ef0_0242ac1c0002row5_col4,#T_c0630aa2_7fb7_11ec_9ef0_0242ac1c0002row5_col5,#T_c0630aa2_7fb7_11ec_9ef0_0242ac1c0002row6_col1,#T_c0630aa2_7fb7_11ec_9ef0_0242ac1c0002row6_col2,#T_c0630aa2_7fb7_11ec_9ef0_0242ac1c0002row6_col3,#T_c0630aa2_7fb7_11ec_9ef0_0242ac1c0002row6_col4,#T_c0630aa2_7fb7_11ec_9ef0_0242ac1c0002row6_col5,#T_c0630aa2_7fb7_11ec_9ef0_0242ac1c0002row7_col1,#T_c0630aa2_7fb7_11ec_9ef0_0242ac1c0002row7_col2,#T_c0630aa2_7fb7_11ec_9ef0_0242ac1c0002row7_col3,#T_c0630aa2_7fb7_11ec_9ef0_0242ac1c0002row7_col4,#T_c0630aa2_7fb7_11ec_9ef0_0242ac1c0002row7_col5,#T_c0630aa2_7fb7_11ec_9ef0_0242ac1c0002row8_col1,#T_c0630aa2_7fb7_11ec_9ef0_0242ac1c0002row8_col2,#T_c0630aa2_7fb7_11ec_9ef0_0242ac1c0002row8_col3,#T_c0630aa2_7fb7_11ec_9ef0_0242ac1c0002row8_col4,#T_c0630aa2_7fb7_11ec_9ef0_0242ac1c0002row8_col5,#T_c0630aa2_7fb7_11ec_9ef0_0242ac1c0002row9_col1,#T_c0630aa2_7fb7_11ec_9ef0_0242ac1c0002row9_col2,#T_c0630aa2_7fb7_11ec_9ef0_0242ac1c0002row9_col3,#T_c0630aa2_7fb7_11ec_9ef0_0242ac1c0002row9_col4,#T_c0630aa2_7fb7_11ec_9ef0_0242ac1c0002row9_col5,#T_c0630aa2_7fb7_11ec_9ef0_0242ac1c0002row10_col1,#T_c0630aa2_7fb7_11ec_9ef0_0242ac1c0002row10_col2,#T_c0630aa2_7fb7_11ec_9ef0_0242ac1c0002row10_col3,#T_c0630aa2_7fb7_11ec_9ef0_0242ac1c0002row10_col4,#T_c0630aa2_7fb7_11ec_9ef0_0242ac1c0002row10_col5{\n",
              "            background:  white;\n",
              "            color:  black;\n",
              "            color:  black;\n",
              "        }#T_c0630aa2_7fb7_11ec_9ef0_0242ac1c0002row0_col3,#T_c0630aa2_7fb7_11ec_9ef0_0242ac1c0002row1_col3,#T_c0630aa2_7fb7_11ec_9ef0_0242ac1c0002row2_col3,#T_c0630aa2_7fb7_11ec_9ef0_0242ac1c0002row4_col3,#T_c0630aa2_7fb7_11ec_9ef0_0242ac1c0002row8_col0,#T_c0630aa2_7fb7_11ec_9ef0_0242ac1c0002row10_col0{\n",
              "            background:  #fff2ae;\n",
              "            color:  black;\n",
              "            color:  black;\n",
              "        }#T_c0630aa2_7fb7_11ec_9ef0_0242ac1c0002row2_col0,#T_c0630aa2_7fb7_11ec_9ef0_0242ac1c0002row5_col0{\n",
              "            background:  #f1e2cc;\n",
              "            color:  black;\n",
              "            color:  black;\n",
              "        }#T_c0630aa2_7fb7_11ec_9ef0_0242ac1c0002row3_col3,#T_c0630aa2_7fb7_11ec_9ef0_0242ac1c0002row7_col0{\n",
              "            background:  #e6f5c9;\n",
              "            color:  black;\n",
              "            color:  black;\n",
              "        }#T_c0630aa2_7fb7_11ec_9ef0_0242ac1c0002row6_col0,#T_c0630aa2_7fb7_11ec_9ef0_0242ac1c0002row9_col0{\n",
              "            background:  #cbd5e8;\n",
              "            color:  black;\n",
              "            color:  black;\n",
              "        }</style><table id=\"T_c0630aa2_7fb7_11ec_9ef0_0242ac1c0002\" ><caption>Model type: Neural Network</caption><thead>    <tr>        <th class=\"blank level0\" ></th>        <th class=\"col_heading level0 col0\" >Model_3_Layer</th>        <th class=\"col_heading level0 col1\" >Model_3_Shape</th>        <th class=\"col_heading level0 col2\" >Model_3_Params</th>        <th class=\"col_heading level0 col3\" >Model_4_Layer</th>        <th class=\"col_heading level0 col4\" >Model_4_Shape</th>        <th class=\"col_heading level0 col5\" >Model_4_Params</th>    </tr></thead><tbody>\n",
              "                <tr>\n",
              "                        <th id=\"T_c0630aa2_7fb7_11ec_9ef0_0242ac1c0002level0_row0\" class=\"row_heading level0 row0\" >0</th>\n",
              "                        <td id=\"T_c0630aa2_7fb7_11ec_9ef0_0242ac1c0002row0_col0\" class=\"data row0 col0\" >Conv2D</td>\n",
              "                        <td id=\"T_c0630aa2_7fb7_11ec_9ef0_0242ac1c0002row0_col1\" class=\"data row0 col1\" >[None, 192, 192, 16]</td>\n",
              "                        <td id=\"T_c0630aa2_7fb7_11ec_9ef0_0242ac1c0002row0_col2\" class=\"data row0 col2\" >448</td>\n",
              "                        <td id=\"T_c0630aa2_7fb7_11ec_9ef0_0242ac1c0002row0_col3\" class=\"data row0 col3\" >Dense</td>\n",
              "                        <td id=\"T_c0630aa2_7fb7_11ec_9ef0_0242ac1c0002row0_col4\" class=\"data row0 col4\" >[None, 192, 192, 64]</td>\n",
              "                        <td id=\"T_c0630aa2_7fb7_11ec_9ef0_0242ac1c0002row0_col5\" class=\"data row0 col5\" >256.000000</td>\n",
              "            </tr>\n",
              "            <tr>\n",
              "                        <th id=\"T_c0630aa2_7fb7_11ec_9ef0_0242ac1c0002level0_row1\" class=\"row_heading level0 row1\" >1</th>\n",
              "                        <td id=\"T_c0630aa2_7fb7_11ec_9ef0_0242ac1c0002row1_col0\" class=\"data row1 col0\" >Conv2D</td>\n",
              "                        <td id=\"T_c0630aa2_7fb7_11ec_9ef0_0242ac1c0002row1_col1\" class=\"data row1 col1\" >[None, 192, 192, 16]</td>\n",
              "                        <td id=\"T_c0630aa2_7fb7_11ec_9ef0_0242ac1c0002row1_col2\" class=\"data row1 col2\" >2320</td>\n",
              "                        <td id=\"T_c0630aa2_7fb7_11ec_9ef0_0242ac1c0002row1_col3\" class=\"data row1 col3\" >Dense</td>\n",
              "                        <td id=\"T_c0630aa2_7fb7_11ec_9ef0_0242ac1c0002row1_col4\" class=\"data row1 col4\" >[None, 192, 192, 64]</td>\n",
              "                        <td id=\"T_c0630aa2_7fb7_11ec_9ef0_0242ac1c0002row1_col5\" class=\"data row1 col5\" >4160.000000</td>\n",
              "            </tr>\n",
              "            <tr>\n",
              "                        <th id=\"T_c0630aa2_7fb7_11ec_9ef0_0242ac1c0002level0_row2\" class=\"row_heading level0 row2\" >2</th>\n",
              "                        <td id=\"T_c0630aa2_7fb7_11ec_9ef0_0242ac1c0002row2_col0\" class=\"data row2 col0\" >MaxPooling2D</td>\n",
              "                        <td id=\"T_c0630aa2_7fb7_11ec_9ef0_0242ac1c0002row2_col1\" class=\"data row2 col1\" >[None, 96, 96, 16]</td>\n",
              "                        <td id=\"T_c0630aa2_7fb7_11ec_9ef0_0242ac1c0002row2_col2\" class=\"data row2 col2\" >0</td>\n",
              "                        <td id=\"T_c0630aa2_7fb7_11ec_9ef0_0242ac1c0002row2_col3\" class=\"data row2 col3\" >Dense</td>\n",
              "                        <td id=\"T_c0630aa2_7fb7_11ec_9ef0_0242ac1c0002row2_col4\" class=\"data row2 col4\" >[None, 192, 192, 64]</td>\n",
              "                        <td id=\"T_c0630aa2_7fb7_11ec_9ef0_0242ac1c0002row2_col5\" class=\"data row2 col5\" >4160.000000</td>\n",
              "            </tr>\n",
              "            <tr>\n",
              "                        <th id=\"T_c0630aa2_7fb7_11ec_9ef0_0242ac1c0002level0_row3\" class=\"row_heading level0 row3\" >3</th>\n",
              "                        <td id=\"T_c0630aa2_7fb7_11ec_9ef0_0242ac1c0002row3_col0\" class=\"data row3 col0\" >Conv2D</td>\n",
              "                        <td id=\"T_c0630aa2_7fb7_11ec_9ef0_0242ac1c0002row3_col1\" class=\"data row3 col1\" >[None, 96, 96, 16]</td>\n",
              "                        <td id=\"T_c0630aa2_7fb7_11ec_9ef0_0242ac1c0002row3_col2\" class=\"data row3 col2\" >2320</td>\n",
              "                        <td id=\"T_c0630aa2_7fb7_11ec_9ef0_0242ac1c0002row3_col3\" class=\"data row3 col3\" >Flatten</td>\n",
              "                        <td id=\"T_c0630aa2_7fb7_11ec_9ef0_0242ac1c0002row3_col4\" class=\"data row3 col4\" >[None, 2359296]</td>\n",
              "                        <td id=\"T_c0630aa2_7fb7_11ec_9ef0_0242ac1c0002row3_col5\" class=\"data row3 col5\" >0.000000</td>\n",
              "            </tr>\n",
              "            <tr>\n",
              "                        <th id=\"T_c0630aa2_7fb7_11ec_9ef0_0242ac1c0002level0_row4\" class=\"row_heading level0 row4\" >4</th>\n",
              "                        <td id=\"T_c0630aa2_7fb7_11ec_9ef0_0242ac1c0002row4_col0\" class=\"data row4 col0\" >Conv2D</td>\n",
              "                        <td id=\"T_c0630aa2_7fb7_11ec_9ef0_0242ac1c0002row4_col1\" class=\"data row4 col1\" >[None, 96, 96, 16]</td>\n",
              "                        <td id=\"T_c0630aa2_7fb7_11ec_9ef0_0242ac1c0002row4_col2\" class=\"data row4 col2\" >2320</td>\n",
              "                        <td id=\"T_c0630aa2_7fb7_11ec_9ef0_0242ac1c0002row4_col3\" class=\"data row4 col3\" >Dense</td>\n",
              "                        <td id=\"T_c0630aa2_7fb7_11ec_9ef0_0242ac1c0002row4_col4\" class=\"data row4 col4\" >[None, 5]</td>\n",
              "                        <td id=\"T_c0630aa2_7fb7_11ec_9ef0_0242ac1c0002row4_col5\" class=\"data row4 col5\" >11796485.000000</td>\n",
              "            </tr>\n",
              "            <tr>\n",
              "                        <th id=\"T_c0630aa2_7fb7_11ec_9ef0_0242ac1c0002level0_row5\" class=\"row_heading level0 row5\" >5</th>\n",
              "                        <td id=\"T_c0630aa2_7fb7_11ec_9ef0_0242ac1c0002row5_col0\" class=\"data row5 col0\" >MaxPooling2D</td>\n",
              "                        <td id=\"T_c0630aa2_7fb7_11ec_9ef0_0242ac1c0002row5_col1\" class=\"data row5 col1\" >[None, 48, 48, 16]</td>\n",
              "                        <td id=\"T_c0630aa2_7fb7_11ec_9ef0_0242ac1c0002row5_col2\" class=\"data row5 col2\" >0</td>\n",
              "                        <td id=\"T_c0630aa2_7fb7_11ec_9ef0_0242ac1c0002row5_col3\" class=\"data row5 col3\" >None</td>\n",
              "                        <td id=\"T_c0630aa2_7fb7_11ec_9ef0_0242ac1c0002row5_col4\" class=\"data row5 col4\" >None</td>\n",
              "                        <td id=\"T_c0630aa2_7fb7_11ec_9ef0_0242ac1c0002row5_col5\" class=\"data row5 col5\" >nan</td>\n",
              "            </tr>\n",
              "            <tr>\n",
              "                        <th id=\"T_c0630aa2_7fb7_11ec_9ef0_0242ac1c0002level0_row6\" class=\"row_heading level0 row6\" >6</th>\n",
              "                        <td id=\"T_c0630aa2_7fb7_11ec_9ef0_0242ac1c0002row6_col0\" class=\"data row6 col0\" >Dropout</td>\n",
              "                        <td id=\"T_c0630aa2_7fb7_11ec_9ef0_0242ac1c0002row6_col1\" class=\"data row6 col1\" >[None, 48, 48, 16]</td>\n",
              "                        <td id=\"T_c0630aa2_7fb7_11ec_9ef0_0242ac1c0002row6_col2\" class=\"data row6 col2\" >0</td>\n",
              "                        <td id=\"T_c0630aa2_7fb7_11ec_9ef0_0242ac1c0002row6_col3\" class=\"data row6 col3\" >None</td>\n",
              "                        <td id=\"T_c0630aa2_7fb7_11ec_9ef0_0242ac1c0002row6_col4\" class=\"data row6 col4\" >None</td>\n",
              "                        <td id=\"T_c0630aa2_7fb7_11ec_9ef0_0242ac1c0002row6_col5\" class=\"data row6 col5\" >nan</td>\n",
              "            </tr>\n",
              "            <tr>\n",
              "                        <th id=\"T_c0630aa2_7fb7_11ec_9ef0_0242ac1c0002level0_row7\" class=\"row_heading level0 row7\" >7</th>\n",
              "                        <td id=\"T_c0630aa2_7fb7_11ec_9ef0_0242ac1c0002row7_col0\" class=\"data row7 col0\" >Flatten</td>\n",
              "                        <td id=\"T_c0630aa2_7fb7_11ec_9ef0_0242ac1c0002row7_col1\" class=\"data row7 col1\" >[None, 36864]</td>\n",
              "                        <td id=\"T_c0630aa2_7fb7_11ec_9ef0_0242ac1c0002row7_col2\" class=\"data row7 col2\" >0</td>\n",
              "                        <td id=\"T_c0630aa2_7fb7_11ec_9ef0_0242ac1c0002row7_col3\" class=\"data row7 col3\" >None</td>\n",
              "                        <td id=\"T_c0630aa2_7fb7_11ec_9ef0_0242ac1c0002row7_col4\" class=\"data row7 col4\" >None</td>\n",
              "                        <td id=\"T_c0630aa2_7fb7_11ec_9ef0_0242ac1c0002row7_col5\" class=\"data row7 col5\" >nan</td>\n",
              "            </tr>\n",
              "            <tr>\n",
              "                        <th id=\"T_c0630aa2_7fb7_11ec_9ef0_0242ac1c0002level0_row8\" class=\"row_heading level0 row8\" >8</th>\n",
              "                        <td id=\"T_c0630aa2_7fb7_11ec_9ef0_0242ac1c0002row8_col0\" class=\"data row8 col0\" >Dense</td>\n",
              "                        <td id=\"T_c0630aa2_7fb7_11ec_9ef0_0242ac1c0002row8_col1\" class=\"data row8 col1\" >[None, 50]</td>\n",
              "                        <td id=\"T_c0630aa2_7fb7_11ec_9ef0_0242ac1c0002row8_col2\" class=\"data row8 col2\" >1843250</td>\n",
              "                        <td id=\"T_c0630aa2_7fb7_11ec_9ef0_0242ac1c0002row8_col3\" class=\"data row8 col3\" >None</td>\n",
              "                        <td id=\"T_c0630aa2_7fb7_11ec_9ef0_0242ac1c0002row8_col4\" class=\"data row8 col4\" >None</td>\n",
              "                        <td id=\"T_c0630aa2_7fb7_11ec_9ef0_0242ac1c0002row8_col5\" class=\"data row8 col5\" >nan</td>\n",
              "            </tr>\n",
              "            <tr>\n",
              "                        <th id=\"T_c0630aa2_7fb7_11ec_9ef0_0242ac1c0002level0_row9\" class=\"row_heading level0 row9\" >9</th>\n",
              "                        <td id=\"T_c0630aa2_7fb7_11ec_9ef0_0242ac1c0002row9_col0\" class=\"data row9 col0\" >Dropout</td>\n",
              "                        <td id=\"T_c0630aa2_7fb7_11ec_9ef0_0242ac1c0002row9_col1\" class=\"data row9 col1\" >[None, 50]</td>\n",
              "                        <td id=\"T_c0630aa2_7fb7_11ec_9ef0_0242ac1c0002row9_col2\" class=\"data row9 col2\" >0</td>\n",
              "                        <td id=\"T_c0630aa2_7fb7_11ec_9ef0_0242ac1c0002row9_col3\" class=\"data row9 col3\" >None</td>\n",
              "                        <td id=\"T_c0630aa2_7fb7_11ec_9ef0_0242ac1c0002row9_col4\" class=\"data row9 col4\" >None</td>\n",
              "                        <td id=\"T_c0630aa2_7fb7_11ec_9ef0_0242ac1c0002row9_col5\" class=\"data row9 col5\" >nan</td>\n",
              "            </tr>\n",
              "            <tr>\n",
              "                        <th id=\"T_c0630aa2_7fb7_11ec_9ef0_0242ac1c0002level0_row10\" class=\"row_heading level0 row10\" >10</th>\n",
              "                        <td id=\"T_c0630aa2_7fb7_11ec_9ef0_0242ac1c0002row10_col0\" class=\"data row10 col0\" >Dense</td>\n",
              "                        <td id=\"T_c0630aa2_7fb7_11ec_9ef0_0242ac1c0002row10_col1\" class=\"data row10 col1\" >[None, 5]</td>\n",
              "                        <td id=\"T_c0630aa2_7fb7_11ec_9ef0_0242ac1c0002row10_col2\" class=\"data row10 col2\" >255</td>\n",
              "                        <td id=\"T_c0630aa2_7fb7_11ec_9ef0_0242ac1c0002row10_col3\" class=\"data row10 col3\" >None</td>\n",
              "                        <td id=\"T_c0630aa2_7fb7_11ec_9ef0_0242ac1c0002row10_col4\" class=\"data row10 col4\" >None</td>\n",
              "                        <td id=\"T_c0630aa2_7fb7_11ec_9ef0_0242ac1c0002row10_col5\" class=\"data row10 col5\" >nan</td>\n",
              "            </tr>\n",
              "    </tbody></table>"
            ],
            "text/plain": [
              "<IPython.core.display.HTML object>"
            ]
          },
          "metadata": {}
        }
      ]
    },
    {
      "cell_type": "markdown",
      "metadata": {
        "id": "Pl67bOO-lz9k"
      },
      "source": [
        "## Optional: Tune model within range of hyperparameters with Keras Tuner\n",
        "\n",
        "*Simple example shown below. Consult [documentation](https://keras.io/guides/keras_tuner/getting_started/) to see full functionality.*"
      ]
    },
    {
      "cell_type": "code",
      "metadata": {
        "id": "MOGXwppct0KI"
      },
      "source": [
        "! pip install keras_tuner"
      ],
      "execution_count": null,
      "outputs": []
    },
    {
      "cell_type": "code",
      "metadata": {
        "id": "O7o_zA3fv-ra"
      },
      "source": [
        "#Separate validation data \n",
        "from sklearn.model_selection import train_test_split\n",
        "x_train_split, x_val, y_train_split, y_val = train_test_split(\n",
        "     X_train, y_train, test_size=0.2, random_state=42)"
      ],
      "execution_count": 21,
      "outputs": []
    },
    {
      "cell_type": "code",
      "metadata": {
        "colab": {
          "base_uri": "https://localhost:8080/"
        },
        "id": "olzZ7aposfwH",
        "outputId": "54fbcdf9-ac36-46ac-a692-fbf5a63a8fd4"
      },
      "source": [
        "import keras_tuner as kt\n",
        "import tensorflow as tf \n",
        "from tensorflow.keras.models import Sequential\n",
        "from tensorflow.keras.layers import Dense, Activation, Dropout, Flatten\n",
        "from tensorflow.keras.layers import Conv2D, MaxPooling2D\n",
        "from tensorflow.keras import regularizers\n",
        "\n",
        "#Define model structure & parameter search space with function\n",
        "def build_model(hp):\n",
        "    with tf.device('/device:GPU:0'): # \"/GPU:0\": Short-hand notation for the first GPU of your machine that is visible to TensorFlow.\n",
        "                                 \n",
        "        model = Sequential()\n",
        "        model.add(Conv2D(filters=16, kernel_size=3, padding='same', activation='relu', input_shape=[192, 192, 3]))\n",
        "        model.add(Conv2D(filters=16, kernel_size=3, padding='same', activation='relu', kernel_regularizer=regularizers.l2(l=0.01)))\n",
        "        model.add(MaxPooling2D(pool_size=2)) \n",
        "        model.add(Conv2D(filters=16, kernel_size=3, padding='same', activation='relu', kernel_regularizer=regularizers.l2(l=0.01)))\n",
        "        model.add(Conv2D(filters=hp.Int(\"filters\", min_value=8, max_value=32, step=8), #range 8-32 inclusive, minimum step between tested values is 8\n",
        "                         kernel_size=3, padding='same', activation='relu'))\n",
        "        model.add(MaxPooling2D(pool_size=2))\n",
        "        model.add(Dropout(0.3))\n",
        "        model.add(Flatten())\n",
        "        model.add(Dense(50, activation='relu'))\n",
        "        model.add(Dropout(0.2))\n",
        "        model.add(Dense(5, activation='softmax'))\n",
        "\n",
        "        # Compile model...\n",
        "        model.compile(loss='categorical_crossentropy', optimizer='rmsprop', metrics=['accuracy'])\n",
        "\n",
        "        return model \n",
        "\n",
        "#initialize the tuner (which will search through parameters)\n",
        "tuner = kt.RandomSearch(\n",
        "    hypermodel=build_model, \n",
        "    objective=\"val_accuracy\", # objective to optimize\n",
        "    max_trials=2, #max number of trials to run during search\n",
        "    executions_per_trial=1, #higher number reduces variance of results; guages model performance more accurately \n",
        "    overwrite=True,\n",
        "    directory=\"tuning_model\",\n",
        "    project_name=\"tuning_units\",\n",
        ")\n",
        "\n",
        "tuner.search(x_train_split, y_train_split, epochs=1, validation_data=(x_val, y_val))\n"
      ],
      "execution_count": 22,
      "outputs": [
        {
          "output_type": "stream",
          "name": "stdout",
          "text": [
            "Trial 2 Complete [00h 02m 23s]\n",
            "val_accuracy: 0.45578232407569885\n",
            "\n",
            "Best val_accuracy So Far: 0.45578232407569885\n",
            "Total elapsed time: 00h 04m 48s\n"
          ]
        }
      ]
    },
    {
      "cell_type": "code",
      "metadata": {
        "colab": {
          "base_uri": "https://localhost:8080/"
        },
        "id": "0YaEbvJ2yND1",
        "outputId": "5e55b3a2-2d27-4f0a-a35b-1780edff5536"
      },
      "source": [
        "# Build model with best hyperparameters\n",
        "\n",
        "# Get the top 2 hyperparameters.\n",
        "best_hps = tuner.get_best_hyperparameters(5)\n",
        "# Build the model with the best hp.\n",
        "tuned_model = build_model(best_hps[0])\n",
        "# Fit with the entire dataset.\n",
        "tuned_model.fit(x=X_train, y=y_train, epochs=1)\n"
      ],
      "execution_count": 23,
      "outputs": [
        {
          "output_type": "stream",
          "name": "stdout",
          "text": [
            "92/92 [==============================] - 136s 1s/step - loss: 1.6789 - accuracy: 0.4063\n"
          ]
        },
        {
          "output_type": "execute_result",
          "data": {
            "text/plain": [
              "<keras.callbacks.History at 0x7f4b54c44790>"
            ]
          },
          "metadata": {},
          "execution_count": 23
        }
      ]
    },
    {
      "cell_type": "code",
      "metadata": {
        "id": "HvLuIvOjHLH2"
      },
      "source": [
        "# Save keras model to local ONNX file\n",
        "from aimodelshare.aimsonnx import model_to_onnx\n",
        "\n",
        "onnx_model = model_to_onnx(tuned_model, framework='keras',\n",
        "                          transfer_learning=False,\n",
        "                          deep_learning=True)\n",
        "\n",
        "with open(\"tuned_model.onnx\", \"wb\") as f:\n",
        "    f.write(onnx_model.SerializeToString())"
      ],
      "execution_count": null,
      "outputs": []
    },
    {
      "cell_type": "code",
      "metadata": {
        "id": "sMidHABfHVN7"
      },
      "source": [
        "#Submit Model 3: \n",
        "\n",
        "#-- Generate predicted y values (Model 3)\n",
        "prediction_column_index=tuned_model.predict(X_test).argmax(axis=1)\n",
        "\n",
        "# extract correct prediction labels \n",
        "prediction_labels = [y_train.columns[i] for i in prediction_column_index]\n",
        "\n",
        "# Submit Model 3 to Competition Leaderboard\n",
        "mycompetition.submit_model(model_filepath = \"tuned_model.onnx\",\n",
        "                                 preprocessor_filepath=\"preprocessor.zip\",\n",
        "                                 prediction_submission=prediction_labels)"
      ],
      "execution_count": null,
      "outputs": []
    },
    {
      "cell_type": "code",
      "metadata": {
        "colab": {
          "base_uri": "https://localhost:8080/",
          "height": 327
        },
        "id": "hn-Tp-zpJVGT",
        "outputId": "f926b902-87fe-47f1-994a-324d02d5be1b"
      },
      "source": [
        "# Get leaderboard\n",
        "\n",
        "data = mycompetition.get_leaderboard()\n",
        "mycompetition.stylize_leaderboard(data)"
      ],
      "execution_count": 26,
      "outputs": [
        {
          "output_type": "execute_result",
          "data": {
            "text/html": [
              "<style  type=\"text/css\" >\n",
              "#T_9c79b788_7fb9_11ec_9ef0_0242ac1c0002row0_col0{\n",
              "            text-align:  center;\n",
              "            width:  10em;\n",
              "             height:  80%;\n",
              "            background:  linear-gradient(90deg,#f5f8d6 64.2%, transparent 64.2%);\n",
              "            color:  #251e1b;\n",
              "            font-size:  12px;\n",
              "        }#T_9c79b788_7fb9_11ec_9ef0_0242ac1c0002row0_col1{\n",
              "            text-align:  center;\n",
              "            width:  10em;\n",
              "             height:  80%;\n",
              "            background:  linear-gradient(90deg,#c778c8 63.7%, transparent 63.7%);\n",
              "            color:  #251e1b;\n",
              "            font-size:  12px;\n",
              "        }#T_9c79b788_7fb9_11ec_9ef0_0242ac1c0002row0_col2{\n",
              "            text-align:  center;\n",
              "            width:  10em;\n",
              "             height:  80%;\n",
              "            background:  linear-gradient(90deg,#ff4971 64.3%, transparent 64.3%);\n",
              "            color:  #251e1b;\n",
              "            font-size:  12px;\n",
              "        }#T_9c79b788_7fb9_11ec_9ef0_0242ac1c0002row0_col3{\n",
              "            text-align:  center;\n",
              "            width:  10em;\n",
              "             height:  80%;\n",
              "            background:  linear-gradient(90deg,#aadbaa 63.7%, transparent 63.7%);\n",
              "            color:  #251e1b;\n",
              "            font-size:  12px;\n",
              "        }#T_9c79b788_7fb9_11ec_9ef0_0242ac1c0002row0_col4,#T_9c79b788_7fb9_11ec_9ef0_0242ac1c0002row0_col5,#T_9c79b788_7fb9_11ec_9ef0_0242ac1c0002row0_col6,#T_9c79b788_7fb9_11ec_9ef0_0242ac1c0002row0_col7,#T_9c79b788_7fb9_11ec_9ef0_0242ac1c0002row0_col8,#T_9c79b788_7fb9_11ec_9ef0_0242ac1c0002row0_col9,#T_9c79b788_7fb9_11ec_9ef0_0242ac1c0002row0_col10,#T_9c79b788_7fb9_11ec_9ef0_0242ac1c0002row0_col11,#T_9c79b788_7fb9_11ec_9ef0_0242ac1c0002row0_col12,#T_9c79b788_7fb9_11ec_9ef0_0242ac1c0002row0_col13,#T_9c79b788_7fb9_11ec_9ef0_0242ac1c0002row0_col14,#T_9c79b788_7fb9_11ec_9ef0_0242ac1c0002row0_col15,#T_9c79b788_7fb9_11ec_9ef0_0242ac1c0002row0_col16,#T_9c79b788_7fb9_11ec_9ef0_0242ac1c0002row0_col17,#T_9c79b788_7fb9_11ec_9ef0_0242ac1c0002row0_col18,#T_9c79b788_7fb9_11ec_9ef0_0242ac1c0002row0_col19,#T_9c79b788_7fb9_11ec_9ef0_0242ac1c0002row0_col20,#T_9c79b788_7fb9_11ec_9ef0_0242ac1c0002row0_col21,#T_9c79b788_7fb9_11ec_9ef0_0242ac1c0002row1_col4,#T_9c79b788_7fb9_11ec_9ef0_0242ac1c0002row1_col5,#T_9c79b788_7fb9_11ec_9ef0_0242ac1c0002row1_col6,#T_9c79b788_7fb9_11ec_9ef0_0242ac1c0002row1_col7,#T_9c79b788_7fb9_11ec_9ef0_0242ac1c0002row1_col8,#T_9c79b788_7fb9_11ec_9ef0_0242ac1c0002row1_col9,#T_9c79b788_7fb9_11ec_9ef0_0242ac1c0002row1_col10,#T_9c79b788_7fb9_11ec_9ef0_0242ac1c0002row1_col11,#T_9c79b788_7fb9_11ec_9ef0_0242ac1c0002row1_col12,#T_9c79b788_7fb9_11ec_9ef0_0242ac1c0002row1_col13,#T_9c79b788_7fb9_11ec_9ef0_0242ac1c0002row1_col14,#T_9c79b788_7fb9_11ec_9ef0_0242ac1c0002row1_col15,#T_9c79b788_7fb9_11ec_9ef0_0242ac1c0002row1_col16,#T_9c79b788_7fb9_11ec_9ef0_0242ac1c0002row1_col17,#T_9c79b788_7fb9_11ec_9ef0_0242ac1c0002row1_col18,#T_9c79b788_7fb9_11ec_9ef0_0242ac1c0002row1_col19,#T_9c79b788_7fb9_11ec_9ef0_0242ac1c0002row1_col20,#T_9c79b788_7fb9_11ec_9ef0_0242ac1c0002row1_col21,#T_9c79b788_7fb9_11ec_9ef0_0242ac1c0002row2_col4,#T_9c79b788_7fb9_11ec_9ef0_0242ac1c0002row2_col5,#T_9c79b788_7fb9_11ec_9ef0_0242ac1c0002row2_col6,#T_9c79b788_7fb9_11ec_9ef0_0242ac1c0002row2_col7,#T_9c79b788_7fb9_11ec_9ef0_0242ac1c0002row2_col8,#T_9c79b788_7fb9_11ec_9ef0_0242ac1c0002row2_col9,#T_9c79b788_7fb9_11ec_9ef0_0242ac1c0002row2_col10,#T_9c79b788_7fb9_11ec_9ef0_0242ac1c0002row2_col11,#T_9c79b788_7fb9_11ec_9ef0_0242ac1c0002row2_col12,#T_9c79b788_7fb9_11ec_9ef0_0242ac1c0002row2_col13,#T_9c79b788_7fb9_11ec_9ef0_0242ac1c0002row2_col14,#T_9c79b788_7fb9_11ec_9ef0_0242ac1c0002row2_col15,#T_9c79b788_7fb9_11ec_9ef0_0242ac1c0002row2_col16,#T_9c79b788_7fb9_11ec_9ef0_0242ac1c0002row2_col17,#T_9c79b788_7fb9_11ec_9ef0_0242ac1c0002row2_col18,#T_9c79b788_7fb9_11ec_9ef0_0242ac1c0002row2_col19,#T_9c79b788_7fb9_11ec_9ef0_0242ac1c0002row2_col20,#T_9c79b788_7fb9_11ec_9ef0_0242ac1c0002row2_col21,#T_9c79b788_7fb9_11ec_9ef0_0242ac1c0002row3_col4,#T_9c79b788_7fb9_11ec_9ef0_0242ac1c0002row3_col5,#T_9c79b788_7fb9_11ec_9ef0_0242ac1c0002row3_col6,#T_9c79b788_7fb9_11ec_9ef0_0242ac1c0002row3_col7,#T_9c79b788_7fb9_11ec_9ef0_0242ac1c0002row3_col8,#T_9c79b788_7fb9_11ec_9ef0_0242ac1c0002row3_col9,#T_9c79b788_7fb9_11ec_9ef0_0242ac1c0002row3_col10,#T_9c79b788_7fb9_11ec_9ef0_0242ac1c0002row3_col11,#T_9c79b788_7fb9_11ec_9ef0_0242ac1c0002row3_col12,#T_9c79b788_7fb9_11ec_9ef0_0242ac1c0002row3_col13,#T_9c79b788_7fb9_11ec_9ef0_0242ac1c0002row3_col14,#T_9c79b788_7fb9_11ec_9ef0_0242ac1c0002row3_col15,#T_9c79b788_7fb9_11ec_9ef0_0242ac1c0002row3_col16,#T_9c79b788_7fb9_11ec_9ef0_0242ac1c0002row3_col17,#T_9c79b788_7fb9_11ec_9ef0_0242ac1c0002row3_col18,#T_9c79b788_7fb9_11ec_9ef0_0242ac1c0002row3_col19,#T_9c79b788_7fb9_11ec_9ef0_0242ac1c0002row3_col20,#T_9c79b788_7fb9_11ec_9ef0_0242ac1c0002row3_col21,#T_9c79b788_7fb9_11ec_9ef0_0242ac1c0002row4_col4,#T_9c79b788_7fb9_11ec_9ef0_0242ac1c0002row4_col5,#T_9c79b788_7fb9_11ec_9ef0_0242ac1c0002row4_col6,#T_9c79b788_7fb9_11ec_9ef0_0242ac1c0002row4_col7,#T_9c79b788_7fb9_11ec_9ef0_0242ac1c0002row4_col8,#T_9c79b788_7fb9_11ec_9ef0_0242ac1c0002row4_col9,#T_9c79b788_7fb9_11ec_9ef0_0242ac1c0002row4_col10,#T_9c79b788_7fb9_11ec_9ef0_0242ac1c0002row4_col11,#T_9c79b788_7fb9_11ec_9ef0_0242ac1c0002row4_col12,#T_9c79b788_7fb9_11ec_9ef0_0242ac1c0002row4_col13,#T_9c79b788_7fb9_11ec_9ef0_0242ac1c0002row4_col14,#T_9c79b788_7fb9_11ec_9ef0_0242ac1c0002row4_col15,#T_9c79b788_7fb9_11ec_9ef0_0242ac1c0002row4_col16,#T_9c79b788_7fb9_11ec_9ef0_0242ac1c0002row4_col17,#T_9c79b788_7fb9_11ec_9ef0_0242ac1c0002row4_col18,#T_9c79b788_7fb9_11ec_9ef0_0242ac1c0002row4_col19,#T_9c79b788_7fb9_11ec_9ef0_0242ac1c0002row4_col20,#T_9c79b788_7fb9_11ec_9ef0_0242ac1c0002row4_col21{\n",
              "            text-align:  center;\n",
              "        }#T_9c79b788_7fb9_11ec_9ef0_0242ac1c0002row1_col0{\n",
              "            text-align:  center;\n",
              "            width:  10em;\n",
              "             height:  80%;\n",
              "            background:  linear-gradient(90deg,#f5f8d6 52.6%, transparent 52.6%);\n",
              "            color:  #251e1b;\n",
              "            font-size:  12px;\n",
              "        }#T_9c79b788_7fb9_11ec_9ef0_0242ac1c0002row1_col1{\n",
              "            text-align:  center;\n",
              "            width:  10em;\n",
              "             height:  80%;\n",
              "            background:  linear-gradient(90deg,#c778c8 47.0%, transparent 47.0%);\n",
              "            color:  #251e1b;\n",
              "            font-size:  12px;\n",
              "        }#T_9c79b788_7fb9_11ec_9ef0_0242ac1c0002row1_col2{\n",
              "            text-align:  center;\n",
              "            width:  10em;\n",
              "             height:  80%;\n",
              "            background:  linear-gradient(90deg,#ff4971 59.0%, transparent 59.0%);\n",
              "            color:  #251e1b;\n",
              "            font-size:  12px;\n",
              "        }#T_9c79b788_7fb9_11ec_9ef0_0242ac1c0002row1_col3{\n",
              "            text-align:  center;\n",
              "            width:  10em;\n",
              "             height:  80%;\n",
              "            background:  linear-gradient(90deg,#aadbaa 49.7%, transparent 49.7%);\n",
              "            color:  #251e1b;\n",
              "            font-size:  12px;\n",
              "        }#T_9c79b788_7fb9_11ec_9ef0_0242ac1c0002row2_col0{\n",
              "            text-align:  center;\n",
              "            width:  10em;\n",
              "             height:  80%;\n",
              "            background:  linear-gradient(90deg,#f5f8d6 48.5%, transparent 48.5%);\n",
              "            color:  #251e1b;\n",
              "            font-size:  12px;\n",
              "        }#T_9c79b788_7fb9_11ec_9ef0_0242ac1c0002row2_col1{\n",
              "            text-align:  center;\n",
              "            width:  10em;\n",
              "             height:  80%;\n",
              "            background:  linear-gradient(90deg,#c778c8 47.4%, transparent 47.4%);\n",
              "            color:  #251e1b;\n",
              "            font-size:  12px;\n",
              "        }#T_9c79b788_7fb9_11ec_9ef0_0242ac1c0002row2_col2{\n",
              "            text-align:  center;\n",
              "            width:  10em;\n",
              "             height:  80%;\n",
              "            background:  linear-gradient(90deg,#ff4971 49.6%, transparent 49.6%);\n",
              "            color:  #251e1b;\n",
              "            font-size:  12px;\n",
              "        }#T_9c79b788_7fb9_11ec_9ef0_0242ac1c0002row2_col3{\n",
              "            text-align:  center;\n",
              "            width:  10em;\n",
              "             height:  80%;\n",
              "            background:  linear-gradient(90deg,#aadbaa 47.0%, transparent 47.0%);\n",
              "            color:  #251e1b;\n",
              "            font-size:  12px;\n",
              "        }#T_9c79b788_7fb9_11ec_9ef0_0242ac1c0002row3_col0{\n",
              "            text-align:  center;\n",
              "            width:  10em;\n",
              "             height:  80%;\n",
              "            background:  linear-gradient(90deg,#f5f8d6 42.4%, transparent 42.4%);\n",
              "            color:  #251e1b;\n",
              "            font-size:  12px;\n",
              "        }#T_9c79b788_7fb9_11ec_9ef0_0242ac1c0002row3_col1{\n",
              "            text-align:  center;\n",
              "            width:  10em;\n",
              "             height:  80%;\n",
              "            background:  linear-gradient(90deg,#c778c8 35.3%, transparent 35.3%);\n",
              "            color:  #251e1b;\n",
              "            font-size:  12px;\n",
              "        }#T_9c79b788_7fb9_11ec_9ef0_0242ac1c0002row3_col2{\n",
              "            text-align:  center;\n",
              "            width:  10em;\n",
              "             height:  80%;\n",
              "            background:  linear-gradient(90deg,#ff4971 43.2%, transparent 43.2%);\n",
              "            color:  #251e1b;\n",
              "            font-size:  12px;\n",
              "        }#T_9c79b788_7fb9_11ec_9ef0_0242ac1c0002row3_col3{\n",
              "            text-align:  center;\n",
              "            width:  10em;\n",
              "             height:  80%;\n",
              "            background:  linear-gradient(90deg,#aadbaa 41.0%, transparent 41.0%);\n",
              "            color:  #251e1b;\n",
              "            font-size:  12px;\n",
              "        }#T_9c79b788_7fb9_11ec_9ef0_0242ac1c0002row4_col0{\n",
              "            text-align:  center;\n",
              "            width:  10em;\n",
              "             height:  80%;\n",
              "            background:  linear-gradient(90deg,#f5f8d6 41.4%, transparent 41.4%);\n",
              "            color:  #251e1b;\n",
              "            font-size:  12px;\n",
              "        }#T_9c79b788_7fb9_11ec_9ef0_0242ac1c0002row4_col1{\n",
              "            text-align:  center;\n",
              "            width:  10em;\n",
              "             height:  80%;\n",
              "            background:  linear-gradient(90deg,#c778c8 34.2%, transparent 34.2%);\n",
              "            color:  #251e1b;\n",
              "            font-size:  12px;\n",
              "        }#T_9c79b788_7fb9_11ec_9ef0_0242ac1c0002row4_col2{\n",
              "            text-align:  center;\n",
              "            width:  10em;\n",
              "             height:  80%;\n",
              "            background:  linear-gradient(90deg,#ff4971 40.2%, transparent 40.2%);\n",
              "            color:  #251e1b;\n",
              "            font-size:  12px;\n",
              "        }#T_9c79b788_7fb9_11ec_9ef0_0242ac1c0002row4_col3{\n",
              "            text-align:  center;\n",
              "            width:  10em;\n",
              "             height:  80%;\n",
              "            background:  linear-gradient(90deg,#aadbaa 41.6%, transparent 41.6%);\n",
              "            color:  #251e1b;\n",
              "            font-size:  12px;\n",
              "        }</style><table id=\"T_9c79b788_7fb9_11ec_9ef0_0242ac1c0002\" class=\"dataframe\"><thead>    <tr>        <th class=\"blank level0\" ></th>        <th class=\"col_heading level0 col0\" >accuracy</th>        <th class=\"col_heading level0 col1\" >f1_score</th>        <th class=\"col_heading level0 col2\" >precision</th>        <th class=\"col_heading level0 col3\" >recall</th>        <th class=\"col_heading level0 col4\" >ml_framework</th>        <th class=\"col_heading level0 col5\" >transfer_learning</th>        <th class=\"col_heading level0 col6\" >deep_learning</th>        <th class=\"col_heading level0 col7\" >model_type</th>        <th class=\"col_heading level0 col8\" >depth</th>        <th class=\"col_heading level0 col9\" >num_params</th>        <th class=\"col_heading level0 col10\" >flatten_layers</th>        <th class=\"col_heading level0 col11\" >dense_layers</th>        <th class=\"col_heading level0 col12\" >maxpooling2d_layers</th>        <th class=\"col_heading level0 col13\" >dropout_layers</th>        <th class=\"col_heading level0 col14\" >relu_act</th>        <th class=\"col_heading level0 col15\" >softmax_act</th>        <th class=\"col_heading level0 col16\" >loss</th>        <th class=\"col_heading level0 col17\" >optimizer</th>        <th class=\"col_heading level0 col18\" >model_config</th>        <th class=\"col_heading level0 col19\" >memory_size</th>        <th class=\"col_heading level0 col20\" >username</th>        <th class=\"col_heading level0 col21\" >version</th>    </tr></thead><tbody>\n",
              "                <tr>\n",
              "                        <th id=\"T_9c79b788_7fb9_11ec_9ef0_0242ac1c0002level0_row0\" class=\"row_heading level0 row0\" >0</th>\n",
              "                        <td id=\"T_9c79b788_7fb9_11ec_9ef0_0242ac1c0002row0_col0\" class=\"data row0 col0\" >64.17%</td>\n",
              "                        <td id=\"T_9c79b788_7fb9_11ec_9ef0_0242ac1c0002row0_col1\" class=\"data row0 col1\" >63.68%</td>\n",
              "                        <td id=\"T_9c79b788_7fb9_11ec_9ef0_0242ac1c0002row0_col2\" class=\"data row0 col2\" >64.27%</td>\n",
              "                        <td id=\"T_9c79b788_7fb9_11ec_9ef0_0242ac1c0002row0_col3\" class=\"data row0 col3\" >63.72%</td>\n",
              "                        <td id=\"T_9c79b788_7fb9_11ec_9ef0_0242ac1c0002row0_col4\" class=\"data row0 col4\" >keras</td>\n",
              "                        <td id=\"T_9c79b788_7fb9_11ec_9ef0_0242ac1c0002row0_col5\" class=\"data row0 col5\" >False</td>\n",
              "                        <td id=\"T_9c79b788_7fb9_11ec_9ef0_0242ac1c0002row0_col6\" class=\"data row0 col6\" >True</td>\n",
              "                        <td id=\"T_9c79b788_7fb9_11ec_9ef0_0242ac1c0002row0_col7\" class=\"data row0 col7\" >Sequential</td>\n",
              "                        <td id=\"T_9c79b788_7fb9_11ec_9ef0_0242ac1c0002row0_col8\" class=\"data row0 col8\" >11</td>\n",
              "                        <td id=\"T_9c79b788_7fb9_11ec_9ef0_0242ac1c0002row0_col9\" class=\"data row0 col9\" >1851153</td>\n",
              "                        <td id=\"T_9c79b788_7fb9_11ec_9ef0_0242ac1c0002row0_col10\" class=\"data row0 col10\" >1</td>\n",
              "                        <td id=\"T_9c79b788_7fb9_11ec_9ef0_0242ac1c0002row0_col11\" class=\"data row0 col11\" >2</td>\n",
              "                        <td id=\"T_9c79b788_7fb9_11ec_9ef0_0242ac1c0002row0_col12\" class=\"data row0 col12\" >2.000000</td>\n",
              "                        <td id=\"T_9c79b788_7fb9_11ec_9ef0_0242ac1c0002row0_col13\" class=\"data row0 col13\" >2.000000</td>\n",
              "                        <td id=\"T_9c79b788_7fb9_11ec_9ef0_0242ac1c0002row0_col14\" class=\"data row0 col14\" >5</td>\n",
              "                        <td id=\"T_9c79b788_7fb9_11ec_9ef0_0242ac1c0002row0_col15\" class=\"data row0 col15\" >1</td>\n",
              "                        <td id=\"T_9c79b788_7fb9_11ec_9ef0_0242ac1c0002row0_col16\" class=\"data row0 col16\" >function</td>\n",
              "                        <td id=\"T_9c79b788_7fb9_11ec_9ef0_0242ac1c0002row0_col17\" class=\"data row0 col17\" >RMSprop</td>\n",
              "                        <td id=\"T_9c79b788_7fb9_11ec_9ef0_0242ac1c0002row0_col18\" class=\"data row0 col18\" >{'name': 'sequential', 'layers...</td>\n",
              "                        <td id=\"T_9c79b788_7fb9_11ec_9ef0_0242ac1c0002row0_col19\" class=\"data row0 col19\" >302360</td>\n",
              "                        <td id=\"T_9c79b788_7fb9_11ec_9ef0_0242ac1c0002row0_col20\" class=\"data row0 col20\" >AIModelShare</td>\n",
              "                        <td id=\"T_9c79b788_7fb9_11ec_9ef0_0242ac1c0002row0_col21\" class=\"data row0 col21\" >2</td>\n",
              "            </tr>\n",
              "            <tr>\n",
              "                        <th id=\"T_9c79b788_7fb9_11ec_9ef0_0242ac1c0002level0_row1\" class=\"row_heading level0 row1\" >1</th>\n",
              "                        <td id=\"T_9c79b788_7fb9_11ec_9ef0_0242ac1c0002row1_col0\" class=\"data row1 col0\" >52.59%</td>\n",
              "                        <td id=\"T_9c79b788_7fb9_11ec_9ef0_0242ac1c0002row1_col1\" class=\"data row1 col1\" >47.01%</td>\n",
              "                        <td id=\"T_9c79b788_7fb9_11ec_9ef0_0242ac1c0002row1_col2\" class=\"data row1 col2\" >59.01%</td>\n",
              "                        <td id=\"T_9c79b788_7fb9_11ec_9ef0_0242ac1c0002row1_col3\" class=\"data row1 col3\" >49.75%</td>\n",
              "                        <td id=\"T_9c79b788_7fb9_11ec_9ef0_0242ac1c0002row1_col4\" class=\"data row1 col4\" >keras</td>\n",
              "                        <td id=\"T_9c79b788_7fb9_11ec_9ef0_0242ac1c0002row1_col5\" class=\"data row1 col5\" >False</td>\n",
              "                        <td id=\"T_9c79b788_7fb9_11ec_9ef0_0242ac1c0002row1_col6\" class=\"data row1 col6\" >True</td>\n",
              "                        <td id=\"T_9c79b788_7fb9_11ec_9ef0_0242ac1c0002row1_col7\" class=\"data row1 col7\" >Sequential</td>\n",
              "                        <td id=\"T_9c79b788_7fb9_11ec_9ef0_0242ac1c0002row1_col8\" class=\"data row1 col8\" >11</td>\n",
              "                        <td id=\"T_9c79b788_7fb9_11ec_9ef0_0242ac1c0002row1_col9\" class=\"data row1 col9\" >2773673</td>\n",
              "                        <td id=\"T_9c79b788_7fb9_11ec_9ef0_0242ac1c0002row1_col10\" class=\"data row1 col10\" >1</td>\n",
              "                        <td id=\"T_9c79b788_7fb9_11ec_9ef0_0242ac1c0002row1_col11\" class=\"data row1 col11\" >2</td>\n",
              "                        <td id=\"T_9c79b788_7fb9_11ec_9ef0_0242ac1c0002row1_col12\" class=\"data row1 col12\" >2.000000</td>\n",
              "                        <td id=\"T_9c79b788_7fb9_11ec_9ef0_0242ac1c0002row1_col13\" class=\"data row1 col13\" >2.000000</td>\n",
              "                        <td id=\"T_9c79b788_7fb9_11ec_9ef0_0242ac1c0002row1_col14\" class=\"data row1 col14\" >5</td>\n",
              "                        <td id=\"T_9c79b788_7fb9_11ec_9ef0_0242ac1c0002row1_col15\" class=\"data row1 col15\" >1</td>\n",
              "                        <td id=\"T_9c79b788_7fb9_11ec_9ef0_0242ac1c0002row1_col16\" class=\"data row1 col16\" >str</td>\n",
              "                        <td id=\"T_9c79b788_7fb9_11ec_9ef0_0242ac1c0002row1_col17\" class=\"data row1 col17\" >RMSprop</td>\n",
              "                        <td id=\"T_9c79b788_7fb9_11ec_9ef0_0242ac1c0002row1_col18\" class=\"data row1 col18\" >{'name': 'sequential_1', 'laye...</td>\n",
              "                        <td id=\"T_9c79b788_7fb9_11ec_9ef0_0242ac1c0002row1_col19\" class=\"data row1 col19\" >2400352</td>\n",
              "                        <td id=\"T_9c79b788_7fb9_11ec_9ef0_0242ac1c0002row1_col20\" class=\"data row1 col20\" >AIModelShare</td>\n",
              "                        <td id=\"T_9c79b788_7fb9_11ec_9ef0_0242ac1c0002row1_col21\" class=\"data row1 col21\" >5</td>\n",
              "            </tr>\n",
              "            <tr>\n",
              "                        <th id=\"T_9c79b788_7fb9_11ec_9ef0_0242ac1c0002level0_row2\" class=\"row_heading level0 row2\" >3</th>\n",
              "                        <td id=\"T_9c79b788_7fb9_11ec_9ef0_0242ac1c0002row2_col0\" class=\"data row2 col0\" >48.50%</td>\n",
              "                        <td id=\"T_9c79b788_7fb9_11ec_9ef0_0242ac1c0002row2_col1\" class=\"data row2 col1\" >47.44%</td>\n",
              "                        <td id=\"T_9c79b788_7fb9_11ec_9ef0_0242ac1c0002row2_col2\" class=\"data row2 col2\" >49.65%</td>\n",
              "                        <td id=\"T_9c79b788_7fb9_11ec_9ef0_0242ac1c0002row2_col3\" class=\"data row2 col3\" >46.96%</td>\n",
              "                        <td id=\"T_9c79b788_7fb9_11ec_9ef0_0242ac1c0002row2_col4\" class=\"data row2 col4\" >keras</td>\n",
              "                        <td id=\"T_9c79b788_7fb9_11ec_9ef0_0242ac1c0002row2_col5\" class=\"data row2 col5\" >False</td>\n",
              "                        <td id=\"T_9c79b788_7fb9_11ec_9ef0_0242ac1c0002row2_col6\" class=\"data row2 col6\" >True</td>\n",
              "                        <td id=\"T_9c79b788_7fb9_11ec_9ef0_0242ac1c0002row2_col7\" class=\"data row2 col7\" >Sequential</td>\n",
              "                        <td id=\"T_9c79b788_7fb9_11ec_9ef0_0242ac1c0002row2_col8\" class=\"data row2 col8\" >5</td>\n",
              "                        <td id=\"T_9c79b788_7fb9_11ec_9ef0_0242ac1c0002row2_col9\" class=\"data row2 col9\" >11805061</td>\n",
              "                        <td id=\"T_9c79b788_7fb9_11ec_9ef0_0242ac1c0002row2_col10\" class=\"data row2 col10\" >1</td>\n",
              "                        <td id=\"T_9c79b788_7fb9_11ec_9ef0_0242ac1c0002row2_col11\" class=\"data row2 col11\" >4</td>\n",
              "                        <td id=\"T_9c79b788_7fb9_11ec_9ef0_0242ac1c0002row2_col12\" class=\"data row2 col12\" >nan</td>\n",
              "                        <td id=\"T_9c79b788_7fb9_11ec_9ef0_0242ac1c0002row2_col13\" class=\"data row2 col13\" >nan</td>\n",
              "                        <td id=\"T_9c79b788_7fb9_11ec_9ef0_0242ac1c0002row2_col14\" class=\"data row2 col14\" >3</td>\n",
              "                        <td id=\"T_9c79b788_7fb9_11ec_9ef0_0242ac1c0002row2_col15\" class=\"data row2 col15\" >1</td>\n",
              "                        <td id=\"T_9c79b788_7fb9_11ec_9ef0_0242ac1c0002row2_col16\" class=\"data row2 col16\" >function</td>\n",
              "                        <td id=\"T_9c79b788_7fb9_11ec_9ef0_0242ac1c0002row2_col17\" class=\"data row2 col17\" >RMSprop</td>\n",
              "                        <td id=\"T_9c79b788_7fb9_11ec_9ef0_0242ac1c0002row2_col18\" class=\"data row2 col18\" >{'name': 'sequential_1', 'laye...</td>\n",
              "                        <td id=\"T_9c79b788_7fb9_11ec_9ef0_0242ac1c0002row2_col19\" class=\"data row2 col19\" >204776</td>\n",
              "                        <td id=\"T_9c79b788_7fb9_11ec_9ef0_0242ac1c0002row2_col20\" class=\"data row2 col20\" >AIModelShare</td>\n",
              "                        <td id=\"T_9c79b788_7fb9_11ec_9ef0_0242ac1c0002row2_col21\" class=\"data row2 col21\" >1</td>\n",
              "            </tr>\n",
              "            <tr>\n",
              "                        <th id=\"T_9c79b788_7fb9_11ec_9ef0_0242ac1c0002level0_row3\" class=\"row_heading level0 row3\" >4</th>\n",
              "                        <td id=\"T_9c79b788_7fb9_11ec_9ef0_0242ac1c0002row3_col0\" class=\"data row3 col0\" >42.37%</td>\n",
              "                        <td id=\"T_9c79b788_7fb9_11ec_9ef0_0242ac1c0002row3_col1\" class=\"data row3 col1\" >35.27%</td>\n",
              "                        <td id=\"T_9c79b788_7fb9_11ec_9ef0_0242ac1c0002row3_col2\" class=\"data row3 col2\" >43.24%</td>\n",
              "                        <td id=\"T_9c79b788_7fb9_11ec_9ef0_0242ac1c0002row3_col3\" class=\"data row3 col3\" >40.98%</td>\n",
              "                        <td id=\"T_9c79b788_7fb9_11ec_9ef0_0242ac1c0002row3_col4\" class=\"data row3 col4\" >keras</td>\n",
              "                        <td id=\"T_9c79b788_7fb9_11ec_9ef0_0242ac1c0002row3_col5\" class=\"data row3 col5\" >False</td>\n",
              "                        <td id=\"T_9c79b788_7fb9_11ec_9ef0_0242ac1c0002row3_col6\" class=\"data row3 col6\" >True</td>\n",
              "                        <td id=\"T_9c79b788_7fb9_11ec_9ef0_0242ac1c0002row3_col7\" class=\"data row3 col7\" >Sequential</td>\n",
              "                        <td id=\"T_9c79b788_7fb9_11ec_9ef0_0242ac1c0002row3_col8\" class=\"data row3 col8\" >5</td>\n",
              "                        <td id=\"T_9c79b788_7fb9_11ec_9ef0_0242ac1c0002row3_col9\" class=\"data row3 col9\" >11805061</td>\n",
              "                        <td id=\"T_9c79b788_7fb9_11ec_9ef0_0242ac1c0002row3_col10\" class=\"data row3 col10\" >1</td>\n",
              "                        <td id=\"T_9c79b788_7fb9_11ec_9ef0_0242ac1c0002row3_col11\" class=\"data row3 col11\" >4</td>\n",
              "                        <td id=\"T_9c79b788_7fb9_11ec_9ef0_0242ac1c0002row3_col12\" class=\"data row3 col12\" >nan</td>\n",
              "                        <td id=\"T_9c79b788_7fb9_11ec_9ef0_0242ac1c0002row3_col13\" class=\"data row3 col13\" >nan</td>\n",
              "                        <td id=\"T_9c79b788_7fb9_11ec_9ef0_0242ac1c0002row3_col14\" class=\"data row3 col14\" >3</td>\n",
              "                        <td id=\"T_9c79b788_7fb9_11ec_9ef0_0242ac1c0002row3_col15\" class=\"data row3 col15\" >1</td>\n",
              "                        <td id=\"T_9c79b788_7fb9_11ec_9ef0_0242ac1c0002row3_col16\" class=\"data row3 col16\" >str</td>\n",
              "                        <td id=\"T_9c79b788_7fb9_11ec_9ef0_0242ac1c0002row3_col17\" class=\"data row3 col17\" >RMSprop</td>\n",
              "                        <td id=\"T_9c79b788_7fb9_11ec_9ef0_0242ac1c0002row3_col18\" class=\"data row3 col18\" >{'name': 'sequential_1', 'laye...</td>\n",
              "                        <td id=\"T_9c79b788_7fb9_11ec_9ef0_0242ac1c0002row3_col19\" class=\"data row3 col19\" >2339384</td>\n",
              "                        <td id=\"T_9c79b788_7fb9_11ec_9ef0_0242ac1c0002row3_col20\" class=\"data row3 col20\" >AIModelShare</td>\n",
              "                        <td id=\"T_9c79b788_7fb9_11ec_9ef0_0242ac1c0002row3_col21\" class=\"data row3 col21\" >4</td>\n",
              "            </tr>\n",
              "            <tr>\n",
              "                        <th id=\"T_9c79b788_7fb9_11ec_9ef0_0242ac1c0002level0_row4\" class=\"row_heading level0 row4\" >5</th>\n",
              "                        <td id=\"T_9c79b788_7fb9_11ec_9ef0_0242ac1c0002row4_col0\" class=\"data row4 col0\" >41.42%</td>\n",
              "                        <td id=\"T_9c79b788_7fb9_11ec_9ef0_0242ac1c0002row4_col1\" class=\"data row4 col1\" >34.22%</td>\n",
              "                        <td id=\"T_9c79b788_7fb9_11ec_9ef0_0242ac1c0002row4_col2\" class=\"data row4 col2\" >40.25%</td>\n",
              "                        <td id=\"T_9c79b788_7fb9_11ec_9ef0_0242ac1c0002row4_col3\" class=\"data row4 col3\" >41.62%</td>\n",
              "                        <td id=\"T_9c79b788_7fb9_11ec_9ef0_0242ac1c0002row4_col4\" class=\"data row4 col4\" >keras</td>\n",
              "                        <td id=\"T_9c79b788_7fb9_11ec_9ef0_0242ac1c0002row4_col5\" class=\"data row4 col5\" >False</td>\n",
              "                        <td id=\"T_9c79b788_7fb9_11ec_9ef0_0242ac1c0002row4_col6\" class=\"data row4 col6\" >True</td>\n",
              "                        <td id=\"T_9c79b788_7fb9_11ec_9ef0_0242ac1c0002row4_col7\" class=\"data row4 col7\" >Sequential</td>\n",
              "                        <td id=\"T_9c79b788_7fb9_11ec_9ef0_0242ac1c0002row4_col8\" class=\"data row4 col8\" >11</td>\n",
              "                        <td id=\"T_9c79b788_7fb9_11ec_9ef0_0242ac1c0002row4_col9\" class=\"data row4 col9\" >1850913</td>\n",
              "                        <td id=\"T_9c79b788_7fb9_11ec_9ef0_0242ac1c0002row4_col10\" class=\"data row4 col10\" >1</td>\n",
              "                        <td id=\"T_9c79b788_7fb9_11ec_9ef0_0242ac1c0002row4_col11\" class=\"data row4 col11\" >2</td>\n",
              "                        <td id=\"T_9c79b788_7fb9_11ec_9ef0_0242ac1c0002row4_col12\" class=\"data row4 col12\" >2.000000</td>\n",
              "                        <td id=\"T_9c79b788_7fb9_11ec_9ef0_0242ac1c0002row4_col13\" class=\"data row4 col13\" >2.000000</td>\n",
              "                        <td id=\"T_9c79b788_7fb9_11ec_9ef0_0242ac1c0002row4_col14\" class=\"data row4 col14\" >5</td>\n",
              "                        <td id=\"T_9c79b788_7fb9_11ec_9ef0_0242ac1c0002row4_col15\" class=\"data row4 col15\" >1</td>\n",
              "                        <td id=\"T_9c79b788_7fb9_11ec_9ef0_0242ac1c0002row4_col16\" class=\"data row4 col16\" >str</td>\n",
              "                        <td id=\"T_9c79b788_7fb9_11ec_9ef0_0242ac1c0002row4_col17\" class=\"data row4 col17\" >RMSprop</td>\n",
              "                        <td id=\"T_9c79b788_7fb9_11ec_9ef0_0242ac1c0002row4_col18\" class=\"data row4 col18\" >{'name': 'sequential', 'layers...</td>\n",
              "                        <td id=\"T_9c79b788_7fb9_11ec_9ef0_0242ac1c0002row4_col19\" class=\"data row4 col19\" >2730264</td>\n",
              "                        <td id=\"T_9c79b788_7fb9_11ec_9ef0_0242ac1c0002row4_col20\" class=\"data row4 col20\" >AIModelShare</td>\n",
              "                        <td id=\"T_9c79b788_7fb9_11ec_9ef0_0242ac1c0002row4_col21\" class=\"data row4 col21\" >3</td>\n",
              "            </tr>\n",
              "    </tbody></table>"
            ],
            "text/plain": [
              "<pandas.io.formats.style.Styler at 0x7f4aca0ddd10>"
            ]
          },
          "metadata": {},
          "execution_count": 26
        }
      ]
    },
    {
      "cell_type": "code",
      "metadata": {
        "id": "MKvPKyb7hT0h",
        "colab": {
          "base_uri": "https://localhost:8080/",
          "height": 251
        },
        "outputId": "f880a6d2-7e20-4a7b-ec00-bad09023a8f4"
      },
      "source": [
        "# Compare two or more models \n",
        "data=mycompetition.compare_models([4, 5], verbose=1)\n",
        "mycompetition.stylize_compare(data)"
      ],
      "execution_count": 27,
      "outputs": [
        {
          "output_type": "display_data",
          "data": {
            "text/html": [
              "<style  type=\"text/css\" >\n",
              "    #T_aa20dc5e_7fb9_11ec_9ef0_0242ac1c0002 caption {\n",
              "          color: black;\n",
              "          font-size: 18px;\n",
              "    }#T_aa20dc5e_7fb9_11ec_9ef0_0242ac1c0002row0_col0,#T_aa20dc5e_7fb9_11ec_9ef0_0242ac1c0002row1_col0,#T_aa20dc5e_7fb9_11ec_9ef0_0242ac1c0002row2_col0,#T_aa20dc5e_7fb9_11ec_9ef0_0242ac1c0002row4_col0,#T_aa20dc5e_7fb9_11ec_9ef0_0242ac1c0002row8_col3,#T_aa20dc5e_7fb9_11ec_9ef0_0242ac1c0002row10_col3{\n",
              "            background:  #fff2ae;\n",
              "            color:  black;\n",
              "            color:  black;\n",
              "        }#T_aa20dc5e_7fb9_11ec_9ef0_0242ac1c0002row0_col1,#T_aa20dc5e_7fb9_11ec_9ef0_0242ac1c0002row0_col2,#T_aa20dc5e_7fb9_11ec_9ef0_0242ac1c0002row0_col4,#T_aa20dc5e_7fb9_11ec_9ef0_0242ac1c0002row0_col5,#T_aa20dc5e_7fb9_11ec_9ef0_0242ac1c0002row1_col1,#T_aa20dc5e_7fb9_11ec_9ef0_0242ac1c0002row1_col2,#T_aa20dc5e_7fb9_11ec_9ef0_0242ac1c0002row1_col4,#T_aa20dc5e_7fb9_11ec_9ef0_0242ac1c0002row1_col5,#T_aa20dc5e_7fb9_11ec_9ef0_0242ac1c0002row2_col1,#T_aa20dc5e_7fb9_11ec_9ef0_0242ac1c0002row2_col2,#T_aa20dc5e_7fb9_11ec_9ef0_0242ac1c0002row2_col4,#T_aa20dc5e_7fb9_11ec_9ef0_0242ac1c0002row2_col5,#T_aa20dc5e_7fb9_11ec_9ef0_0242ac1c0002row3_col1,#T_aa20dc5e_7fb9_11ec_9ef0_0242ac1c0002row3_col2,#T_aa20dc5e_7fb9_11ec_9ef0_0242ac1c0002row3_col4,#T_aa20dc5e_7fb9_11ec_9ef0_0242ac1c0002row3_col5,#T_aa20dc5e_7fb9_11ec_9ef0_0242ac1c0002row4_col1,#T_aa20dc5e_7fb9_11ec_9ef0_0242ac1c0002row4_col2,#T_aa20dc5e_7fb9_11ec_9ef0_0242ac1c0002row4_col4,#T_aa20dc5e_7fb9_11ec_9ef0_0242ac1c0002row4_col5,#T_aa20dc5e_7fb9_11ec_9ef0_0242ac1c0002row5_col0,#T_aa20dc5e_7fb9_11ec_9ef0_0242ac1c0002row5_col1,#T_aa20dc5e_7fb9_11ec_9ef0_0242ac1c0002row5_col2,#T_aa20dc5e_7fb9_11ec_9ef0_0242ac1c0002row5_col4,#T_aa20dc5e_7fb9_11ec_9ef0_0242ac1c0002row5_col5,#T_aa20dc5e_7fb9_11ec_9ef0_0242ac1c0002row6_col0,#T_aa20dc5e_7fb9_11ec_9ef0_0242ac1c0002row6_col1,#T_aa20dc5e_7fb9_11ec_9ef0_0242ac1c0002row6_col2,#T_aa20dc5e_7fb9_11ec_9ef0_0242ac1c0002row6_col4,#T_aa20dc5e_7fb9_11ec_9ef0_0242ac1c0002row6_col5,#T_aa20dc5e_7fb9_11ec_9ef0_0242ac1c0002row7_col0,#T_aa20dc5e_7fb9_11ec_9ef0_0242ac1c0002row7_col1,#T_aa20dc5e_7fb9_11ec_9ef0_0242ac1c0002row7_col2,#T_aa20dc5e_7fb9_11ec_9ef0_0242ac1c0002row7_col4,#T_aa20dc5e_7fb9_11ec_9ef0_0242ac1c0002row7_col5,#T_aa20dc5e_7fb9_11ec_9ef0_0242ac1c0002row8_col0,#T_aa20dc5e_7fb9_11ec_9ef0_0242ac1c0002row8_col1,#T_aa20dc5e_7fb9_11ec_9ef0_0242ac1c0002row8_col2,#T_aa20dc5e_7fb9_11ec_9ef0_0242ac1c0002row8_col4,#T_aa20dc5e_7fb9_11ec_9ef0_0242ac1c0002row8_col5,#T_aa20dc5e_7fb9_11ec_9ef0_0242ac1c0002row9_col0,#T_aa20dc5e_7fb9_11ec_9ef0_0242ac1c0002row9_col1,#T_aa20dc5e_7fb9_11ec_9ef0_0242ac1c0002row9_col2,#T_aa20dc5e_7fb9_11ec_9ef0_0242ac1c0002row9_col4,#T_aa20dc5e_7fb9_11ec_9ef0_0242ac1c0002row9_col5,#T_aa20dc5e_7fb9_11ec_9ef0_0242ac1c0002row10_col0,#T_aa20dc5e_7fb9_11ec_9ef0_0242ac1c0002row10_col1,#T_aa20dc5e_7fb9_11ec_9ef0_0242ac1c0002row10_col2,#T_aa20dc5e_7fb9_11ec_9ef0_0242ac1c0002row10_col4,#T_aa20dc5e_7fb9_11ec_9ef0_0242ac1c0002row10_col5{\n",
              "            background:  white;\n",
              "            color:  black;\n",
              "            color:  black;\n",
              "        }#T_aa20dc5e_7fb9_11ec_9ef0_0242ac1c0002row0_col3,#T_aa20dc5e_7fb9_11ec_9ef0_0242ac1c0002row1_col3,#T_aa20dc5e_7fb9_11ec_9ef0_0242ac1c0002row3_col3,#T_aa20dc5e_7fb9_11ec_9ef0_0242ac1c0002row4_col3{\n",
              "            background:  #fdcdac;\n",
              "            color:  black;\n",
              "            color:  black;\n",
              "        }#T_aa20dc5e_7fb9_11ec_9ef0_0242ac1c0002row2_col3,#T_aa20dc5e_7fb9_11ec_9ef0_0242ac1c0002row5_col3{\n",
              "            background:  #f1e2cc;\n",
              "            color:  black;\n",
              "            color:  black;\n",
              "        }#T_aa20dc5e_7fb9_11ec_9ef0_0242ac1c0002row3_col0,#T_aa20dc5e_7fb9_11ec_9ef0_0242ac1c0002row7_col3{\n",
              "            background:  #e6f5c9;\n",
              "            color:  black;\n",
              "            color:  black;\n",
              "        }#T_aa20dc5e_7fb9_11ec_9ef0_0242ac1c0002row6_col3,#T_aa20dc5e_7fb9_11ec_9ef0_0242ac1c0002row9_col3{\n",
              "            background:  #cbd5e8;\n",
              "            color:  black;\n",
              "            color:  black;\n",
              "        }</style><table id=\"T_aa20dc5e_7fb9_11ec_9ef0_0242ac1c0002\" ><caption>Model type: Neural Network</caption><thead>    <tr>        <th class=\"blank level0\" ></th>        <th class=\"col_heading level0 col0\" >Model_4_Layer</th>        <th class=\"col_heading level0 col1\" >Model_4_Shape</th>        <th class=\"col_heading level0 col2\" >Model_4_Params</th>        <th class=\"col_heading level0 col3\" >Model_5_Layer</th>        <th class=\"col_heading level0 col4\" >Model_5_Shape</th>        <th class=\"col_heading level0 col5\" >Model_5_Params</th>    </tr></thead><tbody>\n",
              "                <tr>\n",
              "                        <th id=\"T_aa20dc5e_7fb9_11ec_9ef0_0242ac1c0002level0_row0\" class=\"row_heading level0 row0\" >0</th>\n",
              "                        <td id=\"T_aa20dc5e_7fb9_11ec_9ef0_0242ac1c0002row0_col0\" class=\"data row0 col0\" >Dense</td>\n",
              "                        <td id=\"T_aa20dc5e_7fb9_11ec_9ef0_0242ac1c0002row0_col1\" class=\"data row0 col1\" >[None, 192, 192, 64]</td>\n",
              "                        <td id=\"T_aa20dc5e_7fb9_11ec_9ef0_0242ac1c0002row0_col2\" class=\"data row0 col2\" >256.000000</td>\n",
              "                        <td id=\"T_aa20dc5e_7fb9_11ec_9ef0_0242ac1c0002row0_col3\" class=\"data row0 col3\" >Conv2D</td>\n",
              "                        <td id=\"T_aa20dc5e_7fb9_11ec_9ef0_0242ac1c0002row0_col4\" class=\"data row0 col4\" >[None, 192, 192, 16]</td>\n",
              "                        <td id=\"T_aa20dc5e_7fb9_11ec_9ef0_0242ac1c0002row0_col5\" class=\"data row0 col5\" >448</td>\n",
              "            </tr>\n",
              "            <tr>\n",
              "                        <th id=\"T_aa20dc5e_7fb9_11ec_9ef0_0242ac1c0002level0_row1\" class=\"row_heading level0 row1\" >1</th>\n",
              "                        <td id=\"T_aa20dc5e_7fb9_11ec_9ef0_0242ac1c0002row1_col0\" class=\"data row1 col0\" >Dense</td>\n",
              "                        <td id=\"T_aa20dc5e_7fb9_11ec_9ef0_0242ac1c0002row1_col1\" class=\"data row1 col1\" >[None, 192, 192, 64]</td>\n",
              "                        <td id=\"T_aa20dc5e_7fb9_11ec_9ef0_0242ac1c0002row1_col2\" class=\"data row1 col2\" >4160.000000</td>\n",
              "                        <td id=\"T_aa20dc5e_7fb9_11ec_9ef0_0242ac1c0002row1_col3\" class=\"data row1 col3\" >Conv2D</td>\n",
              "                        <td id=\"T_aa20dc5e_7fb9_11ec_9ef0_0242ac1c0002row1_col4\" class=\"data row1 col4\" >[None, 192, 192, 16]</td>\n",
              "                        <td id=\"T_aa20dc5e_7fb9_11ec_9ef0_0242ac1c0002row1_col5\" class=\"data row1 col5\" >2320</td>\n",
              "            </tr>\n",
              "            <tr>\n",
              "                        <th id=\"T_aa20dc5e_7fb9_11ec_9ef0_0242ac1c0002level0_row2\" class=\"row_heading level0 row2\" >2</th>\n",
              "                        <td id=\"T_aa20dc5e_7fb9_11ec_9ef0_0242ac1c0002row2_col0\" class=\"data row2 col0\" >Dense</td>\n",
              "                        <td id=\"T_aa20dc5e_7fb9_11ec_9ef0_0242ac1c0002row2_col1\" class=\"data row2 col1\" >[None, 192, 192, 64]</td>\n",
              "                        <td id=\"T_aa20dc5e_7fb9_11ec_9ef0_0242ac1c0002row2_col2\" class=\"data row2 col2\" >4160.000000</td>\n",
              "                        <td id=\"T_aa20dc5e_7fb9_11ec_9ef0_0242ac1c0002row2_col3\" class=\"data row2 col3\" >MaxPooling2D</td>\n",
              "                        <td id=\"T_aa20dc5e_7fb9_11ec_9ef0_0242ac1c0002row2_col4\" class=\"data row2 col4\" >[None, 96, 96, 16]</td>\n",
              "                        <td id=\"T_aa20dc5e_7fb9_11ec_9ef0_0242ac1c0002row2_col5\" class=\"data row2 col5\" >0</td>\n",
              "            </tr>\n",
              "            <tr>\n",
              "                        <th id=\"T_aa20dc5e_7fb9_11ec_9ef0_0242ac1c0002level0_row3\" class=\"row_heading level0 row3\" >3</th>\n",
              "                        <td id=\"T_aa20dc5e_7fb9_11ec_9ef0_0242ac1c0002row3_col0\" class=\"data row3 col0\" >Flatten</td>\n",
              "                        <td id=\"T_aa20dc5e_7fb9_11ec_9ef0_0242ac1c0002row3_col1\" class=\"data row3 col1\" >[None, 2359296]</td>\n",
              "                        <td id=\"T_aa20dc5e_7fb9_11ec_9ef0_0242ac1c0002row3_col2\" class=\"data row3 col2\" >0.000000</td>\n",
              "                        <td id=\"T_aa20dc5e_7fb9_11ec_9ef0_0242ac1c0002row3_col3\" class=\"data row3 col3\" >Conv2D</td>\n",
              "                        <td id=\"T_aa20dc5e_7fb9_11ec_9ef0_0242ac1c0002row3_col4\" class=\"data row3 col4\" >[None, 96, 96, 16]</td>\n",
              "                        <td id=\"T_aa20dc5e_7fb9_11ec_9ef0_0242ac1c0002row3_col5\" class=\"data row3 col5\" >2320</td>\n",
              "            </tr>\n",
              "            <tr>\n",
              "                        <th id=\"T_aa20dc5e_7fb9_11ec_9ef0_0242ac1c0002level0_row4\" class=\"row_heading level0 row4\" >4</th>\n",
              "                        <td id=\"T_aa20dc5e_7fb9_11ec_9ef0_0242ac1c0002row4_col0\" class=\"data row4 col0\" >Dense</td>\n",
              "                        <td id=\"T_aa20dc5e_7fb9_11ec_9ef0_0242ac1c0002row4_col1\" class=\"data row4 col1\" >[None, 5]</td>\n",
              "                        <td id=\"T_aa20dc5e_7fb9_11ec_9ef0_0242ac1c0002row4_col2\" class=\"data row4 col2\" >11796485.000000</td>\n",
              "                        <td id=\"T_aa20dc5e_7fb9_11ec_9ef0_0242ac1c0002row4_col3\" class=\"data row4 col3\" >Conv2D</td>\n",
              "                        <td id=\"T_aa20dc5e_7fb9_11ec_9ef0_0242ac1c0002row4_col4\" class=\"data row4 col4\" >[None, 96, 96, 24]</td>\n",
              "                        <td id=\"T_aa20dc5e_7fb9_11ec_9ef0_0242ac1c0002row4_col5\" class=\"data row4 col5\" >3480</td>\n",
              "            </tr>\n",
              "            <tr>\n",
              "                        <th id=\"T_aa20dc5e_7fb9_11ec_9ef0_0242ac1c0002level0_row5\" class=\"row_heading level0 row5\" >5</th>\n",
              "                        <td id=\"T_aa20dc5e_7fb9_11ec_9ef0_0242ac1c0002row5_col0\" class=\"data row5 col0\" >None</td>\n",
              "                        <td id=\"T_aa20dc5e_7fb9_11ec_9ef0_0242ac1c0002row5_col1\" class=\"data row5 col1\" >None</td>\n",
              "                        <td id=\"T_aa20dc5e_7fb9_11ec_9ef0_0242ac1c0002row5_col2\" class=\"data row5 col2\" >nan</td>\n",
              "                        <td id=\"T_aa20dc5e_7fb9_11ec_9ef0_0242ac1c0002row5_col3\" class=\"data row5 col3\" >MaxPooling2D</td>\n",
              "                        <td id=\"T_aa20dc5e_7fb9_11ec_9ef0_0242ac1c0002row5_col4\" class=\"data row5 col4\" >[None, 48, 48, 24]</td>\n",
              "                        <td id=\"T_aa20dc5e_7fb9_11ec_9ef0_0242ac1c0002row5_col5\" class=\"data row5 col5\" >0</td>\n",
              "            </tr>\n",
              "            <tr>\n",
              "                        <th id=\"T_aa20dc5e_7fb9_11ec_9ef0_0242ac1c0002level0_row6\" class=\"row_heading level0 row6\" >6</th>\n",
              "                        <td id=\"T_aa20dc5e_7fb9_11ec_9ef0_0242ac1c0002row6_col0\" class=\"data row6 col0\" >None</td>\n",
              "                        <td id=\"T_aa20dc5e_7fb9_11ec_9ef0_0242ac1c0002row6_col1\" class=\"data row6 col1\" >None</td>\n",
              "                        <td id=\"T_aa20dc5e_7fb9_11ec_9ef0_0242ac1c0002row6_col2\" class=\"data row6 col2\" >nan</td>\n",
              "                        <td id=\"T_aa20dc5e_7fb9_11ec_9ef0_0242ac1c0002row6_col3\" class=\"data row6 col3\" >Dropout</td>\n",
              "                        <td id=\"T_aa20dc5e_7fb9_11ec_9ef0_0242ac1c0002row6_col4\" class=\"data row6 col4\" >[None, 48, 48, 24]</td>\n",
              "                        <td id=\"T_aa20dc5e_7fb9_11ec_9ef0_0242ac1c0002row6_col5\" class=\"data row6 col5\" >0</td>\n",
              "            </tr>\n",
              "            <tr>\n",
              "                        <th id=\"T_aa20dc5e_7fb9_11ec_9ef0_0242ac1c0002level0_row7\" class=\"row_heading level0 row7\" >7</th>\n",
              "                        <td id=\"T_aa20dc5e_7fb9_11ec_9ef0_0242ac1c0002row7_col0\" class=\"data row7 col0\" >None</td>\n",
              "                        <td id=\"T_aa20dc5e_7fb9_11ec_9ef0_0242ac1c0002row7_col1\" class=\"data row7 col1\" >None</td>\n",
              "                        <td id=\"T_aa20dc5e_7fb9_11ec_9ef0_0242ac1c0002row7_col2\" class=\"data row7 col2\" >nan</td>\n",
              "                        <td id=\"T_aa20dc5e_7fb9_11ec_9ef0_0242ac1c0002row7_col3\" class=\"data row7 col3\" >Flatten</td>\n",
              "                        <td id=\"T_aa20dc5e_7fb9_11ec_9ef0_0242ac1c0002row7_col4\" class=\"data row7 col4\" >[None, 55296]</td>\n",
              "                        <td id=\"T_aa20dc5e_7fb9_11ec_9ef0_0242ac1c0002row7_col5\" class=\"data row7 col5\" >0</td>\n",
              "            </tr>\n",
              "            <tr>\n",
              "                        <th id=\"T_aa20dc5e_7fb9_11ec_9ef0_0242ac1c0002level0_row8\" class=\"row_heading level0 row8\" >8</th>\n",
              "                        <td id=\"T_aa20dc5e_7fb9_11ec_9ef0_0242ac1c0002row8_col0\" class=\"data row8 col0\" >None</td>\n",
              "                        <td id=\"T_aa20dc5e_7fb9_11ec_9ef0_0242ac1c0002row8_col1\" class=\"data row8 col1\" >None</td>\n",
              "                        <td id=\"T_aa20dc5e_7fb9_11ec_9ef0_0242ac1c0002row8_col2\" class=\"data row8 col2\" >nan</td>\n",
              "                        <td id=\"T_aa20dc5e_7fb9_11ec_9ef0_0242ac1c0002row8_col3\" class=\"data row8 col3\" >Dense</td>\n",
              "                        <td id=\"T_aa20dc5e_7fb9_11ec_9ef0_0242ac1c0002row8_col4\" class=\"data row8 col4\" >[None, 50]</td>\n",
              "                        <td id=\"T_aa20dc5e_7fb9_11ec_9ef0_0242ac1c0002row8_col5\" class=\"data row8 col5\" >2764850</td>\n",
              "            </tr>\n",
              "            <tr>\n",
              "                        <th id=\"T_aa20dc5e_7fb9_11ec_9ef0_0242ac1c0002level0_row9\" class=\"row_heading level0 row9\" >9</th>\n",
              "                        <td id=\"T_aa20dc5e_7fb9_11ec_9ef0_0242ac1c0002row9_col0\" class=\"data row9 col0\" >None</td>\n",
              "                        <td id=\"T_aa20dc5e_7fb9_11ec_9ef0_0242ac1c0002row9_col1\" class=\"data row9 col1\" >None</td>\n",
              "                        <td id=\"T_aa20dc5e_7fb9_11ec_9ef0_0242ac1c0002row9_col2\" class=\"data row9 col2\" >nan</td>\n",
              "                        <td id=\"T_aa20dc5e_7fb9_11ec_9ef0_0242ac1c0002row9_col3\" class=\"data row9 col3\" >Dropout</td>\n",
              "                        <td id=\"T_aa20dc5e_7fb9_11ec_9ef0_0242ac1c0002row9_col4\" class=\"data row9 col4\" >[None, 50]</td>\n",
              "                        <td id=\"T_aa20dc5e_7fb9_11ec_9ef0_0242ac1c0002row9_col5\" class=\"data row9 col5\" >0</td>\n",
              "            </tr>\n",
              "            <tr>\n",
              "                        <th id=\"T_aa20dc5e_7fb9_11ec_9ef0_0242ac1c0002level0_row10\" class=\"row_heading level0 row10\" >10</th>\n",
              "                        <td id=\"T_aa20dc5e_7fb9_11ec_9ef0_0242ac1c0002row10_col0\" class=\"data row10 col0\" >None</td>\n",
              "                        <td id=\"T_aa20dc5e_7fb9_11ec_9ef0_0242ac1c0002row10_col1\" class=\"data row10 col1\" >None</td>\n",
              "                        <td id=\"T_aa20dc5e_7fb9_11ec_9ef0_0242ac1c0002row10_col2\" class=\"data row10 col2\" >nan</td>\n",
              "                        <td id=\"T_aa20dc5e_7fb9_11ec_9ef0_0242ac1c0002row10_col3\" class=\"data row10 col3\" >Dense</td>\n",
              "                        <td id=\"T_aa20dc5e_7fb9_11ec_9ef0_0242ac1c0002row10_col4\" class=\"data row10 col4\" >[None, 5]</td>\n",
              "                        <td id=\"T_aa20dc5e_7fb9_11ec_9ef0_0242ac1c0002row10_col5\" class=\"data row10 col5\" >255</td>\n",
              "            </tr>\n",
              "    </tbody></table>"
            ],
            "text/plain": [
              "<IPython.core.display.HTML object>"
            ]
          },
          "metadata": {}
        }
      ]
    }
  ]
}