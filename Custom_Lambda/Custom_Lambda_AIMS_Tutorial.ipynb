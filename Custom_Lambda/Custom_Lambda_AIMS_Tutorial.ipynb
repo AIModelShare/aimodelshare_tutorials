{
  "nbformat": 4,
  "nbformat_minor": 0,
  "metadata": {
    "colab": {
      "name": "Custom_Lambda_AIMS_Tutorial_G_edit.ipynb",
      "provenance": [],
      "collapsed_sections": [
        "W19EexvEUC6C",
        "ir2LcWyQM66k"
      ]
    },
    "kernelspec": {
      "name": "python3",
      "display_name": "Python 3"
    },
    "language_info": {
      "name": "python"
    }
  },
  "cells": [
    {
      "cell_type": "markdown",
      "source": [
        "<p align=\"center\"><img width=\"50%\" src=\"https://aimodelsharecontent.s3.amazonaws.com/aimodshare_banner.jpg\" /></p>\n",
        "\n",
        "\n",
        "---\n"
      ],
      "metadata": {
        "id": "Lv1XBVquWDKL"
      }
    },
    {
      "cell_type": "markdown",
      "source": [
        "<p align=\"center\"><h1 align=\"center\">Quick Start: Image Classification Tutorial with Custom Lambda </h1> \n",
        "\n",
        "---\n",
        "\n",
        "<h3 align=\"center\">(Deploy model to an AI Model Share Model Playground REST API<br> and Web Dashboard in five easy steps...)</h3></p>\n",
        "<p align=\"center\"><img width=\"100%\" src=\"https://aimodelsharecontent.s3.amazonaws.com/aimstutorialsteps.gif\" /></p>\n",
        "\n",
        "\n",
        "---"
      ],
      "metadata": {
        "id": "9kH5pszoWHIY"
      }
    },
    {
      "cell_type": "code",
      "source": [
        "! pip install aimodelshare --upgrade\n"
      ],
      "metadata": {
        "id": "D8ylJ1RCeb7E"
      },
      "execution_count": null,
      "outputs": []
    },
    {
      "cell_type": "markdown",
      "metadata": {
        "id": "W19EexvEUC6C"
      },
      "source": [
        "# **Deploying Your Own Model Using the aimodelshare Library**\n",
        "\n",
        "> This tutorial will take you through how to deploy your own model on AWS's serverless computing infrastructure using AI Model Share Initiative's aimodelshare library. This tutorial consists of 5 stages:\n",
        "> 1. [Train Model](#step-1)\n",
        "> 2. [Prepare Deployment Folder](#step-2)\n",
        "> 3. [Define Input And Output JSON Formats](#step-3)\n",
        "> 4. [Write Custom Lambda Handler](#step-4)\n",
        "> 5. [Deploy Model On AWS Using AI Model Share Initiative's aimodelshare Library](#step-5)\n",
        "> \n",
        "> In the event that the user already has a repository containing all the files and folders pertaining to the inferencing given an input, Stages 1 and 2 can be omitted/done externally by the user. Users can then start the deployment process directly from Stage 3."
      ]
    },
    {
      "cell_type": "markdown",
      "metadata": {
        "id": "-n049VbGeNHT"
      },
      "source": [
        "<a name=\"step-1\"></a>\n",
        "# **[1] Train Model**\n",
        "\n",
        "> In this section, the user will build and train a model of their choice. Here, we train an image classification model. This will contain the following steps:\n",
        "> 1. Importing All The Required Libraries\n",
        "> 2. Downloading The Image Dataset And Storing Image Paths\n",
        "> 3. Writing A Preprocessor Function For Preprocessing The Image Dataset\n",
        "> 4. Preprocessing The Entire Dataset And Getting Corresponding Image Labels\n",
        "> 5. Performing A Train Test Split\n",
        "> 6. Training The Image Classification Model\n"
      ]
    },
    {
      "cell_type": "markdown",
      "metadata": {
        "id": "sKBpViGohS41"
      },
      "source": [
        "### **[1.1] Importing All The Required Libraries**\n",
        "\n",
        "> Import all the libraries necessary for preprocessing the dataset and training the image classification model."
      ]
    },
    {
      "cell_type": "code",
      "metadata": {
        "id": "kEZFtAgQ3MpQ"
      },
      "source": [
        "import os\n",
        "import numpy as np\n",
        "import pandas as pd\n",
        "import cv2\n",
        "import tarfile\n",
        "from six.moves import urllib"
      ],
      "execution_count": 2,
      "outputs": []
    },
    {
      "cell_type": "markdown",
      "metadata": {
        "id": "wGmYjSMNhhQJ"
      },
      "source": [
        "### **[1.2] Downloading The Image Dataset And Storing Image Paths**\n",
        "\n",
        "> Download the flower image dataset from the TensorFlow repository and store the paths to each image."
      ]
    },
    {
      "cell_type": "code",
      "metadata": {
        "id": "elL6Dk8_1sn7",
        "colab": {
          "base_uri": "https://localhost:8080/"
        },
        "outputId": "d6e5a0df-f4b9-4e02-cc26-fcfc4175600a"
      },
      "source": [
        "# Downloading images from TensorFlow in a compressed .tgz file\n",
        "\n",
        "directory = 'flower_photos' # Downloading to this directory drom the download URL.\n",
        "download_url = 'http://download.tensorflow.org/example_images/flower_photos.tgz' # Downloading from this URL\n",
        "categories = ['daisy', 'dandelion', 'roses', 'sunflowers', 'tulips'] # categories of images\n",
        "\n",
        "# If the images aren't already downloaded, download and save them to directory\n",
        "def download_images(directory, download_url):\n",
        "    if not os.path.exists(directory):\n",
        "        print('Downloading images from from %s.' % download_url)\n",
        "        urllib.request.urlretrieve(download_url, directory+'.tgz')\n",
        "        tar = tarfile.open(directory+'.tgz', 'r')\n",
        "        tar.extractall()\n",
        "        tar.close()\n",
        "    print('Images are located in %s.' % directory)\n",
        "\n",
        "# Load file paths to fnames list object\n",
        "def get_file_paths(directory, categories):\n",
        "    fnames = []\n",
        "    for category in categories:\n",
        "        folder = os.path.join(directory, category)\n",
        "        file_names = os.listdir(folder)\n",
        "        full_path = [os.path.join(folder, file_name) for file_name in file_names]\n",
        "        fnames.append(full_path)\n",
        "    return fnames\n",
        "\n",
        "download_images(directory, download_url)\n",
        "fnames = get_file_paths(directory, categories)"
      ],
      "execution_count": 3,
      "outputs": [
        {
          "output_type": "stream",
          "name": "stdout",
          "text": [
            "Downloading images from from http://download.tensorflow.org/example_images/flower_photos.tgz.\n",
            "Images are located in flower_photos.\n"
          ]
        }
      ]
    },
    {
      "cell_type": "markdown",
      "metadata": {
        "id": "rn6Dp3DjkH5X"
      },
      "source": [
        "### **[1.3] Writing A Preprocessor Function For Preprocessing The Image Dataset**\n",
        "\n",
        "> Preprocessor is written to resize and normalize images using the cv2 library and then convert images to NumPy arrays."
      ]
    },
    {
      "cell_type": "code",
      "metadata": {
        "id": "PEhVimjpgkI4"
      },
      "source": [
        "def preprocessor(data, shape=(192, 192)):\n",
        "\n",
        "    # Resize a color image and min/max transform the image\n",
        "    img = cv2.imread(data) # read in image from filepath\n",
        "    img = cv2.cvtColor(img, cv2.COLOR_BGR2RGB) # cv2 reads in images in order of BGR, we convert the order to RGB\n",
        "    img = cv2.resize(img, shape) # change height and width of image\n",
        "    img = img / 255.0 # min/max transform\n",
        "\n",
        "    # Convert cv2 image to NumPy array\n",
        "    X = np.array(img) # converting to NumPy array\n",
        "    X = np.expand_dims(X, axis=0) # increase dimensions to convert object shape to [1, h, w, channels]\n",
        "    X = np.array(X, dtype=np.float32) # reduce precision for faster training and inferencing\n",
        "\n",
        "    return X"
      ],
      "execution_count": 4,
      "outputs": []
    },
    {
      "cell_type": "markdown",
      "metadata": {
        "id": "MrR8PwKQksgO"
      },
      "source": [
        "### **[1.4] Preprocessing The Entire Dataset And Getting Corresponding Image Labels**\n",
        "\n",
        "> Loop over all the image file paths and preprocess the images using the defined preprocessor function and store the returned NumPy arrays.\n",
        "> Store the labels of the images in a list with the index corresponding to the images in the sequence preprocessed."
      ]
    },
    {
      "cell_type": "code",
      "metadata": {
        "id": "T8I6iaRw_vpR"
      },
      "source": [
        "# Prepare a multidimensional array containing all the images after passing them through a preprocessor function\n",
        "def get_image_array(fnames):\n",
        "    image_list = []\n",
        "    for category in fnames:\n",
        "        for f in category:\n",
        "            image_list.append(preprocessor(f))\n",
        "    return np.vstack(image_list)\n",
        "\n",
        "# Prepare list of all the labels corresponding to the images in the multidimensional array\n",
        "def get_image_labels(fnames, categories):\n",
        "    y_labels = []\n",
        "    for category_list, category in zip(fnames, categories):\n",
        "        y_labels += [category] * len(category_list)\n",
        "    return pd.get_dummies(y_labels)\n",
        "\n",
        "X = get_image_array(fnames)\n",
        "y = get_image_labels(fnames, categories)"
      ],
      "execution_count": 5,
      "outputs": []
    },
    {
      "cell_type": "markdown",
      "metadata": {
        "id": "-S8zoFalk6gs"
      },
      "source": [
        "### **[1.5] Performing A Train Test Split**\n",
        "\n",
        "> Split the dataset into a train and test dataset to validate the model trained."
      ]
    },
    {
      "cell_type": "code",
      "metadata": {
        "id": "XsKJ1CNxxeDp"
      },
      "source": [
        "# train_test_split resized images\n",
        "from sklearn.model_selection import train_test_split\n",
        "X_train, X_test, y_train, y_test = train_test_split(X, y, stratify = y, test_size = 0.80, random_state = 1987)"
      ],
      "execution_count": 6,
      "outputs": []
    },
    {
      "cell_type": "markdown",
      "metadata": {
        "id": "-NA97qCzlFCo"
      },
      "source": [
        "### **[1.6] Training The Image Classification Model**\n",
        "\n",
        "> Build a deep convolutional neural network for image classification using TensorFlow."
      ]
    },
    {
      "cell_type": "code",
      "metadata": {
        "colab": {
          "base_uri": "https://localhost:8080/"
        },
        "id": "12DBEZMDCMD1",
        "outputId": "21954320-6a7e-4363-eca0-e2009098be10"
      },
      "source": [
        "from tensorflow.keras.models import Sequential\n",
        "from tensorflow.keras.layers import Dense, Activation, Flatten, Conv2D, MaxPooling2D\n",
        "                \n",
        "model = Sequential()\n",
        "\n",
        "model.add(Conv2D(filters=32, kernel_size=2, padding='same', activation='relu', input_shape=[192, 192, 3]))\n",
        "model.add(MaxPooling2D(pool_size=2))\n",
        "   \n",
        "model.add(Flatten())\n",
        "\n",
        "model.add(Dense(len(categories), activation='softmax'))\n",
        "\n",
        "# Compile model\n",
        "model.compile(loss='categorical_crossentropy', optimizer='adam', metrics=['accuracy'])\n",
        "\n",
        "# Fit the network to the train set and validate with test set\n",
        "hist = model.fit(X_train, y_train, validation_data=(X_test, y_test), epochs=1, verbose=1)"
      ],
      "execution_count": 7,
      "outputs": [
        {
          "output_type": "stream",
          "name": "stdout",
          "text": [
            "23/23 [==============================] - 29s 1s/step - loss: 15.0318 - accuracy: 0.2834 - val_loss: 8.1374 - val_accuracy: 0.3287\n"
          ]
        }
      ]
    },
    {
      "cell_type": "markdown",
      "metadata": {
        "id": "-00z-y6ElPaR"
      },
      "source": [
        "<a name=\"step-2\"></a>\n",
        "# **[2] Prepare Deployment Folder**\n",
        "\n",
        "> In this section, the user will store all the files and folders related to the trained model in a single folder. This folder will be known as the deployment folder and will be uploaded to AWS's serverless computing infrastructure. The steps to prepare the deployment folder consist of:\n",
        "> 1. Create Deployment Folder\n",
        "> 2. Save Model Metadata And Weights To Deployment Folder\n",
        "> 3. Write Inferencing Code And Save To Deployment Folder"
      ]
    },
    {
      "cell_type": "markdown",
      "metadata": {
        "id": "BOE_YRp4_3zU"
      },
      "source": [
        "### **[2.1] Create Deployment Folder**\n",
        "\n",
        "> Create a new folder with a suitable name to store all the required files and folders in."
      ]
    },
    {
      "cell_type": "code",
      "metadata": {
        "id": "u2aeBKlES0b0"
      },
      "source": [
        "deployment_folder = 'deploy'\n",
        "\n",
        "if os.path.isdir(deployment_folder):\n",
        "    shutil.rmtree(deployment_folder)\n",
        "os.mkdir(deployment_folder)"
      ],
      "execution_count": 8,
      "outputs": []
    },
    {
      "cell_type": "markdown",
      "metadata": {
        "id": "8o63hf9kAO8r"
      },
      "source": [
        "### **[2.2] Save Model Metadata And Weights To Deployment Folder**\n",
        "\n",
        "> User has many pathways of saving model metadata and weights based on preference of how they will load model and weights during inferencing. Here, we use the aimodelshare library to convert TensorFlow Keras model to ONNX model and save as a file in the deployment folder."
      ]
    },
    {
      "cell_type": "code",
      "metadata": {
        "id": "Ptdx-Z8u_2bl"
      },
      "source": [
        "# convert TensorFlow Keras model to ONNX model\n",
        "from aimodelshare.aimsonnx import model_to_onnx\n",
        "onnx_model = model_to_onnx(model,\n",
        "                           framework='keras',\n",
        "                           transfer_learning=False,\n",
        "                           deep_learning=True)\n",
        "\n",
        "# save the model to the deployment folder\n",
        "with open(os.path.join(deployment_folder, \"runtime_model.onnx\"), \"wb\") as f:\n",
        "    f.write(onnx_model.SerializeToString())"
      ],
      "execution_count": 9,
      "outputs": []
    },
    {
      "cell_type": "markdown",
      "metadata": {
        "id": "L3JbLynz-_UW"
      },
      "source": [
        "### **[2.3] Write Inferencing Code And Save To Deployment Folder**\n",
        "\n",
        "> Inferencing code will:\n",
        "> 1. Load the model into the global runtime environment\n",
        "> 2. Preprocess the input passed\n",
        "> 3. Pass preprocessed input to model and generate inference\n",
        "> 4. Return inference to function call\n",
        ">\n",
        "> We save this inferencing code in the deployment folder. The custom lambda handler will call the inferencing function and pass desired inputs as the parameters to the function in their required format.\n"
      ]
    },
    {
      "cell_type": "code",
      "metadata": {
        "id": "p9kH-Z6ySlA2"
      },
      "source": [
        "prediction_code = \"\"\"\n",
        "\n",
        "import onnxruntime as rt\n",
        "import cv2\n",
        "import numpy as np\n",
        "\n",
        "# load the ML model in global environment for faster inference time for subsequent function calls\n",
        "model_file_path = 'runtime_model.onnx'\n",
        "model = rt.InferenceSession('./' + model_file_path)\n",
        "\n",
        "# this is the preprocessor function \n",
        "def preprocessor(data, shape=(192, 192)):\n",
        "\n",
        "    # Resize a color image and min/max transform the image\n",
        "    img = cv2.imread(data) # read in image from filepath\n",
        "    img = cv2.cvtColor(img, cv2.COLOR_BGR2RGB) # cv2 reads in images in order of BGR, we convert the order to RGB\n",
        "    img = cv2.resize(img, shape) # change height and width of image\n",
        "    img = img / 255.0 # min/max transform\n",
        "\n",
        "    # Convert cv2 image to NumPy array\n",
        "    X = np.array(img) # converting to NumPy array\n",
        "    X = np.expand_dims(X, axis=0) # increase dimensions to convert object shape to [1, h, w, channels]\n",
        "    X = np.array(X, dtype=np.float32) # reduce precision for faster training and inferencing\n",
        "\n",
        "    return X\n",
        "\n",
        "def predict(image_path):\n",
        "\n",
        "    # labels corresponding to the index that is predicted\n",
        "    labels = ['daisy', 'dandelion', 'roses', 'sunflowers', 'tulips']\n",
        "\n",
        "    # preprocessing the input data\n",
        "    input_data = preprocessor(image_path)\n",
        "    \n",
        "    # generate prediction\n",
        "    input_name = model.get_inputs()[0].name\n",
        "    res = model.run(None, {input_name: input_data})\n",
        "    prob = res[0]\n",
        "\n",
        "    # map label to index with highest probability\n",
        "    index = prob.argmax(axis=-1)\n",
        "    result = list(map(lambda x: labels[x], index))\n",
        "\n",
        "    return result\n",
        "\n",
        "\"\"\""
      ],
      "execution_count": 10,
      "outputs": []
    },
    {
      "cell_type": "code",
      "metadata": {
        "id": "JYlUnrWF4jjq"
      },
      "source": [
        "with open(os.path.join(deployment_folder, \"predict.py\"), \"w\") as predict_file:\n",
        "    predict_file.writelines(prediction_code)"
      ],
      "execution_count": 11,
      "outputs": []
    },
    {
      "cell_type": "markdown",
      "metadata": {
        "id": "Dz6QRH-DfNRq"
      },
      "source": [
        "Great! Now that we have our custom deployment folder ready, we will proceed with all the steps for creating a custom lambda handler that will convert all the inputs into formats required by the prediction model."
      ]
    },
    {
      "cell_type": "code",
      "metadata": {
        "id": "kdEpIM5OTYHu"
      },
      "source": [],
      "execution_count": 11,
      "outputs": []
    },
    {
      "cell_type": "markdown",
      "metadata": {
        "id": "iPcmjUbATJ0l"
      },
      "source": [
        "<a name=\"step-3\"></a>\n",
        "# **[3] Define Input And Output JSON Formats**\n",
        "\n",
        "The input and output JSON structures should be specified by the user so that the specified input structure can be passed when the API calls are made and user can expect the specified output structure"
      ]
    },
    {
      "cell_type": "markdown",
      "metadata": {
        "id": "ov3syY-kf03-"
      },
      "source": [
        "This is the JSON structure template accessed using the 'body' key that the handler is expecting as specified by the user. Users can specify one or more key value pairs. There can be multiple types of values in the same JSON structure.\n",
        "\n",
        "```\n",
        "{\n",
        "    \"body\": {\n",
        "        \"sample_key_1\": \"string\",\n",
        "        \"sample_key_2\": number,\n",
        "        \"sample_key_3\": JSON object\n",
        "    }\n",
        "}\n",
        "```"
      ]
    },
    {
      "cell_type": "markdown",
      "metadata": {
        "id": "pxaGPQpcUC70"
      },
      "source": [
        "The JSON structure we are using here has 'data' as the key and its value is in the form of a string:"
      ]
    },
    {
      "cell_type": "code",
      "metadata": {
        "id": "oPjiE_pRfyHJ"
      },
      "source": [
        "input_json_exampledata = {\n",
        "         \"data\": \"base64 encoded string\"\n",
        "    }"
      ],
      "execution_count": 12,
      "outputs": []
    },
    {
      "cell_type": "markdown",
      "metadata": {
        "id": "ZmZEhs54gL1_"
      },
      "source": [
        "This is the list structure template returned to the 'body' key that the handler passes back to the function call. Users can return one or more values in the list. There can be multiple types of values in the same list.\n",
        "\n",
        "```\n",
        "{\n",
        "    \"body\": [\"string_1\", integer_2, [\"string_3\", integer_4], [\"string_5\"], [integer_6]]\n",
        "}\n",
        "```"
      ]
    },
    {
      "cell_type": "markdown",
      "metadata": {
        "id": "NPciNXa9UGng"
      },
      "source": [
        "The list structure we are using here contains a list having just one string label:"
      ]
    },
    {
      "cell_type": "code",
      "metadata": {
        "id": "3XY2Ha7HgYQt"
      },
      "source": [
        "output_json_exampledata = {\n",
        "     [\"label\"]\n",
        "}"
      ],
      "execution_count": 13,
      "outputs": []
    },
    {
      "cell_type": "markdown",
      "metadata": {
        "id": "XQsYZcRngqK8"
      },
      "source": [
        "<a name=\"step-4\"></a>\n",
        "# **[4] Write Custom Lambda Handler**\n",
        "\n",
        "Now that we have defined our input and output JSON structures, we will write a custom lambda handler that will convert the specified JSON input into the formats required by the model for inferencing, and convert the result into the specified JSON output format."
      ]
    },
    {
      "cell_type": "markdown",
      "metadata": {
        "id": "ir2LcWyQM66k"
      },
      "source": [
        "\n",
        "### **Template:**\n",
        "\n",
        "*Import all the required libraries.*\n",
        "\n",
        "```\n",
        "import numpy as np\n",
        "import pandas as pd\n",
        "```\n",
        "\n",
        "*Import the name of the inference function to be called from the file with its relative path (the inference function 'predict_function' is accessed from a 'predict.py' file which is in a folder 'prediction_folder').*\n",
        "\n",
        "```\n",
        "from prediction_folder.predict import predict_funciton\n",
        "```\n",
        "\n",
        "*Now we define the handler (the function name must be 'handler' for the deployment to work).*\n",
        "\n",
        "```\n",
        "def handler(event, context):\n",
        "```\n",
        "\n",
        "*Contents of 'body' key is a string, we convert the content to a JSON object.*\n",
        "\n",
        "```\n",
        "    body = event['body']\n",
        "    if isinstance(body, six.string_types):\n",
        "        body = json.loads(body)\n",
        "```\n",
        "\n",
        "*Based on the user-specified JSON objects, we can access particular values using user-specified keys).*\n",
        "\n",
        "```\n",
        "    sample_string = body['sample_key_1']\n",
        "    sample_number = body['sample_key_2']\n",
        "    sample_json_object = body['sample_key_3]\n",
        "```\n",
        "\n",
        "*Now we convert all the values into the formats required by the model.*\n",
        "\n",
        "```\n",
        "    decoded_string = decode_string(sample_string)\n",
        "    dataframe = dataframe_from_dict(sample_json_object)\n",
        "```\n",
        "\n",
        "*If the inference model requires path to the data instead of the actual data, save the data to the '/tmp' folder. Temporary data cannot be saved/stored anywhere else during the function call.*\n",
        "\n",
        "```\n",
        "    temp_string_file = \"/tmp/temp_string_file\"\n",
        "    with open(temp_string_file, \"w\") as fh:\n",
        "        fh.write(decoded_string)\n",
        "\n",
        "    temp_dataframe_file = \"/tmp/temp_dataframe_file\"\n",
        "    with open(temp_dataframe_file, \"w\") as fh:\n",
        "        fh.write(dataframe)\n",
        "```\n",
        "\n",
        "*Pass all the required arguments to the imported inference function and store the output in a variable.*\n",
        "\n",
        "```\n",
        "    result = predict(temp_string_file, temp_dataframe_file)\n",
        "```\n",
        "\n",
        "*Convert the result back into format that the handler can serialize if required.*\n",
        "\n",
        "```\n",
        "    result = encode_string(result)\n",
        "```\n",
        "\n",
        "*Delete any temporary files created by the user that are needed for inferencing.*\n",
        "\n",
        "```\n",
        "    os.remove(temp_string_file)\n",
        "    os.remove(temp_dataframe_file)\n",
        "```\n",
        "\n",
        "*Return the result in the acceptable format back to the handler call.*\n",
        "\n",
        "```\n",
        "    return result\n",
        "```"
      ]
    },
    {
      "cell_type": "markdown",
      "metadata": {
        "id": "az8DAdWSUK-O"
      },
      "source": [
        "### **Custom Lambda Handler Example For Image Classificaiton**\n",
        "\n",
        "> This custom lambda handler does the following tasks:\n",
        "> 1. Converting input string into JSON object\n",
        "> 2. Fetching required values through corresponding keys\n",
        "> 3. Converting values into the specified input data types for inferencing using the inference function\n",
        "> 4. Converting values returned by inference function back into specified output data types\n",
        "> 5. Return specified output values back to function call"
      ]
    },
    {
      "cell_type": "code",
      "metadata": {
        "id": "gRsNO5pua_6n"
      },
      "source": [
        "custom_lambda_handler_code = \"\"\"\n",
        "\n",
        "# Importing all the required libraries\n",
        "import numpy as np\n",
        "import pandas as pd\n",
        "import os\n",
        "import six\n",
        "import imghdr\n",
        "import base64\n",
        "import json\n",
        "\n",
        "# Importing the predict function from the predict.py file\n",
        "from predict import predict\n",
        "\n",
        "def handler(event, context):\n",
        "\n",
        "    # Contents of 'body' key is string, converting content to JSON object\n",
        "    body = event['body']\n",
        "    if isinstance(body, six.string_types):\n",
        "        body = json.loads(body)\n",
        "\n",
        "    # Fetching image in the form of a base64 encoded string stored within 'data' key of body\n",
        "    data = body['data']\n",
        "\n",
        "    # Decoding base64 encoded string into required data type\n",
        "    sample = base64.b64decode(data)\n",
        "\n",
        "    # Predict function requires path to image file as argument, saving data to file\n",
        "    temp_file = \"/tmp/temp_file\"\n",
        "    with open(temp_file, \"wb\") as fh:\n",
        "        fh.write(sample)\n",
        "\n",
        "    # Calling the  predict function\n",
        "    result = predict(temp_file)\n",
        "\n",
        "    # Deleting the image file created by the user for prediction\n",
        "    os.remove(temp_file)\n",
        "\n",
        "    # Returning the list with the label\n",
        "    return result\n",
        "\n",
        "\"\"\""
      ],
      "execution_count": 14,
      "outputs": []
    },
    {
      "cell_type": "code",
      "metadata": {
        "id": "PCSum_Or4mLk"
      },
      "source": [
        "with open(\"custom_lambda_handler.py\", \"w\") as handler_file:\n",
        "    handler_file.writelines(custom_lambda_handler_code)"
      ],
      "execution_count": 15,
      "outputs": []
    },
    {
      "cell_type": "markdown",
      "metadata": {
        "id": "9BbJG9VJVjIz"
      },
      "source": [
        "<a name=\"step-5\"></a>\n",
        "# **[5] Deploy Model On AWS Using AI Model Share Initiative's aimodelshare Library**\n",
        "\n",
        "> We have finally finished modifying the deployment folder. Now we can use the aimodelshare library to deploy our model on AWS's serverless computing infrastructure and generate an API endpoint. To do so, we will be required to do the following:\n",
        "> 1. Setting AWS Credentials\n",
        "> 2. Deploying Model"
      ]
    },
    {
      "cell_type": "markdown",
      "metadata": {
        "id": "xrTnCy6gaTiX"
      },
      "source": [
        "### **[5.1] Setting AWS Credentials**\n",
        "\n",
        "> The path to the user's AWS credentials, credentials.txt, should be passed as the parameter to set_credentials function."
      ]
    },
    {
      "cell_type": "code",
      "metadata": {
        "id": "9RMevbALaEvS",
        "colab": {
          "base_uri": "https://localhost:8080/"
        },
        "outputId": "56105925-1352-4b61-81eb-149d7cec4b17"
      },
      "source": [
        "from aimodelshare.aws import set_credentials\n",
        "set_credentials(credential_file=\"credentials.txt\", type=\"deploy_model\", manual=False)"
      ],
      "execution_count": 16,
      "outputs": [
        {
          "output_type": "stream",
          "name": "stdout",
          "text": [
            "AI Model Share login credentials set successfully.\n",
            "AWS credentials set successfully.\n"
          ]
        }
      ]
    },
    {
      "cell_type": "markdown",
      "metadata": {
        "id": "yQxhUiJcapsZ"
      },
      "source": [
        "### **[5.2] Deploying Model**\n",
        "\n",
        "> Once the credentials have been set, deploy_custom_lambda function should be called with the required parameters. Parameters:\n",
        "> 1. input_json_exampldata: the format of the JSON input\n",
        "> 2. output_json_exampldata: the format of the JSON output\n",
        "> 3. custom_lambda_filepath: the relative path of the custom lambda handler file\n",
        "> 4. deployment_dir: the deployment folder's relative path\n",
        "> 5. custom_libraries: all the libraries required for running the model"
      ]
    },
    {
      "cell_type": "code",
      "metadata": {
        "id": "YrgP1_VCVIZF"
      },
      "source": [
        "custom_lambda_filepath = \"custom_lambda_handler.py\"\n",
        "deployment_dir = \"deploy\"\n",
        "private = \"FALSE\"\n",
        "custom_libraries = \"onnxruntime,opencv-python,numpy,pandas,pillow\"\n",
        "\n",
        "from aimodelshare.deploy_custom_lambda import deploy_custom_lambda\n",
        "deploy_custom_lambda(input_json_exampledata,\n",
        "                     output_json_exampledata,\n",
        "                     custom_lambda_filepath,\n",
        "                     deployment_dir,\n",
        "                     private,\n",
        "                     custom_libraries=custom_libraries)"
      ],
      "execution_count": null,
      "outputs": []
    },
    {
      "cell_type": "markdown",
      "metadata": {
        "id": "8tLqOqMcBU_L"
      },
      "source": [
        "Test Lambda using this:"
      ]
    },
    {
      "cell_type": "code",
      "metadata": {
        "id": "Q8qHm1UZVIWO"
      },
      "source": [
        "body={\n",
        "      \"data\": \"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\"\n",
        "  }\n"
      ],
      "execution_count": 21,
      "outputs": []
    },
    {
      "cell_type": "code",
      "metadata": {
        "id": "T9X3XR09a_sz",
        "colab": {
          "base_uri": "https://localhost:8080/"
        },
        "outputId": "f5735551-96a9-456c-af47-eff154407537"
      },
      "source": [
        "import requests\n",
        "import json\n",
        "\n",
        "data = json.dumps(body)\n",
        "api_url = \"your new rest api here\"\n",
        "\n",
        "headers = {\"Content-Type\": \"application/json\", \"authorizationToken\": \"your token here\" }\n",
        "\n",
        "prediction = requests.request(\"POST\", api_url, headers = headers, data=data)\n",
        "print(prediction.text.encode(\"utf-8\"))"
      ],
      "execution_count": 22,
      "outputs": [
        {
          "output_type": "stream",
          "name": "stdout",
          "text": [
            "b'[\"tulips\"]'\n"
          ]
        }
      ]
    }
  ]
}