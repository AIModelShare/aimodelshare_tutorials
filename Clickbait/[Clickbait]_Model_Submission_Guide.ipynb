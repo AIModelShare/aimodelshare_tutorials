{
  "nbformat": 4,
  "nbformat_minor": 0,
  "metadata": {
    "colab": {
      "name": "[Clickbait] Model Submission Guide.ipynb",
      "provenance": [],
      "collapsed_sections": []
    },
    "kernelspec": {
      "name": "python3",
      "display_name": "Python 3"
    },
    "language_info": {
      "name": "python"
    }
  },
  "cells": [
    {
      "cell_type": "markdown",
      "source": [
        "<p align=\"center\"><img width=\"50%\" src=\"https://aimodelsharecontent.s3.amazonaws.com/aimodshare_banner.jpg\" /></p>\n",
        "\n",
        "\n",
        "---"
      ],
      "metadata": {
        "id": "vVFTG0FjBykl"
      }
    },
    {
      "cell_type": "markdown",
      "metadata": {
        "id": "JXxGTgJz152A"
      },
      "source": [
        "<p align=\"center\"><h1 align=\"center\">Quick Start: Clickbait Detection Text Classification Tutorial</h1> \n",
        "\n",
        "##### <p align=\"center\">*Dataset Adapted From: Abhijnan Chakraborty, Bhargavi Paranjape, Sourya Kakarla, and Niloy Ganguly. \"Stop Clickbait: Detecting and Preventing Clickbaits in Online News Media”. In Proceedings of the 2016 IEEE/ACM International Conference on Advances in Social Networks Analysis and Mining (ASONAM), San Fransisco, US, August 2016.* \n",
        "---\n",
        "\n",
        "**Instructions:**\n",
        "1.   Get data in and set up X_train / X_test / y_train\n",
        "2.   Preprocess data using keras Tokenizer/ Write and Save Preprocessor function\n",
        "3. Fit model on preprocessed data and save preprocessor function and model \n",
        "4. Generate predictions from X_test data and submit model to competition\n",
        "5. Repeat submission process to improve place on leaderboard\n",
        "\n"
      ]
    },
    {
      "cell_type": "markdown",
      "metadata": {
        "id": "5gSrVJwp3E9H"
      },
      "source": [
        "## 1. Get data in and set up X_train, X_test, y_train objects"
      ]
    },
    {
      "cell_type": "code",
      "metadata": {
        "id": "PLTIaMB3ChSW"
      },
      "source": [
        "#install aimodelshare library\n",
        "! pip install aimodelshare --upgrade"
      ],
      "execution_count": null,
      "outputs": []
    },
    {
      "cell_type": "code",
      "metadata": {
        "colab": {
          "base_uri": "https://localhost:8080/"
        },
        "id": "d3PiJXBhC5y-",
        "outputId": "ef91dbed-f077-4d06-ef68-5e05d5b91f9c"
      },
      "source": [
        "# Get competition data\n",
        "from aimodelshare import download_data\n",
        "download_data('public.ecr.aws/y2e2a1d6/clickbait_competition_data-repository:latest') "
      ],
      "execution_count": 2,
      "outputs": [
        {
          "output_type": "stream",
          "name": "stdout",
          "text": [
            "Downloading [==============================================>  ]\n",
            "\n",
            "Data downloaded successfully.\n"
          ]
        }
      ]
    },
    {
      "cell_type": "code",
      "metadata": {
        "colab": {
          "base_uri": "https://localhost:8080/"
        },
        "id": "jT0qFCZFNzHq",
        "outputId": "31887bd0-8adc-4173-9c25-84ec189a292d"
      },
      "source": [
        "# Set up X_train, X_test, and y_train_labels objects\n",
        "import pandas as pd\n",
        "X_train=pd.read_csv(\"clickbait_competition_data/X_train.csv\", squeeze=True)\n",
        "X_test=pd.read_csv(\"clickbait_competition_data/X_test.csv\", squeeze=True)\n",
        "\n",
        "y_train_labels=pd.read_csv(\"clickbait_competition_data/y_train.csv\", squeeze=True)\n",
        "\n",
        "# ohe encode Y data\n",
        "y_train = pd.get_dummies(y_train_labels)\n",
        "\n",
        "X_train.head()"
      ],
      "execution_count": 3,
      "outputs": [
        {
          "output_type": "execute_result",
          "data": {
            "text/plain": [
              "0       MyBook Disk Drive Handles Lots of Easy Backups\n",
              "1                       CIT Posts Eighth Loss in a Row\n",
              "2    Candy Carson Singing The \"National Anthem\" Is ...\n",
              "3    Why You Need To Stop What You're Doing And Dat...\n",
              "4    27 Times Adele Proved She's Actually The Reale...\n",
              "Name: headline, dtype: object"
            ]
          },
          "metadata": {},
          "execution_count": 3
        }
      ]
    },
    {
      "cell_type": "markdown",
      "metadata": {
        "id": "gEzPoXPj3V7u"
      },
      "source": [
        "##2.   Preprocess data using keras tokenizer / Write and Save Preprocessor function\n"
      ]
    },
    {
      "cell_type": "code",
      "metadata": {
        "id": "16QV9Y9TC3B3"
      },
      "source": [
        "# This preprocessor function makes use of the tf.keras tokenizer\n",
        "\n",
        "from tensorflow.keras.preprocessing.text import Tokenizer\n",
        "from tensorflow.keras.preprocessing.sequence import pad_sequences\n",
        "import numpy as np\n",
        "\n",
        "# Build vocabulary from training text data\n",
        "tokenizer = Tokenizer(num_words=10000)\n",
        "tokenizer.fit_on_texts(X_train)\n",
        "\n",
        "# preprocessor tokenizes words and makes sure all documents have the same length\n",
        "def preprocessor(data, maxlen=40, max_words=10000):\n",
        "\n",
        "    sequences = tokenizer.texts_to_sequences(data)\n",
        "\n",
        "    word_index = tokenizer.word_index\n",
        "    X = pad_sequences(sequences, maxlen=maxlen)\n",
        "\n",
        "    return X"
      ],
      "execution_count": 4,
      "outputs": []
    },
    {
      "cell_type": "code",
      "source": [
        "# Check shape of data preproprecessed using your new preprocessor() function\n",
        "print(preprocessor(X_train, maxlen=40, max_words=10000).shape)\n",
        "print(preprocessor(X_test, maxlen=40, max_words=10000).shape)"
      ],
      "metadata": {
        "colab": {
          "base_uri": "https://localhost:8080/"
        },
        "id": "Si0L2hSJcd-5",
        "outputId": "0baaa5ad-5c24-4180-c697-dfbf69949b73"
      },
      "execution_count": 5,
      "outputs": [
        {
          "output_type": "stream",
          "name": "stdout",
          "text": [
            "(24979, 40)\n",
            "(6245, 40)\n"
          ]
        }
      ]
    },
    {
      "cell_type": "markdown",
      "metadata": {
        "id": "X52kECL43b-O"
      },
      "source": [
        "##3. Fit model on preprocessed data and save preprocessor function and model \n"
      ]
    },
    {
      "cell_type": "code",
      "metadata": {
        "colab": {
          "base_uri": "https://localhost:8080/"
        },
        "id": "NCbBf8j9ClYl",
        "outputId": "c413506a-afa3-4822-ce11-d842f65bc51b"
      },
      "source": [
        "from tensorflow.keras.layers import Dense, Embedding,Flatten\n",
        "from tensorflow.keras.models import Sequential\n",
        "\n",
        "model = Sequential()\n",
        "model.add(Embedding(10000, 16, input_length=40))\n",
        "model.add(Flatten())\n",
        "model.add(Dense(2, activation='softmax'))\n",
        "model.summary()\n",
        "\n",
        "model.compile(optimizer='rmsprop', loss='categorical_crossentropy', metrics=['acc'])\n",
        "\n",
        "history = model.fit(preprocessor(X_train), y_train,\n",
        "                    epochs=1,\n",
        "                    batch_size=32,\n",
        "                    validation_split=0.2)"
      ],
      "execution_count": 6,
      "outputs": [
        {
          "output_type": "stream",
          "name": "stdout",
          "text": [
            "Model: \"sequential\"\n",
            "_________________________________________________________________\n",
            " Layer (type)                Output Shape              Param #   \n",
            "=================================================================\n",
            " embedding (Embedding)       (None, 40, 16)            160000    \n",
            "                                                                 \n",
            " flatten (Flatten)           (None, 640)               0         \n",
            "                                                                 \n",
            " dense (Dense)               (None, 2)                 1282      \n",
            "                                                                 \n",
            "=================================================================\n",
            "Total params: 161,282\n",
            "Trainable params: 161,282\n",
            "Non-trainable params: 0\n",
            "_________________________________________________________________\n",
            "625/625 [==============================] - 7s 8ms/step - loss: 0.2937 - acc: 0.8899 - val_loss: 0.1232 - val_acc: 0.9558\n"
          ]
        }
      ]
    },
    {
      "cell_type": "markdown",
      "metadata": {
        "id": "zmJAnmO-5AcU"
      },
      "source": [
        "#### Save preprocessor function to local \"preprocessor.zip\" file"
      ]
    },
    {
      "cell_type": "code",
      "metadata": {
        "colab": {
          "base_uri": "https://localhost:8080/"
        },
        "id": "4VGacc0LDaMA",
        "outputId": "ebbe1e6d-55cc-4da2-b3f8-5a5b289ad02d"
      },
      "source": [
        "import aimodelshare as ai\n",
        "ai.export_preprocessor(preprocessor,\"\") "
      ],
      "execution_count": 7,
      "outputs": [
        {
          "output_type": "stream",
          "name": "stdout",
          "text": [
            "Your preprocessor is now saved to 'preprocessor.zip'\n"
          ]
        }
      ]
    },
    {
      "cell_type": "markdown",
      "metadata": {
        "id": "oOWBa8Cv5LdL"
      },
      "source": [
        "#### Save model to local \".onnx\" file"
      ]
    },
    {
      "cell_type": "code",
      "metadata": {
        "id": "pEhvnRiQDlY5"
      },
      "source": [
        "# Save keras model to local ONNX file\n",
        "from aimodelshare.aimsonnx import model_to_onnx\n",
        "\n",
        "onnx_model = model_to_onnx(model, framework='keras',\n",
        "                          transfer_learning=False,\n",
        "                          deep_learning=True)\n",
        "\n",
        "with open(\"model.onnx\", \"wb\") as f:\n",
        "    f.write(onnx_model.SerializeToString())"
      ],
      "execution_count": 8,
      "outputs": []
    },
    {
      "cell_type": "markdown",
      "metadata": {
        "id": "gHWkAzvX3m8O"
      },
      "source": [
        "## 4. Generate predictions from X_test data and submit model to competition\n"
      ]
    },
    {
      "cell_type": "code",
      "metadata": {
        "colab": {
          "base_uri": "https://localhost:8080/"
        },
        "id": "RtgkM02MDpkO",
        "outputId": "77eecee4-a450-440a-802f-afae8342e74b"
      },
      "source": [
        "#Set credentials using modelshare.org username/password\n",
        "\n",
        "from aimodelshare.aws import set_credentials\n",
        "    \n",
        "apiurl=\"https://jr8xcbog4a.execute-api.us-east-1.amazonaws.com/prod/m\" #This is the unique rest api that powers this Clickbait Identification Playground\n",
        "\n",
        "set_credentials(apiurl=apiurl)"
      ],
      "execution_count": 9,
      "outputs": [
        {
          "output_type": "stream",
          "name": "stdout",
          "text": [
            "AI Modelshare Username:··········\n",
            "AI Modelshare Password:··········\n",
            "AI Model Share login credentials set successfully.\n"
          ]
        }
      ]
    },
    {
      "cell_type": "code",
      "metadata": {
        "id": "fKNGSww8EGgi"
      },
      "source": [
        "#Instantiate Competition\n",
        "\n",
        "mycompetition= ai.Competition(apiurl)"
      ],
      "execution_count": 10,
      "outputs": []
    },
    {
      "cell_type": "code",
      "metadata": {
        "id": "_Ql4wksyEUnP",
        "colab": {
          "base_uri": "https://localhost:8080/"
        },
        "outputId": "7f9cf0b3-b3f6-46c4-bbb4-65ef499ebfb4"
      },
      "source": [
        "#Submit Model 1: \n",
        "\n",
        "#-- Generate predicted y values (Model 1)\n",
        "#Note: Keras predict returns the predicted column index location for classification models\n",
        "prediction_column_index=model.predict(preprocessor(X_test)).argmax(axis=1)\n",
        "\n",
        "# extract correct prediction labels \n",
        "prediction_labels = [y_train.columns[i] for i in prediction_column_index]\n",
        "\n",
        "# Submit Model 1 to Competition Leaderboard\n",
        "mycompetition.submit_model(model_filepath = \"model.onnx\",\n",
        "                                 preprocessor_filepath=\"preprocessor.zip\",\n",
        "                                 prediction_submission=prediction_labels)"
      ],
      "execution_count": 11,
      "outputs": [
        {
          "output_type": "stream",
          "name": "stdout",
          "text": [
            "Insert search tags to help users find your model (optional): \n",
            "Provide any useful notes about your model (optional): \n",
            "\n",
            "Your model has been submitted as model version 3\n",
            "\n",
            "To submit code used to create this model or to view current leaderboard navigate to Model Playground: \n",
            "\n",
            " https://www.modelshare.org/detail/model:1668\n"
          ]
        }
      ]
    },
    {
      "cell_type": "code",
      "metadata": {
        "colab": {
          "base_uri": "https://localhost:8080/",
          "height": 138
        },
        "id": "GN1zvAmNEq17",
        "outputId": "88d46155-2158-4338-fd36-26a04984278b"
      },
      "source": [
        "# Get leaderboard to explore current best model architectures\n",
        "\n",
        "# Get raw data in pandas data frame\n",
        "data = mycompetition.get_leaderboard()\n",
        "\n",
        "# Stylize leaderboard data\n",
        "mycompetition.stylize_leaderboard(data)"
      ],
      "execution_count": 12,
      "outputs": [
        {
          "output_type": "execute_result",
          "data": {
            "text/plain": [
              "<pandas.io.formats.style.Styler at 0x7f63226530d0>"
            ],
            "text/html": [
              "<style type=\"text/css\">\n",
              "#T_0abe9_row0_col0 {\n",
              "  text-align: center;\n",
              "  width: 10em;\n",
              "  height: 80%;\n",
              "  background: linear-gradient(90deg,#f5f8d6 97.0%, transparent 97.0%);\n",
              "  color: #251e1b;\n",
              "  font-size: 12px;\n",
              "}\n",
              "#T_0abe9_row0_col1 {\n",
              "  text-align: center;\n",
              "  width: 10em;\n",
              "  height: 80%;\n",
              "  background: linear-gradient(90deg,#c778c8 97.0%, transparent 97.0%);\n",
              "  color: #251e1b;\n",
              "  font-size: 12px;\n",
              "}\n",
              "#T_0abe9_row0_col2 {\n",
              "  text-align: center;\n",
              "  width: 10em;\n",
              "  height: 80%;\n",
              "  background: linear-gradient(90deg,#ff4971 97.0%, transparent 97.0%);\n",
              "  color: #251e1b;\n",
              "  font-size: 12px;\n",
              "}\n",
              "#T_0abe9_row0_col3 {\n",
              "  text-align: center;\n",
              "  width: 10em;\n",
              "  height: 80%;\n",
              "  background: linear-gradient(90deg,#aadbaa 97.0%, transparent 97.0%);\n",
              "  color: #251e1b;\n",
              "  font-size: 12px;\n",
              "}\n",
              "#T_0abe9_row0_col4, #T_0abe9_row0_col5, #T_0abe9_row0_col6, #T_0abe9_row0_col7, #T_0abe9_row0_col8, #T_0abe9_row0_col9, #T_0abe9_row0_col10, #T_0abe9_row0_col11, #T_0abe9_row0_col12, #T_0abe9_row0_col13, #T_0abe9_row0_col14, #T_0abe9_row0_col15, #T_0abe9_row0_col16, #T_0abe9_row0_col17, #T_0abe9_row0_col18, #T_0abe9_row0_col19, #T_0abe9_row0_col20, #T_0abe9_row0_col21, #T_0abe9_row1_col4, #T_0abe9_row1_col5, #T_0abe9_row1_col6, #T_0abe9_row1_col7, #T_0abe9_row1_col8, #T_0abe9_row1_col9, #T_0abe9_row1_col10, #T_0abe9_row1_col11, #T_0abe9_row1_col12, #T_0abe9_row1_col13, #T_0abe9_row1_col14, #T_0abe9_row1_col15, #T_0abe9_row1_col16, #T_0abe9_row1_col17, #T_0abe9_row1_col18, #T_0abe9_row1_col19, #T_0abe9_row1_col20, #T_0abe9_row1_col21, #T_0abe9_row2_col4, #T_0abe9_row2_col5, #T_0abe9_row2_col6, #T_0abe9_row2_col7, #T_0abe9_row2_col8, #T_0abe9_row2_col9, #T_0abe9_row2_col10, #T_0abe9_row2_col11, #T_0abe9_row2_col12, #T_0abe9_row2_col13, #T_0abe9_row2_col14, #T_0abe9_row2_col15, #T_0abe9_row2_col16, #T_0abe9_row2_col17, #T_0abe9_row2_col18, #T_0abe9_row2_col19, #T_0abe9_row2_col20, #T_0abe9_row2_col21 {\n",
              "  text-align: center;\n",
              "}\n",
              "#T_0abe9_row1_col0 {\n",
              "  text-align: center;\n",
              "  width: 10em;\n",
              "  height: 80%;\n",
              "  background: linear-gradient(90deg,#f5f8d6 96.6%, transparent 96.6%);\n",
              "  color: #251e1b;\n",
              "  font-size: 12px;\n",
              "}\n",
              "#T_0abe9_row1_col1 {\n",
              "  text-align: center;\n",
              "  width: 10em;\n",
              "  height: 80%;\n",
              "  background: linear-gradient(90deg,#c778c8 96.6%, transparent 96.6%);\n",
              "  color: #251e1b;\n",
              "  font-size: 12px;\n",
              "}\n",
              "#T_0abe9_row1_col2 {\n",
              "  text-align: center;\n",
              "  width: 10em;\n",
              "  height: 80%;\n",
              "  background: linear-gradient(90deg,#ff4971 96.6%, transparent 96.6%);\n",
              "  color: #251e1b;\n",
              "  font-size: 12px;\n",
              "}\n",
              "#T_0abe9_row1_col3 {\n",
              "  text-align: center;\n",
              "  width: 10em;\n",
              "  height: 80%;\n",
              "  background: linear-gradient(90deg,#aadbaa 96.5%, transparent 96.5%);\n",
              "  color: #251e1b;\n",
              "  font-size: 12px;\n",
              "}\n",
              "#T_0abe9_row2_col0 {\n",
              "  text-align: center;\n",
              "  width: 10em;\n",
              "  height: 80%;\n",
              "  background: linear-gradient(90deg,#f5f8d6 78.9%, transparent 78.9%);\n",
              "  color: #251e1b;\n",
              "  font-size: 12px;\n",
              "}\n",
              "#T_0abe9_row2_col1 {\n",
              "  text-align: center;\n",
              "  width: 10em;\n",
              "  height: 80%;\n",
              "  background: linear-gradient(90deg,#c778c8 78.9%, transparent 78.9%);\n",
              "  color: #251e1b;\n",
              "  font-size: 12px;\n",
              "}\n",
              "#T_0abe9_row2_col2 {\n",
              "  text-align: center;\n",
              "  width: 10em;\n",
              "  height: 80%;\n",
              "  background: linear-gradient(90deg,#ff4971 79.7%, transparent 79.7%);\n",
              "  color: #251e1b;\n",
              "  font-size: 12px;\n",
              "}\n",
              "#T_0abe9_row2_col3 {\n",
              "  text-align: center;\n",
              "  width: 10em;\n",
              "  height: 80%;\n",
              "  background: linear-gradient(90deg,#aadbaa 79.2%, transparent 79.2%);\n",
              "  color: #251e1b;\n",
              "  font-size: 12px;\n",
              "}\n",
              "</style>\n",
              "<table id=\"T_0abe9_\" class=\"dataframe\">\n",
              "  <thead>\n",
              "    <tr>\n",
              "      <th class=\"blank level0\" >&nbsp;</th>\n",
              "      <th class=\"col_heading level0 col0\" >accuracy</th>\n",
              "      <th class=\"col_heading level0 col1\" >f1_score</th>\n",
              "      <th class=\"col_heading level0 col2\" >precision</th>\n",
              "      <th class=\"col_heading level0 col3\" >recall</th>\n",
              "      <th class=\"col_heading level0 col4\" >ml_framework</th>\n",
              "      <th class=\"col_heading level0 col5\" >transfer_learning</th>\n",
              "      <th class=\"col_heading level0 col6\" >deep_learning</th>\n",
              "      <th class=\"col_heading level0 col7\" >model_type</th>\n",
              "      <th class=\"col_heading level0 col8\" >depth</th>\n",
              "      <th class=\"col_heading level0 col9\" >num_params</th>\n",
              "      <th class=\"col_heading level0 col10\" >flatten_layers</th>\n",
              "      <th class=\"col_heading level0 col11\" >embedding_layers</th>\n",
              "      <th class=\"col_heading level0 col12\" >bidirectional_layers</th>\n",
              "      <th class=\"col_heading level0 col13\" >dense_layers</th>\n",
              "      <th class=\"col_heading level0 col14\" >lstm_layers</th>\n",
              "      <th class=\"col_heading level0 col15\" >tanh_act</th>\n",
              "      <th class=\"col_heading level0 col16\" >softmax_act</th>\n",
              "      <th class=\"col_heading level0 col17\" >loss</th>\n",
              "      <th class=\"col_heading level0 col18\" >optimizer</th>\n",
              "      <th class=\"col_heading level0 col19\" >memory_size</th>\n",
              "      <th class=\"col_heading level0 col20\" >username</th>\n",
              "      <th class=\"col_heading level0 col21\" >version</th>\n",
              "    </tr>\n",
              "  </thead>\n",
              "  <tbody>\n",
              "    <tr>\n",
              "      <th id=\"T_0abe9_level0_row0\" class=\"row_heading level0 row0\" >0</th>\n",
              "      <td id=\"T_0abe9_row0_col0\" class=\"data row0 col0\" >97.02%</td>\n",
              "      <td id=\"T_0abe9_row0_col1\" class=\"data row0 col1\" >97.02%</td>\n",
              "      <td id=\"T_0abe9_row0_col2\" class=\"data row0 col2\" >97.01%</td>\n",
              "      <td id=\"T_0abe9_row0_col3\" class=\"data row0 col3\" >97.03%</td>\n",
              "      <td id=\"T_0abe9_row0_col4\" class=\"data row0 col4\" >keras</td>\n",
              "      <td id=\"T_0abe9_row0_col5\" class=\"data row0 col5\" >False</td>\n",
              "      <td id=\"T_0abe9_row0_col6\" class=\"data row0 col6\" >True</td>\n",
              "      <td id=\"T_0abe9_row0_col7\" class=\"data row0 col7\" >Sequential</td>\n",
              "      <td id=\"T_0abe9_row0_col8\" class=\"data row0 col8\" >5</td>\n",
              "      <td id=\"T_0abe9_row0_col9\" class=\"data row0 col9\" >174658</td>\n",
              "      <td id=\"T_0abe9_row0_col10\" class=\"data row0 col10\" >1.000000</td>\n",
              "      <td id=\"T_0abe9_row0_col11\" class=\"data row0 col11\" >1</td>\n",
              "      <td id=\"T_0abe9_row0_col12\" class=\"data row0 col12\" >nan</td>\n",
              "      <td id=\"T_0abe9_row0_col13\" class=\"data row0 col13\" >1</td>\n",
              "      <td id=\"T_0abe9_row0_col14\" class=\"data row0 col14\" >2.000000</td>\n",
              "      <td id=\"T_0abe9_row0_col15\" class=\"data row0 col15\" >2.000000</td>\n",
              "      <td id=\"T_0abe9_row0_col16\" class=\"data row0 col16\" >1</td>\n",
              "      <td id=\"T_0abe9_row0_col17\" class=\"data row0 col17\" >function</td>\n",
              "      <td id=\"T_0abe9_row0_col18\" class=\"data row0 col18\" >RMSprop</td>\n",
              "      <td id=\"T_0abe9_row0_col19\" class=\"data row0 col19\" >2210688</td>\n",
              "      <td id=\"T_0abe9_row0_col20\" class=\"data row0 col20\" >AIModelShare</td>\n",
              "      <td id=\"T_0abe9_row0_col21\" class=\"data row0 col21\" >1</td>\n",
              "    </tr>\n",
              "    <tr>\n",
              "      <th id=\"T_0abe9_level0_row1\" class=\"row_heading level0 row1\" >1</th>\n",
              "      <td id=\"T_0abe9_row1_col0\" class=\"data row1 col0\" >96.57%</td>\n",
              "      <td id=\"T_0abe9_row1_col1\" class=\"data row1 col1\" >96.57%</td>\n",
              "      <td id=\"T_0abe9_row1_col2\" class=\"data row1 col2\" >96.60%</td>\n",
              "      <td id=\"T_0abe9_row1_col3\" class=\"data row1 col3\" >96.54%</td>\n",
              "      <td id=\"T_0abe9_row1_col4\" class=\"data row1 col4\" >keras</td>\n",
              "      <td id=\"T_0abe9_row1_col5\" class=\"data row1 col5\" >False</td>\n",
              "      <td id=\"T_0abe9_row1_col6\" class=\"data row1 col6\" >True</td>\n",
              "      <td id=\"T_0abe9_row1_col7\" class=\"data row1 col7\" >Sequential</td>\n",
              "      <td id=\"T_0abe9_row1_col8\" class=\"data row1 col8\" >3</td>\n",
              "      <td id=\"T_0abe9_row1_col9\" class=\"data row1 col9\" >161282</td>\n",
              "      <td id=\"T_0abe9_row1_col10\" class=\"data row1 col10\" >1.000000</td>\n",
              "      <td id=\"T_0abe9_row1_col11\" class=\"data row1 col11\" >1</td>\n",
              "      <td id=\"T_0abe9_row1_col12\" class=\"data row1 col12\" >nan</td>\n",
              "      <td id=\"T_0abe9_row1_col13\" class=\"data row1 col13\" >1</td>\n",
              "      <td id=\"T_0abe9_row1_col14\" class=\"data row1 col14\" >nan</td>\n",
              "      <td id=\"T_0abe9_row1_col15\" class=\"data row1 col15\" >nan</td>\n",
              "      <td id=\"T_0abe9_row1_col16\" class=\"data row1 col16\" >1</td>\n",
              "      <td id=\"T_0abe9_row1_col17\" class=\"data row1 col17\" >str</td>\n",
              "      <td id=\"T_0abe9_row1_col18\" class=\"data row1 col18\" >RMSprop</td>\n",
              "      <td id=\"T_0abe9_row1_col19\" class=\"data row1 col19\" >1413536</td>\n",
              "      <td id=\"T_0abe9_row1_col20\" class=\"data row1 col20\" >AIModelShare</td>\n",
              "      <td id=\"T_0abe9_row1_col21\" class=\"data row1 col21\" >3</td>\n",
              "    </tr>\n",
              "    <tr>\n",
              "      <th id=\"T_0abe9_level0_row2\" class=\"row_heading level0 row2\" >2</th>\n",
              "      <td id=\"T_0abe9_row2_col0\" class=\"data row2 col0\" >78.93%</td>\n",
              "      <td id=\"T_0abe9_row2_col1\" class=\"data row2 col1\" >78.88%</td>\n",
              "      <td id=\"T_0abe9_row2_col2\" class=\"data row2 col2\" >79.68%</td>\n",
              "      <td id=\"T_0abe9_row2_col3\" class=\"data row2 col3\" >79.18%</td>\n",
              "      <td id=\"T_0abe9_row2_col4\" class=\"data row2 col4\" >keras</td>\n",
              "      <td id=\"T_0abe9_row2_col5\" class=\"data row2 col5\" >False</td>\n",
              "      <td id=\"T_0abe9_row2_col6\" class=\"data row2 col6\" >True</td>\n",
              "      <td id=\"T_0abe9_row2_col7\" class=\"data row2 col7\" >Sequential</td>\n",
              "      <td id=\"T_0abe9_row2_col8\" class=\"data row2 col8\" >5</td>\n",
              "      <td id=\"T_0abe9_row2_col9\" class=\"data row2 col9\" >191362</td>\n",
              "      <td id=\"T_0abe9_row2_col10\" class=\"data row2 col10\" >nan</td>\n",
              "      <td id=\"T_0abe9_row2_col11\" class=\"data row2 col11\" >1</td>\n",
              "      <td id=\"T_0abe9_row2_col12\" class=\"data row2 col12\" >1.000000</td>\n",
              "      <td id=\"T_0abe9_row2_col13\" class=\"data row2 col13\" >1</td>\n",
              "      <td id=\"T_0abe9_row2_col14\" class=\"data row2 col14\" >2.000000</td>\n",
              "      <td id=\"T_0abe9_row2_col15\" class=\"data row2 col15\" >2.000000</td>\n",
              "      <td id=\"T_0abe9_row2_col16\" class=\"data row2 col16\" >1</td>\n",
              "      <td id=\"T_0abe9_row2_col17\" class=\"data row2 col17\" >function</td>\n",
              "      <td id=\"T_0abe9_row2_col18\" class=\"data row2 col18\" >RMSprop</td>\n",
              "      <td id=\"T_0abe9_row2_col19\" class=\"data row2 col19\" >3323000</td>\n",
              "      <td id=\"T_0abe9_row2_col20\" class=\"data row2 col20\" >AIModelShare</td>\n",
              "      <td id=\"T_0abe9_row2_col21\" class=\"data row2 col21\" >2</td>\n",
              "    </tr>\n",
              "  </tbody>\n",
              "</table>\n"
            ]
          },
          "metadata": {},
          "execution_count": 12
        }
      ]
    },
    {
      "cell_type": "markdown",
      "metadata": {
        "id": "bwNKs0wP4r5s"
      },
      "source": [
        "## 5. Repeat submission process to improve place on leaderboard\n"
      ]
    },
    {
      "cell_type": "code",
      "metadata": {
        "colab": {
          "base_uri": "https://localhost:8080/"
        },
        "id": "FgSs5PAtPCZH",
        "outputId": "c40ef24d-02dd-41c9-d007-1b7da1aabcf5"
      },
      "source": [
        "# Train and submit model 2 using same preprocessor (note that you could save a new preprocessor, but we will use the same one for this example).\n",
        "from tensorflow.keras.models import Sequential\n",
        "from tensorflow.keras.layers import Dense, Embedding, LSTM, Flatten\n",
        "\n",
        "model2 = Sequential()\n",
        "model2.add(Embedding(10000, 16, input_length=40))\n",
        "model2.add(LSTM(32, return_sequences=True, dropout=0.2))\n",
        "model2.add(LSTM(32, dropout=0.2))\n",
        "model2.add(Flatten())\n",
        "model2.add(Dense(2, activation='softmax'))\n",
        "\n",
        "model2.compile(optimizer='rmsprop', loss='binary_crossentropy', metrics=['acc'])\n",
        "history = model2.fit(preprocessor(X_train), y_train,\n",
        "                    epochs=1,\n",
        "                    batch_size=32,\n",
        "                    validation_split=0.2)"
      ],
      "execution_count": 13,
      "outputs": [
        {
          "output_type": "stream",
          "name": "stdout",
          "text": [
            "625/625 [==============================] - 34s 47ms/step - loss: 0.2048 - acc: 0.9123 - val_loss: 0.1048 - val_acc: 0.9626\n"
          ]
        }
      ]
    },
    {
      "cell_type": "code",
      "metadata": {
        "id": "aIdmSpYVPYAw"
      },
      "source": [
        "# Save keras model to local ONNX file\n",
        "from aimodelshare.aimsonnx import model_to_onnx\n",
        "\n",
        "onnx_model = model_to_onnx(model2, framework='keras',\n",
        "                          transfer_learning=False,\n",
        "                          deep_learning=True)\n",
        "\n",
        "with open(\"model2.onnx\", \"wb\") as f:\n",
        "    f.write(onnx_model.SerializeToString())"
      ],
      "execution_count": 14,
      "outputs": []
    },
    {
      "cell_type": "code",
      "metadata": {
        "colab": {
          "base_uri": "https://localhost:8080/"
        },
        "id": "nszPPrfwPlUk",
        "outputId": "713fcda3-dfa2-4992-b081-71eababcd58d"
      },
      "source": [
        "#Submit Model 2: \n",
        "\n",
        "#-- Generate predicted y values (Model 2)\n",
        "prediction_column_index=model2.predict(preprocessor(X_test)).argmax(axis=1)\n",
        "\n",
        "# extract correct prediction labels \n",
        "prediction_labels = [y_train.columns[i] for i in prediction_column_index]\n",
        "\n",
        "# Submit Model 2 to Competition Leaderboard\n",
        "mycompetition.submit_model(model_filepath = \"model2.onnx\",\n",
        "                                 preprocessor_filepath=\"preprocessor.zip\",\n",
        "                                 prediction_submission=prediction_labels)"
      ],
      "execution_count": 15,
      "outputs": [
        {
          "output_type": "stream",
          "name": "stdout",
          "text": [
            "Insert search tags to help users find your model (optional): \n",
            "Provide any useful notes about your model (optional): \n",
            "\n",
            "Your model has been submitted as model version 4\n",
            "\n",
            "To submit code used to create this model or to view current leaderboard navigate to Model Playground: \n",
            "\n",
            " https://www.modelshare.org/detail/model:1668\n"
          ]
        }
      ]
    },
    {
      "cell_type": "code",
      "metadata": {
        "colab": {
          "base_uri": "https://localhost:8080/",
          "height": 144
        },
        "id": "qLl7yLpVEx26",
        "outputId": "45633c95-5947-4f2a-d651-c02dbc968970"
      },
      "source": [
        "# Compare two or more models \n",
        "data=mycompetition.compare_models([3, 4], verbose=1)\n",
        "mycompetition.stylize_compare(data)"
      ],
      "execution_count": 16,
      "outputs": [
        {
          "output_type": "display_data",
          "data": {
            "text/plain": [
              "<IPython.core.display.HTML object>"
            ],
            "text/html": [
              "<style type=\"text/css\">\n",
              "#T_492b7_ caption {\n",
              "  color: black;\n",
              "  font-size: 18px;\n",
              "}\n",
              "#T_492b7_row0_col0, #T_492b7_row0_col3 {\n",
              "  background: #f4cae4;\n",
              "  color: black;\n",
              "  color: black;\n",
              "}\n",
              "#T_492b7_row0_col1, #T_492b7_row0_col2, #T_492b7_row0_col4, #T_492b7_row0_col5, #T_492b7_row1_col1, #T_492b7_row1_col2, #T_492b7_row1_col4, #T_492b7_row1_col5, #T_492b7_row2_col1, #T_492b7_row2_col2, #T_492b7_row2_col4, #T_492b7_row2_col5, #T_492b7_row3_col0, #T_492b7_row3_col1, #T_492b7_row3_col2, #T_492b7_row3_col4, #T_492b7_row3_col5, #T_492b7_row4_col0, #T_492b7_row4_col1, #T_492b7_row4_col2, #T_492b7_row4_col4, #T_492b7_row4_col5 {\n",
              "  background: white;\n",
              "  color: black;\n",
              "  color: black;\n",
              "}\n",
              "#T_492b7_row1_col0, #T_492b7_row3_col3 {\n",
              "  background: #e6f5c9;\n",
              "  color: black;\n",
              "  color: black;\n",
              "}\n",
              "#T_492b7_row1_col3, #T_492b7_row2_col3 {\n",
              "  background: #cbd5e8;\n",
              "  color: black;\n",
              "  color: black;\n",
              "}\n",
              "#T_492b7_row2_col0, #T_492b7_row4_col3 {\n",
              "  background: #fff2ae;\n",
              "  color: black;\n",
              "  color: black;\n",
              "}\n",
              "</style>\n",
              "<table id=\"T_492b7_\">\n",
              "  <caption>Model type: Neural Network</caption>\n",
              "  <thead>\n",
              "    <tr>\n",
              "      <th class=\"blank level0\" >&nbsp;</th>\n",
              "      <th class=\"col_heading level0 col0\" >Model_3_Layer</th>\n",
              "      <th class=\"col_heading level0 col1\" >Model_3_Shape</th>\n",
              "      <th class=\"col_heading level0 col2\" >Model_3_Params</th>\n",
              "      <th class=\"col_heading level0 col3\" >Model_4_Layer</th>\n",
              "      <th class=\"col_heading level0 col4\" >Model_4_Shape</th>\n",
              "      <th class=\"col_heading level0 col5\" >Model_4_Params</th>\n",
              "    </tr>\n",
              "  </thead>\n",
              "  <tbody>\n",
              "    <tr>\n",
              "      <th id=\"T_492b7_level0_row0\" class=\"row_heading level0 row0\" >0</th>\n",
              "      <td id=\"T_492b7_row0_col0\" class=\"data row0 col0\" >Embedding</td>\n",
              "      <td id=\"T_492b7_row0_col1\" class=\"data row0 col1\" >[None, 40, 16]</td>\n",
              "      <td id=\"T_492b7_row0_col2\" class=\"data row0 col2\" >160000.000000</td>\n",
              "      <td id=\"T_492b7_row0_col3\" class=\"data row0 col3\" >Embedding</td>\n",
              "      <td id=\"T_492b7_row0_col4\" class=\"data row0 col4\" >[None, 40, 16]</td>\n",
              "      <td id=\"T_492b7_row0_col5\" class=\"data row0 col5\" >160000</td>\n",
              "    </tr>\n",
              "    <tr>\n",
              "      <th id=\"T_492b7_level0_row1\" class=\"row_heading level0 row1\" >1</th>\n",
              "      <td id=\"T_492b7_row1_col0\" class=\"data row1 col0\" >Flatten</td>\n",
              "      <td id=\"T_492b7_row1_col1\" class=\"data row1 col1\" >[None, 640]</td>\n",
              "      <td id=\"T_492b7_row1_col2\" class=\"data row1 col2\" >0.000000</td>\n",
              "      <td id=\"T_492b7_row1_col3\" class=\"data row1 col3\" >LSTM</td>\n",
              "      <td id=\"T_492b7_row1_col4\" class=\"data row1 col4\" >[None, 40, 32]</td>\n",
              "      <td id=\"T_492b7_row1_col5\" class=\"data row1 col5\" >6272</td>\n",
              "    </tr>\n",
              "    <tr>\n",
              "      <th id=\"T_492b7_level0_row2\" class=\"row_heading level0 row2\" >2</th>\n",
              "      <td id=\"T_492b7_row2_col0\" class=\"data row2 col0\" >Dense</td>\n",
              "      <td id=\"T_492b7_row2_col1\" class=\"data row2 col1\" >[None, 2]</td>\n",
              "      <td id=\"T_492b7_row2_col2\" class=\"data row2 col2\" >1282.000000</td>\n",
              "      <td id=\"T_492b7_row2_col3\" class=\"data row2 col3\" >LSTM</td>\n",
              "      <td id=\"T_492b7_row2_col4\" class=\"data row2 col4\" >[None, 32]</td>\n",
              "      <td id=\"T_492b7_row2_col5\" class=\"data row2 col5\" >8320</td>\n",
              "    </tr>\n",
              "    <tr>\n",
              "      <th id=\"T_492b7_level0_row3\" class=\"row_heading level0 row3\" >3</th>\n",
              "      <td id=\"T_492b7_row3_col0\" class=\"data row3 col0\" >None</td>\n",
              "      <td id=\"T_492b7_row3_col1\" class=\"data row3 col1\" >None</td>\n",
              "      <td id=\"T_492b7_row3_col2\" class=\"data row3 col2\" >nan</td>\n",
              "      <td id=\"T_492b7_row3_col3\" class=\"data row3 col3\" >Flatten</td>\n",
              "      <td id=\"T_492b7_row3_col4\" class=\"data row3 col4\" >[None, 32]</td>\n",
              "      <td id=\"T_492b7_row3_col5\" class=\"data row3 col5\" >0</td>\n",
              "    </tr>\n",
              "    <tr>\n",
              "      <th id=\"T_492b7_level0_row4\" class=\"row_heading level0 row4\" >4</th>\n",
              "      <td id=\"T_492b7_row4_col0\" class=\"data row4 col0\" >None</td>\n",
              "      <td id=\"T_492b7_row4_col1\" class=\"data row4 col1\" >None</td>\n",
              "      <td id=\"T_492b7_row4_col2\" class=\"data row4 col2\" >nan</td>\n",
              "      <td id=\"T_492b7_row4_col3\" class=\"data row4 col3\" >Dense</td>\n",
              "      <td id=\"T_492b7_row4_col4\" class=\"data row4 col4\" >[None, 2]</td>\n",
              "      <td id=\"T_492b7_row4_col5\" class=\"data row4 col5\" >66</td>\n",
              "    </tr>\n",
              "  </tbody>\n",
              "</table>\n"
            ]
          },
          "metadata": {}
        }
      ]
    },
    {
      "cell_type": "markdown",
      "metadata": {
        "id": "Pl67bOO-lz9k"
      },
      "source": [
        "## Optional: Tune model within range of hyperparameters with Keras Tuner\n",
        "\n",
        "*Simple example shown below. Consult [documentation](https://keras.io/guides/keras_tuner/getting_started/) to see full functionality.*"
      ]
    },
    {
      "cell_type": "code",
      "metadata": {
        "id": "MOGXwppct0KI"
      },
      "source": [
        "! pip install keras_tuner"
      ],
      "execution_count": null,
      "outputs": []
    },
    {
      "cell_type": "code",
      "metadata": {
        "id": "O7o_zA3fv-ra"
      },
      "source": [
        "#Separate validation data \n",
        "from sklearn.model_selection import train_test_split\n",
        "x_train_split, x_val, y_train_split, y_val = train_test_split(\n",
        "     X_train, y_train, test_size=0.2, random_state=42)"
      ],
      "execution_count": 18,
      "outputs": []
    },
    {
      "cell_type": "code",
      "metadata": {
        "colab": {
          "base_uri": "https://localhost:8080/"
        },
        "id": "olzZ7aposfwH",
        "outputId": "fde4dbfd-98b9-4602-a653-3fdbb60034c9"
      },
      "source": [
        "from tensorflow import keras\n",
        "from tensorflow.keras.models import Sequential\n",
        "from tensorflow.keras.layers import Dense, Embedding, LSTM, Flatten\n",
        "import keras_tuner as kt\n",
        "\n",
        "#Define model structure & parameter search space with function\n",
        "def build_model(hp):\n",
        "    model = keras.Sequential()\n",
        "    model.add(Embedding(10000, 16, input_length=40))\n",
        "    model.add(LSTM(units=hp.Int(\"units\", min_value=32, max_value=512, step=32), #range 32-512 inclusive, minimum step between tested values is 32\n",
        "                   return_sequences=True, dropout=0.2, recurrent_dropout=0.2))\n",
        "    model.add(Flatten())\n",
        "    model.add(Dense(2, activation='softmax'))\n",
        "    model.compile(\n",
        "        optimizer=\"rmsprop\", loss=\"binary_crossentropy\", metrics=[\"accuracy\"],\n",
        "    )\n",
        "    return model\n",
        "\n",
        "#initialize the tuner (which will search through parameters)\n",
        "tuner = kt.RandomSearch(\n",
        "    hypermodel=build_model, \n",
        "    objective=\"val_accuracy\", # objective to optimize\n",
        "    max_trials=3, #max number of trials to run during search\n",
        "    executions_per_trial=1, #higher number reduces variance of results; guages model performance more accurately \n",
        "    overwrite=True,\n",
        "    directory=\"tuning_model\",\n",
        "    project_name=\"tuning_units\",\n",
        ")\n",
        "\n",
        "tuner.search(preprocessor(x_train_split), y_train_split, epochs=1, validation_data=(preprocessor(x_val), y_val))\n"
      ],
      "execution_count": 19,
      "outputs": [
        {
          "output_type": "stream",
          "name": "stdout",
          "text": [
            "Trial 3 Complete [00h 03m 25s]\n",
            "val_accuracy: 0.9631705284118652\n",
            "\n",
            "Best val_accuracy So Far: 0.9631705284118652\n",
            "Total elapsed time: 00h 07m 55s\n"
          ]
        }
      ]
    },
    {
      "cell_type": "code",
      "metadata": {
        "colab": {
          "base_uri": "https://localhost:8080/"
        },
        "id": "0YaEbvJ2yND1",
        "outputId": "e9d44951-aa34-492f-fe14-c58fb3c9ff16"
      },
      "source": [
        "# Build model with best hyperparameters\n",
        "\n",
        "# Get the top 2 hyperparameters.\n",
        "best_hps = tuner.get_best_hyperparameters(5)\n",
        "# Build the model with the best hp.\n",
        "tuned_model = build_model(best_hps[0])\n",
        "# Fit with the entire dataset.\n",
        "tuned_model.fit(x=preprocessor(X_train), y=y_train, epochs=1)\n"
      ],
      "execution_count": 20,
      "outputs": [
        {
          "output_type": "stream",
          "name": "stdout",
          "text": [
            "781/781 [==============================] - 193s 244ms/step - loss: 0.1828 - accuracy: 0.9277\n"
          ]
        },
        {
          "output_type": "execute_result",
          "data": {
            "text/plain": [
              "<keras.callbacks.History at 0x7f625450d5d0>"
            ]
          },
          "metadata": {},
          "execution_count": 20
        }
      ]
    },
    {
      "cell_type": "code",
      "metadata": {
        "id": "HvLuIvOjHLH2"
      },
      "source": [
        "# Save keras model to local ONNX file\n",
        "from aimodelshare.aimsonnx import model_to_onnx\n",
        "\n",
        "onnx_model = model_to_onnx(tuned_model, framework='keras',\n",
        "                          transfer_learning=False,\n",
        "                          deep_learning=True)\n",
        "\n",
        "with open(\"tuned_model.onnx\", \"wb\") as f:\n",
        "    f.write(onnx_model.SerializeToString())"
      ],
      "execution_count": 21,
      "outputs": []
    },
    {
      "cell_type": "code",
      "metadata": {
        "colab": {
          "base_uri": "https://localhost:8080/"
        },
        "id": "sMidHABfHVN7",
        "outputId": "e182db99-df59-4d28-8a84-7563fca5a9d5"
      },
      "source": [
        "#Submit Model 3: \n",
        "\n",
        "#-- Generate predicted y values (Model 3)\n",
        "prediction_column_index=tuned_model.predict(preprocessor(X_test)).argmax(axis=1)\n",
        "\n",
        "# extract correct prediction labels \n",
        "prediction_labels = [y_train.columns[i] for i in prediction_column_index]\n",
        "\n",
        "# Submit Model 1 to Competition Leaderboard\n",
        "mycompetition.submit_model(model_filepath = \"tuned_model.onnx\",\n",
        "                                 preprocessor_filepath=\"preprocessor.zip\",\n",
        "                                 prediction_submission=prediction_labels)"
      ],
      "execution_count": 22,
      "outputs": [
        {
          "output_type": "stream",
          "name": "stdout",
          "text": [
            "Insert search tags to help users find your model (optional): \n",
            "Provide any useful notes about your model (optional): \n",
            "\n",
            "Your model has been submitted as model version 5\n",
            "\n",
            "To submit code used to create this model or to view current leaderboard navigate to Model Playground: \n",
            "\n",
            " https://www.modelshare.org/detail/model:1668\n"
          ]
        }
      ]
    },
    {
      "cell_type": "code",
      "metadata": {
        "colab": {
          "base_uri": "https://localhost:8080/",
          "height": 189
        },
        "id": "hn-Tp-zpJVGT",
        "outputId": "ed3ffd40-8fd5-44a8-92df-dbc137dbfcd9"
      },
      "source": [
        "# Get leaderboard\n",
        "\n",
        "data = mycompetition.get_leaderboard()\n",
        "mycompetition.stylize_leaderboard(data)"
      ],
      "execution_count": 23,
      "outputs": [
        {
          "output_type": "execute_result",
          "data": {
            "text/plain": [
              "<pandas.io.formats.style.Styler at 0x7f6252476cd0>"
            ],
            "text/html": [
              "<style type=\"text/css\">\n",
              "#T_5a3db_row0_col0 {\n",
              "  text-align: center;\n",
              "  width: 10em;\n",
              "  height: 80%;\n",
              "  background: linear-gradient(90deg,#f5f8d6 97.3%, transparent 97.3%);\n",
              "  color: #251e1b;\n",
              "  font-size: 12px;\n",
              "}\n",
              "#T_5a3db_row0_col1 {\n",
              "  text-align: center;\n",
              "  width: 10em;\n",
              "  height: 80%;\n",
              "  background: linear-gradient(90deg,#c778c8 97.3%, transparent 97.3%);\n",
              "  color: #251e1b;\n",
              "  font-size: 12px;\n",
              "}\n",
              "#T_5a3db_row0_col2 {\n",
              "  text-align: center;\n",
              "  width: 10em;\n",
              "  height: 80%;\n",
              "  background: linear-gradient(90deg,#ff4971 97.4%, transparent 97.4%);\n",
              "  color: #251e1b;\n",
              "  font-size: 12px;\n",
              "}\n",
              "#T_5a3db_row0_col3 {\n",
              "  text-align: center;\n",
              "  width: 10em;\n",
              "  height: 80%;\n",
              "  background: linear-gradient(90deg,#aadbaa 97.3%, transparent 97.3%);\n",
              "  color: #251e1b;\n",
              "  font-size: 12px;\n",
              "}\n",
              "#T_5a3db_row0_col4, #T_5a3db_row0_col5, #T_5a3db_row0_col6, #T_5a3db_row0_col7, #T_5a3db_row0_col8, #T_5a3db_row0_col9, #T_5a3db_row0_col10, #T_5a3db_row0_col11, #T_5a3db_row0_col12, #T_5a3db_row0_col13, #T_5a3db_row0_col14, #T_5a3db_row0_col15, #T_5a3db_row0_col16, #T_5a3db_row0_col17, #T_5a3db_row0_col18, #T_5a3db_row0_col19, #T_5a3db_row0_col20, #T_5a3db_row0_col21, #T_5a3db_row1_col4, #T_5a3db_row1_col5, #T_5a3db_row1_col6, #T_5a3db_row1_col7, #T_5a3db_row1_col8, #T_5a3db_row1_col9, #T_5a3db_row1_col10, #T_5a3db_row1_col11, #T_5a3db_row1_col12, #T_5a3db_row1_col13, #T_5a3db_row1_col14, #T_5a3db_row1_col15, #T_5a3db_row1_col16, #T_5a3db_row1_col17, #T_5a3db_row1_col18, #T_5a3db_row1_col19, #T_5a3db_row1_col20, #T_5a3db_row1_col21, #T_5a3db_row2_col4, #T_5a3db_row2_col5, #T_5a3db_row2_col6, #T_5a3db_row2_col7, #T_5a3db_row2_col8, #T_5a3db_row2_col9, #T_5a3db_row2_col10, #T_5a3db_row2_col11, #T_5a3db_row2_col12, #T_5a3db_row2_col13, #T_5a3db_row2_col14, #T_5a3db_row2_col15, #T_5a3db_row2_col16, #T_5a3db_row2_col17, #T_5a3db_row2_col18, #T_5a3db_row2_col19, #T_5a3db_row2_col20, #T_5a3db_row2_col21, #T_5a3db_row3_col4, #T_5a3db_row3_col5, #T_5a3db_row3_col6, #T_5a3db_row3_col7, #T_5a3db_row3_col8, #T_5a3db_row3_col9, #T_5a3db_row3_col10, #T_5a3db_row3_col11, #T_5a3db_row3_col12, #T_5a3db_row3_col13, #T_5a3db_row3_col14, #T_5a3db_row3_col15, #T_5a3db_row3_col16, #T_5a3db_row3_col17, #T_5a3db_row3_col18, #T_5a3db_row3_col19, #T_5a3db_row3_col20, #T_5a3db_row3_col21, #T_5a3db_row4_col4, #T_5a3db_row4_col5, #T_5a3db_row4_col6, #T_5a3db_row4_col7, #T_5a3db_row4_col8, #T_5a3db_row4_col9, #T_5a3db_row4_col10, #T_5a3db_row4_col11, #T_5a3db_row4_col12, #T_5a3db_row4_col13, #T_5a3db_row4_col14, #T_5a3db_row4_col15, #T_5a3db_row4_col16, #T_5a3db_row4_col17, #T_5a3db_row4_col18, #T_5a3db_row4_col19, #T_5a3db_row4_col20, #T_5a3db_row4_col21 {\n",
              "  text-align: center;\n",
              "}\n",
              "#T_5a3db_row1_col0 {\n",
              "  text-align: center;\n",
              "  width: 10em;\n",
              "  height: 80%;\n",
              "  background: linear-gradient(90deg,#f5f8d6 97.0%, transparent 97.0%);\n",
              "  color: #251e1b;\n",
              "  font-size: 12px;\n",
              "}\n",
              "#T_5a3db_row1_col1 {\n",
              "  text-align: center;\n",
              "  width: 10em;\n",
              "  height: 80%;\n",
              "  background: linear-gradient(90deg,#c778c8 97.0%, transparent 97.0%);\n",
              "  color: #251e1b;\n",
              "  font-size: 12px;\n",
              "}\n",
              "#T_5a3db_row1_col2 {\n",
              "  text-align: center;\n",
              "  width: 10em;\n",
              "  height: 80%;\n",
              "  background: linear-gradient(90deg,#ff4971 97.0%, transparent 97.0%);\n",
              "  color: #251e1b;\n",
              "  font-size: 12px;\n",
              "}\n",
              "#T_5a3db_row1_col3 {\n",
              "  text-align: center;\n",
              "  width: 10em;\n",
              "  height: 80%;\n",
              "  background: linear-gradient(90deg,#aadbaa 97.0%, transparent 97.0%);\n",
              "  color: #251e1b;\n",
              "  font-size: 12px;\n",
              "}\n",
              "#T_5a3db_row2_col0 {\n",
              "  text-align: center;\n",
              "  width: 10em;\n",
              "  height: 80%;\n",
              "  background: linear-gradient(90deg,#f5f8d6 96.7%, transparent 96.7%);\n",
              "  color: #251e1b;\n",
              "  font-size: 12px;\n",
              "}\n",
              "#T_5a3db_row2_col1 {\n",
              "  text-align: center;\n",
              "  width: 10em;\n",
              "  height: 80%;\n",
              "  background: linear-gradient(90deg,#c778c8 96.7%, transparent 96.7%);\n",
              "  color: #251e1b;\n",
              "  font-size: 12px;\n",
              "}\n",
              "#T_5a3db_row2_col2 {\n",
              "  text-align: center;\n",
              "  width: 10em;\n",
              "  height: 80%;\n",
              "  background: linear-gradient(90deg,#ff4971 96.7%, transparent 96.7%);\n",
              "  color: #251e1b;\n",
              "  font-size: 12px;\n",
              "}\n",
              "#T_5a3db_row2_col3 {\n",
              "  text-align: center;\n",
              "  width: 10em;\n",
              "  height: 80%;\n",
              "  background: linear-gradient(90deg,#aadbaa 96.7%, transparent 96.7%);\n",
              "  color: #251e1b;\n",
              "  font-size: 12px;\n",
              "}\n",
              "#T_5a3db_row3_col0 {\n",
              "  text-align: center;\n",
              "  width: 10em;\n",
              "  height: 80%;\n",
              "  background: linear-gradient(90deg,#f5f8d6 96.6%, transparent 96.6%);\n",
              "  color: #251e1b;\n",
              "  font-size: 12px;\n",
              "}\n",
              "#T_5a3db_row3_col1 {\n",
              "  text-align: center;\n",
              "  width: 10em;\n",
              "  height: 80%;\n",
              "  background: linear-gradient(90deg,#c778c8 96.6%, transparent 96.6%);\n",
              "  color: #251e1b;\n",
              "  font-size: 12px;\n",
              "}\n",
              "#T_5a3db_row3_col2 {\n",
              "  text-align: center;\n",
              "  width: 10em;\n",
              "  height: 80%;\n",
              "  background: linear-gradient(90deg,#ff4971 96.6%, transparent 96.6%);\n",
              "  color: #251e1b;\n",
              "  font-size: 12px;\n",
              "}\n",
              "#T_5a3db_row3_col3 {\n",
              "  text-align: center;\n",
              "  width: 10em;\n",
              "  height: 80%;\n",
              "  background: linear-gradient(90deg,#aadbaa 96.5%, transparent 96.5%);\n",
              "  color: #251e1b;\n",
              "  font-size: 12px;\n",
              "}\n",
              "#T_5a3db_row4_col0 {\n",
              "  text-align: center;\n",
              "  width: 10em;\n",
              "  height: 80%;\n",
              "  background: linear-gradient(90deg,#f5f8d6 78.9%, transparent 78.9%);\n",
              "  color: #251e1b;\n",
              "  font-size: 12px;\n",
              "}\n",
              "#T_5a3db_row4_col1 {\n",
              "  text-align: center;\n",
              "  width: 10em;\n",
              "  height: 80%;\n",
              "  background: linear-gradient(90deg,#c778c8 78.9%, transparent 78.9%);\n",
              "  color: #251e1b;\n",
              "  font-size: 12px;\n",
              "}\n",
              "#T_5a3db_row4_col2 {\n",
              "  text-align: center;\n",
              "  width: 10em;\n",
              "  height: 80%;\n",
              "  background: linear-gradient(90deg,#ff4971 79.7%, transparent 79.7%);\n",
              "  color: #251e1b;\n",
              "  font-size: 12px;\n",
              "}\n",
              "#T_5a3db_row4_col3 {\n",
              "  text-align: center;\n",
              "  width: 10em;\n",
              "  height: 80%;\n",
              "  background: linear-gradient(90deg,#aadbaa 79.2%, transparent 79.2%);\n",
              "  color: #251e1b;\n",
              "  font-size: 12px;\n",
              "}\n",
              "</style>\n",
              "<table id=\"T_5a3db_\" class=\"dataframe\">\n",
              "  <thead>\n",
              "    <tr>\n",
              "      <th class=\"blank level0\" >&nbsp;</th>\n",
              "      <th class=\"col_heading level0 col0\" >accuracy</th>\n",
              "      <th class=\"col_heading level0 col1\" >f1_score</th>\n",
              "      <th class=\"col_heading level0 col2\" >precision</th>\n",
              "      <th class=\"col_heading level0 col3\" >recall</th>\n",
              "      <th class=\"col_heading level0 col4\" >ml_framework</th>\n",
              "      <th class=\"col_heading level0 col5\" >transfer_learning</th>\n",
              "      <th class=\"col_heading level0 col6\" >deep_learning</th>\n",
              "      <th class=\"col_heading level0 col7\" >model_type</th>\n",
              "      <th class=\"col_heading level0 col8\" >depth</th>\n",
              "      <th class=\"col_heading level0 col9\" >num_params</th>\n",
              "      <th class=\"col_heading level0 col10\" >flatten_layers</th>\n",
              "      <th class=\"col_heading level0 col11\" >embedding_layers</th>\n",
              "      <th class=\"col_heading level0 col12\" >bidirectional_layers</th>\n",
              "      <th class=\"col_heading level0 col13\" >dense_layers</th>\n",
              "      <th class=\"col_heading level0 col14\" >lstm_layers</th>\n",
              "      <th class=\"col_heading level0 col15\" >tanh_act</th>\n",
              "      <th class=\"col_heading level0 col16\" >softmax_act</th>\n",
              "      <th class=\"col_heading level0 col17\" >loss</th>\n",
              "      <th class=\"col_heading level0 col18\" >optimizer</th>\n",
              "      <th class=\"col_heading level0 col19\" >memory_size</th>\n",
              "      <th class=\"col_heading level0 col20\" >username</th>\n",
              "      <th class=\"col_heading level0 col21\" >version</th>\n",
              "    </tr>\n",
              "  </thead>\n",
              "  <tbody>\n",
              "    <tr>\n",
              "      <th id=\"T_5a3db_level0_row0\" class=\"row_heading level0 row0\" >0</th>\n",
              "      <td id=\"T_5a3db_row0_col0\" class=\"data row0 col0\" >97.34%</td>\n",
              "      <td id=\"T_5a3db_row0_col1\" class=\"data row0 col1\" >97.34%</td>\n",
              "      <td id=\"T_5a3db_row0_col2\" class=\"data row0 col2\" >97.39%</td>\n",
              "      <td id=\"T_5a3db_row0_col3\" class=\"data row0 col3\" >97.31%</td>\n",
              "      <td id=\"T_5a3db_row0_col4\" class=\"data row0 col4\" >keras</td>\n",
              "      <td id=\"T_5a3db_row0_col5\" class=\"data row0 col5\" >False</td>\n",
              "      <td id=\"T_5a3db_row0_col6\" class=\"data row0 col6\" >True</td>\n",
              "      <td id=\"T_5a3db_row0_col7\" class=\"data row0 col7\" >Sequential</td>\n",
              "      <td id=\"T_5a3db_row0_col8\" class=\"data row0 col8\" >4</td>\n",
              "      <td id=\"T_5a3db_row0_col9\" class=\"data row0 col9\" >393858</td>\n",
              "      <td id=\"T_5a3db_row0_col10\" class=\"data row0 col10\" >1.000000</td>\n",
              "      <td id=\"T_5a3db_row0_col11\" class=\"data row0 col11\" >1</td>\n",
              "      <td id=\"T_5a3db_row0_col12\" class=\"data row0 col12\" >nan</td>\n",
              "      <td id=\"T_5a3db_row0_col13\" class=\"data row0 col13\" >1</td>\n",
              "      <td id=\"T_5a3db_row0_col14\" class=\"data row0 col14\" >1.000000</td>\n",
              "      <td id=\"T_5a3db_row0_col15\" class=\"data row0 col15\" >1.000000</td>\n",
              "      <td id=\"T_5a3db_row0_col16\" class=\"data row0 col16\" >1</td>\n",
              "      <td id=\"T_5a3db_row0_col17\" class=\"data row0 col17\" >str</td>\n",
              "      <td id=\"T_5a3db_row0_col18\" class=\"data row0 col18\" >RMSprop</td>\n",
              "      <td id=\"T_5a3db_row0_col19\" class=\"data row0 col19\" >8532904</td>\n",
              "      <td id=\"T_5a3db_row0_col20\" class=\"data row0 col20\" >AIModelShare</td>\n",
              "      <td id=\"T_5a3db_row0_col21\" class=\"data row0 col21\" >5</td>\n",
              "    </tr>\n",
              "    <tr>\n",
              "      <th id=\"T_5a3db_level0_row1\" class=\"row_heading level0 row1\" >1</th>\n",
              "      <td id=\"T_5a3db_row1_col0\" class=\"data row1 col0\" >97.02%</td>\n",
              "      <td id=\"T_5a3db_row1_col1\" class=\"data row1 col1\" >97.02%</td>\n",
              "      <td id=\"T_5a3db_row1_col2\" class=\"data row1 col2\" >97.01%</td>\n",
              "      <td id=\"T_5a3db_row1_col3\" class=\"data row1 col3\" >97.03%</td>\n",
              "      <td id=\"T_5a3db_row1_col4\" class=\"data row1 col4\" >keras</td>\n",
              "      <td id=\"T_5a3db_row1_col5\" class=\"data row1 col5\" >False</td>\n",
              "      <td id=\"T_5a3db_row1_col6\" class=\"data row1 col6\" >True</td>\n",
              "      <td id=\"T_5a3db_row1_col7\" class=\"data row1 col7\" >Sequential</td>\n",
              "      <td id=\"T_5a3db_row1_col8\" class=\"data row1 col8\" >5</td>\n",
              "      <td id=\"T_5a3db_row1_col9\" class=\"data row1 col9\" >174658</td>\n",
              "      <td id=\"T_5a3db_row1_col10\" class=\"data row1 col10\" >1.000000</td>\n",
              "      <td id=\"T_5a3db_row1_col11\" class=\"data row1 col11\" >1</td>\n",
              "      <td id=\"T_5a3db_row1_col12\" class=\"data row1 col12\" >nan</td>\n",
              "      <td id=\"T_5a3db_row1_col13\" class=\"data row1 col13\" >1</td>\n",
              "      <td id=\"T_5a3db_row1_col14\" class=\"data row1 col14\" >2.000000</td>\n",
              "      <td id=\"T_5a3db_row1_col15\" class=\"data row1 col15\" >2.000000</td>\n",
              "      <td id=\"T_5a3db_row1_col16\" class=\"data row1 col16\" >1</td>\n",
              "      <td id=\"T_5a3db_row1_col17\" class=\"data row1 col17\" >function</td>\n",
              "      <td id=\"T_5a3db_row1_col18\" class=\"data row1 col18\" >RMSprop</td>\n",
              "      <td id=\"T_5a3db_row1_col19\" class=\"data row1 col19\" >2210688</td>\n",
              "      <td id=\"T_5a3db_row1_col20\" class=\"data row1 col20\" >AIModelShare</td>\n",
              "      <td id=\"T_5a3db_row1_col21\" class=\"data row1 col21\" >1</td>\n",
              "    </tr>\n",
              "    <tr>\n",
              "      <th id=\"T_5a3db_level0_row2\" class=\"row_heading level0 row2\" >2</th>\n",
              "      <td id=\"T_5a3db_row2_col0\" class=\"data row2 col0\" >96.70%</td>\n",
              "      <td id=\"T_5a3db_row2_col1\" class=\"data row2 col1\" >96.70%</td>\n",
              "      <td id=\"T_5a3db_row2_col2\" class=\"data row2 col2\" >96.69%</td>\n",
              "      <td id=\"T_5a3db_row2_col3\" class=\"data row2 col3\" >96.71%</td>\n",
              "      <td id=\"T_5a3db_row2_col4\" class=\"data row2 col4\" >keras</td>\n",
              "      <td id=\"T_5a3db_row2_col5\" class=\"data row2 col5\" >False</td>\n",
              "      <td id=\"T_5a3db_row2_col6\" class=\"data row2 col6\" >True</td>\n",
              "      <td id=\"T_5a3db_row2_col7\" class=\"data row2 col7\" >Sequential</td>\n",
              "      <td id=\"T_5a3db_row2_col8\" class=\"data row2 col8\" >5</td>\n",
              "      <td id=\"T_5a3db_row2_col9\" class=\"data row2 col9\" >174658</td>\n",
              "      <td id=\"T_5a3db_row2_col10\" class=\"data row2 col10\" >1.000000</td>\n",
              "      <td id=\"T_5a3db_row2_col11\" class=\"data row2 col11\" >1</td>\n",
              "      <td id=\"T_5a3db_row2_col12\" class=\"data row2 col12\" >nan</td>\n",
              "      <td id=\"T_5a3db_row2_col13\" class=\"data row2 col13\" >1</td>\n",
              "      <td id=\"T_5a3db_row2_col14\" class=\"data row2 col14\" >2.000000</td>\n",
              "      <td id=\"T_5a3db_row2_col15\" class=\"data row2 col15\" >2.000000</td>\n",
              "      <td id=\"T_5a3db_row2_col16\" class=\"data row2 col16\" >1</td>\n",
              "      <td id=\"T_5a3db_row2_col17\" class=\"data row2 col17\" >str</td>\n",
              "      <td id=\"T_5a3db_row2_col18\" class=\"data row2 col18\" >RMSprop</td>\n",
              "      <td id=\"T_5a3db_row2_col19\" class=\"data row2 col19\" >13477960</td>\n",
              "      <td id=\"T_5a3db_row2_col20\" class=\"data row2 col20\" >AIModelShare</td>\n",
              "      <td id=\"T_5a3db_row2_col21\" class=\"data row2 col21\" >4</td>\n",
              "    </tr>\n",
              "    <tr>\n",
              "      <th id=\"T_5a3db_level0_row3\" class=\"row_heading level0 row3\" >3</th>\n",
              "      <td id=\"T_5a3db_row3_col0\" class=\"data row3 col0\" >96.57%</td>\n",
              "      <td id=\"T_5a3db_row3_col1\" class=\"data row3 col1\" >96.57%</td>\n",
              "      <td id=\"T_5a3db_row3_col2\" class=\"data row3 col2\" >96.60%</td>\n",
              "      <td id=\"T_5a3db_row3_col3\" class=\"data row3 col3\" >96.54%</td>\n",
              "      <td id=\"T_5a3db_row3_col4\" class=\"data row3 col4\" >keras</td>\n",
              "      <td id=\"T_5a3db_row3_col5\" class=\"data row3 col5\" >False</td>\n",
              "      <td id=\"T_5a3db_row3_col6\" class=\"data row3 col6\" >True</td>\n",
              "      <td id=\"T_5a3db_row3_col7\" class=\"data row3 col7\" >Sequential</td>\n",
              "      <td id=\"T_5a3db_row3_col8\" class=\"data row3 col8\" >3</td>\n",
              "      <td id=\"T_5a3db_row3_col9\" class=\"data row3 col9\" >161282</td>\n",
              "      <td id=\"T_5a3db_row3_col10\" class=\"data row3 col10\" >1.000000</td>\n",
              "      <td id=\"T_5a3db_row3_col11\" class=\"data row3 col11\" >1</td>\n",
              "      <td id=\"T_5a3db_row3_col12\" class=\"data row3 col12\" >nan</td>\n",
              "      <td id=\"T_5a3db_row3_col13\" class=\"data row3 col13\" >1</td>\n",
              "      <td id=\"T_5a3db_row3_col14\" class=\"data row3 col14\" >nan</td>\n",
              "      <td id=\"T_5a3db_row3_col15\" class=\"data row3 col15\" >nan</td>\n",
              "      <td id=\"T_5a3db_row3_col16\" class=\"data row3 col16\" >1</td>\n",
              "      <td id=\"T_5a3db_row3_col17\" class=\"data row3 col17\" >str</td>\n",
              "      <td id=\"T_5a3db_row3_col18\" class=\"data row3 col18\" >RMSprop</td>\n",
              "      <td id=\"T_5a3db_row3_col19\" class=\"data row3 col19\" >1413536</td>\n",
              "      <td id=\"T_5a3db_row3_col20\" class=\"data row3 col20\" >AIModelShare</td>\n",
              "      <td id=\"T_5a3db_row3_col21\" class=\"data row3 col21\" >3</td>\n",
              "    </tr>\n",
              "    <tr>\n",
              "      <th id=\"T_5a3db_level0_row4\" class=\"row_heading level0 row4\" >4</th>\n",
              "      <td id=\"T_5a3db_row4_col0\" class=\"data row4 col0\" >78.93%</td>\n",
              "      <td id=\"T_5a3db_row4_col1\" class=\"data row4 col1\" >78.88%</td>\n",
              "      <td id=\"T_5a3db_row4_col2\" class=\"data row4 col2\" >79.68%</td>\n",
              "      <td id=\"T_5a3db_row4_col3\" class=\"data row4 col3\" >79.18%</td>\n",
              "      <td id=\"T_5a3db_row4_col4\" class=\"data row4 col4\" >keras</td>\n",
              "      <td id=\"T_5a3db_row4_col5\" class=\"data row4 col5\" >False</td>\n",
              "      <td id=\"T_5a3db_row4_col6\" class=\"data row4 col6\" >True</td>\n",
              "      <td id=\"T_5a3db_row4_col7\" class=\"data row4 col7\" >Sequential</td>\n",
              "      <td id=\"T_5a3db_row4_col8\" class=\"data row4 col8\" >5</td>\n",
              "      <td id=\"T_5a3db_row4_col9\" class=\"data row4 col9\" >191362</td>\n",
              "      <td id=\"T_5a3db_row4_col10\" class=\"data row4 col10\" >nan</td>\n",
              "      <td id=\"T_5a3db_row4_col11\" class=\"data row4 col11\" >1</td>\n",
              "      <td id=\"T_5a3db_row4_col12\" class=\"data row4 col12\" >1.000000</td>\n",
              "      <td id=\"T_5a3db_row4_col13\" class=\"data row4 col13\" >1</td>\n",
              "      <td id=\"T_5a3db_row4_col14\" class=\"data row4 col14\" >2.000000</td>\n",
              "      <td id=\"T_5a3db_row4_col15\" class=\"data row4 col15\" >2.000000</td>\n",
              "      <td id=\"T_5a3db_row4_col16\" class=\"data row4 col16\" >1</td>\n",
              "      <td id=\"T_5a3db_row4_col17\" class=\"data row4 col17\" >function</td>\n",
              "      <td id=\"T_5a3db_row4_col18\" class=\"data row4 col18\" >RMSprop</td>\n",
              "      <td id=\"T_5a3db_row4_col19\" class=\"data row4 col19\" >3323000</td>\n",
              "      <td id=\"T_5a3db_row4_col20\" class=\"data row4 col20\" >AIModelShare</td>\n",
              "      <td id=\"T_5a3db_row4_col21\" class=\"data row4 col21\" >2</td>\n",
              "    </tr>\n",
              "  </tbody>\n",
              "</table>\n"
            ]
          },
          "metadata": {},
          "execution_count": 23
        }
      ]
    },
    {
      "cell_type": "code",
      "metadata": {
        "id": "MKvPKyb7hT0h",
        "colab": {
          "base_uri": "https://localhost:8080/",
          "height": 144
        },
        "outputId": "36df1e76-a464-4bde-c268-c486057708b4"
      },
      "source": [
        "# Compare two or more models\n",
        "data=mycompetition.compare_models([4,5], verbose=1)\n",
        "mycompetition.stylize_compare(data)"
      ],
      "execution_count": 24,
      "outputs": [
        {
          "output_type": "display_data",
          "data": {
            "text/plain": [
              "<IPython.core.display.HTML object>"
            ],
            "text/html": [
              "<style type=\"text/css\">\n",
              "#T_eab48_ caption {\n",
              "  color: black;\n",
              "  font-size: 18px;\n",
              "}\n",
              "#T_eab48_row0_col0, #T_eab48_row0_col3 {\n",
              "  background: #f4cae4;\n",
              "  color: black;\n",
              "  color: black;\n",
              "}\n",
              "#T_eab48_row0_col1, #T_eab48_row0_col2, #T_eab48_row0_col4, #T_eab48_row0_col5, #T_eab48_row1_col1, #T_eab48_row1_col2, #T_eab48_row1_col4, #T_eab48_row1_col5, #T_eab48_row2_col1, #T_eab48_row2_col2, #T_eab48_row2_col4, #T_eab48_row2_col5, #T_eab48_row3_col1, #T_eab48_row3_col2, #T_eab48_row3_col4, #T_eab48_row3_col5, #T_eab48_row4_col1, #T_eab48_row4_col2, #T_eab48_row4_col3, #T_eab48_row4_col4, #T_eab48_row4_col5 {\n",
              "  background: white;\n",
              "  color: black;\n",
              "  color: black;\n",
              "}\n",
              "#T_eab48_row1_col0, #T_eab48_row1_col3, #T_eab48_row2_col0 {\n",
              "  background: #cbd5e8;\n",
              "  color: black;\n",
              "  color: black;\n",
              "}\n",
              "#T_eab48_row2_col3, #T_eab48_row3_col0 {\n",
              "  background: #e6f5c9;\n",
              "  color: black;\n",
              "  color: black;\n",
              "}\n",
              "#T_eab48_row3_col3, #T_eab48_row4_col0 {\n",
              "  background: #fff2ae;\n",
              "  color: black;\n",
              "  color: black;\n",
              "}\n",
              "</style>\n",
              "<table id=\"T_eab48_\">\n",
              "  <caption>Model type: Neural Network</caption>\n",
              "  <thead>\n",
              "    <tr>\n",
              "      <th class=\"blank level0\" >&nbsp;</th>\n",
              "      <th class=\"col_heading level0 col0\" >Model_4_Layer</th>\n",
              "      <th class=\"col_heading level0 col1\" >Model_4_Shape</th>\n",
              "      <th class=\"col_heading level0 col2\" >Model_4_Params</th>\n",
              "      <th class=\"col_heading level0 col3\" >Model_5_Layer</th>\n",
              "      <th class=\"col_heading level0 col4\" >Model_5_Shape</th>\n",
              "      <th class=\"col_heading level0 col5\" >Model_5_Params</th>\n",
              "    </tr>\n",
              "  </thead>\n",
              "  <tbody>\n",
              "    <tr>\n",
              "      <th id=\"T_eab48_level0_row0\" class=\"row_heading level0 row0\" >0</th>\n",
              "      <td id=\"T_eab48_row0_col0\" class=\"data row0 col0\" >Embedding</td>\n",
              "      <td id=\"T_eab48_row0_col1\" class=\"data row0 col1\" >[None, 40, 16]</td>\n",
              "      <td id=\"T_eab48_row0_col2\" class=\"data row0 col2\" >160000</td>\n",
              "      <td id=\"T_eab48_row0_col3\" class=\"data row0 col3\" >Embedding</td>\n",
              "      <td id=\"T_eab48_row0_col4\" class=\"data row0 col4\" >[None, 40, 16]</td>\n",
              "      <td id=\"T_eab48_row0_col5\" class=\"data row0 col5\" >160000.000000</td>\n",
              "    </tr>\n",
              "    <tr>\n",
              "      <th id=\"T_eab48_level0_row1\" class=\"row_heading level0 row1\" >1</th>\n",
              "      <td id=\"T_eab48_row1_col0\" class=\"data row1 col0\" >LSTM</td>\n",
              "      <td id=\"T_eab48_row1_col1\" class=\"data row1 col1\" >[None, 40, 32]</td>\n",
              "      <td id=\"T_eab48_row1_col2\" class=\"data row1 col2\" >6272</td>\n",
              "      <td id=\"T_eab48_row1_col3\" class=\"data row1 col3\" >LSTM</td>\n",
              "      <td id=\"T_eab48_row1_col4\" class=\"data row1 col4\" >[None, 40, 224]</td>\n",
              "      <td id=\"T_eab48_row1_col5\" class=\"data row1 col5\" >215936.000000</td>\n",
              "    </tr>\n",
              "    <tr>\n",
              "      <th id=\"T_eab48_level0_row2\" class=\"row_heading level0 row2\" >2</th>\n",
              "      <td id=\"T_eab48_row2_col0\" class=\"data row2 col0\" >LSTM</td>\n",
              "      <td id=\"T_eab48_row2_col1\" class=\"data row2 col1\" >[None, 32]</td>\n",
              "      <td id=\"T_eab48_row2_col2\" class=\"data row2 col2\" >8320</td>\n",
              "      <td id=\"T_eab48_row2_col3\" class=\"data row2 col3\" >Flatten</td>\n",
              "      <td id=\"T_eab48_row2_col4\" class=\"data row2 col4\" >[None, 8960]</td>\n",
              "      <td id=\"T_eab48_row2_col5\" class=\"data row2 col5\" >0.000000</td>\n",
              "    </tr>\n",
              "    <tr>\n",
              "      <th id=\"T_eab48_level0_row3\" class=\"row_heading level0 row3\" >3</th>\n",
              "      <td id=\"T_eab48_row3_col0\" class=\"data row3 col0\" >Flatten</td>\n",
              "      <td id=\"T_eab48_row3_col1\" class=\"data row3 col1\" >[None, 32]</td>\n",
              "      <td id=\"T_eab48_row3_col2\" class=\"data row3 col2\" >0</td>\n",
              "      <td id=\"T_eab48_row3_col3\" class=\"data row3 col3\" >Dense</td>\n",
              "      <td id=\"T_eab48_row3_col4\" class=\"data row3 col4\" >[None, 2]</td>\n",
              "      <td id=\"T_eab48_row3_col5\" class=\"data row3 col5\" >17922.000000</td>\n",
              "    </tr>\n",
              "    <tr>\n",
              "      <th id=\"T_eab48_level0_row4\" class=\"row_heading level0 row4\" >4</th>\n",
              "      <td id=\"T_eab48_row4_col0\" class=\"data row4 col0\" >Dense</td>\n",
              "      <td id=\"T_eab48_row4_col1\" class=\"data row4 col1\" >[None, 2]</td>\n",
              "      <td id=\"T_eab48_row4_col2\" class=\"data row4 col2\" >66</td>\n",
              "      <td id=\"T_eab48_row4_col3\" class=\"data row4 col3\" >None</td>\n",
              "      <td id=\"T_eab48_row4_col4\" class=\"data row4 col4\" >None</td>\n",
              "      <td id=\"T_eab48_row4_col5\" class=\"data row4 col5\" >nan</td>\n",
              "    </tr>\n",
              "  </tbody>\n",
              "</table>\n"
            ]
          },
          "metadata": {}
        }
      ]
    }
  ]
}