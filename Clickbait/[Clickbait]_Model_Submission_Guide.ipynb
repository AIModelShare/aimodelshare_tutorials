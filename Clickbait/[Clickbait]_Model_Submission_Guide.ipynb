{
  "nbformat": 4,
  "nbformat_minor": 0,
  "metadata": {
    "colab": {
      "name": "[Clickbait] Model Submission Guide.ipynb",
      "provenance": [],
      "collapsed_sections": []
    },
    "kernelspec": {
      "name": "python3",
      "display_name": "Python 3"
    },
    "language_info": {
      "name": "python"
    }
  },
  "cells": [
    {
      "cell_type": "markdown",
      "source": [
        "<p align=\"center\"><img width=\"50%\" src=\"https://aimodelsharecontent.s3.amazonaws.com/aimodshare_banner.jpg\" /></p>\n",
        "\n",
        "\n",
        "---"
      ],
      "metadata": {
        "id": "vVFTG0FjBykl"
      }
    },
    {
      "cell_type": "markdown",
      "metadata": {
        "id": "JXxGTgJz152A"
      },
      "source": [
        "<p align=\"center\"><h1 align=\"center\">Quick Start: Clickbait Detection Text Classification Tutorial</h1> \n",
        "\n",
        "##### <p align=\"center\">*Dataset Adapted From: Abhijnan Chakraborty, Bhargavi Paranjape, Sourya Kakarla, and Niloy Ganguly. \"Stop Clickbait: Detecting and Preventing Clickbaits in Online News Media”. In Proceedings of the 2016 IEEE/ACM International Conference on Advances in Social Networks Analysis and Mining (ASONAM), San Fransisco, US, August 2016.* \n",
        "---\n",
        "\n",
        "**Instructions:**\n",
        "1.   Get data in and set up X_train / X_test / y_train\n",
        "2.   Preprocess data using keras Tokenizer/ Write and Save Preprocessor function\n",
        "3. Fit model on preprocessed data and save preprocessor function and model \n",
        "4. Generate predictions from X_test data and submit model to competition\n",
        "5. Repeat submission process to improve place on leaderboard\n",
        "\n"
      ]
    },
    {
      "cell_type": "markdown",
      "metadata": {
        "id": "5gSrVJwp3E9H"
      },
      "source": [
        "## 1. Get data in and set up X_train, X_test, y_train objects"
      ]
    },
    {
      "cell_type": "code",
      "metadata": {
        "id": "PLTIaMB3ChSW"
      },
      "source": [
        "#install aimodelshare library\n",
        "! pip install aimodelshare --upgrade"
      ],
      "execution_count": null,
      "outputs": []
    },
    {
      "cell_type": "code",
      "metadata": {
        "colab": {
          "base_uri": "https://localhost:8080/"
        },
        "id": "d3PiJXBhC5y-",
        "outputId": "e7e7165b-485f-4ccc-fc2c-97bf891ce87e"
      },
      "source": [
        "# Get competition data\n",
        "from aimodelshare import download_data\n",
        "download_data('public.ecr.aws/y2e2a1d6/clickbait_competition_data-repository:latest') "
      ],
      "execution_count": 2,
      "outputs": [
        {
          "output_type": "stream",
          "name": "stdout",
          "text": [
            "Downloading [==============================================>  ]\n",
            "\n",
            "Data downloaded successfully.\n"
          ]
        }
      ]
    },
    {
      "cell_type": "code",
      "metadata": {
        "colab": {
          "base_uri": "https://localhost:8080/"
        },
        "id": "jT0qFCZFNzHq",
        "outputId": "d4d76454-53d7-4683-e8f2-801d3b76c30e"
      },
      "source": [
        "# Set up X_train, X_test, and y_train_labels objects\n",
        "import pandas as pd\n",
        "X_train=pd.read_csv(\"clickbait_competition_data/X_train.csv\", squeeze=True)\n",
        "X_test=pd.read_csv(\"clickbait_competition_data/X_test.csv\", squeeze=True)\n",
        "\n",
        "y_train_labels=pd.read_csv(\"clickbait_competition_data/y_train.csv\", squeeze=True)\n",
        "\n",
        "# ohe encode Y data\n",
        "y_train = pd.get_dummies(y_train_labels)\n",
        "\n",
        "X_train.head()"
      ],
      "execution_count": 3,
      "outputs": [
        {
          "output_type": "execute_result",
          "data": {
            "text/plain": [
              "0       MyBook Disk Drive Handles Lots of Easy Backups\n",
              "1                       CIT Posts Eighth Loss in a Row\n",
              "2    Candy Carson Singing The \"National Anthem\" Is ...\n",
              "3    Why You Need To Stop What You're Doing And Dat...\n",
              "4    27 Times Adele Proved She's Actually The Reale...\n",
              "Name: headline, dtype: object"
            ]
          },
          "metadata": {},
          "execution_count": 3
        }
      ]
    },
    {
      "cell_type": "markdown",
      "metadata": {
        "id": "gEzPoXPj3V7u"
      },
      "source": [
        "##2.   Preprocess data using keras tokenizer / Write and Save Preprocessor function\n"
      ]
    },
    {
      "cell_type": "code",
      "metadata": {
        "id": "16QV9Y9TC3B3"
      },
      "source": [
        "# This preprocessor function makes use of the tf.keras tokenizer\n",
        "\n",
        "from tensorflow.keras.preprocessing.text import Tokenizer\n",
        "from tensorflow.keras.preprocessing.sequence import pad_sequences\n",
        "import numpy as np\n",
        "\n",
        "# Build vocabulary from training text data\n",
        "tokenizer = Tokenizer(num_words=10000)\n",
        "tokenizer.fit_on_texts(X_train)\n",
        "\n",
        "# preprocessor tokenizes words and makes sure all documents have the same length\n",
        "def preprocessor(data, maxlen=40, max_words=10000):\n",
        "\n",
        "    sequences = tokenizer.texts_to_sequences(data)\n",
        "\n",
        "    word_index = tokenizer.word_index\n",
        "    X = pad_sequences(sequences, maxlen=maxlen)\n",
        "\n",
        "    return X"
      ],
      "execution_count": 4,
      "outputs": []
    },
    {
      "cell_type": "code",
      "source": [
        "# Check shape of data preproprecessed using your new preprocessor() function\n",
        "print(preprocessor(X_train, maxlen=40, max_words=10000).shape)\n",
        "print(preprocessor(X_test, maxlen=40, max_words=10000).shape)"
      ],
      "metadata": {
        "colab": {
          "base_uri": "https://localhost:8080/"
        },
        "id": "Si0L2hSJcd-5",
        "outputId": "1dbda262-8e87-487c-dc0d-f404cf48d525"
      },
      "execution_count": 5,
      "outputs": [
        {
          "output_type": "stream",
          "name": "stdout",
          "text": [
            "(24979, 40)\n",
            "(6245, 40)\n"
          ]
        }
      ]
    },
    {
      "cell_type": "markdown",
      "metadata": {
        "id": "X52kECL43b-O"
      },
      "source": [
        "##3. Fit model on preprocessed data and save preprocessor function and model \n"
      ]
    },
    {
      "cell_type": "code",
      "metadata": {
        "colab": {
          "base_uri": "https://localhost:8080/"
        },
        "id": "NCbBf8j9ClYl",
        "outputId": "70be511c-ccef-4450-e38c-ddeed8438c2f"
      },
      "source": [
        "from tensorflow.keras.layers import Dense, Embedding,Flatten\n",
        "from tensorflow.keras.models import Sequential\n",
        "\n",
        "model = Sequential()\n",
        "model.add(Embedding(10000, 16, input_length=40))\n",
        "model.add(Flatten())\n",
        "model.add(Dense(2, activation='softmax'))\n",
        "model.summary()\n",
        "\n",
        "model.compile(optimizer='rmsprop', loss='categorical_crossentropy', metrics=['acc'])\n",
        "\n",
        "history = model.fit(preprocessor(X_train), y_train,\n",
        "                    epochs=1,\n",
        "                    batch_size=32,\n",
        "                    validation_split=0.2)"
      ],
      "execution_count": 6,
      "outputs": [
        {
          "output_type": "stream",
          "name": "stdout",
          "text": [
            "Model: \"sequential\"\n",
            "_________________________________________________________________\n",
            " Layer (type)                Output Shape              Param #   \n",
            "=================================================================\n",
            " embedding (Embedding)       (None, 40, 16)            160000    \n",
            "                                                                 \n",
            " flatten (Flatten)           (None, 640)               0         \n",
            "                                                                 \n",
            " dense (Dense)               (None, 2)                 1282      \n",
            "                                                                 \n",
            "=================================================================\n",
            "Total params: 161,282\n",
            "Trainable params: 161,282\n",
            "Non-trainable params: 0\n",
            "_________________________________________________________________\n",
            "625/625 [==============================] - 2s 3ms/step - loss: 0.3023 - acc: 0.8815 - val_loss: 0.1257 - val_acc: 0.9530\n"
          ]
        }
      ]
    },
    {
      "cell_type": "markdown",
      "metadata": {
        "id": "zmJAnmO-5AcU"
      },
      "source": [
        "#### Save preprocessor function to local \"preprocessor.zip\" file"
      ]
    },
    {
      "cell_type": "code",
      "metadata": {
        "colab": {
          "base_uri": "https://localhost:8080/"
        },
        "id": "4VGacc0LDaMA",
        "outputId": "a6655444-bd62-4c55-b8d7-69eb5bb0122b"
      },
      "source": [
        "import aimodelshare as ai\n",
        "ai.export_preprocessor(preprocessor,\"\") "
      ],
      "execution_count": 7,
      "outputs": [
        {
          "output_type": "stream",
          "name": "stdout",
          "text": [
            "Your preprocessor is now saved to 'preprocessor.zip'\n"
          ]
        }
      ]
    },
    {
      "cell_type": "markdown",
      "metadata": {
        "id": "oOWBa8Cv5LdL"
      },
      "source": [
        "#### Save model to local \".onnx\" file"
      ]
    },
    {
      "cell_type": "code",
      "metadata": {
        "id": "pEhvnRiQDlY5"
      },
      "source": [
        "# Save keras model to local ONNX file\n",
        "from aimodelshare.aimsonnx import model_to_onnx\n",
        "\n",
        "onnx_model = model_to_onnx(model, framework='keras',\n",
        "                          transfer_learning=False,\n",
        "                          deep_learning=True)\n",
        "\n",
        "with open(\"model.onnx\", \"wb\") as f:\n",
        "    f.write(onnx_model.SerializeToString())"
      ],
      "execution_count": 8,
      "outputs": []
    },
    {
      "cell_type": "markdown",
      "metadata": {
        "id": "gHWkAzvX3m8O"
      },
      "source": [
        "## 4. Generate predictions from X_test data and submit model to competition\n"
      ]
    },
    {
      "cell_type": "code",
      "metadata": {
        "colab": {
          "base_uri": "https://localhost:8080/"
        },
        "id": "RtgkM02MDpkO",
        "outputId": "e6dabdb5-9a0c-4c63-dfff-9d46c794eec3"
      },
      "source": [
        "#Set credentials using modelshare.org username/password\n",
        "\n",
        "from aimodelshare.aws import set_credentials\n",
        "    \n",
        "apiurl=\"https://wc9yefhdca.execute-api.us-east-1.amazonaws.com/prod/m\" #This is the unique rest api that powers this Clickbait Identification Playground\n",
        "\n",
        "set_credentials(apiurl=apiurl)"
      ],
      "execution_count": 9,
      "outputs": [
        {
          "output_type": "stream",
          "name": "stdout",
          "text": [
            "AI Modelshare Username:··········\n",
            "AI Modelshare Password:··········\n",
            "AI Model Share login credentials set successfully.\n"
          ]
        }
      ]
    },
    {
      "cell_type": "code",
      "metadata": {
        "id": "fKNGSww8EGgi"
      },
      "source": [
        "#Instantiate Competition\n",
        "\n",
        "mycompetition= ai.Competition(apiurl)"
      ],
      "execution_count": 10,
      "outputs": []
    },
    {
      "cell_type": "code",
      "metadata": {
        "id": "_Ql4wksyEUnP",
        "colab": {
          "base_uri": "https://localhost:8080/"
        },
        "outputId": "c246a0d7-a831-4bfb-daab-0998f47cee89"
      },
      "source": [
        "#Submit Model 1: \n",
        "\n",
        "#-- Generate predicted y values (Model 1)\n",
        "#Note: Keras predict returns the predicted column index location for classification models\n",
        "prediction_column_index=model.predict(preprocessor(X_test)).argmax(axis=1)\n",
        "\n",
        "# extract correct prediction labels \n",
        "prediction_labels = [y_train.columns[i] for i in prediction_column_index]\n",
        "\n",
        "# Submit Model 1 to Competition Leaderboard\n",
        "mycompetition.submit_model(model_filepath = \"model.onnx\",\n",
        "                                 preprocessor_filepath=\"preprocessor.zip\",\n",
        "                                 prediction_submission=prediction_labels)"
      ],
      "execution_count": 11,
      "outputs": [
        {
          "output_type": "stream",
          "name": "stdout",
          "text": [
            "Insert search tags to help users find your model (optional): \n",
            "Provide any useful notes about your model (optional): \n",
            "\n",
            "Your model has been submitted as model version 3\n",
            "\n",
            "To submit code used to create this model or to view current leaderboard navigate to Model Playground: \n",
            "\n",
            " https://www.modelshare.org/detail/model:1309\n"
          ]
        }
      ]
    },
    {
      "cell_type": "code",
      "metadata": {
        "colab": {
          "base_uri": "https://localhost:8080/",
          "height": 222
        },
        "id": "GN1zvAmNEq17",
        "outputId": "86aa444d-7465-4798-b145-967e2933794b"
      },
      "source": [
        "# Get leaderboard to explore current best model architectures\n",
        "\n",
        "# Get raw data in pandas data frame\n",
        "data = mycompetition.get_leaderboard()\n",
        "\n",
        "# Stylize leaderboard data\n",
        "mycompetition.stylize_leaderboard(data)"
      ],
      "execution_count": 12,
      "outputs": [
        {
          "output_type": "execute_result",
          "data": {
            "text/html": [
              "<style  type=\"text/css\" >\n",
              "#T_af8a1122_7fa2_11ec_a8d0_0242ac1c0002row0_col0{\n",
              "            text-align:  center;\n",
              "            width:  10em;\n",
              "             height:  80%;\n",
              "            background:  linear-gradient(90deg,#f5f8d6 96.9%, transparent 96.9%);\n",
              "            color:  #251e1b;\n",
              "            font-size:  12px;\n",
              "        }#T_af8a1122_7fa2_11ec_a8d0_0242ac1c0002row0_col1{\n",
              "            text-align:  center;\n",
              "            width:  10em;\n",
              "             height:  80%;\n",
              "            background:  linear-gradient(90deg,#c778c8 96.9%, transparent 96.9%);\n",
              "            color:  #251e1b;\n",
              "            font-size:  12px;\n",
              "        }#T_af8a1122_7fa2_11ec_a8d0_0242ac1c0002row0_col2{\n",
              "            text-align:  center;\n",
              "            width:  10em;\n",
              "             height:  80%;\n",
              "            background:  linear-gradient(90deg,#ff4971 96.9%, transparent 96.9%);\n",
              "            color:  #251e1b;\n",
              "            font-size:  12px;\n",
              "        }#T_af8a1122_7fa2_11ec_a8d0_0242ac1c0002row0_col3{\n",
              "            text-align:  center;\n",
              "            width:  10em;\n",
              "             height:  80%;\n",
              "            background:  linear-gradient(90deg,#aadbaa 96.9%, transparent 96.9%);\n",
              "            color:  #251e1b;\n",
              "            font-size:  12px;\n",
              "        }#T_af8a1122_7fa2_11ec_a8d0_0242ac1c0002row0_col4,#T_af8a1122_7fa2_11ec_a8d0_0242ac1c0002row0_col5,#T_af8a1122_7fa2_11ec_a8d0_0242ac1c0002row0_col6,#T_af8a1122_7fa2_11ec_a8d0_0242ac1c0002row0_col7,#T_af8a1122_7fa2_11ec_a8d0_0242ac1c0002row0_col8,#T_af8a1122_7fa2_11ec_a8d0_0242ac1c0002row0_col9,#T_af8a1122_7fa2_11ec_a8d0_0242ac1c0002row0_col10,#T_af8a1122_7fa2_11ec_a8d0_0242ac1c0002row0_col11,#T_af8a1122_7fa2_11ec_a8d0_0242ac1c0002row0_col12,#T_af8a1122_7fa2_11ec_a8d0_0242ac1c0002row0_col13,#T_af8a1122_7fa2_11ec_a8d0_0242ac1c0002row0_col14,#T_af8a1122_7fa2_11ec_a8d0_0242ac1c0002row0_col15,#T_af8a1122_7fa2_11ec_a8d0_0242ac1c0002row0_col16,#T_af8a1122_7fa2_11ec_a8d0_0242ac1c0002row0_col17,#T_af8a1122_7fa2_11ec_a8d0_0242ac1c0002row0_col18,#T_af8a1122_7fa2_11ec_a8d0_0242ac1c0002row0_col19,#T_af8a1122_7fa2_11ec_a8d0_0242ac1c0002row0_col20,#T_af8a1122_7fa2_11ec_a8d0_0242ac1c0002row0_col21,#T_af8a1122_7fa2_11ec_a8d0_0242ac1c0002row0_col22,#T_af8a1122_7fa2_11ec_a8d0_0242ac1c0002row1_col4,#T_af8a1122_7fa2_11ec_a8d0_0242ac1c0002row1_col5,#T_af8a1122_7fa2_11ec_a8d0_0242ac1c0002row1_col6,#T_af8a1122_7fa2_11ec_a8d0_0242ac1c0002row1_col7,#T_af8a1122_7fa2_11ec_a8d0_0242ac1c0002row1_col8,#T_af8a1122_7fa2_11ec_a8d0_0242ac1c0002row1_col9,#T_af8a1122_7fa2_11ec_a8d0_0242ac1c0002row1_col10,#T_af8a1122_7fa2_11ec_a8d0_0242ac1c0002row1_col11,#T_af8a1122_7fa2_11ec_a8d0_0242ac1c0002row1_col12,#T_af8a1122_7fa2_11ec_a8d0_0242ac1c0002row1_col13,#T_af8a1122_7fa2_11ec_a8d0_0242ac1c0002row1_col14,#T_af8a1122_7fa2_11ec_a8d0_0242ac1c0002row1_col15,#T_af8a1122_7fa2_11ec_a8d0_0242ac1c0002row1_col16,#T_af8a1122_7fa2_11ec_a8d0_0242ac1c0002row1_col17,#T_af8a1122_7fa2_11ec_a8d0_0242ac1c0002row1_col18,#T_af8a1122_7fa2_11ec_a8d0_0242ac1c0002row1_col19,#T_af8a1122_7fa2_11ec_a8d0_0242ac1c0002row1_col20,#T_af8a1122_7fa2_11ec_a8d0_0242ac1c0002row1_col21,#T_af8a1122_7fa2_11ec_a8d0_0242ac1c0002row1_col22,#T_af8a1122_7fa2_11ec_a8d0_0242ac1c0002row2_col4,#T_af8a1122_7fa2_11ec_a8d0_0242ac1c0002row2_col5,#T_af8a1122_7fa2_11ec_a8d0_0242ac1c0002row2_col6,#T_af8a1122_7fa2_11ec_a8d0_0242ac1c0002row2_col7,#T_af8a1122_7fa2_11ec_a8d0_0242ac1c0002row2_col8,#T_af8a1122_7fa2_11ec_a8d0_0242ac1c0002row2_col9,#T_af8a1122_7fa2_11ec_a8d0_0242ac1c0002row2_col10,#T_af8a1122_7fa2_11ec_a8d0_0242ac1c0002row2_col11,#T_af8a1122_7fa2_11ec_a8d0_0242ac1c0002row2_col12,#T_af8a1122_7fa2_11ec_a8d0_0242ac1c0002row2_col13,#T_af8a1122_7fa2_11ec_a8d0_0242ac1c0002row2_col14,#T_af8a1122_7fa2_11ec_a8d0_0242ac1c0002row2_col15,#T_af8a1122_7fa2_11ec_a8d0_0242ac1c0002row2_col16,#T_af8a1122_7fa2_11ec_a8d0_0242ac1c0002row2_col17,#T_af8a1122_7fa2_11ec_a8d0_0242ac1c0002row2_col18,#T_af8a1122_7fa2_11ec_a8d0_0242ac1c0002row2_col19,#T_af8a1122_7fa2_11ec_a8d0_0242ac1c0002row2_col20,#T_af8a1122_7fa2_11ec_a8d0_0242ac1c0002row2_col21,#T_af8a1122_7fa2_11ec_a8d0_0242ac1c0002row2_col22{\n",
              "            text-align:  center;\n",
              "        }#T_af8a1122_7fa2_11ec_a8d0_0242ac1c0002row1_col0{\n",
              "            text-align:  center;\n",
              "            width:  10em;\n",
              "             height:  80%;\n",
              "            background:  linear-gradient(90deg,#f5f8d6 96.1%, transparent 96.1%);\n",
              "            color:  #251e1b;\n",
              "            font-size:  12px;\n",
              "        }#T_af8a1122_7fa2_11ec_a8d0_0242ac1c0002row1_col1{\n",
              "            text-align:  center;\n",
              "            width:  10em;\n",
              "             height:  80%;\n",
              "            background:  linear-gradient(90deg,#c778c8 96.1%, transparent 96.1%);\n",
              "            color:  #251e1b;\n",
              "            font-size:  12px;\n",
              "        }#T_af8a1122_7fa2_11ec_a8d0_0242ac1c0002row1_col2{\n",
              "            text-align:  center;\n",
              "            width:  10em;\n",
              "             height:  80%;\n",
              "            background:  linear-gradient(90deg,#ff4971 96.1%, transparent 96.1%);\n",
              "            color:  #251e1b;\n",
              "            font-size:  12px;\n",
              "        }#T_af8a1122_7fa2_11ec_a8d0_0242ac1c0002row1_col3{\n",
              "            text-align:  center;\n",
              "            width:  10em;\n",
              "             height:  80%;\n",
              "            background:  linear-gradient(90deg,#aadbaa 96.0%, transparent 96.0%);\n",
              "            color:  #251e1b;\n",
              "            font-size:  12px;\n",
              "        }#T_af8a1122_7fa2_11ec_a8d0_0242ac1c0002row2_col0{\n",
              "            text-align:  center;\n",
              "            width:  10em;\n",
              "             height:  80%;\n",
              "            background:  linear-gradient(90deg,#f5f8d6 78.5%, transparent 78.5%);\n",
              "            color:  #251e1b;\n",
              "            font-size:  12px;\n",
              "        }#T_af8a1122_7fa2_11ec_a8d0_0242ac1c0002row2_col1{\n",
              "            text-align:  center;\n",
              "            width:  10em;\n",
              "             height:  80%;\n",
              "            background:  linear-gradient(90deg,#c778c8 78.4%, transparent 78.4%);\n",
              "            color:  #251e1b;\n",
              "            font-size:  12px;\n",
              "        }#T_af8a1122_7fa2_11ec_a8d0_0242ac1c0002row2_col2{\n",
              "            text-align:  center;\n",
              "            width:  10em;\n",
              "             height:  80%;\n",
              "            background:  linear-gradient(90deg,#ff4971 79.4%, transparent 79.4%);\n",
              "            color:  #251e1b;\n",
              "            font-size:  12px;\n",
              "        }#T_af8a1122_7fa2_11ec_a8d0_0242ac1c0002row2_col3{\n",
              "            text-align:  center;\n",
              "            width:  10em;\n",
              "             height:  80%;\n",
              "            background:  linear-gradient(90deg,#aadbaa 78.7%, transparent 78.7%);\n",
              "            color:  #251e1b;\n",
              "            font-size:  12px;\n",
              "        }</style><table id=\"T_af8a1122_7fa2_11ec_a8d0_0242ac1c0002\" class=\"dataframe\"><thead>    <tr>        <th class=\"blank level0\" ></th>        <th class=\"col_heading level0 col0\" >accuracy</th>        <th class=\"col_heading level0 col1\" >f1_score</th>        <th class=\"col_heading level0 col2\" >precision</th>        <th class=\"col_heading level0 col3\" >recall</th>        <th class=\"col_heading level0 col4\" >ml_framework</th>        <th class=\"col_heading level0 col5\" >transfer_learning</th>        <th class=\"col_heading level0 col6\" >deep_learning</th>        <th class=\"col_heading level0 col7\" >model_type</th>        <th class=\"col_heading level0 col8\" >depth</th>        <th class=\"col_heading level0 col9\" >num_params</th>        <th class=\"col_heading level0 col10\" >lstm_layers</th>        <th class=\"col_heading level0 col11\" >embedding_layers</th>        <th class=\"col_heading level0 col12\" >flatten_layers</th>        <th class=\"col_heading level0 col13\" >dense_layers</th>        <th class=\"col_heading level0 col14\" >bidirectional_layers</th>        <th class=\"col_heading level0 col15\" >softmax_act</th>        <th class=\"col_heading level0 col16\" >tanh_act</th>        <th class=\"col_heading level0 col17\" >loss</th>        <th class=\"col_heading level0 col18\" >optimizer</th>        <th class=\"col_heading level0 col19\" >model_config</th>        <th class=\"col_heading level0 col20\" >memory_size</th>        <th class=\"col_heading level0 col21\" >username</th>        <th class=\"col_heading level0 col22\" >version</th>    </tr></thead><tbody>\n",
              "                <tr>\n",
              "                        <th id=\"T_af8a1122_7fa2_11ec_a8d0_0242ac1c0002level0_row0\" class=\"row_heading level0 row0\" >1</th>\n",
              "                        <td id=\"T_af8a1122_7fa2_11ec_a8d0_0242ac1c0002row0_col0\" class=\"data row0 col0\" >96.89%</td>\n",
              "                        <td id=\"T_af8a1122_7fa2_11ec_a8d0_0242ac1c0002row0_col1\" class=\"data row0 col1\" >96.89%</td>\n",
              "                        <td id=\"T_af8a1122_7fa2_11ec_a8d0_0242ac1c0002row0_col2\" class=\"data row0 col2\" >96.88%</td>\n",
              "                        <td id=\"T_af8a1122_7fa2_11ec_a8d0_0242ac1c0002row0_col3\" class=\"data row0 col3\" >96.90%</td>\n",
              "                        <td id=\"T_af8a1122_7fa2_11ec_a8d0_0242ac1c0002row0_col4\" class=\"data row0 col4\" >keras</td>\n",
              "                        <td id=\"T_af8a1122_7fa2_11ec_a8d0_0242ac1c0002row0_col5\" class=\"data row0 col5\" >False</td>\n",
              "                        <td id=\"T_af8a1122_7fa2_11ec_a8d0_0242ac1c0002row0_col6\" class=\"data row0 col6\" >True</td>\n",
              "                        <td id=\"T_af8a1122_7fa2_11ec_a8d0_0242ac1c0002row0_col7\" class=\"data row0 col7\" >Sequential</td>\n",
              "                        <td id=\"T_af8a1122_7fa2_11ec_a8d0_0242ac1c0002row0_col8\" class=\"data row0 col8\" >5</td>\n",
              "                        <td id=\"T_af8a1122_7fa2_11ec_a8d0_0242ac1c0002row0_col9\" class=\"data row0 col9\" >174658</td>\n",
              "                        <td id=\"T_af8a1122_7fa2_11ec_a8d0_0242ac1c0002row0_col10\" class=\"data row0 col10\" >2.000000</td>\n",
              "                        <td id=\"T_af8a1122_7fa2_11ec_a8d0_0242ac1c0002row0_col11\" class=\"data row0 col11\" >1</td>\n",
              "                        <td id=\"T_af8a1122_7fa2_11ec_a8d0_0242ac1c0002row0_col12\" class=\"data row0 col12\" >1.000000</td>\n",
              "                        <td id=\"T_af8a1122_7fa2_11ec_a8d0_0242ac1c0002row0_col13\" class=\"data row0 col13\" >1</td>\n",
              "                        <td id=\"T_af8a1122_7fa2_11ec_a8d0_0242ac1c0002row0_col14\" class=\"data row0 col14\" >nan</td>\n",
              "                        <td id=\"T_af8a1122_7fa2_11ec_a8d0_0242ac1c0002row0_col15\" class=\"data row0 col15\" >1</td>\n",
              "                        <td id=\"T_af8a1122_7fa2_11ec_a8d0_0242ac1c0002row0_col16\" class=\"data row0 col16\" >2.000000</td>\n",
              "                        <td id=\"T_af8a1122_7fa2_11ec_a8d0_0242ac1c0002row0_col17\" class=\"data row0 col17\" >function</td>\n",
              "                        <td id=\"T_af8a1122_7fa2_11ec_a8d0_0242ac1c0002row0_col18\" class=\"data row0 col18\" >RMSprop</td>\n",
              "                        <td id=\"T_af8a1122_7fa2_11ec_a8d0_0242ac1c0002row0_col19\" class=\"data row0 col19\" >{'name': 'sequential', 'layers...</td>\n",
              "                        <td id=\"T_af8a1122_7fa2_11ec_a8d0_0242ac1c0002row0_col20\" class=\"data row0 col20\" >2233624</td>\n",
              "                        <td id=\"T_af8a1122_7fa2_11ec_a8d0_0242ac1c0002row0_col21\" class=\"data row0 col21\" >AIModelShare</td>\n",
              "                        <td id=\"T_af8a1122_7fa2_11ec_a8d0_0242ac1c0002row0_col22\" class=\"data row0 col22\" >1</td>\n",
              "            </tr>\n",
              "            <tr>\n",
              "                        <th id=\"T_af8a1122_7fa2_11ec_a8d0_0242ac1c0002level0_row1\" class=\"row_heading level0 row1\" >2</th>\n",
              "                        <td id=\"T_af8a1122_7fa2_11ec_a8d0_0242ac1c0002row1_col0\" class=\"data row1 col0\" >96.06%</td>\n",
              "                        <td id=\"T_af8a1122_7fa2_11ec_a8d0_0242ac1c0002row1_col1\" class=\"data row1 col1\" >96.05%</td>\n",
              "                        <td id=\"T_af8a1122_7fa2_11ec_a8d0_0242ac1c0002row1_col2\" class=\"data row1 col2\" >96.12%</td>\n",
              "                        <td id=\"T_af8a1122_7fa2_11ec_a8d0_0242ac1c0002row1_col3\" class=\"data row1 col3\" >96.02%</td>\n",
              "                        <td id=\"T_af8a1122_7fa2_11ec_a8d0_0242ac1c0002row1_col4\" class=\"data row1 col4\" >keras</td>\n",
              "                        <td id=\"T_af8a1122_7fa2_11ec_a8d0_0242ac1c0002row1_col5\" class=\"data row1 col5\" >False</td>\n",
              "                        <td id=\"T_af8a1122_7fa2_11ec_a8d0_0242ac1c0002row1_col6\" class=\"data row1 col6\" >True</td>\n",
              "                        <td id=\"T_af8a1122_7fa2_11ec_a8d0_0242ac1c0002row1_col7\" class=\"data row1 col7\" >Sequential</td>\n",
              "                        <td id=\"T_af8a1122_7fa2_11ec_a8d0_0242ac1c0002row1_col8\" class=\"data row1 col8\" >3</td>\n",
              "                        <td id=\"T_af8a1122_7fa2_11ec_a8d0_0242ac1c0002row1_col9\" class=\"data row1 col9\" >161282</td>\n",
              "                        <td id=\"T_af8a1122_7fa2_11ec_a8d0_0242ac1c0002row1_col10\" class=\"data row1 col10\" >nan</td>\n",
              "                        <td id=\"T_af8a1122_7fa2_11ec_a8d0_0242ac1c0002row1_col11\" class=\"data row1 col11\" >1</td>\n",
              "                        <td id=\"T_af8a1122_7fa2_11ec_a8d0_0242ac1c0002row1_col12\" class=\"data row1 col12\" >1.000000</td>\n",
              "                        <td id=\"T_af8a1122_7fa2_11ec_a8d0_0242ac1c0002row1_col13\" class=\"data row1 col13\" >1</td>\n",
              "                        <td id=\"T_af8a1122_7fa2_11ec_a8d0_0242ac1c0002row1_col14\" class=\"data row1 col14\" >nan</td>\n",
              "                        <td id=\"T_af8a1122_7fa2_11ec_a8d0_0242ac1c0002row1_col15\" class=\"data row1 col15\" >1</td>\n",
              "                        <td id=\"T_af8a1122_7fa2_11ec_a8d0_0242ac1c0002row1_col16\" class=\"data row1 col16\" >nan</td>\n",
              "                        <td id=\"T_af8a1122_7fa2_11ec_a8d0_0242ac1c0002row1_col17\" class=\"data row1 col17\" >str</td>\n",
              "                        <td id=\"T_af8a1122_7fa2_11ec_a8d0_0242ac1c0002row1_col18\" class=\"data row1 col18\" >RMSprop</td>\n",
              "                        <td id=\"T_af8a1122_7fa2_11ec_a8d0_0242ac1c0002row1_col19\" class=\"data row1 col19\" >{'name': 'sequential', 'layers...</td>\n",
              "                        <td id=\"T_af8a1122_7fa2_11ec_a8d0_0242ac1c0002row1_col20\" class=\"data row1 col20\" >1412632</td>\n",
              "                        <td id=\"T_af8a1122_7fa2_11ec_a8d0_0242ac1c0002row1_col21\" class=\"data row1 col21\" >AIModelShare</td>\n",
              "                        <td id=\"T_af8a1122_7fa2_11ec_a8d0_0242ac1c0002row1_col22\" class=\"data row1 col22\" >3</td>\n",
              "            </tr>\n",
              "            <tr>\n",
              "                        <th id=\"T_af8a1122_7fa2_11ec_a8d0_0242ac1c0002level0_row2\" class=\"row_heading level0 row2\" >3</th>\n",
              "                        <td id=\"T_af8a1122_7fa2_11ec_a8d0_0242ac1c0002row2_col0\" class=\"data row2 col0\" >78.46%</td>\n",
              "                        <td id=\"T_af8a1122_7fa2_11ec_a8d0_0242ac1c0002row2_col1\" class=\"data row2 col1\" >78.38%</td>\n",
              "                        <td id=\"T_af8a1122_7fa2_11ec_a8d0_0242ac1c0002row2_col2\" class=\"data row2 col2\" >79.41%</td>\n",
              "                        <td id=\"T_af8a1122_7fa2_11ec_a8d0_0242ac1c0002row2_col3\" class=\"data row2 col3\" >78.74%</td>\n",
              "                        <td id=\"T_af8a1122_7fa2_11ec_a8d0_0242ac1c0002row2_col4\" class=\"data row2 col4\" >keras</td>\n",
              "                        <td id=\"T_af8a1122_7fa2_11ec_a8d0_0242ac1c0002row2_col5\" class=\"data row2 col5\" >False</td>\n",
              "                        <td id=\"T_af8a1122_7fa2_11ec_a8d0_0242ac1c0002row2_col6\" class=\"data row2 col6\" >True</td>\n",
              "                        <td id=\"T_af8a1122_7fa2_11ec_a8d0_0242ac1c0002row2_col7\" class=\"data row2 col7\" >Sequential</td>\n",
              "                        <td id=\"T_af8a1122_7fa2_11ec_a8d0_0242ac1c0002row2_col8\" class=\"data row2 col8\" >5</td>\n",
              "                        <td id=\"T_af8a1122_7fa2_11ec_a8d0_0242ac1c0002row2_col9\" class=\"data row2 col9\" >191362</td>\n",
              "                        <td id=\"T_af8a1122_7fa2_11ec_a8d0_0242ac1c0002row2_col10\" class=\"data row2 col10\" >2.000000</td>\n",
              "                        <td id=\"T_af8a1122_7fa2_11ec_a8d0_0242ac1c0002row2_col11\" class=\"data row2 col11\" >1</td>\n",
              "                        <td id=\"T_af8a1122_7fa2_11ec_a8d0_0242ac1c0002row2_col12\" class=\"data row2 col12\" >nan</td>\n",
              "                        <td id=\"T_af8a1122_7fa2_11ec_a8d0_0242ac1c0002row2_col13\" class=\"data row2 col13\" >1</td>\n",
              "                        <td id=\"T_af8a1122_7fa2_11ec_a8d0_0242ac1c0002row2_col14\" class=\"data row2 col14\" >1.000000</td>\n",
              "                        <td id=\"T_af8a1122_7fa2_11ec_a8d0_0242ac1c0002row2_col15\" class=\"data row2 col15\" >1</td>\n",
              "                        <td id=\"T_af8a1122_7fa2_11ec_a8d0_0242ac1c0002row2_col16\" class=\"data row2 col16\" >2.000000</td>\n",
              "                        <td id=\"T_af8a1122_7fa2_11ec_a8d0_0242ac1c0002row2_col17\" class=\"data row2 col17\" >function</td>\n",
              "                        <td id=\"T_af8a1122_7fa2_11ec_a8d0_0242ac1c0002row2_col18\" class=\"data row2 col18\" >RMSprop</td>\n",
              "                        <td id=\"T_af8a1122_7fa2_11ec_a8d0_0242ac1c0002row2_col19\" class=\"data row2 col19\" >{'name': 'sequential_11', 'lay...</td>\n",
              "                        <td id=\"T_af8a1122_7fa2_11ec_a8d0_0242ac1c0002row2_col20\" class=\"data row2 col20\" >3354488</td>\n",
              "                        <td id=\"T_af8a1122_7fa2_11ec_a8d0_0242ac1c0002row2_col21\" class=\"data row2 col21\" >AIModelShare</td>\n",
              "                        <td id=\"T_af8a1122_7fa2_11ec_a8d0_0242ac1c0002row2_col22\" class=\"data row2 col22\" >2</td>\n",
              "            </tr>\n",
              "    </tbody></table>"
            ],
            "text/plain": [
              "<pandas.io.formats.style.Styler at 0x7f3ec4177f90>"
            ]
          },
          "metadata": {},
          "execution_count": 12
        }
      ]
    },
    {
      "cell_type": "markdown",
      "metadata": {
        "id": "bwNKs0wP4r5s"
      },
      "source": [
        "## 5. Repeat submission process to improve place on leaderboard\n"
      ]
    },
    {
      "cell_type": "code",
      "metadata": {
        "colab": {
          "base_uri": "https://localhost:8080/"
        },
        "id": "FgSs5PAtPCZH",
        "outputId": "100f31fb-3df7-45d5-bce7-e452dc243671"
      },
      "source": [
        "# Train and submit model 2 using same preprocessor (note that you could save a new preprocessor, but we will use the same one for this example).\n",
        "from tensorflow.keras.models import Sequential\n",
        "from tensorflow.keras.layers import Dense, Embedding, LSTM, Flatten\n",
        "\n",
        "model2 = Sequential()\n",
        "model2.add(Embedding(10000, 16, input_length=40))\n",
        "model2.add(LSTM(32, return_sequences=True, dropout=0.2))\n",
        "model2.add(LSTM(32, dropout=0.2))\n",
        "model2.add(Flatten())\n",
        "model2.add(Dense(2, activation='softmax'))\n",
        "\n",
        "model2.compile(optimizer='rmsprop', loss='binary_crossentropy', metrics=['acc'])\n",
        "history = model2.fit(preprocessor(X_train), y_train,\n",
        "                    epochs=1,\n",
        "                    batch_size=32,\n",
        "                    validation_split=0.2)"
      ],
      "execution_count": 13,
      "outputs": [
        {
          "output_type": "stream",
          "name": "stdout",
          "text": [
            "625/625 [==============================] - 30s 42ms/step - loss: 0.2027 - acc: 0.9164 - val_loss: 0.1063 - val_acc: 0.9614\n"
          ]
        }
      ]
    },
    {
      "cell_type": "code",
      "metadata": {
        "id": "aIdmSpYVPYAw"
      },
      "source": [
        "# Save keras model to local ONNX file\n",
        "from aimodelshare.aimsonnx import model_to_onnx\n",
        "\n",
        "onnx_model = model_to_onnx(model2, framework='keras',\n",
        "                          transfer_learning=False,\n",
        "                          deep_learning=True)\n",
        "\n",
        "with open(\"model2.onnx\", \"wb\") as f:\n",
        "    f.write(onnx_model.SerializeToString())"
      ],
      "execution_count": 14,
      "outputs": []
    },
    {
      "cell_type": "code",
      "metadata": {
        "colab": {
          "base_uri": "https://localhost:8080/"
        },
        "id": "nszPPrfwPlUk",
        "outputId": "d6fa10e4-35e2-419d-8434-2e88dc5294d2"
      },
      "source": [
        "#Submit Model 2: \n",
        "\n",
        "#-- Generate predicted y values (Model 2)\n",
        "prediction_column_index=model2.predict(preprocessor(X_test)).argmax(axis=1)\n",
        "\n",
        "# extract correct prediction labels \n",
        "prediction_labels = [y_train.columns[i] for i in prediction_column_index]\n",
        "\n",
        "# Submit Model 2 to Competition Leaderboard\n",
        "mycompetition.submit_model(model_filepath = \"model2.onnx\",\n",
        "                                 preprocessor_filepath=\"preprocessor.zip\",\n",
        "                                 prediction_submission=prediction_labels)"
      ],
      "execution_count": 15,
      "outputs": [
        {
          "output_type": "stream",
          "name": "stdout",
          "text": [
            "Insert search tags to help users find your model (optional): \n",
            "Provide any useful notes about your model (optional): \n",
            "\n",
            "Your model has been submitted as model version 4\n",
            "\n",
            "To submit code used to create this model or to view current leaderboard navigate to Model Playground: \n",
            "\n",
            " https://www.modelshare.org/detail/model:1309\n"
          ]
        }
      ]
    },
    {
      "cell_type": "code",
      "metadata": {
        "colab": {
          "base_uri": "https://localhost:8080/",
          "height": 144
        },
        "id": "qLl7yLpVEx26",
        "outputId": "5a7a2500-c2e4-4a09-b360-83c737a34bdb"
      },
      "source": [
        "# Compare two or more models \n",
        "data=mycompetition.compare_models([3, 4], verbose=1)\n",
        "mycompetition.stylize_compare(data)"
      ],
      "execution_count": 17,
      "outputs": [
        {
          "output_type": "display_data",
          "data": {
            "text/html": [
              "<style  type=\"text/css\" >\n",
              "    #T_fece1fe4_7fa2_11ec_a8d0_0242ac1c0002 caption {\n",
              "          color: black;\n",
              "          font-size: 18px;\n",
              "    }#T_fece1fe4_7fa2_11ec_a8d0_0242ac1c0002row0_col0,#T_fece1fe4_7fa2_11ec_a8d0_0242ac1c0002row0_col3{\n",
              "            background:  #f4cae4;\n",
              "            color:  black;\n",
              "            color:  black;\n",
              "        }#T_fece1fe4_7fa2_11ec_a8d0_0242ac1c0002row0_col1,#T_fece1fe4_7fa2_11ec_a8d0_0242ac1c0002row0_col2,#T_fece1fe4_7fa2_11ec_a8d0_0242ac1c0002row0_col4,#T_fece1fe4_7fa2_11ec_a8d0_0242ac1c0002row0_col5,#T_fece1fe4_7fa2_11ec_a8d0_0242ac1c0002row1_col1,#T_fece1fe4_7fa2_11ec_a8d0_0242ac1c0002row1_col2,#T_fece1fe4_7fa2_11ec_a8d0_0242ac1c0002row1_col4,#T_fece1fe4_7fa2_11ec_a8d0_0242ac1c0002row1_col5,#T_fece1fe4_7fa2_11ec_a8d0_0242ac1c0002row2_col1,#T_fece1fe4_7fa2_11ec_a8d0_0242ac1c0002row2_col2,#T_fece1fe4_7fa2_11ec_a8d0_0242ac1c0002row2_col4,#T_fece1fe4_7fa2_11ec_a8d0_0242ac1c0002row2_col5,#T_fece1fe4_7fa2_11ec_a8d0_0242ac1c0002row3_col0,#T_fece1fe4_7fa2_11ec_a8d0_0242ac1c0002row3_col1,#T_fece1fe4_7fa2_11ec_a8d0_0242ac1c0002row3_col2,#T_fece1fe4_7fa2_11ec_a8d0_0242ac1c0002row3_col4,#T_fece1fe4_7fa2_11ec_a8d0_0242ac1c0002row3_col5,#T_fece1fe4_7fa2_11ec_a8d0_0242ac1c0002row4_col0,#T_fece1fe4_7fa2_11ec_a8d0_0242ac1c0002row4_col1,#T_fece1fe4_7fa2_11ec_a8d0_0242ac1c0002row4_col2,#T_fece1fe4_7fa2_11ec_a8d0_0242ac1c0002row4_col4,#T_fece1fe4_7fa2_11ec_a8d0_0242ac1c0002row4_col5{\n",
              "            background:  white;\n",
              "            color:  black;\n",
              "            color:  black;\n",
              "        }#T_fece1fe4_7fa2_11ec_a8d0_0242ac1c0002row1_col0,#T_fece1fe4_7fa2_11ec_a8d0_0242ac1c0002row3_col3{\n",
              "            background:  #e6f5c9;\n",
              "            color:  black;\n",
              "            color:  black;\n",
              "        }#T_fece1fe4_7fa2_11ec_a8d0_0242ac1c0002row1_col3,#T_fece1fe4_7fa2_11ec_a8d0_0242ac1c0002row2_col3{\n",
              "            background:  #cbd5e8;\n",
              "            color:  black;\n",
              "            color:  black;\n",
              "        }#T_fece1fe4_7fa2_11ec_a8d0_0242ac1c0002row2_col0,#T_fece1fe4_7fa2_11ec_a8d0_0242ac1c0002row4_col3{\n",
              "            background:  #fff2ae;\n",
              "            color:  black;\n",
              "            color:  black;\n",
              "        }</style><table id=\"T_fece1fe4_7fa2_11ec_a8d0_0242ac1c0002\" ><caption>Model type: Neural Network</caption><thead>    <tr>        <th class=\"blank level0\" ></th>        <th class=\"col_heading level0 col0\" >Model_3_Layer</th>        <th class=\"col_heading level0 col1\" >Model_3_Shape</th>        <th class=\"col_heading level0 col2\" >Model_3_Params</th>        <th class=\"col_heading level0 col3\" >Model_4_Layer</th>        <th class=\"col_heading level0 col4\" >Model_4_Shape</th>        <th class=\"col_heading level0 col5\" >Model_4_Params</th>    </tr></thead><tbody>\n",
              "                <tr>\n",
              "                        <th id=\"T_fece1fe4_7fa2_11ec_a8d0_0242ac1c0002level0_row0\" class=\"row_heading level0 row0\" >0</th>\n",
              "                        <td id=\"T_fece1fe4_7fa2_11ec_a8d0_0242ac1c0002row0_col0\" class=\"data row0 col0\" >Embedding</td>\n",
              "                        <td id=\"T_fece1fe4_7fa2_11ec_a8d0_0242ac1c0002row0_col1\" class=\"data row0 col1\" >[None, 40, 16]</td>\n",
              "                        <td id=\"T_fece1fe4_7fa2_11ec_a8d0_0242ac1c0002row0_col2\" class=\"data row0 col2\" >160000.000000</td>\n",
              "                        <td id=\"T_fece1fe4_7fa2_11ec_a8d0_0242ac1c0002row0_col3\" class=\"data row0 col3\" >Embedding</td>\n",
              "                        <td id=\"T_fece1fe4_7fa2_11ec_a8d0_0242ac1c0002row0_col4\" class=\"data row0 col4\" >[None, 40, 16]</td>\n",
              "                        <td id=\"T_fece1fe4_7fa2_11ec_a8d0_0242ac1c0002row0_col5\" class=\"data row0 col5\" >160000</td>\n",
              "            </tr>\n",
              "            <tr>\n",
              "                        <th id=\"T_fece1fe4_7fa2_11ec_a8d0_0242ac1c0002level0_row1\" class=\"row_heading level0 row1\" >1</th>\n",
              "                        <td id=\"T_fece1fe4_7fa2_11ec_a8d0_0242ac1c0002row1_col0\" class=\"data row1 col0\" >Flatten</td>\n",
              "                        <td id=\"T_fece1fe4_7fa2_11ec_a8d0_0242ac1c0002row1_col1\" class=\"data row1 col1\" >[None, 640]</td>\n",
              "                        <td id=\"T_fece1fe4_7fa2_11ec_a8d0_0242ac1c0002row1_col2\" class=\"data row1 col2\" >0.000000</td>\n",
              "                        <td id=\"T_fece1fe4_7fa2_11ec_a8d0_0242ac1c0002row1_col3\" class=\"data row1 col3\" >LSTM</td>\n",
              "                        <td id=\"T_fece1fe4_7fa2_11ec_a8d0_0242ac1c0002row1_col4\" class=\"data row1 col4\" >[None, 40, 32]</td>\n",
              "                        <td id=\"T_fece1fe4_7fa2_11ec_a8d0_0242ac1c0002row1_col5\" class=\"data row1 col5\" >6272</td>\n",
              "            </tr>\n",
              "            <tr>\n",
              "                        <th id=\"T_fece1fe4_7fa2_11ec_a8d0_0242ac1c0002level0_row2\" class=\"row_heading level0 row2\" >2</th>\n",
              "                        <td id=\"T_fece1fe4_7fa2_11ec_a8d0_0242ac1c0002row2_col0\" class=\"data row2 col0\" >Dense</td>\n",
              "                        <td id=\"T_fece1fe4_7fa2_11ec_a8d0_0242ac1c0002row2_col1\" class=\"data row2 col1\" >[None, 2]</td>\n",
              "                        <td id=\"T_fece1fe4_7fa2_11ec_a8d0_0242ac1c0002row2_col2\" class=\"data row2 col2\" >1282.000000</td>\n",
              "                        <td id=\"T_fece1fe4_7fa2_11ec_a8d0_0242ac1c0002row2_col3\" class=\"data row2 col3\" >LSTM</td>\n",
              "                        <td id=\"T_fece1fe4_7fa2_11ec_a8d0_0242ac1c0002row2_col4\" class=\"data row2 col4\" >[None, 32]</td>\n",
              "                        <td id=\"T_fece1fe4_7fa2_11ec_a8d0_0242ac1c0002row2_col5\" class=\"data row2 col5\" >8320</td>\n",
              "            </tr>\n",
              "            <tr>\n",
              "                        <th id=\"T_fece1fe4_7fa2_11ec_a8d0_0242ac1c0002level0_row3\" class=\"row_heading level0 row3\" >3</th>\n",
              "                        <td id=\"T_fece1fe4_7fa2_11ec_a8d0_0242ac1c0002row3_col0\" class=\"data row3 col0\" >None</td>\n",
              "                        <td id=\"T_fece1fe4_7fa2_11ec_a8d0_0242ac1c0002row3_col1\" class=\"data row3 col1\" >None</td>\n",
              "                        <td id=\"T_fece1fe4_7fa2_11ec_a8d0_0242ac1c0002row3_col2\" class=\"data row3 col2\" >nan</td>\n",
              "                        <td id=\"T_fece1fe4_7fa2_11ec_a8d0_0242ac1c0002row3_col3\" class=\"data row3 col3\" >Flatten</td>\n",
              "                        <td id=\"T_fece1fe4_7fa2_11ec_a8d0_0242ac1c0002row3_col4\" class=\"data row3 col4\" >[None, 32]</td>\n",
              "                        <td id=\"T_fece1fe4_7fa2_11ec_a8d0_0242ac1c0002row3_col5\" class=\"data row3 col5\" >0</td>\n",
              "            </tr>\n",
              "            <tr>\n",
              "                        <th id=\"T_fece1fe4_7fa2_11ec_a8d0_0242ac1c0002level0_row4\" class=\"row_heading level0 row4\" >4</th>\n",
              "                        <td id=\"T_fece1fe4_7fa2_11ec_a8d0_0242ac1c0002row4_col0\" class=\"data row4 col0\" >None</td>\n",
              "                        <td id=\"T_fece1fe4_7fa2_11ec_a8d0_0242ac1c0002row4_col1\" class=\"data row4 col1\" >None</td>\n",
              "                        <td id=\"T_fece1fe4_7fa2_11ec_a8d0_0242ac1c0002row4_col2\" class=\"data row4 col2\" >nan</td>\n",
              "                        <td id=\"T_fece1fe4_7fa2_11ec_a8d0_0242ac1c0002row4_col3\" class=\"data row4 col3\" >Dense</td>\n",
              "                        <td id=\"T_fece1fe4_7fa2_11ec_a8d0_0242ac1c0002row4_col4\" class=\"data row4 col4\" >[None, 2]</td>\n",
              "                        <td id=\"T_fece1fe4_7fa2_11ec_a8d0_0242ac1c0002row4_col5\" class=\"data row4 col5\" >66</td>\n",
              "            </tr>\n",
              "    </tbody></table>"
            ],
            "text/plain": [
              "<IPython.core.display.HTML object>"
            ]
          },
          "metadata": {}
        }
      ]
    },
    {
      "cell_type": "markdown",
      "metadata": {
        "id": "Pl67bOO-lz9k"
      },
      "source": [
        "## Optional: Tune model within range of hyperparameters with Keras Tuner\n",
        "\n",
        "*Simple example shown below. Consult [documentation](https://keras.io/guides/keras_tuner/getting_started/) to see full functionality.*"
      ]
    },
    {
      "cell_type": "code",
      "metadata": {
        "id": "MOGXwppct0KI"
      },
      "source": [
        "! pip install keras_tuner"
      ],
      "execution_count": null,
      "outputs": []
    },
    {
      "cell_type": "code",
      "metadata": {
        "id": "O7o_zA3fv-ra"
      },
      "source": [
        "#Separate validation data \n",
        "from sklearn.model_selection import train_test_split\n",
        "x_train_split, x_val, y_train_split, y_val = train_test_split(\n",
        "     X_train, y_train, test_size=0.2, random_state=42)"
      ],
      "execution_count": 19,
      "outputs": []
    },
    {
      "cell_type": "code",
      "metadata": {
        "colab": {
          "base_uri": "https://localhost:8080/"
        },
        "id": "olzZ7aposfwH",
        "outputId": "f1b54845-252d-4db2-a12a-7819b22c02e5"
      },
      "source": [
        "from tensorflow import keras\n",
        "from tensorflow.keras.models import Sequential\n",
        "from tensorflow.keras.layers import Dense, Embedding, LSTM, Flatten\n",
        "import keras_tuner as kt\n",
        "\n",
        "#Define model structure & parameter search space with function\n",
        "def build_model(hp):\n",
        "    model = keras.Sequential()\n",
        "    model.add(Embedding(10000, 16, input_length=40))\n",
        "    model.add(LSTM(units=hp.Int(\"units\", min_value=32, max_value=512, step=32), #range 32-512 inclusive, minimum step between tested values is 32\n",
        "                   return_sequences=True, dropout=0.2, recurrent_dropout=0.2))\n",
        "    model.add(Flatten())\n",
        "    model.add(Dense(2, activation='softmax'))\n",
        "    model.compile(\n",
        "        optimizer=\"rmsprop\", loss=\"binary_crossentropy\", metrics=[\"accuracy\"],\n",
        "    )\n",
        "    return model\n",
        "\n",
        "#initialize the tuner (which will search through parameters)\n",
        "tuner = kt.RandomSearch(\n",
        "    hypermodel=build_model, \n",
        "    objective=\"val_accuracy\", # objective to optimize\n",
        "    max_trials=3, #max number of trials to run during search\n",
        "    executions_per_trial=1, #higher number reduces variance of results; guages model performance more accurately \n",
        "    overwrite=True,\n",
        "    directory=\"tuning_model\",\n",
        "    project_name=\"tuning_units\",\n",
        ")\n",
        "\n",
        "tuner.search(preprocessor(x_train_split), y_train_split, epochs=1, validation_data=(preprocessor(x_val), y_val))\n"
      ],
      "execution_count": 20,
      "outputs": [
        {
          "output_type": "stream",
          "name": "stdout",
          "text": [
            "Trial 3 Complete [00h 02m 25s]\n",
            "val_accuracy: 0.9423539042472839\n",
            "\n",
            "Best val_accuracy So Far: 0.9659727811813354\n",
            "Total elapsed time: 00h 14m 21s\n"
          ]
        }
      ]
    },
    {
      "cell_type": "code",
      "metadata": {
        "colab": {
          "base_uri": "https://localhost:8080/"
        },
        "id": "0YaEbvJ2yND1",
        "outputId": "bb4fb61a-a831-4759-c3c4-edc0335d3fb7"
      },
      "source": [
        "# Build model with best hyperparameters\n",
        "\n",
        "# Get the top 2 hyperparameters.\n",
        "best_hps = tuner.get_best_hyperparameters(5)\n",
        "# Build the model with the best hp.\n",
        "tuned_model = build_model(best_hps[0])\n",
        "# Fit with the entire dataset.\n",
        "tuned_model.fit(x=preprocessor(X_train), y=y_train, epochs=1)\n"
      ],
      "execution_count": 21,
      "outputs": [
        {
          "output_type": "stream",
          "name": "stdout",
          "text": [
            "781/781 [==============================] - 76s 94ms/step - loss: 0.1941 - accuracy: 0.9175\n"
          ]
        },
        {
          "output_type": "execute_result",
          "data": {
            "text/plain": [
              "<keras.callbacks.History at 0x7f3ec0486ed0>"
            ]
          },
          "metadata": {},
          "execution_count": 21
        }
      ]
    },
    {
      "cell_type": "code",
      "metadata": {
        "id": "HvLuIvOjHLH2"
      },
      "source": [
        "# Save keras model to local ONNX file\n",
        "from aimodelshare.aimsonnx import model_to_onnx\n",
        "\n",
        "onnx_model = model_to_onnx(tuned_model, framework='keras',\n",
        "                          transfer_learning=False,\n",
        "                          deep_learning=True)\n",
        "\n",
        "with open(\"tuned_model.onnx\", \"wb\") as f:\n",
        "    f.write(onnx_model.SerializeToString())"
      ],
      "execution_count": 22,
      "outputs": []
    },
    {
      "cell_type": "code",
      "metadata": {
        "colab": {
          "base_uri": "https://localhost:8080/"
        },
        "id": "sMidHABfHVN7",
        "outputId": "cda1a5dc-273d-4a28-8d37-0a9c21193515"
      },
      "source": [
        "#Submit Model 3: \n",
        "\n",
        "#-- Generate predicted y values (Model 3)\n",
        "prediction_column_index=tuned_model.predict(preprocessor(X_test)).argmax(axis=1)\n",
        "\n",
        "# extract correct prediction labels \n",
        "prediction_labels = [y_train.columns[i] for i in prediction_column_index]\n",
        "\n",
        "# Submit Model 1 to Competition Leaderboard\n",
        "mycompetition.submit_model(model_filepath = \"tuned_model.onnx\",\n",
        "                                 preprocessor_filepath=\"preprocessor.zip\",\n",
        "                                 prediction_submission=prediction_labels)"
      ],
      "execution_count": 23,
      "outputs": [
        {
          "output_type": "stream",
          "name": "stdout",
          "text": [
            "Insert search tags to help users find your model (optional): \n",
            "Provide any useful notes about your model (optional): \n",
            "\n",
            "Your model has been submitted as model version 5\n",
            "\n",
            "To submit code used to create this model or to view current leaderboard navigate to Model Playground: \n",
            "\n",
            " https://www.modelshare.org/detail/model:1309\n"
          ]
        }
      ]
    },
    {
      "cell_type": "code",
      "metadata": {
        "colab": {
          "base_uri": "https://localhost:8080/",
          "height": 327
        },
        "id": "hn-Tp-zpJVGT",
        "outputId": "da0a781a-0832-427f-96fd-f4c953e276d1"
      },
      "source": [
        "# Get leaderboard\n",
        "\n",
        "data = mycompetition.get_leaderboard()\n",
        "mycompetition.stylize_leaderboard(data)"
      ],
      "execution_count": 24,
      "outputs": [
        {
          "output_type": "execute_result",
          "data": {
            "text/html": [
              "<style  type=\"text/css\" >\n",
              "#T_4f75bae0_7fa5_11ec_a8d0_0242ac1c0002row0_col0{\n",
              "            text-align:  center;\n",
              "            width:  10em;\n",
              "             height:  80%;\n",
              "            background:  linear-gradient(90deg,#f5f8d6 97.1%, transparent 97.1%);\n",
              "            color:  #251e1b;\n",
              "            font-size:  12px;\n",
              "        }#T_4f75bae0_7fa5_11ec_a8d0_0242ac1c0002row0_col1{\n",
              "            text-align:  center;\n",
              "            width:  10em;\n",
              "             height:  80%;\n",
              "            background:  linear-gradient(90deg,#c778c8 97.1%, transparent 97.1%);\n",
              "            color:  #251e1b;\n",
              "            font-size:  12px;\n",
              "        }#T_4f75bae0_7fa5_11ec_a8d0_0242ac1c0002row0_col2{\n",
              "            text-align:  center;\n",
              "            width:  10em;\n",
              "             height:  80%;\n",
              "            background:  linear-gradient(90deg,#ff4971 97.1%, transparent 97.1%);\n",
              "            color:  #251e1b;\n",
              "            font-size:  12px;\n",
              "        }#T_4f75bae0_7fa5_11ec_a8d0_0242ac1c0002row0_col3{\n",
              "            text-align:  center;\n",
              "            width:  10em;\n",
              "             height:  80%;\n",
              "            background:  linear-gradient(90deg,#aadbaa 97.0%, transparent 97.0%);\n",
              "            color:  #251e1b;\n",
              "            font-size:  12px;\n",
              "        }#T_4f75bae0_7fa5_11ec_a8d0_0242ac1c0002row0_col4,#T_4f75bae0_7fa5_11ec_a8d0_0242ac1c0002row0_col5,#T_4f75bae0_7fa5_11ec_a8d0_0242ac1c0002row0_col6,#T_4f75bae0_7fa5_11ec_a8d0_0242ac1c0002row0_col7,#T_4f75bae0_7fa5_11ec_a8d0_0242ac1c0002row0_col8,#T_4f75bae0_7fa5_11ec_a8d0_0242ac1c0002row0_col9,#T_4f75bae0_7fa5_11ec_a8d0_0242ac1c0002row0_col10,#T_4f75bae0_7fa5_11ec_a8d0_0242ac1c0002row0_col11,#T_4f75bae0_7fa5_11ec_a8d0_0242ac1c0002row0_col12,#T_4f75bae0_7fa5_11ec_a8d0_0242ac1c0002row0_col13,#T_4f75bae0_7fa5_11ec_a8d0_0242ac1c0002row0_col14,#T_4f75bae0_7fa5_11ec_a8d0_0242ac1c0002row0_col15,#T_4f75bae0_7fa5_11ec_a8d0_0242ac1c0002row0_col16,#T_4f75bae0_7fa5_11ec_a8d0_0242ac1c0002row0_col17,#T_4f75bae0_7fa5_11ec_a8d0_0242ac1c0002row0_col18,#T_4f75bae0_7fa5_11ec_a8d0_0242ac1c0002row0_col19,#T_4f75bae0_7fa5_11ec_a8d0_0242ac1c0002row0_col20,#T_4f75bae0_7fa5_11ec_a8d0_0242ac1c0002row0_col21,#T_4f75bae0_7fa5_11ec_a8d0_0242ac1c0002row0_col22,#T_4f75bae0_7fa5_11ec_a8d0_0242ac1c0002row1_col4,#T_4f75bae0_7fa5_11ec_a8d0_0242ac1c0002row1_col5,#T_4f75bae0_7fa5_11ec_a8d0_0242ac1c0002row1_col6,#T_4f75bae0_7fa5_11ec_a8d0_0242ac1c0002row1_col7,#T_4f75bae0_7fa5_11ec_a8d0_0242ac1c0002row1_col8,#T_4f75bae0_7fa5_11ec_a8d0_0242ac1c0002row1_col9,#T_4f75bae0_7fa5_11ec_a8d0_0242ac1c0002row1_col10,#T_4f75bae0_7fa5_11ec_a8d0_0242ac1c0002row1_col11,#T_4f75bae0_7fa5_11ec_a8d0_0242ac1c0002row1_col12,#T_4f75bae0_7fa5_11ec_a8d0_0242ac1c0002row1_col13,#T_4f75bae0_7fa5_11ec_a8d0_0242ac1c0002row1_col14,#T_4f75bae0_7fa5_11ec_a8d0_0242ac1c0002row1_col15,#T_4f75bae0_7fa5_11ec_a8d0_0242ac1c0002row1_col16,#T_4f75bae0_7fa5_11ec_a8d0_0242ac1c0002row1_col17,#T_4f75bae0_7fa5_11ec_a8d0_0242ac1c0002row1_col18,#T_4f75bae0_7fa5_11ec_a8d0_0242ac1c0002row1_col19,#T_4f75bae0_7fa5_11ec_a8d0_0242ac1c0002row1_col20,#T_4f75bae0_7fa5_11ec_a8d0_0242ac1c0002row1_col21,#T_4f75bae0_7fa5_11ec_a8d0_0242ac1c0002row1_col22,#T_4f75bae0_7fa5_11ec_a8d0_0242ac1c0002row2_col4,#T_4f75bae0_7fa5_11ec_a8d0_0242ac1c0002row2_col5,#T_4f75bae0_7fa5_11ec_a8d0_0242ac1c0002row2_col6,#T_4f75bae0_7fa5_11ec_a8d0_0242ac1c0002row2_col7,#T_4f75bae0_7fa5_11ec_a8d0_0242ac1c0002row2_col8,#T_4f75bae0_7fa5_11ec_a8d0_0242ac1c0002row2_col9,#T_4f75bae0_7fa5_11ec_a8d0_0242ac1c0002row2_col10,#T_4f75bae0_7fa5_11ec_a8d0_0242ac1c0002row2_col11,#T_4f75bae0_7fa5_11ec_a8d0_0242ac1c0002row2_col12,#T_4f75bae0_7fa5_11ec_a8d0_0242ac1c0002row2_col13,#T_4f75bae0_7fa5_11ec_a8d0_0242ac1c0002row2_col14,#T_4f75bae0_7fa5_11ec_a8d0_0242ac1c0002row2_col15,#T_4f75bae0_7fa5_11ec_a8d0_0242ac1c0002row2_col16,#T_4f75bae0_7fa5_11ec_a8d0_0242ac1c0002row2_col17,#T_4f75bae0_7fa5_11ec_a8d0_0242ac1c0002row2_col18,#T_4f75bae0_7fa5_11ec_a8d0_0242ac1c0002row2_col19,#T_4f75bae0_7fa5_11ec_a8d0_0242ac1c0002row2_col20,#T_4f75bae0_7fa5_11ec_a8d0_0242ac1c0002row2_col21,#T_4f75bae0_7fa5_11ec_a8d0_0242ac1c0002row2_col22,#T_4f75bae0_7fa5_11ec_a8d0_0242ac1c0002row3_col4,#T_4f75bae0_7fa5_11ec_a8d0_0242ac1c0002row3_col5,#T_4f75bae0_7fa5_11ec_a8d0_0242ac1c0002row3_col6,#T_4f75bae0_7fa5_11ec_a8d0_0242ac1c0002row3_col7,#T_4f75bae0_7fa5_11ec_a8d0_0242ac1c0002row3_col8,#T_4f75bae0_7fa5_11ec_a8d0_0242ac1c0002row3_col9,#T_4f75bae0_7fa5_11ec_a8d0_0242ac1c0002row3_col10,#T_4f75bae0_7fa5_11ec_a8d0_0242ac1c0002row3_col11,#T_4f75bae0_7fa5_11ec_a8d0_0242ac1c0002row3_col12,#T_4f75bae0_7fa5_11ec_a8d0_0242ac1c0002row3_col13,#T_4f75bae0_7fa5_11ec_a8d0_0242ac1c0002row3_col14,#T_4f75bae0_7fa5_11ec_a8d0_0242ac1c0002row3_col15,#T_4f75bae0_7fa5_11ec_a8d0_0242ac1c0002row3_col16,#T_4f75bae0_7fa5_11ec_a8d0_0242ac1c0002row3_col17,#T_4f75bae0_7fa5_11ec_a8d0_0242ac1c0002row3_col18,#T_4f75bae0_7fa5_11ec_a8d0_0242ac1c0002row3_col19,#T_4f75bae0_7fa5_11ec_a8d0_0242ac1c0002row3_col20,#T_4f75bae0_7fa5_11ec_a8d0_0242ac1c0002row3_col21,#T_4f75bae0_7fa5_11ec_a8d0_0242ac1c0002row3_col22,#T_4f75bae0_7fa5_11ec_a8d0_0242ac1c0002row4_col4,#T_4f75bae0_7fa5_11ec_a8d0_0242ac1c0002row4_col5,#T_4f75bae0_7fa5_11ec_a8d0_0242ac1c0002row4_col6,#T_4f75bae0_7fa5_11ec_a8d0_0242ac1c0002row4_col7,#T_4f75bae0_7fa5_11ec_a8d0_0242ac1c0002row4_col8,#T_4f75bae0_7fa5_11ec_a8d0_0242ac1c0002row4_col9,#T_4f75bae0_7fa5_11ec_a8d0_0242ac1c0002row4_col10,#T_4f75bae0_7fa5_11ec_a8d0_0242ac1c0002row4_col11,#T_4f75bae0_7fa5_11ec_a8d0_0242ac1c0002row4_col12,#T_4f75bae0_7fa5_11ec_a8d0_0242ac1c0002row4_col13,#T_4f75bae0_7fa5_11ec_a8d0_0242ac1c0002row4_col14,#T_4f75bae0_7fa5_11ec_a8d0_0242ac1c0002row4_col15,#T_4f75bae0_7fa5_11ec_a8d0_0242ac1c0002row4_col16,#T_4f75bae0_7fa5_11ec_a8d0_0242ac1c0002row4_col17,#T_4f75bae0_7fa5_11ec_a8d0_0242ac1c0002row4_col18,#T_4f75bae0_7fa5_11ec_a8d0_0242ac1c0002row4_col19,#T_4f75bae0_7fa5_11ec_a8d0_0242ac1c0002row4_col20,#T_4f75bae0_7fa5_11ec_a8d0_0242ac1c0002row4_col21,#T_4f75bae0_7fa5_11ec_a8d0_0242ac1c0002row4_col22{\n",
              "            text-align:  center;\n",
              "        }#T_4f75bae0_7fa5_11ec_a8d0_0242ac1c0002row1_col0{\n",
              "            text-align:  center;\n",
              "            width:  10em;\n",
              "             height:  80%;\n",
              "            background:  linear-gradient(90deg,#f5f8d6 96.9%, transparent 96.9%);\n",
              "            color:  #251e1b;\n",
              "            font-size:  12px;\n",
              "        }#T_4f75bae0_7fa5_11ec_a8d0_0242ac1c0002row1_col1{\n",
              "            text-align:  center;\n",
              "            width:  10em;\n",
              "             height:  80%;\n",
              "            background:  linear-gradient(90deg,#c778c8 96.9%, transparent 96.9%);\n",
              "            color:  #251e1b;\n",
              "            font-size:  12px;\n",
              "        }#T_4f75bae0_7fa5_11ec_a8d0_0242ac1c0002row1_col2{\n",
              "            text-align:  center;\n",
              "            width:  10em;\n",
              "             height:  80%;\n",
              "            background:  linear-gradient(90deg,#ff4971 96.9%, transparent 96.9%);\n",
              "            color:  #251e1b;\n",
              "            font-size:  12px;\n",
              "        }#T_4f75bae0_7fa5_11ec_a8d0_0242ac1c0002row1_col3{\n",
              "            text-align:  center;\n",
              "            width:  10em;\n",
              "             height:  80%;\n",
              "            background:  linear-gradient(90deg,#aadbaa 96.9%, transparent 96.9%);\n",
              "            color:  #251e1b;\n",
              "            font-size:  12px;\n",
              "        }#T_4f75bae0_7fa5_11ec_a8d0_0242ac1c0002row2_col0{\n",
              "            text-align:  center;\n",
              "            width:  10em;\n",
              "             height:  80%;\n",
              "            background:  linear-gradient(90deg,#f5f8d6 96.6%, transparent 96.6%);\n",
              "            color:  #251e1b;\n",
              "            font-size:  12px;\n",
              "        }#T_4f75bae0_7fa5_11ec_a8d0_0242ac1c0002row2_col1{\n",
              "            text-align:  center;\n",
              "            width:  10em;\n",
              "             height:  80%;\n",
              "            background:  linear-gradient(90deg,#c778c8 96.6%, transparent 96.6%);\n",
              "            color:  #251e1b;\n",
              "            font-size:  12px;\n",
              "        }#T_4f75bae0_7fa5_11ec_a8d0_0242ac1c0002row2_col2{\n",
              "            text-align:  center;\n",
              "            width:  10em;\n",
              "             height:  80%;\n",
              "            background:  linear-gradient(90deg,#ff4971 96.5%, transparent 96.5%);\n",
              "            color:  #251e1b;\n",
              "            font-size:  12px;\n",
              "        }#T_4f75bae0_7fa5_11ec_a8d0_0242ac1c0002row2_col3{\n",
              "            text-align:  center;\n",
              "            width:  10em;\n",
              "             height:  80%;\n",
              "            background:  linear-gradient(90deg,#aadbaa 96.6%, transparent 96.6%);\n",
              "            color:  #251e1b;\n",
              "            font-size:  12px;\n",
              "        }#T_4f75bae0_7fa5_11ec_a8d0_0242ac1c0002row3_col0{\n",
              "            text-align:  center;\n",
              "            width:  10em;\n",
              "             height:  80%;\n",
              "            background:  linear-gradient(90deg,#f5f8d6 96.1%, transparent 96.1%);\n",
              "            color:  #251e1b;\n",
              "            font-size:  12px;\n",
              "        }#T_4f75bae0_7fa5_11ec_a8d0_0242ac1c0002row3_col1{\n",
              "            text-align:  center;\n",
              "            width:  10em;\n",
              "             height:  80%;\n",
              "            background:  linear-gradient(90deg,#c778c8 96.1%, transparent 96.1%);\n",
              "            color:  #251e1b;\n",
              "            font-size:  12px;\n",
              "        }#T_4f75bae0_7fa5_11ec_a8d0_0242ac1c0002row3_col2{\n",
              "            text-align:  center;\n",
              "            width:  10em;\n",
              "             height:  80%;\n",
              "            background:  linear-gradient(90deg,#ff4971 96.1%, transparent 96.1%);\n",
              "            color:  #251e1b;\n",
              "            font-size:  12px;\n",
              "        }#T_4f75bae0_7fa5_11ec_a8d0_0242ac1c0002row3_col3{\n",
              "            text-align:  center;\n",
              "            width:  10em;\n",
              "             height:  80%;\n",
              "            background:  linear-gradient(90deg,#aadbaa 96.0%, transparent 96.0%);\n",
              "            color:  #251e1b;\n",
              "            font-size:  12px;\n",
              "        }#T_4f75bae0_7fa5_11ec_a8d0_0242ac1c0002row4_col0{\n",
              "            text-align:  center;\n",
              "            width:  10em;\n",
              "             height:  80%;\n",
              "            background:  linear-gradient(90deg,#f5f8d6 78.5%, transparent 78.5%);\n",
              "            color:  #251e1b;\n",
              "            font-size:  12px;\n",
              "        }#T_4f75bae0_7fa5_11ec_a8d0_0242ac1c0002row4_col1{\n",
              "            text-align:  center;\n",
              "            width:  10em;\n",
              "             height:  80%;\n",
              "            background:  linear-gradient(90deg,#c778c8 78.4%, transparent 78.4%);\n",
              "            color:  #251e1b;\n",
              "            font-size:  12px;\n",
              "        }#T_4f75bae0_7fa5_11ec_a8d0_0242ac1c0002row4_col2{\n",
              "            text-align:  center;\n",
              "            width:  10em;\n",
              "             height:  80%;\n",
              "            background:  linear-gradient(90deg,#ff4971 79.4%, transparent 79.4%);\n",
              "            color:  #251e1b;\n",
              "            font-size:  12px;\n",
              "        }#T_4f75bae0_7fa5_11ec_a8d0_0242ac1c0002row4_col3{\n",
              "            text-align:  center;\n",
              "            width:  10em;\n",
              "             height:  80%;\n",
              "            background:  linear-gradient(90deg,#aadbaa 78.7%, transparent 78.7%);\n",
              "            color:  #251e1b;\n",
              "            font-size:  12px;\n",
              "        }</style><table id=\"T_4f75bae0_7fa5_11ec_a8d0_0242ac1c0002\" class=\"dataframe\"><thead>    <tr>        <th class=\"blank level0\" ></th>        <th class=\"col_heading level0 col0\" >accuracy</th>        <th class=\"col_heading level0 col1\" >f1_score</th>        <th class=\"col_heading level0 col2\" >precision</th>        <th class=\"col_heading level0 col3\" >recall</th>        <th class=\"col_heading level0 col4\" >ml_framework</th>        <th class=\"col_heading level0 col5\" >transfer_learning</th>        <th class=\"col_heading level0 col6\" >deep_learning</th>        <th class=\"col_heading level0 col7\" >model_type</th>        <th class=\"col_heading level0 col8\" >depth</th>        <th class=\"col_heading level0 col9\" >num_params</th>        <th class=\"col_heading level0 col10\" >lstm_layers</th>        <th class=\"col_heading level0 col11\" >embedding_layers</th>        <th class=\"col_heading level0 col12\" >flatten_layers</th>        <th class=\"col_heading level0 col13\" >dense_layers</th>        <th class=\"col_heading level0 col14\" >bidirectional_layers</th>        <th class=\"col_heading level0 col15\" >softmax_act</th>        <th class=\"col_heading level0 col16\" >tanh_act</th>        <th class=\"col_heading level0 col17\" >loss</th>        <th class=\"col_heading level0 col18\" >optimizer</th>        <th class=\"col_heading level0 col19\" >model_config</th>        <th class=\"col_heading level0 col20\" >memory_size</th>        <th class=\"col_heading level0 col21\" >username</th>        <th class=\"col_heading level0 col22\" >version</th>    </tr></thead><tbody>\n",
              "                <tr>\n",
              "                        <th id=\"T_4f75bae0_7fa5_11ec_a8d0_0242ac1c0002level0_row0\" class=\"row_heading level0 row0\" >0</th>\n",
              "                        <td id=\"T_4f75bae0_7fa5_11ec_a8d0_0242ac1c0002row0_col0\" class=\"data row0 col0\" >97.07%</td>\n",
              "                        <td id=\"T_4f75bae0_7fa5_11ec_a8d0_0242ac1c0002row0_col1\" class=\"data row0 col1\" >97.06%</td>\n",
              "                        <td id=\"T_4f75bae0_7fa5_11ec_a8d0_0242ac1c0002row0_col2\" class=\"data row0 col2\" >97.12%</td>\n",
              "                        <td id=\"T_4f75bae0_7fa5_11ec_a8d0_0242ac1c0002row0_col3\" class=\"data row0 col3\" >97.03%</td>\n",
              "                        <td id=\"T_4f75bae0_7fa5_11ec_a8d0_0242ac1c0002row0_col4\" class=\"data row0 col4\" >keras</td>\n",
              "                        <td id=\"T_4f75bae0_7fa5_11ec_a8d0_0242ac1c0002row0_col5\" class=\"data row0 col5\" >False</td>\n",
              "                        <td id=\"T_4f75bae0_7fa5_11ec_a8d0_0242ac1c0002row0_col6\" class=\"data row0 col6\" >True</td>\n",
              "                        <td id=\"T_4f75bae0_7fa5_11ec_a8d0_0242ac1c0002row0_col7\" class=\"data row0 col7\" >Sequential</td>\n",
              "                        <td id=\"T_4f75bae0_7fa5_11ec_a8d0_0242ac1c0002row0_col8\" class=\"data row0 col8\" >4</td>\n",
              "                        <td id=\"T_4f75bae0_7fa5_11ec_a8d0_0242ac1c0002row0_col9\" class=\"data row0 col9\" >244482</td>\n",
              "                        <td id=\"T_4f75bae0_7fa5_11ec_a8d0_0242ac1c0002row0_col10\" class=\"data row0 col10\" >1.000000</td>\n",
              "                        <td id=\"T_4f75bae0_7fa5_11ec_a8d0_0242ac1c0002row0_col11\" class=\"data row0 col11\" >1</td>\n",
              "                        <td id=\"T_4f75bae0_7fa5_11ec_a8d0_0242ac1c0002row0_col12\" class=\"data row0 col12\" >1.000000</td>\n",
              "                        <td id=\"T_4f75bae0_7fa5_11ec_a8d0_0242ac1c0002row0_col13\" class=\"data row0 col13\" >1</td>\n",
              "                        <td id=\"T_4f75bae0_7fa5_11ec_a8d0_0242ac1c0002row0_col14\" class=\"data row0 col14\" >nan</td>\n",
              "                        <td id=\"T_4f75bae0_7fa5_11ec_a8d0_0242ac1c0002row0_col15\" class=\"data row0 col15\" >1</td>\n",
              "                        <td id=\"T_4f75bae0_7fa5_11ec_a8d0_0242ac1c0002row0_col16\" class=\"data row0 col16\" >1.000000</td>\n",
              "                        <td id=\"T_4f75bae0_7fa5_11ec_a8d0_0242ac1c0002row0_col17\" class=\"data row0 col17\" >str</td>\n",
              "                        <td id=\"T_4f75bae0_7fa5_11ec_a8d0_0242ac1c0002row0_col18\" class=\"data row0 col18\" >RMSprop</td>\n",
              "                        <td id=\"T_4f75bae0_7fa5_11ec_a8d0_0242ac1c0002row0_col19\" class=\"data row0 col19\" >{'name': 'sequential_1', 'laye...</td>\n",
              "                        <td id=\"T_4f75bae0_7fa5_11ec_a8d0_0242ac1c0002row0_col20\" class=\"data row0 col20\" >8573008</td>\n",
              "                        <td id=\"T_4f75bae0_7fa5_11ec_a8d0_0242ac1c0002row0_col21\" class=\"data row0 col21\" >AIModelShare</td>\n",
              "                        <td id=\"T_4f75bae0_7fa5_11ec_a8d0_0242ac1c0002row0_col22\" class=\"data row0 col22\" >5</td>\n",
              "            </tr>\n",
              "            <tr>\n",
              "                        <th id=\"T_4f75bae0_7fa5_11ec_a8d0_0242ac1c0002level0_row1\" class=\"row_heading level0 row1\" >2</th>\n",
              "                        <td id=\"T_4f75bae0_7fa5_11ec_a8d0_0242ac1c0002row1_col0\" class=\"data row1 col0\" >96.89%</td>\n",
              "                        <td id=\"T_4f75bae0_7fa5_11ec_a8d0_0242ac1c0002row1_col1\" class=\"data row1 col1\" >96.89%</td>\n",
              "                        <td id=\"T_4f75bae0_7fa5_11ec_a8d0_0242ac1c0002row1_col2\" class=\"data row1 col2\" >96.88%</td>\n",
              "                        <td id=\"T_4f75bae0_7fa5_11ec_a8d0_0242ac1c0002row1_col3\" class=\"data row1 col3\" >96.90%</td>\n",
              "                        <td id=\"T_4f75bae0_7fa5_11ec_a8d0_0242ac1c0002row1_col4\" class=\"data row1 col4\" >keras</td>\n",
              "                        <td id=\"T_4f75bae0_7fa5_11ec_a8d0_0242ac1c0002row1_col5\" class=\"data row1 col5\" >False</td>\n",
              "                        <td id=\"T_4f75bae0_7fa5_11ec_a8d0_0242ac1c0002row1_col6\" class=\"data row1 col6\" >True</td>\n",
              "                        <td id=\"T_4f75bae0_7fa5_11ec_a8d0_0242ac1c0002row1_col7\" class=\"data row1 col7\" >Sequential</td>\n",
              "                        <td id=\"T_4f75bae0_7fa5_11ec_a8d0_0242ac1c0002row1_col8\" class=\"data row1 col8\" >5</td>\n",
              "                        <td id=\"T_4f75bae0_7fa5_11ec_a8d0_0242ac1c0002row1_col9\" class=\"data row1 col9\" >174658</td>\n",
              "                        <td id=\"T_4f75bae0_7fa5_11ec_a8d0_0242ac1c0002row1_col10\" class=\"data row1 col10\" >2.000000</td>\n",
              "                        <td id=\"T_4f75bae0_7fa5_11ec_a8d0_0242ac1c0002row1_col11\" class=\"data row1 col11\" >1</td>\n",
              "                        <td id=\"T_4f75bae0_7fa5_11ec_a8d0_0242ac1c0002row1_col12\" class=\"data row1 col12\" >1.000000</td>\n",
              "                        <td id=\"T_4f75bae0_7fa5_11ec_a8d0_0242ac1c0002row1_col13\" class=\"data row1 col13\" >1</td>\n",
              "                        <td id=\"T_4f75bae0_7fa5_11ec_a8d0_0242ac1c0002row1_col14\" class=\"data row1 col14\" >nan</td>\n",
              "                        <td id=\"T_4f75bae0_7fa5_11ec_a8d0_0242ac1c0002row1_col15\" class=\"data row1 col15\" >1</td>\n",
              "                        <td id=\"T_4f75bae0_7fa5_11ec_a8d0_0242ac1c0002row1_col16\" class=\"data row1 col16\" >2.000000</td>\n",
              "                        <td id=\"T_4f75bae0_7fa5_11ec_a8d0_0242ac1c0002row1_col17\" class=\"data row1 col17\" >function</td>\n",
              "                        <td id=\"T_4f75bae0_7fa5_11ec_a8d0_0242ac1c0002row1_col18\" class=\"data row1 col18\" >RMSprop</td>\n",
              "                        <td id=\"T_4f75bae0_7fa5_11ec_a8d0_0242ac1c0002row1_col19\" class=\"data row1 col19\" >{'name': 'sequential', 'layers...</td>\n",
              "                        <td id=\"T_4f75bae0_7fa5_11ec_a8d0_0242ac1c0002row1_col20\" class=\"data row1 col20\" >2233624</td>\n",
              "                        <td id=\"T_4f75bae0_7fa5_11ec_a8d0_0242ac1c0002row1_col21\" class=\"data row1 col21\" >AIModelShare</td>\n",
              "                        <td id=\"T_4f75bae0_7fa5_11ec_a8d0_0242ac1c0002row1_col22\" class=\"data row1 col22\" >1</td>\n",
              "            </tr>\n",
              "            <tr>\n",
              "                        <th id=\"T_4f75bae0_7fa5_11ec_a8d0_0242ac1c0002level0_row2\" class=\"row_heading level0 row2\" >3</th>\n",
              "                        <td id=\"T_4f75bae0_7fa5_11ec_a8d0_0242ac1c0002row2_col0\" class=\"data row2 col0\" >96.56%</td>\n",
              "                        <td id=\"T_4f75bae0_7fa5_11ec_a8d0_0242ac1c0002row2_col1\" class=\"data row2 col1\" >96.55%</td>\n",
              "                        <td id=\"T_4f75bae0_7fa5_11ec_a8d0_0242ac1c0002row2_col2\" class=\"data row2 col2\" >96.54%</td>\n",
              "                        <td id=\"T_4f75bae0_7fa5_11ec_a8d0_0242ac1c0002row2_col3\" class=\"data row2 col3\" >96.57%</td>\n",
              "                        <td id=\"T_4f75bae0_7fa5_11ec_a8d0_0242ac1c0002row2_col4\" class=\"data row2 col4\" >keras</td>\n",
              "                        <td id=\"T_4f75bae0_7fa5_11ec_a8d0_0242ac1c0002row2_col5\" class=\"data row2 col5\" >False</td>\n",
              "                        <td id=\"T_4f75bae0_7fa5_11ec_a8d0_0242ac1c0002row2_col6\" class=\"data row2 col6\" >True</td>\n",
              "                        <td id=\"T_4f75bae0_7fa5_11ec_a8d0_0242ac1c0002row2_col7\" class=\"data row2 col7\" >Sequential</td>\n",
              "                        <td id=\"T_4f75bae0_7fa5_11ec_a8d0_0242ac1c0002row2_col8\" class=\"data row2 col8\" >5</td>\n",
              "                        <td id=\"T_4f75bae0_7fa5_11ec_a8d0_0242ac1c0002row2_col9\" class=\"data row2 col9\" >174658</td>\n",
              "                        <td id=\"T_4f75bae0_7fa5_11ec_a8d0_0242ac1c0002row2_col10\" class=\"data row2 col10\" >2.000000</td>\n",
              "                        <td id=\"T_4f75bae0_7fa5_11ec_a8d0_0242ac1c0002row2_col11\" class=\"data row2 col11\" >1</td>\n",
              "                        <td id=\"T_4f75bae0_7fa5_11ec_a8d0_0242ac1c0002row2_col12\" class=\"data row2 col12\" >1.000000</td>\n",
              "                        <td id=\"T_4f75bae0_7fa5_11ec_a8d0_0242ac1c0002row2_col13\" class=\"data row2 col13\" >1</td>\n",
              "                        <td id=\"T_4f75bae0_7fa5_11ec_a8d0_0242ac1c0002row2_col14\" class=\"data row2 col14\" >nan</td>\n",
              "                        <td id=\"T_4f75bae0_7fa5_11ec_a8d0_0242ac1c0002row2_col15\" class=\"data row2 col15\" >1</td>\n",
              "                        <td id=\"T_4f75bae0_7fa5_11ec_a8d0_0242ac1c0002row2_col16\" class=\"data row2 col16\" >2.000000</td>\n",
              "                        <td id=\"T_4f75bae0_7fa5_11ec_a8d0_0242ac1c0002row2_col17\" class=\"data row2 col17\" >str</td>\n",
              "                        <td id=\"T_4f75bae0_7fa5_11ec_a8d0_0242ac1c0002row2_col18\" class=\"data row2 col18\" >RMSprop</td>\n",
              "                        <td id=\"T_4f75bae0_7fa5_11ec_a8d0_0242ac1c0002row2_col19\" class=\"data row2 col19\" >{'name': 'sequential_1', 'laye...</td>\n",
              "                        <td id=\"T_4f75bae0_7fa5_11ec_a8d0_0242ac1c0002row2_col20\" class=\"data row2 col20\" >13583792</td>\n",
              "                        <td id=\"T_4f75bae0_7fa5_11ec_a8d0_0242ac1c0002row2_col21\" class=\"data row2 col21\" >AIModelShare</td>\n",
              "                        <td id=\"T_4f75bae0_7fa5_11ec_a8d0_0242ac1c0002row2_col22\" class=\"data row2 col22\" >4</td>\n",
              "            </tr>\n",
              "            <tr>\n",
              "                        <th id=\"T_4f75bae0_7fa5_11ec_a8d0_0242ac1c0002level0_row3\" class=\"row_heading level0 row3\" >4</th>\n",
              "                        <td id=\"T_4f75bae0_7fa5_11ec_a8d0_0242ac1c0002row3_col0\" class=\"data row3 col0\" >96.06%</td>\n",
              "                        <td id=\"T_4f75bae0_7fa5_11ec_a8d0_0242ac1c0002row3_col1\" class=\"data row3 col1\" >96.05%</td>\n",
              "                        <td id=\"T_4f75bae0_7fa5_11ec_a8d0_0242ac1c0002row3_col2\" class=\"data row3 col2\" >96.12%</td>\n",
              "                        <td id=\"T_4f75bae0_7fa5_11ec_a8d0_0242ac1c0002row3_col3\" class=\"data row3 col3\" >96.02%</td>\n",
              "                        <td id=\"T_4f75bae0_7fa5_11ec_a8d0_0242ac1c0002row3_col4\" class=\"data row3 col4\" >keras</td>\n",
              "                        <td id=\"T_4f75bae0_7fa5_11ec_a8d0_0242ac1c0002row3_col5\" class=\"data row3 col5\" >False</td>\n",
              "                        <td id=\"T_4f75bae0_7fa5_11ec_a8d0_0242ac1c0002row3_col6\" class=\"data row3 col6\" >True</td>\n",
              "                        <td id=\"T_4f75bae0_7fa5_11ec_a8d0_0242ac1c0002row3_col7\" class=\"data row3 col7\" >Sequential</td>\n",
              "                        <td id=\"T_4f75bae0_7fa5_11ec_a8d0_0242ac1c0002row3_col8\" class=\"data row3 col8\" >3</td>\n",
              "                        <td id=\"T_4f75bae0_7fa5_11ec_a8d0_0242ac1c0002row3_col9\" class=\"data row3 col9\" >161282</td>\n",
              "                        <td id=\"T_4f75bae0_7fa5_11ec_a8d0_0242ac1c0002row3_col10\" class=\"data row3 col10\" >nan</td>\n",
              "                        <td id=\"T_4f75bae0_7fa5_11ec_a8d0_0242ac1c0002row3_col11\" class=\"data row3 col11\" >1</td>\n",
              "                        <td id=\"T_4f75bae0_7fa5_11ec_a8d0_0242ac1c0002row3_col12\" class=\"data row3 col12\" >1.000000</td>\n",
              "                        <td id=\"T_4f75bae0_7fa5_11ec_a8d0_0242ac1c0002row3_col13\" class=\"data row3 col13\" >1</td>\n",
              "                        <td id=\"T_4f75bae0_7fa5_11ec_a8d0_0242ac1c0002row3_col14\" class=\"data row3 col14\" >nan</td>\n",
              "                        <td id=\"T_4f75bae0_7fa5_11ec_a8d0_0242ac1c0002row3_col15\" class=\"data row3 col15\" >1</td>\n",
              "                        <td id=\"T_4f75bae0_7fa5_11ec_a8d0_0242ac1c0002row3_col16\" class=\"data row3 col16\" >nan</td>\n",
              "                        <td id=\"T_4f75bae0_7fa5_11ec_a8d0_0242ac1c0002row3_col17\" class=\"data row3 col17\" >str</td>\n",
              "                        <td id=\"T_4f75bae0_7fa5_11ec_a8d0_0242ac1c0002row3_col18\" class=\"data row3 col18\" >RMSprop</td>\n",
              "                        <td id=\"T_4f75bae0_7fa5_11ec_a8d0_0242ac1c0002row3_col19\" class=\"data row3 col19\" >{'name': 'sequential', 'layers...</td>\n",
              "                        <td id=\"T_4f75bae0_7fa5_11ec_a8d0_0242ac1c0002row3_col20\" class=\"data row3 col20\" >1412632</td>\n",
              "                        <td id=\"T_4f75bae0_7fa5_11ec_a8d0_0242ac1c0002row3_col21\" class=\"data row3 col21\" >AIModelShare</td>\n",
              "                        <td id=\"T_4f75bae0_7fa5_11ec_a8d0_0242ac1c0002row3_col22\" class=\"data row3 col22\" >3</td>\n",
              "            </tr>\n",
              "            <tr>\n",
              "                        <th id=\"T_4f75bae0_7fa5_11ec_a8d0_0242ac1c0002level0_row4\" class=\"row_heading level0 row4\" >5</th>\n",
              "                        <td id=\"T_4f75bae0_7fa5_11ec_a8d0_0242ac1c0002row4_col0\" class=\"data row4 col0\" >78.46%</td>\n",
              "                        <td id=\"T_4f75bae0_7fa5_11ec_a8d0_0242ac1c0002row4_col1\" class=\"data row4 col1\" >78.38%</td>\n",
              "                        <td id=\"T_4f75bae0_7fa5_11ec_a8d0_0242ac1c0002row4_col2\" class=\"data row4 col2\" >79.41%</td>\n",
              "                        <td id=\"T_4f75bae0_7fa5_11ec_a8d0_0242ac1c0002row4_col3\" class=\"data row4 col3\" >78.74%</td>\n",
              "                        <td id=\"T_4f75bae0_7fa5_11ec_a8d0_0242ac1c0002row4_col4\" class=\"data row4 col4\" >keras</td>\n",
              "                        <td id=\"T_4f75bae0_7fa5_11ec_a8d0_0242ac1c0002row4_col5\" class=\"data row4 col5\" >False</td>\n",
              "                        <td id=\"T_4f75bae0_7fa5_11ec_a8d0_0242ac1c0002row4_col6\" class=\"data row4 col6\" >True</td>\n",
              "                        <td id=\"T_4f75bae0_7fa5_11ec_a8d0_0242ac1c0002row4_col7\" class=\"data row4 col7\" >Sequential</td>\n",
              "                        <td id=\"T_4f75bae0_7fa5_11ec_a8d0_0242ac1c0002row4_col8\" class=\"data row4 col8\" >5</td>\n",
              "                        <td id=\"T_4f75bae0_7fa5_11ec_a8d0_0242ac1c0002row4_col9\" class=\"data row4 col9\" >191362</td>\n",
              "                        <td id=\"T_4f75bae0_7fa5_11ec_a8d0_0242ac1c0002row4_col10\" class=\"data row4 col10\" >2.000000</td>\n",
              "                        <td id=\"T_4f75bae0_7fa5_11ec_a8d0_0242ac1c0002row4_col11\" class=\"data row4 col11\" >1</td>\n",
              "                        <td id=\"T_4f75bae0_7fa5_11ec_a8d0_0242ac1c0002row4_col12\" class=\"data row4 col12\" >nan</td>\n",
              "                        <td id=\"T_4f75bae0_7fa5_11ec_a8d0_0242ac1c0002row4_col13\" class=\"data row4 col13\" >1</td>\n",
              "                        <td id=\"T_4f75bae0_7fa5_11ec_a8d0_0242ac1c0002row4_col14\" class=\"data row4 col14\" >1.000000</td>\n",
              "                        <td id=\"T_4f75bae0_7fa5_11ec_a8d0_0242ac1c0002row4_col15\" class=\"data row4 col15\" >1</td>\n",
              "                        <td id=\"T_4f75bae0_7fa5_11ec_a8d0_0242ac1c0002row4_col16\" class=\"data row4 col16\" >2.000000</td>\n",
              "                        <td id=\"T_4f75bae0_7fa5_11ec_a8d0_0242ac1c0002row4_col17\" class=\"data row4 col17\" >function</td>\n",
              "                        <td id=\"T_4f75bae0_7fa5_11ec_a8d0_0242ac1c0002row4_col18\" class=\"data row4 col18\" >RMSprop</td>\n",
              "                        <td id=\"T_4f75bae0_7fa5_11ec_a8d0_0242ac1c0002row4_col19\" class=\"data row4 col19\" >{'name': 'sequential_11', 'lay...</td>\n",
              "                        <td id=\"T_4f75bae0_7fa5_11ec_a8d0_0242ac1c0002row4_col20\" class=\"data row4 col20\" >3354488</td>\n",
              "                        <td id=\"T_4f75bae0_7fa5_11ec_a8d0_0242ac1c0002row4_col21\" class=\"data row4 col21\" >AIModelShare</td>\n",
              "                        <td id=\"T_4f75bae0_7fa5_11ec_a8d0_0242ac1c0002row4_col22\" class=\"data row4 col22\" >2</td>\n",
              "            </tr>\n",
              "    </tbody></table>"
            ],
            "text/plain": [
              "<pandas.io.formats.style.Styler at 0x7f3ec08b1950>"
            ]
          },
          "metadata": {},
          "execution_count": 24
        }
      ]
    },
    {
      "cell_type": "code",
      "metadata": {
        "id": "MKvPKyb7hT0h",
        "colab": {
          "base_uri": "https://localhost:8080/",
          "height": 144
        },
        "outputId": "a3baa171-6396-4e76-e21d-ab351f175ea7"
      },
      "source": [
        "# Compare two or more models\n",
        "data=mycompetition.compare_models([4,5], verbose=1)\n",
        "mycompetition.stylize_compare(data)"
      ],
      "execution_count": 25,
      "outputs": [
        {
          "output_type": "display_data",
          "data": {
            "text/html": [
              "<style  type=\"text/css\" >\n",
              "    #T_51457d4c_7fa5_11ec_a8d0_0242ac1c0002 caption {\n",
              "          color: black;\n",
              "          font-size: 18px;\n",
              "    }#T_51457d4c_7fa5_11ec_a8d0_0242ac1c0002row0_col0,#T_51457d4c_7fa5_11ec_a8d0_0242ac1c0002row0_col3{\n",
              "            background:  #f4cae4;\n",
              "            color:  black;\n",
              "            color:  black;\n",
              "        }#T_51457d4c_7fa5_11ec_a8d0_0242ac1c0002row0_col1,#T_51457d4c_7fa5_11ec_a8d0_0242ac1c0002row0_col2,#T_51457d4c_7fa5_11ec_a8d0_0242ac1c0002row0_col4,#T_51457d4c_7fa5_11ec_a8d0_0242ac1c0002row0_col5,#T_51457d4c_7fa5_11ec_a8d0_0242ac1c0002row1_col1,#T_51457d4c_7fa5_11ec_a8d0_0242ac1c0002row1_col2,#T_51457d4c_7fa5_11ec_a8d0_0242ac1c0002row1_col4,#T_51457d4c_7fa5_11ec_a8d0_0242ac1c0002row1_col5,#T_51457d4c_7fa5_11ec_a8d0_0242ac1c0002row2_col1,#T_51457d4c_7fa5_11ec_a8d0_0242ac1c0002row2_col2,#T_51457d4c_7fa5_11ec_a8d0_0242ac1c0002row2_col4,#T_51457d4c_7fa5_11ec_a8d0_0242ac1c0002row2_col5,#T_51457d4c_7fa5_11ec_a8d0_0242ac1c0002row3_col1,#T_51457d4c_7fa5_11ec_a8d0_0242ac1c0002row3_col2,#T_51457d4c_7fa5_11ec_a8d0_0242ac1c0002row3_col4,#T_51457d4c_7fa5_11ec_a8d0_0242ac1c0002row3_col5,#T_51457d4c_7fa5_11ec_a8d0_0242ac1c0002row4_col1,#T_51457d4c_7fa5_11ec_a8d0_0242ac1c0002row4_col2,#T_51457d4c_7fa5_11ec_a8d0_0242ac1c0002row4_col3,#T_51457d4c_7fa5_11ec_a8d0_0242ac1c0002row4_col4,#T_51457d4c_7fa5_11ec_a8d0_0242ac1c0002row4_col5{\n",
              "            background:  white;\n",
              "            color:  black;\n",
              "            color:  black;\n",
              "        }#T_51457d4c_7fa5_11ec_a8d0_0242ac1c0002row1_col0,#T_51457d4c_7fa5_11ec_a8d0_0242ac1c0002row1_col3,#T_51457d4c_7fa5_11ec_a8d0_0242ac1c0002row2_col0{\n",
              "            background:  #cbd5e8;\n",
              "            color:  black;\n",
              "            color:  black;\n",
              "        }#T_51457d4c_7fa5_11ec_a8d0_0242ac1c0002row2_col3,#T_51457d4c_7fa5_11ec_a8d0_0242ac1c0002row3_col0{\n",
              "            background:  #e6f5c9;\n",
              "            color:  black;\n",
              "            color:  black;\n",
              "        }#T_51457d4c_7fa5_11ec_a8d0_0242ac1c0002row3_col3,#T_51457d4c_7fa5_11ec_a8d0_0242ac1c0002row4_col0{\n",
              "            background:  #fff2ae;\n",
              "            color:  black;\n",
              "            color:  black;\n",
              "        }</style><table id=\"T_51457d4c_7fa5_11ec_a8d0_0242ac1c0002\" ><caption>Model type: Neural Network</caption><thead>    <tr>        <th class=\"blank level0\" ></th>        <th class=\"col_heading level0 col0\" >Model_4_Layer</th>        <th class=\"col_heading level0 col1\" >Model_4_Shape</th>        <th class=\"col_heading level0 col2\" >Model_4_Params</th>        <th class=\"col_heading level0 col3\" >Model_5_Layer</th>        <th class=\"col_heading level0 col4\" >Model_5_Shape</th>        <th class=\"col_heading level0 col5\" >Model_5_Params</th>    </tr></thead><tbody>\n",
              "                <tr>\n",
              "                        <th id=\"T_51457d4c_7fa5_11ec_a8d0_0242ac1c0002level0_row0\" class=\"row_heading level0 row0\" >0</th>\n",
              "                        <td id=\"T_51457d4c_7fa5_11ec_a8d0_0242ac1c0002row0_col0\" class=\"data row0 col0\" >Embedding</td>\n",
              "                        <td id=\"T_51457d4c_7fa5_11ec_a8d0_0242ac1c0002row0_col1\" class=\"data row0 col1\" >[None, 40, 16]</td>\n",
              "                        <td id=\"T_51457d4c_7fa5_11ec_a8d0_0242ac1c0002row0_col2\" class=\"data row0 col2\" >160000</td>\n",
              "                        <td id=\"T_51457d4c_7fa5_11ec_a8d0_0242ac1c0002row0_col3\" class=\"data row0 col3\" >Embedding</td>\n",
              "                        <td id=\"T_51457d4c_7fa5_11ec_a8d0_0242ac1c0002row0_col4\" class=\"data row0 col4\" >[None, 40, 16]</td>\n",
              "                        <td id=\"T_51457d4c_7fa5_11ec_a8d0_0242ac1c0002row0_col5\" class=\"data row0 col5\" >160000.000000</td>\n",
              "            </tr>\n",
              "            <tr>\n",
              "                        <th id=\"T_51457d4c_7fa5_11ec_a8d0_0242ac1c0002level0_row1\" class=\"row_heading level0 row1\" >1</th>\n",
              "                        <td id=\"T_51457d4c_7fa5_11ec_a8d0_0242ac1c0002row1_col0\" class=\"data row1 col0\" >LSTM</td>\n",
              "                        <td id=\"T_51457d4c_7fa5_11ec_a8d0_0242ac1c0002row1_col1\" class=\"data row1 col1\" >[None, 40, 32]</td>\n",
              "                        <td id=\"T_51457d4c_7fa5_11ec_a8d0_0242ac1c0002row1_col2\" class=\"data row1 col2\" >6272</td>\n",
              "                        <td id=\"T_51457d4c_7fa5_11ec_a8d0_0242ac1c0002row1_col3\" class=\"data row1 col3\" >LSTM</td>\n",
              "                        <td id=\"T_51457d4c_7fa5_11ec_a8d0_0242ac1c0002row1_col4\" class=\"data row1 col4\" >[None, 40, 128]</td>\n",
              "                        <td id=\"T_51457d4c_7fa5_11ec_a8d0_0242ac1c0002row1_col5\" class=\"data row1 col5\" >74240.000000</td>\n",
              "            </tr>\n",
              "            <tr>\n",
              "                        <th id=\"T_51457d4c_7fa5_11ec_a8d0_0242ac1c0002level0_row2\" class=\"row_heading level0 row2\" >2</th>\n",
              "                        <td id=\"T_51457d4c_7fa5_11ec_a8d0_0242ac1c0002row2_col0\" class=\"data row2 col0\" >LSTM</td>\n",
              "                        <td id=\"T_51457d4c_7fa5_11ec_a8d0_0242ac1c0002row2_col1\" class=\"data row2 col1\" >[None, 32]</td>\n",
              "                        <td id=\"T_51457d4c_7fa5_11ec_a8d0_0242ac1c0002row2_col2\" class=\"data row2 col2\" >8320</td>\n",
              "                        <td id=\"T_51457d4c_7fa5_11ec_a8d0_0242ac1c0002row2_col3\" class=\"data row2 col3\" >Flatten</td>\n",
              "                        <td id=\"T_51457d4c_7fa5_11ec_a8d0_0242ac1c0002row2_col4\" class=\"data row2 col4\" >[None, 5120]</td>\n",
              "                        <td id=\"T_51457d4c_7fa5_11ec_a8d0_0242ac1c0002row2_col5\" class=\"data row2 col5\" >0.000000</td>\n",
              "            </tr>\n",
              "            <tr>\n",
              "                        <th id=\"T_51457d4c_7fa5_11ec_a8d0_0242ac1c0002level0_row3\" class=\"row_heading level0 row3\" >3</th>\n",
              "                        <td id=\"T_51457d4c_7fa5_11ec_a8d0_0242ac1c0002row3_col0\" class=\"data row3 col0\" >Flatten</td>\n",
              "                        <td id=\"T_51457d4c_7fa5_11ec_a8d0_0242ac1c0002row3_col1\" class=\"data row3 col1\" >[None, 32]</td>\n",
              "                        <td id=\"T_51457d4c_7fa5_11ec_a8d0_0242ac1c0002row3_col2\" class=\"data row3 col2\" >0</td>\n",
              "                        <td id=\"T_51457d4c_7fa5_11ec_a8d0_0242ac1c0002row3_col3\" class=\"data row3 col3\" >Dense</td>\n",
              "                        <td id=\"T_51457d4c_7fa5_11ec_a8d0_0242ac1c0002row3_col4\" class=\"data row3 col4\" >[None, 2]</td>\n",
              "                        <td id=\"T_51457d4c_7fa5_11ec_a8d0_0242ac1c0002row3_col5\" class=\"data row3 col5\" >10242.000000</td>\n",
              "            </tr>\n",
              "            <tr>\n",
              "                        <th id=\"T_51457d4c_7fa5_11ec_a8d0_0242ac1c0002level0_row4\" class=\"row_heading level0 row4\" >4</th>\n",
              "                        <td id=\"T_51457d4c_7fa5_11ec_a8d0_0242ac1c0002row4_col0\" class=\"data row4 col0\" >Dense</td>\n",
              "                        <td id=\"T_51457d4c_7fa5_11ec_a8d0_0242ac1c0002row4_col1\" class=\"data row4 col1\" >[None, 2]</td>\n",
              "                        <td id=\"T_51457d4c_7fa5_11ec_a8d0_0242ac1c0002row4_col2\" class=\"data row4 col2\" >66</td>\n",
              "                        <td id=\"T_51457d4c_7fa5_11ec_a8d0_0242ac1c0002row4_col3\" class=\"data row4 col3\" >None</td>\n",
              "                        <td id=\"T_51457d4c_7fa5_11ec_a8d0_0242ac1c0002row4_col4\" class=\"data row4 col4\" >None</td>\n",
              "                        <td id=\"T_51457d4c_7fa5_11ec_a8d0_0242ac1c0002row4_col5\" class=\"data row4 col5\" >nan</td>\n",
              "            </tr>\n",
              "    </tbody></table>"
            ],
            "text/plain": [
              "<IPython.core.display.HTML object>"
            ]
          },
          "metadata": {}
        }
      ]
    }
  ]
}