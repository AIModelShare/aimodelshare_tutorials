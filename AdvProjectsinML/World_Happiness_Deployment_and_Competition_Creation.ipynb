{
  "cells": [
    {
      "cell_type": "markdown",
      "source": [
        "<p align=\"center\"><img width=\"50%\" src=\"https://aimodelsharecontent.s3.amazonaws.com/aimodshare_banner.jpg\" /></p>\n",
        "\n",
        "\n",
        "---"
      ],
      "metadata": {
        "id": "uteMYTACieuv"
      }
    },
    {
      "cell_type": "markdown",
      "source": [
        "# **World Happiness Model Playground Deployment & Competition Creation**"
      ],
      "metadata": {
        "id": "ZqIU-PmEii5k"
      }
    },
    {
      "cell_type": "markdown",
      "source": [
        "# Objective: Predict World Happiness Rankings \n",
        "\n",
        "What makes the citizens of one country more happy than the citizens of other countries?  Do variables measuring perceptions of corruption, GDP, maintaining a healthy lifestyle, or social support associate with a country's happiness ranking?  \n",
        "\n",
        "Let's use the United Nation's World Happiness Rankings country level data to experiment with models that predict happiness rankings well.\n",
        "\n",
        "\n",
        "---\n",
        "\n",
        "**Data**: 2019 World Happiness Survey Rankings\n",
        "\n",
        "**Features**\n",
        "*   Country or region\n",
        "*   GDP per capita\n",
        "*   Social support\n",
        "*   Healthy life expectancy\n",
        "*   Freedom to make life choices\n",
        "*   Generosity\n",
        "*   Perceptions of corruption\n",
        "*   Terrorist attacks\n",
        "\n",
        "**Target**\n",
        "*   Happiness_level (Very High = Top 20% and Very Low = Bottom 20%)\n",
        "\n",
        "Source: https://worldhappiness.report/"
      ],
      "metadata": {
        "id": "GnLNEolgjxpY"
      }
    },
    {
      "cell_type": "markdown",
      "source": [
        "## **Credential Configuration**\n",
        "\n",
        "In order to deploy an AI Model Share Model Playground, you will need a credentials text file. \n",
        "\n",
        "Generating your credentials file requires two sets of information: \n",
        "1. Your AI Model Share username and password (create them [HERE](https://www.modelshare.org/login)). \n",
        "2. Your AWS (Amazon Web Services) access keys (follow the tutorial [HERE](https://docs.aws.amazon.com/general/latest/gr/aws-sec-cred-types.html)). \n",
        "\n",
        "You only need to generate your credentials file once. After running the configure function below, save the outputted file for all your future Model Playground deployments and competition submissions. \n",
        "\n",
        "*Note: Handle your credentials file with the same level of security you handle your passwords. Do not share your file with anyone, send via email, or upload to Github.*"
      ],
      "metadata": {
        "id": "26S_D8NSzSxE"
      }
    },
    {
      "cell_type": "code",
      "execution_count": null,
      "metadata": {
        "id": "Kqzd-WiC6E_q"
      },
      "outputs": [],
      "source": [
        "# install aimodelshare library\n",
        "! pip install aimodelshare --upgrade"
      ]
    },
    {
      "cell_type": "code",
      "source": [
        "# Generate credentials file (skip this step if you have a file already)\n",
        "import aimodelshare as ai \n",
        "from aimodelshare.aws import configure_credentials \n",
        "\n",
        "configure_credentials()"
      ],
      "metadata": {
        "colab": {
          "base_uri": "https://localhost:8080/"
        },
        "id": "g1Tu7FPzzYqL",
        "outputId": "a677450f-52f1-42dc-94b5-6a6b94afc4a5"
      },
      "execution_count": null,
      "outputs": [
        {
          "output_type": "stream",
          "name": "stdout",
          "text": [
            "AI Modelshare Username:··········\n",
            "AI Modelshare Password:··········\n",
            "AWS_ACCESS_KEY_ID:··········\n",
            "AWS_SECRET_ACCESS_KEY:··········\n",
            "AWS_REGION:··········\n",
            "Configuration successful. New credentials file saved as 'credentials.txt'\n"
          ]
        }
      ]
    },
    {
      "cell_type": "markdown",
      "metadata": {
        "id": "R3p3JoZz9dae"
      },
      "source": [
        "# **Part 1: Prep Data, Preprocessor, & Model**"
      ]
    },
    {
      "cell_type": "code",
      "source": [
        "from aimodelshare.aws import set_credentials\n",
        "set_credentials(credential_file = \"credentials.txt\", type=\"deploy_model\")"
      ],
      "metadata": {
        "colab": {
          "base_uri": "https://localhost:8080/"
        },
        "id": "q14rEBmV0d2s",
        "outputId": "0f3b2a07-707d-4abf-e417-96fb70431eb2"
      },
      "execution_count": 2,
      "outputs": [
        {
          "output_type": "stream",
          "name": "stdout",
          "text": [
            "AI Model Share login credentials set successfully.\n",
            "AWS credentials set successfully.\n"
          ]
        }
      ]
    },
    {
      "cell_type": "code",
      "source": [
        "# Get deployment data\n",
        "from aimodelshare import download_data\n",
        "download_data('public.ecr.aws/y2e2a1d6/world_happiness_deployment_data-repository:latest')"
      ],
      "metadata": {
        "colab": {
          "base_uri": "https://localhost:8080/"
        },
        "id": "nVh2fT7009a6",
        "outputId": "4aed4f0c-234a-423d-eba5-14f942ea9bdd"
      },
      "execution_count": 3,
      "outputs": [
        {
          "output_type": "stream",
          "name": "stdout",
          "text": [
            "Downloading [>                                                ]\n",
            "\n",
            "Data downloaded successfully.\n"
          ]
        }
      ]
    },
    {
      "cell_type": "code",
      "execution_count": 4,
      "metadata": {
        "colab": {
          "base_uri": "https://localhost:8080/",
          "height": 296
        },
        "id": "1RBpU8e86Pdp",
        "outputId": "944f0988-9dfc-4746-f515-d2b427be57ca"
      },
      "outputs": [
        {
          "output_type": "execute_result",
          "data": {
            "text/html": [
              "\n",
              "  <div id=\"df-df0094f4-49c0-4608-adfe-02a263f042bd\">\n",
              "    <div class=\"colab-df-container\">\n",
              "      <div>\n",
              "<style scoped>\n",
              "    .dataframe tbody tr th:only-of-type {\n",
              "        vertical-align: middle;\n",
              "    }\n",
              "\n",
              "    .dataframe tbody tr th {\n",
              "        vertical-align: top;\n",
              "    }\n",
              "\n",
              "    .dataframe thead th {\n",
              "        text-align: right;\n",
              "    }\n",
              "</style>\n",
              "<table border=\"1\" class=\"dataframe\">\n",
              "  <thead>\n",
              "    <tr style=\"text-align: right;\">\n",
              "      <th></th>\n",
              "      <th>Happiness_level</th>\n",
              "      <th>Country or region</th>\n",
              "      <th>GDP per capita</th>\n",
              "      <th>Social support</th>\n",
              "      <th>Healthy life expectancy</th>\n",
              "      <th>Freedom to make life choices</th>\n",
              "      <th>Generosity</th>\n",
              "      <th>Perceptions of corruption</th>\n",
              "      <th>name</th>\n",
              "      <th>region</th>\n",
              "      <th>sub-region</th>\n",
              "      <th>Terrorist_attacks</th>\n",
              "    </tr>\n",
              "  </thead>\n",
              "  <tbody>\n",
              "    <tr>\n",
              "      <th>0</th>\n",
              "      <td>Very High</td>\n",
              "      <td>Finland</td>\n",
              "      <td>1.340</td>\n",
              "      <td>1.587</td>\n",
              "      <td>0.986</td>\n",
              "      <td>0.596</td>\n",
              "      <td>0.153</td>\n",
              "      <td>0.393</td>\n",
              "      <td>Finland</td>\n",
              "      <td>Europe</td>\n",
              "      <td>Northern Europe</td>\n",
              "      <td>57.333333</td>\n",
              "    </tr>\n",
              "    <tr>\n",
              "      <th>1</th>\n",
              "      <td>Very High</td>\n",
              "      <td>Denmark</td>\n",
              "      <td>1.383</td>\n",
              "      <td>1.573</td>\n",
              "      <td>0.996</td>\n",
              "      <td>0.592</td>\n",
              "      <td>0.252</td>\n",
              "      <td>0.410</td>\n",
              "      <td>Denmark</td>\n",
              "      <td>Europe</td>\n",
              "      <td>Northern Europe</td>\n",
              "      <td>2.000000</td>\n",
              "    </tr>\n",
              "    <tr>\n",
              "      <th>2</th>\n",
              "      <td>Very High</td>\n",
              "      <td>Norway</td>\n",
              "      <td>1.488</td>\n",
              "      <td>1.582</td>\n",
              "      <td>1.028</td>\n",
              "      <td>0.603</td>\n",
              "      <td>0.271</td>\n",
              "      <td>0.341</td>\n",
              "      <td>Norway</td>\n",
              "      <td>Europe</td>\n",
              "      <td>Northern Europe</td>\n",
              "      <td>1.000000</td>\n",
              "    </tr>\n",
              "    <tr>\n",
              "      <th>3</th>\n",
              "      <td>Very High</td>\n",
              "      <td>Iceland</td>\n",
              "      <td>1.380</td>\n",
              "      <td>1.624</td>\n",
              "      <td>1.026</td>\n",
              "      <td>0.591</td>\n",
              "      <td>0.354</td>\n",
              "      <td>0.118</td>\n",
              "      <td>Iceland</td>\n",
              "      <td>Europe</td>\n",
              "      <td>Northern Europe</td>\n",
              "      <td>1.000000</td>\n",
              "    </tr>\n",
              "    <tr>\n",
              "      <th>4</th>\n",
              "      <td>Very High</td>\n",
              "      <td>Netherlands</td>\n",
              "      <td>1.396</td>\n",
              "      <td>1.522</td>\n",
              "      <td>0.999</td>\n",
              "      <td>0.557</td>\n",
              "      <td>0.322</td>\n",
              "      <td>0.298</td>\n",
              "      <td>Netherlands</td>\n",
              "      <td>Europe</td>\n",
              "      <td>Western Europe</td>\n",
              "      <td>1.000000</td>\n",
              "    </tr>\n",
              "  </tbody>\n",
              "</table>\n",
              "</div>\n",
              "      <button class=\"colab-df-convert\" onclick=\"convertToInteractive('df-df0094f4-49c0-4608-adfe-02a263f042bd')\"\n",
              "              title=\"Convert this dataframe to an interactive table.\"\n",
              "              style=\"display:none;\">\n",
              "        \n",
              "  <svg xmlns=\"http://www.w3.org/2000/svg\" height=\"24px\"viewBox=\"0 0 24 24\"\n",
              "       width=\"24px\">\n",
              "    <path d=\"M0 0h24v24H0V0z\" fill=\"none\"/>\n",
              "    <path d=\"M18.56 5.44l.94 2.06.94-2.06 2.06-.94-2.06-.94-.94-2.06-.94 2.06-2.06.94zm-11 1L8.5 8.5l.94-2.06 2.06-.94-2.06-.94L8.5 2.5l-.94 2.06-2.06.94zm10 10l.94 2.06.94-2.06 2.06-.94-2.06-.94-.94-2.06-.94 2.06-2.06.94z\"/><path d=\"M17.41 7.96l-1.37-1.37c-.4-.4-.92-.59-1.43-.59-.52 0-1.04.2-1.43.59L10.3 9.45l-7.72 7.72c-.78.78-.78 2.05 0 2.83L4 21.41c.39.39.9.59 1.41.59.51 0 1.02-.2 1.41-.59l7.78-7.78 2.81-2.81c.8-.78.8-2.07 0-2.86zM5.41 20L4 18.59l7.72-7.72 1.47 1.35L5.41 20z\"/>\n",
              "  </svg>\n",
              "      </button>\n",
              "      \n",
              "  <style>\n",
              "    .colab-df-container {\n",
              "      display:flex;\n",
              "      flex-wrap:wrap;\n",
              "      gap: 12px;\n",
              "    }\n",
              "\n",
              "    .colab-df-convert {\n",
              "      background-color: #E8F0FE;\n",
              "      border: none;\n",
              "      border-radius: 50%;\n",
              "      cursor: pointer;\n",
              "      display: none;\n",
              "      fill: #1967D2;\n",
              "      height: 32px;\n",
              "      padding: 0 0 0 0;\n",
              "      width: 32px;\n",
              "    }\n",
              "\n",
              "    .colab-df-convert:hover {\n",
              "      background-color: #E2EBFA;\n",
              "      box-shadow: 0px 1px 2px rgba(60, 64, 67, 0.3), 0px 1px 3px 1px rgba(60, 64, 67, 0.15);\n",
              "      fill: #174EA6;\n",
              "    }\n",
              "\n",
              "    [theme=dark] .colab-df-convert {\n",
              "      background-color: #3B4455;\n",
              "      fill: #D2E3FC;\n",
              "    }\n",
              "\n",
              "    [theme=dark] .colab-df-convert:hover {\n",
              "      background-color: #434B5C;\n",
              "      box-shadow: 0px 1px 3px 1px rgba(0, 0, 0, 0.15);\n",
              "      filter: drop-shadow(0px 1px 2px rgba(0, 0, 0, 0.3));\n",
              "      fill: #FFFFFF;\n",
              "    }\n",
              "  </style>\n",
              "\n",
              "      <script>\n",
              "        const buttonEl =\n",
              "          document.querySelector('#df-df0094f4-49c0-4608-adfe-02a263f042bd button.colab-df-convert');\n",
              "        buttonEl.style.display =\n",
              "          google.colab.kernel.accessAllowed ? 'block' : 'none';\n",
              "\n",
              "        async function convertToInteractive(key) {\n",
              "          const element = document.querySelector('#df-df0094f4-49c0-4608-adfe-02a263f042bd');\n",
              "          const dataTable =\n",
              "            await google.colab.kernel.invokeFunction('convertToInteractive',\n",
              "                                                     [key], {});\n",
              "          if (!dataTable) return;\n",
              "\n",
              "          const docLinkHtml = 'Like what you see? Visit the ' +\n",
              "            '<a target=\"_blank\" href=https://colab.research.google.com/notebooks/data_table.ipynb>data table notebook</a>'\n",
              "            + ' to learn more about interactive tables.';\n",
              "          element.innerHTML = '';\n",
              "          dataTable['output_type'] = 'display_data';\n",
              "          await google.colab.output.renderOutput(dataTable, element);\n",
              "          const docLink = document.createElement('div');\n",
              "          docLink.innerHTML = docLinkHtml;\n",
              "          element.appendChild(docLink);\n",
              "        }\n",
              "      </script>\n",
              "    </div>\n",
              "  </div>\n",
              "  "
            ],
            "text/plain": [
              "  Happiness_level Country or region  ...       sub-region  Terrorist_attacks\n",
              "0       Very High           Finland  ...  Northern Europe          57.333333\n",
              "1       Very High           Denmark  ...  Northern Europe           2.000000\n",
              "2       Very High            Norway  ...  Northern Europe           1.000000\n",
              "3       Very High           Iceland  ...  Northern Europe           1.000000\n",
              "4       Very High       Netherlands  ...   Western Europe           1.000000\n",
              "\n",
              "[5 rows x 12 columns]"
            ]
          },
          "metadata": {},
          "execution_count": 4
        }
      ],
      "source": [
        "## Load Data \n",
        "import pandas as pd\n",
        "\n",
        "data=pd.read_csv(\"world_happiness_deployment_data/World_happinessdata2019.csv\")\n",
        "data.head()"
      ]
    },
    {
      "cell_type": "code",
      "source": [
        "# Create X and Y data objects\n",
        "X = data.drop(['Happiness_level'], axis=1)\n",
        "y = data['Happiness_level']\n",
        "\n",
        "X.shape, y.shape"
      ],
      "metadata": {
        "colab": {
          "base_uri": "https://localhost:8080/"
        },
        "id": "1AtkIggnkRyr",
        "outputId": "e9e46214-c3bd-46d3-8b1d-c53284e7ffc2"
      },
      "execution_count": 43,
      "outputs": [
        {
          "output_type": "execute_result",
          "data": {
            "text/plain": [
              "((156, 11), (156,))"
            ]
          },
          "metadata": {},
          "execution_count": 43
        }
      ]
    },
    {
      "cell_type": "code",
      "execution_count": 44,
      "metadata": {
        "colab": {
          "base_uri": "https://localhost:8080/"
        },
        "id": "qixdomAD4QXU",
        "outputId": "bb69d376-b4f5-4456-bccc-61c4b99828c4"
      },
      "outputs": [
        {
          "output_type": "stream",
          "name": "stdout",
          "text": [
            "(104, 11)\n",
            "(104,)\n",
            "['Country or region', 'GDP per capita', 'Social support', 'Healthy life expectancy', 'Freedom to make life choices', 'Generosity', 'Perceptions of corruption', 'name', 'region', 'sub-region', 'Terrorist_attacks']\n"
          ]
        }
      ],
      "source": [
        "# Set up training and test data\n",
        "from sklearn.model_selection import train_test_split\n",
        "\n",
        "X_train, X_test, y_train, y_test = train_test_split(X, y, test_size=.33, random_state=42)\n",
        "\n",
        "print(X_train.shape)\n",
        "print(y_train.shape)\n",
        "print(X_train.columns.tolist())"
      ]
    },
    {
      "cell_type": "markdown",
      "metadata": {
        "id": "GR74tkYY6cQn"
      },
      "source": [
        "### **Define Preprocessor** <br>\n",
        "Preprocess data using sklearn's Column Transformer"
      ]
    },
    {
      "cell_type": "code",
      "execution_count": 48,
      "metadata": {
        "id": "TwuyVhYy6kL2"
      },
      "outputs": [],
      "source": [
        "from sklearn.preprocessing import StandardScaler, OneHotEncoder\n",
        "from sklearn.compose import ColumnTransformer, make_column_transformer\n",
        "from sklearn.pipeline import Pipeline\n",
        "from sklearn.impute import SimpleImputer\n",
        "from sklearn.preprocessing import StandardScaler, OneHotEncoder\n",
        "\n",
        "# We create the preprocessing pipelines for both numeric and categorical data.\n",
        "X = X.drop(['Country or region', 'name'], axis=1)\n",
        "\n",
        "numeric_features=X.columns.tolist()\n",
        "numeric_features.remove('region')\n",
        "numeric_features.remove('sub-region')\n",
        "\n",
        "numeric_transformer = Pipeline(steps=[\n",
        "    ('imputer', SimpleImputer(strategy='median')),\n",
        "    ('scaler', StandardScaler())])\n",
        "\n",
        "categorical_features = ['region', 'sub-region']\n",
        "\n",
        "#Replacing missing values with Modal value and then one hot encoding.\n",
        "categorical_transformer = Pipeline(steps=[\n",
        "    ('imputer', SimpleImputer(strategy='most_frequent')),\n",
        "    ('onehot', OneHotEncoder(handle_unknown='ignore'))])\n",
        "\n",
        "# final preprocessor object set up with ColumnTransformer\n",
        "preprocessor = ColumnTransformer(\n",
        "    transformers=[\n",
        "        ('num', numeric_transformer, numeric_features),\n",
        "        ('cat', categorical_transformer, categorical_features)])\n",
        "\n",
        "#Fit your preprocessor object\n",
        "preprocess=preprocessor.fit(X_train) "
      ]
    },
    {
      "cell_type": "code",
      "source": [
        "# Write function to transform data with preprocessor\n",
        "\n",
        "def preprocessor(data):\n",
        "    data.drop(['Country or region', 'name'], axis=1)\n",
        "    preprocessed_data=preprocess.transform(data)\n",
        "    return preprocessed_data"
      ],
      "metadata": {
        "id": "xx7WoPd9lUCG"
      },
      "execution_count": 49,
      "outputs": []
    },
    {
      "cell_type": "code",
      "source": [
        "# Check shape for keras input:\n",
        "preprocessor(X_train).shape # pretty small dataset"
      ],
      "metadata": {
        "colab": {
          "base_uri": "https://localhost:8080/"
        },
        "id": "wtZt6CzzlWPL",
        "outputId": "62067d45-40ea-47e9-fbf0-3540a9f09fed"
      },
      "execution_count": 50,
      "outputs": [
        {
          "output_type": "execute_result",
          "data": {
            "text/plain": [
              "(104, 26)"
            ]
          },
          "metadata": {},
          "execution_count": 50
        }
      ]
    },
    {
      "cell_type": "code",
      "execution_count": 51,
      "metadata": {
        "id": "1wYc728XK-Q8"
      },
      "outputs": [],
      "source": [
        "# preserve y_train labels\n",
        "y_train_labels = y_train\n",
        "y_train = pd.get_dummies(y_train)"
      ]
    },
    {
      "cell_type": "code",
      "execution_count": 52,
      "metadata": {
        "colab": {
          "base_uri": "https://localhost:8080/",
          "height": 240
        },
        "id": "vu93VZt573hn",
        "outputId": "62589f1d-79a3-4d81-fa03-fd4c6c56dd11"
      },
      "outputs": [
        {
          "output_type": "execute_result",
          "data": {
            "text/html": [
              "\n",
              "  <div id=\"df-2c102a88-58cd-4e26-8640-5a184ecd9f8d\">\n",
              "    <div class=\"colab-df-container\">\n",
              "      <div>\n",
              "<style scoped>\n",
              "    .dataframe tbody tr th:only-of-type {\n",
              "        vertical-align: middle;\n",
              "    }\n",
              "\n",
              "    .dataframe tbody tr th {\n",
              "        vertical-align: top;\n",
              "    }\n",
              "\n",
              "    .dataframe thead th {\n",
              "        text-align: right;\n",
              "    }\n",
              "</style>\n",
              "<table border=\"1\" class=\"dataframe\">\n",
              "  <thead>\n",
              "    <tr style=\"text-align: right;\">\n",
              "      <th></th>\n",
              "      <th>Country or region</th>\n",
              "      <th>GDP per capita</th>\n",
              "      <th>Social support</th>\n",
              "      <th>Healthy life expectancy</th>\n",
              "      <th>Freedom to make life choices</th>\n",
              "      <th>Generosity</th>\n",
              "      <th>Perceptions of corruption</th>\n",
              "      <th>name</th>\n",
              "      <th>region</th>\n",
              "      <th>sub-region</th>\n",
              "      <th>Terrorist_attacks</th>\n",
              "    </tr>\n",
              "  </thead>\n",
              "  <tbody>\n",
              "    <tr>\n",
              "      <th>7</th>\n",
              "      <td>New Zealand</td>\n",
              "      <td>1.303</td>\n",
              "      <td>1.557</td>\n",
              "      <td>1.026</td>\n",
              "      <td>0.585</td>\n",
              "      <td>0.330</td>\n",
              "      <td>0.380</td>\n",
              "      <td>New Zealand</td>\n",
              "      <td>Oceania</td>\n",
              "      <td>Australia and New Zealand</td>\n",
              "      <td>57.333333</td>\n",
              "    </tr>\n",
              "    <tr>\n",
              "      <th>43</th>\n",
              "      <td>Slovenia</td>\n",
              "      <td>1.258</td>\n",
              "      <td>1.523</td>\n",
              "      <td>0.953</td>\n",
              "      <td>0.564</td>\n",
              "      <td>0.144</td>\n",
              "      <td>0.057</td>\n",
              "      <td>Slovenia</td>\n",
              "      <td>Europe</td>\n",
              "      <td>Southern Europe</td>\n",
              "      <td>125.611111</td>\n",
              "    </tr>\n",
              "    <tr>\n",
              "      <th>70</th>\n",
              "      <td>Moldova</td>\n",
              "      <td>0.685</td>\n",
              "      <td>1.328</td>\n",
              "      <td>0.739</td>\n",
              "      <td>0.245</td>\n",
              "      <td>0.181</td>\n",
              "      <td>0.000</td>\n",
              "      <td>Moldova</td>\n",
              "      <td>Europe</td>\n",
              "      <td>Eastern Europe</td>\n",
              "      <td>2.000000</td>\n",
              "    </tr>\n",
              "    <tr>\n",
              "      <th>113</th>\n",
              "      <td>Niger</td>\n",
              "      <td>0.138</td>\n",
              "      <td>0.774</td>\n",
              "      <td>0.366</td>\n",
              "      <td>0.318</td>\n",
              "      <td>0.188</td>\n",
              "      <td>0.102</td>\n",
              "      <td>Niger</td>\n",
              "      <td>Africa</td>\n",
              "      <td>Sub-Saharan Africa</td>\n",
              "      <td>24.000000</td>\n",
              "    </tr>\n",
              "    <tr>\n",
              "      <th>91</th>\n",
              "      <td>Indonesia</td>\n",
              "      <td>0.931</td>\n",
              "      <td>1.203</td>\n",
              "      <td>0.660</td>\n",
              "      <td>0.491</td>\n",
              "      <td>0.498</td>\n",
              "      <td>0.028</td>\n",
              "      <td>Indonesia</td>\n",
              "      <td>Asia</td>\n",
              "      <td>South-eastern Asia</td>\n",
              "      <td>84.000000</td>\n",
              "    </tr>\n",
              "  </tbody>\n",
              "</table>\n",
              "</div>\n",
              "      <button class=\"colab-df-convert\" onclick=\"convertToInteractive('df-2c102a88-58cd-4e26-8640-5a184ecd9f8d')\"\n",
              "              title=\"Convert this dataframe to an interactive table.\"\n",
              "              style=\"display:none;\">\n",
              "        \n",
              "  <svg xmlns=\"http://www.w3.org/2000/svg\" height=\"24px\"viewBox=\"0 0 24 24\"\n",
              "       width=\"24px\">\n",
              "    <path d=\"M0 0h24v24H0V0z\" fill=\"none\"/>\n",
              "    <path d=\"M18.56 5.44l.94 2.06.94-2.06 2.06-.94-2.06-.94-.94-2.06-.94 2.06-2.06.94zm-11 1L8.5 8.5l.94-2.06 2.06-.94-2.06-.94L8.5 2.5l-.94 2.06-2.06.94zm10 10l.94 2.06.94-2.06 2.06-.94-2.06-.94-.94-2.06-.94 2.06-2.06.94z\"/><path d=\"M17.41 7.96l-1.37-1.37c-.4-.4-.92-.59-1.43-.59-.52 0-1.04.2-1.43.59L10.3 9.45l-7.72 7.72c-.78.78-.78 2.05 0 2.83L4 21.41c.39.39.9.59 1.41.59.51 0 1.02-.2 1.41-.59l7.78-7.78 2.81-2.81c.8-.78.8-2.07 0-2.86zM5.41 20L4 18.59l7.72-7.72 1.47 1.35L5.41 20z\"/>\n",
              "  </svg>\n",
              "      </button>\n",
              "      \n",
              "  <style>\n",
              "    .colab-df-container {\n",
              "      display:flex;\n",
              "      flex-wrap:wrap;\n",
              "      gap: 12px;\n",
              "    }\n",
              "\n",
              "    .colab-df-convert {\n",
              "      background-color: #E8F0FE;\n",
              "      border: none;\n",
              "      border-radius: 50%;\n",
              "      cursor: pointer;\n",
              "      display: none;\n",
              "      fill: #1967D2;\n",
              "      height: 32px;\n",
              "      padding: 0 0 0 0;\n",
              "      width: 32px;\n",
              "    }\n",
              "\n",
              "    .colab-df-convert:hover {\n",
              "      background-color: #E2EBFA;\n",
              "      box-shadow: 0px 1px 2px rgba(60, 64, 67, 0.3), 0px 1px 3px 1px rgba(60, 64, 67, 0.15);\n",
              "      fill: #174EA6;\n",
              "    }\n",
              "\n",
              "    [theme=dark] .colab-df-convert {\n",
              "      background-color: #3B4455;\n",
              "      fill: #D2E3FC;\n",
              "    }\n",
              "\n",
              "    [theme=dark] .colab-df-convert:hover {\n",
              "      background-color: #434B5C;\n",
              "      box-shadow: 0px 1px 3px 1px rgba(0, 0, 0, 0.15);\n",
              "      filter: drop-shadow(0px 1px 2px rgba(0, 0, 0, 0.3));\n",
              "      fill: #FFFFFF;\n",
              "    }\n",
              "  </style>\n",
              "\n",
              "      <script>\n",
              "        const buttonEl =\n",
              "          document.querySelector('#df-2c102a88-58cd-4e26-8640-5a184ecd9f8d button.colab-df-convert');\n",
              "        buttonEl.style.display =\n",
              "          google.colab.kernel.accessAllowed ? 'block' : 'none';\n",
              "\n",
              "        async function convertToInteractive(key) {\n",
              "          const element = document.querySelector('#df-2c102a88-58cd-4e26-8640-5a184ecd9f8d');\n",
              "          const dataTable =\n",
              "            await google.colab.kernel.invokeFunction('convertToInteractive',\n",
              "                                                     [key], {});\n",
              "          if (!dataTable) return;\n",
              "\n",
              "          const docLinkHtml = 'Like what you see? Visit the ' +\n",
              "            '<a target=\"_blank\" href=https://colab.research.google.com/notebooks/data_table.ipynb>data table notebook</a>'\n",
              "            + ' to learn more about interactive tables.';\n",
              "          element.innerHTML = '';\n",
              "          dataTable['output_type'] = 'display_data';\n",
              "          await google.colab.output.renderOutput(dataTable, element);\n",
              "          const docLink = document.createElement('div');\n",
              "          docLink.innerHTML = docLinkHtml;\n",
              "          element.appendChild(docLink);\n",
              "        }\n",
              "      </script>\n",
              "    </div>\n",
              "  </div>\n",
              "  "
            ],
            "text/plain": [
              "    Country or region  ...  Terrorist_attacks\n",
              "7         New Zealand  ...          57.333333\n",
              "43           Slovenia  ...         125.611111\n",
              "70            Moldova  ...           2.000000\n",
              "113             Niger  ...          24.000000\n",
              "91          Indonesia  ...          84.000000\n",
              "\n",
              "[5 rows x 11 columns]"
            ]
          },
          "metadata": {},
          "execution_count": 52
        }
      ],
      "source": [
        "#Save Example Data \n",
        "example_data = X_train[50:55]\n",
        "example_data"
      ]
    },
    {
      "cell_type": "markdown",
      "metadata": {
        "id": "WHYKrh1z9sUU"
      },
      "source": [
        "### **Train Placeholder Model** <br>\n",
        "Neural network with Keras"
      ]
    },
    {
      "cell_type": "code",
      "execution_count": 54,
      "metadata": {
        "id": "_l9c6xpL9zuh",
        "colab": {
          "base_uri": "https://localhost:8080/"
        },
        "outputId": "3a98908c-513d-4544-9d2b-0596c5130d5b"
      },
      "outputs": [
        {
          "output_type": "stream",
          "name": "stdout",
          "text": [
            "Epoch 1/300\n",
            "2/2 [==============================] - 1s 238ms/step - loss: 1.6153 - accuracy: 0.3134 - val_loss: 1.6291 - val_accuracy: 0.1892\n",
            "Epoch 2/300\n",
            "2/2 [==============================] - 0s 26ms/step - loss: 1.6066 - accuracy: 0.2985 - val_loss: 1.6247 - val_accuracy: 0.1892\n",
            "Epoch 3/300\n",
            "2/2 [==============================] - 0s 26ms/step - loss: 1.5998 - accuracy: 0.2985 - val_loss: 1.6190 - val_accuracy: 0.2162\n",
            "Epoch 4/300\n",
            "2/2 [==============================] - 0s 34ms/step - loss: 1.5932 - accuracy: 0.2985 - val_loss: 1.6125 - val_accuracy: 0.2162\n",
            "Epoch 5/300\n",
            "2/2 [==============================] - 0s 27ms/step - loss: 1.5855 - accuracy: 0.2985 - val_loss: 1.6069 - val_accuracy: 0.2162\n",
            "Epoch 6/300\n",
            "2/2 [==============================] - 0s 31ms/step - loss: 1.5786 - accuracy: 0.2985 - val_loss: 1.6016 - val_accuracy: 0.2162\n",
            "Epoch 7/300\n",
            "2/2 [==============================] - 0s 26ms/step - loss: 1.5717 - accuracy: 0.2985 - val_loss: 1.5984 - val_accuracy: 0.2162\n",
            "Epoch 8/300\n",
            "2/2 [==============================] - 0s 29ms/step - loss: 1.5661 - accuracy: 0.2985 - val_loss: 1.5943 - val_accuracy: 0.2162\n",
            "Epoch 9/300\n",
            "2/2 [==============================] - 0s 27ms/step - loss: 1.5612 - accuracy: 0.3134 - val_loss: 1.5928 - val_accuracy: 0.2162\n",
            "Epoch 10/300\n",
            "2/2 [==============================] - 0s 26ms/step - loss: 1.5569 - accuracy: 0.3134 - val_loss: 1.5870 - val_accuracy: 0.2162\n",
            "Epoch 11/300\n",
            "2/2 [==============================] - 0s 28ms/step - loss: 1.5500 - accuracy: 0.3284 - val_loss: 1.5827 - val_accuracy: 0.2162\n",
            "Epoch 12/300\n",
            "2/2 [==============================] - 0s 27ms/step - loss: 1.5446 - accuracy: 0.3134 - val_loss: 1.5745 - val_accuracy: 0.2162\n",
            "Epoch 13/300\n",
            "2/2 [==============================] - 0s 28ms/step - loss: 1.5363 - accuracy: 0.3433 - val_loss: 1.5687 - val_accuracy: 0.2432\n",
            "Epoch 14/300\n",
            "2/2 [==============================] - 0s 26ms/step - loss: 1.5302 - accuracy: 0.3433 - val_loss: 1.5657 - val_accuracy: 0.2432\n",
            "Epoch 15/300\n",
            "2/2 [==============================] - 0s 25ms/step - loss: 1.5255 - accuracy: 0.3433 - val_loss: 1.5609 - val_accuracy: 0.2703\n",
            "Epoch 16/300\n",
            "2/2 [==============================] - 0s 32ms/step - loss: 1.5195 - accuracy: 0.3433 - val_loss: 1.5564 - val_accuracy: 0.2703\n",
            "Epoch 17/300\n",
            "2/2 [==============================] - 0s 25ms/step - loss: 1.5132 - accuracy: 0.3582 - val_loss: 1.5515 - val_accuracy: 0.2703\n",
            "Epoch 18/300\n",
            "2/2 [==============================] - 0s 27ms/step - loss: 1.5067 - accuracy: 0.3582 - val_loss: 1.5501 - val_accuracy: 0.2703\n",
            "Epoch 19/300\n",
            "2/2 [==============================] - 0s 30ms/step - loss: 1.5025 - accuracy: 0.3731 - val_loss: 1.5450 - val_accuracy: 0.2703\n",
            "Epoch 20/300\n",
            "2/2 [==============================] - 0s 26ms/step - loss: 1.4956 - accuracy: 0.4030 - val_loss: 1.5401 - val_accuracy: 0.2703\n",
            "Epoch 21/300\n",
            "2/2 [==============================] - 0s 35ms/step - loss: 1.4904 - accuracy: 0.4328 - val_loss: 1.5352 - val_accuracy: 0.2973\n",
            "Epoch 22/300\n",
            "2/2 [==============================] - 0s 27ms/step - loss: 1.4847 - accuracy: 0.4179 - val_loss: 1.5321 - val_accuracy: 0.2973\n",
            "Epoch 23/300\n",
            "2/2 [==============================] - 0s 28ms/step - loss: 1.4799 - accuracy: 0.4627 - val_loss: 1.5263 - val_accuracy: 0.3243\n",
            "Epoch 24/300\n",
            "2/2 [==============================] - 0s 30ms/step - loss: 1.4731 - accuracy: 0.4627 - val_loss: 1.5212 - val_accuracy: 0.3514\n",
            "Epoch 25/300\n",
            "2/2 [==============================] - 0s 34ms/step - loss: 1.4674 - accuracy: 0.4627 - val_loss: 1.5156 - val_accuracy: 0.3514\n",
            "Epoch 26/300\n",
            "2/2 [==============================] - 0s 33ms/step - loss: 1.4606 - accuracy: 0.4925 - val_loss: 1.5131 - val_accuracy: 0.3514\n",
            "Epoch 27/300\n",
            "2/2 [==============================] - 0s 24ms/step - loss: 1.4555 - accuracy: 0.4776 - val_loss: 1.5098 - val_accuracy: 0.3514\n",
            "Epoch 28/300\n",
            "2/2 [==============================] - 0s 27ms/step - loss: 1.4504 - accuracy: 0.4776 - val_loss: 1.5061 - val_accuracy: 0.3514\n",
            "Epoch 29/300\n",
            "2/2 [==============================] - 0s 27ms/step - loss: 1.4449 - accuracy: 0.4627 - val_loss: 1.5026 - val_accuracy: 0.3514\n",
            "Epoch 30/300\n",
            "2/2 [==============================] - 0s 32ms/step - loss: 1.4396 - accuracy: 0.4925 - val_loss: 1.4988 - val_accuracy: 0.3514\n",
            "Epoch 31/300\n",
            "2/2 [==============================] - 0s 30ms/step - loss: 1.4341 - accuracy: 0.5224 - val_loss: 1.4942 - val_accuracy: 0.3784\n",
            "Epoch 32/300\n",
            "2/2 [==============================] - 0s 25ms/step - loss: 1.4282 - accuracy: 0.4776 - val_loss: 1.4875 - val_accuracy: 0.3784\n",
            "Epoch 33/300\n",
            "2/2 [==============================] - 0s 32ms/step - loss: 1.4226 - accuracy: 0.5224 - val_loss: 1.4838 - val_accuracy: 0.3784\n",
            "Epoch 34/300\n",
            "2/2 [==============================] - 0s 32ms/step - loss: 1.4172 - accuracy: 0.5373 - val_loss: 1.4797 - val_accuracy: 0.3784\n",
            "Epoch 35/300\n",
            "2/2 [==============================] - 0s 27ms/step - loss: 1.4113 - accuracy: 0.5075 - val_loss: 1.4752 - val_accuracy: 0.3784\n",
            "Epoch 36/300\n",
            "2/2 [==============================] - 0s 37ms/step - loss: 1.4053 - accuracy: 0.5373 - val_loss: 1.4720 - val_accuracy: 0.3784\n",
            "Epoch 37/300\n",
            "2/2 [==============================] - 0s 33ms/step - loss: 1.4001 - accuracy: 0.5373 - val_loss: 1.4686 - val_accuracy: 0.3784\n",
            "Epoch 38/300\n",
            "2/2 [==============================] - 0s 27ms/step - loss: 1.3948 - accuracy: 0.5522 - val_loss: 1.4643 - val_accuracy: 0.3784\n",
            "Epoch 39/300\n",
            "2/2 [==============================] - 0s 33ms/step - loss: 1.3898 - accuracy: 0.5522 - val_loss: 1.4609 - val_accuracy: 0.3784\n",
            "Epoch 40/300\n",
            "2/2 [==============================] - 0s 28ms/step - loss: 1.3841 - accuracy: 0.5224 - val_loss: 1.4551 - val_accuracy: 0.3784\n",
            "Epoch 41/300\n",
            "2/2 [==============================] - 0s 27ms/step - loss: 1.3786 - accuracy: 0.5373 - val_loss: 1.4492 - val_accuracy: 0.3784\n",
            "Epoch 42/300\n",
            "2/2 [==============================] - 0s 27ms/step - loss: 1.3728 - accuracy: 0.5373 - val_loss: 1.4434 - val_accuracy: 0.3784\n",
            "Epoch 43/300\n",
            "2/2 [==============================] - 0s 32ms/step - loss: 1.3670 - accuracy: 0.5224 - val_loss: 1.4411 - val_accuracy: 0.3784\n",
            "Epoch 44/300\n",
            "2/2 [==============================] - 0s 30ms/step - loss: 1.3619 - accuracy: 0.5522 - val_loss: 1.4347 - val_accuracy: 0.3514\n",
            "Epoch 45/300\n",
            "2/2 [==============================] - 0s 33ms/step - loss: 1.3549 - accuracy: 0.5224 - val_loss: 1.4309 - val_accuracy: 0.3784\n",
            "Epoch 46/300\n",
            "2/2 [==============================] - 0s 27ms/step - loss: 1.3502 - accuracy: 0.5522 - val_loss: 1.4275 - val_accuracy: 0.3514\n",
            "Epoch 47/300\n",
            "2/2 [==============================] - 0s 28ms/step - loss: 1.3443 - accuracy: 0.5373 - val_loss: 1.4231 - val_accuracy: 0.3514\n",
            "Epoch 48/300\n",
            "2/2 [==============================] - 0s 27ms/step - loss: 1.3385 - accuracy: 0.5373 - val_loss: 1.4183 - val_accuracy: 0.3514\n",
            "Epoch 49/300\n",
            "2/2 [==============================] - 0s 31ms/step - loss: 1.3326 - accuracy: 0.5373 - val_loss: 1.4126 - val_accuracy: 0.3784\n",
            "Epoch 50/300\n",
            "2/2 [==============================] - 0s 32ms/step - loss: 1.3262 - accuracy: 0.5373 - val_loss: 1.4081 - val_accuracy: 0.3514\n",
            "Epoch 51/300\n",
            "2/2 [==============================] - 0s 38ms/step - loss: 1.3201 - accuracy: 0.5373 - val_loss: 1.4035 - val_accuracy: 0.3784\n",
            "Epoch 52/300\n",
            "2/2 [==============================] - 0s 43ms/step - loss: 1.3139 - accuracy: 0.5522 - val_loss: 1.4007 - val_accuracy: 0.4054\n",
            "Epoch 53/300\n",
            "2/2 [==============================] - 0s 28ms/step - loss: 1.3088 - accuracy: 0.5672 - val_loss: 1.3947 - val_accuracy: 0.4054\n",
            "Epoch 54/300\n",
            "2/2 [==============================] - 0s 25ms/step - loss: 1.3030 - accuracy: 0.5672 - val_loss: 1.3898 - val_accuracy: 0.4054\n",
            "Epoch 55/300\n",
            "2/2 [==============================] - 0s 30ms/step - loss: 1.2969 - accuracy: 0.5672 - val_loss: 1.3847 - val_accuracy: 0.4054\n",
            "Epoch 56/300\n",
            "2/2 [==============================] - 0s 27ms/step - loss: 1.2912 - accuracy: 0.5522 - val_loss: 1.3778 - val_accuracy: 0.4054\n",
            "Epoch 57/300\n",
            "2/2 [==============================] - 0s 32ms/step - loss: 1.2845 - accuracy: 0.5522 - val_loss: 1.3723 - val_accuracy: 0.4054\n",
            "Epoch 58/300\n",
            "2/2 [==============================] - 0s 31ms/step - loss: 1.2784 - accuracy: 0.5373 - val_loss: 1.3652 - val_accuracy: 0.4054\n",
            "Epoch 59/300\n",
            "2/2 [==============================] - 0s 28ms/step - loss: 1.2714 - accuracy: 0.5224 - val_loss: 1.3597 - val_accuracy: 0.4054\n",
            "Epoch 60/300\n",
            "2/2 [==============================] - 0s 28ms/step - loss: 1.2659 - accuracy: 0.5672 - val_loss: 1.3559 - val_accuracy: 0.4324\n",
            "Epoch 61/300\n",
            "2/2 [==============================] - 0s 33ms/step - loss: 1.2609 - accuracy: 0.5821 - val_loss: 1.3518 - val_accuracy: 0.4324\n",
            "Epoch 62/300\n",
            "2/2 [==============================] - 0s 29ms/step - loss: 1.2547 - accuracy: 0.5821 - val_loss: 1.3471 - val_accuracy: 0.4324\n",
            "Epoch 63/300\n",
            "2/2 [==============================] - 0s 31ms/step - loss: 1.2488 - accuracy: 0.5821 - val_loss: 1.3446 - val_accuracy: 0.4324\n",
            "Epoch 64/300\n",
            "2/2 [==============================] - 0s 29ms/step - loss: 1.2435 - accuracy: 0.5821 - val_loss: 1.3405 - val_accuracy: 0.4324\n",
            "Epoch 65/300\n",
            "2/2 [==============================] - 0s 32ms/step - loss: 1.2371 - accuracy: 0.5970 - val_loss: 1.3370 - val_accuracy: 0.4324\n",
            "Epoch 66/300\n",
            "2/2 [==============================] - 0s 31ms/step - loss: 1.2307 - accuracy: 0.5970 - val_loss: 1.3319 - val_accuracy: 0.4324\n",
            "Epoch 67/300\n",
            "2/2 [==============================] - 0s 26ms/step - loss: 1.2247 - accuracy: 0.5970 - val_loss: 1.3284 - val_accuracy: 0.4324\n",
            "Epoch 68/300\n",
            "2/2 [==============================] - 0s 30ms/step - loss: 1.2193 - accuracy: 0.5970 - val_loss: 1.3244 - val_accuracy: 0.4324\n",
            "Epoch 69/300\n",
            "2/2 [==============================] - 0s 29ms/step - loss: 1.2139 - accuracy: 0.6119 - val_loss: 1.3204 - val_accuracy: 0.4595\n",
            "Epoch 70/300\n",
            "2/2 [==============================] - 0s 29ms/step - loss: 1.2091 - accuracy: 0.6269 - val_loss: 1.3173 - val_accuracy: 0.4595\n",
            "Epoch 71/300\n",
            "2/2 [==============================] - 0s 33ms/step - loss: 1.2035 - accuracy: 0.6269 - val_loss: 1.3113 - val_accuracy: 0.4595\n",
            "Epoch 72/300\n",
            "2/2 [==============================] - 0s 36ms/step - loss: 1.1975 - accuracy: 0.6269 - val_loss: 1.3078 - val_accuracy: 0.4595\n",
            "Epoch 73/300\n",
            "2/2 [==============================] - 0s 31ms/step - loss: 1.1923 - accuracy: 0.6418 - val_loss: 1.3023 - val_accuracy: 0.4595\n",
            "Epoch 74/300\n",
            "2/2 [==============================] - 0s 29ms/step - loss: 1.1878 - accuracy: 0.6418 - val_loss: 1.2988 - val_accuracy: 0.4595\n",
            "Epoch 75/300\n",
            "2/2 [==============================] - 0s 32ms/step - loss: 1.1827 - accuracy: 0.6567 - val_loss: 1.2973 - val_accuracy: 0.4595\n",
            "Epoch 76/300\n",
            "2/2 [==============================] - 0s 30ms/step - loss: 1.1781 - accuracy: 0.6866 - val_loss: 1.2918 - val_accuracy: 0.4865\n",
            "Epoch 77/300\n",
            "2/2 [==============================] - 0s 41ms/step - loss: 1.1732 - accuracy: 0.6866 - val_loss: 1.2867 - val_accuracy: 0.4595\n",
            "Epoch 78/300\n",
            "2/2 [==============================] - 0s 27ms/step - loss: 1.1665 - accuracy: 0.6567 - val_loss: 1.2833 - val_accuracy: 0.4595\n",
            "Epoch 79/300\n",
            "2/2 [==============================] - 0s 38ms/step - loss: 1.1614 - accuracy: 0.6567 - val_loss: 1.2804 - val_accuracy: 0.4595\n",
            "Epoch 80/300\n",
            "2/2 [==============================] - 0s 29ms/step - loss: 1.1557 - accuracy: 0.6567 - val_loss: 1.2749 - val_accuracy: 0.4595\n",
            "Epoch 81/300\n",
            "2/2 [==============================] - 0s 29ms/step - loss: 1.1499 - accuracy: 0.6418 - val_loss: 1.2704 - val_accuracy: 0.4595\n",
            "Epoch 82/300\n",
            "2/2 [==============================] - 0s 30ms/step - loss: 1.1449 - accuracy: 0.6567 - val_loss: 1.2658 - val_accuracy: 0.4595\n",
            "Epoch 83/300\n",
            "2/2 [==============================] - 0s 30ms/step - loss: 1.1387 - accuracy: 0.6716 - val_loss: 1.2610 - val_accuracy: 0.4595\n",
            "Epoch 84/300\n",
            "2/2 [==============================] - 0s 30ms/step - loss: 1.1335 - accuracy: 0.6716 - val_loss: 1.2581 - val_accuracy: 0.4865\n",
            "Epoch 85/300\n",
            "2/2 [==============================] - 0s 33ms/step - loss: 1.1288 - accuracy: 0.6716 - val_loss: 1.2537 - val_accuracy: 0.4865\n",
            "Epoch 86/300\n",
            "2/2 [==============================] - 0s 28ms/step - loss: 1.1244 - accuracy: 0.6716 - val_loss: 1.2511 - val_accuracy: 0.4865\n",
            "Epoch 87/300\n",
            "2/2 [==============================] - 0s 28ms/step - loss: 1.1194 - accuracy: 0.6567 - val_loss: 1.2481 - val_accuracy: 0.4865\n",
            "Epoch 88/300\n",
            "2/2 [==============================] - 0s 33ms/step - loss: 1.1140 - accuracy: 0.6716 - val_loss: 1.2463 - val_accuracy: 0.4865\n",
            "Epoch 89/300\n",
            "2/2 [==============================] - 0s 41ms/step - loss: 1.1095 - accuracy: 0.6716 - val_loss: 1.2425 - val_accuracy: 0.4865\n",
            "Epoch 90/300\n",
            "2/2 [==============================] - 0s 27ms/step - loss: 1.1044 - accuracy: 0.6567 - val_loss: 1.2376 - val_accuracy: 0.4865\n",
            "Epoch 91/300\n",
            "2/2 [==============================] - 0s 30ms/step - loss: 1.0995 - accuracy: 0.6567 - val_loss: 1.2318 - val_accuracy: 0.4865\n",
            "Epoch 92/300\n",
            "2/2 [==============================] - 0s 29ms/step - loss: 1.0945 - accuracy: 0.6567 - val_loss: 1.2297 - val_accuracy: 0.4865\n",
            "Epoch 93/300\n",
            "2/2 [==============================] - 0s 28ms/step - loss: 1.0901 - accuracy: 0.6716 - val_loss: 1.2245 - val_accuracy: 0.4865\n",
            "Epoch 94/300\n",
            "2/2 [==============================] - 0s 27ms/step - loss: 1.0855 - accuracy: 0.6716 - val_loss: 1.2211 - val_accuracy: 0.4865\n",
            "Epoch 95/300\n",
            "2/2 [==============================] - 0s 28ms/step - loss: 1.0805 - accuracy: 0.6866 - val_loss: 1.2194 - val_accuracy: 0.4865\n",
            "Epoch 96/300\n",
            "2/2 [==============================] - 0s 30ms/step - loss: 1.0760 - accuracy: 0.6716 - val_loss: 1.2172 - val_accuracy: 0.4865\n",
            "Epoch 97/300\n",
            "2/2 [==============================] - 0s 33ms/step - loss: 1.0715 - accuracy: 0.6716 - val_loss: 1.2154 - val_accuracy: 0.4865\n",
            "Epoch 98/300\n",
            "2/2 [==============================] - 0s 30ms/step - loss: 1.0672 - accuracy: 0.6716 - val_loss: 1.2104 - val_accuracy: 0.4865\n",
            "Epoch 99/300\n",
            "2/2 [==============================] - 0s 39ms/step - loss: 1.0632 - accuracy: 0.6866 - val_loss: 1.2083 - val_accuracy: 0.4865\n",
            "Epoch 100/300\n",
            "2/2 [==============================] - 0s 25ms/step - loss: 1.0584 - accuracy: 0.6418 - val_loss: 1.2057 - val_accuracy: 0.4865\n",
            "Epoch 101/300\n",
            "2/2 [==============================] - 0s 27ms/step - loss: 1.0543 - accuracy: 0.6418 - val_loss: 1.2024 - val_accuracy: 0.4865\n",
            "Epoch 102/300\n",
            "2/2 [==============================] - 0s 55ms/step - loss: 1.0500 - accuracy: 0.6418 - val_loss: 1.1981 - val_accuracy: 0.4865\n",
            "Epoch 103/300\n",
            "2/2 [==============================] - 0s 40ms/step - loss: 1.0461 - accuracy: 0.6418 - val_loss: 1.1947 - val_accuracy: 0.5405\n",
            "Epoch 104/300\n",
            "2/2 [==============================] - 0s 26ms/step - loss: 1.0414 - accuracy: 0.6418 - val_loss: 1.1935 - val_accuracy: 0.4865\n",
            "Epoch 105/300\n",
            "2/2 [==============================] - 0s 28ms/step - loss: 1.0372 - accuracy: 0.6567 - val_loss: 1.1928 - val_accuracy: 0.5405\n",
            "Epoch 106/300\n",
            "2/2 [==============================] - 0s 33ms/step - loss: 1.0340 - accuracy: 0.6716 - val_loss: 1.1907 - val_accuracy: 0.4865\n",
            "Epoch 107/300\n",
            "2/2 [==============================] - 0s 31ms/step - loss: 1.0297 - accuracy: 0.6716 - val_loss: 1.1885 - val_accuracy: 0.5405\n",
            "Epoch 108/300\n",
            "2/2 [==============================] - 0s 29ms/step - loss: 1.0259 - accuracy: 0.6716 - val_loss: 1.1848 - val_accuracy: 0.5405\n",
            "Epoch 109/300\n",
            "2/2 [==============================] - 0s 26ms/step - loss: 1.0219 - accuracy: 0.6716 - val_loss: 1.1816 - val_accuracy: 0.5405\n",
            "Epoch 110/300\n",
            "2/2 [==============================] - 0s 28ms/step - loss: 1.0180 - accuracy: 0.6866 - val_loss: 1.1795 - val_accuracy: 0.5405\n",
            "Epoch 111/300\n",
            "2/2 [==============================] - 0s 31ms/step - loss: 1.0144 - accuracy: 0.6866 - val_loss: 1.1772 - val_accuracy: 0.5405\n",
            "Epoch 112/300\n",
            "2/2 [==============================] - 0s 27ms/step - loss: 1.0109 - accuracy: 0.7015 - val_loss: 1.1742 - val_accuracy: 0.5405\n",
            "Epoch 113/300\n",
            "2/2 [==============================] - 0s 28ms/step - loss: 1.0063 - accuracy: 0.6866 - val_loss: 1.1724 - val_accuracy: 0.5405\n",
            "Epoch 114/300\n",
            "2/2 [==============================] - 0s 29ms/step - loss: 1.0026 - accuracy: 0.6866 - val_loss: 1.1715 - val_accuracy: 0.5405\n",
            "Epoch 115/300\n",
            "2/2 [==============================] - 0s 28ms/step - loss: 0.9988 - accuracy: 0.6866 - val_loss: 1.1698 - val_accuracy: 0.5405\n",
            "Epoch 116/300\n",
            "2/2 [==============================] - 0s 35ms/step - loss: 0.9944 - accuracy: 0.7015 - val_loss: 1.1669 - val_accuracy: 0.5405\n",
            "Epoch 117/300\n",
            "2/2 [==============================] - 0s 26ms/step - loss: 0.9905 - accuracy: 0.7015 - val_loss: 1.1651 - val_accuracy: 0.5135\n",
            "Epoch 118/300\n",
            "2/2 [==============================] - 0s 27ms/step - loss: 0.9869 - accuracy: 0.7164 - val_loss: 1.1659 - val_accuracy: 0.5135\n",
            "Epoch 119/300\n",
            "2/2 [==============================] - 0s 25ms/step - loss: 0.9831 - accuracy: 0.7164 - val_loss: 1.1613 - val_accuracy: 0.5135\n",
            "Epoch 120/300\n",
            "2/2 [==============================] - 0s 28ms/step - loss: 0.9790 - accuracy: 0.7164 - val_loss: 1.1582 - val_accuracy: 0.5135\n",
            "Epoch 121/300\n",
            "2/2 [==============================] - 0s 30ms/step - loss: 0.9754 - accuracy: 0.7164 - val_loss: 1.1570 - val_accuracy: 0.5135\n",
            "Epoch 122/300\n",
            "2/2 [==============================] - 0s 30ms/step - loss: 0.9721 - accuracy: 0.7164 - val_loss: 1.1564 - val_accuracy: 0.5135\n",
            "Epoch 123/300\n",
            "2/2 [==============================] - 0s 31ms/step - loss: 0.9683 - accuracy: 0.7164 - val_loss: 1.1575 - val_accuracy: 0.5135\n",
            "Epoch 124/300\n",
            "2/2 [==============================] - 0s 34ms/step - loss: 0.9646 - accuracy: 0.7164 - val_loss: 1.1570 - val_accuracy: 0.5135\n",
            "Epoch 125/300\n",
            "2/2 [==============================] - 0s 36ms/step - loss: 0.9608 - accuracy: 0.7164 - val_loss: 1.1541 - val_accuracy: 0.5135\n",
            "Epoch 126/300\n",
            "2/2 [==============================] - 0s 28ms/step - loss: 0.9568 - accuracy: 0.7164 - val_loss: 1.1529 - val_accuracy: 0.5135\n",
            "Epoch 127/300\n",
            "2/2 [==============================] - 0s 31ms/step - loss: 0.9536 - accuracy: 0.7164 - val_loss: 1.1498 - val_accuracy: 0.5135\n",
            "Epoch 128/300\n",
            "2/2 [==============================] - 0s 31ms/step - loss: 0.9499 - accuracy: 0.7164 - val_loss: 1.1481 - val_accuracy: 0.5135\n",
            "Epoch 129/300\n",
            "2/2 [==============================] - 0s 27ms/step - loss: 0.9470 - accuracy: 0.7164 - val_loss: 1.1471 - val_accuracy: 0.5135\n",
            "Epoch 130/300\n",
            "2/2 [==============================] - 0s 28ms/step - loss: 0.9433 - accuracy: 0.7015 - val_loss: 1.1452 - val_accuracy: 0.5135\n",
            "Epoch 131/300\n",
            "2/2 [==============================] - 0s 31ms/step - loss: 0.9396 - accuracy: 0.7015 - val_loss: 1.1430 - val_accuracy: 0.5135\n",
            "Epoch 132/300\n",
            "2/2 [==============================] - 0s 31ms/step - loss: 0.9362 - accuracy: 0.7015 - val_loss: 1.1383 - val_accuracy: 0.5135\n",
            "Epoch 133/300\n",
            "2/2 [==============================] - 0s 29ms/step - loss: 0.9321 - accuracy: 0.7015 - val_loss: 1.1368 - val_accuracy: 0.5135\n",
            "Epoch 134/300\n",
            "2/2 [==============================] - 0s 32ms/step - loss: 0.9283 - accuracy: 0.7015 - val_loss: 1.1355 - val_accuracy: 0.5135\n",
            "Epoch 135/300\n",
            "2/2 [==============================] - 0s 33ms/step - loss: 0.9247 - accuracy: 0.7015 - val_loss: 1.1323 - val_accuracy: 0.5135\n",
            "Epoch 136/300\n",
            "2/2 [==============================] - 0s 25ms/step - loss: 0.9213 - accuracy: 0.7015 - val_loss: 1.1288 - val_accuracy: 0.5135\n",
            "Epoch 137/300\n",
            "2/2 [==============================] - 0s 30ms/step - loss: 0.9178 - accuracy: 0.7164 - val_loss: 1.1269 - val_accuracy: 0.5135\n",
            "Epoch 138/300\n",
            "2/2 [==============================] - 0s 26ms/step - loss: 0.9144 - accuracy: 0.7164 - val_loss: 1.1263 - val_accuracy: 0.5135\n",
            "Epoch 139/300\n",
            "2/2 [==============================] - 0s 30ms/step - loss: 0.9109 - accuracy: 0.7015 - val_loss: 1.1237 - val_accuracy: 0.5135\n",
            "Epoch 140/300\n",
            "2/2 [==============================] - 0s 34ms/step - loss: 0.9076 - accuracy: 0.7015 - val_loss: 1.1202 - val_accuracy: 0.5135\n",
            "Epoch 141/300\n",
            "2/2 [==============================] - 0s 37ms/step - loss: 0.9047 - accuracy: 0.7164 - val_loss: 1.1202 - val_accuracy: 0.5135\n",
            "Epoch 142/300\n",
            "2/2 [==============================] - 0s 26ms/step - loss: 0.9014 - accuracy: 0.7015 - val_loss: 1.1198 - val_accuracy: 0.5135\n",
            "Epoch 143/300\n",
            "2/2 [==============================] - 0s 28ms/step - loss: 0.8985 - accuracy: 0.7015 - val_loss: 1.1157 - val_accuracy: 0.5135\n",
            "Epoch 144/300\n",
            "2/2 [==============================] - 0s 29ms/step - loss: 0.8944 - accuracy: 0.7015 - val_loss: 1.1161 - val_accuracy: 0.5135\n",
            "Epoch 145/300\n",
            "2/2 [==============================] - 0s 30ms/step - loss: 0.8911 - accuracy: 0.7015 - val_loss: 1.1139 - val_accuracy: 0.5135\n",
            "Epoch 146/300\n",
            "2/2 [==============================] - 0s 28ms/step - loss: 0.8877 - accuracy: 0.7015 - val_loss: 1.1097 - val_accuracy: 0.5135\n",
            "Epoch 147/300\n",
            "2/2 [==============================] - 0s 28ms/step - loss: 0.8844 - accuracy: 0.7015 - val_loss: 1.1090 - val_accuracy: 0.5135\n",
            "Epoch 148/300\n",
            "2/2 [==============================] - 0s 38ms/step - loss: 0.8816 - accuracy: 0.7015 - val_loss: 1.1090 - val_accuracy: 0.5135\n",
            "Epoch 149/300\n",
            "2/2 [==============================] - 0s 29ms/step - loss: 0.8791 - accuracy: 0.7015 - val_loss: 1.1069 - val_accuracy: 0.5135\n",
            "Epoch 150/300\n",
            "2/2 [==============================] - 0s 34ms/step - loss: 0.8761 - accuracy: 0.7015 - val_loss: 1.1029 - val_accuracy: 0.5135\n",
            "Epoch 151/300\n",
            "2/2 [==============================] - 0s 34ms/step - loss: 0.8729 - accuracy: 0.7015 - val_loss: 1.1006 - val_accuracy: 0.5405\n",
            "Epoch 152/300\n",
            "2/2 [==============================] - 0s 42ms/step - loss: 0.8697 - accuracy: 0.7015 - val_loss: 1.1009 - val_accuracy: 0.5135\n",
            "Epoch 153/300\n",
            "2/2 [==============================] - 0s 26ms/step - loss: 0.8661 - accuracy: 0.7015 - val_loss: 1.1034 - val_accuracy: 0.5405\n",
            "Epoch 154/300\n",
            "2/2 [==============================] - 0s 30ms/step - loss: 0.8636 - accuracy: 0.7015 - val_loss: 1.0994 - val_accuracy: 0.5135\n",
            "Epoch 155/300\n",
            "2/2 [==============================] - 0s 31ms/step - loss: 0.8604 - accuracy: 0.7015 - val_loss: 1.0956 - val_accuracy: 0.5135\n",
            "Epoch 156/300\n",
            "2/2 [==============================] - 0s 28ms/step - loss: 0.8571 - accuracy: 0.7164 - val_loss: 1.0914 - val_accuracy: 0.5135\n",
            "Epoch 157/300\n",
            "2/2 [==============================] - 0s 32ms/step - loss: 0.8545 - accuracy: 0.7313 - val_loss: 1.0891 - val_accuracy: 0.5135\n",
            "Epoch 158/300\n",
            "2/2 [==============================] - 0s 30ms/step - loss: 0.8518 - accuracy: 0.7164 - val_loss: 1.0886 - val_accuracy: 0.5135\n",
            "Epoch 159/300\n",
            "2/2 [==============================] - 0s 33ms/step - loss: 0.8497 - accuracy: 0.7164 - val_loss: 1.0890 - val_accuracy: 0.5135\n",
            "Epoch 160/300\n",
            "2/2 [==============================] - 0s 28ms/step - loss: 0.8480 - accuracy: 0.7164 - val_loss: 1.0875 - val_accuracy: 0.5135\n",
            "Epoch 161/300\n",
            "2/2 [==============================] - 0s 48ms/step - loss: 0.8443 - accuracy: 0.7015 - val_loss: 1.0824 - val_accuracy: 0.5405\n",
            "Epoch 162/300\n",
            "2/2 [==============================] - 0s 29ms/step - loss: 0.8403 - accuracy: 0.7463 - val_loss: 1.0824 - val_accuracy: 0.5135\n",
            "Epoch 163/300\n",
            "2/2 [==============================] - 0s 28ms/step - loss: 0.8378 - accuracy: 0.7313 - val_loss: 1.0818 - val_accuracy: 0.5405\n",
            "Epoch 164/300\n",
            "2/2 [==============================] - 0s 30ms/step - loss: 0.8354 - accuracy: 0.7313 - val_loss: 1.0783 - val_accuracy: 0.5135\n",
            "Epoch 165/300\n",
            "2/2 [==============================] - 0s 31ms/step - loss: 0.8329 - accuracy: 0.7313 - val_loss: 1.0781 - val_accuracy: 0.5405\n",
            "Epoch 166/300\n",
            "2/2 [==============================] - 0s 31ms/step - loss: 0.8295 - accuracy: 0.7313 - val_loss: 1.0748 - val_accuracy: 0.5676\n",
            "Epoch 167/300\n",
            "2/2 [==============================] - 0s 31ms/step - loss: 0.8267 - accuracy: 0.7313 - val_loss: 1.0734 - val_accuracy: 0.5405\n",
            "Epoch 168/300\n",
            "2/2 [==============================] - 0s 31ms/step - loss: 0.8248 - accuracy: 0.7313 - val_loss: 1.0733 - val_accuracy: 0.5676\n",
            "Epoch 169/300\n",
            "2/2 [==============================] - 0s 27ms/step - loss: 0.8228 - accuracy: 0.7164 - val_loss: 1.0756 - val_accuracy: 0.5405\n",
            "Epoch 170/300\n",
            "2/2 [==============================] - 0s 33ms/step - loss: 0.8204 - accuracy: 0.7164 - val_loss: 1.0758 - val_accuracy: 0.5405\n",
            "Epoch 171/300\n",
            "2/2 [==============================] - 0s 30ms/step - loss: 0.8174 - accuracy: 0.7313 - val_loss: 1.0748 - val_accuracy: 0.5676\n",
            "Epoch 172/300\n",
            "2/2 [==============================] - 0s 29ms/step - loss: 0.8148 - accuracy: 0.7313 - val_loss: 1.0741 - val_accuracy: 0.5676\n",
            "Epoch 173/300\n",
            "2/2 [==============================] - 0s 28ms/step - loss: 0.8131 - accuracy: 0.7313 - val_loss: 1.0722 - val_accuracy: 0.5676\n",
            "Epoch 174/300\n",
            "2/2 [==============================] - 0s 33ms/step - loss: 0.8102 - accuracy: 0.7015 - val_loss: 1.0683 - val_accuracy: 0.5676\n",
            "Epoch 175/300\n",
            "2/2 [==============================] - 0s 32ms/step - loss: 0.8082 - accuracy: 0.7164 - val_loss: 1.0687 - val_accuracy: 0.5946\n",
            "Epoch 176/300\n",
            "2/2 [==============================] - 0s 27ms/step - loss: 0.8071 - accuracy: 0.7015 - val_loss: 1.0635 - val_accuracy: 0.6216\n",
            "Epoch 177/300\n",
            "2/2 [==============================] - 0s 39ms/step - loss: 0.8043 - accuracy: 0.7015 - val_loss: 1.0601 - val_accuracy: 0.6216\n",
            "Epoch 178/300\n",
            "2/2 [==============================] - 0s 37ms/step - loss: 0.8014 - accuracy: 0.7164 - val_loss: 1.0609 - val_accuracy: 0.5946\n",
            "Epoch 179/300\n",
            "2/2 [==============================] - 0s 33ms/step - loss: 0.7988 - accuracy: 0.7313 - val_loss: 1.0626 - val_accuracy: 0.5946\n",
            "Epoch 180/300\n",
            "2/2 [==============================] - 0s 29ms/step - loss: 0.7966 - accuracy: 0.7313 - val_loss: 1.0635 - val_accuracy: 0.5676\n",
            "Epoch 181/300\n",
            "2/2 [==============================] - 0s 29ms/step - loss: 0.7939 - accuracy: 0.7164 - val_loss: 1.0580 - val_accuracy: 0.6216\n",
            "Epoch 182/300\n",
            "2/2 [==============================] - 0s 38ms/step - loss: 0.7914 - accuracy: 0.7164 - val_loss: 1.0602 - val_accuracy: 0.5946\n",
            "Epoch 183/300\n",
            "2/2 [==============================] - 0s 28ms/step - loss: 0.7889 - accuracy: 0.7313 - val_loss: 1.0602 - val_accuracy: 0.5946\n",
            "Epoch 184/300\n",
            "2/2 [==============================] - 0s 28ms/step - loss: 0.7867 - accuracy: 0.7313 - val_loss: 1.0555 - val_accuracy: 0.5946\n",
            "Epoch 185/300\n",
            "2/2 [==============================] - 0s 31ms/step - loss: 0.7844 - accuracy: 0.7313 - val_loss: 1.0550 - val_accuracy: 0.5946\n",
            "Epoch 186/300\n",
            "2/2 [==============================] - 0s 32ms/step - loss: 0.7819 - accuracy: 0.7313 - val_loss: 1.0515 - val_accuracy: 0.5946\n",
            "Epoch 187/300\n",
            "2/2 [==============================] - 0s 29ms/step - loss: 0.7797 - accuracy: 0.7313 - val_loss: 1.0502 - val_accuracy: 0.5676\n",
            "Epoch 188/300\n",
            "2/2 [==============================] - 0s 26ms/step - loss: 0.7774 - accuracy: 0.7313 - val_loss: 1.0474 - val_accuracy: 0.5946\n",
            "Epoch 189/300\n",
            "2/2 [==============================] - 0s 28ms/step - loss: 0.7746 - accuracy: 0.7313 - val_loss: 1.0471 - val_accuracy: 0.5946\n",
            "Epoch 190/300\n",
            "2/2 [==============================] - 0s 28ms/step - loss: 0.7725 - accuracy: 0.7463 - val_loss: 1.0434 - val_accuracy: 0.5946\n",
            "Epoch 191/300\n",
            "2/2 [==============================] - 0s 28ms/step - loss: 0.7699 - accuracy: 0.7463 - val_loss: 1.0421 - val_accuracy: 0.5946\n",
            "Epoch 192/300\n",
            "2/2 [==============================] - 0s 34ms/step - loss: 0.7672 - accuracy: 0.7463 - val_loss: 1.0434 - val_accuracy: 0.5946\n",
            "Epoch 193/300\n",
            "2/2 [==============================] - 0s 27ms/step - loss: 0.7643 - accuracy: 0.7612 - val_loss: 1.0422 - val_accuracy: 0.5946\n",
            "Epoch 194/300\n",
            "2/2 [==============================] - 0s 30ms/step - loss: 0.7624 - accuracy: 0.7612 - val_loss: 1.0446 - val_accuracy: 0.5946\n",
            "Epoch 195/300\n",
            "2/2 [==============================] - 0s 26ms/step - loss: 0.7601 - accuracy: 0.7612 - val_loss: 1.0420 - val_accuracy: 0.5946\n",
            "Epoch 196/300\n",
            "2/2 [==============================] - 0s 28ms/step - loss: 0.7582 - accuracy: 0.7463 - val_loss: 1.0436 - val_accuracy: 0.6216\n",
            "Epoch 197/300\n",
            "2/2 [==============================] - 0s 33ms/step - loss: 0.7555 - accuracy: 0.7463 - val_loss: 1.0427 - val_accuracy: 0.5946\n",
            "Epoch 198/300\n",
            "2/2 [==============================] - 0s 31ms/step - loss: 0.7533 - accuracy: 0.7463 - val_loss: 1.0420 - val_accuracy: 0.5946\n",
            "Epoch 199/300\n",
            "2/2 [==============================] - 0s 33ms/step - loss: 0.7505 - accuracy: 0.7612 - val_loss: 1.0417 - val_accuracy: 0.5946\n",
            "Epoch 200/300\n",
            "2/2 [==============================] - 0s 29ms/step - loss: 0.7481 - accuracy: 0.7612 - val_loss: 1.0422 - val_accuracy: 0.6216\n",
            "Epoch 201/300\n",
            "2/2 [==============================] - 0s 33ms/step - loss: 0.7455 - accuracy: 0.7463 - val_loss: 1.0411 - val_accuracy: 0.6486\n",
            "Epoch 202/300\n",
            "2/2 [==============================] - 0s 60ms/step - loss: 0.7433 - accuracy: 0.7463 - val_loss: 1.0417 - val_accuracy: 0.6216\n",
            "Epoch 203/300\n",
            "2/2 [==============================] - 0s 28ms/step - loss: 0.7417 - accuracy: 0.7463 - val_loss: 1.0407 - val_accuracy: 0.6216\n",
            "Epoch 204/300\n",
            "2/2 [==============================] - 0s 28ms/step - loss: 0.7396 - accuracy: 0.7463 - val_loss: 1.0349 - val_accuracy: 0.6486\n",
            "Epoch 205/300\n",
            "2/2 [==============================] - 0s 31ms/step - loss: 0.7372 - accuracy: 0.7313 - val_loss: 1.0352 - val_accuracy: 0.6216\n",
            "Epoch 206/300\n",
            "2/2 [==============================] - 0s 32ms/step - loss: 0.7346 - accuracy: 0.7612 - val_loss: 1.0360 - val_accuracy: 0.6216\n",
            "Epoch 207/300\n",
            "2/2 [==============================] - 0s 28ms/step - loss: 0.7327 - accuracy: 0.7612 - val_loss: 1.0313 - val_accuracy: 0.6486\n",
            "Epoch 208/300\n",
            "2/2 [==============================] - 0s 30ms/step - loss: 0.7310 - accuracy: 0.7463 - val_loss: 1.0267 - val_accuracy: 0.6486\n",
            "Epoch 209/300\n",
            "2/2 [==============================] - 0s 29ms/step - loss: 0.7298 - accuracy: 0.7612 - val_loss: 1.0264 - val_accuracy: 0.6486\n",
            "Epoch 210/300\n",
            "2/2 [==============================] - 0s 26ms/step - loss: 0.7281 - accuracy: 0.7761 - val_loss: 1.0257 - val_accuracy: 0.6486\n",
            "Epoch 211/300\n",
            "2/2 [==============================] - 0s 33ms/step - loss: 0.7264 - accuracy: 0.7612 - val_loss: 1.0304 - val_accuracy: 0.6486\n",
            "Epoch 212/300\n",
            "2/2 [==============================] - 0s 27ms/step - loss: 0.7236 - accuracy: 0.7463 - val_loss: 1.0323 - val_accuracy: 0.6486\n",
            "Epoch 213/300\n",
            "2/2 [==============================] - 0s 27ms/step - loss: 0.7212 - accuracy: 0.7463 - val_loss: 1.0333 - val_accuracy: 0.6486\n",
            "Epoch 214/300\n",
            "2/2 [==============================] - 0s 30ms/step - loss: 0.7194 - accuracy: 0.7463 - val_loss: 1.0308 - val_accuracy: 0.6486\n",
            "Epoch 215/300\n",
            "2/2 [==============================] - 0s 41ms/step - loss: 0.7169 - accuracy: 0.7910 - val_loss: 1.0316 - val_accuracy: 0.6486\n",
            "Epoch 216/300\n",
            "2/2 [==============================] - 0s 31ms/step - loss: 0.7132 - accuracy: 0.7612 - val_loss: 1.0328 - val_accuracy: 0.6486\n",
            "Epoch 217/300\n",
            "2/2 [==============================] - 0s 28ms/step - loss: 0.7114 - accuracy: 0.7463 - val_loss: 1.0283 - val_accuracy: 0.6486\n",
            "Epoch 218/300\n",
            "2/2 [==============================] - 0s 34ms/step - loss: 0.7105 - accuracy: 0.7761 - val_loss: 1.0289 - val_accuracy: 0.6486\n",
            "Epoch 219/300\n",
            "2/2 [==============================] - 0s 32ms/step - loss: 0.7073 - accuracy: 0.7761 - val_loss: 1.0302 - val_accuracy: 0.6486\n",
            "Epoch 220/300\n",
            "2/2 [==============================] - 0s 33ms/step - loss: 0.7054 - accuracy: 0.7612 - val_loss: 1.0313 - val_accuracy: 0.6486\n",
            "Epoch 221/300\n",
            "2/2 [==============================] - 0s 28ms/step - loss: 0.7027 - accuracy: 0.7463 - val_loss: 1.0284 - val_accuracy: 0.6486\n",
            "Epoch 222/300\n",
            "2/2 [==============================] - 0s 36ms/step - loss: 0.6999 - accuracy: 0.7463 - val_loss: 1.0278 - val_accuracy: 0.6486\n",
            "Epoch 223/300\n",
            "2/2 [==============================] - 0s 34ms/step - loss: 0.6975 - accuracy: 0.7612 - val_loss: 1.0261 - val_accuracy: 0.6486\n",
            "Epoch 224/300\n",
            "2/2 [==============================] - 0s 31ms/step - loss: 0.6956 - accuracy: 0.7761 - val_loss: 1.0272 - val_accuracy: 0.6216\n",
            "Epoch 225/300\n",
            "2/2 [==============================] - 0s 34ms/step - loss: 0.6934 - accuracy: 0.7761 - val_loss: 1.0236 - val_accuracy: 0.6486\n",
            "Epoch 226/300\n",
            "2/2 [==============================] - 0s 45ms/step - loss: 0.6914 - accuracy: 0.7761 - val_loss: 1.0225 - val_accuracy: 0.6486\n",
            "Epoch 227/300\n",
            "2/2 [==============================] - 0s 32ms/step - loss: 0.6895 - accuracy: 0.7910 - val_loss: 1.0241 - val_accuracy: 0.6486\n",
            "Epoch 228/300\n",
            "2/2 [==============================] - 0s 32ms/step - loss: 0.6877 - accuracy: 0.7910 - val_loss: 1.0223 - val_accuracy: 0.6486\n",
            "Epoch 229/300\n",
            "2/2 [==============================] - 0s 33ms/step - loss: 0.6861 - accuracy: 0.8060 - val_loss: 1.0228 - val_accuracy: 0.6486\n",
            "Epoch 230/300\n",
            "2/2 [==============================] - 0s 33ms/step - loss: 0.6842 - accuracy: 0.8060 - val_loss: 1.0218 - val_accuracy: 0.6486\n",
            "Epoch 231/300\n",
            "2/2 [==============================] - 0s 42ms/step - loss: 0.6821 - accuracy: 0.7612 - val_loss: 1.0214 - val_accuracy: 0.6486\n",
            "Epoch 232/300\n",
            "2/2 [==============================] - 0s 28ms/step - loss: 0.6797 - accuracy: 0.8060 - val_loss: 1.0176 - val_accuracy: 0.6486\n",
            "Epoch 233/300\n",
            "2/2 [==============================] - 0s 33ms/step - loss: 0.6794 - accuracy: 0.8060 - val_loss: 1.0192 - val_accuracy: 0.6486\n",
            "Epoch 234/300\n",
            "2/2 [==============================] - 0s 29ms/step - loss: 0.6788 - accuracy: 0.7910 - val_loss: 1.0241 - val_accuracy: 0.6216\n",
            "Epoch 235/300\n",
            "2/2 [==============================] - 0s 34ms/step - loss: 0.6776 - accuracy: 0.7761 - val_loss: 1.0232 - val_accuracy: 0.6216\n",
            "Epoch 236/300\n",
            "2/2 [==============================] - 0s 32ms/step - loss: 0.6744 - accuracy: 0.7761 - val_loss: 1.0221 - val_accuracy: 0.6216\n",
            "Epoch 237/300\n",
            "2/2 [==============================] - 0s 32ms/step - loss: 0.6714 - accuracy: 0.7761 - val_loss: 1.0202 - val_accuracy: 0.6216\n",
            "Epoch 238/300\n",
            "2/2 [==============================] - 0s 27ms/step - loss: 0.6696 - accuracy: 0.7910 - val_loss: 1.0216 - val_accuracy: 0.6216\n",
            "Epoch 239/300\n",
            "2/2 [==============================] - 0s 29ms/step - loss: 0.6687 - accuracy: 0.7612 - val_loss: 1.0240 - val_accuracy: 0.5946\n",
            "Epoch 240/300\n",
            "2/2 [==============================] - 0s 30ms/step - loss: 0.6670 - accuracy: 0.7910 - val_loss: 1.0284 - val_accuracy: 0.5946\n",
            "Epoch 241/300\n",
            "2/2 [==============================] - 0s 27ms/step - loss: 0.6657 - accuracy: 0.8060 - val_loss: 1.0252 - val_accuracy: 0.5676\n",
            "Epoch 242/300\n",
            "2/2 [==============================] - 0s 28ms/step - loss: 0.6644 - accuracy: 0.8060 - val_loss: 1.0241 - val_accuracy: 0.5676\n",
            "Epoch 243/300\n",
            "2/2 [==============================] - 0s 26ms/step - loss: 0.6636 - accuracy: 0.8060 - val_loss: 1.0229 - val_accuracy: 0.5676\n",
            "Epoch 244/300\n",
            "2/2 [==============================] - 0s 32ms/step - loss: 0.6617 - accuracy: 0.7761 - val_loss: 1.0192 - val_accuracy: 0.6216\n",
            "Epoch 245/300\n",
            "2/2 [==============================] - 0s 30ms/step - loss: 0.6582 - accuracy: 0.7761 - val_loss: 1.0180 - val_accuracy: 0.6216\n",
            "Epoch 246/300\n",
            "2/2 [==============================] - 0s 26ms/step - loss: 0.6563 - accuracy: 0.7910 - val_loss: 1.0210 - val_accuracy: 0.6216\n",
            "Epoch 247/300\n",
            "2/2 [==============================] - 0s 34ms/step - loss: 0.6544 - accuracy: 0.8060 - val_loss: 1.0239 - val_accuracy: 0.6216\n",
            "Epoch 248/300\n",
            "2/2 [==============================] - 0s 26ms/step - loss: 0.6534 - accuracy: 0.7910 - val_loss: 1.0220 - val_accuracy: 0.6216\n",
            "Epoch 249/300\n",
            "2/2 [==============================] - 0s 33ms/step - loss: 0.6520 - accuracy: 0.8358 - val_loss: 1.0192 - val_accuracy: 0.6216\n",
            "Epoch 250/300\n",
            "2/2 [==============================] - 0s 32ms/step - loss: 0.6498 - accuracy: 0.8358 - val_loss: 1.0173 - val_accuracy: 0.6216\n",
            "Epoch 251/300\n",
            "2/2 [==============================] - 0s 37ms/step - loss: 0.6482 - accuracy: 0.8358 - val_loss: 1.0135 - val_accuracy: 0.6216\n",
            "Epoch 252/300\n",
            "2/2 [==============================] - 0s 30ms/step - loss: 0.6475 - accuracy: 0.8209 - val_loss: 1.0139 - val_accuracy: 0.6216\n",
            "Epoch 253/300\n",
            "2/2 [==============================] - 0s 36ms/step - loss: 0.6453 - accuracy: 0.8060 - val_loss: 1.0127 - val_accuracy: 0.6216\n",
            "Epoch 254/300\n",
            "2/2 [==============================] - 0s 29ms/step - loss: 0.6442 - accuracy: 0.8060 - val_loss: 1.0138 - val_accuracy: 0.6216\n",
            "Epoch 255/300\n",
            "2/2 [==============================] - 0s 31ms/step - loss: 0.6418 - accuracy: 0.7910 - val_loss: 1.0116 - val_accuracy: 0.6216\n",
            "Epoch 256/300\n",
            "2/2 [==============================] - 0s 26ms/step - loss: 0.6399 - accuracy: 0.8060 - val_loss: 1.0148 - val_accuracy: 0.6216\n",
            "Epoch 257/300\n",
            "2/2 [==============================] - 0s 36ms/step - loss: 0.6379 - accuracy: 0.8060 - val_loss: 1.0155 - val_accuracy: 0.6216\n",
            "Epoch 258/300\n",
            "2/2 [==============================] - 0s 31ms/step - loss: 0.6365 - accuracy: 0.8060 - val_loss: 1.0164 - val_accuracy: 0.6216\n",
            "Epoch 259/300\n",
            "2/2 [==============================] - 0s 28ms/step - loss: 0.6348 - accuracy: 0.7910 - val_loss: 1.0180 - val_accuracy: 0.6216\n",
            "Epoch 260/300\n",
            "2/2 [==============================] - 0s 53ms/step - loss: 0.6333 - accuracy: 0.7910 - val_loss: 1.0148 - val_accuracy: 0.6216\n",
            "Epoch 261/300\n",
            "2/2 [==============================] - 0s 34ms/step - loss: 0.6322 - accuracy: 0.7910 - val_loss: 1.0145 - val_accuracy: 0.6216\n",
            "Epoch 262/300\n",
            "2/2 [==============================] - 0s 33ms/step - loss: 0.6307 - accuracy: 0.7910 - val_loss: 1.0115 - val_accuracy: 0.6216\n",
            "Epoch 263/300\n",
            "2/2 [==============================] - 0s 36ms/step - loss: 0.6288 - accuracy: 0.7910 - val_loss: 1.0089 - val_accuracy: 0.6216\n",
            "Epoch 264/300\n",
            "2/2 [==============================] - 0s 31ms/step - loss: 0.6285 - accuracy: 0.7910 - val_loss: 1.0082 - val_accuracy: 0.6216\n",
            "Epoch 265/300\n",
            "2/2 [==============================] - 0s 36ms/step - loss: 0.6282 - accuracy: 0.8060 - val_loss: 1.0082 - val_accuracy: 0.6486\n",
            "Epoch 266/300\n",
            "2/2 [==============================] - 0s 30ms/step - loss: 0.6277 - accuracy: 0.8060 - val_loss: 1.0102 - val_accuracy: 0.6216\n",
            "Epoch 267/300\n",
            "2/2 [==============================] - 0s 27ms/step - loss: 0.6236 - accuracy: 0.8060 - val_loss: 1.0088 - val_accuracy: 0.6486\n",
            "Epoch 268/300\n",
            "2/2 [==============================] - 0s 27ms/step - loss: 0.6228 - accuracy: 0.8060 - val_loss: 1.0088 - val_accuracy: 0.6216\n",
            "Epoch 269/300\n",
            "2/2 [==============================] - 0s 32ms/step - loss: 0.6199 - accuracy: 0.7910 - val_loss: 1.0079 - val_accuracy: 0.6216\n",
            "Epoch 270/300\n",
            "2/2 [==============================] - 0s 32ms/step - loss: 0.6186 - accuracy: 0.7910 - val_loss: 1.0123 - val_accuracy: 0.6216\n",
            "Epoch 271/300\n",
            "2/2 [==============================] - 0s 38ms/step - loss: 0.6165 - accuracy: 0.8060 - val_loss: 1.0136 - val_accuracy: 0.6216\n",
            "Epoch 272/300\n",
            "2/2 [==============================] - 0s 36ms/step - loss: 0.6162 - accuracy: 0.7761 - val_loss: 1.0135 - val_accuracy: 0.6216\n",
            "Epoch 273/300\n",
            "2/2 [==============================] - 0s 37ms/step - loss: 0.6150 - accuracy: 0.7910 - val_loss: 1.0132 - val_accuracy: 0.6216\n",
            "Epoch 274/300\n",
            "2/2 [==============================] - 0s 39ms/step - loss: 0.6135 - accuracy: 0.7612 - val_loss: 1.0167 - val_accuracy: 0.6216\n",
            "Epoch 275/300\n",
            "2/2 [==============================] - 0s 54ms/step - loss: 0.6107 - accuracy: 0.7910 - val_loss: 1.0197 - val_accuracy: 0.6216\n",
            "Epoch 276/300\n",
            "2/2 [==============================] - 0s 32ms/step - loss: 0.6099 - accuracy: 0.7612 - val_loss: 1.0225 - val_accuracy: 0.5676\n",
            "Epoch 277/300\n",
            "2/2 [==============================] - 0s 33ms/step - loss: 0.6097 - accuracy: 0.7761 - val_loss: 1.0217 - val_accuracy: 0.6216\n",
            "Epoch 278/300\n",
            "2/2 [==============================] - 0s 31ms/step - loss: 0.6066 - accuracy: 0.7761 - val_loss: 1.0180 - val_accuracy: 0.6216\n",
            "Epoch 279/300\n",
            "2/2 [==============================] - 0s 32ms/step - loss: 0.6043 - accuracy: 0.8209 - val_loss: 1.0180 - val_accuracy: 0.6216\n",
            "Epoch 280/300\n",
            "2/2 [==============================] - 0s 31ms/step - loss: 0.6029 - accuracy: 0.8209 - val_loss: 1.0166 - val_accuracy: 0.6216\n",
            "Epoch 281/300\n",
            "2/2 [==============================] - 0s 36ms/step - loss: 0.6018 - accuracy: 0.8209 - val_loss: 1.0190 - val_accuracy: 0.6216\n",
            "Epoch 282/300\n",
            "2/2 [==============================] - 0s 30ms/step - loss: 0.6004 - accuracy: 0.7910 - val_loss: 1.0224 - val_accuracy: 0.6216\n",
            "Epoch 283/300\n",
            "2/2 [==============================] - 0s 29ms/step - loss: 0.5987 - accuracy: 0.7910 - val_loss: 1.0173 - val_accuracy: 0.6216\n",
            "Epoch 284/300\n",
            "2/2 [==============================] - 0s 34ms/step - loss: 0.5970 - accuracy: 0.8209 - val_loss: 1.0193 - val_accuracy: 0.6216\n",
            "Epoch 285/300\n",
            "2/2 [==============================] - 0s 35ms/step - loss: 0.5951 - accuracy: 0.8209 - val_loss: 1.0216 - val_accuracy: 0.6216\n",
            "Epoch 286/300\n",
            "2/2 [==============================] - 0s 28ms/step - loss: 0.5945 - accuracy: 0.8209 - val_loss: 1.0242 - val_accuracy: 0.5946\n",
            "Epoch 287/300\n",
            "2/2 [==============================] - 0s 26ms/step - loss: 0.5938 - accuracy: 0.8209 - val_loss: 1.0241 - val_accuracy: 0.5946\n",
            "Epoch 288/300\n",
            "2/2 [==============================] - 0s 30ms/step - loss: 0.5926 - accuracy: 0.8209 - val_loss: 1.0187 - val_accuracy: 0.6216\n",
            "Epoch 289/300\n",
            "2/2 [==============================] - 0s 31ms/step - loss: 0.5904 - accuracy: 0.8209 - val_loss: 1.0177 - val_accuracy: 0.6216\n",
            "Epoch 290/300\n",
            "2/2 [==============================] - 0s 35ms/step - loss: 0.5893 - accuracy: 0.8209 - val_loss: 1.0169 - val_accuracy: 0.6216\n",
            "Epoch 291/300\n",
            "2/2 [==============================] - 0s 29ms/step - loss: 0.5882 - accuracy: 0.8358 - val_loss: 1.0209 - val_accuracy: 0.6216\n",
            "Epoch 292/300\n",
            "2/2 [==============================] - 0s 32ms/step - loss: 0.5860 - accuracy: 0.8209 - val_loss: 1.0175 - val_accuracy: 0.6216\n",
            "Epoch 293/300\n",
            "2/2 [==============================] - 0s 36ms/step - loss: 0.5837 - accuracy: 0.8209 - val_loss: 1.0135 - val_accuracy: 0.6216\n",
            "Epoch 294/300\n",
            "2/2 [==============================] - 0s 42ms/step - loss: 0.5832 - accuracy: 0.8358 - val_loss: 1.0121 - val_accuracy: 0.5946\n",
            "Epoch 295/300\n",
            "2/2 [==============================] - 0s 30ms/step - loss: 0.5830 - accuracy: 0.8358 - val_loss: 1.0144 - val_accuracy: 0.6216\n",
            "Epoch 296/300\n",
            "2/2 [==============================] - 0s 31ms/step - loss: 0.5801 - accuracy: 0.8358 - val_loss: 1.0165 - val_accuracy: 0.6216\n",
            "Epoch 297/300\n",
            "2/2 [==============================] - 0s 32ms/step - loss: 0.5792 - accuracy: 0.8209 - val_loss: 1.0161 - val_accuracy: 0.6216\n",
            "Epoch 298/300\n",
            "2/2 [==============================] - 0s 39ms/step - loss: 0.5781 - accuracy: 0.8209 - val_loss: 1.0173 - val_accuracy: 0.6216\n",
            "Epoch 299/300\n",
            "2/2 [==============================] - 0s 39ms/step - loss: 0.5772 - accuracy: 0.8209 - val_loss: 1.0181 - val_accuracy: 0.6216\n",
            "Epoch 300/300\n",
            "2/2 [==============================] - 0s 32ms/step - loss: 0.5761 - accuracy: 0.8209 - val_loss: 1.0189 - val_accuracy: 0.6216\n"
          ]
        },
        {
          "output_type": "execute_result",
          "data": {
            "text/plain": [
              "<keras.callbacks.History at 0x7fda8c40be10>"
            ]
          },
          "metadata": {},
          "execution_count": 54
        }
      ],
      "source": [
        "import keras\n",
        "from keras.models import Sequential\n",
        "from keras.layers import Dense, Activation\n",
        "\n",
        "feature_count=preprocessor(X_train).shape[1] #count features in input data\n",
        "\n",
        "model = Sequential()\n",
        "model.add(Dense(64, input_dim=feature_count, activation='relu'))\n",
        "model.add(Dense(64, activation='relu'))\n",
        "model.add(Dense(64, activation='relu'))\n",
        "\n",
        "model.add(Dense(5, activation='softmax')) \n",
        "                                            \n",
        "# Compile model\n",
        "model.compile(loss='categorical_crossentropy', optimizer='sgd', metrics=['accuracy'])\n",
        "\n",
        "# Fitting the NN to the Training set\n",
        "model.fit(preprocessor(X_train), y_train, \n",
        "               batch_size = 60, \n",
        "               epochs = 300, validation_split=0.35)  "
      ]
    },
    {
      "cell_type": "markdown",
      "metadata": {
        "id": "gSErcape9sZJ"
      },
      "source": [
        "**Save Preprocessor & Model to local files**"
      ]
    },
    {
      "cell_type": "code",
      "execution_count": 55,
      "metadata": {
        "colab": {
          "base_uri": "https://localhost:8080/"
        },
        "id": "9zwUoiZs-C-5",
        "outputId": "3e34f5f8-e6cb-46b3-e5cc-af52b3a91952"
      },
      "outputs": [
        {
          "output_type": "stream",
          "name": "stdout",
          "text": [
            "Your preprocessor is now saved to 'preprocessor.zip'\n"
          ]
        }
      ],
      "source": [
        "#export preprocessor\n",
        "import aimodelshare as ai\n",
        "ai.export_preprocessor(preprocessor,\"\")"
      ]
    },
    {
      "cell_type": "code",
      "execution_count": 56,
      "metadata": {
        "colab": {
          "base_uri": "https://localhost:8080/"
        },
        "id": "xwAi0yjXp65J",
        "outputId": "cbc5d244-9a8d-4404-f57a-aae53e78438d"
      },
      "outputs": [
        {
          "output_type": "execute_result",
          "data": {
            "text/plain": [
              "(5, 26)"
            ]
          },
          "metadata": {},
          "execution_count": 56
        }
      ],
      "source": [
        "# Test Preprocessor\n",
        "prep = ai.import_preprocessor(\"preprocessor.zip\")\n",
        "prep(example_data).shape"
      ]
    },
    {
      "cell_type": "code",
      "execution_count": 57,
      "metadata": {
        "id": "JPRdPOBc-Gti"
      },
      "outputs": [],
      "source": [
        "# Save keras model to ONNX file \n",
        "\n",
        "from aimodelshare.aimsonnx import model_to_onnx\n",
        "\n",
        "onnx_model = model_to_onnx(model, framework='keras',\n",
        "                          transfer_learning=False,\n",
        "                          deep_learning=True)\n",
        "\n",
        "with open(\"model.onnx\", \"wb\") as f:\n",
        "    f.write(onnx_model.SerializeToString())"
      ]
    },
    {
      "cell_type": "markdown",
      "metadata": {
        "id": "AekJ1-Pm9XRD"
      },
      "source": [
        "# **Part 2: Deploy Model**"
      ]
    },
    {
      "cell_type": "code",
      "execution_count": 58,
      "metadata": {
        "id": "VgwHGLuN-PJK"
      },
      "outputs": [],
      "source": [
        "#Set up arguments for Model Playground deployment\n",
        "import pandas as pd \n",
        "\n",
        "model_filepath=\"model.onnx\"\n",
        "preprocessor_filepath=\"preprocessor.zip\"\n",
        "exampledata = example_data"
      ]
    },
    {
      "cell_type": "code",
      "execution_count": 59,
      "metadata": {
        "colab": {
          "base_uri": "https://localhost:8080/"
        },
        "id": "CTlI02hX-iXR",
        "outputId": "05212750-43f7-4bee-eb90-85ee833a10ce"
      },
      "outputs": [
        {
          "output_type": "stream",
          "name": "stdout",
          "text": [
            "We need some information about your model before we can build your REST API and interactive Model Playground.\n",
            "   \n",
            "Model Name (for AI Model Share Website):World Happiness Classifier\n",
            "Model Description (Explain what your model does and \n",
            " why end-users would find your model useful):What makes the citizens of one country more happy than the citizens of other countries? Do variables measuring perceptions of corruption, GDP, maintaining a healthy lifestyle, or social support associate with a country's happiness ranking?  Let's use the United Nation's World Happiness Rankings country level data to experiment with models that predict happiness rankings well.\n",
            "Model Key Words (Search categories that describe your model, separated with commas):world happiness, classification, supervised learning\n",
            "   \n",
            "Creating your prediction API. (This process may take several minutes.)\n",
            "\n",
            "[=====================================] Progress: 100% - Complete!                                            \n",
            "\n",
            "Success! Your Model Playground was created in 65 seconds. \n",
            " Playground Url: \"https://3uy3lbiu14.execute-api.us-east-1.amazonaws.com/prod/m\"\n",
            "\n",
            "You can now use your Model Playground.\n",
            "\n",
            "Follow this link to explore your Model Playground's functionality\n",
            "You can make predictions with the Dashboard and access example code from the Programmatic tab.\n",
            "https://www.modelshare.org/detail/model:1211\n"
          ]
        }
      ],
      "source": [
        "#Deploy API\n",
        "from aimodelshare import ModelPlayground\n",
        "\n",
        "#Instantiate ModelPlayground() Class\n",
        "myplayground=ModelPlayground(model_type=\"tabular\", classification=True, private=False)\n",
        "\n",
        "# Create Model Playground (generates live rest api and web-app for your model/preprocessor)\n",
        "\n",
        "myplayground.deploy(model_filepath, preprocessor_filepath, y_train, exampledata) "
      ]
    },
    {
      "cell_type": "code",
      "execution_count": null,
      "metadata": {
        "colab": {
          "base_uri": "https://localhost:8080/",
          "height": 109
        },
        "id": "VzsXNwTH2cOS",
        "outputId": "8b201f12-b698-4ead-8639-dd7547e462ba"
      },
      "outputs": [
        {
          "name": "stdout",
          "output_type": "stream",
          "text": [
            "Running this function will permanently delete all resources tied to this deployment, \n",
            " including the eval lambda and all models submitted to the model competition.\n",
            "\n",
            "To confirm, type 'permanently delete':permanently delete\n"
          ]
        },
        {
          "data": {
            "application/vnd.google.colaboratory.intrinsic+json": {
              "type": "string"
            },
            "text/plain": [
              "'API deleted successfully.'"
            ]
          },
          "execution_count": 24,
          "metadata": {},
          "output_type": "execute_result"
        }
      ],
      "source": [
        "#Delete Deployment if testing: \n",
        "\n",
        "#myplayground.delete_deployment()"
      ]
    },
    {
      "cell_type": "markdown",
      "metadata": {
        "id": "ajpqc3xo2xzd"
      },
      "source": [
        "# **Part 3: Create a Competition**"
      ]
    },
    {
      "cell_type": "code",
      "execution_count": 60,
      "metadata": {
        "id": "QSW1qCCqBbFe"
      },
      "outputs": [],
      "source": [
        "# Create data directory with X_train, y_train_labels, and X_test objects: \n",
        "import os\n",
        "import shutil \n",
        "\n",
        "X_train.to_csv(\"X_train.csv\", index=False)\n",
        "X_test.to_csv(\"X_test.csv\", index=False)\n",
        "y_train.to_csv(\"y_train.csv\", index=False)\n",
        "\n",
        "os.mkdir(\"world_happiness_competition_data\")\n",
        "file_list = [\"X_train.csv\", \"X_test.csv\", \"y_train.csv\"]\n",
        "\n",
        "for file in file_list: \n",
        "  shutil.move(file, \"world_happiness_competition_data\")"
      ]
    },
    {
      "cell_type": "code",
      "execution_count": 61,
      "metadata": {
        "colab": {
          "base_uri": "https://localhost:8080/"
        },
        "id": "KI2VOEzW2w-W",
        "outputId": "92d7cbf2-d857-470a-ed74-5204adf4bd85"
      },
      "outputs": [
        {
          "output_type": "stream",
          "name": "stdout",
          "text": [
            "\n",
            "--INPUT COMPETITION DETAILS--\n",
            "\n",
            "Enter competition name:World Happiness CLassification Competition\n",
            "Enter competition description:What makes the citizens of one country more happy than the citizens of other countries? Do variables measuring perceptions of corruption, GDP, maintaining a healthy lifestyle, or social support associate with a country's happiness ranking?  Let's use the United Nation's World Happiness Rankings country level data to experiment with models that predict happiness rankings well.\n",
            "\n",
            "--INPUT DATA DETAILS--\n",
            "\n",
            "Note: (optional) Save an optional LICENSE.txt file in your competition data directory to make users aware of any restrictions on data sharing/usage.\n",
            "\n",
            "Enter data description (i.e.- filenames denoting training and test data, file types, and any subfolders where files are stored):Competition data folder contains labeled X_train, y_train, and X_test objects.\n",
            "Enter optional data license descriptive name (e.g.- 'MIT, Apache 2.0, CC0, Other, etc.'):\n",
            "Uploading your data. Please wait for a confirmation message.\n",
            "\n",
            " Success! Model competition created. \n",
            "\n",
            "You may now update your prediction API runtime model and verify evaluation metrics with the update_runtime_model() function.\n",
            "\n",
            "To upload new models and/or preprocessors to this API, team members should use \n",
            "the following credentials:\n",
            "\n",
            "apiurl='https://3uy3lbiu14.execute-api.us-east-1.amazonaws.com/prod/m'\n",
            "from aimodelshare.aws import set_credentials\n",
            "set_credentials(apiurl=apiurl)\n",
            "\n",
            "They can then submit models to your competition by using the following code: \n",
            "\n",
            "competition= ai.Competition(apiurl)\n",
            "download_data('public.ecr.aws/y2e2a1d6/world_happiness_competition_data-repository:latest') \n",
            "# Use this data to preprocess data and train model. Write and save preprocessor fxn, save model to onnx file, generate predicted y values\n",
            " using X test data, then submit a model below.\n",
            "\n",
            "competition.submit_model(model_filepath, preprocessor_filepath, prediction_submission_list)\n"
          ]
        }
      ],
      "source": [
        "# Create Competition\n",
        "myplayground.create_competition(data_directory='world_happiness_competition_data', \n",
        "                                y_test = y_test,  \n",
        "                                public=True)"
      ]
    },
    {
      "cell_type": "code",
      "execution_count": 62,
      "metadata": {
        "id": "JahnggTR2-Me"
      },
      "outputs": [],
      "source": [
        "#Instantiate Competition\n",
        "#--Note: If you start a new session, the first argument should be the Model Playground url in quotes. \n",
        "#--e.g.- mycompetition= ai.Competition(\"https://2121212.execute-api.us-east-1.amazonaws.com/prod/m)\n",
        "#See Model Playground \"Compete\" tab for example model submission code.\n",
        "\n",
        "mycompetition= ai.Competition(myplayground.playground_url)"
      ]
    },
    {
      "cell_type": "code",
      "execution_count": 63,
      "metadata": {
        "id": "-8FzA3P53AZF",
        "colab": {
          "base_uri": "https://localhost:8080/"
        },
        "outputId": "236baa10-8cea-47a9-959f-c623f7875303"
      },
      "outputs": [
        {
          "output_type": "stream",
          "name": "stdout",
          "text": [
            "AI Modelshare Username:··········\n",
            "AI Modelshare Password:··········\n",
            "AI Model Share login credentials set successfully.\n"
          ]
        }
      ],
      "source": [
        "#Authorized users can submit new models after setting credentials using modelshare.org username/password\n",
        "from aimodelshare.aws import set_credentials \n",
        "\n",
        "apiurl=myplayground.playground_url # example url from deployed playground: apiurl= \"https://123456.execute-api.us-east-1.amazonaws.com/prod/m\n",
        "\n",
        "set_credentials(apiurl=apiurl)"
      ]
    },
    {
      "cell_type": "code",
      "execution_count": 64,
      "metadata": {
        "id": "Gam1PpwT3D8F",
        "colab": {
          "base_uri": "https://localhost:8080/"
        },
        "outputId": "74263bdf-9f5d-49e4-a59b-aeae1520e728"
      },
      "outputs": [
        {
          "output_type": "stream",
          "name": "stdout",
          "text": [
            "Insert search tags to help users find your model (optional): \n",
            "Provide any useful notes about your model (optional): \n",
            "\n",
            "Your model has been submitted as model version 1\n",
            "\n",
            "To submit code used to create this model or to view current leaderboard navigate to Model Playground: \n",
            "\n",
            " https://www.modelshare.org/detail/model:1211\n"
          ]
        }
      ],
      "source": [
        "# Optional: Submit Model 1: \n",
        "\n",
        "#-- Generate predicted y values (Model 1)\n",
        "#Note: Keras predict returns the predicted column index location for classification models\n",
        "prediction_column_index=model.predict(preprocessor(X_test)).argmax(axis=1)\n",
        "\n",
        "# extract correct prediction labels \n",
        "prediction_labels = [y_train.columns[i] for i in prediction_column_index]\n",
        "\n",
        "# Submit Model 1 to Competition Leaderboard\n",
        "mycompetition.submit_model(model_filepath = \"model.onnx\",\n",
        "                                 preprocessor_filepath=\"preprocessor.zip\",\n",
        "                                 prediction_submission=prediction_labels)"
      ]
    },
    {
      "cell_type": "markdown",
      "source": [
        "Update Runtime model\n",
        "\n",
        "*Use this function to 1) update the prediction API behind your Model Playground with a new model, chosen from the leaderboard and 2) verify the modelperformance metrics in your Model Playground*"
      ],
      "metadata": {
        "id": "uEGw9MWIpQhs"
      }
    },
    {
      "cell_type": "code",
      "execution_count": 65,
      "metadata": {
        "colab": {
          "base_uri": "https://localhost:8080/"
        },
        "id": "M7Yv3q6dcJbV",
        "outputId": "8f566c8f-f471-46d8-8f90-afe06deecac7"
      },
      "outputs": [
        {
          "output_type": "stream",
          "name": "stdout",
          "text": [
            "Runtime model & preprocessor for api: https://dhagh2al50.execute-api.us-east-1.amazonaws.com/prod/m updated to model version 1.\n",
            "\n",
            "Model metrics are now updated and verified for this model playground.\n"
          ]
        }
      ],
      "source": [
        "import aimodelshare as ai\n",
        "myplayground=ai.ModelPlayground(playground_url=\"https://dhagh2al50.execute-api.us-east-1.amazonaws.com/prod/m\")\n",
        "myplayground.update_runtime_model(model_version=1)"
      ]
    }
  ],
  "metadata": {
    "colab": {
      "name": "World_Happiness_Deployment_and_Competition_Creation.ipynb",
      "provenance": [],
      "collapsed_sections": []
    },
    "kernelspec": {
      "display_name": "Python 3",
      "name": "python3"
    },
    "language_info": {
      "name": "python"
    }
  },
  "nbformat": 4,
  "nbformat_minor": 0
}