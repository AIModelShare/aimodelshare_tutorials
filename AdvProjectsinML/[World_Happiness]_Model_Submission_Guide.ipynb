{
  "nbformat": 4,
  "nbformat_minor": 0,
  "metadata": {
    "colab": {
      "name": "[World Happiness] Model Submission Guide.ipynb",
      "provenance": [],
      "collapsed_sections": []
    },
    "kernelspec": {
      "name": "python3",
      "display_name": "Python 3"
    },
    "language_info": {
      "name": "python"
    }
  },
  "cells": [
    {
      "cell_type": "markdown",
      "source": [
        "<p align=\"center\"><img width=\"50%\" src=\"https://aimodelsharecontent.s3.amazonaws.com/aimodshare_banner.jpg\" /></p>\n",
        "\n",
        "\n",
        "---"
      ],
      "metadata": {
        "id": "ekczNcQxUpzT"
      }
    },
    {
      "cell_type": "markdown",
      "metadata": {
        "id": "JXxGTgJz152A"
      },
      "source": [
        "## Model Submission Guide: World Happiness Classification Competition\n",
        "Let's share our models to a centralized leaderboard, so that we can collaborate and learn from the model experimentation process...\n",
        "\n",
        "**Instructions:**\n",
        "1.   Get data in and set up X_train / X_test / y_train\n",
        "2.   Preprocess data using Sklearn Column Transformer/ Write and Save Preprocessor function\n",
        "3. Fit model on preprocessed data and save preprocessor function and model \n",
        "4. Generate predictions from X_test data and submit model to competition\n",
        "5. Repeat submission process to improve place on leaderboard\n",
        "\n"
      ]
    },
    {
      "cell_type": "markdown",
      "metadata": {
        "id": "5gSrVJwp3E9H"
      },
      "source": [
        "## 1. Get data in and set up X_train, X_test, y_train objects"
      ]
    },
    {
      "cell_type": "code",
      "metadata": {
        "id": "PLTIaMB3ChSW"
      },
      "source": [
        "#install aimodelshare library\n",
        "! pip install aimodelshare --upgrade"
      ],
      "execution_count": null,
      "outputs": []
    },
    {
      "cell_type": "code",
      "metadata": {
        "colab": {
          "base_uri": "https://localhost:8080/"
        },
        "id": "d3PiJXBhC5y-",
        "outputId": "91e1d9fb-7773-49de-8739-a0661bcf8ed7"
      },
      "source": [
        "# Get competition data\n",
        "from aimodelshare import download_data\n",
        "download_data('public.ecr.aws/y2e2a1d6/world_happiness_competition_data-repository:latest') "
      ],
      "execution_count": 2,
      "outputs": [
        {
          "output_type": "stream",
          "name": "stdout",
          "text": [
            "Downloading [>                                                ]\n",
            "\n",
            "Data downloaded successfully.\n"
          ]
        }
      ]
    },
    {
      "cell_type": "code",
      "metadata": {
        "colab": {
          "base_uri": "https://localhost:8080/",
          "height": 282
        },
        "id": "jT0qFCZFNzHq",
        "outputId": "ff2a9139-ac28-443a-de0b-f0704b649dd8"
      },
      "source": [
        "# Load data\n",
        "import pandas as pd\n",
        "X_train = pd.read_csv('world_happiness_competition_data/X_train.csv')\n",
        "X_test = pd.read_csv('world_happiness_competition_data/X_test.csv')\n",
        "y_train = pd.read_csv('world_happiness_competition_data/y_train.csv')\n",
        "y_train_labels = y_train.idxmax(axis=1)\n",
        "\n",
        "X_train.head()"
      ],
      "execution_count": 3,
      "outputs": [
        {
          "output_type": "execute_result",
          "data": {
            "text/html": [
              "\n",
              "  <div id=\"df-0de11cb9-445d-439d-89e9-e3d883814da0\">\n",
              "    <div class=\"colab-df-container\">\n",
              "      <div>\n",
              "<style scoped>\n",
              "    .dataframe tbody tr th:only-of-type {\n",
              "        vertical-align: middle;\n",
              "    }\n",
              "\n",
              "    .dataframe tbody tr th {\n",
              "        vertical-align: top;\n",
              "    }\n",
              "\n",
              "    .dataframe thead th {\n",
              "        text-align: right;\n",
              "    }\n",
              "</style>\n",
              "<table border=\"1\" class=\"dataframe\">\n",
              "  <thead>\n",
              "    <tr style=\"text-align: right;\">\n",
              "      <th></th>\n",
              "      <th>Country or region</th>\n",
              "      <th>GDP per capita</th>\n",
              "      <th>Social support</th>\n",
              "      <th>Healthy life expectancy</th>\n",
              "      <th>Freedom to make life choices</th>\n",
              "      <th>Generosity</th>\n",
              "      <th>Perceptions of corruption</th>\n",
              "      <th>name</th>\n",
              "      <th>region</th>\n",
              "      <th>sub-region</th>\n",
              "      <th>Terrorist_attacks</th>\n",
              "    </tr>\n",
              "  </thead>\n",
              "  <tbody>\n",
              "    <tr>\n",
              "      <th>0</th>\n",
              "      <td>Saudi Arabia</td>\n",
              "      <td>1.403</td>\n",
              "      <td>1.357</td>\n",
              "      <td>0.795</td>\n",
              "      <td>0.439</td>\n",
              "      <td>0.080</td>\n",
              "      <td>0.132</td>\n",
              "      <td>Saudi Arabia</td>\n",
              "      <td>Asia</td>\n",
              "      <td>Western Asia</td>\n",
              "      <td>173.000000</td>\n",
              "    </tr>\n",
              "    <tr>\n",
              "      <th>1</th>\n",
              "      <td>Georgia</td>\n",
              "      <td>0.886</td>\n",
              "      <td>0.666</td>\n",
              "      <td>0.752</td>\n",
              "      <td>0.346</td>\n",
              "      <td>0.043</td>\n",
              "      <td>0.164</td>\n",
              "      <td>Georgia</td>\n",
              "      <td>Asia</td>\n",
              "      <td>Western Asia</td>\n",
              "      <td>18.000000</td>\n",
              "    </tr>\n",
              "    <tr>\n",
              "      <th>2</th>\n",
              "      <td>Guinea</td>\n",
              "      <td>0.380</td>\n",
              "      <td>0.829</td>\n",
              "      <td>0.375</td>\n",
              "      <td>0.332</td>\n",
              "      <td>0.207</td>\n",
              "      <td>0.086</td>\n",
              "      <td>Guinea</td>\n",
              "      <td>Africa</td>\n",
              "      <td>Sub-Saharan Africa</td>\n",
              "      <td>3.000000</td>\n",
              "    </tr>\n",
              "    <tr>\n",
              "      <th>3</th>\n",
              "      <td>Lithuania</td>\n",
              "      <td>1.238</td>\n",
              "      <td>1.515</td>\n",
              "      <td>0.818</td>\n",
              "      <td>0.291</td>\n",
              "      <td>0.043</td>\n",
              "      <td>0.042</td>\n",
              "      <td>Lithuania</td>\n",
              "      <td>Europe</td>\n",
              "      <td>Northern Europe</td>\n",
              "      <td>125.611111</td>\n",
              "    </tr>\n",
              "    <tr>\n",
              "      <th>4</th>\n",
              "      <td>Netherlands</td>\n",
              "      <td>1.396</td>\n",
              "      <td>1.522</td>\n",
              "      <td>0.999</td>\n",
              "      <td>0.557</td>\n",
              "      <td>0.322</td>\n",
              "      <td>0.298</td>\n",
              "      <td>Netherlands</td>\n",
              "      <td>Europe</td>\n",
              "      <td>Western Europe</td>\n",
              "      <td>1.000000</td>\n",
              "    </tr>\n",
              "  </tbody>\n",
              "</table>\n",
              "</div>\n",
              "      <button class=\"colab-df-convert\" onclick=\"convertToInteractive('df-0de11cb9-445d-439d-89e9-e3d883814da0')\"\n",
              "              title=\"Convert this dataframe to an interactive table.\"\n",
              "              style=\"display:none;\">\n",
              "        \n",
              "  <svg xmlns=\"http://www.w3.org/2000/svg\" height=\"24px\"viewBox=\"0 0 24 24\"\n",
              "       width=\"24px\">\n",
              "    <path d=\"M0 0h24v24H0V0z\" fill=\"none\"/>\n",
              "    <path d=\"M18.56 5.44l.94 2.06.94-2.06 2.06-.94-2.06-.94-.94-2.06-.94 2.06-2.06.94zm-11 1L8.5 8.5l.94-2.06 2.06-.94-2.06-.94L8.5 2.5l-.94 2.06-2.06.94zm10 10l.94 2.06.94-2.06 2.06-.94-2.06-.94-.94-2.06-.94 2.06-2.06.94z\"/><path d=\"M17.41 7.96l-1.37-1.37c-.4-.4-.92-.59-1.43-.59-.52 0-1.04.2-1.43.59L10.3 9.45l-7.72 7.72c-.78.78-.78 2.05 0 2.83L4 21.41c.39.39.9.59 1.41.59.51 0 1.02-.2 1.41-.59l7.78-7.78 2.81-2.81c.8-.78.8-2.07 0-2.86zM5.41 20L4 18.59l7.72-7.72 1.47 1.35L5.41 20z\"/>\n",
              "  </svg>\n",
              "      </button>\n",
              "      \n",
              "  <style>\n",
              "    .colab-df-container {\n",
              "      display:flex;\n",
              "      flex-wrap:wrap;\n",
              "      gap: 12px;\n",
              "    }\n",
              "\n",
              "    .colab-df-convert {\n",
              "      background-color: #E8F0FE;\n",
              "      border: none;\n",
              "      border-radius: 50%;\n",
              "      cursor: pointer;\n",
              "      display: none;\n",
              "      fill: #1967D2;\n",
              "      height: 32px;\n",
              "      padding: 0 0 0 0;\n",
              "      width: 32px;\n",
              "    }\n",
              "\n",
              "    .colab-df-convert:hover {\n",
              "      background-color: #E2EBFA;\n",
              "      box-shadow: 0px 1px 2px rgba(60, 64, 67, 0.3), 0px 1px 3px 1px rgba(60, 64, 67, 0.15);\n",
              "      fill: #174EA6;\n",
              "    }\n",
              "\n",
              "    [theme=dark] .colab-df-convert {\n",
              "      background-color: #3B4455;\n",
              "      fill: #D2E3FC;\n",
              "    }\n",
              "\n",
              "    [theme=dark] .colab-df-convert:hover {\n",
              "      background-color: #434B5C;\n",
              "      box-shadow: 0px 1px 3px 1px rgba(0, 0, 0, 0.15);\n",
              "      filter: drop-shadow(0px 1px 2px rgba(0, 0, 0, 0.3));\n",
              "      fill: #FFFFFF;\n",
              "    }\n",
              "  </style>\n",
              "\n",
              "      <script>\n",
              "        const buttonEl =\n",
              "          document.querySelector('#df-0de11cb9-445d-439d-89e9-e3d883814da0 button.colab-df-convert');\n",
              "        buttonEl.style.display =\n",
              "          google.colab.kernel.accessAllowed ? 'block' : 'none';\n",
              "\n",
              "        async function convertToInteractive(key) {\n",
              "          const element = document.querySelector('#df-0de11cb9-445d-439d-89e9-e3d883814da0');\n",
              "          const dataTable =\n",
              "            await google.colab.kernel.invokeFunction('convertToInteractive',\n",
              "                                                     [key], {});\n",
              "          if (!dataTable) return;\n",
              "\n",
              "          const docLinkHtml = 'Like what you see? Visit the ' +\n",
              "            '<a target=\"_blank\" href=https://colab.research.google.com/notebooks/data_table.ipynb>data table notebook</a>'\n",
              "            + ' to learn more about interactive tables.';\n",
              "          element.innerHTML = '';\n",
              "          dataTable['output_type'] = 'display_data';\n",
              "          await google.colab.output.renderOutput(dataTable, element);\n",
              "          const docLink = document.createElement('div');\n",
              "          docLink.innerHTML = docLinkHtml;\n",
              "          element.appendChild(docLink);\n",
              "        }\n",
              "      </script>\n",
              "    </div>\n",
              "  </div>\n",
              "  "
            ],
            "text/plain": [
              "  Country or region  GDP per capita  ...          sub-region  Terrorist_attacks\n",
              "0      Saudi Arabia           1.403  ...        Western Asia         173.000000\n",
              "1           Georgia           0.886  ...        Western Asia          18.000000\n",
              "2            Guinea           0.380  ...  Sub-Saharan Africa           3.000000\n",
              "3         Lithuania           1.238  ...     Northern Europe         125.611111\n",
              "4       Netherlands           1.396  ...      Western Europe           1.000000\n",
              "\n",
              "[5 rows x 11 columns]"
            ]
          },
          "metadata": {},
          "execution_count": 3
        }
      ]
    },
    {
      "cell_type": "markdown",
      "metadata": {
        "id": "gEzPoXPj3V7u"
      },
      "source": [
        "##2.   Preprocess data using Sklearn Column Transformer/ Write and Save Preprocessor function\n"
      ]
    },
    {
      "cell_type": "code",
      "metadata": {
        "id": "16QV9Y9TC3B3"
      },
      "source": [
        "from sklearn.preprocessing import StandardScaler, OneHotEncoder\n",
        "from sklearn.compose import ColumnTransformer, make_column_transformer\n",
        "from sklearn.pipeline import Pipeline\n",
        "from sklearn.impute import SimpleImputer\n",
        "from sklearn.preprocessing import StandardScaler, OneHotEncoder\n",
        "\n",
        "# We create the preprocessing pipelines for both numeric and categorical data.\n",
        "\n",
        "numeric_features = X_train.drop(['Country or region', 'name', 'region', 'sub-region'], axis=1)\n",
        "numeric_features=numeric_features.columns.tolist()\n",
        "\n",
        "numeric_transformer = Pipeline(steps=[\n",
        "    ('imputer', SimpleImputer(strategy='median')),\n",
        "    ('scaler', StandardScaler())])\n",
        "\n",
        "categorical_features = ['region', 'sub-region']\n",
        "\n",
        "#Replacing missing values with Modal value and then one hot encoding.\n",
        "categorical_transformer = Pipeline(steps=[\n",
        "    ('imputer', SimpleImputer(strategy='most_frequent')),\n",
        "    ('onehot', OneHotEncoder(handle_unknown='ignore'))])\n",
        "\n",
        "# final preprocessor object set up with ColumnTransformer\n",
        "preprocessor = ColumnTransformer(\n",
        "    transformers=[\n",
        "        ('num', numeric_transformer, numeric_features),\n",
        "        ('cat', categorical_transformer, categorical_features)])\n",
        "\n",
        "#Fit your preprocessor object\n",
        "preprocess=preprocessor.fit(X_train) "
      ],
      "execution_count": 4,
      "outputs": []
    },
    {
      "cell_type": "code",
      "source": [
        "# Write function to transform data with preprocessor\n",
        "\n",
        "def preprocessor(data):\n",
        "    data.drop(['Country or region', 'name'], axis=1)\n",
        "    preprocessed_data=preprocess.transform(data)\n",
        "    return preprocessed_data"
      ],
      "metadata": {
        "id": "S_PaNOG0SUIk"
      },
      "execution_count": 5,
      "outputs": []
    },
    {
      "cell_type": "code",
      "source": [
        "# check shape of X data after preprocessing it using our new function\n",
        "preprocessor(X_train).shape"
      ],
      "metadata": {
        "colab": {
          "base_uri": "https://localhost:8080/"
        },
        "id": "a1IPy9xvSWBp",
        "outputId": "bcd82018-1992-4457-d559-f67a012f1f6e"
      },
      "execution_count": 6,
      "outputs": [
        {
          "output_type": "execute_result",
          "data": {
            "text/plain": [
              "(104, 26)"
            ]
          },
          "metadata": {},
          "execution_count": 6
        }
      ]
    },
    {
      "cell_type": "markdown",
      "metadata": {
        "id": "X52kECL43b-O"
      },
      "source": [
        "##3. Fit model on preprocessed data and save preprocessor function and model \n"
      ]
    },
    {
      "cell_type": "code",
      "metadata": {
        "colab": {
          "base_uri": "https://localhost:8080/"
        },
        "id": "NCbBf8j9ClYl",
        "outputId": "3875e2ba-04ad-478d-cfc7-f8b4af3f54d8"
      },
      "source": [
        "from sklearn.ensemble import RandomForestClassifier\n",
        "\n",
        "model = RandomForestClassifier(n_estimators=300, max_depth=3)\n",
        "model.fit(preprocessor(X_train), y_train_labels) # Fitting to the training set.\n",
        "model.score(preprocessor(X_train), y_train_labels) # Fit score, 0-1 scale."
      ],
      "execution_count": 7,
      "outputs": [
        {
          "output_type": "execute_result",
          "data": {
            "text/plain": [
              "0.8461538461538461"
            ]
          },
          "metadata": {},
          "execution_count": 7
        }
      ]
    },
    {
      "cell_type": "markdown",
      "metadata": {
        "id": "zmJAnmO-5AcU"
      },
      "source": [
        "#### Save preprocessor function to local \"preprocessor.zip\" file"
      ]
    },
    {
      "cell_type": "code",
      "metadata": {
        "colab": {
          "base_uri": "https://localhost:8080/"
        },
        "id": "4VGacc0LDaMA",
        "outputId": "c2b85493-b51a-4503-c744-185b92eba845"
      },
      "source": [
        "import aimodelshare as ai\n",
        "ai.export_preprocessor(preprocessor,\"\") "
      ],
      "execution_count": 8,
      "outputs": [
        {
          "output_type": "stream",
          "name": "stdout",
          "text": [
            "Your preprocessor is now saved to 'preprocessor.zip'\n"
          ]
        }
      ]
    },
    {
      "cell_type": "markdown",
      "metadata": {
        "id": "oOWBa8Cv5LdL"
      },
      "source": [
        "#### Save model to local \".onnx\" file"
      ]
    },
    {
      "cell_type": "code",
      "metadata": {
        "id": "pEhvnRiQDlY5"
      },
      "source": [
        "# Save sklearn model to local ONNX file\n",
        "from aimodelshare.aimsonnx import model_to_onnx\n",
        "\n",
        "# Check how many preprocessed input features are there?\n",
        "from skl2onnx.common.data_types import FloatTensorType\n",
        "\n",
        "feature_count=preprocessor(X_test).shape[1] #Get count of preprocessed features\n",
        "initial_type = [('float_input', FloatTensorType([None, feature_count]))]  #Insert correct number of preprocessed features\n",
        "\n",
        "onnx_model = model_to_onnx(model, framework='sklearn',\n",
        "                          initial_types=initial_type,\n",
        "                          transfer_learning=False,\n",
        "                          deep_learning=False)\n",
        "\n",
        "with open(\"model.onnx\", \"wb\") as f:\n",
        "    f.write(onnx_model.SerializeToString())"
      ],
      "execution_count": 9,
      "outputs": []
    },
    {
      "cell_type": "markdown",
      "metadata": {
        "id": "gHWkAzvX3m8O"
      },
      "source": [
        "## 4. Generate predictions from X_test data and submit model to competition\n"
      ]
    },
    {
      "cell_type": "code",
      "metadata": {
        "colab": {
          "base_uri": "https://localhost:8080/"
        },
        "id": "RtgkM02MDpkO",
        "outputId": "c55442fd-0db6-412c-ea5e-cd473a7db9e8"
      },
      "source": [
        "#Set credentials using modelshare.org username/password\n",
        "\n",
        "from aimodelshare.aws import set_credentials\n",
        "\n",
        "#This is the unique rest api that powers this World Happiness Classification Playground -- make sure to update the apiurl for new competition deployments\n",
        "apiurl=\"https://c3maq947kb.execute-api.us-east-1.amazonaws.com/prod/m\"\n",
        "\n",
        "set_credentials(apiurl=apiurl)"
      ],
      "execution_count": 10,
      "outputs": [
        {
          "output_type": "stream",
          "name": "stdout",
          "text": [
            "AI Modelshare Username:··········\n",
            "AI Modelshare Password:··········\n",
            "AI Model Share login credentials set successfully.\n"
          ]
        }
      ]
    },
    {
      "cell_type": "code",
      "metadata": {
        "id": "fKNGSww8EGgi"
      },
      "source": [
        "#Instantiate Competition\n",
        "import aimodelshare as ai\n",
        "mycompetition= ai.Competition(apiurl)"
      ],
      "execution_count": 11,
      "outputs": []
    },
    {
      "cell_type": "code",
      "metadata": {
        "id": "_Ql4wksyEUnP",
        "colab": {
          "base_uri": "https://localhost:8080/"
        },
        "outputId": "be7f4602-dda4-4326-fd2d-375f7509f37f"
      },
      "source": [
        "#Submit Model 1: \n",
        "\n",
        "#-- Generate predicted values (Model 1)\n",
        "prediction_labels = model.predict(preprocessor(X_test))\n",
        "\n",
        "# Submit Model 1 to Competition Leaderboard\n",
        "mycompetition.submit_model(model_filepath = \"model.onnx\",\n",
        "                                 preprocessor_filepath=\"preprocessor.zip\",\n",
        "                                 prediction_submission=prediction_labels)"
      ],
      "execution_count": 12,
      "outputs": [
        {
          "output_type": "stream",
          "name": "stdout",
          "text": [
            "Insert search tags to help users find your model (optional): \n",
            "Provide any useful notes about your model (optional): \n",
            "\n",
            "Your model has been submitted as model version 2\n",
            "\n",
            "To submit code used to create this model or to view current leaderboard navigate to Model Playground: \n",
            "\n",
            " https://www.modelshare.org/detail/model:1289\n"
          ]
        }
      ]
    },
    {
      "cell_type": "code",
      "metadata": {
        "colab": {
          "base_uri": "https://localhost:8080/",
          "height": 169
        },
        "id": "GN1zvAmNEq17",
        "outputId": "dd0c7bb4-747f-4d1b-8bf7-bd579d0f6aed"
      },
      "source": [
        "# Get leaderboard to explore current best model architectures\n",
        "\n",
        "# Get raw data in pandas data frame\n",
        "data = mycompetition.get_leaderboard()\n",
        "\n",
        "# Stylize leaderboard data\n",
        "mycompetition.stylize_leaderboard(data)"
      ],
      "execution_count": 13,
      "outputs": [
        {
          "output_type": "execute_result",
          "data": {
            "text/html": [
              "<style  type=\"text/css\" >\n",
              "#T_b2c65d9e_7ed7_11ec_8c3a_0242ac1c0002row0_col0{\n",
              "            text-align:  center;\n",
              "            width:  10em;\n",
              "             height:  80%;\n",
              "            background:  linear-gradient(90deg,#f5f8d6 44.2%, transparent 44.2%);\n",
              "            color:  #251e1b;\n",
              "            font-size:  12px;\n",
              "        }#T_b2c65d9e_7ed7_11ec_8c3a_0242ac1c0002row0_col1{\n",
              "            text-align:  center;\n",
              "            width:  10em;\n",
              "             height:  80%;\n",
              "            background:  linear-gradient(90deg,#c778c8 43.3%, transparent 43.3%);\n",
              "            color:  #251e1b;\n",
              "            font-size:  12px;\n",
              "        }#T_b2c65d9e_7ed7_11ec_8c3a_0242ac1c0002row0_col2{\n",
              "            text-align:  center;\n",
              "            width:  10em;\n",
              "             height:  80%;\n",
              "            background:  linear-gradient(90deg,#ff4971 49.8%, transparent 49.8%);\n",
              "            color:  #251e1b;\n",
              "            font-size:  12px;\n",
              "        }#T_b2c65d9e_7ed7_11ec_8c3a_0242ac1c0002row0_col3{\n",
              "            text-align:  center;\n",
              "            width:  10em;\n",
              "             height:  80%;\n",
              "            background:  linear-gradient(90deg,#aadbaa 46.3%, transparent 46.3%);\n",
              "            color:  #251e1b;\n",
              "            font-size:  12px;\n",
              "        }#T_b2c65d9e_7ed7_11ec_8c3a_0242ac1c0002row0_col4,#T_b2c65d9e_7ed7_11ec_8c3a_0242ac1c0002row0_col5,#T_b2c65d9e_7ed7_11ec_8c3a_0242ac1c0002row0_col6,#T_b2c65d9e_7ed7_11ec_8c3a_0242ac1c0002row0_col7,#T_b2c65d9e_7ed7_11ec_8c3a_0242ac1c0002row0_col8,#T_b2c65d9e_7ed7_11ec_8c3a_0242ac1c0002row0_col9,#T_b2c65d9e_7ed7_11ec_8c3a_0242ac1c0002row0_col10,#T_b2c65d9e_7ed7_11ec_8c3a_0242ac1c0002row0_col11,#T_b2c65d9e_7ed7_11ec_8c3a_0242ac1c0002row0_col12,#T_b2c65d9e_7ed7_11ec_8c3a_0242ac1c0002row0_col13,#T_b2c65d9e_7ed7_11ec_8c3a_0242ac1c0002row0_col14,#T_b2c65d9e_7ed7_11ec_8c3a_0242ac1c0002row0_col15,#T_b2c65d9e_7ed7_11ec_8c3a_0242ac1c0002row0_col16,#T_b2c65d9e_7ed7_11ec_8c3a_0242ac1c0002row0_col17,#T_b2c65d9e_7ed7_11ec_8c3a_0242ac1c0002row0_col18,#T_b2c65d9e_7ed7_11ec_8c3a_0242ac1c0002row1_col4,#T_b2c65d9e_7ed7_11ec_8c3a_0242ac1c0002row1_col5,#T_b2c65d9e_7ed7_11ec_8c3a_0242ac1c0002row1_col6,#T_b2c65d9e_7ed7_11ec_8c3a_0242ac1c0002row1_col7,#T_b2c65d9e_7ed7_11ec_8c3a_0242ac1c0002row1_col8,#T_b2c65d9e_7ed7_11ec_8c3a_0242ac1c0002row1_col9,#T_b2c65d9e_7ed7_11ec_8c3a_0242ac1c0002row1_col10,#T_b2c65d9e_7ed7_11ec_8c3a_0242ac1c0002row1_col11,#T_b2c65d9e_7ed7_11ec_8c3a_0242ac1c0002row1_col12,#T_b2c65d9e_7ed7_11ec_8c3a_0242ac1c0002row1_col13,#T_b2c65d9e_7ed7_11ec_8c3a_0242ac1c0002row1_col14,#T_b2c65d9e_7ed7_11ec_8c3a_0242ac1c0002row1_col15,#T_b2c65d9e_7ed7_11ec_8c3a_0242ac1c0002row1_col16,#T_b2c65d9e_7ed7_11ec_8c3a_0242ac1c0002row1_col17,#T_b2c65d9e_7ed7_11ec_8c3a_0242ac1c0002row1_col18{\n",
              "            text-align:  center;\n",
              "        }#T_b2c65d9e_7ed7_11ec_8c3a_0242ac1c0002row1_col0{\n",
              "            text-align:  center;\n",
              "            width:  10em;\n",
              "             height:  80%;\n",
              "            background:  linear-gradient(90deg,#f5f8d6 46.2%, transparent 46.2%);\n",
              "            color:  #251e1b;\n",
              "            font-size:  12px;\n",
              "        }#T_b2c65d9e_7ed7_11ec_8c3a_0242ac1c0002row1_col1{\n",
              "            text-align:  center;\n",
              "            width:  10em;\n",
              "             height:  80%;\n",
              "            background:  linear-gradient(90deg,#c778c8 45.0%, transparent 45.0%);\n",
              "            color:  #251e1b;\n",
              "            font-size:  12px;\n",
              "        }#T_b2c65d9e_7ed7_11ec_8c3a_0242ac1c0002row1_col2{\n",
              "            text-align:  center;\n",
              "            width:  10em;\n",
              "             height:  80%;\n",
              "            background:  linear-gradient(90deg,#ff4971 49.4%, transparent 49.4%);\n",
              "            color:  #251e1b;\n",
              "            font-size:  12px;\n",
              "        }#T_b2c65d9e_7ed7_11ec_8c3a_0242ac1c0002row1_col3{\n",
              "            text-align:  center;\n",
              "            width:  10em;\n",
              "             height:  80%;\n",
              "            background:  linear-gradient(90deg,#aadbaa 45.8%, transparent 45.8%);\n",
              "            color:  #251e1b;\n",
              "            font-size:  12px;\n",
              "        }</style><table id=\"T_b2c65d9e_7ed7_11ec_8c3a_0242ac1c0002\" class=\"dataframe\"><thead>    <tr>        <th class=\"blank level0\" ></th>        <th class=\"col_heading level0 col0\" >accuracy</th>        <th class=\"col_heading level0 col1\" >f1_score</th>        <th class=\"col_heading level0 col2\" >precision</th>        <th class=\"col_heading level0 col3\" >recall</th>        <th class=\"col_heading level0 col4\" >ml_framework</th>        <th class=\"col_heading level0 col5\" >transfer_learning</th>        <th class=\"col_heading level0 col6\" >deep_learning</th>        <th class=\"col_heading level0 col7\" >model_type</th>        <th class=\"col_heading level0 col8\" >depth</th>        <th class=\"col_heading level0 col9\" >num_params</th>        <th class=\"col_heading level0 col10\" >dense_layers</th>        <th class=\"col_heading level0 col11\" >softmax_act</th>        <th class=\"col_heading level0 col12\" >relu_act</th>        <th class=\"col_heading level0 col13\" >loss</th>        <th class=\"col_heading level0 col14\" >optimizer</th>        <th class=\"col_heading level0 col15\" >model_config</th>        <th class=\"col_heading level0 col16\" >memory_size</th>        <th class=\"col_heading level0 col17\" >username</th>        <th class=\"col_heading level0 col18\" >version</th>    </tr></thead><tbody>\n",
              "                <tr>\n",
              "                        <th id=\"T_b2c65d9e_7ed7_11ec_8c3a_0242ac1c0002level0_row0\" class=\"row_heading level0 row0\" >1</th>\n",
              "                        <td id=\"T_b2c65d9e_7ed7_11ec_8c3a_0242ac1c0002row0_col0\" class=\"data row0 col0\" >44.23%</td>\n",
              "                        <td id=\"T_b2c65d9e_7ed7_11ec_8c3a_0242ac1c0002row0_col1\" class=\"data row0 col1\" >43.28%</td>\n",
              "                        <td id=\"T_b2c65d9e_7ed7_11ec_8c3a_0242ac1c0002row0_col2\" class=\"data row0 col2\" >49.76%</td>\n",
              "                        <td id=\"T_b2c65d9e_7ed7_11ec_8c3a_0242ac1c0002row0_col3\" class=\"data row0 col3\" >46.33%</td>\n",
              "                        <td id=\"T_b2c65d9e_7ed7_11ec_8c3a_0242ac1c0002row0_col4\" class=\"data row0 col4\" >sklearn</td>\n",
              "                        <td id=\"T_b2c65d9e_7ed7_11ec_8c3a_0242ac1c0002row0_col5\" class=\"data row0 col5\" >False</td>\n",
              "                        <td id=\"T_b2c65d9e_7ed7_11ec_8c3a_0242ac1c0002row0_col6\" class=\"data row0 col6\" >False</td>\n",
              "                        <td id=\"T_b2c65d9e_7ed7_11ec_8c3a_0242ac1c0002row0_col7\" class=\"data row0 col7\" >RandomForestClassifier</td>\n",
              "                        <td id=\"T_b2c65d9e_7ed7_11ec_8c3a_0242ac1c0002row0_col8\" class=\"data row0 col8\" >nan</td>\n",
              "                        <td id=\"T_b2c65d9e_7ed7_11ec_8c3a_0242ac1c0002row0_col9\" class=\"data row0 col9\" >nan</td>\n",
              "                        <td id=\"T_b2c65d9e_7ed7_11ec_8c3a_0242ac1c0002row0_col10\" class=\"data row0 col10\" >nan</td>\n",
              "                        <td id=\"T_b2c65d9e_7ed7_11ec_8c3a_0242ac1c0002row0_col11\" class=\"data row0 col11\" >nan</td>\n",
              "                        <td id=\"T_b2c65d9e_7ed7_11ec_8c3a_0242ac1c0002row0_col12\" class=\"data row0 col12\" >nan</td>\n",
              "                        <td id=\"T_b2c65d9e_7ed7_11ec_8c3a_0242ac1c0002row0_col13\" class=\"data row0 col13\" >nan</td>\n",
              "                        <td id=\"T_b2c65d9e_7ed7_11ec_8c3a_0242ac1c0002row0_col14\" class=\"data row0 col14\" >nan</td>\n",
              "                        <td id=\"T_b2c65d9e_7ed7_11ec_8c3a_0242ac1c0002row0_col15\" class=\"data row0 col15\" >{'bootstrap': True, 'ccp_alpha...</td>\n",
              "                        <td id=\"T_b2c65d9e_7ed7_11ec_8c3a_0242ac1c0002row0_col16\" class=\"data row0 col16\" >nan</td>\n",
              "                        <td id=\"T_b2c65d9e_7ed7_11ec_8c3a_0242ac1c0002row0_col17\" class=\"data row0 col17\" >AdvProjectsinML</td>\n",
              "                        <td id=\"T_b2c65d9e_7ed7_11ec_8c3a_0242ac1c0002row0_col18\" class=\"data row0 col18\" >2</td>\n",
              "            </tr>\n",
              "            <tr>\n",
              "                        <th id=\"T_b2c65d9e_7ed7_11ec_8c3a_0242ac1c0002level0_row1\" class=\"row_heading level0 row1\" >2</th>\n",
              "                        <td id=\"T_b2c65d9e_7ed7_11ec_8c3a_0242ac1c0002row1_col0\" class=\"data row1 col0\" >46.15%</td>\n",
              "                        <td id=\"T_b2c65d9e_7ed7_11ec_8c3a_0242ac1c0002row1_col1\" class=\"data row1 col1\" >45.04%</td>\n",
              "                        <td id=\"T_b2c65d9e_7ed7_11ec_8c3a_0242ac1c0002row1_col2\" class=\"data row1 col2\" >49.44%</td>\n",
              "                        <td id=\"T_b2c65d9e_7ed7_11ec_8c3a_0242ac1c0002row1_col3\" class=\"data row1 col3\" >45.85%</td>\n",
              "                        <td id=\"T_b2c65d9e_7ed7_11ec_8c3a_0242ac1c0002row1_col4\" class=\"data row1 col4\" >keras</td>\n",
              "                        <td id=\"T_b2c65d9e_7ed7_11ec_8c3a_0242ac1c0002row1_col5\" class=\"data row1 col5\" >False</td>\n",
              "                        <td id=\"T_b2c65d9e_7ed7_11ec_8c3a_0242ac1c0002row1_col6\" class=\"data row1 col6\" >True</td>\n",
              "                        <td id=\"T_b2c65d9e_7ed7_11ec_8c3a_0242ac1c0002row1_col7\" class=\"data row1 col7\" >Sequential</td>\n",
              "                        <td id=\"T_b2c65d9e_7ed7_11ec_8c3a_0242ac1c0002row1_col8\" class=\"data row1 col8\" >4.000000</td>\n",
              "                        <td id=\"T_b2c65d9e_7ed7_11ec_8c3a_0242ac1c0002row1_col9\" class=\"data row1 col9\" >10373.000000</td>\n",
              "                        <td id=\"T_b2c65d9e_7ed7_11ec_8c3a_0242ac1c0002row1_col10\" class=\"data row1 col10\" >4.000000</td>\n",
              "                        <td id=\"T_b2c65d9e_7ed7_11ec_8c3a_0242ac1c0002row1_col11\" class=\"data row1 col11\" >1.000000</td>\n",
              "                        <td id=\"T_b2c65d9e_7ed7_11ec_8c3a_0242ac1c0002row1_col12\" class=\"data row1 col12\" >3.000000</td>\n",
              "                        <td id=\"T_b2c65d9e_7ed7_11ec_8c3a_0242ac1c0002row1_col13\" class=\"data row1 col13\" >str</td>\n",
              "                        <td id=\"T_b2c65d9e_7ed7_11ec_8c3a_0242ac1c0002row1_col14\" class=\"data row1 col14\" >SGD</td>\n",
              "                        <td id=\"T_b2c65d9e_7ed7_11ec_8c3a_0242ac1c0002row1_col15\" class=\"data row1 col15\" >{'name': 'sequential', 'layers...</td>\n",
              "                        <td id=\"T_b2c65d9e_7ed7_11ec_8c3a_0242ac1c0002row1_col16\" class=\"data row1 col16\" >1369568.000000</td>\n",
              "                        <td id=\"T_b2c65d9e_7ed7_11ec_8c3a_0242ac1c0002row1_col17\" class=\"data row1 col17\" >AdvProjectsinML</td>\n",
              "                        <td id=\"T_b2c65d9e_7ed7_11ec_8c3a_0242ac1c0002row1_col18\" class=\"data row1 col18\" >1</td>\n",
              "            </tr>\n",
              "    </tbody></table>"
            ],
            "text/plain": [
              "<pandas.io.formats.style.Styler at 0x7f88122ada90>"
            ]
          },
          "metadata": {},
          "execution_count": 13
        }
      ]
    },
    {
      "cell_type": "markdown",
      "metadata": {
        "id": "bwNKs0wP4r5s"
      },
      "source": [
        "## 5. Repeat submission process to improve place on leaderboard\n"
      ]
    },
    {
      "cell_type": "code",
      "metadata": {
        "colab": {
          "base_uri": "https://localhost:8080/"
        },
        "id": "FgSs5PAtPCZH",
        "outputId": "5f03a32f-223c-4fb6-fd7b-347fa4751d9b"
      },
      "source": [
        "# Train and submit model 2 using same preprocessor (note that you could save a new preprocessor, but we will use the same one for this example).\n",
        "from sklearn.ensemble import RandomForestClassifier\n",
        "\n",
        "model_2 = RandomForestClassifier(n_estimators=100, max_depth=5)\n",
        "model_2.fit(preprocessor(X_train), y_train_labels) # Fitting to the training set.\n",
        "model_2.score(preprocessor(X_train), y_train_labels) # Fit score, 0-1 scale."
      ],
      "execution_count": 14,
      "outputs": [
        {
          "output_type": "execute_result",
          "data": {
            "text/plain": [
              "0.9615384615384616"
            ]
          },
          "metadata": {},
          "execution_count": 14
        }
      ]
    },
    {
      "cell_type": "code",
      "metadata": {
        "id": "aIdmSpYVPYAw"
      },
      "source": [
        "# Save sklearn model to local ONNX file\n",
        "from aimodelshare.aimsonnx import model_to_onnx\n",
        "\n",
        "feature_count=preprocessor(X_test).shape[1] #Get count of preprocessed features\n",
        "initial_type = [('float_input', FloatTensorType([None, feature_count]))]  # Insert correct number of preprocessed features\n",
        "\n",
        "onnx_model = model_to_onnx(model_2, framework='sklearn',\n",
        "                          initial_types=initial_type,\n",
        "                          transfer_learning=False,\n",
        "                          deep_learning=False)\n",
        "\n",
        "with open(\"model2.onnx\", \"wb\") as f:\n",
        "    f.write(onnx_model.SerializeToString())"
      ],
      "execution_count": 15,
      "outputs": []
    },
    {
      "cell_type": "code",
      "metadata": {
        "colab": {
          "base_uri": "https://localhost:8080/"
        },
        "id": "nszPPrfwPlUk",
        "outputId": "4051c60d-226f-4d85-cd82-17488c5dd4bb"
      },
      "source": [
        "#Submit Model 2: \n",
        "\n",
        "#-- Generate predicted y values (Model 2)\n",
        "prediction_labels = model_2.predict(preprocessor(X_test))\n",
        "\n",
        "# Submit Model 2 to Competition Leaderboard\n",
        "mycompetition.submit_model(model_filepath = \"model2.onnx\",\n",
        "                                 prediction_submission=prediction_labels,\n",
        "                                 preprocessor_filepath=\"preprocessor.zip\")"
      ],
      "execution_count": 16,
      "outputs": [
        {
          "output_type": "stream",
          "name": "stdout",
          "text": [
            "Insert search tags to help users find your model (optional): \n",
            "Provide any useful notes about your model (optional): \n",
            "\n",
            "Your model has been submitted as model version 3\n",
            "\n",
            "To submit code used to create this model or to view current leaderboard navigate to Model Playground: \n",
            "\n",
            " https://www.modelshare.org/detail/model:1289\n"
          ]
        }
      ]
    },
    {
      "cell_type": "code",
      "metadata": {
        "colab": {
          "base_uri": "https://localhost:8080/",
          "height": 438
        },
        "id": "qLl7yLpVEx26",
        "outputId": "03b9b359-0aca-4efb-b01d-c9a9103ba632"
      },
      "source": [
        "# Compare two or more models\n",
        "data=mycompetition.compare_models([2,3], verbose=1)\n",
        "mycompetition.stylize_compare(data)"
      ],
      "execution_count": 17,
      "outputs": [
        {
          "output_type": "display_data",
          "data": {
            "text/html": [
              "<style  type=\"text/css\" >\n",
              "    #T_c38f1530_7ed7_11ec_8c3a_0242ac1c0002 caption {\n",
              "          color: black;\n",
              "          font-size: 18px;\n",
              "    }#T_c38f1530_7ed7_11ec_8c3a_0242ac1c0002row4_col2,#T_c38f1530_7ed7_11ec_8c3a_0242ac1c0002row4_col3,#T_c38f1530_7ed7_11ec_8c3a_0242ac1c0002row13_col2{\n",
              "            background:  tomato;\n",
              "        }</style><table id=\"T_c38f1530_7ed7_11ec_8c3a_0242ac1c0002\" ><caption>Model type: RandomForestClassifier</caption><thead>    <tr>        <th class=\"blank level0\" ></th>        <th class=\"col_heading level0 col0\" >param_name</th>        <th class=\"col_heading level0 col1\" >default_value</th>        <th class=\"col_heading level0 col2\" >model_version_2</th>        <th class=\"col_heading level0 col3\" >model_version_3</th>    </tr></thead><tbody>\n",
              "                <tr>\n",
              "                        <th id=\"T_c38f1530_7ed7_11ec_8c3a_0242ac1c0002level0_row0\" class=\"row_heading level0 row0\" >0</th>\n",
              "                        <td id=\"T_c38f1530_7ed7_11ec_8c3a_0242ac1c0002row0_col0\" class=\"data row0 col0\" >bootstrap</td>\n",
              "                        <td id=\"T_c38f1530_7ed7_11ec_8c3a_0242ac1c0002row0_col1\" class=\"data row0 col1\" >True</td>\n",
              "                        <td id=\"T_c38f1530_7ed7_11ec_8c3a_0242ac1c0002row0_col2\" class=\"data row0 col2\" >True</td>\n",
              "                        <td id=\"T_c38f1530_7ed7_11ec_8c3a_0242ac1c0002row0_col3\" class=\"data row0 col3\" >True</td>\n",
              "            </tr>\n",
              "            <tr>\n",
              "                        <th id=\"T_c38f1530_7ed7_11ec_8c3a_0242ac1c0002level0_row1\" class=\"row_heading level0 row1\" >1</th>\n",
              "                        <td id=\"T_c38f1530_7ed7_11ec_8c3a_0242ac1c0002row1_col0\" class=\"data row1 col0\" >ccp_alpha</td>\n",
              "                        <td id=\"T_c38f1530_7ed7_11ec_8c3a_0242ac1c0002row1_col1\" class=\"data row1 col1\" >0.000000</td>\n",
              "                        <td id=\"T_c38f1530_7ed7_11ec_8c3a_0242ac1c0002row1_col2\" class=\"data row1 col2\" >0.000000</td>\n",
              "                        <td id=\"T_c38f1530_7ed7_11ec_8c3a_0242ac1c0002row1_col3\" class=\"data row1 col3\" >0.000000</td>\n",
              "            </tr>\n",
              "            <tr>\n",
              "                        <th id=\"T_c38f1530_7ed7_11ec_8c3a_0242ac1c0002level0_row2\" class=\"row_heading level0 row2\" >2</th>\n",
              "                        <td id=\"T_c38f1530_7ed7_11ec_8c3a_0242ac1c0002row2_col0\" class=\"data row2 col0\" >class_weight</td>\n",
              "                        <td id=\"T_c38f1530_7ed7_11ec_8c3a_0242ac1c0002row2_col1\" class=\"data row2 col1\" >None</td>\n",
              "                        <td id=\"T_c38f1530_7ed7_11ec_8c3a_0242ac1c0002row2_col2\" class=\"data row2 col2\" >None</td>\n",
              "                        <td id=\"T_c38f1530_7ed7_11ec_8c3a_0242ac1c0002row2_col3\" class=\"data row2 col3\" >None</td>\n",
              "            </tr>\n",
              "            <tr>\n",
              "                        <th id=\"T_c38f1530_7ed7_11ec_8c3a_0242ac1c0002level0_row3\" class=\"row_heading level0 row3\" >3</th>\n",
              "                        <td id=\"T_c38f1530_7ed7_11ec_8c3a_0242ac1c0002row3_col0\" class=\"data row3 col0\" >criterion</td>\n",
              "                        <td id=\"T_c38f1530_7ed7_11ec_8c3a_0242ac1c0002row3_col1\" class=\"data row3 col1\" >gini</td>\n",
              "                        <td id=\"T_c38f1530_7ed7_11ec_8c3a_0242ac1c0002row3_col2\" class=\"data row3 col2\" >gini</td>\n",
              "                        <td id=\"T_c38f1530_7ed7_11ec_8c3a_0242ac1c0002row3_col3\" class=\"data row3 col3\" >gini</td>\n",
              "            </tr>\n",
              "            <tr>\n",
              "                        <th id=\"T_c38f1530_7ed7_11ec_8c3a_0242ac1c0002level0_row4\" class=\"row_heading level0 row4\" >4</th>\n",
              "                        <td id=\"T_c38f1530_7ed7_11ec_8c3a_0242ac1c0002row4_col0\" class=\"data row4 col0\" >max_depth</td>\n",
              "                        <td id=\"T_c38f1530_7ed7_11ec_8c3a_0242ac1c0002row4_col1\" class=\"data row4 col1\" >None</td>\n",
              "                        <td id=\"T_c38f1530_7ed7_11ec_8c3a_0242ac1c0002row4_col2\" class=\"data row4 col2\" >3</td>\n",
              "                        <td id=\"T_c38f1530_7ed7_11ec_8c3a_0242ac1c0002row4_col3\" class=\"data row4 col3\" >5</td>\n",
              "            </tr>\n",
              "            <tr>\n",
              "                        <th id=\"T_c38f1530_7ed7_11ec_8c3a_0242ac1c0002level0_row5\" class=\"row_heading level0 row5\" >5</th>\n",
              "                        <td id=\"T_c38f1530_7ed7_11ec_8c3a_0242ac1c0002row5_col0\" class=\"data row5 col0\" >max_features</td>\n",
              "                        <td id=\"T_c38f1530_7ed7_11ec_8c3a_0242ac1c0002row5_col1\" class=\"data row5 col1\" >auto</td>\n",
              "                        <td id=\"T_c38f1530_7ed7_11ec_8c3a_0242ac1c0002row5_col2\" class=\"data row5 col2\" >auto</td>\n",
              "                        <td id=\"T_c38f1530_7ed7_11ec_8c3a_0242ac1c0002row5_col3\" class=\"data row5 col3\" >auto</td>\n",
              "            </tr>\n",
              "            <tr>\n",
              "                        <th id=\"T_c38f1530_7ed7_11ec_8c3a_0242ac1c0002level0_row6\" class=\"row_heading level0 row6\" >6</th>\n",
              "                        <td id=\"T_c38f1530_7ed7_11ec_8c3a_0242ac1c0002row6_col0\" class=\"data row6 col0\" >max_leaf_nodes</td>\n",
              "                        <td id=\"T_c38f1530_7ed7_11ec_8c3a_0242ac1c0002row6_col1\" class=\"data row6 col1\" >None</td>\n",
              "                        <td id=\"T_c38f1530_7ed7_11ec_8c3a_0242ac1c0002row6_col2\" class=\"data row6 col2\" >None</td>\n",
              "                        <td id=\"T_c38f1530_7ed7_11ec_8c3a_0242ac1c0002row6_col3\" class=\"data row6 col3\" >None</td>\n",
              "            </tr>\n",
              "            <tr>\n",
              "                        <th id=\"T_c38f1530_7ed7_11ec_8c3a_0242ac1c0002level0_row7\" class=\"row_heading level0 row7\" >7</th>\n",
              "                        <td id=\"T_c38f1530_7ed7_11ec_8c3a_0242ac1c0002row7_col0\" class=\"data row7 col0\" >max_samples</td>\n",
              "                        <td id=\"T_c38f1530_7ed7_11ec_8c3a_0242ac1c0002row7_col1\" class=\"data row7 col1\" >None</td>\n",
              "                        <td id=\"T_c38f1530_7ed7_11ec_8c3a_0242ac1c0002row7_col2\" class=\"data row7 col2\" >None</td>\n",
              "                        <td id=\"T_c38f1530_7ed7_11ec_8c3a_0242ac1c0002row7_col3\" class=\"data row7 col3\" >None</td>\n",
              "            </tr>\n",
              "            <tr>\n",
              "                        <th id=\"T_c38f1530_7ed7_11ec_8c3a_0242ac1c0002level0_row8\" class=\"row_heading level0 row8\" >8</th>\n",
              "                        <td id=\"T_c38f1530_7ed7_11ec_8c3a_0242ac1c0002row8_col0\" class=\"data row8 col0\" >min_impurity_decrease</td>\n",
              "                        <td id=\"T_c38f1530_7ed7_11ec_8c3a_0242ac1c0002row8_col1\" class=\"data row8 col1\" >0.000000</td>\n",
              "                        <td id=\"T_c38f1530_7ed7_11ec_8c3a_0242ac1c0002row8_col2\" class=\"data row8 col2\" >0.000000</td>\n",
              "                        <td id=\"T_c38f1530_7ed7_11ec_8c3a_0242ac1c0002row8_col3\" class=\"data row8 col3\" >0.000000</td>\n",
              "            </tr>\n",
              "            <tr>\n",
              "                        <th id=\"T_c38f1530_7ed7_11ec_8c3a_0242ac1c0002level0_row9\" class=\"row_heading level0 row9\" >9</th>\n",
              "                        <td id=\"T_c38f1530_7ed7_11ec_8c3a_0242ac1c0002row9_col0\" class=\"data row9 col0\" >min_impurity_split</td>\n",
              "                        <td id=\"T_c38f1530_7ed7_11ec_8c3a_0242ac1c0002row9_col1\" class=\"data row9 col1\" >None</td>\n",
              "                        <td id=\"T_c38f1530_7ed7_11ec_8c3a_0242ac1c0002row9_col2\" class=\"data row9 col2\" >None</td>\n",
              "                        <td id=\"T_c38f1530_7ed7_11ec_8c3a_0242ac1c0002row9_col3\" class=\"data row9 col3\" >None</td>\n",
              "            </tr>\n",
              "            <tr>\n",
              "                        <th id=\"T_c38f1530_7ed7_11ec_8c3a_0242ac1c0002level0_row10\" class=\"row_heading level0 row10\" >10</th>\n",
              "                        <td id=\"T_c38f1530_7ed7_11ec_8c3a_0242ac1c0002row10_col0\" class=\"data row10 col0\" >min_samples_leaf</td>\n",
              "                        <td id=\"T_c38f1530_7ed7_11ec_8c3a_0242ac1c0002row10_col1\" class=\"data row10 col1\" >1</td>\n",
              "                        <td id=\"T_c38f1530_7ed7_11ec_8c3a_0242ac1c0002row10_col2\" class=\"data row10 col2\" >1</td>\n",
              "                        <td id=\"T_c38f1530_7ed7_11ec_8c3a_0242ac1c0002row10_col3\" class=\"data row10 col3\" >1</td>\n",
              "            </tr>\n",
              "            <tr>\n",
              "                        <th id=\"T_c38f1530_7ed7_11ec_8c3a_0242ac1c0002level0_row11\" class=\"row_heading level0 row11\" >11</th>\n",
              "                        <td id=\"T_c38f1530_7ed7_11ec_8c3a_0242ac1c0002row11_col0\" class=\"data row11 col0\" >min_samples_split</td>\n",
              "                        <td id=\"T_c38f1530_7ed7_11ec_8c3a_0242ac1c0002row11_col1\" class=\"data row11 col1\" >2</td>\n",
              "                        <td id=\"T_c38f1530_7ed7_11ec_8c3a_0242ac1c0002row11_col2\" class=\"data row11 col2\" >2</td>\n",
              "                        <td id=\"T_c38f1530_7ed7_11ec_8c3a_0242ac1c0002row11_col3\" class=\"data row11 col3\" >2</td>\n",
              "            </tr>\n",
              "            <tr>\n",
              "                        <th id=\"T_c38f1530_7ed7_11ec_8c3a_0242ac1c0002level0_row12\" class=\"row_heading level0 row12\" >12</th>\n",
              "                        <td id=\"T_c38f1530_7ed7_11ec_8c3a_0242ac1c0002row12_col0\" class=\"data row12 col0\" >min_weight_fraction_leaf</td>\n",
              "                        <td id=\"T_c38f1530_7ed7_11ec_8c3a_0242ac1c0002row12_col1\" class=\"data row12 col1\" >0.000000</td>\n",
              "                        <td id=\"T_c38f1530_7ed7_11ec_8c3a_0242ac1c0002row12_col2\" class=\"data row12 col2\" >0.000000</td>\n",
              "                        <td id=\"T_c38f1530_7ed7_11ec_8c3a_0242ac1c0002row12_col3\" class=\"data row12 col3\" >0.000000</td>\n",
              "            </tr>\n",
              "            <tr>\n",
              "                        <th id=\"T_c38f1530_7ed7_11ec_8c3a_0242ac1c0002level0_row13\" class=\"row_heading level0 row13\" >13</th>\n",
              "                        <td id=\"T_c38f1530_7ed7_11ec_8c3a_0242ac1c0002row13_col0\" class=\"data row13 col0\" >n_estimators</td>\n",
              "                        <td id=\"T_c38f1530_7ed7_11ec_8c3a_0242ac1c0002row13_col1\" class=\"data row13 col1\" >100</td>\n",
              "                        <td id=\"T_c38f1530_7ed7_11ec_8c3a_0242ac1c0002row13_col2\" class=\"data row13 col2\" >300</td>\n",
              "                        <td id=\"T_c38f1530_7ed7_11ec_8c3a_0242ac1c0002row13_col3\" class=\"data row13 col3\" >100</td>\n",
              "            </tr>\n",
              "            <tr>\n",
              "                        <th id=\"T_c38f1530_7ed7_11ec_8c3a_0242ac1c0002level0_row14\" class=\"row_heading level0 row14\" >14</th>\n",
              "                        <td id=\"T_c38f1530_7ed7_11ec_8c3a_0242ac1c0002row14_col0\" class=\"data row14 col0\" >n_jobs</td>\n",
              "                        <td id=\"T_c38f1530_7ed7_11ec_8c3a_0242ac1c0002row14_col1\" class=\"data row14 col1\" >None</td>\n",
              "                        <td id=\"T_c38f1530_7ed7_11ec_8c3a_0242ac1c0002row14_col2\" class=\"data row14 col2\" >None</td>\n",
              "                        <td id=\"T_c38f1530_7ed7_11ec_8c3a_0242ac1c0002row14_col3\" class=\"data row14 col3\" >None</td>\n",
              "            </tr>\n",
              "            <tr>\n",
              "                        <th id=\"T_c38f1530_7ed7_11ec_8c3a_0242ac1c0002level0_row15\" class=\"row_heading level0 row15\" >15</th>\n",
              "                        <td id=\"T_c38f1530_7ed7_11ec_8c3a_0242ac1c0002row15_col0\" class=\"data row15 col0\" >oob_score</td>\n",
              "                        <td id=\"T_c38f1530_7ed7_11ec_8c3a_0242ac1c0002row15_col1\" class=\"data row15 col1\" >False</td>\n",
              "                        <td id=\"T_c38f1530_7ed7_11ec_8c3a_0242ac1c0002row15_col2\" class=\"data row15 col2\" >False</td>\n",
              "                        <td id=\"T_c38f1530_7ed7_11ec_8c3a_0242ac1c0002row15_col3\" class=\"data row15 col3\" >False</td>\n",
              "            </tr>\n",
              "            <tr>\n",
              "                        <th id=\"T_c38f1530_7ed7_11ec_8c3a_0242ac1c0002level0_row16\" class=\"row_heading level0 row16\" >16</th>\n",
              "                        <td id=\"T_c38f1530_7ed7_11ec_8c3a_0242ac1c0002row16_col0\" class=\"data row16 col0\" >random_state</td>\n",
              "                        <td id=\"T_c38f1530_7ed7_11ec_8c3a_0242ac1c0002row16_col1\" class=\"data row16 col1\" >None</td>\n",
              "                        <td id=\"T_c38f1530_7ed7_11ec_8c3a_0242ac1c0002row16_col2\" class=\"data row16 col2\" >None</td>\n",
              "                        <td id=\"T_c38f1530_7ed7_11ec_8c3a_0242ac1c0002row16_col3\" class=\"data row16 col3\" >None</td>\n",
              "            </tr>\n",
              "            <tr>\n",
              "                        <th id=\"T_c38f1530_7ed7_11ec_8c3a_0242ac1c0002level0_row17\" class=\"row_heading level0 row17\" >17</th>\n",
              "                        <td id=\"T_c38f1530_7ed7_11ec_8c3a_0242ac1c0002row17_col0\" class=\"data row17 col0\" >verbose</td>\n",
              "                        <td id=\"T_c38f1530_7ed7_11ec_8c3a_0242ac1c0002row17_col1\" class=\"data row17 col1\" >0</td>\n",
              "                        <td id=\"T_c38f1530_7ed7_11ec_8c3a_0242ac1c0002row17_col2\" class=\"data row17 col2\" >0</td>\n",
              "                        <td id=\"T_c38f1530_7ed7_11ec_8c3a_0242ac1c0002row17_col3\" class=\"data row17 col3\" >0</td>\n",
              "            </tr>\n",
              "            <tr>\n",
              "                        <th id=\"T_c38f1530_7ed7_11ec_8c3a_0242ac1c0002level0_row18\" class=\"row_heading level0 row18\" >18</th>\n",
              "                        <td id=\"T_c38f1530_7ed7_11ec_8c3a_0242ac1c0002row18_col0\" class=\"data row18 col0\" >warm_start</td>\n",
              "                        <td id=\"T_c38f1530_7ed7_11ec_8c3a_0242ac1c0002row18_col1\" class=\"data row18 col1\" >False</td>\n",
              "                        <td id=\"T_c38f1530_7ed7_11ec_8c3a_0242ac1c0002row18_col2\" class=\"data row18 col2\" >False</td>\n",
              "                        <td id=\"T_c38f1530_7ed7_11ec_8c3a_0242ac1c0002row18_col3\" class=\"data row18 col3\" >False</td>\n",
              "            </tr>\n",
              "    </tbody></table>"
            ],
            "text/plain": [
              "<IPython.core.display.HTML object>"
            ]
          },
          "metadata": {}
        },
        {
          "output_type": "stream",
          "name": "stdout",
          "text": [
            "\n",
            "\n",
            "\n"
          ]
        }
      ]
    },
    {
      "cell_type": "code",
      "metadata": {
        "colab": {
          "base_uri": "https://localhost:8080/"
        },
        "id": "6Go4SF37Ex_Z",
        "outputId": "dbc82b5c-5f66-49cf-e6ec-6b26c6f20ae0"
      },
      "source": [
        "# Submit a third model using GridSearchCV\n",
        "\n",
        "from sklearn.ensemble import RandomForestClassifier\n",
        "from sklearn.model_selection import GridSearchCV\n",
        "import numpy as np\n",
        "\n",
        "param_grid = {'n_estimators': np.arange(100, 300, 500),'max_depth':[1, 3, 5]} #np.arange creates sequence of numbers for each k value\n",
        "\n",
        "gridmodel = GridSearchCV(RandomForestClassifier(), param_grid=param_grid, cv=10)\n",
        "\n",
        "#use meta model methods to fit score and predict model:\n",
        "gridmodel.fit(preprocessor(X_train), y_train_labels)\n",
        "\n",
        "#extract best score and parameter by calling objects \"best_score_\" and \"best_params_\"\n",
        "print(\"best mean cross-validation score: {:.3f}\".format(gridmodel.best_score_))\n",
        "print(\"best parameters: {}\".format(gridmodel.best_params_))\n"
      ],
      "execution_count": 18,
      "outputs": [
        {
          "output_type": "stream",
          "name": "stdout",
          "text": [
            "best mean cross-validation score: 0.637\n",
            "best parameters: {'max_depth': 5, 'n_estimators': 100}\n"
          ]
        }
      ]
    },
    {
      "cell_type": "code",
      "metadata": {
        "id": "HvLuIvOjHLH2"
      },
      "source": [
        "# Save sklearn model to local ONNX file\n",
        "from aimodelshare.aimsonnx import model_to_onnx\n",
        "\n",
        "feature_count=preprocessor(X_test).shape[1] #Get count of preprocessed features\n",
        "initial_type = [('float_input', FloatTensorType([None, feature_count]))]  # Insert correct number of preprocessed features\n",
        "\n",
        "onnx_model = model_to_onnx(gridmodel, framework='sklearn',\n",
        "                          initial_types=initial_type,\n",
        "                          transfer_learning=False,\n",
        "                          deep_learning=False)\n",
        "\n",
        "with open(\"gridmodel.onnx\", \"wb\") as f:\n",
        "    f.write(onnx_model.SerializeToString())"
      ],
      "execution_count": 19,
      "outputs": []
    },
    {
      "cell_type": "code",
      "metadata": {
        "colab": {
          "base_uri": "https://localhost:8080/"
        },
        "id": "sMidHABfHVN7",
        "outputId": "0a1b93a7-51fb-4a98-86cc-7e8f1907c975"
      },
      "source": [
        "#Submit Model 3: \n",
        "\n",
        "#-- Generate predicted values\n",
        "prediction_labels = gridmodel.predict(preprocessor(X_test))\n",
        "\n",
        "# Submit to Competition Leaderboard\n",
        "mycompetition.submit_model(model_filepath = \"gridmodel.onnx\",\n",
        "                                 preprocessor_filepath=\"preprocessor.zip\",\n",
        "                                 prediction_submission=prediction_labels)"
      ],
      "execution_count": 20,
      "outputs": [
        {
          "output_type": "stream",
          "name": "stdout",
          "text": [
            "Insert search tags to help users find your model (optional): \n",
            "Provide any useful notes about your model (optional): \n",
            "\n",
            "Your model has been submitted as model version 4\n",
            "\n",
            "To submit code used to create this model or to view current leaderboard navigate to Model Playground: \n",
            "\n",
            " https://www.modelshare.org/detail/model:1289\n"
          ]
        }
      ]
    },
    {
      "cell_type": "code",
      "metadata": {
        "colab": {
          "base_uri": "https://localhost:8080/",
          "height": 274
        },
        "id": "hn-Tp-zpJVGT",
        "outputId": "ec6b40d3-7405-4507-b7e7-ac8b16def98e"
      },
      "source": [
        "# Get leaderboard\n",
        "\n",
        "data = mycompetition.get_leaderboard()\n",
        "mycompetition.stylize_leaderboard(data)"
      ],
      "execution_count": 21,
      "outputs": [
        {
          "output_type": "execute_result",
          "data": {
            "text/html": [
              "<style  type=\"text/css\" >\n",
              "#T_d3087d9e_7ed7_11ec_8c3a_0242ac1c0002row0_col0{\n",
              "            text-align:  center;\n",
              "            width:  10em;\n",
              "             height:  80%;\n",
              "            background:  linear-gradient(90deg,#f5f8d6 50.0%, transparent 50.0%);\n",
              "            color:  #251e1b;\n",
              "            font-size:  12px;\n",
              "        }#T_d3087d9e_7ed7_11ec_8c3a_0242ac1c0002row0_col1{\n",
              "            text-align:  center;\n",
              "            width:  10em;\n",
              "             height:  80%;\n",
              "            background:  linear-gradient(90deg,#c778c8 50.1%, transparent 50.1%);\n",
              "            color:  #251e1b;\n",
              "            font-size:  12px;\n",
              "        }#T_d3087d9e_7ed7_11ec_8c3a_0242ac1c0002row0_col2{\n",
              "            text-align:  center;\n",
              "            width:  10em;\n",
              "             height:  80%;\n",
              "            background:  linear-gradient(90deg,#ff4971 56.0%, transparent 56.0%);\n",
              "            color:  #251e1b;\n",
              "            font-size:  12px;\n",
              "        }#T_d3087d9e_7ed7_11ec_8c3a_0242ac1c0002row0_col3{\n",
              "            text-align:  center;\n",
              "            width:  10em;\n",
              "             height:  80%;\n",
              "            background:  linear-gradient(90deg,#aadbaa 50.8%, transparent 50.8%);\n",
              "            color:  #251e1b;\n",
              "            font-size:  12px;\n",
              "        }#T_d3087d9e_7ed7_11ec_8c3a_0242ac1c0002row0_col4,#T_d3087d9e_7ed7_11ec_8c3a_0242ac1c0002row0_col5,#T_d3087d9e_7ed7_11ec_8c3a_0242ac1c0002row0_col6,#T_d3087d9e_7ed7_11ec_8c3a_0242ac1c0002row0_col7,#T_d3087d9e_7ed7_11ec_8c3a_0242ac1c0002row0_col8,#T_d3087d9e_7ed7_11ec_8c3a_0242ac1c0002row0_col9,#T_d3087d9e_7ed7_11ec_8c3a_0242ac1c0002row0_col10,#T_d3087d9e_7ed7_11ec_8c3a_0242ac1c0002row0_col11,#T_d3087d9e_7ed7_11ec_8c3a_0242ac1c0002row0_col12,#T_d3087d9e_7ed7_11ec_8c3a_0242ac1c0002row0_col13,#T_d3087d9e_7ed7_11ec_8c3a_0242ac1c0002row0_col14,#T_d3087d9e_7ed7_11ec_8c3a_0242ac1c0002row0_col15,#T_d3087d9e_7ed7_11ec_8c3a_0242ac1c0002row0_col16,#T_d3087d9e_7ed7_11ec_8c3a_0242ac1c0002row0_col17,#T_d3087d9e_7ed7_11ec_8c3a_0242ac1c0002row0_col18,#T_d3087d9e_7ed7_11ec_8c3a_0242ac1c0002row1_col4,#T_d3087d9e_7ed7_11ec_8c3a_0242ac1c0002row1_col5,#T_d3087d9e_7ed7_11ec_8c3a_0242ac1c0002row1_col6,#T_d3087d9e_7ed7_11ec_8c3a_0242ac1c0002row1_col7,#T_d3087d9e_7ed7_11ec_8c3a_0242ac1c0002row1_col8,#T_d3087d9e_7ed7_11ec_8c3a_0242ac1c0002row1_col9,#T_d3087d9e_7ed7_11ec_8c3a_0242ac1c0002row1_col10,#T_d3087d9e_7ed7_11ec_8c3a_0242ac1c0002row1_col11,#T_d3087d9e_7ed7_11ec_8c3a_0242ac1c0002row1_col12,#T_d3087d9e_7ed7_11ec_8c3a_0242ac1c0002row1_col13,#T_d3087d9e_7ed7_11ec_8c3a_0242ac1c0002row1_col14,#T_d3087d9e_7ed7_11ec_8c3a_0242ac1c0002row1_col15,#T_d3087d9e_7ed7_11ec_8c3a_0242ac1c0002row1_col16,#T_d3087d9e_7ed7_11ec_8c3a_0242ac1c0002row1_col17,#T_d3087d9e_7ed7_11ec_8c3a_0242ac1c0002row1_col18,#T_d3087d9e_7ed7_11ec_8c3a_0242ac1c0002row2_col4,#T_d3087d9e_7ed7_11ec_8c3a_0242ac1c0002row2_col5,#T_d3087d9e_7ed7_11ec_8c3a_0242ac1c0002row2_col6,#T_d3087d9e_7ed7_11ec_8c3a_0242ac1c0002row2_col7,#T_d3087d9e_7ed7_11ec_8c3a_0242ac1c0002row2_col8,#T_d3087d9e_7ed7_11ec_8c3a_0242ac1c0002row2_col9,#T_d3087d9e_7ed7_11ec_8c3a_0242ac1c0002row2_col10,#T_d3087d9e_7ed7_11ec_8c3a_0242ac1c0002row2_col11,#T_d3087d9e_7ed7_11ec_8c3a_0242ac1c0002row2_col12,#T_d3087d9e_7ed7_11ec_8c3a_0242ac1c0002row2_col13,#T_d3087d9e_7ed7_11ec_8c3a_0242ac1c0002row2_col14,#T_d3087d9e_7ed7_11ec_8c3a_0242ac1c0002row2_col15,#T_d3087d9e_7ed7_11ec_8c3a_0242ac1c0002row2_col16,#T_d3087d9e_7ed7_11ec_8c3a_0242ac1c0002row2_col17,#T_d3087d9e_7ed7_11ec_8c3a_0242ac1c0002row2_col18,#T_d3087d9e_7ed7_11ec_8c3a_0242ac1c0002row3_col4,#T_d3087d9e_7ed7_11ec_8c3a_0242ac1c0002row3_col5,#T_d3087d9e_7ed7_11ec_8c3a_0242ac1c0002row3_col6,#T_d3087d9e_7ed7_11ec_8c3a_0242ac1c0002row3_col7,#T_d3087d9e_7ed7_11ec_8c3a_0242ac1c0002row3_col8,#T_d3087d9e_7ed7_11ec_8c3a_0242ac1c0002row3_col9,#T_d3087d9e_7ed7_11ec_8c3a_0242ac1c0002row3_col10,#T_d3087d9e_7ed7_11ec_8c3a_0242ac1c0002row3_col11,#T_d3087d9e_7ed7_11ec_8c3a_0242ac1c0002row3_col12,#T_d3087d9e_7ed7_11ec_8c3a_0242ac1c0002row3_col13,#T_d3087d9e_7ed7_11ec_8c3a_0242ac1c0002row3_col14,#T_d3087d9e_7ed7_11ec_8c3a_0242ac1c0002row3_col15,#T_d3087d9e_7ed7_11ec_8c3a_0242ac1c0002row3_col16,#T_d3087d9e_7ed7_11ec_8c3a_0242ac1c0002row3_col17,#T_d3087d9e_7ed7_11ec_8c3a_0242ac1c0002row3_col18{\n",
              "            text-align:  center;\n",
              "        }#T_d3087d9e_7ed7_11ec_8c3a_0242ac1c0002row1_col0,#T_d3087d9e_7ed7_11ec_8c3a_0242ac1c0002row3_col0{\n",
              "            text-align:  center;\n",
              "            width:  10em;\n",
              "             height:  80%;\n",
              "            background:  linear-gradient(90deg,#f5f8d6 46.2%, transparent 46.2%);\n",
              "            color:  #251e1b;\n",
              "            font-size:  12px;\n",
              "        }#T_d3087d9e_7ed7_11ec_8c3a_0242ac1c0002row1_col1{\n",
              "            text-align:  center;\n",
              "            width:  10em;\n",
              "             height:  80%;\n",
              "            background:  linear-gradient(90deg,#c778c8 46.0%, transparent 46.0%);\n",
              "            color:  #251e1b;\n",
              "            font-size:  12px;\n",
              "        }#T_d3087d9e_7ed7_11ec_8c3a_0242ac1c0002row1_col2{\n",
              "            text-align:  center;\n",
              "            width:  10em;\n",
              "             height:  80%;\n",
              "            background:  linear-gradient(90deg,#ff4971 51.8%, transparent 51.8%);\n",
              "            color:  #251e1b;\n",
              "            font-size:  12px;\n",
              "        }#T_d3087d9e_7ed7_11ec_8c3a_0242ac1c0002row1_col3{\n",
              "            text-align:  center;\n",
              "            width:  10em;\n",
              "             height:  80%;\n",
              "            background:  linear-gradient(90deg,#aadbaa 46.8%, transparent 46.8%);\n",
              "            color:  #251e1b;\n",
              "            font-size:  12px;\n",
              "        }#T_d3087d9e_7ed7_11ec_8c3a_0242ac1c0002row2_col0{\n",
              "            text-align:  center;\n",
              "            width:  10em;\n",
              "             height:  80%;\n",
              "            background:  linear-gradient(90deg,#f5f8d6 44.2%, transparent 44.2%);\n",
              "            color:  #251e1b;\n",
              "            font-size:  12px;\n",
              "        }#T_d3087d9e_7ed7_11ec_8c3a_0242ac1c0002row2_col1{\n",
              "            text-align:  center;\n",
              "            width:  10em;\n",
              "             height:  80%;\n",
              "            background:  linear-gradient(90deg,#c778c8 43.3%, transparent 43.3%);\n",
              "            color:  #251e1b;\n",
              "            font-size:  12px;\n",
              "        }#T_d3087d9e_7ed7_11ec_8c3a_0242ac1c0002row2_col2{\n",
              "            text-align:  center;\n",
              "            width:  10em;\n",
              "             height:  80%;\n",
              "            background:  linear-gradient(90deg,#ff4971 49.8%, transparent 49.8%);\n",
              "            color:  #251e1b;\n",
              "            font-size:  12px;\n",
              "        }#T_d3087d9e_7ed7_11ec_8c3a_0242ac1c0002row2_col3{\n",
              "            text-align:  center;\n",
              "            width:  10em;\n",
              "             height:  80%;\n",
              "            background:  linear-gradient(90deg,#aadbaa 46.3%, transparent 46.3%);\n",
              "            color:  #251e1b;\n",
              "            font-size:  12px;\n",
              "        }#T_d3087d9e_7ed7_11ec_8c3a_0242ac1c0002row3_col1{\n",
              "            text-align:  center;\n",
              "            width:  10em;\n",
              "             height:  80%;\n",
              "            background:  linear-gradient(90deg,#c778c8 45.0%, transparent 45.0%);\n",
              "            color:  #251e1b;\n",
              "            font-size:  12px;\n",
              "        }#T_d3087d9e_7ed7_11ec_8c3a_0242ac1c0002row3_col2{\n",
              "            text-align:  center;\n",
              "            width:  10em;\n",
              "             height:  80%;\n",
              "            background:  linear-gradient(90deg,#ff4971 49.4%, transparent 49.4%);\n",
              "            color:  #251e1b;\n",
              "            font-size:  12px;\n",
              "        }#T_d3087d9e_7ed7_11ec_8c3a_0242ac1c0002row3_col3{\n",
              "            text-align:  center;\n",
              "            width:  10em;\n",
              "             height:  80%;\n",
              "            background:  linear-gradient(90deg,#aadbaa 45.8%, transparent 45.8%);\n",
              "            color:  #251e1b;\n",
              "            font-size:  12px;\n",
              "        }</style><table id=\"T_d3087d9e_7ed7_11ec_8c3a_0242ac1c0002\" class=\"dataframe\"><thead>    <tr>        <th class=\"blank level0\" ></th>        <th class=\"col_heading level0 col0\" >accuracy</th>        <th class=\"col_heading level0 col1\" >f1_score</th>        <th class=\"col_heading level0 col2\" >precision</th>        <th class=\"col_heading level0 col3\" >recall</th>        <th class=\"col_heading level0 col4\" >ml_framework</th>        <th class=\"col_heading level0 col5\" >transfer_learning</th>        <th class=\"col_heading level0 col6\" >deep_learning</th>        <th class=\"col_heading level0 col7\" >model_type</th>        <th class=\"col_heading level0 col8\" >depth</th>        <th class=\"col_heading level0 col9\" >num_params</th>        <th class=\"col_heading level0 col10\" >dense_layers</th>        <th class=\"col_heading level0 col11\" >softmax_act</th>        <th class=\"col_heading level0 col12\" >relu_act</th>        <th class=\"col_heading level0 col13\" >loss</th>        <th class=\"col_heading level0 col14\" >optimizer</th>        <th class=\"col_heading level0 col15\" >model_config</th>        <th class=\"col_heading level0 col16\" >memory_size</th>        <th class=\"col_heading level0 col17\" >username</th>        <th class=\"col_heading level0 col18\" >version</th>    </tr></thead><tbody>\n",
              "                <tr>\n",
              "                        <th id=\"T_d3087d9e_7ed7_11ec_8c3a_0242ac1c0002level0_row0\" class=\"row_heading level0 row0\" >0</th>\n",
              "                        <td id=\"T_d3087d9e_7ed7_11ec_8c3a_0242ac1c0002row0_col0\" class=\"data row0 col0\" >50.00%</td>\n",
              "                        <td id=\"T_d3087d9e_7ed7_11ec_8c3a_0242ac1c0002row0_col1\" class=\"data row0 col1\" >50.11%</td>\n",
              "                        <td id=\"T_d3087d9e_7ed7_11ec_8c3a_0242ac1c0002row0_col2\" class=\"data row0 col2\" >55.99%</td>\n",
              "                        <td id=\"T_d3087d9e_7ed7_11ec_8c3a_0242ac1c0002row0_col3\" class=\"data row0 col3\" >50.83%</td>\n",
              "                        <td id=\"T_d3087d9e_7ed7_11ec_8c3a_0242ac1c0002row0_col4\" class=\"data row0 col4\" >sklearn</td>\n",
              "                        <td id=\"T_d3087d9e_7ed7_11ec_8c3a_0242ac1c0002row0_col5\" class=\"data row0 col5\" >False</td>\n",
              "                        <td id=\"T_d3087d9e_7ed7_11ec_8c3a_0242ac1c0002row0_col6\" class=\"data row0 col6\" >False</td>\n",
              "                        <td id=\"T_d3087d9e_7ed7_11ec_8c3a_0242ac1c0002row0_col7\" class=\"data row0 col7\" >RandomForestClassifier</td>\n",
              "                        <td id=\"T_d3087d9e_7ed7_11ec_8c3a_0242ac1c0002row0_col8\" class=\"data row0 col8\" >nan</td>\n",
              "                        <td id=\"T_d3087d9e_7ed7_11ec_8c3a_0242ac1c0002row0_col9\" class=\"data row0 col9\" >nan</td>\n",
              "                        <td id=\"T_d3087d9e_7ed7_11ec_8c3a_0242ac1c0002row0_col10\" class=\"data row0 col10\" >nan</td>\n",
              "                        <td id=\"T_d3087d9e_7ed7_11ec_8c3a_0242ac1c0002row0_col11\" class=\"data row0 col11\" >nan</td>\n",
              "                        <td id=\"T_d3087d9e_7ed7_11ec_8c3a_0242ac1c0002row0_col12\" class=\"data row0 col12\" >nan</td>\n",
              "                        <td id=\"T_d3087d9e_7ed7_11ec_8c3a_0242ac1c0002row0_col13\" class=\"data row0 col13\" >nan</td>\n",
              "                        <td id=\"T_d3087d9e_7ed7_11ec_8c3a_0242ac1c0002row0_col14\" class=\"data row0 col14\" >nan</td>\n",
              "                        <td id=\"T_d3087d9e_7ed7_11ec_8c3a_0242ac1c0002row0_col15\" class=\"data row0 col15\" >{'bootstrap': True, 'ccp_alpha...</td>\n",
              "                        <td id=\"T_d3087d9e_7ed7_11ec_8c3a_0242ac1c0002row0_col16\" class=\"data row0 col16\" >nan</td>\n",
              "                        <td id=\"T_d3087d9e_7ed7_11ec_8c3a_0242ac1c0002row0_col17\" class=\"data row0 col17\" >AdvProjectsinML</td>\n",
              "                        <td id=\"T_d3087d9e_7ed7_11ec_8c3a_0242ac1c0002row0_col18\" class=\"data row0 col18\" >3</td>\n",
              "            </tr>\n",
              "            <tr>\n",
              "                        <th id=\"T_d3087d9e_7ed7_11ec_8c3a_0242ac1c0002level0_row1\" class=\"row_heading level0 row1\" >1</th>\n",
              "                        <td id=\"T_d3087d9e_7ed7_11ec_8c3a_0242ac1c0002row1_col0\" class=\"data row1 col0\" >46.15%</td>\n",
              "                        <td id=\"T_d3087d9e_7ed7_11ec_8c3a_0242ac1c0002row1_col1\" class=\"data row1 col1\" >46.02%</td>\n",
              "                        <td id=\"T_d3087d9e_7ed7_11ec_8c3a_0242ac1c0002row1_col2\" class=\"data row1 col2\" >51.79%</td>\n",
              "                        <td id=\"T_d3087d9e_7ed7_11ec_8c3a_0242ac1c0002row1_col3\" class=\"data row1 col3\" >46.83%</td>\n",
              "                        <td id=\"T_d3087d9e_7ed7_11ec_8c3a_0242ac1c0002row1_col4\" class=\"data row1 col4\" >sklearn</td>\n",
              "                        <td id=\"T_d3087d9e_7ed7_11ec_8c3a_0242ac1c0002row1_col5\" class=\"data row1 col5\" >False</td>\n",
              "                        <td id=\"T_d3087d9e_7ed7_11ec_8c3a_0242ac1c0002row1_col6\" class=\"data row1 col6\" >False</td>\n",
              "                        <td id=\"T_d3087d9e_7ed7_11ec_8c3a_0242ac1c0002row1_col7\" class=\"data row1 col7\" >RandomForestClassifier</td>\n",
              "                        <td id=\"T_d3087d9e_7ed7_11ec_8c3a_0242ac1c0002row1_col8\" class=\"data row1 col8\" >nan</td>\n",
              "                        <td id=\"T_d3087d9e_7ed7_11ec_8c3a_0242ac1c0002row1_col9\" class=\"data row1 col9\" >nan</td>\n",
              "                        <td id=\"T_d3087d9e_7ed7_11ec_8c3a_0242ac1c0002row1_col10\" class=\"data row1 col10\" >nan</td>\n",
              "                        <td id=\"T_d3087d9e_7ed7_11ec_8c3a_0242ac1c0002row1_col11\" class=\"data row1 col11\" >nan</td>\n",
              "                        <td id=\"T_d3087d9e_7ed7_11ec_8c3a_0242ac1c0002row1_col12\" class=\"data row1 col12\" >nan</td>\n",
              "                        <td id=\"T_d3087d9e_7ed7_11ec_8c3a_0242ac1c0002row1_col13\" class=\"data row1 col13\" >nan</td>\n",
              "                        <td id=\"T_d3087d9e_7ed7_11ec_8c3a_0242ac1c0002row1_col14\" class=\"data row1 col14\" >nan</td>\n",
              "                        <td id=\"T_d3087d9e_7ed7_11ec_8c3a_0242ac1c0002row1_col15\" class=\"data row1 col15\" >{'bootstrap': True, 'ccp_alpha...</td>\n",
              "                        <td id=\"T_d3087d9e_7ed7_11ec_8c3a_0242ac1c0002row1_col16\" class=\"data row1 col16\" >nan</td>\n",
              "                        <td id=\"T_d3087d9e_7ed7_11ec_8c3a_0242ac1c0002row1_col17\" class=\"data row1 col17\" >AdvProjectsinML</td>\n",
              "                        <td id=\"T_d3087d9e_7ed7_11ec_8c3a_0242ac1c0002row1_col18\" class=\"data row1 col18\" >4</td>\n",
              "            </tr>\n",
              "            <tr>\n",
              "                        <th id=\"T_d3087d9e_7ed7_11ec_8c3a_0242ac1c0002level0_row2\" class=\"row_heading level0 row2\" >3</th>\n",
              "                        <td id=\"T_d3087d9e_7ed7_11ec_8c3a_0242ac1c0002row2_col0\" class=\"data row2 col0\" >44.23%</td>\n",
              "                        <td id=\"T_d3087d9e_7ed7_11ec_8c3a_0242ac1c0002row2_col1\" class=\"data row2 col1\" >43.28%</td>\n",
              "                        <td id=\"T_d3087d9e_7ed7_11ec_8c3a_0242ac1c0002row2_col2\" class=\"data row2 col2\" >49.76%</td>\n",
              "                        <td id=\"T_d3087d9e_7ed7_11ec_8c3a_0242ac1c0002row2_col3\" class=\"data row2 col3\" >46.33%</td>\n",
              "                        <td id=\"T_d3087d9e_7ed7_11ec_8c3a_0242ac1c0002row2_col4\" class=\"data row2 col4\" >sklearn</td>\n",
              "                        <td id=\"T_d3087d9e_7ed7_11ec_8c3a_0242ac1c0002row2_col5\" class=\"data row2 col5\" >False</td>\n",
              "                        <td id=\"T_d3087d9e_7ed7_11ec_8c3a_0242ac1c0002row2_col6\" class=\"data row2 col6\" >False</td>\n",
              "                        <td id=\"T_d3087d9e_7ed7_11ec_8c3a_0242ac1c0002row2_col7\" class=\"data row2 col7\" >RandomForestClassifier</td>\n",
              "                        <td id=\"T_d3087d9e_7ed7_11ec_8c3a_0242ac1c0002row2_col8\" class=\"data row2 col8\" >nan</td>\n",
              "                        <td id=\"T_d3087d9e_7ed7_11ec_8c3a_0242ac1c0002row2_col9\" class=\"data row2 col9\" >nan</td>\n",
              "                        <td id=\"T_d3087d9e_7ed7_11ec_8c3a_0242ac1c0002row2_col10\" class=\"data row2 col10\" >nan</td>\n",
              "                        <td id=\"T_d3087d9e_7ed7_11ec_8c3a_0242ac1c0002row2_col11\" class=\"data row2 col11\" >nan</td>\n",
              "                        <td id=\"T_d3087d9e_7ed7_11ec_8c3a_0242ac1c0002row2_col12\" class=\"data row2 col12\" >nan</td>\n",
              "                        <td id=\"T_d3087d9e_7ed7_11ec_8c3a_0242ac1c0002row2_col13\" class=\"data row2 col13\" >nan</td>\n",
              "                        <td id=\"T_d3087d9e_7ed7_11ec_8c3a_0242ac1c0002row2_col14\" class=\"data row2 col14\" >nan</td>\n",
              "                        <td id=\"T_d3087d9e_7ed7_11ec_8c3a_0242ac1c0002row2_col15\" class=\"data row2 col15\" >{'bootstrap': True, 'ccp_alpha...</td>\n",
              "                        <td id=\"T_d3087d9e_7ed7_11ec_8c3a_0242ac1c0002row2_col16\" class=\"data row2 col16\" >nan</td>\n",
              "                        <td id=\"T_d3087d9e_7ed7_11ec_8c3a_0242ac1c0002row2_col17\" class=\"data row2 col17\" >AdvProjectsinML</td>\n",
              "                        <td id=\"T_d3087d9e_7ed7_11ec_8c3a_0242ac1c0002row2_col18\" class=\"data row2 col18\" >2</td>\n",
              "            </tr>\n",
              "            <tr>\n",
              "                        <th id=\"T_d3087d9e_7ed7_11ec_8c3a_0242ac1c0002level0_row3\" class=\"row_heading level0 row3\" >4</th>\n",
              "                        <td id=\"T_d3087d9e_7ed7_11ec_8c3a_0242ac1c0002row3_col0\" class=\"data row3 col0\" >46.15%</td>\n",
              "                        <td id=\"T_d3087d9e_7ed7_11ec_8c3a_0242ac1c0002row3_col1\" class=\"data row3 col1\" >45.04%</td>\n",
              "                        <td id=\"T_d3087d9e_7ed7_11ec_8c3a_0242ac1c0002row3_col2\" class=\"data row3 col2\" >49.44%</td>\n",
              "                        <td id=\"T_d3087d9e_7ed7_11ec_8c3a_0242ac1c0002row3_col3\" class=\"data row3 col3\" >45.85%</td>\n",
              "                        <td id=\"T_d3087d9e_7ed7_11ec_8c3a_0242ac1c0002row3_col4\" class=\"data row3 col4\" >keras</td>\n",
              "                        <td id=\"T_d3087d9e_7ed7_11ec_8c3a_0242ac1c0002row3_col5\" class=\"data row3 col5\" >False</td>\n",
              "                        <td id=\"T_d3087d9e_7ed7_11ec_8c3a_0242ac1c0002row3_col6\" class=\"data row3 col6\" >True</td>\n",
              "                        <td id=\"T_d3087d9e_7ed7_11ec_8c3a_0242ac1c0002row3_col7\" class=\"data row3 col7\" >Sequential</td>\n",
              "                        <td id=\"T_d3087d9e_7ed7_11ec_8c3a_0242ac1c0002row3_col8\" class=\"data row3 col8\" >4.000000</td>\n",
              "                        <td id=\"T_d3087d9e_7ed7_11ec_8c3a_0242ac1c0002row3_col9\" class=\"data row3 col9\" >10373.000000</td>\n",
              "                        <td id=\"T_d3087d9e_7ed7_11ec_8c3a_0242ac1c0002row3_col10\" class=\"data row3 col10\" >4.000000</td>\n",
              "                        <td id=\"T_d3087d9e_7ed7_11ec_8c3a_0242ac1c0002row3_col11\" class=\"data row3 col11\" >1.000000</td>\n",
              "                        <td id=\"T_d3087d9e_7ed7_11ec_8c3a_0242ac1c0002row3_col12\" class=\"data row3 col12\" >3.000000</td>\n",
              "                        <td id=\"T_d3087d9e_7ed7_11ec_8c3a_0242ac1c0002row3_col13\" class=\"data row3 col13\" >str</td>\n",
              "                        <td id=\"T_d3087d9e_7ed7_11ec_8c3a_0242ac1c0002row3_col14\" class=\"data row3 col14\" >SGD</td>\n",
              "                        <td id=\"T_d3087d9e_7ed7_11ec_8c3a_0242ac1c0002row3_col15\" class=\"data row3 col15\" >{'name': 'sequential', 'layers...</td>\n",
              "                        <td id=\"T_d3087d9e_7ed7_11ec_8c3a_0242ac1c0002row3_col16\" class=\"data row3 col16\" >1369568.000000</td>\n",
              "                        <td id=\"T_d3087d9e_7ed7_11ec_8c3a_0242ac1c0002row3_col17\" class=\"data row3 col17\" >AdvProjectsinML</td>\n",
              "                        <td id=\"T_d3087d9e_7ed7_11ec_8c3a_0242ac1c0002row3_col18\" class=\"data row3 col18\" >1</td>\n",
              "            </tr>\n",
              "    </tbody></table>"
            ],
            "text/plain": [
              "<pandas.io.formats.style.Styler at 0x7f881205d550>"
            ]
          },
          "metadata": {},
          "execution_count": 21
        }
      ]
    },
    {
      "cell_type": "code",
      "metadata": {
        "id": "MKvPKyb7hT0h",
        "colab": {
          "base_uri": "https://localhost:8080/",
          "height": 438
        },
        "outputId": "e4ab2cbe-97c7-449e-f39c-db19327237e2"
      },
      "source": [
        "# Compare two or more models\n",
        "data=mycompetition.compare_models([3,4], verbose=1)\n",
        "mycompetition.stylize_compare(data)"
      ],
      "execution_count": 22,
      "outputs": [
        {
          "output_type": "display_data",
          "data": {
            "text/html": [
              "<style  type=\"text/css\" >\n",
              "    #T_d68fd7e6_7ed7_11ec_8c3a_0242ac1c0002 caption {\n",
              "          color: black;\n",
              "          font-size: 18px;\n",
              "    }#T_d68fd7e6_7ed7_11ec_8c3a_0242ac1c0002row4_col2,#T_d68fd7e6_7ed7_11ec_8c3a_0242ac1c0002row4_col3{\n",
              "            background:  tomato;\n",
              "        }</style><table id=\"T_d68fd7e6_7ed7_11ec_8c3a_0242ac1c0002\" ><caption>Model type: RandomForestClassifier</caption><thead>    <tr>        <th class=\"blank level0\" ></th>        <th class=\"col_heading level0 col0\" >param_name</th>        <th class=\"col_heading level0 col1\" >default_value</th>        <th class=\"col_heading level0 col2\" >model_version_3</th>        <th class=\"col_heading level0 col3\" >model_version_4</th>    </tr></thead><tbody>\n",
              "                <tr>\n",
              "                        <th id=\"T_d68fd7e6_7ed7_11ec_8c3a_0242ac1c0002level0_row0\" class=\"row_heading level0 row0\" >0</th>\n",
              "                        <td id=\"T_d68fd7e6_7ed7_11ec_8c3a_0242ac1c0002row0_col0\" class=\"data row0 col0\" >bootstrap</td>\n",
              "                        <td id=\"T_d68fd7e6_7ed7_11ec_8c3a_0242ac1c0002row0_col1\" class=\"data row0 col1\" >True</td>\n",
              "                        <td id=\"T_d68fd7e6_7ed7_11ec_8c3a_0242ac1c0002row0_col2\" class=\"data row0 col2\" >True</td>\n",
              "                        <td id=\"T_d68fd7e6_7ed7_11ec_8c3a_0242ac1c0002row0_col3\" class=\"data row0 col3\" >True</td>\n",
              "            </tr>\n",
              "            <tr>\n",
              "                        <th id=\"T_d68fd7e6_7ed7_11ec_8c3a_0242ac1c0002level0_row1\" class=\"row_heading level0 row1\" >1</th>\n",
              "                        <td id=\"T_d68fd7e6_7ed7_11ec_8c3a_0242ac1c0002row1_col0\" class=\"data row1 col0\" >ccp_alpha</td>\n",
              "                        <td id=\"T_d68fd7e6_7ed7_11ec_8c3a_0242ac1c0002row1_col1\" class=\"data row1 col1\" >0.000000</td>\n",
              "                        <td id=\"T_d68fd7e6_7ed7_11ec_8c3a_0242ac1c0002row1_col2\" class=\"data row1 col2\" >0.000000</td>\n",
              "                        <td id=\"T_d68fd7e6_7ed7_11ec_8c3a_0242ac1c0002row1_col3\" class=\"data row1 col3\" >0.000000</td>\n",
              "            </tr>\n",
              "            <tr>\n",
              "                        <th id=\"T_d68fd7e6_7ed7_11ec_8c3a_0242ac1c0002level0_row2\" class=\"row_heading level0 row2\" >2</th>\n",
              "                        <td id=\"T_d68fd7e6_7ed7_11ec_8c3a_0242ac1c0002row2_col0\" class=\"data row2 col0\" >class_weight</td>\n",
              "                        <td id=\"T_d68fd7e6_7ed7_11ec_8c3a_0242ac1c0002row2_col1\" class=\"data row2 col1\" >None</td>\n",
              "                        <td id=\"T_d68fd7e6_7ed7_11ec_8c3a_0242ac1c0002row2_col2\" class=\"data row2 col2\" >None</td>\n",
              "                        <td id=\"T_d68fd7e6_7ed7_11ec_8c3a_0242ac1c0002row2_col3\" class=\"data row2 col3\" >None</td>\n",
              "            </tr>\n",
              "            <tr>\n",
              "                        <th id=\"T_d68fd7e6_7ed7_11ec_8c3a_0242ac1c0002level0_row3\" class=\"row_heading level0 row3\" >3</th>\n",
              "                        <td id=\"T_d68fd7e6_7ed7_11ec_8c3a_0242ac1c0002row3_col0\" class=\"data row3 col0\" >criterion</td>\n",
              "                        <td id=\"T_d68fd7e6_7ed7_11ec_8c3a_0242ac1c0002row3_col1\" class=\"data row3 col1\" >gini</td>\n",
              "                        <td id=\"T_d68fd7e6_7ed7_11ec_8c3a_0242ac1c0002row3_col2\" class=\"data row3 col2\" >gini</td>\n",
              "                        <td id=\"T_d68fd7e6_7ed7_11ec_8c3a_0242ac1c0002row3_col3\" class=\"data row3 col3\" >gini</td>\n",
              "            </tr>\n",
              "            <tr>\n",
              "                        <th id=\"T_d68fd7e6_7ed7_11ec_8c3a_0242ac1c0002level0_row4\" class=\"row_heading level0 row4\" >4</th>\n",
              "                        <td id=\"T_d68fd7e6_7ed7_11ec_8c3a_0242ac1c0002row4_col0\" class=\"data row4 col0\" >max_depth</td>\n",
              "                        <td id=\"T_d68fd7e6_7ed7_11ec_8c3a_0242ac1c0002row4_col1\" class=\"data row4 col1\" >None</td>\n",
              "                        <td id=\"T_d68fd7e6_7ed7_11ec_8c3a_0242ac1c0002row4_col2\" class=\"data row4 col2\" >5</td>\n",
              "                        <td id=\"T_d68fd7e6_7ed7_11ec_8c3a_0242ac1c0002row4_col3\" class=\"data row4 col3\" >5</td>\n",
              "            </tr>\n",
              "            <tr>\n",
              "                        <th id=\"T_d68fd7e6_7ed7_11ec_8c3a_0242ac1c0002level0_row5\" class=\"row_heading level0 row5\" >5</th>\n",
              "                        <td id=\"T_d68fd7e6_7ed7_11ec_8c3a_0242ac1c0002row5_col0\" class=\"data row5 col0\" >max_features</td>\n",
              "                        <td id=\"T_d68fd7e6_7ed7_11ec_8c3a_0242ac1c0002row5_col1\" class=\"data row5 col1\" >auto</td>\n",
              "                        <td id=\"T_d68fd7e6_7ed7_11ec_8c3a_0242ac1c0002row5_col2\" class=\"data row5 col2\" >auto</td>\n",
              "                        <td id=\"T_d68fd7e6_7ed7_11ec_8c3a_0242ac1c0002row5_col3\" class=\"data row5 col3\" >auto</td>\n",
              "            </tr>\n",
              "            <tr>\n",
              "                        <th id=\"T_d68fd7e6_7ed7_11ec_8c3a_0242ac1c0002level0_row6\" class=\"row_heading level0 row6\" >6</th>\n",
              "                        <td id=\"T_d68fd7e6_7ed7_11ec_8c3a_0242ac1c0002row6_col0\" class=\"data row6 col0\" >max_leaf_nodes</td>\n",
              "                        <td id=\"T_d68fd7e6_7ed7_11ec_8c3a_0242ac1c0002row6_col1\" class=\"data row6 col1\" >None</td>\n",
              "                        <td id=\"T_d68fd7e6_7ed7_11ec_8c3a_0242ac1c0002row6_col2\" class=\"data row6 col2\" >None</td>\n",
              "                        <td id=\"T_d68fd7e6_7ed7_11ec_8c3a_0242ac1c0002row6_col3\" class=\"data row6 col3\" >None</td>\n",
              "            </tr>\n",
              "            <tr>\n",
              "                        <th id=\"T_d68fd7e6_7ed7_11ec_8c3a_0242ac1c0002level0_row7\" class=\"row_heading level0 row7\" >7</th>\n",
              "                        <td id=\"T_d68fd7e6_7ed7_11ec_8c3a_0242ac1c0002row7_col0\" class=\"data row7 col0\" >max_samples</td>\n",
              "                        <td id=\"T_d68fd7e6_7ed7_11ec_8c3a_0242ac1c0002row7_col1\" class=\"data row7 col1\" >None</td>\n",
              "                        <td id=\"T_d68fd7e6_7ed7_11ec_8c3a_0242ac1c0002row7_col2\" class=\"data row7 col2\" >None</td>\n",
              "                        <td id=\"T_d68fd7e6_7ed7_11ec_8c3a_0242ac1c0002row7_col3\" class=\"data row7 col3\" >None</td>\n",
              "            </tr>\n",
              "            <tr>\n",
              "                        <th id=\"T_d68fd7e6_7ed7_11ec_8c3a_0242ac1c0002level0_row8\" class=\"row_heading level0 row8\" >8</th>\n",
              "                        <td id=\"T_d68fd7e6_7ed7_11ec_8c3a_0242ac1c0002row8_col0\" class=\"data row8 col0\" >min_impurity_decrease</td>\n",
              "                        <td id=\"T_d68fd7e6_7ed7_11ec_8c3a_0242ac1c0002row8_col1\" class=\"data row8 col1\" >0.000000</td>\n",
              "                        <td id=\"T_d68fd7e6_7ed7_11ec_8c3a_0242ac1c0002row8_col2\" class=\"data row8 col2\" >0.000000</td>\n",
              "                        <td id=\"T_d68fd7e6_7ed7_11ec_8c3a_0242ac1c0002row8_col3\" class=\"data row8 col3\" >0.000000</td>\n",
              "            </tr>\n",
              "            <tr>\n",
              "                        <th id=\"T_d68fd7e6_7ed7_11ec_8c3a_0242ac1c0002level0_row9\" class=\"row_heading level0 row9\" >9</th>\n",
              "                        <td id=\"T_d68fd7e6_7ed7_11ec_8c3a_0242ac1c0002row9_col0\" class=\"data row9 col0\" >min_impurity_split</td>\n",
              "                        <td id=\"T_d68fd7e6_7ed7_11ec_8c3a_0242ac1c0002row9_col1\" class=\"data row9 col1\" >None</td>\n",
              "                        <td id=\"T_d68fd7e6_7ed7_11ec_8c3a_0242ac1c0002row9_col2\" class=\"data row9 col2\" >None</td>\n",
              "                        <td id=\"T_d68fd7e6_7ed7_11ec_8c3a_0242ac1c0002row9_col3\" class=\"data row9 col3\" >None</td>\n",
              "            </tr>\n",
              "            <tr>\n",
              "                        <th id=\"T_d68fd7e6_7ed7_11ec_8c3a_0242ac1c0002level0_row10\" class=\"row_heading level0 row10\" >10</th>\n",
              "                        <td id=\"T_d68fd7e6_7ed7_11ec_8c3a_0242ac1c0002row10_col0\" class=\"data row10 col0\" >min_samples_leaf</td>\n",
              "                        <td id=\"T_d68fd7e6_7ed7_11ec_8c3a_0242ac1c0002row10_col1\" class=\"data row10 col1\" >1</td>\n",
              "                        <td id=\"T_d68fd7e6_7ed7_11ec_8c3a_0242ac1c0002row10_col2\" class=\"data row10 col2\" >1</td>\n",
              "                        <td id=\"T_d68fd7e6_7ed7_11ec_8c3a_0242ac1c0002row10_col3\" class=\"data row10 col3\" >1</td>\n",
              "            </tr>\n",
              "            <tr>\n",
              "                        <th id=\"T_d68fd7e6_7ed7_11ec_8c3a_0242ac1c0002level0_row11\" class=\"row_heading level0 row11\" >11</th>\n",
              "                        <td id=\"T_d68fd7e6_7ed7_11ec_8c3a_0242ac1c0002row11_col0\" class=\"data row11 col0\" >min_samples_split</td>\n",
              "                        <td id=\"T_d68fd7e6_7ed7_11ec_8c3a_0242ac1c0002row11_col1\" class=\"data row11 col1\" >2</td>\n",
              "                        <td id=\"T_d68fd7e6_7ed7_11ec_8c3a_0242ac1c0002row11_col2\" class=\"data row11 col2\" >2</td>\n",
              "                        <td id=\"T_d68fd7e6_7ed7_11ec_8c3a_0242ac1c0002row11_col3\" class=\"data row11 col3\" >2</td>\n",
              "            </tr>\n",
              "            <tr>\n",
              "                        <th id=\"T_d68fd7e6_7ed7_11ec_8c3a_0242ac1c0002level0_row12\" class=\"row_heading level0 row12\" >12</th>\n",
              "                        <td id=\"T_d68fd7e6_7ed7_11ec_8c3a_0242ac1c0002row12_col0\" class=\"data row12 col0\" >min_weight_fraction_leaf</td>\n",
              "                        <td id=\"T_d68fd7e6_7ed7_11ec_8c3a_0242ac1c0002row12_col1\" class=\"data row12 col1\" >0.000000</td>\n",
              "                        <td id=\"T_d68fd7e6_7ed7_11ec_8c3a_0242ac1c0002row12_col2\" class=\"data row12 col2\" >0.000000</td>\n",
              "                        <td id=\"T_d68fd7e6_7ed7_11ec_8c3a_0242ac1c0002row12_col3\" class=\"data row12 col3\" >0.000000</td>\n",
              "            </tr>\n",
              "            <tr>\n",
              "                        <th id=\"T_d68fd7e6_7ed7_11ec_8c3a_0242ac1c0002level0_row13\" class=\"row_heading level0 row13\" >13</th>\n",
              "                        <td id=\"T_d68fd7e6_7ed7_11ec_8c3a_0242ac1c0002row13_col0\" class=\"data row13 col0\" >n_estimators</td>\n",
              "                        <td id=\"T_d68fd7e6_7ed7_11ec_8c3a_0242ac1c0002row13_col1\" class=\"data row13 col1\" >100</td>\n",
              "                        <td id=\"T_d68fd7e6_7ed7_11ec_8c3a_0242ac1c0002row13_col2\" class=\"data row13 col2\" >100</td>\n",
              "                        <td id=\"T_d68fd7e6_7ed7_11ec_8c3a_0242ac1c0002row13_col3\" class=\"data row13 col3\" >100</td>\n",
              "            </tr>\n",
              "            <tr>\n",
              "                        <th id=\"T_d68fd7e6_7ed7_11ec_8c3a_0242ac1c0002level0_row14\" class=\"row_heading level0 row14\" >14</th>\n",
              "                        <td id=\"T_d68fd7e6_7ed7_11ec_8c3a_0242ac1c0002row14_col0\" class=\"data row14 col0\" >n_jobs</td>\n",
              "                        <td id=\"T_d68fd7e6_7ed7_11ec_8c3a_0242ac1c0002row14_col1\" class=\"data row14 col1\" >None</td>\n",
              "                        <td id=\"T_d68fd7e6_7ed7_11ec_8c3a_0242ac1c0002row14_col2\" class=\"data row14 col2\" >None</td>\n",
              "                        <td id=\"T_d68fd7e6_7ed7_11ec_8c3a_0242ac1c0002row14_col3\" class=\"data row14 col3\" >None</td>\n",
              "            </tr>\n",
              "            <tr>\n",
              "                        <th id=\"T_d68fd7e6_7ed7_11ec_8c3a_0242ac1c0002level0_row15\" class=\"row_heading level0 row15\" >15</th>\n",
              "                        <td id=\"T_d68fd7e6_7ed7_11ec_8c3a_0242ac1c0002row15_col0\" class=\"data row15 col0\" >oob_score</td>\n",
              "                        <td id=\"T_d68fd7e6_7ed7_11ec_8c3a_0242ac1c0002row15_col1\" class=\"data row15 col1\" >False</td>\n",
              "                        <td id=\"T_d68fd7e6_7ed7_11ec_8c3a_0242ac1c0002row15_col2\" class=\"data row15 col2\" >False</td>\n",
              "                        <td id=\"T_d68fd7e6_7ed7_11ec_8c3a_0242ac1c0002row15_col3\" class=\"data row15 col3\" >False</td>\n",
              "            </tr>\n",
              "            <tr>\n",
              "                        <th id=\"T_d68fd7e6_7ed7_11ec_8c3a_0242ac1c0002level0_row16\" class=\"row_heading level0 row16\" >16</th>\n",
              "                        <td id=\"T_d68fd7e6_7ed7_11ec_8c3a_0242ac1c0002row16_col0\" class=\"data row16 col0\" >random_state</td>\n",
              "                        <td id=\"T_d68fd7e6_7ed7_11ec_8c3a_0242ac1c0002row16_col1\" class=\"data row16 col1\" >None</td>\n",
              "                        <td id=\"T_d68fd7e6_7ed7_11ec_8c3a_0242ac1c0002row16_col2\" class=\"data row16 col2\" >None</td>\n",
              "                        <td id=\"T_d68fd7e6_7ed7_11ec_8c3a_0242ac1c0002row16_col3\" class=\"data row16 col3\" >None</td>\n",
              "            </tr>\n",
              "            <tr>\n",
              "                        <th id=\"T_d68fd7e6_7ed7_11ec_8c3a_0242ac1c0002level0_row17\" class=\"row_heading level0 row17\" >17</th>\n",
              "                        <td id=\"T_d68fd7e6_7ed7_11ec_8c3a_0242ac1c0002row17_col0\" class=\"data row17 col0\" >verbose</td>\n",
              "                        <td id=\"T_d68fd7e6_7ed7_11ec_8c3a_0242ac1c0002row17_col1\" class=\"data row17 col1\" >0</td>\n",
              "                        <td id=\"T_d68fd7e6_7ed7_11ec_8c3a_0242ac1c0002row17_col2\" class=\"data row17 col2\" >0</td>\n",
              "                        <td id=\"T_d68fd7e6_7ed7_11ec_8c3a_0242ac1c0002row17_col3\" class=\"data row17 col3\" >0</td>\n",
              "            </tr>\n",
              "            <tr>\n",
              "                        <th id=\"T_d68fd7e6_7ed7_11ec_8c3a_0242ac1c0002level0_row18\" class=\"row_heading level0 row18\" >18</th>\n",
              "                        <td id=\"T_d68fd7e6_7ed7_11ec_8c3a_0242ac1c0002row18_col0\" class=\"data row18 col0\" >warm_start</td>\n",
              "                        <td id=\"T_d68fd7e6_7ed7_11ec_8c3a_0242ac1c0002row18_col1\" class=\"data row18 col1\" >False</td>\n",
              "                        <td id=\"T_d68fd7e6_7ed7_11ec_8c3a_0242ac1c0002row18_col2\" class=\"data row18 col2\" >False</td>\n",
              "                        <td id=\"T_d68fd7e6_7ed7_11ec_8c3a_0242ac1c0002row18_col3\" class=\"data row18 col3\" >False</td>\n",
              "            </tr>\n",
              "    </tbody></table>"
            ],
            "text/plain": [
              "<IPython.core.display.HTML object>"
            ]
          },
          "metadata": {}
        },
        {
          "output_type": "stream",
          "name": "stdout",
          "text": [
            "\n",
            "\n",
            "\n"
          ]
        }
      ]
    },
    {
      "cell_type": "code",
      "metadata": {
        "id": "tukB40NshcaB",
        "colab": {
          "base_uri": "https://localhost:8080/"
        },
        "outputId": "7e6d516e-b17d-4ee7-a76f-0392694d78aa"
      },
      "source": [
        "# Here are several classic ML architectures you can consider choosing from to experiment with next:\n",
        "from sklearn.neighbors import KNeighborsClassifier\n",
        "from sklearn.svm import SVC\n",
        "from sklearn.ensemble import RandomForestClassifier\n",
        "from sklearn.ensemble import BaggingClassifier\n",
        "from sklearn.ensemble import GradientBoostingClassifier\n",
        "\n",
        "#Example code to fit model:\n",
        "model = GradientBoostingClassifier(n_estimators=50, learning_rate=1.0,\n",
        "    max_depth=1, random_state=0).fit(preprocessor(X_train), y_train_labels)\n",
        "model.score(preprocessor(X_train), y_train_labels)\n",
        "\n",
        "# Save sklearn model to local ONNX file\n",
        "from aimodelshare.aimsonnx import model_to_onnx\n",
        "\n",
        "feature_count=preprocessor(X_test).shape[1] #Get count of preprocessed features\n",
        "initial_type = [('float_input', FloatTensorType([None, feature_count]))]  # Insert correct number of preprocessed features\n",
        "\n",
        "onnx_model = model_to_onnx(model, framework='sklearn',\n",
        "                          initial_types=initial_type,\n",
        "                          transfer_learning=False,\n",
        "                          deep_learning=False)\n",
        "\n",
        "with open(\"model.onnx\", \"wb\") as f:\n",
        "    f.write(onnx_model.SerializeToString())\n",
        "\n",
        "#-- Generate predicted values \n",
        "prediction_labels = model.predict(preprocessor(X_test))\n",
        "\n",
        "# Submit model to Competition Leaderboard\n",
        "mycompetition.submit_model(model_filepath = \"model.onnx\",\n",
        "                                 preprocessor_filepath=\"preprocessor.zip\",\n",
        "                                 prediction_submission=prediction_labels)\n"
      ],
      "execution_count": 23,
      "outputs": [
        {
          "output_type": "stream",
          "name": "stdout",
          "text": [
            "Insert search tags to help users find your model (optional): \n",
            "Provide any useful notes about your model (optional): \n",
            "\n",
            "Your model has been submitted as model version 5\n",
            "\n",
            "To submit code used to create this model or to view current leaderboard navigate to Model Playground: \n",
            "\n",
            " https://www.modelshare.org/detail/model:1289\n"
          ]
        }
      ]
    },
    {
      "cell_type": "code",
      "source": [
        "# Or you can experiment with deep learning models: \n",
        "import keras\n",
        "from keras.models import Sequential\n",
        "from keras.layers import Dense, Activation\n",
        "\n",
        "feature_count=preprocessor(X_train).shape[1] #count features in input data\n",
        "\n",
        "keras_model = Sequential()\n",
        "keras_model.add(Dense(128, input_dim=feature_count, activation='relu'))\n",
        "keras_model.add(Dense(64, activation='relu'))\n",
        "keras_model.add(Dense(64, activation='relu'))\n",
        "keras_model.add(Dense(32, activation='relu'))\n",
        "\n",
        "keras_model.add(Dense(5, activation='softmax')) \n",
        "                                            \n",
        "# Compile model\n",
        "keras_model.compile(loss='categorical_crossentropy', optimizer='sgd', metrics=['accuracy'])\n",
        "\n",
        "# Fitting the NN to the Training set\n",
        "keras_model.fit(preprocessor(X_train), y_train, ## Note that keras models require a one-hot-encoded y_train object\n",
        "               batch_size = 20, \n",
        "               epochs = 300, validation_split=0.25)  "
      ],
      "metadata": {
        "id": "Me2pkDUsuEBH"
      },
      "execution_count": null,
      "outputs": []
    },
    {
      "cell_type": "code",
      "source": [
        "# Save keras model to ONNX file \n",
        "\n",
        "from aimodelshare.aimsonnx import model_to_onnx\n",
        "\n",
        "onnx_model = model_to_onnx(keras_model, framework='keras',\n",
        "                          transfer_learning=False,\n",
        "                          deep_learning=True)\n",
        "\n",
        "with open(\"model.onnx\", \"wb\") as f:\n",
        "    f.write(onnx_model.SerializeToString())"
      ],
      "metadata": {
        "id": "XTJJ-T1luvXK"
      },
      "execution_count": 25,
      "outputs": []
    },
    {
      "cell_type": "code",
      "source": [
        "# Submit keras model: \n",
        "\n",
        "#-- Generate predicted y values\n",
        "#Note: Keras predict returns the predicted column index location for classification models\n",
        "prediction_column_index=keras_model.predict(preprocessor(X_test)).argmax(axis=1)\n",
        "\n",
        "# extract correct prediction labels \n",
        "prediction_labels = [y_train.columns[i] for i in prediction_column_index]\n",
        "\n",
        "# Submit Model 1 to Competition Leaderboard\n",
        "mycompetition.submit_model(model_filepath = \"model.onnx\",\n",
        "                                 preprocessor_filepath=\"preprocessor.zip\",\n",
        "                                 prediction_submission=prediction_labels)"
      ],
      "metadata": {
        "colab": {
          "base_uri": "https://localhost:8080/"
        },
        "id": "M_uMRKnGu-wC",
        "outputId": "6b2aff5e-9875-47db-d133-4bb235795598"
      },
      "execution_count": 26,
      "outputs": [
        {
          "output_type": "stream",
          "name": "stdout",
          "text": [
            "Insert search tags to help users find your model (optional): \n",
            "Provide any useful notes about your model (optional): \n",
            "\n",
            "Your model has been submitted as model version 6\n",
            "\n",
            "To submit code used to create this model or to view current leaderboard navigate to Model Playground: \n",
            "\n",
            " https://www.modelshare.org/detail/model:1289\n"
          ]
        }
      ]
    },
    {
      "cell_type": "code",
      "source": [
        "# Check leaderboard \n",
        "\n",
        "data = mycompetition.get_leaderboard()\n",
        "mycompetition.stylize_leaderboard(data)"
      ],
      "metadata": {
        "colab": {
          "base_uri": "https://localhost:8080/",
          "height": 366
        },
        "id": "iJx55KPXu4DI",
        "outputId": "2dda44f4-b649-4cbb-ddaa-5a7d90a6c055"
      },
      "execution_count": 27,
      "outputs": [
        {
          "output_type": "execute_result",
          "data": {
            "text/html": [
              "<style  type=\"text/css\" >\n",
              "#T_0f90566a_7ed8_11ec_8c3a_0242ac1c0002row0_col0{\n",
              "            text-align:  center;\n",
              "            width:  10em;\n",
              "             height:  80%;\n",
              "            background:  linear-gradient(90deg,#f5f8d6 53.8%, transparent 53.8%);\n",
              "            color:  #251e1b;\n",
              "            font-size:  12px;\n",
              "        }#T_0f90566a_7ed8_11ec_8c3a_0242ac1c0002row0_col1{\n",
              "            text-align:  center;\n",
              "            width:  10em;\n",
              "             height:  80%;\n",
              "            background:  linear-gradient(90deg,#c778c8 53.6%, transparent 53.6%);\n",
              "            color:  #251e1b;\n",
              "            font-size:  12px;\n",
              "        }#T_0f90566a_7ed8_11ec_8c3a_0242ac1c0002row0_col2{\n",
              "            text-align:  center;\n",
              "            width:  10em;\n",
              "             height:  80%;\n",
              "            background:  linear-gradient(90deg,#ff4971 57.9%, transparent 57.9%);\n",
              "            color:  #251e1b;\n",
              "            font-size:  12px;\n",
              "        }#T_0f90566a_7ed8_11ec_8c3a_0242ac1c0002row0_col3{\n",
              "            text-align:  center;\n",
              "            width:  10em;\n",
              "             height:  80%;\n",
              "            background:  linear-gradient(90deg,#aadbaa 53.7%, transparent 53.7%);\n",
              "            color:  #251e1b;\n",
              "            font-size:  12px;\n",
              "        }#T_0f90566a_7ed8_11ec_8c3a_0242ac1c0002row0_col4,#T_0f90566a_7ed8_11ec_8c3a_0242ac1c0002row0_col5,#T_0f90566a_7ed8_11ec_8c3a_0242ac1c0002row0_col6,#T_0f90566a_7ed8_11ec_8c3a_0242ac1c0002row0_col7,#T_0f90566a_7ed8_11ec_8c3a_0242ac1c0002row0_col8,#T_0f90566a_7ed8_11ec_8c3a_0242ac1c0002row0_col9,#T_0f90566a_7ed8_11ec_8c3a_0242ac1c0002row0_col10,#T_0f90566a_7ed8_11ec_8c3a_0242ac1c0002row0_col11,#T_0f90566a_7ed8_11ec_8c3a_0242ac1c0002row0_col12,#T_0f90566a_7ed8_11ec_8c3a_0242ac1c0002row0_col13,#T_0f90566a_7ed8_11ec_8c3a_0242ac1c0002row0_col14,#T_0f90566a_7ed8_11ec_8c3a_0242ac1c0002row0_col15,#T_0f90566a_7ed8_11ec_8c3a_0242ac1c0002row0_col16,#T_0f90566a_7ed8_11ec_8c3a_0242ac1c0002row0_col17,#T_0f90566a_7ed8_11ec_8c3a_0242ac1c0002row0_col18,#T_0f90566a_7ed8_11ec_8c3a_0242ac1c0002row1_col4,#T_0f90566a_7ed8_11ec_8c3a_0242ac1c0002row1_col5,#T_0f90566a_7ed8_11ec_8c3a_0242ac1c0002row1_col6,#T_0f90566a_7ed8_11ec_8c3a_0242ac1c0002row1_col7,#T_0f90566a_7ed8_11ec_8c3a_0242ac1c0002row1_col8,#T_0f90566a_7ed8_11ec_8c3a_0242ac1c0002row1_col9,#T_0f90566a_7ed8_11ec_8c3a_0242ac1c0002row1_col10,#T_0f90566a_7ed8_11ec_8c3a_0242ac1c0002row1_col11,#T_0f90566a_7ed8_11ec_8c3a_0242ac1c0002row1_col12,#T_0f90566a_7ed8_11ec_8c3a_0242ac1c0002row1_col13,#T_0f90566a_7ed8_11ec_8c3a_0242ac1c0002row1_col14,#T_0f90566a_7ed8_11ec_8c3a_0242ac1c0002row1_col15,#T_0f90566a_7ed8_11ec_8c3a_0242ac1c0002row1_col16,#T_0f90566a_7ed8_11ec_8c3a_0242ac1c0002row1_col17,#T_0f90566a_7ed8_11ec_8c3a_0242ac1c0002row1_col18,#T_0f90566a_7ed8_11ec_8c3a_0242ac1c0002row2_col4,#T_0f90566a_7ed8_11ec_8c3a_0242ac1c0002row2_col5,#T_0f90566a_7ed8_11ec_8c3a_0242ac1c0002row2_col6,#T_0f90566a_7ed8_11ec_8c3a_0242ac1c0002row2_col7,#T_0f90566a_7ed8_11ec_8c3a_0242ac1c0002row2_col8,#T_0f90566a_7ed8_11ec_8c3a_0242ac1c0002row2_col9,#T_0f90566a_7ed8_11ec_8c3a_0242ac1c0002row2_col10,#T_0f90566a_7ed8_11ec_8c3a_0242ac1c0002row2_col11,#T_0f90566a_7ed8_11ec_8c3a_0242ac1c0002row2_col12,#T_0f90566a_7ed8_11ec_8c3a_0242ac1c0002row2_col13,#T_0f90566a_7ed8_11ec_8c3a_0242ac1c0002row2_col14,#T_0f90566a_7ed8_11ec_8c3a_0242ac1c0002row2_col15,#T_0f90566a_7ed8_11ec_8c3a_0242ac1c0002row2_col16,#T_0f90566a_7ed8_11ec_8c3a_0242ac1c0002row2_col17,#T_0f90566a_7ed8_11ec_8c3a_0242ac1c0002row2_col18,#T_0f90566a_7ed8_11ec_8c3a_0242ac1c0002row3_col4,#T_0f90566a_7ed8_11ec_8c3a_0242ac1c0002row3_col5,#T_0f90566a_7ed8_11ec_8c3a_0242ac1c0002row3_col6,#T_0f90566a_7ed8_11ec_8c3a_0242ac1c0002row3_col7,#T_0f90566a_7ed8_11ec_8c3a_0242ac1c0002row3_col8,#T_0f90566a_7ed8_11ec_8c3a_0242ac1c0002row3_col9,#T_0f90566a_7ed8_11ec_8c3a_0242ac1c0002row3_col10,#T_0f90566a_7ed8_11ec_8c3a_0242ac1c0002row3_col11,#T_0f90566a_7ed8_11ec_8c3a_0242ac1c0002row3_col12,#T_0f90566a_7ed8_11ec_8c3a_0242ac1c0002row3_col13,#T_0f90566a_7ed8_11ec_8c3a_0242ac1c0002row3_col14,#T_0f90566a_7ed8_11ec_8c3a_0242ac1c0002row3_col15,#T_0f90566a_7ed8_11ec_8c3a_0242ac1c0002row3_col16,#T_0f90566a_7ed8_11ec_8c3a_0242ac1c0002row3_col17,#T_0f90566a_7ed8_11ec_8c3a_0242ac1c0002row3_col18,#T_0f90566a_7ed8_11ec_8c3a_0242ac1c0002row4_col4,#T_0f90566a_7ed8_11ec_8c3a_0242ac1c0002row4_col5,#T_0f90566a_7ed8_11ec_8c3a_0242ac1c0002row4_col6,#T_0f90566a_7ed8_11ec_8c3a_0242ac1c0002row4_col7,#T_0f90566a_7ed8_11ec_8c3a_0242ac1c0002row4_col8,#T_0f90566a_7ed8_11ec_8c3a_0242ac1c0002row4_col9,#T_0f90566a_7ed8_11ec_8c3a_0242ac1c0002row4_col10,#T_0f90566a_7ed8_11ec_8c3a_0242ac1c0002row4_col11,#T_0f90566a_7ed8_11ec_8c3a_0242ac1c0002row4_col12,#T_0f90566a_7ed8_11ec_8c3a_0242ac1c0002row4_col13,#T_0f90566a_7ed8_11ec_8c3a_0242ac1c0002row4_col14,#T_0f90566a_7ed8_11ec_8c3a_0242ac1c0002row4_col15,#T_0f90566a_7ed8_11ec_8c3a_0242ac1c0002row4_col16,#T_0f90566a_7ed8_11ec_8c3a_0242ac1c0002row4_col17,#T_0f90566a_7ed8_11ec_8c3a_0242ac1c0002row4_col18,#T_0f90566a_7ed8_11ec_8c3a_0242ac1c0002row5_col4,#T_0f90566a_7ed8_11ec_8c3a_0242ac1c0002row5_col5,#T_0f90566a_7ed8_11ec_8c3a_0242ac1c0002row5_col6,#T_0f90566a_7ed8_11ec_8c3a_0242ac1c0002row5_col7,#T_0f90566a_7ed8_11ec_8c3a_0242ac1c0002row5_col8,#T_0f90566a_7ed8_11ec_8c3a_0242ac1c0002row5_col9,#T_0f90566a_7ed8_11ec_8c3a_0242ac1c0002row5_col10,#T_0f90566a_7ed8_11ec_8c3a_0242ac1c0002row5_col11,#T_0f90566a_7ed8_11ec_8c3a_0242ac1c0002row5_col12,#T_0f90566a_7ed8_11ec_8c3a_0242ac1c0002row5_col13,#T_0f90566a_7ed8_11ec_8c3a_0242ac1c0002row5_col14,#T_0f90566a_7ed8_11ec_8c3a_0242ac1c0002row5_col15,#T_0f90566a_7ed8_11ec_8c3a_0242ac1c0002row5_col16,#T_0f90566a_7ed8_11ec_8c3a_0242ac1c0002row5_col17,#T_0f90566a_7ed8_11ec_8c3a_0242ac1c0002row5_col18{\n",
              "            text-align:  center;\n",
              "        }#T_0f90566a_7ed8_11ec_8c3a_0242ac1c0002row1_col0{\n",
              "            text-align:  center;\n",
              "            width:  10em;\n",
              "             height:  80%;\n",
              "            background:  linear-gradient(90deg,#f5f8d6 51.9%, transparent 51.9%);\n",
              "            color:  #251e1b;\n",
              "            font-size:  12px;\n",
              "        }#T_0f90566a_7ed8_11ec_8c3a_0242ac1c0002row1_col1{\n",
              "            text-align:  center;\n",
              "            width:  10em;\n",
              "             height:  80%;\n",
              "            background:  linear-gradient(90deg,#c778c8 51.4%, transparent 51.4%);\n",
              "            color:  #251e1b;\n",
              "            font-size:  12px;\n",
              "        }#T_0f90566a_7ed8_11ec_8c3a_0242ac1c0002row1_col2{\n",
              "            text-align:  center;\n",
              "            width:  10em;\n",
              "             height:  80%;\n",
              "            background:  linear-gradient(90deg,#ff4971 54.4%, transparent 54.4%);\n",
              "            color:  #251e1b;\n",
              "            font-size:  12px;\n",
              "        }#T_0f90566a_7ed8_11ec_8c3a_0242ac1c0002row1_col3{\n",
              "            text-align:  center;\n",
              "            width:  10em;\n",
              "             height:  80%;\n",
              "            background:  linear-gradient(90deg,#aadbaa 52.2%, transparent 52.2%);\n",
              "            color:  #251e1b;\n",
              "            font-size:  12px;\n",
              "        }#T_0f90566a_7ed8_11ec_8c3a_0242ac1c0002row2_col0{\n",
              "            text-align:  center;\n",
              "            width:  10em;\n",
              "             height:  80%;\n",
              "            background:  linear-gradient(90deg,#f5f8d6 50.0%, transparent 50.0%);\n",
              "            color:  #251e1b;\n",
              "            font-size:  12px;\n",
              "        }#T_0f90566a_7ed8_11ec_8c3a_0242ac1c0002row2_col1{\n",
              "            text-align:  center;\n",
              "            width:  10em;\n",
              "             height:  80%;\n",
              "            background:  linear-gradient(90deg,#c778c8 50.1%, transparent 50.1%);\n",
              "            color:  #251e1b;\n",
              "            font-size:  12px;\n",
              "        }#T_0f90566a_7ed8_11ec_8c3a_0242ac1c0002row2_col2{\n",
              "            text-align:  center;\n",
              "            width:  10em;\n",
              "             height:  80%;\n",
              "            background:  linear-gradient(90deg,#ff4971 56.0%, transparent 56.0%);\n",
              "            color:  #251e1b;\n",
              "            font-size:  12px;\n",
              "        }#T_0f90566a_7ed8_11ec_8c3a_0242ac1c0002row2_col3{\n",
              "            text-align:  center;\n",
              "            width:  10em;\n",
              "             height:  80%;\n",
              "            background:  linear-gradient(90deg,#aadbaa 50.8%, transparent 50.8%);\n",
              "            color:  #251e1b;\n",
              "            font-size:  12px;\n",
              "        }#T_0f90566a_7ed8_11ec_8c3a_0242ac1c0002row3_col0,#T_0f90566a_7ed8_11ec_8c3a_0242ac1c0002row5_col0{\n",
              "            text-align:  center;\n",
              "            width:  10em;\n",
              "             height:  80%;\n",
              "            background:  linear-gradient(90deg,#f5f8d6 46.2%, transparent 46.2%);\n",
              "            color:  #251e1b;\n",
              "            font-size:  12px;\n",
              "        }#T_0f90566a_7ed8_11ec_8c3a_0242ac1c0002row3_col1{\n",
              "            text-align:  center;\n",
              "            width:  10em;\n",
              "             height:  80%;\n",
              "            background:  linear-gradient(90deg,#c778c8 46.0%, transparent 46.0%);\n",
              "            color:  #251e1b;\n",
              "            font-size:  12px;\n",
              "        }#T_0f90566a_7ed8_11ec_8c3a_0242ac1c0002row3_col2{\n",
              "            text-align:  center;\n",
              "            width:  10em;\n",
              "             height:  80%;\n",
              "            background:  linear-gradient(90deg,#ff4971 51.8%, transparent 51.8%);\n",
              "            color:  #251e1b;\n",
              "            font-size:  12px;\n",
              "        }#T_0f90566a_7ed8_11ec_8c3a_0242ac1c0002row3_col3{\n",
              "            text-align:  center;\n",
              "            width:  10em;\n",
              "             height:  80%;\n",
              "            background:  linear-gradient(90deg,#aadbaa 46.8%, transparent 46.8%);\n",
              "            color:  #251e1b;\n",
              "            font-size:  12px;\n",
              "        }#T_0f90566a_7ed8_11ec_8c3a_0242ac1c0002row4_col0{\n",
              "            text-align:  center;\n",
              "            width:  10em;\n",
              "             height:  80%;\n",
              "            background:  linear-gradient(90deg,#f5f8d6 44.2%, transparent 44.2%);\n",
              "            color:  #251e1b;\n",
              "            font-size:  12px;\n",
              "        }#T_0f90566a_7ed8_11ec_8c3a_0242ac1c0002row4_col1{\n",
              "            text-align:  center;\n",
              "            width:  10em;\n",
              "             height:  80%;\n",
              "            background:  linear-gradient(90deg,#c778c8 43.3%, transparent 43.3%);\n",
              "            color:  #251e1b;\n",
              "            font-size:  12px;\n",
              "        }#T_0f90566a_7ed8_11ec_8c3a_0242ac1c0002row4_col2{\n",
              "            text-align:  center;\n",
              "            width:  10em;\n",
              "             height:  80%;\n",
              "            background:  linear-gradient(90deg,#ff4971 49.8%, transparent 49.8%);\n",
              "            color:  #251e1b;\n",
              "            font-size:  12px;\n",
              "        }#T_0f90566a_7ed8_11ec_8c3a_0242ac1c0002row4_col3{\n",
              "            text-align:  center;\n",
              "            width:  10em;\n",
              "             height:  80%;\n",
              "            background:  linear-gradient(90deg,#aadbaa 46.3%, transparent 46.3%);\n",
              "            color:  #251e1b;\n",
              "            font-size:  12px;\n",
              "        }#T_0f90566a_7ed8_11ec_8c3a_0242ac1c0002row5_col1{\n",
              "            text-align:  center;\n",
              "            width:  10em;\n",
              "             height:  80%;\n",
              "            background:  linear-gradient(90deg,#c778c8 45.0%, transparent 45.0%);\n",
              "            color:  #251e1b;\n",
              "            font-size:  12px;\n",
              "        }#T_0f90566a_7ed8_11ec_8c3a_0242ac1c0002row5_col2{\n",
              "            text-align:  center;\n",
              "            width:  10em;\n",
              "             height:  80%;\n",
              "            background:  linear-gradient(90deg,#ff4971 49.4%, transparent 49.4%);\n",
              "            color:  #251e1b;\n",
              "            font-size:  12px;\n",
              "        }#T_0f90566a_7ed8_11ec_8c3a_0242ac1c0002row5_col3{\n",
              "            text-align:  center;\n",
              "            width:  10em;\n",
              "             height:  80%;\n",
              "            background:  linear-gradient(90deg,#aadbaa 45.8%, transparent 45.8%);\n",
              "            color:  #251e1b;\n",
              "            font-size:  12px;\n",
              "        }</style><table id=\"T_0f90566a_7ed8_11ec_8c3a_0242ac1c0002\" class=\"dataframe\"><thead>    <tr>        <th class=\"blank level0\" ></th>        <th class=\"col_heading level0 col0\" >accuracy</th>        <th class=\"col_heading level0 col1\" >f1_score</th>        <th class=\"col_heading level0 col2\" >precision</th>        <th class=\"col_heading level0 col3\" >recall</th>        <th class=\"col_heading level0 col4\" >ml_framework</th>        <th class=\"col_heading level0 col5\" >transfer_learning</th>        <th class=\"col_heading level0 col6\" >deep_learning</th>        <th class=\"col_heading level0 col7\" >model_type</th>        <th class=\"col_heading level0 col8\" >depth</th>        <th class=\"col_heading level0 col9\" >num_params</th>        <th class=\"col_heading level0 col10\" >dense_layers</th>        <th class=\"col_heading level0 col11\" >softmax_act</th>        <th class=\"col_heading level0 col12\" >relu_act</th>        <th class=\"col_heading level0 col13\" >loss</th>        <th class=\"col_heading level0 col14\" >optimizer</th>        <th class=\"col_heading level0 col15\" >model_config</th>        <th class=\"col_heading level0 col16\" >memory_size</th>        <th class=\"col_heading level0 col17\" >username</th>        <th class=\"col_heading level0 col18\" >version</th>    </tr></thead><tbody>\n",
              "                <tr>\n",
              "                        <th id=\"T_0f90566a_7ed8_11ec_8c3a_0242ac1c0002level0_row0\" class=\"row_heading level0 row0\" >0</th>\n",
              "                        <td id=\"T_0f90566a_7ed8_11ec_8c3a_0242ac1c0002row0_col0\" class=\"data row0 col0\" >53.85%</td>\n",
              "                        <td id=\"T_0f90566a_7ed8_11ec_8c3a_0242ac1c0002row0_col1\" class=\"data row0 col1\" >53.62%</td>\n",
              "                        <td id=\"T_0f90566a_7ed8_11ec_8c3a_0242ac1c0002row0_col2\" class=\"data row0 col2\" >57.92%</td>\n",
              "                        <td id=\"T_0f90566a_7ed8_11ec_8c3a_0242ac1c0002row0_col3\" class=\"data row0 col3\" >53.67%</td>\n",
              "                        <td id=\"T_0f90566a_7ed8_11ec_8c3a_0242ac1c0002row0_col4\" class=\"data row0 col4\" >sklearn</td>\n",
              "                        <td id=\"T_0f90566a_7ed8_11ec_8c3a_0242ac1c0002row0_col5\" class=\"data row0 col5\" >False</td>\n",
              "                        <td id=\"T_0f90566a_7ed8_11ec_8c3a_0242ac1c0002row0_col6\" class=\"data row0 col6\" >False</td>\n",
              "                        <td id=\"T_0f90566a_7ed8_11ec_8c3a_0242ac1c0002row0_col7\" class=\"data row0 col7\" >GradientBoostingClassifier</td>\n",
              "                        <td id=\"T_0f90566a_7ed8_11ec_8c3a_0242ac1c0002row0_col8\" class=\"data row0 col8\" >nan</td>\n",
              "                        <td id=\"T_0f90566a_7ed8_11ec_8c3a_0242ac1c0002row0_col9\" class=\"data row0 col9\" >nan</td>\n",
              "                        <td id=\"T_0f90566a_7ed8_11ec_8c3a_0242ac1c0002row0_col10\" class=\"data row0 col10\" >nan</td>\n",
              "                        <td id=\"T_0f90566a_7ed8_11ec_8c3a_0242ac1c0002row0_col11\" class=\"data row0 col11\" >nan</td>\n",
              "                        <td id=\"T_0f90566a_7ed8_11ec_8c3a_0242ac1c0002row0_col12\" class=\"data row0 col12\" >nan</td>\n",
              "                        <td id=\"T_0f90566a_7ed8_11ec_8c3a_0242ac1c0002row0_col13\" class=\"data row0 col13\" >nan</td>\n",
              "                        <td id=\"T_0f90566a_7ed8_11ec_8c3a_0242ac1c0002row0_col14\" class=\"data row0 col14\" >nan</td>\n",
              "                        <td id=\"T_0f90566a_7ed8_11ec_8c3a_0242ac1c0002row0_col15\" class=\"data row0 col15\" >{'ccp_alpha': 0.0, 'criterion'...</td>\n",
              "                        <td id=\"T_0f90566a_7ed8_11ec_8c3a_0242ac1c0002row0_col16\" class=\"data row0 col16\" >nan</td>\n",
              "                        <td id=\"T_0f90566a_7ed8_11ec_8c3a_0242ac1c0002row0_col17\" class=\"data row0 col17\" >AdvProjectsinML</td>\n",
              "                        <td id=\"T_0f90566a_7ed8_11ec_8c3a_0242ac1c0002row0_col18\" class=\"data row0 col18\" >5</td>\n",
              "            </tr>\n",
              "            <tr>\n",
              "                        <th id=\"T_0f90566a_7ed8_11ec_8c3a_0242ac1c0002level0_row1\" class=\"row_heading level0 row1\" >1</th>\n",
              "                        <td id=\"T_0f90566a_7ed8_11ec_8c3a_0242ac1c0002row1_col0\" class=\"data row1 col0\" >51.92%</td>\n",
              "                        <td id=\"T_0f90566a_7ed8_11ec_8c3a_0242ac1c0002row1_col1\" class=\"data row1 col1\" >51.35%</td>\n",
              "                        <td id=\"T_0f90566a_7ed8_11ec_8c3a_0242ac1c0002row1_col2\" class=\"data row1 col2\" >54.37%</td>\n",
              "                        <td id=\"T_0f90566a_7ed8_11ec_8c3a_0242ac1c0002row1_col3\" class=\"data row1 col3\" >52.20%</td>\n",
              "                        <td id=\"T_0f90566a_7ed8_11ec_8c3a_0242ac1c0002row1_col4\" class=\"data row1 col4\" >keras</td>\n",
              "                        <td id=\"T_0f90566a_7ed8_11ec_8c3a_0242ac1c0002row1_col5\" class=\"data row1 col5\" >False</td>\n",
              "                        <td id=\"T_0f90566a_7ed8_11ec_8c3a_0242ac1c0002row1_col6\" class=\"data row1 col6\" >True</td>\n",
              "                        <td id=\"T_0f90566a_7ed8_11ec_8c3a_0242ac1c0002row1_col7\" class=\"data row1 col7\" >Sequential</td>\n",
              "                        <td id=\"T_0f90566a_7ed8_11ec_8c3a_0242ac1c0002row1_col8\" class=\"data row1 col8\" >5.000000</td>\n",
              "                        <td id=\"T_0f90566a_7ed8_11ec_8c3a_0242ac1c0002row1_col9\" class=\"data row1 col9\" >18117.000000</td>\n",
              "                        <td id=\"T_0f90566a_7ed8_11ec_8c3a_0242ac1c0002row1_col10\" class=\"data row1 col10\" >5.000000</td>\n",
              "                        <td id=\"T_0f90566a_7ed8_11ec_8c3a_0242ac1c0002row1_col11\" class=\"data row1 col11\" >1.000000</td>\n",
              "                        <td id=\"T_0f90566a_7ed8_11ec_8c3a_0242ac1c0002row1_col12\" class=\"data row1 col12\" >4.000000</td>\n",
              "                        <td id=\"T_0f90566a_7ed8_11ec_8c3a_0242ac1c0002row1_col13\" class=\"data row1 col13\" >str</td>\n",
              "                        <td id=\"T_0f90566a_7ed8_11ec_8c3a_0242ac1c0002row1_col14\" class=\"data row1 col14\" >SGD</td>\n",
              "                        <td id=\"T_0f90566a_7ed8_11ec_8c3a_0242ac1c0002row1_col15\" class=\"data row1 col15\" >{'name': 'sequential', 'layers...</td>\n",
              "                        <td id=\"T_0f90566a_7ed8_11ec_8c3a_0242ac1c0002row1_col16\" class=\"data row1 col16\" >1461312.000000</td>\n",
              "                        <td id=\"T_0f90566a_7ed8_11ec_8c3a_0242ac1c0002row1_col17\" class=\"data row1 col17\" >AdvProjectsinML</td>\n",
              "                        <td id=\"T_0f90566a_7ed8_11ec_8c3a_0242ac1c0002row1_col18\" class=\"data row1 col18\" >6</td>\n",
              "            </tr>\n",
              "            <tr>\n",
              "                        <th id=\"T_0f90566a_7ed8_11ec_8c3a_0242ac1c0002level0_row2\" class=\"row_heading level0 row2\" >2</th>\n",
              "                        <td id=\"T_0f90566a_7ed8_11ec_8c3a_0242ac1c0002row2_col0\" class=\"data row2 col0\" >50.00%</td>\n",
              "                        <td id=\"T_0f90566a_7ed8_11ec_8c3a_0242ac1c0002row2_col1\" class=\"data row2 col1\" >50.11%</td>\n",
              "                        <td id=\"T_0f90566a_7ed8_11ec_8c3a_0242ac1c0002row2_col2\" class=\"data row2 col2\" >55.99%</td>\n",
              "                        <td id=\"T_0f90566a_7ed8_11ec_8c3a_0242ac1c0002row2_col3\" class=\"data row2 col3\" >50.83%</td>\n",
              "                        <td id=\"T_0f90566a_7ed8_11ec_8c3a_0242ac1c0002row2_col4\" class=\"data row2 col4\" >sklearn</td>\n",
              "                        <td id=\"T_0f90566a_7ed8_11ec_8c3a_0242ac1c0002row2_col5\" class=\"data row2 col5\" >False</td>\n",
              "                        <td id=\"T_0f90566a_7ed8_11ec_8c3a_0242ac1c0002row2_col6\" class=\"data row2 col6\" >False</td>\n",
              "                        <td id=\"T_0f90566a_7ed8_11ec_8c3a_0242ac1c0002row2_col7\" class=\"data row2 col7\" >RandomForestClassifier</td>\n",
              "                        <td id=\"T_0f90566a_7ed8_11ec_8c3a_0242ac1c0002row2_col8\" class=\"data row2 col8\" >nan</td>\n",
              "                        <td id=\"T_0f90566a_7ed8_11ec_8c3a_0242ac1c0002row2_col9\" class=\"data row2 col9\" >nan</td>\n",
              "                        <td id=\"T_0f90566a_7ed8_11ec_8c3a_0242ac1c0002row2_col10\" class=\"data row2 col10\" >nan</td>\n",
              "                        <td id=\"T_0f90566a_7ed8_11ec_8c3a_0242ac1c0002row2_col11\" class=\"data row2 col11\" >nan</td>\n",
              "                        <td id=\"T_0f90566a_7ed8_11ec_8c3a_0242ac1c0002row2_col12\" class=\"data row2 col12\" >nan</td>\n",
              "                        <td id=\"T_0f90566a_7ed8_11ec_8c3a_0242ac1c0002row2_col13\" class=\"data row2 col13\" >nan</td>\n",
              "                        <td id=\"T_0f90566a_7ed8_11ec_8c3a_0242ac1c0002row2_col14\" class=\"data row2 col14\" >nan</td>\n",
              "                        <td id=\"T_0f90566a_7ed8_11ec_8c3a_0242ac1c0002row2_col15\" class=\"data row2 col15\" >{'bootstrap': True, 'ccp_alpha...</td>\n",
              "                        <td id=\"T_0f90566a_7ed8_11ec_8c3a_0242ac1c0002row2_col16\" class=\"data row2 col16\" >nan</td>\n",
              "                        <td id=\"T_0f90566a_7ed8_11ec_8c3a_0242ac1c0002row2_col17\" class=\"data row2 col17\" >AdvProjectsinML</td>\n",
              "                        <td id=\"T_0f90566a_7ed8_11ec_8c3a_0242ac1c0002row2_col18\" class=\"data row2 col18\" >3</td>\n",
              "            </tr>\n",
              "            <tr>\n",
              "                        <th id=\"T_0f90566a_7ed8_11ec_8c3a_0242ac1c0002level0_row3\" class=\"row_heading level0 row3\" >3</th>\n",
              "                        <td id=\"T_0f90566a_7ed8_11ec_8c3a_0242ac1c0002row3_col0\" class=\"data row3 col0\" >46.15%</td>\n",
              "                        <td id=\"T_0f90566a_7ed8_11ec_8c3a_0242ac1c0002row3_col1\" class=\"data row3 col1\" >46.02%</td>\n",
              "                        <td id=\"T_0f90566a_7ed8_11ec_8c3a_0242ac1c0002row3_col2\" class=\"data row3 col2\" >51.79%</td>\n",
              "                        <td id=\"T_0f90566a_7ed8_11ec_8c3a_0242ac1c0002row3_col3\" class=\"data row3 col3\" >46.83%</td>\n",
              "                        <td id=\"T_0f90566a_7ed8_11ec_8c3a_0242ac1c0002row3_col4\" class=\"data row3 col4\" >sklearn</td>\n",
              "                        <td id=\"T_0f90566a_7ed8_11ec_8c3a_0242ac1c0002row3_col5\" class=\"data row3 col5\" >False</td>\n",
              "                        <td id=\"T_0f90566a_7ed8_11ec_8c3a_0242ac1c0002row3_col6\" class=\"data row3 col6\" >False</td>\n",
              "                        <td id=\"T_0f90566a_7ed8_11ec_8c3a_0242ac1c0002row3_col7\" class=\"data row3 col7\" >RandomForestClassifier</td>\n",
              "                        <td id=\"T_0f90566a_7ed8_11ec_8c3a_0242ac1c0002row3_col8\" class=\"data row3 col8\" >nan</td>\n",
              "                        <td id=\"T_0f90566a_7ed8_11ec_8c3a_0242ac1c0002row3_col9\" class=\"data row3 col9\" >nan</td>\n",
              "                        <td id=\"T_0f90566a_7ed8_11ec_8c3a_0242ac1c0002row3_col10\" class=\"data row3 col10\" >nan</td>\n",
              "                        <td id=\"T_0f90566a_7ed8_11ec_8c3a_0242ac1c0002row3_col11\" class=\"data row3 col11\" >nan</td>\n",
              "                        <td id=\"T_0f90566a_7ed8_11ec_8c3a_0242ac1c0002row3_col12\" class=\"data row3 col12\" >nan</td>\n",
              "                        <td id=\"T_0f90566a_7ed8_11ec_8c3a_0242ac1c0002row3_col13\" class=\"data row3 col13\" >nan</td>\n",
              "                        <td id=\"T_0f90566a_7ed8_11ec_8c3a_0242ac1c0002row3_col14\" class=\"data row3 col14\" >nan</td>\n",
              "                        <td id=\"T_0f90566a_7ed8_11ec_8c3a_0242ac1c0002row3_col15\" class=\"data row3 col15\" >{'bootstrap': True, 'ccp_alpha...</td>\n",
              "                        <td id=\"T_0f90566a_7ed8_11ec_8c3a_0242ac1c0002row3_col16\" class=\"data row3 col16\" >nan</td>\n",
              "                        <td id=\"T_0f90566a_7ed8_11ec_8c3a_0242ac1c0002row3_col17\" class=\"data row3 col17\" >AdvProjectsinML</td>\n",
              "                        <td id=\"T_0f90566a_7ed8_11ec_8c3a_0242ac1c0002row3_col18\" class=\"data row3 col18\" >4</td>\n",
              "            </tr>\n",
              "            <tr>\n",
              "                        <th id=\"T_0f90566a_7ed8_11ec_8c3a_0242ac1c0002level0_row4\" class=\"row_heading level0 row4\" >5</th>\n",
              "                        <td id=\"T_0f90566a_7ed8_11ec_8c3a_0242ac1c0002row4_col0\" class=\"data row4 col0\" >44.23%</td>\n",
              "                        <td id=\"T_0f90566a_7ed8_11ec_8c3a_0242ac1c0002row4_col1\" class=\"data row4 col1\" >43.28%</td>\n",
              "                        <td id=\"T_0f90566a_7ed8_11ec_8c3a_0242ac1c0002row4_col2\" class=\"data row4 col2\" >49.76%</td>\n",
              "                        <td id=\"T_0f90566a_7ed8_11ec_8c3a_0242ac1c0002row4_col3\" class=\"data row4 col3\" >46.33%</td>\n",
              "                        <td id=\"T_0f90566a_7ed8_11ec_8c3a_0242ac1c0002row4_col4\" class=\"data row4 col4\" >sklearn</td>\n",
              "                        <td id=\"T_0f90566a_7ed8_11ec_8c3a_0242ac1c0002row4_col5\" class=\"data row4 col5\" >False</td>\n",
              "                        <td id=\"T_0f90566a_7ed8_11ec_8c3a_0242ac1c0002row4_col6\" class=\"data row4 col6\" >False</td>\n",
              "                        <td id=\"T_0f90566a_7ed8_11ec_8c3a_0242ac1c0002row4_col7\" class=\"data row4 col7\" >RandomForestClassifier</td>\n",
              "                        <td id=\"T_0f90566a_7ed8_11ec_8c3a_0242ac1c0002row4_col8\" class=\"data row4 col8\" >nan</td>\n",
              "                        <td id=\"T_0f90566a_7ed8_11ec_8c3a_0242ac1c0002row4_col9\" class=\"data row4 col9\" >nan</td>\n",
              "                        <td id=\"T_0f90566a_7ed8_11ec_8c3a_0242ac1c0002row4_col10\" class=\"data row4 col10\" >nan</td>\n",
              "                        <td id=\"T_0f90566a_7ed8_11ec_8c3a_0242ac1c0002row4_col11\" class=\"data row4 col11\" >nan</td>\n",
              "                        <td id=\"T_0f90566a_7ed8_11ec_8c3a_0242ac1c0002row4_col12\" class=\"data row4 col12\" >nan</td>\n",
              "                        <td id=\"T_0f90566a_7ed8_11ec_8c3a_0242ac1c0002row4_col13\" class=\"data row4 col13\" >nan</td>\n",
              "                        <td id=\"T_0f90566a_7ed8_11ec_8c3a_0242ac1c0002row4_col14\" class=\"data row4 col14\" >nan</td>\n",
              "                        <td id=\"T_0f90566a_7ed8_11ec_8c3a_0242ac1c0002row4_col15\" class=\"data row4 col15\" >{'bootstrap': True, 'ccp_alpha...</td>\n",
              "                        <td id=\"T_0f90566a_7ed8_11ec_8c3a_0242ac1c0002row4_col16\" class=\"data row4 col16\" >nan</td>\n",
              "                        <td id=\"T_0f90566a_7ed8_11ec_8c3a_0242ac1c0002row4_col17\" class=\"data row4 col17\" >AdvProjectsinML</td>\n",
              "                        <td id=\"T_0f90566a_7ed8_11ec_8c3a_0242ac1c0002row4_col18\" class=\"data row4 col18\" >2</td>\n",
              "            </tr>\n",
              "            <tr>\n",
              "                        <th id=\"T_0f90566a_7ed8_11ec_8c3a_0242ac1c0002level0_row5\" class=\"row_heading level0 row5\" >6</th>\n",
              "                        <td id=\"T_0f90566a_7ed8_11ec_8c3a_0242ac1c0002row5_col0\" class=\"data row5 col0\" >46.15%</td>\n",
              "                        <td id=\"T_0f90566a_7ed8_11ec_8c3a_0242ac1c0002row5_col1\" class=\"data row5 col1\" >45.04%</td>\n",
              "                        <td id=\"T_0f90566a_7ed8_11ec_8c3a_0242ac1c0002row5_col2\" class=\"data row5 col2\" >49.44%</td>\n",
              "                        <td id=\"T_0f90566a_7ed8_11ec_8c3a_0242ac1c0002row5_col3\" class=\"data row5 col3\" >45.85%</td>\n",
              "                        <td id=\"T_0f90566a_7ed8_11ec_8c3a_0242ac1c0002row5_col4\" class=\"data row5 col4\" >keras</td>\n",
              "                        <td id=\"T_0f90566a_7ed8_11ec_8c3a_0242ac1c0002row5_col5\" class=\"data row5 col5\" >False</td>\n",
              "                        <td id=\"T_0f90566a_7ed8_11ec_8c3a_0242ac1c0002row5_col6\" class=\"data row5 col6\" >True</td>\n",
              "                        <td id=\"T_0f90566a_7ed8_11ec_8c3a_0242ac1c0002row5_col7\" class=\"data row5 col7\" >Sequential</td>\n",
              "                        <td id=\"T_0f90566a_7ed8_11ec_8c3a_0242ac1c0002row5_col8\" class=\"data row5 col8\" >4.000000</td>\n",
              "                        <td id=\"T_0f90566a_7ed8_11ec_8c3a_0242ac1c0002row5_col9\" class=\"data row5 col9\" >10373.000000</td>\n",
              "                        <td id=\"T_0f90566a_7ed8_11ec_8c3a_0242ac1c0002row5_col10\" class=\"data row5 col10\" >4.000000</td>\n",
              "                        <td id=\"T_0f90566a_7ed8_11ec_8c3a_0242ac1c0002row5_col11\" class=\"data row5 col11\" >1.000000</td>\n",
              "                        <td id=\"T_0f90566a_7ed8_11ec_8c3a_0242ac1c0002row5_col12\" class=\"data row5 col12\" >3.000000</td>\n",
              "                        <td id=\"T_0f90566a_7ed8_11ec_8c3a_0242ac1c0002row5_col13\" class=\"data row5 col13\" >str</td>\n",
              "                        <td id=\"T_0f90566a_7ed8_11ec_8c3a_0242ac1c0002row5_col14\" class=\"data row5 col14\" >SGD</td>\n",
              "                        <td id=\"T_0f90566a_7ed8_11ec_8c3a_0242ac1c0002row5_col15\" class=\"data row5 col15\" >{'name': 'sequential', 'layers...</td>\n",
              "                        <td id=\"T_0f90566a_7ed8_11ec_8c3a_0242ac1c0002row5_col16\" class=\"data row5 col16\" >1369568.000000</td>\n",
              "                        <td id=\"T_0f90566a_7ed8_11ec_8c3a_0242ac1c0002row5_col17\" class=\"data row5 col17\" >AdvProjectsinML</td>\n",
              "                        <td id=\"T_0f90566a_7ed8_11ec_8c3a_0242ac1c0002row5_col18\" class=\"data row5 col18\" >1</td>\n",
              "            </tr>\n",
              "    </tbody></table>"
            ],
            "text/plain": [
              "<pandas.io.formats.style.Styler at 0x7f8811ff4b90>"
            ]
          },
          "metadata": {},
          "execution_count": 27
        }
      ]
    }
  ]
}