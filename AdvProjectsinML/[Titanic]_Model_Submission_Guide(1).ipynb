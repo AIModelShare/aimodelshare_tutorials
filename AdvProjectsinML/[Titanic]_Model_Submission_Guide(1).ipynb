{
  "nbformat": 4,
  "nbformat_minor": 0,
  "metadata": {
    "colab": {
      "name": "[Titanic] Model Submission Guide.ipynb",
      "provenance": [],
      "collapsed_sections": []
    },
    "kernelspec": {
      "name": "python3",
      "display_name": "Python 3"
    },
    "language_info": {
      "name": "python"
    }
  },
  "cells": [
    {
      "cell_type": "markdown",
      "source": [
        "<p align=\"center\"><img width=\"50%\" src=\"https://aimodelsharecontent.s3.amazonaws.com/aimodshare_banner.jpg\" /></p>\n",
        "\n",
        "\n",
        "---"
      ],
      "metadata": {
        "id": "ekczNcQxUpzT"
      }
    },
    {
      "cell_type": "markdown",
      "metadata": {
        "id": "JXxGTgJz152A"
      },
      "source": [
        "## Model Submission Guide: Titanic Survival Competition\n",
        "Let's share our models to a centralized leaderboard, so that we can collaborate and learn from the model experimentation process...\n",
        "\n",
        "**Instructions:**\n",
        "1.   Get data in and set up X_train / X_test / y_train\n",
        "2.   Preprocess data using Sklearn Column Transformer/ Write and Save Preprocessor function\n",
        "3. Fit model on preprocessed data and save preprocessor function and model \n",
        "4. Generate predictions from X_test data and submit model to competition\n",
        "5. Repeat submission process to improve place on leaderboard\n",
        "\n"
      ]
    },
    {
      "cell_type": "markdown",
      "metadata": {
        "id": "5gSrVJwp3E9H"
      },
      "source": [
        "## 1. Get data in and set up X_train, X_test, y_train objects"
      ]
    },
    {
      "cell_type": "code",
      "metadata": {
        "id": "PLTIaMB3ChSW"
      },
      "source": [
        "#install aimodelshare library\n",
        "! pip install aimodelshare --upgrade"
      ],
      "execution_count": null,
      "outputs": []
    },
    {
      "cell_type": "code",
      "metadata": {
        "colab": {
          "base_uri": "https://localhost:8080/"
        },
        "id": "d3PiJXBhC5y-",
        "outputId": "76169de9-c879-44ff-dd5f-1dacf247e6dd"
      },
      "source": [
        "# Get competition data\n",
        "from aimodelshare import download_data\n",
        "download_data('public.ecr.aws/y2e2a1d6/titanic_competition_data-repository:v1') "
      ],
      "execution_count": 2,
      "outputs": [
        {
          "output_type": "stream",
          "name": "stdout",
          "text": [
            "Downloading [>                                                ]\n",
            "\n",
            "Data downloaded successfully.\n"
          ]
        }
      ]
    },
    {
      "cell_type": "code",
      "metadata": {
        "colab": {
          "base_uri": "https://localhost:8080/",
          "height": 169
        },
        "id": "jT0qFCZFNzHq",
        "outputId": "6fea7a16-d5ca-4c48-f179-59f899b02797"
      },
      "source": [
        "# Separate data into X_train, y_train, and X_test\n",
        "import pandas as pd\n",
        "training_data=pd.read_csv(\"titanic_competition_data/training_data.csv\")\n",
        "y_train_labels = training_data['survived']\n",
        "X_train = training_data.drop(['survived'], axis=1)\n",
        "\n",
        "X_test=pd.read_csv(\"titanic_competition_data/test_data.csv\")\n",
        "\n",
        "X_train.head()"
      ],
      "execution_count": 3,
      "outputs": [
        {
          "output_type": "execute_result",
          "data": {
            "text/html": [
              "\n",
              "  <div id=\"df-965c239d-066c-4a95-90a6-7fd1164c96e0\">\n",
              "    <div class=\"colab-df-container\">\n",
              "      <div>\n",
              "<style scoped>\n",
              "    .dataframe tbody tr th:only-of-type {\n",
              "        vertical-align: middle;\n",
              "    }\n",
              "\n",
              "    .dataframe tbody tr th {\n",
              "        vertical-align: top;\n",
              "    }\n",
              "\n",
              "    .dataframe thead th {\n",
              "        text-align: right;\n",
              "    }\n",
              "</style>\n",
              "<table border=\"1\" class=\"dataframe\">\n",
              "  <thead>\n",
              "    <tr style=\"text-align: right;\">\n",
              "      <th></th>\n",
              "      <th>pclass</th>\n",
              "      <th>sex</th>\n",
              "      <th>age</th>\n",
              "      <th>fare</th>\n",
              "      <th>embarked</th>\n",
              "    </tr>\n",
              "  </thead>\n",
              "  <tbody>\n",
              "    <tr>\n",
              "      <th>0</th>\n",
              "      <td>3</td>\n",
              "      <td>male</td>\n",
              "      <td>28.0</td>\n",
              "      <td>7.2500</td>\n",
              "      <td>S</td>\n",
              "    </tr>\n",
              "    <tr>\n",
              "      <th>1</th>\n",
              "      <td>3</td>\n",
              "      <td>female</td>\n",
              "      <td>26.0</td>\n",
              "      <td>16.1000</td>\n",
              "      <td>S</td>\n",
              "    </tr>\n",
              "    <tr>\n",
              "      <th>2</th>\n",
              "      <td>3</td>\n",
              "      <td>female</td>\n",
              "      <td>47.0</td>\n",
              "      <td>7.0000</td>\n",
              "      <td>S</td>\n",
              "    </tr>\n",
              "    <tr>\n",
              "      <th>3</th>\n",
              "      <td>2</td>\n",
              "      <td>male</td>\n",
              "      <td>57.0</td>\n",
              "      <td>12.3500</td>\n",
              "      <td>Q</td>\n",
              "    </tr>\n",
              "    <tr>\n",
              "      <th>4</th>\n",
              "      <td>3</td>\n",
              "      <td>female</td>\n",
              "      <td>37.0</td>\n",
              "      <td>9.5875</td>\n",
              "      <td>S</td>\n",
              "    </tr>\n",
              "  </tbody>\n",
              "</table>\n",
              "</div>\n",
              "      <button class=\"colab-df-convert\" onclick=\"convertToInteractive('df-965c239d-066c-4a95-90a6-7fd1164c96e0')\"\n",
              "              title=\"Convert this dataframe to an interactive table.\"\n",
              "              style=\"display:none;\">\n",
              "        \n",
              "  <svg xmlns=\"http://www.w3.org/2000/svg\" height=\"24px\"viewBox=\"0 0 24 24\"\n",
              "       width=\"24px\">\n",
              "    <path d=\"M0 0h24v24H0V0z\" fill=\"none\"/>\n",
              "    <path d=\"M18.56 5.44l.94 2.06.94-2.06 2.06-.94-2.06-.94-.94-2.06-.94 2.06-2.06.94zm-11 1L8.5 8.5l.94-2.06 2.06-.94-2.06-.94L8.5 2.5l-.94 2.06-2.06.94zm10 10l.94 2.06.94-2.06 2.06-.94-2.06-.94-.94-2.06-.94 2.06-2.06.94z\"/><path d=\"M17.41 7.96l-1.37-1.37c-.4-.4-.92-.59-1.43-.59-.52 0-1.04.2-1.43.59L10.3 9.45l-7.72 7.72c-.78.78-.78 2.05 0 2.83L4 21.41c.39.39.9.59 1.41.59.51 0 1.02-.2 1.41-.59l7.78-7.78 2.81-2.81c.8-.78.8-2.07 0-2.86zM5.41 20L4 18.59l7.72-7.72 1.47 1.35L5.41 20z\"/>\n",
              "  </svg>\n",
              "      </button>\n",
              "      \n",
              "  <style>\n",
              "    .colab-df-container {\n",
              "      display:flex;\n",
              "      flex-wrap:wrap;\n",
              "      gap: 12px;\n",
              "    }\n",
              "\n",
              "    .colab-df-convert {\n",
              "      background-color: #E8F0FE;\n",
              "      border: none;\n",
              "      border-radius: 50%;\n",
              "      cursor: pointer;\n",
              "      display: none;\n",
              "      fill: #1967D2;\n",
              "      height: 32px;\n",
              "      padding: 0 0 0 0;\n",
              "      width: 32px;\n",
              "    }\n",
              "\n",
              "    .colab-df-convert:hover {\n",
              "      background-color: #E2EBFA;\n",
              "      box-shadow: 0px 1px 2px rgba(60, 64, 67, 0.3), 0px 1px 3px 1px rgba(60, 64, 67, 0.15);\n",
              "      fill: #174EA6;\n",
              "    }\n",
              "\n",
              "    [theme=dark] .colab-df-convert {\n",
              "      background-color: #3B4455;\n",
              "      fill: #D2E3FC;\n",
              "    }\n",
              "\n",
              "    [theme=dark] .colab-df-convert:hover {\n",
              "      background-color: #434B5C;\n",
              "      box-shadow: 0px 1px 3px 1px rgba(0, 0, 0, 0.15);\n",
              "      filter: drop-shadow(0px 1px 2px rgba(0, 0, 0, 0.3));\n",
              "      fill: #FFFFFF;\n",
              "    }\n",
              "  </style>\n",
              "\n",
              "      <script>\n",
              "        const buttonEl =\n",
              "          document.querySelector('#df-965c239d-066c-4a95-90a6-7fd1164c96e0 button.colab-df-convert');\n",
              "        buttonEl.style.display =\n",
              "          google.colab.kernel.accessAllowed ? 'block' : 'none';\n",
              "\n",
              "        async function convertToInteractive(key) {\n",
              "          const element = document.querySelector('#df-965c239d-066c-4a95-90a6-7fd1164c96e0');\n",
              "          const dataTable =\n",
              "            await google.colab.kernel.invokeFunction('convertToInteractive',\n",
              "                                                     [key], {});\n",
              "          if (!dataTable) return;\n",
              "\n",
              "          const docLinkHtml = 'Like what you see? Visit the ' +\n",
              "            '<a target=\"_blank\" href=https://colab.research.google.com/notebooks/data_table.ipynb>data table notebook</a>'\n",
              "            + ' to learn more about interactive tables.';\n",
              "          element.innerHTML = '';\n",
              "          dataTable['output_type'] = 'display_data';\n",
              "          await google.colab.output.renderOutput(dataTable, element);\n",
              "          const docLink = document.createElement('div');\n",
              "          docLink.innerHTML = docLinkHtml;\n",
              "          element.appendChild(docLink);\n",
              "        }\n",
              "      </script>\n",
              "    </div>\n",
              "  </div>\n",
              "  "
            ],
            "text/plain": [
              "   pclass     sex   age     fare embarked\n",
              "0       3    male  28.0   7.2500        S\n",
              "1       3  female  26.0  16.1000        S\n",
              "2       3  female  47.0   7.0000        S\n",
              "3       2    male  57.0  12.3500        Q\n",
              "4       3  female  37.0   9.5875        S"
            ]
          },
          "metadata": {},
          "execution_count": 3
        }
      ]
    },
    {
      "cell_type": "markdown",
      "metadata": {
        "id": "gEzPoXPj3V7u"
      },
      "source": [
        "##2.   Preprocess data using Sklearn Column Transformer/ Write and Save Preprocessor function\n"
      ]
    },
    {
      "cell_type": "code",
      "metadata": {
        "id": "16QV9Y9TC3B3"
      },
      "source": [
        "# In this case we use Sklearn's Column transformer in our preprocessor function\n",
        "\n",
        "from sklearn.compose import ColumnTransformer\n",
        "from sklearn.pipeline import Pipeline\n",
        "from sklearn.impute import SimpleImputer\n",
        "from sklearn.preprocessing import StandardScaler, OneHotEncoder\n",
        "\n",
        "#Preprocess data using sklearn's Column Transformer approach\n",
        "\n",
        "# We create the preprocessing pipelines for both numeric and categorical data.\n",
        "numeric_features = ['age', 'fare']\n",
        "numeric_transformer = Pipeline(steps=[\n",
        "    ('imputer', SimpleImputer(strategy='median')), #'imputer' names the step\n",
        "    ('scaler', StandardScaler())])\n",
        "\n",
        "categorical_features = ['embarked', 'sex', 'pclass']\n",
        "\n",
        "# Replacing missing values with Modal value and then one-hot encoding.\n",
        "categorical_transformer = Pipeline(steps=[\n",
        "    ('imputer', SimpleImputer(strategy='most_frequent')),\n",
        "    ('onehot', OneHotEncoder(handle_unknown='ignore'))])\n",
        "\n",
        "# Final preprocessor object set up with ColumnTransformer...\n",
        "\n",
        "preprocess = ColumnTransformer(\n",
        "    transformers=[\n",
        "        ('num', numeric_transformer, numeric_features),\n",
        "        ('cat', categorical_transformer, categorical_features)])\n",
        "\n",
        "# fit preprocessor to your data\n",
        "preprocess = preprocess.fit(X_train)"
      ],
      "execution_count": 4,
      "outputs": []
    },
    {
      "cell_type": "code",
      "source": [
        "# Here is where we actually write the preprocessor function:\n",
        "\n",
        "# Write function to transform data with preprocessor \n",
        "# In this case we use sklearn's Column transformer in our preprocessor function\n",
        "\n",
        "def preprocessor(data):\n",
        "    preprocessed_data=preprocess.transform(data)\n",
        "    return preprocessed_data"
      ],
      "metadata": {
        "id": "S_PaNOG0SUIk"
      },
      "execution_count": 5,
      "outputs": []
    },
    {
      "cell_type": "code",
      "source": [
        "# check shape of X data after preprocessing it using our new function\n",
        "preprocessor(X_train).shape"
      ],
      "metadata": {
        "colab": {
          "base_uri": "https://localhost:8080/"
        },
        "id": "a1IPy9xvSWBp",
        "outputId": "cffa1c8c-1905-41fb-8c57-c1d02ec47d98"
      },
      "execution_count": 6,
      "outputs": [
        {
          "output_type": "execute_result",
          "data": {
            "text/plain": [
              "(1047, 10)"
            ]
          },
          "metadata": {},
          "execution_count": 6
        }
      ]
    },
    {
      "cell_type": "markdown",
      "metadata": {
        "id": "X52kECL43b-O"
      },
      "source": [
        "##3. Fit model on preprocessed data and save preprocessor function and model \n"
      ]
    },
    {
      "cell_type": "code",
      "metadata": {
        "colab": {
          "base_uri": "https://localhost:8080/"
        },
        "id": "NCbBf8j9ClYl",
        "outputId": "4548f68f-3dc1-4830-99ef-37261f9b106e"
      },
      "source": [
        "from sklearn.linear_model import LogisticRegression\n",
        "\n",
        "model = LogisticRegression(C=10, penalty='l1', solver = 'liblinear')\n",
        "model.fit(preprocessor(X_train), y_train_labels) # Fitting to the training set.\n",
        "model.score(preprocessor(X_train), y_train_labels) # Fit score, 0-1 scale."
      ],
      "execution_count": 7,
      "outputs": [
        {
          "output_type": "execute_result",
          "data": {
            "text/plain": [
              "0.778414517669532"
            ]
          },
          "metadata": {},
          "execution_count": 7
        }
      ]
    },
    {
      "cell_type": "markdown",
      "metadata": {
        "id": "zmJAnmO-5AcU"
      },
      "source": [
        "#### Save preprocessor function to local \"preprocessor.zip\" file"
      ]
    },
    {
      "cell_type": "code",
      "metadata": {
        "colab": {
          "base_uri": "https://localhost:8080/"
        },
        "id": "4VGacc0LDaMA",
        "outputId": "ab07e38a-9f2b-47bf-810a-ada2bf4ce266"
      },
      "source": [
        "import aimodelshare as ai\n",
        "ai.export_preprocessor(preprocessor,\"\") "
      ],
      "execution_count": 8,
      "outputs": [
        {
          "output_type": "stream",
          "name": "stdout",
          "text": [
            "Your preprocessor is now saved to 'preprocessor.zip'\n"
          ]
        }
      ]
    },
    {
      "cell_type": "markdown",
      "metadata": {
        "id": "oOWBa8Cv5LdL"
      },
      "source": [
        "#### Save model to local \".onnx\" file"
      ]
    },
    {
      "cell_type": "code",
      "metadata": {
        "id": "pEhvnRiQDlY5"
      },
      "source": [
        "# Save sklearn model to local ONNX file\n",
        "from aimodelshare.aimsonnx import model_to_onnx\n",
        "\n",
        "# Check how many preprocessed input features are there?\n",
        "from skl2onnx.common.data_types import FloatTensorType\n",
        "\n",
        "feature_count=preprocessor(X_test).shape[1] #Get count of preprocessed features\n",
        "initial_type = [('float_input', FloatTensorType([None, feature_count]))]  #Insert correct number of preprocessed features\n",
        "\n",
        "onnx_model = model_to_onnx(model, framework='sklearn',\n",
        "                          initial_types=initial_type,\n",
        "                          transfer_learning=False,\n",
        "                          deep_learning=False)\n",
        "\n",
        "with open(\"model.onnx\", \"wb\") as f:\n",
        "    f.write(onnx_model.SerializeToString())"
      ],
      "execution_count": 9,
      "outputs": []
    },
    {
      "cell_type": "markdown",
      "metadata": {
        "id": "gHWkAzvX3m8O"
      },
      "source": [
        "## 4. Generate predictions from X_test data and submit model to competition\n"
      ]
    },
    {
      "cell_type": "code",
      "metadata": {
        "colab": {
          "base_uri": "https://localhost:8080/"
        },
        "id": "RtgkM02MDpkO",
        "outputId": "3dd7645a-32e6-44ad-d8f3-120565826941"
      },
      "source": [
        "#Set credentials using modelshare.org username/password\n",
        "\n",
        "from aimodelshare.aws import set_credentials\n",
        "\n",
        "#This is the unique rest api that powers this Titanic Survival Playground -- make sure to update the apiurl for new competition deployments\n",
        "apiurl=\"https://owf2d4c45b.execute-api.us-east-1.amazonaws.com/prod/m\"\n",
        "\n",
        "set_credentials(apiurl=apiurl)"
      ],
      "execution_count": 13,
      "outputs": [
        {
          "output_type": "stream",
          "name": "stdout",
          "text": [
            "AI Modelshare Username:··········\n",
            "AI Modelshare Password:··········\n",
            "AI Model Share login credentials set successfully.\n"
          ]
        }
      ]
    },
    {
      "cell_type": "code",
      "metadata": {
        "id": "fKNGSww8EGgi"
      },
      "source": [
        "#Instantiate Competition\n",
        "import aimodelshare as ai\n",
        "mycompetition= ai.Competition(apiurl)"
      ],
      "execution_count": 14,
      "outputs": []
    },
    {
      "cell_type": "code",
      "metadata": {
        "id": "_Ql4wksyEUnP",
        "colab": {
          "base_uri": "https://localhost:8080/"
        },
        "outputId": "ba78aebf-091b-45b4-feb7-d383026031a1"
      },
      "source": [
        "#Submit Model 1: \n",
        "\n",
        "#-- Generate predicted values (a list of predicted labels \"survived\" or \"died\") (Model 1)\n",
        "prediction_labels = model.predict(preprocessor(X_test))\n",
        "\n",
        "# Submit Model 1 to Competition Leaderboard\n",
        "mycompetition.submit_model(model_filepath = \"model.onnx\",\n",
        "                                 preprocessor_filepath=\"preprocessor.zip\",\n",
        "                                 prediction_submission=prediction_labels)"
      ],
      "execution_count": 15,
      "outputs": [
        {
          "output_type": "stream",
          "name": "stdout",
          "text": [
            "Insert search tags to help users find your model (optional): \n",
            "Provide any useful notes about your model (optional): \n",
            "\n",
            "Your model has been submitted as model version 3\n",
            "\n",
            "To submit code used to create this model or to view current leaderboard navigate to Model Playground: \n",
            "\n",
            " https://www.modelshare.org/detail/model:1283\n"
          ]
        }
      ]
    },
    {
      "cell_type": "code",
      "metadata": {
        "colab": {
          "base_uri": "https://localhost:8080/",
          "height": 202
        },
        "id": "GN1zvAmNEq17",
        "outputId": "fc41e622-6e5f-44b1-a14f-62ed1c01b835"
      },
      "source": [
        "# Get leaderboard to explore current best model architectures\n",
        "\n",
        "# Get raw data in pandas data frame\n",
        "data = mycompetition.get_leaderboard()\n",
        "\n",
        "# Stylize leaderboard data\n",
        "mycompetition.stylize_leaderboard(data)"
      ],
      "execution_count": 16,
      "outputs": [
        {
          "output_type": "execute_result",
          "data": {
            "text/html": [
              "<style  type=\"text/css\" >\n",
              "#T_3ce8d9ae_7ed1_11ec_9aa5_0242ac1c0002row0_col0{\n",
              "            text-align:  center;\n",
              "            width:  10em;\n",
              "             height:  80%;\n",
              "            background:  linear-gradient(90deg,#f5f8d6 75.2%, transparent 75.2%);\n",
              "            color:  #251e1b;\n",
              "            font-size:  12px;\n",
              "        }#T_3ce8d9ae_7ed1_11ec_9aa5_0242ac1c0002row0_col1{\n",
              "            text-align:  center;\n",
              "            width:  10em;\n",
              "             height:  80%;\n",
              "            background:  linear-gradient(90deg,#c778c8 73.8%, transparent 73.8%);\n",
              "            color:  #251e1b;\n",
              "            font-size:  12px;\n",
              "        }#T_3ce8d9ae_7ed1_11ec_9aa5_0242ac1c0002row0_col2{\n",
              "            text-align:  center;\n",
              "            width:  10em;\n",
              "             height:  80%;\n",
              "            background:  linear-gradient(90deg,#ff4971 73.6%, transparent 73.6%);\n",
              "            color:  #251e1b;\n",
              "            font-size:  12px;\n",
              "        }#T_3ce8d9ae_7ed1_11ec_9aa5_0242ac1c0002row0_col3{\n",
              "            text-align:  center;\n",
              "            width:  10em;\n",
              "             height:  80%;\n",
              "            background:  linear-gradient(90deg,#aadbaa 73.9%, transparent 73.9%);\n",
              "            color:  #251e1b;\n",
              "            font-size:  12px;\n",
              "        }#T_3ce8d9ae_7ed1_11ec_9aa5_0242ac1c0002row0_col4,#T_3ce8d9ae_7ed1_11ec_9aa5_0242ac1c0002row0_col5,#T_3ce8d9ae_7ed1_11ec_9aa5_0242ac1c0002row0_col6,#T_3ce8d9ae_7ed1_11ec_9aa5_0242ac1c0002row0_col7,#T_3ce8d9ae_7ed1_11ec_9aa5_0242ac1c0002row0_col8,#T_3ce8d9ae_7ed1_11ec_9aa5_0242ac1c0002row0_col9,#T_3ce8d9ae_7ed1_11ec_9aa5_0242ac1c0002row0_col10,#T_3ce8d9ae_7ed1_11ec_9aa5_0242ac1c0002row0_col11,#T_3ce8d9ae_7ed1_11ec_9aa5_0242ac1c0002row0_col12,#T_3ce8d9ae_7ed1_11ec_9aa5_0242ac1c0002row1_col4,#T_3ce8d9ae_7ed1_11ec_9aa5_0242ac1c0002row1_col5,#T_3ce8d9ae_7ed1_11ec_9aa5_0242ac1c0002row1_col6,#T_3ce8d9ae_7ed1_11ec_9aa5_0242ac1c0002row1_col7,#T_3ce8d9ae_7ed1_11ec_9aa5_0242ac1c0002row1_col8,#T_3ce8d9ae_7ed1_11ec_9aa5_0242ac1c0002row1_col9,#T_3ce8d9ae_7ed1_11ec_9aa5_0242ac1c0002row1_col10,#T_3ce8d9ae_7ed1_11ec_9aa5_0242ac1c0002row1_col11,#T_3ce8d9ae_7ed1_11ec_9aa5_0242ac1c0002row1_col12,#T_3ce8d9ae_7ed1_11ec_9aa5_0242ac1c0002row2_col4,#T_3ce8d9ae_7ed1_11ec_9aa5_0242ac1c0002row2_col5,#T_3ce8d9ae_7ed1_11ec_9aa5_0242ac1c0002row2_col6,#T_3ce8d9ae_7ed1_11ec_9aa5_0242ac1c0002row2_col7,#T_3ce8d9ae_7ed1_11ec_9aa5_0242ac1c0002row2_col8,#T_3ce8d9ae_7ed1_11ec_9aa5_0242ac1c0002row2_col9,#T_3ce8d9ae_7ed1_11ec_9aa5_0242ac1c0002row2_col10,#T_3ce8d9ae_7ed1_11ec_9aa5_0242ac1c0002row2_col11,#T_3ce8d9ae_7ed1_11ec_9aa5_0242ac1c0002row2_col12{\n",
              "            text-align:  center;\n",
              "        }#T_3ce8d9ae_7ed1_11ec_9aa5_0242ac1c0002row1_col0{\n",
              "            text-align:  center;\n",
              "            width:  10em;\n",
              "             height:  80%;\n",
              "            background:  linear-gradient(90deg,#f5f8d6 77.5%, transparent 77.5%);\n",
              "            color:  #251e1b;\n",
              "            font-size:  12px;\n",
              "        }#T_3ce8d9ae_7ed1_11ec_9aa5_0242ac1c0002row1_col1{\n",
              "            text-align:  center;\n",
              "            width:  10em;\n",
              "             height:  80%;\n",
              "            background:  linear-gradient(90deg,#c778c8 73.6%, transparent 73.6%);\n",
              "            color:  #251e1b;\n",
              "            font-size:  12px;\n",
              "        }#T_3ce8d9ae_7ed1_11ec_9aa5_0242ac1c0002row1_col2{\n",
              "            text-align:  center;\n",
              "            width:  10em;\n",
              "             height:  80%;\n",
              "            background:  linear-gradient(90deg,#ff4971 79.1%, transparent 79.1%);\n",
              "            color:  #251e1b;\n",
              "            font-size:  12px;\n",
              "        }#T_3ce8d9ae_7ed1_11ec_9aa5_0242ac1c0002row1_col3{\n",
              "            text-align:  center;\n",
              "            width:  10em;\n",
              "             height:  80%;\n",
              "            background:  linear-gradient(90deg,#aadbaa 72.4%, transparent 72.4%);\n",
              "            color:  #251e1b;\n",
              "            font-size:  12px;\n",
              "        }#T_3ce8d9ae_7ed1_11ec_9aa5_0242ac1c0002row2_col0{\n",
              "            text-align:  center;\n",
              "            width:  10em;\n",
              "             height:  80%;\n",
              "            background:  linear-gradient(90deg,#f5f8d6 51.9%, transparent 51.9%);\n",
              "            color:  #251e1b;\n",
              "            font-size:  12px;\n",
              "        }#T_3ce8d9ae_7ed1_11ec_9aa5_0242ac1c0002row2_col1{\n",
              "            text-align:  center;\n",
              "            width:  10em;\n",
              "             height:  80%;\n",
              "            background:  linear-gradient(90deg,#c778c8 48.2%, transparent 48.2%);\n",
              "            color:  #251e1b;\n",
              "            font-size:  12px;\n",
              "        }#T_3ce8d9ae_7ed1_11ec_9aa5_0242ac1c0002row2_col2{\n",
              "            text-align:  center;\n",
              "            width:  10em;\n",
              "             height:  80%;\n",
              "            background:  linear-gradient(90deg,#ff4971 48.2%, transparent 48.2%);\n",
              "            color:  #251e1b;\n",
              "            font-size:  12px;\n",
              "        }#T_3ce8d9ae_7ed1_11ec_9aa5_0242ac1c0002row2_col3{\n",
              "            text-align:  center;\n",
              "            width:  10em;\n",
              "             height:  80%;\n",
              "            background:  linear-gradient(90deg,#aadbaa 48.3%, transparent 48.3%);\n",
              "            color:  #251e1b;\n",
              "            font-size:  12px;\n",
              "        }</style><table id=\"T_3ce8d9ae_7ed1_11ec_9aa5_0242ac1c0002\" class=\"dataframe\"><thead>    <tr>        <th class=\"blank level0\" ></th>        <th class=\"col_heading level0 col0\" >accuracy</th>        <th class=\"col_heading level0 col1\" >f1_score</th>        <th class=\"col_heading level0 col2\" >precision</th>        <th class=\"col_heading level0 col3\" >recall</th>        <th class=\"col_heading level0 col4\" >ml_framework</th>        <th class=\"col_heading level0 col5\" >transfer_learning</th>        <th class=\"col_heading level0 col6\" >deep_learning</th>        <th class=\"col_heading level0 col7\" >model_type</th>        <th class=\"col_heading level0 col8\" >num_params</th>        <th class=\"col_heading level0 col9\" >optimizer</th>        <th class=\"col_heading level0 col10\" >model_config</th>        <th class=\"col_heading level0 col11\" >username</th>        <th class=\"col_heading level0 col12\" >version</th>    </tr></thead><tbody>\n",
              "                <tr>\n",
              "                        <th id=\"T_3ce8d9ae_7ed1_11ec_9aa5_0242ac1c0002level0_row0\" class=\"row_heading level0 row0\" >0</th>\n",
              "                        <td id=\"T_3ce8d9ae_7ed1_11ec_9aa5_0242ac1c0002row0_col0\" class=\"data row0 col0\" >75.19%</td>\n",
              "                        <td id=\"T_3ce8d9ae_7ed1_11ec_9aa5_0242ac1c0002row0_col1\" class=\"data row0 col1\" >73.77%</td>\n",
              "                        <td id=\"T_3ce8d9ae_7ed1_11ec_9aa5_0242ac1c0002row0_col2\" class=\"data row0 col2\" >73.65%</td>\n",
              "                        <td id=\"T_3ce8d9ae_7ed1_11ec_9aa5_0242ac1c0002row0_col3\" class=\"data row0 col3\" >73.91%</td>\n",
              "                        <td id=\"T_3ce8d9ae_7ed1_11ec_9aa5_0242ac1c0002row0_col4\" class=\"data row0 col4\" >sklearn</td>\n",
              "                        <td id=\"T_3ce8d9ae_7ed1_11ec_9aa5_0242ac1c0002row0_col5\" class=\"data row0 col5\" >False</td>\n",
              "                        <td id=\"T_3ce8d9ae_7ed1_11ec_9aa5_0242ac1c0002row0_col6\" class=\"data row0 col6\" >False</td>\n",
              "                        <td id=\"T_3ce8d9ae_7ed1_11ec_9aa5_0242ac1c0002row0_col7\" class=\"data row0 col7\" >LogisticRegression</td>\n",
              "                        <td id=\"T_3ce8d9ae_7ed1_11ec_9aa5_0242ac1c0002row0_col8\" class=\"data row0 col8\" >10</td>\n",
              "                        <td id=\"T_3ce8d9ae_7ed1_11ec_9aa5_0242ac1c0002row0_col9\" class=\"data row0 col9\" >liblinear</td>\n",
              "                        <td id=\"T_3ce8d9ae_7ed1_11ec_9aa5_0242ac1c0002row0_col10\" class=\"data row0 col10\" >{'C': 10, 'class_weight': None...</td>\n",
              "                        <td id=\"T_3ce8d9ae_7ed1_11ec_9aa5_0242ac1c0002row0_col11\" class=\"data row0 col11\" >AdvProjectsinML</td>\n",
              "                        <td id=\"T_3ce8d9ae_7ed1_11ec_9aa5_0242ac1c0002row0_col12\" class=\"data row0 col12\" >1</td>\n",
              "            </tr>\n",
              "            <tr>\n",
              "                        <th id=\"T_3ce8d9ae_7ed1_11ec_9aa5_0242ac1c0002level0_row1\" class=\"row_heading level0 row1\" >2</th>\n",
              "                        <td id=\"T_3ce8d9ae_7ed1_11ec_9aa5_0242ac1c0002row1_col0\" class=\"data row1 col0\" >77.48%</td>\n",
              "                        <td id=\"T_3ce8d9ae_7ed1_11ec_9aa5_0242ac1c0002row1_col1\" class=\"data row1 col1\" >73.55%</td>\n",
              "                        <td id=\"T_3ce8d9ae_7ed1_11ec_9aa5_0242ac1c0002row1_col2\" class=\"data row1 col2\" >79.13%</td>\n",
              "                        <td id=\"T_3ce8d9ae_7ed1_11ec_9aa5_0242ac1c0002row1_col3\" class=\"data row1 col3\" >72.38%</td>\n",
              "                        <td id=\"T_3ce8d9ae_7ed1_11ec_9aa5_0242ac1c0002row1_col4\" class=\"data row1 col4\" >sklearn</td>\n",
              "                        <td id=\"T_3ce8d9ae_7ed1_11ec_9aa5_0242ac1c0002row1_col5\" class=\"data row1 col5\" >False</td>\n",
              "                        <td id=\"T_3ce8d9ae_7ed1_11ec_9aa5_0242ac1c0002row1_col6\" class=\"data row1 col6\" >False</td>\n",
              "                        <td id=\"T_3ce8d9ae_7ed1_11ec_9aa5_0242ac1c0002row1_col7\" class=\"data row1 col7\" >LogisticRegression</td>\n",
              "                        <td id=\"T_3ce8d9ae_7ed1_11ec_9aa5_0242ac1c0002row1_col8\" class=\"data row1 col8\" >10</td>\n",
              "                        <td id=\"T_3ce8d9ae_7ed1_11ec_9aa5_0242ac1c0002row1_col9\" class=\"data row1 col9\" >lbfgs</td>\n",
              "                        <td id=\"T_3ce8d9ae_7ed1_11ec_9aa5_0242ac1c0002row1_col10\" class=\"data row1 col10\" >{'C': 0.01, 'class_weight': No...</td>\n",
              "                        <td id=\"T_3ce8d9ae_7ed1_11ec_9aa5_0242ac1c0002row1_col11\" class=\"data row1 col11\" >AdvProjectsinML</td>\n",
              "                        <td id=\"T_3ce8d9ae_7ed1_11ec_9aa5_0242ac1c0002row1_col12\" class=\"data row1 col12\" >2</td>\n",
              "            </tr>\n",
              "            <tr>\n",
              "                        <th id=\"T_3ce8d9ae_7ed1_11ec_9aa5_0242ac1c0002level0_row2\" class=\"row_heading level0 row2\" >3</th>\n",
              "                        <td id=\"T_3ce8d9ae_7ed1_11ec_9aa5_0242ac1c0002row2_col0\" class=\"data row2 col0\" >51.91%</td>\n",
              "                        <td id=\"T_3ce8d9ae_7ed1_11ec_9aa5_0242ac1c0002row2_col1\" class=\"data row2 col1\" >48.21%</td>\n",
              "                        <td id=\"T_3ce8d9ae_7ed1_11ec_9aa5_0242ac1c0002row2_col2\" class=\"data row2 col2\" >48.22%</td>\n",
              "                        <td id=\"T_3ce8d9ae_7ed1_11ec_9aa5_0242ac1c0002row2_col3\" class=\"data row2 col3\" >48.26%</td>\n",
              "                        <td id=\"T_3ce8d9ae_7ed1_11ec_9aa5_0242ac1c0002row2_col4\" class=\"data row2 col4\" >sklearn</td>\n",
              "                        <td id=\"T_3ce8d9ae_7ed1_11ec_9aa5_0242ac1c0002row2_col5\" class=\"data row2 col5\" >False</td>\n",
              "                        <td id=\"T_3ce8d9ae_7ed1_11ec_9aa5_0242ac1c0002row2_col6\" class=\"data row2 col6\" >False</td>\n",
              "                        <td id=\"T_3ce8d9ae_7ed1_11ec_9aa5_0242ac1c0002row2_col7\" class=\"data row2 col7\" >LogisticRegression</td>\n",
              "                        <td id=\"T_3ce8d9ae_7ed1_11ec_9aa5_0242ac1c0002row2_col8\" class=\"data row2 col8\" >10</td>\n",
              "                        <td id=\"T_3ce8d9ae_7ed1_11ec_9aa5_0242ac1c0002row2_col9\" class=\"data row2 col9\" >liblinear</td>\n",
              "                        <td id=\"T_3ce8d9ae_7ed1_11ec_9aa5_0242ac1c0002row2_col10\" class=\"data row2 col10\" >{'C': 10, 'class_weight': None...</td>\n",
              "                        <td id=\"T_3ce8d9ae_7ed1_11ec_9aa5_0242ac1c0002row2_col11\" class=\"data row2 col11\" >AdvProjectsinML</td>\n",
              "                        <td id=\"T_3ce8d9ae_7ed1_11ec_9aa5_0242ac1c0002row2_col12\" class=\"data row2 col12\" >3</td>\n",
              "            </tr>\n",
              "    </tbody></table>"
            ],
            "text/plain": [
              "<pandas.io.formats.style.Styler at 0x7fed9d0ab210>"
            ]
          },
          "metadata": {},
          "execution_count": 16
        }
      ]
    },
    {
      "cell_type": "markdown",
      "metadata": {
        "id": "bwNKs0wP4r5s"
      },
      "source": [
        "## 5. Repeat submission process to improve place on leaderboard\n"
      ]
    },
    {
      "cell_type": "code",
      "metadata": {
        "colab": {
          "base_uri": "https://localhost:8080/"
        },
        "id": "FgSs5PAtPCZH",
        "outputId": "c45f8a08-4368-44eb-ea48-d97c9191557b"
      },
      "source": [
        "# Train and submit model 2 using same preprocessor (note that you could save a new preprocessor, but we will use the same one for this example).\n",
        "from sklearn.linear_model import LogisticRegression\n",
        "\n",
        "model_2 = LogisticRegression(C=.01, penalty='l2')\n",
        "model_2.fit(preprocessor(X_train), y_train_labels) # Fitting to the training set.\n",
        "model_2.score(preprocessor(X_train), y_train_labels) # Fit score, 0-1 scale."
      ],
      "execution_count": 17,
      "outputs": [
        {
          "output_type": "execute_result",
          "data": {
            "text/plain": [
              "0.775549188156638"
            ]
          },
          "metadata": {},
          "execution_count": 17
        }
      ]
    },
    {
      "cell_type": "code",
      "metadata": {
        "id": "aIdmSpYVPYAw"
      },
      "source": [
        "# Save sklearn model to local ONNX file\n",
        "from aimodelshare.aimsonnx import model_to_onnx\n",
        "\n",
        "feature_count=preprocessor(X_test).shape[1] #Get count of preprocessed features\n",
        "initial_type = [('float_input', FloatTensorType([None, feature_count]))]  # Insert correct number of preprocessed features\n",
        "\n",
        "onnx_model = model_to_onnx(model_2, framework='sklearn',\n",
        "                          initial_types=initial_type,\n",
        "                          transfer_learning=False,\n",
        "                          deep_learning=False)\n",
        "\n",
        "with open(\"model2.onnx\", \"wb\") as f:\n",
        "    f.write(onnx_model.SerializeToString())"
      ],
      "execution_count": 18,
      "outputs": []
    },
    {
      "cell_type": "code",
      "metadata": {
        "colab": {
          "base_uri": "https://localhost:8080/"
        },
        "id": "nszPPrfwPlUk",
        "outputId": "121912bd-3414-4b7f-a53b-f831332944e3"
      },
      "source": [
        "#Submit Model 2: \n",
        "\n",
        "#-- Generate predicted y values (Model 2)\n",
        "prediction_labels = model_2.predict(preprocessor(X_test))\n",
        "\n",
        "# Submit Model 2 to Competition Leaderboard\n",
        "mycompetition.submit_model(model_filepath = \"model2.onnx\",\n",
        "                                 prediction_submission=prediction_labels,\n",
        "                                 preprocessor_filepath=\"preprocessor.zip\")"
      ],
      "execution_count": 19,
      "outputs": [
        {
          "output_type": "stream",
          "name": "stdout",
          "text": [
            "Insert search tags to help users find your model (optional): \n",
            "Provide any useful notes about your model (optional): \n",
            "\n",
            "Your model has been submitted as model version 4\n",
            "\n",
            "To submit code used to create this model or to view current leaderboard navigate to Model Playground: \n",
            "\n",
            " https://www.modelshare.org/detail/model:1283\n"
          ]
        }
      ]
    },
    {
      "cell_type": "code",
      "metadata": {
        "colab": {
          "base_uri": "https://localhost:8080/",
          "height": 367
        },
        "id": "qLl7yLpVEx26",
        "outputId": "f5742623-8557-4777-cda8-c98e18bed226"
      },
      "source": [
        "# Compare two or more models\n",
        "data=mycompetition.compare_models([1,2], verbose=1)\n",
        "mycompetition.stylize_compare(data)"
      ],
      "execution_count": 20,
      "outputs": [
        {
          "output_type": "display_data",
          "data": {
            "text/html": [
              "<style  type=\"text/css\" >\n",
              "    #T_4cc2a6ca_7ed1_11ec_9aa5_0242ac1c0002 caption {\n",
              "          color: black;\n",
              "          font-size: 18px;\n",
              "    }#T_4cc2a6ca_7ed1_11ec_9aa5_0242ac1c0002row0_col2,#T_4cc2a6ca_7ed1_11ec_9aa5_0242ac1c0002row0_col3,#T_4cc2a6ca_7ed1_11ec_9aa5_0242ac1c0002row9_col2,#T_4cc2a6ca_7ed1_11ec_9aa5_0242ac1c0002row11_col2{\n",
              "            background:  tomato;\n",
              "        }</style><table id=\"T_4cc2a6ca_7ed1_11ec_9aa5_0242ac1c0002\" ><caption>Model type: LogisticRegression</caption><thead>    <tr>        <th class=\"blank level0\" ></th>        <th class=\"col_heading level0 col0\" >param_name</th>        <th class=\"col_heading level0 col1\" >default_value</th>        <th class=\"col_heading level0 col2\" >model_version_1</th>        <th class=\"col_heading level0 col3\" >model_version_2</th>    </tr></thead><tbody>\n",
              "                <tr>\n",
              "                        <th id=\"T_4cc2a6ca_7ed1_11ec_9aa5_0242ac1c0002level0_row0\" class=\"row_heading level0 row0\" >0</th>\n",
              "                        <td id=\"T_4cc2a6ca_7ed1_11ec_9aa5_0242ac1c0002row0_col0\" class=\"data row0 col0\" >C</td>\n",
              "                        <td id=\"T_4cc2a6ca_7ed1_11ec_9aa5_0242ac1c0002row0_col1\" class=\"data row0 col1\" >1.000000</td>\n",
              "                        <td id=\"T_4cc2a6ca_7ed1_11ec_9aa5_0242ac1c0002row0_col2\" class=\"data row0 col2\" >10</td>\n",
              "                        <td id=\"T_4cc2a6ca_7ed1_11ec_9aa5_0242ac1c0002row0_col3\" class=\"data row0 col3\" >0.010000</td>\n",
              "            </tr>\n",
              "            <tr>\n",
              "                        <th id=\"T_4cc2a6ca_7ed1_11ec_9aa5_0242ac1c0002level0_row1\" class=\"row_heading level0 row1\" >1</th>\n",
              "                        <td id=\"T_4cc2a6ca_7ed1_11ec_9aa5_0242ac1c0002row1_col0\" class=\"data row1 col0\" >class_weight</td>\n",
              "                        <td id=\"T_4cc2a6ca_7ed1_11ec_9aa5_0242ac1c0002row1_col1\" class=\"data row1 col1\" >None</td>\n",
              "                        <td id=\"T_4cc2a6ca_7ed1_11ec_9aa5_0242ac1c0002row1_col2\" class=\"data row1 col2\" >None</td>\n",
              "                        <td id=\"T_4cc2a6ca_7ed1_11ec_9aa5_0242ac1c0002row1_col3\" class=\"data row1 col3\" >None</td>\n",
              "            </tr>\n",
              "            <tr>\n",
              "                        <th id=\"T_4cc2a6ca_7ed1_11ec_9aa5_0242ac1c0002level0_row2\" class=\"row_heading level0 row2\" >2</th>\n",
              "                        <td id=\"T_4cc2a6ca_7ed1_11ec_9aa5_0242ac1c0002row2_col0\" class=\"data row2 col0\" >dual</td>\n",
              "                        <td id=\"T_4cc2a6ca_7ed1_11ec_9aa5_0242ac1c0002row2_col1\" class=\"data row2 col1\" >False</td>\n",
              "                        <td id=\"T_4cc2a6ca_7ed1_11ec_9aa5_0242ac1c0002row2_col2\" class=\"data row2 col2\" >False</td>\n",
              "                        <td id=\"T_4cc2a6ca_7ed1_11ec_9aa5_0242ac1c0002row2_col3\" class=\"data row2 col3\" >False</td>\n",
              "            </tr>\n",
              "            <tr>\n",
              "                        <th id=\"T_4cc2a6ca_7ed1_11ec_9aa5_0242ac1c0002level0_row3\" class=\"row_heading level0 row3\" >3</th>\n",
              "                        <td id=\"T_4cc2a6ca_7ed1_11ec_9aa5_0242ac1c0002row3_col0\" class=\"data row3 col0\" >fit_intercept</td>\n",
              "                        <td id=\"T_4cc2a6ca_7ed1_11ec_9aa5_0242ac1c0002row3_col1\" class=\"data row3 col1\" >True</td>\n",
              "                        <td id=\"T_4cc2a6ca_7ed1_11ec_9aa5_0242ac1c0002row3_col2\" class=\"data row3 col2\" >True</td>\n",
              "                        <td id=\"T_4cc2a6ca_7ed1_11ec_9aa5_0242ac1c0002row3_col3\" class=\"data row3 col3\" >True</td>\n",
              "            </tr>\n",
              "            <tr>\n",
              "                        <th id=\"T_4cc2a6ca_7ed1_11ec_9aa5_0242ac1c0002level0_row4\" class=\"row_heading level0 row4\" >4</th>\n",
              "                        <td id=\"T_4cc2a6ca_7ed1_11ec_9aa5_0242ac1c0002row4_col0\" class=\"data row4 col0\" >intercept_scaling</td>\n",
              "                        <td id=\"T_4cc2a6ca_7ed1_11ec_9aa5_0242ac1c0002row4_col1\" class=\"data row4 col1\" >1</td>\n",
              "                        <td id=\"T_4cc2a6ca_7ed1_11ec_9aa5_0242ac1c0002row4_col2\" class=\"data row4 col2\" >1</td>\n",
              "                        <td id=\"T_4cc2a6ca_7ed1_11ec_9aa5_0242ac1c0002row4_col3\" class=\"data row4 col3\" >1</td>\n",
              "            </tr>\n",
              "            <tr>\n",
              "                        <th id=\"T_4cc2a6ca_7ed1_11ec_9aa5_0242ac1c0002level0_row5\" class=\"row_heading level0 row5\" >5</th>\n",
              "                        <td id=\"T_4cc2a6ca_7ed1_11ec_9aa5_0242ac1c0002row5_col0\" class=\"data row5 col0\" >l1_ratio</td>\n",
              "                        <td id=\"T_4cc2a6ca_7ed1_11ec_9aa5_0242ac1c0002row5_col1\" class=\"data row5 col1\" >None</td>\n",
              "                        <td id=\"T_4cc2a6ca_7ed1_11ec_9aa5_0242ac1c0002row5_col2\" class=\"data row5 col2\" >None</td>\n",
              "                        <td id=\"T_4cc2a6ca_7ed1_11ec_9aa5_0242ac1c0002row5_col3\" class=\"data row5 col3\" >None</td>\n",
              "            </tr>\n",
              "            <tr>\n",
              "                        <th id=\"T_4cc2a6ca_7ed1_11ec_9aa5_0242ac1c0002level0_row6\" class=\"row_heading level0 row6\" >6</th>\n",
              "                        <td id=\"T_4cc2a6ca_7ed1_11ec_9aa5_0242ac1c0002row6_col0\" class=\"data row6 col0\" >max_iter</td>\n",
              "                        <td id=\"T_4cc2a6ca_7ed1_11ec_9aa5_0242ac1c0002row6_col1\" class=\"data row6 col1\" >100</td>\n",
              "                        <td id=\"T_4cc2a6ca_7ed1_11ec_9aa5_0242ac1c0002row6_col2\" class=\"data row6 col2\" >100</td>\n",
              "                        <td id=\"T_4cc2a6ca_7ed1_11ec_9aa5_0242ac1c0002row6_col3\" class=\"data row6 col3\" >100</td>\n",
              "            </tr>\n",
              "            <tr>\n",
              "                        <th id=\"T_4cc2a6ca_7ed1_11ec_9aa5_0242ac1c0002level0_row7\" class=\"row_heading level0 row7\" >7</th>\n",
              "                        <td id=\"T_4cc2a6ca_7ed1_11ec_9aa5_0242ac1c0002row7_col0\" class=\"data row7 col0\" >multi_class</td>\n",
              "                        <td id=\"T_4cc2a6ca_7ed1_11ec_9aa5_0242ac1c0002row7_col1\" class=\"data row7 col1\" >auto</td>\n",
              "                        <td id=\"T_4cc2a6ca_7ed1_11ec_9aa5_0242ac1c0002row7_col2\" class=\"data row7 col2\" >auto</td>\n",
              "                        <td id=\"T_4cc2a6ca_7ed1_11ec_9aa5_0242ac1c0002row7_col3\" class=\"data row7 col3\" >auto</td>\n",
              "            </tr>\n",
              "            <tr>\n",
              "                        <th id=\"T_4cc2a6ca_7ed1_11ec_9aa5_0242ac1c0002level0_row8\" class=\"row_heading level0 row8\" >8</th>\n",
              "                        <td id=\"T_4cc2a6ca_7ed1_11ec_9aa5_0242ac1c0002row8_col0\" class=\"data row8 col0\" >n_jobs</td>\n",
              "                        <td id=\"T_4cc2a6ca_7ed1_11ec_9aa5_0242ac1c0002row8_col1\" class=\"data row8 col1\" >None</td>\n",
              "                        <td id=\"T_4cc2a6ca_7ed1_11ec_9aa5_0242ac1c0002row8_col2\" class=\"data row8 col2\" >None</td>\n",
              "                        <td id=\"T_4cc2a6ca_7ed1_11ec_9aa5_0242ac1c0002row8_col3\" class=\"data row8 col3\" >None</td>\n",
              "            </tr>\n",
              "            <tr>\n",
              "                        <th id=\"T_4cc2a6ca_7ed1_11ec_9aa5_0242ac1c0002level0_row9\" class=\"row_heading level0 row9\" >9</th>\n",
              "                        <td id=\"T_4cc2a6ca_7ed1_11ec_9aa5_0242ac1c0002row9_col0\" class=\"data row9 col0\" >penalty</td>\n",
              "                        <td id=\"T_4cc2a6ca_7ed1_11ec_9aa5_0242ac1c0002row9_col1\" class=\"data row9 col1\" >l2</td>\n",
              "                        <td id=\"T_4cc2a6ca_7ed1_11ec_9aa5_0242ac1c0002row9_col2\" class=\"data row9 col2\" >l1</td>\n",
              "                        <td id=\"T_4cc2a6ca_7ed1_11ec_9aa5_0242ac1c0002row9_col3\" class=\"data row9 col3\" >l2</td>\n",
              "            </tr>\n",
              "            <tr>\n",
              "                        <th id=\"T_4cc2a6ca_7ed1_11ec_9aa5_0242ac1c0002level0_row10\" class=\"row_heading level0 row10\" >10</th>\n",
              "                        <td id=\"T_4cc2a6ca_7ed1_11ec_9aa5_0242ac1c0002row10_col0\" class=\"data row10 col0\" >random_state</td>\n",
              "                        <td id=\"T_4cc2a6ca_7ed1_11ec_9aa5_0242ac1c0002row10_col1\" class=\"data row10 col1\" >None</td>\n",
              "                        <td id=\"T_4cc2a6ca_7ed1_11ec_9aa5_0242ac1c0002row10_col2\" class=\"data row10 col2\" >None</td>\n",
              "                        <td id=\"T_4cc2a6ca_7ed1_11ec_9aa5_0242ac1c0002row10_col3\" class=\"data row10 col3\" >None</td>\n",
              "            </tr>\n",
              "            <tr>\n",
              "                        <th id=\"T_4cc2a6ca_7ed1_11ec_9aa5_0242ac1c0002level0_row11\" class=\"row_heading level0 row11\" >11</th>\n",
              "                        <td id=\"T_4cc2a6ca_7ed1_11ec_9aa5_0242ac1c0002row11_col0\" class=\"data row11 col0\" >solver</td>\n",
              "                        <td id=\"T_4cc2a6ca_7ed1_11ec_9aa5_0242ac1c0002row11_col1\" class=\"data row11 col1\" >lbfgs</td>\n",
              "                        <td id=\"T_4cc2a6ca_7ed1_11ec_9aa5_0242ac1c0002row11_col2\" class=\"data row11 col2\" >liblinear</td>\n",
              "                        <td id=\"T_4cc2a6ca_7ed1_11ec_9aa5_0242ac1c0002row11_col3\" class=\"data row11 col3\" >lbfgs</td>\n",
              "            </tr>\n",
              "            <tr>\n",
              "                        <th id=\"T_4cc2a6ca_7ed1_11ec_9aa5_0242ac1c0002level0_row12\" class=\"row_heading level0 row12\" >12</th>\n",
              "                        <td id=\"T_4cc2a6ca_7ed1_11ec_9aa5_0242ac1c0002row12_col0\" class=\"data row12 col0\" >tol</td>\n",
              "                        <td id=\"T_4cc2a6ca_7ed1_11ec_9aa5_0242ac1c0002row12_col1\" class=\"data row12 col1\" >0.000100</td>\n",
              "                        <td id=\"T_4cc2a6ca_7ed1_11ec_9aa5_0242ac1c0002row12_col2\" class=\"data row12 col2\" >0.000100</td>\n",
              "                        <td id=\"T_4cc2a6ca_7ed1_11ec_9aa5_0242ac1c0002row12_col3\" class=\"data row12 col3\" >0.000100</td>\n",
              "            </tr>\n",
              "            <tr>\n",
              "                        <th id=\"T_4cc2a6ca_7ed1_11ec_9aa5_0242ac1c0002level0_row13\" class=\"row_heading level0 row13\" >13</th>\n",
              "                        <td id=\"T_4cc2a6ca_7ed1_11ec_9aa5_0242ac1c0002row13_col0\" class=\"data row13 col0\" >verbose</td>\n",
              "                        <td id=\"T_4cc2a6ca_7ed1_11ec_9aa5_0242ac1c0002row13_col1\" class=\"data row13 col1\" >0</td>\n",
              "                        <td id=\"T_4cc2a6ca_7ed1_11ec_9aa5_0242ac1c0002row13_col2\" class=\"data row13 col2\" >0</td>\n",
              "                        <td id=\"T_4cc2a6ca_7ed1_11ec_9aa5_0242ac1c0002row13_col3\" class=\"data row13 col3\" >0</td>\n",
              "            </tr>\n",
              "            <tr>\n",
              "                        <th id=\"T_4cc2a6ca_7ed1_11ec_9aa5_0242ac1c0002level0_row14\" class=\"row_heading level0 row14\" >14</th>\n",
              "                        <td id=\"T_4cc2a6ca_7ed1_11ec_9aa5_0242ac1c0002row14_col0\" class=\"data row14 col0\" >warm_start</td>\n",
              "                        <td id=\"T_4cc2a6ca_7ed1_11ec_9aa5_0242ac1c0002row14_col1\" class=\"data row14 col1\" >False</td>\n",
              "                        <td id=\"T_4cc2a6ca_7ed1_11ec_9aa5_0242ac1c0002row14_col2\" class=\"data row14 col2\" >False</td>\n",
              "                        <td id=\"T_4cc2a6ca_7ed1_11ec_9aa5_0242ac1c0002row14_col3\" class=\"data row14 col3\" >False</td>\n",
              "            </tr>\n",
              "    </tbody></table>"
            ],
            "text/plain": [
              "<IPython.core.display.HTML object>"
            ]
          },
          "metadata": {}
        },
        {
          "output_type": "stream",
          "name": "stdout",
          "text": [
            "\n",
            "\n",
            "\n"
          ]
        }
      ]
    },
    {
      "cell_type": "code",
      "metadata": {
        "colab": {
          "base_uri": "https://localhost:8080/"
        },
        "id": "6Go4SF37Ex_Z",
        "outputId": "a4065c9a-9432-400a-c303-5e415d2ab8f6"
      },
      "source": [
        "# Submit a third model using GridSearchCV\n",
        "\n",
        "from sklearn.ensemble import RandomForestClassifier\n",
        "from sklearn.model_selection import GridSearchCV\n",
        "import numpy as np\n",
        "\n",
        "param_grid = {'n_estimators': np.arange(100, 300, 500),'max_depth':[1, 3, 5]} #np.arange creates sequence of numbers for each k value\n",
        "\n",
        "gridmodel = GridSearchCV(RandomForestClassifier(), param_grid=param_grid, cv=10)\n",
        "\n",
        "#use meta model methods to fit score and predict model:\n",
        "gridmodel.fit(preprocessor(X_train), y_train_labels)\n",
        "\n",
        "#extract best score and parameter by calling objects \"best_score_\" and \"best_params_\"\n",
        "print(\"best mean cross-validation score: {:.3f}\".format(gridmodel.best_score_))\n",
        "print(\"best parameters: {}\".format(gridmodel.best_params_))\n"
      ],
      "execution_count": 21,
      "outputs": [
        {
          "output_type": "stream",
          "name": "stdout",
          "text": [
            "best mean cross-validation score: 0.796\n",
            "best parameters: {'max_depth': 5, 'n_estimators': 100}\n"
          ]
        }
      ]
    },
    {
      "cell_type": "code",
      "metadata": {
        "id": "HvLuIvOjHLH2"
      },
      "source": [
        "# Save sklearn model to local ONNX file\n",
        "from aimodelshare.aimsonnx import model_to_onnx\n",
        "\n",
        "feature_count=preprocessor(X_test).shape[1] #Get count of preprocessed features\n",
        "initial_type = [('float_input', FloatTensorType([None, feature_count]))]  # Insert correct number of preprocessed features\n",
        "\n",
        "onnx_model = model_to_onnx(gridmodel, framework='sklearn',\n",
        "                          initial_types=initial_type,\n",
        "                          transfer_learning=False,\n",
        "                          deep_learning=False)\n",
        "\n",
        "with open(\"gridmodel.onnx\", \"wb\") as f:\n",
        "    f.write(onnx_model.SerializeToString())"
      ],
      "execution_count": 22,
      "outputs": []
    },
    {
      "cell_type": "code",
      "metadata": {
        "colab": {
          "base_uri": "https://localhost:8080/"
        },
        "id": "sMidHABfHVN7",
        "outputId": "0fe61c7c-0063-4ce1-f614-6a57e037a704"
      },
      "source": [
        "#Submit Model 3: \n",
        "\n",
        "#-- Generate predicted values\n",
        "prediction_labels = gridmodel.predict(preprocessor(X_test))\n",
        "\n",
        "# Submit to Competition Leaderboard\n",
        "mycompetition.submit_model(model_filepath = \"gridmodel.onnx\",\n",
        "                                 preprocessor_filepath=\"preprocessor.zip\",\n",
        "                                 prediction_submission=prediction_labels)"
      ],
      "execution_count": 23,
      "outputs": [
        {
          "output_type": "stream",
          "name": "stdout",
          "text": [
            "Insert search tags to help users find your model (optional): \n",
            "Provide any useful notes about your model (optional): \n",
            "\n",
            "Your model has been submitted as model version 5\n",
            "\n",
            "To submit code used to create this model or to view current leaderboard navigate to Model Playground: \n",
            "\n",
            " https://www.modelshare.org/detail/model:1283\n"
          ]
        }
      ]
    },
    {
      "cell_type": "code",
      "metadata": {
        "colab": {
          "base_uri": "https://localhost:8080/",
          "height": 307
        },
        "id": "hn-Tp-zpJVGT",
        "outputId": "26e128af-160a-45d6-8e98-a7535f70d291"
      },
      "source": [
        "# Get leaderboard\n",
        "\n",
        "data = mycompetition.get_leaderboard()\n",
        "mycompetition.stylize_leaderboard(data)"
      ],
      "execution_count": 24,
      "outputs": [
        {
          "output_type": "execute_result",
          "data": {
            "text/html": [
              "<style  type=\"text/css\" >\n",
              "#T_5ac6169e_7ed1_11ec_9aa5_0242ac1c0002row0_col0{\n",
              "            text-align:  center;\n",
              "            width:  10em;\n",
              "             height:  80%;\n",
              "            background:  linear-gradient(90deg,#f5f8d6 75.2%, transparent 75.2%);\n",
              "            color:  #251e1b;\n",
              "            font-size:  12px;\n",
              "        }#T_5ac6169e_7ed1_11ec_9aa5_0242ac1c0002row0_col1{\n",
              "            text-align:  center;\n",
              "            width:  10em;\n",
              "             height:  80%;\n",
              "            background:  linear-gradient(90deg,#c778c8 73.8%, transparent 73.8%);\n",
              "            color:  #251e1b;\n",
              "            font-size:  12px;\n",
              "        }#T_5ac6169e_7ed1_11ec_9aa5_0242ac1c0002row0_col2{\n",
              "            text-align:  center;\n",
              "            width:  10em;\n",
              "             height:  80%;\n",
              "            background:  linear-gradient(90deg,#ff4971 73.6%, transparent 73.6%);\n",
              "            color:  #251e1b;\n",
              "            font-size:  12px;\n",
              "        }#T_5ac6169e_7ed1_11ec_9aa5_0242ac1c0002row0_col3{\n",
              "            text-align:  center;\n",
              "            width:  10em;\n",
              "             height:  80%;\n",
              "            background:  linear-gradient(90deg,#aadbaa 73.9%, transparent 73.9%);\n",
              "            color:  #251e1b;\n",
              "            font-size:  12px;\n",
              "        }#T_5ac6169e_7ed1_11ec_9aa5_0242ac1c0002row0_col4,#T_5ac6169e_7ed1_11ec_9aa5_0242ac1c0002row0_col5,#T_5ac6169e_7ed1_11ec_9aa5_0242ac1c0002row0_col6,#T_5ac6169e_7ed1_11ec_9aa5_0242ac1c0002row0_col7,#T_5ac6169e_7ed1_11ec_9aa5_0242ac1c0002row0_col8,#T_5ac6169e_7ed1_11ec_9aa5_0242ac1c0002row0_col9,#T_5ac6169e_7ed1_11ec_9aa5_0242ac1c0002row0_col10,#T_5ac6169e_7ed1_11ec_9aa5_0242ac1c0002row0_col11,#T_5ac6169e_7ed1_11ec_9aa5_0242ac1c0002row0_col12,#T_5ac6169e_7ed1_11ec_9aa5_0242ac1c0002row1_col4,#T_5ac6169e_7ed1_11ec_9aa5_0242ac1c0002row1_col5,#T_5ac6169e_7ed1_11ec_9aa5_0242ac1c0002row1_col6,#T_5ac6169e_7ed1_11ec_9aa5_0242ac1c0002row1_col7,#T_5ac6169e_7ed1_11ec_9aa5_0242ac1c0002row1_col8,#T_5ac6169e_7ed1_11ec_9aa5_0242ac1c0002row1_col9,#T_5ac6169e_7ed1_11ec_9aa5_0242ac1c0002row1_col10,#T_5ac6169e_7ed1_11ec_9aa5_0242ac1c0002row1_col11,#T_5ac6169e_7ed1_11ec_9aa5_0242ac1c0002row1_col12,#T_5ac6169e_7ed1_11ec_9aa5_0242ac1c0002row2_col4,#T_5ac6169e_7ed1_11ec_9aa5_0242ac1c0002row2_col5,#T_5ac6169e_7ed1_11ec_9aa5_0242ac1c0002row2_col6,#T_5ac6169e_7ed1_11ec_9aa5_0242ac1c0002row2_col7,#T_5ac6169e_7ed1_11ec_9aa5_0242ac1c0002row2_col8,#T_5ac6169e_7ed1_11ec_9aa5_0242ac1c0002row2_col9,#T_5ac6169e_7ed1_11ec_9aa5_0242ac1c0002row2_col10,#T_5ac6169e_7ed1_11ec_9aa5_0242ac1c0002row2_col11,#T_5ac6169e_7ed1_11ec_9aa5_0242ac1c0002row2_col12,#T_5ac6169e_7ed1_11ec_9aa5_0242ac1c0002row3_col4,#T_5ac6169e_7ed1_11ec_9aa5_0242ac1c0002row3_col5,#T_5ac6169e_7ed1_11ec_9aa5_0242ac1c0002row3_col6,#T_5ac6169e_7ed1_11ec_9aa5_0242ac1c0002row3_col7,#T_5ac6169e_7ed1_11ec_9aa5_0242ac1c0002row3_col8,#T_5ac6169e_7ed1_11ec_9aa5_0242ac1c0002row3_col9,#T_5ac6169e_7ed1_11ec_9aa5_0242ac1c0002row3_col10,#T_5ac6169e_7ed1_11ec_9aa5_0242ac1c0002row3_col11,#T_5ac6169e_7ed1_11ec_9aa5_0242ac1c0002row3_col12,#T_5ac6169e_7ed1_11ec_9aa5_0242ac1c0002row4_col4,#T_5ac6169e_7ed1_11ec_9aa5_0242ac1c0002row4_col5,#T_5ac6169e_7ed1_11ec_9aa5_0242ac1c0002row4_col6,#T_5ac6169e_7ed1_11ec_9aa5_0242ac1c0002row4_col7,#T_5ac6169e_7ed1_11ec_9aa5_0242ac1c0002row4_col8,#T_5ac6169e_7ed1_11ec_9aa5_0242ac1c0002row4_col9,#T_5ac6169e_7ed1_11ec_9aa5_0242ac1c0002row4_col10,#T_5ac6169e_7ed1_11ec_9aa5_0242ac1c0002row4_col11,#T_5ac6169e_7ed1_11ec_9aa5_0242ac1c0002row4_col12{\n",
              "            text-align:  center;\n",
              "        }#T_5ac6169e_7ed1_11ec_9aa5_0242ac1c0002row1_col0{\n",
              "            text-align:  center;\n",
              "            width:  10em;\n",
              "             height:  80%;\n",
              "            background:  linear-gradient(90deg,#f5f8d6 77.5%, transparent 77.5%);\n",
              "            color:  #251e1b;\n",
              "            font-size:  12px;\n",
              "        }#T_5ac6169e_7ed1_11ec_9aa5_0242ac1c0002row1_col1{\n",
              "            text-align:  center;\n",
              "            width:  10em;\n",
              "             height:  80%;\n",
              "            background:  linear-gradient(90deg,#c778c8 73.6%, transparent 73.6%);\n",
              "            color:  #251e1b;\n",
              "            font-size:  12px;\n",
              "        }#T_5ac6169e_7ed1_11ec_9aa5_0242ac1c0002row1_col2{\n",
              "            text-align:  center;\n",
              "            width:  10em;\n",
              "             height:  80%;\n",
              "            background:  linear-gradient(90deg,#ff4971 79.1%, transparent 79.1%);\n",
              "            color:  #251e1b;\n",
              "            font-size:  12px;\n",
              "        }#T_5ac6169e_7ed1_11ec_9aa5_0242ac1c0002row1_col3{\n",
              "            text-align:  center;\n",
              "            width:  10em;\n",
              "             height:  80%;\n",
              "            background:  linear-gradient(90deg,#aadbaa 72.4%, transparent 72.4%);\n",
              "            color:  #251e1b;\n",
              "            font-size:  12px;\n",
              "        }#T_5ac6169e_7ed1_11ec_9aa5_0242ac1c0002row2_col0{\n",
              "            text-align:  center;\n",
              "            width:  10em;\n",
              "             height:  80%;\n",
              "            background:  linear-gradient(90deg,#f5f8d6 56.9%, transparent 56.9%);\n",
              "            color:  #251e1b;\n",
              "            font-size:  12px;\n",
              "        }#T_5ac6169e_7ed1_11ec_9aa5_0242ac1c0002row2_col1{\n",
              "            text-align:  center;\n",
              "            width:  10em;\n",
              "             height:  80%;\n",
              "            background:  linear-gradient(90deg,#c778c8 50.7%, transparent 50.7%);\n",
              "            color:  #251e1b;\n",
              "            font-size:  12px;\n",
              "        }#T_5ac6169e_7ed1_11ec_9aa5_0242ac1c0002row2_col2{\n",
              "            text-align:  center;\n",
              "            width:  10em;\n",
              "             height:  80%;\n",
              "            background:  linear-gradient(90deg,#ff4971 51.5%, transparent 51.5%);\n",
              "            color:  #251e1b;\n",
              "            font-size:  12px;\n",
              "        }#T_5ac6169e_7ed1_11ec_9aa5_0242ac1c0002row2_col3{\n",
              "            text-align:  center;\n",
              "            width:  10em;\n",
              "             height:  80%;\n",
              "            background:  linear-gradient(90deg,#aadbaa 51.3%, transparent 51.3%);\n",
              "            color:  #251e1b;\n",
              "            font-size:  12px;\n",
              "        }#T_5ac6169e_7ed1_11ec_9aa5_0242ac1c0002row3_col0{\n",
              "            text-align:  center;\n",
              "            width:  10em;\n",
              "             height:  80%;\n",
              "            background:  linear-gradient(90deg,#f5f8d6 54.2%, transparent 54.2%);\n",
              "            color:  #251e1b;\n",
              "            font-size:  12px;\n",
              "        }#T_5ac6169e_7ed1_11ec_9aa5_0242ac1c0002row3_col1{\n",
              "            text-align:  center;\n",
              "            width:  10em;\n",
              "             height:  80%;\n",
              "            background:  linear-gradient(90deg,#c778c8 48.7%, transparent 48.7%);\n",
              "            color:  #251e1b;\n",
              "            font-size:  12px;\n",
              "        }#T_5ac6169e_7ed1_11ec_9aa5_0242ac1c0002row3_col2{\n",
              "            text-align:  center;\n",
              "            width:  10em;\n",
              "             height:  80%;\n",
              "            background:  linear-gradient(90deg,#ff4971 49.0%, transparent 49.0%);\n",
              "            color:  #251e1b;\n",
              "            font-size:  12px;\n",
              "        }#T_5ac6169e_7ed1_11ec_9aa5_0242ac1c0002row3_col3{\n",
              "            text-align:  center;\n",
              "            width:  10em;\n",
              "             height:  80%;\n",
              "            background:  linear-gradient(90deg,#aadbaa 49.1%, transparent 49.1%);\n",
              "            color:  #251e1b;\n",
              "            font-size:  12px;\n",
              "        }#T_5ac6169e_7ed1_11ec_9aa5_0242ac1c0002row4_col0{\n",
              "            text-align:  center;\n",
              "            width:  10em;\n",
              "             height:  80%;\n",
              "            background:  linear-gradient(90deg,#f5f8d6 51.9%, transparent 51.9%);\n",
              "            color:  #251e1b;\n",
              "            font-size:  12px;\n",
              "        }#T_5ac6169e_7ed1_11ec_9aa5_0242ac1c0002row4_col1{\n",
              "            text-align:  center;\n",
              "            width:  10em;\n",
              "             height:  80%;\n",
              "            background:  linear-gradient(90deg,#c778c8 48.2%, transparent 48.2%);\n",
              "            color:  #251e1b;\n",
              "            font-size:  12px;\n",
              "        }#T_5ac6169e_7ed1_11ec_9aa5_0242ac1c0002row4_col2{\n",
              "            text-align:  center;\n",
              "            width:  10em;\n",
              "             height:  80%;\n",
              "            background:  linear-gradient(90deg,#ff4971 48.2%, transparent 48.2%);\n",
              "            color:  #251e1b;\n",
              "            font-size:  12px;\n",
              "        }#T_5ac6169e_7ed1_11ec_9aa5_0242ac1c0002row4_col3{\n",
              "            text-align:  center;\n",
              "            width:  10em;\n",
              "             height:  80%;\n",
              "            background:  linear-gradient(90deg,#aadbaa 48.3%, transparent 48.3%);\n",
              "            color:  #251e1b;\n",
              "            font-size:  12px;\n",
              "        }</style><table id=\"T_5ac6169e_7ed1_11ec_9aa5_0242ac1c0002\" class=\"dataframe\"><thead>    <tr>        <th class=\"blank level0\" ></th>        <th class=\"col_heading level0 col0\" >accuracy</th>        <th class=\"col_heading level0 col1\" >f1_score</th>        <th class=\"col_heading level0 col2\" >precision</th>        <th class=\"col_heading level0 col3\" >recall</th>        <th class=\"col_heading level0 col4\" >ml_framework</th>        <th class=\"col_heading level0 col5\" >transfer_learning</th>        <th class=\"col_heading level0 col6\" >deep_learning</th>        <th class=\"col_heading level0 col7\" >model_type</th>        <th class=\"col_heading level0 col8\" >num_params</th>        <th class=\"col_heading level0 col9\" >optimizer</th>        <th class=\"col_heading level0 col10\" >model_config</th>        <th class=\"col_heading level0 col11\" >username</th>        <th class=\"col_heading level0 col12\" >version</th>    </tr></thead><tbody>\n",
              "                <tr>\n",
              "                        <th id=\"T_5ac6169e_7ed1_11ec_9aa5_0242ac1c0002level0_row0\" class=\"row_heading level0 row0\" >0</th>\n",
              "                        <td id=\"T_5ac6169e_7ed1_11ec_9aa5_0242ac1c0002row0_col0\" class=\"data row0 col0\" >75.19%</td>\n",
              "                        <td id=\"T_5ac6169e_7ed1_11ec_9aa5_0242ac1c0002row0_col1\" class=\"data row0 col1\" >73.77%</td>\n",
              "                        <td id=\"T_5ac6169e_7ed1_11ec_9aa5_0242ac1c0002row0_col2\" class=\"data row0 col2\" >73.65%</td>\n",
              "                        <td id=\"T_5ac6169e_7ed1_11ec_9aa5_0242ac1c0002row0_col3\" class=\"data row0 col3\" >73.91%</td>\n",
              "                        <td id=\"T_5ac6169e_7ed1_11ec_9aa5_0242ac1c0002row0_col4\" class=\"data row0 col4\" >sklearn</td>\n",
              "                        <td id=\"T_5ac6169e_7ed1_11ec_9aa5_0242ac1c0002row0_col5\" class=\"data row0 col5\" >False</td>\n",
              "                        <td id=\"T_5ac6169e_7ed1_11ec_9aa5_0242ac1c0002row0_col6\" class=\"data row0 col6\" >False</td>\n",
              "                        <td id=\"T_5ac6169e_7ed1_11ec_9aa5_0242ac1c0002row0_col7\" class=\"data row0 col7\" >LogisticRegression</td>\n",
              "                        <td id=\"T_5ac6169e_7ed1_11ec_9aa5_0242ac1c0002row0_col8\" class=\"data row0 col8\" >10.000000</td>\n",
              "                        <td id=\"T_5ac6169e_7ed1_11ec_9aa5_0242ac1c0002row0_col9\" class=\"data row0 col9\" >liblinear</td>\n",
              "                        <td id=\"T_5ac6169e_7ed1_11ec_9aa5_0242ac1c0002row0_col10\" class=\"data row0 col10\" >{'C': 10, 'class_weight': None...</td>\n",
              "                        <td id=\"T_5ac6169e_7ed1_11ec_9aa5_0242ac1c0002row0_col11\" class=\"data row0 col11\" >AdvProjectsinML</td>\n",
              "                        <td id=\"T_5ac6169e_7ed1_11ec_9aa5_0242ac1c0002row0_col12\" class=\"data row0 col12\" >1</td>\n",
              "            </tr>\n",
              "            <tr>\n",
              "                        <th id=\"T_5ac6169e_7ed1_11ec_9aa5_0242ac1c0002level0_row1\" class=\"row_heading level0 row1\" >2</th>\n",
              "                        <td id=\"T_5ac6169e_7ed1_11ec_9aa5_0242ac1c0002row1_col0\" class=\"data row1 col0\" >77.48%</td>\n",
              "                        <td id=\"T_5ac6169e_7ed1_11ec_9aa5_0242ac1c0002row1_col1\" class=\"data row1 col1\" >73.55%</td>\n",
              "                        <td id=\"T_5ac6169e_7ed1_11ec_9aa5_0242ac1c0002row1_col2\" class=\"data row1 col2\" >79.13%</td>\n",
              "                        <td id=\"T_5ac6169e_7ed1_11ec_9aa5_0242ac1c0002row1_col3\" class=\"data row1 col3\" >72.38%</td>\n",
              "                        <td id=\"T_5ac6169e_7ed1_11ec_9aa5_0242ac1c0002row1_col4\" class=\"data row1 col4\" >sklearn</td>\n",
              "                        <td id=\"T_5ac6169e_7ed1_11ec_9aa5_0242ac1c0002row1_col5\" class=\"data row1 col5\" >False</td>\n",
              "                        <td id=\"T_5ac6169e_7ed1_11ec_9aa5_0242ac1c0002row1_col6\" class=\"data row1 col6\" >False</td>\n",
              "                        <td id=\"T_5ac6169e_7ed1_11ec_9aa5_0242ac1c0002row1_col7\" class=\"data row1 col7\" >LogisticRegression</td>\n",
              "                        <td id=\"T_5ac6169e_7ed1_11ec_9aa5_0242ac1c0002row1_col8\" class=\"data row1 col8\" >10.000000</td>\n",
              "                        <td id=\"T_5ac6169e_7ed1_11ec_9aa5_0242ac1c0002row1_col9\" class=\"data row1 col9\" >lbfgs</td>\n",
              "                        <td id=\"T_5ac6169e_7ed1_11ec_9aa5_0242ac1c0002row1_col10\" class=\"data row1 col10\" >{'C': 0.01, 'class_weight': No...</td>\n",
              "                        <td id=\"T_5ac6169e_7ed1_11ec_9aa5_0242ac1c0002row1_col11\" class=\"data row1 col11\" >AdvProjectsinML</td>\n",
              "                        <td id=\"T_5ac6169e_7ed1_11ec_9aa5_0242ac1c0002row1_col12\" class=\"data row1 col12\" >2</td>\n",
              "            </tr>\n",
              "            <tr>\n",
              "                        <th id=\"T_5ac6169e_7ed1_11ec_9aa5_0242ac1c0002level0_row2\" class=\"row_heading level0 row2\" >3</th>\n",
              "                        <td id=\"T_5ac6169e_7ed1_11ec_9aa5_0242ac1c0002row2_col0\" class=\"data row2 col0\" >56.87%</td>\n",
              "                        <td id=\"T_5ac6169e_7ed1_11ec_9aa5_0242ac1c0002row2_col1\" class=\"data row2 col1\" >50.65%</td>\n",
              "                        <td id=\"T_5ac6169e_7ed1_11ec_9aa5_0242ac1c0002row2_col2\" class=\"data row2 col2\" >51.51%</td>\n",
              "                        <td id=\"T_5ac6169e_7ed1_11ec_9aa5_0242ac1c0002row2_col3\" class=\"data row2 col3\" >51.26%</td>\n",
              "                        <td id=\"T_5ac6169e_7ed1_11ec_9aa5_0242ac1c0002row2_col4\" class=\"data row2 col4\" >sklearn</td>\n",
              "                        <td id=\"T_5ac6169e_7ed1_11ec_9aa5_0242ac1c0002row2_col5\" class=\"data row2 col5\" >False</td>\n",
              "                        <td id=\"T_5ac6169e_7ed1_11ec_9aa5_0242ac1c0002row2_col6\" class=\"data row2 col6\" >False</td>\n",
              "                        <td id=\"T_5ac6169e_7ed1_11ec_9aa5_0242ac1c0002row2_col7\" class=\"data row2 col7\" >LogisticRegression</td>\n",
              "                        <td id=\"T_5ac6169e_7ed1_11ec_9aa5_0242ac1c0002row2_col8\" class=\"data row2 col8\" >10.000000</td>\n",
              "                        <td id=\"T_5ac6169e_7ed1_11ec_9aa5_0242ac1c0002row2_col9\" class=\"data row2 col9\" >lbfgs</td>\n",
              "                        <td id=\"T_5ac6169e_7ed1_11ec_9aa5_0242ac1c0002row2_col10\" class=\"data row2 col10\" >{'C': 0.01, 'class_weight': No...</td>\n",
              "                        <td id=\"T_5ac6169e_7ed1_11ec_9aa5_0242ac1c0002row2_col11\" class=\"data row2 col11\" >AdvProjectsinML</td>\n",
              "                        <td id=\"T_5ac6169e_7ed1_11ec_9aa5_0242ac1c0002row2_col12\" class=\"data row2 col12\" >4</td>\n",
              "            </tr>\n",
              "            <tr>\n",
              "                        <th id=\"T_5ac6169e_7ed1_11ec_9aa5_0242ac1c0002level0_row3\" class=\"row_heading level0 row3\" >4</th>\n",
              "                        <td id=\"T_5ac6169e_7ed1_11ec_9aa5_0242ac1c0002row3_col0\" class=\"data row3 col0\" >54.20%</td>\n",
              "                        <td id=\"T_5ac6169e_7ed1_11ec_9aa5_0242ac1c0002row3_col1\" class=\"data row3 col1\" >48.67%</td>\n",
              "                        <td id=\"T_5ac6169e_7ed1_11ec_9aa5_0242ac1c0002row3_col2\" class=\"data row3 col2\" >48.99%</td>\n",
              "                        <td id=\"T_5ac6169e_7ed1_11ec_9aa5_0242ac1c0002row3_col3\" class=\"data row3 col3\" >49.11%</td>\n",
              "                        <td id=\"T_5ac6169e_7ed1_11ec_9aa5_0242ac1c0002row3_col4\" class=\"data row3 col4\" >sklearn</td>\n",
              "                        <td id=\"T_5ac6169e_7ed1_11ec_9aa5_0242ac1c0002row3_col5\" class=\"data row3 col5\" >False</td>\n",
              "                        <td id=\"T_5ac6169e_7ed1_11ec_9aa5_0242ac1c0002row3_col6\" class=\"data row3 col6\" >False</td>\n",
              "                        <td id=\"T_5ac6169e_7ed1_11ec_9aa5_0242ac1c0002row3_col7\" class=\"data row3 col7\" >RandomForestClassifier</td>\n",
              "                        <td id=\"T_5ac6169e_7ed1_11ec_9aa5_0242ac1c0002row3_col8\" class=\"data row3 col8\" >nan</td>\n",
              "                        <td id=\"T_5ac6169e_7ed1_11ec_9aa5_0242ac1c0002row3_col9\" class=\"data row3 col9\" >nan</td>\n",
              "                        <td id=\"T_5ac6169e_7ed1_11ec_9aa5_0242ac1c0002row3_col10\" class=\"data row3 col10\" >{'bootstrap': True, 'ccp_alpha...</td>\n",
              "                        <td id=\"T_5ac6169e_7ed1_11ec_9aa5_0242ac1c0002row3_col11\" class=\"data row3 col11\" >AdvProjectsinML</td>\n",
              "                        <td id=\"T_5ac6169e_7ed1_11ec_9aa5_0242ac1c0002row3_col12\" class=\"data row3 col12\" >5</td>\n",
              "            </tr>\n",
              "            <tr>\n",
              "                        <th id=\"T_5ac6169e_7ed1_11ec_9aa5_0242ac1c0002level0_row4\" class=\"row_heading level0 row4\" >5</th>\n",
              "                        <td id=\"T_5ac6169e_7ed1_11ec_9aa5_0242ac1c0002row4_col0\" class=\"data row4 col0\" >51.91%</td>\n",
              "                        <td id=\"T_5ac6169e_7ed1_11ec_9aa5_0242ac1c0002row4_col1\" class=\"data row4 col1\" >48.21%</td>\n",
              "                        <td id=\"T_5ac6169e_7ed1_11ec_9aa5_0242ac1c0002row4_col2\" class=\"data row4 col2\" >48.22%</td>\n",
              "                        <td id=\"T_5ac6169e_7ed1_11ec_9aa5_0242ac1c0002row4_col3\" class=\"data row4 col3\" >48.26%</td>\n",
              "                        <td id=\"T_5ac6169e_7ed1_11ec_9aa5_0242ac1c0002row4_col4\" class=\"data row4 col4\" >sklearn</td>\n",
              "                        <td id=\"T_5ac6169e_7ed1_11ec_9aa5_0242ac1c0002row4_col5\" class=\"data row4 col5\" >False</td>\n",
              "                        <td id=\"T_5ac6169e_7ed1_11ec_9aa5_0242ac1c0002row4_col6\" class=\"data row4 col6\" >False</td>\n",
              "                        <td id=\"T_5ac6169e_7ed1_11ec_9aa5_0242ac1c0002row4_col7\" class=\"data row4 col7\" >LogisticRegression</td>\n",
              "                        <td id=\"T_5ac6169e_7ed1_11ec_9aa5_0242ac1c0002row4_col8\" class=\"data row4 col8\" >10.000000</td>\n",
              "                        <td id=\"T_5ac6169e_7ed1_11ec_9aa5_0242ac1c0002row4_col9\" class=\"data row4 col9\" >liblinear</td>\n",
              "                        <td id=\"T_5ac6169e_7ed1_11ec_9aa5_0242ac1c0002row4_col10\" class=\"data row4 col10\" >{'C': 10, 'class_weight': None...</td>\n",
              "                        <td id=\"T_5ac6169e_7ed1_11ec_9aa5_0242ac1c0002row4_col11\" class=\"data row4 col11\" >AdvProjectsinML</td>\n",
              "                        <td id=\"T_5ac6169e_7ed1_11ec_9aa5_0242ac1c0002row4_col12\" class=\"data row4 col12\" >3</td>\n",
              "            </tr>\n",
              "    </tbody></table>"
            ],
            "text/plain": [
              "<pandas.io.formats.style.Styler at 0x7fed9cd218d0>"
            ]
          },
          "metadata": {},
          "execution_count": 24
        }
      ]
    },
    {
      "cell_type": "code",
      "metadata": {
        "id": "MKvPKyb7hT0h",
        "colab": {
          "base_uri": "https://localhost:8080/",
          "height": 367
        },
        "outputId": "dbc7971b-35ce-47b8-f205-ea271278ea91"
      },
      "source": [
        "# Compare two or more models\n",
        "data=mycompetition.compare_models([2,3], verbose=1)\n",
        "mycompetition.stylize_compare(data)"
      ],
      "execution_count": 26,
      "outputs": [
        {
          "output_type": "display_data",
          "data": {
            "text/html": [
              "<style  type=\"text/css\" >\n",
              "    #T_704effda_7ed1_11ec_9aa5_0242ac1c0002 caption {\n",
              "          color: black;\n",
              "          font-size: 18px;\n",
              "    }#T_704effda_7ed1_11ec_9aa5_0242ac1c0002row0_col2,#T_704effda_7ed1_11ec_9aa5_0242ac1c0002row0_col3,#T_704effda_7ed1_11ec_9aa5_0242ac1c0002row9_col3,#T_704effda_7ed1_11ec_9aa5_0242ac1c0002row11_col3{\n",
              "            background:  tomato;\n",
              "        }</style><table id=\"T_704effda_7ed1_11ec_9aa5_0242ac1c0002\" ><caption>Model type: LogisticRegression</caption><thead>    <tr>        <th class=\"blank level0\" ></th>        <th class=\"col_heading level0 col0\" >param_name</th>        <th class=\"col_heading level0 col1\" >default_value</th>        <th class=\"col_heading level0 col2\" >model_version_2</th>        <th class=\"col_heading level0 col3\" >model_version_3</th>    </tr></thead><tbody>\n",
              "                <tr>\n",
              "                        <th id=\"T_704effda_7ed1_11ec_9aa5_0242ac1c0002level0_row0\" class=\"row_heading level0 row0\" >0</th>\n",
              "                        <td id=\"T_704effda_7ed1_11ec_9aa5_0242ac1c0002row0_col0\" class=\"data row0 col0\" >C</td>\n",
              "                        <td id=\"T_704effda_7ed1_11ec_9aa5_0242ac1c0002row0_col1\" class=\"data row0 col1\" >1.000000</td>\n",
              "                        <td id=\"T_704effda_7ed1_11ec_9aa5_0242ac1c0002row0_col2\" class=\"data row0 col2\" >0.010000</td>\n",
              "                        <td id=\"T_704effda_7ed1_11ec_9aa5_0242ac1c0002row0_col3\" class=\"data row0 col3\" >10</td>\n",
              "            </tr>\n",
              "            <tr>\n",
              "                        <th id=\"T_704effda_7ed1_11ec_9aa5_0242ac1c0002level0_row1\" class=\"row_heading level0 row1\" >1</th>\n",
              "                        <td id=\"T_704effda_7ed1_11ec_9aa5_0242ac1c0002row1_col0\" class=\"data row1 col0\" >class_weight</td>\n",
              "                        <td id=\"T_704effda_7ed1_11ec_9aa5_0242ac1c0002row1_col1\" class=\"data row1 col1\" >None</td>\n",
              "                        <td id=\"T_704effda_7ed1_11ec_9aa5_0242ac1c0002row1_col2\" class=\"data row1 col2\" >None</td>\n",
              "                        <td id=\"T_704effda_7ed1_11ec_9aa5_0242ac1c0002row1_col3\" class=\"data row1 col3\" >None</td>\n",
              "            </tr>\n",
              "            <tr>\n",
              "                        <th id=\"T_704effda_7ed1_11ec_9aa5_0242ac1c0002level0_row2\" class=\"row_heading level0 row2\" >2</th>\n",
              "                        <td id=\"T_704effda_7ed1_11ec_9aa5_0242ac1c0002row2_col0\" class=\"data row2 col0\" >dual</td>\n",
              "                        <td id=\"T_704effda_7ed1_11ec_9aa5_0242ac1c0002row2_col1\" class=\"data row2 col1\" >False</td>\n",
              "                        <td id=\"T_704effda_7ed1_11ec_9aa5_0242ac1c0002row2_col2\" class=\"data row2 col2\" >False</td>\n",
              "                        <td id=\"T_704effda_7ed1_11ec_9aa5_0242ac1c0002row2_col3\" class=\"data row2 col3\" >False</td>\n",
              "            </tr>\n",
              "            <tr>\n",
              "                        <th id=\"T_704effda_7ed1_11ec_9aa5_0242ac1c0002level0_row3\" class=\"row_heading level0 row3\" >3</th>\n",
              "                        <td id=\"T_704effda_7ed1_11ec_9aa5_0242ac1c0002row3_col0\" class=\"data row3 col0\" >fit_intercept</td>\n",
              "                        <td id=\"T_704effda_7ed1_11ec_9aa5_0242ac1c0002row3_col1\" class=\"data row3 col1\" >True</td>\n",
              "                        <td id=\"T_704effda_7ed1_11ec_9aa5_0242ac1c0002row3_col2\" class=\"data row3 col2\" >True</td>\n",
              "                        <td id=\"T_704effda_7ed1_11ec_9aa5_0242ac1c0002row3_col3\" class=\"data row3 col3\" >True</td>\n",
              "            </tr>\n",
              "            <tr>\n",
              "                        <th id=\"T_704effda_7ed1_11ec_9aa5_0242ac1c0002level0_row4\" class=\"row_heading level0 row4\" >4</th>\n",
              "                        <td id=\"T_704effda_7ed1_11ec_9aa5_0242ac1c0002row4_col0\" class=\"data row4 col0\" >intercept_scaling</td>\n",
              "                        <td id=\"T_704effda_7ed1_11ec_9aa5_0242ac1c0002row4_col1\" class=\"data row4 col1\" >1</td>\n",
              "                        <td id=\"T_704effda_7ed1_11ec_9aa5_0242ac1c0002row4_col2\" class=\"data row4 col2\" >1</td>\n",
              "                        <td id=\"T_704effda_7ed1_11ec_9aa5_0242ac1c0002row4_col3\" class=\"data row4 col3\" >1</td>\n",
              "            </tr>\n",
              "            <tr>\n",
              "                        <th id=\"T_704effda_7ed1_11ec_9aa5_0242ac1c0002level0_row5\" class=\"row_heading level0 row5\" >5</th>\n",
              "                        <td id=\"T_704effda_7ed1_11ec_9aa5_0242ac1c0002row5_col0\" class=\"data row5 col0\" >l1_ratio</td>\n",
              "                        <td id=\"T_704effda_7ed1_11ec_9aa5_0242ac1c0002row5_col1\" class=\"data row5 col1\" >None</td>\n",
              "                        <td id=\"T_704effda_7ed1_11ec_9aa5_0242ac1c0002row5_col2\" class=\"data row5 col2\" >None</td>\n",
              "                        <td id=\"T_704effda_7ed1_11ec_9aa5_0242ac1c0002row5_col3\" class=\"data row5 col3\" >None</td>\n",
              "            </tr>\n",
              "            <tr>\n",
              "                        <th id=\"T_704effda_7ed1_11ec_9aa5_0242ac1c0002level0_row6\" class=\"row_heading level0 row6\" >6</th>\n",
              "                        <td id=\"T_704effda_7ed1_11ec_9aa5_0242ac1c0002row6_col0\" class=\"data row6 col0\" >max_iter</td>\n",
              "                        <td id=\"T_704effda_7ed1_11ec_9aa5_0242ac1c0002row6_col1\" class=\"data row6 col1\" >100</td>\n",
              "                        <td id=\"T_704effda_7ed1_11ec_9aa5_0242ac1c0002row6_col2\" class=\"data row6 col2\" >100</td>\n",
              "                        <td id=\"T_704effda_7ed1_11ec_9aa5_0242ac1c0002row6_col3\" class=\"data row6 col3\" >100</td>\n",
              "            </tr>\n",
              "            <tr>\n",
              "                        <th id=\"T_704effda_7ed1_11ec_9aa5_0242ac1c0002level0_row7\" class=\"row_heading level0 row7\" >7</th>\n",
              "                        <td id=\"T_704effda_7ed1_11ec_9aa5_0242ac1c0002row7_col0\" class=\"data row7 col0\" >multi_class</td>\n",
              "                        <td id=\"T_704effda_7ed1_11ec_9aa5_0242ac1c0002row7_col1\" class=\"data row7 col1\" >auto</td>\n",
              "                        <td id=\"T_704effda_7ed1_11ec_9aa5_0242ac1c0002row7_col2\" class=\"data row7 col2\" >auto</td>\n",
              "                        <td id=\"T_704effda_7ed1_11ec_9aa5_0242ac1c0002row7_col3\" class=\"data row7 col3\" >auto</td>\n",
              "            </tr>\n",
              "            <tr>\n",
              "                        <th id=\"T_704effda_7ed1_11ec_9aa5_0242ac1c0002level0_row8\" class=\"row_heading level0 row8\" >8</th>\n",
              "                        <td id=\"T_704effda_7ed1_11ec_9aa5_0242ac1c0002row8_col0\" class=\"data row8 col0\" >n_jobs</td>\n",
              "                        <td id=\"T_704effda_7ed1_11ec_9aa5_0242ac1c0002row8_col1\" class=\"data row8 col1\" >None</td>\n",
              "                        <td id=\"T_704effda_7ed1_11ec_9aa5_0242ac1c0002row8_col2\" class=\"data row8 col2\" >None</td>\n",
              "                        <td id=\"T_704effda_7ed1_11ec_9aa5_0242ac1c0002row8_col3\" class=\"data row8 col3\" >None</td>\n",
              "            </tr>\n",
              "            <tr>\n",
              "                        <th id=\"T_704effda_7ed1_11ec_9aa5_0242ac1c0002level0_row9\" class=\"row_heading level0 row9\" >9</th>\n",
              "                        <td id=\"T_704effda_7ed1_11ec_9aa5_0242ac1c0002row9_col0\" class=\"data row9 col0\" >penalty</td>\n",
              "                        <td id=\"T_704effda_7ed1_11ec_9aa5_0242ac1c0002row9_col1\" class=\"data row9 col1\" >l2</td>\n",
              "                        <td id=\"T_704effda_7ed1_11ec_9aa5_0242ac1c0002row9_col2\" class=\"data row9 col2\" >l2</td>\n",
              "                        <td id=\"T_704effda_7ed1_11ec_9aa5_0242ac1c0002row9_col3\" class=\"data row9 col3\" >l1</td>\n",
              "            </tr>\n",
              "            <tr>\n",
              "                        <th id=\"T_704effda_7ed1_11ec_9aa5_0242ac1c0002level0_row10\" class=\"row_heading level0 row10\" >10</th>\n",
              "                        <td id=\"T_704effda_7ed1_11ec_9aa5_0242ac1c0002row10_col0\" class=\"data row10 col0\" >random_state</td>\n",
              "                        <td id=\"T_704effda_7ed1_11ec_9aa5_0242ac1c0002row10_col1\" class=\"data row10 col1\" >None</td>\n",
              "                        <td id=\"T_704effda_7ed1_11ec_9aa5_0242ac1c0002row10_col2\" class=\"data row10 col2\" >None</td>\n",
              "                        <td id=\"T_704effda_7ed1_11ec_9aa5_0242ac1c0002row10_col3\" class=\"data row10 col3\" >None</td>\n",
              "            </tr>\n",
              "            <tr>\n",
              "                        <th id=\"T_704effda_7ed1_11ec_9aa5_0242ac1c0002level0_row11\" class=\"row_heading level0 row11\" >11</th>\n",
              "                        <td id=\"T_704effda_7ed1_11ec_9aa5_0242ac1c0002row11_col0\" class=\"data row11 col0\" >solver</td>\n",
              "                        <td id=\"T_704effda_7ed1_11ec_9aa5_0242ac1c0002row11_col1\" class=\"data row11 col1\" >lbfgs</td>\n",
              "                        <td id=\"T_704effda_7ed1_11ec_9aa5_0242ac1c0002row11_col2\" class=\"data row11 col2\" >lbfgs</td>\n",
              "                        <td id=\"T_704effda_7ed1_11ec_9aa5_0242ac1c0002row11_col3\" class=\"data row11 col3\" >liblinear</td>\n",
              "            </tr>\n",
              "            <tr>\n",
              "                        <th id=\"T_704effda_7ed1_11ec_9aa5_0242ac1c0002level0_row12\" class=\"row_heading level0 row12\" >12</th>\n",
              "                        <td id=\"T_704effda_7ed1_11ec_9aa5_0242ac1c0002row12_col0\" class=\"data row12 col0\" >tol</td>\n",
              "                        <td id=\"T_704effda_7ed1_11ec_9aa5_0242ac1c0002row12_col1\" class=\"data row12 col1\" >0.000100</td>\n",
              "                        <td id=\"T_704effda_7ed1_11ec_9aa5_0242ac1c0002row12_col2\" class=\"data row12 col2\" >0.000100</td>\n",
              "                        <td id=\"T_704effda_7ed1_11ec_9aa5_0242ac1c0002row12_col3\" class=\"data row12 col3\" >0.000100</td>\n",
              "            </tr>\n",
              "            <tr>\n",
              "                        <th id=\"T_704effda_7ed1_11ec_9aa5_0242ac1c0002level0_row13\" class=\"row_heading level0 row13\" >13</th>\n",
              "                        <td id=\"T_704effda_7ed1_11ec_9aa5_0242ac1c0002row13_col0\" class=\"data row13 col0\" >verbose</td>\n",
              "                        <td id=\"T_704effda_7ed1_11ec_9aa5_0242ac1c0002row13_col1\" class=\"data row13 col1\" >0</td>\n",
              "                        <td id=\"T_704effda_7ed1_11ec_9aa5_0242ac1c0002row13_col2\" class=\"data row13 col2\" >0</td>\n",
              "                        <td id=\"T_704effda_7ed1_11ec_9aa5_0242ac1c0002row13_col3\" class=\"data row13 col3\" >0</td>\n",
              "            </tr>\n",
              "            <tr>\n",
              "                        <th id=\"T_704effda_7ed1_11ec_9aa5_0242ac1c0002level0_row14\" class=\"row_heading level0 row14\" >14</th>\n",
              "                        <td id=\"T_704effda_7ed1_11ec_9aa5_0242ac1c0002row14_col0\" class=\"data row14 col0\" >warm_start</td>\n",
              "                        <td id=\"T_704effda_7ed1_11ec_9aa5_0242ac1c0002row14_col1\" class=\"data row14 col1\" >False</td>\n",
              "                        <td id=\"T_704effda_7ed1_11ec_9aa5_0242ac1c0002row14_col2\" class=\"data row14 col2\" >False</td>\n",
              "                        <td id=\"T_704effda_7ed1_11ec_9aa5_0242ac1c0002row14_col3\" class=\"data row14 col3\" >False</td>\n",
              "            </tr>\n",
              "    </tbody></table>"
            ],
            "text/plain": [
              "<IPython.core.display.HTML object>"
            ]
          },
          "metadata": {}
        },
        {
          "output_type": "stream",
          "name": "stdout",
          "text": [
            "\n",
            "\n",
            "\n"
          ]
        }
      ]
    },
    {
      "cell_type": "code",
      "metadata": {
        "id": "tukB40NshcaB",
        "colab": {
          "base_uri": "https://localhost:8080/"
        },
        "outputId": "2048634f-9b06-4182-8d0a-cb85d3bd0f23"
      },
      "source": [
        "# Here are several classic ML architectures you can consider choosing from to experiment with next:\n",
        "from sklearn.neighbors import KNeighborsClassifier\n",
        "from sklearn.svm import SVC\n",
        "from sklearn.ensemble import RandomForestClassifier\n",
        "from sklearn.tree import DecisionTreeRegressor\n",
        "from sklearn.ensemble import BaggingClassifier\n",
        "from sklearn.ensemble import GradientBoostingClassifier\n",
        "\n",
        "#Example code to fit model:\n",
        "model = GradientBoostingClassifier(n_estimators=50, learning_rate=1.0,\n",
        "    max_depth=1, random_state=0).fit(preprocessor(X_train), y_train_labels)\n",
        "model.score(preprocessor(X_train), y_train_labels)\n",
        "\n",
        "# Save sklearn model to local ONNX file\n",
        "from aimodelshare.aimsonnx import model_to_onnx\n",
        "\n",
        "feature_count=preprocessor(X_test).shape[1] #Get count of preprocessed features\n",
        "initial_type = [('float_input', FloatTensorType([None, feature_count]))]  # Insert correct number of preprocessed features\n",
        "\n",
        "onnx_model = model_to_onnx(model, framework='sklearn',\n",
        "                          initial_types=initial_type,\n",
        "                          transfer_learning=False,\n",
        "                          deep_learning=False)\n",
        "\n",
        "with open(\"model.onnx\", \"wb\") as f:\n",
        "    f.write(onnx_model.SerializeToString())\n",
        "\n",
        "#-- Generate predicted values (a list of predicted labels \"real\" or \"fake\")\n",
        "prediction_labels = model.predict(preprocessor(X_test))\n",
        "\n",
        "# Submit model to Competition Leaderboard\n",
        "mycompetition.submit_model(model_filepath = \"model.onnx\",\n",
        "                                 preprocessor_filepath=\"preprocessor.zip\",\n",
        "                                 prediction_submission=prediction_labels)\n"
      ],
      "execution_count": 27,
      "outputs": [
        {
          "output_type": "stream",
          "name": "stdout",
          "text": [
            "Insert search tags to help users find your model (optional): \n",
            "Provide any useful notes about your model (optional): \n",
            "\n",
            "Your model has been submitted as model version 6\n",
            "\n",
            "To submit code used to create this model or to view current leaderboard navigate to Model Playground: \n",
            "\n",
            " https://www.modelshare.org/detail/model:1283\n"
          ]
        }
      ]
    }
  ]
}