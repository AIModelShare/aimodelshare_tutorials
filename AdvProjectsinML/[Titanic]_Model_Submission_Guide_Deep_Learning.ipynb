{
  "nbformat": 4,
  "nbformat_minor": 0,
  "metadata": {
    "colab": {
      "name": "[Titanic] Model Submission Guide - Deep Learning.ipynb",
      "provenance": [],
      "collapsed_sections": []
    },
    "kernelspec": {
      "name": "python3",
      "display_name": "Python 3"
    },
    "language_info": {
      "name": "python"
    }
  },
  "cells": [
    {
      "cell_type": "markdown",
      "source": [
        "<p align=\"center\"><img width=\"50%\" src=\"https://aimodelsharecontent.s3.amazonaws.com/aimodshare_banner.jpg\" /></p>\n",
        "\n",
        "\n",
        "---"
      ],
      "metadata": {
        "id": "ekczNcQxUpzT"
      }
    },
    {
      "cell_type": "markdown",
      "metadata": {
        "id": "JXxGTgJz152A"
      },
      "source": [
        "## Model Submission Guide: Titanic Survival Competition\n",
        "Let's share our models to a centralized leaderboard, so that we can collaborate and learn from the model experimentation process...\n",
        "\n",
        "**Instructions:**\n",
        "1.   Get data in and set up X_train / X_test / y_train\n",
        "2.   Preprocess data using Sklearn Column Transformer/ Write and Save Preprocessor function\n",
        "3. Fit model on preprocessed data and save preprocessor function and model \n",
        "4. Generate predictions from X_test data and submit model to competition\n",
        "5. Repeat submission process to improve place on leaderboard\n",
        "\n"
      ]
    },
    {
      "cell_type": "markdown",
      "metadata": {
        "id": "5gSrVJwp3E9H"
      },
      "source": [
        "## 1. Get data in and set up X_train, X_test, y_train objects"
      ]
    },
    {
      "cell_type": "code",
      "metadata": {
        "id": "PLTIaMB3ChSW"
      },
      "source": [
        "#install aimodelshare library\n",
        "! pip install aimodelshare --upgrade"
      ],
      "execution_count": null,
      "outputs": []
    },
    {
      "cell_type": "code",
      "metadata": {
        "colab": {
          "base_uri": "https://localhost:8080/"
        },
        "id": "d3PiJXBhC5y-",
        "outputId": "dd7052a2-0fd5-4a83-efcb-d06ce178dd49"
      },
      "source": [
        "# Get competition data\n",
        "from aimodelshare import download_data\n",
        "download_data('public.ecr.aws/y2e2a1d6/titanic_competition_data-repository:latest') "
      ],
      "execution_count": 2,
      "outputs": [
        {
          "output_type": "stream",
          "name": "stdout",
          "text": [
            "Downloading [>                                                ]\n",
            "\n",
            "Data downloaded successfully.\n"
          ]
        }
      ]
    },
    {
      "cell_type": "code",
      "metadata": {
        "colab": {
          "base_uri": "https://localhost:8080/",
          "height": 169
        },
        "id": "jT0qFCZFNzHq",
        "outputId": "de1c719c-1be9-4b95-a539-d06b0f4882e8"
      },
      "source": [
        "# Separate data into X_train, y_train, and X_test\n",
        "import pandas as pd\n",
        "training_data=pd.read_csv(\"titanic_competition_data/training_data.csv\")\n",
        "y_train= pd.get_dummies(training_data['survived'])\n",
        "X_train = training_data.drop(['survived'], axis=1)\n",
        "\n",
        "X_test=pd.read_csv(\"titanic_competition_data/test_data.csv\")\n",
        "\n",
        "X_train.head()"
      ],
      "execution_count": 3,
      "outputs": [
        {
          "output_type": "execute_result",
          "data": {
            "text/html": [
              "\n",
              "  <div id=\"df-83567e89-854f-4bee-b1ca-1b21edbff6e2\">\n",
              "    <div class=\"colab-df-container\">\n",
              "      <div>\n",
              "<style scoped>\n",
              "    .dataframe tbody tr th:only-of-type {\n",
              "        vertical-align: middle;\n",
              "    }\n",
              "\n",
              "    .dataframe tbody tr th {\n",
              "        vertical-align: top;\n",
              "    }\n",
              "\n",
              "    .dataframe thead th {\n",
              "        text-align: right;\n",
              "    }\n",
              "</style>\n",
              "<table border=\"1\" class=\"dataframe\">\n",
              "  <thead>\n",
              "    <tr style=\"text-align: right;\">\n",
              "      <th></th>\n",
              "      <th>pclass</th>\n",
              "      <th>sex</th>\n",
              "      <th>age</th>\n",
              "      <th>fare</th>\n",
              "      <th>embarked</th>\n",
              "    </tr>\n",
              "  </thead>\n",
              "  <tbody>\n",
              "    <tr>\n",
              "      <th>0</th>\n",
              "      <td>1</td>\n",
              "      <td>female</td>\n",
              "      <td>NaN</td>\n",
              "      <td>89.1042</td>\n",
              "      <td>C</td>\n",
              "    </tr>\n",
              "    <tr>\n",
              "      <th>1</th>\n",
              "      <td>3</td>\n",
              "      <td>male</td>\n",
              "      <td>NaN</td>\n",
              "      <td>7.8958</td>\n",
              "      <td>C</td>\n",
              "    </tr>\n",
              "    <tr>\n",
              "      <th>2</th>\n",
              "      <td>2</td>\n",
              "      <td>male</td>\n",
              "      <td>59.0</td>\n",
              "      <td>13.5000</td>\n",
              "      <td>S</td>\n",
              "    </tr>\n",
              "    <tr>\n",
              "      <th>3</th>\n",
              "      <td>2</td>\n",
              "      <td>male</td>\n",
              "      <td>27.0</td>\n",
              "      <td>26.0000</td>\n",
              "      <td>S</td>\n",
              "    </tr>\n",
              "    <tr>\n",
              "      <th>4</th>\n",
              "      <td>3</td>\n",
              "      <td>male</td>\n",
              "      <td>NaN</td>\n",
              "      <td>69.5500</td>\n",
              "      <td>S</td>\n",
              "    </tr>\n",
              "  </tbody>\n",
              "</table>\n",
              "</div>\n",
              "      <button class=\"colab-df-convert\" onclick=\"convertToInteractive('df-83567e89-854f-4bee-b1ca-1b21edbff6e2')\"\n",
              "              title=\"Convert this dataframe to an interactive table.\"\n",
              "              style=\"display:none;\">\n",
              "        \n",
              "  <svg xmlns=\"http://www.w3.org/2000/svg\" height=\"24px\"viewBox=\"0 0 24 24\"\n",
              "       width=\"24px\">\n",
              "    <path d=\"M0 0h24v24H0V0z\" fill=\"none\"/>\n",
              "    <path d=\"M18.56 5.44l.94 2.06.94-2.06 2.06-.94-2.06-.94-.94-2.06-.94 2.06-2.06.94zm-11 1L8.5 8.5l.94-2.06 2.06-.94-2.06-.94L8.5 2.5l-.94 2.06-2.06.94zm10 10l.94 2.06.94-2.06 2.06-.94-2.06-.94-.94-2.06-.94 2.06-2.06.94z\"/><path d=\"M17.41 7.96l-1.37-1.37c-.4-.4-.92-.59-1.43-.59-.52 0-1.04.2-1.43.59L10.3 9.45l-7.72 7.72c-.78.78-.78 2.05 0 2.83L4 21.41c.39.39.9.59 1.41.59.51 0 1.02-.2 1.41-.59l7.78-7.78 2.81-2.81c.8-.78.8-2.07 0-2.86zM5.41 20L4 18.59l7.72-7.72 1.47 1.35L5.41 20z\"/>\n",
              "  </svg>\n",
              "      </button>\n",
              "      \n",
              "  <style>\n",
              "    .colab-df-container {\n",
              "      display:flex;\n",
              "      flex-wrap:wrap;\n",
              "      gap: 12px;\n",
              "    }\n",
              "\n",
              "    .colab-df-convert {\n",
              "      background-color: #E8F0FE;\n",
              "      border: none;\n",
              "      border-radius: 50%;\n",
              "      cursor: pointer;\n",
              "      display: none;\n",
              "      fill: #1967D2;\n",
              "      height: 32px;\n",
              "      padding: 0 0 0 0;\n",
              "      width: 32px;\n",
              "    }\n",
              "\n",
              "    .colab-df-convert:hover {\n",
              "      background-color: #E2EBFA;\n",
              "      box-shadow: 0px 1px 2px rgba(60, 64, 67, 0.3), 0px 1px 3px 1px rgba(60, 64, 67, 0.15);\n",
              "      fill: #174EA6;\n",
              "    }\n",
              "\n",
              "    [theme=dark] .colab-df-convert {\n",
              "      background-color: #3B4455;\n",
              "      fill: #D2E3FC;\n",
              "    }\n",
              "\n",
              "    [theme=dark] .colab-df-convert:hover {\n",
              "      background-color: #434B5C;\n",
              "      box-shadow: 0px 1px 3px 1px rgba(0, 0, 0, 0.15);\n",
              "      filter: drop-shadow(0px 1px 2px rgba(0, 0, 0, 0.3));\n",
              "      fill: #FFFFFF;\n",
              "    }\n",
              "  </style>\n",
              "\n",
              "      <script>\n",
              "        const buttonEl =\n",
              "          document.querySelector('#df-83567e89-854f-4bee-b1ca-1b21edbff6e2 button.colab-df-convert');\n",
              "        buttonEl.style.display =\n",
              "          google.colab.kernel.accessAllowed ? 'block' : 'none';\n",
              "\n",
              "        async function convertToInteractive(key) {\n",
              "          const element = document.querySelector('#df-83567e89-854f-4bee-b1ca-1b21edbff6e2');\n",
              "          const dataTable =\n",
              "            await google.colab.kernel.invokeFunction('convertToInteractive',\n",
              "                                                     [key], {});\n",
              "          if (!dataTable) return;\n",
              "\n",
              "          const docLinkHtml = 'Like what you see? Visit the ' +\n",
              "            '<a target=\"_blank\" href=https://colab.research.google.com/notebooks/data_table.ipynb>data table notebook</a>'\n",
              "            + ' to learn more about interactive tables.';\n",
              "          element.innerHTML = '';\n",
              "          dataTable['output_type'] = 'display_data';\n",
              "          await google.colab.output.renderOutput(dataTable, element);\n",
              "          const docLink = document.createElement('div');\n",
              "          docLink.innerHTML = docLinkHtml;\n",
              "          element.appendChild(docLink);\n",
              "        }\n",
              "      </script>\n",
              "    </div>\n",
              "  </div>\n",
              "  "
            ],
            "text/plain": [
              "   pclass     sex   age     fare embarked\n",
              "0       1  female   NaN  89.1042        C\n",
              "1       3    male   NaN   7.8958        C\n",
              "2       2    male  59.0  13.5000        S\n",
              "3       2    male  27.0  26.0000        S\n",
              "4       3    male   NaN  69.5500        S"
            ]
          },
          "metadata": {},
          "execution_count": 3
        }
      ]
    },
    {
      "cell_type": "markdown",
      "metadata": {
        "id": "gEzPoXPj3V7u"
      },
      "source": [
        "##2.   Preprocess data using Sklearn Column Transformer/ Write and Save Preprocessor function\n"
      ]
    },
    {
      "cell_type": "code",
      "metadata": {
        "id": "16QV9Y9TC3B3"
      },
      "source": [
        "# In this case we use Sklearn's Column transformer in our preprocessor function\n",
        "\n",
        "from sklearn.compose import ColumnTransformer\n",
        "from sklearn.pipeline import Pipeline\n",
        "from sklearn.impute import SimpleImputer\n",
        "from sklearn.preprocessing import StandardScaler, OneHotEncoder\n",
        "\n",
        "#Preprocess data using sklearn's Column Transformer approach\n",
        "\n",
        "# We create the preprocessing pipelines for both numeric and categorical data.\n",
        "numeric_features = ['age', 'fare']\n",
        "numeric_transformer = Pipeline(steps=[\n",
        "    ('imputer', SimpleImputer(strategy='median')), #'imputer' names the step\n",
        "    ('scaler', StandardScaler())])\n",
        "\n",
        "categorical_features = ['embarked', 'sex', 'pclass']\n",
        "\n",
        "# Replacing missing values with Modal value and then one-hot encoding.\n",
        "categorical_transformer = Pipeline(steps=[\n",
        "    ('imputer', SimpleImputer(strategy='most_frequent')),\n",
        "    ('onehot', OneHotEncoder(handle_unknown='ignore'))])\n",
        "\n",
        "# Final preprocessor object set up with ColumnTransformer...\n",
        "\n",
        "preprocess = ColumnTransformer(\n",
        "    transformers=[\n",
        "        ('num', numeric_transformer, numeric_features),\n",
        "        ('cat', categorical_transformer, categorical_features)])\n",
        "\n",
        "# fit preprocessor to your data\n",
        "preprocess = preprocess.fit(X_train)"
      ],
      "execution_count": 4,
      "outputs": []
    },
    {
      "cell_type": "code",
      "source": [
        "# Here is where we actually write the preprocessor function:\n",
        "\n",
        "# Write function to transform data with preprocessor \n",
        "# In this case we use sklearn's Column transformer in our preprocessor function\n",
        "\n",
        "def preprocessor(data):\n",
        "    preprocessed_data=preprocess.transform(data)\n",
        "    return preprocessed_data"
      ],
      "metadata": {
        "id": "S_PaNOG0SUIk"
      },
      "execution_count": 5,
      "outputs": []
    },
    {
      "cell_type": "code",
      "source": [
        "# check shape of X data after preprocessing it using our new function\n",
        "preprocessor(X_train).shape"
      ],
      "metadata": {
        "colab": {
          "base_uri": "https://localhost:8080/"
        },
        "id": "a1IPy9xvSWBp",
        "outputId": "a2ea310a-bbf1-46bd-dfba-6ad101eb5365"
      },
      "execution_count": 6,
      "outputs": [
        {
          "output_type": "execute_result",
          "data": {
            "text/plain": [
              "(1047, 10)"
            ]
          },
          "metadata": {},
          "execution_count": 6
        }
      ]
    },
    {
      "cell_type": "markdown",
      "metadata": {
        "id": "X52kECL43b-O"
      },
      "source": [
        "##3. Fit model on preprocessed data and save preprocessor function and model \n"
      ]
    },
    {
      "cell_type": "code",
      "metadata": {
        "colab": {
          "base_uri": "https://localhost:8080/"
        },
        "id": "NCbBf8j9ClYl",
        "outputId": "a532079a-4cfb-4ed3-c09a-998ef34246c6"
      },
      "source": [
        "import keras\n",
        "from keras.models import Sequential\n",
        "from keras.layers import Dense, Activation\n",
        "\n",
        "model = Sequential()\n",
        "model.add(Dense(64, input_dim=10, activation='relu'))\n",
        "model.add(Dense(64, activation='relu'))\n",
        "model.add(Dense(64, activation='relu'))\n",
        "\n",
        "model.add(Dense(2, activation='softmax')) \n",
        "                                            \n",
        "# Compile model\n",
        "model.compile(loss='categorical_crossentropy', optimizer='sgd', metrics=['accuracy'])\n",
        "\n",
        "# Fitting the NN to the Training set\n",
        "model.fit(preprocessor(X_train), pd.get_dummies(y_train), \n",
        "               batch_size = 20, \n",
        "               epochs = 3, validation_split=0.25) "
      ],
      "execution_count": 7,
      "outputs": [
        {
          "output_type": "stream",
          "name": "stdout",
          "text": [
            "Epoch 1/3\n",
            "40/40 [==============================] - 1s 8ms/step - loss: 0.6675 - accuracy: 0.6280 - val_loss: 0.6488 - val_accuracy: 0.6145\n",
            "Epoch 2/3\n",
            "40/40 [==============================] - 0s 3ms/step - loss: 0.6268 - accuracy: 0.6637 - val_loss: 0.6186 - val_accuracy: 0.6221\n",
            "Epoch 3/3\n",
            "40/40 [==============================] - 0s 3ms/step - loss: 0.5993 - accuracy: 0.6752 - val_loss: 0.5958 - val_accuracy: 0.6336\n"
          ]
        },
        {
          "output_type": "execute_result",
          "data": {
            "text/plain": [
              "<keras.callbacks.History at 0x7f2f340eadd0>"
            ]
          },
          "metadata": {},
          "execution_count": 7
        }
      ]
    },
    {
      "cell_type": "markdown",
      "metadata": {
        "id": "zmJAnmO-5AcU"
      },
      "source": [
        "#### Save preprocessor function to local \"preprocessor.zip\" file"
      ]
    },
    {
      "cell_type": "code",
      "metadata": {
        "colab": {
          "base_uri": "https://localhost:8080/"
        },
        "id": "4VGacc0LDaMA",
        "outputId": "1ddf6152-77a7-4871-83a4-d8be3d96b8a1"
      },
      "source": [
        "import aimodelshare as ai\n",
        "ai.export_preprocessor(preprocessor,\"\") "
      ],
      "execution_count": 8,
      "outputs": [
        {
          "output_type": "stream",
          "name": "stdout",
          "text": [
            "Your preprocessor is now saved to 'preprocessor.zip'\n"
          ]
        }
      ]
    },
    {
      "cell_type": "markdown",
      "metadata": {
        "id": "oOWBa8Cv5LdL"
      },
      "source": [
        "#### Save model to local \".onnx\" file"
      ]
    },
    {
      "cell_type": "code",
      "metadata": {
        "id": "pEhvnRiQDlY5"
      },
      "source": [
        "# Save keras model to local ONNX file\n",
        "from aimodelshare.aimsonnx import model_to_onnx\n",
        "\n",
        "onnx_model = model_to_onnx(model, framework='keras',\n",
        "                          transfer_learning=False,\n",
        "                          deep_learning=True)\n",
        "\n",
        "with open(\"model.onnx\", \"wb\") as f:\n",
        "    f.write(onnx_model.SerializeToString())"
      ],
      "execution_count": 9,
      "outputs": []
    },
    {
      "cell_type": "markdown",
      "metadata": {
        "id": "gHWkAzvX3m8O"
      },
      "source": [
        "## 4. Generate predictions from X_test data and submit model to competition\n"
      ]
    },
    {
      "cell_type": "code",
      "metadata": {
        "colab": {
          "base_uri": "https://localhost:8080/"
        },
        "id": "RtgkM02MDpkO",
        "outputId": "e74f4fca-2144-44e5-aa34-bb5f9236a9e8"
      },
      "source": [
        "#Set credentials using modelshare.org username/password\n",
        "\n",
        "from aimodelshare.aws import set_credentials\n",
        "\n",
        "#This is the unique rest api that powers this Titanic Survival Playground -- make sure to update the apiurl for new competition deployments\n",
        "apiurl=\"https://wgwd00tice.execute-api.us-east-1.amazonaws.com/prod/m\"\n",
        "\n",
        "set_credentials(apiurl=apiurl)"
      ],
      "execution_count": 10,
      "outputs": [
        {
          "output_type": "stream",
          "name": "stdout",
          "text": [
            "AI Modelshare Username:··········\n",
            "AI Modelshare Password:··········\n",
            "AI Model Share login credentials set successfully.\n"
          ]
        }
      ]
    },
    {
      "cell_type": "code",
      "metadata": {
        "id": "fKNGSww8EGgi"
      },
      "source": [
        "#Instantiate Competition\n",
        "import aimodelshare as ai\n",
        "mycompetition= ai.Competition(apiurl)"
      ],
      "execution_count": 11,
      "outputs": []
    },
    {
      "cell_type": "code",
      "metadata": {
        "id": "_Ql4wksyEUnP",
        "colab": {
          "base_uri": "https://localhost:8080/"
        },
        "outputId": "6149b16e-8e6d-4475-e71a-76076de35b45"
      },
      "source": [
        "#Submit Model 1: \n",
        "\n",
        "#-- Generate predicted y values (Model 1)\n",
        "#Note: Keras predict returns the predicted column index location for classification models\n",
        "prediction_column_index=model.predict(preprocessor(X_test)).argmax(axis=1)\n",
        "\n",
        "# extract correct prediction labels \n",
        "prediction_labels = [y_train.columns[i] for i in prediction_column_index]\n",
        "\n",
        "# Submit Model 1 to Competition Leaderboard\n",
        "mycompetition.submit_model(model_filepath = \"model.onnx\",\n",
        "                                 preprocessor_filepath=\"preprocessor.zip\",\n",
        "                                 prediction_submission=prediction_labels)"
      ],
      "execution_count": 12,
      "outputs": [
        {
          "output_type": "stream",
          "name": "stdout",
          "text": [
            "Insert search tags to help users find your model (optional): \n",
            "Provide any useful notes about your model (optional): \n",
            "\n",
            "Your model has been submitted as model version 7\n",
            "\n",
            "To submit code used to create this model or to view current leaderboard navigate to Model Playground: \n",
            "\n",
            " https://www.modelshare.org/detail/model:1187\n"
          ]
        }
      ]
    },
    {
      "cell_type": "code",
      "metadata": {
        "colab": {
          "base_uri": "https://localhost:8080/",
          "height": 419
        },
        "id": "GN1zvAmNEq17",
        "outputId": "61e325b7-937a-4c83-a62e-5c0decccf567"
      },
      "source": [
        "# Get leaderboard to explore current best model architectures\n",
        "\n",
        "# Get raw data in pandas data frame\n",
        "data = mycompetition.get_leaderboard()\n",
        "\n",
        "# Stylize leaderboard data\n",
        "mycompetition.stylize_leaderboard(data)"
      ],
      "execution_count": 13,
      "outputs": [
        {
          "output_type": "execute_result",
          "data": {
            "text/html": [
              "<style  type=\"text/css\" >\n",
              "#T_761e45c8_756d_11ec_988e_0242ac1c0002row0_col0{\n",
              "            text-align:  center;\n",
              "            width:  10em;\n",
              "             height:  80%;\n",
              "            background:  linear-gradient(90deg,#f5f8d6 82.8%, transparent 82.8%);\n",
              "            color:  #251e1b;\n",
              "            font-size:  12px;\n",
              "        }#T_761e45c8_756d_11ec_988e_0242ac1c0002row0_col1{\n",
              "            text-align:  center;\n",
              "            width:  10em;\n",
              "             height:  80%;\n",
              "            background:  linear-gradient(90deg,#c778c8 80.3%, transparent 80.3%);\n",
              "            color:  #251e1b;\n",
              "            font-size:  12px;\n",
              "        }#T_761e45c8_756d_11ec_988e_0242ac1c0002row0_col2{\n",
              "            text-align:  center;\n",
              "            width:  10em;\n",
              "             height:  80%;\n",
              "            background:  linear-gradient(90deg,#ff4971 83.5%, transparent 83.5%);\n",
              "            color:  #251e1b;\n",
              "            font-size:  12px;\n",
              "        }#T_761e45c8_756d_11ec_988e_0242ac1c0002row0_col3{\n",
              "            text-align:  center;\n",
              "            width:  10em;\n",
              "             height:  80%;\n",
              "            background:  linear-gradient(90deg,#aadbaa 79.0%, transparent 79.0%);\n",
              "            color:  #251e1b;\n",
              "            font-size:  12px;\n",
              "        }#T_761e45c8_756d_11ec_988e_0242ac1c0002row0_col4,#T_761e45c8_756d_11ec_988e_0242ac1c0002row0_col5,#T_761e45c8_756d_11ec_988e_0242ac1c0002row0_col6,#T_761e45c8_756d_11ec_988e_0242ac1c0002row0_col7,#T_761e45c8_756d_11ec_988e_0242ac1c0002row0_col8,#T_761e45c8_756d_11ec_988e_0242ac1c0002row0_col9,#T_761e45c8_756d_11ec_988e_0242ac1c0002row0_col10,#T_761e45c8_756d_11ec_988e_0242ac1c0002row0_col11,#T_761e45c8_756d_11ec_988e_0242ac1c0002row0_col12,#T_761e45c8_756d_11ec_988e_0242ac1c0002row0_col13,#T_761e45c8_756d_11ec_988e_0242ac1c0002row0_col14,#T_761e45c8_756d_11ec_988e_0242ac1c0002row0_col15,#T_761e45c8_756d_11ec_988e_0242ac1c0002row0_col16,#T_761e45c8_756d_11ec_988e_0242ac1c0002row0_col17,#T_761e45c8_756d_11ec_988e_0242ac1c0002row1_col4,#T_761e45c8_756d_11ec_988e_0242ac1c0002row1_col5,#T_761e45c8_756d_11ec_988e_0242ac1c0002row1_col6,#T_761e45c8_756d_11ec_988e_0242ac1c0002row1_col7,#T_761e45c8_756d_11ec_988e_0242ac1c0002row1_col8,#T_761e45c8_756d_11ec_988e_0242ac1c0002row1_col9,#T_761e45c8_756d_11ec_988e_0242ac1c0002row1_col10,#T_761e45c8_756d_11ec_988e_0242ac1c0002row1_col11,#T_761e45c8_756d_11ec_988e_0242ac1c0002row1_col12,#T_761e45c8_756d_11ec_988e_0242ac1c0002row1_col13,#T_761e45c8_756d_11ec_988e_0242ac1c0002row1_col14,#T_761e45c8_756d_11ec_988e_0242ac1c0002row1_col15,#T_761e45c8_756d_11ec_988e_0242ac1c0002row1_col16,#T_761e45c8_756d_11ec_988e_0242ac1c0002row1_col17,#T_761e45c8_756d_11ec_988e_0242ac1c0002row2_col4,#T_761e45c8_756d_11ec_988e_0242ac1c0002row2_col5,#T_761e45c8_756d_11ec_988e_0242ac1c0002row2_col6,#T_761e45c8_756d_11ec_988e_0242ac1c0002row2_col7,#T_761e45c8_756d_11ec_988e_0242ac1c0002row2_col8,#T_761e45c8_756d_11ec_988e_0242ac1c0002row2_col9,#T_761e45c8_756d_11ec_988e_0242ac1c0002row2_col10,#T_761e45c8_756d_11ec_988e_0242ac1c0002row2_col11,#T_761e45c8_756d_11ec_988e_0242ac1c0002row2_col12,#T_761e45c8_756d_11ec_988e_0242ac1c0002row2_col13,#T_761e45c8_756d_11ec_988e_0242ac1c0002row2_col14,#T_761e45c8_756d_11ec_988e_0242ac1c0002row2_col15,#T_761e45c8_756d_11ec_988e_0242ac1c0002row2_col16,#T_761e45c8_756d_11ec_988e_0242ac1c0002row2_col17,#T_761e45c8_756d_11ec_988e_0242ac1c0002row3_col4,#T_761e45c8_756d_11ec_988e_0242ac1c0002row3_col5,#T_761e45c8_756d_11ec_988e_0242ac1c0002row3_col6,#T_761e45c8_756d_11ec_988e_0242ac1c0002row3_col7,#T_761e45c8_756d_11ec_988e_0242ac1c0002row3_col8,#T_761e45c8_756d_11ec_988e_0242ac1c0002row3_col9,#T_761e45c8_756d_11ec_988e_0242ac1c0002row3_col10,#T_761e45c8_756d_11ec_988e_0242ac1c0002row3_col11,#T_761e45c8_756d_11ec_988e_0242ac1c0002row3_col12,#T_761e45c8_756d_11ec_988e_0242ac1c0002row3_col13,#T_761e45c8_756d_11ec_988e_0242ac1c0002row3_col14,#T_761e45c8_756d_11ec_988e_0242ac1c0002row3_col15,#T_761e45c8_756d_11ec_988e_0242ac1c0002row3_col16,#T_761e45c8_756d_11ec_988e_0242ac1c0002row3_col17,#T_761e45c8_756d_11ec_988e_0242ac1c0002row4_col4,#T_761e45c8_756d_11ec_988e_0242ac1c0002row4_col5,#T_761e45c8_756d_11ec_988e_0242ac1c0002row4_col6,#T_761e45c8_756d_11ec_988e_0242ac1c0002row4_col7,#T_761e45c8_756d_11ec_988e_0242ac1c0002row4_col8,#T_761e45c8_756d_11ec_988e_0242ac1c0002row4_col9,#T_761e45c8_756d_11ec_988e_0242ac1c0002row4_col10,#T_761e45c8_756d_11ec_988e_0242ac1c0002row4_col11,#T_761e45c8_756d_11ec_988e_0242ac1c0002row4_col12,#T_761e45c8_756d_11ec_988e_0242ac1c0002row4_col13,#T_761e45c8_756d_11ec_988e_0242ac1c0002row4_col14,#T_761e45c8_756d_11ec_988e_0242ac1c0002row4_col15,#T_761e45c8_756d_11ec_988e_0242ac1c0002row4_col16,#T_761e45c8_756d_11ec_988e_0242ac1c0002row4_col17,#T_761e45c8_756d_11ec_988e_0242ac1c0002row5_col4,#T_761e45c8_756d_11ec_988e_0242ac1c0002row5_col5,#T_761e45c8_756d_11ec_988e_0242ac1c0002row5_col6,#T_761e45c8_756d_11ec_988e_0242ac1c0002row5_col7,#T_761e45c8_756d_11ec_988e_0242ac1c0002row5_col8,#T_761e45c8_756d_11ec_988e_0242ac1c0002row5_col9,#T_761e45c8_756d_11ec_988e_0242ac1c0002row5_col10,#T_761e45c8_756d_11ec_988e_0242ac1c0002row5_col11,#T_761e45c8_756d_11ec_988e_0242ac1c0002row5_col12,#T_761e45c8_756d_11ec_988e_0242ac1c0002row5_col13,#T_761e45c8_756d_11ec_988e_0242ac1c0002row5_col14,#T_761e45c8_756d_11ec_988e_0242ac1c0002row5_col15,#T_761e45c8_756d_11ec_988e_0242ac1c0002row5_col16,#T_761e45c8_756d_11ec_988e_0242ac1c0002row5_col17,#T_761e45c8_756d_11ec_988e_0242ac1c0002row6_col4,#T_761e45c8_756d_11ec_988e_0242ac1c0002row6_col5,#T_761e45c8_756d_11ec_988e_0242ac1c0002row6_col6,#T_761e45c8_756d_11ec_988e_0242ac1c0002row6_col7,#T_761e45c8_756d_11ec_988e_0242ac1c0002row6_col8,#T_761e45c8_756d_11ec_988e_0242ac1c0002row6_col9,#T_761e45c8_756d_11ec_988e_0242ac1c0002row6_col10,#T_761e45c8_756d_11ec_988e_0242ac1c0002row6_col11,#T_761e45c8_756d_11ec_988e_0242ac1c0002row6_col12,#T_761e45c8_756d_11ec_988e_0242ac1c0002row6_col13,#T_761e45c8_756d_11ec_988e_0242ac1c0002row6_col14,#T_761e45c8_756d_11ec_988e_0242ac1c0002row6_col15,#T_761e45c8_756d_11ec_988e_0242ac1c0002row6_col16,#T_761e45c8_756d_11ec_988e_0242ac1c0002row6_col17{\n",
              "            text-align:  center;\n",
              "        }#T_761e45c8_756d_11ec_988e_0242ac1c0002row1_col0{\n",
              "            text-align:  center;\n",
              "            width:  10em;\n",
              "             height:  80%;\n",
              "            background:  linear-gradient(90deg,#f5f8d6 80.2%, transparent 80.2%);\n",
              "            color:  #251e1b;\n",
              "            font-size:  12px;\n",
              "        }#T_761e45c8_756d_11ec_988e_0242ac1c0002row1_col1{\n",
              "            text-align:  center;\n",
              "            width:  10em;\n",
              "             height:  80%;\n",
              "            background:  linear-gradient(90deg,#c778c8 78.2%, transparent 78.2%);\n",
              "            color:  #251e1b;\n",
              "            font-size:  12px;\n",
              "        }#T_761e45c8_756d_11ec_988e_0242ac1c0002row1_col2{\n",
              "            text-align:  center;\n",
              "            width:  10em;\n",
              "             height:  80%;\n",
              "            background:  linear-gradient(90deg,#ff4971 78.9%, transparent 78.9%);\n",
              "            color:  #251e1b;\n",
              "            font-size:  12px;\n",
              "        }#T_761e45c8_756d_11ec_988e_0242ac1c0002row1_col3{\n",
              "            text-align:  center;\n",
              "            width:  10em;\n",
              "             height:  80%;\n",
              "            background:  linear-gradient(90deg,#aadbaa 77.7%, transparent 77.7%);\n",
              "            color:  #251e1b;\n",
              "            font-size:  12px;\n",
              "        }#T_761e45c8_756d_11ec_988e_0242ac1c0002row2_col0,#T_761e45c8_756d_11ec_988e_0242ac1c0002row3_col0{\n",
              "            text-align:  center;\n",
              "            width:  10em;\n",
              "             height:  80%;\n",
              "            background:  linear-gradient(90deg,#f5f8d6 79.0%, transparent 79.0%);\n",
              "            color:  #251e1b;\n",
              "            font-size:  12px;\n",
              "        }#T_761e45c8_756d_11ec_988e_0242ac1c0002row2_col1,#T_761e45c8_756d_11ec_988e_0242ac1c0002row3_col1{\n",
              "            text-align:  center;\n",
              "            width:  10em;\n",
              "             height:  80%;\n",
              "            background:  linear-gradient(90deg,#c778c8 77.4%, transparent 77.4%);\n",
              "            color:  #251e1b;\n",
              "            font-size:  12px;\n",
              "        }#T_761e45c8_756d_11ec_988e_0242ac1c0002row2_col2,#T_761e45c8_756d_11ec_988e_0242ac1c0002row3_col2{\n",
              "            text-align:  center;\n",
              "            width:  10em;\n",
              "             height:  80%;\n",
              "            background:  linear-gradient(90deg,#ff4971 77.4%, transparent 77.4%);\n",
              "            color:  #251e1b;\n",
              "            font-size:  12px;\n",
              "        }#T_761e45c8_756d_11ec_988e_0242ac1c0002row2_col3,#T_761e45c8_756d_11ec_988e_0242ac1c0002row3_col3{\n",
              "            text-align:  center;\n",
              "            width:  10em;\n",
              "             height:  80%;\n",
              "            background:  linear-gradient(90deg,#aadbaa 77.5%, transparent 77.5%);\n",
              "            color:  #251e1b;\n",
              "            font-size:  12px;\n",
              "        }#T_761e45c8_756d_11ec_988e_0242ac1c0002row4_col0,#T_761e45c8_756d_11ec_988e_0242ac1c0002row5_col0{\n",
              "            text-align:  center;\n",
              "            width:  10em;\n",
              "             height:  80%;\n",
              "            background:  linear-gradient(90deg,#f5f8d6 76.3%, transparent 76.3%);\n",
              "            color:  #251e1b;\n",
              "            font-size:  12px;\n",
              "        }#T_761e45c8_756d_11ec_988e_0242ac1c0002row4_col1,#T_761e45c8_756d_11ec_988e_0242ac1c0002row5_col1{\n",
              "            text-align:  center;\n",
              "            width:  10em;\n",
              "             height:  80%;\n",
              "            background:  linear-gradient(90deg,#c778c8 72.5%, transparent 72.5%);\n",
              "            color:  #251e1b;\n",
              "            font-size:  12px;\n",
              "        }#T_761e45c8_756d_11ec_988e_0242ac1c0002row4_col2,#T_761e45c8_756d_11ec_988e_0242ac1c0002row5_col2{\n",
              "            text-align:  center;\n",
              "            width:  10em;\n",
              "             height:  80%;\n",
              "            background:  linear-gradient(90deg,#ff4971 75.9%, transparent 75.9%);\n",
              "            color:  #251e1b;\n",
              "            font-size:  12px;\n",
              "        }#T_761e45c8_756d_11ec_988e_0242ac1c0002row4_col3,#T_761e45c8_756d_11ec_988e_0242ac1c0002row5_col3{\n",
              "            text-align:  center;\n",
              "            width:  10em;\n",
              "             height:  80%;\n",
              "            background:  linear-gradient(90deg,#aadbaa 71.4%, transparent 71.4%);\n",
              "            color:  #251e1b;\n",
              "            font-size:  12px;\n",
              "        }#T_761e45c8_756d_11ec_988e_0242ac1c0002row6_col0{\n",
              "            text-align:  center;\n",
              "            width:  10em;\n",
              "             height:  80%;\n",
              "            background:  linear-gradient(90deg,#f5f8d6 66.8%, transparent 66.8%);\n",
              "            color:  #251e1b;\n",
              "            font-size:  12px;\n",
              "        }#T_761e45c8_756d_11ec_988e_0242ac1c0002row6_col1{\n",
              "            text-align:  center;\n",
              "            width:  10em;\n",
              "             height:  80%;\n",
              "            background:  linear-gradient(90deg,#c778c8 48.2%, transparent 48.2%);\n",
              "            color:  #251e1b;\n",
              "            font-size:  12px;\n",
              "        }#T_761e45c8_756d_11ec_988e_0242ac1c0002row6_col2{\n",
              "            text-align:  center;\n",
              "            width:  10em;\n",
              "             height:  80%;\n",
              "            background:  linear-gradient(90deg,#ff4971 82.8%, transparent 82.8%);\n",
              "            color:  #251e1b;\n",
              "            font-size:  12px;\n",
              "        }#T_761e45c8_756d_11ec_988e_0242ac1c0002row6_col3{\n",
              "            text-align:  center;\n",
              "            width:  10em;\n",
              "             height:  80%;\n",
              "            background:  linear-gradient(90deg,#aadbaa 54.7%, transparent 54.7%);\n",
              "            color:  #251e1b;\n",
              "            font-size:  12px;\n",
              "        }</style><table id=\"T_761e45c8_756d_11ec_988e_0242ac1c0002\" class=\"dataframe\"><thead>    <tr>        <th class=\"blank level0\" ></th>        <th class=\"col_heading level0 col0\" >accuracy</th>        <th class=\"col_heading level0 col1\" >f1_score</th>        <th class=\"col_heading level0 col2\" >precision</th>        <th class=\"col_heading level0 col3\" >recall</th>        <th class=\"col_heading level0 col4\" >ml_framework</th>        <th class=\"col_heading level0 col5\" >transfer_learning</th>        <th class=\"col_heading level0 col6\" >deep_learning</th>        <th class=\"col_heading level0 col7\" >model_type</th>        <th class=\"col_heading level0 col8\" >depth</th>        <th class=\"col_heading level0 col9\" >num_params</th>        <th class=\"col_heading level0 col10\" >dense_layers</th>        <th class=\"col_heading level0 col11\" >softmax_act</th>        <th class=\"col_heading level0 col12\" >relu_act</th>        <th class=\"col_heading level0 col13\" >loss</th>        <th class=\"col_heading level0 col14\" >optimizer</th>        <th class=\"col_heading level0 col15\" >model_config</th>        <th class=\"col_heading level0 col16\" >username</th>        <th class=\"col_heading level0 col17\" >version</th>    </tr></thead><tbody>\n",
              "                <tr>\n",
              "                        <th id=\"T_761e45c8_756d_11ec_988e_0242ac1c0002level0_row0\" class=\"row_heading level0 row0\" >0</th>\n",
              "                        <td id=\"T_761e45c8_756d_11ec_988e_0242ac1c0002row0_col0\" class=\"data row0 col0\" >82.82%</td>\n",
              "                        <td id=\"T_761e45c8_756d_11ec_988e_0242ac1c0002row0_col1\" class=\"data row0 col1\" >80.35%</td>\n",
              "                        <td id=\"T_761e45c8_756d_11ec_988e_0242ac1c0002row0_col2\" class=\"data row0 col2\" >83.47%</td>\n",
              "                        <td id=\"T_761e45c8_756d_11ec_988e_0242ac1c0002row0_col3\" class=\"data row0 col3\" >78.98%</td>\n",
              "                        <td id=\"T_761e45c8_756d_11ec_988e_0242ac1c0002row0_col4\" class=\"data row0 col4\" >sklearn</td>\n",
              "                        <td id=\"T_761e45c8_756d_11ec_988e_0242ac1c0002row0_col5\" class=\"data row0 col5\" >False</td>\n",
              "                        <td id=\"T_761e45c8_756d_11ec_988e_0242ac1c0002row0_col6\" class=\"data row0 col6\" >False</td>\n",
              "                        <td id=\"T_761e45c8_756d_11ec_988e_0242ac1c0002row0_col7\" class=\"data row0 col7\" >RandomForestClassifier</td>\n",
              "                        <td id=\"T_761e45c8_756d_11ec_988e_0242ac1c0002row0_col8\" class=\"data row0 col8\" >nan</td>\n",
              "                        <td id=\"T_761e45c8_756d_11ec_988e_0242ac1c0002row0_col9\" class=\"data row0 col9\" >nan</td>\n",
              "                        <td id=\"T_761e45c8_756d_11ec_988e_0242ac1c0002row0_col10\" class=\"data row0 col10\" >nan</td>\n",
              "                        <td id=\"T_761e45c8_756d_11ec_988e_0242ac1c0002row0_col11\" class=\"data row0 col11\" >nan</td>\n",
              "                        <td id=\"T_761e45c8_756d_11ec_988e_0242ac1c0002row0_col12\" class=\"data row0 col12\" >nan</td>\n",
              "                        <td id=\"T_761e45c8_756d_11ec_988e_0242ac1c0002row0_col13\" class=\"data row0 col13\" >nan</td>\n",
              "                        <td id=\"T_761e45c8_756d_11ec_988e_0242ac1c0002row0_col14\" class=\"data row0 col14\" >nan</td>\n",
              "                        <td id=\"T_761e45c8_756d_11ec_988e_0242ac1c0002row0_col15\" class=\"data row0 col15\" >{'bootstrap': True, 'ccp_alpha...</td>\n",
              "                        <td id=\"T_761e45c8_756d_11ec_988e_0242ac1c0002row0_col16\" class=\"data row0 col16\" >AdvProjectsinML</td>\n",
              "                        <td id=\"T_761e45c8_756d_11ec_988e_0242ac1c0002row0_col17\" class=\"data row0 col17\" >5</td>\n",
              "            </tr>\n",
              "            <tr>\n",
              "                        <th id=\"T_761e45c8_756d_11ec_988e_0242ac1c0002level0_row1\" class=\"row_heading level0 row1\" >1</th>\n",
              "                        <td id=\"T_761e45c8_756d_11ec_988e_0242ac1c0002row1_col0\" class=\"data row1 col0\" >80.15%</td>\n",
              "                        <td id=\"T_761e45c8_756d_11ec_988e_0242ac1c0002row1_col1\" class=\"data row1 col1\" >78.22%</td>\n",
              "                        <td id=\"T_761e45c8_756d_11ec_988e_0242ac1c0002row1_col2\" class=\"data row1 col2\" >78.88%</td>\n",
              "                        <td id=\"T_761e45c8_756d_11ec_988e_0242ac1c0002row1_col3\" class=\"data row1 col3\" >77.75%</td>\n",
              "                        <td id=\"T_761e45c8_756d_11ec_988e_0242ac1c0002row1_col4\" class=\"data row1 col4\" >sklearn</td>\n",
              "                        <td id=\"T_761e45c8_756d_11ec_988e_0242ac1c0002row1_col5\" class=\"data row1 col5\" >False</td>\n",
              "                        <td id=\"T_761e45c8_756d_11ec_988e_0242ac1c0002row1_col6\" class=\"data row1 col6\" >False</td>\n",
              "                        <td id=\"T_761e45c8_756d_11ec_988e_0242ac1c0002row1_col7\" class=\"data row1 col7\" >GradientBoostingClassifier</td>\n",
              "                        <td id=\"T_761e45c8_756d_11ec_988e_0242ac1c0002row1_col8\" class=\"data row1 col8\" >nan</td>\n",
              "                        <td id=\"T_761e45c8_756d_11ec_988e_0242ac1c0002row1_col9\" class=\"data row1 col9\" >nan</td>\n",
              "                        <td id=\"T_761e45c8_756d_11ec_988e_0242ac1c0002row1_col10\" class=\"data row1 col10\" >nan</td>\n",
              "                        <td id=\"T_761e45c8_756d_11ec_988e_0242ac1c0002row1_col11\" class=\"data row1 col11\" >nan</td>\n",
              "                        <td id=\"T_761e45c8_756d_11ec_988e_0242ac1c0002row1_col12\" class=\"data row1 col12\" >nan</td>\n",
              "                        <td id=\"T_761e45c8_756d_11ec_988e_0242ac1c0002row1_col13\" class=\"data row1 col13\" >nan</td>\n",
              "                        <td id=\"T_761e45c8_756d_11ec_988e_0242ac1c0002row1_col14\" class=\"data row1 col14\" >nan</td>\n",
              "                        <td id=\"T_761e45c8_756d_11ec_988e_0242ac1c0002row1_col15\" class=\"data row1 col15\" >{'ccp_alpha': 0.0, 'criterion'...</td>\n",
              "                        <td id=\"T_761e45c8_756d_11ec_988e_0242ac1c0002row1_col16\" class=\"data row1 col16\" >AdvProjectsinML</td>\n",
              "                        <td id=\"T_761e45c8_756d_11ec_988e_0242ac1c0002row1_col17\" class=\"data row1 col17\" >6</td>\n",
              "            </tr>\n",
              "            <tr>\n",
              "                        <th id=\"T_761e45c8_756d_11ec_988e_0242ac1c0002level0_row2\" class=\"row_heading level0 row2\" >2</th>\n",
              "                        <td id=\"T_761e45c8_756d_11ec_988e_0242ac1c0002row2_col0\" class=\"data row2 col0\" >79.01%</td>\n",
              "                        <td id=\"T_761e45c8_756d_11ec_988e_0242ac1c0002row2_col1\" class=\"data row2 col1\" >77.44%</td>\n",
              "                        <td id=\"T_761e45c8_756d_11ec_988e_0242ac1c0002row2_col2\" class=\"data row2 col2\" >77.39%</td>\n",
              "                        <td id=\"T_761e45c8_756d_11ec_988e_0242ac1c0002row2_col3\" class=\"data row2 col3\" >77.50%</td>\n",
              "                        <td id=\"T_761e45c8_756d_11ec_988e_0242ac1c0002row2_col4\" class=\"data row2 col4\" >sklearn</td>\n",
              "                        <td id=\"T_761e45c8_756d_11ec_988e_0242ac1c0002row2_col5\" class=\"data row2 col5\" >False</td>\n",
              "                        <td id=\"T_761e45c8_756d_11ec_988e_0242ac1c0002row2_col6\" class=\"data row2 col6\" >False</td>\n",
              "                        <td id=\"T_761e45c8_756d_11ec_988e_0242ac1c0002row2_col7\" class=\"data row2 col7\" >LogisticRegression</td>\n",
              "                        <td id=\"T_761e45c8_756d_11ec_988e_0242ac1c0002row2_col8\" class=\"data row2 col8\" >nan</td>\n",
              "                        <td id=\"T_761e45c8_756d_11ec_988e_0242ac1c0002row2_col9\" class=\"data row2 col9\" >10.000000</td>\n",
              "                        <td id=\"T_761e45c8_756d_11ec_988e_0242ac1c0002row2_col10\" class=\"data row2 col10\" >nan</td>\n",
              "                        <td id=\"T_761e45c8_756d_11ec_988e_0242ac1c0002row2_col11\" class=\"data row2 col11\" >nan</td>\n",
              "                        <td id=\"T_761e45c8_756d_11ec_988e_0242ac1c0002row2_col12\" class=\"data row2 col12\" >nan</td>\n",
              "                        <td id=\"T_761e45c8_756d_11ec_988e_0242ac1c0002row2_col13\" class=\"data row2 col13\" >nan</td>\n",
              "                        <td id=\"T_761e45c8_756d_11ec_988e_0242ac1c0002row2_col14\" class=\"data row2 col14\" >liblinear</td>\n",
              "                        <td id=\"T_761e45c8_756d_11ec_988e_0242ac1c0002row2_col15\" class=\"data row2 col15\" >{'C': 10, 'class_weight': None...</td>\n",
              "                        <td id=\"T_761e45c8_756d_11ec_988e_0242ac1c0002row2_col16\" class=\"data row2 col16\" >AdvProjectsinML</td>\n",
              "                        <td id=\"T_761e45c8_756d_11ec_988e_0242ac1c0002row2_col17\" class=\"data row2 col17\" >1</td>\n",
              "            </tr>\n",
              "            <tr>\n",
              "                        <th id=\"T_761e45c8_756d_11ec_988e_0242ac1c0002level0_row3\" class=\"row_heading level0 row3\" >3</th>\n",
              "                        <td id=\"T_761e45c8_756d_11ec_988e_0242ac1c0002row3_col0\" class=\"data row3 col0\" >79.01%</td>\n",
              "                        <td id=\"T_761e45c8_756d_11ec_988e_0242ac1c0002row3_col1\" class=\"data row3 col1\" >77.44%</td>\n",
              "                        <td id=\"T_761e45c8_756d_11ec_988e_0242ac1c0002row3_col2\" class=\"data row3 col2\" >77.39%</td>\n",
              "                        <td id=\"T_761e45c8_756d_11ec_988e_0242ac1c0002row3_col3\" class=\"data row3 col3\" >77.50%</td>\n",
              "                        <td id=\"T_761e45c8_756d_11ec_988e_0242ac1c0002row3_col4\" class=\"data row3 col4\" >sklearn</td>\n",
              "                        <td id=\"T_761e45c8_756d_11ec_988e_0242ac1c0002row3_col5\" class=\"data row3 col5\" >False</td>\n",
              "                        <td id=\"T_761e45c8_756d_11ec_988e_0242ac1c0002row3_col6\" class=\"data row3 col6\" >False</td>\n",
              "                        <td id=\"T_761e45c8_756d_11ec_988e_0242ac1c0002row3_col7\" class=\"data row3 col7\" >LogisticRegression</td>\n",
              "                        <td id=\"T_761e45c8_756d_11ec_988e_0242ac1c0002row3_col8\" class=\"data row3 col8\" >nan</td>\n",
              "                        <td id=\"T_761e45c8_756d_11ec_988e_0242ac1c0002row3_col9\" class=\"data row3 col9\" >10.000000</td>\n",
              "                        <td id=\"T_761e45c8_756d_11ec_988e_0242ac1c0002row3_col10\" class=\"data row3 col10\" >nan</td>\n",
              "                        <td id=\"T_761e45c8_756d_11ec_988e_0242ac1c0002row3_col11\" class=\"data row3 col11\" >nan</td>\n",
              "                        <td id=\"T_761e45c8_756d_11ec_988e_0242ac1c0002row3_col12\" class=\"data row3 col12\" >nan</td>\n",
              "                        <td id=\"T_761e45c8_756d_11ec_988e_0242ac1c0002row3_col13\" class=\"data row3 col13\" >nan</td>\n",
              "                        <td id=\"T_761e45c8_756d_11ec_988e_0242ac1c0002row3_col14\" class=\"data row3 col14\" >liblinear</td>\n",
              "                        <td id=\"T_761e45c8_756d_11ec_988e_0242ac1c0002row3_col15\" class=\"data row3 col15\" >{'C': 10, 'class_weight': None...</td>\n",
              "                        <td id=\"T_761e45c8_756d_11ec_988e_0242ac1c0002row3_col16\" class=\"data row3 col16\" >AdvProjectsinML</td>\n",
              "                        <td id=\"T_761e45c8_756d_11ec_988e_0242ac1c0002row3_col17\" class=\"data row3 col17\" >3</td>\n",
              "            </tr>\n",
              "            <tr>\n",
              "                        <th id=\"T_761e45c8_756d_11ec_988e_0242ac1c0002level0_row4\" class=\"row_heading level0 row4\" >4</th>\n",
              "                        <td id=\"T_761e45c8_756d_11ec_988e_0242ac1c0002row4_col0\" class=\"data row4 col0\" >76.34%</td>\n",
              "                        <td id=\"T_761e45c8_756d_11ec_988e_0242ac1c0002row4_col1\" class=\"data row4 col1\" >72.49%</td>\n",
              "                        <td id=\"T_761e45c8_756d_11ec_988e_0242ac1c0002row4_col2\" class=\"data row4 col2\" >75.90%</td>\n",
              "                        <td id=\"T_761e45c8_756d_11ec_988e_0242ac1c0002row4_col3\" class=\"data row4 col3\" >71.44%</td>\n",
              "                        <td id=\"T_761e45c8_756d_11ec_988e_0242ac1c0002row4_col4\" class=\"data row4 col4\" >sklearn</td>\n",
              "                        <td id=\"T_761e45c8_756d_11ec_988e_0242ac1c0002row4_col5\" class=\"data row4 col5\" >False</td>\n",
              "                        <td id=\"T_761e45c8_756d_11ec_988e_0242ac1c0002row4_col6\" class=\"data row4 col6\" >False</td>\n",
              "                        <td id=\"T_761e45c8_756d_11ec_988e_0242ac1c0002row4_col7\" class=\"data row4 col7\" >LogisticRegression</td>\n",
              "                        <td id=\"T_761e45c8_756d_11ec_988e_0242ac1c0002row4_col8\" class=\"data row4 col8\" >nan</td>\n",
              "                        <td id=\"T_761e45c8_756d_11ec_988e_0242ac1c0002row4_col9\" class=\"data row4 col9\" >10.000000</td>\n",
              "                        <td id=\"T_761e45c8_756d_11ec_988e_0242ac1c0002row4_col10\" class=\"data row4 col10\" >nan</td>\n",
              "                        <td id=\"T_761e45c8_756d_11ec_988e_0242ac1c0002row4_col11\" class=\"data row4 col11\" >nan</td>\n",
              "                        <td id=\"T_761e45c8_756d_11ec_988e_0242ac1c0002row4_col12\" class=\"data row4 col12\" >nan</td>\n",
              "                        <td id=\"T_761e45c8_756d_11ec_988e_0242ac1c0002row4_col13\" class=\"data row4 col13\" >nan</td>\n",
              "                        <td id=\"T_761e45c8_756d_11ec_988e_0242ac1c0002row4_col14\" class=\"data row4 col14\" >lbfgs</td>\n",
              "                        <td id=\"T_761e45c8_756d_11ec_988e_0242ac1c0002row4_col15\" class=\"data row4 col15\" >{'C': 0.01, 'class_weight': No...</td>\n",
              "                        <td id=\"T_761e45c8_756d_11ec_988e_0242ac1c0002row4_col16\" class=\"data row4 col16\" >AdvProjectsinML</td>\n",
              "                        <td id=\"T_761e45c8_756d_11ec_988e_0242ac1c0002row4_col17\" class=\"data row4 col17\" >2</td>\n",
              "            </tr>\n",
              "            <tr>\n",
              "                        <th id=\"T_761e45c8_756d_11ec_988e_0242ac1c0002level0_row5\" class=\"row_heading level0 row5\" >5</th>\n",
              "                        <td id=\"T_761e45c8_756d_11ec_988e_0242ac1c0002row5_col0\" class=\"data row5 col0\" >76.34%</td>\n",
              "                        <td id=\"T_761e45c8_756d_11ec_988e_0242ac1c0002row5_col1\" class=\"data row5 col1\" >72.49%</td>\n",
              "                        <td id=\"T_761e45c8_756d_11ec_988e_0242ac1c0002row5_col2\" class=\"data row5 col2\" >75.90%</td>\n",
              "                        <td id=\"T_761e45c8_756d_11ec_988e_0242ac1c0002row5_col3\" class=\"data row5 col3\" >71.44%</td>\n",
              "                        <td id=\"T_761e45c8_756d_11ec_988e_0242ac1c0002row5_col4\" class=\"data row5 col4\" >sklearn</td>\n",
              "                        <td id=\"T_761e45c8_756d_11ec_988e_0242ac1c0002row5_col5\" class=\"data row5 col5\" >False</td>\n",
              "                        <td id=\"T_761e45c8_756d_11ec_988e_0242ac1c0002row5_col6\" class=\"data row5 col6\" >False</td>\n",
              "                        <td id=\"T_761e45c8_756d_11ec_988e_0242ac1c0002row5_col7\" class=\"data row5 col7\" >LogisticRegression</td>\n",
              "                        <td id=\"T_761e45c8_756d_11ec_988e_0242ac1c0002row5_col8\" class=\"data row5 col8\" >nan</td>\n",
              "                        <td id=\"T_761e45c8_756d_11ec_988e_0242ac1c0002row5_col9\" class=\"data row5 col9\" >10.000000</td>\n",
              "                        <td id=\"T_761e45c8_756d_11ec_988e_0242ac1c0002row5_col10\" class=\"data row5 col10\" >nan</td>\n",
              "                        <td id=\"T_761e45c8_756d_11ec_988e_0242ac1c0002row5_col11\" class=\"data row5 col11\" >nan</td>\n",
              "                        <td id=\"T_761e45c8_756d_11ec_988e_0242ac1c0002row5_col12\" class=\"data row5 col12\" >nan</td>\n",
              "                        <td id=\"T_761e45c8_756d_11ec_988e_0242ac1c0002row5_col13\" class=\"data row5 col13\" >nan</td>\n",
              "                        <td id=\"T_761e45c8_756d_11ec_988e_0242ac1c0002row5_col14\" class=\"data row5 col14\" >lbfgs</td>\n",
              "                        <td id=\"T_761e45c8_756d_11ec_988e_0242ac1c0002row5_col15\" class=\"data row5 col15\" >{'C': 0.01, 'class_weight': No...</td>\n",
              "                        <td id=\"T_761e45c8_756d_11ec_988e_0242ac1c0002row5_col16\" class=\"data row5 col16\" >AdvProjectsinML</td>\n",
              "                        <td id=\"T_761e45c8_756d_11ec_988e_0242ac1c0002row5_col17\" class=\"data row5 col17\" >4</td>\n",
              "            </tr>\n",
              "            <tr>\n",
              "                        <th id=\"T_761e45c8_756d_11ec_988e_0242ac1c0002level0_row6\" class=\"row_heading level0 row6\" >6</th>\n",
              "                        <td id=\"T_761e45c8_756d_11ec_988e_0242ac1c0002row6_col0\" class=\"data row6 col0\" >66.79%</td>\n",
              "                        <td id=\"T_761e45c8_756d_11ec_988e_0242ac1c0002row6_col1\" class=\"data row6 col1\" >48.19%</td>\n",
              "                        <td id=\"T_761e45c8_756d_11ec_988e_0242ac1c0002row6_col2\" class=\"data row6 col2\" >82.81%</td>\n",
              "                        <td id=\"T_761e45c8_756d_11ec_988e_0242ac1c0002row6_col3\" class=\"data row6 col3\" >54.69%</td>\n",
              "                        <td id=\"T_761e45c8_756d_11ec_988e_0242ac1c0002row6_col4\" class=\"data row6 col4\" >keras</td>\n",
              "                        <td id=\"T_761e45c8_756d_11ec_988e_0242ac1c0002row6_col5\" class=\"data row6 col5\" >False</td>\n",
              "                        <td id=\"T_761e45c8_756d_11ec_988e_0242ac1c0002row6_col6\" class=\"data row6 col6\" >True</td>\n",
              "                        <td id=\"T_761e45c8_756d_11ec_988e_0242ac1c0002row6_col7\" class=\"data row6 col7\" >Sequential</td>\n",
              "                        <td id=\"T_761e45c8_756d_11ec_988e_0242ac1c0002row6_col8\" class=\"data row6 col8\" >4.000000</td>\n",
              "                        <td id=\"T_761e45c8_756d_11ec_988e_0242ac1c0002row6_col9\" class=\"data row6 col9\" >9154.000000</td>\n",
              "                        <td id=\"T_761e45c8_756d_11ec_988e_0242ac1c0002row6_col10\" class=\"data row6 col10\" >4.000000</td>\n",
              "                        <td id=\"T_761e45c8_756d_11ec_988e_0242ac1c0002row6_col11\" class=\"data row6 col11\" >1.000000</td>\n",
              "                        <td id=\"T_761e45c8_756d_11ec_988e_0242ac1c0002row6_col12\" class=\"data row6 col12\" >3.000000</td>\n",
              "                        <td id=\"T_761e45c8_756d_11ec_988e_0242ac1c0002row6_col13\" class=\"data row6 col13\" >str</td>\n",
              "                        <td id=\"T_761e45c8_756d_11ec_988e_0242ac1c0002row6_col14\" class=\"data row6 col14\" >SGD</td>\n",
              "                        <td id=\"T_761e45c8_756d_11ec_988e_0242ac1c0002row6_col15\" class=\"data row6 col15\" >{'name': 'sequential', 'layers...</td>\n",
              "                        <td id=\"T_761e45c8_756d_11ec_988e_0242ac1c0002row6_col16\" class=\"data row6 col16\" >AdvProjectsinML</td>\n",
              "                        <td id=\"T_761e45c8_756d_11ec_988e_0242ac1c0002row6_col17\" class=\"data row6 col17\" >7</td>\n",
              "            </tr>\n",
              "    </tbody></table>"
            ],
            "text/plain": [
              "<pandas.io.formats.style.Styler at 0x7f2e231dab50>"
            ]
          },
          "metadata": {},
          "execution_count": 13
        }
      ]
    },
    {
      "cell_type": "markdown",
      "metadata": {
        "id": "bwNKs0wP4r5s"
      },
      "source": [
        "## 5. Repeat submission process to improve place on leaderboard\n"
      ]
    },
    {
      "cell_type": "code",
      "metadata": {
        "colab": {
          "base_uri": "https://localhost:8080/"
        },
        "id": "FgSs5PAtPCZH",
        "outputId": "1ca7ee8a-9b2c-43e6-b25d-647328b5eceb"
      },
      "source": [
        "# Train and submit model 2 using same preprocessor (note that you could save a new preprocessor, but we will use the same one for this example).\n",
        "import keras\n",
        "from keras.models import Sequential\n",
        "from keras.layers import Dense, Dropout, Activation\n",
        "\n",
        "model_2 = Sequential()\n",
        "model_2.add(Dense(128, input_dim=10, activation='relu'))\n",
        "model_2.add(Dropout(.3))\n",
        "model_2.add(Dense(64, activation='relu'))\n",
        "model_2.add(Dense(64, activation='relu'))\n",
        "model_2.add(Dropout(.3))\n",
        "model_2.add(Dense(64, activation='relu'))\n",
        "\n",
        "model_2.add(Dense(2, activation='softmax')) \n",
        "                                            \n",
        "# Compile model\n",
        "model_2.compile(loss='categorical_crossentropy', optimizer='sgd', metrics=['accuracy'])\n",
        "\n",
        "# Fitting the NN to the Training set\n",
        "model_2.fit(preprocessor(X_train), pd.get_dummies(y_train), \n",
        "               batch_size = 20, \n",
        "               epochs = 5, validation_split=0.25) "
      ],
      "execution_count": 14,
      "outputs": [
        {
          "output_type": "stream",
          "name": "stdout",
          "text": [
            "Epoch 1/5\n",
            "40/40 [==============================] - 1s 10ms/step - loss: 0.6810 - accuracy: 0.5707 - val_loss: 0.6698 - val_accuracy: 0.5992\n",
            "Epoch 2/5\n",
            "40/40 [==============================] - 0s 3ms/step - loss: 0.6647 - accuracy: 0.6306 - val_loss: 0.6563 - val_accuracy: 0.5916\n",
            "Epoch 3/5\n",
            "40/40 [==============================] - 0s 4ms/step - loss: 0.6507 - accuracy: 0.6459 - val_loss: 0.6456 - val_accuracy: 0.5954\n",
            "Epoch 4/5\n",
            "40/40 [==============================] - 0s 4ms/step - loss: 0.6365 - accuracy: 0.6408 - val_loss: 0.6325 - val_accuracy: 0.6031\n",
            "Epoch 5/5\n",
            "40/40 [==============================] - 0s 3ms/step - loss: 0.6251 - accuracy: 0.6510 - val_loss: 0.6191 - val_accuracy: 0.6107\n"
          ]
        },
        {
          "output_type": "execute_result",
          "data": {
            "text/plain": [
              "<keras.callbacks.History at 0x7f2fb58917d0>"
            ]
          },
          "metadata": {},
          "execution_count": 14
        }
      ]
    },
    {
      "cell_type": "code",
      "metadata": {
        "id": "aIdmSpYVPYAw"
      },
      "source": [
        "# Save keras model to local ONNX file\n",
        "from aimodelshare.aimsonnx import model_to_onnx\n",
        "\n",
        "onnx_model = model_to_onnx(model_2, framework='keras',\n",
        "                          transfer_learning=False,\n",
        "                          deep_learning=True)\n",
        "\n",
        "with open(\"model2.onnx\", \"wb\") as f:\n",
        "    f.write(onnx_model.SerializeToString())"
      ],
      "execution_count": 15,
      "outputs": []
    },
    {
      "cell_type": "code",
      "metadata": {
        "colab": {
          "base_uri": "https://localhost:8080/"
        },
        "id": "nszPPrfwPlUk",
        "outputId": "c2d81bfc-421a-4b7d-d26c-bd9c7ea41a17"
      },
      "source": [
        "#Submit Model 2: \n",
        "\n",
        "#-- Generate predicted y values (Model 2)\n",
        "#Note: Keras predict returns the predicted column index location for classification models\n",
        "prediction_column_index=model_2.predict(preprocessor(X_test)).argmax(axis=1)\n",
        "\n",
        "# extract correct prediction labels \n",
        "prediction_labels = [y_train.columns[i] for i in prediction_column_index]\n",
        "\n",
        "# Submit Model 2 to Competition Leaderboard\n",
        "mycompetition.submit_model(model_filepath = \"model2.onnx\",\n",
        "                                 prediction_submission=prediction_labels,\n",
        "                                 preprocessor_filepath=\"preprocessor.zip\")"
      ],
      "execution_count": 16,
      "outputs": [
        {
          "output_type": "stream",
          "name": "stdout",
          "text": [
            "Insert search tags to help users find your model (optional): \n",
            "Provide any useful notes about your model (optional): \n",
            "\n",
            "Your model has been submitted as model version 8\n",
            "\n",
            "To submit code used to create this model or to view current leaderboard navigate to Model Playground: \n",
            "\n",
            " https://www.modelshare.org/detail/model:1187\n"
          ]
        }
      ]
    },
    {
      "cell_type": "code",
      "metadata": {
        "colab": {
          "base_uri": "https://localhost:8080/",
          "height": 180
        },
        "id": "qLl7yLpVEx26",
        "outputId": "92da456e-54d8-4c10-8b02-1e4038f829d0"
      },
      "source": [
        "# Compare two or more models\n",
        "data=mycompetition.compare_models([7,8], verbose=1)\n",
        "mycompetition.stylize_compare(data)"
      ],
      "execution_count": 17,
      "outputs": [
        {
          "output_type": "display_data",
          "data": {
            "text/html": [
              "<style  type=\"text/css\" >\n",
              "    #T_862896a8_756d_11ec_988e_0242ac1c0002 caption {\n",
              "          color: black;\n",
              "          font-size: 18px;\n",
              "    }#T_862896a8_756d_11ec_988e_0242ac1c0002row0_col0,#T_862896a8_756d_11ec_988e_0242ac1c0002row0_col3,#T_862896a8_756d_11ec_988e_0242ac1c0002row1_col0,#T_862896a8_756d_11ec_988e_0242ac1c0002row2_col0,#T_862896a8_756d_11ec_988e_0242ac1c0002row2_col3,#T_862896a8_756d_11ec_988e_0242ac1c0002row3_col0,#T_862896a8_756d_11ec_988e_0242ac1c0002row3_col3,#T_862896a8_756d_11ec_988e_0242ac1c0002row5_col3,#T_862896a8_756d_11ec_988e_0242ac1c0002row6_col3{\n",
              "            background:  #fff2ae;\n",
              "            color:  black;\n",
              "            color:  black;\n",
              "        }#T_862896a8_756d_11ec_988e_0242ac1c0002row0_col1,#T_862896a8_756d_11ec_988e_0242ac1c0002row0_col2,#T_862896a8_756d_11ec_988e_0242ac1c0002row0_col4,#T_862896a8_756d_11ec_988e_0242ac1c0002row0_col5,#T_862896a8_756d_11ec_988e_0242ac1c0002row1_col1,#T_862896a8_756d_11ec_988e_0242ac1c0002row1_col2,#T_862896a8_756d_11ec_988e_0242ac1c0002row1_col4,#T_862896a8_756d_11ec_988e_0242ac1c0002row1_col5,#T_862896a8_756d_11ec_988e_0242ac1c0002row2_col1,#T_862896a8_756d_11ec_988e_0242ac1c0002row2_col2,#T_862896a8_756d_11ec_988e_0242ac1c0002row2_col4,#T_862896a8_756d_11ec_988e_0242ac1c0002row2_col5,#T_862896a8_756d_11ec_988e_0242ac1c0002row3_col1,#T_862896a8_756d_11ec_988e_0242ac1c0002row3_col2,#T_862896a8_756d_11ec_988e_0242ac1c0002row3_col4,#T_862896a8_756d_11ec_988e_0242ac1c0002row3_col5,#T_862896a8_756d_11ec_988e_0242ac1c0002row4_col0,#T_862896a8_756d_11ec_988e_0242ac1c0002row4_col1,#T_862896a8_756d_11ec_988e_0242ac1c0002row4_col2,#T_862896a8_756d_11ec_988e_0242ac1c0002row4_col4,#T_862896a8_756d_11ec_988e_0242ac1c0002row4_col5,#T_862896a8_756d_11ec_988e_0242ac1c0002row5_col0,#T_862896a8_756d_11ec_988e_0242ac1c0002row5_col1,#T_862896a8_756d_11ec_988e_0242ac1c0002row5_col2,#T_862896a8_756d_11ec_988e_0242ac1c0002row5_col4,#T_862896a8_756d_11ec_988e_0242ac1c0002row5_col5,#T_862896a8_756d_11ec_988e_0242ac1c0002row6_col0,#T_862896a8_756d_11ec_988e_0242ac1c0002row6_col1,#T_862896a8_756d_11ec_988e_0242ac1c0002row6_col2,#T_862896a8_756d_11ec_988e_0242ac1c0002row6_col4,#T_862896a8_756d_11ec_988e_0242ac1c0002row6_col5{\n",
              "            background:  white;\n",
              "            color:  black;\n",
              "            color:  black;\n",
              "        }#T_862896a8_756d_11ec_988e_0242ac1c0002row1_col3,#T_862896a8_756d_11ec_988e_0242ac1c0002row4_col3{\n",
              "            background:  #cbd5e8;\n",
              "            color:  black;\n",
              "            color:  black;\n",
              "        }</style><table id=\"T_862896a8_756d_11ec_988e_0242ac1c0002\" ><caption>Model type: Neural Network</caption><thead>    <tr>        <th class=\"blank level0\" ></th>        <th class=\"col_heading level0 col0\" >Model_7_Layer</th>        <th class=\"col_heading level0 col1\" >Model_7_Shape</th>        <th class=\"col_heading level0 col2\" >Model_7_Params</th>        <th class=\"col_heading level0 col3\" >Model_8_Layer</th>        <th class=\"col_heading level0 col4\" >Model_8_Shape</th>        <th class=\"col_heading level0 col5\" >Model_8_Params</th>    </tr></thead><tbody>\n",
              "                <tr>\n",
              "                        <th id=\"T_862896a8_756d_11ec_988e_0242ac1c0002level0_row0\" class=\"row_heading level0 row0\" >0</th>\n",
              "                        <td id=\"T_862896a8_756d_11ec_988e_0242ac1c0002row0_col0\" class=\"data row0 col0\" >Dense</td>\n",
              "                        <td id=\"T_862896a8_756d_11ec_988e_0242ac1c0002row0_col1\" class=\"data row0 col1\" >[None, 64]</td>\n",
              "                        <td id=\"T_862896a8_756d_11ec_988e_0242ac1c0002row0_col2\" class=\"data row0 col2\" >704.000000</td>\n",
              "                        <td id=\"T_862896a8_756d_11ec_988e_0242ac1c0002row0_col3\" class=\"data row0 col3\" >Dense</td>\n",
              "                        <td id=\"T_862896a8_756d_11ec_988e_0242ac1c0002row0_col4\" class=\"data row0 col4\" >[None, 128]</td>\n",
              "                        <td id=\"T_862896a8_756d_11ec_988e_0242ac1c0002row0_col5\" class=\"data row0 col5\" >1408</td>\n",
              "            </tr>\n",
              "            <tr>\n",
              "                        <th id=\"T_862896a8_756d_11ec_988e_0242ac1c0002level0_row1\" class=\"row_heading level0 row1\" >1</th>\n",
              "                        <td id=\"T_862896a8_756d_11ec_988e_0242ac1c0002row1_col0\" class=\"data row1 col0\" >Dense</td>\n",
              "                        <td id=\"T_862896a8_756d_11ec_988e_0242ac1c0002row1_col1\" class=\"data row1 col1\" >[None, 64]</td>\n",
              "                        <td id=\"T_862896a8_756d_11ec_988e_0242ac1c0002row1_col2\" class=\"data row1 col2\" >4160.000000</td>\n",
              "                        <td id=\"T_862896a8_756d_11ec_988e_0242ac1c0002row1_col3\" class=\"data row1 col3\" >Dropout</td>\n",
              "                        <td id=\"T_862896a8_756d_11ec_988e_0242ac1c0002row1_col4\" class=\"data row1 col4\" >[None, 128]</td>\n",
              "                        <td id=\"T_862896a8_756d_11ec_988e_0242ac1c0002row1_col5\" class=\"data row1 col5\" >0</td>\n",
              "            </tr>\n",
              "            <tr>\n",
              "                        <th id=\"T_862896a8_756d_11ec_988e_0242ac1c0002level0_row2\" class=\"row_heading level0 row2\" >2</th>\n",
              "                        <td id=\"T_862896a8_756d_11ec_988e_0242ac1c0002row2_col0\" class=\"data row2 col0\" >Dense</td>\n",
              "                        <td id=\"T_862896a8_756d_11ec_988e_0242ac1c0002row2_col1\" class=\"data row2 col1\" >[None, 64]</td>\n",
              "                        <td id=\"T_862896a8_756d_11ec_988e_0242ac1c0002row2_col2\" class=\"data row2 col2\" >4160.000000</td>\n",
              "                        <td id=\"T_862896a8_756d_11ec_988e_0242ac1c0002row2_col3\" class=\"data row2 col3\" >Dense</td>\n",
              "                        <td id=\"T_862896a8_756d_11ec_988e_0242ac1c0002row2_col4\" class=\"data row2 col4\" >[None, 64]</td>\n",
              "                        <td id=\"T_862896a8_756d_11ec_988e_0242ac1c0002row2_col5\" class=\"data row2 col5\" >8256</td>\n",
              "            </tr>\n",
              "            <tr>\n",
              "                        <th id=\"T_862896a8_756d_11ec_988e_0242ac1c0002level0_row3\" class=\"row_heading level0 row3\" >3</th>\n",
              "                        <td id=\"T_862896a8_756d_11ec_988e_0242ac1c0002row3_col0\" class=\"data row3 col0\" >Dense</td>\n",
              "                        <td id=\"T_862896a8_756d_11ec_988e_0242ac1c0002row3_col1\" class=\"data row3 col1\" >[None, 2]</td>\n",
              "                        <td id=\"T_862896a8_756d_11ec_988e_0242ac1c0002row3_col2\" class=\"data row3 col2\" >130.000000</td>\n",
              "                        <td id=\"T_862896a8_756d_11ec_988e_0242ac1c0002row3_col3\" class=\"data row3 col3\" >Dense</td>\n",
              "                        <td id=\"T_862896a8_756d_11ec_988e_0242ac1c0002row3_col4\" class=\"data row3 col4\" >[None, 64]</td>\n",
              "                        <td id=\"T_862896a8_756d_11ec_988e_0242ac1c0002row3_col5\" class=\"data row3 col5\" >4160</td>\n",
              "            </tr>\n",
              "            <tr>\n",
              "                        <th id=\"T_862896a8_756d_11ec_988e_0242ac1c0002level0_row4\" class=\"row_heading level0 row4\" >4</th>\n",
              "                        <td id=\"T_862896a8_756d_11ec_988e_0242ac1c0002row4_col0\" class=\"data row4 col0\" >None</td>\n",
              "                        <td id=\"T_862896a8_756d_11ec_988e_0242ac1c0002row4_col1\" class=\"data row4 col1\" >None</td>\n",
              "                        <td id=\"T_862896a8_756d_11ec_988e_0242ac1c0002row4_col2\" class=\"data row4 col2\" >nan</td>\n",
              "                        <td id=\"T_862896a8_756d_11ec_988e_0242ac1c0002row4_col3\" class=\"data row4 col3\" >Dropout</td>\n",
              "                        <td id=\"T_862896a8_756d_11ec_988e_0242ac1c0002row4_col4\" class=\"data row4 col4\" >[None, 64]</td>\n",
              "                        <td id=\"T_862896a8_756d_11ec_988e_0242ac1c0002row4_col5\" class=\"data row4 col5\" >0</td>\n",
              "            </tr>\n",
              "            <tr>\n",
              "                        <th id=\"T_862896a8_756d_11ec_988e_0242ac1c0002level0_row5\" class=\"row_heading level0 row5\" >5</th>\n",
              "                        <td id=\"T_862896a8_756d_11ec_988e_0242ac1c0002row5_col0\" class=\"data row5 col0\" >None</td>\n",
              "                        <td id=\"T_862896a8_756d_11ec_988e_0242ac1c0002row5_col1\" class=\"data row5 col1\" >None</td>\n",
              "                        <td id=\"T_862896a8_756d_11ec_988e_0242ac1c0002row5_col2\" class=\"data row5 col2\" >nan</td>\n",
              "                        <td id=\"T_862896a8_756d_11ec_988e_0242ac1c0002row5_col3\" class=\"data row5 col3\" >Dense</td>\n",
              "                        <td id=\"T_862896a8_756d_11ec_988e_0242ac1c0002row5_col4\" class=\"data row5 col4\" >[None, 64]</td>\n",
              "                        <td id=\"T_862896a8_756d_11ec_988e_0242ac1c0002row5_col5\" class=\"data row5 col5\" >4160</td>\n",
              "            </tr>\n",
              "            <tr>\n",
              "                        <th id=\"T_862896a8_756d_11ec_988e_0242ac1c0002level0_row6\" class=\"row_heading level0 row6\" >6</th>\n",
              "                        <td id=\"T_862896a8_756d_11ec_988e_0242ac1c0002row6_col0\" class=\"data row6 col0\" >None</td>\n",
              "                        <td id=\"T_862896a8_756d_11ec_988e_0242ac1c0002row6_col1\" class=\"data row6 col1\" >None</td>\n",
              "                        <td id=\"T_862896a8_756d_11ec_988e_0242ac1c0002row6_col2\" class=\"data row6 col2\" >nan</td>\n",
              "                        <td id=\"T_862896a8_756d_11ec_988e_0242ac1c0002row6_col3\" class=\"data row6 col3\" >Dense</td>\n",
              "                        <td id=\"T_862896a8_756d_11ec_988e_0242ac1c0002row6_col4\" class=\"data row6 col4\" >[None, 2]</td>\n",
              "                        <td id=\"T_862896a8_756d_11ec_988e_0242ac1c0002row6_col5\" class=\"data row6 col5\" >130</td>\n",
              "            </tr>\n",
              "    </tbody></table>"
            ],
            "text/plain": [
              "<IPython.core.display.HTML object>"
            ]
          },
          "metadata": {}
        }
      ]
    },
    {
      "cell_type": "markdown",
      "source": [
        "## Optional: Tune model within range of hyperparameters with Keras Tuner\n",
        "\n",
        "*Simple example shown below. Consult [documentation](https://keras.io/guides/keras_tuner/getting_started/) to see full functionality.*"
      ],
      "metadata": {
        "id": "_ZbHiSrQdhyf"
      }
    },
    {
      "cell_type": "code",
      "source": [
        "! pip install keras_tuner"
      ],
      "metadata": {
        "id": "EHdEIS4jdoLd"
      },
      "execution_count": null,
      "outputs": []
    },
    {
      "cell_type": "code",
      "source": [
        "#Separate validation data \n",
        "from sklearn.model_selection import train_test_split\n",
        "x_train_split, x_val, y_train_split, y_val = train_test_split(\n",
        "     X_train, y_train, test_size=0.2, random_state=42)"
      ],
      "metadata": {
        "id": "Ou4GME-jdskD"
      },
      "execution_count": 19,
      "outputs": []
    },
    {
      "cell_type": "code",
      "source": [
        "import keras\n",
        "from keras.models import Sequential\n",
        "from keras.layers import Dense, Activation, Dropout, BatchNormalization\n",
        "from keras.regularizers import l1, l2, l1_l2\n",
        "import keras_tuner as kt\n",
        "\n",
        "\n",
        "#Define model structure & parameter search space with function\n",
        "def build_model(hp):\n",
        "    model = keras.Sequential()\n",
        "    model.add(Dense(64, input_dim=10, activation='relu', kernel_regularizer=l2(0.01), bias_regularizer=l2(0.01)))\n",
        "    model.add(Dense(64, activation='relu', kernel_regularizer=l2(0.01), bias_regularizer=l2(0.01)))\n",
        "    model.add(Dense(units=hp.Int(\"units\", min_value=32, max_value=512, step=32), #range 32-512 inclusive, minimum step between tested values is 32\n",
        "                    activation='relu', kernel_regularizer=l2(0.01), bias_regularizer=l2(0.01)))\n",
        "    model.add(Dense(2, activation='softmax')) \n",
        "    model.compile(\n",
        "        optimizer=\"rmsprop\", loss=\"binary_crossentropy\", metrics=[\"accuracy\"],\n",
        "    )\n",
        "    return model\n",
        "\n",
        "#initialize the tuner (which will search through parameters)\n",
        "tuner = kt.RandomSearch(\n",
        "    hypermodel=build_model, \n",
        "    objective=\"val_accuracy\", # objective to optimize\n",
        "    max_trials=3, #max number of trials to run during search\n",
        "    executions_per_trial=3, #higher number reduces variance of results; guages model performance more accurately \n",
        "    overwrite=True,\n",
        "    directory=\"tuning_model\",\n",
        "    project_name=\"tuning_units\",\n",
        ")\n",
        "\n",
        "tuner.search(preprocessor(x_train_split), y_train_split, epochs=1, validation_data=(preprocessor(x_val), y_val))"
      ],
      "metadata": {
        "colab": {
          "base_uri": "https://localhost:8080/"
        },
        "id": "4jcPr9rpdy5f",
        "outputId": "ecf75ccd-ea13-45d7-bb75-4c99eff5bc19"
      },
      "execution_count": 20,
      "outputs": [
        {
          "output_type": "stream",
          "name": "stdout",
          "text": [
            "Trial 3 Complete [00h 00m 04s]\n",
            "val_accuracy: 0.7904761830965678\n",
            "\n",
            "Best val_accuracy So Far: 0.7952380975087484\n",
            "Total elapsed time: 00h 00m 14s\n"
          ]
        }
      ]
    },
    {
      "cell_type": "code",
      "source": [
        "# Build model with best hyperparameters\n",
        "\n",
        "# Get the top 2 hyperparameters.\n",
        "best_hps = tuner.get_best_hyperparameters(5)\n",
        "# Build the model with the best hp.\n",
        "tuned_model = build_model(best_hps[0])\n",
        "# Fit with the entire dataset.\n",
        "tuned_model.fit(x=preprocessor(X_train), y=y_train, epochs=5)"
      ],
      "metadata": {
        "colab": {
          "base_uri": "https://localhost:8080/"
        },
        "id": "MUXMMMDafF_d",
        "outputId": "1c80cbf3-e392-4e48-b960-d6e457ac9018"
      },
      "execution_count": 21,
      "outputs": [
        {
          "output_type": "stream",
          "name": "stdout",
          "text": [
            "Epoch 1/5\n",
            "33/33 [==============================] - 1s 3ms/step - loss: 1.8559 - accuracy: 0.6800\n",
            "Epoch 2/5\n",
            "33/33 [==============================] - 0s 4ms/step - loss: 1.2215 - accuracy: 0.7708\n",
            "Epoch 3/5\n",
            "33/33 [==============================] - 0s 3ms/step - loss: 0.9114 - accuracy: 0.7832\n",
            "Epoch 4/5\n",
            "33/33 [==============================] - 0s 3ms/step - loss: 0.7560 - accuracy: 0.7755\n",
            "Epoch 5/5\n",
            "33/33 [==============================] - 0s 3ms/step - loss: 0.6733 - accuracy: 0.7784\n"
          ]
        },
        {
          "output_type": "execute_result",
          "data": {
            "text/plain": [
              "<keras.callbacks.History at 0x7f2f3231c990>"
            ]
          },
          "metadata": {},
          "execution_count": 21
        }
      ]
    },
    {
      "cell_type": "code",
      "metadata": {
        "id": "HvLuIvOjHLH2"
      },
      "source": [
        "# Save keras model to local ONNX file\n",
        "from aimodelshare.aimsonnx import model_to_onnx\n",
        "\n",
        "onnx_model = model_to_onnx(tuned_model, framework='keras',\n",
        "                          transfer_learning=False,\n",
        "                          deep_learning=True)\n",
        "\n",
        "with open(\"tuned_model.onnx\", \"wb\") as f:\n",
        "    f.write(onnx_model.SerializeToString())"
      ],
      "execution_count": 22,
      "outputs": []
    },
    {
      "cell_type": "code",
      "metadata": {
        "colab": {
          "base_uri": "https://localhost:8080/"
        },
        "id": "sMidHABfHVN7",
        "outputId": "a2a3787a-823c-4eed-e482-7271ddcadcaa"
      },
      "source": [
        "#Submit Model 3: \n",
        "\n",
        "#-- Generate predicted y values (Model 3)\n",
        "prediction_column_index=tuned_model.predict(preprocessor(X_test)).argmax(axis=1)\n",
        "\n",
        "# extract correct prediction labels \n",
        "prediction_labels = [y_train.columns[i] for i in prediction_column_index]\n",
        "\n",
        "# Submit to Competition Leaderboard\n",
        "mycompetition.submit_model(model_filepath = \"tuned_model.onnx\",\n",
        "                                 preprocessor_filepath=\"preprocessor.zip\",\n",
        "                                 prediction_submission=prediction_labels)"
      ],
      "execution_count": 23,
      "outputs": [
        {
          "output_type": "stream",
          "name": "stdout",
          "text": [
            "Insert search tags to help users find your model (optional): \n",
            "Provide any useful notes about your model (optional): \n",
            "\n",
            "Your model has been submitted as model version 9\n",
            "\n",
            "To submit code used to create this model or to view current leaderboard navigate to Model Playground: \n",
            "\n",
            " https://www.modelshare.org/detail/model:1187\n"
          ]
        }
      ]
    },
    {
      "cell_type": "code",
      "metadata": {
        "colab": {
          "base_uri": "https://localhost:8080/",
          "height": 525
        },
        "id": "hn-Tp-zpJVGT",
        "outputId": "4a54feb3-d8f5-49bd-9a89-25318a31db2f"
      },
      "source": [
        "# Get leaderboard\n",
        "\n",
        "data = mycompetition.get_leaderboard()\n",
        "mycompetition.stylize_leaderboard(data)"
      ],
      "execution_count": 24,
      "outputs": [
        {
          "output_type": "execute_result",
          "data": {
            "text/html": [
              "<style  type=\"text/css\" >\n",
              "#T_a58d1ee2_756d_11ec_988e_0242ac1c0002row0_col0{\n",
              "            text-align:  center;\n",
              "            width:  10em;\n",
              "             height:  80%;\n",
              "            background:  linear-gradient(90deg,#f5f8d6 82.8%, transparent 82.8%);\n",
              "            color:  #251e1b;\n",
              "            font-size:  12px;\n",
              "        }#T_a58d1ee2_756d_11ec_988e_0242ac1c0002row0_col1{\n",
              "            text-align:  center;\n",
              "            width:  10em;\n",
              "             height:  80%;\n",
              "            background:  linear-gradient(90deg,#c778c8 80.3%, transparent 80.3%);\n",
              "            color:  #251e1b;\n",
              "            font-size:  12px;\n",
              "        }#T_a58d1ee2_756d_11ec_988e_0242ac1c0002row0_col2{\n",
              "            text-align:  center;\n",
              "            width:  10em;\n",
              "             height:  80%;\n",
              "            background:  linear-gradient(90deg,#ff4971 83.5%, transparent 83.5%);\n",
              "            color:  #251e1b;\n",
              "            font-size:  12px;\n",
              "        }#T_a58d1ee2_756d_11ec_988e_0242ac1c0002row0_col3{\n",
              "            text-align:  center;\n",
              "            width:  10em;\n",
              "             height:  80%;\n",
              "            background:  linear-gradient(90deg,#aadbaa 79.0%, transparent 79.0%);\n",
              "            color:  #251e1b;\n",
              "            font-size:  12px;\n",
              "        }#T_a58d1ee2_756d_11ec_988e_0242ac1c0002row0_col4,#T_a58d1ee2_756d_11ec_988e_0242ac1c0002row0_col5,#T_a58d1ee2_756d_11ec_988e_0242ac1c0002row0_col6,#T_a58d1ee2_756d_11ec_988e_0242ac1c0002row0_col7,#T_a58d1ee2_756d_11ec_988e_0242ac1c0002row0_col8,#T_a58d1ee2_756d_11ec_988e_0242ac1c0002row0_col9,#T_a58d1ee2_756d_11ec_988e_0242ac1c0002row0_col10,#T_a58d1ee2_756d_11ec_988e_0242ac1c0002row0_col11,#T_a58d1ee2_756d_11ec_988e_0242ac1c0002row0_col12,#T_a58d1ee2_756d_11ec_988e_0242ac1c0002row0_col13,#T_a58d1ee2_756d_11ec_988e_0242ac1c0002row0_col14,#T_a58d1ee2_756d_11ec_988e_0242ac1c0002row0_col15,#T_a58d1ee2_756d_11ec_988e_0242ac1c0002row0_col16,#T_a58d1ee2_756d_11ec_988e_0242ac1c0002row0_col17,#T_a58d1ee2_756d_11ec_988e_0242ac1c0002row0_col18,#T_a58d1ee2_756d_11ec_988e_0242ac1c0002row1_col4,#T_a58d1ee2_756d_11ec_988e_0242ac1c0002row1_col5,#T_a58d1ee2_756d_11ec_988e_0242ac1c0002row1_col6,#T_a58d1ee2_756d_11ec_988e_0242ac1c0002row1_col7,#T_a58d1ee2_756d_11ec_988e_0242ac1c0002row1_col8,#T_a58d1ee2_756d_11ec_988e_0242ac1c0002row1_col9,#T_a58d1ee2_756d_11ec_988e_0242ac1c0002row1_col10,#T_a58d1ee2_756d_11ec_988e_0242ac1c0002row1_col11,#T_a58d1ee2_756d_11ec_988e_0242ac1c0002row1_col12,#T_a58d1ee2_756d_11ec_988e_0242ac1c0002row1_col13,#T_a58d1ee2_756d_11ec_988e_0242ac1c0002row1_col14,#T_a58d1ee2_756d_11ec_988e_0242ac1c0002row1_col15,#T_a58d1ee2_756d_11ec_988e_0242ac1c0002row1_col16,#T_a58d1ee2_756d_11ec_988e_0242ac1c0002row1_col17,#T_a58d1ee2_756d_11ec_988e_0242ac1c0002row1_col18,#T_a58d1ee2_756d_11ec_988e_0242ac1c0002row2_col4,#T_a58d1ee2_756d_11ec_988e_0242ac1c0002row2_col5,#T_a58d1ee2_756d_11ec_988e_0242ac1c0002row2_col6,#T_a58d1ee2_756d_11ec_988e_0242ac1c0002row2_col7,#T_a58d1ee2_756d_11ec_988e_0242ac1c0002row2_col8,#T_a58d1ee2_756d_11ec_988e_0242ac1c0002row2_col9,#T_a58d1ee2_756d_11ec_988e_0242ac1c0002row2_col10,#T_a58d1ee2_756d_11ec_988e_0242ac1c0002row2_col11,#T_a58d1ee2_756d_11ec_988e_0242ac1c0002row2_col12,#T_a58d1ee2_756d_11ec_988e_0242ac1c0002row2_col13,#T_a58d1ee2_756d_11ec_988e_0242ac1c0002row2_col14,#T_a58d1ee2_756d_11ec_988e_0242ac1c0002row2_col15,#T_a58d1ee2_756d_11ec_988e_0242ac1c0002row2_col16,#T_a58d1ee2_756d_11ec_988e_0242ac1c0002row2_col17,#T_a58d1ee2_756d_11ec_988e_0242ac1c0002row2_col18,#T_a58d1ee2_756d_11ec_988e_0242ac1c0002row3_col4,#T_a58d1ee2_756d_11ec_988e_0242ac1c0002row3_col5,#T_a58d1ee2_756d_11ec_988e_0242ac1c0002row3_col6,#T_a58d1ee2_756d_11ec_988e_0242ac1c0002row3_col7,#T_a58d1ee2_756d_11ec_988e_0242ac1c0002row3_col8,#T_a58d1ee2_756d_11ec_988e_0242ac1c0002row3_col9,#T_a58d1ee2_756d_11ec_988e_0242ac1c0002row3_col10,#T_a58d1ee2_756d_11ec_988e_0242ac1c0002row3_col11,#T_a58d1ee2_756d_11ec_988e_0242ac1c0002row3_col12,#T_a58d1ee2_756d_11ec_988e_0242ac1c0002row3_col13,#T_a58d1ee2_756d_11ec_988e_0242ac1c0002row3_col14,#T_a58d1ee2_756d_11ec_988e_0242ac1c0002row3_col15,#T_a58d1ee2_756d_11ec_988e_0242ac1c0002row3_col16,#T_a58d1ee2_756d_11ec_988e_0242ac1c0002row3_col17,#T_a58d1ee2_756d_11ec_988e_0242ac1c0002row3_col18,#T_a58d1ee2_756d_11ec_988e_0242ac1c0002row4_col4,#T_a58d1ee2_756d_11ec_988e_0242ac1c0002row4_col5,#T_a58d1ee2_756d_11ec_988e_0242ac1c0002row4_col6,#T_a58d1ee2_756d_11ec_988e_0242ac1c0002row4_col7,#T_a58d1ee2_756d_11ec_988e_0242ac1c0002row4_col8,#T_a58d1ee2_756d_11ec_988e_0242ac1c0002row4_col9,#T_a58d1ee2_756d_11ec_988e_0242ac1c0002row4_col10,#T_a58d1ee2_756d_11ec_988e_0242ac1c0002row4_col11,#T_a58d1ee2_756d_11ec_988e_0242ac1c0002row4_col12,#T_a58d1ee2_756d_11ec_988e_0242ac1c0002row4_col13,#T_a58d1ee2_756d_11ec_988e_0242ac1c0002row4_col14,#T_a58d1ee2_756d_11ec_988e_0242ac1c0002row4_col15,#T_a58d1ee2_756d_11ec_988e_0242ac1c0002row4_col16,#T_a58d1ee2_756d_11ec_988e_0242ac1c0002row4_col17,#T_a58d1ee2_756d_11ec_988e_0242ac1c0002row4_col18,#T_a58d1ee2_756d_11ec_988e_0242ac1c0002row5_col4,#T_a58d1ee2_756d_11ec_988e_0242ac1c0002row5_col5,#T_a58d1ee2_756d_11ec_988e_0242ac1c0002row5_col6,#T_a58d1ee2_756d_11ec_988e_0242ac1c0002row5_col7,#T_a58d1ee2_756d_11ec_988e_0242ac1c0002row5_col8,#T_a58d1ee2_756d_11ec_988e_0242ac1c0002row5_col9,#T_a58d1ee2_756d_11ec_988e_0242ac1c0002row5_col10,#T_a58d1ee2_756d_11ec_988e_0242ac1c0002row5_col11,#T_a58d1ee2_756d_11ec_988e_0242ac1c0002row5_col12,#T_a58d1ee2_756d_11ec_988e_0242ac1c0002row5_col13,#T_a58d1ee2_756d_11ec_988e_0242ac1c0002row5_col14,#T_a58d1ee2_756d_11ec_988e_0242ac1c0002row5_col15,#T_a58d1ee2_756d_11ec_988e_0242ac1c0002row5_col16,#T_a58d1ee2_756d_11ec_988e_0242ac1c0002row5_col17,#T_a58d1ee2_756d_11ec_988e_0242ac1c0002row5_col18,#T_a58d1ee2_756d_11ec_988e_0242ac1c0002row6_col4,#T_a58d1ee2_756d_11ec_988e_0242ac1c0002row6_col5,#T_a58d1ee2_756d_11ec_988e_0242ac1c0002row6_col6,#T_a58d1ee2_756d_11ec_988e_0242ac1c0002row6_col7,#T_a58d1ee2_756d_11ec_988e_0242ac1c0002row6_col8,#T_a58d1ee2_756d_11ec_988e_0242ac1c0002row6_col9,#T_a58d1ee2_756d_11ec_988e_0242ac1c0002row6_col10,#T_a58d1ee2_756d_11ec_988e_0242ac1c0002row6_col11,#T_a58d1ee2_756d_11ec_988e_0242ac1c0002row6_col12,#T_a58d1ee2_756d_11ec_988e_0242ac1c0002row6_col13,#T_a58d1ee2_756d_11ec_988e_0242ac1c0002row6_col14,#T_a58d1ee2_756d_11ec_988e_0242ac1c0002row6_col15,#T_a58d1ee2_756d_11ec_988e_0242ac1c0002row6_col16,#T_a58d1ee2_756d_11ec_988e_0242ac1c0002row6_col17,#T_a58d1ee2_756d_11ec_988e_0242ac1c0002row6_col18,#T_a58d1ee2_756d_11ec_988e_0242ac1c0002row7_col4,#T_a58d1ee2_756d_11ec_988e_0242ac1c0002row7_col5,#T_a58d1ee2_756d_11ec_988e_0242ac1c0002row7_col6,#T_a58d1ee2_756d_11ec_988e_0242ac1c0002row7_col7,#T_a58d1ee2_756d_11ec_988e_0242ac1c0002row7_col8,#T_a58d1ee2_756d_11ec_988e_0242ac1c0002row7_col9,#T_a58d1ee2_756d_11ec_988e_0242ac1c0002row7_col10,#T_a58d1ee2_756d_11ec_988e_0242ac1c0002row7_col11,#T_a58d1ee2_756d_11ec_988e_0242ac1c0002row7_col12,#T_a58d1ee2_756d_11ec_988e_0242ac1c0002row7_col13,#T_a58d1ee2_756d_11ec_988e_0242ac1c0002row7_col14,#T_a58d1ee2_756d_11ec_988e_0242ac1c0002row7_col15,#T_a58d1ee2_756d_11ec_988e_0242ac1c0002row7_col16,#T_a58d1ee2_756d_11ec_988e_0242ac1c0002row7_col17,#T_a58d1ee2_756d_11ec_988e_0242ac1c0002row7_col18,#T_a58d1ee2_756d_11ec_988e_0242ac1c0002row8_col4,#T_a58d1ee2_756d_11ec_988e_0242ac1c0002row8_col5,#T_a58d1ee2_756d_11ec_988e_0242ac1c0002row8_col6,#T_a58d1ee2_756d_11ec_988e_0242ac1c0002row8_col7,#T_a58d1ee2_756d_11ec_988e_0242ac1c0002row8_col8,#T_a58d1ee2_756d_11ec_988e_0242ac1c0002row8_col9,#T_a58d1ee2_756d_11ec_988e_0242ac1c0002row8_col10,#T_a58d1ee2_756d_11ec_988e_0242ac1c0002row8_col11,#T_a58d1ee2_756d_11ec_988e_0242ac1c0002row8_col12,#T_a58d1ee2_756d_11ec_988e_0242ac1c0002row8_col13,#T_a58d1ee2_756d_11ec_988e_0242ac1c0002row8_col14,#T_a58d1ee2_756d_11ec_988e_0242ac1c0002row8_col15,#T_a58d1ee2_756d_11ec_988e_0242ac1c0002row8_col16,#T_a58d1ee2_756d_11ec_988e_0242ac1c0002row8_col17,#T_a58d1ee2_756d_11ec_988e_0242ac1c0002row8_col18{\n",
              "            text-align:  center;\n",
              "        }#T_a58d1ee2_756d_11ec_988e_0242ac1c0002row1_col0{\n",
              "            text-align:  center;\n",
              "            width:  10em;\n",
              "             height:  80%;\n",
              "            background:  linear-gradient(90deg,#f5f8d6 80.5%, transparent 80.5%);\n",
              "            color:  #251e1b;\n",
              "            font-size:  12px;\n",
              "        }#T_a58d1ee2_756d_11ec_988e_0242ac1c0002row1_col1{\n",
              "            text-align:  center;\n",
              "            width:  10em;\n",
              "             height:  80%;\n",
              "            background:  linear-gradient(90deg,#c778c8 78.5%, transparent 78.5%);\n",
              "            color:  #251e1b;\n",
              "            font-size:  12px;\n",
              "        }#T_a58d1ee2_756d_11ec_988e_0242ac1c0002row1_col2{\n",
              "            text-align:  center;\n",
              "            width:  10em;\n",
              "             height:  80%;\n",
              "            background:  linear-gradient(90deg,#ff4971 79.5%, transparent 79.5%);\n",
              "            color:  #251e1b;\n",
              "            font-size:  12px;\n",
              "        }#T_a58d1ee2_756d_11ec_988e_0242ac1c0002row1_col3{\n",
              "            text-align:  center;\n",
              "            width:  10em;\n",
              "             height:  80%;\n",
              "            background:  linear-gradient(90deg,#aadbaa 77.8%, transparent 77.8%);\n",
              "            color:  #251e1b;\n",
              "            font-size:  12px;\n",
              "        }#T_a58d1ee2_756d_11ec_988e_0242ac1c0002row2_col0{\n",
              "            text-align:  center;\n",
              "            width:  10em;\n",
              "             height:  80%;\n",
              "            background:  linear-gradient(90deg,#f5f8d6 80.2%, transparent 80.2%);\n",
              "            color:  #251e1b;\n",
              "            font-size:  12px;\n",
              "        }#T_a58d1ee2_756d_11ec_988e_0242ac1c0002row2_col1{\n",
              "            text-align:  center;\n",
              "            width:  10em;\n",
              "             height:  80%;\n",
              "            background:  linear-gradient(90deg,#c778c8 78.2%, transparent 78.2%);\n",
              "            color:  #251e1b;\n",
              "            font-size:  12px;\n",
              "        }#T_a58d1ee2_756d_11ec_988e_0242ac1c0002row2_col2{\n",
              "            text-align:  center;\n",
              "            width:  10em;\n",
              "             height:  80%;\n",
              "            background:  linear-gradient(90deg,#ff4971 78.9%, transparent 78.9%);\n",
              "            color:  #251e1b;\n",
              "            font-size:  12px;\n",
              "        }#T_a58d1ee2_756d_11ec_988e_0242ac1c0002row2_col3{\n",
              "            text-align:  center;\n",
              "            width:  10em;\n",
              "             height:  80%;\n",
              "            background:  linear-gradient(90deg,#aadbaa 77.7%, transparent 77.7%);\n",
              "            color:  #251e1b;\n",
              "            font-size:  12px;\n",
              "        }#T_a58d1ee2_756d_11ec_988e_0242ac1c0002row3_col0,#T_a58d1ee2_756d_11ec_988e_0242ac1c0002row4_col0{\n",
              "            text-align:  center;\n",
              "            width:  10em;\n",
              "             height:  80%;\n",
              "            background:  linear-gradient(90deg,#f5f8d6 79.0%, transparent 79.0%);\n",
              "            color:  #251e1b;\n",
              "            font-size:  12px;\n",
              "        }#T_a58d1ee2_756d_11ec_988e_0242ac1c0002row3_col1,#T_a58d1ee2_756d_11ec_988e_0242ac1c0002row4_col1{\n",
              "            text-align:  center;\n",
              "            width:  10em;\n",
              "             height:  80%;\n",
              "            background:  linear-gradient(90deg,#c778c8 77.4%, transparent 77.4%);\n",
              "            color:  #251e1b;\n",
              "            font-size:  12px;\n",
              "        }#T_a58d1ee2_756d_11ec_988e_0242ac1c0002row3_col2,#T_a58d1ee2_756d_11ec_988e_0242ac1c0002row4_col2{\n",
              "            text-align:  center;\n",
              "            width:  10em;\n",
              "             height:  80%;\n",
              "            background:  linear-gradient(90deg,#ff4971 77.4%, transparent 77.4%);\n",
              "            color:  #251e1b;\n",
              "            font-size:  12px;\n",
              "        }#T_a58d1ee2_756d_11ec_988e_0242ac1c0002row3_col3,#T_a58d1ee2_756d_11ec_988e_0242ac1c0002row4_col3{\n",
              "            text-align:  center;\n",
              "            width:  10em;\n",
              "             height:  80%;\n",
              "            background:  linear-gradient(90deg,#aadbaa 77.5%, transparent 77.5%);\n",
              "            color:  #251e1b;\n",
              "            font-size:  12px;\n",
              "        }#T_a58d1ee2_756d_11ec_988e_0242ac1c0002row5_col0{\n",
              "            text-align:  center;\n",
              "            width:  10em;\n",
              "             height:  80%;\n",
              "            background:  linear-gradient(90deg,#f5f8d6 66.8%, transparent 66.8%);\n",
              "            color:  #251e1b;\n",
              "            font-size:  12px;\n",
              "        }#T_a58d1ee2_756d_11ec_988e_0242ac1c0002row5_col1{\n",
              "            text-align:  center;\n",
              "            width:  10em;\n",
              "             height:  80%;\n",
              "            background:  linear-gradient(90deg,#c778c8 48.2%, transparent 48.2%);\n",
              "            color:  #251e1b;\n",
              "            font-size:  12px;\n",
              "        }#T_a58d1ee2_756d_11ec_988e_0242ac1c0002row5_col2{\n",
              "            text-align:  center;\n",
              "            width:  10em;\n",
              "             height:  80%;\n",
              "            background:  linear-gradient(90deg,#ff4971 82.8%, transparent 82.8%);\n",
              "            color:  #251e1b;\n",
              "            font-size:  12px;\n",
              "        }#T_a58d1ee2_756d_11ec_988e_0242ac1c0002row5_col3{\n",
              "            text-align:  center;\n",
              "            width:  10em;\n",
              "             height:  80%;\n",
              "            background:  linear-gradient(90deg,#aadbaa 54.7%, transparent 54.7%);\n",
              "            color:  #251e1b;\n",
              "            font-size:  12px;\n",
              "        }#T_a58d1ee2_756d_11ec_988e_0242ac1c0002row6_col0,#T_a58d1ee2_756d_11ec_988e_0242ac1c0002row7_col0{\n",
              "            text-align:  center;\n",
              "            width:  10em;\n",
              "             height:  80%;\n",
              "            background:  linear-gradient(90deg,#f5f8d6 76.3%, transparent 76.3%);\n",
              "            color:  #251e1b;\n",
              "            font-size:  12px;\n",
              "        }#T_a58d1ee2_756d_11ec_988e_0242ac1c0002row6_col1,#T_a58d1ee2_756d_11ec_988e_0242ac1c0002row7_col1{\n",
              "            text-align:  center;\n",
              "            width:  10em;\n",
              "             height:  80%;\n",
              "            background:  linear-gradient(90deg,#c778c8 72.5%, transparent 72.5%);\n",
              "            color:  #251e1b;\n",
              "            font-size:  12px;\n",
              "        }#T_a58d1ee2_756d_11ec_988e_0242ac1c0002row6_col2,#T_a58d1ee2_756d_11ec_988e_0242ac1c0002row7_col2{\n",
              "            text-align:  center;\n",
              "            width:  10em;\n",
              "             height:  80%;\n",
              "            background:  linear-gradient(90deg,#ff4971 75.9%, transparent 75.9%);\n",
              "            color:  #251e1b;\n",
              "            font-size:  12px;\n",
              "        }#T_a58d1ee2_756d_11ec_988e_0242ac1c0002row6_col3,#T_a58d1ee2_756d_11ec_988e_0242ac1c0002row7_col3{\n",
              "            text-align:  center;\n",
              "            width:  10em;\n",
              "             height:  80%;\n",
              "            background:  linear-gradient(90deg,#aadbaa 71.4%, transparent 71.4%);\n",
              "            color:  #251e1b;\n",
              "            font-size:  12px;\n",
              "        }#T_a58d1ee2_756d_11ec_988e_0242ac1c0002row8_col0{\n",
              "            text-align:  center;\n",
              "            width:  10em;\n",
              "             height:  80%;\n",
              "            background:  linear-gradient(90deg,#f5f8d6 65.3%, transparent 65.3%);\n",
              "            color:  #251e1b;\n",
              "            font-size:  12px;\n",
              "        }#T_a58d1ee2_756d_11ec_988e_0242ac1c0002row8_col1{\n",
              "            text-align:  center;\n",
              "            width:  10em;\n",
              "             height:  80%;\n",
              "            background:  linear-gradient(90deg,#c778c8 45.8%, transparent 45.8%);\n",
              "            color:  #251e1b;\n",
              "            font-size:  12px;\n",
              "        }#T_a58d1ee2_756d_11ec_988e_0242ac1c0002row8_col2{\n",
              "            text-align:  center;\n",
              "            width:  10em;\n",
              "             height:  80%;\n",
              "            background:  linear-gradient(90deg,#ff4971 71.3%, transparent 71.3%);\n",
              "            color:  #251e1b;\n",
              "            font-size:  12px;\n",
              "        }#T_a58d1ee2_756d_11ec_988e_0242ac1c0002row8_col3{\n",
              "            text-align:  center;\n",
              "            width:  10em;\n",
              "             height:  80%;\n",
              "            background:  linear-gradient(90deg,#aadbaa 53.0%, transparent 53.0%);\n",
              "            color:  #251e1b;\n",
              "            font-size:  12px;\n",
              "        }</style><table id=\"T_a58d1ee2_756d_11ec_988e_0242ac1c0002\" class=\"dataframe\"><thead>    <tr>        <th class=\"blank level0\" ></th>        <th class=\"col_heading level0 col0\" >accuracy</th>        <th class=\"col_heading level0 col1\" >f1_score</th>        <th class=\"col_heading level0 col2\" >precision</th>        <th class=\"col_heading level0 col3\" >recall</th>        <th class=\"col_heading level0 col4\" >ml_framework</th>        <th class=\"col_heading level0 col5\" >transfer_learning</th>        <th class=\"col_heading level0 col6\" >deep_learning</th>        <th class=\"col_heading level0 col7\" >model_type</th>        <th class=\"col_heading level0 col8\" >depth</th>        <th class=\"col_heading level0 col9\" >num_params</th>        <th class=\"col_heading level0 col10\" >dense_layers</th>        <th class=\"col_heading level0 col11\" >dropout_layers</th>        <th class=\"col_heading level0 col12\" >softmax_act</th>        <th class=\"col_heading level0 col13\" >relu_act</th>        <th class=\"col_heading level0 col14\" >loss</th>        <th class=\"col_heading level0 col15\" >optimizer</th>        <th class=\"col_heading level0 col16\" >model_config</th>        <th class=\"col_heading level0 col17\" >username</th>        <th class=\"col_heading level0 col18\" >version</th>    </tr></thead><tbody>\n",
              "                <tr>\n",
              "                        <th id=\"T_a58d1ee2_756d_11ec_988e_0242ac1c0002level0_row0\" class=\"row_heading level0 row0\" >0</th>\n",
              "                        <td id=\"T_a58d1ee2_756d_11ec_988e_0242ac1c0002row0_col0\" class=\"data row0 col0\" >82.82%</td>\n",
              "                        <td id=\"T_a58d1ee2_756d_11ec_988e_0242ac1c0002row0_col1\" class=\"data row0 col1\" >80.35%</td>\n",
              "                        <td id=\"T_a58d1ee2_756d_11ec_988e_0242ac1c0002row0_col2\" class=\"data row0 col2\" >83.47%</td>\n",
              "                        <td id=\"T_a58d1ee2_756d_11ec_988e_0242ac1c0002row0_col3\" class=\"data row0 col3\" >78.98%</td>\n",
              "                        <td id=\"T_a58d1ee2_756d_11ec_988e_0242ac1c0002row0_col4\" class=\"data row0 col4\" >sklearn</td>\n",
              "                        <td id=\"T_a58d1ee2_756d_11ec_988e_0242ac1c0002row0_col5\" class=\"data row0 col5\" >False</td>\n",
              "                        <td id=\"T_a58d1ee2_756d_11ec_988e_0242ac1c0002row0_col6\" class=\"data row0 col6\" >False</td>\n",
              "                        <td id=\"T_a58d1ee2_756d_11ec_988e_0242ac1c0002row0_col7\" class=\"data row0 col7\" >RandomForestClassifier</td>\n",
              "                        <td id=\"T_a58d1ee2_756d_11ec_988e_0242ac1c0002row0_col8\" class=\"data row0 col8\" >nan</td>\n",
              "                        <td id=\"T_a58d1ee2_756d_11ec_988e_0242ac1c0002row0_col9\" class=\"data row0 col9\" >nan</td>\n",
              "                        <td id=\"T_a58d1ee2_756d_11ec_988e_0242ac1c0002row0_col10\" class=\"data row0 col10\" >nan</td>\n",
              "                        <td id=\"T_a58d1ee2_756d_11ec_988e_0242ac1c0002row0_col11\" class=\"data row0 col11\" >nan</td>\n",
              "                        <td id=\"T_a58d1ee2_756d_11ec_988e_0242ac1c0002row0_col12\" class=\"data row0 col12\" >nan</td>\n",
              "                        <td id=\"T_a58d1ee2_756d_11ec_988e_0242ac1c0002row0_col13\" class=\"data row0 col13\" >nan</td>\n",
              "                        <td id=\"T_a58d1ee2_756d_11ec_988e_0242ac1c0002row0_col14\" class=\"data row0 col14\" >nan</td>\n",
              "                        <td id=\"T_a58d1ee2_756d_11ec_988e_0242ac1c0002row0_col15\" class=\"data row0 col15\" >nan</td>\n",
              "                        <td id=\"T_a58d1ee2_756d_11ec_988e_0242ac1c0002row0_col16\" class=\"data row0 col16\" >{'bootstrap': True, 'ccp_alpha...</td>\n",
              "                        <td id=\"T_a58d1ee2_756d_11ec_988e_0242ac1c0002row0_col17\" class=\"data row0 col17\" >AdvProjectsinML</td>\n",
              "                        <td id=\"T_a58d1ee2_756d_11ec_988e_0242ac1c0002row0_col18\" class=\"data row0 col18\" >5</td>\n",
              "            </tr>\n",
              "            <tr>\n",
              "                        <th id=\"T_a58d1ee2_756d_11ec_988e_0242ac1c0002level0_row1\" class=\"row_heading level0 row1\" >1</th>\n",
              "                        <td id=\"T_a58d1ee2_756d_11ec_988e_0242ac1c0002row1_col0\" class=\"data row1 col0\" >80.53%</td>\n",
              "                        <td id=\"T_a58d1ee2_756d_11ec_988e_0242ac1c0002row1_col1\" class=\"data row1 col1\" >78.48%</td>\n",
              "                        <td id=\"T_a58d1ee2_756d_11ec_988e_0242ac1c0002row1_col2\" class=\"data row1 col2\" >79.48%</td>\n",
              "                        <td id=\"T_a58d1ee2_756d_11ec_988e_0242ac1c0002row1_col3\" class=\"data row1 col3\" >77.83%</td>\n",
              "                        <td id=\"T_a58d1ee2_756d_11ec_988e_0242ac1c0002row1_col4\" class=\"data row1 col4\" >keras</td>\n",
              "                        <td id=\"T_a58d1ee2_756d_11ec_988e_0242ac1c0002row1_col5\" class=\"data row1 col5\" >False</td>\n",
              "                        <td id=\"T_a58d1ee2_756d_11ec_988e_0242ac1c0002row1_col6\" class=\"data row1 col6\" >True</td>\n",
              "                        <td id=\"T_a58d1ee2_756d_11ec_988e_0242ac1c0002row1_col7\" class=\"data row1 col7\" >Sequential</td>\n",
              "                        <td id=\"T_a58d1ee2_756d_11ec_988e_0242ac1c0002row1_col8\" class=\"data row1 col8\" >4.000000</td>\n",
              "                        <td id=\"T_a58d1ee2_756d_11ec_988e_0242ac1c0002row1_col9\" class=\"data row1 col9\" >24162.000000</td>\n",
              "                        <td id=\"T_a58d1ee2_756d_11ec_988e_0242ac1c0002row1_col10\" class=\"data row1 col10\" >4.000000</td>\n",
              "                        <td id=\"T_a58d1ee2_756d_11ec_988e_0242ac1c0002row1_col11\" class=\"data row1 col11\" >nan</td>\n",
              "                        <td id=\"T_a58d1ee2_756d_11ec_988e_0242ac1c0002row1_col12\" class=\"data row1 col12\" >1.000000</td>\n",
              "                        <td id=\"T_a58d1ee2_756d_11ec_988e_0242ac1c0002row1_col13\" class=\"data row1 col13\" >3.000000</td>\n",
              "                        <td id=\"T_a58d1ee2_756d_11ec_988e_0242ac1c0002row1_col14\" class=\"data row1 col14\" >str</td>\n",
              "                        <td id=\"T_a58d1ee2_756d_11ec_988e_0242ac1c0002row1_col15\" class=\"data row1 col15\" >RMSprop</td>\n",
              "                        <td id=\"T_a58d1ee2_756d_11ec_988e_0242ac1c0002row1_col16\" class=\"data row1 col16\" >{'name': 'sequential_1', 'laye...</td>\n",
              "                        <td id=\"T_a58d1ee2_756d_11ec_988e_0242ac1c0002row1_col17\" class=\"data row1 col17\" >AdvProjectsinML</td>\n",
              "                        <td id=\"T_a58d1ee2_756d_11ec_988e_0242ac1c0002row1_col18\" class=\"data row1 col18\" >9</td>\n",
              "            </tr>\n",
              "            <tr>\n",
              "                        <th id=\"T_a58d1ee2_756d_11ec_988e_0242ac1c0002level0_row2\" class=\"row_heading level0 row2\" >2</th>\n",
              "                        <td id=\"T_a58d1ee2_756d_11ec_988e_0242ac1c0002row2_col0\" class=\"data row2 col0\" >80.15%</td>\n",
              "                        <td id=\"T_a58d1ee2_756d_11ec_988e_0242ac1c0002row2_col1\" class=\"data row2 col1\" >78.22%</td>\n",
              "                        <td id=\"T_a58d1ee2_756d_11ec_988e_0242ac1c0002row2_col2\" class=\"data row2 col2\" >78.88%</td>\n",
              "                        <td id=\"T_a58d1ee2_756d_11ec_988e_0242ac1c0002row2_col3\" class=\"data row2 col3\" >77.75%</td>\n",
              "                        <td id=\"T_a58d1ee2_756d_11ec_988e_0242ac1c0002row2_col4\" class=\"data row2 col4\" >sklearn</td>\n",
              "                        <td id=\"T_a58d1ee2_756d_11ec_988e_0242ac1c0002row2_col5\" class=\"data row2 col5\" >False</td>\n",
              "                        <td id=\"T_a58d1ee2_756d_11ec_988e_0242ac1c0002row2_col6\" class=\"data row2 col6\" >False</td>\n",
              "                        <td id=\"T_a58d1ee2_756d_11ec_988e_0242ac1c0002row2_col7\" class=\"data row2 col7\" >GradientBoostingClassifier</td>\n",
              "                        <td id=\"T_a58d1ee2_756d_11ec_988e_0242ac1c0002row2_col8\" class=\"data row2 col8\" >nan</td>\n",
              "                        <td id=\"T_a58d1ee2_756d_11ec_988e_0242ac1c0002row2_col9\" class=\"data row2 col9\" >nan</td>\n",
              "                        <td id=\"T_a58d1ee2_756d_11ec_988e_0242ac1c0002row2_col10\" class=\"data row2 col10\" >nan</td>\n",
              "                        <td id=\"T_a58d1ee2_756d_11ec_988e_0242ac1c0002row2_col11\" class=\"data row2 col11\" >nan</td>\n",
              "                        <td id=\"T_a58d1ee2_756d_11ec_988e_0242ac1c0002row2_col12\" class=\"data row2 col12\" >nan</td>\n",
              "                        <td id=\"T_a58d1ee2_756d_11ec_988e_0242ac1c0002row2_col13\" class=\"data row2 col13\" >nan</td>\n",
              "                        <td id=\"T_a58d1ee2_756d_11ec_988e_0242ac1c0002row2_col14\" class=\"data row2 col14\" >nan</td>\n",
              "                        <td id=\"T_a58d1ee2_756d_11ec_988e_0242ac1c0002row2_col15\" class=\"data row2 col15\" >nan</td>\n",
              "                        <td id=\"T_a58d1ee2_756d_11ec_988e_0242ac1c0002row2_col16\" class=\"data row2 col16\" >{'ccp_alpha': 0.0, 'criterion'...</td>\n",
              "                        <td id=\"T_a58d1ee2_756d_11ec_988e_0242ac1c0002row2_col17\" class=\"data row2 col17\" >AdvProjectsinML</td>\n",
              "                        <td id=\"T_a58d1ee2_756d_11ec_988e_0242ac1c0002row2_col18\" class=\"data row2 col18\" >6</td>\n",
              "            </tr>\n",
              "            <tr>\n",
              "                        <th id=\"T_a58d1ee2_756d_11ec_988e_0242ac1c0002level0_row3\" class=\"row_heading level0 row3\" >3</th>\n",
              "                        <td id=\"T_a58d1ee2_756d_11ec_988e_0242ac1c0002row3_col0\" class=\"data row3 col0\" >79.01%</td>\n",
              "                        <td id=\"T_a58d1ee2_756d_11ec_988e_0242ac1c0002row3_col1\" class=\"data row3 col1\" >77.44%</td>\n",
              "                        <td id=\"T_a58d1ee2_756d_11ec_988e_0242ac1c0002row3_col2\" class=\"data row3 col2\" >77.39%</td>\n",
              "                        <td id=\"T_a58d1ee2_756d_11ec_988e_0242ac1c0002row3_col3\" class=\"data row3 col3\" >77.50%</td>\n",
              "                        <td id=\"T_a58d1ee2_756d_11ec_988e_0242ac1c0002row3_col4\" class=\"data row3 col4\" >sklearn</td>\n",
              "                        <td id=\"T_a58d1ee2_756d_11ec_988e_0242ac1c0002row3_col5\" class=\"data row3 col5\" >False</td>\n",
              "                        <td id=\"T_a58d1ee2_756d_11ec_988e_0242ac1c0002row3_col6\" class=\"data row3 col6\" >False</td>\n",
              "                        <td id=\"T_a58d1ee2_756d_11ec_988e_0242ac1c0002row3_col7\" class=\"data row3 col7\" >LogisticRegression</td>\n",
              "                        <td id=\"T_a58d1ee2_756d_11ec_988e_0242ac1c0002row3_col8\" class=\"data row3 col8\" >nan</td>\n",
              "                        <td id=\"T_a58d1ee2_756d_11ec_988e_0242ac1c0002row3_col9\" class=\"data row3 col9\" >10.000000</td>\n",
              "                        <td id=\"T_a58d1ee2_756d_11ec_988e_0242ac1c0002row3_col10\" class=\"data row3 col10\" >nan</td>\n",
              "                        <td id=\"T_a58d1ee2_756d_11ec_988e_0242ac1c0002row3_col11\" class=\"data row3 col11\" >nan</td>\n",
              "                        <td id=\"T_a58d1ee2_756d_11ec_988e_0242ac1c0002row3_col12\" class=\"data row3 col12\" >nan</td>\n",
              "                        <td id=\"T_a58d1ee2_756d_11ec_988e_0242ac1c0002row3_col13\" class=\"data row3 col13\" >nan</td>\n",
              "                        <td id=\"T_a58d1ee2_756d_11ec_988e_0242ac1c0002row3_col14\" class=\"data row3 col14\" >nan</td>\n",
              "                        <td id=\"T_a58d1ee2_756d_11ec_988e_0242ac1c0002row3_col15\" class=\"data row3 col15\" >liblinear</td>\n",
              "                        <td id=\"T_a58d1ee2_756d_11ec_988e_0242ac1c0002row3_col16\" class=\"data row3 col16\" >{'C': 10, 'class_weight': None...</td>\n",
              "                        <td id=\"T_a58d1ee2_756d_11ec_988e_0242ac1c0002row3_col17\" class=\"data row3 col17\" >AdvProjectsinML</td>\n",
              "                        <td id=\"T_a58d1ee2_756d_11ec_988e_0242ac1c0002row3_col18\" class=\"data row3 col18\" >1</td>\n",
              "            </tr>\n",
              "            <tr>\n",
              "                        <th id=\"T_a58d1ee2_756d_11ec_988e_0242ac1c0002level0_row4\" class=\"row_heading level0 row4\" >4</th>\n",
              "                        <td id=\"T_a58d1ee2_756d_11ec_988e_0242ac1c0002row4_col0\" class=\"data row4 col0\" >79.01%</td>\n",
              "                        <td id=\"T_a58d1ee2_756d_11ec_988e_0242ac1c0002row4_col1\" class=\"data row4 col1\" >77.44%</td>\n",
              "                        <td id=\"T_a58d1ee2_756d_11ec_988e_0242ac1c0002row4_col2\" class=\"data row4 col2\" >77.39%</td>\n",
              "                        <td id=\"T_a58d1ee2_756d_11ec_988e_0242ac1c0002row4_col3\" class=\"data row4 col3\" >77.50%</td>\n",
              "                        <td id=\"T_a58d1ee2_756d_11ec_988e_0242ac1c0002row4_col4\" class=\"data row4 col4\" >sklearn</td>\n",
              "                        <td id=\"T_a58d1ee2_756d_11ec_988e_0242ac1c0002row4_col5\" class=\"data row4 col5\" >False</td>\n",
              "                        <td id=\"T_a58d1ee2_756d_11ec_988e_0242ac1c0002row4_col6\" class=\"data row4 col6\" >False</td>\n",
              "                        <td id=\"T_a58d1ee2_756d_11ec_988e_0242ac1c0002row4_col7\" class=\"data row4 col7\" >LogisticRegression</td>\n",
              "                        <td id=\"T_a58d1ee2_756d_11ec_988e_0242ac1c0002row4_col8\" class=\"data row4 col8\" >nan</td>\n",
              "                        <td id=\"T_a58d1ee2_756d_11ec_988e_0242ac1c0002row4_col9\" class=\"data row4 col9\" >10.000000</td>\n",
              "                        <td id=\"T_a58d1ee2_756d_11ec_988e_0242ac1c0002row4_col10\" class=\"data row4 col10\" >nan</td>\n",
              "                        <td id=\"T_a58d1ee2_756d_11ec_988e_0242ac1c0002row4_col11\" class=\"data row4 col11\" >nan</td>\n",
              "                        <td id=\"T_a58d1ee2_756d_11ec_988e_0242ac1c0002row4_col12\" class=\"data row4 col12\" >nan</td>\n",
              "                        <td id=\"T_a58d1ee2_756d_11ec_988e_0242ac1c0002row4_col13\" class=\"data row4 col13\" >nan</td>\n",
              "                        <td id=\"T_a58d1ee2_756d_11ec_988e_0242ac1c0002row4_col14\" class=\"data row4 col14\" >nan</td>\n",
              "                        <td id=\"T_a58d1ee2_756d_11ec_988e_0242ac1c0002row4_col15\" class=\"data row4 col15\" >liblinear</td>\n",
              "                        <td id=\"T_a58d1ee2_756d_11ec_988e_0242ac1c0002row4_col16\" class=\"data row4 col16\" >{'C': 10, 'class_weight': None...</td>\n",
              "                        <td id=\"T_a58d1ee2_756d_11ec_988e_0242ac1c0002row4_col17\" class=\"data row4 col17\" >AdvProjectsinML</td>\n",
              "                        <td id=\"T_a58d1ee2_756d_11ec_988e_0242ac1c0002row4_col18\" class=\"data row4 col18\" >3</td>\n",
              "            </tr>\n",
              "            <tr>\n",
              "                        <th id=\"T_a58d1ee2_756d_11ec_988e_0242ac1c0002level0_row5\" class=\"row_heading level0 row5\" >5</th>\n",
              "                        <td id=\"T_a58d1ee2_756d_11ec_988e_0242ac1c0002row5_col0\" class=\"data row5 col0\" >66.79%</td>\n",
              "                        <td id=\"T_a58d1ee2_756d_11ec_988e_0242ac1c0002row5_col1\" class=\"data row5 col1\" >48.19%</td>\n",
              "                        <td id=\"T_a58d1ee2_756d_11ec_988e_0242ac1c0002row5_col2\" class=\"data row5 col2\" >82.81%</td>\n",
              "                        <td id=\"T_a58d1ee2_756d_11ec_988e_0242ac1c0002row5_col3\" class=\"data row5 col3\" >54.69%</td>\n",
              "                        <td id=\"T_a58d1ee2_756d_11ec_988e_0242ac1c0002row5_col4\" class=\"data row5 col4\" >keras</td>\n",
              "                        <td id=\"T_a58d1ee2_756d_11ec_988e_0242ac1c0002row5_col5\" class=\"data row5 col5\" >False</td>\n",
              "                        <td id=\"T_a58d1ee2_756d_11ec_988e_0242ac1c0002row5_col6\" class=\"data row5 col6\" >True</td>\n",
              "                        <td id=\"T_a58d1ee2_756d_11ec_988e_0242ac1c0002row5_col7\" class=\"data row5 col7\" >Sequential</td>\n",
              "                        <td id=\"T_a58d1ee2_756d_11ec_988e_0242ac1c0002row5_col8\" class=\"data row5 col8\" >4.000000</td>\n",
              "                        <td id=\"T_a58d1ee2_756d_11ec_988e_0242ac1c0002row5_col9\" class=\"data row5 col9\" >9154.000000</td>\n",
              "                        <td id=\"T_a58d1ee2_756d_11ec_988e_0242ac1c0002row5_col10\" class=\"data row5 col10\" >4.000000</td>\n",
              "                        <td id=\"T_a58d1ee2_756d_11ec_988e_0242ac1c0002row5_col11\" class=\"data row5 col11\" >nan</td>\n",
              "                        <td id=\"T_a58d1ee2_756d_11ec_988e_0242ac1c0002row5_col12\" class=\"data row5 col12\" >1.000000</td>\n",
              "                        <td id=\"T_a58d1ee2_756d_11ec_988e_0242ac1c0002row5_col13\" class=\"data row5 col13\" >3.000000</td>\n",
              "                        <td id=\"T_a58d1ee2_756d_11ec_988e_0242ac1c0002row5_col14\" class=\"data row5 col14\" >str</td>\n",
              "                        <td id=\"T_a58d1ee2_756d_11ec_988e_0242ac1c0002row5_col15\" class=\"data row5 col15\" >SGD</td>\n",
              "                        <td id=\"T_a58d1ee2_756d_11ec_988e_0242ac1c0002row5_col16\" class=\"data row5 col16\" >{'name': 'sequential', 'layers...</td>\n",
              "                        <td id=\"T_a58d1ee2_756d_11ec_988e_0242ac1c0002row5_col17\" class=\"data row5 col17\" >AdvProjectsinML</td>\n",
              "                        <td id=\"T_a58d1ee2_756d_11ec_988e_0242ac1c0002row5_col18\" class=\"data row5 col18\" >7</td>\n",
              "            </tr>\n",
              "            <tr>\n",
              "                        <th id=\"T_a58d1ee2_756d_11ec_988e_0242ac1c0002level0_row6\" class=\"row_heading level0 row6\" >6</th>\n",
              "                        <td id=\"T_a58d1ee2_756d_11ec_988e_0242ac1c0002row6_col0\" class=\"data row6 col0\" >76.34%</td>\n",
              "                        <td id=\"T_a58d1ee2_756d_11ec_988e_0242ac1c0002row6_col1\" class=\"data row6 col1\" >72.49%</td>\n",
              "                        <td id=\"T_a58d1ee2_756d_11ec_988e_0242ac1c0002row6_col2\" class=\"data row6 col2\" >75.90%</td>\n",
              "                        <td id=\"T_a58d1ee2_756d_11ec_988e_0242ac1c0002row6_col3\" class=\"data row6 col3\" >71.44%</td>\n",
              "                        <td id=\"T_a58d1ee2_756d_11ec_988e_0242ac1c0002row6_col4\" class=\"data row6 col4\" >sklearn</td>\n",
              "                        <td id=\"T_a58d1ee2_756d_11ec_988e_0242ac1c0002row6_col5\" class=\"data row6 col5\" >False</td>\n",
              "                        <td id=\"T_a58d1ee2_756d_11ec_988e_0242ac1c0002row6_col6\" class=\"data row6 col6\" >False</td>\n",
              "                        <td id=\"T_a58d1ee2_756d_11ec_988e_0242ac1c0002row6_col7\" class=\"data row6 col7\" >LogisticRegression</td>\n",
              "                        <td id=\"T_a58d1ee2_756d_11ec_988e_0242ac1c0002row6_col8\" class=\"data row6 col8\" >nan</td>\n",
              "                        <td id=\"T_a58d1ee2_756d_11ec_988e_0242ac1c0002row6_col9\" class=\"data row6 col9\" >10.000000</td>\n",
              "                        <td id=\"T_a58d1ee2_756d_11ec_988e_0242ac1c0002row6_col10\" class=\"data row6 col10\" >nan</td>\n",
              "                        <td id=\"T_a58d1ee2_756d_11ec_988e_0242ac1c0002row6_col11\" class=\"data row6 col11\" >nan</td>\n",
              "                        <td id=\"T_a58d1ee2_756d_11ec_988e_0242ac1c0002row6_col12\" class=\"data row6 col12\" >nan</td>\n",
              "                        <td id=\"T_a58d1ee2_756d_11ec_988e_0242ac1c0002row6_col13\" class=\"data row6 col13\" >nan</td>\n",
              "                        <td id=\"T_a58d1ee2_756d_11ec_988e_0242ac1c0002row6_col14\" class=\"data row6 col14\" >nan</td>\n",
              "                        <td id=\"T_a58d1ee2_756d_11ec_988e_0242ac1c0002row6_col15\" class=\"data row6 col15\" >lbfgs</td>\n",
              "                        <td id=\"T_a58d1ee2_756d_11ec_988e_0242ac1c0002row6_col16\" class=\"data row6 col16\" >{'C': 0.01, 'class_weight': No...</td>\n",
              "                        <td id=\"T_a58d1ee2_756d_11ec_988e_0242ac1c0002row6_col17\" class=\"data row6 col17\" >AdvProjectsinML</td>\n",
              "                        <td id=\"T_a58d1ee2_756d_11ec_988e_0242ac1c0002row6_col18\" class=\"data row6 col18\" >2</td>\n",
              "            </tr>\n",
              "            <tr>\n",
              "                        <th id=\"T_a58d1ee2_756d_11ec_988e_0242ac1c0002level0_row7\" class=\"row_heading level0 row7\" >7</th>\n",
              "                        <td id=\"T_a58d1ee2_756d_11ec_988e_0242ac1c0002row7_col0\" class=\"data row7 col0\" >76.34%</td>\n",
              "                        <td id=\"T_a58d1ee2_756d_11ec_988e_0242ac1c0002row7_col1\" class=\"data row7 col1\" >72.49%</td>\n",
              "                        <td id=\"T_a58d1ee2_756d_11ec_988e_0242ac1c0002row7_col2\" class=\"data row7 col2\" >75.90%</td>\n",
              "                        <td id=\"T_a58d1ee2_756d_11ec_988e_0242ac1c0002row7_col3\" class=\"data row7 col3\" >71.44%</td>\n",
              "                        <td id=\"T_a58d1ee2_756d_11ec_988e_0242ac1c0002row7_col4\" class=\"data row7 col4\" >sklearn</td>\n",
              "                        <td id=\"T_a58d1ee2_756d_11ec_988e_0242ac1c0002row7_col5\" class=\"data row7 col5\" >False</td>\n",
              "                        <td id=\"T_a58d1ee2_756d_11ec_988e_0242ac1c0002row7_col6\" class=\"data row7 col6\" >False</td>\n",
              "                        <td id=\"T_a58d1ee2_756d_11ec_988e_0242ac1c0002row7_col7\" class=\"data row7 col7\" >LogisticRegression</td>\n",
              "                        <td id=\"T_a58d1ee2_756d_11ec_988e_0242ac1c0002row7_col8\" class=\"data row7 col8\" >nan</td>\n",
              "                        <td id=\"T_a58d1ee2_756d_11ec_988e_0242ac1c0002row7_col9\" class=\"data row7 col9\" >10.000000</td>\n",
              "                        <td id=\"T_a58d1ee2_756d_11ec_988e_0242ac1c0002row7_col10\" class=\"data row7 col10\" >nan</td>\n",
              "                        <td id=\"T_a58d1ee2_756d_11ec_988e_0242ac1c0002row7_col11\" class=\"data row7 col11\" >nan</td>\n",
              "                        <td id=\"T_a58d1ee2_756d_11ec_988e_0242ac1c0002row7_col12\" class=\"data row7 col12\" >nan</td>\n",
              "                        <td id=\"T_a58d1ee2_756d_11ec_988e_0242ac1c0002row7_col13\" class=\"data row7 col13\" >nan</td>\n",
              "                        <td id=\"T_a58d1ee2_756d_11ec_988e_0242ac1c0002row7_col14\" class=\"data row7 col14\" >nan</td>\n",
              "                        <td id=\"T_a58d1ee2_756d_11ec_988e_0242ac1c0002row7_col15\" class=\"data row7 col15\" >lbfgs</td>\n",
              "                        <td id=\"T_a58d1ee2_756d_11ec_988e_0242ac1c0002row7_col16\" class=\"data row7 col16\" >{'C': 0.01, 'class_weight': No...</td>\n",
              "                        <td id=\"T_a58d1ee2_756d_11ec_988e_0242ac1c0002row7_col17\" class=\"data row7 col17\" >AdvProjectsinML</td>\n",
              "                        <td id=\"T_a58d1ee2_756d_11ec_988e_0242ac1c0002row7_col18\" class=\"data row7 col18\" >4</td>\n",
              "            </tr>\n",
              "            <tr>\n",
              "                        <th id=\"T_a58d1ee2_756d_11ec_988e_0242ac1c0002level0_row8\" class=\"row_heading level0 row8\" >8</th>\n",
              "                        <td id=\"T_a58d1ee2_756d_11ec_988e_0242ac1c0002row8_col0\" class=\"data row8 col0\" >65.27%</td>\n",
              "                        <td id=\"T_a58d1ee2_756d_11ec_988e_0242ac1c0002row8_col1\" class=\"data row8 col1\" >45.81%</td>\n",
              "                        <td id=\"T_a58d1ee2_756d_11ec_988e_0242ac1c0002row8_col2\" class=\"data row8 col2\" >71.30%</td>\n",
              "                        <td id=\"T_a58d1ee2_756d_11ec_988e_0242ac1c0002row8_col3\" class=\"data row8 col3\" >53.04%</td>\n",
              "                        <td id=\"T_a58d1ee2_756d_11ec_988e_0242ac1c0002row8_col4\" class=\"data row8 col4\" >keras</td>\n",
              "                        <td id=\"T_a58d1ee2_756d_11ec_988e_0242ac1c0002row8_col5\" class=\"data row8 col5\" >False</td>\n",
              "                        <td id=\"T_a58d1ee2_756d_11ec_988e_0242ac1c0002row8_col6\" class=\"data row8 col6\" >True</td>\n",
              "                        <td id=\"T_a58d1ee2_756d_11ec_988e_0242ac1c0002row8_col7\" class=\"data row8 col7\" >Sequential</td>\n",
              "                        <td id=\"T_a58d1ee2_756d_11ec_988e_0242ac1c0002row8_col8\" class=\"data row8 col8\" >7.000000</td>\n",
              "                        <td id=\"T_a58d1ee2_756d_11ec_988e_0242ac1c0002row8_col9\" class=\"data row8 col9\" >18114.000000</td>\n",
              "                        <td id=\"T_a58d1ee2_756d_11ec_988e_0242ac1c0002row8_col10\" class=\"data row8 col10\" >5.000000</td>\n",
              "                        <td id=\"T_a58d1ee2_756d_11ec_988e_0242ac1c0002row8_col11\" class=\"data row8 col11\" >2.000000</td>\n",
              "                        <td id=\"T_a58d1ee2_756d_11ec_988e_0242ac1c0002row8_col12\" class=\"data row8 col12\" >1.000000</td>\n",
              "                        <td id=\"T_a58d1ee2_756d_11ec_988e_0242ac1c0002row8_col13\" class=\"data row8 col13\" >4.000000</td>\n",
              "                        <td id=\"T_a58d1ee2_756d_11ec_988e_0242ac1c0002row8_col14\" class=\"data row8 col14\" >str</td>\n",
              "                        <td id=\"T_a58d1ee2_756d_11ec_988e_0242ac1c0002row8_col15\" class=\"data row8 col15\" >SGD</td>\n",
              "                        <td id=\"T_a58d1ee2_756d_11ec_988e_0242ac1c0002row8_col16\" class=\"data row8 col16\" >{'name': 'sequential_1', 'laye...</td>\n",
              "                        <td id=\"T_a58d1ee2_756d_11ec_988e_0242ac1c0002row8_col17\" class=\"data row8 col17\" >AdvProjectsinML</td>\n",
              "                        <td id=\"T_a58d1ee2_756d_11ec_988e_0242ac1c0002row8_col18\" class=\"data row8 col18\" >8</td>\n",
              "            </tr>\n",
              "    </tbody></table>"
            ],
            "text/plain": [
              "<pandas.io.formats.style.Styler at 0x7f2fb538fd90>"
            ]
          },
          "metadata": {},
          "execution_count": 24
        }
      ]
    },
    {
      "cell_type": "code",
      "metadata": {
        "id": "MKvPKyb7hT0h",
        "colab": {
          "base_uri": "https://localhost:8080/",
          "height": 180
        },
        "outputId": "7b2f3688-e1b0-4484-f87d-48963d450620"
      },
      "source": [
        "# Compare two or more models\n",
        "data=mycompetition.compare_models([7,8,9], verbose=1)\n",
        "mycompetition.stylize_compare(data)"
      ],
      "execution_count": 25,
      "outputs": [
        {
          "output_type": "display_data",
          "data": {
            "text/html": [
              "<style  type=\"text/css\" >\n",
              "    #T_b2c39b5e_756d_11ec_988e_0242ac1c0002 caption {\n",
              "          color: black;\n",
              "          font-size: 18px;\n",
              "    }#T_b2c39b5e_756d_11ec_988e_0242ac1c0002row0_col0,#T_b2c39b5e_756d_11ec_988e_0242ac1c0002row0_col3,#T_b2c39b5e_756d_11ec_988e_0242ac1c0002row0_col6,#T_b2c39b5e_756d_11ec_988e_0242ac1c0002row1_col0,#T_b2c39b5e_756d_11ec_988e_0242ac1c0002row1_col6,#T_b2c39b5e_756d_11ec_988e_0242ac1c0002row2_col0,#T_b2c39b5e_756d_11ec_988e_0242ac1c0002row2_col3,#T_b2c39b5e_756d_11ec_988e_0242ac1c0002row2_col6,#T_b2c39b5e_756d_11ec_988e_0242ac1c0002row3_col0,#T_b2c39b5e_756d_11ec_988e_0242ac1c0002row3_col3,#T_b2c39b5e_756d_11ec_988e_0242ac1c0002row3_col6,#T_b2c39b5e_756d_11ec_988e_0242ac1c0002row5_col3,#T_b2c39b5e_756d_11ec_988e_0242ac1c0002row6_col3{\n",
              "            background:  #fff2ae;\n",
              "            color:  black;\n",
              "            color:  black;\n",
              "        }#T_b2c39b5e_756d_11ec_988e_0242ac1c0002row0_col1,#T_b2c39b5e_756d_11ec_988e_0242ac1c0002row0_col2,#T_b2c39b5e_756d_11ec_988e_0242ac1c0002row0_col4,#T_b2c39b5e_756d_11ec_988e_0242ac1c0002row0_col5,#T_b2c39b5e_756d_11ec_988e_0242ac1c0002row0_col7,#T_b2c39b5e_756d_11ec_988e_0242ac1c0002row0_col8,#T_b2c39b5e_756d_11ec_988e_0242ac1c0002row1_col1,#T_b2c39b5e_756d_11ec_988e_0242ac1c0002row1_col2,#T_b2c39b5e_756d_11ec_988e_0242ac1c0002row1_col4,#T_b2c39b5e_756d_11ec_988e_0242ac1c0002row1_col5,#T_b2c39b5e_756d_11ec_988e_0242ac1c0002row1_col7,#T_b2c39b5e_756d_11ec_988e_0242ac1c0002row1_col8,#T_b2c39b5e_756d_11ec_988e_0242ac1c0002row2_col1,#T_b2c39b5e_756d_11ec_988e_0242ac1c0002row2_col2,#T_b2c39b5e_756d_11ec_988e_0242ac1c0002row2_col4,#T_b2c39b5e_756d_11ec_988e_0242ac1c0002row2_col5,#T_b2c39b5e_756d_11ec_988e_0242ac1c0002row2_col7,#T_b2c39b5e_756d_11ec_988e_0242ac1c0002row2_col8,#T_b2c39b5e_756d_11ec_988e_0242ac1c0002row3_col1,#T_b2c39b5e_756d_11ec_988e_0242ac1c0002row3_col2,#T_b2c39b5e_756d_11ec_988e_0242ac1c0002row3_col4,#T_b2c39b5e_756d_11ec_988e_0242ac1c0002row3_col5,#T_b2c39b5e_756d_11ec_988e_0242ac1c0002row3_col7,#T_b2c39b5e_756d_11ec_988e_0242ac1c0002row3_col8,#T_b2c39b5e_756d_11ec_988e_0242ac1c0002row4_col0,#T_b2c39b5e_756d_11ec_988e_0242ac1c0002row4_col1,#T_b2c39b5e_756d_11ec_988e_0242ac1c0002row4_col2,#T_b2c39b5e_756d_11ec_988e_0242ac1c0002row4_col4,#T_b2c39b5e_756d_11ec_988e_0242ac1c0002row4_col5,#T_b2c39b5e_756d_11ec_988e_0242ac1c0002row4_col6,#T_b2c39b5e_756d_11ec_988e_0242ac1c0002row4_col7,#T_b2c39b5e_756d_11ec_988e_0242ac1c0002row4_col8,#T_b2c39b5e_756d_11ec_988e_0242ac1c0002row5_col0,#T_b2c39b5e_756d_11ec_988e_0242ac1c0002row5_col1,#T_b2c39b5e_756d_11ec_988e_0242ac1c0002row5_col2,#T_b2c39b5e_756d_11ec_988e_0242ac1c0002row5_col4,#T_b2c39b5e_756d_11ec_988e_0242ac1c0002row5_col5,#T_b2c39b5e_756d_11ec_988e_0242ac1c0002row5_col6,#T_b2c39b5e_756d_11ec_988e_0242ac1c0002row5_col7,#T_b2c39b5e_756d_11ec_988e_0242ac1c0002row5_col8,#T_b2c39b5e_756d_11ec_988e_0242ac1c0002row6_col0,#T_b2c39b5e_756d_11ec_988e_0242ac1c0002row6_col1,#T_b2c39b5e_756d_11ec_988e_0242ac1c0002row6_col2,#T_b2c39b5e_756d_11ec_988e_0242ac1c0002row6_col4,#T_b2c39b5e_756d_11ec_988e_0242ac1c0002row6_col5,#T_b2c39b5e_756d_11ec_988e_0242ac1c0002row6_col6,#T_b2c39b5e_756d_11ec_988e_0242ac1c0002row6_col7,#T_b2c39b5e_756d_11ec_988e_0242ac1c0002row6_col8{\n",
              "            background:  white;\n",
              "            color:  black;\n",
              "            color:  black;\n",
              "        }#T_b2c39b5e_756d_11ec_988e_0242ac1c0002row1_col3,#T_b2c39b5e_756d_11ec_988e_0242ac1c0002row4_col3{\n",
              "            background:  #cbd5e8;\n",
              "            color:  black;\n",
              "            color:  black;\n",
              "        }</style><table id=\"T_b2c39b5e_756d_11ec_988e_0242ac1c0002\" ><caption>Model type: Neural Network</caption><thead>    <tr>        <th class=\"blank level0\" ></th>        <th class=\"col_heading level0 col0\" >Model_7_Layer</th>        <th class=\"col_heading level0 col1\" >Model_7_Shape</th>        <th class=\"col_heading level0 col2\" >Model_7_Params</th>        <th class=\"col_heading level0 col3\" >Model_8_Layer</th>        <th class=\"col_heading level0 col4\" >Model_8_Shape</th>        <th class=\"col_heading level0 col5\" >Model_8_Params</th>        <th class=\"col_heading level0 col6\" >Model_9_Layer</th>        <th class=\"col_heading level0 col7\" >Model_9_Shape</th>        <th class=\"col_heading level0 col8\" >Model_9_Params</th>    </tr></thead><tbody>\n",
              "                <tr>\n",
              "                        <th id=\"T_b2c39b5e_756d_11ec_988e_0242ac1c0002level0_row0\" class=\"row_heading level0 row0\" >0</th>\n",
              "                        <td id=\"T_b2c39b5e_756d_11ec_988e_0242ac1c0002row0_col0\" class=\"data row0 col0\" >Dense</td>\n",
              "                        <td id=\"T_b2c39b5e_756d_11ec_988e_0242ac1c0002row0_col1\" class=\"data row0 col1\" >[None, 64]</td>\n",
              "                        <td id=\"T_b2c39b5e_756d_11ec_988e_0242ac1c0002row0_col2\" class=\"data row0 col2\" >704.000000</td>\n",
              "                        <td id=\"T_b2c39b5e_756d_11ec_988e_0242ac1c0002row0_col3\" class=\"data row0 col3\" >Dense</td>\n",
              "                        <td id=\"T_b2c39b5e_756d_11ec_988e_0242ac1c0002row0_col4\" class=\"data row0 col4\" >[None, 128]</td>\n",
              "                        <td id=\"T_b2c39b5e_756d_11ec_988e_0242ac1c0002row0_col5\" class=\"data row0 col5\" >1408</td>\n",
              "                        <td id=\"T_b2c39b5e_756d_11ec_988e_0242ac1c0002row0_col6\" class=\"data row0 col6\" >Dense</td>\n",
              "                        <td id=\"T_b2c39b5e_756d_11ec_988e_0242ac1c0002row0_col7\" class=\"data row0 col7\" >[None, 64]</td>\n",
              "                        <td id=\"T_b2c39b5e_756d_11ec_988e_0242ac1c0002row0_col8\" class=\"data row0 col8\" >704.000000</td>\n",
              "            </tr>\n",
              "            <tr>\n",
              "                        <th id=\"T_b2c39b5e_756d_11ec_988e_0242ac1c0002level0_row1\" class=\"row_heading level0 row1\" >1</th>\n",
              "                        <td id=\"T_b2c39b5e_756d_11ec_988e_0242ac1c0002row1_col0\" class=\"data row1 col0\" >Dense</td>\n",
              "                        <td id=\"T_b2c39b5e_756d_11ec_988e_0242ac1c0002row1_col1\" class=\"data row1 col1\" >[None, 64]</td>\n",
              "                        <td id=\"T_b2c39b5e_756d_11ec_988e_0242ac1c0002row1_col2\" class=\"data row1 col2\" >4160.000000</td>\n",
              "                        <td id=\"T_b2c39b5e_756d_11ec_988e_0242ac1c0002row1_col3\" class=\"data row1 col3\" >Dropout</td>\n",
              "                        <td id=\"T_b2c39b5e_756d_11ec_988e_0242ac1c0002row1_col4\" class=\"data row1 col4\" >[None, 128]</td>\n",
              "                        <td id=\"T_b2c39b5e_756d_11ec_988e_0242ac1c0002row1_col5\" class=\"data row1 col5\" >0</td>\n",
              "                        <td id=\"T_b2c39b5e_756d_11ec_988e_0242ac1c0002row1_col6\" class=\"data row1 col6\" >Dense</td>\n",
              "                        <td id=\"T_b2c39b5e_756d_11ec_988e_0242ac1c0002row1_col7\" class=\"data row1 col7\" >[None, 64]</td>\n",
              "                        <td id=\"T_b2c39b5e_756d_11ec_988e_0242ac1c0002row1_col8\" class=\"data row1 col8\" >4160.000000</td>\n",
              "            </tr>\n",
              "            <tr>\n",
              "                        <th id=\"T_b2c39b5e_756d_11ec_988e_0242ac1c0002level0_row2\" class=\"row_heading level0 row2\" >2</th>\n",
              "                        <td id=\"T_b2c39b5e_756d_11ec_988e_0242ac1c0002row2_col0\" class=\"data row2 col0\" >Dense</td>\n",
              "                        <td id=\"T_b2c39b5e_756d_11ec_988e_0242ac1c0002row2_col1\" class=\"data row2 col1\" >[None, 64]</td>\n",
              "                        <td id=\"T_b2c39b5e_756d_11ec_988e_0242ac1c0002row2_col2\" class=\"data row2 col2\" >4160.000000</td>\n",
              "                        <td id=\"T_b2c39b5e_756d_11ec_988e_0242ac1c0002row2_col3\" class=\"data row2 col3\" >Dense</td>\n",
              "                        <td id=\"T_b2c39b5e_756d_11ec_988e_0242ac1c0002row2_col4\" class=\"data row2 col4\" >[None, 64]</td>\n",
              "                        <td id=\"T_b2c39b5e_756d_11ec_988e_0242ac1c0002row2_col5\" class=\"data row2 col5\" >8256</td>\n",
              "                        <td id=\"T_b2c39b5e_756d_11ec_988e_0242ac1c0002row2_col6\" class=\"data row2 col6\" >Dense</td>\n",
              "                        <td id=\"T_b2c39b5e_756d_11ec_988e_0242ac1c0002row2_col7\" class=\"data row2 col7\" >[None, 288]</td>\n",
              "                        <td id=\"T_b2c39b5e_756d_11ec_988e_0242ac1c0002row2_col8\" class=\"data row2 col8\" >18720.000000</td>\n",
              "            </tr>\n",
              "            <tr>\n",
              "                        <th id=\"T_b2c39b5e_756d_11ec_988e_0242ac1c0002level0_row3\" class=\"row_heading level0 row3\" >3</th>\n",
              "                        <td id=\"T_b2c39b5e_756d_11ec_988e_0242ac1c0002row3_col0\" class=\"data row3 col0\" >Dense</td>\n",
              "                        <td id=\"T_b2c39b5e_756d_11ec_988e_0242ac1c0002row3_col1\" class=\"data row3 col1\" >[None, 2]</td>\n",
              "                        <td id=\"T_b2c39b5e_756d_11ec_988e_0242ac1c0002row3_col2\" class=\"data row3 col2\" >130.000000</td>\n",
              "                        <td id=\"T_b2c39b5e_756d_11ec_988e_0242ac1c0002row3_col3\" class=\"data row3 col3\" >Dense</td>\n",
              "                        <td id=\"T_b2c39b5e_756d_11ec_988e_0242ac1c0002row3_col4\" class=\"data row3 col4\" >[None, 64]</td>\n",
              "                        <td id=\"T_b2c39b5e_756d_11ec_988e_0242ac1c0002row3_col5\" class=\"data row3 col5\" >4160</td>\n",
              "                        <td id=\"T_b2c39b5e_756d_11ec_988e_0242ac1c0002row3_col6\" class=\"data row3 col6\" >Dense</td>\n",
              "                        <td id=\"T_b2c39b5e_756d_11ec_988e_0242ac1c0002row3_col7\" class=\"data row3 col7\" >[None, 2]</td>\n",
              "                        <td id=\"T_b2c39b5e_756d_11ec_988e_0242ac1c0002row3_col8\" class=\"data row3 col8\" >578.000000</td>\n",
              "            </tr>\n",
              "            <tr>\n",
              "                        <th id=\"T_b2c39b5e_756d_11ec_988e_0242ac1c0002level0_row4\" class=\"row_heading level0 row4\" >4</th>\n",
              "                        <td id=\"T_b2c39b5e_756d_11ec_988e_0242ac1c0002row4_col0\" class=\"data row4 col0\" >None</td>\n",
              "                        <td id=\"T_b2c39b5e_756d_11ec_988e_0242ac1c0002row4_col1\" class=\"data row4 col1\" >None</td>\n",
              "                        <td id=\"T_b2c39b5e_756d_11ec_988e_0242ac1c0002row4_col2\" class=\"data row4 col2\" >nan</td>\n",
              "                        <td id=\"T_b2c39b5e_756d_11ec_988e_0242ac1c0002row4_col3\" class=\"data row4 col3\" >Dropout</td>\n",
              "                        <td id=\"T_b2c39b5e_756d_11ec_988e_0242ac1c0002row4_col4\" class=\"data row4 col4\" >[None, 64]</td>\n",
              "                        <td id=\"T_b2c39b5e_756d_11ec_988e_0242ac1c0002row4_col5\" class=\"data row4 col5\" >0</td>\n",
              "                        <td id=\"T_b2c39b5e_756d_11ec_988e_0242ac1c0002row4_col6\" class=\"data row4 col6\" >None</td>\n",
              "                        <td id=\"T_b2c39b5e_756d_11ec_988e_0242ac1c0002row4_col7\" class=\"data row4 col7\" >None</td>\n",
              "                        <td id=\"T_b2c39b5e_756d_11ec_988e_0242ac1c0002row4_col8\" class=\"data row4 col8\" >nan</td>\n",
              "            </tr>\n",
              "            <tr>\n",
              "                        <th id=\"T_b2c39b5e_756d_11ec_988e_0242ac1c0002level0_row5\" class=\"row_heading level0 row5\" >5</th>\n",
              "                        <td id=\"T_b2c39b5e_756d_11ec_988e_0242ac1c0002row5_col0\" class=\"data row5 col0\" >None</td>\n",
              "                        <td id=\"T_b2c39b5e_756d_11ec_988e_0242ac1c0002row5_col1\" class=\"data row5 col1\" >None</td>\n",
              "                        <td id=\"T_b2c39b5e_756d_11ec_988e_0242ac1c0002row5_col2\" class=\"data row5 col2\" >nan</td>\n",
              "                        <td id=\"T_b2c39b5e_756d_11ec_988e_0242ac1c0002row5_col3\" class=\"data row5 col3\" >Dense</td>\n",
              "                        <td id=\"T_b2c39b5e_756d_11ec_988e_0242ac1c0002row5_col4\" class=\"data row5 col4\" >[None, 64]</td>\n",
              "                        <td id=\"T_b2c39b5e_756d_11ec_988e_0242ac1c0002row5_col5\" class=\"data row5 col5\" >4160</td>\n",
              "                        <td id=\"T_b2c39b5e_756d_11ec_988e_0242ac1c0002row5_col6\" class=\"data row5 col6\" >None</td>\n",
              "                        <td id=\"T_b2c39b5e_756d_11ec_988e_0242ac1c0002row5_col7\" class=\"data row5 col7\" >None</td>\n",
              "                        <td id=\"T_b2c39b5e_756d_11ec_988e_0242ac1c0002row5_col8\" class=\"data row5 col8\" >nan</td>\n",
              "            </tr>\n",
              "            <tr>\n",
              "                        <th id=\"T_b2c39b5e_756d_11ec_988e_0242ac1c0002level0_row6\" class=\"row_heading level0 row6\" >6</th>\n",
              "                        <td id=\"T_b2c39b5e_756d_11ec_988e_0242ac1c0002row6_col0\" class=\"data row6 col0\" >None</td>\n",
              "                        <td id=\"T_b2c39b5e_756d_11ec_988e_0242ac1c0002row6_col1\" class=\"data row6 col1\" >None</td>\n",
              "                        <td id=\"T_b2c39b5e_756d_11ec_988e_0242ac1c0002row6_col2\" class=\"data row6 col2\" >nan</td>\n",
              "                        <td id=\"T_b2c39b5e_756d_11ec_988e_0242ac1c0002row6_col3\" class=\"data row6 col3\" >Dense</td>\n",
              "                        <td id=\"T_b2c39b5e_756d_11ec_988e_0242ac1c0002row6_col4\" class=\"data row6 col4\" >[None, 2]</td>\n",
              "                        <td id=\"T_b2c39b5e_756d_11ec_988e_0242ac1c0002row6_col5\" class=\"data row6 col5\" >130</td>\n",
              "                        <td id=\"T_b2c39b5e_756d_11ec_988e_0242ac1c0002row6_col6\" class=\"data row6 col6\" >None</td>\n",
              "                        <td id=\"T_b2c39b5e_756d_11ec_988e_0242ac1c0002row6_col7\" class=\"data row6 col7\" >None</td>\n",
              "                        <td id=\"T_b2c39b5e_756d_11ec_988e_0242ac1c0002row6_col8\" class=\"data row6 col8\" >nan</td>\n",
              "            </tr>\n",
              "    </tbody></table>"
            ],
            "text/plain": [
              "<IPython.core.display.HTML object>"
            ]
          },
          "metadata": {}
        }
      ]
    }
  ]
}