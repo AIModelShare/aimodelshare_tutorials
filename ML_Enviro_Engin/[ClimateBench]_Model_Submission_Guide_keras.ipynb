{
  "nbformat": 4,
  "nbformat_minor": 0,
  "metadata": {
    "colab": {
      "provenance": [],
      "collapsed_sections": []
    },
    "kernelspec": {
      "name": "python3",
      "display_name": "Python 3"
    },
    "language_info": {
      "name": "python"
    }
  },
  "cells": [
    {
      "cell_type": "markdown",
      "source": [
        "<p align=\"center\"><img width=\"50%\" src=\"https://aimodelsharecontent.s3.amazonaws.com/aimodshare_banner.jpg\" /></p>\n",
        "\n",
        "\n",
        "---\n"
      ],
      "metadata": {
        "id": "m_DMeZsXxpEZ"
      }
    },
    {
      "cell_type": "markdown",
      "metadata": {
        "id": "JXxGTgJz152A"
      },
      "source": [
        "<p align=\"center\"><h1 align=\"center\">ClimateBench Model Submission Guide\n",
        "\n",
        "##### <p align=\"center\">*Source: [ClimateBench Github](https://github.com/duncanwp/ClimateBench)* \n",
        "\n",
        "---\n",
        "Let's share our models to a centralized leaderboard, so that we can collaborate and learn from the model experimentation process...\n",
        "\n",
        "**Instructions:**\n",
        "1.   Get data in and set up X_train / X_test / y_train\n",
        "2.   Write and Save Preprocessor function\n",
        "3. Fit model on preprocessed data and save preprocessor function and model \n",
        "4. Generate predictions from X_test data and submit model to competition\n",
        "5. Repeat submission process to improve place on leaderboard"
      ]
    },
    {
      "cell_type": "markdown",
      "metadata": {
        "id": "5gSrVJwp3E9H"
      },
      "source": [
        "## 1. Get data in and set up X_train, X_test, y_train objects"
      ]
    },
    {
      "cell_type": "code",
      "metadata": {
        "id": "PLTIaMB3ChSW"
      },
      "source": [
        "#install aimodelshare library\n",
        "! pip install aimodelshare --upgrade"
      ],
      "execution_count": null,
      "outputs": []
    },
    {
      "cell_type": "code",
      "source": [
        "! pip install importlib-metadata==4.13.0"
      ],
      "metadata": {
        "id": "M0qyL1pj9g0d"
      },
      "execution_count": null,
      "outputs": []
    },
    {
      "cell_type": "code",
      "metadata": {
        "colab": {
          "base_uri": "https://localhost:8080/"
        },
        "id": "d3PiJXBhC5y-",
        "outputId": "00830dcd-e972-4748-f2ef-e4819d401502"
      },
      "source": [
        "# Get competition data\n",
        "from aimodelshare import download_data\n",
        "download_data('public.ecr.aws/y2e2a1d6/climatebench_competition_data-repository:latest') "
      ],
      "execution_count": 3,
      "outputs": [
        {
          "output_type": "stream",
          "name": "stdout",
          "text": [
            "Downloading [=================================================>]\n",
            "\n",
            "Data downloaded successfully.\n"
          ]
        }
      ]
    },
    {
      "cell_type": "code",
      "metadata": {
        "id": "jT0qFCZFNzHq"
      },
      "source": [
        "# Load data in \n",
        "import shutil\n",
        "import xarray as xr\n",
        "\n",
        "shutil.copy(\"climatebench_competition_data/utils.py\", \"utils.py\")\n",
        "from utils import * \n",
        "\n",
        "train_path = os.path.join(\"climatebench_competition_data\",'Data','train_val')\n",
        "test_path  = os.path.join(\"climatebench_competition_data\",'Data','test')\n",
        "\n",
        "# Training set\n",
        "train_files    = [\"historical\", \"ssp585\", \"ssp126\", \"ssp370\",\"hist-aer\",\"hist-GHG\"]\n",
        "X_train_xr, _  = prepare_predictor(train_files,train_path)\n",
        "y_train_xr, _  = prepare_predictand(train_files,train_path)\n",
        "\n",
        "# Test set\n",
        "X_test_xr, _ = prepare_predictor('ssp245', data_path=test_path,time_reindex=False)"
      ],
      "execution_count": 2,
      "outputs": []
    },
    {
      "cell_type": "code",
      "source": [
        "print(X_train_xr.dims)\n",
        "print(X_test_xr.dims)\n",
        "print(y_train_xr.dims)"
      ],
      "metadata": {
        "colab": {
          "base_uri": "https://localhost:8080/"
        },
        "id": "oHVi4d79zz95",
        "outputId": "879f6cac-2567-45f7-8b08-449ebf496a29"
      },
      "execution_count": 6,
      "outputs": [
        {
          "output_type": "stream",
          "name": "stdout",
          "text": [
            "Frozen({'time': 753, 'longitude': 144, 'latitude': 96})\n",
            "Frozen({'time': 86, 'longitude': 144, 'latitude': 96})\n",
            "Frozen({'time': 753, 'latitude': 96, 'longitude': 144})\n"
          ]
        }
      ]
    },
    {
      "cell_type": "markdown",
      "metadata": {
        "id": "gEzPoXPj3V7u"
      },
      "source": [
        "##2.   Preprocess Data / Write and Save Preprocessor function\n"
      ]
    },
    {
      "cell_type": "code",
      "source": [
        "#### Select relevant variables for Model 1 \n",
        "\n",
        "## predictors: CO2 & CH4 \n",
        "## predictand: tas (Annual Mean global distributions of temperature)\n",
        "\n",
        "import pandas as pd \n",
        "\n",
        "X_train_df = pd.DataFrame({\"CO2\": X_train_xr[\"CO2\"].data,\n",
        "                           \"CH4\": X_train_xr[\"CH4\"].data\n",
        "                          }, index=X_train_xr[\"CO2\"].coords['time'].data)\n",
        "\n",
        "X_test_df  = pd.DataFrame({\"CO2\": X_test_xr[\"CO2\"].data,\n",
        "                           \"CH4\": X_test_xr[\"CH4\"].data\n",
        "                          }, index=X_test_xr[\"CO2\"].coords['time'].data)\n",
        "\n",
        "\n",
        "y_train_df = y_train_xr[\"tas\"].stack(dim=[\"latitude\", \"longitude\"])\n",
        "y_train_df = pd.DataFrame(y_train_df.to_pandas())"
      ],
      "metadata": {
        "id": "hs3OzzxQ9_An"
      },
      "execution_count": 7,
      "outputs": []
    },
    {
      "cell_type": "code",
      "source": [
        "X_train_df.head()"
      ],
      "metadata": {
        "colab": {
          "base_uri": "https://localhost:8080/",
          "height": 169
        },
        "id": "swFcBjyD-QLq",
        "outputId": "526cd7f8-d02e-40ba-c171-e81c7c192066"
      },
      "execution_count": 8,
      "outputs": [
        {
          "output_type": "execute_result",
          "data": {
            "text/plain": [
              "        CO2       CH4\n",
              "0  0.188297  0.031306\n",
              "1  0.377244  0.031742\n",
              "2  0.573814  0.032178\n",
              "3  0.778848  0.032614\n",
              "4  1.020320  0.033049"
            ],
            "text/html": [
              "\n",
              "  <div id=\"df-392c13ee-77a6-4d04-a098-29550710b3fa\">\n",
              "    <div class=\"colab-df-container\">\n",
              "      <div>\n",
              "<style scoped>\n",
              "    .dataframe tbody tr th:only-of-type {\n",
              "        vertical-align: middle;\n",
              "    }\n",
              "\n",
              "    .dataframe tbody tr th {\n",
              "        vertical-align: top;\n",
              "    }\n",
              "\n",
              "    .dataframe thead th {\n",
              "        text-align: right;\n",
              "    }\n",
              "</style>\n",
              "<table border=\"1\" class=\"dataframe\">\n",
              "  <thead>\n",
              "    <tr style=\"text-align: right;\">\n",
              "      <th></th>\n",
              "      <th>CO2</th>\n",
              "      <th>CH4</th>\n",
              "    </tr>\n",
              "  </thead>\n",
              "  <tbody>\n",
              "    <tr>\n",
              "      <th>0</th>\n",
              "      <td>0.188297</td>\n",
              "      <td>0.031306</td>\n",
              "    </tr>\n",
              "    <tr>\n",
              "      <th>1</th>\n",
              "      <td>0.377244</td>\n",
              "      <td>0.031742</td>\n",
              "    </tr>\n",
              "    <tr>\n",
              "      <th>2</th>\n",
              "      <td>0.573814</td>\n",
              "      <td>0.032178</td>\n",
              "    </tr>\n",
              "    <tr>\n",
              "      <th>3</th>\n",
              "      <td>0.778848</td>\n",
              "      <td>0.032614</td>\n",
              "    </tr>\n",
              "    <tr>\n",
              "      <th>4</th>\n",
              "      <td>1.020320</td>\n",
              "      <td>0.033049</td>\n",
              "    </tr>\n",
              "  </tbody>\n",
              "</table>\n",
              "</div>\n",
              "      <button class=\"colab-df-convert\" onclick=\"convertToInteractive('df-392c13ee-77a6-4d04-a098-29550710b3fa')\"\n",
              "              title=\"Convert this dataframe to an interactive table.\"\n",
              "              style=\"display:none;\">\n",
              "        \n",
              "  <svg xmlns=\"http://www.w3.org/2000/svg\" height=\"24px\"viewBox=\"0 0 24 24\"\n",
              "       width=\"24px\">\n",
              "    <path d=\"M0 0h24v24H0V0z\" fill=\"none\"/>\n",
              "    <path d=\"M18.56 5.44l.94 2.06.94-2.06 2.06-.94-2.06-.94-.94-2.06-.94 2.06-2.06.94zm-11 1L8.5 8.5l.94-2.06 2.06-.94-2.06-.94L8.5 2.5l-.94 2.06-2.06.94zm10 10l.94 2.06.94-2.06 2.06-.94-2.06-.94-.94-2.06-.94 2.06-2.06.94z\"/><path d=\"M17.41 7.96l-1.37-1.37c-.4-.4-.92-.59-1.43-.59-.52 0-1.04.2-1.43.59L10.3 9.45l-7.72 7.72c-.78.78-.78 2.05 0 2.83L4 21.41c.39.39.9.59 1.41.59.51 0 1.02-.2 1.41-.59l7.78-7.78 2.81-2.81c.8-.78.8-2.07 0-2.86zM5.41 20L4 18.59l7.72-7.72 1.47 1.35L5.41 20z\"/>\n",
              "  </svg>\n",
              "      </button>\n",
              "      \n",
              "  <style>\n",
              "    .colab-df-container {\n",
              "      display:flex;\n",
              "      flex-wrap:wrap;\n",
              "      gap: 12px;\n",
              "    }\n",
              "\n",
              "    .colab-df-convert {\n",
              "      background-color: #E8F0FE;\n",
              "      border: none;\n",
              "      border-radius: 50%;\n",
              "      cursor: pointer;\n",
              "      display: none;\n",
              "      fill: #1967D2;\n",
              "      height: 32px;\n",
              "      padding: 0 0 0 0;\n",
              "      width: 32px;\n",
              "    }\n",
              "\n",
              "    .colab-df-convert:hover {\n",
              "      background-color: #E2EBFA;\n",
              "      box-shadow: 0px 1px 2px rgba(60, 64, 67, 0.3), 0px 1px 3px 1px rgba(60, 64, 67, 0.15);\n",
              "      fill: #174EA6;\n",
              "    }\n",
              "\n",
              "    [theme=dark] .colab-df-convert {\n",
              "      background-color: #3B4455;\n",
              "      fill: #D2E3FC;\n",
              "    }\n",
              "\n",
              "    [theme=dark] .colab-df-convert:hover {\n",
              "      background-color: #434B5C;\n",
              "      box-shadow: 0px 1px 3px 1px rgba(0, 0, 0, 0.15);\n",
              "      filter: drop-shadow(0px 1px 2px rgba(0, 0, 0, 0.3));\n",
              "      fill: #FFFFFF;\n",
              "    }\n",
              "  </style>\n",
              "\n",
              "      <script>\n",
              "        const buttonEl =\n",
              "          document.querySelector('#df-392c13ee-77a6-4d04-a098-29550710b3fa button.colab-df-convert');\n",
              "        buttonEl.style.display =\n",
              "          google.colab.kernel.accessAllowed ? 'block' : 'none';\n",
              "\n",
              "        async function convertToInteractive(key) {\n",
              "          const element = document.querySelector('#df-392c13ee-77a6-4d04-a098-29550710b3fa');\n",
              "          const dataTable =\n",
              "            await google.colab.kernel.invokeFunction('convertToInteractive',\n",
              "                                                     [key], {});\n",
              "          if (!dataTable) return;\n",
              "\n",
              "          const docLinkHtml = 'Like what you see? Visit the ' +\n",
              "            '<a target=\"_blank\" href=https://colab.research.google.com/notebooks/data_table.ipynb>data table notebook</a>'\n",
              "            + ' to learn more about interactive tables.';\n",
              "          element.innerHTML = '';\n",
              "          dataTable['output_type'] = 'display_data';\n",
              "          await google.colab.output.renderOutput(dataTable, element);\n",
              "          const docLink = document.createElement('div');\n",
              "          docLink.innerHTML = docLinkHtml;\n",
              "          element.appendChild(docLink);\n",
              "        }\n",
              "      </script>\n",
              "    </div>\n",
              "  </div>\n",
              "  "
            ]
          },
          "metadata": {},
          "execution_count": 8
        }
      ]
    },
    {
      "cell_type": "code",
      "source": [
        "# \"Note that here we stack the original 2-D tas data into a single dimension (for the purpose of NN implementation)\" \n",
        "y_train_df.head()"
      ],
      "metadata": {
        "colab": {
          "base_uri": "https://localhost:8080/",
          "height": 309
        },
        "id": "ZUlDWEAF-RWG",
        "outputId": "034fb128-9fd0-4794-fa03-75929e3e34e1"
      },
      "execution_count": 9,
      "outputs": [
        {
          "output_type": "execute_result",
          "data": {
            "text/plain": [
              "latitude      -90.0                                                    \\\n",
              "longitude     0.0       2.5       5.0       7.5       10.0      12.5    \n",
              "time                                                                    \n",
              "0          0.320023  0.319946  0.319865  0.319885  0.319860  0.319865   \n",
              "1         -0.667297 -0.667023 -0.667114 -0.667109 -0.667109 -0.667135   \n",
              "2         -0.058345 -0.058167 -0.058248 -0.058243 -0.058248 -0.058248   \n",
              "3          0.125870  0.125941  0.125946  0.125941  0.125946  0.125890   \n",
              "4          0.418304  0.418533  0.418503  0.418523  0.418477  0.418513   \n",
              "\n",
              "latitude                                           ...      90.0            \\\n",
              "longitude     15.0      17.5      20.0      22.5   ...     335.0     337.5   \n",
              "time                                               ...                       \n",
              "0          0.319870  0.319911  0.319763  0.319707  ...  0.913116  0.913289   \n",
              "1         -0.667114 -0.667104 -0.667104 -0.666992  ...  0.042501  0.042679   \n",
              "2         -0.058233 -0.058207 -0.058345 -0.058177  ...  1.167440  1.167389   \n",
              "3          0.125951  0.125941  0.125895  0.125982  ... -0.339457 -0.339589   \n",
              "4          0.418503  0.418549  0.418482  0.418564  ...  0.577006  0.576996   \n",
              "\n",
              "latitude                                                               \\\n",
              "longitude     340.0     342.5     345.0     347.5     350.0     352.5   \n",
              "time                                                                    \n",
              "0          0.913116  0.912933  0.912893  0.912659  0.912384  0.912181   \n",
              "1          0.049225  0.055695  0.055506  0.055227  0.054789  0.054230   \n",
              "2          1.169657  1.172119  1.172201  1.172190  1.172292  1.172424   \n",
              "3         -0.332387 -0.324961 -0.324956 -0.325038 -0.325063 -0.325033   \n",
              "4          0.585297  0.593811  0.593740  0.593719  0.593648  0.593801   \n",
              "\n",
              "latitude                       \n",
              "longitude     355.0     357.5  \n",
              "time                           \n",
              "0          0.911825  0.911611  \n",
              "1          0.053604  0.052897  \n",
              "2          1.172709  1.173228  \n",
              "3         -0.325022 -0.324880  \n",
              "4          0.593760  0.593943  \n",
              "\n",
              "[5 rows x 13824 columns]"
            ],
            "text/html": [
              "\n",
              "  <div id=\"df-85e7c78d-b1d2-42ee-bdf9-d266c6f74b3e\">\n",
              "    <div class=\"colab-df-container\">\n",
              "      <div>\n",
              "<style scoped>\n",
              "    .dataframe tbody tr th:only-of-type {\n",
              "        vertical-align: middle;\n",
              "    }\n",
              "\n",
              "    .dataframe tbody tr th {\n",
              "        vertical-align: top;\n",
              "    }\n",
              "\n",
              "    .dataframe thead tr th {\n",
              "        text-align: left;\n",
              "    }\n",
              "\n",
              "    .dataframe thead tr:last-of-type th {\n",
              "        text-align: right;\n",
              "    }\n",
              "</style>\n",
              "<table border=\"1\" class=\"dataframe\">\n",
              "  <thead>\n",
              "    <tr>\n",
              "      <th>latitude</th>\n",
              "      <th colspan=\"10\" halign=\"left\">-90.0</th>\n",
              "      <th>...</th>\n",
              "      <th colspan=\"10\" halign=\"left\">90.0</th>\n",
              "    </tr>\n",
              "    <tr>\n",
              "      <th>longitude</th>\n",
              "      <th>0.0</th>\n",
              "      <th>2.5</th>\n",
              "      <th>5.0</th>\n",
              "      <th>7.5</th>\n",
              "      <th>10.0</th>\n",
              "      <th>12.5</th>\n",
              "      <th>15.0</th>\n",
              "      <th>17.5</th>\n",
              "      <th>20.0</th>\n",
              "      <th>22.5</th>\n",
              "      <th>...</th>\n",
              "      <th>335.0</th>\n",
              "      <th>337.5</th>\n",
              "      <th>340.0</th>\n",
              "      <th>342.5</th>\n",
              "      <th>345.0</th>\n",
              "      <th>347.5</th>\n",
              "      <th>350.0</th>\n",
              "      <th>352.5</th>\n",
              "      <th>355.0</th>\n",
              "      <th>357.5</th>\n",
              "    </tr>\n",
              "    <tr>\n",
              "      <th>time</th>\n",
              "      <th></th>\n",
              "      <th></th>\n",
              "      <th></th>\n",
              "      <th></th>\n",
              "      <th></th>\n",
              "      <th></th>\n",
              "      <th></th>\n",
              "      <th></th>\n",
              "      <th></th>\n",
              "      <th></th>\n",
              "      <th></th>\n",
              "      <th></th>\n",
              "      <th></th>\n",
              "      <th></th>\n",
              "      <th></th>\n",
              "      <th></th>\n",
              "      <th></th>\n",
              "      <th></th>\n",
              "      <th></th>\n",
              "      <th></th>\n",
              "      <th></th>\n",
              "    </tr>\n",
              "  </thead>\n",
              "  <tbody>\n",
              "    <tr>\n",
              "      <th>0</th>\n",
              "      <td>0.320023</td>\n",
              "      <td>0.319946</td>\n",
              "      <td>0.319865</td>\n",
              "      <td>0.319885</td>\n",
              "      <td>0.319860</td>\n",
              "      <td>0.319865</td>\n",
              "      <td>0.319870</td>\n",
              "      <td>0.319911</td>\n",
              "      <td>0.319763</td>\n",
              "      <td>0.319707</td>\n",
              "      <td>...</td>\n",
              "      <td>0.913116</td>\n",
              "      <td>0.913289</td>\n",
              "      <td>0.913116</td>\n",
              "      <td>0.912933</td>\n",
              "      <td>0.912893</td>\n",
              "      <td>0.912659</td>\n",
              "      <td>0.912384</td>\n",
              "      <td>0.912181</td>\n",
              "      <td>0.911825</td>\n",
              "      <td>0.911611</td>\n",
              "    </tr>\n",
              "    <tr>\n",
              "      <th>1</th>\n",
              "      <td>-0.667297</td>\n",
              "      <td>-0.667023</td>\n",
              "      <td>-0.667114</td>\n",
              "      <td>-0.667109</td>\n",
              "      <td>-0.667109</td>\n",
              "      <td>-0.667135</td>\n",
              "      <td>-0.667114</td>\n",
              "      <td>-0.667104</td>\n",
              "      <td>-0.667104</td>\n",
              "      <td>-0.666992</td>\n",
              "      <td>...</td>\n",
              "      <td>0.042501</td>\n",
              "      <td>0.042679</td>\n",
              "      <td>0.049225</td>\n",
              "      <td>0.055695</td>\n",
              "      <td>0.055506</td>\n",
              "      <td>0.055227</td>\n",
              "      <td>0.054789</td>\n",
              "      <td>0.054230</td>\n",
              "      <td>0.053604</td>\n",
              "      <td>0.052897</td>\n",
              "    </tr>\n",
              "    <tr>\n",
              "      <th>2</th>\n",
              "      <td>-0.058345</td>\n",
              "      <td>-0.058167</td>\n",
              "      <td>-0.058248</td>\n",
              "      <td>-0.058243</td>\n",
              "      <td>-0.058248</td>\n",
              "      <td>-0.058248</td>\n",
              "      <td>-0.058233</td>\n",
              "      <td>-0.058207</td>\n",
              "      <td>-0.058345</td>\n",
              "      <td>-0.058177</td>\n",
              "      <td>...</td>\n",
              "      <td>1.167440</td>\n",
              "      <td>1.167389</td>\n",
              "      <td>1.169657</td>\n",
              "      <td>1.172119</td>\n",
              "      <td>1.172201</td>\n",
              "      <td>1.172190</td>\n",
              "      <td>1.172292</td>\n",
              "      <td>1.172424</td>\n",
              "      <td>1.172709</td>\n",
              "      <td>1.173228</td>\n",
              "    </tr>\n",
              "    <tr>\n",
              "      <th>3</th>\n",
              "      <td>0.125870</td>\n",
              "      <td>0.125941</td>\n",
              "      <td>0.125946</td>\n",
              "      <td>0.125941</td>\n",
              "      <td>0.125946</td>\n",
              "      <td>0.125890</td>\n",
              "      <td>0.125951</td>\n",
              "      <td>0.125941</td>\n",
              "      <td>0.125895</td>\n",
              "      <td>0.125982</td>\n",
              "      <td>...</td>\n",
              "      <td>-0.339457</td>\n",
              "      <td>-0.339589</td>\n",
              "      <td>-0.332387</td>\n",
              "      <td>-0.324961</td>\n",
              "      <td>-0.324956</td>\n",
              "      <td>-0.325038</td>\n",
              "      <td>-0.325063</td>\n",
              "      <td>-0.325033</td>\n",
              "      <td>-0.325022</td>\n",
              "      <td>-0.324880</td>\n",
              "    </tr>\n",
              "    <tr>\n",
              "      <th>4</th>\n",
              "      <td>0.418304</td>\n",
              "      <td>0.418533</td>\n",
              "      <td>0.418503</td>\n",
              "      <td>0.418523</td>\n",
              "      <td>0.418477</td>\n",
              "      <td>0.418513</td>\n",
              "      <td>0.418503</td>\n",
              "      <td>0.418549</td>\n",
              "      <td>0.418482</td>\n",
              "      <td>0.418564</td>\n",
              "      <td>...</td>\n",
              "      <td>0.577006</td>\n",
              "      <td>0.576996</td>\n",
              "      <td>0.585297</td>\n",
              "      <td>0.593811</td>\n",
              "      <td>0.593740</td>\n",
              "      <td>0.593719</td>\n",
              "      <td>0.593648</td>\n",
              "      <td>0.593801</td>\n",
              "      <td>0.593760</td>\n",
              "      <td>0.593943</td>\n",
              "    </tr>\n",
              "  </tbody>\n",
              "</table>\n",
              "<p>5 rows × 13824 columns</p>\n",
              "</div>\n",
              "      <button class=\"colab-df-convert\" onclick=\"convertToInteractive('df-85e7c78d-b1d2-42ee-bdf9-d266c6f74b3e')\"\n",
              "              title=\"Convert this dataframe to an interactive table.\"\n",
              "              style=\"display:none;\">\n",
              "        \n",
              "  <svg xmlns=\"http://www.w3.org/2000/svg\" height=\"24px\"viewBox=\"0 0 24 24\"\n",
              "       width=\"24px\">\n",
              "    <path d=\"M0 0h24v24H0V0z\" fill=\"none\"/>\n",
              "    <path d=\"M18.56 5.44l.94 2.06.94-2.06 2.06-.94-2.06-.94-.94-2.06-.94 2.06-2.06.94zm-11 1L8.5 8.5l.94-2.06 2.06-.94-2.06-.94L8.5 2.5l-.94 2.06-2.06.94zm10 10l.94 2.06.94-2.06 2.06-.94-2.06-.94-.94-2.06-.94 2.06-2.06.94z\"/><path d=\"M17.41 7.96l-1.37-1.37c-.4-.4-.92-.59-1.43-.59-.52 0-1.04.2-1.43.59L10.3 9.45l-7.72 7.72c-.78.78-.78 2.05 0 2.83L4 21.41c.39.39.9.59 1.41.59.51 0 1.02-.2 1.41-.59l7.78-7.78 2.81-2.81c.8-.78.8-2.07 0-2.86zM5.41 20L4 18.59l7.72-7.72 1.47 1.35L5.41 20z\"/>\n",
              "  </svg>\n",
              "      </button>\n",
              "      \n",
              "  <style>\n",
              "    .colab-df-container {\n",
              "      display:flex;\n",
              "      flex-wrap:wrap;\n",
              "      gap: 12px;\n",
              "    }\n",
              "\n",
              "    .colab-df-convert {\n",
              "      background-color: #E8F0FE;\n",
              "      border: none;\n",
              "      border-radius: 50%;\n",
              "      cursor: pointer;\n",
              "      display: none;\n",
              "      fill: #1967D2;\n",
              "      height: 32px;\n",
              "      padding: 0 0 0 0;\n",
              "      width: 32px;\n",
              "    }\n",
              "\n",
              "    .colab-df-convert:hover {\n",
              "      background-color: #E2EBFA;\n",
              "      box-shadow: 0px 1px 2px rgba(60, 64, 67, 0.3), 0px 1px 3px 1px rgba(60, 64, 67, 0.15);\n",
              "      fill: #174EA6;\n",
              "    }\n",
              "\n",
              "    [theme=dark] .colab-df-convert {\n",
              "      background-color: #3B4455;\n",
              "      fill: #D2E3FC;\n",
              "    }\n",
              "\n",
              "    [theme=dark] .colab-df-convert:hover {\n",
              "      background-color: #434B5C;\n",
              "      box-shadow: 0px 1px 3px 1px rgba(0, 0, 0, 0.15);\n",
              "      filter: drop-shadow(0px 1px 2px rgba(0, 0, 0, 0.3));\n",
              "      fill: #FFFFFF;\n",
              "    }\n",
              "  </style>\n",
              "\n",
              "      <script>\n",
              "        const buttonEl =\n",
              "          document.querySelector('#df-85e7c78d-b1d2-42ee-bdf9-d266c6f74b3e button.colab-df-convert');\n",
              "        buttonEl.style.display =\n",
              "          google.colab.kernel.accessAllowed ? 'block' : 'none';\n",
              "\n",
              "        async function convertToInteractive(key) {\n",
              "          const element = document.querySelector('#df-85e7c78d-b1d2-42ee-bdf9-d266c6f74b3e');\n",
              "          const dataTable =\n",
              "            await google.colab.kernel.invokeFunction('convertToInteractive',\n",
              "                                                     [key], {});\n",
              "          if (!dataTable) return;\n",
              "\n",
              "          const docLinkHtml = 'Like what you see? Visit the ' +\n",
              "            '<a target=\"_blank\" href=https://colab.research.google.com/notebooks/data_table.ipynb>data table notebook</a>'\n",
              "            + ' to learn more about interactive tables.';\n",
              "          element.innerHTML = '';\n",
              "          dataTable['output_type'] = 'display_data';\n",
              "          await google.colab.output.renderOutput(dataTable, element);\n",
              "          const docLink = document.createElement('div');\n",
              "          docLink.innerHTML = docLinkHtml;\n",
              "          element.appendChild(docLink);\n",
              "        }\n",
              "      </script>\n",
              "    </div>\n",
              "  </div>\n",
              "  "
            ]
          },
          "metadata": {},
          "execution_count": 9
        }
      ]
    },
    {
      "cell_type": "code",
      "metadata": {
        "id": "16QV9Y9TC3B3"
      },
      "source": [
        "# Preprocessor Function\n",
        "\n",
        "def preprocessor(data):\n",
        "    #Standardize inputs based on X_train mean and standard deviation\n",
        "    mean, std = X_train_df.mean(), X_train_df.std()\n",
        "    data   = (data - mean)/std\n",
        "    preprocessed_data = data.to_numpy()\n",
        "    return preprocessed_data"
      ],
      "execution_count": 10,
      "outputs": []
    },
    {
      "cell_type": "code",
      "source": [
        "# Check shape for keras input:\n",
        "preprocessor(X_train_df).shape "
      ],
      "metadata": {
        "colab": {
          "base_uri": "https://localhost:8080/"
        },
        "id": "3FKeaMZK88Xt",
        "outputId": "44aecbb3-a1d3-47c0-d4d5-382a48fb1c70"
      },
      "execution_count": 11,
      "outputs": [
        {
          "output_type": "execute_result",
          "data": {
            "text/plain": [
              "(753, 2)"
            ]
          },
          "metadata": {},
          "execution_count": 11
        }
      ]
    },
    {
      "cell_type": "code",
      "source": [
        "X_train = preprocessor(X_train_df)\n",
        "y_train = y_train_df.to_numpy()\n",
        "X_test = preprocessor(X_test_df)"
      ],
      "metadata": {
        "id": "whB754TH_F2M"
      },
      "execution_count": 14,
      "outputs": []
    },
    {
      "cell_type": "markdown",
      "metadata": {
        "id": "X52kECL43b-O"
      },
      "source": [
        "##3. Fit model on preprocessed data and save preprocessor function and model \n"
      ]
    },
    {
      "cell_type": "code",
      "source": [
        "import tensorflow as tf\n",
        "from tensorflow import keras\n",
        "from tensorflow.keras.models import Model, load_model\n",
        "from tensorflow.keras.layers import *\n",
        "from tensorflow.keras import Sequential"
      ],
      "metadata": {
        "id": "dudpyThO_cE-"
      },
      "execution_count": 16,
      "outputs": []
    },
    {
      "cell_type": "code",
      "metadata": {
        "id": "NCbBf8j9ClYl"
      },
      "source": [
        "# set hyperparameters\n",
        "n_neuron       = 64\n",
        "activation     = 'relu'\n",
        "num_epochs     = 50\n",
        "learning_rate  = 0.001\n",
        "minibatch_size = 64\n",
        "model_num      = 1"
      ],
      "execution_count": 12,
      "outputs": []
    },
    {
      "cell_type": "code",
      "source": [
        "model = Sequential()\n",
        "\n",
        "model.add(Dense(n_neuron,  activation=activation,input_shape=(X_train.shape[1],))) #  the 1st hidden layer \n",
        "model.add(Dense(n_neuron,  activation=activation)) # the 2nd hidden layer\n",
        "model.add(Dense(n_neuron,  activation=activation)) # the 3rd hidden layer\n",
        "model.add(Dense(y_train.shape[1],  activation='linear')) # the output layer\n",
        "\n",
        "\n",
        "model.compile(loss='mse',optimizer=tf.keras.optimizers.Adam(learning_rate=learning_rate))"
      ],
      "metadata": {
        "id": "VfcsYO14-sGW"
      },
      "execution_count": 17,
      "outputs": []
    },
    {
      "cell_type": "code",
      "source": [
        "model.summary()"
      ],
      "metadata": {
        "colab": {
          "base_uri": "https://localhost:8080/"
        },
        "id": "iHcYzZF8-tuA",
        "outputId": "faa824b0-65fc-4663-a216-4d206aea3d70"
      },
      "execution_count": 18,
      "outputs": [
        {
          "output_type": "stream",
          "name": "stdout",
          "text": [
            "Model: \"sequential\"\n",
            "_________________________________________________________________\n",
            " Layer (type)                Output Shape              Param #   \n",
            "=================================================================\n",
            " dense (Dense)               (None, 64)                192       \n",
            "                                                                 \n",
            " dense_1 (Dense)             (None, 64)                4160      \n",
            "                                                                 \n",
            " dense_2 (Dense)             (None, 64)                4160      \n",
            "                                                                 \n",
            " dense_3 (Dense)             (None, 13824)             898560    \n",
            "                                                                 \n",
            "=================================================================\n",
            "Total params: 907,072\n",
            "Trainable params: 907,072\n",
            "Non-trainable params: 0\n",
            "_________________________________________________________________\n"
          ]
        }
      ]
    },
    {
      "cell_type": "code",
      "source": [
        "early_stop = keras.callbacks.EarlyStopping(monitor='val_loss', patience=20)\n",
        "\n",
        "\n",
        "history = model.fit(X_train, y_train, \n",
        "                    batch_size      = minibatch_size,\n",
        "                    epochs          = num_epochs,\n",
        "                    validation_split= 0.2, \n",
        "                    verbose         = 1,\n",
        "                    callbacks       = [early_stop])"
      ],
      "metadata": {
        "id": "meLECthY-t1a"
      },
      "execution_count": null,
      "outputs": []
    },
    {
      "cell_type": "markdown",
      "metadata": {
        "id": "zmJAnmO-5AcU"
      },
      "source": [
        "#### Save preprocessor function to local \"preprocessor.zip\" file"
      ]
    },
    {
      "cell_type": "code",
      "metadata": {
        "colab": {
          "base_uri": "https://localhost:8080/"
        },
        "id": "4VGacc0LDaMA",
        "outputId": "ac8f7ad0-2dc5-4c95-b791-64126c23ba1c"
      },
      "source": [
        "import aimodelshare as ai\n",
        "ai.export_preprocessor(preprocessor,\"\") "
      ],
      "execution_count": 20,
      "outputs": [
        {
          "output_type": "stream",
          "name": "stdout",
          "text": [
            "Your preprocessor is now saved to 'preprocessor.zip'\n"
          ]
        }
      ]
    },
    {
      "cell_type": "code",
      "source": [
        "# Test Preprocessor \n",
        "prep = ai.import_preprocessor(\"preprocessor.zip\")\n",
        "prep(X_train_df).shape"
      ],
      "metadata": {
        "colab": {
          "base_uri": "https://localhost:8080/"
        },
        "id": "2_92asmC-4IG",
        "outputId": "46e72106-a813-4c86-d3d3-f82fbe6daaf8"
      },
      "execution_count": 21,
      "outputs": [
        {
          "output_type": "execute_result",
          "data": {
            "text/plain": [
              "(753, 2)"
            ]
          },
          "metadata": {},
          "execution_count": 21
        }
      ]
    },
    {
      "cell_type": "markdown",
      "metadata": {
        "id": "oOWBa8Cv5LdL"
      },
      "source": [
        "#### Save model to local \".onnx\" file"
      ]
    },
    {
      "cell_type": "code",
      "metadata": {
        "id": "pEhvnRiQDlY5"
      },
      "source": [
        "# Save keras model to local ONNX file\n",
        "from aimodelshare.aimsonnx import model_to_onnx\n",
        "\n",
        "# Check how many preprocessed input features there are\n",
        "from skl2onnx.common.data_types import FloatTensorType\n",
        "\n",
        "onnx_model = model_to_onnx(model, framework='keras',\n",
        "                          transfer_learning=False,\n",
        "                          deep_learning=True)\n",
        "\n",
        "with open(\"model.onnx\", \"wb\") as f:\n",
        "    f.write(onnx_model.SerializeToString())"
      ],
      "execution_count": 22,
      "outputs": []
    },
    {
      "cell_type": "markdown",
      "metadata": {
        "id": "gHWkAzvX3m8O"
      },
      "source": [
        "## 4. Generate predictions from X_test data and submit model to competition\n"
      ]
    },
    {
      "cell_type": "code",
      "metadata": {
        "colab": {
          "base_uri": "https://localhost:8080/"
        },
        "id": "RtgkM02MDpkO",
        "outputId": "6c086022-7ab7-4aea-b65c-38ede3dc5090"
      },
      "source": [
        "#Set credentials using modelshare.org username/password\n",
        "\n",
        "from aimodelshare.aws import set_credentials\n",
        "    \n",
        "apiurl=\"https://m5bxhotlm5.execute-api.us-east-1.amazonaws.com/prod/m\"\n",
        "#This is the unique rest api that powers this CA Housing Prediction Playground\n",
        "\n",
        "set_credentials(apiurl=apiurl)"
      ],
      "execution_count": 23,
      "outputs": [
        {
          "output_type": "stream",
          "name": "stdout",
          "text": [
            "AI Modelshare Username:··········\n",
            "AI Modelshare Password:··········\n",
            "AI Model Share login credentials set successfully.\n"
          ]
        }
      ]
    },
    {
      "cell_type": "code",
      "metadata": {
        "id": "fKNGSww8EGgi"
      },
      "source": [
        "#Instantiate Competition\n",
        "import aimodelshare as ai\n",
        "mycompetition= ai.Competition(apiurl)"
      ],
      "execution_count": 24,
      "outputs": []
    },
    {
      "cell_type": "code",
      "metadata": {
        "id": "_Ql4wksyEUnP"
      },
      "source": [
        "#Submit Model 1: \n",
        "\n",
        "#-- Generate predicted values (Mean surface air temperature - TAS)\n",
        "# Reshape and convert to list in order to calculate model metrics\n",
        "predicted_values = model.predict(preprocessor(X_test_df))\n",
        "predicted_values = predicted_values.reshape(predicted_values.shape[0], 96, 144)\n",
        "predicted_values = predicted_values.tolist()\n",
        "\n",
        "# Submit Model 1 to Competition Leaderboard\n",
        "mycompetition.submit_model(model_filepath = \"model.onnx\",\n",
        "                                 preprocessor_filepath=\"preprocessor.zip\",\n",
        "                                 prediction_submission=predicted_values)"
      ],
      "execution_count": null,
      "outputs": []
    },
    {
      "cell_type": "code",
      "metadata": {
        "id": "GN1zvAmNEq17"
      },
      "source": [
        "# Get leaderboard to explore current best model architectures\n",
        "\n",
        "# Get raw data in pandas data frame\n",
        "data = mycompetition.get_leaderboard()\n",
        "\n",
        "# Stylize leaderboard data\n",
        "mycompetition.stylize_leaderboard(data)"
      ],
      "execution_count": null,
      "outputs": []
    },
    {
      "cell_type": "markdown",
      "metadata": {
        "id": "bwNKs0wP4r5s"
      },
      "source": [
        "## 5. Repeat submission process to improve place on leaderboard\n",
        "Model 2 - Convolutional Neural Network "
      ]
    },
    {
      "cell_type": "code",
      "source": [
        "#format y data \n",
        "y_train = y_train_xr['tas'].data"
      ],
      "metadata": {
        "id": "WU71LTfJBuXY"
      },
      "execution_count": 29,
      "outputs": []
    },
    {
      "cell_type": "code",
      "source": [
        "# predictors: 1-D time series of CO2 & CH4\n",
        "X_train_df.head()"
      ],
      "metadata": {
        "colab": {
          "base_uri": "https://localhost:8080/",
          "height": 169
        },
        "id": "GaZpsJB6DNSl",
        "outputId": "368c27f2-1719-4d28-a3f8-96f11f9c9dd8"
      },
      "execution_count": 30,
      "outputs": [
        {
          "output_type": "execute_result",
          "data": {
            "text/plain": [
              "        CO2       CH4\n",
              "0  0.188297  0.031306\n",
              "1  0.377244  0.031742\n",
              "2  0.573814  0.032178\n",
              "3  0.778848  0.032614\n",
              "4  1.020320  0.033049"
            ],
            "text/html": [
              "\n",
              "  <div id=\"df-9f6ba4f2-ea5a-4a4c-9ece-cc368d4501ba\">\n",
              "    <div class=\"colab-df-container\">\n",
              "      <div>\n",
              "<style scoped>\n",
              "    .dataframe tbody tr th:only-of-type {\n",
              "        vertical-align: middle;\n",
              "    }\n",
              "\n",
              "    .dataframe tbody tr th {\n",
              "        vertical-align: top;\n",
              "    }\n",
              "\n",
              "    .dataframe thead th {\n",
              "        text-align: right;\n",
              "    }\n",
              "</style>\n",
              "<table border=\"1\" class=\"dataframe\">\n",
              "  <thead>\n",
              "    <tr style=\"text-align: right;\">\n",
              "      <th></th>\n",
              "      <th>CO2</th>\n",
              "      <th>CH4</th>\n",
              "    </tr>\n",
              "  </thead>\n",
              "  <tbody>\n",
              "    <tr>\n",
              "      <th>0</th>\n",
              "      <td>0.188297</td>\n",
              "      <td>0.031306</td>\n",
              "    </tr>\n",
              "    <tr>\n",
              "      <th>1</th>\n",
              "      <td>0.377244</td>\n",
              "      <td>0.031742</td>\n",
              "    </tr>\n",
              "    <tr>\n",
              "      <th>2</th>\n",
              "      <td>0.573814</td>\n",
              "      <td>0.032178</td>\n",
              "    </tr>\n",
              "    <tr>\n",
              "      <th>3</th>\n",
              "      <td>0.778848</td>\n",
              "      <td>0.032614</td>\n",
              "    </tr>\n",
              "    <tr>\n",
              "      <th>4</th>\n",
              "      <td>1.020320</td>\n",
              "      <td>0.033049</td>\n",
              "    </tr>\n",
              "  </tbody>\n",
              "</table>\n",
              "</div>\n",
              "      <button class=\"colab-df-convert\" onclick=\"convertToInteractive('df-9f6ba4f2-ea5a-4a4c-9ece-cc368d4501ba')\"\n",
              "              title=\"Convert this dataframe to an interactive table.\"\n",
              "              style=\"display:none;\">\n",
              "        \n",
              "  <svg xmlns=\"http://www.w3.org/2000/svg\" height=\"24px\"viewBox=\"0 0 24 24\"\n",
              "       width=\"24px\">\n",
              "    <path d=\"M0 0h24v24H0V0z\" fill=\"none\"/>\n",
              "    <path d=\"M18.56 5.44l.94 2.06.94-2.06 2.06-.94-2.06-.94-.94-2.06-.94 2.06-2.06.94zm-11 1L8.5 8.5l.94-2.06 2.06-.94-2.06-.94L8.5 2.5l-.94 2.06-2.06.94zm10 10l.94 2.06.94-2.06 2.06-.94-2.06-.94-.94-2.06-.94 2.06-2.06.94z\"/><path d=\"M17.41 7.96l-1.37-1.37c-.4-.4-.92-.59-1.43-.59-.52 0-1.04.2-1.43.59L10.3 9.45l-7.72 7.72c-.78.78-.78 2.05 0 2.83L4 21.41c.39.39.9.59 1.41.59.51 0 1.02-.2 1.41-.59l7.78-7.78 2.81-2.81c.8-.78.8-2.07 0-2.86zM5.41 20L4 18.59l7.72-7.72 1.47 1.35L5.41 20z\"/>\n",
              "  </svg>\n",
              "      </button>\n",
              "      \n",
              "  <style>\n",
              "    .colab-df-container {\n",
              "      display:flex;\n",
              "      flex-wrap:wrap;\n",
              "      gap: 12px;\n",
              "    }\n",
              "\n",
              "    .colab-df-convert {\n",
              "      background-color: #E8F0FE;\n",
              "      border: none;\n",
              "      border-radius: 50%;\n",
              "      cursor: pointer;\n",
              "      display: none;\n",
              "      fill: #1967D2;\n",
              "      height: 32px;\n",
              "      padding: 0 0 0 0;\n",
              "      width: 32px;\n",
              "    }\n",
              "\n",
              "    .colab-df-convert:hover {\n",
              "      background-color: #E2EBFA;\n",
              "      box-shadow: 0px 1px 2px rgba(60, 64, 67, 0.3), 0px 1px 3px 1px rgba(60, 64, 67, 0.15);\n",
              "      fill: #174EA6;\n",
              "    }\n",
              "\n",
              "    [theme=dark] .colab-df-convert {\n",
              "      background-color: #3B4455;\n",
              "      fill: #D2E3FC;\n",
              "    }\n",
              "\n",
              "    [theme=dark] .colab-df-convert:hover {\n",
              "      background-color: #434B5C;\n",
              "      box-shadow: 0px 1px 3px 1px rgba(0, 0, 0, 0.15);\n",
              "      filter: drop-shadow(0px 1px 2px rgba(0, 0, 0, 0.3));\n",
              "      fill: #FFFFFF;\n",
              "    }\n",
              "  </style>\n",
              "\n",
              "      <script>\n",
              "        const buttonEl =\n",
              "          document.querySelector('#df-9f6ba4f2-ea5a-4a4c-9ece-cc368d4501ba button.colab-df-convert');\n",
              "        buttonEl.style.display =\n",
              "          google.colab.kernel.accessAllowed ? 'block' : 'none';\n",
              "\n",
              "        async function convertToInteractive(key) {\n",
              "          const element = document.querySelector('#df-9f6ba4f2-ea5a-4a4c-9ece-cc368d4501ba');\n",
              "          const dataTable =\n",
              "            await google.colab.kernel.invokeFunction('convertToInteractive',\n",
              "                                                     [key], {});\n",
              "          if (!dataTable) return;\n",
              "\n",
              "          const docLinkHtml = 'Like what you see? Visit the ' +\n",
              "            '<a target=\"_blank\" href=https://colab.research.google.com/notebooks/data_table.ipynb>data table notebook</a>'\n",
              "            + ' to learn more about interactive tables.';\n",
              "          element.innerHTML = '';\n",
              "          dataTable['output_type'] = 'display_data';\n",
              "          await google.colab.output.renderOutput(dataTable, element);\n",
              "          const docLink = document.createElement('div');\n",
              "          docLink.innerHTML = docLinkHtml;\n",
              "          element.appendChild(docLink);\n",
              "        }\n",
              "      </script>\n",
              "    </div>\n",
              "  </div>\n",
              "  "
            ]
          },
          "metadata": {},
          "execution_count": 30
        }
      ]
    },
    {
      "cell_type": "code",
      "source": [
        "import matplotlib.pyplot as plt\n",
        "%matplotlib inline\n",
        "%config InlineBackend.figure_format = 'retina'\n",
        "%load_ext autoreload\n",
        "%autoreload 2\n",
        "\n",
        "plt.rcParams['savefig.dpi'] = 400\n",
        "plt.rcParams['font.size'] = 13\n",
        "plt.rcParams[\"legend.frameon\"] = False\n",
        "\n",
        "# predictand:  2-D map of tas (Annual Mean global distributions of temperature)\n",
        "plt.imshow(np.flip(y_train[0],axis=0),cmap='RdBu_r',vmin=-3,vmax=3)\n",
        "plt.colorbar()"
      ],
      "metadata": {
        "colab": {
          "base_uri": "https://localhost:8080/",
          "height": 276
        },
        "id": "G_EimTcbChBq",
        "outputId": "b5b303f9-c95b-4b9c-905d-2abb96b05ef2"
      },
      "execution_count": 31,
      "outputs": [
        {
          "output_type": "execute_result",
          "data": {
            "text/plain": [
              "<matplotlib.colorbar.Colorbar at 0x7f13b6ac31d0>"
            ]
          },
          "metadata": {},
          "execution_count": 31
        },
        {
          "output_type": "display_data",
          "data": {
            "text/plain": [
              "<Figure size 432x288 with 2 Axes>"
            ],
            "image/png": "[encoded data removed]"
          },
          "metadata": {
            "image/png": {
              "width": 359,
              "height": 244
            },
            "needs_background": "light"
          }
        }
      ]
    },
    {
      "cell_type": "code",
      "source": [
        "# Check Shape of Data \n",
        "# Note that you can create and use a different preprocessor, but we used the same one here \n",
        "print(X_train.shape,y_train.shape,X_test.shape)"
      ],
      "metadata": {
        "colab": {
          "base_uri": "https://localhost:8080/"
        },
        "id": "t9o7XohWDrnC",
        "outputId": "49011048-b2ca-4376-b933-ca714f171dee"
      },
      "execution_count": 34,
      "outputs": [
        {
          "output_type": "stream",
          "name": "stdout",
          "text": [
            "(753, 2) (753, 96, 144) (86, 2)\n"
          ]
        }
      ]
    },
    {
      "cell_type": "code",
      "metadata": {
        "id": "FgSs5PAtPCZH"
      },
      "source": [
        "# Define Hyperparameters for Model 2 \n",
        "\n",
        "n_filters  = 32  # number of filters\n",
        "n_neurons  = 32  # number of neurons in the Dense layer\n",
        "activation     = 'relu' # activation function\n",
        "kernel_size    = 4\n",
        "learning_rate  = 0.001\n",
        "minibatch_size = 64\n",
        "num_epochs     = 100"
      ],
      "execution_count": 35,
      "outputs": []
    },
    {
      "cell_type": "code",
      "source": [
        "model = Sequential()\n",
        "\n",
        "model.add(Dense(n_filters*12*18, input_shape=(X_train.shape[1],), activation=activation)) # shape: (6912,1)\n",
        "model.add(Reshape((12,18,n_filters))) # shape: (12,18,32)\n",
        "\n",
        "# Upsample to 24x36\n",
        "model.add(Conv2DTranspose(filters=n_filters, kernel_size=kernel_size, \n",
        "                          activation=activation, strides=2, padding='same')) # shape: (24,36,32)\n",
        "\n",
        "# Upsample to 48x72\n",
        "model.add(Conv2DTranspose(filters=n_filters, kernel_size=kernel_size, \n",
        "                          activation=activation, strides=2, padding='same')) # shape: (48,72,32)\n",
        "\n",
        "# Upsample to 96x144\n",
        "model.add(Conv2DTranspose(filters=n_filters, kernel_size=kernel_size, \n",
        "                          activation=activation, strides=2, padding='same')) # shape: (96,144,32)\n",
        "\n",
        "model.add(Conv2DTranspose(filters=1, kernel_size=kernel_size, activation=\"linear\", padding=\"same\")) # shape: (96,144,1)\n",
        "\n",
        "\n",
        "model.summary()\n",
        "model.compile(loss='mse',optimizer=tf.keras.optimizers.Adam(learning_rate=learning_rate))"
      ],
      "metadata": {
        "colab": {
          "base_uri": "https://localhost:8080/"
        },
        "id": "PvYCcyuBECgf",
        "outputId": "f259f97f-3d40-4538-d0cd-ff212627348b"
      },
      "execution_count": 36,
      "outputs": [
        {
          "output_type": "stream",
          "name": "stdout",
          "text": [
            "Model: \"sequential_2\"\n",
            "_________________________________________________________________\n",
            " Layer (type)                Output Shape              Param #   \n",
            "=================================================================\n",
            " dense_4 (Dense)             (None, 6912)              20736     \n",
            "                                                                 \n",
            " reshape (Reshape)           (None, 12, 18, 32)        0         \n",
            "                                                                 \n",
            " conv2d_transpose (Conv2DTra  (None, 24, 36, 32)       16416     \n",
            " nspose)                                                         \n",
            "                                                                 \n",
            " conv2d_transpose_1 (Conv2DT  (None, 48, 72, 32)       16416     \n",
            " ranspose)                                                       \n",
            "                                                                 \n",
            " conv2d_transpose_2 (Conv2DT  (None, 96, 144, 32)      16416     \n",
            " ranspose)                                                       \n",
            "                                                                 \n",
            " conv2d_transpose_3 (Conv2DT  (None, 96, 144, 1)       513       \n",
            " ranspose)                                                       \n",
            "                                                                 \n",
            "=================================================================\n",
            "Total params: 70,497\n",
            "Trainable params: 70,497\n",
            "Non-trainable params: 0\n",
            "_________________________________________________________________\n"
          ]
        }
      ]
    },
    {
      "cell_type": "code",
      "source": [
        "early_stop = keras.callbacks.EarlyStopping(monitor='val_loss', patience=20)\n",
        "\n",
        "\n",
        "history = model.fit(X_train, y_train, \n",
        "                    batch_size      = minibatch_size,\n",
        "                    epochs          = num_epochs,\n",
        "                    validation_split= 0.2, \n",
        "                    verbose         = 1,\n",
        "                    callbacks       = [early_stop])"
      ],
      "metadata": {
        "id": "o7JQ5ANwEKWr"
      },
      "execution_count": null,
      "outputs": []
    },
    {
      "cell_type": "code",
      "metadata": {
        "id": "aIdmSpYVPYAw"
      },
      "source": [
        "# Save Model 2 to .onnx file\n",
        "\n",
        "onnx_model = model_to_onnx(model, framework='keras',\n",
        "                          transfer_learning=False,\n",
        "                          deep_learning=True)\n",
        "\n",
        "# Save model to local .onnx file\n",
        "with open(\"model_2.onnx\", \"wb\") as f:\n",
        "    f.write(onnx_model.SerializeToString()) "
      ],
      "execution_count": 38,
      "outputs": []
    },
    {
      "cell_type": "code",
      "metadata": {
        "id": "nszPPrfwPlUk"
      },
      "source": [
        "# Submit Model 2\n",
        "\n",
        "#-- Generate predicted values (Mean surface air temperature - TAS)\n",
        "# Reshape and convert to list in order to calculate model metrics\n",
        "predicted_values = model.predict(preprocessor(X_test_df))\n",
        "predicted_values = predicted_values.reshape(predicted_values.shape[0], 96, 144)\n",
        "predicted_values = predicted_values.tolist()\n",
        "\n",
        "# Submit Model 2 to Competition Leaderboard\n",
        "mycompetition.submit_model(model_filepath = \"model_2.onnx\",\n",
        "                                 prediction_submission=predicted_values,\n",
        "                                 preprocessor_filepath=\"preprocessor.zip\")"
      ],
      "execution_count": null,
      "outputs": []
    },
    {
      "cell_type": "code",
      "source": [
        "# Get leaderboard to explore current best model architectures\n",
        "\n",
        "# Get raw data in pandas data frame\n",
        "data = mycompetition.get_leaderboard()\n",
        "\n",
        "# Stylize leaderboard data\n",
        "mycompetition.stylize_leaderboard(data)"
      ],
      "metadata": {
        "id": "W3zQOUd2HgGc"
      },
      "execution_count": null,
      "outputs": []
    },
    {
      "cell_type": "code",
      "metadata": {
        "id": "qLl7yLpVEx26"
      },
      "source": [
        "# Compare two or more models\n",
        "data=mycompetition.compare_models([1, 2], verbose=1)\n",
        "mycompetition.stylize_compare(data)"
      ],
      "execution_count": null,
      "outputs": []
    }
  ]
}