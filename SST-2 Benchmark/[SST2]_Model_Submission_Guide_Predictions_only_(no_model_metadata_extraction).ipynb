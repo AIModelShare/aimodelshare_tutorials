{
  "nbformat": 4,
  "nbformat_minor": 0,
  "metadata": {
    "colab": {
      "provenance": []
    },
    "kernelspec": {
      "name": "python3",
      "display_name": "Python 3"
    },
    "language_info": {
      "name": "python"
    }
  },
  "cells": [
    {
      "cell_type": "markdown",
      "source": [
        "<p align=\"center\"><img width=\"50%\" src=\"https://aimodelsharecontent.s3.amazonaws.com/aimodshare_banner.jpg\" /></p>\n",
        "\n",
        "\n",
        "---\n"
      ],
      "metadata": {
        "id": "m_DMeZsXxpEZ"
      }
    },
    {
      "cell_type": "markdown",
      "metadata": {
        "id": "JXxGTgJz152A"
      },
      "source": [
        "<p align=\"center\"><h1 align=\"center\">Stanford Sentiment Treebank - Movie Review Classification Competition Model Submission Guide - Predictions Only (No Model Metadata Extraction) </h1>\n",
        "\n",
        "---\n",
        "Let's share our models to a centralized leaderboard, so that we can collaborate and learn from the model experimentation process...\n",
        "\n",
        "**Instructions:**\n",
        "1.   Get data in and set up X_train / X_test / y_train\n",
        "2.   Preprocess data\n",
        "3. Fit model on preprocessed data\n",
        "4. Generate predictions from X_test data and submit to competition\n",
        "5. Repeat submission process to improve place on leaderboard\n",
        "\n"
      ]
    },
    {
      "cell_type": "markdown",
      "metadata": {
        "id": "5gSrVJwp3E9H"
      },
      "source": [
        "## 1. Get data in and set up X_train, X_test, y_train objects"
      ]
    },
    {
      "cell_type": "code",
      "metadata": {
        "id": "PLTIaMB3ChSW"
      },
      "source": [
        "#install aimodelshare library\n",
        "! pip install aimodelshare --upgrade"
      ],
      "execution_count": null,
      "outputs": []
    },
    {
      "cell_type": "code",
      "metadata": {
        "colab": {
          "base_uri": "https://localhost:8080/"
        },
        "id": "d3PiJXBhC5y-",
        "outputId": "adb7b450-50fb-4946-801f-3b606fa60390"
      },
      "source": [
        "# Get competition data\n",
        "from aimodelshare import download_data\n",
        "download_data('public.ecr.aws/y2e2a1d6/sst2_competition_data-repository:latest') "
      ],
      "execution_count": 2,
      "outputs": [
        {
          "output_type": "stream",
          "name": "stdout",
          "text": [
            "Downloading [=============================================>   ]\n",
            "\n",
            "Data downloaded successfully.\n"
          ]
        }
      ]
    },
    {
      "cell_type": "code",
      "metadata": {
        "colab": {
          "base_uri": "https://localhost:8080/"
        },
        "id": "jT0qFCZFNzHq",
        "outputId": "d5777661-ef4a-4830-fd87-ebd459e649c8"
      },
      "source": [
        "# Set up X_train, X_test, and y_train_labels objects\n",
        "import pandas as pd\n",
        "import warnings\n",
        "warnings.simplefilter(action='ignore', category=Warning)\n",
        "\n",
        "X_train=pd.read_csv(\"sst2_competition_data/X_train.csv\", squeeze=True)\n",
        "X_test=pd.read_csv(\"sst2_competition_data/X_test.csv\", squeeze=True)\n",
        "\n",
        "y_train_labels=pd.read_csv(\"sst2_competition_data/y_train_labels.csv\", squeeze=True)\n",
        "\n",
        "# ohe encode Y data\n",
        "y_train = pd.get_dummies(y_train_labels)\n",
        "\n",
        "X_train.head()"
      ],
      "execution_count": 14,
      "outputs": [
        {
          "output_type": "execute_result",
          "data": {
            "text/plain": [
              "0    The Rock is destined to be the 21st Century 's...\n",
              "1    The gorgeously elaborate continuation of `` Th...\n",
              "2    Singer/composer Bryan Adams contributes a slew...\n",
              "3                 Yet the act is still charming here .\n",
              "4    Whether or not you 're enlightened by any of D...\n",
              "Name: text, dtype: object"
            ]
          },
          "metadata": {},
          "execution_count": 14
        }
      ]
    },
    {
      "cell_type": "code",
      "source": [
        "# Check Data Shape\n",
        "print(X_train.shape)\n",
        "print(X_test.shape)\n",
        "print(y_train.shape)"
      ],
      "metadata": {
        "colab": {
          "base_uri": "https://localhost:8080/"
        },
        "id": "Uq_XUtjYxamD",
        "outputId": "d3665249-95ef-426a-fcd8-d17b0504a21a"
      },
      "execution_count": 4,
      "outputs": [
        {
          "output_type": "stream",
          "name": "stdout",
          "text": [
            "(6920,)\n",
            "(1821,)\n",
            "(6920, 2)\n"
          ]
        }
      ]
    },
    {
      "cell_type": "markdown",
      "metadata": {
        "id": "gEzPoXPj3V7u"
      },
      "source": [
        "##2.   Preprocess data\n"
      ]
    },
    {
      "cell_type": "code",
      "source": [
        "# Write and execute code to preprocess data here"
      ],
      "metadata": {
        "id": "Rud6IJSDzAog"
      },
      "execution_count": null,
      "outputs": []
    },
    {
      "cell_type": "markdown",
      "metadata": {
        "id": "X52kECL43b-O"
      },
      "source": [
        "##3. Fit model on preprocessed data\n"
      ]
    },
    {
      "cell_type": "code",
      "metadata": {
        "id": "NCbBf8j9ClYl"
      },
      "source": [
        "# Write and execute code to fit model on preprocessed data here."
      ],
      "execution_count": null,
      "outputs": []
    },
    {
      "cell_type": "code",
      "metadata": {
        "id": "RtgkM02MDpkO",
        "colab": {
          "base_uri": "https://localhost:8080/"
        },
        "outputId": "b28ba21f-0bfb-457c-fe9e-497b29a9b530"
      },
      "source": [
        "#Set credentials using modelshare.org username/password\n",
        "\n",
        "from aimodelshare.aws import set_credentials\n",
        "    \n",
        "apiurl=\"https://rlxjxnoql9.execute-api.us-east-1.amazonaws.com/prod/m\"\n",
        "#This is the unique rest api that powers this Playground -- make sure to update the apiurl for new competition deployments\n",
        "\n",
        "set_credentials(apiurl=apiurl)"
      ],
      "execution_count": 9,
      "outputs": [
        {
          "output_type": "stream",
          "name": "stdout",
          "text": [
            "AI Modelshare Username:··········\n",
            "AI Modelshare Password:··········\n",
            "AI Model Share login credentials set successfully.\n"
          ]
        }
      ]
    },
    {
      "cell_type": "code",
      "metadata": {
        "id": "fKNGSww8EGgi"
      },
      "source": [
        "#Instantiate Competition\n",
        "import aimodelshare as ai\n",
        "mycompetition= ai.Competition(apiurl)"
      ],
      "execution_count": 10,
      "outputs": []
    },
    {
      "cell_type": "markdown",
      "source": [
        "## **4. Submit Model predictions to leaderboard (without extracting model architecture information):**\n",
        "- model metadata extraction allows you use compare_models() and instantiate_model() functions."
      ],
      "metadata": {
        "id": "W66Pr1_K2sQV"
      }
    },
    {
      "cell_type": "code",
      "source": [
        "#Generate a list of predictions using X_test data\n",
        "\n",
        "# This example uses randomly chosen values from y_train to generate a list of predictions\n",
        "predicted_values = list(y_train_labels.sample(n=len(X_test.index)))\n"
      ],
      "metadata": {
        "id": "IS09g9DF0HGP"
      },
      "execution_count": 11,
      "outputs": []
    },
    {
      "cell_type": "code",
      "metadata": {
        "id": "_Ql4wksyEUnP"
      },
      "source": [
        "#Submit Model predictions to leaderboard (without extracting model architecture information): \n",
        "\n",
        "# Submit to Competition Leaderboard\n",
        "mycompetition.submit_model(model_filepath = None,\n",
        "                                 preprocessor_filepath=None,\n",
        "                                 prediction_submission=predicted_values)"
      ],
      "execution_count": null,
      "outputs": []
    },
    {
      "cell_type": "code",
      "metadata": {
        "id": "GN1zvAmNEq17",
        "colab": {
          "base_uri": "https://localhost:8080/",
          "height": 351
        },
        "outputId": "a4d466db-76e8-4dc8-acc3-561483aa7226"
      },
      "source": [
        "# Get leaderboard to explore current best model architectures\n",
        "\n",
        "# Get raw data in pandas data frame\n",
        "data = mycompetition.get_leaderboard()\n",
        "\n",
        "# Stylize leaderboard data\n",
        "mycompetition.stylize_leaderboard(data)"
      ],
      "execution_count": 13,
      "outputs": [
        {
          "output_type": "execute_result",
          "data": {
            "text/plain": [
              "<pandas.io.formats.style.Styler at 0x7ff7abf51910>"
            ],
            "text/html": [
              "<style type=\"text/css\">\n",
              "#T_bcd92_row0_col0 {\n",
              "  text-align: center;\n",
              "  width: 10em;\n",
              "  background: linear-gradient(90deg, #f5f8d6 76.7%, transparent 76.7%);\n",
              "  color: #251e1b;\n",
              "  font-size: 12px;\n",
              "}\n",
              "#T_bcd92_row0_col1 {\n",
              "  text-align: center;\n",
              "  width: 10em;\n",
              "  background: linear-gradient(90deg, #c778c8 76.5%, transparent 76.5%);\n",
              "  color: #251e1b;\n",
              "  font-size: 12px;\n",
              "}\n",
              "#T_bcd92_row0_col2 {\n",
              "  text-align: center;\n",
              "  width: 10em;\n",
              "  background: linear-gradient(90deg, #ff4971 77.9%, transparent 77.9%);\n",
              "  color: #251e1b;\n",
              "  font-size: 12px;\n",
              "}\n",
              "#T_bcd92_row0_col3 {\n",
              "  text-align: center;\n",
              "  width: 10em;\n",
              "  background: linear-gradient(90deg, #aadbaa 76.7%, transparent 76.7%);\n",
              "  color: #251e1b;\n",
              "  font-size: 12px;\n",
              "}\n",
              "#T_bcd92_row0_col4, #T_bcd92_row0_col5, #T_bcd92_row0_col6, #T_bcd92_row0_col7, #T_bcd92_row0_col8, #T_bcd92_row0_col9, #T_bcd92_row0_col10, #T_bcd92_row0_col11, #T_bcd92_row0_col12, #T_bcd92_row0_col13, #T_bcd92_row0_col14, #T_bcd92_row0_col15, #T_bcd92_row0_col16, #T_bcd92_row0_col17, #T_bcd92_row0_col18, #T_bcd92_row0_col19, #T_bcd92_row1_col4, #T_bcd92_row1_col5, #T_bcd92_row1_col6, #T_bcd92_row1_col7, #T_bcd92_row1_col8, #T_bcd92_row1_col9, #T_bcd92_row1_col10, #T_bcd92_row1_col11, #T_bcd92_row1_col12, #T_bcd92_row1_col13, #T_bcd92_row1_col14, #T_bcd92_row1_col15, #T_bcd92_row1_col16, #T_bcd92_row1_col17, #T_bcd92_row1_col18, #T_bcd92_row1_col19, #T_bcd92_row2_col4, #T_bcd92_row2_col5, #T_bcd92_row2_col6, #T_bcd92_row2_col7, #T_bcd92_row2_col8, #T_bcd92_row2_col9, #T_bcd92_row2_col10, #T_bcd92_row2_col11, #T_bcd92_row2_col12, #T_bcd92_row2_col13, #T_bcd92_row2_col14, #T_bcd92_row2_col15, #T_bcd92_row2_col16, #T_bcd92_row2_col17, #T_bcd92_row2_col18, #T_bcd92_row2_col19, #T_bcd92_row3_col4, #T_bcd92_row3_col5, #T_bcd92_row3_col6, #T_bcd92_row3_col7, #T_bcd92_row3_col8, #T_bcd92_row3_col9, #T_bcd92_row3_col10, #T_bcd92_row3_col11, #T_bcd92_row3_col12, #T_bcd92_row3_col13, #T_bcd92_row3_col14, #T_bcd92_row3_col15, #T_bcd92_row3_col16, #T_bcd92_row3_col17, #T_bcd92_row3_col18, #T_bcd92_row3_col19, #T_bcd92_row4_col4, #T_bcd92_row4_col5, #T_bcd92_row4_col6, #T_bcd92_row4_col7, #T_bcd92_row4_col8, #T_bcd92_row4_col9, #T_bcd92_row4_col10, #T_bcd92_row4_col11, #T_bcd92_row4_col12, #T_bcd92_row4_col13, #T_bcd92_row4_col14, #T_bcd92_row4_col15, #T_bcd92_row4_col16, #T_bcd92_row4_col17, #T_bcd92_row4_col18, #T_bcd92_row4_col19, #T_bcd92_row5_col4, #T_bcd92_row5_col5, #T_bcd92_row5_col6, #T_bcd92_row5_col7, #T_bcd92_row5_col8, #T_bcd92_row5_col9, #T_bcd92_row5_col10, #T_bcd92_row5_col11, #T_bcd92_row5_col12, #T_bcd92_row5_col13, #T_bcd92_row5_col14, #T_bcd92_row5_col15, #T_bcd92_row5_col16, #T_bcd92_row5_col17, #T_bcd92_row5_col18, #T_bcd92_row5_col19, #T_bcd92_row6_col4, #T_bcd92_row6_col5, #T_bcd92_row6_col6, #T_bcd92_row6_col7, #T_bcd92_row6_col8, #T_bcd92_row6_col9, #T_bcd92_row6_col10, #T_bcd92_row6_col11, #T_bcd92_row6_col12, #T_bcd92_row6_col13, #T_bcd92_row6_col14, #T_bcd92_row6_col15, #T_bcd92_row6_col16, #T_bcd92_row6_col17, #T_bcd92_row6_col18, #T_bcd92_row6_col19, #T_bcd92_row7_col4, #T_bcd92_row7_col5, #T_bcd92_row7_col6, #T_bcd92_row7_col7, #T_bcd92_row7_col8, #T_bcd92_row7_col9, #T_bcd92_row7_col10, #T_bcd92_row7_col11, #T_bcd92_row7_col12, #T_bcd92_row7_col13, #T_bcd92_row7_col14, #T_bcd92_row7_col15, #T_bcd92_row7_col16, #T_bcd92_row7_col17, #T_bcd92_row7_col18, #T_bcd92_row7_col19, #T_bcd92_row8_col4, #T_bcd92_row8_col5, #T_bcd92_row8_col6, #T_bcd92_row8_col7, #T_bcd92_row8_col8, #T_bcd92_row8_col9, #T_bcd92_row8_col10, #T_bcd92_row8_col11, #T_bcd92_row8_col12, #T_bcd92_row8_col13, #T_bcd92_row8_col14, #T_bcd92_row8_col15, #T_bcd92_row8_col16, #T_bcd92_row8_col17, #T_bcd92_row8_col18, #T_bcd92_row8_col19 {\n",
              "  text-align: center;\n",
              "}\n",
              "#T_bcd92_row1_col0 {\n",
              "  text-align: center;\n",
              "  width: 10em;\n",
              "  background: linear-gradient(90deg, #f5f8d6 71.0%, transparent 71.0%);\n",
              "  color: #251e1b;\n",
              "  font-size: 12px;\n",
              "}\n",
              "#T_bcd92_row1_col1 {\n",
              "  text-align: center;\n",
              "  width: 10em;\n",
              "  background: linear-gradient(90deg, #c778c8 71.0%, transparent 71.0%);\n",
              "  color: #251e1b;\n",
              "  font-size: 12px;\n",
              "}\n",
              "#T_bcd92_row1_col2 {\n",
              "  text-align: center;\n",
              "  width: 10em;\n",
              "  background: linear-gradient(90deg, #ff4971 71.0%, transparent 71.0%);\n",
              "  color: #251e1b;\n",
              "  font-size: 12px;\n",
              "}\n",
              "#T_bcd92_row1_col3 {\n",
              "  text-align: center;\n",
              "  width: 10em;\n",
              "  background: linear-gradient(90deg, #aadbaa 71.0%, transparent 71.0%);\n",
              "  color: #251e1b;\n",
              "  font-size: 12px;\n",
              "}\n",
              "#T_bcd92_row2_col0 {\n",
              "  text-align: center;\n",
              "  width: 10em;\n",
              "  background: linear-gradient(90deg, #f5f8d6 68.8%, transparent 68.8%);\n",
              "  color: #251e1b;\n",
              "  font-size: 12px;\n",
              "}\n",
              "#T_bcd92_row2_col1 {\n",
              "  text-align: center;\n",
              "  width: 10em;\n",
              "  background: linear-gradient(90deg, #c778c8 68.6%, transparent 68.6%);\n",
              "  color: #251e1b;\n",
              "  font-size: 12px;\n",
              "}\n",
              "#T_bcd92_row2_col2 {\n",
              "  text-align: center;\n",
              "  width: 10em;\n",
              "  background: linear-gradient(90deg, #ff4971 69.5%, transparent 69.5%);\n",
              "  color: #251e1b;\n",
              "  font-size: 12px;\n",
              "}\n",
              "#T_bcd92_row2_col3 {\n",
              "  text-align: center;\n",
              "  width: 10em;\n",
              "  background: linear-gradient(90deg, #aadbaa 68.8%, transparent 68.8%);\n",
              "  color: #251e1b;\n",
              "  font-size: 12px;\n",
              "}\n",
              "#T_bcd92_row3_col0 {\n",
              "  text-align: center;\n",
              "  width: 10em;\n",
              "  background: linear-gradient(90deg, #f5f8d6 61.9%, transparent 61.9%);\n",
              "  color: #251e1b;\n",
              "  font-size: 12px;\n",
              "}\n",
              "#T_bcd92_row3_col1 {\n",
              "  text-align: center;\n",
              "  width: 10em;\n",
              "  background: linear-gradient(90deg, #c778c8 59.3%, transparent 59.3%);\n",
              "  color: #251e1b;\n",
              "  font-size: 12px;\n",
              "}\n",
              "#T_bcd92_row3_col2 {\n",
              "  text-align: center;\n",
              "  width: 10em;\n",
              "  background: linear-gradient(90deg, #ff4971 66.1%, transparent 66.1%);\n",
              "  color: #251e1b;\n",
              "  font-size: 12px;\n",
              "}\n",
              "#T_bcd92_row3_col3 {\n",
              "  text-align: center;\n",
              "  width: 10em;\n",
              "  background: linear-gradient(90deg, #aadbaa 61.9%, transparent 61.9%);\n",
              "  color: #251e1b;\n",
              "  font-size: 12px;\n",
              "}\n",
              "#T_bcd92_row4_col0 {\n",
              "  text-align: center;\n",
              "  width: 10em;\n",
              "  background: linear-gradient(90deg, #f5f8d6 53.7%, transparent 53.7%);\n",
              "  color: #251e1b;\n",
              "  font-size: 12px;\n",
              "}\n",
              "#T_bcd92_row4_col1 {\n",
              "  text-align: center;\n",
              "  width: 10em;\n",
              "  background: linear-gradient(90deg, #c778c8 41.2%, transparent 41.2%);\n",
              "  color: #251e1b;\n",
              "  font-size: 12px;\n",
              "}\n",
              "#T_bcd92_row4_col2 {\n",
              "  text-align: center;\n",
              "  width: 10em;\n",
              "  background: linear-gradient(90deg, #ff4971 74.6%, transparent 74.6%);\n",
              "  color: #251e1b;\n",
              "  font-size: 12px;\n",
              "}\n",
              "#T_bcd92_row4_col3 {\n",
              "  text-align: center;\n",
              "  width: 10em;\n",
              "  background: linear-gradient(90deg, #aadbaa 53.7%, transparent 53.7%);\n",
              "  color: #251e1b;\n",
              "  font-size: 12px;\n",
              "}\n",
              "#T_bcd92_row5_col0 {\n",
              "  text-align: center;\n",
              "  width: 10em;\n",
              "  background: linear-gradient(90deg, #f5f8d6 54.7%, transparent 54.7%);\n",
              "  color: #251e1b;\n",
              "  font-size: 12px;\n",
              "}\n",
              "#T_bcd92_row5_col1 {\n",
              "  text-align: center;\n",
              "  width: 10em;\n",
              "  background: linear-gradient(90deg, #c778c8 44.0%, transparent 44.0%);\n",
              "  color: #251e1b;\n",
              "  font-size: 12px;\n",
              "}\n",
              "#T_bcd92_row5_col2 {\n",
              "  text-align: center;\n",
              "  width: 10em;\n",
              "  background: linear-gradient(90deg, #ff4971 70.1%, transparent 70.1%);\n",
              "  color: #251e1b;\n",
              "  font-size: 12px;\n",
              "}\n",
              "#T_bcd92_row5_col3 {\n",
              "  text-align: center;\n",
              "  width: 10em;\n",
              "  background: linear-gradient(90deg, #aadbaa 54.7%, transparent 54.7%);\n",
              "  color: #251e1b;\n",
              "  font-size: 12px;\n",
              "}\n",
              "#T_bcd92_row6_col0 {\n",
              "  text-align: center;\n",
              "  width: 10em;\n",
              "  background: linear-gradient(90deg, #f5f8d6 51.6%, transparent 51.6%);\n",
              "  color: #251e1b;\n",
              "  font-size: 12px;\n",
              "}\n",
              "#T_bcd92_row6_col1 {\n",
              "  text-align: center;\n",
              "  width: 10em;\n",
              "  background: linear-gradient(90deg, #c778c8 37.0%, transparent 37.0%);\n",
              "  color: #251e1b;\n",
              "  font-size: 12px;\n",
              "}\n",
              "#T_bcd92_row6_col2 {\n",
              "  text-align: center;\n",
              "  width: 10em;\n",
              "  background: linear-gradient(90deg, #ff4971 72.5%, transparent 72.5%);\n",
              "  color: #251e1b;\n",
              "  font-size: 12px;\n",
              "}\n",
              "#T_bcd92_row6_col3 {\n",
              "  text-align: center;\n",
              "  width: 10em;\n",
              "  background: linear-gradient(90deg, #aadbaa 51.6%, transparent 51.6%);\n",
              "  color: #251e1b;\n",
              "  font-size: 12px;\n",
              "}\n",
              "#T_bcd92_row7_col0 {\n",
              "  text-align: center;\n",
              "  width: 10em;\n",
              "  background: linear-gradient(90deg, #f5f8d6 50.2%, transparent 50.2%);\n",
              "  color: #251e1b;\n",
              "  font-size: 12px;\n",
              "}\n",
              "#T_bcd92_row7_col1 {\n",
              "  text-align: center;\n",
              "  width: 10em;\n",
              "  background: linear-gradient(90deg, #c778c8 50.2%, transparent 50.2%);\n",
              "  color: #251e1b;\n",
              "  font-size: 12px;\n",
              "}\n",
              "#T_bcd92_row7_col2 {\n",
              "  text-align: center;\n",
              "  width: 10em;\n",
              "  background: linear-gradient(90deg, #ff4971 50.2%, transparent 50.2%);\n",
              "  color: #251e1b;\n",
              "  font-size: 12px;\n",
              "}\n",
              "#T_bcd92_row7_col3 {\n",
              "  text-align: center;\n",
              "  width: 10em;\n",
              "  background: linear-gradient(90deg, #aadbaa 50.2%, transparent 50.2%);\n",
              "  color: #251e1b;\n",
              "  font-size: 12px;\n",
              "}\n",
              "#T_bcd92_row8_col0 {\n",
              "  text-align: center;\n",
              "  width: 10em;\n",
              "  background: linear-gradient(90deg, #f5f8d6 49.9%, transparent 49.9%);\n",
              "  color: #251e1b;\n",
              "  font-size: 12px;\n",
              "}\n",
              "#T_bcd92_row8_col1 {\n",
              "  text-align: center;\n",
              "  width: 10em;\n",
              "  background: linear-gradient(90deg, #c778c8 49.9%, transparent 49.9%);\n",
              "  color: #251e1b;\n",
              "  font-size: 12px;\n",
              "}\n",
              "#T_bcd92_row8_col2 {\n",
              "  text-align: center;\n",
              "  width: 10em;\n",
              "  background: linear-gradient(90deg, #ff4971 49.9%, transparent 49.9%);\n",
              "  color: #251e1b;\n",
              "  font-size: 12px;\n",
              "}\n",
              "#T_bcd92_row8_col3 {\n",
              "  text-align: center;\n",
              "  width: 10em;\n",
              "  background: linear-gradient(90deg, #aadbaa 49.9%, transparent 49.9%);\n",
              "  color: #251e1b;\n",
              "  font-size: 12px;\n",
              "}\n",
              "</style>\n",
              "<table id=\"T_bcd92\" class=\"dataframe\">\n",
              "  <thead>\n",
              "    <tr>\n",
              "      <th class=\"blank level0\" >&nbsp;</th>\n",
              "      <th id=\"T_bcd92_level0_col0\" class=\"col_heading level0 col0\" >accuracy</th>\n",
              "      <th id=\"T_bcd92_level0_col1\" class=\"col_heading level0 col1\" >f1_score</th>\n",
              "      <th id=\"T_bcd92_level0_col2\" class=\"col_heading level0 col2\" >precision</th>\n",
              "      <th id=\"T_bcd92_level0_col3\" class=\"col_heading level0 col3\" >recall</th>\n",
              "      <th id=\"T_bcd92_level0_col4\" class=\"col_heading level0 col4\" >ml_framework</th>\n",
              "      <th id=\"T_bcd92_level0_col5\" class=\"col_heading level0 col5\" >deep_learning</th>\n",
              "      <th id=\"T_bcd92_level0_col6\" class=\"col_heading level0 col6\" >model_type</th>\n",
              "      <th id=\"T_bcd92_level0_col7\" class=\"col_heading level0 col7\" >depth</th>\n",
              "      <th id=\"T_bcd92_level0_col8\" class=\"col_heading level0 col8\" >num_params</th>\n",
              "      <th id=\"T_bcd92_level0_col9\" class=\"col_heading level0 col9\" >embedding_layers</th>\n",
              "      <th id=\"T_bcd92_level0_col10\" class=\"col_heading level0 col10\" >flatten_layers</th>\n",
              "      <th id=\"T_bcd92_level0_col11\" class=\"col_heading level0 col11\" >lstm_layers</th>\n",
              "      <th id=\"T_bcd92_level0_col12\" class=\"col_heading level0 col12\" >dense_layers</th>\n",
              "      <th id=\"T_bcd92_level0_col13\" class=\"col_heading level0 col13\" >softmax_act</th>\n",
              "      <th id=\"T_bcd92_level0_col14\" class=\"col_heading level0 col14\" >tanh_act</th>\n",
              "      <th id=\"T_bcd92_level0_col15\" class=\"col_heading level0 col15\" >loss</th>\n",
              "      <th id=\"T_bcd92_level0_col16\" class=\"col_heading level0 col16\" >optimizer</th>\n",
              "      <th id=\"T_bcd92_level0_col17\" class=\"col_heading level0 col17\" >memory_size</th>\n",
              "      <th id=\"T_bcd92_level0_col18\" class=\"col_heading level0 col18\" >username</th>\n",
              "      <th id=\"T_bcd92_level0_col19\" class=\"col_heading level0 col19\" >version</th>\n",
              "    </tr>\n",
              "  </thead>\n",
              "  <tbody>\n",
              "    <tr>\n",
              "      <th id=\"T_bcd92_level0_row0\" class=\"row_heading level0 row0\" >0</th>\n",
              "      <td id=\"T_bcd92_row0_col0\" class=\"data row0 col0\" >76.73%</td>\n",
              "      <td id=\"T_bcd92_row0_col1\" class=\"data row0 col1\" >76.48%</td>\n",
              "      <td id=\"T_bcd92_row0_col2\" class=\"data row0 col2\" >77.92%</td>\n",
              "      <td id=\"T_bcd92_row0_col3\" class=\"data row0 col3\" >76.74%</td>\n",
              "      <td id=\"T_bcd92_row0_col4\" class=\"data row0 col4\" >keras</td>\n",
              "      <td id=\"T_bcd92_row0_col5\" class=\"data row0 col5\" >True</td>\n",
              "      <td id=\"T_bcd92_row0_col6\" class=\"data row0 col6\" >Sequential</td>\n",
              "      <td id=\"T_bcd92_row0_col7\" class=\"data row0 col7\" >3.000000</td>\n",
              "      <td id=\"T_bcd92_row0_col8\" class=\"data row0 col8\" >161282.000000</td>\n",
              "      <td id=\"T_bcd92_row0_col9\" class=\"data row0 col9\" >1.000000</td>\n",
              "      <td id=\"T_bcd92_row0_col10\" class=\"data row0 col10\" >1.000000</td>\n",
              "      <td id=\"T_bcd92_row0_col11\" class=\"data row0 col11\" >nan</td>\n",
              "      <td id=\"T_bcd92_row0_col12\" class=\"data row0 col12\" >1.000000</td>\n",
              "      <td id=\"T_bcd92_row0_col13\" class=\"data row0 col13\" >1.000000</td>\n",
              "      <td id=\"T_bcd92_row0_col14\" class=\"data row0 col14\" >nan</td>\n",
              "      <td id=\"T_bcd92_row0_col15\" class=\"data row0 col15\" >str</td>\n",
              "      <td id=\"T_bcd92_row0_col16\" class=\"data row0 col16\" >RMSprop</td>\n",
              "      <td id=\"T_bcd92_row0_col17\" class=\"data row0 col17\" >645576.000000</td>\n",
              "      <td id=\"T_bcd92_row0_col18\" class=\"data row0 col18\" >AIModelShare</td>\n",
              "      <td id=\"T_bcd92_row0_col19\" class=\"data row0 col19\" >1</td>\n",
              "    </tr>\n",
              "    <tr>\n",
              "      <th id=\"T_bcd92_level0_row1\" class=\"row_heading level0 row1\" >1</th>\n",
              "      <td id=\"T_bcd92_row1_col0\" class=\"data row1 col0\" >71.02%</td>\n",
              "      <td id=\"T_bcd92_row1_col1\" class=\"data row1 col1\" >71.02%</td>\n",
              "      <td id=\"T_bcd92_row1_col2\" class=\"data row1 col2\" >71.03%</td>\n",
              "      <td id=\"T_bcd92_row1_col3\" class=\"data row1 col3\" >71.02%</td>\n",
              "      <td id=\"T_bcd92_row1_col4\" class=\"data row1 col4\" >keras</td>\n",
              "      <td id=\"T_bcd92_row1_col5\" class=\"data row1 col5\" >True</td>\n",
              "      <td id=\"T_bcd92_row1_col6\" class=\"data row1 col6\" >Sequential</td>\n",
              "      <td id=\"T_bcd92_row1_col7\" class=\"data row1 col7\" >4.000000</td>\n",
              "      <td id=\"T_bcd92_row1_col8\" class=\"data row1 col8\" >460034.000000</td>\n",
              "      <td id=\"T_bcd92_row1_col9\" class=\"data row1 col9\" >1.000000</td>\n",
              "      <td id=\"T_bcd92_row1_col10\" class=\"data row1 col10\" >1.000000</td>\n",
              "      <td id=\"T_bcd92_row1_col11\" class=\"data row1 col11\" >1.000000</td>\n",
              "      <td id=\"T_bcd92_row1_col12\" class=\"data row1 col12\" >1.000000</td>\n",
              "      <td id=\"T_bcd92_row1_col13\" class=\"data row1 col13\" >1.000000</td>\n",
              "      <td id=\"T_bcd92_row1_col14\" class=\"data row1 col14\" >1.000000</td>\n",
              "      <td id=\"T_bcd92_row1_col15\" class=\"data row1 col15\" >str</td>\n",
              "      <td id=\"T_bcd92_row1_col16\" class=\"data row1 col16\" >RMSprop</td>\n",
              "      <td id=\"T_bcd92_row1_col17\" class=\"data row1 col17\" >1840960.000000</td>\n",
              "      <td id=\"T_bcd92_row1_col18\" class=\"data row1 col18\" >AIModelShare</td>\n",
              "      <td id=\"T_bcd92_row1_col19\" class=\"data row1 col19\" >3</td>\n",
              "    </tr>\n",
              "    <tr>\n",
              "      <th id=\"T_bcd92_level0_row2\" class=\"row_heading level0 row2\" >2</th>\n",
              "      <td id=\"T_bcd92_row2_col0\" class=\"data row2 col0\" >68.83%</td>\n",
              "      <td id=\"T_bcd92_row2_col1\" class=\"data row2 col1\" >68.55%</td>\n",
              "      <td id=\"T_bcd92_row2_col2\" class=\"data row2 col2\" >69.52%</td>\n",
              "      <td id=\"T_bcd92_row2_col3\" class=\"data row2 col3\" >68.84%</td>\n",
              "      <td id=\"T_bcd92_row2_col4\" class=\"data row2 col4\" >keras</td>\n",
              "      <td id=\"T_bcd92_row2_col5\" class=\"data row2 col5\" >True</td>\n",
              "      <td id=\"T_bcd92_row2_col6\" class=\"data row2 col6\" >Sequential</td>\n",
              "      <td id=\"T_bcd92_row2_col7\" class=\"data row2 col7\" >5.000000</td>\n",
              "      <td id=\"T_bcd92_row2_col8\" class=\"data row2 col8\" >174658.000000</td>\n",
              "      <td id=\"T_bcd92_row2_col9\" class=\"data row2 col9\" >1.000000</td>\n",
              "      <td id=\"T_bcd92_row2_col10\" class=\"data row2 col10\" >1.000000</td>\n",
              "      <td id=\"T_bcd92_row2_col11\" class=\"data row2 col11\" >2.000000</td>\n",
              "      <td id=\"T_bcd92_row2_col12\" class=\"data row2 col12\" >1.000000</td>\n",
              "      <td id=\"T_bcd92_row2_col13\" class=\"data row2 col13\" >1.000000</td>\n",
              "      <td id=\"T_bcd92_row2_col14\" class=\"data row2 col14\" >2.000000</td>\n",
              "      <td id=\"T_bcd92_row2_col15\" class=\"data row2 col15\" >str</td>\n",
              "      <td id=\"T_bcd92_row2_col16\" class=\"data row2 col16\" >RMSprop</td>\n",
              "      <td id=\"T_bcd92_row2_col17\" class=\"data row2 col17\" >699864.000000</td>\n",
              "      <td id=\"T_bcd92_row2_col18\" class=\"data row2 col18\" >AIModelShare</td>\n",
              "      <td id=\"T_bcd92_row2_col19\" class=\"data row2 col19\" >2</td>\n",
              "    </tr>\n",
              "    <tr>\n",
              "      <th id=\"T_bcd92_level0_row3\" class=\"row_heading level0 row3\" >3</th>\n",
              "      <td id=\"T_bcd92_row3_col0\" class=\"data row3 col0\" >61.91%</td>\n",
              "      <td id=\"T_bcd92_row3_col1\" class=\"data row3 col1\" >59.27%</td>\n",
              "      <td id=\"T_bcd92_row3_col2\" class=\"data row3 col2\" >66.14%</td>\n",
              "      <td id=\"T_bcd92_row3_col3\" class=\"data row3 col3\" >61.94%</td>\n",
              "      <td id=\"T_bcd92_row3_col4\" class=\"data row3 col4\" >sklearn</td>\n",
              "      <td id=\"T_bcd92_row3_col5\" class=\"data row3 col5\" >nan</td>\n",
              "      <td id=\"T_bcd92_row3_col6\" class=\"data row3 col6\" >GradientBoostingClassifier</td>\n",
              "      <td id=\"T_bcd92_row3_col7\" class=\"data row3 col7\" >nan</td>\n",
              "      <td id=\"T_bcd92_row3_col8\" class=\"data row3 col8\" >nan</td>\n",
              "      <td id=\"T_bcd92_row3_col9\" class=\"data row3 col9\" >nan</td>\n",
              "      <td id=\"T_bcd92_row3_col10\" class=\"data row3 col10\" >nan</td>\n",
              "      <td id=\"T_bcd92_row3_col11\" class=\"data row3 col11\" >nan</td>\n",
              "      <td id=\"T_bcd92_row3_col12\" class=\"data row3 col12\" >nan</td>\n",
              "      <td id=\"T_bcd92_row3_col13\" class=\"data row3 col13\" >nan</td>\n",
              "      <td id=\"T_bcd92_row3_col14\" class=\"data row3 col14\" >nan</td>\n",
              "      <td id=\"T_bcd92_row3_col15\" class=\"data row3 col15\" >nan</td>\n",
              "      <td id=\"T_bcd92_row3_col16\" class=\"data row3 col16\" >nan</td>\n",
              "      <td id=\"T_bcd92_row3_col17\" class=\"data row3 col17\" >nan</td>\n",
              "      <td id=\"T_bcd92_row3_col18\" class=\"data row3 col18\" >AIModelShare</td>\n",
              "      <td id=\"T_bcd92_row3_col19\" class=\"data row3 col19\" >7</td>\n",
              "    </tr>\n",
              "    <tr>\n",
              "      <th id=\"T_bcd92_level0_row4\" class=\"row_heading level0 row4\" >4</th>\n",
              "      <td id=\"T_bcd92_row4_col0\" class=\"data row4 col0\" >53.68%</td>\n",
              "      <td id=\"T_bcd92_row4_col1\" class=\"data row4 col1\" >41.25%</td>\n",
              "      <td id=\"T_bcd92_row4_col2\" class=\"data row4 col2\" >74.55%</td>\n",
              "      <td id=\"T_bcd92_row4_col3\" class=\"data row4 col3\" >53.73%</td>\n",
              "      <td id=\"T_bcd92_row4_col4\" class=\"data row4 col4\" >sklearn</td>\n",
              "      <td id=\"T_bcd92_row4_col5\" class=\"data row4 col5\" >nan</td>\n",
              "      <td id=\"T_bcd92_row4_col6\" class=\"data row4 col6\" >RandomForestClassifier</td>\n",
              "      <td id=\"T_bcd92_row4_col7\" class=\"data row4 col7\" >nan</td>\n",
              "      <td id=\"T_bcd92_row4_col8\" class=\"data row4 col8\" >nan</td>\n",
              "      <td id=\"T_bcd92_row4_col9\" class=\"data row4 col9\" >nan</td>\n",
              "      <td id=\"T_bcd92_row4_col10\" class=\"data row4 col10\" >nan</td>\n",
              "      <td id=\"T_bcd92_row4_col11\" class=\"data row4 col11\" >nan</td>\n",
              "      <td id=\"T_bcd92_row4_col12\" class=\"data row4 col12\" >nan</td>\n",
              "      <td id=\"T_bcd92_row4_col13\" class=\"data row4 col13\" >nan</td>\n",
              "      <td id=\"T_bcd92_row4_col14\" class=\"data row4 col14\" >nan</td>\n",
              "      <td id=\"T_bcd92_row4_col15\" class=\"data row4 col15\" >nan</td>\n",
              "      <td id=\"T_bcd92_row4_col16\" class=\"data row4 col16\" >nan</td>\n",
              "      <td id=\"T_bcd92_row4_col17\" class=\"data row4 col17\" >nan</td>\n",
              "      <td id=\"T_bcd92_row4_col18\" class=\"data row4 col18\" >AIModelShare</td>\n",
              "      <td id=\"T_bcd92_row4_col19\" class=\"data row4 col19\" >5</td>\n",
              "    </tr>\n",
              "    <tr>\n",
              "      <th id=\"T_bcd92_level0_row5\" class=\"row_heading level0 row5\" >5</th>\n",
              "      <td id=\"T_bcd92_row5_col0\" class=\"data row5 col0\" >54.67%</td>\n",
              "      <td id=\"T_bcd92_row5_col1\" class=\"data row5 col1\" >43.97%</td>\n",
              "      <td id=\"T_bcd92_row5_col2\" class=\"data row5 col2\" >70.09%</td>\n",
              "      <td id=\"T_bcd92_row5_col3\" class=\"data row5 col3\" >54.71%</td>\n",
              "      <td id=\"T_bcd92_row5_col4\" class=\"data row5 col4\" >sklearn</td>\n",
              "      <td id=\"T_bcd92_row5_col5\" class=\"data row5 col5\" >nan</td>\n",
              "      <td id=\"T_bcd92_row5_col6\" class=\"data row5 col6\" >RandomForestClassifier</td>\n",
              "      <td id=\"T_bcd92_row5_col7\" class=\"data row5 col7\" >nan</td>\n",
              "      <td id=\"T_bcd92_row5_col8\" class=\"data row5 col8\" >nan</td>\n",
              "      <td id=\"T_bcd92_row5_col9\" class=\"data row5 col9\" >nan</td>\n",
              "      <td id=\"T_bcd92_row5_col10\" class=\"data row5 col10\" >nan</td>\n",
              "      <td id=\"T_bcd92_row5_col11\" class=\"data row5 col11\" >nan</td>\n",
              "      <td id=\"T_bcd92_row5_col12\" class=\"data row5 col12\" >nan</td>\n",
              "      <td id=\"T_bcd92_row5_col13\" class=\"data row5 col13\" >nan</td>\n",
              "      <td id=\"T_bcd92_row5_col14\" class=\"data row5 col14\" >nan</td>\n",
              "      <td id=\"T_bcd92_row5_col15\" class=\"data row5 col15\" >nan</td>\n",
              "      <td id=\"T_bcd92_row5_col16\" class=\"data row5 col16\" >nan</td>\n",
              "      <td id=\"T_bcd92_row5_col17\" class=\"data row5 col17\" >nan</td>\n",
              "      <td id=\"T_bcd92_row5_col18\" class=\"data row5 col18\" >AIModelShare</td>\n",
              "      <td id=\"T_bcd92_row5_col19\" class=\"data row5 col19\" >6</td>\n",
              "    </tr>\n",
              "    <tr>\n",
              "      <th id=\"T_bcd92_level0_row6\" class=\"row_heading level0 row6\" >6</th>\n",
              "      <td id=\"T_bcd92_row6_col0\" class=\"data row6 col0\" >51.59%</td>\n",
              "      <td id=\"T_bcd92_row6_col1\" class=\"data row6 col1\" >37.04%</td>\n",
              "      <td id=\"T_bcd92_row6_col2\" class=\"data row6 col2\" >72.45%</td>\n",
              "      <td id=\"T_bcd92_row6_col3\" class=\"data row6 col3\" >51.64%</td>\n",
              "      <td id=\"T_bcd92_row6_col4\" class=\"data row6 col4\" >sklearn</td>\n",
              "      <td id=\"T_bcd92_row6_col5\" class=\"data row6 col5\" >nan</td>\n",
              "      <td id=\"T_bcd92_row6_col6\" class=\"data row6 col6\" >RandomForestClassifier</td>\n",
              "      <td id=\"T_bcd92_row6_col7\" class=\"data row6 col7\" >nan</td>\n",
              "      <td id=\"T_bcd92_row6_col8\" class=\"data row6 col8\" >nan</td>\n",
              "      <td id=\"T_bcd92_row6_col9\" class=\"data row6 col9\" >nan</td>\n",
              "      <td id=\"T_bcd92_row6_col10\" class=\"data row6 col10\" >nan</td>\n",
              "      <td id=\"T_bcd92_row6_col11\" class=\"data row6 col11\" >nan</td>\n",
              "      <td id=\"T_bcd92_row6_col12\" class=\"data row6 col12\" >nan</td>\n",
              "      <td id=\"T_bcd92_row6_col13\" class=\"data row6 col13\" >nan</td>\n",
              "      <td id=\"T_bcd92_row6_col14\" class=\"data row6 col14\" >nan</td>\n",
              "      <td id=\"T_bcd92_row6_col15\" class=\"data row6 col15\" >nan</td>\n",
              "      <td id=\"T_bcd92_row6_col16\" class=\"data row6 col16\" >nan</td>\n",
              "      <td id=\"T_bcd92_row6_col17\" class=\"data row6 col17\" >nan</td>\n",
              "      <td id=\"T_bcd92_row6_col18\" class=\"data row6 col18\" >AIModelShare</td>\n",
              "      <td id=\"T_bcd92_row6_col19\" class=\"data row6 col19\" >4</td>\n",
              "    </tr>\n",
              "    <tr>\n",
              "      <th id=\"T_bcd92_level0_row7\" class=\"row_heading level0 row7\" >7</th>\n",
              "      <td id=\"T_bcd92_row7_col0\" class=\"data row7 col0\" >50.16%</td>\n",
              "      <td id=\"T_bcd92_row7_col1\" class=\"data row7 col1\" >50.16%</td>\n",
              "      <td id=\"T_bcd92_row7_col2\" class=\"data row7 col2\" >50.16%</td>\n",
              "      <td id=\"T_bcd92_row7_col3\" class=\"data row7 col3\" >50.16%</td>\n",
              "      <td id=\"T_bcd92_row7_col4\" class=\"data row7 col4\" >unknown</td>\n",
              "      <td id=\"T_bcd92_row7_col5\" class=\"data row7 col5\" >nan</td>\n",
              "      <td id=\"T_bcd92_row7_col6\" class=\"data row7 col6\" >unknown</td>\n",
              "      <td id=\"T_bcd92_row7_col7\" class=\"data row7 col7\" >nan</td>\n",
              "      <td id=\"T_bcd92_row7_col8\" class=\"data row7 col8\" >nan</td>\n",
              "      <td id=\"T_bcd92_row7_col9\" class=\"data row7 col9\" >nan</td>\n",
              "      <td id=\"T_bcd92_row7_col10\" class=\"data row7 col10\" >nan</td>\n",
              "      <td id=\"T_bcd92_row7_col11\" class=\"data row7 col11\" >nan</td>\n",
              "      <td id=\"T_bcd92_row7_col12\" class=\"data row7 col12\" >nan</td>\n",
              "      <td id=\"T_bcd92_row7_col13\" class=\"data row7 col13\" >nan</td>\n",
              "      <td id=\"T_bcd92_row7_col14\" class=\"data row7 col14\" >nan</td>\n",
              "      <td id=\"T_bcd92_row7_col15\" class=\"data row7 col15\" >nan</td>\n",
              "      <td id=\"T_bcd92_row7_col16\" class=\"data row7 col16\" >nan</td>\n",
              "      <td id=\"T_bcd92_row7_col17\" class=\"data row7 col17\" >nan</td>\n",
              "      <td id=\"T_bcd92_row7_col18\" class=\"data row7 col18\" >AIModelShare</td>\n",
              "      <td id=\"T_bcd92_row7_col19\" class=\"data row7 col19\" >8</td>\n",
              "    </tr>\n",
              "    <tr>\n",
              "      <th id=\"T_bcd92_level0_row8\" class=\"row_heading level0 row8\" >8</th>\n",
              "      <td id=\"T_bcd92_row8_col0\" class=\"data row8 col0\" >49.95%</td>\n",
              "      <td id=\"T_bcd92_row8_col1\" class=\"data row8 col1\" >49.95%</td>\n",
              "      <td id=\"T_bcd92_row8_col2\" class=\"data row8 col2\" >49.95%</td>\n",
              "      <td id=\"T_bcd92_row8_col3\" class=\"data row8 col3\" >49.95%</td>\n",
              "      <td id=\"T_bcd92_row8_col4\" class=\"data row8 col4\" >unknown</td>\n",
              "      <td id=\"T_bcd92_row8_col5\" class=\"data row8 col5\" >nan</td>\n",
              "      <td id=\"T_bcd92_row8_col6\" class=\"data row8 col6\" >unknown</td>\n",
              "      <td id=\"T_bcd92_row8_col7\" class=\"data row8 col7\" >nan</td>\n",
              "      <td id=\"T_bcd92_row8_col8\" class=\"data row8 col8\" >nan</td>\n",
              "      <td id=\"T_bcd92_row8_col9\" class=\"data row8 col9\" >nan</td>\n",
              "      <td id=\"T_bcd92_row8_col10\" class=\"data row8 col10\" >nan</td>\n",
              "      <td id=\"T_bcd92_row8_col11\" class=\"data row8 col11\" >nan</td>\n",
              "      <td id=\"T_bcd92_row8_col12\" class=\"data row8 col12\" >nan</td>\n",
              "      <td id=\"T_bcd92_row8_col13\" class=\"data row8 col13\" >nan</td>\n",
              "      <td id=\"T_bcd92_row8_col14\" class=\"data row8 col14\" >nan</td>\n",
              "      <td id=\"T_bcd92_row8_col15\" class=\"data row8 col15\" >nan</td>\n",
              "      <td id=\"T_bcd92_row8_col16\" class=\"data row8 col16\" >nan</td>\n",
              "      <td id=\"T_bcd92_row8_col17\" class=\"data row8 col17\" >nan</td>\n",
              "      <td id=\"T_bcd92_row8_col18\" class=\"data row8 col18\" >mikedparrott</td>\n",
              "      <td id=\"T_bcd92_row8_col19\" class=\"data row8 col19\" >9</td>\n",
              "    </tr>\n",
              "  </tbody>\n",
              "</table>\n"
            ]
          },
          "metadata": {},
          "execution_count": 13
        }
      ]
    },
    {
      "cell_type": "markdown",
      "source": [
        "You can also compare two or more models for any models submitted to the leaderboard using example code for model metadata extraction (see code tab for this competition at www.modelshare.org for submission examples.)\n",
        "```\n",
        "data=mycompetition.compare_models([1,2], verbose=1)\n",
        "mycompetition.stylize_compare(data)\n",
        "```\n",
        "\n"
      ],
      "metadata": {
        "id": "OK9F-jPs38K5"
      }
    },
    {
      "cell_type": "markdown",
      "metadata": {
        "id": "bwNKs0wP4r5s"
      },
      "source": [
        "#####  (Optional Extension) Submit Model With Custom Metadata: \n",
        "Can use to add team names or any other missing data you may wish to share on the leaderboard\n"
      ]
    },
    {
      "cell_type": "code",
      "metadata": {
        "id": "FgSs5PAtPCZH"
      },
      "source": [
        "# Custom metadata can be added by passing a dict to the custom_metadata argument of the submit_model() method\n",
        "# This option can be used to fill in missing data points or add new columns to the leaderboard\n",
        "\n",
        "custom_meta = {'team': 'team one',\n",
        "               'model_type': 'your_model_type',\n",
        "               'new_column': 'new metadata'}\n",
        "\n",
        "mycompetition.submit_model(model_filepath = None,\n",
        "                                 preprocessor_filepath=None,\n",
        "                                 prediction_submission=predicted_values,\n",
        "                                 custom_metadata = custom_meta)"
      ],
      "execution_count": null,
      "outputs": []
    }
  ]
}