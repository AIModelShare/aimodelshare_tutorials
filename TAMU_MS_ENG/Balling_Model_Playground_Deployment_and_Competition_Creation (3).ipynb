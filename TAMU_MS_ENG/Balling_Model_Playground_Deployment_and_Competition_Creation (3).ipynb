{
  "nbformat": 4,
  "nbformat_minor": 0,
  "metadata": {
    "accelerator": "GPU",
    "colab": {
      "provenance": []
    },
    "kernelspec": {
      "display_name": "Python 3",
      "language": "python",
      "name": "python3"
    },
    "language_info": {
      "codemirror_mode": {
        "name": "ipython",
        "version": 3
      },
      "file_extension": ".py",
      "mimetype": "text/x-python",
      "name": "python",
      "nbconvert_exporter": "python",
      "pygments_lexer": "ipython3",
      "version": "3.7.5"
    }
  },
  "cells": [
    {
      "cell_type": "markdown",
      "metadata": {
        "id": "0BviI4QIdWiq"
      },
      "source": [
        "<p align=\"center\"><img width=\"50%\" src=\"https://aimodelsharecontent.s3.amazonaws.com/aimodshare_banner.jpg\" /></p>\n",
        "\n",
        "\n",
        "---\n",
        "\n",
        "\n"
      ]
    },
    {
      "cell_type": "markdown",
      "metadata": {
        "id": "gYNp684Tk3tb"
      },
      "source": [
        "<p align=\"center\"><h1 align=\"center\">Balling Tabular Classification Tutorial</h1> \n",
        "\n",
        "---\n",
        "\n",
        "<h3 align=\"center\">(Deploy model to an AI Model Share Model Playground REST API<br> and Web Dashboard in five easy steps...)</h3></p>\n",
        "<p align=\"center\"><img width=\"100%\" src=\"https://aimodelsharecontent.s3.amazonaws.com/aimstutorialsteps.gif\" /></p>\n",
        "\n",
        "\n",
        "---\n",
        "\n"
      ]
    },
    {
      "cell_type": "markdown",
      "metadata": {
        "id": "0PhJ-XlGazpD"
      },
      "source": [
        "## **Credential Configuration**\n",
        "\n",
        "In order to deploy an AI Model Share Model Playground, you will need a credentials text file. \n",
        "\n",
        "Generating your credentials file requires two sets of information: \n",
        "1. Your AI Model Share username and password (create them [HERE](https://www.modelshare.org/login)). \n",
        "2. Your AWS (Amazon Web Services) access keys (follow the tutorial [HERE](https://aimodelshare.readthedocs.io/en/latest/create_credentials.html)). \n",
        "\n",
        "You only need to generate your credentials file once. After running the configure function below, save the outputted file for all your future Model Playground deployments and competition submissions. \n",
        "\n",
        "*Note: Handle your credentials file with the same level of security you handle your passwords. Do not share your file with anyone, send via email, or upload to Github.*\n"
      ]
    },
    {
      "cell_type": "code",
      "metadata": {
        "id": "puVzQBHyhS2Z"
      },
      "source": [
        "#install aimodelshare library\n",
        "!  pip install aimodelshare --upgrade"
      ],
      "execution_count": null,
      "outputs": []
    },
    {
      "cell_type": "code",
      "metadata": {
        "id": "4Q7MCqBLcS20",
        "colab": {
          "base_uri": "https://localhost:8080/"
        },
        "outputId": "7b49d6b2-a81b-4cbc-a996-687381260427"
      },
      "source": [
        "# Generate credentials file by entering text inputs\n",
        "import aimodelshare as ai \n",
        "from aimodelshare.aws import configure_credentials \n",
        "\n",
        "configure_credentials()"
      ],
      "execution_count": 3,
      "outputs": [
        {
          "output_type": "stream",
          "name": "stdout",
          "text": [
            "AI Modelshare Username:··········\n",
            "AI Modelshare Password:··········\n",
            "AWS_ACCESS_KEY_ID:··········\n",
            "AWS_SECRET_ACCESS_KEY:··········\n",
            "AWS_REGION:··········\n",
            "Configuration successful. New credentials file saved as 'credentials.txt'\n"
          ]
        }
      ]
    },
    {
      "cell_type": "markdown",
      "metadata": {
        "id": "VliTV_HH-uz4"
      },
      "source": [
        "## **Set up Environment**\n",
        "\n",
        "Use your credentials file to set your credentials for all aimodelshare functions. "
      ]
    },
    {
      "cell_type": "code",
      "metadata": {
        "colab": {
          "base_uri": "https://localhost:8080/"
        },
        "id": "2u1QKNfEyN9A",
        "outputId": "07de906e-ee29-4c1c-d8d0-de785626a5fb"
      },
      "source": [
        "# Set credentials \n",
        "from aimodelshare.aws import set_credentials\n",
        "\n",
        "set_credentials(credential_file=\"credentials.txt\", type=\"deploy_model\")"
      ],
      "execution_count": 2,
      "outputs": [
        {
          "output_type": "stream",
          "name": "stdout",
          "text": [
            "AI Model Share login credentials set successfully.\n",
            "AWS credentials set successfully.\n"
          ]
        }
      ]
    },
    {
      "cell_type": "code",
      "metadata": {
        "id": "PwQcTsyyURIk"
      },
      "source": [
        "# Get Balling Data\n",
        "import pandas as pd\n",
        "import numpy as np\n",
        "import matplotlib.pyplot as plt\n",
        "from sklearn.ensemble import AdaBoostClassifier\n",
        "from sklearn import preprocessing\n",
        "from sklearn.calibration import CalibratedClassifierCV\n",
        "from sklearn.model_selection import train_test_split\n",
        "from sklearn.calibration import calibration_curve\n",
        "from sklearn.metrics import brier_score_loss\n",
        "from sklearn.metrics import log_loss\n",
        "from sklearn.metrics import mean_absolute_error\n",
        "from sklearn.metrics import r2_score\n",
        "import pickle"
      ],
      "execution_count": 3,
      "outputs": []
    },
    {
      "cell_type": "code",
      "source": [
        "#Import the public version of the dataset.\n",
        "df = pd.read_excel('Balling_Public_5_5.xlsx', engine='openpyxl')\n",
        "    \n",
        "#Define features\n",
        "feat = ['Solid/Spread','LED [J/m]','Dwell Time [s]']\n",
        "\n",
        "#Create feature array\n",
        "X = df.loc[:,feat]\n",
        "y = df['Balling']\n",
        "\n"
      ],
      "metadata": {
        "id": "un_kq5hNM327"
      },
      "execution_count": 4,
      "outputs": []
    },
    {
      "cell_type": "code",
      "source": [
        "#Create training and validation set\n",
        "X_train, X_test, y_train, y_test = train_test_split(X, y, test_size=0.25, random_state=31)\n"
      ],
      "metadata": {
        "id": "XfbAMteJMHpa"
      },
      "execution_count": 5,
      "outputs": []
    },
    {
      "cell_type": "markdown",
      "metadata": {
        "id": "bIleM1F6nWSF"
      },
      "source": [
        "## **(1) Preprocessor Function & Setup**"
      ]
    },
    {
      "cell_type": "markdown",
      "metadata": {
        "id": "WrEgo5zRxbed"
      },
      "source": [
        "### **Write a Preprocessor Function**\n",
        "\n",
        "\n",
        "> ###   Preprocessor functions are used to preprocess data into the precise data your model requires to generate predictions.  \n",
        "\n",
        "*  *Preprocessor functions should always be named \"preprocessor\".*\n",
        "*  *You can use any Python library in a preprocessor function, but all libraries should be imported inside your preprocessor function.*  \n",
        "*  *For tabular prediction models users should minimally include function inputs for an unpreprocessed pandas dataframe.*  \n",
        "*  *Any categorical features should be preprocessed to one hot encoded numeric values.* \n"
      ]
    },
    {
      "cell_type": "markdown",
      "metadata": {
        "id": "8Wu1tiP2S-eP"
      },
      "source": [
        "-- Here is where we actually write the preprocessor function:\n"
      ]
    },
    {
      "cell_type": "code",
      "metadata": {
        "id": "5D_6sac6nQUx"
      },
      "source": [
        "# Write function to transform data with preprocessor \n",
        "# In this case we use panda's fillna in our preprocessor function to replace missing values with column means\n",
        "\n",
        "def preprocessor(data):\n",
        "    preprocessed_data=data.fillna({'Solid/Spread': 26.428271, 'LED [J/m]': 233.049568, 'Dwell Time [s]': 0.000125})\n",
        "\n",
        "    return preprocessed_data.values #return preprocessed numpy array"
      ],
      "execution_count": 6,
      "outputs": []
    },
    {
      "cell_type": "code",
      "metadata": {
        "colab": {
          "base_uri": "https://localhost:8080/"
        },
        "id": "xp_TTwew8jYU",
        "outputId": "ae9e9117-7443-4205-9461-77825aea0501"
      },
      "source": [
        "# check shape of X data after preprocessing it using our new function\n",
        "preprocessor(X_train)"
      ],
      "execution_count": 7,
      "outputs": [
        {
          "output_type": "execute_result",
          "data": {
            "text/plain": [
              "array([[2.49274536e+00, 3.33333333e+02, 1.66666667e-04],\n",
              "       [3.69828987e+00, 2.68421053e+02, 1.05263158e-04],\n",
              "       [3.79560823e+00, 6.10389610e+01, 5.19480519e-05],\n",
              "       ...,\n",
              "       [1.61384108e+01, 1.96191575e+02, 5.77034045e-05],\n",
              "       [3.32264299e+00, 4.62500000e+02, 1.25000000e-04],\n",
              "       [2.19114737e+01, 4.00000000e+02, 1.25000000e-04]])"
            ]
          },
          "metadata": {},
          "execution_count": 7
        }
      ]
    },
    {
      "cell_type": "markdown",
      "metadata": {
        "id": "xJlhd6jvns0b"
      },
      "source": [
        "## **(2) Build Model Using sklearn (or Your Preferred ML Library)**"
      ]
    },
    {
      "cell_type": "markdown",
      "metadata": {
        "id": "fP7ZIVKe3luZ"
      },
      "source": [
        "### **Logistic Regression with L1 Regularization (Lasso)**"
      ]
    },
    {
      "cell_type": "code",
      "metadata": {
        "colab": {
          "base_uri": "https://localhost:8080/"
        },
        "id": "HB7uImQbn088",
        "outputId": "1f5efb0e-cf95-4bc7-f18a-6ae27343b1b7"
      },
      "source": [
        "from sklearn.linear_model import LogisticRegression\n",
        "\n",
        "model = LogisticRegression(C=10, penalty='l1', solver = 'liblinear')\n",
        "model.fit(preprocessor(X_train), y_train) # Fitting to the training set.\n",
        "model.score(preprocessor(X_train), y_train) # Fit score, 0-1 scale."
      ],
      "execution_count": 8,
      "outputs": [
        {
          "output_type": "execute_result",
          "data": {
            "text/plain": [
              "0.874933190807055"
            ]
          },
          "metadata": {},
          "execution_count": 8
        }
      ]
    },
    {
      "cell_type": "markdown",
      "metadata": {
        "id": "FZGlu5PMWbNO"
      },
      "source": [
        "## **(3) Save Preprocessor**\n",
        "### Saves preprocessor function to \"preprocessor.zip\" file"
      ]
    },
    {
      "cell_type": "code",
      "metadata": {
        "colab": {
          "base_uri": "https://localhost:8080/"
        },
        "id": "Wh_vkwblXx7r",
        "outputId": "98f6dc56-b6ca-4d03-af50-646e4dc1304f"
      },
      "source": [
        "import aimodelshare as ai\n",
        "ai.export_preprocessor(preprocessor,\"\") "
      ],
      "execution_count": 9,
      "outputs": [
        {
          "output_type": "stream",
          "name": "stdout",
          "text": [
            "Your preprocessor is now saved to 'preprocessor.zip'\n"
          ]
        }
      ]
    },
    {
      "cell_type": "code",
      "metadata": {
        "colab": {
          "base_uri": "https://localhost:8080/"
        },
        "id": "b58rg4pMMn4n",
        "outputId": "24b910b8-36df-4dcc-f1e7-661cc3b03be8"
      },
      "source": [
        "#  Now let's import and test the preprocessor function to see if it is working...\n",
        "\n",
        "import aimodelshare as ai\n",
        "prep=ai.import_preprocessor(\"preprocessor.zip\")\n",
        "\n",
        "prep(X_test).shape"
      ],
      "execution_count": 10,
      "outputs": [
        {
          "output_type": "execute_result",
          "data": {
            "text/plain": [
              "(624, 3)"
            ]
          },
          "metadata": {},
          "execution_count": 10
        }
      ]
    },
    {
      "cell_type": "markdown",
      "metadata": {
        "id": "CdQOeF2J3PCv"
      },
      "source": [
        "## **(4) Save sklearn model to Onnx File Format**\n"
      ]
    },
    {
      "cell_type": "code",
      "metadata": {
        "id": "r8fgi8f6qkbk"
      },
      "source": [
        "# Save sklearn model to local ONNX file\n",
        "from aimodelshare.aimsonnx import model_to_onnx\n",
        "\n",
        "# Check how many preprocessed input features there are\n",
        "from skl2onnx.common.data_types import FloatTensorType\n",
        "\n",
        "feature_count=preprocessor(X_test).shape[1]\n",
        "initial_type = [('float_input', FloatTensorType([None, feature_count]))]  # You need to insert correct number of preprocessed features\n",
        "\n",
        "onnx_model = model_to_onnx(model, framework='sklearn',\n",
        "                          initial_types=initial_type,\n",
        "                          transfer_learning=False,deep_learning=False)\n",
        "\n",
        "with open(\"model.onnx\", \"wb\") as f:\n",
        "    f.write(onnx_model.SerializeToString())"
      ],
      "execution_count": 11,
      "outputs": []
    },
    {
      "cell_type": "markdown",
      "metadata": {
        "id": "1swt74XQUIFh"
      },
      "source": [
        "## **(5) Create your Model Playground and Deploy REST API/ Live Web-Application**"
      ]
    },
    {
      "cell_type": "code",
      "metadata": {
        "id": "Y-YKEcvDNmD3"
      },
      "source": [
        "#Set up arguments for Model Playground deployment\n",
        "import pandas as pd \n",
        "\n",
        "model_filepath=\"model.onnx\"\n",
        "preprocessor_filepath=\"preprocessor.zip\"\n",
        "exampledata = X_train.head()\n",
        "email_list=[\"brentvela@tamu.edu\",\"rarroyave@tamu.edu\",\"sina@tamu.edu\",\"sofiasheikh@exchange.tamu.edu\",\"mp3675@columbia.edu\"]"
      ],
      "execution_count": 12,
      "outputs": []
    },
    {
      "cell_type": "code",
      "metadata": {
        "id": "T8C6IlYTFN5t",
        "outputId": "f52a95ce-1763-48da-d1d5-4d1cf53d5ee0",
        "colab": {
          "base_uri": "https://localhost:8080/"
        }
      },
      "source": [
        "from aimodelshare import ModelPlayground\n",
        "\n",
        "#Instantiate ModelPlayground() Class\n",
        "\n",
        "myplayground=ModelPlayground(model_type=\"tabular\", classification=True, private=True, email_list=email_list)\n",
        "\n",
        "# Create Model Playground (generates live rest api and web-app for your model/preprocessor)\n",
        "\n",
        "myplayground.deploy(model_filepath, preprocessor_filepath, y_train, exampledata) "
      ],
      "execution_count": 13,
      "outputs": [
        {
          "output_type": "stream",
          "name": "stdout",
          "text": [
            "We need some information about your model before we can build your REST API and interactive Model Playground.\n",
            "   \n",
            "Model Name (for AI Model Share Website):Balling Classification Model Playground\n",
            "Model Description (Explain what your model does and \n",
            " why end-users would find your model useful):Predict balling from alloy chemistry.\n",
            "Model Key Words (Search categories that describe your model, separated with commas):balling, alloy, chemistry, classification\n",
            "   \n",
            "Creating your prediction API. (This process may take several minutes.)\n",
            "\n",
            "[=====================================] Progress: 100% - Complete!                                            \n",
            "\n",
            "Success! Your Model Playground was created in 80 seconds. \n",
            " Playground Url: \"https://ov8kxwsss6.execute-api.us-east-2.amazonaws.com/prod/m\"\n",
            "\n",
            "You can now use your Model Playground.\n",
            "\n",
            "Follow this link to explore your Model Playground's functionality\n",
            "You can make predictions with the Dashboard and access example code from the Programmatic tab.\n",
            "https://www.modelshare.org/detail/model:2712\n"
          ]
        }
      ]
    },
    {
      "cell_type": "markdown",
      "metadata": {
        "id": "Eb9dfUFHhLr-"
      },
      "source": [
        "## **Use your new Model Playground!**\n",
        "\n",
        "Follow the link in the output above to:\n",
        "- Generate predictions with your interactive web dashboard\n",
        "- Access example code in Python, R, and Curl\n",
        "\n",
        "Or, follow the rest of the tutorial to create a competition for your Model Playground and: \n",
        "- Access verified model performance metrics \n",
        "- Upload multiple models to a leaderboard \n",
        "- Easily compare model performance & structure "
      ]
    },
    {
      "cell_type": "markdown",
      "metadata": {
        "id": "9YpyLkQNfqSI"
      },
      "source": [
        "## **Part 2: Create a Competition**\n",
        "\n",
        "-------\n",
        "\n",
        "After deploying your Model Playground, you can now create a competition. \n",
        "\n",
        "Creating a competition allows you to:\n",
        "1. Verify the model performance metrics on aimodelshare.org\n",
        "2. Submit models to a leaderboard\n",
        "3. Grant access to other users to submit models to the leaderboard\n",
        "4. Easily compare model performance and structure "
      ]
    },
    {
      "cell_type": "code",
      "metadata": {
        "id": "b7Zr5m6ocqzr"
      },
      "source": [
        "# Create list of authorized participants for competition\n",
        "# Note that participants should use the same email address when creating modelshare.org account\n",
        "\n",
        "email_list=[\"brentvela@tamu.edu\",\"rarroyave@tamu.edu\",\"sina@tamu.edu\",\"sofiasheikh@exchange.tamu.edu\",\"mp3675@columbia.edu\"]"
      ],
      "execution_count": 14,
      "outputs": []
    },
    {
      "cell_type": "code",
      "source": [
        "#Save X_train, y_train, and X_test to a directory that stores competition data\n",
        "import os\n",
        "\n",
        "#make folder for competition data\n",
        "os.mkdir(\"balling_competition_data\")\n",
        "\n",
        "#save data to folder\n",
        "X_train.to_csv(\"balling_competition_data/X_train.csv\",index=False)\n",
        "y_train.to_csv(\"balling_competition_data/y_train.csv\",index=False)\n",
        "X_test.to_csv(\"balling_competition_data/X_test.csv\",index=False)"
      ],
      "metadata": {
        "id": "Uv0RrV_fRadK"
      },
      "execution_count": 15,
      "outputs": []
    },
    {
      "cell_type": "code",
      "metadata": {
        "id": "o2nKrLAMgc9o",
        "outputId": "a7ea3478-1988-4207-f51c-92c11066afed",
        "colab": {
          "base_uri": "https://localhost:8080/"
        }
      },
      "source": [
        "# Create Competition\n",
        "myplayground.create_competition(data_directory='balling_competition_data', \n",
        "                                y_test = y_test, \n",
        "                                email_list=email_list)"
      ],
      "execution_count": 16,
      "outputs": [
        {
          "output_type": "stream",
          "name": "stdout",
          "text": [
            "\n",
            "--INPUT COMPETITION DETAILS--\n",
            "\n",
            "Enter competition name:Alloy Balling Competition\n",
            "Enter competition description:Classify balling from alloy chemistry features.\n",
            "\n",
            "--INPUT DATA DETAILS--\n",
            "\n",
            "Note: (optional) Save an optional LICENSE.txt file in your competition data directory to make users aware of any restrictions on data sharing/usage.\n",
            "\n",
            "Enter data description (i.e.- filenames denoting training and test data, file types, and any subfolders where files are stored):Data stored in balling competition folder.\n",
            "Enter optional data license descriptive name (e.g.- 'MIT, Apache 2.0, CC0, Other, etc.'):MIT\n",
            "Uploading your data. Please wait for a confirmation message.\n",
            "\n",
            " Success! Model competition created. \n",
            "\n",
            "You may now update your prediction API runtime model and verify evaluation metrics with the update_runtime_model() function.\n",
            "\n",
            "To upload new models and/or preprocessors to this API, team members should use \n",
            "the following credentials:\n",
            "\n",
            "apiurl='https://ov8kxwsss6.execute-api.us-east-2.amazonaws.com/prod/m'\n",
            "from aimodelshare.aws import set_credentials\n",
            "set_credentials(apiurl=apiurl)\n",
            "\n",
            "They can then submit models to your competition by using the following code: \n",
            "\n",
            "competition= ai.Competition(apiurl)\n",
            "download_data('public.ecr.aws/y2e2a1d6/balling_competition_data-repository:latest') \n",
            "# Use this data to preprocess data and train model. Write and save preprocessor fxn, save model to onnx file, generate predicted y values\n",
            " using X test data, then submit a model below.\n",
            "\n",
            "competition.submit_model(model_filepath, preprocessor_filepath, prediction_submission_list)\n"
          ]
        }
      ]
    },
    {
      "cell_type": "code",
      "metadata": {
        "id": "SAJJWhdAfyo5"
      },
      "source": [
        "#Instantiate Competition\n",
        "#--Note: If you start a new session, the first argument should be the Model Playground url in quotes. \n",
        "#--e.g.- mycompetition= ai.Competition(\"https://2121212.execute-api.us-east-1.amazonaws.com/prod/m)\n",
        "#See Model Playground \"Compete\" tab for example model submission code.\n",
        "\n",
        "playground_id='https://ov8kxwsss6.execute-api.us-east-2.amazonaws.com/prod/m'\n",
        "\n",
        "mycompetition= ai.Competition(playground_id)"
      ],
      "execution_count": 17,
      "outputs": []
    },
    {
      "cell_type": "code",
      "metadata": {
        "id": "lnuZaLTxcwA2"
      },
      "source": [
        "# Add, remove, or completely update authorized participants for competition later\n",
        "emaillist=[\"emailaddress4@email.com\"]\n",
        "\n",
        "mycompetition.update_access_list(email_list=emaillist,update_type=\"Add\")"
      ],
      "execution_count": null,
      "outputs": []
    },
    {
      "cell_type": "markdown",
      "metadata": {
        "id": "mqyzWZPwgoEH"
      },
      "source": [
        "Submit Models"
      ]
    },
    {
      "cell_type": "code",
      "metadata": {
        "colab": {
          "base_uri": "https://localhost:8080/"
        },
        "id": "pPVcAXJ3czS1",
        "outputId": "30e2c46a-6e2b-4bb4-975e-8e3ec6cc2944"
      },
      "source": [
        "#Authorized users can submit new models after setting credentials using modelshare.org username/password\n",
        "\n",
        "from aimodelshare.aws import set_credentials\n",
        "\n",
        "set_credentials(apiurl=playground_id) # example url from deployed playground: apiurl= \"https://123456.execute-api.us-east-1.amazonaws.com/prod/m\n",
        "\n"
      ],
      "execution_count": 18,
      "outputs": [
        {
          "output_type": "stream",
          "name": "stdout",
          "text": [
            "AI Modelshare Username:··········\n",
            "AI Modelshare Password:··········\n",
            "AI Model Share login credentials set successfully.\n"
          ]
        }
      ]
    },
    {
      "cell_type": "code",
      "metadata": {
        "colab": {
          "base_uri": "https://localhost:8080/"
        },
        "id": "pJC2jl2PgfTf",
        "outputId": "b81c4a7b-e09f-4b87-bc27-77982d6e03af"
      },
      "source": [
        "#Submit Model 1: \n",
        "\n",
        "#-- Generate predicted values (a list of predicted labels \"survived\" or \"died\") (Model 1)\n",
        "prediction_labels = model.predict(preprocessor(X_test))\n",
        "\n",
        "# Submit Model 1 to Competition Leaderboard\n",
        "mycompetition.submit_model(model_filepath = \"model.onnx\",\n",
        "                                 preprocessor_filepath=\"preprocessor.zip\",\n",
        "                                 prediction_submission=prediction_labels)"
      ],
      "execution_count": 19,
      "outputs": [
        {
          "output_type": "stream",
          "name": "stdout",
          "text": [
            "Insert search tags to help users find your model (optional): \n",
            "Provide any useful notes about your model (optional): \n",
            "\n",
            "Your model has been submitted as model version 1\n",
            "\n",
            "To submit code used to create this model or to view current leaderboard navigate to Model Playground: \n",
            "\n",
            " https://www.modelshare.org/detail/model:2712\n"
          ]
        }
      ]
    },
    {
      "cell_type": "code",
      "metadata": {
        "colab": {
          "base_uri": "https://localhost:8080/"
        },
        "id": "hpzXNVPTop-O",
        "outputId": "d3559786-f6e8-46ed-ee8c-341e6d5efb37"
      },
      "source": [
        "# Create model 2 (L2 Regularization - Ridge)\n",
        "from sklearn.linear_model import LogisticRegression\n",
        "\n",
        "model_2 = LogisticRegression(C=.01, penalty='l2',class_weight=\"balanced\")\n",
        "model_2.fit(preprocessor(X_train), y_train) # Fitting to the training set.\n",
        "model_2.score(preprocessor(X_train), y_train) # Fit score, 0-1 scale."
      ],
      "execution_count": 28,
      "outputs": [
        {
          "output_type": "execute_result",
          "data": {
            "text/plain": [
              "0.51309460181721"
            ]
          },
          "metadata": {},
          "execution_count": 28
        }
      ]
    },
    {
      "cell_type": "code",
      "metadata": {
        "id": "jraPDdsNX46e"
      },
      "source": [
        "# Save Model 2 to .onnx file\n",
        "\n",
        "# How many preprocessed input features there are\n",
        "from skl2onnx.common.data_types import FloatTensorType\n",
        "\n",
        "feature_count=preprocessor(X_test).shape[1]\n",
        "initial_type = [('float_input', FloatTensorType([None, feature_count]))]  # You need to insert correct number of preprocessed features\n",
        "\n",
        "onnx_model = model_to_onnx(model_2, framework='sklearn',\n",
        "                          initial_types=initial_type,\n",
        "                          transfer_learning=False,\n",
        "                          deep_learning=False)\n",
        "\n",
        "# Save model to local .onnx file\n",
        "with open(\"model_2.onnx\", \"wb\") as f:\n",
        "    f.write(onnx_model.SerializeToString()) "
      ],
      "execution_count": 29,
      "outputs": []
    },
    {
      "cell_type": "code",
      "metadata": {
        "colab": {
          "base_uri": "https://localhost:8080/"
        },
        "id": "Cme7T_gaYWlD",
        "outputId": "9933884f-e9b9-4785-92a3-63b43fb46dbb"
      },
      "source": [
        "# Submit Model 2\n",
        "\n",
        "#-- Generate predicted y values (Model 2)\n",
        "prediction_labels = model_2.predict(preprocessor(X_test))\n",
        "\n",
        "# Submit Model 2 to Competition Leaderboard\n",
        "mycompetition.submit_model(model_filepath = \"model_2.onnx\",\n",
        "                                 prediction_submission=prediction_labels,\n",
        "                                 preprocessor_filepath=\"preprocessor.zip\")"
      ],
      "execution_count": 30,
      "outputs": [
        {
          "output_type": "stream",
          "name": "stdout",
          "text": [
            "Insert search tags to help users find your model (optional): \n",
            "Provide any useful notes about your model (optional): \n",
            "\n",
            "Your model has been submitted as model version 2\n",
            "\n",
            "To submit code used to create this model or to view current leaderboard navigate to Model Playground: \n",
            "\n",
            " https://www.modelshare.org/detail/model:2712\n"
          ]
        }
      ]
    },
    {
      "cell_type": "markdown",
      "metadata": {
        "id": "iLYlCkWchWC_"
      },
      "source": [
        "Get Leaderboard"
      ]
    },
    {
      "cell_type": "code",
      "metadata": {
        "colab": {
          "base_uri": "https://localhost:8080/",
          "height": 112
        },
        "id": "J0-B1h0chYDL",
        "outputId": "73b501e6-66fe-405e-9c35-95efbe15a1b4"
      },
      "source": [
        "data = mycompetition.get_leaderboard()\n",
        "mycompetition.stylize_leaderboard(data)"
      ],
      "execution_count": 31,
      "outputs": [
        {
          "output_type": "execute_result",
          "data": {
            "text/plain": [
              "<pandas.io.formats.style.Styler at 0x7fd0b7a8b7d0>"
            ],
            "text/html": [
              "<style type=\"text/css\">\n",
              "#T_19b7c_row0_col0 {\n",
              "  text-align: center;\n",
              "  width: 10em;\n",
              "  height: 80%;\n",
              "  background: linear-gradient(90deg,#f5f8d6 85.9%, transparent 85.9%);\n",
              "  color: #251e1b;\n",
              "  font-size: 12px;\n",
              "}\n",
              "#T_19b7c_row0_col1 {\n",
              "  text-align: center;\n",
              "  width: 10em;\n",
              "  height: 80%;\n",
              "  background: linear-gradient(90deg,#c778c8 46.2%, transparent 46.2%);\n",
              "  color: #251e1b;\n",
              "  font-size: 12px;\n",
              "}\n",
              "#T_19b7c_row0_col2 {\n",
              "  text-align: center;\n",
              "  width: 10em;\n",
              "  height: 80%;\n",
              "  background: linear-gradient(90deg,#ff4971 42.9%, transparent 42.9%);\n",
              "  color: #251e1b;\n",
              "  font-size: 12px;\n",
              "}\n",
              "#T_19b7c_row0_col3 {\n",
              "  text-align: center;\n",
              "  width: 10em;\n",
              "  height: 80%;\n",
              "  background: linear-gradient(90deg,#aadbaa 50.0%, transparent 50.0%);\n",
              "  color: #251e1b;\n",
              "  font-size: 12px;\n",
              "}\n",
              "#T_19b7c_row0_col4, #T_19b7c_row0_col5, #T_19b7c_row0_col6, #T_19b7c_row0_col7, #T_19b7c_row0_col8, #T_19b7c_row0_col9, #T_19b7c_row0_col10, #T_19b7c_row0_col11, #T_19b7c_row1_col4, #T_19b7c_row1_col5, #T_19b7c_row1_col6, #T_19b7c_row1_col7, #T_19b7c_row1_col8, #T_19b7c_row1_col9, #T_19b7c_row1_col10, #T_19b7c_row1_col11 {\n",
              "  text-align: center;\n",
              "}\n",
              "#T_19b7c_row1_col0 {\n",
              "  text-align: center;\n",
              "  width: 10em;\n",
              "  height: 80%;\n",
              "  background: linear-gradient(90deg,#f5f8d6 49.0%, transparent 49.0%);\n",
              "  color: #251e1b;\n",
              "  font-size: 12px;\n",
              "}\n",
              "#T_19b7c_row1_col1 {\n",
              "  text-align: center;\n",
              "  width: 10em;\n",
              "  height: 80%;\n",
              "  background: linear-gradient(90deg,#c778c8 45.0%, transparent 45.0%);\n",
              "  color: #251e1b;\n",
              "  font-size: 12px;\n",
              "}\n",
              "#T_19b7c_row1_col2 {\n",
              "  text-align: center;\n",
              "  width: 10em;\n",
              "  height: 80%;\n",
              "  background: linear-gradient(90deg,#ff4971 55.4%, transparent 55.4%);\n",
              "  color: #251e1b;\n",
              "  font-size: 12px;\n",
              "}\n",
              "#T_19b7c_row1_col3 {\n",
              "  text-align: center;\n",
              "  width: 10em;\n",
              "  height: 80%;\n",
              "  background: linear-gradient(90deg,#aadbaa 60.8%, transparent 60.8%);\n",
              "  color: #251e1b;\n",
              "  font-size: 12px;\n",
              "}\n",
              "</style>\n",
              "<table id=\"T_19b7c_\" class=\"dataframe\">\n",
              "  <thead>\n",
              "    <tr>\n",
              "      <th class=\"blank level0\" >&nbsp;</th>\n",
              "      <th class=\"col_heading level0 col0\" >accuracy</th>\n",
              "      <th class=\"col_heading level0 col1\" >f1_score</th>\n",
              "      <th class=\"col_heading level0 col2\" >precision</th>\n",
              "      <th class=\"col_heading level0 col3\" >recall</th>\n",
              "      <th class=\"col_heading level0 col4\" >ml_framework</th>\n",
              "      <th class=\"col_heading level0 col5\" >transfer_learning</th>\n",
              "      <th class=\"col_heading level0 col6\" >deep_learning</th>\n",
              "      <th class=\"col_heading level0 col7\" >model_type</th>\n",
              "      <th class=\"col_heading level0 col8\" >num_params</th>\n",
              "      <th class=\"col_heading level0 col9\" >optimizer</th>\n",
              "      <th class=\"col_heading level0 col10\" >username</th>\n",
              "      <th class=\"col_heading level0 col11\" >version</th>\n",
              "    </tr>\n",
              "  </thead>\n",
              "  <tbody>\n",
              "    <tr>\n",
              "      <th id=\"T_19b7c_level0_row0\" class=\"row_heading level0 row0\" >0</th>\n",
              "      <td id=\"T_19b7c_row0_col0\" class=\"data row0 col0\" >85.90%</td>\n",
              "      <td id=\"T_19b7c_row0_col1\" class=\"data row0 col1\" >46.21%</td>\n",
              "      <td id=\"T_19b7c_row0_col2\" class=\"data row0 col2\" >42.95%</td>\n",
              "      <td id=\"T_19b7c_row0_col3\" class=\"data row0 col3\" >50.00%</td>\n",
              "      <td id=\"T_19b7c_row0_col4\" class=\"data row0 col4\" >sklearn</td>\n",
              "      <td id=\"T_19b7c_row0_col5\" class=\"data row0 col5\" >False</td>\n",
              "      <td id=\"T_19b7c_row0_col6\" class=\"data row0 col6\" >False</td>\n",
              "      <td id=\"T_19b7c_row0_col7\" class=\"data row0 col7\" >LogisticRegression</td>\n",
              "      <td id=\"T_19b7c_row0_col8\" class=\"data row0 col8\" >3</td>\n",
              "      <td id=\"T_19b7c_row0_col9\" class=\"data row0 col9\" >liblinear</td>\n",
              "      <td id=\"T_19b7c_row0_col10\" class=\"data row0 col10\" >mikedparrott</td>\n",
              "      <td id=\"T_19b7c_row0_col11\" class=\"data row0 col11\" >1</td>\n",
              "    </tr>\n",
              "    <tr>\n",
              "      <th id=\"T_19b7c_level0_row1\" class=\"row_heading level0 row1\" >1</th>\n",
              "      <td id=\"T_19b7c_row1_col0\" class=\"data row1 col0\" >49.04%</td>\n",
              "      <td id=\"T_19b7c_row1_col1\" class=\"data row1 col1\" >44.95%</td>\n",
              "      <td id=\"T_19b7c_row1_col2\" class=\"data row1 col2\" >55.41%</td>\n",
              "      <td id=\"T_19b7c_row1_col3\" class=\"data row1 col3\" >60.84%</td>\n",
              "      <td id=\"T_19b7c_row1_col4\" class=\"data row1 col4\" >sklearn</td>\n",
              "      <td id=\"T_19b7c_row1_col5\" class=\"data row1 col5\" >False</td>\n",
              "      <td id=\"T_19b7c_row1_col6\" class=\"data row1 col6\" >False</td>\n",
              "      <td id=\"T_19b7c_row1_col7\" class=\"data row1 col7\" >LogisticRegression</td>\n",
              "      <td id=\"T_19b7c_row1_col8\" class=\"data row1 col8\" >3</td>\n",
              "      <td id=\"T_19b7c_row1_col9\" class=\"data row1 col9\" >lbfgs</td>\n",
              "      <td id=\"T_19b7c_row1_col10\" class=\"data row1 col10\" >mikedparrott</td>\n",
              "      <td id=\"T_19b7c_row1_col11\" class=\"data row1 col11\" >2</td>\n",
              "    </tr>\n",
              "  </tbody>\n",
              "</table>\n"
            ]
          },
          "metadata": {},
          "execution_count": 31
        }
      ]
    },
    {
      "cell_type": "markdown",
      "metadata": {
        "id": "g_bklL3shOER"
      },
      "source": [
        "Compare Models"
      ]
    },
    {
      "cell_type": "code",
      "metadata": {
        "id": "quo_V3A3hNS3",
        "colab": {
          "base_uri": "https://localhost:8080/",
          "height": 435
        },
        "outputId": "21ff2b72-3504-4ae5-af17-434b11e38601"
      },
      "source": [
        "# Compare two or more models (Experimental, Git-like Diffs for Model Architectures)\n",
        "data=mycompetition.compare_models([1,2], verbose=1)\n",
        "mycompetition.stylize_compare(data)\n"
      ],
      "execution_count": 32,
      "outputs": [
        {
          "output_type": "display_data",
          "data": {
            "text/plain": [
              "<IPython.core.display.HTML object>"
            ],
            "text/html": [
              "<style type=\"text/css\">\n",
              "#T_8d79d_ caption {\n",
              "  color: black;\n",
              "  font-size: 18px;\n",
              "}\n",
              "#T_8d79d_row0_col2, #T_8d79d_row0_col3, #T_8d79d_row1_col3, #T_8d79d_row9_col2, #T_8d79d_row11_col2 {\n",
              "  background: tomato;\n",
              "}\n",
              "</style>\n",
              "<table id=\"T_8d79d_\">\n",
              "  <caption>Model type: LogisticRegression</caption>\n",
              "  <thead>\n",
              "    <tr>\n",
              "      <th class=\"blank level0\" >&nbsp;</th>\n",
              "      <th class=\"col_heading level0 col0\" >param_name</th>\n",
              "      <th class=\"col_heading level0 col1\" >default_value</th>\n",
              "      <th class=\"col_heading level0 col2\" >model_version_1</th>\n",
              "      <th class=\"col_heading level0 col3\" >model_version_2</th>\n",
              "    </tr>\n",
              "  </thead>\n",
              "  <tbody>\n",
              "    <tr>\n",
              "      <th id=\"T_8d79d_level0_row0\" class=\"row_heading level0 row0\" >0</th>\n",
              "      <td id=\"T_8d79d_row0_col0\" class=\"data row0 col0\" >C</td>\n",
              "      <td id=\"T_8d79d_row0_col1\" class=\"data row0 col1\" >1.000000</td>\n",
              "      <td id=\"T_8d79d_row0_col2\" class=\"data row0 col2\" >10</td>\n",
              "      <td id=\"T_8d79d_row0_col3\" class=\"data row0 col3\" >0.010000</td>\n",
              "    </tr>\n",
              "    <tr>\n",
              "      <th id=\"T_8d79d_level0_row1\" class=\"row_heading level0 row1\" >1</th>\n",
              "      <td id=\"T_8d79d_row1_col0\" class=\"data row1 col0\" >class_weight</td>\n",
              "      <td id=\"T_8d79d_row1_col1\" class=\"data row1 col1\" >None</td>\n",
              "      <td id=\"T_8d79d_row1_col2\" class=\"data row1 col2\" >None</td>\n",
              "      <td id=\"T_8d79d_row1_col3\" class=\"data row1 col3\" >balanced</td>\n",
              "    </tr>\n",
              "    <tr>\n",
              "      <th id=\"T_8d79d_level0_row2\" class=\"row_heading level0 row2\" >2</th>\n",
              "      <td id=\"T_8d79d_row2_col0\" class=\"data row2 col0\" >dual</td>\n",
              "      <td id=\"T_8d79d_row2_col1\" class=\"data row2 col1\" >False</td>\n",
              "      <td id=\"T_8d79d_row2_col2\" class=\"data row2 col2\" >False</td>\n",
              "      <td id=\"T_8d79d_row2_col3\" class=\"data row2 col3\" >False</td>\n",
              "    </tr>\n",
              "    <tr>\n",
              "      <th id=\"T_8d79d_level0_row3\" class=\"row_heading level0 row3\" >3</th>\n",
              "      <td id=\"T_8d79d_row3_col0\" class=\"data row3 col0\" >fit_intercept</td>\n",
              "      <td id=\"T_8d79d_row3_col1\" class=\"data row3 col1\" >True</td>\n",
              "      <td id=\"T_8d79d_row3_col2\" class=\"data row3 col2\" >True</td>\n",
              "      <td id=\"T_8d79d_row3_col3\" class=\"data row3 col3\" >True</td>\n",
              "    </tr>\n",
              "    <tr>\n",
              "      <th id=\"T_8d79d_level0_row4\" class=\"row_heading level0 row4\" >4</th>\n",
              "      <td id=\"T_8d79d_row4_col0\" class=\"data row4 col0\" >intercept_scaling</td>\n",
              "      <td id=\"T_8d79d_row4_col1\" class=\"data row4 col1\" >1</td>\n",
              "      <td id=\"T_8d79d_row4_col2\" class=\"data row4 col2\" >1</td>\n",
              "      <td id=\"T_8d79d_row4_col3\" class=\"data row4 col3\" >1</td>\n",
              "    </tr>\n",
              "    <tr>\n",
              "      <th id=\"T_8d79d_level0_row5\" class=\"row_heading level0 row5\" >5</th>\n",
              "      <td id=\"T_8d79d_row5_col0\" class=\"data row5 col0\" >l1_ratio</td>\n",
              "      <td id=\"T_8d79d_row5_col1\" class=\"data row5 col1\" >None</td>\n",
              "      <td id=\"T_8d79d_row5_col2\" class=\"data row5 col2\" >None</td>\n",
              "      <td id=\"T_8d79d_row5_col3\" class=\"data row5 col3\" >None</td>\n",
              "    </tr>\n",
              "    <tr>\n",
              "      <th id=\"T_8d79d_level0_row6\" class=\"row_heading level0 row6\" >6</th>\n",
              "      <td id=\"T_8d79d_row6_col0\" class=\"data row6 col0\" >max_iter</td>\n",
              "      <td id=\"T_8d79d_row6_col1\" class=\"data row6 col1\" >100</td>\n",
              "      <td id=\"T_8d79d_row6_col2\" class=\"data row6 col2\" >100</td>\n",
              "      <td id=\"T_8d79d_row6_col3\" class=\"data row6 col3\" >100</td>\n",
              "    </tr>\n",
              "    <tr>\n",
              "      <th id=\"T_8d79d_level0_row7\" class=\"row_heading level0 row7\" >7</th>\n",
              "      <td id=\"T_8d79d_row7_col0\" class=\"data row7 col0\" >multi_class</td>\n",
              "      <td id=\"T_8d79d_row7_col1\" class=\"data row7 col1\" >auto</td>\n",
              "      <td id=\"T_8d79d_row7_col2\" class=\"data row7 col2\" >auto</td>\n",
              "      <td id=\"T_8d79d_row7_col3\" class=\"data row7 col3\" >auto</td>\n",
              "    </tr>\n",
              "    <tr>\n",
              "      <th id=\"T_8d79d_level0_row8\" class=\"row_heading level0 row8\" >8</th>\n",
              "      <td id=\"T_8d79d_row8_col0\" class=\"data row8 col0\" >n_jobs</td>\n",
              "      <td id=\"T_8d79d_row8_col1\" class=\"data row8 col1\" >None</td>\n",
              "      <td id=\"T_8d79d_row8_col2\" class=\"data row8 col2\" >None</td>\n",
              "      <td id=\"T_8d79d_row8_col3\" class=\"data row8 col3\" >None</td>\n",
              "    </tr>\n",
              "    <tr>\n",
              "      <th id=\"T_8d79d_level0_row9\" class=\"row_heading level0 row9\" >9</th>\n",
              "      <td id=\"T_8d79d_row9_col0\" class=\"data row9 col0\" >penalty</td>\n",
              "      <td id=\"T_8d79d_row9_col1\" class=\"data row9 col1\" >l2</td>\n",
              "      <td id=\"T_8d79d_row9_col2\" class=\"data row9 col2\" >l1</td>\n",
              "      <td id=\"T_8d79d_row9_col3\" class=\"data row9 col3\" >l2</td>\n",
              "    </tr>\n",
              "    <tr>\n",
              "      <th id=\"T_8d79d_level0_row10\" class=\"row_heading level0 row10\" >10</th>\n",
              "      <td id=\"T_8d79d_row10_col0\" class=\"data row10 col0\" >random_state</td>\n",
              "      <td id=\"T_8d79d_row10_col1\" class=\"data row10 col1\" >None</td>\n",
              "      <td id=\"T_8d79d_row10_col2\" class=\"data row10 col2\" >None</td>\n",
              "      <td id=\"T_8d79d_row10_col3\" class=\"data row10 col3\" >None</td>\n",
              "    </tr>\n",
              "    <tr>\n",
              "      <th id=\"T_8d79d_level0_row11\" class=\"row_heading level0 row11\" >11</th>\n",
              "      <td id=\"T_8d79d_row11_col0\" class=\"data row11 col0\" >solver</td>\n",
              "      <td id=\"T_8d79d_row11_col1\" class=\"data row11 col1\" >lbfgs</td>\n",
              "      <td id=\"T_8d79d_row11_col2\" class=\"data row11 col2\" >liblinear</td>\n",
              "      <td id=\"T_8d79d_row11_col3\" class=\"data row11 col3\" >lbfgs</td>\n",
              "    </tr>\n",
              "    <tr>\n",
              "      <th id=\"T_8d79d_level0_row12\" class=\"row_heading level0 row12\" >12</th>\n",
              "      <td id=\"T_8d79d_row12_col0\" class=\"data row12 col0\" >tol</td>\n",
              "      <td id=\"T_8d79d_row12_col1\" class=\"data row12 col1\" >0.000100</td>\n",
              "      <td id=\"T_8d79d_row12_col2\" class=\"data row12 col2\" >0.000100</td>\n",
              "      <td id=\"T_8d79d_row12_col3\" class=\"data row12 col3\" >0.000100</td>\n",
              "    </tr>\n",
              "    <tr>\n",
              "      <th id=\"T_8d79d_level0_row13\" class=\"row_heading level0 row13\" >13</th>\n",
              "      <td id=\"T_8d79d_row13_col0\" class=\"data row13 col0\" >verbose</td>\n",
              "      <td id=\"T_8d79d_row13_col1\" class=\"data row13 col1\" >0</td>\n",
              "      <td id=\"T_8d79d_row13_col2\" class=\"data row13 col2\" >0</td>\n",
              "      <td id=\"T_8d79d_row13_col3\" class=\"data row13 col3\" >0</td>\n",
              "    </tr>\n",
              "    <tr>\n",
              "      <th id=\"T_8d79d_level0_row14\" class=\"row_heading level0 row14\" >14</th>\n",
              "      <td id=\"T_8d79d_row14_col0\" class=\"data row14 col0\" >warm_start</td>\n",
              "      <td id=\"T_8d79d_row14_col1\" class=\"data row14 col1\" >False</td>\n",
              "      <td id=\"T_8d79d_row14_col2\" class=\"data row14 col2\" >False</td>\n",
              "      <td id=\"T_8d79d_row14_col3\" class=\"data row14 col3\" >False</td>\n",
              "    </tr>\n",
              "  </tbody>\n",
              "</table>\n"
            ]
          },
          "metadata": {}
        },
        {
          "output_type": "stream",
          "name": "stdout",
          "text": [
            "\n",
            "\n",
            "\n"
          ]
        }
      ]
    },
    {
      "cell_type": "markdown",
      "metadata": {
        "id": "FKm9ugiBhQFn"
      },
      "source": [
        "#### Check structure of y test data \n",
        "(This helps users understand how to submit predicted values to leaderboard)"
      ]
    },
    {
      "cell_type": "code",
      "metadata": {
        "colab": {
          "base_uri": "https://localhost:8080/"
        },
        "id": "dqY82D22hPZx",
        "outputId": "4e17ec78-0026-4180-c6f5-a482ed2db881"
      },
      "source": [
        "mycompetition.inspect_y_test()"
      ],
      "execution_count": 33,
      "outputs": [
        {
          "output_type": "execute_result",
          "data": {
            "text/plain": [
              "{'ytest_example': [0, 0, 0, 0, 0],\n",
              " 'y_length': 624,\n",
              " 'class_labels': [0, 1],\n",
              " 'class_balance': {'0': 537, '1': 87},\n",
              " 'label_dtypes': {\"<class 'int'>\": 624}}"
            ]
          },
          "metadata": {},
          "execution_count": 33
        }
      ]
    },
    {
      "cell_type": "markdown",
      "metadata": {
        "id": "iA-nYjr7WCIp"
      },
      "source": [
        "## **Part 3: Maintaining your Model Playground**\n",
        "\n",
        "-------"
      ]
    },
    {
      "cell_type": "markdown",
      "metadata": {
        "id": "0UIWnHIXWM0F"
      },
      "source": [
        "Update Runtime model\n",
        "\n",
        "*Use this function to 1) update the prediction API behind your Model Playground with a new model, chosen from the leaderboard and 2) verify the modelperformance metrics in your Model Playground*"
      ]
    },
    {
      "cell_type": "code",
      "metadata": {
        "id": "wAchpcGLWLxE"
      },
      "source": [
        "from aimodelshare import ModelPlayground\n",
        "\n",
        "#Instantiate ModelPlayground() Class\n",
        "\n",
        "myplayground=ModelPlayground(playground_url=playground_id)\n",
        "\n",
        "myplayground.update_runtime_model(model_version=2)"
      ],
      "execution_count": null,
      "outputs": []
    },
    {
      "cell_type": "markdown",
      "metadata": {
        "id": "xhJRaiN-WaO1"
      },
      "source": [
        "Delete Deployment \n",
        "\n",
        "*Use this function to delete the entire Model Playground, including the REST API, web dashboard, competition, and all submitted models*"
      ]
    },
    {
      "cell_type": "code",
      "metadata": {
        "id": "mCkf-exLWyDK"
      },
      "source": [
        "myplayground.delete_deployment()"
      ],
      "execution_count": null,
      "outputs": []
    }
  ]
}