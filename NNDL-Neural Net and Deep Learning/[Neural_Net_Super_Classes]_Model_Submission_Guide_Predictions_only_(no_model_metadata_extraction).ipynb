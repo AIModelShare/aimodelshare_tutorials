{
  "nbformat": 4,
  "nbformat_minor": 0,
  "metadata": {
    "colab": {
      "provenance": []
    },
    "kernelspec": {
      "name": "python3",
      "display_name": "Python 3"
    },
    "language_info": {
      "name": "python"
    }
  },
  "cells": [
    {
      "cell_type": "markdown",
      "source": [
        "<p align=\"center\"><img width=\"50%\" src=\"https://aimodelsharecontent.s3.amazonaws.com/aimodshare_banner.jpg\" /></p>\n",
        "\n",
        "\n",
        "---\n"
      ],
      "metadata": {
        "id": "m_DMeZsXxpEZ"
      }
    },
    {
      "cell_type": "markdown",
      "metadata": {
        "id": "JXxGTgJz152A"
      },
      "source": [
        "<p align=\"center\"><h1 align=\"center\"> Image Classification Model Submission Guide - Predictions Only (No Model Metadata Extraction)\n",
        "\n",
        "---\n",
        "Let's share our models to a centralized leaderboard, so that we can collaborate and learn from the model experimentation process...\n",
        "\n",
        "**Instructions:**\n",
        "1.   Get data in and set up X_train / X_test / y_train\n",
        "2.   Preprocess data\n",
        "3. Fit model on preprocessed data\n",
        "4. Generate predictions from X_test data and submit to competition\n",
        "5. Repeat submission process to improve place on leaderboard\n",
        "\n"
      ]
    },
    {
      "cell_type": "markdown",
      "metadata": {
        "id": "5gSrVJwp3E9H"
      },
      "source": [
        "## 1. Get data in and set up X_train, X_test, y_train objects"
      ]
    },
    {
      "cell_type": "code",
      "metadata": {
        "id": "PLTIaMB3ChSW"
      },
      "source": [
        "#install aimodelshare library\n",
        "! pip install aimodelshare --upgrade"
      ],
      "execution_count": null,
      "outputs": []
    },
    {
      "cell_type": "code",
      "metadata": {
        "colab": {
          "base_uri": "https://localhost:8080/"
        },
        "id": "d3PiJXBhC5y-",
        "outputId": "9d8f70f3-3d90-456c-9a7a-7cbe8abf4a0c"
      },
      "source": [
        "# Get competition data\n",
        "from aimodelshare import download_data\n",
        "download_data('public.ecr.aws/y2e2a1d6/neuralnet_competition_data-repository:latest') "
      ],
      "execution_count": 2,
      "outputs": [
        {
          "output_type": "stream",
          "name": "stdout",
          "text": [
            "Downloading [================================================>]\n",
            "\n",
            "Data downloaded successfully.\n"
          ]
        }
      ]
    },
    {
      "cell_type": "code",
      "source": [
        "# Create training data objects \n",
        "\n",
        "# Extract images\n",
        "!unzip \"neuralnet_competition_data/X_train.zip\"\n",
        "!unzip \"neuralnet_competition_data/X_test.zip\" \n",
        "\n",
        "# Create ordered list of filepaths \n",
        "train_filepaths = [('/content/train_shuffle/' + str(i) + '.jpg') for i in range(0, 6472)]\n",
        "test_filepaths = [('/content/test_shuffle/' + str(i) + '.jpg') for i in range(0, 9127)]\n",
        "\n",
        "# Read in y_train data \n",
        "import pandas as pd \n",
        "y_train = pd.read_csv(\"neuralnet_competition_data/y_train.csv\")"
      ],
      "metadata": {
        "id": "KujkkcWsiGFO"
      },
      "execution_count": null,
      "outputs": []
    },
    {
      "cell_type": "markdown",
      "metadata": {
        "id": "gEzPoXPj3V7u"
      },
      "source": [
        "##2.   Preprocess data\n"
      ]
    },
    {
      "cell_type": "code",
      "source": [
        "# Write and execute code to preprocess data here - an example is provided below "
      ],
      "metadata": {
        "id": "6IKOmKsXiZjh"
      },
      "execution_count": null,
      "outputs": []
    },
    {
      "cell_type": "code",
      "source": [
        "# Here is a pre-designed preprocessor, but you could also build your own to prepare the data differently\n",
        "\n",
        "def preprocessor(image_filepath, shape=(10, 10)):\n",
        "        \"\"\"\n",
        "        This function preprocesses reads in images, resizes them to a fixed shape and\n",
        "        min/max transforms them before converting feature values to float32 numeric values\n",
        "        required by onnx files.\n",
        "        \n",
        "        params:\n",
        "            image_filepath\n",
        "                full filepath of a particular image\n",
        "                      \n",
        "        returns:\n",
        "            X\n",
        "                numpy array of preprocessed image data\n",
        "                  \n",
        "        \"\"\"\n",
        "           \n",
        "        import cv2\n",
        "        import numpy as np\n",
        "\n",
        "        \"Resize a color image and min/max transform the image\"\n",
        "        img = cv2.imread(image_filepath) # Read in image from filepath.\n",
        "        img = cv2.cvtColor(img, cv2.COLOR_BGR2RGB) # cv2 reads in images in order of blue green and red, we reverse the order for ML.\n",
        "        img = cv2.resize(img, shape) # Change height and width of image.\n",
        "        img = img / 255.0 # Min-max transform.\n",
        "\n",
        "\n",
        "        # Resize all the images...\n",
        "        X = np.array(img)\n",
        "        X = np.expand_dims(X, axis=0) # Expand dims to add \"1\" to object shape [1, h, w, channels] for keras model.\n",
        "        X = np.array(X, dtype=np.float32) # Final shape for onnx runtime.\n",
        "        return X"
      ],
      "metadata": {
        "id": "wgZFbZjKjzoH"
      },
      "execution_count": 4,
      "outputs": []
    },
    {
      "cell_type": "code",
      "source": [
        "# Use preprocessor to create X_train object \n",
        "\n",
        "# Import image, load to array of shape height, width, channels, then min/max transform...\n",
        "# Read in all images from filenames...\n",
        "import numpy as np \n",
        "import os \n",
        "\n",
        "preprocessed_image_data = [preprocessor(x) for x in train_filepaths]\n",
        "\n",
        "# Object needs to be an array rather than a list for Keras. (vstack converts above list to array object.)\n",
        "X_train = np.vstack(preprocessed_image_data)\n",
        "# Assigning to X_train to highlight that this represents feature input data for our model."
      ],
      "metadata": {
        "id": "Rmk3I_ysj0UE"
      },
      "execution_count": 5,
      "outputs": []
    },
    {
      "cell_type": "code",
      "source": [
        "# Preprocess X_test image data to generate predictions from models \n",
        "import numpy as np\n",
        "\n",
        "preprocessed_image_data = [preprocessor(x) for x in test_filepaths]\n",
        "\n",
        "#Create single X_test array from preprocessed images\n",
        "X_test = np.vstack(preprocessed_image_data) "
      ],
      "metadata": {
        "id": "G_sdpBG9j3YS"
      },
      "execution_count": 6,
      "outputs": []
    },
    {
      "cell_type": "markdown",
      "metadata": {
        "id": "X52kECL43b-O"
      },
      "source": [
        "##3. Fit model on preprocessed data\n"
      ]
    },
    {
      "cell_type": "code",
      "metadata": {
        "id": "NCbBf8j9ClYl"
      },
      "source": [
        "# Write and execute code to fit model on preprocessed data here."
      ],
      "execution_count": null,
      "outputs": []
    },
    {
      "cell_type": "code",
      "metadata": {
        "id": "RtgkM02MDpkO",
        "colab": {
          "base_uri": "https://localhost:8080/"
        },
        "outputId": "5ddfd297-ca49-4814-9592-77d75692d735"
      },
      "source": [
        "#Set credentials using modelshare.org username/password\n",
        "\n",
        "from aimodelshare.aws import set_credentials\n",
        "    \n",
        "apiurl=\"https://8vhobca1n7.execute-api.us-east-1.amazonaws.com/prod/m\"\n",
        "#This is the unique rest api that powers this specific Image Classification Playground\n",
        "\n",
        "set_credentials(apiurl=apiurl)"
      ],
      "execution_count": 7,
      "outputs": [
        {
          "output_type": "stream",
          "name": "stdout",
          "text": [
            "AI Modelshare Username:··········\n",
            "AI Modelshare Password:··········\n",
            "AI Model Share login credentials set successfully.\n"
          ]
        }
      ]
    },
    {
      "cell_type": "code",
      "metadata": {
        "id": "fKNGSww8EGgi"
      },
      "source": [
        "#Instantiate Competition\n",
        "import aimodelshare as ai\n",
        "mycompetition= ai.Competition(apiurl)"
      ],
      "execution_count": 8,
      "outputs": []
    },
    {
      "cell_type": "markdown",
      "source": [
        "## **4. Submit Model predictions to leaderboard (without extracting model architecture information):**\n",
        "- model metadata extraction allows you use compare_models() and instantiate_model() functions."
      ],
      "metadata": {
        "id": "W66Pr1_K2sQV"
      }
    },
    {
      "cell_type": "code",
      "source": [
        "#create list of y category labels\n",
        "y_labels = list(y_train.columns)"
      ],
      "metadata": {
        "id": "fJFRXlRny521"
      },
      "execution_count": 9,
      "outputs": []
    },
    {
      "cell_type": "code",
      "source": [
        "#Generate a list of predictions using X_test data\n",
        "\n",
        "# This example uses randomly chosen values from y_labels to generate a list of predictions\n",
        "import random \n",
        "predicted_values = random.choices(y_labels, k=len(X_test))"
      ],
      "metadata": {
        "id": "IS09g9DF0HGP"
      },
      "execution_count": 10,
      "outputs": []
    },
    {
      "cell_type": "code",
      "metadata": {
        "id": "_Ql4wksyEUnP",
        "colab": {
          "base_uri": "https://localhost:8080/"
        },
        "outputId": "68a26a8e-f599-47f8-fabf-ae61896f5032"
      },
      "source": [
        "#Submit Model predictions to leaderboard (without extracting model architecture information): \n",
        "\n",
        "# Submit to Competition Leaderboard\n",
        "mycompetition.submit_model(model_filepath = None,\n",
        "                                 preprocessor_filepath=None,\n",
        "                                 prediction_submission=predicted_values)"
      ],
      "execution_count": 11,
      "outputs": [
        {
          "output_type": "stream",
          "name": "stdout",
          "text": [
            "Insert search tags to help users find your model (optional): \n",
            "Provide any useful notes about your model (optional): \n",
            "\n",
            "Your model has been submitted as model version 4\n",
            "\n",
            "To submit code used to create this model or to view current leaderboard navigate to Model Playground: \n",
            "\n",
            " https://www.modelshare.org/detail/model:2651\n"
          ]
        }
      ]
    },
    {
      "cell_type": "code",
      "metadata": {
        "colab": {
          "base_uri": "https://localhost:8080/",
          "height": 163
        },
        "id": "GN1zvAmNEq17",
        "outputId": "93e7cf70-c854-47ee-b962-e14942d673bd"
      },
      "source": [
        "# Get leaderboard to explore current best model architectures\n",
        "\n",
        "# Get raw data in pandas data frame\n",
        "data = mycompetition.get_leaderboard()\n",
        "\n",
        "# Stylize leaderboard data\n",
        "mycompetition.stylize_leaderboard(data)"
      ],
      "execution_count": 12,
      "outputs": [
        {
          "output_type": "execute_result",
          "data": {
            "text/plain": [
              "<pandas.io.formats.style.Styler at 0x7f525fba6390>"
            ],
            "text/html": [
              "<style type=\"text/css\">\n",
              "#T_c30d4_row0_col0 {\n",
              "  text-align: center;\n",
              "  width: 10em;\n",
              "  height: 80%;\n",
              "  background: linear-gradient(90deg,#f5f8d6 53.9%, transparent 53.9%);\n",
              "  color: #251e1b;\n",
              "  font-size: 12px;\n",
              "}\n",
              "#T_c30d4_row0_col1 {\n",
              "  text-align: center;\n",
              "  width: 10em;\n",
              "  height: 80%;\n",
              "  background: linear-gradient(90deg,#c778c8 54.0%, transparent 54.0%);\n",
              "  color: #251e1b;\n",
              "  font-size: 12px;\n",
              "}\n",
              "#T_c30d4_row0_col2 {\n",
              "  text-align: center;\n",
              "  width: 10em;\n",
              "  height: 80%;\n",
              "  background: linear-gradient(90deg,#ff4971 55.5%, transparent 55.5%);\n",
              "  color: #251e1b;\n",
              "  font-size: 12px;\n",
              "}\n",
              "#T_c30d4_row0_col3 {\n",
              "  text-align: center;\n",
              "  width: 10em;\n",
              "  height: 80%;\n",
              "  background: linear-gradient(90deg,#aadbaa 59.2%, transparent 59.2%);\n",
              "  color: #251e1b;\n",
              "  font-size: 12px;\n",
              "}\n",
              "#T_c30d4_row0_col4, #T_c30d4_row0_col5, #T_c30d4_row0_col6, #T_c30d4_row0_col7, #T_c30d4_row0_col8, #T_c30d4_row0_col9, #T_c30d4_row0_col10, #T_c30d4_row0_col11, #T_c30d4_row0_col12, #T_c30d4_row0_col13, #T_c30d4_row0_col14, #T_c30d4_row0_col15, #T_c30d4_row0_col16, #T_c30d4_row0_col17, #T_c30d4_row0_col18, #T_c30d4_row0_col19, #T_c30d4_row0_col20, #T_c30d4_row1_col4, #T_c30d4_row1_col5, #T_c30d4_row1_col6, #T_c30d4_row1_col7, #T_c30d4_row1_col8, #T_c30d4_row1_col9, #T_c30d4_row1_col10, #T_c30d4_row1_col11, #T_c30d4_row1_col12, #T_c30d4_row1_col13, #T_c30d4_row1_col14, #T_c30d4_row1_col15, #T_c30d4_row1_col16, #T_c30d4_row1_col17, #T_c30d4_row1_col18, #T_c30d4_row1_col19, #T_c30d4_row1_col20, #T_c30d4_row2_col4, #T_c30d4_row2_col5, #T_c30d4_row2_col6, #T_c30d4_row2_col7, #T_c30d4_row2_col8, #T_c30d4_row2_col9, #T_c30d4_row2_col10, #T_c30d4_row2_col11, #T_c30d4_row2_col12, #T_c30d4_row2_col13, #T_c30d4_row2_col14, #T_c30d4_row2_col15, #T_c30d4_row2_col16, #T_c30d4_row2_col17, #T_c30d4_row2_col18, #T_c30d4_row2_col19, #T_c30d4_row2_col20, #T_c30d4_row3_col4, #T_c30d4_row3_col5, #T_c30d4_row3_col6, #T_c30d4_row3_col7, #T_c30d4_row3_col8, #T_c30d4_row3_col9, #T_c30d4_row3_col10, #T_c30d4_row3_col11, #T_c30d4_row3_col12, #T_c30d4_row3_col13, #T_c30d4_row3_col14, #T_c30d4_row3_col15, #T_c30d4_row3_col16, #T_c30d4_row3_col17, #T_c30d4_row3_col18, #T_c30d4_row3_col19, #T_c30d4_row3_col20 {\n",
              "  text-align: center;\n",
              "}\n",
              "#T_c30d4_row1_col0 {\n",
              "  text-align: center;\n",
              "  width: 10em;\n",
              "  height: 80%;\n",
              "  background: linear-gradient(90deg,#f5f8d6 51.2%, transparent 51.2%);\n",
              "  color: #251e1b;\n",
              "  font-size: 12px;\n",
              "}\n",
              "#T_c30d4_row1_col1 {\n",
              "  text-align: center;\n",
              "  width: 10em;\n",
              "  height: 80%;\n",
              "  background: linear-gradient(90deg,#c778c8 50.7%, transparent 50.7%);\n",
              "  color: #251e1b;\n",
              "  font-size: 12px;\n",
              "}\n",
              "#T_c30d4_row1_col2 {\n",
              "  text-align: center;\n",
              "  width: 10em;\n",
              "  height: 80%;\n",
              "  background: linear-gradient(90deg,#ff4971 52.7%, transparent 52.7%);\n",
              "  color: #251e1b;\n",
              "  font-size: 12px;\n",
              "}\n",
              "#T_c30d4_row1_col3 {\n",
              "  text-align: center;\n",
              "  width: 10em;\n",
              "  height: 80%;\n",
              "  background: linear-gradient(90deg,#aadbaa 54.4%, transparent 54.4%);\n",
              "  color: #251e1b;\n",
              "  font-size: 12px;\n",
              "}\n",
              "#T_c30d4_row2_col0 {\n",
              "  text-align: center;\n",
              "  width: 10em;\n",
              "  height: 80%;\n",
              "  background: linear-gradient(90deg,#f5f8d6 45.2%, transparent 45.2%);\n",
              "  color: #251e1b;\n",
              "  font-size: 12px;\n",
              "}\n",
              "#T_c30d4_row2_col1 {\n",
              "  text-align: center;\n",
              "  width: 10em;\n",
              "  height: 80%;\n",
              "  background: linear-gradient(90deg,#c778c8 44.6%, transparent 44.6%);\n",
              "  color: #251e1b;\n",
              "  font-size: 12px;\n",
              "}\n",
              "#T_c30d4_row2_col2 {\n",
              "  text-align: center;\n",
              "  width: 10em;\n",
              "  height: 80%;\n",
              "  background: linear-gradient(90deg,#ff4971 56.9%, transparent 56.9%);\n",
              "  color: #251e1b;\n",
              "  font-size: 12px;\n",
              "}\n",
              "#T_c30d4_row2_col3 {\n",
              "  text-align: center;\n",
              "  width: 10em;\n",
              "  height: 80%;\n",
              "  background: linear-gradient(90deg,#aadbaa 53.7%, transparent 53.7%);\n",
              "  color: #251e1b;\n",
              "  font-size: 12px;\n",
              "}\n",
              "#T_c30d4_row3_col0 {\n",
              "  text-align: center;\n",
              "  width: 10em;\n",
              "  height: 80%;\n",
              "  background: linear-gradient(90deg,#f5f8d6 33.3%, transparent 33.3%);\n",
              "  color: #251e1b;\n",
              "  font-size: 12px;\n",
              "}\n",
              "#T_c30d4_row3_col1 {\n",
              "  text-align: center;\n",
              "  width: 10em;\n",
              "  height: 80%;\n",
              "  background: linear-gradient(90deg,#c778c8 32.6%, transparent 32.6%);\n",
              "  color: #251e1b;\n",
              "  font-size: 12px;\n",
              "}\n",
              "#T_c30d4_row3_col2 {\n",
              "  text-align: center;\n",
              "  width: 10em;\n",
              "  height: 80%;\n",
              "  background: linear-gradient(90deg,#ff4971 33.3%, transparent 33.3%);\n",
              "  color: #251e1b;\n",
              "  font-size: 12px;\n",
              "}\n",
              "#T_c30d4_row3_col3 {\n",
              "  text-align: center;\n",
              "  width: 10em;\n",
              "  height: 80%;\n",
              "  background: linear-gradient(90deg,#aadbaa 33.5%, transparent 33.5%);\n",
              "  color: #251e1b;\n",
              "  font-size: 12px;\n",
              "}\n",
              "</style>\n",
              "<table id=\"T_c30d4_\" class=\"dataframe\">\n",
              "  <thead>\n",
              "    <tr>\n",
              "      <th class=\"blank level0\" >&nbsp;</th>\n",
              "      <th class=\"col_heading level0 col0\" >accuracy</th>\n",
              "      <th class=\"col_heading level0 col1\" >f1_score</th>\n",
              "      <th class=\"col_heading level0 col2\" >precision</th>\n",
              "      <th class=\"col_heading level0 col3\" >recall</th>\n",
              "      <th class=\"col_heading level0 col4\" >ml_framework</th>\n",
              "      <th class=\"col_heading level0 col5\" >deep_learning</th>\n",
              "      <th class=\"col_heading level0 col6\" >model_type</th>\n",
              "      <th class=\"col_heading level0 col7\" >depth</th>\n",
              "      <th class=\"col_heading level0 col8\" >num_params</th>\n",
              "      <th class=\"col_heading level0 col9\" >dense_layers</th>\n",
              "      <th class=\"col_heading level0 col10\" >dropout_layers</th>\n",
              "      <th class=\"col_heading level0 col11\" >conv2d_layers</th>\n",
              "      <th class=\"col_heading level0 col12\" >flatten_layers</th>\n",
              "      <th class=\"col_heading level0 col13\" >maxpooling2d_layers</th>\n",
              "      <th class=\"col_heading level0 col14\" >relu_act</th>\n",
              "      <th class=\"col_heading level0 col15\" >softmax_act</th>\n",
              "      <th class=\"col_heading level0 col16\" >loss</th>\n",
              "      <th class=\"col_heading level0 col17\" >optimizer</th>\n",
              "      <th class=\"col_heading level0 col18\" >memory_size</th>\n",
              "      <th class=\"col_heading level0 col19\" >username</th>\n",
              "      <th class=\"col_heading level0 col20\" >version</th>\n",
              "    </tr>\n",
              "  </thead>\n",
              "  <tbody>\n",
              "    <tr>\n",
              "      <th id=\"T_c30d4_level0_row0\" class=\"row_heading level0 row0\" >0</th>\n",
              "      <td id=\"T_c30d4_row0_col0\" class=\"data row0 col0\" >53.86%</td>\n",
              "      <td id=\"T_c30d4_row0_col1\" class=\"data row0 col1\" >54.04%</td>\n",
              "      <td id=\"T_c30d4_row0_col2\" class=\"data row0 col2\" >55.52%</td>\n",
              "      <td id=\"T_c30d4_row0_col3\" class=\"data row0 col3\" >59.17%</td>\n",
              "      <td id=\"T_c30d4_row0_col4\" class=\"data row0 col4\" >keras</td>\n",
              "      <td id=\"T_c30d4_row0_col5\" class=\"data row0 col5\" >True</td>\n",
              "      <td id=\"T_c30d4_row0_col6\" class=\"data row0 col6\" >Sequential</td>\n",
              "      <td id=\"T_c30d4_row0_col7\" class=\"data row0 col7\" >11.000000</td>\n",
              "      <td id=\"T_c30d4_row0_col8\" class=\"data row0 col8\" >10811.000000</td>\n",
              "      <td id=\"T_c30d4_row0_col9\" class=\"data row0 col9\" >2.000000</td>\n",
              "      <td id=\"T_c30d4_row0_col10\" class=\"data row0 col10\" >2.000000</td>\n",
              "      <td id=\"T_c30d4_row0_col11\" class=\"data row0 col11\" >4.000000</td>\n",
              "      <td id=\"T_c30d4_row0_col12\" class=\"data row0 col12\" >1.000000</td>\n",
              "      <td id=\"T_c30d4_row0_col13\" class=\"data row0 col13\" >2.000000</td>\n",
              "      <td id=\"T_c30d4_row0_col14\" class=\"data row0 col14\" >5.000000</td>\n",
              "      <td id=\"T_c30d4_row0_col15\" class=\"data row0 col15\" >1.000000</td>\n",
              "      <td id=\"T_c30d4_row0_col16\" class=\"data row0 col16\" >str</td>\n",
              "      <td id=\"T_c30d4_row0_col17\" class=\"data row0 col17\" >RMSprop</td>\n",
              "      <td id=\"T_c30d4_row0_col18\" class=\"data row0 col18\" >44936.000000</td>\n",
              "      <td id=\"T_c30d4_row0_col19\" class=\"data row0 col19\" >COMS_NNDL</td>\n",
              "      <td id=\"T_c30d4_row0_col20\" class=\"data row0 col20\" >1</td>\n",
              "    </tr>\n",
              "    <tr>\n",
              "      <th id=\"T_c30d4_level0_row1\" class=\"row_heading level0 row1\" >1</th>\n",
              "      <td id=\"T_c30d4_row1_col0\" class=\"data row1 col0\" >51.16%</td>\n",
              "      <td id=\"T_c30d4_row1_col1\" class=\"data row1 col1\" >50.74%</td>\n",
              "      <td id=\"T_c30d4_row1_col2\" class=\"data row1 col2\" >52.75%</td>\n",
              "      <td id=\"T_c30d4_row1_col3\" class=\"data row1 col3\" >54.38%</td>\n",
              "      <td id=\"T_c30d4_row1_col4\" class=\"data row1 col4\" >keras</td>\n",
              "      <td id=\"T_c30d4_row1_col5\" class=\"data row1 col5\" >True</td>\n",
              "      <td id=\"T_c30d4_row1_col6\" class=\"data row1 col6\" >Sequential</td>\n",
              "      <td id=\"T_c30d4_row1_col7\" class=\"data row1 col7\" >5.000000</td>\n",
              "      <td id=\"T_c30d4_row1_col8\" class=\"data row1 col8\" >27779.000000</td>\n",
              "      <td id=\"T_c30d4_row1_col9\" class=\"data row1 col9\" >4.000000</td>\n",
              "      <td id=\"T_c30d4_row1_col10\" class=\"data row1 col10\" >nan</td>\n",
              "      <td id=\"T_c30d4_row1_col11\" class=\"data row1 col11\" >nan</td>\n",
              "      <td id=\"T_c30d4_row1_col12\" class=\"data row1 col12\" >1.000000</td>\n",
              "      <td id=\"T_c30d4_row1_col13\" class=\"data row1 col13\" >nan</td>\n",
              "      <td id=\"T_c30d4_row1_col14\" class=\"data row1 col14\" >3.000000</td>\n",
              "      <td id=\"T_c30d4_row1_col15\" class=\"data row1 col15\" >1.000000</td>\n",
              "      <td id=\"T_c30d4_row1_col16\" class=\"data row1 col16\" >str</td>\n",
              "      <td id=\"T_c30d4_row1_col17\" class=\"data row1 col17\" >RMSprop</td>\n",
              "      <td id=\"T_c30d4_row1_col18\" class=\"data row1 col18\" >112168.000000</td>\n",
              "      <td id=\"T_c30d4_row1_col19\" class=\"data row1 col19\" >COMS_NNDL</td>\n",
              "      <td id=\"T_c30d4_row1_col20\" class=\"data row1 col20\" >2</td>\n",
              "    </tr>\n",
              "    <tr>\n",
              "      <th id=\"T_c30d4_level0_row2\" class=\"row_heading level0 row2\" >2</th>\n",
              "      <td id=\"T_c30d4_row2_col0\" class=\"data row2 col0\" >45.25%</td>\n",
              "      <td id=\"T_c30d4_row2_col1\" class=\"data row2 col1\" >44.57%</td>\n",
              "      <td id=\"T_c30d4_row2_col2\" class=\"data row2 col2\" >56.87%</td>\n",
              "      <td id=\"T_c30d4_row2_col3\" class=\"data row2 col3\" >53.68%</td>\n",
              "      <td id=\"T_c30d4_row2_col4\" class=\"data row2 col4\" >keras</td>\n",
              "      <td id=\"T_c30d4_row2_col5\" class=\"data row2 col5\" >True</td>\n",
              "      <td id=\"T_c30d4_row2_col6\" class=\"data row2 col6\" >Sequential</td>\n",
              "      <td id=\"T_c30d4_row2_col7\" class=\"data row2 col7\" >11.000000</td>\n",
              "      <td id=\"T_c30d4_row2_col8\" class=\"data row2 col8\" >13571.000000</td>\n",
              "      <td id=\"T_c30d4_row2_col9\" class=\"data row2 col9\" >2.000000</td>\n",
              "      <td id=\"T_c30d4_row2_col10\" class=\"data row2 col10\" >2.000000</td>\n",
              "      <td id=\"T_c30d4_row2_col11\" class=\"data row2 col11\" >4.000000</td>\n",
              "      <td id=\"T_c30d4_row2_col12\" class=\"data row2 col12\" >1.000000</td>\n",
              "      <td id=\"T_c30d4_row2_col13\" class=\"data row2 col13\" >2.000000</td>\n",
              "      <td id=\"T_c30d4_row2_col14\" class=\"data row2 col14\" >5.000000</td>\n",
              "      <td id=\"T_c30d4_row2_col15\" class=\"data row2 col15\" >1.000000</td>\n",
              "      <td id=\"T_c30d4_row2_col16\" class=\"data row2 col16\" >str</td>\n",
              "      <td id=\"T_c30d4_row2_col17\" class=\"data row2 col17\" >RMSprop</td>\n",
              "      <td id=\"T_c30d4_row2_col18\" class=\"data row2 col18\" >55976.000000</td>\n",
              "      <td id=\"T_c30d4_row2_col19\" class=\"data row2 col19\" >COMS_NNDL</td>\n",
              "      <td id=\"T_c30d4_row2_col20\" class=\"data row2 col20\" >3</td>\n",
              "    </tr>\n",
              "    <tr>\n",
              "      <th id=\"T_c30d4_level0_row3\" class=\"row_heading level0 row3\" >3</th>\n",
              "      <td id=\"T_c30d4_row3_col0\" class=\"data row3 col0\" >33.28%</td>\n",
              "      <td id=\"T_c30d4_row3_col1\" class=\"data row3 col1\" >32.64%</td>\n",
              "      <td id=\"T_c30d4_row3_col2\" class=\"data row3 col2\" >33.26%</td>\n",
              "      <td id=\"T_c30d4_row3_col3\" class=\"data row3 col3\" >33.48%</td>\n",
              "      <td id=\"T_c30d4_row3_col4\" class=\"data row3 col4\" >unknown</td>\n",
              "      <td id=\"T_c30d4_row3_col5\" class=\"data row3 col5\" >nan</td>\n",
              "      <td id=\"T_c30d4_row3_col6\" class=\"data row3 col6\" >unknown</td>\n",
              "      <td id=\"T_c30d4_row3_col7\" class=\"data row3 col7\" >nan</td>\n",
              "      <td id=\"T_c30d4_row3_col8\" class=\"data row3 col8\" >nan</td>\n",
              "      <td id=\"T_c30d4_row3_col9\" class=\"data row3 col9\" >nan</td>\n",
              "      <td id=\"T_c30d4_row3_col10\" class=\"data row3 col10\" >nan</td>\n",
              "      <td id=\"T_c30d4_row3_col11\" class=\"data row3 col11\" >nan</td>\n",
              "      <td id=\"T_c30d4_row3_col12\" class=\"data row3 col12\" >nan</td>\n",
              "      <td id=\"T_c30d4_row3_col13\" class=\"data row3 col13\" >nan</td>\n",
              "      <td id=\"T_c30d4_row3_col14\" class=\"data row3 col14\" >nan</td>\n",
              "      <td id=\"T_c30d4_row3_col15\" class=\"data row3 col15\" >nan</td>\n",
              "      <td id=\"T_c30d4_row3_col16\" class=\"data row3 col16\" >nan</td>\n",
              "      <td id=\"T_c30d4_row3_col17\" class=\"data row3 col17\" >nan</td>\n",
              "      <td id=\"T_c30d4_row3_col18\" class=\"data row3 col18\" >nan</td>\n",
              "      <td id=\"T_c30d4_row3_col19\" class=\"data row3 col19\" >COMS_NNDL</td>\n",
              "      <td id=\"T_c30d4_row3_col20\" class=\"data row3 col20\" >4</td>\n",
              "    </tr>\n",
              "  </tbody>\n",
              "</table>\n"
            ]
          },
          "metadata": {},
          "execution_count": 12
        }
      ]
    },
    {
      "cell_type": "markdown",
      "source": [
        "You can also compare two or more models for any models submitted to the leaderboard using example code for model metadata extraction (see code tab for this competition at www.modelshare.org for submission examples.)\n",
        "```\n",
        "data=mycompetition.compare_models([1,2], verbose=1)\n",
        "mycompetition.stylize_compare(data)\n",
        "```\n",
        "\n"
      ],
      "metadata": {
        "id": "OK9F-jPs38K5"
      }
    },
    {
      "cell_type": "markdown",
      "metadata": {
        "id": "bwNKs0wP4r5s"
      },
      "source": [
        "#####  (Optional Extension) Submit Model With Custom Metadata: \n",
        "Can use to add team names or any other missing data you may wish to share on the leaderboard\n"
      ]
    },
    {
      "cell_type": "code",
      "metadata": {
        "id": "FgSs5PAtPCZH"
      },
      "source": [
        "# Custom metadata can be added by passing a dict to the custom_metadata argument of the submit_model() method\n",
        "# This option can be used to fill in missing data points or add new columns to the leaderboard\n",
        "\n",
        "custom_meta = {'team': 'team one',\n",
        "               'model_type': 'your_model_type',\n",
        "               'new_column': 'new metadata'}\n",
        "\n",
        "mycompetition.submit_model(model_filepath = None,\n",
        "                                 preprocessor_filepath=None,\n",
        "                                 prediction_submission=predicted_values,\n",
        "                                 custom_metadata = custom_meta)"
      ],
      "execution_count": null,
      "outputs": []
    }
  ]
}