{
  "nbformat": 4,
  "nbformat_minor": 0,
  "metadata": {
    "colab": {
      "name": "[SPORTS CLIPS] Model Submission Guide.ipynb",
      "provenance": [],
      "collapsed_sections": []
    },
    "kernelspec": {
      "name": "python3",
      "display_name": "Python 3"
    },
    "language_info": {
      "name": "python"
    }
  },
  "cells": [
    {
      "cell_type": "markdown",
      "source": [
        "<p align=\"center\"><img width=\"50%\" src=\"https://aimodelsharecontent.s3.amazonaws.com/aimodshare_banner.jpg\" /></p>\n",
        "\n",
        "\n",
        "---\n",
        "**Source:**<br>\n",
        "*Dataset adapted from: Dataset adapted from: Soomro, K., Zamir, A. R., & Sha, M. (2012). UCF101: A Dataset of 101 Human Actions Classes From Videos in The Wild. Center for Research in Computer Vision, University of Central Florida. https://arxiv.org/pdf/1212.0402v1.pdf*\n"
      ],
      "metadata": {
        "id": "g8Hr8qrnroxM"
      }
    },
    {
      "cell_type": "markdown",
      "metadata": {
        "id": "JXxGTgJz152A"
      },
      "source": [
        "# Sports Clips Video Classification Competition Model Submission Guide\n",
        "\n",
        "---\n",
        "\n",
        "Let's share our models to a centralized leaderboard, so that we can collaborate and learn from the model experimentation process...\n",
        "\n",
        "**Instructions:**\n",
        "1.   Get data in and set up X_train / X_test / y_train\n",
        "2.   Preprocess data / Write and Save Preprocessor function\n",
        "3. Fit model on preprocessed data and save preprocessor function and model \n",
        "4. Generate predictions from X_test data and submit model to competition\n",
        "5. Repeat submission process to improve place on leaderboard\n",
        "\n"
      ]
    },
    {
      "cell_type": "markdown",
      "metadata": {
        "id": "5gSrVJwp3E9H"
      },
      "source": [
        "## 1. Get data in and set up X_train, X_test, y_train objects"
      ]
    },
    {
      "cell_type": "code",
      "metadata": {
        "id": "PLTIaMB3ChSW"
      },
      "source": [
        "#install aimodelshare library\n",
        "! pip install aimodelshare --upgrade"
      ],
      "execution_count": null,
      "outputs": []
    },
    {
      "cell_type": "code",
      "metadata": {
        "colab": {
          "base_uri": "https://localhost:8080/"
        },
        "id": "d3PiJXBhC5y-",
        "outputId": "02eb48dd-eadc-429a-fcf5-1541390a3229"
      },
      "source": [
        "# Get competition data\n",
        "from aimodelshare import download_data\n",
        "download_data('public.ecr.aws/y2e2a1d6/sports_clips_competition_data-repository:latest') "
      ],
      "execution_count": 2,
      "outputs": [
        {
          "output_type": "stream",
          "name": "stdout",
          "text": [
            "Downloading [================================================>]\n",
            "\n",
            "Data downloaded successfully.\n"
          ]
        }
      ]
    },
    {
      "cell_type": "markdown",
      "metadata": {
        "id": "gEzPoXPj3V7u"
      },
      "source": [
        "##2.   Preprocess data / Write and Save Preprocessor function\n"
      ]
    },
    {
      "cell_type": "code",
      "source": [
        "def preprocessor(video, num_frames=60, gap_frames=3, **kwargs):\n",
        "\n",
        "    \"\"\"\n",
        "      This function preprocesses the data to extract frames out of each video and resize\n",
        "      them to a fixed size of (128x128) pixels. Moreover, these images are flattened out to\n",
        "      act as features for each time step.\n",
        "      \n",
        "      params:\n",
        "          video_list\n",
        "              location of video files to be processed\n",
        "\n",
        "          num_frames\n",
        "              the number of frames to be extracted from each video. If there aren't\n",
        "              sufficient frames, then the list is padded with zeros\n",
        "              \n",
        "          gap_frames:\n",
        "              the number of frames after which we extract the next frame. If =1,\n",
        "              contiguous frames are extracted\n",
        "              \n",
        "      returns:\n",
        "          X\n",
        "              list of transformed features corresponding to data passed as input\n",
        "      \n",
        "    \"\"\"\n",
        "\n",
        "    import cv2\n",
        "    import numpy as np\n",
        "\n",
        "    vidcap = cv2.VideoCapture(video)\n",
        "    \n",
        "    frames = []\n",
        "\n",
        "    success, frame = vidcap.read()\n",
        "    idx = 0\n",
        "\n",
        "    while success:\n",
        "        # for each frame, do if we satisfy the gap_frames parameter\n",
        "        if idx % gap_frames == 0:\n",
        "            # convert to RGB (default cv2 is BGR)\n",
        "            # this is important because the vgg model is trained on RGB images\n",
        "            frame = cv2.cvtColor(frame, cv2.COLOR_BGR2RGB)\n",
        "            frame = cv2.resize(frame, (128, 128))\n",
        "\n",
        "            # extract features for the resized image\n",
        "            frame = frame / 255.0 # Min-max transform.\n",
        "\n",
        "            # flatten the features and append to a list of features for this video\n",
        "            frame = frame.reshape(-1)\n",
        "\n",
        "            frames.append(frame)\n",
        "\n",
        "            if len(frames) >= num_frames:\n",
        "                break\n",
        "\n",
        "        idx += 1\n",
        "        success, frame = vidcap.read()\n",
        "\n",
        "    # if number of timesteps or frames < num_frames, pad\n",
        "    while len(frames) < num_frames:\n",
        "        frames.append(np.zeros(*frames[-1].shape))\n",
        "\n",
        "    X = np.array(frames)\n",
        "    X = np.expand_dims(X, axis=0)\n",
        "    X = np.array(X, dtype=np.float32)\n",
        "\n",
        "    return X"
      ],
      "metadata": {
        "id": "zJMxj9wgvtLk"
      },
      "execution_count": 3,
      "outputs": []
    },
    {
      "cell_type": "code",
      "source": [
        "## Prepare data: \n",
        "# Unzip video clips\n",
        "import zipfile\n",
        "with zipfile.ZipFile('sports_clips_competition_data/clips_test.zip', 'r') as zip_ref:\n",
        "    zip_ref.extractall('X_test_clips')\n",
        "\n",
        "with zipfile.ZipFile('sports_clips_competition_data/clips_train.zip', 'r') as zip_ref:\n",
        "    zip_ref.extractall('X_train_clips')\n",
        "\n",
        "# Preprocess clips\n",
        "import numpy as np\n",
        "file_names_test = [('X_test_clips/clips_test/' + str(i) + '.avi') for i in range(1, 46)]\n",
        "preprocessed_test_data = [preprocessor(x) for x in file_names_test]\n",
        "\n",
        "file_names_train = [('X_train_clips/clips_train/' + str(i) + '.avi') for i in range(1, 106)]\n",
        "preprocessed_train_data = [preprocessor(x) for x in file_names_train]\n",
        "\n",
        "#Create arrays from preprocessed videos\n",
        "X_test = np.vstack(preprocessed_test_data) \n",
        "X_train = np.vstack(preprocessed_train_data) "
      ],
      "metadata": {
        "id": "6s3jyXB_9ozG"
      },
      "execution_count": 4,
      "outputs": []
    },
    {
      "cell_type": "code",
      "metadata": {
        "id": "jT0qFCZFNzHq",
        "colab": {
          "base_uri": "https://localhost:8080/",
          "height": 169
        },
        "outputId": "dca6b482-cfcc-4d46-f43d-fe9c50542fdc"
      },
      "source": [
        "# prepare y_train\n",
        "import pandas as pd \n",
        "\n",
        "y_train = pd.read_csv(\"sports_clips_competition_data/y_train.csv\")\n",
        "y_train.head()"
      ],
      "execution_count": 5,
      "outputs": [
        {
          "output_type": "execute_result",
          "data": {
            "text/html": [
              "\n",
              "  <div id=\"df-03d87892-65e8-4fec-ba84-8e38f507d15f\">\n",
              "    <div class=\"colab-df-container\">\n",
              "      <div>\n",
              "<style scoped>\n",
              "    .dataframe tbody tr th:only-of-type {\n",
              "        vertical-align: middle;\n",
              "    }\n",
              "\n",
              "    .dataframe tbody tr th {\n",
              "        vertical-align: top;\n",
              "    }\n",
              "\n",
              "    .dataframe thead th {\n",
              "        text-align: right;\n",
              "    }\n",
              "</style>\n",
              "<table border=\"1\" class=\"dataframe\">\n",
              "  <thead>\n",
              "    <tr style=\"text-align: right;\">\n",
              "      <th></th>\n",
              "      <th>horserace</th>\n",
              "      <th>kayaking</th>\n",
              "      <th>pullups</th>\n",
              "    </tr>\n",
              "  </thead>\n",
              "  <tbody>\n",
              "    <tr>\n",
              "      <th>0</th>\n",
              "      <td>0</td>\n",
              "      <td>1</td>\n",
              "      <td>0</td>\n",
              "    </tr>\n",
              "    <tr>\n",
              "      <th>1</th>\n",
              "      <td>0</td>\n",
              "      <td>0</td>\n",
              "      <td>1</td>\n",
              "    </tr>\n",
              "    <tr>\n",
              "      <th>2</th>\n",
              "      <td>0</td>\n",
              "      <td>0</td>\n",
              "      <td>1</td>\n",
              "    </tr>\n",
              "    <tr>\n",
              "      <th>3</th>\n",
              "      <td>0</td>\n",
              "      <td>1</td>\n",
              "      <td>0</td>\n",
              "    </tr>\n",
              "    <tr>\n",
              "      <th>4</th>\n",
              "      <td>0</td>\n",
              "      <td>0</td>\n",
              "      <td>1</td>\n",
              "    </tr>\n",
              "  </tbody>\n",
              "</table>\n",
              "</div>\n",
              "      <button class=\"colab-df-convert\" onclick=\"convertToInteractive('df-03d87892-65e8-4fec-ba84-8e38f507d15f')\"\n",
              "              title=\"Convert this dataframe to an interactive table.\"\n",
              "              style=\"display:none;\">\n",
              "        \n",
              "  <svg xmlns=\"http://www.w3.org/2000/svg\" height=\"24px\"viewBox=\"0 0 24 24\"\n",
              "       width=\"24px\">\n",
              "    <path d=\"M0 0h24v24H0V0z\" fill=\"none\"/>\n",
              "    <path d=\"M18.56 5.44l.94 2.06.94-2.06 2.06-.94-2.06-.94-.94-2.06-.94 2.06-2.06.94zm-11 1L8.5 8.5l.94-2.06 2.06-.94-2.06-.94L8.5 2.5l-.94 2.06-2.06.94zm10 10l.94 2.06.94-2.06 2.06-.94-2.06-.94-.94-2.06-.94 2.06-2.06.94z\"/><path d=\"M17.41 7.96l-1.37-1.37c-.4-.4-.92-.59-1.43-.59-.52 0-1.04.2-1.43.59L10.3 9.45l-7.72 7.72c-.78.78-.78 2.05 0 2.83L4 21.41c.39.39.9.59 1.41.59.51 0 1.02-.2 1.41-.59l7.78-7.78 2.81-2.81c.8-.78.8-2.07 0-2.86zM5.41 20L4 18.59l7.72-7.72 1.47 1.35L5.41 20z\"/>\n",
              "  </svg>\n",
              "      </button>\n",
              "      \n",
              "  <style>\n",
              "    .colab-df-container {\n",
              "      display:flex;\n",
              "      flex-wrap:wrap;\n",
              "      gap: 12px;\n",
              "    }\n",
              "\n",
              "    .colab-df-convert {\n",
              "      background-color: #E8F0FE;\n",
              "      border: none;\n",
              "      border-radius: 50%;\n",
              "      cursor: pointer;\n",
              "      display: none;\n",
              "      fill: #1967D2;\n",
              "      height: 32px;\n",
              "      padding: 0 0 0 0;\n",
              "      width: 32px;\n",
              "    }\n",
              "\n",
              "    .colab-df-convert:hover {\n",
              "      background-color: #E2EBFA;\n",
              "      box-shadow: 0px 1px 2px rgba(60, 64, 67, 0.3), 0px 1px 3px 1px rgba(60, 64, 67, 0.15);\n",
              "      fill: #174EA6;\n",
              "    }\n",
              "\n",
              "    [theme=dark] .colab-df-convert {\n",
              "      background-color: #3B4455;\n",
              "      fill: #D2E3FC;\n",
              "    }\n",
              "\n",
              "    [theme=dark] .colab-df-convert:hover {\n",
              "      background-color: #434B5C;\n",
              "      box-shadow: 0px 1px 3px 1px rgba(0, 0, 0, 0.15);\n",
              "      filter: drop-shadow(0px 1px 2px rgba(0, 0, 0, 0.3));\n",
              "      fill: #FFFFFF;\n",
              "    }\n",
              "  </style>\n",
              "\n",
              "      <script>\n",
              "        const buttonEl =\n",
              "          document.querySelector('#df-03d87892-65e8-4fec-ba84-8e38f507d15f button.colab-df-convert');\n",
              "        buttonEl.style.display =\n",
              "          google.colab.kernel.accessAllowed ? 'block' : 'none';\n",
              "\n",
              "        async function convertToInteractive(key) {\n",
              "          const element = document.querySelector('#df-03d87892-65e8-4fec-ba84-8e38f507d15f');\n",
              "          const dataTable =\n",
              "            await google.colab.kernel.invokeFunction('convertToInteractive',\n",
              "                                                     [key], {});\n",
              "          if (!dataTable) return;\n",
              "\n",
              "          const docLinkHtml = 'Like what you see? Visit the ' +\n",
              "            '<a target=\"_blank\" href=https://colab.research.google.com/notebooks/data_table.ipynb>data table notebook</a>'\n",
              "            + ' to learn more about interactive tables.';\n",
              "          element.innerHTML = '';\n",
              "          dataTable['output_type'] = 'display_data';\n",
              "          await google.colab.output.renderOutput(dataTable, element);\n",
              "          const docLink = document.createElement('div');\n",
              "          docLink.innerHTML = docLinkHtml;\n",
              "          element.appendChild(docLink);\n",
              "        }\n",
              "      </script>\n",
              "    </div>\n",
              "  </div>\n",
              "  "
            ],
            "text/plain": [
              "   horserace  kayaking  pullups\n",
              "0          0         1        0\n",
              "1          0         0        1\n",
              "2          0         0        1\n",
              "3          0         1        0\n",
              "4          0         0        1"
            ]
          },
          "metadata": {},
          "execution_count": 5
        }
      ]
    },
    {
      "cell_type": "code",
      "source": [
        "# Check shape \n",
        "\n",
        "print(X_train.shape)\n",
        "print(X_test.shape)\n",
        "print(y_train.shape)"
      ],
      "metadata": {
        "id": "O9Y8_QIHwqw9",
        "colab": {
          "base_uri": "https://localhost:8080/"
        },
        "outputId": "b0d12759-dba6-4b72-aad7-8630f5c1a64e"
      },
      "execution_count": 6,
      "outputs": [
        {
          "output_type": "stream",
          "name": "stdout",
          "text": [
            "(105, 60, 49152)\n",
            "(45, 60, 49152)\n",
            "(105, 3)\n"
          ]
        }
      ]
    },
    {
      "cell_type": "markdown",
      "metadata": {
        "id": "X52kECL43b-O"
      },
      "source": [
        "##3. Fit model on preprocessed data and save preprocessor function and model \n"
      ]
    },
    {
      "cell_type": "code",
      "metadata": {
        "colab": {
          "base_uri": "https://localhost:8080/"
        },
        "id": "NCbBf8j9ClYl",
        "outputId": "39db64c1-a29d-40d6-ccf0-d490a8a893e7"
      },
      "source": [
        "import tensorflow as tf\n",
        "from tensorflow.keras.models import Sequential\n",
        "from tensorflow.keras.layers import Dense, Activation, Dropout\n",
        "from keras.layers import LSTM\n",
        "\n",
        "# defining the model\n",
        "hidden_size = 50\n",
        "dense_out_1 = 20\n",
        "dense_out_2 = 3\n",
        "\n",
        "video_1 = Sequential()\n",
        "video_1.add(LSTM(hidden_size))\n",
        "video_1.add(Dense(dense_out_1, activation=\"relu\"))\n",
        "video_1.add(Dense(dense_out_2, activation=\"softmax\"))\n",
        "\n",
        "video_1.compile(loss=\"categorical_crossentropy\", optimizer=\"adam\", metrics=[\"accuracy\"])\n",
        "\n",
        "with tf.device('/device:GPU:0'): #\"/GPU:0\": Short-hand notation for the first GPU of your machine that is visible to TensorFlow.\n",
        "\n",
        "  history = video_1.fit(\n",
        "      X_train,\n",
        "      y_train,\n",
        "      epochs=1,\n",
        "      batch_size=1,\n",
        "      validation_split=0.2,\n",
        "      verbose=2)"
      ],
      "execution_count": null,
      "outputs": [
        {
          "output_type": "stream",
          "name": "stdout",
          "text": [
            "84/84 - 109s - loss: 1.0101 - accuracy: 0.5714 - val_loss: 0.8027 - val_accuracy: 0.6667 - 109s/epoch - 1s/step\n"
          ]
        }
      ]
    },
    {
      "cell_type": "markdown",
      "metadata": {
        "id": "zmJAnmO-5AcU"
      },
      "source": [
        "#### Save preprocessor function to local \"preprocessor.zip\" file"
      ]
    },
    {
      "cell_type": "code",
      "metadata": {
        "colab": {
          "base_uri": "https://localhost:8080/"
        },
        "id": "4VGacc0LDaMA",
        "outputId": "91a95d58-74d0-43d7-c577-1bb1c269de89"
      },
      "source": [
        "import aimodelshare as ai\n",
        "ai.export_preprocessor(preprocessor,\"\") "
      ],
      "execution_count": null,
      "outputs": [
        {
          "output_type": "stream",
          "name": "stdout",
          "text": [
            "Your preprocessor is now saved to 'preprocessor.zip'\n"
          ]
        }
      ]
    },
    {
      "cell_type": "markdown",
      "metadata": {
        "id": "oOWBa8Cv5LdL"
      },
      "source": [
        "#### Save model to local \".onnx\" file"
      ]
    },
    {
      "cell_type": "code",
      "metadata": {
        "id": "pEhvnRiQDlY5"
      },
      "source": [
        "# Save keras model to local ONNX file\n",
        "from aimodelshare.aimsonnx import model_to_onnx\n",
        "\n",
        "onnx_model = model_to_onnx(video_1, framework='keras',\n",
        "                          transfer_learning=False,\n",
        "                          deep_learning=True)\n",
        "\n",
        "with open(\"model.onnx\", \"wb\") as f:\n",
        "    f.write(onnx_model.SerializeToString())"
      ],
      "execution_count": null,
      "outputs": []
    },
    {
      "cell_type": "markdown",
      "metadata": {
        "id": "gHWkAzvX3m8O"
      },
      "source": [
        "## 4. Generate predictions from X_test data and submit model to competition\n"
      ]
    },
    {
      "cell_type": "code",
      "metadata": {
        "colab": {
          "base_uri": "https://localhost:8080/"
        },
        "id": "RtgkM02MDpkO",
        "outputId": "b4d0f8fd-9d18-49ce-f7e4-8f45f506ec95"
      },
      "source": [
        "#Set credentials using modelshare.org username/password\n",
        "\n",
        "from aimodelshare.aws import set_credentials\n",
        "    \n",
        "apiurl=\"https://igrdbre6d6.execute-api.us-east-1.amazonaws.com/prod/m\" #This is the unique rest api that powers this Sports Clips Classification Model Playground\n",
        "\n",
        "set_credentials(apiurl=apiurl)"
      ],
      "execution_count": null,
      "outputs": [
        {
          "output_type": "stream",
          "name": "stdout",
          "text": [
            "AI Modelshare Username:··········\n",
            "AI Modelshare Password:··········\n",
            "AI Model Share login credentials set successfully.\n"
          ]
        }
      ]
    },
    {
      "cell_type": "code",
      "metadata": {
        "id": "fKNGSww8EGgi"
      },
      "source": [
        "#Instantiate Competition\n",
        "\n",
        "mycompetition= ai.Competition(apiurl)"
      ],
      "execution_count": null,
      "outputs": []
    },
    {
      "cell_type": "code",
      "metadata": {
        "id": "_Ql4wksyEUnP",
        "colab": {
          "base_uri": "https://localhost:8080/"
        },
        "outputId": "ff787ce5-73aa-4d61-f778-43846cd41319"
      },
      "source": [
        "#Submit Model 1: \n",
        "\n",
        "#-- Generate predicted y values (Model 1)\n",
        "#Note: Keras predict returns the predicted column index location for classification models\n",
        "prediction_column_index=video_1.predict(X_test).argmax(axis=1)\n",
        "\n",
        "# extract correct prediction labels \n",
        "prediction_labels = [y_train.columns[i] for i in prediction_column_index]\n",
        "\n",
        "# Submit Model 1 to Competition Leaderboard\n",
        "mycompetition.submit_model(model_filepath = \"model.onnx\",\n",
        "                                 preprocessor_filepath=\"preprocessor.zip\",\n",
        "                                 prediction_submission=prediction_labels)"
      ],
      "execution_count": null,
      "outputs": [
        {
          "output_type": "stream",
          "name": "stdout",
          "text": [
            "Insert search tags to help users find your model (optional): \n",
            "Provide any useful notes about your model (optional): \n",
            "\n",
            "Your model has been submitted as model version 3\n",
            "\n",
            "To submit code used to create this model or to view current leaderboard navigate to Model Playground: \n",
            "\n",
            " https://www.modelshare.org/detail/model:1041\n"
          ]
        }
      ]
    },
    {
      "cell_type": "code",
      "metadata": {
        "colab": {
          "base_uri": "https://localhost:8080/",
          "height": 222
        },
        "id": "GN1zvAmNEq17",
        "outputId": "901b41d1-499d-4d50-8507-4fef11817ca4"
      },
      "source": [
        "# Get leaderboard to explore current best model architectures\n",
        "\n",
        "# Get raw data in pandas data frame\n",
        "data = mycompetition.get_leaderboard()\n",
        "\n",
        "# Stylize leaderboard data\n",
        "mycompetition.stylize_leaderboard(data)"
      ],
      "execution_count": null,
      "outputs": [
        {
          "output_type": "execute_result",
          "data": {
            "text/html": [
              "<style  type=\"text/css\" >\n",
              "#T_2559729c_6e98_11ec_8db6_0242ac1c0002row0_col0{\n",
              "            text-align:  center;\n",
              "            width:  10em;\n",
              "             height:  80%;\n",
              "            background:  linear-gradient(90deg,#f5f8d6 57.8%, transparent 57.8%);\n",
              "            color:  #251e1b;\n",
              "            font-size:  12px;\n",
              "        }#T_2559729c_6e98_11ec_8db6_0242ac1c0002row0_col1{\n",
              "            text-align:  center;\n",
              "            width:  10em;\n",
              "             height:  80%;\n",
              "            background:  linear-gradient(90deg,#c778c8 46.1%, transparent 46.1%);\n",
              "            color:  #251e1b;\n",
              "            font-size:  12px;\n",
              "        }#T_2559729c_6e98_11ec_8db6_0242ac1c0002row0_col2{\n",
              "            text-align:  center;\n",
              "            width:  10em;\n",
              "             height:  80%;\n",
              "            background:  linear-gradient(90deg,#ff4971 46.3%, transparent 46.3%);\n",
              "            color:  #251e1b;\n",
              "            font-size:  12px;\n",
              "        }#T_2559729c_6e98_11ec_8db6_0242ac1c0002row0_col3{\n",
              "            text-align:  center;\n",
              "            width:  10em;\n",
              "             height:  80%;\n",
              "            background:  linear-gradient(90deg,#aadbaa 52.1%, transparent 52.1%);\n",
              "            color:  #251e1b;\n",
              "            font-size:  12px;\n",
              "        }#T_2559729c_6e98_11ec_8db6_0242ac1c0002row0_col4,#T_2559729c_6e98_11ec_8db6_0242ac1c0002row0_col5,#T_2559729c_6e98_11ec_8db6_0242ac1c0002row0_col6,#T_2559729c_6e98_11ec_8db6_0242ac1c0002row0_col7,#T_2559729c_6e98_11ec_8db6_0242ac1c0002row0_col8,#T_2559729c_6e98_11ec_8db6_0242ac1c0002row0_col9,#T_2559729c_6e98_11ec_8db6_0242ac1c0002row0_col10,#T_2559729c_6e98_11ec_8db6_0242ac1c0002row0_col11,#T_2559729c_6e98_11ec_8db6_0242ac1c0002row0_col12,#T_2559729c_6e98_11ec_8db6_0242ac1c0002row0_col13,#T_2559729c_6e98_11ec_8db6_0242ac1c0002row0_col14,#T_2559729c_6e98_11ec_8db6_0242ac1c0002row0_col15,#T_2559729c_6e98_11ec_8db6_0242ac1c0002row0_col16,#T_2559729c_6e98_11ec_8db6_0242ac1c0002row0_col17,#T_2559729c_6e98_11ec_8db6_0242ac1c0002row0_col18,#T_2559729c_6e98_11ec_8db6_0242ac1c0002row0_col19,#T_2559729c_6e98_11ec_8db6_0242ac1c0002row0_col20,#T_2559729c_6e98_11ec_8db6_0242ac1c0002row1_col4,#T_2559729c_6e98_11ec_8db6_0242ac1c0002row1_col5,#T_2559729c_6e98_11ec_8db6_0242ac1c0002row1_col6,#T_2559729c_6e98_11ec_8db6_0242ac1c0002row1_col7,#T_2559729c_6e98_11ec_8db6_0242ac1c0002row1_col8,#T_2559729c_6e98_11ec_8db6_0242ac1c0002row1_col9,#T_2559729c_6e98_11ec_8db6_0242ac1c0002row1_col10,#T_2559729c_6e98_11ec_8db6_0242ac1c0002row1_col11,#T_2559729c_6e98_11ec_8db6_0242ac1c0002row1_col12,#T_2559729c_6e98_11ec_8db6_0242ac1c0002row1_col13,#T_2559729c_6e98_11ec_8db6_0242ac1c0002row1_col14,#T_2559729c_6e98_11ec_8db6_0242ac1c0002row1_col15,#T_2559729c_6e98_11ec_8db6_0242ac1c0002row1_col16,#T_2559729c_6e98_11ec_8db6_0242ac1c0002row1_col17,#T_2559729c_6e98_11ec_8db6_0242ac1c0002row1_col18,#T_2559729c_6e98_11ec_8db6_0242ac1c0002row1_col19,#T_2559729c_6e98_11ec_8db6_0242ac1c0002row1_col20,#T_2559729c_6e98_11ec_8db6_0242ac1c0002row2_col4,#T_2559729c_6e98_11ec_8db6_0242ac1c0002row2_col5,#T_2559729c_6e98_11ec_8db6_0242ac1c0002row2_col6,#T_2559729c_6e98_11ec_8db6_0242ac1c0002row2_col7,#T_2559729c_6e98_11ec_8db6_0242ac1c0002row2_col8,#T_2559729c_6e98_11ec_8db6_0242ac1c0002row2_col9,#T_2559729c_6e98_11ec_8db6_0242ac1c0002row2_col10,#T_2559729c_6e98_11ec_8db6_0242ac1c0002row2_col11,#T_2559729c_6e98_11ec_8db6_0242ac1c0002row2_col12,#T_2559729c_6e98_11ec_8db6_0242ac1c0002row2_col13,#T_2559729c_6e98_11ec_8db6_0242ac1c0002row2_col14,#T_2559729c_6e98_11ec_8db6_0242ac1c0002row2_col15,#T_2559729c_6e98_11ec_8db6_0242ac1c0002row2_col16,#T_2559729c_6e98_11ec_8db6_0242ac1c0002row2_col17,#T_2559729c_6e98_11ec_8db6_0242ac1c0002row2_col18,#T_2559729c_6e98_11ec_8db6_0242ac1c0002row2_col19,#T_2559729c_6e98_11ec_8db6_0242ac1c0002row2_col20{\n",
              "            text-align:  center;\n",
              "        }#T_2559729c_6e98_11ec_8db6_0242ac1c0002row1_col0,#T_2559729c_6e98_11ec_8db6_0242ac1c0002row2_col0{\n",
              "            text-align:  center;\n",
              "            width:  10em;\n",
              "             height:  80%;\n",
              "            background:  linear-gradient(90deg,#f5f8d6 48.9%, transparent 48.9%);\n",
              "            color:  #251e1b;\n",
              "            font-size:  12px;\n",
              "        }#T_2559729c_6e98_11ec_8db6_0242ac1c0002row1_col1{\n",
              "            text-align:  center;\n",
              "            width:  10em;\n",
              "             height:  80%;\n",
              "            background:  linear-gradient(90deg,#c778c8 45.9%, transparent 45.9%);\n",
              "            color:  #251e1b;\n",
              "            font-size:  12px;\n",
              "        }#T_2559729c_6e98_11ec_8db6_0242ac1c0002row1_col2{\n",
              "            text-align:  center;\n",
              "            width:  10em;\n",
              "             height:  80%;\n",
              "            background:  linear-gradient(90deg,#ff4971 59.0%, transparent 59.0%);\n",
              "            color:  #251e1b;\n",
              "            font-size:  12px;\n",
              "        }#T_2559729c_6e98_11ec_8db6_0242ac1c0002row1_col3{\n",
              "            text-align:  center;\n",
              "            width:  10em;\n",
              "             height:  80%;\n",
              "            background:  linear-gradient(90deg,#aadbaa 55.6%, transparent 55.6%);\n",
              "            color:  #251e1b;\n",
              "            font-size:  12px;\n",
              "        }#T_2559729c_6e98_11ec_8db6_0242ac1c0002row2_col1{\n",
              "            text-align:  center;\n",
              "            width:  10em;\n",
              "             height:  80%;\n",
              "            background:  linear-gradient(90deg,#c778c8 44.1%, transparent 44.1%);\n",
              "            color:  #251e1b;\n",
              "            font-size:  12px;\n",
              "        }#T_2559729c_6e98_11ec_8db6_0242ac1c0002row2_col2{\n",
              "            text-align:  center;\n",
              "            width:  10em;\n",
              "             height:  80%;\n",
              "            background:  linear-gradient(90deg,#ff4971 42.4%, transparent 42.4%);\n",
              "            color:  #251e1b;\n",
              "            font-size:  12px;\n",
              "        }#T_2559729c_6e98_11ec_8db6_0242ac1c0002row2_col3{\n",
              "            text-align:  center;\n",
              "            width:  10em;\n",
              "             height:  80%;\n",
              "            background:  linear-gradient(90deg,#aadbaa 56.4%, transparent 56.4%);\n",
              "            color:  #251e1b;\n",
              "            font-size:  12px;\n",
              "        }</style><table id=\"T_2559729c_6e98_11ec_8db6_0242ac1c0002\" class=\"dataframe\"><thead>    <tr>        <th class=\"blank level0\" ></th>        <th class=\"col_heading level0 col0\" >accuracy</th>        <th class=\"col_heading level0 col1\" >f1_score</th>        <th class=\"col_heading level0 col2\" >precision</th>        <th class=\"col_heading level0 col3\" >recall</th>        <th class=\"col_heading level0 col4\" >ml_framework</th>        <th class=\"col_heading level0 col5\" >transfer_learning</th>        <th class=\"col_heading level0 col6\" >deep_learning</th>        <th class=\"col_heading level0 col7\" >model_type</th>        <th class=\"col_heading level0 col8\" >depth</th>        <th class=\"col_heading level0 col9\" >num_params</th>        <th class=\"col_heading level0 col10\" >lstm_layers</th>        <th class=\"col_heading level0 col11\" >dense_layers</th>        <th class=\"col_heading level0 col12\" >relu_act</th>        <th class=\"col_heading level0 col13\" >softmax_act</th>        <th class=\"col_heading level0 col14\" >tanh_act</th>        <th class=\"col_heading level0 col15\" >loss</th>        <th class=\"col_heading level0 col16\" >optimizer</th>        <th class=\"col_heading level0 col17\" >model_config</th>        <th class=\"col_heading level0 col18\" >memory_size</th>        <th class=\"col_heading level0 col19\" >username</th>        <th class=\"col_heading level0 col20\" >version</th>    </tr></thead><tbody>\n",
              "                <tr>\n",
              "                        <th id=\"T_2559729c_6e98_11ec_8db6_0242ac1c0002level0_row0\" class=\"row_heading level0 row0\" >1</th>\n",
              "                        <td id=\"T_2559729c_6e98_11ec_8db6_0242ac1c0002row0_col0\" class=\"data row0 col0\" >57.78%</td>\n",
              "                        <td id=\"T_2559729c_6e98_11ec_8db6_0242ac1c0002row0_col1\" class=\"data row0 col1\" >46.06%</td>\n",
              "                        <td id=\"T_2559729c_6e98_11ec_8db6_0242ac1c0002row0_col2\" class=\"data row0 col2\" >46.30%</td>\n",
              "                        <td id=\"T_2559729c_6e98_11ec_8db6_0242ac1c0002row0_col3\" class=\"data row0 col3\" >52.09%</td>\n",
              "                        <td id=\"T_2559729c_6e98_11ec_8db6_0242ac1c0002row0_col4\" class=\"data row0 col4\" >keras</td>\n",
              "                        <td id=\"T_2559729c_6e98_11ec_8db6_0242ac1c0002row0_col5\" class=\"data row0 col5\" >False</td>\n",
              "                        <td id=\"T_2559729c_6e98_11ec_8db6_0242ac1c0002row0_col6\" class=\"data row0 col6\" >True</td>\n",
              "                        <td id=\"T_2559729c_6e98_11ec_8db6_0242ac1c0002row0_col7\" class=\"data row0 col7\" >Sequential</td>\n",
              "                        <td id=\"T_2559729c_6e98_11ec_8db6_0242ac1c0002row0_col8\" class=\"data row0 col8\" >3</td>\n",
              "                        <td id=\"T_2559729c_6e98_11ec_8db6_0242ac1c0002row0_col9\" class=\"data row0 col9\" >983398</td>\n",
              "                        <td id=\"T_2559729c_6e98_11ec_8db6_0242ac1c0002row0_col10\" class=\"data row0 col10\" >2</td>\n",
              "                        <td id=\"T_2559729c_6e98_11ec_8db6_0242ac1c0002row0_col11\" class=\"data row0 col11\" >1</td>\n",
              "                        <td id=\"T_2559729c_6e98_11ec_8db6_0242ac1c0002row0_col12\" class=\"data row0 col12\" >nan</td>\n",
              "                        <td id=\"T_2559729c_6e98_11ec_8db6_0242ac1c0002row0_col13\" class=\"data row0 col13\" >1</td>\n",
              "                        <td id=\"T_2559729c_6e98_11ec_8db6_0242ac1c0002row0_col14\" class=\"data row0 col14\" >2</td>\n",
              "                        <td id=\"T_2559729c_6e98_11ec_8db6_0242ac1c0002row0_col15\" class=\"data row0 col15\" >function</td>\n",
              "                        <td id=\"T_2559729c_6e98_11ec_8db6_0242ac1c0002row0_col16\" class=\"data row0 col16\" >Adam</td>\n",
              "                        <td id=\"T_2559729c_6e98_11ec_8db6_0242ac1c0002row0_col17\" class=\"data row0 col17\" >{'name': 'sequential_1', 'laye...</td>\n",
              "                        <td id=\"T_2559729c_6e98_11ec_8db6_0242ac1c0002row0_col18\" class=\"data row0 col18\" >2240704</td>\n",
              "                        <td id=\"T_2559729c_6e98_11ec_8db6_0242ac1c0002row0_col19\" class=\"data row0 col19\" >AIModelShare</td>\n",
              "                        <td id=\"T_2559729c_6e98_11ec_8db6_0242ac1c0002row0_col20\" class=\"data row0 col20\" >2</td>\n",
              "            </tr>\n",
              "            <tr>\n",
              "                        <th id=\"T_2559729c_6e98_11ec_8db6_0242ac1c0002level0_row1\" class=\"row_heading level0 row1\" >2</th>\n",
              "                        <td id=\"T_2559729c_6e98_11ec_8db6_0242ac1c0002row1_col0\" class=\"data row1 col0\" >48.89%</td>\n",
              "                        <td id=\"T_2559729c_6e98_11ec_8db6_0242ac1c0002row1_col1\" class=\"data row1 col1\" >45.86%</td>\n",
              "                        <td id=\"T_2559729c_6e98_11ec_8db6_0242ac1c0002row1_col2\" class=\"data row1 col2\" >59.04%</td>\n",
              "                        <td id=\"T_2559729c_6e98_11ec_8db6_0242ac1c0002row1_col3\" class=\"data row1 col3\" >55.60%</td>\n",
              "                        <td id=\"T_2559729c_6e98_11ec_8db6_0242ac1c0002row1_col4\" class=\"data row1 col4\" >keras</td>\n",
              "                        <td id=\"T_2559729c_6e98_11ec_8db6_0242ac1c0002row1_col5\" class=\"data row1 col5\" >False</td>\n",
              "                        <td id=\"T_2559729c_6e98_11ec_8db6_0242ac1c0002row1_col6\" class=\"data row1 col6\" >True</td>\n",
              "                        <td id=\"T_2559729c_6e98_11ec_8db6_0242ac1c0002row1_col7\" class=\"data row1 col7\" >Sequential</td>\n",
              "                        <td id=\"T_2559729c_6e98_11ec_8db6_0242ac1c0002row1_col8\" class=\"data row1 col8\" >3</td>\n",
              "                        <td id=\"T_2559729c_6e98_11ec_8db6_0242ac1c0002row1_col9\" class=\"data row1 col9\" >9841683</td>\n",
              "                        <td id=\"T_2559729c_6e98_11ec_8db6_0242ac1c0002row1_col10\" class=\"data row1 col10\" >1</td>\n",
              "                        <td id=\"T_2559729c_6e98_11ec_8db6_0242ac1c0002row1_col11\" class=\"data row1 col11\" >2</td>\n",
              "                        <td id=\"T_2559729c_6e98_11ec_8db6_0242ac1c0002row1_col12\" class=\"data row1 col12\" >1.000000</td>\n",
              "                        <td id=\"T_2559729c_6e98_11ec_8db6_0242ac1c0002row1_col13\" class=\"data row1 col13\" >1</td>\n",
              "                        <td id=\"T_2559729c_6e98_11ec_8db6_0242ac1c0002row1_col14\" class=\"data row1 col14\" >1</td>\n",
              "                        <td id=\"T_2559729c_6e98_11ec_8db6_0242ac1c0002row1_col15\" class=\"data row1 col15\" >function</td>\n",
              "                        <td id=\"T_2559729c_6e98_11ec_8db6_0242ac1c0002row1_col16\" class=\"data row1 col16\" >Adam</td>\n",
              "                        <td id=\"T_2559729c_6e98_11ec_8db6_0242ac1c0002row1_col17\" class=\"data row1 col17\" >{'name': 'sequential', 'layers...</td>\n",
              "                        <td id=\"T_2559729c_6e98_11ec_8db6_0242ac1c0002row1_col18\" class=\"data row1 col18\" >216792</td>\n",
              "                        <td id=\"T_2559729c_6e98_11ec_8db6_0242ac1c0002row1_col19\" class=\"data row1 col19\" >AIModelShare</td>\n",
              "                        <td id=\"T_2559729c_6e98_11ec_8db6_0242ac1c0002row1_col20\" class=\"data row1 col20\" >1</td>\n",
              "            </tr>\n",
              "            <tr>\n",
              "                        <th id=\"T_2559729c_6e98_11ec_8db6_0242ac1c0002level0_row2\" class=\"row_heading level0 row2\" >3</th>\n",
              "                        <td id=\"T_2559729c_6e98_11ec_8db6_0242ac1c0002row2_col0\" class=\"data row2 col0\" >48.89%</td>\n",
              "                        <td id=\"T_2559729c_6e98_11ec_8db6_0242ac1c0002row2_col1\" class=\"data row2 col1\" >44.14%</td>\n",
              "                        <td id=\"T_2559729c_6e98_11ec_8db6_0242ac1c0002row2_col2\" class=\"data row2 col2\" >42.38%</td>\n",
              "                        <td id=\"T_2559729c_6e98_11ec_8db6_0242ac1c0002row2_col3\" class=\"data row2 col3\" >56.41%</td>\n",
              "                        <td id=\"T_2559729c_6e98_11ec_8db6_0242ac1c0002row2_col4\" class=\"data row2 col4\" >keras</td>\n",
              "                        <td id=\"T_2559729c_6e98_11ec_8db6_0242ac1c0002row2_col5\" class=\"data row2 col5\" >False</td>\n",
              "                        <td id=\"T_2559729c_6e98_11ec_8db6_0242ac1c0002row2_col6\" class=\"data row2 col6\" >True</td>\n",
              "                        <td id=\"T_2559729c_6e98_11ec_8db6_0242ac1c0002row2_col7\" class=\"data row2 col7\" >Sequential</td>\n",
              "                        <td id=\"T_2559729c_6e98_11ec_8db6_0242ac1c0002row2_col8\" class=\"data row2 col8\" >3</td>\n",
              "                        <td id=\"T_2559729c_6e98_11ec_8db6_0242ac1c0002row2_col9\" class=\"data row2 col9\" >9841683</td>\n",
              "                        <td id=\"T_2559729c_6e98_11ec_8db6_0242ac1c0002row2_col10\" class=\"data row2 col10\" >1</td>\n",
              "                        <td id=\"T_2559729c_6e98_11ec_8db6_0242ac1c0002row2_col11\" class=\"data row2 col11\" >2</td>\n",
              "                        <td id=\"T_2559729c_6e98_11ec_8db6_0242ac1c0002row2_col12\" class=\"data row2 col12\" >1.000000</td>\n",
              "                        <td id=\"T_2559729c_6e98_11ec_8db6_0242ac1c0002row2_col13\" class=\"data row2 col13\" >1</td>\n",
              "                        <td id=\"T_2559729c_6e98_11ec_8db6_0242ac1c0002row2_col14\" class=\"data row2 col14\" >1</td>\n",
              "                        <td id=\"T_2559729c_6e98_11ec_8db6_0242ac1c0002row2_col15\" class=\"data row2 col15\" >str</td>\n",
              "                        <td id=\"T_2559729c_6e98_11ec_8db6_0242ac1c0002row2_col16\" class=\"data row2 col16\" >Adam</td>\n",
              "                        <td id=\"T_2559729c_6e98_11ec_8db6_0242ac1c0002row2_col17\" class=\"data row2 col17\" >{'name': 'sequential_2', 'laye...</td>\n",
              "                        <td id=\"T_2559729c_6e98_11ec_8db6_0242ac1c0002row2_col18\" class=\"data row2 col18\" >5242560</td>\n",
              "                        <td id=\"T_2559729c_6e98_11ec_8db6_0242ac1c0002row2_col19\" class=\"data row2 col19\" >gstreett</td>\n",
              "                        <td id=\"T_2559729c_6e98_11ec_8db6_0242ac1c0002row2_col20\" class=\"data row2 col20\" >3</td>\n",
              "            </tr>\n",
              "    </tbody></table>"
            ],
            "text/plain": [
              "<pandas.io.formats.style.Styler at 0x7f244455bf90>"
            ]
          },
          "metadata": {},
          "execution_count": 21
        }
      ]
    },
    {
      "cell_type": "markdown",
      "metadata": {
        "id": "bwNKs0wP4r5s"
      },
      "source": [
        "## 5. Repeat submission process to improve place on leaderboard\n"
      ]
    },
    {
      "cell_type": "code",
      "metadata": {
        "colab": {
          "base_uri": "https://localhost:8080/"
        },
        "id": "FgSs5PAtPCZH",
        "outputId": "6120b5bf-355f-44cc-bbb2-9a8312498701"
      },
      "source": [
        "# Train and submit model 2 using same preprocessor (note that you could save a new preprocessor, but we will use the same one for this example).\n",
        "\n",
        "# defining the model\n",
        "import tensorflow as tf\n",
        "from tensorflow.keras.models import Sequential\n",
        "from tensorflow.keras.layers import Dense, Activation, Dropout\n",
        "from keras.layers import LSTM\n",
        "\n",
        "hidden_size = 5\n",
        "dense_out = 3\n",
        "\n",
        "video_2 = Sequential()\n",
        "video_2.add(LSTM(hidden_size, return_sequences=True, dropout=.2, input_shape=(60, 49152)))\n",
        "video_2.add(LSTM(hidden_size, dropout=.2))\n",
        "video_2.add(Dense(dense_out, activation=\"softmax\"))\n",
        "\n",
        "video_2.compile(loss=\"categorical_crossentropy\", optimizer=\"adam\", metrics=[\"accuracy\"])\n",
        "\n",
        "with tf.device('/device:GPU:0'):\n",
        "\n",
        "  history = video_2.fit(\n",
        "      X_train,\n",
        "      y_train,\n",
        "      epochs=1,\n",
        "      batch_size=1,\n",
        "      validation_split=0.2,\n",
        "      verbose=2\n",
        "  )"
      ],
      "execution_count": null,
      "outputs": [
        {
          "output_type": "stream",
          "name": "stdout",
          "text": [
            "84/84 - 18s - loss: 1.0765 - accuracy: 0.4167 - val_loss: 1.0703 - val_accuracy: 0.5238 - 18s/epoch - 209ms/step\n"
          ]
        }
      ]
    },
    {
      "cell_type": "code",
      "metadata": {
        "id": "aIdmSpYVPYAw"
      },
      "source": [
        "# Save keras model to local ONNX file\n",
        "from aimodelshare.aimsonnx import model_to_onnx\n",
        "\n",
        "onnx_model = model_to_onnx(video_2, framework='keras',\n",
        "                          transfer_learning=False,\n",
        "                          deep_learning=True)\n",
        "\n",
        "with open(\"model2.onnx\", \"wb\") as f:\n",
        "    f.write(onnx_model.SerializeToString())"
      ],
      "execution_count": null,
      "outputs": []
    },
    {
      "cell_type": "code",
      "metadata": {
        "colab": {
          "base_uri": "https://localhost:8080/"
        },
        "id": "nszPPrfwPlUk",
        "outputId": "3495fadb-e21e-446b-dc86-3fe2850f2db5"
      },
      "source": [
        "#Submit Model 2: \n",
        "\n",
        "#-- Generate predicted y values (Model 2)\n",
        "prediction_column_index=video_2.predict(X_test).argmax(axis=1)\n",
        "\n",
        "# extract correct prediction labels \n",
        "prediction_labels = [y_train.columns[i] for i in prediction_column_index]\n",
        "\n",
        "# Submit Model 2 to Competition Leaderboard\n",
        "mycompetition.submit_model(model_filepath = \"model2.onnx\",\n",
        "                                 preprocessor_filepath=\"preprocessor.zip\",\n",
        "                                 prediction_submission=prediction_labels)"
      ],
      "execution_count": null,
      "outputs": [
        {
          "output_type": "stream",
          "name": "stdout",
          "text": [
            "Insert search tags to help users find your model (optional): \n",
            "Provide any useful notes about your model (optional): \n",
            "\n",
            "Your model has been submitted as model version 4\n",
            "\n",
            "To submit code used to create this model or to view current leaderboard navigate to Model Playground: \n",
            "\n",
            " https://www.modelshare.org/detail/model:1041\n"
          ]
        }
      ]
    },
    {
      "cell_type": "code",
      "metadata": {
        "colab": {
          "base_uri": "https://localhost:8080/",
          "height": 108
        },
        "id": "qLl7yLpVEx26",
        "outputId": "9273e166-966c-4e3f-b626-fc1008ced2de"
      },
      "source": [
        "# Compare two or more models \n",
        "data=mycompetition.compare_models([3,4], verbose=1)\n",
        "mycompetition.stylize_compare(data)"
      ],
      "execution_count": null,
      "outputs": [
        {
          "output_type": "display_data",
          "data": {
            "text/html": [
              "<style  type=\"text/css\" >\n",
              "    #T_3323417c_6e99_11ec_8db6_0242ac1c0002 caption {\n",
              "          color: black;\n",
              "          font-size: 18px;\n",
              "    }#T_3323417c_6e99_11ec_8db6_0242ac1c0002row0_col0,#T_3323417c_6e99_11ec_8db6_0242ac1c0002row0_col3,#T_3323417c_6e99_11ec_8db6_0242ac1c0002row1_col3{\n",
              "            background:  #cbd5e8;\n",
              "            color:  black;\n",
              "            color:  black;\n",
              "        }#T_3323417c_6e99_11ec_8db6_0242ac1c0002row0_col1,#T_3323417c_6e99_11ec_8db6_0242ac1c0002row0_col2,#T_3323417c_6e99_11ec_8db6_0242ac1c0002row0_col4,#T_3323417c_6e99_11ec_8db6_0242ac1c0002row0_col5,#T_3323417c_6e99_11ec_8db6_0242ac1c0002row1_col1,#T_3323417c_6e99_11ec_8db6_0242ac1c0002row1_col2,#T_3323417c_6e99_11ec_8db6_0242ac1c0002row1_col4,#T_3323417c_6e99_11ec_8db6_0242ac1c0002row1_col5,#T_3323417c_6e99_11ec_8db6_0242ac1c0002row2_col1,#T_3323417c_6e99_11ec_8db6_0242ac1c0002row2_col2,#T_3323417c_6e99_11ec_8db6_0242ac1c0002row2_col4,#T_3323417c_6e99_11ec_8db6_0242ac1c0002row2_col5{\n",
              "            background:  white;\n",
              "            color:  black;\n",
              "            color:  black;\n",
              "        }#T_3323417c_6e99_11ec_8db6_0242ac1c0002row1_col0,#T_3323417c_6e99_11ec_8db6_0242ac1c0002row2_col0,#T_3323417c_6e99_11ec_8db6_0242ac1c0002row2_col3{\n",
              "            background:  #fff2ae;\n",
              "            color:  black;\n",
              "            color:  black;\n",
              "        }</style><table id=\"T_3323417c_6e99_11ec_8db6_0242ac1c0002\" ><caption>Model type: Neural Network</caption><thead>    <tr>        <th class=\"blank level0\" ></th>        <th class=\"col_heading level0 col0\" >Model_3_Layer</th>        <th class=\"col_heading level0 col1\" >Model_3_Shape</th>        <th class=\"col_heading level0 col2\" >Model_3_Params</th>        <th class=\"col_heading level0 col3\" >Model_4_Layer</th>        <th class=\"col_heading level0 col4\" >Model_4_Shape</th>        <th class=\"col_heading level0 col5\" >Model_4_Params</th>    </tr></thead><tbody>\n",
              "                <tr>\n",
              "                        <th id=\"T_3323417c_6e99_11ec_8db6_0242ac1c0002level0_row0\" class=\"row_heading level0 row0\" >0</th>\n",
              "                        <td id=\"T_3323417c_6e99_11ec_8db6_0242ac1c0002row0_col0\" class=\"data row0 col0\" >LSTM</td>\n",
              "                        <td id=\"T_3323417c_6e99_11ec_8db6_0242ac1c0002row0_col1\" class=\"data row0 col1\" >[None, 50]</td>\n",
              "                        <td id=\"T_3323417c_6e99_11ec_8db6_0242ac1c0002row0_col2\" class=\"data row0 col2\" >9840600</td>\n",
              "                        <td id=\"T_3323417c_6e99_11ec_8db6_0242ac1c0002row0_col3\" class=\"data row0 col3\" >LSTM</td>\n",
              "                        <td id=\"T_3323417c_6e99_11ec_8db6_0242ac1c0002row0_col4\" class=\"data row0 col4\" >[None, 60, 5]</td>\n",
              "                        <td id=\"T_3323417c_6e99_11ec_8db6_0242ac1c0002row0_col5\" class=\"data row0 col5\" >983160</td>\n",
              "            </tr>\n",
              "            <tr>\n",
              "                        <th id=\"T_3323417c_6e99_11ec_8db6_0242ac1c0002level0_row1\" class=\"row_heading level0 row1\" >1</th>\n",
              "                        <td id=\"T_3323417c_6e99_11ec_8db6_0242ac1c0002row1_col0\" class=\"data row1 col0\" >Dense</td>\n",
              "                        <td id=\"T_3323417c_6e99_11ec_8db6_0242ac1c0002row1_col1\" class=\"data row1 col1\" >[None, 20]</td>\n",
              "                        <td id=\"T_3323417c_6e99_11ec_8db6_0242ac1c0002row1_col2\" class=\"data row1 col2\" >1020</td>\n",
              "                        <td id=\"T_3323417c_6e99_11ec_8db6_0242ac1c0002row1_col3\" class=\"data row1 col3\" >LSTM</td>\n",
              "                        <td id=\"T_3323417c_6e99_11ec_8db6_0242ac1c0002row1_col4\" class=\"data row1 col4\" >[None, 5]</td>\n",
              "                        <td id=\"T_3323417c_6e99_11ec_8db6_0242ac1c0002row1_col5\" class=\"data row1 col5\" >220</td>\n",
              "            </tr>\n",
              "            <tr>\n",
              "                        <th id=\"T_3323417c_6e99_11ec_8db6_0242ac1c0002level0_row2\" class=\"row_heading level0 row2\" >2</th>\n",
              "                        <td id=\"T_3323417c_6e99_11ec_8db6_0242ac1c0002row2_col0\" class=\"data row2 col0\" >Dense</td>\n",
              "                        <td id=\"T_3323417c_6e99_11ec_8db6_0242ac1c0002row2_col1\" class=\"data row2 col1\" >[None, 3]</td>\n",
              "                        <td id=\"T_3323417c_6e99_11ec_8db6_0242ac1c0002row2_col2\" class=\"data row2 col2\" >63</td>\n",
              "                        <td id=\"T_3323417c_6e99_11ec_8db6_0242ac1c0002row2_col3\" class=\"data row2 col3\" >Dense</td>\n",
              "                        <td id=\"T_3323417c_6e99_11ec_8db6_0242ac1c0002row2_col4\" class=\"data row2 col4\" >[None, 3]</td>\n",
              "                        <td id=\"T_3323417c_6e99_11ec_8db6_0242ac1c0002row2_col5\" class=\"data row2 col5\" >18</td>\n",
              "            </tr>\n",
              "    </tbody></table>"
            ],
            "text/plain": [
              "<IPython.core.display.HTML object>"
            ]
          },
          "metadata": {}
        }
      ]
    },
    {
      "cell_type": "markdown",
      "metadata": {
        "id": "Pl67bOO-lz9k"
      },
      "source": [
        "## Optional: Tune model within range of hyperparameters with Keras Tuner\n",
        "\n",
        "*Simple example shown below. Consult [documentation](https://keras.io/guides/keras_tuner/getting_started/) to see full functionality.*"
      ]
    },
    {
      "cell_type": "code",
      "metadata": {
        "id": "MOGXwppct0KI"
      },
      "source": [
        "! pip install keras_tuner"
      ],
      "execution_count": null,
      "outputs": []
    },
    {
      "cell_type": "code",
      "metadata": {
        "id": "O7o_zA3fv-ra"
      },
      "source": [
        "#Separate validation data \n",
        "from sklearn.model_selection import train_test_split\n",
        "x_train_split, x_val, y_train_split, y_val = train_test_split(\n",
        "     X_train, y_train, test_size=0.2, random_state=42)"
      ],
      "execution_count": null,
      "outputs": []
    },
    {
      "cell_type": "code",
      "metadata": {
        "colab": {
          "base_uri": "https://localhost:8080/"
        },
        "id": "olzZ7aposfwH",
        "outputId": "12ab0c22-ab73-42d9-93a2-f7143522519c"
      },
      "source": [
        "import keras_tuner as kt\n",
        "import tensorflow as tf\n",
        "from tensorflow.keras.models import Sequential\n",
        "from tensorflow.keras.layers import Dense, Activation, Dropout\n",
        "from keras.layers import LSTM\n",
        "\n",
        "#Define model structure & parameter search space with function\n",
        "def build_model(hp):\n",
        "    model = Sequential()\n",
        "    model.add(LSTM(5, return_sequences=True, dropout=.2, input_shape=(60, 49152)))\n",
        "    model.add(LSTM(units=hp.Int(\"units\", min_value=5, max_value=32, step=3), #range 5-32 inclusive, minimum step between tested values is 3\n",
        "                     return_sequences=True, dropout=0.2))\n",
        "    model.add(LSTM(3, dropout=.2))\n",
        "    model.add(Dense(3, activation=\"softmax\"))\n",
        "\n",
        "    model.compile(loss=\"categorical_crossentropy\", optimizer=\"adam\", metrics=[\"accuracy\"])\n",
        "    return model \n",
        "\n",
        "#initialize the tuner (which will search through parameters)\n",
        "tuner = kt.RandomSearch(\n",
        "    hypermodel=build_model, \n",
        "    objective=\"val_accuracy\", # objective to optimize\n",
        "    max_trials=2, #max number of trials to run during search\n",
        "    executions_per_trial=1, #higher number reduces variance of results; guages model performance more accurately \n",
        "    overwrite=True,\n",
        "    directory=\"tuning_model\",\n",
        "    project_name=\"tuning_units\",\n",
        ")\n",
        "\n",
        "tuner.search(x_train_split, y_train_split, epochs=1, validation_data=(x_val, y_val))"
      ],
      "execution_count": null,
      "outputs": [
        {
          "output_type": "stream",
          "name": "stdout",
          "text": [
            "Trial 2 Complete [00h 00m 13s]\n",
            "val_accuracy: 0.2857142984867096\n",
            "\n",
            "Best val_accuracy So Far: 0.6666666865348816\n",
            "Total elapsed time: 00h 00m 29s\n"
          ]
        }
      ]
    },
    {
      "cell_type": "code",
      "metadata": {
        "colab": {
          "base_uri": "https://localhost:8080/"
        },
        "id": "0YaEbvJ2yND1",
        "outputId": "3412c029-03ba-4e3a-dea4-0d104c63b8b2"
      },
      "source": [
        "# Build model with best hyperparameters\n",
        "\n",
        "# Get the top 2 hyperparameters.\n",
        "best_hps = tuner.get_best_hyperparameters(5)\n",
        "# Build the model with the best hp.\n",
        "tuned_model = build_model(best_hps[0])\n",
        "# Fit with the entire dataset.\n",
        "tuned_model.fit(x=X_train, y=y_train, epochs=1)\n"
      ],
      "execution_count": null,
      "outputs": [
        {
          "output_type": "stream",
          "name": "stdout",
          "text": [
            "4/4 [==============================] - 13s 1s/step - loss: 1.0779 - accuracy: 0.3238\n"
          ]
        },
        {
          "output_type": "execute_result",
          "data": {
            "text/plain": [
              "<keras.callbacks.History at 0x7f243f819610>"
            ]
          },
          "metadata": {},
          "execution_count": 39
        }
      ]
    },
    {
      "cell_type": "code",
      "metadata": {
        "id": "HvLuIvOjHLH2"
      },
      "source": [
        "# Save keras model to local ONNX file\n",
        "from aimodelshare.aimsonnx import model_to_onnx\n",
        "\n",
        "onnx_model = model_to_onnx(tuned_model, framework='keras',\n",
        "                          transfer_learning=False,\n",
        "                          deep_learning=True)\n",
        "\n",
        "with open(\"tuned_model.onnx\", \"wb\") as f:\n",
        "    f.write(onnx_model.SerializeToString())"
      ],
      "execution_count": null,
      "outputs": []
    },
    {
      "cell_type": "code",
      "metadata": {
        "colab": {
          "base_uri": "https://localhost:8080/"
        },
        "id": "sMidHABfHVN7",
        "outputId": "3600485f-856f-44eb-d558-3f61eb0b9889"
      },
      "source": [
        "#Submit Model 3: \n",
        "\n",
        "#-- Generate predicted y values (Model 3)\n",
        "prediction_column_index=tuned_model.predict(X_test).argmax(axis=1)\n",
        "\n",
        "# extract correct prediction labels \n",
        "prediction_labels = [y_train.columns[i] for i in prediction_column_index]\n",
        "\n",
        "# Submit Model 3 to Competition Leaderboard\n",
        "mycompetition.submit_model(model_filepath = \"tuned_model.onnx\",\n",
        "                                 preprocessor_filepath=\"preprocessor.zip\",\n",
        "                                 prediction_submission=prediction_labels)"
      ],
      "execution_count": null,
      "outputs": [
        {
          "output_type": "stream",
          "name": "stdout",
          "text": [
            "Insert search tags to help users find your model (optional): \n",
            "Provide any useful notes about your model (optional): \n",
            "\n",
            "Your model has been submitted as model version 5\n",
            "\n",
            "To submit code used to create this model or to view current leaderboard navigate to Model Playground: \n",
            "\n",
            " https://www.modelshare.org/detail/model:1041\n"
          ]
        }
      ]
    },
    {
      "cell_type": "code",
      "metadata": {
        "colab": {
          "base_uri": "https://localhost:8080/",
          "height": 327
        },
        "id": "hn-Tp-zpJVGT",
        "outputId": "8fbd52ae-e85f-4de3-ba2a-21c1acf7adc4"
      },
      "source": [
        "# Get leaderboard\n",
        "\n",
        "data = mycompetition.get_leaderboard()\n",
        "mycompetition.stylize_leaderboard(data)"
      ],
      "execution_count": null,
      "outputs": [
        {
          "output_type": "execute_result",
          "data": {
            "text/html": [
              "<style  type=\"text/css\" >\n",
              "#T_2e6d389e_6e9a_11ec_8db6_0242ac1c0002row0_col0{\n",
              "            text-align:  center;\n",
              "            width:  10em;\n",
              "             height:  80%;\n",
              "            background:  linear-gradient(90deg,#f5f8d6 57.8%, transparent 57.8%);\n",
              "            color:  #251e1b;\n",
              "            font-size:  12px;\n",
              "        }#T_2e6d389e_6e9a_11ec_8db6_0242ac1c0002row0_col1{\n",
              "            text-align:  center;\n",
              "            width:  10em;\n",
              "             height:  80%;\n",
              "            background:  linear-gradient(90deg,#c778c8 46.1%, transparent 46.1%);\n",
              "            color:  #251e1b;\n",
              "            font-size:  12px;\n",
              "        }#T_2e6d389e_6e9a_11ec_8db6_0242ac1c0002row0_col2{\n",
              "            text-align:  center;\n",
              "            width:  10em;\n",
              "             height:  80%;\n",
              "            background:  linear-gradient(90deg,#ff4971 46.3%, transparent 46.3%);\n",
              "            color:  #251e1b;\n",
              "            font-size:  12px;\n",
              "        }#T_2e6d389e_6e9a_11ec_8db6_0242ac1c0002row0_col3{\n",
              "            text-align:  center;\n",
              "            width:  10em;\n",
              "             height:  80%;\n",
              "            background:  linear-gradient(90deg,#aadbaa 52.1%, transparent 52.1%);\n",
              "            color:  #251e1b;\n",
              "            font-size:  12px;\n",
              "        }#T_2e6d389e_6e9a_11ec_8db6_0242ac1c0002row0_col4,#T_2e6d389e_6e9a_11ec_8db6_0242ac1c0002row0_col5,#T_2e6d389e_6e9a_11ec_8db6_0242ac1c0002row0_col6,#T_2e6d389e_6e9a_11ec_8db6_0242ac1c0002row0_col7,#T_2e6d389e_6e9a_11ec_8db6_0242ac1c0002row0_col8,#T_2e6d389e_6e9a_11ec_8db6_0242ac1c0002row0_col9,#T_2e6d389e_6e9a_11ec_8db6_0242ac1c0002row0_col10,#T_2e6d389e_6e9a_11ec_8db6_0242ac1c0002row0_col11,#T_2e6d389e_6e9a_11ec_8db6_0242ac1c0002row0_col12,#T_2e6d389e_6e9a_11ec_8db6_0242ac1c0002row0_col13,#T_2e6d389e_6e9a_11ec_8db6_0242ac1c0002row0_col14,#T_2e6d389e_6e9a_11ec_8db6_0242ac1c0002row0_col15,#T_2e6d389e_6e9a_11ec_8db6_0242ac1c0002row0_col16,#T_2e6d389e_6e9a_11ec_8db6_0242ac1c0002row0_col17,#T_2e6d389e_6e9a_11ec_8db6_0242ac1c0002row0_col18,#T_2e6d389e_6e9a_11ec_8db6_0242ac1c0002row0_col19,#T_2e6d389e_6e9a_11ec_8db6_0242ac1c0002row0_col20,#T_2e6d389e_6e9a_11ec_8db6_0242ac1c0002row1_col4,#T_2e6d389e_6e9a_11ec_8db6_0242ac1c0002row1_col5,#T_2e6d389e_6e9a_11ec_8db6_0242ac1c0002row1_col6,#T_2e6d389e_6e9a_11ec_8db6_0242ac1c0002row1_col7,#T_2e6d389e_6e9a_11ec_8db6_0242ac1c0002row1_col8,#T_2e6d389e_6e9a_11ec_8db6_0242ac1c0002row1_col9,#T_2e6d389e_6e9a_11ec_8db6_0242ac1c0002row1_col10,#T_2e6d389e_6e9a_11ec_8db6_0242ac1c0002row1_col11,#T_2e6d389e_6e9a_11ec_8db6_0242ac1c0002row1_col12,#T_2e6d389e_6e9a_11ec_8db6_0242ac1c0002row1_col13,#T_2e6d389e_6e9a_11ec_8db6_0242ac1c0002row1_col14,#T_2e6d389e_6e9a_11ec_8db6_0242ac1c0002row1_col15,#T_2e6d389e_6e9a_11ec_8db6_0242ac1c0002row1_col16,#T_2e6d389e_6e9a_11ec_8db6_0242ac1c0002row1_col17,#T_2e6d389e_6e9a_11ec_8db6_0242ac1c0002row1_col18,#T_2e6d389e_6e9a_11ec_8db6_0242ac1c0002row1_col19,#T_2e6d389e_6e9a_11ec_8db6_0242ac1c0002row1_col20,#T_2e6d389e_6e9a_11ec_8db6_0242ac1c0002row2_col4,#T_2e6d389e_6e9a_11ec_8db6_0242ac1c0002row2_col5,#T_2e6d389e_6e9a_11ec_8db6_0242ac1c0002row2_col6,#T_2e6d389e_6e9a_11ec_8db6_0242ac1c0002row2_col7,#T_2e6d389e_6e9a_11ec_8db6_0242ac1c0002row2_col8,#T_2e6d389e_6e9a_11ec_8db6_0242ac1c0002row2_col9,#T_2e6d389e_6e9a_11ec_8db6_0242ac1c0002row2_col10,#T_2e6d389e_6e9a_11ec_8db6_0242ac1c0002row2_col11,#T_2e6d389e_6e9a_11ec_8db6_0242ac1c0002row2_col12,#T_2e6d389e_6e9a_11ec_8db6_0242ac1c0002row2_col13,#T_2e6d389e_6e9a_11ec_8db6_0242ac1c0002row2_col14,#T_2e6d389e_6e9a_11ec_8db6_0242ac1c0002row2_col15,#T_2e6d389e_6e9a_11ec_8db6_0242ac1c0002row2_col16,#T_2e6d389e_6e9a_11ec_8db6_0242ac1c0002row2_col17,#T_2e6d389e_6e9a_11ec_8db6_0242ac1c0002row2_col18,#T_2e6d389e_6e9a_11ec_8db6_0242ac1c0002row2_col19,#T_2e6d389e_6e9a_11ec_8db6_0242ac1c0002row2_col20,#T_2e6d389e_6e9a_11ec_8db6_0242ac1c0002row3_col4,#T_2e6d389e_6e9a_11ec_8db6_0242ac1c0002row3_col5,#T_2e6d389e_6e9a_11ec_8db6_0242ac1c0002row3_col6,#T_2e6d389e_6e9a_11ec_8db6_0242ac1c0002row3_col7,#T_2e6d389e_6e9a_11ec_8db6_0242ac1c0002row3_col8,#T_2e6d389e_6e9a_11ec_8db6_0242ac1c0002row3_col9,#T_2e6d389e_6e9a_11ec_8db6_0242ac1c0002row3_col10,#T_2e6d389e_6e9a_11ec_8db6_0242ac1c0002row3_col11,#T_2e6d389e_6e9a_11ec_8db6_0242ac1c0002row3_col12,#T_2e6d389e_6e9a_11ec_8db6_0242ac1c0002row3_col13,#T_2e6d389e_6e9a_11ec_8db6_0242ac1c0002row3_col14,#T_2e6d389e_6e9a_11ec_8db6_0242ac1c0002row3_col15,#T_2e6d389e_6e9a_11ec_8db6_0242ac1c0002row3_col16,#T_2e6d389e_6e9a_11ec_8db6_0242ac1c0002row3_col17,#T_2e6d389e_6e9a_11ec_8db6_0242ac1c0002row3_col18,#T_2e6d389e_6e9a_11ec_8db6_0242ac1c0002row3_col19,#T_2e6d389e_6e9a_11ec_8db6_0242ac1c0002row3_col20,#T_2e6d389e_6e9a_11ec_8db6_0242ac1c0002row4_col4,#T_2e6d389e_6e9a_11ec_8db6_0242ac1c0002row4_col5,#T_2e6d389e_6e9a_11ec_8db6_0242ac1c0002row4_col6,#T_2e6d389e_6e9a_11ec_8db6_0242ac1c0002row4_col7,#T_2e6d389e_6e9a_11ec_8db6_0242ac1c0002row4_col8,#T_2e6d389e_6e9a_11ec_8db6_0242ac1c0002row4_col9,#T_2e6d389e_6e9a_11ec_8db6_0242ac1c0002row4_col10,#T_2e6d389e_6e9a_11ec_8db6_0242ac1c0002row4_col11,#T_2e6d389e_6e9a_11ec_8db6_0242ac1c0002row4_col12,#T_2e6d389e_6e9a_11ec_8db6_0242ac1c0002row4_col13,#T_2e6d389e_6e9a_11ec_8db6_0242ac1c0002row4_col14,#T_2e6d389e_6e9a_11ec_8db6_0242ac1c0002row4_col15,#T_2e6d389e_6e9a_11ec_8db6_0242ac1c0002row4_col16,#T_2e6d389e_6e9a_11ec_8db6_0242ac1c0002row4_col17,#T_2e6d389e_6e9a_11ec_8db6_0242ac1c0002row4_col18,#T_2e6d389e_6e9a_11ec_8db6_0242ac1c0002row4_col19,#T_2e6d389e_6e9a_11ec_8db6_0242ac1c0002row4_col20{\n",
              "            text-align:  center;\n",
              "        }#T_2e6d389e_6e9a_11ec_8db6_0242ac1c0002row1_col0,#T_2e6d389e_6e9a_11ec_8db6_0242ac1c0002row2_col0{\n",
              "            text-align:  center;\n",
              "            width:  10em;\n",
              "             height:  80%;\n",
              "            background:  linear-gradient(90deg,#f5f8d6 48.9%, transparent 48.9%);\n",
              "            color:  #251e1b;\n",
              "            font-size:  12px;\n",
              "        }#T_2e6d389e_6e9a_11ec_8db6_0242ac1c0002row1_col1{\n",
              "            text-align:  center;\n",
              "            width:  10em;\n",
              "             height:  80%;\n",
              "            background:  linear-gradient(90deg,#c778c8 45.9%, transparent 45.9%);\n",
              "            color:  #251e1b;\n",
              "            font-size:  12px;\n",
              "        }#T_2e6d389e_6e9a_11ec_8db6_0242ac1c0002row1_col2{\n",
              "            text-align:  center;\n",
              "            width:  10em;\n",
              "             height:  80%;\n",
              "            background:  linear-gradient(90deg,#ff4971 59.0%, transparent 59.0%);\n",
              "            color:  #251e1b;\n",
              "            font-size:  12px;\n",
              "        }#T_2e6d389e_6e9a_11ec_8db6_0242ac1c0002row1_col3{\n",
              "            text-align:  center;\n",
              "            width:  10em;\n",
              "             height:  80%;\n",
              "            background:  linear-gradient(90deg,#aadbaa 55.6%, transparent 55.6%);\n",
              "            color:  #251e1b;\n",
              "            font-size:  12px;\n",
              "        }#T_2e6d389e_6e9a_11ec_8db6_0242ac1c0002row2_col1{\n",
              "            text-align:  center;\n",
              "            width:  10em;\n",
              "             height:  80%;\n",
              "            background:  linear-gradient(90deg,#c778c8 44.1%, transparent 44.1%);\n",
              "            color:  #251e1b;\n",
              "            font-size:  12px;\n",
              "        }#T_2e6d389e_6e9a_11ec_8db6_0242ac1c0002row2_col2{\n",
              "            text-align:  center;\n",
              "            width:  10em;\n",
              "             height:  80%;\n",
              "            background:  linear-gradient(90deg,#ff4971 42.4%, transparent 42.4%);\n",
              "            color:  #251e1b;\n",
              "            font-size:  12px;\n",
              "        }#T_2e6d389e_6e9a_11ec_8db6_0242ac1c0002row2_col3{\n",
              "            text-align:  center;\n",
              "            width:  10em;\n",
              "             height:  80%;\n",
              "            background:  linear-gradient(90deg,#aadbaa 56.4%, transparent 56.4%);\n",
              "            color:  #251e1b;\n",
              "            font-size:  12px;\n",
              "        }#T_2e6d389e_6e9a_11ec_8db6_0242ac1c0002row3_col0{\n",
              "            text-align:  center;\n",
              "            width:  10em;\n",
              "             height:  80%;\n",
              "            background:  linear-gradient(90deg,#f5f8d6 42.2%, transparent 42.2%);\n",
              "            color:  #251e1b;\n",
              "            font-size:  12px;\n",
              "        }#T_2e6d389e_6e9a_11ec_8db6_0242ac1c0002row3_col1{\n",
              "            text-align:  center;\n",
              "            width:  10em;\n",
              "             height:  80%;\n",
              "            background:  linear-gradient(90deg,#c778c8 37.0%, transparent 37.0%);\n",
              "            color:  #251e1b;\n",
              "            font-size:  12px;\n",
              "        }#T_2e6d389e_6e9a_11ec_8db6_0242ac1c0002row3_col2{\n",
              "            text-align:  center;\n",
              "            width:  10em;\n",
              "             height:  80%;\n",
              "            background:  linear-gradient(90deg,#ff4971 40.0%, transparent 40.0%);\n",
              "            color:  #251e1b;\n",
              "            font-size:  12px;\n",
              "        }#T_2e6d389e_6e9a_11ec_8db6_0242ac1c0002row3_col3{\n",
              "            text-align:  center;\n",
              "            width:  10em;\n",
              "             height:  80%;\n",
              "            background:  linear-gradient(90deg,#aadbaa 48.7%, transparent 48.7%);\n",
              "            color:  #251e1b;\n",
              "            font-size:  12px;\n",
              "        }#T_2e6d389e_6e9a_11ec_8db6_0242ac1c0002row4_col0{\n",
              "            text-align:  center;\n",
              "            width:  10em;\n",
              "             height:  80%;\n",
              "            background:  linear-gradient(90deg,#f5f8d6 31.1%, transparent 31.1%);\n",
              "            color:  #251e1b;\n",
              "            font-size:  12px;\n",
              "        }#T_2e6d389e_6e9a_11ec_8db6_0242ac1c0002row4_col1{\n",
              "            text-align:  center;\n",
              "            width:  10em;\n",
              "             height:  80%;\n",
              "            background:  linear-gradient(90deg,#c778c8 20.0%, transparent 20.0%);\n",
              "            color:  #251e1b;\n",
              "            font-size:  12px;\n",
              "        }#T_2e6d389e_6e9a_11ec_8db6_0242ac1c0002row4_col2{\n",
              "            text-align:  center;\n",
              "            width:  10em;\n",
              "             height:  80%;\n",
              "            background:  linear-gradient(90deg,#ff4971 43.2%, transparent 43.2%);\n",
              "            color:  #251e1b;\n",
              "            font-size:  12px;\n",
              "        }#T_2e6d389e_6e9a_11ec_8db6_0242ac1c0002row4_col3{\n",
              "            text-align:  center;\n",
              "            width:  10em;\n",
              "             height:  80%;\n",
              "            background:  linear-gradient(90deg,#aadbaa 35.9%, transparent 35.9%);\n",
              "            color:  #251e1b;\n",
              "            font-size:  12px;\n",
              "        }</style><table id=\"T_2e6d389e_6e9a_11ec_8db6_0242ac1c0002\" class=\"dataframe\"><thead>    <tr>        <th class=\"blank level0\" ></th>        <th class=\"col_heading level0 col0\" >accuracy</th>        <th class=\"col_heading level0 col1\" >f1_score</th>        <th class=\"col_heading level0 col2\" >precision</th>        <th class=\"col_heading level0 col3\" >recall</th>        <th class=\"col_heading level0 col4\" >ml_framework</th>        <th class=\"col_heading level0 col5\" >transfer_learning</th>        <th class=\"col_heading level0 col6\" >deep_learning</th>        <th class=\"col_heading level0 col7\" >model_type</th>        <th class=\"col_heading level0 col8\" >depth</th>        <th class=\"col_heading level0 col9\" >num_params</th>        <th class=\"col_heading level0 col10\" >lstm_layers</th>        <th class=\"col_heading level0 col11\" >dense_layers</th>        <th class=\"col_heading level0 col12\" >relu_act</th>        <th class=\"col_heading level0 col13\" >softmax_act</th>        <th class=\"col_heading level0 col14\" >tanh_act</th>        <th class=\"col_heading level0 col15\" >loss</th>        <th class=\"col_heading level0 col16\" >optimizer</th>        <th class=\"col_heading level0 col17\" >model_config</th>        <th class=\"col_heading level0 col18\" >memory_size</th>        <th class=\"col_heading level0 col19\" >username</th>        <th class=\"col_heading level0 col20\" >version</th>    </tr></thead><tbody>\n",
              "                <tr>\n",
              "                        <th id=\"T_2e6d389e_6e9a_11ec_8db6_0242ac1c0002level0_row0\" class=\"row_heading level0 row0\" >1</th>\n",
              "                        <td id=\"T_2e6d389e_6e9a_11ec_8db6_0242ac1c0002row0_col0\" class=\"data row0 col0\" >57.78%</td>\n",
              "                        <td id=\"T_2e6d389e_6e9a_11ec_8db6_0242ac1c0002row0_col1\" class=\"data row0 col1\" >46.06%</td>\n",
              "                        <td id=\"T_2e6d389e_6e9a_11ec_8db6_0242ac1c0002row0_col2\" class=\"data row0 col2\" >46.30%</td>\n",
              "                        <td id=\"T_2e6d389e_6e9a_11ec_8db6_0242ac1c0002row0_col3\" class=\"data row0 col3\" >52.09%</td>\n",
              "                        <td id=\"T_2e6d389e_6e9a_11ec_8db6_0242ac1c0002row0_col4\" class=\"data row0 col4\" >keras</td>\n",
              "                        <td id=\"T_2e6d389e_6e9a_11ec_8db6_0242ac1c0002row0_col5\" class=\"data row0 col5\" >False</td>\n",
              "                        <td id=\"T_2e6d389e_6e9a_11ec_8db6_0242ac1c0002row0_col6\" class=\"data row0 col6\" >True</td>\n",
              "                        <td id=\"T_2e6d389e_6e9a_11ec_8db6_0242ac1c0002row0_col7\" class=\"data row0 col7\" >Sequential</td>\n",
              "                        <td id=\"T_2e6d389e_6e9a_11ec_8db6_0242ac1c0002row0_col8\" class=\"data row0 col8\" >3</td>\n",
              "                        <td id=\"T_2e6d389e_6e9a_11ec_8db6_0242ac1c0002row0_col9\" class=\"data row0 col9\" >983398</td>\n",
              "                        <td id=\"T_2e6d389e_6e9a_11ec_8db6_0242ac1c0002row0_col10\" class=\"data row0 col10\" >2</td>\n",
              "                        <td id=\"T_2e6d389e_6e9a_11ec_8db6_0242ac1c0002row0_col11\" class=\"data row0 col11\" >1</td>\n",
              "                        <td id=\"T_2e6d389e_6e9a_11ec_8db6_0242ac1c0002row0_col12\" class=\"data row0 col12\" >nan</td>\n",
              "                        <td id=\"T_2e6d389e_6e9a_11ec_8db6_0242ac1c0002row0_col13\" class=\"data row0 col13\" >1</td>\n",
              "                        <td id=\"T_2e6d389e_6e9a_11ec_8db6_0242ac1c0002row0_col14\" class=\"data row0 col14\" >2</td>\n",
              "                        <td id=\"T_2e6d389e_6e9a_11ec_8db6_0242ac1c0002row0_col15\" class=\"data row0 col15\" >function</td>\n",
              "                        <td id=\"T_2e6d389e_6e9a_11ec_8db6_0242ac1c0002row0_col16\" class=\"data row0 col16\" >Adam</td>\n",
              "                        <td id=\"T_2e6d389e_6e9a_11ec_8db6_0242ac1c0002row0_col17\" class=\"data row0 col17\" >{'name': 'sequential_1', 'laye...</td>\n",
              "                        <td id=\"T_2e6d389e_6e9a_11ec_8db6_0242ac1c0002row0_col18\" class=\"data row0 col18\" >2240704</td>\n",
              "                        <td id=\"T_2e6d389e_6e9a_11ec_8db6_0242ac1c0002row0_col19\" class=\"data row0 col19\" >AIModelShare</td>\n",
              "                        <td id=\"T_2e6d389e_6e9a_11ec_8db6_0242ac1c0002row0_col20\" class=\"data row0 col20\" >2</td>\n",
              "            </tr>\n",
              "            <tr>\n",
              "                        <th id=\"T_2e6d389e_6e9a_11ec_8db6_0242ac1c0002level0_row1\" class=\"row_heading level0 row1\" >2</th>\n",
              "                        <td id=\"T_2e6d389e_6e9a_11ec_8db6_0242ac1c0002row1_col0\" class=\"data row1 col0\" >48.89%</td>\n",
              "                        <td id=\"T_2e6d389e_6e9a_11ec_8db6_0242ac1c0002row1_col1\" class=\"data row1 col1\" >45.86%</td>\n",
              "                        <td id=\"T_2e6d389e_6e9a_11ec_8db6_0242ac1c0002row1_col2\" class=\"data row1 col2\" >59.04%</td>\n",
              "                        <td id=\"T_2e6d389e_6e9a_11ec_8db6_0242ac1c0002row1_col3\" class=\"data row1 col3\" >55.60%</td>\n",
              "                        <td id=\"T_2e6d389e_6e9a_11ec_8db6_0242ac1c0002row1_col4\" class=\"data row1 col4\" >keras</td>\n",
              "                        <td id=\"T_2e6d389e_6e9a_11ec_8db6_0242ac1c0002row1_col5\" class=\"data row1 col5\" >False</td>\n",
              "                        <td id=\"T_2e6d389e_6e9a_11ec_8db6_0242ac1c0002row1_col6\" class=\"data row1 col6\" >True</td>\n",
              "                        <td id=\"T_2e6d389e_6e9a_11ec_8db6_0242ac1c0002row1_col7\" class=\"data row1 col7\" >Sequential</td>\n",
              "                        <td id=\"T_2e6d389e_6e9a_11ec_8db6_0242ac1c0002row1_col8\" class=\"data row1 col8\" >3</td>\n",
              "                        <td id=\"T_2e6d389e_6e9a_11ec_8db6_0242ac1c0002row1_col9\" class=\"data row1 col9\" >9841683</td>\n",
              "                        <td id=\"T_2e6d389e_6e9a_11ec_8db6_0242ac1c0002row1_col10\" class=\"data row1 col10\" >1</td>\n",
              "                        <td id=\"T_2e6d389e_6e9a_11ec_8db6_0242ac1c0002row1_col11\" class=\"data row1 col11\" >2</td>\n",
              "                        <td id=\"T_2e6d389e_6e9a_11ec_8db6_0242ac1c0002row1_col12\" class=\"data row1 col12\" >1.000000</td>\n",
              "                        <td id=\"T_2e6d389e_6e9a_11ec_8db6_0242ac1c0002row1_col13\" class=\"data row1 col13\" >1</td>\n",
              "                        <td id=\"T_2e6d389e_6e9a_11ec_8db6_0242ac1c0002row1_col14\" class=\"data row1 col14\" >1</td>\n",
              "                        <td id=\"T_2e6d389e_6e9a_11ec_8db6_0242ac1c0002row1_col15\" class=\"data row1 col15\" >function</td>\n",
              "                        <td id=\"T_2e6d389e_6e9a_11ec_8db6_0242ac1c0002row1_col16\" class=\"data row1 col16\" >Adam</td>\n",
              "                        <td id=\"T_2e6d389e_6e9a_11ec_8db6_0242ac1c0002row1_col17\" class=\"data row1 col17\" >{'name': 'sequential', 'layers...</td>\n",
              "                        <td id=\"T_2e6d389e_6e9a_11ec_8db6_0242ac1c0002row1_col18\" class=\"data row1 col18\" >216792</td>\n",
              "                        <td id=\"T_2e6d389e_6e9a_11ec_8db6_0242ac1c0002row1_col19\" class=\"data row1 col19\" >AIModelShare</td>\n",
              "                        <td id=\"T_2e6d389e_6e9a_11ec_8db6_0242ac1c0002row1_col20\" class=\"data row1 col20\" >1</td>\n",
              "            </tr>\n",
              "            <tr>\n",
              "                        <th id=\"T_2e6d389e_6e9a_11ec_8db6_0242ac1c0002level0_row2\" class=\"row_heading level0 row2\" >3</th>\n",
              "                        <td id=\"T_2e6d389e_6e9a_11ec_8db6_0242ac1c0002row2_col0\" class=\"data row2 col0\" >48.89%</td>\n",
              "                        <td id=\"T_2e6d389e_6e9a_11ec_8db6_0242ac1c0002row2_col1\" class=\"data row2 col1\" >44.14%</td>\n",
              "                        <td id=\"T_2e6d389e_6e9a_11ec_8db6_0242ac1c0002row2_col2\" class=\"data row2 col2\" >42.38%</td>\n",
              "                        <td id=\"T_2e6d389e_6e9a_11ec_8db6_0242ac1c0002row2_col3\" class=\"data row2 col3\" >56.41%</td>\n",
              "                        <td id=\"T_2e6d389e_6e9a_11ec_8db6_0242ac1c0002row2_col4\" class=\"data row2 col4\" >keras</td>\n",
              "                        <td id=\"T_2e6d389e_6e9a_11ec_8db6_0242ac1c0002row2_col5\" class=\"data row2 col5\" >False</td>\n",
              "                        <td id=\"T_2e6d389e_6e9a_11ec_8db6_0242ac1c0002row2_col6\" class=\"data row2 col6\" >True</td>\n",
              "                        <td id=\"T_2e6d389e_6e9a_11ec_8db6_0242ac1c0002row2_col7\" class=\"data row2 col7\" >Sequential</td>\n",
              "                        <td id=\"T_2e6d389e_6e9a_11ec_8db6_0242ac1c0002row2_col8\" class=\"data row2 col8\" >3</td>\n",
              "                        <td id=\"T_2e6d389e_6e9a_11ec_8db6_0242ac1c0002row2_col9\" class=\"data row2 col9\" >9841683</td>\n",
              "                        <td id=\"T_2e6d389e_6e9a_11ec_8db6_0242ac1c0002row2_col10\" class=\"data row2 col10\" >1</td>\n",
              "                        <td id=\"T_2e6d389e_6e9a_11ec_8db6_0242ac1c0002row2_col11\" class=\"data row2 col11\" >2</td>\n",
              "                        <td id=\"T_2e6d389e_6e9a_11ec_8db6_0242ac1c0002row2_col12\" class=\"data row2 col12\" >1.000000</td>\n",
              "                        <td id=\"T_2e6d389e_6e9a_11ec_8db6_0242ac1c0002row2_col13\" class=\"data row2 col13\" >1</td>\n",
              "                        <td id=\"T_2e6d389e_6e9a_11ec_8db6_0242ac1c0002row2_col14\" class=\"data row2 col14\" >1</td>\n",
              "                        <td id=\"T_2e6d389e_6e9a_11ec_8db6_0242ac1c0002row2_col15\" class=\"data row2 col15\" >str</td>\n",
              "                        <td id=\"T_2e6d389e_6e9a_11ec_8db6_0242ac1c0002row2_col16\" class=\"data row2 col16\" >Adam</td>\n",
              "                        <td id=\"T_2e6d389e_6e9a_11ec_8db6_0242ac1c0002row2_col17\" class=\"data row2 col17\" >{'name': 'sequential_2', 'laye...</td>\n",
              "                        <td id=\"T_2e6d389e_6e9a_11ec_8db6_0242ac1c0002row2_col18\" class=\"data row2 col18\" >5242560</td>\n",
              "                        <td id=\"T_2e6d389e_6e9a_11ec_8db6_0242ac1c0002row2_col19\" class=\"data row2 col19\" >gstreett</td>\n",
              "                        <td id=\"T_2e6d389e_6e9a_11ec_8db6_0242ac1c0002row2_col20\" class=\"data row2 col20\" >3</td>\n",
              "            </tr>\n",
              "            <tr>\n",
              "                        <th id=\"T_2e6d389e_6e9a_11ec_8db6_0242ac1c0002level0_row3\" class=\"row_heading level0 row3\" >4</th>\n",
              "                        <td id=\"T_2e6d389e_6e9a_11ec_8db6_0242ac1c0002row3_col0\" class=\"data row3 col0\" >42.22%</td>\n",
              "                        <td id=\"T_2e6d389e_6e9a_11ec_8db6_0242ac1c0002row3_col1\" class=\"data row3 col1\" >36.99%</td>\n",
              "                        <td id=\"T_2e6d389e_6e9a_11ec_8db6_0242ac1c0002row3_col2\" class=\"data row3 col2\" >39.97%</td>\n",
              "                        <td id=\"T_2e6d389e_6e9a_11ec_8db6_0242ac1c0002row3_col3\" class=\"data row3 col3\" >48.72%</td>\n",
              "                        <td id=\"T_2e6d389e_6e9a_11ec_8db6_0242ac1c0002row3_col4\" class=\"data row3 col4\" >keras</td>\n",
              "                        <td id=\"T_2e6d389e_6e9a_11ec_8db6_0242ac1c0002row3_col5\" class=\"data row3 col5\" >False</td>\n",
              "                        <td id=\"T_2e6d389e_6e9a_11ec_8db6_0242ac1c0002row3_col6\" class=\"data row3 col6\" >True</td>\n",
              "                        <td id=\"T_2e6d389e_6e9a_11ec_8db6_0242ac1c0002row3_col7\" class=\"data row3 col7\" >Sequential</td>\n",
              "                        <td id=\"T_2e6d389e_6e9a_11ec_8db6_0242ac1c0002row3_col8\" class=\"data row3 col8\" >3</td>\n",
              "                        <td id=\"T_2e6d389e_6e9a_11ec_8db6_0242ac1c0002row3_col9\" class=\"data row3 col9\" >983398</td>\n",
              "                        <td id=\"T_2e6d389e_6e9a_11ec_8db6_0242ac1c0002row3_col10\" class=\"data row3 col10\" >2</td>\n",
              "                        <td id=\"T_2e6d389e_6e9a_11ec_8db6_0242ac1c0002row3_col11\" class=\"data row3 col11\" >1</td>\n",
              "                        <td id=\"T_2e6d389e_6e9a_11ec_8db6_0242ac1c0002row3_col12\" class=\"data row3 col12\" >nan</td>\n",
              "                        <td id=\"T_2e6d389e_6e9a_11ec_8db6_0242ac1c0002row3_col13\" class=\"data row3 col13\" >1</td>\n",
              "                        <td id=\"T_2e6d389e_6e9a_11ec_8db6_0242ac1c0002row3_col14\" class=\"data row3 col14\" >2</td>\n",
              "                        <td id=\"T_2e6d389e_6e9a_11ec_8db6_0242ac1c0002row3_col15\" class=\"data row3 col15\" >str</td>\n",
              "                        <td id=\"T_2e6d389e_6e9a_11ec_8db6_0242ac1c0002row3_col16\" class=\"data row3 col16\" >Adam</td>\n",
              "                        <td id=\"T_2e6d389e_6e9a_11ec_8db6_0242ac1c0002row3_col17\" class=\"data row3 col17\" >{'name': 'sequential_7', 'laye...</td>\n",
              "                        <td id=\"T_2e6d389e_6e9a_11ec_8db6_0242ac1c0002row3_col18\" class=\"data row3 col18\" >11419096</td>\n",
              "                        <td id=\"T_2e6d389e_6e9a_11ec_8db6_0242ac1c0002row3_col19\" class=\"data row3 col19\" >gstreett</td>\n",
              "                        <td id=\"T_2e6d389e_6e9a_11ec_8db6_0242ac1c0002row3_col20\" class=\"data row3 col20\" >4</td>\n",
              "            </tr>\n",
              "            <tr>\n",
              "                        <th id=\"T_2e6d389e_6e9a_11ec_8db6_0242ac1c0002level0_row4\" class=\"row_heading level0 row4\" >5</th>\n",
              "                        <td id=\"T_2e6d389e_6e9a_11ec_8db6_0242ac1c0002row4_col0\" class=\"data row4 col0\" >31.11%</td>\n",
              "                        <td id=\"T_2e6d389e_6e9a_11ec_8db6_0242ac1c0002row4_col1\" class=\"data row4 col1\" >19.97%</td>\n",
              "                        <td id=\"T_2e6d389e_6e9a_11ec_8db6_0242ac1c0002row4_col2\" class=\"data row4 col2\" >43.18%</td>\n",
              "                        <td id=\"T_2e6d389e_6e9a_11ec_8db6_0242ac1c0002row4_col3\" class=\"data row4 col3\" >35.90%</td>\n",
              "                        <td id=\"T_2e6d389e_6e9a_11ec_8db6_0242ac1c0002row4_col4\" class=\"data row4 col4\" >keras</td>\n",
              "                        <td id=\"T_2e6d389e_6e9a_11ec_8db6_0242ac1c0002row4_col5\" class=\"data row4 col5\" >False</td>\n",
              "                        <td id=\"T_2e6d389e_6e9a_11ec_8db6_0242ac1c0002row4_col6\" class=\"data row4 col6\" >True</td>\n",
              "                        <td id=\"T_2e6d389e_6e9a_11ec_8db6_0242ac1c0002row4_col7\" class=\"data row4 col7\" >Sequential</td>\n",
              "                        <td id=\"T_2e6d389e_6e9a_11ec_8db6_0242ac1c0002row4_col8\" class=\"data row4 col8\" >4</td>\n",
              "                        <td id=\"T_2e6d389e_6e9a_11ec_8db6_0242ac1c0002row4_col9\" class=\"data row4 col9\" >984508</td>\n",
              "                        <td id=\"T_2e6d389e_6e9a_11ec_8db6_0242ac1c0002row4_col10\" class=\"data row4 col10\" >3</td>\n",
              "                        <td id=\"T_2e6d389e_6e9a_11ec_8db6_0242ac1c0002row4_col11\" class=\"data row4 col11\" >1</td>\n",
              "                        <td id=\"T_2e6d389e_6e9a_11ec_8db6_0242ac1c0002row4_col12\" class=\"data row4 col12\" >nan</td>\n",
              "                        <td id=\"T_2e6d389e_6e9a_11ec_8db6_0242ac1c0002row4_col13\" class=\"data row4 col13\" >1</td>\n",
              "                        <td id=\"T_2e6d389e_6e9a_11ec_8db6_0242ac1c0002row4_col14\" class=\"data row4 col14\" >3</td>\n",
              "                        <td id=\"T_2e6d389e_6e9a_11ec_8db6_0242ac1c0002row4_col15\" class=\"data row4 col15\" >str</td>\n",
              "                        <td id=\"T_2e6d389e_6e9a_11ec_8db6_0242ac1c0002row4_col16\" class=\"data row4 col16\" >Adam</td>\n",
              "                        <td id=\"T_2e6d389e_6e9a_11ec_8db6_0242ac1c0002row4_col17\" class=\"data row4 col17\" >{'name': 'sequential_1', 'laye...</td>\n",
              "                        <td id=\"T_2e6d389e_6e9a_11ec_8db6_0242ac1c0002row4_col18\" class=\"data row4 col18\" >16118328</td>\n",
              "                        <td id=\"T_2e6d389e_6e9a_11ec_8db6_0242ac1c0002row4_col19\" class=\"data row4 col19\" >gstreett</td>\n",
              "                        <td id=\"T_2e6d389e_6e9a_11ec_8db6_0242ac1c0002row4_col20\" class=\"data row4 col20\" >5</td>\n",
              "            </tr>\n",
              "    </tbody></table>"
            ],
            "text/plain": [
              "<pandas.io.formats.style.Styler at 0x7f232e39bb90>"
            ]
          },
          "metadata": {},
          "execution_count": 42
        }
      ]
    },
    {
      "cell_type": "code",
      "metadata": {
        "id": "MKvPKyb7hT0h",
        "colab": {
          "base_uri": "https://localhost:8080/",
          "height": 126
        },
        "outputId": "71f71223-5508-49a4-826e-97c094c6356d"
      },
      "source": [
        "# Compare two or more models \n",
        "data=mycompetition.compare_models([4, 5], verbose=1)\n",
        "mycompetition.stylize_compare(data)"
      ],
      "execution_count": null,
      "outputs": [
        {
          "output_type": "display_data",
          "data": {
            "text/html": [
              "<style  type=\"text/css\" >\n",
              "    #T_33b60a10_6e9a_11ec_8db6_0242ac1c0002 caption {\n",
              "          color: black;\n",
              "          font-size: 18px;\n",
              "    }#T_33b60a10_6e9a_11ec_8db6_0242ac1c0002row0_col0,#T_33b60a10_6e9a_11ec_8db6_0242ac1c0002row0_col3,#T_33b60a10_6e9a_11ec_8db6_0242ac1c0002row1_col0,#T_33b60a10_6e9a_11ec_8db6_0242ac1c0002row1_col3,#T_33b60a10_6e9a_11ec_8db6_0242ac1c0002row2_col3{\n",
              "            background:  #cbd5e8;\n",
              "            color:  black;\n",
              "            color:  black;\n",
              "        }#T_33b60a10_6e9a_11ec_8db6_0242ac1c0002row0_col1,#T_33b60a10_6e9a_11ec_8db6_0242ac1c0002row0_col2,#T_33b60a10_6e9a_11ec_8db6_0242ac1c0002row0_col4,#T_33b60a10_6e9a_11ec_8db6_0242ac1c0002row0_col5,#T_33b60a10_6e9a_11ec_8db6_0242ac1c0002row1_col1,#T_33b60a10_6e9a_11ec_8db6_0242ac1c0002row1_col2,#T_33b60a10_6e9a_11ec_8db6_0242ac1c0002row1_col4,#T_33b60a10_6e9a_11ec_8db6_0242ac1c0002row1_col5,#T_33b60a10_6e9a_11ec_8db6_0242ac1c0002row2_col1,#T_33b60a10_6e9a_11ec_8db6_0242ac1c0002row2_col2,#T_33b60a10_6e9a_11ec_8db6_0242ac1c0002row2_col4,#T_33b60a10_6e9a_11ec_8db6_0242ac1c0002row2_col5,#T_33b60a10_6e9a_11ec_8db6_0242ac1c0002row3_col0,#T_33b60a10_6e9a_11ec_8db6_0242ac1c0002row3_col1,#T_33b60a10_6e9a_11ec_8db6_0242ac1c0002row3_col2,#T_33b60a10_6e9a_11ec_8db6_0242ac1c0002row3_col4,#T_33b60a10_6e9a_11ec_8db6_0242ac1c0002row3_col5{\n",
              "            background:  white;\n",
              "            color:  black;\n",
              "            color:  black;\n",
              "        }#T_33b60a10_6e9a_11ec_8db6_0242ac1c0002row2_col0,#T_33b60a10_6e9a_11ec_8db6_0242ac1c0002row3_col3{\n",
              "            background:  #fff2ae;\n",
              "            color:  black;\n",
              "            color:  black;\n",
              "        }</style><table id=\"T_33b60a10_6e9a_11ec_8db6_0242ac1c0002\" ><caption>Model type: Neural Network</caption><thead>    <tr>        <th class=\"blank level0\" ></th>        <th class=\"col_heading level0 col0\" >Model_4_Layer</th>        <th class=\"col_heading level0 col1\" >Model_4_Shape</th>        <th class=\"col_heading level0 col2\" >Model_4_Params</th>        <th class=\"col_heading level0 col3\" >Model_5_Layer</th>        <th class=\"col_heading level0 col4\" >Model_5_Shape</th>        <th class=\"col_heading level0 col5\" >Model_5_Params</th>    </tr></thead><tbody>\n",
              "                <tr>\n",
              "                        <th id=\"T_33b60a10_6e9a_11ec_8db6_0242ac1c0002level0_row0\" class=\"row_heading level0 row0\" >0</th>\n",
              "                        <td id=\"T_33b60a10_6e9a_11ec_8db6_0242ac1c0002row0_col0\" class=\"data row0 col0\" >LSTM</td>\n",
              "                        <td id=\"T_33b60a10_6e9a_11ec_8db6_0242ac1c0002row0_col1\" class=\"data row0 col1\" >[None, 60, 5]</td>\n",
              "                        <td id=\"T_33b60a10_6e9a_11ec_8db6_0242ac1c0002row0_col2\" class=\"data row0 col2\" >983160.000000</td>\n",
              "                        <td id=\"T_33b60a10_6e9a_11ec_8db6_0242ac1c0002row0_col3\" class=\"data row0 col3\" >LSTM</td>\n",
              "                        <td id=\"T_33b60a10_6e9a_11ec_8db6_0242ac1c0002row0_col4\" class=\"data row0 col4\" >[None, 60, 5]</td>\n",
              "                        <td id=\"T_33b60a10_6e9a_11ec_8db6_0242ac1c0002row0_col5\" class=\"data row0 col5\" >983160</td>\n",
              "            </tr>\n",
              "            <tr>\n",
              "                        <th id=\"T_33b60a10_6e9a_11ec_8db6_0242ac1c0002level0_row1\" class=\"row_heading level0 row1\" >1</th>\n",
              "                        <td id=\"T_33b60a10_6e9a_11ec_8db6_0242ac1c0002row1_col0\" class=\"data row1 col0\" >LSTM</td>\n",
              "                        <td id=\"T_33b60a10_6e9a_11ec_8db6_0242ac1c0002row1_col1\" class=\"data row1 col1\" >[None, 5]</td>\n",
              "                        <td id=\"T_33b60a10_6e9a_11ec_8db6_0242ac1c0002row1_col2\" class=\"data row1 col2\" >220.000000</td>\n",
              "                        <td id=\"T_33b60a10_6e9a_11ec_8db6_0242ac1c0002row1_col3\" class=\"data row1 col3\" >LSTM</td>\n",
              "                        <td id=\"T_33b60a10_6e9a_11ec_8db6_0242ac1c0002row1_col4\" class=\"data row1 col4\" >[None, 60, 14]</td>\n",
              "                        <td id=\"T_33b60a10_6e9a_11ec_8db6_0242ac1c0002row1_col5\" class=\"data row1 col5\" >1120</td>\n",
              "            </tr>\n",
              "            <tr>\n",
              "                        <th id=\"T_33b60a10_6e9a_11ec_8db6_0242ac1c0002level0_row2\" class=\"row_heading level0 row2\" >2</th>\n",
              "                        <td id=\"T_33b60a10_6e9a_11ec_8db6_0242ac1c0002row2_col0\" class=\"data row2 col0\" >Dense</td>\n",
              "                        <td id=\"T_33b60a10_6e9a_11ec_8db6_0242ac1c0002row2_col1\" class=\"data row2 col1\" >[None, 3]</td>\n",
              "                        <td id=\"T_33b60a10_6e9a_11ec_8db6_0242ac1c0002row2_col2\" class=\"data row2 col2\" >18.000000</td>\n",
              "                        <td id=\"T_33b60a10_6e9a_11ec_8db6_0242ac1c0002row2_col3\" class=\"data row2 col3\" >LSTM</td>\n",
              "                        <td id=\"T_33b60a10_6e9a_11ec_8db6_0242ac1c0002row2_col4\" class=\"data row2 col4\" >[None, 3]</td>\n",
              "                        <td id=\"T_33b60a10_6e9a_11ec_8db6_0242ac1c0002row2_col5\" class=\"data row2 col5\" >216</td>\n",
              "            </tr>\n",
              "            <tr>\n",
              "                        <th id=\"T_33b60a10_6e9a_11ec_8db6_0242ac1c0002level0_row3\" class=\"row_heading level0 row3\" >3</th>\n",
              "                        <td id=\"T_33b60a10_6e9a_11ec_8db6_0242ac1c0002row3_col0\" class=\"data row3 col0\" >None</td>\n",
              "                        <td id=\"T_33b60a10_6e9a_11ec_8db6_0242ac1c0002row3_col1\" class=\"data row3 col1\" >None</td>\n",
              "                        <td id=\"T_33b60a10_6e9a_11ec_8db6_0242ac1c0002row3_col2\" class=\"data row3 col2\" >nan</td>\n",
              "                        <td id=\"T_33b60a10_6e9a_11ec_8db6_0242ac1c0002row3_col3\" class=\"data row3 col3\" >Dense</td>\n",
              "                        <td id=\"T_33b60a10_6e9a_11ec_8db6_0242ac1c0002row3_col4\" class=\"data row3 col4\" >[None, 3]</td>\n",
              "                        <td id=\"T_33b60a10_6e9a_11ec_8db6_0242ac1c0002row3_col5\" class=\"data row3 col5\" >12</td>\n",
              "            </tr>\n",
              "    </tbody></table>"
            ],
            "text/plain": [
              "<IPython.core.display.HTML object>"
            ]
          },
          "metadata": {}
        }
      ]
    }
  ]
}