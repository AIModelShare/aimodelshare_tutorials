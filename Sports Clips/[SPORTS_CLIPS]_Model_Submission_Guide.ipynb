{
 "cells": [
  {
   "cell_type": "markdown",
   "metadata": {
    "id": "g8Hr8qrnroxM"
   },
   "source": [
    "<p align=\"center\"><img width=\"50%\" src=\"https://aimodelsharecontent.s3.amazonaws.com/aimodshare_banner.jpg\" /></p>\n",
    "\n",
    "\n",
    "---\n",
    "**Source:**<br>\n",
    "*Dataset adapted from: Dataset adapted from: Soomro, K., Zamir, A. R., & Sha, M. (2012). UCF101: A Dataset of 101 Human Actions Classes From Videos in The Wild. Center for Research in Computer Vision, University of Central Florida. https://arxiv.org/pdf/1212.0402v1.pdf*\n"
   ]
  },
  {
   "cell_type": "markdown",
   "metadata": {
    "id": "JXxGTgJz152A"
   },
   "source": [
    "# Sports Clips Video Classification Competition Model Submission Guide\n",
    "\n",
    "---\n",
    "\n",
    "Let's share our models to a centralized leaderboard, so that we can collaborate and learn from the model experimentation process...\n",
    "\n",
    "**Instructions:**\n",
    "1.   Get data in and set up X_train / X_test / y_train\n",
    "2.   Preprocess data / Write and Save Preprocessor function\n",
    "3. Fit model on preprocessed data and save preprocessor function and model \n",
    "4. Generate predictions from X_test data and submit model to competition\n",
    "5. Repeat submission process to improve place on leaderboard\n",
    "\n"
   ]
  },
  {
   "cell_type": "markdown",
   "metadata": {
    "id": "5gSrVJwp3E9H"
   },
   "source": [
    "## 1. Get data in and set up X_train, X_test, y_train objects"
   ]
  },
  {
   "cell_type": "code",
   "execution_count": null,
   "metadata": {
    "id": "PLTIaMB3ChSW"
   },
   "outputs": [],
   "source": [
    "#install aimodelshare library\n",
    "! pip install aimodelshare --upgrade"
   ]
  },
  {
   "cell_type": "code",
   "execution_count": 2,
   "metadata": {
    "colab": {
     "base_uri": "https://localhost:8080/"
    },
    "id": "d3PiJXBhC5y-",
    "outputId": "042fa47e-22c3-456d-cb70-67fdf9577472"
   },
   "outputs": [
    {
     "name": "stdout",
     "output_type": "stream",
     "text": [
      "Downloading [================================================>]\n",
      "\n",
      "Data downloaded successfully.\n"
     ]
    }
   ],
   "source": [
    "# Get competition data\n",
    "from aimodelshare import download_data\n",
    "download_data('public.ecr.aws/y2e2a1d6/sports_clips_competition_data-repository:latest') "
   ]
  },
  {
   "cell_type": "markdown",
   "metadata": {
    "id": "gEzPoXPj3V7u"
   },
   "source": [
    "##2.   Preprocess data / Write and Save Preprocessor function\n"
   ]
  },
  {
   "cell_type": "code",
   "execution_count": 3,
   "metadata": {
    "id": "zJMxj9wgvtLk"
   },
   "outputs": [],
   "source": [
    "def preprocessor(video, num_frames=60, gap_frames=3, **kwargs):\n",
    "\n",
    "    \"\"\"\n",
    "      This function preprocesses the data to extract frames out of each video and resize\n",
    "      them to a fixed size of (128x128) pixels. Moreover, these images are flattened out to\n",
    "      act as features for each time step.\n",
    "      \n",
    "      params:\n",
    "          video_list\n",
    "              location of video files to be processed\n",
    "\n",
    "          num_frames\n",
    "              the number of frames to be extracted from each video. If there aren't\n",
    "              sufficient frames, then the list is padded with zeros\n",
    "              \n",
    "          gap_frames:\n",
    "              the number of frames after which we extract the next frame. If =1,\n",
    "              contiguous frames are extracted\n",
    "              \n",
    "      returns:\n",
    "          X\n",
    "              list of transformed features corresponding to data passed as input\n",
    "      \n",
    "    \"\"\"\n",
    "\n",
    "    import cv2\n",
    "    import numpy as np\n",
    "\n",
    "    vidcap = cv2.VideoCapture(video)\n",
    "    \n",
    "    frames = []\n",
    "\n",
    "    success, frame = vidcap.read()\n",
    "    idx = 0\n",
    "\n",
    "    while success:\n",
    "        # for each frame, do if we satisfy the gap_frames parameter\n",
    "        if idx % gap_frames == 0:\n",
    "            # convert to RGB (default cv2 is BGR)\n",
    "            # this is important because the vgg model is trained on RGB images\n",
    "            frame = cv2.cvtColor(frame, cv2.COLOR_BGR2RGB)\n",
    "            frame = cv2.resize(frame, (128, 128))\n",
    "\n",
    "            # extract features for the resized image\n",
    "            frame = frame / 255.0 # Min-max transform.\n",
    "\n",
    "            # flatten the features and append to a list of features for this video\n",
    "            frame = frame.reshape(-1)\n",
    "\n",
    "            frames.append(frame)\n",
    "\n",
    "            if len(frames) >= num_frames:\n",
    "                break\n",
    "\n",
    "        idx += 1\n",
    "        success, frame = vidcap.read()\n",
    "\n",
    "    # if number of timesteps or frames < num_frames, pad\n",
    "    while len(frames) < num_frames:\n",
    "        frames.append(np.zeros(*frames[-1].shape))\n",
    "\n",
    "    X = np.array(frames)\n",
    "    X = np.expand_dims(X, axis=0)\n",
    "    X = np.array(X, dtype=np.float32)\n",
    "\n",
    "    return X"
   ]
  },
  {
   "cell_type": "code",
   "execution_count": 4,
   "metadata": {
    "id": "6s3jyXB_9ozG"
   },
   "outputs": [],
   "source": [
    "## Prepare data: \n",
    "# Unzip video clips\n",
    "import zipfile\n",
    "with zipfile.ZipFile('sports_clips_competition_data/clips_test.zip', 'r') as zip_ref:\n",
    "    zip_ref.extractall('X_test_clips')\n",
    "\n",
    "with zipfile.ZipFile('sports_clips_competition_data/clips_train.zip', 'r') as zip_ref:\n",
    "    zip_ref.extractall('X_train_clips')\n",
    "\n",
    "# Preprocess clips\n",
    "import numpy as np\n",
    "file_names_test = [('X_test_clips/clips_test/' + str(i) + '.avi') for i in range(1, 46)]\n",
    "preprocessed_test_data = [preprocessor(x) for x in file_names_test]\n",
    "\n",
    "file_names_train = [('X_train_clips/clips_train/' + str(i) + '.avi') for i in range(1, 106)]\n",
    "preprocessed_train_data = [preprocessor(x) for x in file_names_train]\n",
    "\n",
    "#Create arrays from preprocessed videos\n",
    "X_test = np.vstack(preprocessed_test_data) \n",
    "X_train = np.vstack(preprocessed_train_data) "
   ]
  },
  {
   "cell_type": "code",
   "execution_count": 5,
   "metadata": {
    "id": "d0iuJCvytkB-"
   },
   "outputs": [],
   "source": [
    "# read in y_train data object\n",
    "import pandas as pd\n",
    "\n",
    "y_train = pd.read_csv(\"sports_clips_competition_data/y_train.csv\")"
   ]
  },
  {
   "cell_type": "code",
   "execution_count": 6,
   "metadata": {
    "colab": {
     "base_uri": "https://localhost:8080/"
    },
    "id": "O9Y8_QIHwqw9",
    "outputId": "38c06084-6045-4b91-e7fa-741f8c38d9d8"
   },
   "outputs": [
    {
     "name": "stdout",
     "output_type": "stream",
     "text": [
      "(105, 60, 49152)\n",
      "(45, 60, 49152)\n",
      "(105, 3)\n"
     ]
    }
   ],
   "source": [
    "# Check shape \n",
    "\n",
    "print(X_train.shape)\n",
    "print(X_test.shape)\n",
    "print(y_train.shape)"
   ]
  },
  {
   "cell_type": "markdown",
   "metadata": {
    "id": "X52kECL43b-O"
   },
   "source": [
    "##3. Fit model on preprocessed data and save preprocessor function and model \n"
   ]
  },
  {
   "cell_type": "code",
   "execution_count": 7,
   "metadata": {
    "colab": {
     "base_uri": "https://localhost:8080/"
    },
    "id": "NCbBf8j9ClYl",
    "outputId": "27f10447-16a2-4e5d-e4a3-49e834fd9803"
   },
   "outputs": [
    {
     "name": "stdout",
     "output_type": "stream",
     "text": [
      "84/84 - 129s - loss: 1.0299 - accuracy: 0.5476 - val_loss: 0.8983 - val_accuracy: 0.5714 - 129s/epoch - 2s/step\n"
     ]
    }
   ],
   "source": [
    "import tensorflow as tf\n",
    "from tensorflow.keras.models import Sequential\n",
    "from tensorflow.keras.layers import Dense, Activation, Dropout\n",
    "from keras.layers import LSTM\n",
    "\n",
    "# defining the model\n",
    "hidden_size = 50\n",
    "dense_out_1 = 20\n",
    "dense_out_2 = 3\n",
    "\n",
    "video_1 = Sequential()\n",
    "video_1.add(LSTM(hidden_size))\n",
    "video_1.add(Dense(dense_out_1, activation=\"relu\"))\n",
    "video_1.add(Dense(dense_out_2, activation=\"softmax\"))\n",
    "\n",
    "video_1.compile(loss=\"categorical_crossentropy\", optimizer=\"adam\", metrics=[\"accuracy\"])\n",
    "\n",
    "with tf.device('/device:GPU:0'): #\"/GPU:0\": Short-hand notation for the first GPU of your machine that is visible to TensorFlow.\n",
    "\n",
    "  history = video_1.fit(\n",
    "      X_train,\n",
    "      y_train,\n",
    "      epochs=1,\n",
    "      batch_size=1,\n",
    "      validation_split=0.2,\n",
    "      verbose=2)"
   ]
  },
  {
   "cell_type": "markdown",
   "metadata": {
    "id": "zmJAnmO-5AcU"
   },
   "source": [
    "#### Save preprocessor function to local \"preprocessor.zip\" file"
   ]
  },
  {
   "cell_type": "code",
   "execution_count": 8,
   "metadata": {
    "colab": {
     "base_uri": "https://localhost:8080/"
    },
    "id": "4VGacc0LDaMA",
    "outputId": "6a97d771-3818-4764-e9d8-c699b62f9d0e"
   },
   "outputs": [
    {
     "name": "stdout",
     "output_type": "stream",
     "text": [
      "Your preprocessor is now saved to 'preprocessor.zip'\n"
     ]
    }
   ],
   "source": [
    "import aimodelshare as ai\n",
    "ai.export_preprocessor(preprocessor,\"\") "
   ]
  },
  {
   "cell_type": "markdown",
   "metadata": {
    "id": "oOWBa8Cv5LdL"
   },
   "source": [
    "#### Save model to local \".onnx\" file"
   ]
  },
  {
   "cell_type": "code",
   "execution_count": 9,
   "metadata": {
    "id": "pEhvnRiQDlY5"
   },
   "outputs": [],
   "source": [
    "# Save keras model to local ONNX file\n",
    "from aimodelshare.aimsonnx import model_to_onnx\n",
    "\n",
    "onnx_model = model_to_onnx(video_1, framework='keras',\n",
    "                          transfer_learning=False,\n",
    "                          deep_learning=True)\n",
    "\n",
    "with open(\"model.onnx\", \"wb\") as f:\n",
    "    f.write(onnx_model.SerializeToString())"
   ]
  },
  {
   "cell_type": "markdown",
   "metadata": {
    "id": "gHWkAzvX3m8O"
   },
   "source": [
    "## 4. Generate predictions from X_test data and submit model to competition\n"
   ]
  },
  {
   "cell_type": "code",
   "execution_count": 10,
   "metadata": {
    "colab": {
     "base_uri": "https://localhost:8080/"
    },
    "id": "RtgkM02MDpkO",
    "outputId": "5236c382-4efe-4194-a710-56febc86bba5"
   },
   "outputs": [
    {
     "name": "stdout",
     "output_type": "stream",
     "text": [
      "AI Modelshare Username:··········\n",
      "AI Modelshare Password:··········\n",
      "AI Model Share login credentials set successfully.\n"
     ]
    }
   ],
   "source": [
    "#Set credentials using modelshare.org username/password\n",
    "\n",
    "from aimodelshare.aws import set_credentials\n",
    "    \n",
    "apiurl=\"https://bd5gfx9wj3.execute-api.us-east-1.amazonaws.com/prod/m\" #This is the unique rest api that powers this Sports Clips Classification Model Playground\n",
    "\n",
    "set_credentials(apiurl=apiurl)"
   ]
  },
  {
   "cell_type": "code",
   "execution_count": 11,
   "metadata": {
    "id": "fKNGSww8EGgi"
   },
   "outputs": [],
   "source": [
    "#Instantiate Competition\n",
    "\n",
    "mycompetition= ai.Competition(apiurl)"
   ]
  },
  {
   "cell_type": "code",
   "execution_count": 12,
   "metadata": {
    "colab": {
     "base_uri": "https://localhost:8080/"
    },
    "id": "_Ql4wksyEUnP",
    "outputId": "185fad89-620f-40c7-e3d3-e482d68f75aa"
   },
   "outputs": [
    {
     "name": "stdout",
     "output_type": "stream",
     "text": [
      "Insert search tags to help users find your model (optional): \n",
      "Provide any useful notes about your model (optional): \n",
      "\n",
      "Your model has been submitted as model version 3\n",
      "\n",
      "To submit code used to create this model or to view current leaderboard navigate to Model Playground: \n",
      "\n",
      " https://www.modelshare.org/detail/model:1658\n"
     ]
    }
   ],
   "source": [
    "#Submit Model 1: \n",
    "\n",
    "#-- Generate predicted y values (Model 1)\n",
    "#Note: Keras predict returns the predicted column index location for classification models\n",
    "prediction_column_index=video_1.predict(X_test).argmax(axis=1)\n",
    "\n",
    "# extract correct prediction labels \n",
    "prediction_labels = [y_train.columns[i] for i in prediction_column_index]\n",
    "\n",
    "# Submit Model 1 to Competition Leaderboard\n",
    "mycompetition.submit_model(model_filepath = \"model.onnx\",\n",
    "                                 preprocessor_filepath=\"preprocessor.zip\",\n",
    "                                 prediction_submission=prediction_labels)"
   ]
  },
  {
   "cell_type": "code",
   "execution_count": 13,
   "metadata": {
    "colab": {
     "base_uri": "https://localhost:8080/",
     "height": 138
    },
    "id": "GN1zvAmNEq17",
    "outputId": "f11f1319-0274-4453-f4e2-07b94260e800"
   },
   "outputs": [
    {
     "data": {
      "text/html": [
       "<style type=\"text/css\">\n",
       "#T_94602_row0_col0 {\n",
       "  text-align: center;\n",
       "  width: 10em;\n",
       "  height: 80%;\n",
       "  background: linear-gradient(90deg,#f5f8d6 69.6%, transparent 69.6%);\n",
       "  color: #251e1b;\n",
       "  font-size: 12px;\n",
       "}\n",
       "#T_94602_row0_col1 {\n",
       "  text-align: center;\n",
       "  width: 10em;\n",
       "  height: 80%;\n",
       "  background: linear-gradient(90deg,#c778c8 55.5%, transparent 55.5%);\n",
       "  color: #251e1b;\n",
       "  font-size: 12px;\n",
       "}\n",
       "#T_94602_row0_col2 {\n",
       "  text-align: center;\n",
       "  width: 10em;\n",
       "  height: 80%;\n",
       "  background: linear-gradient(90deg,#ff4971 52.9%, transparent 52.9%);\n",
       "  color: #251e1b;\n",
       "  font-size: 12px;\n",
       "}\n",
       "#T_94602_row0_col3, #T_94602_row2_col3 {\n",
       "  text-align: center;\n",
       "  width: 10em;\n",
       "  height: 80%;\n",
       "  background: linear-gradient(90deg,#aadbaa 61.9%, transparent 61.9%);\n",
       "  color: #251e1b;\n",
       "  font-size: 12px;\n",
       "}\n",
       "#T_94602_row0_col4, #T_94602_row0_col5, #T_94602_row0_col6, #T_94602_row0_col7, #T_94602_row0_col8, #T_94602_row0_col9, #T_94602_row0_col10, #T_94602_row0_col11, #T_94602_row0_col12, #T_94602_row0_col13, #T_94602_row0_col14, #T_94602_row0_col15, #T_94602_row0_col16, #T_94602_row0_col17, #T_94602_row0_col18, #T_94602_row0_col19, #T_94602_row1_col4, #T_94602_row1_col5, #T_94602_row1_col6, #T_94602_row1_col7, #T_94602_row1_col8, #T_94602_row1_col9, #T_94602_row1_col10, #T_94602_row1_col11, #T_94602_row1_col12, #T_94602_row1_col13, #T_94602_row1_col14, #T_94602_row1_col15, #T_94602_row1_col16, #T_94602_row1_col17, #T_94602_row1_col18, #T_94602_row1_col19, #T_94602_row2_col4, #T_94602_row2_col5, #T_94602_row2_col6, #T_94602_row2_col7, #T_94602_row2_col8, #T_94602_row2_col9, #T_94602_row2_col10, #T_94602_row2_col11, #T_94602_row2_col12, #T_94602_row2_col13, #T_94602_row2_col14, #T_94602_row2_col15, #T_94602_row2_col16, #T_94602_row2_col17, #T_94602_row2_col18, #T_94602_row2_col19 {\n",
       "  text-align: center;\n",
       "}\n",
       "#T_94602_row1_col0 {\n",
       "  text-align: center;\n",
       "  width: 10em;\n",
       "  height: 80%;\n",
       "  background: linear-gradient(90deg,#f5f8d6 60.9%, transparent 60.9%);\n",
       "  color: #251e1b;\n",
       "  font-size: 12px;\n",
       "}\n",
       "#T_94602_row1_col1 {\n",
       "  text-align: center;\n",
       "  width: 10em;\n",
       "  height: 80%;\n",
       "  background: linear-gradient(90deg,#c778c8 60.9%, transparent 60.9%);\n",
       "  color: #251e1b;\n",
       "  font-size: 12px;\n",
       "}\n",
       "#T_94602_row1_col2 {\n",
       "  text-align: center;\n",
       "  width: 10em;\n",
       "  height: 80%;\n",
       "  background: linear-gradient(90deg,#ff4971 62.6%, transparent 62.6%);\n",
       "  color: #251e1b;\n",
       "  font-size: 12px;\n",
       "}\n",
       "#T_94602_row1_col3 {\n",
       "  text-align: center;\n",
       "  width: 10em;\n",
       "  height: 80%;\n",
       "  background: linear-gradient(90deg,#aadbaa 59.7%, transparent 59.7%);\n",
       "  color: #251e1b;\n",
       "  font-size: 12px;\n",
       "}\n",
       "#T_94602_row2_col0 {\n",
       "  text-align: center;\n",
       "  width: 10em;\n",
       "  height: 80%;\n",
       "  background: linear-gradient(90deg,#f5f8d6 52.2%, transparent 52.2%);\n",
       "  color: #251e1b;\n",
       "  font-size: 12px;\n",
       "}\n",
       "#T_94602_row2_col1 {\n",
       "  text-align: center;\n",
       "  width: 10em;\n",
       "  height: 80%;\n",
       "  background: linear-gradient(90deg,#c778c8 48.2%, transparent 48.2%);\n",
       "  color: #251e1b;\n",
       "  font-size: 12px;\n",
       "}\n",
       "#T_94602_row2_col2 {\n",
       "  text-align: center;\n",
       "  width: 10em;\n",
       "  height: 80%;\n",
       "  background: linear-gradient(90deg,#ff4971 45.1%, transparent 45.1%);\n",
       "  color: #251e1b;\n",
       "  font-size: 12px;\n",
       "}\n",
       "</style>\n",
       "<table id=\"T_94602_\" class=\"dataframe\">\n",
       "  <thead>\n",
       "    <tr>\n",
       "      <th class=\"blank level0\" >&nbsp;</th>\n",
       "      <th class=\"col_heading level0 col0\" >accuracy</th>\n",
       "      <th class=\"col_heading level0 col1\" >f1_score</th>\n",
       "      <th class=\"col_heading level0 col2\" >precision</th>\n",
       "      <th class=\"col_heading level0 col3\" >recall</th>\n",
       "      <th class=\"col_heading level0 col4\" >ml_framework</th>\n",
       "      <th class=\"col_heading level0 col5\" >transfer_learning</th>\n",
       "      <th class=\"col_heading level0 col6\" >deep_learning</th>\n",
       "      <th class=\"col_heading level0 col7\" >model_type</th>\n",
       "      <th class=\"col_heading level0 col8\" >depth</th>\n",
       "      <th class=\"col_heading level0 col9\" >num_params</th>\n",
       "      <th class=\"col_heading level0 col10\" >lstm_layers</th>\n",
       "      <th class=\"col_heading level0 col11\" >dense_layers</th>\n",
       "      <th class=\"col_heading level0 col12\" >softmax_act</th>\n",
       "      <th class=\"col_heading level0 col13\" >tanh_act</th>\n",
       "      <th class=\"col_heading level0 col14\" >relu_act</th>\n",
       "      <th class=\"col_heading level0 col15\" >loss</th>\n",
       "      <th class=\"col_heading level0 col16\" >optimizer</th>\n",
       "      <th class=\"col_heading level0 col17\" >memory_size</th>\n",
       "      <th class=\"col_heading level0 col18\" >username</th>\n",
       "      <th class=\"col_heading level0 col19\" >version</th>\n",
       "    </tr>\n",
       "  </thead>\n",
       "  <tbody>\n",
       "    <tr>\n",
       "      <th id=\"T_94602_level0_row0\" class=\"row_heading level0 row0\" >0</th>\n",
       "      <td id=\"T_94602_row0_col0\" class=\"data row0 col0\" >69.57%</td>\n",
       "      <td id=\"T_94602_row0_col1\" class=\"data row0 col1\" >55.46%</td>\n",
       "      <td id=\"T_94602_row0_col2\" class=\"data row0 col2\" >52.94%</td>\n",
       "      <td id=\"T_94602_row0_col3\" class=\"data row0 col3\" >61.90%</td>\n",
       "      <td id=\"T_94602_row0_col4\" class=\"data row0 col4\" >keras</td>\n",
       "      <td id=\"T_94602_row0_col5\" class=\"data row0 col5\" >False</td>\n",
       "      <td id=\"T_94602_row0_col6\" class=\"data row0 col6\" >True</td>\n",
       "      <td id=\"T_94602_row0_col7\" class=\"data row0 col7\" >Sequential</td>\n",
       "      <td id=\"T_94602_row0_col8\" class=\"data row0 col8\" >3</td>\n",
       "      <td id=\"T_94602_row0_col9\" class=\"data row0 col9\" >983398</td>\n",
       "      <td id=\"T_94602_row0_col10\" class=\"data row0 col10\" >2</td>\n",
       "      <td id=\"T_94602_row0_col11\" class=\"data row0 col11\" >1</td>\n",
       "      <td id=\"T_94602_row0_col12\" class=\"data row0 col12\" >1</td>\n",
       "      <td id=\"T_94602_row0_col13\" class=\"data row0 col13\" >2</td>\n",
       "      <td id=\"T_94602_row0_col14\" class=\"data row0 col14\" >nan</td>\n",
       "      <td id=\"T_94602_row0_col15\" class=\"data row0 col15\" >function</td>\n",
       "      <td id=\"T_94602_row0_col16\" class=\"data row0 col16\" >Adam</td>\n",
       "      <td id=\"T_94602_row0_col17\" class=\"data row0 col17\" >2218656</td>\n",
       "      <td id=\"T_94602_row0_col18\" class=\"data row0 col18\" >AIModelShare</td>\n",
       "      <td id=\"T_94602_row0_col19\" class=\"data row0 col19\" >2</td>\n",
       "    </tr>\n",
       "    <tr>\n",
       "      <th id=\"T_94602_level0_row1\" class=\"row_heading level0 row1\" >1</th>\n",
       "      <td id=\"T_94602_row1_col0\" class=\"data row1 col0\" >60.87%</td>\n",
       "      <td id=\"T_94602_row1_col1\" class=\"data row1 col1\" >60.93%</td>\n",
       "      <td id=\"T_94602_row1_col2\" class=\"data row1 col2\" >62.63%</td>\n",
       "      <td id=\"T_94602_row1_col3\" class=\"data row1 col3\" >59.68%</td>\n",
       "      <td id=\"T_94602_row1_col4\" class=\"data row1 col4\" >keras</td>\n",
       "      <td id=\"T_94602_row1_col5\" class=\"data row1 col5\" >False</td>\n",
       "      <td id=\"T_94602_row1_col6\" class=\"data row1 col6\" >True</td>\n",
       "      <td id=\"T_94602_row1_col7\" class=\"data row1 col7\" >Sequential</td>\n",
       "      <td id=\"T_94602_row1_col8\" class=\"data row1 col8\" >3</td>\n",
       "      <td id=\"T_94602_row1_col9\" class=\"data row1 col9\" >9841683</td>\n",
       "      <td id=\"T_94602_row1_col10\" class=\"data row1 col10\" >1</td>\n",
       "      <td id=\"T_94602_row1_col11\" class=\"data row1 col11\" >2</td>\n",
       "      <td id=\"T_94602_row1_col12\" class=\"data row1 col12\" >1</td>\n",
       "      <td id=\"T_94602_row1_col13\" class=\"data row1 col13\" >1</td>\n",
       "      <td id=\"T_94602_row1_col14\" class=\"data row1 col14\" >1.000000</td>\n",
       "      <td id=\"T_94602_row1_col15\" class=\"data row1 col15\" >str</td>\n",
       "      <td id=\"T_94602_row1_col16\" class=\"data row1 col16\" >Adam</td>\n",
       "      <td id=\"T_94602_row1_col17\" class=\"data row1 col17\" >5202352</td>\n",
       "      <td id=\"T_94602_row1_col18\" class=\"data row1 col18\" >AIModelShare</td>\n",
       "      <td id=\"T_94602_row1_col19\" class=\"data row1 col19\" >3</td>\n",
       "    </tr>\n",
       "    <tr>\n",
       "      <th id=\"T_94602_level0_row2\" class=\"row_heading level0 row2\" >2</th>\n",
       "      <td id=\"T_94602_row2_col0\" class=\"data row2 col0\" >52.17%</td>\n",
       "      <td id=\"T_94602_row2_col1\" class=\"data row2 col1\" >48.16%</td>\n",
       "      <td id=\"T_94602_row2_col2\" class=\"data row2 col2\" >45.10%</td>\n",
       "      <td id=\"T_94602_row2_col3\" class=\"data row2 col3\" >61.90%</td>\n",
       "      <td id=\"T_94602_row2_col4\" class=\"data row2 col4\" >keras</td>\n",
       "      <td id=\"T_94602_row2_col5\" class=\"data row2 col5\" >False</td>\n",
       "      <td id=\"T_94602_row2_col6\" class=\"data row2 col6\" >True</td>\n",
       "      <td id=\"T_94602_row2_col7\" class=\"data row2 col7\" >Sequential</td>\n",
       "      <td id=\"T_94602_row2_col8\" class=\"data row2 col8\" >3</td>\n",
       "      <td id=\"T_94602_row2_col9\" class=\"data row2 col9\" >9841683</td>\n",
       "      <td id=\"T_94602_row2_col10\" class=\"data row2 col10\" >1</td>\n",
       "      <td id=\"T_94602_row2_col11\" class=\"data row2 col11\" >2</td>\n",
       "      <td id=\"T_94602_row2_col12\" class=\"data row2 col12\" >1</td>\n",
       "      <td id=\"T_94602_row2_col13\" class=\"data row2 col13\" >1</td>\n",
       "      <td id=\"T_94602_row2_col14\" class=\"data row2 col14\" >1.000000</td>\n",
       "      <td id=\"T_94602_row2_col15\" class=\"data row2 col15\" >function</td>\n",
       "      <td id=\"T_94602_row2_col16\" class=\"data row2 col16\" >Adam</td>\n",
       "      <td id=\"T_94602_row2_col17\" class=\"data row2 col17\" >219360</td>\n",
       "      <td id=\"T_94602_row2_col18\" class=\"data row2 col18\" >AIModelShare</td>\n",
       "      <td id=\"T_94602_row2_col19\" class=\"data row2 col19\" >1</td>\n",
       "    </tr>\n",
       "  </tbody>\n",
       "</table>\n"
      ],
      "text/plain": [
       "<pandas.io.formats.style.Styler at 0x7f65f09cfb50>"
      ]
     },
     "execution_count": 13,
     "metadata": {},
     "output_type": "execute_result"
    }
   ],
   "source": [
    "# Get leaderboard to explore current best model architectures\n",
    "\n",
    "# Get raw data in pandas data frame\n",
    "data = mycompetition.get_leaderboard()\n",
    "\n",
    "# Stylize leaderboard data\n",
    "mycompetition.stylize_leaderboard(data)"
   ]
  },
  {
   "cell_type": "markdown",
   "metadata": {
    "id": "bwNKs0wP4r5s"
   },
   "source": [
    "## 5. Repeat submission process to improve place on leaderboard\n"
   ]
  },
  {
   "cell_type": "code",
   "execution_count": 14,
   "metadata": {
    "colab": {
     "base_uri": "https://localhost:8080/"
    },
    "id": "FgSs5PAtPCZH",
    "outputId": "2fe67fba-40fd-4e79-b142-bc375c2e87ec"
   },
   "outputs": [
    {
     "name": "stdout",
     "output_type": "stream",
     "text": [
      "84/84 - 21s - loss: 1.0551 - accuracy: 0.3929 - val_loss: 1.0618 - val_accuracy: 0.5238 - 21s/epoch - 247ms/step\n"
     ]
    }
   ],
   "source": [
    "# Train and submit model 2 using same preprocessor (note that you could save a new preprocessor, but we will use the same one for this example).\n",
    "\n",
    "# defining the model\n",
    "import tensorflow as tf\n",
    "from tensorflow.keras.models import Sequential\n",
    "from tensorflow.keras.layers import Dense, Activation, Dropout\n",
    "from keras.layers import LSTM\n",
    "\n",
    "hidden_size = 5\n",
    "dense_out = 3\n",
    "\n",
    "video_2 = Sequential()\n",
    "video_2.add(LSTM(hidden_size, return_sequences=True, dropout=.2, input_shape=(60, 49152)))\n",
    "video_2.add(LSTM(hidden_size, dropout=.2))\n",
    "video_2.add(Dense(dense_out, activation=\"softmax\"))\n",
    "\n",
    "video_2.compile(loss=\"categorical_crossentropy\", optimizer=\"adam\", metrics=[\"accuracy\"])\n",
    "\n",
    "with tf.device('/device:GPU:0'):\n",
    "\n",
    "  history = video_2.fit(\n",
    "      X_train,\n",
    "      y_train,\n",
    "      epochs=1,\n",
    "      batch_size=1,\n",
    "      validation_split=0.2,\n",
    "      verbose=2\n",
    "  )"
   ]
  },
  {
   "cell_type": "code",
   "execution_count": 15,
   "metadata": {
    "id": "aIdmSpYVPYAw"
   },
   "outputs": [],
   "source": [
    "# Save keras model to local ONNX file\n",
    "from aimodelshare.aimsonnx import model_to_onnx\n",
    "\n",
    "onnx_model = model_to_onnx(video_2, framework='keras',\n",
    "                          transfer_learning=False,\n",
    "                          deep_learning=True)\n",
    "\n",
    "with open(\"model2.onnx\", \"wb\") as f:\n",
    "    f.write(onnx_model.SerializeToString())"
   ]
  },
  {
   "cell_type": "code",
   "execution_count": 16,
   "metadata": {
    "colab": {
     "base_uri": "https://localhost:8080/"
    },
    "id": "nszPPrfwPlUk",
    "outputId": "89a1d1de-2bd5-41c8-b96e-7934e43b4326"
   },
   "outputs": [
    {
     "name": "stdout",
     "output_type": "stream",
     "text": [
      "Insert search tags to help users find your model (optional): \n",
      "Provide any useful notes about your model (optional): \n",
      "\n",
      "Your model has been submitted as model version 4\n",
      "\n",
      "To submit code used to create this model or to view current leaderboard navigate to Model Playground: \n",
      "\n",
      " https://www.modelshare.org/detail/model:1658\n"
     ]
    }
   ],
   "source": [
    "#Submit Model 2: \n",
    "\n",
    "#-- Generate predicted y values (Model 2)\n",
    "prediction_column_index=video_2.predict(X_test).argmax(axis=1)\n",
    "\n",
    "# extract correct prediction labels \n",
    "prediction_labels = [y_train.columns[i] for i in prediction_column_index]\n",
    "\n",
    "# Submit Model 2 to Competition Leaderboard\n",
    "mycompetition.submit_model(model_filepath = \"model2.onnx\",\n",
    "                                 preprocessor_filepath=\"preprocessor.zip\",\n",
    "                                 prediction_submission=prediction_labels)"
   ]
  },
  {
   "cell_type": "code",
   "execution_count": 17,
   "metadata": {
    "colab": {
     "base_uri": "https://localhost:8080/",
     "height": 108
    },
    "id": "qLl7yLpVEx26",
    "outputId": "a70074d2-6d00-4702-91d5-5beff67b82a8"
   },
   "outputs": [
    {
     "data": {
      "text/html": [
       "<style type=\"text/css\">\n",
       "#T_cd372_ caption {\n",
       "  color: black;\n",
       "  font-size: 18px;\n",
       "}\n",
       "#T_cd372_row0_col0, #T_cd372_row0_col3, #T_cd372_row1_col3 {\n",
       "  background: #cbd5e8;\n",
       "  color: black;\n",
       "  color: black;\n",
       "}\n",
       "#T_cd372_row0_col1, #T_cd372_row0_col2, #T_cd372_row0_col4, #T_cd372_row0_col5, #T_cd372_row1_col1, #T_cd372_row1_col2, #T_cd372_row1_col4, #T_cd372_row1_col5, #T_cd372_row2_col1, #T_cd372_row2_col2, #T_cd372_row2_col4, #T_cd372_row2_col5 {\n",
       "  background: white;\n",
       "  color: black;\n",
       "  color: black;\n",
       "}\n",
       "#T_cd372_row1_col0, #T_cd372_row2_col0, #T_cd372_row2_col3 {\n",
       "  background: #fff2ae;\n",
       "  color: black;\n",
       "  color: black;\n",
       "}\n",
       "</style>\n",
       "<table id=\"T_cd372_\">\n",
       "  <caption>Model type: Neural Network</caption>\n",
       "  <thead>\n",
       "    <tr>\n",
       "      <th class=\"blank level0\" >&nbsp;</th>\n",
       "      <th class=\"col_heading level0 col0\" >Model_3_Layer</th>\n",
       "      <th class=\"col_heading level0 col1\" >Model_3_Shape</th>\n",
       "      <th class=\"col_heading level0 col2\" >Model_3_Params</th>\n",
       "      <th class=\"col_heading level0 col3\" >Model_4_Layer</th>\n",
       "      <th class=\"col_heading level0 col4\" >Model_4_Shape</th>\n",
       "      <th class=\"col_heading level0 col5\" >Model_4_Params</th>\n",
       "    </tr>\n",
       "  </thead>\n",
       "  <tbody>\n",
       "    <tr>\n",
       "      <th id=\"T_cd372_level0_row0\" class=\"row_heading level0 row0\" >0</th>\n",
       "      <td id=\"T_cd372_row0_col0\" class=\"data row0 col0\" >LSTM</td>\n",
       "      <td id=\"T_cd372_row0_col1\" class=\"data row0 col1\" >[None, 50]</td>\n",
       "      <td id=\"T_cd372_row0_col2\" class=\"data row0 col2\" >9840600</td>\n",
       "      <td id=\"T_cd372_row0_col3\" class=\"data row0 col3\" >LSTM</td>\n",
       "      <td id=\"T_cd372_row0_col4\" class=\"data row0 col4\" >[None, 60, 5]</td>\n",
       "      <td id=\"T_cd372_row0_col5\" class=\"data row0 col5\" >983160</td>\n",
       "    </tr>\n",
       "    <tr>\n",
       "      <th id=\"T_cd372_level0_row1\" class=\"row_heading level0 row1\" >1</th>\n",
       "      <td id=\"T_cd372_row1_col0\" class=\"data row1 col0\" >Dense</td>\n",
       "      <td id=\"T_cd372_row1_col1\" class=\"data row1 col1\" >[None, 20]</td>\n",
       "      <td id=\"T_cd372_row1_col2\" class=\"data row1 col2\" >1020</td>\n",
       "      <td id=\"T_cd372_row1_col3\" class=\"data row1 col3\" >LSTM</td>\n",
       "      <td id=\"T_cd372_row1_col4\" class=\"data row1 col4\" >[None, 5]</td>\n",
       "      <td id=\"T_cd372_row1_col5\" class=\"data row1 col5\" >220</td>\n",
       "    </tr>\n",
       "    <tr>\n",
       "      <th id=\"T_cd372_level0_row2\" class=\"row_heading level0 row2\" >2</th>\n",
       "      <td id=\"T_cd372_row2_col0\" class=\"data row2 col0\" >Dense</td>\n",
       "      <td id=\"T_cd372_row2_col1\" class=\"data row2 col1\" >[None, 3]</td>\n",
       "      <td id=\"T_cd372_row2_col2\" class=\"data row2 col2\" >63</td>\n",
       "      <td id=\"T_cd372_row2_col3\" class=\"data row2 col3\" >Dense</td>\n",
       "      <td id=\"T_cd372_row2_col4\" class=\"data row2 col4\" >[None, 3]</td>\n",
       "      <td id=\"T_cd372_row2_col5\" class=\"data row2 col5\" >18</td>\n",
       "    </tr>\n",
       "  </tbody>\n",
       "</table>\n"
      ],
      "text/plain": [
       "<IPython.core.display.HTML object>"
      ]
     },
     "metadata": {},
     "output_type": "display_data"
    }
   ],
   "source": [
    "# Compare two or more models \n",
    "data=mycompetition.compare_models([3,4], verbose=1)\n",
    "mycompetition.stylize_compare(data)"
   ]
  },
  {
   "cell_type": "markdown",
   "metadata": {
    "id": "Pl67bOO-lz9k"
   },
   "source": [
    "## Optional: Tune model within range of hyperparameters with Keras Tuner\n",
    "\n",
    "*Simple example shown below. Consult [documentation](https://keras.io/guides/keras_tuner/getting_started/) to see full functionality.*"
   ]
  },
  {
   "cell_type": "code",
   "execution_count": null,
   "metadata": {
    "id": "MOGXwppct0KI"
   },
   "outputs": [],
   "source": [
    "! pip install keras_tuner"
   ]
  },
  {
   "cell_type": "code",
   "execution_count": 19,
   "metadata": {
    "id": "O7o_zA3fv-ra"
   },
   "outputs": [],
   "source": [
    "#Separate validation data \n",
    "from sklearn.model_selection import train_test_split\n",
    "x_train_split, x_val, y_train_split, y_val = train_test_split(\n",
    "     X_train, y_train, test_size=0.2, random_state=42)"
   ]
  },
  {
   "cell_type": "code",
   "execution_count": 20,
   "metadata": {
    "colab": {
     "base_uri": "https://localhost:8080/"
    },
    "id": "olzZ7aposfwH",
    "outputId": "1f1e4125-f8ef-4bb9-af8b-daededac29b2"
   },
   "outputs": [
    {
     "name": "stdout",
     "output_type": "stream",
     "text": [
      "Trial 2 Complete [00h 00m 17s]\n",
      "val_accuracy: 0.1428571492433548\n",
      "\n",
      "Best val_accuracy So Far: 0.4761904776096344\n",
      "Total elapsed time: 00h 00m 52s\n"
     ]
    }
   ],
   "source": [
    "import keras_tuner as kt\n",
    "import tensorflow as tf\n",
    "from tensorflow.keras.models import Sequential\n",
    "from tensorflow.keras.layers import Dense, Activation, Dropout\n",
    "from keras.layers import LSTM\n",
    "\n",
    "#Define model structure & parameter search space with function\n",
    "def build_model(hp):\n",
    "    model = Sequential()\n",
    "    model.add(LSTM(5, return_sequences=True, dropout=.2, input_shape=(60, 49152)))\n",
    "    model.add(LSTM(units=hp.Int(\"units\", min_value=5, max_value=32, step=3), #range 5-32 inclusive, minimum step between tested values is 3\n",
    "                     return_sequences=True, dropout=0.2))\n",
    "    model.add(LSTM(3, dropout=.2))\n",
    "    model.add(Dense(3, activation=\"softmax\"))\n",
    "\n",
    "    model.compile(loss=\"categorical_crossentropy\", optimizer=\"adam\", metrics=[\"accuracy\"])\n",
    "    return model \n",
    "\n",
    "#initialize the tuner (which will search through parameters)\n",
    "tuner = kt.RandomSearch(\n",
    "    hypermodel=build_model, \n",
    "    objective=\"val_accuracy\", # objective to optimize\n",
    "    max_trials=2, #max number of trials to run during search\n",
    "    executions_per_trial=1, #higher number reduces variance of results; guages model performance more accurately \n",
    "    overwrite=True,\n",
    "    directory=\"tuning_model\",\n",
    "    project_name=\"tuning_units\",\n",
    ")\n",
    "\n",
    "tuner.search(x_train_split, y_train_split, epochs=1, validation_data=(x_val, y_val))"
   ]
  },
  {
   "cell_type": "code",
   "execution_count": 21,
   "metadata": {
    "colab": {
     "base_uri": "https://localhost:8080/"
    },
    "id": "0YaEbvJ2yND1",
    "outputId": "17646c47-ee4a-45c7-e0a9-fbe11b2b0b21"
   },
   "outputs": [
    {
     "name": "stdout",
     "output_type": "stream",
     "text": [
      "4/4 [==============================] - 13s 1s/step - loss: 1.0932 - accuracy: 0.3143\n"
     ]
    },
    {
     "data": {
      "text/plain": [
       "<keras.callbacks.History at 0x7f66ba32dfd0>"
      ]
     },
     "execution_count": 21,
     "metadata": {},
     "output_type": "execute_result"
    }
   ],
   "source": [
    "# Build model with best hyperparameters\n",
    "\n",
    "# Get the top 2 hyperparameters.\n",
    "best_hps = tuner.get_best_hyperparameters(5)\n",
    "# Build the model with the best hp.\n",
    "tuned_model = build_model(best_hps[0])\n",
    "# Fit with the entire dataset.\n",
    "tuned_model.fit(x=X_train, y=y_train, epochs=1)\n"
   ]
  },
  {
   "cell_type": "code",
   "execution_count": 22,
   "metadata": {
    "id": "HvLuIvOjHLH2"
   },
   "outputs": [],
   "source": [
    "# Save keras model to local ONNX file\n",
    "from aimodelshare.aimsonnx import model_to_onnx\n",
    "\n",
    "onnx_model = model_to_onnx(tuned_model, framework='keras',\n",
    "                          transfer_learning=False,\n",
    "                          deep_learning=True)\n",
    "\n",
    "with open(\"tuned_model.onnx\", \"wb\") as f:\n",
    "    f.write(onnx_model.SerializeToString())"
   ]
  },
  {
   "cell_type": "code",
   "execution_count": 23,
   "metadata": {
    "colab": {
     "base_uri": "https://localhost:8080/"
    },
    "id": "sMidHABfHVN7",
    "outputId": "680c9b03-7715-4970-d601-d82574c59d98"
   },
   "outputs": [
    {
     "name": "stdout",
     "output_type": "stream",
     "text": [
      "Insert search tags to help users find your model (optional): \n",
      "Provide any useful notes about your model (optional): \n",
      "\n",
      "Your model has been submitted as model version 5\n",
      "\n",
      "To submit code used to create this model or to view current leaderboard navigate to Model Playground: \n",
      "\n",
      " https://www.modelshare.org/detail/model:1658\n"
     ]
    }
   ],
   "source": [
    "#Submit Model 3: \n",
    "\n",
    "#-- Generate predicted y values (Model 3)\n",
    "prediction_column_index=tuned_model.predict(X_test).argmax(axis=1)\n",
    "\n",
    "# extract correct prediction labels \n",
    "prediction_labels = [y_train.columns[i] for i in prediction_column_index]\n",
    "\n",
    "# Submit Model 3 to Competition Leaderboard\n",
    "mycompetition.submit_model(model_filepath = \"tuned_model.onnx\",\n",
    "                                 preprocessor_filepath=\"preprocessor.zip\",\n",
    "                                 prediction_submission=prediction_labels)"
   ]
  },
  {
   "cell_type": "code",
   "execution_count": 24,
   "metadata": {
    "colab": {
     "base_uri": "https://localhost:8080/",
     "height": 189
    },
    "id": "hn-Tp-zpJVGT",
    "outputId": "3ea34812-5fb2-4429-a0d2-0ab672038421"
   },
   "outputs": [
    {
     "data": {
      "text/html": [
       "<style type=\"text/css\">\n",
       "#T_bc14d_row0_col0 {\n",
       "  text-align: center;\n",
       "  width: 10em;\n",
       "  height: 80%;\n",
       "  background: linear-gradient(90deg,#f5f8d6 60.9%, transparent 60.9%);\n",
       "  color: #251e1b;\n",
       "  font-size: 12px;\n",
       "}\n",
       "#T_bc14d_row0_col1 {\n",
       "  text-align: center;\n",
       "  width: 10em;\n",
       "  height: 80%;\n",
       "  background: linear-gradient(90deg,#c778c8 60.9%, transparent 60.9%);\n",
       "  color: #251e1b;\n",
       "  font-size: 12px;\n",
       "}\n",
       "#T_bc14d_row0_col2 {\n",
       "  text-align: center;\n",
       "  width: 10em;\n",
       "  height: 80%;\n",
       "  background: linear-gradient(90deg,#ff4971 62.6%, transparent 62.6%);\n",
       "  color: #251e1b;\n",
       "  font-size: 12px;\n",
       "}\n",
       "#T_bc14d_row0_col3 {\n",
       "  text-align: center;\n",
       "  width: 10em;\n",
       "  height: 80%;\n",
       "  background: linear-gradient(90deg,#aadbaa 59.7%, transparent 59.7%);\n",
       "  color: #251e1b;\n",
       "  font-size: 12px;\n",
       "}\n",
       "#T_bc14d_row0_col4, #T_bc14d_row0_col5, #T_bc14d_row0_col6, #T_bc14d_row0_col7, #T_bc14d_row0_col8, #T_bc14d_row0_col9, #T_bc14d_row0_col10, #T_bc14d_row0_col11, #T_bc14d_row0_col12, #T_bc14d_row0_col13, #T_bc14d_row0_col14, #T_bc14d_row0_col15, #T_bc14d_row0_col16, #T_bc14d_row0_col17, #T_bc14d_row0_col18, #T_bc14d_row0_col19, #T_bc14d_row1_col4, #T_bc14d_row1_col5, #T_bc14d_row1_col6, #T_bc14d_row1_col7, #T_bc14d_row1_col8, #T_bc14d_row1_col9, #T_bc14d_row1_col10, #T_bc14d_row1_col11, #T_bc14d_row1_col12, #T_bc14d_row1_col13, #T_bc14d_row1_col14, #T_bc14d_row1_col15, #T_bc14d_row1_col16, #T_bc14d_row1_col17, #T_bc14d_row1_col18, #T_bc14d_row1_col19, #T_bc14d_row2_col4, #T_bc14d_row2_col5, #T_bc14d_row2_col6, #T_bc14d_row2_col7, #T_bc14d_row2_col8, #T_bc14d_row2_col9, #T_bc14d_row2_col10, #T_bc14d_row2_col11, #T_bc14d_row2_col12, #T_bc14d_row2_col13, #T_bc14d_row2_col14, #T_bc14d_row2_col15, #T_bc14d_row2_col16, #T_bc14d_row2_col17, #T_bc14d_row2_col18, #T_bc14d_row2_col19, #T_bc14d_row3_col4, #T_bc14d_row3_col5, #T_bc14d_row3_col6, #T_bc14d_row3_col7, #T_bc14d_row3_col8, #T_bc14d_row3_col9, #T_bc14d_row3_col10, #T_bc14d_row3_col11, #T_bc14d_row3_col12, #T_bc14d_row3_col13, #T_bc14d_row3_col14, #T_bc14d_row3_col15, #T_bc14d_row3_col16, #T_bc14d_row3_col17, #T_bc14d_row3_col18, #T_bc14d_row3_col19, #T_bc14d_row4_col4, #T_bc14d_row4_col5, #T_bc14d_row4_col6, #T_bc14d_row4_col7, #T_bc14d_row4_col8, #T_bc14d_row4_col9, #T_bc14d_row4_col10, #T_bc14d_row4_col11, #T_bc14d_row4_col12, #T_bc14d_row4_col13, #T_bc14d_row4_col14, #T_bc14d_row4_col15, #T_bc14d_row4_col16, #T_bc14d_row4_col17, #T_bc14d_row4_col18, #T_bc14d_row4_col19 {\n",
       "  text-align: center;\n",
       "}\n",
       "#T_bc14d_row1_col0 {\n",
       "  text-align: center;\n",
       "  width: 10em;\n",
       "  height: 80%;\n",
       "  background: linear-gradient(90deg,#f5f8d6 69.6%, transparent 69.6%);\n",
       "  color: #251e1b;\n",
       "  font-size: 12px;\n",
       "}\n",
       "#T_bc14d_row1_col1 {\n",
       "  text-align: center;\n",
       "  width: 10em;\n",
       "  height: 80%;\n",
       "  background: linear-gradient(90deg,#c778c8 55.5%, transparent 55.5%);\n",
       "  color: #251e1b;\n",
       "  font-size: 12px;\n",
       "}\n",
       "#T_bc14d_row1_col2 {\n",
       "  text-align: center;\n",
       "  width: 10em;\n",
       "  height: 80%;\n",
       "  background: linear-gradient(90deg,#ff4971 52.9%, transparent 52.9%);\n",
       "  color: #251e1b;\n",
       "  font-size: 12px;\n",
       "}\n",
       "#T_bc14d_row1_col3, #T_bc14d_row2_col3 {\n",
       "  text-align: center;\n",
       "  width: 10em;\n",
       "  height: 80%;\n",
       "  background: linear-gradient(90deg,#aadbaa 61.9%, transparent 61.9%);\n",
       "  color: #251e1b;\n",
       "  font-size: 12px;\n",
       "}\n",
       "#T_bc14d_row2_col0 {\n",
       "  text-align: center;\n",
       "  width: 10em;\n",
       "  height: 80%;\n",
       "  background: linear-gradient(90deg,#f5f8d6 52.2%, transparent 52.2%);\n",
       "  color: #251e1b;\n",
       "  font-size: 12px;\n",
       "}\n",
       "#T_bc14d_row2_col1 {\n",
       "  text-align: center;\n",
       "  width: 10em;\n",
       "  height: 80%;\n",
       "  background: linear-gradient(90deg,#c778c8 48.2%, transparent 48.2%);\n",
       "  color: #251e1b;\n",
       "  font-size: 12px;\n",
       "}\n",
       "#T_bc14d_row2_col2 {\n",
       "  text-align: center;\n",
       "  width: 10em;\n",
       "  height: 80%;\n",
       "  background: linear-gradient(90deg,#ff4971 45.1%, transparent 45.1%);\n",
       "  color: #251e1b;\n",
       "  font-size: 12px;\n",
       "}\n",
       "#T_bc14d_row3_col0 {\n",
       "  text-align: center;\n",
       "  width: 10em;\n",
       "  height: 80%;\n",
       "  background: linear-gradient(90deg,#f5f8d6 47.8%, transparent 47.8%);\n",
       "  color: #251e1b;\n",
       "  font-size: 12px;\n",
       "}\n",
       "#T_bc14d_row3_col1 {\n",
       "  text-align: center;\n",
       "  width: 10em;\n",
       "  height: 80%;\n",
       "  background: linear-gradient(90deg,#c778c8 44.4%, transparent 44.4%);\n",
       "  color: #251e1b;\n",
       "  font-size: 12px;\n",
       "}\n",
       "#T_bc14d_row3_col2 {\n",
       "  text-align: center;\n",
       "  width: 10em;\n",
       "  height: 80%;\n",
       "  background: linear-gradient(90deg,#ff4971 44.4%, transparent 44.4%);\n",
       "  color: #251e1b;\n",
       "  font-size: 12px;\n",
       "}\n",
       "#T_bc14d_row3_col3 {\n",
       "  text-align: center;\n",
       "  width: 10em;\n",
       "  height: 80%;\n",
       "  background: linear-gradient(90deg,#aadbaa 57.1%, transparent 57.1%);\n",
       "  color: #251e1b;\n",
       "  font-size: 12px;\n",
       "}\n",
       "#T_bc14d_row4_col0 {\n",
       "  text-align: center;\n",
       "  width: 10em;\n",
       "  height: 80%;\n",
       "  background: linear-gradient(90deg,#f5f8d6 39.1%, transparent 39.1%);\n",
       "  color: #251e1b;\n",
       "  font-size: 12px;\n",
       "}\n",
       "#T_bc14d_row4_col1 {\n",
       "  text-align: center;\n",
       "  width: 10em;\n",
       "  height: 80%;\n",
       "  background: linear-gradient(90deg,#c778c8 39.3%, transparent 39.3%);\n",
       "  color: #251e1b;\n",
       "  font-size: 12px;\n",
       "}\n",
       "#T_bc14d_row4_col2 {\n",
       "  text-align: center;\n",
       "  width: 10em;\n",
       "  height: 80%;\n",
       "  background: linear-gradient(90deg,#ff4971 54.8%, transparent 54.8%);\n",
       "  color: #251e1b;\n",
       "  font-size: 12px;\n",
       "}\n",
       "#T_bc14d_row4_col3 {\n",
       "  text-align: center;\n",
       "  width: 10em;\n",
       "  height: 80%;\n",
       "  background: linear-gradient(90deg,#aadbaa 44.0%, transparent 44.0%);\n",
       "  color: #251e1b;\n",
       "  font-size: 12px;\n",
       "}\n",
       "</style>\n",
       "<table id=\"T_bc14d_\" class=\"dataframe\">\n",
       "  <thead>\n",
       "    <tr>\n",
       "      <th class=\"blank level0\" >&nbsp;</th>\n",
       "      <th class=\"col_heading level0 col0\" >accuracy</th>\n",
       "      <th class=\"col_heading level0 col1\" >f1_score</th>\n",
       "      <th class=\"col_heading level0 col2\" >precision</th>\n",
       "      <th class=\"col_heading level0 col3\" >recall</th>\n",
       "      <th class=\"col_heading level0 col4\" >ml_framework</th>\n",
       "      <th class=\"col_heading level0 col5\" >transfer_learning</th>\n",
       "      <th class=\"col_heading level0 col6\" >deep_learning</th>\n",
       "      <th class=\"col_heading level0 col7\" >model_type</th>\n",
       "      <th class=\"col_heading level0 col8\" >depth</th>\n",
       "      <th class=\"col_heading level0 col9\" >num_params</th>\n",
       "      <th class=\"col_heading level0 col10\" >lstm_layers</th>\n",
       "      <th class=\"col_heading level0 col11\" >dense_layers</th>\n",
       "      <th class=\"col_heading level0 col12\" >softmax_act</th>\n",
       "      <th class=\"col_heading level0 col13\" >tanh_act</th>\n",
       "      <th class=\"col_heading level0 col14\" >relu_act</th>\n",
       "      <th class=\"col_heading level0 col15\" >loss</th>\n",
       "      <th class=\"col_heading level0 col16\" >optimizer</th>\n",
       "      <th class=\"col_heading level0 col17\" >memory_size</th>\n",
       "      <th class=\"col_heading level0 col18\" >username</th>\n",
       "      <th class=\"col_heading level0 col19\" >version</th>\n",
       "    </tr>\n",
       "  </thead>\n",
       "  <tbody>\n",
       "    <tr>\n",
       "      <th id=\"T_bc14d_level0_row0\" class=\"row_heading level0 row0\" >0</th>\n",
       "      <td id=\"T_bc14d_row0_col0\" class=\"data row0 col0\" >60.87%</td>\n",
       "      <td id=\"T_bc14d_row0_col1\" class=\"data row0 col1\" >60.93%</td>\n",
       "      <td id=\"T_bc14d_row0_col2\" class=\"data row0 col2\" >62.63%</td>\n",
       "      <td id=\"T_bc14d_row0_col3\" class=\"data row0 col3\" >59.68%</td>\n",
       "      <td id=\"T_bc14d_row0_col4\" class=\"data row0 col4\" >keras</td>\n",
       "      <td id=\"T_bc14d_row0_col5\" class=\"data row0 col5\" >False</td>\n",
       "      <td id=\"T_bc14d_row0_col6\" class=\"data row0 col6\" >True</td>\n",
       "      <td id=\"T_bc14d_row0_col7\" class=\"data row0 col7\" >Sequential</td>\n",
       "      <td id=\"T_bc14d_row0_col8\" class=\"data row0 col8\" >3</td>\n",
       "      <td id=\"T_bc14d_row0_col9\" class=\"data row0 col9\" >9841683</td>\n",
       "      <td id=\"T_bc14d_row0_col10\" class=\"data row0 col10\" >1</td>\n",
       "      <td id=\"T_bc14d_row0_col11\" class=\"data row0 col11\" >2</td>\n",
       "      <td id=\"T_bc14d_row0_col12\" class=\"data row0 col12\" >1</td>\n",
       "      <td id=\"T_bc14d_row0_col13\" class=\"data row0 col13\" >1</td>\n",
       "      <td id=\"T_bc14d_row0_col14\" class=\"data row0 col14\" >1.000000</td>\n",
       "      <td id=\"T_bc14d_row0_col15\" class=\"data row0 col15\" >str</td>\n",
       "      <td id=\"T_bc14d_row0_col16\" class=\"data row0 col16\" >Adam</td>\n",
       "      <td id=\"T_bc14d_row0_col17\" class=\"data row0 col17\" >5202352</td>\n",
       "      <td id=\"T_bc14d_row0_col18\" class=\"data row0 col18\" >AIModelShare</td>\n",
       "      <td id=\"T_bc14d_row0_col19\" class=\"data row0 col19\" >3</td>\n",
       "    </tr>\n",
       "    <tr>\n",
       "      <th id=\"T_bc14d_level0_row1\" class=\"row_heading level0 row1\" >1</th>\n",
       "      <td id=\"T_bc14d_row1_col0\" class=\"data row1 col0\" >69.57%</td>\n",
       "      <td id=\"T_bc14d_row1_col1\" class=\"data row1 col1\" >55.46%</td>\n",
       "      <td id=\"T_bc14d_row1_col2\" class=\"data row1 col2\" >52.94%</td>\n",
       "      <td id=\"T_bc14d_row1_col3\" class=\"data row1 col3\" >61.90%</td>\n",
       "      <td id=\"T_bc14d_row1_col4\" class=\"data row1 col4\" >keras</td>\n",
       "      <td id=\"T_bc14d_row1_col5\" class=\"data row1 col5\" >False</td>\n",
       "      <td id=\"T_bc14d_row1_col6\" class=\"data row1 col6\" >True</td>\n",
       "      <td id=\"T_bc14d_row1_col7\" class=\"data row1 col7\" >Sequential</td>\n",
       "      <td id=\"T_bc14d_row1_col8\" class=\"data row1 col8\" >3</td>\n",
       "      <td id=\"T_bc14d_row1_col9\" class=\"data row1 col9\" >983398</td>\n",
       "      <td id=\"T_bc14d_row1_col10\" class=\"data row1 col10\" >2</td>\n",
       "      <td id=\"T_bc14d_row1_col11\" class=\"data row1 col11\" >1</td>\n",
       "      <td id=\"T_bc14d_row1_col12\" class=\"data row1 col12\" >1</td>\n",
       "      <td id=\"T_bc14d_row1_col13\" class=\"data row1 col13\" >2</td>\n",
       "      <td id=\"T_bc14d_row1_col14\" class=\"data row1 col14\" >nan</td>\n",
       "      <td id=\"T_bc14d_row1_col15\" class=\"data row1 col15\" >function</td>\n",
       "      <td id=\"T_bc14d_row1_col16\" class=\"data row1 col16\" >Adam</td>\n",
       "      <td id=\"T_bc14d_row1_col17\" class=\"data row1 col17\" >2218656</td>\n",
       "      <td id=\"T_bc14d_row1_col18\" class=\"data row1 col18\" >AIModelShare</td>\n",
       "      <td id=\"T_bc14d_row1_col19\" class=\"data row1 col19\" >2</td>\n",
       "    </tr>\n",
       "    <tr>\n",
       "      <th id=\"T_bc14d_level0_row2\" class=\"row_heading level0 row2\" >2</th>\n",
       "      <td id=\"T_bc14d_row2_col0\" class=\"data row2 col0\" >52.17%</td>\n",
       "      <td id=\"T_bc14d_row2_col1\" class=\"data row2 col1\" >48.16%</td>\n",
       "      <td id=\"T_bc14d_row2_col2\" class=\"data row2 col2\" >45.10%</td>\n",
       "      <td id=\"T_bc14d_row2_col3\" class=\"data row2 col3\" >61.90%</td>\n",
       "      <td id=\"T_bc14d_row2_col4\" class=\"data row2 col4\" >keras</td>\n",
       "      <td id=\"T_bc14d_row2_col5\" class=\"data row2 col5\" >False</td>\n",
       "      <td id=\"T_bc14d_row2_col6\" class=\"data row2 col6\" >True</td>\n",
       "      <td id=\"T_bc14d_row2_col7\" class=\"data row2 col7\" >Sequential</td>\n",
       "      <td id=\"T_bc14d_row2_col8\" class=\"data row2 col8\" >3</td>\n",
       "      <td id=\"T_bc14d_row2_col9\" class=\"data row2 col9\" >9841683</td>\n",
       "      <td id=\"T_bc14d_row2_col10\" class=\"data row2 col10\" >1</td>\n",
       "      <td id=\"T_bc14d_row2_col11\" class=\"data row2 col11\" >2</td>\n",
       "      <td id=\"T_bc14d_row2_col12\" class=\"data row2 col12\" >1</td>\n",
       "      <td id=\"T_bc14d_row2_col13\" class=\"data row2 col13\" >1</td>\n",
       "      <td id=\"T_bc14d_row2_col14\" class=\"data row2 col14\" >1.000000</td>\n",
       "      <td id=\"T_bc14d_row2_col15\" class=\"data row2 col15\" >function</td>\n",
       "      <td id=\"T_bc14d_row2_col16\" class=\"data row2 col16\" >Adam</td>\n",
       "      <td id=\"T_bc14d_row2_col17\" class=\"data row2 col17\" >219360</td>\n",
       "      <td id=\"T_bc14d_row2_col18\" class=\"data row2 col18\" >AIModelShare</td>\n",
       "      <td id=\"T_bc14d_row2_col19\" class=\"data row2 col19\" >1</td>\n",
       "    </tr>\n",
       "    <tr>\n",
       "      <th id=\"T_bc14d_level0_row3\" class=\"row_heading level0 row3\" >3</th>\n",
       "      <td id=\"T_bc14d_row3_col0\" class=\"data row3 col0\" >47.83%</td>\n",
       "      <td id=\"T_bc14d_row3_col1\" class=\"data row3 col1\" >44.44%</td>\n",
       "      <td id=\"T_bc14d_row3_col2\" class=\"data row3 col2\" >44.44%</td>\n",
       "      <td id=\"T_bc14d_row3_col3\" class=\"data row3 col3\" >57.14%</td>\n",
       "      <td id=\"T_bc14d_row3_col4\" class=\"data row3 col4\" >keras</td>\n",
       "      <td id=\"T_bc14d_row3_col5\" class=\"data row3 col5\" >False</td>\n",
       "      <td id=\"T_bc14d_row3_col6\" class=\"data row3 col6\" >True</td>\n",
       "      <td id=\"T_bc14d_row3_col7\" class=\"data row3 col7\" >Sequential</td>\n",
       "      <td id=\"T_bc14d_row3_col8\" class=\"data row3 col8\" >3</td>\n",
       "      <td id=\"T_bc14d_row3_col9\" class=\"data row3 col9\" >983398</td>\n",
       "      <td id=\"T_bc14d_row3_col10\" class=\"data row3 col10\" >2</td>\n",
       "      <td id=\"T_bc14d_row3_col11\" class=\"data row3 col11\" >1</td>\n",
       "      <td id=\"T_bc14d_row3_col12\" class=\"data row3 col12\" >1</td>\n",
       "      <td id=\"T_bc14d_row3_col13\" class=\"data row3 col13\" >2</td>\n",
       "      <td id=\"T_bc14d_row3_col14\" class=\"data row3 col14\" >nan</td>\n",
       "      <td id=\"T_bc14d_row3_col15\" class=\"data row3 col15\" >str</td>\n",
       "      <td id=\"T_bc14d_row3_col16\" class=\"data row3 col16\" >Adam</td>\n",
       "      <td id=\"T_bc14d_row3_col17\" class=\"data row3 col17\" >11272336</td>\n",
       "      <td id=\"T_bc14d_row3_col18\" class=\"data row3 col18\" >AIModelShare</td>\n",
       "      <td id=\"T_bc14d_row3_col19\" class=\"data row3 col19\" >4</td>\n",
       "    </tr>\n",
       "    <tr>\n",
       "      <th id=\"T_bc14d_level0_row4\" class=\"row_heading level0 row4\" >4</th>\n",
       "      <td id=\"T_bc14d_row4_col0\" class=\"data row4 col0\" >39.13%</td>\n",
       "      <td id=\"T_bc14d_row4_col1\" class=\"data row4 col1\" >39.32%</td>\n",
       "      <td id=\"T_bc14d_row4_col2\" class=\"data row4 col2\" >54.76%</td>\n",
       "      <td id=\"T_bc14d_row4_col3\" class=\"data row4 col3\" >43.97%</td>\n",
       "      <td id=\"T_bc14d_row4_col4\" class=\"data row4 col4\" >keras</td>\n",
       "      <td id=\"T_bc14d_row4_col5\" class=\"data row4 col5\" >False</td>\n",
       "      <td id=\"T_bc14d_row4_col6\" class=\"data row4 col6\" >True</td>\n",
       "      <td id=\"T_bc14d_row4_col7\" class=\"data row4 col7\" >Sequential</td>\n",
       "      <td id=\"T_bc14d_row4_col8\" class=\"data row4 col8\" >4</td>\n",
       "      <td id=\"T_bc14d_row4_col9\" class=\"data row4 col9\" >985540</td>\n",
       "      <td id=\"T_bc14d_row4_col10\" class=\"data row4 col10\" >3</td>\n",
       "      <td id=\"T_bc14d_row4_col11\" class=\"data row4 col11\" >1</td>\n",
       "      <td id=\"T_bc14d_row4_col12\" class=\"data row4 col12\" >1</td>\n",
       "      <td id=\"T_bc14d_row4_col13\" class=\"data row4 col13\" >3</td>\n",
       "      <td id=\"T_bc14d_row4_col14\" class=\"data row4 col14\" >nan</td>\n",
       "      <td id=\"T_bc14d_row4_col15\" class=\"data row4 col15\" >str</td>\n",
       "      <td id=\"T_bc14d_row4_col16\" class=\"data row4 col16\" >Adam</td>\n",
       "      <td id=\"T_bc14d_row4_col17\" class=\"data row4 col17\" >16002608</td>\n",
       "      <td id=\"T_bc14d_row4_col18\" class=\"data row4 col18\" >AIModelShare</td>\n",
       "      <td id=\"T_bc14d_row4_col19\" class=\"data row4 col19\" >5</td>\n",
       "    </tr>\n",
       "  </tbody>\n",
       "</table>\n"
      ],
      "text/plain": [
       "<pandas.io.formats.style.Styler at 0x7f65ee2c0a50>"
      ]
     },
     "execution_count": 24,
     "metadata": {},
     "output_type": "execute_result"
    }
   ],
   "source": [
    "# Get leaderboard\n",
    "\n",
    "data = mycompetition.get_leaderboard()\n",
    "mycompetition.stylize_leaderboard(data)"
   ]
  },
  {
   "cell_type": "code",
   "execution_count": 25,
   "metadata": {
    "colab": {
     "base_uri": "https://localhost:8080/",
     "height": 126
    },
    "id": "MKvPKyb7hT0h",
    "outputId": "63307ec3-c485-4c59-ac49-601b4f42ae0e"
   },
   "outputs": [
    {
     "data": {
      "text/html": [
       "<style type=\"text/css\">\n",
       "#T_b3413_ caption {\n",
       "  color: black;\n",
       "  font-size: 18px;\n",
       "}\n",
       "#T_b3413_row0_col0, #T_b3413_row0_col3, #T_b3413_row0_col6, #T_b3413_row1_col3, #T_b3413_row1_col6, #T_b3413_row2_col6 {\n",
       "  background: #cbd5e8;\n",
       "  color: black;\n",
       "  color: black;\n",
       "}\n",
       "#T_b3413_row0_col1, #T_b3413_row0_col2, #T_b3413_row0_col4, #T_b3413_row0_col5, #T_b3413_row0_col7, #T_b3413_row0_col8, #T_b3413_row1_col1, #T_b3413_row1_col2, #T_b3413_row1_col4, #T_b3413_row1_col5, #T_b3413_row1_col7, #T_b3413_row1_col8, #T_b3413_row2_col1, #T_b3413_row2_col2, #T_b3413_row2_col4, #T_b3413_row2_col5, #T_b3413_row2_col7, #T_b3413_row2_col8, #T_b3413_row3_col0, #T_b3413_row3_col1, #T_b3413_row3_col2, #T_b3413_row3_col3, #T_b3413_row3_col4, #T_b3413_row3_col5, #T_b3413_row3_col7, #T_b3413_row3_col8 {\n",
       "  background: white;\n",
       "  color: black;\n",
       "  color: black;\n",
       "}\n",
       "#T_b3413_row1_col0, #T_b3413_row2_col0, #T_b3413_row2_col3, #T_b3413_row3_col6 {\n",
       "  background: #fff2ae;\n",
       "  color: black;\n",
       "  color: black;\n",
       "}\n",
       "</style>\n",
       "<table id=\"T_b3413_\">\n",
       "  <caption>Model type: Neural Network</caption>\n",
       "  <thead>\n",
       "    <tr>\n",
       "      <th class=\"blank level0\" >&nbsp;</th>\n",
       "      <th class=\"col_heading level0 col0\" >Model_3_Layer</th>\n",
       "      <th class=\"col_heading level0 col1\" >Model_3_Shape</th>\n",
       "      <th class=\"col_heading level0 col2\" >Model_3_Params</th>\n",
       "      <th class=\"col_heading level0 col3\" >Model_4_Layer</th>\n",
       "      <th class=\"col_heading level0 col4\" >Model_4_Shape</th>\n",
       "      <th class=\"col_heading level0 col5\" >Model_4_Params</th>\n",
       "      <th class=\"col_heading level0 col6\" >Model_5_Layer</th>\n",
       "      <th class=\"col_heading level0 col7\" >Model_5_Shape</th>\n",
       "      <th class=\"col_heading level0 col8\" >Model_5_Params</th>\n",
       "    </tr>\n",
       "  </thead>\n",
       "  <tbody>\n",
       "    <tr>\n",
       "      <th id=\"T_b3413_level0_row0\" class=\"row_heading level0 row0\" >0</th>\n",
       "      <td id=\"T_b3413_row0_col0\" class=\"data row0 col0\" >LSTM</td>\n",
       "      <td id=\"T_b3413_row0_col1\" class=\"data row0 col1\" >[None, 50]</td>\n",
       "      <td id=\"T_b3413_row0_col2\" class=\"data row0 col2\" >9840600.000000</td>\n",
       "      <td id=\"T_b3413_row0_col3\" class=\"data row0 col3\" >LSTM</td>\n",
       "      <td id=\"T_b3413_row0_col4\" class=\"data row0 col4\" >[None, 60, 5]</td>\n",
       "      <td id=\"T_b3413_row0_col5\" class=\"data row0 col5\" >983160.000000</td>\n",
       "      <td id=\"T_b3413_row0_col6\" class=\"data row0 col6\" >LSTM</td>\n",
       "      <td id=\"T_b3413_row0_col7\" class=\"data row0 col7\" >[None, 60, 5]</td>\n",
       "      <td id=\"T_b3413_row0_col8\" class=\"data row0 col8\" >983160</td>\n",
       "    </tr>\n",
       "    <tr>\n",
       "      <th id=\"T_b3413_level0_row1\" class=\"row_heading level0 row1\" >1</th>\n",
       "      <td id=\"T_b3413_row1_col0\" class=\"data row1 col0\" >Dense</td>\n",
       "      <td id=\"T_b3413_row1_col1\" class=\"data row1 col1\" >[None, 20]</td>\n",
       "      <td id=\"T_b3413_row1_col2\" class=\"data row1 col2\" >1020.000000</td>\n",
       "      <td id=\"T_b3413_row1_col3\" class=\"data row1 col3\" >LSTM</td>\n",
       "      <td id=\"T_b3413_row1_col4\" class=\"data row1 col4\" >[None, 5]</td>\n",
       "      <td id=\"T_b3413_row1_col5\" class=\"data row1 col5\" >220.000000</td>\n",
       "      <td id=\"T_b3413_row1_col6\" class=\"data row1 col6\" >LSTM</td>\n",
       "      <td id=\"T_b3413_row1_col7\" class=\"data row1 col7\" >[None, 60, 20]</td>\n",
       "      <td id=\"T_b3413_row1_col8\" class=\"data row1 col8\" >2080</td>\n",
       "    </tr>\n",
       "    <tr>\n",
       "      <th id=\"T_b3413_level0_row2\" class=\"row_heading level0 row2\" >2</th>\n",
       "      <td id=\"T_b3413_row2_col0\" class=\"data row2 col0\" >Dense</td>\n",
       "      <td id=\"T_b3413_row2_col1\" class=\"data row2 col1\" >[None, 3]</td>\n",
       "      <td id=\"T_b3413_row2_col2\" class=\"data row2 col2\" >63.000000</td>\n",
       "      <td id=\"T_b3413_row2_col3\" class=\"data row2 col3\" >Dense</td>\n",
       "      <td id=\"T_b3413_row2_col4\" class=\"data row2 col4\" >[None, 3]</td>\n",
       "      <td id=\"T_b3413_row2_col5\" class=\"data row2 col5\" >18.000000</td>\n",
       "      <td id=\"T_b3413_row2_col6\" class=\"data row2 col6\" >LSTM</td>\n",
       "      <td id=\"T_b3413_row2_col7\" class=\"data row2 col7\" >[None, 3]</td>\n",
       "      <td id=\"T_b3413_row2_col8\" class=\"data row2 col8\" >288</td>\n",
       "    </tr>\n",
       "    <tr>\n",
       "      <th id=\"T_b3413_level0_row3\" class=\"row_heading level0 row3\" >3</th>\n",
       "      <td id=\"T_b3413_row3_col0\" class=\"data row3 col0\" >None</td>\n",
       "      <td id=\"T_b3413_row3_col1\" class=\"data row3 col1\" >None</td>\n",
       "      <td id=\"T_b3413_row3_col2\" class=\"data row3 col2\" >nan</td>\n",
       "      <td id=\"T_b3413_row3_col3\" class=\"data row3 col3\" >None</td>\n",
       "      <td id=\"T_b3413_row3_col4\" class=\"data row3 col4\" >None</td>\n",
       "      <td id=\"T_b3413_row3_col5\" class=\"data row3 col5\" >nan</td>\n",
       "      <td id=\"T_b3413_row3_col6\" class=\"data row3 col6\" >Dense</td>\n",
       "      <td id=\"T_b3413_row3_col7\" class=\"data row3 col7\" >[None, 3]</td>\n",
       "      <td id=\"T_b3413_row3_col8\" class=\"data row3 col8\" >12</td>\n",
       "    </tr>\n",
       "  </tbody>\n",
       "</table>\n"
      ],
      "text/plain": [
       "<IPython.core.display.HTML object>"
      ]
     },
     "metadata": {},
     "output_type": "display_data"
    }
   ],
   "source": [
    "# Compare two or more models \n",
    "data=mycompetition.compare_models([3, 4, 5], verbose=1)\n",
    "mycompetition.stylize_compare(data)"
   ]
  }
 ],
 "metadata": {
  "colab": {
   "collapsed_sections": [],
   "name": "[SPORTS CLIPS] Model Submission Guide.ipynb",
   "provenance": []
  },
  "kernelspec": {
   "display_name": "Python 3",
   "language": "python",
   "name": "python3"
  },
  "language_info": {
   "codemirror_mode": {
    "name": "ipython",
    "version": 3
   },
   "file_extension": ".py",
   "mimetype": "text/x-python",
   "name": "python",
   "nbconvert_exporter": "python",
   "pygments_lexer": "ipython3",
   "version": "3.8.5"
  }
 },
 "nbformat": 4,
 "nbformat_minor": 1
}
