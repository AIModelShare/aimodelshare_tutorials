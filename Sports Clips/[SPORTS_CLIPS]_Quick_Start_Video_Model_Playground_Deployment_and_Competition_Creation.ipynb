{
 "cells": [
  {
   "cell_type": "markdown",
   "metadata": {
    "id": "0BviI4QIdWiq"
   },
   "source": [
    "<p align=\"center\"><img width=\"50%\" src=\"https://aimodelsharecontent.s3.amazonaws.com/aimodshare_banner.jpg\" /></p>\n",
    "\n",
    "\n",
    "---\n",
    "\n",
    "\n"
   ]
  },
  {
   "cell_type": "markdown",
   "metadata": {
    "id": "gYNp684Tk3tb"
   },
   "source": [
    "<p align=\"center\"><h1 align=\"center\">Quick Start: Sports Clips Video Classification Tutorial</h1> \n",
    "\n",
    "---\n",
    "\n",
    "<h3 align=\"center\">(Deploy model to an AI Model Share Model Playground REST API<br> and Web Dashboard in five easy steps...)</h3></p>\n",
    "<p align=\"center\"><img width=\"100%\" src=\"https://aimodelsharecontent.s3.amazonaws.com/aimstutorialsteps.gif\" /></p>\n",
    "\n",
    "\n",
    "---\n",
    "\n"
   ]
  },
  {
   "cell_type": "markdown",
   "metadata": {
    "id": "0PhJ-XlGazpD"
   },
   "source": [
    "## **Credential Configuration**\n",
    "\n",
    "In order to deploy an AI Model Share Model Playground, you will need a credentials text file. \n",
    "\n",
    "Generating your credentials file requires two sets of information: \n",
    "1. Your AI Model Share username and password (create them [HERE](https://www.modelshare.org/login)). \n",
    "2. Your AWS (Amazon Web Services) access keys (follow the tutorial [HERE](https://aimodelshare.readthedocs.io/en/latest/create_credentials.html)). \n",
    "\n",
    "You only need to generate your credentials file once. After running the configure function below, save the outputted file for all your future Model Playground deployments and competition submissions. \n",
    "\n",
    "*Note: Handle your credentials file with the same level of security you handle your passwords. Do not share your file with anyone, send via email, or upload to Github.*\n"
   ]
  },
  {
   "cell_type": "code",
   "execution_count": null,
   "metadata": {
    "id": "puVzQBHyhS2Z"
   },
   "outputs": [],
   "source": [
    "#install aimodelshare library\n",
    "! pip install aimodelshare --upgrade"
   ]
  },
  {
   "cell_type": "code",
   "execution_count": null,
   "metadata": {
    "colab": {
     "base_uri": "https://localhost:8080/"
    },
    "id": "4Q7MCqBLcS20",
    "outputId": "540bb4ec-8ec5-4836-a19c-9442bb0b5abb"
   },
   "outputs": [
    {
     "name": "stdout",
     "output_type": "stream",
     "text": [
      "AI Modelshare Username:··········\n",
      "AI Modelshare Password:··········\n",
      "AWS_ACCESS_KEY_ID:··········\n",
      "AWS_SECRET_ACCESS_KEY:··········\n",
      "AWS_REGION:··········\n",
      "Configuration successful. New credentials file saved as 'credentials.txt'\n"
     ]
    }
   ],
   "source": [
    "# Generate credentials file\n",
    "import aimodelshare as ai \n",
    "from aimodelshare.aws import configure_credentials \n",
    "\n",
    "configure_credentials()"
   ]
  },
  {
   "cell_type": "markdown",
   "metadata": {
    "id": "VliTV_HH-uz4"
   },
   "source": [
    "## **Set up Environment**\n",
    "\n",
    "Use your credentials file to set your credentials for all aimodelshare functions. "
   ]
  },
  {
   "cell_type": "code",
   "execution_count": 2,
   "metadata": {
    "colab": {
     "base_uri": "https://localhost:8080/"
    },
    "id": "2u1QKNfEyN9A",
    "outputId": "b61d1fa1-0525-4a10-a4b2-681ed22f3646"
   },
   "outputs": [
    {
     "name": "stdout",
     "output_type": "stream",
     "text": [
      "AI Model Share login credentials set successfully.\n",
      "AWS credentials set successfully.\n"
     ]
    }
   ],
   "source": [
    "# Set credentials \n",
    "import aimodelshare as ai\n",
    "from aimodelshare.aws import set_credentials\n",
    "\n",
    "set_credentials(credential_file=\"credentials.txt\", type=\"deploy_model\")"
   ]
  },
  {
   "cell_type": "code",
   "execution_count": 3,
   "metadata": {
    "colab": {
     "base_uri": "https://localhost:8080/"
    },
    "id": "PwQcTsyyURIk",
    "outputId": "d8899eec-7220-422e-949e-0d3a62054378"
   },
   "outputs": [
    {
     "name": "stdout",
     "output_type": "stream",
     "text": [
      "Downloading [================================================>]\n",
      "\n",
      "Data downloaded successfully.\n",
      "\n",
      "Preparing downloaded files for use...\n",
      "\n",
      "Success! Your Quick Start materials have been downloaded. \n",
      "You are now ready to run the tutorial.\n"
     ]
    }
   ],
   "source": [
    "# Get materials for tutorial\n",
    "import aimodelshare as ai\n",
    "keras_model, y_train_labels = ai.import_quickstart_data(\"sports\")"
   ]
  },
  {
   "cell_type": "markdown",
   "metadata": {
    "id": "bIleM1F6nWSF"
   },
   "source": [
    "## **(1) Preprocessor Function & Setup**"
   ]
  },
  {
   "cell_type": "markdown",
   "metadata": {
    "id": "WrEgo5zRxbed"
   },
   "source": [
    "### **Write a Preprocessor Function**\n",
    "\n",
    "\n",
    "> ###   Preprocessor functions are used to preprocess data into the precise data your model requires to generate predictions.  \n",
    "\n",
    "*  *Preprocessor functions should always be named \"preprocessor\".*\n",
    "*  *You can use any Python library in a preprocessor function, but all libraries should be imported inside your preprocessor function.*  \n",
    "\n"
   ]
  },
  {
   "cell_type": "code",
   "execution_count": 4,
   "metadata": {
    "id": "B5Jz-1cmYN5Z"
   },
   "outputs": [],
   "source": [
    "# Here is a pre-designed preprocessor, but you could also build your own to prepare the data differently\n",
    "\n",
    "def preprocessor(video_file_path, num_frames=60, gap_frames=3, **kwargs):\n",
    "\n",
    "    \"\"\"\n",
    "      This function preprocesses the data to extract frames out of each video and resize\n",
    "      them to a fixed size of (128x128) pixels. Moreover, these images are flattened out to\n",
    "      act as features for each time step.\n",
    "      \n",
    "      params:\n",
    "          video_file_path\n",
    "              location of video file to be processed\n",
    "\n",
    "          num_frames\n",
    "              the number of frames to be extracted from each video. If there aren't\n",
    "              sufficient frames, then the list is padded with zeros\n",
    "              \n",
    "          gap_frames:\n",
    "              the number of frames after which we extract the next frame. If =1,\n",
    "              contiguous frames are extracted\n",
    "              \n",
    "      returns:\n",
    "          X\n",
    "              transformed features corresponding to data passed as input to model\n",
    "      \n",
    "    \"\"\"\n",
    "\n",
    "    import cv2\n",
    "    import numpy as np\n",
    "\n",
    "    vidcap = cv2.VideoCapture(video_file_path)\n",
    "    \n",
    "    frames = []\n",
    "\n",
    "    success, frame = vidcap.read()\n",
    "    idx = 0\n",
    "\n",
    "    while success:\n",
    "        # for each frame, do if we satisfy the gap_frames parameter\n",
    "        if idx % gap_frames == 0:\n",
    "            # convert to RGB (default cv2 is BGR)\n",
    "            # this is important because the vgg model is trained on RGB images\n",
    "            frame = cv2.cvtColor(frame, cv2.COLOR_BGR2RGB)\n",
    "            frame = cv2.resize(frame, (128, 128))\n",
    "\n",
    "            # extract features for the resized image\n",
    "            frame = frame / 255.0 # Min-max transform.\n",
    "\n",
    "            # flatten the features and append to a list of features for this video\n",
    "            frame = frame.reshape(-1)\n",
    "\n",
    "            frames.append(frame)\n",
    "\n",
    "            if len(frames) >= num_frames:\n",
    "                break\n",
    "\n",
    "        idx += 1\n",
    "        success, frame = vidcap.read()\n",
    "\n",
    "    # if number of timesteps or frames < num_frames, pad with zeroes for consistent shape\n",
    "    while len(frames) < num_frames:\n",
    "        frames.append(np.zeros(*frames[-1].shape))\n",
    "\n",
    "    X = np.array(frames)\n",
    "    X = np.expand_dims(X, axis=0)\n",
    "    X = np.array(X, dtype=np.float32)\n",
    "\n",
    "    return X"
   ]
  },
  {
   "cell_type": "markdown",
   "metadata": {
    "id": "xJlhd6jvns0b"
   },
   "source": [
    "## **(2) Train Model Using tf.keras (or Your Preferred ML Library)**"
   ]
  },
  {
   "cell_type": "markdown",
   "metadata": {
    "id": "fP7ZIVKe3luZ"
   },
   "source": [
    "### **Keras Model with One LSTM Layer**"
   ]
  },
  {
   "cell_type": "code",
   "execution_count": 5,
   "metadata": {
    "colab": {
     "base_uri": "https://localhost:8080/"
    },
    "id": "_r-c5br8cElz",
    "outputId": "f9f957eb-0a5c-4332-9646-6b2ff8c09e4d"
   },
   "outputs": [
    {
     "name": "stdout",
     "output_type": "stream",
     "text": [
      "Model: \"sequential\"\n",
      "_________________________________________________________________\n",
      " Layer (type)                Output Shape              Param #   \n",
      "=================================================================\n",
      " lstm (LSTM)                 (None, 50)                9840600   \n",
      "                                                                 \n",
      " dense (Dense)               (None, 20)                1020      \n",
      "                                                                 \n",
      " dense_1 (Dense)             (None, 3)                 63        \n",
      "                                                                 \n",
      "=================================================================\n",
      "Total params: 9,841,683\n",
      "Trainable params: 9,841,683\n",
      "Non-trainable params: 0\n",
      "_________________________________________________________________\n"
     ]
    }
   ],
   "source": [
    "#Here is a pre-trained keras_model, but you could also train your own model after preprocessing data with your preprocessor function.\n",
    "keras_model.summary()"
   ]
  },
  {
   "cell_type": "markdown",
   "metadata": {
    "id": "FZGlu5PMWbNO"
   },
   "source": [
    "## **(3) Save Preprocessor**\n",
    "### Saves preprocessor function to \"preprocessor.zip\" file"
   ]
  },
  {
   "cell_type": "code",
   "execution_count": 6,
   "metadata": {
    "colab": {
     "base_uri": "https://localhost:8080/"
    },
    "id": "Wh_vkwblXx7r",
    "outputId": "64d7c250-73b5-4932-cecb-25d262ca84db"
   },
   "outputs": [
    {
     "name": "stdout",
     "output_type": "stream",
     "text": [
      "Your preprocessor is now saved to 'preprocessor.zip'\n"
     ]
    }
   ],
   "source": [
    "import aimodelshare as ai\n",
    "ai.export_preprocessor(preprocessor,\"\") #Saving to your current working directory"
   ]
  },
  {
   "cell_type": "code",
   "execution_count": 7,
   "metadata": {
    "colab": {
     "base_uri": "https://localhost:8080/"
    },
    "id": "b58rg4pMMn4n",
    "outputId": "3218f75a-19ba-4886-9d05-887617cc1564"
   },
   "outputs": [
    {
     "data": {
      "text/plain": [
       "(1, 60, 49152)"
      ]
     },
     "execution_count": 7,
     "metadata": {},
     "output_type": "execute_result"
    }
   ],
   "source": [
    "#  Now let's import and test the preprocessor function to see if it is working...\n",
    "\n",
    "import aimodelshare as ai\n",
    "prep=ai.import_preprocessor(\"preprocessor.zip\")\n",
    "\n",
    "prep('sports_quick_start_materials/example_data/HorseRace_ex1.avi').shape"
   ]
  },
  {
   "cell_type": "markdown",
   "metadata": {
    "id": "CdQOeF2J3PCv"
   },
   "source": [
    "## **(4) Save Keras Model to ONNX File Format**\n",
    "...Takes a minute b/c model has nearly 10 million parameters!"
   ]
  },
  {
   "cell_type": "code",
   "execution_count": 8,
   "metadata": {
    "id": "r8fgi8f6qkbk"
   },
   "outputs": [],
   "source": [
    "# Save tf.keras model (or any tensorflow model) to local ONNX file\n",
    "from aimodelshare.aimsonnx import model_to_onnx\n",
    "\n",
    "onnx_model = model_to_onnx(keras_model, framework='keras',\n",
    "                          transfer_learning=False,\n",
    "                          deep_learning=True)\n",
    "\n",
    "with open(\"model.onnx\", \"wb\") as f:\n",
    "    f.write(onnx_model.SerializeToString())"
   ]
  },
  {
   "cell_type": "markdown",
   "metadata": {
    "id": "1swt74XQUIFh"
   },
   "source": [
    "## **(5) Create your Model Playground and Deploy REST API/ Live Web-Application**"
   ]
  },
  {
   "cell_type": "code",
   "execution_count": 9,
   "metadata": {
    "id": "Y-YKEcvDNmD3"
   },
   "outputs": [],
   "source": [
    "#Set up arguments for Model Playground deployment\n",
    "import pandas as pd \n",
    "\n",
    "model_filepath=\"model.onnx\"\n",
    "preprocessor_filepath=\"preprocessor.zip\"\n",
    "exampledata_filepath = \"sports_quick_start_materials/example_data\" "
   ]
  },
  {
   "cell_type": "code",
   "execution_count": 10,
   "metadata": {
    "colab": {
     "base_uri": "https://localhost:8080/"
    },
    "id": "T8C6IlYTFN5t",
    "outputId": "b3253d78-887c-40c1-9b3d-3ab3a6560013"
   },
   "outputs": [
    {
     "name": "stdout",
     "output_type": "stream",
     "text": [
      "We need some information about your model before we can build your REST API and interactive Model Playground.\n",
      "   \n",
      "Model Name (for AI Model Share Website):Sports Clips Classifier\n",
      "Model Description (Explain what your model does and \n",
      " why end-users would find your model useful):Video clips of people doing pull-ups, kayaking, and horseback riding. Use this dataset to watch video clips and determine which of three activities are taking place. \n",
      "Model Key Words (Search categories that describe your model, separated with commas):sports clips, classification, video\n",
      "   \n",
      "Creating your prediction API. (This process may take several minutes.)\n",
      "\n",
      "[=====================================] Progress: 100% - Complete!                                            \n",
      "\n",
      "Success! Your Model Playground was created in 71 seconds. \n",
      " Playground Url: \"https://bd5gfx9wj3.execute-api.us-east-1.amazonaws.com/prod/m\"\n",
      "\n",
      "You can now use your Model Playground.\n",
      "\n",
      "Follow this link to explore your Model Playground's functionality\n",
      "You can make predictions with the Dashboard and access example code from the Programmatic tab.\n",
      "https://www.modelshare.org/detail/model:1658\n"
     ]
    }
   ],
   "source": [
    "from aimodelshare import ModelPlayground\n",
    "\n",
    "#Instantiate ModelPlayground() Class\n",
    "\n",
    "myplayground=ModelPlayground(model_type=\"video\", classification=True, private=False)\n",
    "\n",
    "# Create Model Playground (generates live rest api and web-app for your model/preprocessor)\n",
    "\n",
    "myplayground.deploy(model_filepath, preprocessor_filepath, y_train_labels, exampledata_filepath)"
   ]
  },
  {
   "cell_type": "markdown",
   "metadata": {
    "id": "Eb9dfUFHhLr-"
   },
   "source": [
    "## **Use your new Model Playground!**\n",
    "\n",
    "Follow the link in the output above to:\n",
    "- Generate predictions with your interactive web dashboard\n",
    "- Access example code in Python, R, and Curl\n",
    "\n",
    "Or, follow the rest of the tutorial to create a competition for your Model Playground and: \n",
    "- Access verified model performance metrics \n",
    "- Upload multiple models to a leaderboard \n",
    "- Easily compare model performance & structure "
   ]
  },
  {
   "cell_type": "markdown",
   "metadata": {
    "id": "9YpyLkQNfqSI"
   },
   "source": [
    "## **Part 2: Create a Competition**\n",
    "\n",
    "-------\n",
    "\n",
    "After deploying your Model Playground, you can now create a competition. \n",
    "\n",
    "Creating a competition allows you to:\n",
    "1. Verify the model performance metrics on aimodelshare.org\n",
    "2. Submit models to a leaderboard\n",
    "3. Grant access to other users to submit models to the leaderboard\n",
    "4. Easily compare model performance and structure "
   ]
  },
  {
   "cell_type": "code",
   "execution_count": 11,
   "metadata": {
    "colab": {
     "base_uri": "https://localhost:8080/"
    },
    "id": "pmklVtx1dFXB",
    "outputId": "4ce84a91-dab8-4749-99fd-7fadc5accac3"
   },
   "outputs": [
    {
     "name": "stdout",
     "output_type": "stream",
     "text": [
      "Downloading [================================================>]\n",
      "\n",
      "Data downloaded successfully.\n",
      "\n",
      "Preparing downloaded files for use...\n",
      "\n",
      "Success! Your Quick Start materials have been downloaded. \n",
      "You are now ready to run the tutorial.\n"
     ]
    }
   ],
   "source": [
    "#Download competition data and y_test labels to evaluate model prediction submissions\n",
    "import aimodelshare as ai\n",
    "keras_model_2, y_test, y_test_labels = ai.import_quickstart_data(\"sports\", \"competition\")"
   ]
  },
  {
   "cell_type": "code",
   "execution_count": 12,
   "metadata": {
    "colab": {
     "base_uri": "https://localhost:8080/",
     "height": 35
    },
    "id": "j03IcWsEquDi",
    "outputId": "35889ed0-fb45-4153-f01f-fa72d61748c9"
   },
   "outputs": [
    {
     "data": {
      "application/vnd.google.colaboratory.intrinsic+json": {
       "type": "string"
      },
      "text/plain": [
       "'sports_clips_competition_data/y_train.csv'"
      ]
     },
     "execution_count": 12,
     "metadata": {},
     "output_type": "execute_result"
    }
   ],
   "source": [
    "# save y_train labels to competition data folder \n",
    "import shutil \n",
    "shutil.copy(\"sports_quick_start_materials/y_train.csv\", \"sports_clips_competition_data/y_train.csv\")"
   ]
  },
  {
   "cell_type": "code",
   "execution_count": null,
   "metadata": {
    "id": "Zr_aNRhhDJAM"
   },
   "outputs": [],
   "source": [
    "# Create list of authorized participants for competition\n",
    "# Note that participants should use the same email address when creating modelshare.org account\n",
    "\n",
    "emaillist=[\"emailaddress1@email.com\", \"emailaddress2@email.com\", \"emailaddress3@email.com\"]"
   ]
  },
  {
   "cell_type": "code",
   "execution_count": 13,
   "metadata": {
    "colab": {
     "base_uri": "https://localhost:8080/"
    },
    "id": "o2nKrLAMgc9o",
    "outputId": "d2f2eafb-85f1-45ed-b806-76314da183d5"
   },
   "outputs": [
    {
     "name": "stdout",
     "output_type": "stream",
     "text": [
      "\n",
      "--INPUT COMPETITION DETAILS--\n",
      "\n",
      "Enter competition name:Sports Clips Classification Competition\n",
      "Enter competition description:Video clips of people doing pull-ups, kayaking, and horseback riding. Use this dataset to watch video clips and determine which of three activities are taking place. \n",
      "\n",
      "--INPUT DATA DETAILS--\n",
      "\n",
      "Note: (optional) Save an optional LICENSE.txt file in your competition data directory to make users aware of any restrictions on data sharing/usage.\n",
      "\n",
      "Enter data description (i.e.- filenames denoting training and test data, file types, and any subfolders where files are stored):Competition Data is labeled and stored in the data folder.\n",
      "Enter optional data license descriptive name (e.g.- 'MIT, Apache 2.0, CC0, Other, etc.'):\n",
      "Uploading your data. Please wait for a confirmation message.\n",
      "\n",
      " Success! Model competition created. \n",
      "\n",
      "You may now update your prediction API runtime model and verify evaluation metrics with the update_runtime_model() function.\n",
      "\n",
      "To upload new models and/or preprocessors to this API, team members should use \n",
      "the following credentials:\n",
      "\n",
      "apiurl='https://bd5gfx9wj3.execute-api.us-east-1.amazonaws.com/prod/m'\n",
      "from aimodelshare.aws import set_credentials\n",
      "set_credentials(apiurl=apiurl)\n",
      "\n",
      "They can then submit models to your competition by using the following code: \n",
      "\n",
      "competition= ai.Competition(apiurl)\n",
      "download_data('public.ecr.aws/y2e2a1d6/sports_clips_competition_data-repository:latest') \n",
      "# Use this data to preprocess data and train model. Write and save preprocessor fxn, save model to onnx file, generate predicted y values\n",
      " using X test data, then submit a model below.\n",
      "\n",
      "competition.submit_model(model_filepath, preprocessor_filepath, prediction_submission_list)\n"
     ]
    }
   ],
   "source": [
    "# Create Competition\n",
    "# Note -- Make competition public (allow any AI Model Share user to submit models) \n",
    "# .... by excluding the email_list argument and including the 'public=True' argument \n",
    "\n",
    "myplayground.create_competition(data_directory='sports_clips_competition_data', \n",
    "                                y_test = y_test_labels, \n",
    "                              #  email_list=emaillist)\n",
    "                               public=True)"
   ]
  },
  {
   "cell_type": "code",
   "execution_count": 14,
   "metadata": {
    "id": "SAJJWhdAfyo5"
   },
   "outputs": [],
   "source": [
    "#Instantiate Competition\n",
    "#--Note: If you start a new session, the first argument should be the Model Playground url in quotes. \n",
    "#--e.g.- mycompetition= ai.Competition(\"https://2121212.execute-api.us-east-1.amazonaws.com/prod/m)\n",
    "#See Model Playground \"Compete\" tab for example model submission code.\n",
    "\n",
    "mycompetition= ai.Competition(myplayground.playground_url)"
   ]
  },
  {
   "cell_type": "code",
   "execution_count": null,
   "metadata": {
    "id": "q6Rfl0VwDPz2"
   },
   "outputs": [],
   "source": [
    "# Add, remove, or completely update authorized participants for competition later\n",
    "emaillist=[\"emailaddress4@gmail.com\"]\n",
    "\n",
    "mycompetition.update_access_list(email_list=emaillist,update_type=\"Add\")"
   ]
  },
  {
   "cell_type": "markdown",
   "metadata": {
    "id": "mqyzWZPwgoEH"
   },
   "source": [
    "Submit Models"
   ]
  },
  {
   "cell_type": "code",
   "execution_count": 15,
   "metadata": {
    "colab": {
     "base_uri": "https://localhost:8080/"
    },
    "id": "sJgu9K92DS8O",
    "outputId": "39727dfd-2361-4e0b-e094-452962da850c"
   },
   "outputs": [
    {
     "name": "stdout",
     "output_type": "stream",
     "text": [
      "AI Modelshare Username:··········\n",
      "AI Modelshare Password:··········\n",
      "AI Model Share login credentials set successfully.\n"
     ]
    }
   ],
   "source": [
    "#Authorized users can submit new models after setting credentials using modelshare.org username/password\n",
    "\n",
    "apiurl=myplayground.playground_url # example url from deployed playground: apiurl= \"https://123456.execute-api.us-east-1.amazonaws.com/prod/m\n",
    "\n",
    "from aimodelshare.aws import set_credentials\n",
    "set_credentials(apiurl=apiurl)"
   ]
  },
  {
   "cell_type": "code",
   "execution_count": 16,
   "metadata": {
    "id": "f5bh0pYkCcvQ"
   },
   "outputs": [],
   "source": [
    "## Prepare X_test data for predictions: \n",
    "# Unzip video clips\n",
    "import zipfile\n",
    "with zipfile.ZipFile('sports_clips_competition_data/clips_test.zip', 'r') as zip_ref:\n",
    "    zip_ref.extractall('X_test_clips')\n",
    "\n",
    "# Preprocess clips\n",
    "import numpy as np\n",
    "file_names = [('X_test_clips/clips_test/' + str(i) + '.avi') for i in range(1, 46)]\n",
    "preprocessed_video_data = [preprocessor(x) for x in file_names]\n",
    "\n",
    "#Create single X_test array from preprocessed videos\n",
    "X_test = np.vstack(preprocessed_video_data) "
   ]
  },
  {
   "cell_type": "code",
   "execution_count": 17,
   "metadata": {
    "colab": {
     "base_uri": "https://localhost:8080/"
    },
    "id": "pJC2jl2PgfTf",
    "outputId": "14aeffbb-02d9-42de-c240-76f3d20aeaee"
   },
   "outputs": [
    {
     "name": "stdout",
     "output_type": "stream",
     "text": [
      "Insert search tags to help users find your model (optional): \n",
      "Provide any useful notes about your model (optional): \n",
      "\n",
      "Your model has been submitted as model version 1\n",
      "\n",
      "To submit code used to create this model or to view current leaderboard navigate to Model Playground: \n",
      "\n",
      " https://www.modelshare.org/detail/model:1658\n"
     ]
    }
   ],
   "source": [
    "#Submit Model 1: \n",
    "\n",
    "#-- Generate predicted y values (Model 1)\n",
    "#Note: Keras predict returns the predicted column index location for classification models\n",
    "prediction_column_index = keras_model.predict(X_test).argmax(axis=1)\n",
    "\n",
    "# extract correct prediction labels \n",
    "predicted_labels = [y_train_labels.columns[i] for i in prediction_column_index]\n",
    "\n",
    "# Submit Model 1 to Competition Leaderboard\n",
    "mycompetition.submit_model(model_filepath = \"model.onnx\",\n",
    "                                 preprocessor_filepath=\"preprocessor.zip\",\n",
    "                                 prediction_submission=predicted_labels)"
   ]
  },
  {
   "cell_type": "code",
   "execution_count": 18,
   "metadata": {
    "colab": {
     "base_uri": "https://localhost:8080/"
    },
    "id": "hpzXNVPTop-O",
    "outputId": "cb266c0f-f7cb-4761-8edc-d220d623ad1f"
   },
   "outputs": [
    {
     "name": "stdout",
     "output_type": "stream",
     "text": [
      "Model: \"sequential_1\"\n",
      "_________________________________________________________________\n",
      " Layer (type)                Output Shape              Param #   \n",
      "=================================================================\n",
      " lstm (LSTM)                 (None, 60, 5)             983160    \n",
      "                                                                 \n",
      " lstm_1 (LSTM)               (None, 5)                 220       \n",
      "                                                                 \n",
      " dense (Dense)               (None, 3)                 18        \n",
      "                                                                 \n",
      "=================================================================\n",
      "Total params: 983,398\n",
      "Trainable params: 983,398\n",
      "Non-trainable params: 0\n",
      "_________________________________________________________________\n"
     ]
    }
   ],
   "source": [
    "# Have a look at architecture for model two\n",
    "keras_model_2.summary()"
   ]
  },
  {
   "cell_type": "code",
   "execution_count": 19,
   "metadata": {
    "id": "jraPDdsNX46e"
   },
   "outputs": [],
   "source": [
    "# Save Model 2 to .onnx file\n",
    "\n",
    "# Save tf.keras model to ONNX file\n",
    "onnx_cnn2 = model_to_onnx(keras_model_2, framework='keras',\n",
    "                          transfer_learning=False,\n",
    "                          deep_learning=True)\n",
    "\n",
    "# Save model to local .onnx file\n",
    "with open(\"model_2.onnx\", \"wb\") as f:\n",
    "    f.write(onnx_cnn2.SerializeToString()) "
   ]
  },
  {
   "cell_type": "code",
   "execution_count": 20,
   "metadata": {
    "colab": {
     "base_uri": "https://localhost:8080/"
    },
    "id": "Cme7T_gaYWlD",
    "outputId": "1145b7bf-c3c6-419c-ca14-ff9af176e093"
   },
   "outputs": [
    {
     "name": "stdout",
     "output_type": "stream",
     "text": [
      "Insert search tags to help users find your model (optional): \n",
      "Provide any useful notes about your model (optional): \n",
      "\n",
      "Your model has been submitted as model version 2\n",
      "\n",
      "To submit code used to create this model or to view current leaderboard navigate to Model Playground: \n",
      "\n",
      " https://www.modelshare.org/detail/model:1658\n"
     ]
    }
   ],
   "source": [
    "# Submit Model 2\n",
    "\n",
    "#-- Generate predicted y values (Model 2)\n",
    "#Note: Keras predict returns the predicted column index location for classification models\n",
    "prediction_column_index = keras_model_2.predict(X_test).argmax(axis=1)\n",
    "\n",
    "# extract correct prediction labels \n",
    "predicted_labels = [y_train_labels.columns[i] for i in prediction_column_index]\n",
    "\n",
    "# Submit Model 2 to Competition Leaderboard\n",
    "mycompetition.submit_model(model_filepath = \"model_2.onnx\",\n",
    "                                 prediction_submission=predicted_labels,\n",
    "                                 preprocessor_filepath=\"preprocessor.zip\")"
   ]
  },
  {
   "cell_type": "markdown",
   "metadata": {
    "id": "iLYlCkWchWC_"
   },
   "source": [
    "Get Leaderboard"
   ]
  },
  {
   "cell_type": "code",
   "execution_count": 21,
   "metadata": {
    "colab": {
     "base_uri": "https://localhost:8080/",
     "height": 113
    },
    "id": "J0-B1h0chYDL",
    "outputId": "042634b3-204d-4c44-d7a5-eed8539775a8"
   },
   "outputs": [
    {
     "data": {
      "text/html": [
       "<style type=\"text/css\">\n",
       "#T_d677f_row0_col0 {\n",
       "  text-align: center;\n",
       "  width: 10em;\n",
       "  height: 80%;\n",
       "  background: linear-gradient(90deg,#f5f8d6 69.6%, transparent 69.6%);\n",
       "  color: #251e1b;\n",
       "  font-size: 12px;\n",
       "}\n",
       "#T_d677f_row0_col1 {\n",
       "  text-align: center;\n",
       "  width: 10em;\n",
       "  height: 80%;\n",
       "  background: linear-gradient(90deg,#c778c8 55.5%, transparent 55.5%);\n",
       "  color: #251e1b;\n",
       "  font-size: 12px;\n",
       "}\n",
       "#T_d677f_row0_col2 {\n",
       "  text-align: center;\n",
       "  width: 10em;\n",
       "  height: 80%;\n",
       "  background: linear-gradient(90deg,#ff4971 52.9%, transparent 52.9%);\n",
       "  color: #251e1b;\n",
       "  font-size: 12px;\n",
       "}\n",
       "#T_d677f_row0_col3, #T_d677f_row1_col3 {\n",
       "  text-align: center;\n",
       "  width: 10em;\n",
       "  height: 80%;\n",
       "  background: linear-gradient(90deg,#aadbaa 61.9%, transparent 61.9%);\n",
       "  color: #251e1b;\n",
       "  font-size: 12px;\n",
       "}\n",
       "#T_d677f_row0_col4, #T_d677f_row0_col5, #T_d677f_row0_col6, #T_d677f_row0_col7, #T_d677f_row0_col8, #T_d677f_row0_col9, #T_d677f_row0_col10, #T_d677f_row0_col11, #T_d677f_row0_col12, #T_d677f_row0_col13, #T_d677f_row0_col14, #T_d677f_row0_col15, #T_d677f_row0_col16, #T_d677f_row0_col17, #T_d677f_row0_col18, #T_d677f_row0_col19, #T_d677f_row1_col4, #T_d677f_row1_col5, #T_d677f_row1_col6, #T_d677f_row1_col7, #T_d677f_row1_col8, #T_d677f_row1_col9, #T_d677f_row1_col10, #T_d677f_row1_col11, #T_d677f_row1_col12, #T_d677f_row1_col13, #T_d677f_row1_col14, #T_d677f_row1_col15, #T_d677f_row1_col16, #T_d677f_row1_col17, #T_d677f_row1_col18, #T_d677f_row1_col19 {\n",
       "  text-align: center;\n",
       "}\n",
       "#T_d677f_row1_col0 {\n",
       "  text-align: center;\n",
       "  width: 10em;\n",
       "  height: 80%;\n",
       "  background: linear-gradient(90deg,#f5f8d6 52.2%, transparent 52.2%);\n",
       "  color: #251e1b;\n",
       "  font-size: 12px;\n",
       "}\n",
       "#T_d677f_row1_col1 {\n",
       "  text-align: center;\n",
       "  width: 10em;\n",
       "  height: 80%;\n",
       "  background: linear-gradient(90deg,#c778c8 48.2%, transparent 48.2%);\n",
       "  color: #251e1b;\n",
       "  font-size: 12px;\n",
       "}\n",
       "#T_d677f_row1_col2 {\n",
       "  text-align: center;\n",
       "  width: 10em;\n",
       "  height: 80%;\n",
       "  background: linear-gradient(90deg,#ff4971 45.1%, transparent 45.1%);\n",
       "  color: #251e1b;\n",
       "  font-size: 12px;\n",
       "}\n",
       "</style>\n",
       "<table id=\"T_d677f_\" class=\"dataframe\">\n",
       "  <thead>\n",
       "    <tr>\n",
       "      <th class=\"blank level0\" >&nbsp;</th>\n",
       "      <th class=\"col_heading level0 col0\" >accuracy</th>\n",
       "      <th class=\"col_heading level0 col1\" >f1_score</th>\n",
       "      <th class=\"col_heading level0 col2\" >precision</th>\n",
       "      <th class=\"col_heading level0 col3\" >recall</th>\n",
       "      <th class=\"col_heading level0 col4\" >ml_framework</th>\n",
       "      <th class=\"col_heading level0 col5\" >transfer_learning</th>\n",
       "      <th class=\"col_heading level0 col6\" >deep_learning</th>\n",
       "      <th class=\"col_heading level0 col7\" >model_type</th>\n",
       "      <th class=\"col_heading level0 col8\" >depth</th>\n",
       "      <th class=\"col_heading level0 col9\" >num_params</th>\n",
       "      <th class=\"col_heading level0 col10\" >lstm_layers</th>\n",
       "      <th class=\"col_heading level0 col11\" >dense_layers</th>\n",
       "      <th class=\"col_heading level0 col12\" >softmax_act</th>\n",
       "      <th class=\"col_heading level0 col13\" >tanh_act</th>\n",
       "      <th class=\"col_heading level0 col14\" >relu_act</th>\n",
       "      <th class=\"col_heading level0 col15\" >loss</th>\n",
       "      <th class=\"col_heading level0 col16\" >optimizer</th>\n",
       "      <th class=\"col_heading level0 col17\" >memory_size</th>\n",
       "      <th class=\"col_heading level0 col18\" >username</th>\n",
       "      <th class=\"col_heading level0 col19\" >version</th>\n",
       "    </tr>\n",
       "  </thead>\n",
       "  <tbody>\n",
       "    <tr>\n",
       "      <th id=\"T_d677f_level0_row0\" class=\"row_heading level0 row0\" >0</th>\n",
       "      <td id=\"T_d677f_row0_col0\" class=\"data row0 col0\" >69.57%</td>\n",
       "      <td id=\"T_d677f_row0_col1\" class=\"data row0 col1\" >55.46%</td>\n",
       "      <td id=\"T_d677f_row0_col2\" class=\"data row0 col2\" >52.94%</td>\n",
       "      <td id=\"T_d677f_row0_col3\" class=\"data row0 col3\" >61.90%</td>\n",
       "      <td id=\"T_d677f_row0_col4\" class=\"data row0 col4\" >keras</td>\n",
       "      <td id=\"T_d677f_row0_col5\" class=\"data row0 col5\" >False</td>\n",
       "      <td id=\"T_d677f_row0_col6\" class=\"data row0 col6\" >True</td>\n",
       "      <td id=\"T_d677f_row0_col7\" class=\"data row0 col7\" >Sequential</td>\n",
       "      <td id=\"T_d677f_row0_col8\" class=\"data row0 col8\" >3</td>\n",
       "      <td id=\"T_d677f_row0_col9\" class=\"data row0 col9\" >983398</td>\n",
       "      <td id=\"T_d677f_row0_col10\" class=\"data row0 col10\" >2</td>\n",
       "      <td id=\"T_d677f_row0_col11\" class=\"data row0 col11\" >1</td>\n",
       "      <td id=\"T_d677f_row0_col12\" class=\"data row0 col12\" >1</td>\n",
       "      <td id=\"T_d677f_row0_col13\" class=\"data row0 col13\" >2</td>\n",
       "      <td id=\"T_d677f_row0_col14\" class=\"data row0 col14\" >nan</td>\n",
       "      <td id=\"T_d677f_row0_col15\" class=\"data row0 col15\" >function</td>\n",
       "      <td id=\"T_d677f_row0_col16\" class=\"data row0 col16\" >Adam</td>\n",
       "      <td id=\"T_d677f_row0_col17\" class=\"data row0 col17\" >2218656</td>\n",
       "      <td id=\"T_d677f_row0_col18\" class=\"data row0 col18\" >AIModelShare</td>\n",
       "      <td id=\"T_d677f_row0_col19\" class=\"data row0 col19\" >2</td>\n",
       "    </tr>\n",
       "    <tr>\n",
       "      <th id=\"T_d677f_level0_row1\" class=\"row_heading level0 row1\" >1</th>\n",
       "      <td id=\"T_d677f_row1_col0\" class=\"data row1 col0\" >52.17%</td>\n",
       "      <td id=\"T_d677f_row1_col1\" class=\"data row1 col1\" >48.16%</td>\n",
       "      <td id=\"T_d677f_row1_col2\" class=\"data row1 col2\" >45.10%</td>\n",
       "      <td id=\"T_d677f_row1_col3\" class=\"data row1 col3\" >61.90%</td>\n",
       "      <td id=\"T_d677f_row1_col4\" class=\"data row1 col4\" >keras</td>\n",
       "      <td id=\"T_d677f_row1_col5\" class=\"data row1 col5\" >False</td>\n",
       "      <td id=\"T_d677f_row1_col6\" class=\"data row1 col6\" >True</td>\n",
       "      <td id=\"T_d677f_row1_col7\" class=\"data row1 col7\" >Sequential</td>\n",
       "      <td id=\"T_d677f_row1_col8\" class=\"data row1 col8\" >3</td>\n",
       "      <td id=\"T_d677f_row1_col9\" class=\"data row1 col9\" >9841683</td>\n",
       "      <td id=\"T_d677f_row1_col10\" class=\"data row1 col10\" >1</td>\n",
       "      <td id=\"T_d677f_row1_col11\" class=\"data row1 col11\" >2</td>\n",
       "      <td id=\"T_d677f_row1_col12\" class=\"data row1 col12\" >1</td>\n",
       "      <td id=\"T_d677f_row1_col13\" class=\"data row1 col13\" >1</td>\n",
       "      <td id=\"T_d677f_row1_col14\" class=\"data row1 col14\" >1.000000</td>\n",
       "      <td id=\"T_d677f_row1_col15\" class=\"data row1 col15\" >function</td>\n",
       "      <td id=\"T_d677f_row1_col16\" class=\"data row1 col16\" >Adam</td>\n",
       "      <td id=\"T_d677f_row1_col17\" class=\"data row1 col17\" >219360</td>\n",
       "      <td id=\"T_d677f_row1_col18\" class=\"data row1 col18\" >AIModelShare</td>\n",
       "      <td id=\"T_d677f_row1_col19\" class=\"data row1 col19\" >1</td>\n",
       "    </tr>\n",
       "  </tbody>\n",
       "</table>\n"
      ],
      "text/plain": [
       "<pandas.io.formats.style.Styler at 0x7fe360509b50>"
      ]
     },
     "execution_count": 21,
     "metadata": {},
     "output_type": "execute_result"
    }
   ],
   "source": [
    "data = mycompetition.get_leaderboard()\n",
    "mycompetition.stylize_leaderboard(data)"
   ]
  },
  {
   "cell_type": "markdown",
   "metadata": {
    "id": "g_bklL3shOER"
   },
   "source": [
    "Compare Models"
   ]
  },
  {
   "cell_type": "code",
   "execution_count": 22,
   "metadata": {
    "colab": {
     "base_uri": "https://localhost:8080/",
     "height": 108
    },
    "id": "quo_V3A3hNS3",
    "outputId": "7f8318bd-d3e1-48a8-ce5a-e8e78a2ab260"
   },
   "outputs": [
    {
     "data": {
      "text/html": [
       "<style type=\"text/css\">\n",
       "#T_57c00_ caption {\n",
       "  color: black;\n",
       "  font-size: 18px;\n",
       "}\n",
       "#T_57c00_row0_col0, #T_57c00_row0_col3, #T_57c00_row1_col3 {\n",
       "  background: #cbd5e8;\n",
       "  color: black;\n",
       "  color: black;\n",
       "}\n",
       "#T_57c00_row0_col1, #T_57c00_row0_col2, #T_57c00_row0_col4, #T_57c00_row0_col5, #T_57c00_row1_col1, #T_57c00_row1_col2, #T_57c00_row1_col4, #T_57c00_row1_col5, #T_57c00_row2_col1, #T_57c00_row2_col2, #T_57c00_row2_col4, #T_57c00_row2_col5 {\n",
       "  background: white;\n",
       "  color: black;\n",
       "  color: black;\n",
       "}\n",
       "#T_57c00_row1_col0, #T_57c00_row2_col0, #T_57c00_row2_col3 {\n",
       "  background: #fff2ae;\n",
       "  color: black;\n",
       "  color: black;\n",
       "}\n",
       "</style>\n",
       "<table id=\"T_57c00_\">\n",
       "  <caption>Model type: Neural Network</caption>\n",
       "  <thead>\n",
       "    <tr>\n",
       "      <th class=\"blank level0\" >&nbsp;</th>\n",
       "      <th class=\"col_heading level0 col0\" >Model_1_Layer</th>\n",
       "      <th class=\"col_heading level0 col1\" >Model_1_Shape</th>\n",
       "      <th class=\"col_heading level0 col2\" >Model_1_Params</th>\n",
       "      <th class=\"col_heading level0 col3\" >Model_2_Layer</th>\n",
       "      <th class=\"col_heading level0 col4\" >Model_2_Shape</th>\n",
       "      <th class=\"col_heading level0 col5\" >Model_2_Params</th>\n",
       "    </tr>\n",
       "  </thead>\n",
       "  <tbody>\n",
       "    <tr>\n",
       "      <th id=\"T_57c00_level0_row0\" class=\"row_heading level0 row0\" >0</th>\n",
       "      <td id=\"T_57c00_row0_col0\" class=\"data row0 col0\" >LSTM</td>\n",
       "      <td id=\"T_57c00_row0_col1\" class=\"data row0 col1\" >[None, 50]</td>\n",
       "      <td id=\"T_57c00_row0_col2\" class=\"data row0 col2\" >9840600</td>\n",
       "      <td id=\"T_57c00_row0_col3\" class=\"data row0 col3\" >LSTM</td>\n",
       "      <td id=\"T_57c00_row0_col4\" class=\"data row0 col4\" >[None, 60, 5]</td>\n",
       "      <td id=\"T_57c00_row0_col5\" class=\"data row0 col5\" >983160</td>\n",
       "    </tr>\n",
       "    <tr>\n",
       "      <th id=\"T_57c00_level0_row1\" class=\"row_heading level0 row1\" >1</th>\n",
       "      <td id=\"T_57c00_row1_col0\" class=\"data row1 col0\" >Dense</td>\n",
       "      <td id=\"T_57c00_row1_col1\" class=\"data row1 col1\" >[None, 20]</td>\n",
       "      <td id=\"T_57c00_row1_col2\" class=\"data row1 col2\" >1020</td>\n",
       "      <td id=\"T_57c00_row1_col3\" class=\"data row1 col3\" >LSTM</td>\n",
       "      <td id=\"T_57c00_row1_col4\" class=\"data row1 col4\" >[None, 5]</td>\n",
       "      <td id=\"T_57c00_row1_col5\" class=\"data row1 col5\" >220</td>\n",
       "    </tr>\n",
       "    <tr>\n",
       "      <th id=\"T_57c00_level0_row2\" class=\"row_heading level0 row2\" >2</th>\n",
       "      <td id=\"T_57c00_row2_col0\" class=\"data row2 col0\" >Dense</td>\n",
       "      <td id=\"T_57c00_row2_col1\" class=\"data row2 col1\" >[None, 3]</td>\n",
       "      <td id=\"T_57c00_row2_col2\" class=\"data row2 col2\" >63</td>\n",
       "      <td id=\"T_57c00_row2_col3\" class=\"data row2 col3\" >Dense</td>\n",
       "      <td id=\"T_57c00_row2_col4\" class=\"data row2 col4\" >[None, 3]</td>\n",
       "      <td id=\"T_57c00_row2_col5\" class=\"data row2 col5\" >18</td>\n",
       "    </tr>\n",
       "  </tbody>\n",
       "</table>\n"
      ],
      "text/plain": [
       "<IPython.core.display.HTML object>"
      ]
     },
     "metadata": {},
     "output_type": "display_data"
    }
   ],
   "source": [
    "# Compare two or more models\n",
    "data=mycompetition.compare_models([1,2],verbose=1)\n",
    "mycompetition.stylize_compare(data)"
   ]
  },
  {
   "cell_type": "markdown",
   "metadata": {
    "id": "FKm9ugiBhQFn"
   },
   "source": [
    "#### Check structure of y test data \n",
    "(This helps users understand how to submit predicted values to leaderboard)"
   ]
  },
  {
   "cell_type": "code",
   "execution_count": 23,
   "metadata": {
    "colab": {
     "base_uri": "https://localhost:8080/"
    },
    "id": "dqY82D22hPZx",
    "outputId": "4e52cf43-5d19-4260-a380-bbb06e108519"
   },
   "outputs": [
    {
     "data": {
      "text/plain": [
       "{'class_balance': {'horserace': 19, 'kayaking': 13, 'pullups': 13},\n",
       " 'class_labels': ['horserace', 'kayaking', 'pullups'],\n",
       " 'label_dtypes': {\"<class 'str'>\": 45},\n",
       " 'y_length': 45,\n",
       " 'ytest_example': ['kayaking', 'horserace', 'pullups', 'kayaking', 'kayaking']}"
      ]
     },
     "execution_count": 23,
     "metadata": {},
     "output_type": "execute_result"
    }
   ],
   "source": [
    "mycompetition.inspect_y_test()"
   ]
  },
  {
   "cell_type": "markdown",
   "metadata": {
    "id": "iA-nYjr7WCIp"
   },
   "source": [
    "## **Part 3: Maintaining your Model Playground**\n",
    "\n",
    "-------"
   ]
  },
  {
   "cell_type": "markdown",
   "metadata": {
    "id": "0UIWnHIXWM0F"
   },
   "source": [
    "Update Runtime model\n",
    "\n",
    "*Use this function to 1) update the prediction API behind your Model Playground with a new model, chosen from the leaderboard and 2) verify the modelperformance metrics in your Model Playground*"
   ]
  },
  {
   "cell_type": "code",
   "execution_count": 24,
   "metadata": {
    "colab": {
     "base_uri": "https://localhost:8080/"
    },
    "id": "wAchpcGLWLxE",
    "outputId": "2b5e71ec-19e7-449a-80c1-d3cb725b30f6"
   },
   "outputs": [
    {
     "name": "stdout",
     "output_type": "stream",
     "text": [
      "['accuracy', 'f1_score', 'precision', 'recall']\n",
      "{'accuracy': 0.6956521739130435, 'f1_score': 0.5546058879392213, 'precision': 0.5294117647058824, 'recall': 0.6190476190476191}\n",
      "Runtime model & preprocessor for api: https://bd5gfx9wj3.execute-api.us-east-1.amazonaws.com/prod/m updated to model version 2.\n",
      "\n",
      "Model metrics are now updated and verified for this model playground.\n"
     ]
    }
   ],
   "source": [
    "myplayground.update_runtime_model(model_version=2)"
   ]
  },
  {
   "cell_type": "markdown",
   "metadata": {
    "id": "xhJRaiN-WaO1"
   },
   "source": [
    "Delete Deployment \n",
    "\n",
    "*Use this function to delete the entire Model Playground, including the REST API, web dashboard, competition, and all submitted models*"
   ]
  },
  {
   "cell_type": "code",
   "execution_count": null,
   "metadata": {
    "colab": {
     "base_uri": "https://localhost:8080/",
     "height": 129
    },
    "id": "mCkf-exLWyDK",
    "outputId": "b4bccc86-afa2-4728-e372-ab9c7feeb752"
   },
   "outputs": [
    {
     "name": "stdout",
     "output_type": "stream",
     "text": [
      "Running this function will permanently delete all resources tied to this deployment, \n",
      " including the eval lambda and all models submitted to the model competition.\n",
      "\n",
      "To confirm, type 'permanently delete':permanently delete\n"
     ]
    },
    {
     "data": {
      "application/vnd.google.colaboratory.intrinsic+json": {
       "type": "string"
      },
      "text/plain": [
       "'API deleted successfully.'"
      ]
     },
     "execution_count": 67,
     "metadata": {},
     "output_type": "execute_result"
    }
   ],
   "source": [
    "myplayground.delete_deployment()"
   ]
  }
 ],
 "metadata": {
  "accelerator": "GPU",
  "colab": {
   "collapsed_sections": [],
   "name": "[SPORTS CLIPS] Quick Start: Video Model Playground Deployment and Competition Creation.ipynb",
   "provenance": []
  },
  "kernelspec": {
   "display_name": "Python 3",
   "language": "python",
   "name": "python3"
  },
  "language_info": {
   "codemirror_mode": {
    "name": "ipython",
    "version": 3
   },
   "file_extension": ".py",
   "mimetype": "text/x-python",
   "name": "python",
   "nbconvert_exporter": "python",
   "pygments_lexer": "ipython3",
   "version": "3.8.5"
  }
 },
 "nbformat": 4,
 "nbformat_minor": 1
}
