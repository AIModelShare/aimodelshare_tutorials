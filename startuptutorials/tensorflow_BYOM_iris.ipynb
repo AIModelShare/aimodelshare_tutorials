{
  "cells": [
    {
      "cell_type": "markdown",
      "metadata": {
        "id": "sJKNoNcoEjHd"
      },
      "source": [
        "# TensorFlow BYOM: Train locally with SageMaker.\n",
        "## (Extract Sagemaker model to Tensorflow)\n",
        "\n",
        "\n",
        "1. [Introduction](#Introduction)\n",
        "2. [Prerequisites and Preprocessing](#Prequisites-and-Preprocessing)\n",
        "    1. [Permissions and environment variables](#Permissions-and-environment-variables)\n",
        "    2. [Model definitions](#Model-definitions)\n",
        "    3. [Data Setup](#Data-setup)\n",
        "3. [Training the network locally](#Training)\n",
        "4. [Set up hosting for the model](#Set-up-hosting-for-the-model)\n",
        "    1. [Export from TensorFlow](#Export-the-model-from-tensorflow)\n",
        "    2. [Import model into SageMaker](#Import-model-into-SageMaker)\n",
        "\n",
        "\n",
        "__Note__: Compare this with the [tensorflow bring your own model example](../tensorflow_iris_byom/tensorflow_BYOM_iris.ipynb)"
      ]
    },
    {
      "cell_type": "markdown",
      "metadata": {
        "id": "BYgNowc-EjHp"
      },
      "source": [
        "Thie notebook was last tested on a ml.m5.xlarge instance running the Python 3 (TensorFlow 2.3 Python 3.7 CPU Optimized) kernel in SageMaker Studio."
      ]
    },
    {
      "cell_type": "markdown",
      "metadata": {
        "id": "5YGlZjs0EjHt"
      },
      "source": [
        "## Introduction \n",
        "\n",
        "We will do a classification task, training locally in the box from where this notebook is being run. We then set up a real-time hosted endpoint in SageMaker.\n",
        "\n",
        "Consider the following model definition for IRIS classification. This mode uses the ``tensorflow.estimator.DNNClassifier`` which is a pre-defined estimator module for its model definition.\n",
        "\n",
        "## Prequisites and Preprocessing\n",
        "### Permissions and environment variables\n",
        "\n",
        "Here we set up the linkage and authentication to AWS services. In this notebook we only need the roles used to give learning and hosting access to your data. The Sagemaker SDK will use S3 defualt buckets when needed. If the ``get_execution_role``  does not return a role with the appropriate permissions, you'll need to specify an IAM role arn that does."
      ]
    },
    {
      "cell_type": "code",
      "execution_count": null,
      "metadata": {
        "id": "hnaRU6mJEjHz"
      },
      "outputs": [],
      "source": [
        "!pip install --upgrade tensorflow sagemaker awscli"
      ]
    },
    {
      "cell_type": "code",
      "source": [
        "!aws configure"
      ],
      "metadata": {
        "id": "TYf5sZqoEvm2"
      },
      "execution_count": null,
      "outputs": []
    },
    {
      "cell_type": "code",
      "execution_count": null,
      "metadata": {
        "isConfigCell": true,
        "id": "ldJsKcHLEjH8"
      },
      "outputs": [],
      "source": [
        "import boto3\n",
        "import numpy as np\n",
        "import os\n",
        "import pandas as pd\n",
        "import re\n",
        "import sagemaker\n",
        "from sagemaker.tensorflow import TensorFlowModel\n",
        "from sagemaker.utils import S3DataConfig\n",
        "\n",
        "import shutil\n",
        "import tarfile\n",
        "import tensorflow as tf\n",
        "from tensorflow.python.keras.utils.np_utils import to_categorical\n",
        "from tensorflow.keras.layers import Input, Dense\n",
        "\n",
        "#role = sagemaker.get_execution_role()\n",
        "sm_session = sagemaker.Session()\n",
        "role='arn:aws:iam::930296898350:role/service-role/AmazonSageMaker-ExecutionRole-20230111T130473'\n",
        "region='us-east-2'\n",
        "bucket_name = sm_session.default_bucket()"
      ]
    },
    {
      "cell_type": "markdown",
      "metadata": {
        "id": "LnG6o-FUEjIA"
      },
      "source": [
        "### Model Definitions"
      ]
    },
    {
      "cell_type": "markdown",
      "metadata": {
        "id": "We8O4sEjEjIB"
      },
      "source": [
        "For this example, we'll use a very simple network architecture, with three densely-connected layers."
      ]
    },
    {
      "cell_type": "code",
      "execution_count": null,
      "metadata": {
        "id": "YfPYzb1iEjID"
      },
      "outputs": [],
      "source": [
        "def iris_mlp(metrics):\n",
        "    ### Setup loss and output node activation\n",
        "    output_activation = \"softmax\"\n",
        "    loss = \"sparse_categorical_crossentropy\"\n",
        "\n",
        "    input = Input(shape=(4,), name=\"input\")\n",
        "\n",
        "    x = Dense(\n",
        "        units=10,\n",
        "        kernel_regularizer=tf.keras.regularizers.l2(0.001),\n",
        "        activation=\"relu\",\n",
        "        name=\"dense_layer1\",\n",
        "    )(input)\n",
        "\n",
        "    x = Dense(\n",
        "        units=20,\n",
        "        kernel_regularizer=tf.keras.regularizers.l2(0.001),\n",
        "        activation=\"relu\",\n",
        "        name=\"dense_layer2\",\n",
        "    )(x)\n",
        "\n",
        "    x = Dense(\n",
        "        units=10,\n",
        "        activation=\"relu\",\n",
        "        kernel_regularizer=tf.keras.regularizers.l2(0.001),\n",
        "        name=\"dense_layer3\",\n",
        "    )(x)\n",
        "\n",
        "    output = Dense(units=3, activation=output_activation)(x)\n",
        "\n",
        "    ### Compile the model\n",
        "    model = tf.keras.Model(input, output)\n",
        "\n",
        "    model.compile(optimizer=\"adam\", loss=loss, metrics=metrics)\n",
        "\n",
        "    return model"
      ]
    },
    {
      "cell_type": "markdown",
      "metadata": {
        "id": "fLaHVhrAEjII"
      },
      "source": [
        "### Data Setup"
      ]
    },
    {
      "cell_type": "markdown",
      "metadata": {
        "id": "jmDQ3FGuEjIM"
      },
      "source": [
        "We'll use the pre-processed iris training and test data stored in a public S3 bucket for this example."
      ]
    },
    {
      "cell_type": "code",
      "execution_count": null,
      "metadata": {
        "colab": {
          "base_uri": "https://localhost:8080/"
        },
        "id": "sXxZKRamEjIP",
        "outputId": "e45cb138-c47f-46f0-842a-05336268a605"
      },
      "outputs": [
        {
          "output_type": "stream",
          "name": "stdout",
          "text": [
            "Using data from sagemaker-sample-files\n"
          ]
        }
      ],
      "source": [
        "data_bucket = S3DataConfig(\n",
        "    sm_session, \"example-notebooks-data-config\", \"config/data_config.json\"\n",
        ").get_data_bucket()\n",
        "print(f\"Using data from {data_bucket}\")"
      ]
    },
    {
      "cell_type": "code",
      "execution_count": null,
      "metadata": {
        "id": "opOg5BW5EjIS"
      },
      "outputs": [],
      "source": [
        "# Download iris test and train data sets from S3\n",
        "SOURCE_DATA_BUCKET = data_bucket\n",
        "SOURCE_DATA_PREFIX = \"datasets/tabular/iris\"\n",
        "sm_session.download_data(\".\", bucket=SOURCE_DATA_BUCKET, key_prefix=SOURCE_DATA_PREFIX)\n",
        "\n",
        "# Load the training and test data from .csv to a Pandas data frame.\n",
        "train_df = pd.read_csv(\n",
        "    \"iris_train.csv\",\n",
        "    header=0,\n",
        "    names=[\"sepal_length\", \"sepal_width\", \"petal_length\", \"petal_width\", \"class\"],\n",
        ")\n",
        "test_df = pd.read_csv(\n",
        "    \"iris_test.csv\",\n",
        "    header=0,\n",
        "    names=[\"sepal_length\", \"sepal_width\", \"petal_length\", \"petal_width\", \"class\"],\n",
        ")\n",
        "\n",
        "# Pop the record labels into N x 1 Numpy arrays\n",
        "train_labels = np.array(train_df.pop(\"class\"))\n",
        "test_labels = np.array(test_df.pop(\"class\"))\n",
        "\n",
        "# Save the remaining features as Numpy arrays\n",
        "train_np = np.array(train_df)\n",
        "test_np = np.array(test_df)"
      ]
    },
    {
      "cell_type": "markdown",
      "metadata": {
        "id": "QXeebafREjIV"
      },
      "source": [
        "## Training the Network Locally"
      ]
    },
    {
      "cell_type": "markdown",
      "metadata": {
        "id": "oY7WJhfKEjIW"
      },
      "source": [
        "Here, we train the network using the Tensorflow .fit method, just like if we were using our local computers. This should only take a few seconds because the model is so simple."
      ]
    },
    {
      "cell_type": "code",
      "execution_count": null,
      "metadata": {
        "colab": {
          "base_uri": "https://localhost:8080/"
        },
        "id": "FTenOEhLEjIY",
        "outputId": "67d0bad9-9f7c-4875-8692-3b3c339f99ca"
      },
      "outputs": [
        {
          "output_type": "stream",
          "name": "stdout",
          "text": [
            "Epoch 1/50\n",
            "4/4 [==============================] - 2s 114ms/step - loss: 1.1048 - accuracy: 0.3417 - binary_accuracy: 0.3500 - val_loss: 1.0795 - val_accuracy: 0.2667 - val_binary_accuracy: 0.2667\n",
            "Epoch 2/50\n",
            "4/4 [==============================] - 0s 25ms/step - loss: 1.0965 - accuracy: 0.3500 - binary_accuracy: 0.3500 - val_loss: 1.0775 - val_accuracy: 0.2667 - val_binary_accuracy: 0.2667\n"
          ]
        }
      ],
      "source": [
        "EPOCHS = 50\n",
        "BATCH_SIZE = 32\n",
        "\n",
        "EARLY_STOPPING = tf.keras.callbacks.EarlyStopping(\n",
        "    monitor=\"val_loss\", mode=\"auto\", restore_best_weights=True\n",
        ")\n",
        "\n",
        "# Instantiate classifier\n",
        "classifier = iris_mlp(metrics=[\"accuracy\", \"binary_accuracy\"])\n",
        "\n",
        "# Fit classifier\n",
        "history = classifier.fit(\n",
        "    x=train_np,\n",
        "    y=train_labels,\n",
        "    validation_data=(test_np, test_labels),\n",
        "    callbacks=[EARLY_STOPPING],\n",
        "    batch_size=BATCH_SIZE,\n",
        "    epochs=EPOCHS,\n",
        ")"
      ]
    },
    {
      "cell_type": "markdown",
      "metadata": {
        "id": "haAKosOVEjIb"
      },
      "source": [
        "## Set up hosting for the model\n",
        "\n",
        "### Export the model from tensorflow\n",
        "\n",
        "In order to set up hosting, we have to import the model from training to hosting. We will begin by exporting the model from TensorFlow and saving it to our file system. We also need to convert the model into a form that is readable by ``sagemaker.tensorflow.model.TensorFlowModel``. There is a small difference between a SageMaker model and a TensorFlow model. The conversion is easy and fairly trivial. Simply move the tensorflow exported model into a directory ``export\\Servo\\`` and tar the entire directory. SageMaker will recognize this as a loadable TensorFlow model."
      ]
    },
    {
      "cell_type": "code",
      "execution_count": null,
      "metadata": {
        "colab": {
          "base_uri": "https://localhost:8080/"
        },
        "id": "UGqFGc66EjId",
        "outputId": "79a592ae-74d4-4b9e-e32d-78825b4b8d68"
      },
      "outputs": [
        {
          "output_type": "stream",
          "name": "stderr",
          "text": [
            "WARNING:absl:Found untraced functions such as _update_step_xla while saving (showing 1 of 1). These functions will not be directly callable after loading.\n"
          ]
        }
      ],
      "source": [
        "classifier.save(\"export/Servo/1\")\n",
        "with tarfile.open(\"model.tar.gz\", \"w:gz\") as tar:\n",
        "    tar.add(\"export\")"
      ]
    },
    {
      "cell_type": "markdown",
      "metadata": {
        "id": "heoTZ_OREjIg"
      },
      "source": [
        "Open a new sagemaker session and upload the model on to the default S3 bucket. We can use the ``sagemaker.Session.upload_data`` method to do this. We need the location of where we exported the model from TensorFlow and where in our default bucket we want to store the model(``/model``). The default S3 bucket can be found using the ``sagemaker.Session.default_bucket`` method."
      ]
    },
    {
      "cell_type": "markdown",
      "metadata": {
        "id": "22JHNYexEjIh"
      },
      "source": [
        "Here, we upload the model to S3"
      ]
    },
    {
      "cell_type": "code",
      "execution_count": null,
      "metadata": {
        "id": "SjYGNFcDEjIi"
      },
      "outputs": [],
      "source": [
        "s3_response = sm_session.upload_data(\"model.tar.gz\", bucket=bucket_name, key_prefix=\"model\")"
      ]
    },
    {
      "cell_type": "markdown",
      "metadata": {
        "id": "2MO6fdNCEjIj"
      },
      "source": [
        "### Import model into SageMaker"
      ]
    },
    {
      "cell_type": "markdown",
      "metadata": {
        "id": "pjZdn1rOEjIk"
      },
      "source": [
        "Use the ``sagemaker.tensorflow.model.TensorFlowModel`` to import the model into SageMaker that can be deployed. We need the location of the S3 bucket where we have the model and the role for authentication."
      ]
    },
    {
      "cell_type": "code",
      "execution_count": null,
      "metadata": {
        "id": "l0CdPjNGEjIm"
      },
      "outputs": [],
      "source": [
        "sagemaker_model = TensorFlowModel(\n",
        "    model_data=f\"s3://{bucket_name}/model/model.tar.gz\",\n",
        "    role=role,\n",
        "    framework_version=\"2.3\",\n",
        ")"
      ]
    },
    {
      "cell_type": "code",
      "source": [
        "# where is tensorflow stored in sagemaker model?\n",
        "sagemaker_model.model_data"
      ],
      "metadata": {
        "colab": {
          "base_uri": "https://localhost:8080/",
          "height": 35
        },
        "id": "DNZx-PxSFukQ",
        "outputId": "c07ed151-e003-4635-edda-a8f6e84f0241"
      },
      "execution_count": null,
      "outputs": [
        {
          "output_type": "execute_result",
          "data": {
            "text/plain": [
              "'s3://sagemaker-us-east-2-930296898350/model/model.tar.gz'"
            ],
            "application/vnd.google.colaboratory.intrinsic+json": {
              "type": "string"
            }
          },
          "metadata": {},
          "execution_count": 11
        }
      ]
    },
    {
      "cell_type": "code",
      "source": [
        "# Download tar gz file that stores model and unpack it to working directory\n",
        "!aws s3 cp s3://sagemaker-us-east-2-930296898350/model/model.tar.gz .\n",
        "!tar -xvf model.tar.gz"
      ],
      "metadata": {
        "colab": {
          "base_uri": "https://localhost:8080/"
        },
        "id": "-_88naHNF6Ym",
        "outputId": "1d55b34e-cd83-436b-ad2c-bdbbc49cee58"
      },
      "execution_count": null,
      "outputs": [
        {
          "output_type": "stream",
          "name": "stdout",
          "text": [
            "Completed 23.4 KiB/23.4 KiB (121.2 KiB/s) with 1 file(s) remaining\rdownload failed: s3://sagemaker-us-east-2-930296898350/model/model.tar.gz to model/model.tar.gz [Errno 20] Not a directory: '/content/model/model.tar.gz.9ba4dca5'\n",
            "export/\n",
            "export/Servo/\n",
            "export/Servo/1/\n",
            "export/Servo/1/assets/\n",
            "export/Servo/1/fingerprint.pb\n",
            "export/Servo/1/keras_metadata.pb\n",
            "export/Servo/1/saved_model.pb\n",
            "export/Servo/1/variables/\n",
            "export/Servo/1/variables/variables.data-00000-of-00001\n",
            "export/Servo/1/variables/variables.index\n"
          ]
        }
      ]
    },
    {
      "cell_type": "code",
      "source": [
        "#Load and use tensorflow model\n",
        "\n",
        "from tensorflow.keras.models import load_model\n",
        "\n",
        "new_model = load_model('export/Servo/1')\n",
        "\n",
        "# Check its architecture\n",
        "new_model.summary()"
      ],
      "metadata": {
        "colab": {
          "base_uri": "https://localhost:8080/"
        },
        "id": "PW7JUtpOHMra",
        "outputId": "60994f95-1a3e-4fee-c6e6-50c9ad4ff0ce"
      },
      "execution_count": null,
      "outputs": [
        {
          "output_type": "stream",
          "name": "stdout",
          "text": [
            "Model: \"model\"\n",
            "_________________________________________________________________\n",
            " Layer (type)                Output Shape              Param #   \n",
            "=================================================================\n",
            " input (InputLayer)          [(None, 4)]               0         \n",
            "                                                                 \n",
            " dense_layer1 (Dense)        (None, 10)                50        \n",
            "                                                                 \n",
            " dense_layer2 (Dense)        (None, 20)                220       \n",
            "                                                                 \n",
            " dense_layer3 (Dense)        (None, 10)                210       \n",
            "                                                                 \n",
            " dense (Dense)               (None, 3)                 33        \n",
            "                                                                 \n",
            "=================================================================\n",
            "Total params: 513\n",
            "Trainable params: 513\n",
            "Non-trainable params: 0\n",
            "_________________________________________________________________\n"
          ]
        }
      ]
    },
    {
      "cell_type": "markdown",
      "metadata": {
        "id": "_klnDryTEjIy"
      },
      "source": [
        "If you do not want to continue using the endpoint, you can remove it. Remember, open endpoints are charged. If this is a simple test or practice, it is recommended to delete them."
      ]
    }
  ],
  "metadata": {
    "instance_type": "ml.m5.xlarge",
    "kernelspec": {
      "display_name": "conda_tensorflow2_p310",
      "language": "python",
      "name": "conda_tensorflow2_p310"
    },
    "language_info": {
      "codemirror_mode": {
        "name": "ipython",
        "version": 3
      },
      "file_extension": ".py",
      "mimetype": "text/x-python",
      "name": "python",
      "nbconvert_exporter": "python",
      "pygments_lexer": "ipython3",
      "version": "3.10.6"
    },
    "notice": "Copyright 2017 Amazon.com, Inc. or its affiliates. All Rights Reserved.  Licensed under the Apache License, Version 2.0 (the \"License\"). You may not use this file except in compliance with the License. A copy of the License is located at http://aws.amazon.com/apache2.0/ or in the \"license\" file accompanying this file. This file is distributed on an \"AS IS\" BASIS, WITHOUT WARRANTIES OR CONDITIONS OF ANY KIND, either express or implied. See the License for the specific language governing permissions and limitations under the License.",
    "colab": {
      "provenance": []
    }
  },
  "nbformat": 4,
  "nbformat_minor": 0
}