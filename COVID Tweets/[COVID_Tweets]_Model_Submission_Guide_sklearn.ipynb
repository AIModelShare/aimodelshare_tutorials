{
  "nbformat": 4,
  "nbformat_minor": 0,
  "metadata": {
    "colab": {
      "name": "[COVID Tweets] Model Submission Guide - sklearn.ipynb",
      "provenance": [],
      "collapsed_sections": []
    },
    "kernelspec": {
      "name": "python3",
      "display_name": "Python 3"
    },
    "language_info": {
      "name": "python"
    }
  },
  "cells": [
    {
      "cell_type": "markdown",
      "source": [
        "<p align=\"center\"><img width=\"50%\" src=\"https://aimodelsharecontent.s3.amazonaws.com/aimodshare_banner.jpg\" /></p>\n",
        "\n",
        "\n",
        "---"
      ],
      "metadata": {
        "id": "kSl7m59GBwT9"
      }
    },
    {
      "cell_type": "markdown",
      "metadata": {
        "id": "JXxGTgJz152A"
      },
      "source": [
        "## Covid Tweet Misinformation Prediction Competition\n",
        "Let's share our models to a centralized leaderboard, so that we can collaborate and learn from the model experimentation process...\n",
        "\n",
        "**Instructions:**\n",
        "1.   Get data in and set up X_train / X_test / y_train\n",
        "2.   Preprocess data using Sklearn TFIDF Vectorizer/ Write and Save Preprocessor function\n",
        "3. Fit model on preprocessed data and save preprocessor function and model \n",
        "4. Generate predictions from X_test data and submit model to competition\n",
        "5. Repeat submission process to improve place on leaderboard\n",
        "\n"
      ]
    },
    {
      "cell_type": "markdown",
      "metadata": {
        "id": "5gSrVJwp3E9H"
      },
      "source": [
        "## 1. Get data in and set up X_train, X_test, y_train objects"
      ]
    },
    {
      "cell_type": "code",
      "metadata": {
        "id": "PLTIaMB3ChSW"
      },
      "source": [
        "#install aimodelshare library\n",
        "! pip install aimodelshare --upgrade"
      ],
      "execution_count": null,
      "outputs": []
    },
    {
      "cell_type": "code",
      "metadata": {
        "colab": {
          "base_uri": "https://localhost:8080/"
        },
        "id": "d3PiJXBhC5y-",
        "outputId": "353a3776-e839-4122-d1d7-44c5af3d65ed"
      },
      "source": [
        "# Get competition data\n",
        "from aimodelshare import download_data\n",
        "download_data('public.ecr.aws/y2e2a1d6/covid_tweet_competition_data-repository:latest') "
      ],
      "execution_count": 2,
      "outputs": [
        {
          "output_type": "stream",
          "name": "stdout",
          "text": [
            "Downloading [======================================>          ]\n",
            "\n",
            "Data downloaded successfully.\n"
          ]
        }
      ]
    },
    {
      "cell_type": "code",
      "metadata": {
        "colab": {
          "base_uri": "https://localhost:8080/"
        },
        "id": "jT0qFCZFNzHq",
        "outputId": "2a896234-b5d4-4cb8-bcf3-c5bd3a5e7e52"
      },
      "source": [
        "# Set up X_train, X_test, and y_train_labels objects\n",
        "import pandas as pd\n",
        "X_train=pd.read_csv(\"covid_tweet_competition_data/X_train.csv\", squeeze=True)\n",
        "X_test=pd.read_csv(\"covid_tweet_competition_data/X_test.csv\", squeeze=True)\n",
        "\n",
        "y_train_labels=pd.read_csv(\"covid_tweet_competition_data/y_train_labels.csv\", squeeze=True)\n",
        "\n",
        "X_train.head()"
      ],
      "execution_count": 3,
      "outputs": [
        {
          "output_type": "execute_result",
          "data": {
            "text/plain": [
              "0    \"[T]he label of the popular Lysol already show...\n",
              "1    There were more deaths on the roads of France ...\n",
              "2    250 new cases of #COVID19Nigeria; Plateau-69 F...\n",
              "3    @XanderArmstrong Why was chloroquine described...\n",
              "4    Our new Can Compare 'College' tags make it eas...\n",
              "Name: tweet, dtype: object"
            ]
          },
          "metadata": {},
          "execution_count": 3
        }
      ]
    },
    {
      "cell_type": "markdown",
      "metadata": {
        "id": "gEzPoXPj3V7u"
      },
      "source": [
        "##2.   Preprocess data using Sklearn Tfidf Vectorizer / Write and Save Preprocessor function\n"
      ]
    },
    {
      "cell_type": "code",
      "metadata": {
        "id": "A2BQMOPGCqra"
      },
      "source": [
        "# Build a Document-Term Matrix (DTM) out of words in the training set \n",
        "# Remove stop words that occur too frequently to be useful, and \n",
        "# Use Term Frequency - Inverse Document Frequency (TF-IDF) formula to weight by how common words are generally\n",
        "\n",
        "from sklearn.feature_extraction.text import TfidfVectorizer\n",
        "tf_idf_vectorizer = TfidfVectorizer(stop_words='english')\n",
        "tfidf_simple = tf_idf_vectorizer.fit(X_train)"
      ],
      "execution_count": 4,
      "outputs": []
    },
    {
      "cell_type": "code",
      "metadata": {
        "id": "16QV9Y9TC3B3",
        "colab": {
          "base_uri": "https://localhost:8080/"
        },
        "outputId": "d1bce327-db81-4b7f-de5e-806c027a64a2"
      },
      "source": [
        "# Write function to transform data with preprocessor \n",
        "# New samples will be put into a DTM based on vocabularly from training set\n",
        "\n",
        "def preprocessor(data):\n",
        "  from sklearn.feature_extraction.text import TfidfVectorizer\n",
        "  tf1_new = TfidfVectorizer(vocabulary = tfidf_simple.vocabulary_)\n",
        "  new_tfidf_df = tf1_new.fit_transform(data)\n",
        "  new_tfidf_df = new_tfidf_df.todense()\n",
        "  return new_tfidf_df\n",
        "\n",
        "print(preprocessor(X_train).shape)\n",
        "print(preprocessor(X_test).shape)"
      ],
      "execution_count": 5,
      "outputs": [
        {
          "output_type": "stream",
          "name": "stdout",
          "text": [
            "(6505, 18039)\n",
            "(2055, 18039)\n"
          ]
        }
      ]
    },
    {
      "cell_type": "markdown",
      "metadata": {
        "id": "X52kECL43b-O"
      },
      "source": [
        "##3. Fit model on preprocessed data and save preprocessor function and model \n"
      ]
    },
    {
      "cell_type": "code",
      "metadata": {
        "colab": {
          "base_uri": "https://localhost:8080/"
        },
        "id": "NCbBf8j9ClYl",
        "outputId": "63dcab96-0839-4a82-a132-edc5109d5f75"
      },
      "source": [
        "from sklearn.ensemble import RandomForestClassifier\n",
        "\n",
        "model = RandomForestClassifier(n_estimators=100, max_depth=3, random_state=0)\n",
        "model.fit(preprocessor(X_train), y_train_labels) # Fitting to the training set.\n",
        "model.score(preprocessor(X_train), y_train_labels) # Fit score, 0-1 scale."
      ],
      "execution_count": 6,
      "outputs": [
        {
          "output_type": "execute_result",
          "data": {
            "text/plain": [
              "0.7671022290545734"
            ]
          },
          "metadata": {},
          "execution_count": 6
        }
      ]
    },
    {
      "cell_type": "markdown",
      "metadata": {
        "id": "zmJAnmO-5AcU"
      },
      "source": [
        "#### Save preprocessor function to local \"preprocessor.zip\" file"
      ]
    },
    {
      "cell_type": "code",
      "metadata": {
        "colab": {
          "base_uri": "https://localhost:8080/"
        },
        "id": "4VGacc0LDaMA",
        "outputId": "01c83f6a-ada9-4285-9a49-70fe0385d549"
      },
      "source": [
        "import aimodelshare as ai\n",
        "ai.export_preprocessor(preprocessor,\"\") "
      ],
      "execution_count": 7,
      "outputs": [
        {
          "output_type": "stream",
          "name": "stdout",
          "text": [
            "Your preprocessor is now saved to 'preprocessor.zip'\n"
          ]
        }
      ]
    },
    {
      "cell_type": "markdown",
      "metadata": {
        "id": "oOWBa8Cv5LdL"
      },
      "source": [
        "#### Save model to local \".onnx\" file"
      ]
    },
    {
      "cell_type": "code",
      "metadata": {
        "id": "pEhvnRiQDlY5"
      },
      "source": [
        "# Save sklearn model to local ONNX file\n",
        "from aimodelshare.aimsonnx import model_to_onnx\n",
        "\n",
        "# Check how many preprocessed input features are there?\n",
        "from skl2onnx.common.data_types import FloatTensorType\n",
        "\n",
        "feature_count=preprocessor(X_test).shape[1] #Get count of preprocessed features\n",
        "initial_type = [('float_input', FloatTensorType([None, feature_count]))]  # Insert correct number of preprocessed features\n",
        "\n",
        "onnx_model = model_to_onnx(model, framework='sklearn',\n",
        "                          initial_types=initial_type,\n",
        "                          transfer_learning=False,\n",
        "                          deep_learning=False)\n",
        "\n",
        "with open(\"model.onnx\", \"wb\") as f:\n",
        "    f.write(onnx_model.SerializeToString())"
      ],
      "execution_count": 8,
      "outputs": []
    },
    {
      "cell_type": "markdown",
      "metadata": {
        "id": "gHWkAzvX3m8O"
      },
      "source": [
        "## 4. Generate predictions from X_test data and submit model to competition\n"
      ]
    },
    {
      "cell_type": "code",
      "metadata": {
        "colab": {
          "base_uri": "https://localhost:8080/"
        },
        "id": "RtgkM02MDpkO",
        "outputId": "3fed7b00-4c62-40b9-97a0-8e2264ec8b88"
      },
      "source": [
        "#Set credentials using modelshare.org username/password\n",
        "\n",
        "from aimodelshare.aws import set_credentials\n",
        "    \n",
        "apiurl=\"https://rymuwmy3zf.execute-api.us-east-1.amazonaws.com/prod/m\" #This is the unique rest api that powers this Covid Tweet Playground\n",
        "\n",
        "set_credentials(apiurl=apiurl)"
      ],
      "execution_count": 9,
      "outputs": [
        {
          "output_type": "stream",
          "name": "stdout",
          "text": [
            "AI Modelshare Username:··········\n",
            "AI Modelshare Password:··········\n",
            "AI Model Share login credentials set successfully.\n"
          ]
        }
      ]
    },
    {
      "cell_type": "code",
      "metadata": {
        "id": "fKNGSww8EGgi"
      },
      "source": [
        "#Instantiate Competition\n",
        "import aimodelshare as ai\n",
        "mycompetition= ai.Competition(apiurl)"
      ],
      "execution_count": 10,
      "outputs": []
    },
    {
      "cell_type": "code",
      "metadata": {
        "id": "_Ql4wksyEUnP",
        "colab": {
          "base_uri": "https://localhost:8080/"
        },
        "outputId": "02a67289-6d1b-4338-a7c9-8ddf046d8368"
      },
      "source": [
        "#Submit Model 1: \n",
        "\n",
        "#-- Generate predicted values (a list of predicted labels \"real\" or \"fake\") (Model 1)\n",
        "prediction_labels = model.predict(preprocessor(X_test))\n",
        "\n",
        "# Submit Model 1 to Competition Leaderboard\n",
        "mycompetition.submit_model(model_filepath = \"model.onnx\",\n",
        "                                 preprocessor_filepath=\"preprocessor.zip\",\n",
        "                                 prediction_submission=prediction_labels)"
      ],
      "execution_count": 11,
      "outputs": [
        {
          "output_type": "stream",
          "name": "stdout",
          "text": [
            "Insert search tags to help users find your model (optional): \n",
            "Provide any useful notes about your model (optional): \n",
            "\n",
            "Your model has been submitted as model version 3\n",
            "\n",
            "To submit code used to create this model or to view current leaderboard navigate to Model Playground: \n",
            "\n",
            " https://www.modelshare.org/detail/model:1666\n"
          ]
        }
      ]
    },
    {
      "cell_type": "code",
      "metadata": {
        "colab": {
          "base_uri": "https://localhost:8080/",
          "height": 118
        },
        "id": "GN1zvAmNEq17",
        "outputId": "c7f17e80-7e38-4878-e577-ddf4bc9612fa"
      },
      "source": [
        "# Get leaderboard to explore current best model architectures\n",
        "\n",
        "# Get raw data in pandas data frame\n",
        "data = mycompetition.get_leaderboard()\n",
        "\n",
        "# Stylize leaderboard data\n",
        "mycompetition.stylize_leaderboard(data)"
      ],
      "execution_count": 12,
      "outputs": [
        {
          "output_type": "execute_result",
          "data": {
            "text/plain": [
              "<pandas.io.formats.style.Styler at 0x7f86311133d0>"
            ],
            "text/html": [
              "<style type=\"text/css\">\n",
              "#T_6fd52_row0_col0 {\n",
              "  text-align: center;\n",
              "  width: 10em;\n",
              "  height: 80%;\n",
              "  background: linear-gradient(90deg,#f5f8d6 86.0%, transparent 86.0%);\n",
              "  color: #251e1b;\n",
              "  font-size: 12px;\n",
              "}\n",
              "#T_6fd52_row0_col1 {\n",
              "  text-align: center;\n",
              "  width: 10em;\n",
              "  height: 80%;\n",
              "  background: linear-gradient(90deg,#c778c8 85.9%, transparent 85.9%);\n",
              "  color: #251e1b;\n",
              "  font-size: 12px;\n",
              "}\n",
              "#T_6fd52_row0_col2 {\n",
              "  text-align: center;\n",
              "  width: 10em;\n",
              "  height: 80%;\n",
              "  background: linear-gradient(90deg,#ff4971 86.5%, transparent 86.5%);\n",
              "  color: #251e1b;\n",
              "  font-size: 12px;\n",
              "}\n",
              "#T_6fd52_row0_col3 {\n",
              "  text-align: center;\n",
              "  width: 10em;\n",
              "  height: 80%;\n",
              "  background: linear-gradient(90deg,#aadbaa 85.8%, transparent 85.8%);\n",
              "  color: #251e1b;\n",
              "  font-size: 12px;\n",
              "}\n",
              "#T_6fd52_row0_col4, #T_6fd52_row0_col5, #T_6fd52_row0_col6, #T_6fd52_row0_col7, #T_6fd52_row0_col8, #T_6fd52_row0_col9, #T_6fd52_row1_col4, #T_6fd52_row1_col5, #T_6fd52_row1_col6, #T_6fd52_row1_col7, #T_6fd52_row1_col8, #T_6fd52_row1_col9, #T_6fd52_row2_col4, #T_6fd52_row2_col5, #T_6fd52_row2_col6, #T_6fd52_row2_col7, #T_6fd52_row2_col8, #T_6fd52_row2_col9 {\n",
              "  text-align: center;\n",
              "}\n",
              "#T_6fd52_row1_col0 {\n",
              "  text-align: center;\n",
              "  width: 10em;\n",
              "  height: 80%;\n",
              "  background: linear-gradient(90deg,#f5f8d6 76.7%, transparent 76.7%);\n",
              "  color: #251e1b;\n",
              "  font-size: 12px;\n",
              "}\n",
              "#T_6fd52_row1_col1 {\n",
              "  text-align: center;\n",
              "  width: 10em;\n",
              "  height: 80%;\n",
              "  background: linear-gradient(90deg,#c778c8 75.0%, transparent 75.0%);\n",
              "  color: #251e1b;\n",
              "  font-size: 12px;\n",
              "}\n",
              "#T_6fd52_row1_col2, #T_6fd52_row2_col2 {\n",
              "  text-align: center;\n",
              "  width: 10em;\n",
              "  height: 80%;\n",
              "  background: linear-gradient(90deg,#ff4971 83.5%, transparent 83.5%);\n",
              "  color: #251e1b;\n",
              "  font-size: 12px;\n",
              "}\n",
              "#T_6fd52_row1_col3 {\n",
              "  text-align: center;\n",
              "  width: 10em;\n",
              "  height: 80%;\n",
              "  background: linear-gradient(90deg,#aadbaa 75.8%, transparent 75.8%);\n",
              "  color: #251e1b;\n",
              "  font-size: 12px;\n",
              "}\n",
              "#T_6fd52_row2_col0 {\n",
              "  text-align: center;\n",
              "  width: 10em;\n",
              "  height: 80%;\n",
              "  background: linear-gradient(90deg,#f5f8d6 76.5%, transparent 76.5%);\n",
              "  color: #251e1b;\n",
              "  font-size: 12px;\n",
              "}\n",
              "#T_6fd52_row2_col1 {\n",
              "  text-align: center;\n",
              "  width: 10em;\n",
              "  height: 80%;\n",
              "  background: linear-gradient(90deg,#c778c8 74.7%, transparent 74.7%);\n",
              "  color: #251e1b;\n",
              "  font-size: 12px;\n",
              "}\n",
              "#T_6fd52_row2_col3 {\n",
              "  text-align: center;\n",
              "  width: 10em;\n",
              "  height: 80%;\n",
              "  background: linear-gradient(90deg,#aadbaa 75.6%, transparent 75.6%);\n",
              "  color: #251e1b;\n",
              "  font-size: 12px;\n",
              "}\n",
              "</style>\n",
              "<table id=\"T_6fd52_\" class=\"dataframe\">\n",
              "  <thead>\n",
              "    <tr>\n",
              "      <th class=\"blank level0\" >&nbsp;</th>\n",
              "      <th class=\"col_heading level0 col0\" >accuracy</th>\n",
              "      <th class=\"col_heading level0 col1\" >f1_score</th>\n",
              "      <th class=\"col_heading level0 col2\" >precision</th>\n",
              "      <th class=\"col_heading level0 col3\" >recall</th>\n",
              "      <th class=\"col_heading level0 col4\" >ml_framework</th>\n",
              "      <th class=\"col_heading level0 col5\" >transfer_learning</th>\n",
              "      <th class=\"col_heading level0 col6\" >deep_learning</th>\n",
              "      <th class=\"col_heading level0 col7\" >model_type</th>\n",
              "      <th class=\"col_heading level0 col8\" >username</th>\n",
              "      <th class=\"col_heading level0 col9\" >version</th>\n",
              "    </tr>\n",
              "  </thead>\n",
              "  <tbody>\n",
              "    <tr>\n",
              "      <th id=\"T_6fd52_level0_row0\" class=\"row_heading level0 row0\" >0</th>\n",
              "      <td id=\"T_6fd52_row0_col0\" class=\"data row0 col0\" >85.99%</td>\n",
              "      <td id=\"T_6fd52_row0_col1\" class=\"data row0 col1\" >85.87%</td>\n",
              "      <td id=\"T_6fd52_row0_col2\" class=\"data row0 col2\" >86.53%</td>\n",
              "      <td id=\"T_6fd52_row0_col3\" class=\"data row0 col3\" >85.78%</td>\n",
              "      <td id=\"T_6fd52_row0_col4\" class=\"data row0 col4\" >sklearn</td>\n",
              "      <td id=\"T_6fd52_row0_col5\" class=\"data row0 col5\" >False</td>\n",
              "      <td id=\"T_6fd52_row0_col6\" class=\"data row0 col6\" >False</td>\n",
              "      <td id=\"T_6fd52_row0_col7\" class=\"data row0 col7\" >RandomForestClassifier</td>\n",
              "      <td id=\"T_6fd52_row0_col8\" class=\"data row0 col8\" >AIModelShare</td>\n",
              "      <td id=\"T_6fd52_row0_col9\" class=\"data row0 col9\" >2</td>\n",
              "    </tr>\n",
              "    <tr>\n",
              "      <th id=\"T_6fd52_level0_row1\" class=\"row_heading level0 row1\" >1</th>\n",
              "      <td id=\"T_6fd52_row1_col0\" class=\"data row1 col0\" >76.65%</td>\n",
              "      <td id=\"T_6fd52_row1_col1\" class=\"data row1 col1\" >75.01%</td>\n",
              "      <td id=\"T_6fd52_row1_col2\" class=\"data row1 col2\" >83.49%</td>\n",
              "      <td id=\"T_6fd52_row1_col3\" class=\"data row1 col3\" >75.85%</td>\n",
              "      <td id=\"T_6fd52_row1_col4\" class=\"data row1 col4\" >sklearn</td>\n",
              "      <td id=\"T_6fd52_row1_col5\" class=\"data row1 col5\" >False</td>\n",
              "      <td id=\"T_6fd52_row1_col6\" class=\"data row1 col6\" >False</td>\n",
              "      <td id=\"T_6fd52_row1_col7\" class=\"data row1 col7\" >RandomForestClassifier</td>\n",
              "      <td id=\"T_6fd52_row1_col8\" class=\"data row1 col8\" >AIModelShare</td>\n",
              "      <td id=\"T_6fd52_row1_col9\" class=\"data row1 col9\" >3</td>\n",
              "    </tr>\n",
              "    <tr>\n",
              "      <th id=\"T_6fd52_level0_row2\" class=\"row_heading level0 row2\" >2</th>\n",
              "      <td id=\"T_6fd52_row2_col0\" class=\"data row2 col0\" >76.46%</td>\n",
              "      <td id=\"T_6fd52_row2_col1\" class=\"data row2 col1\" >74.74%</td>\n",
              "      <td id=\"T_6fd52_row2_col2\" class=\"data row2 col2\" >83.54%</td>\n",
              "      <td id=\"T_6fd52_row2_col3\" class=\"data row2 col3\" >75.64%</td>\n",
              "      <td id=\"T_6fd52_row2_col4\" class=\"data row2 col4\" >sklearn</td>\n",
              "      <td id=\"T_6fd52_row2_col5\" class=\"data row2 col5\" >False</td>\n",
              "      <td id=\"T_6fd52_row2_col6\" class=\"data row2 col6\" >False</td>\n",
              "      <td id=\"T_6fd52_row2_col7\" class=\"data row2 col7\" >RandomForestClassifier</td>\n",
              "      <td id=\"T_6fd52_row2_col8\" class=\"data row2 col8\" >AIModelShare</td>\n",
              "      <td id=\"T_6fd52_row2_col9\" class=\"data row2 col9\" >1</td>\n",
              "    </tr>\n",
              "  </tbody>\n",
              "</table>\n"
            ]
          },
          "metadata": {},
          "execution_count": 12
        }
      ]
    },
    {
      "cell_type": "markdown",
      "metadata": {
        "id": "bwNKs0wP4r5s"
      },
      "source": [
        "## 5. Repeat submission process to improve place on leaderboard\n"
      ]
    },
    {
      "cell_type": "code",
      "metadata": {
        "colab": {
          "base_uri": "https://localhost:8080/"
        },
        "id": "FgSs5PAtPCZH",
        "outputId": "ba74d733-b59d-4aef-f3ef-c7b11a3e06e4"
      },
      "source": [
        "# Train and submit model 2 using same preprocessor (note that you could save a new preprocessor, but we will use the same one for this example).\n",
        "from sklearn.ensemble import RandomForestClassifier\n",
        "\n",
        "model = RandomForestClassifier(n_estimators=500, max_depth=5, random_state=0)\n",
        "model.fit(preprocessor(X_train), y_train_labels) # Fitting to the training set.\n",
        "model.score(preprocessor(X_train), y_train_labels) # Fit score, 0-1 scale."
      ],
      "execution_count": 13,
      "outputs": [
        {
          "output_type": "execute_result",
          "data": {
            "text/plain": [
              "0.8813220599538816"
            ]
          },
          "metadata": {},
          "execution_count": 13
        }
      ]
    },
    {
      "cell_type": "code",
      "metadata": {
        "id": "aIdmSpYVPYAw"
      },
      "source": [
        "# Save sklearn model to local ONNX file\n",
        "from aimodelshare.aimsonnx import model_to_onnx\n",
        "\n",
        "feature_count=preprocessor(X_test).shape[1] #Get count of preprocessed features\n",
        "initial_type = [('float_input', FloatTensorType([None, feature_count]))]  # Insert correct number of preprocessed features\n",
        "\n",
        "onnx_model = model_to_onnx(model, framework='sklearn',\n",
        "                          initial_types=initial_type,\n",
        "                          transfer_learning=False,\n",
        "                          deep_learning=False)\n",
        "\n",
        "with open(\"model2.onnx\", \"wb\") as f:\n",
        "    f.write(onnx_model.SerializeToString())"
      ],
      "execution_count": 14,
      "outputs": []
    },
    {
      "cell_type": "code",
      "metadata": {
        "colab": {
          "base_uri": "https://localhost:8080/"
        },
        "id": "nszPPrfwPlUk",
        "outputId": "f645e8f1-2f44-45c3-833c-bc8a2db7fdfb"
      },
      "source": [
        "#Submit Model 2: \n",
        "\n",
        "#-- Generate predicted values (a list of predicted labels \"real\" or \"fake\") (Model 2)\n",
        "prediction_labels = model.predict(preprocessor(X_test))\n",
        "\n",
        "# Submit Model 2 to Competition Leaderboard\n",
        "mycompetition.submit_model(model_filepath = \"model2.onnx\",\n",
        "                                 preprocessor_filepath=\"preprocessor.zip\",\n",
        "                                 prediction_submission=prediction_labels)"
      ],
      "execution_count": 15,
      "outputs": [
        {
          "output_type": "stream",
          "name": "stdout",
          "text": [
            "Insert search tags to help users find your model (optional): \n",
            "Provide any useful notes about your model (optional): \n",
            "\n",
            "Your model has been submitted as model version 4\n",
            "\n",
            "To submit code used to create this model or to view current leaderboard navigate to Model Playground: \n",
            "\n",
            " https://www.modelshare.org/detail/model:1666\n"
          ]
        }
      ]
    },
    {
      "cell_type": "code",
      "metadata": {
        "colab": {
          "base_uri": "https://localhost:8080/",
          "height": 439
        },
        "id": "qLl7yLpVEx26",
        "outputId": "2091469a-65ff-43d6-aa9b-3256088f012e"
      },
      "source": [
        "# Compare two or more models\n",
        "data=mycompetition.compare_models([1,2], verbose=1)\n",
        "mycompetition.stylize_compare(data)"
      ],
      "execution_count": 16,
      "outputs": [
        {
          "output_type": "display_data",
          "data": {
            "text/plain": [
              "<IPython.core.display.HTML object>"
            ],
            "text/html": [
              "<style type=\"text/css\">\n",
              "#T_e3674_ caption {\n",
              "  color: black;\n",
              "  font-size: 18px;\n",
              "}\n",
              "#T_e3674_row4_col2, #T_e3674_row4_col3, #T_e3674_row13_col3, #T_e3674_row16_col2, #T_e3674_row16_col3 {\n",
              "  background: tomato;\n",
              "}\n",
              "</style>\n",
              "<table id=\"T_e3674_\">\n",
              "  <caption>Model type: RandomForestClassifier</caption>\n",
              "  <thead>\n",
              "    <tr>\n",
              "      <th class=\"blank level0\" >&nbsp;</th>\n",
              "      <th class=\"col_heading level0 col0\" >param_name</th>\n",
              "      <th class=\"col_heading level0 col1\" >default_value</th>\n",
              "      <th class=\"col_heading level0 col2\" >model_version_1</th>\n",
              "      <th class=\"col_heading level0 col3\" >model_version_2</th>\n",
              "    </tr>\n",
              "  </thead>\n",
              "  <tbody>\n",
              "    <tr>\n",
              "      <th id=\"T_e3674_level0_row0\" class=\"row_heading level0 row0\" >0</th>\n",
              "      <td id=\"T_e3674_row0_col0\" class=\"data row0 col0\" >bootstrap</td>\n",
              "      <td id=\"T_e3674_row0_col1\" class=\"data row0 col1\" >True</td>\n",
              "      <td id=\"T_e3674_row0_col2\" class=\"data row0 col2\" >True</td>\n",
              "      <td id=\"T_e3674_row0_col3\" class=\"data row0 col3\" >True</td>\n",
              "    </tr>\n",
              "    <tr>\n",
              "      <th id=\"T_e3674_level0_row1\" class=\"row_heading level0 row1\" >1</th>\n",
              "      <td id=\"T_e3674_row1_col0\" class=\"data row1 col0\" >ccp_alpha</td>\n",
              "      <td id=\"T_e3674_row1_col1\" class=\"data row1 col1\" >0.000000</td>\n",
              "      <td id=\"T_e3674_row1_col2\" class=\"data row1 col2\" >0.000000</td>\n",
              "      <td id=\"T_e3674_row1_col3\" class=\"data row1 col3\" >0.000000</td>\n",
              "    </tr>\n",
              "    <tr>\n",
              "      <th id=\"T_e3674_level0_row2\" class=\"row_heading level0 row2\" >2</th>\n",
              "      <td id=\"T_e3674_row2_col0\" class=\"data row2 col0\" >class_weight</td>\n",
              "      <td id=\"T_e3674_row2_col1\" class=\"data row2 col1\" >None</td>\n",
              "      <td id=\"T_e3674_row2_col2\" class=\"data row2 col2\" >None</td>\n",
              "      <td id=\"T_e3674_row2_col3\" class=\"data row2 col3\" >None</td>\n",
              "    </tr>\n",
              "    <tr>\n",
              "      <th id=\"T_e3674_level0_row3\" class=\"row_heading level0 row3\" >3</th>\n",
              "      <td id=\"T_e3674_row3_col0\" class=\"data row3 col0\" >criterion</td>\n",
              "      <td id=\"T_e3674_row3_col1\" class=\"data row3 col1\" >gini</td>\n",
              "      <td id=\"T_e3674_row3_col2\" class=\"data row3 col2\" >gini</td>\n",
              "      <td id=\"T_e3674_row3_col3\" class=\"data row3 col3\" >gini</td>\n",
              "    </tr>\n",
              "    <tr>\n",
              "      <th id=\"T_e3674_level0_row4\" class=\"row_heading level0 row4\" >4</th>\n",
              "      <td id=\"T_e3674_row4_col0\" class=\"data row4 col0\" >max_depth</td>\n",
              "      <td id=\"T_e3674_row4_col1\" class=\"data row4 col1\" >None</td>\n",
              "      <td id=\"T_e3674_row4_col2\" class=\"data row4 col2\" >3</td>\n",
              "      <td id=\"T_e3674_row4_col3\" class=\"data row4 col3\" >5</td>\n",
              "    </tr>\n",
              "    <tr>\n",
              "      <th id=\"T_e3674_level0_row5\" class=\"row_heading level0 row5\" >5</th>\n",
              "      <td id=\"T_e3674_row5_col0\" class=\"data row5 col0\" >max_features</td>\n",
              "      <td id=\"T_e3674_row5_col1\" class=\"data row5 col1\" >auto</td>\n",
              "      <td id=\"T_e3674_row5_col2\" class=\"data row5 col2\" >auto</td>\n",
              "      <td id=\"T_e3674_row5_col3\" class=\"data row5 col3\" >auto</td>\n",
              "    </tr>\n",
              "    <tr>\n",
              "      <th id=\"T_e3674_level0_row6\" class=\"row_heading level0 row6\" >6</th>\n",
              "      <td id=\"T_e3674_row6_col0\" class=\"data row6 col0\" >max_leaf_nodes</td>\n",
              "      <td id=\"T_e3674_row6_col1\" class=\"data row6 col1\" >None</td>\n",
              "      <td id=\"T_e3674_row6_col2\" class=\"data row6 col2\" >None</td>\n",
              "      <td id=\"T_e3674_row6_col3\" class=\"data row6 col3\" >None</td>\n",
              "    </tr>\n",
              "    <tr>\n",
              "      <th id=\"T_e3674_level0_row7\" class=\"row_heading level0 row7\" >7</th>\n",
              "      <td id=\"T_e3674_row7_col0\" class=\"data row7 col0\" >max_samples</td>\n",
              "      <td id=\"T_e3674_row7_col1\" class=\"data row7 col1\" >None</td>\n",
              "      <td id=\"T_e3674_row7_col2\" class=\"data row7 col2\" >None</td>\n",
              "      <td id=\"T_e3674_row7_col3\" class=\"data row7 col3\" >None</td>\n",
              "    </tr>\n",
              "    <tr>\n",
              "      <th id=\"T_e3674_level0_row8\" class=\"row_heading level0 row8\" >8</th>\n",
              "      <td id=\"T_e3674_row8_col0\" class=\"data row8 col0\" >min_impurity_decrease</td>\n",
              "      <td id=\"T_e3674_row8_col1\" class=\"data row8 col1\" >0.000000</td>\n",
              "      <td id=\"T_e3674_row8_col2\" class=\"data row8 col2\" >0.000000</td>\n",
              "      <td id=\"T_e3674_row8_col3\" class=\"data row8 col3\" >0.000000</td>\n",
              "    </tr>\n",
              "    <tr>\n",
              "      <th id=\"T_e3674_level0_row9\" class=\"row_heading level0 row9\" >9</th>\n",
              "      <td id=\"T_e3674_row9_col0\" class=\"data row9 col0\" >min_impurity_split</td>\n",
              "      <td id=\"T_e3674_row9_col1\" class=\"data row9 col1\" >None</td>\n",
              "      <td id=\"T_e3674_row9_col2\" class=\"data row9 col2\" >None</td>\n",
              "      <td id=\"T_e3674_row9_col3\" class=\"data row9 col3\" >None</td>\n",
              "    </tr>\n",
              "    <tr>\n",
              "      <th id=\"T_e3674_level0_row10\" class=\"row_heading level0 row10\" >10</th>\n",
              "      <td id=\"T_e3674_row10_col0\" class=\"data row10 col0\" >min_samples_leaf</td>\n",
              "      <td id=\"T_e3674_row10_col1\" class=\"data row10 col1\" >1</td>\n",
              "      <td id=\"T_e3674_row10_col2\" class=\"data row10 col2\" >1</td>\n",
              "      <td id=\"T_e3674_row10_col3\" class=\"data row10 col3\" >1</td>\n",
              "    </tr>\n",
              "    <tr>\n",
              "      <th id=\"T_e3674_level0_row11\" class=\"row_heading level0 row11\" >11</th>\n",
              "      <td id=\"T_e3674_row11_col0\" class=\"data row11 col0\" >min_samples_split</td>\n",
              "      <td id=\"T_e3674_row11_col1\" class=\"data row11 col1\" >2</td>\n",
              "      <td id=\"T_e3674_row11_col2\" class=\"data row11 col2\" >2</td>\n",
              "      <td id=\"T_e3674_row11_col3\" class=\"data row11 col3\" >2</td>\n",
              "    </tr>\n",
              "    <tr>\n",
              "      <th id=\"T_e3674_level0_row12\" class=\"row_heading level0 row12\" >12</th>\n",
              "      <td id=\"T_e3674_row12_col0\" class=\"data row12 col0\" >min_weight_fraction_leaf</td>\n",
              "      <td id=\"T_e3674_row12_col1\" class=\"data row12 col1\" >0.000000</td>\n",
              "      <td id=\"T_e3674_row12_col2\" class=\"data row12 col2\" >0.000000</td>\n",
              "      <td id=\"T_e3674_row12_col3\" class=\"data row12 col3\" >0.000000</td>\n",
              "    </tr>\n",
              "    <tr>\n",
              "      <th id=\"T_e3674_level0_row13\" class=\"row_heading level0 row13\" >13</th>\n",
              "      <td id=\"T_e3674_row13_col0\" class=\"data row13 col0\" >n_estimators</td>\n",
              "      <td id=\"T_e3674_row13_col1\" class=\"data row13 col1\" >100</td>\n",
              "      <td id=\"T_e3674_row13_col2\" class=\"data row13 col2\" >100</td>\n",
              "      <td id=\"T_e3674_row13_col3\" class=\"data row13 col3\" >300</td>\n",
              "    </tr>\n",
              "    <tr>\n",
              "      <th id=\"T_e3674_level0_row14\" class=\"row_heading level0 row14\" >14</th>\n",
              "      <td id=\"T_e3674_row14_col0\" class=\"data row14 col0\" >n_jobs</td>\n",
              "      <td id=\"T_e3674_row14_col1\" class=\"data row14 col1\" >None</td>\n",
              "      <td id=\"T_e3674_row14_col2\" class=\"data row14 col2\" >None</td>\n",
              "      <td id=\"T_e3674_row14_col3\" class=\"data row14 col3\" >None</td>\n",
              "    </tr>\n",
              "    <tr>\n",
              "      <th id=\"T_e3674_level0_row15\" class=\"row_heading level0 row15\" >15</th>\n",
              "      <td id=\"T_e3674_row15_col0\" class=\"data row15 col0\" >oob_score</td>\n",
              "      <td id=\"T_e3674_row15_col1\" class=\"data row15 col1\" >False</td>\n",
              "      <td id=\"T_e3674_row15_col2\" class=\"data row15 col2\" >False</td>\n",
              "      <td id=\"T_e3674_row15_col3\" class=\"data row15 col3\" >False</td>\n",
              "    </tr>\n",
              "    <tr>\n",
              "      <th id=\"T_e3674_level0_row16\" class=\"row_heading level0 row16\" >16</th>\n",
              "      <td id=\"T_e3674_row16_col0\" class=\"data row16 col0\" >random_state</td>\n",
              "      <td id=\"T_e3674_row16_col1\" class=\"data row16 col1\" >None</td>\n",
              "      <td id=\"T_e3674_row16_col2\" class=\"data row16 col2\" >0</td>\n",
              "      <td id=\"T_e3674_row16_col3\" class=\"data row16 col3\" >0</td>\n",
              "    </tr>\n",
              "    <tr>\n",
              "      <th id=\"T_e3674_level0_row17\" class=\"row_heading level0 row17\" >17</th>\n",
              "      <td id=\"T_e3674_row17_col0\" class=\"data row17 col0\" >verbose</td>\n",
              "      <td id=\"T_e3674_row17_col1\" class=\"data row17 col1\" >0</td>\n",
              "      <td id=\"T_e3674_row17_col2\" class=\"data row17 col2\" >0</td>\n",
              "      <td id=\"T_e3674_row17_col3\" class=\"data row17 col3\" >0</td>\n",
              "    </tr>\n",
              "    <tr>\n",
              "      <th id=\"T_e3674_level0_row18\" class=\"row_heading level0 row18\" >18</th>\n",
              "      <td id=\"T_e3674_row18_col0\" class=\"data row18 col0\" >warm_start</td>\n",
              "      <td id=\"T_e3674_row18_col1\" class=\"data row18 col1\" >False</td>\n",
              "      <td id=\"T_e3674_row18_col2\" class=\"data row18 col2\" >False</td>\n",
              "      <td id=\"T_e3674_row18_col3\" class=\"data row18 col3\" >False</td>\n",
              "    </tr>\n",
              "  </tbody>\n",
              "</table>\n"
            ]
          },
          "metadata": {}
        },
        {
          "output_type": "stream",
          "name": "stdout",
          "text": [
            "\n",
            "\n",
            "\n"
          ]
        }
      ]
    },
    {
      "cell_type": "code",
      "metadata": {
        "colab": {
          "base_uri": "https://localhost:8080/"
        },
        "id": "6Go4SF37Ex_Z",
        "outputId": "88321b1a-7a14-4c11-cba0-b4b15d06fa26"
      },
      "source": [
        "# Submit a third model using GridSearchCV\n",
        "\n",
        "from sklearn.model_selection import GridSearchCV\n",
        "import numpy as np\n",
        "\n",
        "param_grid = {'n_estimators': np.arange(100, 300, 500),'max_depth':[1, 3, 5]} #np.arange creates sequence of numbers for each k value\n",
        "\n",
        "gridmodel = GridSearchCV(RandomForestClassifier(), param_grid=param_grid, cv=10)\n",
        "\n",
        "#use meta model methods to fit score and predict model:\n",
        "gridmodel.fit(preprocessor(X_train), y_train_labels)\n",
        "\n",
        "#extract best score and parameter by calling objects \"best_score_\" and \"best_params_\"\n",
        "print(\"best mean cross-validation score: {:.3f}\".format(gridmodel.best_score_))\n",
        "print(\"best parameters: {}\".format(gridmodel.best_params_))\n"
      ],
      "execution_count": 17,
      "outputs": [
        {
          "output_type": "stream",
          "name": "stdout",
          "text": [
            "best mean cross-validation score: 0.863\n",
            "best parameters: {'max_depth': 5, 'n_estimators': 100}\n"
          ]
        }
      ]
    },
    {
      "cell_type": "code",
      "metadata": {
        "id": "HvLuIvOjHLH2"
      },
      "source": [
        "# Save sklearn model to local ONNX file\n",
        "from aimodelshare.aimsonnx import model_to_onnx\n",
        "\n",
        "\n",
        "feature_count=preprocessor(X_test).shape[1] #Get count of preprocessed features\n",
        "initial_type = [('float_input', FloatTensorType([None, feature_count]))]  # Insert correct number of preprocessed features\n",
        "\n",
        "onnx_model = model_to_onnx(gridmodel, framework='sklearn',\n",
        "                          initial_types=initial_type,\n",
        "                          transfer_learning=False,\n",
        "                          deep_learning=False)\n",
        "\n",
        "with open(\"gridmodel.onnx\", \"wb\") as f:\n",
        "    f.write(onnx_model.SerializeToString())"
      ],
      "execution_count": 18,
      "outputs": []
    },
    {
      "cell_type": "code",
      "metadata": {
        "colab": {
          "base_uri": "https://localhost:8080/"
        },
        "id": "sMidHABfHVN7",
        "outputId": "3d5234a4-c1ac-454a-d559-43817b68367e"
      },
      "source": [
        "#Submit Model 3: \n",
        "\n",
        "#-- Generate predicted values (a list of predicted labels \"real\" or \"fake\")\n",
        "prediction_labels = gridmodel.predict(preprocessor(X_test))\n",
        "\n",
        "# Submit Model 1 to Competition Leaderboard\n",
        "mycompetition.submit_model(model_filepath = \"gridmodel.onnx\",\n",
        "                                 preprocessor_filepath=\"preprocessor.zip\",\n",
        "                                 prediction_submission=prediction_labels)"
      ],
      "execution_count": 19,
      "outputs": [
        {
          "output_type": "stream",
          "name": "stdout",
          "text": [
            "Insert search tags to help users find your model (optional): \n",
            "Provide any useful notes about your model (optional): \n",
            "\n",
            "Your model has been submitted as model version 5\n",
            "\n",
            "To submit code used to create this model or to view current leaderboard navigate to Model Playground: \n",
            "\n",
            " https://www.modelshare.org/detail/model:1666\n"
          ]
        }
      ]
    },
    {
      "cell_type": "code",
      "metadata": {
        "colab": {
          "base_uri": "https://localhost:8080/",
          "height": 169
        },
        "id": "hn-Tp-zpJVGT",
        "outputId": "76387c02-3ccc-4aae-cd0e-6878123b764a"
      },
      "source": [
        "# Get leaderboard\n",
        "\n",
        "data = mycompetition.get_leaderboard()\n",
        "mycompetition.stylize_leaderboard(data)"
      ],
      "execution_count": 20,
      "outputs": [
        {
          "output_type": "execute_result",
          "data": {
            "text/plain": [
              "<pandas.io.formats.style.Styler at 0x7f86307ede50>"
            ],
            "text/html": [
              "<style type=\"text/css\">\n",
              "#T_4b826_row0_col0 {\n",
              "  text-align: center;\n",
              "  width: 10em;\n",
              "  height: 80%;\n",
              "  background: linear-gradient(90deg,#f5f8d6 86.7%, transparent 86.7%);\n",
              "  color: #251e1b;\n",
              "  font-size: 12px;\n",
              "}\n",
              "#T_4b826_row0_col1 {\n",
              "  text-align: center;\n",
              "  width: 10em;\n",
              "  height: 80%;\n",
              "  background: linear-gradient(90deg,#c778c8 86.5%, transparent 86.5%);\n",
              "  color: #251e1b;\n",
              "  font-size: 12px;\n",
              "}\n",
              "#T_4b826_row0_col2 {\n",
              "  text-align: center;\n",
              "  width: 10em;\n",
              "  height: 80%;\n",
              "  background: linear-gradient(90deg,#ff4971 87.3%, transparent 87.3%);\n",
              "  color: #251e1b;\n",
              "  font-size: 12px;\n",
              "}\n",
              "#T_4b826_row0_col3 {\n",
              "  text-align: center;\n",
              "  width: 10em;\n",
              "  height: 80%;\n",
              "  background: linear-gradient(90deg,#aadbaa 86.4%, transparent 86.4%);\n",
              "  color: #251e1b;\n",
              "  font-size: 12px;\n",
              "}\n",
              "#T_4b826_row0_col4, #T_4b826_row0_col5, #T_4b826_row0_col6, #T_4b826_row0_col7, #T_4b826_row0_col8, #T_4b826_row0_col9, #T_4b826_row1_col4, #T_4b826_row1_col5, #T_4b826_row1_col6, #T_4b826_row1_col7, #T_4b826_row1_col8, #T_4b826_row1_col9, #T_4b826_row2_col4, #T_4b826_row2_col5, #T_4b826_row2_col6, #T_4b826_row2_col7, #T_4b826_row2_col8, #T_4b826_row2_col9, #T_4b826_row3_col4, #T_4b826_row3_col5, #T_4b826_row3_col6, #T_4b826_row3_col7, #T_4b826_row3_col8, #T_4b826_row3_col9, #T_4b826_row4_col4, #T_4b826_row4_col5, #T_4b826_row4_col6, #T_4b826_row4_col7, #T_4b826_row4_col8, #T_4b826_row4_col9 {\n",
              "  text-align: center;\n",
              "}\n",
              "#T_4b826_row1_col0 {\n",
              "  text-align: center;\n",
              "  width: 10em;\n",
              "  height: 80%;\n",
              "  background: linear-gradient(90deg,#f5f8d6 86.0%, transparent 86.0%);\n",
              "  color: #251e1b;\n",
              "  font-size: 12px;\n",
              "}\n",
              "#T_4b826_row1_col1 {\n",
              "  text-align: center;\n",
              "  width: 10em;\n",
              "  height: 80%;\n",
              "  background: linear-gradient(90deg,#c778c8 85.9%, transparent 85.9%);\n",
              "  color: #251e1b;\n",
              "  font-size: 12px;\n",
              "}\n",
              "#T_4b826_row1_col2, #T_4b826_row2_col2 {\n",
              "  text-align: center;\n",
              "  width: 10em;\n",
              "  height: 80%;\n",
              "  background: linear-gradient(90deg,#ff4971 86.5%, transparent 86.5%);\n",
              "  color: #251e1b;\n",
              "  font-size: 12px;\n",
              "}\n",
              "#T_4b826_row1_col3 {\n",
              "  text-align: center;\n",
              "  width: 10em;\n",
              "  height: 80%;\n",
              "  background: linear-gradient(90deg,#aadbaa 85.8%, transparent 85.8%);\n",
              "  color: #251e1b;\n",
              "  font-size: 12px;\n",
              "}\n",
              "#T_4b826_row2_col0 {\n",
              "  text-align: center;\n",
              "  width: 10em;\n",
              "  height: 80%;\n",
              "  background: linear-gradient(90deg,#f5f8d6 85.8%, transparent 85.8%);\n",
              "  color: #251e1b;\n",
              "  font-size: 12px;\n",
              "}\n",
              "#T_4b826_row2_col1 {\n",
              "  text-align: center;\n",
              "  width: 10em;\n",
              "  height: 80%;\n",
              "  background: linear-gradient(90deg,#c778c8 85.7%, transparent 85.7%);\n",
              "  color: #251e1b;\n",
              "  font-size: 12px;\n",
              "}\n",
              "#T_4b826_row2_col3 {\n",
              "  text-align: center;\n",
              "  width: 10em;\n",
              "  height: 80%;\n",
              "  background: linear-gradient(90deg,#aadbaa 85.6%, transparent 85.6%);\n",
              "  color: #251e1b;\n",
              "  font-size: 12px;\n",
              "}\n",
              "#T_4b826_row3_col0 {\n",
              "  text-align: center;\n",
              "  width: 10em;\n",
              "  height: 80%;\n",
              "  background: linear-gradient(90deg,#f5f8d6 76.7%, transparent 76.7%);\n",
              "  color: #251e1b;\n",
              "  font-size: 12px;\n",
              "}\n",
              "#T_4b826_row3_col1 {\n",
              "  text-align: center;\n",
              "  width: 10em;\n",
              "  height: 80%;\n",
              "  background: linear-gradient(90deg,#c778c8 75.0%, transparent 75.0%);\n",
              "  color: #251e1b;\n",
              "  font-size: 12px;\n",
              "}\n",
              "#T_4b826_row3_col2, #T_4b826_row4_col2 {\n",
              "  text-align: center;\n",
              "  width: 10em;\n",
              "  height: 80%;\n",
              "  background: linear-gradient(90deg,#ff4971 83.5%, transparent 83.5%);\n",
              "  color: #251e1b;\n",
              "  font-size: 12px;\n",
              "}\n",
              "#T_4b826_row3_col3 {\n",
              "  text-align: center;\n",
              "  width: 10em;\n",
              "  height: 80%;\n",
              "  background: linear-gradient(90deg,#aadbaa 75.8%, transparent 75.8%);\n",
              "  color: #251e1b;\n",
              "  font-size: 12px;\n",
              "}\n",
              "#T_4b826_row4_col0 {\n",
              "  text-align: center;\n",
              "  width: 10em;\n",
              "  height: 80%;\n",
              "  background: linear-gradient(90deg,#f5f8d6 76.5%, transparent 76.5%);\n",
              "  color: #251e1b;\n",
              "  font-size: 12px;\n",
              "}\n",
              "#T_4b826_row4_col1 {\n",
              "  text-align: center;\n",
              "  width: 10em;\n",
              "  height: 80%;\n",
              "  background: linear-gradient(90deg,#c778c8 74.7%, transparent 74.7%);\n",
              "  color: #251e1b;\n",
              "  font-size: 12px;\n",
              "}\n",
              "#T_4b826_row4_col3 {\n",
              "  text-align: center;\n",
              "  width: 10em;\n",
              "  height: 80%;\n",
              "  background: linear-gradient(90deg,#aadbaa 75.6%, transparent 75.6%);\n",
              "  color: #251e1b;\n",
              "  font-size: 12px;\n",
              "}\n",
              "</style>\n",
              "<table id=\"T_4b826_\" class=\"dataframe\">\n",
              "  <thead>\n",
              "    <tr>\n",
              "      <th class=\"blank level0\" >&nbsp;</th>\n",
              "      <th class=\"col_heading level0 col0\" >accuracy</th>\n",
              "      <th class=\"col_heading level0 col1\" >f1_score</th>\n",
              "      <th class=\"col_heading level0 col2\" >precision</th>\n",
              "      <th class=\"col_heading level0 col3\" >recall</th>\n",
              "      <th class=\"col_heading level0 col4\" >ml_framework</th>\n",
              "      <th class=\"col_heading level0 col5\" >transfer_learning</th>\n",
              "      <th class=\"col_heading level0 col6\" >deep_learning</th>\n",
              "      <th class=\"col_heading level0 col7\" >model_type</th>\n",
              "      <th class=\"col_heading level0 col8\" >username</th>\n",
              "      <th class=\"col_heading level0 col9\" >version</th>\n",
              "    </tr>\n",
              "  </thead>\n",
              "  <tbody>\n",
              "    <tr>\n",
              "      <th id=\"T_4b826_level0_row0\" class=\"row_heading level0 row0\" >0</th>\n",
              "      <td id=\"T_4b826_row0_col0\" class=\"data row0 col0\" >86.67%</td>\n",
              "      <td id=\"T_4b826_row0_col1\" class=\"data row0 col1\" >86.55%</td>\n",
              "      <td id=\"T_4b826_row0_col2\" class=\"data row0 col2\" >87.32%</td>\n",
              "      <td id=\"T_4b826_row0_col3\" class=\"data row0 col3\" >86.44%</td>\n",
              "      <td id=\"T_4b826_row0_col4\" class=\"data row0 col4\" >sklearn</td>\n",
              "      <td id=\"T_4b826_row0_col5\" class=\"data row0 col5\" >False</td>\n",
              "      <td id=\"T_4b826_row0_col6\" class=\"data row0 col6\" >False</td>\n",
              "      <td id=\"T_4b826_row0_col7\" class=\"data row0 col7\" >RandomForestClassifier</td>\n",
              "      <td id=\"T_4b826_row0_col8\" class=\"data row0 col8\" >AIModelShare</td>\n",
              "      <td id=\"T_4b826_row0_col9\" class=\"data row0 col9\" >4</td>\n",
              "    </tr>\n",
              "    <tr>\n",
              "      <th id=\"T_4b826_level0_row1\" class=\"row_heading level0 row1\" >1</th>\n",
              "      <td id=\"T_4b826_row1_col0\" class=\"data row1 col0\" >85.99%</td>\n",
              "      <td id=\"T_4b826_row1_col1\" class=\"data row1 col1\" >85.87%</td>\n",
              "      <td id=\"T_4b826_row1_col2\" class=\"data row1 col2\" >86.53%</td>\n",
              "      <td id=\"T_4b826_row1_col3\" class=\"data row1 col3\" >85.78%</td>\n",
              "      <td id=\"T_4b826_row1_col4\" class=\"data row1 col4\" >sklearn</td>\n",
              "      <td id=\"T_4b826_row1_col5\" class=\"data row1 col5\" >False</td>\n",
              "      <td id=\"T_4b826_row1_col6\" class=\"data row1 col6\" >False</td>\n",
              "      <td id=\"T_4b826_row1_col7\" class=\"data row1 col7\" >RandomForestClassifier</td>\n",
              "      <td id=\"T_4b826_row1_col8\" class=\"data row1 col8\" >AIModelShare</td>\n",
              "      <td id=\"T_4b826_row1_col9\" class=\"data row1 col9\" >2</td>\n",
              "    </tr>\n",
              "    <tr>\n",
              "      <th id=\"T_4b826_level0_row2\" class=\"row_heading level0 row2\" >2</th>\n",
              "      <td id=\"T_4b826_row2_col0\" class=\"data row2 col0\" >85.80%</td>\n",
              "      <td id=\"T_4b826_row2_col1\" class=\"data row2 col1\" >85.66%</td>\n",
              "      <td id=\"T_4b826_row2_col2\" class=\"data row2 col2\" >86.49%</td>\n",
              "      <td id=\"T_4b826_row2_col3\" class=\"data row2 col3\" >85.56%</td>\n",
              "      <td id=\"T_4b826_row2_col4\" class=\"data row2 col4\" >sklearn</td>\n",
              "      <td id=\"T_4b826_row2_col5\" class=\"data row2 col5\" >False</td>\n",
              "      <td id=\"T_4b826_row2_col6\" class=\"data row2 col6\" >False</td>\n",
              "      <td id=\"T_4b826_row2_col7\" class=\"data row2 col7\" >RandomForestClassifier</td>\n",
              "      <td id=\"T_4b826_row2_col8\" class=\"data row2 col8\" >AIModelShare</td>\n",
              "      <td id=\"T_4b826_row2_col9\" class=\"data row2 col9\" >5</td>\n",
              "    </tr>\n",
              "    <tr>\n",
              "      <th id=\"T_4b826_level0_row3\" class=\"row_heading level0 row3\" >3</th>\n",
              "      <td id=\"T_4b826_row3_col0\" class=\"data row3 col0\" >76.65%</td>\n",
              "      <td id=\"T_4b826_row3_col1\" class=\"data row3 col1\" >75.01%</td>\n",
              "      <td id=\"T_4b826_row3_col2\" class=\"data row3 col2\" >83.49%</td>\n",
              "      <td id=\"T_4b826_row3_col3\" class=\"data row3 col3\" >75.85%</td>\n",
              "      <td id=\"T_4b826_row3_col4\" class=\"data row3 col4\" >sklearn</td>\n",
              "      <td id=\"T_4b826_row3_col5\" class=\"data row3 col5\" >False</td>\n",
              "      <td id=\"T_4b826_row3_col6\" class=\"data row3 col6\" >False</td>\n",
              "      <td id=\"T_4b826_row3_col7\" class=\"data row3 col7\" >RandomForestClassifier</td>\n",
              "      <td id=\"T_4b826_row3_col8\" class=\"data row3 col8\" >AIModelShare</td>\n",
              "      <td id=\"T_4b826_row3_col9\" class=\"data row3 col9\" >3</td>\n",
              "    </tr>\n",
              "    <tr>\n",
              "      <th id=\"T_4b826_level0_row4\" class=\"row_heading level0 row4\" >4</th>\n",
              "      <td id=\"T_4b826_row4_col0\" class=\"data row4 col0\" >76.46%</td>\n",
              "      <td id=\"T_4b826_row4_col1\" class=\"data row4 col1\" >74.74%</td>\n",
              "      <td id=\"T_4b826_row4_col2\" class=\"data row4 col2\" >83.54%</td>\n",
              "      <td id=\"T_4b826_row4_col3\" class=\"data row4 col3\" >75.64%</td>\n",
              "      <td id=\"T_4b826_row4_col4\" class=\"data row4 col4\" >sklearn</td>\n",
              "      <td id=\"T_4b826_row4_col5\" class=\"data row4 col5\" >False</td>\n",
              "      <td id=\"T_4b826_row4_col6\" class=\"data row4 col6\" >False</td>\n",
              "      <td id=\"T_4b826_row4_col7\" class=\"data row4 col7\" >RandomForestClassifier</td>\n",
              "      <td id=\"T_4b826_row4_col8\" class=\"data row4 col8\" >AIModelShare</td>\n",
              "      <td id=\"T_4b826_row4_col9\" class=\"data row4 col9\" >1</td>\n",
              "    </tr>\n",
              "  </tbody>\n",
              "</table>\n"
            ]
          },
          "metadata": {},
          "execution_count": 20
        }
      ]
    },
    {
      "cell_type": "code",
      "metadata": {
        "id": "MKvPKyb7hT0h",
        "colab": {
          "base_uri": "https://localhost:8080/",
          "height": 439
        },
        "outputId": "fe0ff113-2af1-480a-9823-9f30db25bbd2"
      },
      "source": [
        "# Compare two or more models\n",
        "data=mycompetition.compare_models([4,5], verbose=1)\n",
        "mycompetition.stylize_compare(data)"
      ],
      "execution_count": 21,
      "outputs": [
        {
          "output_type": "display_data",
          "data": {
            "text/plain": [
              "<IPython.core.display.HTML object>"
            ],
            "text/html": [
              "<style type=\"text/css\">\n",
              "#T_b6163_ caption {\n",
              "  color: black;\n",
              "  font-size: 18px;\n",
              "}\n",
              "#T_b6163_row4_col2, #T_b6163_row4_col3, #T_b6163_row13_col2, #T_b6163_row16_col2 {\n",
              "  background: tomato;\n",
              "}\n",
              "</style>\n",
              "<table id=\"T_b6163_\">\n",
              "  <caption>Model type: RandomForestClassifier</caption>\n",
              "  <thead>\n",
              "    <tr>\n",
              "      <th class=\"blank level0\" >&nbsp;</th>\n",
              "      <th class=\"col_heading level0 col0\" >param_name</th>\n",
              "      <th class=\"col_heading level0 col1\" >default_value</th>\n",
              "      <th class=\"col_heading level0 col2\" >model_version_4</th>\n",
              "      <th class=\"col_heading level0 col3\" >model_version_5</th>\n",
              "    </tr>\n",
              "  </thead>\n",
              "  <tbody>\n",
              "    <tr>\n",
              "      <th id=\"T_b6163_level0_row0\" class=\"row_heading level0 row0\" >0</th>\n",
              "      <td id=\"T_b6163_row0_col0\" class=\"data row0 col0\" >bootstrap</td>\n",
              "      <td id=\"T_b6163_row0_col1\" class=\"data row0 col1\" >True</td>\n",
              "      <td id=\"T_b6163_row0_col2\" class=\"data row0 col2\" >True</td>\n",
              "      <td id=\"T_b6163_row0_col3\" class=\"data row0 col3\" >True</td>\n",
              "    </tr>\n",
              "    <tr>\n",
              "      <th id=\"T_b6163_level0_row1\" class=\"row_heading level0 row1\" >1</th>\n",
              "      <td id=\"T_b6163_row1_col0\" class=\"data row1 col0\" >ccp_alpha</td>\n",
              "      <td id=\"T_b6163_row1_col1\" class=\"data row1 col1\" >0.000000</td>\n",
              "      <td id=\"T_b6163_row1_col2\" class=\"data row1 col2\" >0.000000</td>\n",
              "      <td id=\"T_b6163_row1_col3\" class=\"data row1 col3\" >0.000000</td>\n",
              "    </tr>\n",
              "    <tr>\n",
              "      <th id=\"T_b6163_level0_row2\" class=\"row_heading level0 row2\" >2</th>\n",
              "      <td id=\"T_b6163_row2_col0\" class=\"data row2 col0\" >class_weight</td>\n",
              "      <td id=\"T_b6163_row2_col1\" class=\"data row2 col1\" >None</td>\n",
              "      <td id=\"T_b6163_row2_col2\" class=\"data row2 col2\" >None</td>\n",
              "      <td id=\"T_b6163_row2_col3\" class=\"data row2 col3\" >None</td>\n",
              "    </tr>\n",
              "    <tr>\n",
              "      <th id=\"T_b6163_level0_row3\" class=\"row_heading level0 row3\" >3</th>\n",
              "      <td id=\"T_b6163_row3_col0\" class=\"data row3 col0\" >criterion</td>\n",
              "      <td id=\"T_b6163_row3_col1\" class=\"data row3 col1\" >gini</td>\n",
              "      <td id=\"T_b6163_row3_col2\" class=\"data row3 col2\" >gini</td>\n",
              "      <td id=\"T_b6163_row3_col3\" class=\"data row3 col3\" >gini</td>\n",
              "    </tr>\n",
              "    <tr>\n",
              "      <th id=\"T_b6163_level0_row4\" class=\"row_heading level0 row4\" >4</th>\n",
              "      <td id=\"T_b6163_row4_col0\" class=\"data row4 col0\" >max_depth</td>\n",
              "      <td id=\"T_b6163_row4_col1\" class=\"data row4 col1\" >None</td>\n",
              "      <td id=\"T_b6163_row4_col2\" class=\"data row4 col2\" >5</td>\n",
              "      <td id=\"T_b6163_row4_col3\" class=\"data row4 col3\" >5</td>\n",
              "    </tr>\n",
              "    <tr>\n",
              "      <th id=\"T_b6163_level0_row5\" class=\"row_heading level0 row5\" >5</th>\n",
              "      <td id=\"T_b6163_row5_col0\" class=\"data row5 col0\" >max_features</td>\n",
              "      <td id=\"T_b6163_row5_col1\" class=\"data row5 col1\" >auto</td>\n",
              "      <td id=\"T_b6163_row5_col2\" class=\"data row5 col2\" >auto</td>\n",
              "      <td id=\"T_b6163_row5_col3\" class=\"data row5 col3\" >auto</td>\n",
              "    </tr>\n",
              "    <tr>\n",
              "      <th id=\"T_b6163_level0_row6\" class=\"row_heading level0 row6\" >6</th>\n",
              "      <td id=\"T_b6163_row6_col0\" class=\"data row6 col0\" >max_leaf_nodes</td>\n",
              "      <td id=\"T_b6163_row6_col1\" class=\"data row6 col1\" >None</td>\n",
              "      <td id=\"T_b6163_row6_col2\" class=\"data row6 col2\" >None</td>\n",
              "      <td id=\"T_b6163_row6_col3\" class=\"data row6 col3\" >None</td>\n",
              "    </tr>\n",
              "    <tr>\n",
              "      <th id=\"T_b6163_level0_row7\" class=\"row_heading level0 row7\" >7</th>\n",
              "      <td id=\"T_b6163_row7_col0\" class=\"data row7 col0\" >max_samples</td>\n",
              "      <td id=\"T_b6163_row7_col1\" class=\"data row7 col1\" >None</td>\n",
              "      <td id=\"T_b6163_row7_col2\" class=\"data row7 col2\" >None</td>\n",
              "      <td id=\"T_b6163_row7_col3\" class=\"data row7 col3\" >None</td>\n",
              "    </tr>\n",
              "    <tr>\n",
              "      <th id=\"T_b6163_level0_row8\" class=\"row_heading level0 row8\" >8</th>\n",
              "      <td id=\"T_b6163_row8_col0\" class=\"data row8 col0\" >min_impurity_decrease</td>\n",
              "      <td id=\"T_b6163_row8_col1\" class=\"data row8 col1\" >0.000000</td>\n",
              "      <td id=\"T_b6163_row8_col2\" class=\"data row8 col2\" >0.000000</td>\n",
              "      <td id=\"T_b6163_row8_col3\" class=\"data row8 col3\" >0.000000</td>\n",
              "    </tr>\n",
              "    <tr>\n",
              "      <th id=\"T_b6163_level0_row9\" class=\"row_heading level0 row9\" >9</th>\n",
              "      <td id=\"T_b6163_row9_col0\" class=\"data row9 col0\" >min_impurity_split</td>\n",
              "      <td id=\"T_b6163_row9_col1\" class=\"data row9 col1\" >None</td>\n",
              "      <td id=\"T_b6163_row9_col2\" class=\"data row9 col2\" >None</td>\n",
              "      <td id=\"T_b6163_row9_col3\" class=\"data row9 col3\" >None</td>\n",
              "    </tr>\n",
              "    <tr>\n",
              "      <th id=\"T_b6163_level0_row10\" class=\"row_heading level0 row10\" >10</th>\n",
              "      <td id=\"T_b6163_row10_col0\" class=\"data row10 col0\" >min_samples_leaf</td>\n",
              "      <td id=\"T_b6163_row10_col1\" class=\"data row10 col1\" >1</td>\n",
              "      <td id=\"T_b6163_row10_col2\" class=\"data row10 col2\" >1</td>\n",
              "      <td id=\"T_b6163_row10_col3\" class=\"data row10 col3\" >1</td>\n",
              "    </tr>\n",
              "    <tr>\n",
              "      <th id=\"T_b6163_level0_row11\" class=\"row_heading level0 row11\" >11</th>\n",
              "      <td id=\"T_b6163_row11_col0\" class=\"data row11 col0\" >min_samples_split</td>\n",
              "      <td id=\"T_b6163_row11_col1\" class=\"data row11 col1\" >2</td>\n",
              "      <td id=\"T_b6163_row11_col2\" class=\"data row11 col2\" >2</td>\n",
              "      <td id=\"T_b6163_row11_col3\" class=\"data row11 col3\" >2</td>\n",
              "    </tr>\n",
              "    <tr>\n",
              "      <th id=\"T_b6163_level0_row12\" class=\"row_heading level0 row12\" >12</th>\n",
              "      <td id=\"T_b6163_row12_col0\" class=\"data row12 col0\" >min_weight_fraction_leaf</td>\n",
              "      <td id=\"T_b6163_row12_col1\" class=\"data row12 col1\" >0.000000</td>\n",
              "      <td id=\"T_b6163_row12_col2\" class=\"data row12 col2\" >0.000000</td>\n",
              "      <td id=\"T_b6163_row12_col3\" class=\"data row12 col3\" >0.000000</td>\n",
              "    </tr>\n",
              "    <tr>\n",
              "      <th id=\"T_b6163_level0_row13\" class=\"row_heading level0 row13\" >13</th>\n",
              "      <td id=\"T_b6163_row13_col0\" class=\"data row13 col0\" >n_estimators</td>\n",
              "      <td id=\"T_b6163_row13_col1\" class=\"data row13 col1\" >100</td>\n",
              "      <td id=\"T_b6163_row13_col2\" class=\"data row13 col2\" >500</td>\n",
              "      <td id=\"T_b6163_row13_col3\" class=\"data row13 col3\" >100</td>\n",
              "    </tr>\n",
              "    <tr>\n",
              "      <th id=\"T_b6163_level0_row14\" class=\"row_heading level0 row14\" >14</th>\n",
              "      <td id=\"T_b6163_row14_col0\" class=\"data row14 col0\" >n_jobs</td>\n",
              "      <td id=\"T_b6163_row14_col1\" class=\"data row14 col1\" >None</td>\n",
              "      <td id=\"T_b6163_row14_col2\" class=\"data row14 col2\" >None</td>\n",
              "      <td id=\"T_b6163_row14_col3\" class=\"data row14 col3\" >None</td>\n",
              "    </tr>\n",
              "    <tr>\n",
              "      <th id=\"T_b6163_level0_row15\" class=\"row_heading level0 row15\" >15</th>\n",
              "      <td id=\"T_b6163_row15_col0\" class=\"data row15 col0\" >oob_score</td>\n",
              "      <td id=\"T_b6163_row15_col1\" class=\"data row15 col1\" >False</td>\n",
              "      <td id=\"T_b6163_row15_col2\" class=\"data row15 col2\" >False</td>\n",
              "      <td id=\"T_b6163_row15_col3\" class=\"data row15 col3\" >False</td>\n",
              "    </tr>\n",
              "    <tr>\n",
              "      <th id=\"T_b6163_level0_row16\" class=\"row_heading level0 row16\" >16</th>\n",
              "      <td id=\"T_b6163_row16_col0\" class=\"data row16 col0\" >random_state</td>\n",
              "      <td id=\"T_b6163_row16_col1\" class=\"data row16 col1\" >None</td>\n",
              "      <td id=\"T_b6163_row16_col2\" class=\"data row16 col2\" >0</td>\n",
              "      <td id=\"T_b6163_row16_col3\" class=\"data row16 col3\" >None</td>\n",
              "    </tr>\n",
              "    <tr>\n",
              "      <th id=\"T_b6163_level0_row17\" class=\"row_heading level0 row17\" >17</th>\n",
              "      <td id=\"T_b6163_row17_col0\" class=\"data row17 col0\" >verbose</td>\n",
              "      <td id=\"T_b6163_row17_col1\" class=\"data row17 col1\" >0</td>\n",
              "      <td id=\"T_b6163_row17_col2\" class=\"data row17 col2\" >0</td>\n",
              "      <td id=\"T_b6163_row17_col3\" class=\"data row17 col3\" >0</td>\n",
              "    </tr>\n",
              "    <tr>\n",
              "      <th id=\"T_b6163_level0_row18\" class=\"row_heading level0 row18\" >18</th>\n",
              "      <td id=\"T_b6163_row18_col0\" class=\"data row18 col0\" >warm_start</td>\n",
              "      <td id=\"T_b6163_row18_col1\" class=\"data row18 col1\" >False</td>\n",
              "      <td id=\"T_b6163_row18_col2\" class=\"data row18 col2\" >False</td>\n",
              "      <td id=\"T_b6163_row18_col3\" class=\"data row18 col3\" >False</td>\n",
              "    </tr>\n",
              "  </tbody>\n",
              "</table>\n"
            ]
          },
          "metadata": {}
        },
        {
          "output_type": "stream",
          "name": "stdout",
          "text": [
            "\n",
            "\n",
            "\n"
          ]
        }
      ]
    },
    {
      "cell_type": "code",
      "metadata": {
        "id": "tukB40NshcaB",
        "colab": {
          "base_uri": "https://localhost:8080/"
        },
        "outputId": "a18ad750-a351-48e1-dabf-60176e64b7b8"
      },
      "source": [
        "# Here are several classic ML architectures you can choose from to experiment with next:\n",
        "from sklearn.neighbors import KNeighborsClassifier\n",
        "from sklearn.svm import SVC\n",
        "from sklearn.ensemble import RandomForestClassifier\n",
        "from sklearn.tree import DecisionTreeRegressor\n",
        "from sklearn.ensemble import BaggingClassifier\n",
        "from sklearn.ensemble import GradientBoostingClassifier\n",
        "\n",
        "\n",
        "#Example code to fit model:\n",
        "model = GradientBoostingClassifier(n_estimators=50, learning_rate=1.0,\n",
        "    max_depth=1, random_state=0).fit(preprocessor(X_train), y_train_labels)\n",
        "model.score(preprocessor(X_train), y_train_labels)\n",
        "\n",
        "# Save sklearn model to local ONNX file\n",
        "from aimodelshare.aimsonnx import model_to_onnx\n",
        "\n",
        "\n",
        "feature_count=preprocessor(X_test).shape[1] #Get count of preprocessed features\n",
        "initial_type = [('float_input', FloatTensorType([None, feature_count]))]  # Insert correct number of preprocessed features\n",
        "\n",
        "onnx_model = model_to_onnx(model, framework='sklearn',\n",
        "                          initial_types=initial_type,\n",
        "                          transfer_learning=False,\n",
        "                          deep_learning=False)\n",
        "\n",
        "with open(\"model.onnx\", \"wb\") as f:\n",
        "    f.write(onnx_model.SerializeToString())\n",
        "\n",
        "#-- Generate predicted values (a list of predicted labels \"real\" or \"fake\")\n",
        "prediction_labels = model.predict(preprocessor(X_test))\n",
        "\n",
        "# Submit model to Competition Leaderboard\n",
        "mycompetition.submit_model(model_filepath = \"model.onnx\",\n",
        "                                 preprocessor_filepath=\"preprocessor.zip\",\n",
        "                                 prediction_submission=prediction_labels)\n"
      ],
      "execution_count": 22,
      "outputs": [
        {
          "output_type": "stream",
          "name": "stdout",
          "text": [
            "Insert search tags to help users find your model (optional): \n",
            "Provide any useful notes about your model (optional): \n",
            "\n",
            "Your model has been submitted as model version 6\n",
            "\n",
            "To submit code used to create this model or to view current leaderboard navigate to Model Playground: \n",
            "\n",
            " https://www.modelshare.org/detail/model:1666\n"
          ]
        }
      ]
    }
  ]
}