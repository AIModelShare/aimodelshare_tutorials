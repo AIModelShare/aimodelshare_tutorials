{
  "nbformat": 4,
  "nbformat_minor": 0,
  "metadata": {
    "colab": {
      "name": "[CARS] Quick Start: Tabular Regression Model Playground Deployment and Competition Creation.ipynb",
      "provenance": [],
      "collapsed_sections": []
    },
    "kernelspec": {
      "display_name": "Python 3",
      "language": "python",
      "name": "python3"
    },
    "language_info": {
      "codemirror_mode": {
        "name": "ipython",
        "version": 3
      },
      "file_extension": ".py",
      "mimetype": "text/x-python",
      "name": "python",
      "nbconvert_exporter": "python",
      "pygments_lexer": "ipython3",
      "version": "3.7.5"
    }
  },
  "cells": [
    {
      "cell_type": "markdown",
      "metadata": {
        "id": "0BviI4QIdWiq"
      },
      "source": [
        "<p align=\"center\"><img width=\"50%\" src=\"https://aimodelsharecontent.s3.amazonaws.com/aimodshare_banner.jpg\" /></p>\n",
        "\n",
        "\n",
        "---\n",
        "\n",
        "\n"
      ]
    },
    {
      "cell_type": "markdown",
      "metadata": {
        "id": "gYNp684Tk3tb"
      },
      "source": [
        "<p align=\"center\"><h1 align=\"center\">Quick Start: Used Car Sale Price Tabular Regression Tutorial</h1> \n",
        "\n",
        "##### <p align=\"center\">*Note: Dataset adapted from N. Birla's public dataset ['Vehicle Dataset'](https://www.kaggle.com/nehalbirla/vehicle-dataset-from-cardekho)* \n",
        "---\n",
        "\n",
        "<h3 align=\"center\">(Deploy model to an AI Model Share Model Playground REST API<br> and Web Dashboard in five easy steps...)</h3></p>\n",
        "<p align=\"center\"><img width=\"100%\" src=\"https://aimodelsharecontent.s3.amazonaws.com/aimstutorialsteps.gif\" /></p>\n",
        "\n",
        "\n",
        "---\n",
        "\n"
      ]
    },
    {
      "cell_type": "markdown",
      "metadata": {
        "id": "0PhJ-XlGazpD"
      },
      "source": [
        "## **Credential Configuration**\n",
        "\n",
        "In order to deploy an AI Model Share Model Playground, you will need a credentials text file. \n",
        "\n",
        "Generating your credentials file requires two sets of information: \n",
        "1. Your AI Model Share username and password (create them [HERE](https://www.modelshare.org/login)). \n",
        "2. Your AWS (Amazon Web Services) access keys (follow the tutorial [HERE](https://docs.aws.amazon.com/general/latest/gr/aws-sec-cred-types.html)). \n",
        "\n",
        "You only need to generate your credentials file once. After running the configure function below, save the outputted file for all your future Model Playground deployments and competition submissions. \n",
        "\n",
        "*Note: Handle your credentials file with the same level of security you handle your passwords. Do not share your file with anyone, send via email, or upload to Github.*\n"
      ]
    },
    {
      "cell_type": "code",
      "metadata": {
        "id": "puVzQBHyhS2Z"
      },
      "source": [
        "#install aimodelshare library\n",
        "! pip install aimodelshare --upgrade"
      ],
      "execution_count": null,
      "outputs": []
    },
    {
      "cell_type": "code",
      "metadata": {
        "id": "4Q7MCqBLcS20"
      },
      "source": [
        "# Generate credentials file\n",
        "import aimodelshare as ai \n",
        "from aimodelshare.aws import configure_credentials \n",
        "\n",
        "configure_credentials()"
      ],
      "execution_count": null,
      "outputs": []
    },
    {
      "cell_type": "markdown",
      "metadata": {
        "id": "VliTV_HH-uz4"
      },
      "source": [
        "## **Set up Environment**\n",
        "\n",
        "Use your credentials file to set your credentials for all aimodelshare functions. "
      ]
    },
    {
      "cell_type": "code",
      "metadata": {
        "colab": {
          "base_uri": "https://localhost:8080/"
        },
        "id": "2u1QKNfEyN9A",
        "outputId": "fcccaf40-8307-4dc2-e609-5b4060de7628"
      },
      "source": [
        "# Set credentials \n",
        "import aimodelshare as ai\n",
        "from aimodelshare.aws import set_credentials\n",
        "\n",
        "set_credentials(credential_file=\"credentials.txt\", type=\"deploy_model\")"
      ],
      "execution_count": 3,
      "outputs": [
        {
          "output_type": "stream",
          "name": "stdout",
          "text": [
            "AI Model Share login credentials set successfully.\n",
            "AWS credentials set successfully.\n"
          ]
        }
      ]
    },
    {
      "cell_type": "code",
      "metadata": {
        "colab": {
          "base_uri": "https://localhost:8080/"
        },
        "id": "PwQcTsyyURIk",
        "outputId": "506a84e4-8ddb-4c6e-ce80-f2237fc718d4"
      },
      "source": [
        "# Get materials for tutorial: predicting sale prices of used cars (in USD)\n",
        "import aimodelshare as ai\n",
        "X_train, X_test, y_train, y_test, example_data = ai.import_quickstart_data(\"cars\")"
      ],
      "execution_count": 4,
      "outputs": [
        {
          "output_type": "stream",
          "name": "stdout",
          "text": [
            "Downloading [===================>                             ]\n",
            "\n",
            "Data downloaded successfully.\n",
            "\n",
            "Preparing downloaded files for use...\n",
            "\n",
            "Success! Your Quick Start materials have been downloaded. \n",
            "You are now ready to run the tutorial.\n"
          ]
        }
      ]
    },
    {
      "cell_type": "markdown",
      "metadata": {
        "id": "bIleM1F6nWSF"
      },
      "source": [
        "## **(1) Preprocessor Function & Setup**"
      ]
    },
    {
      "cell_type": "markdown",
      "metadata": {
        "id": "WrEgo5zRxbed"
      },
      "source": [
        "### **Write a Preprocessor Function**\n",
        "\n",
        "\n",
        "> ###   Preprocessor functions are used to preprocess data into the precise data your model requires to generate predictions.  \n",
        "\n",
        "*  *Preprocessor functions should always be named \"preprocessor\".*\n",
        "*  *You can use any Python library in a preprocessor function, but all libraries should be imported inside your preprocessor function.*  \n",
        "*  *For tabular prediction models users should minimally include function inputs for an unpreprocessed pandas dataframe.*  \n",
        "*  *Any categorical features should be preprocessed to one hot encoded numeric values.* \n"
      ]
    },
    {
      "cell_type": "code",
      "metadata": {
        "id": "B5Jz-1cmYN5Z"
      },
      "source": [
        "# In this case we use Sklearn's Column transformer in our preprocessor function\n",
        "\n",
        "from sklearn.compose import ColumnTransformer\n",
        "from sklearn.pipeline import Pipeline\n",
        "from sklearn.impute import SimpleImputer\n",
        "from sklearn.preprocessing import StandardScaler, OneHotEncoder\n",
        "\n",
        "#Preprocess data using sklearn's Column Transformer approach\n",
        "\n",
        "# We create the preprocessing pipelines for both numeric and categorical data.\n",
        "numeric_features = ['km_driven', 'mileage', 'engine', 'max_power', 'year']\n",
        "numeric_transformer = Pipeline(steps=[\n",
        "    ('imputer', SimpleImputer(strategy='median')), #'imputer' names the step\n",
        "    ('scaler', StandardScaler())])\n",
        "\n",
        "categorical_features = ['fuel', 'seller_type', 'transmission', 'owner', 'seats']\n",
        "\n",
        "# Replacing missing values with Modal value and then one-hot encoding.\n",
        "categorical_transformer = Pipeline(steps=[\n",
        "    ('imputer', SimpleImputer(strategy='most_frequent')),\n",
        "    ('onehot', OneHotEncoder(handle_unknown='ignore'))])\n",
        "\n",
        "# Final preprocessor object set up with ColumnTransformer...\n",
        "\n",
        "preprocess = ColumnTransformer(\n",
        "    transformers=[\n",
        "        ('num', numeric_transformer, numeric_features),\n",
        "        ('cat', categorical_transformer, categorical_features)])\n",
        "\n",
        "# fit preprocessor to your data\n",
        "preprocess = preprocess.fit(X_train)"
      ],
      "execution_count": 5,
      "outputs": []
    },
    {
      "cell_type": "code",
      "metadata": {
        "id": "5D_6sac6nQUx"
      },
      "source": [
        "# Write function to transform data with preprocessor \n",
        "# In this case we use sklearn's Column transformer in our preprocessor function\n",
        "\n",
        "def preprocessor(data):\n",
        "    preprocessed_data=preprocess.transform(data)\n",
        "    return preprocessed_data"
      ],
      "execution_count": 6,
      "outputs": []
    },
    {
      "cell_type": "code",
      "metadata": {
        "colab": {
          "base_uri": "https://localhost:8080/"
        },
        "id": "xp_TTwew8jYU",
        "outputId": "60fafeba-193d-4130-943d-9a56c00b3570"
      },
      "source": [
        "# check shape of X data \n",
        "preprocessor(X_train).shape"
      ],
      "execution_count": 7,
      "outputs": [
        {
          "output_type": "execute_result",
          "data": {
            "text/plain": [
              "(6502, 28)"
            ]
          },
          "metadata": {},
          "execution_count": 7
        }
      ]
    },
    {
      "cell_type": "markdown",
      "metadata": {
        "id": "xJlhd6jvns0b"
      },
      "source": [
        "## **(2) Build Model Using sklearn (or Your Preferred ML Library)**"
      ]
    },
    {
      "cell_type": "markdown",
      "metadata": {
        "id": "fP7ZIVKe3luZ"
      },
      "source": [
        "### **Random Forest**"
      ]
    },
    {
      "cell_type": "code",
      "metadata": {
        "colab": {
          "base_uri": "https://localhost:8080/"
        },
        "id": "HB7uImQbn088",
        "outputId": "621fe92b-6e80-46e9-fc8a-1c91bed0bbc1"
      },
      "source": [
        "from sklearn.ensemble import RandomForestRegressor\n",
        "from sklearn.metrics import r2_score\n",
        "\n",
        "model = RandomForestRegressor(n_estimators = 500, max_depth = 3, random_state=0)\n",
        "model.fit(preprocessor(X_train), y_train) # Fitting to the training set.\n",
        "model_predictions = model.predict(preprocessor(X_train))\n",
        "r2_score(model_predictions, y_train)"
      ],
      "execution_count": 8,
      "outputs": [
        {
          "output_type": "execute_result",
          "data": {
            "text/plain": [
              "0.8512035782027971"
            ]
          },
          "metadata": {},
          "execution_count": 8
        }
      ]
    },
    {
      "cell_type": "markdown",
      "metadata": {
        "id": "FZGlu5PMWbNO"
      },
      "source": [
        "## **(3) Save Preprocessor**\n",
        "### Saves preprocessor function to \"preprocessor.zip\" file"
      ]
    },
    {
      "cell_type": "code",
      "metadata": {
        "colab": {
          "base_uri": "https://localhost:8080/"
        },
        "id": "Wh_vkwblXx7r",
        "outputId": "36ddd17f-27eb-4dae-9f52-ef3ed8f034cd"
      },
      "source": [
        "import aimodelshare as ai\n",
        "ai.export_preprocessor(preprocessor,\"\") "
      ],
      "execution_count": 9,
      "outputs": [
        {
          "output_type": "stream",
          "name": "stdout",
          "text": [
            "Your preprocessor is now saved to 'preprocessor.zip'\n"
          ]
        }
      ]
    },
    {
      "cell_type": "code",
      "metadata": {
        "colab": {
          "base_uri": "https://localhost:8080/"
        },
        "id": "b58rg4pMMn4n",
        "outputId": "a35c7ce9-16d8-492d-fb6b-7ec39ee113ca"
      },
      "source": [
        "#  Now let's import and test the preprocessor function to see if it is working...\n",
        "\n",
        "import aimodelshare as ai\n",
        "prep=ai.import_preprocessor(\"preprocessor.zip\")\n",
        "\n",
        "prep(X_test).shape"
      ],
      "execution_count": 10,
      "outputs": [
        {
          "output_type": "execute_result",
          "data": {
            "text/plain": [
              "(1626, 28)"
            ]
          },
          "metadata": {},
          "execution_count": 10
        }
      ]
    },
    {
      "cell_type": "markdown",
      "metadata": {
        "id": "CdQOeF2J3PCv"
      },
      "source": [
        "## **(4) Save sklearn model to Onnx File Format**\n"
      ]
    },
    {
      "cell_type": "code",
      "metadata": {
        "id": "r8fgi8f6qkbk"
      },
      "source": [
        "# Save sklearn model to local ONNX file\n",
        "from aimodelshare.aimsonnx import model_to_onnx\n",
        "\n",
        "# Check how many preprocessed input features there are\n",
        "from skl2onnx.common.data_types import FloatTensorType\n",
        "\n",
        "feature_count=preprocessor(X_test).shape[1]\n",
        "initial_type = [('float_input', FloatTensorType([None, feature_count]))]  # Insert correct number of features in preprocessed data\n",
        "\n",
        "onnx_model = model_to_onnx(model, framework='sklearn',\n",
        "                          initial_types=initial_type,\n",
        "                          transfer_learning=False,\n",
        "                          deep_learning=False)\n",
        "\n",
        "\n",
        "with open(\"model.onnx\", \"wb\") as f:\n",
        "    f.write(onnx_model.SerializeToString())"
      ],
      "execution_count": 11,
      "outputs": []
    },
    {
      "cell_type": "markdown",
      "metadata": {
        "id": "1swt74XQUIFh"
      },
      "source": [
        "## **(5) Create your Model Playground and Deploy REST API/ Live Web-Application**"
      ]
    },
    {
      "cell_type": "code",
      "metadata": {
        "id": "Y-YKEcvDNmD3"
      },
      "source": [
        "#Set up arguments for Model Playground deployment\n",
        "import pandas as pd \n",
        "\n",
        "model_filepath=\"model.onnx\"\n",
        "preprocessor_filepath=\"preprocessor.zip\""
      ],
      "execution_count": 12,
      "outputs": []
    },
    {
      "cell_type": "code",
      "metadata": {
        "id": "T8C6IlYTFN5t",
        "colab": {
          "base_uri": "https://localhost:8080/"
        },
        "outputId": "a98350d1-d34d-4361-98a8-3227f3e68e94"
      },
      "source": [
        "from aimodelshare import ModelPlayground\n",
        "\n",
        "#Instantiate ModelPlayground() Class\n",
        "\n",
        "myplayground=ModelPlayground(model_type=\"tabular\", classification=False, private=False)\n",
        "\n",
        "# Create Model Playground (generates live rest api and web-app for your model/preprocessor)\n",
        "\n",
        "myplayground.deploy(model_filepath, preprocessor_filepath, y_train, example_data) "
      ],
      "execution_count": 14,
      "outputs": [
        {
          "output_type": "stream",
          "name": "stdout",
          "text": [
            "We need some information about your model before we can build your REST API and interactive Model Playground.\n",
            "   \n",
            "Model Name (for AI Model Share Website):Used Car Sales Price Prediction\n",
            "Model Description (Explain what your model does and \n",
            " why end-users would find your model useful):Cars notoriously lose value as soon as they are purchased. However, the resell value of any particular car depends on many factors, including make, model, miles driven, transmission type, the number of owners, and more. Use this dataset to predict the resell value of used cars based on their features.\n",
            "Model Key Words (Search categories that describe your model, separated with commas):tabular, regression, car sales\n",
            "   \n",
            "Creating your prediction API. (This process may take several minutes.)\n",
            "\n",
            "[=====================================] Progress: 100% - Complete!                                            \n",
            "\n",
            "Success! Your Model Playground was created in 82 seconds. \n",
            " Playground Url: \"https://0ubc2lk3ie.execute-api.us-east-1.amazonaws.com/prod/m\"\n",
            "\n",
            "You can now use your Model Playground.\n",
            "\n",
            "Follow this link to explore your Model Playground's functionality\n",
            "You can make predictions with the Dashboard and access example code from the Programmatic tab.\n",
            "https://www.modelshare.org/detail/model:1360\n"
          ]
        }
      ]
    },
    {
      "cell_type": "markdown",
      "metadata": {
        "id": "Eb9dfUFHhLr-"
      },
      "source": [
        "## **Use your new Model Playground!**\n",
        "\n",
        "Follow the link in the output above to:\n",
        "- Generate predictions with your interactive web dashboard\n",
        "- Access example code in Python, R, and Curl\n",
        "\n",
        "Or, follow the rest of the tutorial to create a competition for your Model Playground and: \n",
        "- Access verified model performance metrics \n",
        "- Upload multiple models to a leaderboard \n",
        "- Easily compare model performance & structure "
      ]
    },
    {
      "cell_type": "markdown",
      "metadata": {
        "id": "9YpyLkQNfqSI"
      },
      "source": [
        "## **Part 2: Create a Competition**\n",
        "\n",
        "-------\n",
        "\n",
        "After deploying your Model Playground, you can now create a competition. \n",
        "\n",
        "Creating a competition allows you to:\n",
        "1. Verify the model performance metrics on aimodelshare.org\n",
        "2. Submit models to a leaderboard\n",
        "3. Grant access to other users to submit models to the leaderboard\n",
        "4. Easily compare model performance and structure "
      ]
    },
    {
      "cell_type": "code",
      "metadata": {
        "id": "ulWKEy5dTBav"
      },
      "source": [
        "# Optional: Create list of authorized participants for competition\n",
        "# Note that participants should use the same email address when creating modelshare.org account\n",
        "\n",
        "# emaillist=[\"emailaddress1@email.com\", \"emailaddress2@email.com\", \"emailaddress3@email.com\"]"
      ],
      "execution_count": null,
      "outputs": []
    },
    {
      "cell_type": "code",
      "metadata": {
        "id": "o2nKrLAMgc9o",
        "colab": {
          "base_uri": "https://localhost:8080/"
        },
        "outputId": "0ae48600-0591-47ac-f67e-f5fbcc8ecb09"
      },
      "source": [
        "# Create Competition\n",
        "\n",
        "# Note -- Make competition public (allow any AI Model Share user to submit models) \n",
        "# .... by excluding the email_list argument and including the 'public=True' argument \n",
        "        \n",
        "myplayground.create_competition(data_directory='used_car_competition_data', \n",
        "                                y_test = y_test, \n",
        "                                email_list=emaillist)\n",
        "                              #   public=True)"
      ],
      "execution_count": 15,
      "outputs": [
        {
          "output_type": "stream",
          "name": "stdout",
          "text": [
            "\n",
            "--INPUT COMPETITION DETAILS--\n",
            "\n",
            "Enter competition name:Used Car Sales Price Prediction Competition\n",
            "Enter competition description:Cars notoriously lose value as soon as they are purchased. However, the resell value of any particular car depends on many factors, including make, model, miles driven, transmission type, the number of owners, and more. Use this dataset to predict the resell value of used cars based on their features.\n",
            "\n",
            "--INPUT DATA DETAILS--\n",
            "\n",
            "Note: (optional) Save an optional LICENSE.txt file in your competition data directory to make users aware of any restrictions on data sharing/usage.\n",
            "\n",
            "Enter data description (i.e.- filenames denoting training and test data, file types, and any subfolders where files are stored):Competition data folder contains labeled test and training data files. Isolate the sales_price variable in the training data for y-train. \n",
            "Enter optional data license descriptive name (e.g.- 'MIT, Apache 2.0, CC0, Other, etc.'):\n",
            "Uploading your data. Please wait for a confirmation message.\n",
            "\n",
            " Success! Model competition created. \n",
            "\n",
            "You may now update your prediction API runtime model and verify evaluation metrics with the update_runtime_model() function.\n",
            "\n",
            "To upload new models and/or preprocessors to this API, team members should use \n",
            "the following credentials:\n",
            "\n",
            "apiurl='https://0ubc2lk3ie.execute-api.us-east-1.amazonaws.com/prod/m'\n",
            "from aimodelshare.aws import set_credentials\n",
            "set_credentials(apiurl=apiurl)\n",
            "\n",
            "They can then submit models to your competition by using the following code: \n",
            "\n",
            "competition= ai.Competition(apiurl)\n",
            "download_data('public.ecr.aws/y2e2a1d6/used_car_competition_data-repository:latest') \n",
            "# Use this data to preprocess data and train model. Write and save preprocessor fxn, save model to onnx file, generate predicted y values\n",
            " using X test data, then submit a model below.\n",
            "\n",
            "competition.submit_model(model_filepath, preprocessor_filepath, prediction_submission_list)\n"
          ]
        }
      ]
    },
    {
      "cell_type": "code",
      "metadata": {
        "id": "SAJJWhdAfyo5"
      },
      "source": [
        "#Instantiate Competition\n",
        "#--Note: If you start a new session, the first argument should be the Model Playground url in quotes. \n",
        "#--e.g.- mycompetition= ai.Competition(\"https://2121212.execute-api.us-east-1.amazonaws.com/prod/m)\n",
        "#See Model Playground \"Compete\" tab for example model submission code.\n",
        "\n",
        "mycompetition= ai.Competition(myplayground.playground_url)"
      ],
      "execution_count": 16,
      "outputs": []
    },
    {
      "cell_type": "code",
      "metadata": {
        "id": "fSxGIAI-fj6x"
      },
      "source": [
        "# Optional: Add, remove, or completely update authorized participants for competition later\n",
        "# emaillist=[\"emailaddress4@gmail.com\"]\n",
        "# mycompetition.update_access_list(email_list=emaillist,update_type=\"Add\")"
      ],
      "execution_count": null,
      "outputs": []
    },
    {
      "cell_type": "markdown",
      "metadata": {
        "id": "mqyzWZPwgoEH"
      },
      "source": [
        "Submit Models"
      ]
    },
    {
      "cell_type": "code",
      "metadata": {
        "colab": {
          "base_uri": "https://localhost:8080/"
        },
        "id": "UQ_LMN7Ifm_1",
        "outputId": "9d3730a6-da0d-4ace-aba9-beed44f02ace"
      },
      "source": [
        "#Authorized users can submit new models after setting credentials using modelshare.org username/password\n",
        "from aimodelshare.aws import set_credentials \n",
        "\n",
        "apiurl=myplayground.playground_url # example url from deployed playground: apiurl= \"https://123456.execute-api.us-east-1.amazonaws.com/prod/m\n",
        "\n",
        "set_credentials(apiurl=apiurl)"
      ],
      "execution_count": 17,
      "outputs": [
        {
          "output_type": "stream",
          "name": "stdout",
          "text": [
            "AI Modelshare Username:··········\n",
            "AI Modelshare Password:··········\n",
            "AI Model Share login credentials set successfully.\n"
          ]
        }
      ]
    },
    {
      "cell_type": "code",
      "metadata": {
        "id": "3Wyhcws7SfXS",
        "colab": {
          "base_uri": "https://localhost:8080/"
        },
        "outputId": "070c5fcc-4f61-4b40-a42d-117e6065dfc1"
      },
      "source": [
        "#Submit Model 1: \n",
        "\n",
        "#-- Generate predicted values (a list of predicted car prices) (Model 1)\n",
        "predicted_values = model.predict(preprocessor(X_test))\n",
        "\n",
        "# Submit Model 1 to Competition Leaderboard\n",
        "mycompetition.submit_model(model_filepath = \"model.onnx\",\n",
        "                                 preprocessor_filepath=\"preprocessor.zip\",\n",
        "                                 prediction_submission=predicted_values)"
      ],
      "execution_count": 18,
      "outputs": [
        {
          "output_type": "stream",
          "name": "stdout",
          "text": [
            "Insert search tags to help users find your model (optional): \n",
            "Provide any useful notes about your model (optional): \n",
            "\n",
            "Your model has been submitted as model version 1\n",
            "\n",
            "To submit code used to create this model or to view current leaderboard navigate to Model Playground: \n",
            "\n",
            " https://www.modelshare.org/detail/model:1360\n"
          ]
        }
      ]
    },
    {
      "cell_type": "code",
      "metadata": {
        "colab": {
          "base_uri": "https://localhost:8080/"
        },
        "id": "hpzXNVPTop-O",
        "outputId": "30f89347-b3d9-4b40-bdf1-2aed462da792"
      },
      "source": [
        "# Create model 2 \n",
        "from sklearn.ensemble import RandomForestRegressor\n",
        "from sklearn.metrics import r2_score\n",
        "\n",
        "model_2 = RandomForestRegressor(n_estimators = 1000, max_depth = 2, random_state=0)\n",
        "model_2.fit(preprocessor(X_train), y_train) # Fitting to the training set.\n",
        "model_predictions = model_2.predict(preprocessor(X_train))\n",
        "r2_score(model_predictions, y_train) "
      ],
      "execution_count": 19,
      "outputs": [
        {
          "output_type": "execute_result",
          "data": {
            "text/plain": [
              "0.715865743098587"
            ]
          },
          "metadata": {},
          "execution_count": 19
        }
      ]
    },
    {
      "cell_type": "code",
      "metadata": {
        "id": "jraPDdsNX46e"
      },
      "source": [
        "# Save Model 2 to .onnx file\n",
        "\n",
        "# Check how many preprocessed input features there are\n",
        "from skl2onnx.common.data_types import FloatTensorType\n",
        "\n",
        "feature_count=preprocessor(X_test).shape[1]\n",
        "initial_type = [('float_input', FloatTensorType([None, feature_count]))]  # Insert correct number of features in preprocessed data\n",
        "\n",
        "onnx_model = model_to_onnx(model_2, framework='sklearn',\n",
        "                          initial_types=initial_type,\n",
        "                          transfer_learning=False,\n",
        "                          deep_learning=False)\n",
        "\n",
        "# Save model to local .onnx file\n",
        "with open(\"model_2.onnx\", \"wb\") as f:\n",
        "    f.write(onnx_model.SerializeToString()) "
      ],
      "execution_count": 20,
      "outputs": []
    },
    {
      "cell_type": "code",
      "metadata": {
        "colab": {
          "base_uri": "https://localhost:8080/"
        },
        "id": "Cme7T_gaYWlD",
        "outputId": "b3493b10-9ad8-4ee0-f247-a3f06c1b86b1"
      },
      "source": [
        "# Submit Model 2\n",
        "\n",
        "#-- Generate predicted y values (Model 2)\n",
        "prediction_labels = model_2.predict(preprocessor(X_test))\n",
        "\n",
        "# Submit Model 2 to Competition Leaderboard\n",
        "mycompetition.submit_model(model_filepath = \"model_2.onnx\",\n",
        "                                 prediction_submission=prediction_labels,\n",
        "                                 preprocessor_filepath=\"preprocessor.zip\")"
      ],
      "execution_count": 21,
      "outputs": [
        {
          "output_type": "stream",
          "name": "stdout",
          "text": [
            "Insert search tags to help users find your model (optional): \n",
            "Provide any useful notes about your model (optional): \n",
            "\n",
            "Your model has been submitted as model version 2\n",
            "\n",
            "To submit code used to create this model or to view current leaderboard navigate to Model Playground: \n",
            "\n",
            " https://www.modelshare.org/detail/model:1360\n"
          ]
        }
      ]
    },
    {
      "cell_type": "markdown",
      "metadata": {
        "id": "iLYlCkWchWC_"
      },
      "source": [
        "Get Leaderboard"
      ]
    },
    {
      "cell_type": "code",
      "metadata": {
        "colab": {
          "base_uri": "https://localhost:8080/",
          "height": 169
        },
        "id": "J0-B1h0chYDL",
        "outputId": "5d2dd5a0-c315-44c1-95d6-23fe2a0c67fd"
      },
      "source": [
        "data = mycompetition.get_leaderboard()\n",
        "mycompetition.stylize_leaderboard(data)"
      ],
      "execution_count": 22,
      "outputs": [
        {
          "output_type": "execute_result",
          "data": {
            "text/html": [
              "<style type=\"text/css\">\n",
              "#T_77280_row0_col0 {\n",
              "  text-align: center;\n",
              "  width: 10em;\n",
              "  height: 80%;\n",
              "  background: linear-gradient(90deg,#f5f8d6 61.7%, transparent 61.7%);\n",
              "  color: #251e1b;\n",
              "  font-size: 12px;\n",
              "}\n",
              "#T_77280_row0_col1 {\n",
              "  text-align: center;\n",
              "  width: 10em;\n",
              "  height: 80%;\n",
              "  background: linear-gradient(90deg,#c778c8 78.5%, transparent 78.5%);\n",
              "  color: #251e1b;\n",
              "  font-size: 12px;\n",
              "}\n",
              "#T_77280_row0_col2 {\n",
              "  text-align: center;\n",
              "  width: 10em;\n",
              "  height: 80%;\n",
              "  background: linear-gradient(90deg,#ff4971 75.8%, transparent 75.8%);\n",
              "  color: #251e1b;\n",
              "  font-size: 12px;\n",
              "}\n",
              "#T_77280_row0_col3 {\n",
              "  text-align: center;\n",
              "  width: 10em;\n",
              "  height: 80%;\n",
              "  background: linear-gradient(90deg,#aadbaa 100.0%, transparent 100.0%);\n",
              "  color: #251e1b;\n",
              "  font-size: 12px;\n",
              "}\n",
              "#T_77280_row0_col4, #T_77280_row0_col5, #T_77280_row0_col6, #T_77280_row0_col7, #T_77280_row0_col8, #T_77280_row0_col9, #T_77280_row0_col10, #T_77280_row1_col4, #T_77280_row1_col5, #T_77280_row1_col6, #T_77280_row1_col7, #T_77280_row1_col8, #T_77280_row1_col9, #T_77280_row1_col10 {\n",
              "  text-align: center;\n",
              "}\n",
              "#T_77280_row1_col0 {\n",
              "  text-align: center;\n",
              "  width: 10em;\n",
              "  height: 80%;\n",
              "  background: linear-gradient(90deg,#f5f8d6 100.0%, transparent 100.0%);\n",
              "  color: #251e1b;\n",
              "  font-size: 12px;\n",
              "}\n",
              "#T_77280_row1_col1 {\n",
              "  text-align: center;\n",
              "  width: 10em;\n",
              "  height: 80%;\n",
              "  background: linear-gradient(90deg,#c778c8 100.0%, transparent 100.0%);\n",
              "  color: #251e1b;\n",
              "  font-size: 12px;\n",
              "}\n",
              "#T_77280_row1_col2 {\n",
              "  text-align: center;\n",
              "  width: 10em;\n",
              "  height: 80%;\n",
              "  background: linear-gradient(90deg,#ff4971 100.0%, transparent 100.0%);\n",
              "  color: #251e1b;\n",
              "  font-size: 12px;\n",
              "}\n",
              "#T_77280_row1_col3 {\n",
              "  text-align: center;\n",
              "  width: 10em;\n",
              "  height: 80%;\n",
              "  background: linear-gradient(90deg,#aadbaa 92.5%, transparent 92.5%);\n",
              "  color: #251e1b;\n",
              "  font-size: 12px;\n",
              "}\n",
              "</style>\n",
              "<table id=\"T_77280_\" class=\"dataframe\">\n",
              "  <thead>\n",
              "    <tr>\n",
              "      <th class=\"blank level0\" >&nbsp;</th>\n",
              "      <th class=\"col_heading level0 col0\" >mse</th>\n",
              "      <th class=\"col_heading level0 col1\" >rmse</th>\n",
              "      <th class=\"col_heading level0 col2\" >mae</th>\n",
              "      <th class=\"col_heading level0 col3\" >r2</th>\n",
              "      <th class=\"col_heading level0 col4\" >ml_framework</th>\n",
              "      <th class=\"col_heading level0 col5\" >transfer_learning</th>\n",
              "      <th class=\"col_heading level0 col6\" >deep_learning</th>\n",
              "      <th class=\"col_heading level0 col7\" >model_type</th>\n",
              "      <th class=\"col_heading level0 col8\" >model_config</th>\n",
              "      <th class=\"col_heading level0 col9\" >username</th>\n",
              "      <th class=\"col_heading level0 col10\" >version</th>\n",
              "    </tr>\n",
              "  </thead>\n",
              "  <tbody>\n",
              "    <tr>\n",
              "      <th id=\"T_77280_level0_row0\" class=\"row_heading level0 row0\" >0</th>\n",
              "      <td id=\"T_77280_row0_col0\" class=\"data row0 col0\" >14365484.21</td>\n",
              "      <td id=\"T_77280_row0_col1\" class=\"data row0 col1\" >3790.18</td>\n",
              "      <td id=\"T_77280_row0_col2\" class=\"data row0 col2\" >2509.86</td>\n",
              "      <td id=\"T_77280_row0_col3\" class=\"data row0 col3\" >0.89</td>\n",
              "      <td id=\"T_77280_row0_col4\" class=\"data row0 col4\" >sklearn</td>\n",
              "      <td id=\"T_77280_row0_col5\" class=\"data row0 col5\" >False</td>\n",
              "      <td id=\"T_77280_row0_col6\" class=\"data row0 col6\" >False</td>\n",
              "      <td id=\"T_77280_row0_col7\" class=\"data row0 col7\" >RandomForestRegressor</td>\n",
              "      <td id=\"T_77280_row0_col8\" class=\"data row0 col8\" >{'bootstrap': True, 'ccp_alpha...</td>\n",
              "      <td id=\"T_77280_row0_col9\" class=\"data row0 col9\" >AI_COMSW4701</td>\n",
              "      <td id=\"T_77280_row0_col10\" class=\"data row0 col10\" >1</td>\n",
              "    </tr>\n",
              "    <tr>\n",
              "      <th id=\"T_77280_level0_row1\" class=\"row_heading level0 row1\" >1</th>\n",
              "      <td id=\"T_77280_row1_col0\" class=\"data row1 col0\" >23299674.17</td>\n",
              "      <td id=\"T_77280_row1_col1\" class=\"data row1 col1\" >4826.97</td>\n",
              "      <td id=\"T_77280_row1_col2\" class=\"data row1 col2\" >3309.62</td>\n",
              "      <td id=\"T_77280_row1_col3\" class=\"data row1 col3\" >0.82</td>\n",
              "      <td id=\"T_77280_row1_col4\" class=\"data row1 col4\" >sklearn</td>\n",
              "      <td id=\"T_77280_row1_col5\" class=\"data row1 col5\" >False</td>\n",
              "      <td id=\"T_77280_row1_col6\" class=\"data row1 col6\" >False</td>\n",
              "      <td id=\"T_77280_row1_col7\" class=\"data row1 col7\" >RandomForestRegressor</td>\n",
              "      <td id=\"T_77280_row1_col8\" class=\"data row1 col8\" >{'bootstrap': True, 'ccp_alpha...</td>\n",
              "      <td id=\"T_77280_row1_col9\" class=\"data row1 col9\" >AI_COMSW4701</td>\n",
              "      <td id=\"T_77280_row1_col10\" class=\"data row1 col10\" >2</td>\n",
              "    </tr>\n",
              "  </tbody>\n",
              "</table>\n"
            ],
            "text/plain": [
              "<pandas.io.formats.style.Styler at 0x7f82e7ff8c50>"
            ]
          },
          "metadata": {},
          "execution_count": 22
        }
      ]
    },
    {
      "cell_type": "markdown",
      "metadata": {
        "id": "g_bklL3shOER"
      },
      "source": [
        "Compare Models"
      ]
    },
    {
      "cell_type": "code",
      "metadata": {
        "id": "quo_V3A3hNS3",
        "colab": {
          "base_uri": "https://localhost:8080/",
          "height": 421
        },
        "outputId": "e86df881-b869-4345-f8b8-7cd84b3a7ab5"
      },
      "source": [
        "# Compare two or more models \n",
        "data=mycompetition.compare_models([1,2], verbose=1)\n",
        "mycompetition.stylize_compare(data)"
      ],
      "execution_count": 23,
      "outputs": [
        {
          "output_type": "display_data",
          "data": {
            "text/html": [
              "<style type=\"text/css\">\n",
              "#T_c76dd_ caption {\n",
              "  color: black;\n",
              "  font-size: 18px;\n",
              "}\n",
              "#T_c76dd_row3_col2, #T_c76dd_row3_col3, #T_c76dd_row12_col2, #T_c76dd_row12_col3, #T_c76dd_row15_col2, #T_c76dd_row15_col3 {\n",
              "  background: tomato;\n",
              "}\n",
              "</style>\n",
              "<table id=\"T_c76dd_\">\n",
              "  <caption>Model type: RandomForestRegressor</caption>\n",
              "  <thead>\n",
              "    <tr>\n",
              "      <th class=\"blank level0\" >&nbsp;</th>\n",
              "      <th class=\"col_heading level0 col0\" >param_name</th>\n",
              "      <th class=\"col_heading level0 col1\" >default_value</th>\n",
              "      <th class=\"col_heading level0 col2\" >model_version_1</th>\n",
              "      <th class=\"col_heading level0 col3\" >model_version_2</th>\n",
              "    </tr>\n",
              "  </thead>\n",
              "  <tbody>\n",
              "    <tr>\n",
              "      <th id=\"T_c76dd_level0_row0\" class=\"row_heading level0 row0\" >0</th>\n",
              "      <td id=\"T_c76dd_row0_col0\" class=\"data row0 col0\" >bootstrap</td>\n",
              "      <td id=\"T_c76dd_row0_col1\" class=\"data row0 col1\" >True</td>\n",
              "      <td id=\"T_c76dd_row0_col2\" class=\"data row0 col2\" >True</td>\n",
              "      <td id=\"T_c76dd_row0_col3\" class=\"data row0 col3\" >True</td>\n",
              "    </tr>\n",
              "    <tr>\n",
              "      <th id=\"T_c76dd_level0_row1\" class=\"row_heading level0 row1\" >1</th>\n",
              "      <td id=\"T_c76dd_row1_col0\" class=\"data row1 col0\" >ccp_alpha</td>\n",
              "      <td id=\"T_c76dd_row1_col1\" class=\"data row1 col1\" >0.000000</td>\n",
              "      <td id=\"T_c76dd_row1_col2\" class=\"data row1 col2\" >0.000000</td>\n",
              "      <td id=\"T_c76dd_row1_col3\" class=\"data row1 col3\" >0.000000</td>\n",
              "    </tr>\n",
              "    <tr>\n",
              "      <th id=\"T_c76dd_level0_row2\" class=\"row_heading level0 row2\" >2</th>\n",
              "      <td id=\"T_c76dd_row2_col0\" class=\"data row2 col0\" >criterion</td>\n",
              "      <td id=\"T_c76dd_row2_col1\" class=\"data row2 col1\" >mse</td>\n",
              "      <td id=\"T_c76dd_row2_col2\" class=\"data row2 col2\" >mse</td>\n",
              "      <td id=\"T_c76dd_row2_col3\" class=\"data row2 col3\" >mse</td>\n",
              "    </tr>\n",
              "    <tr>\n",
              "      <th id=\"T_c76dd_level0_row3\" class=\"row_heading level0 row3\" >3</th>\n",
              "      <td id=\"T_c76dd_row3_col0\" class=\"data row3 col0\" >max_depth</td>\n",
              "      <td id=\"T_c76dd_row3_col1\" class=\"data row3 col1\" >None</td>\n",
              "      <td id=\"T_c76dd_row3_col2\" class=\"data row3 col2\" >3</td>\n",
              "      <td id=\"T_c76dd_row3_col3\" class=\"data row3 col3\" >2</td>\n",
              "    </tr>\n",
              "    <tr>\n",
              "      <th id=\"T_c76dd_level0_row4\" class=\"row_heading level0 row4\" >4</th>\n",
              "      <td id=\"T_c76dd_row4_col0\" class=\"data row4 col0\" >max_features</td>\n",
              "      <td id=\"T_c76dd_row4_col1\" class=\"data row4 col1\" >auto</td>\n",
              "      <td id=\"T_c76dd_row4_col2\" class=\"data row4 col2\" >auto</td>\n",
              "      <td id=\"T_c76dd_row4_col3\" class=\"data row4 col3\" >auto</td>\n",
              "    </tr>\n",
              "    <tr>\n",
              "      <th id=\"T_c76dd_level0_row5\" class=\"row_heading level0 row5\" >5</th>\n",
              "      <td id=\"T_c76dd_row5_col0\" class=\"data row5 col0\" >max_leaf_nodes</td>\n",
              "      <td id=\"T_c76dd_row5_col1\" class=\"data row5 col1\" >None</td>\n",
              "      <td id=\"T_c76dd_row5_col2\" class=\"data row5 col2\" >None</td>\n",
              "      <td id=\"T_c76dd_row5_col3\" class=\"data row5 col3\" >None</td>\n",
              "    </tr>\n",
              "    <tr>\n",
              "      <th id=\"T_c76dd_level0_row6\" class=\"row_heading level0 row6\" >6</th>\n",
              "      <td id=\"T_c76dd_row6_col0\" class=\"data row6 col0\" >max_samples</td>\n",
              "      <td id=\"T_c76dd_row6_col1\" class=\"data row6 col1\" >None</td>\n",
              "      <td id=\"T_c76dd_row6_col2\" class=\"data row6 col2\" >None</td>\n",
              "      <td id=\"T_c76dd_row6_col3\" class=\"data row6 col3\" >None</td>\n",
              "    </tr>\n",
              "    <tr>\n",
              "      <th id=\"T_c76dd_level0_row7\" class=\"row_heading level0 row7\" >7</th>\n",
              "      <td id=\"T_c76dd_row7_col0\" class=\"data row7 col0\" >min_impurity_decrease</td>\n",
              "      <td id=\"T_c76dd_row7_col1\" class=\"data row7 col1\" >0.000000</td>\n",
              "      <td id=\"T_c76dd_row7_col2\" class=\"data row7 col2\" >0.000000</td>\n",
              "      <td id=\"T_c76dd_row7_col3\" class=\"data row7 col3\" >0.000000</td>\n",
              "    </tr>\n",
              "    <tr>\n",
              "      <th id=\"T_c76dd_level0_row8\" class=\"row_heading level0 row8\" >8</th>\n",
              "      <td id=\"T_c76dd_row8_col0\" class=\"data row8 col0\" >min_impurity_split</td>\n",
              "      <td id=\"T_c76dd_row8_col1\" class=\"data row8 col1\" >None</td>\n",
              "      <td id=\"T_c76dd_row8_col2\" class=\"data row8 col2\" >None</td>\n",
              "      <td id=\"T_c76dd_row8_col3\" class=\"data row8 col3\" >None</td>\n",
              "    </tr>\n",
              "    <tr>\n",
              "      <th id=\"T_c76dd_level0_row9\" class=\"row_heading level0 row9\" >9</th>\n",
              "      <td id=\"T_c76dd_row9_col0\" class=\"data row9 col0\" >min_samples_leaf</td>\n",
              "      <td id=\"T_c76dd_row9_col1\" class=\"data row9 col1\" >1</td>\n",
              "      <td id=\"T_c76dd_row9_col2\" class=\"data row9 col2\" >1</td>\n",
              "      <td id=\"T_c76dd_row9_col3\" class=\"data row9 col3\" >1</td>\n",
              "    </tr>\n",
              "    <tr>\n",
              "      <th id=\"T_c76dd_level0_row10\" class=\"row_heading level0 row10\" >10</th>\n",
              "      <td id=\"T_c76dd_row10_col0\" class=\"data row10 col0\" >min_samples_split</td>\n",
              "      <td id=\"T_c76dd_row10_col1\" class=\"data row10 col1\" >2</td>\n",
              "      <td id=\"T_c76dd_row10_col2\" class=\"data row10 col2\" >2</td>\n",
              "      <td id=\"T_c76dd_row10_col3\" class=\"data row10 col3\" >2</td>\n",
              "    </tr>\n",
              "    <tr>\n",
              "      <th id=\"T_c76dd_level0_row11\" class=\"row_heading level0 row11\" >11</th>\n",
              "      <td id=\"T_c76dd_row11_col0\" class=\"data row11 col0\" >min_weight_fraction_leaf</td>\n",
              "      <td id=\"T_c76dd_row11_col1\" class=\"data row11 col1\" >0.000000</td>\n",
              "      <td id=\"T_c76dd_row11_col2\" class=\"data row11 col2\" >0.000000</td>\n",
              "      <td id=\"T_c76dd_row11_col3\" class=\"data row11 col3\" >0.000000</td>\n",
              "    </tr>\n",
              "    <tr>\n",
              "      <th id=\"T_c76dd_level0_row12\" class=\"row_heading level0 row12\" >12</th>\n",
              "      <td id=\"T_c76dd_row12_col0\" class=\"data row12 col0\" >n_estimators</td>\n",
              "      <td id=\"T_c76dd_row12_col1\" class=\"data row12 col1\" >100</td>\n",
              "      <td id=\"T_c76dd_row12_col2\" class=\"data row12 col2\" >500</td>\n",
              "      <td id=\"T_c76dd_row12_col3\" class=\"data row12 col3\" >1000</td>\n",
              "    </tr>\n",
              "    <tr>\n",
              "      <th id=\"T_c76dd_level0_row13\" class=\"row_heading level0 row13\" >13</th>\n",
              "      <td id=\"T_c76dd_row13_col0\" class=\"data row13 col0\" >n_jobs</td>\n",
              "      <td id=\"T_c76dd_row13_col1\" class=\"data row13 col1\" >None</td>\n",
              "      <td id=\"T_c76dd_row13_col2\" class=\"data row13 col2\" >None</td>\n",
              "      <td id=\"T_c76dd_row13_col3\" class=\"data row13 col3\" >None</td>\n",
              "    </tr>\n",
              "    <tr>\n",
              "      <th id=\"T_c76dd_level0_row14\" class=\"row_heading level0 row14\" >14</th>\n",
              "      <td id=\"T_c76dd_row14_col0\" class=\"data row14 col0\" >oob_score</td>\n",
              "      <td id=\"T_c76dd_row14_col1\" class=\"data row14 col1\" >False</td>\n",
              "      <td id=\"T_c76dd_row14_col2\" class=\"data row14 col2\" >False</td>\n",
              "      <td id=\"T_c76dd_row14_col3\" class=\"data row14 col3\" >False</td>\n",
              "    </tr>\n",
              "    <tr>\n",
              "      <th id=\"T_c76dd_level0_row15\" class=\"row_heading level0 row15\" >15</th>\n",
              "      <td id=\"T_c76dd_row15_col0\" class=\"data row15 col0\" >random_state</td>\n",
              "      <td id=\"T_c76dd_row15_col1\" class=\"data row15 col1\" >None</td>\n",
              "      <td id=\"T_c76dd_row15_col2\" class=\"data row15 col2\" >0</td>\n",
              "      <td id=\"T_c76dd_row15_col3\" class=\"data row15 col3\" >0</td>\n",
              "    </tr>\n",
              "    <tr>\n",
              "      <th id=\"T_c76dd_level0_row16\" class=\"row_heading level0 row16\" >16</th>\n",
              "      <td id=\"T_c76dd_row16_col0\" class=\"data row16 col0\" >verbose</td>\n",
              "      <td id=\"T_c76dd_row16_col1\" class=\"data row16 col1\" >0</td>\n",
              "      <td id=\"T_c76dd_row16_col2\" class=\"data row16 col2\" >0</td>\n",
              "      <td id=\"T_c76dd_row16_col3\" class=\"data row16 col3\" >0</td>\n",
              "    </tr>\n",
              "    <tr>\n",
              "      <th id=\"T_c76dd_level0_row17\" class=\"row_heading level0 row17\" >17</th>\n",
              "      <td id=\"T_c76dd_row17_col0\" class=\"data row17 col0\" >warm_start</td>\n",
              "      <td id=\"T_c76dd_row17_col1\" class=\"data row17 col1\" >False</td>\n",
              "      <td id=\"T_c76dd_row17_col2\" class=\"data row17 col2\" >False</td>\n",
              "      <td id=\"T_c76dd_row17_col3\" class=\"data row17 col3\" >False</td>\n",
              "    </tr>\n",
              "  </tbody>\n",
              "</table>\n"
            ],
            "text/plain": [
              "<IPython.core.display.HTML object>"
            ]
          },
          "metadata": {}
        },
        {
          "output_type": "stream",
          "name": "stdout",
          "text": [
            "\n",
            "\n",
            "\n"
          ]
        }
      ]
    },
    {
      "cell_type": "markdown",
      "metadata": {
        "id": "FKm9ugiBhQFn"
      },
      "source": [
        "#### Check structure of y test data \n",
        "(This helps users understand how to submit predicted values to leaderboard)"
      ]
    },
    {
      "cell_type": "code",
      "metadata": {
        "colab": {
          "base_uri": "https://localhost:8080/"
        },
        "id": "dqY82D22hPZx",
        "outputId": "4f3af7a0-ddb7-461a-83d5-0e9c1ddf5a1a"
      },
      "source": [
        "mycompetition.inspect_y_test()"
      ],
      "execution_count": 24,
      "outputs": [
        {
          "output_type": "execute_result",
          "data": {
            "text/plain": [
              "{'y_length': 1626,\n",
              " 'y_max': 84000.0,\n",
              " 'y_mean': 9093.492479704797,\n",
              " 'y_min': 475.762,\n",
              " 'y_sd': 11529.193556510989,\n",
              " 'ytest_example': [1120.0, 9380.0, 3640.0, 9450.0, 10500.0]}"
            ]
          },
          "metadata": {},
          "execution_count": 24
        }
      ]
    },
    {
      "cell_type": "markdown",
      "metadata": {
        "id": "iA-nYjr7WCIp"
      },
      "source": [
        "## **Part 3: Maintaining your Model Playground**\n",
        "\n",
        "-------"
      ]
    },
    {
      "cell_type": "markdown",
      "metadata": {
        "id": "0UIWnHIXWM0F"
      },
      "source": [
        "Update Runtime model\n",
        "\n",
        "*Use this function to 1) update the prediction API behind your Model Playground with a new model, chosen from the leaderboard and 2) verify the modelperformance metrics in your Model Playground*"
      ]
    },
    {
      "cell_type": "code",
      "metadata": {
        "colab": {
          "base_uri": "https://localhost:8080/"
        },
        "id": "wAchpcGLWLxE",
        "outputId": "07260add-0519-4016-c8ac-77819b81f97d"
      },
      "source": [
        "myplayground.update_runtime_model(model_version=1)"
      ],
      "execution_count": 25,
      "outputs": [
        {
          "output_type": "stream",
          "name": "stdout",
          "text": [
            "Runtime model & preprocessor for api: https://0ubc2lk3ie.execute-api.us-east-1.amazonaws.com/prod/m updated to model version 1.\n",
            "\n",
            "Model metrics are now updated and verified for this model playground.\n"
          ]
        }
      ]
    },
    {
      "cell_type": "markdown",
      "metadata": {
        "id": "xhJRaiN-WaO1"
      },
      "source": [
        "Delete Deployment \n",
        "\n",
        "*Use this function to delete the entire Model Playground, including the REST API, web dashboard, competition, and all submitted models*"
      ]
    },
    {
      "cell_type": "code",
      "metadata": {
        "colab": {
          "base_uri": "https://localhost:8080/",
          "height": 109
        },
        "id": "mCkf-exLWyDK",
        "outputId": "5b1f294b-573b-49b8-a9f5-24ebc0ffac44"
      },
      "source": [
        "myplayground.delete_deployment()"
      ],
      "execution_count": null,
      "outputs": [
        {
          "name": "stdout",
          "output_type": "stream",
          "text": [
            "Running this function will permanently delete all resources tied to this deployment, \n",
            " including the eval lambda and all models submitted to the model competition.\n",
            "\n",
            "To confirm, type 'permanently delete':permanently delete\n"
          ]
        },
        {
          "output_type": "execute_result",
          "data": {
            "application/vnd.google.colaboratory.intrinsic+json": {
              "type": "string"
            },
            "text/plain": [
              "'API deleted successfully.'"
            ]
          },
          "metadata": {},
          "execution_count": 50
        }
      ]
    }
  ]
}