{
  "nbformat": 4,
  "nbformat_minor": 0,
  "metadata": {
    "colab": {
      "name": "[IMDB] Model Submission Guide.ipynb",
      "provenance": [],
      "collapsed_sections": []
    },
    "kernelspec": {
      "name": "python3",
      "display_name": "Python 3"
    },
    "language_info": {
      "name": "python"
    }
  },
  "cells": [
    {
      "cell_type": "markdown",
      "source": [
        "<p align=\"center\"><img width=\"50%\" src=\"https://aimodelsharecontent.s3.amazonaws.com/aimodshare_banner.jpg\" /></p>\n",
        "\n",
        "\n",
        "---"
      ],
      "metadata": {
        "id": "vVFTG0FjBykl"
      }
    },
    {
      "cell_type": "markdown",
      "metadata": {
        "id": "JXxGTgJz152A"
      },
      "source": [
        "## IMDB Review Classification Competition\n",
        "Let's share our models to a centralized leaderboard, so that we can collaborate and learn from the model experimentation process...\n",
        "\n",
        "**Instructions:**\n",
        "1.   Get data in and set up X_train / X_test / y_train\n",
        "2.   Preprocess data using keras Tokenizer/ Write and Save Preprocessor function\n",
        "3. Fit model on preprocessed data and save preprocessor function and model \n",
        "4. Generate predictions from X_test data and submit model to competition\n",
        "5. Repeat submission process to improve place on leaderboard\n",
        "\n"
      ]
    },
    {
      "cell_type": "markdown",
      "metadata": {
        "id": "5gSrVJwp3E9H"
      },
      "source": [
        "## 1. Get data in and set up X_train, X_test, y_train objects"
      ]
    },
    {
      "cell_type": "code",
      "metadata": {
        "id": "PLTIaMB3ChSW"
      },
      "source": [
        "#install aimodelshare library\n",
        "! pip install aimodelshare --upgrade"
      ],
      "execution_count": null,
      "outputs": []
    },
    {
      "cell_type": "code",
      "metadata": {
        "colab": {
          "base_uri": "https://localhost:8080/"
        },
        "id": "d3PiJXBhC5y-",
        "outputId": "169e4c53-0c38-4195-b1c2-582f821cc8fa"
      },
      "source": [
        "# Get competition data\n",
        "from aimodelshare import download_data\n",
        "download_data('public.ecr.aws/y2e2a1d6/imdb_competition_data-repository:latest') "
      ],
      "execution_count": 2,
      "outputs": [
        {
          "output_type": "stream",
          "name": "stdout",
          "text": [
            "Downloading [================================================>]\n",
            "\n",
            "Data downloaded successfully.\n"
          ]
        }
      ]
    },
    {
      "cell_type": "code",
      "metadata": {
        "colab": {
          "base_uri": "https://localhost:8080/"
        },
        "id": "jT0qFCZFNzHq",
        "outputId": "f5c36ec9-5d9a-4aec-891e-7d4ec6a2c650"
      },
      "source": [
        "# Set up X_train, X_test, and y_train_labels objects\n",
        "import pandas as pd\n",
        "X_train=pd.read_csv(\"imdb_competition_data/X_train.csv\", squeeze=True)\n",
        "X_test=pd.read_csv(\"imdb_competition_data/X_test.csv\", squeeze=True)\n",
        "\n",
        "y_train_labels=pd.read_csv(\"imdb_competition_data/y_train_labels.csv\", squeeze=True)\n",
        "\n",
        "# ohe encode Y data\n",
        "y_train = pd.get_dummies(y_train_labels)\n",
        "\n",
        "X_train.head()"
      ],
      "execution_count": 3,
      "outputs": [
        {
          "output_type": "execute_result",
          "data": {
            "text/plain": [
              "0    This is an interesting series that takes real ...\n",
              "1    I wonder sometimes if maybe Meryl Streep has b...\n",
              "2    Wow, what a racist, profane piece of celluloid...\n",
              "3    Why Hollywood feels the need to remake movies ...\n",
              "4    I've seen tons of HK actioners, and this one i...\n",
              "Name: text, dtype: object"
            ]
          },
          "metadata": {},
          "execution_count": 3
        }
      ]
    },
    {
      "cell_type": "markdown",
      "metadata": {
        "id": "gEzPoXPj3V7u"
      },
      "source": [
        "##2.   Preprocess data using keras tokenizer / Write and Save Preprocessor function\n"
      ]
    },
    {
      "cell_type": "code",
      "metadata": {
        "id": "16QV9Y9TC3B3",
        "colab": {
          "base_uri": "https://localhost:8080/"
        },
        "outputId": "58990d37-0b07-41f6-b35f-848e63256376"
      },
      "source": [
        "from tensorflow.keras.preprocessing.text import Tokenizer\n",
        "from tensorflow.keras.preprocessing.sequence import pad_sequences\n",
        "import numpy as np\n",
        "\n",
        "# Build vocabulary from training text data\n",
        "tokenizer = Tokenizer(num_words=5000)\n",
        "tokenizer.fit_on_texts(X_train)\n",
        "\n",
        "# preprocessor tokenizes words and makes sure all documents have the same length\n",
        "def preprocessor(data, maxlen=100, max_words=5000):\n",
        "\n",
        "    sequences = tokenizer.texts_to_sequences(data)\n",
        "\n",
        "    word_index = tokenizer.word_index\n",
        "    X = pad_sequences(sequences, maxlen=maxlen)\n",
        "\n",
        "    return X\n",
        "\n",
        "print(preprocessor(X_train).shape)\n",
        "print(preprocessor(X_test).shape)"
      ],
      "execution_count": 4,
      "outputs": [
        {
          "output_type": "stream",
          "name": "stdout",
          "text": [
            "(37500, 100)\n",
            "(12500, 100)\n"
          ]
        }
      ]
    },
    {
      "cell_type": "markdown",
      "metadata": {
        "id": "X52kECL43b-O"
      },
      "source": [
        "##3. Fit model on preprocessed data and save preprocessor function and model \n"
      ]
    },
    {
      "cell_type": "code",
      "metadata": {
        "colab": {
          "base_uri": "https://localhost:8080/"
        },
        "id": "NCbBf8j9ClYl",
        "outputId": "ef7a5f63-a8f4-4a2e-b8e8-8de201dedf0c"
      },
      "source": [
        "from tensorflow.keras.layers import Dense, Embedding,Flatten\n",
        "from tensorflow.keras.models import Sequential\n",
        "\n",
        "model = Sequential()\n",
        "model.add(Embedding(5000, 16, input_length=100))\n",
        "model.add(Flatten())\n",
        "model.add(Dense(2, activation='softmax'))\n",
        "model.summary()\n",
        "\n",
        "model.compile(optimizer='rmsprop', loss='categorical_crossentropy', metrics=['acc'])\n",
        "\n",
        "history = model.fit(preprocessor(X_train), y_train,\n",
        "                    epochs=1,\n",
        "                    batch_size=32,\n",
        "                    validation_split=0.2)"
      ],
      "execution_count": 5,
      "outputs": [
        {
          "output_type": "stream",
          "name": "stdout",
          "text": [
            "Model: \"sequential\"\n",
            "_________________________________________________________________\n",
            " Layer (type)                Output Shape              Param #   \n",
            "=================================================================\n",
            " embedding (Embedding)       (None, 100, 16)           80000     \n",
            "                                                                 \n",
            " flatten (Flatten)           (None, 1600)              0         \n",
            "                                                                 \n",
            " dense (Dense)               (None, 2)                 3202      \n",
            "                                                                 \n",
            "=================================================================\n",
            "Total params: 83,202\n",
            "Trainable params: 83,202\n",
            "Non-trainable params: 0\n",
            "_________________________________________________________________\n",
            "938/938 [==============================] - 3s 2ms/step - loss: 0.4654 - acc: 0.7761 - val_loss: 0.3167 - val_acc: 0.8684\n"
          ]
        }
      ]
    },
    {
      "cell_type": "markdown",
      "metadata": {
        "id": "zmJAnmO-5AcU"
      },
      "source": [
        "#### Save preprocessor function to local \"preprocessor.zip\" file"
      ]
    },
    {
      "cell_type": "code",
      "metadata": {
        "colab": {
          "base_uri": "https://localhost:8080/"
        },
        "id": "4VGacc0LDaMA",
        "outputId": "b26482df-169c-47a0-ded3-4a5016dccd31"
      },
      "source": [
        "import aimodelshare as ai\n",
        "ai.export_preprocessor(preprocessor,\"\") "
      ],
      "execution_count": 6,
      "outputs": [
        {
          "output_type": "stream",
          "name": "stdout",
          "text": [
            "Your preprocessor is now saved to 'preprocessor.zip'\n"
          ]
        }
      ]
    },
    {
      "cell_type": "markdown",
      "metadata": {
        "id": "oOWBa8Cv5LdL"
      },
      "source": [
        "#### Save model to local \".onnx\" file"
      ]
    },
    {
      "cell_type": "code",
      "metadata": {
        "id": "pEhvnRiQDlY5"
      },
      "source": [
        "# Save keras model to local ONNX file\n",
        "from aimodelshare.aimsonnx import model_to_onnx\n",
        "\n",
        "onnx_model = model_to_onnx(model, framework='keras',\n",
        "                          transfer_learning=False,\n",
        "                          deep_learning=True)\n",
        "\n",
        "with open(\"model.onnx\", \"wb\") as f:\n",
        "    f.write(onnx_model.SerializeToString())"
      ],
      "execution_count": 7,
      "outputs": []
    },
    {
      "cell_type": "markdown",
      "metadata": {
        "id": "gHWkAzvX3m8O"
      },
      "source": [
        "## 4. Generate predictions from X_test data and submit model to competition\n"
      ]
    },
    {
      "cell_type": "code",
      "metadata": {
        "colab": {
          "base_uri": "https://localhost:8080/"
        },
        "id": "RtgkM02MDpkO",
        "outputId": "85df0d11-c72a-4e8c-fad6-3043b56ee580"
      },
      "source": [
        "#Set credentials using modelshare.org username/password\n",
        "\n",
        "from aimodelshare.aws import set_credentials\n",
        "    \n",
        "apiurl=\"https://2eukgxl083.execute-api.us-east-1.amazonaws.com/prod/m\" #This is the unique rest api that powers this IMDB movie review classification Playground\n",
        "\n",
        "set_credentials(apiurl=apiurl)"
      ],
      "execution_count": 8,
      "outputs": [
        {
          "output_type": "stream",
          "name": "stdout",
          "text": [
            "AI Modelshare Username:··········\n",
            "AI Modelshare Password:··········\n",
            "AI Model Share login credentials set successfully.\n"
          ]
        }
      ]
    },
    {
      "cell_type": "code",
      "metadata": {
        "id": "fKNGSww8EGgi"
      },
      "source": [
        "#Instantiate Competition\n",
        "\n",
        "mycompetition= ai.Competition(apiurl)"
      ],
      "execution_count": 9,
      "outputs": []
    },
    {
      "cell_type": "code",
      "metadata": {
        "id": "_Ql4wksyEUnP",
        "colab": {
          "base_uri": "https://localhost:8080/"
        },
        "outputId": "c9fec188-cb5a-4b77-9c95-df05ddd731e9"
      },
      "source": [
        "#Submit Model 1: \n",
        "\n",
        "#-- Generate predicted y values (Model 1)\n",
        "#Note: Keras predict returns the predicted column index location for classification models\n",
        "prediction_column_index=model.predict(preprocessor(X_test)).argmax(axis=1)\n",
        "\n",
        "# extract correct prediction labels \n",
        "prediction_labels = [y_train.columns[i] for i in prediction_column_index]\n",
        "\n",
        "# Submit Model 1 to Competition Leaderboard\n",
        "mycompetition.submit_model(model_filepath = \"model.onnx\",\n",
        "                                 preprocessor_filepath=\"preprocessor.zip\",\n",
        "                                 prediction_submission=prediction_labels)"
      ],
      "execution_count": 10,
      "outputs": [
        {
          "output_type": "stream",
          "name": "stdout",
          "text": [
            "Insert search tags to help users find your model (optional): \n",
            "Provide any useful notes about your model (optional): \n",
            "\n",
            "Your model has been submitted as model version 3\n",
            "\n",
            "To submit code used to create this model or to view current leaderboard navigate to Model Playground: \n",
            "\n",
            " https://www.modelshare.org/detail/model:1376\n"
          ]
        }
      ]
    },
    {
      "cell_type": "code",
      "metadata": {
        "colab": {
          "base_uri": "https://localhost:8080/",
          "height": 222
        },
        "id": "GN1zvAmNEq17",
        "outputId": "901cf384-4a08-413b-f056-42482da1235d"
      },
      "source": [
        "# Get leaderboard to explore current best model architectures\n",
        "\n",
        "# Get raw data in pandas data frame\n",
        "data = mycompetition.get_leaderboard()\n",
        "\n",
        "# Stylize leaderboard data\n",
        "mycompetition.stylize_leaderboard(data)"
      ],
      "execution_count": 11,
      "outputs": [
        {
          "output_type": "execute_result",
          "data": {
            "text/html": [
              "<style type=\"text/css\">\n",
              "#T_0bbe7_row0_col0 {\n",
              "  text-align: center;\n",
              "  width: 10em;\n",
              "  height: 80%;\n",
              "  background: linear-gradient(90deg,#f5f8d6 85.3%, transparent 85.3%);\n",
              "  color: #251e1b;\n",
              "  font-size: 12px;\n",
              "}\n",
              "#T_0bbe7_row0_col1 {\n",
              "  text-align: center;\n",
              "  width: 10em;\n",
              "  height: 80%;\n",
              "  background: linear-gradient(90deg,#c778c8 85.3%, transparent 85.3%);\n",
              "  color: #251e1b;\n",
              "  font-size: 12px;\n",
              "}\n",
              "#T_0bbe7_row0_col2 {\n",
              "  text-align: center;\n",
              "  width: 10em;\n",
              "  height: 80%;\n",
              "  background: linear-gradient(90deg,#ff4971 85.3%, transparent 85.3%);\n",
              "  color: #251e1b;\n",
              "  font-size: 12px;\n",
              "}\n",
              "#T_0bbe7_row0_col3 {\n",
              "  text-align: center;\n",
              "  width: 10em;\n",
              "  height: 80%;\n",
              "  background: linear-gradient(90deg,#aadbaa 85.3%, transparent 85.3%);\n",
              "  color: #251e1b;\n",
              "  font-size: 12px;\n",
              "}\n",
              "#T_0bbe7_row0_col4, #T_0bbe7_row0_col5, #T_0bbe7_row0_col6, #T_0bbe7_row0_col7, #T_0bbe7_row0_col8, #T_0bbe7_row0_col9, #T_0bbe7_row0_col10, #T_0bbe7_row0_col11, #T_0bbe7_row0_col12, #T_0bbe7_row0_col13, #T_0bbe7_row0_col14, #T_0bbe7_row0_col15, #T_0bbe7_row0_col16, #T_0bbe7_row0_col17, #T_0bbe7_row0_col18, #T_0bbe7_row0_col19, #T_0bbe7_row0_col20, #T_0bbe7_row0_col21, #T_0bbe7_row1_col4, #T_0bbe7_row1_col5, #T_0bbe7_row1_col6, #T_0bbe7_row1_col7, #T_0bbe7_row1_col8, #T_0bbe7_row1_col9, #T_0bbe7_row1_col10, #T_0bbe7_row1_col11, #T_0bbe7_row1_col12, #T_0bbe7_row1_col13, #T_0bbe7_row1_col14, #T_0bbe7_row1_col15, #T_0bbe7_row1_col16, #T_0bbe7_row1_col17, #T_0bbe7_row1_col18, #T_0bbe7_row1_col19, #T_0bbe7_row1_col20, #T_0bbe7_row1_col21, #T_0bbe7_row2_col4, #T_0bbe7_row2_col5, #T_0bbe7_row2_col6, #T_0bbe7_row2_col7, #T_0bbe7_row2_col8, #T_0bbe7_row2_col9, #T_0bbe7_row2_col10, #T_0bbe7_row2_col11, #T_0bbe7_row2_col12, #T_0bbe7_row2_col13, #T_0bbe7_row2_col14, #T_0bbe7_row2_col15, #T_0bbe7_row2_col16, #T_0bbe7_row2_col17, #T_0bbe7_row2_col18, #T_0bbe7_row2_col19, #T_0bbe7_row2_col20, #T_0bbe7_row2_col21 {\n",
              "  text-align: center;\n",
              "}\n",
              "#T_0bbe7_row1_col0 {\n",
              "  text-align: center;\n",
              "  width: 10em;\n",
              "  height: 80%;\n",
              "  background: linear-gradient(90deg,#f5f8d6 84.7%, transparent 84.7%);\n",
              "  color: #251e1b;\n",
              "  font-size: 12px;\n",
              "}\n",
              "#T_0bbe7_row1_col1 {\n",
              "  text-align: center;\n",
              "  width: 10em;\n",
              "  height: 80%;\n",
              "  background: linear-gradient(90deg,#c778c8 84.7%, transparent 84.7%);\n",
              "  color: #251e1b;\n",
              "  font-size: 12px;\n",
              "}\n",
              "#T_0bbe7_row1_col2 {\n",
              "  text-align: center;\n",
              "  width: 10em;\n",
              "  height: 80%;\n",
              "  background: linear-gradient(90deg,#ff4971 85.0%, transparent 85.0%);\n",
              "  color: #251e1b;\n",
              "  font-size: 12px;\n",
              "}\n",
              "#T_0bbe7_row1_col3 {\n",
              "  text-align: center;\n",
              "  width: 10em;\n",
              "  height: 80%;\n",
              "  background: linear-gradient(90deg,#aadbaa 84.7%, transparent 84.7%);\n",
              "  color: #251e1b;\n",
              "  font-size: 12px;\n",
              "}\n",
              "#T_0bbe7_row2_col0 {\n",
              "  text-align: center;\n",
              "  width: 10em;\n",
              "  height: 80%;\n",
              "  background: linear-gradient(90deg,#f5f8d6 84.3%, transparent 84.3%);\n",
              "  color: #251e1b;\n",
              "  font-size: 12px;\n",
              "}\n",
              "#T_0bbe7_row2_col1 {\n",
              "  text-align: center;\n",
              "  width: 10em;\n",
              "  height: 80%;\n",
              "  background: linear-gradient(90deg,#c778c8 84.3%, transparent 84.3%);\n",
              "  color: #251e1b;\n",
              "  font-size: 12px;\n",
              "}\n",
              "#T_0bbe7_row2_col2 {\n",
              "  text-align: center;\n",
              "  width: 10em;\n",
              "  height: 80%;\n",
              "  background: linear-gradient(90deg,#ff4971 84.6%, transparent 84.6%);\n",
              "  color: #251e1b;\n",
              "  font-size: 12px;\n",
              "}\n",
              "#T_0bbe7_row2_col3 {\n",
              "  text-align: center;\n",
              "  width: 10em;\n",
              "  height: 80%;\n",
              "  background: linear-gradient(90deg,#aadbaa 84.3%, transparent 84.3%);\n",
              "  color: #251e1b;\n",
              "  font-size: 12px;\n",
              "}\n",
              "</style>\n",
              "<table id=\"T_0bbe7_\" class=\"dataframe\">\n",
              "  <thead>\n",
              "    <tr>\n",
              "      <th class=\"blank level0\" >&nbsp;</th>\n",
              "      <th class=\"col_heading level0 col0\" >accuracy</th>\n",
              "      <th class=\"col_heading level0 col1\" >f1_score</th>\n",
              "      <th class=\"col_heading level0 col2\" >precision</th>\n",
              "      <th class=\"col_heading level0 col3\" >recall</th>\n",
              "      <th class=\"col_heading level0 col4\" >ml_framework</th>\n",
              "      <th class=\"col_heading level0 col5\" >transfer_learning</th>\n",
              "      <th class=\"col_heading level0 col6\" >deep_learning</th>\n",
              "      <th class=\"col_heading level0 col7\" >model_type</th>\n",
              "      <th class=\"col_heading level0 col8\" >depth</th>\n",
              "      <th class=\"col_heading level0 col9\" >num_params</th>\n",
              "      <th class=\"col_heading level0 col10\" >lstm_layers</th>\n",
              "      <th class=\"col_heading level0 col11\" >flatten_layers</th>\n",
              "      <th class=\"col_heading level0 col12\" >embedding_layers</th>\n",
              "      <th class=\"col_heading level0 col13\" >dense_layers</th>\n",
              "      <th class=\"col_heading level0 col14\" >tanh_act</th>\n",
              "      <th class=\"col_heading level0 col15\" >softmax_act</th>\n",
              "      <th class=\"col_heading level0 col16\" >loss</th>\n",
              "      <th class=\"col_heading level0 col17\" >optimizer</th>\n",
              "      <th class=\"col_heading level0 col18\" >model_config</th>\n",
              "      <th class=\"col_heading level0 col19\" >memory_size</th>\n",
              "      <th class=\"col_heading level0 col20\" >username</th>\n",
              "      <th class=\"col_heading level0 col21\" >version</th>\n",
              "    </tr>\n",
              "  </thead>\n",
              "  <tbody>\n",
              "    <tr>\n",
              "      <th id=\"T_0bbe7_level0_row0\" class=\"row_heading level0 row0\" >0</th>\n",
              "      <td id=\"T_0bbe7_row0_col0\" class=\"data row0 col0\" >85.34%</td>\n",
              "      <td id=\"T_0bbe7_row0_col1\" class=\"data row0 col1\" >85.34%</td>\n",
              "      <td id=\"T_0bbe7_row0_col2\" class=\"data row0 col2\" >85.34%</td>\n",
              "      <td id=\"T_0bbe7_row0_col3\" class=\"data row0 col3\" >85.34%</td>\n",
              "      <td id=\"T_0bbe7_row0_col4\" class=\"data row0 col4\" >keras</td>\n",
              "      <td id=\"T_0bbe7_row0_col5\" class=\"data row0 col5\" >False</td>\n",
              "      <td id=\"T_0bbe7_row0_col6\" class=\"data row0 col6\" >True</td>\n",
              "      <td id=\"T_0bbe7_row0_col7\" class=\"data row0 col7\" >Sequential</td>\n",
              "      <td id=\"T_0bbe7_row0_col8\" class=\"data row0 col8\" >3</td>\n",
              "      <td id=\"T_0bbe7_row0_col9\" class=\"data row0 col9\" >83202</td>\n",
              "      <td id=\"T_0bbe7_row0_col10\" class=\"data row0 col10\" >nan</td>\n",
              "      <td id=\"T_0bbe7_row0_col11\" class=\"data row0 col11\" >1</td>\n",
              "      <td id=\"T_0bbe7_row0_col12\" class=\"data row0 col12\" >1</td>\n",
              "      <td id=\"T_0bbe7_row0_col13\" class=\"data row0 col13\" >1</td>\n",
              "      <td id=\"T_0bbe7_row0_col14\" class=\"data row0 col14\" >nan</td>\n",
              "      <td id=\"T_0bbe7_row0_col15\" class=\"data row0 col15\" >1</td>\n",
              "      <td id=\"T_0bbe7_row0_col16\" class=\"data row0 col16\" >str</td>\n",
              "      <td id=\"T_0bbe7_row0_col17\" class=\"data row0 col17\" >RMSprop</td>\n",
              "      <td id=\"T_0bbe7_row0_col18\" class=\"data row0 col18\" >{'name': 'sequential', 'layers...</td>\n",
              "      <td id=\"T_0bbe7_row0_col19\" class=\"data row0 col19\" >1412632</td>\n",
              "      <td id=\"T_0bbe7_row0_col20\" class=\"data row0 col20\" >AI_COMSW4701</td>\n",
              "      <td id=\"T_0bbe7_row0_col21\" class=\"data row0 col21\" >3</td>\n",
              "    </tr>\n",
              "    <tr>\n",
              "      <th id=\"T_0bbe7_level0_row1\" class=\"row_heading level0 row1\" >1</th>\n",
              "      <td id=\"T_0bbe7_row1_col0\" class=\"data row1 col0\" >84.72%</td>\n",
              "      <td id=\"T_0bbe7_row1_col1\" class=\"data row1 col1\" >84.69%</td>\n",
              "      <td id=\"T_0bbe7_row1_col2\" class=\"data row1 col2\" >85.02%</td>\n",
              "      <td id=\"T_0bbe7_row1_col3\" class=\"data row1 col3\" >84.72%</td>\n",
              "      <td id=\"T_0bbe7_row1_col4\" class=\"data row1 col4\" >keras</td>\n",
              "      <td id=\"T_0bbe7_row1_col5\" class=\"data row1 col5\" >False</td>\n",
              "      <td id=\"T_0bbe7_row1_col6\" class=\"data row1 col6\" >True</td>\n",
              "      <td id=\"T_0bbe7_row1_col7\" class=\"data row1 col7\" >Sequential</td>\n",
              "      <td id=\"T_0bbe7_row1_col8\" class=\"data row1 col8\" >3</td>\n",
              "      <td id=\"T_0bbe7_row1_col9\" class=\"data row1 col9\" >83202</td>\n",
              "      <td id=\"T_0bbe7_row1_col10\" class=\"data row1 col10\" >nan</td>\n",
              "      <td id=\"T_0bbe7_row1_col11\" class=\"data row1 col11\" >1</td>\n",
              "      <td id=\"T_0bbe7_row1_col12\" class=\"data row1 col12\" >1</td>\n",
              "      <td id=\"T_0bbe7_row1_col13\" class=\"data row1 col13\" >1</td>\n",
              "      <td id=\"T_0bbe7_row1_col14\" class=\"data row1 col14\" >nan</td>\n",
              "      <td id=\"T_0bbe7_row1_col15\" class=\"data row1 col15\" >1</td>\n",
              "      <td id=\"T_0bbe7_row1_col16\" class=\"data row1 col16\" >function</td>\n",
              "      <td id=\"T_0bbe7_row1_col17\" class=\"data row1 col17\" >RMSprop</td>\n",
              "      <td id=\"T_0bbe7_row1_col18\" class=\"data row1 col18\" >{'name': 'sequential_13', 'lay...</td>\n",
              "      <td id=\"T_0bbe7_row1_col19\" class=\"data row1 col19\" >146208</td>\n",
              "      <td id=\"T_0bbe7_row1_col20\" class=\"data row1 col20\" >AI_COMSW4701</td>\n",
              "      <td id=\"T_0bbe7_row1_col21\" class=\"data row1 col21\" >1</td>\n",
              "    </tr>\n",
              "    <tr>\n",
              "      <th id=\"T_0bbe7_level0_row2\" class=\"row_heading level0 row2\" >2</th>\n",
              "      <td id=\"T_0bbe7_row2_col0\" class=\"data row2 col0\" >84.33%</td>\n",
              "      <td id=\"T_0bbe7_row2_col1\" class=\"data row2 col1\" >84.30%</td>\n",
              "      <td id=\"T_0bbe7_row2_col2\" class=\"data row2 col2\" >84.62%</td>\n",
              "      <td id=\"T_0bbe7_row2_col3\" class=\"data row2 col3\" >84.33%</td>\n",
              "      <td id=\"T_0bbe7_row2_col4\" class=\"data row2 col4\" >keras</td>\n",
              "      <td id=\"T_0bbe7_row2_col5\" class=\"data row2 col5\" >False</td>\n",
              "      <td id=\"T_0bbe7_row2_col6\" class=\"data row2 col6\" >True</td>\n",
              "      <td id=\"T_0bbe7_row2_col7\" class=\"data row2 col7\" >Sequential</td>\n",
              "      <td id=\"T_0bbe7_row2_col8\" class=\"data row2 col8\" >4</td>\n",
              "      <td id=\"T_0bbe7_row2_col9\" class=\"data row2 col9\" >86338</td>\n",
              "      <td id=\"T_0bbe7_row2_col10\" class=\"data row2 col10\" >1.000000</td>\n",
              "      <td id=\"T_0bbe7_row2_col11\" class=\"data row2 col11\" >1</td>\n",
              "      <td id=\"T_0bbe7_row2_col12\" class=\"data row2 col12\" >1</td>\n",
              "      <td id=\"T_0bbe7_row2_col13\" class=\"data row2 col13\" >1</td>\n",
              "      <td id=\"T_0bbe7_row2_col14\" class=\"data row2 col14\" >1.000000</td>\n",
              "      <td id=\"T_0bbe7_row2_col15\" class=\"data row2 col15\" >1</td>\n",
              "      <td id=\"T_0bbe7_row2_col16\" class=\"data row2 col16\" >function</td>\n",
              "      <td id=\"T_0bbe7_row2_col17\" class=\"data row2 col17\" >RMSprop</td>\n",
              "      <td id=\"T_0bbe7_row2_col18\" class=\"data row2 col18\" >{'name': 'sequential_14', 'lay...</td>\n",
              "      <td id=\"T_0bbe7_row2_col19\" class=\"data row2 col19\" >1207288</td>\n",
              "      <td id=\"T_0bbe7_row2_col20\" class=\"data row2 col20\" >AI_COMSW4701</td>\n",
              "      <td id=\"T_0bbe7_row2_col21\" class=\"data row2 col21\" >2</td>\n",
              "    </tr>\n",
              "  </tbody>\n",
              "</table>\n"
            ],
            "text/plain": [
              "<pandas.io.formats.style.Styler at 0x7f96c70ed790>"
            ]
          },
          "metadata": {},
          "execution_count": 11
        }
      ]
    },
    {
      "cell_type": "markdown",
      "metadata": {
        "id": "bwNKs0wP4r5s"
      },
      "source": [
        "## 5. Repeat submission process to improve place on leaderboard\n"
      ]
    },
    {
      "cell_type": "code",
      "metadata": {
        "colab": {
          "base_uri": "https://localhost:8080/"
        },
        "id": "FgSs5PAtPCZH",
        "outputId": "682cdf34-ecd4-4b9a-c6d3-cc27071a7054"
      },
      "source": [
        "# Train and submit model 2 using same preprocessor (note that you could save a new preprocessor, but we will use the same one for this example).\n",
        "from tensorflow.keras.models import Sequential\n",
        "from tensorflow.keras.layers import Dense, Embedding, LSTM, Flatten\n",
        "\n",
        "model2 = Sequential()\n",
        "model2.add(Embedding(5000, 16, input_length=100))\n",
        "model2.add(LSTM(32, return_sequences=True, dropout=0.2))\n",
        "model2.add(LSTM(32, dropout=0.2))\n",
        "model2.add(Flatten())\n",
        "model2.add(Dense(2, activation='softmax'))\n",
        "\n",
        "model2.compile(optimizer='rmsprop', loss='binary_crossentropy', metrics=['acc'])\n",
        "history = model2.fit(preprocessor(X_train), y_train,\n",
        "                    epochs=1,\n",
        "                    batch_size=32,\n",
        "                    validation_split=0.2)"
      ],
      "execution_count": 12,
      "outputs": [
        {
          "output_type": "stream",
          "name": "stdout",
          "text": [
            "938/938 [==============================] - 84s 86ms/step - loss: 0.4288 - acc: 0.7978 - val_loss: 0.3327 - val_acc: 0.8548\n"
          ]
        }
      ]
    },
    {
      "cell_type": "code",
      "metadata": {
        "id": "aIdmSpYVPYAw"
      },
      "source": [
        "# Save keras model to local ONNX file\n",
        "from aimodelshare.aimsonnx import model_to_onnx\n",
        "\n",
        "onnx_model = model_to_onnx(model2, framework='keras',\n",
        "                          transfer_learning=False,\n",
        "                          deep_learning=True)\n",
        "\n",
        "with open(\"model2.onnx\", \"wb\") as f:\n",
        "    f.write(onnx_model.SerializeToString())"
      ],
      "execution_count": 13,
      "outputs": []
    },
    {
      "cell_type": "code",
      "metadata": {
        "colab": {
          "base_uri": "https://localhost:8080/"
        },
        "id": "nszPPrfwPlUk",
        "outputId": "b010812e-6e57-4983-d04f-2c252cb826ef"
      },
      "source": [
        "#Submit Model 2: \n",
        "\n",
        "#-- Generate predicted y values (Model 2)\n",
        "prediction_column_index=model2.predict(preprocessor(X_test)).argmax(axis=1)\n",
        "\n",
        "# extract correct prediction labels \n",
        "prediction_labels = [y_train.columns[i] for i in prediction_column_index]\n",
        "\n",
        "# Submit Model 2 to Competition Leaderboard\n",
        "mycompetition.submit_model(model_filepath = \"model2.onnx\",\n",
        "                                 preprocessor_filepath=\"preprocessor.zip\",\n",
        "                                 prediction_submission=prediction_labels)"
      ],
      "execution_count": 14,
      "outputs": [
        {
          "output_type": "stream",
          "name": "stdout",
          "text": [
            "Insert search tags to help users find your model (optional): \n",
            "Provide any useful notes about your model (optional): \n",
            "\n",
            "Your model has been submitted as model version 4\n",
            "\n",
            "To submit code used to create this model or to view current leaderboard navigate to Model Playground: \n",
            "\n",
            " https://www.modelshare.org/detail/model:1376\n"
          ]
        }
      ]
    },
    {
      "cell_type": "code",
      "metadata": {
        "colab": {
          "base_uri": "https://localhost:8080/",
          "height": 144
        },
        "id": "qLl7yLpVEx26",
        "outputId": "5dd4f86c-26da-4236-a05a-cce171940b27"
      },
      "source": [
        "# Compare two or more models\n",
        "data=mycompetition.compare_models([3, 4], verbose=1)\n",
        "mycompetition.stylize_compare(data)"
      ],
      "execution_count": 15,
      "outputs": [
        {
          "output_type": "display_data",
          "data": {
            "text/html": [
              "<style type=\"text/css\">\n",
              "#T_050ed_ caption {\n",
              "  color: black;\n",
              "  font-size: 18px;\n",
              "}\n",
              "#T_050ed_row0_col0, #T_050ed_row0_col3 {\n",
              "  background: #f4cae4;\n",
              "  color: black;\n",
              "  color: black;\n",
              "}\n",
              "#T_050ed_row0_col1, #T_050ed_row0_col2, #T_050ed_row0_col4, #T_050ed_row0_col5, #T_050ed_row1_col1, #T_050ed_row1_col2, #T_050ed_row1_col4, #T_050ed_row1_col5, #T_050ed_row2_col1, #T_050ed_row2_col2, #T_050ed_row2_col4, #T_050ed_row2_col5, #T_050ed_row3_col0, #T_050ed_row3_col1, #T_050ed_row3_col2, #T_050ed_row3_col4, #T_050ed_row3_col5, #T_050ed_row4_col0, #T_050ed_row4_col1, #T_050ed_row4_col2, #T_050ed_row4_col4, #T_050ed_row4_col5 {\n",
              "  background: white;\n",
              "  color: black;\n",
              "  color: black;\n",
              "}\n",
              "#T_050ed_row1_col0, #T_050ed_row3_col3 {\n",
              "  background: #e6f5c9;\n",
              "  color: black;\n",
              "  color: black;\n",
              "}\n",
              "#T_050ed_row1_col3, #T_050ed_row2_col3 {\n",
              "  background: #cbd5e8;\n",
              "  color: black;\n",
              "  color: black;\n",
              "}\n",
              "#T_050ed_row2_col0, #T_050ed_row4_col3 {\n",
              "  background: #fff2ae;\n",
              "  color: black;\n",
              "  color: black;\n",
              "}\n",
              "</style>\n",
              "<table id=\"T_050ed_\">\n",
              "  <caption>Model type: Neural Network</caption>\n",
              "  <thead>\n",
              "    <tr>\n",
              "      <th class=\"blank level0\" >&nbsp;</th>\n",
              "      <th class=\"col_heading level0 col0\" >Model_3_Layer</th>\n",
              "      <th class=\"col_heading level0 col1\" >Model_3_Shape</th>\n",
              "      <th class=\"col_heading level0 col2\" >Model_3_Params</th>\n",
              "      <th class=\"col_heading level0 col3\" >Model_4_Layer</th>\n",
              "      <th class=\"col_heading level0 col4\" >Model_4_Shape</th>\n",
              "      <th class=\"col_heading level0 col5\" >Model_4_Params</th>\n",
              "    </tr>\n",
              "  </thead>\n",
              "  <tbody>\n",
              "    <tr>\n",
              "      <th id=\"T_050ed_level0_row0\" class=\"row_heading level0 row0\" >0</th>\n",
              "      <td id=\"T_050ed_row0_col0\" class=\"data row0 col0\" >Embedding</td>\n",
              "      <td id=\"T_050ed_row0_col1\" class=\"data row0 col1\" >[None, 100, 16]</td>\n",
              "      <td id=\"T_050ed_row0_col2\" class=\"data row0 col2\" >80000.000000</td>\n",
              "      <td id=\"T_050ed_row0_col3\" class=\"data row0 col3\" >Embedding</td>\n",
              "      <td id=\"T_050ed_row0_col4\" class=\"data row0 col4\" >[None, 100, 16]</td>\n",
              "      <td id=\"T_050ed_row0_col5\" class=\"data row0 col5\" >80000</td>\n",
              "    </tr>\n",
              "    <tr>\n",
              "      <th id=\"T_050ed_level0_row1\" class=\"row_heading level0 row1\" >1</th>\n",
              "      <td id=\"T_050ed_row1_col0\" class=\"data row1 col0\" >Flatten</td>\n",
              "      <td id=\"T_050ed_row1_col1\" class=\"data row1 col1\" >[None, 1600]</td>\n",
              "      <td id=\"T_050ed_row1_col2\" class=\"data row1 col2\" >0.000000</td>\n",
              "      <td id=\"T_050ed_row1_col3\" class=\"data row1 col3\" >LSTM</td>\n",
              "      <td id=\"T_050ed_row1_col4\" class=\"data row1 col4\" >[None, 100, 32]</td>\n",
              "      <td id=\"T_050ed_row1_col5\" class=\"data row1 col5\" >6272</td>\n",
              "    </tr>\n",
              "    <tr>\n",
              "      <th id=\"T_050ed_level0_row2\" class=\"row_heading level0 row2\" >2</th>\n",
              "      <td id=\"T_050ed_row2_col0\" class=\"data row2 col0\" >Dense</td>\n",
              "      <td id=\"T_050ed_row2_col1\" class=\"data row2 col1\" >[None, 2]</td>\n",
              "      <td id=\"T_050ed_row2_col2\" class=\"data row2 col2\" >3202.000000</td>\n",
              "      <td id=\"T_050ed_row2_col3\" class=\"data row2 col3\" >LSTM</td>\n",
              "      <td id=\"T_050ed_row2_col4\" class=\"data row2 col4\" >[None, 32]</td>\n",
              "      <td id=\"T_050ed_row2_col5\" class=\"data row2 col5\" >8320</td>\n",
              "    </tr>\n",
              "    <tr>\n",
              "      <th id=\"T_050ed_level0_row3\" class=\"row_heading level0 row3\" >3</th>\n",
              "      <td id=\"T_050ed_row3_col0\" class=\"data row3 col0\" >None</td>\n",
              "      <td id=\"T_050ed_row3_col1\" class=\"data row3 col1\" >None</td>\n",
              "      <td id=\"T_050ed_row3_col2\" class=\"data row3 col2\" >nan</td>\n",
              "      <td id=\"T_050ed_row3_col3\" class=\"data row3 col3\" >Flatten</td>\n",
              "      <td id=\"T_050ed_row3_col4\" class=\"data row3 col4\" >[None, 32]</td>\n",
              "      <td id=\"T_050ed_row3_col5\" class=\"data row3 col5\" >0</td>\n",
              "    </tr>\n",
              "    <tr>\n",
              "      <th id=\"T_050ed_level0_row4\" class=\"row_heading level0 row4\" >4</th>\n",
              "      <td id=\"T_050ed_row4_col0\" class=\"data row4 col0\" >None</td>\n",
              "      <td id=\"T_050ed_row4_col1\" class=\"data row4 col1\" >None</td>\n",
              "      <td id=\"T_050ed_row4_col2\" class=\"data row4 col2\" >nan</td>\n",
              "      <td id=\"T_050ed_row4_col3\" class=\"data row4 col3\" >Dense</td>\n",
              "      <td id=\"T_050ed_row4_col4\" class=\"data row4 col4\" >[None, 2]</td>\n",
              "      <td id=\"T_050ed_row4_col5\" class=\"data row4 col5\" >66</td>\n",
              "    </tr>\n",
              "  </tbody>\n",
              "</table>\n"
            ],
            "text/plain": [
              "<IPython.core.display.HTML object>"
            ]
          },
          "metadata": {}
        }
      ]
    },
    {
      "cell_type": "markdown",
      "metadata": {
        "id": "Pl67bOO-lz9k"
      },
      "source": [
        "## Optional: Tune model within range of hyperparameters with Keras Tuner\n",
        "\n",
        "*Simple example shown below. Consult [documentation](https://keras.io/guides/keras_tuner/getting_started/) to see full functionality.*"
      ]
    },
    {
      "cell_type": "code",
      "metadata": {
        "id": "MOGXwppct0KI"
      },
      "source": [
        "! pip install keras_tuner"
      ],
      "execution_count": null,
      "outputs": []
    },
    {
      "cell_type": "code",
      "metadata": {
        "id": "O7o_zA3fv-ra"
      },
      "source": [
        "#Separate validation data \n",
        "from sklearn.model_selection import train_test_split\n",
        "x_train_split, x_val, y_train_split, y_val = train_test_split(\n",
        "     X_train, y_train, test_size=0.2, random_state=42)"
      ],
      "execution_count": 17,
      "outputs": []
    },
    {
      "cell_type": "code",
      "metadata": {
        "colab": {
          "base_uri": "https://localhost:8080/"
        },
        "id": "olzZ7aposfwH",
        "outputId": "a5f15af7-28f6-4f23-aae9-f102e9017e07"
      },
      "source": [
        "from tensorflow import keras\n",
        "from tensorflow.keras.models import Sequential\n",
        "from tensorflow.keras.layers import Dense, Embedding, LSTM, Flatten\n",
        "import keras_tuner as kt\n",
        "\n",
        "#Define model structure & parameter search space with function\n",
        "def build_model(hp):\n",
        "    model = keras.Sequential()\n",
        "    model.add(Embedding(5000, 16, input_length=100))\n",
        "    model.add(LSTM(units=hp.Int(\"units\", min_value=32, max_value=512, step=32), #range 32-512 inclusive, minimum step between tested values is 32\n",
        "                   return_sequences=True, dropout=0.2))\n",
        "    model.add(Flatten())\n",
        "    model.add(Dense(2, activation='softmax'))\n",
        "    model.compile(\n",
        "        optimizer=\"rmsprop\", loss=\"binary_crossentropy\", metrics=[\"accuracy\"],\n",
        "    )\n",
        "    return model\n",
        "\n",
        "#initialize the tuner (which will search through parameters)\n",
        "tuner = kt.RandomSearch(\n",
        "    hypermodel=build_model, \n",
        "    objective=\"val_accuracy\", # objective to optimize\n",
        "    max_trials=3, #max number of trials to run during search\n",
        "    executions_per_trial=1, #higher number reduces variance of results; guages model performance more accurately \n",
        "    overwrite=True,\n",
        "    directory=\"tuning_model\",\n",
        "    project_name=\"tuning_units\",\n",
        ")\n",
        "\n",
        "tuner.search(preprocessor(x_train_split), y_train_split, epochs=1, validation_data=(preprocessor(x_val), y_val))\n"
      ],
      "execution_count": 18,
      "outputs": [
        {
          "output_type": "stream",
          "name": "stdout",
          "text": [
            "Trial 3 Complete [00h 03m 12s]\n",
            "val_accuracy: 0.8435999751091003\n",
            "\n",
            "Best val_accuracy So Far: 0.8623999953269958\n",
            "Total elapsed time: 00h 24m 58s\n"
          ]
        }
      ]
    },
    {
      "cell_type": "code",
      "metadata": {
        "colab": {
          "base_uri": "https://localhost:8080/"
        },
        "id": "0YaEbvJ2yND1",
        "outputId": "e793150f-1623-43dd-f8a3-cffe17cbffb9"
      },
      "source": [
        "# Build model with best hyperparameters\n",
        "\n",
        "# Get the top 2 hyperparameters.\n",
        "best_hps = tuner.get_best_hyperparameters(5)\n",
        "# Build the model with the best hp.\n",
        "tuned_model = build_model(best_hps[0])\n",
        "# Fit with the entire dataset.\n",
        "tuned_model.fit(x=preprocessor(X_train), y=y_train, epochs=1)\n"
      ],
      "execution_count": 19,
      "outputs": [
        {
          "output_type": "stream",
          "name": "stdout",
          "text": [
            "1172/1172 [==============================] - 334s 283ms/step - loss: 0.4007 - accuracy: 0.8129\n"
          ]
        },
        {
          "output_type": "execute_result",
          "data": {
            "text/plain": [
              "<keras.callbacks.History at 0x7f95b39ae510>"
            ]
          },
          "metadata": {},
          "execution_count": 19
        }
      ]
    },
    {
      "cell_type": "code",
      "metadata": {
        "id": "HvLuIvOjHLH2"
      },
      "source": [
        "# Save keras model to local ONNX file\n",
        "from aimodelshare.aimsonnx import model_to_onnx\n",
        "\n",
        "onnx_model = model_to_onnx(tuned_model, framework='keras',\n",
        "                          transfer_learning=False,\n",
        "                          deep_learning=True)\n",
        "\n",
        "with open(\"tuned_model.onnx\", \"wb\") as f:\n",
        "    f.write(onnx_model.SerializeToString())"
      ],
      "execution_count": 20,
      "outputs": []
    },
    {
      "cell_type": "code",
      "metadata": {
        "colab": {
          "base_uri": "https://localhost:8080/"
        },
        "id": "sMidHABfHVN7",
        "outputId": "6f3debe7-369d-45a6-c00c-76656b9b1067"
      },
      "source": [
        "#Submit Model 3: \n",
        "\n",
        "#-- Generate predicted y values (Model 3)\n",
        "prediction_column_index=tuned_model.predict(preprocessor(X_test)).argmax(axis=1)\n",
        "\n",
        "# extract correct prediction labels \n",
        "prediction_labels = [y_train.columns[i] for i in prediction_column_index]\n",
        "\n",
        "# Submit Model 1 to Competition Leaderboard\n",
        "mycompetition.submit_model(model_filepath = \"tuned_model.onnx\",\n",
        "                                 preprocessor_filepath=\"preprocessor.zip\",\n",
        "                                 prediction_submission=prediction_labels)"
      ],
      "execution_count": 21,
      "outputs": [
        {
          "output_type": "stream",
          "name": "stdout",
          "text": [
            "Insert search tags to help users find your model (optional): \n",
            "Provide any useful notes about your model (optional): \n",
            "\n",
            "Your model has been submitted as model version 5\n",
            "\n",
            "To submit code used to create this model or to view current leaderboard navigate to Model Playground: \n",
            "\n",
            " https://www.modelshare.org/detail/model:1376\n"
          ]
        }
      ]
    },
    {
      "cell_type": "code",
      "metadata": {
        "colab": {
          "base_uri": "https://localhost:8080/",
          "height": 327
        },
        "id": "hn-Tp-zpJVGT",
        "outputId": "0a61d30b-0a05-4a6f-f219-6138804e2c62"
      },
      "source": [
        "# Get leaderboard\n",
        "\n",
        "data = mycompetition.get_leaderboard()\n",
        "mycompetition.stylize_leaderboard(data)"
      ],
      "execution_count": 22,
      "outputs": [
        {
          "output_type": "execute_result",
          "data": {
            "text/html": [
              "<style type=\"text/css\">\n",
              "#T_03c2f_row0_col0 {\n",
              "  text-align: center;\n",
              "  width: 10em;\n",
              "  height: 80%;\n",
              "  background: linear-gradient(90deg,#f5f8d6 86.3%, transparent 86.3%);\n",
              "  color: #251e1b;\n",
              "  font-size: 12px;\n",
              "}\n",
              "#T_03c2f_row0_col1 {\n",
              "  text-align: center;\n",
              "  width: 10em;\n",
              "  height: 80%;\n",
              "  background: linear-gradient(90deg,#c778c8 86.3%, transparent 86.3%);\n",
              "  color: #251e1b;\n",
              "  font-size: 12px;\n",
              "}\n",
              "#T_03c2f_row0_col2 {\n",
              "  text-align: center;\n",
              "  width: 10em;\n",
              "  height: 80%;\n",
              "  background: linear-gradient(90deg,#ff4971 86.3%, transparent 86.3%);\n",
              "  color: #251e1b;\n",
              "  font-size: 12px;\n",
              "}\n",
              "#T_03c2f_row0_col3 {\n",
              "  text-align: center;\n",
              "  width: 10em;\n",
              "  height: 80%;\n",
              "  background: linear-gradient(90deg,#aadbaa 86.3%, transparent 86.3%);\n",
              "  color: #251e1b;\n",
              "  font-size: 12px;\n",
              "}\n",
              "#T_03c2f_row0_col4, #T_03c2f_row0_col5, #T_03c2f_row0_col6, #T_03c2f_row0_col7, #T_03c2f_row0_col8, #T_03c2f_row0_col9, #T_03c2f_row0_col10, #T_03c2f_row0_col11, #T_03c2f_row0_col12, #T_03c2f_row0_col13, #T_03c2f_row0_col14, #T_03c2f_row0_col15, #T_03c2f_row0_col16, #T_03c2f_row0_col17, #T_03c2f_row0_col18, #T_03c2f_row0_col19, #T_03c2f_row0_col20, #T_03c2f_row0_col21, #T_03c2f_row1_col4, #T_03c2f_row1_col5, #T_03c2f_row1_col6, #T_03c2f_row1_col7, #T_03c2f_row1_col8, #T_03c2f_row1_col9, #T_03c2f_row1_col10, #T_03c2f_row1_col11, #T_03c2f_row1_col12, #T_03c2f_row1_col13, #T_03c2f_row1_col14, #T_03c2f_row1_col15, #T_03c2f_row1_col16, #T_03c2f_row1_col17, #T_03c2f_row1_col18, #T_03c2f_row1_col19, #T_03c2f_row1_col20, #T_03c2f_row1_col21, #T_03c2f_row2_col4, #T_03c2f_row2_col5, #T_03c2f_row2_col6, #T_03c2f_row2_col7, #T_03c2f_row2_col8, #T_03c2f_row2_col9, #T_03c2f_row2_col10, #T_03c2f_row2_col11, #T_03c2f_row2_col12, #T_03c2f_row2_col13, #T_03c2f_row2_col14, #T_03c2f_row2_col15, #T_03c2f_row2_col16, #T_03c2f_row2_col17, #T_03c2f_row2_col18, #T_03c2f_row2_col19, #T_03c2f_row2_col20, #T_03c2f_row2_col21, #T_03c2f_row3_col4, #T_03c2f_row3_col5, #T_03c2f_row3_col6, #T_03c2f_row3_col7, #T_03c2f_row3_col8, #T_03c2f_row3_col9, #T_03c2f_row3_col10, #T_03c2f_row3_col11, #T_03c2f_row3_col12, #T_03c2f_row3_col13, #T_03c2f_row3_col14, #T_03c2f_row3_col15, #T_03c2f_row3_col16, #T_03c2f_row3_col17, #T_03c2f_row3_col18, #T_03c2f_row3_col19, #T_03c2f_row3_col20, #T_03c2f_row3_col21, #T_03c2f_row4_col4, #T_03c2f_row4_col5, #T_03c2f_row4_col6, #T_03c2f_row4_col7, #T_03c2f_row4_col8, #T_03c2f_row4_col9, #T_03c2f_row4_col10, #T_03c2f_row4_col11, #T_03c2f_row4_col12, #T_03c2f_row4_col13, #T_03c2f_row4_col14, #T_03c2f_row4_col15, #T_03c2f_row4_col16, #T_03c2f_row4_col17, #T_03c2f_row4_col18, #T_03c2f_row4_col19, #T_03c2f_row4_col20, #T_03c2f_row4_col21 {\n",
              "  text-align: center;\n",
              "}\n",
              "#T_03c2f_row1_col0 {\n",
              "  text-align: center;\n",
              "  width: 10em;\n",
              "  height: 80%;\n",
              "  background: linear-gradient(90deg,#f5f8d6 85.3%, transparent 85.3%);\n",
              "  color: #251e1b;\n",
              "  font-size: 12px;\n",
              "}\n",
              "#T_03c2f_row1_col1 {\n",
              "  text-align: center;\n",
              "  width: 10em;\n",
              "  height: 80%;\n",
              "  background: linear-gradient(90deg,#c778c8 85.3%, transparent 85.3%);\n",
              "  color: #251e1b;\n",
              "  font-size: 12px;\n",
              "}\n",
              "#T_03c2f_row1_col2, #T_03c2f_row2_col2 {\n",
              "  text-align: center;\n",
              "  width: 10em;\n",
              "  height: 80%;\n",
              "  background: linear-gradient(90deg,#ff4971 85.3%, transparent 85.3%);\n",
              "  color: #251e1b;\n",
              "  font-size: 12px;\n",
              "}\n",
              "#T_03c2f_row1_col3 {\n",
              "  text-align: center;\n",
              "  width: 10em;\n",
              "  height: 80%;\n",
              "  background: linear-gradient(90deg,#aadbaa 85.3%, transparent 85.3%);\n",
              "  color: #251e1b;\n",
              "  font-size: 12px;\n",
              "}\n",
              "#T_03c2f_row2_col0 {\n",
              "  text-align: center;\n",
              "  width: 10em;\n",
              "  height: 80%;\n",
              "  background: linear-gradient(90deg,#f5f8d6 85.0%, transparent 85.0%);\n",
              "  color: #251e1b;\n",
              "  font-size: 12px;\n",
              "}\n",
              "#T_03c2f_row2_col1 {\n",
              "  text-align: center;\n",
              "  width: 10em;\n",
              "  height: 80%;\n",
              "  background: linear-gradient(90deg,#c778c8 85.0%, transparent 85.0%);\n",
              "  color: #251e1b;\n",
              "  font-size: 12px;\n",
              "}\n",
              "#T_03c2f_row2_col3 {\n",
              "  text-align: center;\n",
              "  width: 10em;\n",
              "  height: 80%;\n",
              "  background: linear-gradient(90deg,#aadbaa 85.0%, transparent 85.0%);\n",
              "  color: #251e1b;\n",
              "  font-size: 12px;\n",
              "}\n",
              "#T_03c2f_row3_col0 {\n",
              "  text-align: center;\n",
              "  width: 10em;\n",
              "  height: 80%;\n",
              "  background: linear-gradient(90deg,#f5f8d6 84.7%, transparent 84.7%);\n",
              "  color: #251e1b;\n",
              "  font-size: 12px;\n",
              "}\n",
              "#T_03c2f_row3_col1 {\n",
              "  text-align: center;\n",
              "  width: 10em;\n",
              "  height: 80%;\n",
              "  background: linear-gradient(90deg,#c778c8 84.7%, transparent 84.7%);\n",
              "  color: #251e1b;\n",
              "  font-size: 12px;\n",
              "}\n",
              "#T_03c2f_row3_col2 {\n",
              "  text-align: center;\n",
              "  width: 10em;\n",
              "  height: 80%;\n",
              "  background: linear-gradient(90deg,#ff4971 85.0%, transparent 85.0%);\n",
              "  color: #251e1b;\n",
              "  font-size: 12px;\n",
              "}\n",
              "#T_03c2f_row3_col3 {\n",
              "  text-align: center;\n",
              "  width: 10em;\n",
              "  height: 80%;\n",
              "  background: linear-gradient(90deg,#aadbaa 84.7%, transparent 84.7%);\n",
              "  color: #251e1b;\n",
              "  font-size: 12px;\n",
              "}\n",
              "#T_03c2f_row4_col0 {\n",
              "  text-align: center;\n",
              "  width: 10em;\n",
              "  height: 80%;\n",
              "  background: linear-gradient(90deg,#f5f8d6 84.3%, transparent 84.3%);\n",
              "  color: #251e1b;\n",
              "  font-size: 12px;\n",
              "}\n",
              "#T_03c2f_row4_col1 {\n",
              "  text-align: center;\n",
              "  width: 10em;\n",
              "  height: 80%;\n",
              "  background: linear-gradient(90deg,#c778c8 84.3%, transparent 84.3%);\n",
              "  color: #251e1b;\n",
              "  font-size: 12px;\n",
              "}\n",
              "#T_03c2f_row4_col2 {\n",
              "  text-align: center;\n",
              "  width: 10em;\n",
              "  height: 80%;\n",
              "  background: linear-gradient(90deg,#ff4971 84.6%, transparent 84.6%);\n",
              "  color: #251e1b;\n",
              "  font-size: 12px;\n",
              "}\n",
              "#T_03c2f_row4_col3 {\n",
              "  text-align: center;\n",
              "  width: 10em;\n",
              "  height: 80%;\n",
              "  background: linear-gradient(90deg,#aadbaa 84.3%, transparent 84.3%);\n",
              "  color: #251e1b;\n",
              "  font-size: 12px;\n",
              "}\n",
              "</style>\n",
              "<table id=\"T_03c2f_\" class=\"dataframe\">\n",
              "  <thead>\n",
              "    <tr>\n",
              "      <th class=\"blank level0\" >&nbsp;</th>\n",
              "      <th class=\"col_heading level0 col0\" >accuracy</th>\n",
              "      <th class=\"col_heading level0 col1\" >f1_score</th>\n",
              "      <th class=\"col_heading level0 col2\" >precision</th>\n",
              "      <th class=\"col_heading level0 col3\" >recall</th>\n",
              "      <th class=\"col_heading level0 col4\" >ml_framework</th>\n",
              "      <th class=\"col_heading level0 col5\" >transfer_learning</th>\n",
              "      <th class=\"col_heading level0 col6\" >deep_learning</th>\n",
              "      <th class=\"col_heading level0 col7\" >model_type</th>\n",
              "      <th class=\"col_heading level0 col8\" >depth</th>\n",
              "      <th class=\"col_heading level0 col9\" >num_params</th>\n",
              "      <th class=\"col_heading level0 col10\" >lstm_layers</th>\n",
              "      <th class=\"col_heading level0 col11\" >flatten_layers</th>\n",
              "      <th class=\"col_heading level0 col12\" >embedding_layers</th>\n",
              "      <th class=\"col_heading level0 col13\" >dense_layers</th>\n",
              "      <th class=\"col_heading level0 col14\" >tanh_act</th>\n",
              "      <th class=\"col_heading level0 col15\" >softmax_act</th>\n",
              "      <th class=\"col_heading level0 col16\" >loss</th>\n",
              "      <th class=\"col_heading level0 col17\" >optimizer</th>\n",
              "      <th class=\"col_heading level0 col18\" >model_config</th>\n",
              "      <th class=\"col_heading level0 col19\" >memory_size</th>\n",
              "      <th class=\"col_heading level0 col20\" >username</th>\n",
              "      <th class=\"col_heading level0 col21\" >version</th>\n",
              "    </tr>\n",
              "  </thead>\n",
              "  <tbody>\n",
              "    <tr>\n",
              "      <th id=\"T_03c2f_level0_row0\" class=\"row_heading level0 row0\" >0</th>\n",
              "      <td id=\"T_03c2f_row0_col0\" class=\"data row0 col0\" >86.32%</td>\n",
              "      <td id=\"T_03c2f_row0_col1\" class=\"data row0 col1\" >86.32%</td>\n",
              "      <td id=\"T_03c2f_row0_col2\" class=\"data row0 col2\" >86.33%</td>\n",
              "      <td id=\"T_03c2f_row0_col3\" class=\"data row0 col3\" >86.32%</td>\n",
              "      <td id=\"T_03c2f_row0_col4\" class=\"data row0 col4\" >keras</td>\n",
              "      <td id=\"T_03c2f_row0_col5\" class=\"data row0 col5\" >False</td>\n",
              "      <td id=\"T_03c2f_row0_col6\" class=\"data row0 col6\" >True</td>\n",
              "      <td id=\"T_03c2f_row0_col7\" class=\"data row0 col7\" >Sequential</td>\n",
              "      <td id=\"T_03c2f_row0_col8\" class=\"data row0 col8\" >4</td>\n",
              "      <td id=\"T_03c2f_row0_col9\" class=\"data row0 col9\" >410754</td>\n",
              "      <td id=\"T_03c2f_row0_col10\" class=\"data row0 col10\" >1.000000</td>\n",
              "      <td id=\"T_03c2f_row0_col11\" class=\"data row0 col11\" >1</td>\n",
              "      <td id=\"T_03c2f_row0_col12\" class=\"data row0 col12\" >1</td>\n",
              "      <td id=\"T_03c2f_row0_col13\" class=\"data row0 col13\" >1</td>\n",
              "      <td id=\"T_03c2f_row0_col14\" class=\"data row0 col14\" >1.000000</td>\n",
              "      <td id=\"T_03c2f_row0_col15\" class=\"data row0 col15\" >1</td>\n",
              "      <td id=\"T_03c2f_row0_col16\" class=\"data row0 col16\" >str</td>\n",
              "      <td id=\"T_03c2f_row0_col17\" class=\"data row0 col17\" >RMSprop</td>\n",
              "      <td id=\"T_03c2f_row0_col18\" class=\"data row0 col18\" >{'name': 'sequential_1', 'laye...</td>\n",
              "      <td id=\"T_03c2f_row0_col19\" class=\"data row0 col19\" >6524960</td>\n",
              "      <td id=\"T_03c2f_row0_col20\" class=\"data row0 col20\" >AI_COMSW4701</td>\n",
              "      <td id=\"T_03c2f_row0_col21\" class=\"data row0 col21\" >5</td>\n",
              "    </tr>\n",
              "    <tr>\n",
              "      <th id=\"T_03c2f_level0_row1\" class=\"row_heading level0 row1\" >1</th>\n",
              "      <td id=\"T_03c2f_row1_col0\" class=\"data row1 col0\" >85.34%</td>\n",
              "      <td id=\"T_03c2f_row1_col1\" class=\"data row1 col1\" >85.34%</td>\n",
              "      <td id=\"T_03c2f_row1_col2\" class=\"data row1 col2\" >85.34%</td>\n",
              "      <td id=\"T_03c2f_row1_col3\" class=\"data row1 col3\" >85.34%</td>\n",
              "      <td id=\"T_03c2f_row1_col4\" class=\"data row1 col4\" >keras</td>\n",
              "      <td id=\"T_03c2f_row1_col5\" class=\"data row1 col5\" >False</td>\n",
              "      <td id=\"T_03c2f_row1_col6\" class=\"data row1 col6\" >True</td>\n",
              "      <td id=\"T_03c2f_row1_col7\" class=\"data row1 col7\" >Sequential</td>\n",
              "      <td id=\"T_03c2f_row1_col8\" class=\"data row1 col8\" >3</td>\n",
              "      <td id=\"T_03c2f_row1_col9\" class=\"data row1 col9\" >83202</td>\n",
              "      <td id=\"T_03c2f_row1_col10\" class=\"data row1 col10\" >nan</td>\n",
              "      <td id=\"T_03c2f_row1_col11\" class=\"data row1 col11\" >1</td>\n",
              "      <td id=\"T_03c2f_row1_col12\" class=\"data row1 col12\" >1</td>\n",
              "      <td id=\"T_03c2f_row1_col13\" class=\"data row1 col13\" >1</td>\n",
              "      <td id=\"T_03c2f_row1_col14\" class=\"data row1 col14\" >nan</td>\n",
              "      <td id=\"T_03c2f_row1_col15\" class=\"data row1 col15\" >1</td>\n",
              "      <td id=\"T_03c2f_row1_col16\" class=\"data row1 col16\" >str</td>\n",
              "      <td id=\"T_03c2f_row1_col17\" class=\"data row1 col17\" >RMSprop</td>\n",
              "      <td id=\"T_03c2f_row1_col18\" class=\"data row1 col18\" >{'name': 'sequential', 'layers...</td>\n",
              "      <td id=\"T_03c2f_row1_col19\" class=\"data row1 col19\" >1412632</td>\n",
              "      <td id=\"T_03c2f_row1_col20\" class=\"data row1 col20\" >AI_COMSW4701</td>\n",
              "      <td id=\"T_03c2f_row1_col21\" class=\"data row1 col21\" >3</td>\n",
              "    </tr>\n",
              "    <tr>\n",
              "      <th id=\"T_03c2f_level0_row2\" class=\"row_heading level0 row2\" >2</th>\n",
              "      <td id=\"T_03c2f_row2_col0\" class=\"data row2 col0\" >84.99%</td>\n",
              "      <td id=\"T_03c2f_row2_col1\" class=\"data row2 col1\" >84.96%</td>\n",
              "      <td id=\"T_03c2f_row2_col2\" class=\"data row2 col2\" >85.30%</td>\n",
              "      <td id=\"T_03c2f_row2_col3\" class=\"data row2 col3\" >84.99%</td>\n",
              "      <td id=\"T_03c2f_row2_col4\" class=\"data row2 col4\" >keras</td>\n",
              "      <td id=\"T_03c2f_row2_col5\" class=\"data row2 col5\" >False</td>\n",
              "      <td id=\"T_03c2f_row2_col6\" class=\"data row2 col6\" >True</td>\n",
              "      <td id=\"T_03c2f_row2_col7\" class=\"data row2 col7\" >Sequential</td>\n",
              "      <td id=\"T_03c2f_row2_col8\" class=\"data row2 col8\" >5</td>\n",
              "      <td id=\"T_03c2f_row2_col9\" class=\"data row2 col9\" >94658</td>\n",
              "      <td id=\"T_03c2f_row2_col10\" class=\"data row2 col10\" >2.000000</td>\n",
              "      <td id=\"T_03c2f_row2_col11\" class=\"data row2 col11\" >1</td>\n",
              "      <td id=\"T_03c2f_row2_col12\" class=\"data row2 col12\" >1</td>\n",
              "      <td id=\"T_03c2f_row2_col13\" class=\"data row2 col13\" >1</td>\n",
              "      <td id=\"T_03c2f_row2_col14\" class=\"data row2 col14\" >2.000000</td>\n",
              "      <td id=\"T_03c2f_row2_col15\" class=\"data row2 col15\" >1</td>\n",
              "      <td id=\"T_03c2f_row2_col16\" class=\"data row2 col16\" >str</td>\n",
              "      <td id=\"T_03c2f_row2_col17\" class=\"data row2 col17\" >RMSprop</td>\n",
              "      <td id=\"T_03c2f_row2_col18\" class=\"data row2 col18\" >{'name': 'sequential_1', 'laye...</td>\n",
              "      <td id=\"T_03c2f_row2_col19\" class=\"data row2 col19\" >13584008</td>\n",
              "      <td id=\"T_03c2f_row2_col20\" class=\"data row2 col20\" >AI_COMSW4701</td>\n",
              "      <td id=\"T_03c2f_row2_col21\" class=\"data row2 col21\" >4</td>\n",
              "    </tr>\n",
              "    <tr>\n",
              "      <th id=\"T_03c2f_level0_row3\" class=\"row_heading level0 row3\" >3</th>\n",
              "      <td id=\"T_03c2f_row3_col0\" class=\"data row3 col0\" >84.72%</td>\n",
              "      <td id=\"T_03c2f_row3_col1\" class=\"data row3 col1\" >84.69%</td>\n",
              "      <td id=\"T_03c2f_row3_col2\" class=\"data row3 col2\" >85.02%</td>\n",
              "      <td id=\"T_03c2f_row3_col3\" class=\"data row3 col3\" >84.72%</td>\n",
              "      <td id=\"T_03c2f_row3_col4\" class=\"data row3 col4\" >keras</td>\n",
              "      <td id=\"T_03c2f_row3_col5\" class=\"data row3 col5\" >False</td>\n",
              "      <td id=\"T_03c2f_row3_col6\" class=\"data row3 col6\" >True</td>\n",
              "      <td id=\"T_03c2f_row3_col7\" class=\"data row3 col7\" >Sequential</td>\n",
              "      <td id=\"T_03c2f_row3_col8\" class=\"data row3 col8\" >3</td>\n",
              "      <td id=\"T_03c2f_row3_col9\" class=\"data row3 col9\" >83202</td>\n",
              "      <td id=\"T_03c2f_row3_col10\" class=\"data row3 col10\" >nan</td>\n",
              "      <td id=\"T_03c2f_row3_col11\" class=\"data row3 col11\" >1</td>\n",
              "      <td id=\"T_03c2f_row3_col12\" class=\"data row3 col12\" >1</td>\n",
              "      <td id=\"T_03c2f_row3_col13\" class=\"data row3 col13\" >1</td>\n",
              "      <td id=\"T_03c2f_row3_col14\" class=\"data row3 col14\" >nan</td>\n",
              "      <td id=\"T_03c2f_row3_col15\" class=\"data row3 col15\" >1</td>\n",
              "      <td id=\"T_03c2f_row3_col16\" class=\"data row3 col16\" >function</td>\n",
              "      <td id=\"T_03c2f_row3_col17\" class=\"data row3 col17\" >RMSprop</td>\n",
              "      <td id=\"T_03c2f_row3_col18\" class=\"data row3 col18\" >{'name': 'sequential_13', 'lay...</td>\n",
              "      <td id=\"T_03c2f_row3_col19\" class=\"data row3 col19\" >146208</td>\n",
              "      <td id=\"T_03c2f_row3_col20\" class=\"data row3 col20\" >AI_COMSW4701</td>\n",
              "      <td id=\"T_03c2f_row3_col21\" class=\"data row3 col21\" >1</td>\n",
              "    </tr>\n",
              "    <tr>\n",
              "      <th id=\"T_03c2f_level0_row4\" class=\"row_heading level0 row4\" >4</th>\n",
              "      <td id=\"T_03c2f_row4_col0\" class=\"data row4 col0\" >84.33%</td>\n",
              "      <td id=\"T_03c2f_row4_col1\" class=\"data row4 col1\" >84.30%</td>\n",
              "      <td id=\"T_03c2f_row4_col2\" class=\"data row4 col2\" >84.62%</td>\n",
              "      <td id=\"T_03c2f_row4_col3\" class=\"data row4 col3\" >84.33%</td>\n",
              "      <td id=\"T_03c2f_row4_col4\" class=\"data row4 col4\" >keras</td>\n",
              "      <td id=\"T_03c2f_row4_col5\" class=\"data row4 col5\" >False</td>\n",
              "      <td id=\"T_03c2f_row4_col6\" class=\"data row4 col6\" >True</td>\n",
              "      <td id=\"T_03c2f_row4_col7\" class=\"data row4 col7\" >Sequential</td>\n",
              "      <td id=\"T_03c2f_row4_col8\" class=\"data row4 col8\" >4</td>\n",
              "      <td id=\"T_03c2f_row4_col9\" class=\"data row4 col9\" >86338</td>\n",
              "      <td id=\"T_03c2f_row4_col10\" class=\"data row4 col10\" >1.000000</td>\n",
              "      <td id=\"T_03c2f_row4_col11\" class=\"data row4 col11\" >1</td>\n",
              "      <td id=\"T_03c2f_row4_col12\" class=\"data row4 col12\" >1</td>\n",
              "      <td id=\"T_03c2f_row4_col13\" class=\"data row4 col13\" >1</td>\n",
              "      <td id=\"T_03c2f_row4_col14\" class=\"data row4 col14\" >1.000000</td>\n",
              "      <td id=\"T_03c2f_row4_col15\" class=\"data row4 col15\" >1</td>\n",
              "      <td id=\"T_03c2f_row4_col16\" class=\"data row4 col16\" >function</td>\n",
              "      <td id=\"T_03c2f_row4_col17\" class=\"data row4 col17\" >RMSprop</td>\n",
              "      <td id=\"T_03c2f_row4_col18\" class=\"data row4 col18\" >{'name': 'sequential_14', 'lay...</td>\n",
              "      <td id=\"T_03c2f_row4_col19\" class=\"data row4 col19\" >1207288</td>\n",
              "      <td id=\"T_03c2f_row4_col20\" class=\"data row4 col20\" >AI_COMSW4701</td>\n",
              "      <td id=\"T_03c2f_row4_col21\" class=\"data row4 col21\" >2</td>\n",
              "    </tr>\n",
              "  </tbody>\n",
              "</table>\n"
            ],
            "text/plain": [
              "<pandas.io.formats.style.Styler at 0x7f96c56a0690>"
            ]
          },
          "metadata": {},
          "execution_count": 22
        }
      ]
    },
    {
      "cell_type": "code",
      "metadata": {
        "id": "MKvPKyb7hT0h",
        "colab": {
          "base_uri": "https://localhost:8080/",
          "height": 144
        },
        "outputId": "be3d9bad-385e-44eb-ac1d-f245aa76a2e3"
      },
      "source": [
        "# Compare two or more models \n",
        "data=mycompetition.compare_models([4,5], verbose=1)\n",
        "mycompetition.stylize_compare(data)"
      ],
      "execution_count": 23,
      "outputs": [
        {
          "output_type": "display_data",
          "data": {
            "text/html": [
              "<style type=\"text/css\">\n",
              "#T_7bd80_ caption {\n",
              "  color: black;\n",
              "  font-size: 18px;\n",
              "}\n",
              "#T_7bd80_row0_col0, #T_7bd80_row0_col3 {\n",
              "  background: #f4cae4;\n",
              "  color: black;\n",
              "  color: black;\n",
              "}\n",
              "#T_7bd80_row0_col1, #T_7bd80_row0_col2, #T_7bd80_row0_col4, #T_7bd80_row0_col5, #T_7bd80_row1_col1, #T_7bd80_row1_col2, #T_7bd80_row1_col4, #T_7bd80_row1_col5, #T_7bd80_row2_col1, #T_7bd80_row2_col2, #T_7bd80_row2_col4, #T_7bd80_row2_col5, #T_7bd80_row3_col1, #T_7bd80_row3_col2, #T_7bd80_row3_col4, #T_7bd80_row3_col5, #T_7bd80_row4_col1, #T_7bd80_row4_col2, #T_7bd80_row4_col3, #T_7bd80_row4_col4, #T_7bd80_row4_col5 {\n",
              "  background: white;\n",
              "  color: black;\n",
              "  color: black;\n",
              "}\n",
              "#T_7bd80_row1_col0, #T_7bd80_row1_col3, #T_7bd80_row2_col0 {\n",
              "  background: #cbd5e8;\n",
              "  color: black;\n",
              "  color: black;\n",
              "}\n",
              "#T_7bd80_row2_col3, #T_7bd80_row3_col0 {\n",
              "  background: #e6f5c9;\n",
              "  color: black;\n",
              "  color: black;\n",
              "}\n",
              "#T_7bd80_row3_col3, #T_7bd80_row4_col0 {\n",
              "  background: #fff2ae;\n",
              "  color: black;\n",
              "  color: black;\n",
              "}\n",
              "</style>\n",
              "<table id=\"T_7bd80_\">\n",
              "  <caption>Model type: Neural Network</caption>\n",
              "  <thead>\n",
              "    <tr>\n",
              "      <th class=\"blank level0\" >&nbsp;</th>\n",
              "      <th class=\"col_heading level0 col0\" >Model_4_Layer</th>\n",
              "      <th class=\"col_heading level0 col1\" >Model_4_Shape</th>\n",
              "      <th class=\"col_heading level0 col2\" >Model_4_Params</th>\n",
              "      <th class=\"col_heading level0 col3\" >Model_5_Layer</th>\n",
              "      <th class=\"col_heading level0 col4\" >Model_5_Shape</th>\n",
              "      <th class=\"col_heading level0 col5\" >Model_5_Params</th>\n",
              "    </tr>\n",
              "  </thead>\n",
              "  <tbody>\n",
              "    <tr>\n",
              "      <th id=\"T_7bd80_level0_row0\" class=\"row_heading level0 row0\" >0</th>\n",
              "      <td id=\"T_7bd80_row0_col0\" class=\"data row0 col0\" >Embedding</td>\n",
              "      <td id=\"T_7bd80_row0_col1\" class=\"data row0 col1\" >[None, 100, 16]</td>\n",
              "      <td id=\"T_7bd80_row0_col2\" class=\"data row0 col2\" >80000</td>\n",
              "      <td id=\"T_7bd80_row0_col3\" class=\"data row0 col3\" >Embedding</td>\n",
              "      <td id=\"T_7bd80_row0_col4\" class=\"data row0 col4\" >[None, 100, 16]</td>\n",
              "      <td id=\"T_7bd80_row0_col5\" class=\"data row0 col5\" >80000.000000</td>\n",
              "    </tr>\n",
              "    <tr>\n",
              "      <th id=\"T_7bd80_level0_row1\" class=\"row_heading level0 row1\" >1</th>\n",
              "      <td id=\"T_7bd80_row1_col0\" class=\"data row1 col0\" >LSTM</td>\n",
              "      <td id=\"T_7bd80_row1_col1\" class=\"data row1 col1\" >[None, 100, 32]</td>\n",
              "      <td id=\"T_7bd80_row1_col2\" class=\"data row1 col2\" >6272</td>\n",
              "      <td id=\"T_7bd80_row1_col3\" class=\"data row1 col3\" >LSTM</td>\n",
              "      <td id=\"T_7bd80_row1_col4\" class=\"data row1 col4\" >[None, 100, 256]</td>\n",
              "      <td id=\"T_7bd80_row1_col5\" class=\"data row1 col5\" >279552.000000</td>\n",
              "    </tr>\n",
              "    <tr>\n",
              "      <th id=\"T_7bd80_level0_row2\" class=\"row_heading level0 row2\" >2</th>\n",
              "      <td id=\"T_7bd80_row2_col0\" class=\"data row2 col0\" >LSTM</td>\n",
              "      <td id=\"T_7bd80_row2_col1\" class=\"data row2 col1\" >[None, 32]</td>\n",
              "      <td id=\"T_7bd80_row2_col2\" class=\"data row2 col2\" >8320</td>\n",
              "      <td id=\"T_7bd80_row2_col3\" class=\"data row2 col3\" >Flatten</td>\n",
              "      <td id=\"T_7bd80_row2_col4\" class=\"data row2 col4\" >[None, 25600]</td>\n",
              "      <td id=\"T_7bd80_row2_col5\" class=\"data row2 col5\" >0.000000</td>\n",
              "    </tr>\n",
              "    <tr>\n",
              "      <th id=\"T_7bd80_level0_row3\" class=\"row_heading level0 row3\" >3</th>\n",
              "      <td id=\"T_7bd80_row3_col0\" class=\"data row3 col0\" >Flatten</td>\n",
              "      <td id=\"T_7bd80_row3_col1\" class=\"data row3 col1\" >[None, 32]</td>\n",
              "      <td id=\"T_7bd80_row3_col2\" class=\"data row3 col2\" >0</td>\n",
              "      <td id=\"T_7bd80_row3_col3\" class=\"data row3 col3\" >Dense</td>\n",
              "      <td id=\"T_7bd80_row3_col4\" class=\"data row3 col4\" >[None, 2]</td>\n",
              "      <td id=\"T_7bd80_row3_col5\" class=\"data row3 col5\" >51202.000000</td>\n",
              "    </tr>\n",
              "    <tr>\n",
              "      <th id=\"T_7bd80_level0_row4\" class=\"row_heading level0 row4\" >4</th>\n",
              "      <td id=\"T_7bd80_row4_col0\" class=\"data row4 col0\" >Dense</td>\n",
              "      <td id=\"T_7bd80_row4_col1\" class=\"data row4 col1\" >[None, 2]</td>\n",
              "      <td id=\"T_7bd80_row4_col2\" class=\"data row4 col2\" >66</td>\n",
              "      <td id=\"T_7bd80_row4_col3\" class=\"data row4 col3\" >None</td>\n",
              "      <td id=\"T_7bd80_row4_col4\" class=\"data row4 col4\" >None</td>\n",
              "      <td id=\"T_7bd80_row4_col5\" class=\"data row4 col5\" >nan</td>\n",
              "    </tr>\n",
              "  </tbody>\n",
              "</table>\n"
            ],
            "text/plain": [
              "<IPython.core.display.HTML object>"
            ]
          },
          "metadata": {}
        }
      ]
    }
  ]
}