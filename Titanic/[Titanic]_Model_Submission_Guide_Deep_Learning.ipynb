{
  "nbformat": 4,
  "nbformat_minor": 0,
  "metadata": {
    "colab": {
      "name": "[Titanic] Model Submission Guide - Deep Learning.ipynb",
      "provenance": [],
      "collapsed_sections": []
    },
    "kernelspec": {
      "name": "python3",
      "display_name": "Python 3"
    },
    "language_info": {
      "name": "python"
    }
  },
  "cells": [
    {
      "cell_type": "markdown",
      "source": [
        "<p align=\"center\"><img width=\"50%\" src=\"https://aimodelsharecontent.s3.amazonaws.com/aimodshare_banner.jpg\" /></p>\n",
        "\n",
        "\n",
        "---"
      ],
      "metadata": {
        "id": "ekczNcQxUpzT"
      }
    },
    {
      "cell_type": "markdown",
      "metadata": {
        "id": "JXxGTgJz152A"
      },
      "source": [
        "## Model Submission Guide: Titanic Survival Competition\n",
        "Let's share our models to a centralized leaderboard, so that we can collaborate and learn from the model experimentation process...\n",
        "\n",
        "**Instructions:**\n",
        "1.   Get data in and set up X_train / X_test / y_train\n",
        "2.   Preprocess data using Sklearn Column Transformer/ Write and Save Preprocessor function\n",
        "3. Fit model on preprocessed data and save preprocessor function and model \n",
        "4. Generate predictions from X_test data and submit model to competition\n",
        "5. Repeat submission process to improve place on leaderboard\n",
        "\n"
      ]
    },
    {
      "cell_type": "markdown",
      "metadata": {
        "id": "5gSrVJwp3E9H"
      },
      "source": [
        "## 1. Get data in and set up X_train, X_test, y_train objects"
      ]
    },
    {
      "cell_type": "code",
      "metadata": {
        "id": "PLTIaMB3ChSW"
      },
      "source": [
        "#install aimodelshare library\n",
        "! pip install aimodelshare --upgrade"
      ],
      "execution_count": null,
      "outputs": []
    },
    {
      "cell_type": "code",
      "metadata": {
        "colab": {
          "base_uri": "https://localhost:8080/"
        },
        "id": "d3PiJXBhC5y-",
        "outputId": "fd1fcba0-64e8-4779-8e69-0c785c782e4e"
      },
      "source": [
        "# Get competition data\n",
        "from aimodelshare import download_data\n",
        "download_data('public.ecr.aws/y2e2a1d6/titanic_competition_data-repository:v1') "
      ],
      "execution_count": 3,
      "outputs": [
        {
          "output_type": "stream",
          "name": "stdout",
          "text": [
            "Downloading [>                                                ]\n",
            "\n",
            "Data downloaded successfully.\n"
          ]
        }
      ]
    },
    {
      "cell_type": "code",
      "metadata": {
        "colab": {
          "base_uri": "https://localhost:8080/",
          "height": 169
        },
        "id": "jT0qFCZFNzHq",
        "outputId": "8124dea8-3abb-4029-ae7e-70654310899f"
      },
      "source": [
        "# Separate data into X_train, y_train, and X_test\n",
        "import pandas as pd\n",
        "training_data=pd.read_csv(\"titanic_competition_data/training_data.csv\")\n",
        "y_train= pd.get_dummies(training_data['survived'])\n",
        "X_train = training_data.drop(['survived'], axis=1)\n",
        "\n",
        "X_test=pd.read_csv(\"titanic_competition_data/test_data.csv\")\n",
        "\n",
        "X_train.head()"
      ],
      "execution_count": 4,
      "outputs": [
        {
          "output_type": "execute_result",
          "data": {
            "text/html": [
              "\n",
              "  <div id=\"df-d9523252-76f5-4635-9e38-f8e8f82e434e\">\n",
              "    <div class=\"colab-df-container\">\n",
              "      <div>\n",
              "<style scoped>\n",
              "    .dataframe tbody tr th:only-of-type {\n",
              "        vertical-align: middle;\n",
              "    }\n",
              "\n",
              "    .dataframe tbody tr th {\n",
              "        vertical-align: top;\n",
              "    }\n",
              "\n",
              "    .dataframe thead th {\n",
              "        text-align: right;\n",
              "    }\n",
              "</style>\n",
              "<table border=\"1\" class=\"dataframe\">\n",
              "  <thead>\n",
              "    <tr style=\"text-align: right;\">\n",
              "      <th></th>\n",
              "      <th>pclass</th>\n",
              "      <th>sex</th>\n",
              "      <th>age</th>\n",
              "      <th>fare</th>\n",
              "      <th>embarked</th>\n",
              "    </tr>\n",
              "  </thead>\n",
              "  <tbody>\n",
              "    <tr>\n",
              "      <th>0</th>\n",
              "      <td>3</td>\n",
              "      <td>male</td>\n",
              "      <td>28.0</td>\n",
              "      <td>7.2500</td>\n",
              "      <td>S</td>\n",
              "    </tr>\n",
              "    <tr>\n",
              "      <th>1</th>\n",
              "      <td>3</td>\n",
              "      <td>female</td>\n",
              "      <td>26.0</td>\n",
              "      <td>16.1000</td>\n",
              "      <td>S</td>\n",
              "    </tr>\n",
              "    <tr>\n",
              "      <th>2</th>\n",
              "      <td>3</td>\n",
              "      <td>female</td>\n",
              "      <td>47.0</td>\n",
              "      <td>7.0000</td>\n",
              "      <td>S</td>\n",
              "    </tr>\n",
              "    <tr>\n",
              "      <th>3</th>\n",
              "      <td>2</td>\n",
              "      <td>male</td>\n",
              "      <td>57.0</td>\n",
              "      <td>12.3500</td>\n",
              "      <td>Q</td>\n",
              "    </tr>\n",
              "    <tr>\n",
              "      <th>4</th>\n",
              "      <td>3</td>\n",
              "      <td>female</td>\n",
              "      <td>37.0</td>\n",
              "      <td>9.5875</td>\n",
              "      <td>S</td>\n",
              "    </tr>\n",
              "  </tbody>\n",
              "</table>\n",
              "</div>\n",
              "      <button class=\"colab-df-convert\" onclick=\"convertToInteractive('df-d9523252-76f5-4635-9e38-f8e8f82e434e')\"\n",
              "              title=\"Convert this dataframe to an interactive table.\"\n",
              "              style=\"display:none;\">\n",
              "        \n",
              "  <svg xmlns=\"http://www.w3.org/2000/svg\" height=\"24px\"viewBox=\"0 0 24 24\"\n",
              "       width=\"24px\">\n",
              "    <path d=\"M0 0h24v24H0V0z\" fill=\"none\"/>\n",
              "    <path d=\"M18.56 5.44l.94 2.06.94-2.06 2.06-.94-2.06-.94-.94-2.06-.94 2.06-2.06.94zm-11 1L8.5 8.5l.94-2.06 2.06-.94-2.06-.94L8.5 2.5l-.94 2.06-2.06.94zm10 10l.94 2.06.94-2.06 2.06-.94-2.06-.94-.94-2.06-.94 2.06-2.06.94z\"/><path d=\"M17.41 7.96l-1.37-1.37c-.4-.4-.92-.59-1.43-.59-.52 0-1.04.2-1.43.59L10.3 9.45l-7.72 7.72c-.78.78-.78 2.05 0 2.83L4 21.41c.39.39.9.59 1.41.59.51 0 1.02-.2 1.41-.59l7.78-7.78 2.81-2.81c.8-.78.8-2.07 0-2.86zM5.41 20L4 18.59l7.72-7.72 1.47 1.35L5.41 20z\"/>\n",
              "  </svg>\n",
              "      </button>\n",
              "      \n",
              "  <style>\n",
              "    .colab-df-container {\n",
              "      display:flex;\n",
              "      flex-wrap:wrap;\n",
              "      gap: 12px;\n",
              "    }\n",
              "\n",
              "    .colab-df-convert {\n",
              "      background-color: #E8F0FE;\n",
              "      border: none;\n",
              "      border-radius: 50%;\n",
              "      cursor: pointer;\n",
              "      display: none;\n",
              "      fill: #1967D2;\n",
              "      height: 32px;\n",
              "      padding: 0 0 0 0;\n",
              "      width: 32px;\n",
              "    }\n",
              "\n",
              "    .colab-df-convert:hover {\n",
              "      background-color: #E2EBFA;\n",
              "      box-shadow: 0px 1px 2px rgba(60, 64, 67, 0.3), 0px 1px 3px 1px rgba(60, 64, 67, 0.15);\n",
              "      fill: #174EA6;\n",
              "    }\n",
              "\n",
              "    [theme=dark] .colab-df-convert {\n",
              "      background-color: #3B4455;\n",
              "      fill: #D2E3FC;\n",
              "    }\n",
              "\n",
              "    [theme=dark] .colab-df-convert:hover {\n",
              "      background-color: #434B5C;\n",
              "      box-shadow: 0px 1px 3px 1px rgba(0, 0, 0, 0.15);\n",
              "      filter: drop-shadow(0px 1px 2px rgba(0, 0, 0, 0.3));\n",
              "      fill: #FFFFFF;\n",
              "    }\n",
              "  </style>\n",
              "\n",
              "      <script>\n",
              "        const buttonEl =\n",
              "          document.querySelector('#df-d9523252-76f5-4635-9e38-f8e8f82e434e button.colab-df-convert');\n",
              "        buttonEl.style.display =\n",
              "          google.colab.kernel.accessAllowed ? 'block' : 'none';\n",
              "\n",
              "        async function convertToInteractive(key) {\n",
              "          const element = document.querySelector('#df-d9523252-76f5-4635-9e38-f8e8f82e434e');\n",
              "          const dataTable =\n",
              "            await google.colab.kernel.invokeFunction('convertToInteractive',\n",
              "                                                     [key], {});\n",
              "          if (!dataTable) return;\n",
              "\n",
              "          const docLinkHtml = 'Like what you see? Visit the ' +\n",
              "            '<a target=\"_blank\" href=https://colab.research.google.com/notebooks/data_table.ipynb>data table notebook</a>'\n",
              "            + ' to learn more about interactive tables.';\n",
              "          element.innerHTML = '';\n",
              "          dataTable['output_type'] = 'display_data';\n",
              "          await google.colab.output.renderOutput(dataTable, element);\n",
              "          const docLink = document.createElement('div');\n",
              "          docLink.innerHTML = docLinkHtml;\n",
              "          element.appendChild(docLink);\n",
              "        }\n",
              "      </script>\n",
              "    </div>\n",
              "  </div>\n",
              "  "
            ],
            "text/plain": [
              "   pclass     sex   age     fare embarked\n",
              "0       3    male  28.0   7.2500        S\n",
              "1       3  female  26.0  16.1000        S\n",
              "2       3  female  47.0   7.0000        S\n",
              "3       2    male  57.0  12.3500        Q\n",
              "4       3  female  37.0   9.5875        S"
            ]
          },
          "metadata": {},
          "execution_count": 4
        }
      ]
    },
    {
      "cell_type": "markdown",
      "metadata": {
        "id": "gEzPoXPj3V7u"
      },
      "source": [
        "##2.   Preprocess data using Sklearn Column Transformer/ Write and Save Preprocessor function\n"
      ]
    },
    {
      "cell_type": "code",
      "metadata": {
        "id": "16QV9Y9TC3B3"
      },
      "source": [
        "# In this case we use Sklearn's Column transformer in our preprocessor function\n",
        "\n",
        "from sklearn.compose import ColumnTransformer\n",
        "from sklearn.pipeline import Pipeline\n",
        "from sklearn.impute import SimpleImputer\n",
        "from sklearn.preprocessing import StandardScaler, OneHotEncoder\n",
        "\n",
        "#Preprocess data using sklearn's Column Transformer approach\n",
        "\n",
        "# We create the preprocessing pipelines for both numeric and categorical data.\n",
        "numeric_features = ['age', 'fare']\n",
        "numeric_transformer = Pipeline(steps=[\n",
        "    ('imputer', SimpleImputer(strategy='median')), #'imputer' names the step\n",
        "    ('scaler', StandardScaler())])\n",
        "\n",
        "categorical_features = ['embarked', 'sex', 'pclass']\n",
        "\n",
        "# Replacing missing values with Modal value and then one-hot encoding.\n",
        "categorical_transformer = Pipeline(steps=[\n",
        "    ('imputer', SimpleImputer(strategy='most_frequent')),\n",
        "    ('onehot', OneHotEncoder(handle_unknown='ignore'))])\n",
        "\n",
        "# Final preprocessor object set up with ColumnTransformer...\n",
        "\n",
        "preprocess = ColumnTransformer(\n",
        "    transformers=[\n",
        "        ('num', numeric_transformer, numeric_features),\n",
        "        ('cat', categorical_transformer, categorical_features)])\n",
        "\n",
        "# fit preprocessor to your data\n",
        "preprocess = preprocess.fit(X_train)"
      ],
      "execution_count": 5,
      "outputs": []
    },
    {
      "cell_type": "code",
      "source": [
        "# Here is where we actually write the preprocessor function:\n",
        "\n",
        "# Write function to transform data with preprocessor \n",
        "# In this case we use sklearn's Column transformer in our preprocessor function\n",
        "\n",
        "def preprocessor(data):\n",
        "    preprocessed_data=preprocess.transform(data)\n",
        "    return preprocessed_data"
      ],
      "metadata": {
        "id": "S_PaNOG0SUIk"
      },
      "execution_count": 6,
      "outputs": []
    },
    {
      "cell_type": "code",
      "source": [
        "# check shape of X data after preprocessing it using our new function\n",
        "preprocessor(X_train).shape"
      ],
      "metadata": {
        "colab": {
          "base_uri": "https://localhost:8080/"
        },
        "id": "a1IPy9xvSWBp",
        "outputId": "349b13a5-6f44-4254-86e8-1404bdb5891b"
      },
      "execution_count": 7,
      "outputs": [
        {
          "output_type": "execute_result",
          "data": {
            "text/plain": [
              "(1047, 10)"
            ]
          },
          "metadata": {},
          "execution_count": 7
        }
      ]
    },
    {
      "cell_type": "markdown",
      "metadata": {
        "id": "X52kECL43b-O"
      },
      "source": [
        "##3. Fit model on preprocessed data and save preprocessor function and model \n"
      ]
    },
    {
      "cell_type": "code",
      "metadata": {
        "colab": {
          "base_uri": "https://localhost:8080/"
        },
        "id": "NCbBf8j9ClYl",
        "outputId": "bdacfdfc-3e5b-4f6a-e8a6-f0ba53bbf1dc"
      },
      "source": [
        "import keras\n",
        "from keras.models import Sequential\n",
        "from keras.layers import Dense, Activation\n",
        "\n",
        "model = Sequential()\n",
        "model.add(Dense(64, input_dim=10, activation='relu'))\n",
        "model.add(Dense(64, activation='relu'))\n",
        "model.add(Dense(64, activation='relu'))\n",
        "\n",
        "model.add(Dense(2, activation='softmax')) \n",
        "                                            \n",
        "# Compile model\n",
        "model.compile(loss='categorical_crossentropy', optimizer='sgd', metrics=['accuracy'])\n",
        "\n",
        "# Fitting the NN to the Training set\n",
        "model.fit(preprocessor(X_train), pd.get_dummies(y_train), \n",
        "               batch_size = 20, \n",
        "               epochs = 3, validation_split=0.25) "
      ],
      "execution_count": 8,
      "outputs": [
        {
          "output_type": "stream",
          "name": "stdout",
          "text": [
            "Epoch 1/3\n",
            "40/40 [==============================] - 1s 9ms/step - loss: 0.6698 - accuracy: 0.5847 - val_loss: 0.6196 - val_accuracy: 0.7405\n",
            "Epoch 2/3\n",
            "40/40 [==============================] - 0s 3ms/step - loss: 0.6135 - accuracy: 0.7083 - val_loss: 0.5781 - val_accuracy: 0.7405\n",
            "Epoch 3/3\n",
            "40/40 [==============================] - 0s 3ms/step - loss: 0.5840 - accuracy: 0.7236 - val_loss: 0.5500 - val_accuracy: 0.8092\n"
          ]
        },
        {
          "output_type": "execute_result",
          "data": {
            "text/plain": [
              "<keras.callbacks.History at 0x7f3d0416b410>"
            ]
          },
          "metadata": {},
          "execution_count": 8
        }
      ]
    },
    {
      "cell_type": "markdown",
      "metadata": {
        "id": "zmJAnmO-5AcU"
      },
      "source": [
        "#### Save preprocessor function to local \"preprocessor.zip\" file"
      ]
    },
    {
      "cell_type": "code",
      "metadata": {
        "colab": {
          "base_uri": "https://localhost:8080/"
        },
        "id": "4VGacc0LDaMA",
        "outputId": "d6041827-630c-4058-a5bb-6cd18ec29dac"
      },
      "source": [
        "import aimodelshare as ai\n",
        "ai.export_preprocessor(preprocessor,\"\") "
      ],
      "execution_count": 9,
      "outputs": [
        {
          "output_type": "stream",
          "name": "stdout",
          "text": [
            "Your preprocessor is now saved to 'preprocessor.zip'\n"
          ]
        }
      ]
    },
    {
      "cell_type": "markdown",
      "metadata": {
        "id": "oOWBa8Cv5LdL"
      },
      "source": [
        "#### Save model to local \".onnx\" file"
      ]
    },
    {
      "cell_type": "code",
      "metadata": {
        "id": "pEhvnRiQDlY5"
      },
      "source": [
        "# Save keras model to local ONNX file\n",
        "from aimodelshare.aimsonnx import model_to_onnx\n",
        "\n",
        "onnx_model = model_to_onnx(model, framework='keras',\n",
        "                          transfer_learning=False,\n",
        "                          deep_learning=True)\n",
        "\n",
        "with open(\"model.onnx\", \"wb\") as f:\n",
        "    f.write(onnx_model.SerializeToString())"
      ],
      "execution_count": 10,
      "outputs": []
    },
    {
      "cell_type": "markdown",
      "metadata": {
        "id": "gHWkAzvX3m8O"
      },
      "source": [
        "## 4. Generate predictions from X_test data and submit model to competition\n"
      ]
    },
    {
      "cell_type": "code",
      "metadata": {
        "colab": {
          "base_uri": "https://localhost:8080/"
        },
        "id": "RtgkM02MDpkO",
        "outputId": "abfc3122-abd2-4f15-cda1-26a5fca85807"
      },
      "source": [
        "#Set credentials using modelshare.org username/password\n",
        "\n",
        "from aimodelshare.aws import set_credentials\n",
        "\n",
        "#This is the unique rest api that powers this Titanic Survival Playground -- make sure to update the apiurl for new competition deployments\n",
        "apiurl=\"https://spx5okx1qc.execute-api.us-east-1.amazonaws.com/prod/m\"\n",
        "\n",
        "set_credentials(apiurl=apiurl)"
      ],
      "execution_count": 11,
      "outputs": [
        {
          "output_type": "stream",
          "name": "stdout",
          "text": [
            "AI Modelshare Username:··········\n",
            "AI Modelshare Password:··········\n",
            "AI Model Share login credentials set successfully.\n"
          ]
        }
      ]
    },
    {
      "cell_type": "code",
      "metadata": {
        "id": "fKNGSww8EGgi"
      },
      "source": [
        "#Instantiate Competition\n",
        "import aimodelshare as ai\n",
        "mycompetition= ai.Competition(apiurl)"
      ],
      "execution_count": 12,
      "outputs": []
    },
    {
      "cell_type": "code",
      "metadata": {
        "id": "_Ql4wksyEUnP",
        "colab": {
          "base_uri": "https://localhost:8080/"
        },
        "outputId": "082da586-f1b9-4185-c72f-10f3b7c6b58b"
      },
      "source": [
        "#Submit Model 1: \n",
        "\n",
        "#-- Generate predicted y values (Model 1)\n",
        "#Note: Keras predict returns the predicted column index location for classification models\n",
        "prediction_column_index=model.predict(preprocessor(X_test)).argmax(axis=1)\n",
        "\n",
        "# extract correct prediction labels \n",
        "prediction_labels = [y_train.columns[i] for i in prediction_column_index]\n",
        "\n",
        "# Submit Model 1 to Competition Leaderboard\n",
        "mycompetition.submit_model(model_filepath = \"model.onnx\",\n",
        "                                 preprocessor_filepath=\"preprocessor.zip\",\n",
        "                                 prediction_submission=prediction_labels)"
      ],
      "execution_count": 13,
      "outputs": [
        {
          "output_type": "stream",
          "name": "stdout",
          "text": [
            "Insert search tags to help users find your model (optional): \n",
            "Provide any useful notes about your model (optional): \n",
            "\n",
            "Your model has been submitted as model version 7\n",
            "\n",
            "To submit code used to create this model or to view current leaderboard navigate to Model Playground: \n",
            "\n",
            " https://www.modelshare.org/detail/model:1128\n"
          ]
        }
      ]
    },
    {
      "cell_type": "code",
      "metadata": {
        "colab": {
          "base_uri": "https://localhost:8080/",
          "height": 419
        },
        "id": "GN1zvAmNEq17",
        "outputId": "762ba842-afa2-44df-b3c6-a0f399996739"
      },
      "source": [
        "# Get leaderboard to explore current best model architectures\n",
        "\n",
        "# Get raw data in pandas data frame\n",
        "data = mycompetition.get_leaderboard()\n",
        "\n",
        "# Stylize leaderboard data\n",
        "mycompetition.stylize_leaderboard(data)"
      ],
      "execution_count": 14,
      "outputs": [
        {
          "output_type": "execute_result",
          "data": {
            "text/html": [
              "<style  type=\"text/css\" >\n",
              "#T_4d07a120_7c7f_11ec_8088_0242ac1c0002row0_col0,#T_4d07a120_7c7f_11ec_8088_0242ac1c0002row1_col0{\n",
              "            text-align:  center;\n",
              "            width:  10em;\n",
              "             height:  80%;\n",
              "            background:  linear-gradient(90deg,#f5f8d6 81.3%, transparent 81.3%);\n",
              "            color:  #251e1b;\n",
              "            font-size:  12px;\n",
              "        }#T_4d07a120_7c7f_11ec_8088_0242ac1c0002row0_col1,#T_4d07a120_7c7f_11ec_8088_0242ac1c0002row1_col1{\n",
              "            text-align:  center;\n",
              "            width:  10em;\n",
              "             height:  80%;\n",
              "            background:  linear-gradient(90deg,#c778c8 79.5%, transparent 79.5%);\n",
              "            color:  #251e1b;\n",
              "            font-size:  12px;\n",
              "        }#T_4d07a120_7c7f_11ec_8088_0242ac1c0002row0_col2,#T_4d07a120_7c7f_11ec_8088_0242ac1c0002row1_col2{\n",
              "            text-align:  center;\n",
              "            width:  10em;\n",
              "             height:  80%;\n",
              "            background:  linear-gradient(90deg,#ff4971 80.5%, transparent 80.5%);\n",
              "            color:  #251e1b;\n",
              "            font-size:  12px;\n",
              "        }#T_4d07a120_7c7f_11ec_8088_0242ac1c0002row0_col3,#T_4d07a120_7c7f_11ec_8088_0242ac1c0002row1_col3{\n",
              "            text-align:  center;\n",
              "            width:  10em;\n",
              "             height:  80%;\n",
              "            background:  linear-gradient(90deg,#aadbaa 78.9%, transparent 78.9%);\n",
              "            color:  #251e1b;\n",
              "            font-size:  12px;\n",
              "        }#T_4d07a120_7c7f_11ec_8088_0242ac1c0002row0_col4,#T_4d07a120_7c7f_11ec_8088_0242ac1c0002row0_col5,#T_4d07a120_7c7f_11ec_8088_0242ac1c0002row0_col6,#T_4d07a120_7c7f_11ec_8088_0242ac1c0002row0_col7,#T_4d07a120_7c7f_11ec_8088_0242ac1c0002row0_col8,#T_4d07a120_7c7f_11ec_8088_0242ac1c0002row0_col9,#T_4d07a120_7c7f_11ec_8088_0242ac1c0002row0_col10,#T_4d07a120_7c7f_11ec_8088_0242ac1c0002row0_col11,#T_4d07a120_7c7f_11ec_8088_0242ac1c0002row0_col12,#T_4d07a120_7c7f_11ec_8088_0242ac1c0002row0_col13,#T_4d07a120_7c7f_11ec_8088_0242ac1c0002row0_col14,#T_4d07a120_7c7f_11ec_8088_0242ac1c0002row0_col15,#T_4d07a120_7c7f_11ec_8088_0242ac1c0002row0_col16,#T_4d07a120_7c7f_11ec_8088_0242ac1c0002row0_col17,#T_4d07a120_7c7f_11ec_8088_0242ac1c0002row0_col18,#T_4d07a120_7c7f_11ec_8088_0242ac1c0002row1_col4,#T_4d07a120_7c7f_11ec_8088_0242ac1c0002row1_col5,#T_4d07a120_7c7f_11ec_8088_0242ac1c0002row1_col6,#T_4d07a120_7c7f_11ec_8088_0242ac1c0002row1_col7,#T_4d07a120_7c7f_11ec_8088_0242ac1c0002row1_col8,#T_4d07a120_7c7f_11ec_8088_0242ac1c0002row1_col9,#T_4d07a120_7c7f_11ec_8088_0242ac1c0002row1_col10,#T_4d07a120_7c7f_11ec_8088_0242ac1c0002row1_col11,#T_4d07a120_7c7f_11ec_8088_0242ac1c0002row1_col12,#T_4d07a120_7c7f_11ec_8088_0242ac1c0002row1_col13,#T_4d07a120_7c7f_11ec_8088_0242ac1c0002row1_col14,#T_4d07a120_7c7f_11ec_8088_0242ac1c0002row1_col15,#T_4d07a120_7c7f_11ec_8088_0242ac1c0002row1_col16,#T_4d07a120_7c7f_11ec_8088_0242ac1c0002row1_col17,#T_4d07a120_7c7f_11ec_8088_0242ac1c0002row1_col18,#T_4d07a120_7c7f_11ec_8088_0242ac1c0002row2_col4,#T_4d07a120_7c7f_11ec_8088_0242ac1c0002row2_col5,#T_4d07a120_7c7f_11ec_8088_0242ac1c0002row2_col6,#T_4d07a120_7c7f_11ec_8088_0242ac1c0002row2_col7,#T_4d07a120_7c7f_11ec_8088_0242ac1c0002row2_col8,#T_4d07a120_7c7f_11ec_8088_0242ac1c0002row2_col9,#T_4d07a120_7c7f_11ec_8088_0242ac1c0002row2_col10,#T_4d07a120_7c7f_11ec_8088_0242ac1c0002row2_col11,#T_4d07a120_7c7f_11ec_8088_0242ac1c0002row2_col12,#T_4d07a120_7c7f_11ec_8088_0242ac1c0002row2_col13,#T_4d07a120_7c7f_11ec_8088_0242ac1c0002row2_col14,#T_4d07a120_7c7f_11ec_8088_0242ac1c0002row2_col15,#T_4d07a120_7c7f_11ec_8088_0242ac1c0002row2_col16,#T_4d07a120_7c7f_11ec_8088_0242ac1c0002row2_col17,#T_4d07a120_7c7f_11ec_8088_0242ac1c0002row2_col18,#T_4d07a120_7c7f_11ec_8088_0242ac1c0002row3_col4,#T_4d07a120_7c7f_11ec_8088_0242ac1c0002row3_col5,#T_4d07a120_7c7f_11ec_8088_0242ac1c0002row3_col6,#T_4d07a120_7c7f_11ec_8088_0242ac1c0002row3_col7,#T_4d07a120_7c7f_11ec_8088_0242ac1c0002row3_col8,#T_4d07a120_7c7f_11ec_8088_0242ac1c0002row3_col9,#T_4d07a120_7c7f_11ec_8088_0242ac1c0002row3_col10,#T_4d07a120_7c7f_11ec_8088_0242ac1c0002row3_col11,#T_4d07a120_7c7f_11ec_8088_0242ac1c0002row3_col12,#T_4d07a120_7c7f_11ec_8088_0242ac1c0002row3_col13,#T_4d07a120_7c7f_11ec_8088_0242ac1c0002row3_col14,#T_4d07a120_7c7f_11ec_8088_0242ac1c0002row3_col15,#T_4d07a120_7c7f_11ec_8088_0242ac1c0002row3_col16,#T_4d07a120_7c7f_11ec_8088_0242ac1c0002row3_col17,#T_4d07a120_7c7f_11ec_8088_0242ac1c0002row3_col18,#T_4d07a120_7c7f_11ec_8088_0242ac1c0002row4_col4,#T_4d07a120_7c7f_11ec_8088_0242ac1c0002row4_col5,#T_4d07a120_7c7f_11ec_8088_0242ac1c0002row4_col6,#T_4d07a120_7c7f_11ec_8088_0242ac1c0002row4_col7,#T_4d07a120_7c7f_11ec_8088_0242ac1c0002row4_col8,#T_4d07a120_7c7f_11ec_8088_0242ac1c0002row4_col9,#T_4d07a120_7c7f_11ec_8088_0242ac1c0002row4_col10,#T_4d07a120_7c7f_11ec_8088_0242ac1c0002row4_col11,#T_4d07a120_7c7f_11ec_8088_0242ac1c0002row4_col12,#T_4d07a120_7c7f_11ec_8088_0242ac1c0002row4_col13,#T_4d07a120_7c7f_11ec_8088_0242ac1c0002row4_col14,#T_4d07a120_7c7f_11ec_8088_0242ac1c0002row4_col15,#T_4d07a120_7c7f_11ec_8088_0242ac1c0002row4_col16,#T_4d07a120_7c7f_11ec_8088_0242ac1c0002row4_col17,#T_4d07a120_7c7f_11ec_8088_0242ac1c0002row4_col18,#T_4d07a120_7c7f_11ec_8088_0242ac1c0002row5_col4,#T_4d07a120_7c7f_11ec_8088_0242ac1c0002row5_col5,#T_4d07a120_7c7f_11ec_8088_0242ac1c0002row5_col6,#T_4d07a120_7c7f_11ec_8088_0242ac1c0002row5_col7,#T_4d07a120_7c7f_11ec_8088_0242ac1c0002row5_col8,#T_4d07a120_7c7f_11ec_8088_0242ac1c0002row5_col9,#T_4d07a120_7c7f_11ec_8088_0242ac1c0002row5_col10,#T_4d07a120_7c7f_11ec_8088_0242ac1c0002row5_col11,#T_4d07a120_7c7f_11ec_8088_0242ac1c0002row5_col12,#T_4d07a120_7c7f_11ec_8088_0242ac1c0002row5_col13,#T_4d07a120_7c7f_11ec_8088_0242ac1c0002row5_col14,#T_4d07a120_7c7f_11ec_8088_0242ac1c0002row5_col15,#T_4d07a120_7c7f_11ec_8088_0242ac1c0002row5_col16,#T_4d07a120_7c7f_11ec_8088_0242ac1c0002row5_col17,#T_4d07a120_7c7f_11ec_8088_0242ac1c0002row5_col18,#T_4d07a120_7c7f_11ec_8088_0242ac1c0002row6_col4,#T_4d07a120_7c7f_11ec_8088_0242ac1c0002row6_col5,#T_4d07a120_7c7f_11ec_8088_0242ac1c0002row6_col6,#T_4d07a120_7c7f_11ec_8088_0242ac1c0002row6_col7,#T_4d07a120_7c7f_11ec_8088_0242ac1c0002row6_col8,#T_4d07a120_7c7f_11ec_8088_0242ac1c0002row6_col9,#T_4d07a120_7c7f_11ec_8088_0242ac1c0002row6_col10,#T_4d07a120_7c7f_11ec_8088_0242ac1c0002row6_col11,#T_4d07a120_7c7f_11ec_8088_0242ac1c0002row6_col12,#T_4d07a120_7c7f_11ec_8088_0242ac1c0002row6_col13,#T_4d07a120_7c7f_11ec_8088_0242ac1c0002row6_col14,#T_4d07a120_7c7f_11ec_8088_0242ac1c0002row6_col15,#T_4d07a120_7c7f_11ec_8088_0242ac1c0002row6_col16,#T_4d07a120_7c7f_11ec_8088_0242ac1c0002row6_col17,#T_4d07a120_7c7f_11ec_8088_0242ac1c0002row6_col18{\n",
              "            text-align:  center;\n",
              "        }#T_4d07a120_7c7f_11ec_8088_0242ac1c0002row2_col0{\n",
              "            text-align:  center;\n",
              "            width:  10em;\n",
              "             height:  80%;\n",
              "            background:  linear-gradient(90deg,#f5f8d6 80.5%, transparent 80.5%);\n",
              "            color:  #251e1b;\n",
              "            font-size:  12px;\n",
              "        }#T_4d07a120_7c7f_11ec_8088_0242ac1c0002row2_col1{\n",
              "            text-align:  center;\n",
              "            width:  10em;\n",
              "             height:  80%;\n",
              "            background:  linear-gradient(90deg,#c778c8 76.6%, transparent 76.6%);\n",
              "            color:  #251e1b;\n",
              "            font-size:  12px;\n",
              "        }#T_4d07a120_7c7f_11ec_8088_0242ac1c0002row2_col2{\n",
              "            text-align:  center;\n",
              "            width:  10em;\n",
              "             height:  80%;\n",
              "            background:  linear-gradient(90deg,#ff4971 84.4%, transparent 84.4%);\n",
              "            color:  #251e1b;\n",
              "            font-size:  12px;\n",
              "        }#T_4d07a120_7c7f_11ec_8088_0242ac1c0002row2_col3{\n",
              "            text-align:  center;\n",
              "            width:  10em;\n",
              "             height:  80%;\n",
              "            background:  linear-gradient(90deg,#aadbaa 75.0%, transparent 75.0%);\n",
              "            color:  #251e1b;\n",
              "            font-size:  12px;\n",
              "        }#T_4d07a120_7c7f_11ec_8088_0242ac1c0002row3_col0{\n",
              "            text-align:  center;\n",
              "            width:  10em;\n",
              "             height:  80%;\n",
              "            background:  linear-gradient(90deg,#f5f8d6 78.6%, transparent 78.6%);\n",
              "            color:  #251e1b;\n",
              "            font-size:  12px;\n",
              "        }#T_4d07a120_7c7f_11ec_8088_0242ac1c0002row3_col1{\n",
              "            text-align:  center;\n",
              "            width:  10em;\n",
              "             height:  80%;\n",
              "            background:  linear-gradient(90deg,#c778c8 76.2%, transparent 76.2%);\n",
              "            color:  #251e1b;\n",
              "            font-size:  12px;\n",
              "        }#T_4d07a120_7c7f_11ec_8088_0242ac1c0002row3_col2{\n",
              "            text-align:  center;\n",
              "            width:  10em;\n",
              "             height:  80%;\n",
              "            background:  linear-gradient(90deg,#ff4971 78.0%, transparent 78.0%);\n",
              "            color:  #251e1b;\n",
              "            font-size:  12px;\n",
              "        }#T_4d07a120_7c7f_11ec_8088_0242ac1c0002row3_col3{\n",
              "            text-align:  center;\n",
              "            width:  10em;\n",
              "             height:  80%;\n",
              "            background:  linear-gradient(90deg,#aadbaa 75.3%, transparent 75.3%);\n",
              "            color:  #251e1b;\n",
              "            font-size:  12px;\n",
              "        }#T_4d07a120_7c7f_11ec_8088_0242ac1c0002row4_col0,#T_4d07a120_7c7f_11ec_8088_0242ac1c0002row5_col0{\n",
              "            text-align:  center;\n",
              "            width:  10em;\n",
              "             height:  80%;\n",
              "            background:  linear-gradient(90deg,#f5f8d6 76.7%, transparent 76.7%);\n",
              "            color:  #251e1b;\n",
              "            font-size:  12px;\n",
              "        }#T_4d07a120_7c7f_11ec_8088_0242ac1c0002row4_col1,#T_4d07a120_7c7f_11ec_8088_0242ac1c0002row5_col1{\n",
              "            text-align:  center;\n",
              "            width:  10em;\n",
              "             height:  80%;\n",
              "            background:  linear-gradient(90deg,#c778c8 71.6%, transparent 71.6%);\n",
              "            color:  #251e1b;\n",
              "            font-size:  12px;\n",
              "        }#T_4d07a120_7c7f_11ec_8088_0242ac1c0002row4_col2,#T_4d07a120_7c7f_11ec_8088_0242ac1c0002row5_col2{\n",
              "            text-align:  center;\n",
              "            width:  10em;\n",
              "             height:  80%;\n",
              "            background:  linear-gradient(90deg,#ff4971 79.8%, transparent 79.8%);\n",
              "            color:  #251e1b;\n",
              "            font-size:  12px;\n",
              "        }#T_4d07a120_7c7f_11ec_8088_0242ac1c0002row4_col3,#T_4d07a120_7c7f_11ec_8088_0242ac1c0002row5_col3{\n",
              "            text-align:  center;\n",
              "            width:  10em;\n",
              "             height:  80%;\n",
              "            background:  linear-gradient(90deg,#aadbaa 70.5%, transparent 70.5%);\n",
              "            color:  #251e1b;\n",
              "            font-size:  12px;\n",
              "        }#T_4d07a120_7c7f_11ec_8088_0242ac1c0002row6_col0{\n",
              "            text-align:  center;\n",
              "            width:  10em;\n",
              "             height:  80%;\n",
              "            background:  linear-gradient(90deg,#f5f8d6 55.0%, transparent 55.0%);\n",
              "            color:  #251e1b;\n",
              "            font-size:  12px;\n",
              "        }#T_4d07a120_7c7f_11ec_8088_0242ac1c0002row6_col1{\n",
              "            text-align:  center;\n",
              "            width:  10em;\n",
              "             height:  80%;\n",
              "            background:  linear-gradient(90deg,#c778c8 49.8%, transparent 49.8%);\n",
              "            color:  #251e1b;\n",
              "            font-size:  12px;\n",
              "        }#T_4d07a120_7c7f_11ec_8088_0242ac1c0002row6_col2{\n",
              "            text-align:  center;\n",
              "            width:  10em;\n",
              "             height:  80%;\n",
              "            background:  linear-gradient(90deg,#ff4971 50.1%, transparent 50.1%);\n",
              "            color:  #251e1b;\n",
              "            font-size:  12px;\n",
              "        }#T_4d07a120_7c7f_11ec_8088_0242ac1c0002row6_col3{\n",
              "            text-align:  center;\n",
              "            width:  10em;\n",
              "             height:  80%;\n",
              "            background:  linear-gradient(90deg,#aadbaa 50.1%, transparent 50.1%);\n",
              "            color:  #251e1b;\n",
              "            font-size:  12px;\n",
              "        }</style><table id=\"T_4d07a120_7c7f_11ec_8088_0242ac1c0002\" class=\"dataframe\"><thead>    <tr>        <th class=\"blank level0\" ></th>        <th class=\"col_heading level0 col0\" >accuracy</th>        <th class=\"col_heading level0 col1\" >f1_score</th>        <th class=\"col_heading level0 col2\" >precision</th>        <th class=\"col_heading level0 col3\" >recall</th>        <th class=\"col_heading level0 col4\" >ml_framework</th>        <th class=\"col_heading level0 col5\" >transfer_learning</th>        <th class=\"col_heading level0 col6\" >deep_learning</th>        <th class=\"col_heading level0 col7\" >model_type</th>        <th class=\"col_heading level0 col8\" >depth</th>        <th class=\"col_heading level0 col9\" >num_params</th>        <th class=\"col_heading level0 col10\" >dense_layers</th>        <th class=\"col_heading level0 col11\" >softmax_act</th>        <th class=\"col_heading level0 col12\" >relu_act</th>        <th class=\"col_heading level0 col13\" >loss</th>        <th class=\"col_heading level0 col14\" >optimizer</th>        <th class=\"col_heading level0 col15\" >model_config</th>        <th class=\"col_heading level0 col16\" >username</th>        <th class=\"col_heading level0 col17\" >version</th>        <th class=\"col_heading level0 col18\" >memory_size</th>    </tr></thead><tbody>\n",
              "                <tr>\n",
              "                        <th id=\"T_4d07a120_7c7f_11ec_8088_0242ac1c0002level0_row0\" class=\"row_heading level0 row0\" >0</th>\n",
              "                        <td id=\"T_4d07a120_7c7f_11ec_8088_0242ac1c0002row0_col0\" class=\"data row0 col0\" >81.30%</td>\n",
              "                        <td id=\"T_4d07a120_7c7f_11ec_8088_0242ac1c0002row0_col1\" class=\"data row0 col1\" >79.53%</td>\n",
              "                        <td id=\"T_4d07a120_7c7f_11ec_8088_0242ac1c0002row0_col2\" class=\"data row0 col2\" >80.51%</td>\n",
              "                        <td id=\"T_4d07a120_7c7f_11ec_8088_0242ac1c0002row0_col3\" class=\"data row0 col3\" >78.90%</td>\n",
              "                        <td id=\"T_4d07a120_7c7f_11ec_8088_0242ac1c0002row0_col4\" class=\"data row0 col4\" >sklearn</td>\n",
              "                        <td id=\"T_4d07a120_7c7f_11ec_8088_0242ac1c0002row0_col5\" class=\"data row0 col5\" >False</td>\n",
              "                        <td id=\"T_4d07a120_7c7f_11ec_8088_0242ac1c0002row0_col6\" class=\"data row0 col6\" >False</td>\n",
              "                        <td id=\"T_4d07a120_7c7f_11ec_8088_0242ac1c0002row0_col7\" class=\"data row0 col7\" >LogisticRegression</td>\n",
              "                        <td id=\"T_4d07a120_7c7f_11ec_8088_0242ac1c0002row0_col8\" class=\"data row0 col8\" >nan</td>\n",
              "                        <td id=\"T_4d07a120_7c7f_11ec_8088_0242ac1c0002row0_col9\" class=\"data row0 col9\" >10.000000</td>\n",
              "                        <td id=\"T_4d07a120_7c7f_11ec_8088_0242ac1c0002row0_col10\" class=\"data row0 col10\" >nan</td>\n",
              "                        <td id=\"T_4d07a120_7c7f_11ec_8088_0242ac1c0002row0_col11\" class=\"data row0 col11\" >nan</td>\n",
              "                        <td id=\"T_4d07a120_7c7f_11ec_8088_0242ac1c0002row0_col12\" class=\"data row0 col12\" >nan</td>\n",
              "                        <td id=\"T_4d07a120_7c7f_11ec_8088_0242ac1c0002row0_col13\" class=\"data row0 col13\" >nan</td>\n",
              "                        <td id=\"T_4d07a120_7c7f_11ec_8088_0242ac1c0002row0_col14\" class=\"data row0 col14\" >liblinear</td>\n",
              "                        <td id=\"T_4d07a120_7c7f_11ec_8088_0242ac1c0002row0_col15\" class=\"data row0 col15\" >{'C': 10, 'class_weight': None...</td>\n",
              "                        <td id=\"T_4d07a120_7c7f_11ec_8088_0242ac1c0002row0_col16\" class=\"data row0 col16\" >AIModelShare</td>\n",
              "                        <td id=\"T_4d07a120_7c7f_11ec_8088_0242ac1c0002row0_col17\" class=\"data row0 col17\" >1</td>\n",
              "                        <td id=\"T_4d07a120_7c7f_11ec_8088_0242ac1c0002row0_col18\" class=\"data row0 col18\" >nan</td>\n",
              "            </tr>\n",
              "            <tr>\n",
              "                        <th id=\"T_4d07a120_7c7f_11ec_8088_0242ac1c0002level0_row1\" class=\"row_heading level0 row1\" >1</th>\n",
              "                        <td id=\"T_4d07a120_7c7f_11ec_8088_0242ac1c0002row1_col0\" class=\"data row1 col0\" >81.30%</td>\n",
              "                        <td id=\"T_4d07a120_7c7f_11ec_8088_0242ac1c0002row1_col1\" class=\"data row1 col1\" >79.53%</td>\n",
              "                        <td id=\"T_4d07a120_7c7f_11ec_8088_0242ac1c0002row1_col2\" class=\"data row1 col2\" >80.51%</td>\n",
              "                        <td id=\"T_4d07a120_7c7f_11ec_8088_0242ac1c0002row1_col3\" class=\"data row1 col3\" >78.90%</td>\n",
              "                        <td id=\"T_4d07a120_7c7f_11ec_8088_0242ac1c0002row1_col4\" class=\"data row1 col4\" >sklearn</td>\n",
              "                        <td id=\"T_4d07a120_7c7f_11ec_8088_0242ac1c0002row1_col5\" class=\"data row1 col5\" >False</td>\n",
              "                        <td id=\"T_4d07a120_7c7f_11ec_8088_0242ac1c0002row1_col6\" class=\"data row1 col6\" >False</td>\n",
              "                        <td id=\"T_4d07a120_7c7f_11ec_8088_0242ac1c0002row1_col7\" class=\"data row1 col7\" >LogisticRegression</td>\n",
              "                        <td id=\"T_4d07a120_7c7f_11ec_8088_0242ac1c0002row1_col8\" class=\"data row1 col8\" >nan</td>\n",
              "                        <td id=\"T_4d07a120_7c7f_11ec_8088_0242ac1c0002row1_col9\" class=\"data row1 col9\" >10.000000</td>\n",
              "                        <td id=\"T_4d07a120_7c7f_11ec_8088_0242ac1c0002row1_col10\" class=\"data row1 col10\" >nan</td>\n",
              "                        <td id=\"T_4d07a120_7c7f_11ec_8088_0242ac1c0002row1_col11\" class=\"data row1 col11\" >nan</td>\n",
              "                        <td id=\"T_4d07a120_7c7f_11ec_8088_0242ac1c0002row1_col12\" class=\"data row1 col12\" >nan</td>\n",
              "                        <td id=\"T_4d07a120_7c7f_11ec_8088_0242ac1c0002row1_col13\" class=\"data row1 col13\" >nan</td>\n",
              "                        <td id=\"T_4d07a120_7c7f_11ec_8088_0242ac1c0002row1_col14\" class=\"data row1 col14\" >liblinear</td>\n",
              "                        <td id=\"T_4d07a120_7c7f_11ec_8088_0242ac1c0002row1_col15\" class=\"data row1 col15\" >{'C': 10, 'class_weight': None...</td>\n",
              "                        <td id=\"T_4d07a120_7c7f_11ec_8088_0242ac1c0002row1_col16\" class=\"data row1 col16\" >gstreett</td>\n",
              "                        <td id=\"T_4d07a120_7c7f_11ec_8088_0242ac1c0002row1_col17\" class=\"data row1 col17\" >3</td>\n",
              "                        <td id=\"T_4d07a120_7c7f_11ec_8088_0242ac1c0002row1_col18\" class=\"data row1 col18\" >nan</td>\n",
              "            </tr>\n",
              "            <tr>\n",
              "                        <th id=\"T_4d07a120_7c7f_11ec_8088_0242ac1c0002level0_row2\" class=\"row_heading level0 row2\" >2</th>\n",
              "                        <td id=\"T_4d07a120_7c7f_11ec_8088_0242ac1c0002row2_col0\" class=\"data row2 col0\" >80.53%</td>\n",
              "                        <td id=\"T_4d07a120_7c7f_11ec_8088_0242ac1c0002row2_col1\" class=\"data row2 col1\" >76.64%</td>\n",
              "                        <td id=\"T_4d07a120_7c7f_11ec_8088_0242ac1c0002row2_col2\" class=\"data row2 col2\" >84.39%</td>\n",
              "                        <td id=\"T_4d07a120_7c7f_11ec_8088_0242ac1c0002row2_col3\" class=\"data row2 col3\" >75.01%</td>\n",
              "                        <td id=\"T_4d07a120_7c7f_11ec_8088_0242ac1c0002row2_col4\" class=\"data row2 col4\" >sklearn</td>\n",
              "                        <td id=\"T_4d07a120_7c7f_11ec_8088_0242ac1c0002row2_col5\" class=\"data row2 col5\" >False</td>\n",
              "                        <td id=\"T_4d07a120_7c7f_11ec_8088_0242ac1c0002row2_col6\" class=\"data row2 col6\" >False</td>\n",
              "                        <td id=\"T_4d07a120_7c7f_11ec_8088_0242ac1c0002row2_col7\" class=\"data row2 col7\" >RandomForestClassifier</td>\n",
              "                        <td id=\"T_4d07a120_7c7f_11ec_8088_0242ac1c0002row2_col8\" class=\"data row2 col8\" >nan</td>\n",
              "                        <td id=\"T_4d07a120_7c7f_11ec_8088_0242ac1c0002row2_col9\" class=\"data row2 col9\" >nan</td>\n",
              "                        <td id=\"T_4d07a120_7c7f_11ec_8088_0242ac1c0002row2_col10\" class=\"data row2 col10\" >nan</td>\n",
              "                        <td id=\"T_4d07a120_7c7f_11ec_8088_0242ac1c0002row2_col11\" class=\"data row2 col11\" >nan</td>\n",
              "                        <td id=\"T_4d07a120_7c7f_11ec_8088_0242ac1c0002row2_col12\" class=\"data row2 col12\" >nan</td>\n",
              "                        <td id=\"T_4d07a120_7c7f_11ec_8088_0242ac1c0002row2_col13\" class=\"data row2 col13\" >nan</td>\n",
              "                        <td id=\"T_4d07a120_7c7f_11ec_8088_0242ac1c0002row2_col14\" class=\"data row2 col14\" >nan</td>\n",
              "                        <td id=\"T_4d07a120_7c7f_11ec_8088_0242ac1c0002row2_col15\" class=\"data row2 col15\" >{'bootstrap': True, 'ccp_alpha...</td>\n",
              "                        <td id=\"T_4d07a120_7c7f_11ec_8088_0242ac1c0002row2_col16\" class=\"data row2 col16\" >gstreett</td>\n",
              "                        <td id=\"T_4d07a120_7c7f_11ec_8088_0242ac1c0002row2_col17\" class=\"data row2 col17\" >5</td>\n",
              "                        <td id=\"T_4d07a120_7c7f_11ec_8088_0242ac1c0002row2_col18\" class=\"data row2 col18\" >nan</td>\n",
              "            </tr>\n",
              "            <tr>\n",
              "                        <th id=\"T_4d07a120_7c7f_11ec_8088_0242ac1c0002level0_row3\" class=\"row_heading level0 row3\" >3</th>\n",
              "                        <td id=\"T_4d07a120_7c7f_11ec_8088_0242ac1c0002row3_col0\" class=\"data row3 col0\" >78.63%</td>\n",
              "                        <td id=\"T_4d07a120_7c7f_11ec_8088_0242ac1c0002row3_col1\" class=\"data row3 col1\" >76.18%</td>\n",
              "                        <td id=\"T_4d07a120_7c7f_11ec_8088_0242ac1c0002row3_col2\" class=\"data row3 col2\" >77.96%</td>\n",
              "                        <td id=\"T_4d07a120_7c7f_11ec_8088_0242ac1c0002row3_col3\" class=\"data row3 col3\" >75.33%</td>\n",
              "                        <td id=\"T_4d07a120_7c7f_11ec_8088_0242ac1c0002row3_col4\" class=\"data row3 col4\" >sklearn</td>\n",
              "                        <td id=\"T_4d07a120_7c7f_11ec_8088_0242ac1c0002row3_col5\" class=\"data row3 col5\" >False</td>\n",
              "                        <td id=\"T_4d07a120_7c7f_11ec_8088_0242ac1c0002row3_col6\" class=\"data row3 col6\" >False</td>\n",
              "                        <td id=\"T_4d07a120_7c7f_11ec_8088_0242ac1c0002row3_col7\" class=\"data row3 col7\" >GradientBoostingClassifier</td>\n",
              "                        <td id=\"T_4d07a120_7c7f_11ec_8088_0242ac1c0002row3_col8\" class=\"data row3 col8\" >nan</td>\n",
              "                        <td id=\"T_4d07a120_7c7f_11ec_8088_0242ac1c0002row3_col9\" class=\"data row3 col9\" >nan</td>\n",
              "                        <td id=\"T_4d07a120_7c7f_11ec_8088_0242ac1c0002row3_col10\" class=\"data row3 col10\" >nan</td>\n",
              "                        <td id=\"T_4d07a120_7c7f_11ec_8088_0242ac1c0002row3_col11\" class=\"data row3 col11\" >nan</td>\n",
              "                        <td id=\"T_4d07a120_7c7f_11ec_8088_0242ac1c0002row3_col12\" class=\"data row3 col12\" >nan</td>\n",
              "                        <td id=\"T_4d07a120_7c7f_11ec_8088_0242ac1c0002row3_col13\" class=\"data row3 col13\" >nan</td>\n",
              "                        <td id=\"T_4d07a120_7c7f_11ec_8088_0242ac1c0002row3_col14\" class=\"data row3 col14\" >nan</td>\n",
              "                        <td id=\"T_4d07a120_7c7f_11ec_8088_0242ac1c0002row3_col15\" class=\"data row3 col15\" >{'ccp_alpha': 0.0, 'criterion'...</td>\n",
              "                        <td id=\"T_4d07a120_7c7f_11ec_8088_0242ac1c0002row3_col16\" class=\"data row3 col16\" >gstreett</td>\n",
              "                        <td id=\"T_4d07a120_7c7f_11ec_8088_0242ac1c0002row3_col17\" class=\"data row3 col17\" >6</td>\n",
              "                        <td id=\"T_4d07a120_7c7f_11ec_8088_0242ac1c0002row3_col18\" class=\"data row3 col18\" >nan</td>\n",
              "            </tr>\n",
              "            <tr>\n",
              "                        <th id=\"T_4d07a120_7c7f_11ec_8088_0242ac1c0002level0_row4\" class=\"row_heading level0 row4\" >6</th>\n",
              "                        <td id=\"T_4d07a120_7c7f_11ec_8088_0242ac1c0002row4_col0\" class=\"data row4 col0\" >76.72%</td>\n",
              "                        <td id=\"T_4d07a120_7c7f_11ec_8088_0242ac1c0002row4_col1\" class=\"data row4 col1\" >71.62%</td>\n",
              "                        <td id=\"T_4d07a120_7c7f_11ec_8088_0242ac1c0002row4_col2\" class=\"data row4 col2\" >79.77%</td>\n",
              "                        <td id=\"T_4d07a120_7c7f_11ec_8088_0242ac1c0002row4_col3\" class=\"data row4 col3\" >70.52%</td>\n",
              "                        <td id=\"T_4d07a120_7c7f_11ec_8088_0242ac1c0002row4_col4\" class=\"data row4 col4\" >sklearn</td>\n",
              "                        <td id=\"T_4d07a120_7c7f_11ec_8088_0242ac1c0002row4_col5\" class=\"data row4 col5\" >False</td>\n",
              "                        <td id=\"T_4d07a120_7c7f_11ec_8088_0242ac1c0002row4_col6\" class=\"data row4 col6\" >False</td>\n",
              "                        <td id=\"T_4d07a120_7c7f_11ec_8088_0242ac1c0002row4_col7\" class=\"data row4 col7\" >LogisticRegression</td>\n",
              "                        <td id=\"T_4d07a120_7c7f_11ec_8088_0242ac1c0002row4_col8\" class=\"data row4 col8\" >nan</td>\n",
              "                        <td id=\"T_4d07a120_7c7f_11ec_8088_0242ac1c0002row4_col9\" class=\"data row4 col9\" >10.000000</td>\n",
              "                        <td id=\"T_4d07a120_7c7f_11ec_8088_0242ac1c0002row4_col10\" class=\"data row4 col10\" >nan</td>\n",
              "                        <td id=\"T_4d07a120_7c7f_11ec_8088_0242ac1c0002row4_col11\" class=\"data row4 col11\" >nan</td>\n",
              "                        <td id=\"T_4d07a120_7c7f_11ec_8088_0242ac1c0002row4_col12\" class=\"data row4 col12\" >nan</td>\n",
              "                        <td id=\"T_4d07a120_7c7f_11ec_8088_0242ac1c0002row4_col13\" class=\"data row4 col13\" >nan</td>\n",
              "                        <td id=\"T_4d07a120_7c7f_11ec_8088_0242ac1c0002row4_col14\" class=\"data row4 col14\" >lbfgs</td>\n",
              "                        <td id=\"T_4d07a120_7c7f_11ec_8088_0242ac1c0002row4_col15\" class=\"data row4 col15\" >{'C': 0.01, 'class_weight': No...</td>\n",
              "                        <td id=\"T_4d07a120_7c7f_11ec_8088_0242ac1c0002row4_col16\" class=\"data row4 col16\" >AIModelShare</td>\n",
              "                        <td id=\"T_4d07a120_7c7f_11ec_8088_0242ac1c0002row4_col17\" class=\"data row4 col17\" >2</td>\n",
              "                        <td id=\"T_4d07a120_7c7f_11ec_8088_0242ac1c0002row4_col18\" class=\"data row4 col18\" >nan</td>\n",
              "            </tr>\n",
              "            <tr>\n",
              "                        <th id=\"T_4d07a120_7c7f_11ec_8088_0242ac1c0002level0_row5\" class=\"row_heading level0 row5\" >7</th>\n",
              "                        <td id=\"T_4d07a120_7c7f_11ec_8088_0242ac1c0002row5_col0\" class=\"data row5 col0\" >76.72%</td>\n",
              "                        <td id=\"T_4d07a120_7c7f_11ec_8088_0242ac1c0002row5_col1\" class=\"data row5 col1\" >71.62%</td>\n",
              "                        <td id=\"T_4d07a120_7c7f_11ec_8088_0242ac1c0002row5_col2\" class=\"data row5 col2\" >79.77%</td>\n",
              "                        <td id=\"T_4d07a120_7c7f_11ec_8088_0242ac1c0002row5_col3\" class=\"data row5 col3\" >70.52%</td>\n",
              "                        <td id=\"T_4d07a120_7c7f_11ec_8088_0242ac1c0002row5_col4\" class=\"data row5 col4\" >sklearn</td>\n",
              "                        <td id=\"T_4d07a120_7c7f_11ec_8088_0242ac1c0002row5_col5\" class=\"data row5 col5\" >False</td>\n",
              "                        <td id=\"T_4d07a120_7c7f_11ec_8088_0242ac1c0002row5_col6\" class=\"data row5 col6\" >False</td>\n",
              "                        <td id=\"T_4d07a120_7c7f_11ec_8088_0242ac1c0002row5_col7\" class=\"data row5 col7\" >LogisticRegression</td>\n",
              "                        <td id=\"T_4d07a120_7c7f_11ec_8088_0242ac1c0002row5_col8\" class=\"data row5 col8\" >nan</td>\n",
              "                        <td id=\"T_4d07a120_7c7f_11ec_8088_0242ac1c0002row5_col9\" class=\"data row5 col9\" >10.000000</td>\n",
              "                        <td id=\"T_4d07a120_7c7f_11ec_8088_0242ac1c0002row5_col10\" class=\"data row5 col10\" >nan</td>\n",
              "                        <td id=\"T_4d07a120_7c7f_11ec_8088_0242ac1c0002row5_col11\" class=\"data row5 col11\" >nan</td>\n",
              "                        <td id=\"T_4d07a120_7c7f_11ec_8088_0242ac1c0002row5_col12\" class=\"data row5 col12\" >nan</td>\n",
              "                        <td id=\"T_4d07a120_7c7f_11ec_8088_0242ac1c0002row5_col13\" class=\"data row5 col13\" >nan</td>\n",
              "                        <td id=\"T_4d07a120_7c7f_11ec_8088_0242ac1c0002row5_col14\" class=\"data row5 col14\" >liblinear</td>\n",
              "                        <td id=\"T_4d07a120_7c7f_11ec_8088_0242ac1c0002row5_col15\" class=\"data row5 col15\" >{'C': 10, 'class_weight': None...</td>\n",
              "                        <td id=\"T_4d07a120_7c7f_11ec_8088_0242ac1c0002row5_col16\" class=\"data row5 col16\" >gstreett</td>\n",
              "                        <td id=\"T_4d07a120_7c7f_11ec_8088_0242ac1c0002row5_col17\" class=\"data row5 col17\" >4</td>\n",
              "                        <td id=\"T_4d07a120_7c7f_11ec_8088_0242ac1c0002row5_col18\" class=\"data row5 col18\" >nan</td>\n",
              "            </tr>\n",
              "            <tr>\n",
              "                        <th id=\"T_4d07a120_7c7f_11ec_8088_0242ac1c0002level0_row6\" class=\"row_heading level0 row6\" >8</th>\n",
              "                        <td id=\"T_4d07a120_7c7f_11ec_8088_0242ac1c0002row6_col0\" class=\"data row6 col0\" >54.96%</td>\n",
              "                        <td id=\"T_4d07a120_7c7f_11ec_8088_0242ac1c0002row6_col1\" class=\"data row6 col1\" >49.80%</td>\n",
              "                        <td id=\"T_4d07a120_7c7f_11ec_8088_0242ac1c0002row6_col2\" class=\"data row6 col2\" >50.07%</td>\n",
              "                        <td id=\"T_4d07a120_7c7f_11ec_8088_0242ac1c0002row6_col3\" class=\"data row6 col3\" >50.06%</td>\n",
              "                        <td id=\"T_4d07a120_7c7f_11ec_8088_0242ac1c0002row6_col4\" class=\"data row6 col4\" >keras</td>\n",
              "                        <td id=\"T_4d07a120_7c7f_11ec_8088_0242ac1c0002row6_col5\" class=\"data row6 col5\" >False</td>\n",
              "                        <td id=\"T_4d07a120_7c7f_11ec_8088_0242ac1c0002row6_col6\" class=\"data row6 col6\" >True</td>\n",
              "                        <td id=\"T_4d07a120_7c7f_11ec_8088_0242ac1c0002row6_col7\" class=\"data row6 col7\" >Sequential</td>\n",
              "                        <td id=\"T_4d07a120_7c7f_11ec_8088_0242ac1c0002row6_col8\" class=\"data row6 col8\" >4.000000</td>\n",
              "                        <td id=\"T_4d07a120_7c7f_11ec_8088_0242ac1c0002row6_col9\" class=\"data row6 col9\" >9154.000000</td>\n",
              "                        <td id=\"T_4d07a120_7c7f_11ec_8088_0242ac1c0002row6_col10\" class=\"data row6 col10\" >4.000000</td>\n",
              "                        <td id=\"T_4d07a120_7c7f_11ec_8088_0242ac1c0002row6_col11\" class=\"data row6 col11\" >1.000000</td>\n",
              "                        <td id=\"T_4d07a120_7c7f_11ec_8088_0242ac1c0002row6_col12\" class=\"data row6 col12\" >3.000000</td>\n",
              "                        <td id=\"T_4d07a120_7c7f_11ec_8088_0242ac1c0002row6_col13\" class=\"data row6 col13\" >str</td>\n",
              "                        <td id=\"T_4d07a120_7c7f_11ec_8088_0242ac1c0002row6_col14\" class=\"data row6 col14\" >SGD</td>\n",
              "                        <td id=\"T_4d07a120_7c7f_11ec_8088_0242ac1c0002row6_col15\" class=\"data row6 col15\" >{'name': 'sequential', 'layers...</td>\n",
              "                        <td id=\"T_4d07a120_7c7f_11ec_8088_0242ac1c0002row6_col16\" class=\"data row6 col16\" >gstreett</td>\n",
              "                        <td id=\"T_4d07a120_7c7f_11ec_8088_0242ac1c0002row6_col17\" class=\"data row6 col17\" >7</td>\n",
              "                        <td id=\"T_4d07a120_7c7f_11ec_8088_0242ac1c0002row6_col18\" class=\"data row6 col18\" >1322832.000000</td>\n",
              "            </tr>\n",
              "    </tbody></table>"
            ],
            "text/plain": [
              "<pandas.io.formats.style.Styler at 0x7f3d0c3f4f90>"
            ]
          },
          "metadata": {},
          "execution_count": 14
        }
      ]
    },
    {
      "cell_type": "markdown",
      "metadata": {
        "id": "bwNKs0wP4r5s"
      },
      "source": [
        "## 5. Repeat submission process to improve place on leaderboard\n"
      ]
    },
    {
      "cell_type": "code",
      "metadata": {
        "colab": {
          "base_uri": "https://localhost:8080/"
        },
        "id": "FgSs5PAtPCZH",
        "outputId": "ac8b09d0-9f85-48e3-9ccb-789d02e3d44d"
      },
      "source": [
        "# Train and submit model 2 using same preprocessor (note that you could save a new preprocessor, but we will use the same one for this example).\n",
        "import keras\n",
        "from keras.models import Sequential\n",
        "from keras.layers import Dense, Dropout, Activation\n",
        "\n",
        "model_2 = Sequential()\n",
        "model_2.add(Dense(128, input_dim=10, activation='relu'))\n",
        "model_2.add(Dropout(.3))\n",
        "model_2.add(Dense(64, activation='relu'))\n",
        "model_2.add(Dense(64, activation='relu'))\n",
        "model_2.add(Dropout(.3))\n",
        "model_2.add(Dense(64, activation='relu'))\n",
        "\n",
        "model_2.add(Dense(2, activation='softmax')) \n",
        "                                            \n",
        "# Compile model\n",
        "model_2.compile(loss='categorical_crossentropy', optimizer='sgd', metrics=['accuracy'])\n",
        "\n",
        "# Fitting the NN to the Training set\n",
        "model_2.fit(preprocessor(X_train), pd.get_dummies(y_train), \n",
        "               batch_size = 20, \n",
        "               epochs = 5, validation_split=0.25) "
      ],
      "execution_count": 15,
      "outputs": [
        {
          "output_type": "stream",
          "name": "stdout",
          "text": [
            "Epoch 1/5\n",
            "40/40 [==============================] - 1s 8ms/step - loss: 0.7012 - accuracy: 0.4586 - val_loss: 0.6810 - val_accuracy: 0.6183\n",
            "Epoch 2/5\n",
            "40/40 [==============================] - 0s 3ms/step - loss: 0.6703 - accuracy: 0.6166 - val_loss: 0.6560 - val_accuracy: 0.6260\n",
            "Epoch 3/5\n",
            "40/40 [==============================] - 0s 3ms/step - loss: 0.6548 - accuracy: 0.6204 - val_loss: 0.6372 - val_accuracy: 0.6260\n",
            "Epoch 4/5\n",
            "40/40 [==============================] - 0s 3ms/step - loss: 0.6444 - accuracy: 0.6306 - val_loss: 0.6204 - val_accuracy: 0.6450\n",
            "Epoch 5/5\n",
            "40/40 [==============================] - 0s 3ms/step - loss: 0.6307 - accuracy: 0.6382 - val_loss: 0.6031 - val_accuracy: 0.6832\n"
          ]
        },
        {
          "output_type": "execute_result",
          "data": {
            "text/plain": [
              "<keras.callbacks.History at 0x7f3d858599d0>"
            ]
          },
          "metadata": {},
          "execution_count": 15
        }
      ]
    },
    {
      "cell_type": "code",
      "metadata": {
        "id": "aIdmSpYVPYAw"
      },
      "source": [
        "# Save keras model to local ONNX file\n",
        "from aimodelshare.aimsonnx import model_to_onnx\n",
        "\n",
        "onnx_model = model_to_onnx(model_2, framework='keras',\n",
        "                          transfer_learning=False,\n",
        "                          deep_learning=True)\n",
        "\n",
        "with open(\"model2.onnx\", \"wb\") as f:\n",
        "    f.write(onnx_model.SerializeToString())"
      ],
      "execution_count": 16,
      "outputs": []
    },
    {
      "cell_type": "code",
      "metadata": {
        "colab": {
          "base_uri": "https://localhost:8080/"
        },
        "id": "nszPPrfwPlUk",
        "outputId": "80b5963e-48f9-4ae4-e144-1242963361d8"
      },
      "source": [
        "#Submit Model 2: \n",
        "\n",
        "#-- Generate predicted y values (Model 2)\n",
        "#Note: Keras predict returns the predicted column index location for classification models\n",
        "prediction_column_index=model_2.predict(preprocessor(X_test)).argmax(axis=1)\n",
        "\n",
        "# extract correct prediction labels \n",
        "prediction_labels = [y_train.columns[i] for i in prediction_column_index]\n",
        "\n",
        "# Submit Model 2 to Competition Leaderboard\n",
        "mycompetition.submit_model(model_filepath = \"model2.onnx\",\n",
        "                                 prediction_submission=prediction_labels,\n",
        "                                 preprocessor_filepath=\"preprocessor.zip\")"
      ],
      "execution_count": 17,
      "outputs": [
        {
          "output_type": "stream",
          "name": "stdout",
          "text": [
            "Insert search tags to help users find your model (optional): \n",
            "Provide any useful notes about your model (optional): \n",
            "\n",
            "Your model has been submitted as model version 8\n",
            "\n",
            "To submit code used to create this model or to view current leaderboard navigate to Model Playground: \n",
            "\n",
            " https://www.modelshare.org/detail/model:1128\n"
          ]
        }
      ]
    },
    {
      "cell_type": "code",
      "metadata": {
        "colab": {
          "base_uri": "https://localhost:8080/",
          "height": 180
        },
        "id": "qLl7yLpVEx26",
        "outputId": "9ac947bb-66e8-4d6a-c691-64176d818d67"
      },
      "source": [
        "# Compare two or more models\n",
        "data=mycompetition.compare_models([7,8], verbose=1)\n",
        "mycompetition.stylize_compare(data)"
      ],
      "execution_count": 18,
      "outputs": [
        {
          "output_type": "display_data",
          "data": {
            "text/html": [
              "<style  type=\"text/css\" >\n",
              "    #T_6e0eb2aa_7c7f_11ec_8088_0242ac1c0002 caption {\n",
              "          color: black;\n",
              "          font-size: 18px;\n",
              "    }#T_6e0eb2aa_7c7f_11ec_8088_0242ac1c0002row0_col0,#T_6e0eb2aa_7c7f_11ec_8088_0242ac1c0002row0_col3,#T_6e0eb2aa_7c7f_11ec_8088_0242ac1c0002row1_col0,#T_6e0eb2aa_7c7f_11ec_8088_0242ac1c0002row2_col0,#T_6e0eb2aa_7c7f_11ec_8088_0242ac1c0002row2_col3,#T_6e0eb2aa_7c7f_11ec_8088_0242ac1c0002row3_col0,#T_6e0eb2aa_7c7f_11ec_8088_0242ac1c0002row3_col3,#T_6e0eb2aa_7c7f_11ec_8088_0242ac1c0002row5_col3,#T_6e0eb2aa_7c7f_11ec_8088_0242ac1c0002row6_col3{\n",
              "            background:  #fff2ae;\n",
              "            color:  black;\n",
              "            color:  black;\n",
              "        }#T_6e0eb2aa_7c7f_11ec_8088_0242ac1c0002row0_col1,#T_6e0eb2aa_7c7f_11ec_8088_0242ac1c0002row0_col2,#T_6e0eb2aa_7c7f_11ec_8088_0242ac1c0002row0_col4,#T_6e0eb2aa_7c7f_11ec_8088_0242ac1c0002row0_col5,#T_6e0eb2aa_7c7f_11ec_8088_0242ac1c0002row1_col1,#T_6e0eb2aa_7c7f_11ec_8088_0242ac1c0002row1_col2,#T_6e0eb2aa_7c7f_11ec_8088_0242ac1c0002row1_col4,#T_6e0eb2aa_7c7f_11ec_8088_0242ac1c0002row1_col5,#T_6e0eb2aa_7c7f_11ec_8088_0242ac1c0002row2_col1,#T_6e0eb2aa_7c7f_11ec_8088_0242ac1c0002row2_col2,#T_6e0eb2aa_7c7f_11ec_8088_0242ac1c0002row2_col4,#T_6e0eb2aa_7c7f_11ec_8088_0242ac1c0002row2_col5,#T_6e0eb2aa_7c7f_11ec_8088_0242ac1c0002row3_col1,#T_6e0eb2aa_7c7f_11ec_8088_0242ac1c0002row3_col2,#T_6e0eb2aa_7c7f_11ec_8088_0242ac1c0002row3_col4,#T_6e0eb2aa_7c7f_11ec_8088_0242ac1c0002row3_col5,#T_6e0eb2aa_7c7f_11ec_8088_0242ac1c0002row4_col0,#T_6e0eb2aa_7c7f_11ec_8088_0242ac1c0002row4_col1,#T_6e0eb2aa_7c7f_11ec_8088_0242ac1c0002row4_col2,#T_6e0eb2aa_7c7f_11ec_8088_0242ac1c0002row4_col4,#T_6e0eb2aa_7c7f_11ec_8088_0242ac1c0002row4_col5,#T_6e0eb2aa_7c7f_11ec_8088_0242ac1c0002row5_col0,#T_6e0eb2aa_7c7f_11ec_8088_0242ac1c0002row5_col1,#T_6e0eb2aa_7c7f_11ec_8088_0242ac1c0002row5_col2,#T_6e0eb2aa_7c7f_11ec_8088_0242ac1c0002row5_col4,#T_6e0eb2aa_7c7f_11ec_8088_0242ac1c0002row5_col5,#T_6e0eb2aa_7c7f_11ec_8088_0242ac1c0002row6_col0,#T_6e0eb2aa_7c7f_11ec_8088_0242ac1c0002row6_col1,#T_6e0eb2aa_7c7f_11ec_8088_0242ac1c0002row6_col2,#T_6e0eb2aa_7c7f_11ec_8088_0242ac1c0002row6_col4,#T_6e0eb2aa_7c7f_11ec_8088_0242ac1c0002row6_col5{\n",
              "            background:  white;\n",
              "            color:  black;\n",
              "            color:  black;\n",
              "        }#T_6e0eb2aa_7c7f_11ec_8088_0242ac1c0002row1_col3,#T_6e0eb2aa_7c7f_11ec_8088_0242ac1c0002row4_col3{\n",
              "            background:  #cbd5e8;\n",
              "            color:  black;\n",
              "            color:  black;\n",
              "        }</style><table id=\"T_6e0eb2aa_7c7f_11ec_8088_0242ac1c0002\" ><caption>Model type: Neural Network</caption><thead>    <tr>        <th class=\"blank level0\" ></th>        <th class=\"col_heading level0 col0\" >Model_7_Layer</th>        <th class=\"col_heading level0 col1\" >Model_7_Shape</th>        <th class=\"col_heading level0 col2\" >Model_7_Params</th>        <th class=\"col_heading level0 col3\" >Model_8_Layer</th>        <th class=\"col_heading level0 col4\" >Model_8_Shape</th>        <th class=\"col_heading level0 col5\" >Model_8_Params</th>    </tr></thead><tbody>\n",
              "                <tr>\n",
              "                        <th id=\"T_6e0eb2aa_7c7f_11ec_8088_0242ac1c0002level0_row0\" class=\"row_heading level0 row0\" >0</th>\n",
              "                        <td id=\"T_6e0eb2aa_7c7f_11ec_8088_0242ac1c0002row0_col0\" class=\"data row0 col0\" >Dense</td>\n",
              "                        <td id=\"T_6e0eb2aa_7c7f_11ec_8088_0242ac1c0002row0_col1\" class=\"data row0 col1\" >[None, 64]</td>\n",
              "                        <td id=\"T_6e0eb2aa_7c7f_11ec_8088_0242ac1c0002row0_col2\" class=\"data row0 col2\" >704.000000</td>\n",
              "                        <td id=\"T_6e0eb2aa_7c7f_11ec_8088_0242ac1c0002row0_col3\" class=\"data row0 col3\" >Dense</td>\n",
              "                        <td id=\"T_6e0eb2aa_7c7f_11ec_8088_0242ac1c0002row0_col4\" class=\"data row0 col4\" >[None, 128]</td>\n",
              "                        <td id=\"T_6e0eb2aa_7c7f_11ec_8088_0242ac1c0002row0_col5\" class=\"data row0 col5\" >1408</td>\n",
              "            </tr>\n",
              "            <tr>\n",
              "                        <th id=\"T_6e0eb2aa_7c7f_11ec_8088_0242ac1c0002level0_row1\" class=\"row_heading level0 row1\" >1</th>\n",
              "                        <td id=\"T_6e0eb2aa_7c7f_11ec_8088_0242ac1c0002row1_col0\" class=\"data row1 col0\" >Dense</td>\n",
              "                        <td id=\"T_6e0eb2aa_7c7f_11ec_8088_0242ac1c0002row1_col1\" class=\"data row1 col1\" >[None, 64]</td>\n",
              "                        <td id=\"T_6e0eb2aa_7c7f_11ec_8088_0242ac1c0002row1_col2\" class=\"data row1 col2\" >4160.000000</td>\n",
              "                        <td id=\"T_6e0eb2aa_7c7f_11ec_8088_0242ac1c0002row1_col3\" class=\"data row1 col3\" >Dropout</td>\n",
              "                        <td id=\"T_6e0eb2aa_7c7f_11ec_8088_0242ac1c0002row1_col4\" class=\"data row1 col4\" >[None, 128]</td>\n",
              "                        <td id=\"T_6e0eb2aa_7c7f_11ec_8088_0242ac1c0002row1_col5\" class=\"data row1 col5\" >0</td>\n",
              "            </tr>\n",
              "            <tr>\n",
              "                        <th id=\"T_6e0eb2aa_7c7f_11ec_8088_0242ac1c0002level0_row2\" class=\"row_heading level0 row2\" >2</th>\n",
              "                        <td id=\"T_6e0eb2aa_7c7f_11ec_8088_0242ac1c0002row2_col0\" class=\"data row2 col0\" >Dense</td>\n",
              "                        <td id=\"T_6e0eb2aa_7c7f_11ec_8088_0242ac1c0002row2_col1\" class=\"data row2 col1\" >[None, 64]</td>\n",
              "                        <td id=\"T_6e0eb2aa_7c7f_11ec_8088_0242ac1c0002row2_col2\" class=\"data row2 col2\" >4160.000000</td>\n",
              "                        <td id=\"T_6e0eb2aa_7c7f_11ec_8088_0242ac1c0002row2_col3\" class=\"data row2 col3\" >Dense</td>\n",
              "                        <td id=\"T_6e0eb2aa_7c7f_11ec_8088_0242ac1c0002row2_col4\" class=\"data row2 col4\" >[None, 64]</td>\n",
              "                        <td id=\"T_6e0eb2aa_7c7f_11ec_8088_0242ac1c0002row2_col5\" class=\"data row2 col5\" >8256</td>\n",
              "            </tr>\n",
              "            <tr>\n",
              "                        <th id=\"T_6e0eb2aa_7c7f_11ec_8088_0242ac1c0002level0_row3\" class=\"row_heading level0 row3\" >3</th>\n",
              "                        <td id=\"T_6e0eb2aa_7c7f_11ec_8088_0242ac1c0002row3_col0\" class=\"data row3 col0\" >Dense</td>\n",
              "                        <td id=\"T_6e0eb2aa_7c7f_11ec_8088_0242ac1c0002row3_col1\" class=\"data row3 col1\" >[None, 2]</td>\n",
              "                        <td id=\"T_6e0eb2aa_7c7f_11ec_8088_0242ac1c0002row3_col2\" class=\"data row3 col2\" >130.000000</td>\n",
              "                        <td id=\"T_6e0eb2aa_7c7f_11ec_8088_0242ac1c0002row3_col3\" class=\"data row3 col3\" >Dense</td>\n",
              "                        <td id=\"T_6e0eb2aa_7c7f_11ec_8088_0242ac1c0002row3_col4\" class=\"data row3 col4\" >[None, 64]</td>\n",
              "                        <td id=\"T_6e0eb2aa_7c7f_11ec_8088_0242ac1c0002row3_col5\" class=\"data row3 col5\" >4160</td>\n",
              "            </tr>\n",
              "            <tr>\n",
              "                        <th id=\"T_6e0eb2aa_7c7f_11ec_8088_0242ac1c0002level0_row4\" class=\"row_heading level0 row4\" >4</th>\n",
              "                        <td id=\"T_6e0eb2aa_7c7f_11ec_8088_0242ac1c0002row4_col0\" class=\"data row4 col0\" >None</td>\n",
              "                        <td id=\"T_6e0eb2aa_7c7f_11ec_8088_0242ac1c0002row4_col1\" class=\"data row4 col1\" >None</td>\n",
              "                        <td id=\"T_6e0eb2aa_7c7f_11ec_8088_0242ac1c0002row4_col2\" class=\"data row4 col2\" >nan</td>\n",
              "                        <td id=\"T_6e0eb2aa_7c7f_11ec_8088_0242ac1c0002row4_col3\" class=\"data row4 col3\" >Dropout</td>\n",
              "                        <td id=\"T_6e0eb2aa_7c7f_11ec_8088_0242ac1c0002row4_col4\" class=\"data row4 col4\" >[None, 64]</td>\n",
              "                        <td id=\"T_6e0eb2aa_7c7f_11ec_8088_0242ac1c0002row4_col5\" class=\"data row4 col5\" >0</td>\n",
              "            </tr>\n",
              "            <tr>\n",
              "                        <th id=\"T_6e0eb2aa_7c7f_11ec_8088_0242ac1c0002level0_row5\" class=\"row_heading level0 row5\" >5</th>\n",
              "                        <td id=\"T_6e0eb2aa_7c7f_11ec_8088_0242ac1c0002row5_col0\" class=\"data row5 col0\" >None</td>\n",
              "                        <td id=\"T_6e0eb2aa_7c7f_11ec_8088_0242ac1c0002row5_col1\" class=\"data row5 col1\" >None</td>\n",
              "                        <td id=\"T_6e0eb2aa_7c7f_11ec_8088_0242ac1c0002row5_col2\" class=\"data row5 col2\" >nan</td>\n",
              "                        <td id=\"T_6e0eb2aa_7c7f_11ec_8088_0242ac1c0002row5_col3\" class=\"data row5 col3\" >Dense</td>\n",
              "                        <td id=\"T_6e0eb2aa_7c7f_11ec_8088_0242ac1c0002row5_col4\" class=\"data row5 col4\" >[None, 64]</td>\n",
              "                        <td id=\"T_6e0eb2aa_7c7f_11ec_8088_0242ac1c0002row5_col5\" class=\"data row5 col5\" >4160</td>\n",
              "            </tr>\n",
              "            <tr>\n",
              "                        <th id=\"T_6e0eb2aa_7c7f_11ec_8088_0242ac1c0002level0_row6\" class=\"row_heading level0 row6\" >6</th>\n",
              "                        <td id=\"T_6e0eb2aa_7c7f_11ec_8088_0242ac1c0002row6_col0\" class=\"data row6 col0\" >None</td>\n",
              "                        <td id=\"T_6e0eb2aa_7c7f_11ec_8088_0242ac1c0002row6_col1\" class=\"data row6 col1\" >None</td>\n",
              "                        <td id=\"T_6e0eb2aa_7c7f_11ec_8088_0242ac1c0002row6_col2\" class=\"data row6 col2\" >nan</td>\n",
              "                        <td id=\"T_6e0eb2aa_7c7f_11ec_8088_0242ac1c0002row6_col3\" class=\"data row6 col3\" >Dense</td>\n",
              "                        <td id=\"T_6e0eb2aa_7c7f_11ec_8088_0242ac1c0002row6_col4\" class=\"data row6 col4\" >[None, 2]</td>\n",
              "                        <td id=\"T_6e0eb2aa_7c7f_11ec_8088_0242ac1c0002row6_col5\" class=\"data row6 col5\" >130</td>\n",
              "            </tr>\n",
              "    </tbody></table>"
            ],
            "text/plain": [
              "<IPython.core.display.HTML object>"
            ]
          },
          "metadata": {}
        }
      ]
    },
    {
      "cell_type": "markdown",
      "source": [
        "## Optional: Tune model within range of hyperparameters with Keras Tuner\n",
        "\n",
        "*Simple example shown below. Consult [documentation](https://keras.io/guides/keras_tuner/getting_started/) to see full functionality.*"
      ],
      "metadata": {
        "id": "_ZbHiSrQdhyf"
      }
    },
    {
      "cell_type": "code",
      "source": [
        "! pip install keras_tuner"
      ],
      "metadata": {
        "id": "EHdEIS4jdoLd"
      },
      "execution_count": null,
      "outputs": []
    },
    {
      "cell_type": "code",
      "source": [
        "#Separate validation data \n",
        "from sklearn.model_selection import train_test_split\n",
        "x_train_split, x_val, y_train_split, y_val = train_test_split(\n",
        "     X_train, y_train, test_size=0.2, random_state=42)"
      ],
      "metadata": {
        "id": "Ou4GME-jdskD"
      },
      "execution_count": 20,
      "outputs": []
    },
    {
      "cell_type": "code",
      "source": [
        "import keras\n",
        "from keras.models import Sequential\n",
        "from keras.layers import Dense, Activation, Dropout, BatchNormalization\n",
        "from keras.regularizers import l1, l2, l1_l2\n",
        "import keras_tuner as kt\n",
        "\n",
        "\n",
        "#Define model structure & parameter search space with function\n",
        "def build_model(hp):\n",
        "    model = keras.Sequential()\n",
        "    model.add(Dense(64, input_dim=10, activation='relu', kernel_regularizer=l2(0.01), bias_regularizer=l2(0.01)))\n",
        "    model.add(Dense(64, activation='relu', kernel_regularizer=l2(0.01), bias_regularizer=l2(0.01)))\n",
        "    model.add(Dense(units=hp.Int(\"units\", min_value=32, max_value=512, step=32), #range 32-512 inclusive, minimum step between tested values is 32\n",
        "                    activation='relu', kernel_regularizer=l2(0.01), bias_regularizer=l2(0.01)))\n",
        "    model.add(Dense(2, activation='softmax')) \n",
        "    model.compile(\n",
        "        optimizer=\"rmsprop\", loss=\"binary_crossentropy\", metrics=[\"accuracy\"],\n",
        "    )\n",
        "    return model\n",
        "\n",
        "#initialize the tuner (which will search through parameters)\n",
        "tuner = kt.RandomSearch(\n",
        "    hypermodel=build_model, \n",
        "    objective=\"val_accuracy\", # objective to optimize\n",
        "    max_trials=3, #max number of trials to run during search\n",
        "    executions_per_trial=3, #higher number reduces variance of results; guages model performance more accurately \n",
        "    overwrite=True,\n",
        "    directory=\"tuning_model\",\n",
        "    project_name=\"tuning_units\",\n",
        ")\n",
        "\n",
        "tuner.search(preprocessor(x_train_split), y_train_split, epochs=1, validation_data=(preprocessor(x_val), y_val))"
      ],
      "metadata": {
        "colab": {
          "base_uri": "https://localhost:8080/"
        },
        "id": "4jcPr9rpdy5f",
        "outputId": "5a97454d-2d8b-42ce-d1cf-8309de65e13f"
      },
      "execution_count": 21,
      "outputs": [
        {
          "output_type": "stream",
          "name": "stdout",
          "text": [
            "Trial 3 Complete [00h 00m 04s]\n",
            "val_accuracy: 0.7730158567428589\n",
            "\n",
            "Best val_accuracy So Far: 0.7730158567428589\n",
            "Total elapsed time: 00h 00m 13s\n"
          ]
        }
      ]
    },
    {
      "cell_type": "code",
      "source": [
        "# Build model with best hyperparameters\n",
        "\n",
        "# Get the top 2 hyperparameters.\n",
        "best_hps = tuner.get_best_hyperparameters(5)\n",
        "# Build the model with the best hp.\n",
        "tuned_model = build_model(best_hps[0])\n",
        "# Fit with the entire dataset.\n",
        "tuned_model.fit(x=preprocessor(X_train), y=y_train, epochs=5)"
      ],
      "metadata": {
        "colab": {
          "base_uri": "https://localhost:8080/"
        },
        "id": "MUXMMMDafF_d",
        "outputId": "425835e6-f4fe-459d-f206-a18d643ce28f"
      },
      "execution_count": 22,
      "outputs": [
        {
          "output_type": "stream",
          "name": "stdout",
          "text": [
            "Epoch 1/5\n",
            "33/33 [==============================] - 1s 3ms/step - loss: 1.8812 - accuracy: 0.7182\n",
            "Epoch 2/5\n",
            "33/33 [==============================] - 0s 3ms/step - loss: 1.2622 - accuracy: 0.7832\n",
            "Epoch 3/5\n",
            "33/33 [==============================] - 0s 3ms/step - loss: 0.9466 - accuracy: 0.7832\n",
            "Epoch 4/5\n",
            "33/33 [==============================] - 0s 2ms/step - loss: 0.7710 - accuracy: 0.7784\n",
            "Epoch 5/5\n",
            "33/33 [==============================] - 0s 2ms/step - loss: 0.6692 - accuracy: 0.7803\n"
          ]
        },
        {
          "output_type": "execute_result",
          "data": {
            "text/plain": [
              "<keras.callbacks.History at 0x7f3d03162550>"
            ]
          },
          "metadata": {},
          "execution_count": 22
        }
      ]
    },
    {
      "cell_type": "code",
      "metadata": {
        "id": "HvLuIvOjHLH2"
      },
      "source": [
        "# Save keras model to local ONNX file\n",
        "from aimodelshare.aimsonnx import model_to_onnx\n",
        "\n",
        "onnx_model = model_to_onnx(tuned_model, framework='keras',\n",
        "                          transfer_learning=False,\n",
        "                          deep_learning=True)\n",
        "\n",
        "with open(\"tuned_model.onnx\", \"wb\") as f:\n",
        "    f.write(onnx_model.SerializeToString())"
      ],
      "execution_count": 23,
      "outputs": []
    },
    {
      "cell_type": "code",
      "metadata": {
        "colab": {
          "base_uri": "https://localhost:8080/"
        },
        "id": "sMidHABfHVN7",
        "outputId": "c9ccc62d-5210-4ea2-afff-70e676e47a04"
      },
      "source": [
        "#Submit Model 3: \n",
        "\n",
        "#-- Generate predicted y values (Model 3)\n",
        "prediction_column_index=tuned_model.predict(preprocessor(X_test)).argmax(axis=1)\n",
        "\n",
        "# extract correct prediction labels \n",
        "prediction_labels = [y_train.columns[i] for i in prediction_column_index]\n",
        "\n",
        "# Submit to Competition Leaderboard\n",
        "mycompetition.submit_model(model_filepath = \"tuned_model.onnx\",\n",
        "                                 preprocessor_filepath=\"preprocessor.zip\",\n",
        "                                 prediction_submission=prediction_labels)"
      ],
      "execution_count": 24,
      "outputs": [
        {
          "output_type": "stream",
          "name": "stdout",
          "text": [
            "Insert search tags to help users find your model (optional): \n",
            "Provide any useful notes about your model (optional): \n",
            "\n",
            "Your model has been submitted as model version 9\n",
            "\n",
            "To submit code used to create this model or to view current leaderboard navigate to Model Playground: \n",
            "\n",
            " https://www.modelshare.org/detail/model:1128\n"
          ]
        }
      ]
    },
    {
      "cell_type": "code",
      "metadata": {
        "colab": {
          "base_uri": "https://localhost:8080/",
          "height": 525
        },
        "id": "hn-Tp-zpJVGT",
        "outputId": "7083a902-3af5-453c-8fa4-2c0076bb098c"
      },
      "source": [
        "# Get leaderboard\n",
        "\n",
        "data = mycompetition.get_leaderboard()\n",
        "mycompetition.stylize_leaderboard(data)"
      ],
      "execution_count": 25,
      "outputs": [
        {
          "output_type": "execute_result",
          "data": {
            "text/html": [
              "<style  type=\"text/css\" >\n",
              "#T_8d18eddc_7c7f_11ec_8088_0242ac1c0002row0_col0,#T_8d18eddc_7c7f_11ec_8088_0242ac1c0002row1_col0{\n",
              "            text-align:  center;\n",
              "            width:  10em;\n",
              "             height:  80%;\n",
              "            background:  linear-gradient(90deg,#f5f8d6 81.3%, transparent 81.3%);\n",
              "            color:  #251e1b;\n",
              "            font-size:  12px;\n",
              "        }#T_8d18eddc_7c7f_11ec_8088_0242ac1c0002row0_col1,#T_8d18eddc_7c7f_11ec_8088_0242ac1c0002row1_col1{\n",
              "            text-align:  center;\n",
              "            width:  10em;\n",
              "             height:  80%;\n",
              "            background:  linear-gradient(90deg,#c778c8 79.5%, transparent 79.5%);\n",
              "            color:  #251e1b;\n",
              "            font-size:  12px;\n",
              "        }#T_8d18eddc_7c7f_11ec_8088_0242ac1c0002row0_col2,#T_8d18eddc_7c7f_11ec_8088_0242ac1c0002row1_col2{\n",
              "            text-align:  center;\n",
              "            width:  10em;\n",
              "             height:  80%;\n",
              "            background:  linear-gradient(90deg,#ff4971 80.5%, transparent 80.5%);\n",
              "            color:  #251e1b;\n",
              "            font-size:  12px;\n",
              "        }#T_8d18eddc_7c7f_11ec_8088_0242ac1c0002row0_col3,#T_8d18eddc_7c7f_11ec_8088_0242ac1c0002row1_col3{\n",
              "            text-align:  center;\n",
              "            width:  10em;\n",
              "             height:  80%;\n",
              "            background:  linear-gradient(90deg,#aadbaa 78.9%, transparent 78.9%);\n",
              "            color:  #251e1b;\n",
              "            font-size:  12px;\n",
              "        }#T_8d18eddc_7c7f_11ec_8088_0242ac1c0002row0_col4,#T_8d18eddc_7c7f_11ec_8088_0242ac1c0002row0_col5,#T_8d18eddc_7c7f_11ec_8088_0242ac1c0002row0_col6,#T_8d18eddc_7c7f_11ec_8088_0242ac1c0002row0_col7,#T_8d18eddc_7c7f_11ec_8088_0242ac1c0002row0_col8,#T_8d18eddc_7c7f_11ec_8088_0242ac1c0002row0_col9,#T_8d18eddc_7c7f_11ec_8088_0242ac1c0002row0_col10,#T_8d18eddc_7c7f_11ec_8088_0242ac1c0002row0_col11,#T_8d18eddc_7c7f_11ec_8088_0242ac1c0002row0_col12,#T_8d18eddc_7c7f_11ec_8088_0242ac1c0002row0_col13,#T_8d18eddc_7c7f_11ec_8088_0242ac1c0002row0_col14,#T_8d18eddc_7c7f_11ec_8088_0242ac1c0002row0_col15,#T_8d18eddc_7c7f_11ec_8088_0242ac1c0002row0_col16,#T_8d18eddc_7c7f_11ec_8088_0242ac1c0002row0_col17,#T_8d18eddc_7c7f_11ec_8088_0242ac1c0002row0_col18,#T_8d18eddc_7c7f_11ec_8088_0242ac1c0002row0_col19,#T_8d18eddc_7c7f_11ec_8088_0242ac1c0002row1_col4,#T_8d18eddc_7c7f_11ec_8088_0242ac1c0002row1_col5,#T_8d18eddc_7c7f_11ec_8088_0242ac1c0002row1_col6,#T_8d18eddc_7c7f_11ec_8088_0242ac1c0002row1_col7,#T_8d18eddc_7c7f_11ec_8088_0242ac1c0002row1_col8,#T_8d18eddc_7c7f_11ec_8088_0242ac1c0002row1_col9,#T_8d18eddc_7c7f_11ec_8088_0242ac1c0002row1_col10,#T_8d18eddc_7c7f_11ec_8088_0242ac1c0002row1_col11,#T_8d18eddc_7c7f_11ec_8088_0242ac1c0002row1_col12,#T_8d18eddc_7c7f_11ec_8088_0242ac1c0002row1_col13,#T_8d18eddc_7c7f_11ec_8088_0242ac1c0002row1_col14,#T_8d18eddc_7c7f_11ec_8088_0242ac1c0002row1_col15,#T_8d18eddc_7c7f_11ec_8088_0242ac1c0002row1_col16,#T_8d18eddc_7c7f_11ec_8088_0242ac1c0002row1_col17,#T_8d18eddc_7c7f_11ec_8088_0242ac1c0002row1_col18,#T_8d18eddc_7c7f_11ec_8088_0242ac1c0002row1_col19,#T_8d18eddc_7c7f_11ec_8088_0242ac1c0002row2_col4,#T_8d18eddc_7c7f_11ec_8088_0242ac1c0002row2_col5,#T_8d18eddc_7c7f_11ec_8088_0242ac1c0002row2_col6,#T_8d18eddc_7c7f_11ec_8088_0242ac1c0002row2_col7,#T_8d18eddc_7c7f_11ec_8088_0242ac1c0002row2_col8,#T_8d18eddc_7c7f_11ec_8088_0242ac1c0002row2_col9,#T_8d18eddc_7c7f_11ec_8088_0242ac1c0002row2_col10,#T_8d18eddc_7c7f_11ec_8088_0242ac1c0002row2_col11,#T_8d18eddc_7c7f_11ec_8088_0242ac1c0002row2_col12,#T_8d18eddc_7c7f_11ec_8088_0242ac1c0002row2_col13,#T_8d18eddc_7c7f_11ec_8088_0242ac1c0002row2_col14,#T_8d18eddc_7c7f_11ec_8088_0242ac1c0002row2_col15,#T_8d18eddc_7c7f_11ec_8088_0242ac1c0002row2_col16,#T_8d18eddc_7c7f_11ec_8088_0242ac1c0002row2_col17,#T_8d18eddc_7c7f_11ec_8088_0242ac1c0002row2_col18,#T_8d18eddc_7c7f_11ec_8088_0242ac1c0002row2_col19,#T_8d18eddc_7c7f_11ec_8088_0242ac1c0002row3_col4,#T_8d18eddc_7c7f_11ec_8088_0242ac1c0002row3_col5,#T_8d18eddc_7c7f_11ec_8088_0242ac1c0002row3_col6,#T_8d18eddc_7c7f_11ec_8088_0242ac1c0002row3_col7,#T_8d18eddc_7c7f_11ec_8088_0242ac1c0002row3_col8,#T_8d18eddc_7c7f_11ec_8088_0242ac1c0002row3_col9,#T_8d18eddc_7c7f_11ec_8088_0242ac1c0002row3_col10,#T_8d18eddc_7c7f_11ec_8088_0242ac1c0002row3_col11,#T_8d18eddc_7c7f_11ec_8088_0242ac1c0002row3_col12,#T_8d18eddc_7c7f_11ec_8088_0242ac1c0002row3_col13,#T_8d18eddc_7c7f_11ec_8088_0242ac1c0002row3_col14,#T_8d18eddc_7c7f_11ec_8088_0242ac1c0002row3_col15,#T_8d18eddc_7c7f_11ec_8088_0242ac1c0002row3_col16,#T_8d18eddc_7c7f_11ec_8088_0242ac1c0002row3_col17,#T_8d18eddc_7c7f_11ec_8088_0242ac1c0002row3_col18,#T_8d18eddc_7c7f_11ec_8088_0242ac1c0002row3_col19,#T_8d18eddc_7c7f_11ec_8088_0242ac1c0002row4_col4,#T_8d18eddc_7c7f_11ec_8088_0242ac1c0002row4_col5,#T_8d18eddc_7c7f_11ec_8088_0242ac1c0002row4_col6,#T_8d18eddc_7c7f_11ec_8088_0242ac1c0002row4_col7,#T_8d18eddc_7c7f_11ec_8088_0242ac1c0002row4_col8,#T_8d18eddc_7c7f_11ec_8088_0242ac1c0002row4_col9,#T_8d18eddc_7c7f_11ec_8088_0242ac1c0002row4_col10,#T_8d18eddc_7c7f_11ec_8088_0242ac1c0002row4_col11,#T_8d18eddc_7c7f_11ec_8088_0242ac1c0002row4_col12,#T_8d18eddc_7c7f_11ec_8088_0242ac1c0002row4_col13,#T_8d18eddc_7c7f_11ec_8088_0242ac1c0002row4_col14,#T_8d18eddc_7c7f_11ec_8088_0242ac1c0002row4_col15,#T_8d18eddc_7c7f_11ec_8088_0242ac1c0002row4_col16,#T_8d18eddc_7c7f_11ec_8088_0242ac1c0002row4_col17,#T_8d18eddc_7c7f_11ec_8088_0242ac1c0002row4_col18,#T_8d18eddc_7c7f_11ec_8088_0242ac1c0002row4_col19,#T_8d18eddc_7c7f_11ec_8088_0242ac1c0002row5_col4,#T_8d18eddc_7c7f_11ec_8088_0242ac1c0002row5_col5,#T_8d18eddc_7c7f_11ec_8088_0242ac1c0002row5_col6,#T_8d18eddc_7c7f_11ec_8088_0242ac1c0002row5_col7,#T_8d18eddc_7c7f_11ec_8088_0242ac1c0002row5_col8,#T_8d18eddc_7c7f_11ec_8088_0242ac1c0002row5_col9,#T_8d18eddc_7c7f_11ec_8088_0242ac1c0002row5_col10,#T_8d18eddc_7c7f_11ec_8088_0242ac1c0002row5_col11,#T_8d18eddc_7c7f_11ec_8088_0242ac1c0002row5_col12,#T_8d18eddc_7c7f_11ec_8088_0242ac1c0002row5_col13,#T_8d18eddc_7c7f_11ec_8088_0242ac1c0002row5_col14,#T_8d18eddc_7c7f_11ec_8088_0242ac1c0002row5_col15,#T_8d18eddc_7c7f_11ec_8088_0242ac1c0002row5_col16,#T_8d18eddc_7c7f_11ec_8088_0242ac1c0002row5_col17,#T_8d18eddc_7c7f_11ec_8088_0242ac1c0002row5_col18,#T_8d18eddc_7c7f_11ec_8088_0242ac1c0002row5_col19,#T_8d18eddc_7c7f_11ec_8088_0242ac1c0002row6_col4,#T_8d18eddc_7c7f_11ec_8088_0242ac1c0002row6_col5,#T_8d18eddc_7c7f_11ec_8088_0242ac1c0002row6_col6,#T_8d18eddc_7c7f_11ec_8088_0242ac1c0002row6_col7,#T_8d18eddc_7c7f_11ec_8088_0242ac1c0002row6_col8,#T_8d18eddc_7c7f_11ec_8088_0242ac1c0002row6_col9,#T_8d18eddc_7c7f_11ec_8088_0242ac1c0002row6_col10,#T_8d18eddc_7c7f_11ec_8088_0242ac1c0002row6_col11,#T_8d18eddc_7c7f_11ec_8088_0242ac1c0002row6_col12,#T_8d18eddc_7c7f_11ec_8088_0242ac1c0002row6_col13,#T_8d18eddc_7c7f_11ec_8088_0242ac1c0002row6_col14,#T_8d18eddc_7c7f_11ec_8088_0242ac1c0002row6_col15,#T_8d18eddc_7c7f_11ec_8088_0242ac1c0002row6_col16,#T_8d18eddc_7c7f_11ec_8088_0242ac1c0002row6_col17,#T_8d18eddc_7c7f_11ec_8088_0242ac1c0002row6_col18,#T_8d18eddc_7c7f_11ec_8088_0242ac1c0002row6_col19,#T_8d18eddc_7c7f_11ec_8088_0242ac1c0002row7_col4,#T_8d18eddc_7c7f_11ec_8088_0242ac1c0002row7_col5,#T_8d18eddc_7c7f_11ec_8088_0242ac1c0002row7_col6,#T_8d18eddc_7c7f_11ec_8088_0242ac1c0002row7_col7,#T_8d18eddc_7c7f_11ec_8088_0242ac1c0002row7_col8,#T_8d18eddc_7c7f_11ec_8088_0242ac1c0002row7_col9,#T_8d18eddc_7c7f_11ec_8088_0242ac1c0002row7_col10,#T_8d18eddc_7c7f_11ec_8088_0242ac1c0002row7_col11,#T_8d18eddc_7c7f_11ec_8088_0242ac1c0002row7_col12,#T_8d18eddc_7c7f_11ec_8088_0242ac1c0002row7_col13,#T_8d18eddc_7c7f_11ec_8088_0242ac1c0002row7_col14,#T_8d18eddc_7c7f_11ec_8088_0242ac1c0002row7_col15,#T_8d18eddc_7c7f_11ec_8088_0242ac1c0002row7_col16,#T_8d18eddc_7c7f_11ec_8088_0242ac1c0002row7_col17,#T_8d18eddc_7c7f_11ec_8088_0242ac1c0002row7_col18,#T_8d18eddc_7c7f_11ec_8088_0242ac1c0002row7_col19,#T_8d18eddc_7c7f_11ec_8088_0242ac1c0002row8_col4,#T_8d18eddc_7c7f_11ec_8088_0242ac1c0002row8_col5,#T_8d18eddc_7c7f_11ec_8088_0242ac1c0002row8_col6,#T_8d18eddc_7c7f_11ec_8088_0242ac1c0002row8_col7,#T_8d18eddc_7c7f_11ec_8088_0242ac1c0002row8_col8,#T_8d18eddc_7c7f_11ec_8088_0242ac1c0002row8_col9,#T_8d18eddc_7c7f_11ec_8088_0242ac1c0002row8_col10,#T_8d18eddc_7c7f_11ec_8088_0242ac1c0002row8_col11,#T_8d18eddc_7c7f_11ec_8088_0242ac1c0002row8_col12,#T_8d18eddc_7c7f_11ec_8088_0242ac1c0002row8_col13,#T_8d18eddc_7c7f_11ec_8088_0242ac1c0002row8_col14,#T_8d18eddc_7c7f_11ec_8088_0242ac1c0002row8_col15,#T_8d18eddc_7c7f_11ec_8088_0242ac1c0002row8_col16,#T_8d18eddc_7c7f_11ec_8088_0242ac1c0002row8_col17,#T_8d18eddc_7c7f_11ec_8088_0242ac1c0002row8_col18,#T_8d18eddc_7c7f_11ec_8088_0242ac1c0002row8_col19{\n",
              "            text-align:  center;\n",
              "        }#T_8d18eddc_7c7f_11ec_8088_0242ac1c0002row2_col0{\n",
              "            text-align:  center;\n",
              "            width:  10em;\n",
              "             height:  80%;\n",
              "            background:  linear-gradient(90deg,#f5f8d6 80.5%, transparent 80.5%);\n",
              "            color:  #251e1b;\n",
              "            font-size:  12px;\n",
              "        }#T_8d18eddc_7c7f_11ec_8088_0242ac1c0002row2_col1{\n",
              "            text-align:  center;\n",
              "            width:  10em;\n",
              "             height:  80%;\n",
              "            background:  linear-gradient(90deg,#c778c8 76.6%, transparent 76.6%);\n",
              "            color:  #251e1b;\n",
              "            font-size:  12px;\n",
              "        }#T_8d18eddc_7c7f_11ec_8088_0242ac1c0002row2_col2{\n",
              "            text-align:  center;\n",
              "            width:  10em;\n",
              "             height:  80%;\n",
              "            background:  linear-gradient(90deg,#ff4971 84.4%, transparent 84.4%);\n",
              "            color:  #251e1b;\n",
              "            font-size:  12px;\n",
              "        }#T_8d18eddc_7c7f_11ec_8088_0242ac1c0002row2_col3{\n",
              "            text-align:  center;\n",
              "            width:  10em;\n",
              "             height:  80%;\n",
              "            background:  linear-gradient(90deg,#aadbaa 75.0%, transparent 75.0%);\n",
              "            color:  #251e1b;\n",
              "            font-size:  12px;\n",
              "        }#T_8d18eddc_7c7f_11ec_8088_0242ac1c0002row3_col0{\n",
              "            text-align:  center;\n",
              "            width:  10em;\n",
              "             height:  80%;\n",
              "            background:  linear-gradient(90deg,#f5f8d6 78.6%, transparent 78.6%);\n",
              "            color:  #251e1b;\n",
              "            font-size:  12px;\n",
              "        }#T_8d18eddc_7c7f_11ec_8088_0242ac1c0002row3_col1{\n",
              "            text-align:  center;\n",
              "            width:  10em;\n",
              "             height:  80%;\n",
              "            background:  linear-gradient(90deg,#c778c8 76.2%, transparent 76.2%);\n",
              "            color:  #251e1b;\n",
              "            font-size:  12px;\n",
              "        }#T_8d18eddc_7c7f_11ec_8088_0242ac1c0002row3_col2{\n",
              "            text-align:  center;\n",
              "            width:  10em;\n",
              "             height:  80%;\n",
              "            background:  linear-gradient(90deg,#ff4971 78.0%, transparent 78.0%);\n",
              "            color:  #251e1b;\n",
              "            font-size:  12px;\n",
              "        }#T_8d18eddc_7c7f_11ec_8088_0242ac1c0002row3_col3{\n",
              "            text-align:  center;\n",
              "            width:  10em;\n",
              "             height:  80%;\n",
              "            background:  linear-gradient(90deg,#aadbaa 75.3%, transparent 75.3%);\n",
              "            color:  #251e1b;\n",
              "            font-size:  12px;\n",
              "        }#T_8d18eddc_7c7f_11ec_8088_0242ac1c0002row4_col0,#T_8d18eddc_7c7f_11ec_8088_0242ac1c0002row5_col0{\n",
              "            text-align:  center;\n",
              "            width:  10em;\n",
              "             height:  80%;\n",
              "            background:  linear-gradient(90deg,#f5f8d6 76.7%, transparent 76.7%);\n",
              "            color:  #251e1b;\n",
              "            font-size:  12px;\n",
              "        }#T_8d18eddc_7c7f_11ec_8088_0242ac1c0002row4_col1,#T_8d18eddc_7c7f_11ec_8088_0242ac1c0002row5_col1{\n",
              "            text-align:  center;\n",
              "            width:  10em;\n",
              "             height:  80%;\n",
              "            background:  linear-gradient(90deg,#c778c8 71.6%, transparent 71.6%);\n",
              "            color:  #251e1b;\n",
              "            font-size:  12px;\n",
              "        }#T_8d18eddc_7c7f_11ec_8088_0242ac1c0002row4_col2,#T_8d18eddc_7c7f_11ec_8088_0242ac1c0002row5_col2{\n",
              "            text-align:  center;\n",
              "            width:  10em;\n",
              "             height:  80%;\n",
              "            background:  linear-gradient(90deg,#ff4971 79.8%, transparent 79.8%);\n",
              "            color:  #251e1b;\n",
              "            font-size:  12px;\n",
              "        }#T_8d18eddc_7c7f_11ec_8088_0242ac1c0002row4_col3,#T_8d18eddc_7c7f_11ec_8088_0242ac1c0002row5_col3{\n",
              "            text-align:  center;\n",
              "            width:  10em;\n",
              "             height:  80%;\n",
              "            background:  linear-gradient(90deg,#aadbaa 70.5%, transparent 70.5%);\n",
              "            color:  #251e1b;\n",
              "            font-size:  12px;\n",
              "        }#T_8d18eddc_7c7f_11ec_8088_0242ac1c0002row6_col0{\n",
              "            text-align:  center;\n",
              "            width:  10em;\n",
              "             height:  80%;\n",
              "            background:  linear-gradient(90deg,#f5f8d6 58.8%, transparent 58.8%);\n",
              "            color:  #251e1b;\n",
              "            font-size:  12px;\n",
              "        }#T_8d18eddc_7c7f_11ec_8088_0242ac1c0002row6_col1{\n",
              "            text-align:  center;\n",
              "            width:  10em;\n",
              "             height:  80%;\n",
              "            background:  linear-gradient(90deg,#c778c8 55.2%, transparent 55.2%);\n",
              "            color:  #251e1b;\n",
              "            font-size:  12px;\n",
              "        }#T_8d18eddc_7c7f_11ec_8088_0242ac1c0002row6_col2{\n",
              "            text-align:  center;\n",
              "            width:  10em;\n",
              "             height:  80%;\n",
              "            background:  linear-gradient(90deg,#ff4971 55.4%, transparent 55.4%);\n",
              "            color:  #251e1b;\n",
              "            font-size:  12px;\n",
              "        }#T_8d18eddc_7c7f_11ec_8088_0242ac1c0002row6_col3{\n",
              "            text-align:  center;\n",
              "            width:  10em;\n",
              "             height:  80%;\n",
              "            background:  linear-gradient(90deg,#aadbaa 55.2%, transparent 55.2%);\n",
              "            color:  #251e1b;\n",
              "            font-size:  12px;\n",
              "        }#T_8d18eddc_7c7f_11ec_8088_0242ac1c0002row7_col0{\n",
              "            text-align:  center;\n",
              "            width:  10em;\n",
              "             height:  80%;\n",
              "            background:  linear-gradient(90deg,#f5f8d6 61.5%, transparent 61.5%);\n",
              "            color:  #251e1b;\n",
              "            font-size:  12px;\n",
              "        }#T_8d18eddc_7c7f_11ec_8088_0242ac1c0002row7_col1{\n",
              "            text-align:  center;\n",
              "            width:  10em;\n",
              "             height:  80%;\n",
              "            background:  linear-gradient(90deg,#c778c8 43.0%, transparent 43.0%);\n",
              "            color:  #251e1b;\n",
              "            font-size:  12px;\n",
              "        }#T_8d18eddc_7c7f_11ec_8088_0242ac1c0002row7_col2{\n",
              "            text-align:  center;\n",
              "            width:  10em;\n",
              "             height:  80%;\n",
              "            background:  linear-gradient(90deg,#ff4971 51.4%, transparent 51.4%);\n",
              "            color:  #251e1b;\n",
              "            font-size:  12px;\n",
              "        }#T_8d18eddc_7c7f_11ec_8088_0242ac1c0002row7_col3{\n",
              "            text-align:  center;\n",
              "            width:  10em;\n",
              "             height:  80%;\n",
              "            background:  linear-gradient(90deg,#aadbaa 50.3%, transparent 50.3%);\n",
              "            color:  #251e1b;\n",
              "            font-size:  12px;\n",
              "        }#T_8d18eddc_7c7f_11ec_8088_0242ac1c0002row8_col0{\n",
              "            text-align:  center;\n",
              "            width:  10em;\n",
              "             height:  80%;\n",
              "            background:  linear-gradient(90deg,#f5f8d6 55.0%, transparent 55.0%);\n",
              "            color:  #251e1b;\n",
              "            font-size:  12px;\n",
              "        }#T_8d18eddc_7c7f_11ec_8088_0242ac1c0002row8_col1{\n",
              "            text-align:  center;\n",
              "            width:  10em;\n",
              "             height:  80%;\n",
              "            background:  linear-gradient(90deg,#c778c8 49.8%, transparent 49.8%);\n",
              "            color:  #251e1b;\n",
              "            font-size:  12px;\n",
              "        }#T_8d18eddc_7c7f_11ec_8088_0242ac1c0002row8_col2{\n",
              "            text-align:  center;\n",
              "            width:  10em;\n",
              "             height:  80%;\n",
              "            background:  linear-gradient(90deg,#ff4971 50.1%, transparent 50.1%);\n",
              "            color:  #251e1b;\n",
              "            font-size:  12px;\n",
              "        }#T_8d18eddc_7c7f_11ec_8088_0242ac1c0002row8_col3{\n",
              "            text-align:  center;\n",
              "            width:  10em;\n",
              "             height:  80%;\n",
              "            background:  linear-gradient(90deg,#aadbaa 50.1%, transparent 50.1%);\n",
              "            color:  #251e1b;\n",
              "            font-size:  12px;\n",
              "        }</style><table id=\"T_8d18eddc_7c7f_11ec_8088_0242ac1c0002\" class=\"dataframe\"><thead>    <tr>        <th class=\"blank level0\" ></th>        <th class=\"col_heading level0 col0\" >accuracy</th>        <th class=\"col_heading level0 col1\" >f1_score</th>        <th class=\"col_heading level0 col2\" >precision</th>        <th class=\"col_heading level0 col3\" >recall</th>        <th class=\"col_heading level0 col4\" >ml_framework</th>        <th class=\"col_heading level0 col5\" >transfer_learning</th>        <th class=\"col_heading level0 col6\" >deep_learning</th>        <th class=\"col_heading level0 col7\" >model_type</th>        <th class=\"col_heading level0 col8\" >depth</th>        <th class=\"col_heading level0 col9\" >num_params</th>        <th class=\"col_heading level0 col10\" >dense_layers</th>        <th class=\"col_heading level0 col11\" >dropout_layers</th>        <th class=\"col_heading level0 col12\" >softmax_act</th>        <th class=\"col_heading level0 col13\" >relu_act</th>        <th class=\"col_heading level0 col14\" >loss</th>        <th class=\"col_heading level0 col15\" >optimizer</th>        <th class=\"col_heading level0 col16\" >model_config</th>        <th class=\"col_heading level0 col17\" >username</th>        <th class=\"col_heading level0 col18\" >version</th>        <th class=\"col_heading level0 col19\" >memory_size</th>    </tr></thead><tbody>\n",
              "                <tr>\n",
              "                        <th id=\"T_8d18eddc_7c7f_11ec_8088_0242ac1c0002level0_row0\" class=\"row_heading level0 row0\" >0</th>\n",
              "                        <td id=\"T_8d18eddc_7c7f_11ec_8088_0242ac1c0002row0_col0\" class=\"data row0 col0\" >81.30%</td>\n",
              "                        <td id=\"T_8d18eddc_7c7f_11ec_8088_0242ac1c0002row0_col1\" class=\"data row0 col1\" >79.53%</td>\n",
              "                        <td id=\"T_8d18eddc_7c7f_11ec_8088_0242ac1c0002row0_col2\" class=\"data row0 col2\" >80.51%</td>\n",
              "                        <td id=\"T_8d18eddc_7c7f_11ec_8088_0242ac1c0002row0_col3\" class=\"data row0 col3\" >78.90%</td>\n",
              "                        <td id=\"T_8d18eddc_7c7f_11ec_8088_0242ac1c0002row0_col4\" class=\"data row0 col4\" >sklearn</td>\n",
              "                        <td id=\"T_8d18eddc_7c7f_11ec_8088_0242ac1c0002row0_col5\" class=\"data row0 col5\" >False</td>\n",
              "                        <td id=\"T_8d18eddc_7c7f_11ec_8088_0242ac1c0002row0_col6\" class=\"data row0 col6\" >False</td>\n",
              "                        <td id=\"T_8d18eddc_7c7f_11ec_8088_0242ac1c0002row0_col7\" class=\"data row0 col7\" >LogisticRegression</td>\n",
              "                        <td id=\"T_8d18eddc_7c7f_11ec_8088_0242ac1c0002row0_col8\" class=\"data row0 col8\" >nan</td>\n",
              "                        <td id=\"T_8d18eddc_7c7f_11ec_8088_0242ac1c0002row0_col9\" class=\"data row0 col9\" >10.000000</td>\n",
              "                        <td id=\"T_8d18eddc_7c7f_11ec_8088_0242ac1c0002row0_col10\" class=\"data row0 col10\" >nan</td>\n",
              "                        <td id=\"T_8d18eddc_7c7f_11ec_8088_0242ac1c0002row0_col11\" class=\"data row0 col11\" >nan</td>\n",
              "                        <td id=\"T_8d18eddc_7c7f_11ec_8088_0242ac1c0002row0_col12\" class=\"data row0 col12\" >nan</td>\n",
              "                        <td id=\"T_8d18eddc_7c7f_11ec_8088_0242ac1c0002row0_col13\" class=\"data row0 col13\" >nan</td>\n",
              "                        <td id=\"T_8d18eddc_7c7f_11ec_8088_0242ac1c0002row0_col14\" class=\"data row0 col14\" >nan</td>\n",
              "                        <td id=\"T_8d18eddc_7c7f_11ec_8088_0242ac1c0002row0_col15\" class=\"data row0 col15\" >liblinear</td>\n",
              "                        <td id=\"T_8d18eddc_7c7f_11ec_8088_0242ac1c0002row0_col16\" class=\"data row0 col16\" >{'C': 10, 'class_weight': None...</td>\n",
              "                        <td id=\"T_8d18eddc_7c7f_11ec_8088_0242ac1c0002row0_col17\" class=\"data row0 col17\" >AIModelShare</td>\n",
              "                        <td id=\"T_8d18eddc_7c7f_11ec_8088_0242ac1c0002row0_col18\" class=\"data row0 col18\" >1</td>\n",
              "                        <td id=\"T_8d18eddc_7c7f_11ec_8088_0242ac1c0002row0_col19\" class=\"data row0 col19\" >nan</td>\n",
              "            </tr>\n",
              "            <tr>\n",
              "                        <th id=\"T_8d18eddc_7c7f_11ec_8088_0242ac1c0002level0_row1\" class=\"row_heading level0 row1\" >1</th>\n",
              "                        <td id=\"T_8d18eddc_7c7f_11ec_8088_0242ac1c0002row1_col0\" class=\"data row1 col0\" >81.30%</td>\n",
              "                        <td id=\"T_8d18eddc_7c7f_11ec_8088_0242ac1c0002row1_col1\" class=\"data row1 col1\" >79.53%</td>\n",
              "                        <td id=\"T_8d18eddc_7c7f_11ec_8088_0242ac1c0002row1_col2\" class=\"data row1 col2\" >80.51%</td>\n",
              "                        <td id=\"T_8d18eddc_7c7f_11ec_8088_0242ac1c0002row1_col3\" class=\"data row1 col3\" >78.90%</td>\n",
              "                        <td id=\"T_8d18eddc_7c7f_11ec_8088_0242ac1c0002row1_col4\" class=\"data row1 col4\" >sklearn</td>\n",
              "                        <td id=\"T_8d18eddc_7c7f_11ec_8088_0242ac1c0002row1_col5\" class=\"data row1 col5\" >False</td>\n",
              "                        <td id=\"T_8d18eddc_7c7f_11ec_8088_0242ac1c0002row1_col6\" class=\"data row1 col6\" >False</td>\n",
              "                        <td id=\"T_8d18eddc_7c7f_11ec_8088_0242ac1c0002row1_col7\" class=\"data row1 col7\" >LogisticRegression</td>\n",
              "                        <td id=\"T_8d18eddc_7c7f_11ec_8088_0242ac1c0002row1_col8\" class=\"data row1 col8\" >nan</td>\n",
              "                        <td id=\"T_8d18eddc_7c7f_11ec_8088_0242ac1c0002row1_col9\" class=\"data row1 col9\" >10.000000</td>\n",
              "                        <td id=\"T_8d18eddc_7c7f_11ec_8088_0242ac1c0002row1_col10\" class=\"data row1 col10\" >nan</td>\n",
              "                        <td id=\"T_8d18eddc_7c7f_11ec_8088_0242ac1c0002row1_col11\" class=\"data row1 col11\" >nan</td>\n",
              "                        <td id=\"T_8d18eddc_7c7f_11ec_8088_0242ac1c0002row1_col12\" class=\"data row1 col12\" >nan</td>\n",
              "                        <td id=\"T_8d18eddc_7c7f_11ec_8088_0242ac1c0002row1_col13\" class=\"data row1 col13\" >nan</td>\n",
              "                        <td id=\"T_8d18eddc_7c7f_11ec_8088_0242ac1c0002row1_col14\" class=\"data row1 col14\" >nan</td>\n",
              "                        <td id=\"T_8d18eddc_7c7f_11ec_8088_0242ac1c0002row1_col15\" class=\"data row1 col15\" >liblinear</td>\n",
              "                        <td id=\"T_8d18eddc_7c7f_11ec_8088_0242ac1c0002row1_col16\" class=\"data row1 col16\" >{'C': 10, 'class_weight': None...</td>\n",
              "                        <td id=\"T_8d18eddc_7c7f_11ec_8088_0242ac1c0002row1_col17\" class=\"data row1 col17\" >gstreett</td>\n",
              "                        <td id=\"T_8d18eddc_7c7f_11ec_8088_0242ac1c0002row1_col18\" class=\"data row1 col18\" >3</td>\n",
              "                        <td id=\"T_8d18eddc_7c7f_11ec_8088_0242ac1c0002row1_col19\" class=\"data row1 col19\" >nan</td>\n",
              "            </tr>\n",
              "            <tr>\n",
              "                        <th id=\"T_8d18eddc_7c7f_11ec_8088_0242ac1c0002level0_row2\" class=\"row_heading level0 row2\" >2</th>\n",
              "                        <td id=\"T_8d18eddc_7c7f_11ec_8088_0242ac1c0002row2_col0\" class=\"data row2 col0\" >80.53%</td>\n",
              "                        <td id=\"T_8d18eddc_7c7f_11ec_8088_0242ac1c0002row2_col1\" class=\"data row2 col1\" >76.64%</td>\n",
              "                        <td id=\"T_8d18eddc_7c7f_11ec_8088_0242ac1c0002row2_col2\" class=\"data row2 col2\" >84.39%</td>\n",
              "                        <td id=\"T_8d18eddc_7c7f_11ec_8088_0242ac1c0002row2_col3\" class=\"data row2 col3\" >75.01%</td>\n",
              "                        <td id=\"T_8d18eddc_7c7f_11ec_8088_0242ac1c0002row2_col4\" class=\"data row2 col4\" >sklearn</td>\n",
              "                        <td id=\"T_8d18eddc_7c7f_11ec_8088_0242ac1c0002row2_col5\" class=\"data row2 col5\" >False</td>\n",
              "                        <td id=\"T_8d18eddc_7c7f_11ec_8088_0242ac1c0002row2_col6\" class=\"data row2 col6\" >False</td>\n",
              "                        <td id=\"T_8d18eddc_7c7f_11ec_8088_0242ac1c0002row2_col7\" class=\"data row2 col7\" >RandomForestClassifier</td>\n",
              "                        <td id=\"T_8d18eddc_7c7f_11ec_8088_0242ac1c0002row2_col8\" class=\"data row2 col8\" >nan</td>\n",
              "                        <td id=\"T_8d18eddc_7c7f_11ec_8088_0242ac1c0002row2_col9\" class=\"data row2 col9\" >nan</td>\n",
              "                        <td id=\"T_8d18eddc_7c7f_11ec_8088_0242ac1c0002row2_col10\" class=\"data row2 col10\" >nan</td>\n",
              "                        <td id=\"T_8d18eddc_7c7f_11ec_8088_0242ac1c0002row2_col11\" class=\"data row2 col11\" >nan</td>\n",
              "                        <td id=\"T_8d18eddc_7c7f_11ec_8088_0242ac1c0002row2_col12\" class=\"data row2 col12\" >nan</td>\n",
              "                        <td id=\"T_8d18eddc_7c7f_11ec_8088_0242ac1c0002row2_col13\" class=\"data row2 col13\" >nan</td>\n",
              "                        <td id=\"T_8d18eddc_7c7f_11ec_8088_0242ac1c0002row2_col14\" class=\"data row2 col14\" >nan</td>\n",
              "                        <td id=\"T_8d18eddc_7c7f_11ec_8088_0242ac1c0002row2_col15\" class=\"data row2 col15\" >nan</td>\n",
              "                        <td id=\"T_8d18eddc_7c7f_11ec_8088_0242ac1c0002row2_col16\" class=\"data row2 col16\" >{'bootstrap': True, 'ccp_alpha...</td>\n",
              "                        <td id=\"T_8d18eddc_7c7f_11ec_8088_0242ac1c0002row2_col17\" class=\"data row2 col17\" >gstreett</td>\n",
              "                        <td id=\"T_8d18eddc_7c7f_11ec_8088_0242ac1c0002row2_col18\" class=\"data row2 col18\" >5</td>\n",
              "                        <td id=\"T_8d18eddc_7c7f_11ec_8088_0242ac1c0002row2_col19\" class=\"data row2 col19\" >nan</td>\n",
              "            </tr>\n",
              "            <tr>\n",
              "                        <th id=\"T_8d18eddc_7c7f_11ec_8088_0242ac1c0002level0_row3\" class=\"row_heading level0 row3\" >3</th>\n",
              "                        <td id=\"T_8d18eddc_7c7f_11ec_8088_0242ac1c0002row3_col0\" class=\"data row3 col0\" >78.63%</td>\n",
              "                        <td id=\"T_8d18eddc_7c7f_11ec_8088_0242ac1c0002row3_col1\" class=\"data row3 col1\" >76.18%</td>\n",
              "                        <td id=\"T_8d18eddc_7c7f_11ec_8088_0242ac1c0002row3_col2\" class=\"data row3 col2\" >77.96%</td>\n",
              "                        <td id=\"T_8d18eddc_7c7f_11ec_8088_0242ac1c0002row3_col3\" class=\"data row3 col3\" >75.33%</td>\n",
              "                        <td id=\"T_8d18eddc_7c7f_11ec_8088_0242ac1c0002row3_col4\" class=\"data row3 col4\" >sklearn</td>\n",
              "                        <td id=\"T_8d18eddc_7c7f_11ec_8088_0242ac1c0002row3_col5\" class=\"data row3 col5\" >False</td>\n",
              "                        <td id=\"T_8d18eddc_7c7f_11ec_8088_0242ac1c0002row3_col6\" class=\"data row3 col6\" >False</td>\n",
              "                        <td id=\"T_8d18eddc_7c7f_11ec_8088_0242ac1c0002row3_col7\" class=\"data row3 col7\" >GradientBoostingClassifier</td>\n",
              "                        <td id=\"T_8d18eddc_7c7f_11ec_8088_0242ac1c0002row3_col8\" class=\"data row3 col8\" >nan</td>\n",
              "                        <td id=\"T_8d18eddc_7c7f_11ec_8088_0242ac1c0002row3_col9\" class=\"data row3 col9\" >nan</td>\n",
              "                        <td id=\"T_8d18eddc_7c7f_11ec_8088_0242ac1c0002row3_col10\" class=\"data row3 col10\" >nan</td>\n",
              "                        <td id=\"T_8d18eddc_7c7f_11ec_8088_0242ac1c0002row3_col11\" class=\"data row3 col11\" >nan</td>\n",
              "                        <td id=\"T_8d18eddc_7c7f_11ec_8088_0242ac1c0002row3_col12\" class=\"data row3 col12\" >nan</td>\n",
              "                        <td id=\"T_8d18eddc_7c7f_11ec_8088_0242ac1c0002row3_col13\" class=\"data row3 col13\" >nan</td>\n",
              "                        <td id=\"T_8d18eddc_7c7f_11ec_8088_0242ac1c0002row3_col14\" class=\"data row3 col14\" >nan</td>\n",
              "                        <td id=\"T_8d18eddc_7c7f_11ec_8088_0242ac1c0002row3_col15\" class=\"data row3 col15\" >nan</td>\n",
              "                        <td id=\"T_8d18eddc_7c7f_11ec_8088_0242ac1c0002row3_col16\" class=\"data row3 col16\" >{'ccp_alpha': 0.0, 'criterion'...</td>\n",
              "                        <td id=\"T_8d18eddc_7c7f_11ec_8088_0242ac1c0002row3_col17\" class=\"data row3 col17\" >gstreett</td>\n",
              "                        <td id=\"T_8d18eddc_7c7f_11ec_8088_0242ac1c0002row3_col18\" class=\"data row3 col18\" >6</td>\n",
              "                        <td id=\"T_8d18eddc_7c7f_11ec_8088_0242ac1c0002row3_col19\" class=\"data row3 col19\" >nan</td>\n",
              "            </tr>\n",
              "            <tr>\n",
              "                        <th id=\"T_8d18eddc_7c7f_11ec_8088_0242ac1c0002level0_row4\" class=\"row_heading level0 row4\" >6</th>\n",
              "                        <td id=\"T_8d18eddc_7c7f_11ec_8088_0242ac1c0002row4_col0\" class=\"data row4 col0\" >76.72%</td>\n",
              "                        <td id=\"T_8d18eddc_7c7f_11ec_8088_0242ac1c0002row4_col1\" class=\"data row4 col1\" >71.62%</td>\n",
              "                        <td id=\"T_8d18eddc_7c7f_11ec_8088_0242ac1c0002row4_col2\" class=\"data row4 col2\" >79.77%</td>\n",
              "                        <td id=\"T_8d18eddc_7c7f_11ec_8088_0242ac1c0002row4_col3\" class=\"data row4 col3\" >70.52%</td>\n",
              "                        <td id=\"T_8d18eddc_7c7f_11ec_8088_0242ac1c0002row4_col4\" class=\"data row4 col4\" >sklearn</td>\n",
              "                        <td id=\"T_8d18eddc_7c7f_11ec_8088_0242ac1c0002row4_col5\" class=\"data row4 col5\" >False</td>\n",
              "                        <td id=\"T_8d18eddc_7c7f_11ec_8088_0242ac1c0002row4_col6\" class=\"data row4 col6\" >False</td>\n",
              "                        <td id=\"T_8d18eddc_7c7f_11ec_8088_0242ac1c0002row4_col7\" class=\"data row4 col7\" >LogisticRegression</td>\n",
              "                        <td id=\"T_8d18eddc_7c7f_11ec_8088_0242ac1c0002row4_col8\" class=\"data row4 col8\" >nan</td>\n",
              "                        <td id=\"T_8d18eddc_7c7f_11ec_8088_0242ac1c0002row4_col9\" class=\"data row4 col9\" >10.000000</td>\n",
              "                        <td id=\"T_8d18eddc_7c7f_11ec_8088_0242ac1c0002row4_col10\" class=\"data row4 col10\" >nan</td>\n",
              "                        <td id=\"T_8d18eddc_7c7f_11ec_8088_0242ac1c0002row4_col11\" class=\"data row4 col11\" >nan</td>\n",
              "                        <td id=\"T_8d18eddc_7c7f_11ec_8088_0242ac1c0002row4_col12\" class=\"data row4 col12\" >nan</td>\n",
              "                        <td id=\"T_8d18eddc_7c7f_11ec_8088_0242ac1c0002row4_col13\" class=\"data row4 col13\" >nan</td>\n",
              "                        <td id=\"T_8d18eddc_7c7f_11ec_8088_0242ac1c0002row4_col14\" class=\"data row4 col14\" >nan</td>\n",
              "                        <td id=\"T_8d18eddc_7c7f_11ec_8088_0242ac1c0002row4_col15\" class=\"data row4 col15\" >lbfgs</td>\n",
              "                        <td id=\"T_8d18eddc_7c7f_11ec_8088_0242ac1c0002row4_col16\" class=\"data row4 col16\" >{'C': 0.01, 'class_weight': No...</td>\n",
              "                        <td id=\"T_8d18eddc_7c7f_11ec_8088_0242ac1c0002row4_col17\" class=\"data row4 col17\" >AIModelShare</td>\n",
              "                        <td id=\"T_8d18eddc_7c7f_11ec_8088_0242ac1c0002row4_col18\" class=\"data row4 col18\" >2</td>\n",
              "                        <td id=\"T_8d18eddc_7c7f_11ec_8088_0242ac1c0002row4_col19\" class=\"data row4 col19\" >nan</td>\n",
              "            </tr>\n",
              "            <tr>\n",
              "                        <th id=\"T_8d18eddc_7c7f_11ec_8088_0242ac1c0002level0_row5\" class=\"row_heading level0 row5\" >7</th>\n",
              "                        <td id=\"T_8d18eddc_7c7f_11ec_8088_0242ac1c0002row5_col0\" class=\"data row5 col0\" >76.72%</td>\n",
              "                        <td id=\"T_8d18eddc_7c7f_11ec_8088_0242ac1c0002row5_col1\" class=\"data row5 col1\" >71.62%</td>\n",
              "                        <td id=\"T_8d18eddc_7c7f_11ec_8088_0242ac1c0002row5_col2\" class=\"data row5 col2\" >79.77%</td>\n",
              "                        <td id=\"T_8d18eddc_7c7f_11ec_8088_0242ac1c0002row5_col3\" class=\"data row5 col3\" >70.52%</td>\n",
              "                        <td id=\"T_8d18eddc_7c7f_11ec_8088_0242ac1c0002row5_col4\" class=\"data row5 col4\" >sklearn</td>\n",
              "                        <td id=\"T_8d18eddc_7c7f_11ec_8088_0242ac1c0002row5_col5\" class=\"data row5 col5\" >False</td>\n",
              "                        <td id=\"T_8d18eddc_7c7f_11ec_8088_0242ac1c0002row5_col6\" class=\"data row5 col6\" >False</td>\n",
              "                        <td id=\"T_8d18eddc_7c7f_11ec_8088_0242ac1c0002row5_col7\" class=\"data row5 col7\" >LogisticRegression</td>\n",
              "                        <td id=\"T_8d18eddc_7c7f_11ec_8088_0242ac1c0002row5_col8\" class=\"data row5 col8\" >nan</td>\n",
              "                        <td id=\"T_8d18eddc_7c7f_11ec_8088_0242ac1c0002row5_col9\" class=\"data row5 col9\" >10.000000</td>\n",
              "                        <td id=\"T_8d18eddc_7c7f_11ec_8088_0242ac1c0002row5_col10\" class=\"data row5 col10\" >nan</td>\n",
              "                        <td id=\"T_8d18eddc_7c7f_11ec_8088_0242ac1c0002row5_col11\" class=\"data row5 col11\" >nan</td>\n",
              "                        <td id=\"T_8d18eddc_7c7f_11ec_8088_0242ac1c0002row5_col12\" class=\"data row5 col12\" >nan</td>\n",
              "                        <td id=\"T_8d18eddc_7c7f_11ec_8088_0242ac1c0002row5_col13\" class=\"data row5 col13\" >nan</td>\n",
              "                        <td id=\"T_8d18eddc_7c7f_11ec_8088_0242ac1c0002row5_col14\" class=\"data row5 col14\" >nan</td>\n",
              "                        <td id=\"T_8d18eddc_7c7f_11ec_8088_0242ac1c0002row5_col15\" class=\"data row5 col15\" >liblinear</td>\n",
              "                        <td id=\"T_8d18eddc_7c7f_11ec_8088_0242ac1c0002row5_col16\" class=\"data row5 col16\" >{'C': 10, 'class_weight': None...</td>\n",
              "                        <td id=\"T_8d18eddc_7c7f_11ec_8088_0242ac1c0002row5_col17\" class=\"data row5 col17\" >gstreett</td>\n",
              "                        <td id=\"T_8d18eddc_7c7f_11ec_8088_0242ac1c0002row5_col18\" class=\"data row5 col18\" >4</td>\n",
              "                        <td id=\"T_8d18eddc_7c7f_11ec_8088_0242ac1c0002row5_col19\" class=\"data row5 col19\" >nan</td>\n",
              "            </tr>\n",
              "            <tr>\n",
              "                        <th id=\"T_8d18eddc_7c7f_11ec_8088_0242ac1c0002level0_row6\" class=\"row_heading level0 row6\" >8</th>\n",
              "                        <td id=\"T_8d18eddc_7c7f_11ec_8088_0242ac1c0002row6_col0\" class=\"data row6 col0\" >58.78%</td>\n",
              "                        <td id=\"T_8d18eddc_7c7f_11ec_8088_0242ac1c0002row6_col1\" class=\"data row6 col1\" >55.21%</td>\n",
              "                        <td id=\"T_8d18eddc_7c7f_11ec_8088_0242ac1c0002row6_col2\" class=\"data row6 col2\" >55.36%</td>\n",
              "                        <td id=\"T_8d18eddc_7c7f_11ec_8088_0242ac1c0002row6_col3\" class=\"data row6 col3\" >55.16%</td>\n",
              "                        <td id=\"T_8d18eddc_7c7f_11ec_8088_0242ac1c0002row6_col4\" class=\"data row6 col4\" >keras</td>\n",
              "                        <td id=\"T_8d18eddc_7c7f_11ec_8088_0242ac1c0002row6_col5\" class=\"data row6 col5\" >False</td>\n",
              "                        <td id=\"T_8d18eddc_7c7f_11ec_8088_0242ac1c0002row6_col6\" class=\"data row6 col6\" >True</td>\n",
              "                        <td id=\"T_8d18eddc_7c7f_11ec_8088_0242ac1c0002row6_col7\" class=\"data row6 col7\" >Sequential</td>\n",
              "                        <td id=\"T_8d18eddc_7c7f_11ec_8088_0242ac1c0002row6_col8\" class=\"data row6 col8\" >4.000000</td>\n",
              "                        <td id=\"T_8d18eddc_7c7f_11ec_8088_0242ac1c0002row6_col9\" class=\"data row6 col9\" >17730.000000</td>\n",
              "                        <td id=\"T_8d18eddc_7c7f_11ec_8088_0242ac1c0002row6_col10\" class=\"data row6 col10\" >4.000000</td>\n",
              "                        <td id=\"T_8d18eddc_7c7f_11ec_8088_0242ac1c0002row6_col11\" class=\"data row6 col11\" >nan</td>\n",
              "                        <td id=\"T_8d18eddc_7c7f_11ec_8088_0242ac1c0002row6_col12\" class=\"data row6 col12\" >1.000000</td>\n",
              "                        <td id=\"T_8d18eddc_7c7f_11ec_8088_0242ac1c0002row6_col13\" class=\"data row6 col13\" >3.000000</td>\n",
              "                        <td id=\"T_8d18eddc_7c7f_11ec_8088_0242ac1c0002row6_col14\" class=\"data row6 col14\" >str</td>\n",
              "                        <td id=\"T_8d18eddc_7c7f_11ec_8088_0242ac1c0002row6_col15\" class=\"data row6 col15\" >RMSprop</td>\n",
              "                        <td id=\"T_8d18eddc_7c7f_11ec_8088_0242ac1c0002row6_col16\" class=\"data row6 col16\" >{'name': 'sequential_1', 'laye...</td>\n",
              "                        <td id=\"T_8d18eddc_7c7f_11ec_8088_0242ac1c0002row6_col17\" class=\"data row6 col17\" >gstreett</td>\n",
              "                        <td id=\"T_8d18eddc_7c7f_11ec_8088_0242ac1c0002row6_col18\" class=\"data row6 col18\" >9</td>\n",
              "                        <td id=\"T_8d18eddc_7c7f_11ec_8088_0242ac1c0002row6_col19\" class=\"data row6 col19\" >2103472.000000</td>\n",
              "            </tr>\n",
              "            <tr>\n",
              "                        <th id=\"T_8d18eddc_7c7f_11ec_8088_0242ac1c0002level0_row7\" class=\"row_heading level0 row7\" >9</th>\n",
              "                        <td id=\"T_8d18eddc_7c7f_11ec_8088_0242ac1c0002row7_col0\" class=\"data row7 col0\" >61.45%</td>\n",
              "                        <td id=\"T_8d18eddc_7c7f_11ec_8088_0242ac1c0002row7_col1\" class=\"data row7 col1\" >43.02%</td>\n",
              "                        <td id=\"T_8d18eddc_7c7f_11ec_8088_0242ac1c0002row7_col2\" class=\"data row7 col2\" >51.38%</td>\n",
              "                        <td id=\"T_8d18eddc_7c7f_11ec_8088_0242ac1c0002row7_col3\" class=\"data row7 col3\" >50.32%</td>\n",
              "                        <td id=\"T_8d18eddc_7c7f_11ec_8088_0242ac1c0002row7_col4\" class=\"data row7 col4\" >keras</td>\n",
              "                        <td id=\"T_8d18eddc_7c7f_11ec_8088_0242ac1c0002row7_col5\" class=\"data row7 col5\" >False</td>\n",
              "                        <td id=\"T_8d18eddc_7c7f_11ec_8088_0242ac1c0002row7_col6\" class=\"data row7 col6\" >True</td>\n",
              "                        <td id=\"T_8d18eddc_7c7f_11ec_8088_0242ac1c0002row7_col7\" class=\"data row7 col7\" >Sequential</td>\n",
              "                        <td id=\"T_8d18eddc_7c7f_11ec_8088_0242ac1c0002row7_col8\" class=\"data row7 col8\" >7.000000</td>\n",
              "                        <td id=\"T_8d18eddc_7c7f_11ec_8088_0242ac1c0002row7_col9\" class=\"data row7 col9\" >18114.000000</td>\n",
              "                        <td id=\"T_8d18eddc_7c7f_11ec_8088_0242ac1c0002row7_col10\" class=\"data row7 col10\" >5.000000</td>\n",
              "                        <td id=\"T_8d18eddc_7c7f_11ec_8088_0242ac1c0002row7_col11\" class=\"data row7 col11\" >2.000000</td>\n",
              "                        <td id=\"T_8d18eddc_7c7f_11ec_8088_0242ac1c0002row7_col12\" class=\"data row7 col12\" >1.000000</td>\n",
              "                        <td id=\"T_8d18eddc_7c7f_11ec_8088_0242ac1c0002row7_col13\" class=\"data row7 col13\" >4.000000</td>\n",
              "                        <td id=\"T_8d18eddc_7c7f_11ec_8088_0242ac1c0002row7_col14\" class=\"data row7 col14\" >str</td>\n",
              "                        <td id=\"T_8d18eddc_7c7f_11ec_8088_0242ac1c0002row7_col15\" class=\"data row7 col15\" >SGD</td>\n",
              "                        <td id=\"T_8d18eddc_7c7f_11ec_8088_0242ac1c0002row7_col16\" class=\"data row7 col16\" >{'name': 'sequential_1', 'laye...</td>\n",
              "                        <td id=\"T_8d18eddc_7c7f_11ec_8088_0242ac1c0002row7_col17\" class=\"data row7 col17\" >gstreett</td>\n",
              "                        <td id=\"T_8d18eddc_7c7f_11ec_8088_0242ac1c0002row7_col18\" class=\"data row7 col18\" >8</td>\n",
              "                        <td id=\"T_8d18eddc_7c7f_11ec_8088_0242ac1c0002row7_col19\" class=\"data row7 col19\" >1553904.000000</td>\n",
              "            </tr>\n",
              "            <tr>\n",
              "                        <th id=\"T_8d18eddc_7c7f_11ec_8088_0242ac1c0002level0_row8\" class=\"row_heading level0 row8\" >11</th>\n",
              "                        <td id=\"T_8d18eddc_7c7f_11ec_8088_0242ac1c0002row8_col0\" class=\"data row8 col0\" >54.96%</td>\n",
              "                        <td id=\"T_8d18eddc_7c7f_11ec_8088_0242ac1c0002row8_col1\" class=\"data row8 col1\" >49.80%</td>\n",
              "                        <td id=\"T_8d18eddc_7c7f_11ec_8088_0242ac1c0002row8_col2\" class=\"data row8 col2\" >50.07%</td>\n",
              "                        <td id=\"T_8d18eddc_7c7f_11ec_8088_0242ac1c0002row8_col3\" class=\"data row8 col3\" >50.06%</td>\n",
              "                        <td id=\"T_8d18eddc_7c7f_11ec_8088_0242ac1c0002row8_col4\" class=\"data row8 col4\" >keras</td>\n",
              "                        <td id=\"T_8d18eddc_7c7f_11ec_8088_0242ac1c0002row8_col5\" class=\"data row8 col5\" >False</td>\n",
              "                        <td id=\"T_8d18eddc_7c7f_11ec_8088_0242ac1c0002row8_col6\" class=\"data row8 col6\" >True</td>\n",
              "                        <td id=\"T_8d18eddc_7c7f_11ec_8088_0242ac1c0002row8_col7\" class=\"data row8 col7\" >Sequential</td>\n",
              "                        <td id=\"T_8d18eddc_7c7f_11ec_8088_0242ac1c0002row8_col8\" class=\"data row8 col8\" >4.000000</td>\n",
              "                        <td id=\"T_8d18eddc_7c7f_11ec_8088_0242ac1c0002row8_col9\" class=\"data row8 col9\" >9154.000000</td>\n",
              "                        <td id=\"T_8d18eddc_7c7f_11ec_8088_0242ac1c0002row8_col10\" class=\"data row8 col10\" >4.000000</td>\n",
              "                        <td id=\"T_8d18eddc_7c7f_11ec_8088_0242ac1c0002row8_col11\" class=\"data row8 col11\" >nan</td>\n",
              "                        <td id=\"T_8d18eddc_7c7f_11ec_8088_0242ac1c0002row8_col12\" class=\"data row8 col12\" >1.000000</td>\n",
              "                        <td id=\"T_8d18eddc_7c7f_11ec_8088_0242ac1c0002row8_col13\" class=\"data row8 col13\" >3.000000</td>\n",
              "                        <td id=\"T_8d18eddc_7c7f_11ec_8088_0242ac1c0002row8_col14\" class=\"data row8 col14\" >str</td>\n",
              "                        <td id=\"T_8d18eddc_7c7f_11ec_8088_0242ac1c0002row8_col15\" class=\"data row8 col15\" >SGD</td>\n",
              "                        <td id=\"T_8d18eddc_7c7f_11ec_8088_0242ac1c0002row8_col16\" class=\"data row8 col16\" >{'name': 'sequential', 'layers...</td>\n",
              "                        <td id=\"T_8d18eddc_7c7f_11ec_8088_0242ac1c0002row8_col17\" class=\"data row8 col17\" >gstreett</td>\n",
              "                        <td id=\"T_8d18eddc_7c7f_11ec_8088_0242ac1c0002row8_col18\" class=\"data row8 col18\" >7</td>\n",
              "                        <td id=\"T_8d18eddc_7c7f_11ec_8088_0242ac1c0002row8_col19\" class=\"data row8 col19\" >1322832.000000</td>\n",
              "            </tr>\n",
              "    </tbody></table>"
            ],
            "text/plain": [
              "<pandas.io.formats.style.Styler at 0x7f3d00fdbc90>"
            ]
          },
          "metadata": {},
          "execution_count": 25
        }
      ]
    },
    {
      "cell_type": "code",
      "metadata": {
        "id": "MKvPKyb7hT0h",
        "colab": {
          "base_uri": "https://localhost:8080/",
          "height": 180
        },
        "outputId": "621f8272-8771-4b9f-f4f6-b730bd70236c"
      },
      "source": [
        "# Compare two or more models\n",
        "data=mycompetition.compare_models([7,8,9], verbose=1)\n",
        "mycompetition.stylize_compare(data)"
      ],
      "execution_count": 26,
      "outputs": [
        {
          "output_type": "display_data",
          "data": {
            "text/html": [
              "<style  type=\"text/css\" >\n",
              "    #T_94524418_7c7f_11ec_8088_0242ac1c0002 caption {\n",
              "          color: black;\n",
              "          font-size: 18px;\n",
              "    }#T_94524418_7c7f_11ec_8088_0242ac1c0002row0_col0,#T_94524418_7c7f_11ec_8088_0242ac1c0002row0_col3,#T_94524418_7c7f_11ec_8088_0242ac1c0002row0_col6,#T_94524418_7c7f_11ec_8088_0242ac1c0002row1_col0,#T_94524418_7c7f_11ec_8088_0242ac1c0002row1_col6,#T_94524418_7c7f_11ec_8088_0242ac1c0002row2_col0,#T_94524418_7c7f_11ec_8088_0242ac1c0002row2_col3,#T_94524418_7c7f_11ec_8088_0242ac1c0002row2_col6,#T_94524418_7c7f_11ec_8088_0242ac1c0002row3_col0,#T_94524418_7c7f_11ec_8088_0242ac1c0002row3_col3,#T_94524418_7c7f_11ec_8088_0242ac1c0002row3_col6,#T_94524418_7c7f_11ec_8088_0242ac1c0002row5_col3,#T_94524418_7c7f_11ec_8088_0242ac1c0002row6_col3{\n",
              "            background:  #fff2ae;\n",
              "            color:  black;\n",
              "            color:  black;\n",
              "        }#T_94524418_7c7f_11ec_8088_0242ac1c0002row0_col1,#T_94524418_7c7f_11ec_8088_0242ac1c0002row0_col2,#T_94524418_7c7f_11ec_8088_0242ac1c0002row0_col4,#T_94524418_7c7f_11ec_8088_0242ac1c0002row0_col5,#T_94524418_7c7f_11ec_8088_0242ac1c0002row0_col7,#T_94524418_7c7f_11ec_8088_0242ac1c0002row0_col8,#T_94524418_7c7f_11ec_8088_0242ac1c0002row1_col1,#T_94524418_7c7f_11ec_8088_0242ac1c0002row1_col2,#T_94524418_7c7f_11ec_8088_0242ac1c0002row1_col4,#T_94524418_7c7f_11ec_8088_0242ac1c0002row1_col5,#T_94524418_7c7f_11ec_8088_0242ac1c0002row1_col7,#T_94524418_7c7f_11ec_8088_0242ac1c0002row1_col8,#T_94524418_7c7f_11ec_8088_0242ac1c0002row2_col1,#T_94524418_7c7f_11ec_8088_0242ac1c0002row2_col2,#T_94524418_7c7f_11ec_8088_0242ac1c0002row2_col4,#T_94524418_7c7f_11ec_8088_0242ac1c0002row2_col5,#T_94524418_7c7f_11ec_8088_0242ac1c0002row2_col7,#T_94524418_7c7f_11ec_8088_0242ac1c0002row2_col8,#T_94524418_7c7f_11ec_8088_0242ac1c0002row3_col1,#T_94524418_7c7f_11ec_8088_0242ac1c0002row3_col2,#T_94524418_7c7f_11ec_8088_0242ac1c0002row3_col4,#T_94524418_7c7f_11ec_8088_0242ac1c0002row3_col5,#T_94524418_7c7f_11ec_8088_0242ac1c0002row3_col7,#T_94524418_7c7f_11ec_8088_0242ac1c0002row3_col8,#T_94524418_7c7f_11ec_8088_0242ac1c0002row4_col0,#T_94524418_7c7f_11ec_8088_0242ac1c0002row4_col1,#T_94524418_7c7f_11ec_8088_0242ac1c0002row4_col2,#T_94524418_7c7f_11ec_8088_0242ac1c0002row4_col4,#T_94524418_7c7f_11ec_8088_0242ac1c0002row4_col5,#T_94524418_7c7f_11ec_8088_0242ac1c0002row4_col6,#T_94524418_7c7f_11ec_8088_0242ac1c0002row4_col7,#T_94524418_7c7f_11ec_8088_0242ac1c0002row4_col8,#T_94524418_7c7f_11ec_8088_0242ac1c0002row5_col0,#T_94524418_7c7f_11ec_8088_0242ac1c0002row5_col1,#T_94524418_7c7f_11ec_8088_0242ac1c0002row5_col2,#T_94524418_7c7f_11ec_8088_0242ac1c0002row5_col4,#T_94524418_7c7f_11ec_8088_0242ac1c0002row5_col5,#T_94524418_7c7f_11ec_8088_0242ac1c0002row5_col6,#T_94524418_7c7f_11ec_8088_0242ac1c0002row5_col7,#T_94524418_7c7f_11ec_8088_0242ac1c0002row5_col8,#T_94524418_7c7f_11ec_8088_0242ac1c0002row6_col0,#T_94524418_7c7f_11ec_8088_0242ac1c0002row6_col1,#T_94524418_7c7f_11ec_8088_0242ac1c0002row6_col2,#T_94524418_7c7f_11ec_8088_0242ac1c0002row6_col4,#T_94524418_7c7f_11ec_8088_0242ac1c0002row6_col5,#T_94524418_7c7f_11ec_8088_0242ac1c0002row6_col6,#T_94524418_7c7f_11ec_8088_0242ac1c0002row6_col7,#T_94524418_7c7f_11ec_8088_0242ac1c0002row6_col8{\n",
              "            background:  white;\n",
              "            color:  black;\n",
              "            color:  black;\n",
              "        }#T_94524418_7c7f_11ec_8088_0242ac1c0002row1_col3,#T_94524418_7c7f_11ec_8088_0242ac1c0002row4_col3{\n",
              "            background:  #cbd5e8;\n",
              "            color:  black;\n",
              "            color:  black;\n",
              "        }</style><table id=\"T_94524418_7c7f_11ec_8088_0242ac1c0002\" ><caption>Model type: Neural Network</caption><thead>    <tr>        <th class=\"blank level0\" ></th>        <th class=\"col_heading level0 col0\" >Model_7_Layer</th>        <th class=\"col_heading level0 col1\" >Model_7_Shape</th>        <th class=\"col_heading level0 col2\" >Model_7_Params</th>        <th class=\"col_heading level0 col3\" >Model_8_Layer</th>        <th class=\"col_heading level0 col4\" >Model_8_Shape</th>        <th class=\"col_heading level0 col5\" >Model_8_Params</th>        <th class=\"col_heading level0 col6\" >Model_9_Layer</th>        <th class=\"col_heading level0 col7\" >Model_9_Shape</th>        <th class=\"col_heading level0 col8\" >Model_9_Params</th>    </tr></thead><tbody>\n",
              "                <tr>\n",
              "                        <th id=\"T_94524418_7c7f_11ec_8088_0242ac1c0002level0_row0\" class=\"row_heading level0 row0\" >0</th>\n",
              "                        <td id=\"T_94524418_7c7f_11ec_8088_0242ac1c0002row0_col0\" class=\"data row0 col0\" >Dense</td>\n",
              "                        <td id=\"T_94524418_7c7f_11ec_8088_0242ac1c0002row0_col1\" class=\"data row0 col1\" >[None, 64]</td>\n",
              "                        <td id=\"T_94524418_7c7f_11ec_8088_0242ac1c0002row0_col2\" class=\"data row0 col2\" >704.000000</td>\n",
              "                        <td id=\"T_94524418_7c7f_11ec_8088_0242ac1c0002row0_col3\" class=\"data row0 col3\" >Dense</td>\n",
              "                        <td id=\"T_94524418_7c7f_11ec_8088_0242ac1c0002row0_col4\" class=\"data row0 col4\" >[None, 128]</td>\n",
              "                        <td id=\"T_94524418_7c7f_11ec_8088_0242ac1c0002row0_col5\" class=\"data row0 col5\" >1408</td>\n",
              "                        <td id=\"T_94524418_7c7f_11ec_8088_0242ac1c0002row0_col6\" class=\"data row0 col6\" >Dense</td>\n",
              "                        <td id=\"T_94524418_7c7f_11ec_8088_0242ac1c0002row0_col7\" class=\"data row0 col7\" >[None, 64]</td>\n",
              "                        <td id=\"T_94524418_7c7f_11ec_8088_0242ac1c0002row0_col8\" class=\"data row0 col8\" >704.000000</td>\n",
              "            </tr>\n",
              "            <tr>\n",
              "                        <th id=\"T_94524418_7c7f_11ec_8088_0242ac1c0002level0_row1\" class=\"row_heading level0 row1\" >1</th>\n",
              "                        <td id=\"T_94524418_7c7f_11ec_8088_0242ac1c0002row1_col0\" class=\"data row1 col0\" >Dense</td>\n",
              "                        <td id=\"T_94524418_7c7f_11ec_8088_0242ac1c0002row1_col1\" class=\"data row1 col1\" >[None, 64]</td>\n",
              "                        <td id=\"T_94524418_7c7f_11ec_8088_0242ac1c0002row1_col2\" class=\"data row1 col2\" >4160.000000</td>\n",
              "                        <td id=\"T_94524418_7c7f_11ec_8088_0242ac1c0002row1_col3\" class=\"data row1 col3\" >Dropout</td>\n",
              "                        <td id=\"T_94524418_7c7f_11ec_8088_0242ac1c0002row1_col4\" class=\"data row1 col4\" >[None, 128]</td>\n",
              "                        <td id=\"T_94524418_7c7f_11ec_8088_0242ac1c0002row1_col5\" class=\"data row1 col5\" >0</td>\n",
              "                        <td id=\"T_94524418_7c7f_11ec_8088_0242ac1c0002row1_col6\" class=\"data row1 col6\" >Dense</td>\n",
              "                        <td id=\"T_94524418_7c7f_11ec_8088_0242ac1c0002row1_col7\" class=\"data row1 col7\" >[None, 64]</td>\n",
              "                        <td id=\"T_94524418_7c7f_11ec_8088_0242ac1c0002row1_col8\" class=\"data row1 col8\" >4160.000000</td>\n",
              "            </tr>\n",
              "            <tr>\n",
              "                        <th id=\"T_94524418_7c7f_11ec_8088_0242ac1c0002level0_row2\" class=\"row_heading level0 row2\" >2</th>\n",
              "                        <td id=\"T_94524418_7c7f_11ec_8088_0242ac1c0002row2_col0\" class=\"data row2 col0\" >Dense</td>\n",
              "                        <td id=\"T_94524418_7c7f_11ec_8088_0242ac1c0002row2_col1\" class=\"data row2 col1\" >[None, 64]</td>\n",
              "                        <td id=\"T_94524418_7c7f_11ec_8088_0242ac1c0002row2_col2\" class=\"data row2 col2\" >4160.000000</td>\n",
              "                        <td id=\"T_94524418_7c7f_11ec_8088_0242ac1c0002row2_col3\" class=\"data row2 col3\" >Dense</td>\n",
              "                        <td id=\"T_94524418_7c7f_11ec_8088_0242ac1c0002row2_col4\" class=\"data row2 col4\" >[None, 64]</td>\n",
              "                        <td id=\"T_94524418_7c7f_11ec_8088_0242ac1c0002row2_col5\" class=\"data row2 col5\" >8256</td>\n",
              "                        <td id=\"T_94524418_7c7f_11ec_8088_0242ac1c0002row2_col6\" class=\"data row2 col6\" >Dense</td>\n",
              "                        <td id=\"T_94524418_7c7f_11ec_8088_0242ac1c0002row2_col7\" class=\"data row2 col7\" >[None, 192]</td>\n",
              "                        <td id=\"T_94524418_7c7f_11ec_8088_0242ac1c0002row2_col8\" class=\"data row2 col8\" >12480.000000</td>\n",
              "            </tr>\n",
              "            <tr>\n",
              "                        <th id=\"T_94524418_7c7f_11ec_8088_0242ac1c0002level0_row3\" class=\"row_heading level0 row3\" >3</th>\n",
              "                        <td id=\"T_94524418_7c7f_11ec_8088_0242ac1c0002row3_col0\" class=\"data row3 col0\" >Dense</td>\n",
              "                        <td id=\"T_94524418_7c7f_11ec_8088_0242ac1c0002row3_col1\" class=\"data row3 col1\" >[None, 2]</td>\n",
              "                        <td id=\"T_94524418_7c7f_11ec_8088_0242ac1c0002row3_col2\" class=\"data row3 col2\" >130.000000</td>\n",
              "                        <td id=\"T_94524418_7c7f_11ec_8088_0242ac1c0002row3_col3\" class=\"data row3 col3\" >Dense</td>\n",
              "                        <td id=\"T_94524418_7c7f_11ec_8088_0242ac1c0002row3_col4\" class=\"data row3 col4\" >[None, 64]</td>\n",
              "                        <td id=\"T_94524418_7c7f_11ec_8088_0242ac1c0002row3_col5\" class=\"data row3 col5\" >4160</td>\n",
              "                        <td id=\"T_94524418_7c7f_11ec_8088_0242ac1c0002row3_col6\" class=\"data row3 col6\" >Dense</td>\n",
              "                        <td id=\"T_94524418_7c7f_11ec_8088_0242ac1c0002row3_col7\" class=\"data row3 col7\" >[None, 2]</td>\n",
              "                        <td id=\"T_94524418_7c7f_11ec_8088_0242ac1c0002row3_col8\" class=\"data row3 col8\" >386.000000</td>\n",
              "            </tr>\n",
              "            <tr>\n",
              "                        <th id=\"T_94524418_7c7f_11ec_8088_0242ac1c0002level0_row4\" class=\"row_heading level0 row4\" >4</th>\n",
              "                        <td id=\"T_94524418_7c7f_11ec_8088_0242ac1c0002row4_col0\" class=\"data row4 col0\" >None</td>\n",
              "                        <td id=\"T_94524418_7c7f_11ec_8088_0242ac1c0002row4_col1\" class=\"data row4 col1\" >None</td>\n",
              "                        <td id=\"T_94524418_7c7f_11ec_8088_0242ac1c0002row4_col2\" class=\"data row4 col2\" >nan</td>\n",
              "                        <td id=\"T_94524418_7c7f_11ec_8088_0242ac1c0002row4_col3\" class=\"data row4 col3\" >Dropout</td>\n",
              "                        <td id=\"T_94524418_7c7f_11ec_8088_0242ac1c0002row4_col4\" class=\"data row4 col4\" >[None, 64]</td>\n",
              "                        <td id=\"T_94524418_7c7f_11ec_8088_0242ac1c0002row4_col5\" class=\"data row4 col5\" >0</td>\n",
              "                        <td id=\"T_94524418_7c7f_11ec_8088_0242ac1c0002row4_col6\" class=\"data row4 col6\" >None</td>\n",
              "                        <td id=\"T_94524418_7c7f_11ec_8088_0242ac1c0002row4_col7\" class=\"data row4 col7\" >None</td>\n",
              "                        <td id=\"T_94524418_7c7f_11ec_8088_0242ac1c0002row4_col8\" class=\"data row4 col8\" >nan</td>\n",
              "            </tr>\n",
              "            <tr>\n",
              "                        <th id=\"T_94524418_7c7f_11ec_8088_0242ac1c0002level0_row5\" class=\"row_heading level0 row5\" >5</th>\n",
              "                        <td id=\"T_94524418_7c7f_11ec_8088_0242ac1c0002row5_col0\" class=\"data row5 col0\" >None</td>\n",
              "                        <td id=\"T_94524418_7c7f_11ec_8088_0242ac1c0002row5_col1\" class=\"data row5 col1\" >None</td>\n",
              "                        <td id=\"T_94524418_7c7f_11ec_8088_0242ac1c0002row5_col2\" class=\"data row5 col2\" >nan</td>\n",
              "                        <td id=\"T_94524418_7c7f_11ec_8088_0242ac1c0002row5_col3\" class=\"data row5 col3\" >Dense</td>\n",
              "                        <td id=\"T_94524418_7c7f_11ec_8088_0242ac1c0002row5_col4\" class=\"data row5 col4\" >[None, 64]</td>\n",
              "                        <td id=\"T_94524418_7c7f_11ec_8088_0242ac1c0002row5_col5\" class=\"data row5 col5\" >4160</td>\n",
              "                        <td id=\"T_94524418_7c7f_11ec_8088_0242ac1c0002row5_col6\" class=\"data row5 col6\" >None</td>\n",
              "                        <td id=\"T_94524418_7c7f_11ec_8088_0242ac1c0002row5_col7\" class=\"data row5 col7\" >None</td>\n",
              "                        <td id=\"T_94524418_7c7f_11ec_8088_0242ac1c0002row5_col8\" class=\"data row5 col8\" >nan</td>\n",
              "            </tr>\n",
              "            <tr>\n",
              "                        <th id=\"T_94524418_7c7f_11ec_8088_0242ac1c0002level0_row6\" class=\"row_heading level0 row6\" >6</th>\n",
              "                        <td id=\"T_94524418_7c7f_11ec_8088_0242ac1c0002row6_col0\" class=\"data row6 col0\" >None</td>\n",
              "                        <td id=\"T_94524418_7c7f_11ec_8088_0242ac1c0002row6_col1\" class=\"data row6 col1\" >None</td>\n",
              "                        <td id=\"T_94524418_7c7f_11ec_8088_0242ac1c0002row6_col2\" class=\"data row6 col2\" >nan</td>\n",
              "                        <td id=\"T_94524418_7c7f_11ec_8088_0242ac1c0002row6_col3\" class=\"data row6 col3\" >Dense</td>\n",
              "                        <td id=\"T_94524418_7c7f_11ec_8088_0242ac1c0002row6_col4\" class=\"data row6 col4\" >[None, 2]</td>\n",
              "                        <td id=\"T_94524418_7c7f_11ec_8088_0242ac1c0002row6_col5\" class=\"data row6 col5\" >130</td>\n",
              "                        <td id=\"T_94524418_7c7f_11ec_8088_0242ac1c0002row6_col6\" class=\"data row6 col6\" >None</td>\n",
              "                        <td id=\"T_94524418_7c7f_11ec_8088_0242ac1c0002row6_col7\" class=\"data row6 col7\" >None</td>\n",
              "                        <td id=\"T_94524418_7c7f_11ec_8088_0242ac1c0002row6_col8\" class=\"data row6 col8\" >nan</td>\n",
              "            </tr>\n",
              "    </tbody></table>"
            ],
            "text/plain": [
              "<IPython.core.display.HTML object>"
            ]
          },
          "metadata": {}
        }
      ]
    }
  ]
}