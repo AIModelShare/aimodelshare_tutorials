{
 "cells": [
  {
   "cell_type": "markdown",
   "metadata": {
    "id": "0BviI4QIdWiq"
   },
   "source": [
    "<p align=\"center\"><img width=\"50%\" src=\"https://aimodelsharecontent.s3.amazonaws.com/aimodshare_banner.jpg\" /></p>\n",
    "\n",
    "\n",
    "---\n",
    "\n",
    "\n"
   ]
  },
  {
   "cell_type": "markdown",
   "metadata": {
    "id": "gYNp684Tk3tb"
   },
   "source": [
    "<p align=\"center\"><h1 align=\"center\">Quick Start: Used Car Sale Price Tabular Regression Tutorial</h1> \n",
    "\n",
    "##### <p align=\"center\">*Note: Dataset adapted from N. Birla's public dataset ['Vehicle Dataset'](https://www.kaggle.com/nehalbirla/vehicle-dataset-from-cardekho)* \n",
    "---\n",
    "\n",
    "<h3 align=\"center\">(Deploy model to an AI Model Share Model Playground REST API<br> and Web Dashboard in five easy steps...)</h3></p>\n",
    "<p align=\"center\"><img width=\"100%\" src=\"https://aimodelsharecontent.s3.amazonaws.com/aimstutorialsteps.gif\" /></p>\n",
    "\n",
    "\n",
    "---\n",
    "\n"
   ]
  },
  {
   "cell_type": "markdown",
   "metadata": {
    "id": "0PhJ-XlGazpD"
   },
   "source": [
    "## **Credential Configuration**\n",
    "\n",
    "In order to deploy an AI Model Share Model Playground, you will need a credentials text file. \n",
    "\n",
    "Generating your credentials file requires two sets of information: \n",
    "1. Your AI Model Share username and password (create them [HERE](https://www.modelshare.org/login)). \n",
    "2. Your AWS (Amazon Web Services) access keys (follow the tutorial [HERE](https://aimodelshare.readthedocs.io/en/latest/create_credentials.html)). \n",
    "\n",
    "You only need to generate your credentials file once. After running the configure function below, save the outputted file for all your future Model Playground deployments and competition submissions. \n",
    "\n",
    "*Note: Handle your credentials file with the same level of security you handle your passwords. Do not share your file with anyone, send via email, or upload to Github.*\n"
   ]
  },
  {
   "cell_type": "code",
   "execution_count": null,
   "metadata": {
    "id": "puVzQBHyhS2Z"
   },
   "outputs": [],
   "source": [
    "#install aimodelshare library\n",
    "! pip install aimodelshare"
   ]
  },
  {
   "cell_type": "code",
   "execution_count": null,
   "metadata": {
    "id": "4Q7MCqBLcS20"
   },
   "outputs": [],
   "source": [
    "# Generate credentials file\n",
    "import aimodelshare as ai \n",
    "from aimodelshare.aws import configure_credentials \n",
    "\n",
    "configure_credentials()"
   ]
  },
  {
   "cell_type": "markdown",
   "metadata": {
    "id": "VliTV_HH-uz4"
   },
   "source": [
    "## **Set up Environment**\n",
    "\n",
    "Use your credentials file to set your credentials for all aimodelshare functions. "
   ]
  },
  {
   "cell_type": "code",
   "execution_count": 5,
   "metadata": {
    "colab": {
     "base_uri": "https://localhost:8080/"
    },
    "id": "2u1QKNfEyN9A",
    "outputId": "b293c5bf-ac1c-483a-9b2b-13a813a2adc6"
   },
   "outputs": [
    {
     "name": "stdout",
     "output_type": "stream",
     "text": [
      "AI Model Share login credentials set successfully.\n",
      "AWS credentials set successfully.\n"
     ]
    }
   ],
   "source": [
    "# Set credentials \n",
    "import aimodelshare as ai\n",
    "from aimodelshare.aws import set_credentials\n",
    "\n",
    "set_credentials(credential_file=\"credentials.txt\", type=\"deploy_model\")"
   ]
  },
  {
   "cell_type": "code",
   "execution_count": 6,
   "metadata": {
    "colab": {
     "base_uri": "https://localhost:8080/"
    },
    "id": "PwQcTsyyURIk",
    "outputId": "d100cebc-5720-4dab-ed23-e98f8d15f9e6"
   },
   "outputs": [
    {
     "name": "stdout",
     "output_type": "stream",
     "text": [
      "Downloading [===================>                             ]\n",
      "\n",
      "Data downloaded successfully.\n",
      "\n",
      "Preparing downloaded files for use...\n",
      "\n",
      "Success! Your Quick Start materials have been downloaded. \n",
      "You are now ready to run the tutorial.\n"
     ]
    }
   ],
   "source": [
    "# Get materials for tutorial: predicting sale prices of used cars (in USD)\n",
    "import aimodelshare as ai\n",
    "X_train, X_test, y_train, y_test, example_data = ai.import_quickstart_data(\"cars\")"
   ]
  },
  {
   "cell_type": "markdown",
   "metadata": {
    "id": "bIleM1F6nWSF"
   },
   "source": [
    "## **(1) Preprocessor Function & Setup**"
   ]
  },
  {
   "cell_type": "markdown",
   "metadata": {
    "id": "WrEgo5zRxbed"
   },
   "source": [
    "### **Write a Preprocessor Function**\n",
    "\n",
    "\n",
    "> ###   Preprocessor functions are used to preprocess data into the precise data your model requires to generate predictions.  \n",
    "\n",
    "*  *Preprocessor functions should always be named \"preprocessor\".*\n",
    "*  *You can use any Python library in a preprocessor function, but all libraries should be imported inside your preprocessor function.*  \n",
    "*  *For tabular prediction models users should minimally include function inputs for an unpreprocessed pandas dataframe.*  \n",
    "*  *Any categorical features should be preprocessed to one hot encoded numeric values.* \n"
   ]
  },
  {
   "cell_type": "code",
   "execution_count": 7,
   "metadata": {
    "id": "B5Jz-1cmYN5Z"
   },
   "outputs": [],
   "source": [
    "# In this case we use Sklearn's Column transformer in our preprocessor function\n",
    "\n",
    "from sklearn.compose import ColumnTransformer\n",
    "from sklearn.pipeline import Pipeline\n",
    "from sklearn.impute import SimpleImputer\n",
    "from sklearn.preprocessing import StandardScaler, OneHotEncoder\n",
    "\n",
    "#Preprocess data using sklearn's Column Transformer approach\n",
    "\n",
    "# We create the preprocessing pipelines for both numeric and categorical data.\n",
    "numeric_features = ['km_driven', 'mileage', 'engine', 'max_power', 'year']\n",
    "numeric_transformer = Pipeline(steps=[\n",
    "    ('imputer', SimpleImputer(strategy='median')), #'imputer' names the step\n",
    "    ('scaler', StandardScaler())])\n",
    "\n",
    "categorical_features = ['fuel', 'seller_type', 'transmission', 'owner', 'seats']\n",
    "\n",
    "# Replacing missing values with Modal value and then one-hot encoding.\n",
    "categorical_transformer = Pipeline(steps=[\n",
    "    ('imputer', SimpleImputer(strategy='most_frequent')),\n",
    "    ('onehot', OneHotEncoder(handle_unknown='ignore'))])\n",
    "\n",
    "# Final preprocessor object set up with ColumnTransformer...\n",
    "\n",
    "preprocess = ColumnTransformer(\n",
    "    transformers=[\n",
    "        ('num', numeric_transformer, numeric_features),\n",
    "        ('cat', categorical_transformer, categorical_features)])\n",
    "\n",
    "# fit preprocessor to your data\n",
    "preprocess = preprocess.fit(X_train)"
   ]
  },
  {
   "cell_type": "code",
   "execution_count": 8,
   "metadata": {
    "id": "5D_6sac6nQUx"
   },
   "outputs": [],
   "source": [
    "# Write function to transform data with preprocessor \n",
    "# In this case we use sklearn's Column transformer in our preprocessor function\n",
    "\n",
    "def preprocessor(data):\n",
    "    preprocessed_data=preprocess.transform(data)\n",
    "    return preprocessed_data"
   ]
  },
  {
   "cell_type": "code",
   "execution_count": 9,
   "metadata": {
    "colab": {
     "base_uri": "https://localhost:8080/"
    },
    "id": "xp_TTwew8jYU",
    "outputId": "49454450-027a-4475-d198-a88e0ae31e5e"
   },
   "outputs": [
    {
     "data": {
      "text/plain": [
       "(6502, 27)"
      ]
     },
     "execution_count": 9,
     "metadata": {},
     "output_type": "execute_result"
    }
   ],
   "source": [
    "# check shape of X data \n",
    "preprocessor(X_train).shape"
   ]
  },
  {
   "cell_type": "markdown",
   "metadata": {
    "id": "xJlhd6jvns0b"
   },
   "source": [
    "## **(2) Build Model Using sklearn (or Your Preferred ML Library)**"
   ]
  },
  {
   "cell_type": "markdown",
   "metadata": {
    "id": "fP7ZIVKe3luZ"
   },
   "source": [
    "### **Random Forest**"
   ]
  },
  {
   "cell_type": "code",
   "execution_count": 10,
   "metadata": {
    "colab": {
     "base_uri": "https://localhost:8080/"
    },
    "id": "HB7uImQbn088",
    "outputId": "8e1e8544-48b0-4d62-ce58-348f38019f08"
   },
   "outputs": [
    {
     "data": {
      "text/plain": [
       "0.8543423805283765"
      ]
     },
     "execution_count": 10,
     "metadata": {},
     "output_type": "execute_result"
    }
   ],
   "source": [
    "from sklearn.ensemble import RandomForestRegressor\n",
    "from sklearn.metrics import r2_score\n",
    "\n",
    "model = RandomForestRegressor(n_estimators = 500, max_depth = 3, random_state=0)\n",
    "model.fit(preprocessor(X_train), y_train) # Fitting to the training set.\n",
    "model_predictions = model.predict(preprocessor(X_train))\n",
    "r2_score(model_predictions, y_train)"
   ]
  },
  {
   "cell_type": "markdown",
   "metadata": {
    "id": "FZGlu5PMWbNO"
   },
   "source": [
    "## **(3) Save Preprocessor**\n",
    "### Saves preprocessor function to \"preprocessor.zip\" file"
   ]
  },
  {
   "cell_type": "code",
   "execution_count": 11,
   "metadata": {
    "colab": {
     "base_uri": "https://localhost:8080/"
    },
    "id": "Wh_vkwblXx7r",
    "outputId": "8ccf96bd-276f-4b10-d2bd-2f6ffa65ec05"
   },
   "outputs": [
    {
     "name": "stdout",
     "output_type": "stream",
     "text": [
      "Your preprocessor is now saved to 'preprocessor.zip'\n"
     ]
    }
   ],
   "source": [
    "import aimodelshare as ai\n",
    "ai.export_preprocessor(preprocessor,\"\") "
   ]
  },
  {
   "cell_type": "code",
   "execution_count": 12,
   "metadata": {
    "colab": {
     "base_uri": "https://localhost:8080/"
    },
    "id": "b58rg4pMMn4n",
    "outputId": "921bc6a7-b9ec-4187-f101-964c138bb1f6"
   },
   "outputs": [
    {
     "data": {
      "text/plain": [
       "(1626, 27)"
      ]
     },
     "execution_count": 12,
     "metadata": {},
     "output_type": "execute_result"
    }
   ],
   "source": [
    "#  Now let's import and test the preprocessor function to see if it is working...\n",
    "\n",
    "import aimodelshare as ai\n",
    "prep=ai.import_preprocessor(\"preprocessor.zip\")\n",
    "\n",
    "prep(X_test).shape"
   ]
  },
  {
   "cell_type": "markdown",
   "metadata": {
    "id": "CdQOeF2J3PCv"
   },
   "source": [
    "## **(4) Save sklearn model to Onnx File Format**\n"
   ]
  },
  {
   "cell_type": "code",
   "execution_count": 13,
   "metadata": {
    "id": "r8fgi8f6qkbk"
   },
   "outputs": [],
   "source": [
    "# Save sklearn model to local ONNX file\n",
    "from aimodelshare.aimsonnx import model_to_onnx\n",
    "\n",
    "# Check how many preprocessed input features there are\n",
    "from skl2onnx.common.data_types import FloatTensorType\n",
    "\n",
    "feature_count=preprocessor(X_test).shape[1]\n",
    "initial_type = [('float_input', FloatTensorType([None, feature_count]))]  # You need to insert correct number of features in preprocessed data\n",
    "\n",
    "onnx_model = model_to_onnx(model, framework='sklearn',\n",
    "                          initial_types=initial_type,\n",
    "                          transfer_learning=False,\n",
    "                          deep_learning=False)\n",
    "\n",
    "\n",
    "with open(\"model.onnx\", \"wb\") as f:\n",
    "    f.write(onnx_model.SerializeToString())"
   ]
  },
  {
   "cell_type": "markdown",
   "metadata": {
    "id": "1swt74XQUIFh"
   },
   "source": [
    "## **(5) Create your Model Playground and Deploy REST API/ Live Web-Application**"
   ]
  },
  {
   "cell_type": "code",
   "execution_count": 14,
   "metadata": {
    "id": "Y-YKEcvDNmD3"
   },
   "outputs": [],
   "source": [
    "#Set up arguments for Model Playground deployment\n",
    "import pandas as pd \n",
    "\n",
    "model_filepath=\"model.onnx\"\n",
    "preprocessor_filepath=\"preprocessor.zip\""
   ]
  },
  {
   "cell_type": "code",
   "execution_count": 15,
   "metadata": {
    "colab": {
     "base_uri": "https://localhost:8080/"
    },
    "id": "T8C6IlYTFN5t",
    "outputId": "dbd1773c-c211-472e-de73-73cb0c0fc40d"
   },
   "outputs": [
    {
     "name": "stdout",
     "output_type": "stream",
     "text": [
      "We need some information about your model before we can build your REST API and interactive Model Playground.\n",
      "   \n",
      "Model Name (for AI Model Share Website):Car Price Prediction\n",
      "Model Description (Explain what your model does and \n",
      " why end-users would find your model useful):Input car attributes to predict price.\n",
      "Model Key Words (Search categories that describe your model, separated with commas):car, price, regression\n",
      "   \n",
      "Creating your prediction API. (This process may take several minutes.)\n",
      "\n",
      "[=====================================] Progress: 100% - Complete!                                            \n",
      "\n",
      "Success! Your Model Playground was created in 69 seconds. \n",
      " Playground Url: \"https://trj5mvuesh.execute-api.us-east-1.amazonaws.com/prod/m\"\n",
      "\n",
      "You can now use your Model Playground.\n",
      "\n",
      "Follow this link to explore your Model Playground's functionality\n",
      "You can make predictions with the Dashboard and access example code from the Programmatic tab.\n",
      "https://www.modelshare.org/detail/model:758\n"
     ]
    }
   ],
   "source": [
    "from aimodelshare import ModelPlayground\n",
    "\n",
    "#Instantiate ModelPlayground() Class\n",
    "\n",
    "myplayground=ModelPlayground(model_type=\"tabular\", classification=False, private=False)\n",
    "\n",
    "# Create Model Playground (generates live rest api and web-app for your model/preprocessor)\n",
    "\n",
    "myplayground.deploy(model_filepath, preprocessor_filepath, y_train, example_data) "
   ]
  },
  {
   "cell_type": "markdown",
   "metadata": {
    "id": "Eb9dfUFHhLr-"
   },
   "source": [
    "## **Use your new Model Playground!**\n",
    "\n",
    "Follow the link in the output above to:\n",
    "- Generate predictions with your interactive web dashboard\n",
    "- Access example code in Python, R, and Curl\n",
    "\n",
    "Or, follow the rest of the tutorial to create a competition for your Model Playground and: \n",
    "- Access verified model performance metrics \n",
    "- Upload multiple models to a leaderboard \n",
    "- Easily compare model performance & structure "
   ]
  },
  {
   "cell_type": "markdown",
   "metadata": {
    "id": "9YpyLkQNfqSI"
   },
   "source": [
    "## **Part 2: Create a Competition**\n",
    "\n",
    "-------\n",
    "\n",
    "After deploying your Model Playground, you can now create a competition. \n",
    "\n",
    "Creating a competition allows you to:\n",
    "1. Verify the model performance metrics on aimodelshare.org\n",
    "2. Submit models to a leaderboard\n",
    "3. Grant access to other users to submit models to the leaderboard\n",
    "4. Easily compare model performance and structure "
   ]
  },
  {
   "cell_type": "code",
   "execution_count": 16,
   "metadata": {
    "id": "ulWKEy5dTBav"
   },
   "outputs": [],
   "source": [
    "# Create list of authorized participants for competition\n",
    "# Note that participants should use the same email address when creating modelshare.org account\n",
    "\n",
    "emaillist=[\"emailaddress1@email.com\", \"emailaddress2@email.com\", \"emailaddress3@email.com\"]"
   ]
  },
  {
   "cell_type": "code",
   "execution_count": null,
   "metadata": {
    "id": "o2nKrLAMgc9o"
   },
   "outputs": [],
   "source": [
    "# Create Competition\n",
    "myplayground.create_competition(data_directory='used_car_competition_data', \n",
    "                                y_test = y_test, \n",
    "                                email_list=emaillist)"
   ]
  },
  {
   "cell_type": "code",
   "execution_count": 18,
   "metadata": {
    "id": "SAJJWhdAfyo5"
   },
   "outputs": [],
   "source": [
    "#Instantiate Competition\n",
    "#--Note: If you start a new session, the first argument should be the Model Playground url in quotes. \n",
    "#--e.g.- mycompetition= ai.Competition(\"https://2121212.execute-api.us-east-1.amazonaws.com/prod/m)\n",
    "#See Model Playground \"Compete\" tab for example model submission code.\n",
    "\n",
    "mycompetition= ai.Competition(myplayground.playground_url)"
   ]
  },
  {
   "cell_type": "code",
   "execution_count": null,
   "metadata": {
    "id": "fSxGIAI-fj6x"
   },
   "outputs": [],
   "source": [
    "# Add, remove, or completely update authorized participants for competition later\n",
    "emaillist=[\"emailaddress4@gmail.com\"]\n",
    "mycompetition.update_access_list(email_list=emaillist,update_type=\"Add\")"
   ]
  },
  {
   "cell_type": "markdown",
   "metadata": {
    "id": "mqyzWZPwgoEH"
   },
   "source": [
    "Submit Models"
   ]
  },
  {
   "cell_type": "code",
   "execution_count": 20,
   "metadata": {
    "colab": {
     "base_uri": "https://localhost:8080/"
    },
    "id": "UQ_LMN7Ifm_1",
    "outputId": "a5b56a7f-73a3-4815-eb31-d61ee25abb3f"
   },
   "outputs": [
    {
     "name": "stdout",
     "output_type": "stream",
     "text": [
      "AI Modelshare Username:··········\n",
      "AI Modelshare Password:··········\n",
      "AI Model Share login credentials set successfully.\n"
     ]
    }
   ],
   "source": [
    "#Authorized users can submit new models after setting credentials using modelshare.org username/password\n",
    "\n",
    "apiurl=myplayground.playground_url # example url from deployed playground: apiurl= \"https://123456.execute-api.us-east-1.amazonaws.com/prod/m\n",
    "\n",
    "from aimodelshare.aws import set_credentials\n",
    "set_credentials(apiurl=apiurl)\n"
   ]
  },
  {
   "cell_type": "code",
   "execution_count": null,
   "metadata": {
    "id": "3Wyhcws7SfXS"
   },
   "outputs": [],
   "source": [
    "#Submit Model 1: \n",
    "\n",
    "#-- Generate predicted values (a list of predicted car prices) (Model 1)\n",
    "predicted_values = model.predict(preprocessor(X_test))\n",
    "\n",
    "# Submit Model 1 to Competition Leaderboard\n",
    "mycompetition.submit_model(model_filepath = \"model.onnx\",\n",
    "                                 preprocessor_filepath=\"preprocessor.zip\",\n",
    "                                 prediction_submission=predicted_values)"
   ]
  },
  {
   "cell_type": "code",
   "execution_count": 22,
   "metadata": {
    "colab": {
     "base_uri": "https://localhost:8080/"
    },
    "id": "hpzXNVPTop-O",
    "outputId": "2ce22224-4f1d-44c2-aafe-b5544ffd6cce"
   },
   "outputs": [
    {
     "data": {
      "text/plain": [
       "0.727651855134918"
      ]
     },
     "execution_count": 22,
     "metadata": {},
     "output_type": "execute_result"
    }
   ],
   "source": [
    "# Create model 2 \n",
    "from sklearn.ensemble import RandomForestRegressor\n",
    "from sklearn.metrics import r2_score\n",
    "\n",
    "model_2 = RandomForestRegressor(n_estimators = 1000, max_depth = 2, random_state=0)\n",
    "model_2.fit(preprocessor(X_train), y_train) # Fitting to the training set.\n",
    "model_predictions = model_2.predict(preprocessor(X_train))\n",
    "r2_score(model_predictions, y_train) "
   ]
  },
  {
   "cell_type": "code",
   "execution_count": 23,
   "metadata": {
    "id": "jraPDdsNX46e"
   },
   "outputs": [],
   "source": [
    "# Save Model 2 to .onnx file\n",
    "\n",
    "# Check how many preprocessed input features there are\n",
    "from skl2onnx.common.data_types import FloatTensorType\n",
    "\n",
    "feature_count=preprocessor(X_test).shape[1]\n",
    "initial_type = [('float_input', FloatTensorType([None, feature_count]))]  # You need to insert correct number of features in preprocessed data\n",
    "\n",
    "onnx_model = model_to_onnx(model_2, framework='sklearn',\n",
    "                          initial_types=initial_type,\n",
    "                          transfer_learning=False,\n",
    "                          deep_learning=False)\n",
    "\n",
    "# Save model to local .onnx file\n",
    "with open(\"model_2.onnx\", \"wb\") as f:\n",
    "    f.write(onnx_model.SerializeToString()) "
   ]
  },
  {
   "cell_type": "code",
   "execution_count": null,
   "metadata": {
    "id": "Cme7T_gaYWlD"
   },
   "outputs": [],
   "source": [
    "# Submit Model 2\n",
    "\n",
    "#-- Generate predicted y values (Model 2)\n",
    "prediction_labels = model_2.predict(preprocessor(X_test))\n",
    "\n",
    "# Submit Model 2 to Competition Leaderboard\n",
    "mycompetition.submit_model(model_filepath = \"model_2.onnx\",\n",
    "                                 prediction_submission=prediction_labels,\n",
    "                                 preprocessor_filepath=\"preprocessor.zip\")"
   ]
  },
  {
   "cell_type": "markdown",
   "metadata": {
    "id": "iLYlCkWchWC_"
   },
   "source": [
    "Get Leaderboard"
   ]
  },
  {
   "cell_type": "code",
   "execution_count": 25,
   "metadata": {
    "colab": {
     "base_uri": "https://localhost:8080/",
     "height": 201
    },
    "id": "J0-B1h0chYDL",
    "outputId": "5864041a-2da8-4e74-88ce-c4dbd1d5b967"
   },
   "outputs": [
    {
     "data": {
      "text/html": [
       "<style  type=\"text/css\" >\n",
       "#T_c99d7f60_4170_11ec_b310_0242ac1c0002row0_col0{\n",
       "            text-align:  center;\n",
       "            width:  10em;\n",
       "             height:  80%;\n",
       "            background:  linear-gradient(90deg,#f5f8d6 62.3%, transparent 62.3%);\n",
       "            color:  #251e1b;\n",
       "            font-size:  12px;\n",
       "        }#T_c99d7f60_4170_11ec_b310_0242ac1c0002row0_col1{\n",
       "            text-align:  center;\n",
       "            width:  10em;\n",
       "             height:  80%;\n",
       "            background:  linear-gradient(90deg,#c778c8 78.9%, transparent 78.9%);\n",
       "            color:  #251e1b;\n",
       "            font-size:  12px;\n",
       "        }#T_c99d7f60_4170_11ec_b310_0242ac1c0002row0_col2{\n",
       "            text-align:  center;\n",
       "            width:  10em;\n",
       "             height:  80%;\n",
       "            background:  linear-gradient(90deg,#ff4971 74.3%, transparent 74.3%);\n",
       "            color:  #251e1b;\n",
       "            font-size:  12px;\n",
       "        }#T_c99d7f60_4170_11ec_b310_0242ac1c0002row0_col3{\n",
       "            text-align:  center;\n",
       "            width:  10em;\n",
       "             height:  80%;\n",
       "            background:  linear-gradient(90deg,#aadbaa 100.0%, transparent 100.0%);\n",
       "            color:  #251e1b;\n",
       "            font-size:  12px;\n",
       "        }#T_c99d7f60_4170_11ec_b310_0242ac1c0002row0_col4,#T_c99d7f60_4170_11ec_b310_0242ac1c0002row0_col5,#T_c99d7f60_4170_11ec_b310_0242ac1c0002row0_col6,#T_c99d7f60_4170_11ec_b310_0242ac1c0002row0_col7,#T_c99d7f60_4170_11ec_b310_0242ac1c0002row0_col8,#T_c99d7f60_4170_11ec_b310_0242ac1c0002row0_col9,#T_c99d7f60_4170_11ec_b310_0242ac1c0002row0_col10,#T_c99d7f60_4170_11ec_b310_0242ac1c0002row1_col4,#T_c99d7f60_4170_11ec_b310_0242ac1c0002row1_col5,#T_c99d7f60_4170_11ec_b310_0242ac1c0002row1_col6,#T_c99d7f60_4170_11ec_b310_0242ac1c0002row1_col7,#T_c99d7f60_4170_11ec_b310_0242ac1c0002row1_col8,#T_c99d7f60_4170_11ec_b310_0242ac1c0002row1_col9,#T_c99d7f60_4170_11ec_b310_0242ac1c0002row1_col10{\n",
       "            text-align:  center;\n",
       "        }#T_c99d7f60_4170_11ec_b310_0242ac1c0002row1_col0{\n",
       "            text-align:  center;\n",
       "            width:  10em;\n",
       "             height:  80%;\n",
       "            background:  linear-gradient(90deg,#f5f8d6 100.0%, transparent 100.0%);\n",
       "            color:  #251e1b;\n",
       "            font-size:  12px;\n",
       "        }#T_c99d7f60_4170_11ec_b310_0242ac1c0002row1_col1{\n",
       "            text-align:  center;\n",
       "            width:  10em;\n",
       "             height:  80%;\n",
       "            background:  linear-gradient(90deg,#c778c8 100.0%, transparent 100.0%);\n",
       "            color:  #251e1b;\n",
       "            font-size:  12px;\n",
       "        }#T_c99d7f60_4170_11ec_b310_0242ac1c0002row1_col2{\n",
       "            text-align:  center;\n",
       "            width:  10em;\n",
       "             height:  80%;\n",
       "            background:  linear-gradient(90deg,#ff4971 100.0%, transparent 100.0%);\n",
       "            color:  #251e1b;\n",
       "            font-size:  12px;\n",
       "        }#T_c99d7f60_4170_11ec_b310_0242ac1c0002row1_col3{\n",
       "            text-align:  center;\n",
       "            width:  10em;\n",
       "             height:  80%;\n",
       "            background:  linear-gradient(90deg,#aadbaa 91.0%, transparent 91.0%);\n",
       "            color:  #251e1b;\n",
       "            font-size:  12px;\n",
       "        }</style><table id=\"T_c99d7f60_4170_11ec_b310_0242ac1c0002\" class=\"dataframe\"><thead>    <tr>        <th class=\"blank level0\" ></th>        <th class=\"col_heading level0 col0\" >mse</th>        <th class=\"col_heading level0 col1\" >rmse</th>        <th class=\"col_heading level0 col2\" >mae</th>        <th class=\"col_heading level0 col3\" >r2</th>        <th class=\"col_heading level0 col4\" >ml_framework</th>        <th class=\"col_heading level0 col5\" >transfer_learning</th>        <th class=\"col_heading level0 col6\" >deep_learning</th>        <th class=\"col_heading level0 col7\" >model_type</th>        <th class=\"col_heading level0 col8\" >model_config</th>        <th class=\"col_heading level0 col9\" >username</th>        <th class=\"col_heading level0 col10\" >version</th>    </tr></thead><tbody>\n",
       "                <tr>\n",
       "                        <th id=\"T_c99d7f60_4170_11ec_b310_0242ac1c0002level0_row0\" class=\"row_heading level0 row0\" >0</th>\n",
       "                        <td id=\"T_c99d7f60_4170_11ec_b310_0242ac1c0002row0_col0\" class=\"data row0 col0\" >14417947.33</td>\n",
       "                        <td id=\"T_c99d7f60_4170_11ec_b310_0242ac1c0002row0_col1\" class=\"data row0 col1\" >3797.10</td>\n",
       "                        <td id=\"T_c99d7f60_4170_11ec_b310_0242ac1c0002row0_col2\" class=\"data row0 col2\" >2462.25</td>\n",
       "                        <td id=\"T_c99d7f60_4170_11ec_b310_0242ac1c0002row0_col3\" class=\"data row0 col3\" >0.87</td>\n",
       "                        <td id=\"T_c99d7f60_4170_11ec_b310_0242ac1c0002row0_col4\" class=\"data row0 col4\" >sklearn</td>\n",
       "                        <td id=\"T_c99d7f60_4170_11ec_b310_0242ac1c0002row0_col5\" class=\"data row0 col5\" >False</td>\n",
       "                        <td id=\"T_c99d7f60_4170_11ec_b310_0242ac1c0002row0_col6\" class=\"data row0 col6\" >False</td>\n",
       "                        <td id=\"T_c99d7f60_4170_11ec_b310_0242ac1c0002row0_col7\" class=\"data row0 col7\" >RandomForestRegressor</td>\n",
       "                        <td id=\"T_c99d7f60_4170_11ec_b310_0242ac1c0002row0_col8\" class=\"data row0 col8\" >{'bootstrap': True, 'ccp_alpha...</td>\n",
       "                        <td id=\"T_c99d7f60_4170_11ec_b310_0242ac1c0002row0_col9\" class=\"data row0 col9\" >mikedparrott</td>\n",
       "                        <td id=\"T_c99d7f60_4170_11ec_b310_0242ac1c0002row0_col10\" class=\"data row0 col10\" >1</td>\n",
       "            </tr>\n",
       "            <tr>\n",
       "                        <th id=\"T_c99d7f60_4170_11ec_b310_0242ac1c0002level0_row1\" class=\"row_heading level0 row1\" >1</th>\n",
       "                        <td id=\"T_c99d7f60_4170_11ec_b310_0242ac1c0002row1_col0\" class=\"data row1 col0\" >23143972.63</td>\n",
       "                        <td id=\"T_c99d7f60_4170_11ec_b310_0242ac1c0002row1_col1\" class=\"data row1 col1\" >4810.82</td>\n",
       "                        <td id=\"T_c99d7f60_4170_11ec_b310_0242ac1c0002row1_col2\" class=\"data row1 col2\" >3314.39</td>\n",
       "                        <td id=\"T_c99d7f60_4170_11ec_b310_0242ac1c0002row1_col3\" class=\"data row1 col3\" >0.79</td>\n",
       "                        <td id=\"T_c99d7f60_4170_11ec_b310_0242ac1c0002row1_col4\" class=\"data row1 col4\" >sklearn</td>\n",
       "                        <td id=\"T_c99d7f60_4170_11ec_b310_0242ac1c0002row1_col5\" class=\"data row1 col5\" >False</td>\n",
       "                        <td id=\"T_c99d7f60_4170_11ec_b310_0242ac1c0002row1_col6\" class=\"data row1 col6\" >False</td>\n",
       "                        <td id=\"T_c99d7f60_4170_11ec_b310_0242ac1c0002row1_col7\" class=\"data row1 col7\" >RandomForestRegressor</td>\n",
       "                        <td id=\"T_c99d7f60_4170_11ec_b310_0242ac1c0002row1_col8\" class=\"data row1 col8\" >{'bootstrap': True, 'ccp_alpha...</td>\n",
       "                        <td id=\"T_c99d7f60_4170_11ec_b310_0242ac1c0002row1_col9\" class=\"data row1 col9\" >mikedparrott</td>\n",
       "                        <td id=\"T_c99d7f60_4170_11ec_b310_0242ac1c0002row1_col10\" class=\"data row1 col10\" >2</td>\n",
       "            </tr>\n",
       "    </tbody></table>"
      ],
      "text/plain": [
       "<pandas.io.formats.style.Styler at 0x7f8d27a60490>"
      ]
     },
     "execution_count": 25,
     "metadata": {},
     "output_type": "execute_result"
    }
   ],
   "source": [
    "data = mycompetition.get_leaderboard()\n",
    "mycompetition.stylize_leaderboard(data)"
   ]
  },
  {
   "cell_type": "markdown",
   "metadata": {
    "id": "g_bklL3shOER"
   },
   "source": [
    "Compare Models"
   ]
  },
  {
   "cell_type": "code",
   "execution_count": 28,
   "metadata": {
    "colab": {
     "base_uri": "https://localhost:8080/",
     "height": 503
    },
    "id": "quo_V3A3hNS3",
    "outputId": "8abce895-67b7-41d4-8186-7f821d9f148d"
   },
   "outputs": [
    {
     "data": {
      "text/html": [
       "<style  type=\"text/css\" >\n",
       "    #T_df7949cc_4170_11ec_b310_0242ac1c0002 caption {\n",
       "          color: black;\n",
       "          font-size: 18px;\n",
       "    }#T_df7949cc_4170_11ec_b310_0242ac1c0002row3_col2,#T_df7949cc_4170_11ec_b310_0242ac1c0002row3_col3,#T_df7949cc_4170_11ec_b310_0242ac1c0002row12_col2,#T_df7949cc_4170_11ec_b310_0242ac1c0002row12_col3,#T_df7949cc_4170_11ec_b310_0242ac1c0002row15_col2,#T_df7949cc_4170_11ec_b310_0242ac1c0002row15_col3{\n",
       "            background:  tomato;\n",
       "        }</style><table id=\"T_df7949cc_4170_11ec_b310_0242ac1c0002\" ><caption>Model type: RandomForestRegressor</caption><thead>    <tr>        <th class=\"blank level0\" ></th>        <th class=\"col_heading level0 col0\" >param_name</th>        <th class=\"col_heading level0 col1\" >default_value</th>        <th class=\"col_heading level0 col2\" >model_version_1</th>        <th class=\"col_heading level0 col3\" >model_version_2</th>    </tr></thead><tbody>\n",
       "                <tr>\n",
       "                        <th id=\"T_df7949cc_4170_11ec_b310_0242ac1c0002level0_row0\" class=\"row_heading level0 row0\" >0</th>\n",
       "                        <td id=\"T_df7949cc_4170_11ec_b310_0242ac1c0002row0_col0\" class=\"data row0 col0\" >bootstrap</td>\n",
       "                        <td id=\"T_df7949cc_4170_11ec_b310_0242ac1c0002row0_col1\" class=\"data row0 col1\" >True</td>\n",
       "                        <td id=\"T_df7949cc_4170_11ec_b310_0242ac1c0002row0_col2\" class=\"data row0 col2\" >True</td>\n",
       "                        <td id=\"T_df7949cc_4170_11ec_b310_0242ac1c0002row0_col3\" class=\"data row0 col3\" >True</td>\n",
       "            </tr>\n",
       "            <tr>\n",
       "                        <th id=\"T_df7949cc_4170_11ec_b310_0242ac1c0002level0_row1\" class=\"row_heading level0 row1\" >1</th>\n",
       "                        <td id=\"T_df7949cc_4170_11ec_b310_0242ac1c0002row1_col0\" class=\"data row1 col0\" >ccp_alpha</td>\n",
       "                        <td id=\"T_df7949cc_4170_11ec_b310_0242ac1c0002row1_col1\" class=\"data row1 col1\" >0.000000</td>\n",
       "                        <td id=\"T_df7949cc_4170_11ec_b310_0242ac1c0002row1_col2\" class=\"data row1 col2\" >0.000000</td>\n",
       "                        <td id=\"T_df7949cc_4170_11ec_b310_0242ac1c0002row1_col3\" class=\"data row1 col3\" >0.000000</td>\n",
       "            </tr>\n",
       "            <tr>\n",
       "                        <th id=\"T_df7949cc_4170_11ec_b310_0242ac1c0002level0_row2\" class=\"row_heading level0 row2\" >2</th>\n",
       "                        <td id=\"T_df7949cc_4170_11ec_b310_0242ac1c0002row2_col0\" class=\"data row2 col0\" >criterion</td>\n",
       "                        <td id=\"T_df7949cc_4170_11ec_b310_0242ac1c0002row2_col1\" class=\"data row2 col1\" >mse</td>\n",
       "                        <td id=\"T_df7949cc_4170_11ec_b310_0242ac1c0002row2_col2\" class=\"data row2 col2\" >mse</td>\n",
       "                        <td id=\"T_df7949cc_4170_11ec_b310_0242ac1c0002row2_col3\" class=\"data row2 col3\" >mse</td>\n",
       "            </tr>\n",
       "            <tr>\n",
       "                        <th id=\"T_df7949cc_4170_11ec_b310_0242ac1c0002level0_row3\" class=\"row_heading level0 row3\" >3</th>\n",
       "                        <td id=\"T_df7949cc_4170_11ec_b310_0242ac1c0002row3_col0\" class=\"data row3 col0\" >max_depth</td>\n",
       "                        <td id=\"T_df7949cc_4170_11ec_b310_0242ac1c0002row3_col1\" class=\"data row3 col1\" >None</td>\n",
       "                        <td id=\"T_df7949cc_4170_11ec_b310_0242ac1c0002row3_col2\" class=\"data row3 col2\" >3</td>\n",
       "                        <td id=\"T_df7949cc_4170_11ec_b310_0242ac1c0002row3_col3\" class=\"data row3 col3\" >2</td>\n",
       "            </tr>\n",
       "            <tr>\n",
       "                        <th id=\"T_df7949cc_4170_11ec_b310_0242ac1c0002level0_row4\" class=\"row_heading level0 row4\" >4</th>\n",
       "                        <td id=\"T_df7949cc_4170_11ec_b310_0242ac1c0002row4_col0\" class=\"data row4 col0\" >max_features</td>\n",
       "                        <td id=\"T_df7949cc_4170_11ec_b310_0242ac1c0002row4_col1\" class=\"data row4 col1\" >auto</td>\n",
       "                        <td id=\"T_df7949cc_4170_11ec_b310_0242ac1c0002row4_col2\" class=\"data row4 col2\" >auto</td>\n",
       "                        <td id=\"T_df7949cc_4170_11ec_b310_0242ac1c0002row4_col3\" class=\"data row4 col3\" >auto</td>\n",
       "            </tr>\n",
       "            <tr>\n",
       "                        <th id=\"T_df7949cc_4170_11ec_b310_0242ac1c0002level0_row5\" class=\"row_heading level0 row5\" >5</th>\n",
       "                        <td id=\"T_df7949cc_4170_11ec_b310_0242ac1c0002row5_col0\" class=\"data row5 col0\" >max_leaf_nodes</td>\n",
       "                        <td id=\"T_df7949cc_4170_11ec_b310_0242ac1c0002row5_col1\" class=\"data row5 col1\" >None</td>\n",
       "                        <td id=\"T_df7949cc_4170_11ec_b310_0242ac1c0002row5_col2\" class=\"data row5 col2\" >None</td>\n",
       "                        <td id=\"T_df7949cc_4170_11ec_b310_0242ac1c0002row5_col3\" class=\"data row5 col3\" >None</td>\n",
       "            </tr>\n",
       "            <tr>\n",
       "                        <th id=\"T_df7949cc_4170_11ec_b310_0242ac1c0002level0_row6\" class=\"row_heading level0 row6\" >6</th>\n",
       "                        <td id=\"T_df7949cc_4170_11ec_b310_0242ac1c0002row6_col0\" class=\"data row6 col0\" >max_samples</td>\n",
       "                        <td id=\"T_df7949cc_4170_11ec_b310_0242ac1c0002row6_col1\" class=\"data row6 col1\" >None</td>\n",
       "                        <td id=\"T_df7949cc_4170_11ec_b310_0242ac1c0002row6_col2\" class=\"data row6 col2\" >None</td>\n",
       "                        <td id=\"T_df7949cc_4170_11ec_b310_0242ac1c0002row6_col3\" class=\"data row6 col3\" >None</td>\n",
       "            </tr>\n",
       "            <tr>\n",
       "                        <th id=\"T_df7949cc_4170_11ec_b310_0242ac1c0002level0_row7\" class=\"row_heading level0 row7\" >7</th>\n",
       "                        <td id=\"T_df7949cc_4170_11ec_b310_0242ac1c0002row7_col0\" class=\"data row7 col0\" >min_impurity_decrease</td>\n",
       "                        <td id=\"T_df7949cc_4170_11ec_b310_0242ac1c0002row7_col1\" class=\"data row7 col1\" >0.000000</td>\n",
       "                        <td id=\"T_df7949cc_4170_11ec_b310_0242ac1c0002row7_col2\" class=\"data row7 col2\" >0.000000</td>\n",
       "                        <td id=\"T_df7949cc_4170_11ec_b310_0242ac1c0002row7_col3\" class=\"data row7 col3\" >0.000000</td>\n",
       "            </tr>\n",
       "            <tr>\n",
       "                        <th id=\"T_df7949cc_4170_11ec_b310_0242ac1c0002level0_row8\" class=\"row_heading level0 row8\" >8</th>\n",
       "                        <td id=\"T_df7949cc_4170_11ec_b310_0242ac1c0002row8_col0\" class=\"data row8 col0\" >min_impurity_split</td>\n",
       "                        <td id=\"T_df7949cc_4170_11ec_b310_0242ac1c0002row8_col1\" class=\"data row8 col1\" >None</td>\n",
       "                        <td id=\"T_df7949cc_4170_11ec_b310_0242ac1c0002row8_col2\" class=\"data row8 col2\" >None</td>\n",
       "                        <td id=\"T_df7949cc_4170_11ec_b310_0242ac1c0002row8_col3\" class=\"data row8 col3\" >None</td>\n",
       "            </tr>\n",
       "            <tr>\n",
       "                        <th id=\"T_df7949cc_4170_11ec_b310_0242ac1c0002level0_row9\" class=\"row_heading level0 row9\" >9</th>\n",
       "                        <td id=\"T_df7949cc_4170_11ec_b310_0242ac1c0002row9_col0\" class=\"data row9 col0\" >min_samples_leaf</td>\n",
       "                        <td id=\"T_df7949cc_4170_11ec_b310_0242ac1c0002row9_col1\" class=\"data row9 col1\" >1</td>\n",
       "                        <td id=\"T_df7949cc_4170_11ec_b310_0242ac1c0002row9_col2\" class=\"data row9 col2\" >1</td>\n",
       "                        <td id=\"T_df7949cc_4170_11ec_b310_0242ac1c0002row9_col3\" class=\"data row9 col3\" >1</td>\n",
       "            </tr>\n",
       "            <tr>\n",
       "                        <th id=\"T_df7949cc_4170_11ec_b310_0242ac1c0002level0_row10\" class=\"row_heading level0 row10\" >10</th>\n",
       "                        <td id=\"T_df7949cc_4170_11ec_b310_0242ac1c0002row10_col0\" class=\"data row10 col0\" >min_samples_split</td>\n",
       "                        <td id=\"T_df7949cc_4170_11ec_b310_0242ac1c0002row10_col1\" class=\"data row10 col1\" >2</td>\n",
       "                        <td id=\"T_df7949cc_4170_11ec_b310_0242ac1c0002row10_col2\" class=\"data row10 col2\" >2</td>\n",
       "                        <td id=\"T_df7949cc_4170_11ec_b310_0242ac1c0002row10_col3\" class=\"data row10 col3\" >2</td>\n",
       "            </tr>\n",
       "            <tr>\n",
       "                        <th id=\"T_df7949cc_4170_11ec_b310_0242ac1c0002level0_row11\" class=\"row_heading level0 row11\" >11</th>\n",
       "                        <td id=\"T_df7949cc_4170_11ec_b310_0242ac1c0002row11_col0\" class=\"data row11 col0\" >min_weight_fraction_leaf</td>\n",
       "                        <td id=\"T_df7949cc_4170_11ec_b310_0242ac1c0002row11_col1\" class=\"data row11 col1\" >0.000000</td>\n",
       "                        <td id=\"T_df7949cc_4170_11ec_b310_0242ac1c0002row11_col2\" class=\"data row11 col2\" >0.000000</td>\n",
       "                        <td id=\"T_df7949cc_4170_11ec_b310_0242ac1c0002row11_col3\" class=\"data row11 col3\" >0.000000</td>\n",
       "            </tr>\n",
       "            <tr>\n",
       "                        <th id=\"T_df7949cc_4170_11ec_b310_0242ac1c0002level0_row12\" class=\"row_heading level0 row12\" >12</th>\n",
       "                        <td id=\"T_df7949cc_4170_11ec_b310_0242ac1c0002row12_col0\" class=\"data row12 col0\" >n_estimators</td>\n",
       "                        <td id=\"T_df7949cc_4170_11ec_b310_0242ac1c0002row12_col1\" class=\"data row12 col1\" >100</td>\n",
       "                        <td id=\"T_df7949cc_4170_11ec_b310_0242ac1c0002row12_col2\" class=\"data row12 col2\" >500</td>\n",
       "                        <td id=\"T_df7949cc_4170_11ec_b310_0242ac1c0002row12_col3\" class=\"data row12 col3\" >1000</td>\n",
       "            </tr>\n",
       "            <tr>\n",
       "                        <th id=\"T_df7949cc_4170_11ec_b310_0242ac1c0002level0_row13\" class=\"row_heading level0 row13\" >13</th>\n",
       "                        <td id=\"T_df7949cc_4170_11ec_b310_0242ac1c0002row13_col0\" class=\"data row13 col0\" >n_jobs</td>\n",
       "                        <td id=\"T_df7949cc_4170_11ec_b310_0242ac1c0002row13_col1\" class=\"data row13 col1\" >None</td>\n",
       "                        <td id=\"T_df7949cc_4170_11ec_b310_0242ac1c0002row13_col2\" class=\"data row13 col2\" >None</td>\n",
       "                        <td id=\"T_df7949cc_4170_11ec_b310_0242ac1c0002row13_col3\" class=\"data row13 col3\" >None</td>\n",
       "            </tr>\n",
       "            <tr>\n",
       "                        <th id=\"T_df7949cc_4170_11ec_b310_0242ac1c0002level0_row14\" class=\"row_heading level0 row14\" >14</th>\n",
       "                        <td id=\"T_df7949cc_4170_11ec_b310_0242ac1c0002row14_col0\" class=\"data row14 col0\" >oob_score</td>\n",
       "                        <td id=\"T_df7949cc_4170_11ec_b310_0242ac1c0002row14_col1\" class=\"data row14 col1\" >False</td>\n",
       "                        <td id=\"T_df7949cc_4170_11ec_b310_0242ac1c0002row14_col2\" class=\"data row14 col2\" >False</td>\n",
       "                        <td id=\"T_df7949cc_4170_11ec_b310_0242ac1c0002row14_col3\" class=\"data row14 col3\" >False</td>\n",
       "            </tr>\n",
       "            <tr>\n",
       "                        <th id=\"T_df7949cc_4170_11ec_b310_0242ac1c0002level0_row15\" class=\"row_heading level0 row15\" >15</th>\n",
       "                        <td id=\"T_df7949cc_4170_11ec_b310_0242ac1c0002row15_col0\" class=\"data row15 col0\" >random_state</td>\n",
       "                        <td id=\"T_df7949cc_4170_11ec_b310_0242ac1c0002row15_col1\" class=\"data row15 col1\" >None</td>\n",
       "                        <td id=\"T_df7949cc_4170_11ec_b310_0242ac1c0002row15_col2\" class=\"data row15 col2\" >0</td>\n",
       "                        <td id=\"T_df7949cc_4170_11ec_b310_0242ac1c0002row15_col3\" class=\"data row15 col3\" >0</td>\n",
       "            </tr>\n",
       "            <tr>\n",
       "                        <th id=\"T_df7949cc_4170_11ec_b310_0242ac1c0002level0_row16\" class=\"row_heading level0 row16\" >16</th>\n",
       "                        <td id=\"T_df7949cc_4170_11ec_b310_0242ac1c0002row16_col0\" class=\"data row16 col0\" >verbose</td>\n",
       "                        <td id=\"T_df7949cc_4170_11ec_b310_0242ac1c0002row16_col1\" class=\"data row16 col1\" >0</td>\n",
       "                        <td id=\"T_df7949cc_4170_11ec_b310_0242ac1c0002row16_col2\" class=\"data row16 col2\" >0</td>\n",
       "                        <td id=\"T_df7949cc_4170_11ec_b310_0242ac1c0002row16_col3\" class=\"data row16 col3\" >0</td>\n",
       "            </tr>\n",
       "            <tr>\n",
       "                        <th id=\"T_df7949cc_4170_11ec_b310_0242ac1c0002level0_row17\" class=\"row_heading level0 row17\" >17</th>\n",
       "                        <td id=\"T_df7949cc_4170_11ec_b310_0242ac1c0002row17_col0\" class=\"data row17 col0\" >warm_start</td>\n",
       "                        <td id=\"T_df7949cc_4170_11ec_b310_0242ac1c0002row17_col1\" class=\"data row17 col1\" >False</td>\n",
       "                        <td id=\"T_df7949cc_4170_11ec_b310_0242ac1c0002row17_col2\" class=\"data row17 col2\" >False</td>\n",
       "                        <td id=\"T_df7949cc_4170_11ec_b310_0242ac1c0002row17_col3\" class=\"data row17 col3\" >False</td>\n",
       "            </tr>\n",
       "    </tbody></table>"
      ],
      "text/plain": [
       "<IPython.core.display.HTML object>"
      ]
     },
     "metadata": {},
     "output_type": "display_data"
    },
    {
     "name": "stdout",
     "output_type": "stream",
     "text": [
      "\n",
      "\n",
      "\n"
     ]
    }
   ],
   "source": [
    "# Compare two or more models (Experimental, Git-like Diffs for Model Architectures)\n",
    "data=mycompetition.compare_models([1,2],verbose=1)\n",
    "mycompetition.stylize_compare(data)"
   ]
  },
  {
   "cell_type": "markdown",
   "metadata": {
    "id": "FKm9ugiBhQFn"
   },
   "source": [
    "#### Check structure of y test data \n",
    "(This helps users understand how to submit predicted values to leaderboard)"
   ]
  },
  {
   "cell_type": "code",
   "execution_count": 29,
   "metadata": {
    "colab": {
     "base_uri": "https://localhost:8080/"
    },
    "id": "dqY82D22hPZx",
    "outputId": "9a951f6c-3aa7-4b41-9261-fca230d51f73"
   },
   "outputs": [
    {
     "data": {
      "text/plain": [
       "{'y_length': 1626,\n",
       " 'y_max': 91322.0,\n",
       " 'y_mean': 8655.74590405904,\n",
       " 'y_min': 420.0,\n",
       " 'y_sd': 10566.606435319,\n",
       " 'ytest_example': [9450.0, 1960.0, 4900.0, 2730.0, 630.0]}"
      ]
     },
     "execution_count": 29,
     "metadata": {},
     "output_type": "execute_result"
    }
   ],
   "source": [
    "mycompetition.inspect_y_test()"
   ]
  },
  {
   "cell_type": "markdown",
   "metadata": {
    "id": "iA-nYjr7WCIp"
   },
   "source": [
    "## **Part 3: Maintaining your Model Playground**\n",
    "\n",
    "-------"
   ]
  },
  {
   "cell_type": "markdown",
   "metadata": {
    "id": "0UIWnHIXWM0F"
   },
   "source": [
    "Update Runtime model\n",
    "\n",
    "*Use this function to 1) update the prediction API behind your Model Playground with a new model, chosen from the leaderboard and 2) verify the modelperformance metrics in your Model Playground*"
   ]
  },
  {
   "cell_type": "code",
   "execution_count": 30,
   "metadata": {
    "colab": {
     "base_uri": "https://localhost:8080/"
    },
    "id": "wAchpcGLWLxE",
    "outputId": "f47dd4bf-0e81-456a-9ff1-33ea0c4f06ba"
   },
   "outputs": [
    {
     "name": "stdout",
     "output_type": "stream",
     "text": [
      "Runtime model & preprocessor for api: https://trj5mvuesh.execute-api.us-east-1.amazonaws.com/prod/m updated to model version 2.\n",
      "\n",
      "Model metrics are now updated and verified for this model playground.\n"
     ]
    }
   ],
   "source": [
    "myplayground.update_runtime_model(model_version=2)"
   ]
  },
  {
   "cell_type": "markdown",
   "metadata": {
    "id": "xhJRaiN-WaO1"
   },
   "source": [
    "Delete Deployment \n",
    "\n",
    "*Use this function to delete the entire Model Playground, including the REST API, web dashboard, competition, and all submitted models*"
   ]
  },
  {
   "cell_type": "code",
   "execution_count": null,
   "metadata": {
    "colab": {
     "base_uri": "https://localhost:8080/",
     "height": 109
    },
    "id": "mCkf-exLWyDK",
    "outputId": "5b1f294b-573b-49b8-a9f5-24ebc0ffac44"
   },
   "outputs": [
    {
     "name": "stdout",
     "output_type": "stream",
     "text": [
      "Running this function will permanently delete all resources tied to this deployment, \n",
      " including the eval lambda and all models submitted to the model competition.\n",
      "\n",
      "To confirm, type 'permanently delete':permanently delete\n"
     ]
    },
    {
     "data": {
      "application/vnd.google.colaboratory.intrinsic+json": {
       "type": "string"
      },
      "text/plain": [
       "'API deleted successfully.'"
      ]
     },
     "execution_count": 50,
     "metadata": {},
     "output_type": "execute_result"
    }
   ],
   "source": [
    "myplayground.delete_deployment()"
   ]
  }
 ],
 "metadata": {
  "accelerator": "GPU",
  "colab": {
   "collapsed_sections": [],
   "name": "[CARS] Quick Start: Tabular Regression Model Playground Deployment and Competition Creation.ipynb",
   "provenance": []
  },
  "kernelspec": {
   "display_name": "Python 3",
   "language": "python",
   "name": "python3"
  },
  "language_info": {
   "codemirror_mode": {
    "name": "ipython",
    "version": 3
   },
   "file_extension": ".py",
   "mimetype": "text/x-python",
   "name": "python",
   "nbconvert_exporter": "python",
   "pygments_lexer": "ipython3",
   "version": "3.8.5"
  }
 },
 "nbformat": 4,
 "nbformat_minor": 1
}
