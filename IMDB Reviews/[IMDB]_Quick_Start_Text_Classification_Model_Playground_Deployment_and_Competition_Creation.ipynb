{
  "nbformat": 4,
  "nbformat_minor": 0,
  "metadata": {
    "accelerator": "GPU",
    "colab": {
      "name": "[IMDB] Quick Start: Text Classification Model Playground Deployment and Competition Creation.ipynb",
      "provenance": []
    },
    "kernelspec": {
      "display_name": "Python 3",
      "language": "python",
      "name": "python3"
    },
    "language_info": {
      "codemirror_mode": {
        "name": "ipython",
        "version": 3
      },
      "file_extension": ".py",
      "mimetype": "text/x-python",
      "name": "python",
      "nbconvert_exporter": "python",
      "pygments_lexer": "ipython3",
      "version": "3.7.5"
    }
  },
  "cells": [
    {
      "cell_type": "markdown",
      "metadata": {
        "id": "0BviI4QIdWiq"
      },
      "source": [
        "<p align=\"center\"><img width=\"50%\" src=\"https://aimodelsharecontent.s3.amazonaws.com/aimodshare_banner.jpg\" /></p>\n",
        "\n",
        "\n",
        "---\n",
        "\n",
        "\n"
      ]
    },
    {
      "cell_type": "markdown",
      "metadata": {
        "id": "gYNp684Tk3tb"
      },
      "source": [
        "<p align=\"center\"><h1 align=\"center\">Quick Start: IMDB Review Text Classification Tutorial</h1> \n",
        "\n",
        "##### <p align=\"center\">*Dataset Adapted From: Andrew L. Maas, Raymond E. Daly, Peter T. Pham, Dan Huang, Andrew Y. Ng, and Christopher Potts. (2011). Learning Word Vectors for Sentiment Analysis. The 49th Annual Meeting of the Association for Computational Linguistics (ACL 2011).* \n",
        "---\n",
        "\n",
        "<h3 align=\"center\">(Deploy model to an AI Model Share Model Playground REST API<br> and Web Dashboard in five easy steps...)</h3></p>\n",
        "<p align=\"center\"><img width=\"100%\" src=\"https://aimodelsharecontent.s3.amazonaws.com/aimstutorialsteps.gif\" /></p>\n",
        "\n",
        "\n",
        "---\n",
        "\n"
      ]
    },
    {
      "cell_type": "markdown",
      "metadata": {
        "id": "0PhJ-XlGazpD"
      },
      "source": [
        "## **Credential Configuration**\n",
        "\n",
        "In order to deploy an AI Model Share Model Playground, you will need a credentials text file. \n",
        "\n",
        "Generating your credentials file requires two sets of information: \n",
        "1. Your AI Model Share username and password (create them [HERE](https://www.modelshare.org/login)). \n",
        "2. Your AWS (Amazon Web Services) access keys (follow the tutorial [HERE](https://docs.aws.amazon.com/general/latest/gr/aws-sec-cred-types.html)). \n",
        "\n",
        "You only need to generate your credentials file once. After running the configure function below, save the outputted file for all your future Model Playground deployments and competition submissions. \n",
        "\n",
        "*Note: Handle your credentials file with the same level of security you handle your passwords. Do not share your file with anyone, send via email, or upload to Github.*\n"
      ]
    },
    {
      "cell_type": "code",
      "metadata": {
        "id": "puVzQBHyhS2Z"
      },
      "source": [
        "#install aimodelshare library\n",
        "! pip install aimodelshare --upgrade"
      ],
      "execution_count": null,
      "outputs": []
    },
    {
      "cell_type": "code",
      "metadata": {
        "id": "4Q7MCqBLcS20"
      },
      "source": [
        "# Generate credentials file\n",
        "import aimodelshare as ai \n",
        "from aimodelshare.aws import configure_credentials \n",
        "\n",
        "configure_credentials()"
      ],
      "execution_count": null,
      "outputs": []
    },
    {
      "cell_type": "markdown",
      "metadata": {
        "id": "VliTV_HH-uz4"
      },
      "source": [
        "## **Set up Environment**\n",
        "\n",
        "Use your credentials file to set your credentials for all aimodelshare functions. "
      ]
    },
    {
      "cell_type": "code",
      "metadata": {
        "colab": {
          "base_uri": "https://localhost:8080/"
        },
        "id": "2u1QKNfEyN9A",
        "outputId": "2bb8ea4f-2d31-42a5-c319-bb9e5e612faa"
      },
      "source": [
        "# Set credentials \n",
        "import aimodelshare as ai\n",
        "from aimodelshare.aws import set_credentials\n",
        "\n",
        "set_credentials(credential_file=\"credentials.txt\", type=\"deploy_model\")"
      ],
      "execution_count": 2,
      "outputs": [
        {
          "output_type": "stream",
          "name": "stdout",
          "text": [
            "AI Model Share login credentials set successfully.\n",
            "AWS credentials set successfully.\n"
          ]
        }
      ]
    },
    {
      "cell_type": "code",
      "metadata": {
        "colab": {
          "base_uri": "https://localhost:8080/"
        },
        "id": "PwQcTsyyURIk",
        "outputId": "442b1454-8cae-46d9-f147-4cc0f5ed4a97"
      },
      "source": [
        "# Get materials for tutorial: Determine if a movie review is positive or negative\n",
        "\n",
        "import aimodelshare as ai\n",
        "X_train, X_test, y_train_labels, y_test_labels, example_data, model_1, model_2 = ai.import_quickstart_data(\"imdb\")"
      ],
      "execution_count": 3,
      "outputs": [
        {
          "output_type": "stream",
          "name": "stdout",
          "text": [
            "Downloading [================================================>]\n",
            "\n",
            "Data downloaded successfully.\n",
            "\n",
            "Preparing downloaded files for use...\n",
            "\n",
            "Success! Your Quick Start materials have been downloaded. \n",
            "You are now ready to run the tutorial.\n"
          ]
        }
      ]
    },
    {
      "cell_type": "markdown",
      "metadata": {
        "id": "bIleM1F6nWSF"
      },
      "source": [
        "## **(1) Preprocessor Function & Setup**"
      ]
    },
    {
      "cell_type": "markdown",
      "metadata": {
        "id": "WrEgo5zRxbed"
      },
      "source": [
        "### **Write a Preprocessor Function**\n",
        "\n",
        "\n",
        "> ###   Preprocessor functions are used to preprocess data into the precise data your model requires to generate predictions.  \n",
        "\n",
        "*  *Preprocessor functions should always be named \"preprocessor\".*\n",
        "*  *You can use any Python library in a preprocessor function, but all libraries should be imported inside your preprocessor function.*  "
      ]
    },
    {
      "cell_type": "code",
      "metadata": {
        "id": "B5Jz-1cmYN5Z",
        "colab": {
          "base_uri": "https://localhost:8080/"
        },
        "outputId": "07174f8a-cf09-4ded-99df-fcd44c3ed5c9"
      },
      "source": [
        "# Build vocabulary from training text data\n",
        "from tensorflow.keras.preprocessing.text import Tokenizer\n",
        "\n",
        "tokenizer = Tokenizer(num_words=5000)\n",
        "tokenizer.fit_on_texts(X_train)\n",
        "\n",
        "# preprocessor tokenizes words and makes sure all documents have the same length\n",
        "def preprocessor(data, maxlen=100, max_words=5000):\n",
        "    from keras_preprocessing.sequence import pad_sequences #current recommended pad_sequences tf import\n",
        "    import numpy as np\n",
        "    sequences = tokenizer.texts_to_sequences(data)\n",
        "\n",
        "    word_index = tokenizer.word_index\n",
        "    X = pad_sequences(sequences, maxlen=maxlen)\n",
        "\n",
        "    return X\n",
        "\n",
        "print(preprocessor(X_train).shape)\n",
        "print(preprocessor(X_test).shape)"
      ],
      "execution_count": 13,
      "outputs": [
        {
          "output_type": "stream",
          "name": "stdout",
          "text": [
            "(37500, 100)\n",
            "(12500, 100)\n"
          ]
        }
      ]
    },
    {
      "cell_type": "code",
      "metadata": {
        "id": "xp_TTwew8jYU",
        "colab": {
          "base_uri": "https://localhost:8080/"
        },
        "outputId": "b18b384c-29d5-488e-f66b-4527ee1dd7f9"
      },
      "source": [
        "# Create one hot encoded data from list of y_train category labels\n",
        "#...to allow modeltoapi() to extract correct labels for predictions in your deployed API\n",
        "import pandas as pd \n",
        "\n",
        "y_train = pd.get_dummies(y_train_labels)\n",
        "y_test = pd.get_dummies(y_test_labels)\n",
        "\n",
        "#ensure column names are correct in one hot encoded target for correct label extraction\n",
        "list(y_train.columns)"
      ],
      "execution_count": 14,
      "outputs": [
        {
          "output_type": "execute_result",
          "data": {
            "text/plain": [
              "['negative', 'positive']"
            ]
          },
          "metadata": {},
          "execution_count": 14
        }
      ]
    },
    {
      "cell_type": "code",
      "metadata": {
        "colab": {
          "base_uri": "https://localhost:8080/"
        },
        "id": "bhmr_bjoq6G4",
        "outputId": "148c020a-e1f2-412b-de6d-8ec4b3031d11"
      },
      "source": [
        "# Check shape of data preproprecessed using your new preprocessor() function\n",
        "print(preprocessor(X_train, maxlen=100, max_words=5000).shape)\n",
        "print(preprocessor(X_test, maxlen=100, max_words=5000).shape)"
      ],
      "execution_count": 15,
      "outputs": [
        {
          "output_type": "stream",
          "name": "stdout",
          "text": [
            "(37500, 100)\n",
            "(12500, 100)\n"
          ]
        }
      ]
    },
    {
      "cell_type": "markdown",
      "metadata": {
        "id": "xJlhd6jvns0b"
      },
      "source": [
        "## **(2) Build Model Using your Preferred ML Library**"
      ]
    },
    {
      "cell_type": "markdown",
      "metadata": {
        "id": "fP7ZIVKe3luZ"
      },
      "source": [
        "### **We already loaded a Keras Sequential Model in the quickstart function above**"
      ]
    },
    {
      "cell_type": "code",
      "metadata": {
        "colab": {
          "base_uri": "https://localhost:8080/"
        },
        "id": "fbb3QzBwPXFI",
        "outputId": "e3010f51-3df8-47d8-f55a-922450753c4e"
      },
      "source": [
        "# Here is a pre-trained model, but you could train your own model after preprocessing data with your preprocessor function.\n",
        "\n",
        "model_1.summary()"
      ],
      "execution_count": 16,
      "outputs": [
        {
          "output_type": "stream",
          "name": "stdout",
          "text": [
            "Model: \"sequential_13\"\n",
            "_________________________________________________________________\n",
            " Layer (type)                Output Shape              Param #   \n",
            "=================================================================\n",
            " embedding_13 (Embedding)    (None, 100, 16)           80000     \n",
            "                                                                 \n",
            " flatten_13 (Flatten)        (None, 1600)              0         \n",
            "                                                                 \n",
            " dense_13 (Dense)            (None, 2)                 3202      \n",
            "                                                                 \n",
            "=================================================================\n",
            "Total params: 83,202\n",
            "Trainable params: 83,202\n",
            "Non-trainable params: 0\n",
            "_________________________________________________________________\n"
          ]
        }
      ]
    },
    {
      "cell_type": "markdown",
      "metadata": {
        "id": "FZGlu5PMWbNO"
      },
      "source": [
        "## **(3) Save Preprocessor**\n",
        "### Saves preprocessor function to \"preprocessor.zip\" file"
      ]
    },
    {
      "cell_type": "code",
      "metadata": {
        "colab": {
          "base_uri": "https://localhost:8080/"
        },
        "id": "Wh_vkwblXx7r",
        "outputId": "cef75ef2-5790-480d-c119-775e9d8d29aa"
      },
      "source": [
        "import aimodelshare as ai\n",
        "ai.export_preprocessor(preprocessor,\"\") # Second argument is the directory you want to use to save your function"
      ],
      "execution_count": 17,
      "outputs": [
        {
          "output_type": "stream",
          "name": "stdout",
          "text": [
            "Your preprocessor is now saved to 'preprocessor.zip'\n"
          ]
        }
      ]
    },
    {
      "cell_type": "code",
      "metadata": {
        "colab": {
          "base_uri": "https://localhost:8080/"
        },
        "id": "b58rg4pMMn4n",
        "outputId": "d801b04b-1d3f-4ff6-fbe9-652a087d2184"
      },
      "source": [
        "#  Now let's import and test the preprocessor function to see if it is working...\n",
        "prep = ai.import_preprocessor(\"preprocessor.zip\")\n",
        "prep(example_data).shape"
      ],
      "execution_count": 18,
      "outputs": [
        {
          "output_type": "execute_result",
          "data": {
            "text/plain": [
              "(5, 100)"
            ]
          },
          "metadata": {},
          "execution_count": 18
        }
      ]
    },
    {
      "cell_type": "markdown",
      "metadata": {
        "id": "CdQOeF2J3PCv"
      },
      "source": [
        "## **(4) Save keras model to ONNX File Format**\n"
      ]
    },
    {
      "cell_type": "code",
      "metadata": {
        "id": "r8fgi8f6qkbk"
      },
      "source": [
        "# Save keras model to local ONNX file\n",
        "from aimodelshare.aimsonnx import model_to_onnx\n",
        "\n",
        "onnx_model = model_to_onnx(model_1, framework='keras',\n",
        "                          transfer_learning=False,\n",
        "                          deep_learning=True)\n",
        "\n",
        "with open(\"model.onnx\", \"wb\") as f:\n",
        "    f.write(onnx_model.SerializeToString())"
      ],
      "execution_count": 19,
      "outputs": []
    },
    {
      "cell_type": "markdown",
      "metadata": {
        "id": "1swt74XQUIFh"
      },
      "source": [
        "## **(5) Create your Model Playground**"
      ]
    },
    {
      "cell_type": "code",
      "metadata": {
        "id": "Y-YKEcvDNmD3"
      },
      "source": [
        "#Set up arguments for Model Playground deployment\n",
        "import pandas as pd \n",
        "\n",
        "model_filepath=\"model.onnx\"\n",
        "preprocessor_filepath=\"preprocessor.zip\""
      ],
      "execution_count": 20,
      "outputs": []
    },
    {
      "cell_type": "code",
      "metadata": {
        "id": "T8C6IlYTFN5t"
      },
      "source": [
        "from aimodelshare import ModelPlayground\n",
        "\n",
        "#Instantiate ModelPlayground() Class\n",
        "\n",
        "myplayground=ModelPlayground(model_type=\"text\", classification=True, private=False)\n",
        "\n",
        "# Create Model Playground (generates live rest api and web-app for your model/preprocessor)\n",
        "\n",
        "myplayground.deploy(model_filepath, preprocessor_filepath, y_train, example_data)"
      ],
      "execution_count": null,
      "outputs": []
    },
    {
      "cell_type": "markdown",
      "metadata": {
        "id": "Eb9dfUFHhLr-"
      },
      "source": [
        "## **Use your new Model Playground!**\n",
        "\n",
        "Follow the link in the output above to:\n",
        "- Generate predictions with your interactive web dashboard\n",
        "- Access example code in Python, R, and Curl\n",
        "\n",
        "Or, follow the rest of the tutorial to create a competition for your Model Playground and: \n",
        "- Access verified model performance metrics \n",
        "- Upload multiple models to a leaderboard \n",
        "- Easily compare model performance & structure "
      ]
    },
    {
      "cell_type": "markdown",
      "metadata": {
        "id": "9YpyLkQNfqSI"
      },
      "source": [
        "## **Part 2: Create a Competition**\n",
        "\n",
        "-------\n",
        "\n",
        "After deploying your Model Playground, you can now create a competition. \n",
        "\n",
        "Creating a competition allows you to:\n",
        "1. Verify the model performance metrics on aimodelshare.org\n",
        "2. Submit models to a leaderboard\n",
        "3. Grant access to other users to submit models to the leaderboard\n",
        "4. Easily compare model performance and structure "
      ]
    },
    {
      "cell_type": "code",
      "metadata": {
        "id": "ulWKEy5dTBav"
      },
      "source": [
        "# Create list of authorized participants for competition\n",
        "# Note that participants should use the same email address when creating modelshare.org account\n",
        "\n",
        "emaillist=[\"emailaddress1@email.com\", \"emailaddress2@email.com\", \"emailaddress3@email.com\"]"
      ],
      "execution_count": null,
      "outputs": []
    },
    {
      "cell_type": "code",
      "metadata": {
        "id": "o2nKrLAMgc9o"
      },
      "source": [
        "# Create Competition\n",
        "# Note -- Make competition public (allow any AI Model Share user to submit models) \n",
        "# .... by excluding the email_list argument and including the 'public=True' argument \n",
        "\n",
        "myplayground.create_competition(data_directory='imdb_competition_data', \n",
        "                                y_test = y_test_labels, \n",
        "                               # email_list=emaillist)\n",
        "                                public=True)"
      ],
      "execution_count": null,
      "outputs": []
    },
    {
      "cell_type": "code",
      "metadata": {
        "id": "SAJJWhdAfyo5"
      },
      "source": [
        "#Instantiate Competition\n",
        "#--Note: If you start a new session, the first argument should be the Model Playground url in quotes. \n",
        "#--e.g.- mycompetition= ai.Competition(\"https://2121212.execute-api.us-east-1.amazonaws.com/prod/m)\n",
        "#See Model Playground \"Compete\" tab for example model submission code.\n",
        "\n",
        "mycompetition= ai.Competition(myplayground.playground_url)"
      ],
      "execution_count": 20,
      "outputs": []
    },
    {
      "cell_type": "code",
      "metadata": {
        "id": "wFeXqwnaTQKS"
      },
      "source": [
        "# Add, remove, or completely update authorized participants for competition later\n",
        "emaillist=[\"emailaddress4@email.com\"]\n",
        "\n",
        "mycompetition.update_access_list(email_list=emaillist,update_type=\"Add\")"
      ],
      "execution_count": null,
      "outputs": []
    },
    {
      "cell_type": "markdown",
      "metadata": {
        "id": "mqyzWZPwgoEH"
      },
      "source": [
        "Submit Models"
      ]
    },
    {
      "cell_type": "code",
      "metadata": {
        "colab": {
          "base_uri": "https://localhost:8080/"
        },
        "id": "UHyC9NLjTwXx",
        "outputId": "7fea5694-10d7-4986-f604-5e21115aa7f8"
      },
      "source": [
        "#Authorized users can submit new models after setting credentials using modelshare.org username/password\n",
        "from aimodelshare.aws import set_credentials\n",
        "\n",
        "apiurl=myplayground.playground_url # example url from deployed playground: apiurl= \"https://123456.execute-api.us-east-1.amazonaws.com/prod/m\n",
        "set_credentials(apiurl=apiurl)\n"
      ],
      "execution_count": 21,
      "outputs": [
        {
          "output_type": "stream",
          "name": "stdout",
          "text": [
            "AI Modelshare Username:··········\n",
            "AI Modelshare Password:··········\n",
            "AI Model Share login credentials set successfully.\n"
          ]
        }
      ]
    },
    {
      "cell_type": "code",
      "metadata": {
        "id": "3Wyhcws7SfXS"
      },
      "source": [
        "#Submit Model 1: \n",
        "\n",
        "#-- Generate predicted values for Model 1\n",
        "prediction_column_index = model_1.predict(preprocessor(X_test)).argmax(axis=1)\n",
        "prediction_labels = [y_test.columns[i] for i in prediction_column_index]\n",
        "\n",
        "# Submit Model 1 to Competition Leaderboard\n",
        "mycompetition.submit_model(model_filepath = \"model.onnx\",\n",
        "                                 preprocessor_filepath=\"preprocessor.zip\",\n",
        "                                 prediction_submission=prediction_labels)"
      ],
      "execution_count": null,
      "outputs": []
    },
    {
      "cell_type": "markdown",
      "metadata": {
        "id": "A4rXw-l6UQ3S"
      },
      "source": [
        "### **Model 2:**"
      ]
    },
    {
      "cell_type": "code",
      "metadata": {
        "colab": {
          "base_uri": "https://localhost:8080/"
        },
        "id": "ZLMMrBb2UU68",
        "outputId": "8c779adf-e895-4277-833e-5bd64e17374e"
      },
      "source": [
        "# Train and submit model 2 using same preprocessor (note that you could save a new preprocessor, but we will use the same one for this example).\n",
        "model_2.summary()"
      ],
      "execution_count": null,
      "outputs": [
        {
          "output_type": "stream",
          "name": "stdout",
          "text": [
            "Model: \"sequential_14\"\n",
            "_________________________________________________________________\n",
            " Layer (type)                Output Shape              Param #   \n",
            "=================================================================\n",
            " embedding_14 (Embedding)    (None, 100, 16)           80000     \n",
            "                                                                 \n",
            " lstm_6 (LSTM)               (None, 32)                6272      \n",
            "                                                                 \n",
            " flatten_14 (Flatten)        (None, 32)                0         \n",
            "                                                                 \n",
            " dense_14 (Dense)            (None, 2)                 66        \n",
            "                                                                 \n",
            "=================================================================\n",
            "Total params: 86,338\n",
            "Trainable params: 86,338\n",
            "Non-trainable params: 0\n",
            "_________________________________________________________________\n"
          ]
        }
      ]
    },
    {
      "cell_type": "code",
      "metadata": {
        "id": "jraPDdsNX46e"
      },
      "source": [
        "# Save Model 2 to .onnx file\n",
        "from aimodelshare.aimsonnx import model_to_onnx\n",
        "\n",
        "onnx_model = model_to_onnx(model_2, framework='keras',\n",
        "                          transfer_learning=False,\n",
        "                          deep_learning=True)\n",
        "\n",
        "# Save model to local .onnx file\n",
        "with open(\"model_2.onnx\", \"wb\") as f:\n",
        "    f.write(onnx_model.SerializeToString()) "
      ],
      "execution_count": null,
      "outputs": []
    },
    {
      "cell_type": "code",
      "metadata": {
        "id": "1mrjyWyJw38d"
      },
      "source": [
        "# Submit Model 2\n",
        "\n",
        "#-- Generate predicted y values (Model 2)\n",
        "prediction_column_index = model_2.predict(preprocessor(X_test)).argmax(axis=1)\n",
        "prediction_labels = [y_test.columns[i] for i in prediction_column_index]\n",
        "\n",
        "# Submit Model 2 to Competition Leaderboard\n",
        "mycompetition.submit_model(model_filepath = \"model_2.onnx\",\n",
        "                                 prediction_submission=prediction_labels,\n",
        "                                 preprocessor_filepath=\"preprocessor.zip\")"
      ],
      "execution_count": null,
      "outputs": []
    },
    {
      "cell_type": "markdown",
      "metadata": {
        "id": "iLYlCkWchWC_"
      },
      "source": [
        "Get Leaderboard"
      ]
    },
    {
      "cell_type": "code",
      "metadata": {
        "colab": {
          "base_uri": "https://localhost:8080/",
          "height": 113
        },
        "id": "J0-B1h0chYDL",
        "outputId": "5eba7bcd-a5ff-44be-d87a-91d2bfc33e1b"
      },
      "source": [
        "data = mycompetition.get_leaderboard()\n",
        "mycompetition.stylize_leaderboard(data)"
      ],
      "execution_count": null,
      "outputs": [
        {
          "output_type": "execute_result",
          "data": {
            "text/plain": [
              "<pandas.io.formats.style.Styler at 0x7ff13a61ee50>"
            ],
            "text/html": [
              "<style type=\"text/css\">\n",
              "#T_f3412_row0_col0 {\n",
              "  text-align: center;\n",
              "  width: 10em;\n",
              "  height: 80%;\n",
              "  background: linear-gradient(90deg,#f5f8d6 84.8%, transparent 84.8%);\n",
              "  color: #251e1b;\n",
              "  font-size: 12px;\n",
              "}\n",
              "#T_f3412_row0_col1 {\n",
              "  text-align: center;\n",
              "  width: 10em;\n",
              "  height: 80%;\n",
              "  background: linear-gradient(90deg,#c778c8 84.8%, transparent 84.8%);\n",
              "  color: #251e1b;\n",
              "  font-size: 12px;\n",
              "}\n",
              "#T_f3412_row0_col2 {\n",
              "  text-align: center;\n",
              "  width: 10em;\n",
              "  height: 80%;\n",
              "  background: linear-gradient(90deg,#ff4971 85.1%, transparent 85.1%);\n",
              "  color: #251e1b;\n",
              "  font-size: 12px;\n",
              "}\n",
              "#T_f3412_row0_col3 {\n",
              "  text-align: center;\n",
              "  width: 10em;\n",
              "  height: 80%;\n",
              "  background: linear-gradient(90deg,#aadbaa 84.8%, transparent 84.8%);\n",
              "  color: #251e1b;\n",
              "  font-size: 12px;\n",
              "}\n",
              "#T_f3412_row0_col4, #T_f3412_row0_col5, #T_f3412_row0_col6, #T_f3412_row0_col7, #T_f3412_row0_col8, #T_f3412_row0_col9, #T_f3412_row0_col10, #T_f3412_row0_col11, #T_f3412_row0_col12, #T_f3412_row0_col13, #T_f3412_row0_col14, #T_f3412_row0_col15, #T_f3412_row0_col16, #T_f3412_row0_col17, #T_f3412_row0_col18, #T_f3412_row0_col19, #T_f3412_row0_col20, #T_f3412_row1_col4, #T_f3412_row1_col5, #T_f3412_row1_col6, #T_f3412_row1_col7, #T_f3412_row1_col8, #T_f3412_row1_col9, #T_f3412_row1_col10, #T_f3412_row1_col11, #T_f3412_row1_col12, #T_f3412_row1_col13, #T_f3412_row1_col14, #T_f3412_row1_col15, #T_f3412_row1_col16, #T_f3412_row1_col17, #T_f3412_row1_col18, #T_f3412_row1_col19, #T_f3412_row1_col20 {\n",
              "  text-align: center;\n",
              "}\n",
              "#T_f3412_row1_col0 {\n",
              "  text-align: center;\n",
              "  width: 10em;\n",
              "  height: 80%;\n",
              "  background: linear-gradient(90deg,#f5f8d6 84.3%, transparent 84.3%);\n",
              "  color: #251e1b;\n",
              "  font-size: 12px;\n",
              "}\n",
              "#T_f3412_row1_col1 {\n",
              "  text-align: center;\n",
              "  width: 10em;\n",
              "  height: 80%;\n",
              "  background: linear-gradient(90deg,#c778c8 84.2%, transparent 84.2%);\n",
              "  color: #251e1b;\n",
              "  font-size: 12px;\n",
              "}\n",
              "#T_f3412_row1_col2 {\n",
              "  text-align: center;\n",
              "  width: 10em;\n",
              "  height: 80%;\n",
              "  background: linear-gradient(90deg,#ff4971 84.5%, transparent 84.5%);\n",
              "  color: #251e1b;\n",
              "  font-size: 12px;\n",
              "}\n",
              "#T_f3412_row1_col3 {\n",
              "  text-align: center;\n",
              "  width: 10em;\n",
              "  height: 80%;\n",
              "  background: linear-gradient(90deg,#aadbaa 84.3%, transparent 84.3%);\n",
              "  color: #251e1b;\n",
              "  font-size: 12px;\n",
              "}\n",
              "</style>\n",
              "<table id=\"T_f3412_\" class=\"dataframe\">\n",
              "  <thead>\n",
              "    <tr>\n",
              "      <th class=\"blank level0\" >&nbsp;</th>\n",
              "      <th class=\"col_heading level0 col0\" >accuracy</th>\n",
              "      <th class=\"col_heading level0 col1\" >f1_score</th>\n",
              "      <th class=\"col_heading level0 col2\" >precision</th>\n",
              "      <th class=\"col_heading level0 col3\" >recall</th>\n",
              "      <th class=\"col_heading level0 col4\" >ml_framework</th>\n",
              "      <th class=\"col_heading level0 col5\" >transfer_learning</th>\n",
              "      <th class=\"col_heading level0 col6\" >deep_learning</th>\n",
              "      <th class=\"col_heading level0 col7\" >model_type</th>\n",
              "      <th class=\"col_heading level0 col8\" >depth</th>\n",
              "      <th class=\"col_heading level0 col9\" >num_params</th>\n",
              "      <th class=\"col_heading level0 col10\" >embedding_layers</th>\n",
              "      <th class=\"col_heading level0 col11\" >lstm_layers</th>\n",
              "      <th class=\"col_heading level0 col12\" >dense_layers</th>\n",
              "      <th class=\"col_heading level0 col13\" >flatten_layers</th>\n",
              "      <th class=\"col_heading level0 col14\" >tanh_act</th>\n",
              "      <th class=\"col_heading level0 col15\" >softmax_act</th>\n",
              "      <th class=\"col_heading level0 col16\" >loss</th>\n",
              "      <th class=\"col_heading level0 col17\" >optimizer</th>\n",
              "      <th class=\"col_heading level0 col18\" >memory_size</th>\n",
              "      <th class=\"col_heading level0 col19\" >username</th>\n",
              "      <th class=\"col_heading level0 col20\" >version</th>\n",
              "    </tr>\n",
              "  </thead>\n",
              "  <tbody>\n",
              "    <tr>\n",
              "      <th id=\"T_f3412_level0_row0\" class=\"row_heading level0 row0\" >0</th>\n",
              "      <td id=\"T_f3412_row0_col0\" class=\"data row0 col0\" >84.80%</td>\n",
              "      <td id=\"T_f3412_row0_col1\" class=\"data row0 col1\" >84.77%</td>\n",
              "      <td id=\"T_f3412_row0_col2\" class=\"data row0 col2\" >85.06%</td>\n",
              "      <td id=\"T_f3412_row0_col3\" class=\"data row0 col3\" >84.80%</td>\n",
              "      <td id=\"T_f3412_row0_col4\" class=\"data row0 col4\" >keras</td>\n",
              "      <td id=\"T_f3412_row0_col5\" class=\"data row0 col5\" >False</td>\n",
              "      <td id=\"T_f3412_row0_col6\" class=\"data row0 col6\" >True</td>\n",
              "      <td id=\"T_f3412_row0_col7\" class=\"data row0 col7\" >Sequential</td>\n",
              "      <td id=\"T_f3412_row0_col8\" class=\"data row0 col8\" >3</td>\n",
              "      <td id=\"T_f3412_row0_col9\" class=\"data row0 col9\" >83202</td>\n",
              "      <td id=\"T_f3412_row0_col10\" class=\"data row0 col10\" >1</td>\n",
              "      <td id=\"T_f3412_row0_col11\" class=\"data row0 col11\" >nan</td>\n",
              "      <td id=\"T_f3412_row0_col12\" class=\"data row0 col12\" >1</td>\n",
              "      <td id=\"T_f3412_row0_col13\" class=\"data row0 col13\" >1</td>\n",
              "      <td id=\"T_f3412_row0_col14\" class=\"data row0 col14\" >nan</td>\n",
              "      <td id=\"T_f3412_row0_col15\" class=\"data row0 col15\" >1</td>\n",
              "      <td id=\"T_f3412_row0_col16\" class=\"data row0 col16\" >function</td>\n",
              "      <td id=\"T_f3412_row0_col17\" class=\"data row0 col17\" >RMSprop</td>\n",
              "      <td id=\"T_f3412_row0_col18\" class=\"data row0 col18\" >145672</td>\n",
              "      <td id=\"T_f3412_row0_col19\" class=\"data row0 col19\" >AIModelShare</td>\n",
              "      <td id=\"T_f3412_row0_col20\" class=\"data row0 col20\" >1</td>\n",
              "    </tr>\n",
              "    <tr>\n",
              "      <th id=\"T_f3412_level0_row1\" class=\"row_heading level0 row1\" >1</th>\n",
              "      <td id=\"T_f3412_row1_col0\" class=\"data row1 col0\" >84.27%</td>\n",
              "      <td id=\"T_f3412_row1_col1\" class=\"data row1 col1\" >84.25%</td>\n",
              "      <td id=\"T_f3412_row1_col2\" class=\"data row1 col2\" >84.51%</td>\n",
              "      <td id=\"T_f3412_row1_col3\" class=\"data row1 col3\" >84.27%</td>\n",
              "      <td id=\"T_f3412_row1_col4\" class=\"data row1 col4\" >keras</td>\n",
              "      <td id=\"T_f3412_row1_col5\" class=\"data row1 col5\" >False</td>\n",
              "      <td id=\"T_f3412_row1_col6\" class=\"data row1 col6\" >True</td>\n",
              "      <td id=\"T_f3412_row1_col7\" class=\"data row1 col7\" >Sequential</td>\n",
              "      <td id=\"T_f3412_row1_col8\" class=\"data row1 col8\" >4</td>\n",
              "      <td id=\"T_f3412_row1_col9\" class=\"data row1 col9\" >86338</td>\n",
              "      <td id=\"T_f3412_row1_col10\" class=\"data row1 col10\" >1</td>\n",
              "      <td id=\"T_f3412_row1_col11\" class=\"data row1 col11\" >1.000000</td>\n",
              "      <td id=\"T_f3412_row1_col12\" class=\"data row1 col12\" >1</td>\n",
              "      <td id=\"T_f3412_row1_col13\" class=\"data row1 col13\" >1</td>\n",
              "      <td id=\"T_f3412_row1_col14\" class=\"data row1 col14\" >1.000000</td>\n",
              "      <td id=\"T_f3412_row1_col15\" class=\"data row1 col15\" >1</td>\n",
              "      <td id=\"T_f3412_row1_col16\" class=\"data row1 col16\" >function</td>\n",
              "      <td id=\"T_f3412_row1_col17\" class=\"data row1 col17\" >RMSprop</td>\n",
              "      <td id=\"T_f3412_row1_col18\" class=\"data row1 col18\" >1195144</td>\n",
              "      <td id=\"T_f3412_row1_col19\" class=\"data row1 col19\" >AIModelShare</td>\n",
              "      <td id=\"T_f3412_row1_col20\" class=\"data row1 col20\" >2</td>\n",
              "    </tr>\n",
              "  </tbody>\n",
              "</table>\n"
            ]
          },
          "metadata": {},
          "execution_count": 21
        }
      ]
    },
    {
      "cell_type": "markdown",
      "metadata": {
        "id": "g_bklL3shOER"
      },
      "source": [
        "Compare Models"
      ]
    },
    {
      "cell_type": "code",
      "metadata": {
        "id": "quo_V3A3hNS3",
        "colab": {
          "base_uri": "https://localhost:8080/",
          "height": 126
        },
        "outputId": "432344a8-77be-4f0c-8e5d-4432ff2ec5c7"
      },
      "source": [
        "# Compare two or more models \n",
        "data=mycompetition.compare_models([1,2], verbose=1)\n",
        "mycompetition.stylize_compare(data)"
      ],
      "execution_count": null,
      "outputs": [
        {
          "output_type": "display_data",
          "data": {
            "text/plain": [
              "<IPython.core.display.HTML object>"
            ],
            "text/html": [
              "<style type=\"text/css\">\n",
              "#T_fd1ed_ caption {\n",
              "  color: black;\n",
              "  font-size: 18px;\n",
              "}\n",
              "#T_fd1ed_row0_col0, #T_fd1ed_row0_col3 {\n",
              "  background: #f4cae4;\n",
              "  color: black;\n",
              "  color: black;\n",
              "}\n",
              "#T_fd1ed_row0_col1, #T_fd1ed_row0_col2, #T_fd1ed_row0_col4, #T_fd1ed_row0_col5, #T_fd1ed_row1_col1, #T_fd1ed_row1_col2, #T_fd1ed_row1_col4, #T_fd1ed_row1_col5, #T_fd1ed_row2_col1, #T_fd1ed_row2_col2, #T_fd1ed_row2_col4, #T_fd1ed_row2_col5, #T_fd1ed_row3_col0, #T_fd1ed_row3_col1, #T_fd1ed_row3_col2, #T_fd1ed_row3_col4, #T_fd1ed_row3_col5 {\n",
              "  background: white;\n",
              "  color: black;\n",
              "  color: black;\n",
              "}\n",
              "#T_fd1ed_row1_col0, #T_fd1ed_row2_col3 {\n",
              "  background: #e6f5c9;\n",
              "  color: black;\n",
              "  color: black;\n",
              "}\n",
              "#T_fd1ed_row1_col3 {\n",
              "  background: #cbd5e8;\n",
              "  color: black;\n",
              "  color: black;\n",
              "}\n",
              "#T_fd1ed_row2_col0, #T_fd1ed_row3_col3 {\n",
              "  background: #fff2ae;\n",
              "  color: black;\n",
              "  color: black;\n",
              "}\n",
              "</style>\n",
              "<table id=\"T_fd1ed_\">\n",
              "  <caption>Model type: Neural Network</caption>\n",
              "  <thead>\n",
              "    <tr>\n",
              "      <th class=\"blank level0\" >&nbsp;</th>\n",
              "      <th class=\"col_heading level0 col0\" >Model_1_Layer</th>\n",
              "      <th class=\"col_heading level0 col1\" >Model_1_Shape</th>\n",
              "      <th class=\"col_heading level0 col2\" >Model_1_Params</th>\n",
              "      <th class=\"col_heading level0 col3\" >Model_2_Layer</th>\n",
              "      <th class=\"col_heading level0 col4\" >Model_2_Shape</th>\n",
              "      <th class=\"col_heading level0 col5\" >Model_2_Params</th>\n",
              "    </tr>\n",
              "  </thead>\n",
              "  <tbody>\n",
              "    <tr>\n",
              "      <th id=\"T_fd1ed_level0_row0\" class=\"row_heading level0 row0\" >0</th>\n",
              "      <td id=\"T_fd1ed_row0_col0\" class=\"data row0 col0\" >Embedding</td>\n",
              "      <td id=\"T_fd1ed_row0_col1\" class=\"data row0 col1\" >[None, 100, 16]</td>\n",
              "      <td id=\"T_fd1ed_row0_col2\" class=\"data row0 col2\" >80000.000000</td>\n",
              "      <td id=\"T_fd1ed_row0_col3\" class=\"data row0 col3\" >Embedding</td>\n",
              "      <td id=\"T_fd1ed_row0_col4\" class=\"data row0 col4\" >[None, 100, 16]</td>\n",
              "      <td id=\"T_fd1ed_row0_col5\" class=\"data row0 col5\" >80000</td>\n",
              "    </tr>\n",
              "    <tr>\n",
              "      <th id=\"T_fd1ed_level0_row1\" class=\"row_heading level0 row1\" >1</th>\n",
              "      <td id=\"T_fd1ed_row1_col0\" class=\"data row1 col0\" >Flatten</td>\n",
              "      <td id=\"T_fd1ed_row1_col1\" class=\"data row1 col1\" >[None, 1600]</td>\n",
              "      <td id=\"T_fd1ed_row1_col2\" class=\"data row1 col2\" >0.000000</td>\n",
              "      <td id=\"T_fd1ed_row1_col3\" class=\"data row1 col3\" >LSTM</td>\n",
              "      <td id=\"T_fd1ed_row1_col4\" class=\"data row1 col4\" >[None, 32]</td>\n",
              "      <td id=\"T_fd1ed_row1_col5\" class=\"data row1 col5\" >6272</td>\n",
              "    </tr>\n",
              "    <tr>\n",
              "      <th id=\"T_fd1ed_level0_row2\" class=\"row_heading level0 row2\" >2</th>\n",
              "      <td id=\"T_fd1ed_row2_col0\" class=\"data row2 col0\" >Dense</td>\n",
              "      <td id=\"T_fd1ed_row2_col1\" class=\"data row2 col1\" >[None, 2]</td>\n",
              "      <td id=\"T_fd1ed_row2_col2\" class=\"data row2 col2\" >3202.000000</td>\n",
              "      <td id=\"T_fd1ed_row2_col3\" class=\"data row2 col3\" >Flatten</td>\n",
              "      <td id=\"T_fd1ed_row2_col4\" class=\"data row2 col4\" >[None, 32]</td>\n",
              "      <td id=\"T_fd1ed_row2_col5\" class=\"data row2 col5\" >0</td>\n",
              "    </tr>\n",
              "    <tr>\n",
              "      <th id=\"T_fd1ed_level0_row3\" class=\"row_heading level0 row3\" >3</th>\n",
              "      <td id=\"T_fd1ed_row3_col0\" class=\"data row3 col0\" >None</td>\n",
              "      <td id=\"T_fd1ed_row3_col1\" class=\"data row3 col1\" >None</td>\n",
              "      <td id=\"T_fd1ed_row3_col2\" class=\"data row3 col2\" >nan</td>\n",
              "      <td id=\"T_fd1ed_row3_col3\" class=\"data row3 col3\" >Dense</td>\n",
              "      <td id=\"T_fd1ed_row3_col4\" class=\"data row3 col4\" >[None, 2]</td>\n",
              "      <td id=\"T_fd1ed_row3_col5\" class=\"data row3 col5\" >66</td>\n",
              "    </tr>\n",
              "  </tbody>\n",
              "</table>\n"
            ]
          },
          "metadata": {}
        }
      ]
    },
    {
      "cell_type": "markdown",
      "metadata": {
        "id": "FKm9ugiBhQFn"
      },
      "source": [
        "#### Check structure of y test data \n",
        "(This helps users understand how to submit predicted values to leaderboard)"
      ]
    },
    {
      "cell_type": "code",
      "metadata": {
        "colab": {
          "base_uri": "https://localhost:8080/"
        },
        "id": "dqY82D22hPZx",
        "outputId": "80e5c869-917d-4566-cc90-3ac538033610"
      },
      "source": [
        "mycompetition.inspect_y_test()"
      ],
      "execution_count": null,
      "outputs": [
        {
          "output_type": "execute_result",
          "data": {
            "text/plain": [
              "{'class_balance': {'negative': 6250, 'positive': 6250},\n",
              " 'class_labels': ['negative', 'positive'],\n",
              " 'label_dtypes': {\"<class 'str'>\": 12500},\n",
              " 'y_length': 12500,\n",
              " 'ytest_example': ['negative', 'negative', 'positive', 'positive', 'negative']}"
            ]
          },
          "metadata": {},
          "execution_count": 23
        }
      ]
    },
    {
      "cell_type": "markdown",
      "metadata": {
        "id": "iA-nYjr7WCIp"
      },
      "source": [
        "## **Part 3: Maintaining your Model Playground**\n",
        "\n",
        "-------"
      ]
    },
    {
      "cell_type": "markdown",
      "metadata": {
        "id": "0UIWnHIXWM0F"
      },
      "source": [
        "Update Runtime model\n",
        "\n",
        "*Use this function to 1) update the prediction API behind your Model Playground with a new model, chosen from the leaderboard and 2) verify the model performance metrics in your Model Playground*"
      ]
    },
    {
      "cell_type": "code",
      "metadata": {
        "id": "wAchpcGLWLxE"
      },
      "source": [
        "myplayground.update_runtime_model(model_version=1)"
      ],
      "execution_count": null,
      "outputs": []
    },
    {
      "cell_type": "markdown",
      "metadata": {
        "id": "xhJRaiN-WaO1"
      },
      "source": [
        "Delete Deployment \n",
        "\n",
        "*Use this function to delete the entire Model Playground, including the REST API, web dashboard, competition, and all submitted models*"
      ]
    },
    {
      "cell_type": "code",
      "metadata": {
        "colab": {
          "base_uri": "https://localhost:8080/",
          "height": 93
        },
        "id": "mCkf-exLWyDK",
        "outputId": "eda54390-4001-4ea3-a2db-bdc7f9db6430"
      },
      "source": [
        "myplayground.delete_deployment()"
      ],
      "execution_count": null,
      "outputs": [
        {
          "name": "stdout",
          "output_type": "stream",
          "text": [
            "Running this function will permanently delete all resources tied to this deployment, \n",
            " including the eval lambda and all models submitted to the model competition.\n",
            "\n",
            "To confirm, type 'permanently delete':permanently delete\n"
          ]
        },
        {
          "output_type": "execute_result",
          "data": {
            "application/vnd.google.colaboratory.intrinsic+json": {
              "type": "string"
            },
            "text/plain": [
              "'Deployment deleted successfully.'"
            ]
          },
          "metadata": {},
          "execution_count": 45
        }
      ]
    }
  ]
}