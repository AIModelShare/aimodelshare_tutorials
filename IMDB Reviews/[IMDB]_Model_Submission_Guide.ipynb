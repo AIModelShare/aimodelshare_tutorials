{
  "nbformat": 4,
  "nbformat_minor": 0,
  "metadata": {
    "colab": {
      "name": "[IMDB] Model Submission Guide.ipynb",
      "provenance": [],
      "collapsed_sections": []
    },
    "kernelspec": {
      "name": "python3",
      "display_name": "Python 3"
    },
    "language_info": {
      "name": "python"
    }
  },
  "cells": [
    {
      "cell_type": "markdown",
      "source": [
        "<p align=\"center\"><img width=\"50%\" src=\"https://aimodelsharecontent.s3.amazonaws.com/aimodshare_banner.jpg\" /></p>\n",
        "\n",
        "\n",
        "---"
      ],
      "metadata": {
        "id": "vVFTG0FjBykl"
      }
    },
    {
      "cell_type": "markdown",
      "metadata": {
        "id": "JXxGTgJz152A"
      },
      "source": [
        "## IMDB Review Classification Competition\n",
        "Let's share our models to a centralized leaderboard, so that we can collaborate and learn from the model experimentation process...\n",
        "\n",
        "**Instructions:**\n",
        "1.   Get data in and set up X_train / X_test / y_train\n",
        "2.   Preprocess data using keras Tokenizer/ Write and Save Preprocessor function\n",
        "3. Fit model on preprocessed data and save preprocessor function and model \n",
        "4. Generate predictions from X_test data and submit model to competition\n",
        "5. Repeat submission process to improve place on leaderboard\n",
        "\n"
      ]
    },
    {
      "cell_type": "markdown",
      "metadata": {
        "id": "5gSrVJwp3E9H"
      },
      "source": [
        "## 1. Get data in and set up X_train, X_test, y_train objects"
      ]
    },
    {
      "cell_type": "code",
      "metadata": {
        "id": "PLTIaMB3ChSW"
      },
      "source": [
        "#install aimodelshare library\n",
        "! pip install aimodelshare --upgrade"
      ],
      "execution_count": null,
      "outputs": []
    },
    {
      "cell_type": "code",
      "metadata": {
        "colab": {
          "base_uri": "https://localhost:8080/"
        },
        "id": "d3PiJXBhC5y-",
        "outputId": "e5da6188-4d81-4ccb-e62b-cd1f795495c1"
      },
      "source": [
        "# Get competition data\n",
        "from aimodelshare import download_data\n",
        "download_data('public.ecr.aws/y2e2a1d6/imdb_competition_data-repository:latest') "
      ],
      "execution_count": 2,
      "outputs": [
        {
          "output_type": "stream",
          "name": "stdout",
          "text": [
            "Downloading [================================================>]\n",
            "\n",
            "Data downloaded successfully.\n"
          ]
        }
      ]
    },
    {
      "cell_type": "code",
      "metadata": {
        "colab": {
          "base_uri": "https://localhost:8080/"
        },
        "id": "jT0qFCZFNzHq",
        "outputId": "86292a94-e33f-47d4-df14-fa419e4ee78a"
      },
      "source": [
        "# Set up X_train, X_test, and y_train_labels objects\n",
        "import pandas as pd\n",
        "X_train=pd.read_csv(\"imdb_competition_data/X_train.csv\", squeeze=True)\n",
        "X_test=pd.read_csv(\"imdb_competition_data/X_test.csv\", squeeze=True)\n",
        "\n",
        "y_train_labels=pd.read_csv(\"imdb_competition_data/y_train_labels.csv\", squeeze=True)\n",
        "\n",
        "# ohe encode Y data\n",
        "y_train = pd.get_dummies(y_train_labels)\n",
        "\n",
        "X_train.head()"
      ],
      "execution_count": 3,
      "outputs": [
        {
          "output_type": "execute_result",
          "data": {
            "text/plain": [
              "0    This is an interesting series that takes real ...\n",
              "1    I wonder sometimes if maybe Meryl Streep has b...\n",
              "2    Wow, what a racist, profane piece of celluloid...\n",
              "3    Why Hollywood feels the need to remake movies ...\n",
              "4    I've seen tons of HK actioners, and this one i...\n",
              "Name: text, dtype: object"
            ]
          },
          "metadata": {},
          "execution_count": 3
        }
      ]
    },
    {
      "cell_type": "markdown",
      "metadata": {
        "id": "gEzPoXPj3V7u"
      },
      "source": [
        "##2.   Preprocess data using keras tokenizer / Write and Save Preprocessor function\n"
      ]
    },
    {
      "cell_type": "code",
      "metadata": {
        "id": "16QV9Y9TC3B3",
        "colab": {
          "base_uri": "https://localhost:8080/"
        },
        "outputId": "7c359568-4f13-4674-ba51-4f9c90b33b26"
      },
      "source": [
        "from tensorflow.keras.preprocessing.text import Tokenizer\n",
        "from tensorflow.keras.preprocessing.sequence import pad_sequences\n",
        "import numpy as np\n",
        "\n",
        "# Build vocabulary from training text data\n",
        "tokenizer = Tokenizer(num_words=5000)\n",
        "tokenizer.fit_on_texts(X_train)\n",
        "\n",
        "# preprocessor tokenizes words and makes sure all documents have the same length\n",
        "def preprocessor(data, maxlen=100, max_words=5000):\n",
        "\n",
        "    sequences = tokenizer.texts_to_sequences(data)\n",
        "\n",
        "    word_index = tokenizer.word_index\n",
        "    X = pad_sequences(sequences, maxlen=maxlen)\n",
        "\n",
        "    return X\n",
        "\n",
        "print(preprocessor(X_train).shape)\n",
        "print(preprocessor(X_test).shape)"
      ],
      "execution_count": 4,
      "outputs": [
        {
          "output_type": "stream",
          "name": "stdout",
          "text": [
            "(37500, 100)\n",
            "(12500, 100)\n"
          ]
        }
      ]
    },
    {
      "cell_type": "markdown",
      "metadata": {
        "id": "X52kECL43b-O"
      },
      "source": [
        "##3. Fit model on preprocessed data and save preprocessor function and model \n"
      ]
    },
    {
      "cell_type": "code",
      "metadata": {
        "colab": {
          "base_uri": "https://localhost:8080/"
        },
        "id": "NCbBf8j9ClYl",
        "outputId": "39820ffb-9ccb-4467-8765-5a3b04067151"
      },
      "source": [
        "from tensorflow.keras.layers import Dense, Embedding,Flatten\n",
        "from tensorflow.keras.models import Sequential\n",
        "\n",
        "model = Sequential()\n",
        "model.add(Embedding(5000, 16, input_length=100))\n",
        "model.add(Flatten())\n",
        "model.add(Dense(2, activation='softmax'))\n",
        "model.summary()\n",
        "\n",
        "model.compile(optimizer='rmsprop', loss='categorical_crossentropy', metrics=['acc'])\n",
        "\n",
        "history = model.fit(preprocessor(X_train), y_train,\n",
        "                    epochs=1,\n",
        "                    batch_size=32,\n",
        "                    validation_split=0.2)"
      ],
      "execution_count": 5,
      "outputs": [
        {
          "output_type": "stream",
          "name": "stdout",
          "text": [
            "Model: \"sequential\"\n",
            "_________________________________________________________________\n",
            " Layer (type)                Output Shape              Param #   \n",
            "=================================================================\n",
            " embedding (Embedding)       (None, 100, 16)           80000     \n",
            "                                                                 \n",
            " flatten (Flatten)           (None, 1600)              0         \n",
            "                                                                 \n",
            " dense (Dense)               (None, 2)                 3202      \n",
            "                                                                 \n",
            "=================================================================\n",
            "Total params: 83,202\n",
            "Trainable params: 83,202\n",
            "Non-trainable params: 0\n",
            "_________________________________________________________________\n",
            "938/938 [==============================] - 4s 3ms/step - loss: 0.4641 - acc: 0.7776 - val_loss: 0.3208 - val_acc: 0.8636\n"
          ]
        }
      ]
    },
    {
      "cell_type": "markdown",
      "metadata": {
        "id": "zmJAnmO-5AcU"
      },
      "source": [
        "#### Save preprocessor function to local \"preprocessor.zip\" file"
      ]
    },
    {
      "cell_type": "code",
      "metadata": {
        "colab": {
          "base_uri": "https://localhost:8080/"
        },
        "id": "4VGacc0LDaMA",
        "outputId": "86590a69-2307-4f42-c2f8-18928246247d"
      },
      "source": [
        "import aimodelshare as ai\n",
        "ai.export_preprocessor(preprocessor,\"\") "
      ],
      "execution_count": 6,
      "outputs": [
        {
          "output_type": "stream",
          "name": "stdout",
          "text": [
            "Your preprocessor is now saved to 'preprocessor.zip'\n"
          ]
        }
      ]
    },
    {
      "cell_type": "markdown",
      "metadata": {
        "id": "oOWBa8Cv5LdL"
      },
      "source": [
        "#### Save model to local \".onnx\" file"
      ]
    },
    {
      "cell_type": "code",
      "metadata": {
        "id": "pEhvnRiQDlY5"
      },
      "source": [
        "# Save keras model to local ONNX file\n",
        "from aimodelshare.aimsonnx import model_to_onnx\n",
        "\n",
        "onnx_model = model_to_onnx(model, framework='keras',\n",
        "                          transfer_learning=False,\n",
        "                          deep_learning=True)\n",
        "\n",
        "with open(\"model.onnx\", \"wb\") as f:\n",
        "    f.write(onnx_model.SerializeToString())"
      ],
      "execution_count": 7,
      "outputs": []
    },
    {
      "cell_type": "markdown",
      "metadata": {
        "id": "gHWkAzvX3m8O"
      },
      "source": [
        "## 4. Generate predictions from X_test data and submit model to competition\n"
      ]
    },
    {
      "cell_type": "code",
      "metadata": {
        "colab": {
          "base_uri": "https://localhost:8080/"
        },
        "id": "RtgkM02MDpkO",
        "outputId": "48c63560-7e78-4333-c4b9-0ddbde34664d"
      },
      "source": [
        "#Set credentials using modelshare.org username/password\n",
        "\n",
        "from aimodelshare.aws import set_credentials\n",
        "    \n",
        "apiurl=\"https://zf3g9o9owf.execute-api.us-east-1.amazonaws.com/prod/m\" #This is the unique rest api that powers this IMDB movie review classification Playground\n",
        "\n",
        "set_credentials(apiurl=apiurl)"
      ],
      "execution_count": 8,
      "outputs": [
        {
          "output_type": "stream",
          "name": "stdout",
          "text": [
            "AI Modelshare Username:··········\n",
            "AI Modelshare Password:··········\n",
            "AI Model Share login credentials set successfully.\n"
          ]
        }
      ]
    },
    {
      "cell_type": "code",
      "metadata": {
        "id": "fKNGSww8EGgi"
      },
      "source": [
        "#Instantiate Competition\n",
        "\n",
        "mycompetition= ai.Competition(apiurl)"
      ],
      "execution_count": 9,
      "outputs": []
    },
    {
      "cell_type": "code",
      "metadata": {
        "id": "_Ql4wksyEUnP",
        "colab": {
          "base_uri": "https://localhost:8080/"
        },
        "outputId": "e2f44d5e-8d02-419a-c51b-3561b08c15da"
      },
      "source": [
        "#Submit Model 1: \n",
        "\n",
        "#-- Generate predicted y values (Model 1)\n",
        "#Note: Keras predict returns the predicted column index location for classification models\n",
        "prediction_column_index=model.predict(preprocessor(X_test)).argmax(axis=1)\n",
        "\n",
        "# extract correct prediction labels \n",
        "prediction_labels = [y_train.columns[i] for i in prediction_column_index]\n",
        "\n",
        "# Submit Model 1 to Competition Leaderboard\n",
        "mycompetition.submit_model(model_filepath = \"model.onnx\",\n",
        "                                 preprocessor_filepath=\"preprocessor.zip\",\n",
        "                                 prediction_submission=prediction_labels)"
      ],
      "execution_count": 10,
      "outputs": [
        {
          "output_type": "stream",
          "name": "stdout",
          "text": [
            "Insert search tags to help users find your model (optional): \n",
            "Provide any useful notes about your model (optional): \n",
            "\n",
            "Your model has been submitted as model version 3\n",
            "\n",
            "To submit code used to create this model or to view current leaderboard navigate to Model Playground: \n",
            "\n",
            " https://www.modelshare.org/detail/model:1660\n"
          ]
        }
      ]
    },
    {
      "cell_type": "code",
      "metadata": {
        "colab": {
          "base_uri": "https://localhost:8080/",
          "height": 138
        },
        "id": "GN1zvAmNEq17",
        "outputId": "5023bff7-2236-41ee-9793-3ed5171bec38"
      },
      "source": [
        "# Get leaderboard to explore current best model architectures\n",
        "\n",
        "# Get raw data in pandas data frame\n",
        "data = mycompetition.get_leaderboard()\n",
        "\n",
        "# Stylize leaderboard data\n",
        "mycompetition.stylize_leaderboard(data)"
      ],
      "execution_count": 11,
      "outputs": [
        {
          "output_type": "execute_result",
          "data": {
            "text/plain": [
              "<pandas.io.formats.style.Styler at 0x7f6646137690>"
            ],
            "text/html": [
              "<style type=\"text/css\">\n",
              "#T_0a45a_row0_col0 {\n",
              "  text-align: center;\n",
              "  width: 10em;\n",
              "  height: 80%;\n",
              "  background: linear-gradient(90deg,#f5f8d6 85.3%, transparent 85.3%);\n",
              "  color: #251e1b;\n",
              "  font-size: 12px;\n",
              "}\n",
              "#T_0a45a_row0_col1 {\n",
              "  text-align: center;\n",
              "  width: 10em;\n",
              "  height: 80%;\n",
              "  background: linear-gradient(90deg,#c778c8 85.3%, transparent 85.3%);\n",
              "  color: #251e1b;\n",
              "  font-size: 12px;\n",
              "}\n",
              "#T_0a45a_row0_col2 {\n",
              "  text-align: center;\n",
              "  width: 10em;\n",
              "  height: 80%;\n",
              "  background: linear-gradient(90deg,#ff4971 85.4%, transparent 85.4%);\n",
              "  color: #251e1b;\n",
              "  font-size: 12px;\n",
              "}\n",
              "#T_0a45a_row0_col3 {\n",
              "  text-align: center;\n",
              "  width: 10em;\n",
              "  height: 80%;\n",
              "  background: linear-gradient(90deg,#aadbaa 85.3%, transparent 85.3%);\n",
              "  color: #251e1b;\n",
              "  font-size: 12px;\n",
              "}\n",
              "#T_0a45a_row0_col4, #T_0a45a_row0_col5, #T_0a45a_row0_col6, #T_0a45a_row0_col7, #T_0a45a_row0_col8, #T_0a45a_row0_col9, #T_0a45a_row0_col10, #T_0a45a_row0_col11, #T_0a45a_row0_col12, #T_0a45a_row0_col13, #T_0a45a_row0_col14, #T_0a45a_row0_col15, #T_0a45a_row0_col16, #T_0a45a_row0_col17, #T_0a45a_row0_col18, #T_0a45a_row0_col19, #T_0a45a_row0_col20, #T_0a45a_row1_col4, #T_0a45a_row1_col5, #T_0a45a_row1_col6, #T_0a45a_row1_col7, #T_0a45a_row1_col8, #T_0a45a_row1_col9, #T_0a45a_row1_col10, #T_0a45a_row1_col11, #T_0a45a_row1_col12, #T_0a45a_row1_col13, #T_0a45a_row1_col14, #T_0a45a_row1_col15, #T_0a45a_row1_col16, #T_0a45a_row1_col17, #T_0a45a_row1_col18, #T_0a45a_row1_col19, #T_0a45a_row1_col20, #T_0a45a_row2_col4, #T_0a45a_row2_col5, #T_0a45a_row2_col6, #T_0a45a_row2_col7, #T_0a45a_row2_col8, #T_0a45a_row2_col9, #T_0a45a_row2_col10, #T_0a45a_row2_col11, #T_0a45a_row2_col12, #T_0a45a_row2_col13, #T_0a45a_row2_col14, #T_0a45a_row2_col15, #T_0a45a_row2_col16, #T_0a45a_row2_col17, #T_0a45a_row2_col18, #T_0a45a_row2_col19, #T_0a45a_row2_col20 {\n",
              "  text-align: center;\n",
              "}\n",
              "#T_0a45a_row1_col0 {\n",
              "  text-align: center;\n",
              "  width: 10em;\n",
              "  height: 80%;\n",
              "  background: linear-gradient(90deg,#f5f8d6 84.8%, transparent 84.8%);\n",
              "  color: #251e1b;\n",
              "  font-size: 12px;\n",
              "}\n",
              "#T_0a45a_row1_col1 {\n",
              "  text-align: center;\n",
              "  width: 10em;\n",
              "  height: 80%;\n",
              "  background: linear-gradient(90deg,#c778c8 84.8%, transparent 84.8%);\n",
              "  color: #251e1b;\n",
              "  font-size: 12px;\n",
              "}\n",
              "#T_0a45a_row1_col2 {\n",
              "  text-align: center;\n",
              "  width: 10em;\n",
              "  height: 80%;\n",
              "  background: linear-gradient(90deg,#ff4971 85.1%, transparent 85.1%);\n",
              "  color: #251e1b;\n",
              "  font-size: 12px;\n",
              "}\n",
              "#T_0a45a_row1_col3 {\n",
              "  text-align: center;\n",
              "  width: 10em;\n",
              "  height: 80%;\n",
              "  background: linear-gradient(90deg,#aadbaa 84.8%, transparent 84.8%);\n",
              "  color: #251e1b;\n",
              "  font-size: 12px;\n",
              "}\n",
              "#T_0a45a_row2_col0 {\n",
              "  text-align: center;\n",
              "  width: 10em;\n",
              "  height: 80%;\n",
              "  background: linear-gradient(90deg,#f5f8d6 84.3%, transparent 84.3%);\n",
              "  color: #251e1b;\n",
              "  font-size: 12px;\n",
              "}\n",
              "#T_0a45a_row2_col1 {\n",
              "  text-align: center;\n",
              "  width: 10em;\n",
              "  height: 80%;\n",
              "  background: linear-gradient(90deg,#c778c8 84.2%, transparent 84.2%);\n",
              "  color: #251e1b;\n",
              "  font-size: 12px;\n",
              "}\n",
              "#T_0a45a_row2_col2 {\n",
              "  text-align: center;\n",
              "  width: 10em;\n",
              "  height: 80%;\n",
              "  background: linear-gradient(90deg,#ff4971 84.5%, transparent 84.5%);\n",
              "  color: #251e1b;\n",
              "  font-size: 12px;\n",
              "}\n",
              "#T_0a45a_row2_col3 {\n",
              "  text-align: center;\n",
              "  width: 10em;\n",
              "  height: 80%;\n",
              "  background: linear-gradient(90deg,#aadbaa 84.3%, transparent 84.3%);\n",
              "  color: #251e1b;\n",
              "  font-size: 12px;\n",
              "}\n",
              "</style>\n",
              "<table id=\"T_0a45a_\" class=\"dataframe\">\n",
              "  <thead>\n",
              "    <tr>\n",
              "      <th class=\"blank level0\" >&nbsp;</th>\n",
              "      <th class=\"col_heading level0 col0\" >accuracy</th>\n",
              "      <th class=\"col_heading level0 col1\" >f1_score</th>\n",
              "      <th class=\"col_heading level0 col2\" >precision</th>\n",
              "      <th class=\"col_heading level0 col3\" >recall</th>\n",
              "      <th class=\"col_heading level0 col4\" >ml_framework</th>\n",
              "      <th class=\"col_heading level0 col5\" >transfer_learning</th>\n",
              "      <th class=\"col_heading level0 col6\" >deep_learning</th>\n",
              "      <th class=\"col_heading level0 col7\" >model_type</th>\n",
              "      <th class=\"col_heading level0 col8\" >depth</th>\n",
              "      <th class=\"col_heading level0 col9\" >num_params</th>\n",
              "      <th class=\"col_heading level0 col10\" >embedding_layers</th>\n",
              "      <th class=\"col_heading level0 col11\" >lstm_layers</th>\n",
              "      <th class=\"col_heading level0 col12\" >dense_layers</th>\n",
              "      <th class=\"col_heading level0 col13\" >flatten_layers</th>\n",
              "      <th class=\"col_heading level0 col14\" >tanh_act</th>\n",
              "      <th class=\"col_heading level0 col15\" >softmax_act</th>\n",
              "      <th class=\"col_heading level0 col16\" >loss</th>\n",
              "      <th class=\"col_heading level0 col17\" >optimizer</th>\n",
              "      <th class=\"col_heading level0 col18\" >memory_size</th>\n",
              "      <th class=\"col_heading level0 col19\" >username</th>\n",
              "      <th class=\"col_heading level0 col20\" >version</th>\n",
              "    </tr>\n",
              "  </thead>\n",
              "  <tbody>\n",
              "    <tr>\n",
              "      <th id=\"T_0a45a_level0_row0\" class=\"row_heading level0 row0\" >0</th>\n",
              "      <td id=\"T_0a45a_row0_col0\" class=\"data row0 col0\" >85.34%</td>\n",
              "      <td id=\"T_0a45a_row0_col1\" class=\"data row0 col1\" >85.34%</td>\n",
              "      <td id=\"T_0a45a_row0_col2\" class=\"data row0 col2\" >85.41%</td>\n",
              "      <td id=\"T_0a45a_row0_col3\" class=\"data row0 col3\" >85.34%</td>\n",
              "      <td id=\"T_0a45a_row0_col4\" class=\"data row0 col4\" >keras</td>\n",
              "      <td id=\"T_0a45a_row0_col5\" class=\"data row0 col5\" >False</td>\n",
              "      <td id=\"T_0a45a_row0_col6\" class=\"data row0 col6\" >True</td>\n",
              "      <td id=\"T_0a45a_row0_col7\" class=\"data row0 col7\" >Sequential</td>\n",
              "      <td id=\"T_0a45a_row0_col8\" class=\"data row0 col8\" >3</td>\n",
              "      <td id=\"T_0a45a_row0_col9\" class=\"data row0 col9\" >83202</td>\n",
              "      <td id=\"T_0a45a_row0_col10\" class=\"data row0 col10\" >1</td>\n",
              "      <td id=\"T_0a45a_row0_col11\" class=\"data row0 col11\" >nan</td>\n",
              "      <td id=\"T_0a45a_row0_col12\" class=\"data row0 col12\" >1</td>\n",
              "      <td id=\"T_0a45a_row0_col13\" class=\"data row0 col13\" >1</td>\n",
              "      <td id=\"T_0a45a_row0_col14\" class=\"data row0 col14\" >nan</td>\n",
              "      <td id=\"T_0a45a_row0_col15\" class=\"data row0 col15\" >1</td>\n",
              "      <td id=\"T_0a45a_row0_col16\" class=\"data row0 col16\" >str</td>\n",
              "      <td id=\"T_0a45a_row0_col17\" class=\"data row0 col17\" >RMSprop</td>\n",
              "      <td id=\"T_0a45a_row0_col18\" class=\"data row0 col18\" >1413536</td>\n",
              "      <td id=\"T_0a45a_row0_col19\" class=\"data row0 col19\" >AIModelShare</td>\n",
              "      <td id=\"T_0a45a_row0_col20\" class=\"data row0 col20\" >3</td>\n",
              "    </tr>\n",
              "    <tr>\n",
              "      <th id=\"T_0a45a_level0_row1\" class=\"row_heading level0 row1\" >1</th>\n",
              "      <td id=\"T_0a45a_row1_col0\" class=\"data row1 col0\" >84.80%</td>\n",
              "      <td id=\"T_0a45a_row1_col1\" class=\"data row1 col1\" >84.77%</td>\n",
              "      <td id=\"T_0a45a_row1_col2\" class=\"data row1 col2\" >85.06%</td>\n",
              "      <td id=\"T_0a45a_row1_col3\" class=\"data row1 col3\" >84.80%</td>\n",
              "      <td id=\"T_0a45a_row1_col4\" class=\"data row1 col4\" >keras</td>\n",
              "      <td id=\"T_0a45a_row1_col5\" class=\"data row1 col5\" >False</td>\n",
              "      <td id=\"T_0a45a_row1_col6\" class=\"data row1 col6\" >True</td>\n",
              "      <td id=\"T_0a45a_row1_col7\" class=\"data row1 col7\" >Sequential</td>\n",
              "      <td id=\"T_0a45a_row1_col8\" class=\"data row1 col8\" >3</td>\n",
              "      <td id=\"T_0a45a_row1_col9\" class=\"data row1 col9\" >83202</td>\n",
              "      <td id=\"T_0a45a_row1_col10\" class=\"data row1 col10\" >1</td>\n",
              "      <td id=\"T_0a45a_row1_col11\" class=\"data row1 col11\" >nan</td>\n",
              "      <td id=\"T_0a45a_row1_col12\" class=\"data row1 col12\" >1</td>\n",
              "      <td id=\"T_0a45a_row1_col13\" class=\"data row1 col13\" >1</td>\n",
              "      <td id=\"T_0a45a_row1_col14\" class=\"data row1 col14\" >nan</td>\n",
              "      <td id=\"T_0a45a_row1_col15\" class=\"data row1 col15\" >1</td>\n",
              "      <td id=\"T_0a45a_row1_col16\" class=\"data row1 col16\" >function</td>\n",
              "      <td id=\"T_0a45a_row1_col17\" class=\"data row1 col17\" >RMSprop</td>\n",
              "      <td id=\"T_0a45a_row1_col18\" class=\"data row1 col18\" >145672</td>\n",
              "      <td id=\"T_0a45a_row1_col19\" class=\"data row1 col19\" >AIModelShare</td>\n",
              "      <td id=\"T_0a45a_row1_col20\" class=\"data row1 col20\" >1</td>\n",
              "    </tr>\n",
              "    <tr>\n",
              "      <th id=\"T_0a45a_level0_row2\" class=\"row_heading level0 row2\" >2</th>\n",
              "      <td id=\"T_0a45a_row2_col0\" class=\"data row2 col0\" >84.27%</td>\n",
              "      <td id=\"T_0a45a_row2_col1\" class=\"data row2 col1\" >84.25%</td>\n",
              "      <td id=\"T_0a45a_row2_col2\" class=\"data row2 col2\" >84.51%</td>\n",
              "      <td id=\"T_0a45a_row2_col3\" class=\"data row2 col3\" >84.27%</td>\n",
              "      <td id=\"T_0a45a_row2_col4\" class=\"data row2 col4\" >keras</td>\n",
              "      <td id=\"T_0a45a_row2_col5\" class=\"data row2 col5\" >False</td>\n",
              "      <td id=\"T_0a45a_row2_col6\" class=\"data row2 col6\" >True</td>\n",
              "      <td id=\"T_0a45a_row2_col7\" class=\"data row2 col7\" >Sequential</td>\n",
              "      <td id=\"T_0a45a_row2_col8\" class=\"data row2 col8\" >4</td>\n",
              "      <td id=\"T_0a45a_row2_col9\" class=\"data row2 col9\" >86338</td>\n",
              "      <td id=\"T_0a45a_row2_col10\" class=\"data row2 col10\" >1</td>\n",
              "      <td id=\"T_0a45a_row2_col11\" class=\"data row2 col11\" >1.000000</td>\n",
              "      <td id=\"T_0a45a_row2_col12\" class=\"data row2 col12\" >1</td>\n",
              "      <td id=\"T_0a45a_row2_col13\" class=\"data row2 col13\" >1</td>\n",
              "      <td id=\"T_0a45a_row2_col14\" class=\"data row2 col14\" >1.000000</td>\n",
              "      <td id=\"T_0a45a_row2_col15\" class=\"data row2 col15\" >1</td>\n",
              "      <td id=\"T_0a45a_row2_col16\" class=\"data row2 col16\" >function</td>\n",
              "      <td id=\"T_0a45a_row2_col17\" class=\"data row2 col17\" >RMSprop</td>\n",
              "      <td id=\"T_0a45a_row2_col18\" class=\"data row2 col18\" >1195144</td>\n",
              "      <td id=\"T_0a45a_row2_col19\" class=\"data row2 col19\" >AIModelShare</td>\n",
              "      <td id=\"T_0a45a_row2_col20\" class=\"data row2 col20\" >2</td>\n",
              "    </tr>\n",
              "  </tbody>\n",
              "</table>\n"
            ]
          },
          "metadata": {},
          "execution_count": 11
        }
      ]
    },
    {
      "cell_type": "markdown",
      "metadata": {
        "id": "bwNKs0wP4r5s"
      },
      "source": [
        "## 5. Repeat submission process to improve place on leaderboard\n"
      ]
    },
    {
      "cell_type": "code",
      "metadata": {
        "colab": {
          "base_uri": "https://localhost:8080/"
        },
        "id": "FgSs5PAtPCZH",
        "outputId": "a1faf6aa-2ef9-4c1a-e771-8d7fb79f6fac"
      },
      "source": [
        "# Train and submit model 2 using same preprocessor (note that you could save a new preprocessor, but we will use the same one for this example).\n",
        "from tensorflow.keras.models import Sequential\n",
        "from tensorflow.keras.layers import Dense, Embedding, LSTM, Flatten\n",
        "\n",
        "model2 = Sequential()\n",
        "model2.add(Embedding(5000, 16, input_length=100))\n",
        "model2.add(LSTM(32, return_sequences=True, dropout=0.2))\n",
        "model2.add(LSTM(32, dropout=0.2))\n",
        "model2.add(Flatten())\n",
        "model2.add(Dense(2, activation='softmax'))\n",
        "\n",
        "model2.compile(optimizer='rmsprop', loss='binary_crossentropy', metrics=['acc'])\n",
        "history = model2.fit(preprocessor(X_train), y_train,\n",
        "                    epochs=1,\n",
        "                    batch_size=32,\n",
        "                    validation_split=0.2)"
      ],
      "execution_count": 12,
      "outputs": [
        {
          "output_type": "stream",
          "name": "stdout",
          "text": [
            "938/938 [==============================] - 93s 94ms/step - loss: 0.4174 - acc: 0.8043 - val_loss: 0.3629 - val_acc: 0.8441\n"
          ]
        }
      ]
    },
    {
      "cell_type": "code",
      "metadata": {
        "id": "aIdmSpYVPYAw"
      },
      "source": [
        "# Save keras model to local ONNX file\n",
        "from aimodelshare.aimsonnx import model_to_onnx\n",
        "\n",
        "onnx_model = model_to_onnx(model2, framework='keras',\n",
        "                          transfer_learning=False,\n",
        "                          deep_learning=True)\n",
        "\n",
        "with open(\"model2.onnx\", \"wb\") as f:\n",
        "    f.write(onnx_model.SerializeToString())"
      ],
      "execution_count": 13,
      "outputs": []
    },
    {
      "cell_type": "code",
      "metadata": {
        "colab": {
          "base_uri": "https://localhost:8080/"
        },
        "id": "nszPPrfwPlUk",
        "outputId": "da9f30fe-bb0f-439a-909b-2fe1e02eac97"
      },
      "source": [
        "#Submit Model 2: \n",
        "\n",
        "#-- Generate predicted y values (Model 2)\n",
        "prediction_column_index=model2.predict(preprocessor(X_test)).argmax(axis=1)\n",
        "\n",
        "# extract correct prediction labels \n",
        "prediction_labels = [y_train.columns[i] for i in prediction_column_index]\n",
        "\n",
        "# Submit Model 2 to Competition Leaderboard\n",
        "mycompetition.submit_model(model_filepath = \"model2.onnx\",\n",
        "                                 preprocessor_filepath=\"preprocessor.zip\",\n",
        "                                 prediction_submission=prediction_labels)"
      ],
      "execution_count": 14,
      "outputs": [
        {
          "output_type": "stream",
          "name": "stdout",
          "text": [
            "Insert search tags to help users find your model (optional): \n",
            "Provide any useful notes about your model (optional): \n",
            "\n",
            "Your model has been submitted as model version 4\n",
            "\n",
            "To submit code used to create this model or to view current leaderboard navigate to Model Playground: \n",
            "\n",
            " https://www.modelshare.org/detail/model:1660\n"
          ]
        }
      ]
    },
    {
      "cell_type": "code",
      "metadata": {
        "colab": {
          "base_uri": "https://localhost:8080/",
          "height": 144
        },
        "id": "qLl7yLpVEx26",
        "outputId": "882a30f9-4dd5-4d0c-da26-dd9781c644a6"
      },
      "source": [
        "# Compare two or more models\n",
        "data=mycompetition.compare_models([3, 4], verbose=1)\n",
        "mycompetition.stylize_compare(data)"
      ],
      "execution_count": 15,
      "outputs": [
        {
          "output_type": "display_data",
          "data": {
            "text/plain": [
              "<IPython.core.display.HTML object>"
            ],
            "text/html": [
              "<style type=\"text/css\">\n",
              "#T_0d55e_ caption {\n",
              "  color: black;\n",
              "  font-size: 18px;\n",
              "}\n",
              "#T_0d55e_row0_col0, #T_0d55e_row0_col3 {\n",
              "  background: #f4cae4;\n",
              "  color: black;\n",
              "  color: black;\n",
              "}\n",
              "#T_0d55e_row0_col1, #T_0d55e_row0_col2, #T_0d55e_row0_col4, #T_0d55e_row0_col5, #T_0d55e_row1_col1, #T_0d55e_row1_col2, #T_0d55e_row1_col4, #T_0d55e_row1_col5, #T_0d55e_row2_col1, #T_0d55e_row2_col2, #T_0d55e_row2_col4, #T_0d55e_row2_col5, #T_0d55e_row3_col0, #T_0d55e_row3_col1, #T_0d55e_row3_col2, #T_0d55e_row3_col4, #T_0d55e_row3_col5, #T_0d55e_row4_col0, #T_0d55e_row4_col1, #T_0d55e_row4_col2, #T_0d55e_row4_col4, #T_0d55e_row4_col5 {\n",
              "  background: white;\n",
              "  color: black;\n",
              "  color: black;\n",
              "}\n",
              "#T_0d55e_row1_col0, #T_0d55e_row3_col3 {\n",
              "  background: #e6f5c9;\n",
              "  color: black;\n",
              "  color: black;\n",
              "}\n",
              "#T_0d55e_row1_col3, #T_0d55e_row2_col3 {\n",
              "  background: #cbd5e8;\n",
              "  color: black;\n",
              "  color: black;\n",
              "}\n",
              "#T_0d55e_row2_col0, #T_0d55e_row4_col3 {\n",
              "  background: #fff2ae;\n",
              "  color: black;\n",
              "  color: black;\n",
              "}\n",
              "</style>\n",
              "<table id=\"T_0d55e_\">\n",
              "  <caption>Model type: Neural Network</caption>\n",
              "  <thead>\n",
              "    <tr>\n",
              "      <th class=\"blank level0\" >&nbsp;</th>\n",
              "      <th class=\"col_heading level0 col0\" >Model_3_Layer</th>\n",
              "      <th class=\"col_heading level0 col1\" >Model_3_Shape</th>\n",
              "      <th class=\"col_heading level0 col2\" >Model_3_Params</th>\n",
              "      <th class=\"col_heading level0 col3\" >Model_4_Layer</th>\n",
              "      <th class=\"col_heading level0 col4\" >Model_4_Shape</th>\n",
              "      <th class=\"col_heading level0 col5\" >Model_4_Params</th>\n",
              "    </tr>\n",
              "  </thead>\n",
              "  <tbody>\n",
              "    <tr>\n",
              "      <th id=\"T_0d55e_level0_row0\" class=\"row_heading level0 row0\" >0</th>\n",
              "      <td id=\"T_0d55e_row0_col0\" class=\"data row0 col0\" >Embedding</td>\n",
              "      <td id=\"T_0d55e_row0_col1\" class=\"data row0 col1\" >[None, 100, 16]</td>\n",
              "      <td id=\"T_0d55e_row0_col2\" class=\"data row0 col2\" >80000.000000</td>\n",
              "      <td id=\"T_0d55e_row0_col3\" class=\"data row0 col3\" >Embedding</td>\n",
              "      <td id=\"T_0d55e_row0_col4\" class=\"data row0 col4\" >[None, 100, 16]</td>\n",
              "      <td id=\"T_0d55e_row0_col5\" class=\"data row0 col5\" >80000</td>\n",
              "    </tr>\n",
              "    <tr>\n",
              "      <th id=\"T_0d55e_level0_row1\" class=\"row_heading level0 row1\" >1</th>\n",
              "      <td id=\"T_0d55e_row1_col0\" class=\"data row1 col0\" >Flatten</td>\n",
              "      <td id=\"T_0d55e_row1_col1\" class=\"data row1 col1\" >[None, 1600]</td>\n",
              "      <td id=\"T_0d55e_row1_col2\" class=\"data row1 col2\" >0.000000</td>\n",
              "      <td id=\"T_0d55e_row1_col3\" class=\"data row1 col3\" >LSTM</td>\n",
              "      <td id=\"T_0d55e_row1_col4\" class=\"data row1 col4\" >[None, 100, 32]</td>\n",
              "      <td id=\"T_0d55e_row1_col5\" class=\"data row1 col5\" >6272</td>\n",
              "    </tr>\n",
              "    <tr>\n",
              "      <th id=\"T_0d55e_level0_row2\" class=\"row_heading level0 row2\" >2</th>\n",
              "      <td id=\"T_0d55e_row2_col0\" class=\"data row2 col0\" >Dense</td>\n",
              "      <td id=\"T_0d55e_row2_col1\" class=\"data row2 col1\" >[None, 2]</td>\n",
              "      <td id=\"T_0d55e_row2_col2\" class=\"data row2 col2\" >3202.000000</td>\n",
              "      <td id=\"T_0d55e_row2_col3\" class=\"data row2 col3\" >LSTM</td>\n",
              "      <td id=\"T_0d55e_row2_col4\" class=\"data row2 col4\" >[None, 32]</td>\n",
              "      <td id=\"T_0d55e_row2_col5\" class=\"data row2 col5\" >8320</td>\n",
              "    </tr>\n",
              "    <tr>\n",
              "      <th id=\"T_0d55e_level0_row3\" class=\"row_heading level0 row3\" >3</th>\n",
              "      <td id=\"T_0d55e_row3_col0\" class=\"data row3 col0\" >None</td>\n",
              "      <td id=\"T_0d55e_row3_col1\" class=\"data row3 col1\" >None</td>\n",
              "      <td id=\"T_0d55e_row3_col2\" class=\"data row3 col2\" >nan</td>\n",
              "      <td id=\"T_0d55e_row3_col3\" class=\"data row3 col3\" >Flatten</td>\n",
              "      <td id=\"T_0d55e_row3_col4\" class=\"data row3 col4\" >[None, 32]</td>\n",
              "      <td id=\"T_0d55e_row3_col5\" class=\"data row3 col5\" >0</td>\n",
              "    </tr>\n",
              "    <tr>\n",
              "      <th id=\"T_0d55e_level0_row4\" class=\"row_heading level0 row4\" >4</th>\n",
              "      <td id=\"T_0d55e_row4_col0\" class=\"data row4 col0\" >None</td>\n",
              "      <td id=\"T_0d55e_row4_col1\" class=\"data row4 col1\" >None</td>\n",
              "      <td id=\"T_0d55e_row4_col2\" class=\"data row4 col2\" >nan</td>\n",
              "      <td id=\"T_0d55e_row4_col3\" class=\"data row4 col3\" >Dense</td>\n",
              "      <td id=\"T_0d55e_row4_col4\" class=\"data row4 col4\" >[None, 2]</td>\n",
              "      <td id=\"T_0d55e_row4_col5\" class=\"data row4 col5\" >66</td>\n",
              "    </tr>\n",
              "  </tbody>\n",
              "</table>\n"
            ]
          },
          "metadata": {}
        }
      ]
    },
    {
      "cell_type": "markdown",
      "metadata": {
        "id": "Pl67bOO-lz9k"
      },
      "source": [
        "## Optional: Tune model within range of hyperparameters with Keras Tuner\n",
        "\n",
        "*Simple example shown below. Consult [documentation](https://keras.io/guides/keras_tuner/getting_started/) to see full functionality.*"
      ]
    },
    {
      "cell_type": "code",
      "metadata": {
        "id": "MOGXwppct0KI"
      },
      "source": [
        "! pip install keras_tuner"
      ],
      "execution_count": null,
      "outputs": []
    },
    {
      "cell_type": "code",
      "metadata": {
        "id": "O7o_zA3fv-ra"
      },
      "source": [
        "#Separate validation data \n",
        "from sklearn.model_selection import train_test_split\n",
        "x_train_split, x_val, y_train_split, y_val = train_test_split(\n",
        "     X_train, y_train, test_size=0.2, random_state=42)"
      ],
      "execution_count": 17,
      "outputs": []
    },
    {
      "cell_type": "code",
      "metadata": {
        "colab": {
          "base_uri": "https://localhost:8080/"
        },
        "id": "olzZ7aposfwH",
        "outputId": "69b862e9-6691-4fd8-85c6-3b4fddde0bf4"
      },
      "source": [
        "from tensorflow import keras\n",
        "from tensorflow.keras.models import Sequential\n",
        "from tensorflow.keras.layers import Dense, Embedding, LSTM, Flatten\n",
        "import keras_tuner as kt\n",
        "\n",
        "#Define model structure & parameter search space with function\n",
        "def build_model(hp):\n",
        "    model = keras.Sequential()\n",
        "    model.add(Embedding(5000, 16, input_length=100))\n",
        "    model.add(LSTM(units=hp.Int(\"units\", min_value=32, max_value=512, step=32), #range 32-512 inclusive, minimum step between tested values is 32\n",
        "                   return_sequences=True, dropout=0.2))\n",
        "    model.add(Flatten())\n",
        "    model.add(Dense(2, activation='softmax'))\n",
        "    model.compile(\n",
        "        optimizer=\"rmsprop\", loss=\"binary_crossentropy\", metrics=[\"accuracy\"],\n",
        "    )\n",
        "    return model\n",
        "\n",
        "#initialize the tuner (which will search through parameters)\n",
        "tuner = kt.RandomSearch(\n",
        "    hypermodel=build_model, \n",
        "    objective=\"val_accuracy\", # objective to optimize\n",
        "    max_trials=3, #max number of trials to run during search\n",
        "    executions_per_trial=1, #higher number reduces variance of results; guages model performance more accurately \n",
        "    overwrite=True,\n",
        "    directory=\"tuning_model\",\n",
        "    project_name=\"tuning_units\",\n",
        ")\n",
        "\n",
        "tuner.search(preprocessor(x_train_split), y_train_split, epochs=1, validation_data=(preprocessor(x_val), y_val))\n"
      ],
      "execution_count": 18,
      "outputs": [
        {
          "output_type": "stream",
          "name": "stdout",
          "text": [
            "Trial 3 Complete [00h 04m 25s]\n",
            "val_accuracy: 0.8486666679382324\n",
            "\n",
            "Best val_accuracy So Far: 0.8609333038330078\n",
            "Total elapsed time: 00h 23m 19s\n"
          ]
        }
      ]
    },
    {
      "cell_type": "code",
      "metadata": {
        "colab": {
          "base_uri": "https://localhost:8080/"
        },
        "id": "0YaEbvJ2yND1",
        "outputId": "08d4b803-1c6d-45c7-cd2e-75dead10f91b"
      },
      "source": [
        "# Build model with best hyperparameters\n",
        "\n",
        "# Get the top 2 hyperparameters.\n",
        "best_hps = tuner.get_best_hyperparameters(5)\n",
        "# Build the model with the best hp.\n",
        "tuned_model = build_model(best_hps[0])\n",
        "# Fit with the entire dataset.\n",
        "tuned_model.fit(x=preprocessor(X_train), y=y_train, epochs=1)\n"
      ],
      "execution_count": 19,
      "outputs": [
        {
          "output_type": "stream",
          "name": "stdout",
          "text": [
            "1172/1172 [==============================] - 850s 721ms/step - loss: 0.4243 - accuracy: 0.8083\n"
          ]
        },
        {
          "output_type": "execute_result",
          "data": {
            "text/plain": [
              "<keras.callbacks.History at 0x7f6645172850>"
            ]
          },
          "metadata": {},
          "execution_count": 19
        }
      ]
    },
    {
      "cell_type": "code",
      "metadata": {
        "id": "HvLuIvOjHLH2"
      },
      "source": [
        "# Save keras model to local ONNX file\n",
        "from aimodelshare.aimsonnx import model_to_onnx\n",
        "\n",
        "onnx_model = model_to_onnx(tuned_model, framework='keras',\n",
        "                          transfer_learning=False,\n",
        "                          deep_learning=True)\n",
        "\n",
        "with open(\"tuned_model.onnx\", \"wb\") as f:\n",
        "    f.write(onnx_model.SerializeToString())"
      ],
      "execution_count": 20,
      "outputs": []
    },
    {
      "cell_type": "code",
      "metadata": {
        "id": "sMidHABfHVN7",
        "colab": {
          "base_uri": "https://localhost:8080/"
        },
        "outputId": "7d2d192f-74b5-4a1e-f736-d26f15cb330e"
      },
      "source": [
        "#Submit Model 3: \n",
        "\n",
        "#-- Generate predicted y values (Model 3)\n",
        "prediction_column_index=tuned_model.predict(preprocessor(X_test)).argmax(axis=1)\n",
        "\n",
        "# extract correct prediction labels \n",
        "prediction_labels = [y_train.columns[i] for i in prediction_column_index]\n",
        "\n",
        "# Submit Model 1 to Competition Leaderboard\n",
        "mycompetition.submit_model(model_filepath = \"tuned_model.onnx\",\n",
        "                                 preprocessor_filepath=\"preprocessor.zip\",\n",
        "                                 prediction_submission=prediction_labels)"
      ],
      "execution_count": 21,
      "outputs": [
        {
          "output_type": "stream",
          "name": "stdout",
          "text": [
            "Insert search tags to help users find your model (optional): \n",
            "Provide any useful notes about your model (optional): \n",
            "\n",
            "Your model has been submitted as model version 5\n",
            "\n",
            "To submit code used to create this model or to view current leaderboard navigate to Model Playground: \n",
            "\n",
            " https://www.modelshare.org/detail/model:1660\n"
          ]
        }
      ]
    },
    {
      "cell_type": "code",
      "metadata": {
        "id": "hn-Tp-zpJVGT",
        "colab": {
          "base_uri": "https://localhost:8080/",
          "height": 189
        },
        "outputId": "1a2e3554-f59c-460f-e4a0-714fbe654dbf"
      },
      "source": [
        "# Get leaderboard\n",
        "\n",
        "data = mycompetition.get_leaderboard()\n",
        "mycompetition.stylize_leaderboard(data)"
      ],
      "execution_count": 22,
      "outputs": [
        {
          "output_type": "execute_result",
          "data": {
            "text/plain": [
              "<pandas.io.formats.style.Styler at 0x7f66427162d0>"
            ],
            "text/html": [
              "<style type=\"text/css\">\n",
              "#T_eb564_row0_col0 {\n",
              "  text-align: center;\n",
              "  width: 10em;\n",
              "  height: 80%;\n",
              "  background: linear-gradient(90deg,#f5f8d6 85.4%, transparent 85.4%);\n",
              "  color: #251e1b;\n",
              "  font-size: 12px;\n",
              "}\n",
              "#T_eb564_row0_col1 {\n",
              "  text-align: center;\n",
              "  width: 10em;\n",
              "  height: 80%;\n",
              "  background: linear-gradient(90deg,#c778c8 85.4%, transparent 85.4%);\n",
              "  color: #251e1b;\n",
              "  font-size: 12px;\n",
              "}\n",
              "#T_eb564_row0_col2 {\n",
              "  text-align: center;\n",
              "  width: 10em;\n",
              "  height: 80%;\n",
              "  background: linear-gradient(90deg,#ff4971 85.5%, transparent 85.5%);\n",
              "  color: #251e1b;\n",
              "  font-size: 12px;\n",
              "}\n",
              "#T_eb564_row0_col3 {\n",
              "  text-align: center;\n",
              "  width: 10em;\n",
              "  height: 80%;\n",
              "  background: linear-gradient(90deg,#aadbaa 85.4%, transparent 85.4%);\n",
              "  color: #251e1b;\n",
              "  font-size: 12px;\n",
              "}\n",
              "#T_eb564_row0_col4, #T_eb564_row0_col5, #T_eb564_row0_col6, #T_eb564_row0_col7, #T_eb564_row0_col8, #T_eb564_row0_col9, #T_eb564_row0_col10, #T_eb564_row0_col11, #T_eb564_row0_col12, #T_eb564_row0_col13, #T_eb564_row0_col14, #T_eb564_row0_col15, #T_eb564_row0_col16, #T_eb564_row0_col17, #T_eb564_row0_col18, #T_eb564_row0_col19, #T_eb564_row0_col20, #T_eb564_row1_col4, #T_eb564_row1_col5, #T_eb564_row1_col6, #T_eb564_row1_col7, #T_eb564_row1_col8, #T_eb564_row1_col9, #T_eb564_row1_col10, #T_eb564_row1_col11, #T_eb564_row1_col12, #T_eb564_row1_col13, #T_eb564_row1_col14, #T_eb564_row1_col15, #T_eb564_row1_col16, #T_eb564_row1_col17, #T_eb564_row1_col18, #T_eb564_row1_col19, #T_eb564_row1_col20, #T_eb564_row2_col4, #T_eb564_row2_col5, #T_eb564_row2_col6, #T_eb564_row2_col7, #T_eb564_row2_col8, #T_eb564_row2_col9, #T_eb564_row2_col10, #T_eb564_row2_col11, #T_eb564_row2_col12, #T_eb564_row2_col13, #T_eb564_row2_col14, #T_eb564_row2_col15, #T_eb564_row2_col16, #T_eb564_row2_col17, #T_eb564_row2_col18, #T_eb564_row2_col19, #T_eb564_row2_col20, #T_eb564_row3_col4, #T_eb564_row3_col5, #T_eb564_row3_col6, #T_eb564_row3_col7, #T_eb564_row3_col8, #T_eb564_row3_col9, #T_eb564_row3_col10, #T_eb564_row3_col11, #T_eb564_row3_col12, #T_eb564_row3_col13, #T_eb564_row3_col14, #T_eb564_row3_col15, #T_eb564_row3_col16, #T_eb564_row3_col17, #T_eb564_row3_col18, #T_eb564_row3_col19, #T_eb564_row3_col20, #T_eb564_row4_col4, #T_eb564_row4_col5, #T_eb564_row4_col6, #T_eb564_row4_col7, #T_eb564_row4_col8, #T_eb564_row4_col9, #T_eb564_row4_col10, #T_eb564_row4_col11, #T_eb564_row4_col12, #T_eb564_row4_col13, #T_eb564_row4_col14, #T_eb564_row4_col15, #T_eb564_row4_col16, #T_eb564_row4_col17, #T_eb564_row4_col18, #T_eb564_row4_col19, #T_eb564_row4_col20 {\n",
              "  text-align: center;\n",
              "}\n",
              "#T_eb564_row1_col0 {\n",
              "  text-align: center;\n",
              "  width: 10em;\n",
              "  height: 80%;\n",
              "  background: linear-gradient(90deg,#f5f8d6 85.3%, transparent 85.3%);\n",
              "  color: #251e1b;\n",
              "  font-size: 12px;\n",
              "}\n",
              "#T_eb564_row1_col1 {\n",
              "  text-align: center;\n",
              "  width: 10em;\n",
              "  height: 80%;\n",
              "  background: linear-gradient(90deg,#c778c8 85.3%, transparent 85.3%);\n",
              "  color: #251e1b;\n",
              "  font-size: 12px;\n",
              "}\n",
              "#T_eb564_row1_col2 {\n",
              "  text-align: center;\n",
              "  width: 10em;\n",
              "  height: 80%;\n",
              "  background: linear-gradient(90deg,#ff4971 85.4%, transparent 85.4%);\n",
              "  color: #251e1b;\n",
              "  font-size: 12px;\n",
              "}\n",
              "#T_eb564_row1_col3 {\n",
              "  text-align: center;\n",
              "  width: 10em;\n",
              "  height: 80%;\n",
              "  background: linear-gradient(90deg,#aadbaa 85.3%, transparent 85.3%);\n",
              "  color: #251e1b;\n",
              "  font-size: 12px;\n",
              "}\n",
              "#T_eb564_row2_col0 {\n",
              "  text-align: center;\n",
              "  width: 10em;\n",
              "  height: 80%;\n",
              "  background: linear-gradient(90deg,#f5f8d6 84.8%, transparent 84.8%);\n",
              "  color: #251e1b;\n",
              "  font-size: 12px;\n",
              "}\n",
              "#T_eb564_row2_col1 {\n",
              "  text-align: center;\n",
              "  width: 10em;\n",
              "  height: 80%;\n",
              "  background: linear-gradient(90deg,#c778c8 84.8%, transparent 84.8%);\n",
              "  color: #251e1b;\n",
              "  font-size: 12px;\n",
              "}\n",
              "#T_eb564_row2_col2 {\n",
              "  text-align: center;\n",
              "  width: 10em;\n",
              "  height: 80%;\n",
              "  background: linear-gradient(90deg,#ff4971 85.1%, transparent 85.1%);\n",
              "  color: #251e1b;\n",
              "  font-size: 12px;\n",
              "}\n",
              "#T_eb564_row2_col3 {\n",
              "  text-align: center;\n",
              "  width: 10em;\n",
              "  height: 80%;\n",
              "  background: linear-gradient(90deg,#aadbaa 84.8%, transparent 84.8%);\n",
              "  color: #251e1b;\n",
              "  font-size: 12px;\n",
              "}\n",
              "#T_eb564_row3_col0 {\n",
              "  text-align: center;\n",
              "  width: 10em;\n",
              "  height: 80%;\n",
              "  background: linear-gradient(90deg,#f5f8d6 84.3%, transparent 84.3%);\n",
              "  color: #251e1b;\n",
              "  font-size: 12px;\n",
              "}\n",
              "#T_eb564_row3_col1 {\n",
              "  text-align: center;\n",
              "  width: 10em;\n",
              "  height: 80%;\n",
              "  background: linear-gradient(90deg,#c778c8 84.2%, transparent 84.2%);\n",
              "  color: #251e1b;\n",
              "  font-size: 12px;\n",
              "}\n",
              "#T_eb564_row3_col2 {\n",
              "  text-align: center;\n",
              "  width: 10em;\n",
              "  height: 80%;\n",
              "  background: linear-gradient(90deg,#ff4971 84.5%, transparent 84.5%);\n",
              "  color: #251e1b;\n",
              "  font-size: 12px;\n",
              "}\n",
              "#T_eb564_row3_col3 {\n",
              "  text-align: center;\n",
              "  width: 10em;\n",
              "  height: 80%;\n",
              "  background: linear-gradient(90deg,#aadbaa 84.3%, transparent 84.3%);\n",
              "  color: #251e1b;\n",
              "  font-size: 12px;\n",
              "}\n",
              "#T_eb564_row4_col0 {\n",
              "  text-align: center;\n",
              "  width: 10em;\n",
              "  height: 80%;\n",
              "  background: linear-gradient(90deg,#f5f8d6 83.9%, transparent 83.9%);\n",
              "  color: #251e1b;\n",
              "  font-size: 12px;\n",
              "}\n",
              "#T_eb564_row4_col1 {\n",
              "  text-align: center;\n",
              "  width: 10em;\n",
              "  height: 80%;\n",
              "  background: linear-gradient(90deg,#c778c8 83.7%, transparent 83.7%);\n",
              "  color: #251e1b;\n",
              "  font-size: 12px;\n",
              "}\n",
              "#T_eb564_row4_col2 {\n",
              "  text-align: center;\n",
              "  width: 10em;\n",
              "  height: 80%;\n",
              "  background: linear-gradient(90deg,#ff4971 85.0%, transparent 85.0%);\n",
              "  color: #251e1b;\n",
              "  font-size: 12px;\n",
              "}\n",
              "#T_eb564_row4_col3 {\n",
              "  text-align: center;\n",
              "  width: 10em;\n",
              "  height: 80%;\n",
              "  background: linear-gradient(90deg,#aadbaa 83.9%, transparent 83.9%);\n",
              "  color: #251e1b;\n",
              "  font-size: 12px;\n",
              "}\n",
              "</style>\n",
              "<table id=\"T_eb564_\" class=\"dataframe\">\n",
              "  <thead>\n",
              "    <tr>\n",
              "      <th class=\"blank level0\" >&nbsp;</th>\n",
              "      <th class=\"col_heading level0 col0\" >accuracy</th>\n",
              "      <th class=\"col_heading level0 col1\" >f1_score</th>\n",
              "      <th class=\"col_heading level0 col2\" >precision</th>\n",
              "      <th class=\"col_heading level0 col3\" >recall</th>\n",
              "      <th class=\"col_heading level0 col4\" >ml_framework</th>\n",
              "      <th class=\"col_heading level0 col5\" >transfer_learning</th>\n",
              "      <th class=\"col_heading level0 col6\" >deep_learning</th>\n",
              "      <th class=\"col_heading level0 col7\" >model_type</th>\n",
              "      <th class=\"col_heading level0 col8\" >depth</th>\n",
              "      <th class=\"col_heading level0 col9\" >num_params</th>\n",
              "      <th class=\"col_heading level0 col10\" >embedding_layers</th>\n",
              "      <th class=\"col_heading level0 col11\" >lstm_layers</th>\n",
              "      <th class=\"col_heading level0 col12\" >dense_layers</th>\n",
              "      <th class=\"col_heading level0 col13\" >flatten_layers</th>\n",
              "      <th class=\"col_heading level0 col14\" >tanh_act</th>\n",
              "      <th class=\"col_heading level0 col15\" >softmax_act</th>\n",
              "      <th class=\"col_heading level0 col16\" >loss</th>\n",
              "      <th class=\"col_heading level0 col17\" >optimizer</th>\n",
              "      <th class=\"col_heading level0 col18\" >memory_size</th>\n",
              "      <th class=\"col_heading level0 col19\" >username</th>\n",
              "      <th class=\"col_heading level0 col20\" >version</th>\n",
              "    </tr>\n",
              "  </thead>\n",
              "  <tbody>\n",
              "    <tr>\n",
              "      <th id=\"T_eb564_level0_row0\" class=\"row_heading level0 row0\" >0</th>\n",
              "      <td id=\"T_eb564_row0_col0\" class=\"data row0 col0\" >85.44%</td>\n",
              "      <td id=\"T_eb564_row0_col1\" class=\"data row0 col1\" >85.43%</td>\n",
              "      <td id=\"T_eb564_row0_col2\" class=\"data row0 col2\" >85.53%</td>\n",
              "      <td id=\"T_eb564_row0_col3\" class=\"data row0 col3\" >85.44%</td>\n",
              "      <td id=\"T_eb564_row0_col4\" class=\"data row0 col4\" >keras</td>\n",
              "      <td id=\"T_eb564_row0_col5\" class=\"data row0 col5\" >False</td>\n",
              "      <td id=\"T_eb564_row0_col6\" class=\"data row0 col6\" >True</td>\n",
              "      <td id=\"T_eb564_row0_col7\" class=\"data row0 col7\" >Sequential</td>\n",
              "      <td id=\"T_eb564_row0_col8\" class=\"data row0 col8\" >4</td>\n",
              "      <td id=\"T_eb564_row0_col9\" class=\"data row0 col9\" >883714</td>\n",
              "      <td id=\"T_eb564_row0_col10\" class=\"data row0 col10\" >1</td>\n",
              "      <td id=\"T_eb564_row0_col11\" class=\"data row0 col11\" >1.000000</td>\n",
              "      <td id=\"T_eb564_row0_col12\" class=\"data row0 col12\" >1</td>\n",
              "      <td id=\"T_eb564_row0_col13\" class=\"data row0 col13\" >1</td>\n",
              "      <td id=\"T_eb564_row0_col14\" class=\"data row0 col14\" >1.000000</td>\n",
              "      <td id=\"T_eb564_row0_col15\" class=\"data row0 col15\" >1</td>\n",
              "      <td id=\"T_eb564_row0_col16\" class=\"data row0 col16\" >str</td>\n",
              "      <td id=\"T_eb564_row0_col17\" class=\"data row0 col17\" >RMSprop</td>\n",
              "      <td id=\"T_eb564_row0_col18\" class=\"data row0 col18\" >6500600</td>\n",
              "      <td id=\"T_eb564_row0_col19\" class=\"data row0 col19\" >AIModelShare</td>\n",
              "      <td id=\"T_eb564_row0_col20\" class=\"data row0 col20\" >5</td>\n",
              "    </tr>\n",
              "    <tr>\n",
              "      <th id=\"T_eb564_level0_row1\" class=\"row_heading level0 row1\" >1</th>\n",
              "      <td id=\"T_eb564_row1_col0\" class=\"data row1 col0\" >85.34%</td>\n",
              "      <td id=\"T_eb564_row1_col1\" class=\"data row1 col1\" >85.34%</td>\n",
              "      <td id=\"T_eb564_row1_col2\" class=\"data row1 col2\" >85.41%</td>\n",
              "      <td id=\"T_eb564_row1_col3\" class=\"data row1 col3\" >85.34%</td>\n",
              "      <td id=\"T_eb564_row1_col4\" class=\"data row1 col4\" >keras</td>\n",
              "      <td id=\"T_eb564_row1_col5\" class=\"data row1 col5\" >False</td>\n",
              "      <td id=\"T_eb564_row1_col6\" class=\"data row1 col6\" >True</td>\n",
              "      <td id=\"T_eb564_row1_col7\" class=\"data row1 col7\" >Sequential</td>\n",
              "      <td id=\"T_eb564_row1_col8\" class=\"data row1 col8\" >3</td>\n",
              "      <td id=\"T_eb564_row1_col9\" class=\"data row1 col9\" >83202</td>\n",
              "      <td id=\"T_eb564_row1_col10\" class=\"data row1 col10\" >1</td>\n",
              "      <td id=\"T_eb564_row1_col11\" class=\"data row1 col11\" >nan</td>\n",
              "      <td id=\"T_eb564_row1_col12\" class=\"data row1 col12\" >1</td>\n",
              "      <td id=\"T_eb564_row1_col13\" class=\"data row1 col13\" >1</td>\n",
              "      <td id=\"T_eb564_row1_col14\" class=\"data row1 col14\" >nan</td>\n",
              "      <td id=\"T_eb564_row1_col15\" class=\"data row1 col15\" >1</td>\n",
              "      <td id=\"T_eb564_row1_col16\" class=\"data row1 col16\" >str</td>\n",
              "      <td id=\"T_eb564_row1_col17\" class=\"data row1 col17\" >RMSprop</td>\n",
              "      <td id=\"T_eb564_row1_col18\" class=\"data row1 col18\" >1413536</td>\n",
              "      <td id=\"T_eb564_row1_col19\" class=\"data row1 col19\" >AIModelShare</td>\n",
              "      <td id=\"T_eb564_row1_col20\" class=\"data row1 col20\" >3</td>\n",
              "    </tr>\n",
              "    <tr>\n",
              "      <th id=\"T_eb564_level0_row2\" class=\"row_heading level0 row2\" >2</th>\n",
              "      <td id=\"T_eb564_row2_col0\" class=\"data row2 col0\" >84.80%</td>\n",
              "      <td id=\"T_eb564_row2_col1\" class=\"data row2 col1\" >84.77%</td>\n",
              "      <td id=\"T_eb564_row2_col2\" class=\"data row2 col2\" >85.06%</td>\n",
              "      <td id=\"T_eb564_row2_col3\" class=\"data row2 col3\" >84.80%</td>\n",
              "      <td id=\"T_eb564_row2_col4\" class=\"data row2 col4\" >keras</td>\n",
              "      <td id=\"T_eb564_row2_col5\" class=\"data row2 col5\" >False</td>\n",
              "      <td id=\"T_eb564_row2_col6\" class=\"data row2 col6\" >True</td>\n",
              "      <td id=\"T_eb564_row2_col7\" class=\"data row2 col7\" >Sequential</td>\n",
              "      <td id=\"T_eb564_row2_col8\" class=\"data row2 col8\" >3</td>\n",
              "      <td id=\"T_eb564_row2_col9\" class=\"data row2 col9\" >83202</td>\n",
              "      <td id=\"T_eb564_row2_col10\" class=\"data row2 col10\" >1</td>\n",
              "      <td id=\"T_eb564_row2_col11\" class=\"data row2 col11\" >nan</td>\n",
              "      <td id=\"T_eb564_row2_col12\" class=\"data row2 col12\" >1</td>\n",
              "      <td id=\"T_eb564_row2_col13\" class=\"data row2 col13\" >1</td>\n",
              "      <td id=\"T_eb564_row2_col14\" class=\"data row2 col14\" >nan</td>\n",
              "      <td id=\"T_eb564_row2_col15\" class=\"data row2 col15\" >1</td>\n",
              "      <td id=\"T_eb564_row2_col16\" class=\"data row2 col16\" >function</td>\n",
              "      <td id=\"T_eb564_row2_col17\" class=\"data row2 col17\" >RMSprop</td>\n",
              "      <td id=\"T_eb564_row2_col18\" class=\"data row2 col18\" >145672</td>\n",
              "      <td id=\"T_eb564_row2_col19\" class=\"data row2 col19\" >AIModelShare</td>\n",
              "      <td id=\"T_eb564_row2_col20\" class=\"data row2 col20\" >1</td>\n",
              "    </tr>\n",
              "    <tr>\n",
              "      <th id=\"T_eb564_level0_row3\" class=\"row_heading level0 row3\" >3</th>\n",
              "      <td id=\"T_eb564_row3_col0\" class=\"data row3 col0\" >84.27%</td>\n",
              "      <td id=\"T_eb564_row3_col1\" class=\"data row3 col1\" >84.25%</td>\n",
              "      <td id=\"T_eb564_row3_col2\" class=\"data row3 col2\" >84.51%</td>\n",
              "      <td id=\"T_eb564_row3_col3\" class=\"data row3 col3\" >84.27%</td>\n",
              "      <td id=\"T_eb564_row3_col4\" class=\"data row3 col4\" >keras</td>\n",
              "      <td id=\"T_eb564_row3_col5\" class=\"data row3 col5\" >False</td>\n",
              "      <td id=\"T_eb564_row3_col6\" class=\"data row3 col6\" >True</td>\n",
              "      <td id=\"T_eb564_row3_col7\" class=\"data row3 col7\" >Sequential</td>\n",
              "      <td id=\"T_eb564_row3_col8\" class=\"data row3 col8\" >4</td>\n",
              "      <td id=\"T_eb564_row3_col9\" class=\"data row3 col9\" >86338</td>\n",
              "      <td id=\"T_eb564_row3_col10\" class=\"data row3 col10\" >1</td>\n",
              "      <td id=\"T_eb564_row3_col11\" class=\"data row3 col11\" >1.000000</td>\n",
              "      <td id=\"T_eb564_row3_col12\" class=\"data row3 col12\" >1</td>\n",
              "      <td id=\"T_eb564_row3_col13\" class=\"data row3 col13\" >1</td>\n",
              "      <td id=\"T_eb564_row3_col14\" class=\"data row3 col14\" >1.000000</td>\n",
              "      <td id=\"T_eb564_row3_col15\" class=\"data row3 col15\" >1</td>\n",
              "      <td id=\"T_eb564_row3_col16\" class=\"data row3 col16\" >function</td>\n",
              "      <td id=\"T_eb564_row3_col17\" class=\"data row3 col17\" >RMSprop</td>\n",
              "      <td id=\"T_eb564_row3_col18\" class=\"data row3 col18\" >1195144</td>\n",
              "      <td id=\"T_eb564_row3_col19\" class=\"data row3 col19\" >AIModelShare</td>\n",
              "      <td id=\"T_eb564_row3_col20\" class=\"data row3 col20\" >2</td>\n",
              "    </tr>\n",
              "    <tr>\n",
              "      <th id=\"T_eb564_level0_row4\" class=\"row_heading level0 row4\" >4</th>\n",
              "      <td id=\"T_eb564_row4_col0\" class=\"data row4 col0\" >83.87%</td>\n",
              "      <td id=\"T_eb564_row4_col1\" class=\"data row4 col1\" >83.74%</td>\n",
              "      <td id=\"T_eb564_row4_col2\" class=\"data row4 col2\" >85.05%</td>\n",
              "      <td id=\"T_eb564_row4_col3\" class=\"data row4 col3\" >83.87%</td>\n",
              "      <td id=\"T_eb564_row4_col4\" class=\"data row4 col4\" >keras</td>\n",
              "      <td id=\"T_eb564_row4_col5\" class=\"data row4 col5\" >False</td>\n",
              "      <td id=\"T_eb564_row4_col6\" class=\"data row4 col6\" >True</td>\n",
              "      <td id=\"T_eb564_row4_col7\" class=\"data row4 col7\" >Sequential</td>\n",
              "      <td id=\"T_eb564_row4_col8\" class=\"data row4 col8\" >5</td>\n",
              "      <td id=\"T_eb564_row4_col9\" class=\"data row4 col9\" >94658</td>\n",
              "      <td id=\"T_eb564_row4_col10\" class=\"data row4 col10\" >1</td>\n",
              "      <td id=\"T_eb564_row4_col11\" class=\"data row4 col11\" >2.000000</td>\n",
              "      <td id=\"T_eb564_row4_col12\" class=\"data row4 col12\" >1</td>\n",
              "      <td id=\"T_eb564_row4_col13\" class=\"data row4 col13\" >1</td>\n",
              "      <td id=\"T_eb564_row4_col14\" class=\"data row4 col14\" >2.000000</td>\n",
              "      <td id=\"T_eb564_row4_col15\" class=\"data row4 col15\" >1</td>\n",
              "      <td id=\"T_eb564_row4_col16\" class=\"data row4 col16\" >str</td>\n",
              "      <td id=\"T_eb564_row4_col17\" class=\"data row4 col17\" >RMSprop</td>\n",
              "      <td id=\"T_eb564_row4_col18\" class=\"data row4 col18\" >13478160</td>\n",
              "      <td id=\"T_eb564_row4_col19\" class=\"data row4 col19\" >AIModelShare</td>\n",
              "      <td id=\"T_eb564_row4_col20\" class=\"data row4 col20\" >4</td>\n",
              "    </tr>\n",
              "  </tbody>\n",
              "</table>\n"
            ]
          },
          "metadata": {},
          "execution_count": 22
        }
      ]
    },
    {
      "cell_type": "code",
      "metadata": {
        "id": "MKvPKyb7hT0h",
        "colab": {
          "base_uri": "https://localhost:8080/",
          "height": 144
        },
        "outputId": "2ff20a6e-4581-414f-d198-fb4fd7960005"
      },
      "source": [
        "# Compare two or more models \n",
        "data=mycompetition.compare_models([4,5], verbose=1)\n",
        "mycompetition.stylize_compare(data)"
      ],
      "execution_count": 23,
      "outputs": [
        {
          "output_type": "display_data",
          "data": {
            "text/plain": [
              "<IPython.core.display.HTML object>"
            ],
            "text/html": [
              "<style type=\"text/css\">\n",
              "#T_66292_ caption {\n",
              "  color: black;\n",
              "  font-size: 18px;\n",
              "}\n",
              "#T_66292_row0_col0, #T_66292_row0_col3 {\n",
              "  background: #f4cae4;\n",
              "  color: black;\n",
              "  color: black;\n",
              "}\n",
              "#T_66292_row0_col1, #T_66292_row0_col2, #T_66292_row0_col4, #T_66292_row0_col5, #T_66292_row1_col1, #T_66292_row1_col2, #T_66292_row1_col4, #T_66292_row1_col5, #T_66292_row2_col1, #T_66292_row2_col2, #T_66292_row2_col4, #T_66292_row2_col5, #T_66292_row3_col1, #T_66292_row3_col2, #T_66292_row3_col4, #T_66292_row3_col5, #T_66292_row4_col1, #T_66292_row4_col2, #T_66292_row4_col3, #T_66292_row4_col4, #T_66292_row4_col5 {\n",
              "  background: white;\n",
              "  color: black;\n",
              "  color: black;\n",
              "}\n",
              "#T_66292_row1_col0, #T_66292_row1_col3, #T_66292_row2_col0 {\n",
              "  background: #cbd5e8;\n",
              "  color: black;\n",
              "  color: black;\n",
              "}\n",
              "#T_66292_row2_col3, #T_66292_row3_col0 {\n",
              "  background: #e6f5c9;\n",
              "  color: black;\n",
              "  color: black;\n",
              "}\n",
              "#T_66292_row3_col3, #T_66292_row4_col0 {\n",
              "  background: #fff2ae;\n",
              "  color: black;\n",
              "  color: black;\n",
              "}\n",
              "</style>\n",
              "<table id=\"T_66292_\">\n",
              "  <caption>Model type: Neural Network</caption>\n",
              "  <thead>\n",
              "    <tr>\n",
              "      <th class=\"blank level0\" >&nbsp;</th>\n",
              "      <th class=\"col_heading level0 col0\" >Model_4_Layer</th>\n",
              "      <th class=\"col_heading level0 col1\" >Model_4_Shape</th>\n",
              "      <th class=\"col_heading level0 col2\" >Model_4_Params</th>\n",
              "      <th class=\"col_heading level0 col3\" >Model_5_Layer</th>\n",
              "      <th class=\"col_heading level0 col4\" >Model_5_Shape</th>\n",
              "      <th class=\"col_heading level0 col5\" >Model_5_Params</th>\n",
              "    </tr>\n",
              "  </thead>\n",
              "  <tbody>\n",
              "    <tr>\n",
              "      <th id=\"T_66292_level0_row0\" class=\"row_heading level0 row0\" >0</th>\n",
              "      <td id=\"T_66292_row0_col0\" class=\"data row0 col0\" >Embedding</td>\n",
              "      <td id=\"T_66292_row0_col1\" class=\"data row0 col1\" >[None, 100, 16]</td>\n",
              "      <td id=\"T_66292_row0_col2\" class=\"data row0 col2\" >80000</td>\n",
              "      <td id=\"T_66292_row0_col3\" class=\"data row0 col3\" >Embedding</td>\n",
              "      <td id=\"T_66292_row0_col4\" class=\"data row0 col4\" >[None, 100, 16]</td>\n",
              "      <td id=\"T_66292_row0_col5\" class=\"data row0 col5\" >80000.000000</td>\n",
              "    </tr>\n",
              "    <tr>\n",
              "      <th id=\"T_66292_level0_row1\" class=\"row_heading level0 row1\" >1</th>\n",
              "      <td id=\"T_66292_row1_col0\" class=\"data row1 col0\" >LSTM</td>\n",
              "      <td id=\"T_66292_row1_col1\" class=\"data row1 col1\" >[None, 100, 32]</td>\n",
              "      <td id=\"T_66292_row1_col2\" class=\"data row1 col2\" >6272</td>\n",
              "      <td id=\"T_66292_row1_col3\" class=\"data row1 col3\" >LSTM</td>\n",
              "      <td id=\"T_66292_row1_col4\" class=\"data row1 col4\" >[None, 100, 416]</td>\n",
              "      <td id=\"T_66292_row1_col5\" class=\"data row1 col5\" >720512.000000</td>\n",
              "    </tr>\n",
              "    <tr>\n",
              "      <th id=\"T_66292_level0_row2\" class=\"row_heading level0 row2\" >2</th>\n",
              "      <td id=\"T_66292_row2_col0\" class=\"data row2 col0\" >LSTM</td>\n",
              "      <td id=\"T_66292_row2_col1\" class=\"data row2 col1\" >[None, 32]</td>\n",
              "      <td id=\"T_66292_row2_col2\" class=\"data row2 col2\" >8320</td>\n",
              "      <td id=\"T_66292_row2_col3\" class=\"data row2 col3\" >Flatten</td>\n",
              "      <td id=\"T_66292_row2_col4\" class=\"data row2 col4\" >[None, 41600]</td>\n",
              "      <td id=\"T_66292_row2_col5\" class=\"data row2 col5\" >0.000000</td>\n",
              "    </tr>\n",
              "    <tr>\n",
              "      <th id=\"T_66292_level0_row3\" class=\"row_heading level0 row3\" >3</th>\n",
              "      <td id=\"T_66292_row3_col0\" class=\"data row3 col0\" >Flatten</td>\n",
              "      <td id=\"T_66292_row3_col1\" class=\"data row3 col1\" >[None, 32]</td>\n",
              "      <td id=\"T_66292_row3_col2\" class=\"data row3 col2\" >0</td>\n",
              "      <td id=\"T_66292_row3_col3\" class=\"data row3 col3\" >Dense</td>\n",
              "      <td id=\"T_66292_row3_col4\" class=\"data row3 col4\" >[None, 2]</td>\n",
              "      <td id=\"T_66292_row3_col5\" class=\"data row3 col5\" >83202.000000</td>\n",
              "    </tr>\n",
              "    <tr>\n",
              "      <th id=\"T_66292_level0_row4\" class=\"row_heading level0 row4\" >4</th>\n",
              "      <td id=\"T_66292_row4_col0\" class=\"data row4 col0\" >Dense</td>\n",
              "      <td id=\"T_66292_row4_col1\" class=\"data row4 col1\" >[None, 2]</td>\n",
              "      <td id=\"T_66292_row4_col2\" class=\"data row4 col2\" >66</td>\n",
              "      <td id=\"T_66292_row4_col3\" class=\"data row4 col3\" >None</td>\n",
              "      <td id=\"T_66292_row4_col4\" class=\"data row4 col4\" >None</td>\n",
              "      <td id=\"T_66292_row4_col5\" class=\"data row4 col5\" >nan</td>\n",
              "    </tr>\n",
              "  </tbody>\n",
              "</table>\n"
            ]
          },
          "metadata": {}
        }
      ]
    }
  ]
}